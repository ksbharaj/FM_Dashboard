{
 "cells": [
  {
   "cell_type": "code",
   "execution_count": 1,
   "metadata": {},
   "outputs": [
    {
     "name": "stderr",
     "output_type": "stream",
     "text": [
      "d:\\Users\\ksbha\\miniconda3\\envs\\footy\\Lib\\site-packages\\snowflake\\connector\\options.py:103: UserWarning: You have an incompatible version of 'pyarrow' installed (12.0.1), please install a version that adheres to: 'pyarrow<10.1.0,>=10.0.1; extra == \"pandas\"'\n",
      "  warn_incompatible_dep(\n",
      "Failed to import ArrowResult. No Apache Arrow result set format can be used. ImportError: DLL load failed while importing arrow_iterator: The specified procedure could not be found.\n"
     ]
    }
   ],
   "source": [
    "import streamlit as st\n",
    "import pandas as pd\n",
    "import numpy as np\n",
    "import plotly.graph_objects as go\n",
    "\n",
    "import dash\n",
    "from dash import html, dcc, Input, Output\n",
    "\n",
    "from sqlalchemy import create_engine\n",
    "import snowflake.connector"
   ]
  },
  {
   "cell_type": "code",
   "execution_count": 2,
   "metadata": {},
   "outputs": [],
   "source": [
    "import snowflake.connector"
   ]
  },
  {
   "cell_type": "code",
   "execution_count": 3,
   "metadata": {},
   "outputs": [],
   "source": [
    "## Set options to view all columns\n",
    "pd.set_option('display.max_columns', None)"
   ]
  },
  {
   "cell_type": "code",
   "execution_count": 6,
   "metadata": {},
   "outputs": [],
   "source": [
    "SNOWFLAKE_USER = 'kbharaj3'\n",
    "SNOWFLAKE_PASSWORD = 'Snowfl@key0014'\n",
    "SNOWFLAKE_ACCOUNT = 'qx25653.ca-central-1.aws'\n",
    "SNOWFLAKE_WAREHOUSE = 'FOOTY_STORE'\n",
    "SNOWFLAKE_DATABASE = 'GEGENSTATS'\n",
    "SNOWFLAKE_SCHEMA = 'RADAR_CHARTS'"
   ]
  },
  {
   "cell_type": "code",
   "execution_count": 7,
   "metadata": {},
   "outputs": [],
   "source": [
    "conn = snowflake.connector.connect(\n",
    "    user=SNOWFLAKE_USER,\n",
    "    password=SNOWFLAKE_PASSWORD,\n",
    "    account=SNOWFLAKE_ACCOUNT,\n",
    "    warehouse=SNOWFLAKE_WAREHOUSE,\n",
    "    database=SNOWFLAKE_DATABASE,\n",
    "    schema=SNOWFLAKE_SCHEMA\n",
    ")"
   ]
  },
  {
   "cell_type": "code",
   "execution_count": 8,
   "metadata": {},
   "outputs": [],
   "source": [
    "cursor = conn.cursor()"
   ]
  },
  {
   "cell_type": "code",
   "execution_count": 14,
   "metadata": {},
   "outputs": [],
   "source": [
    "cursor.execute('SELECT * FROM STANDARD_RADAR')\n",
    "standad_chart_rows = cursor.fetchall()\n",
    "column_names = [desc[0] for desc in cursor.description]\n",
    "standard_chart_data = pd.DataFrame(standad_chart_rows, columns=column_names)"
   ]
  },
  {
   "cell_type": "code",
   "execution_count": 15,
   "metadata": {},
   "outputs": [],
   "source": [
    "cursor.execute('SELECT * FROM ATTACKING_RADAR')\n",
    "attacking_chart_rows = cursor.fetchall()\n",
    "column_names = [desc[0] for desc in cursor.description]\n",
    "attacking_chart_data = pd.DataFrame(attacking_chart_rows, columns=column_names)"
   ]
  },
  {
   "cell_type": "code",
   "execution_count": 16,
   "metadata": {},
   "outputs": [],
   "source": [
    "cursor.execute('SELECT * FROM DEFENDING_RADAR')\n",
    "defending_chart_rows = cursor.fetchall()\n",
    "column_names = [desc[0] for desc in cursor.description]\n",
    "defending_chart_data = pd.DataFrame(defending_chart_rows, columns=column_names)"
   ]
  },
  {
   "cell_type": "code",
   "execution_count": 17,
   "metadata": {},
   "outputs": [],
   "source": [
    "# standard_chart_data = pd.read_csv(r\"C:\\Users\\ksbha\\Documents\\Python Scripts\\Data Engineering Scraping project\\Shiny Data\\Standard_radar_chart_v2.csv\")"
   ]
  },
  {
   "cell_type": "code",
   "execution_count": 18,
   "metadata": {},
   "outputs": [],
   "source": [
    "# attacking_chart_data = pd.read_csv(r\"C:\\Users\\ksbha\\Documents\\Python Scripts\\Data Engineering Scraping project\\Shiny Data\\Attacking_radar_chart_v2.csv\")"
   ]
  },
  {
   "cell_type": "code",
   "execution_count": 19,
   "metadata": {},
   "outputs": [],
   "source": [
    "# defending_chart_data = pd.read_csv(r\"C:\\Users\\ksbha\\Documents\\Python Scripts\\Data Engineering Scraping project\\Shiny Data\\Defending_radar_chart_v2.csv\")"
   ]
  },
  {
   "cell_type": "code",
   "execution_count": 20,
   "metadata": {},
   "outputs": [],
   "source": [
    "team_data = standard_chart_data[standard_chart_data['TEAM_NAME'] == 'Brentford']"
   ]
  },
  {
   "cell_type": "code",
   "execution_count": 28,
   "metadata": {},
   "outputs": [
    {
     "data": {
      "text/html": [
       "<div>\n",
       "<style scoped>\n",
       "    .dataframe tbody tr th:only-of-type {\n",
       "        vertical-align: middle;\n",
       "    }\n",
       "\n",
       "    .dataframe tbody tr th {\n",
       "        vertical-align: top;\n",
       "    }\n",
       "\n",
       "    .dataframe thead th {\n",
       "        text-align: right;\n",
       "    }\n",
       "</style>\n",
       "<table border=\"1\" class=\"dataframe\">\n",
       "  <thead>\n",
       "    <tr style=\"text-align: right;\">\n",
       "      <th></th>\n",
       "      <th>SEASON</th>\n",
       "      <th>TEAM_NAME</th>\n",
       "      <th>VARIABLE</th>\n",
       "      <th>NORM_VALUE</th>\n",
       "      <th>VALUE</th>\n",
       "    </tr>\n",
       "  </thead>\n",
       "  <tbody>\n",
       "    <tr>\n",
       "      <th>32</th>\n",
       "      <td>2223</td>\n",
       "      <td>Brentford</td>\n",
       "      <td>Tackles Won (%)</td>\n",
       "      <td>0.430906</td>\n",
       "      <td>0.574106</td>\n",
       "    </tr>\n",
       "    <tr>\n",
       "      <th>33</th>\n",
       "      <td>2223</td>\n",
       "      <td>Brentford</td>\n",
       "      <td>NPxG/Game</td>\n",
       "      <td>0.437500</td>\n",
       "      <td>1.330000</td>\n",
       "    </tr>\n",
       "    <tr>\n",
       "      <th>34</th>\n",
       "      <td>2223</td>\n",
       "      <td>Brentford</td>\n",
       "      <td>Goals/Game</td>\n",
       "      <td>0.428571</td>\n",
       "      <td>1.526316</td>\n",
       "    </tr>\n",
       "    <tr>\n",
       "      <th>35</th>\n",
       "      <td>2223</td>\n",
       "      <td>Brentford</td>\n",
       "      <td>Shots/Game</td>\n",
       "      <td>0.168675</td>\n",
       "      <td>10.526316</td>\n",
       "    </tr>\n",
       "    <tr>\n",
       "      <th>36</th>\n",
       "      <td>2223</td>\n",
       "      <td>Brentford</td>\n",
       "      <td>Conceded/Game</td>\n",
       "      <td>0.711111</td>\n",
       "      <td>1.210526</td>\n",
       "    </tr>\n",
       "  </tbody>\n",
       "</table>\n",
       "</div>"
      ],
      "text/plain": [
       "    SEASON  TEAM_NAME         VARIABLE  NORM_VALUE      VALUE\n",
       "32    2223  Brentford  Tackles Won (%)    0.430906   0.574106\n",
       "33    2223  Brentford        NPxG/Game    0.437500   1.330000\n",
       "34    2223  Brentford       Goals/Game    0.428571   1.526316\n",
       "35    2223  Brentford       Shots/Game    0.168675  10.526316\n",
       "36    2223  Brentford    Conceded/Game    0.711111   1.210526"
      ]
     },
     "execution_count": 28,
     "metadata": {},
     "output_type": "execute_result"
    }
   ],
   "source": [
    "team_data.head()"
   ]
  },
  {
   "cell_type": "code",
   "execution_count": 25,
   "metadata": {},
   "outputs": [
    {
     "data": {
      "text/html": [
       "<div>\n",
       "<style scoped>\n",
       "    .dataframe tbody tr th:only-of-type {\n",
       "        vertical-align: middle;\n",
       "    }\n",
       "\n",
       "    .dataframe tbody tr th {\n",
       "        vertical-align: top;\n",
       "    }\n",
       "\n",
       "    .dataframe thead th {\n",
       "        text-align: right;\n",
       "    }\n",
       "</style>\n",
       "<table border=\"1\" class=\"dataframe\">\n",
       "  <thead>\n",
       "    <tr style=\"text-align: right;\">\n",
       "      <th></th>\n",
       "      <th>SEASON</th>\n",
       "      <th>TEAM_NAME</th>\n",
       "      <th>VARIABLE</th>\n",
       "      <th>NORM_VALUE</th>\n",
       "      <th>VALUE</th>\n",
       "    </tr>\n",
       "  </thead>\n",
       "  <tbody>\n",
       "    <tr>\n",
       "      <th>16</th>\n",
       "      <td>2223</td>\n",
       "      <td>Average_2223</td>\n",
       "      <td>Tackles Won (%)</td>\n",
       "      <td>0.530159</td>\n",
       "      <td>0.583351</td>\n",
       "    </tr>\n",
       "    <tr>\n",
       "      <th>17</th>\n",
       "      <td>2223</td>\n",
       "      <td>Average_2223</td>\n",
       "      <td>Conceded/Game</td>\n",
       "      <td>0.528889</td>\n",
       "      <td>1.426316</td>\n",
       "    </tr>\n",
       "    <tr>\n",
       "      <th>18</th>\n",
       "      <td>2223</td>\n",
       "      <td>Average_2223</td>\n",
       "      <td>NPxG/Game</td>\n",
       "      <td>0.428125</td>\n",
       "      <td>1.321000</td>\n",
       "    </tr>\n",
       "    <tr>\n",
       "      <th>19</th>\n",
       "      <td>2223</td>\n",
       "      <td>Average_2223</td>\n",
       "      <td>Goals/Game</td>\n",
       "      <td>0.368254</td>\n",
       "      <td>1.426316</td>\n",
       "    </tr>\n",
       "    <tr>\n",
       "      <th>20</th>\n",
       "      <td>2223</td>\n",
       "      <td>Average_2223</td>\n",
       "      <td>Shots On Target (%)</td>\n",
       "      <td>0.553671</td>\n",
       "      <td>0.330860</td>\n",
       "    </tr>\n",
       "    <tr>\n",
       "      <th>21</th>\n",
       "      <td>2223</td>\n",
       "      <td>Average_2223</td>\n",
       "      <td>Shots/Game</td>\n",
       "      <td>0.471888</td>\n",
       "      <td>12.513158</td>\n",
       "    </tr>\n",
       "    <tr>\n",
       "      <th>22</th>\n",
       "      <td>2223</td>\n",
       "      <td>Average_2223</td>\n",
       "      <td>xG Against/Game</td>\n",
       "      <td>0.378804</td>\n",
       "      <td>1.421500</td>\n",
       "    </tr>\n",
       "    <tr>\n",
       "      <th>23</th>\n",
       "      <td>2223</td>\n",
       "      <td>Average_2223</td>\n",
       "      <td>Pass Completion (%)</td>\n",
       "      <td>0.490848</td>\n",
       "      <td>0.785704</td>\n",
       "    </tr>\n",
       "  </tbody>\n",
       "</table>\n",
       "</div>"
      ],
      "text/plain": [
       "    SEASON     TEAM_NAME             VARIABLE  NORM_VALUE      VALUE\n",
       "16    2223  Average_2223      Tackles Won (%)    0.530159   0.583351\n",
       "17    2223  Average_2223        Conceded/Game    0.528889   1.426316\n",
       "18    2223  Average_2223            NPxG/Game    0.428125   1.321000\n",
       "19    2223  Average_2223           Goals/Game    0.368254   1.426316\n",
       "20    2223  Average_2223  Shots On Target (%)    0.553671   0.330860\n",
       "21    2223  Average_2223           Shots/Game    0.471888  12.513158\n",
       "22    2223  Average_2223      xG Against/Game    0.378804   1.421500\n",
       "23    2223  Average_2223  Pass Completion (%)    0.490848   0.785704"
      ]
     },
     "execution_count": 25,
     "metadata": {},
     "output_type": "execute_result"
    }
   ],
   "source": [
    "average_data = standard_chart_data[standard_chart_data['TEAM_NAME'] == 'Average_2223']\n",
    "average_data[average_data['SEASON'] == 2223]"
   ]
  },
  {
   "cell_type": "code",
   "execution_count": 40,
   "metadata": {},
   "outputs": [],
   "source": [
    "def create_radar_chart(season, team_name, data, chart_name):\n",
    "    team_data = data[data['TEAM_NAME'] == team_name]\n",
    "    average_data = data[data['TEAM_NAME'] == 'Average_2223']\n",
    "\n",
    "    team_data = team_data[team_data['SEASON'] == season]\n",
    "    average_data = average_data[average_data['SEASON'] == season]\n",
    "\n",
    "    # Prepare data for plotting\n",
    "    categories = team_data['VARIABLE']\n",
    "    norm_values = team_data['NORM_VALUE']\n",
    "    average_norm_values = average_data['NORM_VALUE']\n",
    "    values = team_data['VALUE']\n",
    "\n",
    "    difference = [golden - average for golden, average in zip(norm_values, average_norm_values)]\n",
    "\n",
    "    hover_text = (\n",
    "    \"<span style='font-size: 20px; color: #d3d3d3;'>%{theta}</span><br>\"\n",
    "    \"<span style='font-size: 20px; color: white;'>Value: %{customdata[0]:.2f}</span><br>\"\n",
    "    \"<span style='font-size: 15px; color: #d3d3d3;'>Difference from Average: %{customdata[1]:.2f}</span><extra></extra>\"\n",
    "    )\n",
    "\n",
    "    # Create radar chart\n",
    "    fig = go.Figure()\n",
    "\n",
    "    fig.add_trace(go.Scatterpolar(\n",
    "        r=average_norm_values,\n",
    "        theta=categories,\n",
    "        name='AVERAGE',\n",
    "        fillcolor='rgba(100, 100, 100, 0.65)',  # Different color for distinction\n",
    "        line_color='rgba(100, 100, 100, 1)', # Line colour for Average plot\n",
    "        fill='toself',\n",
    "        customdata=np.stack((values, difference), axis=-1),\n",
    "        hovertemplate=hover_text,\n",
    "        marker=dict(\n",
    "            size=1  # Hides the markers by setting their size to zero\n",
    "        )\n",
    "    ))\n",
    "\n",
    "    fig.add_trace(go.Scatterpolar(\n",
    "        r=norm_values,\n",
    "        theta=categories,\n",
    "        name=team_name,\n",
    "        opacity=0.6,\n",
    "        fillcolor='rgba(210, 210, 0, 0.6)',  # Adjusted for lighter opaque fill\n",
    "        line_color='rgba(210, 210, 0, 1)',  # Adjusted for lighter line color\n",
    "        fill='toself',\n",
    "        customdata=np.stack((values, difference), axis=-1),\n",
    "        hovertemplate=hover_text,\n",
    "        marker=dict(\n",
    "            size=1  # Hides the markers by setting their size to zero\n",
    "        )\n",
    "    ))\n",
    "\n",
    "    fig.add_layout_image(\n",
    "        dict(\n",
    "            source='https://i.imgur.com/9yKFcv4.png',\n",
    "            xref=\"paper\", yref=\"paper\",\n",
    "            x=0.16, y=1,\n",
    "            sizex=1.05, sizey=1.05,\n",
    "            opacity=0.7,  # Adjust opacity as needed\n",
    "            layer=\"below\"\n",
    "        )\n",
    "    )\n",
    "\n",
    "    for i, (value, category) in enumerate(zip(values, categories)):\n",
    "        angle = (i / float(len(categories))) * 2 * np.pi \n",
    "        x = 0.5 + (1.1) * np.cos(angle) / 2\n",
    "        y = 0.48 + (1.1) * np.sin(angle) / 1.8\n",
    "\n",
    "        annotation_text = \\\n",
    "        f\"<span style='font-size: 15px;'><b>{category}</b></span><br>\" \\\n",
    "        f\"<span style='line-height: 2px;'>&nbsp;</span><br>\" \\\n",
    "        f\"<span style='font-size: 20px; color: rgba(210, 210, 0, 1);'>{value:.2f}</span>\"\n",
    "\n",
    "        fig.add_annotation(\n",
    "            x=x,\n",
    "            y=y,\n",
    "            xref=\"paper\",\n",
    "            yref=\"paper\",\n",
    "            text=annotation_text,  # Bold category name and value\n",
    "            showarrow=False,\n",
    "            font=dict(size=10, color='white'),\n",
    "            align=\"center\",\n",
    "            xanchor='center',\n",
    "            yanchor='middle',\n",
    "        )\n",
    "\n",
    "    # Update layout\n",
    "    fig.update_layout(\n",
    "        autosize=False,\n",
    "        width=800,  # Set the width\n",
    "        height=600,  # Set the height\n",
    "        polar=dict(\n",
    "            bgcolor='rgba(0,0,0,0)',\n",
    "            radialaxis=dict(\n",
    "                visible=False,\n",
    "                range=[0, 1],\n",
    "                linecolor='rgba(17, 17, 17, 1)',\n",
    "                showline=False,\n",
    "                gridcolor='white'\n",
    "            ),\n",
    "            angularaxis=dict(\n",
    "                showline=False,  # Hide angular axis line\n",
    "                gridcolor='rgba(0,0,0,0)',\n",
    "                showticklabels=False  \n",
    "            )\n",
    "        ),\n",
    "        paper_bgcolor='rgb(70, 70, 70)',      \n",
    "        showlegend=False,\n",
    "        title=f'{chart_name} for {team_name}',\n",
    "        hoverlabel=dict(\n",
    "            bgcolor=\"rgba(20, 20, 20, 0.8)\",\n",
    "            font_family=\"Roboto, sans-serif\",\n",
    "            bordercolor=\"rgba(20, 20, 20, 0.8)\",),\n",
    "        font=dict(\n",
    "            family=\"Roboto, sans-serif\",  # Specify the font family\n",
    "            size=15,                     # Specify the font size\n",
    "            color=\"white\"                # Specify the font color\n",
    "        )\n",
    "    )\n",
    "\n",
    "    return fig\n",
    "\n"
   ]
  },
  {
   "cell_type": "code",
   "execution_count": 41,
   "metadata": {},
   "outputs": [
    {
     "data": {
      "application/vnd.plotly.v1+json": {
       "config": {
        "plotlyServerURL": "https://plotly.com"
       },
       "data": [
        {
         "customdata": [
          [
           0.5774946921,
           -0.009795529999999997
          ],
          [
           0.8684210526,
           0.47111111110000004
          ],
          [
           9.131578947,
           0.4698407923
          ],
          [
           10.578947368,
           -0.4726287263
          ],
          [
           5.868421053,
           -0.5721698113
          ],
          [
           2.5,
           -0.3706672803
          ],
          [
           12.394736842,
           -0.3788043478
          ],
          [
           0.85,
           0.45904
          ]
         ],
         "fill": "toself",
         "fillcolor": "rgba(100, 100, 100, 0.65)",
         "hovertemplate": "<span style='font-size: 20px; color: #d3d3d3;'>%{theta}</span><br><span style='font-size: 20px; color: white;'>Value: %{customdata[0]:.2f}</span><br><span style='font-size: 15px; color: #d3d3d3;'>Difference from Average: %{customdata[1]:.2f}</span><extra></extra>",
         "line": {
          "color": "rgba(100, 100, 100, 1)"
         },
         "marker": {
          "size": 1
         },
         "name": "AVERAGE",
         "r": [
          0.4770833333,
          0.5288888889,
          0.5301592077,
          0.4726287263,
          0.5721698113,
          0.5687804878,
          0.3788043478,
          0.54096
         ],
         "theta": [
          "Tackles Won (%)",
          "Conceded/Game",
          "Fouls Made/Game",
          "Clearances/Game",
          "Interceptions/Game",
          "Blocked Shots/Game",
          "Tackles Attempted/Game",
          "xG Against/Game"
         ],
         "type": "scatterpolar"
        },
        {
         "customdata": [
          [
           0.5774946921,
           -0.009795529999999997
          ],
          [
           0.8684210526,
           0.47111111110000004
          ],
          [
           9.131578947,
           0.4698407923
          ],
          [
           10.578947368,
           -0.4726287263
          ],
          [
           5.868421053,
           -0.5721698113
          ],
          [
           2.5,
           -0.3706672803
          ],
          [
           12.394736842,
           -0.3788043478
          ],
          [
           0.85,
           0.45904
          ]
         ],
         "fill": "toself",
         "fillcolor": "rgba(210, 210, 0, 0.6)",
         "hovertemplate": "<span style='font-size: 20px; color: #d3d3d3;'>%{theta}</span><br><span style='font-size: 20px; color: white;'>Value: %{customdata[0]:.2f}</span><br><span style='font-size: 15px; color: #d3d3d3;'>Difference from Average: %{customdata[1]:.2f}</span><extra></extra>",
         "line": {
          "color": "rgba(210, 210, 0, 1)"
         },
         "marker": {
          "size": 1
         },
         "name": "Manchester City",
         "opacity": 0.6,
         "r": [
          0.4672878033,
          1,
          1,
          0,
          0,
          0.1981132075,
          0,
          1
         ],
         "theta": [
          "Tackles Won (%)",
          "Conceded/Game",
          "Fouls Made/Game",
          "Clearances/Game",
          "Interceptions/Game",
          "Blocked Shots/Game",
          "Tackles Attempted/Game",
          "xG Against/Game"
         ],
         "type": "scatterpolar"
        }
       ],
       "layout": {
        "annotations": [
         {
          "align": "center",
          "font": {
           "color": "white",
           "size": 10
          },
          "showarrow": false,
          "text": "<span style='font-size: 15px;'><b>Tackles Won (%)</b></span><br><span style='line-height: 2px;'>&nbsp;</span><br><span style='font-size: 20px; color: rgba(210, 210, 0, 1);'>0.58</span>",
          "x": 1.05,
          "xanchor": "center",
          "xref": "paper",
          "y": 0.48,
          "yanchor": "middle",
          "yref": "paper"
         },
         {
          "align": "center",
          "font": {
           "color": "white",
           "size": 10
          },
          "showarrow": false,
          "text": "<span style='font-size: 15px;'><b>Conceded/Game</b></span><br><span style='line-height: 2px;'>&nbsp;</span><br><span style='font-size: 20px; color: rgba(210, 210, 0, 1);'>0.87</span>",
          "x": 0.8889087296526013,
          "xanchor": "center",
          "xref": "paper",
          "y": 0.9121208107251124,
          "yanchor": "middle",
          "yref": "paper"
         },
         {
          "align": "center",
          "font": {
           "color": "white",
           "size": 10
          },
          "showarrow": false,
          "text": "<span style='font-size: 15px;'><b>Fouls Made/Game</b></span><br><span style='line-height: 2px;'>&nbsp;</span><br><span style='font-size: 20px; color: rgba(210, 210, 0, 1);'>9.13</span>",
          "x": 0.5,
          "xanchor": "center",
          "xref": "paper",
          "y": 1.0911111111111111,
          "yanchor": "middle",
          "yref": "paper"
         },
         {
          "align": "center",
          "font": {
           "color": "white",
           "size": 10
          },
          "showarrow": false,
          "text": "<span style='font-size: 15px;'><b>Clearances/Game</b></span><br><span style='line-height: 2px;'>&nbsp;</span><br><span style='font-size: 20px; color: rgba(210, 210, 0, 1);'>10.58</span>",
          "x": 0.11109127034739885,
          "xanchor": "center",
          "xref": "paper",
          "y": 0.9121208107251124,
          "yanchor": "middle",
          "yref": "paper"
         },
         {
          "align": "center",
          "font": {
           "color": "white",
           "size": 10
          },
          "showarrow": false,
          "text": "<span style='font-size: 15px;'><b>Interceptions/Game</b></span><br><span style='line-height: 2px;'>&nbsp;</span><br><span style='font-size: 20px; color: rgba(210, 210, 0, 1);'>5.87</span>",
          "x": -0.050000000000000044,
          "xanchor": "center",
          "xref": "paper",
          "y": 0.48000000000000004,
          "yanchor": "middle",
          "yref": "paper"
         },
         {
          "align": "center",
          "font": {
           "color": "white",
           "size": 10
          },
          "showarrow": false,
          "text": "<span style='font-size: 15px;'><b>Blocked Shots/Game</b></span><br><span style='line-height: 2px;'>&nbsp;</span><br><span style='font-size: 20px; color: rgba(210, 210, 0, 1);'>2.50</span>",
          "x": 0.11109127034739874,
          "xanchor": "center",
          "xref": "paper",
          "y": 0.0478791892748876,
          "yanchor": "middle",
          "yref": "paper"
         },
         {
          "align": "center",
          "font": {
           "color": "white",
           "size": 10
          },
          "showarrow": false,
          "text": "<span style='font-size: 15px;'><b>Tackles Attempted/Game</b></span><br><span style='line-height: 2px;'>&nbsp;</span><br><span style='font-size: 20px; color: rgba(210, 210, 0, 1);'>12.39</span>",
          "x": 0.4999999999999999,
          "xanchor": "center",
          "xref": "paper",
          "y": -0.13111111111111118,
          "yanchor": "middle",
          "yref": "paper"
         },
         {
          "align": "center",
          "font": {
           "color": "white",
           "size": 10
          },
          "showarrow": false,
          "text": "<span style='font-size: 15px;'><b>xG Against/Game</b></span><br><span style='line-height: 2px;'>&nbsp;</span><br><span style='font-size: 20px; color: rgba(210, 210, 0, 1);'>0.85</span>",
          "x": 0.888908729652601,
          "xanchor": "center",
          "xref": "paper",
          "y": 0.04787918927488749,
          "yanchor": "middle",
          "yref": "paper"
         }
        ],
        "autosize": false,
        "font": {
         "color": "white",
         "family": "Roboto, sans-serif",
         "size": 15
        },
        "height": 600,
        "hoverlabel": {
         "bgcolor": "rgba(20, 20, 20, 0.8)",
         "bordercolor": "rgba(20, 20, 20, 0.8)",
         "font": {
          "family": "Roboto, sans-serif"
         }
        },
        "images": [
         {
          "layer": "below",
          "opacity": 0.7,
          "sizex": 1.05,
          "sizey": 1.05,
          "source": "https://i.imgur.com/9yKFcv4.png",
          "x": 0.16,
          "xref": "paper",
          "y": 1,
          "yref": "paper"
         }
        ],
        "paper_bgcolor": "rgb(70, 70, 70)",
        "polar": {
         "angularaxis": {
          "gridcolor": "rgba(0,0,0,0)",
          "showline": false,
          "showticklabels": false
         },
         "bgcolor": "rgba(0,0,0,0)",
         "radialaxis": {
          "gridcolor": "white",
          "linecolor": "rgba(17, 17, 17, 1)",
          "range": [
           0,
           1
          ],
          "showline": false,
          "visible": false
         }
        },
        "showlegend": false,
        "template": {
         "data": {
          "candlestick": [
           {
            "decreasing": {
             "line": {
              "color": "#000033"
             }
            },
            "increasing": {
             "line": {
              "color": "#000032"
             }
            },
            "type": "candlestick"
           }
          ],
          "contour": [
           {
            "colorscale": [
             [
              0,
              "#000011"
             ],
             [
              0.1111111111111111,
              "#000012"
             ],
             [
              0.2222222222222222,
              "#000013"
             ],
             [
              0.3333333333333333,
              "#000014"
             ],
             [
              0.4444444444444444,
              "#000015"
             ],
             [
              0.5555555555555556,
              "#000016"
             ],
             [
              0.6666666666666666,
              "#000017"
             ],
             [
              0.7777777777777778,
              "#000018"
             ],
             [
              0.8888888888888888,
              "#000019"
             ],
             [
              1,
              "#000020"
             ]
            ],
            "type": "contour"
           }
          ],
          "contourcarpet": [
           {
            "colorscale": [
             [
              0,
              "#000011"
             ],
             [
              0.1111111111111111,
              "#000012"
             ],
             [
              0.2222222222222222,
              "#000013"
             ],
             [
              0.3333333333333333,
              "#000014"
             ],
             [
              0.4444444444444444,
              "#000015"
             ],
             [
              0.5555555555555556,
              "#000016"
             ],
             [
              0.6666666666666666,
              "#000017"
             ],
             [
              0.7777777777777778,
              "#000018"
             ],
             [
              0.8888888888888888,
              "#000019"
             ],
             [
              1,
              "#000020"
             ]
            ],
            "type": "contourcarpet"
           }
          ],
          "heatmap": [
           {
            "colorscale": [
             [
              0,
              "#000011"
             ],
             [
              0.1111111111111111,
              "#000012"
             ],
             [
              0.2222222222222222,
              "#000013"
             ],
             [
              0.3333333333333333,
              "#000014"
             ],
             [
              0.4444444444444444,
              "#000015"
             ],
             [
              0.5555555555555556,
              "#000016"
             ],
             [
              0.6666666666666666,
              "#000017"
             ],
             [
              0.7777777777777778,
              "#000018"
             ],
             [
              0.8888888888888888,
              "#000019"
             ],
             [
              1,
              "#000020"
             ]
            ],
            "type": "heatmap"
           }
          ],
          "histogram2d": [
           {
            "colorscale": [
             [
              0,
              "#000011"
             ],
             [
              0.1111111111111111,
              "#000012"
             ],
             [
              0.2222222222222222,
              "#000013"
             ],
             [
              0.3333333333333333,
              "#000014"
             ],
             [
              0.4444444444444444,
              "#000015"
             ],
             [
              0.5555555555555556,
              "#000016"
             ],
             [
              0.6666666666666666,
              "#000017"
             ],
             [
              0.7777777777777778,
              "#000018"
             ],
             [
              0.8888888888888888,
              "#000019"
             ],
             [
              1,
              "#000020"
             ]
            ],
            "type": "histogram2d"
           }
          ],
          "icicle": [
           {
            "textfont": {
             "color": "white"
            },
            "type": "icicle"
           }
          ],
          "sankey": [
           {
            "textfont": {
             "color": "#000036"
            },
            "type": "sankey"
           }
          ],
          "scatter": [
           {
            "marker": {
             "line": {
              "width": 0
             }
            },
            "type": "scatter"
           }
          ],
          "table": [
           {
            "cells": {
             "fill": {
              "color": "#000038"
             },
             "font": {
              "color": "#000037"
             },
             "line": {
              "color": "#000039"
             }
            },
            "header": {
             "fill": {
              "color": "#000040"
             },
             "font": {
              "color": "#000036"
             },
             "line": {
              "color": "#000039"
             }
            },
            "type": "table"
           }
          ],
          "waterfall": [
           {
            "connector": {
             "line": {
              "color": "#000036",
              "width": 2
             }
            },
            "decreasing": {
             "marker": {
              "color": "#000033"
             }
            },
            "increasing": {
             "marker": {
              "color": "#000032"
             }
            },
            "totals": {
             "marker": {
              "color": "#000034"
             }
            },
            "type": "waterfall"
           }
          ]
         },
         "layout": {
          "coloraxis": {
           "colorscale": [
            [
             0,
             "#000011"
            ],
            [
             0.1111111111111111,
             "#000012"
            ],
            [
             0.2222222222222222,
             "#000013"
            ],
            [
             0.3333333333333333,
             "#000014"
            ],
            [
             0.4444444444444444,
             "#000015"
            ],
            [
             0.5555555555555556,
             "#000016"
            ],
            [
             0.6666666666666666,
             "#000017"
            ],
            [
             0.7777777777777778,
             "#000018"
            ],
            [
             0.8888888888888888,
             "#000019"
            ],
            [
             1,
             "#000020"
            ]
           ]
          },
          "colorscale": {
           "diverging": [
            [
             0,
             "#000021"
            ],
            [
             0.1,
             "#000022"
            ],
            [
             0.2,
             "#000023"
            ],
            [
             0.3,
             "#000024"
            ],
            [
             0.4,
             "#000025"
            ],
            [
             0.5,
             "#000026"
            ],
            [
             0.6,
             "#000027"
            ],
            [
             0.7,
             "#000028"
            ],
            [
             0.8,
             "#000029"
            ],
            [
             0.9,
             "#000030"
            ],
            [
             1,
             "#000031"
            ]
           ],
           "sequential": [
            [
             0,
             "#000011"
            ],
            [
             0.1111111111111111,
             "#000012"
            ],
            [
             0.2222222222222222,
             "#000013"
            ],
            [
             0.3333333333333333,
             "#000014"
            ],
            [
             0.4444444444444444,
             "#000015"
            ],
            [
             0.5555555555555556,
             "#000016"
            ],
            [
             0.6666666666666666,
             "#000017"
            ],
            [
             0.7777777777777778,
             "#000018"
            ],
            [
             0.8888888888888888,
             "#000019"
            ],
            [
             1,
             "#000020"
            ]
           ],
           "sequentialminus": [
            [
             0,
             "#000011"
            ],
            [
             0.1111111111111111,
             "#000012"
            ],
            [
             0.2222222222222222,
             "#000013"
            ],
            [
             0.3333333333333333,
             "#000014"
            ],
            [
             0.4444444444444444,
             "#000015"
            ],
            [
             0.5555555555555556,
             "#000016"
            ],
            [
             0.6666666666666666,
             "#000017"
            ],
            [
             0.7777777777777778,
             "#000018"
            ],
            [
             0.8888888888888888,
             "#000019"
            ],
            [
             1,
             "#000020"
            ]
           ]
          },
          "colorway": [
           "#000001",
           "#000002",
           "#000003",
           "#000004",
           "#000005",
           "#000006",
           "#000007",
           "#000008",
           "#000009",
           "#000010"
          ]
         }
        },
        "title": {
         "text": "Defending Radar Chart for Manchester City"
        },
        "width": 800
       }
      }
     },
     "metadata": {},
     "output_type": "display_data"
    }
   ],
   "source": [
    "fig = create_radar_chart(2223, 'Manchester City', defending_chart_data, \"Defending Radar Chart\")\n",
    "fig.show()"
   ]
  },
  {
   "cell_type": "code",
   "execution_count": 42,
   "metadata": {},
   "outputs": [
    {
     "data": {
      "application/vnd.plotly.v1+json": {
       "config": {
        "plotlyServerURL": "https://plotly.com"
       },
       "data": [
        {
         "customdata": [
          [
           10.105263158,
           -0.12083512199999996
          ],
          [
           18.473684211,
           0.017613636399999966
          ],
          [
           0.3474576271,
           0.27799485799999996
          ],
          [
           2.473684211,
           0.5091518722
          ],
          [
           1.87,
           0.5281124498
          ],
          [
           15.526315789,
           0.5036019076
          ],
          [
           0.8731701824,
           0.5888888889
          ],
          [
           75,
           0.0947089947
          ]
         ],
         "fill": "toself",
         "fillcolor": "rgba(100, 100, 100, 0.65)",
         "hovertemplate": "<span style='font-size: 20px; color: #d3d3d3;'>%{theta}</span><br><span style='font-size: 20px; color: white;'>Value: %{customdata[0]:.2f}</span><br><span style='font-size: 15px; color: #d3d3d3;'>Difference from Average: %{customdata[1]:.2f}</span><extra></extra>",
         "line": {
          "color": "rgba(100, 100, 100, 1)"
         },
         "marker": {
          "size": 1
         },
         "name": "AVERAGE",
         "r": [
          0.5536709429,
          0.4861742424,
          0.4778606965,
          0.4908481278,
          0.4718875502,
          0.428125,
          0.4111111111,
          0.3682539683
         ],
         "theta": [
          "Fouls Against/Game",
          "Take_ons Attempted/Game",
          "Shots On Target (%)",
          "Goals/Game",
          "NPxG/Game",
          "Shots/Game",
          "Pass Completion (%)",
          "Crosses into Pen Area"
         ],
         "type": "scatterpolar"
        },
        {
         "customdata": [
          [
           10.105263158,
           -0.12083512199999996
          ],
          [
           18.473684211,
           0.017613636399999966
          ],
          [
           0.3474576271,
           0.27799485799999996
          ],
          [
           2.473684211,
           0.5091518722
          ],
          [
           1.87,
           0.5281124498
          ],
          [
           15.526315789,
           0.5036019076
          ],
          [
           0.8731701824,
           0.5888888889
          ],
          [
           75,
           0.0947089947
          ]
         ],
         "fill": "toself",
         "fillcolor": "rgba(210, 210, 0, 0.6)",
         "hovertemplate": "<span style='font-size: 20px; color: #d3d3d3;'>%{theta}</span><br><span style='font-size: 20px; color: white;'>Value: %{customdata[0]:.2f}</span><br><span style='font-size: 15px; color: #d3d3d3;'>Difference from Average: %{customdata[1]:.2f}</span><extra></extra>",
         "line": {
          "color": "rgba(210, 210, 0, 1)"
         },
         "marker": {
          "size": 1
         },
         "name": "Manchester City",
         "opacity": 0.6,
         "r": [
          0.4328358209,
          0.5037878788,
          0.7558555545,
          1,
          1,
          0.9317269076,
          1,
          0.462962963
         ],
         "theta": [
          "Fouls Against/Game",
          "Take_ons Attempted/Game",
          "Shots On Target (%)",
          "Goals/Game",
          "NPxG/Game",
          "Shots/Game",
          "Pass Completion (%)",
          "Crosses into Pen Area"
         ],
         "type": "scatterpolar"
        }
       ],
       "layout": {
        "annotations": [
         {
          "align": "center",
          "font": {
           "color": "white",
           "size": 10
          },
          "showarrow": false,
          "text": "<span style='font-size: 15px;'><b>Fouls Against/Game</b></span><br><span style='line-height: 2px;'>&nbsp;</span><br><span style='font-size: 20px; color: rgba(210, 210, 0, 1);'>10.11</span>",
          "x": 1.05,
          "xanchor": "center",
          "xref": "paper",
          "y": 0.48,
          "yanchor": "middle",
          "yref": "paper"
         },
         {
          "align": "center",
          "font": {
           "color": "white",
           "size": 10
          },
          "showarrow": false,
          "text": "<span style='font-size: 15px;'><b>Take_ons Attempted/Game</b></span><br><span style='line-height: 2px;'>&nbsp;</span><br><span style='font-size: 20px; color: rgba(210, 210, 0, 1);'>18.47</span>",
          "x": 0.8889087296526013,
          "xanchor": "center",
          "xref": "paper",
          "y": 0.9121208107251124,
          "yanchor": "middle",
          "yref": "paper"
         },
         {
          "align": "center",
          "font": {
           "color": "white",
           "size": 10
          },
          "showarrow": false,
          "text": "<span style='font-size: 15px;'><b>Shots On Target (%)</b></span><br><span style='line-height: 2px;'>&nbsp;</span><br><span style='font-size: 20px; color: rgba(210, 210, 0, 1);'>0.35</span>",
          "x": 0.5,
          "xanchor": "center",
          "xref": "paper",
          "y": 1.0911111111111111,
          "yanchor": "middle",
          "yref": "paper"
         },
         {
          "align": "center",
          "font": {
           "color": "white",
           "size": 10
          },
          "showarrow": false,
          "text": "<span style='font-size: 15px;'><b>Goals/Game</b></span><br><span style='line-height: 2px;'>&nbsp;</span><br><span style='font-size: 20px; color: rgba(210, 210, 0, 1);'>2.47</span>",
          "x": 0.11109127034739885,
          "xanchor": "center",
          "xref": "paper",
          "y": 0.9121208107251124,
          "yanchor": "middle",
          "yref": "paper"
         },
         {
          "align": "center",
          "font": {
           "color": "white",
           "size": 10
          },
          "showarrow": false,
          "text": "<span style='font-size: 15px;'><b>NPxG/Game</b></span><br><span style='line-height: 2px;'>&nbsp;</span><br><span style='font-size: 20px; color: rgba(210, 210, 0, 1);'>1.87</span>",
          "x": -0.050000000000000044,
          "xanchor": "center",
          "xref": "paper",
          "y": 0.48000000000000004,
          "yanchor": "middle",
          "yref": "paper"
         },
         {
          "align": "center",
          "font": {
           "color": "white",
           "size": 10
          },
          "showarrow": false,
          "text": "<span style='font-size: 15px;'><b>Shots/Game</b></span><br><span style='line-height: 2px;'>&nbsp;</span><br><span style='font-size: 20px; color: rgba(210, 210, 0, 1);'>15.53</span>",
          "x": 0.11109127034739874,
          "xanchor": "center",
          "xref": "paper",
          "y": 0.0478791892748876,
          "yanchor": "middle",
          "yref": "paper"
         },
         {
          "align": "center",
          "font": {
           "color": "white",
           "size": 10
          },
          "showarrow": false,
          "text": "<span style='font-size: 15px;'><b>Pass Completion (%)</b></span><br><span style='line-height: 2px;'>&nbsp;</span><br><span style='font-size: 20px; color: rgba(210, 210, 0, 1);'>0.87</span>",
          "x": 0.4999999999999999,
          "xanchor": "center",
          "xref": "paper",
          "y": -0.13111111111111118,
          "yanchor": "middle",
          "yref": "paper"
         },
         {
          "align": "center",
          "font": {
           "color": "white",
           "size": 10
          },
          "showarrow": false,
          "text": "<span style='font-size: 15px;'><b>Crosses into Pen Area</b></span><br><span style='line-height: 2px;'>&nbsp;</span><br><span style='font-size: 20px; color: rgba(210, 210, 0, 1);'>75.00</span>",
          "x": 0.888908729652601,
          "xanchor": "center",
          "xref": "paper",
          "y": 0.04787918927488749,
          "yanchor": "middle",
          "yref": "paper"
         }
        ],
        "autosize": false,
        "font": {
         "color": "white",
         "family": "Roboto, sans-serif",
         "size": 15
        },
        "height": 600,
        "hoverlabel": {
         "bgcolor": "rgba(20, 20, 20, 0.8)",
         "bordercolor": "rgba(20, 20, 20, 0.8)",
         "font": {
          "family": "Roboto, sans-serif"
         }
        },
        "images": [
         {
          "layer": "below",
          "opacity": 0.7,
          "sizex": 1.05,
          "sizey": 1.05,
          "source": "https://i.imgur.com/9yKFcv4.png",
          "x": 0.16,
          "xref": "paper",
          "y": 1,
          "yref": "paper"
         }
        ],
        "paper_bgcolor": "rgb(70, 70, 70)",
        "polar": {
         "angularaxis": {
          "gridcolor": "rgba(0,0,0,0)",
          "showline": false,
          "showticklabels": false
         },
         "bgcolor": "rgba(0,0,0,0)",
         "radialaxis": {
          "gridcolor": "white",
          "linecolor": "rgba(17, 17, 17, 1)",
          "range": [
           0,
           1
          ],
          "showline": false,
          "visible": false
         }
        },
        "showlegend": false,
        "template": {
         "data": {
          "candlestick": [
           {
            "decreasing": {
             "line": {
              "color": "#000033"
             }
            },
            "increasing": {
             "line": {
              "color": "#000032"
             }
            },
            "type": "candlestick"
           }
          ],
          "contour": [
           {
            "colorscale": [
             [
              0,
              "#000011"
             ],
             [
              0.1111111111111111,
              "#000012"
             ],
             [
              0.2222222222222222,
              "#000013"
             ],
             [
              0.3333333333333333,
              "#000014"
             ],
             [
              0.4444444444444444,
              "#000015"
             ],
             [
              0.5555555555555556,
              "#000016"
             ],
             [
              0.6666666666666666,
              "#000017"
             ],
             [
              0.7777777777777778,
              "#000018"
             ],
             [
              0.8888888888888888,
              "#000019"
             ],
             [
              1,
              "#000020"
             ]
            ],
            "type": "contour"
           }
          ],
          "contourcarpet": [
           {
            "colorscale": [
             [
              0,
              "#000011"
             ],
             [
              0.1111111111111111,
              "#000012"
             ],
             [
              0.2222222222222222,
              "#000013"
             ],
             [
              0.3333333333333333,
              "#000014"
             ],
             [
              0.4444444444444444,
              "#000015"
             ],
             [
              0.5555555555555556,
              "#000016"
             ],
             [
              0.6666666666666666,
              "#000017"
             ],
             [
              0.7777777777777778,
              "#000018"
             ],
             [
              0.8888888888888888,
              "#000019"
             ],
             [
              1,
              "#000020"
             ]
            ],
            "type": "contourcarpet"
           }
          ],
          "heatmap": [
           {
            "colorscale": [
             [
              0,
              "#000011"
             ],
             [
              0.1111111111111111,
              "#000012"
             ],
             [
              0.2222222222222222,
              "#000013"
             ],
             [
              0.3333333333333333,
              "#000014"
             ],
             [
              0.4444444444444444,
              "#000015"
             ],
             [
              0.5555555555555556,
              "#000016"
             ],
             [
              0.6666666666666666,
              "#000017"
             ],
             [
              0.7777777777777778,
              "#000018"
             ],
             [
              0.8888888888888888,
              "#000019"
             ],
             [
              1,
              "#000020"
             ]
            ],
            "type": "heatmap"
           }
          ],
          "histogram2d": [
           {
            "colorscale": [
             [
              0,
              "#000011"
             ],
             [
              0.1111111111111111,
              "#000012"
             ],
             [
              0.2222222222222222,
              "#000013"
             ],
             [
              0.3333333333333333,
              "#000014"
             ],
             [
              0.4444444444444444,
              "#000015"
             ],
             [
              0.5555555555555556,
              "#000016"
             ],
             [
              0.6666666666666666,
              "#000017"
             ],
             [
              0.7777777777777778,
              "#000018"
             ],
             [
              0.8888888888888888,
              "#000019"
             ],
             [
              1,
              "#000020"
             ]
            ],
            "type": "histogram2d"
           }
          ],
          "icicle": [
           {
            "textfont": {
             "color": "white"
            },
            "type": "icicle"
           }
          ],
          "sankey": [
           {
            "textfont": {
             "color": "#000036"
            },
            "type": "sankey"
           }
          ],
          "scatter": [
           {
            "marker": {
             "line": {
              "width": 0
             }
            },
            "type": "scatter"
           }
          ],
          "table": [
           {
            "cells": {
             "fill": {
              "color": "#000038"
             },
             "font": {
              "color": "#000037"
             },
             "line": {
              "color": "#000039"
             }
            },
            "header": {
             "fill": {
              "color": "#000040"
             },
             "font": {
              "color": "#000036"
             },
             "line": {
              "color": "#000039"
             }
            },
            "type": "table"
           }
          ],
          "waterfall": [
           {
            "connector": {
             "line": {
              "color": "#000036",
              "width": 2
             }
            },
            "decreasing": {
             "marker": {
              "color": "#000033"
             }
            },
            "increasing": {
             "marker": {
              "color": "#000032"
             }
            },
            "totals": {
             "marker": {
              "color": "#000034"
             }
            },
            "type": "waterfall"
           }
          ]
         },
         "layout": {
          "coloraxis": {
           "colorscale": [
            [
             0,
             "#000011"
            ],
            [
             0.1111111111111111,
             "#000012"
            ],
            [
             0.2222222222222222,
             "#000013"
            ],
            [
             0.3333333333333333,
             "#000014"
            ],
            [
             0.4444444444444444,
             "#000015"
            ],
            [
             0.5555555555555556,
             "#000016"
            ],
            [
             0.6666666666666666,
             "#000017"
            ],
            [
             0.7777777777777778,
             "#000018"
            ],
            [
             0.8888888888888888,
             "#000019"
            ],
            [
             1,
             "#000020"
            ]
           ]
          },
          "colorscale": {
           "diverging": [
            [
             0,
             "#000021"
            ],
            [
             0.1,
             "#000022"
            ],
            [
             0.2,
             "#000023"
            ],
            [
             0.3,
             "#000024"
            ],
            [
             0.4,
             "#000025"
            ],
            [
             0.5,
             "#000026"
            ],
            [
             0.6,
             "#000027"
            ],
            [
             0.7,
             "#000028"
            ],
            [
             0.8,
             "#000029"
            ],
            [
             0.9,
             "#000030"
            ],
            [
             1,
             "#000031"
            ]
           ],
           "sequential": [
            [
             0,
             "#000011"
            ],
            [
             0.1111111111111111,
             "#000012"
            ],
            [
             0.2222222222222222,
             "#000013"
            ],
            [
             0.3333333333333333,
             "#000014"
            ],
            [
             0.4444444444444444,
             "#000015"
            ],
            [
             0.5555555555555556,
             "#000016"
            ],
            [
             0.6666666666666666,
             "#000017"
            ],
            [
             0.7777777777777778,
             "#000018"
            ],
            [
             0.8888888888888888,
             "#000019"
            ],
            [
             1,
             "#000020"
            ]
           ],
           "sequentialminus": [
            [
             0,
             "#000011"
            ],
            [
             0.1111111111111111,
             "#000012"
            ],
            [
             0.2222222222222222,
             "#000013"
            ],
            [
             0.3333333333333333,
             "#000014"
            ],
            [
             0.4444444444444444,
             "#000015"
            ],
            [
             0.5555555555555556,
             "#000016"
            ],
            [
             0.6666666666666666,
             "#000017"
            ],
            [
             0.7777777777777778,
             "#000018"
            ],
            [
             0.8888888888888888,
             "#000019"
            ],
            [
             1,
             "#000020"
            ]
           ]
          },
          "colorway": [
           "#000001",
           "#000002",
           "#000003",
           "#000004",
           "#000005",
           "#000006",
           "#000007",
           "#000008",
           "#000009",
           "#000010"
          ]
         }
        },
        "title": {
         "text": "Defending Radar Chart for Manchester City"
        },
        "width": 800
       }
      }
     },
     "metadata": {},
     "output_type": "display_data"
    }
   ],
   "source": [
    "fig = create_radar_chart(2223, 'Manchester City', attacking_chart_data, \"Defending Radar Chart\")\n",
    "fig.show()"
   ]
  },
  {
   "cell_type": "code",
   "execution_count": 34,
   "metadata": {},
   "outputs": [
    {
     "data": {
      "application/vnd.plotly.v1+json": {
       "config": {
        "plotlyServerURL": "https://plotly.com"
       },
       "data": [
        {
         "customdata": [
          [
           1.87,
           0.4698407923
          ],
          [
           0.8684210526,
           0.47111111110000004
          ],
          [
           0.5774946921,
           0.03916280330000005
          ],
          [
           0.8731701824,
           0.6317460317
          ],
          [
           15.526315789,
           0.3780559647
          ],
          [
           0.3474576271,
           0.28396800429999997
          ],
          [
           2.473684211,
           0.6211956522
          ],
          [
           0.85,
           0.5091518722
          ]
         ],
         "fill": "toself",
         "fillcolor": "rgba(100, 100, 100, 0.65)",
         "hovertemplate": "<span style='font-size: 20px; color: #d3d3d3;'>%{theta}</span><br><span style='font-size: 20px; color: white;'>Value: %{customdata[0]:.2f}</span><br><span style='font-size: 15px; color: #d3d3d3;'>Difference from Average: %{customdata[1]:.2f}</span><extra></extra>",
         "line": {
          "color": "rgba(100, 100, 100, 1)"
         },
         "marker": {
          "size": 1
         },
         "name": "AVERAGE",
         "r": [
          0.5301592077,
          0.5288888889,
          0.428125,
          0.3682539683,
          0.5536709429,
          0.4718875502,
          0.3788043478,
          0.4908481278
         ],
         "theta": [
          "NPxG/Game",
          "Conceded/Game",
          "Tackles Won (%)",
          "Pass Completion (%)",
          "Shots/Game",
          "Shots On Target (%)",
          "Goals/Game",
          "xG Against/Game"
         ],
         "type": "scatterpolar"
        },
        {
         "customdata": [
          [
           1.87,
           0.4698407923
          ],
          [
           0.8684210526,
           0.47111111110000004
          ],
          [
           0.5774946921,
           0.03916280330000005
          ],
          [
           0.8731701824,
           0.6317460317
          ],
          [
           15.526315789,
           0.3780559647
          ],
          [
           0.3474576271,
           0.28396800429999997
          ],
          [
           2.473684211,
           0.6211956522
          ],
          [
           0.85,
           0.5091518722
          ]
         ],
         "fill": "toself",
         "fillcolor": "rgba(210, 210, 0, 0.6)",
         "hovertemplate": "<span style='font-size: 20px; color: #d3d3d3;'>%{theta}</span><br><span style='font-size: 20px; color: white;'>Value: %{customdata[0]:.2f}</span><br><span style='font-size: 15px; color: #d3d3d3;'>Difference from Average: %{customdata[1]:.2f}</span><extra></extra>",
         "line": {
          "color": "rgba(210, 210, 0, 1)"
         },
         "marker": {
          "size": 1
         },
         "name": "Manchester City",
         "opacity": 0.6,
         "r": [
          1,
          1,
          0.4672878033,
          1,
          0.9317269076,
          0.7558555545,
          1,
          1
         ],
         "theta": [
          "NPxG/Game",
          "Conceded/Game",
          "Tackles Won (%)",
          "Pass Completion (%)",
          "Shots/Game",
          "Shots On Target (%)",
          "Goals/Game",
          "xG Against/Game"
         ],
         "type": "scatterpolar"
        }
       ],
       "layout": {
        "annotations": [
         {
          "align": "center",
          "font": {
           "color": "white",
           "size": 10
          },
          "showarrow": false,
          "text": "<span style='font-size: 15px;'><b>NPxG/Game</b></span><br><span style='line-height: 2px;'>&nbsp;</span><br><span style='font-size: 20px; color: rgba(210, 210, 0, 1);'>1.87</span>",
          "x": 1.05,
          "xanchor": "center",
          "xref": "paper",
          "y": 0.48,
          "yanchor": "middle",
          "yref": "paper"
         },
         {
          "align": "center",
          "font": {
           "color": "white",
           "size": 10
          },
          "showarrow": false,
          "text": "<span style='font-size: 15px;'><b>Conceded/Game</b></span><br><span style='line-height: 2px;'>&nbsp;</span><br><span style='font-size: 20px; color: rgba(210, 210, 0, 1);'>0.87</span>",
          "x": 0.8889087296526013,
          "xanchor": "center",
          "xref": "paper",
          "y": 0.9121208107251124,
          "yanchor": "middle",
          "yref": "paper"
         },
         {
          "align": "center",
          "font": {
           "color": "white",
           "size": 10
          },
          "showarrow": false,
          "text": "<span style='font-size: 15px;'><b>Tackles Won (%)</b></span><br><span style='line-height: 2px;'>&nbsp;</span><br><span style='font-size: 20px; color: rgba(210, 210, 0, 1);'>0.58</span>",
          "x": 0.5,
          "xanchor": "center",
          "xref": "paper",
          "y": 1.0911111111111111,
          "yanchor": "middle",
          "yref": "paper"
         },
         {
          "align": "center",
          "font": {
           "color": "white",
           "size": 10
          },
          "showarrow": false,
          "text": "<span style='font-size: 15px;'><b>Pass Completion (%)</b></span><br><span style='line-height: 2px;'>&nbsp;</span><br><span style='font-size: 20px; color: rgba(210, 210, 0, 1);'>0.87</span>",
          "x": 0.11109127034739885,
          "xanchor": "center",
          "xref": "paper",
          "y": 0.9121208107251124,
          "yanchor": "middle",
          "yref": "paper"
         },
         {
          "align": "center",
          "font": {
           "color": "white",
           "size": 10
          },
          "showarrow": false,
          "text": "<span style='font-size: 15px;'><b>Shots/Game</b></span><br><span style='line-height: 2px;'>&nbsp;</span><br><span style='font-size: 20px; color: rgba(210, 210, 0, 1);'>15.53</span>",
          "x": -0.050000000000000044,
          "xanchor": "center",
          "xref": "paper",
          "y": 0.48000000000000004,
          "yanchor": "middle",
          "yref": "paper"
         },
         {
          "align": "center",
          "font": {
           "color": "white",
           "size": 10
          },
          "showarrow": false,
          "text": "<span style='font-size: 15px;'><b>Shots On Target (%)</b></span><br><span style='line-height: 2px;'>&nbsp;</span><br><span style='font-size: 20px; color: rgba(210, 210, 0, 1);'>0.35</span>",
          "x": 0.11109127034739874,
          "xanchor": "center",
          "xref": "paper",
          "y": 0.0478791892748876,
          "yanchor": "middle",
          "yref": "paper"
         },
         {
          "align": "center",
          "font": {
           "color": "white",
           "size": 10
          },
          "showarrow": false,
          "text": "<span style='font-size: 15px;'><b>Goals/Game</b></span><br><span style='line-height: 2px;'>&nbsp;</span><br><span style='font-size: 20px; color: rgba(210, 210, 0, 1);'>2.47</span>",
          "x": 0.4999999999999999,
          "xanchor": "center",
          "xref": "paper",
          "y": -0.13111111111111118,
          "yanchor": "middle",
          "yref": "paper"
         },
         {
          "align": "center",
          "font": {
           "color": "white",
           "size": 10
          },
          "showarrow": false,
          "text": "<span style='font-size: 15px;'><b>xG Against/Game</b></span><br><span style='line-height: 2px;'>&nbsp;</span><br><span style='font-size: 20px; color: rgba(210, 210, 0, 1);'>0.85</span>",
          "x": 0.888908729652601,
          "xanchor": "center",
          "xref": "paper",
          "y": 0.04787918927488749,
          "yanchor": "middle",
          "yref": "paper"
         }
        ],
        "autosize": false,
        "font": {
         "color": "white",
         "family": "Roboto, sans-serif",
         "size": 15
        },
        "height": 600,
        "hoverlabel": {
         "bgcolor": "rgba(20, 20, 20, 0.8)",
         "bordercolor": "rgba(20, 20, 20, 0.8)",
         "font": {
          "family": "Roboto, sans-serif"
         }
        },
        "images": [
         {
          "layer": "below",
          "opacity": 0.7,
          "sizex": 1.05,
          "sizey": 1.05,
          "source": "https://i.imgur.com/9yKFcv4.png",
          "x": 0.16,
          "xref": "paper",
          "y": 1,
          "yref": "paper"
         }
        ],
        "paper_bgcolor": "rgb(70, 70, 70)",
        "polar": {
         "angularaxis": {
          "gridcolor": "rgba(0,0,0,0)",
          "showline": false,
          "showticklabels": false
         },
         "bgcolor": "rgba(0,0,0,0)",
         "radialaxis": {
          "gridcolor": "white",
          "linecolor": "rgba(17, 17, 17, 1)",
          "range": [
           0,
           1
          ],
          "showline": false,
          "visible": false
         }
        },
        "showlegend": false,
        "template": {
         "data": {
          "candlestick": [
           {
            "decreasing": {
             "line": {
              "color": "#000033"
             }
            },
            "increasing": {
             "line": {
              "color": "#000032"
             }
            },
            "type": "candlestick"
           }
          ],
          "contour": [
           {
            "colorscale": [
             [
              0,
              "#000011"
             ],
             [
              0.1111111111111111,
              "#000012"
             ],
             [
              0.2222222222222222,
              "#000013"
             ],
             [
              0.3333333333333333,
              "#000014"
             ],
             [
              0.4444444444444444,
              "#000015"
             ],
             [
              0.5555555555555556,
              "#000016"
             ],
             [
              0.6666666666666666,
              "#000017"
             ],
             [
              0.7777777777777778,
              "#000018"
             ],
             [
              0.8888888888888888,
              "#000019"
             ],
             [
              1,
              "#000020"
             ]
            ],
            "type": "contour"
           }
          ],
          "contourcarpet": [
           {
            "colorscale": [
             [
              0,
              "#000011"
             ],
             [
              0.1111111111111111,
              "#000012"
             ],
             [
              0.2222222222222222,
              "#000013"
             ],
             [
              0.3333333333333333,
              "#000014"
             ],
             [
              0.4444444444444444,
              "#000015"
             ],
             [
              0.5555555555555556,
              "#000016"
             ],
             [
              0.6666666666666666,
              "#000017"
             ],
             [
              0.7777777777777778,
              "#000018"
             ],
             [
              0.8888888888888888,
              "#000019"
             ],
             [
              1,
              "#000020"
             ]
            ],
            "type": "contourcarpet"
           }
          ],
          "heatmap": [
           {
            "colorscale": [
             [
              0,
              "#000011"
             ],
             [
              0.1111111111111111,
              "#000012"
             ],
             [
              0.2222222222222222,
              "#000013"
             ],
             [
              0.3333333333333333,
              "#000014"
             ],
             [
              0.4444444444444444,
              "#000015"
             ],
             [
              0.5555555555555556,
              "#000016"
             ],
             [
              0.6666666666666666,
              "#000017"
             ],
             [
              0.7777777777777778,
              "#000018"
             ],
             [
              0.8888888888888888,
              "#000019"
             ],
             [
              1,
              "#000020"
             ]
            ],
            "type": "heatmap"
           }
          ],
          "histogram2d": [
           {
            "colorscale": [
             [
              0,
              "#000011"
             ],
             [
              0.1111111111111111,
              "#000012"
             ],
             [
              0.2222222222222222,
              "#000013"
             ],
             [
              0.3333333333333333,
              "#000014"
             ],
             [
              0.4444444444444444,
              "#000015"
             ],
             [
              0.5555555555555556,
              "#000016"
             ],
             [
              0.6666666666666666,
              "#000017"
             ],
             [
              0.7777777777777778,
              "#000018"
             ],
             [
              0.8888888888888888,
              "#000019"
             ],
             [
              1,
              "#000020"
             ]
            ],
            "type": "histogram2d"
           }
          ],
          "icicle": [
           {
            "textfont": {
             "color": "white"
            },
            "type": "icicle"
           }
          ],
          "sankey": [
           {
            "textfont": {
             "color": "#000036"
            },
            "type": "sankey"
           }
          ],
          "scatter": [
           {
            "marker": {
             "line": {
              "width": 0
             }
            },
            "type": "scatter"
           }
          ],
          "table": [
           {
            "cells": {
             "fill": {
              "color": "#000038"
             },
             "font": {
              "color": "#000037"
             },
             "line": {
              "color": "#000039"
             }
            },
            "header": {
             "fill": {
              "color": "#000040"
             },
             "font": {
              "color": "#000036"
             },
             "line": {
              "color": "#000039"
             }
            },
            "type": "table"
           }
          ],
          "waterfall": [
           {
            "connector": {
             "line": {
              "color": "#000036",
              "width": 2
             }
            },
            "decreasing": {
             "marker": {
              "color": "#000033"
             }
            },
            "increasing": {
             "marker": {
              "color": "#000032"
             }
            },
            "totals": {
             "marker": {
              "color": "#000034"
             }
            },
            "type": "waterfall"
           }
          ]
         },
         "layout": {
          "coloraxis": {
           "colorscale": [
            [
             0,
             "#000011"
            ],
            [
             0.1111111111111111,
             "#000012"
            ],
            [
             0.2222222222222222,
             "#000013"
            ],
            [
             0.3333333333333333,
             "#000014"
            ],
            [
             0.4444444444444444,
             "#000015"
            ],
            [
             0.5555555555555556,
             "#000016"
            ],
            [
             0.6666666666666666,
             "#000017"
            ],
            [
             0.7777777777777778,
             "#000018"
            ],
            [
             0.8888888888888888,
             "#000019"
            ],
            [
             1,
             "#000020"
            ]
           ]
          },
          "colorscale": {
           "diverging": [
            [
             0,
             "#000021"
            ],
            [
             0.1,
             "#000022"
            ],
            [
             0.2,
             "#000023"
            ],
            [
             0.3,
             "#000024"
            ],
            [
             0.4,
             "#000025"
            ],
            [
             0.5,
             "#000026"
            ],
            [
             0.6,
             "#000027"
            ],
            [
             0.7,
             "#000028"
            ],
            [
             0.8,
             "#000029"
            ],
            [
             0.9,
             "#000030"
            ],
            [
             1,
             "#000031"
            ]
           ],
           "sequential": [
            [
             0,
             "#000011"
            ],
            [
             0.1111111111111111,
             "#000012"
            ],
            [
             0.2222222222222222,
             "#000013"
            ],
            [
             0.3333333333333333,
             "#000014"
            ],
            [
             0.4444444444444444,
             "#000015"
            ],
            [
             0.5555555555555556,
             "#000016"
            ],
            [
             0.6666666666666666,
             "#000017"
            ],
            [
             0.7777777777777778,
             "#000018"
            ],
            [
             0.8888888888888888,
             "#000019"
            ],
            [
             1,
             "#000020"
            ]
           ],
           "sequentialminus": [
            [
             0,
             "#000011"
            ],
            [
             0.1111111111111111,
             "#000012"
            ],
            [
             0.2222222222222222,
             "#000013"
            ],
            [
             0.3333333333333333,
             "#000014"
            ],
            [
             0.4444444444444444,
             "#000015"
            ],
            [
             0.5555555555555556,
             "#000016"
            ],
            [
             0.6666666666666666,
             "#000017"
            ],
            [
             0.7777777777777778,
             "#000018"
            ],
            [
             0.8888888888888888,
             "#000019"
            ],
            [
             1,
             "#000020"
            ]
           ]
          },
          "colorway": [
           "#000001",
           "#000002",
           "#000003",
           "#000004",
           "#000005",
           "#000006",
           "#000007",
           "#000008",
           "#000009",
           "#000010"
          ]
         }
        },
        "title": {
         "text": "Radar Chart for Manchester City"
        },
        "width": 800
       }
      }
     },
     "metadata": {},
     "output_type": "display_data"
    }
   ],
   "source": [
    "def standard_radar_chart(team_name, data):\n",
    "    # Filter data for the selected team\n",
    "    team_data = data[data['TEAM_NAME'] == team_name]\n",
    "    average_data = data[data['TEAM_NAME'] == 'Average_2223']\n",
    "\n",
    "    # Prepare data for plotting\n",
    "    categories = team_data['VARIABLE']\n",
    "    norm_values = team_data['NORM_VALUE']\n",
    "    average_norm_values = average_data['NORM_VALUE']\n",
    "    values = team_data['VALUE']\n",
    "    \n",
    "\n",
    "    difference = [golden - average for golden, average in zip(norm_values, average_norm_values)]\n",
    "\n",
    "    hover_text = (\n",
    "    \"<span style='font-size: 20px; color: #d3d3d3;'>%{theta}</span><br>\"\n",
    "    \"<span style='font-size: 20px; color: white;'>Value: %{customdata[0]:.2f}</span><br>\"\n",
    "    \"<span style='font-size: 15px; color: #d3d3d3;'>Difference from Average: %{customdata[1]:.2f}</span><extra></extra>\"\n",
    "    )\n",
    "\n",
    "    # Create radar chart\n",
    "    fig = go.Figure()\n",
    "\n",
    "    fig.add_trace(go.Scatterpolar(\n",
    "        r=average_norm_values,\n",
    "        theta=categories,\n",
    "        name='AVERAGE',\n",
    "        fillcolor='rgba(100, 100, 100, 0.65)',  # Different color for distinction\n",
    "        line_color='rgba(100, 100, 100, 1)', # Line colour for Average plot\n",
    "        fill='toself',\n",
    "        customdata=np.stack((values, difference), axis=-1),\n",
    "        hovertemplate=hover_text,\n",
    "        marker=dict(\n",
    "            size=1  # Hides the markers by setting their size to zero\n",
    "        )\n",
    "    ))\n",
    "\n",
    "    fig.add_trace(go.Scatterpolar(\n",
    "        r=norm_values,\n",
    "        theta=categories,\n",
    "        name=team_name,\n",
    "        opacity=0.6,\n",
    "        fillcolor='rgba(210, 210, 0, 0.6)',  # Adjusted for lighter opaque fill\n",
    "        line_color='rgba(210, 210, 0, 1)',  # Adjusted for lighter line color\n",
    "        fill='toself',\n",
    "        customdata=np.stack((values, difference), axis=-1),\n",
    "        hovertemplate=hover_text,\n",
    "        marker=dict(\n",
    "            size=1  # Hides the markers by setting their size to zero\n",
    "        )\n",
    "    ))\n",
    "\n",
    "    fig.add_layout_image(\n",
    "        dict(\n",
    "            source='https://i.imgur.com/9yKFcv4.png',\n",
    "            xref=\"paper\", yref=\"paper\",\n",
    "            x=0.16, y=1,\n",
    "            sizex=1.05, sizey=1.05,\n",
    "            opacity=0.7,  # Adjust opacity as needed\n",
    "            layer=\"below\"\n",
    "        )\n",
    "    )\n",
    "\n",
    "    for i, (value, category) in enumerate(zip(values, categories)):\n",
    "    # Calculate the angle for the category\n",
    "        angle = (i / float(len(categories))) * 2 * np.pi \n",
    "        x = 0.5 + (1.1) * np.cos(angle) / 2\n",
    "        y = 0.48 + (1.1) * np.sin(angle) / 1.8\n",
    "\n",
    "        annotation_text = \\\n",
    "        f\"<span style='font-size: 15px;'><b>{category}</b></span><br>\" \\\n",
    "        f\"<span style='line-height: 2px;'>&nbsp;</span><br>\" \\\n",
    "        f\"<span style='font-size: 20px; color: rgba(210, 210, 0, 1);'>{value:.2f}</span>\"\n",
    "\n",
    "        fig.add_annotation(\n",
    "            x=x,\n",
    "            y=y,\n",
    "            xref=\"paper\",\n",
    "            yref=\"paper\",\n",
    "            text=annotation_text,  # Bold category name and value\n",
    "            showarrow=False,\n",
    "            font=dict(size=10, color='white'),\n",
    "            align=\"center\",\n",
    "            # The xanchor and yanchor are set to 'middle' and 'center' to center the annotations\n",
    "            xanchor='center',\n",
    "            yanchor='middle',\n",
    "        )\n",
    "\n",
    "    # Update layout\n",
    "    fig.update_layout(\n",
    "        autosize=False,\n",
    "        width=800,  # Set the width\n",
    "        height=600,  # Set the height\n",
    "        polar=dict(\n",
    "            bgcolor='rgba(0,0,0,0)',\n",
    "            radialaxis=dict(\n",
    "                visible=False,\n",
    "                range=[0, 1],\n",
    "                linecolor='rgba(17, 17, 17, 1)',\n",
    "                showline=False,\n",
    "                gridcolor='white'\n",
    "            ),\n",
    "            angularaxis=dict(\n",
    "                showline=False,  # Hide angular axis line\n",
    "                gridcolor='rgba(0,0,0,0)',\n",
    "                showticklabels=False  \n",
    "            )\n",
    "        ),\n",
    "        paper_bgcolor='rgb(70, 70, 70)',      \n",
    "        showlegend=False,\n",
    "        title=f'Radar Chart for {team_name}',\n",
    "        hoverlabel=dict(\n",
    "            bgcolor=\"rgba(20, 20, 20, 0.8)\",\n",
    "            font_family=\"Roboto, sans-serif\",\n",
    "            bordercolor=\"rgba(20, 20, 20, 0.8)\",),\n",
    "        font=dict(\n",
    "            family=\"Roboto, sans-serif\",  # Specify the font family\n",
    "            size=15,                     # Specify the font size\n",
    "            color=\"white\"                # Specify the font color\n",
    "        )\n",
    "    )\n",
    "\n",
    "    return fig\n",
    "\n",
    "# Create and show the radar chart for a specific team\n",
    "fig = standard_radar_chart('Manchester City', standard_chart_data)\n",
    "fig.show()"
   ]
  },
  {
   "cell_type": "code",
   "execution_count": 35,
   "metadata": {},
   "outputs": [],
   "source": [
    "def create_radar_chart(season, team_name, data, chart_name):\n",
    "    team_data = data[data['TEAM_NAME'] == team_name]\n",
    "    average_data = data[data['TEAM_NAME'] == 'Average_2223']\n",
    "\n",
    "    team_data = team_data[team_data['SEASON'] == season]\n",
    "    average_data = average_data[average_data['SEASON'] == season]\n",
    "\n",
    "    # Prepare data for plotting\n",
    "    categories = team_data['VARIABLE']\n",
    "    norm_values = team_data['NORM_VALUE']\n",
    "    average_norm_values = average_data['NORM_VALUE']\n",
    "    values = team_data['VALUE']\n",
    "\n",
    "    difference = [golden - average for golden, average in zip(norm_values, average_norm_values)]\n",
    "\n",
    "    hover_text = (\n",
    "    \"<span style='font-size: 20px; color: #d3d3d3;'>%{theta}</span><br>\"\n",
    "    \"<span style='font-size: 20px; color: white;'>Value: %{customdata[0]:.2f}</span><br>\"\n",
    "    \"<span style='font-size: 15px; color: #d3d3d3;'>Difference from Average: %{customdata[1]:.2f}</span><extra></extra>\"\n",
    "    )\n",
    "\n",
    "    # Create radar chart\n",
    "    fig = go.Figure()\n",
    "\n",
    "    fig.add_trace(go.Scatterpolar(\n",
    "        r=average_norm_values,\n",
    "        theta=categories,\n",
    "        name='AVERAGE',\n",
    "        fillcolor='rgba(100, 100, 100, 0.65)',  # Different color for distinction\n",
    "        line_color='rgba(100, 100, 100, 1)', # Line colour for Average plot\n",
    "        fill='toself',\n",
    "        customdata=np.stack((values, difference), axis=-1),\n",
    "        hovertemplate=hover_text,\n",
    "        marker=dict(\n",
    "            size=1  # Hides the markers by setting their size to zero\n",
    "        )\n",
    "    ))\n",
    "\n",
    "    fig.add_trace(go.Scatterpolar(\n",
    "        r=norm_values,\n",
    "        theta=categories,\n",
    "        name=team_name,\n",
    "        opacity=0.6,\n",
    "        fillcolor='rgba(210, 210, 0, 0.6)',  # Adjusted for lighter opaque fill\n",
    "        line_color='rgba(210, 210, 0, 1)',  # Adjusted for lighter line color\n",
    "        fill='toself',\n",
    "        customdata=np.stack((values, difference), axis=-1),\n",
    "        hovertemplate=hover_text,\n",
    "        marker=dict(\n",
    "            size=1  # Hides the markers by setting their size to zero\n",
    "        )\n",
    "    ))\n",
    "\n",
    "    fig.add_layout_image(\n",
    "        dict(\n",
    "            source='https://i.imgur.com/9yKFcv4.png',\n",
    "            xref=\"paper\", yref=\"paper\",\n",
    "            x=0.296, y=1.01,\n",
    "            sizex=0.405, sizey=1.05,\n",
    "            opacity=0.7,  # Adjust opacity as needed\n",
    "            layer=\"below\",\n",
    "            sizing=\"stretch\"\n",
    "        )\n",
    "    )\n",
    "\n",
    "    for i, (value, category) in enumerate(zip(values, categories)):\n",
    "        angle = (i / float(len(categories))) * 2 * np.pi \n",
    "        x = 0.5 + (1.1) * np.cos(angle) / 4\n",
    "        y = 0.48 + (1.1) * np.sin(angle) / 1.65\n",
    "\n",
    "        annotation_text = \\\n",
    "        f\"<span style='font-size: 10px;'><b>{category}</b></span><br>\" \\\n",
    "        f\"<span style='font-size: 13px; color: rgba(210, 210, 0, 1);'>{value:.2f}</span>\"\n",
    "\n",
    "        fig.add_annotation(\n",
    "            x=x,\n",
    "            y=y,\n",
    "            xref=\"paper\",\n",
    "            yref=\"paper\",\n",
    "            text=annotation_text,  # Bold category name and value\n",
    "            showarrow=False,\n",
    "            font=dict(size=10, color='white'),\n",
    "            align=\"center\",\n",
    "            xanchor='center',\n",
    "            yanchor='middle',\n",
    "        )\n",
    "\n",
    "    # Update layout\n",
    "    fig.update_layout(\n",
    "        autosize=True,\n",
    "        width=355,  # Set the width\n",
    "        height=300,  # Set the height\n",
    "        polar=dict(\n",
    "            bgcolor='rgba(0,0,0,0)',\n",
    "            radialaxis=dict(\n",
    "                visible=False,\n",
    "                range=[0, 1],\n",
    "                linecolor='rgba(17, 17, 17, 1)',\n",
    "                showline=False,\n",
    "                gridcolor='white'\n",
    "            ),\n",
    "            angularaxis=dict(\n",
    "                showline=False,  # Hide angular axis line\n",
    "                gridcolor='rgba(0,0,0,0)',\n",
    "                showticklabels=False  \n",
    "            )\n",
    "        ),\n",
    "        paper_bgcolor='rgb(70, 70, 70)',      \n",
    "        showlegend=False,\n",
    "        title={\n",
    "            'text': f'{chart_name} for {team_name}',\n",
    "            'y':0.95,  # Sets the y position of the title (1 is the top of the figure)\n",
    "            'x':0.5,  # Centers the title horizontally (0.5 is the center of the figure)\n",
    "            'xanchor': 'center',  # Ensures the title is centered at the x position\n",
    "            'yanchor': 'top'  # Ensures the title is at the top of the y position\n",
    "        },\n",
    "        hoverlabel=dict(\n",
    "            bgcolor=\"rgba(20, 20, 20, 0.8)\",\n",
    "            font_family=\"Roboto, sans-serif\",\n",
    "            bordercolor=\"rgba(20, 20, 20, 0.8)\",),\n",
    "        font=dict(\n",
    "            family=\"Roboto, sans-serif\",  # Specify the font family\n",
    "            size=15,                     # Specify the font size\n",
    "            color=\"white\"                # Specify the font color\n",
    "        )\n",
    "    )\n",
    "\n",
    "    return fig"
   ]
  },
  {
   "cell_type": "code",
   "execution_count": 36,
   "metadata": {},
   "outputs": [
    {
     "name": "stderr",
     "output_type": "stream",
     "text": [
      "2023-12-14 12:09:49.337 \n",
      "  \u001b[33m\u001b[1mWarning:\u001b[0m to view this Streamlit app on a browser, run it with the following\n",
      "  command:\n",
      "\n",
      "    streamlit run d:\\Users\\ksbha\\miniconda3\\envs\\footy\\Lib\\site-packages\\ipykernel_launcher.py [ARGUMENTS]\n"
     ]
    }
   ],
   "source": [
    "# st.title('Team Radar Charts')\n",
    "# team_name = st.selectbox('Select a Team', list(sorted(np.delete(standard_chart_data['TEAM_NAME'].unique(), \n",
    "#                                                          np.where(standard_chart_data['TEAM_NAME'].unique() == 'Average_2223')))))\n",
    "# season = st.selectbox('Select a Season', (standard_chart_data['SEASON'].unique()))\n",
    "\n",
    "# col1, col2 = st.columns(2)\n",
    "\n",
    "# with col1:\n",
    "#     st.header('Standard Radar Chart')\n",
    "#     fig_standard = create_radar_chart(season, \"Manchester City\", standard_chart_data, \"Standard Radar Chart\")\n",
    "#     st.plotly_chart(fig_standard, use_container_width=False)\n",
    "\n",
    "# with col2:\n",
    "#     st.header('Attacking Radar Chart')\n",
    "#     fig_attacking = create_radar_chart(season, \"Manchester City\", attacking_chart_data, \"Attacking Radar Chart\") # Assuming the same data is used\n",
    "#     st.plotly_chart(fig_attacking, use_container_width=False)"
   ]
  },
  {
   "cell_type": "code",
   "execution_count": 38,
   "metadata": {},
   "outputs": [
    {
     "data": {
      "application/vnd.plotly.v1+json": {
       "config": {
        "plotlyServerURL": "https://plotly.com"
       },
       "data": [
        {
         "customdata": [
          [
           1.87,
           0.4698407923
          ],
          [
           0.8684210526,
           0.47111111110000004
          ],
          [
           0.5774946921,
           0.03916280330000005
          ],
          [
           0.8731701824,
           0.6317460317
          ],
          [
           15.526315789,
           0.3780559647
          ],
          [
           0.3474576271,
           0.28396800429999997
          ],
          [
           2.473684211,
           0.6211956522
          ],
          [
           0.85,
           0.5091518722
          ]
         ],
         "fill": "toself",
         "fillcolor": "rgba(100, 100, 100, 0.65)",
         "hovertemplate": "<span style='font-size: 20px; color: #d3d3d3;'>%{theta}</span><br><span style='font-size: 20px; color: white;'>Value: %{customdata[0]:.2f}</span><br><span style='font-size: 15px; color: #d3d3d3;'>Difference from Average: %{customdata[1]:.2f}</span><extra></extra>",
         "line": {
          "color": "rgba(100, 100, 100, 1)"
         },
         "marker": {
          "size": 1
         },
         "name": "AVERAGE",
         "r": [
          0.5301592077,
          0.5288888889,
          0.428125,
          0.3682539683,
          0.5536709429,
          0.4718875502,
          0.3788043478,
          0.4908481278
         ],
         "theta": [
          "NPxG/Game",
          "Conceded/Game",
          "Tackles Won (%)",
          "Pass Completion (%)",
          "Shots/Game",
          "Shots On Target (%)",
          "Goals/Game",
          "xG Against/Game"
         ],
         "type": "scatterpolar"
        },
        {
         "customdata": [
          [
           1.87,
           0.4698407923
          ],
          [
           0.8684210526,
           0.47111111110000004
          ],
          [
           0.5774946921,
           0.03916280330000005
          ],
          [
           0.8731701824,
           0.6317460317
          ],
          [
           15.526315789,
           0.3780559647
          ],
          [
           0.3474576271,
           0.28396800429999997
          ],
          [
           2.473684211,
           0.6211956522
          ],
          [
           0.85,
           0.5091518722
          ]
         ],
         "fill": "toself",
         "fillcolor": "rgba(210, 210, 0, 0.6)",
         "hovertemplate": "<span style='font-size: 20px; color: #d3d3d3;'>%{theta}</span><br><span style='font-size: 20px; color: white;'>Value: %{customdata[0]:.2f}</span><br><span style='font-size: 15px; color: #d3d3d3;'>Difference from Average: %{customdata[1]:.2f}</span><extra></extra>",
         "line": {
          "color": "rgba(210, 210, 0, 1)"
         },
         "marker": {
          "size": 1
         },
         "name": "Manchester City",
         "opacity": 0.6,
         "r": [
          1,
          1,
          0.4672878033,
          1,
          0.9317269076,
          0.7558555545,
          1,
          1
         ],
         "theta": [
          "NPxG/Game",
          "Conceded/Game",
          "Tackles Won (%)",
          "Pass Completion (%)",
          "Shots/Game",
          "Shots On Target (%)",
          "Goals/Game",
          "xG Against/Game"
         ],
         "type": "scatterpolar"
        }
       ],
       "layout": {
        "annotations": [
         {
          "align": "center",
          "font": {
           "color": "white",
           "size": 10
          },
          "showarrow": false,
          "text": "<span style='font-size: 10px;'><b>NPxG/Game</b></span><br><span style='font-size: 13px; color: rgba(210, 210, 0, 1);'>1.87</span>",
          "x": 0.775,
          "xanchor": "center",
          "xref": "paper",
          "y": 0.48,
          "yanchor": "middle",
          "yref": "paper"
         },
         {
          "align": "center",
          "font": {
           "color": "white",
           "size": 10
          },
          "showarrow": false,
          "text": "<span style='font-size: 10px;'><b>Conceded/Game</b></span><br><span style='font-size: 13px; color: rgba(210, 210, 0, 1);'>0.87</span>",
          "x": 0.6944543648263006,
          "xanchor": "center",
          "xref": "paper",
          "y": 0.9514045207910318,
          "yanchor": "middle",
          "yref": "paper"
         },
         {
          "align": "center",
          "font": {
           "color": "white",
           "size": 10
          },
          "showarrow": false,
          "text": "<span style='font-size: 10px;'><b>Tackles Won (%)</b></span><br><span style='font-size: 13px; color: rgba(210, 210, 0, 1);'>0.58</span>",
          "x": 0.5,
          "xanchor": "center",
          "xref": "paper",
          "y": 1.1466666666666667,
          "yanchor": "middle",
          "yref": "paper"
         },
         {
          "align": "center",
          "font": {
           "color": "white",
           "size": 10
          },
          "showarrow": false,
          "text": "<span style='font-size: 10px;'><b>Pass Completion (%)</b></span><br><span style='font-size: 13px; color: rgba(210, 210, 0, 1);'>0.87</span>",
          "x": 0.3055456351736994,
          "xanchor": "center",
          "xref": "paper",
          "y": 0.9514045207910318,
          "yanchor": "middle",
          "yref": "paper"
         },
         {
          "align": "center",
          "font": {
           "color": "white",
           "size": 10
          },
          "showarrow": false,
          "text": "<span style='font-size: 10px;'><b>Shots/Game</b></span><br><span style='font-size: 13px; color: rgba(210, 210, 0, 1);'>15.53</span>",
          "x": 0.22499999999999998,
          "xanchor": "center",
          "xref": "paper",
          "y": 0.48000000000000004,
          "yanchor": "middle",
          "yref": "paper"
         },
         {
          "align": "center",
          "font": {
           "color": "white",
           "size": 10
          },
          "showarrow": false,
          "text": "<span style='font-size: 10px;'><b>Shots On Target (%)</b></span><br><span style='font-size: 13px; color: rgba(210, 210, 0, 1);'>0.35</span>",
          "x": 0.30554563517369937,
          "xanchor": "center",
          "xref": "paper",
          "y": 0.008595479208968249,
          "yanchor": "middle",
          "yref": "paper"
         },
         {
          "align": "center",
          "font": {
           "color": "white",
           "size": 10
          },
          "showarrow": false,
          "text": "<span style='font-size: 10px;'><b>Goals/Game</b></span><br><span style='font-size: 13px; color: rgba(210, 210, 0, 1);'>2.47</span>",
          "x": 0.49999999999999994,
          "xanchor": "center",
          "xref": "paper",
          "y": -0.18666666666666676,
          "yanchor": "middle",
          "yref": "paper"
         },
         {
          "align": "center",
          "font": {
           "color": "white",
           "size": 10
          },
          "showarrow": false,
          "text": "<span style='font-size: 10px;'><b>xG Against/Game</b></span><br><span style='font-size: 13px; color: rgba(210, 210, 0, 1);'>0.85</span>",
          "x": 0.6944543648263005,
          "xanchor": "center",
          "xref": "paper",
          "y": 0.008595479208968138,
          "yanchor": "middle",
          "yref": "paper"
         }
        ],
        "autosize": true,
        "font": {
         "color": "white",
         "family": "Roboto, sans-serif",
         "size": 15
        },
        "height": 300,
        "hoverlabel": {
         "bgcolor": "rgba(20, 20, 20, 0.8)",
         "bordercolor": "rgba(20, 20, 20, 0.8)",
         "font": {
          "family": "Roboto, sans-serif"
         }
        },
        "images": [
         {
          "layer": "below",
          "opacity": 0.7,
          "sizex": 0.405,
          "sizey": 1.05,
          "sizing": "stretch",
          "source": "https://i.imgur.com/9yKFcv4.png",
          "x": 0.296,
          "xref": "paper",
          "y": 1.01,
          "yref": "paper"
         }
        ],
        "paper_bgcolor": "rgb(70, 70, 70)",
        "polar": {
         "angularaxis": {
          "gridcolor": "rgba(0,0,0,0)",
          "showline": false,
          "showticklabels": false
         },
         "bgcolor": "rgba(0,0,0,0)",
         "radialaxis": {
          "gridcolor": "white",
          "linecolor": "rgba(17, 17, 17, 1)",
          "range": [
           0,
           1
          ],
          "showline": false,
          "visible": false
         }
        },
        "showlegend": false,
        "template": {
         "data": {
          "candlestick": [
           {
            "decreasing": {
             "line": {
              "color": "#000033"
             }
            },
            "increasing": {
             "line": {
              "color": "#000032"
             }
            },
            "type": "candlestick"
           }
          ],
          "contour": [
           {
            "colorscale": [
             [
              0,
              "#000011"
             ],
             [
              0.1111111111111111,
              "#000012"
             ],
             [
              0.2222222222222222,
              "#000013"
             ],
             [
              0.3333333333333333,
              "#000014"
             ],
             [
              0.4444444444444444,
              "#000015"
             ],
             [
              0.5555555555555556,
              "#000016"
             ],
             [
              0.6666666666666666,
              "#000017"
             ],
             [
              0.7777777777777778,
              "#000018"
             ],
             [
              0.8888888888888888,
              "#000019"
             ],
             [
              1,
              "#000020"
             ]
            ],
            "type": "contour"
           }
          ],
          "contourcarpet": [
           {
            "colorscale": [
             [
              0,
              "#000011"
             ],
             [
              0.1111111111111111,
              "#000012"
             ],
             [
              0.2222222222222222,
              "#000013"
             ],
             [
              0.3333333333333333,
              "#000014"
             ],
             [
              0.4444444444444444,
              "#000015"
             ],
             [
              0.5555555555555556,
              "#000016"
             ],
             [
              0.6666666666666666,
              "#000017"
             ],
             [
              0.7777777777777778,
              "#000018"
             ],
             [
              0.8888888888888888,
              "#000019"
             ],
             [
              1,
              "#000020"
             ]
            ],
            "type": "contourcarpet"
           }
          ],
          "heatmap": [
           {
            "colorscale": [
             [
              0,
              "#000011"
             ],
             [
              0.1111111111111111,
              "#000012"
             ],
             [
              0.2222222222222222,
              "#000013"
             ],
             [
              0.3333333333333333,
              "#000014"
             ],
             [
              0.4444444444444444,
              "#000015"
             ],
             [
              0.5555555555555556,
              "#000016"
             ],
             [
              0.6666666666666666,
              "#000017"
             ],
             [
              0.7777777777777778,
              "#000018"
             ],
             [
              0.8888888888888888,
              "#000019"
             ],
             [
              1,
              "#000020"
             ]
            ],
            "type": "heatmap"
           }
          ],
          "histogram2d": [
           {
            "colorscale": [
             [
              0,
              "#000011"
             ],
             [
              0.1111111111111111,
              "#000012"
             ],
             [
              0.2222222222222222,
              "#000013"
             ],
             [
              0.3333333333333333,
              "#000014"
             ],
             [
              0.4444444444444444,
              "#000015"
             ],
             [
              0.5555555555555556,
              "#000016"
             ],
             [
              0.6666666666666666,
              "#000017"
             ],
             [
              0.7777777777777778,
              "#000018"
             ],
             [
              0.8888888888888888,
              "#000019"
             ],
             [
              1,
              "#000020"
             ]
            ],
            "type": "histogram2d"
           }
          ],
          "icicle": [
           {
            "textfont": {
             "color": "white"
            },
            "type": "icicle"
           }
          ],
          "sankey": [
           {
            "textfont": {
             "color": "#000036"
            },
            "type": "sankey"
           }
          ],
          "scatter": [
           {
            "marker": {
             "line": {
              "width": 0
             }
            },
            "type": "scatter"
           }
          ],
          "table": [
           {
            "cells": {
             "fill": {
              "color": "#000038"
             },
             "font": {
              "color": "#000037"
             },
             "line": {
              "color": "#000039"
             }
            },
            "header": {
             "fill": {
              "color": "#000040"
             },
             "font": {
              "color": "#000036"
             },
             "line": {
              "color": "#000039"
             }
            },
            "type": "table"
           }
          ],
          "waterfall": [
           {
            "connector": {
             "line": {
              "color": "#000036",
              "width": 2
             }
            },
            "decreasing": {
             "marker": {
              "color": "#000033"
             }
            },
            "increasing": {
             "marker": {
              "color": "#000032"
             }
            },
            "totals": {
             "marker": {
              "color": "#000034"
             }
            },
            "type": "waterfall"
           }
          ]
         },
         "layout": {
          "coloraxis": {
           "colorscale": [
            [
             0,
             "#000011"
            ],
            [
             0.1111111111111111,
             "#000012"
            ],
            [
             0.2222222222222222,
             "#000013"
            ],
            [
             0.3333333333333333,
             "#000014"
            ],
            [
             0.4444444444444444,
             "#000015"
            ],
            [
             0.5555555555555556,
             "#000016"
            ],
            [
             0.6666666666666666,
             "#000017"
            ],
            [
             0.7777777777777778,
             "#000018"
            ],
            [
             0.8888888888888888,
             "#000019"
            ],
            [
             1,
             "#000020"
            ]
           ]
          },
          "colorscale": {
           "diverging": [
            [
             0,
             "#000021"
            ],
            [
             0.1,
             "#000022"
            ],
            [
             0.2,
             "#000023"
            ],
            [
             0.3,
             "#000024"
            ],
            [
             0.4,
             "#000025"
            ],
            [
             0.5,
             "#000026"
            ],
            [
             0.6,
             "#000027"
            ],
            [
             0.7,
             "#000028"
            ],
            [
             0.8,
             "#000029"
            ],
            [
             0.9,
             "#000030"
            ],
            [
             1,
             "#000031"
            ]
           ],
           "sequential": [
            [
             0,
             "#000011"
            ],
            [
             0.1111111111111111,
             "#000012"
            ],
            [
             0.2222222222222222,
             "#000013"
            ],
            [
             0.3333333333333333,
             "#000014"
            ],
            [
             0.4444444444444444,
             "#000015"
            ],
            [
             0.5555555555555556,
             "#000016"
            ],
            [
             0.6666666666666666,
             "#000017"
            ],
            [
             0.7777777777777778,
             "#000018"
            ],
            [
             0.8888888888888888,
             "#000019"
            ],
            [
             1,
             "#000020"
            ]
           ],
           "sequentialminus": [
            [
             0,
             "#000011"
            ],
            [
             0.1111111111111111,
             "#000012"
            ],
            [
             0.2222222222222222,
             "#000013"
            ],
            [
             0.3333333333333333,
             "#000014"
            ],
            [
             0.4444444444444444,
             "#000015"
            ],
            [
             0.5555555555555556,
             "#000016"
            ],
            [
             0.6666666666666666,
             "#000017"
            ],
            [
             0.7777777777777778,
             "#000018"
            ],
            [
             0.8888888888888888,
             "#000019"
            ],
            [
             1,
             "#000020"
            ]
           ]
          },
          "colorway": [
           "#000001",
           "#000002",
           "#000003",
           "#000004",
           "#000005",
           "#000006",
           "#000007",
           "#000008",
           "#000009",
           "#000010"
          ]
         }
        },
        "title": {
         "text": "Standard Radar Chart for Manchester City",
         "x": 0.5,
         "xanchor": "center",
         "y": 0.95,
         "yanchor": "top"
        },
        "width": 355
       }
      }
     },
     "metadata": {},
     "output_type": "display_data"
    }
   ],
   "source": [
    "fig_standard = create_radar_chart(2223, \"Manchester City\", standard_chart_data, \"Standard Radar Chart\")\n",
    "fig_standard.show()"
   ]
  },
  {
   "cell_type": "code",
   "execution_count": null,
   "metadata": {},
   "outputs": [],
   "source": []
  }
 ],
 "metadata": {
  "kernelspec": {
   "display_name": "footy",
   "language": "python",
   "name": "python3"
  },
  "language_info": {
   "codemirror_mode": {
    "name": "ipython",
    "version": 3
   },
   "file_extension": ".py",
   "mimetype": "text/x-python",
   "name": "python",
   "nbconvert_exporter": "python",
   "pygments_lexer": "ipython3",
   "version": "3.11.5"
  }
 },
 "nbformat": 4,
 "nbformat_minor": 2
}
