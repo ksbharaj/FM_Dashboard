{
 "cells": [
  {
   "cell_type": "code",
   "execution_count": 1,
   "metadata": {},
   "outputs": [
    {
     "name": "stderr",
     "output_type": "stream",
     "text": [
      "d:\\Users\\ksbha\\miniconda3\\envs\\footy\\Lib\\site-packages\\snowflake\\connector\\options.py:103: UserWarning: You have an incompatible version of 'pyarrow' installed (14.0.2), please install a version that adheres to: 'pyarrow<10.1.0,>=10.0.1; extra == \"pandas\"'\n",
      "  warn_incompatible_dep(\n",
      "Failed to import ArrowResult. No Apache Arrow result set format can be used. ImportError: DLL load failed while importing arrow_iterator: The specified procedure could not be found.\n"
     ]
    }
   ],
   "source": [
    "import streamlit as st\n",
    "import pandas as pd\n",
    "import numpy as np\n",
    "import plotly.graph_objects as go\n",
    "\n",
    "import dash\n",
    "from dash import html, dcc, Input, Output\n",
    "\n",
    "from sqlalchemy import create_engine\n",
    "import snowflake.connector"
   ]
  },
  {
   "cell_type": "code",
   "execution_count": 36,
   "metadata": {},
   "outputs": [],
   "source": [
    "df_seasons = pd.DataFrame({\n",
    "    'SEASON': [2122, 2324, 2223],\n",
    "    'SEASON_NAME': ['2021-2022', '2023-2024', '2022-2023'],\n",
    "    'START_YEAR': [2021, 2023, 2022],\n",
    "    'END_YEAR': [2022, 2024, 2023]\n",
    "})\n",
    "\n",
    "season_list = [2122, 2324, 2223]"
   ]
  },
  {
   "cell_type": "code",
   "execution_count": 37,
   "metadata": {},
   "outputs": [
    {
     "data": {
      "text/plain": [
       "[2122, 2223, 2324]"
      ]
     },
     "execution_count": 37,
     "metadata": {},
     "output_type": "execute_result"
    }
   ],
   "source": [
    "sorted(season_list)"
   ]
  },
  {
   "cell_type": "code",
   "execution_count": 24,
   "metadata": {},
   "outputs": [],
   "source": [
    "season_to_name_dict = dict(zip(df_seasons['SEASON_NAME'], df_seasons['SEASON']))"
   ]
  },
  {
   "cell_type": "code",
   "execution_count": 25,
   "metadata": {},
   "outputs": [
    {
     "data": {
      "text/html": [
       "<div>\n",
       "<style scoped>\n",
       "    .dataframe tbody tr th:only-of-type {\n",
       "        vertical-align: middle;\n",
       "    }\n",
       "\n",
       "    .dataframe tbody tr th {\n",
       "        vertical-align: top;\n",
       "    }\n",
       "\n",
       "    .dataframe thead th {\n",
       "        text-align: right;\n",
       "    }\n",
       "</style>\n",
       "<table border=\"1\" class=\"dataframe\">\n",
       "  <thead>\n",
       "    <tr style=\"text-align: right;\">\n",
       "      <th></th>\n",
       "      <th>SEASON</th>\n",
       "    </tr>\n",
       "  </thead>\n",
       "  <tbody>\n",
       "    <tr>\n",
       "      <th>0</th>\n",
       "      <td>2324</td>\n",
       "    </tr>\n",
       "    <tr>\n",
       "      <th>1</th>\n",
       "      <td>2223</td>\n",
       "    </tr>\n",
       "  </tbody>\n",
       "</table>\n",
       "</div>"
      ],
      "text/plain": [
       "   SEASON\n",
       "0    2324\n",
       "1    2223"
      ]
     },
     "execution_count": 25,
     "metadata": {},
     "output_type": "execute_result"
    }
   ],
   "source": [
    "pd.DataFrame(season_list, columns=['SEASON'])"
   ]
  },
  {
   "cell_type": "code",
   "execution_count": 27,
   "metadata": {},
   "outputs": [],
   "source": [
    "avai_season_names = df_seasons[df_seasons['SEASON'].isin(season_list)][['SEASON', 'SEASON_NAME']]"
   ]
  },
  {
   "cell_type": "code",
   "execution_count": 30,
   "metadata": {},
   "outputs": [
    {
     "data": {
      "text/plain": [
       "['2023-2024', '2022-2023']"
      ]
     },
     "execution_count": 30,
     "metadata": {},
     "output_type": "execute_result"
    }
   ],
   "source": [
    "avai_season_names['SEASON_NAME'].to_list()"
   ]
  },
  {
   "cell_type": "code",
   "execution_count": 35,
   "metadata": {},
   "outputs": [
    {
     "data": {
      "text/plain": [
       "2324"
      ]
     },
     "execution_count": 35,
     "metadata": {},
     "output_type": "execute_result"
    }
   ],
   "source": []
  },
  {
   "cell_type": "code",
   "execution_count": null,
   "metadata": {},
   "outputs": [],
   "source": []
  },
  {
   "cell_type": "code",
   "execution_count": null,
   "metadata": {},
   "outputs": [],
   "source": []
  },
  {
   "cell_type": "code",
   "execution_count": 12,
   "metadata": {},
   "outputs": [
    {
     "ename": "KeyError",
     "evalue": "2122",
     "output_type": "error",
     "traceback": [
      "\u001b[1;31m---------------------------------------------------------------------------\u001b[0m",
      "\u001b[1;31mKeyError\u001b[0m                                  Traceback (most recent call last)",
      "Cell \u001b[1;32mIn[12], line 1\u001b[0m\n\u001b[1;32m----> 1\u001b[0m season_name_list \u001b[38;5;241m=\u001b[39m \u001b[43m[\u001b[49m\u001b[43mseason_to_name_dict\u001b[49m\u001b[43m[\u001b[49m\u001b[43mseason\u001b[49m\u001b[43m]\u001b[49m\u001b[43m \u001b[49m\u001b[38;5;28;43;01mfor\u001b[39;49;00m\u001b[43m \u001b[49m\u001b[43mseason\u001b[49m\u001b[43m \u001b[49m\u001b[38;5;129;43;01min\u001b[39;49;00m\u001b[43m \u001b[49m\u001b[43mseason_list\u001b[49m\u001b[43m]\u001b[49m\n\u001b[0;32m      2\u001b[0m season_name_list\n",
      "Cell \u001b[1;32mIn[12], line 1\u001b[0m, in \u001b[0;36m<listcomp>\u001b[1;34m(.0)\u001b[0m\n\u001b[1;32m----> 1\u001b[0m season_name_list \u001b[38;5;241m=\u001b[39m [\u001b[43mseason_to_name_dict\u001b[49m\u001b[43m[\u001b[49m\u001b[43mseason\u001b[49m\u001b[43m]\u001b[49m \u001b[38;5;28;01mfor\u001b[39;00m season \u001b[38;5;129;01min\u001b[39;00m season_list]\n\u001b[0;32m      2\u001b[0m season_name_list\n",
      "\u001b[1;31mKeyError\u001b[0m: 2122"
     ]
    }
   ],
   "source": [
    "season_name_list = [season_to_name_dict[season] for season in season_list]\n",
    "season_name_list"
   ]
  },
  {
   "cell_type": "code",
   "execution_count": null,
   "metadata": {},
   "outputs": [],
   "source": []
  },
  {
   "cell_type": "code",
   "execution_count": 2,
   "metadata": {},
   "outputs": [],
   "source": [
    "import snowflake.connector"
   ]
  },
  {
   "cell_type": "code",
   "execution_count": 3,
   "metadata": {},
   "outputs": [],
   "source": [
    "## Set options to view all columns\n",
    "pd.set_option('display.max_columns', None)"
   ]
  },
  {
   "cell_type": "code",
   "execution_count": 4,
   "metadata": {},
   "outputs": [],
   "source": [
    "SNOWFLAKE_USER = 'kbharaj3'\n",
    "SNOWFLAKE_PASSWORD = 'Snowfl@key0014'\n",
    "SNOWFLAKE_ACCOUNT = 'qx25653.ca-central-1.aws'\n",
    "SNOWFLAKE_WAREHOUSE = 'FOOTY_STORE'\n",
    "SNOWFLAKE_DATABASE = 'GEGENSTATS'\n",
    "SNOWFLAKE_SCHEMA = 'RADAR_CHARTS'"
   ]
  },
  {
   "cell_type": "code",
   "execution_count": 5,
   "metadata": {},
   "outputs": [],
   "source": [
    "conn = snowflake.connector.connect(\n",
    "    user=SNOWFLAKE_USER,\n",
    "    password=SNOWFLAKE_PASSWORD,\n",
    "    account=SNOWFLAKE_ACCOUNT,\n",
    "    warehouse=SNOWFLAKE_WAREHOUSE,\n",
    "    database=SNOWFLAKE_DATABASE,\n",
    "    schema=SNOWFLAKE_SCHEMA\n",
    ")"
   ]
  },
  {
   "cell_type": "code",
   "execution_count": 6,
   "metadata": {},
   "outputs": [],
   "source": [
    "cursor = conn.cursor()"
   ]
  },
  {
   "cell_type": "code",
   "execution_count": 7,
   "metadata": {},
   "outputs": [],
   "source": [
    "cursor.execute('SELECT * FROM STANDARD_RADAR')\n",
    "standad_chart_rows = cursor.fetchall()\n",
    "column_names = [desc[0] for desc in cursor.description]\n",
    "standard_chart_data = pd.DataFrame(standad_chart_rows, columns=column_names)"
   ]
  },
  {
   "cell_type": "code",
   "execution_count": 8,
   "metadata": {},
   "outputs": [],
   "source": [
    "cursor.execute('SELECT * FROM ATTACKING_RADAR')\n",
    "attacking_chart_rows = cursor.fetchall()\n",
    "column_names = [desc[0] for desc in cursor.description]\n",
    "attacking_chart_data = pd.DataFrame(attacking_chart_rows, columns=column_names)"
   ]
  },
  {
   "cell_type": "code",
   "execution_count": 9,
   "metadata": {},
   "outputs": [],
   "source": [
    "cursor.execute('SELECT * FROM DEFENDING_RADAR')\n",
    "defending_chart_rows = cursor.fetchall()\n",
    "column_names = [desc[0] for desc in cursor.description]\n",
    "defending_chart_data = pd.DataFrame(defending_chart_rows, columns=column_names)"
   ]
  },
  {
   "cell_type": "code",
   "execution_count": null,
   "metadata": {},
   "outputs": [],
   "source": []
  },
  {
   "cell_type": "code",
   "execution_count": 34,
   "metadata": {},
   "outputs": [],
   "source": [
    "def create_radar_chart(season, team_name, data, competition, chart_name):\n",
    "    team_data = data[data['TEAM_NAME'] == team_name]\n",
    "    team_data = team_data[team_data['COMPETITION_ACRONYM'] == competition]\n",
    "    average_data = data[data['TEAM_NAME'] == competition+'_'+str(season)+\"_Average\"]\n",
    "\n",
    "    team_data = team_data[team_data['SEASON'] == season]\n",
    "    # average_data = average_data[average_data['SEASON'] == season]\n",
    "\n",
    "    # Prepare data for plotting\n",
    "    categories = team_data['VARIABLE']\n",
    "    norm_values = team_data['NORM_VALUE']\n",
    "    average_norm_values = average_data['NORM_VALUE']\n",
    "    values = team_data['VALUE']\n",
    "\n",
    "    difference = [golden - average for golden, average in zip(norm_values, average_norm_values)]\n",
    "\n",
    "    difference_messages = []\n",
    "    for diff in difference:\n",
    "        if diff > 0:\n",
    "            message = f\"{diff:.2f} greater than the average\"\n",
    "        elif diff < 0:\n",
    "            message = f\"{abs(diff):.2f} lower than the average\"\n",
    "        else:\n",
    "            message = \"equal to the average\"\n",
    "        difference_messages.append(message)\n",
    "\n",
    "    hover_text = (\n",
    "        \"<span style='font-size: 20px; color: #d3d3d3;'>%{theta}</span><br>\"\n",
    "        \"<span style='font-size: 18px; color: white;'>Value: %{customdata[0]:.2f}</span><br>\"\n",
    "        \"<span style='font-size: 12px; color: #d3d3d3;'>%{customdata[2]}</span><extra></extra>\"\n",
    "    )\n",
    "\n",
    "    # Create radar chart\n",
    "    fig = go.Figure()\n",
    "\n",
    "    fig.add_trace(go.Scatterpolar(\n",
    "        r=average_norm_values,\n",
    "        theta=categories,\n",
    "        name='AVERAGE',\n",
    "        fillcolor='rgba(100, 100, 100, 0.65)',  # Different color for distinction\n",
    "        line_color='rgba(100, 100, 100, 1)', # Line colour for Average plot\n",
    "        fill='toself',\n",
    "        customdata=np.stack((values, difference, difference_messages), axis=-1),\n",
    "        hovertemplate=hover_text,\n",
    "        marker=dict(\n",
    "            size=1  # Hides the markers by setting their size to zero\n",
    "        )\n",
    "    ))\n",
    "\n",
    "    fig.add_trace(go.Scatterpolar(\n",
    "        r=norm_values,\n",
    "        theta=categories,\n",
    "        name=team_name,\n",
    "        opacity=0.6,\n",
    "        fillcolor='rgba(210, 210, 0, 0.6)',  # Adjusted for lighter opaque fill\n",
    "        line_color='rgba(210, 210, 0, 1)',  # Adjusted for lighter line color\n",
    "        fill='toself',\n",
    "        customdata=np.stack((values, difference, difference_messages), axis=-1),\n",
    "        hovertemplate=hover_text,\n",
    "        marker=dict(\n",
    "            size=1  # Hides the markers by setting their size to zero\n",
    "        )\n",
    "    ))\n",
    "\n",
    "    fig.add_layout_image(\n",
    "        dict(\n",
    "            source='https://i.imgur.com/9yKFcv4.png',\n",
    "            xref=\"paper\", yref=\"paper\",\n",
    "            xanchor=\"center\", yanchor=\"middle\",\n",
    "            x=0.5, y=0.484,\n",
    "            sizex=1.06, sizey=1.06,\n",
    "            opacity=0.7,  # Adjust opacity as needed\n",
    "            layer=\"below\",\n",
    "            sizing=\"contain\"\n",
    "        )\n",
    "    )\n",
    "\n",
    "    for i, (value, category) in enumerate(zip(values, categories)):\n",
    "        angle = (i / float(len(categories))) * 2 * np.pi \n",
    "        x = 0.5 + (1.1) * np.cos(angle) / 4\n",
    "        y = 0.48 + (1.1) * np.sin(angle) / 2\n",
    "\n",
    "        annotation_text = \\\n",
    "        f\"<span style='font-size: 12px;'><b>{category}</b></span><br>\" \\\n",
    "        f\"<span style='font-size: 15px; color: rgba(210, 210, 0, 1);'>{value:.2f}</span>\"\n",
    "\n",
    "        fig.add_annotation(\n",
    "            x=x,\n",
    "            y=y,\n",
    "            xref=\"x domain\",\n",
    "            yref=\"paper\",\n",
    "            text=annotation_text,  # Bold category name and value\n",
    "            showarrow=False,\n",
    "            font=dict(size=10, color='white'),\n",
    "            align=\"center\",\n",
    "            xanchor='center',\n",
    "            yanchor='middle',\n",
    "            # sizing=\"contain\",\n",
    "            bordercolor=\"rgba(0, 0, 0, 0)\",\n",
    "        )\n",
    "\n",
    "\n",
    "\n",
    "    # Update layout\n",
    "    fig.update_layout(\n",
    "        # autosize=False,\n",
    "        # width=355*1,  # Set the width\n",
    "        # height=400,  # Set the height\n",
    "        polar=dict(\n",
    "            bgcolor='rgba(0,0,0,0)',\n",
    "            radialaxis=dict(\n",
    "                visible=False,\n",
    "                range=[0, 1],\n",
    "                linecolor='rgba(17, 17, 17, 1)',\n",
    "                showline=False,\n",
    "                gridcolor='white'\n",
    "            ),\n",
    "            angularaxis=dict(\n",
    "                showline=False,  # Hide angular axis line\n",
    "                gridcolor='rgba(0,0,0,0)',\n",
    "                showticklabels=False  \n",
    "            )\n",
    "        ),\n",
    "        paper_bgcolor='rgb(70, 70, 70)',      \n",
    "        showlegend=False,\n",
    "        title={\n",
    "            'text': f'{chart_name} for {team_name}',\n",
    "            'y':0.95,  # Sets the y position of the title (1 is the top of the figure)\n",
    "            'x':0.5,  # Centers the title horizontally (0.5 is the center of the figure)\n",
    "            'xanchor': 'center',  # Ensures the title is centered at the x position\n",
    "            'yanchor': 'top'  # Ensures the title is at the top of the y position\n",
    "        },\n",
    "        hoverlabel=dict(\n",
    "            bgcolor=\"rgba(20, 20, 20, 0.8)\",\n",
    "            font_family=\"Roboto, sans-serif\",\n",
    "            bordercolor=\"rgba(20, 20, 20, 0.8)\",),\n",
    "        font=dict(\n",
    "            family=\"Roboto, sans-serif\",  # Specify the font family\n",
    "            size=15,                     # Specify the font size\n",
    "            color=\"white\"                # Specify the font color\n",
    "        )\n",
    "    )\n",
    "\n",
    "    return fig\n",
    "\n"
   ]
  },
  {
   "cell_type": "code",
   "execution_count": 44,
   "metadata": {},
   "outputs": [
    {
     "data": {
      "application/vnd.plotly.v1+json": {
       "config": {
        "plotlyServerURL": "https://plotly.com"
       },
       "data": [
        {
         "customdata": [
          [
           "83.845682256",
           "0.25032425710000006",
           "0.25 greater than the average"
          ],
          [
           "1.0",
           "-0.2131578947",
           "0.21 lower than the average"
          ],
          [
           "1.305526316",
           "-0.04759117749999997",
           "0.05 lower than the average"
          ],
          [
           "12.657894737",
           "0.013478448899999995",
           "0.01 greater than the average"
          ],
          [
           "31.392931393",
           "-0.10230037929999997",
           "0.10 lower than the average"
          ],
          [
           "60.135135135",
           "0.16090356430000002",
           "0.16 greater than the average"
          ],
          [
           "1.236842105",
           "0.10268456380000002",
           "0.10 greater than the average"
          ],
          [
           "1.421578947",
           "0.03247770019999996",
           "0.03 greater than the average"
          ]
         ],
         "fill": "toself",
         "fillcolor": "rgba(100, 100, 100, 0.65)",
         "hovertemplate": "<span style='font-size: 20px; color: #d3d3d3;'>%{theta}</span><br><span style='font-size: 18px; color: white;'>Value: %{customdata[0]:.2f}</span><br><span style='font-size: 12px; color: #d3d3d3;'>%{customdata[2]}</span><extra></extra>",
         "line": {
          "color": "rgba(100, 100, 100, 1)"
         },
         "marker": {
          "size": 1
         },
         "name": "AVERAGE",
         "r": [
          0.5482616507,
          0.4105263158,
          0.4439641109,
          0.3983710538,
          0.5534566751,
          0.4414675623,
          0.5978187919,
          0.5620260736
         ],
         "theta": [
          "Pass Completion (%)",
          "Goals/Game",
          "NPxG/Game",
          "Shots/Game",
          "Shots On Target (%)",
          "Tackles Won (%)",
          "Conceded/Game",
          "xG Against/Game"
         ],
         "type": "scatterpolar"
        },
        {
         "customdata": [
          [
           "83.845682256",
           "0.25032425710000006",
           "0.25 greater than the average"
          ],
          [
           "1.0",
           "-0.2131578947",
           "0.21 lower than the average"
          ],
          [
           "1.305526316",
           "-0.04759117749999997",
           "0.05 lower than the average"
          ],
          [
           "12.657894737",
           "0.013478448899999995",
           "0.01 greater than the average"
          ],
          [
           "31.392931393",
           "-0.10230037929999997",
           "0.10 lower than the average"
          ],
          [
           "60.135135135",
           "0.16090356430000002",
           "0.16 greater than the average"
          ],
          [
           "1.236842105",
           "0.10268456380000002",
           "0.10 greater than the average"
          ],
          [
           "1.421578947",
           "0.03247770019999996",
           "0.03 greater than the average"
          ]
         ],
         "fill": "toself",
         "fillcolor": "rgba(210, 210, 0, 0.6)",
         "hovertemplate": "<span style='font-size: 20px; color: #d3d3d3;'>%{theta}</span><br><span style='font-size: 18px; color: white;'>Value: %{customdata[0]:.2f}</span><br><span style='font-size: 12px; color: #d3d3d3;'>%{customdata[2]}</span><extra></extra>",
         "line": {
          "color": "rgba(210, 210, 0, 1)"
         },
         "marker": {
          "size": 1
         },
         "name": "Chelsea",
         "opacity": 0.6,
         "r": [
          0.7985859078,
          0.1973684211,
          0.3963729334,
          0.4118495027,
          0.4511562958,
          0.6023711266,
          0.7005033557,
          0.5945037738
         ],
         "theta": [
          "Pass Completion (%)",
          "Goals/Game",
          "NPxG/Game",
          "Shots/Game",
          "Shots On Target (%)",
          "Tackles Won (%)",
          "Conceded/Game",
          "xG Against/Game"
         ],
         "type": "scatterpolar"
        }
       ],
       "layout": {
        "annotations": [
         {
          "align": "center",
          "bordercolor": "rgba(0, 0, 0, 0)",
          "font": {
           "color": "white",
           "size": 10
          },
          "showarrow": false,
          "text": "<span style='font-size: 12px;'><b>Pass Completion (%)</b></span><br><span style='font-size: 15px; color: rgba(210, 210, 0, 1);'>83.85</span>",
          "x": 0.775,
          "xanchor": "center",
          "xref": "x domain",
          "y": 0.48,
          "yanchor": "middle",
          "yref": "paper"
         },
         {
          "align": "center",
          "bordercolor": "rgba(0, 0, 0, 0)",
          "font": {
           "color": "white",
           "size": 10
          },
          "showarrow": false,
          "text": "<span style='font-size: 12px;'><b>Goals/Game</b></span><br><span style='font-size: 15px; color: rgba(210, 210, 0, 1);'>1.00</span>",
          "x": 0.6944543648263006,
          "xanchor": "center",
          "xref": "x domain",
          "y": 0.8689087296526012,
          "yanchor": "middle",
          "yref": "paper"
         },
         {
          "align": "center",
          "bordercolor": "rgba(0, 0, 0, 0)",
          "font": {
           "color": "white",
           "size": 10
          },
          "showarrow": false,
          "text": "<span style='font-size: 12px;'><b>NPxG/Game</b></span><br><span style='font-size: 15px; color: rgba(210, 210, 0, 1);'>1.31</span>",
          "x": 0.5,
          "xanchor": "center",
          "xref": "x domain",
          "y": 1.03,
          "yanchor": "middle",
          "yref": "paper"
         },
         {
          "align": "center",
          "bordercolor": "rgba(0, 0, 0, 0)",
          "font": {
           "color": "white",
           "size": 10
          },
          "showarrow": false,
          "text": "<span style='font-size: 12px;'><b>Shots/Game</b></span><br><span style='font-size: 15px; color: rgba(210, 210, 0, 1);'>12.66</span>",
          "x": 0.3055456351736994,
          "xanchor": "center",
          "xref": "x domain",
          "y": 0.8689087296526012,
          "yanchor": "middle",
          "yref": "paper"
         },
         {
          "align": "center",
          "bordercolor": "rgba(0, 0, 0, 0)",
          "font": {
           "color": "white",
           "size": 10
          },
          "showarrow": false,
          "text": "<span style='font-size: 12px;'><b>Shots On Target (%)</b></span><br><span style='font-size: 15px; color: rgba(210, 210, 0, 1);'>31.39</span>",
          "x": 0.22499999999999998,
          "xanchor": "center",
          "xref": "x domain",
          "y": 0.48000000000000004,
          "yanchor": "middle",
          "yref": "paper"
         },
         {
          "align": "center",
          "bordercolor": "rgba(0, 0, 0, 0)",
          "font": {
           "color": "white",
           "size": 10
          },
          "showarrow": false,
          "text": "<span style='font-size: 12px;'><b>Tackles Won (%)</b></span><br><span style='font-size: 15px; color: rgba(210, 210, 0, 1);'>60.14</span>",
          "x": 0.30554563517369937,
          "xanchor": "center",
          "xref": "x domain",
          "y": 0.09109127034739883,
          "yanchor": "middle",
          "yref": "paper"
         },
         {
          "align": "center",
          "bordercolor": "rgba(0, 0, 0, 0)",
          "font": {
           "color": "white",
           "size": 10
          },
          "showarrow": false,
          "text": "<span style='font-size: 12px;'><b>Conceded/Game</b></span><br><span style='font-size: 15px; color: rgba(210, 210, 0, 1);'>1.24</span>",
          "x": 0.49999999999999994,
          "xanchor": "center",
          "xref": "x domain",
          "y": -0.07000000000000006,
          "yanchor": "middle",
          "yref": "paper"
         },
         {
          "align": "center",
          "bordercolor": "rgba(0, 0, 0, 0)",
          "font": {
           "color": "white",
           "size": 10
          },
          "showarrow": false,
          "text": "<span style='font-size: 12px;'><b>xG Against/Game</b></span><br><span style='font-size: 15px; color: rgba(210, 210, 0, 1);'>1.42</span>",
          "x": 0.6944543648263005,
          "xanchor": "center",
          "xref": "x domain",
          "y": 0.09109127034739872,
          "yanchor": "middle",
          "yref": "paper"
         }
        ],
        "font": {
         "color": "white",
         "family": "Roboto, sans-serif",
         "size": 15
        },
        "hoverlabel": {
         "bgcolor": "rgba(20, 20, 20, 0.8)",
         "bordercolor": "rgba(20, 20, 20, 0.8)",
         "font": {
          "family": "Roboto, sans-serif"
         }
        },
        "images": [
         {
          "layer": "below",
          "opacity": 0.7,
          "sizex": 1.06,
          "sizey": 1.06,
          "sizing": "contain",
          "source": "https://i.imgur.com/9yKFcv4.png",
          "x": 0.5,
          "xanchor": "center",
          "xref": "paper",
          "y": 0.484,
          "yanchor": "middle",
          "yref": "paper"
         }
        ],
        "paper_bgcolor": "rgb(70, 70, 70)",
        "polar": {
         "angularaxis": {
          "gridcolor": "rgba(0,0,0,0)",
          "showline": false,
          "showticklabels": false
         },
         "bgcolor": "rgba(0,0,0,0)",
         "radialaxis": {
          "gridcolor": "white",
          "linecolor": "rgba(17, 17, 17, 1)",
          "range": [
           0,
           1
          ],
          "showline": false,
          "visible": false
         }
        },
        "showlegend": false,
        "template": {
         "data": {
          "candlestick": [
           {
            "decreasing": {
             "line": {
              "color": "#000033"
             }
            },
            "increasing": {
             "line": {
              "color": "#000032"
             }
            },
            "type": "candlestick"
           }
          ],
          "contour": [
           {
            "colorscale": [
             [
              0,
              "#000011"
             ],
             [
              0.1111111111111111,
              "#000012"
             ],
             [
              0.2222222222222222,
              "#000013"
             ],
             [
              0.3333333333333333,
              "#000014"
             ],
             [
              0.4444444444444444,
              "#000015"
             ],
             [
              0.5555555555555556,
              "#000016"
             ],
             [
              0.6666666666666666,
              "#000017"
             ],
             [
              0.7777777777777778,
              "#000018"
             ],
             [
              0.8888888888888888,
              "#000019"
             ],
             [
              1,
              "#000020"
             ]
            ],
            "type": "contour"
           }
          ],
          "contourcarpet": [
           {
            "colorscale": [
             [
              0,
              "#000011"
             ],
             [
              0.1111111111111111,
              "#000012"
             ],
             [
              0.2222222222222222,
              "#000013"
             ],
             [
              0.3333333333333333,
              "#000014"
             ],
             [
              0.4444444444444444,
              "#000015"
             ],
             [
              0.5555555555555556,
              "#000016"
             ],
             [
              0.6666666666666666,
              "#000017"
             ],
             [
              0.7777777777777778,
              "#000018"
             ],
             [
              0.8888888888888888,
              "#000019"
             ],
             [
              1,
              "#000020"
             ]
            ],
            "type": "contourcarpet"
           }
          ],
          "heatmap": [
           {
            "colorscale": [
             [
              0,
              "#000011"
             ],
             [
              0.1111111111111111,
              "#000012"
             ],
             [
              0.2222222222222222,
              "#000013"
             ],
             [
              0.3333333333333333,
              "#000014"
             ],
             [
              0.4444444444444444,
              "#000015"
             ],
             [
              0.5555555555555556,
              "#000016"
             ],
             [
              0.6666666666666666,
              "#000017"
             ],
             [
              0.7777777777777778,
              "#000018"
             ],
             [
              0.8888888888888888,
              "#000019"
             ],
             [
              1,
              "#000020"
             ]
            ],
            "type": "heatmap"
           }
          ],
          "histogram2d": [
           {
            "colorscale": [
             [
              0,
              "#000011"
             ],
             [
              0.1111111111111111,
              "#000012"
             ],
             [
              0.2222222222222222,
              "#000013"
             ],
             [
              0.3333333333333333,
              "#000014"
             ],
             [
              0.4444444444444444,
              "#000015"
             ],
             [
              0.5555555555555556,
              "#000016"
             ],
             [
              0.6666666666666666,
              "#000017"
             ],
             [
              0.7777777777777778,
              "#000018"
             ],
             [
              0.8888888888888888,
              "#000019"
             ],
             [
              1,
              "#000020"
             ]
            ],
            "type": "histogram2d"
           }
          ],
          "icicle": [
           {
            "textfont": {
             "color": "white"
            },
            "type": "icicle"
           }
          ],
          "sankey": [
           {
            "textfont": {
             "color": "#000036"
            },
            "type": "sankey"
           }
          ],
          "scatter": [
           {
            "marker": {
             "line": {
              "width": 0
             }
            },
            "type": "scatter"
           }
          ],
          "table": [
           {
            "cells": {
             "fill": {
              "color": "#000038"
             },
             "font": {
              "color": "#000037"
             },
             "line": {
              "color": "#000039"
             }
            },
            "header": {
             "fill": {
              "color": "#000040"
             },
             "font": {
              "color": "#000036"
             },
             "line": {
              "color": "#000039"
             }
            },
            "type": "table"
           }
          ],
          "waterfall": [
           {
            "connector": {
             "line": {
              "color": "#000036",
              "width": 2
             }
            },
            "decreasing": {
             "marker": {
              "color": "#000033"
             }
            },
            "increasing": {
             "marker": {
              "color": "#000032"
             }
            },
            "totals": {
             "marker": {
              "color": "#000034"
             }
            },
            "type": "waterfall"
           }
          ]
         },
         "layout": {
          "coloraxis": {
           "colorscale": [
            [
             0,
             "#000011"
            ],
            [
             0.1111111111111111,
             "#000012"
            ],
            [
             0.2222222222222222,
             "#000013"
            ],
            [
             0.3333333333333333,
             "#000014"
            ],
            [
             0.4444444444444444,
             "#000015"
            ],
            [
             0.5555555555555556,
             "#000016"
            ],
            [
             0.6666666666666666,
             "#000017"
            ],
            [
             0.7777777777777778,
             "#000018"
            ],
            [
             0.8888888888888888,
             "#000019"
            ],
            [
             1,
             "#000020"
            ]
           ]
          },
          "colorscale": {
           "diverging": [
            [
             0,
             "#000021"
            ],
            [
             0.1,
             "#000022"
            ],
            [
             0.2,
             "#000023"
            ],
            [
             0.3,
             "#000024"
            ],
            [
             0.4,
             "#000025"
            ],
            [
             0.5,
             "#000026"
            ],
            [
             0.6,
             "#000027"
            ],
            [
             0.7,
             "#000028"
            ],
            [
             0.8,
             "#000029"
            ],
            [
             0.9,
             "#000030"
            ],
            [
             1,
             "#000031"
            ]
           ],
           "sequential": [
            [
             0,
             "#000011"
            ],
            [
             0.1111111111111111,
             "#000012"
            ],
            [
             0.2222222222222222,
             "#000013"
            ],
            [
             0.3333333333333333,
             "#000014"
            ],
            [
             0.4444444444444444,
             "#000015"
            ],
            [
             0.5555555555555556,
             "#000016"
            ],
            [
             0.6666666666666666,
             "#000017"
            ],
            [
             0.7777777777777778,
             "#000018"
            ],
            [
             0.8888888888888888,
             "#000019"
            ],
            [
             1,
             "#000020"
            ]
           ],
           "sequentialminus": [
            [
             0,
             "#000011"
            ],
            [
             0.1111111111111111,
             "#000012"
            ],
            [
             0.2222222222222222,
             "#000013"
            ],
            [
             0.3333333333333333,
             "#000014"
            ],
            [
             0.4444444444444444,
             "#000015"
            ],
            [
             0.5555555555555556,
             "#000016"
            ],
            [
             0.6666666666666666,
             "#000017"
            ],
            [
             0.7777777777777778,
             "#000018"
            ],
            [
             0.8888888888888888,
             "#000019"
            ],
            [
             1,
             "#000020"
            ]
           ]
          },
          "colorway": [
           "#000001",
           "#000002",
           "#000003",
           "#000004",
           "#000005",
           "#000006",
           "#000007",
           "#000008",
           "#000009",
           "#000010"
          ]
         }
        },
        "title": {
         "text": "Standard Radar Chart for Chelsea",
         "x": 0.5,
         "xanchor": "center",
         "y": 0.95,
         "yanchor": "top"
        }
       }
      }
     },
     "metadata": {},
     "output_type": "display_data"
    }
   ],
   "source": [
    "create_radar_chart(2223, 'Chelsea', standard_chart_data, 'EPL', 'Standard Radar Chart')"
   ]
  },
  {
   "cell_type": "code",
   "execution_count": null,
   "metadata": {},
   "outputs": [],
   "source": []
  },
  {
   "cell_type": "code",
   "execution_count": null,
   "metadata": {},
   "outputs": [],
   "source": []
  },
  {
   "cell_type": "code",
   "execution_count": null,
   "metadata": {},
   "outputs": [],
   "source": []
  }
 ],
 "metadata": {
  "kernelspec": {
   "display_name": "footy",
   "language": "python",
   "name": "python3"
  },
  "language_info": {
   "codemirror_mode": {
    "name": "ipython",
    "version": 3
   },
   "file_extension": ".py",
   "mimetype": "text/x-python",
   "name": "python",
   "nbconvert_exporter": "python",
   "pygments_lexer": "ipython3",
   "version": "3.11.5"
  }
 },
 "nbformat": 4,
 "nbformat_minor": 2
}
