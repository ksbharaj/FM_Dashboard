{
 "cells": [
  {
   "cell_type": "code",
   "execution_count": 66,
   "metadata": {},
   "outputs": [],
   "source": [
    "import streamlit as st\n",
    "import pandas as pd\n",
    "import numpy as np\n",
    "import plotly.graph_objects as go\n",
    "\n",
    "import dash\n",
    "from dash import html, dcc, Input, Output"
   ]
  },
  {
   "cell_type": "code",
   "execution_count": 67,
   "metadata": {},
   "outputs": [],
   "source": [
    "standard_chart_data = pd.read_csv(r\"C:\\Users\\ksbha\\Documents\\Python Scripts\\Data Engineering Scraping project\\Shiny Data\\Standard_radar_chart_v2.csv\")"
   ]
  },
  {
   "cell_type": "code",
   "execution_count": 68,
   "metadata": {},
   "outputs": [],
   "source": [
    "attacking_chart_data = pd.read_csv(r\"C:\\Users\\ksbha\\Documents\\Python Scripts\\Data Engineering Scraping project\\Shiny Data\\Attacking_radar_chart_v2.csv\")"
   ]
  },
  {
   "cell_type": "code",
   "execution_count": 69,
   "metadata": {},
   "outputs": [],
   "source": [
    "defending_chart_data = pd.read_csv(r\"C:\\Users\\ksbha\\Documents\\Python Scripts\\Data Engineering Scraping project\\Shiny Data\\Defending_radar_chart_v2.csv\")"
   ]
  },
  {
   "cell_type": "code",
   "execution_count": 29,
   "metadata": {},
   "outputs": [],
   "source": [
    "import plotly.graph_objects as go"
   ]
  },
  {
   "cell_type": "code",
   "execution_count": 30,
   "metadata": {},
   "outputs": [],
   "source": [
    "team_data = standard_chart_data[standard_chart_data['TEAM_NAME'] == 'Brentford']"
   ]
  },
  {
   "cell_type": "code",
   "execution_count": 31,
   "metadata": {},
   "outputs": [],
   "source": [
    "import numpy as np"
   ]
  },
  {
   "cell_type": "code",
   "execution_count": 75,
   "metadata": {},
   "outputs": [
    {
     "data": {
      "text/html": [
       "<div>\n",
       "<style scoped>\n",
       "    .dataframe tbody tr th:only-of-type {\n",
       "        vertical-align: middle;\n",
       "    }\n",
       "\n",
       "    .dataframe tbody tr th {\n",
       "        vertical-align: top;\n",
       "    }\n",
       "\n",
       "    .dataframe thead th {\n",
       "        text-align: right;\n",
       "    }\n",
       "</style>\n",
       "<table border=\"1\" class=\"dataframe\">\n",
       "  <thead>\n",
       "    <tr style=\"text-align: right;\">\n",
       "      <th></th>\n",
       "      <th>SEASON</th>\n",
       "      <th>TEAM_NAME</th>\n",
       "      <th>Stats</th>\n",
       "      <th>Values</th>\n",
       "      <th>Norm_Values</th>\n",
       "    </tr>\n",
       "  </thead>\n",
       "  <tbody>\n",
       "    <tr>\n",
       "      <th>56</th>\n",
       "      <td>2223</td>\n",
       "      <td>AVERAGE</td>\n",
       "      <td>Pass Completion (%)</td>\n",
       "      <td>78.570378</td>\n",
       "      <td>0.490848</td>\n",
       "    </tr>\n",
       "    <tr>\n",
       "      <th>57</th>\n",
       "      <td>2223</td>\n",
       "      <td>AVERAGE</td>\n",
       "      <td>Tackles Won (%)</td>\n",
       "      <td>58.335138</td>\n",
       "      <td>0.530159</td>\n",
       "    </tr>\n",
       "    <tr>\n",
       "      <th>58</th>\n",
       "      <td>2223</td>\n",
       "      <td>AVERAGE</td>\n",
       "      <td>Goals/Game</td>\n",
       "      <td>1.426316</td>\n",
       "      <td>0.368254</td>\n",
       "    </tr>\n",
       "    <tr>\n",
       "      <th>59</th>\n",
       "      <td>2223</td>\n",
       "      <td>AVERAGE</td>\n",
       "      <td>NpxG/Game</td>\n",
       "      <td>1.321000</td>\n",
       "      <td>0.428125</td>\n",
       "    </tr>\n",
       "    <tr>\n",
       "      <th>60</th>\n",
       "      <td>2223</td>\n",
       "      <td>AVERAGE</td>\n",
       "      <td>Conceded/Game</td>\n",
       "      <td>1.426316</td>\n",
       "      <td>0.528889</td>\n",
       "    </tr>\n",
       "    <tr>\n",
       "      <th>61</th>\n",
       "      <td>2223</td>\n",
       "      <td>AVERAGE</td>\n",
       "      <td>xG Against/Game</td>\n",
       "      <td>1.421500</td>\n",
       "      <td>0.378804</td>\n",
       "    </tr>\n",
       "    <tr>\n",
       "      <th>62</th>\n",
       "      <td>2223</td>\n",
       "      <td>AVERAGE</td>\n",
       "      <td>Shots/Game</td>\n",
       "      <td>12.513158</td>\n",
       "      <td>0.471888</td>\n",
       "    </tr>\n",
       "    <tr>\n",
       "      <th>63</th>\n",
       "      <td>2223</td>\n",
       "      <td>AVERAGE</td>\n",
       "      <td>Shots On Target (%)</td>\n",
       "      <td>33.085983</td>\n",
       "      <td>0.553671</td>\n",
       "    </tr>\n",
       "  </tbody>\n",
       "</table>\n",
       "</div>"
      ],
      "text/plain": [
       "    SEASON TEAM_NAME                Stats     Values  Norm_Values\n",
       "56    2223   AVERAGE  Pass Completion (%)  78.570378     0.490848\n",
       "57    2223   AVERAGE      Tackles Won (%)  58.335138     0.530159\n",
       "58    2223   AVERAGE           Goals/Game   1.426316     0.368254\n",
       "59    2223   AVERAGE            NpxG/Game   1.321000     0.428125\n",
       "60    2223   AVERAGE        Conceded/Game   1.426316     0.528889\n",
       "61    2223   AVERAGE      xG Against/Game   1.421500     0.378804\n",
       "62    2223   AVERAGE           Shots/Game  12.513158     0.471888\n",
       "63    2223   AVERAGE  Shots On Target (%)  33.085983     0.553671"
      ]
     },
     "execution_count": 75,
     "metadata": {},
     "output_type": "execute_result"
    }
   ],
   "source": [
    "average_data = standard_chart_data[standard_chart_data['TEAM_NAME'] == 'AVERAGE']\n",
    "average_data[average_data['SEASON'] == 2223]"
   ]
  },
  {
   "cell_type": "code",
   "execution_count": 77,
   "metadata": {},
   "outputs": [],
   "source": [
    "def create_radar_chart(season, team_name, data, chart_name):\n",
    "    team_data = data[data['TEAM_NAME'] == team_name]\n",
    "    average_data = data[data['TEAM_NAME'] == 'AVERAGE']\n",
    "\n",
    "    team_data = team_data[team_data['SEASON'] == season]\n",
    "    average_data = average_data[average_data['SEASON'] == season]\n",
    "\n",
    "    # Prepare data for plotting\n",
    "    categories = team_data['Stats']\n",
    "    norm_values = team_data['Norm_Values']\n",
    "    average_norm_values = average_data['Norm_Values']\n",
    "    values = team_data['Values']\n",
    "\n",
    "    difference = [golden - average for golden, average in zip(norm_values, average_norm_values)]\n",
    "\n",
    "    hover_text = (\n",
    "    \"<span style='font-size: 20px; color: #d3d3d3;'>%{theta}</span><br>\"\n",
    "    \"<span style='font-size: 20px; color: white;'>Value: %{customdata[0]:.2f}</span><br>\"\n",
    "    \"<span style='font-size: 15px; color: #d3d3d3;'>Difference from Average: %{customdata[1]:.2f}</span><extra></extra>\"\n",
    "    )\n",
    "\n",
    "    # Create radar chart\n",
    "    fig = go.Figure()\n",
    "\n",
    "    fig.add_trace(go.Scatterpolar(\n",
    "        r=average_norm_values,\n",
    "        theta=categories,\n",
    "        name='AVERAGE',\n",
    "        fillcolor='rgba(100, 100, 100, 0.65)',  # Different color for distinction\n",
    "        line_color='rgba(100, 100, 100, 1)', # Line colour for Average plot\n",
    "        fill='toself',\n",
    "        customdata=np.stack((values, difference), axis=-1),\n",
    "        hovertemplate=hover_text,\n",
    "        marker=dict(\n",
    "            size=1  # Hides the markers by setting their size to zero\n",
    "        )\n",
    "    ))\n",
    "\n",
    "    fig.add_trace(go.Scatterpolar(\n",
    "        r=norm_values,\n",
    "        theta=categories,\n",
    "        name=team_name,\n",
    "        opacity=0.6,\n",
    "        fillcolor='rgba(210, 210, 0, 0.6)',  # Adjusted for lighter opaque fill\n",
    "        line_color='rgba(210, 210, 0, 1)',  # Adjusted for lighter line color\n",
    "        fill='toself',\n",
    "        customdata=np.stack((values, difference), axis=-1),\n",
    "        hovertemplate=hover_text,\n",
    "        marker=dict(\n",
    "            size=1  # Hides the markers by setting their size to zero\n",
    "        )\n",
    "    ))\n",
    "\n",
    "    fig.add_layout_image(\n",
    "        dict(\n",
    "            source='https://i.imgur.com/9yKFcv4.png',\n",
    "            xref=\"paper\", yref=\"paper\",\n",
    "            x=0.16, y=1,\n",
    "            sizex=1.05, sizey=1.05,\n",
    "            opacity=0.7,  # Adjust opacity as needed\n",
    "            layer=\"below\"\n",
    "        )\n",
    "    )\n",
    "\n",
    "    for i, (value, category) in enumerate(zip(values, categories)):\n",
    "        angle = (i / float(len(categories))) * 2 * np.pi \n",
    "        x = 0.5 + (1.1) * np.cos(angle) / 2\n",
    "        y = 0.48 + (1.1) * np.sin(angle) / 1.8\n",
    "\n",
    "        annotation_text = \\\n",
    "        f\"<span style='font-size: 15px;'><b>{category}</b></span><br>\" \\\n",
    "        f\"<span style='line-height: 2px;'>&nbsp;</span><br>\" \\\n",
    "        f\"<span style='font-size: 20px; color: rgba(210, 210, 0, 1);'>{value:.2f}</span>\"\n",
    "\n",
    "        fig.add_annotation(\n",
    "            x=x,\n",
    "            y=y,\n",
    "            xref=\"paper\",\n",
    "            yref=\"paper\",\n",
    "            text=annotation_text,  # Bold category name and value\n",
    "            showarrow=False,\n",
    "            font=dict(size=10, color='white'),\n",
    "            align=\"center\",\n",
    "            xanchor='center',\n",
    "            yanchor='middle',\n",
    "        )\n",
    "\n",
    "    # Update layout\n",
    "    fig.update_layout(\n",
    "        autosize=False,\n",
    "        width=800,  # Set the width\n",
    "        height=600,  # Set the height\n",
    "        polar=dict(\n",
    "            bgcolor='rgba(0,0,0,0)',\n",
    "            radialaxis=dict(\n",
    "                visible=False,\n",
    "                range=[0, 1],\n",
    "                linecolor='rgba(17, 17, 17, 1)',\n",
    "                showline=False,\n",
    "                gridcolor='white'\n",
    "            ),\n",
    "            angularaxis=dict(\n",
    "                showline=False,  # Hide angular axis line\n",
    "                gridcolor='rgba(0,0,0,0)',\n",
    "                showticklabels=False  \n",
    "            )\n",
    "        ),\n",
    "        paper_bgcolor='rgb(70, 70, 70)',      \n",
    "        showlegend=False,\n",
    "        title=f'{chart_name} for {team_name}',\n",
    "        hoverlabel=dict(\n",
    "            bgcolor=\"rgba(20, 20, 20, 0.8)\",\n",
    "            font_family=\"Roboto, sans-serif\",\n",
    "            bordercolor=\"rgba(20, 20, 20, 0.8)\",),\n",
    "        font=dict(\n",
    "            family=\"Roboto, sans-serif\",  # Specify the font family\n",
    "            size=15,                     # Specify the font size\n",
    "            color=\"white\"                # Specify the font color\n",
    "        )\n",
    "    )\n",
    "\n",
    "    return fig\n",
    "\n"
   ]
  },
  {
   "cell_type": "code",
   "execution_count": 82,
   "metadata": {},
   "outputs": [
    {
     "data": {
      "application/vnd.plotly.v1+json": {
       "config": {
        "plotlyServerURL": "https://plotly.com"
       },
       "data": [
        {
         "customdata": [
          [
           19.7105263157895,
           0.014240000000002029
          ],
          [
           10.8157894736842,
           -0.010416666666664964
          ],
          [
           1.39473684210526,
           0.02666666666666906
          ],
          [
           1.68,
           -0.28097826086956523
          ],
          [
           16.3947368421053,
           -0.060704607046067005
          ],
          [
           56.0192616372392,
           0.0019512195121960119
          ],
          [
           8.94736842105263,
           -0.09103773584905595
          ],
          [
           3.28947368421053,
           -0.24860886457839598
          ]
         ],
         "fill": "toself",
         "fillcolor": "rgba(100, 100, 100, 0.65)",
         "hovertemplate": "<span style='font-size: 20px; color: #d3d3d3;'>%{theta}</span><br><span style='font-size: 20px; color: white;'>Value: %{customdata[0]:.2f}</span><br><span style='font-size: 15px; color: #d3d3d3;'>Difference from Average: %{customdata[1]:.2f}</span><extra></extra>",
         "line": {
          "color": "rgba(100, 100, 100, 1)"
         },
         "marker": {
          "size": 1
         },
         "name": "AVERAGE",
         "r": [
          0.540959999999998,
          0.47708333333333,
          0.52888888888889,
          0.378804347826087,
          0.472628726287262,
          0.568780487804881,
          0.572169811320755,
          0.530159207682654
         ],
         "theta": [
          "Clearances/Game",
          "Fouls Made/Game",
          "Conceded/Game",
          "xG Against/Game",
          "Tackles Attempted/Game",
          "Tackles Won (%)",
          "Interceptions/Game",
          "Blocked Shots/Game"
         ],
         "type": "scatterpolar"
        },
        {
         "customdata": [
          [
           19.7105263157895,
           0.014240000000002029
          ],
          [
           10.8157894736842,
           -0.010416666666664964
          ],
          [
           1.39473684210526,
           0.02666666666666906
          ],
          [
           1.68,
           -0.28097826086956523
          ],
          [
           16.3947368421053,
           -0.060704607046067005
          ],
          [
           56.0192616372392,
           0.0019512195121960119
          ],
          [
           8.94736842105263,
           -0.09103773584905595
          ],
          [
           3.28947368421053,
           -0.24860886457839598
          ]
         ],
         "fill": "toself",
         "fillcolor": "rgba(210, 210, 0, 0.6)",
         "hovertemplate": "<span style='font-size: 20px; color: #d3d3d3;'>%{theta}</span><br><span style='font-size: 20px; color: white;'>Value: %{customdata[0]:.2f}</span><br><span style='font-size: 15px; color: #d3d3d3;'>Difference from Average: %{customdata[1]:.2f}</span><extra></extra>",
         "line": {
          "color": "rgba(210, 210, 0, 1)"
         },
         "marker": {
          "size": 1
         },
         "name": "Fulham",
         "opacity": 0.6,
         "r": [
          0.5552,
          0.466666666666665,
          0.555555555555559,
          0.0978260869565218,
          0.411924119241195,
          0.570731707317077,
          0.481132075471699,
          0.281550343104258
         ],
         "theta": [
          "Clearances/Game",
          "Fouls Made/Game",
          "Conceded/Game",
          "xG Against/Game",
          "Tackles Attempted/Game",
          "Tackles Won (%)",
          "Interceptions/Game",
          "Blocked Shots/Game"
         ],
         "type": "scatterpolar"
        }
       ],
       "layout": {
        "annotations": [
         {
          "align": "center",
          "font": {
           "color": "white",
           "size": 10
          },
          "showarrow": false,
          "text": "<span style='font-size: 15px;'><b>Clearances/Game</b></span><br><span style='line-height: 2px;'>&nbsp;</span><br><span style='font-size: 20px; color: rgba(210, 210, 0, 1);'>19.71</span>",
          "x": 1.05,
          "xanchor": "center",
          "xref": "paper",
          "y": 0.48,
          "yanchor": "middle",
          "yref": "paper"
         },
         {
          "align": "center",
          "font": {
           "color": "white",
           "size": 10
          },
          "showarrow": false,
          "text": "<span style='font-size: 15px;'><b>Fouls Made/Game</b></span><br><span style='line-height: 2px;'>&nbsp;</span><br><span style='font-size: 20px; color: rgba(210, 210, 0, 1);'>10.82</span>",
          "x": 0.8889087296526013,
          "xanchor": "center",
          "xref": "paper",
          "y": 0.9121208107251124,
          "yanchor": "middle",
          "yref": "paper"
         },
         {
          "align": "center",
          "font": {
           "color": "white",
           "size": 10
          },
          "showarrow": false,
          "text": "<span style='font-size: 15px;'><b>Conceded/Game</b></span><br><span style='line-height: 2px;'>&nbsp;</span><br><span style='font-size: 20px; color: rgba(210, 210, 0, 1);'>1.39</span>",
          "x": 0.5,
          "xanchor": "center",
          "xref": "paper",
          "y": 1.0911111111111111,
          "yanchor": "middle",
          "yref": "paper"
         },
         {
          "align": "center",
          "font": {
           "color": "white",
           "size": 10
          },
          "showarrow": false,
          "text": "<span style='font-size: 15px;'><b>xG Against/Game</b></span><br><span style='line-height: 2px;'>&nbsp;</span><br><span style='font-size: 20px; color: rgba(210, 210, 0, 1);'>1.68</span>",
          "x": 0.11109127034739885,
          "xanchor": "center",
          "xref": "paper",
          "y": 0.9121208107251124,
          "yanchor": "middle",
          "yref": "paper"
         },
         {
          "align": "center",
          "font": {
           "color": "white",
           "size": 10
          },
          "showarrow": false,
          "text": "<span style='font-size: 15px;'><b>Tackles Attempted/Game</b></span><br><span style='line-height: 2px;'>&nbsp;</span><br><span style='font-size: 20px; color: rgba(210, 210, 0, 1);'>16.39</span>",
          "x": -0.050000000000000044,
          "xanchor": "center",
          "xref": "paper",
          "y": 0.48000000000000004,
          "yanchor": "middle",
          "yref": "paper"
         },
         {
          "align": "center",
          "font": {
           "color": "white",
           "size": 10
          },
          "showarrow": false,
          "text": "<span style='font-size: 15px;'><b>Tackles Won (%)</b></span><br><span style='line-height: 2px;'>&nbsp;</span><br><span style='font-size: 20px; color: rgba(210, 210, 0, 1);'>56.02</span>",
          "x": 0.11109127034739874,
          "xanchor": "center",
          "xref": "paper",
          "y": 0.0478791892748876,
          "yanchor": "middle",
          "yref": "paper"
         },
         {
          "align": "center",
          "font": {
           "color": "white",
           "size": 10
          },
          "showarrow": false,
          "text": "<span style='font-size: 15px;'><b>Interceptions/Game</b></span><br><span style='line-height: 2px;'>&nbsp;</span><br><span style='font-size: 20px; color: rgba(210, 210, 0, 1);'>8.95</span>",
          "x": 0.4999999999999999,
          "xanchor": "center",
          "xref": "paper",
          "y": -0.13111111111111118,
          "yanchor": "middle",
          "yref": "paper"
         },
         {
          "align": "center",
          "font": {
           "color": "white",
           "size": 10
          },
          "showarrow": false,
          "text": "<span style='font-size: 15px;'><b>Blocked Shots/Game</b></span><br><span style='line-height: 2px;'>&nbsp;</span><br><span style='font-size: 20px; color: rgba(210, 210, 0, 1);'>3.29</span>",
          "x": 0.888908729652601,
          "xanchor": "center",
          "xref": "paper",
          "y": 0.04787918927488749,
          "yanchor": "middle",
          "yref": "paper"
         }
        ],
        "autosize": false,
        "font": {
         "color": "white",
         "family": "Roboto, sans-serif",
         "size": 15
        },
        "height": 600,
        "hoverlabel": {
         "bgcolor": "rgba(20, 20, 20, 0.8)",
         "bordercolor": "rgba(20, 20, 20, 0.8)",
         "font": {
          "family": "Roboto, sans-serif"
         }
        },
        "images": [
         {
          "layer": "below",
          "opacity": 0.7,
          "sizex": 1.05,
          "sizey": 1.05,
          "source": "https://i.imgur.com/9yKFcv4.png",
          "x": 0.16,
          "xref": "paper",
          "y": 1,
          "yref": "paper"
         }
        ],
        "paper_bgcolor": "rgb(70, 70, 70)",
        "polar": {
         "angularaxis": {
          "gridcolor": "rgba(0,0,0,0)",
          "showline": false,
          "showticklabels": false
         },
         "bgcolor": "rgba(0,0,0,0)",
         "radialaxis": {
          "gridcolor": "white",
          "linecolor": "rgba(17, 17, 17, 1)",
          "range": [
           0,
           1
          ],
          "showline": false,
          "visible": false
         }
        },
        "showlegend": false,
        "template": {
         "data": {
          "candlestick": [
           {
            "decreasing": {
             "line": {
              "color": "#000033"
             }
            },
            "increasing": {
             "line": {
              "color": "#000032"
             }
            },
            "type": "candlestick"
           }
          ],
          "contour": [
           {
            "colorscale": [
             [
              0,
              "#000011"
             ],
             [
              0.1111111111111111,
              "#000012"
             ],
             [
              0.2222222222222222,
              "#000013"
             ],
             [
              0.3333333333333333,
              "#000014"
             ],
             [
              0.4444444444444444,
              "#000015"
             ],
             [
              0.5555555555555556,
              "#000016"
             ],
             [
              0.6666666666666666,
              "#000017"
             ],
             [
              0.7777777777777778,
              "#000018"
             ],
             [
              0.8888888888888888,
              "#000019"
             ],
             [
              1,
              "#000020"
             ]
            ],
            "type": "contour"
           }
          ],
          "contourcarpet": [
           {
            "colorscale": [
             [
              0,
              "#000011"
             ],
             [
              0.1111111111111111,
              "#000012"
             ],
             [
              0.2222222222222222,
              "#000013"
             ],
             [
              0.3333333333333333,
              "#000014"
             ],
             [
              0.4444444444444444,
              "#000015"
             ],
             [
              0.5555555555555556,
              "#000016"
             ],
             [
              0.6666666666666666,
              "#000017"
             ],
             [
              0.7777777777777778,
              "#000018"
             ],
             [
              0.8888888888888888,
              "#000019"
             ],
             [
              1,
              "#000020"
             ]
            ],
            "type": "contourcarpet"
           }
          ],
          "heatmap": [
           {
            "colorscale": [
             [
              0,
              "#000011"
             ],
             [
              0.1111111111111111,
              "#000012"
             ],
             [
              0.2222222222222222,
              "#000013"
             ],
             [
              0.3333333333333333,
              "#000014"
             ],
             [
              0.4444444444444444,
              "#000015"
             ],
             [
              0.5555555555555556,
              "#000016"
             ],
             [
              0.6666666666666666,
              "#000017"
             ],
             [
              0.7777777777777778,
              "#000018"
             ],
             [
              0.8888888888888888,
              "#000019"
             ],
             [
              1,
              "#000020"
             ]
            ],
            "type": "heatmap"
           }
          ],
          "histogram2d": [
           {
            "colorscale": [
             [
              0,
              "#000011"
             ],
             [
              0.1111111111111111,
              "#000012"
             ],
             [
              0.2222222222222222,
              "#000013"
             ],
             [
              0.3333333333333333,
              "#000014"
             ],
             [
              0.4444444444444444,
              "#000015"
             ],
             [
              0.5555555555555556,
              "#000016"
             ],
             [
              0.6666666666666666,
              "#000017"
             ],
             [
              0.7777777777777778,
              "#000018"
             ],
             [
              0.8888888888888888,
              "#000019"
             ],
             [
              1,
              "#000020"
             ]
            ],
            "type": "histogram2d"
           }
          ],
          "icicle": [
           {
            "textfont": {
             "color": "white"
            },
            "type": "icicle"
           }
          ],
          "sankey": [
           {
            "textfont": {
             "color": "#000036"
            },
            "type": "sankey"
           }
          ],
          "scatter": [
           {
            "marker": {
             "line": {
              "width": 0
             }
            },
            "type": "scatter"
           }
          ],
          "table": [
           {
            "cells": {
             "fill": {
              "color": "#000038"
             },
             "font": {
              "color": "#000037"
             },
             "line": {
              "color": "#000039"
             }
            },
            "header": {
             "fill": {
              "color": "#000040"
             },
             "font": {
              "color": "#000036"
             },
             "line": {
              "color": "#000039"
             }
            },
            "type": "table"
           }
          ],
          "waterfall": [
           {
            "connector": {
             "line": {
              "color": "#000036",
              "width": 2
             }
            },
            "decreasing": {
             "marker": {
              "color": "#000033"
             }
            },
            "increasing": {
             "marker": {
              "color": "#000032"
             }
            },
            "totals": {
             "marker": {
              "color": "#000034"
             }
            },
            "type": "waterfall"
           }
          ]
         },
         "layout": {
          "coloraxis": {
           "colorscale": [
            [
             0,
             "#000011"
            ],
            [
             0.1111111111111111,
             "#000012"
            ],
            [
             0.2222222222222222,
             "#000013"
            ],
            [
             0.3333333333333333,
             "#000014"
            ],
            [
             0.4444444444444444,
             "#000015"
            ],
            [
             0.5555555555555556,
             "#000016"
            ],
            [
             0.6666666666666666,
             "#000017"
            ],
            [
             0.7777777777777778,
             "#000018"
            ],
            [
             0.8888888888888888,
             "#000019"
            ],
            [
             1,
             "#000020"
            ]
           ]
          },
          "colorscale": {
           "diverging": [
            [
             0,
             "#000021"
            ],
            [
             0.1,
             "#000022"
            ],
            [
             0.2,
             "#000023"
            ],
            [
             0.3,
             "#000024"
            ],
            [
             0.4,
             "#000025"
            ],
            [
             0.5,
             "#000026"
            ],
            [
             0.6,
             "#000027"
            ],
            [
             0.7,
             "#000028"
            ],
            [
             0.8,
             "#000029"
            ],
            [
             0.9,
             "#000030"
            ],
            [
             1,
             "#000031"
            ]
           ],
           "sequential": [
            [
             0,
             "#000011"
            ],
            [
             0.1111111111111111,
             "#000012"
            ],
            [
             0.2222222222222222,
             "#000013"
            ],
            [
             0.3333333333333333,
             "#000014"
            ],
            [
             0.4444444444444444,
             "#000015"
            ],
            [
             0.5555555555555556,
             "#000016"
            ],
            [
             0.6666666666666666,
             "#000017"
            ],
            [
             0.7777777777777778,
             "#000018"
            ],
            [
             0.8888888888888888,
             "#000019"
            ],
            [
             1,
             "#000020"
            ]
           ],
           "sequentialminus": [
            [
             0,
             "#000011"
            ],
            [
             0.1111111111111111,
             "#000012"
            ],
            [
             0.2222222222222222,
             "#000013"
            ],
            [
             0.3333333333333333,
             "#000014"
            ],
            [
             0.4444444444444444,
             "#000015"
            ],
            [
             0.5555555555555556,
             "#000016"
            ],
            [
             0.6666666666666666,
             "#000017"
            ],
            [
             0.7777777777777778,
             "#000018"
            ],
            [
             0.8888888888888888,
             "#000019"
            ],
            [
             1,
             "#000020"
            ]
           ]
          },
          "colorway": [
           "#000001",
           "#000002",
           "#000003",
           "#000004",
           "#000005",
           "#000006",
           "#000007",
           "#000008",
           "#000009",
           "#000010"
          ]
         }
        },
        "title": {
         "text": "Defending Radar Chart for Fulham"
        },
        "width": 800
       }
      }
     },
     "metadata": {},
     "output_type": "display_data"
    }
   ],
   "source": [
    "# def standard_radar_chart(team_name, data):\n",
    "#     # Filter data for the selected team\n",
    "#     team_data = data[data['TEAM_NAME'] == team_name]\n",
    "#     average_data = data[data['TEAM_NAME'] == 'AVERAGE']\n",
    "\n",
    "#     # Prepare data for plotting\n",
    "#     categories = team_data['Stats']\n",
    "#     norm_values = team_data['Norm_Values']\n",
    "#     average_norm_values = average_data['Norm_Values']\n",
    "#     values = team_data['Values']\n",
    "    \n",
    "\n",
    "#     difference = [golden - average for golden, average in zip(norm_values, average_norm_values)]\n",
    "\n",
    "#     hover_text = (\n",
    "#     \"<span style='font-size: 20px; color: #d3d3d3;'>%{theta}</span><br>\"\n",
    "#     \"<span style='font-size: 20px; color: white;'>Value: %{customdata[0]:.2f}</span><br>\"\n",
    "#     \"<span style='font-size: 15px; color: #d3d3d3;'>Difference from Average: %{customdata[1]:.2f}</span><extra></extra>\"\n",
    "#     )\n",
    "\n",
    "#     # Create radar chart\n",
    "#     fig = go.Figure()\n",
    "\n",
    "#     fig.add_trace(go.Scatterpolar(\n",
    "#         r=average_norm_values,\n",
    "#         theta=categories,\n",
    "#         name='AVERAGE',\n",
    "#         fillcolor='rgba(100, 100, 100, 0.65)',  # Different color for distinction\n",
    "#         line_color='rgba(100, 100, 100, 1)', # Line colour for Average plot\n",
    "#         fill='toself',\n",
    "#         customdata=np.stack((values, difference), axis=-1),\n",
    "#         hovertemplate=hover_text,\n",
    "#         marker=dict(\n",
    "#             size=1  # Hides the markers by setting their size to zero\n",
    "#         )\n",
    "#     ))\n",
    "\n",
    "#     fig.add_trace(go.Scatterpolar(\n",
    "#         r=norm_values,\n",
    "#         theta=categories,\n",
    "#         name=team_name,\n",
    "#         opacity=0.6,\n",
    "#         fillcolor='rgba(210, 210, 0, 0.6)',  # Adjusted for lighter opaque fill\n",
    "#         line_color='rgba(210, 210, 0, 1)',  # Adjusted for lighter line color\n",
    "#         fill='toself',\n",
    "#         customdata=np.stack((values, difference), axis=-1),\n",
    "#         hovertemplate=hover_text,\n",
    "#         marker=dict(\n",
    "#             size=1  # Hides the markers by setting their size to zero\n",
    "#         )\n",
    "#     ))\n",
    "\n",
    "#     fig.add_layout_image(\n",
    "#         dict(\n",
    "#             source='https://i.imgur.com/9yKFcv4.png',\n",
    "#             xref=\"paper\", yref=\"paper\",\n",
    "#             x=0.16, y=1,\n",
    "#             sizex=1.05, sizey=1.05,\n",
    "#             opacity=0.7,  # Adjust opacity as needed\n",
    "#             layer=\"below\"\n",
    "#         )\n",
    "#     )\n",
    "\n",
    "#     for i, (value, category) in enumerate(zip(values, categories)):\n",
    "#         angle = (i / float(len(categories))) * 2 * np.pi \n",
    "#         x = 0.5 + (1.1) * np.cos(angle) / 2\n",
    "#         y = 0.48 + (1.1) * np.sin(angle) / 1.8\n",
    "\n",
    "#         annotation_text = \\\n",
    "#         f\"<span style='font-size: 15px;'><b>{category}</b></span><br>\" \\\n",
    "#         f\"<span style='line-height: 2px;'>&nbsp;</span><br>\" \\\n",
    "#         f\"<span style='font-size: 20px; color: rgba(210, 210, 0, 1);'>{value:.2f}</span>\"\n",
    "\n",
    "#         fig.add_annotation(\n",
    "#             x=x,\n",
    "#             y=y,\n",
    "#             xref=\"paper\",\n",
    "#             yref=\"paper\",\n",
    "#             text=annotation_text,  # Bold category name and value\n",
    "#             showarrow=False,\n",
    "#             font=dict(size=10, color='white'),\n",
    "#             align=\"center\",\n",
    "#             xanchor='center',\n",
    "#             yanchor='middle',\n",
    "#         )\n",
    "\n",
    "#     # Update layout\n",
    "#     fig.update_layout(\n",
    "#         autosize=False,\n",
    "#         width=800,  # Set the width\n",
    "#         height=600,  # Set the height\n",
    "#         polar=dict(\n",
    "#             bgcolor='rgba(0,0,0,0)',\n",
    "#             radialaxis=dict(\n",
    "#                 visible=False,\n",
    "#                 range=[0, 1],\n",
    "#                 linecolor='rgba(17, 17, 17, 1)',\n",
    "#                 showline=False,\n",
    "#                 gridcolor='white'\n",
    "#             ),\n",
    "#             angularaxis=dict(\n",
    "#                 showline=False,  # Hide angular axis line\n",
    "#                 gridcolor='rgba(0,0,0,0)',\n",
    "#                 showticklabels=False  \n",
    "#             )\n",
    "#         ),\n",
    "#         paper_bgcolor='rgb(70, 70, 70)',      \n",
    "#         showlegend=False,\n",
    "#         title=f'Radar Chart for {team_name}',\n",
    "#         hoverlabel=dict(\n",
    "#             bgcolor=\"rgba(20, 20, 20, 0.8)\",\n",
    "#             font_family=\"Roboto, sans-serif\",\n",
    "#             bordercolor=\"rgba(20, 20, 20, 0.8)\",),\n",
    "#         font=dict(\n",
    "#             family=\"Roboto, sans-serif\",  # Specify the font family\n",
    "#             size=15,                     # Specify the font size\n",
    "#             color=\"white\"                # Specify the font color\n",
    "#         )\n",
    "#     )\n",
    "\n",
    "#     return fig\n",
    "\n",
    "# Create and show the radar chart for a specific team\n",
    "fig = create_radar_chart(2223, 'Fulham', defending_chart_data, \"Defending Radar Chart\")\n",
    "fig.show()"
   ]
  },
  {
   "cell_type": "code",
   "execution_count": null,
   "metadata": {},
   "outputs": [],
   "source": []
  },
  {
   "cell_type": "code",
   "execution_count": null,
   "metadata": {},
   "outputs": [],
   "source": [
    "def standard_radar_chart(team_name, data):\n",
    "    # Filter data for the selected team\n",
    "    team_data = data[data['TEAM_NAME'] == team_name]\n",
    "    average_data = data[data['TEAM_NAME'] == 'AVERAGE']\n",
    "\n",
    "    # Prepare data for plotting\n",
    "    categories = team_data['Stats']\n",
    "    norm_values = team_data['Norm_Values']\n",
    "    average_norm_values = average_data['Norm_Values']\n",
    "    values = team_data['Values']\n",
    "    \n",
    "\n",
    "    difference = [golden - average for golden, average in zip(norm_values, average_norm_values)]\n",
    "\n",
    "    hover_text = (\n",
    "    \"<span style='font-size: 20px; color: #d3d3d3;'>%{theta}</span><br>\"\n",
    "    \"<span style='font-size: 20px; color: white;'>Value: %{customdata[0]:.2f}</span><br>\"\n",
    "    \"<span style='font-size: 15px; color: #d3d3d3;'>Difference from Average: %{customdata[1]:.2f}</span><extra></extra>\"\n",
    "    )\n",
    "\n",
    "    # Create radar chart\n",
    "    fig = go.Figure()\n",
    "\n",
    "    fig.add_trace(go.Scatterpolar(\n",
    "        r=average_norm_values,\n",
    "        theta=categories,\n",
    "        name='AVERAGE',\n",
    "        fillcolor='rgba(100, 100, 100, 0.65)',  # Different color for distinction\n",
    "        line_color='rgba(100, 100, 100, 1)', # Line colour for Average plot\n",
    "        fill='toself',\n",
    "        customdata=np.stack((values, difference), axis=-1),\n",
    "        hovertemplate=hover_text,\n",
    "        marker=dict(\n",
    "            size=1  # Hides the markers by setting their size to zero\n",
    "        )\n",
    "    ))\n",
    "\n",
    "    fig.add_trace(go.Scatterpolar(\n",
    "        r=norm_values,\n",
    "        theta=categories,\n",
    "        name=team_name,\n",
    "        opacity=0.6,\n",
    "        fillcolor='rgba(210, 210, 0, 0.6)',  # Adjusted for lighter opaque fill\n",
    "        line_color='rgba(210, 210, 0, 1)',  # Adjusted for lighter line color\n",
    "        fill='toself',\n",
    "        customdata=np.stack((values, difference), axis=-1),\n",
    "        hovertemplate=hover_text,\n",
    "        marker=dict(\n",
    "            size=1  # Hides the markers by setting their size to zero\n",
    "        )\n",
    "    ))\n",
    "\n",
    "    fig.add_layout_image(\n",
    "        dict(\n",
    "            source='https://i.imgur.com/9yKFcv4.png',\n",
    "            xref=\"paper\", yref=\"paper\",\n",
    "            x=0.16, y=1,\n",
    "            sizex=1.05, sizey=1.05,\n",
    "            opacity=0.7,  # Adjust opacity as needed\n",
    "            layer=\"below\"\n",
    "        )\n",
    "    )\n",
    "\n",
    "    for i, (value, category) in enumerate(zip(values, categories)):\n",
    "    # Calculate the angle for the category\n",
    "        angle = (i / float(len(categories))) * 2 * np.pi \n",
    "        x = 0.5 + (1.1) * np.cos(angle) / 2\n",
    "        y = 0.48 + (1.1) * np.sin(angle) / 1.8\n",
    "\n",
    "        annotation_text = \\\n",
    "        f\"<span style='font-size: 15px;'><b>{category}</b></span><br>\" \\\n",
    "        f\"<span style='line-height: 2px;'>&nbsp;</span><br>\" \\\n",
    "        f\"<span style='font-size: 20px; color: rgba(210, 210, 0, 1);'>{value:.2f}</span>\"\n",
    "\n",
    "        fig.add_annotation(\n",
    "            x=x,\n",
    "            y=y,\n",
    "            xref=\"paper\",\n",
    "            yref=\"paper\",\n",
    "            text=annotation_text,  # Bold category name and value\n",
    "            showarrow=False,\n",
    "            font=dict(size=10, color='white'),\n",
    "            align=\"center\",\n",
    "            # The xanchor and yanchor are set to 'middle' and 'center' to center the annotations\n",
    "            xanchor='center',\n",
    "            yanchor='middle',\n",
    "        )\n",
    "\n",
    "    # Update layout\n",
    "    fig.update_layout(\n",
    "        autosize=False,\n",
    "        width=800,  # Set the width\n",
    "        height=600,  # Set the height\n",
    "        polar=dict(\n",
    "            bgcolor='rgba(0,0,0,0)',\n",
    "            radialaxis=dict(\n",
    "                visible=False,\n",
    "                range=[0, 1],\n",
    "                linecolor='rgba(17, 17, 17, 1)',\n",
    "                showline=False,\n",
    "                gridcolor='white'\n",
    "            ),\n",
    "            angularaxis=dict(\n",
    "                showline=False,  # Hide angular axis line\n",
    "                gridcolor='rgba(0,0,0,0)',\n",
    "                showticklabels=False  \n",
    "            )\n",
    "        ),\n",
    "        paper_bgcolor='rgb(70, 70, 70)',      \n",
    "        showlegend=False,\n",
    "        title=f'Radar Chart for {team_name}',\n",
    "        hoverlabel=dict(\n",
    "            bgcolor=\"rgba(20, 20, 20, 0.8)\",\n",
    "            font_family=\"Roboto, sans-serif\",\n",
    "            bordercolor=\"rgba(20, 20, 20, 0.8)\",),\n",
    "        font=dict(\n",
    "            family=\"Roboto, sans-serif\",  # Specify the font family\n",
    "            size=15,                     # Specify the font size\n",
    "            color=\"white\"                # Specify the font color\n",
    "        )\n",
    "    )\n",
    "\n",
    "    return fig\n",
    "\n",
    "# Create and show the radar chart for a specific team\n",
    "fig = standard_radar_chart('Manchester City', standard_chart_data)\n",
    "fig.show()"
   ]
  },
  {
   "cell_type": "code",
   "execution_count": null,
   "metadata": {},
   "outputs": [],
   "source": []
  },
  {
   "cell_type": "code",
   "execution_count": null,
   "metadata": {},
   "outputs": [],
   "source": []
  },
  {
   "cell_type": "code",
   "execution_count": null,
   "metadata": {},
   "outputs": [],
   "source": []
  }
 ],
 "metadata": {
  "kernelspec": {
   "display_name": "footy",
   "language": "python",
   "name": "python3"
  },
  "language_info": {
   "codemirror_mode": {
    "name": "ipython",
    "version": 3
   },
   "file_extension": ".py",
   "mimetype": "text/x-python",
   "name": "python",
   "nbconvert_exporter": "python",
   "pygments_lexer": "ipython3",
   "version": "3.11.5"
  }
 },
 "nbformat": 4,
 "nbformat_minor": 2
}
