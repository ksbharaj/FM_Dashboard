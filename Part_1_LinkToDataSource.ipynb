{
 "cells": [
  {
   "cell_type": "code",
   "execution_count": 30,
   "metadata": {},
   "outputs": [],
   "source": [
    "import soccerdata as sd\n",
    "import pandas as pd\n",
    "from tqdm import tqdm\n",
    "import ScraperFC as sfc\n",
    "import traceback\n",
    "\n",
    "import warnings\n",
    "import uuid"
   ]
  },
  {
   "cell_type": "code",
   "execution_count": 31,
   "metadata": {},
   "outputs": [],
   "source": [
    "## Create a connection to Snowflake\n",
    "from sqlalchemy import create_engine\n",
    "import snowflake.connector"
   ]
  },
  {
   "cell_type": "code",
   "execution_count": 32,
   "metadata": {},
   "outputs": [],
   "source": [
    "import snowflake.connector"
   ]
  },
  {
   "cell_type": "code",
   "execution_count": 59,
   "metadata": {},
   "outputs": [],
   "source": [
    "from snowflake.connector.pandas_tools import write_pandas\n",
    "from snowflake.sqlalchemy import URL"
   ]
  },
  {
   "cell_type": "code",
   "execution_count": 34,
   "metadata": {},
   "outputs": [],
   "source": [
    "## Set options to view all columns\n",
    "pd.set_option('display.max_columns', None)"
   ]
  },
  {
   "cell_type": "code",
   "execution_count": 6,
   "metadata": {},
   "outputs": [
    {
     "name": "stdout",
     "output_type": "stream",
     "text": [
      "Scraping 2023 EPL league table\n"
     ]
    },
    {
     "name": "stderr",
     "output_type": "stream",
     "text": [
      "d:\\Users\\ksbha\\miniconda3\\envs\\footy\\Lib\\site-packages\\ScraperFC\\FBRef.py:216: FutureWarning: Passing literal html to 'read_html' is deprecated and will be removed in a future version. To read from a literal string, wrap it in a 'StringIO' object.\n",
      "  lg_table = pd.read_html(str(lg_table_html))[0]\n"
     ]
    }
   ],
   "source": [
    "scraper = sfc.FBRef()\n",
    "try:\n",
    "    # Scrape the table\n",
    "    lg_table = scraper.scrape_league_table(year=2023, league='EPL')\n",
    "except:\n",
    "    # Catch and print any exceptions. This allows us to still close the\n",
    "    # scraper below, even if an exception occurs.\n",
    "    traceback.print_exc()\n",
    "finally:\n",
    "    # It's important to close the scraper when you're done with it. Otherwise,\n",
    "    # you'll have a bunch of webdrivers open and running in the background.\n",
    "    scraper.close()"
   ]
  },
  {
   "cell_type": "code",
   "execution_count": 35,
   "metadata": {},
   "outputs": [],
   "source": [
    "lg_table.sort_values(by='Squad', ascending=True, inplace=True)\n",
    "lg_table.reset_index(drop=True, inplace=True)"
   ]
  },
  {
   "cell_type": "code",
   "execution_count": 37,
   "metadata": {},
   "outputs": [
    {
     "data": {
      "text/html": [
       "<pre style=\"white-space:pre;overflow-x:auto;line-height:normal;font-family:Menlo,'DejaVu Sans Mono',consolas,'Courier New',monospace\"><span style=\"color: #7fbfbf; text-decoration-color: #7fbfbf\">[12/13/23 12:14:09] </span><span style=\"color: #000080; text-decoration-color: #000080\">INFO    </span> Saving cached data to C:\\Users\\ksbha\\soccerdata\\data\\FBref               <a href=\"file://d:\\Users\\ksbha\\miniconda3\\envs\\footy\\Lib\\site-packages\\soccerdata\\_common.py\" target=\"_blank\"><span style=\"color: #7f7f7f; text-decoration-color: #7f7f7f\">_common.py</span></a><span style=\"color: #7f7f7f; text-decoration-color: #7f7f7f\">:</span><a href=\"file://d:\\Users\\ksbha\\miniconda3\\envs\\footy\\Lib\\site-packages\\soccerdata\\_common.py#91\" target=\"_blank\"><span style=\"color: #7f7f7f; text-decoration-color: #7f7f7f\">91</span></a>\n",
       "</pre>\n"
      ],
      "text/plain": [
       "\u001b[2;36m[12/13/23 12:14:09]\u001b[0m\u001b[2;36m \u001b[0m\u001b[34mINFO    \u001b[0m Saving cached data to C:\\Users\\ksbha\\soccerdata\\data\\FBref               \u001b]8;id=28154;file://d:\\Users\\ksbha\\miniconda3\\envs\\footy\\Lib\\site-packages\\soccerdata\\_common.py\u001b\\\u001b[2m_common.py\u001b[0m\u001b]8;;\u001b\\\u001b[2m:\u001b[0m\u001b]8;id=261034;file://d:\\Users\\ksbha\\miniconda3\\envs\\footy\\Lib\\site-packages\\soccerdata\\_common.py#91\u001b\\\u001b[2m91\u001b[0m\u001b]8;;\u001b\\\n"
      ]
     },
     "metadata": {},
     "output_type": "display_data"
    }
   ],
   "source": [
    "fbref = sd.FBref(leagues=\"ENG-Premier League\", seasons=[\"2223\"])\n",
    "fbref_team_standard = fbref.read_team_season_stats(stat_type='standard')\n",
    "fbref_team_standard_oppo = fbref.read_team_season_stats(stat_type='standard', opponent_stats=True).reset_index()\n",
    "fbref_team_shooting = fbref.read_team_season_stats(stat_type='shooting').reset_index()\n",
    "fbref_team_passing = fbref.read_team_season_stats(stat_type='passing').reset_index()\n",
    "fbref_player_defense = fbref.read_player_season_stats(stat_type='defense').reset_index()\n",
    "fbref_team_defense = fbref.read_team_season_stats(stat_type='defense').reset_index()\n",
    "fbref_team_possession = fbref.read_team_season_stats(stat_type='possession').reset_index()\n",
    "fbref_team_misc = fbref.read_team_season_stats(stat_type='misc').reset_index()"
   ]
  },
  {
   "cell_type": "code",
   "execution_count": 38,
   "metadata": {},
   "outputs": [],
   "source": [
    "team_names = fbref_team_standard.reset_index().team\n",
    "team_matches_played = fbref_team_standard['Playing Time'].MP\n",
    "team_goals_scored = lg_table.GF\n",
    "team_npxG_90 = fbref_team_standard['Per 90 Minutes'].npxG\n",
    "team_goals_conceded = lg_table.GA\n",
    "team_xG_against_90 = fbref_team_standard_oppo['Per 90 Minutes'].xG\n",
    "team_shots = fbref_team_shooting['Standard'].Sh\n",
    "team_shotsOT = fbref_team_shooting['Standard'].SoT\n",
    "team_pass_completed = fbref_team_passing[\"Total\"].Cmp\n",
    "team_pass_attempted = fbref_team_passing[\"Total\"].Att\n",
    "team_tackles = fbref_team_defense.Tackles.Tkl\n",
    "team_tackles_won = fbref_team_defense.Tackles.TklW\n",
    "team_takeons_attempted = fbref_team_possession['Take-Ons'].Att\n",
    "team_takeons_completed = fbref_team_possession['Take-Ons'].Succ\n",
    "team_crossesintoPA = fbref_team_passing['CrsPA']\n",
    "team_fouls_against = fbref_team_misc['Performance']['Fld']\n",
    "team_fouls_made = fbref_team_misc['Performance']['Fls']\n",
    "team_interceptions = fbref_team_defense['Int']\n",
    "team_blocks_shots = fbref_team_defense['Blocks'].Sh\n",
    "team_blocks_pass = fbref_team_defense['Blocks'].Pass\n",
    "team_clearances = fbref_team_defense.Clr"
   ]
  },
  {
   "cell_type": "code",
   "execution_count": 50,
   "metadata": {},
   "outputs": [],
   "source": [
    "team_names = fbref_team_standard.reset_index()[['team','url']]\n",
    "team_names['TEAM_FBREF_ID'] = team_names['url'].apply(lambda x: x.split('/')[3])      ## Extracting team_id from URL\n",
    "team_names.drop(columns=['url'], inplace=True)\n",
    "team_names.columns = team_names.columns.droplevel(1)\n",
    "team_names.rename(columns={'team': 'TEAM_NAME'}, inplace=True)"
   ]
  },
  {
   "cell_type": "code",
   "execution_count": 52,
   "metadata": {},
   "outputs": [],
   "source": [
    "team_names['TEAM_FBREF_ID'] = team_names['TEAM_FBREF_ID'].astype('string')"
   ]
  },
  {
   "cell_type": "code",
   "execution_count": 62,
   "metadata": {},
   "outputs": [],
   "source": [
    "SNOWFLAKE_USER = 'kbharaj3'\n",
    "SNOWFLAKE_PASSWORD = 'Snowfl@key0014'\n",
    "SNOWFLAKE_ACCOUNT = 'qx25653.ca-central-1.aws'\n",
    "SNOWFLAKE_WAREHOUSE = 'FOOTY_STORE'\n",
    "SNOWFLAKE_DATABASE = 'GEGENSTATS'\n",
    "SNOWFLAKE_SCHEMA = 'FBREF_TEAMSTATS'"
   ]
  },
  {
   "cell_type": "code",
   "execution_count": 42,
   "metadata": {},
   "outputs": [
    {
     "data": {
      "text/html": [
       "<pre style=\"white-space:pre;overflow-x:auto;line-height:normal;font-family:Menlo,'DejaVu Sans Mono',consolas,'Courier New',monospace\"><span style=\"color: #7fbfbf; text-decoration-color: #7fbfbf\">[12/13/23 12:14:26] </span><span style=\"color: #000080; text-decoration-color: #000080\">INFO    </span> Snowflake Connector for Python Version: <span style=\"color: #008080; text-decoration-color: #008080; font-weight: bold\">3.3</span>.<span style=\"color: #008080; text-decoration-color: #008080; font-weight: bold\">1</span>, Python Version:       <a href=\"file://d:\\Users\\ksbha\\miniconda3\\envs\\footy\\Lib\\site-packages\\snowflake\\connector\\connection.py\" target=\"_blank\"><span style=\"color: #7f7f7f; text-decoration-color: #7f7f7f\">connection.py</span></a><span style=\"color: #7f7f7f; text-decoration-color: #7f7f7f\">:</span><a href=\"file://d:\\Users\\ksbha\\miniconda3\\envs\\footy\\Lib\\site-packages\\snowflake\\connector\\connection.py#334\" target=\"_blank\"><span style=\"color: #7f7f7f; text-decoration-color: #7f7f7f\">334</span></a>\n",
       "<span style=\"color: #7fbfbf; text-decoration-color: #7fbfbf\">                    </span>         <span style=\"color: #008080; text-decoration-color: #008080; font-weight: bold\">3.11</span>.<span style=\"color: #008080; text-decoration-color: #008080; font-weight: bold\">5</span>, Platform: Windows-<span style=\"color: #008080; text-decoration-color: #008080; font-weight: bold\">10</span>-<span style=\"color: #008080; text-decoration-color: #008080; font-weight: bold\">10.0</span>.<span style=\"color: #008080; text-decoration-color: #008080; font-weight: bold\">22000</span>-SP0                          <span style=\"color: #7f7f7f; text-decoration-color: #7f7f7f\">                 </span>\n",
       "</pre>\n"
      ],
      "text/plain": [
       "\u001b[2;36m[12/13/23 12:14:26]\u001b[0m\u001b[2;36m \u001b[0m\u001b[34mINFO    \u001b[0m Snowflake Connector for Python Version: \u001b[1;36m3.3\u001b[0m.\u001b[1;36m1\u001b[0m, Python Version:       \u001b]8;id=462376;file://d:\\Users\\ksbha\\miniconda3\\envs\\footy\\Lib\\site-packages\\snowflake\\connector\\connection.py\u001b\\\u001b[2mconnection.py\u001b[0m\u001b]8;;\u001b\\\u001b[2m:\u001b[0m\u001b]8;id=776360;file://d:\\Users\\ksbha\\miniconda3\\envs\\footy\\Lib\\site-packages\\snowflake\\connector\\connection.py#334\u001b\\\u001b[2m334\u001b[0m\u001b]8;;\u001b\\\n",
       "\u001b[2;36m                    \u001b[0m         \u001b[1;36m3.11\u001b[0m.\u001b[1;36m5\u001b[0m, Platform: Windows-\u001b[1;36m10\u001b[0m-\u001b[1;36m10.0\u001b[0m.\u001b[1;36m22000\u001b[0m-SP0                          \u001b[2m                 \u001b[0m\n"
      ]
     },
     "metadata": {},
     "output_type": "display_data"
    },
    {
     "data": {
      "text/html": [
       "<pre style=\"white-space:pre;overflow-x:auto;line-height:normal;font-family:Menlo,'DejaVu Sans Mono',consolas,'Courier New',monospace\"><span style=\"color: #7fbfbf; text-decoration-color: #7fbfbf\">                    </span><span style=\"color: #000080; text-decoration-color: #000080\">INFO    </span> This connection is in OCSP Fail Open Mode. TLS Certificates would   <a href=\"file://d:\\Users\\ksbha\\miniconda3\\envs\\footy\\Lib\\site-packages\\snowflake\\connector\\connection.py\" target=\"_blank\"><span style=\"color: #7f7f7f; text-decoration-color: #7f7f7f\">connection.py</span></a><span style=\"color: #7f7f7f; text-decoration-color: #7f7f7f\">:</span><a href=\"file://d:\\Users\\ksbha\\miniconda3\\envs\\footy\\Lib\\site-packages\\snowflake\\connector\\connection.py#1103\" target=\"_blank\"><span style=\"color: #7f7f7f; text-decoration-color: #7f7f7f\">1103</span></a>\n",
       "<span style=\"color: #7fbfbf; text-decoration-color: #7fbfbf\">                    </span>         be checked for validity and revocation status. Any other            <span style=\"color: #7f7f7f; text-decoration-color: #7f7f7f\">                  </span>\n",
       "<span style=\"color: #7fbfbf; text-decoration-color: #7fbfbf\">                    </span>         Certificate Revocation related exceptions or OCSP Responder         <span style=\"color: #7f7f7f; text-decoration-color: #7f7f7f\">                  </span>\n",
       "<span style=\"color: #7fbfbf; text-decoration-color: #7fbfbf\">                    </span>         failures would be disregarded in favor of connectivity.             <span style=\"color: #7f7f7f; text-decoration-color: #7f7f7f\">                  </span>\n",
       "</pre>\n"
      ],
      "text/plain": [
       "\u001b[2;36m                   \u001b[0m\u001b[2;36m \u001b[0m\u001b[34mINFO    \u001b[0m This connection is in OCSP Fail Open Mode. TLS Certificates would   \u001b]8;id=623802;file://d:\\Users\\ksbha\\miniconda3\\envs\\footy\\Lib\\site-packages\\snowflake\\connector\\connection.py\u001b\\\u001b[2mconnection.py\u001b[0m\u001b]8;;\u001b\\\u001b[2m:\u001b[0m\u001b]8;id=594924;file://d:\\Users\\ksbha\\miniconda3\\envs\\footy\\Lib\\site-packages\\snowflake\\connector\\connection.py#1103\u001b\\\u001b[2m1103\u001b[0m\u001b]8;;\u001b\\\n",
       "\u001b[2;36m                    \u001b[0m         be checked for validity and revocation status. Any other            \u001b[2m                  \u001b[0m\n",
       "\u001b[2;36m                    \u001b[0m         Certificate Revocation related exceptions or OCSP Responder         \u001b[2m                  \u001b[0m\n",
       "\u001b[2;36m                    \u001b[0m         failures would be disregarded in favor of connectivity.             \u001b[2m                  \u001b[0m\n"
      ]
     },
     "metadata": {},
     "output_type": "display_data"
    }
   ],
   "source": [
    "conn = snowflake.connector.connect(\n",
    "    user=SNOWFLAKE_USER,\n",
    "    password=SNOWFLAKE_PASSWORD,\n",
    "    account=SNOWFLAKE_ACCOUNT,\n",
    "    warehouse=SNOWFLAKE_WAREHOUSE,\n",
    "    database=SNOWFLAKE_DATABASE,\n",
    "    schema=SNOWFLAKE_SCHEMA\n",
    "    )"
   ]
  },
  {
   "cell_type": "code",
   "execution_count": 43,
   "metadata": {},
   "outputs": [
    {
     "data": {
      "text/html": [
       "<pre style=\"white-space:pre;overflow-x:auto;line-height:normal;font-family:Menlo,'DejaVu Sans Mono',consolas,'Courier New',monospace\"><span style=\"color: #7fbfbf; text-decoration-color: #7fbfbf\">[12/13/23 12:14:27] </span><span style=\"color: #000080; text-decoration-color: #000080\">INFO    </span> query: <span style=\"font-weight: bold\">[</span>USE WAREHOUSE FOOTY_STORE<span style=\"font-weight: bold\">]</span>                                       <a href=\"file://d:\\Users\\ksbha\\miniconda3\\envs\\footy\\Lib\\site-packages\\snowflake\\connector\\cursor.py\" target=\"_blank\"><span style=\"color: #7f7f7f; text-decoration-color: #7f7f7f\">cursor.py</span></a><span style=\"color: #7f7f7f; text-decoration-color: #7f7f7f\">:</span><a href=\"file://d:\\Users\\ksbha\\miniconda3\\envs\\footy\\Lib\\site-packages\\snowflake\\connector\\cursor.py#833\" target=\"_blank\"><span style=\"color: #7f7f7f; text-decoration-color: #7f7f7f\">833</span></a>\n",
       "</pre>\n"
      ],
      "text/plain": [
       "\u001b[2;36m[12/13/23 12:14:27]\u001b[0m\u001b[2;36m \u001b[0m\u001b[34mINFO    \u001b[0m query: \u001b[1m[\u001b[0mUSE WAREHOUSE FOOTY_STORE\u001b[1m]\u001b[0m                                       \u001b]8;id=967791;file://d:\\Users\\ksbha\\miniconda3\\envs\\footy\\Lib\\site-packages\\snowflake\\connector\\cursor.py\u001b\\\u001b[2mcursor.py\u001b[0m\u001b]8;;\u001b\\\u001b[2m:\u001b[0m\u001b]8;id=434288;file://d:\\Users\\ksbha\\miniconda3\\envs\\footy\\Lib\\site-packages\\snowflake\\connector\\cursor.py#833\u001b\\\u001b[2m833\u001b[0m\u001b]8;;\u001b\\\n"
      ]
     },
     "metadata": {},
     "output_type": "display_data"
    },
    {
     "data": {
      "text/html": [
       "<pre style=\"white-space:pre;overflow-x:auto;line-height:normal;font-family:Menlo,'DejaVu Sans Mono',consolas,'Courier New',monospace\"><span style=\"color: #7fbfbf; text-decoration-color: #7fbfbf\">[12/13/23 12:14:28] </span><span style=\"color: #000080; text-decoration-color: #000080\">INFO    </span> query execution done                                                     <a href=\"file://d:\\Users\\ksbha\\miniconda3\\envs\\footy\\Lib\\site-packages\\snowflake\\connector\\cursor.py\" target=\"_blank\"><span style=\"color: #7f7f7f; text-decoration-color: #7f7f7f\">cursor.py</span></a><span style=\"color: #7f7f7f; text-decoration-color: #7f7f7f\">:</span><a href=\"file://d:\\Users\\ksbha\\miniconda3\\envs\\footy\\Lib\\site-packages\\snowflake\\connector\\cursor.py#846\" target=\"_blank\"><span style=\"color: #7f7f7f; text-decoration-color: #7f7f7f\">846</span></a>\n",
       "</pre>\n"
      ],
      "text/plain": [
       "\u001b[2;36m[12/13/23 12:14:28]\u001b[0m\u001b[2;36m \u001b[0m\u001b[34mINFO    \u001b[0m query execution done                                                     \u001b]8;id=305599;file://d:\\Users\\ksbha\\miniconda3\\envs\\footy\\Lib\\site-packages\\snowflake\\connector\\cursor.py\u001b\\\u001b[2mcursor.py\u001b[0m\u001b]8;;\u001b\\\u001b[2m:\u001b[0m\u001b]8;id=130779;file://d:\\Users\\ksbha\\miniconda3\\envs\\footy\\Lib\\site-packages\\snowflake\\connector\\cursor.py#846\u001b\\\u001b[2m846\u001b[0m\u001b]8;;\u001b\\\n"
      ]
     },
     "metadata": {},
     "output_type": "display_data"
    },
    {
     "data": {
      "text/html": [
       "<pre style=\"white-space:pre;overflow-x:auto;line-height:normal;font-family:Menlo,'DejaVu Sans Mono',consolas,'Courier New',monospace\"><span style=\"color: #7fbfbf; text-decoration-color: #7fbfbf\">                    </span><span style=\"color: #000080; text-decoration-color: #000080\">INFO    </span> Number of results in first chunk: <span style=\"color: #008080; text-decoration-color: #008080; font-weight: bold\">1</span>                                      <a href=\"file://d:\\Users\\ksbha\\miniconda3\\envs\\footy\\Lib\\site-packages\\snowflake\\connector\\cursor.py\" target=\"_blank\"><span style=\"color: #7f7f7f; text-decoration-color: #7f7f7f\">cursor.py</span></a><span style=\"color: #7f7f7f; text-decoration-color: #7f7f7f\">:</span><a href=\"file://d:\\Users\\ksbha\\miniconda3\\envs\\footy\\Lib\\site-packages\\snowflake\\connector\\cursor.py#988\" target=\"_blank\"><span style=\"color: #7f7f7f; text-decoration-color: #7f7f7f\">988</span></a>\n",
       "</pre>\n"
      ],
      "text/plain": [
       "\u001b[2;36m                   \u001b[0m\u001b[2;36m \u001b[0m\u001b[34mINFO    \u001b[0m Number of results in first chunk: \u001b[1;36m1\u001b[0m                                      \u001b]8;id=418182;file://d:\\Users\\ksbha\\miniconda3\\envs\\footy\\Lib\\site-packages\\snowflake\\connector\\cursor.py\u001b\\\u001b[2mcursor.py\u001b[0m\u001b]8;;\u001b\\\u001b[2m:\u001b[0m\u001b]8;id=431895;file://d:\\Users\\ksbha\\miniconda3\\envs\\footy\\Lib\\site-packages\\snowflake\\connector\\cursor.py#988\u001b\\\u001b[2m988\u001b[0m\u001b]8;;\u001b\\\n"
      ]
     },
     "metadata": {},
     "output_type": "display_data"
    },
    {
     "data": {
      "text/plain": [
       "<snowflake.connector.cursor.SnowflakeCursor at 0x28a13e89810>"
      ]
     },
     "execution_count": 43,
     "metadata": {},
     "output_type": "execute_result"
    }
   ],
   "source": [
    "cur = conn.cursor()\n",
    "cur.execute(f\"USE WAREHOUSE {SNOWFLAKE_WAREHOUSE}\")"
   ]
  },
  {
   "cell_type": "code",
   "execution_count": 44,
   "metadata": {},
   "outputs": [
    {
     "data": {
      "text/html": [
       "<pre style=\"white-space:pre;overflow-x:auto;line-height:normal;font-family:Menlo,'DejaVu Sans Mono',consolas,'Courier New',monospace\"><span style=\"color: #7fbfbf; text-decoration-color: #7fbfbf\">[12/13/23 12:14:32] </span><span style=\"color: #000080; text-decoration-color: #000080\">INFO    </span> query: <span style=\"font-weight: bold\">[</span>CREATE SCHEMA IF NOT EXISTS FBREF_TEAMSTATS<span style=\"font-weight: bold\">]</span>                     <a href=\"file://d:\\Users\\ksbha\\miniconda3\\envs\\footy\\Lib\\site-packages\\snowflake\\connector\\cursor.py\" target=\"_blank\"><span style=\"color: #7f7f7f; text-decoration-color: #7f7f7f\">cursor.py</span></a><span style=\"color: #7f7f7f; text-decoration-color: #7f7f7f\">:</span><a href=\"file://d:\\Users\\ksbha\\miniconda3\\envs\\footy\\Lib\\site-packages\\snowflake\\connector\\cursor.py#833\" target=\"_blank\"><span style=\"color: #7f7f7f; text-decoration-color: #7f7f7f\">833</span></a>\n",
       "</pre>\n"
      ],
      "text/plain": [
       "\u001b[2;36m[12/13/23 12:14:32]\u001b[0m\u001b[2;36m \u001b[0m\u001b[34mINFO    \u001b[0m query: \u001b[1m[\u001b[0mCREATE SCHEMA IF NOT EXISTS FBREF_TEAMSTATS\u001b[1m]\u001b[0m                     \u001b]8;id=685345;file://d:\\Users\\ksbha\\miniconda3\\envs\\footy\\Lib\\site-packages\\snowflake\\connector\\cursor.py\u001b\\\u001b[2mcursor.py\u001b[0m\u001b]8;;\u001b\\\u001b[2m:\u001b[0m\u001b]8;id=433113;file://d:\\Users\\ksbha\\miniconda3\\envs\\footy\\Lib\\site-packages\\snowflake\\connector\\cursor.py#833\u001b\\\u001b[2m833\u001b[0m\u001b]8;;\u001b\\\n"
      ]
     },
     "metadata": {},
     "output_type": "display_data"
    },
    {
     "data": {
      "text/html": [
       "<pre style=\"white-space:pre;overflow-x:auto;line-height:normal;font-family:Menlo,'DejaVu Sans Mono',consolas,'Courier New',monospace\"><span style=\"color: #7fbfbf; text-decoration-color: #7fbfbf\">                    </span><span style=\"color: #000080; text-decoration-color: #000080\">INFO    </span> query execution done                                                     <a href=\"file://d:\\Users\\ksbha\\miniconda3\\envs\\footy\\Lib\\site-packages\\snowflake\\connector\\cursor.py\" target=\"_blank\"><span style=\"color: #7f7f7f; text-decoration-color: #7f7f7f\">cursor.py</span></a><span style=\"color: #7f7f7f; text-decoration-color: #7f7f7f\">:</span><a href=\"file://d:\\Users\\ksbha\\miniconda3\\envs\\footy\\Lib\\site-packages\\snowflake\\connector\\cursor.py#846\" target=\"_blank\"><span style=\"color: #7f7f7f; text-decoration-color: #7f7f7f\">846</span></a>\n",
       "</pre>\n"
      ],
      "text/plain": [
       "\u001b[2;36m                   \u001b[0m\u001b[2;36m \u001b[0m\u001b[34mINFO    \u001b[0m query execution done                                                     \u001b]8;id=209069;file://d:\\Users\\ksbha\\miniconda3\\envs\\footy\\Lib\\site-packages\\snowflake\\connector\\cursor.py\u001b\\\u001b[2mcursor.py\u001b[0m\u001b]8;;\u001b\\\u001b[2m:\u001b[0m\u001b]8;id=507090;file://d:\\Users\\ksbha\\miniconda3\\envs\\footy\\Lib\\site-packages\\snowflake\\connector\\cursor.py#846\u001b\\\u001b[2m846\u001b[0m\u001b]8;;\u001b\\\n"
      ]
     },
     "metadata": {},
     "output_type": "display_data"
    },
    {
     "data": {
      "text/html": [
       "<pre style=\"white-space:pre;overflow-x:auto;line-height:normal;font-family:Menlo,'DejaVu Sans Mono',consolas,'Courier New',monospace\"><span style=\"color: #7fbfbf; text-decoration-color: #7fbfbf\">                    </span><span style=\"color: #000080; text-decoration-color: #000080\">INFO    </span> Number of results in first chunk: <span style=\"color: #008080; text-decoration-color: #008080; font-weight: bold\">1</span>                                      <a href=\"file://d:\\Users\\ksbha\\miniconda3\\envs\\footy\\Lib\\site-packages\\snowflake\\connector\\cursor.py\" target=\"_blank\"><span style=\"color: #7f7f7f; text-decoration-color: #7f7f7f\">cursor.py</span></a><span style=\"color: #7f7f7f; text-decoration-color: #7f7f7f\">:</span><a href=\"file://d:\\Users\\ksbha\\miniconda3\\envs\\footy\\Lib\\site-packages\\snowflake\\connector\\cursor.py#988\" target=\"_blank\"><span style=\"color: #7f7f7f; text-decoration-color: #7f7f7f\">988</span></a>\n",
       "</pre>\n"
      ],
      "text/plain": [
       "\u001b[2;36m                   \u001b[0m\u001b[2;36m \u001b[0m\u001b[34mINFO    \u001b[0m Number of results in first chunk: \u001b[1;36m1\u001b[0m                                      \u001b]8;id=262286;file://d:\\Users\\ksbha\\miniconda3\\envs\\footy\\Lib\\site-packages\\snowflake\\connector\\cursor.py\u001b\\\u001b[2mcursor.py\u001b[0m\u001b]8;;\u001b\\\u001b[2m:\u001b[0m\u001b]8;id=658525;file://d:\\Users\\ksbha\\miniconda3\\envs\\footy\\Lib\\site-packages\\snowflake\\connector\\cursor.py#988\u001b\\\u001b[2m988\u001b[0m\u001b]8;;\u001b\\\n"
      ]
     },
     "metadata": {},
     "output_type": "display_data"
    },
    {
     "data": {
      "text/plain": [
       "<snowflake.connector.cursor.SnowflakeCursor at 0x28a13e89810>"
      ]
     },
     "execution_count": 44,
     "metadata": {},
     "output_type": "execute_result"
    }
   ],
   "source": [
    "create_schema_sql = f\"CREATE SCHEMA IF NOT EXISTS {SNOWFLAKE_SCHEMA}\"\n",
    "cur.execute(create_schema_sql)"
   ]
  },
  {
   "cell_type": "code",
   "execution_count": 45,
   "metadata": {},
   "outputs": [
    {
     "name": "stdout",
     "output_type": "stream",
     "text": [
      "The Snowflake warehouse being used is: FOOTY_STORE\n"
     ]
    }
   ],
   "source": [
    "print(\"The Snowflake warehouse being used is:\", SNOWFLAKE_WAREHOUSE)"
   ]
  },
  {
   "cell_type": "code",
   "execution_count": 75,
   "metadata": {},
   "outputs": [],
   "source": [
    "create_table_query = \"\"\"\n",
    "CREATE TABLE IF NOT EXISTS TEAMS (\n",
    "\tTEAM_NAME VARCHAR(255),\n",
    "\tTEAM_FBREF_ID VARCHAR(255) PRIMARY KEY\n",
    ");\n",
    "\"\"\""
   ]
  },
  {
   "cell_type": "code",
   "execution_count": 76,
   "metadata": {},
   "outputs": [
    {
     "data": {
      "text/html": [
       "<pre style=\"white-space:pre;overflow-x:auto;line-height:normal;font-family:Menlo,'DejaVu Sans Mono',consolas,'Courier New',monospace\"><span style=\"color: #7fbfbf; text-decoration-color: #7fbfbf\">[12/13/23 12:30:51] </span><span style=\"color: #000080; text-decoration-color: #000080\">INFO    </span> query: <span style=\"font-weight: bold\">[</span>CREATE TABLE IF NOT EXISTS TEAMS <span style=\"font-weight: bold\">(</span> TEAM_NAME <span style=\"color: #800080; text-decoration-color: #800080; font-weight: bold\">VARCHAR</span><span style=\"font-weight: bold\">(</span><span style=\"color: #008080; text-decoration-color: #008080; font-weight: bold\">255</span><span style=\"font-weight: bold\">)</span>,       <a href=\"file://d:\\Users\\ksbha\\miniconda3\\envs\\footy\\Lib\\site-packages\\snowflake\\connector\\cursor.py\" target=\"_blank\"><span style=\"color: #7f7f7f; text-decoration-color: #7f7f7f\">cursor.py</span></a><span style=\"color: #7f7f7f; text-decoration-color: #7f7f7f\">:</span><a href=\"file://d:\\Users\\ksbha\\miniconda3\\envs\\footy\\Lib\\site-packages\\snowflake\\connector\\cursor.py#833\" target=\"_blank\"><span style=\"color: #7f7f7f; text-decoration-color: #7f7f7f\">833</span></a>\n",
       "<span style=\"color: #7fbfbf; text-decoration-color: #7fbfbf\">                    </span>         TEAM_FBREF_ID VARCHAR<span style=\"color: #808000; text-decoration-color: #808000\">...</span><span style=\"font-weight: bold\">]</span>                                                <span style=\"color: #7f7f7f; text-decoration-color: #7f7f7f\">             </span>\n",
       "</pre>\n"
      ],
      "text/plain": [
       "\u001b[2;36m[12/13/23 12:30:51]\u001b[0m\u001b[2;36m \u001b[0m\u001b[34mINFO    \u001b[0m query: \u001b[1m[\u001b[0mCREATE TABLE IF NOT EXISTS TEAMS \u001b[1m(\u001b[0m TEAM_NAME \u001b[1;35mVARCHAR\u001b[0m\u001b[1m(\u001b[0m\u001b[1;36m255\u001b[0m\u001b[1m)\u001b[0m,       \u001b]8;id=430900;file://d:\\Users\\ksbha\\miniconda3\\envs\\footy\\Lib\\site-packages\\snowflake\\connector\\cursor.py\u001b\\\u001b[2mcursor.py\u001b[0m\u001b]8;;\u001b\\\u001b[2m:\u001b[0m\u001b]8;id=943615;file://d:\\Users\\ksbha\\miniconda3\\envs\\footy\\Lib\\site-packages\\snowflake\\connector\\cursor.py#833\u001b\\\u001b[2m833\u001b[0m\u001b]8;;\u001b\\\n",
       "\u001b[2;36m                    \u001b[0m         TEAM_FBREF_ID VARCHAR\u001b[33m...\u001b[0m\u001b[1m]\u001b[0m                                                \u001b[2m             \u001b[0m\n"
      ]
     },
     "metadata": {},
     "output_type": "display_data"
    },
    {
     "data": {
      "text/html": [
       "<pre style=\"white-space:pre;overflow-x:auto;line-height:normal;font-family:Menlo,'DejaVu Sans Mono',consolas,'Courier New',monospace\"><span style=\"color: #7fbfbf; text-decoration-color: #7fbfbf\">                    </span><span style=\"color: #000080; text-decoration-color: #000080\">INFO    </span> query execution done                                                     <a href=\"file://d:\\Users\\ksbha\\miniconda3\\envs\\footy\\Lib\\site-packages\\snowflake\\connector\\cursor.py\" target=\"_blank\"><span style=\"color: #7f7f7f; text-decoration-color: #7f7f7f\">cursor.py</span></a><span style=\"color: #7f7f7f; text-decoration-color: #7f7f7f\">:</span><a href=\"file://d:\\Users\\ksbha\\miniconda3\\envs\\footy\\Lib\\site-packages\\snowflake\\connector\\cursor.py#846\" target=\"_blank\"><span style=\"color: #7f7f7f; text-decoration-color: #7f7f7f\">846</span></a>\n",
       "</pre>\n"
      ],
      "text/plain": [
       "\u001b[2;36m                   \u001b[0m\u001b[2;36m \u001b[0m\u001b[34mINFO    \u001b[0m query execution done                                                     \u001b]8;id=884971;file://d:\\Users\\ksbha\\miniconda3\\envs\\footy\\Lib\\site-packages\\snowflake\\connector\\cursor.py\u001b\\\u001b[2mcursor.py\u001b[0m\u001b]8;;\u001b\\\u001b[2m:\u001b[0m\u001b]8;id=285996;file://d:\\Users\\ksbha\\miniconda3\\envs\\footy\\Lib\\site-packages\\snowflake\\connector\\cursor.py#846\u001b\\\u001b[2m846\u001b[0m\u001b]8;;\u001b\\\n"
      ]
     },
     "metadata": {},
     "output_type": "display_data"
    },
    {
     "data": {
      "text/html": [
       "<pre style=\"white-space:pre;overflow-x:auto;line-height:normal;font-family:Menlo,'DejaVu Sans Mono',consolas,'Courier New',monospace\"><span style=\"color: #7fbfbf; text-decoration-color: #7fbfbf\">                    </span><span style=\"color: #000080; text-decoration-color: #000080\">INFO    </span> Number of results in first chunk: <span style=\"color: #008080; text-decoration-color: #008080; font-weight: bold\">1</span>                                      <a href=\"file://d:\\Users\\ksbha\\miniconda3\\envs\\footy\\Lib\\site-packages\\snowflake\\connector\\cursor.py\" target=\"_blank\"><span style=\"color: #7f7f7f; text-decoration-color: #7f7f7f\">cursor.py</span></a><span style=\"color: #7f7f7f; text-decoration-color: #7f7f7f\">:</span><a href=\"file://d:\\Users\\ksbha\\miniconda3\\envs\\footy\\Lib\\site-packages\\snowflake\\connector\\cursor.py#988\" target=\"_blank\"><span style=\"color: #7f7f7f; text-decoration-color: #7f7f7f\">988</span></a>\n",
       "</pre>\n"
      ],
      "text/plain": [
       "\u001b[2;36m                   \u001b[0m\u001b[2;36m \u001b[0m\u001b[34mINFO    \u001b[0m Number of results in first chunk: \u001b[1;36m1\u001b[0m                                      \u001b]8;id=122154;file://d:\\Users\\ksbha\\miniconda3\\envs\\footy\\Lib\\site-packages\\snowflake\\connector\\cursor.py\u001b\\\u001b[2mcursor.py\u001b[0m\u001b]8;;\u001b\\\u001b[2m:\u001b[0m\u001b]8;id=64525;file://d:\\Users\\ksbha\\miniconda3\\envs\\footy\\Lib\\site-packages\\snowflake\\connector\\cursor.py#988\u001b\\\u001b[2m988\u001b[0m\u001b]8;;\u001b\\\n"
      ]
     },
     "metadata": {},
     "output_type": "display_data"
    },
    {
     "data": {
      "text/plain": [
       "<snowflake.connector.cursor.SnowflakeCursor at 0x28a13e89810>"
      ]
     },
     "execution_count": 76,
     "metadata": {},
     "output_type": "execute_result"
    }
   ],
   "source": [
    "cur.execute(create_table_query)"
   ]
  },
  {
   "cell_type": "code",
   "execution_count": null,
   "metadata": {},
   "outputs": [],
   "source": [
    "def insert_to_snowflake_DB(primary_keys, table_name, dataframe):\n",
    "    cur.execute(f\"SELECT {', '.join(primary_keys)} FROM {table_name}\")\n",
    "    existing_ids = cur.fetchall()\n",
    "    existing_ids = [id for id in existing_ids]\n",
    "    dataframe.set_index(['TEAM_FBREF_ID', 'SEASON'], inplace=True)\n",
    "    new_rows = dataframe[~dataframe.index.isin(existing_ids)]\n",
    "    new_rows.reset_index(inplace=True)\n",
    "    if not new_rows.empty:\n",
    "        success, nchunks, nrows, _ = write_pandas(conn, new_rows, table_name)\n",
    "        print(f\"Inserted {nrows} new rows\")\n",
    "    else:\n",
    "        print(\"No new rows to insert\")"
   ]
  },
  {
   "cell_type": "code",
   "execution_count": null,
   "metadata": {},
   "outputs": [],
   "source": [
    "insert_to_snowflake_DB(['TEAM_FBREF_ID'], 'TEAMS', team_names)"
   ]
  },
  {
   "cell_type": "code",
   "execution_count": 117,
   "metadata": {},
   "outputs": [],
   "source": [
    "create_standard_team_stats_query = \"\"\"\n",
    "CREATE TABLE IF NOT EXISTS TEAM_STANDARD_STATS (\n",
    "    TEAM_FBREF_ID VARCHAR(255),\n",
    "    SEASON INT,\n",
    "    MATCHES_PLAYED INT,\n",
    "    PRIMARY KEY (TEAM_FBREF_ID, SEASON),\n",
    "    FOREIGN KEY (TEAM_FBREF_ID) REFERENCES GEGENSTATS.FBREF_TEAMSTATS.TEAMS(TEAM_FBREF_ID)\n",
    ");\n",
    "\"\"\""
   ]
  },
  {
   "cell_type": "code",
   "execution_count": 118,
   "metadata": {},
   "outputs": [
    {
     "data": {
      "text/html": [
       "<pre style=\"white-space:pre;overflow-x:auto;line-height:normal;font-family:Menlo,'DejaVu Sans Mono',consolas,'Courier New',monospace\"><span style=\"color: #7fbfbf; text-decoration-color: #7fbfbf\">[12/13/23 12:47:51] </span><span style=\"color: #000080; text-decoration-color: #000080\">INFO    </span> query: <span style=\"font-weight: bold\">[</span>CREATE TABLE IF NOT EXISTS TEAM_STANDARD_STATS <span style=\"font-weight: bold\">(</span> TEAM_FBREF_ID   <a href=\"file://d:\\Users\\ksbha\\miniconda3\\envs\\footy\\Lib\\site-packages\\snowflake\\connector\\cursor.py\" target=\"_blank\"><span style=\"color: #7f7f7f; text-decoration-color: #7f7f7f\">cursor.py</span></a><span style=\"color: #7f7f7f; text-decoration-color: #7f7f7f\">:</span><a href=\"file://d:\\Users\\ksbha\\miniconda3\\envs\\footy\\Lib\\site-packages\\snowflake\\connector\\cursor.py#833\" target=\"_blank\"><span style=\"color: #7f7f7f; text-decoration-color: #7f7f7f\">833</span></a>\n",
       "<span style=\"color: #7fbfbf; text-decoration-color: #7fbfbf\">                    </span>         <span style=\"color: #800080; text-decoration-color: #800080; font-weight: bold\">VARCHAR</span><span style=\"font-weight: bold\">(</span><span style=\"color: #008080; text-decoration-color: #008080; font-weight: bold\">255</span><span style=\"font-weight: bold\">)</span>, SEA<span style=\"color: #808000; text-decoration-color: #808000\">...</span><span style=\"font-weight: bold\">]</span>                                                    <span style=\"color: #7f7f7f; text-decoration-color: #7f7f7f\">             </span>\n",
       "</pre>\n"
      ],
      "text/plain": [
       "\u001b[2;36m[12/13/23 12:47:51]\u001b[0m\u001b[2;36m \u001b[0m\u001b[34mINFO    \u001b[0m query: \u001b[1m[\u001b[0mCREATE TABLE IF NOT EXISTS TEAM_STANDARD_STATS \u001b[1m(\u001b[0m TEAM_FBREF_ID   \u001b]8;id=578921;file://d:\\Users\\ksbha\\miniconda3\\envs\\footy\\Lib\\site-packages\\snowflake\\connector\\cursor.py\u001b\\\u001b[2mcursor.py\u001b[0m\u001b]8;;\u001b\\\u001b[2m:\u001b[0m\u001b]8;id=4855;file://d:\\Users\\ksbha\\miniconda3\\envs\\footy\\Lib\\site-packages\\snowflake\\connector\\cursor.py#833\u001b\\\u001b[2m833\u001b[0m\u001b]8;;\u001b\\\n",
       "\u001b[2;36m                    \u001b[0m         \u001b[1;35mVARCHAR\u001b[0m\u001b[1m(\u001b[0m\u001b[1;36m255\u001b[0m\u001b[1m)\u001b[0m, SEA\u001b[33m...\u001b[0m\u001b[1m]\u001b[0m                                                    \u001b[2m             \u001b[0m\n"
      ]
     },
     "metadata": {},
     "output_type": "display_data"
    },
    {
     "data": {
      "text/html": [
       "<pre style=\"white-space:pre;overflow-x:auto;line-height:normal;font-family:Menlo,'DejaVu Sans Mono',consolas,'Courier New',monospace\"><span style=\"color: #7fbfbf; text-decoration-color: #7fbfbf\">                    </span><span style=\"color: #000080; text-decoration-color: #000080\">INFO    </span> query execution done                                                     <a href=\"file://d:\\Users\\ksbha\\miniconda3\\envs\\footy\\Lib\\site-packages\\snowflake\\connector\\cursor.py\" target=\"_blank\"><span style=\"color: #7f7f7f; text-decoration-color: #7f7f7f\">cursor.py</span></a><span style=\"color: #7f7f7f; text-decoration-color: #7f7f7f\">:</span><a href=\"file://d:\\Users\\ksbha\\miniconda3\\envs\\footy\\Lib\\site-packages\\snowflake\\connector\\cursor.py#846\" target=\"_blank\"><span style=\"color: #7f7f7f; text-decoration-color: #7f7f7f\">846</span></a>\n",
       "</pre>\n"
      ],
      "text/plain": [
       "\u001b[2;36m                   \u001b[0m\u001b[2;36m \u001b[0m\u001b[34mINFO    \u001b[0m query execution done                                                     \u001b]8;id=923141;file://d:\\Users\\ksbha\\miniconda3\\envs\\footy\\Lib\\site-packages\\snowflake\\connector\\cursor.py\u001b\\\u001b[2mcursor.py\u001b[0m\u001b]8;;\u001b\\\u001b[2m:\u001b[0m\u001b]8;id=703987;file://d:\\Users\\ksbha\\miniconda3\\envs\\footy\\Lib\\site-packages\\snowflake\\connector\\cursor.py#846\u001b\\\u001b[2m846\u001b[0m\u001b]8;;\u001b\\\n"
      ]
     },
     "metadata": {},
     "output_type": "display_data"
    },
    {
     "data": {
      "text/html": [
       "<pre style=\"white-space:pre;overflow-x:auto;line-height:normal;font-family:Menlo,'DejaVu Sans Mono',consolas,'Courier New',monospace\"><span style=\"color: #7fbfbf; text-decoration-color: #7fbfbf\">                    </span><span style=\"color: #000080; text-decoration-color: #000080\">INFO    </span> Number of results in first chunk: <span style=\"color: #008080; text-decoration-color: #008080; font-weight: bold\">1</span>                                      <a href=\"file://d:\\Users\\ksbha\\miniconda3\\envs\\footy\\Lib\\site-packages\\snowflake\\connector\\cursor.py\" target=\"_blank\"><span style=\"color: #7f7f7f; text-decoration-color: #7f7f7f\">cursor.py</span></a><span style=\"color: #7f7f7f; text-decoration-color: #7f7f7f\">:</span><a href=\"file://d:\\Users\\ksbha\\miniconda3\\envs\\footy\\Lib\\site-packages\\snowflake\\connector\\cursor.py#988\" target=\"_blank\"><span style=\"color: #7f7f7f; text-decoration-color: #7f7f7f\">988</span></a>\n",
       "</pre>\n"
      ],
      "text/plain": [
       "\u001b[2;36m                   \u001b[0m\u001b[2;36m \u001b[0m\u001b[34mINFO    \u001b[0m Number of results in first chunk: \u001b[1;36m1\u001b[0m                                      \u001b]8;id=105403;file://d:\\Users\\ksbha\\miniconda3\\envs\\footy\\Lib\\site-packages\\snowflake\\connector\\cursor.py\u001b\\\u001b[2mcursor.py\u001b[0m\u001b]8;;\u001b\\\u001b[2m:\u001b[0m\u001b]8;id=566838;file://d:\\Users\\ksbha\\miniconda3\\envs\\footy\\Lib\\site-packages\\snowflake\\connector\\cursor.py#988\u001b\\\u001b[2m988\u001b[0m\u001b]8;;\u001b\\\n"
      ]
     },
     "metadata": {},
     "output_type": "display_data"
    },
    {
     "data": {
      "text/plain": [
       "<snowflake.connector.cursor.SnowflakeCursor at 0x28a13e89810>"
      ]
     },
     "execution_count": 118,
     "metadata": {},
     "output_type": "execute_result"
    }
   ],
   "source": [
    "cur.execute(create_standard_team_stats_query)"
   ]
  },
  {
   "cell_type": "code",
   "execution_count": 101,
   "metadata": {},
   "outputs": [
    {
     "ename": "KeyError",
     "evalue": "\"None of [Index(['team', 'season', 'MP'], dtype='object')] are in the [columns]\"",
     "output_type": "error",
     "traceback": [
      "\u001b[1;31m---------------------------------------------------------------------------\u001b[0m",
      "\u001b[1;31mKeyError\u001b[0m                                  Traceback (most recent call last)",
      "Cell \u001b[1;32mIn[101], line 1\u001b[0m\n\u001b[1;32m----> 1\u001b[0m team_matches_played \u001b[38;5;241m=\u001b[39m \u001b[43mteam_matches_played\u001b[49m\u001b[38;5;241;43m.\u001b[39;49m\u001b[43mreset_index\u001b[49m\u001b[43m(\u001b[49m\u001b[43m)\u001b[49m\u001b[43m[\u001b[49m\u001b[43m[\u001b[49m\u001b[38;5;124;43m'\u001b[39;49m\u001b[38;5;124;43mteam\u001b[39;49m\u001b[38;5;124;43m'\u001b[39;49m\u001b[43m,\u001b[49m\u001b[38;5;124;43m'\u001b[39;49m\u001b[38;5;124;43mseason\u001b[39;49m\u001b[38;5;124;43m'\u001b[39;49m\u001b[43m,\u001b[49m\u001b[38;5;124;43m'\u001b[39;49m\u001b[38;5;124;43mMP\u001b[39;49m\u001b[38;5;124;43m'\u001b[39;49m\u001b[43m]\u001b[49m\u001b[43m]\u001b[49m\u001b[38;5;241m.\u001b[39mrename(columns\u001b[38;5;241m=\u001b[39m{\u001b[38;5;124m'\u001b[39m\u001b[38;5;124mteam\u001b[39m\u001b[38;5;124m'\u001b[39m: \u001b[38;5;124m'\u001b[39m\u001b[38;5;124mTEAM_NAME\u001b[39m\u001b[38;5;124m'\u001b[39m, \n\u001b[0;32m      2\u001b[0m                                                                             \u001b[38;5;124m'\u001b[39m\u001b[38;5;124mseason\u001b[39m\u001b[38;5;124m'\u001b[39m:\u001b[38;5;124m'\u001b[39m\u001b[38;5;124mSEASON\u001b[39m\u001b[38;5;124m'\u001b[39m,\u001b[38;5;124m'\u001b[39m\u001b[38;5;124mMP\u001b[39m\u001b[38;5;124m'\u001b[39m: \u001b[38;5;124m'\u001b[39m\u001b[38;5;124mMATCHES_PLAYED\u001b[39m\u001b[38;5;124m'\u001b[39m})\n",
      "File \u001b[1;32md:\\Users\\ksbha\\miniconda3\\envs\\footy\\Lib\\site-packages\\pandas\\core\\frame.py:3899\u001b[0m, in \u001b[0;36mDataFrame.__getitem__\u001b[1;34m(self, key)\u001b[0m\n\u001b[0;32m   3897\u001b[0m     \u001b[38;5;28;01mif\u001b[39;00m is_iterator(key):\n\u001b[0;32m   3898\u001b[0m         key \u001b[38;5;241m=\u001b[39m \u001b[38;5;28mlist\u001b[39m(key)\n\u001b[1;32m-> 3899\u001b[0m     indexer \u001b[38;5;241m=\u001b[39m \u001b[38;5;28;43mself\u001b[39;49m\u001b[38;5;241;43m.\u001b[39;49m\u001b[43mcolumns\u001b[49m\u001b[38;5;241;43m.\u001b[39;49m\u001b[43m_get_indexer_strict\u001b[49m\u001b[43m(\u001b[49m\u001b[43mkey\u001b[49m\u001b[43m,\u001b[49m\u001b[43m \u001b[49m\u001b[38;5;124;43m\"\u001b[39;49m\u001b[38;5;124;43mcolumns\u001b[39;49m\u001b[38;5;124;43m\"\u001b[39;49m\u001b[43m)\u001b[49m[\u001b[38;5;241m1\u001b[39m]\n\u001b[0;32m   3901\u001b[0m \u001b[38;5;66;03m# take() does not accept boolean indexers\u001b[39;00m\n\u001b[0;32m   3902\u001b[0m \u001b[38;5;28;01mif\u001b[39;00m \u001b[38;5;28mgetattr\u001b[39m(indexer, \u001b[38;5;124m\"\u001b[39m\u001b[38;5;124mdtype\u001b[39m\u001b[38;5;124m\"\u001b[39m, \u001b[38;5;28;01mNone\u001b[39;00m) \u001b[38;5;241m==\u001b[39m \u001b[38;5;28mbool\u001b[39m:\n",
      "File \u001b[1;32md:\\Users\\ksbha\\miniconda3\\envs\\footy\\Lib\\site-packages\\pandas\\core\\indexes\\base.py:6114\u001b[0m, in \u001b[0;36mIndex._get_indexer_strict\u001b[1;34m(self, key, axis_name)\u001b[0m\n\u001b[0;32m   6111\u001b[0m \u001b[38;5;28;01melse\u001b[39;00m:\n\u001b[0;32m   6112\u001b[0m     keyarr, indexer, new_indexer \u001b[38;5;241m=\u001b[39m \u001b[38;5;28mself\u001b[39m\u001b[38;5;241m.\u001b[39m_reindex_non_unique(keyarr)\n\u001b[1;32m-> 6114\u001b[0m \u001b[38;5;28;43mself\u001b[39;49m\u001b[38;5;241;43m.\u001b[39;49m\u001b[43m_raise_if_missing\u001b[49m\u001b[43m(\u001b[49m\u001b[43mkeyarr\u001b[49m\u001b[43m,\u001b[49m\u001b[43m \u001b[49m\u001b[43mindexer\u001b[49m\u001b[43m,\u001b[49m\u001b[43m \u001b[49m\u001b[43maxis_name\u001b[49m\u001b[43m)\u001b[49m\n\u001b[0;32m   6116\u001b[0m keyarr \u001b[38;5;241m=\u001b[39m \u001b[38;5;28mself\u001b[39m\u001b[38;5;241m.\u001b[39mtake(indexer)\n\u001b[0;32m   6117\u001b[0m \u001b[38;5;28;01mif\u001b[39;00m \u001b[38;5;28misinstance\u001b[39m(key, Index):\n\u001b[0;32m   6118\u001b[0m     \u001b[38;5;66;03m# GH 42790 - Preserve name from an Index\u001b[39;00m\n",
      "File \u001b[1;32md:\\Users\\ksbha\\miniconda3\\envs\\footy\\Lib\\site-packages\\pandas\\core\\indexes\\base.py:6175\u001b[0m, in \u001b[0;36mIndex._raise_if_missing\u001b[1;34m(self, key, indexer, axis_name)\u001b[0m\n\u001b[0;32m   6173\u001b[0m     \u001b[38;5;28;01mif\u001b[39;00m use_interval_msg:\n\u001b[0;32m   6174\u001b[0m         key \u001b[38;5;241m=\u001b[39m \u001b[38;5;28mlist\u001b[39m(key)\n\u001b[1;32m-> 6175\u001b[0m     \u001b[38;5;28;01mraise\u001b[39;00m \u001b[38;5;167;01mKeyError\u001b[39;00m(\u001b[38;5;124mf\u001b[39m\u001b[38;5;124m\"\u001b[39m\u001b[38;5;124mNone of [\u001b[39m\u001b[38;5;132;01m{\u001b[39;00mkey\u001b[38;5;132;01m}\u001b[39;00m\u001b[38;5;124m] are in the [\u001b[39m\u001b[38;5;132;01m{\u001b[39;00maxis_name\u001b[38;5;132;01m}\u001b[39;00m\u001b[38;5;124m]\u001b[39m\u001b[38;5;124m\"\u001b[39m)\n\u001b[0;32m   6177\u001b[0m not_found \u001b[38;5;241m=\u001b[39m \u001b[38;5;28mlist\u001b[39m(ensure_index(key)[missing_mask\u001b[38;5;241m.\u001b[39mnonzero()[\u001b[38;5;241m0\u001b[39m]]\u001b[38;5;241m.\u001b[39munique())\n\u001b[0;32m   6178\u001b[0m \u001b[38;5;28;01mraise\u001b[39;00m \u001b[38;5;167;01mKeyError\u001b[39;00m(\u001b[38;5;124mf\u001b[39m\u001b[38;5;124m\"\u001b[39m\u001b[38;5;132;01m{\u001b[39;00mnot_found\u001b[38;5;132;01m}\u001b[39;00m\u001b[38;5;124m not in index\u001b[39m\u001b[38;5;124m\"\u001b[39m)\n",
      "\u001b[1;31mKeyError\u001b[0m: \"None of [Index(['team', 'season', 'MP'], dtype='object')] are in the [columns]\""
     ]
    }
   ],
   "source": [
    "team_matches_played = team_matches_played.reset_index()[['team','season','MP']].rename(columns={'team': 'TEAM_NAME', \n",
    "                                                                            'season':'SEASON','MP': 'MATCHES_PLAYED'})"
   ]
  },
  {
   "cell_type": "code",
   "execution_count": 91,
   "metadata": {},
   "outputs": [],
   "source": [
    "## Merge team_matches_played with team_names to get TEAM_ID\n",
    "team_matches_played = team_matches_played.merge(team_names, on='TEAM_NAME', \n",
    "                                                how='left')[['TEAM_FBREF_ID', 'MATCHES_PLAYED','SEASON']]"
   ]
  },
  {
   "cell_type": "code",
   "execution_count": 202,
   "metadata": {},
   "outputs": [],
   "source": [
    "def insert_to_snowflake_DB(primary_keys, table_name, dataframe, replace=False):\n",
    "    if replace:\n",
    "        cur.execute(f\"TRUNCATE TABLE {table_name}\")\n",
    "        success, nchunks, nrows, _ = write_pandas(conn, dataframe, table_name)\n",
    "    else:\n",
    "        cur.execute(f\"SELECT {', '.join(primary_keys)} FROM {table_name}\")\n",
    "        existing_ids = cur.fetchall()\n",
    "        existing_ids = [id for id in existing_ids]\n",
    "        dataframe.set_index(['TEAM_FBREF_ID', 'SEASON'], inplace=True)\n",
    "        new_rows = dataframe[~dataframe.index.isin(existing_ids)]\n",
    "        new_rows.reset_index(inplace=True)\n",
    "        dataframe.reset_index(inplace=True)\n",
    "        if not new_rows.empty:\n",
    "            success, nchunks, nrows, _ = write_pandas(conn, new_rows, table_name)\n",
    "            print(f\"Inserted {nrows} new rows\")\n",
    "        else:\n",
    "            print(\"No new rows to insert\")"
   ]
  },
  {
   "cell_type": "code",
   "execution_count": 163,
   "metadata": {},
   "outputs": [
    {
     "data": {
      "text/html": [
       "<pre style=\"white-space:pre;overflow-x:auto;line-height:normal;font-family:Menlo,'DejaVu Sans Mono',consolas,'Courier New',monospace\"><span style=\"color: #7fbfbf; text-decoration-color: #7fbfbf\">[12/13/23 13:05:34] </span><span style=\"color: #000080; text-decoration-color: #000080\">INFO    </span> query: <span style=\"font-weight: bold\">[</span>SELECT TEAM_FBREF_ID, SEASON FROM TEAM_STANDARD_STATS<span style=\"font-weight: bold\">]</span>           <a href=\"file://d:\\Users\\ksbha\\miniconda3\\envs\\footy\\Lib\\site-packages\\snowflake\\connector\\cursor.py\" target=\"_blank\"><span style=\"color: #7f7f7f; text-decoration-color: #7f7f7f\">cursor.py</span></a><span style=\"color: #7f7f7f; text-decoration-color: #7f7f7f\">:</span><a href=\"file://d:\\Users\\ksbha\\miniconda3\\envs\\footy\\Lib\\site-packages\\snowflake\\connector\\cursor.py#833\" target=\"_blank\"><span style=\"color: #7f7f7f; text-decoration-color: #7f7f7f\">833</span></a>\n",
       "</pre>\n"
      ],
      "text/plain": [
       "\u001b[2;36m[12/13/23 13:05:34]\u001b[0m\u001b[2;36m \u001b[0m\u001b[34mINFO    \u001b[0m query: \u001b[1m[\u001b[0mSELECT TEAM_FBREF_ID, SEASON FROM TEAM_STANDARD_STATS\u001b[1m]\u001b[0m           \u001b]8;id=594233;file://d:\\Users\\ksbha\\miniconda3\\envs\\footy\\Lib\\site-packages\\snowflake\\connector\\cursor.py\u001b\\\u001b[2mcursor.py\u001b[0m\u001b]8;;\u001b\\\u001b[2m:\u001b[0m\u001b]8;id=158126;file://d:\\Users\\ksbha\\miniconda3\\envs\\footy\\Lib\\site-packages\\snowflake\\connector\\cursor.py#833\u001b\\\u001b[2m833\u001b[0m\u001b]8;;\u001b\\\n"
      ]
     },
     "metadata": {},
     "output_type": "display_data"
    },
    {
     "data": {
      "text/html": [
       "<pre style=\"white-space:pre;overflow-x:auto;line-height:normal;font-family:Menlo,'DejaVu Sans Mono',consolas,'Courier New',monospace\"><span style=\"color: #7fbfbf; text-decoration-color: #7fbfbf\">                    </span><span style=\"color: #000080; text-decoration-color: #000080\">INFO    </span> query execution done                                                     <a href=\"file://d:\\Users\\ksbha\\miniconda3\\envs\\footy\\Lib\\site-packages\\snowflake\\connector\\cursor.py\" target=\"_blank\"><span style=\"color: #7f7f7f; text-decoration-color: #7f7f7f\">cursor.py</span></a><span style=\"color: #7f7f7f; text-decoration-color: #7f7f7f\">:</span><a href=\"file://d:\\Users\\ksbha\\miniconda3\\envs\\footy\\Lib\\site-packages\\snowflake\\connector\\cursor.py#846\" target=\"_blank\"><span style=\"color: #7f7f7f; text-decoration-color: #7f7f7f\">846</span></a>\n",
       "</pre>\n"
      ],
      "text/plain": [
       "\u001b[2;36m                   \u001b[0m\u001b[2;36m \u001b[0m\u001b[34mINFO    \u001b[0m query execution done                                                     \u001b]8;id=567672;file://d:\\Users\\ksbha\\miniconda3\\envs\\footy\\Lib\\site-packages\\snowflake\\connector\\cursor.py\u001b\\\u001b[2mcursor.py\u001b[0m\u001b]8;;\u001b\\\u001b[2m:\u001b[0m\u001b]8;id=985965;file://d:\\Users\\ksbha\\miniconda3\\envs\\footy\\Lib\\site-packages\\snowflake\\connector\\cursor.py#846\u001b\\\u001b[2m846\u001b[0m\u001b]8;;\u001b\\\n"
      ]
     },
     "metadata": {},
     "output_type": "display_data"
    },
    {
     "data": {
      "text/html": [
       "<pre style=\"white-space:pre;overflow-x:auto;line-height:normal;font-family:Menlo,'DejaVu Sans Mono',consolas,'Courier New',monospace\"><span style=\"color: #7fbfbf; text-decoration-color: #7fbfbf\">                    </span><span style=\"color: #000080; text-decoration-color: #000080\">INFO    </span> Number of results in first chunk: <span style=\"color: #008080; text-decoration-color: #008080; font-weight: bold\">0</span>                                      <a href=\"file://d:\\Users\\ksbha\\miniconda3\\envs\\footy\\Lib\\site-packages\\snowflake\\connector\\cursor.py\" target=\"_blank\"><span style=\"color: #7f7f7f; text-decoration-color: #7f7f7f\">cursor.py</span></a><span style=\"color: #7f7f7f; text-decoration-color: #7f7f7f\">:</span><a href=\"file://d:\\Users\\ksbha\\miniconda3\\envs\\footy\\Lib\\site-packages\\snowflake\\connector\\cursor.py#988\" target=\"_blank\"><span style=\"color: #7f7f7f; text-decoration-color: #7f7f7f\">988</span></a>\n",
       "</pre>\n"
      ],
      "text/plain": [
       "\u001b[2;36m                   \u001b[0m\u001b[2;36m \u001b[0m\u001b[34mINFO    \u001b[0m Number of results in first chunk: \u001b[1;36m0\u001b[0m                                      \u001b]8;id=901796;file://d:\\Users\\ksbha\\miniconda3\\envs\\footy\\Lib\\site-packages\\snowflake\\connector\\cursor.py\u001b\\\u001b[2mcursor.py\u001b[0m\u001b]8;;\u001b\\\u001b[2m:\u001b[0m\u001b]8;id=996468;file://d:\\Users\\ksbha\\miniconda3\\envs\\footy\\Lib\\site-packages\\snowflake\\connector\\cursor.py#988\u001b\\\u001b[2m988\u001b[0m\u001b]8;;\u001b\\\n"
      ]
     },
     "metadata": {},
     "output_type": "display_data"
    },
    {
     "data": {
      "text/html": [
       "<pre style=\"white-space:pre;overflow-x:auto;line-height:normal;font-family:Menlo,'DejaVu Sans Mono',consolas,'Courier New',monospace\"><span style=\"color: #7fbfbf; text-decoration-color: #7fbfbf\">                    </span><span style=\"color: #000080; text-decoration-color: #000080\">INFO    </span> query: <span style=\"font-weight: bold\">[</span>CREATE TEMP STAGE <span style=\"color: #800080; text-decoration-color: #800080\">/</span>*                                             <a href=\"file://d:\\Users\\ksbha\\miniconda3\\envs\\footy\\Lib\\site-packages\\snowflake\\connector\\cursor.py\" target=\"_blank\"><span style=\"color: #7f7f7f; text-decoration-color: #7f7f7f\">cursor.py</span></a><span style=\"color: #7f7f7f; text-decoration-color: #7f7f7f\">:</span><a href=\"file://d:\\Users\\ksbha\\miniconda3\\envs\\footy\\Lib\\site-packages\\snowflake\\connector\\cursor.py#833\" target=\"_blank\"><span style=\"color: #7f7f7f; text-decoration-color: #7f7f7f\">833</span></a>\n",
       "<span style=\"color: #7fbfbf; text-decoration-color: #7fbfbf\">                    </span>         Python:<span style=\"color: #800080; text-decoration-color: #800080; font-weight: bold\">snowflake.connector.pandas_tools.write_pandas</span><span style=\"font-weight: bold\">()</span> *<span style=\"color: #800080; text-decoration-color: #800080\">/</span> \"<span style=\"color: #808000; text-decoration-color: #808000\">...</span><span style=\"font-weight: bold\">]</span>          <span style=\"color: #7f7f7f; text-decoration-color: #7f7f7f\">             </span>\n",
       "</pre>\n"
      ],
      "text/plain": [
       "\u001b[2;36m                   \u001b[0m\u001b[2;36m \u001b[0m\u001b[34mINFO    \u001b[0m query: \u001b[1m[\u001b[0mCREATE TEMP STAGE \u001b[35m/\u001b[0m*                                             \u001b]8;id=43036;file://d:\\Users\\ksbha\\miniconda3\\envs\\footy\\Lib\\site-packages\\snowflake\\connector\\cursor.py\u001b\\\u001b[2mcursor.py\u001b[0m\u001b]8;;\u001b\\\u001b[2m:\u001b[0m\u001b]8;id=350946;file://d:\\Users\\ksbha\\miniconda3\\envs\\footy\\Lib\\site-packages\\snowflake\\connector\\cursor.py#833\u001b\\\u001b[2m833\u001b[0m\u001b]8;;\u001b\\\n",
       "\u001b[2;36m                    \u001b[0m         Python:\u001b[1;35msnowflake.connector.pandas_tools.write_pandas\u001b[0m\u001b[1m(\u001b[0m\u001b[1m)\u001b[0m *\u001b[35m/\u001b[0m \"\u001b[33m...\u001b[0m\u001b[1m]\u001b[0m          \u001b[2m             \u001b[0m\n"
      ]
     },
     "metadata": {},
     "output_type": "display_data"
    },
    {
     "data": {
      "text/html": [
       "<pre style=\"white-space:pre;overflow-x:auto;line-height:normal;font-family:Menlo,'DejaVu Sans Mono',consolas,'Courier New',monospace\"><span style=\"color: #7fbfbf; text-decoration-color: #7fbfbf\">                    </span><span style=\"color: #000080; text-decoration-color: #000080\">INFO    </span> query execution done                                                     <a href=\"file://d:\\Users\\ksbha\\miniconda3\\envs\\footy\\Lib\\site-packages\\snowflake\\connector\\cursor.py\" target=\"_blank\"><span style=\"color: #7f7f7f; text-decoration-color: #7f7f7f\">cursor.py</span></a><span style=\"color: #7f7f7f; text-decoration-color: #7f7f7f\">:</span><a href=\"file://d:\\Users\\ksbha\\miniconda3\\envs\\footy\\Lib\\site-packages\\snowflake\\connector\\cursor.py#846\" target=\"_blank\"><span style=\"color: #7f7f7f; text-decoration-color: #7f7f7f\">846</span></a>\n",
       "</pre>\n"
      ],
      "text/plain": [
       "\u001b[2;36m                   \u001b[0m\u001b[2;36m \u001b[0m\u001b[34mINFO    \u001b[0m query execution done                                                     \u001b]8;id=992865;file://d:\\Users\\ksbha\\miniconda3\\envs\\footy\\Lib\\site-packages\\snowflake\\connector\\cursor.py\u001b\\\u001b[2mcursor.py\u001b[0m\u001b]8;;\u001b\\\u001b[2m:\u001b[0m\u001b]8;id=286850;file://d:\\Users\\ksbha\\miniconda3\\envs\\footy\\Lib\\site-packages\\snowflake\\connector\\cursor.py#846\u001b\\\u001b[2m846\u001b[0m\u001b]8;;\u001b\\\n"
      ]
     },
     "metadata": {},
     "output_type": "display_data"
    },
    {
     "data": {
      "text/html": [
       "<pre style=\"white-space:pre;overflow-x:auto;line-height:normal;font-family:Menlo,'DejaVu Sans Mono',consolas,'Courier New',monospace\"><span style=\"color: #7fbfbf; text-decoration-color: #7fbfbf\">                    </span><span style=\"color: #000080; text-decoration-color: #000080\">INFO    </span> Number of results in first chunk: <span style=\"color: #008080; text-decoration-color: #008080; font-weight: bold\">1</span>                                      <a href=\"file://d:\\Users\\ksbha\\miniconda3\\envs\\footy\\Lib\\site-packages\\snowflake\\connector\\cursor.py\" target=\"_blank\"><span style=\"color: #7f7f7f; text-decoration-color: #7f7f7f\">cursor.py</span></a><span style=\"color: #7f7f7f; text-decoration-color: #7f7f7f\">:</span><a href=\"file://d:\\Users\\ksbha\\miniconda3\\envs\\footy\\Lib\\site-packages\\snowflake\\connector\\cursor.py#988\" target=\"_blank\"><span style=\"color: #7f7f7f; text-decoration-color: #7f7f7f\">988</span></a>\n",
       "</pre>\n"
      ],
      "text/plain": [
       "\u001b[2;36m                   \u001b[0m\u001b[2;36m \u001b[0m\u001b[34mINFO    \u001b[0m Number of results in first chunk: \u001b[1;36m1\u001b[0m                                      \u001b]8;id=655432;file://d:\\Users\\ksbha\\miniconda3\\envs\\footy\\Lib\\site-packages\\snowflake\\connector\\cursor.py\u001b\\\u001b[2mcursor.py\u001b[0m\u001b]8;;\u001b\\\u001b[2m:\u001b[0m\u001b]8;id=327759;file://d:\\Users\\ksbha\\miniconda3\\envs\\footy\\Lib\\site-packages\\snowflake\\connector\\cursor.py#988\u001b\\\u001b[2m988\u001b[0m\u001b]8;;\u001b\\\n"
      ]
     },
     "metadata": {},
     "output_type": "display_data"
    },
    {
     "data": {
      "text/html": [
       "<pre style=\"white-space:pre;overflow-x:auto;line-height:normal;font-family:Menlo,'DejaVu Sans Mono',consolas,'Courier New',monospace\"><span style=\"color: #7fbfbf; text-decoration-color: #7fbfbf\">                    </span><span style=\"color: #000080; text-decoration-color: #000080\">INFO    </span> query: <span style=\"font-weight: bold\">[</span><span style=\"color: #808000; text-decoration-color: #808000; font-weight: bold\">PUT</span> <span style=\"color: #800080; text-decoration-color: #800080\">/</span>* Python:<span style=\"color: #800080; text-decoration-color: #800080; font-weight: bold\">snowflake.connector.pandas_tools.write_pandas</span><span style=\"font-weight: bold\">()</span> *<span style=\"color: #800080; text-decoration-color: #800080\">/</span> <a href=\"file://d:\\Users\\ksbha\\miniconda3\\envs\\footy\\Lib\\site-packages\\snowflake\\connector\\cursor.py\" target=\"_blank\"><span style=\"color: #7f7f7f; text-decoration-color: #7f7f7f\">cursor.py</span></a><span style=\"color: #7f7f7f; text-decoration-color: #7f7f7f\">:</span><a href=\"file://d:\\Users\\ksbha\\miniconda3\\envs\\footy\\Lib\\site-packages\\snowflake\\connector\\cursor.py#833\" target=\"_blank\"><span style=\"color: #7f7f7f; text-decoration-color: #7f7f7f\">833</span></a>\n",
       "<span style=\"color: #7fbfbf; text-decoration-color: #7fbfbf\">                    </span>         '<span style=\"color: #0000ff; text-decoration-color: #0000ff; text-decoration: underline\">file://C:</span>\\\\Use<span style=\"color: #808000; text-decoration-color: #808000\">...</span><span style=\"font-weight: bold\">]</span>                                                      <span style=\"color: #7f7f7f; text-decoration-color: #7f7f7f\">             </span>\n",
       "</pre>\n"
      ],
      "text/plain": [
       "\u001b[2;36m                   \u001b[0m\u001b[2;36m \u001b[0m\u001b[34mINFO    \u001b[0m query: \u001b[1m[\u001b[0m\u001b[1;33mPUT\u001b[0m \u001b[35m/\u001b[0m* Python:\u001b[1;35msnowflake.connector.pandas_tools.write_pandas\u001b[0m\u001b[1m(\u001b[0m\u001b[1m)\u001b[0m *\u001b[35m/\u001b[0m \u001b]8;id=398225;file://d:\\Users\\ksbha\\miniconda3\\envs\\footy\\Lib\\site-packages\\snowflake\\connector\\cursor.py\u001b\\\u001b[2mcursor.py\u001b[0m\u001b]8;;\u001b\\\u001b[2m:\u001b[0m\u001b]8;id=390291;file://d:\\Users\\ksbha\\miniconda3\\envs\\footy\\Lib\\site-packages\\snowflake\\connector\\cursor.py#833\u001b\\\u001b[2m833\u001b[0m\u001b]8;;\u001b\\\n",
       "\u001b[2;36m                    \u001b[0m         '\u001b[4;94mfile://C:\u001b[0m\\\\Use\u001b[33m...\u001b[0m\u001b[1m]\u001b[0m                                                      \u001b[2m             \u001b[0m\n"
      ]
     },
     "metadata": {},
     "output_type": "display_data"
    },
    {
     "data": {
      "text/html": [
       "<pre style=\"white-space:pre;overflow-x:auto;line-height:normal;font-family:Menlo,'DejaVu Sans Mono',consolas,'Courier New',monospace\"><span style=\"color: #7fbfbf; text-decoration-color: #7fbfbf\">                    </span><span style=\"color: #000080; text-decoration-color: #000080\">INFO    </span> query execution done                                                     <a href=\"file://d:\\Users\\ksbha\\miniconda3\\envs\\footy\\Lib\\site-packages\\snowflake\\connector\\cursor.py\" target=\"_blank\"><span style=\"color: #7f7f7f; text-decoration-color: #7f7f7f\">cursor.py</span></a><span style=\"color: #7f7f7f; text-decoration-color: #7f7f7f\">:</span><a href=\"file://d:\\Users\\ksbha\\miniconda3\\envs\\footy\\Lib\\site-packages\\snowflake\\connector\\cursor.py#846\" target=\"_blank\"><span style=\"color: #7f7f7f; text-decoration-color: #7f7f7f\">846</span></a>\n",
       "</pre>\n"
      ],
      "text/plain": [
       "\u001b[2;36m                   \u001b[0m\u001b[2;36m \u001b[0m\u001b[34mINFO    \u001b[0m query execution done                                                     \u001b]8;id=391795;file://d:\\Users\\ksbha\\miniconda3\\envs\\footy\\Lib\\site-packages\\snowflake\\connector\\cursor.py\u001b\\\u001b[2mcursor.py\u001b[0m\u001b]8;;\u001b\\\u001b[2m:\u001b[0m\u001b]8;id=463136;file://d:\\Users\\ksbha\\miniconda3\\envs\\footy\\Lib\\site-packages\\snowflake\\connector\\cursor.py#846\u001b\\\u001b[2m846\u001b[0m\u001b]8;;\u001b\\\n"
      ]
     },
     "metadata": {},
     "output_type": "display_data"
    },
    {
     "data": {
      "text/html": [
       "<pre style=\"white-space:pre;overflow-x:auto;line-height:normal;font-family:Menlo,'DejaVu Sans Mono',consolas,'Courier New',monospace\"><span style=\"color: #7fbfbf; text-decoration-color: #7fbfbf\">[12/13/23 13:05:35] </span><span style=\"color: #000080; text-decoration-color: #000080\">INFO    </span> query: <span style=\"font-weight: bold\">[</span>COPY INTO <span style=\"color: #008000; text-decoration-color: #008000\">\"TEAM_STANDARD_STATS\"</span> <span style=\"color: #800080; text-decoration-color: #800080\">/</span>*                               <a href=\"file://d:\\Users\\ksbha\\miniconda3\\envs\\footy\\Lib\\site-packages\\snowflake\\connector\\cursor.py\" target=\"_blank\"><span style=\"color: #7f7f7f; text-decoration-color: #7f7f7f\">cursor.py</span></a><span style=\"color: #7f7f7f; text-decoration-color: #7f7f7f\">:</span><a href=\"file://d:\\Users\\ksbha\\miniconda3\\envs\\footy\\Lib\\site-packages\\snowflake\\connector\\cursor.py#833\" target=\"_blank\"><span style=\"color: #7f7f7f; text-decoration-color: #7f7f7f\">833</span></a>\n",
       "<span style=\"color: #7fbfbf; text-decoration-color: #7fbfbf\">                    </span>         Python:snowflake.connector.pandas_tools.write<span style=\"color: #808000; text-decoration-color: #808000\">...</span><span style=\"font-weight: bold\">]</span>                        <span style=\"color: #7f7f7f; text-decoration-color: #7f7f7f\">             </span>\n",
       "</pre>\n"
      ],
      "text/plain": [
       "\u001b[2;36m[12/13/23 13:05:35]\u001b[0m\u001b[2;36m \u001b[0m\u001b[34mINFO    \u001b[0m query: \u001b[1m[\u001b[0mCOPY INTO \u001b[32m\"TEAM_STANDARD_STATS\"\u001b[0m \u001b[35m/\u001b[0m*                               \u001b]8;id=32177;file://d:\\Users\\ksbha\\miniconda3\\envs\\footy\\Lib\\site-packages\\snowflake\\connector\\cursor.py\u001b\\\u001b[2mcursor.py\u001b[0m\u001b]8;;\u001b\\\u001b[2m:\u001b[0m\u001b]8;id=868063;file://d:\\Users\\ksbha\\miniconda3\\envs\\footy\\Lib\\site-packages\\snowflake\\connector\\cursor.py#833\u001b\\\u001b[2m833\u001b[0m\u001b]8;;\u001b\\\n",
       "\u001b[2;36m                    \u001b[0m         Python:snowflake.connector.pandas_tools.write\u001b[33m...\u001b[0m\u001b[1m]\u001b[0m                        \u001b[2m             \u001b[0m\n"
      ]
     },
     "metadata": {},
     "output_type": "display_data"
    },
    {
     "data": {
      "text/html": [
       "<pre style=\"white-space:pre;overflow-x:auto;line-height:normal;font-family:Menlo,'DejaVu Sans Mono',consolas,'Courier New',monospace\"><span style=\"color: #7fbfbf; text-decoration-color: #7fbfbf\">[12/13/23 13:05:36] </span><span style=\"color: #000080; text-decoration-color: #000080\">INFO    </span> query execution done                                                     <a href=\"file://d:\\Users\\ksbha\\miniconda3\\envs\\footy\\Lib\\site-packages\\snowflake\\connector\\cursor.py\" target=\"_blank\"><span style=\"color: #7f7f7f; text-decoration-color: #7f7f7f\">cursor.py</span></a><span style=\"color: #7f7f7f; text-decoration-color: #7f7f7f\">:</span><a href=\"file://d:\\Users\\ksbha\\miniconda3\\envs\\footy\\Lib\\site-packages\\snowflake\\connector\\cursor.py#846\" target=\"_blank\"><span style=\"color: #7f7f7f; text-decoration-color: #7f7f7f\">846</span></a>\n",
       "</pre>\n"
      ],
      "text/plain": [
       "\u001b[2;36m[12/13/23 13:05:36]\u001b[0m\u001b[2;36m \u001b[0m\u001b[34mINFO    \u001b[0m query execution done                                                     \u001b]8;id=941211;file://d:\\Users\\ksbha\\miniconda3\\envs\\footy\\Lib\\site-packages\\snowflake\\connector\\cursor.py\u001b\\\u001b[2mcursor.py\u001b[0m\u001b]8;;\u001b\\\u001b[2m:\u001b[0m\u001b]8;id=907167;file://d:\\Users\\ksbha\\miniconda3\\envs\\footy\\Lib\\site-packages\\snowflake\\connector\\cursor.py#846\u001b\\\u001b[2m846\u001b[0m\u001b]8;;\u001b\\\n"
      ]
     },
     "metadata": {},
     "output_type": "display_data"
    },
    {
     "data": {
      "text/html": [
       "<pre style=\"white-space:pre;overflow-x:auto;line-height:normal;font-family:Menlo,'DejaVu Sans Mono',consolas,'Courier New',monospace\"><span style=\"color: #7fbfbf; text-decoration-color: #7fbfbf\">                    </span><span style=\"color: #000080; text-decoration-color: #000080\">INFO    </span> Number of results in first chunk: <span style=\"color: #008080; text-decoration-color: #008080; font-weight: bold\">1</span>                                      <a href=\"file://d:\\Users\\ksbha\\miniconda3\\envs\\footy\\Lib\\site-packages\\snowflake\\connector\\cursor.py\" target=\"_blank\"><span style=\"color: #7f7f7f; text-decoration-color: #7f7f7f\">cursor.py</span></a><span style=\"color: #7f7f7f; text-decoration-color: #7f7f7f\">:</span><a href=\"file://d:\\Users\\ksbha\\miniconda3\\envs\\footy\\Lib\\site-packages\\snowflake\\connector\\cursor.py#988\" target=\"_blank\"><span style=\"color: #7f7f7f; text-decoration-color: #7f7f7f\">988</span></a>\n",
       "</pre>\n"
      ],
      "text/plain": [
       "\u001b[2;36m                   \u001b[0m\u001b[2;36m \u001b[0m\u001b[34mINFO    \u001b[0m Number of results in first chunk: \u001b[1;36m1\u001b[0m                                      \u001b]8;id=239320;file://d:\\Users\\ksbha\\miniconda3\\envs\\footy\\Lib\\site-packages\\snowflake\\connector\\cursor.py\u001b\\\u001b[2mcursor.py\u001b[0m\u001b]8;;\u001b\\\u001b[2m:\u001b[0m\u001b]8;id=827348;file://d:\\Users\\ksbha\\miniconda3\\envs\\footy\\Lib\\site-packages\\snowflake\\connector\\cursor.py#988\u001b\\\u001b[2m988\u001b[0m\u001b]8;;\u001b\\\n"
      ]
     },
     "metadata": {},
     "output_type": "display_data"
    },
    {
     "name": "stdout",
     "output_type": "stream",
     "text": [
      "Inserted 20 new rows\n"
     ]
    }
   ],
   "source": [
    "insert_to_snowflake_DB(['TEAM_FBREF_ID', 'SEASON'], 'TEAM_STANDARD_STATS', team_matches_played)"
   ]
  },
  {
   "cell_type": "code",
   "execution_count": 174,
   "metadata": {},
   "outputs": [
    {
     "data": {
      "text/html": [
       "<div>\n",
       "<style scoped>\n",
       "    .dataframe tbody tr th:only-of-type {\n",
       "        vertical-align: middle;\n",
       "    }\n",
       "\n",
       "    .dataframe tbody tr th {\n",
       "        vertical-align: top;\n",
       "    }\n",
       "\n",
       "    .dataframe thead th {\n",
       "        text-align: right;\n",
       "    }\n",
       "</style>\n",
       "<table border=\"1\" class=\"dataframe\">\n",
       "  <thead>\n",
       "    <tr style=\"text-align: right;\">\n",
       "      <th></th>\n",
       "      <th>TEAM_NAME</th>\n",
       "      <th>TEAM_FBREF_ID</th>\n",
       "    </tr>\n",
       "  </thead>\n",
       "  <tbody>\n",
       "    <tr>\n",
       "      <th>0</th>\n",
       "      <td>Arsenal</td>\n",
       "      <td>18bb7c10</td>\n",
       "    </tr>\n",
       "    <tr>\n",
       "      <th>1</th>\n",
       "      <td>Aston Villa</td>\n",
       "      <td>8602292d</td>\n",
       "    </tr>\n",
       "    <tr>\n",
       "      <th>2</th>\n",
       "      <td>Bournemouth</td>\n",
       "      <td>4ba7cbea</td>\n",
       "    </tr>\n",
       "    <tr>\n",
       "      <th>3</th>\n",
       "      <td>Brentford</td>\n",
       "      <td>cd051869</td>\n",
       "    </tr>\n",
       "    <tr>\n",
       "      <th>4</th>\n",
       "      <td>Brighton</td>\n",
       "      <td>d07537b9</td>\n",
       "    </tr>\n",
       "    <tr>\n",
       "      <th>5</th>\n",
       "      <td>Chelsea</td>\n",
       "      <td>cff3d9bb</td>\n",
       "    </tr>\n",
       "    <tr>\n",
       "      <th>6</th>\n",
       "      <td>Crystal Palace</td>\n",
       "      <td>47c64c55</td>\n",
       "    </tr>\n",
       "    <tr>\n",
       "      <th>7</th>\n",
       "      <td>Everton</td>\n",
       "      <td>d3fd31cc</td>\n",
       "    </tr>\n",
       "    <tr>\n",
       "      <th>8</th>\n",
       "      <td>Fulham</td>\n",
       "      <td>fd962109</td>\n",
       "    </tr>\n",
       "    <tr>\n",
       "      <th>9</th>\n",
       "      <td>Leeds United</td>\n",
       "      <td>5bfb9659</td>\n",
       "    </tr>\n",
       "    <tr>\n",
       "      <th>10</th>\n",
       "      <td>Leicester City</td>\n",
       "      <td>a2d435b3</td>\n",
       "    </tr>\n",
       "    <tr>\n",
       "      <th>11</th>\n",
       "      <td>Liverpool</td>\n",
       "      <td>822bd0ba</td>\n",
       "    </tr>\n",
       "    <tr>\n",
       "      <th>12</th>\n",
       "      <td>Manchester City</td>\n",
       "      <td>b8fd03ef</td>\n",
       "    </tr>\n",
       "    <tr>\n",
       "      <th>13</th>\n",
       "      <td>Manchester Utd</td>\n",
       "      <td>19538871</td>\n",
       "    </tr>\n",
       "    <tr>\n",
       "      <th>14</th>\n",
       "      <td>Newcastle Utd</td>\n",
       "      <td>b2b47a98</td>\n",
       "    </tr>\n",
       "    <tr>\n",
       "      <th>15</th>\n",
       "      <td>Nott'ham Forest</td>\n",
       "      <td>e4a775cb</td>\n",
       "    </tr>\n",
       "    <tr>\n",
       "      <th>16</th>\n",
       "      <td>Southampton</td>\n",
       "      <td>33c895d4</td>\n",
       "    </tr>\n",
       "    <tr>\n",
       "      <th>17</th>\n",
       "      <td>Tottenham</td>\n",
       "      <td>361ca564</td>\n",
       "    </tr>\n",
       "    <tr>\n",
       "      <th>18</th>\n",
       "      <td>West Ham</td>\n",
       "      <td>7c21e445</td>\n",
       "    </tr>\n",
       "    <tr>\n",
       "      <th>19</th>\n",
       "      <td>Wolves</td>\n",
       "      <td>8cec06e1</td>\n",
       "    </tr>\n",
       "  </tbody>\n",
       "</table>\n",
       "</div>"
      ],
      "text/plain": [
       "          TEAM_NAME TEAM_FBREF_ID\n",
       "0           Arsenal      18bb7c10\n",
       "1       Aston Villa      8602292d\n",
       "2       Bournemouth      4ba7cbea\n",
       "3         Brentford      cd051869\n",
       "4          Brighton      d07537b9\n",
       "5           Chelsea      cff3d9bb\n",
       "6    Crystal Palace      47c64c55\n",
       "7           Everton      d3fd31cc\n",
       "8            Fulham      fd962109\n",
       "9      Leeds United      5bfb9659\n",
       "10   Leicester City      a2d435b3\n",
       "11        Liverpool      822bd0ba\n",
       "12  Manchester City      b8fd03ef\n",
       "13   Manchester Utd      19538871\n",
       "14    Newcastle Utd      b2b47a98\n",
       "15  Nott'ham Forest      e4a775cb\n",
       "16      Southampton      33c895d4\n",
       "17        Tottenham      361ca564\n",
       "18         West Ham      7c21e445\n",
       "19           Wolves      8cec06e1"
      ]
     },
     "execution_count": 174,
     "metadata": {},
     "output_type": "execute_result"
    }
   ],
   "source": [
    "team_names"
   ]
  },
  {
   "cell_type": "code",
   "execution_count": null,
   "metadata": {},
   "outputs": [],
   "source": []
  },
  {
   "cell_type": "code",
   "execution_count": 164,
   "metadata": {},
   "outputs": [],
   "source": [
    "create_team_attacking_stats_query = \"\"\"\n",
    "CREATE TABLE IF NOT EXISTS TEAM_ATTACKING_STATS (\n",
    "    TEAM_FBREF_ID VARCHAR(255),\n",
    "    SEASON INT,\n",
    "    GOALS_SCORED INT,\n",
    "    NPXG FLOAT,\n",
    "    SHOTS INT,\n",
    "    SHOTS_ON_TARGET INT,\n",
    "    PASS_COMPLETED INT,\n",
    "    PASS_ATTEMPTED INT,\n",
    "    TAKEONS_ATTEMPTED INT,\n",
    "    TAKEONS_COMPLETED INT,\n",
    "    CROSSES_INTO_PA INT,\n",
    "    FOULS_AGAINST INT,\n",
    "    PRIMARY KEY (TEAM_FBREF_ID, SEASON),\n",
    "    FOREIGN KEY (TEAM_FBREF_ID) REFERENCES GEGENSTATS.FBREF_TEAMSTATS.TEAMS(TEAM_FBREF_ID)\n",
    ");\n",
    "\"\"\""
   ]
  },
  {
   "cell_type": "code",
   "execution_count": 165,
   "metadata": {},
   "outputs": [
    {
     "data": {
      "text/html": [
       "<pre style=\"white-space:pre;overflow-x:auto;line-height:normal;font-family:Menlo,'DejaVu Sans Mono',consolas,'Courier New',monospace\"><span style=\"color: #7fbfbf; text-decoration-color: #7fbfbf\">[12/13/23 13:11:41] </span><span style=\"color: #000080; text-decoration-color: #000080\">INFO    </span> query: <span style=\"font-weight: bold\">[</span>CREATE TABLE IF NOT EXISTS TEAM_ATTACKING_STATS <span style=\"font-weight: bold\">(</span> TEAM_FBREF_ID  <a href=\"file://d:\\Users\\ksbha\\miniconda3\\envs\\footy\\Lib\\site-packages\\snowflake\\connector\\cursor.py\" target=\"_blank\"><span style=\"color: #7f7f7f; text-decoration-color: #7f7f7f\">cursor.py</span></a><span style=\"color: #7f7f7f; text-decoration-color: #7f7f7f\">:</span><a href=\"file://d:\\Users\\ksbha\\miniconda3\\envs\\footy\\Lib\\site-packages\\snowflake\\connector\\cursor.py#833\" target=\"_blank\"><span style=\"color: #7f7f7f; text-decoration-color: #7f7f7f\">833</span></a>\n",
       "<span style=\"color: #7fbfbf; text-decoration-color: #7fbfbf\">                    </span>         <span style=\"color: #800080; text-decoration-color: #800080; font-weight: bold\">VARCHAR</span><span style=\"font-weight: bold\">(</span><span style=\"color: #008080; text-decoration-color: #008080; font-weight: bold\">255</span><span style=\"font-weight: bold\">)</span>, SE<span style=\"color: #808000; text-decoration-color: #808000\">...</span><span style=\"font-weight: bold\">]</span>                                                     <span style=\"color: #7f7f7f; text-decoration-color: #7f7f7f\">             </span>\n",
       "</pre>\n"
      ],
      "text/plain": [
       "\u001b[2;36m[12/13/23 13:11:41]\u001b[0m\u001b[2;36m \u001b[0m\u001b[34mINFO    \u001b[0m query: \u001b[1m[\u001b[0mCREATE TABLE IF NOT EXISTS TEAM_ATTACKING_STATS \u001b[1m(\u001b[0m TEAM_FBREF_ID  \u001b]8;id=740009;file://d:\\Users\\ksbha\\miniconda3\\envs\\footy\\Lib\\site-packages\\snowflake\\connector\\cursor.py\u001b\\\u001b[2mcursor.py\u001b[0m\u001b]8;;\u001b\\\u001b[2m:\u001b[0m\u001b]8;id=284272;file://d:\\Users\\ksbha\\miniconda3\\envs\\footy\\Lib\\site-packages\\snowflake\\connector\\cursor.py#833\u001b\\\u001b[2m833\u001b[0m\u001b]8;;\u001b\\\n",
       "\u001b[2;36m                    \u001b[0m         \u001b[1;35mVARCHAR\u001b[0m\u001b[1m(\u001b[0m\u001b[1;36m255\u001b[0m\u001b[1m)\u001b[0m, SE\u001b[33m...\u001b[0m\u001b[1m]\u001b[0m                                                     \u001b[2m             \u001b[0m\n"
      ]
     },
     "metadata": {},
     "output_type": "display_data"
    },
    {
     "data": {
      "text/html": [
       "<pre style=\"white-space:pre;overflow-x:auto;line-height:normal;font-family:Menlo,'DejaVu Sans Mono',consolas,'Courier New',monospace\"><span style=\"color: #7fbfbf; text-decoration-color: #7fbfbf\">[12/13/23 13:11:42] </span><span style=\"color: #000080; text-decoration-color: #000080\">INFO    </span> query execution done                                                     <a href=\"file://d:\\Users\\ksbha\\miniconda3\\envs\\footy\\Lib\\site-packages\\snowflake\\connector\\cursor.py\" target=\"_blank\"><span style=\"color: #7f7f7f; text-decoration-color: #7f7f7f\">cursor.py</span></a><span style=\"color: #7f7f7f; text-decoration-color: #7f7f7f\">:</span><a href=\"file://d:\\Users\\ksbha\\miniconda3\\envs\\footy\\Lib\\site-packages\\snowflake\\connector\\cursor.py#846\" target=\"_blank\"><span style=\"color: #7f7f7f; text-decoration-color: #7f7f7f\">846</span></a>\n",
       "</pre>\n"
      ],
      "text/plain": [
       "\u001b[2;36m[12/13/23 13:11:42]\u001b[0m\u001b[2;36m \u001b[0m\u001b[34mINFO    \u001b[0m query execution done                                                     \u001b]8;id=385742;file://d:\\Users\\ksbha\\miniconda3\\envs\\footy\\Lib\\site-packages\\snowflake\\connector\\cursor.py\u001b\\\u001b[2mcursor.py\u001b[0m\u001b]8;;\u001b\\\u001b[2m:\u001b[0m\u001b]8;id=196648;file://d:\\Users\\ksbha\\miniconda3\\envs\\footy\\Lib\\site-packages\\snowflake\\connector\\cursor.py#846\u001b\\\u001b[2m846\u001b[0m\u001b]8;;\u001b\\\n"
      ]
     },
     "metadata": {},
     "output_type": "display_data"
    },
    {
     "data": {
      "text/html": [
       "<pre style=\"white-space:pre;overflow-x:auto;line-height:normal;font-family:Menlo,'DejaVu Sans Mono',consolas,'Courier New',monospace\"><span style=\"color: #7fbfbf; text-decoration-color: #7fbfbf\">                    </span><span style=\"color: #000080; text-decoration-color: #000080\">INFO    </span> Number of results in first chunk: <span style=\"color: #008080; text-decoration-color: #008080; font-weight: bold\">1</span>                                      <a href=\"file://d:\\Users\\ksbha\\miniconda3\\envs\\footy\\Lib\\site-packages\\snowflake\\connector\\cursor.py\" target=\"_blank\"><span style=\"color: #7f7f7f; text-decoration-color: #7f7f7f\">cursor.py</span></a><span style=\"color: #7f7f7f; text-decoration-color: #7f7f7f\">:</span><a href=\"file://d:\\Users\\ksbha\\miniconda3\\envs\\footy\\Lib\\site-packages\\snowflake\\connector\\cursor.py#988\" target=\"_blank\"><span style=\"color: #7f7f7f; text-decoration-color: #7f7f7f\">988</span></a>\n",
       "</pre>\n"
      ],
      "text/plain": [
       "\u001b[2;36m                   \u001b[0m\u001b[2;36m \u001b[0m\u001b[34mINFO    \u001b[0m Number of results in first chunk: \u001b[1;36m1\u001b[0m                                      \u001b]8;id=631968;file://d:\\Users\\ksbha\\miniconda3\\envs\\footy\\Lib\\site-packages\\snowflake\\connector\\cursor.py\u001b\\\u001b[2mcursor.py\u001b[0m\u001b]8;;\u001b\\\u001b[2m:\u001b[0m\u001b]8;id=68842;file://d:\\Users\\ksbha\\miniconda3\\envs\\footy\\Lib\\site-packages\\snowflake\\connector\\cursor.py#988\u001b\\\u001b[2m988\u001b[0m\u001b]8;;\u001b\\\n"
      ]
     },
     "metadata": {},
     "output_type": "display_data"
    },
    {
     "data": {
      "text/plain": [
       "<snowflake.connector.cursor.SnowflakeCursor at 0x28a13e89810>"
      ]
     },
     "execution_count": 165,
     "metadata": {},
     "output_type": "execute_result"
    }
   ],
   "source": [
    "cur.execute(create_team_attacking_stats_query)"
   ]
  },
  {
   "cell_type": "code",
   "execution_count": 166,
   "metadata": {},
   "outputs": [],
   "source": [
    "team_attacking_stats = team_npxG_90.reset_index()[['team','season','npxG']].rename(columns={'team': 'TEAM_NAME', \n",
    "                                                            'season':'SEASON','npxG': 'NPXG'})"
   ]
  },
  {
   "cell_type": "code",
   "execution_count": 177,
   "metadata": {},
   "outputs": [],
   "source": [
    "team_attacking_stats = team_attacking_stats.merge(team_names, on='TEAM_NAME').merge(team_matches_played, on=['TEAM_FBREF_ID', 'SEASON'])"
   ]
  },
  {
   "cell_type": "code",
   "execution_count": 179,
   "metadata": {},
   "outputs": [],
   "source": [
    "team_attacking_stats.NPXG = team_attacking_stats.NPXG * team_attacking_stats.MATCHES_PLAYED"
   ]
  },
  {
   "cell_type": "code",
   "execution_count": 183,
   "metadata": {},
   "outputs": [],
   "source": [
    "## Add team_goals_scored to team_attacking_stats as a new column with no merging on anything\n",
    "team_attacking_stats['GOALS_SCORED'] = team_goals_scored"
   ]
  },
  {
   "cell_type": "code",
   "execution_count": 185,
   "metadata": {},
   "outputs": [],
   "source": [
    "team_attacking_stats['SHOTS'] = team_shots\n",
    "team_attacking_stats['SHOTS_ON_TARGET'] = team_shotsOT\n",
    "team_attacking_stats['PASS_COMPLETED'] = team_pass_completed\n",
    "team_attacking_stats['PASS_ATTEMPTED'] = team_pass_attempted\n",
    "team_attacking_stats['TAKEONS_ATTEMPTED'] = team_takeons_attempted\n",
    "team_attacking_stats['TAKEONS_COMPLETED'] = team_takeons_completed\n",
    "team_attacking_stats['CROSSES_INTO_PA'] = team_crossesintoPA\n",
    "team_attacking_stats['FOULS_AGAINST'] = team_fouls_against"
   ]
  },
  {
   "cell_type": "code",
   "execution_count": 187,
   "metadata": {},
   "outputs": [],
   "source": [
    "team_attacking_stats.drop(columns=['TEAM_NAME'], inplace=True)"
   ]
  },
  {
   "cell_type": "code",
   "execution_count": 192,
   "metadata": {},
   "outputs": [],
   "source": [
    "team_attacking_stats.drop('MATCHES_PLAYED', axis=1, inplace=True)"
   ]
  },
  {
   "cell_type": "code",
   "execution_count": 203,
   "metadata": {},
   "outputs": [
    {
     "data": {
      "text/html": [
       "<pre style=\"white-space:pre;overflow-x:auto;line-height:normal;font-family:Menlo,'DejaVu Sans Mono',consolas,'Courier New',monospace\"><span style=\"color: #7fbfbf; text-decoration-color: #7fbfbf\">[12/13/23 14:07:44] </span><span style=\"color: #000080; text-decoration-color: #000080\">INFO    </span> query: <span style=\"font-weight: bold\">[</span>TRUNCATE TABLE TEAM_ATTACKING_STATS<span style=\"font-weight: bold\">]</span>                             <a href=\"file://d:\\Users\\ksbha\\miniconda3\\envs\\footy\\Lib\\site-packages\\snowflake\\connector\\cursor.py\" target=\"_blank\"><span style=\"color: #7f7f7f; text-decoration-color: #7f7f7f\">cursor.py</span></a><span style=\"color: #7f7f7f; text-decoration-color: #7f7f7f\">:</span><a href=\"file://d:\\Users\\ksbha\\miniconda3\\envs\\footy\\Lib\\site-packages\\snowflake\\connector\\cursor.py#833\" target=\"_blank\"><span style=\"color: #7f7f7f; text-decoration-color: #7f7f7f\">833</span></a>\n",
       "</pre>\n"
      ],
      "text/plain": [
       "\u001b[2;36m[12/13/23 14:07:44]\u001b[0m\u001b[2;36m \u001b[0m\u001b[34mINFO    \u001b[0m query: \u001b[1m[\u001b[0mTRUNCATE TABLE TEAM_ATTACKING_STATS\u001b[1m]\u001b[0m                             \u001b]8;id=674488;file://d:\\Users\\ksbha\\miniconda3\\envs\\footy\\Lib\\site-packages\\snowflake\\connector\\cursor.py\u001b\\\u001b[2mcursor.py\u001b[0m\u001b]8;;\u001b\\\u001b[2m:\u001b[0m\u001b]8;id=113204;file://d:\\Users\\ksbha\\miniconda3\\envs\\footy\\Lib\\site-packages\\snowflake\\connector\\cursor.py#833\u001b\\\u001b[2m833\u001b[0m\u001b]8;;\u001b\\\n"
      ]
     },
     "metadata": {},
     "output_type": "display_data"
    },
    {
     "data": {
      "text/html": [
       "<pre style=\"white-space:pre;overflow-x:auto;line-height:normal;font-family:Menlo,'DejaVu Sans Mono',consolas,'Courier New',monospace\"><span style=\"color: #7fbfbf; text-decoration-color: #7fbfbf\">[12/13/23 14:07:45] </span><span style=\"color: #000080; text-decoration-color: #000080\">INFO    </span> query execution done                                                     <a href=\"file://d:\\Users\\ksbha\\miniconda3\\envs\\footy\\Lib\\site-packages\\snowflake\\connector\\cursor.py\" target=\"_blank\"><span style=\"color: #7f7f7f; text-decoration-color: #7f7f7f\">cursor.py</span></a><span style=\"color: #7f7f7f; text-decoration-color: #7f7f7f\">:</span><a href=\"file://d:\\Users\\ksbha\\miniconda3\\envs\\footy\\Lib\\site-packages\\snowflake\\connector\\cursor.py#846\" target=\"_blank\"><span style=\"color: #7f7f7f; text-decoration-color: #7f7f7f\">846</span></a>\n",
       "</pre>\n"
      ],
      "text/plain": [
       "\u001b[2;36m[12/13/23 14:07:45]\u001b[0m\u001b[2;36m \u001b[0m\u001b[34mINFO    \u001b[0m query execution done                                                     \u001b]8;id=929879;file://d:\\Users\\ksbha\\miniconda3\\envs\\footy\\Lib\\site-packages\\snowflake\\connector\\cursor.py\u001b\\\u001b[2mcursor.py\u001b[0m\u001b]8;;\u001b\\\u001b[2m:\u001b[0m\u001b]8;id=553614;file://d:\\Users\\ksbha\\miniconda3\\envs\\footy\\Lib\\site-packages\\snowflake\\connector\\cursor.py#846\u001b\\\u001b[2m846\u001b[0m\u001b]8;;\u001b\\\n"
      ]
     },
     "metadata": {},
     "output_type": "display_data"
    },
    {
     "data": {
      "text/html": [
       "<pre style=\"white-space:pre;overflow-x:auto;line-height:normal;font-family:Menlo,'DejaVu Sans Mono',consolas,'Courier New',monospace\"><span style=\"color: #7fbfbf; text-decoration-color: #7fbfbf\">                    </span><span style=\"color: #000080; text-decoration-color: #000080\">INFO    </span> Number of results in first chunk: <span style=\"color: #008080; text-decoration-color: #008080; font-weight: bold\">1</span>                                      <a href=\"file://d:\\Users\\ksbha\\miniconda3\\envs\\footy\\Lib\\site-packages\\snowflake\\connector\\cursor.py\" target=\"_blank\"><span style=\"color: #7f7f7f; text-decoration-color: #7f7f7f\">cursor.py</span></a><span style=\"color: #7f7f7f; text-decoration-color: #7f7f7f\">:</span><a href=\"file://d:\\Users\\ksbha\\miniconda3\\envs\\footy\\Lib\\site-packages\\snowflake\\connector\\cursor.py#988\" target=\"_blank\"><span style=\"color: #7f7f7f; text-decoration-color: #7f7f7f\">988</span></a>\n",
       "</pre>\n"
      ],
      "text/plain": [
       "\u001b[2;36m                   \u001b[0m\u001b[2;36m \u001b[0m\u001b[34mINFO    \u001b[0m Number of results in first chunk: \u001b[1;36m1\u001b[0m                                      \u001b]8;id=606661;file://d:\\Users\\ksbha\\miniconda3\\envs\\footy\\Lib\\site-packages\\snowflake\\connector\\cursor.py\u001b\\\u001b[2mcursor.py\u001b[0m\u001b]8;;\u001b\\\u001b[2m:\u001b[0m\u001b]8;id=808358;file://d:\\Users\\ksbha\\miniconda3\\envs\\footy\\Lib\\site-packages\\snowflake\\connector\\cursor.py#988\u001b\\\u001b[2m988\u001b[0m\u001b]8;;\u001b\\\n"
      ]
     },
     "metadata": {},
     "output_type": "display_data"
    },
    {
     "data": {
      "text/html": [
       "<pre style=\"white-space:pre;overflow-x:auto;line-height:normal;font-family:Menlo,'DejaVu Sans Mono',consolas,'Courier New',monospace\"><span style=\"color: #7fbfbf; text-decoration-color: #7fbfbf\">                    </span><span style=\"color: #000080; text-decoration-color: #000080\">INFO    </span> query: <span style=\"font-weight: bold\">[</span>CREATE TEMP STAGE <span style=\"color: #800080; text-decoration-color: #800080\">/</span>*                                             <a href=\"file://d:\\Users\\ksbha\\miniconda3\\envs\\footy\\Lib\\site-packages\\snowflake\\connector\\cursor.py\" target=\"_blank\"><span style=\"color: #7f7f7f; text-decoration-color: #7f7f7f\">cursor.py</span></a><span style=\"color: #7f7f7f; text-decoration-color: #7f7f7f\">:</span><a href=\"file://d:\\Users\\ksbha\\miniconda3\\envs\\footy\\Lib\\site-packages\\snowflake\\connector\\cursor.py#833\" target=\"_blank\"><span style=\"color: #7f7f7f; text-decoration-color: #7f7f7f\">833</span></a>\n",
       "<span style=\"color: #7fbfbf; text-decoration-color: #7fbfbf\">                    </span>         Python:<span style=\"color: #800080; text-decoration-color: #800080; font-weight: bold\">snowflake.connector.pandas_tools.write_pandas</span><span style=\"font-weight: bold\">()</span> *<span style=\"color: #800080; text-decoration-color: #800080\">/</span> \"<span style=\"color: #808000; text-decoration-color: #808000\">...</span><span style=\"font-weight: bold\">]</span>          <span style=\"color: #7f7f7f; text-decoration-color: #7f7f7f\">             </span>\n",
       "</pre>\n"
      ],
      "text/plain": [
       "\u001b[2;36m                   \u001b[0m\u001b[2;36m \u001b[0m\u001b[34mINFO    \u001b[0m query: \u001b[1m[\u001b[0mCREATE TEMP STAGE \u001b[35m/\u001b[0m*                                             \u001b]8;id=929859;file://d:\\Users\\ksbha\\miniconda3\\envs\\footy\\Lib\\site-packages\\snowflake\\connector\\cursor.py\u001b\\\u001b[2mcursor.py\u001b[0m\u001b]8;;\u001b\\\u001b[2m:\u001b[0m\u001b]8;id=118954;file://d:\\Users\\ksbha\\miniconda3\\envs\\footy\\Lib\\site-packages\\snowflake\\connector\\cursor.py#833\u001b\\\u001b[2m833\u001b[0m\u001b]8;;\u001b\\\n",
       "\u001b[2;36m                    \u001b[0m         Python:\u001b[1;35msnowflake.connector.pandas_tools.write_pandas\u001b[0m\u001b[1m(\u001b[0m\u001b[1m)\u001b[0m *\u001b[35m/\u001b[0m \"\u001b[33m...\u001b[0m\u001b[1m]\u001b[0m          \u001b[2m             \u001b[0m\n"
      ]
     },
     "metadata": {},
     "output_type": "display_data"
    },
    {
     "data": {
      "text/html": [
       "<pre style=\"white-space:pre;overflow-x:auto;line-height:normal;font-family:Menlo,'DejaVu Sans Mono',consolas,'Courier New',monospace\"><span style=\"color: #7fbfbf; text-decoration-color: #7fbfbf\">                    </span><span style=\"color: #000080; text-decoration-color: #000080\">INFO    </span> query execution done                                                     <a href=\"file://d:\\Users\\ksbha\\miniconda3\\envs\\footy\\Lib\\site-packages\\snowflake\\connector\\cursor.py\" target=\"_blank\"><span style=\"color: #7f7f7f; text-decoration-color: #7f7f7f\">cursor.py</span></a><span style=\"color: #7f7f7f; text-decoration-color: #7f7f7f\">:</span><a href=\"file://d:\\Users\\ksbha\\miniconda3\\envs\\footy\\Lib\\site-packages\\snowflake\\connector\\cursor.py#846\" target=\"_blank\"><span style=\"color: #7f7f7f; text-decoration-color: #7f7f7f\">846</span></a>\n",
       "</pre>\n"
      ],
      "text/plain": [
       "\u001b[2;36m                   \u001b[0m\u001b[2;36m \u001b[0m\u001b[34mINFO    \u001b[0m query execution done                                                     \u001b]8;id=533828;file://d:\\Users\\ksbha\\miniconda3\\envs\\footy\\Lib\\site-packages\\snowflake\\connector\\cursor.py\u001b\\\u001b[2mcursor.py\u001b[0m\u001b]8;;\u001b\\\u001b[2m:\u001b[0m\u001b]8;id=425830;file://d:\\Users\\ksbha\\miniconda3\\envs\\footy\\Lib\\site-packages\\snowflake\\connector\\cursor.py#846\u001b\\\u001b[2m846\u001b[0m\u001b]8;;\u001b\\\n"
      ]
     },
     "metadata": {},
     "output_type": "display_data"
    },
    {
     "data": {
      "text/html": [
       "<pre style=\"white-space:pre;overflow-x:auto;line-height:normal;font-family:Menlo,'DejaVu Sans Mono',consolas,'Courier New',monospace\"><span style=\"color: #7fbfbf; text-decoration-color: #7fbfbf\">                    </span><span style=\"color: #000080; text-decoration-color: #000080\">INFO    </span> Number of results in first chunk: <span style=\"color: #008080; text-decoration-color: #008080; font-weight: bold\">1</span>                                      <a href=\"file://d:\\Users\\ksbha\\miniconda3\\envs\\footy\\Lib\\site-packages\\snowflake\\connector\\cursor.py\" target=\"_blank\"><span style=\"color: #7f7f7f; text-decoration-color: #7f7f7f\">cursor.py</span></a><span style=\"color: #7f7f7f; text-decoration-color: #7f7f7f\">:</span><a href=\"file://d:\\Users\\ksbha\\miniconda3\\envs\\footy\\Lib\\site-packages\\snowflake\\connector\\cursor.py#988\" target=\"_blank\"><span style=\"color: #7f7f7f; text-decoration-color: #7f7f7f\">988</span></a>\n",
       "</pre>\n"
      ],
      "text/plain": [
       "\u001b[2;36m                   \u001b[0m\u001b[2;36m \u001b[0m\u001b[34mINFO    \u001b[0m Number of results in first chunk: \u001b[1;36m1\u001b[0m                                      \u001b]8;id=175119;file://d:\\Users\\ksbha\\miniconda3\\envs\\footy\\Lib\\site-packages\\snowflake\\connector\\cursor.py\u001b\\\u001b[2mcursor.py\u001b[0m\u001b]8;;\u001b\\\u001b[2m:\u001b[0m\u001b]8;id=724892;file://d:\\Users\\ksbha\\miniconda3\\envs\\footy\\Lib\\site-packages\\snowflake\\connector\\cursor.py#988\u001b\\\u001b[2m988\u001b[0m\u001b]8;;\u001b\\\n"
      ]
     },
     "metadata": {},
     "output_type": "display_data"
    },
    {
     "data": {
      "text/html": [
       "<pre style=\"white-space:pre;overflow-x:auto;line-height:normal;font-family:Menlo,'DejaVu Sans Mono',consolas,'Courier New',monospace\"><span style=\"color: #7fbfbf; text-decoration-color: #7fbfbf\">                    </span><span style=\"color: #000080; text-decoration-color: #000080\">INFO    </span> query: <span style=\"font-weight: bold\">[</span><span style=\"color: #808000; text-decoration-color: #808000; font-weight: bold\">PUT</span> <span style=\"color: #800080; text-decoration-color: #800080\">/</span>* Python:<span style=\"color: #800080; text-decoration-color: #800080; font-weight: bold\">snowflake.connector.pandas_tools.write_pandas</span><span style=\"font-weight: bold\">()</span> *<span style=\"color: #800080; text-decoration-color: #800080\">/</span> <a href=\"file://d:\\Users\\ksbha\\miniconda3\\envs\\footy\\Lib\\site-packages\\snowflake\\connector\\cursor.py\" target=\"_blank\"><span style=\"color: #7f7f7f; text-decoration-color: #7f7f7f\">cursor.py</span></a><span style=\"color: #7f7f7f; text-decoration-color: #7f7f7f\">:</span><a href=\"file://d:\\Users\\ksbha\\miniconda3\\envs\\footy\\Lib\\site-packages\\snowflake\\connector\\cursor.py#833\" target=\"_blank\"><span style=\"color: #7f7f7f; text-decoration-color: #7f7f7f\">833</span></a>\n",
       "<span style=\"color: #7fbfbf; text-decoration-color: #7fbfbf\">                    </span>         '<span style=\"color: #0000ff; text-decoration-color: #0000ff; text-decoration: underline\">file://C:</span>\\\\Use<span style=\"color: #808000; text-decoration-color: #808000\">...</span><span style=\"font-weight: bold\">]</span>                                                      <span style=\"color: #7f7f7f; text-decoration-color: #7f7f7f\">             </span>\n",
       "</pre>\n"
      ],
      "text/plain": [
       "\u001b[2;36m                   \u001b[0m\u001b[2;36m \u001b[0m\u001b[34mINFO    \u001b[0m query: \u001b[1m[\u001b[0m\u001b[1;33mPUT\u001b[0m \u001b[35m/\u001b[0m* Python:\u001b[1;35msnowflake.connector.pandas_tools.write_pandas\u001b[0m\u001b[1m(\u001b[0m\u001b[1m)\u001b[0m *\u001b[35m/\u001b[0m \u001b]8;id=770015;file://d:\\Users\\ksbha\\miniconda3\\envs\\footy\\Lib\\site-packages\\snowflake\\connector\\cursor.py\u001b\\\u001b[2mcursor.py\u001b[0m\u001b]8;;\u001b\\\u001b[2m:\u001b[0m\u001b]8;id=973429;file://d:\\Users\\ksbha\\miniconda3\\envs\\footy\\Lib\\site-packages\\snowflake\\connector\\cursor.py#833\u001b\\\u001b[2m833\u001b[0m\u001b]8;;\u001b\\\n",
       "\u001b[2;36m                    \u001b[0m         '\u001b[4;94mfile://C:\u001b[0m\\\\Use\u001b[33m...\u001b[0m\u001b[1m]\u001b[0m                                                      \u001b[2m             \u001b[0m\n"
      ]
     },
     "metadata": {},
     "output_type": "display_data"
    },
    {
     "data": {
      "text/html": [
       "<pre style=\"white-space:pre;overflow-x:auto;line-height:normal;font-family:Menlo,'DejaVu Sans Mono',consolas,'Courier New',monospace\"><span style=\"color: #7fbfbf; text-decoration-color: #7fbfbf\">                    </span><span style=\"color: #000080; text-decoration-color: #000080\">INFO    </span> query execution done                                                     <a href=\"file://d:\\Users\\ksbha\\miniconda3\\envs\\footy\\Lib\\site-packages\\snowflake\\connector\\cursor.py\" target=\"_blank\"><span style=\"color: #7f7f7f; text-decoration-color: #7f7f7f\">cursor.py</span></a><span style=\"color: #7f7f7f; text-decoration-color: #7f7f7f\">:</span><a href=\"file://d:\\Users\\ksbha\\miniconda3\\envs\\footy\\Lib\\site-packages\\snowflake\\connector\\cursor.py#846\" target=\"_blank\"><span style=\"color: #7f7f7f; text-decoration-color: #7f7f7f\">846</span></a>\n",
       "</pre>\n"
      ],
      "text/plain": [
       "\u001b[2;36m                   \u001b[0m\u001b[2;36m \u001b[0m\u001b[34mINFO    \u001b[0m query execution done                                                     \u001b]8;id=956595;file://d:\\Users\\ksbha\\miniconda3\\envs\\footy\\Lib\\site-packages\\snowflake\\connector\\cursor.py\u001b\\\u001b[2mcursor.py\u001b[0m\u001b]8;;\u001b\\\u001b[2m:\u001b[0m\u001b]8;id=129021;file://d:\\Users\\ksbha\\miniconda3\\envs\\footy\\Lib\\site-packages\\snowflake\\connector\\cursor.py#846\u001b\\\u001b[2m846\u001b[0m\u001b]8;;\u001b\\\n"
      ]
     },
     "metadata": {},
     "output_type": "display_data"
    },
    {
     "data": {
      "text/html": [
       "<pre style=\"white-space:pre;overflow-x:auto;line-height:normal;font-family:Menlo,'DejaVu Sans Mono',consolas,'Courier New',monospace\"><span style=\"color: #7fbfbf; text-decoration-color: #7fbfbf\">[12/13/23 14:07:46] </span><span style=\"color: #000080; text-decoration-color: #000080\">INFO    </span> query: <span style=\"font-weight: bold\">[</span>COPY INTO <span style=\"color: #008000; text-decoration-color: #008000\">\"TEAM_ATTACKING_STATS\"</span> <span style=\"color: #800080; text-decoration-color: #800080\">/</span>*                              <a href=\"file://d:\\Users\\ksbha\\miniconda3\\envs\\footy\\Lib\\site-packages\\snowflake\\connector\\cursor.py\" target=\"_blank\"><span style=\"color: #7f7f7f; text-decoration-color: #7f7f7f\">cursor.py</span></a><span style=\"color: #7f7f7f; text-decoration-color: #7f7f7f\">:</span><a href=\"file://d:\\Users\\ksbha\\miniconda3\\envs\\footy\\Lib\\site-packages\\snowflake\\connector\\cursor.py#833\" target=\"_blank\"><span style=\"color: #7f7f7f; text-decoration-color: #7f7f7f\">833</span></a>\n",
       "<span style=\"color: #7fbfbf; text-decoration-color: #7fbfbf\">                    </span>         Python:snowflake.connector.pandas_tools.writ<span style=\"color: #808000; text-decoration-color: #808000\">...</span><span style=\"font-weight: bold\">]</span>                         <span style=\"color: #7f7f7f; text-decoration-color: #7f7f7f\">             </span>\n",
       "</pre>\n"
      ],
      "text/plain": [
       "\u001b[2;36m[12/13/23 14:07:46]\u001b[0m\u001b[2;36m \u001b[0m\u001b[34mINFO    \u001b[0m query: \u001b[1m[\u001b[0mCOPY INTO \u001b[32m\"TEAM_ATTACKING_STATS\"\u001b[0m \u001b[35m/\u001b[0m*                              \u001b]8;id=967119;file://d:\\Users\\ksbha\\miniconda3\\envs\\footy\\Lib\\site-packages\\snowflake\\connector\\cursor.py\u001b\\\u001b[2mcursor.py\u001b[0m\u001b]8;;\u001b\\\u001b[2m:\u001b[0m\u001b]8;id=136084;file://d:\\Users\\ksbha\\miniconda3\\envs\\footy\\Lib\\site-packages\\snowflake\\connector\\cursor.py#833\u001b\\\u001b[2m833\u001b[0m\u001b]8;;\u001b\\\n",
       "\u001b[2;36m                    \u001b[0m         Python:snowflake.connector.pandas_tools.writ\u001b[33m...\u001b[0m\u001b[1m]\u001b[0m                         \u001b[2m             \u001b[0m\n"
      ]
     },
     "metadata": {},
     "output_type": "display_data"
    },
    {
     "data": {
      "text/html": [
       "<pre style=\"white-space:pre;overflow-x:auto;line-height:normal;font-family:Menlo,'DejaVu Sans Mono',consolas,'Courier New',monospace\"><span style=\"color: #7fbfbf; text-decoration-color: #7fbfbf\">[12/13/23 14:07:47] </span><span style=\"color: #000080; text-decoration-color: #000080\">INFO    </span> query execution done                                                     <a href=\"file://d:\\Users\\ksbha\\miniconda3\\envs\\footy\\Lib\\site-packages\\snowflake\\connector\\cursor.py\" target=\"_blank\"><span style=\"color: #7f7f7f; text-decoration-color: #7f7f7f\">cursor.py</span></a><span style=\"color: #7f7f7f; text-decoration-color: #7f7f7f\">:</span><a href=\"file://d:\\Users\\ksbha\\miniconda3\\envs\\footy\\Lib\\site-packages\\snowflake\\connector\\cursor.py#846\" target=\"_blank\"><span style=\"color: #7f7f7f; text-decoration-color: #7f7f7f\">846</span></a>\n",
       "</pre>\n"
      ],
      "text/plain": [
       "\u001b[2;36m[12/13/23 14:07:47]\u001b[0m\u001b[2;36m \u001b[0m\u001b[34mINFO    \u001b[0m query execution done                                                     \u001b]8;id=316579;file://d:\\Users\\ksbha\\miniconda3\\envs\\footy\\Lib\\site-packages\\snowflake\\connector\\cursor.py\u001b\\\u001b[2mcursor.py\u001b[0m\u001b]8;;\u001b\\\u001b[2m:\u001b[0m\u001b]8;id=421337;file://d:\\Users\\ksbha\\miniconda3\\envs\\footy\\Lib\\site-packages\\snowflake\\connector\\cursor.py#846\u001b\\\u001b[2m846\u001b[0m\u001b]8;;\u001b\\\n"
      ]
     },
     "metadata": {},
     "output_type": "display_data"
    },
    {
     "data": {
      "text/html": [
       "<pre style=\"white-space:pre;overflow-x:auto;line-height:normal;font-family:Menlo,'DejaVu Sans Mono',consolas,'Courier New',monospace\"><span style=\"color: #7fbfbf; text-decoration-color: #7fbfbf\">                    </span><span style=\"color: #000080; text-decoration-color: #000080\">INFO    </span> Number of results in first chunk: <span style=\"color: #008080; text-decoration-color: #008080; font-weight: bold\">1</span>                                      <a href=\"file://d:\\Users\\ksbha\\miniconda3\\envs\\footy\\Lib\\site-packages\\snowflake\\connector\\cursor.py\" target=\"_blank\"><span style=\"color: #7f7f7f; text-decoration-color: #7f7f7f\">cursor.py</span></a><span style=\"color: #7f7f7f; text-decoration-color: #7f7f7f\">:</span><a href=\"file://d:\\Users\\ksbha\\miniconda3\\envs\\footy\\Lib\\site-packages\\snowflake\\connector\\cursor.py#988\" target=\"_blank\"><span style=\"color: #7f7f7f; text-decoration-color: #7f7f7f\">988</span></a>\n",
       "</pre>\n"
      ],
      "text/plain": [
       "\u001b[2;36m                   \u001b[0m\u001b[2;36m \u001b[0m\u001b[34mINFO    \u001b[0m Number of results in first chunk: \u001b[1;36m1\u001b[0m                                      \u001b]8;id=347072;file://d:\\Users\\ksbha\\miniconda3\\envs\\footy\\Lib\\site-packages\\snowflake\\connector\\cursor.py\u001b\\\u001b[2mcursor.py\u001b[0m\u001b]8;;\u001b\\\u001b[2m:\u001b[0m\u001b]8;id=687648;file://d:\\Users\\ksbha\\miniconda3\\envs\\footy\\Lib\\site-packages\\snowflake\\connector\\cursor.py#988\u001b\\\u001b[2m988\u001b[0m\u001b]8;;\u001b\\\n"
      ]
     },
     "metadata": {},
     "output_type": "display_data"
    }
   ],
   "source": [
    "insert_to_snowflake_DB(['TEAM_FBREF_ID', 'SEASON'], 'TEAM_ATTACKING_STATS', team_attacking_stats, replace=True)"
   ]
  },
  {
   "cell_type": "code",
   "execution_count": null,
   "metadata": {},
   "outputs": [],
   "source": []
  },
  {
   "cell_type": "code",
   "execution_count": null,
   "metadata": {},
   "outputs": [],
   "source": []
  },
  {
   "cell_type": "code",
   "execution_count": 205,
   "metadata": {},
   "outputs": [],
   "source": [
    "create_team_defending_stats_query = \"\"\"\n",
    "CREATE TABLE IF NOT EXISTS TEAM_DEFENDING_STATS (\n",
    "    TEAM_FBREF_ID VARCHAR(255),\n",
    "    SEASON INT,\n",
    "    GOALS_CONCEDED INT,\n",
    "    XG_AGAINST FLOAT,\n",
    "    TACKLES INT,\n",
    "    TACKLES_WON INT,\n",
    "    FOULS_MADE INT,\n",
    "    INTERCEPTIONS INT,\n",
    "    BLOCKED_SHOTS INT,\n",
    "    BLOCKED_PASSES INT,\n",
    "    CLEARANCES INT,\n",
    "    PRIMARY KEY (TEAM_FBREF_ID, SEASON),\n",
    "    FOREIGN KEY (TEAM_FBREF_ID) REFERENCES GEGENSTATS.FBREF_TEAMSTATS.TEAMS(TEAM_FBREF_ID)\n",
    ");\n",
    "\"\"\""
   ]
  },
  {
   "cell_type": "code",
   "execution_count": 206,
   "metadata": {},
   "outputs": [
    {
     "data": {
      "text/html": [
       "<pre style=\"white-space:pre;overflow-x:auto;line-height:normal;font-family:Menlo,'DejaVu Sans Mono',consolas,'Courier New',monospace\"><span style=\"color: #7fbfbf; text-decoration-color: #7fbfbf\">[12/13/23 14:10:26] </span><span style=\"color: #000080; text-decoration-color: #000080\">INFO    </span> query: <span style=\"font-weight: bold\">[</span>CREATE TABLE IF NOT EXISTS TEAM_DEFENDING_STATS <span style=\"font-weight: bold\">(</span> TEAM_FBREF_ID  <a href=\"file://d:\\Users\\ksbha\\miniconda3\\envs\\footy\\Lib\\site-packages\\snowflake\\connector\\cursor.py\" target=\"_blank\"><span style=\"color: #7f7f7f; text-decoration-color: #7f7f7f\">cursor.py</span></a><span style=\"color: #7f7f7f; text-decoration-color: #7f7f7f\">:</span><a href=\"file://d:\\Users\\ksbha\\miniconda3\\envs\\footy\\Lib\\site-packages\\snowflake\\connector\\cursor.py#833\" target=\"_blank\"><span style=\"color: #7f7f7f; text-decoration-color: #7f7f7f\">833</span></a>\n",
       "<span style=\"color: #7fbfbf; text-decoration-color: #7fbfbf\">                    </span>         <span style=\"color: #800080; text-decoration-color: #800080; font-weight: bold\">VARCHAR</span><span style=\"font-weight: bold\">(</span><span style=\"color: #008080; text-decoration-color: #008080; font-weight: bold\">255</span><span style=\"font-weight: bold\">)</span>, SE<span style=\"color: #808000; text-decoration-color: #808000\">...</span><span style=\"font-weight: bold\">]</span>                                                     <span style=\"color: #7f7f7f; text-decoration-color: #7f7f7f\">             </span>\n",
       "</pre>\n"
      ],
      "text/plain": [
       "\u001b[2;36m[12/13/23 14:10:26]\u001b[0m\u001b[2;36m \u001b[0m\u001b[34mINFO    \u001b[0m query: \u001b[1m[\u001b[0mCREATE TABLE IF NOT EXISTS TEAM_DEFENDING_STATS \u001b[1m(\u001b[0m TEAM_FBREF_ID  \u001b]8;id=906799;file://d:\\Users\\ksbha\\miniconda3\\envs\\footy\\Lib\\site-packages\\snowflake\\connector\\cursor.py\u001b\\\u001b[2mcursor.py\u001b[0m\u001b]8;;\u001b\\\u001b[2m:\u001b[0m\u001b]8;id=42029;file://d:\\Users\\ksbha\\miniconda3\\envs\\footy\\Lib\\site-packages\\snowflake\\connector\\cursor.py#833\u001b\\\u001b[2m833\u001b[0m\u001b]8;;\u001b\\\n",
       "\u001b[2;36m                    \u001b[0m         \u001b[1;35mVARCHAR\u001b[0m\u001b[1m(\u001b[0m\u001b[1;36m255\u001b[0m\u001b[1m)\u001b[0m, SE\u001b[33m...\u001b[0m\u001b[1m]\u001b[0m                                                     \u001b[2m             \u001b[0m\n"
      ]
     },
     "metadata": {},
     "output_type": "display_data"
    },
    {
     "data": {
      "text/html": [
       "<pre style=\"white-space:pre;overflow-x:auto;line-height:normal;font-family:Menlo,'DejaVu Sans Mono',consolas,'Courier New',monospace\"><span style=\"color: #7fbfbf; text-decoration-color: #7fbfbf\">[12/13/23 14:10:27] </span><span style=\"color: #000080; text-decoration-color: #000080\">INFO    </span> query execution done                                                     <a href=\"file://d:\\Users\\ksbha\\miniconda3\\envs\\footy\\Lib\\site-packages\\snowflake\\connector\\cursor.py\" target=\"_blank\"><span style=\"color: #7f7f7f; text-decoration-color: #7f7f7f\">cursor.py</span></a><span style=\"color: #7f7f7f; text-decoration-color: #7f7f7f\">:</span><a href=\"file://d:\\Users\\ksbha\\miniconda3\\envs\\footy\\Lib\\site-packages\\snowflake\\connector\\cursor.py#846\" target=\"_blank\"><span style=\"color: #7f7f7f; text-decoration-color: #7f7f7f\">846</span></a>\n",
       "</pre>\n"
      ],
      "text/plain": [
       "\u001b[2;36m[12/13/23 14:10:27]\u001b[0m\u001b[2;36m \u001b[0m\u001b[34mINFO    \u001b[0m query execution done                                                     \u001b]8;id=86011;file://d:\\Users\\ksbha\\miniconda3\\envs\\footy\\Lib\\site-packages\\snowflake\\connector\\cursor.py\u001b\\\u001b[2mcursor.py\u001b[0m\u001b]8;;\u001b\\\u001b[2m:\u001b[0m\u001b]8;id=595627;file://d:\\Users\\ksbha\\miniconda3\\envs\\footy\\Lib\\site-packages\\snowflake\\connector\\cursor.py#846\u001b\\\u001b[2m846\u001b[0m\u001b]8;;\u001b\\\n"
      ]
     },
     "metadata": {},
     "output_type": "display_data"
    },
    {
     "data": {
      "text/html": [
       "<pre style=\"white-space:pre;overflow-x:auto;line-height:normal;font-family:Menlo,'DejaVu Sans Mono',consolas,'Courier New',monospace\"><span style=\"color: #7fbfbf; text-decoration-color: #7fbfbf\">                    </span><span style=\"color: #000080; text-decoration-color: #000080\">INFO    </span> Number of results in first chunk: <span style=\"color: #008080; text-decoration-color: #008080; font-weight: bold\">1</span>                                      <a href=\"file://d:\\Users\\ksbha\\miniconda3\\envs\\footy\\Lib\\site-packages\\snowflake\\connector\\cursor.py\" target=\"_blank\"><span style=\"color: #7f7f7f; text-decoration-color: #7f7f7f\">cursor.py</span></a><span style=\"color: #7f7f7f; text-decoration-color: #7f7f7f\">:</span><a href=\"file://d:\\Users\\ksbha\\miniconda3\\envs\\footy\\Lib\\site-packages\\snowflake\\connector\\cursor.py#988\" target=\"_blank\"><span style=\"color: #7f7f7f; text-decoration-color: #7f7f7f\">988</span></a>\n",
       "</pre>\n"
      ],
      "text/plain": [
       "\u001b[2;36m                   \u001b[0m\u001b[2;36m \u001b[0m\u001b[34mINFO    \u001b[0m Number of results in first chunk: \u001b[1;36m1\u001b[0m                                      \u001b]8;id=117605;file://d:\\Users\\ksbha\\miniconda3\\envs\\footy\\Lib\\site-packages\\snowflake\\connector\\cursor.py\u001b\\\u001b[2mcursor.py\u001b[0m\u001b]8;;\u001b\\\u001b[2m:\u001b[0m\u001b]8;id=397759;file://d:\\Users\\ksbha\\miniconda3\\envs\\footy\\Lib\\site-packages\\snowflake\\connector\\cursor.py#988\u001b\\\u001b[2m988\u001b[0m\u001b]8;;\u001b\\\n"
      ]
     },
     "metadata": {},
     "output_type": "display_data"
    },
    {
     "data": {
      "text/plain": [
       "<snowflake.connector.cursor.SnowflakeCursor at 0x28a13e89810>"
      ]
     },
     "execution_count": 206,
     "metadata": {},
     "output_type": "execute_result"
    }
   ],
   "source": [
    "cur.execute(create_team_defending_stats_query)"
   ]
  },
  {
   "cell_type": "code",
   "execution_count": 208,
   "metadata": {},
   "outputs": [],
   "source": [
    "team_defending_stats = team_names.copy()"
   ]
  },
  {
   "cell_type": "code",
   "execution_count": 209,
   "metadata": {},
   "outputs": [],
   "source": [
    "team_defending_stats['SEASON'] = team_attacking_stats.SEASON\n",
    "team_defending_stats['GOALS_CONCEDED'] = team_goals_conceded\n",
    "team_defending_stats['XG_AGAINST'] = team_xG_against_90*team_matches_played.MATCHES_PLAYED\n",
    "team_defending_stats['TACKLES'] = team_tackles\n",
    "team_defending_stats['TACKLES_WON'] = team_tackles_won\n",
    "team_defending_stats['FOULS_MADE'] = team_fouls_made\n",
    "team_defending_stats['INTERCEPTIONS'] = team_interceptions\n",
    "team_defending_stats['BLOCKED_SHOTS'] = team_blocks_shots\n",
    "team_defending_stats['BLOCKED_PASSES'] = team_blocks_pass\n",
    "team_defending_stats['CLEARANCES'] = team_clearances"
   ]
  },
  {
   "cell_type": "code",
   "execution_count": 211,
   "metadata": {},
   "outputs": [],
   "source": [
    "team_defending_stats.drop(columns=['TEAM_NAME'], inplace=True)"
   ]
  },
  {
   "cell_type": "code",
   "execution_count": 212,
   "metadata": {},
   "outputs": [
    {
     "data": {
      "text/html": [
       "<pre style=\"white-space:pre;overflow-x:auto;line-height:normal;font-family:Menlo,'DejaVu Sans Mono',consolas,'Courier New',monospace\"><span style=\"color: #7fbfbf; text-decoration-color: #7fbfbf\">[12/13/23 14:12:13] </span><span style=\"color: #000080; text-decoration-color: #000080\">INFO    </span> query: <span style=\"font-weight: bold\">[</span>SELECT TEAM_FBREF_ID, SEASON FROM TEAM_DEFENDING_STATS<span style=\"font-weight: bold\">]</span>          <a href=\"file://d:\\Users\\ksbha\\miniconda3\\envs\\footy\\Lib\\site-packages\\snowflake\\connector\\cursor.py\" target=\"_blank\"><span style=\"color: #7f7f7f; text-decoration-color: #7f7f7f\">cursor.py</span></a><span style=\"color: #7f7f7f; text-decoration-color: #7f7f7f\">:</span><a href=\"file://d:\\Users\\ksbha\\miniconda3\\envs\\footy\\Lib\\site-packages\\snowflake\\connector\\cursor.py#833\" target=\"_blank\"><span style=\"color: #7f7f7f; text-decoration-color: #7f7f7f\">833</span></a>\n",
       "</pre>\n"
      ],
      "text/plain": [
       "\u001b[2;36m[12/13/23 14:12:13]\u001b[0m\u001b[2;36m \u001b[0m\u001b[34mINFO    \u001b[0m query: \u001b[1m[\u001b[0mSELECT TEAM_FBREF_ID, SEASON FROM TEAM_DEFENDING_STATS\u001b[1m]\u001b[0m          \u001b]8;id=618522;file://d:\\Users\\ksbha\\miniconda3\\envs\\footy\\Lib\\site-packages\\snowflake\\connector\\cursor.py\u001b\\\u001b[2mcursor.py\u001b[0m\u001b]8;;\u001b\\\u001b[2m:\u001b[0m\u001b]8;id=431644;file://d:\\Users\\ksbha\\miniconda3\\envs\\footy\\Lib\\site-packages\\snowflake\\connector\\cursor.py#833\u001b\\\u001b[2m833\u001b[0m\u001b]8;;\u001b\\\n"
      ]
     },
     "metadata": {},
     "output_type": "display_data"
    },
    {
     "data": {
      "text/html": [
       "<pre style=\"white-space:pre;overflow-x:auto;line-height:normal;font-family:Menlo,'DejaVu Sans Mono',consolas,'Courier New',monospace\"><span style=\"color: #7fbfbf; text-decoration-color: #7fbfbf\">                    </span><span style=\"color: #000080; text-decoration-color: #000080\">INFO    </span> query execution done                                                     <a href=\"file://d:\\Users\\ksbha\\miniconda3\\envs\\footy\\Lib\\site-packages\\snowflake\\connector\\cursor.py\" target=\"_blank\"><span style=\"color: #7f7f7f; text-decoration-color: #7f7f7f\">cursor.py</span></a><span style=\"color: #7f7f7f; text-decoration-color: #7f7f7f\">:</span><a href=\"file://d:\\Users\\ksbha\\miniconda3\\envs\\footy\\Lib\\site-packages\\snowflake\\connector\\cursor.py#846\" target=\"_blank\"><span style=\"color: #7f7f7f; text-decoration-color: #7f7f7f\">846</span></a>\n",
       "</pre>\n"
      ],
      "text/plain": [
       "\u001b[2;36m                   \u001b[0m\u001b[2;36m \u001b[0m\u001b[34mINFO    \u001b[0m query execution done                                                     \u001b]8;id=36243;file://d:\\Users\\ksbha\\miniconda3\\envs\\footy\\Lib\\site-packages\\snowflake\\connector\\cursor.py\u001b\\\u001b[2mcursor.py\u001b[0m\u001b]8;;\u001b\\\u001b[2m:\u001b[0m\u001b]8;id=345719;file://d:\\Users\\ksbha\\miniconda3\\envs\\footy\\Lib\\site-packages\\snowflake\\connector\\cursor.py#846\u001b\\\u001b[2m846\u001b[0m\u001b]8;;\u001b\\\n"
      ]
     },
     "metadata": {},
     "output_type": "display_data"
    },
    {
     "data": {
      "text/html": [
       "<pre style=\"white-space:pre;overflow-x:auto;line-height:normal;font-family:Menlo,'DejaVu Sans Mono',consolas,'Courier New',monospace\"><span style=\"color: #7fbfbf; text-decoration-color: #7fbfbf\">                    </span><span style=\"color: #000080; text-decoration-color: #000080\">INFO    </span> Number of results in first chunk: <span style=\"color: #008080; text-decoration-color: #008080; font-weight: bold\">0</span>                                      <a href=\"file://d:\\Users\\ksbha\\miniconda3\\envs\\footy\\Lib\\site-packages\\snowflake\\connector\\cursor.py\" target=\"_blank\"><span style=\"color: #7f7f7f; text-decoration-color: #7f7f7f\">cursor.py</span></a><span style=\"color: #7f7f7f; text-decoration-color: #7f7f7f\">:</span><a href=\"file://d:\\Users\\ksbha\\miniconda3\\envs\\footy\\Lib\\site-packages\\snowflake\\connector\\cursor.py#988\" target=\"_blank\"><span style=\"color: #7f7f7f; text-decoration-color: #7f7f7f\">988</span></a>\n",
       "</pre>\n"
      ],
      "text/plain": [
       "\u001b[2;36m                   \u001b[0m\u001b[2;36m \u001b[0m\u001b[34mINFO    \u001b[0m Number of results in first chunk: \u001b[1;36m0\u001b[0m                                      \u001b]8;id=991124;file://d:\\Users\\ksbha\\miniconda3\\envs\\footy\\Lib\\site-packages\\snowflake\\connector\\cursor.py\u001b\\\u001b[2mcursor.py\u001b[0m\u001b]8;;\u001b\\\u001b[2m:\u001b[0m\u001b]8;id=55455;file://d:\\Users\\ksbha\\miniconda3\\envs\\footy\\Lib\\site-packages\\snowflake\\connector\\cursor.py#988\u001b\\\u001b[2m988\u001b[0m\u001b]8;;\u001b\\\n"
      ]
     },
     "metadata": {},
     "output_type": "display_data"
    },
    {
     "data": {
      "text/html": [
       "<pre style=\"white-space:pre;overflow-x:auto;line-height:normal;font-family:Menlo,'DejaVu Sans Mono',consolas,'Courier New',monospace\"><span style=\"color: #7fbfbf; text-decoration-color: #7fbfbf\">                    </span><span style=\"color: #000080; text-decoration-color: #000080\">INFO    </span> query: <span style=\"font-weight: bold\">[</span>CREATE TEMP STAGE <span style=\"color: #800080; text-decoration-color: #800080\">/</span>*                                             <a href=\"file://d:\\Users\\ksbha\\miniconda3\\envs\\footy\\Lib\\site-packages\\snowflake\\connector\\cursor.py\" target=\"_blank\"><span style=\"color: #7f7f7f; text-decoration-color: #7f7f7f\">cursor.py</span></a><span style=\"color: #7f7f7f; text-decoration-color: #7f7f7f\">:</span><a href=\"file://d:\\Users\\ksbha\\miniconda3\\envs\\footy\\Lib\\site-packages\\snowflake\\connector\\cursor.py#833\" target=\"_blank\"><span style=\"color: #7f7f7f; text-decoration-color: #7f7f7f\">833</span></a>\n",
       "<span style=\"color: #7fbfbf; text-decoration-color: #7fbfbf\">                    </span>         Python:<span style=\"color: #800080; text-decoration-color: #800080; font-weight: bold\">snowflake.connector.pandas_tools.write_pandas</span><span style=\"font-weight: bold\">()</span> *<span style=\"color: #800080; text-decoration-color: #800080\">/</span> \"<span style=\"color: #808000; text-decoration-color: #808000\">...</span><span style=\"font-weight: bold\">]</span>          <span style=\"color: #7f7f7f; text-decoration-color: #7f7f7f\">             </span>\n",
       "</pre>\n"
      ],
      "text/plain": [
       "\u001b[2;36m                   \u001b[0m\u001b[2;36m \u001b[0m\u001b[34mINFO    \u001b[0m query: \u001b[1m[\u001b[0mCREATE TEMP STAGE \u001b[35m/\u001b[0m*                                             \u001b]8;id=979246;file://d:\\Users\\ksbha\\miniconda3\\envs\\footy\\Lib\\site-packages\\snowflake\\connector\\cursor.py\u001b\\\u001b[2mcursor.py\u001b[0m\u001b]8;;\u001b\\\u001b[2m:\u001b[0m\u001b]8;id=235094;file://d:\\Users\\ksbha\\miniconda3\\envs\\footy\\Lib\\site-packages\\snowflake\\connector\\cursor.py#833\u001b\\\u001b[2m833\u001b[0m\u001b]8;;\u001b\\\n",
       "\u001b[2;36m                    \u001b[0m         Python:\u001b[1;35msnowflake.connector.pandas_tools.write_pandas\u001b[0m\u001b[1m(\u001b[0m\u001b[1m)\u001b[0m *\u001b[35m/\u001b[0m \"\u001b[33m...\u001b[0m\u001b[1m]\u001b[0m          \u001b[2m             \u001b[0m\n"
      ]
     },
     "metadata": {},
     "output_type": "display_data"
    },
    {
     "data": {
      "text/html": [
       "<pre style=\"white-space:pre;overflow-x:auto;line-height:normal;font-family:Menlo,'DejaVu Sans Mono',consolas,'Courier New',monospace\"><span style=\"color: #7fbfbf; text-decoration-color: #7fbfbf\">[12/13/23 14:12:14] </span><span style=\"color: #000080; text-decoration-color: #000080\">INFO    </span> query execution done                                                     <a href=\"file://d:\\Users\\ksbha\\miniconda3\\envs\\footy\\Lib\\site-packages\\snowflake\\connector\\cursor.py\" target=\"_blank\"><span style=\"color: #7f7f7f; text-decoration-color: #7f7f7f\">cursor.py</span></a><span style=\"color: #7f7f7f; text-decoration-color: #7f7f7f\">:</span><a href=\"file://d:\\Users\\ksbha\\miniconda3\\envs\\footy\\Lib\\site-packages\\snowflake\\connector\\cursor.py#846\" target=\"_blank\"><span style=\"color: #7f7f7f; text-decoration-color: #7f7f7f\">846</span></a>\n",
       "</pre>\n"
      ],
      "text/plain": [
       "\u001b[2;36m[12/13/23 14:12:14]\u001b[0m\u001b[2;36m \u001b[0m\u001b[34mINFO    \u001b[0m query execution done                                                     \u001b]8;id=921659;file://d:\\Users\\ksbha\\miniconda3\\envs\\footy\\Lib\\site-packages\\snowflake\\connector\\cursor.py\u001b\\\u001b[2mcursor.py\u001b[0m\u001b]8;;\u001b\\\u001b[2m:\u001b[0m\u001b]8;id=429977;file://d:\\Users\\ksbha\\miniconda3\\envs\\footy\\Lib\\site-packages\\snowflake\\connector\\cursor.py#846\u001b\\\u001b[2m846\u001b[0m\u001b]8;;\u001b\\\n"
      ]
     },
     "metadata": {},
     "output_type": "display_data"
    },
    {
     "data": {
      "text/html": [
       "<pre style=\"white-space:pre;overflow-x:auto;line-height:normal;font-family:Menlo,'DejaVu Sans Mono',consolas,'Courier New',monospace\"><span style=\"color: #7fbfbf; text-decoration-color: #7fbfbf\">                    </span><span style=\"color: #000080; text-decoration-color: #000080\">INFO    </span> Number of results in first chunk: <span style=\"color: #008080; text-decoration-color: #008080; font-weight: bold\">1</span>                                      <a href=\"file://d:\\Users\\ksbha\\miniconda3\\envs\\footy\\Lib\\site-packages\\snowflake\\connector\\cursor.py\" target=\"_blank\"><span style=\"color: #7f7f7f; text-decoration-color: #7f7f7f\">cursor.py</span></a><span style=\"color: #7f7f7f; text-decoration-color: #7f7f7f\">:</span><a href=\"file://d:\\Users\\ksbha\\miniconda3\\envs\\footy\\Lib\\site-packages\\snowflake\\connector\\cursor.py#988\" target=\"_blank\"><span style=\"color: #7f7f7f; text-decoration-color: #7f7f7f\">988</span></a>\n",
       "</pre>\n"
      ],
      "text/plain": [
       "\u001b[2;36m                   \u001b[0m\u001b[2;36m \u001b[0m\u001b[34mINFO    \u001b[0m Number of results in first chunk: \u001b[1;36m1\u001b[0m                                      \u001b]8;id=597212;file://d:\\Users\\ksbha\\miniconda3\\envs\\footy\\Lib\\site-packages\\snowflake\\connector\\cursor.py\u001b\\\u001b[2mcursor.py\u001b[0m\u001b]8;;\u001b\\\u001b[2m:\u001b[0m\u001b]8;id=659745;file://d:\\Users\\ksbha\\miniconda3\\envs\\footy\\Lib\\site-packages\\snowflake\\connector\\cursor.py#988\u001b\\\u001b[2m988\u001b[0m\u001b]8;;\u001b\\\n"
      ]
     },
     "metadata": {},
     "output_type": "display_data"
    },
    {
     "data": {
      "text/html": [
       "<pre style=\"white-space:pre;overflow-x:auto;line-height:normal;font-family:Menlo,'DejaVu Sans Mono',consolas,'Courier New',monospace\"><span style=\"color: #7fbfbf; text-decoration-color: #7fbfbf\">                    </span><span style=\"color: #000080; text-decoration-color: #000080\">INFO    </span> query: <span style=\"font-weight: bold\">[</span><span style=\"color: #808000; text-decoration-color: #808000; font-weight: bold\">PUT</span> <span style=\"color: #800080; text-decoration-color: #800080\">/</span>* Python:<span style=\"color: #800080; text-decoration-color: #800080; font-weight: bold\">snowflake.connector.pandas_tools.write_pandas</span><span style=\"font-weight: bold\">()</span> *<span style=\"color: #800080; text-decoration-color: #800080\">/</span> <a href=\"file://d:\\Users\\ksbha\\miniconda3\\envs\\footy\\Lib\\site-packages\\snowflake\\connector\\cursor.py\" target=\"_blank\"><span style=\"color: #7f7f7f; text-decoration-color: #7f7f7f\">cursor.py</span></a><span style=\"color: #7f7f7f; text-decoration-color: #7f7f7f\">:</span><a href=\"file://d:\\Users\\ksbha\\miniconda3\\envs\\footy\\Lib\\site-packages\\snowflake\\connector\\cursor.py#833\" target=\"_blank\"><span style=\"color: #7f7f7f; text-decoration-color: #7f7f7f\">833</span></a>\n",
       "<span style=\"color: #7fbfbf; text-decoration-color: #7fbfbf\">                    </span>         '<span style=\"color: #0000ff; text-decoration-color: #0000ff; text-decoration: underline\">file://C:</span>\\\\Use<span style=\"color: #808000; text-decoration-color: #808000\">...</span><span style=\"font-weight: bold\">]</span>                                                      <span style=\"color: #7f7f7f; text-decoration-color: #7f7f7f\">             </span>\n",
       "</pre>\n"
      ],
      "text/plain": [
       "\u001b[2;36m                   \u001b[0m\u001b[2;36m \u001b[0m\u001b[34mINFO    \u001b[0m query: \u001b[1m[\u001b[0m\u001b[1;33mPUT\u001b[0m \u001b[35m/\u001b[0m* Python:\u001b[1;35msnowflake.connector.pandas_tools.write_pandas\u001b[0m\u001b[1m(\u001b[0m\u001b[1m)\u001b[0m *\u001b[35m/\u001b[0m \u001b]8;id=260357;file://d:\\Users\\ksbha\\miniconda3\\envs\\footy\\Lib\\site-packages\\snowflake\\connector\\cursor.py\u001b\\\u001b[2mcursor.py\u001b[0m\u001b]8;;\u001b\\\u001b[2m:\u001b[0m\u001b]8;id=694841;file://d:\\Users\\ksbha\\miniconda3\\envs\\footy\\Lib\\site-packages\\snowflake\\connector\\cursor.py#833\u001b\\\u001b[2m833\u001b[0m\u001b]8;;\u001b\\\n",
       "\u001b[2;36m                    \u001b[0m         '\u001b[4;94mfile://C:\u001b[0m\\\\Use\u001b[33m...\u001b[0m\u001b[1m]\u001b[0m                                                      \u001b[2m             \u001b[0m\n"
      ]
     },
     "metadata": {},
     "output_type": "display_data"
    },
    {
     "data": {
      "text/html": [
       "<pre style=\"white-space:pre;overflow-x:auto;line-height:normal;font-family:Menlo,'DejaVu Sans Mono',consolas,'Courier New',monospace\"><span style=\"color: #7fbfbf; text-decoration-color: #7fbfbf\">                    </span><span style=\"color: #000080; text-decoration-color: #000080\">INFO    </span> query execution done                                                     <a href=\"file://d:\\Users\\ksbha\\miniconda3\\envs\\footy\\Lib\\site-packages\\snowflake\\connector\\cursor.py\" target=\"_blank\"><span style=\"color: #7f7f7f; text-decoration-color: #7f7f7f\">cursor.py</span></a><span style=\"color: #7f7f7f; text-decoration-color: #7f7f7f\">:</span><a href=\"file://d:\\Users\\ksbha\\miniconda3\\envs\\footy\\Lib\\site-packages\\snowflake\\connector\\cursor.py#846\" target=\"_blank\"><span style=\"color: #7f7f7f; text-decoration-color: #7f7f7f\">846</span></a>\n",
       "</pre>\n"
      ],
      "text/plain": [
       "\u001b[2;36m                   \u001b[0m\u001b[2;36m \u001b[0m\u001b[34mINFO    \u001b[0m query execution done                                                     \u001b]8;id=955475;file://d:\\Users\\ksbha\\miniconda3\\envs\\footy\\Lib\\site-packages\\snowflake\\connector\\cursor.py\u001b\\\u001b[2mcursor.py\u001b[0m\u001b]8;;\u001b\\\u001b[2m:\u001b[0m\u001b]8;id=227431;file://d:\\Users\\ksbha\\miniconda3\\envs\\footy\\Lib\\site-packages\\snowflake\\connector\\cursor.py#846\u001b\\\u001b[2m846\u001b[0m\u001b]8;;\u001b\\\n"
      ]
     },
     "metadata": {},
     "output_type": "display_data"
    },
    {
     "data": {
      "text/html": [
       "<pre style=\"white-space:pre;overflow-x:auto;line-height:normal;font-family:Menlo,'DejaVu Sans Mono',consolas,'Courier New',monospace\"><span style=\"color: #7fbfbf; text-decoration-color: #7fbfbf\">[12/13/23 14:12:15] </span><span style=\"color: #000080; text-decoration-color: #000080\">INFO    </span> query: <span style=\"font-weight: bold\">[</span>COPY INTO <span style=\"color: #008000; text-decoration-color: #008000\">\"TEAM_DEFENDING_STATS\"</span> <span style=\"color: #800080; text-decoration-color: #800080\">/</span>*                              <a href=\"file://d:\\Users\\ksbha\\miniconda3\\envs\\footy\\Lib\\site-packages\\snowflake\\connector\\cursor.py\" target=\"_blank\"><span style=\"color: #7f7f7f; text-decoration-color: #7f7f7f\">cursor.py</span></a><span style=\"color: #7f7f7f; text-decoration-color: #7f7f7f\">:</span><a href=\"file://d:\\Users\\ksbha\\miniconda3\\envs\\footy\\Lib\\site-packages\\snowflake\\connector\\cursor.py#833\" target=\"_blank\"><span style=\"color: #7f7f7f; text-decoration-color: #7f7f7f\">833</span></a>\n",
       "<span style=\"color: #7fbfbf; text-decoration-color: #7fbfbf\">                    </span>         Python:snowflake.connector.pandas_tools.writ<span style=\"color: #808000; text-decoration-color: #808000\">...</span><span style=\"font-weight: bold\">]</span>                         <span style=\"color: #7f7f7f; text-decoration-color: #7f7f7f\">             </span>\n",
       "</pre>\n"
      ],
      "text/plain": [
       "\u001b[2;36m[12/13/23 14:12:15]\u001b[0m\u001b[2;36m \u001b[0m\u001b[34mINFO    \u001b[0m query: \u001b[1m[\u001b[0mCOPY INTO \u001b[32m\"TEAM_DEFENDING_STATS\"\u001b[0m \u001b[35m/\u001b[0m*                              \u001b]8;id=301754;file://d:\\Users\\ksbha\\miniconda3\\envs\\footy\\Lib\\site-packages\\snowflake\\connector\\cursor.py\u001b\\\u001b[2mcursor.py\u001b[0m\u001b]8;;\u001b\\\u001b[2m:\u001b[0m\u001b]8;id=510352;file://d:\\Users\\ksbha\\miniconda3\\envs\\footy\\Lib\\site-packages\\snowflake\\connector\\cursor.py#833\u001b\\\u001b[2m833\u001b[0m\u001b]8;;\u001b\\\n",
       "\u001b[2;36m                    \u001b[0m         Python:snowflake.connector.pandas_tools.writ\u001b[33m...\u001b[0m\u001b[1m]\u001b[0m                         \u001b[2m             \u001b[0m\n"
      ]
     },
     "metadata": {},
     "output_type": "display_data"
    },
    {
     "data": {
      "text/html": [
       "<pre style=\"white-space:pre;overflow-x:auto;line-height:normal;font-family:Menlo,'DejaVu Sans Mono',consolas,'Courier New',monospace\"><span style=\"color: #7fbfbf; text-decoration-color: #7fbfbf\">[12/13/23 14:12:16] </span><span style=\"color: #000080; text-decoration-color: #000080\">INFO    </span> query execution done                                                     <a href=\"file://d:\\Users\\ksbha\\miniconda3\\envs\\footy\\Lib\\site-packages\\snowflake\\connector\\cursor.py\" target=\"_blank\"><span style=\"color: #7f7f7f; text-decoration-color: #7f7f7f\">cursor.py</span></a><span style=\"color: #7f7f7f; text-decoration-color: #7f7f7f\">:</span><a href=\"file://d:\\Users\\ksbha\\miniconda3\\envs\\footy\\Lib\\site-packages\\snowflake\\connector\\cursor.py#846\" target=\"_blank\"><span style=\"color: #7f7f7f; text-decoration-color: #7f7f7f\">846</span></a>\n",
       "</pre>\n"
      ],
      "text/plain": [
       "\u001b[2;36m[12/13/23 14:12:16]\u001b[0m\u001b[2;36m \u001b[0m\u001b[34mINFO    \u001b[0m query execution done                                                     \u001b]8;id=536714;file://d:\\Users\\ksbha\\miniconda3\\envs\\footy\\Lib\\site-packages\\snowflake\\connector\\cursor.py\u001b\\\u001b[2mcursor.py\u001b[0m\u001b]8;;\u001b\\\u001b[2m:\u001b[0m\u001b]8;id=619286;file://d:\\Users\\ksbha\\miniconda3\\envs\\footy\\Lib\\site-packages\\snowflake\\connector\\cursor.py#846\u001b\\\u001b[2m846\u001b[0m\u001b]8;;\u001b\\\n"
      ]
     },
     "metadata": {},
     "output_type": "display_data"
    },
    {
     "data": {
      "text/html": [
       "<pre style=\"white-space:pre;overflow-x:auto;line-height:normal;font-family:Menlo,'DejaVu Sans Mono',consolas,'Courier New',monospace\"><span style=\"color: #7fbfbf; text-decoration-color: #7fbfbf\">                    </span><span style=\"color: #000080; text-decoration-color: #000080\">INFO    </span> Number of results in first chunk: <span style=\"color: #008080; text-decoration-color: #008080; font-weight: bold\">1</span>                                      <a href=\"file://d:\\Users\\ksbha\\miniconda3\\envs\\footy\\Lib\\site-packages\\snowflake\\connector\\cursor.py\" target=\"_blank\"><span style=\"color: #7f7f7f; text-decoration-color: #7f7f7f\">cursor.py</span></a><span style=\"color: #7f7f7f; text-decoration-color: #7f7f7f\">:</span><a href=\"file://d:\\Users\\ksbha\\miniconda3\\envs\\footy\\Lib\\site-packages\\snowflake\\connector\\cursor.py#988\" target=\"_blank\"><span style=\"color: #7f7f7f; text-decoration-color: #7f7f7f\">988</span></a>\n",
       "</pre>\n"
      ],
      "text/plain": [
       "\u001b[2;36m                   \u001b[0m\u001b[2;36m \u001b[0m\u001b[34mINFO    \u001b[0m Number of results in first chunk: \u001b[1;36m1\u001b[0m                                      \u001b]8;id=441110;file://d:\\Users\\ksbha\\miniconda3\\envs\\footy\\Lib\\site-packages\\snowflake\\connector\\cursor.py\u001b\\\u001b[2mcursor.py\u001b[0m\u001b]8;;\u001b\\\u001b[2m:\u001b[0m\u001b]8;id=867998;file://d:\\Users\\ksbha\\miniconda3\\envs\\footy\\Lib\\site-packages\\snowflake\\connector\\cursor.py#988\u001b\\\u001b[2m988\u001b[0m\u001b]8;;\u001b\\\n"
      ]
     },
     "metadata": {},
     "output_type": "display_data"
    },
    {
     "name": "stdout",
     "output_type": "stream",
     "text": [
      "Inserted 20 new rows\n"
     ]
    }
   ],
   "source": [
    "insert_to_snowflake_DB(['TEAM_FBREF_ID', 'SEASON'], 'TEAM_DEFENDING_STATS', team_defending_stats)"
   ]
  },
  {
   "cell_type": "code",
   "execution_count": null,
   "metadata": {},
   "outputs": [],
   "source": []
  },
  {
   "cell_type": "code",
   "execution_count": null,
   "metadata": {},
   "outputs": [],
   "source": []
  }
 ],
 "metadata": {
  "kernelspec": {
   "display_name": "footy",
   "language": "python",
   "name": "python3"
  },
  "language_info": {
   "codemirror_mode": {
    "name": "ipython",
    "version": 3
   },
   "file_extension": ".py",
   "mimetype": "text/x-python",
   "name": "python",
   "nbconvert_exporter": "python",
   "pygments_lexer": "ipython3",
   "version": "3.11.5"
  }
 },
 "nbformat": 4,
 "nbformat_minor": 2
}
