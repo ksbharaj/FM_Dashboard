{
 "cells": [
  {
   "cell_type": "code",
   "execution_count": 1,
   "metadata": {},
   "outputs": [
    {
     "data": {
      "text/html": [
       "<pre style=\"white-space:pre;overflow-x:auto;line-height:normal;font-family:Menlo,'DejaVu Sans Mono',consolas,'Courier New',monospace\"><span style=\"color: #7fbfbf; text-decoration-color: #7fbfbf\">[01/16/24 21:02:36] </span><span style=\"color: #000080; text-decoration-color: #000080\">INFO    </span> No custom team name replacements found. You can configure these in       <a href=\"file://d:\\Users\\ksbha\\miniconda3\\envs\\footy\\Lib\\site-packages\\soccerdata\\_config.py\" target=\"_blank\"><span style=\"color: #7f7f7f; text-decoration-color: #7f7f7f\">_config.py</span></a><span style=\"color: #7f7f7f; text-decoration-color: #7f7f7f\">:</span><a href=\"file://d:\\Users\\ksbha\\miniconda3\\envs\\footy\\Lib\\site-packages\\soccerdata\\_config.py#84\" target=\"_blank\"><span style=\"color: #7f7f7f; text-decoration-color: #7f7f7f\">84</span></a>\n",
       "<span style=\"color: #7fbfbf; text-decoration-color: #7fbfbf\">                    </span>         C:\\Users\\ksbha\\soccerdata\\config\\teamname_replacements.json.             <span style=\"color: #7f7f7f; text-decoration-color: #7f7f7f\">             </span>\n",
       "</pre>\n"
      ],
      "text/plain": [
       "\u001b[2;36m[01/16/24 21:02:36]\u001b[0m\u001b[2;36m \u001b[0m\u001b[34mINFO    \u001b[0m No custom team name replacements found. You can configure these in       \u001b]8;id=459817;file://d:\\Users\\ksbha\\miniconda3\\envs\\footy\\Lib\\site-packages\\soccerdata\\_config.py\u001b\\\u001b[2m_config.py\u001b[0m\u001b]8;;\u001b\\\u001b[2m:\u001b[0m\u001b]8;id=876775;file://d:\\Users\\ksbha\\miniconda3\\envs\\footy\\Lib\\site-packages\\soccerdata\\_config.py#84\u001b\\\u001b[2m84\u001b[0m\u001b]8;;\u001b\\\n",
       "\u001b[2;36m                    \u001b[0m         C:\\Users\\ksbha\\soccerdata\\config\\teamname_replacements.json.             \u001b[2m             \u001b[0m\n"
      ]
     },
     "metadata": {},
     "output_type": "display_data"
    },
    {
     "data": {
      "text/html": [
       "<pre style=\"white-space:pre;overflow-x:auto;line-height:normal;font-family:Menlo,'DejaVu Sans Mono',consolas,'Courier New',monospace\"><span style=\"color: #7fbfbf; text-decoration-color: #7fbfbf\">                    </span><span style=\"color: #000080; text-decoration-color: #000080\">INFO    </span> No custom league dict found. You can configure additional leagues in    <a href=\"file://d:\\Users\\ksbha\\miniconda3\\envs\\footy\\Lib\\site-packages\\soccerdata\\_config.py\" target=\"_blank\"><span style=\"color: #7f7f7f; text-decoration-color: #7f7f7f\">_config.py</span></a><span style=\"color: #7f7f7f; text-decoration-color: #7f7f7f\">:</span><a href=\"file://d:\\Users\\ksbha\\miniconda3\\envs\\footy\\Lib\\site-packages\\soccerdata\\_config.py#162\" target=\"_blank\"><span style=\"color: #7f7f7f; text-decoration-color: #7f7f7f\">162</span></a>\n",
       "<span style=\"color: #7fbfbf; text-decoration-color: #7fbfbf\">                    </span>         C:\\Users\\ksbha\\soccerdata\\config\\league_dict.json.                      <span style=\"color: #7f7f7f; text-decoration-color: #7f7f7f\">              </span>\n",
       "</pre>\n"
      ],
      "text/plain": [
       "\u001b[2;36m                   \u001b[0m\u001b[2;36m \u001b[0m\u001b[34mINFO    \u001b[0m No custom league dict found. You can configure additional leagues in    \u001b]8;id=480077;file://d:\\Users\\ksbha\\miniconda3\\envs\\footy\\Lib\\site-packages\\soccerdata\\_config.py\u001b\\\u001b[2m_config.py\u001b[0m\u001b]8;;\u001b\\\u001b[2m:\u001b[0m\u001b]8;id=848753;file://d:\\Users\\ksbha\\miniconda3\\envs\\footy\\Lib\\site-packages\\soccerdata\\_config.py#162\u001b\\\u001b[2m162\u001b[0m\u001b]8;;\u001b\\\n",
       "\u001b[2;36m                    \u001b[0m         C:\\Users\\ksbha\\soccerdata\\config\\league_dict.json.                      \u001b[2m              \u001b[0m\n"
      ]
     },
     "metadata": {},
     "output_type": "display_data"
    },
    {
     "name": "stderr",
     "output_type": "stream",
     "text": [
      "d:\\Users\\ksbha\\miniconda3\\envs\\footy\\Lib\\site-packages\\pyspark\\pandas\\__init__.py:50: UserWarning: 'PYARROW_IGNORE_TIMEZONE' environment variable was not set. It is required to set this environment variable to '1' in both driver and executor sides if you use pyarrow>=2.0.0. pandas-on-Spark will set it for you but it does not work if there is a Spark context already launched.\n",
      "  warnings.warn(\n"
     ]
    }
   ],
   "source": [
    "import soccerdata as sd\n",
    "import pandas as pd\n",
    "from tqdm import tqdm\n",
    "import ScraperFC as sfc\n",
    "import traceback\n",
    "import datetime\n",
    "\n",
    "import warnings\n",
    "\n",
    "from pyspark.sql import SparkSession\n",
    "from pyspark.sql.types import StructType, StructField, StringType\n",
    "import pyspark.pandas as ps"
   ]
  },
  {
   "cell_type": "code",
   "execution_count": 2,
   "metadata": {},
   "outputs": [
    {
     "data": {
      "text/plain": [
       "datetime.date"
      ]
     },
     "execution_count": 2,
     "metadata": {},
     "output_type": "execute_result"
    }
   ],
   "source": [
    "from datetime import date\n",
    "\n",
    "today = date.today()\n",
    "type(today)\n"
   ]
  },
  {
   "cell_type": "code",
   "execution_count": 3,
   "metadata": {},
   "outputs": [
    {
     "name": "stderr",
     "output_type": "stream",
     "text": [
      "d:\\Users\\ksbha\\miniconda3\\envs\\footy\\Lib\\site-packages\\snowflake\\connector\\options.py:103: UserWarning: You have an incompatible version of 'pyarrow' installed (14.0.2), please install a version that adheres to: 'pyarrow<10.1.0,>=10.0.1; extra == \"pandas\"'\n",
      "  warn_incompatible_dep(\n"
     ]
    },
    {
     "data": {
      "text/html": [
       "<pre style=\"white-space:pre;overflow-x:auto;line-height:normal;font-family:Menlo,'DejaVu Sans Mono',consolas,'Courier New',monospace\"><span style=\"color: #7fbfbf; text-decoration-color: #7fbfbf\">[01/16/24 21:02:53] </span><span style=\"color: #800000; text-decoration-color: #800000\">WARNING </span> Failed to import ArrowResult. No Apache Arrow result set format can be    <a href=\"file://d:\\Users\\ksbha\\miniconda3\\envs\\footy\\Lib\\site-packages\\snowflake\\connector\\cursor.py\" target=\"_blank\"><span style=\"color: #7f7f7f; text-decoration-color: #7f7f7f\">cursor.py</span></a><span style=\"color: #7f7f7f; text-decoration-color: #7f7f7f\">:</span><a href=\"file://d:\\Users\\ksbha\\miniconda3\\envs\\footy\\Lib\\site-packages\\snowflake\\connector\\cursor.py#94\" target=\"_blank\"><span style=\"color: #7f7f7f; text-decoration-color: #7f7f7f\">94</span></a>\n",
       "<span style=\"color: #7fbfbf; text-decoration-color: #7fbfbf\">                    </span>         used. ImportError: DLL load failed while importing arrow_iterator: The    <span style=\"color: #7f7f7f; text-decoration-color: #7f7f7f\">            </span>\n",
       "<span style=\"color: #7fbfbf; text-decoration-color: #7fbfbf\">                    </span>         specified procedure could not be found.                                   <span style=\"color: #7f7f7f; text-decoration-color: #7f7f7f\">            </span>\n",
       "</pre>\n"
      ],
      "text/plain": [
       "\u001b[2;36m[01/16/24 21:02:53]\u001b[0m\u001b[2;36m \u001b[0m\u001b[31mWARNING \u001b[0m Failed to import ArrowResult. No Apache Arrow result set format can be    \u001b]8;id=958829;file://d:\\Users\\ksbha\\miniconda3\\envs\\footy\\Lib\\site-packages\\snowflake\\connector\\cursor.py\u001b\\\u001b[2mcursor.py\u001b[0m\u001b]8;;\u001b\\\u001b[2m:\u001b[0m\u001b]8;id=61715;file://d:\\Users\\ksbha\\miniconda3\\envs\\footy\\Lib\\site-packages\\snowflake\\connector\\cursor.py#94\u001b\\\u001b[2m94\u001b[0m\u001b]8;;\u001b\\\n",
       "\u001b[2;36m                    \u001b[0m         used. ImportError: DLL load failed while importing arrow_iterator: The    \u001b[2m            \u001b[0m\n",
       "\u001b[2;36m                    \u001b[0m         specified procedure could not be found.                                   \u001b[2m            \u001b[0m\n"
      ]
     },
     "metadata": {},
     "output_type": "display_data"
    }
   ],
   "source": [
    "## Create a connection to Snowflake\n",
    "from sqlalchemy import create_engine\n",
    "import snowflake.connector"
   ]
  },
  {
   "cell_type": "code",
   "execution_count": 4,
   "metadata": {},
   "outputs": [],
   "source": [
    "import snowflake.connector\n",
    "from snowflake.connector.pandas_tools import write_pandas"
   ]
  },
  {
   "cell_type": "code",
   "execution_count": 5,
   "metadata": {},
   "outputs": [],
   "source": [
    "pd.set_option('display.max_columns', None)"
   ]
  },
  {
   "cell_type": "code",
   "execution_count": 6,
   "metadata": {},
   "outputs": [],
   "source": [
    "spark = SparkSession.builder \\\n",
    "    .master(\"local\") \\\n",
    "    .appName(\"Gegenstats\") \\\n",
    "    .getOrCreate()"
   ]
  },
  {
   "cell_type": "code",
   "execution_count": 7,
   "metadata": {},
   "outputs": [
    {
     "name": "stderr",
     "output_type": "stream",
     "text": [
      "d:\\Users\\ksbha\\miniconda3\\envs\\footy\\Lib\\site-packages\\ScraperFC\\Understat.py:361: FutureWarning: Passing literal html to 'read_html' is deprecated and will be removed in a future version. To read from a literal string, wrap it in a 'StringIO' object.\n",
      "  columns = pd.read_html(table)[0].columns\n",
      "d:\\Users\\ksbha\\miniconda3\\envs\\footy\\Lib\\site-packages\\ScraperFC\\Understat.py:366: FutureWarning: Passing literal html to 'read_html' is deprecated and will be removed in a future version. To read from a literal string, wrap it in a 'StringIO' object.\n",
      "  df = pd.read_html(table)[0]\n",
      "C:\\Users\\ksbha\\AppData\\Local\\Temp\\ipykernel_23380\\2593660178.py:12: FutureWarning: The behavior of DataFrame concatenation with empty or all-NA entries is deprecated. In a future version, this will no longer exclude empty or all-NA columns when determining the result dtypes. To retain the old behavior, exclude the relevant entries before the concat operation.\n",
      "  output_df = pd.concat([output_df, ooper])\n",
      "d:\\Users\\ksbha\\miniconda3\\envs\\footy\\Lib\\site-packages\\ScraperFC\\Understat.py:361: FutureWarning: Passing literal html to 'read_html' is deprecated and will be removed in a future version. To read from a literal string, wrap it in a 'StringIO' object.\n",
      "  columns = pd.read_html(table)[0].columns\n",
      "d:\\Users\\ksbha\\miniconda3\\envs\\footy\\Lib\\site-packages\\ScraperFC\\Understat.py:366: FutureWarning: Passing literal html to 'read_html' is deprecated and will be removed in a future version. To read from a literal string, wrap it in a 'StringIO' object.\n",
      "  df = pd.read_html(table)[0]\n",
      "d:\\Users\\ksbha\\miniconda3\\envs\\footy\\Lib\\site-packages\\ScraperFC\\Understat.py:361: FutureWarning: Passing literal html to 'read_html' is deprecated and will be removed in a future version. To read from a literal string, wrap it in a 'StringIO' object.\n",
      "  columns = pd.read_html(table)[0].columns\n",
      "d:\\Users\\ksbha\\miniconda3\\envs\\footy\\Lib\\site-packages\\ScraperFC\\Understat.py:366: FutureWarning: Passing literal html to 'read_html' is deprecated and will be removed in a future version. To read from a literal string, wrap it in a 'StringIO' object.\n",
      "  df = pd.read_html(table)[0]\n"
     ]
    }
   ],
   "source": [
    "scraper = sfc.Understat()\n",
    "def scrape_league_data(years):\n",
    "    output_df = pd.DataFrame(columns=['№', 'Team', 'M', 'W', 'D', 'L', 'G', 'GA', 'PTS', 'xG', 'NPxG', 'xGA',\n",
    "       'NPxGA', 'NPxGD', 'PPDA', 'OPPDA', 'DC', 'ODC', 'xPTS', 'season','league'])\n",
    "    for league_year in league_years:\n",
    "        try:\n",
    "            ooper = scraper.scrape_league_table(year=league_year[1], league=league_year[0])\n",
    "            season_val = league_year[1]\n",
    "            ooper['season'] = int(str(int(str(season_val)[2:])-1)+str(season_val)[2:])\n",
    "            if league_year[0] == 'EPL':\n",
    "                ooper['league'] = 'ENG-Premier League'\n",
    "            output_df = pd.concat([output_df, ooper])\n",
    "            \n",
    "        except Exception as e:\n",
    "            print(f\"An error occurred for the year {league_years}: {e}\")\n",
    "            traceback.print_exc()\n",
    "    scraper.close()\n",
    "    return output_df\n",
    "\n",
    "league_years = [('EPL', 2022),('EPL', 2023), ('EPL', 2024)]  # Replace with your list of years\n",
    "out = scrape_league_data(league_years)"
   ]
  },
  {
   "cell_type": "code",
   "execution_count": 8,
   "metadata": {},
   "outputs": [
    {
     "data": {
      "text/html": [
       "<div>\n",
       "<style scoped>\n",
       "    .dataframe tbody tr th:only-of-type {\n",
       "        vertical-align: middle;\n",
       "    }\n",
       "\n",
       "    .dataframe tbody tr th {\n",
       "        vertical-align: top;\n",
       "    }\n",
       "\n",
       "    .dataframe thead th {\n",
       "        text-align: right;\n",
       "    }\n",
       "</style>\n",
       "<table border=\"1\" class=\"dataframe\">\n",
       "  <thead>\n",
       "    <tr style=\"text-align: right;\">\n",
       "      <th></th>\n",
       "      <th>№</th>\n",
       "      <th>Team</th>\n",
       "      <th>M</th>\n",
       "      <th>W</th>\n",
       "      <th>D</th>\n",
       "      <th>L</th>\n",
       "      <th>G</th>\n",
       "      <th>GA</th>\n",
       "      <th>PTS</th>\n",
       "      <th>xG</th>\n",
       "      <th>NPxG</th>\n",
       "      <th>xGA</th>\n",
       "      <th>NPxGA</th>\n",
       "      <th>NPxGD</th>\n",
       "      <th>PPDA</th>\n",
       "      <th>OPPDA</th>\n",
       "      <th>DC</th>\n",
       "      <th>ODC</th>\n",
       "      <th>xPTS</th>\n",
       "      <th>season</th>\n",
       "      <th>league</th>\n",
       "    </tr>\n",
       "  </thead>\n",
       "  <tbody>\n",
       "    <tr>\n",
       "      <th>0</th>\n",
       "      <td>1</td>\n",
       "      <td>Manchester City</td>\n",
       "      <td>38</td>\n",
       "      <td>29</td>\n",
       "      <td>6</td>\n",
       "      <td>3</td>\n",
       "      <td>99</td>\n",
       "      <td>26</td>\n",
       "      <td>93</td>\n",
       "      <td>93.4</td>\n",
       "      <td>86.32</td>\n",
       "      <td>25.21</td>\n",
       "      <td>24.45</td>\n",
       "      <td>61.87</td>\n",
       "      <td>8.52</td>\n",
       "      <td>22.92</td>\n",
       "      <td>508</td>\n",
       "      <td>138</td>\n",
       "      <td>91.88</td>\n",
       "      <td>2122</td>\n",
       "      <td>ENG-Premier League</td>\n",
       "    </tr>\n",
       "    <tr>\n",
       "      <th>0</th>\n",
       "      <td>1</td>\n",
       "      <td>Manchester City</td>\n",
       "      <td>38</td>\n",
       "      <td>28</td>\n",
       "      <td>5</td>\n",
       "      <td>5</td>\n",
       "      <td>94</td>\n",
       "      <td>33</td>\n",
       "      <td>89</td>\n",
       "      <td>84.32</td>\n",
       "      <td>76.71</td>\n",
       "      <td>34.21</td>\n",
       "      <td>31.92</td>\n",
       "      <td>44.78</td>\n",
       "      <td>10.33</td>\n",
       "      <td>22.32</td>\n",
       "      <td>450</td>\n",
       "      <td>154</td>\n",
       "      <td>83.04</td>\n",
       "      <td>2223</td>\n",
       "      <td>ENG-Premier League</td>\n",
       "    </tr>\n",
       "    <tr>\n",
       "      <th>1</th>\n",
       "      <td>2</td>\n",
       "      <td>Liverpool</td>\n",
       "      <td>38</td>\n",
       "      <td>28</td>\n",
       "      <td>8</td>\n",
       "      <td>2</td>\n",
       "      <td>94</td>\n",
       "      <td>26</td>\n",
       "      <td>92</td>\n",
       "      <td>93.02</td>\n",
       "      <td>86.83</td>\n",
       "      <td>32.73</td>\n",
       "      <td>32.73</td>\n",
       "      <td>54.10</td>\n",
       "      <td>8.07</td>\n",
       "      <td>21.71</td>\n",
       "      <td>461</td>\n",
       "      <td>159</td>\n",
       "      <td>86.56</td>\n",
       "      <td>2122</td>\n",
       "      <td>ENG-Premier League</td>\n",
       "    </tr>\n",
       "    <tr>\n",
       "      <th>1</th>\n",
       "      <td>2</td>\n",
       "      <td>Manchester City</td>\n",
       "      <td>20</td>\n",
       "      <td>13</td>\n",
       "      <td>4</td>\n",
       "      <td>3</td>\n",
       "      <td>48</td>\n",
       "      <td>23</td>\n",
       "      <td>43</td>\n",
       "      <td>45.34</td>\n",
       "      <td>41.54</td>\n",
       "      <td>19.74</td>\n",
       "      <td>18.22</td>\n",
       "      <td>23.32</td>\n",
       "      <td>11.58</td>\n",
       "      <td>20.87</td>\n",
       "      <td>245</td>\n",
       "      <td>88</td>\n",
       "      <td>43.09</td>\n",
       "      <td>2324</td>\n",
       "      <td>ENG-Premier League</td>\n",
       "    </tr>\n",
       "    <tr>\n",
       "      <th>4</th>\n",
       "      <td>5</td>\n",
       "      <td>Liverpool</td>\n",
       "      <td>38</td>\n",
       "      <td>19</td>\n",
       "      <td>10</td>\n",
       "      <td>9</td>\n",
       "      <td>75</td>\n",
       "      <td>47</td>\n",
       "      <td>67</td>\n",
       "      <td>80.77</td>\n",
       "      <td>77.73</td>\n",
       "      <td>55.77</td>\n",
       "      <td>52.73</td>\n",
       "      <td>25.00</td>\n",
       "      <td>8.83</td>\n",
       "      <td>19.10</td>\n",
       "      <td>419</td>\n",
       "      <td>209</td>\n",
       "      <td>67.37</td>\n",
       "      <td>2223</td>\n",
       "      <td>ENG-Premier League</td>\n",
       "    </tr>\n",
       "    <tr>\n",
       "      <th>7</th>\n",
       "      <td>8</td>\n",
       "      <td>Brighton</td>\n",
       "      <td>20</td>\n",
       "      <td>8</td>\n",
       "      <td>7</td>\n",
       "      <td>5</td>\n",
       "      <td>38</td>\n",
       "      <td>33</td>\n",
       "      <td>31</td>\n",
       "      <td>36.65</td>\n",
       "      <td>33.61</td>\n",
       "      <td>31.77</td>\n",
       "      <td>27.97</td>\n",
       "      <td>5.64</td>\n",
       "      <td>9.18</td>\n",
       "      <td>17.07</td>\n",
       "      <td>219</td>\n",
       "      <td>179</td>\n",
       "      <td>30.5</td>\n",
       "      <td>2324</td>\n",
       "      <td>ENG-Premier League</td>\n",
       "    </tr>\n",
       "    <tr>\n",
       "      <th>3</th>\n",
       "      <td>4</td>\n",
       "      <td>Arsenal</td>\n",
       "      <td>20</td>\n",
       "      <td>12</td>\n",
       "      <td>4</td>\n",
       "      <td>4</td>\n",
       "      <td>37</td>\n",
       "      <td>20</td>\n",
       "      <td>40</td>\n",
       "      <td>40.56</td>\n",
       "      <td>35.99</td>\n",
       "      <td>19.71</td>\n",
       "      <td>18.19</td>\n",
       "      <td>17.80</td>\n",
       "      <td>9.10</td>\n",
       "      <td>16.76</td>\n",
       "      <td>227</td>\n",
       "      <td>91</td>\n",
       "      <td>39.24</td>\n",
       "      <td>2324</td>\n",
       "      <td>ENG-Premier League</td>\n",
       "    </tr>\n",
       "    <tr>\n",
       "      <th>0</th>\n",
       "      <td>1</td>\n",
       "      <td>Liverpool</td>\n",
       "      <td>20</td>\n",
       "      <td>13</td>\n",
       "      <td>6</td>\n",
       "      <td>1</td>\n",
       "      <td>43</td>\n",
       "      <td>18</td>\n",
       "      <td>45</td>\n",
       "      <td>46.31</td>\n",
       "      <td>41.46</td>\n",
       "      <td>24.88</td>\n",
       "      <td>24.12</td>\n",
       "      <td>17.34</td>\n",
       "      <td>8.25</td>\n",
       "      <td>16.57</td>\n",
       "      <td>242</td>\n",
       "      <td>117</td>\n",
       "      <td>38.79</td>\n",
       "      <td>2324</td>\n",
       "      <td>ENG-Premier League</td>\n",
       "    </tr>\n",
       "    <tr>\n",
       "      <th>2</th>\n",
       "      <td>3</td>\n",
       "      <td>Chelsea</td>\n",
       "      <td>38</td>\n",
       "      <td>21</td>\n",
       "      <td>11</td>\n",
       "      <td>6</td>\n",
       "      <td>76</td>\n",
       "      <td>33</td>\n",
       "      <td>74</td>\n",
       "      <td>69.3</td>\n",
       "      <td>62.45</td>\n",
       "      <td>35.12</td>\n",
       "      <td>30.55</td>\n",
       "      <td>31.90</td>\n",
       "      <td>8.76</td>\n",
       "      <td>16.36</td>\n",
       "      <td>385</td>\n",
       "      <td>163</td>\n",
       "      <td>73.38</td>\n",
       "      <td>2122</td>\n",
       "      <td>ENG-Premier League</td>\n",
       "    </tr>\n",
       "    <tr>\n",
       "      <th>5</th>\n",
       "      <td>6</td>\n",
       "      <td>Brighton</td>\n",
       "      <td>38</td>\n",
       "      <td>18</td>\n",
       "      <td>8</td>\n",
       "      <td>12</td>\n",
       "      <td>72</td>\n",
       "      <td>53</td>\n",
       "      <td>62</td>\n",
       "      <td>77.72</td>\n",
       "      <td>73.16</td>\n",
       "      <td>50.15</td>\n",
       "      <td>43.98</td>\n",
       "      <td>29.18</td>\n",
       "      <td>8.93</td>\n",
       "      <td>15.01</td>\n",
       "      <td>362</td>\n",
       "      <td>231</td>\n",
       "      <td>70.86</td>\n",
       "      <td>2223</td>\n",
       "      <td>ENG-Premier League</td>\n",
       "    </tr>\n",
       "  </tbody>\n",
       "</table>\n",
       "</div>"
      ],
      "text/plain": [
       "   №             Team   M   W   D   L   G  GA PTS     xG   NPxG    xGA  NPxGA  \\\n",
       "0  1  Manchester City  38  29   6   3  99  26  93   93.4  86.32  25.21  24.45   \n",
       "0  1  Manchester City  38  28   5   5  94  33  89  84.32  76.71  34.21  31.92   \n",
       "1  2        Liverpool  38  28   8   2  94  26  92  93.02  86.83  32.73  32.73   \n",
       "1  2  Manchester City  20  13   4   3  48  23  43  45.34  41.54  19.74  18.22   \n",
       "4  5        Liverpool  38  19  10   9  75  47  67  80.77  77.73  55.77  52.73   \n",
       "7  8         Brighton  20   8   7   5  38  33  31  36.65  33.61  31.77  27.97   \n",
       "3  4          Arsenal  20  12   4   4  37  20  40  40.56  35.99  19.71  18.19   \n",
       "0  1        Liverpool  20  13   6   1  43  18  45  46.31  41.46  24.88  24.12   \n",
       "2  3          Chelsea  38  21  11   6  76  33  74   69.3  62.45  35.12  30.55   \n",
       "5  6         Brighton  38  18   8  12  72  53  62  77.72  73.16  50.15  43.98   \n",
       "\n",
       "   NPxGD   PPDA  OPPDA   DC  ODC   xPTS season              league  \n",
       "0  61.87   8.52  22.92  508  138  91.88   2122  ENG-Premier League  \n",
       "0  44.78  10.33  22.32  450  154  83.04   2223  ENG-Premier League  \n",
       "1  54.10   8.07  21.71  461  159  86.56   2122  ENG-Premier League  \n",
       "1  23.32  11.58  20.87  245   88  43.09   2324  ENG-Premier League  \n",
       "4  25.00   8.83  19.10  419  209  67.37   2223  ENG-Premier League  \n",
       "7   5.64   9.18  17.07  219  179   30.5   2324  ENG-Premier League  \n",
       "3  17.80   9.10  16.76  227   91  39.24   2324  ENG-Premier League  \n",
       "0  17.34   8.25  16.57  242  117  38.79   2324  ENG-Premier League  \n",
       "2  31.90   8.76  16.36  385  163  73.38   2122  ENG-Premier League  \n",
       "5  29.18   8.93  15.01  362  231  70.86   2223  ENG-Premier League  "
      ]
     },
     "execution_count": 8,
     "metadata": {},
     "output_type": "execute_result"
    }
   ],
   "source": [
    "out.sort_values(by='OPPDA', ascending=False).head(10)"
   ]
  },
  {
   "cell_type": "code",
   "execution_count": 9,
   "metadata": {},
   "outputs": [],
   "source": [
    "understat_table = out[['league','Team','season', 'W', 'D', 'L','G','GA', 'xG', 'xGA','NPxG','NPxGA','PPDA',\n",
    "                       'OPPDA','PTS','xPTS']]"
   ]
  },
  {
   "cell_type": "code",
   "execution_count": 10,
   "metadata": {},
   "outputs": [
    {
     "data": {
      "text/html": [
       "<div>\n",
       "<style scoped>\n",
       "    .dataframe tbody tr th:only-of-type {\n",
       "        vertical-align: middle;\n",
       "    }\n",
       "\n",
       "    .dataframe tbody tr th {\n",
       "        vertical-align: top;\n",
       "    }\n",
       "\n",
       "    .dataframe thead th {\n",
       "        text-align: right;\n",
       "    }\n",
       "</style>\n",
       "<table border=\"1\" class=\"dataframe\">\n",
       "  <thead>\n",
       "    <tr style=\"text-align: right;\">\n",
       "      <th></th>\n",
       "      <th>league</th>\n",
       "      <th>Team</th>\n",
       "      <th>season</th>\n",
       "      <th>W</th>\n",
       "      <th>D</th>\n",
       "      <th>L</th>\n",
       "      <th>G</th>\n",
       "      <th>GA</th>\n",
       "      <th>xG</th>\n",
       "      <th>xGA</th>\n",
       "      <th>NPxG</th>\n",
       "      <th>NPxGA</th>\n",
       "      <th>PPDA</th>\n",
       "      <th>OPPDA</th>\n",
       "      <th>PTS</th>\n",
       "      <th>xPTS</th>\n",
       "    </tr>\n",
       "  </thead>\n",
       "  <tbody>\n",
       "    <tr>\n",
       "      <th>0</th>\n",
       "      <td>ENG-Premier League</td>\n",
       "      <td>Manchester City</td>\n",
       "      <td>2122</td>\n",
       "      <td>29</td>\n",
       "      <td>6</td>\n",
       "      <td>3</td>\n",
       "      <td>99</td>\n",
       "      <td>26</td>\n",
       "      <td>93.4</td>\n",
       "      <td>25.21</td>\n",
       "      <td>86.32</td>\n",
       "      <td>24.45</td>\n",
       "      <td>8.52</td>\n",
       "      <td>22.92</td>\n",
       "      <td>93</td>\n",
       "      <td>91.88</td>\n",
       "    </tr>\n",
       "    <tr>\n",
       "      <th>1</th>\n",
       "      <td>ENG-Premier League</td>\n",
       "      <td>Liverpool</td>\n",
       "      <td>2122</td>\n",
       "      <td>28</td>\n",
       "      <td>8</td>\n",
       "      <td>2</td>\n",
       "      <td>94</td>\n",
       "      <td>26</td>\n",
       "      <td>93.02</td>\n",
       "      <td>32.73</td>\n",
       "      <td>86.83</td>\n",
       "      <td>32.73</td>\n",
       "      <td>8.07</td>\n",
       "      <td>21.71</td>\n",
       "      <td>92</td>\n",
       "      <td>86.56</td>\n",
       "    </tr>\n",
       "    <tr>\n",
       "      <th>2</th>\n",
       "      <td>ENG-Premier League</td>\n",
       "      <td>Chelsea</td>\n",
       "      <td>2122</td>\n",
       "      <td>21</td>\n",
       "      <td>11</td>\n",
       "      <td>6</td>\n",
       "      <td>76</td>\n",
       "      <td>33</td>\n",
       "      <td>69.3</td>\n",
       "      <td>35.12</td>\n",
       "      <td>62.45</td>\n",
       "      <td>30.55</td>\n",
       "      <td>8.76</td>\n",
       "      <td>16.36</td>\n",
       "      <td>74</td>\n",
       "      <td>73.38</td>\n",
       "    </tr>\n",
       "    <tr>\n",
       "      <th>3</th>\n",
       "      <td>ENG-Premier League</td>\n",
       "      <td>Tottenham</td>\n",
       "      <td>2122</td>\n",
       "      <td>22</td>\n",
       "      <td>5</td>\n",
       "      <td>11</td>\n",
       "      <td>69</td>\n",
       "      <td>40</td>\n",
       "      <td>67.95</td>\n",
       "      <td>43.7</td>\n",
       "      <td>64.15</td>\n",
       "      <td>42.18</td>\n",
       "      <td>12.53</td>\n",
       "      <td>12.38</td>\n",
       "      <td>71</td>\n",
       "      <td>66.09</td>\n",
       "    </tr>\n",
       "    <tr>\n",
       "      <th>4</th>\n",
       "      <td>ENG-Premier League</td>\n",
       "      <td>Arsenal</td>\n",
       "      <td>2122</td>\n",
       "      <td>22</td>\n",
       "      <td>3</td>\n",
       "      <td>13</td>\n",
       "      <td>61</td>\n",
       "      <td>48</td>\n",
       "      <td>63.39</td>\n",
       "      <td>48.39</td>\n",
       "      <td>57.19</td>\n",
       "      <td>43.82</td>\n",
       "      <td>12.55</td>\n",
       "      <td>13.94</td>\n",
       "      <td>69</td>\n",
       "      <td>64.76</td>\n",
       "    </tr>\n",
       "    <tr>\n",
       "      <th>5</th>\n",
       "      <td>ENG-Premier League</td>\n",
       "      <td>Manchester United</td>\n",
       "      <td>2122</td>\n",
       "      <td>16</td>\n",
       "      <td>10</td>\n",
       "      <td>12</td>\n",
       "      <td>57</td>\n",
       "      <td>57</td>\n",
       "      <td>57.21</td>\n",
       "      <td>56.85</td>\n",
       "      <td>53.41</td>\n",
       "      <td>53.05</td>\n",
       "      <td>12.84</td>\n",
       "      <td>12.09</td>\n",
       "      <td>58</td>\n",
       "      <td>54.52</td>\n",
       "    </tr>\n",
       "    <tr>\n",
       "      <th>6</th>\n",
       "      <td>ENG-Premier League</td>\n",
       "      <td>West Ham</td>\n",
       "      <td>2122</td>\n",
       "      <td>16</td>\n",
       "      <td>8</td>\n",
       "      <td>14</td>\n",
       "      <td>60</td>\n",
       "      <td>51</td>\n",
       "      <td>54.98</td>\n",
       "      <td>53.88</td>\n",
       "      <td>50.26</td>\n",
       "      <td>49.31</td>\n",
       "      <td>14.06</td>\n",
       "      <td>13.78</td>\n",
       "      <td>56</td>\n",
       "      <td>53.56</td>\n",
       "    </tr>\n",
       "    <tr>\n",
       "      <th>7</th>\n",
       "      <td>ENG-Premier League</td>\n",
       "      <td>Leicester</td>\n",
       "      <td>2122</td>\n",
       "      <td>14</td>\n",
       "      <td>10</td>\n",
       "      <td>14</td>\n",
       "      <td>62</td>\n",
       "      <td>59</td>\n",
       "      <td>49.49</td>\n",
       "      <td>66.11</td>\n",
       "      <td>47.97</td>\n",
       "      <td>59.06</td>\n",
       "      <td>11.78</td>\n",
       "      <td>12.40</td>\n",
       "      <td>52</td>\n",
       "      <td>42.31</td>\n",
       "    </tr>\n",
       "    <tr>\n",
       "      <th>8</th>\n",
       "      <td>ENG-Premier League</td>\n",
       "      <td>Brighton</td>\n",
       "      <td>2122</td>\n",
       "      <td>12</td>\n",
       "      <td>15</td>\n",
       "      <td>11</td>\n",
       "      <td>42</td>\n",
       "      <td>44</td>\n",
       "      <td>49.57</td>\n",
       "      <td>47.21</td>\n",
       "      <td>44.24</td>\n",
       "      <td>44.17</td>\n",
       "      <td>9.37</td>\n",
       "      <td>13.44</td>\n",
       "      <td>51</td>\n",
       "      <td>54.18</td>\n",
       "    </tr>\n",
       "    <tr>\n",
       "      <th>9</th>\n",
       "      <td>ENG-Premier League</td>\n",
       "      <td>Wolverhampton Wanderers</td>\n",
       "      <td>2122</td>\n",
       "      <td>15</td>\n",
       "      <td>6</td>\n",
       "      <td>17</td>\n",
       "      <td>38</td>\n",
       "      <td>43</td>\n",
       "      <td>39.04</td>\n",
       "      <td>58.48</td>\n",
       "      <td>38.28</td>\n",
       "      <td>50.87</td>\n",
       "      <td>14.64</td>\n",
       "      <td>11.32</td>\n",
       "      <td>51</td>\n",
       "      <td>40.54</td>\n",
       "    </tr>\n",
       "    <tr>\n",
       "      <th>10</th>\n",
       "      <td>ENG-Premier League</td>\n",
       "      <td>Newcastle United</td>\n",
       "      <td>2122</td>\n",
       "      <td>13</td>\n",
       "      <td>10</td>\n",
       "      <td>15</td>\n",
       "      <td>44</td>\n",
       "      <td>62</td>\n",
       "      <td>41.53</td>\n",
       "      <td>62.71</td>\n",
       "      <td>39.24</td>\n",
       "      <td>57.99</td>\n",
       "      <td>13.80</td>\n",
       "      <td>7.85</td>\n",
       "      <td>49</td>\n",
       "      <td>41.53</td>\n",
       "    </tr>\n",
       "    <tr>\n",
       "      <th>11</th>\n",
       "      <td>ENG-Premier League</td>\n",
       "      <td>Crystal Palace</td>\n",
       "      <td>2122</td>\n",
       "      <td>11</td>\n",
       "      <td>15</td>\n",
       "      <td>12</td>\n",
       "      <td>50</td>\n",
       "      <td>46</td>\n",
       "      <td>48.84</td>\n",
       "      <td>41.33</td>\n",
       "      <td>42.66</td>\n",
       "      <td>38.29</td>\n",
       "      <td>11.38</td>\n",
       "      <td>9.56</td>\n",
       "      <td>48</td>\n",
       "      <td>58.15</td>\n",
       "    </tr>\n",
       "    <tr>\n",
       "      <th>12</th>\n",
       "      <td>ENG-Premier League</td>\n",
       "      <td>Brentford</td>\n",
       "      <td>2122</td>\n",
       "      <td>13</td>\n",
       "      <td>7</td>\n",
       "      <td>18</td>\n",
       "      <td>48</td>\n",
       "      <td>56</td>\n",
       "      <td>52.89</td>\n",
       "      <td>49.5</td>\n",
       "      <td>48.32</td>\n",
       "      <td>45.69</td>\n",
       "      <td>11.66</td>\n",
       "      <td>10.20</td>\n",
       "      <td>46</td>\n",
       "      <td>56.0</td>\n",
       "    </tr>\n",
       "    <tr>\n",
       "      <th>13</th>\n",
       "      <td>ENG-Premier League</td>\n",
       "      <td>Aston Villa</td>\n",
       "      <td>2122</td>\n",
       "      <td>13</td>\n",
       "      <td>6</td>\n",
       "      <td>19</td>\n",
       "      <td>52</td>\n",
       "      <td>54</td>\n",
       "      <td>43.13</td>\n",
       "      <td>53.1</td>\n",
       "      <td>40.85</td>\n",
       "      <td>48.42</td>\n",
       "      <td>12.91</td>\n",
       "      <td>8.93</td>\n",
       "      <td>45</td>\n",
       "      <td>46.2</td>\n",
       "    </tr>\n",
       "    <tr>\n",
       "      <th>14</th>\n",
       "      <td>ENG-Premier League</td>\n",
       "      <td>Southampton</td>\n",
       "      <td>2122</td>\n",
       "      <td>9</td>\n",
       "      <td>13</td>\n",
       "      <td>16</td>\n",
       "      <td>43</td>\n",
       "      <td>67</td>\n",
       "      <td>47.35</td>\n",
       "      <td>64.56</td>\n",
       "      <td>44.30</td>\n",
       "      <td>63.04</td>\n",
       "      <td>10.50</td>\n",
       "      <td>9.55</td>\n",
       "      <td>40</td>\n",
       "      <td>43.45</td>\n",
       "    </tr>\n",
       "    <tr>\n",
       "      <th>15</th>\n",
       "      <td>ENG-Premier League</td>\n",
       "      <td>Everton</td>\n",
       "      <td>2122</td>\n",
       "      <td>11</td>\n",
       "      <td>6</td>\n",
       "      <td>21</td>\n",
       "      <td>43</td>\n",
       "      <td>66</td>\n",
       "      <td>44.47</td>\n",
       "      <td>60.69</td>\n",
       "      <td>39.14</td>\n",
       "      <td>59.17</td>\n",
       "      <td>14.03</td>\n",
       "      <td>7.83</td>\n",
       "      <td>39</td>\n",
       "      <td>43.54</td>\n",
       "    </tr>\n",
       "    <tr>\n",
       "      <th>16</th>\n",
       "      <td>ENG-Premier League</td>\n",
       "      <td>Leeds</td>\n",
       "      <td>2122</td>\n",
       "      <td>9</td>\n",
       "      <td>11</td>\n",
       "      <td>18</td>\n",
       "      <td>42</td>\n",
       "      <td>79</td>\n",
       "      <td>51.19</td>\n",
       "      <td>71.31</td>\n",
       "      <td>47.38</td>\n",
       "      <td>67.50</td>\n",
       "      <td>8.58</td>\n",
       "      <td>11.34</td>\n",
       "      <td>38</td>\n",
       "      <td>43.86</td>\n",
       "    </tr>\n",
       "    <tr>\n",
       "      <th>17</th>\n",
       "      <td>ENG-Premier League</td>\n",
       "      <td>Burnley</td>\n",
       "      <td>2122</td>\n",
       "      <td>7</td>\n",
       "      <td>14</td>\n",
       "      <td>17</td>\n",
       "      <td>34</td>\n",
       "      <td>53</td>\n",
       "      <td>41.11</td>\n",
       "      <td>60.22</td>\n",
       "      <td>39.58</td>\n",
       "      <td>56.42</td>\n",
       "      <td>12.89</td>\n",
       "      <td>9.50</td>\n",
       "      <td>35</td>\n",
       "      <td>38.1</td>\n",
       "    </tr>\n",
       "    <tr>\n",
       "      <th>18</th>\n",
       "      <td>ENG-Premier League</td>\n",
       "      <td>Watford</td>\n",
       "      <td>2122</td>\n",
       "      <td>6</td>\n",
       "      <td>5</td>\n",
       "      <td>27</td>\n",
       "      <td>34</td>\n",
       "      <td>77</td>\n",
       "      <td>39.34</td>\n",
       "      <td>67.53</td>\n",
       "      <td>37.82</td>\n",
       "      <td>62.21</td>\n",
       "      <td>14.27</td>\n",
       "      <td>7.62</td>\n",
       "      <td>23</td>\n",
       "      <td>35.45</td>\n",
       "    </tr>\n",
       "    <tr>\n",
       "      <th>19</th>\n",
       "      <td>ENG-Premier League</td>\n",
       "      <td>Norwich</td>\n",
       "      <td>2122</td>\n",
       "      <td>5</td>\n",
       "      <td>7</td>\n",
       "      <td>26</td>\n",
       "      <td>23</td>\n",
       "      <td>84</td>\n",
       "      <td>31.51</td>\n",
       "      <td>80.08</td>\n",
       "      <td>29.23</td>\n",
       "      <td>70.72</td>\n",
       "      <td>15.33</td>\n",
       "      <td>9.35</td>\n",
       "      <td>22</td>\n",
       "      <td>25.04</td>\n",
       "    </tr>\n",
       "    <tr>\n",
       "      <th>0</th>\n",
       "      <td>ENG-Premier League</td>\n",
       "      <td>Manchester City</td>\n",
       "      <td>2223</td>\n",
       "      <td>28</td>\n",
       "      <td>5</td>\n",
       "      <td>5</td>\n",
       "      <td>94</td>\n",
       "      <td>33</td>\n",
       "      <td>84.32</td>\n",
       "      <td>34.21</td>\n",
       "      <td>76.71</td>\n",
       "      <td>31.92</td>\n",
       "      <td>10.33</td>\n",
       "      <td>22.32</td>\n",
       "      <td>89</td>\n",
       "      <td>83.04</td>\n",
       "    </tr>\n",
       "    <tr>\n",
       "      <th>1</th>\n",
       "      <td>ENG-Premier League</td>\n",
       "      <td>Arsenal</td>\n",
       "      <td>2223</td>\n",
       "      <td>26</td>\n",
       "      <td>6</td>\n",
       "      <td>6</td>\n",
       "      <td>88</td>\n",
       "      <td>43</td>\n",
       "      <td>76.51</td>\n",
       "      <td>45.16</td>\n",
       "      <td>73.47</td>\n",
       "      <td>41.36</td>\n",
       "      <td>9.55</td>\n",
       "      <td>14.36</td>\n",
       "      <td>84</td>\n",
       "      <td>72.53</td>\n",
       "    </tr>\n",
       "    <tr>\n",
       "      <th>2</th>\n",
       "      <td>ENG-Premier League</td>\n",
       "      <td>Manchester United</td>\n",
       "      <td>2223</td>\n",
       "      <td>23</td>\n",
       "      <td>6</td>\n",
       "      <td>9</td>\n",
       "      <td>58</td>\n",
       "      <td>43</td>\n",
       "      <td>71.9</td>\n",
       "      <td>50.29</td>\n",
       "      <td>69.62</td>\n",
       "      <td>48.00</td>\n",
       "      <td>11.52</td>\n",
       "      <td>13.66</td>\n",
       "      <td>75</td>\n",
       "      <td>66.4</td>\n",
       "    </tr>\n",
       "    <tr>\n",
       "      <th>3</th>\n",
       "      <td>ENG-Premier League</td>\n",
       "      <td>Newcastle United</td>\n",
       "      <td>2223</td>\n",
       "      <td>19</td>\n",
       "      <td>14</td>\n",
       "      <td>5</td>\n",
       "      <td>68</td>\n",
       "      <td>33</td>\n",
       "      <td>76.98</td>\n",
       "      <td>41.86</td>\n",
       "      <td>72.41</td>\n",
       "      <td>38.05</td>\n",
       "      <td>9.19</td>\n",
       "      <td>10.66</td>\n",
       "      <td>71</td>\n",
       "      <td>71.67</td>\n",
       "    </tr>\n",
       "    <tr>\n",
       "      <th>4</th>\n",
       "      <td>ENG-Premier League</td>\n",
       "      <td>Liverpool</td>\n",
       "      <td>2223</td>\n",
       "      <td>19</td>\n",
       "      <td>10</td>\n",
       "      <td>9</td>\n",
       "      <td>75</td>\n",
       "      <td>47</td>\n",
       "      <td>80.77</td>\n",
       "      <td>55.77</td>\n",
       "      <td>77.73</td>\n",
       "      <td>52.73</td>\n",
       "      <td>8.83</td>\n",
       "      <td>19.10</td>\n",
       "      <td>67</td>\n",
       "      <td>67.37</td>\n",
       "    </tr>\n",
       "    <tr>\n",
       "      <th>5</th>\n",
       "      <td>ENG-Premier League</td>\n",
       "      <td>Brighton</td>\n",
       "      <td>2223</td>\n",
       "      <td>18</td>\n",
       "      <td>8</td>\n",
       "      <td>12</td>\n",
       "      <td>72</td>\n",
       "      <td>53</td>\n",
       "      <td>77.72</td>\n",
       "      <td>50.15</td>\n",
       "      <td>73.16</td>\n",
       "      <td>43.98</td>\n",
       "      <td>8.93</td>\n",
       "      <td>15.01</td>\n",
       "      <td>62</td>\n",
       "      <td>70.86</td>\n",
       "    </tr>\n",
       "    <tr>\n",
       "      <th>6</th>\n",
       "      <td>ENG-Premier League</td>\n",
       "      <td>Aston Villa</td>\n",
       "      <td>2223</td>\n",
       "      <td>18</td>\n",
       "      <td>7</td>\n",
       "      <td>13</td>\n",
       "      <td>51</td>\n",
       "      <td>46</td>\n",
       "      <td>50.0</td>\n",
       "      <td>53.96</td>\n",
       "      <td>46.95</td>\n",
       "      <td>49.24</td>\n",
       "      <td>11.78</td>\n",
       "      <td>9.56</td>\n",
       "      <td>61</td>\n",
       "      <td>54.37</td>\n",
       "    </tr>\n",
       "    <tr>\n",
       "      <th>7</th>\n",
       "      <td>ENG-Premier League</td>\n",
       "      <td>Tottenham</td>\n",
       "      <td>2223</td>\n",
       "      <td>18</td>\n",
       "      <td>6</td>\n",
       "      <td>14</td>\n",
       "      <td>70</td>\n",
       "      <td>63</td>\n",
       "      <td>57.83</td>\n",
       "      <td>51.66</td>\n",
       "      <td>53.27</td>\n",
       "      <td>48.62</td>\n",
       "      <td>12.65</td>\n",
       "      <td>12.73</td>\n",
       "      <td>60</td>\n",
       "      <td>57.6</td>\n",
       "    </tr>\n",
       "    <tr>\n",
       "      <th>8</th>\n",
       "      <td>ENG-Premier League</td>\n",
       "      <td>Brentford</td>\n",
       "      <td>2223</td>\n",
       "      <td>15</td>\n",
       "      <td>14</td>\n",
       "      <td>9</td>\n",
       "      <td>58</td>\n",
       "      <td>46</td>\n",
       "      <td>59.23</td>\n",
       "      <td>51.45</td>\n",
       "      <td>53.14</td>\n",
       "      <td>49.93</td>\n",
       "      <td>11.31</td>\n",
       "      <td>9.78</td>\n",
       "      <td>59</td>\n",
       "      <td>58.26</td>\n",
       "    </tr>\n",
       "    <tr>\n",
       "      <th>9</th>\n",
       "      <td>ENG-Premier League</td>\n",
       "      <td>Fulham</td>\n",
       "      <td>2223</td>\n",
       "      <td>15</td>\n",
       "      <td>7</td>\n",
       "      <td>16</td>\n",
       "      <td>55</td>\n",
       "      <td>53</td>\n",
       "      <td>47.98</td>\n",
       "      <td>71.49</td>\n",
       "      <td>41.13</td>\n",
       "      <td>65.31</td>\n",
       "      <td>12.96</td>\n",
       "      <td>10.43</td>\n",
       "      <td>52</td>\n",
       "      <td>39.24</td>\n",
       "    </tr>\n",
       "    <tr>\n",
       "      <th>10</th>\n",
       "      <td>ENG-Premier League</td>\n",
       "      <td>Crystal Palace</td>\n",
       "      <td>2223</td>\n",
       "      <td>11</td>\n",
       "      <td>12</td>\n",
       "      <td>15</td>\n",
       "      <td>40</td>\n",
       "      <td>49</td>\n",
       "      <td>40.72</td>\n",
       "      <td>51.63</td>\n",
       "      <td>38.30</td>\n",
       "      <td>48.58</td>\n",
       "      <td>13.05</td>\n",
       "      <td>8.67</td>\n",
       "      <td>45</td>\n",
       "      <td>44.24</td>\n",
       "    </tr>\n",
       "    <tr>\n",
       "      <th>11</th>\n",
       "      <td>ENG-Premier League</td>\n",
       "      <td>Chelsea</td>\n",
       "      <td>2223</td>\n",
       "      <td>11</td>\n",
       "      <td>11</td>\n",
       "      <td>16</td>\n",
       "      <td>38</td>\n",
       "      <td>47</td>\n",
       "      <td>51.89</td>\n",
       "      <td>54.02</td>\n",
       "      <td>49.61</td>\n",
       "      <td>53.26</td>\n",
       "      <td>9.10</td>\n",
       "      <td>13.33</td>\n",
       "      <td>44</td>\n",
       "      <td>52.28</td>\n",
       "    </tr>\n",
       "    <tr>\n",
       "      <th>12</th>\n",
       "      <td>ENG-Premier League</td>\n",
       "      <td>Wolverhampton Wanderers</td>\n",
       "      <td>2223</td>\n",
       "      <td>11</td>\n",
       "      <td>8</td>\n",
       "      <td>19</td>\n",
       "      <td>31</td>\n",
       "      <td>58</td>\n",
       "      <td>35.13</td>\n",
       "      <td>62.68</td>\n",
       "      <td>32.84</td>\n",
       "      <td>59.64</td>\n",
       "      <td>11.99</td>\n",
       "      <td>11.30</td>\n",
       "      <td>41</td>\n",
       "      <td>35.01</td>\n",
       "    </tr>\n",
       "    <tr>\n",
       "      <th>13</th>\n",
       "      <td>ENG-Premier League</td>\n",
       "      <td>West Ham</td>\n",
       "      <td>2223</td>\n",
       "      <td>11</td>\n",
       "      <td>7</td>\n",
       "      <td>20</td>\n",
       "      <td>42</td>\n",
       "      <td>55</td>\n",
       "      <td>51.21</td>\n",
       "      <td>55.31</td>\n",
       "      <td>45.12</td>\n",
       "      <td>50.75</td>\n",
       "      <td>15.96</td>\n",
       "      <td>11.11</td>\n",
       "      <td>40</td>\n",
       "      <td>51.62</td>\n",
       "    </tr>\n",
       "    <tr>\n",
       "      <th>14</th>\n",
       "      <td>ENG-Premier League</td>\n",
       "      <td>Bournemouth</td>\n",
       "      <td>2223</td>\n",
       "      <td>11</td>\n",
       "      <td>6</td>\n",
       "      <td>21</td>\n",
       "      <td>37</td>\n",
       "      <td>71</td>\n",
       "      <td>40.08</td>\n",
       "      <td>67.6</td>\n",
       "      <td>40.08</td>\n",
       "      <td>62.27</td>\n",
       "      <td>15.78</td>\n",
       "      <td>8.81</td>\n",
       "      <td>39</td>\n",
       "      <td>34.73</td>\n",
       "    </tr>\n",
       "    <tr>\n",
       "      <th>15</th>\n",
       "      <td>ENG-Premier League</td>\n",
       "      <td>Nottingham Forest</td>\n",
       "      <td>2223</td>\n",
       "      <td>9</td>\n",
       "      <td>11</td>\n",
       "      <td>18</td>\n",
       "      <td>38</td>\n",
       "      <td>68</td>\n",
       "      <td>39.57</td>\n",
       "      <td>68.46</td>\n",
       "      <td>35.01</td>\n",
       "      <td>61.61</td>\n",
       "      <td>16.48</td>\n",
       "      <td>8.02</td>\n",
       "      <td>38</td>\n",
       "      <td>35.05</td>\n",
       "    </tr>\n",
       "    <tr>\n",
       "      <th>16</th>\n",
       "      <td>ENG-Premier League</td>\n",
       "      <td>Everton</td>\n",
       "      <td>2223</td>\n",
       "      <td>8</td>\n",
       "      <td>12</td>\n",
       "      <td>18</td>\n",
       "      <td>34</td>\n",
       "      <td>57</td>\n",
       "      <td>48.65</td>\n",
       "      <td>68.58</td>\n",
       "      <td>46.37</td>\n",
       "      <td>64.02</td>\n",
       "      <td>13.65</td>\n",
       "      <td>9.62</td>\n",
       "      <td>36</td>\n",
       "      <td>40.71</td>\n",
       "    </tr>\n",
       "    <tr>\n",
       "      <th>17</th>\n",
       "      <td>ENG-Premier League</td>\n",
       "      <td>Leicester</td>\n",
       "      <td>2223</td>\n",
       "      <td>9</td>\n",
       "      <td>7</td>\n",
       "      <td>22</td>\n",
       "      <td>51</td>\n",
       "      <td>68</td>\n",
       "      <td>48.99</td>\n",
       "      <td>59.79</td>\n",
       "      <td>44.33</td>\n",
       "      <td>55.98</td>\n",
       "      <td>12.02</td>\n",
       "      <td>12.67</td>\n",
       "      <td>34</td>\n",
       "      <td>45.07</td>\n",
       "    </tr>\n",
       "    <tr>\n",
       "      <th>18</th>\n",
       "      <td>ENG-Premier League</td>\n",
       "      <td>Leeds</td>\n",
       "      <td>2223</td>\n",
       "      <td>7</td>\n",
       "      <td>10</td>\n",
       "      <td>21</td>\n",
       "      <td>48</td>\n",
       "      <td>78</td>\n",
       "      <td>47.8</td>\n",
       "      <td>69.58</td>\n",
       "      <td>45.51</td>\n",
       "      <td>65.01</td>\n",
       "      <td>9.48</td>\n",
       "      <td>9.02</td>\n",
       "      <td>31</td>\n",
       "      <td>40.58</td>\n",
       "    </tr>\n",
       "    <tr>\n",
       "      <th>19</th>\n",
       "      <td>ENG-Premier League</td>\n",
       "      <td>Southampton</td>\n",
       "      <td>2223</td>\n",
       "      <td>6</td>\n",
       "      <td>7</td>\n",
       "      <td>25</td>\n",
       "      <td>36</td>\n",
       "      <td>73</td>\n",
       "      <td>39.27</td>\n",
       "      <td>62.9</td>\n",
       "      <td>36.13</td>\n",
       "      <td>60.62</td>\n",
       "      <td>12.37</td>\n",
       "      <td>8.40</td>\n",
       "      <td>25</td>\n",
       "      <td>36.47</td>\n",
       "    </tr>\n",
       "    <tr>\n",
       "      <th>0</th>\n",
       "      <td>ENG-Premier League</td>\n",
       "      <td>Liverpool</td>\n",
       "      <td>2324</td>\n",
       "      <td>13</td>\n",
       "      <td>6</td>\n",
       "      <td>1</td>\n",
       "      <td>43</td>\n",
       "      <td>18</td>\n",
       "      <td>46.31</td>\n",
       "      <td>24.88</td>\n",
       "      <td>41.46</td>\n",
       "      <td>24.12</td>\n",
       "      <td>8.25</td>\n",
       "      <td>16.57</td>\n",
       "      <td>45</td>\n",
       "      <td>38.79</td>\n",
       "    </tr>\n",
       "    <tr>\n",
       "      <th>1</th>\n",
       "      <td>ENG-Premier League</td>\n",
       "      <td>Manchester City</td>\n",
       "      <td>2324</td>\n",
       "      <td>13</td>\n",
       "      <td>4</td>\n",
       "      <td>3</td>\n",
       "      <td>48</td>\n",
       "      <td>23</td>\n",
       "      <td>45.34</td>\n",
       "      <td>19.74</td>\n",
       "      <td>41.54</td>\n",
       "      <td>18.22</td>\n",
       "      <td>11.58</td>\n",
       "      <td>20.87</td>\n",
       "      <td>43</td>\n",
       "      <td>43.09</td>\n",
       "    </tr>\n",
       "    <tr>\n",
       "      <th>2</th>\n",
       "      <td>ENG-Premier League</td>\n",
       "      <td>Aston Villa</td>\n",
       "      <td>2324</td>\n",
       "      <td>13</td>\n",
       "      <td>4</td>\n",
       "      <td>4</td>\n",
       "      <td>43</td>\n",
       "      <td>27</td>\n",
       "      <td>39.87</td>\n",
       "      <td>28.86</td>\n",
       "      <td>36.82</td>\n",
       "      <td>28.86</td>\n",
       "      <td>12.43</td>\n",
       "      <td>10.27</td>\n",
       "      <td>43</td>\n",
       "      <td>37.0</td>\n",
       "    </tr>\n",
       "    <tr>\n",
       "      <th>3</th>\n",
       "      <td>ENG-Premier League</td>\n",
       "      <td>Arsenal</td>\n",
       "      <td>2324</td>\n",
       "      <td>12</td>\n",
       "      <td>4</td>\n",
       "      <td>4</td>\n",
       "      <td>37</td>\n",
       "      <td>20</td>\n",
       "      <td>40.56</td>\n",
       "      <td>19.71</td>\n",
       "      <td>35.99</td>\n",
       "      <td>18.19</td>\n",
       "      <td>9.10</td>\n",
       "      <td>16.76</td>\n",
       "      <td>40</td>\n",
       "      <td>39.24</td>\n",
       "    </tr>\n",
       "    <tr>\n",
       "      <th>4</th>\n",
       "      <td>ENG-Premier League</td>\n",
       "      <td>Tottenham</td>\n",
       "      <td>2324</td>\n",
       "      <td>12</td>\n",
       "      <td>4</td>\n",
       "      <td>5</td>\n",
       "      <td>44</td>\n",
       "      <td>31</td>\n",
       "      <td>38.99</td>\n",
       "      <td>37.58</td>\n",
       "      <td>38.23</td>\n",
       "      <td>33.78</td>\n",
       "      <td>8.21</td>\n",
       "      <td>11.20</td>\n",
       "      <td>40</td>\n",
       "      <td>31.11</td>\n",
       "    </tr>\n",
       "    <tr>\n",
       "      <th>5</th>\n",
       "      <td>ENG-Premier League</td>\n",
       "      <td>West Ham</td>\n",
       "      <td>2324</td>\n",
       "      <td>10</td>\n",
       "      <td>4</td>\n",
       "      <td>6</td>\n",
       "      <td>33</td>\n",
       "      <td>30</td>\n",
       "      <td>29.41</td>\n",
       "      <td>36.49</td>\n",
       "      <td>27.89</td>\n",
       "      <td>33.44</td>\n",
       "      <td>17.47</td>\n",
       "      <td>9.88</td>\n",
       "      <td>34</td>\n",
       "      <td>23.88</td>\n",
       "    </tr>\n",
       "    <tr>\n",
       "      <th>6</th>\n",
       "      <td>ENG-Premier League</td>\n",
       "      <td>Manchester United</td>\n",
       "      <td>2324</td>\n",
       "      <td>10</td>\n",
       "      <td>2</td>\n",
       "      <td>9</td>\n",
       "      <td>24</td>\n",
       "      <td>29</td>\n",
       "      <td>30.22</td>\n",
       "      <td>36.87</td>\n",
       "      <td>27.92</td>\n",
       "      <td>35.35</td>\n",
       "      <td>12.05</td>\n",
       "      <td>13.21</td>\n",
       "      <td>32</td>\n",
       "      <td>24.79</td>\n",
       "    </tr>\n",
       "    <tr>\n",
       "      <th>7</th>\n",
       "      <td>ENG-Premier League</td>\n",
       "      <td>Brighton</td>\n",
       "      <td>2324</td>\n",
       "      <td>8</td>\n",
       "      <td>7</td>\n",
       "      <td>5</td>\n",
       "      <td>38</td>\n",
       "      <td>33</td>\n",
       "      <td>36.65</td>\n",
       "      <td>31.77</td>\n",
       "      <td>33.61</td>\n",
       "      <td>27.97</td>\n",
       "      <td>9.18</td>\n",
       "      <td>17.07</td>\n",
       "      <td>31</td>\n",
       "      <td>30.5</td>\n",
       "    </tr>\n",
       "    <tr>\n",
       "      <th>8</th>\n",
       "      <td>ENG-Premier League</td>\n",
       "      <td>Chelsea</td>\n",
       "      <td>2324</td>\n",
       "      <td>9</td>\n",
       "      <td>4</td>\n",
       "      <td>8</td>\n",
       "      <td>35</td>\n",
       "      <td>31</td>\n",
       "      <td>44.01</td>\n",
       "      <td>31.27</td>\n",
       "      <td>37.92</td>\n",
       "      <td>28.97</td>\n",
       "      <td>8.88</td>\n",
       "      <td>14.07</td>\n",
       "      <td>31</td>\n",
       "      <td>36.8</td>\n",
       "    </tr>\n",
       "    <tr>\n",
       "      <th>9</th>\n",
       "      <td>ENG-Premier League</td>\n",
       "      <td>Newcastle United</td>\n",
       "      <td>2324</td>\n",
       "      <td>9</td>\n",
       "      <td>2</td>\n",
       "      <td>10</td>\n",
       "      <td>41</td>\n",
       "      <td>32</td>\n",
       "      <td>44.86</td>\n",
       "      <td>36.48</td>\n",
       "      <td>41.81</td>\n",
       "      <td>34.07</td>\n",
       "      <td>10.21</td>\n",
       "      <td>11.64</td>\n",
       "      <td>29</td>\n",
       "      <td>35.13</td>\n",
       "    </tr>\n",
       "    <tr>\n",
       "      <th>10</th>\n",
       "      <td>ENG-Premier League</td>\n",
       "      <td>Wolverhampton Wanderers</td>\n",
       "      <td>2324</td>\n",
       "      <td>8</td>\n",
       "      <td>4</td>\n",
       "      <td>8</td>\n",
       "      <td>30</td>\n",
       "      <td>31</td>\n",
       "      <td>28.56</td>\n",
       "      <td>35.79</td>\n",
       "      <td>27.79</td>\n",
       "      <td>31.98</td>\n",
       "      <td>12.21</td>\n",
       "      <td>9.67</td>\n",
       "      <td>28</td>\n",
       "      <td>22.88</td>\n",
       "    </tr>\n",
       "    <tr>\n",
       "      <th>11</th>\n",
       "      <td>ENG-Premier League</td>\n",
       "      <td>Everton</td>\n",
       "      <td>2324</td>\n",
       "      <td>8</td>\n",
       "      <td>3</td>\n",
       "      <td>10</td>\n",
       "      <td>24</td>\n",
       "      <td>28</td>\n",
       "      <td>34.99</td>\n",
       "      <td>31.5</td>\n",
       "      <td>34.99</td>\n",
       "      <td>27.69</td>\n",
       "      <td>13.49</td>\n",
       "      <td>9.91</td>\n",
       "      <td>27</td>\n",
       "      <td>31.52</td>\n",
       "    </tr>\n",
       "    <tr>\n",
       "      <th>12</th>\n",
       "      <td>ENG-Premier League</td>\n",
       "      <td>Bournemouth</td>\n",
       "      <td>2324</td>\n",
       "      <td>7</td>\n",
       "      <td>4</td>\n",
       "      <td>8</td>\n",
       "      <td>28</td>\n",
       "      <td>35</td>\n",
       "      <td>30.59</td>\n",
       "      <td>34.12</td>\n",
       "      <td>29.83</td>\n",
       "      <td>31.68</td>\n",
       "      <td>10.61</td>\n",
       "      <td>8.43</td>\n",
       "      <td>25</td>\n",
       "      <td>25.43</td>\n",
       "    </tr>\n",
       "    <tr>\n",
       "      <th>13</th>\n",
       "      <td>ENG-Premier League</td>\n",
       "      <td>Fulham</td>\n",
       "      <td>2324</td>\n",
       "      <td>7</td>\n",
       "      <td>3</td>\n",
       "      <td>11</td>\n",
       "      <td>28</td>\n",
       "      <td>36</td>\n",
       "      <td>26.57</td>\n",
       "      <td>37.86</td>\n",
       "      <td>25.04</td>\n",
       "      <td>33.29</td>\n",
       "      <td>13.30</td>\n",
       "      <td>13.13</td>\n",
       "      <td>24</td>\n",
       "      <td>23.25</td>\n",
       "    </tr>\n",
       "    <tr>\n",
       "      <th>14</th>\n",
       "      <td>ENG-Premier League</td>\n",
       "      <td>Crystal Palace</td>\n",
       "      <td>2324</td>\n",
       "      <td>5</td>\n",
       "      <td>6</td>\n",
       "      <td>9</td>\n",
       "      <td>22</td>\n",
       "      <td>29</td>\n",
       "      <td>27.13</td>\n",
       "      <td>31.45</td>\n",
       "      <td>24.84</td>\n",
       "      <td>29.16</td>\n",
       "      <td>13.35</td>\n",
       "      <td>8.53</td>\n",
       "      <td>21</td>\n",
       "      <td>24.8</td>\n",
       "    </tr>\n",
       "    <tr>\n",
       "      <th>15</th>\n",
       "      <td>ENG-Premier League</td>\n",
       "      <td>Nottingham Forest</td>\n",
       "      <td>2324</td>\n",
       "      <td>5</td>\n",
       "      <td>5</td>\n",
       "      <td>10</td>\n",
       "      <td>24</td>\n",
       "      <td>35</td>\n",
       "      <td>24.52</td>\n",
       "      <td>32.09</td>\n",
       "      <td>23.76</td>\n",
       "      <td>29.81</td>\n",
       "      <td>17.97</td>\n",
       "      <td>10.24</td>\n",
       "      <td>20</td>\n",
       "      <td>22.98</td>\n",
       "    </tr>\n",
       "    <tr>\n",
       "      <th>16</th>\n",
       "      <td>ENG-Premier League</td>\n",
       "      <td>Brentford</td>\n",
       "      <td>2324</td>\n",
       "      <td>5</td>\n",
       "      <td>4</td>\n",
       "      <td>10</td>\n",
       "      <td>26</td>\n",
       "      <td>31</td>\n",
       "      <td>34.77</td>\n",
       "      <td>26.27</td>\n",
       "      <td>32.49</td>\n",
       "      <td>25.51</td>\n",
       "      <td>9.47</td>\n",
       "      <td>11.03</td>\n",
       "      <td>19</td>\n",
       "      <td>30.04</td>\n",
       "    </tr>\n",
       "    <tr>\n",
       "      <th>17</th>\n",
       "      <td>ENG-Premier League</td>\n",
       "      <td>Luton</td>\n",
       "      <td>2324</td>\n",
       "      <td>4</td>\n",
       "      <td>4</td>\n",
       "      <td>12</td>\n",
       "      <td>24</td>\n",
       "      <td>38</td>\n",
       "      <td>24.24</td>\n",
       "      <td>48.66</td>\n",
       "      <td>22.72</td>\n",
       "      <td>47.90</td>\n",
       "      <td>14.79</td>\n",
       "      <td>7.53</td>\n",
       "      <td>16</td>\n",
       "      <td>15.53</td>\n",
       "    </tr>\n",
       "    <tr>\n",
       "      <th>18</th>\n",
       "      <td>ENG-Premier League</td>\n",
       "      <td>Burnley</td>\n",
       "      <td>2324</td>\n",
       "      <td>3</td>\n",
       "      <td>3</td>\n",
       "      <td>15</td>\n",
       "      <td>21</td>\n",
       "      <td>42</td>\n",
       "      <td>21.17</td>\n",
       "      <td>39.35</td>\n",
       "      <td>20.41</td>\n",
       "      <td>37.06</td>\n",
       "      <td>13.96</td>\n",
       "      <td>12.88</td>\n",
       "      <td>12</td>\n",
       "      <td>17.71</td>\n",
       "    </tr>\n",
       "    <tr>\n",
       "      <th>19</th>\n",
       "      <td>ENG-Premier League</td>\n",
       "      <td>Sheffield United</td>\n",
       "      <td>2324</td>\n",
       "      <td>2</td>\n",
       "      <td>3</td>\n",
       "      <td>15</td>\n",
       "      <td>15</td>\n",
       "      <td>49</td>\n",
       "      <td>17.31</td>\n",
       "      <td>45.34</td>\n",
       "      <td>15.79</td>\n",
       "      <td>43.81</td>\n",
       "      <td>15.99</td>\n",
       "      <td>8.45</td>\n",
       "      <td>9</td>\n",
       "      <td>12.64</td>\n",
       "    </tr>\n",
       "  </tbody>\n",
       "</table>\n",
       "</div>"
      ],
      "text/plain": [
       "                league                     Team season   W   D   L   G  GA  \\\n",
       "0   ENG-Premier League          Manchester City   2122  29   6   3  99  26   \n",
       "1   ENG-Premier League                Liverpool   2122  28   8   2  94  26   \n",
       "2   ENG-Premier League                  Chelsea   2122  21  11   6  76  33   \n",
       "3   ENG-Premier League                Tottenham   2122  22   5  11  69  40   \n",
       "4   ENG-Premier League                  Arsenal   2122  22   3  13  61  48   \n",
       "5   ENG-Premier League        Manchester United   2122  16  10  12  57  57   \n",
       "6   ENG-Premier League                 West Ham   2122  16   8  14  60  51   \n",
       "7   ENG-Premier League                Leicester   2122  14  10  14  62  59   \n",
       "8   ENG-Premier League                 Brighton   2122  12  15  11  42  44   \n",
       "9   ENG-Premier League  Wolverhampton Wanderers   2122  15   6  17  38  43   \n",
       "10  ENG-Premier League         Newcastle United   2122  13  10  15  44  62   \n",
       "11  ENG-Premier League           Crystal Palace   2122  11  15  12  50  46   \n",
       "12  ENG-Premier League                Brentford   2122  13   7  18  48  56   \n",
       "13  ENG-Premier League              Aston Villa   2122  13   6  19  52  54   \n",
       "14  ENG-Premier League              Southampton   2122   9  13  16  43  67   \n",
       "15  ENG-Premier League                  Everton   2122  11   6  21  43  66   \n",
       "16  ENG-Premier League                    Leeds   2122   9  11  18  42  79   \n",
       "17  ENG-Premier League                  Burnley   2122   7  14  17  34  53   \n",
       "18  ENG-Premier League                  Watford   2122   6   5  27  34  77   \n",
       "19  ENG-Premier League                  Norwich   2122   5   7  26  23  84   \n",
       "0   ENG-Premier League          Manchester City   2223  28   5   5  94  33   \n",
       "1   ENG-Premier League                  Arsenal   2223  26   6   6  88  43   \n",
       "2   ENG-Premier League        Manchester United   2223  23   6   9  58  43   \n",
       "3   ENG-Premier League         Newcastle United   2223  19  14   5  68  33   \n",
       "4   ENG-Premier League                Liverpool   2223  19  10   9  75  47   \n",
       "5   ENG-Premier League                 Brighton   2223  18   8  12  72  53   \n",
       "6   ENG-Premier League              Aston Villa   2223  18   7  13  51  46   \n",
       "7   ENG-Premier League                Tottenham   2223  18   6  14  70  63   \n",
       "8   ENG-Premier League                Brentford   2223  15  14   9  58  46   \n",
       "9   ENG-Premier League                   Fulham   2223  15   7  16  55  53   \n",
       "10  ENG-Premier League           Crystal Palace   2223  11  12  15  40  49   \n",
       "11  ENG-Premier League                  Chelsea   2223  11  11  16  38  47   \n",
       "12  ENG-Premier League  Wolverhampton Wanderers   2223  11   8  19  31  58   \n",
       "13  ENG-Premier League                 West Ham   2223  11   7  20  42  55   \n",
       "14  ENG-Premier League              Bournemouth   2223  11   6  21  37  71   \n",
       "15  ENG-Premier League        Nottingham Forest   2223   9  11  18  38  68   \n",
       "16  ENG-Premier League                  Everton   2223   8  12  18  34  57   \n",
       "17  ENG-Premier League                Leicester   2223   9   7  22  51  68   \n",
       "18  ENG-Premier League                    Leeds   2223   7  10  21  48  78   \n",
       "19  ENG-Premier League              Southampton   2223   6   7  25  36  73   \n",
       "0   ENG-Premier League                Liverpool   2324  13   6   1  43  18   \n",
       "1   ENG-Premier League          Manchester City   2324  13   4   3  48  23   \n",
       "2   ENG-Premier League              Aston Villa   2324  13   4   4  43  27   \n",
       "3   ENG-Premier League                  Arsenal   2324  12   4   4  37  20   \n",
       "4   ENG-Premier League                Tottenham   2324  12   4   5  44  31   \n",
       "5   ENG-Premier League                 West Ham   2324  10   4   6  33  30   \n",
       "6   ENG-Premier League        Manchester United   2324  10   2   9  24  29   \n",
       "7   ENG-Premier League                 Brighton   2324   8   7   5  38  33   \n",
       "8   ENG-Premier League                  Chelsea   2324   9   4   8  35  31   \n",
       "9   ENG-Premier League         Newcastle United   2324   9   2  10  41  32   \n",
       "10  ENG-Premier League  Wolverhampton Wanderers   2324   8   4   8  30  31   \n",
       "11  ENG-Premier League                  Everton   2324   8   3  10  24  28   \n",
       "12  ENG-Premier League              Bournemouth   2324   7   4   8  28  35   \n",
       "13  ENG-Premier League                   Fulham   2324   7   3  11  28  36   \n",
       "14  ENG-Premier League           Crystal Palace   2324   5   6   9  22  29   \n",
       "15  ENG-Premier League        Nottingham Forest   2324   5   5  10  24  35   \n",
       "16  ENG-Premier League                Brentford   2324   5   4  10  26  31   \n",
       "17  ENG-Premier League                    Luton   2324   4   4  12  24  38   \n",
       "18  ENG-Premier League                  Burnley   2324   3   3  15  21  42   \n",
       "19  ENG-Premier League         Sheffield United   2324   2   3  15  15  49   \n",
       "\n",
       "       xG    xGA   NPxG  NPxGA   PPDA  OPPDA PTS   xPTS  \n",
       "0    93.4  25.21  86.32  24.45   8.52  22.92  93  91.88  \n",
       "1   93.02  32.73  86.83  32.73   8.07  21.71  92  86.56  \n",
       "2    69.3  35.12  62.45  30.55   8.76  16.36  74  73.38  \n",
       "3   67.95   43.7  64.15  42.18  12.53  12.38  71  66.09  \n",
       "4   63.39  48.39  57.19  43.82  12.55  13.94  69  64.76  \n",
       "5   57.21  56.85  53.41  53.05  12.84  12.09  58  54.52  \n",
       "6   54.98  53.88  50.26  49.31  14.06  13.78  56  53.56  \n",
       "7   49.49  66.11  47.97  59.06  11.78  12.40  52  42.31  \n",
       "8   49.57  47.21  44.24  44.17   9.37  13.44  51  54.18  \n",
       "9   39.04  58.48  38.28  50.87  14.64  11.32  51  40.54  \n",
       "10  41.53  62.71  39.24  57.99  13.80   7.85  49  41.53  \n",
       "11  48.84  41.33  42.66  38.29  11.38   9.56  48  58.15  \n",
       "12  52.89   49.5  48.32  45.69  11.66  10.20  46   56.0  \n",
       "13  43.13   53.1  40.85  48.42  12.91   8.93  45   46.2  \n",
       "14  47.35  64.56  44.30  63.04  10.50   9.55  40  43.45  \n",
       "15  44.47  60.69  39.14  59.17  14.03   7.83  39  43.54  \n",
       "16  51.19  71.31  47.38  67.50   8.58  11.34  38  43.86  \n",
       "17  41.11  60.22  39.58  56.42  12.89   9.50  35   38.1  \n",
       "18  39.34  67.53  37.82  62.21  14.27   7.62  23  35.45  \n",
       "19  31.51  80.08  29.23  70.72  15.33   9.35  22  25.04  \n",
       "0   84.32  34.21  76.71  31.92  10.33  22.32  89  83.04  \n",
       "1   76.51  45.16  73.47  41.36   9.55  14.36  84  72.53  \n",
       "2    71.9  50.29  69.62  48.00  11.52  13.66  75   66.4  \n",
       "3   76.98  41.86  72.41  38.05   9.19  10.66  71  71.67  \n",
       "4   80.77  55.77  77.73  52.73   8.83  19.10  67  67.37  \n",
       "5   77.72  50.15  73.16  43.98   8.93  15.01  62  70.86  \n",
       "6    50.0  53.96  46.95  49.24  11.78   9.56  61  54.37  \n",
       "7   57.83  51.66  53.27  48.62  12.65  12.73  60   57.6  \n",
       "8   59.23  51.45  53.14  49.93  11.31   9.78  59  58.26  \n",
       "9   47.98  71.49  41.13  65.31  12.96  10.43  52  39.24  \n",
       "10  40.72  51.63  38.30  48.58  13.05   8.67  45  44.24  \n",
       "11  51.89  54.02  49.61  53.26   9.10  13.33  44  52.28  \n",
       "12  35.13  62.68  32.84  59.64  11.99  11.30  41  35.01  \n",
       "13  51.21  55.31  45.12  50.75  15.96  11.11  40  51.62  \n",
       "14  40.08   67.6  40.08  62.27  15.78   8.81  39  34.73  \n",
       "15  39.57  68.46  35.01  61.61  16.48   8.02  38  35.05  \n",
       "16  48.65  68.58  46.37  64.02  13.65   9.62  36  40.71  \n",
       "17  48.99  59.79  44.33  55.98  12.02  12.67  34  45.07  \n",
       "18   47.8  69.58  45.51  65.01   9.48   9.02  31  40.58  \n",
       "19  39.27   62.9  36.13  60.62  12.37   8.40  25  36.47  \n",
       "0   46.31  24.88  41.46  24.12   8.25  16.57  45  38.79  \n",
       "1   45.34  19.74  41.54  18.22  11.58  20.87  43  43.09  \n",
       "2   39.87  28.86  36.82  28.86  12.43  10.27  43   37.0  \n",
       "3   40.56  19.71  35.99  18.19   9.10  16.76  40  39.24  \n",
       "4   38.99  37.58  38.23  33.78   8.21  11.20  40  31.11  \n",
       "5   29.41  36.49  27.89  33.44  17.47   9.88  34  23.88  \n",
       "6   30.22  36.87  27.92  35.35  12.05  13.21  32  24.79  \n",
       "7   36.65  31.77  33.61  27.97   9.18  17.07  31   30.5  \n",
       "8   44.01  31.27  37.92  28.97   8.88  14.07  31   36.8  \n",
       "9   44.86  36.48  41.81  34.07  10.21  11.64  29  35.13  \n",
       "10  28.56  35.79  27.79  31.98  12.21   9.67  28  22.88  \n",
       "11  34.99   31.5  34.99  27.69  13.49   9.91  27  31.52  \n",
       "12  30.59  34.12  29.83  31.68  10.61   8.43  25  25.43  \n",
       "13  26.57  37.86  25.04  33.29  13.30  13.13  24  23.25  \n",
       "14  27.13  31.45  24.84  29.16  13.35   8.53  21   24.8  \n",
       "15  24.52  32.09  23.76  29.81  17.97  10.24  20  22.98  \n",
       "16  34.77  26.27  32.49  25.51   9.47  11.03  19  30.04  \n",
       "17  24.24  48.66  22.72  47.90  14.79   7.53  16  15.53  \n",
       "18  21.17  39.35  20.41  37.06  13.96  12.88  12  17.71  \n",
       "19  17.31  45.34  15.79  43.81  15.99   8.45   9  12.64  "
      ]
     },
     "execution_count": 10,
     "metadata": {},
     "output_type": "execute_result"
    }
   ],
   "source": [
    "understat_table"
   ]
  },
  {
   "cell_type": "code",
   "execution_count": 11,
   "metadata": {},
   "outputs": [],
   "source": [
    "understat_table.loc[understat_table['Team'] == 'Manchester United', 'Team'] = 'Manchester Utd'\n",
    "understat_table.loc[understat_table['Team'] == 'Newcastle United', 'Team'] = 'Newcastle Utd'\n",
    "understat_table.loc[understat_table['Team'] == 'Tottenham Hotspur', 'Team'] = 'Tottenham'\n",
    "understat_table.loc[understat_table['Team'] == 'Wolverhampton Wanderers', 'Team'] = 'Wolves'\n",
    "understat_table.loc[understat_table['Team'] == 'Nottingham Forest', 'Team'] = \"Nott'ham Forest\"\n",
    "understat_table.loc[understat_table['Team'] == 'Leicester', 'Team'] = 'Leicester City'\n",
    "understat_table.loc[understat_table['Team'] == 'Leeds', 'Team'] = 'Leeds United'\n",
    "understat_table.loc[understat_table['Team'] == 'Sheffield United', 'Team'] = \"Sheffield Utd\"\n",
    "understat_table.loc[understat_table['Team'] == 'Luton', 'Team'] = 'Luton Town'\n",
    "understat_table.loc[understat_table['Team'] == 'Norwich', 'Team'] = 'Norwich City'"
   ]
  },
  {
   "cell_type": "code",
   "execution_count": 12,
   "metadata": {},
   "outputs": [
    {
     "name": "stderr",
     "output_type": "stream",
     "text": [
      "C:\\Users\\ksbha\\AppData\\Local\\Temp\\ipykernel_23380\\614021855.py:1: SettingWithCopyWarning: \n",
      "A value is trying to be set on a copy of a slice from a DataFrame\n",
      "\n",
      "See the caveats in the documentation: https://pandas.pydata.org/pandas-docs/stable/user_guide/indexing.html#returning-a-view-versus-a-copy\n",
      "  understat_table.sort_values(by=['league','season','Team'], ascending=True, inplace=True)\n"
     ]
    }
   ],
   "source": [
    "understat_table.sort_values(by=['league','season','Team'], ascending=True, inplace=True)\n",
    "understat_table.reset_index(drop=True, inplace=True)"
   ]
  },
  {
   "cell_type": "code",
   "execution_count": 13,
   "metadata": {},
   "outputs": [
    {
     "name": "stderr",
     "output_type": "stream",
     "text": [
      "C:\\Users\\ksbha\\AppData\\Local\\Temp\\ipykernel_23380\\2521636844.py:1: SettingWithCopyWarning: \n",
      "A value is trying to be set on a copy of a slice from a DataFrame\n",
      "\n",
      "See the caveats in the documentation: https://pandas.pydata.org/pandas-docs/stable/user_guide/indexing.html#returning-a-view-versus-a-copy\n",
      "  understat_table.rename(columns={'Team':'TEAM_NAME', 'W':'TEAM_WINS', 'D':'TEAM_DRAWS', 'league':'COMPETITION',\n"
     ]
    }
   ],
   "source": [
    "understat_table.rename(columns={'Team':'TEAM_NAME', 'W':'TEAM_WINS', 'D':'TEAM_DRAWS', 'league':'COMPETITION',\n",
    "                                'L': 'TEAM_LOSSES', 'xPTS':'TEAM_XPTS', 'PTS':'TEAM_PTS', 'season':'SEASON',\n",
    "                                'NPxGA':'NPXG_AGAINST', 'xGA':'XG_AGAINST'}, inplace=True)"
   ]
  },
  {
   "cell_type": "code",
   "execution_count": 14,
   "metadata": {},
   "outputs": [],
   "source": [
    "understat_table.set_index(['COMPETITION', 'SEASON', 'TEAM_NAME'], inplace=True)"
   ]
  },
  {
   "cell_type": "code",
   "execution_count": 83,
   "metadata": {},
   "outputs": [
    {
     "data": {
      "text/html": [
       "<pre style=\"white-space:pre;overflow-x:auto;line-height:normal;font-family:Menlo,'DejaVu Sans Mono',consolas,'Courier New',monospace\"><span style=\"color: #7fbfbf; text-decoration-color: #7fbfbf\">[01/16/24 21:56:51] </span><span style=\"color: #000080; text-decoration-color: #000080\">INFO    </span> Saving cached data to C:\\Users\\ksbha\\soccerdata\\data\\FBref               <a href=\"file://d:\\Users\\ksbha\\miniconda3\\envs\\footy\\Lib\\site-packages\\soccerdata\\_common.py\" target=\"_blank\"><span style=\"color: #7f7f7f; text-decoration-color: #7f7f7f\">_common.py</span></a><span style=\"color: #7f7f7f; text-decoration-color: #7f7f7f\">:</span><a href=\"file://d:\\Users\\ksbha\\miniconda3\\envs\\footy\\Lib\\site-packages\\soccerdata\\_common.py#91\" target=\"_blank\"><span style=\"color: #7f7f7f; text-decoration-color: #7f7f7f\">91</span></a>\n",
       "</pre>\n"
      ],
      "text/plain": [
       "\u001b[2;36m[01/16/24 21:56:51]\u001b[0m\u001b[2;36m \u001b[0m\u001b[34mINFO    \u001b[0m Saving cached data to C:\\Users\\ksbha\\soccerdata\\data\\FBref               \u001b]8;id=974791;file://d:\\Users\\ksbha\\miniconda3\\envs\\footy\\Lib\\site-packages\\soccerdata\\_common.py\u001b\\\u001b[2m_common.py\u001b[0m\u001b]8;;\u001b\\\u001b[2m:\u001b[0m\u001b]8;id=817736;file://d:\\Users\\ksbha\\miniconda3\\envs\\footy\\Lib\\site-packages\\soccerdata\\_common.py#91\u001b\\\u001b[2m91\u001b[0m\u001b]8;;\u001b\\\n"
      ]
     },
     "metadata": {},
     "output_type": "display_data"
    },
    {
     "name": "stderr",
     "output_type": "stream",
     "text": [
      "d:\\Users\\ksbha\\miniconda3\\envs\\footy\\Lib\\site-packages\\soccerdata\\fbref.py:674: FutureWarning: The behavior of DataFrame concatenation with empty or all-NA entries is deprecated. In a future version, this will no longer exclude empty or all-NA columns when determining the result dtypes. To retain the old behavior, exclude the relevant entries before the concat operation.\n",
      "  pd.concat(schedule)\n"
     ]
    }
   ],
   "source": [
    "fbref = sd.FBref(leagues=\"ENG-Premier League\", seasons=[\"2122\",\"2223\",\"2324\"])\n",
    "fbref_team_standard = fbref.read_team_season_stats(stat_type='standard')\n",
    "fbref_team_standard_oppo = fbref.read_team_season_stats(stat_type='standard', opponent_stats=True)\n",
    "fbref_team_shooting = fbref.read_team_season_stats(stat_type='shooting')\n",
    "fbref_team_passing = fbref.read_team_season_stats(stat_type='passing')\n",
    "fbref_team_passing_oppo = fbref.read_team_season_stats(stat_type='passing', opponent_stats=True)\n",
    "fbref_team_defense = fbref.read_team_season_stats(stat_type='defense')\n",
    "fbref_team_possession = fbref.read_team_season_stats(stat_type='possession')\n",
    "fbref_team_misc = fbref.read_team_season_stats(stat_type='misc')\n",
    "fbref_keeper = fbref.read_team_season_stats(stat_type='keeper')\n",
    "fbref_schedule = fbref.read_schedule()\n",
    "# fbref_lineups = fbref.read_lineup()"
   ]
  },
  {
   "cell_type": "code",
   "execution_count": 84,
   "metadata": {},
   "outputs": [],
   "source": [
    "fbref_team_standard = fbref_team_standard.rename_axis(index={'team': 'TEAM_NAME', 'season': 'SEASON', 'league': 'COMPETITION'})\n",
    "fbref_team_standard_oppo = fbref_team_standard_oppo.rename_axis(index={'team': 'TEAM_NAME', 'season': 'SEASON', 'league': 'COMPETITION'})\n",
    "fbref_team_shooting = fbref_team_shooting.rename_axis(index={'team': 'TEAM_NAME', 'season': 'SEASON', 'league': 'COMPETITION'})\n",
    "fbref_team_passing = fbref_team_passing.rename_axis(index={'team': 'TEAM_NAME', 'season': 'SEASON', 'league': 'COMPETITION'})\n",
    "fbref_team_passing_oppo = fbref_team_passing_oppo.rename_axis(index={'team': 'TEAM_NAME', 'season': 'SEASON', 'league': 'COMPETITION'})\n",
    "fbref_team_defense = fbref_team_defense.rename_axis(index={'team': 'TEAM_NAME', 'season': 'SEASON', 'league': 'COMPETITION'})\n",
    "fbref_team_possession = fbref_team_possession.rename_axis(index={'team': 'TEAM_NAME', 'season': 'SEASON', 'league': 'COMPETITION'})\n",
    "fbref_team_misc = fbref_team_misc.rename_axis(index={'team': 'TEAM_NAME', 'season': 'SEASON', 'league': 'COMPETITION'})\n",
    "fbref_keeper = fbref_keeper.rename_axis(index={'team': 'TEAM_NAME', 'season': 'SEASON', 'league': 'COMPETITION'})\n",
    "fbref_schedule = fbref_schedule.rename_axis(index={'season': 'SEASON', 'league': 'COMPETITION'})\n",
    "# fbref_lineups = fbref_lineups.rename_axis(index={'season': 'SEASON', 'league': 'COMPETITION'})"
   ]
  },
  {
   "cell_type": "code",
   "execution_count": 85,
   "metadata": {},
   "outputs": [],
   "source": [
    "## Get rid of 'vs ' in the TEAM_NAME column\n",
    "fbref_team_passing_oppo.reset_index(inplace=True)"
   ]
  },
  {
   "cell_type": "code",
   "execution_count": 86,
   "metadata": {},
   "outputs": [],
   "source": [
    "fbref_team_passing_oppo['TEAM_NAME'] = fbref_team_passing_oppo['TEAM_NAME'].str.replace('vs ', '')"
   ]
  },
  {
   "cell_type": "code",
   "execution_count": 87,
   "metadata": {},
   "outputs": [],
   "source": [
    "fbref_team_passing_oppo.set_index(['COMPETITION', 'SEASON', 'TEAM_NAME'], inplace=True)"
   ]
  },
  {
   "cell_type": "code",
   "execution_count": null,
   "metadata": {},
   "outputs": [],
   "source": []
  },
  {
   "cell_type": "code",
   "execution_count": 88,
   "metadata": {},
   "outputs": [],
   "source": [
    "## Possession won is Int, TklW, Recov, Blocks and Aerial Duels Won"
   ]
  },
  {
   "cell_type": "code",
   "execution_count": 89,
   "metadata": {},
   "outputs": [],
   "source": [
    "# Convert the date column to datetime format\n",
    "fbref_schedule['date'] = pd.to_datetime(fbref_schedule['date'])\n",
    "# fbref_schedule = fbref_schedule[fbref_schedule['date'] < datetime.datetime(2023, 12, 20)]\n",
    "\n",
    "# fbref_schedule[fbref_schedule['date'] <= datetime.datetime.now().strftime('%Y-%m-%d')]"
   ]
  },
  {
   "cell_type": "code",
   "execution_count": 90,
   "metadata": {},
   "outputs": [],
   "source": [
    "def make_season_integer(df):\n",
    "    indexes = df.index.names\n",
    "    df = df.reset_index()\n",
    "    df['SEASON'] = df['SEASON'].astype(int)\n",
    "    df = df.set_index(indexes)\n",
    "    return df\n",
    "\n",
    "fbref_team_standard = make_season_integer(fbref_team_standard)\n",
    "fbref_team_standard_oppo = make_season_integer(fbref_team_standard_oppo)\n",
    "fbref_team_shooting = make_season_integer(fbref_team_shooting)\n",
    "fbref_team_passing = make_season_integer(fbref_team_passing)\n",
    "fbref_team_passing_oppo = make_season_integer(fbref_team_passing_oppo)\n",
    "fbref_team_defense = make_season_integer(fbref_team_defense)\n",
    "fbref_team_possession = make_season_integer(fbref_team_possession)\n",
    "fbref_team_misc = make_season_integer(fbref_team_misc)\n",
    "fbref_schedule = make_season_integer(fbref_schedule)\n",
    "fbref_keeper = make_season_integer(fbref_keeper)\n",
    "# fbref_lineups = make_season_integer(fbref_lineups)"
   ]
  },
  {
   "cell_type": "code",
   "execution_count": 91,
   "metadata": {},
   "outputs": [],
   "source": [
    "team_matches_played = fbref_team_standard['Playing Time'].MP\n",
    "team_goals_scored = understat_table.G\n",
    "team_npxG_90 = fbref_team_standard['Per 90 Minutes'].npxG\n",
    "team_goals_conceded = understat_table.GA\n",
    "team_xG_against_90 = fbref_team_standard_oppo['Per 90 Minutes'].xG\n",
    "team_shots = fbref_team_shooting['Standard'].Sh\n",
    "team_shotsOT = fbref_team_shooting['Standard'].SoT\n",
    "team_pass_completed = fbref_team_passing[\"Total\"].Cmp\n",
    "team_pass_attempted = fbref_team_passing[\"Total\"].Att\n",
    "team_tackles = fbref_team_defense.Tackles.Tkl\n",
    "team_tackles_won = fbref_team_defense.Tackles.TklW\n",
    "team_takeons_attempted = fbref_team_possession['Take-Ons'].Att\n",
    "team_takeons_completed = fbref_team_possession['Take-Ons'].Succ\n",
    "team_crossesintoPA = fbref_team_passing['CrsPA']\n",
    "team_fouls_against = fbref_team_misc['Performance']['Fld']\n",
    "team_fouls_made = fbref_team_misc['Performance']['Fls']\n",
    "team_interceptions = fbref_team_defense['Int']\n",
    "team_blocks_shots = fbref_team_defense['Blocks'].Sh\n",
    "team_blocks_pass = fbref_team_defense['Blocks'].Pass\n",
    "team_clearances = fbref_team_defense.Clr\n",
    "team_aerials_won = fbref_team_misc['Aerial Duels'].Won\n",
    "team_aerials_lost = fbref_team_misc['Aerial Duels'].Lost"
   ]
  },
  {
   "cell_type": "code",
   "execution_count": 92,
   "metadata": {},
   "outputs": [],
   "source": [
    "team_recoveries= fbref_team_misc['Performance']['Recov']"
   ]
  },
  {
   "cell_type": "code",
   "execution_count": 101,
   "metadata": {},
   "outputs": [],
   "source": [
    "teams_poss_won = team_interceptions + team_tackles_won + team_recoveries + team_blocks_shots + \\\n",
    "    team_blocks_pass + team_aerials_won\n",
    "team_OPPDA = understat_table['OPPDA']\n",
    "team_final_3rd_passes_against =  fbref_team_passing_oppo['1/3']\n",
    "team_cleansheets = fbref_keeper['Performance']['CS']"
   ]
  },
  {
   "cell_type": "code",
   "execution_count": null,
   "metadata": {},
   "outputs": [],
   "source": []
  },
  {
   "cell_type": "code",
   "execution_count": 103,
   "metadata": {},
   "outputs": [
    {
     "name": "stderr",
     "output_type": "stream",
     "text": [
      "C:\\Users\\ksbha\\AppData\\Local\\Temp\\ipykernel_23380\\2026419047.py:3: PerformanceWarning: dropping on a non-lexsorted multi-index without a level parameter may impact performance.\n",
      "  team_names.drop(columns=['url'], inplace=True)\n"
     ]
    }
   ],
   "source": [
    "team_names = fbref_team_standard.reset_index()[['TEAM_NAME','url']]\n",
    "team_names['TEAM_FBREF_ID'] = team_names['url'].apply(lambda x: x.split('/')[3])      ## Extracting team_id from URL\n",
    "team_names.drop(columns=['url'], inplace=True)\n",
    "team_names.columns = team_names.columns.droplevel(1)"
   ]
  },
  {
   "cell_type": "code",
   "execution_count": 104,
   "metadata": {},
   "outputs": [],
   "source": [
    "team_names['TEAM_FBREF_ID'] = team_names['TEAM_FBREF_ID'].astype('string')"
   ]
  },
  {
   "cell_type": "code",
   "execution_count": 105,
   "metadata": {},
   "outputs": [],
   "source": [
    "team_names.drop_duplicates(inplace=True)"
   ]
  },
  {
   "cell_type": "code",
   "execution_count": null,
   "metadata": {},
   "outputs": [],
   "source": []
  },
  {
   "cell_type": "code",
   "execution_count": 107,
   "metadata": {},
   "outputs": [],
   "source": [
    "SNOWFLAKE_USER = 'kbharaj3'\n",
    "SNOWFLAKE_PASSWORD = 'Snowfl@key0014'\n",
    "SNOWFLAKE_ACCOUNT = 'qx25653.ca-central-1.aws'\n",
    "SNOWFLAKE_WAREHOUSE = 'FOOTY_STORE'\n",
    "SNOWFLAKE_DATABASE = 'GEGENSTATS'\n",
    "SNOWFLAKE_SCHEMA = 'TABLES'"
   ]
  },
  {
   "cell_type": "code",
   "execution_count": 108,
   "metadata": {},
   "outputs": [
    {
     "data": {
      "text/html": [
       "<pre style=\"white-space:pre;overflow-x:auto;line-height:normal;font-family:Menlo,'DejaVu Sans Mono',consolas,'Courier New',monospace\"><span style=\"color: #7fbfbf; text-decoration-color: #7fbfbf\">[01/16/24 22:49:58] </span><span style=\"color: #000080; text-decoration-color: #000080\">INFO    </span> Snowflake Connector for Python Version: <span style=\"color: #008080; text-decoration-color: #008080; font-weight: bold\">3.3</span>.<span style=\"color: #008080; text-decoration-color: #008080; font-weight: bold\">1</span>, Python Version:       <a href=\"file://d:\\Users\\ksbha\\miniconda3\\envs\\footy\\Lib\\site-packages\\snowflake\\connector\\connection.py\" target=\"_blank\"><span style=\"color: #7f7f7f; text-decoration-color: #7f7f7f\">connection.py</span></a><span style=\"color: #7f7f7f; text-decoration-color: #7f7f7f\">:</span><a href=\"file://d:\\Users\\ksbha\\miniconda3\\envs\\footy\\Lib\\site-packages\\snowflake\\connector\\connection.py#334\" target=\"_blank\"><span style=\"color: #7f7f7f; text-decoration-color: #7f7f7f\">334</span></a>\n",
       "<span style=\"color: #7fbfbf; text-decoration-color: #7fbfbf\">                    </span>         <span style=\"color: #008080; text-decoration-color: #008080; font-weight: bold\">3.11</span>.<span style=\"color: #008080; text-decoration-color: #008080; font-weight: bold\">5</span>, Platform: Windows-<span style=\"color: #008080; text-decoration-color: #008080; font-weight: bold\">10</span>-<span style=\"color: #008080; text-decoration-color: #008080; font-weight: bold\">10.0</span>.<span style=\"color: #008080; text-decoration-color: #008080; font-weight: bold\">22000</span>-SP0                          <span style=\"color: #7f7f7f; text-decoration-color: #7f7f7f\">                 </span>\n",
       "</pre>\n"
      ],
      "text/plain": [
       "\u001b[2;36m[01/16/24 22:49:58]\u001b[0m\u001b[2;36m \u001b[0m\u001b[34mINFO    \u001b[0m Snowflake Connector for Python Version: \u001b[1;36m3.3\u001b[0m.\u001b[1;36m1\u001b[0m, Python Version:       \u001b]8;id=243779;file://d:\\Users\\ksbha\\miniconda3\\envs\\footy\\Lib\\site-packages\\snowflake\\connector\\connection.py\u001b\\\u001b[2mconnection.py\u001b[0m\u001b]8;;\u001b\\\u001b[2m:\u001b[0m\u001b]8;id=250976;file://d:\\Users\\ksbha\\miniconda3\\envs\\footy\\Lib\\site-packages\\snowflake\\connector\\connection.py#334\u001b\\\u001b[2m334\u001b[0m\u001b]8;;\u001b\\\n",
       "\u001b[2;36m                    \u001b[0m         \u001b[1;36m3.11\u001b[0m.\u001b[1;36m5\u001b[0m, Platform: Windows-\u001b[1;36m10\u001b[0m-\u001b[1;36m10.0\u001b[0m.\u001b[1;36m22000\u001b[0m-SP0                          \u001b[2m                 \u001b[0m\n"
      ]
     },
     "metadata": {},
     "output_type": "display_data"
    },
    {
     "data": {
      "text/html": [
       "<pre style=\"white-space:pre;overflow-x:auto;line-height:normal;font-family:Menlo,'DejaVu Sans Mono',consolas,'Courier New',monospace\"><span style=\"color: #7fbfbf; text-decoration-color: #7fbfbf\">                    </span><span style=\"color: #000080; text-decoration-color: #000080\">INFO    </span> This connection is in OCSP Fail Open Mode. TLS Certificates would   <a href=\"file://d:\\Users\\ksbha\\miniconda3\\envs\\footy\\Lib\\site-packages\\snowflake\\connector\\connection.py\" target=\"_blank\"><span style=\"color: #7f7f7f; text-decoration-color: #7f7f7f\">connection.py</span></a><span style=\"color: #7f7f7f; text-decoration-color: #7f7f7f\">:</span><a href=\"file://d:\\Users\\ksbha\\miniconda3\\envs\\footy\\Lib\\site-packages\\snowflake\\connector\\connection.py#1103\" target=\"_blank\"><span style=\"color: #7f7f7f; text-decoration-color: #7f7f7f\">1103</span></a>\n",
       "<span style=\"color: #7fbfbf; text-decoration-color: #7fbfbf\">                    </span>         be checked for validity and revocation status. Any other            <span style=\"color: #7f7f7f; text-decoration-color: #7f7f7f\">                  </span>\n",
       "<span style=\"color: #7fbfbf; text-decoration-color: #7fbfbf\">                    </span>         Certificate Revocation related exceptions or OCSP Responder         <span style=\"color: #7f7f7f; text-decoration-color: #7f7f7f\">                  </span>\n",
       "<span style=\"color: #7fbfbf; text-decoration-color: #7fbfbf\">                    </span>         failures would be disregarded in favor of connectivity.             <span style=\"color: #7f7f7f; text-decoration-color: #7f7f7f\">                  </span>\n",
       "</pre>\n"
      ],
      "text/plain": [
       "\u001b[2;36m                   \u001b[0m\u001b[2;36m \u001b[0m\u001b[34mINFO    \u001b[0m This connection is in OCSP Fail Open Mode. TLS Certificates would   \u001b]8;id=588083;file://d:\\Users\\ksbha\\miniconda3\\envs\\footy\\Lib\\site-packages\\snowflake\\connector\\connection.py\u001b\\\u001b[2mconnection.py\u001b[0m\u001b]8;;\u001b\\\u001b[2m:\u001b[0m\u001b]8;id=853086;file://d:\\Users\\ksbha\\miniconda3\\envs\\footy\\Lib\\site-packages\\snowflake\\connector\\connection.py#1103\u001b\\\u001b[2m1103\u001b[0m\u001b]8;;\u001b\\\n",
       "\u001b[2;36m                    \u001b[0m         be checked for validity and revocation status. Any other            \u001b[2m                  \u001b[0m\n",
       "\u001b[2;36m                    \u001b[0m         Certificate Revocation related exceptions or OCSP Responder         \u001b[2m                  \u001b[0m\n",
       "\u001b[2;36m                    \u001b[0m         failures would be disregarded in favor of connectivity.             \u001b[2m                  \u001b[0m\n"
      ]
     },
     "metadata": {},
     "output_type": "display_data"
    },
    {
     "data": {
      "text/html": [
       "<pre style=\"white-space:pre;overflow-x:auto;line-height:normal;font-family:Menlo,'DejaVu Sans Mono',consolas,'Courier New',monospace\"><span style=\"color: #7fbfbf; text-decoration-color: #7fbfbf\">                    </span><span style=\"color: #000080; text-decoration-color: #000080\">INFO    </span> Setting use_openssl_only mode to <span style=\"color: #ff0000; text-decoration-color: #ff0000; font-style: italic\">False</span>                              <a href=\"file://d:\\Users\\ksbha\\miniconda3\\envs\\footy\\Lib\\site-packages\\snowflake\\connector\\connection.py\" target=\"_blank\"><span style=\"color: #7f7f7f; text-decoration-color: #7f7f7f\">connection.py</span></a><span style=\"color: #7f7f7f; text-decoration-color: #7f7f7f\">:</span><a href=\"file://d:\\Users\\ksbha\\miniconda3\\envs\\footy\\Lib\\site-packages\\snowflake\\connector\\connection.py#1121\" target=\"_blank\"><span style=\"color: #7f7f7f; text-decoration-color: #7f7f7f\">1121</span></a>\n",
       "</pre>\n"
      ],
      "text/plain": [
       "\u001b[2;36m                   \u001b[0m\u001b[2;36m \u001b[0m\u001b[34mINFO    \u001b[0m Setting use_openssl_only mode to \u001b[3;91mFalse\u001b[0m                              \u001b]8;id=590647;file://d:\\Users\\ksbha\\miniconda3\\envs\\footy\\Lib\\site-packages\\snowflake\\connector\\connection.py\u001b\\\u001b[2mconnection.py\u001b[0m\u001b]8;;\u001b\\\u001b[2m:\u001b[0m\u001b]8;id=360753;file://d:\\Users\\ksbha\\miniconda3\\envs\\footy\\Lib\\site-packages\\snowflake\\connector\\connection.py#1121\u001b\\\u001b[2m1121\u001b[0m\u001b]8;;\u001b\\\n"
      ]
     },
     "metadata": {},
     "output_type": "display_data"
    }
   ],
   "source": [
    "conn = snowflake.connector.connect(\n",
    "    user=SNOWFLAKE_USER,\n",
    "    password=SNOWFLAKE_PASSWORD,\n",
    "    account=SNOWFLAKE_ACCOUNT,\n",
    "    warehouse=SNOWFLAKE_WAREHOUSE,\n",
    "    database=SNOWFLAKE_DATABASE,\n",
    "    schema=SNOWFLAKE_SCHEMA\n",
    "    )"
   ]
  },
  {
   "cell_type": "code",
   "execution_count": 109,
   "metadata": {},
   "outputs": [],
   "source": [
    "cur = conn.cursor()"
   ]
  },
  {
   "cell_type": "code",
   "execution_count": 110,
   "metadata": {},
   "outputs": [
    {
     "data": {
      "text/html": [
       "<pre style=\"white-space:pre;overflow-x:auto;line-height:normal;font-family:Menlo,'DejaVu Sans Mono',consolas,'Courier New',monospace\"><span style=\"color: #7fbfbf; text-decoration-color: #7fbfbf\">[01/16/24 22:50:07] </span><span style=\"color: #000080; text-decoration-color: #000080\">INFO    </span> query: <span style=\"font-weight: bold\">[</span>SELECT * FROM TEAMS<span style=\"font-weight: bold\">]</span>                                             <a href=\"file://d:\\Users\\ksbha\\miniconda3\\envs\\footy\\Lib\\site-packages\\snowflake\\connector\\cursor.py\" target=\"_blank\"><span style=\"color: #7f7f7f; text-decoration-color: #7f7f7f\">cursor.py</span></a><span style=\"color: #7f7f7f; text-decoration-color: #7f7f7f\">:</span><a href=\"file://d:\\Users\\ksbha\\miniconda3\\envs\\footy\\Lib\\site-packages\\snowflake\\connector\\cursor.py#833\" target=\"_blank\"><span style=\"color: #7f7f7f; text-decoration-color: #7f7f7f\">833</span></a>\n",
       "</pre>\n"
      ],
      "text/plain": [
       "\u001b[2;36m[01/16/24 22:50:07]\u001b[0m\u001b[2;36m \u001b[0m\u001b[34mINFO    \u001b[0m query: \u001b[1m[\u001b[0mSELECT * FROM TEAMS\u001b[1m]\u001b[0m                                             \u001b]8;id=758731;file://d:\\Users\\ksbha\\miniconda3\\envs\\footy\\Lib\\site-packages\\snowflake\\connector\\cursor.py\u001b\\\u001b[2mcursor.py\u001b[0m\u001b]8;;\u001b\\\u001b[2m:\u001b[0m\u001b]8;id=947767;file://d:\\Users\\ksbha\\miniconda3\\envs\\footy\\Lib\\site-packages\\snowflake\\connector\\cursor.py#833\u001b\\\u001b[2m833\u001b[0m\u001b]8;;\u001b\\\n"
      ]
     },
     "metadata": {},
     "output_type": "display_data"
    },
    {
     "data": {
      "text/html": [
       "<pre style=\"white-space:pre;overflow-x:auto;line-height:normal;font-family:Menlo,'DejaVu Sans Mono',consolas,'Courier New',monospace\"><span style=\"color: #7fbfbf; text-decoration-color: #7fbfbf\">[01/16/24 22:50:08] </span><span style=\"color: #000080; text-decoration-color: #000080\">INFO    </span> query execution done                                                     <a href=\"file://d:\\Users\\ksbha\\miniconda3\\envs\\footy\\Lib\\site-packages\\snowflake\\connector\\cursor.py\" target=\"_blank\"><span style=\"color: #7f7f7f; text-decoration-color: #7f7f7f\">cursor.py</span></a><span style=\"color: #7f7f7f; text-decoration-color: #7f7f7f\">:</span><a href=\"file://d:\\Users\\ksbha\\miniconda3\\envs\\footy\\Lib\\site-packages\\snowflake\\connector\\cursor.py#846\" target=\"_blank\"><span style=\"color: #7f7f7f; text-decoration-color: #7f7f7f\">846</span></a>\n",
       "</pre>\n"
      ],
      "text/plain": [
       "\u001b[2;36m[01/16/24 22:50:08]\u001b[0m\u001b[2;36m \u001b[0m\u001b[34mINFO    \u001b[0m query execution done                                                     \u001b]8;id=950521;file://d:\\Users\\ksbha\\miniconda3\\envs\\footy\\Lib\\site-packages\\snowflake\\connector\\cursor.py\u001b\\\u001b[2mcursor.py\u001b[0m\u001b]8;;\u001b\\\u001b[2m:\u001b[0m\u001b]8;id=365267;file://d:\\Users\\ksbha\\miniconda3\\envs\\footy\\Lib\\site-packages\\snowflake\\connector\\cursor.py#846\u001b\\\u001b[2m846\u001b[0m\u001b]8;;\u001b\\\n"
      ]
     },
     "metadata": {},
     "output_type": "display_data"
    },
    {
     "data": {
      "text/html": [
       "<pre style=\"white-space:pre;overflow-x:auto;line-height:normal;font-family:Menlo,'DejaVu Sans Mono',consolas,'Courier New',monospace\"><span style=\"color: #7fbfbf; text-decoration-color: #7fbfbf\">                    </span><span style=\"color: #000080; text-decoration-color: #000080\">INFO    </span> Number of results in first chunk: <span style=\"color: #008080; text-decoration-color: #008080; font-weight: bold\">25</span>                                     <a href=\"file://d:\\Users\\ksbha\\miniconda3\\envs\\footy\\Lib\\site-packages\\snowflake\\connector\\cursor.py\" target=\"_blank\"><span style=\"color: #7f7f7f; text-decoration-color: #7f7f7f\">cursor.py</span></a><span style=\"color: #7f7f7f; text-decoration-color: #7f7f7f\">:</span><a href=\"file://d:\\Users\\ksbha\\miniconda3\\envs\\footy\\Lib\\site-packages\\snowflake\\connector\\cursor.py#988\" target=\"_blank\"><span style=\"color: #7f7f7f; text-decoration-color: #7f7f7f\">988</span></a>\n",
       "</pre>\n"
      ],
      "text/plain": [
       "\u001b[2;36m                   \u001b[0m\u001b[2;36m \u001b[0m\u001b[34mINFO    \u001b[0m Number of results in first chunk: \u001b[1;36m25\u001b[0m                                     \u001b]8;id=616146;file://d:\\Users\\ksbha\\miniconda3\\envs\\footy\\Lib\\site-packages\\snowflake\\connector\\cursor.py\u001b\\\u001b[2mcursor.py\u001b[0m\u001b]8;;\u001b\\\u001b[2m:\u001b[0m\u001b]8;id=670320;file://d:\\Users\\ksbha\\miniconda3\\envs\\footy\\Lib\\site-packages\\snowflake\\connector\\cursor.py#988\u001b\\\u001b[2m988\u001b[0m\u001b]8;;\u001b\\\n"
      ]
     },
     "metadata": {},
     "output_type": "display_data"
    }
   ],
   "source": [
    "cur.execute('SELECT * FROM TEAMS')\n",
    "team_rows = cur.fetchall()\n",
    "column_names = [desc[0] for desc in cur.description]\n",
    "curr_team_names = pd.DataFrame(team_rows, columns=column_names)"
   ]
  },
  {
   "cell_type": "code",
   "execution_count": 111,
   "metadata": {},
   "outputs": [
    {
     "data": {
      "text/html": [
       "<div>\n",
       "<style scoped>\n",
       "    .dataframe tbody tr th:only-of-type {\n",
       "        vertical-align: middle;\n",
       "    }\n",
       "\n",
       "    .dataframe tbody tr th {\n",
       "        vertical-align: top;\n",
       "    }\n",
       "\n",
       "    .dataframe thead th {\n",
       "        text-align: right;\n",
       "    }\n",
       "</style>\n",
       "<table border=\"1\" class=\"dataframe\">\n",
       "  <thead>\n",
       "    <tr style=\"text-align: right;\">\n",
       "      <th></th>\n",
       "      <th>TEAM_NAME</th>\n",
       "      <th>TEAM_FBREF_ID</th>\n",
       "    </tr>\n",
       "  </thead>\n",
       "  <tbody>\n",
       "  </tbody>\n",
       "</table>\n",
       "</div>"
      ],
      "text/plain": [
       "Empty DataFrame\n",
       "Columns: [TEAM_NAME, TEAM_FBREF_ID]\n",
       "Index: []"
      ]
     },
     "execution_count": 111,
     "metadata": {},
     "output_type": "execute_result"
    }
   ],
   "source": [
    "## Below (if not blank) are the teams you need to create LOGOS for\n",
    "team_names_not_in_curr = team_names[~team_names['TEAM_NAME'].isin(curr_team_names['TEAM_NAME'])]\n",
    "team_names_not_in_curr"
   ]
  },
  {
   "cell_type": "code",
   "execution_count": 29,
   "metadata": {},
   "outputs": [],
   "source": [
    "def upsert_to_snowflake(table_name, dataframe, primary_keys):\n",
    "    if isinstance(primary_keys, str):\n",
    "        primary_keys = [primary_keys]\n",
    "\n",
    "    temp_table_name = f\"{table_name}_TEMP\"\n",
    "    success, nchunks, nrows, _ = write_pandas(conn, dataframe, temp_table_name, auto_create_table=True)\n",
    "\n",
    "    on_condition = ' AND '.join([f\"{table_name}.{pk} = {temp_table_name}.{pk}\" for pk in primary_keys])\n",
    "\n",
    "    update_columns = [col for col in dataframe.columns if col not in primary_keys]\n",
    "    update_sql = ', '.join([f\"{table_name}.{col} = {temp_table_name}.{col}\" for col in update_columns])\n",
    "\n",
    "    merge_sql = f\"\"\"\n",
    "    MERGE INTO {table_name} USING {temp_table_name}\n",
    "    ON {on_condition}\n",
    "    \"\"\"\n",
    "\n",
    "    if update_columns:\n",
    "        merge_sql += f\"\"\"\n",
    "        WHEN MATCHED THEN\n",
    "            UPDATE SET\n",
    "                {update_sql}\n",
    "        \"\"\"\n",
    "\n",
    "    merge_sql += f\"\"\"\n",
    "    WHEN NOT MATCHED THEN\n",
    "        INSERT ({', '.join(dataframe.columns)})\n",
    "        VALUES ({', '.join([f\"{temp_table_name}.{col}\" for col in dataframe.columns])})\n",
    "    \"\"\"\n",
    "\n",
    "    cur.execute(merge_sql)\n",
    "    cur.execute(f\"DROP TABLE IF EXISTS {temp_table_name}\")\n",
    "\n",
    "    print(f\"Upsert completed. {nrows} rows processed.\")"
   ]
  },
  {
   "cell_type": "code",
   "execution_count": 33,
   "metadata": {},
   "outputs": [
    {
     "data": {
      "text/html": [
       "<pre style=\"white-space:pre;overflow-x:auto;line-height:normal;font-family:Menlo,'DejaVu Sans Mono',consolas,'Courier New',monospace\"><span style=\"color: #7fbfbf; text-decoration-color: #7fbfbf\">[12/21/23 17:50:11] </span><span style=\"color: #000080; text-decoration-color: #000080\">INFO    </span> query: <span style=\"font-weight: bold\">[</span>CREATE TEMP STAGE <span style=\"color: #800080; text-decoration-color: #800080\">/</span>*                                             <a href=\"file://d:\\Users\\ksbha\\miniconda3\\envs\\footy\\Lib\\site-packages\\snowflake\\connector\\cursor.py\" target=\"_blank\"><span style=\"color: #7f7f7f; text-decoration-color: #7f7f7f\">cursor.py</span></a><span style=\"color: #7f7f7f; text-decoration-color: #7f7f7f\">:</span><a href=\"file://d:\\Users\\ksbha\\miniconda3\\envs\\footy\\Lib\\site-packages\\snowflake\\connector\\cursor.py#833\" target=\"_blank\"><span style=\"color: #7f7f7f; text-decoration-color: #7f7f7f\">833</span></a>\n",
       "<span style=\"color: #7fbfbf; text-decoration-color: #7fbfbf\">                    </span>         Python:<span style=\"color: #800080; text-decoration-color: #800080; font-weight: bold\">snowflake.connector.pandas_tools.write_pandas</span><span style=\"font-weight: bold\">()</span> *<span style=\"color: #800080; text-decoration-color: #800080\">/</span> \"<span style=\"color: #808000; text-decoration-color: #808000\">...</span><span style=\"font-weight: bold\">]</span>          <span style=\"color: #7f7f7f; text-decoration-color: #7f7f7f\">             </span>\n",
       "</pre>\n"
      ],
      "text/plain": [
       "\u001b[2;36m[12/21/23 17:50:11]\u001b[0m\u001b[2;36m \u001b[0m\u001b[34mINFO    \u001b[0m query: \u001b[1m[\u001b[0mCREATE TEMP STAGE \u001b[35m/\u001b[0m*                                             \u001b]8;id=137620;file://d:\\Users\\ksbha\\miniconda3\\envs\\footy\\Lib\\site-packages\\snowflake\\connector\\cursor.py\u001b\\\u001b[2mcursor.py\u001b[0m\u001b]8;;\u001b\\\u001b[2m:\u001b[0m\u001b]8;id=448344;file://d:\\Users\\ksbha\\miniconda3\\envs\\footy\\Lib\\site-packages\\snowflake\\connector\\cursor.py#833\u001b\\\u001b[2m833\u001b[0m\u001b]8;;\u001b\\\n",
       "\u001b[2;36m                    \u001b[0m         Python:\u001b[1;35msnowflake.connector.pandas_tools.write_pandas\u001b[0m\u001b[1m(\u001b[0m\u001b[1m)\u001b[0m *\u001b[35m/\u001b[0m \"\u001b[33m...\u001b[0m\u001b[1m]\u001b[0m          \u001b[2m             \u001b[0m\n"
      ]
     },
     "metadata": {},
     "output_type": "display_data"
    },
    {
     "data": {
      "text/html": [
       "<pre style=\"white-space:pre;overflow-x:auto;line-height:normal;font-family:Menlo,'DejaVu Sans Mono',consolas,'Courier New',monospace\"><span style=\"color: #7fbfbf; text-decoration-color: #7fbfbf\">                    </span><span style=\"color: #000080; text-decoration-color: #000080\">INFO    </span> query execution done                                                     <a href=\"file://d:\\Users\\ksbha\\miniconda3\\envs\\footy\\Lib\\site-packages\\snowflake\\connector\\cursor.py\" target=\"_blank\"><span style=\"color: #7f7f7f; text-decoration-color: #7f7f7f\">cursor.py</span></a><span style=\"color: #7f7f7f; text-decoration-color: #7f7f7f\">:</span><a href=\"file://d:\\Users\\ksbha\\miniconda3\\envs\\footy\\Lib\\site-packages\\snowflake\\connector\\cursor.py#846\" target=\"_blank\"><span style=\"color: #7f7f7f; text-decoration-color: #7f7f7f\">846</span></a>\n",
       "</pre>\n"
      ],
      "text/plain": [
       "\u001b[2;36m                   \u001b[0m\u001b[2;36m \u001b[0m\u001b[34mINFO    \u001b[0m query execution done                                                     \u001b]8;id=300345;file://d:\\Users\\ksbha\\miniconda3\\envs\\footy\\Lib\\site-packages\\snowflake\\connector\\cursor.py\u001b\\\u001b[2mcursor.py\u001b[0m\u001b]8;;\u001b\\\u001b[2m:\u001b[0m\u001b]8;id=533613;file://d:\\Users\\ksbha\\miniconda3\\envs\\footy\\Lib\\site-packages\\snowflake\\connector\\cursor.py#846\u001b\\\u001b[2m846\u001b[0m\u001b]8;;\u001b\\\n"
      ]
     },
     "metadata": {},
     "output_type": "display_data"
    },
    {
     "data": {
      "text/html": [
       "<pre style=\"white-space:pre;overflow-x:auto;line-height:normal;font-family:Menlo,'DejaVu Sans Mono',consolas,'Courier New',monospace\"><span style=\"color: #7fbfbf; text-decoration-color: #7fbfbf\">                    </span><span style=\"color: #000080; text-decoration-color: #000080\">INFO    </span> Number of results in first chunk: <span style=\"color: #008080; text-decoration-color: #008080; font-weight: bold\">1</span>                                      <a href=\"file://d:\\Users\\ksbha\\miniconda3\\envs\\footy\\Lib\\site-packages\\snowflake\\connector\\cursor.py\" target=\"_blank\"><span style=\"color: #7f7f7f; text-decoration-color: #7f7f7f\">cursor.py</span></a><span style=\"color: #7f7f7f; text-decoration-color: #7f7f7f\">:</span><a href=\"file://d:\\Users\\ksbha\\miniconda3\\envs\\footy\\Lib\\site-packages\\snowflake\\connector\\cursor.py#988\" target=\"_blank\"><span style=\"color: #7f7f7f; text-decoration-color: #7f7f7f\">988</span></a>\n",
       "</pre>\n"
      ],
      "text/plain": [
       "\u001b[2;36m                   \u001b[0m\u001b[2;36m \u001b[0m\u001b[34mINFO    \u001b[0m Number of results in first chunk: \u001b[1;36m1\u001b[0m                                      \u001b]8;id=330479;file://d:\\Users\\ksbha\\miniconda3\\envs\\footy\\Lib\\site-packages\\snowflake\\connector\\cursor.py\u001b\\\u001b[2mcursor.py\u001b[0m\u001b]8;;\u001b\\\u001b[2m:\u001b[0m\u001b]8;id=346518;file://d:\\Users\\ksbha\\miniconda3\\envs\\footy\\Lib\\site-packages\\snowflake\\connector\\cursor.py#988\u001b\\\u001b[2m988\u001b[0m\u001b]8;;\u001b\\\n"
      ]
     },
     "metadata": {},
     "output_type": "display_data"
    },
    {
     "data": {
      "text/html": [
       "<pre style=\"white-space:pre;overflow-x:auto;line-height:normal;font-family:Menlo,'DejaVu Sans Mono',consolas,'Courier New',monospace\"><span style=\"color: #7fbfbf; text-decoration-color: #7fbfbf\">                    </span><span style=\"color: #000080; text-decoration-color: #000080\">INFO    </span> query: <span style=\"font-weight: bold\">[</span><span style=\"color: #808000; text-decoration-color: #808000; font-weight: bold\">PUT</span> <span style=\"color: #800080; text-decoration-color: #800080\">/</span>* Python:<span style=\"color: #800080; text-decoration-color: #800080; font-weight: bold\">snowflake.connector.pandas_tools.write_pandas</span><span style=\"font-weight: bold\">()</span> *<span style=\"color: #800080; text-decoration-color: #800080\">/</span> <a href=\"file://d:\\Users\\ksbha\\miniconda3\\envs\\footy\\Lib\\site-packages\\snowflake\\connector\\cursor.py\" target=\"_blank\"><span style=\"color: #7f7f7f; text-decoration-color: #7f7f7f\">cursor.py</span></a><span style=\"color: #7f7f7f; text-decoration-color: #7f7f7f\">:</span><a href=\"file://d:\\Users\\ksbha\\miniconda3\\envs\\footy\\Lib\\site-packages\\snowflake\\connector\\cursor.py#833\" target=\"_blank\"><span style=\"color: #7f7f7f; text-decoration-color: #7f7f7f\">833</span></a>\n",
       "<span style=\"color: #7fbfbf; text-decoration-color: #7fbfbf\">                    </span>         '<span style=\"color: #0000ff; text-decoration-color: #0000ff; text-decoration: underline\">file://C:</span>\\\\Use<span style=\"color: #808000; text-decoration-color: #808000\">...</span><span style=\"font-weight: bold\">]</span>                                                      <span style=\"color: #7f7f7f; text-decoration-color: #7f7f7f\">             </span>\n",
       "</pre>\n"
      ],
      "text/plain": [
       "\u001b[2;36m                   \u001b[0m\u001b[2;36m \u001b[0m\u001b[34mINFO    \u001b[0m query: \u001b[1m[\u001b[0m\u001b[1;33mPUT\u001b[0m \u001b[35m/\u001b[0m* Python:\u001b[1;35msnowflake.connector.pandas_tools.write_pandas\u001b[0m\u001b[1m(\u001b[0m\u001b[1m)\u001b[0m *\u001b[35m/\u001b[0m \u001b]8;id=240999;file://d:\\Users\\ksbha\\miniconda3\\envs\\footy\\Lib\\site-packages\\snowflake\\connector\\cursor.py\u001b\\\u001b[2mcursor.py\u001b[0m\u001b]8;;\u001b\\\u001b[2m:\u001b[0m\u001b]8;id=988826;file://d:\\Users\\ksbha\\miniconda3\\envs\\footy\\Lib\\site-packages\\snowflake\\connector\\cursor.py#833\u001b\\\u001b[2m833\u001b[0m\u001b]8;;\u001b\\\n",
       "\u001b[2;36m                    \u001b[0m         '\u001b[4;94mfile://C:\u001b[0m\\\\Use\u001b[33m...\u001b[0m\u001b[1m]\u001b[0m                                                      \u001b[2m             \u001b[0m\n"
      ]
     },
     "metadata": {},
     "output_type": "display_data"
    },
    {
     "data": {
      "text/html": [
       "<pre style=\"white-space:pre;overflow-x:auto;line-height:normal;font-family:Menlo,'DejaVu Sans Mono',consolas,'Courier New',monospace\"><span style=\"color: #7fbfbf; text-decoration-color: #7fbfbf\">[12/21/23 17:50:12] </span><span style=\"color: #000080; text-decoration-color: #000080\">INFO    </span> query execution done                                                     <a href=\"file://d:\\Users\\ksbha\\miniconda3\\envs\\footy\\Lib\\site-packages\\snowflake\\connector\\cursor.py\" target=\"_blank\"><span style=\"color: #7f7f7f; text-decoration-color: #7f7f7f\">cursor.py</span></a><span style=\"color: #7f7f7f; text-decoration-color: #7f7f7f\">:</span><a href=\"file://d:\\Users\\ksbha\\miniconda3\\envs\\footy\\Lib\\site-packages\\snowflake\\connector\\cursor.py#846\" target=\"_blank\"><span style=\"color: #7f7f7f; text-decoration-color: #7f7f7f\">846</span></a>\n",
       "</pre>\n"
      ],
      "text/plain": [
       "\u001b[2;36m[12/21/23 17:50:12]\u001b[0m\u001b[2;36m \u001b[0m\u001b[34mINFO    \u001b[0m query execution done                                                     \u001b]8;id=294637;file://d:\\Users\\ksbha\\miniconda3\\envs\\footy\\Lib\\site-packages\\snowflake\\connector\\cursor.py\u001b\\\u001b[2mcursor.py\u001b[0m\u001b]8;;\u001b\\\u001b[2m:\u001b[0m\u001b]8;id=939594;file://d:\\Users\\ksbha\\miniconda3\\envs\\footy\\Lib\\site-packages\\snowflake\\connector\\cursor.py#846\u001b\\\u001b[2m846\u001b[0m\u001b]8;;\u001b\\\n"
      ]
     },
     "metadata": {},
     "output_type": "display_data"
    },
    {
     "data": {
      "text/html": [
       "<pre style=\"white-space:pre;overflow-x:auto;line-height:normal;font-family:Menlo,'DejaVu Sans Mono',consolas,'Courier New',monospace\"><span style=\"color: #7fbfbf; text-decoration-color: #7fbfbf\">                    </span><span style=\"color: #000080; text-decoration-color: #000080\">INFO    </span> query: <span style=\"font-weight: bold\">[</span>CREATE TEMP FILE FORMAT <span style=\"color: #008000; text-decoration-color: #008000\">\"kijfgckmxy\"</span> <span style=\"color: #800080; text-decoration-color: #800080\">/</span>*                          <a href=\"file://d:\\Users\\ksbha\\miniconda3\\envs\\footy\\Lib\\site-packages\\snowflake\\connector\\cursor.py\" target=\"_blank\"><span style=\"color: #7f7f7f; text-decoration-color: #7f7f7f\">cursor.py</span></a><span style=\"color: #7f7f7f; text-decoration-color: #7f7f7f\">:</span><a href=\"file://d:\\Users\\ksbha\\miniconda3\\envs\\footy\\Lib\\site-packages\\snowflake\\connector\\cursor.py#833\" target=\"_blank\"><span style=\"color: #7f7f7f; text-decoration-color: #7f7f7f\">833</span></a>\n",
       "<span style=\"color: #7fbfbf; text-decoration-color: #7fbfbf\">                    </span>         Python:snowflake.connector.pandas_tools<span style=\"color: #808000; text-decoration-color: #808000\">...</span>.<span style=\"font-weight: bold\">]</span>                             <span style=\"color: #7f7f7f; text-decoration-color: #7f7f7f\">             </span>\n",
       "</pre>\n"
      ],
      "text/plain": [
       "\u001b[2;36m                   \u001b[0m\u001b[2;36m \u001b[0m\u001b[34mINFO    \u001b[0m query: \u001b[1m[\u001b[0mCREATE TEMP FILE FORMAT \u001b[32m\"kijfgckmxy\"\u001b[0m \u001b[35m/\u001b[0m*                          \u001b]8;id=720805;file://d:\\Users\\ksbha\\miniconda3\\envs\\footy\\Lib\\site-packages\\snowflake\\connector\\cursor.py\u001b\\\u001b[2mcursor.py\u001b[0m\u001b]8;;\u001b\\\u001b[2m:\u001b[0m\u001b]8;id=847581;file://d:\\Users\\ksbha\\miniconda3\\envs\\footy\\Lib\\site-packages\\snowflake\\connector\\cursor.py#833\u001b\\\u001b[2m833\u001b[0m\u001b]8;;\u001b\\\n",
       "\u001b[2;36m                    \u001b[0m         Python:snowflake.connector.pandas_tools\u001b[33m...\u001b[0m.\u001b[1m]\u001b[0m                             \u001b[2m             \u001b[0m\n"
      ]
     },
     "metadata": {},
     "output_type": "display_data"
    },
    {
     "data": {
      "text/html": [
       "<pre style=\"white-space:pre;overflow-x:auto;line-height:normal;font-family:Menlo,'DejaVu Sans Mono',consolas,'Courier New',monospace\"><span style=\"color: #7fbfbf; text-decoration-color: #7fbfbf\">                    </span><span style=\"color: #000080; text-decoration-color: #000080\">INFO    </span> query execution done                                                     <a href=\"file://d:\\Users\\ksbha\\miniconda3\\envs\\footy\\Lib\\site-packages\\snowflake\\connector\\cursor.py\" target=\"_blank\"><span style=\"color: #7f7f7f; text-decoration-color: #7f7f7f\">cursor.py</span></a><span style=\"color: #7f7f7f; text-decoration-color: #7f7f7f\">:</span><a href=\"file://d:\\Users\\ksbha\\miniconda3\\envs\\footy\\Lib\\site-packages\\snowflake\\connector\\cursor.py#846\" target=\"_blank\"><span style=\"color: #7f7f7f; text-decoration-color: #7f7f7f\">846</span></a>\n",
       "</pre>\n"
      ],
      "text/plain": [
       "\u001b[2;36m                   \u001b[0m\u001b[2;36m \u001b[0m\u001b[34mINFO    \u001b[0m query execution done                                                     \u001b]8;id=915541;file://d:\\Users\\ksbha\\miniconda3\\envs\\footy\\Lib\\site-packages\\snowflake\\connector\\cursor.py\u001b\\\u001b[2mcursor.py\u001b[0m\u001b]8;;\u001b\\\u001b[2m:\u001b[0m\u001b]8;id=787810;file://d:\\Users\\ksbha\\miniconda3\\envs\\footy\\Lib\\site-packages\\snowflake\\connector\\cursor.py#846\u001b\\\u001b[2m846\u001b[0m\u001b]8;;\u001b\\\n"
      ]
     },
     "metadata": {},
     "output_type": "display_data"
    },
    {
     "data": {
      "text/html": [
       "<pre style=\"white-space:pre;overflow-x:auto;line-height:normal;font-family:Menlo,'DejaVu Sans Mono',consolas,'Courier New',monospace\"><span style=\"color: #7fbfbf; text-decoration-color: #7fbfbf\">                    </span><span style=\"color: #000080; text-decoration-color: #000080\">INFO    </span> Number of results in first chunk: <span style=\"color: #008080; text-decoration-color: #008080; font-weight: bold\">1</span>                                      <a href=\"file://d:\\Users\\ksbha\\miniconda3\\envs\\footy\\Lib\\site-packages\\snowflake\\connector\\cursor.py\" target=\"_blank\"><span style=\"color: #7f7f7f; text-decoration-color: #7f7f7f\">cursor.py</span></a><span style=\"color: #7f7f7f; text-decoration-color: #7f7f7f\">:</span><a href=\"file://d:\\Users\\ksbha\\miniconda3\\envs\\footy\\Lib\\site-packages\\snowflake\\connector\\cursor.py#988\" target=\"_blank\"><span style=\"color: #7f7f7f; text-decoration-color: #7f7f7f\">988</span></a>\n",
       "</pre>\n"
      ],
      "text/plain": [
       "\u001b[2;36m                   \u001b[0m\u001b[2;36m \u001b[0m\u001b[34mINFO    \u001b[0m Number of results in first chunk: \u001b[1;36m1\u001b[0m                                      \u001b]8;id=390861;file://d:\\Users\\ksbha\\miniconda3\\envs\\footy\\Lib\\site-packages\\snowflake\\connector\\cursor.py\u001b\\\u001b[2mcursor.py\u001b[0m\u001b]8;;\u001b\\\u001b[2m:\u001b[0m\u001b]8;id=733483;file://d:\\Users\\ksbha\\miniconda3\\envs\\footy\\Lib\\site-packages\\snowflake\\connector\\cursor.py#988\u001b\\\u001b[2m988\u001b[0m\u001b]8;;\u001b\\\n"
      ]
     },
     "metadata": {},
     "output_type": "display_data"
    },
    {
     "data": {
      "text/html": [
       "<pre style=\"white-space:pre;overflow-x:auto;line-height:normal;font-family:Menlo,'DejaVu Sans Mono',consolas,'Courier New',monospace\"><span style=\"color: #7fbfbf; text-decoration-color: #7fbfbf\">                    </span><span style=\"color: #000080; text-decoration-color: #000080\">INFO    </span> query: <span style=\"font-weight: bold\">[</span>SELECT COLUMN_NAME, TYPE FROM                                    <a href=\"file://d:\\Users\\ksbha\\miniconda3\\envs\\footy\\Lib\\site-packages\\snowflake\\connector\\cursor.py\" target=\"_blank\"><span style=\"color: #7f7f7f; text-decoration-color: #7f7f7f\">cursor.py</span></a><span style=\"color: #7f7f7f; text-decoration-color: #7f7f7f\">:</span><a href=\"file://d:\\Users\\ksbha\\miniconda3\\envs\\footy\\Lib\\site-packages\\snowflake\\connector\\cursor.py#833\" target=\"_blank\"><span style=\"color: #7f7f7f; text-decoration-color: #7f7f7f\">833</span></a>\n",
       "<span style=\"color: #7fbfbf; text-decoration-color: #7fbfbf\">                    </span>         <span style=\"color: #800080; text-decoration-color: #800080; font-weight: bold\">table</span><span style=\"font-weight: bold\">(</span><span style=\"color: #800080; text-decoration-color: #800080; font-weight: bold\">infer_schema</span><span style=\"font-weight: bold\">(</span><span style=\"color: #808000; text-decoration-color: #808000\">location</span>=&gt;<span style=\"color: #008000; text-decoration-color: #008000\">'@\"ikksntkvgf\"'</span>, file<span style=\"color: #808000; text-decoration-color: #808000\">...</span><span style=\"font-weight: bold\">]</span>                   <span style=\"color: #7f7f7f; text-decoration-color: #7f7f7f\">             </span>\n",
       "</pre>\n"
      ],
      "text/plain": [
       "\u001b[2;36m                   \u001b[0m\u001b[2;36m \u001b[0m\u001b[34mINFO    \u001b[0m query: \u001b[1m[\u001b[0mSELECT COLUMN_NAME, TYPE FROM                                    \u001b]8;id=508492;file://d:\\Users\\ksbha\\miniconda3\\envs\\footy\\Lib\\site-packages\\snowflake\\connector\\cursor.py\u001b\\\u001b[2mcursor.py\u001b[0m\u001b]8;;\u001b\\\u001b[2m:\u001b[0m\u001b]8;id=19078;file://d:\\Users\\ksbha\\miniconda3\\envs\\footy\\Lib\\site-packages\\snowflake\\connector\\cursor.py#833\u001b\\\u001b[2m833\u001b[0m\u001b]8;;\u001b\\\n",
       "\u001b[2;36m                    \u001b[0m         \u001b[1;35mtable\u001b[0m\u001b[1m(\u001b[0m\u001b[1;35minfer_schema\u001b[0m\u001b[1m(\u001b[0m\u001b[33mlocation\u001b[0m=>\u001b[32m'@\"ikksntkvgf\"'\u001b[0m, file\u001b[33m...\u001b[0m\u001b[1m]\u001b[0m                   \u001b[2m             \u001b[0m\n"
      ]
     },
     "metadata": {},
     "output_type": "display_data"
    },
    {
     "data": {
      "text/html": [
       "<pre style=\"white-space:pre;overflow-x:auto;line-height:normal;font-family:Menlo,'DejaVu Sans Mono',consolas,'Courier New',monospace\"><span style=\"color: #7fbfbf; text-decoration-color: #7fbfbf\">[12/21/23 17:50:13] </span><span style=\"color: #000080; text-decoration-color: #000080\">INFO    </span> query execution done                                                     <a href=\"file://d:\\Users\\ksbha\\miniconda3\\envs\\footy\\Lib\\site-packages\\snowflake\\connector\\cursor.py\" target=\"_blank\"><span style=\"color: #7f7f7f; text-decoration-color: #7f7f7f\">cursor.py</span></a><span style=\"color: #7f7f7f; text-decoration-color: #7f7f7f\">:</span><a href=\"file://d:\\Users\\ksbha\\miniconda3\\envs\\footy\\Lib\\site-packages\\snowflake\\connector\\cursor.py#846\" target=\"_blank\"><span style=\"color: #7f7f7f; text-decoration-color: #7f7f7f\">846</span></a>\n",
       "</pre>\n"
      ],
      "text/plain": [
       "\u001b[2;36m[12/21/23 17:50:13]\u001b[0m\u001b[2;36m \u001b[0m\u001b[34mINFO    \u001b[0m query execution done                                                     \u001b]8;id=853899;file://d:\\Users\\ksbha\\miniconda3\\envs\\footy\\Lib\\site-packages\\snowflake\\connector\\cursor.py\u001b\\\u001b[2mcursor.py\u001b[0m\u001b]8;;\u001b\\\u001b[2m:\u001b[0m\u001b]8;id=277433;file://d:\\Users\\ksbha\\miniconda3\\envs\\footy\\Lib\\site-packages\\snowflake\\connector\\cursor.py#846\u001b\\\u001b[2m846\u001b[0m\u001b]8;;\u001b\\\n"
      ]
     },
     "metadata": {},
     "output_type": "display_data"
    },
    {
     "data": {
      "text/html": [
       "<pre style=\"white-space:pre;overflow-x:auto;line-height:normal;font-family:Menlo,'DejaVu Sans Mono',consolas,'Courier New',monospace\"><span style=\"color: #7fbfbf; text-decoration-color: #7fbfbf\">                    </span><span style=\"color: #000080; text-decoration-color: #000080\">INFO    </span> Number of results in first chunk: <span style=\"color: #008080; text-decoration-color: #008080; font-weight: bold\">3</span>                                      <a href=\"file://d:\\Users\\ksbha\\miniconda3\\envs\\footy\\Lib\\site-packages\\snowflake\\connector\\cursor.py\" target=\"_blank\"><span style=\"color: #7f7f7f; text-decoration-color: #7f7f7f\">cursor.py</span></a><span style=\"color: #7f7f7f; text-decoration-color: #7f7f7f\">:</span><a href=\"file://d:\\Users\\ksbha\\miniconda3\\envs\\footy\\Lib\\site-packages\\snowflake\\connector\\cursor.py#988\" target=\"_blank\"><span style=\"color: #7f7f7f; text-decoration-color: #7f7f7f\">988</span></a>\n",
       "</pre>\n"
      ],
      "text/plain": [
       "\u001b[2;36m                   \u001b[0m\u001b[2;36m \u001b[0m\u001b[34mINFO    \u001b[0m Number of results in first chunk: \u001b[1;36m3\u001b[0m                                      \u001b]8;id=623729;file://d:\\Users\\ksbha\\miniconda3\\envs\\footy\\Lib\\site-packages\\snowflake\\connector\\cursor.py\u001b\\\u001b[2mcursor.py\u001b[0m\u001b]8;;\u001b\\\u001b[2m:\u001b[0m\u001b]8;id=638773;file://d:\\Users\\ksbha\\miniconda3\\envs\\footy\\Lib\\site-packages\\snowflake\\connector\\cursor.py#988\u001b\\\u001b[2m988\u001b[0m\u001b]8;;\u001b\\\n"
      ]
     },
     "metadata": {},
     "output_type": "display_data"
    },
    {
     "data": {
      "text/html": [
       "<pre style=\"white-space:pre;overflow-x:auto;line-height:normal;font-family:Menlo,'DejaVu Sans Mono',consolas,'Courier New',monospace\"><span style=\"color: #7fbfbf; text-decoration-color: #7fbfbf\">                    </span><span style=\"color: #000080; text-decoration-color: #000080\">INFO    </span> query: <span style=\"font-weight: bold\">[</span>CREATE  TABLE IF NOT EXISTS <span style=\"color: #008000; text-decoration-color: #008000\">\"TEAMS_TEMP\"</span> <span style=\"font-weight: bold\">(</span><span style=\"color: #008000; text-decoration-color: #008000\">\"TEAM_NAME\"</span> TEXT,      <a href=\"file://d:\\Users\\ksbha\\miniconda3\\envs\\footy\\Lib\\site-packages\\snowflake\\connector\\cursor.py\" target=\"_blank\"><span style=\"color: #7f7f7f; text-decoration-color: #7f7f7f\">cursor.py</span></a><span style=\"color: #7f7f7f; text-decoration-color: #7f7f7f\">:</span><a href=\"file://d:\\Users\\ksbha\\miniconda3\\envs\\footy\\Lib\\site-packages\\snowflake\\connector\\cursor.py#833\" target=\"_blank\"><span style=\"color: #7f7f7f; text-decoration-color: #7f7f7f\">833</span></a>\n",
       "<span style=\"color: #7fbfbf; text-decoration-color: #7fbfbf\">                    </span>         <span style=\"color: #008000; text-decoration-color: #008000\">\"TEAM_FBREF_ID\"</span> TEXT<span style=\"color: #808000; text-decoration-color: #808000\">...</span><span style=\"font-weight: bold\">]</span>                                                 <span style=\"color: #7f7f7f; text-decoration-color: #7f7f7f\">             </span>\n",
       "</pre>\n"
      ],
      "text/plain": [
       "\u001b[2;36m                   \u001b[0m\u001b[2;36m \u001b[0m\u001b[34mINFO    \u001b[0m query: \u001b[1m[\u001b[0mCREATE  TABLE IF NOT EXISTS \u001b[32m\"TEAMS_TEMP\"\u001b[0m \u001b[1m(\u001b[0m\u001b[32m\"TEAM_NAME\"\u001b[0m TEXT,      \u001b]8;id=517317;file://d:\\Users\\ksbha\\miniconda3\\envs\\footy\\Lib\\site-packages\\snowflake\\connector\\cursor.py\u001b\\\u001b[2mcursor.py\u001b[0m\u001b]8;;\u001b\\\u001b[2m:\u001b[0m\u001b]8;id=736890;file://d:\\Users\\ksbha\\miniconda3\\envs\\footy\\Lib\\site-packages\\snowflake\\connector\\cursor.py#833\u001b\\\u001b[2m833\u001b[0m\u001b]8;;\u001b\\\n",
       "\u001b[2;36m                    \u001b[0m         \u001b[32m\"TEAM_FBREF_ID\"\u001b[0m TEXT\u001b[33m...\u001b[0m\u001b[1m]\u001b[0m                                                 \u001b[2m             \u001b[0m\n"
      ]
     },
     "metadata": {},
     "output_type": "display_data"
    },
    {
     "data": {
      "text/html": [
       "<pre style=\"white-space:pre;overflow-x:auto;line-height:normal;font-family:Menlo,'DejaVu Sans Mono',consolas,'Courier New',monospace\"><span style=\"color: #7fbfbf; text-decoration-color: #7fbfbf\">                    </span><span style=\"color: #000080; text-decoration-color: #000080\">INFO    </span> query execution done                                                     <a href=\"file://d:\\Users\\ksbha\\miniconda3\\envs\\footy\\Lib\\site-packages\\snowflake\\connector\\cursor.py\" target=\"_blank\"><span style=\"color: #7f7f7f; text-decoration-color: #7f7f7f\">cursor.py</span></a><span style=\"color: #7f7f7f; text-decoration-color: #7f7f7f\">:</span><a href=\"file://d:\\Users\\ksbha\\miniconda3\\envs\\footy\\Lib\\site-packages\\snowflake\\connector\\cursor.py#846\" target=\"_blank\"><span style=\"color: #7f7f7f; text-decoration-color: #7f7f7f\">846</span></a>\n",
       "</pre>\n"
      ],
      "text/plain": [
       "\u001b[2;36m                   \u001b[0m\u001b[2;36m \u001b[0m\u001b[34mINFO    \u001b[0m query execution done                                                     \u001b]8;id=896392;file://d:\\Users\\ksbha\\miniconda3\\envs\\footy\\Lib\\site-packages\\snowflake\\connector\\cursor.py\u001b\\\u001b[2mcursor.py\u001b[0m\u001b]8;;\u001b\\\u001b[2m:\u001b[0m\u001b]8;id=655648;file://d:\\Users\\ksbha\\miniconda3\\envs\\footy\\Lib\\site-packages\\snowflake\\connector\\cursor.py#846\u001b\\\u001b[2m846\u001b[0m\u001b]8;;\u001b\\\n"
      ]
     },
     "metadata": {},
     "output_type": "display_data"
    },
    {
     "data": {
      "text/html": [
       "<pre style=\"white-space:pre;overflow-x:auto;line-height:normal;font-family:Menlo,'DejaVu Sans Mono',consolas,'Courier New',monospace\"><span style=\"color: #7fbfbf; text-decoration-color: #7fbfbf\">                    </span><span style=\"color: #000080; text-decoration-color: #000080\">INFO    </span> Number of results in first chunk: <span style=\"color: #008080; text-decoration-color: #008080; font-weight: bold\">1</span>                                      <a href=\"file://d:\\Users\\ksbha\\miniconda3\\envs\\footy\\Lib\\site-packages\\snowflake\\connector\\cursor.py\" target=\"_blank\"><span style=\"color: #7f7f7f; text-decoration-color: #7f7f7f\">cursor.py</span></a><span style=\"color: #7f7f7f; text-decoration-color: #7f7f7f\">:</span><a href=\"file://d:\\Users\\ksbha\\miniconda3\\envs\\footy\\Lib\\site-packages\\snowflake\\connector\\cursor.py#988\" target=\"_blank\"><span style=\"color: #7f7f7f; text-decoration-color: #7f7f7f\">988</span></a>\n",
       "</pre>\n"
      ],
      "text/plain": [
       "\u001b[2;36m                   \u001b[0m\u001b[2;36m \u001b[0m\u001b[34mINFO    \u001b[0m Number of results in first chunk: \u001b[1;36m1\u001b[0m                                      \u001b]8;id=578771;file://d:\\Users\\ksbha\\miniconda3\\envs\\footy\\Lib\\site-packages\\snowflake\\connector\\cursor.py\u001b\\\u001b[2mcursor.py\u001b[0m\u001b]8;;\u001b\\\u001b[2m:\u001b[0m\u001b]8;id=76931;file://d:\\Users\\ksbha\\miniconda3\\envs\\footy\\Lib\\site-packages\\snowflake\\connector\\cursor.py#988\u001b\\\u001b[2m988\u001b[0m\u001b]8;;\u001b\\\n"
      ]
     },
     "metadata": {},
     "output_type": "display_data"
    },
    {
     "data": {
      "text/html": [
       "<pre style=\"white-space:pre;overflow-x:auto;line-height:normal;font-family:Menlo,'DejaVu Sans Mono',consolas,'Courier New',monospace\"><span style=\"color: #7fbfbf; text-decoration-color: #7fbfbf\">                    </span><span style=\"color: #000080; text-decoration-color: #000080\">INFO    </span> query: <span style=\"font-weight: bold\">[</span>COPY INTO <span style=\"color: #008000; text-decoration-color: #008000\">\"TEAMS_TEMP\"</span> <span style=\"color: #800080; text-decoration-color: #800080\">/</span>*                                        <a href=\"file://d:\\Users\\ksbha\\miniconda3\\envs\\footy\\Lib\\site-packages\\snowflake\\connector\\cursor.py\" target=\"_blank\"><span style=\"color: #7f7f7f; text-decoration-color: #7f7f7f\">cursor.py</span></a><span style=\"color: #7f7f7f; text-decoration-color: #7f7f7f\">:</span><a href=\"file://d:\\Users\\ksbha\\miniconda3\\envs\\footy\\Lib\\site-packages\\snowflake\\connector\\cursor.py#833\" target=\"_blank\"><span style=\"color: #7f7f7f; text-decoration-color: #7f7f7f\">833</span></a>\n",
       "<span style=\"color: #7fbfbf; text-decoration-color: #7fbfbf\">                    </span>         Python:<span style=\"color: #800080; text-decoration-color: #800080; font-weight: bold\">snowflake.connector.pandas_tools.write_pandas</span><span style=\"font-weight: bold\">()</span><span style=\"color: #808000; text-decoration-color: #808000\">...</span><span style=\"font-weight: bold\">]</span>               <span style=\"color: #7f7f7f; text-decoration-color: #7f7f7f\">             </span>\n",
       "</pre>\n"
      ],
      "text/plain": [
       "\u001b[2;36m                   \u001b[0m\u001b[2;36m \u001b[0m\u001b[34mINFO    \u001b[0m query: \u001b[1m[\u001b[0mCOPY INTO \u001b[32m\"TEAMS_TEMP\"\u001b[0m \u001b[35m/\u001b[0m*                                        \u001b]8;id=30574;file://d:\\Users\\ksbha\\miniconda3\\envs\\footy\\Lib\\site-packages\\snowflake\\connector\\cursor.py\u001b\\\u001b[2mcursor.py\u001b[0m\u001b]8;;\u001b\\\u001b[2m:\u001b[0m\u001b]8;id=700546;file://d:\\Users\\ksbha\\miniconda3\\envs\\footy\\Lib\\site-packages\\snowflake\\connector\\cursor.py#833\u001b\\\u001b[2m833\u001b[0m\u001b]8;;\u001b\\\n",
       "\u001b[2;36m                    \u001b[0m         Python:\u001b[1;35msnowflake.connector.pandas_tools.write_pandas\u001b[0m\u001b[1m(\u001b[0m\u001b[1m)\u001b[0m\u001b[33m...\u001b[0m\u001b[1m]\u001b[0m               \u001b[2m             \u001b[0m\n"
      ]
     },
     "metadata": {},
     "output_type": "display_data"
    },
    {
     "data": {
      "text/html": [
       "<pre style=\"white-space:pre;overflow-x:auto;line-height:normal;font-family:Menlo,'DejaVu Sans Mono',consolas,'Courier New',monospace\"><span style=\"color: #7fbfbf; text-decoration-color: #7fbfbf\">[12/21/23 17:50:14] </span><span style=\"color: #000080; text-decoration-color: #000080\">INFO    </span> query execution done                                                     <a href=\"file://d:\\Users\\ksbha\\miniconda3\\envs\\footy\\Lib\\site-packages\\snowflake\\connector\\cursor.py\" target=\"_blank\"><span style=\"color: #7f7f7f; text-decoration-color: #7f7f7f\">cursor.py</span></a><span style=\"color: #7f7f7f; text-decoration-color: #7f7f7f\">:</span><a href=\"file://d:\\Users\\ksbha\\miniconda3\\envs\\footy\\Lib\\site-packages\\snowflake\\connector\\cursor.py#846\" target=\"_blank\"><span style=\"color: #7f7f7f; text-decoration-color: #7f7f7f\">846</span></a>\n",
       "</pre>\n"
      ],
      "text/plain": [
       "\u001b[2;36m[12/21/23 17:50:14]\u001b[0m\u001b[2;36m \u001b[0m\u001b[34mINFO    \u001b[0m query execution done                                                     \u001b]8;id=172223;file://d:\\Users\\ksbha\\miniconda3\\envs\\footy\\Lib\\site-packages\\snowflake\\connector\\cursor.py\u001b\\\u001b[2mcursor.py\u001b[0m\u001b]8;;\u001b\\\u001b[2m:\u001b[0m\u001b]8;id=230013;file://d:\\Users\\ksbha\\miniconda3\\envs\\footy\\Lib\\site-packages\\snowflake\\connector\\cursor.py#846\u001b\\\u001b[2m846\u001b[0m\u001b]8;;\u001b\\\n"
      ]
     },
     "metadata": {},
     "output_type": "display_data"
    },
    {
     "data": {
      "text/html": [
       "<pre style=\"white-space:pre;overflow-x:auto;line-height:normal;font-family:Menlo,'DejaVu Sans Mono',consolas,'Courier New',monospace\"><span style=\"color: #7fbfbf; text-decoration-color: #7fbfbf\">                    </span><span style=\"color: #000080; text-decoration-color: #000080\">INFO    </span> Number of results in first chunk: <span style=\"color: #008080; text-decoration-color: #008080; font-weight: bold\">1</span>                                      <a href=\"file://d:\\Users\\ksbha\\miniconda3\\envs\\footy\\Lib\\site-packages\\snowflake\\connector\\cursor.py\" target=\"_blank\"><span style=\"color: #7f7f7f; text-decoration-color: #7f7f7f\">cursor.py</span></a><span style=\"color: #7f7f7f; text-decoration-color: #7f7f7f\">:</span><a href=\"file://d:\\Users\\ksbha\\miniconda3\\envs\\footy\\Lib\\site-packages\\snowflake\\connector\\cursor.py#988\" target=\"_blank\"><span style=\"color: #7f7f7f; text-decoration-color: #7f7f7f\">988</span></a>\n",
       "</pre>\n"
      ],
      "text/plain": [
       "\u001b[2;36m                   \u001b[0m\u001b[2;36m \u001b[0m\u001b[34mINFO    \u001b[0m Number of results in first chunk: \u001b[1;36m1\u001b[0m                                      \u001b]8;id=13563;file://d:\\Users\\ksbha\\miniconda3\\envs\\footy\\Lib\\site-packages\\snowflake\\connector\\cursor.py\u001b\\\u001b[2mcursor.py\u001b[0m\u001b]8;;\u001b\\\u001b[2m:\u001b[0m\u001b]8;id=992575;file://d:\\Users\\ksbha\\miniconda3\\envs\\footy\\Lib\\site-packages\\snowflake\\connector\\cursor.py#988\u001b\\\u001b[2m988\u001b[0m\u001b]8;;\u001b\\\n"
      ]
     },
     "metadata": {},
     "output_type": "display_data"
    },
    {
     "data": {
      "text/html": [
       "<pre style=\"white-space:pre;overflow-x:auto;line-height:normal;font-family:Menlo,'DejaVu Sans Mono',consolas,'Courier New',monospace\"><span style=\"color: #7fbfbf; text-decoration-color: #7fbfbf\">                    </span><span style=\"color: #000080; text-decoration-color: #000080\">INFO    </span> query: <span style=\"font-weight: bold\">[</span>MERGE INTO TEAMS USING TEAMS_TEMP ON TEAMS.TEAM_FBREF_ID =       <a href=\"file://d:\\Users\\ksbha\\miniconda3\\envs\\footy\\Lib\\site-packages\\snowflake\\connector\\cursor.py\" target=\"_blank\"><span style=\"color: #7f7f7f; text-decoration-color: #7f7f7f\">cursor.py</span></a><span style=\"color: #7f7f7f; text-decoration-color: #7f7f7f\">:</span><a href=\"file://d:\\Users\\ksbha\\miniconda3\\envs\\footy\\Lib\\site-packages\\snowflake\\connector\\cursor.py#833\" target=\"_blank\"><span style=\"color: #7f7f7f; text-decoration-color: #7f7f7f\">833</span></a>\n",
       "<span style=\"color: #7fbfbf; text-decoration-color: #7fbfbf\">                    </span>         TEAMS_TEMP.TEAM_FBREF<span style=\"color: #808000; text-decoration-color: #808000\">...</span><span style=\"font-weight: bold\">]</span>                                                <span style=\"color: #7f7f7f; text-decoration-color: #7f7f7f\">             </span>\n",
       "</pre>\n"
      ],
      "text/plain": [
       "\u001b[2;36m                   \u001b[0m\u001b[2;36m \u001b[0m\u001b[34mINFO    \u001b[0m query: \u001b[1m[\u001b[0mMERGE INTO TEAMS USING TEAMS_TEMP ON TEAMS.TEAM_FBREF_ID =       \u001b]8;id=182130;file://d:\\Users\\ksbha\\miniconda3\\envs\\footy\\Lib\\site-packages\\snowflake\\connector\\cursor.py\u001b\\\u001b[2mcursor.py\u001b[0m\u001b]8;;\u001b\\\u001b[2m:\u001b[0m\u001b]8;id=751465;file://d:\\Users\\ksbha\\miniconda3\\envs\\footy\\Lib\\site-packages\\snowflake\\connector\\cursor.py#833\u001b\\\u001b[2m833\u001b[0m\u001b]8;;\u001b\\\n",
       "\u001b[2;36m                    \u001b[0m         TEAMS_TEMP.TEAM_FBREF\u001b[33m...\u001b[0m\u001b[1m]\u001b[0m                                                \u001b[2m             \u001b[0m\n"
      ]
     },
     "metadata": {},
     "output_type": "display_data"
    },
    {
     "data": {
      "text/html": [
       "<pre style=\"white-space:pre;overflow-x:auto;line-height:normal;font-family:Menlo,'DejaVu Sans Mono',consolas,'Courier New',monospace\"><span style=\"color: #7fbfbf; text-decoration-color: #7fbfbf\">[12/21/23 17:50:15] </span><span style=\"color: #000080; text-decoration-color: #000080\">INFO    </span> query execution done                                                     <a href=\"file://d:\\Users\\ksbha\\miniconda3\\envs\\footy\\Lib\\site-packages\\snowflake\\connector\\cursor.py\" target=\"_blank\"><span style=\"color: #7f7f7f; text-decoration-color: #7f7f7f\">cursor.py</span></a><span style=\"color: #7f7f7f; text-decoration-color: #7f7f7f\">:</span><a href=\"file://d:\\Users\\ksbha\\miniconda3\\envs\\footy\\Lib\\site-packages\\snowflake\\connector\\cursor.py#846\" target=\"_blank\"><span style=\"color: #7f7f7f; text-decoration-color: #7f7f7f\">846</span></a>\n",
       "</pre>\n"
      ],
      "text/plain": [
       "\u001b[2;36m[12/21/23 17:50:15]\u001b[0m\u001b[2;36m \u001b[0m\u001b[34mINFO    \u001b[0m query execution done                                                     \u001b]8;id=745041;file://d:\\Users\\ksbha\\miniconda3\\envs\\footy\\Lib\\site-packages\\snowflake\\connector\\cursor.py\u001b\\\u001b[2mcursor.py\u001b[0m\u001b]8;;\u001b\\\u001b[2m:\u001b[0m\u001b]8;id=294679;file://d:\\Users\\ksbha\\miniconda3\\envs\\footy\\Lib\\site-packages\\snowflake\\connector\\cursor.py#846\u001b\\\u001b[2m846\u001b[0m\u001b]8;;\u001b\\\n"
      ]
     },
     "metadata": {},
     "output_type": "display_data"
    },
    {
     "data": {
      "text/html": [
       "<pre style=\"white-space:pre;overflow-x:auto;line-height:normal;font-family:Menlo,'DejaVu Sans Mono',consolas,'Courier New',monospace\"><span style=\"color: #7fbfbf; text-decoration-color: #7fbfbf\">                    </span><span style=\"color: #000080; text-decoration-color: #000080\">INFO    </span> query: <span style=\"font-weight: bold\">[</span>DROP TABLE IF EXISTS TEAMS_TEMP<span style=\"font-weight: bold\">]</span>                                 <a href=\"file://d:\\Users\\ksbha\\miniconda3\\envs\\footy\\Lib\\site-packages\\snowflake\\connector\\cursor.py\" target=\"_blank\"><span style=\"color: #7f7f7f; text-decoration-color: #7f7f7f\">cursor.py</span></a><span style=\"color: #7f7f7f; text-decoration-color: #7f7f7f\">:</span><a href=\"file://d:\\Users\\ksbha\\miniconda3\\envs\\footy\\Lib\\site-packages\\snowflake\\connector\\cursor.py#833\" target=\"_blank\"><span style=\"color: #7f7f7f; text-decoration-color: #7f7f7f\">833</span></a>\n",
       "</pre>\n"
      ],
      "text/plain": [
       "\u001b[2;36m                   \u001b[0m\u001b[2;36m \u001b[0m\u001b[34mINFO    \u001b[0m query: \u001b[1m[\u001b[0mDROP TABLE IF EXISTS TEAMS_TEMP\u001b[1m]\u001b[0m                                 \u001b]8;id=711078;file://d:\\Users\\ksbha\\miniconda3\\envs\\footy\\Lib\\site-packages\\snowflake\\connector\\cursor.py\u001b\\\u001b[2mcursor.py\u001b[0m\u001b]8;;\u001b\\\u001b[2m:\u001b[0m\u001b]8;id=994449;file://d:\\Users\\ksbha\\miniconda3\\envs\\footy\\Lib\\site-packages\\snowflake\\connector\\cursor.py#833\u001b\\\u001b[2m833\u001b[0m\u001b]8;;\u001b\\\n"
      ]
     },
     "metadata": {},
     "output_type": "display_data"
    },
    {
     "data": {
      "text/html": [
       "<pre style=\"white-space:pre;overflow-x:auto;line-height:normal;font-family:Menlo,'DejaVu Sans Mono',consolas,'Courier New',monospace\"><span style=\"color: #7fbfbf; text-decoration-color: #7fbfbf\">                    </span><span style=\"color: #000080; text-decoration-color: #000080\">INFO    </span> query execution done                                                     <a href=\"file://d:\\Users\\ksbha\\miniconda3\\envs\\footy\\Lib\\site-packages\\snowflake\\connector\\cursor.py\" target=\"_blank\"><span style=\"color: #7f7f7f; text-decoration-color: #7f7f7f\">cursor.py</span></a><span style=\"color: #7f7f7f; text-decoration-color: #7f7f7f\">:</span><a href=\"file://d:\\Users\\ksbha\\miniconda3\\envs\\footy\\Lib\\site-packages\\snowflake\\connector\\cursor.py#846\" target=\"_blank\"><span style=\"color: #7f7f7f; text-decoration-color: #7f7f7f\">846</span></a>\n",
       "</pre>\n"
      ],
      "text/plain": [
       "\u001b[2;36m                   \u001b[0m\u001b[2;36m \u001b[0m\u001b[34mINFO    \u001b[0m query execution done                                                     \u001b]8;id=575164;file://d:\\Users\\ksbha\\miniconda3\\envs\\footy\\Lib\\site-packages\\snowflake\\connector\\cursor.py\u001b\\\u001b[2mcursor.py\u001b[0m\u001b]8;;\u001b\\\u001b[2m:\u001b[0m\u001b]8;id=885599;file://d:\\Users\\ksbha\\miniconda3\\envs\\footy\\Lib\\site-packages\\snowflake\\connector\\cursor.py#846\u001b\\\u001b[2m846\u001b[0m\u001b]8;;\u001b\\\n"
      ]
     },
     "metadata": {},
     "output_type": "display_data"
    },
    {
     "data": {
      "text/html": [
       "<pre style=\"white-space:pre;overflow-x:auto;line-height:normal;font-family:Menlo,'DejaVu Sans Mono',consolas,'Courier New',monospace\"><span style=\"color: #7fbfbf; text-decoration-color: #7fbfbf\">                    </span><span style=\"color: #000080; text-decoration-color: #000080\">INFO    </span> Number of results in first chunk: <span style=\"color: #008080; text-decoration-color: #008080; font-weight: bold\">1</span>                                      <a href=\"file://d:\\Users\\ksbha\\miniconda3\\envs\\footy\\Lib\\site-packages\\snowflake\\connector\\cursor.py\" target=\"_blank\"><span style=\"color: #7f7f7f; text-decoration-color: #7f7f7f\">cursor.py</span></a><span style=\"color: #7f7f7f; text-decoration-color: #7f7f7f\">:</span><a href=\"file://d:\\Users\\ksbha\\miniconda3\\envs\\footy\\Lib\\site-packages\\snowflake\\connector\\cursor.py#988\" target=\"_blank\"><span style=\"color: #7f7f7f; text-decoration-color: #7f7f7f\">988</span></a>\n",
       "</pre>\n"
      ],
      "text/plain": [
       "\u001b[2;36m                   \u001b[0m\u001b[2;36m \u001b[0m\u001b[34mINFO    \u001b[0m Number of results in first chunk: \u001b[1;36m1\u001b[0m                                      \u001b]8;id=93533;file://d:\\Users\\ksbha\\miniconda3\\envs\\footy\\Lib\\site-packages\\snowflake\\connector\\cursor.py\u001b\\\u001b[2mcursor.py\u001b[0m\u001b]8;;\u001b\\\u001b[2m:\u001b[0m\u001b]8;id=240348;file://d:\\Users\\ksbha\\miniconda3\\envs\\footy\\Lib\\site-packages\\snowflake\\connector\\cursor.py#988\u001b\\\u001b[2m988\u001b[0m\u001b]8;;\u001b\\\n"
      ]
     },
     "metadata": {},
     "output_type": "display_data"
    },
    {
     "name": "stdout",
     "output_type": "stream",
     "text": [
      "Upsert completed. 25 rows processed.\n"
     ]
    }
   ],
   "source": [
    "upsert_to_snowflake(\"TEAMS\", team_names, ['TEAM_FBREF_ID'])"
   ]
  },
  {
   "cell_type": "code",
   "execution_count": 75,
   "metadata": {},
   "outputs": [
    {
     "data": {
      "text/html": [
       "<pre style=\"white-space:pre;overflow-x:auto;line-height:normal;font-family:Menlo,'DejaVu Sans Mono',consolas,'Courier New',monospace\"><span style=\"color: #7fbfbf; text-decoration-color: #7fbfbf\">[12/21/23 17:53:15] </span><span style=\"color: #000080; text-decoration-color: #000080\">INFO    </span> query: <span style=\"font-weight: bold\">[</span>SELECT * FROM TEAMS<span style=\"font-weight: bold\">]</span>                                             <a href=\"file://d:\\Users\\ksbha\\miniconda3\\envs\\footy\\Lib\\site-packages\\snowflake\\connector\\cursor.py\" target=\"_blank\"><span style=\"color: #7f7f7f; text-decoration-color: #7f7f7f\">cursor.py</span></a><span style=\"color: #7f7f7f; text-decoration-color: #7f7f7f\">:</span><a href=\"file://d:\\Users\\ksbha\\miniconda3\\envs\\footy\\Lib\\site-packages\\snowflake\\connector\\cursor.py#833\" target=\"_blank\"><span style=\"color: #7f7f7f; text-decoration-color: #7f7f7f\">833</span></a>\n",
       "</pre>\n"
      ],
      "text/plain": [
       "\u001b[2;36m[12/21/23 17:53:15]\u001b[0m\u001b[2;36m \u001b[0m\u001b[34mINFO    \u001b[0m query: \u001b[1m[\u001b[0mSELECT * FROM TEAMS\u001b[1m]\u001b[0m                                             \u001b]8;id=556928;file://d:\\Users\\ksbha\\miniconda3\\envs\\footy\\Lib\\site-packages\\snowflake\\connector\\cursor.py\u001b\\\u001b[2mcursor.py\u001b[0m\u001b]8;;\u001b\\\u001b[2m:\u001b[0m\u001b]8;id=222472;file://d:\\Users\\ksbha\\miniconda3\\envs\\footy\\Lib\\site-packages\\snowflake\\connector\\cursor.py#833\u001b\\\u001b[2m833\u001b[0m\u001b]8;;\u001b\\\n"
      ]
     },
     "metadata": {},
     "output_type": "display_data"
    },
    {
     "data": {
      "text/html": [
       "<pre style=\"white-space:pre;overflow-x:auto;line-height:normal;font-family:Menlo,'DejaVu Sans Mono',consolas,'Courier New',monospace\"><span style=\"color: #7fbfbf; text-decoration-color: #7fbfbf\">[12/21/23 17:53:16] </span><span style=\"color: #000080; text-decoration-color: #000080\">INFO    </span> query execution done                                                     <a href=\"file://d:\\Users\\ksbha\\miniconda3\\envs\\footy\\Lib\\site-packages\\snowflake\\connector\\cursor.py\" target=\"_blank\"><span style=\"color: #7f7f7f; text-decoration-color: #7f7f7f\">cursor.py</span></a><span style=\"color: #7f7f7f; text-decoration-color: #7f7f7f\">:</span><a href=\"file://d:\\Users\\ksbha\\miniconda3\\envs\\footy\\Lib\\site-packages\\snowflake\\connector\\cursor.py#846\" target=\"_blank\"><span style=\"color: #7f7f7f; text-decoration-color: #7f7f7f\">846</span></a>\n",
       "</pre>\n"
      ],
      "text/plain": [
       "\u001b[2;36m[12/21/23 17:53:16]\u001b[0m\u001b[2;36m \u001b[0m\u001b[34mINFO    \u001b[0m query execution done                                                     \u001b]8;id=599225;file://d:\\Users\\ksbha\\miniconda3\\envs\\footy\\Lib\\site-packages\\snowflake\\connector\\cursor.py\u001b\\\u001b[2mcursor.py\u001b[0m\u001b]8;;\u001b\\\u001b[2m:\u001b[0m\u001b]8;id=546889;file://d:\\Users\\ksbha\\miniconda3\\envs\\footy\\Lib\\site-packages\\snowflake\\connector\\cursor.py#846\u001b\\\u001b[2m846\u001b[0m\u001b]8;;\u001b\\\n"
      ]
     },
     "metadata": {},
     "output_type": "display_data"
    },
    {
     "data": {
      "text/html": [
       "<pre style=\"white-space:pre;overflow-x:auto;line-height:normal;font-family:Menlo,'DejaVu Sans Mono',consolas,'Courier New',monospace\"><span style=\"color: #7fbfbf; text-decoration-color: #7fbfbf\">                    </span><span style=\"color: #000080; text-decoration-color: #000080\">INFO    </span> Number of results in first chunk: <span style=\"color: #008080; text-decoration-color: #008080; font-weight: bold\">25</span>                                     <a href=\"file://d:\\Users\\ksbha\\miniconda3\\envs\\footy\\Lib\\site-packages\\snowflake\\connector\\cursor.py\" target=\"_blank\"><span style=\"color: #7f7f7f; text-decoration-color: #7f7f7f\">cursor.py</span></a><span style=\"color: #7f7f7f; text-decoration-color: #7f7f7f\">:</span><a href=\"file://d:\\Users\\ksbha\\miniconda3\\envs\\footy\\Lib\\site-packages\\snowflake\\connector\\cursor.py#988\" target=\"_blank\"><span style=\"color: #7f7f7f; text-decoration-color: #7f7f7f\">988</span></a>\n",
       "</pre>\n"
      ],
      "text/plain": [
       "\u001b[2;36m                   \u001b[0m\u001b[2;36m \u001b[0m\u001b[34mINFO    \u001b[0m Number of results in first chunk: \u001b[1;36m25\u001b[0m                                     \u001b]8;id=187914;file://d:\\Users\\ksbha\\miniconda3\\envs\\footy\\Lib\\site-packages\\snowflake\\connector\\cursor.py\u001b\\\u001b[2mcursor.py\u001b[0m\u001b]8;;\u001b\\\u001b[2m:\u001b[0m\u001b]8;id=236764;file://d:\\Users\\ksbha\\miniconda3\\envs\\footy\\Lib\\site-packages\\snowflake\\connector\\cursor.py#988\u001b\\\u001b[2m988\u001b[0m\u001b]8;;\u001b\\\n"
      ]
     },
     "metadata": {},
     "output_type": "display_data"
    }
   ],
   "source": [
    "cur.execute('SELECT * FROM TEAMS')\n",
    "team_rows = cur.fetchall()\n",
    "column_names = [desc[0] for desc in cur.description]\n",
    "team_names = pd.DataFrame(team_rows, columns=column_names)"
   ]
  },
  {
   "cell_type": "code",
   "execution_count": 76,
   "metadata": {},
   "outputs": [],
   "source": [
    "team_names.drop(columns=['TEAM_LOGO_URL'], inplace=True)"
   ]
  },
  {
   "cell_type": "code",
   "execution_count": 113,
   "metadata": {},
   "outputs": [],
   "source": [
    "team_standard_stats = understat_table.copy()"
   ]
  },
  {
   "cell_type": "code",
   "execution_count": 114,
   "metadata": {},
   "outputs": [],
   "source": [
    "team_standard_stats['MATCHES_PLAYED'] = team_matches_played"
   ]
  },
  {
   "cell_type": "code",
   "execution_count": 115,
   "metadata": {},
   "outputs": [],
   "source": [
    "team_standard_stats.reset_index(inplace=True)"
   ]
  },
  {
   "cell_type": "code",
   "execution_count": 116,
   "metadata": {},
   "outputs": [],
   "source": [
    "team_standard_stats = team_standard_stats.merge(team_names, on='TEAM_NAME', how='left')"
   ]
  },
  {
   "cell_type": "code",
   "execution_count": 117,
   "metadata": {},
   "outputs": [],
   "source": [
    "team_standard_stats = team_standard_stats[['TEAM_FBREF_ID','SEASON','COMPETITION','MATCHES_PLAYED','TEAM_WINS', \n",
    "                                           'TEAM_DRAWS', 'TEAM_LOSSES', 'TEAM_PTS', 'TEAM_XPTS']]"
   ]
  },
  {
   "cell_type": "code",
   "execution_count": null,
   "metadata": {},
   "outputs": [],
   "source": [
    "upsert_to_snowflake(\"TEAM_STANDARD_STATS\", team_standard_stats, ['TEAM_FBREF_ID', 'COMPETITION','SEASON'])"
   ]
  },
  {
   "cell_type": "code",
   "execution_count": 119,
   "metadata": {},
   "outputs": [],
   "source": [
    "team_attacking_stats = understat_table.copy()"
   ]
  },
  {
   "cell_type": "code",
   "execution_count": 120,
   "metadata": {},
   "outputs": [],
   "source": [
    "team_attacking_stats = team_attacking_stats.reset_index().merge(team_names, on='TEAM_NAME', how='left')"
   ]
  },
  {
   "cell_type": "code",
   "execution_count": 121,
   "metadata": {},
   "outputs": [],
   "source": [
    "team_attacking_stats = team_attacking_stats[['TEAM_NAME','TEAM_FBREF_ID','COMPETITION','SEASON','NPxG','xG']]"
   ]
  },
  {
   "cell_type": "code",
   "execution_count": 122,
   "metadata": {},
   "outputs": [],
   "source": [
    "team_attacking_stats.rename(columns={'NPxG': 'NPXG', 'xG':'XG'}, inplace=True)"
   ]
  },
  {
   "cell_type": "code",
   "execution_count": 123,
   "metadata": {},
   "outputs": [],
   "source": [
    "team_attacking_stats.set_index(['COMPETITION', 'SEASON', 'TEAM_NAME'], inplace=True)"
   ]
  },
  {
   "cell_type": "code",
   "execution_count": 124,
   "metadata": {},
   "outputs": [],
   "source": [
    "team_attacking_stats['GOALS_SCORED'] = team_goals_scored\n",
    "team_attacking_stats['SHOTS'] = team_shots\n",
    "team_attacking_stats['SHOTS_ON_TARGET'] = team_shotsOT\n",
    "team_attacking_stats['PASS_COMPLETED'] = team_pass_completed\n",
    "team_attacking_stats['PASS_ATTEMPTED'] = team_pass_attempted\n",
    "team_attacking_stats['TAKEONS_ATTEMPTED'] = team_takeons_attempted\n",
    "team_attacking_stats['TAKEONS_COMPLETED'] = team_takeons_completed\n",
    "team_attacking_stats['CROSSES_INTO_PA'] = team_crossesintoPA\n",
    "team_attacking_stats['FOULS_AGAINST'] = team_fouls_against"
   ]
  },
  {
   "cell_type": "code",
   "execution_count": 125,
   "metadata": {},
   "outputs": [],
   "source": [
    "team_attacking_stats.reset_index(inplace=True)\n",
    "team_attacking_stats.drop(columns=['TEAM_NAME'], inplace=True)"
   ]
  },
  {
   "cell_type": "code",
   "execution_count": null,
   "metadata": {},
   "outputs": [],
   "source": [
    "upsert_to_snowflake(\"TEAM_ATTACKING_STATS\", team_attacking_stats, ['TEAM_FBREF_ID', 'COMPETITION','SEASON'])"
   ]
  },
  {
   "cell_type": "code",
   "execution_count": 153,
   "metadata": {},
   "outputs": [],
   "source": [
    "alter_team_defending_stats_query = \"\"\"\n",
    "ALTER TABLE TEAM_DEFENDING_STATS ADD CLEAN_SHEETS INT;\n",
    "\"\"\""
   ]
  },
  {
   "cell_type": "code",
   "execution_count": 154,
   "metadata": {},
   "outputs": [
    {
     "data": {
      "text/html": [
       "<pre style=\"white-space:pre;overflow-x:auto;line-height:normal;font-family:Menlo,'DejaVu Sans Mono',consolas,'Courier New',monospace\"><span style=\"color: #7fbfbf; text-decoration-color: #7fbfbf\">[01/16/24 23:21:58] </span><span style=\"color: #000080; text-decoration-color: #000080\">INFO    </span> query: <span style=\"font-weight: bold\">[</span>CREATE TABLE IF NOT EXISTS TEAM_DEFENDING_STATS <span style=\"font-weight: bold\">(</span> TEAM_FBREF_ID  <a href=\"file://d:\\Users\\ksbha\\miniconda3\\envs\\footy\\Lib\\site-packages\\snowflake\\connector\\cursor.py\" target=\"_blank\"><span style=\"color: #7f7f7f; text-decoration-color: #7f7f7f\">cursor.py</span></a><span style=\"color: #7f7f7f; text-decoration-color: #7f7f7f\">:</span><a href=\"file://d:\\Users\\ksbha\\miniconda3\\envs\\footy\\Lib\\site-packages\\snowflake\\connector\\cursor.py#833\" target=\"_blank\"><span style=\"color: #7f7f7f; text-decoration-color: #7f7f7f\">833</span></a>\n",
       "<span style=\"color: #7fbfbf; text-decoration-color: #7fbfbf\">                    </span>         <span style=\"color: #800080; text-decoration-color: #800080; font-weight: bold\">VARCHAR</span><span style=\"font-weight: bold\">(</span><span style=\"color: #008080; text-decoration-color: #008080; font-weight: bold\">255</span><span style=\"font-weight: bold\">)</span>, SE<span style=\"color: #808000; text-decoration-color: #808000\">...</span><span style=\"font-weight: bold\">]</span>                                                     <span style=\"color: #7f7f7f; text-decoration-color: #7f7f7f\">             </span>\n",
       "</pre>\n"
      ],
      "text/plain": [
       "\u001b[2;36m[01/16/24 23:21:58]\u001b[0m\u001b[2;36m \u001b[0m\u001b[34mINFO    \u001b[0m query: \u001b[1m[\u001b[0mCREATE TABLE IF NOT EXISTS TEAM_DEFENDING_STATS \u001b[1m(\u001b[0m TEAM_FBREF_ID  \u001b]8;id=479004;file://d:\\Users\\ksbha\\miniconda3\\envs\\footy\\Lib\\site-packages\\snowflake\\connector\\cursor.py\u001b\\\u001b[2mcursor.py\u001b[0m\u001b]8;;\u001b\\\u001b[2m:\u001b[0m\u001b]8;id=341583;file://d:\\Users\\ksbha\\miniconda3\\envs\\footy\\Lib\\site-packages\\snowflake\\connector\\cursor.py#833\u001b\\\u001b[2m833\u001b[0m\u001b]8;;\u001b\\\n",
       "\u001b[2;36m                    \u001b[0m         \u001b[1;35mVARCHAR\u001b[0m\u001b[1m(\u001b[0m\u001b[1;36m255\u001b[0m\u001b[1m)\u001b[0m, SE\u001b[33m...\u001b[0m\u001b[1m]\u001b[0m                                                     \u001b[2m             \u001b[0m\n"
      ]
     },
     "metadata": {},
     "output_type": "display_data"
    },
    {
     "data": {
      "text/html": [
       "<pre style=\"white-space:pre;overflow-x:auto;line-height:normal;font-family:Menlo,'DejaVu Sans Mono',consolas,'Courier New',monospace\"><span style=\"color: #7fbfbf; text-decoration-color: #7fbfbf\">                    </span><span style=\"color: #000080; text-decoration-color: #000080\">INFO    </span> query execution done                                                     <a href=\"file://d:\\Users\\ksbha\\miniconda3\\envs\\footy\\Lib\\site-packages\\snowflake\\connector\\cursor.py\" target=\"_blank\"><span style=\"color: #7f7f7f; text-decoration-color: #7f7f7f\">cursor.py</span></a><span style=\"color: #7f7f7f; text-decoration-color: #7f7f7f\">:</span><a href=\"file://d:\\Users\\ksbha\\miniconda3\\envs\\footy\\Lib\\site-packages\\snowflake\\connector\\cursor.py#846\" target=\"_blank\"><span style=\"color: #7f7f7f; text-decoration-color: #7f7f7f\">846</span></a>\n",
       "</pre>\n"
      ],
      "text/plain": [
       "\u001b[2;36m                   \u001b[0m\u001b[2;36m \u001b[0m\u001b[34mINFO    \u001b[0m query execution done                                                     \u001b]8;id=52788;file://d:\\Users\\ksbha\\miniconda3\\envs\\footy\\Lib\\site-packages\\snowflake\\connector\\cursor.py\u001b\\\u001b[2mcursor.py\u001b[0m\u001b]8;;\u001b\\\u001b[2m:\u001b[0m\u001b]8;id=579773;file://d:\\Users\\ksbha\\miniconda3\\envs\\footy\\Lib\\site-packages\\snowflake\\connector\\cursor.py#846\u001b\\\u001b[2m846\u001b[0m\u001b]8;;\u001b\\\n"
      ]
     },
     "metadata": {},
     "output_type": "display_data"
    },
    {
     "data": {
      "text/html": [
       "<pre style=\"white-space:pre;overflow-x:auto;line-height:normal;font-family:Menlo,'DejaVu Sans Mono',consolas,'Courier New',monospace\"><span style=\"color: #7fbfbf; text-decoration-color: #7fbfbf\">                    </span><span style=\"color: #000080; text-decoration-color: #000080\">INFO    </span> Number of results in first chunk: <span style=\"color: #008080; text-decoration-color: #008080; font-weight: bold\">1</span>                                      <a href=\"file://d:\\Users\\ksbha\\miniconda3\\envs\\footy\\Lib\\site-packages\\snowflake\\connector\\cursor.py\" target=\"_blank\"><span style=\"color: #7f7f7f; text-decoration-color: #7f7f7f\">cursor.py</span></a><span style=\"color: #7f7f7f; text-decoration-color: #7f7f7f\">:</span><a href=\"file://d:\\Users\\ksbha\\miniconda3\\envs\\footy\\Lib\\site-packages\\snowflake\\connector\\cursor.py#988\" target=\"_blank\"><span style=\"color: #7f7f7f; text-decoration-color: #7f7f7f\">988</span></a>\n",
       "</pre>\n"
      ],
      "text/plain": [
       "\u001b[2;36m                   \u001b[0m\u001b[2;36m \u001b[0m\u001b[34mINFO    \u001b[0m Number of results in first chunk: \u001b[1;36m1\u001b[0m                                      \u001b]8;id=749622;file://d:\\Users\\ksbha\\miniconda3\\envs\\footy\\Lib\\site-packages\\snowflake\\connector\\cursor.py\u001b\\\u001b[2mcursor.py\u001b[0m\u001b]8;;\u001b\\\u001b[2m:\u001b[0m\u001b]8;id=392892;file://d:\\Users\\ksbha\\miniconda3\\envs\\footy\\Lib\\site-packages\\snowflake\\connector\\cursor.py#988\u001b\\\u001b[2m988\u001b[0m\u001b]8;;\u001b\\\n"
      ]
     },
     "metadata": {},
     "output_type": "display_data"
    },
    {
     "data": {
      "text/plain": [
       "<snowflake.connector.cursor.SnowflakeCursor at 0x194c817c750>"
      ]
     },
     "execution_count": 154,
     "metadata": {},
     "output_type": "execute_result"
    }
   ],
   "source": [
    "cur.execute(alter_team_defending_stats_query)"
   ]
  },
  {
   "cell_type": "code",
   "execution_count": 155,
   "metadata": {},
   "outputs": [],
   "source": [
    "team_defending_stats = understat_table.copy()"
   ]
  },
  {
   "cell_type": "code",
   "execution_count": 156,
   "metadata": {},
   "outputs": [],
   "source": [
    "team_defending_stats = team_defending_stats.reset_index().merge(team_names, on='TEAM_NAME', how='left')"
   ]
  },
  {
   "cell_type": "code",
   "execution_count": 157,
   "metadata": {},
   "outputs": [],
   "source": [
    "team_defending_stats = team_defending_stats[['TEAM_NAME','TEAM_FBREF_ID','COMPETITION','SEASON']]"
   ]
  },
  {
   "cell_type": "code",
   "execution_count": 158,
   "metadata": {},
   "outputs": [],
   "source": [
    "team_defending_stats.set_index(['COMPETITION', 'SEASON', 'TEAM_NAME'], inplace=True)"
   ]
  },
  {
   "cell_type": "code",
   "execution_count": 159,
   "metadata": {},
   "outputs": [],
   "source": [
    "team_defending_stats['GOALS_CONCEDED'] = team_goals_conceded\n",
    "team_defending_stats['XG_AGAINST'] = understat_table['XG_AGAINST']\n",
    "team_defending_stats['NPXG_AGAINST'] = understat_table['NPXG_AGAINST']\n",
    "team_defending_stats['TACKLES'] = team_tackles\n",
    "team_defending_stats['TACKLES_WON'] = team_tackles_won\n",
    "team_defending_stats['FOULS_MADE'] = team_fouls_made\n",
    "team_defending_stats['INTERCEPTIONS'] = team_interceptions\n",
    "team_defending_stats['BLOCKED_SHOTS'] = team_blocks_shots\n",
    "team_defending_stats['BLOCKED_PASSES'] = team_blocks_pass\n",
    "team_defending_stats['CLEARANCES'] = team_clearances\n",
    "team_defending_stats['PPDA'] = understat_table['PPDA']\n",
    "team_defending_stats['OPP_PPDA'] = team_OPPDA\n",
    "team_defending_stats['POSS_WON'] = teams_poss_won\n",
    "team_defending_stats['FINAL_3RD_PASSES_AGAINST'] = team_final_3rd_passes_against\n",
    "team_defending_stats['CLEAN_SHEETS'] = team_cleansheets"
   ]
  },
  {
   "cell_type": "code",
   "execution_count": 160,
   "metadata": {},
   "outputs": [],
   "source": [
    "team_defending_stats.reset_index(inplace=True)\n",
    "team_defending_stats.drop(columns=['TEAM_NAME'], inplace=True)"
   ]
  },
  {
   "cell_type": "code",
   "execution_count": null,
   "metadata": {},
   "outputs": [],
   "source": [
    "upsert_to_snowflake(\"TEAM_DEFENDING_STATS\", team_defending_stats, ['TEAM_FBREF_ID', 'COMPETITION','SEASON'])"
   ]
  },
  {
   "cell_type": "code",
   "execution_count": 51,
   "metadata": {},
   "outputs": [],
   "source": [
    "team_misc_stats = understat_table.copy()"
   ]
  },
  {
   "cell_type": "code",
   "execution_count": 52,
   "metadata": {},
   "outputs": [],
   "source": [
    "team_misc_stats = team_misc_stats.reset_index().merge(team_names, on='TEAM_NAME', how='left')"
   ]
  },
  {
   "cell_type": "code",
   "execution_count": 53,
   "metadata": {},
   "outputs": [],
   "source": [
    "team_misc_stats = team_misc_stats[['TEAM_NAME','TEAM_FBREF_ID','COMPETITION','SEASON']]"
   ]
  },
  {
   "cell_type": "code",
   "execution_count": 54,
   "metadata": {},
   "outputs": [],
   "source": [
    "team_misc_stats.set_index(['COMPETITION', 'SEASON', 'TEAM_NAME'], inplace=True)"
   ]
  },
  {
   "cell_type": "code",
   "execution_count": 55,
   "metadata": {},
   "outputs": [],
   "source": [
    "team_misc_stats['AERIALS_WON'] = team_aerials_won\n",
    "team_misc_stats['AERIALS_LOST'] = team_aerials_lost"
   ]
  },
  {
   "cell_type": "code",
   "execution_count": 56,
   "metadata": {},
   "outputs": [],
   "source": [
    "team_misc_stats.reset_index(inplace=True)\n",
    "team_misc_stats.drop(columns=['TEAM_NAME'], inplace=True)"
   ]
  },
  {
   "cell_type": "code",
   "execution_count": null,
   "metadata": {},
   "outputs": [],
   "source": [
    "upsert_to_snowflake(\"TEAM_MISC_STATS\", team_misc_stats, ['TEAM_FBREF_ID', 'COMPETITION','SEASON'])"
   ]
  },
  {
   "cell_type": "code",
   "execution_count": 57,
   "metadata": {},
   "outputs": [],
   "source": [
    "df_competitions = fbref_schedule.reset_index()[['COMPETITION', 'SEASON']].drop_duplicates().copy()"
   ]
  },
  {
   "cell_type": "code",
   "execution_count": 58,
   "metadata": {},
   "outputs": [],
   "source": [
    "df_competitions['COMPETITION_NAME'] = ''\n",
    "df_competitions['COMPETITION_ACRONYM'] = ''"
   ]
  },
  {
   "cell_type": "code",
   "execution_count": 59,
   "metadata": {},
   "outputs": [],
   "source": [
    "df_competitions.loc[df_competitions['COMPETITION'] == 'ENG-Premier League', 'COMPETITION_NAME'] = 'English Premier League'\n",
    "df_competitions.loc[df_competitions['COMPETITION'] == 'ENG-Premier League', 'COMPETITION_ACRONYM'] = 'EPL'"
   ]
  },
  {
   "cell_type": "code",
   "execution_count": null,
   "metadata": {},
   "outputs": [],
   "source": [
    "upsert_to_snowflake(\"COMPETITIONS\", df_competitions, ['COMPETITION','SEASON'])"
   ]
  },
  {
   "cell_type": "code",
   "execution_count": 60,
   "metadata": {},
   "outputs": [],
   "source": [
    "df_seasons = df_competitions[['SEASON']].drop_duplicates().copy()"
   ]
  },
  {
   "cell_type": "code",
   "execution_count": 61,
   "metadata": {},
   "outputs": [],
   "source": [
    "df_seasons['SEASON_NAME'] = ''\n",
    "df_seasons['START_YEAR'] = 0\n",
    "df_seasons['END_YEAR'] = 0"
   ]
  },
  {
   "cell_type": "code",
   "execution_count": 62,
   "metadata": {},
   "outputs": [],
   "source": [
    "df_seasons.loc[df_seasons['SEASON'] == 2122, 'SEASON_NAME'] = '2021-2022'\n",
    "df_seasons.loc[df_seasons['SEASON'] == 2122, 'START_YEAR'] = 2021\n",
    "df_seasons.loc[df_seasons['SEASON'] == 2122, 'END_YEAR'] = 2022\n",
    "df_seasons.loc[df_seasons['SEASON'] == 2324, 'SEASON_NAME'] = '2023-2024'\n",
    "df_seasons.loc[df_seasons['SEASON'] == 2324, 'START_YEAR'] = 2023\n",
    "df_seasons.loc[df_seasons['SEASON'] == 2324, 'END_YEAR'] = 2024"
   ]
  },
  {
   "cell_type": "code",
   "execution_count": null,
   "metadata": {},
   "outputs": [],
   "source": [
    "upsert_to_snowflake(\"SEASONS\", df_seasons, ['SEASON'])"
   ]
  },
  {
   "cell_type": "code",
   "execution_count": 63,
   "metadata": {},
   "outputs": [],
   "source": [
    "df_stadiums = fbref_schedule.reset_index()[['home_team', 'SEASON',\n",
    "            'venue']].drop_duplicates().rename(columns={'home_team': 'TEAM_NAME', 'venue': 'STADIUM'})"
   ]
  },
  {
   "cell_type": "code",
   "execution_count": 64,
   "metadata": {},
   "outputs": [],
   "source": [
    "df_stadiums = df_stadiums.merge(team_names, on='TEAM_NAME')[['STADIUM','SEASON','TEAM_FBREF_ID']]"
   ]
  },
  {
   "cell_type": "code",
   "execution_count": null,
   "metadata": {},
   "outputs": [],
   "source": [
    "upsert_to_snowflake(\"STADIUMS\", df_stadiums, ['TEAM_FBREF_ID','STADIUM', 'SEASON'])"
   ]
  },
  {
   "cell_type": "code",
   "execution_count": 38,
   "metadata": {},
   "outputs": [],
   "source": [
    "df_matches = fbref_schedule.reset_index()[['game_id', 'date', 'time', 'home_team', 'away_team', 'COMPETITION', 'SEASON', 'venue',\n",
    "                                           'week', 'day', 'score', 'home_xg', 'away_xg', 'attendance', 'referee']]"
   ]
  },
  {
   "cell_type": "code",
   "execution_count": 39,
   "metadata": {},
   "outputs": [],
   "source": [
    "df_matches = df_matches.merge(team_names.rename(columns={'TEAM_FBREF_ID': 'home_team_id', \n",
    "                                                         'TEAM_NAME': 'home_team'}), on='home_team', how='left')"
   ]
  },
  {
   "cell_type": "code",
   "execution_count": 40,
   "metadata": {},
   "outputs": [],
   "source": [
    "df_matches = df_matches.merge(team_names.rename(columns={'TEAM_FBREF_ID': 'away_team_id', \n",
    "                                                         'TEAM_NAME': 'away_team'}), on='away_team', how='left')"
   ]
  },
  {
   "cell_type": "code",
   "execution_count": 51,
   "metadata": {},
   "outputs": [
    {
     "data": {
      "text/html": [
       "<div>\n",
       "<style scoped>\n",
       "    .dataframe tbody tr th:only-of-type {\n",
       "        vertical-align: middle;\n",
       "    }\n",
       "\n",
       "    .dataframe tbody tr th {\n",
       "        vertical-align: top;\n",
       "    }\n",
       "\n",
       "    .dataframe thead th {\n",
       "        text-align: right;\n",
       "    }\n",
       "</style>\n",
       "<table border=\"1\" class=\"dataframe\">\n",
       "  <thead>\n",
       "    <tr style=\"text-align: right;\">\n",
       "      <th></th>\n",
       "      <th>game_id</th>\n",
       "      <th>date</th>\n",
       "      <th>time</th>\n",
       "      <th>home_team</th>\n",
       "      <th>away_team</th>\n",
       "      <th>COMPETITION</th>\n",
       "      <th>SEASON</th>\n",
       "      <th>venue</th>\n",
       "      <th>week</th>\n",
       "      <th>day</th>\n",
       "      <th>score</th>\n",
       "      <th>home_xg</th>\n",
       "      <th>away_xg</th>\n",
       "      <th>attendance</th>\n",
       "      <th>referee</th>\n",
       "      <th>home_team_id</th>\n",
       "      <th>away_team_id</th>\n",
       "    </tr>\n",
       "  </thead>\n",
       "  <tbody>\n",
       "    <tr>\n",
       "      <th>0</th>\n",
       "      <td>3a6836b4</td>\n",
       "      <td>2023-08-11</td>\n",
       "      <td>20:00</td>\n",
       "      <td>Burnley</td>\n",
       "      <td>Manchester City</td>\n",
       "      <td>ENG-Premier League</td>\n",
       "      <td>2324</td>\n",
       "      <td>Turf Moor</td>\n",
       "      <td>1</td>\n",
       "      <td>Fri</td>\n",
       "      <td>0–3</td>\n",
       "      <td>0.3</td>\n",
       "      <td>1.9</td>\n",
       "      <td>21572</td>\n",
       "      <td>Craig Pawson</td>\n",
       "      <td>943e8050</td>\n",
       "      <td>b8fd03ef</td>\n",
       "    </tr>\n",
       "    <tr>\n",
       "      <th>1</th>\n",
       "      <td>26a7f90c</td>\n",
       "      <td>2023-08-12</td>\n",
       "      <td>12:30</td>\n",
       "      <td>Arsenal</td>\n",
       "      <td>Nott'ham Forest</td>\n",
       "      <td>ENG-Premier League</td>\n",
       "      <td>2324</td>\n",
       "      <td>Emirates Stadium</td>\n",
       "      <td>1</td>\n",
       "      <td>Sat</td>\n",
       "      <td>2–1</td>\n",
       "      <td>0.8</td>\n",
       "      <td>1.2</td>\n",
       "      <td>59984</td>\n",
       "      <td>Michael Oliver</td>\n",
       "      <td>18bb7c10</td>\n",
       "      <td>e4a775cb</td>\n",
       "    </tr>\n",
       "    <tr>\n",
       "      <th>2</th>\n",
       "      <td>d6bbf293</td>\n",
       "      <td>2023-08-12</td>\n",
       "      <td>15:00</td>\n",
       "      <td>Bournemouth</td>\n",
       "      <td>West Ham</td>\n",
       "      <td>ENG-Premier League</td>\n",
       "      <td>2324</td>\n",
       "      <td>Vitality Stadium</td>\n",
       "      <td>1</td>\n",
       "      <td>Sat</td>\n",
       "      <td>1–1</td>\n",
       "      <td>1.3</td>\n",
       "      <td>1.1</td>\n",
       "      <td>11245</td>\n",
       "      <td>Peter Bankes</td>\n",
       "      <td>4ba7cbea</td>\n",
       "      <td>7c21e445</td>\n",
       "    </tr>\n",
       "    <tr>\n",
       "      <th>3</th>\n",
       "      <td>56a137f7</td>\n",
       "      <td>2023-08-12</td>\n",
       "      <td>15:00</td>\n",
       "      <td>Brighton</td>\n",
       "      <td>Luton Town</td>\n",
       "      <td>ENG-Premier League</td>\n",
       "      <td>2324</td>\n",
       "      <td>The American Express Community Stadium</td>\n",
       "      <td>1</td>\n",
       "      <td>Sat</td>\n",
       "      <td>4–1</td>\n",
       "      <td>4.0</td>\n",
       "      <td>1.5</td>\n",
       "      <td>31872</td>\n",
       "      <td>David Coote</td>\n",
       "      <td>d07537b9</td>\n",
       "      <td>e297cd13</td>\n",
       "    </tr>\n",
       "    <tr>\n",
       "      <th>4</th>\n",
       "      <td>15addfc7</td>\n",
       "      <td>2023-08-12</td>\n",
       "      <td>15:00</td>\n",
       "      <td>Everton</td>\n",
       "      <td>Fulham</td>\n",
       "      <td>ENG-Premier League</td>\n",
       "      <td>2324</td>\n",
       "      <td>Goodison Park</td>\n",
       "      <td>1</td>\n",
       "      <td>Sat</td>\n",
       "      <td>0–1</td>\n",
       "      <td>2.7</td>\n",
       "      <td>1.5</td>\n",
       "      <td>39940</td>\n",
       "      <td>Stuart Attwell</td>\n",
       "      <td>d3fd31cc</td>\n",
       "      <td>fd962109</td>\n",
       "    </tr>\n",
       "    <tr>\n",
       "      <th>...</th>\n",
       "      <td>...</td>\n",
       "      <td>...</td>\n",
       "      <td>...</td>\n",
       "      <td>...</td>\n",
       "      <td>...</td>\n",
       "      <td>...</td>\n",
       "      <td>...</td>\n",
       "      <td>...</td>\n",
       "      <td>...</td>\n",
       "      <td>...</td>\n",
       "      <td>...</td>\n",
       "      <td>...</td>\n",
       "      <td>...</td>\n",
       "      <td>...</td>\n",
       "      <td>...</td>\n",
       "      <td>...</td>\n",
       "      <td>...</td>\n",
       "    </tr>\n",
       "    <tr>\n",
       "      <th>174</th>\n",
       "      <td>46bfb645</td>\n",
       "      <td>2023-12-23</td>\n",
       "      <td>15:00</td>\n",
       "      <td>Luton Town</td>\n",
       "      <td>Newcastle Utd</td>\n",
       "      <td>ENG-Premier League</td>\n",
       "      <td>2324</td>\n",
       "      <td>Kenilworth Road Stadium</td>\n",
       "      <td>18</td>\n",
       "      <td>Sat</td>\n",
       "      <td>1–0</td>\n",
       "      <td>1.4</td>\n",
       "      <td>1.4</td>\n",
       "      <td>11042</td>\n",
       "      <td>Darren England</td>\n",
       "      <td>e297cd13</td>\n",
       "      <td>b2b47a98</td>\n",
       "    </tr>\n",
       "    <tr>\n",
       "      <th>176</th>\n",
       "      <td>c5548935</td>\n",
       "      <td>2023-12-23</td>\n",
       "      <td>15:00</td>\n",
       "      <td>Nott'ham Forest</td>\n",
       "      <td>Bournemouth</td>\n",
       "      <td>ENG-Premier League</td>\n",
       "      <td>2324</td>\n",
       "      <td>The City Ground</td>\n",
       "      <td>18</td>\n",
       "      <td>Sat</td>\n",
       "      <td>2–3</td>\n",
       "      <td>1.0</td>\n",
       "      <td>1.6</td>\n",
       "      <td>29188</td>\n",
       "      <td>Robert Jones</td>\n",
       "      <td>e4a775cb</td>\n",
       "      <td>4ba7cbea</td>\n",
       "    </tr>\n",
       "    <tr>\n",
       "      <th>177</th>\n",
       "      <td>849071fe</td>\n",
       "      <td>2023-12-23</td>\n",
       "      <td>15:00</td>\n",
       "      <td>Tottenham</td>\n",
       "      <td>Everton</td>\n",
       "      <td>ENG-Premier League</td>\n",
       "      <td>2324</td>\n",
       "      <td>Tottenham Hotspur Stadium</td>\n",
       "      <td>18</td>\n",
       "      <td>Sat</td>\n",
       "      <td>2–1</td>\n",
       "      <td>1.5</td>\n",
       "      <td>1.8</td>\n",
       "      <td>61808</td>\n",
       "      <td>Stuart Attwell</td>\n",
       "      <td>361ca564</td>\n",
       "      <td>d3fd31cc</td>\n",
       "    </tr>\n",
       "    <tr>\n",
       "      <th>178</th>\n",
       "      <td>328777ed</td>\n",
       "      <td>2023-12-23</td>\n",
       "      <td>12:30</td>\n",
       "      <td>West Ham</td>\n",
       "      <td>Manchester Utd</td>\n",
       "      <td>ENG-Premier League</td>\n",
       "      <td>2324</td>\n",
       "      <td>London Stadium</td>\n",
       "      <td>18</td>\n",
       "      <td>Sat</td>\n",
       "      <td>2–0</td>\n",
       "      <td>1.2</td>\n",
       "      <td>1.0</td>\n",
       "      <td>64472</td>\n",
       "      <td>Simon Hooper</td>\n",
       "      <td>7c21e445</td>\n",
       "      <td>19538871</td>\n",
       "    </tr>\n",
       "    <tr>\n",
       "      <th>179</th>\n",
       "      <td>8c0b314c</td>\n",
       "      <td>2023-12-24</td>\n",
       "      <td>13:00</td>\n",
       "      <td>Wolves</td>\n",
       "      <td>Chelsea</td>\n",
       "      <td>ENG-Premier League</td>\n",
       "      <td>2324</td>\n",
       "      <td>Molineux Stadium</td>\n",
       "      <td>18</td>\n",
       "      <td>Sun</td>\n",
       "      <td>2–1</td>\n",
       "      <td>1.3</td>\n",
       "      <td>2.0</td>\n",
       "      <td>31641</td>\n",
       "      <td>David Coote</td>\n",
       "      <td>8cec06e1</td>\n",
       "      <td>cff3d9bb</td>\n",
       "    </tr>\n",
       "  </tbody>\n",
       "</table>\n",
       "<p>179 rows × 17 columns</p>\n",
       "</div>"
      ],
      "text/plain": [
       "      game_id       date   time        home_team        away_team  \\\n",
       "0    3a6836b4 2023-08-11  20:00          Burnley  Manchester City   \n",
       "1    26a7f90c 2023-08-12  12:30          Arsenal  Nott'ham Forest   \n",
       "2    d6bbf293 2023-08-12  15:00      Bournemouth         West Ham   \n",
       "3    56a137f7 2023-08-12  15:00         Brighton       Luton Town   \n",
       "4    15addfc7 2023-08-12  15:00          Everton           Fulham   \n",
       "..        ...        ...    ...              ...              ...   \n",
       "174  46bfb645 2023-12-23  15:00       Luton Town    Newcastle Utd   \n",
       "176  c5548935 2023-12-23  15:00  Nott'ham Forest      Bournemouth   \n",
       "177  849071fe 2023-12-23  15:00        Tottenham          Everton   \n",
       "178  328777ed 2023-12-23  12:30         West Ham   Manchester Utd   \n",
       "179  8c0b314c 2023-12-24  13:00           Wolves          Chelsea   \n",
       "\n",
       "            COMPETITION  SEASON                                   venue  week  \\\n",
       "0    ENG-Premier League    2324                               Turf Moor     1   \n",
       "1    ENG-Premier League    2324                        Emirates Stadium     1   \n",
       "2    ENG-Premier League    2324                        Vitality Stadium     1   \n",
       "3    ENG-Premier League    2324  The American Express Community Stadium     1   \n",
       "4    ENG-Premier League    2324                           Goodison Park     1   \n",
       "..                  ...     ...                                     ...   ...   \n",
       "174  ENG-Premier League    2324                 Kenilworth Road Stadium    18   \n",
       "176  ENG-Premier League    2324                         The City Ground    18   \n",
       "177  ENG-Premier League    2324               Tottenham Hotspur Stadium    18   \n",
       "178  ENG-Premier League    2324                          London Stadium    18   \n",
       "179  ENG-Premier League    2324                        Molineux Stadium    18   \n",
       "\n",
       "     day score  home_xg  away_xg  attendance         referee home_team_id  \\\n",
       "0    Fri   0–3      0.3      1.9       21572    Craig Pawson     943e8050   \n",
       "1    Sat   2–1      0.8      1.2       59984  Michael Oliver     18bb7c10   \n",
       "2    Sat   1–1      1.3      1.1       11245    Peter Bankes     4ba7cbea   \n",
       "3    Sat   4–1      4.0      1.5       31872     David Coote     d07537b9   \n",
       "4    Sat   0–1      2.7      1.5       39940  Stuart Attwell     d3fd31cc   \n",
       "..   ...   ...      ...      ...         ...             ...          ...   \n",
       "174  Sat   1–0      1.4      1.4       11042  Darren England     e297cd13   \n",
       "176  Sat   2–3      1.0      1.6       29188    Robert Jones     e4a775cb   \n",
       "177  Sat   2–1      1.5      1.8       61808  Stuart Attwell     361ca564   \n",
       "178  Sat   2–0      1.2      1.0       64472    Simon Hooper     7c21e445   \n",
       "179  Sun   2–1      1.3      2.0       31641     David Coote     8cec06e1   \n",
       "\n",
       "    away_team_id  \n",
       "0       b8fd03ef  \n",
       "1       e4a775cb  \n",
       "2       7c21e445  \n",
       "3       e297cd13  \n",
       "4       fd962109  \n",
       "..           ...  \n",
       "174     b2b47a98  \n",
       "176     4ba7cbea  \n",
       "177     d3fd31cc  \n",
       "178     19538871  \n",
       "179     cff3d9bb  \n",
       "\n",
       "[179 rows x 17 columns]"
      ]
     },
     "execution_count": 51,
     "metadata": {},
     "output_type": "execute_result"
    }
   ],
   "source": [
    "df_matches = df_matches[df_matches.game_id.notna()]"
   ]
  },
  {
   "cell_type": "code",
   "execution_count": 23,
   "metadata": {},
   "outputs": [],
   "source": [
    "# Combine df_matches date and time to a dt.datatime configuration\n",
    "df_matches['date'] = df_matches['date'].astype(str)\n",
    "df_matches['time'] = df_matches['time'].astype(str)\n",
    "df_matches['date_time'] = df_matches['date'] + ' ' + df_matches['time']\n",
    "df_matches['date_time'] = pd.to_datetime(df_matches['date_time'])"
   ]
  },
  {
   "cell_type": "code",
   "execution_count": 24,
   "metadata": {},
   "outputs": [],
   "source": [
    "# Split score in df_matches by \"-\" to home_team_score and away_team_score \n",
    "df_matches[['home_team_score', 'away_team_score']] = df_matches['score'].str.split('–', expand=True)"
   ]
  },
  {
   "cell_type": "code",
   "execution_count": 25,
   "metadata": {},
   "outputs": [],
   "source": [
    "df_matches.rename(columns={'game_id': 'MATCH_ID', 'date_time': 'DATE_TIME', 'home_team_id': 'HOME_TEAM_ID', 'away_team_id': 'AWAY_TEAM_ID',\n",
    "                           'venue': 'STADIUM', 'week': 'GAMEWEEK', 'day': 'DAY','home_team_score': 'HOME_TEAM_SCORE', \n",
    "                           'away_team_score':'AWAY_TEAM_SCORE', 'home_xg':'HOME_TEAM_XG','away_xg':'AWAY_TEAM_XG',\n",
    "                           'attendance':'ATTENDANCE', 'referee': 'REFEREE'}, inplace=True)"
   ]
  },
  {
   "cell_type": "code",
   "execution_count": 26,
   "metadata": {},
   "outputs": [],
   "source": [
    "df_matches.drop(columns=['date', 'time', 'home_team', 'away_team', 'score'], inplace=True)"
   ]
  },
  {
   "cell_type": "code",
   "execution_count": 27,
   "metadata": {},
   "outputs": [],
   "source": [
    "df_matches['DATE_TIME'] = df_matches['DATE_TIME'].astype('string')"
   ]
  },
  {
   "cell_type": "code",
   "execution_count": 28,
   "metadata": {},
   "outputs": [
    {
     "data": {
      "text/html": [
       "<div>\n",
       "<style scoped>\n",
       "    .dataframe tbody tr th:only-of-type {\n",
       "        vertical-align: middle;\n",
       "    }\n",
       "\n",
       "    .dataframe tbody tr th {\n",
       "        vertical-align: top;\n",
       "    }\n",
       "\n",
       "    .dataframe thead th {\n",
       "        text-align: right;\n",
       "    }\n",
       "</style>\n",
       "<table border=\"1\" class=\"dataframe\">\n",
       "  <thead>\n",
       "    <tr style=\"text-align: right;\">\n",
       "      <th></th>\n",
       "      <th>MATCH_ID</th>\n",
       "      <th>COMPETITION</th>\n",
       "      <th>SEASON</th>\n",
       "      <th>STADIUM</th>\n",
       "      <th>GAMEWEEK</th>\n",
       "      <th>DAY</th>\n",
       "      <th>HOME_TEAM_XG</th>\n",
       "      <th>AWAY_TEAM_XG</th>\n",
       "      <th>ATTENDANCE</th>\n",
       "      <th>REFEREE</th>\n",
       "      <th>HOME_TEAM_ID</th>\n",
       "      <th>AWAY_TEAM_ID</th>\n",
       "      <th>DATE_TIME</th>\n",
       "      <th>HOME_TEAM_SCORE</th>\n",
       "      <th>AWAY_TEAM_SCORE</th>\n",
       "    </tr>\n",
       "  </thead>\n",
       "  <tbody>\n",
       "    <tr>\n",
       "      <th>0</th>\n",
       "      <td>3a6836b4</td>\n",
       "      <td>ENG-Premier League</td>\n",
       "      <td>2324</td>\n",
       "      <td>Turf Moor</td>\n",
       "      <td>1</td>\n",
       "      <td>Fri</td>\n",
       "      <td>0.3</td>\n",
       "      <td>1.9</td>\n",
       "      <td>21572</td>\n",
       "      <td>Craig Pawson</td>\n",
       "      <td>943e8050</td>\n",
       "      <td>b8fd03ef</td>\n",
       "      <td>2023-08-11 20:00:00</td>\n",
       "      <td>0</td>\n",
       "      <td>3</td>\n",
       "    </tr>\n",
       "    <tr>\n",
       "      <th>1</th>\n",
       "      <td>26a7f90c</td>\n",
       "      <td>ENG-Premier League</td>\n",
       "      <td>2324</td>\n",
       "      <td>Emirates Stadium</td>\n",
       "      <td>1</td>\n",
       "      <td>Sat</td>\n",
       "      <td>0.8</td>\n",
       "      <td>1.2</td>\n",
       "      <td>59984</td>\n",
       "      <td>Michael Oliver</td>\n",
       "      <td>18bb7c10</td>\n",
       "      <td>e4a775cb</td>\n",
       "      <td>2023-08-12 12:30:00</td>\n",
       "      <td>2</td>\n",
       "      <td>1</td>\n",
       "    </tr>\n",
       "    <tr>\n",
       "      <th>2</th>\n",
       "      <td>d6bbf293</td>\n",
       "      <td>ENG-Premier League</td>\n",
       "      <td>2324</td>\n",
       "      <td>Vitality Stadium</td>\n",
       "      <td>1</td>\n",
       "      <td>Sat</td>\n",
       "      <td>1.3</td>\n",
       "      <td>1.1</td>\n",
       "      <td>11245</td>\n",
       "      <td>Peter Bankes</td>\n",
       "      <td>4ba7cbea</td>\n",
       "      <td>7c21e445</td>\n",
       "      <td>2023-08-12 15:00:00</td>\n",
       "      <td>1</td>\n",
       "      <td>1</td>\n",
       "    </tr>\n",
       "    <tr>\n",
       "      <th>3</th>\n",
       "      <td>56a137f7</td>\n",
       "      <td>ENG-Premier League</td>\n",
       "      <td>2324</td>\n",
       "      <td>The American Express Community Stadium</td>\n",
       "      <td>1</td>\n",
       "      <td>Sat</td>\n",
       "      <td>4.0</td>\n",
       "      <td>1.5</td>\n",
       "      <td>31872</td>\n",
       "      <td>David Coote</td>\n",
       "      <td>d07537b9</td>\n",
       "      <td>e297cd13</td>\n",
       "      <td>2023-08-12 15:00:00</td>\n",
       "      <td>4</td>\n",
       "      <td>1</td>\n",
       "    </tr>\n",
       "    <tr>\n",
       "      <th>4</th>\n",
       "      <td>15addfc7</td>\n",
       "      <td>ENG-Premier League</td>\n",
       "      <td>2324</td>\n",
       "      <td>Goodison Park</td>\n",
       "      <td>1</td>\n",
       "      <td>Sat</td>\n",
       "      <td>2.7</td>\n",
       "      <td>1.5</td>\n",
       "      <td>39940</td>\n",
       "      <td>Stuart Attwell</td>\n",
       "      <td>d3fd31cc</td>\n",
       "      <td>fd962109</td>\n",
       "      <td>2023-08-12 15:00:00</td>\n",
       "      <td>0</td>\n",
       "      <td>1</td>\n",
       "    </tr>\n",
       "    <tr>\n",
       "      <th>...</th>\n",
       "      <td>...</td>\n",
       "      <td>...</td>\n",
       "      <td>...</td>\n",
       "      <td>...</td>\n",
       "      <td>...</td>\n",
       "      <td>...</td>\n",
       "      <td>...</td>\n",
       "      <td>...</td>\n",
       "      <td>...</td>\n",
       "      <td>...</td>\n",
       "      <td>...</td>\n",
       "      <td>...</td>\n",
       "      <td>...</td>\n",
       "      <td>...</td>\n",
       "      <td>...</td>\n",
       "    </tr>\n",
       "    <tr>\n",
       "      <th>165</th>\n",
       "      <td>5db0f25b</td>\n",
       "      <td>ENG-Premier League</td>\n",
       "      <td>2324</td>\n",
       "      <td>St James' Park</td>\n",
       "      <td>17</td>\n",
       "      <td>Sat</td>\n",
       "      <td>3.5</td>\n",
       "      <td>0.3</td>\n",
       "      <td>52055</td>\n",
       "      <td>Samuel Barrott</td>\n",
       "      <td>b2b47a98</td>\n",
       "      <td>fd962109</td>\n",
       "      <td>2023-12-16 15:00:00</td>\n",
       "      <td>3</td>\n",
       "      <td>0</td>\n",
       "    </tr>\n",
       "    <tr>\n",
       "      <th>166</th>\n",
       "      <td>e3a46a4e</td>\n",
       "      <td>ENG-Premier League</td>\n",
       "      <td>2324</td>\n",
       "      <td>Emirates Stadium</td>\n",
       "      <td>17</td>\n",
       "      <td>Sun</td>\n",
       "      <td>2.3</td>\n",
       "      <td>0.7</td>\n",
       "      <td>60257</td>\n",
       "      <td>Tim Robinson</td>\n",
       "      <td>18bb7c10</td>\n",
       "      <td>d07537b9</td>\n",
       "      <td>2023-12-17 14:00:00</td>\n",
       "      <td>2</td>\n",
       "      <td>0</td>\n",
       "    </tr>\n",
       "    <tr>\n",
       "      <th>167</th>\n",
       "      <td>4a3af0ab</td>\n",
       "      <td>ENG-Premier League</td>\n",
       "      <td>2324</td>\n",
       "      <td>Gtech Community Stadium</td>\n",
       "      <td>17</td>\n",
       "      <td>Sun</td>\n",
       "      <td>0.5</td>\n",
       "      <td>1.4</td>\n",
       "      <td>17034</td>\n",
       "      <td>David Coote</td>\n",
       "      <td>cd051869</td>\n",
       "      <td>8602292d</td>\n",
       "      <td>2023-12-17 14:00:00</td>\n",
       "      <td>1</td>\n",
       "      <td>2</td>\n",
       "    </tr>\n",
       "    <tr>\n",
       "      <th>168</th>\n",
       "      <td>18e98d77</td>\n",
       "      <td>ENG-Premier League</td>\n",
       "      <td>2324</td>\n",
       "      <td>Anfield</td>\n",
       "      <td>17</td>\n",
       "      <td>Sun</td>\n",
       "      <td>2.3</td>\n",
       "      <td>0.8</td>\n",
       "      <td>57158</td>\n",
       "      <td>Michael Oliver</td>\n",
       "      <td>822bd0ba</td>\n",
       "      <td>19538871</td>\n",
       "      <td>2023-12-17 16:30:00</td>\n",
       "      <td>0</td>\n",
       "      <td>0</td>\n",
       "    </tr>\n",
       "    <tr>\n",
       "      <th>169</th>\n",
       "      <td>5f5bc7b3</td>\n",
       "      <td>ENG-Premier League</td>\n",
       "      <td>2324</td>\n",
       "      <td>London Stadium</td>\n",
       "      <td>17</td>\n",
       "      <td>Sun</td>\n",
       "      <td>1.1</td>\n",
       "      <td>0.7</td>\n",
       "      <td>62455</td>\n",
       "      <td>Chris Kavanagh</td>\n",
       "      <td>7c21e445</td>\n",
       "      <td>8cec06e1</td>\n",
       "      <td>2023-12-17 14:00:00</td>\n",
       "      <td>3</td>\n",
       "      <td>0</td>\n",
       "    </tr>\n",
       "  </tbody>\n",
       "</table>\n",
       "<p>170 rows × 15 columns</p>\n",
       "</div>"
      ],
      "text/plain": [
       "     MATCH_ID         COMPETITION  SEASON  \\\n",
       "0    3a6836b4  ENG-Premier League    2324   \n",
       "1    26a7f90c  ENG-Premier League    2324   \n",
       "2    d6bbf293  ENG-Premier League    2324   \n",
       "3    56a137f7  ENG-Premier League    2324   \n",
       "4    15addfc7  ENG-Premier League    2324   \n",
       "..        ...                 ...     ...   \n",
       "165  5db0f25b  ENG-Premier League    2324   \n",
       "166  e3a46a4e  ENG-Premier League    2324   \n",
       "167  4a3af0ab  ENG-Premier League    2324   \n",
       "168  18e98d77  ENG-Premier League    2324   \n",
       "169  5f5bc7b3  ENG-Premier League    2324   \n",
       "\n",
       "                                    STADIUM  GAMEWEEK  DAY  HOME_TEAM_XG  \\\n",
       "0                                 Turf Moor         1  Fri           0.3   \n",
       "1                          Emirates Stadium         1  Sat           0.8   \n",
       "2                          Vitality Stadium         1  Sat           1.3   \n",
       "3    The American Express Community Stadium         1  Sat           4.0   \n",
       "4                             Goodison Park         1  Sat           2.7   \n",
       "..                                      ...       ...  ...           ...   \n",
       "165                          St James' Park        17  Sat           3.5   \n",
       "166                        Emirates Stadium        17  Sun           2.3   \n",
       "167                 Gtech Community Stadium        17  Sun           0.5   \n",
       "168                                 Anfield        17  Sun           2.3   \n",
       "169                          London Stadium        17  Sun           1.1   \n",
       "\n",
       "     AWAY_TEAM_XG  ATTENDANCE         REFEREE HOME_TEAM_ID AWAY_TEAM_ID  \\\n",
       "0             1.9       21572    Craig Pawson     943e8050     b8fd03ef   \n",
       "1             1.2       59984  Michael Oliver     18bb7c10     e4a775cb   \n",
       "2             1.1       11245    Peter Bankes     4ba7cbea     7c21e445   \n",
       "3             1.5       31872     David Coote     d07537b9     e297cd13   \n",
       "4             1.5       39940  Stuart Attwell     d3fd31cc     fd962109   \n",
       "..            ...         ...             ...          ...          ...   \n",
       "165           0.3       52055  Samuel Barrott     b2b47a98     fd962109   \n",
       "166           0.7       60257    Tim Robinson     18bb7c10     d07537b9   \n",
       "167           1.4       17034     David Coote     cd051869     8602292d   \n",
       "168           0.8       57158  Michael Oliver     822bd0ba     19538871   \n",
       "169           0.7       62455  Chris Kavanagh     7c21e445     8cec06e1   \n",
       "\n",
       "               DATE_TIME HOME_TEAM_SCORE AWAY_TEAM_SCORE  \n",
       "0    2023-08-11 20:00:00               0               3  \n",
       "1    2023-08-12 12:30:00               2               1  \n",
       "2    2023-08-12 15:00:00               1               1  \n",
       "3    2023-08-12 15:00:00               4               1  \n",
       "4    2023-08-12 15:00:00               0               1  \n",
       "..                   ...             ...             ...  \n",
       "165  2023-12-16 15:00:00               3               0  \n",
       "166  2023-12-17 14:00:00               2               0  \n",
       "167  2023-12-17 14:00:00               1               2  \n",
       "168  2023-12-17 16:30:00               0               0  \n",
       "169  2023-12-17 14:00:00               3               0  \n",
       "\n",
       "[170 rows x 15 columns]"
      ]
     },
     "execution_count": 28,
     "metadata": {},
     "output_type": "execute_result"
    }
   ],
   "source": [
    "df_matches"
   ]
  },
  {
   "cell_type": "code",
   "execution_count": 86,
   "metadata": {},
   "outputs": [
    {
     "data": {
      "text/html": [
       "<pre style=\"white-space:pre;overflow-x:auto;line-height:normal;font-family:Menlo,'DejaVu Sans Mono',consolas,'Courier New',monospace\"><span style=\"color: #7fbfbf; text-decoration-color: #7fbfbf\">[12/21/23 17:54:33] </span><span style=\"color: #000080; text-decoration-color: #000080\">INFO    </span> query: <span style=\"font-weight: bold\">[</span>CREATE TEMP STAGE <span style=\"color: #800080; text-decoration-color: #800080\">/</span>*                                             <a href=\"file://d:\\Users\\ksbha\\miniconda3\\envs\\footy\\Lib\\site-packages\\snowflake\\connector\\cursor.py\" target=\"_blank\"><span style=\"color: #7f7f7f; text-decoration-color: #7f7f7f\">cursor.py</span></a><span style=\"color: #7f7f7f; text-decoration-color: #7f7f7f\">:</span><a href=\"file://d:\\Users\\ksbha\\miniconda3\\envs\\footy\\Lib\\site-packages\\snowflake\\connector\\cursor.py#833\" target=\"_blank\"><span style=\"color: #7f7f7f; text-decoration-color: #7f7f7f\">833</span></a>\n",
       "<span style=\"color: #7fbfbf; text-decoration-color: #7fbfbf\">                    </span>         Python:<span style=\"color: #800080; text-decoration-color: #800080; font-weight: bold\">snowflake.connector.pandas_tools.write_pandas</span><span style=\"font-weight: bold\">()</span> *<span style=\"color: #800080; text-decoration-color: #800080\">/</span> \"<span style=\"color: #808000; text-decoration-color: #808000\">...</span><span style=\"font-weight: bold\">]</span>          <span style=\"color: #7f7f7f; text-decoration-color: #7f7f7f\">             </span>\n",
       "</pre>\n"
      ],
      "text/plain": [
       "\u001b[2;36m[12/21/23 17:54:33]\u001b[0m\u001b[2;36m \u001b[0m\u001b[34mINFO    \u001b[0m query: \u001b[1m[\u001b[0mCREATE TEMP STAGE \u001b[35m/\u001b[0m*                                             \u001b]8;id=601783;file://d:\\Users\\ksbha\\miniconda3\\envs\\footy\\Lib\\site-packages\\snowflake\\connector\\cursor.py\u001b\\\u001b[2mcursor.py\u001b[0m\u001b]8;;\u001b\\\u001b[2m:\u001b[0m\u001b]8;id=358114;file://d:\\Users\\ksbha\\miniconda3\\envs\\footy\\Lib\\site-packages\\snowflake\\connector\\cursor.py#833\u001b\\\u001b[2m833\u001b[0m\u001b]8;;\u001b\\\n",
       "\u001b[2;36m                    \u001b[0m         Python:\u001b[1;35msnowflake.connector.pandas_tools.write_pandas\u001b[0m\u001b[1m(\u001b[0m\u001b[1m)\u001b[0m *\u001b[35m/\u001b[0m \"\u001b[33m...\u001b[0m\u001b[1m]\u001b[0m          \u001b[2m             \u001b[0m\n"
      ]
     },
     "metadata": {},
     "output_type": "display_data"
    },
    {
     "data": {
      "text/html": [
       "<pre style=\"white-space:pre;overflow-x:auto;line-height:normal;font-family:Menlo,'DejaVu Sans Mono',consolas,'Courier New',monospace\"><span style=\"color: #7fbfbf; text-decoration-color: #7fbfbf\">                    </span><span style=\"color: #000080; text-decoration-color: #000080\">INFO    </span> query execution done                                                     <a href=\"file://d:\\Users\\ksbha\\miniconda3\\envs\\footy\\Lib\\site-packages\\snowflake\\connector\\cursor.py\" target=\"_blank\"><span style=\"color: #7f7f7f; text-decoration-color: #7f7f7f\">cursor.py</span></a><span style=\"color: #7f7f7f; text-decoration-color: #7f7f7f\">:</span><a href=\"file://d:\\Users\\ksbha\\miniconda3\\envs\\footy\\Lib\\site-packages\\snowflake\\connector\\cursor.py#846\" target=\"_blank\"><span style=\"color: #7f7f7f; text-decoration-color: #7f7f7f\">846</span></a>\n",
       "</pre>\n"
      ],
      "text/plain": [
       "\u001b[2;36m                   \u001b[0m\u001b[2;36m \u001b[0m\u001b[34mINFO    \u001b[0m query execution done                                                     \u001b]8;id=861125;file://d:\\Users\\ksbha\\miniconda3\\envs\\footy\\Lib\\site-packages\\snowflake\\connector\\cursor.py\u001b\\\u001b[2mcursor.py\u001b[0m\u001b]8;;\u001b\\\u001b[2m:\u001b[0m\u001b]8;id=147806;file://d:\\Users\\ksbha\\miniconda3\\envs\\footy\\Lib\\site-packages\\snowflake\\connector\\cursor.py#846\u001b\\\u001b[2m846\u001b[0m\u001b]8;;\u001b\\\n"
      ]
     },
     "metadata": {},
     "output_type": "display_data"
    },
    {
     "data": {
      "text/html": [
       "<pre style=\"white-space:pre;overflow-x:auto;line-height:normal;font-family:Menlo,'DejaVu Sans Mono',consolas,'Courier New',monospace\"><span style=\"color: #7fbfbf; text-decoration-color: #7fbfbf\">                    </span><span style=\"color: #000080; text-decoration-color: #000080\">INFO    </span> Number of results in first chunk: <span style=\"color: #008080; text-decoration-color: #008080; font-weight: bold\">1</span>                                      <a href=\"file://d:\\Users\\ksbha\\miniconda3\\envs\\footy\\Lib\\site-packages\\snowflake\\connector\\cursor.py\" target=\"_blank\"><span style=\"color: #7f7f7f; text-decoration-color: #7f7f7f\">cursor.py</span></a><span style=\"color: #7f7f7f; text-decoration-color: #7f7f7f\">:</span><a href=\"file://d:\\Users\\ksbha\\miniconda3\\envs\\footy\\Lib\\site-packages\\snowflake\\connector\\cursor.py#988\" target=\"_blank\"><span style=\"color: #7f7f7f; text-decoration-color: #7f7f7f\">988</span></a>\n",
       "</pre>\n"
      ],
      "text/plain": [
       "\u001b[2;36m                   \u001b[0m\u001b[2;36m \u001b[0m\u001b[34mINFO    \u001b[0m Number of results in first chunk: \u001b[1;36m1\u001b[0m                                      \u001b]8;id=286301;file://d:\\Users\\ksbha\\miniconda3\\envs\\footy\\Lib\\site-packages\\snowflake\\connector\\cursor.py\u001b\\\u001b[2mcursor.py\u001b[0m\u001b]8;;\u001b\\\u001b[2m:\u001b[0m\u001b]8;id=40808;file://d:\\Users\\ksbha\\miniconda3\\envs\\footy\\Lib\\site-packages\\snowflake\\connector\\cursor.py#988\u001b\\\u001b[2m988\u001b[0m\u001b]8;;\u001b\\\n"
      ]
     },
     "metadata": {},
     "output_type": "display_data"
    },
    {
     "data": {
      "text/html": [
       "<pre style=\"white-space:pre;overflow-x:auto;line-height:normal;font-family:Menlo,'DejaVu Sans Mono',consolas,'Courier New',monospace\"><span style=\"color: #7fbfbf; text-decoration-color: #7fbfbf\">                    </span><span style=\"color: #000080; text-decoration-color: #000080\">INFO    </span> query: <span style=\"font-weight: bold\">[</span><span style=\"color: #808000; text-decoration-color: #808000; font-weight: bold\">PUT</span> <span style=\"color: #800080; text-decoration-color: #800080\">/</span>* Python:<span style=\"color: #800080; text-decoration-color: #800080; font-weight: bold\">snowflake.connector.pandas_tools.write_pandas</span><span style=\"font-weight: bold\">()</span> *<span style=\"color: #800080; text-decoration-color: #800080\">/</span> <a href=\"file://d:\\Users\\ksbha\\miniconda3\\envs\\footy\\Lib\\site-packages\\snowflake\\connector\\cursor.py\" target=\"_blank\"><span style=\"color: #7f7f7f; text-decoration-color: #7f7f7f\">cursor.py</span></a><span style=\"color: #7f7f7f; text-decoration-color: #7f7f7f\">:</span><a href=\"file://d:\\Users\\ksbha\\miniconda3\\envs\\footy\\Lib\\site-packages\\snowflake\\connector\\cursor.py#833\" target=\"_blank\"><span style=\"color: #7f7f7f; text-decoration-color: #7f7f7f\">833</span></a>\n",
       "<span style=\"color: #7fbfbf; text-decoration-color: #7fbfbf\">                    </span>         '<span style=\"color: #0000ff; text-decoration-color: #0000ff; text-decoration: underline\">file://C:</span>\\\\Use<span style=\"color: #808000; text-decoration-color: #808000\">...</span><span style=\"font-weight: bold\">]</span>                                                      <span style=\"color: #7f7f7f; text-decoration-color: #7f7f7f\">             </span>\n",
       "</pre>\n"
      ],
      "text/plain": [
       "\u001b[2;36m                   \u001b[0m\u001b[2;36m \u001b[0m\u001b[34mINFO    \u001b[0m query: \u001b[1m[\u001b[0m\u001b[1;33mPUT\u001b[0m \u001b[35m/\u001b[0m* Python:\u001b[1;35msnowflake.connector.pandas_tools.write_pandas\u001b[0m\u001b[1m(\u001b[0m\u001b[1m)\u001b[0m *\u001b[35m/\u001b[0m \u001b]8;id=618687;file://d:\\Users\\ksbha\\miniconda3\\envs\\footy\\Lib\\site-packages\\snowflake\\connector\\cursor.py\u001b\\\u001b[2mcursor.py\u001b[0m\u001b]8;;\u001b\\\u001b[2m:\u001b[0m\u001b]8;id=868852;file://d:\\Users\\ksbha\\miniconda3\\envs\\footy\\Lib\\site-packages\\snowflake\\connector\\cursor.py#833\u001b\\\u001b[2m833\u001b[0m\u001b]8;;\u001b\\\n",
       "\u001b[2;36m                    \u001b[0m         '\u001b[4;94mfile://C:\u001b[0m\\\\Use\u001b[33m...\u001b[0m\u001b[1m]\u001b[0m                                                      \u001b[2m             \u001b[0m\n"
      ]
     },
     "metadata": {},
     "output_type": "display_data"
    },
    {
     "data": {
      "text/html": [
       "<pre style=\"white-space:pre;overflow-x:auto;line-height:normal;font-family:Menlo,'DejaVu Sans Mono',consolas,'Courier New',monospace\"><span style=\"color: #7fbfbf; text-decoration-color: #7fbfbf\">                    </span><span style=\"color: #000080; text-decoration-color: #000080\">INFO    </span> query execution done                                                     <a href=\"file://d:\\Users\\ksbha\\miniconda3\\envs\\footy\\Lib\\site-packages\\snowflake\\connector\\cursor.py\" target=\"_blank\"><span style=\"color: #7f7f7f; text-decoration-color: #7f7f7f\">cursor.py</span></a><span style=\"color: #7f7f7f; text-decoration-color: #7f7f7f\">:</span><a href=\"file://d:\\Users\\ksbha\\miniconda3\\envs\\footy\\Lib\\site-packages\\snowflake\\connector\\cursor.py#846\" target=\"_blank\"><span style=\"color: #7f7f7f; text-decoration-color: #7f7f7f\">846</span></a>\n",
       "</pre>\n"
      ],
      "text/plain": [
       "\u001b[2;36m                   \u001b[0m\u001b[2;36m \u001b[0m\u001b[34mINFO    \u001b[0m query execution done                                                     \u001b]8;id=287042;file://d:\\Users\\ksbha\\miniconda3\\envs\\footy\\Lib\\site-packages\\snowflake\\connector\\cursor.py\u001b\\\u001b[2mcursor.py\u001b[0m\u001b]8;;\u001b\\\u001b[2m:\u001b[0m\u001b]8;id=607126;file://d:\\Users\\ksbha\\miniconda3\\envs\\footy\\Lib\\site-packages\\snowflake\\connector\\cursor.py#846\u001b\\\u001b[2m846\u001b[0m\u001b]8;;\u001b\\\n"
      ]
     },
     "metadata": {},
     "output_type": "display_data"
    },
    {
     "data": {
      "text/html": [
       "<pre style=\"white-space:pre;overflow-x:auto;line-height:normal;font-family:Menlo,'DejaVu Sans Mono',consolas,'Courier New',monospace\"><span style=\"color: #7fbfbf; text-decoration-color: #7fbfbf\">[12/21/23 17:54:34] </span><span style=\"color: #000080; text-decoration-color: #000080\">INFO    </span> query: <span style=\"font-weight: bold\">[</span>CREATE TEMP FILE FORMAT <span style=\"color: #008000; text-decoration-color: #008000\">\"zfqjnzwpkc\"</span> <span style=\"color: #800080; text-decoration-color: #800080\">/</span>*                          <a href=\"file://d:\\Users\\ksbha\\miniconda3\\envs\\footy\\Lib\\site-packages\\snowflake\\connector\\cursor.py\" target=\"_blank\"><span style=\"color: #7f7f7f; text-decoration-color: #7f7f7f\">cursor.py</span></a><span style=\"color: #7f7f7f; text-decoration-color: #7f7f7f\">:</span><a href=\"file://d:\\Users\\ksbha\\miniconda3\\envs\\footy\\Lib\\site-packages\\snowflake\\connector\\cursor.py#833\" target=\"_blank\"><span style=\"color: #7f7f7f; text-decoration-color: #7f7f7f\">833</span></a>\n",
       "<span style=\"color: #7fbfbf; text-decoration-color: #7fbfbf\">                    </span>         Python:snowflake.connector.pandas_tools<span style=\"color: #808000; text-decoration-color: #808000\">...</span>.<span style=\"font-weight: bold\">]</span>                             <span style=\"color: #7f7f7f; text-decoration-color: #7f7f7f\">             </span>\n",
       "</pre>\n"
      ],
      "text/plain": [
       "\u001b[2;36m[12/21/23 17:54:34]\u001b[0m\u001b[2;36m \u001b[0m\u001b[34mINFO    \u001b[0m query: \u001b[1m[\u001b[0mCREATE TEMP FILE FORMAT \u001b[32m\"zfqjnzwpkc\"\u001b[0m \u001b[35m/\u001b[0m*                          \u001b]8;id=504408;file://d:\\Users\\ksbha\\miniconda3\\envs\\footy\\Lib\\site-packages\\snowflake\\connector\\cursor.py\u001b\\\u001b[2mcursor.py\u001b[0m\u001b]8;;\u001b\\\u001b[2m:\u001b[0m\u001b]8;id=245492;file://d:\\Users\\ksbha\\miniconda3\\envs\\footy\\Lib\\site-packages\\snowflake\\connector\\cursor.py#833\u001b\\\u001b[2m833\u001b[0m\u001b]8;;\u001b\\\n",
       "\u001b[2;36m                    \u001b[0m         Python:snowflake.connector.pandas_tools\u001b[33m...\u001b[0m.\u001b[1m]\u001b[0m                             \u001b[2m             \u001b[0m\n"
      ]
     },
     "metadata": {},
     "output_type": "display_data"
    },
    {
     "data": {
      "text/html": [
       "<pre style=\"white-space:pre;overflow-x:auto;line-height:normal;font-family:Menlo,'DejaVu Sans Mono',consolas,'Courier New',monospace\"><span style=\"color: #7fbfbf; text-decoration-color: #7fbfbf\">                    </span><span style=\"color: #000080; text-decoration-color: #000080\">INFO    </span> query execution done                                                     <a href=\"file://d:\\Users\\ksbha\\miniconda3\\envs\\footy\\Lib\\site-packages\\snowflake\\connector\\cursor.py\" target=\"_blank\"><span style=\"color: #7f7f7f; text-decoration-color: #7f7f7f\">cursor.py</span></a><span style=\"color: #7f7f7f; text-decoration-color: #7f7f7f\">:</span><a href=\"file://d:\\Users\\ksbha\\miniconda3\\envs\\footy\\Lib\\site-packages\\snowflake\\connector\\cursor.py#846\" target=\"_blank\"><span style=\"color: #7f7f7f; text-decoration-color: #7f7f7f\">846</span></a>\n",
       "</pre>\n"
      ],
      "text/plain": [
       "\u001b[2;36m                   \u001b[0m\u001b[2;36m \u001b[0m\u001b[34mINFO    \u001b[0m query execution done                                                     \u001b]8;id=376727;file://d:\\Users\\ksbha\\miniconda3\\envs\\footy\\Lib\\site-packages\\snowflake\\connector\\cursor.py\u001b\\\u001b[2mcursor.py\u001b[0m\u001b]8;;\u001b\\\u001b[2m:\u001b[0m\u001b]8;id=636549;file://d:\\Users\\ksbha\\miniconda3\\envs\\footy\\Lib\\site-packages\\snowflake\\connector\\cursor.py#846\u001b\\\u001b[2m846\u001b[0m\u001b]8;;\u001b\\\n"
      ]
     },
     "metadata": {},
     "output_type": "display_data"
    },
    {
     "data": {
      "text/html": [
       "<pre style=\"white-space:pre;overflow-x:auto;line-height:normal;font-family:Menlo,'DejaVu Sans Mono',consolas,'Courier New',monospace\"><span style=\"color: #7fbfbf; text-decoration-color: #7fbfbf\">                    </span><span style=\"color: #000080; text-decoration-color: #000080\">INFO    </span> Number of results in first chunk: <span style=\"color: #008080; text-decoration-color: #008080; font-weight: bold\">1</span>                                      <a href=\"file://d:\\Users\\ksbha\\miniconda3\\envs\\footy\\Lib\\site-packages\\snowflake\\connector\\cursor.py\" target=\"_blank\"><span style=\"color: #7f7f7f; text-decoration-color: #7f7f7f\">cursor.py</span></a><span style=\"color: #7f7f7f; text-decoration-color: #7f7f7f\">:</span><a href=\"file://d:\\Users\\ksbha\\miniconda3\\envs\\footy\\Lib\\site-packages\\snowflake\\connector\\cursor.py#988\" target=\"_blank\"><span style=\"color: #7f7f7f; text-decoration-color: #7f7f7f\">988</span></a>\n",
       "</pre>\n"
      ],
      "text/plain": [
       "\u001b[2;36m                   \u001b[0m\u001b[2;36m \u001b[0m\u001b[34mINFO    \u001b[0m Number of results in first chunk: \u001b[1;36m1\u001b[0m                                      \u001b]8;id=703565;file://d:\\Users\\ksbha\\miniconda3\\envs\\footy\\Lib\\site-packages\\snowflake\\connector\\cursor.py\u001b\\\u001b[2mcursor.py\u001b[0m\u001b]8;;\u001b\\\u001b[2m:\u001b[0m\u001b]8;id=426597;file://d:\\Users\\ksbha\\miniconda3\\envs\\footy\\Lib\\site-packages\\snowflake\\connector\\cursor.py#988\u001b\\\u001b[2m988\u001b[0m\u001b]8;;\u001b\\\n"
      ]
     },
     "metadata": {},
     "output_type": "display_data"
    },
    {
     "data": {
      "text/html": [
       "<pre style=\"white-space:pre;overflow-x:auto;line-height:normal;font-family:Menlo,'DejaVu Sans Mono',consolas,'Courier New',monospace\"><span style=\"color: #7fbfbf; text-decoration-color: #7fbfbf\">                    </span><span style=\"color: #000080; text-decoration-color: #000080\">INFO    </span> query: <span style=\"font-weight: bold\">[</span>SELECT COLUMN_NAME, TYPE FROM                                    <a href=\"file://d:\\Users\\ksbha\\miniconda3\\envs\\footy\\Lib\\site-packages\\snowflake\\connector\\cursor.py\" target=\"_blank\"><span style=\"color: #7f7f7f; text-decoration-color: #7f7f7f\">cursor.py</span></a><span style=\"color: #7f7f7f; text-decoration-color: #7f7f7f\">:</span><a href=\"file://d:\\Users\\ksbha\\miniconda3\\envs\\footy\\Lib\\site-packages\\snowflake\\connector\\cursor.py#833\" target=\"_blank\"><span style=\"color: #7f7f7f; text-decoration-color: #7f7f7f\">833</span></a>\n",
       "<span style=\"color: #7fbfbf; text-decoration-color: #7fbfbf\">                    </span>         <span style=\"color: #800080; text-decoration-color: #800080; font-weight: bold\">table</span><span style=\"font-weight: bold\">(</span><span style=\"color: #800080; text-decoration-color: #800080; font-weight: bold\">infer_schema</span><span style=\"font-weight: bold\">(</span><span style=\"color: #808000; text-decoration-color: #808000\">location</span>=&gt;<span style=\"color: #008000; text-decoration-color: #008000\">'@\"qcuxznuqhv\"'</span>, file<span style=\"color: #808000; text-decoration-color: #808000\">...</span><span style=\"font-weight: bold\">]</span>                   <span style=\"color: #7f7f7f; text-decoration-color: #7f7f7f\">             </span>\n",
       "</pre>\n"
      ],
      "text/plain": [
       "\u001b[2;36m                   \u001b[0m\u001b[2;36m \u001b[0m\u001b[34mINFO    \u001b[0m query: \u001b[1m[\u001b[0mSELECT COLUMN_NAME, TYPE FROM                                    \u001b]8;id=736851;file://d:\\Users\\ksbha\\miniconda3\\envs\\footy\\Lib\\site-packages\\snowflake\\connector\\cursor.py\u001b\\\u001b[2mcursor.py\u001b[0m\u001b]8;;\u001b\\\u001b[2m:\u001b[0m\u001b]8;id=422691;file://d:\\Users\\ksbha\\miniconda3\\envs\\footy\\Lib\\site-packages\\snowflake\\connector\\cursor.py#833\u001b\\\u001b[2m833\u001b[0m\u001b]8;;\u001b\\\n",
       "\u001b[2;36m                    \u001b[0m         \u001b[1;35mtable\u001b[0m\u001b[1m(\u001b[0m\u001b[1;35minfer_schema\u001b[0m\u001b[1m(\u001b[0m\u001b[33mlocation\u001b[0m=>\u001b[32m'@\"qcuxznuqhv\"'\u001b[0m, file\u001b[33m...\u001b[0m\u001b[1m]\u001b[0m                   \u001b[2m             \u001b[0m\n"
      ]
     },
     "metadata": {},
     "output_type": "display_data"
    },
    {
     "data": {
      "text/html": [
       "<pre style=\"white-space:pre;overflow-x:auto;line-height:normal;font-family:Menlo,'DejaVu Sans Mono',consolas,'Courier New',monospace\"><span style=\"color: #7fbfbf; text-decoration-color: #7fbfbf\">                    </span><span style=\"color: #000080; text-decoration-color: #000080\">INFO    </span> query execution done                                                     <a href=\"file://d:\\Users\\ksbha\\miniconda3\\envs\\footy\\Lib\\site-packages\\snowflake\\connector\\cursor.py\" target=\"_blank\"><span style=\"color: #7f7f7f; text-decoration-color: #7f7f7f\">cursor.py</span></a><span style=\"color: #7f7f7f; text-decoration-color: #7f7f7f\">:</span><a href=\"file://d:\\Users\\ksbha\\miniconda3\\envs\\footy\\Lib\\site-packages\\snowflake\\connector\\cursor.py#846\" target=\"_blank\"><span style=\"color: #7f7f7f; text-decoration-color: #7f7f7f\">846</span></a>\n",
       "</pre>\n"
      ],
      "text/plain": [
       "\u001b[2;36m                   \u001b[0m\u001b[2;36m \u001b[0m\u001b[34mINFO    \u001b[0m query execution done                                                     \u001b]8;id=413453;file://d:\\Users\\ksbha\\miniconda3\\envs\\footy\\Lib\\site-packages\\snowflake\\connector\\cursor.py\u001b\\\u001b[2mcursor.py\u001b[0m\u001b]8;;\u001b\\\u001b[2m:\u001b[0m\u001b]8;id=813420;file://d:\\Users\\ksbha\\miniconda3\\envs\\footy\\Lib\\site-packages\\snowflake\\connector\\cursor.py#846\u001b\\\u001b[2m846\u001b[0m\u001b]8;;\u001b\\\n"
      ]
     },
     "metadata": {},
     "output_type": "display_data"
    },
    {
     "data": {
      "text/html": [
       "<pre style=\"white-space:pre;overflow-x:auto;line-height:normal;font-family:Menlo,'DejaVu Sans Mono',consolas,'Courier New',monospace\"><span style=\"color: #7fbfbf; text-decoration-color: #7fbfbf\">                    </span><span style=\"color: #000080; text-decoration-color: #000080\">INFO    </span> Number of results in first chunk: <span style=\"color: #008080; text-decoration-color: #008080; font-weight: bold\">15</span>                                     <a href=\"file://d:\\Users\\ksbha\\miniconda3\\envs\\footy\\Lib\\site-packages\\snowflake\\connector\\cursor.py\" target=\"_blank\"><span style=\"color: #7f7f7f; text-decoration-color: #7f7f7f\">cursor.py</span></a><span style=\"color: #7f7f7f; text-decoration-color: #7f7f7f\">:</span><a href=\"file://d:\\Users\\ksbha\\miniconda3\\envs\\footy\\Lib\\site-packages\\snowflake\\connector\\cursor.py#988\" target=\"_blank\"><span style=\"color: #7f7f7f; text-decoration-color: #7f7f7f\">988</span></a>\n",
       "</pre>\n"
      ],
      "text/plain": [
       "\u001b[2;36m                   \u001b[0m\u001b[2;36m \u001b[0m\u001b[34mINFO    \u001b[0m Number of results in first chunk: \u001b[1;36m15\u001b[0m                                     \u001b]8;id=424213;file://d:\\Users\\ksbha\\miniconda3\\envs\\footy\\Lib\\site-packages\\snowflake\\connector\\cursor.py\u001b\\\u001b[2mcursor.py\u001b[0m\u001b]8;;\u001b\\\u001b[2m:\u001b[0m\u001b]8;id=708392;file://d:\\Users\\ksbha\\miniconda3\\envs\\footy\\Lib\\site-packages\\snowflake\\connector\\cursor.py#988\u001b\\\u001b[2m988\u001b[0m\u001b]8;;\u001b\\\n"
      ]
     },
     "metadata": {},
     "output_type": "display_data"
    },
    {
     "data": {
      "text/html": [
       "<pre style=\"white-space:pre;overflow-x:auto;line-height:normal;font-family:Menlo,'DejaVu Sans Mono',consolas,'Courier New',monospace\"><span style=\"color: #7fbfbf; text-decoration-color: #7fbfbf\">                    </span><span style=\"color: #000080; text-decoration-color: #000080\">INFO    </span> query: <span style=\"font-weight: bold\">[</span>CREATE  TABLE IF NOT EXISTS <span style=\"color: #008000; text-decoration-color: #008000\">\"MATCHES_TEMP\"</span> <span style=\"font-weight: bold\">(</span><span style=\"color: #008000; text-decoration-color: #008000\">\"MATCH_ID\"</span> TEXT,     <a href=\"file://d:\\Users\\ksbha\\miniconda3\\envs\\footy\\Lib\\site-packages\\snowflake\\connector\\cursor.py\" target=\"_blank\"><span style=\"color: #7f7f7f; text-decoration-color: #7f7f7f\">cursor.py</span></a><span style=\"color: #7f7f7f; text-decoration-color: #7f7f7f\">:</span><a href=\"file://d:\\Users\\ksbha\\miniconda3\\envs\\footy\\Lib\\site-packages\\snowflake\\connector\\cursor.py#833\" target=\"_blank\"><span style=\"color: #7f7f7f; text-decoration-color: #7f7f7f\">833</span></a>\n",
       "<span style=\"color: #7fbfbf; text-decoration-color: #7fbfbf\">                    </span>         <span style=\"color: #008000; text-decoration-color: #008000\">\"COMPETITION\"</span> TEXT,<span style=\"color: #808000; text-decoration-color: #808000\">...</span><span style=\"font-weight: bold\">]</span>                                                  <span style=\"color: #7f7f7f; text-decoration-color: #7f7f7f\">             </span>\n",
       "</pre>\n"
      ],
      "text/plain": [
       "\u001b[2;36m                   \u001b[0m\u001b[2;36m \u001b[0m\u001b[34mINFO    \u001b[0m query: \u001b[1m[\u001b[0mCREATE  TABLE IF NOT EXISTS \u001b[32m\"MATCHES_TEMP\"\u001b[0m \u001b[1m(\u001b[0m\u001b[32m\"MATCH_ID\"\u001b[0m TEXT,     \u001b]8;id=503177;file://d:\\Users\\ksbha\\miniconda3\\envs\\footy\\Lib\\site-packages\\snowflake\\connector\\cursor.py\u001b\\\u001b[2mcursor.py\u001b[0m\u001b]8;;\u001b\\\u001b[2m:\u001b[0m\u001b]8;id=384364;file://d:\\Users\\ksbha\\miniconda3\\envs\\footy\\Lib\\site-packages\\snowflake\\connector\\cursor.py#833\u001b\\\u001b[2m833\u001b[0m\u001b]8;;\u001b\\\n",
       "\u001b[2;36m                    \u001b[0m         \u001b[32m\"COMPETITION\"\u001b[0m TEXT,\u001b[33m...\u001b[0m\u001b[1m]\u001b[0m                                                  \u001b[2m             \u001b[0m\n"
      ]
     },
     "metadata": {},
     "output_type": "display_data"
    },
    {
     "data": {
      "text/html": [
       "<pre style=\"white-space:pre;overflow-x:auto;line-height:normal;font-family:Menlo,'DejaVu Sans Mono',consolas,'Courier New',monospace\"><span style=\"color: #7fbfbf; text-decoration-color: #7fbfbf\">[12/21/23 17:54:35] </span><span style=\"color: #000080; text-decoration-color: #000080\">INFO    </span> query execution done                                                     <a href=\"file://d:\\Users\\ksbha\\miniconda3\\envs\\footy\\Lib\\site-packages\\snowflake\\connector\\cursor.py\" target=\"_blank\"><span style=\"color: #7f7f7f; text-decoration-color: #7f7f7f\">cursor.py</span></a><span style=\"color: #7f7f7f; text-decoration-color: #7f7f7f\">:</span><a href=\"file://d:\\Users\\ksbha\\miniconda3\\envs\\footy\\Lib\\site-packages\\snowflake\\connector\\cursor.py#846\" target=\"_blank\"><span style=\"color: #7f7f7f; text-decoration-color: #7f7f7f\">846</span></a>\n",
       "</pre>\n"
      ],
      "text/plain": [
       "\u001b[2;36m[12/21/23 17:54:35]\u001b[0m\u001b[2;36m \u001b[0m\u001b[34mINFO    \u001b[0m query execution done                                                     \u001b]8;id=221418;file://d:\\Users\\ksbha\\miniconda3\\envs\\footy\\Lib\\site-packages\\snowflake\\connector\\cursor.py\u001b\\\u001b[2mcursor.py\u001b[0m\u001b]8;;\u001b\\\u001b[2m:\u001b[0m\u001b]8;id=28152;file://d:\\Users\\ksbha\\miniconda3\\envs\\footy\\Lib\\site-packages\\snowflake\\connector\\cursor.py#846\u001b\\\u001b[2m846\u001b[0m\u001b]8;;\u001b\\\n"
      ]
     },
     "metadata": {},
     "output_type": "display_data"
    },
    {
     "data": {
      "text/html": [
       "<pre style=\"white-space:pre;overflow-x:auto;line-height:normal;font-family:Menlo,'DejaVu Sans Mono',consolas,'Courier New',monospace\"><span style=\"color: #7fbfbf; text-decoration-color: #7fbfbf\">                    </span><span style=\"color: #000080; text-decoration-color: #000080\">INFO    </span> Number of results in first chunk: <span style=\"color: #008080; text-decoration-color: #008080; font-weight: bold\">1</span>                                      <a href=\"file://d:\\Users\\ksbha\\miniconda3\\envs\\footy\\Lib\\site-packages\\snowflake\\connector\\cursor.py\" target=\"_blank\"><span style=\"color: #7f7f7f; text-decoration-color: #7f7f7f\">cursor.py</span></a><span style=\"color: #7f7f7f; text-decoration-color: #7f7f7f\">:</span><a href=\"file://d:\\Users\\ksbha\\miniconda3\\envs\\footy\\Lib\\site-packages\\snowflake\\connector\\cursor.py#988\" target=\"_blank\"><span style=\"color: #7f7f7f; text-decoration-color: #7f7f7f\">988</span></a>\n",
       "</pre>\n"
      ],
      "text/plain": [
       "\u001b[2;36m                   \u001b[0m\u001b[2;36m \u001b[0m\u001b[34mINFO    \u001b[0m Number of results in first chunk: \u001b[1;36m1\u001b[0m                                      \u001b]8;id=149642;file://d:\\Users\\ksbha\\miniconda3\\envs\\footy\\Lib\\site-packages\\snowflake\\connector\\cursor.py\u001b\\\u001b[2mcursor.py\u001b[0m\u001b]8;;\u001b\\\u001b[2m:\u001b[0m\u001b]8;id=107937;file://d:\\Users\\ksbha\\miniconda3\\envs\\footy\\Lib\\site-packages\\snowflake\\connector\\cursor.py#988\u001b\\\u001b[2m988\u001b[0m\u001b]8;;\u001b\\\n"
      ]
     },
     "metadata": {},
     "output_type": "display_data"
    },
    {
     "data": {
      "text/html": [
       "<pre style=\"white-space:pre;overflow-x:auto;line-height:normal;font-family:Menlo,'DejaVu Sans Mono',consolas,'Courier New',monospace\"><span style=\"color: #7fbfbf; text-decoration-color: #7fbfbf\">                    </span><span style=\"color: #000080; text-decoration-color: #000080\">INFO    </span> query: <span style=\"font-weight: bold\">[</span>COPY INTO <span style=\"color: #008000; text-decoration-color: #008000\">\"MATCHES_TEMP\"</span> <span style=\"color: #800080; text-decoration-color: #800080\">/</span>*                                      <a href=\"file://d:\\Users\\ksbha\\miniconda3\\envs\\footy\\Lib\\site-packages\\snowflake\\connector\\cursor.py\" target=\"_blank\"><span style=\"color: #7f7f7f; text-decoration-color: #7f7f7f\">cursor.py</span></a><span style=\"color: #7f7f7f; text-decoration-color: #7f7f7f\">:</span><a href=\"file://d:\\Users\\ksbha\\miniconda3\\envs\\footy\\Lib\\site-packages\\snowflake\\connector\\cursor.py#833\" target=\"_blank\"><span style=\"color: #7f7f7f; text-decoration-color: #7f7f7f\">833</span></a>\n",
       "<span style=\"color: #7fbfbf; text-decoration-color: #7fbfbf\">                    </span>         Python:snowflake.connector.pandas_tools.write_pandas<span style=\"color: #808000; text-decoration-color: #808000\">...</span><span style=\"font-weight: bold\">]</span>                 <span style=\"color: #7f7f7f; text-decoration-color: #7f7f7f\">             </span>\n",
       "</pre>\n"
      ],
      "text/plain": [
       "\u001b[2;36m                   \u001b[0m\u001b[2;36m \u001b[0m\u001b[34mINFO    \u001b[0m query: \u001b[1m[\u001b[0mCOPY INTO \u001b[32m\"MATCHES_TEMP\"\u001b[0m \u001b[35m/\u001b[0m*                                      \u001b]8;id=121891;file://d:\\Users\\ksbha\\miniconda3\\envs\\footy\\Lib\\site-packages\\snowflake\\connector\\cursor.py\u001b\\\u001b[2mcursor.py\u001b[0m\u001b]8;;\u001b\\\u001b[2m:\u001b[0m\u001b]8;id=30121;file://d:\\Users\\ksbha\\miniconda3\\envs\\footy\\Lib\\site-packages\\snowflake\\connector\\cursor.py#833\u001b\\\u001b[2m833\u001b[0m\u001b]8;;\u001b\\\n",
       "\u001b[2;36m                    \u001b[0m         Python:snowflake.connector.pandas_tools.write_pandas\u001b[33m...\u001b[0m\u001b[1m]\u001b[0m                 \u001b[2m             \u001b[0m\n"
      ]
     },
     "metadata": {},
     "output_type": "display_data"
    },
    {
     "data": {
      "text/html": [
       "<pre style=\"white-space:pre;overflow-x:auto;line-height:normal;font-family:Menlo,'DejaVu Sans Mono',consolas,'Courier New',monospace\"><span style=\"color: #7fbfbf; text-decoration-color: #7fbfbf\">                    </span><span style=\"color: #000080; text-decoration-color: #000080\">INFO    </span> query execution done                                                     <a href=\"file://d:\\Users\\ksbha\\miniconda3\\envs\\footy\\Lib\\site-packages\\snowflake\\connector\\cursor.py\" target=\"_blank\"><span style=\"color: #7f7f7f; text-decoration-color: #7f7f7f\">cursor.py</span></a><span style=\"color: #7f7f7f; text-decoration-color: #7f7f7f\">:</span><a href=\"file://d:\\Users\\ksbha\\miniconda3\\envs\\footy\\Lib\\site-packages\\snowflake\\connector\\cursor.py#846\" target=\"_blank\"><span style=\"color: #7f7f7f; text-decoration-color: #7f7f7f\">846</span></a>\n",
       "</pre>\n"
      ],
      "text/plain": [
       "\u001b[2;36m                   \u001b[0m\u001b[2;36m \u001b[0m\u001b[34mINFO    \u001b[0m query execution done                                                     \u001b]8;id=279566;file://d:\\Users\\ksbha\\miniconda3\\envs\\footy\\Lib\\site-packages\\snowflake\\connector\\cursor.py\u001b\\\u001b[2mcursor.py\u001b[0m\u001b]8;;\u001b\\\u001b[2m:\u001b[0m\u001b]8;id=205037;file://d:\\Users\\ksbha\\miniconda3\\envs\\footy\\Lib\\site-packages\\snowflake\\connector\\cursor.py#846\u001b\\\u001b[2m846\u001b[0m\u001b]8;;\u001b\\\n"
      ]
     },
     "metadata": {},
     "output_type": "display_data"
    },
    {
     "data": {
      "text/html": [
       "<pre style=\"white-space:pre;overflow-x:auto;line-height:normal;font-family:Menlo,'DejaVu Sans Mono',consolas,'Courier New',monospace\"><span style=\"color: #7fbfbf; text-decoration-color: #7fbfbf\">                    </span><span style=\"color: #000080; text-decoration-color: #000080\">INFO    </span> Number of results in first chunk: <span style=\"color: #008080; text-decoration-color: #008080; font-weight: bold\">1</span>                                      <a href=\"file://d:\\Users\\ksbha\\miniconda3\\envs\\footy\\Lib\\site-packages\\snowflake\\connector\\cursor.py\" target=\"_blank\"><span style=\"color: #7f7f7f; text-decoration-color: #7f7f7f\">cursor.py</span></a><span style=\"color: #7f7f7f; text-decoration-color: #7f7f7f\">:</span><a href=\"file://d:\\Users\\ksbha\\miniconda3\\envs\\footy\\Lib\\site-packages\\snowflake\\connector\\cursor.py#988\" target=\"_blank\"><span style=\"color: #7f7f7f; text-decoration-color: #7f7f7f\">988</span></a>\n",
       "</pre>\n"
      ],
      "text/plain": [
       "\u001b[2;36m                   \u001b[0m\u001b[2;36m \u001b[0m\u001b[34mINFO    \u001b[0m Number of results in first chunk: \u001b[1;36m1\u001b[0m                                      \u001b]8;id=707865;file://d:\\Users\\ksbha\\miniconda3\\envs\\footy\\Lib\\site-packages\\snowflake\\connector\\cursor.py\u001b\\\u001b[2mcursor.py\u001b[0m\u001b]8;;\u001b\\\u001b[2m:\u001b[0m\u001b]8;id=748372;file://d:\\Users\\ksbha\\miniconda3\\envs\\footy\\Lib\\site-packages\\snowflake\\connector\\cursor.py#988\u001b\\\u001b[2m988\u001b[0m\u001b]8;;\u001b\\\n"
      ]
     },
     "metadata": {},
     "output_type": "display_data"
    },
    {
     "data": {
      "text/html": [
       "<pre style=\"white-space:pre;overflow-x:auto;line-height:normal;font-family:Menlo,'DejaVu Sans Mono',consolas,'Courier New',monospace\"><span style=\"color: #7fbfbf; text-decoration-color: #7fbfbf\">                    </span><span style=\"color: #000080; text-decoration-color: #000080\">INFO    </span> query: <span style=\"font-weight: bold\">[</span>MERGE INTO MATCHES USING MATCHES_TEMP ON MATCHES.MATCH_ID =      <a href=\"file://d:\\Users\\ksbha\\miniconda3\\envs\\footy\\Lib\\site-packages\\snowflake\\connector\\cursor.py\" target=\"_blank\"><span style=\"color: #7f7f7f; text-decoration-color: #7f7f7f\">cursor.py</span></a><span style=\"color: #7f7f7f; text-decoration-color: #7f7f7f\">:</span><a href=\"file://d:\\Users\\ksbha\\miniconda3\\envs\\footy\\Lib\\site-packages\\snowflake\\connector\\cursor.py#833\" target=\"_blank\"><span style=\"color: #7f7f7f; text-decoration-color: #7f7f7f\">833</span></a>\n",
       "<span style=\"color: #7fbfbf; text-decoration-color: #7fbfbf\">                    </span>         MATCHES_TEMP.MATCH_I<span style=\"color: #808000; text-decoration-color: #808000\">...</span><span style=\"font-weight: bold\">]</span>                                                 <span style=\"color: #7f7f7f; text-decoration-color: #7f7f7f\">             </span>\n",
       "</pre>\n"
      ],
      "text/plain": [
       "\u001b[2;36m                   \u001b[0m\u001b[2;36m \u001b[0m\u001b[34mINFO    \u001b[0m query: \u001b[1m[\u001b[0mMERGE INTO MATCHES USING MATCHES_TEMP ON MATCHES.MATCH_ID =      \u001b]8;id=706223;file://d:\\Users\\ksbha\\miniconda3\\envs\\footy\\Lib\\site-packages\\snowflake\\connector\\cursor.py\u001b\\\u001b[2mcursor.py\u001b[0m\u001b]8;;\u001b\\\u001b[2m:\u001b[0m\u001b]8;id=127493;file://d:\\Users\\ksbha\\miniconda3\\envs\\footy\\Lib\\site-packages\\snowflake\\connector\\cursor.py#833\u001b\\\u001b[2m833\u001b[0m\u001b]8;;\u001b\\\n",
       "\u001b[2;36m                    \u001b[0m         MATCHES_TEMP.MATCH_I\u001b[33m...\u001b[0m\u001b[1m]\u001b[0m                                                 \u001b[2m             \u001b[0m\n"
      ]
     },
     "metadata": {},
     "output_type": "display_data"
    },
    {
     "data": {
      "text/html": [
       "<pre style=\"white-space:pre;overflow-x:auto;line-height:normal;font-family:Menlo,'DejaVu Sans Mono',consolas,'Courier New',monospace\"><span style=\"color: #7fbfbf; text-decoration-color: #7fbfbf\">[12/21/23 17:54:36] </span><span style=\"color: #000080; text-decoration-color: #000080\">INFO    </span> query execution done                                                     <a href=\"file://d:\\Users\\ksbha\\miniconda3\\envs\\footy\\Lib\\site-packages\\snowflake\\connector\\cursor.py\" target=\"_blank\"><span style=\"color: #7f7f7f; text-decoration-color: #7f7f7f\">cursor.py</span></a><span style=\"color: #7f7f7f; text-decoration-color: #7f7f7f\">:</span><a href=\"file://d:\\Users\\ksbha\\miniconda3\\envs\\footy\\Lib\\site-packages\\snowflake\\connector\\cursor.py#846\" target=\"_blank\"><span style=\"color: #7f7f7f; text-decoration-color: #7f7f7f\">846</span></a>\n",
       "</pre>\n"
      ],
      "text/plain": [
       "\u001b[2;36m[12/21/23 17:54:36]\u001b[0m\u001b[2;36m \u001b[0m\u001b[34mINFO    \u001b[0m query execution done                                                     \u001b]8;id=72086;file://d:\\Users\\ksbha\\miniconda3\\envs\\footy\\Lib\\site-packages\\snowflake\\connector\\cursor.py\u001b\\\u001b[2mcursor.py\u001b[0m\u001b]8;;\u001b\\\u001b[2m:\u001b[0m\u001b]8;id=888815;file://d:\\Users\\ksbha\\miniconda3\\envs\\footy\\Lib\\site-packages\\snowflake\\connector\\cursor.py#846\u001b\\\u001b[2m846\u001b[0m\u001b]8;;\u001b\\\n"
      ]
     },
     "metadata": {},
     "output_type": "display_data"
    },
    {
     "data": {
      "text/html": [
       "<pre style=\"white-space:pre;overflow-x:auto;line-height:normal;font-family:Menlo,'DejaVu Sans Mono',consolas,'Courier New',monospace\"><span style=\"color: #7fbfbf; text-decoration-color: #7fbfbf\">                    </span><span style=\"color: #000080; text-decoration-color: #000080\">INFO    </span> query: <span style=\"font-weight: bold\">[</span>DROP TABLE IF EXISTS MATCHES_TEMP<span style=\"font-weight: bold\">]</span>                               <a href=\"file://d:\\Users\\ksbha\\miniconda3\\envs\\footy\\Lib\\site-packages\\snowflake\\connector\\cursor.py\" target=\"_blank\"><span style=\"color: #7f7f7f; text-decoration-color: #7f7f7f\">cursor.py</span></a><span style=\"color: #7f7f7f; text-decoration-color: #7f7f7f\">:</span><a href=\"file://d:\\Users\\ksbha\\miniconda3\\envs\\footy\\Lib\\site-packages\\snowflake\\connector\\cursor.py#833\" target=\"_blank\"><span style=\"color: #7f7f7f; text-decoration-color: #7f7f7f\">833</span></a>\n",
       "</pre>\n"
      ],
      "text/plain": [
       "\u001b[2;36m                   \u001b[0m\u001b[2;36m \u001b[0m\u001b[34mINFO    \u001b[0m query: \u001b[1m[\u001b[0mDROP TABLE IF EXISTS MATCHES_TEMP\u001b[1m]\u001b[0m                               \u001b]8;id=954745;file://d:\\Users\\ksbha\\miniconda3\\envs\\footy\\Lib\\site-packages\\snowflake\\connector\\cursor.py\u001b\\\u001b[2mcursor.py\u001b[0m\u001b]8;;\u001b\\\u001b[2m:\u001b[0m\u001b]8;id=459785;file://d:\\Users\\ksbha\\miniconda3\\envs\\footy\\Lib\\site-packages\\snowflake\\connector\\cursor.py#833\u001b\\\u001b[2m833\u001b[0m\u001b]8;;\u001b\\\n"
      ]
     },
     "metadata": {},
     "output_type": "display_data"
    },
    {
     "data": {
      "text/html": [
       "<pre style=\"white-space:pre;overflow-x:auto;line-height:normal;font-family:Menlo,'DejaVu Sans Mono',consolas,'Courier New',monospace\"><span style=\"color: #7fbfbf; text-decoration-color: #7fbfbf\">                    </span><span style=\"color: #000080; text-decoration-color: #000080\">INFO    </span> query execution done                                                     <a href=\"file://d:\\Users\\ksbha\\miniconda3\\envs\\footy\\Lib\\site-packages\\snowflake\\connector\\cursor.py\" target=\"_blank\"><span style=\"color: #7f7f7f; text-decoration-color: #7f7f7f\">cursor.py</span></a><span style=\"color: #7f7f7f; text-decoration-color: #7f7f7f\">:</span><a href=\"file://d:\\Users\\ksbha\\miniconda3\\envs\\footy\\Lib\\site-packages\\snowflake\\connector\\cursor.py#846\" target=\"_blank\"><span style=\"color: #7f7f7f; text-decoration-color: #7f7f7f\">846</span></a>\n",
       "</pre>\n"
      ],
      "text/plain": [
       "\u001b[2;36m                   \u001b[0m\u001b[2;36m \u001b[0m\u001b[34mINFO    \u001b[0m query execution done                                                     \u001b]8;id=496954;file://d:\\Users\\ksbha\\miniconda3\\envs\\footy\\Lib\\site-packages\\snowflake\\connector\\cursor.py\u001b\\\u001b[2mcursor.py\u001b[0m\u001b]8;;\u001b\\\u001b[2m:\u001b[0m\u001b]8;id=63817;file://d:\\Users\\ksbha\\miniconda3\\envs\\footy\\Lib\\site-packages\\snowflake\\connector\\cursor.py#846\u001b\\\u001b[2m846\u001b[0m\u001b]8;;\u001b\\\n"
      ]
     },
     "metadata": {},
     "output_type": "display_data"
    },
    {
     "data": {
      "text/html": [
       "<pre style=\"white-space:pre;overflow-x:auto;line-height:normal;font-family:Menlo,'DejaVu Sans Mono',consolas,'Courier New',monospace\"><span style=\"color: #7fbfbf; text-decoration-color: #7fbfbf\">                    </span><span style=\"color: #000080; text-decoration-color: #000080\">INFO    </span> Number of results in first chunk: <span style=\"color: #008080; text-decoration-color: #008080; font-weight: bold\">1</span>                                      <a href=\"file://d:\\Users\\ksbha\\miniconda3\\envs\\footy\\Lib\\site-packages\\snowflake\\connector\\cursor.py\" target=\"_blank\"><span style=\"color: #7f7f7f; text-decoration-color: #7f7f7f\">cursor.py</span></a><span style=\"color: #7f7f7f; text-decoration-color: #7f7f7f\">:</span><a href=\"file://d:\\Users\\ksbha\\miniconda3\\envs\\footy\\Lib\\site-packages\\snowflake\\connector\\cursor.py#988\" target=\"_blank\"><span style=\"color: #7f7f7f; text-decoration-color: #7f7f7f\">988</span></a>\n",
       "</pre>\n"
      ],
      "text/plain": [
       "\u001b[2;36m                   \u001b[0m\u001b[2;36m \u001b[0m\u001b[34mINFO    \u001b[0m Number of results in first chunk: \u001b[1;36m1\u001b[0m                                      \u001b]8;id=354313;file://d:\\Users\\ksbha\\miniconda3\\envs\\footy\\Lib\\site-packages\\snowflake\\connector\\cursor.py\u001b\\\u001b[2mcursor.py\u001b[0m\u001b]8;;\u001b\\\u001b[2m:\u001b[0m\u001b]8;id=517213;file://d:\\Users\\ksbha\\miniconda3\\envs\\footy\\Lib\\site-packages\\snowflake\\connector\\cursor.py#988\u001b\\\u001b[2m988\u001b[0m\u001b]8;;\u001b\\\n"
      ]
     },
     "metadata": {},
     "output_type": "display_data"
    },
    {
     "name": "stdout",
     "output_type": "stream",
     "text": [
      "Upsert completed. 550 rows processed.\n"
     ]
    }
   ],
   "source": [
    "upsert_to_snowflake(\"MATCHES\", df_matches, ['MATCH_ID'])"
   ]
  },
  {
   "cell_type": "code",
   "execution_count": null,
   "metadata": {},
   "outputs": [],
   "source": []
  },
  {
   "cell_type": "code",
   "execution_count": null,
   "metadata": {},
   "outputs": [],
   "source": []
  },
  {
   "cell_type": "code",
   "execution_count": null,
   "metadata": {},
   "outputs": [],
   "source": []
  }
 ],
 "metadata": {
  "kernelspec": {
   "display_name": "footy",
   "language": "python",
   "name": "python3"
  },
  "language_info": {
   "codemirror_mode": {
    "name": "ipython",
    "version": 3
   },
   "file_extension": ".py",
   "mimetype": "text/x-python",
   "name": "python",
   "nbconvert_exporter": "python",
   "pygments_lexer": "ipython3",
   "version": "3.11.5"
  }
 },
 "nbformat": 4,
 "nbformat_minor": 2
}
