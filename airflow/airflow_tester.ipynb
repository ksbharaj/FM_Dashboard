{
 "cells": [
  {
   "cell_type": "code",
   "execution_count": 1,
   "metadata": {},
   "outputs": [],
   "source": [
    "import ScraperFC as sfc\n",
    "import traceback"
   ]
  },
  {
   "cell_type": "code",
   "execution_count": 2,
   "metadata": {},
   "outputs": [
    {
     "name": "stderr",
     "output_type": "stream",
     "text": [
      "d:\\Users\\ksbha\\miniconda3\\envs\\footy\\Lib\\site-packages\\ScraperFC\\Understat.py:361: FutureWarning: Passing literal html to 'read_html' is deprecated and will be removed in a future version. To read from a literal string, wrap it in a 'StringIO' object.\n",
      "  columns = pd.read_html(table)[0].columns\n",
      "d:\\Users\\ksbha\\miniconda3\\envs\\footy\\Lib\\site-packages\\ScraperFC\\Understat.py:366: FutureWarning: Passing literal html to 'read_html' is deprecated and will be removed in a future version. To read from a literal string, wrap it in a 'StringIO' object.\n",
      "  df = pd.read_html(table)[0]\n"
     ]
    }
   ],
   "source": [
    "scraper = sfc.Understat()\n",
    "try:\n",
    "    lg_table = scraper.scrape_league_table(year=2024, league='EPL')\n",
    "except Exception as e:\n",
    "    traceback.print_exc()\n",
    "    raise\n",
    "finally:\n",
    "    scraper.close()"
   ]
  },
  {
   "cell_type": "code",
   "execution_count": 3,
   "metadata": {},
   "outputs": [
    {
     "name": "stderr",
     "output_type": "stream",
     "text": [
      "C:\\Users\\ksbha\\AppData\\Local\\Temp\\ipykernel_10208\\395020011.py:3: SettingWithCopyWarning: \n",
      "A value is trying to be set on a copy of a slice from a DataFrame.\n",
      "Try using .loc[row_indexer,col_indexer] = value instead\n",
      "\n",
      "See the caveats in the documentation: https://pandas.pydata.org/pandas-docs/stable/user_guide/indexing.html#returning-a-view-versus-a-copy\n",
      "  understat_table['season'] = 2324\n",
      "C:\\Users\\ksbha\\AppData\\Local\\Temp\\ipykernel_10208\\395020011.py:4: SettingWithCopyWarning: \n",
      "A value is trying to be set on a copy of a slice from a DataFrame.\n",
      "Try using .loc[row_indexer,col_indexer] = value instead\n",
      "\n",
      "See the caveats in the documentation: https://pandas.pydata.org/pandas-docs/stable/user_guide/indexing.html#returning-a-view-versus-a-copy\n",
      "  understat_table['league'] = 'ENG-Premier League'\n",
      "C:\\Users\\ksbha\\AppData\\Local\\Temp\\ipykernel_10208\\395020011.py:17: SettingWithCopyWarning: \n",
      "A value is trying to be set on a copy of a slice from a DataFrame\n",
      "\n",
      "See the caveats in the documentation: https://pandas.pydata.org/pandas-docs/stable/user_guide/indexing.html#returning-a-view-versus-a-copy\n",
      "  understat_table.sort_values(by=['league', 'season', 'Team'], ascending=True, inplace=True)\n",
      "C:\\Users\\ksbha\\AppData\\Local\\Temp\\ipykernel_10208\\395020011.py:20: SettingWithCopyWarning: \n",
      "A value is trying to be set on a copy of a slice from a DataFrame\n",
      "\n",
      "See the caveats in the documentation: https://pandas.pydata.org/pandas-docs/stable/user_guide/indexing.html#returning-a-view-versus-a-copy\n",
      "  understat_table.rename(columns={'Team': 'TEAM_NAME', 'W': 'TEAM_WINS', 'D': 'TEAM_DRAWS', 'league': 'COMPETITION',\n"
     ]
    }
   ],
   "source": [
    "understat_table = lg_table[['Team', 'W', 'D', 'L', 'G', 'GA', 'xG', 'xGA', 'NPxG',\n",
    "                            'NPxGA', 'PPDA', 'OPPDA', 'PTS', 'xPTS']]\n",
    "understat_table['season'] = 2324\n",
    "understat_table['league'] = 'ENG-Premier League'\n",
    "\n",
    "understat_table.loc[understat_table['Team'] == 'Manchester United', 'Team'] = 'Manchester Utd'\n",
    "understat_table.loc[understat_table['Team'] == 'Newcastle United', 'Team'] = 'Newcastle Utd'\n",
    "understat_table.loc[understat_table['Team'] == 'Tottenham Hotspur', 'Team'] = 'Tottenham'\n",
    "understat_table.loc[understat_table['Team'] == 'Wolverhampton Wanderers', 'Team'] = 'Wolves'\n",
    "understat_table.loc[understat_table['Team'] == 'Nottingham Forest', 'Team'] = \"Nott'ham Forest\"\n",
    "understat_table.loc[understat_table['Team'] == 'Leicester', 'Team'] = 'Leicester City'\n",
    "understat_table.loc[understat_table['Team'] == 'Leeds', 'Team'] = 'Leeds United'\n",
    "understat_table.loc[understat_table['Team'] == 'Sheffield United', 'Team'] = \"Sheffield Utd\"\n",
    "understat_table.loc[understat_table['Team'] == 'Luton', 'Team'] = 'Luton Town'\n",
    "understat_table.loc[understat_table['Team'] == 'Norwich', 'Team'] = 'Norwich City'\n",
    "\n",
    "understat_table.sort_values(by=['league', 'season', 'Team'], ascending=True, inplace=True)\n",
    "understat_table.reset_index(drop=True, inplace=True)\n",
    "\n",
    "understat_table.rename(columns={'Team': 'TEAM_NAME', 'W': 'TEAM_WINS', 'D': 'TEAM_DRAWS', 'league': 'COMPETITION',\n",
    "                                'L': 'TEAM_LOSSES', 'xPTS': 'TEAM_XPTS', 'PTS': 'TEAM_PTS', 'season': 'SEASON',\n",
    "                                'NPxGA': 'NPXG_AGAINST', 'xGA': 'XG_AGAINST'}, inplace=True)\n",
    "\n",
    "understat_table.set_index(['COMPETITION', 'SEASON', 'TEAM_NAME'], inplace=True)"
   ]
  },
  {
   "cell_type": "code",
   "execution_count": null,
   "metadata": {},
   "outputs": [],
   "source": []
  },
  {
   "cell_type": "code",
   "execution_count": 4,
   "metadata": {},
   "outputs": [
    {
     "data": {
      "text/html": [
       "<pre style=\"white-space:pre;overflow-x:auto;line-height:normal;font-family:Menlo,'DejaVu Sans Mono',consolas,'Courier New',monospace\"><span style=\"color: #7fbfbf; text-decoration-color: #7fbfbf\">[12/29/23 16:51:50] </span><span style=\"color: #000080; text-decoration-color: #000080\">INFO    </span> No custom team name replacements found. You can configure these in       <a href=\"file://d:\\Users\\ksbha\\miniconda3\\envs\\footy\\Lib\\site-packages\\soccerdata\\_config.py\" target=\"_blank\"><span style=\"color: #7f7f7f; text-decoration-color: #7f7f7f\">_config.py</span></a><span style=\"color: #7f7f7f; text-decoration-color: #7f7f7f\">:</span><a href=\"file://d:\\Users\\ksbha\\miniconda3\\envs\\footy\\Lib\\site-packages\\soccerdata\\_config.py#84\" target=\"_blank\"><span style=\"color: #7f7f7f; text-decoration-color: #7f7f7f\">84</span></a>\n",
       "<span style=\"color: #7fbfbf; text-decoration-color: #7fbfbf\">                    </span>         C:\\Users\\ksbha\\soccerdata\\config\\teamname_replacements.json.             <span style=\"color: #7f7f7f; text-decoration-color: #7f7f7f\">             </span>\n",
       "</pre>\n"
      ],
      "text/plain": [
       "\u001b[2;36m[12/29/23 16:51:50]\u001b[0m\u001b[2;36m \u001b[0m\u001b[34mINFO    \u001b[0m No custom team name replacements found. You can configure these in       \u001b]8;id=489203;file://d:\\Users\\ksbha\\miniconda3\\envs\\footy\\Lib\\site-packages\\soccerdata\\_config.py\u001b\\\u001b[2m_config.py\u001b[0m\u001b]8;;\u001b\\\u001b[2m:\u001b[0m\u001b]8;id=504561;file://d:\\Users\\ksbha\\miniconda3\\envs\\footy\\Lib\\site-packages\\soccerdata\\_config.py#84\u001b\\\u001b[2m84\u001b[0m\u001b]8;;\u001b\\\n",
       "\u001b[2;36m                    \u001b[0m         C:\\Users\\ksbha\\soccerdata\\config\\teamname_replacements.json.             \u001b[2m             \u001b[0m\n"
      ]
     },
     "metadata": {},
     "output_type": "display_data"
    },
    {
     "data": {
      "text/html": [
       "<pre style=\"white-space:pre;overflow-x:auto;line-height:normal;font-family:Menlo,'DejaVu Sans Mono',consolas,'Courier New',monospace\"><span style=\"color: #7fbfbf; text-decoration-color: #7fbfbf\">                    </span><span style=\"color: #000080; text-decoration-color: #000080\">INFO    </span> No custom league dict found. You can configure additional leagues in    <a href=\"file://d:\\Users\\ksbha\\miniconda3\\envs\\footy\\Lib\\site-packages\\soccerdata\\_config.py\" target=\"_blank\"><span style=\"color: #7f7f7f; text-decoration-color: #7f7f7f\">_config.py</span></a><span style=\"color: #7f7f7f; text-decoration-color: #7f7f7f\">:</span><a href=\"file://d:\\Users\\ksbha\\miniconda3\\envs\\footy\\Lib\\site-packages\\soccerdata\\_config.py#162\" target=\"_blank\"><span style=\"color: #7f7f7f; text-decoration-color: #7f7f7f\">162</span></a>\n",
       "<span style=\"color: #7fbfbf; text-decoration-color: #7fbfbf\">                    </span>         C:\\Users\\ksbha\\soccerdata\\config\\league_dict.json.                      <span style=\"color: #7f7f7f; text-decoration-color: #7f7f7f\">              </span>\n",
       "</pre>\n"
      ],
      "text/plain": [
       "\u001b[2;36m                   \u001b[0m\u001b[2;36m \u001b[0m\u001b[34mINFO    \u001b[0m No custom league dict found. You can configure additional leagues in    \u001b]8;id=695693;file://d:\\Users\\ksbha\\miniconda3\\envs\\footy\\Lib\\site-packages\\soccerdata\\_config.py\u001b\\\u001b[2m_config.py\u001b[0m\u001b]8;;\u001b\\\u001b[2m:\u001b[0m\u001b]8;id=399914;file://d:\\Users\\ksbha\\miniconda3\\envs\\footy\\Lib\\site-packages\\soccerdata\\_config.py#162\u001b\\\u001b[2m162\u001b[0m\u001b]8;;\u001b\\\n",
       "\u001b[2;36m                    \u001b[0m         C:\\Users\\ksbha\\soccerdata\\config\\league_dict.json.                      \u001b[2m              \u001b[0m\n"
      ]
     },
     "metadata": {},
     "output_type": "display_data"
    }
   ],
   "source": [
    "import soccerdata as sd\n",
    "import datetime\n",
    "import pandas as pd"
   ]
  },
  {
   "cell_type": "code",
   "execution_count": 5,
   "metadata": {},
   "outputs": [],
   "source": [
    "def make_season_integer(df):\n",
    "    indexes = df.index.names\n",
    "    df = df.reset_index()\n",
    "    df['SEASON'] = df['SEASON'].astype(int)\n",
    "    df = df.set_index(indexes)\n",
    "    return df"
   ]
  },
  {
   "cell_type": "code",
   "execution_count": 9,
   "metadata": {},
   "outputs": [
    {
     "data": {
      "text/html": [
       "<pre style=\"white-space:pre;overflow-x:auto;line-height:normal;font-family:Menlo,'DejaVu Sans Mono',consolas,'Courier New',monospace\"><span style=\"color: #7fbfbf; text-decoration-color: #7fbfbf\">[12/29/23 16:57:51] </span><span style=\"color: #000080; text-decoration-color: #000080\">INFO    </span> Saving cached data to C:\\Users\\ksbha\\soccerdata\\data\\FBref               <a href=\"file://d:\\Users\\ksbha\\miniconda3\\envs\\footy\\Lib\\site-packages\\soccerdata\\_common.py\" target=\"_blank\"><span style=\"color: #7f7f7f; text-decoration-color: #7f7f7f\">_common.py</span></a><span style=\"color: #7f7f7f; text-decoration-color: #7f7f7f\">:</span><a href=\"file://d:\\Users\\ksbha\\miniconda3\\envs\\footy\\Lib\\site-packages\\soccerdata\\_common.py#91\" target=\"_blank\"><span style=\"color: #7f7f7f; text-decoration-color: #7f7f7f\">91</span></a>\n",
       "</pre>\n"
      ],
      "text/plain": [
       "\u001b[2;36m[12/29/23 16:57:51]\u001b[0m\u001b[2;36m \u001b[0m\u001b[34mINFO    \u001b[0m Saving cached data to C:\\Users\\ksbha\\soccerdata\\data\\FBref               \u001b]8;id=196319;file://d:\\Users\\ksbha\\miniconda3\\envs\\footy\\Lib\\site-packages\\soccerdata\\_common.py\u001b\\\u001b[2m_common.py\u001b[0m\u001b]8;;\u001b\\\u001b[2m:\u001b[0m\u001b]8;id=70028;file://d:\\Users\\ksbha\\miniconda3\\envs\\footy\\Lib\\site-packages\\soccerdata\\_common.py#91\u001b\\\u001b[2m91\u001b[0m\u001b]8;;\u001b\\\n"
      ]
     },
     "metadata": {},
     "output_type": "display_data"
    }
   ],
   "source": [
    "fbref = sd.FBref(leagues=\"ENG-Premier League\", seasons=[\"2324\"], no_cache=True)\n",
    "fbref_team_standard = fbref.read_team_season_stats(stat_type='standard')"
   ]
  },
  {
   "cell_type": "code",
   "execution_count": 62,
   "metadata": {},
   "outputs": [
    {
     "data": {
      "text/html": [
       "<pre style=\"white-space:pre;overflow-x:auto;line-height:normal;font-family:Menlo,'DejaVu Sans Mono',consolas,'Courier New',monospace\"><span style=\"color: #7fbfbf; text-decoration-color: #7fbfbf\">[12/25/23 18:16:39] </span><span style=\"color: #000080; text-decoration-color: #000080\">INFO    </span> Saving cached data to C:\\Users\\ksbha\\soccerdata\\data\\FBref               <a href=\"file://d:\\Users\\ksbha\\miniconda3\\envs\\footy\\Lib\\site-packages\\soccerdata\\_common.py\" target=\"_blank\"><span style=\"color: #7f7f7f; text-decoration-color: #7f7f7f\">_common.py</span></a><span style=\"color: #7f7f7f; text-decoration-color: #7f7f7f\">:</span><a href=\"file://d:\\Users\\ksbha\\miniconda3\\envs\\footy\\Lib\\site-packages\\soccerdata\\_common.py#91\" target=\"_blank\"><span style=\"color: #7f7f7f; text-decoration-color: #7f7f7f\">91</span></a>\n",
       "</pre>\n"
      ],
      "text/plain": [
       "\u001b[2;36m[12/25/23 18:16:39]\u001b[0m\u001b[2;36m \u001b[0m\u001b[34mINFO    \u001b[0m Saving cached data to C:\\Users\\ksbha\\soccerdata\\data\\FBref               \u001b]8;id=306765;file://d:\\Users\\ksbha\\miniconda3\\envs\\footy\\Lib\\site-packages\\soccerdata\\_common.py\u001b\\\u001b[2m_common.py\u001b[0m\u001b]8;;\u001b\\\u001b[2m:\u001b[0m\u001b]8;id=568265;file://d:\\Users\\ksbha\\miniconda3\\envs\\footy\\Lib\\site-packages\\soccerdata\\_common.py#91\u001b\\\u001b[2m91\u001b[0m\u001b]8;;\u001b\\\n"
      ]
     },
     "metadata": {},
     "output_type": "display_data"
    }
   ],
   "source": [
    "fbref = sd.FBref(leagues=\"ENG-Premier League\", seasons=[\"2324\"])\n",
    "fbref_team_standard = fbref.read_team_season_stats(stat_type='standard')"
   ]
  },
  {
   "cell_type": "code",
   "execution_count": 98,
   "metadata": {},
   "outputs": [],
   "source": [
    "fbref_team_standard = fbref_team_standard.rename_axis(index={'team': 'TEAM_NAME', 'season': 'SEASON', 'league': 'COMPETITION'})"
   ]
  },
  {
   "cell_type": "code",
   "execution_count": 99,
   "metadata": {},
   "outputs": [],
   "source": [
    "fbref_team_standard = make_season_integer(fbref_team_standard)"
   ]
  },
  {
   "cell_type": "code",
   "execution_count": null,
   "metadata": {},
   "outputs": [],
   "source": []
  },
  {
   "cell_type": "code",
   "execution_count": 81,
   "metadata": {},
   "outputs": [],
   "source": [
    "import pickle"
   ]
  },
  {
   "cell_type": "code",
   "execution_count": 45,
   "metadata": {},
   "outputs": [],
   "source": [
    "pd.set_option('display.max_columns', None)"
   ]
  },
  {
   "cell_type": "code",
   "execution_count": 100,
   "metadata": {},
   "outputs": [
    {
     "name": "stderr",
     "output_type": "stream",
     "text": [
      "C:\\Users\\ksbha\\AppData\\Local\\Temp\\ipykernel_9396\\2026419047.py:3: PerformanceWarning: dropping on a non-lexsorted multi-index without a level parameter may impact performance.\n",
      "  team_names.drop(columns=['url'], inplace=True)\n"
     ]
    }
   ],
   "source": [
    "team_names = fbref_team_standard.reset_index()[['TEAM_NAME','url']]\n",
    "team_names['TEAM_FBREF_ID'] = team_names['url'].apply(lambda x: x.split('/')[3])      ## Extracting team_id from URL\n",
    "team_names.drop(columns=['url'], inplace=True)\n",
    "team_names.columns = team_names.columns.droplevel(1)"
   ]
  },
  {
   "cell_type": "code",
   "execution_count": 101,
   "metadata": {},
   "outputs": [],
   "source": [
    "team_names['TEAM_FBREF_ID'] = team_names['TEAM_FBREF_ID'].astype('string')\n",
    "team_names.drop_duplicates(inplace=True)"
   ]
  },
  {
   "cell_type": "code",
   "execution_count": 102,
   "metadata": {},
   "outputs": [],
   "source": [
    "team_matches_played = fbref_team_standard['Playing Time'].MP"
   ]
  },
  {
   "cell_type": "code",
   "execution_count": 103,
   "metadata": {},
   "outputs": [],
   "source": [
    "team_standard_stats = understat_table.copy()\n",
    "team_standard_stats['MATCHES_PLAYED'] = team_matches_played"
   ]
  },
  {
   "cell_type": "code",
   "execution_count": 104,
   "metadata": {},
   "outputs": [],
   "source": [
    "team_standard_stats.reset_index(inplace=True)"
   ]
  },
  {
   "cell_type": "code",
   "execution_count": 105,
   "metadata": {},
   "outputs": [],
   "source": [
    "team_standard_stats = team_standard_stats.merge(team_names, on='TEAM_NAME', how='left')"
   ]
  },
  {
   "cell_type": "code",
   "execution_count": 106,
   "metadata": {},
   "outputs": [],
   "source": [
    "team_standard_stats = team_standard_stats[['TEAM_FBREF_ID','SEASON','COMPETITION','MATCHES_PLAYED','TEAM_WINS', \n",
    "                                           'TEAM_DRAWS', 'TEAM_LOSSES', 'TEAM_PTS', 'TEAM_XPTS']]"
   ]
  },
  {
   "cell_type": "code",
   "execution_count": 82,
   "metadata": {},
   "outputs": [
    {
     "data": {
      "text/plain": [
       "b'\\x80\\x04\\x95\\xa7/\\x00\\x00\\x00\\x00\\x00\\x00\\x8c\\x11pandas.core.frame\\x94\\x8c\\tDataFrame\\x94\\x93\\x94)\\x81\\x94}\\x94(\\x8c\\x04_mgr\\x94\\x8c\\x1epandas.core.internals.managers\\x94\\x8c\\x0cBlockManager\\x94\\x93\\x94(\\x8c\\x16pandas._libs.internals\\x94\\x8c\\x0f_unpickle_block\\x94\\x93\\x94\\x8c\\x1apandas.core.arrays.integer\\x94\\x8c\\x0cIntegerArray\\x94\\x93\\x94)\\x81\\x94}\\x94(\\x8c\\x05_data\\x94\\x8c\\x15numpy.core.multiarray\\x94\\x8c\\x0c_reconstruct\\x94\\x93\\x94\\x8c\\x05numpy\\x94\\x8c\\x07ndarray\\x94\\x93\\x94K\\x00\\x85\\x94C\\x01b\\x94\\x87\\x94R\\x94(K\\x01K\\x14\\x85\\x94h\\x15\\x8c\\x05dtype\\x94\\x93\\x94\\x8c\\x02i8\\x94\\x89\\x88\\x87\\x94R\\x94(K\\x03\\x8c\\x01<\\x94NNNJ\\xff\\xff\\xff\\xffJ\\xff\\xff\\xff\\xffK\\x00t\\x94b\\x89C\\xa0\\x17\\x00\\x00\\x00\\x00\\x00\\x00\\x00\\x19\\x00\\x00\\x00\\x00\\x00\\x00\\x00\\x19\\x00\\x00\\x00\\x00\\x00\\x00\\x00\\x1a\\x00\\x00\\x00\\x00\\x00\\x00\\x00\\x1b\\x00\\x00\\x00\\x00\\x00\\x00\\x00\\x1a\\x00\\x00\\x00\\x00\\x00\\x00\\x00\\x1a\\x00\\x00\\x00\\x00\\x00\\x00\\x00\\x18\\x00\\x00\\x00\\x00\\x00\\x00\\x00\\x19\\x00\\x00\\x00\\x00\\x00\\x00\\x00\\x18\\x00\\x00\\x00\\x00\\x00\\x00\\x00\\x17\\x00\\x00\\x00\\x00\\x00\\x00\\x00\\x17\\x00\\x00\\x00\\x00\\x00\\x00\\x00\\x19\\x00\\x00\\x00\\x00\\x00\\x00\\x00\\x1b\\x00\\x00\\x00\\x00\\x00\\x00\\x00\\x1e\\x00\\x00\\x00\\x00\\x00\\x00\\x00\\x1c\\x00\\x00\\x00\\x00\\x00\\x00\\x00\\x1c\\x00\\x00\\x00\\x00\\x00\\x00\\x00\\x19\\x00\\x00\\x00\\x00\\x00\\x00\\x00\\x17\\x00\\x00\\x00\\x00\\x00\\x00\\x00\\x17\\x00\\x00\\x00\\x00\\x00\\x00\\x00\\x94t\\x94b\\x8c\\x05_mask\\x94h\\x14h\\x17K\\x00\\x85\\x94h\\x19\\x87\\x94R\\x94(K\\x01K\\x14\\x85\\x94h\\x1e\\x8c\\x02b1\\x94\\x89\\x88\\x87\\x94R\\x94(K\\x03\\x8c\\x01|\\x94NNNJ\\xff\\xff\\xff\\xffJ\\xff\\xff\\xff\\xffK\\x00t\\x94b\\x89C\\x14\\x00\\x00\\x00\\x00\\x00\\x00\\x00\\x00\\x00\\x00\\x00\\x00\\x00\\x00\\x00\\x00\\x00\\x00\\x00\\x00\\x94t\\x94b\\x8c\\x06_cache\\x94}\\x94\\x8c\\x05dtype\\x94h\\x0c\\x8c\\nInt64Dtype\\x94\\x93\\x94)\\x81\\x94}\\x94h2}\\x94(\\x8c\\x0bnumpy_dtype\\x94h!\\x8c\\x04kind\\x94\\x8c\\x01i\\x94usbsub\\x8c\\x08builtins\\x94\\x8c\\x05slice\\x94\\x93\\x94K\\x00K\\x01K\\x01\\x87\\x94R\\x94K\\x02\\x87\\x94R\\x94h\\x0b\\x8c\\x1bpandas.core.arrays.floating\\x94\\x8c\\rFloatingArray\\x94\\x93\\x94)\\x81\\x94}\\x94(h\\x11h\\x14h\\x17K\\x00\\x85\\x94h\\x19\\x87\\x94R\\x94(K\\x01K\\x14\\x85\\x94h\\x1e\\x8c\\x02f8\\x94\\x89\\x88\\x87\\x94R\\x94(K\\x03h\"NNNJ\\xff\\xff\\xff\\xffJ\\xff\\xff\\xff\\xffK\\x00t\\x94b\\x89C\\xa0\\xcd\\xcc\\xcc\\xcc\\xccL9@\\xcd\\xcc\\xcc\\xcc\\xccL;@\\x9a\\x99\\x99\\x99\\x99\\x19:@\\x00\\x00\\x00\\x00\\x00\\x00;@33333\\xb3:@\\xcd\\xcc\\xcc\\xcc\\xccL9@\\x9a\\x99\\x99\\x99\\x99\\x199@33333\\xb3;@\\x00\\x00\\x00\\x00\\x00\\x80;@\\xcd\\xcc\\xcc\\xcc\\xccL=@333333;@333333;@fffff\\xe6:@\\x00\\x00\\x00\\x00\\x00\\x00;@\\x00\\x00\\x00\\x00\\x00\\x00<@\\x9a\\x99\\x99\\x99\\x99\\x99:@\\x9a\\x99\\x99\\x99\\x99\\x99:@33333\\xb39@\\xcd\\xcc\\xcc\\xcc\\xcc\\xcc<@333333;@\\x94t\\x94bh&h\\x14h\\x17K\\x00\\x85\\x94h\\x19\\x87\\x94R\\x94(K\\x01K\\x14\\x85\\x94h-\\x89C\\x14\\x00\\x00\\x00\\x00\\x00\\x00\\x00\\x00\\x00\\x00\\x00\\x00\\x00\\x00\\x00\\x00\\x00\\x00\\x00\\x00\\x94t\\x94bh2}\\x94h4hD\\x8c\\x0cFloat64Dtype\\x94\\x93\\x94)\\x81\\x94}\\x94h2}\\x94h:hOssbsubh?K\\x01K\\x02K\\x01\\x87\\x94R\\x94K\\x02\\x87\\x94R\\x94h\\x0bhF)\\x81\\x94}\\x94(h\\x11h\\x14h\\x17K\\x00\\x85\\x94h\\x19\\x87\\x94R\\x94(K\\x01K\\x14\\x85\\x94hO\\x89C\\xa0\\xcd\\xcc\\xcc\\xcc\\xcc\\xccM@\\xcd\\xcc\\xcc\\xcc\\xcc\\x0cK@33333\\xf3E@33333\\xb3G@\\xcd\\xcc\\xcc\\xcc\\xcc\\xccN@\\xcd\\xcc\\xcc\\xcc\\xcc\\x8cH@\\xcd\\xcc\\xcc\\xcc\\xcc\\xccM@\\x00\\x00\\x00\\x00\\x00\\x80E@\\x9a\\x99\\x99\\x99\\x99\\xd9C@fffff&I@\\x9a\\x99\\x99\\x99\\x99\\xd9M@33333\\xf3A@\\x9a\\x99\\x99\\x99\\x99\\x19O@33333sJ@\\x00\\x00\\x00\\x00\\x00\\x80K@\\xcd\\xcc\\xcc\\xcc\\xcc\\xccC@\\x9a\\x99\\x99\\x99\\x99\\x19B@33333\\xf3M@fffff\\xe6D@33333\\xf3G@\\x94t\\x94bh&h\\x14h\\x17K\\x00\\x85\\x94h\\x19\\x87\\x94R\\x94(K\\x01K\\x14\\x85\\x94h-\\x89C\\x14\\x00\\x00\\x00\\x00\\x00\\x00\\x00\\x00\\x00\\x00\\x00\\x00\\x00\\x00\\x00\\x00\\x00\\x00\\x00\\x00\\x94t\\x94bh2}\\x94h4h\\\\subh?K\\x02K\\x03K\\x01\\x87\\x94R\\x94K\\x02\\x87\\x94R\\x94h\\x0bh\\x0e)\\x81\\x94}\\x94(h\\x11h\\x14h\\x17K\\x00\\x85\\x94h\\x19\\x87\\x94R\\x94(K\\x01K\\x14\\x85\\x94h!\\x89C\\xa0\\x12\\x00\\x00\\x00\\x00\\x00\\x00\\x00\\x12\\x00\\x00\\x00\\x00\\x00\\x00\\x00\\x11\\x00\\x00\\x00\\x00\\x00\\x00\\x00\\x11\\x00\\x00\\x00\\x00\\x00\\x00\\x00\\x12\\x00\\x00\\x00\\x00\\x00\\x00\\x00\\x12\\x00\\x00\\x00\\x00\\x00\\x00\\x00\\x12\\x00\\x00\\x00\\x00\\x00\\x00\\x00\\x12\\x00\\x00\\x00\\x00\\x00\\x00\\x00\\x12\\x00\\x00\\x00\\x00\\x00\\x00\\x00\\x12\\x00\\x00\\x00\\x00\\x00\\x00\\x00\\x12\\x00\\x00\\x00\\x00\\x00\\x00\\x00\\x11\\x00\\x00\\x00\\x00\\x00\\x00\\x00\\x11\\x00\\x00\\x00\\x00\\x00\\x00\\x00\\x12\\x00\\x00\\x00\\x00\\x00\\x00\\x00\\x12\\x00\\x00\\x00\\x00\\x00\\x00\\x00\\x12\\x00\\x00\\x00\\x00\\x00\\x00\\x00\\x12\\x00\\x00\\x00\\x00\\x00\\x00\\x00\\x12\\x00\\x00\\x00\\x00\\x00\\x00\\x00\\x12\\x00\\x00\\x00\\x00\\x00\\x00\\x00\\x12\\x00\\x00\\x00\\x00\\x00\\x00\\x00\\x94t\\x94bh&h\\x14h\\x17K\\x00\\x85\\x94h\\x19\\x87\\x94R\\x94(K\\x01K\\x14\\x85\\x94h-\\x89C\\x14\\x00\\x00\\x00\\x00\\x00\\x00\\x00\\x00\\x00\\x00\\x00\\x00\\x00\\x00\\x00\\x00\\x00\\x00\\x00\\x00\\x94t\\x94bh2}\\x94h4h7subh?K\\x03K\\x04K\\x01\\x87\\x94R\\x94K\\x02\\x87\\x94R\\x94h\\x0bh\\x0e)\\x81\\x94}\\x94(h\\x11h\\x14h\\x17K\\x00\\x85\\x94h\\x19\\x87\\x94R\\x94(K\\x01K\\x14\\x85\\x94h!\\x89C\\xa0\\xc6\\x00\\x00\\x00\\x00\\x00\\x00\\x00\\xc6\\x00\\x00\\x00\\x00\\x00\\x00\\x00\\xbb\\x00\\x00\\x00\\x00\\x00\\x00\\x00\\xbb\\x00\\x00\\x00\\x00\\x00\\x00\\x00\\xc6\\x00\\x00\\x00\\x00\\x00\\x00\\x00\\xc6\\x00\\x00\\x00\\x00\\x00\\x00\\x00\\xc6\\x00\\x00\\x00\\x00\\x00\\x00\\x00\\xc6\\x00\\x00\\x00\\x00\\x00\\x00\\x00\\xc6\\x00\\x00\\x00\\x00\\x00\\x00\\x00\\xc6\\x00\\x00\\x00\\x00\\x00\\x00\\x00\\xc6\\x00\\x00\\x00\\x00\\x00\\x00\\x00\\xbb\\x00\\x00\\x00\\x00\\x00\\x00\\x00\\xbb\\x00\\x00\\x00\\x00\\x00\\x00\\x00\\xc6\\x00\\x00\\x00\\x00\\x00\\x00\\x00\\xc6\\x00\\x00\\x00\\x00\\x00\\x00\\x00\\xc6\\x00\\x00\\x00\\x00\\x00\\x00\\x00\\xc6\\x00\\x00\\x00\\x00\\x00\\x00\\x00\\xc6\\x00\\x00\\x00\\x00\\x00\\x00\\x00\\xc6\\x00\\x00\\x00\\x00\\x00\\x00\\x00\\xc6\\x00\\x00\\x00\\x00\\x00\\x00\\x00\\x94t\\x94bh&h\\x14h\\x17K\\x00\\x85\\x94h\\x19\\x87\\x94R\\x94(K\\x01K\\x14\\x85\\x94h-\\x89C\\x14\\x00\\x00\\x00\\x00\\x00\\x00\\x00\\x00\\x00\\x00\\x00\\x00\\x00\\x00\\x00\\x00\\x00\\x00\\x00\\x00\\x94t\\x94bh2}\\x94h4h7subh?K\\x04K\\x05K\\x01\\x87\\x94R\\x94K\\x02\\x87\\x94R\\x94h\\x0bh\\x0e)\\x81\\x94}\\x94(h\\x11h\\x14h\\x17K\\x00\\x85\\x94h\\x19\\x87\\x94R\\x94(K\\x01K\\x14\\x85\\x94h!\\x89C\\xa0T\\x06\\x00\\x00\\x00\\x00\\x00\\x00T\\x06\\x00\\x00\\x00\\x00\\x00\\x004\\x06\\x00\\x00\\x00\\x00\\x00\\x00\\xfa\\x05\\x00\\x00\\x00\\x00\\x00\\x00T\\x06\\x00\\x00\\x00\\x00\\x00\\x00T\\x06\\x00\\x00\\x00\\x00\\x00\\x00T\\x06\\x00\\x00\\x00\\x00\\x00\\x00T\\x06\\x00\\x00\\x00\\x00\\x00\\x00T\\x06\\x00\\x00\\x00\\x00\\x00\\x00T\\x06\\x00\\x00\\x00\\x00\\x00\\x00T\\x06\\x00\\x00\\x00\\x00\\x00\\x004\\x06\\x00\\x00\\x00\\x00\\x00\\x00\\xfa\\x05\\x00\\x00\\x00\\x00\\x00\\x00T\\x06\\x00\\x00\\x00\\x00\\x00\\x00T\\x06\\x00\\x00\\x00\\x00\\x00\\x00T\\x06\\x00\\x00\\x00\\x00\\x00\\x00T\\x06\\x00\\x00\\x00\\x00\\x00\\x00T\\x06\\x00\\x00\\x00\\x00\\x00\\x00T\\x06\\x00\\x00\\x00\\x00\\x00\\x00T\\x06\\x00\\x00\\x00\\x00\\x00\\x00\\x94t\\x94bh&h\\x14h\\x17K\\x00\\x85\\x94h\\x19\\x87\\x94R\\x94(K\\x01K\\x14\\x85\\x94h-\\x89C\\x14\\x00\\x00\\x00\\x00\\x00\\x00\\x00\\x00\\x00\\x00\\x00\\x00\\x00\\x00\\x00\\x00\\x00\\x00\\x00\\x00\\x94t\\x94bh2}\\x94h4h7subh?K\\x05K\\x06K\\x01\\x87\\x94R\\x94K\\x02\\x87\\x94R\\x94h\\x0bhF)\\x81\\x94}\\x94(h\\x11h\\x14h\\x17K\\x00\\x85\\x94h\\x19\\x87\\x94R\\x94(K\\x01K\\x14\\x85\\x94hO\\x89C\\xa0\\x00\\x00\\x00\\x00\\x00\\x002@\\x00\\x00\\x00\\x00\\x00\\x002@\\x9a\\x99\\x99\\x99\\x99\\x991@\\x00\\x00\\x00\\x00\\x00\\x001@\\x00\\x00\\x00\\x00\\x00\\x002@\\x00\\x00\\x00\\x00\\x00\\x002@\\x00\\x00\\x00\\x00\\x00\\x002@\\x00\\x00\\x00\\x00\\x00\\x002@\\x00\\x00\\x00\\x00\\x00\\x002@\\x00\\x00\\x00\\x00\\x00\\x002@\\x00\\x00\\x00\\x00\\x00\\x002@\\x9a\\x99\\x99\\x99\\x99\\x991@\\x00\\x00\\x00\\x00\\x00\\x001@\\x00\\x00\\x00\\x00\\x00\\x002@\\x00\\x00\\x00\\x00\\x00\\x002@\\x00\\x00\\x00\\x00\\x00\\x002@\\x00\\x00\\x00\\x00\\x00\\x002@\\x00\\x00\\x00\\x00\\x00\\x002@\\x00\\x00\\x00\\x00\\x00\\x002@\\x00\\x00\\x00\\x00\\x00\\x002@\\x94t\\x94bh&h\\x14h\\x17K\\x00\\x85\\x94h\\x19\\x87\\x94R\\x94(K\\x01K\\x14\\x85\\x94h-\\x89C\\x14\\x00\\x00\\x00\\x00\\x00\\x00\\x00\\x00\\x00\\x00\\x00\\x00\\x00\\x00\\x00\\x00\\x00\\x00\\x00\\x00\\x94t\\x94bh2}\\x94h4h\\\\subh?K\\x06K\\x07K\\x01\\x87\\x94R\\x94K\\x02\\x87\\x94R\\x94h\\x0bh\\x0e)\\x81\\x94}\\x94(h\\x11h\\x14h\\x17K\\x00\\x85\\x94h\\x19\\x87\\x94R\\x94(K\\x01K\\x14\\x85\\x94h!\\x89C\\xa0#\\x00\\x00\\x00\\x00\\x00\\x00\\x00#\\x00\\x00\\x00\\x00\\x00\\x00\\x00\\x18\\x00\\x00\\x00\\x00\\x00\\x00\\x00\\x17\\x00\\x00\\x00\\x00\\x00\\x00\\x00 \\x00\\x00\\x00\\x00\\x00\\x00\\x00\\x12\\x00\\x00\\x00\\x00\\x00\\x00\\x00\\x1c\\x00\\x00\\x00\\x00\\x00\\x00\\x00\\x12\\x00\\x00\\x00\\x00\\x00\\x00\\x00\\x17\\x00\\x00\\x00\\x00\\x00\\x00\\x00\\x19\\x00\\x00\\x00\\x00\\x00\\x00\\x00\"\\x00\\x00\\x00\\x00\\x00\\x00\\x00\\x11\\x00\\x00\\x00\\x00\\x00\\x00\\x00\\'\\x00\\x00\\x00\\x00\\x00\\x00\\x00\\x12\\x00\\x00\\x00\\x00\\x00\\x00\\x00$\\x00\\x00\\x00\\x00\\x00\\x00\\x00\\x13\\x00\\x00\\x00\\x00\\x00\\x00\\x00\\n\\x00\\x00\\x00\\x00\\x00\\x00\\x00\"\\x00\\x00\\x00\\x00\\x00\\x00\\x00\\x1e\\x00\\x00\\x00\\x00\\x00\\x00\\x00\\x16\\x00\\x00\\x00\\x00\\x00\\x00\\x00\\x94t\\x94bh&h\\x14h\\x17K\\x00\\x85\\x94h\\x19\\x87\\x94R\\x94(K\\x01K\\x14\\x85\\x94h-\\x89C\\x14\\x00\\x00\\x00\\x00\\x00\\x00\\x00\\x00\\x00\\x00\\x00\\x00\\x00\\x00\\x00\\x00\\x00\\x00\\x00\\x00\\x94t\\x94bh2}\\x94h4h7subh?K\\x07K\\x08K\\x01\\x87\\x94R\\x94K\\x02\\x87\\x94R\\x94h\\x0bh\\x0e)\\x81\\x94}\\x94(h\\x11h\\x14h\\x17K\\x00\\x85\\x94h\\x19\\x87\\x94R\\x94(K\\x01K\\x14\\x85\\x94h!\\x89C\\xa0\\x17\\x00\\x00\\x00\\x00\\x00\\x00\\x00\\x1b\\x00\\x00\\x00\\x00\\x00\\x00\\x00\\x11\\x00\\x00\\x00\\x00\\x00\\x00\\x00\\x0e\\x00\\x00\\x00\\x00\\x00\\x00\\x00\\x1a\\x00\\x00\\x00\\x00\\x00\\x00\\x00\\x0f\\x00\\x00\\x00\\x00\\x00\\x00\\x00\\x12\\x00\\x00\\x00\\x00\\x00\\x00\\x00\\r\\x00\\x00\\x00\\x00\\x00\\x00\\x00\\n\\x00\\x00\\x00\\x00\\x00\\x00\\x00\\x10\\x00\\x00\\x00\\x00\\x00\\x00\\x00\\x19\\x00\\x00\\x00\\x00\\x00\\x00\\x00\\x0c\\x00\\x00\\x00\\x00\\x00\\x00\\x00\\x1d\\x00\\x00\\x00\\x00\\x00\\x00\\x00\\r\\x00\\x00\\x00\\x00\\x00\\x00\\x00\\x18\\x00\\x00\\x00\\x00\\x00\\x00\\x00\\x10\\x00\\x00\\x00\\x00\\x00\\x00\\x00\\x06\\x00\\x00\\x00\\x00\\x00\\x00\\x00\\x1d\\x00\\x00\\x00\\x00\\x00\\x00\\x00\\x17\\x00\\x00\\x00\\x00\\x00\\x00\\x00\\x13\\x00\\x00\\x00\\x00\\x00\\x00\\x00\\x94t\\x94bh&h\\x14h\\x17K\\x00\\x85\\x94h\\x19\\x87\\x94R\\x94(K\\x01K\\x14\\x85\\x94h-\\x89C\\x14\\x00\\x00\\x00\\x00\\x00\\x00\\x00\\x00\\x00\\x00\\x00\\x00\\x00\\x00\\x00\\x00\\x00\\x00\\x00\\x00\\x94t\\x94bh2}\\x94h4h7subh?K\\x08K\\tK\\x01\\x87\\x94R\\x94K\\x02\\x87\\x94R\\x94h\\x0bh\\x0e)\\x81\\x94}\\x94(h\\x11h\\x14h\\x17K\\x00\\x85\\x94h\\x19\\x87\\x94R\\x94(K\\x01K\\x14\\x85\\x94h!\\x89C\\xa0:\\x00\\x00\\x00\\x00\\x00\\x00\\x00>\\x00\\x00\\x00\\x00\\x00\\x00\\x00)\\x00\\x00\\x00\\x00\\x00\\x00\\x00%\\x00\\x00\\x00\\x00\\x00\\x00\\x00:\\x00\\x00\\x00\\x00\\x00\\x00\\x00!\\x00\\x00\\x00\\x00\\x00\\x00\\x00.\\x00\\x00\\x00\\x00\\x00\\x00\\x00\\x1f\\x00\\x00\\x00\\x00\\x00\\x00\\x00!\\x00\\x00\\x00\\x00\\x00\\x00\\x00)\\x00\\x00\\x00\\x00\\x00\\x00\\x00;\\x00\\x00\\x00\\x00\\x00\\x00\\x00\\x1d\\x00\\x00\\x00\\x00\\x00\\x00\\x00D\\x00\\x00\\x00\\x00\\x00\\x00\\x00\\x1f\\x00\\x00\\x00\\x00\\x00\\x00\\x00<\\x00\\x00\\x00\\x00\\x00\\x00\\x00#\\x00\\x00\\x00\\x00\\x00\\x00\\x00\\x10\\x00\\x00\\x00\\x00\\x00\\x00\\x00?\\x00\\x00\\x00\\x00\\x00\\x00\\x005\\x00\\x00\\x00\\x00\\x00\\x00\\x00)\\x00\\x00\\x00\\x00\\x00\\x00\\x00\\x94t\\x94bh&h\\x14h\\x17K\\x00\\x85\\x94h\\x19\\x87\\x94R\\x94(K\\x01K\\x14\\x85\\x94h-\\x89C\\x14\\x00\\x00\\x00\\x00\\x00\\x00\\x00\\x00\\x00\\x00\\x00\\x00\\x00\\x00\\x00\\x00\\x00\\x00\\x00\\x00\\x94t\\x94bh2}\\x94h4h7subh?K\\tK\\nK\\x01\\x87\\x94R\\x94K\\x02\\x87\\x94R\\x94h\\x0bh\\x0e)\\x81\\x94}\\x94(h\\x11h\\x14h\\x17K\\x00\\x85\\x94h\\x19\\x87\\x94R\\x94(K\\x01K\\x14\\x85\\x94h!\\x89C\\xa0\\x1d\\x00\\x00\\x00\\x00\\x00\\x00\\x00 \\x00\\x00\\x00\\x00\\x00\\x00\\x00\\x18\\x00\\x00\\x00\\x00\\x00\\x00\\x00\\x14\\x00\\x00\\x00\\x00\\x00\\x00\\x00\\x1e\\x00\\x00\\x00\\x00\\x00\\x00\\x00\\x11\\x00\\x00\\x00\\x00\\x00\\x00\\x00\\x17\\x00\\x00\\x00\\x00\\x00\\x00\\x00\\x0f\\x00\\x00\\x00\\x00\\x00\\x00\\x00\\x17\\x00\\x00\\x00\\x00\\x00\\x00\\x00\\x17\\x00\\x00\\x00\\x00\\x00\\x00\\x00\\x1f\\x00\\x00\\x00\\x00\\x00\\x00\\x00\\x0f\\x00\\x00\\x00\\x00\\x00\\x00\\x00$\\x00\\x00\\x00\\x00\\x00\\x00\\x00\\x10\\x00\\x00\\x00\\x00\\x00\\x00\\x00!\\x00\\x00\\x00\\x00\\x00\\x00\\x00\\x12\\x00\\x00\\x00\\x00\\x00\\x00\\x00\\x08\\x00\\x00\\x00\\x00\\x00\\x00\\x00!\\x00\\x00\\x00\\x00\\x00\\x00\\x00\\x1d\\x00\\x00\\x00\\x00\\x00\\x00\\x00\\x15\\x00\\x00\\x00\\x00\\x00\\x00\\x00\\x94t\\x94bh&h\\x14h\\x17K\\x00\\x85\\x94h\\x19\\x87\\x94R\\x94(K\\x01K\\x14\\x85\\x94h-\\x89C\\x14\\x00\\x00\\x00\\x00\\x00\\x00\\x00\\x00\\x00\\x00\\x00\\x00\\x00\\x00\\x00\\x00\\x00\\x00\\x00\\x00\\x94t\\x94bh2}\\x94h4h7subh?K\\nK\\x0bK\\x01\\x87\\x94R\\x94K\\x02\\x87\\x94R\\x94h\\x0bh\\x0e)\\x81\\x94}\\x94(h\\x11h\\x14h\\x17K\\x00\\x85\\x94h\\x19\\x87\\x94R\\x94(K\\x01K\\x14\\x85\\x94h!\\x89C\\xa0\\x06\\x00\\x00\\x00\\x00\\x00\\x00\\x00\\x03\\x00\\x00\\x00\\x00\\x00\\x00\\x00\\x00\\x00\\x00\\x00\\x00\\x00\\x00\\x00\\x03\\x00\\x00\\x00\\x00\\x00\\x00\\x00\\x02\\x00\\x00\\x00\\x00\\x00\\x00\\x00\\x01\\x00\\x00\\x00\\x00\\x00\\x00\\x00\\x05\\x00\\x00\\x00\\x00\\x00\\x00\\x00\\x03\\x00\\x00\\x00\\x00\\x00\\x00\\x00\\x00\\x00\\x00\\x00\\x00\\x00\\x00\\x00\\x02\\x00\\x00\\x00\\x00\\x00\\x00\\x00\\x03\\x00\\x00\\x00\\x00\\x00\\x00\\x00\\x02\\x00\\x00\\x00\\x00\\x00\\x00\\x00\\x03\\x00\\x00\\x00\\x00\\x00\\x00\\x00\\x02\\x00\\x00\\x00\\x00\\x00\\x00\\x00\\x03\\x00\\x00\\x00\\x00\\x00\\x00\\x00\\x01\\x00\\x00\\x00\\x00\\x00\\x00\\x00\\x02\\x00\\x00\\x00\\x00\\x00\\x00\\x00\\x01\\x00\\x00\\x00\\x00\\x00\\x00\\x00\\x01\\x00\\x00\\x00\\x00\\x00\\x00\\x00\\x01\\x00\\x00\\x00\\x00\\x00\\x00\\x00\\x94t\\x94bh&h\\x14h\\x17K\\x00\\x85\\x94h\\x19\\x87\\x94R\\x94(K\\x01K\\x14\\x85\\x94h-\\x89C\\x14\\x00\\x00\\x00\\x00\\x00\\x00\\x00\\x00\\x00\\x00\\x00\\x00\\x00\\x00\\x00\\x00\\x00\\x00\\x00\\x00\\x94t\\x94bh2}\\x94h4h7subh?K\\x0bK\\x0cK\\x01\\x87\\x94R\\x94K\\x02\\x87\\x94R\\x94h\\x0bh\\x0e)\\x81\\x94}\\x94(h\\x11h\\x14h\\x17K\\x00\\x85\\x94h\\x19\\x87\\x94R\\x94(K\\x01K\\x14\\x85\\x94h!\\x89C\\xa0\\x06\\x00\\x00\\x00\\x00\\x00\\x00\\x00\\x03\\x00\\x00\\x00\\x00\\x00\\x00\\x00\\x00\\x00\\x00\\x00\\x00\\x00\\x00\\x00\\x03\\x00\\x00\\x00\\x00\\x00\\x00\\x00\\x02\\x00\\x00\\x00\\x00\\x00\\x00\\x00\\x01\\x00\\x00\\x00\\x00\\x00\\x00\\x00\\x06\\x00\\x00\\x00\\x00\\x00\\x00\\x00\\x03\\x00\\x00\\x00\\x00\\x00\\x00\\x00\\x00\\x00\\x00\\x00\\x00\\x00\\x00\\x00\\x02\\x00\\x00\\x00\\x00\\x00\\x00\\x00\\x04\\x00\\x00\\x00\\x00\\x00\\x00\\x00\\x02\\x00\\x00\\x00\\x00\\x00\\x00\\x00\\x04\\x00\\x00\\x00\\x00\\x00\\x00\\x00\\x03\\x00\\x00\\x00\\x00\\x00\\x00\\x00\\x03\\x00\\x00\\x00\\x00\\x00\\x00\\x00\\x01\\x00\\x00\\x00\\x00\\x00\\x00\\x00\\x02\\x00\\x00\\x00\\x00\\x00\\x00\\x00\\x01\\x00\\x00\\x00\\x00\\x00\\x00\\x00\\x01\\x00\\x00\\x00\\x00\\x00\\x00\\x00\\x01\\x00\\x00\\x00\\x00\\x00\\x00\\x00\\x94t\\x94bh&h\\x14h\\x17K\\x00\\x85\\x94h\\x19\\x87\\x94R\\x94(K\\x01K\\x14\\x85\\x94h-\\x89C\\x14\\x00\\x00\\x00\\x00\\x00\\x00\\x00\\x00\\x00\\x00\\x00\\x00\\x00\\x00\\x00\\x00\\x00\\x00\\x00\\x00\\x94t\\x94bh2}\\x94h4h7subh?K\\x0cK\\rK\\x01\\x87\\x94R\\x94K\\x02\\x87\\x94R\\x94h\\x0bh\\x0e)\\x81\\x94}\\x94(h\\x11h\\x14h\\x17K\\x00\\x85\\x94h\\x19\\x87\\x94R\\x94(K\\x01K\\x14\\x85\\x94h!\\x89C\\xa0\\x1d\\x00\\x00\\x00\\x00\\x00\\x00\\x000\\x00\\x00\\x00\\x00\\x00\\x00\\x00!\\x00\\x00\\x00\\x00\\x00\\x00\\x00(\\x00\\x00\\x00\\x00\\x00\\x00\\x000\\x00\\x00\\x00\\x00\\x00\\x00\\x00%\\x00\\x00\\x00\\x00\\x00\\x00\\x00<\\x00\\x00\\x00\\x00\\x00\\x00\\x00%\\x00\\x00\\x00\\x00\\x00\\x00\\x00&\\x00\\x00\\x00\\x00\\x00\\x00\\x00+\\x00\\x00\\x00\\x00\\x00\\x00\\x00\"\\x00\\x00\\x00\\x00\\x00\\x00\\x00\"\\x00\\x00\\x00\\x00\\x00\\x00\\x00 \\x00\\x00\\x00\\x00\\x00\\x00\\x00,\\x00\\x00\\x00\\x00\\x00\\x00\\x00*\\x00\\x00\\x00\\x00\\x00\\x00\\x00+\\x00\\x00\\x00\\x00\\x00\\x00\\x00;\\x00\\x00\\x00\\x00\\x00\\x00\\x003\\x00\\x00\\x00\\x00\\x00\\x00\\x00.\\x00\\x00\\x00\\x00\\x00\\x00\\x003\\x00\\x00\\x00\\x00\\x00\\x00\\x00\\x94t\\x94bh&h\\x14h\\x17K\\x00\\x85\\x94h\\x19\\x87\\x94R\\x94(K\\x01K\\x14\\x85\\x94h-\\x89C\\x14\\x00\\x00\\x00\\x00\\x00\\x00\\x00\\x00\\x00\\x00\\x00\\x00\\x00\\x00\\x00\\x00\\x00\\x00\\x00\\x00\\x94t\\x94bh2}\\x94h4h7subh?K\\rK\\x0eK\\x01\\x87\\x94R\\x94K\\x02\\x87\\x94R\\x94h\\x0bh\\x0e)\\x81\\x94}\\x94(h\\x11h\\x14h\\x17K\\x00\\x85\\x94h\\x19\\x87\\x94R\\x94(K\\x01K\\x14\\x85\\x94h!\\x89C\\xa0\\x02\\x00\\x00\\x00\\x00\\x00\\x00\\x00\\x01\\x00\\x00\\x00\\x00\\x00\\x00\\x00\\x01\\x00\\x00\\x00\\x00\\x00\\x00\\x00\\x01\\x00\\x00\\x00\\x00\\x00\\x00\\x00\\x02\\x00\\x00\\x00\\x00\\x00\\x00\\x00\\x03\\x00\\x00\\x00\\x00\\x00\\x00\\x00\\x03\\x00\\x00\\x00\\x00\\x00\\x00\\x00\\x01\\x00\\x00\\x00\\x00\\x00\\x00\\x00\\x01\\x00\\x00\\x00\\x00\\x00\\x00\\x00\\x03\\x00\\x00\\x00\\x00\\x00\\x00\\x00\\x04\\x00\\x00\\x00\\x00\\x00\\x00\\x00\\x00\\x00\\x00\\x00\\x00\\x00\\x00\\x00\\x02\\x00\\x00\\x00\\x00\\x00\\x00\\x00\\x01\\x00\\x00\\x00\\x00\\x00\\x00\\x00\\x00\\x00\\x00\\x00\\x00\\x00\\x00\\x00\\x03\\x00\\x00\\x00\\x00\\x00\\x00\\x00\\x02\\x00\\x00\\x00\\x00\\x00\\x00\\x00\\x04\\x00\\x00\\x00\\x00\\x00\\x00\\x00\\x01\\x00\\x00\\x00\\x00\\x00\\x00\\x00\\x03\\x00\\x00\\x00\\x00\\x00\\x00\\x00\\x94t\\x94bh&h\\x14h\\x17K\\x00\\x85\\x94h\\x19\\x87\\x94R\\x94(K\\x01K\\x14\\x85\\x94h-\\x89C\\x14\\x00\\x00\\x00\\x00\\x00\\x00\\x00\\x00\\x00\\x00\\x00\\x00\\x00\\x00\\x00\\x00\\x00\\x00\\x00\\x00\\x94t\\x94bh2}\\x94h4h7subh?K\\x0eK\\x0fK\\x01\\x87\\x94R\\x94K\\x02\\x87\\x94R\\x94h\\x0bhF)\\x81\\x94}\\x94(h\\x11h\\x14h\\x17K\\x00\\x85\\x94h\\x19\\x87\\x94R\\x94(K\\x01K\\x14\\x85\\x94hO\\x89C\\xa0\\x00\\x00\\x00\\x00\\x00\\x00@@\\x9a\\x99\\x99\\x99\\x99\\x19?@\\x9a\\x99\\x99\\x99\\x99\\x997@\\x00\\x00\\x00\\x00\\x00\\x00=@ffffff=@\\x00\\x00\\x00\\x00\\x00\\x00/@fffff\\xa6A@\\x00\\x00\\x00\\x00\\x00\\x806@\\x9a\\x99\\x99\\x99\\x99\\x99<@fffff\\xe66@33333\\xb3A@\\xcd\\xcc\\xcc\\xcc\\xccL0@\\x9a\\x99\\x99\\x99\\x99\\x19@@333333;@\\x9a\\x99\\x99\\x99\\x99\\x19B@\\x9a\\x99\\x99\\x99\\x99\\x993@\\x00\\x00\\x00\\x00\\x00\\x00+@\\x00\\x00\\x00\\x00\\x00\\x80>@\\x9a\\x99\\x99\\x99\\x99\\x999@\\xcd\\xcc\\xcc\\xcc\\xccL6@\\x94t\\x94bh&h\\x14h\\x17K\\x00\\x85\\x94h\\x19\\x87\\x94R\\x94(K\\x01K\\x14\\x85\\x94h-\\x89C\\x14\\x00\\x00\\x00\\x00\\x00\\x00\\x00\\x00\\x00\\x00\\x00\\x00\\x00\\x00\\x00\\x00\\x00\\x00\\x00\\x00\\x94t\\x94bh2}\\x94h4h\\\\subh?K\\x0fK\\x10K\\x01\\x87\\x94R\\x94K\\x02\\x87\\x94R\\x94h\\x0bhF)\\x81\\x94}\\x94(h\\x11h\\x14h\\x17K\\x00\\x85\\x94h\\x19\\x87\\x94R\\x94(K\\x01K\\x14\\x85\\x94hO\\x89C\\xa0\\x00\\x00\\x00\\x00\\x00\\x80;@\\xcd\\xcc\\xcc\\xcc\\xcc\\xcc<@\\x9a\\x99\\x99\\x99\\x99\\x997@fffff\\xe6:@\\xcd\\xcc\\xcc\\xcc\\xcc\\xcc;@ffffff-@\\x9a\\x99\\x99\\x99\\x99\\x99>@\\x9a\\x99\\x99\\x99\\x99\\x194@\\x9a\\x99\\x99\\x99\\x99\\x99<@\\xcd\\xcc\\xcc\\xcc\\xccL5@\\xcd\\xcc\\xcc\\xcc\\xcc\\x0c@@\\x9a\\x99\\x99\\x99\\x99\\x99-@\\x9a\\x99\\x99\\x99\\x99\\x19=@fffff\\xe68@33333\\xf3@@\\xcd\\xcc\\xcc\\xcc\\xcc\\xcc2@\\xcd\\xcc\\xcc\\xcc\\xcc\\xcc\\'@\\xcd\\xcc\\xcc\\xcc\\xcc\\xcc=@\\xcd\\xcc\\xcc\\xcc\\xcc\\xcc8@\\x00\\x00\\x00\\x00\\x00\\x805@\\x94t\\x94bh&h\\x14h\\x17K\\x00\\x85\\x94h\\x19\\x87\\x94R\\x94(K\\x01K\\x14\\x85\\x94h-\\x89C\\x14\\x00\\x00\\x00\\x00\\x00\\x00\\x00\\x00\\x00\\x00\\x00\\x00\\x00\\x00\\x00\\x00\\x00\\x00\\x00\\x00\\x94t\\x94bh2}\\x94h4h\\\\subh?K\\x10K\\x11K\\x01\\x87\\x94R\\x94K\\x02\\x87\\x94R\\x94h\\x0bhF)\\x81\\x94}\\x94(h\\x11h\\x14h\\x17K\\x00\\x85\\x94h\\x19\\x87\\x94R\\x94(K\\x01K\\x14\\x85\\x94hO\\x89C\\xa0\\xcd\\xcc\\xcc\\xcc\\xcc\\xcc5@\\x9a\\x99\\x99\\x99\\x99\\x197@3333331@fffff\\xe63@\\x00\\x00\\x00\\x00\\x00\\x007@\\x9a\\x99\\x99\\x99\\x99\\x99\\'@3333336@ffffff1@\\x00\\x00\\x00\\x00\\x00\\x005@\\xcd\\xcc\\xcc\\xcc\\xcc\\xcc/@\\x00\\x00\\x00\\x00\\x00\\x80:@\\x00\\x00\\x00\\x00\\x00\\x00\\'@3333339@fffff\\xe63@\\x9a\\x99\\x99\\x99\\x99\\x998@ffffff,@\\x9a\\x99\\x99\\x99\\x99\\x99\\x1f@\\x9a\\x99\\x99\\x99\\x99\\x19:@fffff\\xe61@\\xcd\\xcc\\xcc\\xcc\\xcc\\xcc0@\\x94t\\x94bh&h\\x14h\\x17K\\x00\\x85\\x94h\\x19\\x87\\x94R\\x94(K\\x01K\\x14\\x85\\x94h-\\x89C\\x14\\x00\\x00\\x00\\x00\\x00\\x00\\x00\\x00\\x00\\x00\\x00\\x00\\x00\\x00\\x00\\x00\\x00\\x00\\x00\\x00\\x94t\\x94bh2}\\x94h4h\\\\subh?K\\x11K\\x12K\\x01\\x87\\x94R\\x94K\\x02\\x87\\x94R\\x94h\\x0bhF)\\x81\\x94}\\x94(h\\x11h\\x14h\\x17K\\x00\\x85\\x94h\\x19\\x87\\x94R\\x94(K\\x01K\\x14\\x85\\x94hO\\x89C\\xa0fffff\\xa6H@33333\\xf3I@ffffffD@ffffffG@ffffffI@\\x00\\x00\\x00\\x00\\x00\\x80:@ffffffJ@\\x00\\x00\\x00\\x00\\x00\\xc0B@\\xcd\\xcc\\xcc\\xcc\\xcc\\xccH@\\x9a\\x99\\x99\\x99\\x99\\x99B@\\xcd\\xcc\\xcc\\xcc\\xccLM@\\xcd\\xcc\\xcc\\xcc\\xccL:@fffff&K@\\x9a\\x99\\x99\\x99\\x99YF@\\x00\\x00\\x00\\x00\\x00@M@\\x00\\x00\\x00\\x00\\x00\\x80@@\\xcd\\xcc\\xcc\\xcc\\xcc\\xcc3@33333\\xf3K@\\x9a\\x99\\x99\\x99\\x99YE@fffff&C@\\x94t\\x94bh&h\\x14h\\x17K\\x00\\x85\\x94h\\x19\\x87\\x94R\\x94(K\\x01K\\x14\\x85\\x94h-\\x89C\\x14\\x00\\x00\\x00\\x00\\x00\\x00\\x00\\x00\\x00\\x00\\x00\\x00\\x00\\x00\\x00\\x00\\x00\\x00\\x00\\x00\\x94t\\x94bh2}\\x94h4h\\\\subh?K\\x12K\\x13K\\x01\\x87\\x94R\\x94K\\x02\\x87\\x94R\\x94h\\x0bh\\x0e)\\x81\\x94}\\x94(h\\x11h\\x14h\\x17K\\x00\\x85\\x94h\\x19\\x87\\x94R\\x94(K\\x01K\\x14\\x85\\x94h!\\x89C\\xa0i\\x01\\x00\\x00\\x00\\x00\\x00\\x00w\\x01\\x00\\x00\\x00\\x00\\x00\\x00\\x1d\\x01\\x00\\x00\\x00\\x00\\x00\\x00\\xdc\\x00\\x00\\x00\\x00\\x00\\x00\\x00\\xb9\\x01\\x00\\x00\\x00\\x00\\x00\\x00?\\x01\\x00\\x00\\x00\\x00\\x00\\x00\\xb2\\x01\\x00\\x00\\x00\\x00\\x00\\x00\\xec\\x00\\x00\\x00\\x00\\x00\\x00\\x00\\xf4\\x00\\x00\\x00\\x00\\x00\\x00\\x00)\\x01\\x00\\x00\\x00\\x00\\x00\\x00\\x95\\x01\\x00\\x00\\x00\\x00\\x00\\x00\\xfa\\x00\\x00\\x00\\x00\\x00\\x00\\x00\\xd6\\x01\\x00\\x00\\x00\\x00\\x00\\x00n\\x01\\x00\\x00\\x00\\x00\\x00\\x00K\\x01\\x00\\x00\\x00\\x00\\x00\\x00\\xfe\\x00\\x00\\x00\\x00\\x00\\x00\\x00\\x95\\x00\\x00\\x00\\x00\\x00\\x00\\x00\\xbb\\x01\\x00\\x00\\x00\\x00\\x00\\x00\\xf9\\x00\\x00\\x00\\x00\\x00\\x00\\x00D\\x01\\x00\\x00\\x00\\x00\\x00\\x00\\x94t\\x94bh&h\\x14h\\x17K\\x00\\x85\\x94h\\x19\\x87\\x94R\\x94(K\\x01K\\x14\\x85\\x94h-\\x89C\\x14\\x00\\x00\\x00\\x00\\x00\\x00\\x00\\x00\\x00\\x00\\x00\\x00\\x00\\x00\\x00\\x00\\x00\\x00\\x00\\x00\\x94t\\x94bh2}\\x94h4h7subh?K\\x13K\\x14K\\x01\\x87\\x94R\\x94K\\x02\\x87\\x94R\\x94h\\x0bh\\x0e)\\x81\\x94}\\x94(h\\x11h\\x14h\\x17K\\x00\\x85\\x94h\\x19\\x87\\x94R\\x94(K\\x01K\\x14\\x85\\x94h!\\x89C\\xa0\\xbe\\x03\\x00\\x00\\x00\\x00\\x00\\x00\\xf4\\x02\\x00\\x00\\x00\\x00\\x00\\x00\\x1f\\x02\\x00\\x00\\x00\\x00\\x00\\x00I\\x02\\x00\\x00\\x00\\x00\\x00\\x00\\x9d\\x03\\x00\\x00\\x00\\x00\\x00\\x008\\x02\\x00\\x00\\x00\\x00\\x00\\x00\\x11\\x03\\x00\\x00\\x00\\x00\\x00\\x00\\x16\\x02\\x00\\x00\\x00\\x00\\x00\\x00\\x1e\\x02\\x00\\x00\\x00\\x00\\x00\\x00\\xb1\\x02\\x00\\x00\\x00\\x00\\x00\\x00\\xc6\\x03\\x00\\x00\\x00\\x00\\x00\\x00\\xc3\\x01\\x00\\x00\\x00\\x00\\x00\\x00;\\x03\\x00\\x00\\x00\\x00\\x00\\x00,\\x03\\x00\\x00\\x00\\x00\\x00\\x00\\x08\\x03\\x00\\x00\\x00\\x00\\x00\\x00\\x04\\x02\\x00\\x00\\x00\\x00\\x00\\x00\\x93\\x01\\x00\\x00\\x00\\x00\\x00\\x00\\xc5\\x03\\x00\\x00\\x00\\x00\\x00\\x00X\\x02\\x00\\x00\\x00\\x00\\x00\\x00)\\x02\\x00\\x00\\x00\\x00\\x00\\x00\\x94t\\x94bh&h\\x14h\\x17K\\x00\\x85\\x94h\\x19\\x87\\x94R\\x94(K\\x01K\\x14\\x85\\x94h-\\x89C\\x14\\x00\\x00\\x00\\x00\\x00\\x00\\x00\\x00\\x00\\x00\\x00\\x00\\x00\\x00\\x00\\x00\\x00\\x00\\x00\\x00\\x94t\\x94bh2}\\x94h4h7subh?K\\x14K\\x15K\\x01\\x87\\x94R\\x94K\\x02\\x87\\x94R\\x94h\\x0bhF)\\x81\\x94}\\x94(h\\x11h\\x14h\\x17K\\x00\\x85\\x94h\\x19\\x87\\x94R\\x94(K\\x01K\\x14\\x85\\x94hO\\x89C\\xa0\\n\\xd7\\xa3p=\\n\\xff?\\n\\xd7\\xa3p=\\n\\xff?\\xc3\\xf5(\\\\\\x8f\\xc2\\xf5?\\x9a\\x99\\x99\\x99\\x99\\x99\\xf5?{\\x14\\xaeG\\xe1z\\xfc?\\x00\\x00\\x00\\x00\\x00\\x00\\xf0?\\xf6(\\\\\\x8f\\xc2\\xf5\\xf8?\\x00\\x00\\x00\\x00\\x00\\x00\\xf0?{\\x14\\xaeG\\xe1z\\xf4?=\\n\\xd7\\xa3p=\\xf6?=\\n\\xd7\\xa3p=\\xfe?\\xb8\\x1e\\x85\\xebQ\\xb8\\xee?R\\xb8\\x1e\\x85\\xebQ\\x02@\\x00\\x00\\x00\\x00\\x00\\x00\\xf0?\\x00\\x00\\x00\\x00\\x00\\x00\\x00@\\xf6(\\\\\\x8f\\xc2\\xf5\\xf0?\\xecQ\\xb8\\x1e\\x85\\xeb\\xe1?=\\n\\xd7\\xa3p=\\xfe?\\xb8\\x1e\\x85\\xebQ\\xb8\\xfa?\\x85\\xebQ\\xb8\\x1e\\x85\\xf3?\\x94t\\x94bh&h\\x14h\\x17K\\x00\\x85\\x94h\\x19\\x87\\x94R\\x94(K\\x01K\\x14\\x85\\x94h-\\x89C\\x14\\x00\\x00\\x00\\x00\\x00\\x00\\x00\\x00\\x00\\x00\\x00\\x00\\x00\\x00\\x00\\x00\\x00\\x00\\x00\\x00\\x94t\\x94bh2}\\x94h4h\\\\subh?K\\x15K\\x16K\\x01\\x87\\x94R\\x94K\\x02\\x87\\x94R\\x94h\\x0bhF)\\x81\\x94}\\x94(h\\x11h\\x14h\\x17K\\x00\\x85\\x94h\\x19\\x87\\x94R\\x94(K\\x01K\\x14\\x85\\x94hO\\x89C\\xa0{\\x14\\xaeG\\xe1z\\xf4?\\x00\\x00\\x00\\x00\\x00\\x00\\xf8?\\xb8\\x1e\\x85\\xebQ\\xb8\\xee?=\\n\\xd7\\xa3p=\\xea?\\n\\xd7\\xa3p=\\n\\xf7?\\x8f\\xc2\\xf5(\\\\\\x8f\\xea?\\x00\\x00\\x00\\x00\\x00\\x00\\xf0?\\n\\xd7\\xa3p=\\n\\xe7?\\xecQ\\xb8\\x1e\\x85\\xeb\\xe1?{\\x14\\xaeG\\xe1z\\xec?=\\n\\xd7\\xa3p=\\xf6?\\xc3\\xf5(\\\\\\x8f\\xc2\\xe5?\\\\\\x8f\\xc2\\xf5(\\\\\\xfb?\\n\\xd7\\xa3p=\\n\\xe7?H\\xe1z\\x14\\xaeG\\xf5?{\\x14\\xaeG\\xe1z\\xec?\\x1f\\x85\\xebQ\\xb8\\x1e\\xd5?\\xc3\\xf5(\\\\\\x8f\\xc2\\xf9?{\\x14\\xaeG\\xe1z\\xf4?\\xf6(\\\\\\x8f\\xc2\\xf5\\xf0?\\x94t\\x94bh&h\\x14h\\x17K\\x00\\x85\\x94h\\x19\\x87\\x94R\\x94(K\\x01K\\x14\\x85\\x94h-\\x89C\\x14\\x00\\x00\\x00\\x00\\x00\\x00\\x00\\x00\\x00\\x00\\x00\\x00\\x00\\x00\\x00\\x00\\x00\\x00\\x00\\x00\\x94t\\x94bh2}\\x94h4h\\\\subh?K\\x16K\\x17K\\x01\\x87\\x94R\\x94K\\x02\\x87\\x94R\\x94h\\x0bhF)\\x81\\x94}\\x94(h\\x11h\\x14h\\x17K\\x00\\x85\\x94h\\x19\\x87\\x94R\\x94(K\\x01K\\x14\\x85\\x94hO\\x89C\\xa0\\xc3\\xf5(\\\\\\x8f\\xc2\\t@\\x85\\xebQ\\xb8\\x1e\\x85\\x0b@\\x8f\\xc2\\xf5(\\\\\\x8f\\x02@q=\\n\\xd7\\xa3p\\x01@\\xc3\\xf5(\\\\\\x8f\\xc2\\t@H\\xe1z\\x14\\xaeG\\xfd?{\\x14\\xaeG\\xe1z\\x04@\\x85\\xebQ\\xb8\\x1e\\x85\\xfb?H\\xe1z\\x14\\xaeG\\xfd?=\\n\\xd7\\xa3p=\\x02@=\\n\\xd7\\xa3p=\\n@=\\n\\xd7\\xa3p=\\xfa?\\x00\\x00\\x00\\x00\\x00\\x00\\x10@\\x85\\xebQ\\xb8\\x1e\\x85\\xfb?\\xa4p=\\n\\xd7\\xa3\\n@\\n\\xd7\\xa3p=\\n\\xff?{\\x14\\xaeG\\xe1z\\xec?\\x00\\x00\\x00\\x00\\x00\\x00\\x0c@\\x85\\xebQ\\xb8\\x1e\\x85\\x07@=\\n\\xd7\\xa3p=\\x02@\\x94t\\x94bh&h\\x14h\\x17K\\x00\\x85\\x94h\\x19\\x87\\x94R\\x94(K\\x01K\\x14\\x85\\x94h-\\x89C\\x14\\x00\\x00\\x00\\x00\\x00\\x00\\x00\\x00\\x00\\x00\\x00\\x00\\x00\\x00\\x00\\x00\\x00\\x00\\x00\\x00\\x94t\\x94bh2}\\x94h4h\\\\subh?K\\x17K\\x18K\\x01\\x87\\x94R\\x94K\\x02\\x87\\x94R\\x94h\\x0bhF)\\x81\\x94}\\x94(h\\x11h\\x14h\\x17K\\x00\\x85\\x94h\\x19\\x87\\x94R\\x94(K\\x01K\\x14\\x85\\x94hO\\x89C\\xa0\\xc3\\xf5(\\\\\\x8f\\xc2\\xf9?{\\x14\\xaeG\\xe1z\\xfc?\\xc3\\xf5(\\\\\\x8f\\xc2\\xf5?\\xe1z\\x14\\xaeG\\xe1\\xf2?\\xb8\\x1e\\x85\\xebQ\\xb8\\xfa?\\x14\\xaeG\\xe1z\\x14\\xee?{\\x14\\xaeG\\xe1z\\xf4?\\x8f\\xc2\\xf5(\\\\\\x8f\\xea?{\\x14\\xaeG\\xe1z\\xf4?{\\x14\\xaeG\\xe1z\\xf4?\\x85\\xebQ\\xb8\\x1e\\x85\\xfb?333333\\xeb?\\xf6(\\\\\\x8f\\xc2\\xf5\\x00@{\\x14\\xaeG\\xe1z\\xec?H\\xe1z\\x14\\xaeG\\xfd?\\x00\\x00\\x00\\x00\\x00\\x00\\xf0?)\\\\\\x8f\\xc2\\xf5(\\xdc?H\\xe1z\\x14\\xaeG\\xfd?\\xc3\\xf5(\\\\\\x8f\\xc2\\xf9?\\xb8\\x1e\\x85\\xebQ\\xb8\\xf2?\\x94t\\x94bh&h\\x14h\\x17K\\x00\\x85\\x94h\\x19\\x87\\x94R\\x94(K\\x01K\\x14\\x85\\x94h-\\x89C\\x14\\x00\\x00\\x00\\x00\\x00\\x00\\x00\\x00\\x00\\x00\\x00\\x00\\x00\\x00\\x00\\x00\\x00\\x00\\x00\\x00\\x94t\\x94bh2}\\x94h4h\\\\subh?K\\x18K\\x19K\\x01\\x87\\x94R\\x94K\\x02\\x87\\x94R\\x94h\\x0bhF)\\x81\\x94}\\x94(h\\x11h\\x14h\\x17K\\x00\\x85\\x94h\\x19\\x87\\x94R\\x94(K\\x01K\\x14\\x85\\x94hO\\x89C\\xa0\\x1f\\x85\\xebQ\\xb8\\x1e\\x07@=\\n\\xd7\\xa3p=\\n@\\x8f\\xc2\\xf5(\\\\\\x8f\\x02@\\x00\\x00\\x00\\x00\\x00\\x00\\x00@\\xe1z\\x14\\xaeG\\xe1\\x08@{\\x14\\xaeG\\xe1z\\xfc?=\\n\\xd7\\xa3p=\\x02@\\xf6(\\\\\\x8f\\xc2\\xf5\\xf8?H\\xe1z\\x14\\xaeG\\xfd?\\\\\\x8f\\xc2\\xf5(\\\\\\x01@\\xe1z\\x14\\xaeG\\xe1\\x08@{\\x14\\xaeG\\xe1z\\xf8?\\x8f\\xc2\\xf5(\\\\\\x8f\\x0e@\\xc3\\xf5(\\\\\\x8f\\xc2\\xf9?\\\\\\x8f\\xc2\\xf5(\\\\\\t@=\\n\\xd7\\xa3p=\\xfe?\\xf6(\\\\\\x8f\\xc2\\xf5\\xe8?\\x85\\xebQ\\xb8\\x1e\\x85\\x0b@\\x1f\\x85\\xebQ\\xb8\\x1e\\x07@\\xc3\\xf5(\\\\\\x8f\\xc2\\x01@\\x94t\\x94bh&h\\x14h\\x17K\\x00\\x85\\x94h\\x19\\x87\\x94R\\x94(K\\x01K\\x14\\x85\\x94h-\\x89C\\x14\\x00\\x00\\x00\\x00\\x00\\x00\\x00\\x00\\x00\\x00\\x00\\x00\\x00\\x00\\x00\\x00\\x00\\x00\\x00\\x00\\x94t\\x94bh2}\\x94h4h\\\\subh?K\\x19K\\x1aK\\x01\\x87\\x94R\\x94K\\x02\\x87\\x94R\\x94h\\x0bhF)\\x81\\x94}\\x94(h\\x11h\\x14h\\x17K\\x00\\x85\\x94h\\x19\\x87\\x94R\\x94(K\\x01K\\x14\\x85\\x94hO\\x89C\\xa0{\\x14\\xaeG\\xe1z\\xfc?\\xaeG\\xe1z\\x14\\xae\\xfb?q=\\n\\xd7\\xa3p\\xf5?\\\\\\x8f\\xc2\\xf5(\\\\\\xfb?\\x14\\xaeG\\xe1z\\x14\\xfa?\\x85\\xebQ\\xb8\\x1e\\x85\\xeb?\\\\\\x8f\\xc2\\xf5(\\\\\\xff?\\x00\\x00\\x00\\x00\\x00\\x00\\xf4?q=\\n\\xd7\\xa3p\\xf9?R\\xb8\\x1e\\x85\\xebQ\\xf4?\\x85\\xebQ\\xb8\\x1e\\x85\\xff?\\xc3\\xf5(\\\\\\x8f\\xc2\\xed?=\\n\\xd7\\xa3p=\\xfe?)\\\\\\x8f\\xc2\\xf5(\\xf8?\\x14\\xaeG\\xe1z\\x14\\x00@q=\\n\\xd7\\xa3p\\xf1?\\x00\\x00\\x00\\x00\\x00\\x00\\xe8?333333\\xfb?\\xb8\\x1e\\x85\\xebQ\\xb8\\xf6?\\xd7\\xa3p=\\n\\xd7\\xf3?\\x94t\\x94bh&h\\x14h\\x17K\\x00\\x85\\x94h\\x19\\x87\\x94R\\x94(K\\x01K\\x14\\x85\\x94h-\\x89C\\x14\\x00\\x00\\x00\\x00\\x00\\x00\\x00\\x00\\x00\\x00\\x00\\x00\\x00\\x00\\x00\\x00\\x00\\x00\\x00\\x00\\x94t\\x94bh2}\\x94h4h\\\\subh?K\\x1aK\\x1bK\\x01\\x87\\x94R\\x94K\\x02\\x87\\x94R\\x94h\\x0bhF)\\x81\\x94}\\x94(h\\x11h\\x14h\\x17K\\x00\\x85\\x94h\\x19\\x87\\x94R\\x94(K\\x01K\\x14\\x85\\x94hO\\x89C\\xa0\\\\\\x8f\\xc2\\xf5(\\\\\\xf3?{\\x14\\xaeG\\xe1z\\xf4?\\n\\xd7\\xa3p=\\n\\xef?\\xb8\\x1e\\x85\\xebQ\\xb8\\xf2?{\\x14\\xaeG\\xe1z\\xf4?\\xcd\\xcc\\xcc\\xcc\\xcc\\xcc\\xe4?\\xaeG\\xe1z\\x14\\xae\\xf3?\\xb8\\x1e\\x85\\xebQ\\xb8\\xee?\\xb8\\x1e\\x85\\xebQ\\xb8\\xf2?)\\\\\\x8f\\xc2\\xf5(\\xec?\\x85\\xebQ\\xb8\\x1e\\x85\\xf7?\\xcd\\xcc\\xcc\\xcc\\xcc\\xcc\\xe4?\\xd7\\xa3p=\\n\\xd7\\xf7?\\xc3\\xf5(\\\\\\x8f\\xc2\\xf1?\\xecQ\\xb8\\x1e\\x85\\xeb\\xf5?H\\xe1z\\x14\\xaeG\\xe9?)\\\\\\x8f\\xc2\\xf5(\\xdc?333333\\xf7?\\xaeG\\xe1z\\x14\\xae\\xef?\\xc3\\xf5(\\\\\\x8f\\xc2\\xed?\\x94t\\x94bh&h\\x14h\\x17K\\x00\\x85\\x94h\\x19\\x87\\x94R\\x94(K\\x01K\\x14\\x85\\x94h-\\x89C\\x14\\x00\\x00\\x00\\x00\\x00\\x00\\x00\\x00\\x00\\x00\\x00\\x00\\x00\\x00\\x00\\x00\\x00\\x00\\x00\\x00\\x94t\\x94bh2}\\x94h4h\\\\subh?K\\x1bK\\x1cK\\x01\\x87\\x94R\\x94K\\x02\\x87\\x94R\\x94h\\x0bhF)\\x81\\x94}\\x94(h\\x11h\\x14h\\x17K\\x00\\x85\\x94h\\x19\\x87\\x94R\\x94(K\\x01K\\x14\\x85\\x94hO\\x89C\\xa0\\xecQ\\xb8\\x1e\\x85\\xeb\\x07@\\x14\\xaeG\\xe1z\\x14\\x08@{\\x14\\xaeG\\xe1z\\x02@\\n\\xd7\\xa3p=\\n\\x07@H\\xe1z\\x14\\xaeG\\x07@)\\\\\\x8f\\xc2\\xf5(\\xf8?\\x9a\\x99\\x99\\x99\\x99\\x99\\t@\\xaeG\\xe1z\\x14\\xae\\x01@\\x14\\xaeG\\xe1z\\x14\\x06@333333\\x01@\\x85\\xebQ\\xb8\\x1e\\x85\\x0b@H\\xe1z\\x14\\xaeG\\xf9?\\n\\xd7\\xa3p=\\n\\x0b@\\xf6(\\\\\\x8f\\xc2\\xf5\\x04@\\n\\xd7\\xa3p=\\n\\x0b@\\x14\\xaeG\\xe1z\\x14\\xfe?\\n\\xd7\\xa3p=\\n\\xf3?333333\\t@H\\xe1z\\x14\\xaeG\\x03@\\\\\\x8f\\xc2\\xf5(\\\\\\x01@\\x94t\\x94bh&h\\x14h\\x17K\\x00\\x85\\x94h\\x19\\x87\\x94R\\x94(K\\x01K\\x14\\x85\\x94h-\\x89C\\x14\\x00\\x00\\x00\\x00\\x00\\x00\\x00\\x00\\x00\\x00\\x00\\x00\\x00\\x00\\x00\\x00\\x00\\x00\\x00\\x00\\x94t\\x94bh2}\\x94h4h\\\\subh?K\\x1cK\\x1dK\\x01\\x87\\x94R\\x94K\\x02\\x87\\x94R\\x94h\\x0bhF)\\x81\\x94}\\x94(h\\x11h\\x14h\\x17K\\x00\\x85\\x94h\\x19\\x87\\x94R\\x94(K\\x01K\\x14\\x85\\x94hO\\x89C\\xa0{\\x14\\xaeG\\xe1z\\xf8?\\x9a\\x99\\x99\\x99\\x99\\x99\\xf9?q=\\n\\xd7\\xa3p\\xf5?H\\xe1z\\x14\\xaeG\\xf9?\\xcd\\xcc\\xcc\\xcc\\xcc\\xcc\\xf8?=\\n\\xd7\\xa3p=\\xea?333333\\xfb?\\xecQ\\xb8\\x1e\\x85\\xeb\\xf1?q=\\n\\xd7\\xa3p\\xf9?\\xe1z\\x14\\xaeG\\xe1\\xf2?{\\x14\\xaeG\\xe1z\\xfc?\\xe1z\\x14\\xaeG\\xe1\\xea?\\\\\\x8f\\xc2\\xf5(\\\\\\xfb?\\x14\\xaeG\\xe1z\\x14\\xf6?\\x14\\xaeG\\xe1z\\x14\\xfe?\\xcd\\xcc\\xcc\\xcc\\xcc\\xcc\\xf0?\\x1f\\x85\\xebQ\\xb8\\x1e\\xe5?ffffff\\xfa?\\x14\\xaeG\\xe1z\\x14\\xf6?\\n\\xd7\\xa3p=\\n\\xf3?\\x94t\\x94bh&h\\x14h\\x17K\\x00\\x85\\x94h\\x19\\x87\\x94R\\x94(K\\x01K\\x14\\x85\\x94h-\\x89C\\x14\\x00\\x00\\x00\\x00\\x00\\x00\\x00\\x00\\x00\\x00\\x00\\x00\\x00\\x00\\x00\\x00\\x00\\x00\\x00\\x00\\x94t\\x94bh2}\\x94h4h\\\\subh?K\\x1dK\\x1eK\\x01\\x87\\x94R\\x94K\\x02\\x87\\x94R\\x94h\\x0bhF)\\x81\\x94}\\x94(h\\x11h\\x14h\\x17K\\x00\\x85\\x94h\\x19\\x87\\x94R\\x94(K\\x01K\\x14\\x85\\x94hO\\x89C\\xa0\\xecQ\\xb8\\x1e\\x85\\xeb\\x05@\\n\\xd7\\xa3p=\\n\\x07@{\\x14\\xaeG\\xe1z\\x02@\\x00\\x00\\x00\\x00\\x00\\x00\\x06@\\x8f\\xc2\\xf5(\\\\\\x8f\\x06@\\x85\\xebQ\\xb8\\x1e\\x85\\xf7?q=\\n\\xd7\\xa3p\\x07@\\xa4p=\\n\\xd7\\xa3\\x00@\\x14\\xaeG\\xe1z\\x14\\x06@\\x8f\\xc2\\xf5(\\\\\\x8f\\x00@\\x00\\x00\\x00\\x00\\x00\\x00\\n@\\xd7\\xa3p=\\n\\xd7\\xf7?\\x85\\xebQ\\xb8\\x1e\\x85\\t@\\xecQ\\xb8\\x1e\\x85\\xeb\\x03@\\x00\\x00\\x00\\x00\\x00\\x00\\n@q=\\n\\xd7\\xa3p\\xfd?\\x9a\\x99\\x99\\x99\\x99\\x99\\xf1?\\xcd\\xcc\\xcc\\xcc\\xcc\\xcc\\x08@\\xf6(\\\\\\x8f\\xc2\\xf5\\x02@\\n\\xd7\\xa3p=\\n\\x01@\\x94t\\x94bh&h\\x14h\\x17K\\x00\\x85\\x94h\\x19\\x87\\x94R\\x94(K\\x01K\\x14\\x85\\x94h-\\x89C\\x14\\x00\\x00\\x00\\x00\\x00\\x00\\x00\\x00\\x00\\x00\\x00\\x00\\x00\\x00\\x00\\x00\\x00\\x00\\x00\\x00\\x94t\\x94bh2}\\x94h4h\\\\subh?K\\x1eK\\x1fK\\x01\\x87\\x94R\\x94K\\x02\\x87\\x94R\\x94h\\x0bh\\x14h\\x17K\\x00\\x85\\x94h\\x19\\x87\\x94R\\x94(K\\x01K\\x01K\\x14\\x86\\x94h\\x1e\\x8c\\x02O8\\x94\\x89\\x88\\x87\\x94R\\x94(K\\x03h.NNNJ\\xff\\xff\\xff\\xffJ\\xff\\xff\\xff\\xffK?t\\x94b\\x89]\\x94(\\x8c\\nlxml.etree\\x94\\x8c\\x15_ElementUnicodeResult\\x94\\x93\\x94\\x8c!/en/squads/18bb7c10/Arsenal-Stats\\x94\\x85\\x94\\x81\\x94j\\x95\\x02\\x00\\x00\\x8c%/en/squads/8602292d/Aston-Villa-Stats\\x94\\x85\\x94\\x81\\x94j\\x95\\x02\\x00\\x00\\x8c%/en/squads/4ba7cbea/Bournemouth-Stats\\x94\\x85\\x94\\x81\\x94j\\x95\\x02\\x00\\x00\\x8c#/en/squads/cd051869/Brentford-Stats\\x94\\x85\\x94\\x81\\x94j\\x95\\x02\\x00\\x00\\x8c2/en/squads/d07537b9/Brighton-and-Hove-Albion-Stats\\x94\\x85\\x94\\x81\\x94j\\x95\\x02\\x00\\x00\\x8c!/en/squads/943e8050/Burnley-Stats\\x94\\x85\\x94\\x81\\x94j\\x95\\x02\\x00\\x00\\x8c!/en/squads/cff3d9bb/Chelsea-Stats\\x94\\x85\\x94\\x81\\x94j\\x95\\x02\\x00\\x00\\x8c(/en/squads/47c64c55/Crystal-Palace-Stats\\x94\\x85\\x94\\x81\\x94j\\x95\\x02\\x00\\x00\\x8c!/en/squads/d3fd31cc/Everton-Stats\\x94\\x85\\x94\\x81\\x94j\\x95\\x02\\x00\\x00\\x8c /en/squads/fd962109/Fulham-Stats\\x94\\x85\\x94\\x81\\x94j\\x95\\x02\\x00\\x00\\x8c#/en/squads/822bd0ba/Liverpool-Stats\\x94\\x85\\x94\\x81\\x94j\\x95\\x02\\x00\\x00\\x8c$/en/squads/e297cd13/Luton-Town-Stats\\x94\\x85\\x94\\x81\\x94j\\x95\\x02\\x00\\x00\\x8c)/en/squads/b8fd03ef/Manchester-City-Stats\\x94\\x85\\x94\\x81\\x94j\\x95\\x02\\x00\\x00\\x8c+/en/squads/19538871/Manchester-United-Stats\\x94\\x85\\x94\\x81\\x94j\\x95\\x02\\x00\\x00\\x8c*/en/squads/b2b47a98/Newcastle-United-Stats\\x94\\x85\\x94\\x81\\x94j\\x95\\x02\\x00\\x00\\x8c+/en/squads/e4a775cb/Nottingham-Forest-Stats\\x94\\x85\\x94\\x81\\x94j\\x95\\x02\\x00\\x00\\x8c*/en/squads/1df6b87e/Sheffield-United-Stats\\x94\\x85\\x94\\x81\\x94j\\x95\\x02\\x00\\x00\\x8c+/en/squads/361ca564/Tottenham-Hotspur-Stats\\x94\\x85\\x94\\x81\\x94j\\x95\\x02\\x00\\x00\\x8c)/en/squads/7c21e445/West-Ham-United-Stats\\x94\\x85\\x94\\x81\\x94j\\x95\\x02\\x00\\x00\\x8c1/en/squads/8cec06e1/Wolverhampton-Wanderers-Stats\\x94\\x85\\x94\\x81\\x94et\\x94bh?K\\x1fK K\\x01\\x87\\x94R\\x94K\\x02\\x87\\x94R\\x94t\\x94]\\x94(\\x8c\\x18pandas.core.indexes.base\\x94\\x8c\\n_new_Index\\x94\\x93\\x94\\x8c\\x19pandas.core.indexes.multi\\x94\\x8c\\nMultiIndex\\x94\\x93\\x94}\\x94(\\x8c\\x06levels\\x94]\\x94(j\\xdb\\x02\\x00\\x00j\\xd9\\x02\\x00\\x00\\x8c\\x05Index\\x94\\x93\\x94}\\x94(\\x8c\\x04data\\x94h\\x14h\\x17K\\x00\\x85\\x94h\\x19\\x87\\x94R\\x94(K\\x01K\\x0f\\x85\\x94j\\x90\\x02\\x00\\x00\\x89]\\x94(\\x8c\\x03Age\\x94\\x8c\\x08Expected\\x94\\x8c\\x0ePer 90 Minutes\\x94\\x8c\\x0bPerformance\\x94\\x8c\\x0cPlaying Time\\x94\\x8c\\x04Poss\\x94\\x8c\\x0bProgression\\x94\\x8c\\x06league\\x94\\x8c\\x0cplayers_used\\x94\\x8c\\x06season\\x94\\x8c\\x04team\\x94\\x8c\\x03url\\x94\\x8c\\tTEAM_NAME\\x94\\x8c\\x06SEASON\\x94\\x8c\\x0bCOMPETITION\\x94et\\x94b\\x8c\\x04name\\x94Nu\\x86\\x94R\\x94j\\xdb\\x02\\x00\\x00j\\xe3\\x02\\x00\\x00}\\x94(j\\xe5\\x02\\x00\\x00h\\x14h\\x17K\\x00\\x85\\x94h\\x19\\x87\\x94R\\x94(K\\x01K\\x15\\x85\\x94j\\x90\\x02\\x00\\x00\\x89]\\x94(\\x8c\\x00\\x94\\x8c\\x0390s\\x94\\x8c\\x03Ast\\x94\\x8c\\x04CrdR\\x94\\x8c\\x04CrdY\\x94\\x8c\\x03G+A\\x94\\x8c\\x06G+A-PK\\x94\\x8c\\x04G-PK\\x94\\x8c\\x03Gls\\x94\\x8c\\x02MP\\x94\\x8c\\x03Min\\x94\\x8c\\x02PK\\x94\\x8c\\x05PKatt\\x94\\x8c\\x04PrgC\\x94\\x8c\\x04PrgP\\x94\\x8c\\x06Starts\\x94\\x8c\\x04npxG\\x94\\x8c\\x08npxG+xAG\\x94\\x8c\\x03xAG\\x94\\x8c\\x02xG\\x94\\x8c\\x06xG+xAG\\x94et\\x94bj\\xfb\\x02\\x00\\x00Nu\\x86\\x94R\\x94e\\x8c\\x05codes\\x94]\\x94(h\\x14h\\x17K\\x00\\x85\\x94h\\x19\\x87\\x94R\\x94(K\\x01K \\x85\\x94h\\x1e\\x8c\\x02i1\\x94\\x89\\x88\\x87\\x94R\\x94(K\\x03h.NNNJ\\xff\\xff\\xff\\xffJ\\xff\\xff\\xff\\xffK\\x00t\\x94b\\x89C \\x08\\x00\\x05\\x04\\x04\\x04\\x04\\x03\\x03\\x03\\x03\\x03\\x03\\x03\\x03\\x01\\x01\\x01\\x01\\x06\\x06\\x02\\x02\\x02\\x02\\x02\\x02\\x02\\x02\\x02\\x02\\x0b\\x94t\\x94bh\\x14h\\x17K\\x00\\x85\\x94h\\x19\\x87\\x94R\\x94(K\\x01K \\x85\\x94j$\\x03\\x00\\x00\\x89C \\x00\\x00\\x00\\t\\x0f\\n\\x01\\x08\\x02\\x05\\x07\\x0b\\x0c\\x04\\x03\\x13\\x10\\x12\\x11\\r\\x0e\\x08\\x02\\x05\\x07\\x06\\x13\\x12\\x14\\x10\\x11\\x00\\x94t\\x94be\\x8c\\tsortorder\\x94N\\x8c\\x05names\\x94]\\x94(NNeu\\x86\\x94R\\x94j\\xdb\\x02\\x00\\x00j\\xde\\x02\\x00\\x00}\\x94(j\\xe0\\x02\\x00\\x00]\\x94(j\\xdb\\x02\\x00\\x00j\\xe3\\x02\\x00\\x00}\\x94(j\\xe5\\x02\\x00\\x00h\\x14h\\x17K\\x00\\x85\\x94h\\x19\\x87\\x94R\\x94(K\\x01K\\x01\\x85\\x94j\\x90\\x02\\x00\\x00\\x89]\\x94\\x8c\\x12ENG-Premier League\\x94at\\x94bj\\xfb\\x02\\x00\\x00j\\xf9\\x02\\x00\\x00u\\x86\\x94R\\x94j\\xdb\\x02\\x00\\x00j\\xe3\\x02\\x00\\x00}\\x94(j\\xe5\\x02\\x00\\x00h\\x14h\\x17K\\x00\\x85\\x94h\\x19\\x87\\x94R\\x94(K\\x01K\\x01\\x85\\x94h\\x1e\\x8c\\x02i4\\x94\\x89\\x88\\x87\\x94R\\x94(K\\x03h\"NNNJ\\xff\\xff\\xff\\xffJ\\xff\\xff\\xff\\xffK\\x00t\\x94b\\x89C\\x04\\x14\\t\\x00\\x00\\x94t\\x94bj\\xfb\\x02\\x00\\x00j\\xf8\\x02\\x00\\x00u\\x86\\x94R\\x94j\\xdb\\x02\\x00\\x00j\\xe3\\x02\\x00\\x00}\\x94(j\\xe5\\x02\\x00\\x00\\x8c\\x13pandas._libs.arrays\\x94\\x8c\\x1c__pyx_unpickle_NDArrayBacked\\x94\\x93\\x94\\x8c\\x1apandas.core.arrays.string_\\x94\\x8c\\x0bStringArray\\x94\\x93\\x94J\\xb8\\\\U\\rN\\x87\\x94R\\x94jP\\x03\\x00\\x00\\x8c\\x0bStringDtype\\x94\\x93\\x94)\\x81\\x94}\\x94\\x8c\\x07storage\\x94\\x8c\\x06python\\x94sbh\\x14h\\x17K\\x00\\x85\\x94h\\x19\\x87\\x94R\\x94(K\\x01K\\x14\\x85\\x94j\\x90\\x02\\x00\\x00\\x89]\\x94(\\x8c\\x07Arsenal\\x94\\x8c\\x0bAston Villa\\x94\\x8c\\x0bBournemouth\\x94\\x8c\\tBrentford\\x94\\x8c\\x08Brighton\\x94\\x8c\\x07Burnley\\x94\\x8c\\x07Chelsea\\x94\\x8c\\x0eCrystal Palace\\x94\\x8c\\x07Everton\\x94\\x8c\\x06Fulham\\x94\\x8c\\tLiverpool\\x94\\x8c\\nLuton Town\\x94\\x8c\\x0fManchester City\\x94\\x8c\\x0eManchester Utd\\x94\\x8c\\rNewcastle Utd\\x94\\x8c\\x0fNott\\'ham Forest\\x94\\x8c\\rSheffield Utd\\x94\\x8c\\tTottenham\\x94\\x8c\\x08West Ham\\x94\\x8c\\x06Wolves\\x94et\\x94b}\\x94\\x87\\x94bj\\xfb\\x02\\x00\\x00j\\xf7\\x02\\x00\\x00u\\x86\\x94R\\x94ej\\x1c\\x03\\x00\\x00]\\x94(h\\x14h\\x17K\\x00\\x85\\x94h\\x19\\x87\\x94R\\x94(K\\x01K\\x14\\x85\\x94j$\\x03\\x00\\x00\\x89C\\x14\\x00\\x00\\x00\\x00\\x00\\x00\\x00\\x00\\x00\\x00\\x00\\x00\\x00\\x00\\x00\\x00\\x00\\x00\\x00\\x00\\x94t\\x94bh\\x14h\\x17K\\x00\\x85\\x94h\\x19\\x87\\x94R\\x94(K\\x01K\\x14\\x85\\x94j$\\x03\\x00\\x00\\x89C\\x14\\x00\\x00\\x00\\x00\\x00\\x00\\x00\\x00\\x00\\x00\\x00\\x00\\x00\\x00\\x00\\x00\\x00\\x00\\x00\\x00\\x94t\\x94bh\\x14h\\x17K\\x00\\x85\\x94h\\x19\\x87\\x94R\\x94(K\\x01K\\x14\\x85\\x94j$\\x03\\x00\\x00\\x89C\\x14\\x00\\x01\\x02\\x03\\x04\\x05\\x06\\x07\\x08\\t\\n\\x0b\\x0c\\r\\x0e\\x0f\\x10\\x11\\x12\\x13\\x94t\\x94bej.\\x03\\x00\\x00Nj/\\x03\\x00\\x00]\\x94(j\\xf9\\x02\\x00\\x00j\\xf8\\x02\\x00\\x00j\\xf7\\x02\\x00\\x00eu\\x86\\x94R\\x94e\\x86\\x94R\\x94\\x8c\\x04_typ\\x94\\x8c\\tdataframe\\x94\\x8c\\t_metadata\\x94]\\x94\\x8c\\x05attrs\\x94}\\x94\\x8c\\x06_flags\\x94}\\x94\\x8c\\x17allows_duplicate_labels\\x94\\x88sub.'"
      ]
     },
     "execution_count": 82,
     "metadata": {},
     "output_type": "execute_result"
    }
   ],
   "source": [
    "pickle.dumps(fbref_team_standard)"
   ]
  },
  {
   "cell_type": "code",
   "execution_count": null,
   "metadata": {},
   "outputs": [],
   "source": []
  },
  {
   "cell_type": "code",
   "execution_count": 108,
   "metadata": {},
   "outputs": [],
   "source": [
    "team_attacking_stats = understat_table.copy()"
   ]
  },
  {
   "cell_type": "code",
   "execution_count": 110,
   "metadata": {},
   "outputs": [],
   "source": [
    "team_attacking_stats = team_attacking_stats.reset_index().merge(team_names, on='TEAM_NAME', how='left')"
   ]
  },
  {
   "cell_type": "code",
   "execution_count": 111,
   "metadata": {},
   "outputs": [],
   "source": [
    "team_attacking_stats = team_attacking_stats[['TEAM_NAME','TEAM_FBREF_ID','COMPETITION','SEASON','NPxG','xG']]"
   ]
  },
  {
   "cell_type": "code",
   "execution_count": 112,
   "metadata": {},
   "outputs": [],
   "source": [
    "team_attacking_stats.rename(columns={'NPxG': 'NPXG', 'xG':'XG'}, inplace=True)"
   ]
  },
  {
   "cell_type": "code",
   "execution_count": 114,
   "metadata": {},
   "outputs": [],
   "source": [
    "team_attacking_stats.set_index(['COMPETITION', 'SEASON', 'TEAM_NAME'], inplace=True)"
   ]
  },
  {
   "cell_type": "code",
   "execution_count": 115,
   "metadata": {},
   "outputs": [
    {
     "data": {
      "text/html": [
       "<div>\n",
       "<style scoped>\n",
       "    .dataframe tbody tr th:only-of-type {\n",
       "        vertical-align: middle;\n",
       "    }\n",
       "\n",
       "    .dataframe tbody tr th {\n",
       "        vertical-align: top;\n",
       "    }\n",
       "\n",
       "    .dataframe thead th {\n",
       "        text-align: right;\n",
       "    }\n",
       "</style>\n",
       "<table border=\"1\" class=\"dataframe\">\n",
       "  <thead>\n",
       "    <tr style=\"text-align: right;\">\n",
       "      <th></th>\n",
       "      <th></th>\n",
       "      <th></th>\n",
       "      <th>TEAM_FBREF_ID</th>\n",
       "      <th>NPXG</th>\n",
       "      <th>XG</th>\n",
       "    </tr>\n",
       "    <tr>\n",
       "      <th>COMPETITION</th>\n",
       "      <th>SEASON</th>\n",
       "      <th>TEAM_NAME</th>\n",
       "      <th></th>\n",
       "      <th></th>\n",
       "      <th></th>\n",
       "    </tr>\n",
       "  </thead>\n",
       "  <tbody>\n",
       "    <tr>\n",
       "      <th rowspan=\"20\" valign=\"top\">ENG-Premier League</th>\n",
       "      <th rowspan=\"20\" valign=\"top\">2324</th>\n",
       "      <th>Arsenal</th>\n",
       "      <td>18bb7c10</td>\n",
       "      <td>31.55</td>\n",
       "      <td>36.11</td>\n",
       "    </tr>\n",
       "    <tr>\n",
       "      <th>Aston Villa</th>\n",
       "      <td>8602292d</td>\n",
       "      <td>31.48</td>\n",
       "      <td>33.76</td>\n",
       "    </tr>\n",
       "    <tr>\n",
       "      <th>Bournemouth</th>\n",
       "      <td>4ba7cbea</td>\n",
       "      <td>26.93</td>\n",
       "      <td>26.93</td>\n",
       "    </tr>\n",
       "    <tr>\n",
       "      <th>Brentford</th>\n",
       "      <td>cd051869</td>\n",
       "      <td>28.61</td>\n",
       "      <td>30.89</td>\n",
       "    </tr>\n",
       "    <tr>\n",
       "      <th>Brighton</th>\n",
       "      <td>d07537b9</td>\n",
       "      <td>29.13</td>\n",
       "      <td>30.65</td>\n",
       "    </tr>\n",
       "    <tr>\n",
       "      <th>Burnley</th>\n",
       "      <td>943e8050</td>\n",
       "      <td>16.80</td>\n",
       "      <td>17.56</td>\n",
       "    </tr>\n",
       "    <tr>\n",
       "      <th>Chelsea</th>\n",
       "      <td>cff3d9bb</td>\n",
       "      <td>33.09</td>\n",
       "      <td>37.66</td>\n",
       "    </tr>\n",
       "    <tr>\n",
       "      <th>Crystal Palace</th>\n",
       "      <td>47c64c55</td>\n",
       "      <td>22.27</td>\n",
       "      <td>24.56</td>\n",
       "    </tr>\n",
       "    <tr>\n",
       "      <th>Everton</th>\n",
       "      <td>d3fd31cc</td>\n",
       "      <td>32.20</td>\n",
       "      <td>32.2</td>\n",
       "    </tr>\n",
       "    <tr>\n",
       "      <th>Fulham</th>\n",
       "      <td>fd962109</td>\n",
       "      <td>22.49</td>\n",
       "      <td>24.02</td>\n",
       "    </tr>\n",
       "    <tr>\n",
       "      <th>Liverpool</th>\n",
       "      <td>822bd0ba</td>\n",
       "      <td>34.75</td>\n",
       "      <td>37.95</td>\n",
       "    </tr>\n",
       "    <tr>\n",
       "      <th>Luton Town</th>\n",
       "      <td>e297cd13</td>\n",
       "      <td>18.39</td>\n",
       "      <td>19.92</td>\n",
       "    </tr>\n",
       "    <tr>\n",
       "      <th>Manchester City</th>\n",
       "      <td>b8fd03ef</td>\n",
       "      <td>35.22</td>\n",
       "      <td>38.26</td>\n",
       "    </tr>\n",
       "    <tr>\n",
       "      <th>Manchester Utd</th>\n",
       "      <td>19538871</td>\n",
       "      <td>25.15</td>\n",
       "      <td>27.45</td>\n",
       "    </tr>\n",
       "    <tr>\n",
       "      <th>Newcastle Utd</th>\n",
       "      <td>b2b47a98</td>\n",
       "      <td>37.63</td>\n",
       "      <td>39.92</td>\n",
       "    </tr>\n",
       "    <tr>\n",
       "      <th>Nott'ham Forest</th>\n",
       "      <td>e4a775cb</td>\n",
       "      <td>19.91</td>\n",
       "      <td>20.67</td>\n",
       "    </tr>\n",
       "    <tr>\n",
       "      <th>Sheffield Utd</th>\n",
       "      <td>1df6b87e</td>\n",
       "      <td>11.90</td>\n",
       "      <td>13.43</td>\n",
       "    </tr>\n",
       "    <tr>\n",
       "      <th>Tottenham</th>\n",
       "      <td>361ca564</td>\n",
       "      <td>32.70</td>\n",
       "      <td>33.46</td>\n",
       "    </tr>\n",
       "    <tr>\n",
       "      <th>West Ham</th>\n",
       "      <td>7c21e445</td>\n",
       "      <td>26.07</td>\n",
       "      <td>26.83</td>\n",
       "    </tr>\n",
       "    <tr>\n",
       "      <th>Wolves</th>\n",
       "      <td>8cec06e1</td>\n",
       "      <td>23.25</td>\n",
       "      <td>24.02</td>\n",
       "    </tr>\n",
       "  </tbody>\n",
       "</table>\n",
       "</div>"
      ],
      "text/plain": [
       "                                          TEAM_FBREF_ID   NPXG     XG\n",
       "COMPETITION        SEASON TEAM_NAME                                  \n",
       "ENG-Premier League 2324   Arsenal              18bb7c10  31.55  36.11\n",
       "                          Aston Villa          8602292d  31.48  33.76\n",
       "                          Bournemouth          4ba7cbea  26.93  26.93\n",
       "                          Brentford            cd051869  28.61  30.89\n",
       "                          Brighton             d07537b9  29.13  30.65\n",
       "                          Burnley              943e8050  16.80  17.56\n",
       "                          Chelsea              cff3d9bb  33.09  37.66\n",
       "                          Crystal Palace       47c64c55  22.27  24.56\n",
       "                          Everton              d3fd31cc  32.20   32.2\n",
       "                          Fulham               fd962109  22.49  24.02\n",
       "                          Liverpool            822bd0ba  34.75  37.95\n",
       "                          Luton Town           e297cd13  18.39  19.92\n",
       "                          Manchester City      b8fd03ef  35.22  38.26\n",
       "                          Manchester Utd       19538871  25.15  27.45\n",
       "                          Newcastle Utd        b2b47a98  37.63  39.92\n",
       "                          Nott'ham Forest      e4a775cb  19.91  20.67\n",
       "                          Sheffield Utd        1df6b87e  11.90  13.43\n",
       "                          Tottenham            361ca564  32.70  33.46\n",
       "                          West Ham             7c21e445  26.07  26.83\n",
       "                          Wolves               8cec06e1  23.25  24.02"
      ]
     },
     "execution_count": 115,
     "metadata": {},
     "output_type": "execute_result"
    }
   ],
   "source": [
    "team_attacking_stats"
   ]
  },
  {
   "cell_type": "code",
   "execution_count": 116,
   "metadata": {},
   "outputs": [],
   "source": [
    "fbref_team_shooting = fbref.read_team_season_stats(stat_type='shooting')\n",
    "fbref_team_passing = fbref.read_team_season_stats(stat_type='passing')\n",
    "fbref_team_possession = fbref.read_team_season_stats(stat_type='possession')\n",
    "fbref_team_misc = fbref.read_team_season_stats(stat_type='misc')"
   ]
  },
  {
   "cell_type": "code",
   "execution_count": 120,
   "metadata": {},
   "outputs": [],
   "source": [
    "fbref_team_shooting = fbref_team_shooting.rename_axis(index={'team': 'TEAM_NAME', 'season': 'SEASON', 'league': 'COMPETITION'})\n",
    "fbref_team_passing = fbref_team_passing.rename_axis(index={'team': 'TEAM_NAME', 'season': 'SEASON', 'league': 'COMPETITION'})\n",
    "fbref_team_possession = fbref_team_possession.rename_axis(index={'team': 'TEAM_NAME', 'season': 'SEASON', 'league': 'COMPETITION'})\n",
    "fbref_team_misc = fbref_team_misc.rename_axis(index={'team': 'TEAM_NAME', 'season': 'SEASON', 'league': 'COMPETITION'})"
   ]
  },
  {
   "cell_type": "code",
   "execution_count": 127,
   "metadata": {},
   "outputs": [],
   "source": [
    "fbref_team_shooting = make_season_integer(fbref_team_shooting)\n",
    "fbref_team_passing = make_season_integer(fbref_team_passing)\n",
    "fbref_team_possession = make_season_integer(fbref_team_possession)\n",
    "fbref_team_misc = make_season_integer(fbref_team_misc)"
   ]
  },
  {
   "cell_type": "code",
   "execution_count": 128,
   "metadata": {},
   "outputs": [],
   "source": [
    "team_goals_scored = understat_table.G\n",
    "team_shots = fbref_team_shooting['Standard'].Sh\n",
    "team_shotsOT = fbref_team_shooting['Standard'].SoT\n",
    "team_pass_completed = fbref_team_passing[\"Total\"].Cmp\n",
    "team_pass_attempted = fbref_team_passing[\"Total\"].Att\n",
    "team_takeons_attempted = fbref_team_possession['Take-Ons'].Att\n",
    "team_takeons_completed = fbref_team_possession['Take-Ons'].Succ\n",
    "team_crossesintoPA = fbref_team_passing['CrsPA']\n",
    "team_fouls_against = fbref_team_misc['Performance']['Fld']"
   ]
  },
  {
   "cell_type": "code",
   "execution_count": 129,
   "metadata": {},
   "outputs": [
    {
     "data": {
      "text/plain": [
       "COMPETITION         SEASON  TEAM_NAME      \n",
       "ENG-Premier League  2324    Arsenal             87\n",
       "                            Aston Villa         93\n",
       "                            Bournemouth         82\n",
       "                            Brentford           65\n",
       "                            Brighton           108\n",
       "                            Burnley             58\n",
       "                            Chelsea             79\n",
       "                            Crystal Palace      67\n",
       "                            Everton             89\n",
       "                            Fulham              74\n",
       "                            Liverpool          101\n",
       "                            Luton Town          44\n",
       "                            Manchester City    107\n",
       "                            Manchester Utd      73\n",
       "                            Newcastle Utd       91\n",
       "                            Nott'ham Forest     57\n",
       "                            Sheffield Utd       42\n",
       "                            Tottenham          108\n",
       "                            West Ham            74\n",
       "                            Wolves              71\n",
       "Name: SoT, dtype: Int64"
      ]
     },
     "execution_count": 129,
     "metadata": {},
     "output_type": "execute_result"
    }
   ],
   "source": [
    "team_shotsOT"
   ]
  },
  {
   "cell_type": "code",
   "execution_count": 130,
   "metadata": {},
   "outputs": [],
   "source": [
    "team_attacking_stats['GOALS_SCORED'] = team_goals_scored\n",
    "team_attacking_stats['SHOTS'] = team_shots\n",
    "team_attacking_stats['SHOTS_ON_TARGET'] = team_shotsOT\n",
    "team_attacking_stats['PASS_COMPLETED'] = team_pass_completed\n",
    "team_attacking_stats['PASS_ATTEMPTED'] = team_pass_attempted\n",
    "team_attacking_stats['TAKEONS_ATTEMPTED'] = team_takeons_attempted\n",
    "team_attacking_stats['TAKEONS_COMPLETED'] = team_takeons_completed\n",
    "team_attacking_stats['CROSSES_INTO_PA'] = team_crossesintoPA\n",
    "team_attacking_stats['FOULS_AGAINST'] = team_fouls_against"
   ]
  },
  {
   "cell_type": "code",
   "execution_count": null,
   "metadata": {},
   "outputs": [],
   "source": []
  },
  {
   "cell_type": "code",
   "execution_count": null,
   "metadata": {},
   "outputs": [],
   "source": []
  }
 ],
 "metadata": {
  "kernelspec": {
   "display_name": "footy",
   "language": "python",
   "name": "python3"
  },
  "language_info": {
   "codemirror_mode": {
    "name": "ipython",
    "version": 3
   },
   "file_extension": ".py",
   "mimetype": "text/x-python",
   "name": "python",
   "nbconvert_exporter": "python",
   "pygments_lexer": "ipython3",
   "version": "3.11.5"
  }
 },
 "nbformat": 4,
 "nbformat_minor": 2
}
