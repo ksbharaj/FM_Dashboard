{
 "cells": [
  {
   "cell_type": "code",
   "execution_count": 1,
   "metadata": {},
   "outputs": [
    {
     "name": "stderr",
     "output_type": "stream",
     "text": [
      "d:\\Users\\ksbha\\miniconda3\\envs\\footy\\Lib\\site-packages\\snowflake\\connector\\options.py:103: UserWarning: You have an incompatible version of 'pyarrow' installed (12.0.1), please install a version that adheres to: 'pyarrow<10.1.0,>=10.0.1; extra == \"pandas\"'\n",
      "  warn_incompatible_dep(\n",
      "Failed to import ArrowResult. No Apache Arrow result set format can be used. ImportError: DLL load failed while importing arrow_iterator: The specified procedure could not be found.\n"
     ]
    }
   ],
   "source": [
    "import pandas as pd\n",
    "import numpy as np\n",
    "import plotly.graph_objects as go\n",
    "from snowflake.connector.pandas_tools import write_pandas\n",
    "from sqlalchemy import create_engine\n",
    "import snowflake.connector"
   ]
  },
  {
   "cell_type": "code",
   "execution_count": 2,
   "metadata": {},
   "outputs": [],
   "source": [
    "import snowflake.connector"
   ]
  },
  {
   "cell_type": "code",
   "execution_count": 3,
   "metadata": {},
   "outputs": [],
   "source": [
    "## Set options to view all columns\n",
    "pd.set_option('display.max_columns', None)"
   ]
  },
  {
   "cell_type": "code",
   "execution_count": 4,
   "metadata": {},
   "outputs": [],
   "source": [
    "SNOWFLAKE_USER = 'kbharaj3'\n",
    "SNOWFLAKE_PASSWORD = 'Snowfl@key0014'\n",
    "SNOWFLAKE_ACCOUNT = 'qx25653.ca-central-1.aws'\n",
    "SNOWFLAKE_WAREHOUSE = 'FOOTY_STORE'\n",
    "SNOWFLAKE_DATABASE = 'GEGENSTATS'\n",
    "SNOWFLAKE_SCHEMA = 'FBREF_TEAMSTATS'"
   ]
  },
  {
   "cell_type": "code",
   "execution_count": 5,
   "metadata": {},
   "outputs": [],
   "source": [
    "conn = snowflake.connector.connect(\n",
    "    user=SNOWFLAKE_USER,\n",
    "    password=SNOWFLAKE_PASSWORD,\n",
    "    account=SNOWFLAKE_ACCOUNT,\n",
    "    warehouse=SNOWFLAKE_WAREHOUSE,\n",
    "    database=SNOWFLAKE_DATABASE,\n",
    "    schema=SNOWFLAKE_SCHEMA\n",
    ")"
   ]
  },
  {
   "cell_type": "code",
   "execution_count": 6,
   "metadata": {},
   "outputs": [],
   "source": [
    "cursor = conn.cursor()"
   ]
  },
  {
   "cell_type": "code",
   "execution_count": 137,
   "metadata": {},
   "outputs": [],
   "source": [
    "cursor.execute('SELECT * FROM TEAMS')\n",
    "team_rows = cursor.fetchall()\n",
    "column_names = [desc[0] for desc in cursor.description]\n",
    "team_names = pd.DataFrame(team_rows, columns=column_names)"
   ]
  },
  {
   "cell_type": "code",
   "execution_count": 138,
   "metadata": {},
   "outputs": [],
   "source": [
    "cursor.execute('SELECT * FROM TEAM_MISC_STATS')\n",
    "misc_rows = cursor.fetchall()\n",
    "column_names = [desc[0] for desc in cursor.description]\n",
    "team_misc = pd.DataFrame(misc_rows, columns=column_names)"
   ]
  },
  {
   "cell_type": "code",
   "execution_count": 139,
   "metadata": {},
   "outputs": [],
   "source": [
    "cursor.execute('SELECT * FROM TEAM_STANDARD_STATS')\n",
    "standard_rows = cursor.fetchall()\n",
    "column_names = [desc[0] for desc in cursor.description]\n",
    "team_standard = pd.DataFrame(standard_rows, columns=column_names)"
   ]
  },
  {
   "cell_type": "code",
   "execution_count": 140,
   "metadata": {},
   "outputs": [],
   "source": [
    "team_logos = \\\n",
    "[[\"18bb7c10\", \"https://i.imgur.com/SURo5sj.png\"],\n",
    " [\"8602292d\", \"https://i.imgur.com/M4mwH1X.png\"],\n",
    " [\"4ba7cbea\", \"https://i.imgur.com/0F6UIO4.png\"],\n",
    " [\"cd051869\", \"https://i.imgur.com/MOhGOQ4.png\"],\n",
    " [\"d07537b9\", \"https://i.imgur.com/EMCwD3X.png\"],\n",
    " [\"cff3d9bb\", \"https://i.imgur.com/6F7h3UR.png\"],\n",
    " [\"47c64c55\", \"https://i.imgur.com/LPhzr0K.png\"],\n",
    " [\"d3fd31cc\", \"https://i.imgur.com/Dgei0uj.png\"],\n",
    " [\"fd962109\", \"https://i.imgur.com/2zggSrF.png\"],\n",
    " [\"5bfb9659\", \"https://i.imgur.com/2tipH85.png\"],\n",
    " [\"a2d435b3\", \"https://i.imgur.com/ldOUO84.png\"],\n",
    " [\"822bd0ba\", \"https://i.imgur.com/fs7VK9G.png\"],\n",
    " [\"b8fd03ef\", \"https://i.imgur.com/FF8z7uZ.png\"],\n",
    " [\"19538871\", \"https://i.imgur.com/z47emBQ.png\"],\n",
    " [\"b2b47a98\", \"https://i.imgur.com/3kOLokZ.png\"],\n",
    " [\"e4a775cb\", \"https://i.imgur.com/z4Tl9Zu.png\"],\n",
    " [\"33c895d4\", \"https://i.imgur.com/35GrgJC.png\"],\n",
    " [\"361ca564\", \"https://i.imgur.com/fJ7rUWW.png\"],\n",
    " [\"7c21e445\", \"https://i.imgur.com/9BQHJRl.png\"],\n",
    " [\"8cec06e1\", \"https://i.imgur.com/6azSF88.png\"]\n",
    " ]"
   ]
  },
  {
   "cell_type": "code",
   "execution_count": 141,
   "metadata": {},
   "outputs": [],
   "source": [
    "team_logos = pd.DataFrame(team_logos, columns=['TEAM_FBREF_ID', 'LOGO_URL'])"
   ]
  },
  {
   "cell_type": "code",
   "execution_count": 142,
   "metadata": {},
   "outputs": [],
   "source": [
    "team_misc = team_misc.merge(team_names, on='TEAM_FBREF_ID', how='left')"
   ]
  },
  {
   "cell_type": "code",
   "execution_count": 143,
   "metadata": {},
   "outputs": [],
   "source": [
    "team_misc = team_misc.merge(team_standard, on=['TEAM_FBREF_ID', 'SEASON'], how='left')"
   ]
  },
  {
   "cell_type": "code",
   "execution_count": 144,
   "metadata": {},
   "outputs": [],
   "source": [
    "team_misc = team_misc.merge(team_logos, on=['TEAM_FBREF_ID'], how='left')"
   ]
  },
  {
   "cell_type": "code",
   "execution_count": 145,
   "metadata": {},
   "outputs": [],
   "source": [
    "team_misc['AERIAL DUELS WON RATIO (%)'] = team_misc['AERIALS_WON']*100/(team_misc['AERIALS_WON'] + \n",
    "                                                                team_misc['AERIALS_LOST'])"
   ]
  },
  {
   "cell_type": "code",
   "execution_count": 146,
   "metadata": {},
   "outputs": [],
   "source": [
    "team_misc['AERIAL DUELS ATTEMPTED PER GAME'] = (team_misc['AERIALS_WON'] + \n",
    "                                           team_misc['AERIALS_LOST'])/team_misc['MATCHES_PLAYED']"
   ]
  },
  {
   "cell_type": "code",
   "execution_count": 147,
   "metadata": {},
   "outputs": [],
   "source": [
    "x_min = (team_misc['AERIAL DUELS WON RATIO (%)'].min() // 5)*5"
   ]
  },
  {
   "cell_type": "code",
   "execution_count": 148,
   "metadata": {},
   "outputs": [],
   "source": [
    "x_max = (team_misc['AERIAL DUELS WON RATIO (%)'].max()//5)*5 + 5"
   ]
  },
  {
   "cell_type": "code",
   "execution_count": 149,
   "metadata": {},
   "outputs": [],
   "source": [
    "y_min = (team_misc['AERIAL DUELS ATTEMPTED PER GAME'].min()//5)*5"
   ]
  },
  {
   "cell_type": "code",
   "execution_count": 150,
   "metadata": {},
   "outputs": [],
   "source": [
    "y_max = (team_misc['AERIAL DUELS ATTEMPTED PER GAME'].max()//5)*5 + 5"
   ]
  },
  {
   "cell_type": "code",
   "execution_count": 151,
   "metadata": {},
   "outputs": [
    {
     "data": {
      "text/plain": [
       "(45.0, 60.0, 20.0, 35.0)"
      ]
     },
     "execution_count": 151,
     "metadata": {},
     "output_type": "execute_result"
    }
   ],
   "source": [
    "(x_min, x_max, y_min, y_max)"
   ]
  },
  {
   "cell_type": "code",
   "execution_count": null,
   "metadata": {},
   "outputs": [],
   "source": []
  },
  {
   "cell_type": "code",
   "execution_count": 202,
   "metadata": {},
   "outputs": [],
   "source": [
    "def create_aerial_duels_chart(team_misc, x_min, x_max, y_min, y_max):\n",
    "    fig = go.Figure()\n",
    "    mean_aerials_won_ratio = team_misc[\"AERIAL DUELS WON RATIO (%)\"].mean()\n",
    "    mean_aerials_attempted_per_game = team_misc[\"AERIAL DUELS ATTEMPTED PER GAME\"].mean()\n",
    "\n",
    "    # Add the scatter plot points\n",
    "    for index, row in team_misc.iterrows():\n",
    "        fig.add_trace(go.Scatter(\n",
    "            x=[row[\"AERIAL DUELS WON RATIO (%)\"]],\n",
    "            y=[row[\"AERIAL DUELS ATTEMPTED PER GAME\"]],\n",
    "            mode='markers',\n",
    "            text=row[\"TEAM_NAME\"],\n",
    "            marker=dict(\n",
    "                size=1,  # Set a fixed size or normalize as you prefer\n",
    "                opacity=0\n",
    "            ),\n",
    "            hoverinfo='text',\n",
    "        ))\n",
    "\n",
    "        # Add team logo as a layout_image\n",
    "        fig.add_layout_image(\n",
    "            dict(\n",
    "                source=row[\"LOGO_URL\"],\n",
    "                x=row[\"AERIAL DUELS WON RATIO (%)\"],\n",
    "                y=row[\"AERIAL DUELS ATTEMPTED PER GAME\"],\n",
    "                xref=\"x\",\n",
    "                yref=\"y\",\n",
    "                sizex=5,  # Adjust the size of the image here\n",
    "                sizey=5,  # Adjust the size of the image here\n",
    "                xanchor=\"center\",\n",
    "                yanchor=\"middle\"\n",
    "            )\n",
    "        )\n",
    "\n",
    "    # Update axes and layout as necessary\n",
    "    # ...\n",
    "        \n",
    "    fig.update_xaxes(range=[x_min, x_max], title=\"AERIAL DUELS WON RATIO (%)\")\n",
    "    fig.update_yaxes(range=[y_min, y_max], title=\"AERIAL DUELS ATTEMPTED PER GAME\")\n",
    "\n",
    "    fig.add_shape(\n",
    "        type='line',\n",
    "        x0=mean_aerials_won_ratio, y0=fig.layout.yaxis.range[0],  # start of the line\n",
    "        x1=mean_aerials_won_ratio, y1=fig.layout.yaxis.range[1],  # end of the line\n",
    "        line=dict(color='White', width=3),\n",
    "        layer='below'\n",
    "    )\n",
    "\n",
    "    # Add a horizontal line at the mean aerials attempted per game\n",
    "    fig.add_shape(\n",
    "        type='line',\n",
    "        x0=fig.layout.xaxis.range[0], y0=mean_aerials_attempted_per_game,  # start of the line\n",
    "        x1=fig.layout.xaxis.range[1], y1=mean_aerials_attempted_per_game,  # end of the line\n",
    "        line=dict(color='White', width=3),\n",
    "        layer='below'\n",
    "    )\n",
    "\n",
    "    fig.update_layout(\n",
    "        width=900,\n",
    "        height=900,\n",
    "        showlegend=False,\n",
    "        paper_bgcolor='rgb(70, 70, 70)',\n",
    "        plot_bgcolor='rgb(70, 70, 70)',\n",
    "        font=dict(\n",
    "                family=\"Roboto, sans-serif\",  # Specify the font family\n",
    "                size=15,                     # Specify the font size\n",
    "                color=\"white\"                # Specify the font color\n",
    "            ),\n",
    "        hoverlabel=dict(\n",
    "                bgcolor=\"rgba(20, 20, 20, 0.8)\",\n",
    "                font_family=\"Roboto, sans-serif\"),\n",
    "        images= [dict(\n",
    "            source= row[\"LOGO_URL\"],\n",
    "            xref=\"x\",\n",
    "            yref=\"y\",\n",
    "            x= row[\"AERIAL DUELS WON RATIO (%)\"],\n",
    "            y= row[\"AERIAL DUELS ATTEMPTED PER GAME\"],\n",
    "            sizex=0.75,  # The size of the image in x axis units\n",
    "            sizey=0.75,  # The size of the image in y axis units\n",
    "            sizing=\"contain\",\n",
    "            layer=\"above\") for index, row in team_misc.iterrows()]\n",
    "    )\n",
    "\n",
    "    fig.update_xaxes(\n",
    "        showline=True,  # Show the axis line\n",
    "        linewidth=2,  # Width of the axis line\n",
    "        linecolor='white',  # Color of the axis line\n",
    "        gridcolor='rgba(0,0,0,0)',  # Set grid line color to transparent\n",
    "        tickfont=dict(color='white')  # Set the color of the axis ticks (numbers)\n",
    "    )\n",
    "\n",
    "    fig.update_yaxes(\n",
    "        showline=True,\n",
    "        linewidth=2,\n",
    "        linecolor='white',\n",
    "        gridcolor='rgba(0,0,0,0)',\n",
    "        tickfont=dict(color='white')\n",
    "    )\n",
    "\n",
    "    fig.add_annotation(text=\"Fewer Duels<br>Poor Dueling\",\n",
    "                    xref=\"paper\", yref=\"paper\",\n",
    "                    x=0, y=0,  # Bottom left corner\n",
    "                    showarrow=False,\n",
    "                    font=dict(size=12, color=\"red\", family=\"Roboto, sans-serif\"),\n",
    "                    align=\"left\")\n",
    "\n",
    "    fig.add_annotation(text=\"Lots of Duels<br>Poor Dueling\",\n",
    "                    xref=\"paper\", yref=\"paper\",\n",
    "                    x=0, y=1,  # Top left corner\n",
    "                    showarrow=False,\n",
    "                    font=dict(size=12, color=\"orange\", family=\"Roboto, sans-serif\"),\n",
    "                    align=\"left\")\n",
    "\n",
    "    fig.add_annotation(text=\"Lots of Duels<br>Strong Dueling\",\n",
    "                    xref=\"paper\", yref=\"paper\",\n",
    "                    x=1, y=1,  # Top right corner\n",
    "                    showarrow=False,\n",
    "                    font=dict(size=12, color=\"green\", family=\"Roboto, sans-serif\"),\n",
    "                    align=\"right\")\n",
    "\n",
    "    fig.add_annotation(text=\"Fewer Duels<br>Strong Dueling\",\n",
    "                    xref=\"paper\", yref=\"paper\",\n",
    "                    x=1, y=0,  # Bottom right corner\n",
    "                    showarrow=False,\n",
    "                    font=dict(size=12, color=\"orange\", family=\"Roboto, sans-serif\"),\n",
    "                    align=\"right\")\n",
    "\n",
    "    fig.show()"
   ]
  },
  {
   "cell_type": "code",
   "execution_count": 203,
   "metadata": {},
   "outputs": [
    {
     "data": {
      "application/vnd.plotly.v1+json": {
       "config": {
        "plotlyServerURL": "https://plotly.com"
       },
       "data": [
        {
         "hoverinfo": "text",
         "marker": {
          "opacity": 0,
          "size": 1
         },
         "mode": "markers",
         "text": "Arsenal",
         "type": "scatter",
         "x": [
          46.50717703349282
         ],
         "y": [
          27.5
         ]
        },
        {
         "hoverinfo": "text",
         "marker": {
          "opacity": 0,
          "size": 1
         },
         "mode": "markers",
         "text": "Aston Villa",
         "type": "scatter",
         "x": [
          48.732083792723266
         ],
         "y": [
          23.86842105263158
         ]
        },
        {
         "hoverinfo": "text",
         "marker": {
          "opacity": 0,
          "size": 1
         },
         "mode": "markers",
         "text": "Bournemouth",
         "type": "scatter",
         "x": [
          49.15094339622642
         ],
         "y": [
          27.894736842105264
         ]
        },
        {
         "hoverinfo": "text",
         "marker": {
          "opacity": 0,
          "size": 1
         },
         "mode": "markers",
         "text": "Brentford",
         "type": "scatter",
         "x": [
          51.831644583008575
         ],
         "y": [
          33.76315789473684
         ]
        },
        {
         "hoverinfo": "text",
         "marker": {
          "opacity": 0,
          "size": 1
         },
         "mode": "markers",
         "text": "Brighton",
         "type": "scatter",
         "x": [
          53.42960288808664
         ],
         "y": [
          21.86842105263158
         ]
        },
        {
         "hoverinfo": "text",
         "marker": {
          "opacity": 0,
          "size": 1
         },
         "mode": "markers",
         "text": "Chelsea",
         "type": "scatter",
         "x": [
          52.11416490486258
         ],
         "y": [
          24.894736842105264
         ]
        },
        {
         "hoverinfo": "text",
         "marker": {
          "opacity": 0,
          "size": 1
         },
         "mode": "markers",
         "text": "Crystal Palace",
         "type": "scatter",
         "x": [
          46.18249534450652
         ],
         "y": [
          28.263157894736842
         ]
        },
        {
         "hoverinfo": "text",
         "marker": {
          "opacity": 0,
          "size": 1
         },
         "mode": "markers",
         "text": "Everton",
         "type": "scatter",
         "x": [
          48.70292887029289
         ],
         "y": [
          31.44736842105263
         ]
        },
        {
         "hoverinfo": "text",
         "marker": {
          "opacity": 0,
          "size": 1
         },
         "mode": "markers",
         "text": "Fulham",
         "type": "scatter",
         "x": [
          48.162111215834116
         ],
         "y": [
          27.92105263157895
         ]
        },
        {
         "hoverinfo": "text",
         "marker": {
          "opacity": 0,
          "size": 1
         },
         "mode": "markers",
         "text": "Leeds United",
         "type": "scatter",
         "x": [
          49.11986588432523
         ],
         "y": [
          31.394736842105264
         ]
        },
        {
         "hoverinfo": "text",
         "marker": {
          "opacity": 0,
          "size": 1
         },
         "mode": "markers",
         "text": "Leicester City",
         "type": "scatter",
         "x": [
          47.850467289719624
         ],
         "y": [
          28.157894736842106
         ]
        },
        {
         "hoverinfo": "text",
         "marker": {
          "opacity": 0,
          "size": 1
         },
         "mode": "markers",
         "text": "Liverpool",
         "type": "scatter",
         "x": [
          51.44076840981857
         ],
         "y": [
          24.657894736842106
         ]
        },
        {
         "hoverinfo": "text",
         "marker": {
          "opacity": 0,
          "size": 1
         },
         "mode": "markers",
         "text": "Manchester City",
         "type": "scatter",
         "x": [
          54.61346633416459
         ],
         "y": [
          21.105263157894736
         ]
        },
        {
         "hoverinfo": "text",
         "marker": {
          "opacity": 0,
          "size": 1
         },
         "mode": "markers",
         "text": "Manchester Utd",
         "type": "scatter",
         "x": [
          51.724137931034484
         ],
         "y": [
          23.657894736842106
         ]
        },
        {
         "hoverinfo": "text",
         "marker": {
          "opacity": 0,
          "size": 1
         },
         "mode": "markers",
         "text": "Newcastle Utd",
         "type": "scatter",
         "x": [
          56.42857142857143
         ],
         "y": [
          25.789473684210527
         ]
        },
        {
         "hoverinfo": "text",
         "marker": {
          "opacity": 0,
          "size": 1
         },
         "mode": "markers",
         "text": "Nott'ham Forest",
         "type": "scatter",
         "x": [
          48.275862068965516
         ],
         "y": [
          30.526315789473685
         ]
        },
        {
         "hoverinfo": "text",
         "marker": {
          "opacity": 0,
          "size": 1
         },
         "mode": "markers",
         "text": "Southampton",
         "type": "scatter",
         "x": [
          47.418244406196216
         ],
         "y": [
          30.57894736842105
         ]
        },
        {
         "hoverinfo": "text",
         "marker": {
          "opacity": 0,
          "size": 1
         },
         "mode": "markers",
         "text": "Tottenham",
         "type": "scatter",
         "x": [
          53.665689149560116
         ],
         "y": [
          26.92105263157895
         ]
        },
        {
         "hoverinfo": "text",
         "marker": {
          "opacity": 0,
          "size": 1
         },
         "mode": "markers",
         "text": "West Ham",
         "type": "scatter",
         "x": [
          51.36702568351284
         ],
         "y": [
          31.763157894736842
         ]
        },
        {
         "hoverinfo": "text",
         "marker": {
          "opacity": 0,
          "size": 1
         },
         "mode": "markers",
         "text": "Wolves",
         "type": "scatter",
         "x": [
          46.176762661370404
         ],
         "y": [
          26.5
         ]
        }
       ],
       "layout": {
        "annotations": [
         {
          "align": "left",
          "font": {
           "color": "red",
           "family": "Roboto, sans-serif",
           "size": 12
          },
          "showarrow": false,
          "text": "Fewer Duels<br>Poor Dueling",
          "x": 0,
          "xref": "paper",
          "y": 0,
          "yref": "paper"
         },
         {
          "align": "left",
          "font": {
           "color": "orange",
           "family": "Roboto, sans-serif",
           "size": 12
          },
          "showarrow": false,
          "text": "Lots of Duels<br>Poor Dueling",
          "x": 0,
          "xref": "paper",
          "y": 1,
          "yref": "paper"
         },
         {
          "align": "right",
          "font": {
           "color": "green",
           "family": "Roboto, sans-serif",
           "size": 12
          },
          "showarrow": false,
          "text": "Lots of Duels<br>Strong Dueling",
          "x": 1,
          "xref": "paper",
          "y": 1,
          "yref": "paper"
         },
         {
          "align": "right",
          "font": {
           "color": "orange",
           "family": "Roboto, sans-serif",
           "size": 12
          },
          "showarrow": false,
          "text": "Fewer Duels<br>Strong Dueling",
          "x": 1,
          "xref": "paper",
          "y": 0,
          "yref": "paper"
         }
        ],
        "font": {
         "color": "white",
         "family": "Roboto, sans-serif",
         "size": 15
        },
        "height": 900,
        "hoverlabel": {
         "bgcolor": "rgba(20, 20, 20, 0.8)",
         "font": {
          "family": "Roboto, sans-serif"
         }
        },
        "images": [
         {
          "layer": "above",
          "sizex": 0.75,
          "sizey": 0.75,
          "sizing": "contain",
          "source": "https://i.imgur.com/SURo5sj.png",
          "x": 46.50717703349282,
          "xanchor": "center",
          "xref": "x",
          "y": 27.5,
          "yanchor": "middle",
          "yref": "y"
         },
         {
          "layer": "above",
          "sizex": 0.75,
          "sizey": 0.75,
          "sizing": "contain",
          "source": "https://i.imgur.com/M4mwH1X.png",
          "x": 48.732083792723266,
          "xanchor": "center",
          "xref": "x",
          "y": 23.86842105263158,
          "yanchor": "middle",
          "yref": "y"
         },
         {
          "layer": "above",
          "sizex": 0.75,
          "sizey": 0.75,
          "sizing": "contain",
          "source": "https://i.imgur.com/0F6UIO4.png",
          "x": 49.15094339622642,
          "xanchor": "center",
          "xref": "x",
          "y": 27.894736842105264,
          "yanchor": "middle",
          "yref": "y"
         },
         {
          "layer": "above",
          "sizex": 0.75,
          "sizey": 0.75,
          "sizing": "contain",
          "source": "https://i.imgur.com/MOhGOQ4.png",
          "x": 51.831644583008575,
          "xanchor": "center",
          "xref": "x",
          "y": 33.76315789473684,
          "yanchor": "middle",
          "yref": "y"
         },
         {
          "layer": "above",
          "sizex": 0.75,
          "sizey": 0.75,
          "sizing": "contain",
          "source": "https://i.imgur.com/EMCwD3X.png",
          "x": 53.42960288808664,
          "xanchor": "center",
          "xref": "x",
          "y": 21.86842105263158,
          "yanchor": "middle",
          "yref": "y"
         },
         {
          "layer": "above",
          "sizex": 0.75,
          "sizey": 0.75,
          "sizing": "contain",
          "source": "https://i.imgur.com/6F7h3UR.png",
          "x": 52.11416490486258,
          "xanchor": "center",
          "xref": "x",
          "y": 24.894736842105264,
          "yanchor": "middle",
          "yref": "y"
         },
         {
          "layer": "above",
          "sizex": 0.75,
          "sizey": 0.75,
          "sizing": "contain",
          "source": "https://i.imgur.com/LPhzr0K.png",
          "x": 46.18249534450652,
          "xanchor": "center",
          "xref": "x",
          "y": 28.263157894736842,
          "yanchor": "middle",
          "yref": "y"
         },
         {
          "layer": "above",
          "sizex": 0.75,
          "sizey": 0.75,
          "sizing": "contain",
          "source": "https://i.imgur.com/Dgei0uj.png",
          "x": 48.70292887029289,
          "xanchor": "center",
          "xref": "x",
          "y": 31.44736842105263,
          "yanchor": "middle",
          "yref": "y"
         },
         {
          "layer": "above",
          "sizex": 0.75,
          "sizey": 0.75,
          "sizing": "contain",
          "source": "https://i.imgur.com/2zggSrF.png",
          "x": 48.162111215834116,
          "xanchor": "center",
          "xref": "x",
          "y": 27.92105263157895,
          "yanchor": "middle",
          "yref": "y"
         },
         {
          "layer": "above",
          "sizex": 0.75,
          "sizey": 0.75,
          "sizing": "contain",
          "source": "https://i.imgur.com/2tipH85.png",
          "x": 49.11986588432523,
          "xanchor": "center",
          "xref": "x",
          "y": 31.394736842105264,
          "yanchor": "middle",
          "yref": "y"
         },
         {
          "layer": "above",
          "sizex": 0.75,
          "sizey": 0.75,
          "sizing": "contain",
          "source": "https://i.imgur.com/ldOUO84.png",
          "x": 47.850467289719624,
          "xanchor": "center",
          "xref": "x",
          "y": 28.157894736842106,
          "yanchor": "middle",
          "yref": "y"
         },
         {
          "layer": "above",
          "sizex": 0.75,
          "sizey": 0.75,
          "sizing": "contain",
          "source": "https://i.imgur.com/fs7VK9G.png",
          "x": 51.44076840981857,
          "xanchor": "center",
          "xref": "x",
          "y": 24.657894736842106,
          "yanchor": "middle",
          "yref": "y"
         },
         {
          "layer": "above",
          "sizex": 0.75,
          "sizey": 0.75,
          "sizing": "contain",
          "source": "https://i.imgur.com/FF8z7uZ.png",
          "x": 54.61346633416459,
          "xanchor": "center",
          "xref": "x",
          "y": 21.105263157894736,
          "yanchor": "middle",
          "yref": "y"
         },
         {
          "layer": "above",
          "sizex": 0.75,
          "sizey": 0.75,
          "sizing": "contain",
          "source": "https://i.imgur.com/z47emBQ.png",
          "x": 51.724137931034484,
          "xanchor": "center",
          "xref": "x",
          "y": 23.657894736842106,
          "yanchor": "middle",
          "yref": "y"
         },
         {
          "layer": "above",
          "sizex": 0.75,
          "sizey": 0.75,
          "sizing": "contain",
          "source": "https://i.imgur.com/3kOLokZ.png",
          "x": 56.42857142857143,
          "xanchor": "center",
          "xref": "x",
          "y": 25.789473684210527,
          "yanchor": "middle",
          "yref": "y"
         },
         {
          "layer": "above",
          "sizex": 0.75,
          "sizey": 0.75,
          "sizing": "contain",
          "source": "https://i.imgur.com/z4Tl9Zu.png",
          "x": 48.275862068965516,
          "xanchor": "center",
          "xref": "x",
          "y": 30.526315789473685,
          "yanchor": "middle",
          "yref": "y"
         },
         {
          "layer": "above",
          "sizex": 0.75,
          "sizey": 0.75,
          "sizing": "contain",
          "source": "https://i.imgur.com/35GrgJC.png",
          "x": 47.418244406196216,
          "xanchor": "center",
          "xref": "x",
          "y": 30.57894736842105,
          "yanchor": "middle",
          "yref": "y"
         },
         {
          "layer": "above",
          "sizex": 0.75,
          "sizey": 0.75,
          "sizing": "contain",
          "source": "https://i.imgur.com/fJ7rUWW.png",
          "x": 53.665689149560116,
          "xanchor": "center",
          "xref": "x",
          "y": 26.92105263157895,
          "yanchor": "middle",
          "yref": "y"
         },
         {
          "layer": "above",
          "sizex": 0.75,
          "sizey": 0.75,
          "sizing": "contain",
          "source": "https://i.imgur.com/9BQHJRl.png",
          "x": 51.36702568351284,
          "xanchor": "center",
          "xref": "x",
          "y": 31.763157894736842,
          "yanchor": "middle",
          "yref": "y"
         },
         {
          "layer": "above",
          "sizex": 0.75,
          "sizey": 0.75,
          "sizing": "contain",
          "source": "https://i.imgur.com/6azSF88.png",
          "x": 46.176762661370404,
          "xanchor": "center",
          "xref": "x",
          "y": 26.5,
          "yanchor": "middle",
          "yref": "y"
         }
        ],
        "paper_bgcolor": "rgb(70, 70, 70)",
        "plot_bgcolor": "rgb(70, 70, 70)",
        "shapes": [
         {
          "layer": "below",
          "line": {
           "color": "White",
           "width": 3
          },
          "type": "line",
          "x0": 50.14470066381364,
          "x1": 50.14470066381364,
          "y0": 20,
          "y1": 35
         },
         {
          "layer": "below",
          "line": {
           "color": "White",
           "width": 3
          },
          "type": "line",
          "x0": 45,
          "x1": 60,
          "y0": 27.423684210526318,
          "y1": 27.423684210526318
         }
        ],
        "showlegend": false,
        "template": {
         "data": {
          "bar": [
           {
            "error_x": {
             "color": "#2a3f5f"
            },
            "error_y": {
             "color": "#2a3f5f"
            },
            "marker": {
             "line": {
              "color": "#E5ECF6",
              "width": 0.5
             },
             "pattern": {
              "fillmode": "overlay",
              "size": 10,
              "solidity": 0.2
             }
            },
            "type": "bar"
           }
          ],
          "barpolar": [
           {
            "marker": {
             "line": {
              "color": "#E5ECF6",
              "width": 0.5
             },
             "pattern": {
              "fillmode": "overlay",
              "size": 10,
              "solidity": 0.2
             }
            },
            "type": "barpolar"
           }
          ],
          "carpet": [
           {
            "aaxis": {
             "endlinecolor": "#2a3f5f",
             "gridcolor": "white",
             "linecolor": "white",
             "minorgridcolor": "white",
             "startlinecolor": "#2a3f5f"
            },
            "baxis": {
             "endlinecolor": "#2a3f5f",
             "gridcolor": "white",
             "linecolor": "white",
             "minorgridcolor": "white",
             "startlinecolor": "#2a3f5f"
            },
            "type": "carpet"
           }
          ],
          "choropleth": [
           {
            "colorbar": {
             "outlinewidth": 0,
             "ticks": ""
            },
            "type": "choropleth"
           }
          ],
          "contour": [
           {
            "colorbar": {
             "outlinewidth": 0,
             "ticks": ""
            },
            "colorscale": [
             [
              0,
              "#0d0887"
             ],
             [
              0.1111111111111111,
              "#46039f"
             ],
             [
              0.2222222222222222,
              "#7201a8"
             ],
             [
              0.3333333333333333,
              "#9c179e"
             ],
             [
              0.4444444444444444,
              "#bd3786"
             ],
             [
              0.5555555555555556,
              "#d8576b"
             ],
             [
              0.6666666666666666,
              "#ed7953"
             ],
             [
              0.7777777777777778,
              "#fb9f3a"
             ],
             [
              0.8888888888888888,
              "#fdca26"
             ],
             [
              1,
              "#f0f921"
             ]
            ],
            "type": "contour"
           }
          ],
          "contourcarpet": [
           {
            "colorbar": {
             "outlinewidth": 0,
             "ticks": ""
            },
            "type": "contourcarpet"
           }
          ],
          "heatmap": [
           {
            "colorbar": {
             "outlinewidth": 0,
             "ticks": ""
            },
            "colorscale": [
             [
              0,
              "#0d0887"
             ],
             [
              0.1111111111111111,
              "#46039f"
             ],
             [
              0.2222222222222222,
              "#7201a8"
             ],
             [
              0.3333333333333333,
              "#9c179e"
             ],
             [
              0.4444444444444444,
              "#bd3786"
             ],
             [
              0.5555555555555556,
              "#d8576b"
             ],
             [
              0.6666666666666666,
              "#ed7953"
             ],
             [
              0.7777777777777778,
              "#fb9f3a"
             ],
             [
              0.8888888888888888,
              "#fdca26"
             ],
             [
              1,
              "#f0f921"
             ]
            ],
            "type": "heatmap"
           }
          ],
          "heatmapgl": [
           {
            "colorbar": {
             "outlinewidth": 0,
             "ticks": ""
            },
            "colorscale": [
             [
              0,
              "#0d0887"
             ],
             [
              0.1111111111111111,
              "#46039f"
             ],
             [
              0.2222222222222222,
              "#7201a8"
             ],
             [
              0.3333333333333333,
              "#9c179e"
             ],
             [
              0.4444444444444444,
              "#bd3786"
             ],
             [
              0.5555555555555556,
              "#d8576b"
             ],
             [
              0.6666666666666666,
              "#ed7953"
             ],
             [
              0.7777777777777778,
              "#fb9f3a"
             ],
             [
              0.8888888888888888,
              "#fdca26"
             ],
             [
              1,
              "#f0f921"
             ]
            ],
            "type": "heatmapgl"
           }
          ],
          "histogram": [
           {
            "marker": {
             "pattern": {
              "fillmode": "overlay",
              "size": 10,
              "solidity": 0.2
             }
            },
            "type": "histogram"
           }
          ],
          "histogram2d": [
           {
            "colorbar": {
             "outlinewidth": 0,
             "ticks": ""
            },
            "colorscale": [
             [
              0,
              "#0d0887"
             ],
             [
              0.1111111111111111,
              "#46039f"
             ],
             [
              0.2222222222222222,
              "#7201a8"
             ],
             [
              0.3333333333333333,
              "#9c179e"
             ],
             [
              0.4444444444444444,
              "#bd3786"
             ],
             [
              0.5555555555555556,
              "#d8576b"
             ],
             [
              0.6666666666666666,
              "#ed7953"
             ],
             [
              0.7777777777777778,
              "#fb9f3a"
             ],
             [
              0.8888888888888888,
              "#fdca26"
             ],
             [
              1,
              "#f0f921"
             ]
            ],
            "type": "histogram2d"
           }
          ],
          "histogram2dcontour": [
           {
            "colorbar": {
             "outlinewidth": 0,
             "ticks": ""
            },
            "colorscale": [
             [
              0,
              "#0d0887"
             ],
             [
              0.1111111111111111,
              "#46039f"
             ],
             [
              0.2222222222222222,
              "#7201a8"
             ],
             [
              0.3333333333333333,
              "#9c179e"
             ],
             [
              0.4444444444444444,
              "#bd3786"
             ],
             [
              0.5555555555555556,
              "#d8576b"
             ],
             [
              0.6666666666666666,
              "#ed7953"
             ],
             [
              0.7777777777777778,
              "#fb9f3a"
             ],
             [
              0.8888888888888888,
              "#fdca26"
             ],
             [
              1,
              "#f0f921"
             ]
            ],
            "type": "histogram2dcontour"
           }
          ],
          "mesh3d": [
           {
            "colorbar": {
             "outlinewidth": 0,
             "ticks": ""
            },
            "type": "mesh3d"
           }
          ],
          "parcoords": [
           {
            "line": {
             "colorbar": {
              "outlinewidth": 0,
              "ticks": ""
             }
            },
            "type": "parcoords"
           }
          ],
          "pie": [
           {
            "automargin": true,
            "type": "pie"
           }
          ],
          "scatter": [
           {
            "fillpattern": {
             "fillmode": "overlay",
             "size": 10,
             "solidity": 0.2
            },
            "type": "scatter"
           }
          ],
          "scatter3d": [
           {
            "line": {
             "colorbar": {
              "outlinewidth": 0,
              "ticks": ""
             }
            },
            "marker": {
             "colorbar": {
              "outlinewidth": 0,
              "ticks": ""
             }
            },
            "type": "scatter3d"
           }
          ],
          "scattercarpet": [
           {
            "marker": {
             "colorbar": {
              "outlinewidth": 0,
              "ticks": ""
             }
            },
            "type": "scattercarpet"
           }
          ],
          "scattergeo": [
           {
            "marker": {
             "colorbar": {
              "outlinewidth": 0,
              "ticks": ""
             }
            },
            "type": "scattergeo"
           }
          ],
          "scattergl": [
           {
            "marker": {
             "colorbar": {
              "outlinewidth": 0,
              "ticks": ""
             }
            },
            "type": "scattergl"
           }
          ],
          "scattermapbox": [
           {
            "marker": {
             "colorbar": {
              "outlinewidth": 0,
              "ticks": ""
             }
            },
            "type": "scattermapbox"
           }
          ],
          "scatterpolar": [
           {
            "marker": {
             "colorbar": {
              "outlinewidth": 0,
              "ticks": ""
             }
            },
            "type": "scatterpolar"
           }
          ],
          "scatterpolargl": [
           {
            "marker": {
             "colorbar": {
              "outlinewidth": 0,
              "ticks": ""
             }
            },
            "type": "scatterpolargl"
           }
          ],
          "scatterternary": [
           {
            "marker": {
             "colorbar": {
              "outlinewidth": 0,
              "ticks": ""
             }
            },
            "type": "scatterternary"
           }
          ],
          "surface": [
           {
            "colorbar": {
             "outlinewidth": 0,
             "ticks": ""
            },
            "colorscale": [
             [
              0,
              "#0d0887"
             ],
             [
              0.1111111111111111,
              "#46039f"
             ],
             [
              0.2222222222222222,
              "#7201a8"
             ],
             [
              0.3333333333333333,
              "#9c179e"
             ],
             [
              0.4444444444444444,
              "#bd3786"
             ],
             [
              0.5555555555555556,
              "#d8576b"
             ],
             [
              0.6666666666666666,
              "#ed7953"
             ],
             [
              0.7777777777777778,
              "#fb9f3a"
             ],
             [
              0.8888888888888888,
              "#fdca26"
             ],
             [
              1,
              "#f0f921"
             ]
            ],
            "type": "surface"
           }
          ],
          "table": [
           {
            "cells": {
             "fill": {
              "color": "#EBF0F8"
             },
             "line": {
              "color": "white"
             }
            },
            "header": {
             "fill": {
              "color": "#C8D4E3"
             },
             "line": {
              "color": "white"
             }
            },
            "type": "table"
           }
          ]
         },
         "layout": {
          "annotationdefaults": {
           "arrowcolor": "#2a3f5f",
           "arrowhead": 0,
           "arrowwidth": 1
          },
          "autotypenumbers": "strict",
          "coloraxis": {
           "colorbar": {
            "outlinewidth": 0,
            "ticks": ""
           }
          },
          "colorscale": {
           "diverging": [
            [
             0,
             "#8e0152"
            ],
            [
             0.1,
             "#c51b7d"
            ],
            [
             0.2,
             "#de77ae"
            ],
            [
             0.3,
             "#f1b6da"
            ],
            [
             0.4,
             "#fde0ef"
            ],
            [
             0.5,
             "#f7f7f7"
            ],
            [
             0.6,
             "#e6f5d0"
            ],
            [
             0.7,
             "#b8e186"
            ],
            [
             0.8,
             "#7fbc41"
            ],
            [
             0.9,
             "#4d9221"
            ],
            [
             1,
             "#276419"
            ]
           ],
           "sequential": [
            [
             0,
             "#0d0887"
            ],
            [
             0.1111111111111111,
             "#46039f"
            ],
            [
             0.2222222222222222,
             "#7201a8"
            ],
            [
             0.3333333333333333,
             "#9c179e"
            ],
            [
             0.4444444444444444,
             "#bd3786"
            ],
            [
             0.5555555555555556,
             "#d8576b"
            ],
            [
             0.6666666666666666,
             "#ed7953"
            ],
            [
             0.7777777777777778,
             "#fb9f3a"
            ],
            [
             0.8888888888888888,
             "#fdca26"
            ],
            [
             1,
             "#f0f921"
            ]
           ],
           "sequentialminus": [
            [
             0,
             "#0d0887"
            ],
            [
             0.1111111111111111,
             "#46039f"
            ],
            [
             0.2222222222222222,
             "#7201a8"
            ],
            [
             0.3333333333333333,
             "#9c179e"
            ],
            [
             0.4444444444444444,
             "#bd3786"
            ],
            [
             0.5555555555555556,
             "#d8576b"
            ],
            [
             0.6666666666666666,
             "#ed7953"
            ],
            [
             0.7777777777777778,
             "#fb9f3a"
            ],
            [
             0.8888888888888888,
             "#fdca26"
            ],
            [
             1,
             "#f0f921"
            ]
           ]
          },
          "colorway": [
           "#636efa",
           "#EF553B",
           "#00cc96",
           "#ab63fa",
           "#FFA15A",
           "#19d3f3",
           "#FF6692",
           "#B6E880",
           "#FF97FF",
           "#FECB52"
          ],
          "font": {
           "color": "#2a3f5f"
          },
          "geo": {
           "bgcolor": "white",
           "lakecolor": "white",
           "landcolor": "#E5ECF6",
           "showlakes": true,
           "showland": true,
           "subunitcolor": "white"
          },
          "hoverlabel": {
           "align": "left"
          },
          "hovermode": "closest",
          "mapbox": {
           "style": "light"
          },
          "paper_bgcolor": "white",
          "plot_bgcolor": "#E5ECF6",
          "polar": {
           "angularaxis": {
            "gridcolor": "white",
            "linecolor": "white",
            "ticks": ""
           },
           "bgcolor": "#E5ECF6",
           "radialaxis": {
            "gridcolor": "white",
            "linecolor": "white",
            "ticks": ""
           }
          },
          "scene": {
           "xaxis": {
            "backgroundcolor": "#E5ECF6",
            "gridcolor": "white",
            "gridwidth": 2,
            "linecolor": "white",
            "showbackground": true,
            "ticks": "",
            "zerolinecolor": "white"
           },
           "yaxis": {
            "backgroundcolor": "#E5ECF6",
            "gridcolor": "white",
            "gridwidth": 2,
            "linecolor": "white",
            "showbackground": true,
            "ticks": "",
            "zerolinecolor": "white"
           },
           "zaxis": {
            "backgroundcolor": "#E5ECF6",
            "gridcolor": "white",
            "gridwidth": 2,
            "linecolor": "white",
            "showbackground": true,
            "ticks": "",
            "zerolinecolor": "white"
           }
          },
          "shapedefaults": {
           "line": {
            "color": "#2a3f5f"
           }
          },
          "ternary": {
           "aaxis": {
            "gridcolor": "white",
            "linecolor": "white",
            "ticks": ""
           },
           "baxis": {
            "gridcolor": "white",
            "linecolor": "white",
            "ticks": ""
           },
           "bgcolor": "#E5ECF6",
           "caxis": {
            "gridcolor": "white",
            "linecolor": "white",
            "ticks": ""
           }
          },
          "title": {
           "x": 0.05
          },
          "xaxis": {
           "automargin": true,
           "gridcolor": "white",
           "linecolor": "white",
           "ticks": "",
           "title": {
            "standoff": 15
           },
           "zerolinecolor": "white",
           "zerolinewidth": 2
          },
          "yaxis": {
           "automargin": true,
           "gridcolor": "white",
           "linecolor": "white",
           "ticks": "",
           "title": {
            "standoff": 15
           },
           "zerolinecolor": "white",
           "zerolinewidth": 2
          }
         }
        },
        "width": 900,
        "xaxis": {
         "gridcolor": "rgba(0,0,0,0)",
         "linecolor": "white",
         "linewidth": 2,
         "range": [
          45,
          60
         ],
         "showline": true,
         "tickfont": {
          "color": "white"
         },
         "title": {
          "text": "AERIAL DUELS WON RATIO (%)"
         }
        },
        "yaxis": {
         "gridcolor": "rgba(0,0,0,0)",
         "linecolor": "white",
         "linewidth": 2,
         "range": [
          20,
          35
         ],
         "showline": true,
         "tickfont": {
          "color": "white"
         },
         "title": {
          "text": "AERIAL DUELS ATTEMPTED PER GAME"
         }
        }
       }
      }
     },
     "metadata": {},
     "output_type": "display_data"
    }
   ],
   "source": [
    "create_aerial_duels_chart(team_misc, x_min, x_max, y_min, y_max)"
   ]
  },
  {
   "cell_type": "code",
   "execution_count": null,
   "metadata": {},
   "outputs": [],
   "source": []
  },
  {
   "cell_type": "code",
   "execution_count": null,
   "metadata": {},
   "outputs": [],
   "source": []
  }
 ],
 "metadata": {
  "kernelspec": {
   "display_name": "footy",
   "language": "python",
   "name": "python3"
  },
  "language_info": {
   "codemirror_mode": {
    "name": "ipython",
    "version": 3
   },
   "file_extension": ".py",
   "mimetype": "text/x-python",
   "name": "python",
   "nbconvert_exporter": "python",
   "pygments_lexer": "ipython3",
   "version": "3.11.5"
  }
 },
 "nbformat": 4,
 "nbformat_minor": 2
}
