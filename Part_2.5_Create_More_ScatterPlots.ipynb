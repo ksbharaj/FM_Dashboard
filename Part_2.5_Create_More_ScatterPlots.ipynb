{
 "cells": [
  {
   "cell_type": "code",
   "execution_count": 1,
   "metadata": {},
   "outputs": [
    {
     "name": "stderr",
     "output_type": "stream",
     "text": [
      "d:\\Users\\ksbha\\miniconda3\\envs\\footy\\Lib\\site-packages\\snowflake\\connector\\options.py:103: UserWarning: You have an incompatible version of 'pyarrow' installed (14.0.2), please install a version that adheres to: 'pyarrow<10.1.0,>=10.0.1; extra == \"pandas\"'\n",
      "  warn_incompatible_dep(\n",
      "Failed to import ArrowResult. No Apache Arrow result set format can be used. ImportError: DLL load failed while importing arrow_iterator: The specified procedure could not be found.\n"
     ]
    }
   ],
   "source": [
    "import pandas as pd\n",
    "import numpy as np\n",
    "import plotly.graph_objects as go\n",
    "# from snowflake.connector.pandas_tools import write_pandas\n",
    "# from sqlalchemy import create_engine\n",
    "import snowflake.connector\n",
    "\n",
    "from mplsoccer import Pitch, VerticalPitch\n",
    "import matplotlib.pyplot as plt\n",
    "import matplotlib.patches as patches\n",
    "import math\n",
    "\n",
    "from snowflake.connector.pandas_tools import write_pandas"
   ]
  },
  {
   "cell_type": "code",
   "execution_count": 2,
   "metadata": {},
   "outputs": [],
   "source": [
    "import snowflake.connector"
   ]
  },
  {
   "cell_type": "code",
   "execution_count": 3,
   "metadata": {},
   "outputs": [],
   "source": [
    "## Set options to view all columns\n",
    "pd.set_option('display.max_columns', None)"
   ]
  },
  {
   "cell_type": "code",
   "execution_count": 4,
   "metadata": {},
   "outputs": [],
   "source": [
    "SNOWFLAKE_USER = 'karan14'\n",
    "SNOWFLAKE_PASSWORD = 'Snowfl@key0014'\n",
    "SNOWFLAKE_ACCOUNT = 'lv65293.ca-central-1.aws'\n",
    "SNOWFLAKE_WAREHOUSE = 'COMPUTE_WH'\n",
    "SNOWFLAKE_DATABASE = 'GEGENSTATS'\n",
    "SNOWFLAKE_SCHEMA = 'TABLES'"
   ]
  },
  {
   "cell_type": "code",
   "execution_count": 5,
   "metadata": {},
   "outputs": [],
   "source": [
    "conn = snowflake.connector.connect(\n",
    "    user=SNOWFLAKE_USER,\n",
    "    password=SNOWFLAKE_PASSWORD,\n",
    "    account=SNOWFLAKE_ACCOUNT,\n",
    "    warehouse=SNOWFLAKE_WAREHOUSE,\n",
    "    database=SNOWFLAKE_DATABASE,\n",
    "    schema=SNOWFLAKE_SCHEMA\n",
    ")"
   ]
  },
  {
   "cell_type": "code",
   "execution_count": 6,
   "metadata": {},
   "outputs": [],
   "source": [
    "cursor = conn.cursor()"
   ]
  },
  {
   "cell_type": "code",
   "execution_count": 7,
   "metadata": {},
   "outputs": [],
   "source": [
    "def fetch_data(cursor, query):\n",
    "    cursor.execute(query)\n",
    "    rows = cursor.fetchall()\n",
    "    column_names = [desc[0] for desc in cursor.description]\n",
    "    return pd.DataFrame(rows, columns=column_names)"
   ]
  },
  {
   "cell_type": "code",
   "execution_count": 8,
   "metadata": {},
   "outputs": [],
   "source": [
    "team_names = fetch_data(cursor, 'SELECT * FROM TEAMS')"
   ]
  },
  {
   "cell_type": "code",
   "execution_count": 9,
   "metadata": {},
   "outputs": [],
   "source": [
    "team_misc = fetch_data(cursor, 'SELECT * FROM TEAM_MISC_STATS')"
   ]
  },
  {
   "cell_type": "code",
   "execution_count": 10,
   "metadata": {},
   "outputs": [],
   "source": [
    "team_standard = fetch_data(cursor, 'SELECT * FROM TEAM_STANDARD_STATS')"
   ]
  },
  {
   "cell_type": "code",
   "execution_count": 11,
   "metadata": {},
   "outputs": [],
   "source": [
    "team_attacking = fetch_data(cursor, 'SELECT * FROM TEAM_ATTACKING_STATS')"
   ]
  },
  {
   "cell_type": "code",
   "execution_count": 12,
   "metadata": {},
   "outputs": [],
   "source": [
    "team_defending = fetch_data(cursor, 'SELECT * FROM TEAM_DEFENDING_STATS')"
   ]
  },
  {
   "cell_type": "code",
   "execution_count": 13,
   "metadata": {},
   "outputs": [],
   "source": [
    "df_competitions = fetch_data(cursor, 'SELECT COMPETITION, COMPETITION_ACRONYM, SEASON FROM COMPETITIONS')"
   ]
  },
  {
   "cell_type": "code",
   "execution_count": 14,
   "metadata": {},
   "outputs": [],
   "source": [
    "df_matches = fetch_data(cursor, 'SELECT * FROM MATCHES')"
   ]
  },
  {
   "cell_type": "code",
   "execution_count": 15,
   "metadata": {},
   "outputs": [],
   "source": [
    "df_shots = fetch_data(cursor, 'SELECT * FROM SHOT_EVENTS')"
   ]
  },
  {
   "cell_type": "code",
   "execution_count": 16,
   "metadata": {},
   "outputs": [],
   "source": [
    "df_players = fetch_data(cursor, 'SELECT * FROM PLAYERS')"
   ]
  },
  {
   "cell_type": "code",
   "execution_count": 17,
   "metadata": {},
   "outputs": [
    {
     "data": {
      "text/html": [
       "<div>\n",
       "<style scoped>\n",
       "    .dataframe tbody tr th:only-of-type {\n",
       "        vertical-align: middle;\n",
       "    }\n",
       "\n",
       "    .dataframe tbody tr th {\n",
       "        vertical-align: top;\n",
       "    }\n",
       "\n",
       "    .dataframe thead th {\n",
       "        text-align: right;\n",
       "    }\n",
       "</style>\n",
       "<table border=\"1\" class=\"dataframe\">\n",
       "  <thead>\n",
       "    <tr style=\"text-align: right;\">\n",
       "      <th></th>\n",
       "      <th>TEAM_FBREF_ID</th>\n",
       "      <th>SEASON</th>\n",
       "      <th>COMPETITION</th>\n",
       "      <th>GOALS_SCORED</th>\n",
       "      <th>NPXG</th>\n",
       "      <th>XG</th>\n",
       "      <th>SHOTS</th>\n",
       "      <th>SHOTS_ON_TARGET</th>\n",
       "      <th>PASS_COMPLETED</th>\n",
       "      <th>PASS_ATTEMPTED</th>\n",
       "      <th>TAKEONS_ATTEMPTED</th>\n",
       "      <th>TAKEONS_COMPLETED</th>\n",
       "      <th>CROSSES_INTO_PA</th>\n",
       "      <th>FOULS_AGAINST</th>\n",
       "    </tr>\n",
       "  </thead>\n",
       "  <tbody>\n",
       "    <tr>\n",
       "      <th>0</th>\n",
       "      <td>7a54bb4f</td>\n",
       "      <td>2223</td>\n",
       "      <td>FRA-Ligue 1</td>\n",
       "      <td>23</td>\n",
       "      <td>24.22</td>\n",
       "      <td>31.06</td>\n",
       "      <td>311</td>\n",
       "      <td>81</td>\n",
       "      <td>11216</td>\n",
       "      <td>15286</td>\n",
       "      <td>630</td>\n",
       "      <td>283</td>\n",
       "      <td>71</td>\n",
       "      <td>495</td>\n",
       "    </tr>\n",
       "    <tr>\n",
       "      <th>1</th>\n",
       "      <td>e2d8892c</td>\n",
       "      <td>2223</td>\n",
       "      <td>FRA-Ligue 1</td>\n",
       "      <td>89</td>\n",
       "      <td>81.59</td>\n",
       "      <td>86.15</td>\n",
       "      <td>562</td>\n",
       "      <td>242</td>\n",
       "      <td>23694</td>\n",
       "      <td>26476</td>\n",
       "      <td>976</td>\n",
       "      <td>454</td>\n",
       "      <td>46</td>\n",
       "      <td>416</td>\n",
       "    </tr>\n",
       "    <tr>\n",
       "      <th>2</th>\n",
       "      <td>d2c87802</td>\n",
       "      <td>2223</td>\n",
       "      <td>FRA-Ligue 1</td>\n",
       "      <td>52</td>\n",
       "      <td>42.79</td>\n",
       "      <td>47.35</td>\n",
       "      <td>397</td>\n",
       "      <td>149</td>\n",
       "      <td>14837</td>\n",
       "      <td>18087</td>\n",
       "      <td>916</td>\n",
       "      <td>406</td>\n",
       "      <td>38</td>\n",
       "      <td>501</td>\n",
       "    </tr>\n",
       "    <tr>\n",
       "      <th>3</th>\n",
       "      <td>fb08dbb3</td>\n",
       "      <td>2223</td>\n",
       "      <td>FRA-Ligue 1</td>\n",
       "      <td>44</td>\n",
       "      <td>35.32</td>\n",
       "      <td>41.40</td>\n",
       "      <td>417</td>\n",
       "      <td>132</td>\n",
       "      <td>12486</td>\n",
       "      <td>16452</td>\n",
       "      <td>655</td>\n",
       "      <td>270</td>\n",
       "      <td>94</td>\n",
       "      <td>462</td>\n",
       "    </tr>\n",
       "    <tr>\n",
       "      <th>4</th>\n",
       "      <td>7fdd64e0</td>\n",
       "      <td>2223</td>\n",
       "      <td>FRA-Ligue 1</td>\n",
       "      <td>45</td>\n",
       "      <td>53.34</td>\n",
       "      <td>59.52</td>\n",
       "      <td>516</td>\n",
       "      <td>165</td>\n",
       "      <td>13670</td>\n",
       "      <td>17565</td>\n",
       "      <td>800</td>\n",
       "      <td>347</td>\n",
       "      <td>87</td>\n",
       "      <td>423</td>\n",
       "    </tr>\n",
       "  </tbody>\n",
       "</table>\n",
       "</div>"
      ],
      "text/plain": [
       "  TEAM_FBREF_ID  SEASON  COMPETITION  GOALS_SCORED   NPXG     XG  SHOTS  \\\n",
       "0      7a54bb4f    2223  FRA-Ligue 1            23  24.22  31.06    311   \n",
       "1      e2d8892c    2223  FRA-Ligue 1            89  81.59  86.15    562   \n",
       "2      d2c87802    2223  FRA-Ligue 1            52  42.79  47.35    397   \n",
       "3      fb08dbb3    2223  FRA-Ligue 1            44  35.32  41.40    417   \n",
       "4      7fdd64e0    2223  FRA-Ligue 1            45  53.34  59.52    516   \n",
       "\n",
       "   SHOTS_ON_TARGET  PASS_COMPLETED  PASS_ATTEMPTED  TAKEONS_ATTEMPTED  \\\n",
       "0               81           11216           15286                630   \n",
       "1              242           23694           26476                976   \n",
       "2              149           14837           18087                916   \n",
       "3              132           12486           16452                655   \n",
       "4              165           13670           17565                800   \n",
       "\n",
       "   TAKEONS_COMPLETED  CROSSES_INTO_PA  FOULS_AGAINST  \n",
       "0                283               71            495  \n",
       "1                454               46            416  \n",
       "2                406               38            501  \n",
       "3                270               94            462  \n",
       "4                347               87            423  "
      ]
     },
     "execution_count": 17,
     "metadata": {},
     "output_type": "execute_result"
    }
   ],
   "source": [
    "team_attacking.head()"
   ]
  },
  {
   "cell_type": "code",
   "execution_count": 18,
   "metadata": {},
   "outputs": [],
   "source": [
    "team_attacking = team_attacking.merge(df_competitions, on=['COMPETITION','SEASON'], how='left')\n",
    "\n",
    "team_attacking = team_attacking.merge(team_names, on='TEAM_FBREF_ID', how='left')\n",
    "\n",
    "team_attacking = team_attacking.merge(team_standard, on=['TEAM_FBREF_ID', 'SEASON', 'COMPETITION'], how='left')"
   ]
  },
  {
   "cell_type": "code",
   "execution_count": 19,
   "metadata": {},
   "outputs": [],
   "source": [
    "team_attacking['SHOTS PER GAME'] = team_attacking['SHOTS']/team_attacking['MATCHES_PLAYED']"
   ]
  },
  {
   "cell_type": "code",
   "execution_count": 20,
   "metadata": {},
   "outputs": [],
   "source": [
    "team_attacking['CONVERSION RATE (%)'] = team_attacking['GOALS_SCORED']/team_attacking['SHOTS']"
   ]
  },
  {
   "cell_type": "code",
   "execution_count": 21,
   "metadata": {},
   "outputs": [
    {
     "data": {
      "text/html": [
       "<div>\n",
       "<style scoped>\n",
       "    .dataframe tbody tr th:only-of-type {\n",
       "        vertical-align: middle;\n",
       "    }\n",
       "\n",
       "    .dataframe tbody tr th {\n",
       "        vertical-align: top;\n",
       "    }\n",
       "\n",
       "    .dataframe thead th {\n",
       "        text-align: right;\n",
       "    }\n",
       "</style>\n",
       "<table border=\"1\" class=\"dataframe\">\n",
       "  <thead>\n",
       "    <tr style=\"text-align: right;\">\n",
       "      <th></th>\n",
       "      <th>TEAM_FBREF_ID</th>\n",
       "      <th>SEASON</th>\n",
       "      <th>COMPETITION</th>\n",
       "      <th>GOALS_SCORED</th>\n",
       "      <th>NPXG</th>\n",
       "      <th>XG</th>\n",
       "      <th>SHOTS</th>\n",
       "      <th>SHOTS_ON_TARGET</th>\n",
       "      <th>PASS_COMPLETED</th>\n",
       "      <th>PASS_ATTEMPTED</th>\n",
       "      <th>TAKEONS_ATTEMPTED</th>\n",
       "      <th>TAKEONS_COMPLETED</th>\n",
       "      <th>CROSSES_INTO_PA</th>\n",
       "      <th>FOULS_AGAINST</th>\n",
       "      <th>COMPETITION_ACRONYM</th>\n",
       "      <th>TEAM_NAME</th>\n",
       "      <th>TEAM_LOGO_URL</th>\n",
       "      <th>TEAM_WS_ID</th>\n",
       "      <th>MATCHES_PLAYED</th>\n",
       "      <th>TEAM_WINS</th>\n",
       "      <th>TEAM_DRAWS</th>\n",
       "      <th>TEAM_LOSSES</th>\n",
       "      <th>TEAM_PTS</th>\n",
       "      <th>TEAM_XPTS</th>\n",
       "      <th>SHOTS PER GAME</th>\n",
       "      <th>CONVERSION RATE (%)</th>\n",
       "    </tr>\n",
       "  </thead>\n",
       "  <tbody>\n",
       "    <tr>\n",
       "      <th>0</th>\n",
       "      <td>7a54bb4f</td>\n",
       "      <td>2223</td>\n",
       "      <td>FRA-Ligue 1</td>\n",
       "      <td>23</td>\n",
       "      <td>24.22</td>\n",
       "      <td>31.06</td>\n",
       "      <td>311</td>\n",
       "      <td>81</td>\n",
       "      <td>11216</td>\n",
       "      <td>15286</td>\n",
       "      <td>630</td>\n",
       "      <td>283</td>\n",
       "      <td>71</td>\n",
       "      <td>495</td>\n",
       "      <td>Ligue 1</td>\n",
       "      <td>Ajaccio</td>\n",
       "      <td>https://i.imgur.com/FSm4pRb.png</td>\n",
       "      <td>610</td>\n",
       "      <td>38</td>\n",
       "      <td>7</td>\n",
       "      <td>5</td>\n",
       "      <td>26</td>\n",
       "      <td>26</td>\n",
       "      <td>33.12</td>\n",
       "      <td>8.184211</td>\n",
       "      <td>0.073955</td>\n",
       "    </tr>\n",
       "    <tr>\n",
       "      <th>1</th>\n",
       "      <td>e2d8892c</td>\n",
       "      <td>2223</td>\n",
       "      <td>FRA-Ligue 1</td>\n",
       "      <td>89</td>\n",
       "      <td>81.59</td>\n",
       "      <td>86.15</td>\n",
       "      <td>562</td>\n",
       "      <td>242</td>\n",
       "      <td>23694</td>\n",
       "      <td>26476</td>\n",
       "      <td>976</td>\n",
       "      <td>454</td>\n",
       "      <td>46</td>\n",
       "      <td>416</td>\n",
       "      <td>Ligue 1</td>\n",
       "      <td>Paris S-G</td>\n",
       "      <td>https://i.imgur.com/kuN3QSp.png</td>\n",
       "      <td>304</td>\n",
       "      <td>38</td>\n",
       "      <td>27</td>\n",
       "      <td>4</td>\n",
       "      <td>7</td>\n",
       "      <td>85</td>\n",
       "      <td>74.01</td>\n",
       "      <td>14.789474</td>\n",
       "      <td>0.158363</td>\n",
       "    </tr>\n",
       "    <tr>\n",
       "      <th>2</th>\n",
       "      <td>d2c87802</td>\n",
       "      <td>2223</td>\n",
       "      <td>FRA-Ligue 1</td>\n",
       "      <td>52</td>\n",
       "      <td>42.79</td>\n",
       "      <td>47.35</td>\n",
       "      <td>397</td>\n",
       "      <td>149</td>\n",
       "      <td>14837</td>\n",
       "      <td>18087</td>\n",
       "      <td>916</td>\n",
       "      <td>406</td>\n",
       "      <td>38</td>\n",
       "      <td>501</td>\n",
       "      <td>Ligue 1</td>\n",
       "      <td>Lorient</td>\n",
       "      <td>https://i.imgur.com/9k1Kgp6.png</td>\n",
       "      <td>146</td>\n",
       "      <td>38</td>\n",
       "      <td>15</td>\n",
       "      <td>10</td>\n",
       "      <td>13</td>\n",
       "      <td>55</td>\n",
       "      <td>42.43</td>\n",
       "      <td>10.447368</td>\n",
       "      <td>0.130982</td>\n",
       "    </tr>\n",
       "    <tr>\n",
       "      <th>3</th>\n",
       "      <td>fb08dbb3</td>\n",
       "      <td>2223</td>\n",
       "      <td>FRA-Ligue 1</td>\n",
       "      <td>44</td>\n",
       "      <td>35.32</td>\n",
       "      <td>41.40</td>\n",
       "      <td>417</td>\n",
       "      <td>132</td>\n",
       "      <td>12486</td>\n",
       "      <td>16452</td>\n",
       "      <td>655</td>\n",
       "      <td>270</td>\n",
       "      <td>94</td>\n",
       "      <td>462</td>\n",
       "      <td>Ligue 1</td>\n",
       "      <td>Brest</td>\n",
       "      <td>https://i.imgur.com/klKUp8n.png</td>\n",
       "      <td>2332</td>\n",
       "      <td>38</td>\n",
       "      <td>11</td>\n",
       "      <td>11</td>\n",
       "      <td>16</td>\n",
       "      <td>44</td>\n",
       "      <td>43.52</td>\n",
       "      <td>10.973684</td>\n",
       "      <td>0.105516</td>\n",
       "    </tr>\n",
       "    <tr>\n",
       "      <th>4</th>\n",
       "      <td>7fdd64e0</td>\n",
       "      <td>2223</td>\n",
       "      <td>FRA-Ligue 1</td>\n",
       "      <td>45</td>\n",
       "      <td>53.34</td>\n",
       "      <td>59.52</td>\n",
       "      <td>516</td>\n",
       "      <td>165</td>\n",
       "      <td>13670</td>\n",
       "      <td>17565</td>\n",
       "      <td>800</td>\n",
       "      <td>347</td>\n",
       "      <td>87</td>\n",
       "      <td>423</td>\n",
       "      <td>Ligue 1</td>\n",
       "      <td>Reims</td>\n",
       "      <td>https://i.imgur.com/xULypbI.png</td>\n",
       "      <td>950</td>\n",
       "      <td>38</td>\n",
       "      <td>12</td>\n",
       "      <td>15</td>\n",
       "      <td>11</td>\n",
       "      <td>51</td>\n",
       "      <td>55.35</td>\n",
       "      <td>13.578947</td>\n",
       "      <td>0.087209</td>\n",
       "    </tr>\n",
       "  </tbody>\n",
       "</table>\n",
       "</div>"
      ],
      "text/plain": [
       "  TEAM_FBREF_ID  SEASON  COMPETITION  GOALS_SCORED   NPXG     XG  SHOTS  \\\n",
       "0      7a54bb4f    2223  FRA-Ligue 1            23  24.22  31.06    311   \n",
       "1      e2d8892c    2223  FRA-Ligue 1            89  81.59  86.15    562   \n",
       "2      d2c87802    2223  FRA-Ligue 1            52  42.79  47.35    397   \n",
       "3      fb08dbb3    2223  FRA-Ligue 1            44  35.32  41.40    417   \n",
       "4      7fdd64e0    2223  FRA-Ligue 1            45  53.34  59.52    516   \n",
       "\n",
       "   SHOTS_ON_TARGET  PASS_COMPLETED  PASS_ATTEMPTED  TAKEONS_ATTEMPTED  \\\n",
       "0               81           11216           15286                630   \n",
       "1              242           23694           26476                976   \n",
       "2              149           14837           18087                916   \n",
       "3              132           12486           16452                655   \n",
       "4              165           13670           17565                800   \n",
       "\n",
       "   TAKEONS_COMPLETED  CROSSES_INTO_PA  FOULS_AGAINST COMPETITION_ACRONYM  \\\n",
       "0                283               71            495             Ligue 1   \n",
       "1                454               46            416             Ligue 1   \n",
       "2                406               38            501             Ligue 1   \n",
       "3                270               94            462             Ligue 1   \n",
       "4                347               87            423             Ligue 1   \n",
       "\n",
       "   TEAM_NAME                    TEAM_LOGO_URL  TEAM_WS_ID  MATCHES_PLAYED  \\\n",
       "0    Ajaccio  https://i.imgur.com/FSm4pRb.png         610              38   \n",
       "1  Paris S-G  https://i.imgur.com/kuN3QSp.png         304              38   \n",
       "2    Lorient  https://i.imgur.com/9k1Kgp6.png         146              38   \n",
       "3      Brest  https://i.imgur.com/klKUp8n.png        2332              38   \n",
       "4      Reims  https://i.imgur.com/xULypbI.png         950              38   \n",
       "\n",
       "   TEAM_WINS  TEAM_DRAWS  TEAM_LOSSES  TEAM_PTS  TEAM_XPTS  SHOTS PER GAME  \\\n",
       "0          7           5           26        26      33.12        8.184211   \n",
       "1         27           4            7        85      74.01       14.789474   \n",
       "2         15          10           13        55      42.43       10.447368   \n",
       "3         11          11           16        44      43.52       10.973684   \n",
       "4         12          15           11        51      55.35       13.578947   \n",
       "\n",
       "   CONVERSION RATE (%)  \n",
       "0             0.073955  \n",
       "1             0.158363  \n",
       "2             0.130982  \n",
       "3             0.105516  \n",
       "4             0.087209  "
      ]
     },
     "execution_count": 21,
     "metadata": {},
     "output_type": "execute_result"
    }
   ],
   "source": [
    "team_attacking.head()"
   ]
  },
  {
   "cell_type": "code",
   "execution_count": 22,
   "metadata": {},
   "outputs": [],
   "source": [
    "attacking_efficiency_chart = team_attacking[['SEASON', 'COMPETITION_ACRONYM', 'TEAM_NAME', 'TEAM_LOGO_URL',\n",
    "                                            'SHOTS PER GAME', 'CONVERSION RATE (%)']]"
   ]
  },
  {
   "cell_type": "code",
   "execution_count": 23,
   "metadata": {},
   "outputs": [],
   "source": [
    "def upsert_to_snowflake(table_name, dataframe, primary_keys):\n",
    "    if isinstance(primary_keys, str):\n",
    "        primary_keys = [primary_keys]\n",
    "\n",
    "    temp_table_name = f\"{table_name}_TEMP\"\n",
    "    success, nchunks, nrows, _ = write_pandas(conn, dataframe, temp_table_name, auto_create_table=True)\n",
    "\n",
    "    on_condition = ' AND '.join([f\"{table_name}.{pk} = {temp_table_name}.{pk}\" for pk in primary_keys])\n",
    "\n",
    "    update_columns = [col for col in dataframe.columns if col not in primary_keys]\n",
    "    update_sql = ', '.join([f\"{table_name}.{col} = {temp_table_name}.{col}\" for col in update_columns])\n",
    "\n",
    "    merge_sql = f\"\"\"\n",
    "    MERGE INTO {table_name} USING {temp_table_name}\n",
    "    ON {on_condition}\n",
    "    \"\"\"\n",
    "\n",
    "    if update_columns:\n",
    "        merge_sql += f\"\"\"\n",
    "        WHEN MATCHED THEN\n",
    "            UPDATE SET\n",
    "                {update_sql}\n",
    "        \"\"\"\n",
    "\n",
    "    merge_sql += f\"\"\"\n",
    "    WHEN NOT MATCHED THEN\n",
    "        INSERT ({', '.join(dataframe.columns)})\n",
    "        VALUES ({', '.join([f\"{temp_table_name}.{col}\" for col in dataframe.columns])})\n",
    "    \"\"\"\n",
    "\n",
    "    cur.execute(merge_sql)\n",
    "    cur.execute(f\"DROP TABLE IF EXISTS {temp_table_name}\")\n",
    "\n",
    "    print(f\"Upsert completed. {nrows} rows processed.\")"
   ]
  },
  {
   "cell_type": "code",
   "execution_count": 24,
   "metadata": {},
   "outputs": [
    {
     "data": {
      "text/plain": [
       "<snowflake.connector.cursor.SnowflakeCursor at 0x1cfa7998b50>"
      ]
     },
     "execution_count": 24,
     "metadata": {},
     "output_type": "execute_result"
    }
   ],
   "source": [
    "SNOWFLAKE_SCHEMA = 'RADAR_CHARTS'\n",
    "\n",
    "conn = snowflake.connector.connect(\n",
    "    user=SNOWFLAKE_USER,\n",
    "    password=SNOWFLAKE_PASSWORD,\n",
    "    account=SNOWFLAKE_ACCOUNT,\n",
    "    warehouse=SNOWFLAKE_WAREHOUSE,\n",
    "    database=SNOWFLAKE_DATABASE,\n",
    "    schema=SNOWFLAKE_SCHEMA\n",
    "    )\n",
    "\n",
    "cur = conn.cursor()\n",
    "cur.execute(f\"USE WAREHOUSE {SNOWFLAKE_WAREHOUSE}\")\n",
    "\n",
    "create_schema_sql = f\"CREATE SCHEMA IF NOT EXISTS {SNOWFLAKE_SCHEMA}\"\n",
    "cur.execute(create_schema_sql)"
   ]
  },
  {
   "cell_type": "code",
   "execution_count": 25,
   "metadata": {},
   "outputs": [],
   "source": [
    "create_table_query = \"\"\"\n",
    "CREATE TABLE IF NOT EXISTS TEAM_ATTACKING_EFFICIENCY_CHART (\n",
    "    SEASON INT,\n",
    "    COMPETITION_ACRONYM VARCHAR(255),\n",
    "    TEAM_NAME VARCHAR(255),\n",
    "    TEAM_LOGO_URL VARCHAR(255),\n",
    "    SHOTS_PER_GAME FLOAT,\n",
    "    CONVERSION_RATE FLOAT,\n",
    "    PRIMARY KEY (SEASON, COMPETITION_ACRONYM, TEAM_NAME)\n",
    ");\n",
    "\"\"\""
   ]
  },
  {
   "cell_type": "code",
   "execution_count": 25,
   "metadata": {},
   "outputs": [
    {
     "data": {
      "text/plain": [
       "<snowflake.connector.cursor.SnowflakeCursor at 0x27493039710>"
      ]
     },
     "execution_count": 25,
     "metadata": {},
     "output_type": "execute_result"
    }
   ],
   "source": [
    "cur.execute(create_table_query)"
   ]
  },
  {
   "cell_type": "code",
   "execution_count": 26,
   "metadata": {},
   "outputs": [],
   "source": [
    "attacking_efficiency_chart.columns = attacking_efficiency_chart.columns.str.replace(\" \", \"_\")"
   ]
  },
  {
   "cell_type": "code",
   "execution_count": 27,
   "metadata": {},
   "outputs": [],
   "source": [
    "attacking_efficiency_chart = attacking_efficiency_chart.rename({\"CONVERSION_RATE_(%)\":\"CONVERSION_RATE\"}, axis=1)"
   ]
  },
  {
   "cell_type": "code",
   "execution_count": 28,
   "metadata": {},
   "outputs": [],
   "source": [
    "attacking_efficiency_chart[\"CONVERSION_RATE\"] = attacking_efficiency_chart[\"CONVERSION_RATE\"] * 100"
   ]
  },
  {
   "cell_type": "code",
   "execution_count": 29,
   "metadata": {},
   "outputs": [
    {
     "name": "stdout",
     "output_type": "stream",
     "text": [
      "Upsert completed. 292 rows processed.\n"
     ]
    }
   ],
   "source": [
    "upsert_to_snowflake(\"TEAM_ATTACKING_EFFICIENCY_CHART\", attacking_efficiency_chart,\n",
    "                    ['SEASON', 'COMPETITION_ACRONYM', 'TEAM_NAME'])"
   ]
  },
  {
   "cell_type": "code",
   "execution_count": 29,
   "metadata": {},
   "outputs": [],
   "source": [
    "attacking_efficiency_chart = fetch_data(cursor, 'SELECT * FROM GEGENSTATS.RADAR_CHARTS.TEAM_ATTACKING_EFFICIENCY_CHART')"
   ]
  },
  {
   "cell_type": "code",
   "execution_count": 30,
   "metadata": {},
   "outputs": [],
   "source": [
    "attacking_efficiency_chart.rename(columns={'CONVERSION_RATE':'CONVERSION RATE (%)',\n",
    "                                'SHOTS_PER_GAME':'SHOTS PER GAME'}, inplace=True)"
   ]
  },
  {
   "cell_type": "code",
   "execution_count": 31,
   "metadata": {},
   "outputs": [],
   "source": [
    "def create_FM_team_scatter_chart(df, chart_name, team_name, x_axis_label, y_axis_label, img_size, x_min, x_max, y_min, y_max, bottom_left_label, \n",
    "                                 bottom_right_label, top_left_label, top_right_label, bl_color, br_color, tl_color, tr_color):\n",
    "    fig = go.Figure()\n",
    "    x_axis_mean_val = df[x_axis_label].mean()\n",
    "    y_axis_mean_val = df[y_axis_label].mean()\n",
    "\n",
    "    # Add the scatter plot points\n",
    "    for index, row in df.iterrows():\n",
    "        fig.add_trace(go.Scatter(\n",
    "            x=[row[x_axis_label]],\n",
    "            y=[row[y_axis_label]],\n",
    "            mode='markers',\n",
    "            text=row[\"TEAM_NAME\"],\n",
    "            marker=dict(\n",
    "                opacity=0\n",
    "            ),\n",
    "            hoverinfo='text',\n",
    "        ))\n",
    "\n",
    "        # Add team logo as a layout_image\n",
    "        fig.add_layout_image(\n",
    "            dict(\n",
    "                source=row[\"TEAM_LOGO_URL\"],\n",
    "                x=row[x_axis_label],\n",
    "                y=row[y_axis_label],\n",
    "                xref=\"x\",\n",
    "                yref=\"y\",\n",
    "                xanchor=\"center\",\n",
    "                yanchor=\"middle\"\n",
    "            )\n",
    "        )\n",
    "\n",
    "\n",
    "    # Update axes and layout as necessary\n",
    "    # ...\n",
    "        \n",
    "    fig.update_xaxes(range=[x_min, x_max], title=x_axis_label)\n",
    "    fig.update_yaxes(range=[y_min, y_max], title=y_axis_label)\n",
    "\n",
    "    fig.add_shape(\n",
    "        type='line',\n",
    "        x0=x_axis_mean_val, y0=fig.layout.yaxis.range[0],  # start of the line\n",
    "        x1=x_axis_mean_val, y1=fig.layout.yaxis.range[1],  # end of the line\n",
    "        line=dict(color='White', width=3),\n",
    "        layer='below'\n",
    "    )\n",
    "\n",
    "    # Add a horizontal line at the mean aerials attempted per game\n",
    "    fig.add_shape(\n",
    "        type='line',\n",
    "        x0=fig.layout.xaxis.range[0], y0=y_axis_mean_val,  # start of the line\n",
    "        x1=fig.layout.xaxis.range[1], y1=y_axis_mean_val,  # end of the line\n",
    "        line=dict(color='White', width=3),\n",
    "        layer='below'\n",
    "    )\n",
    "\n",
    "    fig.update_layout(\n",
    "        width=625,\n",
    "        height=625,\n",
    "        showlegend=False,\n",
    "        paper_bgcolor='rgb(70, 70, 70)',\n",
    "        plot_bgcolor='rgb(70, 70, 70)',\n",
    "        font=dict(\n",
    "                family=\"Roboto, sans-serif\",  # Specify the font family\n",
    "                size=25,                     # Specify the font size\n",
    "                color=\"white\"                # Specify the font color\n",
    "            ),\n",
    "        hoverlabel=dict(\n",
    "                bgcolor=\"rgba(20, 20, 20, 0.8)\",\n",
    "                font_family=\"Roboto, sans-serif\"),\n",
    "        title={\n",
    "            'text': f'{chart_name}',\n",
    "            'y':0.98,  # Sets the y position of the title (1 is the top of the figure)\n",
    "            'x':0.5,  # Centers the title horizontally (0.5 is the center of the figure)\n",
    "            'xanchor': 'center',  # Ensures the title is centered at the x position\n",
    "            'yanchor': 'top',  # Ensures the title is at the top of the y position\n",
    "            'font': dict(\n",
    "                family=\"Roboto, sans-serif\",  # Specify the font family\n",
    "                size=23,                     # Specify the font size\n",
    "                color=\"white\"                # Specify the font color\n",
    "            )\n",
    "        },\n",
    "        margin=dict(l=10, r=30, t=50, b=10),\n",
    "        images= [dict(\n",
    "            source= row[\"TEAM_LOGO_URL\"],\n",
    "            xref=\"x\",\n",
    "            yref=\"y\",\n",
    "            x= row[x_axis_label],\n",
    "            y= row[y_axis_label],\n",
    "            sizex=img_size*1.8 if row['TEAM_NAME'] == team_name else img_size,  # The size of the image in x axis units\n",
    "            sizey=img_size*1.8 if row['TEAM_NAME'] == team_name else img_size,  # The size of the image in y axis units\n",
    "            sizing=\"contain\",\n",
    "            opacity=1 if row['TEAM_NAME'] == team_name else 0.35,\n",
    "            layer=\"above\") for index, row in df.iterrows()]\n",
    "    )\n",
    "\n",
    "    fig.update_xaxes(\n",
    "        title=dict(font=dict(size=25)),\n",
    "        showline=True,  # Show the axis line\n",
    "        linewidth=2,  # Width of the axis line\n",
    "        linecolor='white',  # Color of the axis line\n",
    "        gridcolor='rgba(0,0,0,0)',  # Set grid line color to transparent\n",
    "        tickfont=dict(color='white', size=15),  # Set the color of the axis ticks (numbers)\n",
    "    )\n",
    "\n",
    "    fig.update_yaxes(\n",
    "        title=dict(font=dict(size=25)),\n",
    "        showline=True,\n",
    "        linewidth=2,\n",
    "        linecolor='white',\n",
    "        gridcolor='rgba(0,0,0,0)',\n",
    "        tickfont=dict(color='white', size=15),\n",
    "    )\n",
    "\n",
    "    fig.add_annotation(text=bottom_left_label,\n",
    "                    xref=\"paper\", yref=\"paper\",\n",
    "                    x=0, y=0,  # Bottom left corner\n",
    "                    showarrow=False,\n",
    "                    font=dict(size=15, color=bl_color, family=\"Roboto, sans-serif\"),\n",
    "                    align=\"left\")\n",
    "\n",
    "    fig.add_annotation(text=top_left_label,\n",
    "                    xref=\"paper\", yref=\"paper\",\n",
    "                    x=0, y=1,  # Top left corner\n",
    "                    showarrow=False,\n",
    "                    font=dict(size=15, color=tl_color, family=\"Roboto, sans-serif\"),\n",
    "                    align=\"left\")\n",
    "\n",
    "    fig.add_annotation(text=top_right_label,\n",
    "                    xref=\"paper\", yref=\"paper\",\n",
    "                    x=1, y=1,  # Top right corner\n",
    "                    showarrow=False,\n",
    "                    font=dict(size=15, color=tr_color, family=\"Roboto, sans-serif\"),\n",
    "                    align=\"right\")\n",
    "\n",
    "    fig.add_annotation(text=bottom_right_label,\n",
    "                    xref=\"paper\", yref=\"paper\",\n",
    "                    x=1, y=0,  # Bottom right corner\n",
    "                    showarrow=False,\n",
    "                    font=dict(size=15, color=br_color, family=\"Roboto, sans-serif\"),\n",
    "                    align=\"right\")\n",
    "\n",
    "    return fig"
   ]
  },
  {
   "cell_type": "code",
   "execution_count": 32,
   "metadata": {},
   "outputs": [
    {
     "data": {
      "text/html": [
       "<div>\n",
       "<style scoped>\n",
       "    .dataframe tbody tr th:only-of-type {\n",
       "        vertical-align: middle;\n",
       "    }\n",
       "\n",
       "    .dataframe tbody tr th {\n",
       "        vertical-align: top;\n",
       "    }\n",
       "\n",
       "    .dataframe thead th {\n",
       "        text-align: right;\n",
       "    }\n",
       "</style>\n",
       "<table border=\"1\" class=\"dataframe\">\n",
       "  <thead>\n",
       "    <tr style=\"text-align: right;\">\n",
       "      <th></th>\n",
       "      <th>SEASON</th>\n",
       "      <th>COMPETITION_ACRONYM</th>\n",
       "      <th>TEAM_NAME</th>\n",
       "      <th>TEAM_LOGO_URL</th>\n",
       "      <th>SHOTS PER GAME</th>\n",
       "      <th>CONVERSION RATE (%)</th>\n",
       "    </tr>\n",
       "  </thead>\n",
       "  <tbody>\n",
       "    <tr>\n",
       "      <th>0</th>\n",
       "      <td>2223</td>\n",
       "      <td>Ligue 1</td>\n",
       "      <td>Ajaccio</td>\n",
       "      <td>https://i.imgur.com/FSm4pRb.png</td>\n",
       "      <td>8.184211</td>\n",
       "      <td>7.395498</td>\n",
       "    </tr>\n",
       "    <tr>\n",
       "      <th>1</th>\n",
       "      <td>2223</td>\n",
       "      <td>Ligue 1</td>\n",
       "      <td>Paris S-G</td>\n",
       "      <td>https://i.imgur.com/kuN3QSp.png</td>\n",
       "      <td>14.789474</td>\n",
       "      <td>15.836299</td>\n",
       "    </tr>\n",
       "    <tr>\n",
       "      <th>2</th>\n",
       "      <td>2223</td>\n",
       "      <td>Ligue 1</td>\n",
       "      <td>Lorient</td>\n",
       "      <td>https://i.imgur.com/9k1Kgp6.png</td>\n",
       "      <td>10.447368</td>\n",
       "      <td>13.098237</td>\n",
       "    </tr>\n",
       "    <tr>\n",
       "      <th>3</th>\n",
       "      <td>2223</td>\n",
       "      <td>Ligue 1</td>\n",
       "      <td>Brest</td>\n",
       "      <td>https://i.imgur.com/klKUp8n.png</td>\n",
       "      <td>10.973684</td>\n",
       "      <td>10.551559</td>\n",
       "    </tr>\n",
       "    <tr>\n",
       "      <th>4</th>\n",
       "      <td>2223</td>\n",
       "      <td>Ligue 1</td>\n",
       "      <td>Reims</td>\n",
       "      <td>https://i.imgur.com/xULypbI.png</td>\n",
       "      <td>13.578947</td>\n",
       "      <td>8.720930</td>\n",
       "    </tr>\n",
       "  </tbody>\n",
       "</table>\n",
       "</div>"
      ],
      "text/plain": [
       "   SEASON COMPETITION_ACRONYM  TEAM_NAME                    TEAM_LOGO_URL  \\\n",
       "0    2223             Ligue 1    Ajaccio  https://i.imgur.com/FSm4pRb.png   \n",
       "1    2223             Ligue 1  Paris S-G  https://i.imgur.com/kuN3QSp.png   \n",
       "2    2223             Ligue 1    Lorient  https://i.imgur.com/9k1Kgp6.png   \n",
       "3    2223             Ligue 1      Brest  https://i.imgur.com/klKUp8n.png   \n",
       "4    2223             Ligue 1      Reims  https://i.imgur.com/xULypbI.png   \n",
       "\n",
       "   SHOTS PER GAME  CONVERSION RATE (%)  \n",
       "0        8.184211             7.395498  \n",
       "1       14.789474            15.836299  \n",
       "2       10.447368            13.098237  \n",
       "3       10.973684            10.551559  \n",
       "4       13.578947             8.720930  "
      ]
     },
     "execution_count": 32,
     "metadata": {},
     "output_type": "execute_result"
    }
   ],
   "source": [
    "attacking_efficiency_chart.head()"
   ]
  },
  {
   "cell_type": "code",
   "execution_count": 33,
   "metadata": {},
   "outputs": [],
   "source": [
    "season_selected = 2324\n",
    "league_selected = \"EPL\""
   ]
  },
  {
   "cell_type": "code",
   "execution_count": 34,
   "metadata": {},
   "outputs": [],
   "source": [
    "filt_attacking_efficiency_chart = attacking_efficiency_chart[attacking_efficiency_chart['SEASON'] == season_selected]\n",
    "filt_attacking_efficiency_chart = filt_attacking_efficiency_chart[filt_attacking_efficiency_chart['COMPETITION_ACRONYM'] == league_selected]"
   ]
  },
  {
   "cell_type": "code",
   "execution_count": 35,
   "metadata": {},
   "outputs": [
    {
     "data": {
      "application/vnd.plotly.v1+json": {
       "config": {
        "plotlyServerURL": "https://plotly.com"
       },
       "data": [
        {
         "hoverinfo": "text",
         "marker": {
          "opacity": 0
         },
         "mode": "markers",
         "text": "Arsenal",
         "type": "scatter",
         "x": [
          14.893617021
         ],
         "y": [
          16.785714286
         ]
        },
        {
         "hoverinfo": "text",
         "marker": {
          "opacity": 0
         },
         "mode": "markers",
         "text": "Aston Villa",
         "type": "scatter",
         "x": [
          14.388489209
         ],
         "y": [
          14.379310345
         ]
        },
        {
         "hoverinfo": "text",
         "marker": {
          "opacity": 0
         },
         "mode": "markers",
         "text": "Bournemouth",
         "type": "scatter",
         "x": [
          10.301507538
         ],
         "y": [
          14.214285714
         ]
        },
        {
         "hoverinfo": "text",
         "marker": {
          "opacity": 0
         },
         "mode": "markers",
         "text": "Brentford",
         "type": "scatter",
         "x": [
          11.452513966
         ],
         "y": [
          12.344827586
         ]
        },
        {
         "hoverinfo": "text",
         "marker": {
          "opacity": 0
         },
         "mode": "markers",
         "text": "Brighton",
         "type": "scatter",
         "x": [
          12.077294686
         ],
         "y": [
          14.785714286
         ]
        },
        {
         "hoverinfo": "text",
         "marker": {
          "opacity": 0
         },
         "mode": "markers",
         "text": "Burnley",
         "type": "scatter",
         "x": [
          9.446254072
         ],
         "y": [
          10.586206897
         ]
        },
        {
         "hoverinfo": "text",
         "marker": {
          "opacity": 0
         },
         "mode": "markers",
         "text": "Chelsea",
         "type": "scatter",
         "x": [
          13.467048711
         ],
         "y": [
          12.925925926
         ]
        },
        {
         "hoverinfo": "text",
         "marker": {
          "opacity": 0
         },
         "mode": "markers",
         "text": "Crystal Palace",
         "type": "scatter",
         "x": [
          10.122699387
         ],
         "y": [
          11.642857143
         ]
        },
        {
         "hoverinfo": "text",
         "marker": {
          "opacity": 0
         },
         "mode": "markers",
         "text": "Everton",
         "type": "scatter",
         "x": [
          7.323232323
         ],
         "y": [
          14.142857143
         ]
        },
        {
         "hoverinfo": "text",
         "marker": {
          "opacity": 0
         },
         "mode": "markers",
         "text": "Fulham",
         "type": "scatter",
         "x": [
          11.559139785
         ],
         "y": [
          12.827586207
         ]
        },
        {
         "hoverinfo": "text",
         "marker": {
          "opacity": 0
         },
         "mode": "markers",
         "text": "Liverpool",
         "type": "scatter",
         "x": [
          12.172284644
         ],
         "y": [
          19.071428571
         ]
        },
        {
         "hoverinfo": "text",
         "marker": {
          "opacity": 0
         },
         "mode": "markers",
         "text": "Luton Town",
         "type": "scatter",
         "x": [
          12.316715543
         ],
         "y": [
          11.75862069
         ]
        },
        {
         "hoverinfo": "text",
         "marker": {
          "opacity": 0
         },
         "mode": "markers",
         "text": "Manchester City",
         "type": "scatter",
         "x": [
          12.625250501
         ],
         "y": [
          17.821428571
         ]
        },
        {
         "hoverinfo": "text",
         "marker": {
          "opacity": 0
         },
         "mode": "markers",
         "text": "Manchester Utd",
         "type": "scatter",
         "x": [
          9.823677582
         ],
         "y": [
          14.178571429
         ]
        },
        {
         "hoverinfo": "text",
         "marker": {
          "opacity": 0
         },
         "mode": "markers",
         "text": "Newcastle Utd",
         "type": "scatter",
         "x": [
          15.81769437
         ],
         "y": [
          13.321428571
         ]
        },
        {
         "hoverinfo": "text",
         "marker": {
          "opacity": 0
         },
         "mode": "markers",
         "text": "Nott'ham Forest",
         "type": "scatter",
         "x": [
          10.869565217
         ],
         "y": [
          11.103448276
         ]
        },
        {
         "hoverinfo": "text",
         "marker": {
          "opacity": 0
         },
         "mode": "markers",
         "text": "Sheffield Utd",
         "type": "scatter",
         "x": [
          9.6
         ],
         "y": [
          8.928571429
         ]
        },
        {
         "hoverinfo": "text",
         "marker": {
          "opacity": 0
         },
         "mode": "markers",
         "text": "Tottenham",
         "type": "scatter",
         "x": [
          13.689095128
         ],
         "y": [
          15.392857143
         ]
        },
        {
         "hoverinfo": "text",
         "marker": {
          "opacity": 0
         },
         "mode": "markers",
         "text": "West Ham",
         "type": "scatter",
         "x": [
          13.372093023
         ],
         "y": [
          11.862068966
         ]
        },
        {
         "hoverinfo": "text",
         "marker": {
          "opacity": 0
         },
         "mode": "markers",
         "text": "Wolves",
         "type": "scatter",
         "x": [
          12.844036697
         ],
         "y": [
          11.678571429
         ]
        }
       ],
       "layout": {
        "annotations": [
         {
          "align": "left",
          "font": {
           "color": "red",
           "family": "Roboto, sans-serif",
           "size": 15
          },
          "showarrow": false,
          "text": "Passive Shooting<br>Wasteful Shooting",
          "x": 0,
          "xref": "paper",
          "y": 0,
          "yref": "paper"
         },
         {
          "align": "left",
          "font": {
           "color": "orange",
           "family": "Roboto, sans-serif",
           "size": 15
          },
          "showarrow": false,
          "text": "Aggressive Shooting<br>Wasteful Shooting",
          "x": 0,
          "xref": "paper",
          "y": 1,
          "yref": "paper"
         },
         {
          "align": "right",
          "font": {
           "color": "green",
           "family": "Roboto, sans-serif",
           "size": 15
          },
          "showarrow": false,
          "text": "Aggressive Shooting<br>Clinical Shooting",
          "x": 1,
          "xref": "paper",
          "y": 1,
          "yref": "paper"
         },
         {
          "align": "right",
          "font": {
           "color": "orange",
           "family": "Roboto, sans-serif",
           "size": 15
          },
          "showarrow": false,
          "text": "Passive Shooting<br>Clinical Shooting",
          "x": 1,
          "xref": "paper",
          "y": 0,
          "yref": "paper"
         }
        ],
        "font": {
         "color": "white",
         "family": "Roboto, sans-serif",
         "size": 25
        },
        "height": 625,
        "hoverlabel": {
         "bgcolor": "rgba(20, 20, 20, 0.8)",
         "font": {
          "family": "Roboto, sans-serif"
         }
        },
        "images": [
         {
          "layer": "above",
          "opacity": 0.35,
          "sizex": 0.7,
          "sizey": 0.7,
          "sizing": "contain",
          "source": "https://i.imgur.com/SURo5sj.png",
          "x": 14.893617021,
          "xanchor": "center",
          "xref": "x",
          "y": 16.785714286,
          "yanchor": "middle",
          "yref": "y"
         },
         {
          "layer": "above",
          "opacity": 0.35,
          "sizex": 0.7,
          "sizey": 0.7,
          "sizing": "contain",
          "source": "https://i.imgur.com/M4mwH1X.png",
          "x": 14.388489209,
          "xanchor": "center",
          "xref": "x",
          "y": 14.379310345,
          "yanchor": "middle",
          "yref": "y"
         },
         {
          "layer": "above",
          "opacity": 0.35,
          "sizex": 0.7,
          "sizey": 0.7,
          "sizing": "contain",
          "source": "https://i.imgur.com/0F6UIO4.png",
          "x": 10.301507538,
          "xanchor": "center",
          "xref": "x",
          "y": 14.214285714,
          "yanchor": "middle",
          "yref": "y"
         },
         {
          "layer": "above",
          "opacity": 0.35,
          "sizex": 0.7,
          "sizey": 0.7,
          "sizing": "contain",
          "source": "https://i.imgur.com/MOhGOQ4.png",
          "x": 11.452513966,
          "xanchor": "center",
          "xref": "x",
          "y": 12.344827586,
          "yanchor": "middle",
          "yref": "y"
         },
         {
          "layer": "above",
          "opacity": 0.35,
          "sizex": 0.7,
          "sizey": 0.7,
          "sizing": "contain",
          "source": "https://i.imgur.com/EMCwD3X.png",
          "x": 12.077294686,
          "xanchor": "center",
          "xref": "x",
          "y": 14.785714286,
          "yanchor": "middle",
          "yref": "y"
         },
         {
          "layer": "above",
          "opacity": 0.35,
          "sizex": 0.7,
          "sizey": 0.7,
          "sizing": "contain",
          "source": "https://i.imgur.com/6IDi9XJ.png",
          "x": 9.446254072,
          "xanchor": "center",
          "xref": "x",
          "y": 10.586206897,
          "yanchor": "middle",
          "yref": "y"
         },
         {
          "layer": "above",
          "opacity": 0.35,
          "sizex": 0.7,
          "sizey": 0.7,
          "sizing": "contain",
          "source": "https://i.imgur.com/6F7h3UR.png",
          "x": 13.467048711,
          "xanchor": "center",
          "xref": "x",
          "y": 12.925925926,
          "yanchor": "middle",
          "yref": "y"
         },
         {
          "layer": "above",
          "opacity": 0.35,
          "sizex": 0.7,
          "sizey": 0.7,
          "sizing": "contain",
          "source": "https://i.imgur.com/LPhzr0K.png",
          "x": 10.122699387,
          "xanchor": "center",
          "xref": "x",
          "y": 11.642857143,
          "yanchor": "middle",
          "yref": "y"
         },
         {
          "layer": "above",
          "opacity": 0.35,
          "sizex": 0.7,
          "sizey": 0.7,
          "sizing": "contain",
          "source": "https://i.imgur.com/Dgei0uj.png",
          "x": 7.323232323,
          "xanchor": "center",
          "xref": "x",
          "y": 14.142857143,
          "yanchor": "middle",
          "yref": "y"
         },
         {
          "layer": "above",
          "opacity": 0.35,
          "sizex": 0.7,
          "sizey": 0.7,
          "sizing": "contain",
          "source": "https://i.imgur.com/2zggSrF.png",
          "x": 11.559139785,
          "xanchor": "center",
          "xref": "x",
          "y": 12.827586207,
          "yanchor": "middle",
          "yref": "y"
         },
         {
          "layer": "above",
          "opacity": 0.35,
          "sizex": 0.7,
          "sizey": 0.7,
          "sizing": "contain",
          "source": "https://i.imgur.com/fs7VK9G.png",
          "x": 12.172284644,
          "xanchor": "center",
          "xref": "x",
          "y": 19.071428571,
          "yanchor": "middle",
          "yref": "y"
         },
         {
          "layer": "above",
          "opacity": 0.35,
          "sizex": 0.7,
          "sizey": 0.7,
          "sizing": "contain",
          "source": "https://i.imgur.com/vHHqKJX.png",
          "x": 12.316715543,
          "xanchor": "center",
          "xref": "x",
          "y": 11.75862069,
          "yanchor": "middle",
          "yref": "y"
         },
         {
          "layer": "above",
          "opacity": 0.35,
          "sizex": 0.7,
          "sizey": 0.7,
          "sizing": "contain",
          "source": "https://i.imgur.com/FF8z7uZ.png",
          "x": 12.625250501,
          "xanchor": "center",
          "xref": "x",
          "y": 17.821428571,
          "yanchor": "middle",
          "yref": "y"
         },
         {
          "layer": "above",
          "opacity": 0.35,
          "sizex": 0.7,
          "sizey": 0.7,
          "sizing": "contain",
          "source": "https://i.imgur.com/z47emBQ.png",
          "x": 9.823677582,
          "xanchor": "center",
          "xref": "x",
          "y": 14.178571429,
          "yanchor": "middle",
          "yref": "y"
         },
         {
          "layer": "above",
          "opacity": 0.35,
          "sizex": 0.7,
          "sizey": 0.7,
          "sizing": "contain",
          "source": "https://i.imgur.com/3kOLokZ.png",
          "x": 15.81769437,
          "xanchor": "center",
          "xref": "x",
          "y": 13.321428571,
          "yanchor": "middle",
          "yref": "y"
         },
         {
          "layer": "above",
          "opacity": 0.35,
          "sizex": 0.7,
          "sizey": 0.7,
          "sizing": "contain",
          "source": "https://i.imgur.com/z4Tl9Zu.png",
          "x": 10.869565217,
          "xanchor": "center",
          "xref": "x",
          "y": 11.103448276,
          "yanchor": "middle",
          "yref": "y"
         },
         {
          "layer": "above",
          "opacity": 0.35,
          "sizex": 0.7,
          "sizey": 0.7,
          "sizing": "contain",
          "source": "https://i.imgur.com/eeBetFN.png",
          "x": 9.6,
          "xanchor": "center",
          "xref": "x",
          "y": 8.928571429,
          "yanchor": "middle",
          "yref": "y"
         },
         {
          "layer": "above",
          "opacity": 0.35,
          "sizex": 0.7,
          "sizey": 0.7,
          "sizing": "contain",
          "source": "https://i.imgur.com/fJ7rUWW.png",
          "x": 13.689095128,
          "xanchor": "center",
          "xref": "x",
          "y": 15.392857143,
          "yanchor": "middle",
          "yref": "y"
         },
         {
          "layer": "above",
          "opacity": 0.35,
          "sizex": 0.7,
          "sizey": 0.7,
          "sizing": "contain",
          "source": "https://i.imgur.com/9BQHJRl.png",
          "x": 13.372093023,
          "xanchor": "center",
          "xref": "x",
          "y": 11.862068966,
          "yanchor": "middle",
          "yref": "y"
         },
         {
          "layer": "above",
          "opacity": 0.35,
          "sizex": 0.7,
          "sizey": 0.7,
          "sizing": "contain",
          "source": "https://i.imgur.com/6azSF88.png",
          "x": 12.844036697,
          "xanchor": "center",
          "xref": "x",
          "y": 11.678571429,
          "yanchor": "middle",
          "yref": "y"
         }
        ],
        "margin": {
         "b": 10,
         "l": 10,
         "r": 30,
         "t": 50
        },
        "paper_bgcolor": "rgb(70, 70, 70)",
        "plot_bgcolor": "rgb(70, 70, 70)",
        "shapes": [
         {
          "layer": "below",
          "line": {
           "color": "White",
           "width": 3
          },
          "type": "line",
          "x0": 11.90811047015,
          "x1": 11.90811047015,
          "y0": 7,
          "y1": 21
         },
         {
          "layer": "below",
          "line": {
           "color": "White",
           "width": 3
          },
          "type": "line",
          "x0": 5,
          "x1": 20,
          "y0": 13.4876140304,
          "y1": 13.4876140304
         }
        ],
        "showlegend": false,
        "template": {
         "data": {
          "bar": [
           {
            "error_x": {
             "color": "#2a3f5f"
            },
            "error_y": {
             "color": "#2a3f5f"
            },
            "marker": {
             "line": {
              "color": "#E5ECF6",
              "width": 0.5
             },
             "pattern": {
              "fillmode": "overlay",
              "size": 10,
              "solidity": 0.2
             }
            },
            "type": "bar"
           }
          ],
          "barpolar": [
           {
            "marker": {
             "line": {
              "color": "#E5ECF6",
              "width": 0.5
             },
             "pattern": {
              "fillmode": "overlay",
              "size": 10,
              "solidity": 0.2
             }
            },
            "type": "barpolar"
           }
          ],
          "carpet": [
           {
            "aaxis": {
             "endlinecolor": "#2a3f5f",
             "gridcolor": "white",
             "linecolor": "white",
             "minorgridcolor": "white",
             "startlinecolor": "#2a3f5f"
            },
            "baxis": {
             "endlinecolor": "#2a3f5f",
             "gridcolor": "white",
             "linecolor": "white",
             "minorgridcolor": "white",
             "startlinecolor": "#2a3f5f"
            },
            "type": "carpet"
           }
          ],
          "choropleth": [
           {
            "colorbar": {
             "outlinewidth": 0,
             "ticks": ""
            },
            "type": "choropleth"
           }
          ],
          "contour": [
           {
            "colorbar": {
             "outlinewidth": 0,
             "ticks": ""
            },
            "colorscale": [
             [
              0,
              "#0d0887"
             ],
             [
              0.1111111111111111,
              "#46039f"
             ],
             [
              0.2222222222222222,
              "#7201a8"
             ],
             [
              0.3333333333333333,
              "#9c179e"
             ],
             [
              0.4444444444444444,
              "#bd3786"
             ],
             [
              0.5555555555555556,
              "#d8576b"
             ],
             [
              0.6666666666666666,
              "#ed7953"
             ],
             [
              0.7777777777777778,
              "#fb9f3a"
             ],
             [
              0.8888888888888888,
              "#fdca26"
             ],
             [
              1,
              "#f0f921"
             ]
            ],
            "type": "contour"
           }
          ],
          "contourcarpet": [
           {
            "colorbar": {
             "outlinewidth": 0,
             "ticks": ""
            },
            "type": "contourcarpet"
           }
          ],
          "heatmap": [
           {
            "colorbar": {
             "outlinewidth": 0,
             "ticks": ""
            },
            "colorscale": [
             [
              0,
              "#0d0887"
             ],
             [
              0.1111111111111111,
              "#46039f"
             ],
             [
              0.2222222222222222,
              "#7201a8"
             ],
             [
              0.3333333333333333,
              "#9c179e"
             ],
             [
              0.4444444444444444,
              "#bd3786"
             ],
             [
              0.5555555555555556,
              "#d8576b"
             ],
             [
              0.6666666666666666,
              "#ed7953"
             ],
             [
              0.7777777777777778,
              "#fb9f3a"
             ],
             [
              0.8888888888888888,
              "#fdca26"
             ],
             [
              1,
              "#f0f921"
             ]
            ],
            "type": "heatmap"
           }
          ],
          "heatmapgl": [
           {
            "colorbar": {
             "outlinewidth": 0,
             "ticks": ""
            },
            "colorscale": [
             [
              0,
              "#0d0887"
             ],
             [
              0.1111111111111111,
              "#46039f"
             ],
             [
              0.2222222222222222,
              "#7201a8"
             ],
             [
              0.3333333333333333,
              "#9c179e"
             ],
             [
              0.4444444444444444,
              "#bd3786"
             ],
             [
              0.5555555555555556,
              "#d8576b"
             ],
             [
              0.6666666666666666,
              "#ed7953"
             ],
             [
              0.7777777777777778,
              "#fb9f3a"
             ],
             [
              0.8888888888888888,
              "#fdca26"
             ],
             [
              1,
              "#f0f921"
             ]
            ],
            "type": "heatmapgl"
           }
          ],
          "histogram": [
           {
            "marker": {
             "pattern": {
              "fillmode": "overlay",
              "size": 10,
              "solidity": 0.2
             }
            },
            "type": "histogram"
           }
          ],
          "histogram2d": [
           {
            "colorbar": {
             "outlinewidth": 0,
             "ticks": ""
            },
            "colorscale": [
             [
              0,
              "#0d0887"
             ],
             [
              0.1111111111111111,
              "#46039f"
             ],
             [
              0.2222222222222222,
              "#7201a8"
             ],
             [
              0.3333333333333333,
              "#9c179e"
             ],
             [
              0.4444444444444444,
              "#bd3786"
             ],
             [
              0.5555555555555556,
              "#d8576b"
             ],
             [
              0.6666666666666666,
              "#ed7953"
             ],
             [
              0.7777777777777778,
              "#fb9f3a"
             ],
             [
              0.8888888888888888,
              "#fdca26"
             ],
             [
              1,
              "#f0f921"
             ]
            ],
            "type": "histogram2d"
           }
          ],
          "histogram2dcontour": [
           {
            "colorbar": {
             "outlinewidth": 0,
             "ticks": ""
            },
            "colorscale": [
             [
              0,
              "#0d0887"
             ],
             [
              0.1111111111111111,
              "#46039f"
             ],
             [
              0.2222222222222222,
              "#7201a8"
             ],
             [
              0.3333333333333333,
              "#9c179e"
             ],
             [
              0.4444444444444444,
              "#bd3786"
             ],
             [
              0.5555555555555556,
              "#d8576b"
             ],
             [
              0.6666666666666666,
              "#ed7953"
             ],
             [
              0.7777777777777778,
              "#fb9f3a"
             ],
             [
              0.8888888888888888,
              "#fdca26"
             ],
             [
              1,
              "#f0f921"
             ]
            ],
            "type": "histogram2dcontour"
           }
          ],
          "mesh3d": [
           {
            "colorbar": {
             "outlinewidth": 0,
             "ticks": ""
            },
            "type": "mesh3d"
           }
          ],
          "parcoords": [
           {
            "line": {
             "colorbar": {
              "outlinewidth": 0,
              "ticks": ""
             }
            },
            "type": "parcoords"
           }
          ],
          "pie": [
           {
            "automargin": true,
            "type": "pie"
           }
          ],
          "scatter": [
           {
            "fillpattern": {
             "fillmode": "overlay",
             "size": 10,
             "solidity": 0.2
            },
            "type": "scatter"
           }
          ],
          "scatter3d": [
           {
            "line": {
             "colorbar": {
              "outlinewidth": 0,
              "ticks": ""
             }
            },
            "marker": {
             "colorbar": {
              "outlinewidth": 0,
              "ticks": ""
             }
            },
            "type": "scatter3d"
           }
          ],
          "scattercarpet": [
           {
            "marker": {
             "colorbar": {
              "outlinewidth": 0,
              "ticks": ""
             }
            },
            "type": "scattercarpet"
           }
          ],
          "scattergeo": [
           {
            "marker": {
             "colorbar": {
              "outlinewidth": 0,
              "ticks": ""
             }
            },
            "type": "scattergeo"
           }
          ],
          "scattergl": [
           {
            "marker": {
             "colorbar": {
              "outlinewidth": 0,
              "ticks": ""
             }
            },
            "type": "scattergl"
           }
          ],
          "scattermapbox": [
           {
            "marker": {
             "colorbar": {
              "outlinewidth": 0,
              "ticks": ""
             }
            },
            "type": "scattermapbox"
           }
          ],
          "scatterpolar": [
           {
            "marker": {
             "colorbar": {
              "outlinewidth": 0,
              "ticks": ""
             }
            },
            "type": "scatterpolar"
           }
          ],
          "scatterpolargl": [
           {
            "marker": {
             "colorbar": {
              "outlinewidth": 0,
              "ticks": ""
             }
            },
            "type": "scatterpolargl"
           }
          ],
          "scatterternary": [
           {
            "marker": {
             "colorbar": {
              "outlinewidth": 0,
              "ticks": ""
             }
            },
            "type": "scatterternary"
           }
          ],
          "surface": [
           {
            "colorbar": {
             "outlinewidth": 0,
             "ticks": ""
            },
            "colorscale": [
             [
              0,
              "#0d0887"
             ],
             [
              0.1111111111111111,
              "#46039f"
             ],
             [
              0.2222222222222222,
              "#7201a8"
             ],
             [
              0.3333333333333333,
              "#9c179e"
             ],
             [
              0.4444444444444444,
              "#bd3786"
             ],
             [
              0.5555555555555556,
              "#d8576b"
             ],
             [
              0.6666666666666666,
              "#ed7953"
             ],
             [
              0.7777777777777778,
              "#fb9f3a"
             ],
             [
              0.8888888888888888,
              "#fdca26"
             ],
             [
              1,
              "#f0f921"
             ]
            ],
            "type": "surface"
           }
          ],
          "table": [
           {
            "cells": {
             "fill": {
              "color": "#EBF0F8"
             },
             "line": {
              "color": "white"
             }
            },
            "header": {
             "fill": {
              "color": "#C8D4E3"
             },
             "line": {
              "color": "white"
             }
            },
            "type": "table"
           }
          ]
         },
         "layout": {
          "annotationdefaults": {
           "arrowcolor": "#2a3f5f",
           "arrowhead": 0,
           "arrowwidth": 1
          },
          "autotypenumbers": "strict",
          "coloraxis": {
           "colorbar": {
            "outlinewidth": 0,
            "ticks": ""
           }
          },
          "colorscale": {
           "diverging": [
            [
             0,
             "#8e0152"
            ],
            [
             0.1,
             "#c51b7d"
            ],
            [
             0.2,
             "#de77ae"
            ],
            [
             0.3,
             "#f1b6da"
            ],
            [
             0.4,
             "#fde0ef"
            ],
            [
             0.5,
             "#f7f7f7"
            ],
            [
             0.6,
             "#e6f5d0"
            ],
            [
             0.7,
             "#b8e186"
            ],
            [
             0.8,
             "#7fbc41"
            ],
            [
             0.9,
             "#4d9221"
            ],
            [
             1,
             "#276419"
            ]
           ],
           "sequential": [
            [
             0,
             "#0d0887"
            ],
            [
             0.1111111111111111,
             "#46039f"
            ],
            [
             0.2222222222222222,
             "#7201a8"
            ],
            [
             0.3333333333333333,
             "#9c179e"
            ],
            [
             0.4444444444444444,
             "#bd3786"
            ],
            [
             0.5555555555555556,
             "#d8576b"
            ],
            [
             0.6666666666666666,
             "#ed7953"
            ],
            [
             0.7777777777777778,
             "#fb9f3a"
            ],
            [
             0.8888888888888888,
             "#fdca26"
            ],
            [
             1,
             "#f0f921"
            ]
           ],
           "sequentialminus": [
            [
             0,
             "#0d0887"
            ],
            [
             0.1111111111111111,
             "#46039f"
            ],
            [
             0.2222222222222222,
             "#7201a8"
            ],
            [
             0.3333333333333333,
             "#9c179e"
            ],
            [
             0.4444444444444444,
             "#bd3786"
            ],
            [
             0.5555555555555556,
             "#d8576b"
            ],
            [
             0.6666666666666666,
             "#ed7953"
            ],
            [
             0.7777777777777778,
             "#fb9f3a"
            ],
            [
             0.8888888888888888,
             "#fdca26"
            ],
            [
             1,
             "#f0f921"
            ]
           ]
          },
          "colorway": [
           "#636efa",
           "#EF553B",
           "#00cc96",
           "#ab63fa",
           "#FFA15A",
           "#19d3f3",
           "#FF6692",
           "#B6E880",
           "#FF97FF",
           "#FECB52"
          ],
          "font": {
           "color": "#2a3f5f"
          },
          "geo": {
           "bgcolor": "white",
           "lakecolor": "white",
           "landcolor": "#E5ECF6",
           "showlakes": true,
           "showland": true,
           "subunitcolor": "white"
          },
          "hoverlabel": {
           "align": "left"
          },
          "hovermode": "closest",
          "mapbox": {
           "style": "light"
          },
          "paper_bgcolor": "white",
          "plot_bgcolor": "#E5ECF6",
          "polar": {
           "angularaxis": {
            "gridcolor": "white",
            "linecolor": "white",
            "ticks": ""
           },
           "bgcolor": "#E5ECF6",
           "radialaxis": {
            "gridcolor": "white",
            "linecolor": "white",
            "ticks": ""
           }
          },
          "scene": {
           "xaxis": {
            "backgroundcolor": "#E5ECF6",
            "gridcolor": "white",
            "gridwidth": 2,
            "linecolor": "white",
            "showbackground": true,
            "ticks": "",
            "zerolinecolor": "white"
           },
           "yaxis": {
            "backgroundcolor": "#E5ECF6",
            "gridcolor": "white",
            "gridwidth": 2,
            "linecolor": "white",
            "showbackground": true,
            "ticks": "",
            "zerolinecolor": "white"
           },
           "zaxis": {
            "backgroundcolor": "#E5ECF6",
            "gridcolor": "white",
            "gridwidth": 2,
            "linecolor": "white",
            "showbackground": true,
            "ticks": "",
            "zerolinecolor": "white"
           }
          },
          "shapedefaults": {
           "line": {
            "color": "#2a3f5f"
           }
          },
          "ternary": {
           "aaxis": {
            "gridcolor": "white",
            "linecolor": "white",
            "ticks": ""
           },
           "baxis": {
            "gridcolor": "white",
            "linecolor": "white",
            "ticks": ""
           },
           "bgcolor": "#E5ECF6",
           "caxis": {
            "gridcolor": "white",
            "linecolor": "white",
            "ticks": ""
           }
          },
          "title": {
           "x": 0.05
          },
          "xaxis": {
           "automargin": true,
           "gridcolor": "white",
           "linecolor": "white",
           "ticks": "",
           "title": {
            "standoff": 15
           },
           "zerolinecolor": "white",
           "zerolinewidth": 2
          },
          "yaxis": {
           "automargin": true,
           "gridcolor": "white",
           "linecolor": "white",
           "ticks": "",
           "title": {
            "standoff": 15
           },
           "zerolinecolor": "white",
           "zerolinewidth": 2
          }
         }
        },
        "title": {
         "font": {
          "color": "white",
          "family": "Roboto, sans-serif",
          "size": 23
         },
         "text": "ATTACKING EFFICIENCY",
         "x": 0.5,
         "xanchor": "center",
         "y": 0.98,
         "yanchor": "top"
        },
        "width": 625,
        "xaxis": {
         "gridcolor": "rgba(0,0,0,0)",
         "linecolor": "white",
         "linewidth": 2,
         "range": [
          5,
          20
         ],
         "showline": true,
         "tickfont": {
          "color": "white",
          "size": 15
         },
         "title": {
          "font": {
           "size": 25
          },
          "text": "CONVERSION RATE (%)"
         }
        },
        "yaxis": {
         "gridcolor": "rgba(0,0,0,0)",
         "linecolor": "white",
         "linewidth": 2,
         "range": [
          7,
          21
         ],
         "showline": true,
         "tickfont": {
          "color": "white",
          "size": 15
         },
         "title": {
          "font": {
           "size": 25
          },
          "text": "SHOTS PER GAME"
         }
        }
       }
      }
     },
     "metadata": {},
     "output_type": "display_data"
    }
   ],
   "source": [
    "create_FM_team_scatter_chart(filt_attacking_efficiency_chart, 'ATTACKING EFFICIENCY', \"AC Milan\", \n",
    "                             'CONVERSION RATE (%)', 'SHOTS PER GAME', 0.7, 5, 20, 7, 21, \n",
    "                                                        \"Passive Shooting<br>Wasteful Shooting\", \n",
    "                                                        \"Passive Shooting<br>Clinical Shooting\",\n",
    "                                                        \"Aggressive Shooting<br>Wasteful Shooting\",\n",
    "                                                        \"Aggressive Shooting<br>Clinical Shooting\",\n",
    "                                                        \"red\", \"orange\", \"orange\", \"green\")\n"
   ]
  },
  {
   "cell_type": "code",
   "execution_count": 36,
   "metadata": {},
   "outputs": [],
   "source": [
    "team_attacking['GOALS PER GAME'] = team_attacking['GOALS_SCORED']/team_attacking['MATCHES_PLAYED']\n",
    "team_attacking['NPXG PER GAME'] = team_attacking['NPXG']/team_attacking['MATCHES_PLAYED']"
   ]
  },
  {
   "cell_type": "code",
   "execution_count": 37,
   "metadata": {},
   "outputs": [],
   "source": [
    "scoring_chart = team_attacking[['SEASON', 'COMPETITION_ACRONYM', 'TEAM_NAME', 'TEAM_LOGO_URL',\n",
    "                                            'GOALS PER GAME', 'NPXG PER GAME']]"
   ]
  },
  {
   "cell_type": "code",
   "execution_count": 39,
   "metadata": {},
   "outputs": [],
   "source": [
    "create_table_query = \"\"\"\n",
    "CREATE TABLE IF NOT EXISTS TEAM_SCORING_CHART (\n",
    "    SEASON INT,\n",
    "    COMPETITION_ACRONYM VARCHAR(255),\n",
    "    TEAM_NAME VARCHAR(255),\n",
    "    TEAM_LOGO_URL VARCHAR(255),\n",
    "    GOALS_PER_GAME FLOAT,\n",
    "    NPXG_PER_GAME FLOAT,\n",
    "    PRIMARY KEY (SEASON, COMPETITION_ACRONYM, TEAM_NAME)\n",
    ");\n",
    "\"\"\""
   ]
  },
  {
   "cell_type": "code",
   "execution_count": 40,
   "metadata": {},
   "outputs": [
    {
     "data": {
      "text/plain": [
       "<snowflake.connector.cursor.SnowflakeCursor at 0x27493039710>"
      ]
     },
     "execution_count": 40,
     "metadata": {},
     "output_type": "execute_result"
    }
   ],
   "source": [
    "cur.execute(create_table_query)"
   ]
  },
  {
   "cell_type": "code",
   "execution_count": 41,
   "metadata": {},
   "outputs": [],
   "source": [
    "scoring_chart.columns = scoring_chart.columns.str.replace(\" \", \"_\")"
   ]
  },
  {
   "cell_type": "code",
   "execution_count": 42,
   "metadata": {},
   "outputs": [
    {
     "name": "stdout",
     "output_type": "stream",
     "text": [
      "Upsert completed. 292 rows processed.\n"
     ]
    }
   ],
   "source": [
    "upsert_to_snowflake(\"TEAM_SCORING_CHART\", scoring_chart, ['SEASON', 'COMPETITION_ACRONYM', 'TEAM_NAME'])"
   ]
  },
  {
   "cell_type": "code",
   "execution_count": 43,
   "metadata": {},
   "outputs": [],
   "source": [
    "scoring_chart = fetch_data(cursor, 'SELECT * FROM GEGENSTATS.RADAR_CHARTS.TEAM_SCORING_CHART')"
   ]
  },
  {
   "cell_type": "code",
   "execution_count": 44,
   "metadata": {},
   "outputs": [],
   "source": [
    "scoring_chart.rename(columns={'GOALS_PER_GAME':'GOALS PER GAME','NPXG_PER_GAME':'NPXG PER GAME'}, inplace=True)"
   ]
  },
  {
   "cell_type": "code",
   "execution_count": 45,
   "metadata": {},
   "outputs": [],
   "source": [
    "filt_scoring_chart = scoring_chart[scoring_chart['SEASON'] == season_selected]\n",
    "filt_scoring_chart = filt_scoring_chart[filt_scoring_chart['COMPETITION_ACRONYM'] == league_selected]"
   ]
  },
  {
   "cell_type": "code",
   "execution_count": 46,
   "metadata": {},
   "outputs": [
    {
     "data": {
      "application/vnd.plotly.v1+json": {
       "config": {
        "plotlyServerURL": "https://plotly.com"
       },
       "data": [
        {
         "hoverinfo": "text",
         "marker": {
          "opacity": 0
         },
         "mode": "markers",
         "text": "Arsenal",
         "type": "scatter",
         "x": [
          1.967857143
         ],
         "y": [
          2.5
         ]
        },
        {
         "hoverinfo": "text",
         "marker": {
          "opacity": 0
         },
         "mode": "markers",
         "text": "Aston Villa",
         "type": "scatter",
         "x": [
          1.834482759
         ],
         "y": [
          2.068965517
         ]
        },
        {
         "hoverinfo": "text",
         "marker": {
          "opacity": 0
         },
         "mode": "markers",
         "text": "Bournemouth",
         "type": "scatter",
         "x": [
          1.644642857
         ],
         "y": [
          1.464285714
         ]
        },
        {
         "hoverinfo": "text",
         "marker": {
          "opacity": 0
         },
         "mode": "markers",
         "text": "Brentford",
         "type": "scatter",
         "x": [
          1.61137931
         ],
         "y": [
          1.413793103
         ]
        },
        {
         "hoverinfo": "text",
         "marker": {
          "opacity": 0
         },
         "mode": "markers",
         "text": "Brighton",
         "type": "scatter",
         "x": [
          1.619642857
         ],
         "y": [
          1.785714286
         ]
        },
        {
         "hoverinfo": "text",
         "marker": {
          "opacity": 0
         },
         "mode": "markers",
         "text": "Burnley",
         "type": "scatter",
         "x": [
          0.9948275862
         ],
         "y": [
          1
         ]
        },
        {
         "hoverinfo": "text",
         "marker": {
          "opacity": 0
         },
         "mode": "markers",
         "text": "Chelsea",
         "type": "scatter",
         "x": [
          1.77
         ],
         "y": [
          1.740740741
         ]
        },
        {
         "hoverinfo": "text",
         "marker": {
          "opacity": 0
         },
         "mode": "markers",
         "text": "Crystal Palace",
         "type": "scatter",
         "x": [
          1.184642857
         ],
         "y": [
          1.178571429
         ]
        },
        {
         "hoverinfo": "text",
         "marker": {
          "opacity": 0
         },
         "mode": "markers",
         "text": "Everton",
         "type": "scatter",
         "x": [
          1.721071429
         ],
         "y": [
          1.035714286
         ]
        },
        {
         "hoverinfo": "text",
         "marker": {
          "opacity": 0
         },
         "mode": "markers",
         "text": "Fulham",
         "type": "scatter",
         "x": [
          1.372413793
         ],
         "y": [
          1.482758621
         ]
        },
        {
         "hoverinfo": "text",
         "marker": {
          "opacity": 0
         },
         "mode": "markers",
         "text": "Liverpool",
         "type": "scatter",
         "x": [
          2.113928571
         ],
         "y": [
          2.321428571
         ]
        },
        {
         "hoverinfo": "text",
         "marker": {
          "opacity": 0
         },
         "mode": "markers",
         "text": "Luton Town",
         "type": "scatter",
         "x": [
          1.343448276
         ],
         "y": [
          1.448275862
         ]
        },
        {
         "hoverinfo": "text",
         "marker": {
          "opacity": 0
         },
         "mode": "markers",
         "text": "Manchester City",
         "type": "scatter",
         "x": [
          2.078928571
         ],
         "y": [
          2.25
         ]
        },
        {
         "hoverinfo": "text",
         "marker": {
          "opacity": 0
         },
         "mode": "markers",
         "text": "Manchester Utd",
         "type": "scatter",
         "x": [
          1.4875
         ],
         "y": [
          1.392857143
         ]
        },
        {
         "hoverinfo": "text",
         "marker": {
          "opacity": 0
         },
         "mode": "markers",
         "text": "Newcastle Utd",
         "type": "scatter",
         "x": [
          1.92
         ],
         "y": [
          2.107142857
         ]
        },
        {
         "hoverinfo": "text",
         "marker": {
          "opacity": 0
         },
         "mode": "markers",
         "text": "Nott'ham Forest",
         "type": "scatter",
         "x": [
          1.226896552
         ],
         "y": [
          1.206896552
         ]
        },
        {
         "hoverinfo": "text",
         "marker": {
          "opacity": 0
         },
         "mode": "markers",
         "text": "Sheffield Utd",
         "type": "scatter",
         "x": [
          0.8757142857
         ],
         "y": [
          0.8571428571
         ]
        },
        {
         "hoverinfo": "text",
         "marker": {
          "opacity": 0
         },
         "mode": "markers",
         "text": "Tottenham",
         "type": "scatter",
         "x": [
          1.902857143
         ],
         "y": [
          2.107142857
         ]
        },
        {
         "hoverinfo": "text",
         "marker": {
          "opacity": 0
         },
         "mode": "markers",
         "text": "West Ham",
         "type": "scatter",
         "x": [
          1.36
         ],
         "y": [
          1.586206897
         ]
        },
        {
         "hoverinfo": "text",
         "marker": {
          "opacity": 0
         },
         "mode": "markers",
         "text": "Wolves",
         "type": "scatter",
         "x": [
          1.358214286
         ],
         "y": [
          1.5
         ]
        }
       ],
       "layout": {
        "annotations": [
         {
          "align": "left",
          "font": {
           "color": "red",
           "family": "Roboto, sans-serif",
           "size": 15
          },
          "showarrow": false,
          "text": "Low Scoring<br>Low NPxG",
          "x": 0,
          "xref": "paper",
          "y": 0,
          "yref": "paper"
         },
         {
          "align": "left",
          "font": {
           "color": "orange",
           "family": "Roboto, sans-serif",
           "size": 15
          },
          "showarrow": false,
          "text": "High Scoring<br>Low NPxG",
          "x": 0,
          "xref": "paper",
          "y": 1,
          "yref": "paper"
         },
         {
          "align": "right",
          "font": {
           "color": "green",
           "family": "Roboto, sans-serif",
           "size": 15
          },
          "showarrow": false,
          "text": "High Scoring<br>High NPxG",
          "x": 1,
          "xref": "paper",
          "y": 1,
          "yref": "paper"
         },
         {
          "align": "right",
          "font": {
           "color": "orange",
           "family": "Roboto, sans-serif",
           "size": 15
          },
          "showarrow": false,
          "text": "Low Scoring<br>High NPxG",
          "x": 1,
          "xref": "paper",
          "y": 0,
          "yref": "paper"
         }
        ],
        "font": {
         "color": "white",
         "family": "Roboto, sans-serif",
         "size": 25
        },
        "height": 625,
        "hoverlabel": {
         "bgcolor": "rgba(20, 20, 20, 0.8)",
         "font": {
          "family": "Roboto, sans-serif"
         }
        },
        "images": [
         {
          "layer": "above",
          "opacity": 0.35,
          "sizex": 0.125,
          "sizey": 0.125,
          "sizing": "contain",
          "source": "https://i.imgur.com/SURo5sj.png",
          "x": 1.967857143,
          "xanchor": "center",
          "xref": "x",
          "y": 2.5,
          "yanchor": "middle",
          "yref": "y"
         },
         {
          "layer": "above",
          "opacity": 0.35,
          "sizex": 0.125,
          "sizey": 0.125,
          "sizing": "contain",
          "source": "https://i.imgur.com/M4mwH1X.png",
          "x": 1.834482759,
          "xanchor": "center",
          "xref": "x",
          "y": 2.068965517,
          "yanchor": "middle",
          "yref": "y"
         },
         {
          "layer": "above",
          "opacity": 0.35,
          "sizex": 0.125,
          "sizey": 0.125,
          "sizing": "contain",
          "source": "https://i.imgur.com/0F6UIO4.png",
          "x": 1.644642857,
          "xanchor": "center",
          "xref": "x",
          "y": 1.464285714,
          "yanchor": "middle",
          "yref": "y"
         },
         {
          "layer": "above",
          "opacity": 0.35,
          "sizex": 0.125,
          "sizey": 0.125,
          "sizing": "contain",
          "source": "https://i.imgur.com/MOhGOQ4.png",
          "x": 1.61137931,
          "xanchor": "center",
          "xref": "x",
          "y": 1.413793103,
          "yanchor": "middle",
          "yref": "y"
         },
         {
          "layer": "above",
          "opacity": 0.35,
          "sizex": 0.125,
          "sizey": 0.125,
          "sizing": "contain",
          "source": "https://i.imgur.com/EMCwD3X.png",
          "x": 1.619642857,
          "xanchor": "center",
          "xref": "x",
          "y": 1.785714286,
          "yanchor": "middle",
          "yref": "y"
         },
         {
          "layer": "above",
          "opacity": 0.35,
          "sizex": 0.125,
          "sizey": 0.125,
          "sizing": "contain",
          "source": "https://i.imgur.com/6IDi9XJ.png",
          "x": 0.9948275862,
          "xanchor": "center",
          "xref": "x",
          "y": 1,
          "yanchor": "middle",
          "yref": "y"
         },
         {
          "layer": "above",
          "opacity": 0.35,
          "sizex": 0.125,
          "sizey": 0.125,
          "sizing": "contain",
          "source": "https://i.imgur.com/6F7h3UR.png",
          "x": 1.77,
          "xanchor": "center",
          "xref": "x",
          "y": 1.740740741,
          "yanchor": "middle",
          "yref": "y"
         },
         {
          "layer": "above",
          "opacity": 0.35,
          "sizex": 0.125,
          "sizey": 0.125,
          "sizing": "contain",
          "source": "https://i.imgur.com/LPhzr0K.png",
          "x": 1.184642857,
          "xanchor": "center",
          "xref": "x",
          "y": 1.178571429,
          "yanchor": "middle",
          "yref": "y"
         },
         {
          "layer": "above",
          "opacity": 0.35,
          "sizex": 0.125,
          "sizey": 0.125,
          "sizing": "contain",
          "source": "https://i.imgur.com/Dgei0uj.png",
          "x": 1.721071429,
          "xanchor": "center",
          "xref": "x",
          "y": 1.035714286,
          "yanchor": "middle",
          "yref": "y"
         },
         {
          "layer": "above",
          "opacity": 0.35,
          "sizex": 0.125,
          "sizey": 0.125,
          "sizing": "contain",
          "source": "https://i.imgur.com/2zggSrF.png",
          "x": 1.372413793,
          "xanchor": "center",
          "xref": "x",
          "y": 1.482758621,
          "yanchor": "middle",
          "yref": "y"
         },
         {
          "layer": "above",
          "opacity": 0.35,
          "sizex": 0.125,
          "sizey": 0.125,
          "sizing": "contain",
          "source": "https://i.imgur.com/fs7VK9G.png",
          "x": 2.113928571,
          "xanchor": "center",
          "xref": "x",
          "y": 2.321428571,
          "yanchor": "middle",
          "yref": "y"
         },
         {
          "layer": "above",
          "opacity": 0.35,
          "sizex": 0.125,
          "sizey": 0.125,
          "sizing": "contain",
          "source": "https://i.imgur.com/vHHqKJX.png",
          "x": 1.343448276,
          "xanchor": "center",
          "xref": "x",
          "y": 1.448275862,
          "yanchor": "middle",
          "yref": "y"
         },
         {
          "layer": "above",
          "opacity": 0.35,
          "sizex": 0.125,
          "sizey": 0.125,
          "sizing": "contain",
          "source": "https://i.imgur.com/FF8z7uZ.png",
          "x": 2.078928571,
          "xanchor": "center",
          "xref": "x",
          "y": 2.25,
          "yanchor": "middle",
          "yref": "y"
         },
         {
          "layer": "above",
          "opacity": 0.35,
          "sizex": 0.125,
          "sizey": 0.125,
          "sizing": "contain",
          "source": "https://i.imgur.com/z47emBQ.png",
          "x": 1.4875,
          "xanchor": "center",
          "xref": "x",
          "y": 1.392857143,
          "yanchor": "middle",
          "yref": "y"
         },
         {
          "layer": "above",
          "opacity": 0.35,
          "sizex": 0.125,
          "sizey": 0.125,
          "sizing": "contain",
          "source": "https://i.imgur.com/3kOLokZ.png",
          "x": 1.92,
          "xanchor": "center",
          "xref": "x",
          "y": 2.107142857,
          "yanchor": "middle",
          "yref": "y"
         },
         {
          "layer": "above",
          "opacity": 0.35,
          "sizex": 0.125,
          "sizey": 0.125,
          "sizing": "contain",
          "source": "https://i.imgur.com/z4Tl9Zu.png",
          "x": 1.226896552,
          "xanchor": "center",
          "xref": "x",
          "y": 1.206896552,
          "yanchor": "middle",
          "yref": "y"
         },
         {
          "layer": "above",
          "opacity": 0.35,
          "sizex": 0.125,
          "sizey": 0.125,
          "sizing": "contain",
          "source": "https://i.imgur.com/eeBetFN.png",
          "x": 0.8757142857,
          "xanchor": "center",
          "xref": "x",
          "y": 0.8571428571,
          "yanchor": "middle",
          "yref": "y"
         },
         {
          "layer": "above",
          "opacity": 0.35,
          "sizex": 0.125,
          "sizey": 0.125,
          "sizing": "contain",
          "source": "https://i.imgur.com/fJ7rUWW.png",
          "x": 1.902857143,
          "xanchor": "center",
          "xref": "x",
          "y": 2.107142857,
          "yanchor": "middle",
          "yref": "y"
         },
         {
          "layer": "above",
          "opacity": 0.35,
          "sizex": 0.125,
          "sizey": 0.125,
          "sizing": "contain",
          "source": "https://i.imgur.com/9BQHJRl.png",
          "x": 1.36,
          "xanchor": "center",
          "xref": "x",
          "y": 1.586206897,
          "yanchor": "middle",
          "yref": "y"
         },
         {
          "layer": "above",
          "opacity": 0.35,
          "sizex": 0.125,
          "sizey": 0.125,
          "sizing": "contain",
          "source": "https://i.imgur.com/6azSF88.png",
          "x": 1.358214286,
          "xanchor": "center",
          "xref": "x",
          "y": 1.5,
          "yanchor": "middle",
          "yref": "y"
         }
        ],
        "margin": {
         "b": 10,
         "l": 10,
         "r": 30,
         "t": 50
        },
        "paper_bgcolor": "rgb(70, 70, 70)",
        "plot_bgcolor": "rgb(70, 70, 70)",
        "shapes": [
         {
          "layer": "below",
          "line": {
           "color": "White",
           "width": 3
          },
          "type": "line",
          "x0": 1.569422413795,
          "x1": 1.569422413795,
          "y0": 0.5,
          "y1": 3.1
         },
         {
          "layer": "below",
          "line": {
           "color": "White",
           "width": 3
          },
          "type": "line",
          "x0": 0.5,
          "x1": 3.1,
          "y0": 1.6223818646550001,
          "y1": 1.6223818646550001
         }
        ],
        "showlegend": false,
        "template": {
         "data": {
          "bar": [
           {
            "error_x": {
             "color": "#2a3f5f"
            },
            "error_y": {
             "color": "#2a3f5f"
            },
            "marker": {
             "line": {
              "color": "#E5ECF6",
              "width": 0.5
             },
             "pattern": {
              "fillmode": "overlay",
              "size": 10,
              "solidity": 0.2
             }
            },
            "type": "bar"
           }
          ],
          "barpolar": [
           {
            "marker": {
             "line": {
              "color": "#E5ECF6",
              "width": 0.5
             },
             "pattern": {
              "fillmode": "overlay",
              "size": 10,
              "solidity": 0.2
             }
            },
            "type": "barpolar"
           }
          ],
          "carpet": [
           {
            "aaxis": {
             "endlinecolor": "#2a3f5f",
             "gridcolor": "white",
             "linecolor": "white",
             "minorgridcolor": "white",
             "startlinecolor": "#2a3f5f"
            },
            "baxis": {
             "endlinecolor": "#2a3f5f",
             "gridcolor": "white",
             "linecolor": "white",
             "minorgridcolor": "white",
             "startlinecolor": "#2a3f5f"
            },
            "type": "carpet"
           }
          ],
          "choropleth": [
           {
            "colorbar": {
             "outlinewidth": 0,
             "ticks": ""
            },
            "type": "choropleth"
           }
          ],
          "contour": [
           {
            "colorbar": {
             "outlinewidth": 0,
             "ticks": ""
            },
            "colorscale": [
             [
              0,
              "#0d0887"
             ],
             [
              0.1111111111111111,
              "#46039f"
             ],
             [
              0.2222222222222222,
              "#7201a8"
             ],
             [
              0.3333333333333333,
              "#9c179e"
             ],
             [
              0.4444444444444444,
              "#bd3786"
             ],
             [
              0.5555555555555556,
              "#d8576b"
             ],
             [
              0.6666666666666666,
              "#ed7953"
             ],
             [
              0.7777777777777778,
              "#fb9f3a"
             ],
             [
              0.8888888888888888,
              "#fdca26"
             ],
             [
              1,
              "#f0f921"
             ]
            ],
            "type": "contour"
           }
          ],
          "contourcarpet": [
           {
            "colorbar": {
             "outlinewidth": 0,
             "ticks": ""
            },
            "type": "contourcarpet"
           }
          ],
          "heatmap": [
           {
            "colorbar": {
             "outlinewidth": 0,
             "ticks": ""
            },
            "colorscale": [
             [
              0,
              "#0d0887"
             ],
             [
              0.1111111111111111,
              "#46039f"
             ],
             [
              0.2222222222222222,
              "#7201a8"
             ],
             [
              0.3333333333333333,
              "#9c179e"
             ],
             [
              0.4444444444444444,
              "#bd3786"
             ],
             [
              0.5555555555555556,
              "#d8576b"
             ],
             [
              0.6666666666666666,
              "#ed7953"
             ],
             [
              0.7777777777777778,
              "#fb9f3a"
             ],
             [
              0.8888888888888888,
              "#fdca26"
             ],
             [
              1,
              "#f0f921"
             ]
            ],
            "type": "heatmap"
           }
          ],
          "heatmapgl": [
           {
            "colorbar": {
             "outlinewidth": 0,
             "ticks": ""
            },
            "colorscale": [
             [
              0,
              "#0d0887"
             ],
             [
              0.1111111111111111,
              "#46039f"
             ],
             [
              0.2222222222222222,
              "#7201a8"
             ],
             [
              0.3333333333333333,
              "#9c179e"
             ],
             [
              0.4444444444444444,
              "#bd3786"
             ],
             [
              0.5555555555555556,
              "#d8576b"
             ],
             [
              0.6666666666666666,
              "#ed7953"
             ],
             [
              0.7777777777777778,
              "#fb9f3a"
             ],
             [
              0.8888888888888888,
              "#fdca26"
             ],
             [
              1,
              "#f0f921"
             ]
            ],
            "type": "heatmapgl"
           }
          ],
          "histogram": [
           {
            "marker": {
             "pattern": {
              "fillmode": "overlay",
              "size": 10,
              "solidity": 0.2
             }
            },
            "type": "histogram"
           }
          ],
          "histogram2d": [
           {
            "colorbar": {
             "outlinewidth": 0,
             "ticks": ""
            },
            "colorscale": [
             [
              0,
              "#0d0887"
             ],
             [
              0.1111111111111111,
              "#46039f"
             ],
             [
              0.2222222222222222,
              "#7201a8"
             ],
             [
              0.3333333333333333,
              "#9c179e"
             ],
             [
              0.4444444444444444,
              "#bd3786"
             ],
             [
              0.5555555555555556,
              "#d8576b"
             ],
             [
              0.6666666666666666,
              "#ed7953"
             ],
             [
              0.7777777777777778,
              "#fb9f3a"
             ],
             [
              0.8888888888888888,
              "#fdca26"
             ],
             [
              1,
              "#f0f921"
             ]
            ],
            "type": "histogram2d"
           }
          ],
          "histogram2dcontour": [
           {
            "colorbar": {
             "outlinewidth": 0,
             "ticks": ""
            },
            "colorscale": [
             [
              0,
              "#0d0887"
             ],
             [
              0.1111111111111111,
              "#46039f"
             ],
             [
              0.2222222222222222,
              "#7201a8"
             ],
             [
              0.3333333333333333,
              "#9c179e"
             ],
             [
              0.4444444444444444,
              "#bd3786"
             ],
             [
              0.5555555555555556,
              "#d8576b"
             ],
             [
              0.6666666666666666,
              "#ed7953"
             ],
             [
              0.7777777777777778,
              "#fb9f3a"
             ],
             [
              0.8888888888888888,
              "#fdca26"
             ],
             [
              1,
              "#f0f921"
             ]
            ],
            "type": "histogram2dcontour"
           }
          ],
          "mesh3d": [
           {
            "colorbar": {
             "outlinewidth": 0,
             "ticks": ""
            },
            "type": "mesh3d"
           }
          ],
          "parcoords": [
           {
            "line": {
             "colorbar": {
              "outlinewidth": 0,
              "ticks": ""
             }
            },
            "type": "parcoords"
           }
          ],
          "pie": [
           {
            "automargin": true,
            "type": "pie"
           }
          ],
          "scatter": [
           {
            "fillpattern": {
             "fillmode": "overlay",
             "size": 10,
             "solidity": 0.2
            },
            "type": "scatter"
           }
          ],
          "scatter3d": [
           {
            "line": {
             "colorbar": {
              "outlinewidth": 0,
              "ticks": ""
             }
            },
            "marker": {
             "colorbar": {
              "outlinewidth": 0,
              "ticks": ""
             }
            },
            "type": "scatter3d"
           }
          ],
          "scattercarpet": [
           {
            "marker": {
             "colorbar": {
              "outlinewidth": 0,
              "ticks": ""
             }
            },
            "type": "scattercarpet"
           }
          ],
          "scattergeo": [
           {
            "marker": {
             "colorbar": {
              "outlinewidth": 0,
              "ticks": ""
             }
            },
            "type": "scattergeo"
           }
          ],
          "scattergl": [
           {
            "marker": {
             "colorbar": {
              "outlinewidth": 0,
              "ticks": ""
             }
            },
            "type": "scattergl"
           }
          ],
          "scattermapbox": [
           {
            "marker": {
             "colorbar": {
              "outlinewidth": 0,
              "ticks": ""
             }
            },
            "type": "scattermapbox"
           }
          ],
          "scatterpolar": [
           {
            "marker": {
             "colorbar": {
              "outlinewidth": 0,
              "ticks": ""
             }
            },
            "type": "scatterpolar"
           }
          ],
          "scatterpolargl": [
           {
            "marker": {
             "colorbar": {
              "outlinewidth": 0,
              "ticks": ""
             }
            },
            "type": "scatterpolargl"
           }
          ],
          "scatterternary": [
           {
            "marker": {
             "colorbar": {
              "outlinewidth": 0,
              "ticks": ""
             }
            },
            "type": "scatterternary"
           }
          ],
          "surface": [
           {
            "colorbar": {
             "outlinewidth": 0,
             "ticks": ""
            },
            "colorscale": [
             [
              0,
              "#0d0887"
             ],
             [
              0.1111111111111111,
              "#46039f"
             ],
             [
              0.2222222222222222,
              "#7201a8"
             ],
             [
              0.3333333333333333,
              "#9c179e"
             ],
             [
              0.4444444444444444,
              "#bd3786"
             ],
             [
              0.5555555555555556,
              "#d8576b"
             ],
             [
              0.6666666666666666,
              "#ed7953"
             ],
             [
              0.7777777777777778,
              "#fb9f3a"
             ],
             [
              0.8888888888888888,
              "#fdca26"
             ],
             [
              1,
              "#f0f921"
             ]
            ],
            "type": "surface"
           }
          ],
          "table": [
           {
            "cells": {
             "fill": {
              "color": "#EBF0F8"
             },
             "line": {
              "color": "white"
             }
            },
            "header": {
             "fill": {
              "color": "#C8D4E3"
             },
             "line": {
              "color": "white"
             }
            },
            "type": "table"
           }
          ]
         },
         "layout": {
          "annotationdefaults": {
           "arrowcolor": "#2a3f5f",
           "arrowhead": 0,
           "arrowwidth": 1
          },
          "autotypenumbers": "strict",
          "coloraxis": {
           "colorbar": {
            "outlinewidth": 0,
            "ticks": ""
           }
          },
          "colorscale": {
           "diverging": [
            [
             0,
             "#8e0152"
            ],
            [
             0.1,
             "#c51b7d"
            ],
            [
             0.2,
             "#de77ae"
            ],
            [
             0.3,
             "#f1b6da"
            ],
            [
             0.4,
             "#fde0ef"
            ],
            [
             0.5,
             "#f7f7f7"
            ],
            [
             0.6,
             "#e6f5d0"
            ],
            [
             0.7,
             "#b8e186"
            ],
            [
             0.8,
             "#7fbc41"
            ],
            [
             0.9,
             "#4d9221"
            ],
            [
             1,
             "#276419"
            ]
           ],
           "sequential": [
            [
             0,
             "#0d0887"
            ],
            [
             0.1111111111111111,
             "#46039f"
            ],
            [
             0.2222222222222222,
             "#7201a8"
            ],
            [
             0.3333333333333333,
             "#9c179e"
            ],
            [
             0.4444444444444444,
             "#bd3786"
            ],
            [
             0.5555555555555556,
             "#d8576b"
            ],
            [
             0.6666666666666666,
             "#ed7953"
            ],
            [
             0.7777777777777778,
             "#fb9f3a"
            ],
            [
             0.8888888888888888,
             "#fdca26"
            ],
            [
             1,
             "#f0f921"
            ]
           ],
           "sequentialminus": [
            [
             0,
             "#0d0887"
            ],
            [
             0.1111111111111111,
             "#46039f"
            ],
            [
             0.2222222222222222,
             "#7201a8"
            ],
            [
             0.3333333333333333,
             "#9c179e"
            ],
            [
             0.4444444444444444,
             "#bd3786"
            ],
            [
             0.5555555555555556,
             "#d8576b"
            ],
            [
             0.6666666666666666,
             "#ed7953"
            ],
            [
             0.7777777777777778,
             "#fb9f3a"
            ],
            [
             0.8888888888888888,
             "#fdca26"
            ],
            [
             1,
             "#f0f921"
            ]
           ]
          },
          "colorway": [
           "#636efa",
           "#EF553B",
           "#00cc96",
           "#ab63fa",
           "#FFA15A",
           "#19d3f3",
           "#FF6692",
           "#B6E880",
           "#FF97FF",
           "#FECB52"
          ],
          "font": {
           "color": "#2a3f5f"
          },
          "geo": {
           "bgcolor": "white",
           "lakecolor": "white",
           "landcolor": "#E5ECF6",
           "showlakes": true,
           "showland": true,
           "subunitcolor": "white"
          },
          "hoverlabel": {
           "align": "left"
          },
          "hovermode": "closest",
          "mapbox": {
           "style": "light"
          },
          "paper_bgcolor": "white",
          "plot_bgcolor": "#E5ECF6",
          "polar": {
           "angularaxis": {
            "gridcolor": "white",
            "linecolor": "white",
            "ticks": ""
           },
           "bgcolor": "#E5ECF6",
           "radialaxis": {
            "gridcolor": "white",
            "linecolor": "white",
            "ticks": ""
           }
          },
          "scene": {
           "xaxis": {
            "backgroundcolor": "#E5ECF6",
            "gridcolor": "white",
            "gridwidth": 2,
            "linecolor": "white",
            "showbackground": true,
            "ticks": "",
            "zerolinecolor": "white"
           },
           "yaxis": {
            "backgroundcolor": "#E5ECF6",
            "gridcolor": "white",
            "gridwidth": 2,
            "linecolor": "white",
            "showbackground": true,
            "ticks": "",
            "zerolinecolor": "white"
           },
           "zaxis": {
            "backgroundcolor": "#E5ECF6",
            "gridcolor": "white",
            "gridwidth": 2,
            "linecolor": "white",
            "showbackground": true,
            "ticks": "",
            "zerolinecolor": "white"
           }
          },
          "shapedefaults": {
           "line": {
            "color": "#2a3f5f"
           }
          },
          "ternary": {
           "aaxis": {
            "gridcolor": "white",
            "linecolor": "white",
            "ticks": ""
           },
           "baxis": {
            "gridcolor": "white",
            "linecolor": "white",
            "ticks": ""
           },
           "bgcolor": "#E5ECF6",
           "caxis": {
            "gridcolor": "white",
            "linecolor": "white",
            "ticks": ""
           }
          },
          "title": {
           "x": 0.05
          },
          "xaxis": {
           "automargin": true,
           "gridcolor": "white",
           "linecolor": "white",
           "ticks": "",
           "title": {
            "standoff": 15
           },
           "zerolinecolor": "white",
           "zerolinewidth": 2
          },
          "yaxis": {
           "automargin": true,
           "gridcolor": "white",
           "linecolor": "white",
           "ticks": "",
           "title": {
            "standoff": 15
           },
           "zerolinecolor": "white",
           "zerolinewidth": 2
          }
         }
        },
        "title": {
         "font": {
          "color": "white",
          "family": "Roboto, sans-serif",
          "size": 23
         },
         "text": "SCORING",
         "x": 0.5,
         "xanchor": "center",
         "y": 0.98,
         "yanchor": "top"
        },
        "width": 625,
        "xaxis": {
         "gridcolor": "rgba(0,0,0,0)",
         "linecolor": "white",
         "linewidth": 2,
         "range": [
          0.5,
          3.1
         ],
         "showline": true,
         "tickfont": {
          "color": "white",
          "size": 15
         },
         "title": {
          "font": {
           "size": 25
          },
          "text": "NPXG PER GAME"
         }
        },
        "yaxis": {
         "gridcolor": "rgba(0,0,0,0)",
         "linecolor": "white",
         "linewidth": 2,
         "range": [
          0.5,
          3.1
         ],
         "showline": true,
         "tickfont": {
          "color": "white",
          "size": 15
         },
         "title": {
          "font": {
           "size": 25
          },
          "text": "GOALS PER GAME"
         }
        }
       }
      }
     },
     "metadata": {},
     "output_type": "display_data"
    }
   ],
   "source": [
    "create_FM_team_scatter_chart(filt_scoring_chart, 'SCORING', \"AC Milan\", \n",
    "                             'NPXG PER GAME', 'GOALS PER GAME', 0.125, 0.5, 3.1, 0.5, 3.1, \n",
    "                                                        \"Low Scoring<br>Low NPxG\", \n",
    "                                                        \"Low Scoring<br>High NPxG\",\n",
    "                                                        \"High Scoring<br>Low NPxG\",\n",
    "                                                        \"High Scoring<br>High NPxG\",\n",
    "                                                        \"red\", \"orange\", \"orange\", \"green\")\n"
   ]
  },
  {
   "cell_type": "code",
   "execution_count": 47,
   "metadata": {},
   "outputs": [
    {
     "data": {
      "text/html": [
       "<div>\n",
       "<style scoped>\n",
       "    .dataframe tbody tr th:only-of-type {\n",
       "        vertical-align: middle;\n",
       "    }\n",
       "\n",
       "    .dataframe tbody tr th {\n",
       "        vertical-align: top;\n",
       "    }\n",
       "\n",
       "    .dataframe thead th {\n",
       "        text-align: right;\n",
       "    }\n",
       "</style>\n",
       "<table border=\"1\" class=\"dataframe\">\n",
       "  <thead>\n",
       "    <tr style=\"text-align: right;\">\n",
       "      <th></th>\n",
       "      <th>TEAM_FBREF_ID</th>\n",
       "      <th>SEASON</th>\n",
       "      <th>COMPETITION</th>\n",
       "      <th>GOALS_SCORED</th>\n",
       "      <th>NPXG</th>\n",
       "      <th>XG</th>\n",
       "      <th>SHOTS</th>\n",
       "      <th>SHOTS_ON_TARGET</th>\n",
       "      <th>PASS_COMPLETED</th>\n",
       "      <th>PASS_ATTEMPTED</th>\n",
       "      <th>TAKEONS_ATTEMPTED</th>\n",
       "      <th>TAKEONS_COMPLETED</th>\n",
       "      <th>CROSSES_INTO_PA</th>\n",
       "      <th>FOULS_AGAINST</th>\n",
       "      <th>COMPETITION_ACRONYM</th>\n",
       "      <th>TEAM_NAME</th>\n",
       "      <th>TEAM_LOGO_URL</th>\n",
       "      <th>TEAM_WS_ID</th>\n",
       "      <th>MATCHES_PLAYED</th>\n",
       "      <th>TEAM_WINS</th>\n",
       "      <th>TEAM_DRAWS</th>\n",
       "      <th>TEAM_LOSSES</th>\n",
       "      <th>TEAM_PTS</th>\n",
       "      <th>TEAM_XPTS</th>\n",
       "      <th>SHOTS PER GAME</th>\n",
       "      <th>CONVERSION RATE (%)</th>\n",
       "      <th>GOALS PER GAME</th>\n",
       "      <th>NPXG PER GAME</th>\n",
       "    </tr>\n",
       "  </thead>\n",
       "  <tbody>\n",
       "    <tr>\n",
       "      <th>0</th>\n",
       "      <td>7a54bb4f</td>\n",
       "      <td>2223</td>\n",
       "      <td>FRA-Ligue 1</td>\n",
       "      <td>23</td>\n",
       "      <td>24.22</td>\n",
       "      <td>31.06</td>\n",
       "      <td>311</td>\n",
       "      <td>81</td>\n",
       "      <td>11216</td>\n",
       "      <td>15286</td>\n",
       "      <td>630</td>\n",
       "      <td>283</td>\n",
       "      <td>71</td>\n",
       "      <td>495</td>\n",
       "      <td>Ligue 1</td>\n",
       "      <td>Ajaccio</td>\n",
       "      <td>https://i.imgur.com/FSm4pRb.png</td>\n",
       "      <td>610</td>\n",
       "      <td>38</td>\n",
       "      <td>7</td>\n",
       "      <td>5</td>\n",
       "      <td>26</td>\n",
       "      <td>26</td>\n",
       "      <td>33.12</td>\n",
       "      <td>8.184211</td>\n",
       "      <td>0.073955</td>\n",
       "      <td>0.605263</td>\n",
       "      <td>0.637368</td>\n",
       "    </tr>\n",
       "    <tr>\n",
       "      <th>1</th>\n",
       "      <td>e2d8892c</td>\n",
       "      <td>2223</td>\n",
       "      <td>FRA-Ligue 1</td>\n",
       "      <td>89</td>\n",
       "      <td>81.59</td>\n",
       "      <td>86.15</td>\n",
       "      <td>562</td>\n",
       "      <td>242</td>\n",
       "      <td>23694</td>\n",
       "      <td>26476</td>\n",
       "      <td>976</td>\n",
       "      <td>454</td>\n",
       "      <td>46</td>\n",
       "      <td>416</td>\n",
       "      <td>Ligue 1</td>\n",
       "      <td>Paris S-G</td>\n",
       "      <td>https://i.imgur.com/kuN3QSp.png</td>\n",
       "      <td>304</td>\n",
       "      <td>38</td>\n",
       "      <td>27</td>\n",
       "      <td>4</td>\n",
       "      <td>7</td>\n",
       "      <td>85</td>\n",
       "      <td>74.01</td>\n",
       "      <td>14.789474</td>\n",
       "      <td>0.158363</td>\n",
       "      <td>2.342105</td>\n",
       "      <td>2.147105</td>\n",
       "    </tr>\n",
       "    <tr>\n",
       "      <th>2</th>\n",
       "      <td>d2c87802</td>\n",
       "      <td>2223</td>\n",
       "      <td>FRA-Ligue 1</td>\n",
       "      <td>52</td>\n",
       "      <td>42.79</td>\n",
       "      <td>47.35</td>\n",
       "      <td>397</td>\n",
       "      <td>149</td>\n",
       "      <td>14837</td>\n",
       "      <td>18087</td>\n",
       "      <td>916</td>\n",
       "      <td>406</td>\n",
       "      <td>38</td>\n",
       "      <td>501</td>\n",
       "      <td>Ligue 1</td>\n",
       "      <td>Lorient</td>\n",
       "      <td>https://i.imgur.com/9k1Kgp6.png</td>\n",
       "      <td>146</td>\n",
       "      <td>38</td>\n",
       "      <td>15</td>\n",
       "      <td>10</td>\n",
       "      <td>13</td>\n",
       "      <td>55</td>\n",
       "      <td>42.43</td>\n",
       "      <td>10.447368</td>\n",
       "      <td>0.130982</td>\n",
       "      <td>1.368421</td>\n",
       "      <td>1.126053</td>\n",
       "    </tr>\n",
       "    <tr>\n",
       "      <th>3</th>\n",
       "      <td>fb08dbb3</td>\n",
       "      <td>2223</td>\n",
       "      <td>FRA-Ligue 1</td>\n",
       "      <td>44</td>\n",
       "      <td>35.32</td>\n",
       "      <td>41.40</td>\n",
       "      <td>417</td>\n",
       "      <td>132</td>\n",
       "      <td>12486</td>\n",
       "      <td>16452</td>\n",
       "      <td>655</td>\n",
       "      <td>270</td>\n",
       "      <td>94</td>\n",
       "      <td>462</td>\n",
       "      <td>Ligue 1</td>\n",
       "      <td>Brest</td>\n",
       "      <td>https://i.imgur.com/klKUp8n.png</td>\n",
       "      <td>2332</td>\n",
       "      <td>38</td>\n",
       "      <td>11</td>\n",
       "      <td>11</td>\n",
       "      <td>16</td>\n",
       "      <td>44</td>\n",
       "      <td>43.52</td>\n",
       "      <td>10.973684</td>\n",
       "      <td>0.105516</td>\n",
       "      <td>1.157895</td>\n",
       "      <td>0.929474</td>\n",
       "    </tr>\n",
       "    <tr>\n",
       "      <th>4</th>\n",
       "      <td>7fdd64e0</td>\n",
       "      <td>2223</td>\n",
       "      <td>FRA-Ligue 1</td>\n",
       "      <td>45</td>\n",
       "      <td>53.34</td>\n",
       "      <td>59.52</td>\n",
       "      <td>516</td>\n",
       "      <td>165</td>\n",
       "      <td>13670</td>\n",
       "      <td>17565</td>\n",
       "      <td>800</td>\n",
       "      <td>347</td>\n",
       "      <td>87</td>\n",
       "      <td>423</td>\n",
       "      <td>Ligue 1</td>\n",
       "      <td>Reims</td>\n",
       "      <td>https://i.imgur.com/xULypbI.png</td>\n",
       "      <td>950</td>\n",
       "      <td>38</td>\n",
       "      <td>12</td>\n",
       "      <td>15</td>\n",
       "      <td>11</td>\n",
       "      <td>51</td>\n",
       "      <td>55.35</td>\n",
       "      <td>13.578947</td>\n",
       "      <td>0.087209</td>\n",
       "      <td>1.184211</td>\n",
       "      <td>1.403684</td>\n",
       "    </tr>\n",
       "  </tbody>\n",
       "</table>\n",
       "</div>"
      ],
      "text/plain": [
       "  TEAM_FBREF_ID  SEASON  COMPETITION  GOALS_SCORED   NPXG     XG  SHOTS  \\\n",
       "0      7a54bb4f    2223  FRA-Ligue 1            23  24.22  31.06    311   \n",
       "1      e2d8892c    2223  FRA-Ligue 1            89  81.59  86.15    562   \n",
       "2      d2c87802    2223  FRA-Ligue 1            52  42.79  47.35    397   \n",
       "3      fb08dbb3    2223  FRA-Ligue 1            44  35.32  41.40    417   \n",
       "4      7fdd64e0    2223  FRA-Ligue 1            45  53.34  59.52    516   \n",
       "\n",
       "   SHOTS_ON_TARGET  PASS_COMPLETED  PASS_ATTEMPTED  TAKEONS_ATTEMPTED  \\\n",
       "0               81           11216           15286                630   \n",
       "1              242           23694           26476                976   \n",
       "2              149           14837           18087                916   \n",
       "3              132           12486           16452                655   \n",
       "4              165           13670           17565                800   \n",
       "\n",
       "   TAKEONS_COMPLETED  CROSSES_INTO_PA  FOULS_AGAINST COMPETITION_ACRONYM  \\\n",
       "0                283               71            495             Ligue 1   \n",
       "1                454               46            416             Ligue 1   \n",
       "2                406               38            501             Ligue 1   \n",
       "3                270               94            462             Ligue 1   \n",
       "4                347               87            423             Ligue 1   \n",
       "\n",
       "   TEAM_NAME                    TEAM_LOGO_URL  TEAM_WS_ID  MATCHES_PLAYED  \\\n",
       "0    Ajaccio  https://i.imgur.com/FSm4pRb.png         610              38   \n",
       "1  Paris S-G  https://i.imgur.com/kuN3QSp.png         304              38   \n",
       "2    Lorient  https://i.imgur.com/9k1Kgp6.png         146              38   \n",
       "3      Brest  https://i.imgur.com/klKUp8n.png        2332              38   \n",
       "4      Reims  https://i.imgur.com/xULypbI.png         950              38   \n",
       "\n",
       "   TEAM_WINS  TEAM_DRAWS  TEAM_LOSSES  TEAM_PTS  TEAM_XPTS  SHOTS PER GAME  \\\n",
       "0          7           5           26        26      33.12        8.184211   \n",
       "1         27           4            7        85      74.01       14.789474   \n",
       "2         15          10           13        55      42.43       10.447368   \n",
       "3         11          11           16        44      43.52       10.973684   \n",
       "4         12          15           11        51      55.35       13.578947   \n",
       "\n",
       "   CONVERSION RATE (%)  GOALS PER GAME  NPXG PER GAME  \n",
       "0             0.073955        0.605263       0.637368  \n",
       "1             0.158363        2.342105       2.147105  \n",
       "2             0.130982        1.368421       1.126053  \n",
       "3             0.105516        1.157895       0.929474  \n",
       "4             0.087209        1.184211       1.403684  "
      ]
     },
     "execution_count": 47,
     "metadata": {},
     "output_type": "execute_result"
    }
   ],
   "source": [
    "team_attacking.head()"
   ]
  },
  {
   "cell_type": "code",
   "execution_count": 48,
   "metadata": {},
   "outputs": [],
   "source": [
    "team_attacking['SHOTS ON TARGET PER GAME'] = team_attacking['SHOTS_ON_TARGET']/team_attacking['MATCHES_PLAYED']\n",
    "team_attacking['XG PER SHOT'] = team_attacking['XG']/team_attacking['SHOTS']"
   ]
  },
  {
   "cell_type": "code",
   "execution_count": 49,
   "metadata": {},
   "outputs": [],
   "source": [
    "shooting_chart = team_attacking[['SEASON', 'COMPETITION_ACRONYM', 'TEAM_NAME', 'TEAM_LOGO_URL',\n",
    "                                            'SHOTS ON TARGET PER GAME', 'XG PER SHOT']]"
   ]
  },
  {
   "cell_type": "code",
   "execution_count": 50,
   "metadata": {},
   "outputs": [],
   "source": [
    "create_table_query = \"\"\"\n",
    "CREATE TABLE IF NOT EXISTS TEAM_SHOOTING_CHART (\n",
    "    SEASON INT,\n",
    "    COMPETITION_ACRONYM VARCHAR(255),\n",
    "    TEAM_NAME VARCHAR(255),\n",
    "    TEAM_LOGO_URL VARCHAR(255),\n",
    "    SHOTS_ON_TARGET_PER_GAME FLOAT,\n",
    "    XG_PER_SHOT FLOAT,\n",
    "    PRIMARY KEY (SEASON, COMPETITION_ACRONYM, TEAM_NAME)\n",
    ");\n",
    "\"\"\""
   ]
  },
  {
   "cell_type": "code",
   "execution_count": 51,
   "metadata": {},
   "outputs": [
    {
     "data": {
      "text/plain": [
       "<snowflake.connector.cursor.SnowflakeCursor at 0x27493039710>"
      ]
     },
     "execution_count": 51,
     "metadata": {},
     "output_type": "execute_result"
    }
   ],
   "source": [
    "cur.execute(create_table_query)"
   ]
  },
  {
   "cell_type": "code",
   "execution_count": 52,
   "metadata": {},
   "outputs": [],
   "source": [
    "shooting_chart.columns = shooting_chart.columns.str.replace(\" \", \"_\")"
   ]
  },
  {
   "cell_type": "code",
   "execution_count": 53,
   "metadata": {},
   "outputs": [
    {
     "name": "stdout",
     "output_type": "stream",
     "text": [
      "Upsert completed. 292 rows processed.\n"
     ]
    }
   ],
   "source": [
    "upsert_to_snowflake(\"TEAM_SHOOTING_CHART\", shooting_chart, ['SEASON', 'COMPETITION_ACRONYM', 'TEAM_NAME'])"
   ]
  },
  {
   "cell_type": "code",
   "execution_count": 54,
   "metadata": {},
   "outputs": [],
   "source": [
    "shooting_chart = fetch_data(cursor, 'SELECT * FROM GEGENSTATS.RADAR_CHARTS.TEAM_SHOOTING_CHART')"
   ]
  },
  {
   "cell_type": "code",
   "execution_count": 55,
   "metadata": {},
   "outputs": [],
   "source": [
    "shooting_chart.rename(columns={'SHOTS_ON_TARGET_PER_GAME':'SHOTS ON TARGET PER GAME',\n",
    "                                'XG_PER_SHOT':'XG PER SHOT'}, inplace=True)"
   ]
  },
  {
   "cell_type": "code",
   "execution_count": 56,
   "metadata": {},
   "outputs": [],
   "source": [
    "filt_shooting_chart = shooting_chart[shooting_chart['SEASON'] == season_selected]\n",
    "# filt_shooting_chart = filt_shooting_chart[filt_shooting_chart['COMPETITION_ACRONYM'] == league_selected]"
   ]
  },
  {
   "cell_type": "code",
   "execution_count": 57,
   "metadata": {},
   "outputs": [
    {
     "data": {
      "application/vnd.plotly.v1+json": {
       "config": {
        "plotlyServerURL": "https://plotly.com"
       },
       "data": [
        {
         "hoverinfo": "text",
         "marker": {
          "opacity": 0
         },
         "mode": "markers",
         "text": "Leverkusen",
         "type": "scatter",
         "x": [
          0.1303938731
         ],
         "y": [
          6.730769231
         ]
        },
        {
         "hoverinfo": "text",
         "marker": {
          "opacity": 0
         },
         "mode": "markers",
         "text": "Bayern Munich",
         "type": "scatter",
         "x": [
          0.1512667946
         ],
         "y": [
          7.307692308
         ]
        },
        {
         "hoverinfo": "text",
         "marker": {
          "opacity": 0
         },
         "mode": "markers",
         "text": "Heidenheim",
         "type": "scatter",
         "x": [
          0.1061
         ],
         "y": [
          3.076923077
         ]
        },
        {
         "hoverinfo": "text",
         "marker": {
          "opacity": 0
         },
         "mode": "markers",
         "text": "Stuttgart",
         "type": "scatter",
         "x": [
          0.153875
         ],
         "y": [
          6
         ]
        },
        {
         "hoverinfo": "text",
         "marker": {
          "opacity": 0
         },
         "mode": "markers",
         "text": "Union Berlin",
         "type": "scatter",
         "x": [
          0.1133112583
         ],
         "y": [
          3.769230769
         ]
        },
        {
         "hoverinfo": "text",
         "marker": {
          "opacity": 0
         },
         "mode": "markers",
         "text": "Darmstadt 98",
         "type": "scatter",
         "x": [
          0.09037974684
         ],
         "y": [
          3.5
         ]
        },
        {
         "hoverinfo": "text",
         "marker": {
          "opacity": 0
         },
         "mode": "markers",
         "text": "Augsburg",
         "type": "scatter",
         "x": [
          0.1222570533
         ],
         "y": [
          3.846153846
         ]
        },
        {
         "hoverinfo": "text",
         "marker": {
          "opacity": 0
         },
         "mode": "markers",
         "text": "Dortmund",
         "type": "scatter",
         "x": [
          0.1397229219
         ],
         "y": [
          5.423076923
         ]
        },
        {
         "hoverinfo": "text",
         "marker": {
          "opacity": 0
         },
         "mode": "markers",
         "text": "Hoffenheim",
         "type": "scatter",
         "x": [
          0.1198533724
         ],
         "y": [
          4.384615385
         ]
        },
        {
         "hoverinfo": "text",
         "marker": {
          "opacity": 0
         },
         "mode": "markers",
         "text": "Mainz 05",
         "type": "scatter",
         "x": [
          0.09302521008
         ],
         "y": [
          3.576923077
         ]
        },
        {
         "hoverinfo": "text",
         "marker": {
          "opacity": 0
         },
         "mode": "markers",
         "text": "M'Gladbach",
         "type": "scatter",
         "x": [
          0.118625731
         ],
         "y": [
          4.115384615
         ]
        },
        {
         "hoverinfo": "text",
         "marker": {
          "opacity": 0
         },
         "mode": "markers",
         "text": "Werder Bremen",
         "type": "scatter",
         "x": [
          0.1104248366
         ],
         "y": [
          3.346153846
         ]
        },
        {
         "hoverinfo": "text",
         "marker": {
          "opacity": 0
         },
         "mode": "markers",
         "text": "Köln",
         "type": "scatter",
         "x": [
          0.09761437908
         ],
         "y": [
          3.807692308
         ]
        },
        {
         "hoverinfo": "text",
         "marker": {
          "opacity": 0
         },
         "mode": "markers",
         "text": "RB Leipzig",
         "type": "scatter",
         "x": [
          0.1355048077
         ],
         "y": [
          6.5
         ]
        },
        {
         "hoverinfo": "text",
         "marker": {
          "opacity": 0
         },
         "mode": "markers",
         "text": "Wolfsburg",
         "type": "scatter",
         "x": [
          0.106474359
         ],
         "y": [
          4.384615385
         ]
        },
        {
         "hoverinfo": "text",
         "marker": {
          "opacity": 0
         },
         "mode": "markers",
         "text": "Eint Frankfurt",
         "type": "scatter",
         "x": [
          0.1409454545
         ],
         "y": [
          4.076923077
         ]
        },
        {
         "hoverinfo": "text",
         "marker": {
          "opacity": 0
         },
         "mode": "markers",
         "text": "Freiburg",
         "type": "scatter",
         "x": [
          0.1347666667
         ],
         "y": [
          4
         ]
        },
        {
         "hoverinfo": "text",
         "marker": {
          "opacity": 0
         },
         "mode": "markers",
         "text": "Bochum",
         "type": "scatter",
         "x": [
          0.1014784946
         ],
         "y": [
          4.076923077
         ]
        },
        {
         "hoverinfo": "text",
         "marker": {
          "opacity": 0
         },
         "mode": "markers",
         "text": "Hellas Verona",
         "type": "scatter",
         "x": [
          0.08303405573
         ],
         "y": [
          3.689655172
         ]
        },
        {
         "hoverinfo": "text",
         "marker": {
          "opacity": 0
         },
         "mode": "markers",
         "text": "Bologna",
         "type": "scatter",
         "x": [
          0.1129589041
         ],
         "y": [
          4.344827586
         ]
        },
        {
         "hoverinfo": "text",
         "marker": {
          "opacity": 0
         },
         "mode": "markers",
         "text": "AC Milan",
         "type": "scatter",
         "x": [
          0.1264646465
         ],
         "y": [
          4.862068966
         ]
        },
        {
         "hoverinfo": "text",
         "marker": {
          "opacity": 0
         },
         "mode": "markers",
         "text": "Inter",
         "type": "scatter",
         "x": [
          0.1527522936
         ],
         "y": [
          5.103448276
         ]
        },
        {
         "hoverinfo": "text",
         "marker": {
          "opacity": 0
         },
         "mode": "markers",
         "text": "Lazio",
         "type": "scatter",
         "x": [
          0.121993865
         ],
         "y": [
          3.413793103
         ]
        },
        {
         "hoverinfo": "text",
         "marker": {
          "opacity": 0
         },
         "mode": "markers",
         "text": "Empoli",
         "type": "scatter",
         "x": [
          0.0903021148
         ],
         "y": [
          3.172413793
         ]
        },
        {
         "hoverinfo": "text",
         "marker": {
          "opacity": 0
         },
         "mode": "markers",
         "text": "Torino",
         "type": "scatter",
         "x": [
          0.09972644377
         ],
         "y": [
          3.275862069
         ]
        },
        {
         "hoverinfo": "text",
         "marker": {
          "opacity": 0
         },
         "mode": "markers",
         "text": "Fiorentina",
         "type": "scatter",
         "x": [
          0.1081351351
         ],
         "y": [
          4.142857143
         ]
        },
        {
         "hoverinfo": "text",
         "marker": {
          "opacity": 0
         },
         "mode": "markers",
         "text": "Monza",
         "type": "scatter",
         "x": [
          0.1023529412
         ],
         "y": [
          3.517241379
         ]
        },
        {
         "hoverinfo": "text",
         "marker": {
          "opacity": 0
         },
         "mode": "markers",
         "text": "Udinese",
         "type": "scatter",
         "x": [
          0.09648199446
         ],
         "y": [
          3.862068966
         ]
        },
        {
         "hoverinfo": "text",
         "marker": {
          "opacity": 0
         },
         "mode": "markers",
         "text": "Juventus",
         "type": "scatter",
         "x": [
          0.1217149758
         ],
         "y": [
          3.75862069
         ]
        },
        {
         "hoverinfo": "text",
         "marker": {
          "opacity": 0
         },
         "mode": "markers",
         "text": "Napoli",
         "type": "scatter",
         "x": [
          0.1058455115
         ],
         "y": [
          5.137931034
         ]
        },
        {
         "hoverinfo": "text",
         "marker": {
          "opacity": 0
         },
         "mode": "markers",
         "text": "Genoa",
         "type": "scatter",
         "x": [
          0.08948717949
         ],
         "y": [
          3.172413793
         ]
        },
        {
         "hoverinfo": "text",
         "marker": {
          "opacity": 0
         },
         "mode": "markers",
         "text": "Lecce",
         "type": "scatter",
         "x": [
          0.09116094987
         ],
         "y": [
          3.724137931
         ]
        },
        {
         "hoverinfo": "text",
         "marker": {
          "opacity": 0
         },
         "mode": "markers",
         "text": "Salernitana",
         "type": "scatter",
         "x": [
          0.07536977492
         ],
         "y": [
          3.24137931
         ]
        },
        {
         "hoverinfo": "text",
         "marker": {
          "opacity": 0
         },
         "mode": "markers",
         "text": "Sassuolo",
         "type": "scatter",
         "x": [
          0.09535714286
         ],
         "y": [
          4
         ]
        },
        {
         "hoverinfo": "text",
         "marker": {
          "opacity": 0
         },
         "mode": "markers",
         "text": "Roma",
         "type": "scatter",
         "x": [
          0.1328742515
         ],
         "y": [
          3.689655172
         ]
        },
        {
         "hoverinfo": "text",
         "marker": {
          "opacity": 0
         },
         "mode": "markers",
         "text": "Cagliari",
         "type": "scatter",
         "x": [
          0.1007017544
         ],
         "y": [
          3.275862069
         ]
        },
        {
         "hoverinfo": "text",
         "marker": {
          "opacity": 0
         },
         "mode": "markers",
         "text": "Atalanta",
         "type": "scatter",
         "x": [
          0.1254005168
         ],
         "y": [
          5.035714286
         ]
        },
        {
         "hoverinfo": "text",
         "marker": {
          "opacity": 0
         },
         "mode": "markers",
         "text": "Frosinone",
         "type": "scatter",
         "x": [
          0.1156534954
         ],
         "y": [
          3.689655172
         ]
        },
        {
         "hoverinfo": "text",
         "marker": {
          "opacity": 0
         },
         "mode": "markers",
         "text": "Monaco",
         "type": "scatter",
         "x": [
          0.1221907216
         ],
         "y": [
          5.923076923
         ]
        },
        {
         "hoverinfo": "text",
         "marker": {
          "opacity": 0
         },
         "mode": "markers",
         "text": "Lille",
         "type": "scatter",
         "x": [
          0.1274063401
         ],
         "y": [
          5.115384615
         ]
        },
        {
         "hoverinfo": "text",
         "marker": {
          "opacity": 0
         },
         "mode": "markers",
         "text": "Le Havre",
         "type": "scatter",
         "x": [
          0.09770034843
         ],
         "y": [
          3.307692308
         ]
        },
        {
         "hoverinfo": "text",
         "marker": {
          "opacity": 0
         },
         "mode": "markers",
         "text": "Reims",
         "type": "scatter",
         "x": [
          0.1248297214
         ],
         "y": [
          3.923076923
         ]
        },
        {
         "hoverinfo": "text",
         "marker": {
          "opacity": 0
         },
         "mode": "markers",
         "text": "Montpellier",
         "type": "scatter",
         "x": [
          0.1133908046
         ],
         "y": [
          4.807692308
         ]
        },
        {
         "hoverinfo": "text",
         "marker": {
          "opacity": 0
         },
         "mode": "markers",
         "text": "Rennes",
         "type": "scatter",
         "x": [
          0.1218390805
         ],
         "y": [
          4.461538462
         ]
        },
        {
         "hoverinfo": "text",
         "marker": {
          "opacity": 0
         },
         "mode": "markers",
         "text": "Toulouse",
         "type": "scatter",
         "x": [
          0.1115719064
         ],
         "y": [
          3.807692308
         ]
        },
        {
         "hoverinfo": "text",
         "marker": {
          "opacity": 0
         },
         "mode": "markers",
         "text": "Strasbourg",
         "type": "scatter",
         "x": [
          0.1138162544
         ],
         "y": [
          3.5
         ]
        },
        {
         "hoverinfo": "text",
         "marker": {
          "opacity": 0
         },
         "mode": "markers",
         "text": "Paris S-G",
         "type": "scatter",
         "x": [
          0.1453018373
         ],
         "y": [
          5.615384615
         ]
        },
        {
         "hoverinfo": "text",
         "marker": {
          "opacity": 0
         },
         "mode": "markers",
         "text": "Marseille",
         "type": "scatter",
         "x": [
          0.1287252125
         ],
         "y": [
          4.307692308
         ]
        },
        {
         "hoverinfo": "text",
         "marker": {
          "opacity": 0
         },
         "mode": "markers",
         "text": "Nice",
         "type": "scatter",
         "x": [
          0.1157954545
         ],
         "y": [
          4.346153846
         ]
        },
        {
         "hoverinfo": "text",
         "marker": {
          "opacity": 0
         },
         "mode": "markers",
         "text": "Brest",
         "type": "scatter",
         "x": [
          0.108109589
         ],
         "y": [
          4.846153846
         ]
        },
        {
         "hoverinfo": "text",
         "marker": {
          "opacity": 0
         },
         "mode": "markers",
         "text": "Nantes",
         "type": "scatter",
         "x": [
          0.1054266212
         ],
         "y": [
          3.807692308
         ]
        },
        {
         "hoverinfo": "text",
         "marker": {
          "opacity": 0
         },
         "mode": "markers",
         "text": "Clermont Foot",
         "type": "scatter",
         "x": [
          0.09070469799
         ],
         "y": [
          3.692307692
         ]
        },
        {
         "hoverinfo": "text",
         "marker": {
          "opacity": 0
         },
         "mode": "markers",
         "text": "Metz",
         "type": "scatter",
         "x": [
          0.09490118577
         ],
         "y": [
          3.038461538
         ]
        },
        {
         "hoverinfo": "text",
         "marker": {
          "opacity": 0
         },
         "mode": "markers",
         "text": "Lorient",
         "type": "scatter",
         "x": [
          0.1068016194
         ],
         "y": [
          3.615384615
         ]
        },
        {
         "hoverinfo": "text",
         "marker": {
          "opacity": 0
         },
         "mode": "markers",
         "text": "Lyon",
         "type": "scatter",
         "x": [
          0.119266055
         ],
         "y": [
          4.769230769
         ]
        },
        {
         "hoverinfo": "text",
         "marker": {
          "opacity": 0
         },
         "mode": "markers",
         "text": "Lens",
         "type": "scatter",
         "x": [
          0.1298876404
         ],
         "y": [
          4.807692308
         ]
        },
        {
         "hoverinfo": "text",
         "marker": {
          "opacity": 0
         },
         "mode": "markers",
         "text": "Alavés",
         "type": "scatter",
         "x": [
          0.1090704225
         ],
         "y": [
          3.275862069
         ]
        },
        {
         "hoverinfo": "text",
         "marker": {
          "opacity": 0
         },
         "mode": "markers",
         "text": "Athletic Club",
         "type": "scatter",
         "x": [
          0.1426446281
         ],
         "y": [
          4.517241379
         ]
        },
        {
         "hoverinfo": "text",
         "marker": {
          "opacity": 0
         },
         "mode": "markers",
         "text": "Girona",
         "type": "scatter",
         "x": [
          0.1518131868
         ],
         "y": [
          4.689655172
         ]
        },
        {
         "hoverinfo": "text",
         "marker": {
          "opacity": 0
         },
         "mode": "markers",
         "text": "Getafe",
         "type": "scatter",
         "x": [
          0.1171515152
         ],
         "y": [
          3.896551724
         ]
        },
        {
         "hoverinfo": "text",
         "marker": {
          "opacity": 0
         },
         "mode": "markers",
         "text": "Almería",
         "type": "scatter",
         "x": [
          0.1043965517
         ],
         "y": [
          3.931034483
         ]
        },
        {
         "hoverinfo": "text",
         "marker": {
          "opacity": 0
         },
         "mode": "markers",
         "text": "Cádiz",
         "type": "scatter",
         "x": [
          0.09300699301
         ],
         "y": [
          2.896551724
         ]
        },
        {
         "hoverinfo": "text",
         "marker": {
          "opacity": 0
         },
         "mode": "markers",
         "text": "Celta Vigo",
         "type": "scatter",
         "x": [
          0.1133057851
         ],
         "y": [
          3.896551724
         ]
        },
        {
         "hoverinfo": "text",
         "marker": {
          "opacity": 0
         },
         "mode": "markers",
         "text": "Atlético Madrid",
         "type": "scatter",
         "x": [
          0.1560941828
         ],
         "y": [
          5.448275862
         ]
        },
        {
         "hoverinfo": "text",
         "marker": {
          "opacity": 0
         },
         "mode": "markers",
         "text": "Granada",
         "type": "scatter",
         "x": [
          0.1131756757
         ],
         "y": [
          3.642857143
         ]
        },
        {
         "hoverinfo": "text",
         "marker": {
          "opacity": 0
         },
         "mode": "markers",
         "text": "Villarreal",
         "type": "scatter",
         "x": [
          0.135739645
         ],
         "y": [
          4.379310345
         ]
        },
        {
         "hoverinfo": "text",
         "marker": {
          "opacity": 0
         },
         "mode": "markers",
         "text": "Las Palmas",
         "type": "scatter",
         "x": [
          0.08947882736
         ],
         "y": [
          3.24137931
         ]
        },
        {
         "hoverinfo": "text",
         "marker": {
          "opacity": 0
         },
         "mode": "markers",
         "text": "Real Sociedad",
         "type": "scatter",
         "x": [
          0.111456044
         ],
         "y": [
          4.068965517
         ]
        },
        {
         "hoverinfo": "text",
         "marker": {
          "opacity": 0
         },
         "mode": "markers",
         "text": "Sevilla",
         "type": "scatter",
         "x": [
          0.09864102564
         ],
         "y": [
          4.413793103
         ]
        },
        {
         "hoverinfo": "text",
         "marker": {
          "opacity": 0
         },
         "mode": "markers",
         "text": "Valencia",
         "type": "scatter",
         "x": [
          0.1167777778
         ],
         "y": [
          3.357142857
         ]
        },
        {
         "hoverinfo": "text",
         "marker": {
          "opacity": 0
         },
         "mode": "markers",
         "text": "Osasuna",
         "type": "scatter",
         "x": [
          0.1083333333
         ],
         "y": [
          3.24137931
         ]
        },
        {
         "hoverinfo": "text",
         "marker": {
          "opacity": 0
         },
         "mode": "markers",
         "text": "Real Madrid",
         "type": "scatter",
         "x": [
          0.1348407643
         ],
         "y": [
          6.310344828
         ]
        },
        {
         "hoverinfo": "text",
         "marker": {
          "opacity": 0
         },
         "mode": "markers",
         "text": "Barcelona",
         "type": "scatter",
         "x": [
          0.145631929
         ],
         "y": [
          5.793103448
         ]
        },
        {
         "hoverinfo": "text",
         "marker": {
          "opacity": 0
         },
         "mode": "markers",
         "text": "Mallorca",
         "type": "scatter",
         "x": [
          0.1042319749
         ],
         "y": [
          3.344827586
         ]
        },
        {
         "hoverinfo": "text",
         "marker": {
          "opacity": 0
         },
         "mode": "markers",
         "text": "Rayo Vallecano",
         "type": "scatter",
         "x": [
          0.1014956012
         ],
         "y": [
          4.068965517
         ]
        },
        {
         "hoverinfo": "text",
         "marker": {
          "opacity": 0
         },
         "mode": "markers",
         "text": "Betis",
         "type": "scatter",
         "x": [
          0.1036814621
         ],
         "y": [
          3.724137931
         ]
        },
        {
         "hoverinfo": "text",
         "marker": {
          "opacity": 0
         },
         "mode": "markers",
         "text": "Arsenal",
         "type": "scatter",
         "x": [
          0.1301914894
         ],
         "y": [
          5.464285714
         ]
        },
        {
         "hoverinfo": "text",
         "marker": {
          "opacity": 0
         },
         "mode": "markers",
         "text": "Aston Villa",
         "type": "scatter",
         "x": [
          0.1348681055
         ],
         "y": [
          5.24137931
         ]
        },
        {
         "hoverinfo": "text",
         "marker": {
          "opacity": 0
         },
         "mode": "markers",
         "text": "Bournemouth",
         "type": "scatter",
         "x": [
          0.1195226131
         ],
         "y": [
          4.714285714
         ]
        },
        {
         "hoverinfo": "text",
         "marker": {
          "opacity": 0
         },
         "mode": "markers",
         "text": "Brentford",
         "type": "scatter",
         "x": [
          0.1369273743
         ],
         "y": [
          4.137931034
         ]
        },
        {
         "hoverinfo": "text",
         "marker": {
          "opacity": 0
         },
         "mode": "markers",
         "text": "Brighton",
         "type": "scatter",
         "x": [
          0.1187198068
         ],
         "y": [
          5.714285714
         ]
        },
        {
         "hoverinfo": "text",
         "marker": {
          "opacity": 0
         },
         "mode": "markers",
         "text": "Burnley",
         "type": "scatter",
         "x": [
          0.09892508143
         ],
         "y": [
          3.275862069
         ]
        },
        {
         "hoverinfo": "text",
         "marker": {
          "opacity": 0
         },
         "mode": "markers",
         "text": "Chelsea",
         "type": "scatter",
         "x": [
          0.1543839542
         ],
         "y": [
          4.481481481
         ]
        },
        {
         "hoverinfo": "text",
         "marker": {
          "opacity": 0
         },
         "mode": "markers",
         "text": "Crystal Palace",
         "type": "scatter",
         "x": [
          0.1111042945
         ],
         "y": [
          3.892857143
         ]
        },
        {
         "hoverinfo": "text",
         "marker": {
          "opacity": 0
         },
         "mode": "markers",
         "text": "Everton",
         "type": "scatter",
         "x": [
          0.1236111111
         ],
         "y": [
          4.321428571
         ]
        },
        {
         "hoverinfo": "text",
         "marker": {
          "opacity": 0
         },
         "mode": "markers",
         "text": "Fulham",
         "type": "scatter",
         "x": [
          0.1110752688
         ],
         "y": [
          4.482758621
         ]
        },
        {
         "hoverinfo": "text",
         "marker": {
          "opacity": 0
         },
         "mode": "markers",
         "text": "Liverpool",
         "type": "scatter",
         "x": [
          0.1227902622
         ],
         "y": [
          6.464285714
         ]
        },
        {
         "hoverinfo": "text",
         "marker": {
          "opacity": 0
         },
         "mode": "markers",
         "text": "Luton Town",
         "type": "scatter",
         "x": [
          0.1231671554
         ],
         "y": [
          3.413793103
         ]
        },
        {
         "hoverinfo": "text",
         "marker": {
          "opacity": 0
         },
         "mode": "markers",
         "text": "Manchester City",
         "type": "scatter",
         "x": [
          0.1242685371
         ],
         "y": [
          6.678571429
         ]
        },
        {
         "hoverinfo": "text",
         "marker": {
          "opacity": 0
         },
         "mode": "markers",
         "text": "Manchester Utd",
         "type": "scatter",
         "x": [
          0.114534005
         ],
         "y": [
          4.571428571
         ]
        },
        {
         "hoverinfo": "text",
         "marker": {
          "opacity": 0
         },
         "mode": "markers",
         "text": "Newcastle Utd",
         "type": "scatter",
         "x": [
          0.1543431635
         ],
         "y": [
          4.821428571
         ]
        },
        {
         "hoverinfo": "text",
         "marker": {
          "opacity": 0
         },
         "mode": "markers",
         "text": "Nott'ham Forest",
         "type": "scatter",
         "x": [
          0.1128571429
         ],
         "y": [
          3.448275862
         ]
        },
        {
         "hoverinfo": "text",
         "marker": {
          "opacity": 0
         },
         "mode": "markers",
         "text": "Sheffield Utd",
         "type": "scatter",
         "x": [
          0.11024
         ],
         "y": [
          2.785714286
         ]
        },
        {
         "hoverinfo": "text",
         "marker": {
          "opacity": 0
         },
         "mode": "markers",
         "text": "Tottenham",
         "type": "scatter",
         "x": [
          0.1254060325
         ],
         "y": [
          5.678571429
         ]
        },
        {
         "hoverinfo": "text",
         "marker": {
          "opacity": 0
         },
         "mode": "markers",
         "text": "West Ham",
         "type": "scatter",
         "x": [
          0.1235174419
         ],
         "y": [
          3.793103448
         ]
        },
        {
         "hoverinfo": "text",
         "marker": {
          "opacity": 0
         },
         "mode": "markers",
         "text": "Wolves",
         "type": "scatter",
         "x": [
          0.1233027523
         ],
         "y": [
          4.142857143
         ]
        }
       ],
       "layout": {
        "annotations": [
         {
          "align": "left",
          "font": {
           "color": "red",
           "family": "Roboto, sans-serif",
           "size": 15
          },
          "showarrow": false,
          "text": "Passive Shooting<br>Wasteful Shooting",
          "x": 0,
          "xref": "paper",
          "y": 0,
          "yref": "paper"
         },
         {
          "align": "left",
          "font": {
           "color": "orange",
           "family": "Roboto, sans-serif",
           "size": 15
          },
          "showarrow": false,
          "text": "Aggressive Shooting<br>Wasteful Shooting",
          "x": 0,
          "xref": "paper",
          "y": 1,
          "yref": "paper"
         },
         {
          "align": "right",
          "font": {
           "color": "green",
           "family": "Roboto, sans-serif",
           "size": 15
          },
          "showarrow": false,
          "text": "Aggressive Shooting<br>Clinical Shooting",
          "x": 1,
          "xref": "paper",
          "y": 1,
          "yref": "paper"
         },
         {
          "align": "right",
          "font": {
           "color": "orange",
           "family": "Roboto, sans-serif",
           "size": 15
          },
          "showarrow": false,
          "text": "Passive Shooting<br>Clinical Shooting",
          "x": 1,
          "xref": "paper",
          "y": 0,
          "yref": "paper"
         }
        ],
        "font": {
         "color": "white",
         "family": "Roboto, sans-serif",
         "size": 25
        },
        "height": 625,
        "hoverlabel": {
         "bgcolor": "rgba(20, 20, 20, 0.8)",
         "font": {
          "family": "Roboto, sans-serif"
         }
        },
        "images": [
         {
          "layer": "above",
          "opacity": 0.35,
          "sizex": 0.25,
          "sizey": 0.25,
          "sizing": "contain",
          "source": "https://i.imgur.com/q3lV6o8.png",
          "x": 0.1303938731,
          "xanchor": "center",
          "xref": "x",
          "y": 6.730769231,
          "yanchor": "middle",
          "yref": "y"
         },
         {
          "layer": "above",
          "opacity": 0.35,
          "sizex": 0.25,
          "sizey": 0.25,
          "sizing": "contain",
          "source": "https://i.imgur.com/rO1xVQh.png",
          "x": 0.1512667946,
          "xanchor": "center",
          "xref": "x",
          "y": 7.307692308,
          "yanchor": "middle",
          "yref": "y"
         },
         {
          "layer": "above",
          "opacity": 0.35,
          "sizex": 0.25,
          "sizey": 0.25,
          "sizing": "contain",
          "source": "https://i.imgur.com/ks2nifY.png",
          "x": 0.1061,
          "xanchor": "center",
          "xref": "x",
          "y": 3.076923077,
          "yanchor": "middle",
          "yref": "y"
         },
         {
          "layer": "above",
          "opacity": 0.35,
          "sizex": 0.25,
          "sizey": 0.25,
          "sizing": "contain",
          "source": "https://i.imgur.com/eQB0wsT.png",
          "x": 0.153875,
          "xanchor": "center",
          "xref": "x",
          "y": 6,
          "yanchor": "middle",
          "yref": "y"
         },
         {
          "layer": "above",
          "opacity": 0.35,
          "sizex": 0.25,
          "sizey": 0.25,
          "sizing": "contain",
          "source": "https://i.imgur.com/e5pjmHx.png",
          "x": 0.1133112583,
          "xanchor": "center",
          "xref": "x",
          "y": 3.769230769,
          "yanchor": "middle",
          "yref": "y"
         },
         {
          "layer": "above",
          "opacity": 0.35,
          "sizex": 0.25,
          "sizey": 0.25,
          "sizing": "contain",
          "source": "https://i.imgur.com/CZbwcFI.png",
          "x": 0.09037974684,
          "xanchor": "center",
          "xref": "x",
          "y": 3.5,
          "yanchor": "middle",
          "yref": "y"
         },
         {
          "layer": "above",
          "opacity": 0.35,
          "sizex": 0.25,
          "sizey": 0.25,
          "sizing": "contain",
          "source": "https://i.imgur.com/c9rRqYo.png",
          "x": 0.1222570533,
          "xanchor": "center",
          "xref": "x",
          "y": 3.846153846,
          "yanchor": "middle",
          "yref": "y"
         },
         {
          "layer": "above",
          "opacity": 0.35,
          "sizex": 0.25,
          "sizey": 0.25,
          "sizing": "contain",
          "source": "https://i.imgur.com/DyWKX0s.png",
          "x": 0.1397229219,
          "xanchor": "center",
          "xref": "x",
          "y": 5.423076923,
          "yanchor": "middle",
          "yref": "y"
         },
         {
          "layer": "above",
          "opacity": 0.35,
          "sizex": 0.25,
          "sizey": 0.25,
          "sizing": "contain",
          "source": "https://i.imgur.com/dooGO0m.png",
          "x": 0.1198533724,
          "xanchor": "center",
          "xref": "x",
          "y": 4.384615385,
          "yanchor": "middle",
          "yref": "y"
         },
         {
          "layer": "above",
          "opacity": 0.35,
          "sizex": 0.25,
          "sizey": 0.25,
          "sizing": "contain",
          "source": "https://i.imgur.com/iOoxKkB.png",
          "x": 0.09302521008,
          "xanchor": "center",
          "xref": "x",
          "y": 3.576923077,
          "yanchor": "middle",
          "yref": "y"
         },
         {
          "layer": "above",
          "opacity": 0.35,
          "sizex": 0.25,
          "sizey": 0.25,
          "sizing": "contain",
          "source": "https://i.imgur.com/K6aoRqW.png",
          "x": 0.118625731,
          "xanchor": "center",
          "xref": "x",
          "y": 4.115384615,
          "yanchor": "middle",
          "yref": "y"
         },
         {
          "layer": "above",
          "opacity": 0.35,
          "sizex": 0.25,
          "sizey": 0.25,
          "sizing": "contain",
          "source": "https://i.imgur.com/XrAnCXM.png",
          "x": 0.1104248366,
          "xanchor": "center",
          "xref": "x",
          "y": 3.346153846,
          "yanchor": "middle",
          "yref": "y"
         },
         {
          "layer": "above",
          "opacity": 0.35,
          "sizex": 0.25,
          "sizey": 0.25,
          "sizing": "contain",
          "source": "https://i.imgur.com/Gpz6jl7.png",
          "x": 0.09761437908,
          "xanchor": "center",
          "xref": "x",
          "y": 3.807692308,
          "yanchor": "middle",
          "yref": "y"
         },
         {
          "layer": "above",
          "opacity": 0.35,
          "sizex": 0.25,
          "sizey": 0.25,
          "sizing": "contain",
          "source": "https://i.imgur.com/CXfyKw4.png",
          "x": 0.1355048077,
          "xanchor": "center",
          "xref": "x",
          "y": 6.5,
          "yanchor": "middle",
          "yref": "y"
         },
         {
          "layer": "above",
          "opacity": 0.35,
          "sizex": 0.25,
          "sizey": 0.25,
          "sizing": "contain",
          "source": "https://i.imgur.com/o2PP4ux.png",
          "x": 0.106474359,
          "xanchor": "center",
          "xref": "x",
          "y": 4.384615385,
          "yanchor": "middle",
          "yref": "y"
         },
         {
          "layer": "above",
          "opacity": 0.35,
          "sizex": 0.25,
          "sizey": 0.25,
          "sizing": "contain",
          "source": "https://i.imgur.com/Fz4xh6m.png",
          "x": 0.1409454545,
          "xanchor": "center",
          "xref": "x",
          "y": 4.076923077,
          "yanchor": "middle",
          "yref": "y"
         },
         {
          "layer": "above",
          "opacity": 0.35,
          "sizex": 0.25,
          "sizey": 0.25,
          "sizing": "contain",
          "source": "https://i.imgur.com/1JUxe7u.png",
          "x": 0.1347666667,
          "xanchor": "center",
          "xref": "x",
          "y": 4,
          "yanchor": "middle",
          "yref": "y"
         },
         {
          "layer": "above",
          "opacity": 0.35,
          "sizex": 0.25,
          "sizey": 0.25,
          "sizing": "contain",
          "source": "https://i.imgur.com/3LmZ5gX.png",
          "x": 0.1014784946,
          "xanchor": "center",
          "xref": "x",
          "y": 4.076923077,
          "yanchor": "middle",
          "yref": "y"
         },
         {
          "layer": "above",
          "opacity": 0.35,
          "sizex": 0.25,
          "sizey": 0.25,
          "sizing": "contain",
          "source": "https://i.imgur.com/vhAWZQO.png",
          "x": 0.08303405573,
          "xanchor": "center",
          "xref": "x",
          "y": 3.689655172,
          "yanchor": "middle",
          "yref": "y"
         },
         {
          "layer": "above",
          "opacity": 0.35,
          "sizex": 0.25,
          "sizey": 0.25,
          "sizing": "contain",
          "source": "https://i.imgur.com/rVqtfOA.png",
          "x": 0.1129589041,
          "xanchor": "center",
          "xref": "x",
          "y": 4.344827586,
          "yanchor": "middle",
          "yref": "y"
         },
         {
          "layer": "above",
          "opacity": 1,
          "sizex": 0.45,
          "sizey": 0.45,
          "sizing": "contain",
          "source": "https://i.imgur.com/1Ze94pt.png",
          "x": 0.1264646465,
          "xanchor": "center",
          "xref": "x",
          "y": 4.862068966,
          "yanchor": "middle",
          "yref": "y"
         },
         {
          "layer": "above",
          "opacity": 0.35,
          "sizex": 0.25,
          "sizey": 0.25,
          "sizing": "contain",
          "source": "https://i.imgur.com/JsJ06ke.png",
          "x": 0.1527522936,
          "xanchor": "center",
          "xref": "x",
          "y": 5.103448276,
          "yanchor": "middle",
          "yref": "y"
         },
         {
          "layer": "above",
          "opacity": 0.35,
          "sizex": 0.25,
          "sizey": 0.25,
          "sizing": "contain",
          "source": "https://i.imgur.com/SBsGYjm.png",
          "x": 0.121993865,
          "xanchor": "center",
          "xref": "x",
          "y": 3.413793103,
          "yanchor": "middle",
          "yref": "y"
         },
         {
          "layer": "above",
          "opacity": 0.35,
          "sizex": 0.25,
          "sizey": 0.25,
          "sizing": "contain",
          "source": "https://i.imgur.com/52xSYdX.png",
          "x": 0.0903021148,
          "xanchor": "center",
          "xref": "x",
          "y": 3.172413793,
          "yanchor": "middle",
          "yref": "y"
         },
         {
          "layer": "above",
          "opacity": 0.35,
          "sizex": 0.25,
          "sizey": 0.25,
          "sizing": "contain",
          "source": "https://i.imgur.com/XWmpYeu.png",
          "x": 0.09972644377,
          "xanchor": "center",
          "xref": "x",
          "y": 3.275862069,
          "yanchor": "middle",
          "yref": "y"
         },
         {
          "layer": "above",
          "opacity": 0.35,
          "sizex": 0.25,
          "sizey": 0.25,
          "sizing": "contain",
          "source": "https://i.imgur.com/hOQC1jo.png",
          "x": 0.1081351351,
          "xanchor": "center",
          "xref": "x",
          "y": 4.142857143,
          "yanchor": "middle",
          "yref": "y"
         },
         {
          "layer": "above",
          "opacity": 0.35,
          "sizex": 0.25,
          "sizey": 0.25,
          "sizing": "contain",
          "source": "https://i.imgur.com/7bHOIx9.png",
          "x": 0.1023529412,
          "xanchor": "center",
          "xref": "x",
          "y": 3.517241379,
          "yanchor": "middle",
          "yref": "y"
         },
         {
          "layer": "above",
          "opacity": 0.35,
          "sizex": 0.25,
          "sizey": 0.25,
          "sizing": "contain",
          "source": "https://i.imgur.com/Dp0KUmN.png",
          "x": 0.09648199446,
          "xanchor": "center",
          "xref": "x",
          "y": 3.862068966,
          "yanchor": "middle",
          "yref": "y"
         },
         {
          "layer": "above",
          "opacity": 0.35,
          "sizex": 0.25,
          "sizey": 0.25,
          "sizing": "contain",
          "source": "https://i.imgur.com/60XAIJI.png",
          "x": 0.1217149758,
          "xanchor": "center",
          "xref": "x",
          "y": 3.75862069,
          "yanchor": "middle",
          "yref": "y"
         },
         {
          "layer": "above",
          "opacity": 0.35,
          "sizex": 0.25,
          "sizey": 0.25,
          "sizing": "contain",
          "source": "https://i.imgur.com/Ql7LKBZ.png",
          "x": 0.1058455115,
          "xanchor": "center",
          "xref": "x",
          "y": 5.137931034,
          "yanchor": "middle",
          "yref": "y"
         },
         {
          "layer": "above",
          "opacity": 0.35,
          "sizex": 0.25,
          "sizey": 0.25,
          "sizing": "contain",
          "source": "https://i.imgur.com/KjtIy8U.png",
          "x": 0.08948717949,
          "xanchor": "center",
          "xref": "x",
          "y": 3.172413793,
          "yanchor": "middle",
          "yref": "y"
         },
         {
          "layer": "above",
          "opacity": 0.35,
          "sizex": 0.25,
          "sizey": 0.25,
          "sizing": "contain",
          "source": "https://i.imgur.com/9A4flGu.png",
          "x": 0.09116094987,
          "xanchor": "center",
          "xref": "x",
          "y": 3.724137931,
          "yanchor": "middle",
          "yref": "y"
         },
         {
          "layer": "above",
          "opacity": 0.35,
          "sizex": 0.25,
          "sizey": 0.25,
          "sizing": "contain",
          "source": "https://i.imgur.com/sYubMBZ.png",
          "x": 0.07536977492,
          "xanchor": "center",
          "xref": "x",
          "y": 3.24137931,
          "yanchor": "middle",
          "yref": "y"
         },
         {
          "layer": "above",
          "opacity": 0.35,
          "sizex": 0.25,
          "sizey": 0.25,
          "sizing": "contain",
          "source": "https://i.imgur.com/px5mT39.png",
          "x": 0.09535714286,
          "xanchor": "center",
          "xref": "x",
          "y": 4,
          "yanchor": "middle",
          "yref": "y"
         },
         {
          "layer": "above",
          "opacity": 0.35,
          "sizex": 0.25,
          "sizey": 0.25,
          "sizing": "contain",
          "source": "https://i.imgur.com/nhMJAHW.png",
          "x": 0.1328742515,
          "xanchor": "center",
          "xref": "x",
          "y": 3.689655172,
          "yanchor": "middle",
          "yref": "y"
         },
         {
          "layer": "above",
          "opacity": 0.35,
          "sizex": 0.25,
          "sizey": 0.25,
          "sizing": "contain",
          "source": "https://i.imgur.com/rbAC6zo.png",
          "x": 0.1007017544,
          "xanchor": "center",
          "xref": "x",
          "y": 3.275862069,
          "yanchor": "middle",
          "yref": "y"
         },
         {
          "layer": "above",
          "opacity": 0.35,
          "sizex": 0.25,
          "sizey": 0.25,
          "sizing": "contain",
          "source": "https://i.imgur.com/SDA0nMH.png",
          "x": 0.1254005168,
          "xanchor": "center",
          "xref": "x",
          "y": 5.035714286,
          "yanchor": "middle",
          "yref": "y"
         },
         {
          "layer": "above",
          "opacity": 0.35,
          "sizex": 0.25,
          "sizey": 0.25,
          "sizing": "contain",
          "source": "https://i.imgur.com/x8qGMuV.png",
          "x": 0.1156534954,
          "xanchor": "center",
          "xref": "x",
          "y": 3.689655172,
          "yanchor": "middle",
          "yref": "y"
         },
         {
          "layer": "above",
          "opacity": 0.35,
          "sizex": 0.25,
          "sizey": 0.25,
          "sizing": "contain",
          "source": "https://i.imgur.com/HNfIv5Y.png",
          "x": 0.1221907216,
          "xanchor": "center",
          "xref": "x",
          "y": 5.923076923,
          "yanchor": "middle",
          "yref": "y"
         },
         {
          "layer": "above",
          "opacity": 0.35,
          "sizex": 0.25,
          "sizey": 0.25,
          "sizing": "contain",
          "source": "https://i.imgur.com/G3MyVe5.png",
          "x": 0.1274063401,
          "xanchor": "center",
          "xref": "x",
          "y": 5.115384615,
          "yanchor": "middle",
          "yref": "y"
         },
         {
          "layer": "above",
          "opacity": 0.35,
          "sizex": 0.25,
          "sizey": 0.25,
          "sizing": "contain",
          "source": "https://i.imgur.com/YHGxNQP.png",
          "x": 0.09770034843,
          "xanchor": "center",
          "xref": "x",
          "y": 3.307692308,
          "yanchor": "middle",
          "yref": "y"
         },
         {
          "layer": "above",
          "opacity": 0.35,
          "sizex": 0.25,
          "sizey": 0.25,
          "sizing": "contain",
          "source": "https://i.imgur.com/xULypbI.png",
          "x": 0.1248297214,
          "xanchor": "center",
          "xref": "x",
          "y": 3.923076923,
          "yanchor": "middle",
          "yref": "y"
         },
         {
          "layer": "above",
          "opacity": 0.35,
          "sizex": 0.25,
          "sizey": 0.25,
          "sizing": "contain",
          "source": "https://i.imgur.com/lwG9vvR.png",
          "x": 0.1133908046,
          "xanchor": "center",
          "xref": "x",
          "y": 4.807692308,
          "yanchor": "middle",
          "yref": "y"
         },
         {
          "layer": "above",
          "opacity": 0.35,
          "sizex": 0.25,
          "sizey": 0.25,
          "sizing": "contain",
          "source": "https://i.imgur.com/TZq2Hvr.png",
          "x": 0.1218390805,
          "xanchor": "center",
          "xref": "x",
          "y": 4.461538462,
          "yanchor": "middle",
          "yref": "y"
         },
         {
          "layer": "above",
          "opacity": 0.35,
          "sizex": 0.25,
          "sizey": 0.25,
          "sizing": "contain",
          "source": "https://i.imgur.com/dvkjqJ2.png",
          "x": 0.1115719064,
          "xanchor": "center",
          "xref": "x",
          "y": 3.807692308,
          "yanchor": "middle",
          "yref": "y"
         },
         {
          "layer": "above",
          "opacity": 0.35,
          "sizex": 0.25,
          "sizey": 0.25,
          "sizing": "contain",
          "source": "https://i.imgur.com/RKf7LuY.png",
          "x": 0.1138162544,
          "xanchor": "center",
          "xref": "x",
          "y": 3.5,
          "yanchor": "middle",
          "yref": "y"
         },
         {
          "layer": "above",
          "opacity": 0.35,
          "sizex": 0.25,
          "sizey": 0.25,
          "sizing": "contain",
          "source": "https://i.imgur.com/kuN3QSp.png",
          "x": 0.1453018373,
          "xanchor": "center",
          "xref": "x",
          "y": 5.615384615,
          "yanchor": "middle",
          "yref": "y"
         },
         {
          "layer": "above",
          "opacity": 0.35,
          "sizex": 0.25,
          "sizey": 0.25,
          "sizing": "contain",
          "source": "https://i.imgur.com/jbim9vo.png",
          "x": 0.1287252125,
          "xanchor": "center",
          "xref": "x",
          "y": 4.307692308,
          "yanchor": "middle",
          "yref": "y"
         },
         {
          "layer": "above",
          "opacity": 0.35,
          "sizex": 0.25,
          "sizey": 0.25,
          "sizing": "contain",
          "source": "https://i.imgur.com/bIsadPH.png",
          "x": 0.1157954545,
          "xanchor": "center",
          "xref": "x",
          "y": 4.346153846,
          "yanchor": "middle",
          "yref": "y"
         },
         {
          "layer": "above",
          "opacity": 0.35,
          "sizex": 0.25,
          "sizey": 0.25,
          "sizing": "contain",
          "source": "https://i.imgur.com/klKUp8n.png",
          "x": 0.108109589,
          "xanchor": "center",
          "xref": "x",
          "y": 4.846153846,
          "yanchor": "middle",
          "yref": "y"
         },
         {
          "layer": "above",
          "opacity": 0.35,
          "sizex": 0.25,
          "sizey": 0.25,
          "sizing": "contain",
          "source": "https://i.imgur.com/rxlejD4.png",
          "x": 0.1054266212,
          "xanchor": "center",
          "xref": "x",
          "y": 3.807692308,
          "yanchor": "middle",
          "yref": "y"
         },
         {
          "layer": "above",
          "opacity": 0.35,
          "sizex": 0.25,
          "sizey": 0.25,
          "sizing": "contain",
          "source": "https://i.imgur.com/7RHafik.png",
          "x": 0.09070469799,
          "xanchor": "center",
          "xref": "x",
          "y": 3.692307692,
          "yanchor": "middle",
          "yref": "y"
         },
         {
          "layer": "above",
          "opacity": 0.35,
          "sizex": 0.25,
          "sizey": 0.25,
          "sizing": "contain",
          "source": "https://i.imgur.com/UvYK5II.png",
          "x": 0.09490118577,
          "xanchor": "center",
          "xref": "x",
          "y": 3.038461538,
          "yanchor": "middle",
          "yref": "y"
         },
         {
          "layer": "above",
          "opacity": 0.35,
          "sizex": 0.25,
          "sizey": 0.25,
          "sizing": "contain",
          "source": "https://i.imgur.com/9k1Kgp6.png",
          "x": 0.1068016194,
          "xanchor": "center",
          "xref": "x",
          "y": 3.615384615,
          "yanchor": "middle",
          "yref": "y"
         },
         {
          "layer": "above",
          "opacity": 0.35,
          "sizex": 0.25,
          "sizey": 0.25,
          "sizing": "contain",
          "source": "https://i.imgur.com/F0cNDBC.png",
          "x": 0.119266055,
          "xanchor": "center",
          "xref": "x",
          "y": 4.769230769,
          "yanchor": "middle",
          "yref": "y"
         },
         {
          "layer": "above",
          "opacity": 0.35,
          "sizex": 0.25,
          "sizey": 0.25,
          "sizing": "contain",
          "source": "https://i.imgur.com/9hfNDts.png",
          "x": 0.1298876404,
          "xanchor": "center",
          "xref": "x",
          "y": 4.807692308,
          "yanchor": "middle",
          "yref": "y"
         },
         {
          "layer": "above",
          "opacity": 0.35,
          "sizex": 0.25,
          "sizey": 0.25,
          "sizing": "contain",
          "source": "https://i.imgur.com/o4rSfuL.png",
          "x": 0.1090704225,
          "xanchor": "center",
          "xref": "x",
          "y": 3.275862069,
          "yanchor": "middle",
          "yref": "y"
         },
         {
          "layer": "above",
          "opacity": 0.35,
          "sizex": 0.25,
          "sizey": 0.25,
          "sizing": "contain",
          "source": "https://i.imgur.com/qI6Uchm.png",
          "x": 0.1426446281,
          "xanchor": "center",
          "xref": "x",
          "y": 4.517241379,
          "yanchor": "middle",
          "yref": "y"
         },
         {
          "layer": "above",
          "opacity": 0.35,
          "sizex": 0.25,
          "sizey": 0.25,
          "sizing": "contain",
          "source": "https://i.imgur.com/0CwKO1D.png",
          "x": 0.1518131868,
          "xanchor": "center",
          "xref": "x",
          "y": 4.689655172,
          "yanchor": "middle",
          "yref": "y"
         },
         {
          "layer": "above",
          "opacity": 0.35,
          "sizex": 0.25,
          "sizey": 0.25,
          "sizing": "contain",
          "source": "https://i.imgur.com/C4eV2p0.png",
          "x": 0.1171515152,
          "xanchor": "center",
          "xref": "x",
          "y": 3.896551724,
          "yanchor": "middle",
          "yref": "y"
         },
         {
          "layer": "above",
          "opacity": 0.35,
          "sizex": 0.25,
          "sizey": 0.25,
          "sizing": "contain",
          "source": "https://i.imgur.com/kFyJaGO.png",
          "x": 0.1043965517,
          "xanchor": "center",
          "xref": "x",
          "y": 3.931034483,
          "yanchor": "middle",
          "yref": "y"
         },
         {
          "layer": "above",
          "opacity": 0.35,
          "sizex": 0.25,
          "sizey": 0.25,
          "sizing": "contain",
          "source": "https://i.imgur.com/DztjVQE.png",
          "x": 0.09300699301,
          "xanchor": "center",
          "xref": "x",
          "y": 2.896551724,
          "yanchor": "middle",
          "yref": "y"
         },
         {
          "layer": "above",
          "opacity": 0.35,
          "sizex": 0.25,
          "sizey": 0.25,
          "sizing": "contain",
          "source": "https://i.imgur.com/kTsF0rV.png",
          "x": 0.1133057851,
          "xanchor": "center",
          "xref": "x",
          "y": 3.896551724,
          "yanchor": "middle",
          "yref": "y"
         },
         {
          "layer": "above",
          "opacity": 0.35,
          "sizex": 0.25,
          "sizey": 0.25,
          "sizing": "contain",
          "source": "https://i.imgur.com/x4c0wbO.png",
          "x": 0.1560941828,
          "xanchor": "center",
          "xref": "x",
          "y": 5.448275862,
          "yanchor": "middle",
          "yref": "y"
         },
         {
          "layer": "above",
          "opacity": 0.35,
          "sizex": 0.25,
          "sizey": 0.25,
          "sizing": "contain",
          "source": "https://i.imgur.com/ce69kNa.png",
          "x": 0.1131756757,
          "xanchor": "center",
          "xref": "x",
          "y": 3.642857143,
          "yanchor": "middle",
          "yref": "y"
         },
         {
          "layer": "above",
          "opacity": 0.35,
          "sizex": 0.25,
          "sizey": 0.25,
          "sizing": "contain",
          "source": "https://i.imgur.com/yQJvRBY.png",
          "x": 0.135739645,
          "xanchor": "center",
          "xref": "x",
          "y": 4.379310345,
          "yanchor": "middle",
          "yref": "y"
         },
         {
          "layer": "above",
          "opacity": 0.35,
          "sizex": 0.25,
          "sizey": 0.25,
          "sizing": "contain",
          "source": "https://i.imgur.com/KAHlAuF.png",
          "x": 0.08947882736,
          "xanchor": "center",
          "xref": "x",
          "y": 3.24137931,
          "yanchor": "middle",
          "yref": "y"
         },
         {
          "layer": "above",
          "opacity": 0.35,
          "sizex": 0.25,
          "sizey": 0.25,
          "sizing": "contain",
          "source": "https://i.imgur.com/KdMxrGX.png",
          "x": 0.111456044,
          "xanchor": "center",
          "xref": "x",
          "y": 4.068965517,
          "yanchor": "middle",
          "yref": "y"
         },
         {
          "layer": "above",
          "opacity": 0.35,
          "sizex": 0.25,
          "sizey": 0.25,
          "sizing": "contain",
          "source": "https://i.imgur.com/z3WXql2.png",
          "x": 0.09864102564,
          "xanchor": "center",
          "xref": "x",
          "y": 4.413793103,
          "yanchor": "middle",
          "yref": "y"
         },
         {
          "layer": "above",
          "opacity": 0.35,
          "sizex": 0.25,
          "sizey": 0.25,
          "sizing": "contain",
          "source": "https://i.imgur.com/Erg2x2b.png",
          "x": 0.1167777778,
          "xanchor": "center",
          "xref": "x",
          "y": 3.357142857,
          "yanchor": "middle",
          "yref": "y"
         },
         {
          "layer": "above",
          "opacity": 0.35,
          "sizex": 0.25,
          "sizey": 0.25,
          "sizing": "contain",
          "source": "https://i.imgur.com/6kAlaCy.png",
          "x": 0.1083333333,
          "xanchor": "center",
          "xref": "x",
          "y": 3.24137931,
          "yanchor": "middle",
          "yref": "y"
         },
         {
          "layer": "above",
          "opacity": 0.35,
          "sizex": 0.25,
          "sizey": 0.25,
          "sizing": "contain",
          "source": "https://i.imgur.com/pPD5ZAg.png",
          "x": 0.1348407643,
          "xanchor": "center",
          "xref": "x",
          "y": 6.310344828,
          "yanchor": "middle",
          "yref": "y"
         },
         {
          "layer": "above",
          "opacity": 0.35,
          "sizex": 0.25,
          "sizey": 0.25,
          "sizing": "contain",
          "source": "https://i.imgur.com/1ZRO0Be.png",
          "x": 0.145631929,
          "xanchor": "center",
          "xref": "x",
          "y": 5.793103448,
          "yanchor": "middle",
          "yref": "y"
         },
         {
          "layer": "above",
          "opacity": 0.35,
          "sizex": 0.25,
          "sizey": 0.25,
          "sizing": "contain",
          "source": "https://i.imgur.com/Qvdlcxy.png",
          "x": 0.1042319749,
          "xanchor": "center",
          "xref": "x",
          "y": 3.344827586,
          "yanchor": "middle",
          "yref": "y"
         },
         {
          "layer": "above",
          "opacity": 0.35,
          "sizex": 0.25,
          "sizey": 0.25,
          "sizing": "contain",
          "source": "https://i.imgur.com/cQ5Mv8I.png",
          "x": 0.1014956012,
          "xanchor": "center",
          "xref": "x",
          "y": 4.068965517,
          "yanchor": "middle",
          "yref": "y"
         },
         {
          "layer": "above",
          "opacity": 0.35,
          "sizex": 0.25,
          "sizey": 0.25,
          "sizing": "contain",
          "source": "https://i.imgur.com/zyGTmAb.png",
          "x": 0.1036814621,
          "xanchor": "center",
          "xref": "x",
          "y": 3.724137931,
          "yanchor": "middle",
          "yref": "y"
         },
         {
          "layer": "above",
          "opacity": 0.35,
          "sizex": 0.25,
          "sizey": 0.25,
          "sizing": "contain",
          "source": "https://i.imgur.com/SURo5sj.png",
          "x": 0.1301914894,
          "xanchor": "center",
          "xref": "x",
          "y": 5.464285714,
          "yanchor": "middle",
          "yref": "y"
         },
         {
          "layer": "above",
          "opacity": 0.35,
          "sizex": 0.25,
          "sizey": 0.25,
          "sizing": "contain",
          "source": "https://i.imgur.com/M4mwH1X.png",
          "x": 0.1348681055,
          "xanchor": "center",
          "xref": "x",
          "y": 5.24137931,
          "yanchor": "middle",
          "yref": "y"
         },
         {
          "layer": "above",
          "opacity": 0.35,
          "sizex": 0.25,
          "sizey": 0.25,
          "sizing": "contain",
          "source": "https://i.imgur.com/0F6UIO4.png",
          "x": 0.1195226131,
          "xanchor": "center",
          "xref": "x",
          "y": 4.714285714,
          "yanchor": "middle",
          "yref": "y"
         },
         {
          "layer": "above",
          "opacity": 0.35,
          "sizex": 0.25,
          "sizey": 0.25,
          "sizing": "contain",
          "source": "https://i.imgur.com/MOhGOQ4.png",
          "x": 0.1369273743,
          "xanchor": "center",
          "xref": "x",
          "y": 4.137931034,
          "yanchor": "middle",
          "yref": "y"
         },
         {
          "layer": "above",
          "opacity": 0.35,
          "sizex": 0.25,
          "sizey": 0.25,
          "sizing": "contain",
          "source": "https://i.imgur.com/EMCwD3X.png",
          "x": 0.1187198068,
          "xanchor": "center",
          "xref": "x",
          "y": 5.714285714,
          "yanchor": "middle",
          "yref": "y"
         },
         {
          "layer": "above",
          "opacity": 0.35,
          "sizex": 0.25,
          "sizey": 0.25,
          "sizing": "contain",
          "source": "https://i.imgur.com/6IDi9XJ.png",
          "x": 0.09892508143,
          "xanchor": "center",
          "xref": "x",
          "y": 3.275862069,
          "yanchor": "middle",
          "yref": "y"
         },
         {
          "layer": "above",
          "opacity": 0.35,
          "sizex": 0.25,
          "sizey": 0.25,
          "sizing": "contain",
          "source": "https://i.imgur.com/6F7h3UR.png",
          "x": 0.1543839542,
          "xanchor": "center",
          "xref": "x",
          "y": 4.481481481,
          "yanchor": "middle",
          "yref": "y"
         },
         {
          "layer": "above",
          "opacity": 0.35,
          "sizex": 0.25,
          "sizey": 0.25,
          "sizing": "contain",
          "source": "https://i.imgur.com/LPhzr0K.png",
          "x": 0.1111042945,
          "xanchor": "center",
          "xref": "x",
          "y": 3.892857143,
          "yanchor": "middle",
          "yref": "y"
         },
         {
          "layer": "above",
          "opacity": 0.35,
          "sizex": 0.25,
          "sizey": 0.25,
          "sizing": "contain",
          "source": "https://i.imgur.com/Dgei0uj.png",
          "x": 0.1236111111,
          "xanchor": "center",
          "xref": "x",
          "y": 4.321428571,
          "yanchor": "middle",
          "yref": "y"
         },
         {
          "layer": "above",
          "opacity": 0.35,
          "sizex": 0.25,
          "sizey": 0.25,
          "sizing": "contain",
          "source": "https://i.imgur.com/2zggSrF.png",
          "x": 0.1110752688,
          "xanchor": "center",
          "xref": "x",
          "y": 4.482758621,
          "yanchor": "middle",
          "yref": "y"
         },
         {
          "layer": "above",
          "opacity": 0.35,
          "sizex": 0.25,
          "sizey": 0.25,
          "sizing": "contain",
          "source": "https://i.imgur.com/fs7VK9G.png",
          "x": 0.1227902622,
          "xanchor": "center",
          "xref": "x",
          "y": 6.464285714,
          "yanchor": "middle",
          "yref": "y"
         },
         {
          "layer": "above",
          "opacity": 0.35,
          "sizex": 0.25,
          "sizey": 0.25,
          "sizing": "contain",
          "source": "https://i.imgur.com/vHHqKJX.png",
          "x": 0.1231671554,
          "xanchor": "center",
          "xref": "x",
          "y": 3.413793103,
          "yanchor": "middle",
          "yref": "y"
         },
         {
          "layer": "above",
          "opacity": 0.35,
          "sizex": 0.25,
          "sizey": 0.25,
          "sizing": "contain",
          "source": "https://i.imgur.com/FF8z7uZ.png",
          "x": 0.1242685371,
          "xanchor": "center",
          "xref": "x",
          "y": 6.678571429,
          "yanchor": "middle",
          "yref": "y"
         },
         {
          "layer": "above",
          "opacity": 0.35,
          "sizex": 0.25,
          "sizey": 0.25,
          "sizing": "contain",
          "source": "https://i.imgur.com/z47emBQ.png",
          "x": 0.114534005,
          "xanchor": "center",
          "xref": "x",
          "y": 4.571428571,
          "yanchor": "middle",
          "yref": "y"
         },
         {
          "layer": "above",
          "opacity": 0.35,
          "sizex": 0.25,
          "sizey": 0.25,
          "sizing": "contain",
          "source": "https://i.imgur.com/3kOLokZ.png",
          "x": 0.1543431635,
          "xanchor": "center",
          "xref": "x",
          "y": 4.821428571,
          "yanchor": "middle",
          "yref": "y"
         },
         {
          "layer": "above",
          "opacity": 0.35,
          "sizex": 0.25,
          "sizey": 0.25,
          "sizing": "contain",
          "source": "https://i.imgur.com/z4Tl9Zu.png",
          "x": 0.1128571429,
          "xanchor": "center",
          "xref": "x",
          "y": 3.448275862,
          "yanchor": "middle",
          "yref": "y"
         },
         {
          "layer": "above",
          "opacity": 0.35,
          "sizex": 0.25,
          "sizey": 0.25,
          "sizing": "contain",
          "source": "https://i.imgur.com/eeBetFN.png",
          "x": 0.11024,
          "xanchor": "center",
          "xref": "x",
          "y": 2.785714286,
          "yanchor": "middle",
          "yref": "y"
         },
         {
          "layer": "above",
          "opacity": 0.35,
          "sizex": 0.25,
          "sizey": 0.25,
          "sizing": "contain",
          "source": "https://i.imgur.com/fJ7rUWW.png",
          "x": 0.1254060325,
          "xanchor": "center",
          "xref": "x",
          "y": 5.678571429,
          "yanchor": "middle",
          "yref": "y"
         },
         {
          "layer": "above",
          "opacity": 0.35,
          "sizex": 0.25,
          "sizey": 0.25,
          "sizing": "contain",
          "source": "https://i.imgur.com/9BQHJRl.png",
          "x": 0.1235174419,
          "xanchor": "center",
          "xref": "x",
          "y": 3.793103448,
          "yanchor": "middle",
          "yref": "y"
         },
         {
          "layer": "above",
          "opacity": 0.35,
          "sizex": 0.25,
          "sizey": 0.25,
          "sizing": "contain",
          "source": "https://i.imgur.com/6azSF88.png",
          "x": 0.1233027523,
          "xanchor": "center",
          "xref": "x",
          "y": 4.142857143,
          "yanchor": "middle",
          "yref": "y"
         }
        ],
        "margin": {
         "b": 10,
         "l": 10,
         "r": 30,
         "t": 50
        },
        "paper_bgcolor": "rgb(70, 70, 70)",
        "plot_bgcolor": "rgb(70, 70, 70)",
        "shapes": [
         {
          "layer": "below",
          "line": {
           "color": "White",
           "width": 3
          },
          "type": "line",
          "x0": 0.1168351657753125,
          "x1": 0.1168351657753125,
          "y0": 2,
          "y1": 8
         },
         {
          "layer": "below",
          "line": {
           "color": "White",
           "width": 3
          },
          "type": "line",
          "x0": 0.05,
          "x1": 0.2,
          "y0": 4.285286525885417,
          "y1": 4.285286525885417
         }
        ],
        "showlegend": false,
        "template": {
         "data": {
          "bar": [
           {
            "error_x": {
             "color": "#2a3f5f"
            },
            "error_y": {
             "color": "#2a3f5f"
            },
            "marker": {
             "line": {
              "color": "#E5ECF6",
              "width": 0.5
             },
             "pattern": {
              "fillmode": "overlay",
              "size": 10,
              "solidity": 0.2
             }
            },
            "type": "bar"
           }
          ],
          "barpolar": [
           {
            "marker": {
             "line": {
              "color": "#E5ECF6",
              "width": 0.5
             },
             "pattern": {
              "fillmode": "overlay",
              "size": 10,
              "solidity": 0.2
             }
            },
            "type": "barpolar"
           }
          ],
          "carpet": [
           {
            "aaxis": {
             "endlinecolor": "#2a3f5f",
             "gridcolor": "white",
             "linecolor": "white",
             "minorgridcolor": "white",
             "startlinecolor": "#2a3f5f"
            },
            "baxis": {
             "endlinecolor": "#2a3f5f",
             "gridcolor": "white",
             "linecolor": "white",
             "minorgridcolor": "white",
             "startlinecolor": "#2a3f5f"
            },
            "type": "carpet"
           }
          ],
          "choropleth": [
           {
            "colorbar": {
             "outlinewidth": 0,
             "ticks": ""
            },
            "type": "choropleth"
           }
          ],
          "contour": [
           {
            "colorbar": {
             "outlinewidth": 0,
             "ticks": ""
            },
            "colorscale": [
             [
              0,
              "#0d0887"
             ],
             [
              0.1111111111111111,
              "#46039f"
             ],
             [
              0.2222222222222222,
              "#7201a8"
             ],
             [
              0.3333333333333333,
              "#9c179e"
             ],
             [
              0.4444444444444444,
              "#bd3786"
             ],
             [
              0.5555555555555556,
              "#d8576b"
             ],
             [
              0.6666666666666666,
              "#ed7953"
             ],
             [
              0.7777777777777778,
              "#fb9f3a"
             ],
             [
              0.8888888888888888,
              "#fdca26"
             ],
             [
              1,
              "#f0f921"
             ]
            ],
            "type": "contour"
           }
          ],
          "contourcarpet": [
           {
            "colorbar": {
             "outlinewidth": 0,
             "ticks": ""
            },
            "type": "contourcarpet"
           }
          ],
          "heatmap": [
           {
            "colorbar": {
             "outlinewidth": 0,
             "ticks": ""
            },
            "colorscale": [
             [
              0,
              "#0d0887"
             ],
             [
              0.1111111111111111,
              "#46039f"
             ],
             [
              0.2222222222222222,
              "#7201a8"
             ],
             [
              0.3333333333333333,
              "#9c179e"
             ],
             [
              0.4444444444444444,
              "#bd3786"
             ],
             [
              0.5555555555555556,
              "#d8576b"
             ],
             [
              0.6666666666666666,
              "#ed7953"
             ],
             [
              0.7777777777777778,
              "#fb9f3a"
             ],
             [
              0.8888888888888888,
              "#fdca26"
             ],
             [
              1,
              "#f0f921"
             ]
            ],
            "type": "heatmap"
           }
          ],
          "heatmapgl": [
           {
            "colorbar": {
             "outlinewidth": 0,
             "ticks": ""
            },
            "colorscale": [
             [
              0,
              "#0d0887"
             ],
             [
              0.1111111111111111,
              "#46039f"
             ],
             [
              0.2222222222222222,
              "#7201a8"
             ],
             [
              0.3333333333333333,
              "#9c179e"
             ],
             [
              0.4444444444444444,
              "#bd3786"
             ],
             [
              0.5555555555555556,
              "#d8576b"
             ],
             [
              0.6666666666666666,
              "#ed7953"
             ],
             [
              0.7777777777777778,
              "#fb9f3a"
             ],
             [
              0.8888888888888888,
              "#fdca26"
             ],
             [
              1,
              "#f0f921"
             ]
            ],
            "type": "heatmapgl"
           }
          ],
          "histogram": [
           {
            "marker": {
             "pattern": {
              "fillmode": "overlay",
              "size": 10,
              "solidity": 0.2
             }
            },
            "type": "histogram"
           }
          ],
          "histogram2d": [
           {
            "colorbar": {
             "outlinewidth": 0,
             "ticks": ""
            },
            "colorscale": [
             [
              0,
              "#0d0887"
             ],
             [
              0.1111111111111111,
              "#46039f"
             ],
             [
              0.2222222222222222,
              "#7201a8"
             ],
             [
              0.3333333333333333,
              "#9c179e"
             ],
             [
              0.4444444444444444,
              "#bd3786"
             ],
             [
              0.5555555555555556,
              "#d8576b"
             ],
             [
              0.6666666666666666,
              "#ed7953"
             ],
             [
              0.7777777777777778,
              "#fb9f3a"
             ],
             [
              0.8888888888888888,
              "#fdca26"
             ],
             [
              1,
              "#f0f921"
             ]
            ],
            "type": "histogram2d"
           }
          ],
          "histogram2dcontour": [
           {
            "colorbar": {
             "outlinewidth": 0,
             "ticks": ""
            },
            "colorscale": [
             [
              0,
              "#0d0887"
             ],
             [
              0.1111111111111111,
              "#46039f"
             ],
             [
              0.2222222222222222,
              "#7201a8"
             ],
             [
              0.3333333333333333,
              "#9c179e"
             ],
             [
              0.4444444444444444,
              "#bd3786"
             ],
             [
              0.5555555555555556,
              "#d8576b"
             ],
             [
              0.6666666666666666,
              "#ed7953"
             ],
             [
              0.7777777777777778,
              "#fb9f3a"
             ],
             [
              0.8888888888888888,
              "#fdca26"
             ],
             [
              1,
              "#f0f921"
             ]
            ],
            "type": "histogram2dcontour"
           }
          ],
          "mesh3d": [
           {
            "colorbar": {
             "outlinewidth": 0,
             "ticks": ""
            },
            "type": "mesh3d"
           }
          ],
          "parcoords": [
           {
            "line": {
             "colorbar": {
              "outlinewidth": 0,
              "ticks": ""
             }
            },
            "type": "parcoords"
           }
          ],
          "pie": [
           {
            "automargin": true,
            "type": "pie"
           }
          ],
          "scatter": [
           {
            "fillpattern": {
             "fillmode": "overlay",
             "size": 10,
             "solidity": 0.2
            },
            "type": "scatter"
           }
          ],
          "scatter3d": [
           {
            "line": {
             "colorbar": {
              "outlinewidth": 0,
              "ticks": ""
             }
            },
            "marker": {
             "colorbar": {
              "outlinewidth": 0,
              "ticks": ""
             }
            },
            "type": "scatter3d"
           }
          ],
          "scattercarpet": [
           {
            "marker": {
             "colorbar": {
              "outlinewidth": 0,
              "ticks": ""
             }
            },
            "type": "scattercarpet"
           }
          ],
          "scattergeo": [
           {
            "marker": {
             "colorbar": {
              "outlinewidth": 0,
              "ticks": ""
             }
            },
            "type": "scattergeo"
           }
          ],
          "scattergl": [
           {
            "marker": {
             "colorbar": {
              "outlinewidth": 0,
              "ticks": ""
             }
            },
            "type": "scattergl"
           }
          ],
          "scattermapbox": [
           {
            "marker": {
             "colorbar": {
              "outlinewidth": 0,
              "ticks": ""
             }
            },
            "type": "scattermapbox"
           }
          ],
          "scatterpolar": [
           {
            "marker": {
             "colorbar": {
              "outlinewidth": 0,
              "ticks": ""
             }
            },
            "type": "scatterpolar"
           }
          ],
          "scatterpolargl": [
           {
            "marker": {
             "colorbar": {
              "outlinewidth": 0,
              "ticks": ""
             }
            },
            "type": "scatterpolargl"
           }
          ],
          "scatterternary": [
           {
            "marker": {
             "colorbar": {
              "outlinewidth": 0,
              "ticks": ""
             }
            },
            "type": "scatterternary"
           }
          ],
          "surface": [
           {
            "colorbar": {
             "outlinewidth": 0,
             "ticks": ""
            },
            "colorscale": [
             [
              0,
              "#0d0887"
             ],
             [
              0.1111111111111111,
              "#46039f"
             ],
             [
              0.2222222222222222,
              "#7201a8"
             ],
             [
              0.3333333333333333,
              "#9c179e"
             ],
             [
              0.4444444444444444,
              "#bd3786"
             ],
             [
              0.5555555555555556,
              "#d8576b"
             ],
             [
              0.6666666666666666,
              "#ed7953"
             ],
             [
              0.7777777777777778,
              "#fb9f3a"
             ],
             [
              0.8888888888888888,
              "#fdca26"
             ],
             [
              1,
              "#f0f921"
             ]
            ],
            "type": "surface"
           }
          ],
          "table": [
           {
            "cells": {
             "fill": {
              "color": "#EBF0F8"
             },
             "line": {
              "color": "white"
             }
            },
            "header": {
             "fill": {
              "color": "#C8D4E3"
             },
             "line": {
              "color": "white"
             }
            },
            "type": "table"
           }
          ]
         },
         "layout": {
          "annotationdefaults": {
           "arrowcolor": "#2a3f5f",
           "arrowhead": 0,
           "arrowwidth": 1
          },
          "autotypenumbers": "strict",
          "coloraxis": {
           "colorbar": {
            "outlinewidth": 0,
            "ticks": ""
           }
          },
          "colorscale": {
           "diverging": [
            [
             0,
             "#8e0152"
            ],
            [
             0.1,
             "#c51b7d"
            ],
            [
             0.2,
             "#de77ae"
            ],
            [
             0.3,
             "#f1b6da"
            ],
            [
             0.4,
             "#fde0ef"
            ],
            [
             0.5,
             "#f7f7f7"
            ],
            [
             0.6,
             "#e6f5d0"
            ],
            [
             0.7,
             "#b8e186"
            ],
            [
             0.8,
             "#7fbc41"
            ],
            [
             0.9,
             "#4d9221"
            ],
            [
             1,
             "#276419"
            ]
           ],
           "sequential": [
            [
             0,
             "#0d0887"
            ],
            [
             0.1111111111111111,
             "#46039f"
            ],
            [
             0.2222222222222222,
             "#7201a8"
            ],
            [
             0.3333333333333333,
             "#9c179e"
            ],
            [
             0.4444444444444444,
             "#bd3786"
            ],
            [
             0.5555555555555556,
             "#d8576b"
            ],
            [
             0.6666666666666666,
             "#ed7953"
            ],
            [
             0.7777777777777778,
             "#fb9f3a"
            ],
            [
             0.8888888888888888,
             "#fdca26"
            ],
            [
             1,
             "#f0f921"
            ]
           ],
           "sequentialminus": [
            [
             0,
             "#0d0887"
            ],
            [
             0.1111111111111111,
             "#46039f"
            ],
            [
             0.2222222222222222,
             "#7201a8"
            ],
            [
             0.3333333333333333,
             "#9c179e"
            ],
            [
             0.4444444444444444,
             "#bd3786"
            ],
            [
             0.5555555555555556,
             "#d8576b"
            ],
            [
             0.6666666666666666,
             "#ed7953"
            ],
            [
             0.7777777777777778,
             "#fb9f3a"
            ],
            [
             0.8888888888888888,
             "#fdca26"
            ],
            [
             1,
             "#f0f921"
            ]
           ]
          },
          "colorway": [
           "#636efa",
           "#EF553B",
           "#00cc96",
           "#ab63fa",
           "#FFA15A",
           "#19d3f3",
           "#FF6692",
           "#B6E880",
           "#FF97FF",
           "#FECB52"
          ],
          "font": {
           "color": "#2a3f5f"
          },
          "geo": {
           "bgcolor": "white",
           "lakecolor": "white",
           "landcolor": "#E5ECF6",
           "showlakes": true,
           "showland": true,
           "subunitcolor": "white"
          },
          "hoverlabel": {
           "align": "left"
          },
          "hovermode": "closest",
          "mapbox": {
           "style": "light"
          },
          "paper_bgcolor": "white",
          "plot_bgcolor": "#E5ECF6",
          "polar": {
           "angularaxis": {
            "gridcolor": "white",
            "linecolor": "white",
            "ticks": ""
           },
           "bgcolor": "#E5ECF6",
           "radialaxis": {
            "gridcolor": "white",
            "linecolor": "white",
            "ticks": ""
           }
          },
          "scene": {
           "xaxis": {
            "backgroundcolor": "#E5ECF6",
            "gridcolor": "white",
            "gridwidth": 2,
            "linecolor": "white",
            "showbackground": true,
            "ticks": "",
            "zerolinecolor": "white"
           },
           "yaxis": {
            "backgroundcolor": "#E5ECF6",
            "gridcolor": "white",
            "gridwidth": 2,
            "linecolor": "white",
            "showbackground": true,
            "ticks": "",
            "zerolinecolor": "white"
           },
           "zaxis": {
            "backgroundcolor": "#E5ECF6",
            "gridcolor": "white",
            "gridwidth": 2,
            "linecolor": "white",
            "showbackground": true,
            "ticks": "",
            "zerolinecolor": "white"
           }
          },
          "shapedefaults": {
           "line": {
            "color": "#2a3f5f"
           }
          },
          "ternary": {
           "aaxis": {
            "gridcolor": "white",
            "linecolor": "white",
            "ticks": ""
           },
           "baxis": {
            "gridcolor": "white",
            "linecolor": "white",
            "ticks": ""
           },
           "bgcolor": "#E5ECF6",
           "caxis": {
            "gridcolor": "white",
            "linecolor": "white",
            "ticks": ""
           }
          },
          "title": {
           "x": 0.05
          },
          "xaxis": {
           "automargin": true,
           "gridcolor": "white",
           "linecolor": "white",
           "ticks": "",
           "title": {
            "standoff": 15
           },
           "zerolinecolor": "white",
           "zerolinewidth": 2
          },
          "yaxis": {
           "automargin": true,
           "gridcolor": "white",
           "linecolor": "white",
           "ticks": "",
           "title": {
            "standoff": 15
           },
           "zerolinecolor": "white",
           "zerolinewidth": 2
          }
         }
        },
        "title": {
         "font": {
          "color": "white",
          "family": "Roboto, sans-serif",
          "size": 23
         },
         "text": "SHOOTING",
         "x": 0.5,
         "xanchor": "center",
         "y": 0.98,
         "yanchor": "top"
        },
        "width": 625,
        "xaxis": {
         "gridcolor": "rgba(0,0,0,0)",
         "linecolor": "white",
         "linewidth": 2,
         "range": [
          0.05,
          0.2
         ],
         "showline": true,
         "tickfont": {
          "color": "white",
          "size": 15
         },
         "title": {
          "font": {
           "size": 25
          },
          "text": "XG PER SHOT"
         }
        },
        "yaxis": {
         "gridcolor": "rgba(0,0,0,0)",
         "linecolor": "white",
         "linewidth": 2,
         "range": [
          2,
          8
         ],
         "showline": true,
         "tickfont": {
          "color": "white",
          "size": 15
         },
         "title": {
          "font": {
           "size": 25
          },
          "text": "SHOTS ON TARGET PER GAME"
         }
        }
       }
      }
     },
     "metadata": {},
     "output_type": "display_data"
    }
   ],
   "source": [
    "create_FM_team_scatter_chart(filt_shooting_chart, 'SHOOTING', \"AC Milan\", \n",
    "                             'XG PER SHOT', 'SHOTS ON TARGET PER GAME', 0.25, 0.05, 0.2, 2, 8, \n",
    "                                                        \"Passive Shooting<br>Wasteful Shooting\", \n",
    "                                                        \"Passive Shooting<br>Clinical Shooting\",\n",
    "                                                        \"Aggressive Shooting<br>Wasteful Shooting\",\n",
    "                                                        \"Aggressive Shooting<br>Clinical Shooting\",\n",
    "                                                        \"red\", \"orange\", \"orange\", \"green\")\n"
   ]
  },
  {
   "cell_type": "markdown",
   "metadata": {},
   "source": [
    "### Time to look at set-pieces again"
   ]
  },
  {
   "cell_type": "code",
   "execution_count": 58,
   "metadata": {},
   "outputs": [],
   "source": [
    "df_events = fetch_data(cursor, 'SELECT * FROM EVENTS_SPADL')"
   ]
  },
  {
   "cell_type": "code",
   "execution_count": 59,
   "metadata": {},
   "outputs": [],
   "source": [
    "df_events = df_events.merge(df_matches[['MATCH_ID','COMPETITION','SEASON']], on='MATCH_ID', how='left')"
   ]
  },
  {
   "cell_type": "code",
   "execution_count": 60,
   "metadata": {},
   "outputs": [],
   "source": [
    "set_piece_cross_events = df_events[df_events['TYPE_NAME'].isin(['freekick_crossed', 'corner_crossed'])]"
   ]
  },
  {
   "cell_type": "code",
   "execution_count": 61,
   "metadata": {},
   "outputs": [
    {
     "name": "stderr",
     "output_type": "stream",
     "text": [
      "C:\\Users\\ksbha\\AppData\\Local\\Temp\\ipykernel_268316\\2166643350.py:1: SettingWithCopyWarning:\n",
      "\n",
      "\n",
      "A value is trying to be set on a copy of a slice from a DataFrame.\n",
      "Try using .loc[row_indexer,col_indexer] = value instead\n",
      "\n",
      "See the caveats in the documentation: https://pandas.pydata.org/pandas-docs/stable/user_guide/indexing.html#returning-a-view-versus-a-copy\n",
      "\n"
     ]
    }
   ],
   "source": [
    "set_piece_cross_events.loc[:, 'OPPO_TEAM_ID'] = \"NaN\""
   ]
  },
  {
   "cell_type": "code",
   "execution_count": 62,
   "metadata": {},
   "outputs": [],
   "source": [
    "def swap_team_id(row, home_id, away_id):\n",
    "    if row['TEAM_FBREF_ID'] == home_id:\n",
    "        return away_id\n",
    "    elif row['TEAM_FBREF_ID'] == away_id:\n",
    "        return home_id\n",
    "    else:\n",
    "        return \"PROBLEM\""
   ]
  },
  {
   "cell_type": "code",
   "execution_count": 63,
   "metadata": {},
   "outputs": [],
   "source": [
    "def specify_oppo_team_id_to_events(df_events, filtered_matches):\n",
    "    for ind, row in filtered_matches.iterrows():\n",
    "        home_team_id = row['HOME_TEAM_ID']\n",
    "        away_team_id = row['AWAY_TEAM_ID']\n",
    "\n",
    "        inds_to_replace = df_events[df_events['MATCH_ID'] == row['MATCH_ID']].index\n",
    "        df_events.loc[inds_to_replace, 'OPPO_TEAM_ID'] = df_events.loc[inds_to_replace].apply(swap_team_id, \n",
    "                                                                                             axis=1, args=(home_team_id, away_team_id))\n",
    "    return df_events"
   ]
  },
  {
   "cell_type": "code",
   "execution_count": 64,
   "metadata": {},
   "outputs": [],
   "source": [
    "set_piece_cross_events = specify_oppo_team_id_to_events(set_piece_cross_events, df_matches)"
   ]
  },
  {
   "cell_type": "code",
   "execution_count": 65,
   "metadata": {},
   "outputs": [],
   "source": [
    "team_names_2 = team_names[['TEAM_NAME', 'TEAM_FBREF_ID']].copy()\n",
    "team_names_2.rename({'TEAM_FBREF_ID':'OPPO_TEAM_ID', 'TEAM_NAME':'OPPO_TEAM_NAME'}, axis=1, inplace=True)"
   ]
  },
  {
   "cell_type": "code",
   "execution_count": 66,
   "metadata": {},
   "outputs": [],
   "source": [
    "set_piece_cross_events = set_piece_cross_events.merge(team_names_2, on=\"OPPO_TEAM_ID\")"
   ]
  },
  {
   "cell_type": "code",
   "execution_count": 67,
   "metadata": {},
   "outputs": [],
   "source": [
    "set_piece_cross_events = set_piece_cross_events.merge(team_names[['TEAM_NAME', 'TEAM_FBREF_ID']], on=\"TEAM_FBREF_ID\")"
   ]
  },
  {
   "cell_type": "code",
   "execution_count": 68,
   "metadata": {},
   "outputs": [],
   "source": [
    "set_piece_cross_events_grouped = set_piece_cross_events[['OPPO_TEAM_NAME','COMPETITION',\n",
    "                                'SEASON','MATCH_ID']].groupby(['OPPO_TEAM_NAME','COMPETITION','SEASON']).count()"
   ]
  },
  {
   "cell_type": "code",
   "execution_count": 69,
   "metadata": {},
   "outputs": [],
   "source": [
    "own_set_piece_cross_events_grouped = set_piece_cross_events[['TEAM_NAME','COMPETITION','SEASON',\n",
    "                                    'MATCH_ID']].groupby(['TEAM_NAME','COMPETITION','SEASON']).count()"
   ]
  },
  {
   "cell_type": "code",
   "execution_count": 70,
   "metadata": {},
   "outputs": [],
   "source": [
    "team_name_matches_played = team_attacking[['TEAM_NAME', 'COMPETITION','SEASON','MATCHES_PLAYED']].copy()"
   ]
  },
  {
   "cell_type": "code",
   "execution_count": 71,
   "metadata": {},
   "outputs": [],
   "source": [
    "set_piece_cross_events_grouped.rename({'MATCH_ID':'OPPOSITION CROSSES FROM SET PIECE'}, axis=1, inplace=True)"
   ]
  },
  {
   "cell_type": "code",
   "execution_count": 72,
   "metadata": {},
   "outputs": [],
   "source": [
    "own_set_piece_cross_events_grouped.rename({'MATCH_ID':'CROSSES FROM SET PIECES'}, axis=1, inplace=True)"
   ]
  },
  {
   "cell_type": "code",
   "execution_count": 73,
   "metadata": {},
   "outputs": [],
   "source": [
    "set_piece_cross_events_grouped = team_name_matches_played.merge(set_piece_cross_events_grouped.reset_index().rename(\n",
    "    {'OPPO_TEAM_NAME':'TEAM_NAME'}, axis=1),on=['TEAM_NAME','COMPETITION','SEASON'])"
   ]
  },
  {
   "cell_type": "code",
   "execution_count": 74,
   "metadata": {},
   "outputs": [],
   "source": [
    "own_set_piece_cross_events_grouped = team_name_matches_played.merge(own_set_piece_cross_events_grouped.reset_index(),\n",
    "                                                                    on=['TEAM_NAME','COMPETITION','SEASON'])"
   ]
  },
  {
   "cell_type": "code",
   "execution_count": 75,
   "metadata": {},
   "outputs": [],
   "source": [
    "set_piece_box_deliveries = set_piece_cross_events.copy()"
   ]
  },
  {
   "cell_type": "code",
   "execution_count": 76,
   "metadata": {},
   "outputs": [],
   "source": [
    "set_piece_box_deliveries.reset_index(drop=True, inplace=True)"
   ]
  },
  {
   "cell_type": "code",
   "execution_count": 77,
   "metadata": {},
   "outputs": [],
   "source": [
    "## Only interested in crosses that end up in the box\n",
    "set_piece_box_deliveries = set_piece_box_deliveries[set_piece_box_deliveries['END_X'] >= 88.5]\n",
    "set_piece_box_deliveries = set_piece_box_deliveries[set_piece_box_deliveries['END_Y'] <= 54.16]\n",
    "set_piece_box_deliveries = set_piece_box_deliveries[set_piece_box_deliveries['END_Y'] >= 13.84]"
   ]
  },
  {
   "cell_type": "code",
   "execution_count": 78,
   "metadata": {},
   "outputs": [],
   "source": [
    "## Now, we want to cateogrize each cross as a \"near post\", \"central\", or \"far post\" cross\n",
    "\"\"\" \n",
    "If START_Y < 30.34, then:\n",
    "    - Near post is where END_Y is < 30.34\n",
    "    - Central is where END_Y is between 30.34 and 37.66\n",
    "    - Far post is where END_Y is > 37.66\n",
    "\n",
    "If START_Y > 37.66, then:\n",
    "    - Near post is where END_Y is > 37.66\n",
    "    - Central is where END_Y is between 30.34 and 37.66\n",
    "    - Far post is where END_Y is < 30.34\n",
    "\"\"\"\n",
    "\n",
    "def classify_cross(row):\n",
    "    if row['START_Y'] < 34.00:\n",
    "        if row['END_Y'] < 30.34:\n",
    "            return 'Near post'\n",
    "        elif row['END_Y'] > 37.66:\n",
    "            return 'Far post'\n",
    "        elif row['END_Y'] >= 30.34 and row['END_Y'] <= 37.66:\n",
    "            return 'Central'\n",
    "    elif row['START_Y'] >= 34.0:\n",
    "        if row['END_Y'] > 37.66:\n",
    "            return 'Near post'\n",
    "        elif row['END_Y'] < 30.34:\n",
    "            return 'Far post'\n",
    "        elif row['END_Y'] >= 30.34 and row['END_Y'] <= 37.66:\n",
    "            return 'Central'\n",
    "    else:\n",
    "        return 'Not Classified'"
   ]
  },
  {
   "cell_type": "code",
   "execution_count": 79,
   "metadata": {},
   "outputs": [],
   "source": [
    "set_piece_box_deliveries['Cross_end_location'] = \"NaN\"\n",
    "set_piece_box_deliveries['Cross_end_location'] = set_piece_box_deliveries.apply(classify_cross, axis=1)"
   ]
  },
  {
   "cell_type": "code",
   "execution_count": 80,
   "metadata": {},
   "outputs": [
    {
     "data": {
      "text/plain": [
       "Cross_end_location\n",
       "Central      25819\n",
       "Near post    17655\n",
       "Far post     12357\n",
       "Name: count, dtype: int64"
      ]
     },
     "execution_count": 80,
     "metadata": {},
     "output_type": "execute_result"
    }
   ],
   "source": [
    "set_piece_box_deliveries['Cross_end_location'].value_counts()"
   ]
  },
  {
   "cell_type": "code",
   "execution_count": 81,
   "metadata": {},
   "outputs": [],
   "source": [
    "filter_1st_contacts = set_piece_box_deliveries[['MATCH_ID', 'ACTION_ID']].copy()\n",
    "filter_1st_contacts['ACTION_ID'] += 1"
   ]
  },
  {
   "cell_type": "code",
   "execution_count": 82,
   "metadata": {},
   "outputs": [],
   "source": [
    "set_piece_cross_1st_contacts = df_events.merge(filter_1st_contacts, on=['MATCH_ID', 'ACTION_ID'],how='right')"
   ]
  },
  {
   "cell_type": "code",
   "execution_count": 83,
   "metadata": {},
   "outputs": [],
   "source": [
    "match_ids_to_remove = set_piece_cross_1st_contacts[set_piece_cross_1st_contacts['TEAM_FBREF_ID'].isna()]['MATCH_ID'].values \n",
    "action_ids_to_remove = set_piece_cross_1st_contacts[set_piece_cross_1st_contacts['TEAM_FBREF_ID'].isna()]['ACTION_ID'].values"
   ]
  },
  {
   "cell_type": "code",
   "execution_count": 84,
   "metadata": {},
   "outputs": [],
   "source": [
    "## Remove missing rows!\n",
    "for i in range(len(match_ids_to_remove)):\n",
    "    set_piece_cross_1st_contacts = set_piece_cross_1st_contacts[(set_piece_cross_1st_contacts['MATCH_ID'] != match_ids_to_remove[i]) |\n",
    "                            (set_piece_cross_1st_contacts['ACTION_ID'] != action_ids_to_remove[i])]\n",
    "    \n",
    "    set_piece_box_deliveries = set_piece_box_deliveries[(set_piece_box_deliveries['MATCH_ID'] != match_ids_to_remove[i]) |\n",
    "                            (set_piece_box_deliveries['ACTION_ID'] != action_ids_to_remove[i]-1)]"
   ]
  },
  {
   "cell_type": "code",
   "execution_count": 85,
   "metadata": {},
   "outputs": [],
   "source": [
    "set_piece_cross_1st_contacts = specify_oppo_team_id_to_events(set_piece_cross_1st_contacts, df_matches)"
   ]
  },
  {
   "cell_type": "code",
   "execution_count": 86,
   "metadata": {},
   "outputs": [],
   "source": [
    "set_piece_box_deliveries = specify_oppo_team_id_to_events(set_piece_box_deliveries, df_matches)"
   ]
  },
  {
   "cell_type": "code",
   "execution_count": 87,
   "metadata": {},
   "outputs": [],
   "source": [
    "set_piece_cross_1st_contacts = set_piece_cross_1st_contacts.merge(team_names[['TEAM_NAME', 'TEAM_FBREF_ID']], on=\"TEAM_FBREF_ID\")\n",
    "set_piece_cross_1st_contacts = set_piece_cross_1st_contacts.merge(team_names_2, on=\"OPPO_TEAM_ID\")"
   ]
  },
  {
   "cell_type": "code",
   "execution_count": 88,
   "metadata": {},
   "outputs": [],
   "source": [
    "# set_piece_box_deliveries = set_piece_box_deliveries.merge(team_names[['TEAM_NAME', 'TEAM_FBREF_ID']], on=\"TEAM_FBREF_ID\")"
   ]
  },
  {
   "cell_type": "code",
   "execution_count": 89,
   "metadata": {},
   "outputs": [],
   "source": [
    "set_piece_cross_1st_contacts.sort_values(by=['MATCH_ID', 'ACTION_ID'], inplace=True)\n",
    "set_piece_cross_1st_contacts.reset_index(drop=True, inplace=True)\n",
    "set_piece_box_deliveries.sort_values(by=['MATCH_ID', 'ACTION_ID'], inplace=True)\n",
    "set_piece_box_deliveries.reset_index(drop=True, inplace=True)"
   ]
  },
  {
   "cell_type": "code",
   "execution_count": 90,
   "metadata": {},
   "outputs": [],
   "source": [
    "set_piece_cross_1st_contacts['Cross_end_location'] = set_piece_box_deliveries['Cross_end_location']"
   ]
  },
  {
   "cell_type": "code",
   "execution_count": 91,
   "metadata": {},
   "outputs": [],
   "source": [
    "set_piece_same_1st_contacts = set_piece_cross_1st_contacts[set_piece_box_deliveries['TEAM_FBREF_ID'] == set_piece_cross_1st_contacts['TEAM_FBREF_ID']]\n",
    "set_piece_other_1st_contacts = set_piece_cross_1st_contacts[set_piece_box_deliveries['TEAM_FBREF_ID'] != set_piece_cross_1st_contacts['TEAM_FBREF_ID']]"
   ]
  },
  {
   "cell_type": "code",
   "execution_count": 92,
   "metadata": {},
   "outputs": [],
   "source": [
    "att_team_won_1st_contact = set_piece_same_1st_contacts.groupby(['COMPETITION', 'SEASON', 'TEAM_NAME', \n",
    "                                                                 'Cross_end_location'])['Cross_end_location'].count()"
   ]
  },
  {
   "cell_type": "code",
   "execution_count": 93,
   "metadata": {},
   "outputs": [],
   "source": [
    "att_team_lost_1st_contact = set_piece_other_1st_contacts.groupby(['COMPETITION', 'SEASON', 'OPPO_TEAM_NAME', \n",
    "                                                                 'Cross_end_location'])['Cross_end_location'].count()"
   ]
  },
  {
   "cell_type": "code",
   "execution_count": 94,
   "metadata": {},
   "outputs": [
    {
     "data": {
      "text/plain": [
       "(876,)"
      ]
     },
     "execution_count": 94,
     "metadata": {},
     "output_type": "execute_result"
    }
   ],
   "source": [
    "att_team_won_1st_contact.shape"
   ]
  },
  {
   "cell_type": "code",
   "execution_count": 95,
   "metadata": {},
   "outputs": [
    {
     "data": {
      "text/plain": [
       "(876,)"
      ]
     },
     "execution_count": 95,
     "metadata": {},
     "output_type": "execute_result"
    }
   ],
   "source": [
    "att_team_lost_1st_contact.shape"
   ]
  },
  {
   "cell_type": "code",
   "execution_count": 96,
   "metadata": {},
   "outputs": [],
   "source": [
    "att_set_piece_final = (att_team_won_1st_contact/(att_team_lost_1st_contact+att_team_won_1st_contact))*100"
   ]
  },
  {
   "cell_type": "code",
   "execution_count": 97,
   "metadata": {},
   "outputs": [],
   "source": [
    "att_set_piece_final = pd.DataFrame(att_set_piece_final).rename({'Cross_end_location':'PERC_1ST_CONTACT'}, axis=1).reset_index()"
   ]
  },
  {
   "cell_type": "code",
   "execution_count": 98,
   "metadata": {},
   "outputs": [],
   "source": [
    "att_set_piece_final.rename(columns={'Cross_end_location':'CROSS_END_LOCATION'}, inplace=True)"
   ]
  },
  {
   "cell_type": "code",
   "execution_count": 99,
   "metadata": {},
   "outputs": [],
   "source": [
    "att_set_piece_final = att_set_piece_final.merge(df_competitions, on=['COMPETITION','SEASON'])"
   ]
  },
  {
   "cell_type": "code",
   "execution_count": 100,
   "metadata": {},
   "outputs": [],
   "source": [
    "att_set_piece_final.drop(['COMPETITION'], axis=1, inplace=True)"
   ]
  },
  {
   "cell_type": "code",
   "execution_count": 101,
   "metadata": {},
   "outputs": [],
   "source": [
    "create_table_query = \"\"\"\n",
    "CREATE TABLE IF NOT EXISTS TEAM_ATT_SET_PIECE_FIRST_CONTACTS (\n",
    "    SEASON INT,\n",
    "    COMPETITION_ACRONYM VARCHAR(255),\n",
    "    TEAM_NAME VARCHAR(255),\n",
    "    PERC_1ST_CONTACT FLOAT,\n",
    "    CROSS_END_LOCATION VARCHAR(255),\n",
    "    PRIMARY KEY (SEASON, COMPETITION_ACRONYM, TEAM_NAME, CROSS_END_LOCATION)\n",
    ");\n",
    "\"\"\""
   ]
  },
  {
   "cell_type": "code",
   "execution_count": 102,
   "metadata": {},
   "outputs": [
    {
     "data": {
      "text/plain": [
       "<snowflake.connector.cursor.SnowflakeCursor at 0x27493039710>"
      ]
     },
     "execution_count": 102,
     "metadata": {},
     "output_type": "execute_result"
    }
   ],
   "source": [
    "cur.execute(create_table_query)"
   ]
  },
  {
   "cell_type": "code",
   "execution_count": 103,
   "metadata": {},
   "outputs": [
    {
     "name": "stdout",
     "output_type": "stream",
     "text": [
      "Upsert completed. 876 rows processed.\n"
     ]
    }
   ],
   "source": [
    "upsert_to_snowflake(\"TEAM_ATT_SET_PIECE_FIRST_CONTACTS\", att_set_piece_final, ['SEASON', 'COMPETITION_ACRONYM', 'TEAM_NAME',\n",
    "                                                                            'CROSS_END_LOCATION'])"
   ]
  },
  {
   "cell_type": "code",
   "execution_count": 104,
   "metadata": {},
   "outputs": [],
   "source": [
    "att_set_piece_final = fetch_data(cursor, 'SELECT * FROM  GEGENSTATS.RADAR_CHARTS.TEAM_ATT_SET_PIECE_FIRST_CONTACTS')"
   ]
  },
  {
   "cell_type": "code",
   "execution_count": 105,
   "metadata": {},
   "outputs": [
    {
     "data": {
      "text/html": [
       "<div>\n",
       "<style scoped>\n",
       "    .dataframe tbody tr th:only-of-type {\n",
       "        vertical-align: middle;\n",
       "    }\n",
       "\n",
       "    .dataframe tbody tr th {\n",
       "        vertical-align: top;\n",
       "    }\n",
       "\n",
       "    .dataframe thead th {\n",
       "        text-align: right;\n",
       "    }\n",
       "</style>\n",
       "<table border=\"1\" class=\"dataframe\">\n",
       "  <thead>\n",
       "    <tr style=\"text-align: right;\">\n",
       "      <th></th>\n",
       "      <th>SEASON</th>\n",
       "      <th>COMPETITION_ACRONYM</th>\n",
       "      <th>TEAM_NAME</th>\n",
       "      <th>PERC_1ST_CONTACT</th>\n",
       "      <th>CROSS_END_LOCATION</th>\n",
       "    </tr>\n",
       "  </thead>\n",
       "  <tbody>\n",
       "    <tr>\n",
       "      <th>0</th>\n",
       "      <td>2122</td>\n",
       "      <td>EPL</td>\n",
       "      <td>Arsenal</td>\n",
       "      <td>25.892857</td>\n",
       "      <td>Central</td>\n",
       "    </tr>\n",
       "    <tr>\n",
       "      <th>1</th>\n",
       "      <td>2122</td>\n",
       "      <td>EPL</td>\n",
       "      <td>Arsenal</td>\n",
       "      <td>44.000000</td>\n",
       "      <td>Far post</td>\n",
       "    </tr>\n",
       "    <tr>\n",
       "      <th>2</th>\n",
       "      <td>2122</td>\n",
       "      <td>EPL</td>\n",
       "      <td>Arsenal</td>\n",
       "      <td>18.181818</td>\n",
       "      <td>Near post</td>\n",
       "    </tr>\n",
       "    <tr>\n",
       "      <th>3</th>\n",
       "      <td>2122</td>\n",
       "      <td>EPL</td>\n",
       "      <td>Aston Villa</td>\n",
       "      <td>17.948718</td>\n",
       "      <td>Central</td>\n",
       "    </tr>\n",
       "    <tr>\n",
       "      <th>4</th>\n",
       "      <td>2122</td>\n",
       "      <td>EPL</td>\n",
       "      <td>Aston Villa</td>\n",
       "      <td>52.000000</td>\n",
       "      <td>Far post</td>\n",
       "    </tr>\n",
       "    <tr>\n",
       "      <th>...</th>\n",
       "      <td>...</td>\n",
       "      <td>...</td>\n",
       "      <td>...</td>\n",
       "      <td>...</td>\n",
       "      <td>...</td>\n",
       "    </tr>\n",
       "    <tr>\n",
       "      <th>871</th>\n",
       "      <td>2324</td>\n",
       "      <td>Serie A</td>\n",
       "      <td>Torino</td>\n",
       "      <td>35.714286</td>\n",
       "      <td>Far post</td>\n",
       "    </tr>\n",
       "    <tr>\n",
       "      <th>872</th>\n",
       "      <td>2324</td>\n",
       "      <td>Serie A</td>\n",
       "      <td>Torino</td>\n",
       "      <td>38.095238</td>\n",
       "      <td>Near post</td>\n",
       "    </tr>\n",
       "    <tr>\n",
       "      <th>873</th>\n",
       "      <td>2324</td>\n",
       "      <td>Serie A</td>\n",
       "      <td>Udinese</td>\n",
       "      <td>45.205479</td>\n",
       "      <td>Central</td>\n",
       "    </tr>\n",
       "    <tr>\n",
       "      <th>874</th>\n",
       "      <td>2324</td>\n",
       "      <td>Serie A</td>\n",
       "      <td>Udinese</td>\n",
       "      <td>45.714286</td>\n",
       "      <td>Far post</td>\n",
       "    </tr>\n",
       "    <tr>\n",
       "      <th>875</th>\n",
       "      <td>2324</td>\n",
       "      <td>Serie A</td>\n",
       "      <td>Udinese</td>\n",
       "      <td>26.315789</td>\n",
       "      <td>Near post</td>\n",
       "    </tr>\n",
       "  </tbody>\n",
       "</table>\n",
       "<p>876 rows × 5 columns</p>\n",
       "</div>"
      ],
      "text/plain": [
       "     SEASON COMPETITION_ACRONYM    TEAM_NAME  PERC_1ST_CONTACT  \\\n",
       "0      2122                 EPL      Arsenal         25.892857   \n",
       "1      2122                 EPL      Arsenal         44.000000   \n",
       "2      2122                 EPL      Arsenal         18.181818   \n",
       "3      2122                 EPL  Aston Villa         17.948718   \n",
       "4      2122                 EPL  Aston Villa         52.000000   \n",
       "..      ...                 ...          ...               ...   \n",
       "871    2324             Serie A       Torino         35.714286   \n",
       "872    2324             Serie A       Torino         38.095238   \n",
       "873    2324             Serie A      Udinese         45.205479   \n",
       "874    2324             Serie A      Udinese         45.714286   \n",
       "875    2324             Serie A      Udinese         26.315789   \n",
       "\n",
       "    CROSS_END_LOCATION  \n",
       "0              Central  \n",
       "1             Far post  \n",
       "2            Near post  \n",
       "3              Central  \n",
       "4             Far post  \n",
       "..                 ...  \n",
       "871           Far post  \n",
       "872          Near post  \n",
       "873            Central  \n",
       "874           Far post  \n",
       "875          Near post  \n",
       "\n",
       "[876 rows x 5 columns]"
      ]
     },
     "execution_count": 105,
     "metadata": {},
     "output_type": "execute_result"
    }
   ],
   "source": [
    "att_set_piece_final"
   ]
  },
  {
   "cell_type": "code",
   "execution_count": 106,
   "metadata": {},
   "outputs": [],
   "source": [
    "att_set_piece_final_filt = att_set_piece_final[att_set_piece_final['SEASON'] == season_selected]\n",
    "att_set_piece_final_filt = att_set_piece_final_filt[att_set_piece_final_filt['COMPETITION_ACRONYM'] == league_selected]\n",
    "att_set_piece_final_filt = att_set_piece_final_filt[att_set_piece_final_filt['TEAM_NAME'] == 'Arsenal']"
   ]
  },
  {
   "cell_type": "code",
   "execution_count": 107,
   "metadata": {},
   "outputs": [],
   "source": [
    "att_set_piece_chart = att_set_piece_final_filt[['CROSS_END_LOCATION', 'PERC_1ST_CONTACT']].set_index('CROSS_END_LOCATION')"
   ]
  },
  {
   "cell_type": "code",
   "execution_count": 108,
   "metadata": {},
   "outputs": [
    {
     "data": {
      "text/plain": [
       "27.777777778"
      ]
     },
     "execution_count": 108,
     "metadata": {},
     "output_type": "execute_result"
    }
   ],
   "source": [
    "att_set_piece_chart.loc['Near post'].values[0]"
   ]
  },
  {
   "cell_type": "code",
   "execution_count": 109,
   "metadata": {},
   "outputs": [],
   "source": [
    "def create_set_piece_first_contacts_plot(def_set_piece_chart):\n",
    "    pitch = VerticalPitch(pitch_color='#2B2B2B', line_color='white', goal_type='box', pitch_type='uefa', linewidth=1, half=True)\n",
    "    fig, ax = pitch.draw(figsize=(8, 12))\n",
    "\n",
    "    # Define the coordinates for the rectangles\n",
    "    rect_coords = [\n",
    "        [(13.84, 105), (13.84, 88.5), (30.09, 88.5), (30.09, 105)],  # Rect1\n",
    "        [(30.59, 105), (30.59, 88.5), (37.41, 88.5), (37.41, 105)],  # Rect2\n",
    "        [(37.91, 105), (37.91, 88.5), (54.16, 88.5), (54.16, 105)]  # Rect3\n",
    "    ]\n",
    "\n",
    "    # Example percentages for each rectangle (use your actual values here)\n",
    "    percentages = [def_set_piece_chart.loc['Near post'].values[0], def_set_piece_chart.loc['Central'].values[0], \n",
    "                   def_set_piece_chart.loc['Far post'].values[0]]\n",
    "\n",
    "    # Function to calculate green color based on percentage\n",
    "    def get_green_color(percentage, max_percentage=100):  # Assuming 100 is the max percentage\n",
    "        green_intensity = int((percentage / max_percentage) * 255)\n",
    "        return f'#00{green_intensity:02x}00'\n",
    "\n",
    "    # Create the rectangular patches\n",
    "    for i, coords in enumerate(rect_coords):\n",
    "        polygon = patches.Polygon(coords, closed=True, color=\"#00b200\", zorder=2,  alpha=0.75)\n",
    "        ax.add_patch(polygon)\n",
    "\n",
    "        # Add text label in the center of each rectangle\n",
    "        rect_center_x = (coords[0][0] + coords[2][0]) / 2 \n",
    "        rect_center_y = (coords[0][1] + coords[2][1]) / 2\n",
    "        ax.text(rect_center_x, rect_center_y, f'{int(percentages[i])}%',fontproperties='Roboto',\n",
    "                va='center', ha='center', color='white', fontsize=18, zorder=3)\n",
    "\n",
    "    # Set figure and axis background color\n",
    "    fig.patch.set_facecolor('#2B2B2B')\n",
    "    ax.patch.set_facecolor('#2B2B2B')\n",
    "\n",
    "    arrow_start = (0, 107)  # Adjust these values as needed for your plot\n",
    "    arrow_end = (18.84, 107)    # Adjust these values as needed for your plot\n",
    "\n",
    "    # Draw the arrow\n",
    "    ax.add_patch(patches.FancyArrow(\n",
    "        arrow_start[0], arrow_start[1],  # x, y start point\n",
    "        arrow_end[0] - arrow_start[0], arrow_end[1] - arrow_start[1],  # dx, dy length\n",
    "        width=0.3,  # Width of the full arrow tail\n",
    "        length_includes_head=False,  # The head is included in the calculation of the arrow's length\n",
    "        head_width=1,  # Width of the arrow head\n",
    "        head_length=1.5,  # Length of the arrow head\n",
    "        color='lightgrey'  # Light grey color\n",
    "    ))\n",
    "\n",
    "    plt.title('SET PIECE FIRST CONTACTS - OPPOSITION BOX', color='gold', fontsize=20, fontname='Roboto', loc='left')\n",
    "\n",
    "    return fig"
   ]
  },
  {
   "cell_type": "code",
   "execution_count": 110,
   "metadata": {},
   "outputs": [
    {
     "data": {
      "image/png": "[encoded data removed]",
      "text/plain": [
       "<Figure size 800x1200 with 1 Axes>"
      ]
     },
     "execution_count": 110,
     "metadata": {},
     "output_type": "execute_result"
    },
    {
     "data": {
      "image/png": "[encoded data removed]",
      "text/plain": [
       "<Figure size 800x1200 with 1 Axes>"
      ]
     },
     "metadata": {},
     "output_type": "display_data"
    }
   ],
   "source": [
    "create_set_piece_first_contacts_plot(att_set_piece_chart)"
   ]
  },
  {
   "cell_type": "code",
   "execution_count": null,
   "metadata": {},
   "outputs": [],
   "source": []
  },
  {
   "cell_type": "code",
   "execution_count": null,
   "metadata": {},
   "outputs": [],
   "source": []
  },
  {
   "cell_type": "code",
   "execution_count": null,
   "metadata": {},
   "outputs": [],
   "source": []
  },
  {
   "cell_type": "code",
   "execution_count": null,
   "metadata": {},
   "outputs": [],
   "source": []
  },
  {
   "cell_type": "markdown",
   "metadata": {},
   "source": [
    "Shot data extraction"
   ]
  },
  {
   "cell_type": "code",
   "execution_count": 111,
   "metadata": {},
   "outputs": [],
   "source": [
    "df_shots = fetch_data(cursor, 'SELECT * FROM SHOT_EVENTS')"
   ]
  },
  {
   "cell_type": "code",
   "execution_count": 112,
   "metadata": {},
   "outputs": [
    {
     "data": {
      "text/html": [
       "<div>\n",
       "<style scoped>\n",
       "    .dataframe tbody tr th:only-of-type {\n",
       "        vertical-align: middle;\n",
       "    }\n",
       "\n",
       "    .dataframe tbody tr th {\n",
       "        vertical-align: top;\n",
       "    }\n",
       "\n",
       "    .dataframe thead th {\n",
       "        text-align: right;\n",
       "    }\n",
       "</style>\n",
       "<table border=\"1\" class=\"dataframe\">\n",
       "  <thead>\n",
       "    <tr style=\"text-align: right;\">\n",
       "      <th></th>\n",
       "      <th>MATCH_ID</th>\n",
       "      <th>ORIGINAL_EVENT_ID</th>\n",
       "      <th>PERIOD_ID</th>\n",
       "      <th>TIME_SECONDS</th>\n",
       "      <th>NEW_TIME_SECONDS</th>\n",
       "      <th>TEAM_FBREF_ID</th>\n",
       "      <th>PLAYER_WS_ID</th>\n",
       "      <th>START_X</th>\n",
       "      <th>END_X</th>\n",
       "      <th>START_Y</th>\n",
       "      <th>END_Y</th>\n",
       "      <th>RESULT_ID</th>\n",
       "      <th>ACTION_ID</th>\n",
       "      <th>TYPE_NAME</th>\n",
       "      <th>BODYPART_NAME</th>\n",
       "      <th>COMPETITION</th>\n",
       "      <th>SEASON</th>\n",
       "    </tr>\n",
       "  </thead>\n",
       "  <tbody>\n",
       "    <tr>\n",
       "      <th>0</th>\n",
       "      <td>f2ffde12</td>\n",
       "      <td>NaN</td>\n",
       "      <td>2</td>\n",
       "      <td>2257.5</td>\n",
       "      <td>2137.5</td>\n",
       "      <td>d48ad4ff</td>\n",
       "      <td>84603</td>\n",
       "      <td>56.175</td>\n",
       "      <td>57.855</td>\n",
       "      <td>39.848</td>\n",
       "      <td>45.696</td>\n",
       "      <td>1</td>\n",
       "      <td>1309</td>\n",
       "      <td>dribble</td>\n",
       "      <td>foot</td>\n",
       "      <td>ITA-Serie A</td>\n",
       "      <td>2324</td>\n",
       "    </tr>\n",
       "    <tr>\n",
       "      <th>1</th>\n",
       "      <td>0c234040</td>\n",
       "      <td>NaN</td>\n",
       "      <td>1</td>\n",
       "      <td>7.5</td>\n",
       "      <td>7.5</td>\n",
       "      <td>dc56fe14</td>\n",
       "      <td>101596</td>\n",
       "      <td>50.610</td>\n",
       "      <td>59.010</td>\n",
       "      <td>59.840</td>\n",
       "      <td>60.996</td>\n",
       "      <td>1</td>\n",
       "      <td>3</td>\n",
       "      <td>dribble</td>\n",
       "      <td>foot</td>\n",
       "      <td>ITA-Serie A</td>\n",
       "      <td>2324</td>\n",
       "    </tr>\n",
       "    <tr>\n",
       "      <th>2</th>\n",
       "      <td>604ceaa0</td>\n",
       "      <td>NaN</td>\n",
       "      <td>1</td>\n",
       "      <td>793.5</td>\n",
       "      <td>793.5</td>\n",
       "      <td>cf74a709</td>\n",
       "      <td>323450</td>\n",
       "      <td>44.835</td>\n",
       "      <td>47.355</td>\n",
       "      <td>47.532</td>\n",
       "      <td>50.592</td>\n",
       "      <td>1</td>\n",
       "      <td>238</td>\n",
       "      <td>dribble</td>\n",
       "      <td>foot</td>\n",
       "      <td>ITA-Serie A</td>\n",
       "      <td>2324</td>\n",
       "    </tr>\n",
       "    <tr>\n",
       "      <th>3</th>\n",
       "      <td>ff49299b</td>\n",
       "      <td>2.621506e+09</td>\n",
       "      <td>2</td>\n",
       "      <td>3173.0</td>\n",
       "      <td>3053.0</td>\n",
       "      <td>e2befd26</td>\n",
       "      <td>424820</td>\n",
       "      <td>62.370</td>\n",
       "      <td>64.365</td>\n",
       "      <td>52.972</td>\n",
       "      <td>47.940</td>\n",
       "      <td>1</td>\n",
       "      <td>1356</td>\n",
       "      <td>pass</td>\n",
       "      <td>head</td>\n",
       "      <td>ITA-Serie A</td>\n",
       "      <td>2324</td>\n",
       "    </tr>\n",
       "    <tr>\n",
       "      <th>4</th>\n",
       "      <td>9ca90d35</td>\n",
       "      <td>2.629326e+09</td>\n",
       "      <td>1</td>\n",
       "      <td>2751.0</td>\n",
       "      <td>2751.0</td>\n",
       "      <td>6a7ad59d</td>\n",
       "      <td>323240</td>\n",
       "      <td>43.995</td>\n",
       "      <td>43.995</td>\n",
       "      <td>46.036</td>\n",
       "      <td>46.036</td>\n",
       "      <td>0</td>\n",
       "      <td>608</td>\n",
       "      <td>interception</td>\n",
       "      <td>foot</td>\n",
       "      <td>ITA-Serie A</td>\n",
       "      <td>2324</td>\n",
       "    </tr>\n",
       "  </tbody>\n",
       "</table>\n",
       "</div>"
      ],
      "text/plain": [
       "   MATCH_ID  ORIGINAL_EVENT_ID  PERIOD_ID  TIME_SECONDS  NEW_TIME_SECONDS  \\\n",
       "0  f2ffde12                NaN          2        2257.5            2137.5   \n",
       "1  0c234040                NaN          1           7.5               7.5   \n",
       "2  604ceaa0                NaN          1         793.5             793.5   \n",
       "3  ff49299b       2.621506e+09          2        3173.0            3053.0   \n",
       "4  9ca90d35       2.629326e+09          1        2751.0            2751.0   \n",
       "\n",
       "  TEAM_FBREF_ID  PLAYER_WS_ID  START_X   END_X  START_Y   END_Y  RESULT_ID  \\\n",
       "0      d48ad4ff         84603   56.175  57.855   39.848  45.696          1   \n",
       "1      dc56fe14        101596   50.610  59.010   59.840  60.996          1   \n",
       "2      cf74a709        323450   44.835  47.355   47.532  50.592          1   \n",
       "3      e2befd26        424820   62.370  64.365   52.972  47.940          1   \n",
       "4      6a7ad59d        323240   43.995  43.995   46.036  46.036          0   \n",
       "\n",
       "   ACTION_ID     TYPE_NAME BODYPART_NAME  COMPETITION  SEASON  \n",
       "0       1309       dribble          foot  ITA-Serie A    2324  \n",
       "1          3       dribble          foot  ITA-Serie A    2324  \n",
       "2        238       dribble          foot  ITA-Serie A    2324  \n",
       "3       1356          pass          head  ITA-Serie A    2324  \n",
       "4        608  interception          foot  ITA-Serie A    2324  "
      ]
     },
     "execution_count": 112,
     "metadata": {},
     "output_type": "execute_result"
    }
   ],
   "source": [
    "df_events.head()"
   ]
  },
  {
   "cell_type": "code",
   "execution_count": 113,
   "metadata": {},
   "outputs": [],
   "source": [
    "df_shots = df_shots.merge(df_events[['MATCH_ID', 'ACTION_ID', 'TEAM_FBREF_ID']], on=['MATCH_ID', 'ACTION_ID'])"
   ]
  },
  {
   "cell_type": "code",
   "execution_count": 114,
   "metadata": {},
   "outputs": [],
   "source": [
    "df_shots = df_shots.merge(team_names[['TEAM_NAME', 'TEAM_FBREF_ID']], on=\"TEAM_FBREF_ID\")"
   ]
  },
  {
   "cell_type": "code",
   "execution_count": 115,
   "metadata": {},
   "outputs": [],
   "source": [
    "inds1 = df_shots[df_shots['SCA_1_PLAYER_FBREF_EVENT'].isin(['Pass (Dead)'])].index\n",
    "inds2 = df_shots[df_shots['SCA_2_PLAYER_FBREF_EVENT'].isin(['Pass (Dead)'])].index"
   ]
  },
  {
   "cell_type": "code",
   "execution_count": 116,
   "metadata": {},
   "outputs": [],
   "source": [
    "inds_union = np.union1d(inds1, inds2)"
   ]
  },
  {
   "cell_type": "code",
   "execution_count": 117,
   "metadata": {},
   "outputs": [],
   "source": [
    "df_shots_set_piece = df_shots.loc[inds_union]"
   ]
  },
  {
   "cell_type": "code",
   "execution_count": 118,
   "metadata": {},
   "outputs": [],
   "source": [
    "df_shots_set_piece = df_events[['MATCH_ID','ACTION_ID']].merge(df_shots_set_piece, on=['MATCH_ID', 'ACTION_ID'])"
   ]
  },
  {
   "cell_type": "code",
   "execution_count": 119,
   "metadata": {},
   "outputs": [],
   "source": [
    "df_shots_set_piece.loc[:, 'OPPO_TEAM_ID'] = \"NaN\""
   ]
  },
  {
   "cell_type": "code",
   "execution_count": 121,
   "metadata": {},
   "outputs": [],
   "source": [
    "df_shots_set_piece = specify_oppo_team_id_to_events(df_shots_set_piece, df_matches)"
   ]
  },
  {
   "cell_type": "code",
   "execution_count": 122,
   "metadata": {},
   "outputs": [],
   "source": [
    "df_shots_set_piece = df_shots_set_piece.merge(team_names_2, on=\"OPPO_TEAM_ID\")"
   ]
  },
  {
   "cell_type": "code",
   "execution_count": 123,
   "metadata": {},
   "outputs": [],
   "source": [
    "# df_shots_set_piece = df_shots_set_piece.merge(team_names[['TEAM_NAME', 'TEAM_FBREF_ID']], on=\"TEAM_FBREF_ID\")"
   ]
  },
  {
   "cell_type": "code",
   "execution_count": 124,
   "metadata": {},
   "outputs": [],
   "source": [
    "df_shots_set_piece = df_shots_set_piece.merge(df_matches[['MATCH_ID','COMPETITION','SEASON']], on='MATCH_ID', how='left')"
   ]
  },
  {
   "cell_type": "code",
   "execution_count": 125,
   "metadata": {},
   "outputs": [],
   "source": [
    "df_shots = df_shots.merge(df_matches[['MATCH_ID','COMPETITION','SEASON']], on='MATCH_ID', how='left')"
   ]
  },
  {
   "cell_type": "code",
   "execution_count": 126,
   "metadata": {},
   "outputs": [],
   "source": [
    "df_shots = df_shots.merge(df_competitions, on=['COMPETITION', 'SEASON'])"
   ]
  },
  {
   "cell_type": "code",
   "execution_count": 127,
   "metadata": {},
   "outputs": [],
   "source": [
    "df_last_5_matches = df_matches.copy()"
   ]
  },
  {
   "cell_type": "code",
   "execution_count": 128,
   "metadata": {},
   "outputs": [],
   "source": [
    "df_last_5_matches = df_last_5_matches.merge(df_competitions, on=['COMPETITION', 'SEASON'])"
   ]
  },
  {
   "cell_type": "code",
   "execution_count": 129,
   "metadata": {},
   "outputs": [],
   "source": [
    "home_teams = team_names.copy()\n",
    "away_teams = team_names.copy()"
   ]
  },
  {
   "cell_type": "code",
   "execution_count": 130,
   "metadata": {},
   "outputs": [],
   "source": [
    "home_teams.rename({'TEAM_FBREF_ID':'HOME_TEAM_ID', 'TEAM_NAME':'HOME_TEAM_NAME'}, axis=1, inplace=True)\n",
    "away_teams.rename({'TEAM_FBREF_ID':'AWAY_TEAM_ID', 'TEAM_NAME':'AWAY_TEAM_NAME'}, axis=1, inplace=True)"
   ]
  },
  {
   "cell_type": "code",
   "execution_count": 131,
   "metadata": {},
   "outputs": [],
   "source": [
    "df_last_5_matches = df_last_5_matches.merge(home_teams[['HOME_TEAM_NAME', 'HOME_TEAM_ID']], on=['HOME_TEAM_ID'])\n",
    "df_last_5_matches = df_last_5_matches.merge(away_teams[['AWAY_TEAM_NAME', 'AWAY_TEAM_ID']], on=['AWAY_TEAM_ID'])"
   ]
  },
  {
   "cell_type": "code",
   "execution_count": 132,
   "metadata": {},
   "outputs": [],
   "source": [
    "df_last_5_matches_filt = df_last_5_matches[df_last_5_matches['SEASON'] == season_selected]\n",
    "df_last_5_matches_filt = df_last_5_matches_filt[df_last_5_matches_filt['COMPETITION_ACRONYM'] == league_selected]\n"
   ]
  },
  {
   "cell_type": "code",
   "execution_count": 133,
   "metadata": {},
   "outputs": [],
   "source": [
    "team_selected = 'Arsenal'"
   ]
  },
  {
   "cell_type": "code",
   "execution_count": 134,
   "metadata": {},
   "outputs": [],
   "source": [
    "df_shots = df_shots.merge(df_events[['MATCH_ID', 'ACTION_ID', 'PERIOD_ID','NEW_TIME_SECONDS','START_X','END_X','START_Y', \n",
    "                         'END_Y', 'PLAYER_WS_ID', 'RESULT_ID']], on=['MATCH_ID', 'ACTION_ID'])"
   ]
  },
  {
   "cell_type": "code",
   "execution_count": 235,
   "metadata": {},
   "outputs": [],
   "source": [
    "df_shots = df_shots.merge(df_matches[['MATCH_ID', 'HOME_TEAM_ID', 'AWAY_TEAM_ID', 'GAMEWEEK']], on='MATCH_ID', how='left')"
   ]
  },
  {
   "cell_type": "code",
   "execution_count": 238,
   "metadata": {},
   "outputs": [],
   "source": [
    "df_shots['OPPO_TEAM_ID'] = df_shots.apply(lambda row: row['AWAY_TEAM_ID'] if row['TEAM_FBREF_ID'] == row['HOME_TEAM_ID'] else row['HOME_TEAM_ID'], axis=1)"
   ]
  },
  {
   "cell_type": "code",
   "execution_count": 239,
   "metadata": {},
   "outputs": [],
   "source": [
    "df_shots.drop(['HOME_TEAM_ID', 'AWAY_TEAM_ID'], axis=1, inplace=True)"
   ]
  },
  {
   "cell_type": "code",
   "execution_count": 243,
   "metadata": {},
   "outputs": [],
   "source": [
    "df_shots = df_shots.merge(team_names_2, on='OPPO_TEAM_ID')"
   ]
  },
  {
   "cell_type": "code",
   "execution_count": 273,
   "metadata": {},
   "outputs": [],
   "source": [
    "df_shots = df_shots.merge(df_players[['PLAYER_WS_ID', 'PLAYER_FBREF_NAME']], on=\"PLAYER_WS_ID\")"
   ]
  },
  {
   "cell_type": "code",
   "execution_count": 274,
   "metadata": {},
   "outputs": [],
   "source": [
    "df_last_5_matches_filt = df_last_5_matches_filt[(df_last_5_matches_filt['HOME_TEAM_NAME'] == team_selected) | \n",
    "                                                (df_last_5_matches_filt['AWAY_TEAM_NAME'] == team_selected)]\n",
    "df_last_5_matches_filt = df_last_5_matches_filt.sort_values(by='GAMEWEEK')[-5:]\n",
    "last_5_matches = list(df_last_5_matches_filt['MATCH_ID'])\n",
    "df_shots_last_5_matches = df_shots[df_shots['MATCH_ID'].isin(last_5_matches)]"
   ]
  },
  {
   "cell_type": "code",
   "execution_count": 275,
   "metadata": {},
   "outputs": [],
   "source": [
    "df_shots_last_5_matches = df_shots_last_5_matches[df_shots_last_5_matches['TEAM_NAME'] == team_selected]"
   ]
  },
  {
   "cell_type": "code",
   "execution_count": null,
   "metadata": {},
   "outputs": [],
   "source": []
  },
  {
   "cell_type": "code",
   "execution_count": 276,
   "metadata": {},
   "outputs": [
    {
     "data": {
      "text/html": [
       "<div>\n",
       "<style scoped>\n",
       "    .dataframe tbody tr th:only-of-type {\n",
       "        vertical-align: middle;\n",
       "    }\n",
       "\n",
       "    .dataframe tbody tr th {\n",
       "        vertical-align: top;\n",
       "    }\n",
       "\n",
       "    .dataframe thead th {\n",
       "        text-align: right;\n",
       "    }\n",
       "</style>\n",
       "<table border=\"1\" class=\"dataframe\">\n",
       "  <thead>\n",
       "    <tr style=\"text-align: right;\">\n",
       "      <th></th>\n",
       "      <th>MATCH_ID</th>\n",
       "      <th>ACTION_ID</th>\n",
       "      <th>XG</th>\n",
       "      <th>PSXG</th>\n",
       "      <th>OUTCOME</th>\n",
       "      <th>DISTANCE</th>\n",
       "      <th>BODY_PART</th>\n",
       "      <th>NOTES</th>\n",
       "      <th>SCA_1_PLAYER_WS_ID</th>\n",
       "      <th>SCA_1_PLAYER_FBREF_EVENT</th>\n",
       "      <th>SCA_2_PLAYER_WS_ID</th>\n",
       "      <th>SCA_2_PLAYER_FBREF_EVENT</th>\n",
       "      <th>TEAM_FBREF_ID</th>\n",
       "      <th>TEAM_NAME</th>\n",
       "      <th>COMPETITION</th>\n",
       "      <th>SEASON</th>\n",
       "      <th>COMPETITION_ACRONYM</th>\n",
       "      <th>PERIOD_ID</th>\n",
       "      <th>NEW_TIME_SECONDS</th>\n",
       "      <th>START_X</th>\n",
       "      <th>END_X</th>\n",
       "      <th>START_Y</th>\n",
       "      <th>END_Y</th>\n",
       "      <th>PLAYER_WS_ID</th>\n",
       "      <th>RESULT_ID</th>\n",
       "      <th>OPPO_TEAM_ID</th>\n",
       "      <th>OPPO_TEAM_NAME</th>\n",
       "      <th>GAMEWEEK</th>\n",
       "      <th>PLAYER_FBREF_NAME</th>\n",
       "    </tr>\n",
       "  </thead>\n",
       "  <tbody>\n",
       "    <tr>\n",
       "      <th>1626</th>\n",
       "      <td>0e9002ec</td>\n",
       "      <td>1031</td>\n",
       "      <td>0.16</td>\n",
       "      <td>0.47</td>\n",
       "      <td>Saved</td>\n",
       "      <td>10</td>\n",
       "      <td>Left Foot</td>\n",
       "      <td>None</td>\n",
       "      <td>424462.0</td>\n",
       "      <td>Pass (Live)</td>\n",
       "      <td>334087.0</td>\n",
       "      <td>Pass (Live)</td>\n",
       "      <td>18bb7c10</td>\n",
       "      <td>Arsenal</td>\n",
       "      <td>ENG-Premier League</td>\n",
       "      <td>2324</td>\n",
       "      <td>EPL</td>\n",
       "      <td>2</td>\n",
       "      <td>1291.0</td>\n",
       "      <td>95.445</td>\n",
       "      <td>102.690</td>\n",
       "      <td>38.352</td>\n",
       "      <td>34.000</td>\n",
       "      <td>113994</td>\n",
       "      <td>0</td>\n",
       "      <td>cd051869</td>\n",
       "      <td>Brentford</td>\n",
       "      <td>28</td>\n",
       "      <td>Leandro Trossard</td>\n",
       "    </tr>\n",
       "    <tr>\n",
       "      <th>1671</th>\n",
       "      <td>0e9002ec</td>\n",
       "      <td>925</td>\n",
       "      <td>0.04</td>\n",
       "      <td>NaN</td>\n",
       "      <td>Blocked</td>\n",
       "      <td>16</td>\n",
       "      <td>Left Foot</td>\n",
       "      <td>Volley</td>\n",
       "      <td>367185.0</td>\n",
       "      <td>Pass (Live)</td>\n",
       "      <td>322036.0</td>\n",
       "      <td>Pass (Live)</td>\n",
       "      <td>18bb7c10</td>\n",
       "      <td>Arsenal</td>\n",
       "      <td>ENG-Premier League</td>\n",
       "      <td>2324</td>\n",
       "      <td>EPL</td>\n",
       "      <td>2</td>\n",
       "      <td>882.0</td>\n",
       "      <td>90.825</td>\n",
       "      <td>97.020</td>\n",
       "      <td>43.928</td>\n",
       "      <td>39.304</td>\n",
       "      <td>332325</td>\n",
       "      <td>0</td>\n",
       "      <td>cd051869</td>\n",
       "      <td>Brentford</td>\n",
       "      <td>28</td>\n",
       "      <td>Declan Rice</td>\n",
       "    </tr>\n",
       "    <tr>\n",
       "      <th>1690</th>\n",
       "      <td>0e9002ec</td>\n",
       "      <td>253</td>\n",
       "      <td>0.04</td>\n",
       "      <td>NaN</td>\n",
       "      <td>Blocked</td>\n",
       "      <td>20</td>\n",
       "      <td>Left Foot</td>\n",
       "      <td>None</td>\n",
       "      <td>247454.0</td>\n",
       "      <td>Pass (Live)</td>\n",
       "      <td>367185.0</td>\n",
       "      <td>Pass (Live)</td>\n",
       "      <td>18bb7c10</td>\n",
       "      <td>Arsenal</td>\n",
       "      <td>ENG-Premier League</td>\n",
       "      <td>2324</td>\n",
       "      <td>EPL</td>\n",
       "      <td>1</td>\n",
       "      <td>1035.0</td>\n",
       "      <td>86.415</td>\n",
       "      <td>88.200</td>\n",
       "      <td>29.784</td>\n",
       "      <td>30.192</td>\n",
       "      <td>326413</td>\n",
       "      <td>0</td>\n",
       "      <td>cd051869</td>\n",
       "      <td>Brentford</td>\n",
       "      <td>28</td>\n",
       "      <td>Kai Havertz</td>\n",
       "    </tr>\n",
       "    <tr>\n",
       "      <th>1699</th>\n",
       "      <td>0e9002ec</td>\n",
       "      <td>754</td>\n",
       "      <td>0.09</td>\n",
       "      <td>NaN</td>\n",
       "      <td>Off Target</td>\n",
       "      <td>22</td>\n",
       "      <td>Right Foot</td>\n",
       "      <td>None</td>\n",
       "      <td>367185.0</td>\n",
       "      <td>Pass (Live)</td>\n",
       "      <td>332325.0</td>\n",
       "      <td>Pass (Live)</td>\n",
       "      <td>18bb7c10</td>\n",
       "      <td>Arsenal</td>\n",
       "      <td>ENG-Premier League</td>\n",
       "      <td>2324</td>\n",
       "      <td>EPL</td>\n",
       "      <td>2</td>\n",
       "      <td>58.0</td>\n",
       "      <td>85.155</td>\n",
       "      <td>105.000</td>\n",
       "      <td>30.464</td>\n",
       "      <td>26.520</td>\n",
       "      <td>247454</td>\n",
       "      <td>0</td>\n",
       "      <td>cd051869</td>\n",
       "      <td>Brentford</td>\n",
       "      <td>28</td>\n",
       "      <td>Martin Ødegaard</td>\n",
       "    </tr>\n",
       "    <tr>\n",
       "      <th>1710</th>\n",
       "      <td>0e9002ec</td>\n",
       "      <td>795</td>\n",
       "      <td>0.03</td>\n",
       "      <td>NaN</td>\n",
       "      <td>Off Target</td>\n",
       "      <td>23</td>\n",
       "      <td>Left Foot</td>\n",
       "      <td>None</td>\n",
       "      <td>113994.0</td>\n",
       "      <td>Pass (Live)</td>\n",
       "      <td>247454.0</td>\n",
       "      <td>Pass (Live)</td>\n",
       "      <td>18bb7c10</td>\n",
       "      <td>Arsenal</td>\n",
       "      <td>ENG-Premier League</td>\n",
       "      <td>2324</td>\n",
       "      <td>EPL</td>\n",
       "      <td>2</td>\n",
       "      <td>179.0</td>\n",
       "      <td>84.000</td>\n",
       "      <td>105.000</td>\n",
       "      <td>42.704</td>\n",
       "      <td>33.932</td>\n",
       "      <td>367185</td>\n",
       "      <td>0</td>\n",
       "      <td>cd051869</td>\n",
       "      <td>Brentford</td>\n",
       "      <td>28</td>\n",
       "      <td>Bukayo Saka</td>\n",
       "    </tr>\n",
       "    <tr>\n",
       "      <th>...</th>\n",
       "      <td>...</td>\n",
       "      <td>...</td>\n",
       "      <td>...</td>\n",
       "      <td>...</td>\n",
       "      <td>...</td>\n",
       "      <td>...</td>\n",
       "      <td>...</td>\n",
       "      <td>...</td>\n",
       "      <td>...</td>\n",
       "      <td>...</td>\n",
       "      <td>...</td>\n",
       "      <td>...</td>\n",
       "      <td>...</td>\n",
       "      <td>...</td>\n",
       "      <td>...</td>\n",
       "      <td>...</td>\n",
       "      <td>...</td>\n",
       "      <td>...</td>\n",
       "      <td>...</td>\n",
       "      <td>...</td>\n",
       "      <td>...</td>\n",
       "      <td>...</td>\n",
       "      <td>...</td>\n",
       "      <td>...</td>\n",
       "      <td>...</td>\n",
       "      <td>...</td>\n",
       "      <td>...</td>\n",
       "      <td>...</td>\n",
       "      <td>...</td>\n",
       "    </tr>\n",
       "    <tr>\n",
       "      <th>100263</th>\n",
       "      <td>a1da23dc</td>\n",
       "      <td>154</td>\n",
       "      <td>0.12</td>\n",
       "      <td>0.05</td>\n",
       "      <td>Saved</td>\n",
       "      <td>5</td>\n",
       "      <td>Head</td>\n",
       "      <td>None</td>\n",
       "      <td>332325.0</td>\n",
       "      <td>Pass (Dead)</td>\n",
       "      <td>367185.0</td>\n",
       "      <td>Pass (Live)</td>\n",
       "      <td>18bb7c10</td>\n",
       "      <td>Arsenal</td>\n",
       "      <td>ENG-Premier League</td>\n",
       "      <td>2324</td>\n",
       "      <td>EPL</td>\n",
       "      <td>1</td>\n",
       "      <td>497.0</td>\n",
       "      <td>100.485</td>\n",
       "      <td>105.000</td>\n",
       "      <td>29.920</td>\n",
       "      <td>32.164</td>\n",
       "      <td>334087</td>\n",
       "      <td>0</td>\n",
       "      <td>7c21e445</td>\n",
       "      <td>West Ham</td>\n",
       "      <td>24</td>\n",
       "      <td>Gabriel Dos Santos</td>\n",
       "    </tr>\n",
       "    <tr>\n",
       "      <th>100267</th>\n",
       "      <td>a1da23dc</td>\n",
       "      <td>613</td>\n",
       "      <td>0.79</td>\n",
       "      <td>0.95</td>\n",
       "      <td>Goal</td>\n",
       "      <td>13</td>\n",
       "      <td>Left Foot</td>\n",
       "      <td>None</td>\n",
       "      <td>367185.0</td>\n",
       "      <td>Fouled</td>\n",
       "      <td>113994.0</td>\n",
       "      <td>Pass (Live)</td>\n",
       "      <td>18bb7c10</td>\n",
       "      <td>Arsenal</td>\n",
       "      <td>ENG-Premier League</td>\n",
       "      <td>2324</td>\n",
       "      <td>EPL</td>\n",
       "      <td>1</td>\n",
       "      <td>2425.0</td>\n",
       "      <td>92.925</td>\n",
       "      <td>105.000</td>\n",
       "      <td>34.000</td>\n",
       "      <td>32.640</td>\n",
       "      <td>367185</td>\n",
       "      <td>1</td>\n",
       "      <td>7c21e445</td>\n",
       "      <td>West Ham</td>\n",
       "      <td>24</td>\n",
       "      <td>Bukayo Saka</td>\n",
       "    </tr>\n",
       "    <tr>\n",
       "      <th>100269</th>\n",
       "      <td>a1da23dc</td>\n",
       "      <td>525</td>\n",
       "      <td>0.25</td>\n",
       "      <td>0.32</td>\n",
       "      <td>Goal</td>\n",
       "      <td>4</td>\n",
       "      <td>Head</td>\n",
       "      <td>None</td>\n",
       "      <td>332325.0</td>\n",
       "      <td>Pass (Dead)</td>\n",
       "      <td>326413.0</td>\n",
       "      <td>Pass (Live)</td>\n",
       "      <td>18bb7c10</td>\n",
       "      <td>Arsenal</td>\n",
       "      <td>ENG-Premier League</td>\n",
       "      <td>2324</td>\n",
       "      <td>EPL</td>\n",
       "      <td>1</td>\n",
       "      <td>1901.0</td>\n",
       "      <td>101.640</td>\n",
       "      <td>105.000</td>\n",
       "      <td>32.096</td>\n",
       "      <td>34.068</td>\n",
       "      <td>361822</td>\n",
       "      <td>1</td>\n",
       "      <td>7c21e445</td>\n",
       "      <td>West Ham</td>\n",
       "      <td>24</td>\n",
       "      <td>William Saliba</td>\n",
       "    </tr>\n",
       "    <tr>\n",
       "      <th>100298</th>\n",
       "      <td>a1da23dc</td>\n",
       "      <td>1295</td>\n",
       "      <td>0.07</td>\n",
       "      <td>0.02</td>\n",
       "      <td>Saved</td>\n",
       "      <td>16</td>\n",
       "      <td>Right Foot</td>\n",
       "      <td>None</td>\n",
       "      <td>380706.0</td>\n",
       "      <td>Pass (Live)</td>\n",
       "      <td>326413.0</td>\n",
       "      <td>Pass (Live)</td>\n",
       "      <td>18bb7c10</td>\n",
       "      <td>Arsenal</td>\n",
       "      <td>ENG-Premier League</td>\n",
       "      <td>2324</td>\n",
       "      <td>EPL</td>\n",
       "      <td>2</td>\n",
       "      <td>1715.0</td>\n",
       "      <td>90.615</td>\n",
       "      <td>102.585</td>\n",
       "      <td>43.656</td>\n",
       "      <td>36.584</td>\n",
       "      <td>345845</td>\n",
       "      <td>0</td>\n",
       "      <td>7c21e445</td>\n",
       "      <td>West Ham</td>\n",
       "      <td>24</td>\n",
       "      <td>Eddie Nketiah</td>\n",
       "    </tr>\n",
       "    <tr>\n",
       "      <th>100303</th>\n",
       "      <td>a1da23dc</td>\n",
       "      <td>702</td>\n",
       "      <td>0.06</td>\n",
       "      <td>0.59</td>\n",
       "      <td>Goal</td>\n",
       "      <td>16</td>\n",
       "      <td>Right Foot</td>\n",
       "      <td>None</td>\n",
       "      <td>247454.0</td>\n",
       "      <td>Pass (Live)</td>\n",
       "      <td>326413.0</td>\n",
       "      <td>Pass (Live)</td>\n",
       "      <td>18bb7c10</td>\n",
       "      <td>Arsenal</td>\n",
       "      <td>ENG-Premier League</td>\n",
       "      <td>2324</td>\n",
       "      <td>EPL</td>\n",
       "      <td>1</td>\n",
       "      <td>2799.0</td>\n",
       "      <td>90.300</td>\n",
       "      <td>105.000</td>\n",
       "      <td>42.976</td>\n",
       "      <td>31.348</td>\n",
       "      <td>113994</td>\n",
       "      <td>1</td>\n",
       "      <td>7c21e445</td>\n",
       "      <td>West Ham</td>\n",
       "      <td>24</td>\n",
       "      <td>Leandro Trossard</td>\n",
       "    </tr>\n",
       "  </tbody>\n",
       "</table>\n",
       "<p>98 rows × 29 columns</p>\n",
       "</div>"
      ],
      "text/plain": [
       "        MATCH_ID  ACTION_ID    XG  PSXG     OUTCOME  DISTANCE   BODY_PART  \\\n",
       "1626    0e9002ec       1031  0.16  0.47       Saved        10   Left Foot   \n",
       "1671    0e9002ec        925  0.04   NaN     Blocked        16   Left Foot   \n",
       "1690    0e9002ec        253  0.04   NaN     Blocked        20   Left Foot   \n",
       "1699    0e9002ec        754  0.09   NaN  Off Target        22  Right Foot   \n",
       "1710    0e9002ec        795  0.03   NaN  Off Target        23   Left Foot   \n",
       "...          ...        ...   ...   ...         ...       ...         ...   \n",
       "100263  a1da23dc        154  0.12  0.05       Saved         5        Head   \n",
       "100267  a1da23dc        613  0.79  0.95        Goal        13   Left Foot   \n",
       "100269  a1da23dc        525  0.25  0.32        Goal         4        Head   \n",
       "100298  a1da23dc       1295  0.07  0.02       Saved        16  Right Foot   \n",
       "100303  a1da23dc        702  0.06  0.59        Goal        16  Right Foot   \n",
       "\n",
       "         NOTES  SCA_1_PLAYER_WS_ID SCA_1_PLAYER_FBREF_EVENT  \\\n",
       "1626      None            424462.0              Pass (Live)   \n",
       "1671    Volley            367185.0              Pass (Live)   \n",
       "1690      None            247454.0              Pass (Live)   \n",
       "1699      None            367185.0              Pass (Live)   \n",
       "1710      None            113994.0              Pass (Live)   \n",
       "...        ...                 ...                      ...   \n",
       "100263    None            332325.0              Pass (Dead)   \n",
       "100267    None            367185.0                   Fouled   \n",
       "100269    None            332325.0              Pass (Dead)   \n",
       "100298    None            380706.0              Pass (Live)   \n",
       "100303    None            247454.0              Pass (Live)   \n",
       "\n",
       "        SCA_2_PLAYER_WS_ID SCA_2_PLAYER_FBREF_EVENT TEAM_FBREF_ID TEAM_NAME  \\\n",
       "1626              334087.0              Pass (Live)      18bb7c10   Arsenal   \n",
       "1671              322036.0              Pass (Live)      18bb7c10   Arsenal   \n",
       "1690              367185.0              Pass (Live)      18bb7c10   Arsenal   \n",
       "1699              332325.0              Pass (Live)      18bb7c10   Arsenal   \n",
       "1710              247454.0              Pass (Live)      18bb7c10   Arsenal   \n",
       "...                    ...                      ...           ...       ...   \n",
       "100263            367185.0              Pass (Live)      18bb7c10   Arsenal   \n",
       "100267            113994.0              Pass (Live)      18bb7c10   Arsenal   \n",
       "100269            326413.0              Pass (Live)      18bb7c10   Arsenal   \n",
       "100298            326413.0              Pass (Live)      18bb7c10   Arsenal   \n",
       "100303            326413.0              Pass (Live)      18bb7c10   Arsenal   \n",
       "\n",
       "               COMPETITION  SEASON COMPETITION_ACRONYM  PERIOD_ID  \\\n",
       "1626    ENG-Premier League    2324                 EPL          2   \n",
       "1671    ENG-Premier League    2324                 EPL          2   \n",
       "1690    ENG-Premier League    2324                 EPL          1   \n",
       "1699    ENG-Premier League    2324                 EPL          2   \n",
       "1710    ENG-Premier League    2324                 EPL          2   \n",
       "...                    ...     ...                 ...        ...   \n",
       "100263  ENG-Premier League    2324                 EPL          1   \n",
       "100267  ENG-Premier League    2324                 EPL          1   \n",
       "100269  ENG-Premier League    2324                 EPL          1   \n",
       "100298  ENG-Premier League    2324                 EPL          2   \n",
       "100303  ENG-Premier League    2324                 EPL          1   \n",
       "\n",
       "        NEW_TIME_SECONDS  START_X    END_X  START_Y   END_Y  PLAYER_WS_ID  \\\n",
       "1626              1291.0   95.445  102.690   38.352  34.000        113994   \n",
       "1671               882.0   90.825   97.020   43.928  39.304        332325   \n",
       "1690              1035.0   86.415   88.200   29.784  30.192        326413   \n",
       "1699                58.0   85.155  105.000   30.464  26.520        247454   \n",
       "1710               179.0   84.000  105.000   42.704  33.932        367185   \n",
       "...                  ...      ...      ...      ...     ...           ...   \n",
       "100263             497.0  100.485  105.000   29.920  32.164        334087   \n",
       "100267            2425.0   92.925  105.000   34.000  32.640        367185   \n",
       "100269            1901.0  101.640  105.000   32.096  34.068        361822   \n",
       "100298            1715.0   90.615  102.585   43.656  36.584        345845   \n",
       "100303            2799.0   90.300  105.000   42.976  31.348        113994   \n",
       "\n",
       "        RESULT_ID OPPO_TEAM_ID OPPO_TEAM_NAME  GAMEWEEK   PLAYER_FBREF_NAME  \n",
       "1626            0     cd051869      Brentford        28    Leandro Trossard  \n",
       "1671            0     cd051869      Brentford        28         Declan Rice  \n",
       "1690            0     cd051869      Brentford        28         Kai Havertz  \n",
       "1699            0     cd051869      Brentford        28     Martin Ødegaard  \n",
       "1710            0     cd051869      Brentford        28         Bukayo Saka  \n",
       "...           ...          ...            ...       ...                 ...  \n",
       "100263          0     7c21e445       West Ham        24  Gabriel Dos Santos  \n",
       "100267          1     7c21e445       West Ham        24         Bukayo Saka  \n",
       "100269          1     7c21e445       West Ham        24      William Saliba  \n",
       "100298          0     7c21e445       West Ham        24       Eddie Nketiah  \n",
       "100303          1     7c21e445       West Ham        24    Leandro Trossard  \n",
       "\n",
       "[98 rows x 29 columns]"
      ]
     },
     "execution_count": 276,
     "metadata": {},
     "output_type": "execute_result"
    }
   ],
   "source": [
    "df_shots_last_5_matches"
   ]
  },
  {
   "cell_type": "code",
   "execution_count": 277,
   "metadata": {},
   "outputs": [
    {
     "data": {
      "text/plain": [
       "OUTCOME\n",
       "Blocked       28\n",
       "Off Target    28\n",
       "Goal          21\n",
       "Saved         19\n",
       "Woodwork       2\n",
       "Name: count, dtype: int64"
      ]
     },
     "execution_count": 277,
     "metadata": {},
     "output_type": "execute_result"
    }
   ],
   "source": [
    "df_shots_last_5_matches['OUTCOME'].value_counts()"
   ]
  },
  {
   "cell_type": "code",
   "execution_count": 278,
   "metadata": {},
   "outputs": [],
   "source": [
    "df_shots_last_5_matches['norm_start_x'] = df_shots_last_5_matches['START_X'] / 120\n",
    "df_shots_last_5_matches['norm_start_y'] = df_shots_last_5_matches['START_Y'] / 80"
   ]
  },
  {
   "cell_type": "code",
   "execution_count": 279,
   "metadata": {},
   "outputs": [],
   "source": [
    "max_size = 5\n",
    "min_size = 2"
   ]
  },
  {
   "cell_type": "code",
   "execution_count": 280,
   "metadata": {},
   "outputs": [],
   "source": [
    "xg_scaled = (df_shots_last_5_matches['XG'] - df_shots_last_5_matches['XG'].min()) / (df_shots_last_5_matches['XG'].max() - df_shots_last_5_matches['XG'].min())\n",
    "df_shots_last_5_matches['xG_size'] = xg_scaled * (max_size - min_size) + min_size"
   ]
  },
  {
   "cell_type": "code",
   "execution_count": null,
   "metadata": {},
   "outputs": [],
   "source": []
  },
  {
   "cell_type": "code",
   "execution_count": 301,
   "metadata": {},
   "outputs": [
    {
     "data": {
      "application/vnd.plotly.v1+json": {
       "config": {
        "plotlyServerURL": "https://plotly.com"
       },
       "data": [
        {
         "hoverinfo": "text+name",
         "marker": {
          "color": "orange",
          "opacity": [
           0.3,
           0.3,
           0.3,
           0.3,
           0.3,
           0.3,
           0.3,
           0.3,
           0.3,
           0.3,
           0.3,
           0.3,
           0.3,
           0.3,
           0.3,
           0.3,
           0.3,
           0.3,
           0.3,
           0.3,
           0.3,
           0.3,
           0.3,
           0.3,
           0.3,
           0.3,
           0.3,
           0.3
          ],
          "size": [
           10.576923076923077,
           10.576923076923077,
           10.769230769230768,
           12.692307692307692,
           10.192307692307692,
           10.384615384615385,
           11.923076923076923,
           10.769230769230768,
           10.769230769230768,
           12.307692307692308,
           11.730769230769232,
           10.192307692307692,
           12.115384615384615,
           10.576923076923077,
           11.923076923076923,
           13.653846153846153,
           12.692307692307692,
           10.192307692307692,
           10.576923076923077,
           10,
           10.192307692307692,
           10.769230769230768,
           13.653846153846153,
           10.192307692307692,
           10.769230769230768,
           11.346153846153847,
           10.769230769230768,
           10.576923076923077
          ],
          "symbol": "x"
         },
         "mode": "markers",
         "name": "Blocked",
         "text": [
          "Player: Declan Rice<br>GW: 28<br>Opponent: Brentford<br>Period: 2<br>Time: 14<br>XG: 0.04<br>Body Part: Left Foot",
          "Player: Kai Havertz<br>GW: 28<br>Opponent: Brentford<br>Period: 1<br>Time: 17<br>XG: 0.04<br>Body Part: Left Foot",
          "Player: Bukayo Saka<br>GW: 28<br>Opponent: Brentford<br>Period: 2<br>Time: 54<br>XG: 0.05<br>Body Part: Right Foot",
          "Player: Gabriel Dos Santos<br>GW: 28<br>Opponent: Brentford<br>Period: 2<br>Time: 13<br>XG: 0.15<br>Body Part: Head",
          "Player: Martin Ødegaard<br>GW: 28<br>Opponent: Brentford<br>Period: 2<br>Time: 8<br>XG: 0.02<br>Body Part: Left Foot",
          "Player: Bukayo Saka<br>GW: 28<br>Opponent: Brentford<br>Period: 2<br>Time: 18<br>XG: 0.03<br>Body Part: Left Foot",
          "Player: Bukayo Saka<br>GW: 27<br>Opponent: Sheffield Utd<br>Period: 1<br>Time: 10<br>XG: 0.11<br>Body Part: Left Foot",
          "Player: Martin Ødegaard<br>GW: 27<br>Opponent: Sheffield Utd<br>Period: 1<br>Time: 36<br>XG: 0.05<br>Body Part: Left Foot",
          "Player: Martin Ødegaard<br>GW: 27<br>Opponent: Sheffield Utd<br>Period: 1<br>Time: 37<br>XG: 0.05<br>Body Part: Left Foot",
          "Player: Gabriel Martinelli<br>GW: 27<br>Opponent: Sheffield Utd<br>Period: 1<br>Time: 35<br>XG: 0.13<br>Body Part: Left Foot",
          "Player: Emile Smith Rowe<br>GW: 26<br>Opponent: Newcastle Utd<br>Period: 2<br>Time: 34<br>XG: 0.1<br>Body Part: Right Foot",
          "Player: Gabriel Martinelli<br>GW: 26<br>Opponent: Newcastle Utd<br>Period: 1<br>Time: 22<br>XG: 0.02<br>Body Part: Right Foot",
          "Player: William Saliba<br>GW: 26<br>Opponent: Newcastle Utd<br>Period: 1<br>Time: 0<br>XG: 0.12<br>Body Part: Head",
          "Player: Bukayo Saka<br>GW: 26<br>Opponent: Newcastle Utd<br>Period: 1<br>Time: 7<br>XG: 0.04<br>Body Part: Left Foot",
          "Player: Declan Rice<br>GW: 27<br>Opponent: Sheffield Utd<br>Period: 1<br>Time: 1<br>XG: 0.11<br>Body Part: Right Foot",
          "Player: Emile Smith Rowe<br>GW: 26<br>Opponent: Newcastle Utd<br>Period: 2<br>Time: 47<br>XG: 0.2<br>Body Part: Left Foot",
          "Player: Gabriel Martinelli<br>GW: 27<br>Opponent: Sheffield Utd<br>Period: 1<br>Time: 1<br>XG: 0.15<br>Body Part: Right Foot",
          "Player: Jakub Kiwior<br>GW: 27<br>Opponent: Sheffield Utd<br>Period: 1<br>Time: 11<br>XG: 0.02<br>Body Part: Left Foot",
          "Player: Declan Rice<br>GW: 27<br>Opponent: Sheffield Utd<br>Period: 2<br>Time: 11<br>XG: 0.04<br>Body Part: Right Foot",
          "Player: Declan Rice<br>GW: 25<br>Opponent: Burnley<br>Period: 1<br>Time: 19<br>XG: 0.01<br>Body Part: Right Foot",
          "Player: Gabriel Martinelli<br>GW: 25<br>Opponent: Burnley<br>Period: 2<br>Time: 0<br>XG: 0.02<br>Body Part: Right Foot",
          "Player: Emile Smith Rowe<br>GW: 25<br>Opponent: Burnley<br>Period: 2<br>Time: 48<br>XG: 0.05<br>Body Part: Right Foot",
          "Player: Kai Havertz<br>GW: 25<br>Opponent: Burnley<br>Period: 2<br>Time: 20<br>XG: 0.2<br>Body Part: Right Foot",
          "Player: Bukayo Saka<br>GW: 25<br>Opponent: Burnley<br>Period: 1<br>Time: 20<br>XG: 0.02<br>Body Part: Left Foot",
          "Player: Martin Ødegaard<br>GW: 24<br>Opponent: West Ham<br>Period: 1<br>Time: 27<br>XG: 0.05<br>Body Part: Left Foot",
          "Player: Gabriel Martinelli<br>GW: 24<br>Opponent: West Ham<br>Period: 2<br>Time: 13<br>XG: 0.08<br>Body Part: Right Foot",
          "Player: Bukayo Saka<br>GW: 24<br>Opponent: West Ham<br>Period: 1<br>Time: 25<br>XG: 0.05<br>Body Part: Left Foot",
          "Player: Bukayo Saka<br>GW: 24<br>Opponent: West Ham<br>Period: 1<br>Time: 10<br>XG: 0.04<br>Body Part: Left Foot"
         ],
         "type": "scatter",
         "x": [
          24.072000000000003,
          38.216,
          45.152,
          36.652,
          40.324,
          48.076,
          32.708,
          23.936,
          39.236000000000004,
          34.884,
          27.200000000000003,
          22.644,
          30.531999999999996,
          43.656,
          34.34,
          31.96,
          28.287999999999997,
          28.9,
          31.619999999999997,
          30.6,
          17.68,
          34.068,
          38.08,
          38.08,
          44.2,
          38.42,
          42.772,
          40.46
         ],
         "y": [
          90.825,
          86.415,
          90.72,
          100.38,
          87.78,
          86.1,
          94.29,
          87.885,
          89.88,
          89.88,
          90.72,
          81.9,
          99.855,
          92.19,
          94.395,
          93.135,
          95.34,
          79.17,
          86.415,
          77.07,
          92.82,
          85.68,
          93.765,
          75.915,
          86.415,
          91.98,
          92.61,
          78.435
         ]
        },
        {
         "hoverinfo": "text+name",
         "marker": {
          "color": "forestgreen",
          "opacity": [
           1,
           1,
           1,
           1,
           1,
           1,
           1,
           1,
           1,
           1,
           1,
           1,
           1,
           1,
           1,
           1,
           1,
           1,
           1,
           1,
           1
          ],
          "size": [
           14.423076923076923,
           10.576923076923077,
           22.115384615384617,
           20.576923076923073,
           10.384615384615385,
           11.346153846153847,
           13.461538461538463,
           11.153846153846153,
           10.769230769230768,
           10.576923076923077,
           18.26923076923077,
           12.307692307692308,
           25,
           12.307692307692308,
           11.730769230769232,
           15.769230769230768,
           10.384615384615385,
           13.461538461538463,
           25,
           14.615384615384615,
           10.961538461538463
          ],
          "symbol": "circle"
         },
         "mode": "markers",
         "name": "Goal",
         "text": [
          "Player: Kai Havertz<br>GW: 28<br>Opponent: Brentford<br>Period: 2<br>Time: 40<br>XG: 0.24<br>Body Part: Head",
          "Player: Declan Rice<br>GW: 28<br>Opponent: Brentford<br>Period: 1<br>Time: 18<br>XG: 0.04<br>Body Part: Head",
          "Player: Kai Havertz<br>GW: 26<br>Opponent: Newcastle Utd<br>Period: 1<br>Time: 23<br>XG: 0.64<br>Body Part: Right Foot",
          "Player: Martin Ødegaard<br>GW: 27<br>Opponent: Sheffield Utd<br>Period: 1<br>Time: 4<br>XG: 0.56<br>Body Part: Left Foot",
          "Player: Bukayo Saka<br>GW: 26<br>Opponent: Newcastle Utd<br>Period: 2<br>Time: 19<br>XG: 0.03<br>Body Part: Left Foot",
          "Player: Kai Havertz<br>GW: 27<br>Opponent: Sheffield Utd<br>Period: 1<br>Time: 24<br>XG: 0.08<br>Body Part: Left Foot",
          "Player: Declan Rice<br>GW: 27<br>Opponent: Sheffield Utd<br>Period: 1<br>Time: 38<br>XG: 0.19<br>Body Part: Right Foot",
          "Player: Gabriel Martinelli<br>GW: 27<br>Opponent: Sheffield Utd<br>Period: 1<br>Time: 14<br>XG: 0.07<br>Body Part: Left Foot",
          "Player: Jakub Kiwior<br>GW: 26<br>Opponent: Newcastle Utd<br>Period: 2<br>Time: 23<br>XG: 0.05<br>Body Part: Head",
          "Player: Ben White<br>GW: 27<br>Opponent: Sheffield Utd<br>Period: 2<br>Time: 12<br>XG: 0.04<br>Body Part: Left Foot",
          "Player: Kai Havertz<br>GW: 25<br>Opponent: Burnley<br>Period: 2<br>Time: 32<br>XG: 0.44<br>Body Part: Right Foot",
          "Player: Leandro Trossard<br>GW: 25<br>Opponent: Burnley<br>Period: 2<br>Time: 20<br>XG: 0.13<br>Body Part: Left Foot",
          "Player: Bukayo Saka<br>GW: 25<br>Opponent: Burnley<br>Period: 1<br>Time: 40<br>XG: 0.79<br>Body Part: Left Foot",
          "Player: Martin Ødegaard<br>GW: 25<br>Opponent: Burnley<br>Period: 1<br>Time: 3<br>XG: 0.13<br>Body Part: Left Foot",
          "Player: Bukayo Saka<br>GW: 25<br>Opponent: Burnley<br>Period: 2<br>Time: 1<br>XG: 0.1<br>Body Part: Right Foot",
          "Player: Gabriel Dos Santos<br>GW: 24<br>Opponent: West Ham<br>Period: 1<br>Time: 43<br>XG: 0.31<br>Body Part: Head",
          "Player: Declan Rice<br>GW: 24<br>Opponent: West Ham<br>Period: 2<br>Time: 19<br>XG: 0.03<br>Body Part: Right Foot",
          "Player: Bukayo Saka<br>GW: 24<br>Opponent: West Ham<br>Period: 2<br>Time: 17<br>XG: 0.19<br>Body Part: Left Foot",
          "Player: Bukayo Saka<br>GW: 24<br>Opponent: West Ham<br>Period: 1<br>Time: 40<br>XG: 0.79<br>Body Part: Left Foot",
          "Player: William Saliba<br>GW: 24<br>Opponent: West Ham<br>Period: 1<br>Time: 31<br>XG: 0.25<br>Body Part: Head",
          "Player: Leandro Trossard<br>GW: 24<br>Opponent: West Ham<br>Period: 1<br>Time: 46<br>XG: 0.06<br>Body Part: Right Foot"
         ],
         "type": "scatter",
         "x": [
          35.02,
          31.96,
          35.36,
          33.456,
          48.688,
          23.392000000000003,
          41.275999999999996,
          25.092,
          27.131999999999998,
          41.14,
          29.58,
          40.324,
          34,
          33.388,
          44.608000000000004,
          30.328000000000003,
          37.263999999999996,
          40.867999999999995,
          34,
          35.904,
          25.024
         ],
         "y": [
          98.7,
          93.765,
          98.385,
          96.705,
          93.765,
          93.66,
          94.395,
          91.77,
          100.8,
          90.405,
          95.025,
          94.71,
          92.925,
          86.205,
          95.55,
          100.17,
          77.49,
          91.56,
          92.925,
          101.64,
          90.3
         ]
        },
        {
         "hoverinfo": "text+name",
         "marker": {
          "color": "red",
          "opacity": [
           0.4,
           0.4,
           0.4,
           0.4,
           0.4,
           0.4,
           0.4,
           0.4,
           0.4,
           0.4,
           0.4,
           0.4,
           0.4,
           0.4,
           0.4,
           0.4,
           0.4,
           0.4,
           0.4,
           0.4,
           0.4,
           0.4,
           0.4,
           0.4,
           0.4,
           0.4,
           0.4,
           0.4
          ],
          "size": [
           11.538461538461537,
           10.384615384615385,
           11.923076923076923,
           12.115384615384615,
           10.961538461538463,
           22.115384615384617,
           10.192307692307692,
           10.192307692307692,
           10,
           10.576923076923077,
           10.384615384615385,
           11.346153846153847,
           10.192307692307692,
           16.73076923076923,
           19.615384615384613,
           12.115384615384615,
           12.115384615384615,
           11.153846153846153,
           11.923076923076923,
           10.576923076923077,
           10.384615384615385,
           13.846153846153847,
           14.615384615384615,
           16.153846153846153,
           10.384615384615385,
           10.961538461538463,
           10.192307692307692,
           12.115384615384615
          ],
          "symbol": "x"
         },
         "mode": "markers",
         "name": "Off Target",
         "text": [
          "Player: Martin Ødegaard<br>GW: 28<br>Opponent: Brentford<br>Period: 2<br>Time: 0<br>XG: 0.09<br>Body Part: Right Foot",
          "Player: Bukayo Saka<br>GW: 28<br>Opponent: Brentford<br>Period: 2<br>Time: 2<br>XG: 0.03<br>Body Part: Left Foot",
          "Player: Kai Havertz<br>GW: 28<br>Opponent: Brentford<br>Period: 1<br>Time: 42<br>XG: 0.11<br>Body Part: Left Foot",
          "Player: Gabriel Dos Santos<br>GW: 28<br>Opponent: Brentford<br>Period: 1<br>Time: 26<br>XG: 0.12<br>Body Part: Head",
          "Player: Martin Ødegaard<br>GW: 28<br>Opponent: Brentford<br>Period: 1<br>Time: 17<br>XG: 0.06<br>Body Part: Left Foot",
          "Player: Kai Havertz<br>GW: 26<br>Opponent: Newcastle Utd<br>Period: 2<br>Time: 1<br>XG: 0.64<br>Body Part: Left Foot",
          "Player: Bukayo Saka<br>GW: 27<br>Opponent: Sheffield Utd<br>Period: 1<br>Time: 42<br>XG: 0.02<br>Body Part: Left Foot",
          "Player: Martin Ødegaard<br>GW: 27<br>Opponent: Sheffield Utd<br>Period: 1<br>Time: 8<br>XG: 0.02<br>Body Part: Left Foot",
          "Player: Gabriel Martinelli<br>GW: 26<br>Opponent: Newcastle Utd<br>Period: 1<br>Time: 12<br>XG: 0.01<br>Body Part: Head",
          "Player: Gabriel Martinelli<br>GW: 26<br>Opponent: Newcastle Utd<br>Period: 1<br>Time: 34<br>XG: 0.04<br>Body Part: Right Foot",
          "Player: Jakub Kiwior<br>GW: 27<br>Opponent: Sheffield Utd<br>Period: 2<br>Time: 32<br>XG: 0.03<br>Body Part: Other",
          "Player: Emile Smith Rowe<br>GW: 26<br>Opponent: Newcastle Utd<br>Period: 2<br>Time: 49<br>XG: 0.08<br>Body Part: Head",
          "Player: Bukayo Saka<br>GW: 26<br>Opponent: Newcastle Utd<br>Period: 1<br>Time: 1<br>XG: 0.02<br>Body Part: Left Foot",
          "Player: Gabriel Martinelli<br>GW: 27<br>Opponent: Sheffield Utd<br>Period: 2<br>Time: 7<br>XG: 0.36<br>Body Part: Left Foot",
          "Player: Gabriel Martinelli<br>GW: 26<br>Opponent: Newcastle Utd<br>Period: 1<br>Time: 30<br>XG: 0.51<br>Body Part: Head",
          "Player: Eddie Nketiah<br>GW: 25<br>Opponent: Burnley<br>Period: 2<br>Time: 27<br>XG: 0.12<br>Body Part: Head",
          "Player: Eddie Nketiah<br>GW: 25<br>Opponent: Burnley<br>Period: 2<br>Time: 48<br>XG: 0.12<br>Body Part: Right Foot",
          "Player: Leandro Trossard<br>GW: 25<br>Opponent: Burnley<br>Period: 2<br>Time: 19<br>XG: 0.07<br>Body Part: Left Foot",
          "Player: Leandro Trossard<br>GW: 25<br>Opponent: Burnley<br>Period: 2<br>Time: 18<br>XG: 0.11<br>Body Part: Left Foot",
          "Player: Leandro Trossard<br>GW: 24<br>Opponent: West Ham<br>Period: 1<br>Time: 23<br>XG: 0.04<br>Body Part: Right Foot",
          "Player: Bukayo Saka<br>GW: 24<br>Opponent: West Ham<br>Period: 1<br>Time: 19<br>XG: 0.03<br>Body Part: Left Foot",
          "Player: Leandro Trossard<br>GW: 24<br>Opponent: West Ham<br>Period: 2<br>Time: 1<br>XG: 0.21<br>Body Part: Left Foot",
          "Player: Leandro Trossard<br>GW: 24<br>Opponent: West Ham<br>Period: 1<br>Time: 21<br>XG: 0.25<br>Body Part: Head",
          "Player: Bukayo Saka<br>GW: 24<br>Opponent: West Ham<br>Period: 1<br>Time: 36<br>XG: 0.33<br>Body Part: Left Foot",
          "Player: Kai Havertz<br>GW: 24<br>Opponent: West Ham<br>Period: 2<br>Time: 4<br>XG: 0.03<br>Body Part: Left Foot",
          "Player: Gabriel Martinelli<br>GW: 24<br>Opponent: West Ham<br>Period: 2<br>Time: 3<br>XG: 0.06<br>Body Part: Head",
          "Player: Mohamed Elneny<br>GW: 24<br>Opponent: West Ham<br>Period: 2<br>Time: 36<br>XG: 0.02<br>Body Part: Right Foot",
          "Player: Bukayo Saka<br>GW: 24<br>Opponent: West Ham<br>Period: 1<br>Time: 34<br>XG: 0.12<br>Body Part: Head"
         ],
         "type": "scatter",
         "x": [
          37.536,
          25.296,
          38.760000000000005,
          29.716,
          40.188,
          32.912,
          48.824,
          40.936,
          20.128,
          26.18,
          30.6,
          30.6,
          40.528,
          29.512,
          33.388,
          38.488,
          26.86,
          37.944,
          30.396,
          40.867999999999995,
          27.676000000000002,
          38.08,
          36.992000000000004,
          41.82,
          29.648000000000003,
          35.292,
          34.204,
          35.564
         ],
         "y": [
          85.155,
          84,
          94.08,
          101.115,
          92.4,
          91.56,
          90.195,
          84.735,
          93.555,
          89.565,
          93.03,
          95.55,
          82.95,
          94.815,
          97.125,
          99.75,
          101.64,
          91.245,
          95.445,
          91.56,
          83.055,
          90.72,
          96.6,
          100.485,
          79.485,
          93.66,
          79.59,
          97.545
         ]
        },
        {
         "hoverinfo": "text+name",
         "marker": {
          "color": "red",
          "opacity": [
           0.3,
           0.3,
           0.3,
           0.3,
           0.3,
           0.3,
           0.3,
           0.3,
           0.3,
           0.3,
           0.3,
           0.3,
           0.3,
           0.3,
           0.3,
           0.3,
           0.3,
           0.3,
           0.3
          ],
          "size": [
           12.884615384615383,
           10.384615384615385,
           10.961538461538463,
           11.730769230769232,
           10.384615384615385,
           10.576923076923077,
           10.769230769230768,
           10.384615384615385,
           13.846153846153847,
           10.769230769230768,
           10.961538461538463,
           10.769230769230768,
           10.192307692307692,
           10.961538461538463,
           13.461538461538463,
           10.769230769230768,
           13.269230769230768,
           12.115384615384615,
           11.153846153846153
          ],
          "symbol": "circle"
         },
         "mode": "markers",
         "name": "Saved",
         "text": [
          "Player: Leandro Trossard<br>GW: 28<br>Opponent: Brentford<br>Period: 2<br>Time: 21<br>XG: 0.16<br>Body Part: Left Foot",
          "Player: Leandro Trossard<br>GW: 28<br>Opponent: Brentford<br>Period: 1<br>Time: 40<br>XG: 0.03<br>Body Part: Right Foot",
          "Player: Kai Havertz<br>GW: 28<br>Opponent: Brentford<br>Period: 1<br>Time: 23<br>XG: 0.06<br>Body Part: Left Foot",
          "Player: Kai Havertz<br>GW: 27<br>Opponent: Sheffield Utd<br>Period: 1<br>Time: 21<br>XG: 0.1<br>Body Part: Left Foot",
          "Player: Declan Rice<br>GW: 27<br>Opponent: Sheffield Utd<br>Period: 1<br>Time: 20<br>XG: 0.03<br>Body Part: Right Foot",
          "Player: Declan Rice<br>GW: 27<br>Opponent: Sheffield Utd<br>Period: 2<br>Time: 6<br>XG: 0.04<br>Body Part: Right Foot",
          "Player: Bukayo Saka<br>GW: 26<br>Opponent: Newcastle Utd<br>Period: 1<br>Time: 37<br>XG: 0.05<br>Body Part: Right Foot",
          "Player: Reiss Nelson<br>GW: 26<br>Opponent: Newcastle Utd<br>Period: 2<br>Time: 47<br>XG: 0.03<br>Body Part: Right Foot",
          "Player: Gabriel Dos Santos<br>GW: 26<br>Opponent: Newcastle Utd<br>Period: 1<br>Time: 17<br>XG: 0.21<br>Body Part: Head",
          "Player: Gabriel Jesus<br>GW: 27<br>Opponent: Sheffield Utd<br>Period: 2<br>Time: 36<br>XG: 0.05<br>Body Part: Right Foot",
          "Player: Declan Rice<br>GW: 26<br>Opponent: Newcastle Utd<br>Period: 1<br>Time: 9<br>XG: 0.06<br>Body Part: Right Foot",
          "Player: Martin Ødegaard<br>GW: 25<br>Opponent: Burnley<br>Period: 2<br>Time: 52<br>XG: 0.05<br>Body Part: Left Foot",
          "Player: Gabriel Dos Santos<br>GW: 25<br>Opponent: Burnley<br>Period: 2<br>Time: 39<br>XG: 0.02<br>Body Part: Head",
          "Player: Mohamed Elneny<br>GW: 24<br>Opponent: West Ham<br>Period: 2<br>Time: 26<br>XG: 0.06<br>Body Part: Right Foot",
          "Player: Leandro Trossard<br>GW: 24<br>Opponent: West Ham<br>Period: 1<br>Time: 22<br>XG: 0.19<br>Body Part: Right Foot",
          "Player: Kai Havertz<br>GW: 24<br>Opponent: West Ham<br>Period: 1<br>Time: 9<br>XG: 0.05<br>Body Part: Head",
          "Player: Bukayo Saka<br>GW: 24<br>Opponent: West Ham<br>Period: 2<br>Time: 12<br>XG: 0.18<br>Body Part: Left Foot",
          "Player: Gabriel Dos Santos<br>GW: 24<br>Opponent: West Ham<br>Period: 1<br>Time: 8<br>XG: 0.12<br>Body Part: Head",
          "Player: Eddie Nketiah<br>GW: 24<br>Opponent: West Ham<br>Period: 2<br>Time: 28<br>XG: 0.07<br>Body Part: Right Foot"
         ],
         "type": "scatter",
         "x": [
          29.648000000000003,
          34,
          30.735999999999997,
          33.32,
          22.235999999999997,
          10.948,
          43.248000000000005,
          25.704,
          38.488,
          22.915999999999997,
          46.988,
          44.879999999999995,
          24.616,
          42.296,
          28.764000000000003,
          29.648000000000003,
          29.512,
          38.08,
          24.344
         ],
         "y": [
          95.445,
          76.65,
          90.405,
          95.55,
          83.58,
          90.09,
          93.975,
          83.055,
          101.535,
          91.14,
          92.505,
          81.375,
          99.645,
          83.055,
          95.655,
          96.39,
          92.19,
          100.485,
          90.615
         ]
        },
        {
         "hoverinfo": "text+name",
         "marker": {
          "color": "purple",
          "opacity": [
           0.6,
           0.6
          ],
          "size": [
           10.192307692307692,
           11.153846153846153
          ],
          "symbol": "hexagon"
         },
         "mode": "markers",
         "name": "Woodwork",
         "text": [
          "Player: Declan Rice<br>GW: 28<br>Opponent: Brentford<br>Period: 2<br>Time: 28<br>XG: 0.02<br>Body Part: Right Foot",
          "Player: Bukayo Saka<br>GW: 27<br>Opponent: Sheffield Utd<br>Period: 1<br>Time: 1<br>XG: 0.07<br>Body Part: Left Foot"
         ],
         "type": "scatter",
         "x": [
          35.428,
          40.867999999999995
         ],
         "y": [
          77.385,
          100.59
         ]
        }
       ],
       "layout": {
        "height": 1100,
        "images": [
         {
          "layer": "below",
          "opacity": 1,
          "sizex": 77.5,
          "sizey": 115,
          "source": "vertical_pitch.png",
          "x": -4.8,
          "xref": "x",
          "y": 109,
          "yref": "y"
         }
        ],
        "plot_bgcolor": "rgba(0,0,0,0)",
        "template": {
         "data": {
          "bar": [
           {
            "error_x": {
             "color": "#2a3f5f"
            },
            "error_y": {
             "color": "#2a3f5f"
            },
            "marker": {
             "line": {
              "color": "#E5ECF6",
              "width": 0.5
             },
             "pattern": {
              "fillmode": "overlay",
              "size": 10,
              "solidity": 0.2
             }
            },
            "type": "bar"
           }
          ],
          "barpolar": [
           {
            "marker": {
             "line": {
              "color": "#E5ECF6",
              "width": 0.5
             },
             "pattern": {
              "fillmode": "overlay",
              "size": 10,
              "solidity": 0.2
             }
            },
            "type": "barpolar"
           }
          ],
          "carpet": [
           {
            "aaxis": {
             "endlinecolor": "#2a3f5f",
             "gridcolor": "white",
             "linecolor": "white",
             "minorgridcolor": "white",
             "startlinecolor": "#2a3f5f"
            },
            "baxis": {
             "endlinecolor": "#2a3f5f",
             "gridcolor": "white",
             "linecolor": "white",
             "minorgridcolor": "white",
             "startlinecolor": "#2a3f5f"
            },
            "type": "carpet"
           }
          ],
          "choropleth": [
           {
            "colorbar": {
             "outlinewidth": 0,
             "ticks": ""
            },
            "type": "choropleth"
           }
          ],
          "contour": [
           {
            "colorbar": {
             "outlinewidth": 0,
             "ticks": ""
            },
            "colorscale": [
             [
              0,
              "#0d0887"
             ],
             [
              0.1111111111111111,
              "#46039f"
             ],
             [
              0.2222222222222222,
              "#7201a8"
             ],
             [
              0.3333333333333333,
              "#9c179e"
             ],
             [
              0.4444444444444444,
              "#bd3786"
             ],
             [
              0.5555555555555556,
              "#d8576b"
             ],
             [
              0.6666666666666666,
              "#ed7953"
             ],
             [
              0.7777777777777778,
              "#fb9f3a"
             ],
             [
              0.8888888888888888,
              "#fdca26"
             ],
             [
              1,
              "#f0f921"
             ]
            ],
            "type": "contour"
           }
          ],
          "contourcarpet": [
           {
            "colorbar": {
             "outlinewidth": 0,
             "ticks": ""
            },
            "type": "contourcarpet"
           }
          ],
          "heatmap": [
           {
            "colorbar": {
             "outlinewidth": 0,
             "ticks": ""
            },
            "colorscale": [
             [
              0,
              "#0d0887"
             ],
             [
              0.1111111111111111,
              "#46039f"
             ],
             [
              0.2222222222222222,
              "#7201a8"
             ],
             [
              0.3333333333333333,
              "#9c179e"
             ],
             [
              0.4444444444444444,
              "#bd3786"
             ],
             [
              0.5555555555555556,
              "#d8576b"
             ],
             [
              0.6666666666666666,
              "#ed7953"
             ],
             [
              0.7777777777777778,
              "#fb9f3a"
             ],
             [
              0.8888888888888888,
              "#fdca26"
             ],
             [
              1,
              "#f0f921"
             ]
            ],
            "type": "heatmap"
           }
          ],
          "heatmapgl": [
           {
            "colorbar": {
             "outlinewidth": 0,
             "ticks": ""
            },
            "colorscale": [
             [
              0,
              "#0d0887"
             ],
             [
              0.1111111111111111,
              "#46039f"
             ],
             [
              0.2222222222222222,
              "#7201a8"
             ],
             [
              0.3333333333333333,
              "#9c179e"
             ],
             [
              0.4444444444444444,
              "#bd3786"
             ],
             [
              0.5555555555555556,
              "#d8576b"
             ],
             [
              0.6666666666666666,
              "#ed7953"
             ],
             [
              0.7777777777777778,
              "#fb9f3a"
             ],
             [
              0.8888888888888888,
              "#fdca26"
             ],
             [
              1,
              "#f0f921"
             ]
            ],
            "type": "heatmapgl"
           }
          ],
          "histogram": [
           {
            "marker": {
             "pattern": {
              "fillmode": "overlay",
              "size": 10,
              "solidity": 0.2
             }
            },
            "type": "histogram"
           }
          ],
          "histogram2d": [
           {
            "colorbar": {
             "outlinewidth": 0,
             "ticks": ""
            },
            "colorscale": [
             [
              0,
              "#0d0887"
             ],
             [
              0.1111111111111111,
              "#46039f"
             ],
             [
              0.2222222222222222,
              "#7201a8"
             ],
             [
              0.3333333333333333,
              "#9c179e"
             ],
             [
              0.4444444444444444,
              "#bd3786"
             ],
             [
              0.5555555555555556,
              "#d8576b"
             ],
             [
              0.6666666666666666,
              "#ed7953"
             ],
             [
              0.7777777777777778,
              "#fb9f3a"
             ],
             [
              0.8888888888888888,
              "#fdca26"
             ],
             [
              1,
              "#f0f921"
             ]
            ],
            "type": "histogram2d"
           }
          ],
          "histogram2dcontour": [
           {
            "colorbar": {
             "outlinewidth": 0,
             "ticks": ""
            },
            "colorscale": [
             [
              0,
              "#0d0887"
             ],
             [
              0.1111111111111111,
              "#46039f"
             ],
             [
              0.2222222222222222,
              "#7201a8"
             ],
             [
              0.3333333333333333,
              "#9c179e"
             ],
             [
              0.4444444444444444,
              "#bd3786"
             ],
             [
              0.5555555555555556,
              "#d8576b"
             ],
             [
              0.6666666666666666,
              "#ed7953"
             ],
             [
              0.7777777777777778,
              "#fb9f3a"
             ],
             [
              0.8888888888888888,
              "#fdca26"
             ],
             [
              1,
              "#f0f921"
             ]
            ],
            "type": "histogram2dcontour"
           }
          ],
          "mesh3d": [
           {
            "colorbar": {
             "outlinewidth": 0,
             "ticks": ""
            },
            "type": "mesh3d"
           }
          ],
          "parcoords": [
           {
            "line": {
             "colorbar": {
              "outlinewidth": 0,
              "ticks": ""
             }
            },
            "type": "parcoords"
           }
          ],
          "pie": [
           {
            "automargin": true,
            "type": "pie"
           }
          ],
          "scatter": [
           {
            "fillpattern": {
             "fillmode": "overlay",
             "size": 10,
             "solidity": 0.2
            },
            "type": "scatter"
           }
          ],
          "scatter3d": [
           {
            "line": {
             "colorbar": {
              "outlinewidth": 0,
              "ticks": ""
             }
            },
            "marker": {
             "colorbar": {
              "outlinewidth": 0,
              "ticks": ""
             }
            },
            "type": "scatter3d"
           }
          ],
          "scattercarpet": [
           {
            "marker": {
             "colorbar": {
              "outlinewidth": 0,
              "ticks": ""
             }
            },
            "type": "scattercarpet"
           }
          ],
          "scattergeo": [
           {
            "marker": {
             "colorbar": {
              "outlinewidth": 0,
              "ticks": ""
             }
            },
            "type": "scattergeo"
           }
          ],
          "scattergl": [
           {
            "marker": {
             "colorbar": {
              "outlinewidth": 0,
              "ticks": ""
             }
            },
            "type": "scattergl"
           }
          ],
          "scattermapbox": [
           {
            "marker": {
             "colorbar": {
              "outlinewidth": 0,
              "ticks": ""
             }
            },
            "type": "scattermapbox"
           }
          ],
          "scatterpolar": [
           {
            "marker": {
             "colorbar": {
              "outlinewidth": 0,
              "ticks": ""
             }
            },
            "type": "scatterpolar"
           }
          ],
          "scatterpolargl": [
           {
            "marker": {
             "colorbar": {
              "outlinewidth": 0,
              "ticks": ""
             }
            },
            "type": "scatterpolargl"
           }
          ],
          "scatterternary": [
           {
            "marker": {
             "colorbar": {
              "outlinewidth": 0,
              "ticks": ""
             }
            },
            "type": "scatterternary"
           }
          ],
          "surface": [
           {
            "colorbar": {
             "outlinewidth": 0,
             "ticks": ""
            },
            "colorscale": [
             [
              0,
              "#0d0887"
             ],
             [
              0.1111111111111111,
              "#46039f"
             ],
             [
              0.2222222222222222,
              "#7201a8"
             ],
             [
              0.3333333333333333,
              "#9c179e"
             ],
             [
              0.4444444444444444,
              "#bd3786"
             ],
             [
              0.5555555555555556,
              "#d8576b"
             ],
             [
              0.6666666666666666,
              "#ed7953"
             ],
             [
              0.7777777777777778,
              "#fb9f3a"
             ],
             [
              0.8888888888888888,
              "#fdca26"
             ],
             [
              1,
              "#f0f921"
             ]
            ],
            "type": "surface"
           }
          ],
          "table": [
           {
            "cells": {
             "fill": {
              "color": "#EBF0F8"
             },
             "line": {
              "color": "white"
             }
            },
            "header": {
             "fill": {
              "color": "#C8D4E3"
             },
             "line": {
              "color": "white"
             }
            },
            "type": "table"
           }
          ]
         },
         "layout": {
          "annotationdefaults": {
           "arrowcolor": "#2a3f5f",
           "arrowhead": 0,
           "arrowwidth": 1
          },
          "autotypenumbers": "strict",
          "coloraxis": {
           "colorbar": {
            "outlinewidth": 0,
            "ticks": ""
           }
          },
          "colorscale": {
           "diverging": [
            [
             0,
             "#8e0152"
            ],
            [
             0.1,
             "#c51b7d"
            ],
            [
             0.2,
             "#de77ae"
            ],
            [
             0.3,
             "#f1b6da"
            ],
            [
             0.4,
             "#fde0ef"
            ],
            [
             0.5,
             "#f7f7f7"
            ],
            [
             0.6,
             "#e6f5d0"
            ],
            [
             0.7,
             "#b8e186"
            ],
            [
             0.8,
             "#7fbc41"
            ],
            [
             0.9,
             "#4d9221"
            ],
            [
             1,
             "#276419"
            ]
           ],
           "sequential": [
            [
             0,
             "#0d0887"
            ],
            [
             0.1111111111111111,
             "#46039f"
            ],
            [
             0.2222222222222222,
             "#7201a8"
            ],
            [
             0.3333333333333333,
             "#9c179e"
            ],
            [
             0.4444444444444444,
             "#bd3786"
            ],
            [
             0.5555555555555556,
             "#d8576b"
            ],
            [
             0.6666666666666666,
             "#ed7953"
            ],
            [
             0.7777777777777778,
             "#fb9f3a"
            ],
            [
             0.8888888888888888,
             "#fdca26"
            ],
            [
             1,
             "#f0f921"
            ]
           ],
           "sequentialminus": [
            [
             0,
             "#0d0887"
            ],
            [
             0.1111111111111111,
             "#46039f"
            ],
            [
             0.2222222222222222,
             "#7201a8"
            ],
            [
             0.3333333333333333,
             "#9c179e"
            ],
            [
             0.4444444444444444,
             "#bd3786"
            ],
            [
             0.5555555555555556,
             "#d8576b"
            ],
            [
             0.6666666666666666,
             "#ed7953"
            ],
            [
             0.7777777777777778,
             "#fb9f3a"
            ],
            [
             0.8888888888888888,
             "#fdca26"
            ],
            [
             1,
             "#f0f921"
            ]
           ]
          },
          "colorway": [
           "#636efa",
           "#EF553B",
           "#00cc96",
           "#ab63fa",
           "#FFA15A",
           "#19d3f3",
           "#FF6692",
           "#B6E880",
           "#FF97FF",
           "#FECB52"
          ],
          "font": {
           "color": "#2a3f5f"
          },
          "geo": {
           "bgcolor": "white",
           "lakecolor": "white",
           "landcolor": "#E5ECF6",
           "showlakes": true,
           "showland": true,
           "subunitcolor": "white"
          },
          "hoverlabel": {
           "align": "left"
          },
          "hovermode": "closest",
          "mapbox": {
           "style": "light"
          },
          "paper_bgcolor": "white",
          "plot_bgcolor": "#E5ECF6",
          "polar": {
           "angularaxis": {
            "gridcolor": "white",
            "linecolor": "white",
            "ticks": ""
           },
           "bgcolor": "#E5ECF6",
           "radialaxis": {
            "gridcolor": "white",
            "linecolor": "white",
            "ticks": ""
           }
          },
          "scene": {
           "xaxis": {
            "backgroundcolor": "#E5ECF6",
            "gridcolor": "white",
            "gridwidth": 2,
            "linecolor": "white",
            "showbackground": true,
            "ticks": "",
            "zerolinecolor": "white"
           },
           "yaxis": {
            "backgroundcolor": "#E5ECF6",
            "gridcolor": "white",
            "gridwidth": 2,
            "linecolor": "white",
            "showbackground": true,
            "ticks": "",
            "zerolinecolor": "white"
           },
           "zaxis": {
            "backgroundcolor": "#E5ECF6",
            "gridcolor": "white",
            "gridwidth": 2,
            "linecolor": "white",
            "showbackground": true,
            "ticks": "",
            "zerolinecolor": "white"
           }
          },
          "shapedefaults": {
           "line": {
            "color": "#2a3f5f"
           }
          },
          "ternary": {
           "aaxis": {
            "gridcolor": "white",
            "linecolor": "white",
            "ticks": ""
           },
           "baxis": {
            "gridcolor": "white",
            "linecolor": "white",
            "ticks": ""
           },
           "bgcolor": "#E5ECF6",
           "caxis": {
            "gridcolor": "white",
            "linecolor": "white",
            "ticks": ""
           }
          },
          "title": {
           "x": 0.05
          },
          "xaxis": {
           "automargin": true,
           "gridcolor": "white",
           "linecolor": "white",
           "ticks": "",
           "title": {
            "standoff": 15
           },
           "zerolinecolor": "white",
           "zerolinewidth": 2
          },
          "yaxis": {
           "automargin": true,
           "gridcolor": "white",
           "linecolor": "white",
           "ticks": "",
           "title": {
            "standoff": 15
           },
           "zerolinecolor": "white",
           "zerolinewidth": 2
          }
         }
        },
        "width": 1250,
        "xaxis": {
         "range": [
          0,
          68
         ],
         "showgrid": false
        },
        "yaxis": {
         "range": [
          52.5,
          110
         ],
         "showgrid": false
        }
       }
      }
     },
     "metadata": {},
     "output_type": "display_data"
    }
   ],
   "source": [
    "import plotly.graph_objects as go\n",
    "\n",
    "# Load your DataFrame here\n",
    "# df_shots_last_5_matches = pd.read_csv(\"your_data.csv\")\n",
    "\n",
    "# Example to scale and position your data points if necessary\n",
    "# This step depends on the actual size and orientation of your \"vertical_pitch.png\"\n",
    "# Let's assume START_X and START_Y are already scaled to fit the image dimensions\n",
    "\n",
    "df_shots_last_5_matches['hover_text'] = (\n",
    "    'Player: ' + df_shots_last_5_matches['PLAYER_FBREF_NAME'].astype(str) +\n",
    "    '<br>GW: ' + df_shots_last_5_matches['GAMEWEEK'].astype(str) +\n",
    "    '<br>Opponent: ' + df_shots_last_5_matches['OPPO_TEAM_NAME'] +\n",
    "    '<br>Period: ' + df_shots_last_5_matches['PERIOD_ID'].astype(str) +\n",
    "    '<br>Time: ' + (df_shots_last_5_matches['NEW_TIME_SECONDS']//60).astype(int).astype(str) +\n",
    "    '<br>XG: ' + df_shots_last_5_matches['XG'].astype(str) +\n",
    "    '<br>Body Part: ' + df_shots_last_5_matches['BODY_PART'].astype(str)\n",
    "    \n",
    ")\n",
    "\n",
    "# Create a Plotly figure\n",
    "fig = go.Figure()\n",
    "\n",
    "# Add the pitch as a background image\n",
    "fig.add_layout_image(\n",
    "    dict(\n",
    "        source=\"vertical_pitch.png\",  # Path to your pitch background image\n",
    "        xref=\"x\",\n",
    "        yref=\"y\",\n",
    "        x=-4.8,\n",
    "        y=109,\n",
    "        sizex=77.5,\n",
    "        sizey=115,\n",
    "        # sizing=\"stretch\",\n",
    "        opacity=1.0,\n",
    "        layer=\"below\")\n",
    ")\n",
    "\n",
    "# Define marker symbols in Plotly's format\n",
    "plotly_symbols = {\n",
    "    'Goal': 'circle',\n",
    "    'Saved': 'circle',\n",
    "    'Blocked': 'x',\n",
    "    'Off Target': 'x',\n",
    "    'Woodwork': 'hexagon'\n",
    "}\n",
    "\n",
    "# Add scatter plots for each outcome type\n",
    "for outcome, df_group in df_shots_last_5_matches.groupby('OUTCOME'):\n",
    "    fig.add_trace(go.Scatter(\n",
    "        x=(df_group['START_Y'] - 68)*-1,  # Assuming START_Y is the horizontal axis in your pitch image\n",
    "        y=df_group['START_X'],  # Assuming START_X is the vertical axis in your pitch image\n",
    "        mode='markers',\n",
    "        marker=dict(\n",
    "            color=outcome_colors[outcome],\n",
    "            symbol=plotly_symbols[outcome],\n",
    "            size=df_group['xG_size']*5,  # Adjust size scaling factor as needed\n",
    "            opacity=df_group['OUTCOME'].map(outcome_alpha)\n",
    "        ),\n",
    "        name=outcome,\n",
    "        text=df_group['hover_text'],  # This will be displayed on hover\n",
    "        hoverinfo='text+name'\n",
    "    ))\n",
    "\n",
    "# Set axes to match the background image\n",
    "fig.update_xaxes(showgrid=False, range=[0, 68])\n",
    "fig.update_yaxes(showgrid=False, range=[52.5, 110])\n",
    "\n",
    "# Remove the plot background color\n",
    "fig.update_layout(plot_bgcolor='rgba(0,0,0,0)'\n",
    "                  , width=1250,height=1100)\n",
    "\n",
    "fig.show()\n"
   ]
  },
  {
   "cell_type": "code",
   "execution_count": null,
   "metadata": {},
   "outputs": [],
   "source": []
  },
  {
   "cell_type": "code",
   "execution_count": null,
   "metadata": {},
   "outputs": [],
   "source": []
  },
  {
   "cell_type": "code",
   "execution_count": 282,
   "metadata": {},
   "outputs": [
    {
     "data": {
      "image/png": "[encoded data removed]",
      "text/plain": [
       "<Figure size 800x1000 with 1 Axes>"
      ]
     },
     "metadata": {},
     "output_type": "display_data"
    }
   ],
   "source": [
    "import mplcursors\n",
    "from mplsoccer import VerticalPitch\n",
    "import matplotlib.pyplot as plt\n",
    "import pandas as pd\n",
    "\n",
    "# Assuming df_shots_last_5_matches is your DataFrame\n",
    "# Your existing code for setting up the pitch and plotting\n",
    "pitch = VerticalPitch(pitch_color='#2B2B2B', line_color='white', goal_type='box', pitch_type='uefa', linewidth=1, half=True)\n",
    "fig, ax = pitch.draw(figsize=(8, 10))\n",
    "\n",
    "outcome_colors = {'Goal': 'forestgreen', 'Saved': 'red', 'Blocked': 'orange', 'Off Target': 'red', \n",
    "                  'Woodwork': 'purple'}\n",
    "outcome_markers = {'Goal': 'o', 'Saved': 'o', 'Blocked': 'X', 'Off Target': 'X',  'Woodwork': 'h'}\n",
    "outcome_alpha = {'Goal': 1., 'Saved': 0.3, 'Blocked': 0.3, 'Off Target': 0.4,  'Woodwork': 0.6}\n",
    "\n",
    "scatter_plots = []\n",
    "\n",
    "for i, row in df_shots_last_5_matches.iterrows():\n",
    "    color = outcome_colors[row['OUTCOME']]\n",
    "    marker = outcome_markers[row['OUTCOME']]\n",
    "    alpha = outcome_alpha[row['OUTCOME']]\n",
    "    # Plot and collect the scatter plot objects\n",
    "    scatter_plot = ax.scatter(row['START_Y'], row['START_X'], s=row['xG_size'], c=color, marker=marker, alpha=alpha)\n",
    "    scatter_plots.append(scatter_plot)\n",
    "\n",
    "# Use mplcursors to add hover functionality\n",
    "cursor = mplcursors.cursor(scatter_plots, hover=True)\n",
    "\n",
    "@cursor.connect(\"add\")\n",
    "def on_add(sel):\n",
    "    # Get the index of the selected point\n",
    "    index = sel.target.index\n",
    "    # Access the corresponding row in your dataframe\n",
    "    row = df_shots_last_5_matches.iloc[index]\n",
    "    # Set the annotation text to show the XG value\n",
    "    sel.annotation.set_text(f'XG: {row[\"XG\"]}')\n",
    "\n",
    "plt.show()\n"
   ]
  },
  {
   "cell_type": "code",
   "execution_count": null,
   "metadata": {},
   "outputs": [],
   "source": []
  },
  {
   "cell_type": "code",
   "execution_count": null,
   "metadata": {},
   "outputs": [],
   "source": []
  },
  {
   "cell_type": "code",
   "execution_count": 302,
   "metadata": {},
   "outputs": [
    {
     "data": {
      "image/png": "[encoded data removed]",
      "text/plain": [
       "<Figure size 800x1000 with 1 Axes>"
      ]
     },
     "metadata": {},
     "output_type": "display_data"
    }
   ],
   "source": [
    "pitch = VerticalPitch(pitch_color='#2B2B2B', line_color='white', goal_type='box', pitch_type='uefa', linewidth=1, half=True)\n",
    "fig, ax = pitch.draw(figsize=(8, 10))\n",
    "\n",
    "outcome_colors = {'Goal': 'forestgreen', 'Saved': 'red', 'Blocked': 'orange', 'Off Target': 'red', \n",
    "                  'Woodwork': 'purple'}\n",
    "outcome_markers = {'Goal': 'o', 'Saved': 'o', 'Blocked': 'X', 'Off Target': 'X',  'Woodwork': 'h'}\n",
    "outcome_alpha = {'Goal': 1., 'Saved': 0.3, 'Blocked': 0.3, 'Off Target': 0.4,  'Woodwork': 0.6}\n",
    "\n",
    "for i, row in df_shots_last_5_matches.iterrows():\n",
    "    color = outcome_colors[row['OUTCOME']]\n",
    "    marker = outcome_markers[row['OUTCOME']]\n",
    "    alpha = outcome_alpha[row['OUTCOME']]\n",
    "    ax.scatter(row['START_Y'], row['START_X'], s=row['xG_size'], c=color, marker=marker, alpha=alpha,\n",
    "               label=f'Player: {row[\"PLAYER_WS_ID\"]}, xG: {row[\"XG\"]}')\n"
   ]
  },
  {
   "cell_type": "code",
   "execution_count": null,
   "metadata": {},
   "outputs": [],
   "source": []
  },
  {
   "cell_type": "code",
   "execution_count": null,
   "metadata": {},
   "outputs": [],
   "source": []
  },
  {
   "cell_type": "code",
   "execution_count": null,
   "metadata": {},
   "outputs": [],
   "source": []
  },
  {
   "cell_type": "code",
   "execution_count": 139,
   "metadata": {},
   "outputs": [
    {
     "data": {
      "text/plain": [
       "BODY_PART\n",
       "Right Foot    62374\n",
       "Left Foot     40572\n",
       "Head          22293\n",
       "Other           537\n",
       "Name: count, dtype: int64"
      ]
     },
     "execution_count": 139,
     "metadata": {},
     "output_type": "execute_result"
    }
   ],
   "source": [
    "df_shots['BODY_PART'].value_counts()"
   ]
  },
  {
   "cell_type": "code",
   "execution_count": 140,
   "metadata": {},
   "outputs": [
    {
     "data": {
      "text/plain": [
       "NOTES\n",
       "Volley                  15393\n",
       "Free kick                4146\n",
       "Deflected                2878\n",
       "Deflected, Volley         270\n",
       "Free kick, Deflected       86\n",
       "nan                         6\n",
       "Free kick, Volley           1\n",
       "Name: count, dtype: int64"
      ]
     },
     "execution_count": 140,
     "metadata": {},
     "output_type": "execute_result"
    }
   ],
   "source": [
    "df_shots['NOTES'].value_counts()"
   ]
  },
  {
   "cell_type": "code",
   "execution_count": 141,
   "metadata": {},
   "outputs": [
    {
     "data": {
      "text/plain": [
       "OUTCOME\n",
       "Off Target          46789\n",
       "Blocked             33689\n",
       "Saved               29258\n",
       "Goal                13510\n",
       "Woodwork             2402\n",
       "Saved off Target      128\n",
       "Name: count, dtype: int64"
      ]
     },
     "execution_count": 141,
     "metadata": {},
     "output_type": "execute_result"
    }
   ],
   "source": [
    "df_shots['OUTCOME'].value_counts()"
   ]
  },
  {
   "cell_type": "code",
   "execution_count": null,
   "metadata": {},
   "outputs": [],
   "source": []
  },
  {
   "cell_type": "code",
   "execution_count": 142,
   "metadata": {},
   "outputs": [],
   "source": [
    "shots_xg_conceded_from_set_pieces_grouped = df_shots_set_piece[['OPPO_TEAM_NAME','COMPETITION','SEASON', \n",
    "                                                                'XG']].groupby(['OPPO_TEAM_NAME','COMPETITION','SEASON']).sum()"
   ]
  },
  {
   "cell_type": "code",
   "execution_count": 143,
   "metadata": {},
   "outputs": [],
   "source": [
    "shots_xg_from_set_pieces_grouped = df_shots_set_piece[['TEAM_NAME','COMPETITION','SEASON', \n",
    "                                                    'XG']].groupby(['TEAM_NAME','COMPETITION','SEASON']).sum()"
   ]
  },
  {
   "cell_type": "code",
   "execution_count": 144,
   "metadata": {},
   "outputs": [],
   "source": [
    "shots_xg_conceded_from_set_pieces_grouped = team_name_matches_played.merge(shots_xg_conceded_from_set_pieces_grouped.reset_index().rename(\n",
    "    {'OPPO_TEAM_NAME':'TEAM_NAME'}, axis=1),on=['TEAM_NAME','COMPETITION','SEASON'])"
   ]
  },
  {
   "cell_type": "code",
   "execution_count": 145,
   "metadata": {},
   "outputs": [],
   "source": [
    "shots_xg_from_set_pieces_grouped = team_name_matches_played.merge(shots_xg_from_set_pieces_grouped.reset_index(),\n",
    "                                                                  on=['TEAM_NAME','COMPETITION','SEASON'])"
   ]
  },
  {
   "cell_type": "code",
   "execution_count": 146,
   "metadata": {},
   "outputs": [],
   "source": [
    "shots_xg_conceded_from_set_pieces_grouped['OPPOSITION XG FROM SET PIECE CROSSES PER GAME'] = shots_xg_conceded_from_set_pieces_grouped['XG'] / \\\n",
    "                                                                        shots_xg_conceded_from_set_pieces_grouped['MATCHES_PLAYED']"
   ]
  },
  {
   "cell_type": "code",
   "execution_count": 147,
   "metadata": {},
   "outputs": [],
   "source": [
    "shots_xg_from_set_pieces_grouped['XG FROM SET PIECE CROSSES PER GAME'] = shots_xg_from_set_pieces_grouped['XG'] / \\\n",
    "                                                                        shots_xg_from_set_pieces_grouped['MATCHES_PLAYED']"
   ]
  },
  {
   "cell_type": "code",
   "execution_count": 148,
   "metadata": {},
   "outputs": [],
   "source": [
    "# shots_xg_from_set_pieces_grouped\n",
    "# shots_xg_conceded_from_set_pieces_grouped"
   ]
  },
  {
   "cell_type": "code",
   "execution_count": 149,
   "metadata": {},
   "outputs": [],
   "source": [
    "df_goals_set_piece = df_shots_set_piece[df_shots_set_piece['OUTCOME'] == 'Goal']"
   ]
  },
  {
   "cell_type": "code",
   "execution_count": 150,
   "metadata": {},
   "outputs": [],
   "source": [
    "df_goals_set_piece_chart = df_goals_set_piece.groupby(['TEAM_NAME','COMPETITION','SEASON']).count()['MATCH_ID']"
   ]
  },
  {
   "cell_type": "code",
   "execution_count": 151,
   "metadata": {},
   "outputs": [],
   "source": [
    "df_goals_set_piece_chart = df_goals_set_piece_chart.reset_index()\n",
    "df_goals_set_piece_chart = df_goals_set_piece_chart.rename({'MATCH_ID':'SET PIECE GOALS SCORED'}, axis= 1)"
   ]
  },
  {
   "cell_type": "code",
   "execution_count": 152,
   "metadata": {},
   "outputs": [],
   "source": [
    "df_goals_set_piece_conc = df_goals_set_piece.groupby(['OPPO_TEAM_NAME','COMPETITION','SEASON']).count()['MATCH_ID']\n",
    "df_goals_set_piece_conc = df_goals_set_piece_conc.reset_index()\n",
    "df_goals_set_piece_conc = df_goals_set_piece_conc.rename({'MATCH_ID':'SET PIECE GOALS CONCEDED',\n",
    "                                                            'OPPO_TEAM_NAME':'TEAM_NAME'}, axis= 1)"
   ]
  },
  {
   "cell_type": "code",
   "execution_count": 153,
   "metadata": {},
   "outputs": [],
   "source": [
    "df_goals_set_piece_chart = df_goals_set_piece_chart.merge(df_goals_set_piece_conc, on=['TEAM_NAME', 'COMPETITION', 'SEASON'], how='outer')"
   ]
  },
  {
   "cell_type": "code",
   "execution_count": 154,
   "metadata": {},
   "outputs": [],
   "source": [
    "df_goals_set_piece_chart = df_goals_set_piece_chart.fillna(0)"
   ]
  },
  {
   "cell_type": "code",
   "execution_count": 155,
   "metadata": {},
   "outputs": [],
   "source": [
    "df_goals_set_piece_chart = df_goals_set_piece_chart.merge(team_names[['TEAM_NAME', 'TEAM_LOGO_URL']], on='TEAM_NAME')\n",
    "df_goals_set_piece_chart = df_goals_set_piece_chart.merge(df_competitions, on=['COMPETITION', 'SEASON'])"
   ]
  },
  {
   "cell_type": "code",
   "execution_count": 156,
   "metadata": {},
   "outputs": [],
   "source": [
    "create_table_query = \"\"\"\n",
    "CREATE TABLE IF NOT EXISTS GOALS_FROM_SET_PIECES (\n",
    "    SEASON INT,\n",
    "    COMPETITION_ACRONYM VARCHAR(255),\n",
    "    TEAM_NAME VARCHAR(255),\n",
    "    TEAM_LOGO_URL VARCHAR(255),\n",
    "    SET_PIECE_GOALS_SCORED FLOAT,\n",
    "    SET_PIECE_GOALS_CONCEDED FLOAT,\n",
    "    PRIMARY KEY (SEASON, COMPETITION_ACRONYM, TEAM_NAME)\n",
    ");\n",
    "\"\"\""
   ]
  },
  {
   "cell_type": "code",
   "execution_count": 157,
   "metadata": {},
   "outputs": [
    {
     "data": {
      "text/plain": [
       "<snowflake.connector.cursor.SnowflakeCursor at 0x21bcbde6090>"
      ]
     },
     "execution_count": 157,
     "metadata": {},
     "output_type": "execute_result"
    }
   ],
   "source": [
    "cur.execute(create_table_query)"
   ]
  },
  {
   "cell_type": "code",
   "execution_count": 158,
   "metadata": {},
   "outputs": [],
   "source": [
    "df_goals_set_piece_chart.columns = df_goals_set_piece_chart.columns.str.replace(\" \", \"_\")"
   ]
  },
  {
   "cell_type": "code",
   "execution_count": 159,
   "metadata": {},
   "outputs": [],
   "source": [
    "df_goals_set_piece_chart = df_goals_set_piece_chart.drop('COMPETITION', axis=1)"
   ]
  },
  {
   "cell_type": "code",
   "execution_count": 160,
   "metadata": {},
   "outputs": [
    {
     "name": "stdout",
     "output_type": "stream",
     "text": [
      "Upsert completed. 292 rows processed.\n"
     ]
    }
   ],
   "source": [
    "upsert_to_snowflake(\"GOALS_FROM_SET_PIECES\", df_goals_set_piece_chart, ['SEASON', 'COMPETITION_ACRONYM', 'TEAM_NAME'])"
   ]
  },
  {
   "cell_type": "code",
   "execution_count": 161,
   "metadata": {},
   "outputs": [],
   "source": [
    "df_goals_set_piece_chart = fetch_data(cursor, 'SELECT * FROM GEGENSTATS.RADAR_CHARTS.GOALS_FROM_SET_PIECES')"
   ]
  },
  {
   "cell_type": "code",
   "execution_count": 162,
   "metadata": {},
   "outputs": [],
   "source": [
    "df_goals_set_piece_chart.rename(columns={'SET_PIECE_GOALS_SCORED':'SET PIECE GOALS SCORED',\n",
    "                                'SET_PIECE_GOALS_CONCEDED':'SET PIECE GOALS CONCEDED'}, inplace=True)"
   ]
  },
  {
   "cell_type": "code",
   "execution_count": 163,
   "metadata": {},
   "outputs": [],
   "source": [
    "filt_df_goals_set_piece_chart = df_goals_set_piece_chart[df_goals_set_piece_chart['SEASON'] == season_selected]\n",
    "filt_df_goals_set_piece_chart = filt_df_goals_set_piece_chart[filt_df_goals_set_piece_chart['COMPETITION_ACRONYM'] == league_selected]"
   ]
  },
  {
   "cell_type": "code",
   "execution_count": 164,
   "metadata": {},
   "outputs": [
    {
     "data": {
      "application/vnd.plotly.v1+json": {
       "config": {
        "plotlyServerURL": "https://plotly.com"
       },
       "data": [
        {
         "hoverinfo": "text",
         "marker": {
          "opacity": 0
         },
         "mode": "markers",
         "text": "Arsenal",
         "type": "scatter",
         "x": [
          4
         ],
         "y": [
          15
         ]
        },
        {
         "hoverinfo": "text",
         "marker": {
          "opacity": 0
         },
         "mode": "markers",
         "text": "Aston Villa",
         "type": "scatter",
         "x": [
          8
         ],
         "y": [
          7
         ]
        },
        {
         "hoverinfo": "text",
         "marker": {
          "opacity": 0
         },
         "mode": "markers",
         "text": "Bournemouth",
         "type": "scatter",
         "x": [
          3
         ],
         "y": [
          3
         ]
        },
        {
         "hoverinfo": "text",
         "marker": {
          "opacity": 0
         },
         "mode": "markers",
         "text": "Brentford",
         "type": "scatter",
         "x": [
          5
         ],
         "y": [
          5
         ]
        },
        {
         "hoverinfo": "text",
         "marker": {
          "opacity": 0
         },
         "mode": "markers",
         "text": "Brighton",
         "type": "scatter",
         "x": [
          3
         ],
         "y": [
          5
         ]
        },
        {
         "hoverinfo": "text",
         "marker": {
          "opacity": 0
         },
         "mode": "markers",
         "text": "Burnley",
         "type": "scatter",
         "x": [
          6
         ],
         "y": [
          3
         ]
        },
        {
         "hoverinfo": "text",
         "marker": {
          "opacity": 0
         },
         "mode": "markers",
         "text": "Chelsea",
         "type": "scatter",
         "x": [
          5
         ],
         "y": [
          4
         ]
        },
        {
         "hoverinfo": "text",
         "marker": {
          "opacity": 0
         },
         "mode": "markers",
         "text": "Crystal Palace",
         "type": "scatter",
         "x": [
          7
         ],
         "y": [
          2
         ]
        },
        {
         "hoverinfo": "text",
         "marker": {
          "opacity": 0
         },
         "mode": "markers",
         "text": "Everton",
         "type": "scatter",
         "x": [
          3
         ],
         "y": [
          4
         ]
        },
        {
         "hoverinfo": "text",
         "marker": {
          "opacity": 0
         },
         "mode": "markers",
         "text": "Fulham",
         "type": "scatter",
         "x": [
          2
         ],
         "y": [
          3
         ]
        },
        {
         "hoverinfo": "text",
         "marker": {
          "opacity": 0
         },
         "mode": "markers",
         "text": "Liverpool",
         "type": "scatter",
         "x": [
          5
         ],
         "y": [
          6
         ]
        },
        {
         "hoverinfo": "text",
         "marker": {
          "opacity": 0
         },
         "mode": "markers",
         "text": "Luton Town",
         "type": "scatter",
         "x": [
          8
         ],
         "y": [
          7
         ]
        },
        {
         "hoverinfo": "text",
         "marker": {
          "opacity": 0
         },
         "mode": "markers",
         "text": "Manchester City",
         "type": "scatter",
         "x": [
          2
         ],
         "y": [
          4
         ]
        },
        {
         "hoverinfo": "text",
         "marker": {
          "opacity": 0
         },
         "mode": "markers",
         "text": "Manchester Utd",
         "type": "scatter",
         "x": [
          5
         ],
         "y": [
          4
         ]
        },
        {
         "hoverinfo": "text",
         "marker": {
          "opacity": 0
         },
         "mode": "markers",
         "text": "Newcastle Utd",
         "type": "scatter",
         "x": [
          3
         ],
         "y": [
          5
         ]
        },
        {
         "hoverinfo": "text",
         "marker": {
          "opacity": 0
         },
         "mode": "markers",
         "text": "Nott'ham Forest",
         "type": "scatter",
         "x": [
          8
         ],
         "y": [
          2
         ]
        },
        {
         "hoverinfo": "text",
         "marker": {
          "opacity": 0
         },
         "mode": "markers",
         "text": "Sheffield Utd",
         "type": "scatter",
         "x": [
          8
         ],
         "y": [
          1
         ]
        },
        {
         "hoverinfo": "text",
         "marker": {
          "opacity": 0
         },
         "mode": "markers",
         "text": "Tottenham",
         "type": "scatter",
         "x": [
          6
         ],
         "y": [
          7
         ]
        },
        {
         "hoverinfo": "text",
         "marker": {
          "opacity": 0
         },
         "mode": "markers",
         "text": "West Ham",
         "type": "scatter",
         "x": [
          5
         ],
         "y": [
          7
         ]
        },
        {
         "hoverinfo": "text",
         "marker": {
          "opacity": 0
         },
         "mode": "markers",
         "text": "Wolves",
         "type": "scatter",
         "x": [
          4
         ],
         "y": [
          6
         ]
        }
       ],
       "layout": {
        "annotations": [
         {
          "align": "left",
          "font": {
           "color": "orange",
           "family": "Roboto, sans-serif",
           "size": 15
          },
          "showarrow": false,
          "text": "Low no. of set piece goals<br>Low no. of set piece goals conceded",
          "x": 0,
          "xref": "paper",
          "y": 0,
          "yref": "paper"
         },
         {
          "align": "left",
          "font": {
           "color": "green",
           "family": "Roboto, sans-serif",
           "size": 15
          },
          "showarrow": false,
          "text": "High no. of set piece goals<br>Low no. of set piece goals conceded",
          "x": 0,
          "xref": "paper",
          "y": 1,
          "yref": "paper"
         },
         {
          "align": "right",
          "font": {
           "color": "orange",
           "family": "Roboto, sans-serif",
           "size": 15
          },
          "showarrow": false,
          "text": "High no. of set piece goals<br>High no. of set piece goals conceded",
          "x": 1,
          "xref": "paper",
          "y": 1,
          "yref": "paper"
         },
         {
          "align": "right",
          "font": {
           "color": "red",
           "family": "Roboto, sans-serif",
           "size": 15
          },
          "showarrow": false,
          "text": "Low no. of set piece goals<br>High no. of set piece goals conceded",
          "x": 1,
          "xref": "paper",
          "y": 0,
          "yref": "paper"
         }
        ],
        "font": {
         "color": "white",
         "family": "Roboto, sans-serif",
         "size": 25
        },
        "height": 625,
        "hoverlabel": {
         "bgcolor": "rgba(20, 20, 20, 0.8)",
         "font": {
          "family": "Roboto, sans-serif"
         }
        },
        "images": [
         {
          "layer": "above",
          "opacity": 0.35,
          "sizex": 0.9,
          "sizey": 0.9,
          "sizing": "contain",
          "source": "https://i.imgur.com/SURo5sj.png",
          "x": 4,
          "xanchor": "center",
          "xref": "x",
          "y": 15,
          "yanchor": "middle",
          "yref": "y"
         },
         {
          "layer": "above",
          "opacity": 0.35,
          "sizex": 0.9,
          "sizey": 0.9,
          "sizing": "contain",
          "source": "https://i.imgur.com/M4mwH1X.png",
          "x": 8,
          "xanchor": "center",
          "xref": "x",
          "y": 7,
          "yanchor": "middle",
          "yref": "y"
         },
         {
          "layer": "above",
          "opacity": 0.35,
          "sizex": 0.9,
          "sizey": 0.9,
          "sizing": "contain",
          "source": "https://i.imgur.com/0F6UIO4.png",
          "x": 3,
          "xanchor": "center",
          "xref": "x",
          "y": 3,
          "yanchor": "middle",
          "yref": "y"
         },
         {
          "layer": "above",
          "opacity": 0.35,
          "sizex": 0.9,
          "sizey": 0.9,
          "sizing": "contain",
          "source": "https://i.imgur.com/MOhGOQ4.png",
          "x": 5,
          "xanchor": "center",
          "xref": "x",
          "y": 5,
          "yanchor": "middle",
          "yref": "y"
         },
         {
          "layer": "above",
          "opacity": 0.35,
          "sizex": 0.9,
          "sizey": 0.9,
          "sizing": "contain",
          "source": "https://i.imgur.com/EMCwD3X.png",
          "x": 3,
          "xanchor": "center",
          "xref": "x",
          "y": 5,
          "yanchor": "middle",
          "yref": "y"
         },
         {
          "layer": "above",
          "opacity": 0.35,
          "sizex": 0.9,
          "sizey": 0.9,
          "sizing": "contain",
          "source": "https://i.imgur.com/6IDi9XJ.png",
          "x": 6,
          "xanchor": "center",
          "xref": "x",
          "y": 3,
          "yanchor": "middle",
          "yref": "y"
         },
         {
          "layer": "above",
          "opacity": 0.35,
          "sizex": 0.9,
          "sizey": 0.9,
          "sizing": "contain",
          "source": "https://i.imgur.com/6F7h3UR.png",
          "x": 5,
          "xanchor": "center",
          "xref": "x",
          "y": 4,
          "yanchor": "middle",
          "yref": "y"
         },
         {
          "layer": "above",
          "opacity": 0.35,
          "sizex": 0.9,
          "sizey": 0.9,
          "sizing": "contain",
          "source": "https://i.imgur.com/LPhzr0K.png",
          "x": 7,
          "xanchor": "center",
          "xref": "x",
          "y": 2,
          "yanchor": "middle",
          "yref": "y"
         },
         {
          "layer": "above",
          "opacity": 0.35,
          "sizex": 0.9,
          "sizey": 0.9,
          "sizing": "contain",
          "source": "https://i.imgur.com/Dgei0uj.png",
          "x": 3,
          "xanchor": "center",
          "xref": "x",
          "y": 4,
          "yanchor": "middle",
          "yref": "y"
         },
         {
          "layer": "above",
          "opacity": 0.35,
          "sizex": 0.9,
          "sizey": 0.9,
          "sizing": "contain",
          "source": "https://i.imgur.com/2zggSrF.png",
          "x": 2,
          "xanchor": "center",
          "xref": "x",
          "y": 3,
          "yanchor": "middle",
          "yref": "y"
         },
         {
          "layer": "above",
          "opacity": 0.35,
          "sizex": 0.9,
          "sizey": 0.9,
          "sizing": "contain",
          "source": "https://i.imgur.com/fs7VK9G.png",
          "x": 5,
          "xanchor": "center",
          "xref": "x",
          "y": 6,
          "yanchor": "middle",
          "yref": "y"
         },
         {
          "layer": "above",
          "opacity": 0.35,
          "sizex": 0.9,
          "sizey": 0.9,
          "sizing": "contain",
          "source": "https://i.imgur.com/vHHqKJX.png",
          "x": 8,
          "xanchor": "center",
          "xref": "x",
          "y": 7,
          "yanchor": "middle",
          "yref": "y"
         },
         {
          "layer": "above",
          "opacity": 0.35,
          "sizex": 0.9,
          "sizey": 0.9,
          "sizing": "contain",
          "source": "https://i.imgur.com/FF8z7uZ.png",
          "x": 2,
          "xanchor": "center",
          "xref": "x",
          "y": 4,
          "yanchor": "middle",
          "yref": "y"
         },
         {
          "layer": "above",
          "opacity": 0.35,
          "sizex": 0.9,
          "sizey": 0.9,
          "sizing": "contain",
          "source": "https://i.imgur.com/z47emBQ.png",
          "x": 5,
          "xanchor": "center",
          "xref": "x",
          "y": 4,
          "yanchor": "middle",
          "yref": "y"
         },
         {
          "layer": "above",
          "opacity": 0.35,
          "sizex": 0.9,
          "sizey": 0.9,
          "sizing": "contain",
          "source": "https://i.imgur.com/3kOLokZ.png",
          "x": 3,
          "xanchor": "center",
          "xref": "x",
          "y": 5,
          "yanchor": "middle",
          "yref": "y"
         },
         {
          "layer": "above",
          "opacity": 0.35,
          "sizex": 0.9,
          "sizey": 0.9,
          "sizing": "contain",
          "source": "https://i.imgur.com/z4Tl9Zu.png",
          "x": 8,
          "xanchor": "center",
          "xref": "x",
          "y": 2,
          "yanchor": "middle",
          "yref": "y"
         },
         {
          "layer": "above",
          "opacity": 0.35,
          "sizex": 0.9,
          "sizey": 0.9,
          "sizing": "contain",
          "source": "https://i.imgur.com/eeBetFN.png",
          "x": 8,
          "xanchor": "center",
          "xref": "x",
          "y": 1,
          "yanchor": "middle",
          "yref": "y"
         },
         {
          "layer": "above",
          "opacity": 0.35,
          "sizex": 0.9,
          "sizey": 0.9,
          "sizing": "contain",
          "source": "https://i.imgur.com/fJ7rUWW.png",
          "x": 6,
          "xanchor": "center",
          "xref": "x",
          "y": 7,
          "yanchor": "middle",
          "yref": "y"
         },
         {
          "layer": "above",
          "opacity": 0.35,
          "sizex": 0.9,
          "sizey": 0.9,
          "sizing": "contain",
          "source": "https://i.imgur.com/9BQHJRl.png",
          "x": 5,
          "xanchor": "center",
          "xref": "x",
          "y": 7,
          "yanchor": "middle",
          "yref": "y"
         },
         {
          "layer": "above",
          "opacity": 0.35,
          "sizex": 0.9,
          "sizey": 0.9,
          "sizing": "contain",
          "source": "https://i.imgur.com/6azSF88.png",
          "x": 4,
          "xanchor": "center",
          "xref": "x",
          "y": 6,
          "yanchor": "middle",
          "yref": "y"
         }
        ],
        "margin": {
         "b": 10,
         "l": 10,
         "r": 30,
         "t": 50
        },
        "paper_bgcolor": "rgb(70, 70, 70)",
        "plot_bgcolor": "rgb(70, 70, 70)",
        "shapes": [
         {
          "layer": "below",
          "line": {
           "color": "White",
           "width": 3
          },
          "type": "line",
          "x0": 5,
          "x1": 5,
          "y0": 0,
          "y1": 17
         },
         {
          "layer": "below",
          "line": {
           "color": "White",
           "width": 3
          },
          "type": "line",
          "x0": 0,
          "x1": 16,
          "y0": 5,
          "y1": 5
         }
        ],
        "showlegend": false,
        "template": {
         "data": {
          "bar": [
           {
            "error_x": {
             "color": "#2a3f5f"
            },
            "error_y": {
             "color": "#2a3f5f"
            },
            "marker": {
             "line": {
              "color": "#E5ECF6",
              "width": 0.5
             },
             "pattern": {
              "fillmode": "overlay",
              "size": 10,
              "solidity": 0.2
             }
            },
            "type": "bar"
           }
          ],
          "barpolar": [
           {
            "marker": {
             "line": {
              "color": "#E5ECF6",
              "width": 0.5
             },
             "pattern": {
              "fillmode": "overlay",
              "size": 10,
              "solidity": 0.2
             }
            },
            "type": "barpolar"
           }
          ],
          "carpet": [
           {
            "aaxis": {
             "endlinecolor": "#2a3f5f",
             "gridcolor": "white",
             "linecolor": "white",
             "minorgridcolor": "white",
             "startlinecolor": "#2a3f5f"
            },
            "baxis": {
             "endlinecolor": "#2a3f5f",
             "gridcolor": "white",
             "linecolor": "white",
             "minorgridcolor": "white",
             "startlinecolor": "#2a3f5f"
            },
            "type": "carpet"
           }
          ],
          "choropleth": [
           {
            "colorbar": {
             "outlinewidth": 0,
             "ticks": ""
            },
            "type": "choropleth"
           }
          ],
          "contour": [
           {
            "colorbar": {
             "outlinewidth": 0,
             "ticks": ""
            },
            "colorscale": [
             [
              0,
              "#0d0887"
             ],
             [
              0.1111111111111111,
              "#46039f"
             ],
             [
              0.2222222222222222,
              "#7201a8"
             ],
             [
              0.3333333333333333,
              "#9c179e"
             ],
             [
              0.4444444444444444,
              "#bd3786"
             ],
             [
              0.5555555555555556,
              "#d8576b"
             ],
             [
              0.6666666666666666,
              "#ed7953"
             ],
             [
              0.7777777777777778,
              "#fb9f3a"
             ],
             [
              0.8888888888888888,
              "#fdca26"
             ],
             [
              1,
              "#f0f921"
             ]
            ],
            "type": "contour"
           }
          ],
          "contourcarpet": [
           {
            "colorbar": {
             "outlinewidth": 0,
             "ticks": ""
            },
            "type": "contourcarpet"
           }
          ],
          "heatmap": [
           {
            "colorbar": {
             "outlinewidth": 0,
             "ticks": ""
            },
            "colorscale": [
             [
              0,
              "#0d0887"
             ],
             [
              0.1111111111111111,
              "#46039f"
             ],
             [
              0.2222222222222222,
              "#7201a8"
             ],
             [
              0.3333333333333333,
              "#9c179e"
             ],
             [
              0.4444444444444444,
              "#bd3786"
             ],
             [
              0.5555555555555556,
              "#d8576b"
             ],
             [
              0.6666666666666666,
              "#ed7953"
             ],
             [
              0.7777777777777778,
              "#fb9f3a"
             ],
             [
              0.8888888888888888,
              "#fdca26"
             ],
             [
              1,
              "#f0f921"
             ]
            ],
            "type": "heatmap"
           }
          ],
          "heatmapgl": [
           {
            "colorbar": {
             "outlinewidth": 0,
             "ticks": ""
            },
            "colorscale": [
             [
              0,
              "#0d0887"
             ],
             [
              0.1111111111111111,
              "#46039f"
             ],
             [
              0.2222222222222222,
              "#7201a8"
             ],
             [
              0.3333333333333333,
              "#9c179e"
             ],
             [
              0.4444444444444444,
              "#bd3786"
             ],
             [
              0.5555555555555556,
              "#d8576b"
             ],
             [
              0.6666666666666666,
              "#ed7953"
             ],
             [
              0.7777777777777778,
              "#fb9f3a"
             ],
             [
              0.8888888888888888,
              "#fdca26"
             ],
             [
              1,
              "#f0f921"
             ]
            ],
            "type": "heatmapgl"
           }
          ],
          "histogram": [
           {
            "marker": {
             "pattern": {
              "fillmode": "overlay",
              "size": 10,
              "solidity": 0.2
             }
            },
            "type": "histogram"
           }
          ],
          "histogram2d": [
           {
            "colorbar": {
             "outlinewidth": 0,
             "ticks": ""
            },
            "colorscale": [
             [
              0,
              "#0d0887"
             ],
             [
              0.1111111111111111,
              "#46039f"
             ],
             [
              0.2222222222222222,
              "#7201a8"
             ],
             [
              0.3333333333333333,
              "#9c179e"
             ],
             [
              0.4444444444444444,
              "#bd3786"
             ],
             [
              0.5555555555555556,
              "#d8576b"
             ],
             [
              0.6666666666666666,
              "#ed7953"
             ],
             [
              0.7777777777777778,
              "#fb9f3a"
             ],
             [
              0.8888888888888888,
              "#fdca26"
             ],
             [
              1,
              "#f0f921"
             ]
            ],
            "type": "histogram2d"
           }
          ],
          "histogram2dcontour": [
           {
            "colorbar": {
             "outlinewidth": 0,
             "ticks": ""
            },
            "colorscale": [
             [
              0,
              "#0d0887"
             ],
             [
              0.1111111111111111,
              "#46039f"
             ],
             [
              0.2222222222222222,
              "#7201a8"
             ],
             [
              0.3333333333333333,
              "#9c179e"
             ],
             [
              0.4444444444444444,
              "#bd3786"
             ],
             [
              0.5555555555555556,
              "#d8576b"
             ],
             [
              0.6666666666666666,
              "#ed7953"
             ],
             [
              0.7777777777777778,
              "#fb9f3a"
             ],
             [
              0.8888888888888888,
              "#fdca26"
             ],
             [
              1,
              "#f0f921"
             ]
            ],
            "type": "histogram2dcontour"
           }
          ],
          "mesh3d": [
           {
            "colorbar": {
             "outlinewidth": 0,
             "ticks": ""
            },
            "type": "mesh3d"
           }
          ],
          "parcoords": [
           {
            "line": {
             "colorbar": {
              "outlinewidth": 0,
              "ticks": ""
             }
            },
            "type": "parcoords"
           }
          ],
          "pie": [
           {
            "automargin": true,
            "type": "pie"
           }
          ],
          "scatter": [
           {
            "fillpattern": {
             "fillmode": "overlay",
             "size": 10,
             "solidity": 0.2
            },
            "type": "scatter"
           }
          ],
          "scatter3d": [
           {
            "line": {
             "colorbar": {
              "outlinewidth": 0,
              "ticks": ""
             }
            },
            "marker": {
             "colorbar": {
              "outlinewidth": 0,
              "ticks": ""
             }
            },
            "type": "scatter3d"
           }
          ],
          "scattercarpet": [
           {
            "marker": {
             "colorbar": {
              "outlinewidth": 0,
              "ticks": ""
             }
            },
            "type": "scattercarpet"
           }
          ],
          "scattergeo": [
           {
            "marker": {
             "colorbar": {
              "outlinewidth": 0,
              "ticks": ""
             }
            },
            "type": "scattergeo"
           }
          ],
          "scattergl": [
           {
            "marker": {
             "colorbar": {
              "outlinewidth": 0,
              "ticks": ""
             }
            },
            "type": "scattergl"
           }
          ],
          "scattermapbox": [
           {
            "marker": {
             "colorbar": {
              "outlinewidth": 0,
              "ticks": ""
             }
            },
            "type": "scattermapbox"
           }
          ],
          "scatterpolar": [
           {
            "marker": {
             "colorbar": {
              "outlinewidth": 0,
              "ticks": ""
             }
            },
            "type": "scatterpolar"
           }
          ],
          "scatterpolargl": [
           {
            "marker": {
             "colorbar": {
              "outlinewidth": 0,
              "ticks": ""
             }
            },
            "type": "scatterpolargl"
           }
          ],
          "scatterternary": [
           {
            "marker": {
             "colorbar": {
              "outlinewidth": 0,
              "ticks": ""
             }
            },
            "type": "scatterternary"
           }
          ],
          "surface": [
           {
            "colorbar": {
             "outlinewidth": 0,
             "ticks": ""
            },
            "colorscale": [
             [
              0,
              "#0d0887"
             ],
             [
              0.1111111111111111,
              "#46039f"
             ],
             [
              0.2222222222222222,
              "#7201a8"
             ],
             [
              0.3333333333333333,
              "#9c179e"
             ],
             [
              0.4444444444444444,
              "#bd3786"
             ],
             [
              0.5555555555555556,
              "#d8576b"
             ],
             [
              0.6666666666666666,
              "#ed7953"
             ],
             [
              0.7777777777777778,
              "#fb9f3a"
             ],
             [
              0.8888888888888888,
              "#fdca26"
             ],
             [
              1,
              "#f0f921"
             ]
            ],
            "type": "surface"
           }
          ],
          "table": [
           {
            "cells": {
             "fill": {
              "color": "#EBF0F8"
             },
             "line": {
              "color": "white"
             }
            },
            "header": {
             "fill": {
              "color": "#C8D4E3"
             },
             "line": {
              "color": "white"
             }
            },
            "type": "table"
           }
          ]
         },
         "layout": {
          "annotationdefaults": {
           "arrowcolor": "#2a3f5f",
           "arrowhead": 0,
           "arrowwidth": 1
          },
          "autotypenumbers": "strict",
          "coloraxis": {
           "colorbar": {
            "outlinewidth": 0,
            "ticks": ""
           }
          },
          "colorscale": {
           "diverging": [
            [
             0,
             "#8e0152"
            ],
            [
             0.1,
             "#c51b7d"
            ],
            [
             0.2,
             "#de77ae"
            ],
            [
             0.3,
             "#f1b6da"
            ],
            [
             0.4,
             "#fde0ef"
            ],
            [
             0.5,
             "#f7f7f7"
            ],
            [
             0.6,
             "#e6f5d0"
            ],
            [
             0.7,
             "#b8e186"
            ],
            [
             0.8,
             "#7fbc41"
            ],
            [
             0.9,
             "#4d9221"
            ],
            [
             1,
             "#276419"
            ]
           ],
           "sequential": [
            [
             0,
             "#0d0887"
            ],
            [
             0.1111111111111111,
             "#46039f"
            ],
            [
             0.2222222222222222,
             "#7201a8"
            ],
            [
             0.3333333333333333,
             "#9c179e"
            ],
            [
             0.4444444444444444,
             "#bd3786"
            ],
            [
             0.5555555555555556,
             "#d8576b"
            ],
            [
             0.6666666666666666,
             "#ed7953"
            ],
            [
             0.7777777777777778,
             "#fb9f3a"
            ],
            [
             0.8888888888888888,
             "#fdca26"
            ],
            [
             1,
             "#f0f921"
            ]
           ],
           "sequentialminus": [
            [
             0,
             "#0d0887"
            ],
            [
             0.1111111111111111,
             "#46039f"
            ],
            [
             0.2222222222222222,
             "#7201a8"
            ],
            [
             0.3333333333333333,
             "#9c179e"
            ],
            [
             0.4444444444444444,
             "#bd3786"
            ],
            [
             0.5555555555555556,
             "#d8576b"
            ],
            [
             0.6666666666666666,
             "#ed7953"
            ],
            [
             0.7777777777777778,
             "#fb9f3a"
            ],
            [
             0.8888888888888888,
             "#fdca26"
            ],
            [
             1,
             "#f0f921"
            ]
           ]
          },
          "colorway": [
           "#636efa",
           "#EF553B",
           "#00cc96",
           "#ab63fa",
           "#FFA15A",
           "#19d3f3",
           "#FF6692",
           "#B6E880",
           "#FF97FF",
           "#FECB52"
          ],
          "font": {
           "color": "#2a3f5f"
          },
          "geo": {
           "bgcolor": "white",
           "lakecolor": "white",
           "landcolor": "#E5ECF6",
           "showlakes": true,
           "showland": true,
           "subunitcolor": "white"
          },
          "hoverlabel": {
           "align": "left"
          },
          "hovermode": "closest",
          "mapbox": {
           "style": "light"
          },
          "paper_bgcolor": "white",
          "plot_bgcolor": "#E5ECF6",
          "polar": {
           "angularaxis": {
            "gridcolor": "white",
            "linecolor": "white",
            "ticks": ""
           },
           "bgcolor": "#E5ECF6",
           "radialaxis": {
            "gridcolor": "white",
            "linecolor": "white",
            "ticks": ""
           }
          },
          "scene": {
           "xaxis": {
            "backgroundcolor": "#E5ECF6",
            "gridcolor": "white",
            "gridwidth": 2,
            "linecolor": "white",
            "showbackground": true,
            "ticks": "",
            "zerolinecolor": "white"
           },
           "yaxis": {
            "backgroundcolor": "#E5ECF6",
            "gridcolor": "white",
            "gridwidth": 2,
            "linecolor": "white",
            "showbackground": true,
            "ticks": "",
            "zerolinecolor": "white"
           },
           "zaxis": {
            "backgroundcolor": "#E5ECF6",
            "gridcolor": "white",
            "gridwidth": 2,
            "linecolor": "white",
            "showbackground": true,
            "ticks": "",
            "zerolinecolor": "white"
           }
          },
          "shapedefaults": {
           "line": {
            "color": "#2a3f5f"
           }
          },
          "ternary": {
           "aaxis": {
            "gridcolor": "white",
            "linecolor": "white",
            "ticks": ""
           },
           "baxis": {
            "gridcolor": "white",
            "linecolor": "white",
            "ticks": ""
           },
           "bgcolor": "#E5ECF6",
           "caxis": {
            "gridcolor": "white",
            "linecolor": "white",
            "ticks": ""
           }
          },
          "title": {
           "x": 0.05
          },
          "xaxis": {
           "automargin": true,
           "gridcolor": "white",
           "linecolor": "white",
           "ticks": "",
           "title": {
            "standoff": 15
           },
           "zerolinecolor": "white",
           "zerolinewidth": 2
          },
          "yaxis": {
           "automargin": true,
           "gridcolor": "white",
           "linecolor": "white",
           "ticks": "",
           "title": {
            "standoff": 15
           },
           "zerolinecolor": "white",
           "zerolinewidth": 2
          }
         }
        },
        "title": {
         "font": {
          "color": "white",
          "family": "Roboto, sans-serif",
          "size": 23
         },
         "text": "GOALS FROM SET PIECES",
         "x": 0.5,
         "xanchor": "center",
         "y": 0.98,
         "yanchor": "top"
        },
        "width": 625,
        "xaxis": {
         "gridcolor": "rgba(0,0,0,0)",
         "linecolor": "white",
         "linewidth": 2,
         "range": [
          0,
          16
         ],
         "showline": true,
         "tickfont": {
          "color": "white",
          "size": 15
         },
         "title": {
          "font": {
           "size": 25
          },
          "text": "SET PIECE GOALS CONCEDED"
         }
        },
        "yaxis": {
         "gridcolor": "rgba(0,0,0,0)",
         "linecolor": "white",
         "linewidth": 2,
         "range": [
          0,
          17
         ],
         "showline": true,
         "tickfont": {
          "color": "white",
          "size": 15
         },
         "title": {
          "font": {
           "size": 25
          },
          "text": "SET PIECE GOALS SCORED"
         }
        }
       }
      }
     },
     "metadata": {},
     "output_type": "display_data"
    }
   ],
   "source": [
    "create_FM_team_scatter_chart(filt_df_goals_set_piece_chart, 'GOALS FROM SET PIECES', \"AC Milan\", \n",
    "                             'SET PIECE GOALS CONCEDED', 'SET PIECE GOALS SCORED', 0.9, 0, 16, 0, 17, \n",
    "                                                        \"Low no. of set piece goals<br>Low no. of set piece goals conceded\", \n",
    "                                                        \"Low no. of set piece goals<br>High no. of set piece goals conceded\",\n",
    "                                                        \"High no. of set piece goals<br>Low no. of set piece goals conceded\",\n",
    "                                                        \"High no. of set piece goals<br>High no. of set piece goals conceded\",\n",
    "                                                        \"orange\", \"red\", \"green\", \"orange\")\n"
   ]
  },
  {
   "cell_type": "code",
   "execution_count": null,
   "metadata": {},
   "outputs": [],
   "source": []
  },
  {
   "cell_type": "code",
   "execution_count": null,
   "metadata": {},
   "outputs": [],
   "source": []
  },
  {
   "cell_type": "code",
   "execution_count": null,
   "metadata": {},
   "outputs": [],
   "source": []
  },
  {
   "cell_type": "code",
   "execution_count": null,
   "metadata": {},
   "outputs": [],
   "source": []
  }
 ],
 "metadata": {
  "kernelspec": {
   "display_name": "footy",
   "language": "python",
   "name": "python3"
  },
  "language_info": {
   "codemirror_mode": {
    "name": "ipython",
    "version": 3
   },
   "file_extension": ".py",
   "mimetype": "text/x-python",
   "name": "python",
   "nbconvert_exporter": "python",
   "pygments_lexer": "ipython3",
   "version": "3.11.5"
  }
 },
 "nbformat": 4,
 "nbformat_minor": 2
}
