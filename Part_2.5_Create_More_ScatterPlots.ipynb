{
 "cells": [
  {
   "cell_type": "code",
   "execution_count": 1,
   "metadata": {},
   "outputs": [],
   "source": [
    "import streamlit as st"
   ]
  },
  {
   "cell_type": "code",
   "execution_count": 2,
   "metadata": {},
   "outputs": [
    {
     "data": {
      "text/plain": [
       "'1.33.0'"
      ]
     },
     "execution_count": 2,
     "metadata": {},
     "output_type": "execute_result"
    }
   ],
   "source": [
    "st.__version__"
   ]
  },
  {
   "cell_type": "code",
   "execution_count": 3,
   "metadata": {},
   "outputs": [
    {
     "name": "stderr",
     "output_type": "stream",
     "text": [
      "d:\\Users\\ksbha\\miniconda3\\envs\\footy\\Lib\\site-packages\\snowflake\\connector\\options.py:103: UserWarning: You have an incompatible version of 'pyarrow' installed (14.0.2), please install a version that adheres to: 'pyarrow<10.1.0,>=10.0.1; extra == \"pandas\"'\n",
      "  warn_incompatible_dep(\n",
      "Failed to import ArrowResult. No Apache Arrow result set format can be used. ImportError: DLL load failed while importing arrow_iterator: The specified procedure could not be found.\n"
     ]
    }
   ],
   "source": [
    "import pandas as pd\n",
    "import numpy as np\n",
    "import plotly.graph_objects as go\n",
    "# from snowflake.connector.pandas_tools import write_pandas\n",
    "# from sqlalchemy import create_engine\n",
    "import snowflake.connector\n",
    "\n",
    "from mplsoccer import Pitch, VerticalPitch\n",
    "import matplotlib.pyplot as plt\n",
    "import matplotlib.patches as patches\n",
    "import math\n",
    "\n",
    "from snowflake.connector.pandas_tools import write_pandas"
   ]
  },
  {
   "cell_type": "code",
   "execution_count": 4,
   "metadata": {},
   "outputs": [],
   "source": [
    "import snowflake.connector"
   ]
  },
  {
   "cell_type": "code",
   "execution_count": 5,
   "metadata": {},
   "outputs": [],
   "source": [
    "## Set options to view all columns\n",
    "pd.set_option('display.max_columns', None)"
   ]
  },
  {
   "cell_type": "code",
   "execution_count": 6,
   "metadata": {},
   "outputs": [],
   "source": [
    "SNOWFLAKE_USER = 'karan14'\n",
    "SNOWFLAKE_PASSWORD = 'Snowfl@key0014'\n",
    "SNOWFLAKE_ACCOUNT = 'lv65293.ca-central-1.aws'\n",
    "SNOWFLAKE_WAREHOUSE = 'COMPUTE_WH'\n",
    "SNOWFLAKE_DATABASE = 'GEGENSTATS'\n",
    "SNOWFLAKE_SCHEMA = 'TABLES'"
   ]
  },
  {
   "cell_type": "code",
   "execution_count": 7,
   "metadata": {},
   "outputs": [],
   "source": [
    "conn = snowflake.connector.connect(\n",
    "    user=SNOWFLAKE_USER,\n",
    "    password=SNOWFLAKE_PASSWORD,\n",
    "    account=SNOWFLAKE_ACCOUNT,\n",
    "    warehouse=SNOWFLAKE_WAREHOUSE,\n",
    "    database=SNOWFLAKE_DATABASE,\n",
    "    schema=SNOWFLAKE_SCHEMA\n",
    ")"
   ]
  },
  {
   "cell_type": "code",
   "execution_count": 8,
   "metadata": {},
   "outputs": [],
   "source": [
    "cursor = conn.cursor()"
   ]
  },
  {
   "cell_type": "code",
   "execution_count": 9,
   "metadata": {},
   "outputs": [],
   "source": [
    "def fetch_data(cursor, query):\n",
    "    cursor.execute(query)\n",
    "    rows = cursor.fetchall()\n",
    "    column_names = [desc[0] for desc in cursor.description]\n",
    "    return pd.DataFrame(rows, columns=column_names)"
   ]
  },
  {
   "cell_type": "code",
   "execution_count": 10,
   "metadata": {},
   "outputs": [],
   "source": [
    "team_names = fetch_data(cursor, 'SELECT * FROM TEAMS')"
   ]
  },
  {
   "cell_type": "code",
   "execution_count": 11,
   "metadata": {},
   "outputs": [],
   "source": [
    "team_misc = fetch_data(cursor, 'SELECT * FROM TEAM_MISC_STATS')"
   ]
  },
  {
   "cell_type": "code",
   "execution_count": 12,
   "metadata": {},
   "outputs": [],
   "source": [
    "team_standard = fetch_data(cursor, 'SELECT * FROM TEAM_STANDARD_STATS')"
   ]
  },
  {
   "cell_type": "code",
   "execution_count": 13,
   "metadata": {},
   "outputs": [],
   "source": [
    "team_attacking = fetch_data(cursor, 'SELECT * FROM TEAM_ATTACKING_STATS')"
   ]
  },
  {
   "cell_type": "code",
   "execution_count": 14,
   "metadata": {},
   "outputs": [],
   "source": [
    "team_defending = fetch_data(cursor, 'SELECT * FROM TEAM_DEFENDING_STATS')"
   ]
  },
  {
   "cell_type": "code",
   "execution_count": 15,
   "metadata": {},
   "outputs": [],
   "source": [
    "df_competitions = fetch_data(cursor, 'SELECT COMPETITION, COMPETITION_ACRONYM, SEASON FROM COMPETITIONS')"
   ]
  },
  {
   "cell_type": "code",
   "execution_count": 16,
   "metadata": {},
   "outputs": [],
   "source": [
    "df_matches = fetch_data(cursor, 'SELECT * FROM MATCHES')"
   ]
  },
  {
   "cell_type": "code",
   "execution_count": 17,
   "metadata": {},
   "outputs": [],
   "source": [
    "df_shots = fetch_data(cursor, 'SELECT * FROM SHOT_EVENTS')"
   ]
  },
  {
   "cell_type": "code",
   "execution_count": 18,
   "metadata": {},
   "outputs": [],
   "source": [
    "df_players = fetch_data(cursor, 'SELECT * FROM PLAYERS')"
   ]
  },
  {
   "cell_type": "code",
   "execution_count": 19,
   "metadata": {},
   "outputs": [],
   "source": [
    "team_attacking = team_attacking.merge(df_competitions, on=['COMPETITION','SEASON'], how='left')\n",
    "\n",
    "team_attacking = team_attacking.merge(team_names, on='TEAM_FBREF_ID', how='left')\n",
    "\n",
    "team_attacking = team_attacking.merge(team_standard, on=['TEAM_FBREF_ID', 'SEASON', 'COMPETITION'], how='left')"
   ]
  },
  {
   "cell_type": "code",
   "execution_count": 20,
   "metadata": {},
   "outputs": [],
   "source": [
    "team_attacking['SHOTS PER GAME'] = team_attacking['SHOTS']/team_attacking['MATCHES_PLAYED']"
   ]
  },
  {
   "cell_type": "code",
   "execution_count": 21,
   "metadata": {},
   "outputs": [],
   "source": [
    "team_attacking['CONVERSION RATE (%)'] = team_attacking['GOALS_SCORED']/team_attacking['SHOTS']"
   ]
  },
  {
   "cell_type": "code",
   "execution_count": 22,
   "metadata": {},
   "outputs": [
    {
     "data": {
      "text/html": [
       "<div>\n",
       "<style scoped>\n",
       "    .dataframe tbody tr th:only-of-type {\n",
       "        vertical-align: middle;\n",
       "    }\n",
       "\n",
       "    .dataframe tbody tr th {\n",
       "        vertical-align: top;\n",
       "    }\n",
       "\n",
       "    .dataframe thead th {\n",
       "        text-align: right;\n",
       "    }\n",
       "</style>\n",
       "<table border=\"1\" class=\"dataframe\">\n",
       "  <thead>\n",
       "    <tr style=\"text-align: right;\">\n",
       "      <th></th>\n",
       "      <th>TEAM_FBREF_ID</th>\n",
       "      <th>SEASON</th>\n",
       "      <th>COMPETITION</th>\n",
       "      <th>GOALS_SCORED</th>\n",
       "      <th>NPXG</th>\n",
       "      <th>XG</th>\n",
       "      <th>SHOTS</th>\n",
       "      <th>SHOTS_ON_TARGET</th>\n",
       "      <th>PASS_COMPLETED</th>\n",
       "      <th>PASS_ATTEMPTED</th>\n",
       "      <th>TAKEONS_ATTEMPTED</th>\n",
       "      <th>TAKEONS_COMPLETED</th>\n",
       "      <th>CROSSES_INTO_PA</th>\n",
       "      <th>FOULS_AGAINST</th>\n",
       "      <th>COMPETITION_ACRONYM</th>\n",
       "      <th>TEAM_NAME</th>\n",
       "      <th>TEAM_LOGO_URL</th>\n",
       "      <th>TEAM_WS_ID</th>\n",
       "      <th>MATCHES_PLAYED</th>\n",
       "      <th>TEAM_WINS</th>\n",
       "      <th>TEAM_DRAWS</th>\n",
       "      <th>TEAM_LOSSES</th>\n",
       "      <th>TEAM_PTS</th>\n",
       "      <th>TEAM_XPTS</th>\n",
       "      <th>SHOTS PER GAME</th>\n",
       "      <th>CONVERSION RATE (%)</th>\n",
       "    </tr>\n",
       "  </thead>\n",
       "  <tbody>\n",
       "    <tr>\n",
       "      <th>0</th>\n",
       "      <td>7a54bb4f</td>\n",
       "      <td>2223</td>\n",
       "      <td>FRA-Ligue 1</td>\n",
       "      <td>23</td>\n",
       "      <td>24.22</td>\n",
       "      <td>31.06</td>\n",
       "      <td>311</td>\n",
       "      <td>81</td>\n",
       "      <td>11216</td>\n",
       "      <td>15286</td>\n",
       "      <td>630</td>\n",
       "      <td>283</td>\n",
       "      <td>71</td>\n",
       "      <td>495</td>\n",
       "      <td>Ligue 1</td>\n",
       "      <td>Ajaccio</td>\n",
       "      <td>https://i.imgur.com/FSm4pRb.png</td>\n",
       "      <td>610</td>\n",
       "      <td>38</td>\n",
       "      <td>7</td>\n",
       "      <td>5</td>\n",
       "      <td>26</td>\n",
       "      <td>26</td>\n",
       "      <td>33.12</td>\n",
       "      <td>8.184211</td>\n",
       "      <td>0.073955</td>\n",
       "    </tr>\n",
       "    <tr>\n",
       "      <th>1</th>\n",
       "      <td>e2d8892c</td>\n",
       "      <td>2223</td>\n",
       "      <td>FRA-Ligue 1</td>\n",
       "      <td>89</td>\n",
       "      <td>81.59</td>\n",
       "      <td>86.15</td>\n",
       "      <td>562</td>\n",
       "      <td>242</td>\n",
       "      <td>23694</td>\n",
       "      <td>26476</td>\n",
       "      <td>976</td>\n",
       "      <td>454</td>\n",
       "      <td>46</td>\n",
       "      <td>416</td>\n",
       "      <td>Ligue 1</td>\n",
       "      <td>Paris S-G</td>\n",
       "      <td>https://i.imgur.com/kuN3QSp.png</td>\n",
       "      <td>304</td>\n",
       "      <td>38</td>\n",
       "      <td>27</td>\n",
       "      <td>4</td>\n",
       "      <td>7</td>\n",
       "      <td>85</td>\n",
       "      <td>74.01</td>\n",
       "      <td>14.789474</td>\n",
       "      <td>0.158363</td>\n",
       "    </tr>\n",
       "    <tr>\n",
       "      <th>2</th>\n",
       "      <td>d2c87802</td>\n",
       "      <td>2223</td>\n",
       "      <td>FRA-Ligue 1</td>\n",
       "      <td>52</td>\n",
       "      <td>42.79</td>\n",
       "      <td>47.35</td>\n",
       "      <td>397</td>\n",
       "      <td>149</td>\n",
       "      <td>14837</td>\n",
       "      <td>18087</td>\n",
       "      <td>916</td>\n",
       "      <td>406</td>\n",
       "      <td>38</td>\n",
       "      <td>501</td>\n",
       "      <td>Ligue 1</td>\n",
       "      <td>Lorient</td>\n",
       "      <td>https://i.imgur.com/9k1Kgp6.png</td>\n",
       "      <td>146</td>\n",
       "      <td>38</td>\n",
       "      <td>15</td>\n",
       "      <td>10</td>\n",
       "      <td>13</td>\n",
       "      <td>55</td>\n",
       "      <td>42.43</td>\n",
       "      <td>10.447368</td>\n",
       "      <td>0.130982</td>\n",
       "    </tr>\n",
       "    <tr>\n",
       "      <th>3</th>\n",
       "      <td>fb08dbb3</td>\n",
       "      <td>2223</td>\n",
       "      <td>FRA-Ligue 1</td>\n",
       "      <td>44</td>\n",
       "      <td>35.32</td>\n",
       "      <td>41.40</td>\n",
       "      <td>417</td>\n",
       "      <td>132</td>\n",
       "      <td>12486</td>\n",
       "      <td>16452</td>\n",
       "      <td>655</td>\n",
       "      <td>270</td>\n",
       "      <td>94</td>\n",
       "      <td>462</td>\n",
       "      <td>Ligue 1</td>\n",
       "      <td>Brest</td>\n",
       "      <td>https://i.imgur.com/klKUp8n.png</td>\n",
       "      <td>2332</td>\n",
       "      <td>38</td>\n",
       "      <td>11</td>\n",
       "      <td>11</td>\n",
       "      <td>16</td>\n",
       "      <td>44</td>\n",
       "      <td>43.52</td>\n",
       "      <td>10.973684</td>\n",
       "      <td>0.105516</td>\n",
       "    </tr>\n",
       "    <tr>\n",
       "      <th>4</th>\n",
       "      <td>7fdd64e0</td>\n",
       "      <td>2223</td>\n",
       "      <td>FRA-Ligue 1</td>\n",
       "      <td>45</td>\n",
       "      <td>53.34</td>\n",
       "      <td>59.52</td>\n",
       "      <td>516</td>\n",
       "      <td>165</td>\n",
       "      <td>13670</td>\n",
       "      <td>17565</td>\n",
       "      <td>800</td>\n",
       "      <td>347</td>\n",
       "      <td>87</td>\n",
       "      <td>423</td>\n",
       "      <td>Ligue 1</td>\n",
       "      <td>Reims</td>\n",
       "      <td>https://i.imgur.com/xULypbI.png</td>\n",
       "      <td>950</td>\n",
       "      <td>38</td>\n",
       "      <td>12</td>\n",
       "      <td>15</td>\n",
       "      <td>11</td>\n",
       "      <td>51</td>\n",
       "      <td>55.35</td>\n",
       "      <td>13.578947</td>\n",
       "      <td>0.087209</td>\n",
       "    </tr>\n",
       "  </tbody>\n",
       "</table>\n",
       "</div>"
      ],
      "text/plain": [
       "  TEAM_FBREF_ID  SEASON  COMPETITION  GOALS_SCORED   NPXG     XG  SHOTS  \\\n",
       "0      7a54bb4f    2223  FRA-Ligue 1            23  24.22  31.06    311   \n",
       "1      e2d8892c    2223  FRA-Ligue 1            89  81.59  86.15    562   \n",
       "2      d2c87802    2223  FRA-Ligue 1            52  42.79  47.35    397   \n",
       "3      fb08dbb3    2223  FRA-Ligue 1            44  35.32  41.40    417   \n",
       "4      7fdd64e0    2223  FRA-Ligue 1            45  53.34  59.52    516   \n",
       "\n",
       "   SHOTS_ON_TARGET  PASS_COMPLETED  PASS_ATTEMPTED  TAKEONS_ATTEMPTED  \\\n",
       "0               81           11216           15286                630   \n",
       "1              242           23694           26476                976   \n",
       "2              149           14837           18087                916   \n",
       "3              132           12486           16452                655   \n",
       "4              165           13670           17565                800   \n",
       "\n",
       "   TAKEONS_COMPLETED  CROSSES_INTO_PA  FOULS_AGAINST COMPETITION_ACRONYM  \\\n",
       "0                283               71            495             Ligue 1   \n",
       "1                454               46            416             Ligue 1   \n",
       "2                406               38            501             Ligue 1   \n",
       "3                270               94            462             Ligue 1   \n",
       "4                347               87            423             Ligue 1   \n",
       "\n",
       "   TEAM_NAME                    TEAM_LOGO_URL  TEAM_WS_ID  MATCHES_PLAYED  \\\n",
       "0    Ajaccio  https://i.imgur.com/FSm4pRb.png         610              38   \n",
       "1  Paris S-G  https://i.imgur.com/kuN3QSp.png         304              38   \n",
       "2    Lorient  https://i.imgur.com/9k1Kgp6.png         146              38   \n",
       "3      Brest  https://i.imgur.com/klKUp8n.png        2332              38   \n",
       "4      Reims  https://i.imgur.com/xULypbI.png         950              38   \n",
       "\n",
       "   TEAM_WINS  TEAM_DRAWS  TEAM_LOSSES  TEAM_PTS  TEAM_XPTS  SHOTS PER GAME  \\\n",
       "0          7           5           26        26      33.12        8.184211   \n",
       "1         27           4            7        85      74.01       14.789474   \n",
       "2         15          10           13        55      42.43       10.447368   \n",
       "3         11          11           16        44      43.52       10.973684   \n",
       "4         12          15           11        51      55.35       13.578947   \n",
       "\n",
       "   CONVERSION RATE (%)  \n",
       "0             0.073955  \n",
       "1             0.158363  \n",
       "2             0.130982  \n",
       "3             0.105516  \n",
       "4             0.087209  "
      ]
     },
     "execution_count": 22,
     "metadata": {},
     "output_type": "execute_result"
    }
   ],
   "source": [
    "team_attacking.head()"
   ]
  },
  {
   "cell_type": "code",
   "execution_count": 23,
   "metadata": {},
   "outputs": [],
   "source": [
    "attacking_efficiency_chart = team_attacking[['SEASON', 'COMPETITION_ACRONYM', 'TEAM_NAME', 'TEAM_LOGO_URL',\n",
    "                                            'SHOTS PER GAME', 'CONVERSION RATE (%)']]"
   ]
  },
  {
   "cell_type": "code",
   "execution_count": 24,
   "metadata": {},
   "outputs": [],
   "source": [
    "def upsert_to_snowflake(table_name, dataframe, primary_keys):\n",
    "    if isinstance(primary_keys, str):\n",
    "        primary_keys = [primary_keys]\n",
    "\n",
    "    temp_table_name = f\"{table_name}_TEMP\"\n",
    "    success, nchunks, nrows, _ = write_pandas(conn, dataframe, temp_table_name, auto_create_table=True)\n",
    "\n",
    "    on_condition = ' AND '.join([f\"{table_name}.{pk} = {temp_table_name}.{pk}\" for pk in primary_keys])\n",
    "\n",
    "    update_columns = [col for col in dataframe.columns if col not in primary_keys]\n",
    "    update_sql = ', '.join([f\"{table_name}.{col} = {temp_table_name}.{col}\" for col in update_columns])\n",
    "\n",
    "    merge_sql = f\"\"\"\n",
    "    MERGE INTO {table_name} USING {temp_table_name}\n",
    "    ON {on_condition}\n",
    "    \"\"\"\n",
    "\n",
    "    if update_columns:\n",
    "        merge_sql += f\"\"\"\n",
    "        WHEN MATCHED THEN\n",
    "            UPDATE SET\n",
    "                {update_sql}\n",
    "        \"\"\"\n",
    "\n",
    "    merge_sql += f\"\"\"\n",
    "    WHEN NOT MATCHED THEN\n",
    "        INSERT ({', '.join(dataframe.columns)})\n",
    "        VALUES ({', '.join([f\"{temp_table_name}.{col}\" for col in dataframe.columns])})\n",
    "    \"\"\"\n",
    "\n",
    "    cur.execute(merge_sql)\n",
    "    cur.execute(f\"DROP TABLE IF EXISTS {temp_table_name}\")\n",
    "\n",
    "    print(f\"Upsert completed. {nrows} rows processed.\")"
   ]
  },
  {
   "cell_type": "code",
   "execution_count": 25,
   "metadata": {},
   "outputs": [
    {
     "data": {
      "text/plain": [
       "<snowflake.connector.cursor.SnowflakeCursor at 0x196ad0e9290>"
      ]
     },
     "execution_count": 25,
     "metadata": {},
     "output_type": "execute_result"
    }
   ],
   "source": [
    "SNOWFLAKE_SCHEMA = 'RADAR_CHARTS'\n",
    "\n",
    "conn = snowflake.connector.connect(\n",
    "    user=SNOWFLAKE_USER,\n",
    "    password=SNOWFLAKE_PASSWORD,\n",
    "    account=SNOWFLAKE_ACCOUNT,\n",
    "    warehouse=SNOWFLAKE_WAREHOUSE,\n",
    "    database=SNOWFLAKE_DATABASE,\n",
    "    schema=SNOWFLAKE_SCHEMA\n",
    "    )\n",
    "\n",
    "cur = conn.cursor()\n",
    "cur.execute(f\"USE WAREHOUSE {SNOWFLAKE_WAREHOUSE}\")\n",
    "\n",
    "create_schema_sql = f\"CREATE SCHEMA IF NOT EXISTS {SNOWFLAKE_SCHEMA}\"\n",
    "cur.execute(create_schema_sql)"
   ]
  },
  {
   "cell_type": "code",
   "execution_count": 26,
   "metadata": {},
   "outputs": [],
   "source": [
    "create_table_query = \"\"\"\n",
    "CREATE TABLE IF NOT EXISTS TEAM_ATTACKING_EFFICIENCY_CHART (\n",
    "    SEASON INT,\n",
    "    COMPETITION_ACRONYM VARCHAR(255),\n",
    "    TEAM_NAME VARCHAR(255),\n",
    "    TEAM_LOGO_URL VARCHAR(255),\n",
    "    SHOTS_PER_GAME FLOAT,\n",
    "    CONVERSION_RATE FLOAT,\n",
    "    PRIMARY KEY (SEASON, COMPETITION_ACRONYM, TEAM_NAME)\n",
    ");\n",
    "\"\"\""
   ]
  },
  {
   "cell_type": "code",
   "execution_count": 27,
   "metadata": {},
   "outputs": [
    {
     "data": {
      "text/plain": [
       "<snowflake.connector.cursor.SnowflakeCursor at 0x196ad0e9290>"
      ]
     },
     "execution_count": 27,
     "metadata": {},
     "output_type": "execute_result"
    }
   ],
   "source": [
    "cur.execute(create_table_query)"
   ]
  },
  {
   "cell_type": "code",
   "execution_count": 28,
   "metadata": {},
   "outputs": [],
   "source": [
    "attacking_efficiency_chart.columns = attacking_efficiency_chart.columns.str.replace(\" \", \"_\")"
   ]
  },
  {
   "cell_type": "code",
   "execution_count": 29,
   "metadata": {},
   "outputs": [],
   "source": [
    "attacking_efficiency_chart = attacking_efficiency_chart.rename({\"CONVERSION_RATE_(%)\":\"CONVERSION_RATE\"}, axis=1)"
   ]
  },
  {
   "cell_type": "code",
   "execution_count": 30,
   "metadata": {},
   "outputs": [],
   "source": [
    "attacking_efficiency_chart[\"CONVERSION_RATE\"] = attacking_efficiency_chart[\"CONVERSION_RATE\"] * 100"
   ]
  },
  {
   "cell_type": "code",
   "execution_count": 31,
   "metadata": {},
   "outputs": [
    {
     "name": "stdout",
     "output_type": "stream",
     "text": [
      "Upsert completed. 292 rows processed.\n"
     ]
    }
   ],
   "source": [
    "upsert_to_snowflake(\"TEAM_ATTACKING_EFFICIENCY_CHART\", attacking_efficiency_chart,\n",
    "                    ['SEASON', 'COMPETITION_ACRONYM', 'TEAM_NAME'])"
   ]
  },
  {
   "cell_type": "code",
   "execution_count": 32,
   "metadata": {},
   "outputs": [],
   "source": [
    "attacking_efficiency_chart = fetch_data(cursor, 'SELECT * FROM GEGENSTATS.RADAR_CHARTS.TEAM_ATTACKING_EFFICIENCY_CHART')"
   ]
  },
  {
   "cell_type": "code",
   "execution_count": 33,
   "metadata": {},
   "outputs": [],
   "source": [
    "attacking_efficiency_chart.rename(columns={'CONVERSION_RATE':'CONVERSION RATE (%)',\n",
    "                                'SHOTS_PER_GAME':'SHOTS PER GAME'}, inplace=True)"
   ]
  },
  {
   "cell_type": "code",
   "execution_count": 34,
   "metadata": {},
   "outputs": [],
   "source": [
    "def create_FM_team_scatter_chart(df, chart_name, team_name, x_axis_label, y_axis_label, img_size, x_min, x_max, y_min, y_max, bottom_left_label, \n",
    "                                 bottom_right_label, top_left_label, top_right_label, bl_color, br_color, tl_color, tr_color):\n",
    "    fig = go.Figure()\n",
    "    x_axis_mean_val = df[x_axis_label].mean()\n",
    "    y_axis_mean_val = df[y_axis_label].mean()\n",
    "\n",
    "    # Add the scatter plot points\n",
    "    for index, row in df.iterrows():\n",
    "        fig.add_trace(go.Scatter(\n",
    "            x=[row[x_axis_label]],\n",
    "            y=[row[y_axis_label]],\n",
    "            mode='markers',\n",
    "            text=row[\"TEAM_NAME\"],\n",
    "            marker=dict(\n",
    "                opacity=0\n",
    "            ),\n",
    "            hoverinfo='text',\n",
    "        ))\n",
    "\n",
    "        # Add team logo as a layout_image\n",
    "        fig.add_layout_image(\n",
    "            dict(\n",
    "                source=row[\"TEAM_LOGO_URL\"],\n",
    "                x=row[x_axis_label],\n",
    "                y=row[y_axis_label],\n",
    "                xref=\"x\",\n",
    "                yref=\"y\",\n",
    "                xanchor=\"center\",\n",
    "                yanchor=\"middle\"\n",
    "            )\n",
    "        )\n",
    "\n",
    "\n",
    "    # Update axes and layout as necessary\n",
    "    # ...\n",
    "        \n",
    "    fig.update_xaxes(range=[x_min, x_max], title=x_axis_label)\n",
    "    fig.update_yaxes(range=[y_min, y_max], title=y_axis_label)\n",
    "\n",
    "    fig.add_shape(\n",
    "        type='line',\n",
    "        x0=x_axis_mean_val, y0=fig.layout.yaxis.range[0],  # start of the line\n",
    "        x1=x_axis_mean_val, y1=fig.layout.yaxis.range[1],  # end of the line\n",
    "        line=dict(color='White', width=3),\n",
    "        layer='below'\n",
    "    )\n",
    "\n",
    "    # Add a horizontal line at the mean aerials attempted per game\n",
    "    fig.add_shape(\n",
    "        type='line',\n",
    "        x0=fig.layout.xaxis.range[0], y0=y_axis_mean_val,  # start of the line\n",
    "        x1=fig.layout.xaxis.range[1], y1=y_axis_mean_val,  # end of the line\n",
    "        line=dict(color='White', width=3),\n",
    "        layer='below'\n",
    "    )\n",
    "\n",
    "    fig.update_layout(\n",
    "        width=625,\n",
    "        height=625,\n",
    "        showlegend=False,\n",
    "        paper_bgcolor='rgb(70, 70, 70)',\n",
    "        plot_bgcolor='rgb(70, 70, 70)',\n",
    "        font=dict(\n",
    "                family=\"Roboto, sans-serif\",  # Specify the font family\n",
    "                size=25,                     # Specify the font size\n",
    "                color=\"white\"                # Specify the font color\n",
    "            ),\n",
    "        hoverlabel=dict(\n",
    "                bgcolor=\"rgba(20, 20, 20, 0.8)\",\n",
    "                font_family=\"Roboto, sans-serif\"),\n",
    "        title={\n",
    "            'text': f'{chart_name}',\n",
    "            'y':0.98,  # Sets the y position of the title (1 is the top of the figure)\n",
    "            'x':0.5,  # Centers the title horizontally (0.5 is the center of the figure)\n",
    "            'xanchor': 'center',  # Ensures the title is centered at the x position\n",
    "            'yanchor': 'top',  # Ensures the title is at the top of the y position\n",
    "            'font': dict(\n",
    "                family=\"Roboto, sans-serif\",  # Specify the font family\n",
    "                size=23,                     # Specify the font size\n",
    "                color=\"white\"                # Specify the font color\n",
    "            )\n",
    "        },\n",
    "        margin=dict(l=10, r=30, t=50, b=10),\n",
    "        images= [dict(\n",
    "            source= row[\"TEAM_LOGO_URL\"],\n",
    "            xref=\"x\",\n",
    "            yref=\"y\",\n",
    "            x= row[x_axis_label],\n",
    "            y= row[y_axis_label],\n",
    "            sizex=img_size*1.8 if row['TEAM_NAME'] == team_name else img_size,  # The size of the image in x axis units\n",
    "            sizey=img_size*1.8 if row['TEAM_NAME'] == team_name else img_size,  # The size of the image in y axis units\n",
    "            sizing=\"contain\",\n",
    "            opacity=1 if row['TEAM_NAME'] == team_name else 0.35,\n",
    "            layer=\"above\") for index, row in df.iterrows()]\n",
    "    )\n",
    "\n",
    "    fig.update_xaxes(\n",
    "        title=dict(font=dict(size=25)),\n",
    "        showline=True,  # Show the axis line\n",
    "        linewidth=2,  # Width of the axis line\n",
    "        linecolor='white',  # Color of the axis line\n",
    "        gridcolor='rgba(0,0,0,0)',  # Set grid line color to transparent\n",
    "        tickfont=dict(color='white', size=15),  # Set the color of the axis ticks (numbers)\n",
    "    )\n",
    "\n",
    "    fig.update_yaxes(\n",
    "        title=dict(font=dict(size=25)),\n",
    "        showline=True,\n",
    "        linewidth=2,\n",
    "        linecolor='white',\n",
    "        gridcolor='rgba(0,0,0,0)',\n",
    "        tickfont=dict(color='white', size=15),\n",
    "    )\n",
    "\n",
    "    fig.add_annotation(text=bottom_left_label,\n",
    "                    xref=\"paper\", yref=\"paper\",\n",
    "                    x=0, y=0,  # Bottom left corner\n",
    "                    showarrow=False,\n",
    "                    font=dict(size=15, color=bl_color, family=\"Roboto, sans-serif\"),\n",
    "                    align=\"left\")\n",
    "\n",
    "    fig.add_annotation(text=top_left_label,\n",
    "                    xref=\"paper\", yref=\"paper\",\n",
    "                    x=0, y=1,  # Top left corner\n",
    "                    showarrow=False,\n",
    "                    font=dict(size=15, color=tl_color, family=\"Roboto, sans-serif\"),\n",
    "                    align=\"left\")\n",
    "\n",
    "    fig.add_annotation(text=top_right_label,\n",
    "                    xref=\"paper\", yref=\"paper\",\n",
    "                    x=1, y=1,  # Top right corner\n",
    "                    showarrow=False,\n",
    "                    font=dict(size=15, color=tr_color, family=\"Roboto, sans-serif\"),\n",
    "                    align=\"right\")\n",
    "\n",
    "    fig.add_annotation(text=bottom_right_label,\n",
    "                    xref=\"paper\", yref=\"paper\",\n",
    "                    x=1, y=0,  # Bottom right corner\n",
    "                    showarrow=False,\n",
    "                    font=dict(size=15, color=br_color, family=\"Roboto, sans-serif\"),\n",
    "                    align=\"right\")\n",
    "\n",
    "    return fig"
   ]
  },
  {
   "cell_type": "code",
   "execution_count": 35,
   "metadata": {},
   "outputs": [
    {
     "data": {
      "text/html": [
       "<div>\n",
       "<style scoped>\n",
       "    .dataframe tbody tr th:only-of-type {\n",
       "        vertical-align: middle;\n",
       "    }\n",
       "\n",
       "    .dataframe tbody tr th {\n",
       "        vertical-align: top;\n",
       "    }\n",
       "\n",
       "    .dataframe thead th {\n",
       "        text-align: right;\n",
       "    }\n",
       "</style>\n",
       "<table border=\"1\" class=\"dataframe\">\n",
       "  <thead>\n",
       "    <tr style=\"text-align: right;\">\n",
       "      <th></th>\n",
       "      <th>SEASON</th>\n",
       "      <th>COMPETITION_ACRONYM</th>\n",
       "      <th>TEAM_NAME</th>\n",
       "      <th>TEAM_LOGO_URL</th>\n",
       "      <th>SHOTS PER GAME</th>\n",
       "      <th>CONVERSION RATE (%)</th>\n",
       "    </tr>\n",
       "  </thead>\n",
       "  <tbody>\n",
       "    <tr>\n",
       "      <th>0</th>\n",
       "      <td>2223</td>\n",
       "      <td>Ligue 1</td>\n",
       "      <td>Ajaccio</td>\n",
       "      <td>https://i.imgur.com/FSm4pRb.png</td>\n",
       "      <td>8.184211</td>\n",
       "      <td>7.395498</td>\n",
       "    </tr>\n",
       "    <tr>\n",
       "      <th>1</th>\n",
       "      <td>2223</td>\n",
       "      <td>Ligue 1</td>\n",
       "      <td>Paris S-G</td>\n",
       "      <td>https://i.imgur.com/kuN3QSp.png</td>\n",
       "      <td>14.789474</td>\n",
       "      <td>15.836299</td>\n",
       "    </tr>\n",
       "    <tr>\n",
       "      <th>2</th>\n",
       "      <td>2223</td>\n",
       "      <td>Ligue 1</td>\n",
       "      <td>Lorient</td>\n",
       "      <td>https://i.imgur.com/9k1Kgp6.png</td>\n",
       "      <td>10.447368</td>\n",
       "      <td>13.098237</td>\n",
       "    </tr>\n",
       "    <tr>\n",
       "      <th>3</th>\n",
       "      <td>2223</td>\n",
       "      <td>Ligue 1</td>\n",
       "      <td>Brest</td>\n",
       "      <td>https://i.imgur.com/klKUp8n.png</td>\n",
       "      <td>10.973684</td>\n",
       "      <td>10.551559</td>\n",
       "    </tr>\n",
       "    <tr>\n",
       "      <th>4</th>\n",
       "      <td>2223</td>\n",
       "      <td>Ligue 1</td>\n",
       "      <td>Reims</td>\n",
       "      <td>https://i.imgur.com/xULypbI.png</td>\n",
       "      <td>13.578947</td>\n",
       "      <td>8.720930</td>\n",
       "    </tr>\n",
       "  </tbody>\n",
       "</table>\n",
       "</div>"
      ],
      "text/plain": [
       "   SEASON COMPETITION_ACRONYM  TEAM_NAME                    TEAM_LOGO_URL  \\\n",
       "0    2223             Ligue 1    Ajaccio  https://i.imgur.com/FSm4pRb.png   \n",
       "1    2223             Ligue 1  Paris S-G  https://i.imgur.com/kuN3QSp.png   \n",
       "2    2223             Ligue 1    Lorient  https://i.imgur.com/9k1Kgp6.png   \n",
       "3    2223             Ligue 1      Brest  https://i.imgur.com/klKUp8n.png   \n",
       "4    2223             Ligue 1      Reims  https://i.imgur.com/xULypbI.png   \n",
       "\n",
       "   SHOTS PER GAME  CONVERSION RATE (%)  \n",
       "0        8.184211             7.395498  \n",
       "1       14.789474            15.836299  \n",
       "2       10.447368            13.098237  \n",
       "3       10.973684            10.551559  \n",
       "4       13.578947             8.720930  "
      ]
     },
     "execution_count": 35,
     "metadata": {},
     "output_type": "execute_result"
    }
   ],
   "source": [
    "attacking_efficiency_chart.head()"
   ]
  },
  {
   "cell_type": "code",
   "execution_count": 36,
   "metadata": {},
   "outputs": [],
   "source": [
    "season_selected = 2324\n",
    "league_selected = \"EPL\""
   ]
  },
  {
   "cell_type": "code",
   "execution_count": 37,
   "metadata": {},
   "outputs": [],
   "source": [
    "filt_attacking_efficiency_chart = attacking_efficiency_chart[attacking_efficiency_chart['SEASON'] == season_selected]\n",
    "filt_attacking_efficiency_chart = filt_attacking_efficiency_chart[filt_attacking_efficiency_chart['COMPETITION_ACRONYM'] == league_selected]"
   ]
  },
  {
   "cell_type": "code",
   "execution_count": 38,
   "metadata": {},
   "outputs": [
    {
     "data": {
      "application/vnd.plotly.v1+json": {
       "config": {
        "plotlyServerURL": "https://plotly.com"
       },
       "data": [
        {
         "hoverinfo": "text",
         "marker": {
          "opacity": 0
         },
         "mode": "markers",
         "text": "Arsenal",
         "type": "scatter",
         "x": [
          14.211438475
         ],
         "y": [
          16.970588235
         ]
        },
        {
         "hoverinfo": "text",
         "marker": {
          "opacity": 0
         },
         "mode": "markers",
         "text": "Aston Villa",
         "type": "scatter",
         "x": [
          15.010570825
         ],
         "y": [
          13.911764706
         ]
        },
        {
         "hoverinfo": "text",
         "marker": {
          "opacity": 0
         },
         "mode": "markers",
         "text": "Bournemouth",
         "type": "scatter",
         "x": [
          10.165975104
         ],
         "y": [
          14.176470588
         ]
        },
        {
         "hoverinfo": "text",
         "marker": {
          "opacity": 0
         },
         "mode": "markers",
         "text": "Brentford",
         "type": "scatter",
         "x": [
          12.037037037
         ],
         "y": [
          12.705882353
         ]
        },
        {
         "hoverinfo": "text",
         "marker": {
          "opacity": 0
         },
         "mode": "markers",
         "text": "Brighton",
         "type": "scatter",
         "x": [
          10.743801653
         ],
         "y": [
          14.666666667
         ]
        },
        {
         "hoverinfo": "text",
         "marker": {
          "opacity": 0
         },
         "mode": "markers",
         "text": "Burnley",
         "type": "scatter",
         "x": [
          9.973045822
         ],
         "y": [
          10.911764706
         ]
        },
        {
         "hoverinfo": "text",
         "marker": {
          "opacity": 0
         },
         "mode": "markers",
         "text": "Chelsea",
         "type": "scatter",
         "x": [
          14.087759815
         ],
         "y": [
          13.53125
         ]
        },
        {
         "hoverinfo": "text",
         "marker": {
          "opacity": 0
         },
         "mode": "markers",
         "text": "Crystal Palace",
         "type": "scatter",
         "x": [
          11.224489796
         ],
         "y": [
          11.529411765
         ]
        },
        {
         "hoverinfo": "text",
         "marker": {
          "opacity": 0
         },
         "mode": "markers",
         "text": "Everton",
         "type": "scatter",
         "x": [
          7.877461707
         ],
         "y": [
          13.441176471
         ]
        },
        {
         "hoverinfo": "text",
         "marker": {
          "opacity": 0
         },
         "mode": "markers",
         "text": "Fulham",
         "type": "scatter",
         "x": [
          10.917030568
         ],
         "y": [
          13.470588235
         ]
        },
        {
         "hoverinfo": "text",
         "marker": {
          "opacity": 0
         },
         "mode": "markers",
         "text": "Liverpool",
         "type": "scatter",
         "x": [
          11.061946903
         ],
         "y": [
          19.941176471
         ]
        },
        {
         "hoverinfo": "text",
         "marker": {
          "opacity": 0
         },
         "mode": "markers",
         "text": "Luton Town",
         "type": "scatter",
         "x": [
          12.303664921
         ],
         "y": [
          11.235294118
         ]
        },
        {
         "hoverinfo": "text",
         "marker": {
          "opacity": 0
         },
         "mode": "markers",
         "text": "Manchester City",
         "type": "scatter",
         "x": [
          13.245033113
         ],
         "y": [
          18.303030303
         ]
        },
        {
         "hoverinfo": "text",
         "marker": {
          "opacity": 0
         },
         "mode": "markers",
         "text": "Manchester Utd",
         "type": "scatter",
         "x": [
          10.920770878
         ],
         "y": [
          14.151515152
         ]
        },
        {
         "hoverinfo": "text",
         "marker": {
          "opacity": 0
         },
         "mode": "markers",
         "text": "Newcastle Utd",
         "type": "scatter",
         "x": [
          15.333333333
         ],
         "y": [
          13.636363636
         ]
        },
        {
         "hoverinfo": "text",
         "marker": {
          "opacity": 0
         },
         "mode": "markers",
         "text": "Nott'ham Forest",
         "type": "scatter",
         "x": [
          10.796915167
         ],
         "y": [
          11.441176471
         ]
        },
        {
         "hoverinfo": "text",
         "marker": {
          "opacity": 0
         },
         "mode": "markers",
         "text": "Sheffield Utd",
         "type": "scatter",
         "x": [
          10.64516129
         ],
         "y": [
          9.117647059
         ]
        },
        {
         "hoverinfo": "text",
         "marker": {
          "opacity": 0
         },
         "mode": "markers",
         "text": "Tottenham",
         "type": "scatter",
         "x": [
          13.292433538
         ],
         "y": [
          15.28125
         ]
        },
        {
         "hoverinfo": "text",
         "marker": {
          "opacity": 0
         },
         "mode": "markers",
         "text": "West Ham",
         "type": "scatter",
         "x": [
          13.705583756
         ],
         "y": [
          11.588235294
         ]
        },
        {
         "hoverinfo": "text",
         "marker": {
          "opacity": 0
         },
         "mode": "markers",
         "text": "Wolves",
         "type": "scatter",
         "x": [
          11.734693878
         ],
         "y": [
          11.529411765
         ]
        }
       ],
       "layout": {
        "annotations": [
         {
          "align": "left",
          "font": {
           "color": "red",
           "family": "Roboto, sans-serif",
           "size": 15
          },
          "showarrow": false,
          "text": "Passive Shooting<br>Wasteful Shooting",
          "x": 0,
          "xref": "paper",
          "y": 0,
          "yref": "paper"
         },
         {
          "align": "left",
          "font": {
           "color": "orange",
           "family": "Roboto, sans-serif",
           "size": 15
          },
          "showarrow": false,
          "text": "Aggressive Shooting<br>Wasteful Shooting",
          "x": 0,
          "xref": "paper",
          "y": 1,
          "yref": "paper"
         },
         {
          "align": "right",
          "font": {
           "color": "green",
           "family": "Roboto, sans-serif",
           "size": 15
          },
          "showarrow": false,
          "text": "Aggressive Shooting<br>Clinical Shooting",
          "x": 1,
          "xref": "paper",
          "y": 1,
          "yref": "paper"
         },
         {
          "align": "right",
          "font": {
           "color": "orange",
           "family": "Roboto, sans-serif",
           "size": 15
          },
          "showarrow": false,
          "text": "Passive Shooting<br>Clinical Shooting",
          "x": 1,
          "xref": "paper",
          "y": 0,
          "yref": "paper"
         }
        ],
        "font": {
         "color": "white",
         "family": "Roboto, sans-serif",
         "size": 25
        },
        "height": 625,
        "hoverlabel": {
         "bgcolor": "rgba(20, 20, 20, 0.8)",
         "font": {
          "family": "Roboto, sans-serif"
         }
        },
        "images": [
         {
          "layer": "above",
          "opacity": 0.35,
          "sizex": 0.7,
          "sizey": 0.7,
          "sizing": "contain",
          "source": "https://i.imgur.com/SURo5sj.png",
          "x": 14.211438475,
          "xanchor": "center",
          "xref": "x",
          "y": 16.970588235,
          "yanchor": "middle",
          "yref": "y"
         },
         {
          "layer": "above",
          "opacity": 0.35,
          "sizex": 0.7,
          "sizey": 0.7,
          "sizing": "contain",
          "source": "https://i.imgur.com/M4mwH1X.png",
          "x": 15.010570825,
          "xanchor": "center",
          "xref": "x",
          "y": 13.911764706,
          "yanchor": "middle",
          "yref": "y"
         },
         {
          "layer": "above",
          "opacity": 0.35,
          "sizex": 0.7,
          "sizey": 0.7,
          "sizing": "contain",
          "source": "https://i.imgur.com/0F6UIO4.png",
          "x": 10.165975104,
          "xanchor": "center",
          "xref": "x",
          "y": 14.176470588,
          "yanchor": "middle",
          "yref": "y"
         },
         {
          "layer": "above",
          "opacity": 0.35,
          "sizex": 0.7,
          "sizey": 0.7,
          "sizing": "contain",
          "source": "https://i.imgur.com/MOhGOQ4.png",
          "x": 12.037037037,
          "xanchor": "center",
          "xref": "x",
          "y": 12.705882353,
          "yanchor": "middle",
          "yref": "y"
         },
         {
          "layer": "above",
          "opacity": 0.35,
          "sizex": 0.7,
          "sizey": 0.7,
          "sizing": "contain",
          "source": "https://i.imgur.com/EMCwD3X.png",
          "x": 10.743801653,
          "xanchor": "center",
          "xref": "x",
          "y": 14.666666667,
          "yanchor": "middle",
          "yref": "y"
         },
         {
          "layer": "above",
          "opacity": 0.35,
          "sizex": 0.7,
          "sizey": 0.7,
          "sizing": "contain",
          "source": "https://i.imgur.com/6IDi9XJ.png",
          "x": 9.973045822,
          "xanchor": "center",
          "xref": "x",
          "y": 10.911764706,
          "yanchor": "middle",
          "yref": "y"
         },
         {
          "layer": "above",
          "opacity": 0.35,
          "sizex": 0.7,
          "sizey": 0.7,
          "sizing": "contain",
          "source": "https://i.imgur.com/6F7h3UR.png",
          "x": 14.087759815,
          "xanchor": "center",
          "xref": "x",
          "y": 13.53125,
          "yanchor": "middle",
          "yref": "y"
         },
         {
          "layer": "above",
          "opacity": 0.35,
          "sizex": 0.7,
          "sizey": 0.7,
          "sizing": "contain",
          "source": "https://i.imgur.com/LPhzr0K.png",
          "x": 11.224489796,
          "xanchor": "center",
          "xref": "x",
          "y": 11.529411765,
          "yanchor": "middle",
          "yref": "y"
         },
         {
          "layer": "above",
          "opacity": 0.35,
          "sizex": 0.7,
          "sizey": 0.7,
          "sizing": "contain",
          "source": "https://i.imgur.com/Dgei0uj.png",
          "x": 7.877461707,
          "xanchor": "center",
          "xref": "x",
          "y": 13.441176471,
          "yanchor": "middle",
          "yref": "y"
         },
         {
          "layer": "above",
          "opacity": 0.35,
          "sizex": 0.7,
          "sizey": 0.7,
          "sizing": "contain",
          "source": "https://i.imgur.com/2zggSrF.png",
          "x": 10.917030568,
          "xanchor": "center",
          "xref": "x",
          "y": 13.470588235,
          "yanchor": "middle",
          "yref": "y"
         },
         {
          "layer": "above",
          "opacity": 0.35,
          "sizex": 0.7,
          "sizey": 0.7,
          "sizing": "contain",
          "source": "https://i.imgur.com/fs7VK9G.png",
          "x": 11.061946903,
          "xanchor": "center",
          "xref": "x",
          "y": 19.941176471,
          "yanchor": "middle",
          "yref": "y"
         },
         {
          "layer": "above",
          "opacity": 0.35,
          "sizex": 0.7,
          "sizey": 0.7,
          "sizing": "contain",
          "source": "https://i.imgur.com/vHHqKJX.png",
          "x": 12.303664921,
          "xanchor": "center",
          "xref": "x",
          "y": 11.235294118,
          "yanchor": "middle",
          "yref": "y"
         },
         {
          "layer": "above",
          "opacity": 0.35,
          "sizex": 0.7,
          "sizey": 0.7,
          "sizing": "contain",
          "source": "https://i.imgur.com/FF8z7uZ.png",
          "x": 13.245033113,
          "xanchor": "center",
          "xref": "x",
          "y": 18.303030303,
          "yanchor": "middle",
          "yref": "y"
         },
         {
          "layer": "above",
          "opacity": 0.35,
          "sizex": 0.7,
          "sizey": 0.7,
          "sizing": "contain",
          "source": "https://i.imgur.com/z47emBQ.png",
          "x": 10.920770878,
          "xanchor": "center",
          "xref": "x",
          "y": 14.151515152,
          "yanchor": "middle",
          "yref": "y"
         },
         {
          "layer": "above",
          "opacity": 0.35,
          "sizex": 0.7,
          "sizey": 0.7,
          "sizing": "contain",
          "source": "https://i.imgur.com/3kOLokZ.png",
          "x": 15.333333333,
          "xanchor": "center",
          "xref": "x",
          "y": 13.636363636,
          "yanchor": "middle",
          "yref": "y"
         },
         {
          "layer": "above",
          "opacity": 0.35,
          "sizex": 0.7,
          "sizey": 0.7,
          "sizing": "contain",
          "source": "https://i.imgur.com/z4Tl9Zu.png",
          "x": 10.796915167,
          "xanchor": "center",
          "xref": "x",
          "y": 11.441176471,
          "yanchor": "middle",
          "yref": "y"
         },
         {
          "layer": "above",
          "opacity": 0.35,
          "sizex": 0.7,
          "sizey": 0.7,
          "sizing": "contain",
          "source": "https://i.imgur.com/eeBetFN.png",
          "x": 10.64516129,
          "xanchor": "center",
          "xref": "x",
          "y": 9.117647059,
          "yanchor": "middle",
          "yref": "y"
         },
         {
          "layer": "above",
          "opacity": 0.35,
          "sizex": 0.7,
          "sizey": 0.7,
          "sizing": "contain",
          "source": "https://i.imgur.com/fJ7rUWW.png",
          "x": 13.292433538,
          "xanchor": "center",
          "xref": "x",
          "y": 15.28125,
          "yanchor": "middle",
          "yref": "y"
         },
         {
          "layer": "above",
          "opacity": 0.35,
          "sizex": 0.7,
          "sizey": 0.7,
          "sizing": "contain",
          "source": "https://i.imgur.com/9BQHJRl.png",
          "x": 13.705583756,
          "xanchor": "center",
          "xref": "x",
          "y": 11.588235294,
          "yanchor": "middle",
          "yref": "y"
         },
         {
          "layer": "above",
          "opacity": 0.35,
          "sizex": 0.7,
          "sizey": 0.7,
          "sizing": "contain",
          "source": "https://i.imgur.com/6azSF88.png",
          "x": 11.734693878,
          "xanchor": "center",
          "xref": "x",
          "y": 11.529411765,
          "yanchor": "middle",
          "yref": "y"
         }
        ],
        "margin": {
         "b": 10,
         "l": 10,
         "r": 30,
         "t": 50
        },
        "paper_bgcolor": "rgb(70, 70, 70)",
        "plot_bgcolor": "rgb(70, 70, 70)",
        "shapes": [
         {
          "layer": "below",
          "line": {
           "color": "White",
           "width": 3
          },
          "type": "line",
          "x0": 11.964407378950003,
          "x1": 11.964407378950003,
          "y0": 7,
          "y1": 21
         },
         {
          "layer": "below",
          "line": {
           "color": "White",
           "width": 3
          },
          "type": "line",
          "x0": 5,
          "x1": 20,
          "y0": 13.57703319975,
          "y1": 13.57703319975
         }
        ],
        "showlegend": false,
        "template": {
         "data": {
          "candlestick": [
           {
            "decreasing": {
             "line": {
              "color": "#000033"
             }
            },
            "increasing": {
             "line": {
              "color": "#000032"
             }
            },
            "type": "candlestick"
           }
          ],
          "contour": [
           {
            "colorscale": [
             [
              0,
              "#000011"
             ],
             [
              0.1111111111111111,
              "#000012"
             ],
             [
              0.2222222222222222,
              "#000013"
             ],
             [
              0.3333333333333333,
              "#000014"
             ],
             [
              0.4444444444444444,
              "#000015"
             ],
             [
              0.5555555555555556,
              "#000016"
             ],
             [
              0.6666666666666666,
              "#000017"
             ],
             [
              0.7777777777777778,
              "#000018"
             ],
             [
              0.8888888888888888,
              "#000019"
             ],
             [
              1,
              "#000020"
             ]
            ],
            "type": "contour"
           }
          ],
          "contourcarpet": [
           {
            "colorscale": [
             [
              0,
              "#000011"
             ],
             [
              0.1111111111111111,
              "#000012"
             ],
             [
              0.2222222222222222,
              "#000013"
             ],
             [
              0.3333333333333333,
              "#000014"
             ],
             [
              0.4444444444444444,
              "#000015"
             ],
             [
              0.5555555555555556,
              "#000016"
             ],
             [
              0.6666666666666666,
              "#000017"
             ],
             [
              0.7777777777777778,
              "#000018"
             ],
             [
              0.8888888888888888,
              "#000019"
             ],
             [
              1,
              "#000020"
             ]
            ],
            "type": "contourcarpet"
           }
          ],
          "heatmap": [
           {
            "colorscale": [
             [
              0,
              "#000011"
             ],
             [
              0.1111111111111111,
              "#000012"
             ],
             [
              0.2222222222222222,
              "#000013"
             ],
             [
              0.3333333333333333,
              "#000014"
             ],
             [
              0.4444444444444444,
              "#000015"
             ],
             [
              0.5555555555555556,
              "#000016"
             ],
             [
              0.6666666666666666,
              "#000017"
             ],
             [
              0.7777777777777778,
              "#000018"
             ],
             [
              0.8888888888888888,
              "#000019"
             ],
             [
              1,
              "#000020"
             ]
            ],
            "type": "heatmap"
           }
          ],
          "histogram2d": [
           {
            "colorscale": [
             [
              0,
              "#000011"
             ],
             [
              0.1111111111111111,
              "#000012"
             ],
             [
              0.2222222222222222,
              "#000013"
             ],
             [
              0.3333333333333333,
              "#000014"
             ],
             [
              0.4444444444444444,
              "#000015"
             ],
             [
              0.5555555555555556,
              "#000016"
             ],
             [
              0.6666666666666666,
              "#000017"
             ],
             [
              0.7777777777777778,
              "#000018"
             ],
             [
              0.8888888888888888,
              "#000019"
             ],
             [
              1,
              "#000020"
             ]
            ],
            "type": "histogram2d"
           }
          ],
          "icicle": [
           {
            "textfont": {
             "color": "white"
            },
            "type": "icicle"
           }
          ],
          "sankey": [
           {
            "textfont": {
             "color": "#000036"
            },
            "type": "sankey"
           }
          ],
          "scatter": [
           {
            "marker": {
             "line": {
              "width": 0
             }
            },
            "type": "scatter"
           }
          ],
          "table": [
           {
            "cells": {
             "fill": {
              "color": "#000038"
             },
             "font": {
              "color": "#000037"
             },
             "line": {
              "color": "#000039"
             }
            },
            "header": {
             "fill": {
              "color": "#000040"
             },
             "font": {
              "color": "#000036"
             },
             "line": {
              "color": "#000039"
             }
            },
            "type": "table"
           }
          ],
          "waterfall": [
           {
            "connector": {
             "line": {
              "color": "#000036",
              "width": 2
             }
            },
            "decreasing": {
             "marker": {
              "color": "#000033"
             }
            },
            "increasing": {
             "marker": {
              "color": "#000032"
             }
            },
            "totals": {
             "marker": {
              "color": "#000034"
             }
            },
            "type": "waterfall"
           }
          ]
         },
         "layout": {
          "coloraxis": {
           "colorscale": [
            [
             0,
             "#000011"
            ],
            [
             0.1111111111111111,
             "#000012"
            ],
            [
             0.2222222222222222,
             "#000013"
            ],
            [
             0.3333333333333333,
             "#000014"
            ],
            [
             0.4444444444444444,
             "#000015"
            ],
            [
             0.5555555555555556,
             "#000016"
            ],
            [
             0.6666666666666666,
             "#000017"
            ],
            [
             0.7777777777777778,
             "#000018"
            ],
            [
             0.8888888888888888,
             "#000019"
            ],
            [
             1,
             "#000020"
            ]
           ]
          },
          "colorscale": {
           "diverging": [
            [
             0,
             "#000021"
            ],
            [
             0.1,
             "#000022"
            ],
            [
             0.2,
             "#000023"
            ],
            [
             0.3,
             "#000024"
            ],
            [
             0.4,
             "#000025"
            ],
            [
             0.5,
             "#000026"
            ],
            [
             0.6,
             "#000027"
            ],
            [
             0.7,
             "#000028"
            ],
            [
             0.8,
             "#000029"
            ],
            [
             0.9,
             "#000030"
            ],
            [
             1,
             "#000031"
            ]
           ],
           "sequential": [
            [
             0,
             "#000011"
            ],
            [
             0.1111111111111111,
             "#000012"
            ],
            [
             0.2222222222222222,
             "#000013"
            ],
            [
             0.3333333333333333,
             "#000014"
            ],
            [
             0.4444444444444444,
             "#000015"
            ],
            [
             0.5555555555555556,
             "#000016"
            ],
            [
             0.6666666666666666,
             "#000017"
            ],
            [
             0.7777777777777778,
             "#000018"
            ],
            [
             0.8888888888888888,
             "#000019"
            ],
            [
             1,
             "#000020"
            ]
           ],
           "sequentialminus": [
            [
             0,
             "#000011"
            ],
            [
             0.1111111111111111,
             "#000012"
            ],
            [
             0.2222222222222222,
             "#000013"
            ],
            [
             0.3333333333333333,
             "#000014"
            ],
            [
             0.4444444444444444,
             "#000015"
            ],
            [
             0.5555555555555556,
             "#000016"
            ],
            [
             0.6666666666666666,
             "#000017"
            ],
            [
             0.7777777777777778,
             "#000018"
            ],
            [
             0.8888888888888888,
             "#000019"
            ],
            [
             1,
             "#000020"
            ]
           ]
          },
          "colorway": [
           "#000001",
           "#000002",
           "#000003",
           "#000004",
           "#000005",
           "#000006",
           "#000007",
           "#000008",
           "#000009",
           "#000010"
          ]
         }
        },
        "title": {
         "font": {
          "color": "white",
          "family": "Roboto, sans-serif",
          "size": 23
         },
         "text": "ATTACKING EFFICIENCY",
         "x": 0.5,
         "xanchor": "center",
         "y": 0.98,
         "yanchor": "top"
        },
        "width": 625,
        "xaxis": {
         "gridcolor": "rgba(0,0,0,0)",
         "linecolor": "white",
         "linewidth": 2,
         "range": [
          5,
          20
         ],
         "showline": true,
         "tickfont": {
          "color": "white",
          "size": 15
         },
         "title": {
          "font": {
           "size": 25
          },
          "text": "CONVERSION RATE (%)"
         }
        },
        "yaxis": {
         "gridcolor": "rgba(0,0,0,0)",
         "linecolor": "white",
         "linewidth": 2,
         "range": [
          7,
          21
         ],
         "showline": true,
         "tickfont": {
          "color": "white",
          "size": 15
         },
         "title": {
          "font": {
           "size": 25
          },
          "text": "SHOTS PER GAME"
         }
        }
       }
      }
     },
     "metadata": {},
     "output_type": "display_data"
    }
   ],
   "source": [
    "create_FM_team_scatter_chart(filt_attacking_efficiency_chart, 'ATTACKING EFFICIENCY', \"AC Milan\", \n",
    "                             'CONVERSION RATE (%)', 'SHOTS PER GAME', 0.7, 5, 20, 7, 21, \n",
    "                                                        \"Passive Shooting<br>Wasteful Shooting\", \n",
    "                                                        \"Passive Shooting<br>Clinical Shooting\",\n",
    "                                                        \"Aggressive Shooting<br>Wasteful Shooting\",\n",
    "                                                        \"Aggressive Shooting<br>Clinical Shooting\",\n",
    "                                                        \"red\", \"orange\", \"orange\", \"green\")\n"
   ]
  },
  {
   "cell_type": "code",
   "execution_count": 39,
   "metadata": {},
   "outputs": [],
   "source": [
    "team_attacking['GOALS PER GAME'] = team_attacking['GOALS_SCORED']/team_attacking['MATCHES_PLAYED']\n",
    "team_attacking['NPXG PER GAME'] = team_attacking['NPXG']/team_attacking['MATCHES_PLAYED']"
   ]
  },
  {
   "cell_type": "code",
   "execution_count": 40,
   "metadata": {},
   "outputs": [],
   "source": [
    "scoring_chart = team_attacking[['SEASON', 'COMPETITION_ACRONYM', 'TEAM_NAME', 'TEAM_LOGO_URL',\n",
    "                                            'GOALS PER GAME', 'NPXG PER GAME']]"
   ]
  },
  {
   "cell_type": "code",
   "execution_count": 41,
   "metadata": {},
   "outputs": [],
   "source": [
    "create_table_query = \"\"\"\n",
    "CREATE TABLE IF NOT EXISTS TEAM_SCORING_CHART (\n",
    "    SEASON INT,\n",
    "    COMPETITION_ACRONYM VARCHAR(255),\n",
    "    TEAM_NAME VARCHAR(255),\n",
    "    TEAM_LOGO_URL VARCHAR(255),\n",
    "    GOALS_PER_GAME FLOAT,\n",
    "    NPXG_PER_GAME FLOAT,\n",
    "    PRIMARY KEY (SEASON, COMPETITION_ACRONYM, TEAM_NAME)\n",
    ");\n",
    "\"\"\""
   ]
  },
  {
   "cell_type": "code",
   "execution_count": 42,
   "metadata": {},
   "outputs": [
    {
     "data": {
      "text/plain": [
       "<snowflake.connector.cursor.SnowflakeCursor at 0x196ad0e9290>"
      ]
     },
     "execution_count": 42,
     "metadata": {},
     "output_type": "execute_result"
    }
   ],
   "source": [
    "cur.execute(create_table_query)"
   ]
  },
  {
   "cell_type": "code",
   "execution_count": 43,
   "metadata": {},
   "outputs": [],
   "source": [
    "scoring_chart.columns = scoring_chart.columns.str.replace(\" \", \"_\")"
   ]
  },
  {
   "cell_type": "code",
   "execution_count": 44,
   "metadata": {},
   "outputs": [
    {
     "name": "stdout",
     "output_type": "stream",
     "text": [
      "Upsert completed. 292 rows processed.\n"
     ]
    }
   ],
   "source": [
    "upsert_to_snowflake(\"TEAM_SCORING_CHART\", scoring_chart, ['SEASON', 'COMPETITION_ACRONYM', 'TEAM_NAME'])"
   ]
  },
  {
   "cell_type": "code",
   "execution_count": 45,
   "metadata": {},
   "outputs": [],
   "source": [
    "scoring_chart = fetch_data(cursor, 'SELECT * FROM GEGENSTATS.RADAR_CHARTS.TEAM_SCORING_CHART')"
   ]
  },
  {
   "cell_type": "code",
   "execution_count": 46,
   "metadata": {},
   "outputs": [],
   "source": [
    "scoring_chart.rename(columns={'GOALS_PER_GAME':'GOALS PER GAME','NPXG_PER_GAME':'NPXG PER GAME'}, inplace=True)"
   ]
  },
  {
   "cell_type": "code",
   "execution_count": 47,
   "metadata": {},
   "outputs": [],
   "source": [
    "filt_scoring_chart = scoring_chart[scoring_chart['SEASON'] == season_selected]\n",
    "filt_scoring_chart = filt_scoring_chart[filt_scoring_chart['COMPETITION_ACRONYM'] == league_selected]"
   ]
  },
  {
   "cell_type": "code",
   "execution_count": 48,
   "metadata": {},
   "outputs": [
    {
     "data": {
      "application/vnd.plotly.v1+json": {
       "config": {
        "plotlyServerURL": "https://plotly.com"
       },
       "data": [
        {
         "hoverinfo": "text",
         "marker": {
          "opacity": 0
         },
         "mode": "markers",
         "text": "Arsenal",
         "type": "scatter",
         "x": [
          1.975588235
         ],
         "y": [
          2.411764706
         ]
        },
        {
         "hoverinfo": "text",
         "marker": {
          "opacity": 0
         },
         "mode": "markers",
         "text": "Aston Villa",
         "type": "scatter",
         "x": [
          1.776176471
         ],
         "y": [
          2.088235294
         ]
        },
        {
         "hoverinfo": "text",
         "marker": {
          "opacity": 0
         },
         "mode": "markers",
         "text": "Bournemouth",
         "type": "scatter",
         "x": [
          1.630882353
         ],
         "y": [
          1.441176471
         ]
        },
        {
         "hoverinfo": "text",
         "marker": {
          "opacity": 0
         },
         "mode": "markers",
         "text": "Brentford",
         "type": "scatter",
         "x": [
          1.665
         ],
         "y": [
          1.529411765
         ]
        },
        {
         "hoverinfo": "text",
         "marker": {
          "opacity": 0
         },
         "mode": "markers",
         "text": "Brighton",
         "type": "scatter",
         "x": [
          1.481818182
         ],
         "y": [
          1.575757576
         ]
        },
        {
         "hoverinfo": "text",
         "marker": {
          "opacity": 0
         },
         "mode": "markers",
         "text": "Burnley",
         "type": "scatter",
         "x": [
          1.079411765
         ],
         "y": [
          1.088235294
         ]
        },
        {
         "hoverinfo": "text",
         "marker": {
          "opacity": 0
         },
         "mode": "markers",
         "text": "Chelsea",
         "type": "scatter",
         "x": [
          1.8184375
         ],
         "y": [
          1.90625
         ]
        },
        {
         "hoverinfo": "text",
         "marker": {
          "opacity": 0
         },
         "mode": "markers",
         "text": "Crystal Palace",
         "type": "scatter",
         "x": [
          1.265294118
         ],
         "y": [
          1.294117647
         ]
        },
        {
         "hoverinfo": "text",
         "marker": {
          "opacity": 0
         },
         "mode": "markers",
         "text": "Everton",
         "type": "scatter",
         "x": [
          1.597058824
         ],
         "y": [
          1.058823529
         ]
        },
        {
         "hoverinfo": "text",
         "marker": {
          "opacity": 0
         },
         "mode": "markers",
         "text": "Fulham",
         "type": "scatter",
         "x": [
          1.389117647
         ],
         "y": [
          1.470588235
         ]
        },
        {
         "hoverinfo": "text",
         "marker": {
          "opacity": 0
         },
         "mode": "markers",
         "text": "Liverpool",
         "type": "scatter",
         "x": [
          2.192352941
         ],
         "y": [
          2.205882353
         ]
        },
        {
         "hoverinfo": "text",
         "marker": {
          "opacity": 0
         },
         "mode": "markers",
         "text": "Luton Town",
         "type": "scatter",
         "x": [
          1.243235294
         ],
         "y": [
          1.382352941
         ]
        },
        {
         "hoverinfo": "text",
         "marker": {
          "opacity": 0
         },
         "mode": "markers",
         "text": "Manchester City",
         "type": "scatter",
         "x": [
          2.162121212
         ],
         "y": [
          2.424242424
         ]
        },
        {
         "hoverinfo": "text",
         "marker": {
          "opacity": 0
         },
         "mode": "markers",
         "text": "Manchester Utd",
         "type": "scatter",
         "x": [
          1.470606061
         ],
         "y": [
          1.545454545
         ]
        },
        {
         "hoverinfo": "text",
         "marker": {
          "opacity": 0
         },
         "mode": "markers",
         "text": "Newcastle Utd",
         "type": "scatter",
         "x": [
          1.926666667
         ],
         "y": [
          2.090909091
         ]
        },
        {
         "hoverinfo": "text",
         "marker": {
          "opacity": 0
         },
         "mode": "markers",
         "text": "Nott'ham Forest",
         "type": "scatter",
         "x": [
          1.272352941
         ],
         "y": [
          1.235294118
         ]
        },
        {
         "hoverinfo": "text",
         "marker": {
          "opacity": 0
         },
         "mode": "markers",
         "text": "Sheffield Utd",
         "type": "scatter",
         "x": [
          0.9641176471
         ],
         "y": [
          0.9705882353
         ]
        },
        {
         "hoverinfo": "text",
         "marker": {
          "opacity": 0
         },
         "mode": "markers",
         "text": "Tottenham",
         "type": "scatter",
         "x": [
          1.859375
         ],
         "y": [
          2.03125
         ]
        },
        {
         "hoverinfo": "text",
         "marker": {
          "opacity": 0
         },
         "mode": "markers",
         "text": "West Ham",
         "type": "scatter",
         "x": [
          1.326176471
         ],
         "y": [
          1.588235294
         ]
        },
        {
         "hoverinfo": "text",
         "marker": {
          "opacity": 0
         },
         "mode": "markers",
         "text": "Wolves",
         "type": "scatter",
         "x": [
          1.289117647
         ],
         "y": [
          1.352941176
         ]
        }
       ],
       "layout": {
        "annotations": [
         {
          "align": "left",
          "font": {
           "color": "red",
           "family": "Roboto, sans-serif",
           "size": 15
          },
          "showarrow": false,
          "text": "Low Scoring<br>Low NPxG",
          "x": 0,
          "xref": "paper",
          "y": 0,
          "yref": "paper"
         },
         {
          "align": "left",
          "font": {
           "color": "orange",
           "family": "Roboto, sans-serif",
           "size": 15
          },
          "showarrow": false,
          "text": "High Scoring<br>Low NPxG",
          "x": 0,
          "xref": "paper",
          "y": 1,
          "yref": "paper"
         },
         {
          "align": "right",
          "font": {
           "color": "green",
           "family": "Roboto, sans-serif",
           "size": 15
          },
          "showarrow": false,
          "text": "High Scoring<br>High NPxG",
          "x": 1,
          "xref": "paper",
          "y": 1,
          "yref": "paper"
         },
         {
          "align": "right",
          "font": {
           "color": "orange",
           "family": "Roboto, sans-serif",
           "size": 15
          },
          "showarrow": false,
          "text": "Low Scoring<br>High NPxG",
          "x": 1,
          "xref": "paper",
          "y": 0,
          "yref": "paper"
         }
        ],
        "font": {
         "color": "white",
         "family": "Roboto, sans-serif",
         "size": 25
        },
        "height": 625,
        "hoverlabel": {
         "bgcolor": "rgba(20, 20, 20, 0.8)",
         "font": {
          "family": "Roboto, sans-serif"
         }
        },
        "images": [
         {
          "layer": "above",
          "opacity": 1,
          "sizex": 0.225,
          "sizey": 0.225,
          "sizing": "contain",
          "source": "https://i.imgur.com/SURo5sj.png",
          "x": 1.975588235,
          "xanchor": "center",
          "xref": "x",
          "y": 2.411764706,
          "yanchor": "middle",
          "yref": "y"
         },
         {
          "layer": "above",
          "opacity": 0.35,
          "sizex": 0.125,
          "sizey": 0.125,
          "sizing": "contain",
          "source": "https://i.imgur.com/M4mwH1X.png",
          "x": 1.776176471,
          "xanchor": "center",
          "xref": "x",
          "y": 2.088235294,
          "yanchor": "middle",
          "yref": "y"
         },
         {
          "layer": "above",
          "opacity": 0.35,
          "sizex": 0.125,
          "sizey": 0.125,
          "sizing": "contain",
          "source": "https://i.imgur.com/0F6UIO4.png",
          "x": 1.630882353,
          "xanchor": "center",
          "xref": "x",
          "y": 1.441176471,
          "yanchor": "middle",
          "yref": "y"
         },
         {
          "layer": "above",
          "opacity": 0.35,
          "sizex": 0.125,
          "sizey": 0.125,
          "sizing": "contain",
          "source": "https://i.imgur.com/MOhGOQ4.png",
          "x": 1.665,
          "xanchor": "center",
          "xref": "x",
          "y": 1.529411765,
          "yanchor": "middle",
          "yref": "y"
         },
         {
          "layer": "above",
          "opacity": 0.35,
          "sizex": 0.125,
          "sizey": 0.125,
          "sizing": "contain",
          "source": "https://i.imgur.com/EMCwD3X.png",
          "x": 1.481818182,
          "xanchor": "center",
          "xref": "x",
          "y": 1.575757576,
          "yanchor": "middle",
          "yref": "y"
         },
         {
          "layer": "above",
          "opacity": 0.35,
          "sizex": 0.125,
          "sizey": 0.125,
          "sizing": "contain",
          "source": "https://i.imgur.com/6IDi9XJ.png",
          "x": 1.079411765,
          "xanchor": "center",
          "xref": "x",
          "y": 1.088235294,
          "yanchor": "middle",
          "yref": "y"
         },
         {
          "layer": "above",
          "opacity": 0.35,
          "sizex": 0.125,
          "sizey": 0.125,
          "sizing": "contain",
          "source": "https://i.imgur.com/6F7h3UR.png",
          "x": 1.8184375,
          "xanchor": "center",
          "xref": "x",
          "y": 1.90625,
          "yanchor": "middle",
          "yref": "y"
         },
         {
          "layer": "above",
          "opacity": 0.35,
          "sizex": 0.125,
          "sizey": 0.125,
          "sizing": "contain",
          "source": "https://i.imgur.com/LPhzr0K.png",
          "x": 1.265294118,
          "xanchor": "center",
          "xref": "x",
          "y": 1.294117647,
          "yanchor": "middle",
          "yref": "y"
         },
         {
          "layer": "above",
          "opacity": 0.35,
          "sizex": 0.125,
          "sizey": 0.125,
          "sizing": "contain",
          "source": "https://i.imgur.com/Dgei0uj.png",
          "x": 1.597058824,
          "xanchor": "center",
          "xref": "x",
          "y": 1.058823529,
          "yanchor": "middle",
          "yref": "y"
         },
         {
          "layer": "above",
          "opacity": 0.35,
          "sizex": 0.125,
          "sizey": 0.125,
          "sizing": "contain",
          "source": "https://i.imgur.com/2zggSrF.png",
          "x": 1.389117647,
          "xanchor": "center",
          "xref": "x",
          "y": 1.470588235,
          "yanchor": "middle",
          "yref": "y"
         },
         {
          "layer": "above",
          "opacity": 0.35,
          "sizex": 0.125,
          "sizey": 0.125,
          "sizing": "contain",
          "source": "https://i.imgur.com/fs7VK9G.png",
          "x": 2.192352941,
          "xanchor": "center",
          "xref": "x",
          "y": 2.205882353,
          "yanchor": "middle",
          "yref": "y"
         },
         {
          "layer": "above",
          "opacity": 0.35,
          "sizex": 0.125,
          "sizey": 0.125,
          "sizing": "contain",
          "source": "https://i.imgur.com/vHHqKJX.png",
          "x": 1.243235294,
          "xanchor": "center",
          "xref": "x",
          "y": 1.382352941,
          "yanchor": "middle",
          "yref": "y"
         },
         {
          "layer": "above",
          "opacity": 0.35,
          "sizex": 0.125,
          "sizey": 0.125,
          "sizing": "contain",
          "source": "https://i.imgur.com/FF8z7uZ.png",
          "x": 2.162121212,
          "xanchor": "center",
          "xref": "x",
          "y": 2.424242424,
          "yanchor": "middle",
          "yref": "y"
         },
         {
          "layer": "above",
          "opacity": 0.35,
          "sizex": 0.125,
          "sizey": 0.125,
          "sizing": "contain",
          "source": "https://i.imgur.com/z47emBQ.png",
          "x": 1.470606061,
          "xanchor": "center",
          "xref": "x",
          "y": 1.545454545,
          "yanchor": "middle",
          "yref": "y"
         },
         {
          "layer": "above",
          "opacity": 0.35,
          "sizex": 0.125,
          "sizey": 0.125,
          "sizing": "contain",
          "source": "https://i.imgur.com/3kOLokZ.png",
          "x": 1.926666667,
          "xanchor": "center",
          "xref": "x",
          "y": 2.090909091,
          "yanchor": "middle",
          "yref": "y"
         },
         {
          "layer": "above",
          "opacity": 0.35,
          "sizex": 0.125,
          "sizey": 0.125,
          "sizing": "contain",
          "source": "https://i.imgur.com/z4Tl9Zu.png",
          "x": 1.272352941,
          "xanchor": "center",
          "xref": "x",
          "y": 1.235294118,
          "yanchor": "middle",
          "yref": "y"
         },
         {
          "layer": "above",
          "opacity": 0.35,
          "sizex": 0.125,
          "sizey": 0.125,
          "sizing": "contain",
          "source": "https://i.imgur.com/eeBetFN.png",
          "x": 0.9641176471,
          "xanchor": "center",
          "xref": "x",
          "y": 0.9705882353,
          "yanchor": "middle",
          "yref": "y"
         },
         {
          "layer": "above",
          "opacity": 0.35,
          "sizex": 0.125,
          "sizey": 0.125,
          "sizing": "contain",
          "source": "https://i.imgur.com/fJ7rUWW.png",
          "x": 1.859375,
          "xanchor": "center",
          "xref": "x",
          "y": 2.03125,
          "yanchor": "middle",
          "yref": "y"
         },
         {
          "layer": "above",
          "opacity": 0.35,
          "sizex": 0.125,
          "sizey": 0.125,
          "sizing": "contain",
          "source": "https://i.imgur.com/9BQHJRl.png",
          "x": 1.326176471,
          "xanchor": "center",
          "xref": "x",
          "y": 1.588235294,
          "yanchor": "middle",
          "yref": "y"
         },
         {
          "layer": "above",
          "opacity": 0.35,
          "sizex": 0.125,
          "sizey": 0.125,
          "sizing": "contain",
          "source": "https://i.imgur.com/6azSF88.png",
          "x": 1.289117647,
          "xanchor": "center",
          "xref": "x",
          "y": 1.352941176,
          "yanchor": "middle",
          "yref": "y"
         }
        ],
        "margin": {
         "b": 10,
         "l": 10,
         "r": 30,
         "t": 50
        },
        "paper_bgcolor": "rgb(70, 70, 70)",
        "plot_bgcolor": "rgb(70, 70, 70)",
        "shapes": [
         {
          "layer": "below",
          "line": {
           "color": "White",
           "width": 3
          },
          "type": "line",
          "x0": 1.569245348805,
          "x1": 1.569245348805,
          "y0": 0.5,
          "y1": 3.1
         },
         {
          "layer": "below",
          "line": {
           "color": "White",
           "width": 3
          },
          "type": "line",
          "x0": 0.5,
          "x1": 3.1,
          "y0": 1.634575534715,
          "y1": 1.634575534715
         }
        ],
        "showlegend": false,
        "template": {
         "data": {
          "candlestick": [
           {
            "decreasing": {
             "line": {
              "color": "#000033"
             }
            },
            "increasing": {
             "line": {
              "color": "#000032"
             }
            },
            "type": "candlestick"
           }
          ],
          "contour": [
           {
            "colorscale": [
             [
              0,
              "#000011"
             ],
             [
              0.1111111111111111,
              "#000012"
             ],
             [
              0.2222222222222222,
              "#000013"
             ],
             [
              0.3333333333333333,
              "#000014"
             ],
             [
              0.4444444444444444,
              "#000015"
             ],
             [
              0.5555555555555556,
              "#000016"
             ],
             [
              0.6666666666666666,
              "#000017"
             ],
             [
              0.7777777777777778,
              "#000018"
             ],
             [
              0.8888888888888888,
              "#000019"
             ],
             [
              1,
              "#000020"
             ]
            ],
            "type": "contour"
           }
          ],
          "contourcarpet": [
           {
            "colorscale": [
             [
              0,
              "#000011"
             ],
             [
              0.1111111111111111,
              "#000012"
             ],
             [
              0.2222222222222222,
              "#000013"
             ],
             [
              0.3333333333333333,
              "#000014"
             ],
             [
              0.4444444444444444,
              "#000015"
             ],
             [
              0.5555555555555556,
              "#000016"
             ],
             [
              0.6666666666666666,
              "#000017"
             ],
             [
              0.7777777777777778,
              "#000018"
             ],
             [
              0.8888888888888888,
              "#000019"
             ],
             [
              1,
              "#000020"
             ]
            ],
            "type": "contourcarpet"
           }
          ],
          "heatmap": [
           {
            "colorscale": [
             [
              0,
              "#000011"
             ],
             [
              0.1111111111111111,
              "#000012"
             ],
             [
              0.2222222222222222,
              "#000013"
             ],
             [
              0.3333333333333333,
              "#000014"
             ],
             [
              0.4444444444444444,
              "#000015"
             ],
             [
              0.5555555555555556,
              "#000016"
             ],
             [
              0.6666666666666666,
              "#000017"
             ],
             [
              0.7777777777777778,
              "#000018"
             ],
             [
              0.8888888888888888,
              "#000019"
             ],
             [
              1,
              "#000020"
             ]
            ],
            "type": "heatmap"
           }
          ],
          "histogram2d": [
           {
            "colorscale": [
             [
              0,
              "#000011"
             ],
             [
              0.1111111111111111,
              "#000012"
             ],
             [
              0.2222222222222222,
              "#000013"
             ],
             [
              0.3333333333333333,
              "#000014"
             ],
             [
              0.4444444444444444,
              "#000015"
             ],
             [
              0.5555555555555556,
              "#000016"
             ],
             [
              0.6666666666666666,
              "#000017"
             ],
             [
              0.7777777777777778,
              "#000018"
             ],
             [
              0.8888888888888888,
              "#000019"
             ],
             [
              1,
              "#000020"
             ]
            ],
            "type": "histogram2d"
           }
          ],
          "icicle": [
           {
            "textfont": {
             "color": "white"
            },
            "type": "icicle"
           }
          ],
          "sankey": [
           {
            "textfont": {
             "color": "#000036"
            },
            "type": "sankey"
           }
          ],
          "scatter": [
           {
            "marker": {
             "line": {
              "width": 0
             }
            },
            "type": "scatter"
           }
          ],
          "table": [
           {
            "cells": {
             "fill": {
              "color": "#000038"
             },
             "font": {
              "color": "#000037"
             },
             "line": {
              "color": "#000039"
             }
            },
            "header": {
             "fill": {
              "color": "#000040"
             },
             "font": {
              "color": "#000036"
             },
             "line": {
              "color": "#000039"
             }
            },
            "type": "table"
           }
          ],
          "waterfall": [
           {
            "connector": {
             "line": {
              "color": "#000036",
              "width": 2
             }
            },
            "decreasing": {
             "marker": {
              "color": "#000033"
             }
            },
            "increasing": {
             "marker": {
              "color": "#000032"
             }
            },
            "totals": {
             "marker": {
              "color": "#000034"
             }
            },
            "type": "waterfall"
           }
          ]
         },
         "layout": {
          "coloraxis": {
           "colorscale": [
            [
             0,
             "#000011"
            ],
            [
             0.1111111111111111,
             "#000012"
            ],
            [
             0.2222222222222222,
             "#000013"
            ],
            [
             0.3333333333333333,
             "#000014"
            ],
            [
             0.4444444444444444,
             "#000015"
            ],
            [
             0.5555555555555556,
             "#000016"
            ],
            [
             0.6666666666666666,
             "#000017"
            ],
            [
             0.7777777777777778,
             "#000018"
            ],
            [
             0.8888888888888888,
             "#000019"
            ],
            [
             1,
             "#000020"
            ]
           ]
          },
          "colorscale": {
           "diverging": [
            [
             0,
             "#000021"
            ],
            [
             0.1,
             "#000022"
            ],
            [
             0.2,
             "#000023"
            ],
            [
             0.3,
             "#000024"
            ],
            [
             0.4,
             "#000025"
            ],
            [
             0.5,
             "#000026"
            ],
            [
             0.6,
             "#000027"
            ],
            [
             0.7,
             "#000028"
            ],
            [
             0.8,
             "#000029"
            ],
            [
             0.9,
             "#000030"
            ],
            [
             1,
             "#000031"
            ]
           ],
           "sequential": [
            [
             0,
             "#000011"
            ],
            [
             0.1111111111111111,
             "#000012"
            ],
            [
             0.2222222222222222,
             "#000013"
            ],
            [
             0.3333333333333333,
             "#000014"
            ],
            [
             0.4444444444444444,
             "#000015"
            ],
            [
             0.5555555555555556,
             "#000016"
            ],
            [
             0.6666666666666666,
             "#000017"
            ],
            [
             0.7777777777777778,
             "#000018"
            ],
            [
             0.8888888888888888,
             "#000019"
            ],
            [
             1,
             "#000020"
            ]
           ],
           "sequentialminus": [
            [
             0,
             "#000011"
            ],
            [
             0.1111111111111111,
             "#000012"
            ],
            [
             0.2222222222222222,
             "#000013"
            ],
            [
             0.3333333333333333,
             "#000014"
            ],
            [
             0.4444444444444444,
             "#000015"
            ],
            [
             0.5555555555555556,
             "#000016"
            ],
            [
             0.6666666666666666,
             "#000017"
            ],
            [
             0.7777777777777778,
             "#000018"
            ],
            [
             0.8888888888888888,
             "#000019"
            ],
            [
             1,
             "#000020"
            ]
           ]
          },
          "colorway": [
           "#000001",
           "#000002",
           "#000003",
           "#000004",
           "#000005",
           "#000006",
           "#000007",
           "#000008",
           "#000009",
           "#000010"
          ]
         }
        },
        "title": {
         "font": {
          "color": "white",
          "family": "Roboto, sans-serif",
          "size": 23
         },
         "text": "SCORING",
         "x": 0.5,
         "xanchor": "center",
         "y": 0.98,
         "yanchor": "top"
        },
        "width": 625,
        "xaxis": {
         "gridcolor": "rgba(0,0,0,0)",
         "linecolor": "white",
         "linewidth": 2,
         "range": [
          0.5,
          3.1
         ],
         "showline": true,
         "tickfont": {
          "color": "white",
          "size": 15
         },
         "title": {
          "font": {
           "size": 25
          },
          "text": "NPXG PER GAME"
         }
        },
        "yaxis": {
         "gridcolor": "rgba(0,0,0,0)",
         "linecolor": "white",
         "linewidth": 2,
         "range": [
          0.5,
          3.1
         ],
         "showline": true,
         "tickfont": {
          "color": "white",
          "size": 15
         },
         "title": {
          "font": {
           "size": 25
          },
          "text": "GOALS PER GAME"
         }
        }
       }
      }
     },
     "metadata": {},
     "output_type": "display_data"
    }
   ],
   "source": [
    "create_FM_team_scatter_chart(filt_scoring_chart, 'SCORING', \"Arsenal\", \n",
    "                             'NPXG PER GAME', 'GOALS PER GAME', 0.125, 0.5, 3.1, 0.5, 3.1, \n",
    "                                                        \"Low Scoring<br>Low NPxG\", \n",
    "                                                        \"Low Scoring<br>High NPxG\",\n",
    "                                                        \"High Scoring<br>Low NPxG\",\n",
    "                                                        \"High Scoring<br>High NPxG\",\n",
    "                                                        \"red\", \"orange\", \"orange\", \"green\")\n"
   ]
  },
  {
   "cell_type": "code",
   "execution_count": 49,
   "metadata": {},
   "outputs": [
    {
     "data": {
      "text/html": [
       "<div>\n",
       "<style scoped>\n",
       "    .dataframe tbody tr th:only-of-type {\n",
       "        vertical-align: middle;\n",
       "    }\n",
       "\n",
       "    .dataframe tbody tr th {\n",
       "        vertical-align: top;\n",
       "    }\n",
       "\n",
       "    .dataframe thead th {\n",
       "        text-align: right;\n",
       "    }\n",
       "</style>\n",
       "<table border=\"1\" class=\"dataframe\">\n",
       "  <thead>\n",
       "    <tr style=\"text-align: right;\">\n",
       "      <th></th>\n",
       "      <th>TEAM_FBREF_ID</th>\n",
       "      <th>SEASON</th>\n",
       "      <th>COMPETITION</th>\n",
       "      <th>GOALS_SCORED</th>\n",
       "      <th>NPXG</th>\n",
       "      <th>XG</th>\n",
       "      <th>SHOTS</th>\n",
       "      <th>SHOTS_ON_TARGET</th>\n",
       "      <th>PASS_COMPLETED</th>\n",
       "      <th>PASS_ATTEMPTED</th>\n",
       "      <th>TAKEONS_ATTEMPTED</th>\n",
       "      <th>TAKEONS_COMPLETED</th>\n",
       "      <th>CROSSES_INTO_PA</th>\n",
       "      <th>FOULS_AGAINST</th>\n",
       "      <th>COMPETITION_ACRONYM</th>\n",
       "      <th>TEAM_NAME</th>\n",
       "      <th>TEAM_LOGO_URL</th>\n",
       "      <th>TEAM_WS_ID</th>\n",
       "      <th>MATCHES_PLAYED</th>\n",
       "      <th>TEAM_WINS</th>\n",
       "      <th>TEAM_DRAWS</th>\n",
       "      <th>TEAM_LOSSES</th>\n",
       "      <th>TEAM_PTS</th>\n",
       "      <th>TEAM_XPTS</th>\n",
       "      <th>SHOTS PER GAME</th>\n",
       "      <th>CONVERSION RATE (%)</th>\n",
       "      <th>GOALS PER GAME</th>\n",
       "      <th>NPXG PER GAME</th>\n",
       "    </tr>\n",
       "  </thead>\n",
       "  <tbody>\n",
       "    <tr>\n",
       "      <th>0</th>\n",
       "      <td>7a54bb4f</td>\n",
       "      <td>2223</td>\n",
       "      <td>FRA-Ligue 1</td>\n",
       "      <td>23</td>\n",
       "      <td>24.22</td>\n",
       "      <td>31.06</td>\n",
       "      <td>311</td>\n",
       "      <td>81</td>\n",
       "      <td>11216</td>\n",
       "      <td>15286</td>\n",
       "      <td>630</td>\n",
       "      <td>283</td>\n",
       "      <td>71</td>\n",
       "      <td>495</td>\n",
       "      <td>Ligue 1</td>\n",
       "      <td>Ajaccio</td>\n",
       "      <td>https://i.imgur.com/FSm4pRb.png</td>\n",
       "      <td>610</td>\n",
       "      <td>38</td>\n",
       "      <td>7</td>\n",
       "      <td>5</td>\n",
       "      <td>26</td>\n",
       "      <td>26</td>\n",
       "      <td>33.12</td>\n",
       "      <td>8.184211</td>\n",
       "      <td>0.073955</td>\n",
       "      <td>0.605263</td>\n",
       "      <td>0.637368</td>\n",
       "    </tr>\n",
       "    <tr>\n",
       "      <th>1</th>\n",
       "      <td>e2d8892c</td>\n",
       "      <td>2223</td>\n",
       "      <td>FRA-Ligue 1</td>\n",
       "      <td>89</td>\n",
       "      <td>81.59</td>\n",
       "      <td>86.15</td>\n",
       "      <td>562</td>\n",
       "      <td>242</td>\n",
       "      <td>23694</td>\n",
       "      <td>26476</td>\n",
       "      <td>976</td>\n",
       "      <td>454</td>\n",
       "      <td>46</td>\n",
       "      <td>416</td>\n",
       "      <td>Ligue 1</td>\n",
       "      <td>Paris S-G</td>\n",
       "      <td>https://i.imgur.com/kuN3QSp.png</td>\n",
       "      <td>304</td>\n",
       "      <td>38</td>\n",
       "      <td>27</td>\n",
       "      <td>4</td>\n",
       "      <td>7</td>\n",
       "      <td>85</td>\n",
       "      <td>74.01</td>\n",
       "      <td>14.789474</td>\n",
       "      <td>0.158363</td>\n",
       "      <td>2.342105</td>\n",
       "      <td>2.147105</td>\n",
       "    </tr>\n",
       "    <tr>\n",
       "      <th>2</th>\n",
       "      <td>d2c87802</td>\n",
       "      <td>2223</td>\n",
       "      <td>FRA-Ligue 1</td>\n",
       "      <td>52</td>\n",
       "      <td>42.79</td>\n",
       "      <td>47.35</td>\n",
       "      <td>397</td>\n",
       "      <td>149</td>\n",
       "      <td>14837</td>\n",
       "      <td>18087</td>\n",
       "      <td>916</td>\n",
       "      <td>406</td>\n",
       "      <td>38</td>\n",
       "      <td>501</td>\n",
       "      <td>Ligue 1</td>\n",
       "      <td>Lorient</td>\n",
       "      <td>https://i.imgur.com/9k1Kgp6.png</td>\n",
       "      <td>146</td>\n",
       "      <td>38</td>\n",
       "      <td>15</td>\n",
       "      <td>10</td>\n",
       "      <td>13</td>\n",
       "      <td>55</td>\n",
       "      <td>42.43</td>\n",
       "      <td>10.447368</td>\n",
       "      <td>0.130982</td>\n",
       "      <td>1.368421</td>\n",
       "      <td>1.126053</td>\n",
       "    </tr>\n",
       "    <tr>\n",
       "      <th>3</th>\n",
       "      <td>fb08dbb3</td>\n",
       "      <td>2223</td>\n",
       "      <td>FRA-Ligue 1</td>\n",
       "      <td>44</td>\n",
       "      <td>35.32</td>\n",
       "      <td>41.40</td>\n",
       "      <td>417</td>\n",
       "      <td>132</td>\n",
       "      <td>12486</td>\n",
       "      <td>16452</td>\n",
       "      <td>655</td>\n",
       "      <td>270</td>\n",
       "      <td>94</td>\n",
       "      <td>462</td>\n",
       "      <td>Ligue 1</td>\n",
       "      <td>Brest</td>\n",
       "      <td>https://i.imgur.com/klKUp8n.png</td>\n",
       "      <td>2332</td>\n",
       "      <td>38</td>\n",
       "      <td>11</td>\n",
       "      <td>11</td>\n",
       "      <td>16</td>\n",
       "      <td>44</td>\n",
       "      <td>43.52</td>\n",
       "      <td>10.973684</td>\n",
       "      <td>0.105516</td>\n",
       "      <td>1.157895</td>\n",
       "      <td>0.929474</td>\n",
       "    </tr>\n",
       "    <tr>\n",
       "      <th>4</th>\n",
       "      <td>7fdd64e0</td>\n",
       "      <td>2223</td>\n",
       "      <td>FRA-Ligue 1</td>\n",
       "      <td>45</td>\n",
       "      <td>53.34</td>\n",
       "      <td>59.52</td>\n",
       "      <td>516</td>\n",
       "      <td>165</td>\n",
       "      <td>13670</td>\n",
       "      <td>17565</td>\n",
       "      <td>800</td>\n",
       "      <td>347</td>\n",
       "      <td>87</td>\n",
       "      <td>423</td>\n",
       "      <td>Ligue 1</td>\n",
       "      <td>Reims</td>\n",
       "      <td>https://i.imgur.com/xULypbI.png</td>\n",
       "      <td>950</td>\n",
       "      <td>38</td>\n",
       "      <td>12</td>\n",
       "      <td>15</td>\n",
       "      <td>11</td>\n",
       "      <td>51</td>\n",
       "      <td>55.35</td>\n",
       "      <td>13.578947</td>\n",
       "      <td>0.087209</td>\n",
       "      <td>1.184211</td>\n",
       "      <td>1.403684</td>\n",
       "    </tr>\n",
       "  </tbody>\n",
       "</table>\n",
       "</div>"
      ],
      "text/plain": [
       "  TEAM_FBREF_ID  SEASON  COMPETITION  GOALS_SCORED   NPXG     XG  SHOTS  \\\n",
       "0      7a54bb4f    2223  FRA-Ligue 1            23  24.22  31.06    311   \n",
       "1      e2d8892c    2223  FRA-Ligue 1            89  81.59  86.15    562   \n",
       "2      d2c87802    2223  FRA-Ligue 1            52  42.79  47.35    397   \n",
       "3      fb08dbb3    2223  FRA-Ligue 1            44  35.32  41.40    417   \n",
       "4      7fdd64e0    2223  FRA-Ligue 1            45  53.34  59.52    516   \n",
       "\n",
       "   SHOTS_ON_TARGET  PASS_COMPLETED  PASS_ATTEMPTED  TAKEONS_ATTEMPTED  \\\n",
       "0               81           11216           15286                630   \n",
       "1              242           23694           26476                976   \n",
       "2              149           14837           18087                916   \n",
       "3              132           12486           16452                655   \n",
       "4              165           13670           17565                800   \n",
       "\n",
       "   TAKEONS_COMPLETED  CROSSES_INTO_PA  FOULS_AGAINST COMPETITION_ACRONYM  \\\n",
       "0                283               71            495             Ligue 1   \n",
       "1                454               46            416             Ligue 1   \n",
       "2                406               38            501             Ligue 1   \n",
       "3                270               94            462             Ligue 1   \n",
       "4                347               87            423             Ligue 1   \n",
       "\n",
       "   TEAM_NAME                    TEAM_LOGO_URL  TEAM_WS_ID  MATCHES_PLAYED  \\\n",
       "0    Ajaccio  https://i.imgur.com/FSm4pRb.png         610              38   \n",
       "1  Paris S-G  https://i.imgur.com/kuN3QSp.png         304              38   \n",
       "2    Lorient  https://i.imgur.com/9k1Kgp6.png         146              38   \n",
       "3      Brest  https://i.imgur.com/klKUp8n.png        2332              38   \n",
       "4      Reims  https://i.imgur.com/xULypbI.png         950              38   \n",
       "\n",
       "   TEAM_WINS  TEAM_DRAWS  TEAM_LOSSES  TEAM_PTS  TEAM_XPTS  SHOTS PER GAME  \\\n",
       "0          7           5           26        26      33.12        8.184211   \n",
       "1         27           4            7        85      74.01       14.789474   \n",
       "2         15          10           13        55      42.43       10.447368   \n",
       "3         11          11           16        44      43.52       10.973684   \n",
       "4         12          15           11        51      55.35       13.578947   \n",
       "\n",
       "   CONVERSION RATE (%)  GOALS PER GAME  NPXG PER GAME  \n",
       "0             0.073955        0.605263       0.637368  \n",
       "1             0.158363        2.342105       2.147105  \n",
       "2             0.130982        1.368421       1.126053  \n",
       "3             0.105516        1.157895       0.929474  \n",
       "4             0.087209        1.184211       1.403684  "
      ]
     },
     "execution_count": 49,
     "metadata": {},
     "output_type": "execute_result"
    }
   ],
   "source": [
    "team_attacking.head()"
   ]
  },
  {
   "cell_type": "code",
   "execution_count": 50,
   "metadata": {},
   "outputs": [],
   "source": [
    "team_attacking['SHOTS ON TARGET PER GAME'] = team_attacking['SHOTS_ON_TARGET']/team_attacking['MATCHES_PLAYED']\n",
    "team_attacking['XG PER SHOT'] = team_attacking['XG']/team_attacking['SHOTS']"
   ]
  },
  {
   "cell_type": "code",
   "execution_count": 51,
   "metadata": {},
   "outputs": [],
   "source": [
    "shooting_chart = team_attacking[['SEASON', 'COMPETITION_ACRONYM', 'TEAM_NAME', 'TEAM_LOGO_URL',\n",
    "                                            'SHOTS ON TARGET PER GAME', 'XG PER SHOT']]"
   ]
  },
  {
   "cell_type": "code",
   "execution_count": 52,
   "metadata": {},
   "outputs": [],
   "source": [
    "create_table_query = \"\"\"\n",
    "CREATE TABLE IF NOT EXISTS TEAM_SHOOTING_CHART (\n",
    "    SEASON INT,\n",
    "    COMPETITION_ACRONYM VARCHAR(255),\n",
    "    TEAM_NAME VARCHAR(255),\n",
    "    TEAM_LOGO_URL VARCHAR(255),\n",
    "    SHOTS_ON_TARGET_PER_GAME FLOAT,\n",
    "    XG_PER_SHOT FLOAT,\n",
    "    PRIMARY KEY (SEASON, COMPETITION_ACRONYM, TEAM_NAME)\n",
    ");\n",
    "\"\"\""
   ]
  },
  {
   "cell_type": "code",
   "execution_count": 53,
   "metadata": {},
   "outputs": [
    {
     "data": {
      "text/plain": [
       "<snowflake.connector.cursor.SnowflakeCursor at 0x196ad0e9290>"
      ]
     },
     "execution_count": 53,
     "metadata": {},
     "output_type": "execute_result"
    }
   ],
   "source": [
    "cur.execute(create_table_query)"
   ]
  },
  {
   "cell_type": "code",
   "execution_count": 54,
   "metadata": {},
   "outputs": [],
   "source": [
    "shooting_chart.columns = shooting_chart.columns.str.replace(\" \", \"_\")"
   ]
  },
  {
   "cell_type": "code",
   "execution_count": 55,
   "metadata": {},
   "outputs": [
    {
     "name": "stdout",
     "output_type": "stream",
     "text": [
      "Upsert completed. 292 rows processed.\n"
     ]
    }
   ],
   "source": [
    "upsert_to_snowflake(\"TEAM_SHOOTING_CHART\", shooting_chart, ['SEASON', 'COMPETITION_ACRONYM', 'TEAM_NAME'])"
   ]
  },
  {
   "cell_type": "code",
   "execution_count": 56,
   "metadata": {},
   "outputs": [],
   "source": [
    "shooting_chart = fetch_data(cursor, 'SELECT * FROM GEGENSTATS.RADAR_CHARTS.TEAM_SHOOTING_CHART')"
   ]
  },
  {
   "cell_type": "code",
   "execution_count": 57,
   "metadata": {},
   "outputs": [],
   "source": [
    "shooting_chart.rename(columns={'SHOTS_ON_TARGET_PER_GAME':'SHOTS ON TARGET PER GAME',\n",
    "                                'XG_PER_SHOT':'XG PER SHOT'}, inplace=True)"
   ]
  },
  {
   "cell_type": "code",
   "execution_count": 58,
   "metadata": {},
   "outputs": [],
   "source": [
    "filt_shooting_chart = shooting_chart[shooting_chart['SEASON'] == season_selected]\n",
    "filt_shooting_chart = filt_shooting_chart[filt_shooting_chart['COMPETITION_ACRONYM'] == league_selected]"
   ]
  },
  {
   "cell_type": "code",
   "execution_count": 59,
   "metadata": {},
   "outputs": [
    {
     "data": {
      "application/vnd.plotly.v1+json": {
       "config": {
        "plotlyServerURL": "https://plotly.com"
       },
       "data": [
        {
         "hoverinfo": "text",
         "marker": {
          "opacity": 0
         },
         "mode": "markers",
         "text": "Arsenal",
         "type": "scatter",
         "x": [
          0.1282842288
         ],
         "y": [
          5.529411765
         ]
        },
        {
         "hoverinfo": "text",
         "marker": {
          "opacity": 0
         },
         "mode": "markers",
         "text": "Aston Villa",
         "type": "scatter",
         "x": [
          0.1341014799
         ],
         "y": [
          5
         ]
        },
        {
         "hoverinfo": "text",
         "marker": {
          "opacity": 0
         },
         "mode": "markers",
         "text": "Bournemouth",
         "type": "scatter",
         "x": [
          0.1197717842
         ],
         "y": [
          4.647058824
         ]
        },
        {
         "hoverinfo": "text",
         "marker": {
          "opacity": 0
         },
         "mode": "markers",
         "text": "Brentford",
         "type": "scatter",
         "x": [
          0.1363425926
         ],
         "y": [
          4.235294118
         ]
        },
        {
         "hoverinfo": "text",
         "marker": {
          "opacity": 0
         },
         "mode": "markers",
         "text": "Brighton",
         "type": "scatter",
         "x": [
          0.1089049587
         ],
         "y": [
          5.515151515
         ]
        },
        {
         "hoverinfo": "text",
         "marker": {
          "opacity": 0
         },
         "mode": "markers",
         "text": "Burnley",
         "type": "scatter",
         "x": [
          0.1030458221
         ],
         "y": [
          3.529411765
         ]
        },
        {
         "hoverinfo": "text",
         "marker": {
          "opacity": 0
         },
         "mode": "markers",
         "text": "Chelsea",
         "type": "scatter",
         "x": [
          0.1554734411
         ],
         "y": [
          4.8125
         ]
        },
        {
         "hoverinfo": "text",
         "marker": {
          "opacity": 0
         },
         "mode": "markers",
         "text": "Crystal Palace",
         "type": "scatter",
         "x": [
          0.1175255102
         ],
         "y": [
          4
         ]
        },
        {
         "hoverinfo": "text",
         "marker": {
          "opacity": 0
         },
         "mode": "markers",
         "text": "Everton",
         "type": "scatter",
         "x": [
          0.1221444201
         ],
         "y": [
          4.147058824
         ]
        },
        {
         "hoverinfo": "text",
         "marker": {
          "opacity": 0
         },
         "mode": "markers",
         "text": "Fulham",
         "type": "scatter",
         "x": [
          0.106441048
         ],
         "y": [
          4.735294118
         ]
        },
        {
         "hoverinfo": "text",
         "marker": {
          "opacity": 0
         },
         "mode": "markers",
         "text": "Liverpool",
         "type": "scatter",
         "x": [
          0.1204572271
         ],
         "y": [
          6.558823529
         ]
        },
        {
         "hoverinfo": "text",
         "marker": {
          "opacity": 0
         },
         "mode": "markers",
         "text": "Luton Town",
         "type": "scatter",
         "x": [
          0.1186125654
         ],
         "y": [
          3.441176471
         ]
        },
        {
         "hoverinfo": "text",
         "marker": {
          "opacity": 0
         },
         "mode": "markers",
         "text": "Manchester City",
         "type": "scatter",
         "x": [
          0.1256953642
         ],
         "y": [
          6.818181818
         ]
        },
        {
         "hoverinfo": "text",
         "marker": {
          "opacity": 0
         },
         "mode": "markers",
         "text": "Manchester Utd",
         "type": "scatter",
         "x": [
          0.1153533191
         ],
         "y": [
          4.727272727
         ]
        },
        {
         "hoverinfo": "text",
         "marker": {
          "opacity": 0
         },
         "mode": "markers",
         "text": "Newcastle Utd",
         "type": "scatter",
         "x": [
          0.1531333333
         ],
         "y": [
          4.818181818
         ]
        },
        {
         "hoverinfo": "text",
         "marker": {
          "opacity": 0
         },
         "mode": "markers",
         "text": "Nott'ham Forest",
         "type": "scatter",
         "x": [
          0.1131619537
         ],
         "y": [
          3.735294118
         ]
        },
        {
         "hoverinfo": "text",
         "marker": {
          "opacity": 0
         },
         "mode": "markers",
         "text": "Sheffield Utd",
         "type": "scatter",
         "x": [
          0.1155806452
         ],
         "y": [
          3.147058824
         ]
        },
        {
         "hoverinfo": "text",
         "marker": {
          "opacity": 0
         },
         "mode": "markers",
         "text": "Tottenham",
         "type": "scatter",
         "x": [
          0.1232310838
         ],
         "y": [
          5.4375
         ]
        },
        {
         "hoverinfo": "text",
         "marker": {
          "opacity": 0
         },
         "mode": "markers",
         "text": "West Ham",
         "type": "scatter",
         "x": [
          0.1240862944
         ],
         "y": [
          3.705882353
         ]
        },
        {
         "hoverinfo": "text",
         "marker": {
          "opacity": 0
         },
         "mode": "markers",
         "text": "Wolves",
         "type": "scatter",
         "x": [
          0.1195918367
         ],
         "y": [
          4.029411765
         ]
        }
       ],
       "layout": {
        "annotations": [
         {
          "align": "left",
          "font": {
           "color": "red",
           "family": "Roboto, sans-serif",
           "size": 15
          },
          "showarrow": false,
          "text": "Passive Shooting<br>Wasteful Shooting",
          "x": 0,
          "xref": "paper",
          "y": 0,
          "yref": "paper"
         },
         {
          "align": "left",
          "font": {
           "color": "orange",
           "family": "Roboto, sans-serif",
           "size": 15
          },
          "showarrow": false,
          "text": "Aggressive Shooting<br>Wasteful Shooting",
          "x": 0,
          "xref": "paper",
          "y": 1,
          "yref": "paper"
         },
         {
          "align": "right",
          "font": {
           "color": "green",
           "family": "Roboto, sans-serif",
           "size": 15
          },
          "showarrow": false,
          "text": "Aggressive Shooting<br>Clinical Shooting",
          "x": 1,
          "xref": "paper",
          "y": 1,
          "yref": "paper"
         },
         {
          "align": "right",
          "font": {
           "color": "orange",
           "family": "Roboto, sans-serif",
           "size": 15
          },
          "showarrow": false,
          "text": "Passive Shooting<br>Clinical Shooting",
          "x": 1,
          "xref": "paper",
          "y": 0,
          "yref": "paper"
         }
        ],
        "font": {
         "color": "white",
         "family": "Roboto, sans-serif",
         "size": 25
        },
        "height": 625,
        "hoverlabel": {
         "bgcolor": "rgba(20, 20, 20, 0.8)",
         "font": {
          "family": "Roboto, sans-serif"
         }
        },
        "images": [
         {
          "layer": "above",
          "opacity": 0.35,
          "sizex": 0.25,
          "sizey": 0.25,
          "sizing": "contain",
          "source": "https://i.imgur.com/SURo5sj.png",
          "x": 0.1282842288,
          "xanchor": "center",
          "xref": "x",
          "y": 5.529411765,
          "yanchor": "middle",
          "yref": "y"
         },
         {
          "layer": "above",
          "opacity": 0.35,
          "sizex": 0.25,
          "sizey": 0.25,
          "sizing": "contain",
          "source": "https://i.imgur.com/M4mwH1X.png",
          "x": 0.1341014799,
          "xanchor": "center",
          "xref": "x",
          "y": 5,
          "yanchor": "middle",
          "yref": "y"
         },
         {
          "layer": "above",
          "opacity": 0.35,
          "sizex": 0.25,
          "sizey": 0.25,
          "sizing": "contain",
          "source": "https://i.imgur.com/0F6UIO4.png",
          "x": 0.1197717842,
          "xanchor": "center",
          "xref": "x",
          "y": 4.647058824,
          "yanchor": "middle",
          "yref": "y"
         },
         {
          "layer": "above",
          "opacity": 0.35,
          "sizex": 0.25,
          "sizey": 0.25,
          "sizing": "contain",
          "source": "https://i.imgur.com/MOhGOQ4.png",
          "x": 0.1363425926,
          "xanchor": "center",
          "xref": "x",
          "y": 4.235294118,
          "yanchor": "middle",
          "yref": "y"
         },
         {
          "layer": "above",
          "opacity": 0.35,
          "sizex": 0.25,
          "sizey": 0.25,
          "sizing": "contain",
          "source": "https://i.imgur.com/EMCwD3X.png",
          "x": 0.1089049587,
          "xanchor": "center",
          "xref": "x",
          "y": 5.515151515,
          "yanchor": "middle",
          "yref": "y"
         },
         {
          "layer": "above",
          "opacity": 0.35,
          "sizex": 0.25,
          "sizey": 0.25,
          "sizing": "contain",
          "source": "https://i.imgur.com/6IDi9XJ.png",
          "x": 0.1030458221,
          "xanchor": "center",
          "xref": "x",
          "y": 3.529411765,
          "yanchor": "middle",
          "yref": "y"
         },
         {
          "layer": "above",
          "opacity": 0.35,
          "sizex": 0.25,
          "sizey": 0.25,
          "sizing": "contain",
          "source": "https://i.imgur.com/6F7h3UR.png",
          "x": 0.1554734411,
          "xanchor": "center",
          "xref": "x",
          "y": 4.8125,
          "yanchor": "middle",
          "yref": "y"
         },
         {
          "layer": "above",
          "opacity": 0.35,
          "sizex": 0.25,
          "sizey": 0.25,
          "sizing": "contain",
          "source": "https://i.imgur.com/LPhzr0K.png",
          "x": 0.1175255102,
          "xanchor": "center",
          "xref": "x",
          "y": 4,
          "yanchor": "middle",
          "yref": "y"
         },
         {
          "layer": "above",
          "opacity": 0.35,
          "sizex": 0.25,
          "sizey": 0.25,
          "sizing": "contain",
          "source": "https://i.imgur.com/Dgei0uj.png",
          "x": 0.1221444201,
          "xanchor": "center",
          "xref": "x",
          "y": 4.147058824,
          "yanchor": "middle",
          "yref": "y"
         },
         {
          "layer": "above",
          "opacity": 0.35,
          "sizex": 0.25,
          "sizey": 0.25,
          "sizing": "contain",
          "source": "https://i.imgur.com/2zggSrF.png",
          "x": 0.106441048,
          "xanchor": "center",
          "xref": "x",
          "y": 4.735294118,
          "yanchor": "middle",
          "yref": "y"
         },
         {
          "layer": "above",
          "opacity": 0.35,
          "sizex": 0.25,
          "sizey": 0.25,
          "sizing": "contain",
          "source": "https://i.imgur.com/fs7VK9G.png",
          "x": 0.1204572271,
          "xanchor": "center",
          "xref": "x",
          "y": 6.558823529,
          "yanchor": "middle",
          "yref": "y"
         },
         {
          "layer": "above",
          "opacity": 0.35,
          "sizex": 0.25,
          "sizey": 0.25,
          "sizing": "contain",
          "source": "https://i.imgur.com/vHHqKJX.png",
          "x": 0.1186125654,
          "xanchor": "center",
          "xref": "x",
          "y": 3.441176471,
          "yanchor": "middle",
          "yref": "y"
         },
         {
          "layer": "above",
          "opacity": 0.35,
          "sizex": 0.25,
          "sizey": 0.25,
          "sizing": "contain",
          "source": "https://i.imgur.com/FF8z7uZ.png",
          "x": 0.1256953642,
          "xanchor": "center",
          "xref": "x",
          "y": 6.818181818,
          "yanchor": "middle",
          "yref": "y"
         },
         {
          "layer": "above",
          "opacity": 0.35,
          "sizex": 0.25,
          "sizey": 0.25,
          "sizing": "contain",
          "source": "https://i.imgur.com/z47emBQ.png",
          "x": 0.1153533191,
          "xanchor": "center",
          "xref": "x",
          "y": 4.727272727,
          "yanchor": "middle",
          "yref": "y"
         },
         {
          "layer": "above",
          "opacity": 0.35,
          "sizex": 0.25,
          "sizey": 0.25,
          "sizing": "contain",
          "source": "https://i.imgur.com/3kOLokZ.png",
          "x": 0.1531333333,
          "xanchor": "center",
          "xref": "x",
          "y": 4.818181818,
          "yanchor": "middle",
          "yref": "y"
         },
         {
          "layer": "above",
          "opacity": 0.35,
          "sizex": 0.25,
          "sizey": 0.25,
          "sizing": "contain",
          "source": "https://i.imgur.com/z4Tl9Zu.png",
          "x": 0.1131619537,
          "xanchor": "center",
          "xref": "x",
          "y": 3.735294118,
          "yanchor": "middle",
          "yref": "y"
         },
         {
          "layer": "above",
          "opacity": 0.35,
          "sizex": 0.25,
          "sizey": 0.25,
          "sizing": "contain",
          "source": "https://i.imgur.com/eeBetFN.png",
          "x": 0.1155806452,
          "xanchor": "center",
          "xref": "x",
          "y": 3.147058824,
          "yanchor": "middle",
          "yref": "y"
         },
         {
          "layer": "above",
          "opacity": 0.35,
          "sizex": 0.25,
          "sizey": 0.25,
          "sizing": "contain",
          "source": "https://i.imgur.com/fJ7rUWW.png",
          "x": 0.1232310838,
          "xanchor": "center",
          "xref": "x",
          "y": 5.4375,
          "yanchor": "middle",
          "yref": "y"
         },
         {
          "layer": "above",
          "opacity": 0.35,
          "sizex": 0.25,
          "sizey": 0.25,
          "sizing": "contain",
          "source": "https://i.imgur.com/9BQHJRl.png",
          "x": 0.1240862944,
          "xanchor": "center",
          "xref": "x",
          "y": 3.705882353,
          "yanchor": "middle",
          "yref": "y"
         },
         {
          "layer": "above",
          "opacity": 0.35,
          "sizex": 0.25,
          "sizey": 0.25,
          "sizing": "contain",
          "source": "https://i.imgur.com/6azSF88.png",
          "x": 0.1195918367,
          "xanchor": "center",
          "xref": "x",
          "y": 4.029411765,
          "yanchor": "middle",
          "yref": "y"
         }
        ],
        "margin": {
         "b": 10,
         "l": 10,
         "r": 30,
         "t": 50
        },
        "paper_bgcolor": "rgb(70, 70, 70)",
        "plot_bgcolor": "rgb(70, 70, 70)",
        "shapes": [
         {
          "layer": "below",
          "line": {
           "color": "White",
           "width": 3
          },
          "type": "line",
          "x0": 0.12304694543000001,
          "x1": 0.12304694543000001,
          "y0": 2,
          "y1": 8
         },
         {
          "layer": "below",
          "line": {
           "color": "White",
           "width": 3
          },
          "type": "line",
          "x0": 0.05,
          "x1": 0.2,
          "y0": 4.628498217600001,
          "y1": 4.628498217600001
         }
        ],
        "showlegend": false,
        "template": {
         "data": {
          "candlestick": [
           {
            "decreasing": {
             "line": {
              "color": "#000033"
             }
            },
            "increasing": {
             "line": {
              "color": "#000032"
             }
            },
            "type": "candlestick"
           }
          ],
          "contour": [
           {
            "colorscale": [
             [
              0,
              "#000011"
             ],
             [
              0.1111111111111111,
              "#000012"
             ],
             [
              0.2222222222222222,
              "#000013"
             ],
             [
              0.3333333333333333,
              "#000014"
             ],
             [
              0.4444444444444444,
              "#000015"
             ],
             [
              0.5555555555555556,
              "#000016"
             ],
             [
              0.6666666666666666,
              "#000017"
             ],
             [
              0.7777777777777778,
              "#000018"
             ],
             [
              0.8888888888888888,
              "#000019"
             ],
             [
              1,
              "#000020"
             ]
            ],
            "type": "contour"
           }
          ],
          "contourcarpet": [
           {
            "colorscale": [
             [
              0,
              "#000011"
             ],
             [
              0.1111111111111111,
              "#000012"
             ],
             [
              0.2222222222222222,
              "#000013"
             ],
             [
              0.3333333333333333,
              "#000014"
             ],
             [
              0.4444444444444444,
              "#000015"
             ],
             [
              0.5555555555555556,
              "#000016"
             ],
             [
              0.6666666666666666,
              "#000017"
             ],
             [
              0.7777777777777778,
              "#000018"
             ],
             [
              0.8888888888888888,
              "#000019"
             ],
             [
              1,
              "#000020"
             ]
            ],
            "type": "contourcarpet"
           }
          ],
          "heatmap": [
           {
            "colorscale": [
             [
              0,
              "#000011"
             ],
             [
              0.1111111111111111,
              "#000012"
             ],
             [
              0.2222222222222222,
              "#000013"
             ],
             [
              0.3333333333333333,
              "#000014"
             ],
             [
              0.4444444444444444,
              "#000015"
             ],
             [
              0.5555555555555556,
              "#000016"
             ],
             [
              0.6666666666666666,
              "#000017"
             ],
             [
              0.7777777777777778,
              "#000018"
             ],
             [
              0.8888888888888888,
              "#000019"
             ],
             [
              1,
              "#000020"
             ]
            ],
            "type": "heatmap"
           }
          ],
          "histogram2d": [
           {
            "colorscale": [
             [
              0,
              "#000011"
             ],
             [
              0.1111111111111111,
              "#000012"
             ],
             [
              0.2222222222222222,
              "#000013"
             ],
             [
              0.3333333333333333,
              "#000014"
             ],
             [
              0.4444444444444444,
              "#000015"
             ],
             [
              0.5555555555555556,
              "#000016"
             ],
             [
              0.6666666666666666,
              "#000017"
             ],
             [
              0.7777777777777778,
              "#000018"
             ],
             [
              0.8888888888888888,
              "#000019"
             ],
             [
              1,
              "#000020"
             ]
            ],
            "type": "histogram2d"
           }
          ],
          "icicle": [
           {
            "textfont": {
             "color": "white"
            },
            "type": "icicle"
           }
          ],
          "sankey": [
           {
            "textfont": {
             "color": "#000036"
            },
            "type": "sankey"
           }
          ],
          "scatter": [
           {
            "marker": {
             "line": {
              "width": 0
             }
            },
            "type": "scatter"
           }
          ],
          "table": [
           {
            "cells": {
             "fill": {
              "color": "#000038"
             },
             "font": {
              "color": "#000037"
             },
             "line": {
              "color": "#000039"
             }
            },
            "header": {
             "fill": {
              "color": "#000040"
             },
             "font": {
              "color": "#000036"
             },
             "line": {
              "color": "#000039"
             }
            },
            "type": "table"
           }
          ],
          "waterfall": [
           {
            "connector": {
             "line": {
              "color": "#000036",
              "width": 2
             }
            },
            "decreasing": {
             "marker": {
              "color": "#000033"
             }
            },
            "increasing": {
             "marker": {
              "color": "#000032"
             }
            },
            "totals": {
             "marker": {
              "color": "#000034"
             }
            },
            "type": "waterfall"
           }
          ]
         },
         "layout": {
          "coloraxis": {
           "colorscale": [
            [
             0,
             "#000011"
            ],
            [
             0.1111111111111111,
             "#000012"
            ],
            [
             0.2222222222222222,
             "#000013"
            ],
            [
             0.3333333333333333,
             "#000014"
            ],
            [
             0.4444444444444444,
             "#000015"
            ],
            [
             0.5555555555555556,
             "#000016"
            ],
            [
             0.6666666666666666,
             "#000017"
            ],
            [
             0.7777777777777778,
             "#000018"
            ],
            [
             0.8888888888888888,
             "#000019"
            ],
            [
             1,
             "#000020"
            ]
           ]
          },
          "colorscale": {
           "diverging": [
            [
             0,
             "#000021"
            ],
            [
             0.1,
             "#000022"
            ],
            [
             0.2,
             "#000023"
            ],
            [
             0.3,
             "#000024"
            ],
            [
             0.4,
             "#000025"
            ],
            [
             0.5,
             "#000026"
            ],
            [
             0.6,
             "#000027"
            ],
            [
             0.7,
             "#000028"
            ],
            [
             0.8,
             "#000029"
            ],
            [
             0.9,
             "#000030"
            ],
            [
             1,
             "#000031"
            ]
           ],
           "sequential": [
            [
             0,
             "#000011"
            ],
            [
             0.1111111111111111,
             "#000012"
            ],
            [
             0.2222222222222222,
             "#000013"
            ],
            [
             0.3333333333333333,
             "#000014"
            ],
            [
             0.4444444444444444,
             "#000015"
            ],
            [
             0.5555555555555556,
             "#000016"
            ],
            [
             0.6666666666666666,
             "#000017"
            ],
            [
             0.7777777777777778,
             "#000018"
            ],
            [
             0.8888888888888888,
             "#000019"
            ],
            [
             1,
             "#000020"
            ]
           ],
           "sequentialminus": [
            [
             0,
             "#000011"
            ],
            [
             0.1111111111111111,
             "#000012"
            ],
            [
             0.2222222222222222,
             "#000013"
            ],
            [
             0.3333333333333333,
             "#000014"
            ],
            [
             0.4444444444444444,
             "#000015"
            ],
            [
             0.5555555555555556,
             "#000016"
            ],
            [
             0.6666666666666666,
             "#000017"
            ],
            [
             0.7777777777777778,
             "#000018"
            ],
            [
             0.8888888888888888,
             "#000019"
            ],
            [
             1,
             "#000020"
            ]
           ]
          },
          "colorway": [
           "#000001",
           "#000002",
           "#000003",
           "#000004",
           "#000005",
           "#000006",
           "#000007",
           "#000008",
           "#000009",
           "#000010"
          ]
         }
        },
        "title": {
         "font": {
          "color": "white",
          "family": "Roboto, sans-serif",
          "size": 23
         },
         "text": "SHOOTING",
         "x": 0.5,
         "xanchor": "center",
         "y": 0.98,
         "yanchor": "top"
        },
        "width": 625,
        "xaxis": {
         "gridcolor": "rgba(0,0,0,0)",
         "linecolor": "white",
         "linewidth": 2,
         "range": [
          0.05,
          0.2
         ],
         "showline": true,
         "tickfont": {
          "color": "white",
          "size": 15
         },
         "title": {
          "font": {
           "size": 25
          },
          "text": "XG PER SHOT"
         }
        },
        "yaxis": {
         "gridcolor": "rgba(0,0,0,0)",
         "linecolor": "white",
         "linewidth": 2,
         "range": [
          2,
          8
         ],
         "showline": true,
         "tickfont": {
          "color": "white",
          "size": 15
         },
         "title": {
          "font": {
           "size": 25
          },
          "text": "SHOTS ON TARGET PER GAME"
         }
        }
       }
      }
     },
     "metadata": {},
     "output_type": "display_data"
    }
   ],
   "source": [
    "create_FM_team_scatter_chart(filt_shooting_chart, 'SHOOTING', \"AC Milan\", \n",
    "                             'XG PER SHOT', 'SHOTS ON TARGET PER GAME', 0.25, 0.05, 0.2, 2, 8, \n",
    "                                                        \"Passive Shooting<br>Wasteful Shooting\", \n",
    "                                                        \"Passive Shooting<br>Clinical Shooting\",\n",
    "                                                        \"Aggressive Shooting<br>Wasteful Shooting\",\n",
    "                                                        \"Aggressive Shooting<br>Clinical Shooting\",\n",
    "                                                        \"red\", \"orange\", \"orange\", \"green\")\n"
   ]
  },
  {
   "cell_type": "markdown",
   "metadata": {},
   "source": [
    "### Time to look at set-pieces again"
   ]
  },
  {
   "cell_type": "code",
   "execution_count": 60,
   "metadata": {},
   "outputs": [],
   "source": [
    "df_events = fetch_data(cursor, 'SELECT * FROM EVENTS_SPADL')"
   ]
  },
  {
   "cell_type": "code",
   "execution_count": 61,
   "metadata": {},
   "outputs": [],
   "source": [
    "df_events = df_events.merge(df_matches[['MATCH_ID','COMPETITION','SEASON']], on='MATCH_ID', how='left')"
   ]
  },
  {
   "cell_type": "code",
   "execution_count": 62,
   "metadata": {},
   "outputs": [],
   "source": [
    "set_piece_cross_events = df_events[df_events['TYPE_NAME'].isin(['freekick_crossed', 'corner_crossed'])]"
   ]
  },
  {
   "cell_type": "code",
   "execution_count": 63,
   "metadata": {},
   "outputs": [
    {
     "name": "stderr",
     "output_type": "stream",
     "text": [
      "C:\\Users\\ksbha\\AppData\\Local\\Temp\\ipykernel_26560\\2166643350.py:1: SettingWithCopyWarning:\n",
      "\n",
      "\n",
      "A value is trying to be set on a copy of a slice from a DataFrame.\n",
      "Try using .loc[row_indexer,col_indexer] = value instead\n",
      "\n",
      "See the caveats in the documentation: https://pandas.pydata.org/pandas-docs/stable/user_guide/indexing.html#returning-a-view-versus-a-copy\n",
      "\n"
     ]
    }
   ],
   "source": [
    "set_piece_cross_events.loc[:, 'OPPO_TEAM_ID'] = \"NaN\""
   ]
  },
  {
   "cell_type": "code",
   "execution_count": 64,
   "metadata": {},
   "outputs": [],
   "source": [
    "def swap_team_id(row, home_id, away_id):\n",
    "    if row['TEAM_FBREF_ID'] == home_id:\n",
    "        return away_id\n",
    "    elif row['TEAM_FBREF_ID'] == away_id:\n",
    "        return home_id\n",
    "    else:\n",
    "        return \"PROBLEM\""
   ]
  },
  {
   "cell_type": "code",
   "execution_count": 65,
   "metadata": {},
   "outputs": [],
   "source": [
    "def specify_oppo_team_id_to_events(df_events, filtered_matches):\n",
    "    for ind, row in filtered_matches.iterrows():\n",
    "        home_team_id = row['HOME_TEAM_ID']\n",
    "        away_team_id = row['AWAY_TEAM_ID']\n",
    "\n",
    "        inds_to_replace = df_events[df_events['MATCH_ID'] == row['MATCH_ID']].index\n",
    "        df_events.loc[inds_to_replace, 'OPPO_TEAM_ID'] = df_events.loc[inds_to_replace].apply(swap_team_id, \n",
    "                                                                                             axis=1, args=(home_team_id, away_team_id))\n",
    "    return df_events"
   ]
  },
  {
   "cell_type": "code",
   "execution_count": 66,
   "metadata": {},
   "outputs": [],
   "source": [
    "set_piece_cross_events = specify_oppo_team_id_to_events(set_piece_cross_events, df_matches)"
   ]
  },
  {
   "cell_type": "code",
   "execution_count": 67,
   "metadata": {},
   "outputs": [],
   "source": [
    "team_names_2 = team_names[['TEAM_NAME', 'TEAM_FBREF_ID']].copy()\n",
    "team_names_2.rename({'TEAM_FBREF_ID':'OPPO_TEAM_ID', 'TEAM_NAME':'OPPO_TEAM_NAME'}, axis=1, inplace=True)"
   ]
  },
  {
   "cell_type": "code",
   "execution_count": 68,
   "metadata": {},
   "outputs": [],
   "source": [
    "set_piece_cross_events = set_piece_cross_events.merge(team_names_2, on=\"OPPO_TEAM_ID\")"
   ]
  },
  {
   "cell_type": "code",
   "execution_count": 69,
   "metadata": {},
   "outputs": [],
   "source": [
    "set_piece_cross_events = set_piece_cross_events.merge(team_names[['TEAM_NAME', 'TEAM_FBREF_ID']], on=\"TEAM_FBREF_ID\")"
   ]
  },
  {
   "cell_type": "code",
   "execution_count": 70,
   "metadata": {},
   "outputs": [],
   "source": [
    "set_piece_cross_events_grouped = set_piece_cross_events[['OPPO_TEAM_NAME','COMPETITION',\n",
    "                                'SEASON','MATCH_ID']].groupby(['OPPO_TEAM_NAME','COMPETITION','SEASON']).count()"
   ]
  },
  {
   "cell_type": "code",
   "execution_count": 71,
   "metadata": {},
   "outputs": [],
   "source": [
    "own_set_piece_cross_events_grouped = set_piece_cross_events[['TEAM_NAME','COMPETITION','SEASON',\n",
    "                                    'MATCH_ID']].groupby(['TEAM_NAME','COMPETITION','SEASON']).count()"
   ]
  },
  {
   "cell_type": "code",
   "execution_count": 72,
   "metadata": {},
   "outputs": [],
   "source": [
    "team_name_matches_played = team_attacking[['TEAM_NAME', 'COMPETITION','SEASON','MATCHES_PLAYED']].copy()"
   ]
  },
  {
   "cell_type": "code",
   "execution_count": 73,
   "metadata": {},
   "outputs": [],
   "source": [
    "set_piece_cross_events_grouped.rename({'MATCH_ID':'OPPOSITION CROSSES FROM SET PIECE'}, axis=1, inplace=True)"
   ]
  },
  {
   "cell_type": "code",
   "execution_count": 74,
   "metadata": {},
   "outputs": [],
   "source": [
    "own_set_piece_cross_events_grouped.rename({'MATCH_ID':'CROSSES FROM SET PIECES'}, axis=1, inplace=True)"
   ]
  },
  {
   "cell_type": "code",
   "execution_count": 75,
   "metadata": {},
   "outputs": [],
   "source": [
    "set_piece_cross_events_grouped = team_name_matches_played.merge(set_piece_cross_events_grouped.reset_index().rename(\n",
    "    {'OPPO_TEAM_NAME':'TEAM_NAME'}, axis=1),on=['TEAM_NAME','COMPETITION','SEASON'])"
   ]
  },
  {
   "cell_type": "code",
   "execution_count": 76,
   "metadata": {},
   "outputs": [],
   "source": [
    "own_set_piece_cross_events_grouped = team_name_matches_played.merge(own_set_piece_cross_events_grouped.reset_index(),\n",
    "                                                                    on=['TEAM_NAME','COMPETITION','SEASON'])"
   ]
  },
  {
   "cell_type": "code",
   "execution_count": 77,
   "metadata": {},
   "outputs": [],
   "source": [
    "set_piece_box_deliveries = set_piece_cross_events.copy()"
   ]
  },
  {
   "cell_type": "code",
   "execution_count": 78,
   "metadata": {},
   "outputs": [],
   "source": [
    "set_piece_box_deliveries.reset_index(drop=True, inplace=True)"
   ]
  },
  {
   "cell_type": "code",
   "execution_count": 79,
   "metadata": {},
   "outputs": [],
   "source": [
    "## Only interested in crosses that end up in the box\n",
    "set_piece_box_deliveries = set_piece_box_deliveries[set_piece_box_deliveries['END_X'] >= 88.5]\n",
    "set_piece_box_deliveries = set_piece_box_deliveries[set_piece_box_deliveries['END_Y'] <= 54.16]\n",
    "set_piece_box_deliveries = set_piece_box_deliveries[set_piece_box_deliveries['END_Y'] >= 13.84]"
   ]
  },
  {
   "cell_type": "code",
   "execution_count": 80,
   "metadata": {},
   "outputs": [],
   "source": [
    "## Now, we want to cateogrize each cross as a \"near post\", \"central\", or \"far post\" cross\n",
    "\"\"\" \n",
    "If START_Y < 30.34, then:\n",
    "    - Near post is where END_Y is < 30.34\n",
    "    - Central is where END_Y is between 30.34 and 37.66\n",
    "    - Far post is where END_Y is > 37.66\n",
    "\n",
    "If START_Y > 37.66, then:\n",
    "    - Near post is where END_Y is > 37.66\n",
    "    - Central is where END_Y is between 30.34 and 37.66\n",
    "    - Far post is where END_Y is < 30.34\n",
    "\"\"\"\n",
    "\n",
    "def classify_cross(row):\n",
    "    if row['START_Y'] < 34.00:\n",
    "        if row['END_Y'] < 30.34:\n",
    "            return 'Near post'\n",
    "        elif row['END_Y'] > 37.66:\n",
    "            return 'Far post'\n",
    "        elif row['END_Y'] >= 30.34 and row['END_Y'] <= 37.66:\n",
    "            return 'Central'\n",
    "    elif row['START_Y'] >= 34.0:\n",
    "        if row['END_Y'] > 37.66:\n",
    "            return 'Near post'\n",
    "        elif row['END_Y'] < 30.34:\n",
    "            return 'Far post'\n",
    "        elif row['END_Y'] >= 30.34 and row['END_Y'] <= 37.66:\n",
    "            return 'Central'\n",
    "    else:\n",
    "        return 'Not Classified'"
   ]
  },
  {
   "cell_type": "code",
   "execution_count": 81,
   "metadata": {},
   "outputs": [],
   "source": [
    "set_piece_box_deliveries['Cross_end_location'] = \"NaN\"\n",
    "set_piece_box_deliveries['Cross_end_location'] = set_piece_box_deliveries.apply(classify_cross, axis=1)"
   ]
  },
  {
   "cell_type": "code",
   "execution_count": 82,
   "metadata": {},
   "outputs": [
    {
     "data": {
      "text/plain": [
       "Cross_end_location\n",
       "Central      26854\n",
       "Near post    18328\n",
       "Far post     12916\n",
       "Name: count, dtype: int64"
      ]
     },
     "execution_count": 82,
     "metadata": {},
     "output_type": "execute_result"
    }
   ],
   "source": [
    "set_piece_box_deliveries['Cross_end_location'].value_counts()"
   ]
  },
  {
   "cell_type": "code",
   "execution_count": 83,
   "metadata": {},
   "outputs": [],
   "source": [
    "filter_1st_contacts = set_piece_box_deliveries[['MATCH_ID', 'ACTION_ID']].copy()\n",
    "filter_1st_contacts['ACTION_ID'] += 1"
   ]
  },
  {
   "cell_type": "code",
   "execution_count": 84,
   "metadata": {},
   "outputs": [],
   "source": [
    "set_piece_cross_1st_contacts = df_events.merge(filter_1st_contacts, on=['MATCH_ID', 'ACTION_ID'],how='right')"
   ]
  },
  {
   "cell_type": "code",
   "execution_count": 85,
   "metadata": {},
   "outputs": [],
   "source": [
    "match_ids_to_remove = set_piece_cross_1st_contacts[set_piece_cross_1st_contacts['TEAM_FBREF_ID'].isna()]['MATCH_ID'].values \n",
    "action_ids_to_remove = set_piece_cross_1st_contacts[set_piece_cross_1st_contacts['TEAM_FBREF_ID'].isna()]['ACTION_ID'].values"
   ]
  },
  {
   "cell_type": "code",
   "execution_count": 86,
   "metadata": {},
   "outputs": [],
   "source": [
    "## Remove missing rows!\n",
    "for i in range(len(match_ids_to_remove)):\n",
    "    set_piece_cross_1st_contacts = set_piece_cross_1st_contacts[(set_piece_cross_1st_contacts['MATCH_ID'] != match_ids_to_remove[i]) |\n",
    "                            (set_piece_cross_1st_contacts['ACTION_ID'] != action_ids_to_remove[i])]\n",
    "    \n",
    "    set_piece_box_deliveries = set_piece_box_deliveries[(set_piece_box_deliveries['MATCH_ID'] != match_ids_to_remove[i]) |\n",
    "                            (set_piece_box_deliveries['ACTION_ID'] != action_ids_to_remove[i]-1)]"
   ]
  },
  {
   "cell_type": "code",
   "execution_count": 87,
   "metadata": {},
   "outputs": [],
   "source": [
    "set_piece_cross_1st_contacts = specify_oppo_team_id_to_events(set_piece_cross_1st_contacts, df_matches)"
   ]
  },
  {
   "cell_type": "code",
   "execution_count": 88,
   "metadata": {},
   "outputs": [],
   "source": [
    "set_piece_box_deliveries = specify_oppo_team_id_to_events(set_piece_box_deliveries, df_matches)"
   ]
  },
  {
   "cell_type": "code",
   "execution_count": 89,
   "metadata": {},
   "outputs": [],
   "source": [
    "set_piece_cross_1st_contacts = set_piece_cross_1st_contacts.merge(team_names[['TEAM_NAME', 'TEAM_FBREF_ID']], on=\"TEAM_FBREF_ID\")\n",
    "set_piece_cross_1st_contacts = set_piece_cross_1st_contacts.merge(team_names_2, on=\"OPPO_TEAM_ID\")"
   ]
  },
  {
   "cell_type": "code",
   "execution_count": 90,
   "metadata": {},
   "outputs": [],
   "source": [
    "# set_piece_box_deliveries = set_piece_box_deliveries.merge(team_names[['TEAM_NAME', 'TEAM_FBREF_ID']], on=\"TEAM_FBREF_ID\")"
   ]
  },
  {
   "cell_type": "code",
   "execution_count": 91,
   "metadata": {},
   "outputs": [],
   "source": [
    "set_piece_cross_1st_contacts.sort_values(by=['MATCH_ID', 'ACTION_ID'], inplace=True)\n",
    "set_piece_cross_1st_contacts.reset_index(drop=True, inplace=True)\n",
    "set_piece_box_deliveries.sort_values(by=['MATCH_ID', 'ACTION_ID'], inplace=True)\n",
    "set_piece_box_deliveries.reset_index(drop=True, inplace=True)"
   ]
  },
  {
   "cell_type": "code",
   "execution_count": 92,
   "metadata": {},
   "outputs": [],
   "source": [
    "set_piece_cross_1st_contacts['Cross_end_location'] = set_piece_box_deliveries['Cross_end_location']"
   ]
  },
  {
   "cell_type": "code",
   "execution_count": 93,
   "metadata": {},
   "outputs": [],
   "source": [
    "set_piece_same_1st_contacts = set_piece_cross_1st_contacts[set_piece_box_deliveries['TEAM_FBREF_ID'] == set_piece_cross_1st_contacts['TEAM_FBREF_ID']]\n",
    "set_piece_other_1st_contacts = set_piece_cross_1st_contacts[set_piece_box_deliveries['TEAM_FBREF_ID'] != set_piece_cross_1st_contacts['TEAM_FBREF_ID']]"
   ]
  },
  {
   "cell_type": "code",
   "execution_count": 94,
   "metadata": {},
   "outputs": [],
   "source": [
    "att_team_won_1st_contact = set_piece_same_1st_contacts.groupby(['COMPETITION', 'SEASON', 'TEAM_NAME', \n",
    "                                                                 'Cross_end_location'])['Cross_end_location'].count()"
   ]
  },
  {
   "cell_type": "code",
   "execution_count": 95,
   "metadata": {},
   "outputs": [],
   "source": [
    "att_team_lost_1st_contact = set_piece_other_1st_contacts.groupby(['COMPETITION', 'SEASON', 'OPPO_TEAM_NAME', \n",
    "                                                                 'Cross_end_location'])['Cross_end_location'].count()"
   ]
  },
  {
   "cell_type": "code",
   "execution_count": 96,
   "metadata": {},
   "outputs": [
    {
     "data": {
      "text/plain": [
       "(876,)"
      ]
     },
     "execution_count": 96,
     "metadata": {},
     "output_type": "execute_result"
    }
   ],
   "source": [
    "att_team_won_1st_contact.shape"
   ]
  },
  {
   "cell_type": "code",
   "execution_count": 97,
   "metadata": {},
   "outputs": [
    {
     "data": {
      "text/plain": [
       "(876,)"
      ]
     },
     "execution_count": 97,
     "metadata": {},
     "output_type": "execute_result"
    }
   ],
   "source": [
    "att_team_lost_1st_contact.shape"
   ]
  },
  {
   "cell_type": "code",
   "execution_count": 98,
   "metadata": {},
   "outputs": [],
   "source": [
    "att_set_piece_final = (att_team_won_1st_contact/(att_team_lost_1st_contact+att_team_won_1st_contact))*100"
   ]
  },
  {
   "cell_type": "code",
   "execution_count": 99,
   "metadata": {},
   "outputs": [],
   "source": [
    "att_set_piece_final = pd.DataFrame(att_set_piece_final).rename({'Cross_end_location':'PERC_1ST_CONTACT'}, axis=1).reset_index()"
   ]
  },
  {
   "cell_type": "code",
   "execution_count": 100,
   "metadata": {},
   "outputs": [],
   "source": [
    "att_set_piece_final.rename(columns={'Cross_end_location':'CROSS_END_LOCATION'}, inplace=True)"
   ]
  },
  {
   "cell_type": "code",
   "execution_count": 101,
   "metadata": {},
   "outputs": [],
   "source": [
    "att_set_piece_final = att_set_piece_final.merge(df_competitions, on=['COMPETITION','SEASON'])"
   ]
  },
  {
   "cell_type": "code",
   "execution_count": 102,
   "metadata": {},
   "outputs": [],
   "source": [
    "att_set_piece_final.drop(['COMPETITION'], axis=1, inplace=True)"
   ]
  },
  {
   "cell_type": "code",
   "execution_count": 103,
   "metadata": {},
   "outputs": [],
   "source": [
    "create_table_query = \"\"\"\n",
    "CREATE TABLE IF NOT EXISTS TEAM_ATT_SET_PIECE_FIRST_CONTACTS (\n",
    "    SEASON INT,\n",
    "    COMPETITION_ACRONYM VARCHAR(255),\n",
    "    TEAM_NAME VARCHAR(255),\n",
    "    PERC_1ST_CONTACT FLOAT,\n",
    "    CROSS_END_LOCATION VARCHAR(255),\n",
    "    PRIMARY KEY (SEASON, COMPETITION_ACRONYM, TEAM_NAME, CROSS_END_LOCATION)\n",
    ");\n",
    "\"\"\""
   ]
  },
  {
   "cell_type": "code",
   "execution_count": 104,
   "metadata": {},
   "outputs": [
    {
     "data": {
      "text/plain": [
       "<snowflake.connector.cursor.SnowflakeCursor at 0x196ad0e9290>"
      ]
     },
     "execution_count": 104,
     "metadata": {},
     "output_type": "execute_result"
    }
   ],
   "source": [
    "cur.execute(create_table_query)"
   ]
  },
  {
   "cell_type": "code",
   "execution_count": 105,
   "metadata": {},
   "outputs": [
    {
     "name": "stdout",
     "output_type": "stream",
     "text": [
      "Upsert completed. 876 rows processed.\n"
     ]
    }
   ],
   "source": [
    "upsert_to_snowflake(\"TEAM_ATT_SET_PIECE_FIRST_CONTACTS\", att_set_piece_final, ['SEASON', 'COMPETITION_ACRONYM', 'TEAM_NAME',\n",
    "                                                                            'CROSS_END_LOCATION'])"
   ]
  },
  {
   "cell_type": "code",
   "execution_count": 106,
   "metadata": {},
   "outputs": [],
   "source": [
    "att_set_piece_final = fetch_data(cursor, 'SELECT * FROM  GEGENSTATS.RADAR_CHARTS.TEAM_ATT_SET_PIECE_FIRST_CONTACTS')"
   ]
  },
  {
   "cell_type": "code",
   "execution_count": 107,
   "metadata": {},
   "outputs": [
    {
     "data": {
      "text/html": [
       "<div>\n",
       "<style scoped>\n",
       "    .dataframe tbody tr th:only-of-type {\n",
       "        vertical-align: middle;\n",
       "    }\n",
       "\n",
       "    .dataframe tbody tr th {\n",
       "        vertical-align: top;\n",
       "    }\n",
       "\n",
       "    .dataframe thead th {\n",
       "        text-align: right;\n",
       "    }\n",
       "</style>\n",
       "<table border=\"1\" class=\"dataframe\">\n",
       "  <thead>\n",
       "    <tr style=\"text-align: right;\">\n",
       "      <th></th>\n",
       "      <th>SEASON</th>\n",
       "      <th>COMPETITION_ACRONYM</th>\n",
       "      <th>TEAM_NAME</th>\n",
       "      <th>PERC_1ST_CONTACT</th>\n",
       "      <th>CROSS_END_LOCATION</th>\n",
       "    </tr>\n",
       "  </thead>\n",
       "  <tbody>\n",
       "    <tr>\n",
       "      <th>0</th>\n",
       "      <td>2122</td>\n",
       "      <td>EPL</td>\n",
       "      <td>Arsenal</td>\n",
       "      <td>25.892857</td>\n",
       "      <td>Central</td>\n",
       "    </tr>\n",
       "    <tr>\n",
       "      <th>1</th>\n",
       "      <td>2122</td>\n",
       "      <td>EPL</td>\n",
       "      <td>Arsenal</td>\n",
       "      <td>44.000000</td>\n",
       "      <td>Far post</td>\n",
       "    </tr>\n",
       "    <tr>\n",
       "      <th>2</th>\n",
       "      <td>2122</td>\n",
       "      <td>EPL</td>\n",
       "      <td>Arsenal</td>\n",
       "      <td>18.181818</td>\n",
       "      <td>Near post</td>\n",
       "    </tr>\n",
       "    <tr>\n",
       "      <th>3</th>\n",
       "      <td>2122</td>\n",
       "      <td>EPL</td>\n",
       "      <td>Aston Villa</td>\n",
       "      <td>17.948718</td>\n",
       "      <td>Central</td>\n",
       "    </tr>\n",
       "    <tr>\n",
       "      <th>4</th>\n",
       "      <td>2122</td>\n",
       "      <td>EPL</td>\n",
       "      <td>Aston Villa</td>\n",
       "      <td>52.000000</td>\n",
       "      <td>Far post</td>\n",
       "    </tr>\n",
       "    <tr>\n",
       "      <th>...</th>\n",
       "      <td>...</td>\n",
       "      <td>...</td>\n",
       "      <td>...</td>\n",
       "      <td>...</td>\n",
       "      <td>...</td>\n",
       "    </tr>\n",
       "    <tr>\n",
       "      <th>871</th>\n",
       "      <td>2324</td>\n",
       "      <td>Serie A</td>\n",
       "      <td>Torino</td>\n",
       "      <td>35.294118</td>\n",
       "      <td>Far post</td>\n",
       "    </tr>\n",
       "    <tr>\n",
       "      <th>872</th>\n",
       "      <td>2324</td>\n",
       "      <td>Serie A</td>\n",
       "      <td>Torino</td>\n",
       "      <td>36.000000</td>\n",
       "      <td>Near post</td>\n",
       "    </tr>\n",
       "    <tr>\n",
       "      <th>873</th>\n",
       "      <td>2324</td>\n",
       "      <td>Serie A</td>\n",
       "      <td>Udinese</td>\n",
       "      <td>47.560976</td>\n",
       "      <td>Central</td>\n",
       "    </tr>\n",
       "    <tr>\n",
       "      <th>874</th>\n",
       "      <td>2324</td>\n",
       "      <td>Serie A</td>\n",
       "      <td>Udinese</td>\n",
       "      <td>47.368421</td>\n",
       "      <td>Far post</td>\n",
       "    </tr>\n",
       "    <tr>\n",
       "      <th>875</th>\n",
       "      <td>2324</td>\n",
       "      <td>Serie A</td>\n",
       "      <td>Udinese</td>\n",
       "      <td>23.809524</td>\n",
       "      <td>Near post</td>\n",
       "    </tr>\n",
       "  </tbody>\n",
       "</table>\n",
       "<p>876 rows × 5 columns</p>\n",
       "</div>"
      ],
      "text/plain": [
       "     SEASON COMPETITION_ACRONYM    TEAM_NAME  PERC_1ST_CONTACT  \\\n",
       "0      2122                 EPL      Arsenal         25.892857   \n",
       "1      2122                 EPL      Arsenal         44.000000   \n",
       "2      2122                 EPL      Arsenal         18.181818   \n",
       "3      2122                 EPL  Aston Villa         17.948718   \n",
       "4      2122                 EPL  Aston Villa         52.000000   \n",
       "..      ...                 ...          ...               ...   \n",
       "871    2324             Serie A       Torino         35.294118   \n",
       "872    2324             Serie A       Torino         36.000000   \n",
       "873    2324             Serie A      Udinese         47.560976   \n",
       "874    2324             Serie A      Udinese         47.368421   \n",
       "875    2324             Serie A      Udinese         23.809524   \n",
       "\n",
       "    CROSS_END_LOCATION  \n",
       "0              Central  \n",
       "1             Far post  \n",
       "2            Near post  \n",
       "3              Central  \n",
       "4             Far post  \n",
       "..                 ...  \n",
       "871           Far post  \n",
       "872          Near post  \n",
       "873            Central  \n",
       "874           Far post  \n",
       "875          Near post  \n",
       "\n",
       "[876 rows x 5 columns]"
      ]
     },
     "execution_count": 107,
     "metadata": {},
     "output_type": "execute_result"
    }
   ],
   "source": [
    "att_set_piece_final"
   ]
  },
  {
   "cell_type": "code",
   "execution_count": 108,
   "metadata": {},
   "outputs": [],
   "source": [
    "att_set_piece_final_filt = att_set_piece_final[att_set_piece_final['SEASON'] == season_selected]\n",
    "att_set_piece_final_filt = att_set_piece_final_filt[att_set_piece_final_filt['COMPETITION_ACRONYM'] == league_selected]\n",
    "att_set_piece_final_filt = att_set_piece_final_filt[att_set_piece_final_filt['TEAM_NAME'] == 'Arsenal']"
   ]
  },
  {
   "cell_type": "code",
   "execution_count": 109,
   "metadata": {},
   "outputs": [],
   "source": [
    "att_set_piece_chart = att_set_piece_final_filt[['CROSS_END_LOCATION', 'PERC_1ST_CONTACT']].set_index('CROSS_END_LOCATION')"
   ]
  },
  {
   "cell_type": "code",
   "execution_count": 110,
   "metadata": {},
   "outputs": [
    {
     "data": {
      "text/plain": [
       "26.804123711"
      ]
     },
     "execution_count": 110,
     "metadata": {},
     "output_type": "execute_result"
    }
   ],
   "source": [
    "att_set_piece_chart.loc['Near post'].values[0]"
   ]
  },
  {
   "cell_type": "code",
   "execution_count": 111,
   "metadata": {},
   "outputs": [],
   "source": [
    "def create_set_piece_first_contacts_plot(def_set_piece_chart):\n",
    "    pitch = VerticalPitch(pitch_color='#2B2B2B', line_color='white', goal_type='box', pitch_type='uefa', linewidth=1, half=True)\n",
    "    fig, ax = pitch.draw(figsize=(8, 12))\n",
    "\n",
    "    # Define the coordinates for the rectangles\n",
    "    rect_coords = [\n",
    "        [(13.84, 105), (13.84, 88.5), (30.09, 88.5), (30.09, 105)],  # Rect1\n",
    "        [(30.59, 105), (30.59, 88.5), (37.41, 88.5), (37.41, 105)],  # Rect2\n",
    "        [(37.91, 105), (37.91, 88.5), (54.16, 88.5), (54.16, 105)]  # Rect3\n",
    "    ]\n",
    "\n",
    "    # Example percentages for each rectangle (use your actual values here)\n",
    "    percentages = [def_set_piece_chart.loc['Near post'].values[0], def_set_piece_chart.loc['Central'].values[0], \n",
    "                   def_set_piece_chart.loc['Far post'].values[0]]\n",
    "\n",
    "    # Function to calculate green color based on percentage\n",
    "    def get_green_color(percentage, max_percentage=100):  # Assuming 100 is the max percentage\n",
    "        green_intensity = int((percentage / max_percentage) * 255)\n",
    "        return f'#00{green_intensity:02x}00'\n",
    "\n",
    "    # Create the rectangular patches\n",
    "    for i, coords in enumerate(rect_coords):\n",
    "        polygon = patches.Polygon(coords, closed=True, color=\"#00b200\", zorder=2,  alpha=0.75)\n",
    "        ax.add_patch(polygon)\n",
    "\n",
    "        # Add text label in the center of each rectangle\n",
    "        rect_center_x = (coords[0][0] + coords[2][0]) / 2 \n",
    "        rect_center_y = (coords[0][1] + coords[2][1]) / 2\n",
    "        ax.text(rect_center_x, rect_center_y, f'{int(percentages[i])}%',fontproperties='Roboto',\n",
    "                va='center', ha='center', color='white', fontsize=18, zorder=3)\n",
    "\n",
    "    # Set figure and axis background color\n",
    "    fig.patch.set_facecolor('#2B2B2B')\n",
    "    ax.patch.set_facecolor('#2B2B2B')\n",
    "\n",
    "    arrow_start = (0, 107)  # Adjust these values as needed for your plot\n",
    "    arrow_end = (18.84, 107)    # Adjust these values as needed for your plot\n",
    "\n",
    "    # Draw the arrow\n",
    "    ax.add_patch(patches.FancyArrow(\n",
    "        arrow_start[0], arrow_start[1],  # x, y start point\n",
    "        arrow_end[0] - arrow_start[0], arrow_end[1] - arrow_start[1],  # dx, dy length\n",
    "        width=0.3,  # Width of the full arrow tail\n",
    "        length_includes_head=False,  # The head is included in the calculation of the arrow's length\n",
    "        head_width=1,  # Width of the arrow head\n",
    "        head_length=1.5,  # Length of the arrow head\n",
    "        color='lightgrey'  # Light grey color\n",
    "    ))\n",
    "\n",
    "    plt.title('SET PIECE FIRST CONTACTS - OPPOSITION BOX', color='gold', fontsize=20, fontname='Roboto', loc='left')\n",
    "\n",
    "    return fig"
   ]
  },
  {
   "cell_type": "code",
   "execution_count": 112,
   "metadata": {},
   "outputs": [
    {
     "data": {
      "text/plain": [
       "<Figure size 800x1200 with 1 Axes>"
      ]
     },
     "execution_count": 112,
     "metadata": {},
     "output_type": "execute_result"
    }
   ],
   "source": [
    "create_set_piece_first_contacts_plot(att_set_piece_chart)"
   ]
  },
  {
   "cell_type": "code",
   "execution_count": null,
   "metadata": {},
   "outputs": [],
   "source": []
  },
  {
   "cell_type": "code",
   "execution_count": null,
   "metadata": {},
   "outputs": [],
   "source": []
  },
  {
   "cell_type": "code",
   "execution_count": null,
   "metadata": {},
   "outputs": [],
   "source": []
  },
  {
   "cell_type": "code",
   "execution_count": null,
   "metadata": {},
   "outputs": [],
   "source": []
  },
  {
   "cell_type": "markdown",
   "metadata": {},
   "source": [
    "Shot data extraction"
   ]
  },
  {
   "cell_type": "code",
   "execution_count": 177,
   "metadata": {},
   "outputs": [],
   "source": [
    "df_shots = fetch_data(cursor, 'SELECT * FROM SHOT_EVENTS')"
   ]
  },
  {
   "cell_type": "code",
   "execution_count": 178,
   "metadata": {},
   "outputs": [
    {
     "data": {
      "text/html": [
       "<div>\n",
       "<style scoped>\n",
       "    .dataframe tbody tr th:only-of-type {\n",
       "        vertical-align: middle;\n",
       "    }\n",
       "\n",
       "    .dataframe tbody tr th {\n",
       "        vertical-align: top;\n",
       "    }\n",
       "\n",
       "    .dataframe thead th {\n",
       "        text-align: right;\n",
       "    }\n",
       "</style>\n",
       "<table border=\"1\" class=\"dataframe\">\n",
       "  <thead>\n",
       "    <tr style=\"text-align: right;\">\n",
       "      <th></th>\n",
       "      <th>MATCH_ID</th>\n",
       "      <th>ORIGINAL_EVENT_ID</th>\n",
       "      <th>PERIOD_ID</th>\n",
       "      <th>TIME_SECONDS</th>\n",
       "      <th>NEW_TIME_SECONDS</th>\n",
       "      <th>TEAM_FBREF_ID</th>\n",
       "      <th>PLAYER_WS_ID</th>\n",
       "      <th>START_X</th>\n",
       "      <th>END_X</th>\n",
       "      <th>START_Y</th>\n",
       "      <th>END_Y</th>\n",
       "      <th>RESULT_ID</th>\n",
       "      <th>ACTION_ID</th>\n",
       "      <th>TYPE_NAME</th>\n",
       "      <th>BODYPART_NAME</th>\n",
       "      <th>COMPETITION</th>\n",
       "      <th>SEASON</th>\n",
       "    </tr>\n",
       "  </thead>\n",
       "  <tbody>\n",
       "    <tr>\n",
       "      <th>0</th>\n",
       "      <td>1ebfb4e4</td>\n",
       "      <td>NaN</td>\n",
       "      <td>2</td>\n",
       "      <td>654.5</td>\n",
       "      <td>534.5</td>\n",
       "      <td>98e8af82</td>\n",
       "      <td>386230</td>\n",
       "      <td>101.325</td>\n",
       "      <td>93.450</td>\n",
       "      <td>8.296</td>\n",
       "      <td>7.072</td>\n",
       "      <td>1</td>\n",
       "      <td>709</td>\n",
       "      <td>dribble</td>\n",
       "      <td>foot</td>\n",
       "      <td>ESP-La Liga</td>\n",
       "      <td>2324</td>\n",
       "    </tr>\n",
       "    <tr>\n",
       "      <th>1</th>\n",
       "      <td>6a69ffd2</td>\n",
       "      <td>2.673598e+09</td>\n",
       "      <td>2</td>\n",
       "      <td>749.0</td>\n",
       "      <td>629.0</td>\n",
       "      <td>0e72edf2</td>\n",
       "      <td>391047</td>\n",
       "      <td>58.695</td>\n",
       "      <td>72.450</td>\n",
       "      <td>27.200</td>\n",
       "      <td>8.636</td>\n",
       "      <td>1</td>\n",
       "      <td>940</td>\n",
       "      <td>pass</td>\n",
       "      <td>foot</td>\n",
       "      <td>ITA-Serie A</td>\n",
       "      <td>2324</td>\n",
       "    </tr>\n",
       "    <tr>\n",
       "      <th>2</th>\n",
       "      <td>5a35c6d1</td>\n",
       "      <td>2.672727e+09</td>\n",
       "      <td>2</td>\n",
       "      <td>1004.0</td>\n",
       "      <td>644.0</td>\n",
       "      <td>0049d422</td>\n",
       "      <td>448211</td>\n",
       "      <td>53.445</td>\n",
       "      <td>62.790</td>\n",
       "      <td>64.056</td>\n",
       "      <td>66.640</td>\n",
       "      <td>1</td>\n",
       "      <td>1049</td>\n",
       "      <td>pass</td>\n",
       "      <td>foot</td>\n",
       "      <td>ESP-La Liga</td>\n",
       "      <td>2324</td>\n",
       "    </tr>\n",
       "    <tr>\n",
       "      <th>3</th>\n",
       "      <td>40128bc4</td>\n",
       "      <td>2.671756e+09</td>\n",
       "      <td>1</td>\n",
       "      <td>1426.0</td>\n",
       "      <td>1426.0</td>\n",
       "      <td>e297cd13</td>\n",
       "      <td>64342</td>\n",
       "      <td>14.280</td>\n",
       "      <td>48.825</td>\n",
       "      <td>37.264</td>\n",
       "      <td>45.152</td>\n",
       "      <td>0</td>\n",
       "      <td>463</td>\n",
       "      <td>pass</td>\n",
       "      <td>foot</td>\n",
       "      <td>ENG-Premier League</td>\n",
       "      <td>2324</td>\n",
       "    </tr>\n",
       "    <tr>\n",
       "      <th>4</th>\n",
       "      <td>40128bc4</td>\n",
       "      <td>NaN</td>\n",
       "      <td>1</td>\n",
       "      <td>829.0</td>\n",
       "      <td>829.0</td>\n",
       "      <td>b8fd03ef</td>\n",
       "      <td>388098</td>\n",
       "      <td>94.080</td>\n",
       "      <td>102.585</td>\n",
       "      <td>55.284</td>\n",
       "      <td>51.476</td>\n",
       "      <td>1</td>\n",
       "      <td>240</td>\n",
       "      <td>dribble</td>\n",
       "      <td>foot</td>\n",
       "      <td>ENG-Premier League</td>\n",
       "      <td>2324</td>\n",
       "    </tr>\n",
       "  </tbody>\n",
       "</table>\n",
       "</div>"
      ],
      "text/plain": [
       "   MATCH_ID  ORIGINAL_EVENT_ID  PERIOD_ID  TIME_SECONDS  NEW_TIME_SECONDS  \\\n",
       "0  1ebfb4e4                NaN          2         654.5             534.5   \n",
       "1  6a69ffd2       2.673598e+09          2         749.0             629.0   \n",
       "2  5a35c6d1       2.672727e+09          2        1004.0             644.0   \n",
       "3  40128bc4       2.671756e+09          1        1426.0            1426.0   \n",
       "4  40128bc4                NaN          1         829.0             829.0   \n",
       "\n",
       "  TEAM_FBREF_ID  PLAYER_WS_ID  START_X    END_X  START_Y   END_Y  RESULT_ID  \\\n",
       "0      98e8af82        386230  101.325   93.450    8.296   7.072          1   \n",
       "1      0e72edf2        391047   58.695   72.450   27.200   8.636          1   \n",
       "2      0049d422        448211   53.445   62.790   64.056  66.640          1   \n",
       "3      e297cd13         64342   14.280   48.825   37.264  45.152          0   \n",
       "4      b8fd03ef        388098   94.080  102.585   55.284  51.476          1   \n",
       "\n",
       "   ACTION_ID TYPE_NAME BODYPART_NAME         COMPETITION  SEASON  \n",
       "0        709   dribble          foot         ESP-La Liga    2324  \n",
       "1        940      pass          foot         ITA-Serie A    2324  \n",
       "2       1049      pass          foot         ESP-La Liga    2324  \n",
       "3        463      pass          foot  ENG-Premier League    2324  \n",
       "4        240   dribble          foot  ENG-Premier League    2324  "
      ]
     },
     "execution_count": 178,
     "metadata": {},
     "output_type": "execute_result"
    }
   ],
   "source": [
    "df_events.head()"
   ]
  },
  {
   "cell_type": "code",
   "execution_count": 179,
   "metadata": {},
   "outputs": [],
   "source": [
    "# df_shots = df_shots.merge(df_events[['MATCH_ID', 'ACTION_ID', 'TEAM_FBREF_ID']], on=['MATCH_ID', 'ACTION_ID'])\n",
    "df_shots = df_shots.merge(df_events[['MATCH_ID', 'ACTION_ID', 'TEAM_FBREF_ID', 'PERIOD_ID','NEW_TIME_SECONDS','START_X','END_X',\n",
    "                                     'START_Y', 'END_Y', 'PLAYER_WS_ID', 'RESULT_ID']], on=['MATCH_ID', 'ACTION_ID'])"
   ]
  },
  {
   "cell_type": "code",
   "execution_count": 180,
   "metadata": {},
   "outputs": [],
   "source": [
    "df_shots = df_shots.merge(team_names[['TEAM_NAME', 'TEAM_FBREF_ID']], on=\"TEAM_FBREF_ID\")"
   ]
  },
  {
   "cell_type": "code",
   "execution_count": 181,
   "metadata": {},
   "outputs": [],
   "source": [
    "df_shots = df_shots.merge(df_matches[['MATCH_ID','HOME_TEAM_ID', 'AWAY_TEAM_ID', 'GAMEWEEK','COMPETITION',\n",
    "                                      'SEASON']], on='MATCH_ID', how='left')"
   ]
  },
  {
   "cell_type": "code",
   "execution_count": 182,
   "metadata": {},
   "outputs": [],
   "source": [
    "df_shots = df_shots.merge(df_competitions, on=['COMPETITION', 'SEASON'])"
   ]
  },
  {
   "cell_type": "code",
   "execution_count": 183,
   "metadata": {},
   "outputs": [],
   "source": [
    "df_shots['OPPO_TEAM_ID'] = df_shots.apply(lambda row: row['AWAY_TEAM_ID'] if \n",
    "                                          row['TEAM_FBREF_ID'] == row['HOME_TEAM_ID'] else row['HOME_TEAM_ID'], axis=1)"
   ]
  },
  {
   "cell_type": "code",
   "execution_count": 184,
   "metadata": {},
   "outputs": [],
   "source": [
    "df_shots.drop(['HOME_TEAM_ID', 'AWAY_TEAM_ID'], axis=1, inplace=True)"
   ]
  },
  {
   "cell_type": "code",
   "execution_count": 185,
   "metadata": {},
   "outputs": [],
   "source": [
    "df_shots = df_shots.merge(team_names_2, on='OPPO_TEAM_ID')"
   ]
  },
  {
   "cell_type": "code",
   "execution_count": 186,
   "metadata": {},
   "outputs": [],
   "source": [
    "df_shots = df_shots.merge(df_players[['PLAYER_WS_ID', 'PLAYER_FBREF_NAME']], on=\"PLAYER_WS_ID\")"
   ]
  },
  {
   "cell_type": "code",
   "execution_count": 187,
   "metadata": {},
   "outputs": [],
   "source": [
    "df_last_5_matches = df_matches.copy()"
   ]
  },
  {
   "cell_type": "code",
   "execution_count": 188,
   "metadata": {},
   "outputs": [],
   "source": [
    "df_last_5_matches = df_last_5_matches.merge(df_competitions, on=['COMPETITION', 'SEASON'])"
   ]
  },
  {
   "cell_type": "code",
   "execution_count": 190,
   "metadata": {},
   "outputs": [],
   "source": [
    "home_teams = team_names.copy()\n",
    "away_teams = team_names.copy()"
   ]
  },
  {
   "cell_type": "code",
   "execution_count": 191,
   "metadata": {},
   "outputs": [],
   "source": [
    "home_teams.rename({'TEAM_FBREF_ID':'HOME_TEAM_ID', 'TEAM_NAME':'HOME_TEAM_NAME'}, axis=1, inplace=True)\n",
    "away_teams.rename({'TEAM_FBREF_ID':'AWAY_TEAM_ID', 'TEAM_NAME':'AWAY_TEAM_NAME'}, axis=1, inplace=True)"
   ]
  },
  {
   "cell_type": "code",
   "execution_count": 192,
   "metadata": {},
   "outputs": [],
   "source": [
    "df_last_5_matches = df_last_5_matches.merge(home_teams[['HOME_TEAM_NAME', 'HOME_TEAM_ID']], on=['HOME_TEAM_ID'])\n",
    "df_last_5_matches = df_last_5_matches.merge(away_teams[['AWAY_TEAM_NAME', 'AWAY_TEAM_ID']], on=['AWAY_TEAM_ID'])"
   ]
  },
  {
   "cell_type": "code",
   "execution_count": 193,
   "metadata": {},
   "outputs": [
    {
     "name": "stderr",
     "output_type": "stream",
     "text": [
      "C:\\Users\\ksbha\\AppData\\Local\\Temp\\ipykernel_26560\\1360568407.py:12: DeprecationWarning:\n",
      "\n",
      "DataFrameGroupBy.apply operated on the grouping columns. This behavior is deprecated, and in a future version of pandas the grouping columns will be excluded from the operation. Either pass `include_groups=False` to exclude the groupings or explicitly select the grouping columns after groupby to silence this warning.\n",
      "\n"
     ]
    }
   ],
   "source": [
    "def get_last_5_matches(group):\n",
    "    return group.nlargest(5, 'GAMEWEEK')\n",
    "\n",
    "# Splitting the original DataFrame into home and away games\n",
    "home_games = df_last_5_matches[['COMPETITION', 'SEASON', 'HOME_TEAM_ID', 'GAMEWEEK']].rename(columns={'HOME_TEAM_ID': 'TEAM_ID'})\n",
    "away_games = df_last_5_matches[['COMPETITION', 'SEASON', 'AWAY_TEAM_ID', 'GAMEWEEK']].rename(columns={'AWAY_TEAM_ID': 'TEAM_ID'})\n",
    "\n",
    "# Concatenating both DataFrames to consider home and away games together\n",
    "all_games = pd.concat([home_games, away_games])\n",
    "\n",
    "# Group by 'COMPETITION', 'SEASON', and 'TEAM_ID' and apply the function to get the last 5 games\n",
    "last_5_matches = all_games.groupby(['COMPETITION', 'SEASON', 'TEAM_ID']).apply(get_last_5_matches)"
   ]
  },
  {
   "cell_type": "code",
   "execution_count": 195,
   "metadata": {},
   "outputs": [
    {
     "name": "stdout",
     "output_type": "stream",
     "text": [
      "[4280, 4275, 4258, 4250, 4231, 4285, 4241, 4253, 4251, 4231, 4289, 4274, 4261, 4242, 4235, 4284, 4272, 4256, 4246, 4234, 4286, 4276, 4252, 4245, 4236, 4289, 4271, 4257, 4249, 4232, 4285, 4268, 4256, 4245, 4240, 4281, 4270, 4258, 4243, 4240, 4282, 4273, 4261, 4250, 4238, 4287, 4276, 4257, 4244, 4239, 4288, 4268, 4254, 4242, 4233, 4287, 4274, 4255, 4247, 4237, 4283, 4271, 4254, 4246, 4237, 4286, 4272, 4259, 4249, 4233, 4283, 4275, 4260, 4244, 4235, 4288, 4273, 4260, 4243, 4234, 4281, 4269, 4252, 4251, 4232, 4284, 4241, 4255, 4248, 4238, 4282, 4270, 4253, 4247, 4236, 4280, 4269, 4259, 4248, 4239, 4660, 4651, 4643, 4632, 4623, 4668, 4648, 4641, 4633, 4620, 4669, 4654, 4642, 4636, 4621, 4666, 4652, 4637, 4630, 4619, 4664, 4649, 4639, 4630, 4616, 4665, 4648, 4639, 4627, 4617, 4666, 4656, 4640, 4629, 4617, 4667, 4656, 4644, 4633, 4616, 4669, 4650, 4646, 4628, 4619, 4661, 4650, 4637, 4631, 4620, 4660, 4653, 4641, 4631, 4615, 4667, 4657, 4646, 4635, 4622, 4663, 4657, 4640, 4632, 4621, 4662, 4655, 4645, 4629, 4618, 4662, 4652, 4644, 4628, 4614, 4663, 4655, 4638, 4627, 4623, 4661, 4654, 4643, 4634, 4615, 4665, 4653, 4645, 4634, 4622, 4664, 4651, 4638, 4636, 4614, 4668, 4649, 4642, 4635, 4618, 21, 69, 106, 181, 203, 54, 105, 99, 117, 8, 29, 62, 107, 104, 119, 53, 103, 113, 124, 134, 14, 81, 191, 202, 126, 27, 54, 178, 202, 222, 14, 51, 109, 113, 125, 36, 81, 105, 104, 118, 27, 69, 179, 172, 121, 21, 55, 109, 114, 121, 29, 58, 184, 114, 212, 53, 102, 116, 125, 6, 78, 191, 172, 203, 3, 39, 62, 179, 111, 117, 65, 107, 99, 212, 25, 58, 106, 111, 118, 3, 26, 65, 184, 116, 222, 39, 78, 178, 181, 124, 26, 55, 103, 112, 126, 36, 51, 102, 112, 119, 3596, 3471, 3548, 3400, 3884, 3876, 3907, 3901, 3646, 3444, 3876, 3470, 3442, 3454, 3546, 3596, 3557, 3373, 3545, 3444, 3615, 3471, 3581, 3879, 3455, 3579, 3498, 3366, 3892, 3356, 3473, 3850, 3563, 3422, 3884, 3473, 3907, 3548, 3554, 3487, 3525, 3494, 3368, 3870, 3546, 3535, 3494, 3366, 3503, 3361, 3535, 3557, 3442, 3554, 3447, 3468, 3644, 3581, 3545, 3395, 3468, 3628, 3368, 3400, 3356, 3615, 3343, 3373, 3454, 3906, 3658, 3343, 3563, 3892, 3455, 3342, 3628, 3475, 3879, 3361, 3658, 3470, 3450, 3503, 3447, 3525, 3498, 3450, 3422, 3906, 3342, 3850, 3901, 3870, 3395, 3579, 3644, 3475, 3646, 3487, 3175, 3131, 3153, 3280, 3255, 3066, 2988, 3237, 3119, 3046, 3091, 3167, 3237, 3300, 3268, 3263, 3116, 3203, 3264, 3190, 3065, 3167, 3084, 3314, 3027, 2993, 3202, 3153, 3173, 3190, 2993, 2989, 3178, 2979, 3301, 3177, 3202, 3021, 2994, 3032, 3066, 3131, 3077, 2994, 3301, 3055, 2988, 3121, 3314, 3255, 3175, 3130, 3054, 3264, 3254, 3065, 3116, 3178, 3098, 3262, 3055, 3266, 2982, 3098, 3268, 3186, 2989, 3021, 3030, 3046, 3263, 3050, 2982, 3280, 3032, 3009, 3266, 3084, 2979, 3067, 3186, 3050, 3121, 3300, 3254, 3177, 3217, 3203, 3119, 3027, 3091, 3217, 3054, 3173, 3067, 3009, 3130, 3077, 3030, 3262, 23, 75, 232, 535, 3816, 10, 74, 214, 537, 3822, 16, 66, 232, 534, 3814, 47, 79, 200, 538, 3755, 45, 87, 227, 514, 3814, 50, 79, 223, 539, 3816, 16, 87, 223, 537, 4677, 41, 83, 204, 536, 4680, 47, 92, 214, 535, 1755, 44, 82, 217, 539, 3825, 17, 89, 122, 536, 3822, 10, 83, 230, 384, 3825, 50, 82, 210, 514, 3820, 45, 75, 204, 532, 1755, 44, 89, 200, 534, 3817, 22, 74, 227, 538, 4680, 41, 92, 217, 533, 3820, 17, 66, 210, 533, 3817, 23, 52, 230, 532, 4677, 22, 52, 122, 384, 3755, 1513, 1454, 1445, 1210, 1169, 1426, 1421, 1480, 1210, 1449, 1276, 1163, 1418, 1199, 1203, 1314, 1201, 1177, 1423, 1449, 1151, 1265, 1373, 1469, 1436, 1276, 1186, 1445, 1435, 1348, 1426, 1483, 1524, 1466, 1436, 1256, 1265, 1383, 1519, 1382, 1151, 1406, 1404, 1156, 1272, 1256, 1421, 1187, 1423, 1272, 1427, 1483, 1480, 1519, 1479, 1314, 1454, 1373, 1466, 1382, 1253, 1190, 1289, 1469, 1203, 1427, 1190, 1383, 1267, 1169, 1253, 1406, 1418, 1335, 1348, 1411, 1163, 1177, 1156, 1295, 1411, 1186, 1289, 1199, 1458, 1513, 1378, 1404, 1335, 1458, 1473, 1201, 1524, 1267, 1295, 1473, 1378, 1187, 1435, 1479, 783, 807, 930, 1098, 892, 1032, 807, 819, 780, 784, 265, 1000, 930, 851, 871, 923, 1043, 1119, 951, 882, 803, 1143, 972, 870, 1079, 850, 1000, 1048, 949, 1065, 996, 1043, 1081, 870, 836, 803, 790, 869, 1042, 871, 1032, 1041, 1081, 940, 876, 893, 886, 869, 951, 892, 950, 812, 1119, 1098, 1015, 923, 936, 972, 858, 876, 950, 976, 944, 780, 884, 783, 1041, 1040, 881, 784, 996, 936, 819, 851, 1015, 1051, 976, 860, 881, 1065, 1051, 812, 1048, 1042, 882, 893, 1143, 860, 949, 884, 850, 790, 944, 940, 1079, 265, 886, 1040, 858, 836, 60, 0, 196, 209, 240, 12, 68, 175, 229, 129, 9, 95, 171, 221, 238, 9, 0, 190, 120, 235, 15, 76, 176, 229, 237, 12, 94, 196, 225, 234, 43, 95, 168, 231, 235, 34, 94, 171, 231, 236, 34, 4, 190, 216, 239, 60, 5, 175, 207, 241, 30, 86, 187, 225, 238, 43, 76, 187, 209, 236, 32, 68, 108, 221, 237, 30, 5, 108, 120, 129, 15, 73, 182, 220, 234, 20, 86, 182, 207, 239, 32, 73, 176, 216, 240, 20, 4, 168, 220, 241, 2759, 2882, 2956, 2713, 2737, 2903, 2745, 2846, 2934, 2734, 2837, 2897, 2664, 2887, 2924, 2837, 2888, 2785, 2936, 2737, 2856, 2908, 2722, 2779, 2734, 2848, 2719, 2722, 2714, 2924, 2759, 2876, 2865, 2697, 2731, 2903, 2815, 2959, 2881, 2755, 2708, 2745, 2959, 2714, 2825, 2895, 2736, 2785, 2723, 2800, 2898, 2719, 2846, 2881, 2825, 2852, 2736, 2956, 2697, 2839, 2856, 2897, 2865, 2723, 2766, 2848, 2888, 2819, 2934, 2755, 2895, 2908, 2819, 2887, 2839, 2708, 2815, 2664, 2779, 2731, 2852, 2882, 2858, 2936, 2766, 2898, 2876, 2858, 2713, 2800, 2361, 2575, 2485, 2593, 2549, 2552, 2496, 2401, 2525, 2513, 2590, 2464, 2577, 2646, 2366, 2410, 2620, 2451, 2473, 2513, 2590, 2581, 2572, 2454, 2375, 2410, 2429, 2485, 2420, 2470, 2361, 2371, 2435, 2473, 2375, 2439, 2453, 2440, 2525, 2348, 2439, 2575, 2532, 2646, 2604, 2355, 2371, 2462, 2381, 2470, 2570, 2429, 2532, 2568, 2584, 2602, 2496, 2440, 2568, 2549, 2355, 2464, 2572, 2420, 2534, 2352, 2620, 2577, 2454, 2534, 2552, 2453, 2451, 2482, 2584, 2602, 2521, 2401, 2381, 2348, 2352, 2581, 2435, 2482, 2604, 2570, 2521, 2462, 2593, 2366, 11, 71, 186, 208, 253, 38, 90, 192, 226, 251, 61, 70, 186, 213, 256, 49, 91, 192, 215, 132, 11, 59, 100, 123, 132, 18, 97, 100, 206, 256, 19, 64, 169, 215, 253, 19, 85, 110, 206, 255, 31, 72, 166, 233, 251, 38, 70, 177, 127, 255, 46, 71, 166, 218, 254, 46, 72, 193, 123, 250, 49, 97, 193, 218, 252, 42, 59, 169, 226, 131, 18, 91, 167, 233, 254, 31, 90, 167, 213, 252, 42, 85, 177, 208, 250, 61, 64, 110, 127, 131, 2321, 2206, 2325, 2161, 2147, 2313, 2336, 2026, 2189, 2262, 2274, 2336, 2143, 2087, 2337, 2171, 2221, 2212, 2036, 2147, 2014, 2257, 2331, 2238, 2346, 2171, 2302, 2260, 2047, 2069, 2157, 2206, 2148, 2016, 2337, 2313, 2261, 2248, 2016, 2103, 2317, 2257, 2248, 2047, 2262, 2048, 2156, 2148, 2123, 2138, 2048, 1997, 1995, 2087, 2079, 2160, 2341, 2212, 1974, 2138, 2160, 1969, 2063, 2189, 2069, 2321, 1997, 2063, 2123, 2346, 2274, 2341, 2331, 2036, 2342, 2157, 2302, 2143, 2226, 2079, 2317, 1969, 1995, 2161, 2342, 2043, 2156, 2026, 2238, 2103, 2014, 2261, 2260, 1974, 2288, 2043, 2221, 2325, 2226, 2288, 1731, 1811, 1881, 1593, 1908, 1542, 1618, 1665, 1805, 1564, 1661, 1953, 1802, 1805, 1577, 1926, 1541, 1828, 1824, 1716, 1957, 1528, 1646, 1540, 1577, 1706, 1588, 1802, 1593, 1872, 1943, 1953, 1697, 1837, 1940, 1606, 1653, 1881, 1596, 1814, 1710, 1642, 1818, 1722, 1908, 1957, 1928, 1665, 1693, 1621, 1614, 1653, 1828, 1547, 1940, 1606, 1618, 1945, 1722, 1847, 1614, 1811, 1852, 1693, 1847, 1943, 1588, 1852, 1824, 1576, 1710, 1541, 1920, 1540, 1872, 1661, 1928, 1920, 1865, 1576, 1542, 1964, 1818, 1837, 1814, 1731, 1964, 1945, 1547, 1621, 1706, 1642, 1646, 1865, 1716, 1926, 1528, 1697, 1596, 1564, 40, 2, 101, 198, 245, 40, 93, 188, 197, 242, 28, 98, 194, 211, 245, 37, 96, 173, 201, 249, 24, 96, 195, 211, 247, 13, 77, 189, 228, 525, 63, 77, 188, 219, 248, 28, 67, 173, 219, 244, 63, 80, 180, 224, 244, 24, 93, 174, 205, 528, 33, 84, 194, 115, 249, 56, 57, 174, 197, 247, 13, 80, 183, 201, 246, 37, 2, 180, 199, 243, 33, 67, 195, 205, 130, 35, 57, 101, 115, 130, 35, 88, 170, 228, 242, 56, 98, 189, 224, 248, 48, 88, 183, 198, 243, 48, 84, 170, 199, 246]\n"
     ]
    }
   ],
   "source": [
    "game_weeks = [index[-1] for index in last_5_matches.index]\n",
    "print(game_weeks)"
   ]
  },
  {
   "cell_type": "code",
   "execution_count": 196,
   "metadata": {},
   "outputs": [],
   "source": [
    "df_last_5_matches = df_last_5_matches.loc[game_weeks]"
   ]
  },
  {
   "cell_type": "code",
   "execution_count": 197,
   "metadata": {},
   "outputs": [],
   "source": [
    "last_5_matches = list(df_last_5_matches['MATCH_ID'])\n",
    "df_shots_last_5_matches = df_shots[df_shots['MATCH_ID'].isin(last_5_matches)]"
   ]
  },
  {
   "cell_type": "code",
   "execution_count": 198,
   "metadata": {},
   "outputs": [
    {
     "data": {
      "text/html": [
       "<div>\n",
       "<style scoped>\n",
       "    .dataframe tbody tr th:only-of-type {\n",
       "        vertical-align: middle;\n",
       "    }\n",
       "\n",
       "    .dataframe tbody tr th {\n",
       "        vertical-align: top;\n",
       "    }\n",
       "\n",
       "    .dataframe thead th {\n",
       "        text-align: right;\n",
       "    }\n",
       "</style>\n",
       "<table border=\"1\" class=\"dataframe\">\n",
       "  <thead>\n",
       "    <tr style=\"text-align: right;\">\n",
       "      <th></th>\n",
       "      <th>MATCH_ID</th>\n",
       "      <th>ACTION_ID</th>\n",
       "      <th>XG</th>\n",
       "      <th>PSXG</th>\n",
       "      <th>OUTCOME</th>\n",
       "      <th>DISTANCE</th>\n",
       "      <th>BODY_PART</th>\n",
       "      <th>NOTES</th>\n",
       "      <th>SCA_1_PLAYER_WS_ID</th>\n",
       "      <th>SCA_1_PLAYER_FBREF_EVENT</th>\n",
       "      <th>SCA_2_PLAYER_WS_ID</th>\n",
       "      <th>SCA_2_PLAYER_FBREF_EVENT</th>\n",
       "      <th>TEAM_FBREF_ID</th>\n",
       "      <th>PERIOD_ID</th>\n",
       "      <th>NEW_TIME_SECONDS</th>\n",
       "      <th>START_X</th>\n",
       "      <th>END_X</th>\n",
       "      <th>START_Y</th>\n",
       "      <th>END_Y</th>\n",
       "      <th>PLAYER_WS_ID</th>\n",
       "      <th>RESULT_ID</th>\n",
       "      <th>TEAM_NAME</th>\n",
       "      <th>GAMEWEEK</th>\n",
       "      <th>COMPETITION</th>\n",
       "      <th>SEASON</th>\n",
       "      <th>COMPETITION_ACRONYM</th>\n",
       "      <th>OPPO_TEAM_ID</th>\n",
       "      <th>OPPO_TEAM_NAME</th>\n",
       "      <th>PLAYER_FBREF_NAME</th>\n",
       "    </tr>\n",
       "  </thead>\n",
       "  <tbody>\n",
       "    <tr>\n",
       "      <th>0</th>\n",
       "      <td>3435dfcc</td>\n",
       "      <td>113</td>\n",
       "      <td>0.13</td>\n",
       "      <td>0.19</td>\n",
       "      <td>Goal</td>\n",
       "      <td>9</td>\n",
       "      <td>Left Foot</td>\n",
       "      <td>None</td>\n",
       "      <td>332325.0</td>\n",
       "      <td>Pass (Live)</td>\n",
       "      <td>238940.0</td>\n",
       "      <td>Pass (Live)</td>\n",
       "      <td>18bb7c10</td>\n",
       "      <td>1</td>\n",
       "      <td>240.0</td>\n",
       "      <td>99.960</td>\n",
       "      <td>105.00</td>\n",
       "      <td>44.608</td>\n",
       "      <td>36.516</td>\n",
       "      <td>113994</td>\n",
       "      <td>1</td>\n",
       "      <td>Arsenal</td>\n",
       "      <td>29</td>\n",
       "      <td>ENG-Premier League</td>\n",
       "      <td>2324</td>\n",
       "      <td>EPL</td>\n",
       "      <td>cff3d9bb</td>\n",
       "      <td>Chelsea</td>\n",
       "      <td>Leandro Trossard</td>\n",
       "    </tr>\n",
       "    <tr>\n",
       "      <th>1</th>\n",
       "      <td>3435dfcc</td>\n",
       "      <td>1265</td>\n",
       "      <td>0.09</td>\n",
       "      <td>0.42</td>\n",
       "      <td>Goal</td>\n",
       "      <td>14</td>\n",
       "      <td>Left Foot</td>\n",
       "      <td>None</td>\n",
       "      <td>367185.0</td>\n",
       "      <td>Pass (Live)</td>\n",
       "      <td>238940.0</td>\n",
       "      <td>Pass (Live)</td>\n",
       "      <td>18bb7c10</td>\n",
       "      <td>2</td>\n",
       "      <td>1170.0</td>\n",
       "      <td>91.875</td>\n",
       "      <td>105.00</td>\n",
       "      <td>31.824</td>\n",
       "      <td>31.348</td>\n",
       "      <td>326413</td>\n",
       "      <td>1</td>\n",
       "      <td>Arsenal</td>\n",
       "      <td>29</td>\n",
       "      <td>ENG-Premier League</td>\n",
       "      <td>2324</td>\n",
       "      <td>EPL</td>\n",
       "      <td>cff3d9bb</td>\n",
       "      <td>Chelsea</td>\n",
       "      <td>Kai Havertz</td>\n",
       "    </tr>\n",
       "    <tr>\n",
       "      <th>2</th>\n",
       "      <td>70770e72</td>\n",
       "      <td>993</td>\n",
       "      <td>0.31</td>\n",
       "      <td>0.76</td>\n",
       "      <td>Goal</td>\n",
       "      <td>9</td>\n",
       "      <td>Right Foot</td>\n",
       "      <td>None</td>\n",
       "      <td>140667.0</td>\n",
       "      <td>Pass (Live)</td>\n",
       "      <td>332143.0</td>\n",
       "      <td>Pass (Live)</td>\n",
       "      <td>1df6b87e</td>\n",
       "      <td>2</td>\n",
       "      <td>249.0</td>\n",
       "      <td>96.495</td>\n",
       "      <td>105.00</td>\n",
       "      <td>35.904</td>\n",
       "      <td>35.836</td>\n",
       "      <td>332839</td>\n",
       "      <td>1</td>\n",
       "      <td>Sheffield Utd</td>\n",
       "      <td>29</td>\n",
       "      <td>ENG-Premier League</td>\n",
       "      <td>2324</td>\n",
       "      <td>EPL</td>\n",
       "      <td>19538871</td>\n",
       "      <td>Manchester Utd</td>\n",
       "      <td>Ben Brereton</td>\n",
       "    </tr>\n",
       "    <tr>\n",
       "      <th>3</th>\n",
       "      <td>88182e5f</td>\n",
       "      <td>1143</td>\n",
       "      <td>0.10</td>\n",
       "      <td>0.34</td>\n",
       "      <td>Goal</td>\n",
       "      <td>23</td>\n",
       "      <td>Left Foot</td>\n",
       "      <td>None</td>\n",
       "      <td>NaN</td>\n",
       "      <td>None</td>\n",
       "      <td>NaN</td>\n",
       "      <td>None</td>\n",
       "      <td>fd6114db</td>\n",
       "      <td>2</td>\n",
       "      <td>958.0</td>\n",
       "      <td>81.900</td>\n",
       "      <td>105.00</td>\n",
       "      <td>32.028</td>\n",
       "      <td>31.552</td>\n",
       "      <td>362470</td>\n",
       "      <td>1</td>\n",
       "      <td>Monaco</td>\n",
       "      <td>29</td>\n",
       "      <td>FRA-Ligue 1</td>\n",
       "      <td>2324</td>\n",
       "      <td>Ligue 1</td>\n",
       "      <td>cb188c0c</td>\n",
       "      <td>Lille</td>\n",
       "      <td>Youssouf Fofana</td>\n",
       "    </tr>\n",
       "    <tr>\n",
       "      <th>4</th>\n",
       "      <td>0727529c</td>\n",
       "      <td>629</td>\n",
       "      <td>0.06</td>\n",
       "      <td>NaN</td>\n",
       "      <td>Blocked</td>\n",
       "      <td>18</td>\n",
       "      <td>Left Foot</td>\n",
       "      <td>None</td>\n",
       "      <td>322668.0</td>\n",
       "      <td>Pass (Live)</td>\n",
       "      <td>301869.0</td>\n",
       "      <td>Pass (Live)</td>\n",
       "      <td>5725cc7b</td>\n",
       "      <td>1</td>\n",
       "      <td>1990.0</td>\n",
       "      <td>88.620</td>\n",
       "      <td>90.30</td>\n",
       "      <td>35.632</td>\n",
       "      <td>35.224</td>\n",
       "      <td>388567</td>\n",
       "      <td>0</td>\n",
       "      <td>Marseille</td>\n",
       "      <td>29</td>\n",
       "      <td>FRA-Ligue 1</td>\n",
       "      <td>2324</td>\n",
       "      <td>Ligue 1</td>\n",
       "      <td>132ebc33</td>\n",
       "      <td>Nice</td>\n",
       "      <td>Luis Henrique</td>\n",
       "    </tr>\n",
       "    <tr>\n",
       "      <th>...</th>\n",
       "      <td>...</td>\n",
       "      <td>...</td>\n",
       "      <td>...</td>\n",
       "      <td>...</td>\n",
       "      <td>...</td>\n",
       "      <td>...</td>\n",
       "      <td>...</td>\n",
       "      <td>...</td>\n",
       "      <td>...</td>\n",
       "      <td>...</td>\n",
       "      <td>...</td>\n",
       "      <td>...</td>\n",
       "      <td>...</td>\n",
       "      <td>...</td>\n",
       "      <td>...</td>\n",
       "      <td>...</td>\n",
       "      <td>...</td>\n",
       "      <td>...</td>\n",
       "      <td>...</td>\n",
       "      <td>...</td>\n",
       "      <td>...</td>\n",
       "      <td>...</td>\n",
       "      <td>...</td>\n",
       "      <td>...</td>\n",
       "      <td>...</td>\n",
       "      <td>...</td>\n",
       "      <td>...</td>\n",
       "      <td>...</td>\n",
       "      <td>...</td>\n",
       "    </tr>\n",
       "    <tr>\n",
       "      <th>130871</th>\n",
       "      <td>a370b8d5</td>\n",
       "      <td>712</td>\n",
       "      <td>0.02</td>\n",
       "      <td>NaN</td>\n",
       "      <td>Blocked</td>\n",
       "      <td>31</td>\n",
       "      <td>Right Foot</td>\n",
       "      <td>None</td>\n",
       "      <td>301243.0</td>\n",
       "      <td>Pass (Live)</td>\n",
       "      <td>384143.0</td>\n",
       "      <td>Pass (Live)</td>\n",
       "      <td>1c781004</td>\n",
       "      <td>1</td>\n",
       "      <td>2692.0</td>\n",
       "      <td>76.335</td>\n",
       "      <td>84.21</td>\n",
       "      <td>33.932</td>\n",
       "      <td>33.864</td>\n",
       "      <td>404572</td>\n",
       "      <td>0</td>\n",
       "      <td>Norwich City</td>\n",
       "      <td>36</td>\n",
       "      <td>ENG-Premier League</td>\n",
       "      <td>2122</td>\n",
       "      <td>EPL</td>\n",
       "      <td>7c21e445</td>\n",
       "      <td>West Ham</td>\n",
       "      <td>Jakob Sørensen</td>\n",
       "    </tr>\n",
       "    <tr>\n",
       "      <th>130872</th>\n",
       "      <td>a370b8d5</td>\n",
       "      <td>1193</td>\n",
       "      <td>0.05</td>\n",
       "      <td>0.03</td>\n",
       "      <td>Saved</td>\n",
       "      <td>15</td>\n",
       "      <td>Left Foot</td>\n",
       "      <td>None</td>\n",
       "      <td>79533.0</td>\n",
       "      <td>Pass (Live)</td>\n",
       "      <td>79533.0</td>\n",
       "      <td>Take-On</td>\n",
       "      <td>1c781004</td>\n",
       "      <td>2</td>\n",
       "      <td>1555.0</td>\n",
       "      <td>92.400</td>\n",
       "      <td>103.32</td>\n",
       "      <td>45.764</td>\n",
       "      <td>36.176</td>\n",
       "      <td>377190</td>\n",
       "      <td>0</td>\n",
       "      <td>Norwich City</td>\n",
       "      <td>36</td>\n",
       "      <td>ENG-Premier League</td>\n",
       "      <td>2122</td>\n",
       "      <td>EPL</td>\n",
       "      <td>7c21e445</td>\n",
       "      <td>West Ham</td>\n",
       "      <td>Przemysław Płacheta</td>\n",
       "    </tr>\n",
       "    <tr>\n",
       "      <th>130873</th>\n",
       "      <td>a370b8d5</td>\n",
       "      <td>1425</td>\n",
       "      <td>0.06</td>\n",
       "      <td>NaN</td>\n",
       "      <td>Off Target</td>\n",
       "      <td>29</td>\n",
       "      <td>Right Foot</td>\n",
       "      <td>Free kick</td>\n",
       "      <td>377190.0</td>\n",
       "      <td>Fouled</td>\n",
       "      <td>384143.0</td>\n",
       "      <td>Pass (Live)</td>\n",
       "      <td>1c781004</td>\n",
       "      <td>2</td>\n",
       "      <td>2297.0</td>\n",
       "      <td>78.330</td>\n",
       "      <td>105.00</td>\n",
       "      <td>40.052</td>\n",
       "      <td>37.468</td>\n",
       "      <td>381255</td>\n",
       "      <td>0</td>\n",
       "      <td>Norwich City</td>\n",
       "      <td>36</td>\n",
       "      <td>ENG-Premier League</td>\n",
       "      <td>2122</td>\n",
       "      <td>EPL</td>\n",
       "      <td>7c21e445</td>\n",
       "      <td>West Ham</td>\n",
       "      <td>Billy Gilmour</td>\n",
       "    </tr>\n",
       "    <tr>\n",
       "      <th>130874</th>\n",
       "      <td>a370b8d5</td>\n",
       "      <td>1452</td>\n",
       "      <td>0.05</td>\n",
       "      <td>NaN</td>\n",
       "      <td>Off Target</td>\n",
       "      <td>25</td>\n",
       "      <td>Right Foot</td>\n",
       "      <td>None</td>\n",
       "      <td>377190.0</td>\n",
       "      <td>Pass (Live)</td>\n",
       "      <td>381255.0</td>\n",
       "      <td>Pass (Live)</td>\n",
       "      <td>1c781004</td>\n",
       "      <td>2</td>\n",
       "      <td>2379.0</td>\n",
       "      <td>82.005</td>\n",
       "      <td>105.00</td>\n",
       "      <td>39.440</td>\n",
       "      <td>29.172</td>\n",
       "      <td>25028</td>\n",
       "      <td>0</td>\n",
       "      <td>Norwich City</td>\n",
       "      <td>36</td>\n",
       "      <td>ENG-Premier League</td>\n",
       "      <td>2122</td>\n",
       "      <td>EPL</td>\n",
       "      <td>7c21e445</td>\n",
       "      <td>West Ham</td>\n",
       "      <td>Teemu Pukki</td>\n",
       "    </tr>\n",
       "    <tr>\n",
       "      <th>130875</th>\n",
       "      <td>a370b8d5</td>\n",
       "      <td>1565</td>\n",
       "      <td>0.46</td>\n",
       "      <td>0.74</td>\n",
       "      <td>Saved</td>\n",
       "      <td>12</td>\n",
       "      <td>Right Foot</td>\n",
       "      <td>None</td>\n",
       "      <td>377190.0</td>\n",
       "      <td>Pass (Live)</td>\n",
       "      <td>377190.0</td>\n",
       "      <td>Take-On</td>\n",
       "      <td>1c781004</td>\n",
       "      <td>2</td>\n",
       "      <td>2678.0</td>\n",
       "      <td>93.870</td>\n",
       "      <td>96.60</td>\n",
       "      <td>25.704</td>\n",
       "      <td>27.744</td>\n",
       "      <td>25028</td>\n",
       "      <td>0</td>\n",
       "      <td>Norwich City</td>\n",
       "      <td>36</td>\n",
       "      <td>ENG-Premier League</td>\n",
       "      <td>2122</td>\n",
       "      <td>EPL</td>\n",
       "      <td>7c21e445</td>\n",
       "      <td>West Ham</td>\n",
       "      <td>Teemu Pukki</td>\n",
       "    </tr>\n",
       "  </tbody>\n",
       "</table>\n",
       "<p>18966 rows × 29 columns</p>\n",
       "</div>"
      ],
      "text/plain": [
       "        MATCH_ID  ACTION_ID    XG  PSXG     OUTCOME  DISTANCE   BODY_PART  \\\n",
       "0       3435dfcc        113  0.13  0.19        Goal         9   Left Foot   \n",
       "1       3435dfcc       1265  0.09  0.42        Goal        14   Left Foot   \n",
       "2       70770e72        993  0.31  0.76        Goal         9  Right Foot   \n",
       "3       88182e5f       1143  0.10  0.34        Goal        23   Left Foot   \n",
       "4       0727529c        629  0.06   NaN     Blocked        18   Left Foot   \n",
       "...          ...        ...   ...   ...         ...       ...         ...   \n",
       "130871  a370b8d5        712  0.02   NaN     Blocked        31  Right Foot   \n",
       "130872  a370b8d5       1193  0.05  0.03       Saved        15   Left Foot   \n",
       "130873  a370b8d5       1425  0.06   NaN  Off Target        29  Right Foot   \n",
       "130874  a370b8d5       1452  0.05   NaN  Off Target        25  Right Foot   \n",
       "130875  a370b8d5       1565  0.46  0.74       Saved        12  Right Foot   \n",
       "\n",
       "            NOTES  SCA_1_PLAYER_WS_ID SCA_1_PLAYER_FBREF_EVENT  \\\n",
       "0            None            332325.0              Pass (Live)   \n",
       "1            None            367185.0              Pass (Live)   \n",
       "2            None            140667.0              Pass (Live)   \n",
       "3            None                 NaN                     None   \n",
       "4            None            322668.0              Pass (Live)   \n",
       "...           ...                 ...                      ...   \n",
       "130871       None            301243.0              Pass (Live)   \n",
       "130872       None             79533.0              Pass (Live)   \n",
       "130873  Free kick            377190.0                   Fouled   \n",
       "130874       None            377190.0              Pass (Live)   \n",
       "130875       None            377190.0              Pass (Live)   \n",
       "\n",
       "        SCA_2_PLAYER_WS_ID SCA_2_PLAYER_FBREF_EVENT TEAM_FBREF_ID  PERIOD_ID  \\\n",
       "0                 238940.0              Pass (Live)      18bb7c10          1   \n",
       "1                 238940.0              Pass (Live)      18bb7c10          2   \n",
       "2                 332143.0              Pass (Live)      1df6b87e          2   \n",
       "3                      NaN                     None      fd6114db          2   \n",
       "4                 301869.0              Pass (Live)      5725cc7b          1   \n",
       "...                    ...                      ...           ...        ...   \n",
       "130871            384143.0              Pass (Live)      1c781004          1   \n",
       "130872             79533.0                  Take-On      1c781004          2   \n",
       "130873            384143.0              Pass (Live)      1c781004          2   \n",
       "130874            381255.0              Pass (Live)      1c781004          2   \n",
       "130875            377190.0                  Take-On      1c781004          2   \n",
       "\n",
       "        NEW_TIME_SECONDS  START_X   END_X  START_Y   END_Y  PLAYER_WS_ID  \\\n",
       "0                  240.0   99.960  105.00   44.608  36.516        113994   \n",
       "1                 1170.0   91.875  105.00   31.824  31.348        326413   \n",
       "2                  249.0   96.495  105.00   35.904  35.836        332839   \n",
       "3                  958.0   81.900  105.00   32.028  31.552        362470   \n",
       "4                 1990.0   88.620   90.30   35.632  35.224        388567   \n",
       "...                  ...      ...     ...      ...     ...           ...   \n",
       "130871            2692.0   76.335   84.21   33.932  33.864        404572   \n",
       "130872            1555.0   92.400  103.32   45.764  36.176        377190   \n",
       "130873            2297.0   78.330  105.00   40.052  37.468        381255   \n",
       "130874            2379.0   82.005  105.00   39.440  29.172         25028   \n",
       "130875            2678.0   93.870   96.60   25.704  27.744         25028   \n",
       "\n",
       "        RESULT_ID      TEAM_NAME  GAMEWEEK         COMPETITION  SEASON  \\\n",
       "0               1        Arsenal        29  ENG-Premier League    2324   \n",
       "1               1        Arsenal        29  ENG-Premier League    2324   \n",
       "2               1  Sheffield Utd        29  ENG-Premier League    2324   \n",
       "3               1         Monaco        29         FRA-Ligue 1    2324   \n",
       "4               0      Marseille        29         FRA-Ligue 1    2324   \n",
       "...           ...            ...       ...                 ...     ...   \n",
       "130871          0   Norwich City        36  ENG-Premier League    2122   \n",
       "130872          0   Norwich City        36  ENG-Premier League    2122   \n",
       "130873          0   Norwich City        36  ENG-Premier League    2122   \n",
       "130874          0   Norwich City        36  ENG-Premier League    2122   \n",
       "130875          0   Norwich City        36  ENG-Premier League    2122   \n",
       "\n",
       "       COMPETITION_ACRONYM OPPO_TEAM_ID  OPPO_TEAM_NAME    PLAYER_FBREF_NAME  \n",
       "0                      EPL     cff3d9bb         Chelsea     Leandro Trossard  \n",
       "1                      EPL     cff3d9bb         Chelsea          Kai Havertz  \n",
       "2                      EPL     19538871  Manchester Utd         Ben Brereton  \n",
       "3                  Ligue 1     cb188c0c           Lille      Youssouf Fofana  \n",
       "4                  Ligue 1     132ebc33            Nice        Luis Henrique  \n",
       "...                    ...          ...             ...                  ...  \n",
       "130871                 EPL     7c21e445        West Ham       Jakob Sørensen  \n",
       "130872                 EPL     7c21e445        West Ham  Przemysław Płacheta  \n",
       "130873                 EPL     7c21e445        West Ham        Billy Gilmour  \n",
       "130874                 EPL     7c21e445        West Ham          Teemu Pukki  \n",
       "130875                 EPL     7c21e445        West Ham          Teemu Pukki  \n",
       "\n",
       "[18966 rows x 29 columns]"
      ]
     },
     "execution_count": 198,
     "metadata": {},
     "output_type": "execute_result"
    }
   ],
   "source": [
    "df_shots_last_5_matches"
   ]
  },
  {
   "cell_type": "code",
   "execution_count": 203,
   "metadata": {},
   "outputs": [],
   "source": [
    "create_table_query = \"\"\"\n",
    "CREATE TABLE IF NOT EXISTS SHOT_MAP (\n",
    "    MATCH_ID VARCHAR(255),\n",
    "    ACTION_ID INT,\n",
    "    XG DOUBLE,\n",
    "    PSXG DOUBLE,\n",
    "    OUTCOME VARCHAR(255),\n",
    "    DISTANCE INT,\n",
    "    BODY_PART VARCHAR(255),\n",
    "    NOTES VARCHAR(255),\n",
    "    SCA_1_PLAYER_WS_ID INT,\n",
    "    SCA_1_PLAYER_FBREF_EVENT VARCHAR(255),\n",
    "    SCA_2_PLAYER_WS_ID INT,\n",
    "    SCA_2_PLAYER_FBREF_EVENT VARCHAR(255),\n",
    "    TEAM_FBREF_ID VARCHAR(255),\n",
    "    PERIOD_ID INT,\n",
    "    NEW_TIME_SECONDS DOUBLE,\n",
    "    START_X DOUBLE, \n",
    "    END_X DOUBLE,\n",
    "    START_Y DOUBLE,\n",
    "    END_Y DOUBLE,\n",
    "    PLAYER_WS_ID INT,\n",
    "    RESULT_ID INT,\n",
    "    TEAM_NAME VARCHAR(255),\n",
    "    GAMEWEEK INT,\n",
    "    COMPETITION VARCHAR(255),\n",
    "    SEASON INT,\n",
    "    COMPETITION_ACRONYM VARCHAR(255),\n",
    "    OPPO_TEAM_ID VARCHAR(255),\n",
    "    OPPO_TEAM_NAME VARCHAR(255),\n",
    "    PLAYER_FBREF_NAME VARCHAR(255),\n",
    "    PRIMARY KEY (MATCH_ID, ACTION_ID),\n",
    "    FOREIGN KEY (MATCH_ID) REFERENCES GEGENSTATS.TABLES.MATCHES(MATCH_ID),\n",
    "    FOREIGN KEY (MATCH_ID, ACTION_ID) REFERENCES GEGENSTATS.TABLES.SHOT_EVENTS(MATCH_ID, ACTION_ID),\n",
    "    FOREIGN KEY (SCA_1_PLAYER_WS_ID) REFERENCES GEGENSTATS.TABLES.PLAYERS(PLAYER_WS_ID),\n",
    "    FOREIGN KEY (SCA_2_PLAYER_WS_ID) REFERENCES GEGENSTATS.TABLES.PLAYERS(PLAYER_WS_ID)\n",
    ");\n",
    "\"\"\""
   ]
  },
  {
   "cell_type": "code",
   "execution_count": 204,
   "metadata": {},
   "outputs": [
    {
     "data": {
      "text/plain": [
       "<snowflake.connector.cursor.SnowflakeCursor at 0x196ad0e9290>"
      ]
     },
     "execution_count": 204,
     "metadata": {},
     "output_type": "execute_result"
    }
   ],
   "source": [
    "cur.execute(create_table_query)"
   ]
  },
  {
   "cell_type": "code",
   "execution_count": 205,
   "metadata": {},
   "outputs": [
    {
     "name": "stdout",
     "output_type": "stream",
     "text": [
      "Upsert completed. 18966 rows processed.\n"
     ]
    }
   ],
   "source": [
    "upsert_to_snowflake(\"SHOT_MAP\", df_shots_last_5_matches, ['MATCH_ID', 'ACTION_ID'])"
   ]
  },
  {
   "cell_type": "code",
   "execution_count": 238,
   "metadata": {},
   "outputs": [],
   "source": [
    "df_shots_last_5_matches = fetch_data(cursor, 'SELECT * FROM  GEGENSTATS.RADAR_CHARTS.SHOT_MAP')"
   ]
  },
  {
   "cell_type": "code",
   "execution_count": null,
   "metadata": {},
   "outputs": [],
   "source": []
  },
  {
   "cell_type": "code",
   "execution_count": null,
   "metadata": {},
   "outputs": [],
   "source": []
  },
  {
   "cell_type": "code",
   "execution_count": 239,
   "metadata": {},
   "outputs": [],
   "source": [
    "# df_shots = df_shots.merge(df_events[['MATCH_ID', 'ACTION_ID', 'PERIOD_ID','NEW_TIME_SECONDS','START_X','END_X','START_Y', \n",
    "#                          'END_Y', 'PLAYER_WS_ID', 'RESULT_ID']], on=['MATCH_ID', 'ACTION_ID'])"
   ]
  },
  {
   "cell_type": "code",
   "execution_count": 240,
   "metadata": {},
   "outputs": [],
   "source": [
    "# df_shots = df_shots.merge(df_matches[['MATCH_ID', 'HOME_TEAM_ID', 'AWAY_TEAM_ID', 'GAMEWEEK']], on='MATCH_ID', how='left')"
   ]
  },
  {
   "cell_type": "code",
   "execution_count": 241,
   "metadata": {},
   "outputs": [],
   "source": [
    "# df_shots['OPPO_TEAM_ID'] = df_shots.apply(lambda row: row['AWAY_TEAM_ID'] if row['TEAM_FBREF_ID'] == row['HOME_TEAM_ID'] else row['HOME_TEAM_ID'], axis=1)"
   ]
  },
  {
   "cell_type": "code",
   "execution_count": 242,
   "metadata": {},
   "outputs": [],
   "source": [
    "# df_shots.drop(['HOME_TEAM_ID', 'AWAY_TEAM_ID'], axis=1, inplace=True)"
   ]
  },
  {
   "cell_type": "code",
   "execution_count": 243,
   "metadata": {},
   "outputs": [],
   "source": [
    "# df_shots = df_shots.merge(team_names_2, on='OPPO_TEAM_ID')"
   ]
  },
  {
   "cell_type": "code",
   "execution_count": 244,
   "metadata": {},
   "outputs": [],
   "source": [
    "# df_shots = df_shots.merge(df_players[['PLAYER_WS_ID', 'PLAYER_FBREF_NAME']], on=\"PLAYER_WS_ID\")"
   ]
  },
  {
   "cell_type": "code",
   "execution_count": 245,
   "metadata": {},
   "outputs": [],
   "source": [
    "team_selected = 'Nantes'"
   ]
  },
  {
   "cell_type": "code",
   "execution_count": 246,
   "metadata": {},
   "outputs": [],
   "source": [
    "# df_last_5_matches_filt = df_last_5_matches_filt[(df_last_5_matches_filt['HOME_TEAM_NAME'] == team_selected) | \n",
    "#                                                 (df_last_5_matches_filt['AWAY_TEAM_NAME'] == team_selected)]\n",
    "# df_last_5_matches_filt = df_last_5_matches_filt.sort_values(by='GAMEWEEK')[-5:]\n",
    "# last_5_matches = list(df_last_5_matches_filt['MATCH_ID'])\n",
    "# df_shots_last_5_matches = df_shots[df_shots['MATCH_ID'].isin(last_5_matches)]"
   ]
  },
  {
   "cell_type": "code",
   "execution_count": 249,
   "metadata": {},
   "outputs": [],
   "source": [
    "df_shots_last_5_matches = df_shots_last_5_matches[df_shots_last_5_matches['SEASON'] == 2223]\n",
    "df_shots_last_5_matches = df_shots_last_5_matches[df_shots_last_5_matches['COMPETITION_ACRONYM'] == 'Ligue 1']"
   ]
  },
  {
   "cell_type": "code",
   "execution_count": 250,
   "metadata": {},
   "outputs": [],
   "source": [
    "df_shots_last_5_matches = df_shots_last_5_matches[df_shots_last_5_matches['TEAM_NAME'] == team_selected]"
   ]
  },
  {
   "cell_type": "code",
   "execution_count": 251,
   "metadata": {},
   "outputs": [
    {
     "data": {
      "text/plain": [
       "OUTCOME\n",
       "Off Target          19\n",
       "Saved               17\n",
       "Blocked             13\n",
       "Goal                 2\n",
       "Woodwork             1\n",
       "Saved off Target     1\n",
       "Name: count, dtype: int64"
      ]
     },
     "execution_count": 251,
     "metadata": {},
     "output_type": "execute_result"
    }
   ],
   "source": [
    "df_shots_last_5_matches['OUTCOME'].value_counts()"
   ]
  },
  {
   "cell_type": "code",
   "execution_count": 252,
   "metadata": {},
   "outputs": [],
   "source": [
    "df_shots_last_5_matches['norm_start_x'] = df_shots_last_5_matches['START_X'] / 120\n",
    "df_shots_last_5_matches['norm_start_y'] = df_shots_last_5_matches['START_Y'] / 80"
   ]
  },
  {
   "cell_type": "code",
   "execution_count": 253,
   "metadata": {},
   "outputs": [],
   "source": [
    "max_size = 5\n",
    "min_size = 2"
   ]
  },
  {
   "cell_type": "code",
   "execution_count": 254,
   "metadata": {},
   "outputs": [],
   "source": [
    "xg_scaled = (df_shots_last_5_matches['XG'] - df_shots_last_5_matches['XG'].min()) / (df_shots_last_5_matches['XG'].max() - df_shots_last_5_matches['XG'].min())\n",
    "df_shots_last_5_matches['xG_size'] = xg_scaled * (max_size - min_size) + min_size"
   ]
  },
  {
   "cell_type": "code",
   "execution_count": null,
   "metadata": {},
   "outputs": [],
   "source": []
  },
  {
   "cell_type": "code",
   "execution_count": 255,
   "metadata": {},
   "outputs": [],
   "source": [
    "summary_data = df_shots_last_5_matches['OUTCOME'].value_counts().reset_index()\n",
    "summary_data.columns = ['Outcome', 'Count']"
   ]
  },
  {
   "cell_type": "code",
   "execution_count": 256,
   "metadata": {},
   "outputs": [],
   "source": [
    "total_xg = df_shots_last_5_matches['XG'].sum()\n",
    "Goals = df_shots_last_5_matches['OUTCOME'].value_counts()['Goal']\n",
    "Attempts = df_shots_last_5_matches.shape[0]\n",
    "with_feet = df_shots_last_5_matches['BODY_PART'].str.contains('Foot', na=False).sum()\n",
    "with_head = df_shots_last_5_matches['BODY_PART'].value_counts()['Head']\n",
    "direct_set_pieces = df_shots_last_5_matches['NOTES'].str.contains('Free kick', na=False).sum()"
   ]
  },
  {
   "cell_type": "code",
   "execution_count": 257,
   "metadata": {},
   "outputs": [
    {
     "data": {
      "text/plain": [
       "(4.98, 2, 53, 45, 8, 3)"
      ]
     },
     "execution_count": 257,
     "metadata": {},
     "output_type": "execute_result"
    }
   ],
   "source": [
    "total_xg, Goals, Attempts, with_feet, with_head, direct_set_pieces"
   ]
  },
  {
   "cell_type": "code",
   "execution_count": null,
   "metadata": {},
   "outputs": [],
   "source": []
  },
  {
   "cell_type": "code",
   "execution_count": null,
   "metadata": {},
   "outputs": [],
   "source": []
  },
  {
   "cell_type": "code",
   "execution_count": 261,
   "metadata": {},
   "outputs": [
    {
     "data": {
      "application/vnd.plotly.v1+json": {
       "config": {
        "plotlyServerURL": "https://plotly.com"
       },
       "data": [
        {
         "hoverinfo": "text",
         "marker": {
          "color": "orange",
          "opacity": [
           0.6,
           0.6,
           0.6,
           0.6,
           0.6,
           0.6,
           0.6,
           0.6,
           0.6,
           0.6,
           0.6,
           0.6,
           0.6
          ],
          "size": [
           10,
           10.714285714285714,
           10.476190476190476,
           10.238095238095237,
           10.238095238095237,
           10.714285714285714,
           12.142857142857144,
           11.428571428571427,
           11.666666666666668,
           16.428571428571427,
           10.952380952380953,
           11.19047619047619,
           13.095238095238095
          ],
          "symbol": "x"
         },
         "mode": "markers",
         "name": "Blocked",
         "text": [
          "<span style=\"font-size: 20px; line-height: 30px;\"><b>Ludovic Blas</b></span><span style=\"font-size: 12px; line-height: 22px;\">  vs Toulouse</span><br><span style=\"font-size: 15px; line-height: 18px;\">Shot - Blocked</span><br><span style=\"font-size: 15px; line-height: 18px;\">Shot xG - 0.01</span><br><span style=\"font-size: 15px; line-height: 18px;\">Game time - 44'<span style=\"font-size: 12px; line-height: 22px;\">  Period/Half: 1</span>",
          "<span style=\"font-size: 20px; line-height: 30px;\"><b>Andrei Girotto</b></span><span style=\"font-size: 12px; line-height: 22px;\">  vs Strasbourg</span><br><span style=\"font-size: 15px; line-height: 18px;\">Shot - Blocked</span><br><span style=\"font-size: 15px; line-height: 18px;\">Shot xG - 0.04</span><br><span style=\"font-size: 15px; line-height: 18px;\">Game time - 40'<span style=\"font-size: 12px; line-height: 22px;\">  Period/Half: 1</span>",
          "<span style=\"font-size: 20px; line-height: 30px;\"><b>Stredair Appuah</b></span><span style=\"font-size: 12px; line-height: 22px;\">  vs Montpellier</span><br><span style=\"font-size: 15px; line-height: 18px;\">Shot - Blocked</span><br><span style=\"font-size: 15px; line-height: 18px;\">Shot xG - 0.03</span><br><span style=\"font-size: 15px; line-height: 18px;\">Game time - 16'<span style=\"font-size: 12px; line-height: 22px;\">  Period/Half: 2</span>",
          "<span style=\"font-size: 20px; line-height: 30px;\"><b>Moses Simon</b></span><span style=\"font-size: 12px; line-height: 22px;\">  vs Montpellier</span><br><span style=\"font-size: 15px; line-height: 18px;\">Shot - Blocked</span><br><span style=\"font-size: 15px; line-height: 18px;\">Shot xG - 0.02</span><br><span style=\"font-size: 15px; line-height: 18px;\">Game time - 41'<span style=\"font-size: 12px; line-height: 22px;\">  Period/Half: 2</span>",
          "<span style=\"font-size: 20px; line-height: 30px;\"><b>Ludovic Blas</b></span><span style=\"font-size: 12px; line-height: 22px;\">  vs Montpellier</span><br><span style=\"font-size: 15px; line-height: 18px;\">Shot - Blocked</span><br><span style=\"font-size: 15px; line-height: 18px;\">Shot xG - 0.02</span><br><span style=\"font-size: 15px; line-height: 18px;\">Game time - 30'<span style=\"font-size: 12px; line-height: 22px;\">  Period/Half: 2</span>",
          "<span style=\"font-size: 20px; line-height: 30px;\"><b>Ludovic Blas</b></span><span style=\"font-size: 12px; line-height: 22px;\">  vs Strasbourg</span><br><span style=\"font-size: 15px; line-height: 18px;\">Shot - Blocked</span><br><span style=\"font-size: 15px; line-height: 18px;\">Shot xG - 0.04</span><br><span style=\"font-size: 15px; line-height: 18px;\">Game time - 1'<span style=\"font-size: 12px; line-height: 22px;\">  Period/Half: 1</span>",
          "<span style=\"font-size: 20px; line-height: 30px;\"><b>João Victor</b></span><span style=\"font-size: 12px; line-height: 22px;\">  vs Lille</span><br><span style=\"font-size: 15px; line-height: 18px;\">Shot - Blocked</span><br><span style=\"font-size: 15px; line-height: 18px;\">Shot xG - 0.1</span><br><span style=\"font-size: 15px; line-height: 18px;\">Game time - 51'<span style=\"font-size: 12px; line-height: 22px;\">  Period/Half: 2</span>",
          "<span style=\"font-size: 20px; line-height: 30px;\"><b>Ludovic Blas</b></span><span style=\"font-size: 12px; line-height: 22px;\">  vs Lille</span><br><span style=\"font-size: 15px; line-height: 18px;\">Shot - Blocked</span><br><span style=\"font-size: 15px; line-height: 18px;\">Shot xG - 0.07</span><br><span style=\"font-size: 15px; line-height: 18px;\">Game time - 12'<span style=\"font-size: 12px; line-height: 22px;\">  Period/Half: 2</span>",
          "<span style=\"font-size: 20px; line-height: 30px;\"><b>Florent Mollet</b></span><span style=\"font-size: 12px; line-height: 22px;\">  vs Montpellier</span><br><span style=\"font-size: 15px; line-height: 18px;\">Shot - Blocked</span><br><span style=\"font-size: 15px; line-height: 18px;\">Shot xG - 0.08</span><br><span style=\"font-size: 15px; line-height: 18px;\">Game time - 25'<span style=\"font-size: 12px; line-height: 22px;\">  Period/Half: 2</span>",
          "<span style=\"font-size: 20px; line-height: 30px;\"><b>Ludovic Blas</b></span><span style=\"font-size: 12px; line-height: 22px;\">  vs Toulouse</span><br><span style=\"font-size: 15px; line-height: 18px;\">Shot - Blocked</span><br><span style=\"font-size: 15px; line-height: 18px;\">Shot xG - 0.28</span><br><span style=\"font-size: 15px; line-height: 18px;\">Game time - 2'<span style=\"font-size: 12px; line-height: 22px;\">  Period/Half: 1</span>",
          "<span style=\"font-size: 20px; line-height: 30px;\"><b>Evann Guessand</b></span><span style=\"font-size: 12px; line-height: 22px;\">  vs Toulouse</span><br><span style=\"font-size: 15px; line-height: 18px;\">Shot - Blocked</span><br><span style=\"font-size: 15px; line-height: 18px;\">Shot xG - 0.05</span><br><span style=\"font-size: 15px; line-height: 18px;\">Game time - 26'<span style=\"font-size: 12px; line-height: 22px;\">  Period/Half: 2</span>",
          "<span style=\"font-size: 20px; line-height: 30px;\"><b>Samuel Moutoussamy</b></span><span style=\"font-size: 12px; line-height: 22px;\">  vs Angers</span><br><span style=\"font-size: 15px; line-height: 18px;\">Shot - Blocked</span><br><span style=\"font-size: 15px; line-height: 18px;\">Shot xG - 0.06</span><br><span style=\"font-size: 15px; line-height: 18px;\">Game time - 43'<span style=\"font-size: 12px; line-height: 22px;\">  Period/Half: 1</span>",
          "<span style=\"font-size: 20px; line-height: 30px;\"><b>Mostafa Mohamed</b></span><span style=\"font-size: 12px; line-height: 22px;\">  vs Strasbourg</span><br><span style=\"font-size: 15px; line-height: 18px;\">Shot - Blocked</span><br><span style=\"font-size: 15px; line-height: 18px;\">Shot xG - 0.14</span><br><span style=\"font-size: 15px; line-height: 18px;\">Game time - 19'<span style=\"font-size: 12px; line-height: 22px;\">  Period/Half: 1</span>"
         ],
         "type": "scatter",
         "x": [
          37.746289999999995,
          23.28388,
          31.86531,
          14.042339999999998,
          41.70695,
          40.38672999999999,
          34.02567,
          26.464409999999997,
          32.16536,
          31.50525,
          30.905150000000003,
          38.166360000000005,
          28.44474
         ],
         "y": [
          74.905,
          99.055,
          81.1,
          94.96,
          90.34,
          90.13,
          97.9,
          91.18,
          87.61,
          93.385,
          84.355,
          92.335,
          98.635
         ]
        },
        {
         "hoverinfo": "text",
         "marker": {
          "color": "forestgreen",
          "opacity": [
           0.8,
           0.8
          ],
          "size": [
           25,
           15.714285714285714
          ],
          "symbol": "circle"
         },
         "mode": "markers",
         "name": "Goal",
         "text": [
          "<span style=\"font-size: 20px; line-height: 30px;\"><b>Ignatius Ganago</b></span><span style=\"font-size: 12px; line-height: 22px;\">  vs Angers</span><br><span style=\"font-size: 15px; line-height: 18px;\">Shot - Goal</span><br><span style=\"font-size: 15px; line-height: 18px;\">Shot xG - 0.64</span><br><span style=\"font-size: 15px; line-height: 18px;\">Game time - 16'<span style=\"font-size: 12px; line-height: 22px;\">  Period/Half: 1</span>",
          "<span style=\"font-size: 20px; line-height: 30px;\"><b>Quentin Merlin</b></span><span style=\"font-size: 12px; line-height: 22px;\">  vs Lille</span><br><span style=\"font-size: 15px; line-height: 18px;\">Shot - Goal</span><br><span style=\"font-size: 15px; line-height: 18px;\">Shot xG - 0.25</span><br><span style=\"font-size: 15px; line-height: 18px;\">Game time - 18'<span style=\"font-size: 12px; line-height: 22px;\">  Period/Half: 1</span>"
         ],
         "type": "scatter",
         "x": [
          30.905150000000003,
          20.76346
         ],
         "y": [
          98.95,
          92.545
         ]
        },
        {
         "hoverinfo": "text",
         "marker": {
          "color": "red",
          "opacity": [
           0.5,
           0.5,
           0.5,
           0.5,
           0.5,
           0.5,
           0.5,
           0.5,
           0.5,
           0.5,
           0.5,
           0.5,
           0.5,
           0.5,
           0.5,
           0.5,
           0.5,
           0.5,
           0.5
          ],
          "size": [
           11.904761904761905,
           12.380952380952381,
           13.333333333333332,
           10.476190476190476,
           11.19047619047619,
           11.904761904761905,
           13.095238095238095,
           10.714285714285714,
           10.952380952380953,
           10.714285714285714,
           11.904761904761905,
           11.19047619047619,
           12.857142857142858,
           11.666666666666668,
           10.238095238095237,
           12.142857142857144,
           12.142857142857144,
           10.952380952380953,
           10.952380952380953
          ],
          "symbol": "x"
         },
         "mode": "markers",
         "name": "Off Target",
         "text": [
          "<span style=\"font-size: 20px; line-height: 30px;\"><b>Fabien Centonze</b></span><span style=\"font-size: 12px; line-height: 22px;\">  vs Strasbourg</span><br><span style=\"font-size: 15px; line-height: 18px;\">Shot - Off Target</span><br><span style=\"font-size: 15px; line-height: 18px;\">Shot xG - 0.09</span><br><span style=\"font-size: 15px; line-height: 18px;\">Game time - 32'<span style=\"font-size: 12px; line-height: 22px;\">  Period/Half: 1</span>",
          "<span style=\"font-size: 20px; line-height: 30px;\"><b>Ludovic Blas</b></span><span style=\"font-size: 12px; line-height: 22px;\">  vs Montpellier</span><br><span style=\"font-size: 15px; line-height: 18px;\">Shot - Off Target</span><br><span style=\"font-size: 15px; line-height: 18px;\">Shot xG - 0.11</span><br><span style=\"font-size: 15px; line-height: 18px;\">Game time - 19'<span style=\"font-size: 12px; line-height: 22px;\">  Period/Half: 2</span>",
          "<span style=\"font-size: 20px; line-height: 30px;\"><b>Andrei Girotto</b></span><span style=\"font-size: 12px; line-height: 22px;\">  vs Toulouse</span><br><span style=\"font-size: 15px; line-height: 18px;\">Shot - Off Target</span><br><span style=\"font-size: 15px; line-height: 18px;\">Shot xG - 0.15</span><br><span style=\"font-size: 15px; line-height: 18px;\">Game time - 48'<span style=\"font-size: 12px; line-height: 22px;\">  Period/Half: 2</span>",
          "<span style=\"font-size: 20px; line-height: 30px;\"><b>Ignatius Ganago</b></span><span style=\"font-size: 12px; line-height: 22px;\">  vs Angers</span><br><span style=\"font-size: 15px; line-height: 18px;\">Shot - Off Target</span><br><span style=\"font-size: 15px; line-height: 18px;\">Shot xG - 0.03</span><br><span style=\"font-size: 15px; line-height: 18px;\">Game time - 1'<span style=\"font-size: 12px; line-height: 22px;\">  Period/Half: 1</span>",
          "<span style=\"font-size: 20px; line-height: 30px;\"><b>Ludovic Blas</b></span><span style=\"font-size: 12px; line-height: 22px;\">  vs Angers</span><br><span style=\"font-size: 15px; line-height: 18px;\">Shot - Off Target</span><br><span style=\"font-size: 15px; line-height: 18px;\">Shot xG - 0.06</span><br><span style=\"font-size: 15px; line-height: 18px;\">Game time - 30'<span style=\"font-size: 12px; line-height: 22px;\">  Period/Half: 2</span>",
          "<span style=\"font-size: 20px; line-height: 30px;\"><b>Mostafa Mohamed</b></span><span style=\"font-size: 12px; line-height: 22px;\">  vs Strasbourg</span><br><span style=\"font-size: 15px; line-height: 18px;\">Shot - Off Target</span><br><span style=\"font-size: 15px; line-height: 18px;\">Shot xG - 0.09</span><br><span style=\"font-size: 15px; line-height: 18px;\">Game time - 19'<span style=\"font-size: 12px; line-height: 22px;\">  Period/Half: 1</span>",
          "<span style=\"font-size: 20px; line-height: 30px;\"><b>Andrei Girotto</b></span><span style=\"font-size: 12px; line-height: 22px;\">  vs Montpellier</span><br><span style=\"font-size: 15px; line-height: 18px;\">Shot - Off Target</span><br><span style=\"font-size: 15px; line-height: 18px;\">Shot xG - 0.14</span><br><span style=\"font-size: 15px; line-height: 18px;\">Game time - 31'<span style=\"font-size: 12px; line-height: 22px;\">  Period/Half: 1</span>",
          "<span style=\"font-size: 20px; line-height: 30px;\"><b>Andrei Girotto</b></span><span style=\"font-size: 12px; line-height: 22px;\">  vs Strasbourg</span><br><span style=\"font-size: 15px; line-height: 18px;\">Shot - Off Target</span><br><span style=\"font-size: 15px; line-height: 18px;\">Shot xG - 0.04</span><br><span style=\"font-size: 15px; line-height: 18px;\">Game time - 38'<span style=\"font-size: 12px; line-height: 22px;\">  Period/Half: 2</span>",
          "<span style=\"font-size: 20px; line-height: 30px;\"><b>Florent Mollet</b></span><span style=\"font-size: 12px; line-height: 22px;\">  vs Strasbourg</span><br><span style=\"font-size: 15px; line-height: 18px;\">Shot - Off Target</span><br><span style=\"font-size: 15px; line-height: 18px;\">Shot xG - 0.05</span><br><span style=\"font-size: 15px; line-height: 18px;\">Game time - 41'<span style=\"font-size: 12px; line-height: 22px;\">  Period/Half: 2</span>",
          "<span style=\"font-size: 20px; line-height: 30px;\"><b>Andrei Girotto</b></span><span style=\"font-size: 12px; line-height: 22px;\">  vs Montpellier</span><br><span style=\"font-size: 15px; line-height: 18px;\">Shot - Off Target</span><br><span style=\"font-size: 15px; line-height: 18px;\">Shot xG - 0.04</span><br><span style=\"font-size: 15px; line-height: 18px;\">Game time - 42'<span style=\"font-size: 12px; line-height: 22px;\">  Period/Half: 2</span>",
          "<span style=\"font-size: 20px; line-height: 30px;\"><b>Ludovic Blas</b></span><span style=\"font-size: 12px; line-height: 22px;\">  vs Lille</span><br><span style=\"font-size: 15px; line-height: 18px;\">Shot - Off Target</span><br><span style=\"font-size: 15px; line-height: 18px;\">Shot xG - 0.09</span><br><span style=\"font-size: 15px; line-height: 18px;\">Game time - 13'<span style=\"font-size: 12px; line-height: 22px;\">  Period/Half: 2</span>",
          "<span style=\"font-size: 20px; line-height: 30px;\"><b>Moses Simon</b></span><span style=\"font-size: 12px; line-height: 22px;\">  vs Montpellier</span><br><span style=\"font-size: 15px; line-height: 18px;\">Shot - Off Target</span><br><span style=\"font-size: 15px; line-height: 18px;\">Shot xG - 0.06</span><br><span style=\"font-size: 15px; line-height: 18px;\">Game time - 23'<span style=\"font-size: 12px; line-height: 22px;\">  Period/Half: 2</span>",
          "<span style=\"font-size: 20px; line-height: 30px;\"><b>Marcus Coco</b></span><span style=\"font-size: 12px; line-height: 22px;\">  vs Angers</span><br><span style=\"font-size: 15px; line-height: 18px;\">Shot - Off Target</span><br><span style=\"font-size: 15px; line-height: 18px;\">Shot xG - 0.13</span><br><span style=\"font-size: 15px; line-height: 18px;\">Game time - 8'<span style=\"font-size: 12px; line-height: 22px;\">  Period/Half: 1</span>",
          "<span style=\"font-size: 20px; line-height: 30px;\"><b>Ignatius Ganago</b></span><span style=\"font-size: 12px; line-height: 22px;\">  vs Lille</span><br><span style=\"font-size: 15px; line-height: 18px;\">Shot - Off Target</span><br><span style=\"font-size: 15px; line-height: 18px;\">Shot xG - 0.08</span><br><span style=\"font-size: 15px; line-height: 18px;\">Game time - 23'<span style=\"font-size: 12px; line-height: 22px;\">  Period/Half: 1</span>",
          "<span style=\"font-size: 20px; line-height: 30px;\"><b>Stredair Appuah</b></span><span style=\"font-size: 12px; line-height: 22px;\">  vs Lille</span><br><span style=\"font-size: 15px; line-height: 18px;\">Shot - Off Target</span><br><span style=\"font-size: 15px; line-height: 18px;\">Shot xG - 0.02</span><br><span style=\"font-size: 15px; line-height: 18px;\">Game time - 51'<span style=\"font-size: 12px; line-height: 22px;\">  Period/Half: 2</span>",
          "<span style=\"font-size: 20px; line-height: 30px;\"><b>Ignatius Ganago</b></span><span style=\"font-size: 12px; line-height: 22px;\">  vs Strasbourg</span><br><span style=\"font-size: 15px; line-height: 18px;\">Shot - Off Target</span><br><span style=\"font-size: 15px; line-height: 18px;\">Shot xG - 0.1</span><br><span style=\"font-size: 15px; line-height: 18px;\">Game time - 23'<span style=\"font-size: 12px; line-height: 22px;\">  Period/Half: 1</span>",
          "<span style=\"font-size: 20px; line-height: 30px;\"><b>Ludovic Blas</b></span><span style=\"font-size: 12px; line-height: 22px;\">  vs Toulouse</span><br><span style=\"font-size: 15px; line-height: 18px;\">Shot - Off Target</span><br><span style=\"font-size: 15px; line-height: 18px;\">Shot xG - 0.1</span><br><span style=\"font-size: 15px; line-height: 18px;\">Game time - 15'<span style=\"font-size: 12px; line-height: 22px;\">  Period/Half: 1</span>",
          "<span style=\"font-size: 20px; line-height: 30px;\"><b>Ludovic Blas</b></span><span style=\"font-size: 12px; line-height: 22px;\">  vs Toulouse</span><br><span style=\"font-size: 15px; line-height: 18px;\">Shot - Off Target</span><br><span style=\"font-size: 15px; line-height: 18px;\">Shot xG - 0.05</span><br><span style=\"font-size: 15px; line-height: 18px;\">Game time - 44'<span style=\"font-size: 12px; line-height: 22px;\">  Period/Half: 1</span>",
          "<span style=\"font-size: 20px; line-height: 30px;\"><b>Fabien Centonze</b></span><span style=\"font-size: 12px; line-height: 22px;\">  vs Montpellier</span><br><span style=\"font-size: 15px; line-height: 18px;\">Shot - Off Target</span><br><span style=\"font-size: 15px; line-height: 18px;\">Shot xG - 0.05</span><br><span style=\"font-size: 15px; line-height: 18px;\">Game time - 10'<span style=\"font-size: 12px; line-height: 22px;\">  Period/Half: 2</span>"
         ],
         "type": "scatter",
         "x": [
          37.86631,
          35.46591,
          31.8053,
          43.447239999999994,
          31.8053,
          28.38473,
          25.50425,
          27.904649999999997,
          33.54559,
          24.48408,
          30.065009999999997,
          39.42657,
          32.585429999999995,
          23.583929999999995,
          27.724619999999994,
          18.423069999999996,
          25.744289999999996,
          24.664109999999997,
          41.22687
         ],
         "y": [
          88.45,
          102.835,
          99.475,
          88.03,
          93.385,
          92.44,
          100.84,
          86.77,
          92.44,
          84.985,
          86.77,
          96.01,
          94.96,
          88.66,
          78.79,
          101.26,
          96.325,
          85.72,
          89.92
         ]
        },
        {
         "hoverinfo": "text",
         "marker": {
          "color": "red",
          "opacity": [
           0.6,
           0.6,
           0.6,
           0.6,
           0.6,
           0.6,
           0.6,
           0.6,
           0.6,
           0.6,
           0.6,
           0.6,
           0.6,
           0.6,
           0.6,
           0.6,
           0.6
          ],
          "size": [
           12.619047619047619,
           10,
           10.238095238095237,
           11.666666666666668,
           10.952380952380953,
           14.285714285714286,
           17.61904761904762,
           11.19047619047619,
           10.714285714285714,
           10.714285714285714,
           11.19047619047619,
           15.238095238095237,
           10.714285714285714,
           10.476190476190476,
           10.476190476190476,
           10.952380952380953,
           11.428571428571427
          ],
          "symbol": "circle"
         },
         "mode": "markers",
         "name": "Saved",
         "text": [
          "<span style=\"font-size: 20px; line-height: 30px;\"><b>Moses Simon</b></span><span style=\"font-size: 12px; line-height: 22px;\">  vs Lille</span><br><span style=\"font-size: 15px; line-height: 18px;\">Shot - Saved</span><br><span style=\"font-size: 15px; line-height: 18px;\">Shot xG - 0.12</span><br><span style=\"font-size: 15px; line-height: 18px;\">Game time - 51'<span style=\"font-size: 12px; line-height: 22px;\">  Period/Half: 2</span>",
          "<span style=\"font-size: 20px; line-height: 30px;\"><b>Jaouen Hadjam</b></span><span style=\"font-size: 12px; line-height: 22px;\">  vs Angers</span><br><span style=\"font-size: 15px; line-height: 18px;\">Shot - Saved</span><br><span style=\"font-size: 15px; line-height: 18px;\">Shot xG - 0.01</span><br><span style=\"font-size: 15px; line-height: 18px;\">Game time - 45'<span style=\"font-size: 12px; line-height: 22px;\">  Period/Half: 2</span>",
          "<span style=\"font-size: 20px; line-height: 30px;\"><b>Ignatius Ganago</b></span><span style=\"font-size: 12px; line-height: 22px;\">  vs Strasbourg</span><br><span style=\"font-size: 15px; line-height: 18px;\">Shot - Saved</span><br><span style=\"font-size: 15px; line-height: 18px;\">Shot xG - 0.02</span><br><span style=\"font-size: 15px; line-height: 18px;\">Game time - 16'<span style=\"font-size: 12px; line-height: 22px;\">  Period/Half: 2</span>",
          "<span style=\"font-size: 20px; line-height: 30px;\"><b>Samuel Moutoussamy</b></span><span style=\"font-size: 12px; line-height: 22px;\">  vs Montpellier</span><br><span style=\"font-size: 15px; line-height: 18px;\">Shot - Saved</span><br><span style=\"font-size: 15px; line-height: 18px;\">Shot xG - 0.08</span><br><span style=\"font-size: 15px; line-height: 18px;\">Game time - 12'<span style=\"font-size: 12px; line-height: 22px;\">  Period/Half: 1</span>",
          "<span style=\"font-size: 20px; line-height: 30px;\"><b>Ludovic Blas</b></span><span style=\"font-size: 12px; line-height: 22px;\">  vs Angers</span><br><span style=\"font-size: 15px; line-height: 18px;\">Shot - Saved</span><br><span style=\"font-size: 15px; line-height: 18px;\">Shot xG - 0.05</span><br><span style=\"font-size: 15px; line-height: 18px;\">Game time - 29'<span style=\"font-size: 12px; line-height: 22px;\">  Period/Half: 1</span>",
          "<span style=\"font-size: 20px; line-height: 30px;\"><b>Ludovic Blas</b></span><span style=\"font-size: 12px; line-height: 22px;\">  vs Montpellier</span><br><span style=\"font-size: 15px; line-height: 18px;\">Shot - Saved</span><br><span style=\"font-size: 15px; line-height: 18px;\">Shot xG - 0.19</span><br><span style=\"font-size: 15px; line-height: 18px;\">Game time - 5'<span style=\"font-size: 12px; line-height: 22px;\">  Period/Half: 1</span>",
          "<span style=\"font-size: 20px; line-height: 30px;\"><b>Ignatius Ganago</b></span><span style=\"font-size: 12px; line-height: 22px;\">  vs Lille</span><br><span style=\"font-size: 15px; line-height: 18px;\">Shot - Saved</span><br><span style=\"font-size: 15px; line-height: 18px;\">Shot xG - 0.33</span><br><span style=\"font-size: 15px; line-height: 18px;\">Game time - 45'<span style=\"font-size: 12px; line-height: 22px;\">  Period/Half: 1</span>",
          "<span style=\"font-size: 20px; line-height: 30px;\"><b>Andrei Girotto</b></span><span style=\"font-size: 12px; line-height: 22px;\">  vs Strasbourg</span><br><span style=\"font-size: 15px; line-height: 18px;\">Shot - Saved</span><br><span style=\"font-size: 15px; line-height: 18px;\">Shot xG - 0.06</span><br><span style=\"font-size: 15px; line-height: 18px;\">Game time - 25'<span style=\"font-size: 12px; line-height: 22px;\">  Period/Half: 1</span>",
          "<span style=\"font-size: 20px; line-height: 30px;\"><b>Ludovic Blas</b></span><span style=\"font-size: 12px; line-height: 22px;\">  vs Angers</span><br><span style=\"font-size: 15px; line-height: 18px;\">Shot - Saved</span><br><span style=\"font-size: 15px; line-height: 18px;\">Shot xG - 0.04</span><br><span style=\"font-size: 15px; line-height: 18px;\">Game time - 3'<span style=\"font-size: 12px; line-height: 22px;\">  Period/Half: 2</span>",
          "<span style=\"font-size: 20px; line-height: 30px;\"><b>Florent Mollet</b></span><span style=\"font-size: 12px; line-height: 22px;\">  vs Angers</span><br><span style=\"font-size: 15px; line-height: 18px;\">Shot - Saved</span><br><span style=\"font-size: 15px; line-height: 18px;\">Shot xG - 0.04</span><br><span style=\"font-size: 15px; line-height: 18px;\">Game time - 41'<span style=\"font-size: 12px; line-height: 22px;\">  Period/Half: 2</span>",
          "<span style=\"font-size: 20px; line-height: 30px;\"><b>Ludovic Blas</b></span><span style=\"font-size: 12px; line-height: 22px;\">  vs Montpellier</span><br><span style=\"font-size: 15px; line-height: 18px;\">Shot - Saved</span><br><span style=\"font-size: 15px; line-height: 18px;\">Shot xG - 0.06</span><br><span style=\"font-size: 15px; line-height: 18px;\">Game time - 19'<span style=\"font-size: 12px; line-height: 22px;\">  Period/Half: 1</span>",
          "<span style=\"font-size: 20px; line-height: 30px;\"><b>Moses Simon</b></span><span style=\"font-size: 12px; line-height: 22px;\">  vs Toulouse</span><br><span style=\"font-size: 15px; line-height: 18px;\">Shot - Saved</span><br><span style=\"font-size: 15px; line-height: 18px;\">Shot xG - 0.23</span><br><span style=\"font-size: 15px; line-height: 18px;\">Game time - 2'<span style=\"font-size: 12px; line-height: 22px;\">  Period/Half: 1</span>",
          "<span style=\"font-size: 20px; line-height: 30px;\"><b>Florent Mollet</b></span><span style=\"font-size: 12px; line-height: 22px;\">  vs Strasbourg</span><br><span style=\"font-size: 15px; line-height: 18px;\">Shot - Saved</span><br><span style=\"font-size: 15px; line-height: 18px;\">Shot xG - 0.04</span><br><span style=\"font-size: 15px; line-height: 18px;\">Game time - 11'<span style=\"font-size: 12px; line-height: 22px;\">  Period/Half: 2</span>",
          "<span style=\"font-size: 20px; line-height: 30px;\"><b>Ludovic Blas</b></span><span style=\"font-size: 12px; line-height: 22px;\">  vs Angers</span><br><span style=\"font-size: 15px; line-height: 18px;\">Shot - Saved</span><br><span style=\"font-size: 15px; line-height: 18px;\">Shot xG - 0.03</span><br><span style=\"font-size: 15px; line-height: 18px;\">Game time - 2'<span style=\"font-size: 12px; line-height: 22px;\">  Period/Half: 1</span>",
          "<span style=\"font-size: 20px; line-height: 30px;\"><b>Ludovic Blas</b></span><span style=\"font-size: 12px; line-height: 22px;\">  vs Angers</span><br><span style=\"font-size: 15px; line-height: 18px;\">Shot - Saved</span><br><span style=\"font-size: 15px; line-height: 18px;\">Shot xG - 0.03</span><br><span style=\"font-size: 15px; line-height: 18px;\">Game time - 46'<span style=\"font-size: 12px; line-height: 22px;\">  Period/Half: 1</span>",
          "<span style=\"font-size: 20px; line-height: 30px;\"><b>Florent Mollet</b></span><span style=\"font-size: 12px; line-height: 22px;\">  vs Strasbourg</span><br><span style=\"font-size: 15px; line-height: 18px;\">Shot - Saved</span><br><span style=\"font-size: 15px; line-height: 18px;\">Shot xG - 0.05</span><br><span style=\"font-size: 15px; line-height: 18px;\">Game time - 4'<span style=\"font-size: 12px; line-height: 22px;\">  Period/Half: 2</span>",
          "<span style=\"font-size: 20px; line-height: 30px;\"><b>Mostafa Mohamed</b></span><span style=\"font-size: 12px; line-height: 22px;\">  vs Strasbourg</span><br><span style=\"font-size: 15px; line-height: 18px;\">Shot - Saved</span><br><span style=\"font-size: 15px; line-height: 18px;\">Shot xG - 0.07</span><br><span style=\"font-size: 15px; line-height: 18px;\">Game time - 1'<span style=\"font-size: 12px; line-height: 22px;\">  Period/Half: 1</span>"
         ],
         "type": "scatter",
         "x": [
          35.165859999999995,
          14.102349999999996,
          29.104849999999995,
          32.045339999999996,
          40.98683,
          19.14319,
          30.005,
          29.58493,
          36.24604,
          11.581930000000002,
          23.943989999999996,
          24.06401,
          17.10285,
          36.96616,
          34.26571,
          32.34539,
          36.96616
         ],
         "y": [
          90.76,
          52.12,
          90.34,
          90.76,
          91.6,
          98.32,
          93.49,
          96.01,
          76.585,
          78.895,
          87.4,
          90.55,
          91.6,
          77.95,
          77.95,
          76.795,
          93.49
         ]
        },
        {
         "hoverinfo": "text",
         "marker": {
          "color": "red",
          "opacity": [
           0.5
          ],
          "size": [
           10.714285714285714
          ],
          "symbol": "x"
         },
         "mode": "markers",
         "name": "Saved off Target",
         "text": [
          "<span style=\"font-size: 20px; line-height: 30px;\"><b>Ludovic Blas</b></span><span style=\"font-size: 12px; line-height: 22px;\">  vs Montpellier</span><br><span style=\"font-size: 15px; line-height: 18px;\">Shot - Saved off Target</span><br><span style=\"font-size: 15px; line-height: 18px;\">Shot xG - 0.04</span><br><span style=\"font-size: 15px; line-height: 18px;\">Game time - 31'<span style=\"font-size: 12px; line-height: 22px;\">  Period/Half: 2</span>"
         ],
         "type": "scatter",
         "x": [
          42.54709
         ],
         "y": [
          101.89
         ]
        },
        {
         "hoverinfo": "text",
         "marker": {
          "color": "purple",
          "opacity": [
           0.7
          ],
          "size": [
           14.047619047619047
          ],
          "symbol": "hexagon"
         },
         "mode": "markers",
         "name": "Woodwork",
         "text": [
          "<span style=\"font-size: 20px; line-height: 30px;\"><b>Samuel Moutoussamy</b></span><span style=\"font-size: 12px; line-height: 22px;\">  vs Toulouse</span><br><span style=\"font-size: 15px; line-height: 18px;\">Shot - Woodwork</span><br><span style=\"font-size: 15px; line-height: 18px;\">Shot xG - 0.18</span><br><span style=\"font-size: 15px; line-height: 18px;\">Game time - 22'<span style=\"font-size: 12px; line-height: 22px;\">  Period/Half: 1</span>"
         ],
         "type": "scatter",
         "x": [
          25.8043
         ],
         "y": [
          93.385
         ]
        },
        {
         "domain": {
          "x": [
           0.835,
           1
          ],
          "y": [
           0,
           1
          ]
         },
         "header": {
          "align": [
           "right",
           "left"
          ],
          "fill": {
           "color": "#2B2B2B"
          },
          "font": {
           "color": [
            "grey",
            "white"
           ],
           "size": [
            18,
            28
           ]
          },
          "line": {
           "color": "#2B2B2B"
          },
          "values": [
           [
            "",
            "<b>TOTAL xG</b>",
            "",
            "<b>GOALS</b>",
            "",
            "<b>ATTEMPTS</b>",
            "",
            "<b>W/ FEET</b>",
            "",
            "<b>W/ HEAD</b>",
            "",
            "<b>DIRECT FKs</b>"
           ],
           [
            "",
            "5.0",
            "",
            "2",
            "",
            "53",
            "",
            "45",
            "",
            "8",
            "",
            "3"
           ]
          ]
         },
         "type": "table"
        }
       ],
       "layout": {
        "font": {
         "color": "black",
         "family": "Calibri, sans-serif",
         "size": 12
        },
        "height": 700,
        "images": [
         {
          "layer": "below",
          "opacity": 1,
          "sizex": 60,
          "sizey": 95,
          "source": "https://i.imgur.com/L0GXGh5.png",
          "x": 0,
          "xref": "x",
          "y": 110,
          "yref": "y"
         }
        ],
        "legend": {
         "bgcolor": "#2B2B2B",
         "font": {
          "color": "white",
          "size": 25
         },
         "itemsizing": "constant",
         "orientation": "h",
         "x": 0.45,
         "xanchor": "center",
         "y": -0.03,
         "yanchor": "bottom"
        },
        "margin": {
         "b": 0,
         "l": 0,
         "r": 22,
         "t": 0
        },
        "paper_bgcolor": "#2B2B2B",
        "plot_bgcolor": "#2B2B2B",
        "template": {
         "data": {
          "candlestick": [
           {
            "decreasing": {
             "line": {
              "color": "#000033"
             }
            },
            "increasing": {
             "line": {
              "color": "#000032"
             }
            },
            "type": "candlestick"
           }
          ],
          "contour": [
           {
            "colorscale": [
             [
              0,
              "#000011"
             ],
             [
              0.1111111111111111,
              "#000012"
             ],
             [
              0.2222222222222222,
              "#000013"
             ],
             [
              0.3333333333333333,
              "#000014"
             ],
             [
              0.4444444444444444,
              "#000015"
             ],
             [
              0.5555555555555556,
              "#000016"
             ],
             [
              0.6666666666666666,
              "#000017"
             ],
             [
              0.7777777777777778,
              "#000018"
             ],
             [
              0.8888888888888888,
              "#000019"
             ],
             [
              1,
              "#000020"
             ]
            ],
            "type": "contour"
           }
          ],
          "contourcarpet": [
           {
            "colorscale": [
             [
              0,
              "#000011"
             ],
             [
              0.1111111111111111,
              "#000012"
             ],
             [
              0.2222222222222222,
              "#000013"
             ],
             [
              0.3333333333333333,
              "#000014"
             ],
             [
              0.4444444444444444,
              "#000015"
             ],
             [
              0.5555555555555556,
              "#000016"
             ],
             [
              0.6666666666666666,
              "#000017"
             ],
             [
              0.7777777777777778,
              "#000018"
             ],
             [
              0.8888888888888888,
              "#000019"
             ],
             [
              1,
              "#000020"
             ]
            ],
            "type": "contourcarpet"
           }
          ],
          "heatmap": [
           {
            "colorscale": [
             [
              0,
              "#000011"
             ],
             [
              0.1111111111111111,
              "#000012"
             ],
             [
              0.2222222222222222,
              "#000013"
             ],
             [
              0.3333333333333333,
              "#000014"
             ],
             [
              0.4444444444444444,
              "#000015"
             ],
             [
              0.5555555555555556,
              "#000016"
             ],
             [
              0.6666666666666666,
              "#000017"
             ],
             [
              0.7777777777777778,
              "#000018"
             ],
             [
              0.8888888888888888,
              "#000019"
             ],
             [
              1,
              "#000020"
             ]
            ],
            "type": "heatmap"
           }
          ],
          "histogram2d": [
           {
            "colorscale": [
             [
              0,
              "#000011"
             ],
             [
              0.1111111111111111,
              "#000012"
             ],
             [
              0.2222222222222222,
              "#000013"
             ],
             [
              0.3333333333333333,
              "#000014"
             ],
             [
              0.4444444444444444,
              "#000015"
             ],
             [
              0.5555555555555556,
              "#000016"
             ],
             [
              0.6666666666666666,
              "#000017"
             ],
             [
              0.7777777777777778,
              "#000018"
             ],
             [
              0.8888888888888888,
              "#000019"
             ],
             [
              1,
              "#000020"
             ]
            ],
            "type": "histogram2d"
           }
          ],
          "icicle": [
           {
            "textfont": {
             "color": "white"
            },
            "type": "icicle"
           }
          ],
          "sankey": [
           {
            "textfont": {
             "color": "#000036"
            },
            "type": "sankey"
           }
          ],
          "scatter": [
           {
            "marker": {
             "line": {
              "width": 0
             }
            },
            "type": "scatter"
           }
          ],
          "table": [
           {
            "cells": {
             "fill": {
              "color": "#000038"
             },
             "font": {
              "color": "#000037"
             },
             "line": {
              "color": "#000039"
             }
            },
            "header": {
             "fill": {
              "color": "#000040"
             },
             "font": {
              "color": "#000036"
             },
             "line": {
              "color": "#000039"
             }
            },
            "type": "table"
           }
          ],
          "waterfall": [
           {
            "connector": {
             "line": {
              "color": "#000036",
              "width": 2
             }
            },
            "decreasing": {
             "marker": {
              "color": "#000033"
             }
            },
            "increasing": {
             "marker": {
              "color": "#000032"
             }
            },
            "totals": {
             "marker": {
              "color": "#000034"
             }
            },
            "type": "waterfall"
           }
          ]
         },
         "layout": {
          "coloraxis": {
           "colorscale": [
            [
             0,
             "#000011"
            ],
            [
             0.1111111111111111,
             "#000012"
            ],
            [
             0.2222222222222222,
             "#000013"
            ],
            [
             0.3333333333333333,
             "#000014"
            ],
            [
             0.4444444444444444,
             "#000015"
            ],
            [
             0.5555555555555556,
             "#000016"
            ],
            [
             0.6666666666666666,
             "#000017"
            ],
            [
             0.7777777777777778,
             "#000018"
            ],
            [
             0.8888888888888888,
             "#000019"
            ],
            [
             1,
             "#000020"
            ]
           ]
          },
          "colorscale": {
           "diverging": [
            [
             0,
             "#000021"
            ],
            [
             0.1,
             "#000022"
            ],
            [
             0.2,
             "#000023"
            ],
            [
             0.3,
             "#000024"
            ],
            [
             0.4,
             "#000025"
            ],
            [
             0.5,
             "#000026"
            ],
            [
             0.6,
             "#000027"
            ],
            [
             0.7,
             "#000028"
            ],
            [
             0.8,
             "#000029"
            ],
            [
             0.9,
             "#000030"
            ],
            [
             1,
             "#000031"
            ]
           ],
           "sequential": [
            [
             0,
             "#000011"
            ],
            [
             0.1111111111111111,
             "#000012"
            ],
            [
             0.2222222222222222,
             "#000013"
            ],
            [
             0.3333333333333333,
             "#000014"
            ],
            [
             0.4444444444444444,
             "#000015"
            ],
            [
             0.5555555555555556,
             "#000016"
            ],
            [
             0.6666666666666666,
             "#000017"
            ],
            [
             0.7777777777777778,
             "#000018"
            ],
            [
             0.8888888888888888,
             "#000019"
            ],
            [
             1,
             "#000020"
            ]
           ],
           "sequentialminus": [
            [
             0,
             "#000011"
            ],
            [
             0.1111111111111111,
             "#000012"
            ],
            [
             0.2222222222222222,
             "#000013"
            ],
            [
             0.3333333333333333,
             "#000014"
            ],
            [
             0.4444444444444444,
             "#000015"
            ],
            [
             0.5555555555555556,
             "#000016"
            ],
            [
             0.6666666666666666,
             "#000017"
            ],
            [
             0.7777777777777778,
             "#000018"
            ],
            [
             0.8888888888888888,
             "#000019"
            ],
            [
             1,
             "#000020"
            ]
           ]
          },
          "colorway": [
           "#000001",
           "#000002",
           "#000003",
           "#000004",
           "#000005",
           "#000006",
           "#000007",
           "#000008",
           "#000009",
           "#000010"
          ]
         }
        },
        "title": {
         "font": {
          "color": "gold",
          "family": "Roboto",
          "size": 23
         },
         "text": "SHOT MAP",
         "x": 0.1,
         "xanchor": "center",
         "y": 0.97,
         "yanchor": "top"
        },
        "width": 1150,
        "xaxis": {
         "range": [
          0,
          68
         ],
         "showgrid": false,
         "visible": false,
         "zeroline": false
        },
        "yaxis": {
         "range": [
          52.5,
          110
         ],
         "showgrid": false,
         "visible": false,
         "zeroline": false
        }
       }
      }
     },
     "metadata": {},
     "output_type": "display_data"
    }
   ],
   "source": [
    "import plotly.graph_objects as go\n",
    "\n",
    "\n",
    "df_shots_last_5_matches['hover_text'] = (\n",
    "    '<span style=\"font-size: 20px; line-height: 30px;\"><b>' + df_shots_last_5_matches['PLAYER_FBREF_NAME'].astype(str) + '</b></span>' +\n",
    "    '<span style=\"font-size: 12px; line-height: 22px;\">  vs ' + df_shots_last_5_matches['OPPO_TEAM_NAME'].astype(str) + '</span>'\n",
    "    '<br><span style=\"font-size: 15px; line-height: 18px;\">Shot - ' + df_shots_last_5_matches['OUTCOME'].astype(str) + '</span>' +\n",
    "    '<br><span style=\"font-size: 15px; line-height: 18px;\">Shot xG - ' + df_shots_last_5_matches['XG'].astype(str) + '</span>' +\n",
    "    '<br><span style=\"font-size: 15px; line-height: 18px;\">Game time - ' + ((df_shots_last_5_matches['NEW_TIME_SECONDS']//60 + 1).astype(int)).astype(str) + \"'\"+ \n",
    "    '<span style=\"font-size: 12px; line-height: 22px;\">  Period/Half: ' + df_shots_last_5_matches['PERIOD_ID'].astype(str) + '</span>'\n",
    ")\n",
    "\n",
    "outcome_colors = {'Goal': 'forestgreen', 'Saved': 'red', 'Blocked': 'orange', 'Off Target': 'red', \n",
    "                  'Woodwork': 'purple', 'Saved off Target': 'red'}\n",
    "outcome_markers = {'Goal': 'o', 'Saved': 'o', 'Blocked': 'X', 'Off Target': 'X',  'Woodwork': 'h',\n",
    "                   'Saved off Target': 'X'}\n",
    "outcome_alpha = {'Goal': .8, 'Saved': 0.6, 'Blocked': 0.6, 'Off Target': 0.5,  'Woodwork': 0.7,\n",
    "                 'Saved off Target': 0.5}\n",
    "\n",
    "# Create a Plotly figure\n",
    "fig = go.Figure()\n",
    "\n",
    "# Add the pitch as a background image\n",
    "fig.add_layout_image(\n",
    "    dict(\n",
    "        source=\"https://i.imgur.com/L0GXGh5.png\",  # Path to your pitch background image\n",
    "        xref=\"x\",\n",
    "        yref=\"y\",\n",
    "        x=0.,\n",
    "        y=110,\n",
    "        sizex=60,\n",
    "        sizey=95,\n",
    "        # sizing=\"stretch\",\n",
    "        opacity=1.0,\n",
    "        layer=\"below\")\n",
    ")\n",
    "\n",
    "# Define marker symbols in Plotly's format\n",
    "plotly_symbols = {\n",
    "    'Goal': 'circle',\n",
    "    'Saved': 'circle',\n",
    "    'Blocked': 'x',\n",
    "    'Off Target': 'x',\n",
    "    'Woodwork': 'hexagon',\n",
    "    'Saved off Target': 'x'\n",
    "}\n",
    "\n",
    "# header_values = []  # No header values, since we're incorporating the title directly in the cell\n",
    "header_values = [\n",
    "    ['<span style=\"font-size: 10px; color: grey;\">EXPECTED GOALS</span>', \n",
    "     '<span style=\"font-size: 10px; color: grey;\">GOALS</span>',\n",
    "     '<span style=\"font-size: 10px; color: grey;\">ATTEMPTS</span>',\n",
    "     '<span style=\"font-size: 10px; color: grey;\">WITH FEET</span>', \n",
    "     '<span style=\"font-size: 10px; color: grey;\">WITH HEAD</span>',\n",
    "     '<span style=\"font-size: 10px; color: grey;\">DIRECT SET PIECES</span>',\n",
    "     # ... add other outcomes as needed\n",
    "    '<span style=\"font-size: 22px; color: white;\"><b>total_xg</b></span>',\n",
    "     '<span style=\"font-size: 22px; color: white;\"><b>Goals</b></span>',\n",
    "     '<span style=\"font-size: 22px; color: white;\"><b>Attempts</b></span>',\n",
    "     '<span style=\"font-size: 22px; color: white;\"><b>with_feet</b></span>',\n",
    "     '<span style=\"font-size: 22px; color: white;\"><b>with_head</b></span>',\n",
    "     '<span style=\"font-size: 22px; color: white;\"><b>direct_set_pieces</b></span>',\n",
    "    ]\n",
    "]\n",
    "\n",
    "# Add scatter plots for each outcome type\n",
    "for outcome, df_group in df_shots_last_5_matches.groupby('OUTCOME'):\n",
    "    fig.add_trace(go.Scatter(\n",
    "        x=(df_group['START_Y'] - 68)*-0.8825,  # Assuming START_Y is the horizontal axis in your pitch image\n",
    "        y=df_group['START_X']+0.25,  # Assuming START_X is the vertical axis in your pitch image\n",
    "        mode='markers',\n",
    "        marker=dict(\n",
    "            color=outcome_colors[outcome],\n",
    "            symbol=plotly_symbols[outcome],\n",
    "            size=df_group['xG_size']*5,  # Adjust size scaling factor as needed\n",
    "            opacity=df_group['OUTCOME'].map(outcome_alpha)\n",
    "        ),\n",
    "        name=outcome,\n",
    "        text=df_group['hover_text'],  # This will be displayed on hover\n",
    "        hoverinfo='text',\n",
    "        # hovertemplate='<b>%{text}</b>'  # Custom hover template for cleaner text display\n",
    "    ))\n",
    "\n",
    "# Set axes to match the background image\n",
    "fig.update_xaxes(showgrid=False, zeroline=False, visible=False, range=[0, 68])\n",
    "fig.update_yaxes(showgrid=False, zeroline=False, visible=False, range=[52.5, 110])\n",
    "\n",
    "# Remove the plot background color\n",
    "fig.update_layout(plot_bgcolor='rgba(0,0,0,0)',\n",
    "                    font=dict(\n",
    "                            family=\"Calibri, sans-serif\",  # Set the font to Calibri, with sans-serif as a fallback\n",
    "                            size=12,  # You can adjust the base size as needed\n",
    "                            color=\"black\"  # And also set a global font color if you wish\n",
    "                        ), width=1150,height=700)\n",
    "\n",
    "fig.add_trace(go.Table(\n",
    "    header=dict(\n",
    "        values=[\n",
    "            [\"\" ,\"<b>TOTAL xG</b>\", \"\", \"<b>GOALS</b>\", \"\", \"<b>ATTEMPTS</b>\", \"\", \"<b>W/ FEET</b>\", \"\", \"<b>W/ HEAD</b>\", \"\",\"<b>DIRECT FKs</b>\"],\n",
    "            [\"\", f\"{round(total_xg, 1)}\", \"\", f\"{Goals}\", \"\", f\"{Attempts}\", \"\", f\"{with_feet}\", \"\", f\"{with_head}\", \"\", f\"{direct_set_pieces}\"]\n",
    "        ],\n",
    "        line_color='#2B2B2B',\n",
    "        fill_color='#2B2B2B',\n",
    "        align=['right', 'left'],  # Align each column differently if needed\n",
    "        font=dict(color=['grey', 'white'], size=[18, 28])  # Specify different styles for each column\n",
    "    ),\n",
    "    domain=dict(x=[0.835, 1], y=[0, 1])\n",
    "))\n",
    "\n",
    "fig.update_layout(\n",
    "    paper_bgcolor=\"#2B2B2B\",\n",
    "    plot_bgcolor=\"#2B2B2B\",\n",
    "    margin=dict(l=0, r=22, t=0, b=0),\n",
    "    legend=dict(\n",
    "        orientation=\"h\",  # Set the legend orientation to horizontal\n",
    "        yanchor=\"bottom\",\n",
    "        y=-0.03,  # Negative value to move the legend below the plot\n",
    "        xanchor=\"center\",\n",
    "        x=0.45,\n",
    "        font=dict(  # Update the font size\n",
    "            size=25,  # Example size, adjust as needed\n",
    "            color=\"white\"  # Set the text color to white for better contrast on a dark background\n",
    "        ),\n",
    "        bgcolor=\"#2B2B2B\",  # Set the background color of the legend\n",
    "        itemsizing='constant'  # Use the same size for all legend markers\n",
    "    ),\n",
    "    title={\n",
    "            'text': 'SHOT MAP',\n",
    "            'y':0.97,  # Sets the y position of the title (1 is the top of the figure)\n",
    "            'x':0.1,  # Centers the title horizontally (0.5 is the center of the figure)\n",
    "            'xanchor': 'center',  # Ensures the title is centered at the x position\n",
    "            'yanchor': 'top',  # Ensures the title is at the top of the y position\n",
    "            'font': dict(\n",
    "                family=\"Roboto\",  # Specify the font family\n",
    "                size=23,                     # Specify the font size\n",
    "                color=\"gold\"                # Specify the font color\n",
    "            )\n",
    "        }\n",
    ")\n",
    "\n",
    "fig.show()"
   ]
  },
  {
   "cell_type": "code",
   "execution_count": 259,
   "metadata": {},
   "outputs": [
    {
     "data": {
      "text/html": [
       "<div>\n",
       "<style scoped>\n",
       "    .dataframe tbody tr th:only-of-type {\n",
       "        vertical-align: middle;\n",
       "    }\n",
       "\n",
       "    .dataframe tbody tr th {\n",
       "        vertical-align: top;\n",
       "    }\n",
       "\n",
       "    .dataframe thead th {\n",
       "        text-align: right;\n",
       "    }\n",
       "</style>\n",
       "<table border=\"1\" class=\"dataframe\">\n",
       "  <thead>\n",
       "    <tr style=\"text-align: right;\">\n",
       "      <th></th>\n",
       "      <th>MATCH_ID</th>\n",
       "      <th>ACTION_ID</th>\n",
       "      <th>XG</th>\n",
       "      <th>PSXG</th>\n",
       "      <th>OUTCOME</th>\n",
       "      <th>DISTANCE</th>\n",
       "      <th>BODY_PART</th>\n",
       "      <th>NOTES</th>\n",
       "      <th>SCA_1_PLAYER_WS_ID</th>\n",
       "      <th>SCA_1_PLAYER_FBREF_EVENT</th>\n",
       "      <th>SCA_2_PLAYER_WS_ID</th>\n",
       "      <th>SCA_2_PLAYER_FBREF_EVENT</th>\n",
       "      <th>TEAM_FBREF_ID</th>\n",
       "      <th>PERIOD_ID</th>\n",
       "      <th>NEW_TIME_SECONDS</th>\n",
       "      <th>START_X</th>\n",
       "      <th>END_X</th>\n",
       "      <th>START_Y</th>\n",
       "      <th>END_Y</th>\n",
       "      <th>PLAYER_WS_ID</th>\n",
       "      <th>RESULT_ID</th>\n",
       "      <th>TEAM_NAME</th>\n",
       "      <th>GAMEWEEK</th>\n",
       "      <th>COMPETITION</th>\n",
       "      <th>SEASON</th>\n",
       "      <th>COMPETITION_ACRONYM</th>\n",
       "      <th>OPPO_TEAM_ID</th>\n",
       "      <th>OPPO_TEAM_NAME</th>\n",
       "      <th>PLAYER_FBREF_NAME</th>\n",
       "      <th>norm_start_x</th>\n",
       "      <th>norm_start_y</th>\n",
       "      <th>xG_size</th>\n",
       "      <th>hover_text</th>\n",
       "    </tr>\n",
       "  </thead>\n",
       "  <tbody>\n",
       "    <tr>\n",
       "      <th>6341</th>\n",
       "      <td>1b4970df</td>\n",
       "      <td>1678</td>\n",
       "      <td>0.12</td>\n",
       "      <td>0.20</td>\n",
       "      <td>Saved</td>\n",
       "      <td>16</td>\n",
       "      <td>Right Foot</td>\n",
       "      <td>None</td>\n",
       "      <td>476406.0</td>\n",
       "      <td>Pass (Live)</td>\n",
       "      <td>476406.0</td>\n",
       "      <td>Take-On</td>\n",
       "      <td>d7a486cd</td>\n",
       "      <td>2</td>\n",
       "      <td>3022.0</td>\n",
       "      <td>90.510</td>\n",
       "      <td>103.215</td>\n",
       "      <td>28.152</td>\n",
       "      <td>31.416</td>\n",
       "      <td>202185</td>\n",
       "      <td>0</td>\n",
       "      <td>Nantes</td>\n",
       "      <td>37</td>\n",
       "      <td>FRA-Ligue 1</td>\n",
       "      <td>2223</td>\n",
       "      <td>Ligue 1</td>\n",
       "      <td>cb188c0c</td>\n",
       "      <td>Lille</td>\n",
       "      <td>Moses Simon</td>\n",
       "      <td>0.754250</td>\n",
       "      <td>0.35190</td>\n",
       "      <td>2.523810</td>\n",
       "      <td>&lt;span style=\"font-size: 20px; line-height: 30p...</td>\n",
       "    </tr>\n",
       "    <tr>\n",
       "      <th>6351</th>\n",
       "      <td>8411b267</td>\n",
       "      <td>584</td>\n",
       "      <td>0.09</td>\n",
       "      <td>NaN</td>\n",
       "      <td>Off Target</td>\n",
       "      <td>18</td>\n",
       "      <td>Right Foot</td>\n",
       "      <td>None</td>\n",
       "      <td>411087.0</td>\n",
       "      <td>Pass (Live)</td>\n",
       "      <td>411087.0</td>\n",
       "      <td>Take-On</td>\n",
       "      <td>d7a486cd</td>\n",
       "      <td>1</td>\n",
       "      <td>1871.0</td>\n",
       "      <td>88.200</td>\n",
       "      <td>105.000</td>\n",
       "      <td>25.092</td>\n",
       "      <td>30.872</td>\n",
       "      <td>294496</td>\n",
       "      <td>0</td>\n",
       "      <td>Nantes</td>\n",
       "      <td>34</td>\n",
       "      <td>FRA-Ligue 1</td>\n",
       "      <td>2223</td>\n",
       "      <td>Ligue 1</td>\n",
       "      <td>c0d3eab4</td>\n",
       "      <td>Strasbourg</td>\n",
       "      <td>Fabien Centonze</td>\n",
       "      <td>0.735000</td>\n",
       "      <td>0.31365</td>\n",
       "      <td>2.380952</td>\n",
       "      <td>&lt;span style=\"font-size: 20px; line-height: 30p...</td>\n",
       "    </tr>\n",
       "    <tr>\n",
       "      <th>6357</th>\n",
       "      <td>54a0b007</td>\n",
       "      <td>262</td>\n",
       "      <td>0.64</td>\n",
       "      <td>0.75</td>\n",
       "      <td>Goal</td>\n",
       "      <td>7</td>\n",
       "      <td>Right Foot</td>\n",
       "      <td>None</td>\n",
       "      <td>299562.0</td>\n",
       "      <td>Take-On</td>\n",
       "      <td>299562.0</td>\n",
       "      <td>Take-On</td>\n",
       "      <td>d7a486cd</td>\n",
       "      <td>1</td>\n",
       "      <td>902.0</td>\n",
       "      <td>98.700</td>\n",
       "      <td>105.000</td>\n",
       "      <td>32.980</td>\n",
       "      <td>33.388</td>\n",
       "      <td>344645</td>\n",
       "      <td>1</td>\n",
       "      <td>Nantes</td>\n",
       "      <td>38</td>\n",
       "      <td>FRA-Ligue 1</td>\n",
       "      <td>2223</td>\n",
       "      <td>Ligue 1</td>\n",
       "      <td>69236f98</td>\n",
       "      <td>Angers</td>\n",
       "      <td>Ignatius Ganago</td>\n",
       "      <td>0.822500</td>\n",
       "      <td>0.41225</td>\n",
       "      <td>5.000000</td>\n",
       "      <td>&lt;span style=\"font-size: 20px; line-height: 30p...</td>\n",
       "    </tr>\n",
       "    <tr>\n",
       "      <th>6368</th>\n",
       "      <td>1ed26dbe</td>\n",
       "      <td>1313</td>\n",
       "      <td>0.11</td>\n",
       "      <td>NaN</td>\n",
       "      <td>Off Target</td>\n",
       "      <td>4</td>\n",
       "      <td>Left Foot</td>\n",
       "      <td>Volley</td>\n",
       "      <td>279380.0</td>\n",
       "      <td>Pass (Live)</td>\n",
       "      <td>114169.0</td>\n",
       "      <td>Pass (Live)</td>\n",
       "      <td>d7a486cd</td>\n",
       "      <td>2</td>\n",
       "      <td>1116.0</td>\n",
       "      <td>102.585</td>\n",
       "      <td>105.000</td>\n",
       "      <td>27.812</td>\n",
       "      <td>33.048</td>\n",
       "      <td>299562</td>\n",
       "      <td>0</td>\n",
       "      <td>Nantes</td>\n",
       "      <td>36</td>\n",
       "      <td>FRA-Ligue 1</td>\n",
       "      <td>2223</td>\n",
       "      <td>Ligue 1</td>\n",
       "      <td>281b0e73</td>\n",
       "      <td>Montpellier</td>\n",
       "      <td>Ludovic Blas</td>\n",
       "      <td>0.854875</td>\n",
       "      <td>0.34765</td>\n",
       "      <td>2.476190</td>\n",
       "      <td>&lt;span style=\"font-size: 20px; line-height: 30p...</td>\n",
       "    </tr>\n",
       "    <tr>\n",
       "      <th>6391</th>\n",
       "      <td>52ee44a2</td>\n",
       "      <td>508</td>\n",
       "      <td>0.18</td>\n",
       "      <td>NaN</td>\n",
       "      <td>Woodwork</td>\n",
       "      <td>13</td>\n",
       "      <td>Left Foot</td>\n",
       "      <td>None</td>\n",
       "      <td>114169.0</td>\n",
       "      <td>Pass (Live)</td>\n",
       "      <td>256539.0</td>\n",
       "      <td>Pass (Live)</td>\n",
       "      <td>d7a486cd</td>\n",
       "      <td>1</td>\n",
       "      <td>1278.0</td>\n",
       "      <td>93.135</td>\n",
       "      <td>105.000</td>\n",
       "      <td>38.760</td>\n",
       "      <td>34.748</td>\n",
       "      <td>342571</td>\n",
       "      <td>0</td>\n",
       "      <td>Nantes</td>\n",
       "      <td>35</td>\n",
       "      <td>FRA-Ligue 1</td>\n",
       "      <td>2223</td>\n",
       "      <td>Ligue 1</td>\n",
       "      <td>3f8c4b5f</td>\n",
       "      <td>Toulouse</td>\n",
       "      <td>Samuel Moutoussamy</td>\n",
       "      <td>0.776125</td>\n",
       "      <td>0.48450</td>\n",
       "      <td>2.809524</td>\n",
       "      <td>&lt;span style=\"font-size: 20px; line-height: 30p...</td>\n",
       "    </tr>\n",
       "    <tr>\n",
       "      <th>6397</th>\n",
       "      <td>52ee44a2</td>\n",
       "      <td>953</td>\n",
       "      <td>0.01</td>\n",
       "      <td>NaN</td>\n",
       "      <td>Blocked</td>\n",
       "      <td>33</td>\n",
       "      <td>Left Foot</td>\n",
       "      <td>None</td>\n",
       "      <td>256539.0</td>\n",
       "      <td>Take-On</td>\n",
       "      <td>256539.0</td>\n",
       "      <td>Take-On</td>\n",
       "      <td>d7a486cd</td>\n",
       "      <td>1</td>\n",
       "      <td>2627.0</td>\n",
       "      <td>74.655</td>\n",
       "      <td>76.545</td>\n",
       "      <td>25.228</td>\n",
       "      <td>27.336</td>\n",
       "      <td>299562</td>\n",
       "      <td>0</td>\n",
       "      <td>Nantes</td>\n",
       "      <td>35</td>\n",
       "      <td>FRA-Ligue 1</td>\n",
       "      <td>2223</td>\n",
       "      <td>Ligue 1</td>\n",
       "      <td>3f8c4b5f</td>\n",
       "      <td>Toulouse</td>\n",
       "      <td>Ludovic Blas</td>\n",
       "      <td>0.622125</td>\n",
       "      <td>0.31535</td>\n",
       "      <td>2.000000</td>\n",
       "      <td>&lt;span style=\"font-size: 20px; line-height: 30p...</td>\n",
       "    </tr>\n",
       "    <tr>\n",
       "      <th>6425</th>\n",
       "      <td>8411b267</td>\n",
       "      <td>737</td>\n",
       "      <td>0.04</td>\n",
       "      <td>NaN</td>\n",
       "      <td>Blocked</td>\n",
       "      <td>8</td>\n",
       "      <td>Head</td>\n",
       "      <td>None</td>\n",
       "      <td>299562.0</td>\n",
       "      <td>Pass (Dead)</td>\n",
       "      <td>NaN</td>\n",
       "      <td>None</td>\n",
       "      <td>d7a486cd</td>\n",
       "      <td>1</td>\n",
       "      <td>2361.0</td>\n",
       "      <td>98.805</td>\n",
       "      <td>101.745</td>\n",
       "      <td>41.616</td>\n",
       "      <td>39.304</td>\n",
       "      <td>279380</td>\n",
       "      <td>0</td>\n",
       "      <td>Nantes</td>\n",
       "      <td>34</td>\n",
       "      <td>FRA-Ligue 1</td>\n",
       "      <td>2223</td>\n",
       "      <td>Ligue 1</td>\n",
       "      <td>c0d3eab4</td>\n",
       "      <td>Strasbourg</td>\n",
       "      <td>Andrei Girotto</td>\n",
       "      <td>0.823375</td>\n",
       "      <td>0.52020</td>\n",
       "      <td>2.142857</td>\n",
       "      <td>&lt;span style=\"font-size: 20px; line-height: 30p...</td>\n",
       "    </tr>\n",
       "    <tr>\n",
       "      <th>6429</th>\n",
       "      <td>52ee44a2</td>\n",
       "      <td>2049</td>\n",
       "      <td>0.15</td>\n",
       "      <td>NaN</td>\n",
       "      <td>Off Target</td>\n",
       "      <td>6</td>\n",
       "      <td>Head</td>\n",
       "      <td>None</td>\n",
       "      <td>299562.0</td>\n",
       "      <td>Pass (Dead)</td>\n",
       "      <td>29595.0</td>\n",
       "      <td>Pass (Live)</td>\n",
       "      <td>d7a486cd</td>\n",
       "      <td>2</td>\n",
       "      <td>2876.0</td>\n",
       "      <td>99.225</td>\n",
       "      <td>105.000</td>\n",
       "      <td>31.960</td>\n",
       "      <td>37.128</td>\n",
       "      <td>279380</td>\n",
       "      <td>0</td>\n",
       "      <td>Nantes</td>\n",
       "      <td>35</td>\n",
       "      <td>FRA-Ligue 1</td>\n",
       "      <td>2223</td>\n",
       "      <td>Ligue 1</td>\n",
       "      <td>3f8c4b5f</td>\n",
       "      <td>Toulouse</td>\n",
       "      <td>Andrei Girotto</td>\n",
       "      <td>0.826875</td>\n",
       "      <td>0.39950</td>\n",
       "      <td>2.666667</td>\n",
       "      <td>&lt;span style=\"font-size: 20px; line-height: 30p...</td>\n",
       "    </tr>\n",
       "    <tr>\n",
       "      <th>6451</th>\n",
       "      <td>54a0b007</td>\n",
       "      <td>3</td>\n",
       "      <td>0.03</td>\n",
       "      <td>NaN</td>\n",
       "      <td>Off Target</td>\n",
       "      <td>21</td>\n",
       "      <td>Right Foot</td>\n",
       "      <td>Volley</td>\n",
       "      <td>NaN</td>\n",
       "      <td>None</td>\n",
       "      <td>NaN</td>\n",
       "      <td>None</td>\n",
       "      <td>d7a486cd</td>\n",
       "      <td>1</td>\n",
       "      <td>7.0</td>\n",
       "      <td>87.780</td>\n",
       "      <td>16.170</td>\n",
       "      <td>18.768</td>\n",
       "      <td>47.056</td>\n",
       "      <td>344645</td>\n",
       "      <td>0</td>\n",
       "      <td>Nantes</td>\n",
       "      <td>38</td>\n",
       "      <td>FRA-Ligue 1</td>\n",
       "      <td>2223</td>\n",
       "      <td>Ligue 1</td>\n",
       "      <td>69236f98</td>\n",
       "      <td>Angers</td>\n",
       "      <td>Ignatius Ganago</td>\n",
       "      <td>0.731500</td>\n",
       "      <td>0.23460</td>\n",
       "      <td>2.095238</td>\n",
       "      <td>&lt;span style=\"font-size: 20px; line-height: 30p...</td>\n",
       "    </tr>\n",
       "    <tr>\n",
       "      <th>6463</th>\n",
       "      <td>1ed26dbe</td>\n",
       "      <td>1545</td>\n",
       "      <td>0.04</td>\n",
       "      <td>NaN</td>\n",
       "      <td>Saved off Target</td>\n",
       "      <td>12</td>\n",
       "      <td>Right Foot</td>\n",
       "      <td>None</td>\n",
       "      <td>294496.0</td>\n",
       "      <td>Pass (Live)</td>\n",
       "      <td>342571.0</td>\n",
       "      <td>Pass (Live)</td>\n",
       "      <td>d7a486cd</td>\n",
       "      <td>2</td>\n",
       "      <td>1830.0</td>\n",
       "      <td>101.640</td>\n",
       "      <td>103.740</td>\n",
       "      <td>19.788</td>\n",
       "      <td>32.164</td>\n",
       "      <td>299562</td>\n",
       "      <td>0</td>\n",
       "      <td>Nantes</td>\n",
       "      <td>36</td>\n",
       "      <td>FRA-Ligue 1</td>\n",
       "      <td>2223</td>\n",
       "      <td>Ligue 1</td>\n",
       "      <td>281b0e73</td>\n",
       "      <td>Montpellier</td>\n",
       "      <td>Ludovic Blas</td>\n",
       "      <td>0.847000</td>\n",
       "      <td>0.24735</td>\n",
       "      <td>2.142857</td>\n",
       "      <td>&lt;span style=\"font-size: 20px; line-height: 30p...</td>\n",
       "    </tr>\n",
       "    <tr>\n",
       "      <th>6473</th>\n",
       "      <td>54a0b007</td>\n",
       "      <td>1234</td>\n",
       "      <td>0.06</td>\n",
       "      <td>NaN</td>\n",
       "      <td>Off Target</td>\n",
       "      <td>13</td>\n",
       "      <td>Head</td>\n",
       "      <td>None</td>\n",
       "      <td>373848.0</td>\n",
       "      <td>Pass (Live)</td>\n",
       "      <td>342571.0</td>\n",
       "      <td>Pass (Live)</td>\n",
       "      <td>d7a486cd</td>\n",
       "      <td>2</td>\n",
       "      <td>1793.0</td>\n",
       "      <td>93.135</td>\n",
       "      <td>105.000</td>\n",
       "      <td>31.960</td>\n",
       "      <td>35.564</td>\n",
       "      <td>299562</td>\n",
       "      <td>0</td>\n",
       "      <td>Nantes</td>\n",
       "      <td>38</td>\n",
       "      <td>FRA-Ligue 1</td>\n",
       "      <td>2223</td>\n",
       "      <td>Ligue 1</td>\n",
       "      <td>69236f98</td>\n",
       "      <td>Angers</td>\n",
       "      <td>Ludovic Blas</td>\n",
       "      <td>0.776125</td>\n",
       "      <td>0.39950</td>\n",
       "      <td>2.238095</td>\n",
       "      <td>&lt;span style=\"font-size: 20px; line-height: 30p...</td>\n",
       "    </tr>\n",
       "    <tr>\n",
       "      <th>6499</th>\n",
       "      <td>54a0b007</td>\n",
       "      <td>1423</td>\n",
       "      <td>0.01</td>\n",
       "      <td>0.46</td>\n",
       "      <td>Saved</td>\n",
       "      <td>58</td>\n",
       "      <td>Left Foot</td>\n",
       "      <td>None</td>\n",
       "      <td>NaN</td>\n",
       "      <td>None</td>\n",
       "      <td>NaN</td>\n",
       "      <td>None</td>\n",
       "      <td>d7a486cd</td>\n",
       "      <td>2</td>\n",
       "      <td>2681.0</td>\n",
       "      <td>51.870</td>\n",
       "      <td>88.935</td>\n",
       "      <td>52.020</td>\n",
       "      <td>38.760</td>\n",
       "      <td>438657</td>\n",
       "      <td>0</td>\n",
       "      <td>Nantes</td>\n",
       "      <td>38</td>\n",
       "      <td>FRA-Ligue 1</td>\n",
       "      <td>2223</td>\n",
       "      <td>Ligue 1</td>\n",
       "      <td>69236f98</td>\n",
       "      <td>Angers</td>\n",
       "      <td>Jaouen Hadjam</td>\n",
       "      <td>0.432250</td>\n",
       "      <td>0.65025</td>\n",
       "      <td>2.000000</td>\n",
       "      <td>&lt;span style=\"font-size: 20px; line-height: 30p...</td>\n",
       "    </tr>\n",
       "    <tr>\n",
       "      <th>6508</th>\n",
       "      <td>1ed26dbe</td>\n",
       "      <td>1240</td>\n",
       "      <td>0.03</td>\n",
       "      <td>NaN</td>\n",
       "      <td>Blocked</td>\n",
       "      <td>26</td>\n",
       "      <td>Left Foot</td>\n",
       "      <td>None</td>\n",
       "      <td>114169.0</td>\n",
       "      <td>Pass (Live)</td>\n",
       "      <td>NaN</td>\n",
       "      <td>None</td>\n",
       "      <td>d7a486cd</td>\n",
       "      <td>2</td>\n",
       "      <td>920.0</td>\n",
       "      <td>80.850</td>\n",
       "      <td>80.010</td>\n",
       "      <td>31.892</td>\n",
       "      <td>34.884</td>\n",
       "      <td>476406</td>\n",
       "      <td>0</td>\n",
       "      <td>Nantes</td>\n",
       "      <td>36</td>\n",
       "      <td>FRA-Ligue 1</td>\n",
       "      <td>2223</td>\n",
       "      <td>Ligue 1</td>\n",
       "      <td>281b0e73</td>\n",
       "      <td>Montpellier</td>\n",
       "      <td>Stredair Appuah</td>\n",
       "      <td>0.673750</td>\n",
       "      <td>0.39865</td>\n",
       "      <td>2.095238</td>\n",
       "      <td>&lt;span style=\"font-size: 20px; line-height: 30p...</td>\n",
       "    </tr>\n",
       "    <tr>\n",
       "      <th>6567</th>\n",
       "      <td>8411b267</td>\n",
       "      <td>1042</td>\n",
       "      <td>0.02</td>\n",
       "      <td>0.18</td>\n",
       "      <td>Saved</td>\n",
       "      <td>16</td>\n",
       "      <td>Head</td>\n",
       "      <td>None</td>\n",
       "      <td>114169.0</td>\n",
       "      <td>Pass (Dead)</td>\n",
       "      <td>344645.0</td>\n",
       "      <td>Fouled</td>\n",
       "      <td>d7a486cd</td>\n",
       "      <td>2</td>\n",
       "      <td>901.0</td>\n",
       "      <td>90.090</td>\n",
       "      <td>102.900</td>\n",
       "      <td>35.020</td>\n",
       "      <td>34.340</td>\n",
       "      <td>344645</td>\n",
       "      <td>0</td>\n",
       "      <td>Nantes</td>\n",
       "      <td>34</td>\n",
       "      <td>FRA-Ligue 1</td>\n",
       "      <td>2223</td>\n",
       "      <td>Ligue 1</td>\n",
       "      <td>c0d3eab4</td>\n",
       "      <td>Strasbourg</td>\n",
       "      <td>Ignatius Ganago</td>\n",
       "      <td>0.750750</td>\n",
       "      <td>0.43775</td>\n",
       "      <td>2.047619</td>\n",
       "      <td>&lt;span style=\"font-size: 20px; line-height: 30p...</td>\n",
       "    </tr>\n",
       "    <tr>\n",
       "      <th>6579</th>\n",
       "      <td>8411b267</td>\n",
       "      <td>400</td>\n",
       "      <td>0.09</td>\n",
       "      <td>NaN</td>\n",
       "      <td>Off Target</td>\n",
       "      <td>14</td>\n",
       "      <td>Right Foot</td>\n",
       "      <td>Volley</td>\n",
       "      <td>409837.0</td>\n",
       "      <td>Shot</td>\n",
       "      <td>NaN</td>\n",
       "      <td>None</td>\n",
       "      <td>d7a486cd</td>\n",
       "      <td>1</td>\n",
       "      <td>1139.0</td>\n",
       "      <td>92.190</td>\n",
       "      <td>105.000</td>\n",
       "      <td>35.836</td>\n",
       "      <td>34.272</td>\n",
       "      <td>409837</td>\n",
       "      <td>0</td>\n",
       "      <td>Nantes</td>\n",
       "      <td>34</td>\n",
       "      <td>FRA-Ligue 1</td>\n",
       "      <td>2223</td>\n",
       "      <td>Ligue 1</td>\n",
       "      <td>c0d3eab4</td>\n",
       "      <td>Strasbourg</td>\n",
       "      <td>Mostafa Mohamed</td>\n",
       "      <td>0.768250</td>\n",
       "      <td>0.44795</td>\n",
       "      <td>2.380952</td>\n",
       "      <td>&lt;span style=\"font-size: 20px; line-height: 30p...</td>\n",
       "    </tr>\n",
       "    <tr>\n",
       "      <th>6591</th>\n",
       "      <td>1ed26dbe</td>\n",
       "      <td>236</td>\n",
       "      <td>0.08</td>\n",
       "      <td>0.25</td>\n",
       "      <td>Saved</td>\n",
       "      <td>16</td>\n",
       "      <td>Left Foot</td>\n",
       "      <td>Volley</td>\n",
       "      <td>84899.0</td>\n",
       "      <td>Pass (Live)</td>\n",
       "      <td>NaN</td>\n",
       "      <td>None</td>\n",
       "      <td>d7a486cd</td>\n",
       "      <td>1</td>\n",
       "      <td>662.0</td>\n",
       "      <td>90.510</td>\n",
       "      <td>102.375</td>\n",
       "      <td>31.688</td>\n",
       "      <td>33.320</td>\n",
       "      <td>342571</td>\n",
       "      <td>0</td>\n",
       "      <td>Nantes</td>\n",
       "      <td>36</td>\n",
       "      <td>FRA-Ligue 1</td>\n",
       "      <td>2223</td>\n",
       "      <td>Ligue 1</td>\n",
       "      <td>281b0e73</td>\n",
       "      <td>Montpellier</td>\n",
       "      <td>Samuel Moutoussamy</td>\n",
       "      <td>0.754250</td>\n",
       "      <td>0.39610</td>\n",
       "      <td>2.333333</td>\n",
       "      <td>&lt;span style=\"font-size: 20px; line-height: 30p...</td>\n",
       "    </tr>\n",
       "    <tr>\n",
       "      <th>6593</th>\n",
       "      <td>1ed26dbe</td>\n",
       "      <td>645</td>\n",
       "      <td>0.14</td>\n",
       "      <td>NaN</td>\n",
       "      <td>Off Target</td>\n",
       "      <td>5</td>\n",
       "      <td>Head</td>\n",
       "      <td>None</td>\n",
       "      <td>114169.0</td>\n",
       "      <td>Pass (Dead)</td>\n",
       "      <td>114169.0</td>\n",
       "      <td>Pass (Live)</td>\n",
       "      <td>d7a486cd</td>\n",
       "      <td>1</td>\n",
       "      <td>1835.0</td>\n",
       "      <td>100.590</td>\n",
       "      <td>105.000</td>\n",
       "      <td>39.100</td>\n",
       "      <td>39.916</td>\n",
       "      <td>279380</td>\n",
       "      <td>0</td>\n",
       "      <td>Nantes</td>\n",
       "      <td>36</td>\n",
       "      <td>FRA-Ligue 1</td>\n",
       "      <td>2223</td>\n",
       "      <td>Ligue 1</td>\n",
       "      <td>281b0e73</td>\n",
       "      <td>Montpellier</td>\n",
       "      <td>Andrei Girotto</td>\n",
       "      <td>0.838250</td>\n",
       "      <td>0.48875</td>\n",
       "      <td>2.619048</td>\n",
       "      <td>&lt;span style=\"font-size: 20px; line-height: 30p...</td>\n",
       "    </tr>\n",
       "    <tr>\n",
       "      <th>6618</th>\n",
       "      <td>8411b267</td>\n",
       "      <td>1401</td>\n",
       "      <td>0.04</td>\n",
       "      <td>NaN</td>\n",
       "      <td>Off Target</td>\n",
       "      <td>20</td>\n",
       "      <td>Left Foot</td>\n",
       "      <td>Volley</td>\n",
       "      <td>202185.0</td>\n",
       "      <td>Pass (Live)</td>\n",
       "      <td>256539.0</td>\n",
       "      <td>Pass (Live)</td>\n",
       "      <td>d7a486cd</td>\n",
       "      <td>2</td>\n",
       "      <td>2229.0</td>\n",
       "      <td>86.520</td>\n",
       "      <td>105.000</td>\n",
       "      <td>36.380</td>\n",
       "      <td>39.100</td>\n",
       "      <td>279380</td>\n",
       "      <td>0</td>\n",
       "      <td>Nantes</td>\n",
       "      <td>34</td>\n",
       "      <td>FRA-Ligue 1</td>\n",
       "      <td>2223</td>\n",
       "      <td>Ligue 1</td>\n",
       "      <td>c0d3eab4</td>\n",
       "      <td>Strasbourg</td>\n",
       "      <td>Andrei Girotto</td>\n",
       "      <td>0.721000</td>\n",
       "      <td>0.45475</td>\n",
       "      <td>2.142857</td>\n",
       "      <td>&lt;span style=\"font-size: 20px; line-height: 30p...</td>\n",
       "    </tr>\n",
       "    <tr>\n",
       "      <th>6624</th>\n",
       "      <td>8411b267</td>\n",
       "      <td>1462</td>\n",
       "      <td>0.05</td>\n",
       "      <td>NaN</td>\n",
       "      <td>Off Target</td>\n",
       "      <td>14</td>\n",
       "      <td>Head</td>\n",
       "      <td>None</td>\n",
       "      <td>239806.0</td>\n",
       "      <td>Pass (Live)</td>\n",
       "      <td>202185.0</td>\n",
       "      <td>Pass (Live)</td>\n",
       "      <td>d7a486cd</td>\n",
       "      <td>2</td>\n",
       "      <td>2440.0</td>\n",
       "      <td>92.190</td>\n",
       "      <td>105.000</td>\n",
       "      <td>29.988</td>\n",
       "      <td>48.144</td>\n",
       "      <td>114169</td>\n",
       "      <td>0</td>\n",
       "      <td>Nantes</td>\n",
       "      <td>34</td>\n",
       "      <td>FRA-Ligue 1</td>\n",
       "      <td>2223</td>\n",
       "      <td>Ligue 1</td>\n",
       "      <td>c0d3eab4</td>\n",
       "      <td>Strasbourg</td>\n",
       "      <td>Florent Mollet</td>\n",
       "      <td>0.768250</td>\n",
       "      <td>0.37485</td>\n",
       "      <td>2.190476</td>\n",
       "      <td>&lt;span style=\"font-size: 20px; line-height: 30p...</td>\n",
       "    </tr>\n",
       "    <tr>\n",
       "      <th>6675</th>\n",
       "      <td>1ed26dbe</td>\n",
       "      <td>1695</td>\n",
       "      <td>0.04</td>\n",
       "      <td>NaN</td>\n",
       "      <td>Off Target</td>\n",
       "      <td>22</td>\n",
       "      <td>Right Foot</td>\n",
       "      <td>None</td>\n",
       "      <td>114169.0</td>\n",
       "      <td>Fouled</td>\n",
       "      <td>114169.0</td>\n",
       "      <td>Pass (Live)</td>\n",
       "      <td>d7a486cd</td>\n",
       "      <td>2</td>\n",
       "      <td>2490.0</td>\n",
       "      <td>84.735</td>\n",
       "      <td>105.000</td>\n",
       "      <td>40.256</td>\n",
       "      <td>40.324</td>\n",
       "      <td>279380</td>\n",
       "      <td>0</td>\n",
       "      <td>Nantes</td>\n",
       "      <td>36</td>\n",
       "      <td>FRA-Ligue 1</td>\n",
       "      <td>2223</td>\n",
       "      <td>Ligue 1</td>\n",
       "      <td>281b0e73</td>\n",
       "      <td>Montpellier</td>\n",
       "      <td>Andrei Girotto</td>\n",
       "      <td>0.706125</td>\n",
       "      <td>0.50320</td>\n",
       "      <td>2.142857</td>\n",
       "      <td>&lt;span style=\"font-size: 20px; line-height: 30p...</td>\n",
       "    </tr>\n",
       "    <tr>\n",
       "      <th>6682</th>\n",
       "      <td>54a0b007</td>\n",
       "      <td>495</td>\n",
       "      <td>0.05</td>\n",
       "      <td>0.26</td>\n",
       "      <td>Saved</td>\n",
       "      <td>16</td>\n",
       "      <td>Left Foot</td>\n",
       "      <td>None</td>\n",
       "      <td>297409.0</td>\n",
       "      <td>Pass (Live)</td>\n",
       "      <td>373848.0</td>\n",
       "      <td>Pass (Live)</td>\n",
       "      <td>d7a486cd</td>\n",
       "      <td>1</td>\n",
       "      <td>1686.0</td>\n",
       "      <td>91.350</td>\n",
       "      <td>101.850</td>\n",
       "      <td>21.556</td>\n",
       "      <td>31.552</td>\n",
       "      <td>299562</td>\n",
       "      <td>0</td>\n",
       "      <td>Nantes</td>\n",
       "      <td>38</td>\n",
       "      <td>FRA-Ligue 1</td>\n",
       "      <td>2223</td>\n",
       "      <td>Ligue 1</td>\n",
       "      <td>69236f98</td>\n",
       "      <td>Angers</td>\n",
       "      <td>Ludovic Blas</td>\n",
       "      <td>0.761250</td>\n",
       "      <td>0.26945</td>\n",
       "      <td>2.190476</td>\n",
       "      <td>&lt;span style=\"font-size: 20px; line-height: 30p...</td>\n",
       "    </tr>\n",
       "    <tr>\n",
       "      <th>6700</th>\n",
       "      <td>1b4970df</td>\n",
       "      <td>1151</td>\n",
       "      <td>0.09</td>\n",
       "      <td>NaN</td>\n",
       "      <td>Off Target</td>\n",
       "      <td>20</td>\n",
       "      <td>Left Foot</td>\n",
       "      <td>None</td>\n",
       "      <td>299562.0</td>\n",
       "      <td>Take-On</td>\n",
       "      <td>342571.0</td>\n",
       "      <td>Pass (Live)</td>\n",
       "      <td>d7a486cd</td>\n",
       "      <td>2</td>\n",
       "      <td>756.0</td>\n",
       "      <td>86.520</td>\n",
       "      <td>105.000</td>\n",
       "      <td>33.932</td>\n",
       "      <td>41.140</td>\n",
       "      <td>299562</td>\n",
       "      <td>0</td>\n",
       "      <td>Nantes</td>\n",
       "      <td>37</td>\n",
       "      <td>FRA-Ligue 1</td>\n",
       "      <td>2223</td>\n",
       "      <td>Ligue 1</td>\n",
       "      <td>cb188c0c</td>\n",
       "      <td>Lille</td>\n",
       "      <td>Ludovic Blas</td>\n",
       "      <td>0.721000</td>\n",
       "      <td>0.42415</td>\n",
       "      <td>2.380952</td>\n",
       "      <td>&lt;span style=\"font-size: 20px; line-height: 30p...</td>\n",
       "    </tr>\n",
       "    <tr>\n",
       "      <th>6726</th>\n",
       "      <td>1ed26dbe</td>\n",
       "      <td>1677</td>\n",
       "      <td>0.02</td>\n",
       "      <td>NaN</td>\n",
       "      <td>Blocked</td>\n",
       "      <td>19</td>\n",
       "      <td>Right Foot</td>\n",
       "      <td>None</td>\n",
       "      <td>NaN</td>\n",
       "      <td>None</td>\n",
       "      <td>NaN</td>\n",
       "      <td>None</td>\n",
       "      <td>d7a486cd</td>\n",
       "      <td>2</td>\n",
       "      <td>2400.0</td>\n",
       "      <td>94.710</td>\n",
       "      <td>94.605</td>\n",
       "      <td>52.088</td>\n",
       "      <td>50.592</td>\n",
       "      <td>202185</td>\n",
       "      <td>0</td>\n",
       "      <td>Nantes</td>\n",
       "      <td>36</td>\n",
       "      <td>FRA-Ligue 1</td>\n",
       "      <td>2223</td>\n",
       "      <td>Ligue 1</td>\n",
       "      <td>281b0e73</td>\n",
       "      <td>Montpellier</td>\n",
       "      <td>Moses Simon</td>\n",
       "      <td>0.789250</td>\n",
       "      <td>0.65110</td>\n",
       "      <td>2.047619</td>\n",
       "      <td>&lt;span style=\"font-size: 20px; line-height: 30p...</td>\n",
       "    </tr>\n",
       "    <tr>\n",
       "      <th>6747</th>\n",
       "      <td>1ed26dbe</td>\n",
       "      <td>1522</td>\n",
       "      <td>0.02</td>\n",
       "      <td>NaN</td>\n",
       "      <td>Blocked</td>\n",
       "      <td>18</td>\n",
       "      <td>Left Foot</td>\n",
       "      <td>None</td>\n",
       "      <td>299562.0</td>\n",
       "      <td>Take-On</td>\n",
       "      <td>299562.0</td>\n",
       "      <td>Pass (Live)</td>\n",
       "      <td>d7a486cd</td>\n",
       "      <td>2</td>\n",
       "      <td>1785.0</td>\n",
       "      <td>90.090</td>\n",
       "      <td>92.820</td>\n",
       "      <td>20.740</td>\n",
       "      <td>23.664</td>\n",
       "      <td>299562</td>\n",
       "      <td>0</td>\n",
       "      <td>Nantes</td>\n",
       "      <td>36</td>\n",
       "      <td>FRA-Ligue 1</td>\n",
       "      <td>2223</td>\n",
       "      <td>Ligue 1</td>\n",
       "      <td>281b0e73</td>\n",
       "      <td>Montpellier</td>\n",
       "      <td>Ludovic Blas</td>\n",
       "      <td>0.750750</td>\n",
       "      <td>0.25925</td>\n",
       "      <td>2.047619</td>\n",
       "      <td>&lt;span style=\"font-size: 20px; line-height: 30p...</td>\n",
       "    </tr>\n",
       "    <tr>\n",
       "      <th>6812</th>\n",
       "      <td>8411b267</td>\n",
       "      <td>15</td>\n",
       "      <td>0.04</td>\n",
       "      <td>NaN</td>\n",
       "      <td>Blocked</td>\n",
       "      <td>18</td>\n",
       "      <td>Right Foot</td>\n",
       "      <td>None</td>\n",
       "      <td>409837.0</td>\n",
       "      <td>Shot</td>\n",
       "      <td>NaN</td>\n",
       "      <td>None</td>\n",
       "      <td>d7a486cd</td>\n",
       "      <td>1</td>\n",
       "      <td>18.0</td>\n",
       "      <td>89.880</td>\n",
       "      <td>92.925</td>\n",
       "      <td>22.236</td>\n",
       "      <td>24.820</td>\n",
       "      <td>299562</td>\n",
       "      <td>0</td>\n",
       "      <td>Nantes</td>\n",
       "      <td>34</td>\n",
       "      <td>FRA-Ligue 1</td>\n",
       "      <td>2223</td>\n",
       "      <td>Ligue 1</td>\n",
       "      <td>c0d3eab4</td>\n",
       "      <td>Strasbourg</td>\n",
       "      <td>Ludovic Blas</td>\n",
       "      <td>0.749000</td>\n",
       "      <td>0.27795</td>\n",
       "      <td>2.142857</td>\n",
       "      <td>&lt;span style=\"font-size: 20px; line-height: 30p...</td>\n",
       "    </tr>\n",
       "    <tr>\n",
       "      <th>6830</th>\n",
       "      <td>1b4970df</td>\n",
       "      <td>1682</td>\n",
       "      <td>0.10</td>\n",
       "      <td>NaN</td>\n",
       "      <td>Blocked</td>\n",
       "      <td>8</td>\n",
       "      <td>Right Foot</td>\n",
       "      <td>None</td>\n",
       "      <td>114169.0</td>\n",
       "      <td>Pass (Dead)</td>\n",
       "      <td>202185.0</td>\n",
       "      <td>Shot</td>\n",
       "      <td>d7a486cd</td>\n",
       "      <td>2</td>\n",
       "      <td>3052.0</td>\n",
       "      <td>97.650</td>\n",
       "      <td>98.385</td>\n",
       "      <td>29.444</td>\n",
       "      <td>31.416</td>\n",
       "      <td>373848</td>\n",
       "      <td>0</td>\n",
       "      <td>Nantes</td>\n",
       "      <td>37</td>\n",
       "      <td>FRA-Ligue 1</td>\n",
       "      <td>2223</td>\n",
       "      <td>Ligue 1</td>\n",
       "      <td>cb188c0c</td>\n",
       "      <td>Lille</td>\n",
       "      <td>João Victor</td>\n",
       "      <td>0.813750</td>\n",
       "      <td>0.36805</td>\n",
       "      <td>2.428571</td>\n",
       "      <td>&lt;span style=\"font-size: 20px; line-height: 30p...</td>\n",
       "    </tr>\n",
       "    <tr>\n",
       "      <th>6850</th>\n",
       "      <td>1ed26dbe</td>\n",
       "      <td>1397</td>\n",
       "      <td>0.06</td>\n",
       "      <td>NaN</td>\n",
       "      <td>Off Target</td>\n",
       "      <td>12</td>\n",
       "      <td>Right Foot</td>\n",
       "      <td>None</td>\n",
       "      <td>476406.0</td>\n",
       "      <td>Pass (Live)</td>\n",
       "      <td>239806.0</td>\n",
       "      <td>Pass (Live)</td>\n",
       "      <td>d7a486cd</td>\n",
       "      <td>2</td>\n",
       "      <td>1356.0</td>\n",
       "      <td>95.760</td>\n",
       "      <td>105.000</td>\n",
       "      <td>23.324</td>\n",
       "      <td>53.856</td>\n",
       "      <td>202185</td>\n",
       "      <td>0</td>\n",
       "      <td>Nantes</td>\n",
       "      <td>36</td>\n",
       "      <td>FRA-Ligue 1</td>\n",
       "      <td>2223</td>\n",
       "      <td>Ligue 1</td>\n",
       "      <td>281b0e73</td>\n",
       "      <td>Montpellier</td>\n",
       "      <td>Moses Simon</td>\n",
       "      <td>0.798000</td>\n",
       "      <td>0.29155</td>\n",
       "      <td>2.238095</td>\n",
       "      <td>&lt;span style=\"font-size: 20px; line-height: 30p...</td>\n",
       "    </tr>\n",
       "    <tr>\n",
       "      <th>6871</th>\n",
       "      <td>1ed26dbe</td>\n",
       "      <td>78</td>\n",
       "      <td>0.19</td>\n",
       "      <td>0.53</td>\n",
       "      <td>Saved</td>\n",
       "      <td>12</td>\n",
       "      <td>Left Foot</td>\n",
       "      <td>None</td>\n",
       "      <td>411087.0</td>\n",
       "      <td>Pass (Live)</td>\n",
       "      <td>84899.0</td>\n",
       "      <td>Pass (Live)</td>\n",
       "      <td>d7a486cd</td>\n",
       "      <td>1</td>\n",
       "      <td>270.0</td>\n",
       "      <td>98.070</td>\n",
       "      <td>103.215</td>\n",
       "      <td>46.308</td>\n",
       "      <td>38.420</td>\n",
       "      <td>299562</td>\n",
       "      <td>0</td>\n",
       "      <td>Nantes</td>\n",
       "      <td>36</td>\n",
       "      <td>FRA-Ligue 1</td>\n",
       "      <td>2223</td>\n",
       "      <td>Ligue 1</td>\n",
       "      <td>281b0e73</td>\n",
       "      <td>Montpellier</td>\n",
       "      <td>Ludovic Blas</td>\n",
       "      <td>0.817250</td>\n",
       "      <td>0.57885</td>\n",
       "      <td>2.857143</td>\n",
       "      <td>&lt;span style=\"font-size: 20px; line-height: 30p...</td>\n",
       "    </tr>\n",
       "    <tr>\n",
       "      <th>6887</th>\n",
       "      <td>1b4970df</td>\n",
       "      <td>1130</td>\n",
       "      <td>0.07</td>\n",
       "      <td>NaN</td>\n",
       "      <td>Blocked</td>\n",
       "      <td>15</td>\n",
       "      <td>Left Foot</td>\n",
       "      <td>None</td>\n",
       "      <td>411087.0</td>\n",
       "      <td>Pass (Live)</td>\n",
       "      <td>256539.0</td>\n",
       "      <td>Pass (Live)</td>\n",
       "      <td>d7a486cd</td>\n",
       "      <td>2</td>\n",
       "      <td>689.0</td>\n",
       "      <td>90.930</td>\n",
       "      <td>94.395</td>\n",
       "      <td>38.012</td>\n",
       "      <td>35.496</td>\n",
       "      <td>299562</td>\n",
       "      <td>0</td>\n",
       "      <td>Nantes</td>\n",
       "      <td>37</td>\n",
       "      <td>FRA-Ligue 1</td>\n",
       "      <td>2223</td>\n",
       "      <td>Ligue 1</td>\n",
       "      <td>cb188c0c</td>\n",
       "      <td>Lille</td>\n",
       "      <td>Ludovic Blas</td>\n",
       "      <td>0.757750</td>\n",
       "      <td>0.47515</td>\n",
       "      <td>2.285714</td>\n",
       "      <td>&lt;span style=\"font-size: 20px; line-height: 30p...</td>\n",
       "    </tr>\n",
       "    <tr>\n",
       "      <th>6899</th>\n",
       "      <td>1ed26dbe</td>\n",
       "      <td>1411</td>\n",
       "      <td>0.08</td>\n",
       "      <td>NaN</td>\n",
       "      <td>Blocked</td>\n",
       "      <td>19</td>\n",
       "      <td>Left Foot</td>\n",
       "      <td>None</td>\n",
       "      <td>299562.0</td>\n",
       "      <td>Pass (Live)</td>\n",
       "      <td>294496.0</td>\n",
       "      <td>Pass (Live)</td>\n",
       "      <td>d7a486cd</td>\n",
       "      <td>2</td>\n",
       "      <td>1450.0</td>\n",
       "      <td>87.360</td>\n",
       "      <td>91.245</td>\n",
       "      <td>31.552</td>\n",
       "      <td>33.388</td>\n",
       "      <td>114169</td>\n",
       "      <td>0</td>\n",
       "      <td>Nantes</td>\n",
       "      <td>36</td>\n",
       "      <td>FRA-Ligue 1</td>\n",
       "      <td>2223</td>\n",
       "      <td>Ligue 1</td>\n",
       "      <td>281b0e73</td>\n",
       "      <td>Montpellier</td>\n",
       "      <td>Florent Mollet</td>\n",
       "      <td>0.728000</td>\n",
       "      <td>0.39440</td>\n",
       "      <td>2.333333</td>\n",
       "      <td>&lt;span style=\"font-size: 20px; line-height: 30p...</td>\n",
       "    </tr>\n",
       "    <tr>\n",
       "      <th>6920</th>\n",
       "      <td>54a0b007</td>\n",
       "      <td>143</td>\n",
       "      <td>0.13</td>\n",
       "      <td>NaN</td>\n",
       "      <td>Off Target</td>\n",
       "      <td>11</td>\n",
       "      <td>Right Foot</td>\n",
       "      <td>Volley</td>\n",
       "      <td>373848.0</td>\n",
       "      <td>Pass (Live)</td>\n",
       "      <td>342571.0</td>\n",
       "      <td>Pass (Live)</td>\n",
       "      <td>d7a486cd</td>\n",
       "      <td>1</td>\n",
       "      <td>427.0</td>\n",
       "      <td>94.710</td>\n",
       "      <td>105.000</td>\n",
       "      <td>31.076</td>\n",
       "      <td>29.716</td>\n",
       "      <td>256539</td>\n",
       "      <td>0</td>\n",
       "      <td>Nantes</td>\n",
       "      <td>38</td>\n",
       "      <td>FRA-Ligue 1</td>\n",
       "      <td>2223</td>\n",
       "      <td>Ligue 1</td>\n",
       "      <td>69236f98</td>\n",
       "      <td>Angers</td>\n",
       "      <td>Marcus Coco</td>\n",
       "      <td>0.789250</td>\n",
       "      <td>0.38845</td>\n",
       "      <td>2.571429</td>\n",
       "      <td>&lt;span style=\"font-size: 20px; line-height: 30p...</td>\n",
       "    </tr>\n",
       "    <tr>\n",
       "      <th>6926</th>\n",
       "      <td>1b4970df</td>\n",
       "      <td>843</td>\n",
       "      <td>0.33</td>\n",
       "      <td>0.46</td>\n",
       "      <td>Saved</td>\n",
       "      <td>13</td>\n",
       "      <td>Right Foot</td>\n",
       "      <td>None</td>\n",
       "      <td>411087.0</td>\n",
       "      <td>Pass (Live)</td>\n",
       "      <td>256539.0</td>\n",
       "      <td>Pass (Live)</td>\n",
       "      <td>d7a486cd</td>\n",
       "      <td>1</td>\n",
       "      <td>2656.0</td>\n",
       "      <td>93.240</td>\n",
       "      <td>102.480</td>\n",
       "      <td>34.000</td>\n",
       "      <td>35.564</td>\n",
       "      <td>344645</td>\n",
       "      <td>0</td>\n",
       "      <td>Nantes</td>\n",
       "      <td>37</td>\n",
       "      <td>FRA-Ligue 1</td>\n",
       "      <td>2223</td>\n",
       "      <td>Ligue 1</td>\n",
       "      <td>cb188c0c</td>\n",
       "      <td>Lille</td>\n",
       "      <td>Ignatius Ganago</td>\n",
       "      <td>0.777000</td>\n",
       "      <td>0.42500</td>\n",
       "      <td>3.523810</td>\n",
       "      <td>&lt;span style=\"font-size: 20px; line-height: 30p...</td>\n",
       "    </tr>\n",
       "    <tr>\n",
       "      <th>6939</th>\n",
       "      <td>8411b267</td>\n",
       "      <td>469</td>\n",
       "      <td>0.06</td>\n",
       "      <td>0.02</td>\n",
       "      <td>Saved</td>\n",
       "      <td>10</td>\n",
       "      <td>Head</td>\n",
       "      <td>None</td>\n",
       "      <td>299562.0</td>\n",
       "      <td>Pass (Dead)</td>\n",
       "      <td>344645.0</td>\n",
       "      <td>Pass (Live)</td>\n",
       "      <td>d7a486cd</td>\n",
       "      <td>1</td>\n",
       "      <td>1442.0</td>\n",
       "      <td>95.760</td>\n",
       "      <td>103.845</td>\n",
       "      <td>34.476</td>\n",
       "      <td>34.612</td>\n",
       "      <td>279380</td>\n",
       "      <td>0</td>\n",
       "      <td>Nantes</td>\n",
       "      <td>34</td>\n",
       "      <td>FRA-Ligue 1</td>\n",
       "      <td>2223</td>\n",
       "      <td>Ligue 1</td>\n",
       "      <td>c0d3eab4</td>\n",
       "      <td>Strasbourg</td>\n",
       "      <td>Andrei Girotto</td>\n",
       "      <td>0.798000</td>\n",
       "      <td>0.43095</td>\n",
       "      <td>2.238095</td>\n",
       "      <td>&lt;span style=\"font-size: 20px; line-height: 30p...</td>\n",
       "    </tr>\n",
       "    <tr>\n",
       "      <th>7049</th>\n",
       "      <td>1b4970df</td>\n",
       "      <td>429</td>\n",
       "      <td>0.08</td>\n",
       "      <td>NaN</td>\n",
       "      <td>Off Target</td>\n",
       "      <td>18</td>\n",
       "      <td>Right Foot</td>\n",
       "      <td>None</td>\n",
       "      <td>299562.0</td>\n",
       "      <td>Pass (Live)</td>\n",
       "      <td>411087.0</td>\n",
       "      <td>Pass (Live)</td>\n",
       "      <td>d7a486cd</td>\n",
       "      <td>1</td>\n",
       "      <td>1335.0</td>\n",
       "      <td>88.410</td>\n",
       "      <td>105.000</td>\n",
       "      <td>41.276</td>\n",
       "      <td>28.424</td>\n",
       "      <td>344645</td>\n",
       "      <td>0</td>\n",
       "      <td>Nantes</td>\n",
       "      <td>37</td>\n",
       "      <td>FRA-Ligue 1</td>\n",
       "      <td>2223</td>\n",
       "      <td>Ligue 1</td>\n",
       "      <td>cb188c0c</td>\n",
       "      <td>Lille</td>\n",
       "      <td>Ignatius Ganago</td>\n",
       "      <td>0.736750</td>\n",
       "      <td>0.51595</td>\n",
       "      <td>2.333333</td>\n",
       "      <td>&lt;span style=\"font-size: 20px; line-height: 30p...</td>\n",
       "    </tr>\n",
       "    <tr>\n",
       "      <th>7066</th>\n",
       "      <td>54a0b007</td>\n",
       "      <td>795</td>\n",
       "      <td>0.04</td>\n",
       "      <td>0.05</td>\n",
       "      <td>Saved</td>\n",
       "      <td>31</td>\n",
       "      <td>Left Foot</td>\n",
       "      <td>Free kick</td>\n",
       "      <td>297409.0</td>\n",
       "      <td>Pass (Dead)</td>\n",
       "      <td>344645.0</td>\n",
       "      <td>Fouled</td>\n",
       "      <td>d7a486cd</td>\n",
       "      <td>2</td>\n",
       "      <td>131.0</td>\n",
       "      <td>76.335</td>\n",
       "      <td>103.425</td>\n",
       "      <td>26.928</td>\n",
       "      <td>34.068</td>\n",
       "      <td>299562</td>\n",
       "      <td>0</td>\n",
       "      <td>Nantes</td>\n",
       "      <td>38</td>\n",
       "      <td>FRA-Ligue 1</td>\n",
       "      <td>2223</td>\n",
       "      <td>Ligue 1</td>\n",
       "      <td>69236f98</td>\n",
       "      <td>Angers</td>\n",
       "      <td>Ludovic Blas</td>\n",
       "      <td>0.636125</td>\n",
       "      <td>0.33660</td>\n",
       "      <td>2.142857</td>\n",
       "      <td>&lt;span style=\"font-size: 20px; line-height: 30p...</td>\n",
       "    </tr>\n",
       "    <tr>\n",
       "      <th>7109</th>\n",
       "      <td>52ee44a2</td>\n",
       "      <td>46</td>\n",
       "      <td>0.28</td>\n",
       "      <td>NaN</td>\n",
       "      <td>Blocked</td>\n",
       "      <td>13</td>\n",
       "      <td>Right Foot</td>\n",
       "      <td>Volley</td>\n",
       "      <td>202185.0</td>\n",
       "      <td>Shot</td>\n",
       "      <td>NaN</td>\n",
       "      <td>None</td>\n",
       "      <td>d7a486cd</td>\n",
       "      <td>1</td>\n",
       "      <td>72.0</td>\n",
       "      <td>93.135</td>\n",
       "      <td>98.280</td>\n",
       "      <td>32.300</td>\n",
       "      <td>32.912</td>\n",
       "      <td>299562</td>\n",
       "      <td>0</td>\n",
       "      <td>Nantes</td>\n",
       "      <td>35</td>\n",
       "      <td>FRA-Ligue 1</td>\n",
       "      <td>2223</td>\n",
       "      <td>Ligue 1</td>\n",
       "      <td>3f8c4b5f</td>\n",
       "      <td>Toulouse</td>\n",
       "      <td>Ludovic Blas</td>\n",
       "      <td>0.776125</td>\n",
       "      <td>0.40375</td>\n",
       "      <td>3.285714</td>\n",
       "      <td>&lt;span style=\"font-size: 20px; line-height: 30p...</td>\n",
       "    </tr>\n",
       "    <tr>\n",
       "      <th>7123</th>\n",
       "      <td>54a0b007</td>\n",
       "      <td>1335</td>\n",
       "      <td>0.04</td>\n",
       "      <td>0.08</td>\n",
       "      <td>Saved</td>\n",
       "      <td>32</td>\n",
       "      <td>Right Foot</td>\n",
       "      <td>Free kick</td>\n",
       "      <td>202185.0</td>\n",
       "      <td>Fouled</td>\n",
       "      <td>NaN</td>\n",
       "      <td>None</td>\n",
       "      <td>d7a486cd</td>\n",
       "      <td>2</td>\n",
       "      <td>2436.0</td>\n",
       "      <td>78.645</td>\n",
       "      <td>102.690</td>\n",
       "      <td>54.876</td>\n",
       "      <td>34.272</td>\n",
       "      <td>114169</td>\n",
       "      <td>0</td>\n",
       "      <td>Nantes</td>\n",
       "      <td>38</td>\n",
       "      <td>FRA-Ligue 1</td>\n",
       "      <td>2223</td>\n",
       "      <td>Ligue 1</td>\n",
       "      <td>69236f98</td>\n",
       "      <td>Angers</td>\n",
       "      <td>Florent Mollet</td>\n",
       "      <td>0.655375</td>\n",
       "      <td>0.68595</td>\n",
       "      <td>2.142857</td>\n",
       "      <td>&lt;span style=\"font-size: 20px; line-height: 30p...</td>\n",
       "    </tr>\n",
       "    <tr>\n",
       "      <th>7144</th>\n",
       "      <td>52ee44a2</td>\n",
       "      <td>1636</td>\n",
       "      <td>0.05</td>\n",
       "      <td>NaN</td>\n",
       "      <td>Blocked</td>\n",
       "      <td>22</td>\n",
       "      <td>Right Foot</td>\n",
       "      <td>None</td>\n",
       "      <td>202185.0</td>\n",
       "      <td>Pass (Live)</td>\n",
       "      <td>299562.0</td>\n",
       "      <td>Pass (Live)</td>\n",
       "      <td>d7a486cd</td>\n",
       "      <td>2</td>\n",
       "      <td>1537.0</td>\n",
       "      <td>84.105</td>\n",
       "      <td>84.735</td>\n",
       "      <td>32.980</td>\n",
       "      <td>32.640</td>\n",
       "      <td>382587</td>\n",
       "      <td>0</td>\n",
       "      <td>Nantes</td>\n",
       "      <td>35</td>\n",
       "      <td>FRA-Ligue 1</td>\n",
       "      <td>2223</td>\n",
       "      <td>Ligue 1</td>\n",
       "      <td>3f8c4b5f</td>\n",
       "      <td>Toulouse</td>\n",
       "      <td>Evann Guessand</td>\n",
       "      <td>0.700875</td>\n",
       "      <td>0.41225</td>\n",
       "      <td>2.190476</td>\n",
       "      <td>&lt;span style=\"font-size: 20px; line-height: 30p...</td>\n",
       "    </tr>\n",
       "    <tr>\n",
       "      <th>7156</th>\n",
       "      <td>54a0b007</td>\n",
       "      <td>692</td>\n",
       "      <td>0.06</td>\n",
       "      <td>NaN</td>\n",
       "      <td>Blocked</td>\n",
       "      <td>14</td>\n",
       "      <td>Left Foot</td>\n",
       "      <td>None</td>\n",
       "      <td>373848.0</td>\n",
       "      <td>Pass (Live)</td>\n",
       "      <td>373848.0</td>\n",
       "      <td>Tackle</td>\n",
       "      <td>d7a486cd</td>\n",
       "      <td>1</td>\n",
       "      <td>2521.0</td>\n",
       "      <td>92.085</td>\n",
       "      <td>96.495</td>\n",
       "      <td>24.752</td>\n",
       "      <td>27.132</td>\n",
       "      <td>342571</td>\n",
       "      <td>0</td>\n",
       "      <td>Nantes</td>\n",
       "      <td>38</td>\n",
       "      <td>FRA-Ligue 1</td>\n",
       "      <td>2223</td>\n",
       "      <td>Ligue 1</td>\n",
       "      <td>69236f98</td>\n",
       "      <td>Angers</td>\n",
       "      <td>Samuel Moutoussamy</td>\n",
       "      <td>0.767375</td>\n",
       "      <td>0.30940</td>\n",
       "      <td>2.238095</td>\n",
       "      <td>&lt;span style=\"font-size: 20px; line-height: 30p...</td>\n",
       "    </tr>\n",
       "    <tr>\n",
       "      <th>7185</th>\n",
       "      <td>1b4970df</td>\n",
       "      <td>1685</td>\n",
       "      <td>0.02</td>\n",
       "      <td>NaN</td>\n",
       "      <td>Off Target</td>\n",
       "      <td>29</td>\n",
       "      <td>Left Foot</td>\n",
       "      <td>None</td>\n",
       "      <td>373848.0</td>\n",
       "      <td>Shot</td>\n",
       "      <td>NaN</td>\n",
       "      <td>None</td>\n",
       "      <td>d7a486cd</td>\n",
       "      <td>2</td>\n",
       "      <td>3058.0</td>\n",
       "      <td>78.540</td>\n",
       "      <td>105.000</td>\n",
       "      <td>36.584</td>\n",
       "      <td>32.776</td>\n",
       "      <td>476406</td>\n",
       "      <td>0</td>\n",
       "      <td>Nantes</td>\n",
       "      <td>37</td>\n",
       "      <td>FRA-Ligue 1</td>\n",
       "      <td>2223</td>\n",
       "      <td>Ligue 1</td>\n",
       "      <td>cb188c0c</td>\n",
       "      <td>Lille</td>\n",
       "      <td>Stredair Appuah</td>\n",
       "      <td>0.654500</td>\n",
       "      <td>0.45730</td>\n",
       "      <td>2.047619</td>\n",
       "      <td>&lt;span style=\"font-size: 20px; line-height: 30p...</td>\n",
       "    </tr>\n",
       "    <tr>\n",
       "      <th>7204</th>\n",
       "      <td>1ed26dbe</td>\n",
       "      <td>376</td>\n",
       "      <td>0.06</td>\n",
       "      <td>0.07</td>\n",
       "      <td>Saved</td>\n",
       "      <td>19</td>\n",
       "      <td>Left Foot</td>\n",
       "      <td>Deflected, Volley</td>\n",
       "      <td>411087.0</td>\n",
       "      <td>Pass (Live)</td>\n",
       "      <td>202185.0</td>\n",
       "      <td>Pass (Live)</td>\n",
       "      <td>d7a486cd</td>\n",
       "      <td>1</td>\n",
       "      <td>1133.0</td>\n",
       "      <td>87.150</td>\n",
       "      <td>102.480</td>\n",
       "      <td>40.868</td>\n",
       "      <td>35.564</td>\n",
       "      <td>299562</td>\n",
       "      <td>0</td>\n",
       "      <td>Nantes</td>\n",
       "      <td>36</td>\n",
       "      <td>FRA-Ligue 1</td>\n",
       "      <td>2223</td>\n",
       "      <td>Ligue 1</td>\n",
       "      <td>281b0e73</td>\n",
       "      <td>Montpellier</td>\n",
       "      <td>Ludovic Blas</td>\n",
       "      <td>0.726250</td>\n",
       "      <td>0.51085</td>\n",
       "      <td>2.238095</td>\n",
       "      <td>&lt;span style=\"font-size: 20px; line-height: 30p...</td>\n",
       "    </tr>\n",
       "    <tr>\n",
       "      <th>7217</th>\n",
       "      <td>52ee44a2</td>\n",
       "      <td>44</td>\n",
       "      <td>0.23</td>\n",
       "      <td>0.11</td>\n",
       "      <td>Saved</td>\n",
       "      <td>16</td>\n",
       "      <td>Left Foot</td>\n",
       "      <td>None</td>\n",
       "      <td>202185.0</td>\n",
       "      <td>Take-On</td>\n",
       "      <td>NaN</td>\n",
       "      <td>None</td>\n",
       "      <td>d7a486cd</td>\n",
       "      <td>1</td>\n",
       "      <td>70.0</td>\n",
       "      <td>90.300</td>\n",
       "      <td>101.115</td>\n",
       "      <td>40.732</td>\n",
       "      <td>36.108</td>\n",
       "      <td>202185</td>\n",
       "      <td>0</td>\n",
       "      <td>Nantes</td>\n",
       "      <td>35</td>\n",
       "      <td>FRA-Ligue 1</td>\n",
       "      <td>2223</td>\n",
       "      <td>Ligue 1</td>\n",
       "      <td>3f8c4b5f</td>\n",
       "      <td>Toulouse</td>\n",
       "      <td>Moses Simon</td>\n",
       "      <td>0.752500</td>\n",
       "      <td>0.50915</td>\n",
       "      <td>3.047619</td>\n",
       "      <td>&lt;span style=\"font-size: 20px; line-height: 30p...</td>\n",
       "    </tr>\n",
       "    <tr>\n",
       "      <th>7221</th>\n",
       "      <td>8411b267</td>\n",
       "      <td>977</td>\n",
       "      <td>0.04</td>\n",
       "      <td>0.06</td>\n",
       "      <td>Saved</td>\n",
       "      <td>18</td>\n",
       "      <td>Right Foot</td>\n",
       "      <td>None</td>\n",
       "      <td>84899.0</td>\n",
       "      <td>Pass (Live)</td>\n",
       "      <td>84899.0</td>\n",
       "      <td>Take-On</td>\n",
       "      <td>d7a486cd</td>\n",
       "      <td>2</td>\n",
       "      <td>626.0</td>\n",
       "      <td>91.350</td>\n",
       "      <td>102.795</td>\n",
       "      <td>48.620</td>\n",
       "      <td>36.652</td>\n",
       "      <td>114169</td>\n",
       "      <td>0</td>\n",
       "      <td>Nantes</td>\n",
       "      <td>34</td>\n",
       "      <td>FRA-Ligue 1</td>\n",
       "      <td>2223</td>\n",
       "      <td>Ligue 1</td>\n",
       "      <td>c0d3eab4</td>\n",
       "      <td>Strasbourg</td>\n",
       "      <td>Florent Mollet</td>\n",
       "      <td>0.761250</td>\n",
       "      <td>0.60775</td>\n",
       "      <td>2.142857</td>\n",
       "      <td>&lt;span style=\"font-size: 20px; line-height: 30p...</td>\n",
       "    </tr>\n",
       "    <tr>\n",
       "      <th>7222</th>\n",
       "      <td>8411b267</td>\n",
       "      <td>397</td>\n",
       "      <td>0.14</td>\n",
       "      <td>NaN</td>\n",
       "      <td>Blocked</td>\n",
       "      <td>7</td>\n",
       "      <td>Head</td>\n",
       "      <td>None</td>\n",
       "      <td>411087.0</td>\n",
       "      <td>Pass (Live)</td>\n",
       "      <td>84899.0</td>\n",
       "      <td>Pass (Live)</td>\n",
       "      <td>d7a486cd</td>\n",
       "      <td>1</td>\n",
       "      <td>1137.0</td>\n",
       "      <td>98.385</td>\n",
       "      <td>98.280</td>\n",
       "      <td>35.768</td>\n",
       "      <td>35.224</td>\n",
       "      <td>409837</td>\n",
       "      <td>0</td>\n",
       "      <td>Nantes</td>\n",
       "      <td>34</td>\n",
       "      <td>FRA-Ligue 1</td>\n",
       "      <td>2223</td>\n",
       "      <td>Ligue 1</td>\n",
       "      <td>c0d3eab4</td>\n",
       "      <td>Strasbourg</td>\n",
       "      <td>Mostafa Mohamed</td>\n",
       "      <td>0.819875</td>\n",
       "      <td>0.44710</td>\n",
       "      <td>2.619048</td>\n",
       "      <td>&lt;span style=\"font-size: 20px; line-height: 30p...</td>\n",
       "    </tr>\n",
       "    <tr>\n",
       "      <th>7261</th>\n",
       "      <td>8411b267</td>\n",
       "      <td>458</td>\n",
       "      <td>0.10</td>\n",
       "      <td>NaN</td>\n",
       "      <td>Off Target</td>\n",
       "      <td>11</td>\n",
       "      <td>Left Foot</td>\n",
       "      <td>Volley</td>\n",
       "      <td>342571.0</td>\n",
       "      <td>Pass (Live)</td>\n",
       "      <td>NaN</td>\n",
       "      <td>None</td>\n",
       "      <td>d7a486cd</td>\n",
       "      <td>1</td>\n",
       "      <td>1377.0</td>\n",
       "      <td>101.010</td>\n",
       "      <td>105.000</td>\n",
       "      <td>47.124</td>\n",
       "      <td>39.440</td>\n",
       "      <td>344645</td>\n",
       "      <td>0</td>\n",
       "      <td>Nantes</td>\n",
       "      <td>34</td>\n",
       "      <td>FRA-Ligue 1</td>\n",
       "      <td>2223</td>\n",
       "      <td>Ligue 1</td>\n",
       "      <td>c0d3eab4</td>\n",
       "      <td>Strasbourg</td>\n",
       "      <td>Ignatius Ganago</td>\n",
       "      <td>0.841750</td>\n",
       "      <td>0.58905</td>\n",
       "      <td>2.428571</td>\n",
       "      <td>&lt;span style=\"font-size: 20px; line-height: 30p...</td>\n",
       "    </tr>\n",
       "    <tr>\n",
       "      <th>7272</th>\n",
       "      <td>54a0b007</td>\n",
       "      <td>34</td>\n",
       "      <td>0.03</td>\n",
       "      <td>0.20</td>\n",
       "      <td>Saved</td>\n",
       "      <td>29</td>\n",
       "      <td>Left Foot</td>\n",
       "      <td>None</td>\n",
       "      <td>256539.0</td>\n",
       "      <td>Pass (Live)</td>\n",
       "      <td>NaN</td>\n",
       "      <td>None</td>\n",
       "      <td>d7a486cd</td>\n",
       "      <td>1</td>\n",
       "      <td>101.0</td>\n",
       "      <td>77.700</td>\n",
       "      <td>101.010</td>\n",
       "      <td>26.112</td>\n",
       "      <td>33.048</td>\n",
       "      <td>299562</td>\n",
       "      <td>0</td>\n",
       "      <td>Nantes</td>\n",
       "      <td>38</td>\n",
       "      <td>FRA-Ligue 1</td>\n",
       "      <td>2223</td>\n",
       "      <td>Ligue 1</td>\n",
       "      <td>69236f98</td>\n",
       "      <td>Angers</td>\n",
       "      <td>Ludovic Blas</td>\n",
       "      <td>0.647500</td>\n",
       "      <td>0.32640</td>\n",
       "      <td>2.095238</td>\n",
       "      <td>&lt;span style=\"font-size: 20px; line-height: 30p...</td>\n",
       "    </tr>\n",
       "    <tr>\n",
       "      <th>7294</th>\n",
       "      <td>54a0b007</td>\n",
       "      <td>741</td>\n",
       "      <td>0.03</td>\n",
       "      <td>0.03</td>\n",
       "      <td>Saved</td>\n",
       "      <td>30</td>\n",
       "      <td>Left Foot</td>\n",
       "      <td>None</td>\n",
       "      <td>256539.0</td>\n",
       "      <td>Pass (Live)</td>\n",
       "      <td>300590.0</td>\n",
       "      <td>Pass (Live)</td>\n",
       "      <td>d7a486cd</td>\n",
       "      <td>1</td>\n",
       "      <td>2730.0</td>\n",
       "      <td>77.700</td>\n",
       "      <td>100.905</td>\n",
       "      <td>29.172</td>\n",
       "      <td>33.388</td>\n",
       "      <td>299562</td>\n",
       "      <td>0</td>\n",
       "      <td>Nantes</td>\n",
       "      <td>38</td>\n",
       "      <td>FRA-Ligue 1</td>\n",
       "      <td>2223</td>\n",
       "      <td>Ligue 1</td>\n",
       "      <td>69236f98</td>\n",
       "      <td>Angers</td>\n",
       "      <td>Ludovic Blas</td>\n",
       "      <td>0.647500</td>\n",
       "      <td>0.36465</td>\n",
       "      <td>2.095238</td>\n",
       "      <td>&lt;span style=\"font-size: 20px; line-height: 30p...</td>\n",
       "    </tr>\n",
       "    <tr>\n",
       "      <th>7309</th>\n",
       "      <td>8411b267</td>\n",
       "      <td>879</td>\n",
       "      <td>0.05</td>\n",
       "      <td>0.18</td>\n",
       "      <td>Saved</td>\n",
       "      <td>31</td>\n",
       "      <td>Right Foot</td>\n",
       "      <td>Free kick</td>\n",
       "      <td>344645.0</td>\n",
       "      <td>Fouled</td>\n",
       "      <td>409837.0</td>\n",
       "      <td>Pass (Live)</td>\n",
       "      <td>d7a486cd</td>\n",
       "      <td>2</td>\n",
       "      <td>194.0</td>\n",
       "      <td>76.545</td>\n",
       "      <td>103.215</td>\n",
       "      <td>31.348</td>\n",
       "      <td>34.884</td>\n",
       "      <td>114169</td>\n",
       "      <td>0</td>\n",
       "      <td>Nantes</td>\n",
       "      <td>34</td>\n",
       "      <td>FRA-Ligue 1</td>\n",
       "      <td>2223</td>\n",
       "      <td>Ligue 1</td>\n",
       "      <td>c0d3eab4</td>\n",
       "      <td>Strasbourg</td>\n",
       "      <td>Florent Mollet</td>\n",
       "      <td>0.637875</td>\n",
       "      <td>0.39185</td>\n",
       "      <td>2.190476</td>\n",
       "      <td>&lt;span style=\"font-size: 20px; line-height: 30p...</td>\n",
       "    </tr>\n",
       "    <tr>\n",
       "      <th>7343</th>\n",
       "      <td>8411b267</td>\n",
       "      <td>13</td>\n",
       "      <td>0.07</td>\n",
       "      <td>0.62</td>\n",
       "      <td>Saved</td>\n",
       "      <td>13</td>\n",
       "      <td>Right Foot</td>\n",
       "      <td>None</td>\n",
       "      <td>344645.0</td>\n",
       "      <td>Pass (Live)</td>\n",
       "      <td>239806.0</td>\n",
       "      <td>Pass (Live)</td>\n",
       "      <td>d7a486cd</td>\n",
       "      <td>1</td>\n",
       "      <td>16.0</td>\n",
       "      <td>93.240</td>\n",
       "      <td>94.290</td>\n",
       "      <td>26.112</td>\n",
       "      <td>26.860</td>\n",
       "      <td>409837</td>\n",
       "      <td>0</td>\n",
       "      <td>Nantes</td>\n",
       "      <td>34</td>\n",
       "      <td>FRA-Ligue 1</td>\n",
       "      <td>2223</td>\n",
       "      <td>Ligue 1</td>\n",
       "      <td>c0d3eab4</td>\n",
       "      <td>Strasbourg</td>\n",
       "      <td>Mostafa Mohamed</td>\n",
       "      <td>0.777000</td>\n",
       "      <td>0.32640</td>\n",
       "      <td>2.285714</td>\n",
       "      <td>&lt;span style=\"font-size: 20px; line-height: 30p...</td>\n",
       "    </tr>\n",
       "    <tr>\n",
       "      <th>7461</th>\n",
       "      <td>52ee44a2</td>\n",
       "      <td>383</td>\n",
       "      <td>0.10</td>\n",
       "      <td>NaN</td>\n",
       "      <td>Off Target</td>\n",
       "      <td>10</td>\n",
       "      <td>Left Foot</td>\n",
       "      <td>None</td>\n",
       "      <td>239806.0</td>\n",
       "      <td>Pass (Live)</td>\n",
       "      <td>342571.0</td>\n",
       "      <td>Pass (Live)</td>\n",
       "      <td>d7a486cd</td>\n",
       "      <td>1</td>\n",
       "      <td>873.0</td>\n",
       "      <td>96.075</td>\n",
       "      <td>105.000</td>\n",
       "      <td>38.828</td>\n",
       "      <td>40.664</td>\n",
       "      <td>299562</td>\n",
       "      <td>0</td>\n",
       "      <td>Nantes</td>\n",
       "      <td>35</td>\n",
       "      <td>FRA-Ligue 1</td>\n",
       "      <td>2223</td>\n",
       "      <td>Ligue 1</td>\n",
       "      <td>3f8c4b5f</td>\n",
       "      <td>Toulouse</td>\n",
       "      <td>Ludovic Blas</td>\n",
       "      <td>0.800625</td>\n",
       "      <td>0.48535</td>\n",
       "      <td>2.428571</td>\n",
       "      <td>&lt;span style=\"font-size: 20px; line-height: 30p...</td>\n",
       "    </tr>\n",
       "    <tr>\n",
       "      <th>7479</th>\n",
       "      <td>52ee44a2</td>\n",
       "      <td>956</td>\n",
       "      <td>0.05</td>\n",
       "      <td>NaN</td>\n",
       "      <td>Off Target</td>\n",
       "      <td>21</td>\n",
       "      <td>Left Foot</td>\n",
       "      <td>None</td>\n",
       "      <td>411087.0</td>\n",
       "      <td>Pass (Live)</td>\n",
       "      <td>299562.0</td>\n",
       "      <td>Shot</td>\n",
       "      <td>d7a486cd</td>\n",
       "      <td>1</td>\n",
       "      <td>2632.0</td>\n",
       "      <td>85.470</td>\n",
       "      <td>105.000</td>\n",
       "      <td>40.052</td>\n",
       "      <td>27.064</td>\n",
       "      <td>299562</td>\n",
       "      <td>0</td>\n",
       "      <td>Nantes</td>\n",
       "      <td>35</td>\n",
       "      <td>FRA-Ligue 1</td>\n",
       "      <td>2223</td>\n",
       "      <td>Ligue 1</td>\n",
       "      <td>3f8c4b5f</td>\n",
       "      <td>Toulouse</td>\n",
       "      <td>Ludovic Blas</td>\n",
       "      <td>0.712250</td>\n",
       "      <td>0.50065</td>\n",
       "      <td>2.190476</td>\n",
       "      <td>&lt;span style=\"font-size: 20px; line-height: 30p...</td>\n",
       "    </tr>\n",
       "    <tr>\n",
       "      <th>7486</th>\n",
       "      <td>1ed26dbe</td>\n",
       "      <td>1142</td>\n",
       "      <td>0.05</td>\n",
       "      <td>NaN</td>\n",
       "      <td>Off Target</td>\n",
       "      <td>18</td>\n",
       "      <td>Right Foot</td>\n",
       "      <td>Volley</td>\n",
       "      <td>202185.0</td>\n",
       "      <td>Pass (Live)</td>\n",
       "      <td>411087.0</td>\n",
       "      <td>Pass (Live)</td>\n",
       "      <td>d7a486cd</td>\n",
       "      <td>2</td>\n",
       "      <td>567.0</td>\n",
       "      <td>89.670</td>\n",
       "      <td>105.000</td>\n",
       "      <td>21.284</td>\n",
       "      <td>27.676</td>\n",
       "      <td>294496</td>\n",
       "      <td>0</td>\n",
       "      <td>Nantes</td>\n",
       "      <td>36</td>\n",
       "      <td>FRA-Ligue 1</td>\n",
       "      <td>2223</td>\n",
       "      <td>Ligue 1</td>\n",
       "      <td>281b0e73</td>\n",
       "      <td>Montpellier</td>\n",
       "      <td>Fabien Centonze</td>\n",
       "      <td>0.747250</td>\n",
       "      <td>0.26605</td>\n",
       "      <td>2.190476</td>\n",
       "      <td>&lt;span style=\"font-size: 20px; line-height: 30p...</td>\n",
       "    </tr>\n",
       "    <tr>\n",
       "      <th>7504</th>\n",
       "      <td>1b4970df</td>\n",
       "      <td>321</td>\n",
       "      <td>0.25</td>\n",
       "      <td>0.49</td>\n",
       "      <td>Goal</td>\n",
       "      <td>15</td>\n",
       "      <td>Left Foot</td>\n",
       "      <td>None</td>\n",
       "      <td>302695.0</td>\n",
       "      <td>Pass (Live)</td>\n",
       "      <td>342571.0</td>\n",
       "      <td>Pass (Live)</td>\n",
       "      <td>d7a486cd</td>\n",
       "      <td>1</td>\n",
       "      <td>1020.0</td>\n",
       "      <td>92.295</td>\n",
       "      <td>105.000</td>\n",
       "      <td>44.472</td>\n",
       "      <td>36.176</td>\n",
       "      <td>411087</td>\n",
       "      <td>1</td>\n",
       "      <td>Nantes</td>\n",
       "      <td>37</td>\n",
       "      <td>FRA-Ligue 1</td>\n",
       "      <td>2223</td>\n",
       "      <td>Ligue 1</td>\n",
       "      <td>cb188c0c</td>\n",
       "      <td>Lille</td>\n",
       "      <td>Quentin Merlin</td>\n",
       "      <td>0.769125</td>\n",
       "      <td>0.55590</td>\n",
       "      <td>3.142857</td>\n",
       "      <td>&lt;span style=\"font-size: 20px; line-height: 30p...</td>\n",
       "    </tr>\n",
       "  </tbody>\n",
       "</table>\n",
       "</div>"
      ],
      "text/plain": [
       "      MATCH_ID  ACTION_ID    XG  PSXG           OUTCOME  DISTANCE   BODY_PART  \\\n",
       "6341  1b4970df       1678  0.12  0.20             Saved        16  Right Foot   \n",
       "6351  8411b267        584  0.09   NaN        Off Target        18  Right Foot   \n",
       "6357  54a0b007        262  0.64  0.75              Goal         7  Right Foot   \n",
       "6368  1ed26dbe       1313  0.11   NaN        Off Target         4   Left Foot   \n",
       "6391  52ee44a2        508  0.18   NaN          Woodwork        13   Left Foot   \n",
       "6397  52ee44a2        953  0.01   NaN           Blocked        33   Left Foot   \n",
       "6425  8411b267        737  0.04   NaN           Blocked         8        Head   \n",
       "6429  52ee44a2       2049  0.15   NaN        Off Target         6        Head   \n",
       "6451  54a0b007          3  0.03   NaN        Off Target        21  Right Foot   \n",
       "6463  1ed26dbe       1545  0.04   NaN  Saved off Target        12  Right Foot   \n",
       "6473  54a0b007       1234  0.06   NaN        Off Target        13        Head   \n",
       "6499  54a0b007       1423  0.01  0.46             Saved        58   Left Foot   \n",
       "6508  1ed26dbe       1240  0.03   NaN           Blocked        26   Left Foot   \n",
       "6567  8411b267       1042  0.02  0.18             Saved        16        Head   \n",
       "6579  8411b267        400  0.09   NaN        Off Target        14  Right Foot   \n",
       "6591  1ed26dbe        236  0.08  0.25             Saved        16   Left Foot   \n",
       "6593  1ed26dbe        645  0.14   NaN        Off Target         5        Head   \n",
       "6618  8411b267       1401  0.04   NaN        Off Target        20   Left Foot   \n",
       "6624  8411b267       1462  0.05   NaN        Off Target        14        Head   \n",
       "6675  1ed26dbe       1695  0.04   NaN        Off Target        22  Right Foot   \n",
       "6682  54a0b007        495  0.05  0.26             Saved        16   Left Foot   \n",
       "6700  1b4970df       1151  0.09   NaN        Off Target        20   Left Foot   \n",
       "6726  1ed26dbe       1677  0.02   NaN           Blocked        19  Right Foot   \n",
       "6747  1ed26dbe       1522  0.02   NaN           Blocked        18   Left Foot   \n",
       "6812  8411b267         15  0.04   NaN           Blocked        18  Right Foot   \n",
       "6830  1b4970df       1682  0.10   NaN           Blocked         8  Right Foot   \n",
       "6850  1ed26dbe       1397  0.06   NaN        Off Target        12  Right Foot   \n",
       "6871  1ed26dbe         78  0.19  0.53             Saved        12   Left Foot   \n",
       "6887  1b4970df       1130  0.07   NaN           Blocked        15   Left Foot   \n",
       "6899  1ed26dbe       1411  0.08   NaN           Blocked        19   Left Foot   \n",
       "6920  54a0b007        143  0.13   NaN        Off Target        11  Right Foot   \n",
       "6926  1b4970df        843  0.33  0.46             Saved        13  Right Foot   \n",
       "6939  8411b267        469  0.06  0.02             Saved        10        Head   \n",
       "7049  1b4970df        429  0.08   NaN        Off Target        18  Right Foot   \n",
       "7066  54a0b007        795  0.04  0.05             Saved        31   Left Foot   \n",
       "7109  52ee44a2         46  0.28   NaN           Blocked        13  Right Foot   \n",
       "7123  54a0b007       1335  0.04  0.08             Saved        32  Right Foot   \n",
       "7144  52ee44a2       1636  0.05   NaN           Blocked        22  Right Foot   \n",
       "7156  54a0b007        692  0.06   NaN           Blocked        14   Left Foot   \n",
       "7185  1b4970df       1685  0.02   NaN        Off Target        29   Left Foot   \n",
       "7204  1ed26dbe        376  0.06  0.07             Saved        19   Left Foot   \n",
       "7217  52ee44a2         44  0.23  0.11             Saved        16   Left Foot   \n",
       "7221  8411b267        977  0.04  0.06             Saved        18  Right Foot   \n",
       "7222  8411b267        397  0.14   NaN           Blocked         7        Head   \n",
       "7261  8411b267        458  0.10   NaN        Off Target        11   Left Foot   \n",
       "7272  54a0b007         34  0.03  0.20             Saved        29   Left Foot   \n",
       "7294  54a0b007        741  0.03  0.03             Saved        30   Left Foot   \n",
       "7309  8411b267        879  0.05  0.18             Saved        31  Right Foot   \n",
       "7343  8411b267         13  0.07  0.62             Saved        13  Right Foot   \n",
       "7461  52ee44a2        383  0.10   NaN        Off Target        10   Left Foot   \n",
       "7479  52ee44a2        956  0.05   NaN        Off Target        21   Left Foot   \n",
       "7486  1ed26dbe       1142  0.05   NaN        Off Target        18  Right Foot   \n",
       "7504  1b4970df        321  0.25  0.49              Goal        15   Left Foot   \n",
       "\n",
       "                  NOTES  SCA_1_PLAYER_WS_ID SCA_1_PLAYER_FBREF_EVENT  \\\n",
       "6341               None            476406.0              Pass (Live)   \n",
       "6351               None            411087.0              Pass (Live)   \n",
       "6357               None            299562.0                  Take-On   \n",
       "6368             Volley            279380.0              Pass (Live)   \n",
       "6391               None            114169.0              Pass (Live)   \n",
       "6397               None            256539.0                  Take-On   \n",
       "6425               None            299562.0              Pass (Dead)   \n",
       "6429               None            299562.0              Pass (Dead)   \n",
       "6451             Volley                 NaN                     None   \n",
       "6463               None            294496.0              Pass (Live)   \n",
       "6473               None            373848.0              Pass (Live)   \n",
       "6499               None                 NaN                     None   \n",
       "6508               None            114169.0              Pass (Live)   \n",
       "6567               None            114169.0              Pass (Dead)   \n",
       "6579             Volley            409837.0                     Shot   \n",
       "6591             Volley             84899.0              Pass (Live)   \n",
       "6593               None            114169.0              Pass (Dead)   \n",
       "6618             Volley            202185.0              Pass (Live)   \n",
       "6624               None            239806.0              Pass (Live)   \n",
       "6675               None            114169.0                   Fouled   \n",
       "6682               None            297409.0              Pass (Live)   \n",
       "6700               None            299562.0                  Take-On   \n",
       "6726               None                 NaN                     None   \n",
       "6747               None            299562.0                  Take-On   \n",
       "6812               None            409837.0                     Shot   \n",
       "6830               None            114169.0              Pass (Dead)   \n",
       "6850               None            476406.0              Pass (Live)   \n",
       "6871               None            411087.0              Pass (Live)   \n",
       "6887               None            411087.0              Pass (Live)   \n",
       "6899               None            299562.0              Pass (Live)   \n",
       "6920             Volley            373848.0              Pass (Live)   \n",
       "6926               None            411087.0              Pass (Live)   \n",
       "6939               None            299562.0              Pass (Dead)   \n",
       "7049               None            299562.0              Pass (Live)   \n",
       "7066          Free kick            297409.0              Pass (Dead)   \n",
       "7109             Volley            202185.0                     Shot   \n",
       "7123          Free kick            202185.0                   Fouled   \n",
       "7144               None            202185.0              Pass (Live)   \n",
       "7156               None            373848.0              Pass (Live)   \n",
       "7185               None            373848.0                     Shot   \n",
       "7204  Deflected, Volley            411087.0              Pass (Live)   \n",
       "7217               None            202185.0                  Take-On   \n",
       "7221               None             84899.0              Pass (Live)   \n",
       "7222               None            411087.0              Pass (Live)   \n",
       "7261             Volley            342571.0              Pass (Live)   \n",
       "7272               None            256539.0              Pass (Live)   \n",
       "7294               None            256539.0              Pass (Live)   \n",
       "7309          Free kick            344645.0                   Fouled   \n",
       "7343               None            344645.0              Pass (Live)   \n",
       "7461               None            239806.0              Pass (Live)   \n",
       "7479               None            411087.0              Pass (Live)   \n",
       "7486             Volley            202185.0              Pass (Live)   \n",
       "7504               None            302695.0              Pass (Live)   \n",
       "\n",
       "      SCA_2_PLAYER_WS_ID SCA_2_PLAYER_FBREF_EVENT TEAM_FBREF_ID  PERIOD_ID  \\\n",
       "6341            476406.0                  Take-On      d7a486cd          2   \n",
       "6351            411087.0                  Take-On      d7a486cd          1   \n",
       "6357            299562.0                  Take-On      d7a486cd          1   \n",
       "6368            114169.0              Pass (Live)      d7a486cd          2   \n",
       "6391            256539.0              Pass (Live)      d7a486cd          1   \n",
       "6397            256539.0                  Take-On      d7a486cd          1   \n",
       "6425                 NaN                     None      d7a486cd          1   \n",
       "6429             29595.0              Pass (Live)      d7a486cd          2   \n",
       "6451                 NaN                     None      d7a486cd          1   \n",
       "6463            342571.0              Pass (Live)      d7a486cd          2   \n",
       "6473            342571.0              Pass (Live)      d7a486cd          2   \n",
       "6499                 NaN                     None      d7a486cd          2   \n",
       "6508                 NaN                     None      d7a486cd          2   \n",
       "6567            344645.0                   Fouled      d7a486cd          2   \n",
       "6579                 NaN                     None      d7a486cd          1   \n",
       "6591                 NaN                     None      d7a486cd          1   \n",
       "6593            114169.0              Pass (Live)      d7a486cd          1   \n",
       "6618            256539.0              Pass (Live)      d7a486cd          2   \n",
       "6624            202185.0              Pass (Live)      d7a486cd          2   \n",
       "6675            114169.0              Pass (Live)      d7a486cd          2   \n",
       "6682            373848.0              Pass (Live)      d7a486cd          1   \n",
       "6700            342571.0              Pass (Live)      d7a486cd          2   \n",
       "6726                 NaN                     None      d7a486cd          2   \n",
       "6747            299562.0              Pass (Live)      d7a486cd          2   \n",
       "6812                 NaN                     None      d7a486cd          1   \n",
       "6830            202185.0                     Shot      d7a486cd          2   \n",
       "6850            239806.0              Pass (Live)      d7a486cd          2   \n",
       "6871             84899.0              Pass (Live)      d7a486cd          1   \n",
       "6887            256539.0              Pass (Live)      d7a486cd          2   \n",
       "6899            294496.0              Pass (Live)      d7a486cd          2   \n",
       "6920            342571.0              Pass (Live)      d7a486cd          1   \n",
       "6926            256539.0              Pass (Live)      d7a486cd          1   \n",
       "6939            344645.0              Pass (Live)      d7a486cd          1   \n",
       "7049            411087.0              Pass (Live)      d7a486cd          1   \n",
       "7066            344645.0                   Fouled      d7a486cd          2   \n",
       "7109                 NaN                     None      d7a486cd          1   \n",
       "7123                 NaN                     None      d7a486cd          2   \n",
       "7144            299562.0              Pass (Live)      d7a486cd          2   \n",
       "7156            373848.0                   Tackle      d7a486cd          1   \n",
       "7185                 NaN                     None      d7a486cd          2   \n",
       "7204            202185.0              Pass (Live)      d7a486cd          1   \n",
       "7217                 NaN                     None      d7a486cd          1   \n",
       "7221             84899.0                  Take-On      d7a486cd          2   \n",
       "7222             84899.0              Pass (Live)      d7a486cd          1   \n",
       "7261                 NaN                     None      d7a486cd          1   \n",
       "7272                 NaN                     None      d7a486cd          1   \n",
       "7294            300590.0              Pass (Live)      d7a486cd          1   \n",
       "7309            409837.0              Pass (Live)      d7a486cd          2   \n",
       "7343            239806.0              Pass (Live)      d7a486cd          1   \n",
       "7461            342571.0              Pass (Live)      d7a486cd          1   \n",
       "7479            299562.0                     Shot      d7a486cd          1   \n",
       "7486            411087.0              Pass (Live)      d7a486cd          2   \n",
       "7504            342571.0              Pass (Live)      d7a486cd          1   \n",
       "\n",
       "      NEW_TIME_SECONDS  START_X    END_X  START_Y   END_Y  PLAYER_WS_ID  \\\n",
       "6341            3022.0   90.510  103.215   28.152  31.416        202185   \n",
       "6351            1871.0   88.200  105.000   25.092  30.872        294496   \n",
       "6357             902.0   98.700  105.000   32.980  33.388        344645   \n",
       "6368            1116.0  102.585  105.000   27.812  33.048        299562   \n",
       "6391            1278.0   93.135  105.000   38.760  34.748        342571   \n",
       "6397            2627.0   74.655   76.545   25.228  27.336        299562   \n",
       "6425            2361.0   98.805  101.745   41.616  39.304        279380   \n",
       "6429            2876.0   99.225  105.000   31.960  37.128        279380   \n",
       "6451               7.0   87.780   16.170   18.768  47.056        344645   \n",
       "6463            1830.0  101.640  103.740   19.788  32.164        299562   \n",
       "6473            1793.0   93.135  105.000   31.960  35.564        299562   \n",
       "6499            2681.0   51.870   88.935   52.020  38.760        438657   \n",
       "6508             920.0   80.850   80.010   31.892  34.884        476406   \n",
       "6567             901.0   90.090  102.900   35.020  34.340        344645   \n",
       "6579            1139.0   92.190  105.000   35.836  34.272        409837   \n",
       "6591             662.0   90.510  102.375   31.688  33.320        342571   \n",
       "6593            1835.0  100.590  105.000   39.100  39.916        279380   \n",
       "6618            2229.0   86.520  105.000   36.380  39.100        279380   \n",
       "6624            2440.0   92.190  105.000   29.988  48.144        114169   \n",
       "6675            2490.0   84.735  105.000   40.256  40.324        279380   \n",
       "6682            1686.0   91.350  101.850   21.556  31.552        299562   \n",
       "6700             756.0   86.520  105.000   33.932  41.140        299562   \n",
       "6726            2400.0   94.710   94.605   52.088  50.592        202185   \n",
       "6747            1785.0   90.090   92.820   20.740  23.664        299562   \n",
       "6812              18.0   89.880   92.925   22.236  24.820        299562   \n",
       "6830            3052.0   97.650   98.385   29.444  31.416        373848   \n",
       "6850            1356.0   95.760  105.000   23.324  53.856        202185   \n",
       "6871             270.0   98.070  103.215   46.308  38.420        299562   \n",
       "6887             689.0   90.930   94.395   38.012  35.496        299562   \n",
       "6899            1450.0   87.360   91.245   31.552  33.388        114169   \n",
       "6920             427.0   94.710  105.000   31.076  29.716        256539   \n",
       "6926            2656.0   93.240  102.480   34.000  35.564        344645   \n",
       "6939            1442.0   95.760  103.845   34.476  34.612        279380   \n",
       "7049            1335.0   88.410  105.000   41.276  28.424        344645   \n",
       "7066             131.0   76.335  103.425   26.928  34.068        299562   \n",
       "7109              72.0   93.135   98.280   32.300  32.912        299562   \n",
       "7123            2436.0   78.645  102.690   54.876  34.272        114169   \n",
       "7144            1537.0   84.105   84.735   32.980  32.640        382587   \n",
       "7156            2521.0   92.085   96.495   24.752  27.132        342571   \n",
       "7185            3058.0   78.540  105.000   36.584  32.776        476406   \n",
       "7204            1133.0   87.150  102.480   40.868  35.564        299562   \n",
       "7217              70.0   90.300  101.115   40.732  36.108        202185   \n",
       "7221             626.0   91.350  102.795   48.620  36.652        114169   \n",
       "7222            1137.0   98.385   98.280   35.768  35.224        409837   \n",
       "7261            1377.0  101.010  105.000   47.124  39.440        344645   \n",
       "7272             101.0   77.700  101.010   26.112  33.048        299562   \n",
       "7294            2730.0   77.700  100.905   29.172  33.388        299562   \n",
       "7309             194.0   76.545  103.215   31.348  34.884        114169   \n",
       "7343              16.0   93.240   94.290   26.112  26.860        409837   \n",
       "7461             873.0   96.075  105.000   38.828  40.664        299562   \n",
       "7479            2632.0   85.470  105.000   40.052  27.064        299562   \n",
       "7486             567.0   89.670  105.000   21.284  27.676        294496   \n",
       "7504            1020.0   92.295  105.000   44.472  36.176        411087   \n",
       "\n",
       "      RESULT_ID TEAM_NAME  GAMEWEEK  COMPETITION  SEASON COMPETITION_ACRONYM  \\\n",
       "6341          0    Nantes        37  FRA-Ligue 1    2223             Ligue 1   \n",
       "6351          0    Nantes        34  FRA-Ligue 1    2223             Ligue 1   \n",
       "6357          1    Nantes        38  FRA-Ligue 1    2223             Ligue 1   \n",
       "6368          0    Nantes        36  FRA-Ligue 1    2223             Ligue 1   \n",
       "6391          0    Nantes        35  FRA-Ligue 1    2223             Ligue 1   \n",
       "6397          0    Nantes        35  FRA-Ligue 1    2223             Ligue 1   \n",
       "6425          0    Nantes        34  FRA-Ligue 1    2223             Ligue 1   \n",
       "6429          0    Nantes        35  FRA-Ligue 1    2223             Ligue 1   \n",
       "6451          0    Nantes        38  FRA-Ligue 1    2223             Ligue 1   \n",
       "6463          0    Nantes        36  FRA-Ligue 1    2223             Ligue 1   \n",
       "6473          0    Nantes        38  FRA-Ligue 1    2223             Ligue 1   \n",
       "6499          0    Nantes        38  FRA-Ligue 1    2223             Ligue 1   \n",
       "6508          0    Nantes        36  FRA-Ligue 1    2223             Ligue 1   \n",
       "6567          0    Nantes        34  FRA-Ligue 1    2223             Ligue 1   \n",
       "6579          0    Nantes        34  FRA-Ligue 1    2223             Ligue 1   \n",
       "6591          0    Nantes        36  FRA-Ligue 1    2223             Ligue 1   \n",
       "6593          0    Nantes        36  FRA-Ligue 1    2223             Ligue 1   \n",
       "6618          0    Nantes        34  FRA-Ligue 1    2223             Ligue 1   \n",
       "6624          0    Nantes        34  FRA-Ligue 1    2223             Ligue 1   \n",
       "6675          0    Nantes        36  FRA-Ligue 1    2223             Ligue 1   \n",
       "6682          0    Nantes        38  FRA-Ligue 1    2223             Ligue 1   \n",
       "6700          0    Nantes        37  FRA-Ligue 1    2223             Ligue 1   \n",
       "6726          0    Nantes        36  FRA-Ligue 1    2223             Ligue 1   \n",
       "6747          0    Nantes        36  FRA-Ligue 1    2223             Ligue 1   \n",
       "6812          0    Nantes        34  FRA-Ligue 1    2223             Ligue 1   \n",
       "6830          0    Nantes        37  FRA-Ligue 1    2223             Ligue 1   \n",
       "6850          0    Nantes        36  FRA-Ligue 1    2223             Ligue 1   \n",
       "6871          0    Nantes        36  FRA-Ligue 1    2223             Ligue 1   \n",
       "6887          0    Nantes        37  FRA-Ligue 1    2223             Ligue 1   \n",
       "6899          0    Nantes        36  FRA-Ligue 1    2223             Ligue 1   \n",
       "6920          0    Nantes        38  FRA-Ligue 1    2223             Ligue 1   \n",
       "6926          0    Nantes        37  FRA-Ligue 1    2223             Ligue 1   \n",
       "6939          0    Nantes        34  FRA-Ligue 1    2223             Ligue 1   \n",
       "7049          0    Nantes        37  FRA-Ligue 1    2223             Ligue 1   \n",
       "7066          0    Nantes        38  FRA-Ligue 1    2223             Ligue 1   \n",
       "7109          0    Nantes        35  FRA-Ligue 1    2223             Ligue 1   \n",
       "7123          0    Nantes        38  FRA-Ligue 1    2223             Ligue 1   \n",
       "7144          0    Nantes        35  FRA-Ligue 1    2223             Ligue 1   \n",
       "7156          0    Nantes        38  FRA-Ligue 1    2223             Ligue 1   \n",
       "7185          0    Nantes        37  FRA-Ligue 1    2223             Ligue 1   \n",
       "7204          0    Nantes        36  FRA-Ligue 1    2223             Ligue 1   \n",
       "7217          0    Nantes        35  FRA-Ligue 1    2223             Ligue 1   \n",
       "7221          0    Nantes        34  FRA-Ligue 1    2223             Ligue 1   \n",
       "7222          0    Nantes        34  FRA-Ligue 1    2223             Ligue 1   \n",
       "7261          0    Nantes        34  FRA-Ligue 1    2223             Ligue 1   \n",
       "7272          0    Nantes        38  FRA-Ligue 1    2223             Ligue 1   \n",
       "7294          0    Nantes        38  FRA-Ligue 1    2223             Ligue 1   \n",
       "7309          0    Nantes        34  FRA-Ligue 1    2223             Ligue 1   \n",
       "7343          0    Nantes        34  FRA-Ligue 1    2223             Ligue 1   \n",
       "7461          0    Nantes        35  FRA-Ligue 1    2223             Ligue 1   \n",
       "7479          0    Nantes        35  FRA-Ligue 1    2223             Ligue 1   \n",
       "7486          0    Nantes        36  FRA-Ligue 1    2223             Ligue 1   \n",
       "7504          1    Nantes        37  FRA-Ligue 1    2223             Ligue 1   \n",
       "\n",
       "     OPPO_TEAM_ID OPPO_TEAM_NAME   PLAYER_FBREF_NAME  norm_start_x  \\\n",
       "6341     cb188c0c          Lille         Moses Simon      0.754250   \n",
       "6351     c0d3eab4     Strasbourg     Fabien Centonze      0.735000   \n",
       "6357     69236f98         Angers     Ignatius Ganago      0.822500   \n",
       "6368     281b0e73    Montpellier        Ludovic Blas      0.854875   \n",
       "6391     3f8c4b5f       Toulouse  Samuel Moutoussamy      0.776125   \n",
       "6397     3f8c4b5f       Toulouse        Ludovic Blas      0.622125   \n",
       "6425     c0d3eab4     Strasbourg      Andrei Girotto      0.823375   \n",
       "6429     3f8c4b5f       Toulouse      Andrei Girotto      0.826875   \n",
       "6451     69236f98         Angers     Ignatius Ganago      0.731500   \n",
       "6463     281b0e73    Montpellier        Ludovic Blas      0.847000   \n",
       "6473     69236f98         Angers        Ludovic Blas      0.776125   \n",
       "6499     69236f98         Angers       Jaouen Hadjam      0.432250   \n",
       "6508     281b0e73    Montpellier     Stredair Appuah      0.673750   \n",
       "6567     c0d3eab4     Strasbourg     Ignatius Ganago      0.750750   \n",
       "6579     c0d3eab4     Strasbourg     Mostafa Mohamed      0.768250   \n",
       "6591     281b0e73    Montpellier  Samuel Moutoussamy      0.754250   \n",
       "6593     281b0e73    Montpellier      Andrei Girotto      0.838250   \n",
       "6618     c0d3eab4     Strasbourg      Andrei Girotto      0.721000   \n",
       "6624     c0d3eab4     Strasbourg      Florent Mollet      0.768250   \n",
       "6675     281b0e73    Montpellier      Andrei Girotto      0.706125   \n",
       "6682     69236f98         Angers        Ludovic Blas      0.761250   \n",
       "6700     cb188c0c          Lille        Ludovic Blas      0.721000   \n",
       "6726     281b0e73    Montpellier         Moses Simon      0.789250   \n",
       "6747     281b0e73    Montpellier        Ludovic Blas      0.750750   \n",
       "6812     c0d3eab4     Strasbourg        Ludovic Blas      0.749000   \n",
       "6830     cb188c0c          Lille         João Victor      0.813750   \n",
       "6850     281b0e73    Montpellier         Moses Simon      0.798000   \n",
       "6871     281b0e73    Montpellier        Ludovic Blas      0.817250   \n",
       "6887     cb188c0c          Lille        Ludovic Blas      0.757750   \n",
       "6899     281b0e73    Montpellier      Florent Mollet      0.728000   \n",
       "6920     69236f98         Angers         Marcus Coco      0.789250   \n",
       "6926     cb188c0c          Lille     Ignatius Ganago      0.777000   \n",
       "6939     c0d3eab4     Strasbourg      Andrei Girotto      0.798000   \n",
       "7049     cb188c0c          Lille     Ignatius Ganago      0.736750   \n",
       "7066     69236f98         Angers        Ludovic Blas      0.636125   \n",
       "7109     3f8c4b5f       Toulouse        Ludovic Blas      0.776125   \n",
       "7123     69236f98         Angers      Florent Mollet      0.655375   \n",
       "7144     3f8c4b5f       Toulouse      Evann Guessand      0.700875   \n",
       "7156     69236f98         Angers  Samuel Moutoussamy      0.767375   \n",
       "7185     cb188c0c          Lille     Stredair Appuah      0.654500   \n",
       "7204     281b0e73    Montpellier        Ludovic Blas      0.726250   \n",
       "7217     3f8c4b5f       Toulouse         Moses Simon      0.752500   \n",
       "7221     c0d3eab4     Strasbourg      Florent Mollet      0.761250   \n",
       "7222     c0d3eab4     Strasbourg     Mostafa Mohamed      0.819875   \n",
       "7261     c0d3eab4     Strasbourg     Ignatius Ganago      0.841750   \n",
       "7272     69236f98         Angers        Ludovic Blas      0.647500   \n",
       "7294     69236f98         Angers        Ludovic Blas      0.647500   \n",
       "7309     c0d3eab4     Strasbourg      Florent Mollet      0.637875   \n",
       "7343     c0d3eab4     Strasbourg     Mostafa Mohamed      0.777000   \n",
       "7461     3f8c4b5f       Toulouse        Ludovic Blas      0.800625   \n",
       "7479     3f8c4b5f       Toulouse        Ludovic Blas      0.712250   \n",
       "7486     281b0e73    Montpellier     Fabien Centonze      0.747250   \n",
       "7504     cb188c0c          Lille      Quentin Merlin      0.769125   \n",
       "\n",
       "      norm_start_y   xG_size  \\\n",
       "6341       0.35190  2.523810   \n",
       "6351       0.31365  2.380952   \n",
       "6357       0.41225  5.000000   \n",
       "6368       0.34765  2.476190   \n",
       "6391       0.48450  2.809524   \n",
       "6397       0.31535  2.000000   \n",
       "6425       0.52020  2.142857   \n",
       "6429       0.39950  2.666667   \n",
       "6451       0.23460  2.095238   \n",
       "6463       0.24735  2.142857   \n",
       "6473       0.39950  2.238095   \n",
       "6499       0.65025  2.000000   \n",
       "6508       0.39865  2.095238   \n",
       "6567       0.43775  2.047619   \n",
       "6579       0.44795  2.380952   \n",
       "6591       0.39610  2.333333   \n",
       "6593       0.48875  2.619048   \n",
       "6618       0.45475  2.142857   \n",
       "6624       0.37485  2.190476   \n",
       "6675       0.50320  2.142857   \n",
       "6682       0.26945  2.190476   \n",
       "6700       0.42415  2.380952   \n",
       "6726       0.65110  2.047619   \n",
       "6747       0.25925  2.047619   \n",
       "6812       0.27795  2.142857   \n",
       "6830       0.36805  2.428571   \n",
       "6850       0.29155  2.238095   \n",
       "6871       0.57885  2.857143   \n",
       "6887       0.47515  2.285714   \n",
       "6899       0.39440  2.333333   \n",
       "6920       0.38845  2.571429   \n",
       "6926       0.42500  3.523810   \n",
       "6939       0.43095  2.238095   \n",
       "7049       0.51595  2.333333   \n",
       "7066       0.33660  2.142857   \n",
       "7109       0.40375  3.285714   \n",
       "7123       0.68595  2.142857   \n",
       "7144       0.41225  2.190476   \n",
       "7156       0.30940  2.238095   \n",
       "7185       0.45730  2.047619   \n",
       "7204       0.51085  2.238095   \n",
       "7217       0.50915  3.047619   \n",
       "7221       0.60775  2.142857   \n",
       "7222       0.44710  2.619048   \n",
       "7261       0.58905  2.428571   \n",
       "7272       0.32640  2.095238   \n",
       "7294       0.36465  2.095238   \n",
       "7309       0.39185  2.190476   \n",
       "7343       0.32640  2.285714   \n",
       "7461       0.48535  2.428571   \n",
       "7479       0.50065  2.190476   \n",
       "7486       0.26605  2.190476   \n",
       "7504       0.55590  3.142857   \n",
       "\n",
       "                                             hover_text  \n",
       "6341  <span style=\"font-size: 20px; line-height: 30p...  \n",
       "6351  <span style=\"font-size: 20px; line-height: 30p...  \n",
       "6357  <span style=\"font-size: 20px; line-height: 30p...  \n",
       "6368  <span style=\"font-size: 20px; line-height: 30p...  \n",
       "6391  <span style=\"font-size: 20px; line-height: 30p...  \n",
       "6397  <span style=\"font-size: 20px; line-height: 30p...  \n",
       "6425  <span style=\"font-size: 20px; line-height: 30p...  \n",
       "6429  <span style=\"font-size: 20px; line-height: 30p...  \n",
       "6451  <span style=\"font-size: 20px; line-height: 30p...  \n",
       "6463  <span style=\"font-size: 20px; line-height: 30p...  \n",
       "6473  <span style=\"font-size: 20px; line-height: 30p...  \n",
       "6499  <span style=\"font-size: 20px; line-height: 30p...  \n",
       "6508  <span style=\"font-size: 20px; line-height: 30p...  \n",
       "6567  <span style=\"font-size: 20px; line-height: 30p...  \n",
       "6579  <span style=\"font-size: 20px; line-height: 30p...  \n",
       "6591  <span style=\"font-size: 20px; line-height: 30p...  \n",
       "6593  <span style=\"font-size: 20px; line-height: 30p...  \n",
       "6618  <span style=\"font-size: 20px; line-height: 30p...  \n",
       "6624  <span style=\"font-size: 20px; line-height: 30p...  \n",
       "6675  <span style=\"font-size: 20px; line-height: 30p...  \n",
       "6682  <span style=\"font-size: 20px; line-height: 30p...  \n",
       "6700  <span style=\"font-size: 20px; line-height: 30p...  \n",
       "6726  <span style=\"font-size: 20px; line-height: 30p...  \n",
       "6747  <span style=\"font-size: 20px; line-height: 30p...  \n",
       "6812  <span style=\"font-size: 20px; line-height: 30p...  \n",
       "6830  <span style=\"font-size: 20px; line-height: 30p...  \n",
       "6850  <span style=\"font-size: 20px; line-height: 30p...  \n",
       "6871  <span style=\"font-size: 20px; line-height: 30p...  \n",
       "6887  <span style=\"font-size: 20px; line-height: 30p...  \n",
       "6899  <span style=\"font-size: 20px; line-height: 30p...  \n",
       "6920  <span style=\"font-size: 20px; line-height: 30p...  \n",
       "6926  <span style=\"font-size: 20px; line-height: 30p...  \n",
       "6939  <span style=\"font-size: 20px; line-height: 30p...  \n",
       "7049  <span style=\"font-size: 20px; line-height: 30p...  \n",
       "7066  <span style=\"font-size: 20px; line-height: 30p...  \n",
       "7109  <span style=\"font-size: 20px; line-height: 30p...  \n",
       "7123  <span style=\"font-size: 20px; line-height: 30p...  \n",
       "7144  <span style=\"font-size: 20px; line-height: 30p...  \n",
       "7156  <span style=\"font-size: 20px; line-height: 30p...  \n",
       "7185  <span style=\"font-size: 20px; line-height: 30p...  \n",
       "7204  <span style=\"font-size: 20px; line-height: 30p...  \n",
       "7217  <span style=\"font-size: 20px; line-height: 30p...  \n",
       "7221  <span style=\"font-size: 20px; line-height: 30p...  \n",
       "7222  <span style=\"font-size: 20px; line-height: 30p...  \n",
       "7261  <span style=\"font-size: 20px; line-height: 30p...  \n",
       "7272  <span style=\"font-size: 20px; line-height: 30p...  \n",
       "7294  <span style=\"font-size: 20px; line-height: 30p...  \n",
       "7309  <span style=\"font-size: 20px; line-height: 30p...  \n",
       "7343  <span style=\"font-size: 20px; line-height: 30p...  \n",
       "7461  <span style=\"font-size: 20px; line-height: 30p...  \n",
       "7479  <span style=\"font-size: 20px; line-height: 30p...  \n",
       "7486  <span style=\"font-size: 20px; line-height: 30p...  \n",
       "7504  <span style=\"font-size: 20px; line-height: 30p...  "
      ]
     },
     "execution_count": 259,
     "metadata": {},
     "output_type": "execute_result"
    }
   ],
   "source": [
    "df_shots_last_5_matches"
   ]
  },
  {
   "cell_type": "code",
   "execution_count": null,
   "metadata": {},
   "outputs": [],
   "source": []
  },
  {
   "cell_type": "code",
   "execution_count": null,
   "metadata": {},
   "outputs": [],
   "source": []
  },
  {
   "cell_type": "code",
   "execution_count": null,
   "metadata": {},
   "outputs": [],
   "source": []
  },
  {
   "cell_type": "code",
   "execution_count": null,
   "metadata": {},
   "outputs": [],
   "source": []
  },
  {
   "cell_type": "code",
   "execution_count": 150,
   "metadata": {},
   "outputs": [
    {
     "data": {
      "text/plain": [
       "BODY_PART\n",
       "Right Foot    64869\n",
       "Left Foot     42290\n",
       "Head          23181\n",
       "Other           557\n",
       "Name: count, dtype: int64"
      ]
     },
     "execution_count": 150,
     "metadata": {},
     "output_type": "execute_result"
    }
   ],
   "source": [
    "df_shots['BODY_PART'].value_counts()"
   ]
  },
  {
   "cell_type": "code",
   "execution_count": 151,
   "metadata": {},
   "outputs": [
    {
     "data": {
      "text/plain": [
       "NOTES\n",
       "Volley                  15963\n",
       "Free kick                4280\n",
       "Deflected                2998\n",
       "Deflected, Volley         274\n",
       "Free kick, Deflected       89\n",
       "nan                         6\n",
       "Free kick, Volley           1\n",
       "Name: count, dtype: int64"
      ]
     },
     "execution_count": 151,
     "metadata": {},
     "output_type": "execute_result"
    }
   ],
   "source": [
    "df_shots['NOTES'].value_counts()"
   ]
  },
  {
   "cell_type": "code",
   "execution_count": 152,
   "metadata": {},
   "outputs": [
    {
     "data": {
      "text/plain": [
       "OUTCOME\n",
       "Off Target          48646\n",
       "Blocked             35116\n",
       "Saved               30450\n",
       "Goal                14046\n",
       "Woodwork             2507\n",
       "Saved off Target      132\n",
       "Name: count, dtype: int64"
      ]
     },
     "execution_count": 152,
     "metadata": {},
     "output_type": "execute_result"
    }
   ],
   "source": [
    "df_shots['OUTCOME'].value_counts()"
   ]
  },
  {
   "cell_type": "code",
   "execution_count": null,
   "metadata": {},
   "outputs": [],
   "source": []
  },
  {
   "cell_type": "code",
   "execution_count": null,
   "metadata": {},
   "outputs": [],
   "source": []
  },
  {
   "cell_type": "code",
   "execution_count": 153,
   "metadata": {},
   "outputs": [],
   "source": [
    "df_shots = fetch_data(cursor, 'SELECT * FROM SHOT_EVENTS')\n",
    "df_shots = df_shots.merge(df_events[['MATCH_ID', 'ACTION_ID', 'TEAM_FBREF_ID']], on=['MATCH_ID', 'ACTION_ID'])\n",
    "df_shots = df_shots.merge(team_names[['TEAM_NAME', 'TEAM_FBREF_ID']], on=\"TEAM_FBREF_ID\")\n",
    "\n",
    "inds1 = df_shots[df_shots['SCA_1_PLAYER_FBREF_EVENT'].isin(['Pass (Dead)'])].index\n",
    "inds2 = df_shots[df_shots['SCA_2_PLAYER_FBREF_EVENT'].isin(['Pass (Dead)'])].index\n",
    "\n",
    "inds_union = np.union1d(inds1, inds2)\n",
    "df_shots_set_piece = df_shots.loc[inds_union]\n",
    "\n",
    "df_shots_set_piece = df_events[['MATCH_ID','ACTION_ID']].merge(df_shots_set_piece, on=['MATCH_ID', 'ACTION_ID'])\n",
    "df_shots_set_piece.loc[:, 'OPPO_TEAM_ID'] = \"NaN\"\n",
    "df_shots_set_piece = specify_oppo_team_id_to_events(df_shots_set_piece, df_matches)\n",
    "df_shots_set_piece = df_shots_set_piece.merge(team_names_2, on=\"OPPO_TEAM_ID\")\n",
    "df_shots_set_piece = df_shots_set_piece.merge(df_matches[['MATCH_ID','COMPETITION','SEASON']], on='MATCH_ID', how='left')"
   ]
  },
  {
   "cell_type": "code",
   "execution_count": 154,
   "metadata": {},
   "outputs": [],
   "source": [
    "shots_xg_conceded_from_set_pieces_grouped = df_shots_set_piece[['OPPO_TEAM_NAME','COMPETITION','SEASON', \n",
    "                                                                'XG']].groupby(['OPPO_TEAM_NAME','COMPETITION','SEASON']).sum()"
   ]
  },
  {
   "cell_type": "code",
   "execution_count": 155,
   "metadata": {},
   "outputs": [],
   "source": [
    "shots_xg_from_set_pieces_grouped = df_shots_set_piece[['TEAM_NAME','COMPETITION','SEASON', \n",
    "                                                    'XG']].groupby(['TEAM_NAME','COMPETITION','SEASON']).sum()"
   ]
  },
  {
   "cell_type": "code",
   "execution_count": 156,
   "metadata": {},
   "outputs": [],
   "source": [
    "shots_xg_conceded_from_set_pieces_grouped = team_name_matches_played.merge(shots_xg_conceded_from_set_pieces_grouped.reset_index().rename(\n",
    "    {'OPPO_TEAM_NAME':'TEAM_NAME'}, axis=1),on=['TEAM_NAME','COMPETITION','SEASON'])"
   ]
  },
  {
   "cell_type": "code",
   "execution_count": 157,
   "metadata": {},
   "outputs": [],
   "source": [
    "shots_xg_from_set_pieces_grouped = team_name_matches_played.merge(shots_xg_from_set_pieces_grouped.reset_index(),\n",
    "                                                                  on=['TEAM_NAME','COMPETITION','SEASON'])"
   ]
  },
  {
   "cell_type": "code",
   "execution_count": 158,
   "metadata": {},
   "outputs": [],
   "source": [
    "shots_xg_conceded_from_set_pieces_grouped['OPPOSITION XG FROM SET PIECE CROSSES PER GAME'] = shots_xg_conceded_from_set_pieces_grouped['XG'] / \\\n",
    "                                                                        shots_xg_conceded_from_set_pieces_grouped['MATCHES_PLAYED']"
   ]
  },
  {
   "cell_type": "code",
   "execution_count": 159,
   "metadata": {},
   "outputs": [],
   "source": [
    "shots_xg_from_set_pieces_grouped['XG FROM SET PIECE CROSSES PER GAME'] = shots_xg_from_set_pieces_grouped['XG'] / \\\n",
    "                                                                        shots_xg_from_set_pieces_grouped['MATCHES_PLAYED']"
   ]
  },
  {
   "cell_type": "code",
   "execution_count": 160,
   "metadata": {},
   "outputs": [],
   "source": [
    "# shots_xg_from_set_pieces_grouped\n",
    "# shots_xg_conceded_from_set_pieces_grouped"
   ]
  },
  {
   "cell_type": "code",
   "execution_count": 161,
   "metadata": {},
   "outputs": [],
   "source": [
    "df_goals_set_piece = df_shots_set_piece[df_shots_set_piece['OUTCOME'] == 'Goal']"
   ]
  },
  {
   "cell_type": "code",
   "execution_count": 162,
   "metadata": {},
   "outputs": [],
   "source": [
    "df_goals_set_piece_chart = df_goals_set_piece.groupby(['TEAM_NAME','COMPETITION','SEASON']).count()['MATCH_ID']"
   ]
  },
  {
   "cell_type": "code",
   "execution_count": 163,
   "metadata": {},
   "outputs": [],
   "source": [
    "df_goals_set_piece_chart = df_goals_set_piece_chart.reset_index()\n",
    "df_goals_set_piece_chart = df_goals_set_piece_chart.rename({'MATCH_ID':'SET PIECE GOALS SCORED'}, axis= 1)"
   ]
  },
  {
   "cell_type": "code",
   "execution_count": 164,
   "metadata": {},
   "outputs": [],
   "source": [
    "df_goals_set_piece_conc = df_goals_set_piece.groupby(['OPPO_TEAM_NAME','COMPETITION','SEASON']).count()['MATCH_ID']\n",
    "df_goals_set_piece_conc = df_goals_set_piece_conc.reset_index()\n",
    "df_goals_set_piece_conc = df_goals_set_piece_conc.rename({'MATCH_ID':'SET PIECE GOALS CONCEDED',\n",
    "                                                            'OPPO_TEAM_NAME':'TEAM_NAME'}, axis= 1)"
   ]
  },
  {
   "cell_type": "code",
   "execution_count": 165,
   "metadata": {},
   "outputs": [],
   "source": [
    "df_goals_set_piece_chart = df_goals_set_piece_chart.merge(df_goals_set_piece_conc, on=['TEAM_NAME', 'COMPETITION', 'SEASON'], how='outer')"
   ]
  },
  {
   "cell_type": "code",
   "execution_count": 166,
   "metadata": {},
   "outputs": [],
   "source": [
    "df_goals_set_piece_chart = df_goals_set_piece_chart.fillna(0)"
   ]
  },
  {
   "cell_type": "code",
   "execution_count": 167,
   "metadata": {},
   "outputs": [],
   "source": [
    "df_goals_set_piece_chart = df_goals_set_piece_chart.merge(team_names[['TEAM_NAME', 'TEAM_LOGO_URL']], on='TEAM_NAME')\n",
    "df_goals_set_piece_chart = df_goals_set_piece_chart.merge(df_competitions, on=['COMPETITION', 'SEASON'])"
   ]
  },
  {
   "cell_type": "code",
   "execution_count": 168,
   "metadata": {},
   "outputs": [],
   "source": [
    "create_table_query = \"\"\"\n",
    "CREATE TABLE IF NOT EXISTS GOALS_FROM_SET_PIECES (\n",
    "    SEASON INT,\n",
    "    COMPETITION_ACRONYM VARCHAR(255),\n",
    "    TEAM_NAME VARCHAR(255),\n",
    "    TEAM_LOGO_URL VARCHAR(255),\n",
    "    SET_PIECE_GOALS_SCORED FLOAT,\n",
    "    SET_PIECE_GOALS_CONCEDED FLOAT,\n",
    "    PRIMARY KEY (SEASON, COMPETITION_ACRONYM, TEAM_NAME)\n",
    ");\n",
    "\"\"\""
   ]
  },
  {
   "cell_type": "code",
   "execution_count": 169,
   "metadata": {},
   "outputs": [
    {
     "data": {
      "text/plain": [
       "<snowflake.connector.cursor.SnowflakeCursor at 0x196ad0e9290>"
      ]
     },
     "execution_count": 169,
     "metadata": {},
     "output_type": "execute_result"
    }
   ],
   "source": [
    "cur.execute(create_table_query)"
   ]
  },
  {
   "cell_type": "code",
   "execution_count": 170,
   "metadata": {},
   "outputs": [],
   "source": [
    "df_goals_set_piece_chart.columns = df_goals_set_piece_chart.columns.str.replace(\" \", \"_\")"
   ]
  },
  {
   "cell_type": "code",
   "execution_count": 171,
   "metadata": {},
   "outputs": [],
   "source": [
    "df_goals_set_piece_chart = df_goals_set_piece_chart.drop('COMPETITION', axis=1)"
   ]
  },
  {
   "cell_type": "code",
   "execution_count": 172,
   "metadata": {},
   "outputs": [
    {
     "name": "stdout",
     "output_type": "stream",
     "text": [
      "Upsert completed. 292 rows processed.\n"
     ]
    }
   ],
   "source": [
    "upsert_to_snowflake(\"GOALS_FROM_SET_PIECES\", df_goals_set_piece_chart, ['SEASON', 'COMPETITION_ACRONYM', 'TEAM_NAME'])"
   ]
  },
  {
   "cell_type": "code",
   "execution_count": 173,
   "metadata": {},
   "outputs": [],
   "source": [
    "df_goals_set_piece_chart = fetch_data(cursor, 'SELECT * FROM GEGENSTATS.RADAR_CHARTS.GOALS_FROM_SET_PIECES')"
   ]
  },
  {
   "cell_type": "code",
   "execution_count": 174,
   "metadata": {},
   "outputs": [],
   "source": [
    "df_goals_set_piece_chart.rename(columns={'SET_PIECE_GOALS_SCORED':'SET PIECE GOALS SCORED',\n",
    "                                'SET_PIECE_GOALS_CONCEDED':'SET PIECE GOALS CONCEDED'}, inplace=True)"
   ]
  },
  {
   "cell_type": "code",
   "execution_count": 175,
   "metadata": {},
   "outputs": [],
   "source": [
    "filt_df_goals_set_piece_chart = df_goals_set_piece_chart[df_goals_set_piece_chart['SEASON'] == season_selected]\n",
    "filt_df_goals_set_piece_chart = filt_df_goals_set_piece_chart[filt_df_goals_set_piece_chart['COMPETITION_ACRONYM'] == league_selected]"
   ]
  },
  {
   "cell_type": "code",
   "execution_count": 176,
   "metadata": {},
   "outputs": [
    {
     "data": {
      "application/vnd.plotly.v1+json": {
       "config": {
        "plotlyServerURL": "https://plotly.com"
       },
       "data": [
        {
         "hoverinfo": "text",
         "marker": {
          "opacity": 0
         },
         "mode": "markers",
         "text": "Arsenal",
         "type": "scatter",
         "x": [
          4
         ],
         "y": [
          15
         ]
        },
        {
         "hoverinfo": "text",
         "marker": {
          "opacity": 0
         },
         "mode": "markers",
         "text": "Aston Villa",
         "type": "scatter",
         "x": [
          8
         ],
         "y": [
          8
         ]
        },
        {
         "hoverinfo": "text",
         "marker": {
          "opacity": 0
         },
         "mode": "markers",
         "text": "Bournemouth",
         "type": "scatter",
         "x": [
          3
         ],
         "y": [
          3
         ]
        },
        {
         "hoverinfo": "text",
         "marker": {
          "opacity": 0
         },
         "mode": "markers",
         "text": "Brentford",
         "type": "scatter",
         "x": [
          5
         ],
         "y": [
          6
         ]
        },
        {
         "hoverinfo": "text",
         "marker": {
          "opacity": 0
         },
         "mode": "markers",
         "text": "Brighton",
         "type": "scatter",
         "x": [
          3
         ],
         "y": [
          5
         ]
        },
        {
         "hoverinfo": "text",
         "marker": {
          "opacity": 0
         },
         "mode": "markers",
         "text": "Burnley",
         "type": "scatter",
         "x": [
          7
         ],
         "y": [
          4
         ]
        },
        {
         "hoverinfo": "text",
         "marker": {
          "opacity": 0
         },
         "mode": "markers",
         "text": "Chelsea",
         "type": "scatter",
         "x": [
          6
         ],
         "y": [
          6
         ]
        },
        {
         "hoverinfo": "text",
         "marker": {
          "opacity": 0
         },
         "mode": "markers",
         "text": "Crystal Palace",
         "type": "scatter",
         "x": [
          7
         ],
         "y": [
          2
         ]
        },
        {
         "hoverinfo": "text",
         "marker": {
          "opacity": 0
         },
         "mode": "markers",
         "text": "Everton",
         "type": "scatter",
         "x": [
          3
         ],
         "y": [
          5
         ]
        },
        {
         "hoverinfo": "text",
         "marker": {
          "opacity": 0
         },
         "mode": "markers",
         "text": "Fulham",
         "type": "scatter",
         "x": [
          4
         ],
         "y": [
          5
         ]
        },
        {
         "hoverinfo": "text",
         "marker": {
          "opacity": 0
         },
         "mode": "markers",
         "text": "Liverpool",
         "type": "scatter",
         "x": [
          6
         ],
         "y": [
          7
         ]
        },
        {
         "hoverinfo": "text",
         "marker": {
          "opacity": 0
         },
         "mode": "markers",
         "text": "Luton Town",
         "type": "scatter",
         "x": [
          8
         ],
         "y": [
          7
         ]
        },
        {
         "hoverinfo": "text",
         "marker": {
          "opacity": 0
         },
         "mode": "markers",
         "text": "Manchester City",
         "type": "scatter",
         "x": [
          2
         ],
         "y": [
          4
         ]
        },
        {
         "hoverinfo": "text",
         "marker": {
          "opacity": 0
         },
         "mode": "markers",
         "text": "Manchester Utd",
         "type": "scatter",
         "x": [
          7
         ],
         "y": [
          4
         ]
        },
        {
         "hoverinfo": "text",
         "marker": {
          "opacity": 0
         },
         "mode": "markers",
         "text": "Newcastle Utd",
         "type": "scatter",
         "x": [
          4
         ],
         "y": [
          6
         ]
        },
        {
         "hoverinfo": "text",
         "marker": {
          "opacity": 0
         },
         "mode": "markers",
         "text": "Nott'ham Forest",
         "type": "scatter",
         "x": [
          9
         ],
         "y": [
          4
         ]
        },
        {
         "hoverinfo": "text",
         "marker": {
          "opacity": 0
         },
         "mode": "markers",
         "text": "Sheffield Utd",
         "type": "scatter",
         "x": [
          11
         ],
         "y": [
          2
         ]
        },
        {
         "hoverinfo": "text",
         "marker": {
          "opacity": 0
         },
         "mode": "markers",
         "text": "Tottenham",
         "type": "scatter",
         "x": [
          8
         ],
         "y": [
          7
         ]
        },
        {
         "hoverinfo": "text",
         "marker": {
          "opacity": 0
         },
         "mode": "markers",
         "text": "West Ham",
         "type": "scatter",
         "x": [
          5
         ],
         "y": [
          9
         ]
        },
        {
         "hoverinfo": "text",
         "marker": {
          "opacity": 0
         },
         "mode": "markers",
         "text": "Wolves",
         "type": "scatter",
         "x": [
          6
         ],
         "y": [
          7
         ]
        }
       ],
       "layout": {
        "annotations": [
         {
          "align": "left",
          "font": {
           "color": "orange",
           "family": "Roboto, sans-serif",
           "size": 15
          },
          "showarrow": false,
          "text": "Low no. of set piece goals<br>Low no. of set piece goals conceded",
          "x": 0,
          "xref": "paper",
          "y": 0,
          "yref": "paper"
         },
         {
          "align": "left",
          "font": {
           "color": "green",
           "family": "Roboto, sans-serif",
           "size": 15
          },
          "showarrow": false,
          "text": "High no. of set piece goals<br>Low no. of set piece goals conceded",
          "x": 0,
          "xref": "paper",
          "y": 1,
          "yref": "paper"
         },
         {
          "align": "right",
          "font": {
           "color": "orange",
           "family": "Roboto, sans-serif",
           "size": 15
          },
          "showarrow": false,
          "text": "High no. of set piece goals<br>High no. of set piece goals conceded",
          "x": 1,
          "xref": "paper",
          "y": 1,
          "yref": "paper"
         },
         {
          "align": "right",
          "font": {
           "color": "red",
           "family": "Roboto, sans-serif",
           "size": 15
          },
          "showarrow": false,
          "text": "Low no. of set piece goals<br>High no. of set piece goals conceded",
          "x": 1,
          "xref": "paper",
          "y": 0,
          "yref": "paper"
         }
        ],
        "font": {
         "color": "white",
         "family": "Roboto, sans-serif",
         "size": 25
        },
        "height": 625,
        "hoverlabel": {
         "bgcolor": "rgba(20, 20, 20, 0.8)",
         "font": {
          "family": "Roboto, sans-serif"
         }
        },
        "images": [
         {
          "layer": "above",
          "opacity": 0.35,
          "sizex": 0.9,
          "sizey": 0.9,
          "sizing": "contain",
          "source": "https://i.imgur.com/SURo5sj.png",
          "x": 4,
          "xanchor": "center",
          "xref": "x",
          "y": 15,
          "yanchor": "middle",
          "yref": "y"
         },
         {
          "layer": "above",
          "opacity": 0.35,
          "sizex": 0.9,
          "sizey": 0.9,
          "sizing": "contain",
          "source": "https://i.imgur.com/M4mwH1X.png",
          "x": 8,
          "xanchor": "center",
          "xref": "x",
          "y": 8,
          "yanchor": "middle",
          "yref": "y"
         },
         {
          "layer": "above",
          "opacity": 0.35,
          "sizex": 0.9,
          "sizey": 0.9,
          "sizing": "contain",
          "source": "https://i.imgur.com/0F6UIO4.png",
          "x": 3,
          "xanchor": "center",
          "xref": "x",
          "y": 3,
          "yanchor": "middle",
          "yref": "y"
         },
         {
          "layer": "above",
          "opacity": 0.35,
          "sizex": 0.9,
          "sizey": 0.9,
          "sizing": "contain",
          "source": "https://i.imgur.com/MOhGOQ4.png",
          "x": 5,
          "xanchor": "center",
          "xref": "x",
          "y": 6,
          "yanchor": "middle",
          "yref": "y"
         },
         {
          "layer": "above",
          "opacity": 0.35,
          "sizex": 0.9,
          "sizey": 0.9,
          "sizing": "contain",
          "source": "https://i.imgur.com/EMCwD3X.png",
          "x": 3,
          "xanchor": "center",
          "xref": "x",
          "y": 5,
          "yanchor": "middle",
          "yref": "y"
         },
         {
          "layer": "above",
          "opacity": 0.35,
          "sizex": 0.9,
          "sizey": 0.9,
          "sizing": "contain",
          "source": "https://i.imgur.com/6IDi9XJ.png",
          "x": 7,
          "xanchor": "center",
          "xref": "x",
          "y": 4,
          "yanchor": "middle",
          "yref": "y"
         },
         {
          "layer": "above",
          "opacity": 0.35,
          "sizex": 0.9,
          "sizey": 0.9,
          "sizing": "contain",
          "source": "https://i.imgur.com/6F7h3UR.png",
          "x": 6,
          "xanchor": "center",
          "xref": "x",
          "y": 6,
          "yanchor": "middle",
          "yref": "y"
         },
         {
          "layer": "above",
          "opacity": 0.35,
          "sizex": 0.9,
          "sizey": 0.9,
          "sizing": "contain",
          "source": "https://i.imgur.com/LPhzr0K.png",
          "x": 7,
          "xanchor": "center",
          "xref": "x",
          "y": 2,
          "yanchor": "middle",
          "yref": "y"
         },
         {
          "layer": "above",
          "opacity": 0.35,
          "sizex": 0.9,
          "sizey": 0.9,
          "sizing": "contain",
          "source": "https://i.imgur.com/Dgei0uj.png",
          "x": 3,
          "xanchor": "center",
          "xref": "x",
          "y": 5,
          "yanchor": "middle",
          "yref": "y"
         },
         {
          "layer": "above",
          "opacity": 0.35,
          "sizex": 0.9,
          "sizey": 0.9,
          "sizing": "contain",
          "source": "https://i.imgur.com/2zggSrF.png",
          "x": 4,
          "xanchor": "center",
          "xref": "x",
          "y": 5,
          "yanchor": "middle",
          "yref": "y"
         },
         {
          "layer": "above",
          "opacity": 0.35,
          "sizex": 0.9,
          "sizey": 0.9,
          "sizing": "contain",
          "source": "https://i.imgur.com/fs7VK9G.png",
          "x": 6,
          "xanchor": "center",
          "xref": "x",
          "y": 7,
          "yanchor": "middle",
          "yref": "y"
         },
         {
          "layer": "above",
          "opacity": 0.35,
          "sizex": 0.9,
          "sizey": 0.9,
          "sizing": "contain",
          "source": "https://i.imgur.com/vHHqKJX.png",
          "x": 8,
          "xanchor": "center",
          "xref": "x",
          "y": 7,
          "yanchor": "middle",
          "yref": "y"
         },
         {
          "layer": "above",
          "opacity": 0.35,
          "sizex": 0.9,
          "sizey": 0.9,
          "sizing": "contain",
          "source": "https://i.imgur.com/FF8z7uZ.png",
          "x": 2,
          "xanchor": "center",
          "xref": "x",
          "y": 4,
          "yanchor": "middle",
          "yref": "y"
         },
         {
          "layer": "above",
          "opacity": 0.35,
          "sizex": 0.9,
          "sizey": 0.9,
          "sizing": "contain",
          "source": "https://i.imgur.com/z47emBQ.png",
          "x": 7,
          "xanchor": "center",
          "xref": "x",
          "y": 4,
          "yanchor": "middle",
          "yref": "y"
         },
         {
          "layer": "above",
          "opacity": 0.35,
          "sizex": 0.9,
          "sizey": 0.9,
          "sizing": "contain",
          "source": "https://i.imgur.com/3kOLokZ.png",
          "x": 4,
          "xanchor": "center",
          "xref": "x",
          "y": 6,
          "yanchor": "middle",
          "yref": "y"
         },
         {
          "layer": "above",
          "opacity": 0.35,
          "sizex": 0.9,
          "sizey": 0.9,
          "sizing": "contain",
          "source": "https://i.imgur.com/z4Tl9Zu.png",
          "x": 9,
          "xanchor": "center",
          "xref": "x",
          "y": 4,
          "yanchor": "middle",
          "yref": "y"
         },
         {
          "layer": "above",
          "opacity": 0.35,
          "sizex": 0.9,
          "sizey": 0.9,
          "sizing": "contain",
          "source": "https://i.imgur.com/eeBetFN.png",
          "x": 11,
          "xanchor": "center",
          "xref": "x",
          "y": 2,
          "yanchor": "middle",
          "yref": "y"
         },
         {
          "layer": "above",
          "opacity": 0.35,
          "sizex": 0.9,
          "sizey": 0.9,
          "sizing": "contain",
          "source": "https://i.imgur.com/fJ7rUWW.png",
          "x": 8,
          "xanchor": "center",
          "xref": "x",
          "y": 7,
          "yanchor": "middle",
          "yref": "y"
         },
         {
          "layer": "above",
          "opacity": 0.35,
          "sizex": 0.9,
          "sizey": 0.9,
          "sizing": "contain",
          "source": "https://i.imgur.com/9BQHJRl.png",
          "x": 5,
          "xanchor": "center",
          "xref": "x",
          "y": 9,
          "yanchor": "middle",
          "yref": "y"
         },
         {
          "layer": "above",
          "opacity": 0.35,
          "sizex": 0.9,
          "sizey": 0.9,
          "sizing": "contain",
          "source": "https://i.imgur.com/6azSF88.png",
          "x": 6,
          "xanchor": "center",
          "xref": "x",
          "y": 7,
          "yanchor": "middle",
          "yref": "y"
         }
        ],
        "margin": {
         "b": 10,
         "l": 10,
         "r": 30,
         "t": 50
        },
        "paper_bgcolor": "rgb(70, 70, 70)",
        "plot_bgcolor": "rgb(70, 70, 70)",
        "shapes": [
         {
          "layer": "below",
          "line": {
           "color": "White",
           "width": 3
          },
          "type": "line",
          "x0": 5.8,
          "x1": 5.8,
          "y0": 0,
          "y1": 17
         },
         {
          "layer": "below",
          "line": {
           "color": "White",
           "width": 3
          },
          "type": "line",
          "x0": 0,
          "x1": 16,
          "y0": 5.8,
          "y1": 5.8
         }
        ],
        "showlegend": false,
        "template": {
         "data": {
          "candlestick": [
           {
            "decreasing": {
             "line": {
              "color": "#000033"
             }
            },
            "increasing": {
             "line": {
              "color": "#000032"
             }
            },
            "type": "candlestick"
           }
          ],
          "contour": [
           {
            "colorscale": [
             [
              0,
              "#000011"
             ],
             [
              0.1111111111111111,
              "#000012"
             ],
             [
              0.2222222222222222,
              "#000013"
             ],
             [
              0.3333333333333333,
              "#000014"
             ],
             [
              0.4444444444444444,
              "#000015"
             ],
             [
              0.5555555555555556,
              "#000016"
             ],
             [
              0.6666666666666666,
              "#000017"
             ],
             [
              0.7777777777777778,
              "#000018"
             ],
             [
              0.8888888888888888,
              "#000019"
             ],
             [
              1,
              "#000020"
             ]
            ],
            "type": "contour"
           }
          ],
          "contourcarpet": [
           {
            "colorscale": [
             [
              0,
              "#000011"
             ],
             [
              0.1111111111111111,
              "#000012"
             ],
             [
              0.2222222222222222,
              "#000013"
             ],
             [
              0.3333333333333333,
              "#000014"
             ],
             [
              0.4444444444444444,
              "#000015"
             ],
             [
              0.5555555555555556,
              "#000016"
             ],
             [
              0.6666666666666666,
              "#000017"
             ],
             [
              0.7777777777777778,
              "#000018"
             ],
             [
              0.8888888888888888,
              "#000019"
             ],
             [
              1,
              "#000020"
             ]
            ],
            "type": "contourcarpet"
           }
          ],
          "heatmap": [
           {
            "colorscale": [
             [
              0,
              "#000011"
             ],
             [
              0.1111111111111111,
              "#000012"
             ],
             [
              0.2222222222222222,
              "#000013"
             ],
             [
              0.3333333333333333,
              "#000014"
             ],
             [
              0.4444444444444444,
              "#000015"
             ],
             [
              0.5555555555555556,
              "#000016"
             ],
             [
              0.6666666666666666,
              "#000017"
             ],
             [
              0.7777777777777778,
              "#000018"
             ],
             [
              0.8888888888888888,
              "#000019"
             ],
             [
              1,
              "#000020"
             ]
            ],
            "type": "heatmap"
           }
          ],
          "histogram2d": [
           {
            "colorscale": [
             [
              0,
              "#000011"
             ],
             [
              0.1111111111111111,
              "#000012"
             ],
             [
              0.2222222222222222,
              "#000013"
             ],
             [
              0.3333333333333333,
              "#000014"
             ],
             [
              0.4444444444444444,
              "#000015"
             ],
             [
              0.5555555555555556,
              "#000016"
             ],
             [
              0.6666666666666666,
              "#000017"
             ],
             [
              0.7777777777777778,
              "#000018"
             ],
             [
              0.8888888888888888,
              "#000019"
             ],
             [
              1,
              "#000020"
             ]
            ],
            "type": "histogram2d"
           }
          ],
          "icicle": [
           {
            "textfont": {
             "color": "white"
            },
            "type": "icicle"
           }
          ],
          "sankey": [
           {
            "textfont": {
             "color": "#000036"
            },
            "type": "sankey"
           }
          ],
          "scatter": [
           {
            "marker": {
             "line": {
              "width": 0
             }
            },
            "type": "scatter"
           }
          ],
          "table": [
           {
            "cells": {
             "fill": {
              "color": "#000038"
             },
             "font": {
              "color": "#000037"
             },
             "line": {
              "color": "#000039"
             }
            },
            "header": {
             "fill": {
              "color": "#000040"
             },
             "font": {
              "color": "#000036"
             },
             "line": {
              "color": "#000039"
             }
            },
            "type": "table"
           }
          ],
          "waterfall": [
           {
            "connector": {
             "line": {
              "color": "#000036",
              "width": 2
             }
            },
            "decreasing": {
             "marker": {
              "color": "#000033"
             }
            },
            "increasing": {
             "marker": {
              "color": "#000032"
             }
            },
            "totals": {
             "marker": {
              "color": "#000034"
             }
            },
            "type": "waterfall"
           }
          ]
         },
         "layout": {
          "coloraxis": {
           "colorscale": [
            [
             0,
             "#000011"
            ],
            [
             0.1111111111111111,
             "#000012"
            ],
            [
             0.2222222222222222,
             "#000013"
            ],
            [
             0.3333333333333333,
             "#000014"
            ],
            [
             0.4444444444444444,
             "#000015"
            ],
            [
             0.5555555555555556,
             "#000016"
            ],
            [
             0.6666666666666666,
             "#000017"
            ],
            [
             0.7777777777777778,
             "#000018"
            ],
            [
             0.8888888888888888,
             "#000019"
            ],
            [
             1,
             "#000020"
            ]
           ]
          },
          "colorscale": {
           "diverging": [
            [
             0,
             "#000021"
            ],
            [
             0.1,
             "#000022"
            ],
            [
             0.2,
             "#000023"
            ],
            [
             0.3,
             "#000024"
            ],
            [
             0.4,
             "#000025"
            ],
            [
             0.5,
             "#000026"
            ],
            [
             0.6,
             "#000027"
            ],
            [
             0.7,
             "#000028"
            ],
            [
             0.8,
             "#000029"
            ],
            [
             0.9,
             "#000030"
            ],
            [
             1,
             "#000031"
            ]
           ],
           "sequential": [
            [
             0,
             "#000011"
            ],
            [
             0.1111111111111111,
             "#000012"
            ],
            [
             0.2222222222222222,
             "#000013"
            ],
            [
             0.3333333333333333,
             "#000014"
            ],
            [
             0.4444444444444444,
             "#000015"
            ],
            [
             0.5555555555555556,
             "#000016"
            ],
            [
             0.6666666666666666,
             "#000017"
            ],
            [
             0.7777777777777778,
             "#000018"
            ],
            [
             0.8888888888888888,
             "#000019"
            ],
            [
             1,
             "#000020"
            ]
           ],
           "sequentialminus": [
            [
             0,
             "#000011"
            ],
            [
             0.1111111111111111,
             "#000012"
            ],
            [
             0.2222222222222222,
             "#000013"
            ],
            [
             0.3333333333333333,
             "#000014"
            ],
            [
             0.4444444444444444,
             "#000015"
            ],
            [
             0.5555555555555556,
             "#000016"
            ],
            [
             0.6666666666666666,
             "#000017"
            ],
            [
             0.7777777777777778,
             "#000018"
            ],
            [
             0.8888888888888888,
             "#000019"
            ],
            [
             1,
             "#000020"
            ]
           ]
          },
          "colorway": [
           "#000001",
           "#000002",
           "#000003",
           "#000004",
           "#000005",
           "#000006",
           "#000007",
           "#000008",
           "#000009",
           "#000010"
          ]
         }
        },
        "title": {
         "font": {
          "color": "white",
          "family": "Roboto, sans-serif",
          "size": 23
         },
         "text": "GOALS FROM SET PIECES",
         "x": 0.5,
         "xanchor": "center",
         "y": 0.98,
         "yanchor": "top"
        },
        "width": 625,
        "xaxis": {
         "gridcolor": "rgba(0,0,0,0)",
         "linecolor": "white",
         "linewidth": 2,
         "range": [
          0,
          16
         ],
         "showline": true,
         "tickfont": {
          "color": "white",
          "size": 15
         },
         "title": {
          "font": {
           "size": 25
          },
          "text": "SET PIECE GOALS CONCEDED"
         }
        },
        "yaxis": {
         "gridcolor": "rgba(0,0,0,0)",
         "linecolor": "white",
         "linewidth": 2,
         "range": [
          0,
          17
         ],
         "showline": true,
         "tickfont": {
          "color": "white",
          "size": 15
         },
         "title": {
          "font": {
           "size": 25
          },
          "text": "SET PIECE GOALS SCORED"
         }
        }
       }
      }
     },
     "metadata": {},
     "output_type": "display_data"
    }
   ],
   "source": [
    "create_FM_team_scatter_chart(filt_df_goals_set_piece_chart, 'GOALS FROM SET PIECES', \"AC Milan\", \n",
    "                             'SET PIECE GOALS CONCEDED', 'SET PIECE GOALS SCORED', 0.9, 0, 16, 0, 17, \n",
    "                                                        \"Low no. of set piece goals<br>Low no. of set piece goals conceded\", \n",
    "                                                        \"Low no. of set piece goals<br>High no. of set piece goals conceded\",\n",
    "                                                        \"High no. of set piece goals<br>Low no. of set piece goals conceded\",\n",
    "                                                        \"High no. of set piece goals<br>High no. of set piece goals conceded\",\n",
    "                                                        \"orange\", \"red\", \"green\", \"orange\")\n"
   ]
  },
  {
   "cell_type": "code",
   "execution_count": null,
   "metadata": {},
   "outputs": [],
   "source": []
  },
  {
   "cell_type": "code",
   "execution_count": null,
   "metadata": {},
   "outputs": [],
   "source": []
  },
  {
   "cell_type": "code",
   "execution_count": null,
   "metadata": {},
   "outputs": [],
   "source": []
  },
  {
   "cell_type": "code",
   "execution_count": null,
   "metadata": {},
   "outputs": [],
   "source": []
  }
 ],
 "metadata": {
  "kernelspec": {
   "display_name": "footy",
   "language": "python",
   "name": "python3"
  },
  "language_info": {
   "codemirror_mode": {
    "name": "ipython",
    "version": 3
   },
   "file_extension": ".py",
   "mimetype": "text/x-python",
   "name": "python",
   "nbconvert_exporter": "python",
   "pygments_lexer": "ipython3",
   "version": "3.11.5"
  }
 },
 "nbformat": 4,
 "nbformat_minor": 2
}
