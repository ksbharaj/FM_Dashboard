{
 "cells": [
  {
   "cell_type": "code",
   "execution_count": 25,
   "metadata": {},
   "outputs": [],
   "source": [
    "import streamlit as st"
   ]
  },
  {
   "cell_type": "code",
   "execution_count": 26,
   "metadata": {},
   "outputs": [
    {
     "data": {
      "text/plain": [
       "'1.35.0'"
      ]
     },
     "execution_count": 26,
     "metadata": {},
     "output_type": "execute_result"
    }
   ],
   "source": [
    "st.__version__"
   ]
  },
  {
   "cell_type": "code",
   "execution_count": 27,
   "metadata": {},
   "outputs": [],
   "source": [
    "import pandas as pd\n",
    "import numpy as np\n",
    "import plotly.graph_objects as go\n",
    "# from snowflake.connector.pandas_tools import write_pandas\n",
    "# from sqlalchemy import create_engine\n",
    "import snowflake.connector\n",
    "\n",
    "from mplsoccer import Pitch, VerticalPitch\n",
    "import matplotlib.pyplot as plt\n",
    "import matplotlib.patches as patches\n",
    "import math\n",
    "\n",
    "from snowflake.connector.pandas_tools import write_pandas"
   ]
  },
  {
   "cell_type": "code",
   "execution_count": 28,
   "metadata": {},
   "outputs": [],
   "source": [
    "import snowflake.connector"
   ]
  },
  {
   "cell_type": "code",
   "execution_count": 29,
   "metadata": {},
   "outputs": [],
   "source": [
    "## Set options to view all columns\n",
    "pd.set_option('display.max_columns', None)"
   ]
  },
  {
   "cell_type": "code",
   "execution_count": 30,
   "metadata": {},
   "outputs": [],
   "source": [
    "SNOWFLAKE_USER = 'karan14'\n",
    "SNOWFLAKE_PASSWORD = 'Snowfl@key0014'\n",
    "SNOWFLAKE_ACCOUNT = 'lv65293.ca-central-1.aws'\n",
    "SNOWFLAKE_WAREHOUSE = 'COMPUTE_WH'\n",
    "SNOWFLAKE_DATABASE = 'GEGENSTATS'\n",
    "SNOWFLAKE_SCHEMA = 'TABLES'"
   ]
  },
  {
   "cell_type": "code",
   "execution_count": 31,
   "metadata": {},
   "outputs": [],
   "source": [
    "conn = snowflake.connector.connect(\n",
    "    user=SNOWFLAKE_USER,\n",
    "    password=SNOWFLAKE_PASSWORD,\n",
    "    account=SNOWFLAKE_ACCOUNT,\n",
    "    warehouse=SNOWFLAKE_WAREHOUSE,\n",
    "    database=SNOWFLAKE_DATABASE,\n",
    "    schema=SNOWFLAKE_SCHEMA\n",
    ")"
   ]
  },
  {
   "cell_type": "code",
   "execution_count": 32,
   "metadata": {},
   "outputs": [],
   "source": [
    "cursor = conn.cursor()"
   ]
  },
  {
   "cell_type": "code",
   "execution_count": 33,
   "metadata": {},
   "outputs": [],
   "source": [
    "def fetch_data(cursor, query):\n",
    "    cursor.execute(query)\n",
    "    rows = cursor.fetchall()\n",
    "    column_names = [desc[0] for desc in cursor.description]\n",
    "    return pd.DataFrame(rows, columns=column_names)"
   ]
  },
  {
   "cell_type": "code",
   "execution_count": 34,
   "metadata": {},
   "outputs": [],
   "source": [
    "team_names = fetch_data(cursor, 'SELECT * FROM TEAMS')"
   ]
  },
  {
   "cell_type": "code",
   "execution_count": null,
   "metadata": {},
   "outputs": [],
   "source": []
  },
  {
   "cell_type": "code",
   "execution_count": null,
   "metadata": {},
   "outputs": [],
   "source": []
  },
  {
   "cell_type": "code",
   "execution_count": 35,
   "metadata": {},
   "outputs": [],
   "source": [
    "team_misc = fetch_data(cursor, 'SELECT * FROM TEAM_MISC_STATS')"
   ]
  },
  {
   "cell_type": "code",
   "execution_count": 36,
   "metadata": {},
   "outputs": [],
   "source": [
    "team_standard = fetch_data(cursor, 'SELECT * FROM TEAM_STANDARD_STATS')"
   ]
  },
  {
   "cell_type": "code",
   "execution_count": 37,
   "metadata": {},
   "outputs": [],
   "source": [
    "team_attacking = fetch_data(cursor, 'SELECT * FROM TEAM_ATTACKING_STATS')"
   ]
  },
  {
   "cell_type": "code",
   "execution_count": 38,
   "metadata": {},
   "outputs": [],
   "source": [
    "team_defending = fetch_data(cursor, 'SELECT * FROM TEAM_DEFENDING_STATS')"
   ]
  },
  {
   "cell_type": "code",
   "execution_count": 39,
   "metadata": {},
   "outputs": [],
   "source": [
    "df_competitions = fetch_data(cursor, 'SELECT COMPETITION, COMPETITION_ACRONYM, SEASON FROM COMPETITIONS')"
   ]
  },
  {
   "cell_type": "code",
   "execution_count": 40,
   "metadata": {},
   "outputs": [],
   "source": [
    "df_matches = fetch_data(cursor, 'SELECT * FROM MATCHES')"
   ]
  },
  {
   "cell_type": "code",
   "execution_count": 41,
   "metadata": {},
   "outputs": [],
   "source": [
    "df_shots = fetch_data(cursor, 'SELECT * FROM SHOT_EVENTS')"
   ]
  },
  {
   "cell_type": "code",
   "execution_count": 42,
   "metadata": {},
   "outputs": [],
   "source": [
    "df_players = fetch_data(cursor, 'SELECT * FROM PLAYERS')"
   ]
  },
  {
   "cell_type": "code",
   "execution_count": 43,
   "metadata": {},
   "outputs": [],
   "source": [
    "team_attacking = team_attacking.merge(df_competitions, on=['COMPETITION','SEASON'], how='left')\n",
    "\n",
    "team_attacking = team_attacking.merge(team_names, on='TEAM_FBREF_ID', how='left')\n",
    "\n",
    "team_attacking = team_attacking.merge(team_standard, on=['TEAM_FBREF_ID', 'SEASON', 'COMPETITION'], how='left')"
   ]
  },
  {
   "cell_type": "code",
   "execution_count": 44,
   "metadata": {},
   "outputs": [],
   "source": [
    "team_attacking['SHOTS PER GAME'] = team_attacking['SHOTS']/team_attacking['MATCHES_PLAYED']"
   ]
  },
  {
   "cell_type": "code",
   "execution_count": 45,
   "metadata": {},
   "outputs": [],
   "source": [
    "team_attacking['CONVERSION RATE (%)'] = team_attacking['GOALS_SCORED']/team_attacking['SHOTS']"
   ]
  },
  {
   "cell_type": "code",
   "execution_count": 46,
   "metadata": {},
   "outputs": [
    {
     "data": {
      "text/html": [
       "<div>\n",
       "<style scoped>\n",
       "    .dataframe tbody tr th:only-of-type {\n",
       "        vertical-align: middle;\n",
       "    }\n",
       "\n",
       "    .dataframe tbody tr th {\n",
       "        vertical-align: top;\n",
       "    }\n",
       "\n",
       "    .dataframe thead th {\n",
       "        text-align: right;\n",
       "    }\n",
       "</style>\n",
       "<table border=\"1\" class=\"dataframe\">\n",
       "  <thead>\n",
       "    <tr style=\"text-align: right;\">\n",
       "      <th></th>\n",
       "      <th>TEAM_FBREF_ID</th>\n",
       "      <th>SEASON</th>\n",
       "      <th>COMPETITION</th>\n",
       "      <th>GOALS_SCORED</th>\n",
       "      <th>NPXG</th>\n",
       "      <th>XG</th>\n",
       "      <th>SHOTS</th>\n",
       "      <th>SHOTS_ON_TARGET</th>\n",
       "      <th>PASS_COMPLETED</th>\n",
       "      <th>PASS_ATTEMPTED</th>\n",
       "      <th>TAKEONS_ATTEMPTED</th>\n",
       "      <th>TAKEONS_COMPLETED</th>\n",
       "      <th>CROSSES_INTO_PA</th>\n",
       "      <th>FOULS_AGAINST</th>\n",
       "      <th>COMPETITION_ACRONYM</th>\n",
       "      <th>TEAM_NAME</th>\n",
       "      <th>TEAM_LOGO_URL</th>\n",
       "      <th>TEAM_WS_ID</th>\n",
       "      <th>MATCHES_PLAYED</th>\n",
       "      <th>TEAM_WINS</th>\n",
       "      <th>TEAM_DRAWS</th>\n",
       "      <th>TEAM_LOSSES</th>\n",
       "      <th>TEAM_PTS</th>\n",
       "      <th>TEAM_XPTS</th>\n",
       "      <th>SHOTS PER GAME</th>\n",
       "      <th>CONVERSION RATE (%)</th>\n",
       "    </tr>\n",
       "  </thead>\n",
       "  <tbody>\n",
       "    <tr>\n",
       "      <th>0</th>\n",
       "      <td>7a54bb4f</td>\n",
       "      <td>2223</td>\n",
       "      <td>FRA-Ligue 1</td>\n",
       "      <td>23</td>\n",
       "      <td>24.22</td>\n",
       "      <td>31.06</td>\n",
       "      <td>311.0</td>\n",
       "      <td>81.0</td>\n",
       "      <td>11216.0</td>\n",
       "      <td>15286.0</td>\n",
       "      <td>630.0</td>\n",
       "      <td>283.0</td>\n",
       "      <td>71.0</td>\n",
       "      <td>495.0</td>\n",
       "      <td>Ligue 1</td>\n",
       "      <td>Ajaccio</td>\n",
       "      <td>https://i.imgur.com/FSm4pRb.png</td>\n",
       "      <td>610</td>\n",
       "      <td>38.0</td>\n",
       "      <td>7</td>\n",
       "      <td>5</td>\n",
       "      <td>26</td>\n",
       "      <td>26</td>\n",
       "      <td>33.12</td>\n",
       "      <td>8.184211</td>\n",
       "      <td>0.073955</td>\n",
       "    </tr>\n",
       "    <tr>\n",
       "      <th>1</th>\n",
       "      <td>e2d8892c</td>\n",
       "      <td>2223</td>\n",
       "      <td>FRA-Ligue 1</td>\n",
       "      <td>89</td>\n",
       "      <td>81.59</td>\n",
       "      <td>86.15</td>\n",
       "      <td>562.0</td>\n",
       "      <td>242.0</td>\n",
       "      <td>23694.0</td>\n",
       "      <td>26476.0</td>\n",
       "      <td>976.0</td>\n",
       "      <td>454.0</td>\n",
       "      <td>46.0</td>\n",
       "      <td>416.0</td>\n",
       "      <td>Ligue 1</td>\n",
       "      <td>Paris S-G</td>\n",
       "      <td>https://i.imgur.com/kuN3QSp.png</td>\n",
       "      <td>304</td>\n",
       "      <td>38.0</td>\n",
       "      <td>27</td>\n",
       "      <td>4</td>\n",
       "      <td>7</td>\n",
       "      <td>85</td>\n",
       "      <td>74.01</td>\n",
       "      <td>14.789474</td>\n",
       "      <td>0.158363</td>\n",
       "    </tr>\n",
       "    <tr>\n",
       "      <th>2</th>\n",
       "      <td>d2c87802</td>\n",
       "      <td>2223</td>\n",
       "      <td>FRA-Ligue 1</td>\n",
       "      <td>52</td>\n",
       "      <td>42.79</td>\n",
       "      <td>47.35</td>\n",
       "      <td>397.0</td>\n",
       "      <td>149.0</td>\n",
       "      <td>14837.0</td>\n",
       "      <td>18087.0</td>\n",
       "      <td>916.0</td>\n",
       "      <td>406.0</td>\n",
       "      <td>38.0</td>\n",
       "      <td>501.0</td>\n",
       "      <td>Ligue 1</td>\n",
       "      <td>Lorient</td>\n",
       "      <td>https://i.imgur.com/9k1Kgp6.png</td>\n",
       "      <td>146</td>\n",
       "      <td>38.0</td>\n",
       "      <td>15</td>\n",
       "      <td>10</td>\n",
       "      <td>13</td>\n",
       "      <td>55</td>\n",
       "      <td>42.43</td>\n",
       "      <td>10.447368</td>\n",
       "      <td>0.130982</td>\n",
       "    </tr>\n",
       "    <tr>\n",
       "      <th>3</th>\n",
       "      <td>fb08dbb3</td>\n",
       "      <td>2223</td>\n",
       "      <td>FRA-Ligue 1</td>\n",
       "      <td>44</td>\n",
       "      <td>35.32</td>\n",
       "      <td>41.40</td>\n",
       "      <td>417.0</td>\n",
       "      <td>132.0</td>\n",
       "      <td>12486.0</td>\n",
       "      <td>16452.0</td>\n",
       "      <td>655.0</td>\n",
       "      <td>270.0</td>\n",
       "      <td>94.0</td>\n",
       "      <td>462.0</td>\n",
       "      <td>Ligue 1</td>\n",
       "      <td>Brest</td>\n",
       "      <td>https://i.imgur.com/klKUp8n.png</td>\n",
       "      <td>2332</td>\n",
       "      <td>38.0</td>\n",
       "      <td>11</td>\n",
       "      <td>11</td>\n",
       "      <td>16</td>\n",
       "      <td>44</td>\n",
       "      <td>43.52</td>\n",
       "      <td>10.973684</td>\n",
       "      <td>0.105516</td>\n",
       "    </tr>\n",
       "    <tr>\n",
       "      <th>4</th>\n",
       "      <td>7fdd64e0</td>\n",
       "      <td>2223</td>\n",
       "      <td>FRA-Ligue 1</td>\n",
       "      <td>45</td>\n",
       "      <td>53.34</td>\n",
       "      <td>59.52</td>\n",
       "      <td>516.0</td>\n",
       "      <td>165.0</td>\n",
       "      <td>13670.0</td>\n",
       "      <td>17565.0</td>\n",
       "      <td>800.0</td>\n",
       "      <td>347.0</td>\n",
       "      <td>87.0</td>\n",
       "      <td>423.0</td>\n",
       "      <td>Ligue 1</td>\n",
       "      <td>Reims</td>\n",
       "      <td>https://i.imgur.com/xULypbI.png</td>\n",
       "      <td>950</td>\n",
       "      <td>38.0</td>\n",
       "      <td>12</td>\n",
       "      <td>15</td>\n",
       "      <td>11</td>\n",
       "      <td>51</td>\n",
       "      <td>55.35</td>\n",
       "      <td>13.578947</td>\n",
       "      <td>0.087209</td>\n",
       "    </tr>\n",
       "  </tbody>\n",
       "</table>\n",
       "</div>"
      ],
      "text/plain": [
       "  TEAM_FBREF_ID  SEASON  COMPETITION  GOALS_SCORED   NPXG     XG  SHOTS  \\\n",
       "0      7a54bb4f    2223  FRA-Ligue 1            23  24.22  31.06  311.0   \n",
       "1      e2d8892c    2223  FRA-Ligue 1            89  81.59  86.15  562.0   \n",
       "2      d2c87802    2223  FRA-Ligue 1            52  42.79  47.35  397.0   \n",
       "3      fb08dbb3    2223  FRA-Ligue 1            44  35.32  41.40  417.0   \n",
       "4      7fdd64e0    2223  FRA-Ligue 1            45  53.34  59.52  516.0   \n",
       "\n",
       "   SHOTS_ON_TARGET  PASS_COMPLETED  PASS_ATTEMPTED  TAKEONS_ATTEMPTED  \\\n",
       "0             81.0         11216.0         15286.0              630.0   \n",
       "1            242.0         23694.0         26476.0              976.0   \n",
       "2            149.0         14837.0         18087.0              916.0   \n",
       "3            132.0         12486.0         16452.0              655.0   \n",
       "4            165.0         13670.0         17565.0              800.0   \n",
       "\n",
       "   TAKEONS_COMPLETED  CROSSES_INTO_PA  FOULS_AGAINST COMPETITION_ACRONYM  \\\n",
       "0              283.0             71.0          495.0             Ligue 1   \n",
       "1              454.0             46.0          416.0             Ligue 1   \n",
       "2              406.0             38.0          501.0             Ligue 1   \n",
       "3              270.0             94.0          462.0             Ligue 1   \n",
       "4              347.0             87.0          423.0             Ligue 1   \n",
       "\n",
       "   TEAM_NAME                    TEAM_LOGO_URL  TEAM_WS_ID  MATCHES_PLAYED  \\\n",
       "0    Ajaccio  https://i.imgur.com/FSm4pRb.png         610            38.0   \n",
       "1  Paris S-G  https://i.imgur.com/kuN3QSp.png         304            38.0   \n",
       "2    Lorient  https://i.imgur.com/9k1Kgp6.png         146            38.0   \n",
       "3      Brest  https://i.imgur.com/klKUp8n.png        2332            38.0   \n",
       "4      Reims  https://i.imgur.com/xULypbI.png         950            38.0   \n",
       "\n",
       "   TEAM_WINS  TEAM_DRAWS  TEAM_LOSSES  TEAM_PTS  TEAM_XPTS  SHOTS PER GAME  \\\n",
       "0          7           5           26        26      33.12        8.184211   \n",
       "1         27           4            7        85      74.01       14.789474   \n",
       "2         15          10           13        55      42.43       10.447368   \n",
       "3         11          11           16        44      43.52       10.973684   \n",
       "4         12          15           11        51      55.35       13.578947   \n",
       "\n",
       "   CONVERSION RATE (%)  \n",
       "0             0.073955  \n",
       "1             0.158363  \n",
       "2             0.130982  \n",
       "3             0.105516  \n",
       "4             0.087209  "
      ]
     },
     "execution_count": 46,
     "metadata": {},
     "output_type": "execute_result"
    }
   ],
   "source": [
    "team_attacking.head()"
   ]
  },
  {
   "cell_type": "code",
   "execution_count": 47,
   "metadata": {},
   "outputs": [],
   "source": [
    "attacking_efficiency_chart = team_attacking[['SEASON', 'COMPETITION_ACRONYM', 'TEAM_NAME', 'TEAM_LOGO_URL',\n",
    "                                            'SHOTS PER GAME', 'CONVERSION RATE (%)']]"
   ]
  },
  {
   "cell_type": "code",
   "execution_count": 48,
   "metadata": {},
   "outputs": [],
   "source": [
    "def upsert_to_snowflake(table_name, dataframe, primary_keys):\n",
    "    if isinstance(primary_keys, str):\n",
    "        primary_keys = [primary_keys]\n",
    "\n",
    "    temp_table_name = f\"{table_name}_TEMP\"\n",
    "    success, nchunks, nrows, _ = write_pandas(conn, dataframe, temp_table_name, auto_create_table=True)\n",
    "\n",
    "    on_condition = ' AND '.join([f\"{table_name}.{pk} = {temp_table_name}.{pk}\" for pk in primary_keys])\n",
    "\n",
    "    update_columns = [col for col in dataframe.columns if col not in primary_keys]\n",
    "    update_sql = ', '.join([f\"{table_name}.{col} = {temp_table_name}.{col}\" for col in update_columns])\n",
    "\n",
    "    merge_sql = f\"\"\"\n",
    "    MERGE INTO {table_name} USING {temp_table_name}\n",
    "    ON {on_condition}\n",
    "    \"\"\"\n",
    "\n",
    "    if update_columns:\n",
    "        merge_sql += f\"\"\"\n",
    "        WHEN MATCHED THEN\n",
    "            UPDATE SET\n",
    "                {update_sql}\n",
    "        \"\"\"\n",
    "\n",
    "    merge_sql += f\"\"\"\n",
    "    WHEN NOT MATCHED THEN\n",
    "        INSERT ({', '.join(dataframe.columns)})\n",
    "        VALUES ({', '.join([f\"{temp_table_name}.{col}\" for col in dataframe.columns])})\n",
    "    \"\"\"\n",
    "\n",
    "    cur.execute(merge_sql)\n",
    "    cur.execute(f\"DROP TABLE IF EXISTS {temp_table_name}\")\n",
    "\n",
    "    print(f\"Upsert completed. {nrows} rows processed.\")"
   ]
  },
  {
   "cell_type": "code",
   "execution_count": 49,
   "metadata": {},
   "outputs": [
    {
     "data": {
      "text/plain": [
       "<snowflake.connector.cursor.SnowflakeCursor at 0x143e0865be0>"
      ]
     },
     "execution_count": 49,
     "metadata": {},
     "output_type": "execute_result"
    }
   ],
   "source": [
    "SNOWFLAKE_SCHEMA = 'RADAR_CHARTS'\n",
    "\n",
    "conn = snowflake.connector.connect(\n",
    "    user=SNOWFLAKE_USER,\n",
    "    password=SNOWFLAKE_PASSWORD,\n",
    "    account=SNOWFLAKE_ACCOUNT,\n",
    "    warehouse=SNOWFLAKE_WAREHOUSE,\n",
    "    database=SNOWFLAKE_DATABASE,\n",
    "    schema=SNOWFLAKE_SCHEMA\n",
    "    )\n",
    "\n",
    "cur = conn.cursor()\n",
    "cur.execute(f\"USE WAREHOUSE {SNOWFLAKE_WAREHOUSE}\")\n",
    "\n",
    "create_schema_sql = f\"CREATE SCHEMA IF NOT EXISTS {SNOWFLAKE_SCHEMA}\"\n",
    "cur.execute(create_schema_sql)"
   ]
  },
  {
   "cell_type": "code",
   "execution_count": 50,
   "metadata": {},
   "outputs": [],
   "source": [
    "create_table_query = \"\"\"\n",
    "CREATE TABLE IF NOT EXISTS TEAM_ATTACKING_EFFICIENCY_CHART (\n",
    "    SEASON INT,\n",
    "    COMPETITION_ACRONYM VARCHAR(255),\n",
    "    TEAM_NAME VARCHAR(255),\n",
    "    TEAM_LOGO_URL VARCHAR(255),\n",
    "    SHOTS_PER_GAME FLOAT,\n",
    "    CONVERSION_RATE FLOAT,\n",
    "    PRIMARY KEY (SEASON, COMPETITION_ACRONYM, TEAM_NAME)\n",
    ");\n",
    "\"\"\""
   ]
  },
  {
   "cell_type": "code",
   "execution_count": 51,
   "metadata": {},
   "outputs": [
    {
     "data": {
      "text/plain": [
       "<snowflake.connector.cursor.SnowflakeCursor at 0x143e0865be0>"
      ]
     },
     "execution_count": 51,
     "metadata": {},
     "output_type": "execute_result"
    }
   ],
   "source": [
    "cur.execute(create_table_query)"
   ]
  },
  {
   "cell_type": "code",
   "execution_count": 52,
   "metadata": {},
   "outputs": [],
   "source": [
    "attacking_efficiency_chart.columns = attacking_efficiency_chart.columns.str.replace(\" \", \"_\")"
   ]
  },
  {
   "cell_type": "code",
   "execution_count": 53,
   "metadata": {},
   "outputs": [],
   "source": [
    "attacking_efficiency_chart = attacking_efficiency_chart.rename({\"CONVERSION_RATE_(%)\":\"CONVERSION_RATE\"}, axis=1)"
   ]
  },
  {
   "cell_type": "code",
   "execution_count": 54,
   "metadata": {},
   "outputs": [],
   "source": [
    "attacking_efficiency_chart[\"CONVERSION_RATE\"] = attacking_efficiency_chart[\"CONVERSION_RATE\"] * 100"
   ]
  },
  {
   "cell_type": "code",
   "execution_count": 55,
   "metadata": {},
   "outputs": [
    {
     "name": "stdout",
     "output_type": "stream",
     "text": [
      "Upsert completed. 292 rows processed.\n"
     ]
    }
   ],
   "source": [
    "upsert_to_snowflake(\"TEAM_ATTACKING_EFFICIENCY_CHART\", attacking_efficiency_chart,\n",
    "                    ['SEASON', 'COMPETITION_ACRONYM', 'TEAM_NAME'])"
   ]
  },
  {
   "cell_type": "code",
   "execution_count": 56,
   "metadata": {},
   "outputs": [],
   "source": [
    "attacking_efficiency_chart = fetch_data(cursor, 'SELECT * FROM GEGENSTATS.RADAR_CHARTS.TEAM_ATTACKING_EFFICIENCY_CHART')"
   ]
  },
  {
   "cell_type": "code",
   "execution_count": 57,
   "metadata": {},
   "outputs": [],
   "source": [
    "attacking_efficiency_chart.rename(columns={'CONVERSION_RATE':'CONVERSION RATE (%)',\n",
    "                                'SHOTS_PER_GAME':'SHOTS PER GAME'}, inplace=True)"
   ]
  },
  {
   "cell_type": "code",
   "execution_count": 58,
   "metadata": {},
   "outputs": [],
   "source": [
    "def create_FM_team_scatter_chart(df, chart_name, team_name, x_axis_label, y_axis_label, img_size, x_min, x_max, y_min, y_max, bottom_left_label, \n",
    "                                 bottom_right_label, top_left_label, top_right_label, bl_color, br_color, tl_color, tr_color):\n",
    "    fig = go.Figure()\n",
    "    x_axis_mean_val = df[x_axis_label].mean()\n",
    "    y_axis_mean_val = df[y_axis_label].mean()\n",
    "\n",
    "    # Add the scatter plot points\n",
    "    for index, row in df.iterrows():\n",
    "        fig.add_trace(go.Scatter(\n",
    "            x=[row[x_axis_label]],\n",
    "            y=[row[y_axis_label]],\n",
    "            mode='markers',\n",
    "            text=row[\"TEAM_NAME\"],\n",
    "            marker=dict(\n",
    "                opacity=0\n",
    "            ),\n",
    "            hoverinfo='text',\n",
    "        ))\n",
    "\n",
    "        # Add team logo as a layout_image\n",
    "        fig.add_layout_image(\n",
    "            dict(\n",
    "                source=row[\"TEAM_LOGO_URL\"],\n",
    "                x=row[x_axis_label],\n",
    "                y=row[y_axis_label],\n",
    "                xref=\"x\",\n",
    "                yref=\"y\",\n",
    "                xanchor=\"center\",\n",
    "                yanchor=\"middle\"\n",
    "            )\n",
    "        )\n",
    "\n",
    "\n",
    "    # Update axes and layout as necessary\n",
    "    # ...\n",
    "        \n",
    "    fig.update_xaxes(range=[x_min, x_max], title=x_axis_label)\n",
    "    fig.update_yaxes(range=[y_min, y_max], title=y_axis_label)\n",
    "\n",
    "    fig.add_shape(\n",
    "        type='line',\n",
    "        x0=x_axis_mean_val, y0=fig.layout.yaxis.range[0],  # start of the line\n",
    "        x1=x_axis_mean_val, y1=fig.layout.yaxis.range[1],  # end of the line\n",
    "        line=dict(color='White', width=3),\n",
    "        layer='below'\n",
    "    )\n",
    "\n",
    "    # Add a horizontal line at the mean aerials attempted per game\n",
    "    fig.add_shape(\n",
    "        type='line',\n",
    "        x0=fig.layout.xaxis.range[0], y0=y_axis_mean_val,  # start of the line\n",
    "        x1=fig.layout.xaxis.range[1], y1=y_axis_mean_val,  # end of the line\n",
    "        line=dict(color='White', width=3),\n",
    "        layer='below'\n",
    "    )\n",
    "\n",
    "    fig.update_layout(\n",
    "        width=625,\n",
    "        height=625,\n",
    "        showlegend=False,\n",
    "        paper_bgcolor='rgb(70, 70, 70)',\n",
    "        plot_bgcolor='rgb(70, 70, 70)',\n",
    "        font=dict(\n",
    "                family=\"Roboto, sans-serif\",  # Specify the font family\n",
    "                size=25,                     # Specify the font size\n",
    "                color=\"white\"                # Specify the font color\n",
    "            ),\n",
    "        hoverlabel=dict(\n",
    "                bgcolor=\"rgba(20, 20, 20, 0.8)\",\n",
    "                font_family=\"Roboto, sans-serif\"),\n",
    "        title={\n",
    "            'text': f'{chart_name}',\n",
    "            'y':0.98,  # Sets the y position of the title (1 is the top of the figure)\n",
    "            'x':0.5,  # Centers the title horizontally (0.5 is the center of the figure)\n",
    "            'xanchor': 'center',  # Ensures the title is centered at the x position\n",
    "            'yanchor': 'top',  # Ensures the title is at the top of the y position\n",
    "            'font': dict(\n",
    "                family=\"Roboto, sans-serif\",  # Specify the font family\n",
    "                size=23,                     # Specify the font size\n",
    "                color=\"white\"                # Specify the font color\n",
    "            )\n",
    "        },\n",
    "        margin=dict(l=10, r=30, t=50, b=10),\n",
    "        images= [dict(\n",
    "            source= row[\"TEAM_LOGO_URL\"],\n",
    "            xref=\"x\",\n",
    "            yref=\"y\",\n",
    "            x= row[x_axis_label],\n",
    "            y= row[y_axis_label],\n",
    "            sizex=img_size*1.8 if row['TEAM_NAME'] == team_name else img_size,  # The size of the image in x axis units\n",
    "            sizey=img_size*1.8 if row['TEAM_NAME'] == team_name else img_size,  # The size of the image in y axis units\n",
    "            sizing=\"contain\",\n",
    "            opacity=1 if row['TEAM_NAME'] == team_name else 0.35,\n",
    "            layer=\"above\") for index, row in df.iterrows()]\n",
    "    )\n",
    "\n",
    "    fig.update_xaxes(\n",
    "        title=dict(font=dict(size=25)),\n",
    "        showline=True,  # Show the axis line\n",
    "        linewidth=2,  # Width of the axis line\n",
    "        linecolor='white',  # Color of the axis line\n",
    "        gridcolor='rgba(0,0,0,0)',  # Set grid line color to transparent\n",
    "        tickfont=dict(color='white', size=15),  # Set the color of the axis ticks (numbers)\n",
    "    )\n",
    "\n",
    "    fig.update_yaxes(\n",
    "        title=dict(font=dict(size=25)),\n",
    "        showline=True,\n",
    "        linewidth=2,\n",
    "        linecolor='white',\n",
    "        gridcolor='rgba(0,0,0,0)',\n",
    "        tickfont=dict(color='white', size=15),\n",
    "    )\n",
    "\n",
    "    fig.add_annotation(text=bottom_left_label,\n",
    "                    xref=\"paper\", yref=\"paper\",\n",
    "                    x=0, y=0,  # Bottom left corner\n",
    "                    showarrow=False,\n",
    "                    font=dict(size=15, color=bl_color, family=\"Roboto, sans-serif\"),\n",
    "                    align=\"left\")\n",
    "\n",
    "    fig.add_annotation(text=top_left_label,\n",
    "                    xref=\"paper\", yref=\"paper\",\n",
    "                    x=0, y=1,  # Top left corner\n",
    "                    showarrow=False,\n",
    "                    font=dict(size=15, color=tl_color, family=\"Roboto, sans-serif\"),\n",
    "                    align=\"left\")\n",
    "\n",
    "    fig.add_annotation(text=top_right_label,\n",
    "                    xref=\"paper\", yref=\"paper\",\n",
    "                    x=1, y=1,  # Top right corner\n",
    "                    showarrow=False,\n",
    "                    font=dict(size=15, color=tr_color, family=\"Roboto, sans-serif\"),\n",
    "                    align=\"right\")\n",
    "\n",
    "    fig.add_annotation(text=bottom_right_label,\n",
    "                    xref=\"paper\", yref=\"paper\",\n",
    "                    x=1, y=0,  # Bottom right corner\n",
    "                    showarrow=False,\n",
    "                    font=dict(size=15, color=br_color, family=\"Roboto, sans-serif\"),\n",
    "                    align=\"right\")\n",
    "\n",
    "    return fig"
   ]
  },
  {
   "cell_type": "code",
   "execution_count": 59,
   "metadata": {},
   "outputs": [
    {
     "data": {
      "text/html": [
       "<div>\n",
       "<style scoped>\n",
       "    .dataframe tbody tr th:only-of-type {\n",
       "        vertical-align: middle;\n",
       "    }\n",
       "\n",
       "    .dataframe tbody tr th {\n",
       "        vertical-align: top;\n",
       "    }\n",
       "\n",
       "    .dataframe thead th {\n",
       "        text-align: right;\n",
       "    }\n",
       "</style>\n",
       "<table border=\"1\" class=\"dataframe\">\n",
       "  <thead>\n",
       "    <tr style=\"text-align: right;\">\n",
       "      <th></th>\n",
       "      <th>SEASON</th>\n",
       "      <th>COMPETITION_ACRONYM</th>\n",
       "      <th>TEAM_NAME</th>\n",
       "      <th>TEAM_LOGO_URL</th>\n",
       "      <th>SHOTS PER GAME</th>\n",
       "      <th>CONVERSION RATE (%)</th>\n",
       "    </tr>\n",
       "  </thead>\n",
       "  <tbody>\n",
       "    <tr>\n",
       "      <th>0</th>\n",
       "      <td>2223</td>\n",
       "      <td>Ligue 1</td>\n",
       "      <td>Ajaccio</td>\n",
       "      <td>https://i.imgur.com/FSm4pRb.png</td>\n",
       "      <td>8.184211</td>\n",
       "      <td>7.395498</td>\n",
       "    </tr>\n",
       "    <tr>\n",
       "      <th>1</th>\n",
       "      <td>2223</td>\n",
       "      <td>Ligue 1</td>\n",
       "      <td>Paris S-G</td>\n",
       "      <td>https://i.imgur.com/kuN3QSp.png</td>\n",
       "      <td>14.789474</td>\n",
       "      <td>15.836299</td>\n",
       "    </tr>\n",
       "    <tr>\n",
       "      <th>2</th>\n",
       "      <td>2223</td>\n",
       "      <td>Ligue 1</td>\n",
       "      <td>Lorient</td>\n",
       "      <td>https://i.imgur.com/9k1Kgp6.png</td>\n",
       "      <td>10.447368</td>\n",
       "      <td>13.098237</td>\n",
       "    </tr>\n",
       "    <tr>\n",
       "      <th>3</th>\n",
       "      <td>2223</td>\n",
       "      <td>Ligue 1</td>\n",
       "      <td>Brest</td>\n",
       "      <td>https://i.imgur.com/klKUp8n.png</td>\n",
       "      <td>10.973684</td>\n",
       "      <td>10.551559</td>\n",
       "    </tr>\n",
       "    <tr>\n",
       "      <th>4</th>\n",
       "      <td>2223</td>\n",
       "      <td>Ligue 1</td>\n",
       "      <td>Reims</td>\n",
       "      <td>https://i.imgur.com/xULypbI.png</td>\n",
       "      <td>13.578947</td>\n",
       "      <td>8.720930</td>\n",
       "    </tr>\n",
       "  </tbody>\n",
       "</table>\n",
       "</div>"
      ],
      "text/plain": [
       "   SEASON COMPETITION_ACRONYM  TEAM_NAME                    TEAM_LOGO_URL  \\\n",
       "0    2223             Ligue 1    Ajaccio  https://i.imgur.com/FSm4pRb.png   \n",
       "1    2223             Ligue 1  Paris S-G  https://i.imgur.com/kuN3QSp.png   \n",
       "2    2223             Ligue 1    Lorient  https://i.imgur.com/9k1Kgp6.png   \n",
       "3    2223             Ligue 1      Brest  https://i.imgur.com/klKUp8n.png   \n",
       "4    2223             Ligue 1      Reims  https://i.imgur.com/xULypbI.png   \n",
       "\n",
       "   SHOTS PER GAME  CONVERSION RATE (%)  \n",
       "0        8.184211             7.395498  \n",
       "1       14.789474            15.836299  \n",
       "2       10.447368            13.098237  \n",
       "3       10.973684            10.551559  \n",
       "4       13.578947             8.720930  "
      ]
     },
     "execution_count": 59,
     "metadata": {},
     "output_type": "execute_result"
    }
   ],
   "source": [
    "attacking_efficiency_chart.head()"
   ]
  },
  {
   "cell_type": "code",
   "execution_count": 60,
   "metadata": {},
   "outputs": [],
   "source": [
    "season_selected = 2324\n",
    "league_selected = \"EPL\""
   ]
  },
  {
   "cell_type": "code",
   "execution_count": 61,
   "metadata": {},
   "outputs": [],
   "source": [
    "filt_attacking_efficiency_chart = attacking_efficiency_chart[attacking_efficiency_chart['SEASON'] == season_selected]\n",
    "filt_attacking_efficiency_chart = filt_attacking_efficiency_chart[filt_attacking_efficiency_chart['COMPETITION_ACRONYM'] == league_selected]"
   ]
  },
  {
   "cell_type": "code",
   "execution_count": 62,
   "metadata": {},
   "outputs": [
    {
     "data": {
      "application/vnd.plotly.v1+json": {
       "config": {
        "plotlyServerURL": "https://plotly.com"
       },
       "data": [
        {
         "hoverinfo": "text",
         "marker": {
          "opacity": 0
         },
         "mode": "markers",
         "text": "Arsenal",
         "type": "scatter",
         "x": [
          14.064914992272023
         ],
         "y": [
          17.026315789473685
         ]
        },
        {
         "hoverinfo": "text",
         "marker": {
          "opacity": 0
         },
         "mode": "markers",
         "text": "Aston Villa",
         "type": "scatter",
         "x": [
          14.87279843444227
         ],
         "y": [
          13.447368421052632
         ]
        },
        {
         "hoverinfo": "text",
         "marker": {
          "opacity": 0
         },
         "mode": "markers",
         "text": "Bournemouth",
         "type": "scatter",
         "x": [
          10.018552875695732
         ],
         "y": [
          14.18421052631579
         ]
        },
        {
         "hoverinfo": "text",
         "marker": {
          "opacity": 0
         },
         "mode": "markers",
         "text": "Brentford",
         "type": "scatter",
         "x": [
          11.914893617021278
         ],
         "y": [
          12.368421052631579
         ]
        },
        {
         "hoverinfo": "text",
         "marker": {
          "opacity": 0
         },
         "mode": "markers",
         "text": "Brighton",
         "type": "scatter",
         "x": [
          9.90990990990991
         ],
         "y": [
          14.605263157894736
         ]
        },
        {
         "hoverinfo": "text",
         "marker": {
          "opacity": 0
         },
         "mode": "markers",
         "text": "Burnley",
         "type": "scatter",
         "x": [
          9.534883720930234
         ],
         "y": [
          11.31578947368421
         ]
        },
        {
         "hoverinfo": "text",
         "marker": {
          "opacity": 0
         },
         "mode": "markers",
         "text": "Chelsea",
         "type": "scatter",
         "x": [
          14.338919925512103
         ],
         "y": [
          14.131578947368421
         ]
        },
        {
         "hoverinfo": "text",
         "marker": {
          "opacity": 0
         },
         "mode": "markers",
         "text": "Crystal Palace",
         "type": "scatter",
         "x": [
          12.610619469026549
         ],
         "y": [
          11.894736842105264
         ]
        },
        {
         "hoverinfo": "text",
         "marker": {
          "opacity": 0
         },
         "mode": "markers",
         "text": "Everton",
         "type": "scatter",
         "x": [
          7.936507936507936
         ],
         "y": [
          13.263157894736842
         ]
        },
        {
         "hoverinfo": "text",
         "marker": {
          "opacity": 0
         },
         "mode": "markers",
         "text": "Fulham",
         "type": "scatter",
         "x": [
          11.022044088176353
         ],
         "y": [
          13.131578947368421
         ]
        },
        {
         "hoverinfo": "text",
         "marker": {
          "opacity": 0
         },
         "mode": "markers",
         "text": "Liverpool",
         "type": "scatter",
         "x": [
          11.011523687580025
         ],
         "y": [
          20.55263157894737
         ]
        },
        {
         "hoverinfo": "text",
         "marker": {
          "opacity": 0
         },
         "mode": "markers",
         "text": "Luton Town",
         "type": "scatter",
         "x": [
          12.177985948477751
         ],
         "y": [
          11.236842105263158
         ]
        },
        {
         "hoverinfo": "text",
         "marker": {
          "opacity": 0
         },
         "mode": "markers",
         "text": "Manchester City",
         "type": "scatter",
         "x": [
          14.055636896046853
         ],
         "y": [
          17.973684210526315
         ]
        },
        {
         "hoverinfo": "text",
         "marker": {
          "opacity": 0
         },
         "mode": "markers",
         "text": "Manchester Utd",
         "type": "scatter",
         "x": [
          10.497237569060774
         ],
         "y": [
          14.289473684210526
         ]
        },
        {
         "hoverinfo": "text",
         "marker": {
          "opacity": 0
         },
         "mode": "markers",
         "text": "Newcastle Utd",
         "type": "scatter",
         "x": [
          15.682656826568268
         ],
         "y": [
          14.263157894736842
         ]
        },
        {
         "hoverinfo": "text",
         "marker": {
          "opacity": 0
         },
         "mode": "markers",
         "text": "Nott'ham Forest",
         "type": "scatter",
         "x": [
          10.888888888888888
         ],
         "y": [
          11.842105263157896
         ]
        },
        {
         "hoverinfo": "text",
         "marker": {
          "opacity": 0
         },
         "mode": "markers",
         "text": "Sheffield Utd",
         "type": "scatter",
         "x": [
          9.722222222222223
         ],
         "y": [
          9.473684210526315
         ]
        },
        {
         "hoverinfo": "text",
         "marker": {
          "opacity": 0
         },
         "mode": "markers",
         "text": "Tottenham",
         "type": "scatter",
         "x": [
          12.714776632302405
         ],
         "y": [
          15.31578947368421
         ]
        },
        {
         "hoverinfo": "text",
         "marker": {
          "opacity": 0
         },
         "mode": "markers",
         "text": "West Ham",
         "type": "scatter",
         "x": [
          13.48314606741573
         ],
         "y": [
          11.710526315789474
         ]
        },
        {
         "hoverinfo": "text",
         "marker": {
          "opacity": 0
         },
         "mode": "markers",
         "text": "Wolves",
         "type": "scatter",
         "x": [
          11.76470588235294
         ],
         "y": [
          11.18421052631579
         ]
        }
       ],
       "layout": {
        "annotations": [
         {
          "align": "left",
          "font": {
           "color": "red",
           "family": "Roboto, sans-serif",
           "size": 15
          },
          "showarrow": false,
          "text": "Passive Shooting<br>Wasteful Shooting",
          "x": 0,
          "xref": "paper",
          "y": 0,
          "yref": "paper"
         },
         {
          "align": "left",
          "font": {
           "color": "orange",
           "family": "Roboto, sans-serif",
           "size": 15
          },
          "showarrow": false,
          "text": "Aggressive Shooting<br>Wasteful Shooting",
          "x": 0,
          "xref": "paper",
          "y": 1,
          "yref": "paper"
         },
         {
          "align": "right",
          "font": {
           "color": "green",
           "family": "Roboto, sans-serif",
           "size": 15
          },
          "showarrow": false,
          "text": "Aggressive Shooting<br>Clinical Shooting",
          "x": 1,
          "xref": "paper",
          "y": 1,
          "yref": "paper"
         },
         {
          "align": "right",
          "font": {
           "color": "orange",
           "family": "Roboto, sans-serif",
           "size": 15
          },
          "showarrow": false,
          "text": "Passive Shooting<br>Clinical Shooting",
          "x": 1,
          "xref": "paper",
          "y": 0,
          "yref": "paper"
         }
        ],
        "font": {
         "color": "white",
         "family": "Roboto, sans-serif",
         "size": 25
        },
        "height": 625,
        "hoverlabel": {
         "bgcolor": "rgba(20, 20, 20, 0.8)",
         "font": {
          "family": "Roboto, sans-serif"
         }
        },
        "images": [
         {
          "layer": "above",
          "opacity": 0.35,
          "sizex": 0.7,
          "sizey": 0.7,
          "sizing": "contain",
          "source": "https://i.imgur.com/SURo5sj.png",
          "x": 14.064914992272023,
          "xanchor": "center",
          "xref": "x",
          "y": 17.026315789473685,
          "yanchor": "middle",
          "yref": "y"
         },
         {
          "layer": "above",
          "opacity": 0.35,
          "sizex": 0.7,
          "sizey": 0.7,
          "sizing": "contain",
          "source": "https://i.imgur.com/M4mwH1X.png",
          "x": 14.87279843444227,
          "xanchor": "center",
          "xref": "x",
          "y": 13.447368421052632,
          "yanchor": "middle",
          "yref": "y"
         },
         {
          "layer": "above",
          "opacity": 0.35,
          "sizex": 0.7,
          "sizey": 0.7,
          "sizing": "contain",
          "source": "https://i.imgur.com/0F6UIO4.png",
          "x": 10.018552875695732,
          "xanchor": "center",
          "xref": "x",
          "y": 14.18421052631579,
          "yanchor": "middle",
          "yref": "y"
         },
         {
          "layer": "above",
          "opacity": 0.35,
          "sizex": 0.7,
          "sizey": 0.7,
          "sizing": "contain",
          "source": "https://i.imgur.com/MOhGOQ4.png",
          "x": 11.914893617021278,
          "xanchor": "center",
          "xref": "x",
          "y": 12.368421052631579,
          "yanchor": "middle",
          "yref": "y"
         },
         {
          "layer": "above",
          "opacity": 0.35,
          "sizex": 0.7,
          "sizey": 0.7,
          "sizing": "contain",
          "source": "https://i.imgur.com/EMCwD3X.png",
          "x": 9.90990990990991,
          "xanchor": "center",
          "xref": "x",
          "y": 14.605263157894736,
          "yanchor": "middle",
          "yref": "y"
         },
         {
          "layer": "above",
          "opacity": 0.35,
          "sizex": 0.7,
          "sizey": 0.7,
          "sizing": "contain",
          "source": "https://i.imgur.com/6IDi9XJ.png",
          "x": 9.534883720930234,
          "xanchor": "center",
          "xref": "x",
          "y": 11.31578947368421,
          "yanchor": "middle",
          "yref": "y"
         },
         {
          "layer": "above",
          "opacity": 0.35,
          "sizex": 0.7,
          "sizey": 0.7,
          "sizing": "contain",
          "source": "https://i.imgur.com/6F7h3UR.png",
          "x": 14.338919925512103,
          "xanchor": "center",
          "xref": "x",
          "y": 14.131578947368421,
          "yanchor": "middle",
          "yref": "y"
         },
         {
          "layer": "above",
          "opacity": 0.35,
          "sizex": 0.7,
          "sizey": 0.7,
          "sizing": "contain",
          "source": "https://i.imgur.com/LPhzr0K.png",
          "x": 12.610619469026549,
          "xanchor": "center",
          "xref": "x",
          "y": 11.894736842105264,
          "yanchor": "middle",
          "yref": "y"
         },
         {
          "layer": "above",
          "opacity": 0.35,
          "sizex": 0.7,
          "sizey": 0.7,
          "sizing": "contain",
          "source": "https://i.imgur.com/Dgei0uj.png",
          "x": 7.936507936507936,
          "xanchor": "center",
          "xref": "x",
          "y": 13.263157894736842,
          "yanchor": "middle",
          "yref": "y"
         },
         {
          "layer": "above",
          "opacity": 0.35,
          "sizex": 0.7,
          "sizey": 0.7,
          "sizing": "contain",
          "source": "https://i.imgur.com/2zggSrF.png",
          "x": 11.022044088176353,
          "xanchor": "center",
          "xref": "x",
          "y": 13.131578947368421,
          "yanchor": "middle",
          "yref": "y"
         },
         {
          "layer": "above",
          "opacity": 0.35,
          "sizex": 0.7,
          "sizey": 0.7,
          "sizing": "contain",
          "source": "https://i.imgur.com/fs7VK9G.png",
          "x": 11.011523687580025,
          "xanchor": "center",
          "xref": "x",
          "y": 20.55263157894737,
          "yanchor": "middle",
          "yref": "y"
         },
         {
          "layer": "above",
          "opacity": 0.35,
          "sizex": 0.7,
          "sizey": 0.7,
          "sizing": "contain",
          "source": "https://i.imgur.com/vHHqKJX.png",
          "x": 12.177985948477751,
          "xanchor": "center",
          "xref": "x",
          "y": 11.236842105263158,
          "yanchor": "middle",
          "yref": "y"
         },
         {
          "layer": "above",
          "opacity": 0.35,
          "sizex": 0.7,
          "sizey": 0.7,
          "sizing": "contain",
          "source": "https://i.imgur.com/FF8z7uZ.png",
          "x": 14.055636896046853,
          "xanchor": "center",
          "xref": "x",
          "y": 17.973684210526315,
          "yanchor": "middle",
          "yref": "y"
         },
         {
          "layer": "above",
          "opacity": 0.35,
          "sizex": 0.7,
          "sizey": 0.7,
          "sizing": "contain",
          "source": "https://i.imgur.com/z47emBQ.png",
          "x": 10.497237569060774,
          "xanchor": "center",
          "xref": "x",
          "y": 14.289473684210526,
          "yanchor": "middle",
          "yref": "y"
         },
         {
          "layer": "above",
          "opacity": 0.35,
          "sizex": 0.7,
          "sizey": 0.7,
          "sizing": "contain",
          "source": "https://i.imgur.com/3kOLokZ.png",
          "x": 15.682656826568268,
          "xanchor": "center",
          "xref": "x",
          "y": 14.263157894736842,
          "yanchor": "middle",
          "yref": "y"
         },
         {
          "layer": "above",
          "opacity": 0.35,
          "sizex": 0.7,
          "sizey": 0.7,
          "sizing": "contain",
          "source": "https://i.imgur.com/z4Tl9Zu.png",
          "x": 10.888888888888888,
          "xanchor": "center",
          "xref": "x",
          "y": 11.842105263157896,
          "yanchor": "middle",
          "yref": "y"
         },
         {
          "layer": "above",
          "opacity": 0.35,
          "sizex": 0.7,
          "sizey": 0.7,
          "sizing": "contain",
          "source": "https://i.imgur.com/eeBetFN.png",
          "x": 9.722222222222223,
          "xanchor": "center",
          "xref": "x",
          "y": 9.473684210526315,
          "yanchor": "middle",
          "yref": "y"
         },
         {
          "layer": "above",
          "opacity": 0.35,
          "sizex": 0.7,
          "sizey": 0.7,
          "sizing": "contain",
          "source": "https://i.imgur.com/fJ7rUWW.png",
          "x": 12.714776632302405,
          "xanchor": "center",
          "xref": "x",
          "y": 15.31578947368421,
          "yanchor": "middle",
          "yref": "y"
         },
         {
          "layer": "above",
          "opacity": 0.35,
          "sizex": 0.7,
          "sizey": 0.7,
          "sizing": "contain",
          "source": "https://i.imgur.com/9BQHJRl.png",
          "x": 13.48314606741573,
          "xanchor": "center",
          "xref": "x",
          "y": 11.710526315789474,
          "yanchor": "middle",
          "yref": "y"
         },
         {
          "layer": "above",
          "opacity": 0.35,
          "sizex": 0.7,
          "sizey": 0.7,
          "sizing": "contain",
          "source": "https://i.imgur.com/6azSF88.png",
          "x": 11.76470588235294,
          "xanchor": "center",
          "xref": "x",
          "y": 11.18421052631579,
          "yanchor": "middle",
          "yref": "y"
         }
        ],
        "margin": {
         "b": 10,
         "l": 10,
         "r": 30,
         "t": 50
        },
        "paper_bgcolor": "rgb(70, 70, 70)",
        "plot_bgcolor": "rgb(70, 70, 70)",
        "shapes": [
         {
          "layer": "below",
          "line": {
           "color": "White",
           "width": 3
          },
          "type": "line",
          "x0": 11.91114127952051,
          "x1": 11.91114127952051,
          "y0": 7,
          "y1": 21
         },
         {
          "layer": "below",
          "line": {
           "color": "White",
           "width": 3
          },
          "type": "line",
          "x0": 5,
          "x1": 20,
          "y0": 13.660526315789474,
          "y1": 13.660526315789474
         }
        ],
        "showlegend": false,
        "template": {
         "data": {
          "candlestick": [
           {
            "decreasing": {
             "line": {
              "color": "#000033"
             }
            },
            "increasing": {
             "line": {
              "color": "#000032"
             }
            },
            "type": "candlestick"
           }
          ],
          "contour": [
           {
            "colorscale": [
             [
              0,
              "#000011"
             ],
             [
              0.1111111111111111,
              "#000012"
             ],
             [
              0.2222222222222222,
              "#000013"
             ],
             [
              0.3333333333333333,
              "#000014"
             ],
             [
              0.4444444444444444,
              "#000015"
             ],
             [
              0.5555555555555556,
              "#000016"
             ],
             [
              0.6666666666666666,
              "#000017"
             ],
             [
              0.7777777777777778,
              "#000018"
             ],
             [
              0.8888888888888888,
              "#000019"
             ],
             [
              1,
              "#000020"
             ]
            ],
            "type": "contour"
           }
          ],
          "contourcarpet": [
           {
            "colorscale": [
             [
              0,
              "#000011"
             ],
             [
              0.1111111111111111,
              "#000012"
             ],
             [
              0.2222222222222222,
              "#000013"
             ],
             [
              0.3333333333333333,
              "#000014"
             ],
             [
              0.4444444444444444,
              "#000015"
             ],
             [
              0.5555555555555556,
              "#000016"
             ],
             [
              0.6666666666666666,
              "#000017"
             ],
             [
              0.7777777777777778,
              "#000018"
             ],
             [
              0.8888888888888888,
              "#000019"
             ],
             [
              1,
              "#000020"
             ]
            ],
            "type": "contourcarpet"
           }
          ],
          "heatmap": [
           {
            "colorscale": [
             [
              0,
              "#000011"
             ],
             [
              0.1111111111111111,
              "#000012"
             ],
             [
              0.2222222222222222,
              "#000013"
             ],
             [
              0.3333333333333333,
              "#000014"
             ],
             [
              0.4444444444444444,
              "#000015"
             ],
             [
              0.5555555555555556,
              "#000016"
             ],
             [
              0.6666666666666666,
              "#000017"
             ],
             [
              0.7777777777777778,
              "#000018"
             ],
             [
              0.8888888888888888,
              "#000019"
             ],
             [
              1,
              "#000020"
             ]
            ],
            "type": "heatmap"
           }
          ],
          "histogram2d": [
           {
            "colorscale": [
             [
              0,
              "#000011"
             ],
             [
              0.1111111111111111,
              "#000012"
             ],
             [
              0.2222222222222222,
              "#000013"
             ],
             [
              0.3333333333333333,
              "#000014"
             ],
             [
              0.4444444444444444,
              "#000015"
             ],
             [
              0.5555555555555556,
              "#000016"
             ],
             [
              0.6666666666666666,
              "#000017"
             ],
             [
              0.7777777777777778,
              "#000018"
             ],
             [
              0.8888888888888888,
              "#000019"
             ],
             [
              1,
              "#000020"
             ]
            ],
            "type": "histogram2d"
           }
          ],
          "icicle": [
           {
            "textfont": {
             "color": "white"
            },
            "type": "icicle"
           }
          ],
          "sankey": [
           {
            "textfont": {
             "color": "#000036"
            },
            "type": "sankey"
           }
          ],
          "scatter": [
           {
            "marker": {
             "line": {
              "width": 0
             }
            },
            "type": "scatter"
           }
          ],
          "table": [
           {
            "cells": {
             "fill": {
              "color": "#000038"
             },
             "font": {
              "color": "#000037"
             },
             "line": {
              "color": "#000039"
             }
            },
            "header": {
             "fill": {
              "color": "#000040"
             },
             "font": {
              "color": "#000036"
             },
             "line": {
              "color": "#000039"
             }
            },
            "type": "table"
           }
          ],
          "waterfall": [
           {
            "connector": {
             "line": {
              "color": "#000036",
              "width": 2
             }
            },
            "decreasing": {
             "marker": {
              "color": "#000033"
             }
            },
            "increasing": {
             "marker": {
              "color": "#000032"
             }
            },
            "totals": {
             "marker": {
              "color": "#000034"
             }
            },
            "type": "waterfall"
           }
          ]
         },
         "layout": {
          "coloraxis": {
           "colorscale": [
            [
             0,
             "#000011"
            ],
            [
             0.1111111111111111,
             "#000012"
            ],
            [
             0.2222222222222222,
             "#000013"
            ],
            [
             0.3333333333333333,
             "#000014"
            ],
            [
             0.4444444444444444,
             "#000015"
            ],
            [
             0.5555555555555556,
             "#000016"
            ],
            [
             0.6666666666666666,
             "#000017"
            ],
            [
             0.7777777777777778,
             "#000018"
            ],
            [
             0.8888888888888888,
             "#000019"
            ],
            [
             1,
             "#000020"
            ]
           ]
          },
          "colorscale": {
           "diverging": [
            [
             0,
             "#000021"
            ],
            [
             0.1,
             "#000022"
            ],
            [
             0.2,
             "#000023"
            ],
            [
             0.3,
             "#000024"
            ],
            [
             0.4,
             "#000025"
            ],
            [
             0.5,
             "#000026"
            ],
            [
             0.6,
             "#000027"
            ],
            [
             0.7,
             "#000028"
            ],
            [
             0.8,
             "#000029"
            ],
            [
             0.9,
             "#000030"
            ],
            [
             1,
             "#000031"
            ]
           ],
           "sequential": [
            [
             0,
             "#000011"
            ],
            [
             0.1111111111111111,
             "#000012"
            ],
            [
             0.2222222222222222,
             "#000013"
            ],
            [
             0.3333333333333333,
             "#000014"
            ],
            [
             0.4444444444444444,
             "#000015"
            ],
            [
             0.5555555555555556,
             "#000016"
            ],
            [
             0.6666666666666666,
             "#000017"
            ],
            [
             0.7777777777777778,
             "#000018"
            ],
            [
             0.8888888888888888,
             "#000019"
            ],
            [
             1,
             "#000020"
            ]
           ],
           "sequentialminus": [
            [
             0,
             "#000011"
            ],
            [
             0.1111111111111111,
             "#000012"
            ],
            [
             0.2222222222222222,
             "#000013"
            ],
            [
             0.3333333333333333,
             "#000014"
            ],
            [
             0.4444444444444444,
             "#000015"
            ],
            [
             0.5555555555555556,
             "#000016"
            ],
            [
             0.6666666666666666,
             "#000017"
            ],
            [
             0.7777777777777778,
             "#000018"
            ],
            [
             0.8888888888888888,
             "#000019"
            ],
            [
             1,
             "#000020"
            ]
           ]
          },
          "colorway": [
           "#000001",
           "#000002",
           "#000003",
           "#000004",
           "#000005",
           "#000006",
           "#000007",
           "#000008",
           "#000009",
           "#000010"
          ]
         }
        },
        "title": {
         "font": {
          "color": "white",
          "family": "Roboto, sans-serif",
          "size": 23
         },
         "text": "ATTACKING EFFICIENCY",
         "x": 0.5,
         "xanchor": "center",
         "y": 0.98,
         "yanchor": "top"
        },
        "width": 625,
        "xaxis": {
         "gridcolor": "rgba(0,0,0,0)",
         "linecolor": "white",
         "linewidth": 2,
         "range": [
          5,
          20
         ],
         "showline": true,
         "tickfont": {
          "color": "white",
          "size": 15
         },
         "title": {
          "font": {
           "size": 25
          },
          "text": "CONVERSION RATE (%)"
         }
        },
        "yaxis": {
         "gridcolor": "rgba(0,0,0,0)",
         "linecolor": "white",
         "linewidth": 2,
         "range": [
          7,
          21
         ],
         "showline": true,
         "tickfont": {
          "color": "white",
          "size": 15
         },
         "title": {
          "font": {
           "size": 25
          },
          "text": "SHOTS PER GAME"
         }
        }
       }
      }
     },
     "metadata": {},
     "output_type": "display_data"
    }
   ],
   "source": [
    "create_FM_team_scatter_chart(filt_attacking_efficiency_chart, 'ATTACKING EFFICIENCY', \"AC Milan\", \n",
    "                             'CONVERSION RATE (%)', 'SHOTS PER GAME', 0.7, 5, 20, 7, 21, \n",
    "                                                        \"Passive Shooting<br>Wasteful Shooting\", \n",
    "                                                        \"Passive Shooting<br>Clinical Shooting\",\n",
    "                                                        \"Aggressive Shooting<br>Wasteful Shooting\",\n",
    "                                                        \"Aggressive Shooting<br>Clinical Shooting\",\n",
    "                                                        \"red\", \"orange\", \"orange\", \"green\")\n"
   ]
  },
  {
   "cell_type": "code",
   "execution_count": 63,
   "metadata": {},
   "outputs": [],
   "source": [
    "team_attacking['GOALS PER GAME'] = team_attacking['GOALS_SCORED']/team_attacking['MATCHES_PLAYED']\n",
    "team_attacking['NPXG PER GAME'] = team_attacking['NPXG']/team_attacking['MATCHES_PLAYED']"
   ]
  },
  {
   "cell_type": "code",
   "execution_count": 64,
   "metadata": {},
   "outputs": [],
   "source": [
    "scoring_chart = team_attacking[['SEASON', 'COMPETITION_ACRONYM', 'TEAM_NAME', 'TEAM_LOGO_URL',\n",
    "                                            'GOALS PER GAME', 'NPXG PER GAME']]"
   ]
  },
  {
   "cell_type": "code",
   "execution_count": 65,
   "metadata": {},
   "outputs": [],
   "source": [
    "create_table_query = \"\"\"\n",
    "CREATE TABLE IF NOT EXISTS TEAM_SCORING_CHART (\n",
    "    SEASON INT,\n",
    "    COMPETITION_ACRONYM VARCHAR(255),\n",
    "    TEAM_NAME VARCHAR(255),\n",
    "    TEAM_LOGO_URL VARCHAR(255),\n",
    "    GOALS_PER_GAME FLOAT,\n",
    "    NPXG_PER_GAME FLOAT,\n",
    "    PRIMARY KEY (SEASON, COMPETITION_ACRONYM, TEAM_NAME)\n",
    ");\n",
    "\"\"\""
   ]
  },
  {
   "cell_type": "code",
   "execution_count": 66,
   "metadata": {},
   "outputs": [
    {
     "data": {
      "text/plain": [
       "<snowflake.connector.cursor.SnowflakeCursor at 0x143e0865be0>"
      ]
     },
     "execution_count": 66,
     "metadata": {},
     "output_type": "execute_result"
    }
   ],
   "source": [
    "cur.execute(create_table_query)"
   ]
  },
  {
   "cell_type": "code",
   "execution_count": 67,
   "metadata": {},
   "outputs": [],
   "source": [
    "scoring_chart.columns = scoring_chart.columns.str.replace(\" \", \"_\")"
   ]
  },
  {
   "cell_type": "code",
   "execution_count": 68,
   "metadata": {},
   "outputs": [
    {
     "name": "stdout",
     "output_type": "stream",
     "text": [
      "Upsert completed. 292 rows processed.\n"
     ]
    }
   ],
   "source": [
    "upsert_to_snowflake(\"TEAM_SCORING_CHART\", scoring_chart, ['SEASON', 'COMPETITION_ACRONYM', 'TEAM_NAME'])"
   ]
  },
  {
   "cell_type": "code",
   "execution_count": 69,
   "metadata": {},
   "outputs": [],
   "source": [
    "scoring_chart = fetch_data(cursor, 'SELECT * FROM GEGENSTATS.RADAR_CHARTS.TEAM_SCORING_CHART')"
   ]
  },
  {
   "cell_type": "code",
   "execution_count": 70,
   "metadata": {},
   "outputs": [],
   "source": [
    "scoring_chart.rename(columns={'GOALS_PER_GAME':'GOALS PER GAME','NPXG_PER_GAME':'NPXG PER GAME'}, inplace=True)"
   ]
  },
  {
   "cell_type": "code",
   "execution_count": 71,
   "metadata": {},
   "outputs": [],
   "source": [
    "filt_scoring_chart = scoring_chart[scoring_chart['SEASON'] == season_selected]\n",
    "filt_scoring_chart = filt_scoring_chart[filt_scoring_chart['COMPETITION_ACRONYM'] == league_selected]"
   ]
  },
  {
   "cell_type": "code",
   "execution_count": 72,
   "metadata": {},
   "outputs": [
    {
     "data": {
      "application/vnd.plotly.v1+json": {
       "config": {
        "plotlyServerURL": "https://plotly.com"
       },
       "data": [
        {
         "hoverinfo": "text",
         "marker": {
          "opacity": 0
         },
         "mode": "markers",
         "text": "Arsenal",
         "type": "scatter",
         "x": [
          2.0205263157894735
         ],
         "y": [
          2.3947368421052633
         ]
        },
        {
         "hoverinfo": "text",
         "marker": {
          "opacity": 0
         },
         "mode": "markers",
         "text": "Aston Villa",
         "type": "scatter",
         "x": [
          1.6942105263157894
         ],
         "y": [
          2
         ]
        },
        {
         "hoverinfo": "text",
         "marker": {
          "opacity": 0
         },
         "mode": "markers",
         "text": "Bournemouth",
         "type": "scatter",
         "x": [
          1.6176315789473683
         ],
         "y": [
          1.4210526315789473
         ]
        },
        {
         "hoverinfo": "text",
         "marker": {
          "opacity": 0
         },
         "mode": "markers",
         "text": "Brentford",
         "type": "scatter",
         "x": [
          1.6318421052631578
         ],
         "y": [
          1.4736842105263157
         ]
        },
        {
         "hoverinfo": "text",
         "marker": {
          "opacity": 0
         },
         "mode": "markers",
         "text": "Brighton",
         "type": "scatter",
         "x": [
          1.5057894736842106
         ],
         "y": [
          1.4473684210526316
         ]
        },
        {
         "hoverinfo": "text",
         "marker": {
          "opacity": 0
         },
         "mode": "markers",
         "text": "Burnley",
         "type": "scatter",
         "x": [
          1.083157894736842
         ],
         "y": [
          1.0789473684210527
         ]
        },
        {
         "hoverinfo": "text",
         "marker": {
          "opacity": 0
         },
         "mode": "markers",
         "text": "Chelsea",
         "type": "scatter",
         "x": [
          1.888157894736842
         ],
         "y": [
          2.026315789473684
         ]
        },
        {
         "hoverinfo": "text",
         "marker": {
          "opacity": 0
         },
         "mode": "markers",
         "text": "Crystal Palace",
         "type": "scatter",
         "x": [
          1.3392105263157894
         ],
         "y": [
          1.5
         ]
        },
        {
         "hoverinfo": "text",
         "marker": {
          "opacity": 0
         },
         "mode": "markers",
         "text": "Everton",
         "type": "scatter",
         "x": [
          1.5386842105263157
         ],
         "y": [
          1.0526315789473684
         ]
        },
        {
         "hoverinfo": "text",
         "marker": {
          "opacity": 0
         },
         "mode": "markers",
         "text": "Fulham",
         "type": "scatter",
         "x": [
          1.3497368421052631
         ],
         "y": [
          1.4473684210526316
         ]
        },
        {
         "hoverinfo": "text",
         "marker": {
          "opacity": 0
         },
         "mode": "markers",
         "text": "Liverpool",
         "type": "scatter",
         "x": [
          2.306578947368421
         ],
         "y": [
          2.263157894736842
         ]
        },
        {
         "hoverinfo": "text",
         "marker": {
          "opacity": 0
         },
         "mode": "markers",
         "text": "Luton Town",
         "type": "scatter",
         "x": [
          1.2123684210526315
         ],
         "y": [
          1.368421052631579
         ]
        },
        {
         "hoverinfo": "text",
         "marker": {
          "opacity": 0
         },
         "mode": "markers",
         "text": "Manchester City",
         "type": "scatter",
         "x": [
          2.156315789473684
         ],
         "y": [
          2.526315789473684
         ]
        },
        {
         "hoverinfo": "text",
         "marker": {
          "opacity": 0
         },
         "mode": "markers",
         "text": "Manchester Utd",
         "type": "scatter",
         "x": [
          1.447105263157895
         ],
         "y": [
          1.5
         ]
        },
        {
         "hoverinfo": "text",
         "marker": {
          "opacity": 0
         },
         "mode": "markers",
         "text": "Newcastle Utd",
         "type": "scatter",
         "x": [
          2.042894736842105
         ],
         "y": [
          2.236842105263158
         ]
        },
        {
         "hoverinfo": "text",
         "marker": {
          "opacity": 0
         },
         "mode": "markers",
         "text": "Nott'ham Forest",
         "type": "scatter",
         "x": [
          1.3526315789473684
         ],
         "y": [
          1.2894736842105263
         ]
        },
        {
         "hoverinfo": "text",
         "marker": {
          "opacity": 0
         },
         "mode": "markers",
         "text": "Sheffield Utd",
         "type": "scatter",
         "x": [
          0.9868421052631579
         ],
         "y": [
          0.9210526315789473
         ]
        },
        {
         "hoverinfo": "text",
         "marker": {
          "opacity": 0
         },
         "mode": "markers",
         "text": "Tottenham",
         "type": "scatter",
         "x": [
          1.8902631578947369
         ],
         "y": [
          1.9473684210526316
         ]
        },
        {
         "hoverinfo": "text",
         "marker": {
          "opacity": 0
         },
         "mode": "markers",
         "text": "West Ham",
         "type": "scatter",
         "x": [
          1.3347368421052632
         ],
         "y": [
          1.5789473684210527
         ]
        },
        {
         "hoverinfo": "text",
         "marker": {
          "opacity": 0
         },
         "mode": "markers",
         "text": "Wolves",
         "type": "scatter",
         "x": [
          1.2528947368421053
         ],
         "y": [
          1.3157894736842106
         ]
        }
       ],
       "layout": {
        "annotations": [
         {
          "align": "left",
          "font": {
           "color": "red",
           "family": "Roboto, sans-serif",
           "size": 15
          },
          "showarrow": false,
          "text": "Low Scoring<br>Low NPxG",
          "x": 0,
          "xref": "paper",
          "y": 0,
          "yref": "paper"
         },
         {
          "align": "left",
          "font": {
           "color": "orange",
           "family": "Roboto, sans-serif",
           "size": 15
          },
          "showarrow": false,
          "text": "High Scoring<br>Low NPxG",
          "x": 0,
          "xref": "paper",
          "y": 1,
          "yref": "paper"
         },
         {
          "align": "right",
          "font": {
           "color": "green",
           "family": "Roboto, sans-serif",
           "size": 15
          },
          "showarrow": false,
          "text": "High Scoring<br>High NPxG",
          "x": 1,
          "xref": "paper",
          "y": 1,
          "yref": "paper"
         },
         {
          "align": "right",
          "font": {
           "color": "orange",
           "family": "Roboto, sans-serif",
           "size": 15
          },
          "showarrow": false,
          "text": "Low Scoring<br>High NPxG",
          "x": 1,
          "xref": "paper",
          "y": 0,
          "yref": "paper"
         }
        ],
        "font": {
         "color": "white",
         "family": "Roboto, sans-serif",
         "size": 25
        },
        "height": 625,
        "hoverlabel": {
         "bgcolor": "rgba(20, 20, 20, 0.8)",
         "font": {
          "family": "Roboto, sans-serif"
         }
        },
        "images": [
         {
          "layer": "above",
          "opacity": 1,
          "sizex": 0.225,
          "sizey": 0.225,
          "sizing": "contain",
          "source": "https://i.imgur.com/SURo5sj.png",
          "x": 2.0205263157894735,
          "xanchor": "center",
          "xref": "x",
          "y": 2.3947368421052633,
          "yanchor": "middle",
          "yref": "y"
         },
         {
          "layer": "above",
          "opacity": 0.35,
          "sizex": 0.125,
          "sizey": 0.125,
          "sizing": "contain",
          "source": "https://i.imgur.com/M4mwH1X.png",
          "x": 1.6942105263157894,
          "xanchor": "center",
          "xref": "x",
          "y": 2,
          "yanchor": "middle",
          "yref": "y"
         },
         {
          "layer": "above",
          "opacity": 0.35,
          "sizex": 0.125,
          "sizey": 0.125,
          "sizing": "contain",
          "source": "https://i.imgur.com/0F6UIO4.png",
          "x": 1.6176315789473683,
          "xanchor": "center",
          "xref": "x",
          "y": 1.4210526315789473,
          "yanchor": "middle",
          "yref": "y"
         },
         {
          "layer": "above",
          "opacity": 0.35,
          "sizex": 0.125,
          "sizey": 0.125,
          "sizing": "contain",
          "source": "https://i.imgur.com/MOhGOQ4.png",
          "x": 1.6318421052631578,
          "xanchor": "center",
          "xref": "x",
          "y": 1.4736842105263157,
          "yanchor": "middle",
          "yref": "y"
         },
         {
          "layer": "above",
          "opacity": 0.35,
          "sizex": 0.125,
          "sizey": 0.125,
          "sizing": "contain",
          "source": "https://i.imgur.com/EMCwD3X.png",
          "x": 1.5057894736842106,
          "xanchor": "center",
          "xref": "x",
          "y": 1.4473684210526316,
          "yanchor": "middle",
          "yref": "y"
         },
         {
          "layer": "above",
          "opacity": 0.35,
          "sizex": 0.125,
          "sizey": 0.125,
          "sizing": "contain",
          "source": "https://i.imgur.com/6IDi9XJ.png",
          "x": 1.083157894736842,
          "xanchor": "center",
          "xref": "x",
          "y": 1.0789473684210527,
          "yanchor": "middle",
          "yref": "y"
         },
         {
          "layer": "above",
          "opacity": 0.35,
          "sizex": 0.125,
          "sizey": 0.125,
          "sizing": "contain",
          "source": "https://i.imgur.com/6F7h3UR.png",
          "x": 1.888157894736842,
          "xanchor": "center",
          "xref": "x",
          "y": 2.026315789473684,
          "yanchor": "middle",
          "yref": "y"
         },
         {
          "layer": "above",
          "opacity": 0.35,
          "sizex": 0.125,
          "sizey": 0.125,
          "sizing": "contain",
          "source": "https://i.imgur.com/LPhzr0K.png",
          "x": 1.3392105263157894,
          "xanchor": "center",
          "xref": "x",
          "y": 1.5,
          "yanchor": "middle",
          "yref": "y"
         },
         {
          "layer": "above",
          "opacity": 0.35,
          "sizex": 0.125,
          "sizey": 0.125,
          "sizing": "contain",
          "source": "https://i.imgur.com/Dgei0uj.png",
          "x": 1.5386842105263157,
          "xanchor": "center",
          "xref": "x",
          "y": 1.0526315789473684,
          "yanchor": "middle",
          "yref": "y"
         },
         {
          "layer": "above",
          "opacity": 0.35,
          "sizex": 0.125,
          "sizey": 0.125,
          "sizing": "contain",
          "source": "https://i.imgur.com/2zggSrF.png",
          "x": 1.3497368421052631,
          "xanchor": "center",
          "xref": "x",
          "y": 1.4473684210526316,
          "yanchor": "middle",
          "yref": "y"
         },
         {
          "layer": "above",
          "opacity": 0.35,
          "sizex": 0.125,
          "sizey": 0.125,
          "sizing": "contain",
          "source": "https://i.imgur.com/fs7VK9G.png",
          "x": 2.306578947368421,
          "xanchor": "center",
          "xref": "x",
          "y": 2.263157894736842,
          "yanchor": "middle",
          "yref": "y"
         },
         {
          "layer": "above",
          "opacity": 0.35,
          "sizex": 0.125,
          "sizey": 0.125,
          "sizing": "contain",
          "source": "https://i.imgur.com/vHHqKJX.png",
          "x": 1.2123684210526315,
          "xanchor": "center",
          "xref": "x",
          "y": 1.368421052631579,
          "yanchor": "middle",
          "yref": "y"
         },
         {
          "layer": "above",
          "opacity": 0.35,
          "sizex": 0.125,
          "sizey": 0.125,
          "sizing": "contain",
          "source": "https://i.imgur.com/FF8z7uZ.png",
          "x": 2.156315789473684,
          "xanchor": "center",
          "xref": "x",
          "y": 2.526315789473684,
          "yanchor": "middle",
          "yref": "y"
         },
         {
          "layer": "above",
          "opacity": 0.35,
          "sizex": 0.125,
          "sizey": 0.125,
          "sizing": "contain",
          "source": "https://i.imgur.com/z47emBQ.png",
          "x": 1.447105263157895,
          "xanchor": "center",
          "xref": "x",
          "y": 1.5,
          "yanchor": "middle",
          "yref": "y"
         },
         {
          "layer": "above",
          "opacity": 0.35,
          "sizex": 0.125,
          "sizey": 0.125,
          "sizing": "contain",
          "source": "https://i.imgur.com/3kOLokZ.png",
          "x": 2.042894736842105,
          "xanchor": "center",
          "xref": "x",
          "y": 2.236842105263158,
          "yanchor": "middle",
          "yref": "y"
         },
         {
          "layer": "above",
          "opacity": 0.35,
          "sizex": 0.125,
          "sizey": 0.125,
          "sizing": "contain",
          "source": "https://i.imgur.com/z4Tl9Zu.png",
          "x": 1.3526315789473684,
          "xanchor": "center",
          "xref": "x",
          "y": 1.2894736842105263,
          "yanchor": "middle",
          "yref": "y"
         },
         {
          "layer": "above",
          "opacity": 0.35,
          "sizex": 0.125,
          "sizey": 0.125,
          "sizing": "contain",
          "source": "https://i.imgur.com/eeBetFN.png",
          "x": 0.9868421052631579,
          "xanchor": "center",
          "xref": "x",
          "y": 0.9210526315789473,
          "yanchor": "middle",
          "yref": "y"
         },
         {
          "layer": "above",
          "opacity": 0.35,
          "sizex": 0.125,
          "sizey": 0.125,
          "sizing": "contain",
          "source": "https://i.imgur.com/fJ7rUWW.png",
          "x": 1.8902631578947369,
          "xanchor": "center",
          "xref": "x",
          "y": 1.9473684210526316,
          "yanchor": "middle",
          "yref": "y"
         },
         {
          "layer": "above",
          "opacity": 0.35,
          "sizex": 0.125,
          "sizey": 0.125,
          "sizing": "contain",
          "source": "https://i.imgur.com/9BQHJRl.png",
          "x": 1.3347368421052632,
          "xanchor": "center",
          "xref": "x",
          "y": 1.5789473684210527,
          "yanchor": "middle",
          "yref": "y"
         },
         {
          "layer": "above",
          "opacity": 0.35,
          "sizex": 0.125,
          "sizey": 0.125,
          "sizing": "contain",
          "source": "https://i.imgur.com/6azSF88.png",
          "x": 1.2528947368421053,
          "xanchor": "center",
          "xref": "x",
          "y": 1.3157894736842106,
          "yanchor": "middle",
          "yref": "y"
         }
        ],
        "margin": {
         "b": 10,
         "l": 10,
         "r": 30,
         "t": 50
        },
        "paper_bgcolor": "rgb(70, 70, 70)",
        "plot_bgcolor": "rgb(70, 70, 70)",
        "shapes": [
         {
          "layer": "below",
          "line": {
           "color": "White",
           "width": 3
          },
          "type": "line",
          "x0": 1.5825789473684209,
          "x1": 1.5825789473684209,
          "y0": 0.5,
          "y1": 3.1
         },
         {
          "layer": "below",
          "line": {
           "color": "White",
           "width": 3
          },
          "type": "line",
          "x0": 0.5,
          "x1": 3.1,
          "y0": 1.6394736842105264,
          "y1": 1.6394736842105264
         }
        ],
        "showlegend": false,
        "template": {
         "data": {
          "candlestick": [
           {
            "decreasing": {
             "line": {
              "color": "#000033"
             }
            },
            "increasing": {
             "line": {
              "color": "#000032"
             }
            },
            "type": "candlestick"
           }
          ],
          "contour": [
           {
            "colorscale": [
             [
              0,
              "#000011"
             ],
             [
              0.1111111111111111,
              "#000012"
             ],
             [
              0.2222222222222222,
              "#000013"
             ],
             [
              0.3333333333333333,
              "#000014"
             ],
             [
              0.4444444444444444,
              "#000015"
             ],
             [
              0.5555555555555556,
              "#000016"
             ],
             [
              0.6666666666666666,
              "#000017"
             ],
             [
              0.7777777777777778,
              "#000018"
             ],
             [
              0.8888888888888888,
              "#000019"
             ],
             [
              1,
              "#000020"
             ]
            ],
            "type": "contour"
           }
          ],
          "contourcarpet": [
           {
            "colorscale": [
             [
              0,
              "#000011"
             ],
             [
              0.1111111111111111,
              "#000012"
             ],
             [
              0.2222222222222222,
              "#000013"
             ],
             [
              0.3333333333333333,
              "#000014"
             ],
             [
              0.4444444444444444,
              "#000015"
             ],
             [
              0.5555555555555556,
              "#000016"
             ],
             [
              0.6666666666666666,
              "#000017"
             ],
             [
              0.7777777777777778,
              "#000018"
             ],
             [
              0.8888888888888888,
              "#000019"
             ],
             [
              1,
              "#000020"
             ]
            ],
            "type": "contourcarpet"
           }
          ],
          "heatmap": [
           {
            "colorscale": [
             [
              0,
              "#000011"
             ],
             [
              0.1111111111111111,
              "#000012"
             ],
             [
              0.2222222222222222,
              "#000013"
             ],
             [
              0.3333333333333333,
              "#000014"
             ],
             [
              0.4444444444444444,
              "#000015"
             ],
             [
              0.5555555555555556,
              "#000016"
             ],
             [
              0.6666666666666666,
              "#000017"
             ],
             [
              0.7777777777777778,
              "#000018"
             ],
             [
              0.8888888888888888,
              "#000019"
             ],
             [
              1,
              "#000020"
             ]
            ],
            "type": "heatmap"
           }
          ],
          "histogram2d": [
           {
            "colorscale": [
             [
              0,
              "#000011"
             ],
             [
              0.1111111111111111,
              "#000012"
             ],
             [
              0.2222222222222222,
              "#000013"
             ],
             [
              0.3333333333333333,
              "#000014"
             ],
             [
              0.4444444444444444,
              "#000015"
             ],
             [
              0.5555555555555556,
              "#000016"
             ],
             [
              0.6666666666666666,
              "#000017"
             ],
             [
              0.7777777777777778,
              "#000018"
             ],
             [
              0.8888888888888888,
              "#000019"
             ],
             [
              1,
              "#000020"
             ]
            ],
            "type": "histogram2d"
           }
          ],
          "icicle": [
           {
            "textfont": {
             "color": "white"
            },
            "type": "icicle"
           }
          ],
          "sankey": [
           {
            "textfont": {
             "color": "#000036"
            },
            "type": "sankey"
           }
          ],
          "scatter": [
           {
            "marker": {
             "line": {
              "width": 0
             }
            },
            "type": "scatter"
           }
          ],
          "table": [
           {
            "cells": {
             "fill": {
              "color": "#000038"
             },
             "font": {
              "color": "#000037"
             },
             "line": {
              "color": "#000039"
             }
            },
            "header": {
             "fill": {
              "color": "#000040"
             },
             "font": {
              "color": "#000036"
             },
             "line": {
              "color": "#000039"
             }
            },
            "type": "table"
           }
          ],
          "waterfall": [
           {
            "connector": {
             "line": {
              "color": "#000036",
              "width": 2
             }
            },
            "decreasing": {
             "marker": {
              "color": "#000033"
             }
            },
            "increasing": {
             "marker": {
              "color": "#000032"
             }
            },
            "totals": {
             "marker": {
              "color": "#000034"
             }
            },
            "type": "waterfall"
           }
          ]
         },
         "layout": {
          "coloraxis": {
           "colorscale": [
            [
             0,
             "#000011"
            ],
            [
             0.1111111111111111,
             "#000012"
            ],
            [
             0.2222222222222222,
             "#000013"
            ],
            [
             0.3333333333333333,
             "#000014"
            ],
            [
             0.4444444444444444,
             "#000015"
            ],
            [
             0.5555555555555556,
             "#000016"
            ],
            [
             0.6666666666666666,
             "#000017"
            ],
            [
             0.7777777777777778,
             "#000018"
            ],
            [
             0.8888888888888888,
             "#000019"
            ],
            [
             1,
             "#000020"
            ]
           ]
          },
          "colorscale": {
           "diverging": [
            [
             0,
             "#000021"
            ],
            [
             0.1,
             "#000022"
            ],
            [
             0.2,
             "#000023"
            ],
            [
             0.3,
             "#000024"
            ],
            [
             0.4,
             "#000025"
            ],
            [
             0.5,
             "#000026"
            ],
            [
             0.6,
             "#000027"
            ],
            [
             0.7,
             "#000028"
            ],
            [
             0.8,
             "#000029"
            ],
            [
             0.9,
             "#000030"
            ],
            [
             1,
             "#000031"
            ]
           ],
           "sequential": [
            [
             0,
             "#000011"
            ],
            [
             0.1111111111111111,
             "#000012"
            ],
            [
             0.2222222222222222,
             "#000013"
            ],
            [
             0.3333333333333333,
             "#000014"
            ],
            [
             0.4444444444444444,
             "#000015"
            ],
            [
             0.5555555555555556,
             "#000016"
            ],
            [
             0.6666666666666666,
             "#000017"
            ],
            [
             0.7777777777777778,
             "#000018"
            ],
            [
             0.8888888888888888,
             "#000019"
            ],
            [
             1,
             "#000020"
            ]
           ],
           "sequentialminus": [
            [
             0,
             "#000011"
            ],
            [
             0.1111111111111111,
             "#000012"
            ],
            [
             0.2222222222222222,
             "#000013"
            ],
            [
             0.3333333333333333,
             "#000014"
            ],
            [
             0.4444444444444444,
             "#000015"
            ],
            [
             0.5555555555555556,
             "#000016"
            ],
            [
             0.6666666666666666,
             "#000017"
            ],
            [
             0.7777777777777778,
             "#000018"
            ],
            [
             0.8888888888888888,
             "#000019"
            ],
            [
             1,
             "#000020"
            ]
           ]
          },
          "colorway": [
           "#000001",
           "#000002",
           "#000003",
           "#000004",
           "#000005",
           "#000006",
           "#000007",
           "#000008",
           "#000009",
           "#000010"
          ]
         }
        },
        "title": {
         "font": {
          "color": "white",
          "family": "Roboto, sans-serif",
          "size": 23
         },
         "text": "SCORING",
         "x": 0.5,
         "xanchor": "center",
         "y": 0.98,
         "yanchor": "top"
        },
        "width": 625,
        "xaxis": {
         "gridcolor": "rgba(0,0,0,0)",
         "linecolor": "white",
         "linewidth": 2,
         "range": [
          0.5,
          3.1
         ],
         "showline": true,
         "tickfont": {
          "color": "white",
          "size": 15
         },
         "title": {
          "font": {
           "size": 25
          },
          "text": "NPXG PER GAME"
         }
        },
        "yaxis": {
         "gridcolor": "rgba(0,0,0,0)",
         "linecolor": "white",
         "linewidth": 2,
         "range": [
          0.5,
          3.1
         ],
         "showline": true,
         "tickfont": {
          "color": "white",
          "size": 15
         },
         "title": {
          "font": {
           "size": 25
          },
          "text": "GOALS PER GAME"
         }
        }
       }
      }
     },
     "metadata": {},
     "output_type": "display_data"
    }
   ],
   "source": [
    "create_FM_team_scatter_chart(filt_scoring_chart, 'SCORING', \"Arsenal\", \n",
    "                             'NPXG PER GAME', 'GOALS PER GAME', 0.125, 0.5, 3.1, 0.5, 3.1, \n",
    "                                                        \"Low Scoring<br>Low NPxG\", \n",
    "                                                        \"Low Scoring<br>High NPxG\",\n",
    "                                                        \"High Scoring<br>Low NPxG\",\n",
    "                                                        \"High Scoring<br>High NPxG\",\n",
    "                                                        \"red\", \"orange\", \"orange\", \"green\")\n"
   ]
  },
  {
   "cell_type": "code",
   "execution_count": 73,
   "metadata": {},
   "outputs": [
    {
     "data": {
      "text/html": [
       "<div>\n",
       "<style scoped>\n",
       "    .dataframe tbody tr th:only-of-type {\n",
       "        vertical-align: middle;\n",
       "    }\n",
       "\n",
       "    .dataframe tbody tr th {\n",
       "        vertical-align: top;\n",
       "    }\n",
       "\n",
       "    .dataframe thead th {\n",
       "        text-align: right;\n",
       "    }\n",
       "</style>\n",
       "<table border=\"1\" class=\"dataframe\">\n",
       "  <thead>\n",
       "    <tr style=\"text-align: right;\">\n",
       "      <th></th>\n",
       "      <th>TEAM_FBREF_ID</th>\n",
       "      <th>SEASON</th>\n",
       "      <th>COMPETITION</th>\n",
       "      <th>GOALS_SCORED</th>\n",
       "      <th>NPXG</th>\n",
       "      <th>XG</th>\n",
       "      <th>SHOTS</th>\n",
       "      <th>SHOTS_ON_TARGET</th>\n",
       "      <th>PASS_COMPLETED</th>\n",
       "      <th>PASS_ATTEMPTED</th>\n",
       "      <th>TAKEONS_ATTEMPTED</th>\n",
       "      <th>TAKEONS_COMPLETED</th>\n",
       "      <th>CROSSES_INTO_PA</th>\n",
       "      <th>FOULS_AGAINST</th>\n",
       "      <th>COMPETITION_ACRONYM</th>\n",
       "      <th>TEAM_NAME</th>\n",
       "      <th>TEAM_LOGO_URL</th>\n",
       "      <th>TEAM_WS_ID</th>\n",
       "      <th>MATCHES_PLAYED</th>\n",
       "      <th>TEAM_WINS</th>\n",
       "      <th>TEAM_DRAWS</th>\n",
       "      <th>TEAM_LOSSES</th>\n",
       "      <th>TEAM_PTS</th>\n",
       "      <th>TEAM_XPTS</th>\n",
       "      <th>SHOTS PER GAME</th>\n",
       "      <th>CONVERSION RATE (%)</th>\n",
       "      <th>GOALS PER GAME</th>\n",
       "      <th>NPXG PER GAME</th>\n",
       "    </tr>\n",
       "  </thead>\n",
       "  <tbody>\n",
       "    <tr>\n",
       "      <th>0</th>\n",
       "      <td>7a54bb4f</td>\n",
       "      <td>2223</td>\n",
       "      <td>FRA-Ligue 1</td>\n",
       "      <td>23</td>\n",
       "      <td>24.22</td>\n",
       "      <td>31.06</td>\n",
       "      <td>311.0</td>\n",
       "      <td>81.0</td>\n",
       "      <td>11216.0</td>\n",
       "      <td>15286.0</td>\n",
       "      <td>630.0</td>\n",
       "      <td>283.0</td>\n",
       "      <td>71.0</td>\n",
       "      <td>495.0</td>\n",
       "      <td>Ligue 1</td>\n",
       "      <td>Ajaccio</td>\n",
       "      <td>https://i.imgur.com/FSm4pRb.png</td>\n",
       "      <td>610</td>\n",
       "      <td>38.0</td>\n",
       "      <td>7</td>\n",
       "      <td>5</td>\n",
       "      <td>26</td>\n",
       "      <td>26</td>\n",
       "      <td>33.12</td>\n",
       "      <td>8.184211</td>\n",
       "      <td>0.073955</td>\n",
       "      <td>0.605263</td>\n",
       "      <td>0.637368</td>\n",
       "    </tr>\n",
       "    <tr>\n",
       "      <th>1</th>\n",
       "      <td>e2d8892c</td>\n",
       "      <td>2223</td>\n",
       "      <td>FRA-Ligue 1</td>\n",
       "      <td>89</td>\n",
       "      <td>81.59</td>\n",
       "      <td>86.15</td>\n",
       "      <td>562.0</td>\n",
       "      <td>242.0</td>\n",
       "      <td>23694.0</td>\n",
       "      <td>26476.0</td>\n",
       "      <td>976.0</td>\n",
       "      <td>454.0</td>\n",
       "      <td>46.0</td>\n",
       "      <td>416.0</td>\n",
       "      <td>Ligue 1</td>\n",
       "      <td>Paris S-G</td>\n",
       "      <td>https://i.imgur.com/kuN3QSp.png</td>\n",
       "      <td>304</td>\n",
       "      <td>38.0</td>\n",
       "      <td>27</td>\n",
       "      <td>4</td>\n",
       "      <td>7</td>\n",
       "      <td>85</td>\n",
       "      <td>74.01</td>\n",
       "      <td>14.789474</td>\n",
       "      <td>0.158363</td>\n",
       "      <td>2.342105</td>\n",
       "      <td>2.147105</td>\n",
       "    </tr>\n",
       "    <tr>\n",
       "      <th>2</th>\n",
       "      <td>d2c87802</td>\n",
       "      <td>2223</td>\n",
       "      <td>FRA-Ligue 1</td>\n",
       "      <td>52</td>\n",
       "      <td>42.79</td>\n",
       "      <td>47.35</td>\n",
       "      <td>397.0</td>\n",
       "      <td>149.0</td>\n",
       "      <td>14837.0</td>\n",
       "      <td>18087.0</td>\n",
       "      <td>916.0</td>\n",
       "      <td>406.0</td>\n",
       "      <td>38.0</td>\n",
       "      <td>501.0</td>\n",
       "      <td>Ligue 1</td>\n",
       "      <td>Lorient</td>\n",
       "      <td>https://i.imgur.com/9k1Kgp6.png</td>\n",
       "      <td>146</td>\n",
       "      <td>38.0</td>\n",
       "      <td>15</td>\n",
       "      <td>10</td>\n",
       "      <td>13</td>\n",
       "      <td>55</td>\n",
       "      <td>42.43</td>\n",
       "      <td>10.447368</td>\n",
       "      <td>0.130982</td>\n",
       "      <td>1.368421</td>\n",
       "      <td>1.126053</td>\n",
       "    </tr>\n",
       "    <tr>\n",
       "      <th>3</th>\n",
       "      <td>fb08dbb3</td>\n",
       "      <td>2223</td>\n",
       "      <td>FRA-Ligue 1</td>\n",
       "      <td>44</td>\n",
       "      <td>35.32</td>\n",
       "      <td>41.40</td>\n",
       "      <td>417.0</td>\n",
       "      <td>132.0</td>\n",
       "      <td>12486.0</td>\n",
       "      <td>16452.0</td>\n",
       "      <td>655.0</td>\n",
       "      <td>270.0</td>\n",
       "      <td>94.0</td>\n",
       "      <td>462.0</td>\n",
       "      <td>Ligue 1</td>\n",
       "      <td>Brest</td>\n",
       "      <td>https://i.imgur.com/klKUp8n.png</td>\n",
       "      <td>2332</td>\n",
       "      <td>38.0</td>\n",
       "      <td>11</td>\n",
       "      <td>11</td>\n",
       "      <td>16</td>\n",
       "      <td>44</td>\n",
       "      <td>43.52</td>\n",
       "      <td>10.973684</td>\n",
       "      <td>0.105516</td>\n",
       "      <td>1.157895</td>\n",
       "      <td>0.929474</td>\n",
       "    </tr>\n",
       "    <tr>\n",
       "      <th>4</th>\n",
       "      <td>7fdd64e0</td>\n",
       "      <td>2223</td>\n",
       "      <td>FRA-Ligue 1</td>\n",
       "      <td>45</td>\n",
       "      <td>53.34</td>\n",
       "      <td>59.52</td>\n",
       "      <td>516.0</td>\n",
       "      <td>165.0</td>\n",
       "      <td>13670.0</td>\n",
       "      <td>17565.0</td>\n",
       "      <td>800.0</td>\n",
       "      <td>347.0</td>\n",
       "      <td>87.0</td>\n",
       "      <td>423.0</td>\n",
       "      <td>Ligue 1</td>\n",
       "      <td>Reims</td>\n",
       "      <td>https://i.imgur.com/xULypbI.png</td>\n",
       "      <td>950</td>\n",
       "      <td>38.0</td>\n",
       "      <td>12</td>\n",
       "      <td>15</td>\n",
       "      <td>11</td>\n",
       "      <td>51</td>\n",
       "      <td>55.35</td>\n",
       "      <td>13.578947</td>\n",
       "      <td>0.087209</td>\n",
       "      <td>1.184211</td>\n",
       "      <td>1.403684</td>\n",
       "    </tr>\n",
       "  </tbody>\n",
       "</table>\n",
       "</div>"
      ],
      "text/plain": [
       "  TEAM_FBREF_ID  SEASON  COMPETITION  GOALS_SCORED   NPXG     XG  SHOTS  \\\n",
       "0      7a54bb4f    2223  FRA-Ligue 1            23  24.22  31.06  311.0   \n",
       "1      e2d8892c    2223  FRA-Ligue 1            89  81.59  86.15  562.0   \n",
       "2      d2c87802    2223  FRA-Ligue 1            52  42.79  47.35  397.0   \n",
       "3      fb08dbb3    2223  FRA-Ligue 1            44  35.32  41.40  417.0   \n",
       "4      7fdd64e0    2223  FRA-Ligue 1            45  53.34  59.52  516.0   \n",
       "\n",
       "   SHOTS_ON_TARGET  PASS_COMPLETED  PASS_ATTEMPTED  TAKEONS_ATTEMPTED  \\\n",
       "0             81.0         11216.0         15286.0              630.0   \n",
       "1            242.0         23694.0         26476.0              976.0   \n",
       "2            149.0         14837.0         18087.0              916.0   \n",
       "3            132.0         12486.0         16452.0              655.0   \n",
       "4            165.0         13670.0         17565.0              800.0   \n",
       "\n",
       "   TAKEONS_COMPLETED  CROSSES_INTO_PA  FOULS_AGAINST COMPETITION_ACRONYM  \\\n",
       "0              283.0             71.0          495.0             Ligue 1   \n",
       "1              454.0             46.0          416.0             Ligue 1   \n",
       "2              406.0             38.0          501.0             Ligue 1   \n",
       "3              270.0             94.0          462.0             Ligue 1   \n",
       "4              347.0             87.0          423.0             Ligue 1   \n",
       "\n",
       "   TEAM_NAME                    TEAM_LOGO_URL  TEAM_WS_ID  MATCHES_PLAYED  \\\n",
       "0    Ajaccio  https://i.imgur.com/FSm4pRb.png         610            38.0   \n",
       "1  Paris S-G  https://i.imgur.com/kuN3QSp.png         304            38.0   \n",
       "2    Lorient  https://i.imgur.com/9k1Kgp6.png         146            38.0   \n",
       "3      Brest  https://i.imgur.com/klKUp8n.png        2332            38.0   \n",
       "4      Reims  https://i.imgur.com/xULypbI.png         950            38.0   \n",
       "\n",
       "   TEAM_WINS  TEAM_DRAWS  TEAM_LOSSES  TEAM_PTS  TEAM_XPTS  SHOTS PER GAME  \\\n",
       "0          7           5           26        26      33.12        8.184211   \n",
       "1         27           4            7        85      74.01       14.789474   \n",
       "2         15          10           13        55      42.43       10.447368   \n",
       "3         11          11           16        44      43.52       10.973684   \n",
       "4         12          15           11        51      55.35       13.578947   \n",
       "\n",
       "   CONVERSION RATE (%)  GOALS PER GAME  NPXG PER GAME  \n",
       "0             0.073955        0.605263       0.637368  \n",
       "1             0.158363        2.342105       2.147105  \n",
       "2             0.130982        1.368421       1.126053  \n",
       "3             0.105516        1.157895       0.929474  \n",
       "4             0.087209        1.184211       1.403684  "
      ]
     },
     "execution_count": 73,
     "metadata": {},
     "output_type": "execute_result"
    }
   ],
   "source": [
    "team_attacking.head()"
   ]
  },
  {
   "cell_type": "code",
   "execution_count": 74,
   "metadata": {},
   "outputs": [],
   "source": [
    "team_attacking['SHOTS ON TARGET PER GAME'] = team_attacking['SHOTS_ON_TARGET']/team_attacking['MATCHES_PLAYED']\n",
    "team_attacking['XG PER SHOT'] = team_attacking['XG']/team_attacking['SHOTS']"
   ]
  },
  {
   "cell_type": "code",
   "execution_count": 75,
   "metadata": {},
   "outputs": [],
   "source": [
    "shooting_chart = team_attacking[['SEASON', 'COMPETITION_ACRONYM', 'TEAM_NAME', 'TEAM_LOGO_URL',\n",
    "                                            'SHOTS ON TARGET PER GAME', 'XG PER SHOT']]"
   ]
  },
  {
   "cell_type": "code",
   "execution_count": 76,
   "metadata": {},
   "outputs": [],
   "source": [
    "create_table_query = \"\"\"\n",
    "CREATE TABLE IF NOT EXISTS TEAM_SHOOTING_CHART (\n",
    "    SEASON INT,\n",
    "    COMPETITION_ACRONYM VARCHAR(255),\n",
    "    TEAM_NAME VARCHAR(255),\n",
    "    TEAM_LOGO_URL VARCHAR(255),\n",
    "    SHOTS_ON_TARGET_PER_GAME FLOAT,\n",
    "    XG_PER_SHOT FLOAT,\n",
    "    PRIMARY KEY (SEASON, COMPETITION_ACRONYM, TEAM_NAME)\n",
    ");\n",
    "\"\"\""
   ]
  },
  {
   "cell_type": "code",
   "execution_count": 77,
   "metadata": {},
   "outputs": [
    {
     "data": {
      "text/plain": [
       "<snowflake.connector.cursor.SnowflakeCursor at 0x143e0865be0>"
      ]
     },
     "execution_count": 77,
     "metadata": {},
     "output_type": "execute_result"
    }
   ],
   "source": [
    "cur.execute(create_table_query)"
   ]
  },
  {
   "cell_type": "code",
   "execution_count": 78,
   "metadata": {},
   "outputs": [],
   "source": [
    "shooting_chart.columns = shooting_chart.columns.str.replace(\" \", \"_\")"
   ]
  },
  {
   "cell_type": "code",
   "execution_count": 79,
   "metadata": {},
   "outputs": [
    {
     "name": "stdout",
     "output_type": "stream",
     "text": [
      "Upsert completed. 292 rows processed.\n"
     ]
    }
   ],
   "source": [
    "upsert_to_snowflake(\"TEAM_SHOOTING_CHART\", shooting_chart, ['SEASON', 'COMPETITION_ACRONYM', 'TEAM_NAME'])"
   ]
  },
  {
   "cell_type": "code",
   "execution_count": 80,
   "metadata": {},
   "outputs": [],
   "source": [
    "shooting_chart = fetch_data(cursor, 'SELECT * FROM GEGENSTATS.RADAR_CHARTS.TEAM_SHOOTING_CHART')"
   ]
  },
  {
   "cell_type": "code",
   "execution_count": 81,
   "metadata": {},
   "outputs": [],
   "source": [
    "shooting_chart.rename(columns={'SHOTS_ON_TARGET_PER_GAME':'SHOTS ON TARGET PER GAME',\n",
    "                                'XG_PER_SHOT':'XG PER SHOT'}, inplace=True)"
   ]
  },
  {
   "cell_type": "code",
   "execution_count": 82,
   "metadata": {},
   "outputs": [],
   "source": [
    "filt_shooting_chart = shooting_chart[shooting_chart['SEASON'] == season_selected]\n",
    "filt_shooting_chart = filt_shooting_chart[filt_shooting_chart['COMPETITION_ACRONYM'] == league_selected]"
   ]
  },
  {
   "cell_type": "code",
   "execution_count": 83,
   "metadata": {},
   "outputs": [
    {
     "data": {
      "application/vnd.plotly.v1+json": {
       "config": {
        "plotlyServerURL": "https://plotly.com"
       },
       "data": [
        {
         "hoverinfo": "text",
         "marker": {
          "opacity": 0
         },
         "mode": "markers",
         "text": "Arsenal",
         "type": "scatter",
         "x": [
          0.13043276661514683
         ],
         "y": [
          5.5
         ]
        },
        {
         "hoverinfo": "text",
         "marker": {
          "opacity": 0
         },
         "mode": "markers",
         "text": "Aston Villa",
         "type": "scatter",
         "x": [
          0.13193737769080235
         ],
         "y": [
          4.7894736842105265
         ]
        },
        {
         "hoverinfo": "text",
         "marker": {
          "opacity": 0
         },
         "mode": "markers",
         "text": "Bournemouth",
         "type": "scatter",
         "x": [
          0.11829313543599257
         ],
         "y": [
          4.605263157894737
         ]
        },
        {
         "hoverinfo": "text",
         "marker": {
          "opacity": 0
         },
         "mode": "markers",
         "text": "Brentford",
         "type": "scatter",
         "x": [
          0.13678723404255322
         ],
         "y": [
          4.184210526315789
         ]
        },
        {
         "hoverinfo": "text",
         "marker": {
          "opacity": 0
         },
         "mode": "markers",
         "text": "Brighton",
         "type": "scatter",
         "x": [
          0.11154954954954954
         ],
         "y": [
          5.2105263157894735
         ]
        },
        {
         "hoverinfo": "text",
         "marker": {
          "opacity": 0
         },
         "mode": "markers",
         "text": "Burnley",
         "type": "scatter",
         "x": [
          0.10102325581395348
         ],
         "y": [
          3.6052631578947367
         ]
        },
        {
         "hoverinfo": "text",
         "marker": {
          "opacity": 0
         },
         "mode": "markers",
         "text": "Chelsea",
         "type": "scatter",
         "x": [
          0.1506145251396648
         ],
         "y": [
          5.105263157894737
         ]
        },
        {
         "hoverinfo": "text",
         "marker": {
          "opacity": 0
         },
         "mode": "markers",
         "text": "Crystal Palace",
         "type": "scatter",
         "x": [
          0.1193362831858407
         ],
         "y": [
          4.2631578947368425
         ]
        },
        {
         "hoverinfo": "text",
         "marker": {
          "opacity": 0
         },
         "mode": "markers",
         "text": "Everton",
         "type": "scatter",
         "x": [
          0.12053571428571429
         ],
         "y": [
          4
         ]
        },
        {
         "hoverinfo": "text",
         "marker": {
          "opacity": 0
         },
         "mode": "markers",
         "text": "Fulham",
         "type": "scatter",
         "x": [
          0.10583166332665331
         ],
         "y": [
          4.605263157894737
         ]
        },
        {
         "hoverinfo": "text",
         "marker": {
          "opacity": 0
         },
         "mode": "markers",
         "text": "Liverpool",
         "type": "scatter",
         "x": [
          0.12137003841229194
         ],
         "y": [
          6.921052631578948
         ]
        },
        {
         "hoverinfo": "text",
         "marker": {
          "opacity": 0
         },
         "mode": "markers",
         "text": "Luton Town",
         "type": "scatter",
         "x": [
          0.11679156908665105
         ],
         "y": [
          3.526315789473684
         ]
        },
        {
         "hoverinfo": "text",
         "marker": {
          "opacity": 0
         },
         "mode": "markers",
         "text": "Manchester City",
         "type": "scatter",
         "x": [
          0.13111273792093703
         ],
         "y": [
          6.947368421052632
         ]
        },
        {
         "hoverinfo": "text",
         "marker": {
          "opacity": 0
         },
         "mode": "markers",
         "text": "Manchester Utd",
         "type": "scatter",
         "x": [
          0.1111049723756906
         ],
         "y": [
          4.7894736842105265
         ]
        },
        {
         "hoverinfo": "text",
         "marker": {
          "opacity": 0
         },
         "mode": "markers",
         "text": "Newcastle Utd",
         "type": "scatter",
         "x": [
          0.15586715867158674
         ],
         "y": [
          5.157894736842105
         ]
        },
        {
         "hoverinfo": "text",
         "marker": {
          "opacity": 0
         },
         "mode": "markers",
         "text": "Nott'ham Forest",
         "type": "scatter",
         "x": [
          0.1159111111111111
         ],
         "y": [
          3.763157894736842
         ]
        },
        {
         "hoverinfo": "text",
         "marker": {
          "opacity": 0
         },
         "mode": "markers",
         "text": "Sheffield Utd",
         "type": "scatter",
         "x": [
          0.11475
         ],
         "y": [
          3.0789473684210527
         ]
        },
        {
         "hoverinfo": "text",
         "marker": {
          "opacity": 0
         },
         "mode": "markers",
         "text": "Tottenham",
         "type": "scatter",
         "x": [
          0.12603092783505154
         ],
         "y": [
          5.447368421052632
         ]
        },
        {
         "hoverinfo": "text",
         "marker": {
          "opacity": 0
         },
         "mode": "markers",
         "text": "West Ham",
         "type": "scatter",
         "x": [
          0.12253932584269663
         ],
         "y": [
          3.8421052631578947
         ]
        },
        {
         "hoverinfo": "text",
         "marker": {
          "opacity": 0
         },
         "mode": "markers",
         "text": "Wolves",
         "type": "scatter",
         "x": [
          0.11917647058823529
         ],
         "y": [
          4.026315789473684
         ]
        }
       ],
       "layout": {
        "annotations": [
         {
          "align": "left",
          "font": {
           "color": "red",
           "family": "Roboto, sans-serif",
           "size": 15
          },
          "showarrow": false,
          "text": "Passive Shooting<br>Wasteful Shooting",
          "x": 0,
          "xref": "paper",
          "y": 0,
          "yref": "paper"
         },
         {
          "align": "left",
          "font": {
           "color": "orange",
           "family": "Roboto, sans-serif",
           "size": 15
          },
          "showarrow": false,
          "text": "Aggressive Shooting<br>Wasteful Shooting",
          "x": 0,
          "xref": "paper",
          "y": 1,
          "yref": "paper"
         },
         {
          "align": "right",
          "font": {
           "color": "green",
           "family": "Roboto, sans-serif",
           "size": 15
          },
          "showarrow": false,
          "text": "Aggressive Shooting<br>Clinical Shooting",
          "x": 1,
          "xref": "paper",
          "y": 1,
          "yref": "paper"
         },
         {
          "align": "right",
          "font": {
           "color": "orange",
           "family": "Roboto, sans-serif",
           "size": 15
          },
          "showarrow": false,
          "text": "Passive Shooting<br>Clinical Shooting",
          "x": 1,
          "xref": "paper",
          "y": 0,
          "yref": "paper"
         }
        ],
        "font": {
         "color": "white",
         "family": "Roboto, sans-serif",
         "size": 25
        },
        "height": 625,
        "hoverlabel": {
         "bgcolor": "rgba(20, 20, 20, 0.8)",
         "font": {
          "family": "Roboto, sans-serif"
         }
        },
        "images": [
         {
          "layer": "above",
          "opacity": 0.35,
          "sizex": 0.25,
          "sizey": 0.25,
          "sizing": "contain",
          "source": "https://i.imgur.com/SURo5sj.png",
          "x": 0.13043276661514683,
          "xanchor": "center",
          "xref": "x",
          "y": 5.5,
          "yanchor": "middle",
          "yref": "y"
         },
         {
          "layer": "above",
          "opacity": 0.35,
          "sizex": 0.25,
          "sizey": 0.25,
          "sizing": "contain",
          "source": "https://i.imgur.com/M4mwH1X.png",
          "x": 0.13193737769080235,
          "xanchor": "center",
          "xref": "x",
          "y": 4.7894736842105265,
          "yanchor": "middle",
          "yref": "y"
         },
         {
          "layer": "above",
          "opacity": 0.35,
          "sizex": 0.25,
          "sizey": 0.25,
          "sizing": "contain",
          "source": "https://i.imgur.com/0F6UIO4.png",
          "x": 0.11829313543599257,
          "xanchor": "center",
          "xref": "x",
          "y": 4.605263157894737,
          "yanchor": "middle",
          "yref": "y"
         },
         {
          "layer": "above",
          "opacity": 0.35,
          "sizex": 0.25,
          "sizey": 0.25,
          "sizing": "contain",
          "source": "https://i.imgur.com/MOhGOQ4.png",
          "x": 0.13678723404255322,
          "xanchor": "center",
          "xref": "x",
          "y": 4.184210526315789,
          "yanchor": "middle",
          "yref": "y"
         },
         {
          "layer": "above",
          "opacity": 0.35,
          "sizex": 0.25,
          "sizey": 0.25,
          "sizing": "contain",
          "source": "https://i.imgur.com/EMCwD3X.png",
          "x": 0.11154954954954954,
          "xanchor": "center",
          "xref": "x",
          "y": 5.2105263157894735,
          "yanchor": "middle",
          "yref": "y"
         },
         {
          "layer": "above",
          "opacity": 0.35,
          "sizex": 0.25,
          "sizey": 0.25,
          "sizing": "contain",
          "source": "https://i.imgur.com/6IDi9XJ.png",
          "x": 0.10102325581395348,
          "xanchor": "center",
          "xref": "x",
          "y": 3.6052631578947367,
          "yanchor": "middle",
          "yref": "y"
         },
         {
          "layer": "above",
          "opacity": 0.35,
          "sizex": 0.25,
          "sizey": 0.25,
          "sizing": "contain",
          "source": "https://i.imgur.com/6F7h3UR.png",
          "x": 0.1506145251396648,
          "xanchor": "center",
          "xref": "x",
          "y": 5.105263157894737,
          "yanchor": "middle",
          "yref": "y"
         },
         {
          "layer": "above",
          "opacity": 0.35,
          "sizex": 0.25,
          "sizey": 0.25,
          "sizing": "contain",
          "source": "https://i.imgur.com/LPhzr0K.png",
          "x": 0.1193362831858407,
          "xanchor": "center",
          "xref": "x",
          "y": 4.2631578947368425,
          "yanchor": "middle",
          "yref": "y"
         },
         {
          "layer": "above",
          "opacity": 0.35,
          "sizex": 0.25,
          "sizey": 0.25,
          "sizing": "contain",
          "source": "https://i.imgur.com/Dgei0uj.png",
          "x": 0.12053571428571429,
          "xanchor": "center",
          "xref": "x",
          "y": 4,
          "yanchor": "middle",
          "yref": "y"
         },
         {
          "layer": "above",
          "opacity": 0.35,
          "sizex": 0.25,
          "sizey": 0.25,
          "sizing": "contain",
          "source": "https://i.imgur.com/2zggSrF.png",
          "x": 0.10583166332665331,
          "xanchor": "center",
          "xref": "x",
          "y": 4.605263157894737,
          "yanchor": "middle",
          "yref": "y"
         },
         {
          "layer": "above",
          "opacity": 0.35,
          "sizex": 0.25,
          "sizey": 0.25,
          "sizing": "contain",
          "source": "https://i.imgur.com/fs7VK9G.png",
          "x": 0.12137003841229194,
          "xanchor": "center",
          "xref": "x",
          "y": 6.921052631578948,
          "yanchor": "middle",
          "yref": "y"
         },
         {
          "layer": "above",
          "opacity": 0.35,
          "sizex": 0.25,
          "sizey": 0.25,
          "sizing": "contain",
          "source": "https://i.imgur.com/vHHqKJX.png",
          "x": 0.11679156908665105,
          "xanchor": "center",
          "xref": "x",
          "y": 3.526315789473684,
          "yanchor": "middle",
          "yref": "y"
         },
         {
          "layer": "above",
          "opacity": 0.35,
          "sizex": 0.25,
          "sizey": 0.25,
          "sizing": "contain",
          "source": "https://i.imgur.com/FF8z7uZ.png",
          "x": 0.13111273792093703,
          "xanchor": "center",
          "xref": "x",
          "y": 6.947368421052632,
          "yanchor": "middle",
          "yref": "y"
         },
         {
          "layer": "above",
          "opacity": 0.35,
          "sizex": 0.25,
          "sizey": 0.25,
          "sizing": "contain",
          "source": "https://i.imgur.com/z47emBQ.png",
          "x": 0.1111049723756906,
          "xanchor": "center",
          "xref": "x",
          "y": 4.7894736842105265,
          "yanchor": "middle",
          "yref": "y"
         },
         {
          "layer": "above",
          "opacity": 0.35,
          "sizex": 0.25,
          "sizey": 0.25,
          "sizing": "contain",
          "source": "https://i.imgur.com/3kOLokZ.png",
          "x": 0.15586715867158674,
          "xanchor": "center",
          "xref": "x",
          "y": 5.157894736842105,
          "yanchor": "middle",
          "yref": "y"
         },
         {
          "layer": "above",
          "opacity": 0.35,
          "sizex": 0.25,
          "sizey": 0.25,
          "sizing": "contain",
          "source": "https://i.imgur.com/z4Tl9Zu.png",
          "x": 0.1159111111111111,
          "xanchor": "center",
          "xref": "x",
          "y": 3.763157894736842,
          "yanchor": "middle",
          "yref": "y"
         },
         {
          "layer": "above",
          "opacity": 0.35,
          "sizex": 0.25,
          "sizey": 0.25,
          "sizing": "contain",
          "source": "https://i.imgur.com/eeBetFN.png",
          "x": 0.11475,
          "xanchor": "center",
          "xref": "x",
          "y": 3.0789473684210527,
          "yanchor": "middle",
          "yref": "y"
         },
         {
          "layer": "above",
          "opacity": 0.35,
          "sizex": 0.25,
          "sizey": 0.25,
          "sizing": "contain",
          "source": "https://i.imgur.com/fJ7rUWW.png",
          "x": 0.12603092783505154,
          "xanchor": "center",
          "xref": "x",
          "y": 5.447368421052632,
          "yanchor": "middle",
          "yref": "y"
         },
         {
          "layer": "above",
          "opacity": 0.35,
          "sizex": 0.25,
          "sizey": 0.25,
          "sizing": "contain",
          "source": "https://i.imgur.com/9BQHJRl.png",
          "x": 0.12253932584269663,
          "xanchor": "center",
          "xref": "x",
          "y": 3.8421052631578947,
          "yanchor": "middle",
          "yref": "y"
         },
         {
          "layer": "above",
          "opacity": 0.35,
          "sizex": 0.25,
          "sizey": 0.25,
          "sizing": "contain",
          "source": "https://i.imgur.com/6azSF88.png",
          "x": 0.11917647058823529,
          "xanchor": "center",
          "xref": "x",
          "y": 4.026315789473684,
          "yanchor": "middle",
          "yref": "y"
         }
        ],
        "margin": {
         "b": 10,
         "l": 10,
         "r": 30,
         "t": 50
        },
        "paper_bgcolor": "rgb(70, 70, 70)",
        "plot_bgcolor": "rgb(70, 70, 70)",
        "shapes": [
         {
          "layer": "below",
          "line": {
           "color": "White",
           "width": 3
          },
          "type": "line",
          "x0": 0.12304979084650616,
          "x1": 0.12304979084650616,
          "y0": 2,
          "y1": 8
         },
         {
          "layer": "below",
          "line": {
           "color": "White",
           "width": 3
          },
          "type": "line",
          "x0": 0.05,
          "x1": 0.2,
          "y0": 4.6684210526315795,
          "y1": 4.6684210526315795
         }
        ],
        "showlegend": false,
        "template": {
         "data": {
          "candlestick": [
           {
            "decreasing": {
             "line": {
              "color": "#000033"
             }
            },
            "increasing": {
             "line": {
              "color": "#000032"
             }
            },
            "type": "candlestick"
           }
          ],
          "contour": [
           {
            "colorscale": [
             [
              0,
              "#000011"
             ],
             [
              0.1111111111111111,
              "#000012"
             ],
             [
              0.2222222222222222,
              "#000013"
             ],
             [
              0.3333333333333333,
              "#000014"
             ],
             [
              0.4444444444444444,
              "#000015"
             ],
             [
              0.5555555555555556,
              "#000016"
             ],
             [
              0.6666666666666666,
              "#000017"
             ],
             [
              0.7777777777777778,
              "#000018"
             ],
             [
              0.8888888888888888,
              "#000019"
             ],
             [
              1,
              "#000020"
             ]
            ],
            "type": "contour"
           }
          ],
          "contourcarpet": [
           {
            "colorscale": [
             [
              0,
              "#000011"
             ],
             [
              0.1111111111111111,
              "#000012"
             ],
             [
              0.2222222222222222,
              "#000013"
             ],
             [
              0.3333333333333333,
              "#000014"
             ],
             [
              0.4444444444444444,
              "#000015"
             ],
             [
              0.5555555555555556,
              "#000016"
             ],
             [
              0.6666666666666666,
              "#000017"
             ],
             [
              0.7777777777777778,
              "#000018"
             ],
             [
              0.8888888888888888,
              "#000019"
             ],
             [
              1,
              "#000020"
             ]
            ],
            "type": "contourcarpet"
           }
          ],
          "heatmap": [
           {
            "colorscale": [
             [
              0,
              "#000011"
             ],
             [
              0.1111111111111111,
              "#000012"
             ],
             [
              0.2222222222222222,
              "#000013"
             ],
             [
              0.3333333333333333,
              "#000014"
             ],
             [
              0.4444444444444444,
              "#000015"
             ],
             [
              0.5555555555555556,
              "#000016"
             ],
             [
              0.6666666666666666,
              "#000017"
             ],
             [
              0.7777777777777778,
              "#000018"
             ],
             [
              0.8888888888888888,
              "#000019"
             ],
             [
              1,
              "#000020"
             ]
            ],
            "type": "heatmap"
           }
          ],
          "histogram2d": [
           {
            "colorscale": [
             [
              0,
              "#000011"
             ],
             [
              0.1111111111111111,
              "#000012"
             ],
             [
              0.2222222222222222,
              "#000013"
             ],
             [
              0.3333333333333333,
              "#000014"
             ],
             [
              0.4444444444444444,
              "#000015"
             ],
             [
              0.5555555555555556,
              "#000016"
             ],
             [
              0.6666666666666666,
              "#000017"
             ],
             [
              0.7777777777777778,
              "#000018"
             ],
             [
              0.8888888888888888,
              "#000019"
             ],
             [
              1,
              "#000020"
             ]
            ],
            "type": "histogram2d"
           }
          ],
          "icicle": [
           {
            "textfont": {
             "color": "white"
            },
            "type": "icicle"
           }
          ],
          "sankey": [
           {
            "textfont": {
             "color": "#000036"
            },
            "type": "sankey"
           }
          ],
          "scatter": [
           {
            "marker": {
             "line": {
              "width": 0
             }
            },
            "type": "scatter"
           }
          ],
          "table": [
           {
            "cells": {
             "fill": {
              "color": "#000038"
             },
             "font": {
              "color": "#000037"
             },
             "line": {
              "color": "#000039"
             }
            },
            "header": {
             "fill": {
              "color": "#000040"
             },
             "font": {
              "color": "#000036"
             },
             "line": {
              "color": "#000039"
             }
            },
            "type": "table"
           }
          ],
          "waterfall": [
           {
            "connector": {
             "line": {
              "color": "#000036",
              "width": 2
             }
            },
            "decreasing": {
             "marker": {
              "color": "#000033"
             }
            },
            "increasing": {
             "marker": {
              "color": "#000032"
             }
            },
            "totals": {
             "marker": {
              "color": "#000034"
             }
            },
            "type": "waterfall"
           }
          ]
         },
         "layout": {
          "coloraxis": {
           "colorscale": [
            [
             0,
             "#000011"
            ],
            [
             0.1111111111111111,
             "#000012"
            ],
            [
             0.2222222222222222,
             "#000013"
            ],
            [
             0.3333333333333333,
             "#000014"
            ],
            [
             0.4444444444444444,
             "#000015"
            ],
            [
             0.5555555555555556,
             "#000016"
            ],
            [
             0.6666666666666666,
             "#000017"
            ],
            [
             0.7777777777777778,
             "#000018"
            ],
            [
             0.8888888888888888,
             "#000019"
            ],
            [
             1,
             "#000020"
            ]
           ]
          },
          "colorscale": {
           "diverging": [
            [
             0,
             "#000021"
            ],
            [
             0.1,
             "#000022"
            ],
            [
             0.2,
             "#000023"
            ],
            [
             0.3,
             "#000024"
            ],
            [
             0.4,
             "#000025"
            ],
            [
             0.5,
             "#000026"
            ],
            [
             0.6,
             "#000027"
            ],
            [
             0.7,
             "#000028"
            ],
            [
             0.8,
             "#000029"
            ],
            [
             0.9,
             "#000030"
            ],
            [
             1,
             "#000031"
            ]
           ],
           "sequential": [
            [
             0,
             "#000011"
            ],
            [
             0.1111111111111111,
             "#000012"
            ],
            [
             0.2222222222222222,
             "#000013"
            ],
            [
             0.3333333333333333,
             "#000014"
            ],
            [
             0.4444444444444444,
             "#000015"
            ],
            [
             0.5555555555555556,
             "#000016"
            ],
            [
             0.6666666666666666,
             "#000017"
            ],
            [
             0.7777777777777778,
             "#000018"
            ],
            [
             0.8888888888888888,
             "#000019"
            ],
            [
             1,
             "#000020"
            ]
           ],
           "sequentialminus": [
            [
             0,
             "#000011"
            ],
            [
             0.1111111111111111,
             "#000012"
            ],
            [
             0.2222222222222222,
             "#000013"
            ],
            [
             0.3333333333333333,
             "#000014"
            ],
            [
             0.4444444444444444,
             "#000015"
            ],
            [
             0.5555555555555556,
             "#000016"
            ],
            [
             0.6666666666666666,
             "#000017"
            ],
            [
             0.7777777777777778,
             "#000018"
            ],
            [
             0.8888888888888888,
             "#000019"
            ],
            [
             1,
             "#000020"
            ]
           ]
          },
          "colorway": [
           "#000001",
           "#000002",
           "#000003",
           "#000004",
           "#000005",
           "#000006",
           "#000007",
           "#000008",
           "#000009",
           "#000010"
          ]
         }
        },
        "title": {
         "font": {
          "color": "white",
          "family": "Roboto, sans-serif",
          "size": 23
         },
         "text": "SHOOTING",
         "x": 0.5,
         "xanchor": "center",
         "y": 0.98,
         "yanchor": "top"
        },
        "width": 625,
        "xaxis": {
         "gridcolor": "rgba(0,0,0,0)",
         "linecolor": "white",
         "linewidth": 2,
         "range": [
          0.05,
          0.2
         ],
         "showline": true,
         "tickfont": {
          "color": "white",
          "size": 15
         },
         "title": {
          "font": {
           "size": 25
          },
          "text": "XG PER SHOT"
         }
        },
        "yaxis": {
         "gridcolor": "rgba(0,0,0,0)",
         "linecolor": "white",
         "linewidth": 2,
         "range": [
          2,
          8
         ],
         "showline": true,
         "tickfont": {
          "color": "white",
          "size": 15
         },
         "title": {
          "font": {
           "size": 25
          },
          "text": "SHOTS ON TARGET PER GAME"
         }
        }
       }
      }
     },
     "metadata": {},
     "output_type": "display_data"
    }
   ],
   "source": [
    "create_FM_team_scatter_chart(filt_shooting_chart, 'SHOOTING', \"AC Milan\", \n",
    "                             'XG PER SHOT', 'SHOTS ON TARGET PER GAME', 0.25, 0.05, 0.2, 2, 8, \n",
    "                                                        \"Passive Shooting<br>Wasteful Shooting\", \n",
    "                                                        \"Passive Shooting<br>Clinical Shooting\",\n",
    "                                                        \"Aggressive Shooting<br>Wasteful Shooting\",\n",
    "                                                        \"Aggressive Shooting<br>Clinical Shooting\",\n",
    "                                                        \"red\", \"orange\", \"orange\", \"green\")\n"
   ]
  },
  {
   "cell_type": "markdown",
   "metadata": {},
   "source": [
    "### Time to look at set-pieces again"
   ]
  },
  {
   "cell_type": "code",
   "execution_count": 84,
   "metadata": {},
   "outputs": [],
   "source": [
    "df_events = fetch_data(cursor, 'SELECT * FROM EVENTS_SPADL')"
   ]
  },
  {
   "cell_type": "code",
   "execution_count": 85,
   "metadata": {},
   "outputs": [],
   "source": [
    "df_events = df_events.merge(df_matches[['MATCH_ID','COMPETITION','SEASON']], on='MATCH_ID', how='left')"
   ]
  },
  {
   "cell_type": "code",
   "execution_count": 86,
   "metadata": {},
   "outputs": [],
   "source": [
    "set_piece_cross_events = df_events[df_events['TYPE_NAME'].isin(['freekick_crossed', 'corner_crossed'])]"
   ]
  },
  {
   "cell_type": "code",
   "execution_count": 87,
   "metadata": {},
   "outputs": [
    {
     "name": "stderr",
     "output_type": "stream",
     "text": [
      "C:\\Users\\ksbha\\AppData\\Local\\Temp\\ipykernel_23380\\2166643350.py:1: SettingWithCopyWarning:\n",
      "\n",
      "\n",
      "A value is trying to be set on a copy of a slice from a DataFrame.\n",
      "Try using .loc[row_indexer,col_indexer] = value instead\n",
      "\n",
      "See the caveats in the documentation: https://pandas.pydata.org/pandas-docs/stable/user_guide/indexing.html#returning-a-view-versus-a-copy\n",
      "\n"
     ]
    }
   ],
   "source": [
    "set_piece_cross_events.loc[:, 'OPPO_TEAM_ID'] = \"NaN\""
   ]
  },
  {
   "cell_type": "code",
   "execution_count": 88,
   "metadata": {},
   "outputs": [],
   "source": [
    "def swap_team_id(row, home_id, away_id):\n",
    "    if row['TEAM_FBREF_ID'] == home_id:\n",
    "        return away_id\n",
    "    elif row['TEAM_FBREF_ID'] == away_id:\n",
    "        return home_id\n",
    "    else:\n",
    "        return \"PROBLEM\""
   ]
  },
  {
   "cell_type": "code",
   "execution_count": 89,
   "metadata": {},
   "outputs": [],
   "source": [
    "def specify_oppo_team_id_to_events(df_events, filtered_matches):\n",
    "    for ind, row in filtered_matches.iterrows():\n",
    "        home_team_id = row['HOME_TEAM_ID']\n",
    "        away_team_id = row['AWAY_TEAM_ID']\n",
    "\n",
    "        inds_to_replace = df_events[df_events['MATCH_ID'] == row['MATCH_ID']].index\n",
    "        df_events.loc[inds_to_replace, 'OPPO_TEAM_ID'] = df_events.loc[inds_to_replace].apply(swap_team_id, \n",
    "                                                                                             axis=1, args=(home_team_id, away_team_id))\n",
    "    return df_events"
   ]
  },
  {
   "cell_type": "code",
   "execution_count": 90,
   "metadata": {},
   "outputs": [],
   "source": [
    "set_piece_cross_events = specify_oppo_team_id_to_events(set_piece_cross_events, df_matches)"
   ]
  },
  {
   "cell_type": "code",
   "execution_count": 91,
   "metadata": {},
   "outputs": [],
   "source": [
    "team_names_2 = team_names[['TEAM_NAME', 'TEAM_FBREF_ID']].copy()\n",
    "team_names_2.rename({'TEAM_FBREF_ID':'OPPO_TEAM_ID', 'TEAM_NAME':'OPPO_TEAM_NAME'}, axis=1, inplace=True)"
   ]
  },
  {
   "cell_type": "code",
   "execution_count": 92,
   "metadata": {},
   "outputs": [],
   "source": [
    "set_piece_cross_events = set_piece_cross_events.merge(team_names_2, on=\"OPPO_TEAM_ID\")"
   ]
  },
  {
   "cell_type": "code",
   "execution_count": 93,
   "metadata": {},
   "outputs": [],
   "source": [
    "set_piece_cross_events = set_piece_cross_events.merge(team_names[['TEAM_NAME', 'TEAM_FBREF_ID']], on=\"TEAM_FBREF_ID\")"
   ]
  },
  {
   "cell_type": "code",
   "execution_count": 94,
   "metadata": {},
   "outputs": [],
   "source": [
    "set_piece_cross_events_grouped = set_piece_cross_events[['OPPO_TEAM_NAME','COMPETITION',\n",
    "                                'SEASON','MATCH_ID']].groupby(['OPPO_TEAM_NAME','COMPETITION','SEASON']).count()"
   ]
  },
  {
   "cell_type": "code",
   "execution_count": 95,
   "metadata": {},
   "outputs": [],
   "source": [
    "own_set_piece_cross_events_grouped = set_piece_cross_events[['TEAM_NAME','COMPETITION','SEASON',\n",
    "                                    'MATCH_ID']].groupby(['TEAM_NAME','COMPETITION','SEASON']).count()"
   ]
  },
  {
   "cell_type": "code",
   "execution_count": 96,
   "metadata": {},
   "outputs": [],
   "source": [
    "team_name_matches_played = team_attacking[['TEAM_NAME', 'COMPETITION','SEASON','MATCHES_PLAYED']].copy()"
   ]
  },
  {
   "cell_type": "code",
   "execution_count": 97,
   "metadata": {},
   "outputs": [],
   "source": [
    "set_piece_cross_events_grouped.rename({'MATCH_ID':'OPPOSITION CROSSES FROM SET PIECE'}, axis=1, inplace=True)"
   ]
  },
  {
   "cell_type": "code",
   "execution_count": 98,
   "metadata": {},
   "outputs": [],
   "source": [
    "own_set_piece_cross_events_grouped.rename({'MATCH_ID':'CROSSES FROM SET PIECES'}, axis=1, inplace=True)"
   ]
  },
  {
   "cell_type": "code",
   "execution_count": 99,
   "metadata": {},
   "outputs": [],
   "source": [
    "set_piece_cross_events_grouped = team_name_matches_played.merge(set_piece_cross_events_grouped.reset_index().rename(\n",
    "    {'OPPO_TEAM_NAME':'TEAM_NAME'}, axis=1),on=['TEAM_NAME','COMPETITION','SEASON'])"
   ]
  },
  {
   "cell_type": "code",
   "execution_count": 100,
   "metadata": {},
   "outputs": [],
   "source": [
    "own_set_piece_cross_events_grouped = team_name_matches_played.merge(own_set_piece_cross_events_grouped.reset_index(),\n",
    "                                                                    on=['TEAM_NAME','COMPETITION','SEASON'])"
   ]
  },
  {
   "cell_type": "code",
   "execution_count": 101,
   "metadata": {},
   "outputs": [],
   "source": [
    "set_piece_box_deliveries = set_piece_cross_events.copy()"
   ]
  },
  {
   "cell_type": "code",
   "execution_count": 102,
   "metadata": {},
   "outputs": [],
   "source": [
    "set_piece_box_deliveries.reset_index(drop=True, inplace=True)"
   ]
  },
  {
   "cell_type": "code",
   "execution_count": 103,
   "metadata": {},
   "outputs": [],
   "source": [
    "## Only interested in crosses that end up in the box\n",
    "set_piece_box_deliveries = set_piece_box_deliveries[set_piece_box_deliveries['END_X'] >= 88.5]\n",
    "set_piece_box_deliveries = set_piece_box_deliveries[set_piece_box_deliveries['END_Y'] <= 54.16]\n",
    "set_piece_box_deliveries = set_piece_box_deliveries[set_piece_box_deliveries['END_Y'] >= 13.84]"
   ]
  },
  {
   "cell_type": "code",
   "execution_count": 104,
   "metadata": {},
   "outputs": [],
   "source": [
    "## Now, we want to cateogrize each cross as a \"near post\", \"central\", or \"far post\" cross\n",
    "\"\"\" \n",
    "If START_Y < 30.34, then:\n",
    "    - Near post is where END_Y is < 30.34\n",
    "    - Central is where END_Y is between 30.34 and 37.66\n",
    "    - Far post is where END_Y is > 37.66\n",
    "\n",
    "If START_Y > 37.66, then:\n",
    "    - Near post is where END_Y is > 37.66\n",
    "    - Central is where END_Y is between 30.34 and 37.66\n",
    "    - Far post is where END_Y is < 30.34\n",
    "\"\"\"\n",
    "\n",
    "def classify_cross(row):\n",
    "    if row['START_Y'] < 34.00:\n",
    "        if row['END_Y'] < 30.34:\n",
    "            return 'Near post'\n",
    "        elif row['END_Y'] > 37.66:\n",
    "            return 'Far post'\n",
    "        elif row['END_Y'] >= 30.34 and row['END_Y'] <= 37.66:\n",
    "            return 'Central'\n",
    "    elif row['START_Y'] >= 34.0:\n",
    "        if row['END_Y'] > 37.66:\n",
    "            return 'Near post'\n",
    "        elif row['END_Y'] < 30.34:\n",
    "            return 'Far post'\n",
    "        elif row['END_Y'] >= 30.34 and row['END_Y'] <= 37.66:\n",
    "            return 'Central'\n",
    "    else:\n",
    "        return 'Not Classified'"
   ]
  },
  {
   "cell_type": "code",
   "execution_count": 105,
   "metadata": {},
   "outputs": [],
   "source": [
    "set_piece_box_deliveries['Cross_end_location'] = \"NaN\"\n",
    "set_piece_box_deliveries['Cross_end_location'] = set_piece_box_deliveries.apply(classify_cross, axis=1)"
   ]
  },
  {
   "cell_type": "code",
   "execution_count": 106,
   "metadata": {},
   "outputs": [
    {
     "data": {
      "text/plain": [
       "Central      27936\n",
       "Near post    19043\n",
       "Far post     13546\n",
       "Name: Cross_end_location, dtype: int64"
      ]
     },
     "execution_count": 106,
     "metadata": {},
     "output_type": "execute_result"
    }
   ],
   "source": [
    "set_piece_box_deliveries['Cross_end_location'].value_counts()"
   ]
  },
  {
   "cell_type": "code",
   "execution_count": 107,
   "metadata": {},
   "outputs": [],
   "source": [
    "filter_1st_contacts = set_piece_box_deliveries[['MATCH_ID', 'ACTION_ID']].copy()\n",
    "filter_1st_contacts['ACTION_ID'] += 1"
   ]
  },
  {
   "cell_type": "code",
   "execution_count": 108,
   "metadata": {},
   "outputs": [],
   "source": [
    "set_piece_cross_1st_contacts = df_events.merge(filter_1st_contacts, on=['MATCH_ID', 'ACTION_ID'],how='right')"
   ]
  },
  {
   "cell_type": "code",
   "execution_count": 109,
   "metadata": {},
   "outputs": [],
   "source": [
    "match_ids_to_remove = set_piece_cross_1st_contacts[set_piece_cross_1st_contacts['TEAM_FBREF_ID'].isna()]['MATCH_ID'].values \n",
    "action_ids_to_remove = set_piece_cross_1st_contacts[set_piece_cross_1st_contacts['TEAM_FBREF_ID'].isna()]['ACTION_ID'].values"
   ]
  },
  {
   "cell_type": "code",
   "execution_count": 110,
   "metadata": {},
   "outputs": [],
   "source": [
    "## Remove missing rows!\n",
    "for i in range(len(match_ids_to_remove)):\n",
    "    set_piece_cross_1st_contacts = set_piece_cross_1st_contacts[(set_piece_cross_1st_contacts['MATCH_ID'] != match_ids_to_remove[i]) |\n",
    "                            (set_piece_cross_1st_contacts['ACTION_ID'] != action_ids_to_remove[i])]\n",
    "    \n",
    "    set_piece_box_deliveries = set_piece_box_deliveries[(set_piece_box_deliveries['MATCH_ID'] != match_ids_to_remove[i]) |\n",
    "                            (set_piece_box_deliveries['ACTION_ID'] != action_ids_to_remove[i]-1)]"
   ]
  },
  {
   "cell_type": "code",
   "execution_count": 111,
   "metadata": {},
   "outputs": [],
   "source": [
    "set_piece_cross_1st_contacts = specify_oppo_team_id_to_events(set_piece_cross_1st_contacts, df_matches)"
   ]
  },
  {
   "cell_type": "code",
   "execution_count": 112,
   "metadata": {},
   "outputs": [],
   "source": [
    "set_piece_box_deliveries = specify_oppo_team_id_to_events(set_piece_box_deliveries, df_matches)"
   ]
  },
  {
   "cell_type": "code",
   "execution_count": 113,
   "metadata": {},
   "outputs": [],
   "source": [
    "set_piece_cross_1st_contacts = set_piece_cross_1st_contacts.merge(team_names[['TEAM_NAME', 'TEAM_FBREF_ID']], on=\"TEAM_FBREF_ID\")\n",
    "set_piece_cross_1st_contacts = set_piece_cross_1st_contacts.merge(team_names_2, on=\"OPPO_TEAM_ID\")"
   ]
  },
  {
   "cell_type": "code",
   "execution_count": 114,
   "metadata": {},
   "outputs": [],
   "source": [
    "# set_piece_box_deliveries = set_piece_box_deliveries.merge(team_names[['TEAM_NAME', 'TEAM_FBREF_ID']], on=\"TEAM_FBREF_ID\")"
   ]
  },
  {
   "cell_type": "code",
   "execution_count": 115,
   "metadata": {},
   "outputs": [],
   "source": [
    "set_piece_cross_1st_contacts.sort_values(by=['MATCH_ID', 'ACTION_ID'], inplace=True)\n",
    "set_piece_cross_1st_contacts.reset_index(drop=True, inplace=True)\n",
    "set_piece_box_deliveries.sort_values(by=['MATCH_ID', 'ACTION_ID'], inplace=True)\n",
    "set_piece_box_deliveries.reset_index(drop=True, inplace=True)"
   ]
  },
  {
   "cell_type": "code",
   "execution_count": 116,
   "metadata": {},
   "outputs": [],
   "source": [
    "set_piece_cross_1st_contacts['Cross_end_location'] = set_piece_box_deliveries['Cross_end_location']"
   ]
  },
  {
   "cell_type": "code",
   "execution_count": 117,
   "metadata": {},
   "outputs": [],
   "source": [
    "set_piece_same_1st_contacts = set_piece_cross_1st_contacts[set_piece_box_deliveries['TEAM_FBREF_ID'] == set_piece_cross_1st_contacts['TEAM_FBREF_ID']]\n",
    "set_piece_other_1st_contacts = set_piece_cross_1st_contacts[set_piece_box_deliveries['TEAM_FBREF_ID'] != set_piece_cross_1st_contacts['TEAM_FBREF_ID']]"
   ]
  },
  {
   "cell_type": "code",
   "execution_count": 118,
   "metadata": {},
   "outputs": [],
   "source": [
    "att_team_won_1st_contact = set_piece_same_1st_contacts.groupby(['COMPETITION', 'SEASON', 'TEAM_NAME', \n",
    "                                                                 'Cross_end_location'])['Cross_end_location'].count()"
   ]
  },
  {
   "cell_type": "code",
   "execution_count": 119,
   "metadata": {},
   "outputs": [],
   "source": [
    "att_team_lost_1st_contact = set_piece_other_1st_contacts.groupby(['COMPETITION', 'SEASON', 'OPPO_TEAM_NAME', \n",
    "                                                                 'Cross_end_location'])['Cross_end_location'].count()"
   ]
  },
  {
   "cell_type": "code",
   "execution_count": 120,
   "metadata": {},
   "outputs": [
    {
     "data": {
      "text/plain": [
       "(876,)"
      ]
     },
     "execution_count": 120,
     "metadata": {},
     "output_type": "execute_result"
    }
   ],
   "source": [
    "att_team_won_1st_contact.shape"
   ]
  },
  {
   "cell_type": "code",
   "execution_count": 121,
   "metadata": {},
   "outputs": [
    {
     "data": {
      "text/plain": [
       "(876,)"
      ]
     },
     "execution_count": 121,
     "metadata": {},
     "output_type": "execute_result"
    }
   ],
   "source": [
    "att_team_lost_1st_contact.shape"
   ]
  },
  {
   "cell_type": "code",
   "execution_count": 122,
   "metadata": {},
   "outputs": [],
   "source": [
    "att_set_piece_final = (att_team_won_1st_contact/(att_team_lost_1st_contact+att_team_won_1st_contact))*100"
   ]
  },
  {
   "cell_type": "code",
   "execution_count": 123,
   "metadata": {},
   "outputs": [],
   "source": [
    "att_set_piece_final = pd.DataFrame(att_set_piece_final).rename({'Cross_end_location':'PERC_1ST_CONTACT'}, axis=1).reset_index()"
   ]
  },
  {
   "cell_type": "code",
   "execution_count": 124,
   "metadata": {},
   "outputs": [],
   "source": [
    "att_set_piece_final.rename(columns={'Cross_end_location':'CROSS_END_LOCATION'}, inplace=True)"
   ]
  },
  {
   "cell_type": "code",
   "execution_count": 125,
   "metadata": {},
   "outputs": [],
   "source": [
    "att_set_piece_final = att_set_piece_final.merge(df_competitions, on=['COMPETITION','SEASON'])"
   ]
  },
  {
   "cell_type": "code",
   "execution_count": 126,
   "metadata": {},
   "outputs": [],
   "source": [
    "att_set_piece_final.drop(['COMPETITION'], axis=1, inplace=True)"
   ]
  },
  {
   "cell_type": "code",
   "execution_count": 127,
   "metadata": {},
   "outputs": [],
   "source": [
    "create_table_query = \"\"\"\n",
    "CREATE TABLE IF NOT EXISTS TEAM_ATT_SET_PIECE_FIRST_CONTACTS (\n",
    "    SEASON INT,\n",
    "    COMPETITION_ACRONYM VARCHAR(255),\n",
    "    TEAM_NAME VARCHAR(255),\n",
    "    PERC_1ST_CONTACT FLOAT,\n",
    "    CROSS_END_LOCATION VARCHAR(255),\n",
    "    PRIMARY KEY (SEASON, COMPETITION_ACRONYM, TEAM_NAME, CROSS_END_LOCATION)\n",
    ");\n",
    "\"\"\""
   ]
  },
  {
   "cell_type": "code",
   "execution_count": 128,
   "metadata": {},
   "outputs": [
    {
     "data": {
      "text/plain": [
       "<snowflake.connector.cursor.SnowflakeCursor at 0x143e0865be0>"
      ]
     },
     "execution_count": 128,
     "metadata": {},
     "output_type": "execute_result"
    }
   ],
   "source": [
    "cur.execute(create_table_query)"
   ]
  },
  {
   "cell_type": "code",
   "execution_count": 129,
   "metadata": {},
   "outputs": [
    {
     "name": "stdout",
     "output_type": "stream",
     "text": [
      "Upsert completed. 876 rows processed.\n"
     ]
    }
   ],
   "source": [
    "upsert_to_snowflake(\"TEAM_ATT_SET_PIECE_FIRST_CONTACTS\", att_set_piece_final, ['SEASON', 'COMPETITION_ACRONYM', 'TEAM_NAME',\n",
    "                                                                            'CROSS_END_LOCATION'])"
   ]
  },
  {
   "cell_type": "code",
   "execution_count": 130,
   "metadata": {},
   "outputs": [],
   "source": [
    "att_set_piece_final = fetch_data(cursor, 'SELECT * FROM  GEGENSTATS.RADAR_CHARTS.TEAM_ATT_SET_PIECE_FIRST_CONTACTS')"
   ]
  },
  {
   "cell_type": "code",
   "execution_count": 131,
   "metadata": {},
   "outputs": [
    {
     "data": {
      "text/html": [
       "<div>\n",
       "<style scoped>\n",
       "    .dataframe tbody tr th:only-of-type {\n",
       "        vertical-align: middle;\n",
       "    }\n",
       "\n",
       "    .dataframe tbody tr th {\n",
       "        vertical-align: top;\n",
       "    }\n",
       "\n",
       "    .dataframe thead th {\n",
       "        text-align: right;\n",
       "    }\n",
       "</style>\n",
       "<table border=\"1\" class=\"dataframe\">\n",
       "  <thead>\n",
       "    <tr style=\"text-align: right;\">\n",
       "      <th></th>\n",
       "      <th>SEASON</th>\n",
       "      <th>COMPETITION_ACRONYM</th>\n",
       "      <th>TEAM_NAME</th>\n",
       "      <th>PERC_1ST_CONTACT</th>\n",
       "      <th>CROSS_END_LOCATION</th>\n",
       "    </tr>\n",
       "  </thead>\n",
       "  <tbody>\n",
       "    <tr>\n",
       "      <th>0</th>\n",
       "      <td>2122</td>\n",
       "      <td>EPL</td>\n",
       "      <td>Arsenal</td>\n",
       "      <td>25.892857</td>\n",
       "      <td>Central</td>\n",
       "    </tr>\n",
       "    <tr>\n",
       "      <th>1</th>\n",
       "      <td>2122</td>\n",
       "      <td>EPL</td>\n",
       "      <td>Arsenal</td>\n",
       "      <td>44.000000</td>\n",
       "      <td>Far post</td>\n",
       "    </tr>\n",
       "    <tr>\n",
       "      <th>2</th>\n",
       "      <td>2122</td>\n",
       "      <td>EPL</td>\n",
       "      <td>Arsenal</td>\n",
       "      <td>18.181818</td>\n",
       "      <td>Near post</td>\n",
       "    </tr>\n",
       "    <tr>\n",
       "      <th>3</th>\n",
       "      <td>2122</td>\n",
       "      <td>EPL</td>\n",
       "      <td>Aston Villa</td>\n",
       "      <td>17.948718</td>\n",
       "      <td>Central</td>\n",
       "    </tr>\n",
       "    <tr>\n",
       "      <th>4</th>\n",
       "      <td>2122</td>\n",
       "      <td>EPL</td>\n",
       "      <td>Aston Villa</td>\n",
       "      <td>52.000000</td>\n",
       "      <td>Far post</td>\n",
       "    </tr>\n",
       "    <tr>\n",
       "      <th>...</th>\n",
       "      <td>...</td>\n",
       "      <td>...</td>\n",
       "      <td>...</td>\n",
       "      <td>...</td>\n",
       "      <td>...</td>\n",
       "    </tr>\n",
       "    <tr>\n",
       "      <th>871</th>\n",
       "      <td>2324</td>\n",
       "      <td>Serie A</td>\n",
       "      <td>Torino</td>\n",
       "      <td>35.000000</td>\n",
       "      <td>Far post</td>\n",
       "    </tr>\n",
       "    <tr>\n",
       "      <th>872</th>\n",
       "      <td>2324</td>\n",
       "      <td>Serie A</td>\n",
       "      <td>Torino</td>\n",
       "      <td>34.939759</td>\n",
       "      <td>Near post</td>\n",
       "    </tr>\n",
       "    <tr>\n",
       "      <th>873</th>\n",
       "      <td>2324</td>\n",
       "      <td>Serie A</td>\n",
       "      <td>Udinese</td>\n",
       "      <td>44.897959</td>\n",
       "      <td>Central</td>\n",
       "    </tr>\n",
       "    <tr>\n",
       "      <th>874</th>\n",
       "      <td>2324</td>\n",
       "      <td>Serie A</td>\n",
       "      <td>Udinese</td>\n",
       "      <td>43.478261</td>\n",
       "      <td>Far post</td>\n",
       "    </tr>\n",
       "    <tr>\n",
       "      <th>875</th>\n",
       "      <td>2324</td>\n",
       "      <td>Serie A</td>\n",
       "      <td>Udinese</td>\n",
       "      <td>24.528302</td>\n",
       "      <td>Near post</td>\n",
       "    </tr>\n",
       "  </tbody>\n",
       "</table>\n",
       "<p>876 rows × 5 columns</p>\n",
       "</div>"
      ],
      "text/plain": [
       "     SEASON COMPETITION_ACRONYM    TEAM_NAME  PERC_1ST_CONTACT  \\\n",
       "0      2122                 EPL      Arsenal         25.892857   \n",
       "1      2122                 EPL      Arsenal         44.000000   \n",
       "2      2122                 EPL      Arsenal         18.181818   \n",
       "3      2122                 EPL  Aston Villa         17.948718   \n",
       "4      2122                 EPL  Aston Villa         52.000000   \n",
       "..      ...                 ...          ...               ...   \n",
       "871    2324             Serie A       Torino         35.000000   \n",
       "872    2324             Serie A       Torino         34.939759   \n",
       "873    2324             Serie A      Udinese         44.897959   \n",
       "874    2324             Serie A      Udinese         43.478261   \n",
       "875    2324             Serie A      Udinese         24.528302   \n",
       "\n",
       "    CROSS_END_LOCATION  \n",
       "0              Central  \n",
       "1             Far post  \n",
       "2            Near post  \n",
       "3              Central  \n",
       "4             Far post  \n",
       "..                 ...  \n",
       "871           Far post  \n",
       "872          Near post  \n",
       "873            Central  \n",
       "874           Far post  \n",
       "875          Near post  \n",
       "\n",
       "[876 rows x 5 columns]"
      ]
     },
     "execution_count": 131,
     "metadata": {},
     "output_type": "execute_result"
    }
   ],
   "source": [
    "att_set_piece_final"
   ]
  },
  {
   "cell_type": "code",
   "execution_count": 132,
   "metadata": {},
   "outputs": [],
   "source": [
    "att_set_piece_final_filt = att_set_piece_final[att_set_piece_final['SEASON'] == season_selected]\n",
    "att_set_piece_final_filt = att_set_piece_final_filt[att_set_piece_final_filt['COMPETITION_ACRONYM'] == league_selected]\n",
    "att_set_piece_final_filt = att_set_piece_final_filt[att_set_piece_final_filt['TEAM_NAME'] == 'Arsenal']"
   ]
  },
  {
   "cell_type": "code",
   "execution_count": 133,
   "metadata": {},
   "outputs": [],
   "source": [
    "att_set_piece_chart = att_set_piece_final_filt[['CROSS_END_LOCATION', 'PERC_1ST_CONTACT']].set_index('CROSS_END_LOCATION')"
   ]
  },
  {
   "cell_type": "code",
   "execution_count": 134,
   "metadata": {},
   "outputs": [
    {
     "data": {
      "text/plain": [
       "28.57142857142857"
      ]
     },
     "execution_count": 134,
     "metadata": {},
     "output_type": "execute_result"
    }
   ],
   "source": [
    "att_set_piece_chart.loc['Near post'].values[0]"
   ]
  },
  {
   "cell_type": "code",
   "execution_count": 135,
   "metadata": {},
   "outputs": [],
   "source": [
    "def create_set_piece_first_contacts_plot(def_set_piece_chart):\n",
    "    pitch = VerticalPitch(pitch_color='#2B2B2B', line_color='white', goal_type='box', pitch_type='uefa', linewidth=1, half=True)\n",
    "    fig, ax = pitch.draw(figsize=(8, 12))\n",
    "\n",
    "    # Define the coordinates for the rectangles\n",
    "    rect_coords = [\n",
    "        [(13.84, 105), (13.84, 88.5), (30.09, 88.5), (30.09, 105)],  # Rect1\n",
    "        [(30.59, 105), (30.59, 88.5), (37.41, 88.5), (37.41, 105)],  # Rect2\n",
    "        [(37.91, 105), (37.91, 88.5), (54.16, 88.5), (54.16, 105)]  # Rect3\n",
    "    ]\n",
    "\n",
    "    # Example percentages for each rectangle (use your actual values here)\n",
    "    percentages = [def_set_piece_chart.loc['Near post'].values[0], def_set_piece_chart.loc['Central'].values[0], \n",
    "                   def_set_piece_chart.loc['Far post'].values[0]]\n",
    "\n",
    "    # Function to calculate green color based on percentage\n",
    "    def get_green_color(percentage, max_percentage=100):  # Assuming 100 is the max percentage\n",
    "        green_intensity = int((percentage / max_percentage) * 255)\n",
    "        return f'#00{green_intensity:02x}00'\n",
    "\n",
    "    # Create the rectangular patches\n",
    "    for i, coords in enumerate(rect_coords):\n",
    "        polygon = patches.Polygon(coords, closed=True, color=\"#00b200\", zorder=2,  alpha=0.75)\n",
    "        ax.add_patch(polygon)\n",
    "\n",
    "        # Add text label in the center of each rectangle\n",
    "        rect_center_x = (coords[0][0] + coords[2][0]) / 2 \n",
    "        rect_center_y = (coords[0][1] + coords[2][1]) / 2\n",
    "        ax.text(rect_center_x, rect_center_y, f'{int(percentages[i])}%',fontproperties='Roboto',\n",
    "                va='center', ha='center', color='white', fontsize=18, zorder=3)\n",
    "\n",
    "    # Set figure and axis background color\n",
    "    fig.patch.set_facecolor('#2B2B2B')\n",
    "    ax.patch.set_facecolor('#2B2B2B')\n",
    "\n",
    "    arrow_start = (0, 107)  # Adjust these values as needed for your plot\n",
    "    arrow_end = (18.84, 107)    # Adjust these values as needed for your plot\n",
    "\n",
    "    # Draw the arrow\n",
    "    ax.add_patch(patches.FancyArrow(\n",
    "        arrow_start[0], arrow_start[1],  # x, y start point\n",
    "        arrow_end[0] - arrow_start[0], arrow_end[1] - arrow_start[1],  # dx, dy length\n",
    "        width=0.3,  # Width of the full arrow tail\n",
    "        length_includes_head=False,  # The head is included in the calculation of the arrow's length\n",
    "        head_width=1,  # Width of the arrow head\n",
    "        head_length=1.5,  # Length of the arrow head\n",
    "        color='lightgrey'  # Light grey color\n",
    "    ))\n",
    "\n",
    "    plt.title('SET PIECE FIRST CONTACTS - OPPOSITION BOX', color='gold', fontsize=20, fontname='Roboto', loc='left')\n",
    "\n",
    "    return fig"
   ]
  },
  {
   "cell_type": "code",
   "execution_count": 136,
   "metadata": {},
   "outputs": [
    {
     "data": {
      "text/plain": [
       "<Figure size 800x1200 with 1 Axes>"
      ]
     },
     "execution_count": 136,
     "metadata": {},
     "output_type": "execute_result"
    }
   ],
   "source": [
    "create_set_piece_first_contacts_plot(att_set_piece_chart)"
   ]
  },
  {
   "cell_type": "code",
   "execution_count": null,
   "metadata": {},
   "outputs": [],
   "source": []
  },
  {
   "cell_type": "code",
   "execution_count": null,
   "metadata": {},
   "outputs": [],
   "source": []
  },
  {
   "cell_type": "code",
   "execution_count": null,
   "metadata": {},
   "outputs": [],
   "source": []
  },
  {
   "cell_type": "code",
   "execution_count": null,
   "metadata": {},
   "outputs": [],
   "source": []
  },
  {
   "cell_type": "markdown",
   "metadata": {},
   "source": [
    "Shot data extraction"
   ]
  },
  {
   "cell_type": "code",
   "execution_count": 137,
   "metadata": {},
   "outputs": [],
   "source": [
    "df_shots = fetch_data(cursor, 'SELECT * FROM SHOT_EVENTS')"
   ]
  },
  {
   "cell_type": "code",
   "execution_count": null,
   "metadata": {},
   "outputs": [],
   "source": []
  },
  {
   "cell_type": "code",
   "execution_count": null,
   "metadata": {},
   "outputs": [],
   "source": []
  },
  {
   "cell_type": "code",
   "execution_count": 138,
   "metadata": {},
   "outputs": [
    {
     "data": {
      "text/html": [
       "<div>\n",
       "<style scoped>\n",
       "    .dataframe tbody tr th:only-of-type {\n",
       "        vertical-align: middle;\n",
       "    }\n",
       "\n",
       "    .dataframe tbody tr th {\n",
       "        vertical-align: top;\n",
       "    }\n",
       "\n",
       "    .dataframe thead th {\n",
       "        text-align: right;\n",
       "    }\n",
       "</style>\n",
       "<table border=\"1\" class=\"dataframe\">\n",
       "  <thead>\n",
       "    <tr style=\"text-align: right;\">\n",
       "      <th></th>\n",
       "      <th>MATCH_ID</th>\n",
       "      <th>ORIGINAL_EVENT_ID</th>\n",
       "      <th>PERIOD_ID</th>\n",
       "      <th>TIME_SECONDS</th>\n",
       "      <th>NEW_TIME_SECONDS</th>\n",
       "      <th>TEAM_FBREF_ID</th>\n",
       "      <th>PLAYER_WS_ID</th>\n",
       "      <th>START_X</th>\n",
       "      <th>END_X</th>\n",
       "      <th>START_Y</th>\n",
       "      <th>END_Y</th>\n",
       "      <th>RESULT_ID</th>\n",
       "      <th>ACTION_ID</th>\n",
       "      <th>TYPE_NAME</th>\n",
       "      <th>BODYPART_NAME</th>\n",
       "      <th>COMPETITION</th>\n",
       "      <th>SEASON</th>\n",
       "    </tr>\n",
       "  </thead>\n",
       "  <tbody>\n",
       "    <tr>\n",
       "      <th>0</th>\n",
       "      <td>9cd87b54</td>\n",
       "      <td>NaN</td>\n",
       "      <td>2</td>\n",
       "      <td>775.5</td>\n",
       "      <td>595.5</td>\n",
       "      <td>922493f3</td>\n",
       "      <td>299451</td>\n",
       "      <td>54.495</td>\n",
       "      <td>76.965</td>\n",
       "      <td>57.324</td>\n",
       "      <td>55.896</td>\n",
       "      <td>1</td>\n",
       "      <td>1048</td>\n",
       "      <td>dribble</td>\n",
       "      <td>foot</td>\n",
       "      <td>ITA-Serie A</td>\n",
       "      <td>2223</td>\n",
       "    </tr>\n",
       "    <tr>\n",
       "      <th>1</th>\n",
       "      <td>8e214fe9</td>\n",
       "      <td>2.519912e+09</td>\n",
       "      <td>1</td>\n",
       "      <td>1459.0</td>\n",
       "      <td>1459.0</td>\n",
       "      <td>dc56fe14</td>\n",
       "      <td>259102</td>\n",
       "      <td>60.165</td>\n",
       "      <td>58.800</td>\n",
       "      <td>15.708</td>\n",
       "      <td>36.312</td>\n",
       "      <td>1</td>\n",
       "      <td>434</td>\n",
       "      <td>pass</td>\n",
       "      <td>foot</td>\n",
       "      <td>ITA-Serie A</td>\n",
       "      <td>2223</td>\n",
       "    </tr>\n",
       "    <tr>\n",
       "      <th>2</th>\n",
       "      <td>e5be6a0a</td>\n",
       "      <td>2.451175e+09</td>\n",
       "      <td>2</td>\n",
       "      <td>909.0</td>\n",
       "      <td>789.0</td>\n",
       "      <td>d609edc0</td>\n",
       "      <td>329665</td>\n",
       "      <td>28.245</td>\n",
       "      <td>29.820</td>\n",
       "      <td>42.840</td>\n",
       "      <td>24.752</td>\n",
       "      <td>1</td>\n",
       "      <td>1073</td>\n",
       "      <td>pass</td>\n",
       "      <td>foot</td>\n",
       "      <td>ITA-Serie A</td>\n",
       "      <td>2223</td>\n",
       "    </tr>\n",
       "    <tr>\n",
       "      <th>3</th>\n",
       "      <td>e4822dc4</td>\n",
       "      <td>2.554614e+09</td>\n",
       "      <td>1</td>\n",
       "      <td>72.0</td>\n",
       "      <td>72.0</td>\n",
       "      <td>e2befd26</td>\n",
       "      <td>261474</td>\n",
       "      <td>7.350</td>\n",
       "      <td>9.660</td>\n",
       "      <td>18.156</td>\n",
       "      <td>5.440</td>\n",
       "      <td>1</td>\n",
       "      <td>12</td>\n",
       "      <td>pass</td>\n",
       "      <td>foot</td>\n",
       "      <td>ITA-Serie A</td>\n",
       "      <td>2223</td>\n",
       "    </tr>\n",
       "    <tr>\n",
       "      <th>4</th>\n",
       "      <td>20916b65</td>\n",
       "      <td>NaN</td>\n",
       "      <td>2</td>\n",
       "      <td>1343.0</td>\n",
       "      <td>1223.0</td>\n",
       "      <td>9aad3a77</td>\n",
       "      <td>322584</td>\n",
       "      <td>69.930</td>\n",
       "      <td>72.240</td>\n",
       "      <td>1.768</td>\n",
       "      <td>4.012</td>\n",
       "      <td>1</td>\n",
       "      <td>1082</td>\n",
       "      <td>dribble</td>\n",
       "      <td>foot</td>\n",
       "      <td>ITA-Serie A</td>\n",
       "      <td>2223</td>\n",
       "    </tr>\n",
       "  </tbody>\n",
       "</table>\n",
       "</div>"
      ],
      "text/plain": [
       "   MATCH_ID  ORIGINAL_EVENT_ID  PERIOD_ID  TIME_SECONDS  NEW_TIME_SECONDS  \\\n",
       "0  9cd87b54                NaN          2         775.5             595.5   \n",
       "1  8e214fe9       2.519912e+09          1        1459.0            1459.0   \n",
       "2  e5be6a0a       2.451175e+09          2         909.0             789.0   \n",
       "3  e4822dc4       2.554614e+09          1          72.0              72.0   \n",
       "4  20916b65                NaN          2        1343.0            1223.0   \n",
       "\n",
       "  TEAM_FBREF_ID  PLAYER_WS_ID  START_X   END_X  START_Y   END_Y  RESULT_ID  \\\n",
       "0      922493f3        299451   54.495  76.965   57.324  55.896          1   \n",
       "1      dc56fe14        259102   60.165  58.800   15.708  36.312          1   \n",
       "2      d609edc0        329665   28.245  29.820   42.840  24.752          1   \n",
       "3      e2befd26        261474    7.350   9.660   18.156   5.440          1   \n",
       "4      9aad3a77        322584   69.930  72.240    1.768   4.012          1   \n",
       "\n",
       "   ACTION_ID TYPE_NAME BODYPART_NAME  COMPETITION  SEASON  \n",
       "0       1048   dribble          foot  ITA-Serie A    2223  \n",
       "1        434      pass          foot  ITA-Serie A    2223  \n",
       "2       1073      pass          foot  ITA-Serie A    2223  \n",
       "3         12      pass          foot  ITA-Serie A    2223  \n",
       "4       1082   dribble          foot  ITA-Serie A    2223  "
      ]
     },
     "execution_count": 138,
     "metadata": {},
     "output_type": "execute_result"
    }
   ],
   "source": [
    "df_events.head()"
   ]
  },
  {
   "cell_type": "code",
   "execution_count": 140,
   "metadata": {},
   "outputs": [],
   "source": [
    "# df_shots = df_shots.merge(df_events[['MATCH_ID', 'ACTION_ID', 'TEAM_FBREF_ID']], on=['MATCH_ID', 'ACTION_ID'])\n",
    "df_shots = df_shots.merge(df_events[['MATCH_ID', 'ACTION_ID', 'TEAM_FBREF_ID', 'PERIOD_ID','NEW_TIME_SECONDS','START_X','END_X',\n",
    "                                     'START_Y', 'END_Y', 'PLAYER_WS_ID', 'RESULT_ID']], on=['MATCH_ID', 'ACTION_ID'])"
   ]
  },
  {
   "cell_type": "code",
   "execution_count": 141,
   "metadata": {},
   "outputs": [],
   "source": [
    "df_shots = df_shots.merge(team_names[['TEAM_NAME', 'TEAM_FBREF_ID']], on=\"TEAM_FBREF_ID\")"
   ]
  },
  {
   "cell_type": "code",
   "execution_count": 142,
   "metadata": {},
   "outputs": [],
   "source": [
    "df_shots = df_shots.merge(df_matches[['MATCH_ID','HOME_TEAM_ID', 'AWAY_TEAM_ID', 'GAMEWEEK','COMPETITION',\n",
    "                                      'SEASON']], on='MATCH_ID', how='left')"
   ]
  },
  {
   "cell_type": "code",
   "execution_count": 143,
   "metadata": {},
   "outputs": [],
   "source": [
    "df_shots = df_shots.merge(df_competitions, on=['COMPETITION', 'SEASON'])"
   ]
  },
  {
   "cell_type": "code",
   "execution_count": 144,
   "metadata": {},
   "outputs": [],
   "source": [
    "df_shots['OPPO_TEAM_ID'] = df_shots.apply(lambda row: row['AWAY_TEAM_ID'] if \n",
    "                                          row['TEAM_FBREF_ID'] == row['HOME_TEAM_ID'] else row['HOME_TEAM_ID'], axis=1)"
   ]
  },
  {
   "cell_type": "code",
   "execution_count": 145,
   "metadata": {},
   "outputs": [],
   "source": [
    "df_shots.drop(['HOME_TEAM_ID', 'AWAY_TEAM_ID'], axis=1, inplace=True)"
   ]
  },
  {
   "cell_type": "code",
   "execution_count": 146,
   "metadata": {},
   "outputs": [],
   "source": [
    "df_shots = df_shots.merge(team_names_2, on='OPPO_TEAM_ID')"
   ]
  },
  {
   "cell_type": "code",
   "execution_count": 147,
   "metadata": {},
   "outputs": [],
   "source": [
    "df_shots = df_shots.merge(df_players[['PLAYER_WS_ID', 'PLAYER_FBREF_NAME']], on=\"PLAYER_WS_ID\")"
   ]
  },
  {
   "cell_type": "code",
   "execution_count": 182,
   "metadata": {},
   "outputs": [],
   "source": [
    "df_last_5_matches = df_matches.copy()\n",
    "df_last_5_matches['DATE_TIME'] = pd.to_datetime(df_last_5_matches['DATE_TIME'])"
   ]
  },
  {
   "cell_type": "code",
   "execution_count": 183,
   "metadata": {},
   "outputs": [
    {
     "data": {
      "text/html": [
       "<div>\n",
       "<style scoped>\n",
       "    .dataframe tbody tr th:only-of-type {\n",
       "        vertical-align: middle;\n",
       "    }\n",
       "\n",
       "    .dataframe tbody tr th {\n",
       "        vertical-align: top;\n",
       "    }\n",
       "\n",
       "    .dataframe thead th {\n",
       "        text-align: right;\n",
       "    }\n",
       "</style>\n",
       "<table border=\"1\" class=\"dataframe\">\n",
       "  <thead>\n",
       "    <tr style=\"text-align: right;\">\n",
       "      <th></th>\n",
       "      <th>TEAM_NAME</th>\n",
       "      <th>TEAM_FBREF_ID</th>\n",
       "      <th>TEAM_LOGO_URL</th>\n",
       "      <th>TEAM_WS_ID</th>\n",
       "    </tr>\n",
       "  </thead>\n",
       "  <tbody>\n",
       "    <tr>\n",
       "      <th>87</th>\n",
       "      <td>Atalanta</td>\n",
       "      <td>922493f3</td>\n",
       "      <td>https://i.imgur.com/SDA0nMH.png</td>\n",
       "      <td>300</td>\n",
       "    </tr>\n",
       "  </tbody>\n",
       "</table>\n",
       "</div>"
      ],
      "text/plain": [
       "   TEAM_NAME TEAM_FBREF_ID                    TEAM_LOGO_URL  TEAM_WS_ID\n",
       "87  Atalanta      922493f3  https://i.imgur.com/SDA0nMH.png         300"
      ]
     },
     "execution_count": 183,
     "metadata": {},
     "output_type": "execute_result"
    }
   ],
   "source": [
    "team_names[team_names['TEAM_NAME'] == \"Atalanta\"]"
   ]
  },
  {
   "cell_type": "code",
   "execution_count": 184,
   "metadata": {},
   "outputs": [
    {
     "data": {
      "text/plain": [
       "ESP-La Liga           1140\n",
       "ENG-Premier League    1140\n",
       "ITA-Serie A           1139\n",
       "FRA-Ligue 1           1066\n",
       "GER-Bundesliga         917\n",
       "Name: COMPETITION, dtype: int64"
      ]
     },
     "execution_count": 184,
     "metadata": {},
     "output_type": "execute_result"
    }
   ],
   "source": [
    "df_last_5_matches['COMPETITION'].value_counts()"
   ]
  },
  {
   "cell_type": "code",
   "execution_count": 185,
   "metadata": {},
   "outputs": [
    {
     "data": {
      "text/html": [
       "<div>\n",
       "<style scoped>\n",
       "    .dataframe tbody tr th:only-of-type {\n",
       "        vertical-align: middle;\n",
       "    }\n",
       "\n",
       "    .dataframe tbody tr th {\n",
       "        vertical-align: top;\n",
       "    }\n",
       "\n",
       "    .dataframe thead th {\n",
       "        text-align: right;\n",
       "    }\n",
       "</style>\n",
       "<table border=\"1\" class=\"dataframe\">\n",
       "  <thead>\n",
       "    <tr style=\"text-align: right;\">\n",
       "      <th></th>\n",
       "      <th>MATCH_ID</th>\n",
       "      <th>DATE_TIME</th>\n",
       "      <th>HOME_TEAM_ID</th>\n",
       "      <th>AWAY_TEAM_ID</th>\n",
       "      <th>COMPETITION</th>\n",
       "      <th>SEASON</th>\n",
       "      <th>STADIUM</th>\n",
       "      <th>GAMEWEEK</th>\n",
       "      <th>DAY</th>\n",
       "      <th>HOME_TEAM_SCORE</th>\n",
       "      <th>AWAY_TEAM_SCORE</th>\n",
       "      <th>HOME_TEAM_XG</th>\n",
       "      <th>AWAY_TEAM_XG</th>\n",
       "      <th>ATTENDANCE</th>\n",
       "      <th>REFEREE</th>\n",
       "      <th>WS_MATCH_ID</th>\n",
       "    </tr>\n",
       "  </thead>\n",
       "  <tbody>\n",
       "    <tr>\n",
       "      <th>2200</th>\n",
       "      <td>0465e44e</td>\n",
       "      <td>2021-08-21 20:45:00</td>\n",
       "      <td>105360fe</td>\n",
       "      <td>922493f3</td>\n",
       "      <td>ITA-Serie A</td>\n",
       "      <td>2122</td>\n",
       "      <td>Stadio Olimpico di Torino</td>\n",
       "      <td>1</td>\n",
       "      <td>Sat</td>\n",
       "      <td>1</td>\n",
       "      <td>2</td>\n",
       "      <td>1.3</td>\n",
       "      <td>0.7</td>\n",
       "      <td>3475.0</td>\n",
       "      <td>Daniele Chiffi</td>\n",
       "      <td>1575789</td>\n",
       "    </tr>\n",
       "    <tr>\n",
       "      <th>2183</th>\n",
       "      <td>b8799a66</td>\n",
       "      <td>2021-08-28 18:30:00</td>\n",
       "      <td>922493f3</td>\n",
       "      <td>1d8099f8</td>\n",
       "      <td>ITA-Serie A</td>\n",
       "      <td>2122</td>\n",
       "      <td>Stadio Atleti Azzurri d'Italia</td>\n",
       "      <td>2</td>\n",
       "      <td>Sat</td>\n",
       "      <td>0</td>\n",
       "      <td>0</td>\n",
       "      <td>0.9</td>\n",
       "      <td>0.3</td>\n",
       "      <td>7912.0</td>\n",
       "      <td>Daniele Orsato</td>\n",
       "      <td>1575791</td>\n",
       "    </tr>\n",
       "    <tr>\n",
       "      <th>2168</th>\n",
       "      <td>7559e08b</td>\n",
       "      <td>2021-09-11 20:45:00</td>\n",
       "      <td>922493f3</td>\n",
       "      <td>421387cf</td>\n",
       "      <td>ITA-Serie A</td>\n",
       "      <td>2122</td>\n",
       "      <td>Stadio Atleti Azzurri d'Italia</td>\n",
       "      <td>3</td>\n",
       "      <td>Sat</td>\n",
       "      <td>1</td>\n",
       "      <td>2</td>\n",
       "      <td>2.2</td>\n",
       "      <td>1.8</td>\n",
       "      <td>9162.0</td>\n",
       "      <td>Valerio Marini</td>\n",
       "      <td>1575801</td>\n",
       "    </tr>\n",
       "    <tr>\n",
       "      <th>2074</th>\n",
       "      <td>d54b884f</td>\n",
       "      <td>2021-09-18 20:45:00</td>\n",
       "      <td>c5577084</td>\n",
       "      <td>922493f3</td>\n",
       "      <td>ITA-Serie A</td>\n",
       "      <td>2122</td>\n",
       "      <td>Stadio Arechi</td>\n",
       "      <td>4</td>\n",
       "      <td>Sat</td>\n",
       "      <td>0</td>\n",
       "      <td>1</td>\n",
       "      <td>0.7</td>\n",
       "      <td>1.6</td>\n",
       "      <td>11949.0</td>\n",
       "      <td>Paolo Valeri</td>\n",
       "      <td>1575817</td>\n",
       "    </tr>\n",
       "    <tr>\n",
       "      <th>2222</th>\n",
       "      <td>6f32a770</td>\n",
       "      <td>2021-09-21 20:45:00</td>\n",
       "      <td>922493f3</td>\n",
       "      <td>e2befd26</td>\n",
       "      <td>ITA-Serie A</td>\n",
       "      <td>2122</td>\n",
       "      <td>Stadio Atleti Azzurri d'Italia</td>\n",
       "      <td>5</td>\n",
       "      <td>Tue</td>\n",
       "      <td>2</td>\n",
       "      <td>1</td>\n",
       "      <td>1.9</td>\n",
       "      <td>0.9</td>\n",
       "      <td>7353.0</td>\n",
       "      <td>Davide Massa</td>\n",
       "      <td>1575821</td>\n",
       "    </tr>\n",
       "    <tr>\n",
       "      <th>...</th>\n",
       "      <td>...</td>\n",
       "      <td>...</td>\n",
       "      <td>...</td>\n",
       "      <td>...</td>\n",
       "      <td>...</td>\n",
       "      <td>...</td>\n",
       "      <td>...</td>\n",
       "      <td>...</td>\n",
       "      <td>...</td>\n",
       "      <td>...</td>\n",
       "      <td>...</td>\n",
       "      <td>...</td>\n",
       "      <td>...</td>\n",
       "      <td>...</td>\n",
       "      <td>...</td>\n",
       "      <td>...</td>\n",
       "    </tr>\n",
       "    <tr>\n",
       "      <th>147</th>\n",
       "      <td>526fed3e</td>\n",
       "      <td>2024-04-28 18:00:00</td>\n",
       "      <td>922493f3</td>\n",
       "      <td>a3d88bd8</td>\n",
       "      <td>ITA-Serie A</td>\n",
       "      <td>2324</td>\n",
       "      <td>Gewiss Stadium</td>\n",
       "      <td>34</td>\n",
       "      <td>Sun</td>\n",
       "      <td>2</td>\n",
       "      <td>0</td>\n",
       "      <td>1.9</td>\n",
       "      <td>0.4</td>\n",
       "      <td>14614.0</td>\n",
       "      <td>Michael Fabbri</td>\n",
       "      <td>1746292</td>\n",
       "    </tr>\n",
       "    <tr>\n",
       "      <th>148</th>\n",
       "      <td>4d799b02</td>\n",
       "      <td>2024-05-06 18:00:00</td>\n",
       "      <td>c5577084</td>\n",
       "      <td>922493f3</td>\n",
       "      <td>ITA-Serie A</td>\n",
       "      <td>2324</td>\n",
       "      <td>Stadio Arechi</td>\n",
       "      <td>35</td>\n",
       "      <td>Mon</td>\n",
       "      <td>1</td>\n",
       "      <td>2</td>\n",
       "      <td>0.5</td>\n",
       "      <td>1.9</td>\n",
       "      <td>12980.0</td>\n",
       "      <td>Ermanno Feliciani</td>\n",
       "      <td>1746382</td>\n",
       "    </tr>\n",
       "    <tr>\n",
       "      <th>155</th>\n",
       "      <td>9eba4ff1</td>\n",
       "      <td>2024-05-12 20:45:00</td>\n",
       "      <td>922493f3</td>\n",
       "      <td>cf74a709</td>\n",
       "      <td>ITA-Serie A</td>\n",
       "      <td>2324</td>\n",
       "      <td>Gewiss Stadium</td>\n",
       "      <td>36</td>\n",
       "      <td>Sun</td>\n",
       "      <td>2</td>\n",
       "      <td>1</td>\n",
       "      <td>2.7</td>\n",
       "      <td>1.2</td>\n",
       "      <td>14895.0</td>\n",
       "      <td>Marco Guida</td>\n",
       "      <td>1746390</td>\n",
       "    </tr>\n",
       "    <tr>\n",
       "      <th>48</th>\n",
       "      <td>d63c561d</td>\n",
       "      <td>2024-05-18 18:00:00</td>\n",
       "      <td>ffcbe334</td>\n",
       "      <td>922493f3</td>\n",
       "      <td>ITA-Serie A</td>\n",
       "      <td>2324</td>\n",
       "      <td>Stadio Comunale Via Del Mare</td>\n",
       "      <td>37</td>\n",
       "      <td>Sat</td>\n",
       "      <td>0</td>\n",
       "      <td>2</td>\n",
       "      <td>1.3</td>\n",
       "      <td>1.6</td>\n",
       "      <td>26354.0</td>\n",
       "      <td>Antonio Rapuano</td>\n",
       "      <td>1746403</td>\n",
       "    </tr>\n",
       "    <tr>\n",
       "      <th>32</th>\n",
       "      <td>a2652733</td>\n",
       "      <td>2024-05-26 18:00:00</td>\n",
       "      <td>922493f3</td>\n",
       "      <td>105360fe</td>\n",
       "      <td>ITA-Serie A</td>\n",
       "      <td>2324</td>\n",
       "      <td>Gewiss Stadium</td>\n",
       "      <td>38</td>\n",
       "      <td>Sun</td>\n",
       "      <td>3</td>\n",
       "      <td>0</td>\n",
       "      <td>2.6</td>\n",
       "      <td>1.1</td>\n",
       "      <td>14839.0</td>\n",
       "      <td>Simone Sozza</td>\n",
       "      <td>1746410</td>\n",
       "    </tr>\n",
       "  </tbody>\n",
       "</table>\n",
       "<p>113 rows × 16 columns</p>\n",
       "</div>"
      ],
      "text/plain": [
       "      MATCH_ID           DATE_TIME HOME_TEAM_ID AWAY_TEAM_ID  COMPETITION  \\\n",
       "2200  0465e44e 2021-08-21 20:45:00     105360fe     922493f3  ITA-Serie A   \n",
       "2183  b8799a66 2021-08-28 18:30:00     922493f3     1d8099f8  ITA-Serie A   \n",
       "2168  7559e08b 2021-09-11 20:45:00     922493f3     421387cf  ITA-Serie A   \n",
       "2074  d54b884f 2021-09-18 20:45:00     c5577084     922493f3  ITA-Serie A   \n",
       "2222  6f32a770 2021-09-21 20:45:00     922493f3     e2befd26  ITA-Serie A   \n",
       "...        ...                 ...          ...          ...          ...   \n",
       "147   526fed3e 2024-04-28 18:00:00     922493f3     a3d88bd8  ITA-Serie A   \n",
       "148   4d799b02 2024-05-06 18:00:00     c5577084     922493f3  ITA-Serie A   \n",
       "155   9eba4ff1 2024-05-12 20:45:00     922493f3     cf74a709  ITA-Serie A   \n",
       "48    d63c561d 2024-05-18 18:00:00     ffcbe334     922493f3  ITA-Serie A   \n",
       "32    a2652733 2024-05-26 18:00:00     922493f3     105360fe  ITA-Serie A   \n",
       "\n",
       "      SEASON                         STADIUM  GAMEWEEK  DAY  HOME_TEAM_SCORE  \\\n",
       "2200    2122       Stadio Olimpico di Torino         1  Sat                1   \n",
       "2183    2122  Stadio Atleti Azzurri d'Italia         2  Sat                0   \n",
       "2168    2122  Stadio Atleti Azzurri d'Italia         3  Sat                1   \n",
       "2074    2122                   Stadio Arechi         4  Sat                0   \n",
       "2222    2122  Stadio Atleti Azzurri d'Italia         5  Tue                2   \n",
       "...      ...                             ...       ...  ...              ...   \n",
       "147     2324                  Gewiss Stadium        34  Sun                2   \n",
       "148     2324                   Stadio Arechi        35  Mon                1   \n",
       "155     2324                  Gewiss Stadium        36  Sun                2   \n",
       "48      2324    Stadio Comunale Via Del Mare        37  Sat                0   \n",
       "32      2324                  Gewiss Stadium        38  Sun                3   \n",
       "\n",
       "      AWAY_TEAM_SCORE  HOME_TEAM_XG  AWAY_TEAM_XG  ATTENDANCE  \\\n",
       "2200                2           1.3           0.7      3475.0   \n",
       "2183                0           0.9           0.3      7912.0   \n",
       "2168                2           2.2           1.8      9162.0   \n",
       "2074                1           0.7           1.6     11949.0   \n",
       "2222                1           1.9           0.9      7353.0   \n",
       "...               ...           ...           ...         ...   \n",
       "147                 0           1.9           0.4     14614.0   \n",
       "148                 2           0.5           1.9     12980.0   \n",
       "155                 1           2.7           1.2     14895.0   \n",
       "48                  2           1.3           1.6     26354.0   \n",
       "32                  0           2.6           1.1     14839.0   \n",
       "\n",
       "                REFEREE  WS_MATCH_ID  \n",
       "2200     Daniele Chiffi      1575789  \n",
       "2183     Daniele Orsato      1575791  \n",
       "2168     Valerio Marini      1575801  \n",
       "2074       Paolo Valeri      1575817  \n",
       "2222       Davide Massa      1575821  \n",
       "...                 ...          ...  \n",
       "147      Michael Fabbri      1746292  \n",
       "148   Ermanno Feliciani      1746382  \n",
       "155         Marco Guida      1746390  \n",
       "48      Antonio Rapuano      1746403  \n",
       "32         Simone Sozza      1746410  \n",
       "\n",
       "[113 rows x 16 columns]"
      ]
     },
     "execution_count": 185,
     "metadata": {},
     "output_type": "execute_result"
    }
   ],
   "source": [
    "df_last_5_matches[(df_last_5_matches['HOME_TEAM_ID'] == '922493f3') | \n",
    "                  (df_last_5_matches['AWAY_TEAM_ID'] == '922493f3')].sort_values(by='DATE_TIME')"
   ]
  },
  {
   "cell_type": "code",
   "execution_count": null,
   "metadata": {},
   "outputs": [],
   "source": []
  },
  {
   "cell_type": "code",
   "execution_count": 159,
   "metadata": {},
   "outputs": [],
   "source": [
    "df_last_5_matches = df_last_5_matches.merge(df_competitions, on=['COMPETITION', 'SEASON'])"
   ]
  },
  {
   "cell_type": "code",
   "execution_count": 160,
   "metadata": {},
   "outputs": [],
   "source": [
    "home_teams = team_names.copy()\n",
    "away_teams = team_names.copy()"
   ]
  },
  {
   "cell_type": "code",
   "execution_count": 161,
   "metadata": {},
   "outputs": [],
   "source": [
    "home_teams.rename({'TEAM_FBREF_ID':'HOME_TEAM_ID', 'TEAM_NAME':'HOME_TEAM_NAME'}, axis=1, inplace=True)\n",
    "away_teams.rename({'TEAM_FBREF_ID':'AWAY_TEAM_ID', 'TEAM_NAME':'AWAY_TEAM_NAME'}, axis=1, inplace=True)"
   ]
  },
  {
   "cell_type": "code",
   "execution_count": 162,
   "metadata": {},
   "outputs": [],
   "source": [
    "df_last_5_matches = df_last_5_matches.merge(home_teams[['HOME_TEAM_NAME', 'HOME_TEAM_ID']], on=['HOME_TEAM_ID'])\n",
    "df_last_5_matches = df_last_5_matches.merge(away_teams[['AWAY_TEAM_NAME', 'AWAY_TEAM_ID']], on=['AWAY_TEAM_ID'])"
   ]
  },
  {
   "cell_type": "code",
   "execution_count": 163,
   "metadata": {},
   "outputs": [],
   "source": [
    "def get_last_5_matches(group):\n",
    "    return group.nlargest(5, 'DATE_TIME')\n",
    "\n",
    "# Splitting the original DataFrame into home and away games\n",
    "home_games = df_last_5_matches[['COMPETITION', 'SEASON', 'HOME_TEAM_ID', 'DATE_TIME']].rename(columns={'HOME_TEAM_ID': 'TEAM_ID'})\n",
    "away_games = df_last_5_matches[['COMPETITION', 'SEASON', 'AWAY_TEAM_ID', 'DATE_TIME']].rename(columns={'AWAY_TEAM_ID': 'TEAM_ID'})\n",
    "\n",
    "# Concatenating both DataFrames to consider home and away games together\n",
    "all_games = pd.concat([home_games, away_games])\n",
    "\n",
    "# Group by 'COMPETITION', 'SEASON', and 'TEAM_ID' and apply the function to get the last 5 games\n",
    "last_5_matches = all_games.groupby(['COMPETITION', 'SEASON', 'TEAM_ID']).apply(get_last_5_matches)"
   ]
  },
  {
   "cell_type": "code",
   "execution_count": 164,
   "metadata": {},
   "outputs": [
    {
     "name": "stdout",
     "output_type": "stream",
     "text": [
      "[4598, 4522, 4500, 5258, 4537, 4266, 4263, 5006, 4344, 4275, 5130, 5300, 5303, 4769, 5290, 5202, 5245, 4637, 5194, 5076, 5339, 4925, 5317, 4697, 5307, 5130, 5048, 4500, 5098, 5218, 4266, 4684, 4646, 5194, 4697, 5260, 5398, 4372, 5258, 4486, 4719, 4480, 4769, 4537, 4747, 5158, 4925, 4877, 5098, 4902, 4405, 5046, 4646, 4877, 4393, 5158, 5300, 4468, 5165, 5380, 4795, 5046, 5048, 4393, 5076, 5339, 5229, 5245, 5303, 4634, 4795, 4522, 4807, 4902, 4826, 4405, 4480, 4468, 4807, 4486, 5260, 5026, 5317, 5006, 5092, 5202, 5229, 4372, 5165, 4361, 4719, 5398, 4263, 5380, 5307, 4598, 4684, 5026, 4637, 4634, 5150, 4528, 5356, 4523, 4333, 4944, 4345, 4307, 5162, 4310, 4926, 5308, 4964, 5332, 5329, 5133, 4995, 5087, 4650, 5099, 4550, 4682, 4835, 4650, 4723, 4864, 4307, 4835, 4364, 5279, 5133, 5281, 4829, 5270, 5279, 4768, 5281, 4735, 4310, 4751, 4926, 4396, 4920, 5004, 4942, 5350, 4396, 5087, 4412, 4399, 5150, 4624, 5162, 4412, 5138, 4768, 5234, 4920, 5238, 4635, 4805, 5234, 5378, 4829, 4523, 4450, 4435, 4349, 4476, 5270, 4450, 4995, 4735, 5004, 4558, 4805, 4345, 4349, 4567, 4364, 5350, 4435, 5308, 5378, 5356, 4864, 4624, 4476, 4587, 4635, 4550, 4528, 4567, 5332, 4558, 4944, 4682, 4964, 5238, 4942, 4597, 4511, 4840, 4499, 4331, 4262, 4799, 4511, 4265, 5056, 5094, 4981, 4559, 4977, 4973, 5094, 4442, 5047, 5097, 5104, 4379, 4676, 4265, 4681, 4778, 4851, 5028, 4840, 5389, 4857, 4749, 4717, 4746, 4916, 4721, 5157, 4876, 5097, 4916, 4911, 4379, 4876, 4376, 4325, 4836, 5157, 4676, 5167, 4712, 4857, 4560, 5047, 4794, 5056, 5053, 4790, 4799, 5376, 4794, 4977, 4749, 4442, 4472, 5167, 4470, 4790, 5028, 4937, 5025, 5008, 4851, 4319, 4356, 4746, 5104, 4262, 4319, 5376, 4376, 5389, 4597, 4981, 4612, 5025, 4911, 4945, 4717, 4612, 4712, 5008, 4560, 4356, 4559, 4470, 4576, 4945, 4472, 4937, 4681, 4909, 2631, 2411, 2688, 2432, 2434, 2217, 2751, 3183, 2739, 2651, 2217, 2825, 2185, 2483, 2174, 2631, 2270, 2642, 2359, 2651, 2148, 2411, 2162, 2091, 2582, 2847, 2933, 3123, 2910, 3032, 2719, 3064, 2605, 3091, 2434, 2719, 2751, 2688, 2273, 2862, 2497, 3024, 3027, 2988, 2174, 3124, 3024, 3123, 2834, 3132, 3124, 2270, 2185, 2273, 2790, 3058, 2353, 2162, 2359, 3188, 3058, 2109, 3027, 2432, 3032, 2148, 2457, 2642, 2483, 2531, 2559, 2457, 2605, 2910, 2582, 3177, 2109, 2873, 2091, 3132, 2559, 2825, 2502, 2834, 2790, 2497, 2933, 2502, 3091, 2531, 3177, 3064, 3183, 2988, 3188, 2847, 2353, 2873, 2739, 2862, 2965, 2405, 2136, 2399, 2317, 2715, 3102, 2772, 3115, 2487, 2722, 2650, 2772, 2821, 2773, 2596, 2184, 2539, 2202, 2159, 2269, 2650, 2082, 2613, 2519, 2124, 3084, 2136, 3170, 2159, 2124, 2926, 2257, 2929, 2675, 2547, 3084, 2490, 3081, 2604, 2715, 2405, 2681, 3081, 2675, 2339, 3102, 2307, 2613, 2317, 2965, 2864, 2950, 2202, 2955, 2269, 2184, 2257, 3033, 2260, 2339, 3050, 2602, 3033, 2773, 2444, 2926, 2490, 2869, 2487, 2596, 2795, 2602, 2399, 2604, 2073, 3050, 2082, 2929, 2057, 2444, 2795, 2307, 2821, 2955, 2547, 3179, 2539, 3115, 2519, 2722, 3179, 2950, 3170, 2057, 2073, 2864, 2681, 2869, 2260, 3021, 2242, 2885, 2236, 2230, 2192, 2398, 2629, 2409, 2854, 2757, 2288, 2726, 2820, 2752, 2192, 2937, 2201, 2481, 2170, 2632, 2318, 2629, 2236, 2572, 2126, 2469, 2113, 2409, 2141, 2845, 2937, 2992, 2940, 2503, 2632, 2667, 2575, 2703, 2141, 2498, 2318, 2726, 2312, 2310, 3021, 2667, 2992, 2951, 3011, 2362, 2974, 2201, 2951, 2752, 2126, 2288, 2350, 2282, 2310, 2362, 3187, 2350, 2940, 2365, 2757, 2469, 2529, 2481, 2365, 2557, 2398, 2575, 3155, 2572, 2056, 2974, 2063, 2282, 3011, 2557, 2791, 2063, 2820, 2230, 2498, 2242, 2529, 2703, 2503, 2056, 3187, 2113, 3155, 2170, 2845, 2791, 2885, 2312, 2854, 4197, 4036, 4205, 3414, 4203, 3363, 3527, 4175, 3414, 4107, 3358, 3758, 3349, 3437, 3321, 4098, 3667, 4110, 3557, 4107, 3913, 3233, 3204, 3712, 3198, 3358, 4146, 4205, 4134, 4160, 3363, 4261, 3619, 4212, 3198, 3271, 3233, 3297, 4180, 4017, 3913, 3602, 3904, 3764, 3893, 3271, 3527, 3835, 3557, 3893, 4184, 4261, 4175, 4180, 3872, 4098, 4036, 3204, 4212, 4017, 3715, 3943, 3694, 3712, 3321, 4184, 3943, 3297, 3939, 4203, 3715, 3602, 3349, 3593, 4160, 3433, 3758, 4110, 3764, 3642, 3433, 4146, 3694, 3437, 3477, 4197, 3457, 3904, 3593, 3477, 3826, 3667, 3619, 3939, 3642, 3826, 3457, 3835, 4134, 3872, 3691, 3391, 3796, 3397, 3273, 3307, 3391, 3351, 4013, 3320, 3785, 4079, 3796, 3945, 3815, 3556, 4127, 3922, 4115, 3776, 3244, 3491, 3215, 4157, 3206, 3664, 4079, 3774, 4083, 3609, 4161, 4127, 4131, 4157, 3869, 3244, 4058, 3299, 4063, 3815, 3307, 4218, 4131, 4214, 3508, 3281, 3851, 3299, 4115, 3273, 3880, 3763, 3922, 3397, 3918, 3556, 3947, 3215, 3511, 3508, 3880, 4025, 3624, 4013, 3459, 3691, 4218, 3829, 3714, 3320, 4161, 3947, 3351, 3945, 3918, 3589, 4025, 3592, 3714, 3609, 3589, 3763, 3774, 4063, 3776, 3281, 3491, 3592, 4083, 3459, 3664, 4058, 3624, 4214, 3206, 3785, 3851, 3829, 3511, 3869, 3379, 3748, 4045, 3396, 3399, 3315, 3847, 3322, 3960, 3306, 3468, 3798, 3322, 3786, 3212, 3208, 3196, 4021, 3655, 3399, 3208, 4045, 3885, 4047, 3424, 3251, 3196, 4233, 4248, 3306, 3251, 3649, 3275, 3484, 3295, 3886, 3440, 3885, 3396, 3891, 3379, 3551, 3687, 3528, 3510, 3568, 4021, 3989, 3786, 3733, 3886, 3713, 3687, 3828, 3695, 3931, 3551, 3957, 3960, 3295, 3568, 3713, 3565, 4248, 3571, 3751, 3748, 3798, 4047, 3733, 3751, 3440, 3275, 3528, 3424, 3468, 4233, 3957, 3484, 3844, 3315, 3649, 3989, 3655, 3571, 3931, 3847, 3565, 3828, 3510, 410, 262, 160, 424, 834, 554, 647, 585, 134, 594, 845, 236, 497, 230, 808, 845, 151, 837, 304, 834, 730, 857, 815, 858, 594, 796, 779, 815, 660, 808, 410, 883, 682, 902, 461, 554, 383, 402, 741, 377, 504, 647, 402, 660, 656, 322, 86, 837, 80, 16, 41, 779, 585, 741, 656, 166, 86, 160, 902, 341, 730, 236, 682, 80, 693, 796, 151, 329, 134, 377, 322, 857, 329, 230, 341, 504, 383, 497, 858, 461, 166, 262, 13, 304, 693, 41, 883, 13, 424, 16, 452, 57, 414, 6, 436, 572, 711, 827, 548, 803, 205, 139, 229, 88, 222, 787, 353, 799, 659, 803, 205, 876, 886, 307, 910, 787, 391, 414, 376, 740, 452, 655, 299, 659, 910, 519, 463, 530, 548, 542, 519, 57, 168, 88, 267, 753, 655, 749, 830, 740, 171, 391, 168, 714, 181, 826, 711, 530, 714, 436, 753, 139, 886, 376, 124, 277, 353, 229, 307, 124, 572, 463, 799, 471, 181, 826, 46, 827, 830, 542, 277, 876, 299, 471, 267, 171, 46, 749, 6, 222, 549, 450, 685, 429, 869, 549, 387, 587, 30, 558, 215, 651, 225, 535, 221, 479, 675, 751, 678, 700, 0, 867, 51, 869, 102, 739, 387, 598, 390, 314, 651, 587, 623, 615, 43, 309, 529, 867, 535, 615, 603, 450, 598, 678, 605, 167, 75, 320, 51, 558, 739, 141, 751, 498, 767, 167, 675, 180, 390, 767, 697, 529, 685, 129, 700, 603, 141, 225, 129, 273, 309, 276, 320, 429, 314, 479, 75, 180, 498, 605, 215, 276, 269, 623, 273, 697, 0, 269, 30, 221, 1684, 1947, 1681, 1153, 1720, 1859, 1221, 1448, 1861, 1916, 993, 1221, 2037, 1243, 1230, 1061, 1552, 1068, 1028, 1176, 1303, 1424, 999, 1398, 1720, 1061, 1487, 1308, 1521, 1671, 2054, 1947, 1143, 1826, 1968, 1859, 1793, 1926, 1826, 1460, 1936, 1424, 1926, 1521, 1916, 1609, 1113, 1143, 1341, 1230, 1609, 1357, 1628, 1243, 2040, 1675, 1984, 1068, 1983, 1986, 1675, 1181, 1645, 1861, 1671, 1684, 1357, 1645, 1983, 1341, 993, 1984, 999, 1028, 1002, 2054, 1487, 2037, 1526, 2040, 1936, 1181, 1628, 1153, 1176, 1434, 1113, 1448, 1398, 1460, 1303, 1793, 1308, 1986, 1264, 1434, 1552, 1681, 1526, 1264, 1266, 1683, 1778, 1719, 1908, 1849, 1599, 1852, 1220, 1863, 1185, 1256, 1412, 1220, 1759, 1047, 2026, 1065, 982, 1016, 1750, 926, 1736, 2009, 1759, 1377, 998, 1412, 1719, 1374, 1951, 1256, 1966, 1483, 1978, 1811, 1896, 1778, 940, 1795, 1904, 1575, 1919, 1632, 1908, 1750, 1134, 1852, 1098, 1283, 1369, 1896, 1065, 1892, 1978, 1811, 1599, 1299, 1632, 1356, 1369, 1683, 1328, 1098, 1356, 1951, 998, 1328, 982, 1160, 1904, 2026, 1146, 2009, 1374, 1185, 1134, 1146, 1570, 1160, 1849, 1450, 1919, 1483, 1795, 1266, 1450, 1299, 1892, 1283, 1377, 1575, 1736, 1570, 1016, 1047, 926, 1966, 940, 1863, 1726, 1587, 1710, 2002, 1702, 1162, 1837, 1219, 1390, 1857, 1228, 1465, 1219, 1048, 1247, 1060, 1285, 1012, 1048, 1702, 1745, 1073, 1762, 1783, 1756, 1407, 2041, 1762, 1390, 1566, 1060, 1495, 1572, 1501, 1670, 1726, 1073, 1195, 1084, 1366, 1553, 1816, 1613, 1783, 1857, 1228, 1122, 978, 1097, 1607, 994, 1587, 1613, 1084, 1607, 1407, 1640, 1653, 941, 1670, 1336, 1837, 1333, 1097, 1366, 994, 1495, 978, 1273, 955, 917, 2041, 1012, 2002, 955, 1162, 1816, 1195, 1148, 1247, 1336, 1465, 1653, 1501, 1449, 1745, 1285, 1333, 1273, 1449, 1553, 1640, 1572, 1148, 1566, 917, 1122, 1710, 941, 1756]\n"
     ]
    }
   ],
   "source": [
    "game_weeks = [index[-1] for index in last_5_matches.index]\n",
    "print(game_weeks)"
   ]
  },
  {
   "cell_type": "code",
   "execution_count": 165,
   "metadata": {},
   "outputs": [],
   "source": [
    "df_last_5_matches = df_last_5_matches.loc[game_weeks]"
   ]
  },
  {
   "cell_type": "code",
   "execution_count": 166,
   "metadata": {},
   "outputs": [],
   "source": [
    "last_5_matches = list(df_last_5_matches['MATCH_ID'])\n",
    "df_shots_last_5_matches = df_shots[df_shots['MATCH_ID'].isin(last_5_matches)]"
   ]
  },
  {
   "cell_type": "code",
   "execution_count": null,
   "metadata": {},
   "outputs": [],
   "source": [
    "create_table_query = \"\"\"\n",
    "CREATE TABLE IF NOT EXISTS SHOT_MAP (\n",
    "    MATCH_ID VARCHAR(255),\n",
    "    ACTION_ID INT,\n",
    "    XG DOUBLE,\n",
    "    PSXG DOUBLE,\n",
    "    OUTCOME VARCHAR(255),\n",
    "    DISTANCE INT,\n",
    "    BODY_PART VARCHAR(255),\n",
    "    NOTES VARCHAR(255),\n",
    "    SCA_1_PLAYER_WS_ID INT,\n",
    "    SCA_1_PLAYER_FBREF_EVENT VARCHAR(255),\n",
    "    SCA_2_PLAYER_WS_ID INT,\n",
    "    SCA_2_PLAYER_FBREF_EVENT VARCHAR(255),\n",
    "    TEAM_FBREF_ID VARCHAR(255),\n",
    "    PERIOD_ID INT,\n",
    "    NEW_TIME_SECONDS DOUBLE,\n",
    "    START_X DOUBLE, \n",
    "    END_X DOUBLE,\n",
    "    START_Y DOUBLE,\n",
    "    END_Y DOUBLE,\n",
    "    PLAYER_WS_ID INT,\n",
    "    RESULT_ID INT,\n",
    "    TEAM_NAME VARCHAR(255),\n",
    "    GAMEWEEK INT,\n",
    "    COMPETITION VARCHAR(255),\n",
    "    SEASON INT,\n",
    "    COMPETITION_ACRONYM VARCHAR(255),\n",
    "    OPPO_TEAM_ID VARCHAR(255),\n",
    "    OPPO_TEAM_NAME VARCHAR(255),\n",
    "    PLAYER_FBREF_NAME VARCHAR(255),\n",
    "    PRIMARY KEY (MATCH_ID, ACTION_ID),\n",
    "    FOREIGN KEY (MATCH_ID) REFERENCES GEGENSTATS.TABLES.MATCHES(MATCH_ID),\n",
    "    FOREIGN KEY (MATCH_ID, ACTION_ID) REFERENCES GEGENSTATS.TABLES.SHOT_EVENTS(MATCH_ID, ACTION_ID),\n",
    "    FOREIGN KEY (SCA_1_PLAYER_WS_ID) REFERENCES GEGENSTATS.TABLES.PLAYERS(PLAYER_WS_ID),\n",
    "    FOREIGN KEY (SCA_2_PLAYER_WS_ID) REFERENCES GEGENSTATS.TABLES.PLAYERS(PLAYER_WS_ID)\n",
    ");\n",
    "\"\"\""
   ]
  },
  {
   "cell_type": "code",
   "execution_count": null,
   "metadata": {},
   "outputs": [
    {
     "data": {
      "text/plain": [
       "<snowflake.connector.cursor.SnowflakeCursor at 0x206f16622a0>"
      ]
     },
     "execution_count": 202,
     "metadata": {},
     "output_type": "execute_result"
    }
   ],
   "source": [
    "cur.execute(create_table_query)"
   ]
  },
  {
   "cell_type": "code",
   "execution_count": null,
   "metadata": {},
   "outputs": [
    {
     "data": {
      "text/html": [
       "<div>\n",
       "<style scoped>\n",
       "    .dataframe tbody tr th:only-of-type {\n",
       "        vertical-align: middle;\n",
       "    }\n",
       "\n",
       "    .dataframe tbody tr th {\n",
       "        vertical-align: top;\n",
       "    }\n",
       "\n",
       "    .dataframe thead th {\n",
       "        text-align: right;\n",
       "    }\n",
       "</style>\n",
       "<table border=\"1\" class=\"dataframe\">\n",
       "  <thead>\n",
       "    <tr style=\"text-align: right;\">\n",
       "      <th></th>\n",
       "      <th>MATCH_ID</th>\n",
       "      <th>ACTION_ID</th>\n",
       "      <th>XG</th>\n",
       "      <th>PSXG</th>\n",
       "      <th>OUTCOME</th>\n",
       "      <th>DISTANCE</th>\n",
       "      <th>BODY_PART</th>\n",
       "      <th>NOTES</th>\n",
       "      <th>SCA_1_PLAYER_WS_ID</th>\n",
       "      <th>SCA_1_PLAYER_FBREF_EVENT</th>\n",
       "      <th>SCA_2_PLAYER_WS_ID</th>\n",
       "      <th>SCA_2_PLAYER_FBREF_EVENT</th>\n",
       "      <th>TEAM_FBREF_ID</th>\n",
       "      <th>PERIOD_ID</th>\n",
       "      <th>NEW_TIME_SECONDS</th>\n",
       "      <th>START_X</th>\n",
       "      <th>END_X</th>\n",
       "      <th>START_Y</th>\n",
       "      <th>END_Y</th>\n",
       "      <th>PLAYER_WS_ID</th>\n",
       "      <th>RESULT_ID</th>\n",
       "      <th>TEAM_NAME</th>\n",
       "      <th>GAMEWEEK</th>\n",
       "      <th>COMPETITION</th>\n",
       "      <th>SEASON</th>\n",
       "      <th>COMPETITION_ACRONYM</th>\n",
       "      <th>OPPO_TEAM_ID</th>\n",
       "      <th>OPPO_TEAM_NAME</th>\n",
       "      <th>PLAYER_FBREF_NAME</th>\n",
       "    </tr>\n",
       "  </thead>\n",
       "  <tbody>\n",
       "    <tr>\n",
       "      <th>21</th>\n",
       "      <td>9bb3a778</td>\n",
       "      <td>34</td>\n",
       "      <td>0.10</td>\n",
       "      <td>NaN</td>\n",
       "      <td>Woodwork</td>\n",
       "      <td>16</td>\n",
       "      <td>Left Foot</td>\n",
       "      <td>None</td>\n",
       "      <td>342563.0</td>\n",
       "      <td>Pass (Live)</td>\n",
       "      <td>299254.0</td>\n",
       "      <td>Pass (Live)</td>\n",
       "      <td>b2b47a98</td>\n",
       "      <td>1</td>\n",
       "      <td>69.0</td>\n",
       "      <td>90.300</td>\n",
       "      <td>105.000</td>\n",
       "      <td>27.608</td>\n",
       "      <td>37.536</td>\n",
       "      <td>141486</td>\n",
       "      <td>0</td>\n",
       "      <td>Newcastle Utd</td>\n",
       "      <td>35</td>\n",
       "      <td>ENG-Premier League</td>\n",
       "      <td>2223</td>\n",
       "      <td>EPL</td>\n",
       "      <td>18bb7c10</td>\n",
       "      <td>Arsenal</td>\n",
       "      <td>Jacob Murphy</td>\n",
       "    </tr>\n",
       "    <tr>\n",
       "      <th>22</th>\n",
       "      <td>a3b3a0d5</td>\n",
       "      <td>943</td>\n",
       "      <td>0.13</td>\n",
       "      <td>0.64</td>\n",
       "      <td>Saved</td>\n",
       "      <td>18</td>\n",
       "      <td>Right Foot</td>\n",
       "      <td>None</td>\n",
       "      <td>93160.0</td>\n",
       "      <td>Pass (Live)</td>\n",
       "      <td>141486.0</td>\n",
       "      <td>Pass (Live)</td>\n",
       "      <td>b2b47a98</td>\n",
       "      <td>2</td>\n",
       "      <td>2041.0</td>\n",
       "      <td>88.515</td>\n",
       "      <td>99.855</td>\n",
       "      <td>24.752</td>\n",
       "      <td>31.076</td>\n",
       "      <td>141486</td>\n",
       "      <td>0</td>\n",
       "      <td>Newcastle Utd</td>\n",
       "      <td>37</td>\n",
       "      <td>ENG-Premier League</td>\n",
       "      <td>2122</td>\n",
       "      <td>EPL</td>\n",
       "      <td>18bb7c10</td>\n",
       "      <td>Arsenal</td>\n",
       "      <td>Jacob Murphy</td>\n",
       "    </tr>\n",
       "    <tr>\n",
       "      <th>47</th>\n",
       "      <td>e92d40be</td>\n",
       "      <td>216</td>\n",
       "      <td>0.01</td>\n",
       "      <td>NaN</td>\n",
       "      <td>Off Target</td>\n",
       "      <td>25</td>\n",
       "      <td>Left Foot</td>\n",
       "      <td>None</td>\n",
       "      <td>415174.0</td>\n",
       "      <td>Pass (Live)</td>\n",
       "      <td>338780.0</td>\n",
       "      <td>Pass (Live)</td>\n",
       "      <td>b2b47a98</td>\n",
       "      <td>1</td>\n",
       "      <td>809.0</td>\n",
       "      <td>83.580</td>\n",
       "      <td>105.000</td>\n",
       "      <td>18.088</td>\n",
       "      <td>42.772</td>\n",
       "      <td>141486</td>\n",
       "      <td>0</td>\n",
       "      <td>Newcastle Utd</td>\n",
       "      <td>35</td>\n",
       "      <td>ENG-Premier League</td>\n",
       "      <td>2324</td>\n",
       "      <td>EPL</td>\n",
       "      <td>1df6b87e</td>\n",
       "      <td>Sheffield Utd</td>\n",
       "      <td>Jacob Murphy</td>\n",
       "    </tr>\n",
       "    <tr>\n",
       "      <th>48</th>\n",
       "      <td>546e1a3d</td>\n",
       "      <td>405</td>\n",
       "      <td>0.02</td>\n",
       "      <td>0.03</td>\n",
       "      <td>Saved</td>\n",
       "      <td>27</td>\n",
       "      <td>Left Foot</td>\n",
       "      <td>None</td>\n",
       "      <td>338780.0</td>\n",
       "      <td>Pass (Live)</td>\n",
       "      <td>100599.0</td>\n",
       "      <td>Pass (Dead)</td>\n",
       "      <td>b2b47a98</td>\n",
       "      <td>1</td>\n",
       "      <td>1441.0</td>\n",
       "      <td>80.010</td>\n",
       "      <td>101.955</td>\n",
       "      <td>29.036</td>\n",
       "      <td>33.660</td>\n",
       "      <td>141486</td>\n",
       "      <td>0</td>\n",
       "      <td>Newcastle Utd</td>\n",
       "      <td>38</td>\n",
       "      <td>ENG-Premier League</td>\n",
       "      <td>2324</td>\n",
       "      <td>EPL</td>\n",
       "      <td>cd051869</td>\n",
       "      <td>Brentford</td>\n",
       "      <td>Jacob Murphy</td>\n",
       "    </tr>\n",
       "    <tr>\n",
       "      <th>49</th>\n",
       "      <td>546e1a3d</td>\n",
       "      <td>400</td>\n",
       "      <td>0.05</td>\n",
       "      <td>NaN</td>\n",
       "      <td>Blocked</td>\n",
       "      <td>16</td>\n",
       "      <td>Right Foot</td>\n",
       "      <td>None</td>\n",
       "      <td>338780.0</td>\n",
       "      <td>Pass (Live)</td>\n",
       "      <td>100599.0</td>\n",
       "      <td>Pass (Live)</td>\n",
       "      <td>b2b47a98</td>\n",
       "      <td>1</td>\n",
       "      <td>1423.0</td>\n",
       "      <td>90.090</td>\n",
       "      <td>92.925</td>\n",
       "      <td>24.752</td>\n",
       "      <td>26.248</td>\n",
       "      <td>141486</td>\n",
       "      <td>0</td>\n",
       "      <td>Newcastle Utd</td>\n",
       "      <td>38</td>\n",
       "      <td>ENG-Premier League</td>\n",
       "      <td>2324</td>\n",
       "      <td>EPL</td>\n",
       "      <td>cd051869</td>\n",
       "      <td>Brentford</td>\n",
       "      <td>Jacob Murphy</td>\n",
       "    </tr>\n",
       "    <tr>\n",
       "      <th>...</th>\n",
       "      <td>...</td>\n",
       "      <td>...</td>\n",
       "      <td>...</td>\n",
       "      <td>...</td>\n",
       "      <td>...</td>\n",
       "      <td>...</td>\n",
       "      <td>...</td>\n",
       "      <td>...</td>\n",
       "      <td>...</td>\n",
       "      <td>...</td>\n",
       "      <td>...</td>\n",
       "      <td>...</td>\n",
       "      <td>...</td>\n",
       "      <td>...</td>\n",
       "      <td>...</td>\n",
       "      <td>...</td>\n",
       "      <td>...</td>\n",
       "      <td>...</td>\n",
       "      <td>...</td>\n",
       "      <td>...</td>\n",
       "      <td>...</td>\n",
       "      <td>...</td>\n",
       "      <td>...</td>\n",
       "      <td>...</td>\n",
       "      <td>...</td>\n",
       "      <td>...</td>\n",
       "      <td>...</td>\n",
       "      <td>...</td>\n",
       "      <td>...</td>\n",
       "    </tr>\n",
       "    <tr>\n",
       "      <th>136880</th>\n",
       "      <td>df360311</td>\n",
       "      <td>1584</td>\n",
       "      <td>0.06</td>\n",
       "      <td>NaN</td>\n",
       "      <td>Blocked</td>\n",
       "      <td>18</td>\n",
       "      <td>Right Foot</td>\n",
       "      <td>None</td>\n",
       "      <td>399014.0</td>\n",
       "      <td>Pass (Live)</td>\n",
       "      <td>469984.0</td>\n",
       "      <td>Pass (Live)</td>\n",
       "      <td>132ebc33</td>\n",
       "      <td>2</td>\n",
       "      <td>2341.0</td>\n",
       "      <td>88.620</td>\n",
       "      <td>92.925</td>\n",
       "      <td>42.160</td>\n",
       "      <td>39.032</td>\n",
       "      <td>469984</td>\n",
       "      <td>0</td>\n",
       "      <td>Nice</td>\n",
       "      <td>34</td>\n",
       "      <td>FRA-Ligue 1</td>\n",
       "      <td>2324</td>\n",
       "      <td>Ligue 1</td>\n",
       "      <td>cb188c0c</td>\n",
       "      <td>Lille</td>\n",
       "      <td>Daouda Traoré</td>\n",
       "    </tr>\n",
       "    <tr>\n",
       "      <th>136892</th>\n",
       "      <td>1b4970df</td>\n",
       "      <td>1682</td>\n",
       "      <td>0.10</td>\n",
       "      <td>NaN</td>\n",
       "      <td>Blocked</td>\n",
       "      <td>8</td>\n",
       "      <td>Right Foot</td>\n",
       "      <td>None</td>\n",
       "      <td>114169.0</td>\n",
       "      <td>Pass (Dead)</td>\n",
       "      <td>202185.0</td>\n",
       "      <td>Shot</td>\n",
       "      <td>d7a486cd</td>\n",
       "      <td>2</td>\n",
       "      <td>3052.0</td>\n",
       "      <td>97.650</td>\n",
       "      <td>98.385</td>\n",
       "      <td>29.444</td>\n",
       "      <td>31.416</td>\n",
       "      <td>373848</td>\n",
       "      <td>0</td>\n",
       "      <td>Nantes</td>\n",
       "      <td>37</td>\n",
       "      <td>FRA-Ligue 1</td>\n",
       "      <td>2223</td>\n",
       "      <td>Ligue 1</td>\n",
       "      <td>cb188c0c</td>\n",
       "      <td>Lille</td>\n",
       "      <td>João Victor</td>\n",
       "    </tr>\n",
       "    <tr>\n",
       "      <th>136894</th>\n",
       "      <td>12fd3a4c</td>\n",
       "      <td>1762</td>\n",
       "      <td>0.03</td>\n",
       "      <td>NaN</td>\n",
       "      <td>Blocked</td>\n",
       "      <td>20</td>\n",
       "      <td>Left Foot</td>\n",
       "      <td>None</td>\n",
       "      <td>300713.0</td>\n",
       "      <td>Pass (Live)</td>\n",
       "      <td>300713.0</td>\n",
       "      <td>Take-On</td>\n",
       "      <td>e2d8892c</td>\n",
       "      <td>2</td>\n",
       "      <td>2573.0</td>\n",
       "      <td>89.040</td>\n",
       "      <td>92.400</td>\n",
       "      <td>45.084</td>\n",
       "      <td>42.704</td>\n",
       "      <td>468859</td>\n",
       "      <td>0</td>\n",
       "      <td>Paris S-G</td>\n",
       "      <td>29</td>\n",
       "      <td>FRA-Ligue 1</td>\n",
       "      <td>2324</td>\n",
       "      <td>Ligue 1</td>\n",
       "      <td>d2c87802</td>\n",
       "      <td>Lorient</td>\n",
       "      <td>Ethan Mbappé</td>\n",
       "    </tr>\n",
       "    <tr>\n",
       "      <th>136895</th>\n",
       "      <td>12fd3a4c</td>\n",
       "      <td>1676</td>\n",
       "      <td>0.11</td>\n",
       "      <td>0.03</td>\n",
       "      <td>Saved</td>\n",
       "      <td>11</td>\n",
       "      <td>Left Foot</td>\n",
       "      <td>None</td>\n",
       "      <td>300713.0</td>\n",
       "      <td>Pass (Live)</td>\n",
       "      <td>408962.0</td>\n",
       "      <td>Pass (Live)</td>\n",
       "      <td>e2d8892c</td>\n",
       "      <td>2</td>\n",
       "      <td>2291.0</td>\n",
       "      <td>94.500</td>\n",
       "      <td>102.165</td>\n",
       "      <td>44.880</td>\n",
       "      <td>37.196</td>\n",
       "      <td>468859</td>\n",
       "      <td>0</td>\n",
       "      <td>Paris S-G</td>\n",
       "      <td>29</td>\n",
       "      <td>FRA-Ligue 1</td>\n",
       "      <td>2324</td>\n",
       "      <td>Ligue 1</td>\n",
       "      <td>d2c87802</td>\n",
       "      <td>Lorient</td>\n",
       "      <td>Ethan Mbappé</td>\n",
       "    </tr>\n",
       "    <tr>\n",
       "      <th>136946</th>\n",
       "      <td>54a0b007</td>\n",
       "      <td>1423</td>\n",
       "      <td>0.01</td>\n",
       "      <td>0.46</td>\n",
       "      <td>Saved</td>\n",
       "      <td>58</td>\n",
       "      <td>Left Foot</td>\n",
       "      <td>None</td>\n",
       "      <td>NaN</td>\n",
       "      <td>None</td>\n",
       "      <td>NaN</td>\n",
       "      <td>None</td>\n",
       "      <td>d7a486cd</td>\n",
       "      <td>2</td>\n",
       "      <td>2681.0</td>\n",
       "      <td>51.870</td>\n",
       "      <td>88.935</td>\n",
       "      <td>52.020</td>\n",
       "      <td>38.760</td>\n",
       "      <td>438657</td>\n",
       "      <td>0</td>\n",
       "      <td>Nantes</td>\n",
       "      <td>38</td>\n",
       "      <td>FRA-Ligue 1</td>\n",
       "      <td>2223</td>\n",
       "      <td>Ligue 1</td>\n",
       "      <td>69236f98</td>\n",
       "      <td>Angers</td>\n",
       "      <td>Jaouen Hadjam</td>\n",
       "    </tr>\n",
       "  </tbody>\n",
       "</table>\n",
       "<p>19574 rows × 29 columns</p>\n",
       "</div>"
      ],
      "text/plain": [
       "        MATCH_ID  ACTION_ID    XG  PSXG     OUTCOME  DISTANCE   BODY_PART  \\\n",
       "21      9bb3a778         34  0.10   NaN    Woodwork        16   Left Foot   \n",
       "22      a3b3a0d5        943  0.13  0.64       Saved        18  Right Foot   \n",
       "47      e92d40be        216  0.01   NaN  Off Target        25   Left Foot   \n",
       "48      546e1a3d        405  0.02  0.03       Saved        27   Left Foot   \n",
       "49      546e1a3d        400  0.05   NaN     Blocked        16  Right Foot   \n",
       "...          ...        ...   ...   ...         ...       ...         ...   \n",
       "136880  df360311       1584  0.06   NaN     Blocked        18  Right Foot   \n",
       "136892  1b4970df       1682  0.10   NaN     Blocked         8  Right Foot   \n",
       "136894  12fd3a4c       1762  0.03   NaN     Blocked        20   Left Foot   \n",
       "136895  12fd3a4c       1676  0.11  0.03       Saved        11   Left Foot   \n",
       "136946  54a0b007       1423  0.01  0.46       Saved        58   Left Foot   \n",
       "\n",
       "       NOTES  SCA_1_PLAYER_WS_ID SCA_1_PLAYER_FBREF_EVENT  SCA_2_PLAYER_WS_ID  \\\n",
       "21      None            342563.0              Pass (Live)            299254.0   \n",
       "22      None             93160.0              Pass (Live)            141486.0   \n",
       "47      None            415174.0              Pass (Live)            338780.0   \n",
       "48      None            338780.0              Pass (Live)            100599.0   \n",
       "49      None            338780.0              Pass (Live)            100599.0   \n",
       "...      ...                 ...                      ...                 ...   \n",
       "136880  None            399014.0              Pass (Live)            469984.0   \n",
       "136892  None            114169.0              Pass (Dead)            202185.0   \n",
       "136894  None            300713.0              Pass (Live)            300713.0   \n",
       "136895  None            300713.0              Pass (Live)            408962.0   \n",
       "136946  None                 NaN                     None                 NaN   \n",
       "\n",
       "       SCA_2_PLAYER_FBREF_EVENT TEAM_FBREF_ID  PERIOD_ID  NEW_TIME_SECONDS  \\\n",
       "21                  Pass (Live)      b2b47a98          1              69.0   \n",
       "22                  Pass (Live)      b2b47a98          2            2041.0   \n",
       "47                  Pass (Live)      b2b47a98          1             809.0   \n",
       "48                  Pass (Dead)      b2b47a98          1            1441.0   \n",
       "49                  Pass (Live)      b2b47a98          1            1423.0   \n",
       "...                         ...           ...        ...               ...   \n",
       "136880              Pass (Live)      132ebc33          2            2341.0   \n",
       "136892                     Shot      d7a486cd          2            3052.0   \n",
       "136894                  Take-On      e2d8892c          2            2573.0   \n",
       "136895              Pass (Live)      e2d8892c          2            2291.0   \n",
       "136946                     None      d7a486cd          2            2681.0   \n",
       "\n",
       "        START_X    END_X  START_Y   END_Y  PLAYER_WS_ID  RESULT_ID  \\\n",
       "21       90.300  105.000   27.608  37.536        141486          0   \n",
       "22       88.515   99.855   24.752  31.076        141486          0   \n",
       "47       83.580  105.000   18.088  42.772        141486          0   \n",
       "48       80.010  101.955   29.036  33.660        141486          0   \n",
       "49       90.090   92.925   24.752  26.248        141486          0   \n",
       "...         ...      ...      ...     ...           ...        ...   \n",
       "136880   88.620   92.925   42.160  39.032        469984          0   \n",
       "136892   97.650   98.385   29.444  31.416        373848          0   \n",
       "136894   89.040   92.400   45.084  42.704        468859          0   \n",
       "136895   94.500  102.165   44.880  37.196        468859          0   \n",
       "136946   51.870   88.935   52.020  38.760        438657          0   \n",
       "\n",
       "            TEAM_NAME  GAMEWEEK         COMPETITION  SEASON  \\\n",
       "21      Newcastle Utd        35  ENG-Premier League    2223   \n",
       "22      Newcastle Utd        37  ENG-Premier League    2122   \n",
       "47      Newcastle Utd        35  ENG-Premier League    2324   \n",
       "48      Newcastle Utd        38  ENG-Premier League    2324   \n",
       "49      Newcastle Utd        38  ENG-Premier League    2324   \n",
       "...               ...       ...                 ...     ...   \n",
       "136880           Nice        34         FRA-Ligue 1    2324   \n",
       "136892         Nantes        37         FRA-Ligue 1    2223   \n",
       "136894      Paris S-G        29         FRA-Ligue 1    2324   \n",
       "136895      Paris S-G        29         FRA-Ligue 1    2324   \n",
       "136946         Nantes        38         FRA-Ligue 1    2223   \n",
       "\n",
       "       COMPETITION_ACRONYM OPPO_TEAM_ID OPPO_TEAM_NAME PLAYER_FBREF_NAME  \n",
       "21                     EPL     18bb7c10        Arsenal      Jacob Murphy  \n",
       "22                     EPL     18bb7c10        Arsenal      Jacob Murphy  \n",
       "47                     EPL     1df6b87e  Sheffield Utd      Jacob Murphy  \n",
       "48                     EPL     cd051869      Brentford      Jacob Murphy  \n",
       "49                     EPL     cd051869      Brentford      Jacob Murphy  \n",
       "...                    ...          ...            ...               ...  \n",
       "136880             Ligue 1     cb188c0c          Lille     Daouda Traoré  \n",
       "136892             Ligue 1     cb188c0c          Lille       João Victor  \n",
       "136894             Ligue 1     d2c87802        Lorient      Ethan Mbappé  \n",
       "136895             Ligue 1     d2c87802        Lorient      Ethan Mbappé  \n",
       "136946             Ligue 1     69236f98         Angers     Jaouen Hadjam  \n",
       "\n",
       "[19574 rows x 29 columns]"
      ]
     },
     "execution_count": 203,
     "metadata": {},
     "output_type": "execute_result"
    }
   ],
   "source": [
    "df_shots_last_5_matches"
   ]
  },
  {
   "cell_type": "code",
   "execution_count": null,
   "metadata": {},
   "outputs": [],
   "source": [
    "df_shots_last_5_matches = df_shots_last_5_matches.drop_duplicates()"
   ]
  },
  {
   "cell_type": "code",
   "execution_count": null,
   "metadata": {},
   "outputs": [
    {
     "name": "stdout",
     "output_type": "stream",
     "text": [
      "Upsert completed. 19574 rows processed.\n"
     ]
    }
   ],
   "source": [
    "upsert_to_snowflake(\"SHOT_MAP\", df_shots_last_5_matches, ['MATCH_ID', 'ACTION_ID'])"
   ]
  },
  {
   "cell_type": "code",
   "execution_count": 167,
   "metadata": {},
   "outputs": [],
   "source": [
    "df_shots_last_5_matches = fetch_data(cursor, 'SELECT * FROM  GEGENSTATS.RADAR_CHARTS.SHOT_MAP')"
   ]
  },
  {
   "cell_type": "code",
   "execution_count": 168,
   "metadata": {},
   "outputs": [],
   "source": [
    "# df_shots = df_shots.merge(df_events[['MATCH_ID', 'ACTION_ID', 'PERIOD_ID','NEW_TIME_SECONDS','START_X','END_X','START_Y', \n",
    "#                          'END_Y', 'PLAYER_WS_ID', 'RESULT_ID']], on=['MATCH_ID', 'ACTION_ID'])"
   ]
  },
  {
   "cell_type": "code",
   "execution_count": 169,
   "metadata": {},
   "outputs": [],
   "source": [
    "# df_shots = df_shots.merge(df_matches[['MATCH_ID', 'HOME_TEAM_ID', 'AWAY_TEAM_ID', 'GAMEWEEK']], on='MATCH_ID', how='left')"
   ]
  },
  {
   "cell_type": "code",
   "execution_count": 170,
   "metadata": {},
   "outputs": [],
   "source": [
    "# df_shots['OPPO_TEAM_ID'] = df_shots.apply(lambda row: row['AWAY_TEAM_ID'] if row['TEAM_FBREF_ID'] == row['HOME_TEAM_ID'] else row['HOME_TEAM_ID'], axis=1)"
   ]
  },
  {
   "cell_type": "code",
   "execution_count": 171,
   "metadata": {},
   "outputs": [],
   "source": [
    "# df_shots.drop(['HOME_TEAM_ID', 'AWAY_TEAM_ID'], axis=1, inplace=True)"
   ]
  },
  {
   "cell_type": "code",
   "execution_count": 172,
   "metadata": {},
   "outputs": [],
   "source": [
    "# df_shots = df_shots.merge(team_names_2, on='OPPO_TEAM_ID')"
   ]
  },
  {
   "cell_type": "code",
   "execution_count": 173,
   "metadata": {},
   "outputs": [],
   "source": [
    "# df_shots = df_shots.merge(df_players[['PLAYER_WS_ID', 'PLAYER_FBREF_NAME']], on=\"PLAYER_WS_ID\")"
   ]
  },
  {
   "cell_type": "code",
   "execution_count": 175,
   "metadata": {},
   "outputs": [],
   "source": [
    "team_selected = 'Atalanta'"
   ]
  },
  {
   "cell_type": "code",
   "execution_count": null,
   "metadata": {},
   "outputs": [],
   "source": [
    "# df_last_5_matches_filt = df_last_5_matches_filt[(df_last_5_matches_filt['HOME_TEAM_NAME'] == team_selected) | \n",
    "#                                                 (df_last_5_matches_filt['AWAY_TEAM_NAME'] == team_selected)]\n",
    "# df_last_5_matches_filt = df_last_5_matches_filt.sort_values(by='GAMEWEEK')[-5:]\n",
    "# last_5_matches = list(df_last_5_matches_filt['MATCH_ID'])\n",
    "# df_shots_last_5_matches = df_shots[df_shots['MATCH_ID'].isin(last_5_matches)]"
   ]
  },
  {
   "cell_type": "code",
   "execution_count": 174,
   "metadata": {},
   "outputs": [],
   "source": [
    "df_shots_last_5_matches = df_shots_last_5_matches[df_shots_last_5_matches['SEASON'] == 2324]\n",
    "df_shots_last_5_matches = df_shots_last_5_matches[df_shots_last_5_matches['COMPETITION_ACRONYM'] == 'Serie A']"
   ]
  },
  {
   "cell_type": "code",
   "execution_count": 176,
   "metadata": {},
   "outputs": [],
   "source": [
    "df_shots_last_5_matches = df_shots_last_5_matches[df_shots_last_5_matches['TEAM_NAME'] == team_selected]"
   ]
  },
  {
   "cell_type": "code",
   "execution_count": 177,
   "metadata": {},
   "outputs": [
    {
     "data": {
      "text/plain": [
       "array(['Torino', 'Empoli', 'Salernitana', 'Roma', 'Lecce'], dtype=object)"
      ]
     },
     "execution_count": 177,
     "metadata": {},
     "output_type": "execute_result"
    }
   ],
   "source": [
    "df_shots_last_5_matches['OPPO_TEAM_NAME'].unique()"
   ]
  },
  {
   "cell_type": "code",
   "execution_count": 179,
   "metadata": {},
   "outputs": [
    {
     "data": {
      "text/plain": [
       "36    24\n",
       "37    19\n",
       "38    18\n",
       "34    17\n",
       "35    17\n",
       "Name: GAMEWEEK, dtype: int64"
      ]
     },
     "execution_count": 179,
     "metadata": {},
     "output_type": "execute_result"
    }
   ],
   "source": [
    "df_shots_last_5_matches['GAMEWEEK'].value_counts()"
   ]
  },
  {
   "cell_type": "code",
   "execution_count": null,
   "metadata": {},
   "outputs": [],
   "source": [
    "last5_GWs = df_shots_last_5_matches[['GAMEWEEK']].drop_duplicates().sort_values(by=\"GAMEWEEK\")[-5:]\n",
    "df_shots_last_5_matches = df_shots_last_5_matches.merge(last5_GWs, on=\"GAMEWEEK\")"
   ]
  },
  {
   "cell_type": "code",
   "execution_count": null,
   "metadata": {},
   "outputs": [],
   "source": []
  },
  {
   "cell_type": "code",
   "execution_count": null,
   "metadata": {},
   "outputs": [],
   "source": []
  },
  {
   "cell_type": "code",
   "execution_count": null,
   "metadata": {},
   "outputs": [
    {
     "data": {
      "text/html": [
       "<div>\n",
       "<style scoped>\n",
       "    .dataframe tbody tr th:only-of-type {\n",
       "        vertical-align: middle;\n",
       "    }\n",
       "\n",
       "    .dataframe tbody tr th {\n",
       "        vertical-align: top;\n",
       "    }\n",
       "\n",
       "    .dataframe thead th {\n",
       "        text-align: right;\n",
       "    }\n",
       "</style>\n",
       "<table border=\"1\" class=\"dataframe\">\n",
       "  <thead>\n",
       "    <tr style=\"text-align: right;\">\n",
       "      <th></th>\n",
       "      <th>GAMEWEEK</th>\n",
       "    </tr>\n",
       "  </thead>\n",
       "  <tbody>\n",
       "    <tr>\n",
       "      <th>11365</th>\n",
       "      <td>34</td>\n",
       "    </tr>\n",
       "    <tr>\n",
       "      <th>2665</th>\n",
       "      <td>35</td>\n",
       "    </tr>\n",
       "    <tr>\n",
       "      <th>2533</th>\n",
       "      <td>36</td>\n",
       "    </tr>\n",
       "    <tr>\n",
       "      <th>2512</th>\n",
       "      <td>37</td>\n",
       "    </tr>\n",
       "    <tr>\n",
       "      <th>44</th>\n",
       "      <td>38</td>\n",
       "    </tr>\n",
       "  </tbody>\n",
       "</table>\n",
       "</div>"
      ],
      "text/plain": [
       "       GAMEWEEK\n",
       "11365        34\n",
       "2665         35\n",
       "2533         36\n",
       "2512         37\n",
       "44           38"
      ]
     },
     "execution_count": 168,
     "metadata": {},
     "output_type": "execute_result"
    }
   ],
   "source": [
    "last5_GWs"
   ]
  },
  {
   "cell_type": "code",
   "execution_count": null,
   "metadata": {},
   "outputs": [
    {
     "data": {
      "text/html": [
       "<div>\n",
       "<style scoped>\n",
       "    .dataframe tbody tr th:only-of-type {\n",
       "        vertical-align: middle;\n",
       "    }\n",
       "\n",
       "    .dataframe tbody tr th {\n",
       "        vertical-align: top;\n",
       "    }\n",
       "\n",
       "    .dataframe thead th {\n",
       "        text-align: right;\n",
       "    }\n",
       "</style>\n",
       "<table border=\"1\" class=\"dataframe\">\n",
       "  <thead>\n",
       "    <tr style=\"text-align: right;\">\n",
       "      <th></th>\n",
       "      <th>MATCH_ID</th>\n",
       "      <th>ACTION_ID</th>\n",
       "      <th>XG</th>\n",
       "      <th>PSXG</th>\n",
       "      <th>OUTCOME</th>\n",
       "      <th>DISTANCE</th>\n",
       "      <th>BODY_PART</th>\n",
       "      <th>NOTES</th>\n",
       "      <th>SCA_1_PLAYER_WS_ID</th>\n",
       "      <th>SCA_1_PLAYER_FBREF_EVENT</th>\n",
       "      <th>SCA_2_PLAYER_WS_ID</th>\n",
       "      <th>SCA_2_PLAYER_FBREF_EVENT</th>\n",
       "      <th>TEAM_FBREF_ID</th>\n",
       "      <th>PERIOD_ID</th>\n",
       "      <th>NEW_TIME_SECONDS</th>\n",
       "      <th>START_X</th>\n",
       "      <th>END_X</th>\n",
       "      <th>START_Y</th>\n",
       "      <th>END_Y</th>\n",
       "      <th>PLAYER_WS_ID</th>\n",
       "      <th>RESULT_ID</th>\n",
       "      <th>TEAM_NAME</th>\n",
       "      <th>GAMEWEEK</th>\n",
       "      <th>COMPETITION</th>\n",
       "      <th>SEASON</th>\n",
       "      <th>COMPETITION_ACRONYM</th>\n",
       "      <th>OPPO_TEAM_ID</th>\n",
       "      <th>OPPO_TEAM_NAME</th>\n",
       "      <th>PLAYER_FBREF_NAME</th>\n",
       "      <th>norm_start_x</th>\n",
       "      <th>norm_start_y</th>\n",
       "      <th>xG_size</th>\n",
       "      <th>hover_text</th>\n",
       "    </tr>\n",
       "  </thead>\n",
       "  <tbody>\n",
       "    <tr>\n",
       "      <th>0</th>\n",
       "      <td>3e33bd98</td>\n",
       "      <td>797</td>\n",
       "      <td>0.05</td>\n",
       "      <td>NaN</td>\n",
       "      <td>Off Target</td>\n",
       "      <td>23</td>\n",
       "      <td>Right Foot</td>\n",
       "      <td>None</td>\n",
       "      <td>247454.0</td>\n",
       "      <td>Pass (Live)</td>\n",
       "      <td>326413.0</td>\n",
       "      <td>Shot</td>\n",
       "      <td>18bb7c10</td>\n",
       "      <td>1</td>\n",
       "      <td>3027.0</td>\n",
       "      <td>84.315</td>\n",
       "      <td>105.000</td>\n",
       "      <td>29.036</td>\n",
       "      <td>31.076</td>\n",
       "      <td>238940</td>\n",
       "      <td>0</td>\n",
       "      <td>Arsenal</td>\n",
       "      <td>38</td>\n",
       "      <td>ENG-Premier League</td>\n",
       "      <td>2324</td>\n",
       "      <td>EPL</td>\n",
       "      <td>d3fd31cc</td>\n",
       "      <td>Everton</td>\n",
       "      <td>Thomas Partey</td>\n",
       "      <td>0.702625</td>\n",
       "      <td>0.36295</td>\n",
       "      <td>2.153846</td>\n",
       "      <td>&lt;span style=\"font-size: 20px; line-height: 30p...</td>\n",
       "    </tr>\n",
       "    <tr>\n",
       "      <th>1</th>\n",
       "      <td>3e33bd98</td>\n",
       "      <td>1554</td>\n",
       "      <td>0.04</td>\n",
       "      <td>NaN</td>\n",
       "      <td>Blocked</td>\n",
       "      <td>14</td>\n",
       "      <td>Right Foot</td>\n",
       "      <td>None</td>\n",
       "      <td>332325.0</td>\n",
       "      <td>Pass (Live)</td>\n",
       "      <td>273257.0</td>\n",
       "      <td>Pass (Live)</td>\n",
       "      <td>18bb7c10</td>\n",
       "      <td>2</td>\n",
       "      <td>2455.0</td>\n",
       "      <td>93.975</td>\n",
       "      <td>100.590</td>\n",
       "      <td>45.696</td>\n",
       "      <td>37.196</td>\n",
       "      <td>279379</td>\n",
       "      <td>0</td>\n",
       "      <td>Arsenal</td>\n",
       "      <td>38</td>\n",
       "      <td>ENG-Premier League</td>\n",
       "      <td>2324</td>\n",
       "      <td>EPL</td>\n",
       "      <td>d3fd31cc</td>\n",
       "      <td>Everton</td>\n",
       "      <td>Gabriel Jesus</td>\n",
       "      <td>0.783125</td>\n",
       "      <td>0.57120</td>\n",
       "      <td>2.115385</td>\n",
       "      <td>&lt;span style=\"font-size: 20px; line-height: 30p...</td>\n",
       "    </tr>\n",
       "    <tr>\n",
       "      <th>2</th>\n",
       "      <td>3e33bd98</td>\n",
       "      <td>572</td>\n",
       "      <td>0.03</td>\n",
       "      <td>NaN</td>\n",
       "      <td>Blocked</td>\n",
       "      <td>24</td>\n",
       "      <td>Left Foot</td>\n",
       "      <td>None</td>\n",
       "      <td>326413.0</td>\n",
       "      <td>Shot</td>\n",
       "      <td>NaN</td>\n",
       "      <td>None</td>\n",
       "      <td>18bb7c10</td>\n",
       "      <td>1</td>\n",
       "      <td>1933.0</td>\n",
       "      <td>82.635</td>\n",
       "      <td>85.050</td>\n",
       "      <td>34.340</td>\n",
       "      <td>34.476</td>\n",
       "      <td>334087</td>\n",
       "      <td>0</td>\n",
       "      <td>Arsenal</td>\n",
       "      <td>38</td>\n",
       "      <td>ENG-Premier League</td>\n",
       "      <td>2324</td>\n",
       "      <td>EPL</td>\n",
       "      <td>d3fd31cc</td>\n",
       "      <td>Everton</td>\n",
       "      <td>Gabriel Magalhães</td>\n",
       "      <td>0.688625</td>\n",
       "      <td>0.42925</td>\n",
       "      <td>2.076923</td>\n",
       "      <td>&lt;span style=\"font-size: 20px; line-height: 30p...</td>\n",
       "    </tr>\n",
       "    <tr>\n",
       "      <th>3</th>\n",
       "      <td>3e33bd98</td>\n",
       "      <td>1322</td>\n",
       "      <td>0.03</td>\n",
       "      <td>NaN</td>\n",
       "      <td>Blocked</td>\n",
       "      <td>29</td>\n",
       "      <td>Right Foot</td>\n",
       "      <td>None</td>\n",
       "      <td>247454.0</td>\n",
       "      <td>Pass (Live)</td>\n",
       "      <td>326413.0</td>\n",
       "      <td>Pass (Live)</td>\n",
       "      <td>18bb7c10</td>\n",
       "      <td>2</td>\n",
       "      <td>1692.0</td>\n",
       "      <td>78.750</td>\n",
       "      <td>82.740</td>\n",
       "      <td>37.400</td>\n",
       "      <td>37.060</td>\n",
       "      <td>113994</td>\n",
       "      <td>0</td>\n",
       "      <td>Arsenal</td>\n",
       "      <td>38</td>\n",
       "      <td>ENG-Premier League</td>\n",
       "      <td>2324</td>\n",
       "      <td>EPL</td>\n",
       "      <td>d3fd31cc</td>\n",
       "      <td>Everton</td>\n",
       "      <td>Leandro Trossard</td>\n",
       "      <td>0.656250</td>\n",
       "      <td>0.46750</td>\n",
       "      <td>2.076923</td>\n",
       "      <td>&lt;span style=\"font-size: 20px; line-height: 30p...</td>\n",
       "    </tr>\n",
       "    <tr>\n",
       "      <th>4</th>\n",
       "      <td>3e33bd98</td>\n",
       "      <td>1595</td>\n",
       "      <td>0.10</td>\n",
       "      <td>NaN</td>\n",
       "      <td>Off Target</td>\n",
       "      <td>12</td>\n",
       "      <td>Left Foot</td>\n",
       "      <td>None</td>\n",
       "      <td>279379.0</td>\n",
       "      <td>Pass (Live)</td>\n",
       "      <td>279379.0</td>\n",
       "      <td>Interception</td>\n",
       "      <td>18bb7c10</td>\n",
       "      <td>2</td>\n",
       "      <td>2591.0</td>\n",
       "      <td>94.080</td>\n",
       "      <td>100.275</td>\n",
       "      <td>29.376</td>\n",
       "      <td>35.360</td>\n",
       "      <td>247454</td>\n",
       "      <td>0</td>\n",
       "      <td>Arsenal</td>\n",
       "      <td>38</td>\n",
       "      <td>ENG-Premier League</td>\n",
       "      <td>2324</td>\n",
       "      <td>EPL</td>\n",
       "      <td>d3fd31cc</td>\n",
       "      <td>Everton</td>\n",
       "      <td>Martin Ødegaard</td>\n",
       "      <td>0.784000</td>\n",
       "      <td>0.36720</td>\n",
       "      <td>2.346154</td>\n",
       "      <td>&lt;span style=\"font-size: 20px; line-height: 30p...</td>\n",
       "    </tr>\n",
       "    <tr>\n",
       "      <th>...</th>\n",
       "      <td>...</td>\n",
       "      <td>...</td>\n",
       "      <td>...</td>\n",
       "      <td>...</td>\n",
       "      <td>...</td>\n",
       "      <td>...</td>\n",
       "      <td>...</td>\n",
       "      <td>...</td>\n",
       "      <td>...</td>\n",
       "      <td>...</td>\n",
       "      <td>...</td>\n",
       "      <td>...</td>\n",
       "      <td>...</td>\n",
       "      <td>...</td>\n",
       "      <td>...</td>\n",
       "      <td>...</td>\n",
       "      <td>...</td>\n",
       "      <td>...</td>\n",
       "      <td>...</td>\n",
       "      <td>...</td>\n",
       "      <td>...</td>\n",
       "      <td>...</td>\n",
       "      <td>...</td>\n",
       "      <td>...</td>\n",
       "      <td>...</td>\n",
       "      <td>...</td>\n",
       "      <td>...</td>\n",
       "      <td>...</td>\n",
       "      <td>...</td>\n",
       "      <td>...</td>\n",
       "      <td>...</td>\n",
       "      <td>...</td>\n",
       "      <td>...</td>\n",
       "    </tr>\n",
       "    <tr>\n",
       "      <th>90</th>\n",
       "      <td>22881ea2</td>\n",
       "      <td>328</td>\n",
       "      <td>0.05</td>\n",
       "      <td>0.29</td>\n",
       "      <td>Saved</td>\n",
       "      <td>22</td>\n",
       "      <td>Right Foot</td>\n",
       "      <td>None</td>\n",
       "      <td>332325.0</td>\n",
       "      <td>Pass (Live)</td>\n",
       "      <td>367185.0</td>\n",
       "      <td>Pass (Live)</td>\n",
       "      <td>18bb7c10</td>\n",
       "      <td>1</td>\n",
       "      <td>851.0</td>\n",
       "      <td>84.630</td>\n",
       "      <td>103.740</td>\n",
       "      <td>37.264</td>\n",
       "      <td>34.476</td>\n",
       "      <td>332325</td>\n",
       "      <td>0</td>\n",
       "      <td>Arsenal</td>\n",
       "      <td>34</td>\n",
       "      <td>ENG-Premier League</td>\n",
       "      <td>2324</td>\n",
       "      <td>EPL</td>\n",
       "      <td>8cec06e1</td>\n",
       "      <td>Wolves</td>\n",
       "      <td>Declan Rice</td>\n",
       "      <td>0.705250</td>\n",
       "      <td>0.46580</td>\n",
       "      <td>2.153846</td>\n",
       "      <td>&lt;span style=\"font-size: 20px; line-height: 30p...</td>\n",
       "    </tr>\n",
       "    <tr>\n",
       "      <th>91</th>\n",
       "      <td>22881ea2</td>\n",
       "      <td>1639</td>\n",
       "      <td>0.04</td>\n",
       "      <td>0.12</td>\n",
       "      <td>Goal</td>\n",
       "      <td>8</td>\n",
       "      <td>Left Foot</td>\n",
       "      <td>None</td>\n",
       "      <td>326413.0</td>\n",
       "      <td>Pass (Live)</td>\n",
       "      <td>332325.0</td>\n",
       "      <td>Pass (Live)</td>\n",
       "      <td>18bb7c10</td>\n",
       "      <td>2</td>\n",
       "      <td>2955.0</td>\n",
       "      <td>103.530</td>\n",
       "      <td>105.000</td>\n",
       "      <td>23.664</td>\n",
       "      <td>35.020</td>\n",
       "      <td>247454</td>\n",
       "      <td>1</td>\n",
       "      <td>Arsenal</td>\n",
       "      <td>34</td>\n",
       "      <td>ENG-Premier League</td>\n",
       "      <td>2324</td>\n",
       "      <td>EPL</td>\n",
       "      <td>8cec06e1</td>\n",
       "      <td>Wolves</td>\n",
       "      <td>Martin Ødegaard</td>\n",
       "      <td>0.862750</td>\n",
       "      <td>0.29580</td>\n",
       "      <td>2.115385</td>\n",
       "      <td>&lt;span style=\"font-size: 20px; line-height: 30p...</td>\n",
       "    </tr>\n",
       "    <tr>\n",
       "      <th>92</th>\n",
       "      <td>22881ea2</td>\n",
       "      <td>413</td>\n",
       "      <td>0.08</td>\n",
       "      <td>NaN</td>\n",
       "      <td>Off Target</td>\n",
       "      <td>22</td>\n",
       "      <td>Right Foot</td>\n",
       "      <td>None</td>\n",
       "      <td>113994.0</td>\n",
       "      <td>Pass (Live)</td>\n",
       "      <td>326413.0</td>\n",
       "      <td>Pass (Live)</td>\n",
       "      <td>18bb7c10</td>\n",
       "      <td>1</td>\n",
       "      <td>1150.0</td>\n",
       "      <td>84.840</td>\n",
       "      <td>105.000</td>\n",
       "      <td>35.020</td>\n",
       "      <td>39.440</td>\n",
       "      <td>332325</td>\n",
       "      <td>0</td>\n",
       "      <td>Arsenal</td>\n",
       "      <td>34</td>\n",
       "      <td>ENG-Premier League</td>\n",
       "      <td>2324</td>\n",
       "      <td>EPL</td>\n",
       "      <td>8cec06e1</td>\n",
       "      <td>Wolves</td>\n",
       "      <td>Declan Rice</td>\n",
       "      <td>0.707000</td>\n",
       "      <td>0.43775</td>\n",
       "      <td>2.269231</td>\n",
       "      <td>&lt;span style=\"font-size: 20px; line-height: 30p...</td>\n",
       "    </tr>\n",
       "    <tr>\n",
       "      <th>93</th>\n",
       "      <td>22881ea2</td>\n",
       "      <td>1583</td>\n",
       "      <td>0.03</td>\n",
       "      <td>0.06</td>\n",
       "      <td>Saved</td>\n",
       "      <td>19</td>\n",
       "      <td>Right Foot</td>\n",
       "      <td>None</td>\n",
       "      <td>367185.0</td>\n",
       "      <td>Pass (Live)</td>\n",
       "      <td>247454.0</td>\n",
       "      <td>Pass (Live)</td>\n",
       "      <td>18bb7c10</td>\n",
       "      <td>2</td>\n",
       "      <td>2840.0</td>\n",
       "      <td>88.410</td>\n",
       "      <td>104.055</td>\n",
       "      <td>21.624</td>\n",
       "      <td>32.504</td>\n",
       "      <td>332325</td>\n",
       "      <td>0</td>\n",
       "      <td>Arsenal</td>\n",
       "      <td>34</td>\n",
       "      <td>ENG-Premier League</td>\n",
       "      <td>2324</td>\n",
       "      <td>EPL</td>\n",
       "      <td>8cec06e1</td>\n",
       "      <td>Wolves</td>\n",
       "      <td>Declan Rice</td>\n",
       "      <td>0.736750</td>\n",
       "      <td>0.27030</td>\n",
       "      <td>2.076923</td>\n",
       "      <td>&lt;span style=\"font-size: 20px; line-height: 30p...</td>\n",
       "    </tr>\n",
       "    <tr>\n",
       "      <th>94</th>\n",
       "      <td>22881ea2</td>\n",
       "      <td>1374</td>\n",
       "      <td>0.06</td>\n",
       "      <td>NaN</td>\n",
       "      <td>Blocked</td>\n",
       "      <td>9</td>\n",
       "      <td>Head</td>\n",
       "      <td>None</td>\n",
       "      <td>367185.0</td>\n",
       "      <td>Pass (Live)</td>\n",
       "      <td>332325.0</td>\n",
       "      <td>Pass (Live)</td>\n",
       "      <td>18bb7c10</td>\n",
       "      <td>2</td>\n",
       "      <td>1873.0</td>\n",
       "      <td>96.390</td>\n",
       "      <td>97.650</td>\n",
       "      <td>37.128</td>\n",
       "      <td>36.584</td>\n",
       "      <td>326413</td>\n",
       "      <td>0</td>\n",
       "      <td>Arsenal</td>\n",
       "      <td>34</td>\n",
       "      <td>ENG-Premier League</td>\n",
       "      <td>2324</td>\n",
       "      <td>EPL</td>\n",
       "      <td>8cec06e1</td>\n",
       "      <td>Wolves</td>\n",
       "      <td>Kai Havertz</td>\n",
       "      <td>0.803250</td>\n",
       "      <td>0.46410</td>\n",
       "      <td>2.192308</td>\n",
       "      <td>&lt;span style=\"font-size: 20px; line-height: 30p...</td>\n",
       "    </tr>\n",
       "  </tbody>\n",
       "</table>\n",
       "<p>95 rows × 33 columns</p>\n",
       "</div>"
      ],
      "text/plain": [
       "    MATCH_ID  ACTION_ID    XG  PSXG     OUTCOME  DISTANCE   BODY_PART NOTES  \\\n",
       "0   3e33bd98        797  0.05   NaN  Off Target        23  Right Foot  None   \n",
       "1   3e33bd98       1554  0.04   NaN     Blocked        14  Right Foot  None   \n",
       "2   3e33bd98        572  0.03   NaN     Blocked        24   Left Foot  None   \n",
       "3   3e33bd98       1322  0.03   NaN     Blocked        29  Right Foot  None   \n",
       "4   3e33bd98       1595  0.10   NaN  Off Target        12   Left Foot  None   \n",
       "..       ...        ...   ...   ...         ...       ...         ...   ...   \n",
       "90  22881ea2        328  0.05  0.29       Saved        22  Right Foot  None   \n",
       "91  22881ea2       1639  0.04  0.12        Goal         8   Left Foot  None   \n",
       "92  22881ea2        413  0.08   NaN  Off Target        22  Right Foot  None   \n",
       "93  22881ea2       1583  0.03  0.06       Saved        19  Right Foot  None   \n",
       "94  22881ea2       1374  0.06   NaN     Blocked         9        Head  None   \n",
       "\n",
       "    SCA_1_PLAYER_WS_ID SCA_1_PLAYER_FBREF_EVENT  SCA_2_PLAYER_WS_ID  \\\n",
       "0             247454.0              Pass (Live)            326413.0   \n",
       "1             332325.0              Pass (Live)            273257.0   \n",
       "2             326413.0                     Shot                 NaN   \n",
       "3             247454.0              Pass (Live)            326413.0   \n",
       "4             279379.0              Pass (Live)            279379.0   \n",
       "..                 ...                      ...                 ...   \n",
       "90            332325.0              Pass (Live)            367185.0   \n",
       "91            326413.0              Pass (Live)            332325.0   \n",
       "92            113994.0              Pass (Live)            326413.0   \n",
       "93            367185.0              Pass (Live)            247454.0   \n",
       "94            367185.0              Pass (Live)            332325.0   \n",
       "\n",
       "   SCA_2_PLAYER_FBREF_EVENT TEAM_FBREF_ID  PERIOD_ID  NEW_TIME_SECONDS  \\\n",
       "0                      Shot      18bb7c10          1            3027.0   \n",
       "1               Pass (Live)      18bb7c10          2            2455.0   \n",
       "2                      None      18bb7c10          1            1933.0   \n",
       "3               Pass (Live)      18bb7c10          2            1692.0   \n",
       "4              Interception      18bb7c10          2            2591.0   \n",
       "..                      ...           ...        ...               ...   \n",
       "90              Pass (Live)      18bb7c10          1             851.0   \n",
       "91              Pass (Live)      18bb7c10          2            2955.0   \n",
       "92              Pass (Live)      18bb7c10          1            1150.0   \n",
       "93              Pass (Live)      18bb7c10          2            2840.0   \n",
       "94              Pass (Live)      18bb7c10          2            1873.0   \n",
       "\n",
       "    START_X    END_X  START_Y   END_Y  PLAYER_WS_ID  RESULT_ID TEAM_NAME  \\\n",
       "0    84.315  105.000   29.036  31.076        238940          0   Arsenal   \n",
       "1    93.975  100.590   45.696  37.196        279379          0   Arsenal   \n",
       "2    82.635   85.050   34.340  34.476        334087          0   Arsenal   \n",
       "3    78.750   82.740   37.400  37.060        113994          0   Arsenal   \n",
       "4    94.080  100.275   29.376  35.360        247454          0   Arsenal   \n",
       "..      ...      ...      ...     ...           ...        ...       ...   \n",
       "90   84.630  103.740   37.264  34.476        332325          0   Arsenal   \n",
       "91  103.530  105.000   23.664  35.020        247454          1   Arsenal   \n",
       "92   84.840  105.000   35.020  39.440        332325          0   Arsenal   \n",
       "93   88.410  104.055   21.624  32.504        332325          0   Arsenal   \n",
       "94   96.390   97.650   37.128  36.584        326413          0   Arsenal   \n",
       "\n",
       "    GAMEWEEK         COMPETITION  SEASON COMPETITION_ACRONYM OPPO_TEAM_ID  \\\n",
       "0         38  ENG-Premier League    2324                 EPL     d3fd31cc   \n",
       "1         38  ENG-Premier League    2324                 EPL     d3fd31cc   \n",
       "2         38  ENG-Premier League    2324                 EPL     d3fd31cc   \n",
       "3         38  ENG-Premier League    2324                 EPL     d3fd31cc   \n",
       "4         38  ENG-Premier League    2324                 EPL     d3fd31cc   \n",
       "..       ...                 ...     ...                 ...          ...   \n",
       "90        34  ENG-Premier League    2324                 EPL     8cec06e1   \n",
       "91        34  ENG-Premier League    2324                 EPL     8cec06e1   \n",
       "92        34  ENG-Premier League    2324                 EPL     8cec06e1   \n",
       "93        34  ENG-Premier League    2324                 EPL     8cec06e1   \n",
       "94        34  ENG-Premier League    2324                 EPL     8cec06e1   \n",
       "\n",
       "   OPPO_TEAM_NAME  PLAYER_FBREF_NAME  norm_start_x  norm_start_y   xG_size  \\\n",
       "0         Everton      Thomas Partey      0.702625       0.36295  2.153846   \n",
       "1         Everton      Gabriel Jesus      0.783125       0.57120  2.115385   \n",
       "2         Everton  Gabriel Magalhães      0.688625       0.42925  2.076923   \n",
       "3         Everton   Leandro Trossard      0.656250       0.46750  2.076923   \n",
       "4         Everton    Martin Ødegaard      0.784000       0.36720  2.346154   \n",
       "..            ...                ...           ...           ...       ...   \n",
       "90         Wolves        Declan Rice      0.705250       0.46580  2.153846   \n",
       "91         Wolves    Martin Ødegaard      0.862750       0.29580  2.115385   \n",
       "92         Wolves        Declan Rice      0.707000       0.43775  2.269231   \n",
       "93         Wolves        Declan Rice      0.736750       0.27030  2.076923   \n",
       "94         Wolves        Kai Havertz      0.803250       0.46410  2.192308   \n",
       "\n",
       "                                           hover_text  \n",
       "0   <span style=\"font-size: 20px; line-height: 30p...  \n",
       "1   <span style=\"font-size: 20px; line-height: 30p...  \n",
       "2   <span style=\"font-size: 20px; line-height: 30p...  \n",
       "3   <span style=\"font-size: 20px; line-height: 30p...  \n",
       "4   <span style=\"font-size: 20px; line-height: 30p...  \n",
       "..                                                ...  \n",
       "90  <span style=\"font-size: 20px; line-height: 30p...  \n",
       "91  <span style=\"font-size: 20px; line-height: 30p...  \n",
       "92  <span style=\"font-size: 20px; line-height: 30p...  \n",
       "93  <span style=\"font-size: 20px; line-height: 30p...  \n",
       "94  <span style=\"font-size: 20px; line-height: 30p...  \n",
       "\n",
       "[95 rows x 33 columns]"
      ]
     },
     "execution_count": 167,
     "metadata": {},
     "output_type": "execute_result"
    }
   ],
   "source": [
    "df_shots_last_5_matches"
   ]
  },
  {
   "cell_type": "code",
   "execution_count": null,
   "metadata": {},
   "outputs": [],
   "source": [
    "last_GW = df_shots_last_5_matches['GAMEWEEK'].max()"
   ]
  },
  {
   "cell_type": "code",
   "execution_count": null,
   "metadata": {},
   "outputs": [
    {
     "data": {
      "text/plain": [
       "38"
      ]
     },
     "execution_count": 166,
     "metadata": {},
     "output_type": "execute_result"
    }
   ],
   "source": [
    "last_match = fetch_data(cursor, \"SELECT * FROM MATCHES WHERE GAMEWEEK = \")"
   ]
  },
  {
   "cell_type": "code",
   "execution_count": null,
   "metadata": {},
   "outputs": [
    {
     "data": {
      "text/html": [
       "<div>\n",
       "<style scoped>\n",
       "    .dataframe tbody tr th:only-of-type {\n",
       "        vertical-align: middle;\n",
       "    }\n",
       "\n",
       "    .dataframe tbody tr th {\n",
       "        vertical-align: top;\n",
       "    }\n",
       "\n",
       "    .dataframe thead th {\n",
       "        text-align: right;\n",
       "    }\n",
       "</style>\n",
       "<table border=\"1\" class=\"dataframe\">\n",
       "  <thead>\n",
       "    <tr style=\"text-align: right;\">\n",
       "      <th></th>\n",
       "      <th>MATCH_ID</th>\n",
       "      <th>DATE_TIME</th>\n",
       "      <th>HOME_TEAM_ID</th>\n",
       "      <th>AWAY_TEAM_ID</th>\n",
       "      <th>COMPETITION</th>\n",
       "      <th>SEASON</th>\n",
       "      <th>STADIUM</th>\n",
       "      <th>GAMEWEEK</th>\n",
       "      <th>DAY</th>\n",
       "      <th>HOME_TEAM_SCORE</th>\n",
       "      <th>AWAY_TEAM_SCORE</th>\n",
       "      <th>HOME_TEAM_XG</th>\n",
       "      <th>AWAY_TEAM_XG</th>\n",
       "      <th>ATTENDANCE</th>\n",
       "      <th>REFEREE</th>\n",
       "      <th>WS_MATCH_ID</th>\n",
       "    </tr>\n",
       "  </thead>\n",
       "  <tbody>\n",
       "    <tr>\n",
       "      <th>0</th>\n",
       "      <td>f60ad969</td>\n",
       "      <td>2024-05-11 15:30:00</td>\n",
       "      <td>32f3ee20</td>\n",
       "      <td>f0ac8ee6</td>\n",
       "      <td>GER-Bundesliga</td>\n",
       "      <td>2324</td>\n",
       "      <td>Stadion im Borussia-Park</td>\n",
       "      <td>33</td>\n",
       "      <td>Sat</td>\n",
       "      <td>1</td>\n",
       "      <td>1</td>\n",
       "      <td>0.4</td>\n",
       "      <td>1.5</td>\n",
       "      <td>54042.0</td>\n",
       "      <td>Robert Schröder</td>\n",
       "      <td>1743683</td>\n",
       "    </tr>\n",
       "    <tr>\n",
       "      <th>1</th>\n",
       "      <td>186f2bd2</td>\n",
       "      <td>2024-04-28 15:30:00</td>\n",
       "      <td>32f3ee20</td>\n",
       "      <td>7a41008f</td>\n",
       "      <td>GER-Bundesliga</td>\n",
       "      <td>2324</td>\n",
       "      <td>Stadion im Borussia-Park</td>\n",
       "      <td>31</td>\n",
       "      <td>Sun</td>\n",
       "      <td>0</td>\n",
       "      <td>0</td>\n",
       "      <td>0.9</td>\n",
       "      <td>1.0</td>\n",
       "      <td>53723.0</td>\n",
       "      <td>Sascha Stegemann</td>\n",
       "      <td>1743666</td>\n",
       "    </tr>\n",
       "    <tr>\n",
       "      <th>2</th>\n",
       "      <td>4e276e61</td>\n",
       "      <td>2024-05-04 15:30:00</td>\n",
       "      <td>62add3bf</td>\n",
       "      <td>32f3ee20</td>\n",
       "      <td>GER-Bundesliga</td>\n",
       "      <td>2324</td>\n",
       "      <td>Wohninvest Weserstadion</td>\n",
       "      <td>32</td>\n",
       "      <td>Sat</td>\n",
       "      <td>2</td>\n",
       "      <td>2</td>\n",
       "      <td>1.4</td>\n",
       "      <td>1.9</td>\n",
       "      <td>42100.0</td>\n",
       "      <td>Timo Gerach</td>\n",
       "      <td>1743676</td>\n",
       "    </tr>\n",
       "    <tr>\n",
       "      <th>3</th>\n",
       "      <td>b0db8bc6</td>\n",
       "      <td>2024-04-20 15:30:00</td>\n",
       "      <td>033ea6b8</td>\n",
       "      <td>32f3ee20</td>\n",
       "      <td>GER-Bundesliga</td>\n",
       "      <td>2324</td>\n",
       "      <td>PreZero Arena</td>\n",
       "      <td>30</td>\n",
       "      <td>Sat</td>\n",
       "      <td>4</td>\n",
       "      <td>3</td>\n",
       "      <td>2.3</td>\n",
       "      <td>1.0</td>\n",
       "      <td>26078.0</td>\n",
       "      <td>Sören Storks</td>\n",
       "      <td>1743658</td>\n",
       "    </tr>\n",
       "    <tr>\n",
       "      <th>4</th>\n",
       "      <td>37ed39d6</td>\n",
       "      <td>2024-04-13 15:30:00</td>\n",
       "      <td>32f3ee20</td>\n",
       "      <td>add600ae</td>\n",
       "      <td>GER-Bundesliga</td>\n",
       "      <td>2324</td>\n",
       "      <td>Stadion im Borussia-Park</td>\n",
       "      <td>29</td>\n",
       "      <td>Sat</td>\n",
       "      <td>1</td>\n",
       "      <td>2</td>\n",
       "      <td>1.1</td>\n",
       "      <td>1.3</td>\n",
       "      <td>54042.0</td>\n",
       "      <td>Florian Badstübner</td>\n",
       "      <td>1743647</td>\n",
       "    </tr>\n",
       "    <tr>\n",
       "      <th>...</th>\n",
       "      <td>...</td>\n",
       "      <td>...</td>\n",
       "      <td>...</td>\n",
       "      <td>...</td>\n",
       "      <td>...</td>\n",
       "      <td>...</td>\n",
       "      <td>...</td>\n",
       "      <td>...</td>\n",
       "      <td>...</td>\n",
       "      <td>...</td>\n",
       "      <td>...</td>\n",
       "      <td>...</td>\n",
       "      <td>...</td>\n",
       "      <td>...</td>\n",
       "      <td>...</td>\n",
       "      <td>...</td>\n",
       "    </tr>\n",
       "    <tr>\n",
       "      <th>5397</th>\n",
       "      <td>006fb5b5</td>\n",
       "      <td>2024-01-20 12:30:00</td>\n",
       "      <td>18bb7c10</td>\n",
       "      <td>47c64c55</td>\n",
       "      <td>ENG-Premier League</td>\n",
       "      <td>2324</td>\n",
       "      <td>Emirates Stadium</td>\n",
       "      <td>21</td>\n",
       "      <td>Sat</td>\n",
       "      <td>5</td>\n",
       "      <td>0</td>\n",
       "      <td>3.3</td>\n",
       "      <td>0.3</td>\n",
       "      <td>60284.0</td>\n",
       "      <td>Paul Tierney</td>\n",
       "      <td>1729533</td>\n",
       "    </tr>\n",
       "    <tr>\n",
       "      <th>5398</th>\n",
       "      <td>9a03e25c</td>\n",
       "      <td>2024-01-21 16:30:00</td>\n",
       "      <td>4ba7cbea</td>\n",
       "      <td>822bd0ba</td>\n",
       "      <td>ENG-Premier League</td>\n",
       "      <td>2324</td>\n",
       "      <td>Vitality Stadium</td>\n",
       "      <td>21</td>\n",
       "      <td>Sun</td>\n",
       "      <td>0</td>\n",
       "      <td>4</td>\n",
       "      <td>1.4</td>\n",
       "      <td>1.5</td>\n",
       "      <td>11228.0</td>\n",
       "      <td>Andy Madley</td>\n",
       "      <td>1729532</td>\n",
       "    </tr>\n",
       "    <tr>\n",
       "      <th>5399</th>\n",
       "      <td>17d24e01</td>\n",
       "      <td>2024-01-30 19:45:00</td>\n",
       "      <td>fd962109</td>\n",
       "      <td>d3fd31cc</td>\n",
       "      <td>ENG-Premier League</td>\n",
       "      <td>2324</td>\n",
       "      <td>Craven Cottage</td>\n",
       "      <td>22</td>\n",
       "      <td>Tue</td>\n",
       "      <td>0</td>\n",
       "      <td>0</td>\n",
       "      <td>1.6</td>\n",
       "      <td>1.9</td>\n",
       "      <td>24376.0</td>\n",
       "      <td>Thomas Bramall</td>\n",
       "      <td>1729452</td>\n",
       "    </tr>\n",
       "    <tr>\n",
       "      <th>5400</th>\n",
       "      <td>381f12be</td>\n",
       "      <td>2024-01-30 19:45:00</td>\n",
       "      <td>e297cd13</td>\n",
       "      <td>d07537b9</td>\n",
       "      <td>ENG-Premier League</td>\n",
       "      <td>2324</td>\n",
       "      <td>Kenilworth Road Stadium</td>\n",
       "      <td>22</td>\n",
       "      <td>Tue</td>\n",
       "      <td>4</td>\n",
       "      <td>0</td>\n",
       "      <td>3.1</td>\n",
       "      <td>0.9</td>\n",
       "      <td>10994.0</td>\n",
       "      <td>Robert Jones</td>\n",
       "      <td>1729453</td>\n",
       "    </tr>\n",
       "    <tr>\n",
       "      <th>5401</th>\n",
       "      <td>20a16b44</td>\n",
       "      <td>2024-01-30 19:30:00</td>\n",
       "      <td>e4a775cb</td>\n",
       "      <td>18bb7c10</td>\n",
       "      <td>ENG-Premier League</td>\n",
       "      <td>2324</td>\n",
       "      <td>The City Ground</td>\n",
       "      <td>22</td>\n",
       "      <td>Tue</td>\n",
       "      <td>1</td>\n",
       "      <td>2</td>\n",
       "      <td>0.5</td>\n",
       "      <td>1.2</td>\n",
       "      <td>29387.0</td>\n",
       "      <td>Simon Hooper</td>\n",
       "      <td>1729454</td>\n",
       "    </tr>\n",
       "  </tbody>\n",
       "</table>\n",
       "<p>5402 rows × 16 columns</p>\n",
       "</div>"
      ],
      "text/plain": [
       "      MATCH_ID            DATE_TIME HOME_TEAM_ID AWAY_TEAM_ID  \\\n",
       "0     f60ad969  2024-05-11 15:30:00     32f3ee20     f0ac8ee6   \n",
       "1     186f2bd2  2024-04-28 15:30:00     32f3ee20     7a41008f   \n",
       "2     4e276e61  2024-05-04 15:30:00     62add3bf     32f3ee20   \n",
       "3     b0db8bc6  2024-04-20 15:30:00     033ea6b8     32f3ee20   \n",
       "4     37ed39d6  2024-04-13 15:30:00     32f3ee20     add600ae   \n",
       "...        ...                  ...          ...          ...   \n",
       "5397  006fb5b5  2024-01-20 12:30:00     18bb7c10     47c64c55   \n",
       "5398  9a03e25c  2024-01-21 16:30:00     4ba7cbea     822bd0ba   \n",
       "5399  17d24e01  2024-01-30 19:45:00     fd962109     d3fd31cc   \n",
       "5400  381f12be  2024-01-30 19:45:00     e297cd13     d07537b9   \n",
       "5401  20a16b44  2024-01-30 19:30:00     e4a775cb     18bb7c10   \n",
       "\n",
       "             COMPETITION  SEASON                   STADIUM  GAMEWEEK  DAY  \\\n",
       "0         GER-Bundesliga    2324  Stadion im Borussia-Park        33  Sat   \n",
       "1         GER-Bundesliga    2324  Stadion im Borussia-Park        31  Sun   \n",
       "2         GER-Bundesliga    2324   Wohninvest Weserstadion        32  Sat   \n",
       "3         GER-Bundesliga    2324             PreZero Arena        30  Sat   \n",
       "4         GER-Bundesliga    2324  Stadion im Borussia-Park        29  Sat   \n",
       "...                  ...     ...                       ...       ...  ...   \n",
       "5397  ENG-Premier League    2324          Emirates Stadium        21  Sat   \n",
       "5398  ENG-Premier League    2324          Vitality Stadium        21  Sun   \n",
       "5399  ENG-Premier League    2324            Craven Cottage        22  Tue   \n",
       "5400  ENG-Premier League    2324   Kenilworth Road Stadium        22  Tue   \n",
       "5401  ENG-Premier League    2324           The City Ground        22  Tue   \n",
       "\n",
       "      HOME_TEAM_SCORE  AWAY_TEAM_SCORE  HOME_TEAM_XG  AWAY_TEAM_XG  \\\n",
       "0                   1                1           0.4           1.5   \n",
       "1                   0                0           0.9           1.0   \n",
       "2                   2                2           1.4           1.9   \n",
       "3                   4                3           2.3           1.0   \n",
       "4                   1                2           1.1           1.3   \n",
       "...               ...              ...           ...           ...   \n",
       "5397                5                0           3.3           0.3   \n",
       "5398                0                4           1.4           1.5   \n",
       "5399                0                0           1.6           1.9   \n",
       "5400                4                0           3.1           0.9   \n",
       "5401                1                2           0.5           1.2   \n",
       "\n",
       "      ATTENDANCE             REFEREE  WS_MATCH_ID  \n",
       "0        54042.0     Robert Schröder      1743683  \n",
       "1        53723.0    Sascha Stegemann      1743666  \n",
       "2        42100.0         Timo Gerach      1743676  \n",
       "3        26078.0        Sören Storks      1743658  \n",
       "4        54042.0  Florian Badstübner      1743647  \n",
       "...          ...                 ...          ...  \n",
       "5397     60284.0        Paul Tierney      1729533  \n",
       "5398     11228.0         Andy Madley      1729532  \n",
       "5399     24376.0      Thomas Bramall      1729452  \n",
       "5400     10994.0        Robert Jones      1729453  \n",
       "5401     29387.0        Simon Hooper      1729454  \n",
       "\n",
       "[5402 rows x 16 columns]"
      ]
     },
     "execution_count": 163,
     "metadata": {},
     "output_type": "execute_result"
    }
   ],
   "source": [
    "df_matches"
   ]
  },
  {
   "cell_type": "code",
   "execution_count": null,
   "metadata": {},
   "outputs": [],
   "source": []
  },
  {
   "cell_type": "code",
   "execution_count": null,
   "metadata": {},
   "outputs": [
    {
     "data": {
      "text/html": [
       "<div>\n",
       "<style scoped>\n",
       "    .dataframe tbody tr th:only-of-type {\n",
       "        vertical-align: middle;\n",
       "    }\n",
       "\n",
       "    .dataframe tbody tr th {\n",
       "        vertical-align: top;\n",
       "    }\n",
       "\n",
       "    .dataframe thead th {\n",
       "        text-align: right;\n",
       "    }\n",
       "</style>\n",
       "<table border=\"1\" class=\"dataframe\">\n",
       "  <thead>\n",
       "    <tr style=\"text-align: right;\">\n",
       "      <th></th>\n",
       "      <th>GAMEWEEK</th>\n",
       "    </tr>\n",
       "  </thead>\n",
       "  <tbody>\n",
       "    <tr>\n",
       "      <th>11365</th>\n",
       "      <td>34</td>\n",
       "    </tr>\n",
       "    <tr>\n",
       "      <th>2665</th>\n",
       "      <td>35</td>\n",
       "    </tr>\n",
       "    <tr>\n",
       "      <th>2533</th>\n",
       "      <td>36</td>\n",
       "    </tr>\n",
       "    <tr>\n",
       "      <th>2512</th>\n",
       "      <td>37</td>\n",
       "    </tr>\n",
       "    <tr>\n",
       "      <th>44</th>\n",
       "      <td>38</td>\n",
       "    </tr>\n",
       "  </tbody>\n",
       "</table>\n",
       "</div>"
      ],
      "text/plain": [
       "       GAMEWEEK\n",
       "11365        34\n",
       "2665         35\n",
       "2533         36\n",
       "2512         37\n",
       "44           38"
      ]
     },
     "execution_count": 161,
     "metadata": {},
     "output_type": "execute_result"
    }
   ],
   "source": [
    "last5_GWs"
   ]
  },
  {
   "cell_type": "code",
   "execution_count": null,
   "metadata": {},
   "outputs": [
    {
     "data": {
      "text/plain": [
       "Blocked       35\n",
       "Off Target    27\n",
       "Saved         21\n",
       "Goal          10\n",
       "Woodwork       2\n",
       "Name: OUTCOME, dtype: int64"
      ]
     },
     "execution_count": 150,
     "metadata": {},
     "output_type": "execute_result"
    }
   ],
   "source": [
    "df_shots_last_5_matches['OUTCOME'].value_counts()"
   ]
  },
  {
   "cell_type": "code",
   "execution_count": null,
   "metadata": {},
   "outputs": [],
   "source": [
    "df_shots_last_5_matches['norm_start_x'] = df_shots_last_5_matches['START_X'] / 120\n",
    "df_shots_last_5_matches['norm_start_y'] = df_shots_last_5_matches['START_Y'] / 80"
   ]
  },
  {
   "cell_type": "code",
   "execution_count": null,
   "metadata": {},
   "outputs": [],
   "source": [
    "max_size = 5\n",
    "min_size = 2"
   ]
  },
  {
   "cell_type": "code",
   "execution_count": null,
   "metadata": {},
   "outputs": [],
   "source": [
    "xg_scaled = (df_shots_last_5_matches['XG'] - df_shots_last_5_matches['XG'].min()) / (df_shots_last_5_matches['XG'].max() - df_shots_last_5_matches['XG'].min())\n",
    "df_shots_last_5_matches['xG_size'] = xg_scaled * (max_size - min_size) + min_size"
   ]
  },
  {
   "cell_type": "code",
   "execution_count": null,
   "metadata": {},
   "outputs": [],
   "source": []
  },
  {
   "cell_type": "code",
   "execution_count": null,
   "metadata": {},
   "outputs": [],
   "source": [
    "summary_data = df_shots_last_5_matches['OUTCOME'].value_counts().reset_index()\n",
    "summary_data.columns = ['Outcome', 'Count']"
   ]
  },
  {
   "cell_type": "code",
   "execution_count": null,
   "metadata": {},
   "outputs": [],
   "source": [
    "total_xg = df_shots_last_5_matches['XG'].sum()\n",
    "Goals = df_shots_last_5_matches['OUTCOME'].value_counts()['Goal']\n",
    "Attempts = df_shots_last_5_matches.shape[0]\n",
    "with_feet = df_shots_last_5_matches['BODY_PART'].str.contains('Foot', na=False).sum()\n",
    "with_head = df_shots_last_5_matches['BODY_PART'].value_counts()['Head']\n",
    "direct_set_pieces = df_shots_last_5_matches['NOTES'].str.contains('Free kick', na=False).sum()"
   ]
  },
  {
   "cell_type": "code",
   "execution_count": null,
   "metadata": {},
   "outputs": [
    {
     "data": {
      "text/plain": [
       "(10.13, 10, 95, 78, 17, 1)"
      ]
     },
     "execution_count": 156,
     "metadata": {},
     "output_type": "execute_result"
    }
   ],
   "source": [
    "total_xg, Goals, Attempts, with_feet, with_head, direct_set_pieces"
   ]
  },
  {
   "cell_type": "code",
   "execution_count": null,
   "metadata": {},
   "outputs": [],
   "source": []
  },
  {
   "cell_type": "code",
   "execution_count": null,
   "metadata": {},
   "outputs": [
    {
     "data": {
      "application/vnd.plotly.v1+json": {
       "config": {
        "plotlyServerURL": "https://plotly.com"
       },
       "data": [
        {
         "hoverinfo": "text",
         "marker": {
          "color": "orange",
          "opacity": [
           0.6,
           0.6,
           0.6,
           0.6,
           0.6,
           0.6,
           0.6,
           0.6,
           0.6,
           0.6,
           0.6,
           0.6,
           0.6,
           0.6,
           0.6,
           0.6,
           0.6,
           0.6,
           0.6,
           0.6,
           0.6,
           0.6,
           0.6,
           0.6,
           0.6,
           0.6,
           0.6,
           0.6,
           0.6,
           0.6,
           0.6,
           0.6,
           0.6,
           0.6,
           0.6
          ],
          "size": [
           10.576923076923077,
           10.384615384615385,
           10.384615384615385,
           12.692307692307692,
           12.5,
           11.538461538461537,
           11.538461538461537,
           10.576923076923077,
           10.769230769230768,
           11.153846153846153,
           11.730769230769232,
           10.192307692307692,
           15.384615384615383,
           10.384615384615385,
           12.307692307692308,
           10.384615384615385,
           10.769230769230768,
           10.961538461538463,
           11.538461538461537,
           11.346153846153847,
           11.730769230769232,
           10.576923076923077,
           11.153846153846153,
           10.961538461538463,
           10.769230769230768,
           10,
           10.192307692307692,
           10,
           11.346153846153847,
           10.192307692307692,
           10.384615384615385,
           10,
           10.192307692307692,
           11.153846153846153,
           10.961538461538463
          ],
          "symbol": "x"
         },
         "mode": "markers",
         "name": "Blocked",
         "text": [
          "<span style=\"font-size: 20px; line-height: 30px;\"><b>Gabriel Jesus</b></span><span style=\"font-size: 12px; line-height: 22px;\">  vs Everton</span><br><span style=\"font-size: 15px; line-height: 18px;\">Shot - Blocked</span><br><span style=\"font-size: 15px; line-height: 18px;\">Shot xG - 0.04</span><br><span style=\"font-size: 15px; line-height: 18px;\">Game time - 41'<span style=\"font-size: 12px; line-height: 22px;\">  Period/Half: 2</span>",
          "<span style=\"font-size: 20px; line-height: 30px;\"><b>Gabriel Magalhães</b></span><span style=\"font-size: 12px; line-height: 22px;\">  vs Everton</span><br><span style=\"font-size: 15px; line-height: 18px;\">Shot - Blocked</span><br><span style=\"font-size: 15px; line-height: 18px;\">Shot xG - 0.03</span><br><span style=\"font-size: 15px; line-height: 18px;\">Game time - 33'<span style=\"font-size: 12px; line-height: 22px;\">  Period/Half: 1</span>",
          "<span style=\"font-size: 20px; line-height: 30px;\"><b>Leandro Trossard</b></span><span style=\"font-size: 12px; line-height: 22px;\">  vs Everton</span><br><span style=\"font-size: 15px; line-height: 18px;\">Shot - Blocked</span><br><span style=\"font-size: 15px; line-height: 18px;\">Shot xG - 0.03</span><br><span style=\"font-size: 15px; line-height: 18px;\">Game time - 29'<span style=\"font-size: 12px; line-height: 22px;\">  Period/Half: 2</span>",
          "<span style=\"font-size: 20px; line-height: 30px;\"><b>Emile Smith Rowe</b></span><span style=\"font-size: 12px; line-height: 22px;\">  vs Everton</span><br><span style=\"font-size: 15px; line-height: 18px;\">Shot - Blocked</span><br><span style=\"font-size: 15px; line-height: 18px;\">Shot xG - 0.15</span><br><span style=\"font-size: 15px; line-height: 18px;\">Game time - 27'<span style=\"font-size: 12px; line-height: 22px;\">  Period/Half: 2</span>",
          "<span style=\"font-size: 20px; line-height: 30px;\"><b>Kai Havertz</b></span><span style=\"font-size: 12px; line-height: 22px;\">  vs Everton</span><br><span style=\"font-size: 15px; line-height: 18px;\">Shot - Blocked</span><br><span style=\"font-size: 15px; line-height: 18px;\">Shot xG - 0.14</span><br><span style=\"font-size: 15px; line-height: 18px;\">Game time - 27'<span style=\"font-size: 12px; line-height: 22px;\">  Period/Half: 1</span>",
          "<span style=\"font-size: 20px; line-height: 30px;\"><b>Takehiro Tomiyasu</b></span><span style=\"font-size: 12px; line-height: 22px;\">  vs Everton</span><br><span style=\"font-size: 15px; line-height: 18px;\">Shot - Blocked</span><br><span style=\"font-size: 15px; line-height: 18px;\">Shot xG - 0.09</span><br><span style=\"font-size: 15px; line-height: 18px;\">Game time - 20'<span style=\"font-size: 12px; line-height: 22px;\">  Period/Half: 2</span>",
          "<span style=\"font-size: 20px; line-height: 30px;\"><b>Takehiro Tomiyasu</b></span><span style=\"font-size: 12px; line-height: 22px;\">  vs Everton</span><br><span style=\"font-size: 15px; line-height: 18px;\">Shot - Blocked</span><br><span style=\"font-size: 15px; line-height: 18px;\">Shot xG - 0.09</span><br><span style=\"font-size: 15px; line-height: 18px;\">Game time - 4'<span style=\"font-size: 12px; line-height: 22px;\">  Period/Half: 1</span>",
          "<span style=\"font-size: 20px; line-height: 30px;\"><b>Kai Havertz</b></span><span style=\"font-size: 12px; line-height: 22px;\">  vs Everton</span><br><span style=\"font-size: 15px; line-height: 18px;\">Shot - Blocked</span><br><span style=\"font-size: 15px; line-height: 18px;\">Shot xG - 0.04</span><br><span style=\"font-size: 15px; line-height: 18px;\">Game time - 15'<span style=\"font-size: 12px; line-height: 22px;\">  Period/Half: 1</span>",
          "<span style=\"font-size: 20px; line-height: 30px;\"><b>Kai Havertz</b></span><span style=\"font-size: 12px; line-height: 22px;\">  vs Everton</span><br><span style=\"font-size: 15px; line-height: 18px;\">Shot - Blocked</span><br><span style=\"font-size: 15px; line-height: 18px;\">Shot xG - 0.05</span><br><span style=\"font-size: 15px; line-height: 18px;\">Game time - 51'<span style=\"font-size: 12px; line-height: 22px;\">  Period/Half: 1</span>",
          "<span style=\"font-size: 20px; line-height: 30px;\"><b>Kai Havertz</b></span><span style=\"font-size: 12px; line-height: 22px;\">  vs Everton</span><br><span style=\"font-size: 15px; line-height: 18px;\">Shot - Blocked</span><br><span style=\"font-size: 15px; line-height: 18px;\">Shot xG - 0.07</span><br><span style=\"font-size: 15px; line-height: 18px;\">Game time - 33'<span style=\"font-size: 12px; line-height: 22px;\">  Period/Half: 1</span>",
          "<span style=\"font-size: 20px; line-height: 30px;\"><b>Declan Rice</b></span><span style=\"font-size: 12px; line-height: 22px;\">  vs Manchester Utd</span><br><span style=\"font-size: 15px; line-height: 18px;\">Shot - Blocked</span><br><span style=\"font-size: 15px; line-height: 18px;\">Shot xG - 0.1</span><br><span style=\"font-size: 15px; line-height: 18px;\">Game time - 10'<span style=\"font-size: 12px; line-height: 22px;\">  Period/Half: 2</span>",
          "<span style=\"font-size: 20px; line-height: 30px;\"><b>Takehiro Tomiyasu</b></span><span style=\"font-size: 12px; line-height: 22px;\">  vs Manchester Utd</span><br><span style=\"font-size: 15px; line-height: 18px;\">Shot - Blocked</span><br><span style=\"font-size: 15px; line-height: 18px;\">Shot xG - 0.02</span><br><span style=\"font-size: 15px; line-height: 18px;\">Game time - 28'<span style=\"font-size: 12px; line-height: 22px;\">  Period/Half: 1</span>",
          "<span style=\"font-size: 20px; line-height: 30px;\"><b>Bukayo Saka</b></span><span style=\"font-size: 12px; line-height: 22px;\">  vs Manchester Utd</span><br><span style=\"font-size: 15px; line-height: 18px;\">Shot - Blocked</span><br><span style=\"font-size: 15px; line-height: 18px;\">Shot xG - 0.29</span><br><span style=\"font-size: 15px; line-height: 18px;\">Game time - 11'<span style=\"font-size: 12px; line-height: 22px;\">  Period/Half: 2</span>",
          "<span style=\"font-size: 20px; line-height: 30px;\"><b>Bukayo Saka</b></span><span style=\"font-size: 12px; line-height: 22px;\">  vs Bournemouth</span><br><span style=\"font-size: 15px; line-height: 18px;\">Shot - Blocked</span><br><span style=\"font-size: 15px; line-height: 18px;\">Shot xG - 0.03</span><br><span style=\"font-size: 15px; line-height: 18px;\">Game time - 9'<span style=\"font-size: 12px; line-height: 22px;\">  Period/Half: 1</span>",
          "<span style=\"font-size: 20px; line-height: 30px;\"><b>Martin Ødegaard</b></span><span style=\"font-size: 12px; line-height: 22px;\">  vs Bournemouth</span><br><span style=\"font-size: 15px; line-height: 18px;\">Shot - Blocked</span><br><span style=\"font-size: 15px; line-height: 18px;\">Shot xG - 0.13</span><br><span style=\"font-size: 15px; line-height: 18px;\">Game time - 7'<span style=\"font-size: 12px; line-height: 22px;\">  Period/Half: 1</span>",
          "<span style=\"font-size: 20px; line-height: 30px;\"><b>Declan Rice</b></span><span style=\"font-size: 12px; line-height: 22px;\">  vs Bournemouth</span><br><span style=\"font-size: 15px; line-height: 18px;\">Shot - Blocked</span><br><span style=\"font-size: 15px; line-height: 18px;\">Shot xG - 0.03</span><br><span style=\"font-size: 15px; line-height: 18px;\">Game time - 14'<span style=\"font-size: 12px; line-height: 22px;\">  Period/Half: 1</span>",
          "<span style=\"font-size: 20px; line-height: 30px;\"><b>Bukayo Saka</b></span><span style=\"font-size: 12px; line-height: 22px;\">  vs Bournemouth</span><br><span style=\"font-size: 15px; line-height: 18px;\">Shot - Blocked</span><br><span style=\"font-size: 15px; line-height: 18px;\">Shot xG - 0.05</span><br><span style=\"font-size: 15px; line-height: 18px;\">Game time - 35'<span style=\"font-size: 12px; line-height: 22px;\">  Period/Half: 1</span>",
          "<span style=\"font-size: 20px; line-height: 30px;\"><b>Bukayo Saka</b></span><span style=\"font-size: 12px; line-height: 22px;\">  vs Bournemouth</span><br><span style=\"font-size: 15px; line-height: 18px;\">Shot - Blocked</span><br><span style=\"font-size: 15px; line-height: 18px;\">Shot xG - 0.06</span><br><span style=\"font-size: 15px; line-height: 18px;\">Game time - 8'<span style=\"font-size: 12px; line-height: 22px;\">  Period/Half: 1</span>",
          "<span style=\"font-size: 20px; line-height: 30px;\"><b>Bukayo Saka</b></span><span style=\"font-size: 12px; line-height: 22px;\">  vs Bournemouth</span><br><span style=\"font-size: 15px; line-height: 18px;\">Shot - Blocked</span><br><span style=\"font-size: 15px; line-height: 18px;\">Shot xG - 0.09</span><br><span style=\"font-size: 15px; line-height: 18px;\">Game time - 9'<span style=\"font-size: 12px; line-height: 22px;\">  Period/Half: 2</span>",
          "<span style=\"font-size: 20px; line-height: 30px;\"><b>Leandro Trossard</b></span><span style=\"font-size: 12px; line-height: 22px;\">  vs Bournemouth</span><br><span style=\"font-size: 15px; line-height: 18px;\">Shot - Blocked</span><br><span style=\"font-size: 15px; line-height: 18px;\">Shot xG - 0.08</span><br><span style=\"font-size: 15px; line-height: 18px;\">Game time - 7'<span style=\"font-size: 12px; line-height: 22px;\">  Period/Half: 1</span>",
          "<span style=\"font-size: 20px; line-height: 30px;\"><b>Leandro Trossard</b></span><span style=\"font-size: 12px; line-height: 22px;\">  vs Bournemouth</span><br><span style=\"font-size: 15px; line-height: 18px;\">Shot - Blocked</span><br><span style=\"font-size: 15px; line-height: 18px;\">Shot xG - 0.1</span><br><span style=\"font-size: 15px; line-height: 18px;\">Game time - 10'<span style=\"font-size: 12px; line-height: 22px;\">  Period/Half: 1</span>",
          "<span style=\"font-size: 20px; line-height: 30px;\"><b>Leandro Trossard</b></span><span style=\"font-size: 12px; line-height: 22px;\">  vs Tottenham</span><br><span style=\"font-size: 15px; line-height: 18px;\">Shot - Blocked</span><br><span style=\"font-size: 15px; line-height: 18px;\">Shot xG - 0.04</span><br><span style=\"font-size: 15px; line-height: 18px;\">Game time - 13'<span style=\"font-size: 12px; line-height: 22px;\">  Period/Half: 2</span>",
          "<span style=\"font-size: 20px; line-height: 30px;\"><b>Bukayo Saka</b></span><span style=\"font-size: 12px; line-height: 22px;\">  vs Tottenham</span><br><span style=\"font-size: 15px; line-height: 18px;\">Shot - Blocked</span><br><span style=\"font-size: 15px; line-height: 18px;\">Shot xG - 0.07</span><br><span style=\"font-size: 15px; line-height: 18px;\">Game time - 23'<span style=\"font-size: 12px; line-height: 22px;\">  Period/Half: 2</span>",
          "<span style=\"font-size: 20px; line-height: 30px;\"><b>Martin Ødegaard</b></span><span style=\"font-size: 12px; line-height: 22px;\">  vs Tottenham</span><br><span style=\"font-size: 15px; line-height: 18px;\">Shot - Blocked</span><br><span style=\"font-size: 15px; line-height: 18px;\">Shot xG - 0.06</span><br><span style=\"font-size: 15px; line-height: 18px;\">Game time - 11'<span style=\"font-size: 12px; line-height: 22px;\">  Period/Half: 1</span>",
          "<span style=\"font-size: 20px; line-height: 30px;\"><b>Declan Rice</b></span><span style=\"font-size: 12px; line-height: 22px;\">  vs Tottenham</span><br><span style=\"font-size: 15px; line-height: 18px;\">Shot - Blocked</span><br><span style=\"font-size: 15px; line-height: 18px;\">Shot xG - 0.05</span><br><span style=\"font-size: 15px; line-height: 18px;\">Game time - 15'<span style=\"font-size: 12px; line-height: 22px;\">  Period/Half: 1</span>",
          "<span style=\"font-size: 20px; line-height: 30px;\"><b>Gabriel Martinelli</b></span><span style=\"font-size: 12px; line-height: 22px;\">  vs Tottenham</span><br><span style=\"font-size: 15px; line-height: 18px;\">Shot - Blocked</span><br><span style=\"font-size: 15px; line-height: 18px;\">Shot xG - 0.01</span><br><span style=\"font-size: 15px; line-height: 18px;\">Game time - 38'<span style=\"font-size: 12px; line-height: 22px;\">  Period/Half: 2</span>",
          "<span style=\"font-size: 20px; line-height: 30px;\"><b>Bukayo Saka</b></span><span style=\"font-size: 12px; line-height: 22px;\">  vs Wolves</span><br><span style=\"font-size: 15px; line-height: 18px;\">Shot - Blocked</span><br><span style=\"font-size: 15px; line-height: 18px;\">Shot xG - 0.02</span><br><span style=\"font-size: 15px; line-height: 18px;\">Game time - 48'<span style=\"font-size: 12px; line-height: 22px;\">  Period/Half: 2</span>",
          "<span style=\"font-size: 20px; line-height: 30px;\"><b>Declan Rice</b></span><span style=\"font-size: 12px; line-height: 22px;\">  vs Wolves</span><br><span style=\"font-size: 15px; line-height: 18px;\">Shot - Blocked</span><br><span style=\"font-size: 15px; line-height: 18px;\">Shot xG - 0.01</span><br><span style=\"font-size: 15px; line-height: 18px;\">Game time - 10'<span style=\"font-size: 12px; line-height: 22px;\">  Period/Half: 2</span>",
          "<span style=\"font-size: 20px; line-height: 30px;\"><b>Bukayo Saka</b></span><span style=\"font-size: 12px; line-height: 22px;\">  vs Wolves</span><br><span style=\"font-size: 15px; line-height: 18px;\">Shot - Blocked</span><br><span style=\"font-size: 15px; line-height: 18px;\">Shot xG - 0.08</span><br><span style=\"font-size: 15px; line-height: 18px;\">Game time - 26'<span style=\"font-size: 12px; line-height: 22px;\">  Period/Half: 1</span>",
          "<span style=\"font-size: 20px; line-height: 30px;\"><b>Martin Ødegaard</b></span><span style=\"font-size: 12px; line-height: 22px;\">  vs Wolves</span><br><span style=\"font-size: 15px; line-height: 18px;\">Shot - Blocked</span><br><span style=\"font-size: 15px; line-height: 18px;\">Shot xG - 0.02</span><br><span style=\"font-size: 15px; line-height: 18px;\">Game time - 8'<span style=\"font-size: 12px; line-height: 22px;\">  Period/Half: 2</span>",
          "<span style=\"font-size: 20px; line-height: 30px;\"><b>Kai Havertz</b></span><span style=\"font-size: 12px; line-height: 22px;\">  vs Wolves</span><br><span style=\"font-size: 15px; line-height: 18px;\">Shot - Blocked</span><br><span style=\"font-size: 15px; line-height: 18px;\">Shot xG - 0.03</span><br><span style=\"font-size: 15px; line-height: 18px;\">Game time - 11'<span style=\"font-size: 12px; line-height: 22px;\">  Period/Half: 2</span>",
          "<span style=\"font-size: 20px; line-height: 30px;\"><b>Kai Havertz</b></span><span style=\"font-size: 12px; line-height: 22px;\">  vs Wolves</span><br><span style=\"font-size: 15px; line-height: 18px;\">Shot - Blocked</span><br><span style=\"font-size: 15px; line-height: 18px;\">Shot xG - 0.01</span><br><span style=\"font-size: 15px; line-height: 18px;\">Game time - 16'<span style=\"font-size: 12px; line-height: 22px;\">  Period/Half: 2</span>",
          "<span style=\"font-size: 20px; line-height: 30px;\"><b>Gabriel Jesus</b></span><span style=\"font-size: 12px; line-height: 22px;\">  vs Wolves</span><br><span style=\"font-size: 15px; line-height: 18px;\">Shot - Blocked</span><br><span style=\"font-size: 15px; line-height: 18px;\">Shot xG - 0.02</span><br><span style=\"font-size: 15px; line-height: 18px;\">Game time - 14'<span style=\"font-size: 12px; line-height: 22px;\">  Period/Half: 2</span>",
          "<span style=\"font-size: 20px; line-height: 30px;\"><b>Martin Ødegaard</b></span><span style=\"font-size: 12px; line-height: 22px;\">  vs Wolves</span><br><span style=\"font-size: 15px; line-height: 18px;\">Shot - Blocked</span><br><span style=\"font-size: 15px; line-height: 18px;\">Shot xG - 0.07</span><br><span style=\"font-size: 15px; line-height: 18px;\">Game time - 5'<span style=\"font-size: 12px; line-height: 22px;\">  Period/Half: 2</span>",
          "<span style=\"font-size: 20px; line-height: 30px;\"><b>Kai Havertz</b></span><span style=\"font-size: 12px; line-height: 22px;\">  vs Wolves</span><br><span style=\"font-size: 15px; line-height: 18px;\">Shot - Blocked</span><br><span style=\"font-size: 15px; line-height: 18px;\">Shot xG - 0.06</span><br><span style=\"font-size: 15px; line-height: 18px;\">Game time - 32'<span style=\"font-size: 12px; line-height: 22px;\">  Period/Half: 2</span>"
         ],
         "type": "scatter",
         "x": [
          19.683279999999993,
          29.704949999999997,
          27.004499999999993,
          27.964659999999995,
          33.30555,
          35.22586999999999,
          28.44474,
          29.16486,
          34.145689999999995,
          36.486079999999994,
          30.665109999999995,
          23.583930000000002,
          28.324719999999996,
          41.22687,
          29.34489,
          20.943490000000004,
          34.98583,
          38.766459999999995,
          29.94499,
          24.004,
          35.10585,
          21.12352,
          40.50675,
          23.64394,
          40.38672999999999,
          22.983829999999998,
          38.52642,
          20.523420000000005,
          36.36606,
          39.48658,
          27.72462,
          27.964659999999995,
          18.783129999999996,
          28.324719999999996,
          27.244539999999997
         ],
         "y": [
          94.22500000000001,
          82.885,
          79,
          95.90499999999999,
          91.39,
          101.47000000000001,
          92.965,
          94.85499999999999,
          96.01,
          94.75,
          87.08500000000001,
          81.31,
          100.52499999999999,
          86.455,
          90.02499999999999,
          92.44,
          85.19500000000001,
          96.22,
          91.705,
          94.22500000000001,
          95.58999999999999,
          92.44,
          92.335,
          79.10499999999999,
          96.22,
          87.82000000000001,
          78.16,
          83.83,
          96.115,
          93.91,
          84.25,
          91.285,
          93.07000000000001,
          82.15,
          96.63999999999999
         ]
        },
        {
         "hoverinfo": "text",
         "marker": {
          "color": "forestgreen",
          "opacity": [
           0.8,
           0.8,
           0.8,
           0.8,
           0.8,
           0.8,
           0.8,
           0.8,
           0.8,
           0.8
          ],
          "size": [
           20.192307692307693,
           11.153846153846153,
           19.423076923076923,
           25,
           12.115384615384615,
           12.307692307692308,
           17.692307692307693,
           12.692307692307692,
           11.153846153846153,
           10.576923076923077
          ],
          "symbol": "circle"
         },
         "mode": "markers",
         "name": "Goal",
         "text": [
          "<span style=\"font-size: 20px; line-height: 30px;\"><b>Kai Havertz</b></span><span style=\"font-size: 12px; line-height: 22px;\">  vs Everton</span><br><span style=\"font-size: 15px; line-height: 18px;\">Shot - Goal</span><br><span style=\"font-size: 15px; line-height: 18px;\">Shot xG - 0.54</span><br><span style=\"font-size: 15px; line-height: 18px;\">Game time - 44'<span style=\"font-size: 12px; line-height: 22px;\">  Period/Half: 2</span>",
          "<span style=\"font-size: 20px; line-height: 30px;\"><b>Takehiro Tomiyasu</b></span><span style=\"font-size: 12px; line-height: 22px;\">  vs Everton</span><br><span style=\"font-size: 15px; line-height: 18px;\">Shot - Goal</span><br><span style=\"font-size: 15px; line-height: 18px;\">Shot xG - 0.07</span><br><span style=\"font-size: 15px; line-height: 18px;\">Game time - 43'<span style=\"font-size: 12px; line-height: 22px;\">  Period/Half: 1</span>",
          "<span style=\"font-size: 20px; line-height: 30px;\"><b>Leandro Trossard</b></span><span style=\"font-size: 12px; line-height: 22px;\">  vs Manchester Utd</span><br><span style=\"font-size: 15px; line-height: 18px;\">Shot - Goal</span><br><span style=\"font-size: 15px; line-height: 18px;\">Shot xG - 0.5</span><br><span style=\"font-size: 15px; line-height: 18px;\">Game time - 21'<span style=\"font-size: 12px; line-height: 22px;\">  Period/Half: 1</span>",
          "<span style=\"font-size: 20px; line-height: 30px;\"><b>Bukayo Saka</b></span><span style=\"font-size: 12px; line-height: 22px;\">  vs Bournemouth</span><br><span style=\"font-size: 15px; line-height: 18px;\">Shot - Goal</span><br><span style=\"font-size: 15px; line-height: 18px;\">Shot xG - 0.79</span><br><span style=\"font-size: 15px; line-height: 18px;\">Game time - 45'<span style=\"font-size: 12px; line-height: 22px;\">  Period/Half: 1</span>",
          "<span style=\"font-size: 20px; line-height: 30px;\"><b>Declan Rice</b></span><span style=\"font-size: 12px; line-height: 22px;\">  vs Bournemouth</span><br><span style=\"font-size: 15px; line-height: 18px;\">Shot - Goal</span><br><span style=\"font-size: 15px; line-height: 18px;\">Shot xG - 0.12</span><br><span style=\"font-size: 15px; line-height: 18px;\">Game time - 52'<span style=\"font-size: 12px; line-height: 22px;\">  Period/Half: 2</span>",
          "<span style=\"font-size: 20px; line-height: 30px;\"><b>Leandro Trossard</b></span><span style=\"font-size: 12px; line-height: 22px;\">  vs Bournemouth</span><br><span style=\"font-size: 15px; line-height: 18px;\">Shot - Goal</span><br><span style=\"font-size: 15px; line-height: 18px;\">Shot xG - 0.13</span><br><span style=\"font-size: 15px; line-height: 18px;\">Game time - 25'<span style=\"font-size: 12px; line-height: 22px;\">  Period/Half: 2</span>",
          "<span style=\"font-size: 20px; line-height: 30px;\"><b>Kai Havertz</b></span><span style=\"font-size: 12px; line-height: 22px;\">  vs Tottenham</span><br><span style=\"font-size: 15px; line-height: 18px;\">Shot - Goal</span><br><span style=\"font-size: 15px; line-height: 18px;\">Shot xG - 0.41</span><br><span style=\"font-size: 15px; line-height: 18px;\">Game time - 38'<span style=\"font-size: 12px; line-height: 22px;\">  Period/Half: 1</span>",
          "<span style=\"font-size: 20px; line-height: 30px;\"><b>Bukayo Saka</b></span><span style=\"font-size: 12px; line-height: 22px;\">  vs Tottenham</span><br><span style=\"font-size: 15px; line-height: 18px;\">Shot - Goal</span><br><span style=\"font-size: 15px; line-height: 18px;\">Shot xG - 0.15</span><br><span style=\"font-size: 15px; line-height: 18px;\">Game time - 27'<span style=\"font-size: 12px; line-height: 22px;\">  Period/Half: 1</span>",
          "<span style=\"font-size: 20px; line-height: 30px;\"><b>Leandro Trossard</b></span><span style=\"font-size: 12px; line-height: 22px;\">  vs Wolves</span><br><span style=\"font-size: 15px; line-height: 18px;\">Shot - Goal</span><br><span style=\"font-size: 15px; line-height: 18px;\">Shot xG - 0.07</span><br><span style=\"font-size: 15px; line-height: 18px;\">Game time - 45'<span style=\"font-size: 12px; line-height: 22px;\">  Period/Half: 1</span>",
          "<span style=\"font-size: 20px; line-height: 30px;\"><b>Martin Ødegaard</b></span><span style=\"font-size: 12px; line-height: 22px;\">  vs Wolves</span><br><span style=\"font-size: 15px; line-height: 18px;\">Shot - Goal</span><br><span style=\"font-size: 15px; line-height: 18px;\">Shot xG - 0.04</span><br><span style=\"font-size: 15px; line-height: 18px;\">Game time - 50'<span style=\"font-size: 12px; line-height: 22px;\">  Period/Half: 2</span>"
         ],
         "type": "scatter",
         "x": [
          29.464909999999996,
          28.44474,
          30.54509,
          30.005,
          39.246539999999996,
          23.34389,
          28.144689999999994,
          34.62577,
          24.544090000000004,
          39.12652
         ],
         "y": [
          101.365,
          90.34,
          102.52000000000001,
          93.175,
          99.89500000000001,
          92.125,
          101.26,
          93.80499999999999,
          89.185,
          103.78
         ]
        },
        {
         "hoverinfo": "text",
         "marker": {
          "color": "red",
          "opacity": [
           0.5,
           0.5,
           0.5,
           0.5,
           0.5,
           0.5,
           0.5,
           0.5,
           0.5,
           0.5,
           0.5,
           0.5,
           0.5,
           0.5,
           0.5,
           0.5,
           0.5,
           0.5,
           0.5,
           0.5,
           0.5,
           0.5,
           0.5,
           0.5,
           0.5,
           0.5,
           0.5
          ],
          "size": [
           10.769230769230768,
           11.730769230769232,
           10.576923076923077,
           10.192307692307692,
           11.346153846153847,
           14.615384615384615,
           12.115384615384615,
           10.384615384615385,
           14.423076923076923,
           13.076923076923077,
           10.384615384615385,
           10.576923076923077,
           10.769230769230768,
           12.884615384615383,
           10.961538461538463,
           18.653846153846153,
           12.307692307692308,
           11.153846153846153,
           12.115384615384615,
           12.692307692307692,
           10.384615384615385,
           11.153846153846153,
           10.384615384615385,
           10.384615384615385,
           10.192307692307692,
           10.576923076923077,
           11.346153846153847
          ],
          "symbol": "x"
         },
         "mode": "markers",
         "name": "Off Target",
         "text": [
          "<span style=\"font-size: 20px; line-height: 30px;\"><b>Thomas Partey</b></span><span style=\"font-size: 12px; line-height: 22px;\">  vs Everton</span><br><span style=\"font-size: 15px; line-height: 18px;\">Shot - Off Target</span><br><span style=\"font-size: 15px; line-height: 18px;\">Shot xG - 0.05</span><br><span style=\"font-size: 15px; line-height: 18px;\">Game time - 51'<span style=\"font-size: 12px; line-height: 22px;\">  Period/Half: 1</span>",
          "<span style=\"font-size: 20px; line-height: 30px;\"><b>Martin Ødegaard</b></span><span style=\"font-size: 12px; line-height: 22px;\">  vs Everton</span><br><span style=\"font-size: 15px; line-height: 18px;\">Shot - Off Target</span><br><span style=\"font-size: 15px; line-height: 18px;\">Shot xG - 0.1</span><br><span style=\"font-size: 15px; line-height: 18px;\">Game time - 44'<span style=\"font-size: 12px; line-height: 22px;\">  Period/Half: 2</span>",
          "<span style=\"font-size: 20px; line-height: 30px;\"><b>Declan Rice</b></span><span style=\"font-size: 12px; line-height: 22px;\">  vs Everton</span><br><span style=\"font-size: 15px; line-height: 18px;\">Shot - Off Target</span><br><span style=\"font-size: 15px; line-height: 18px;\">Shot xG - 0.04</span><br><span style=\"font-size: 15px; line-height: 18px;\">Game time - 20'<span style=\"font-size: 12px; line-height: 22px;\">  Period/Half: 2</span>",
          "<span style=\"font-size: 20px; line-height: 30px;\"><b>Kai Havertz</b></span><span style=\"font-size: 12px; line-height: 22px;\">  vs Everton</span><br><span style=\"font-size: 15px; line-height: 18px;\">Shot - Off Target</span><br><span style=\"font-size: 15px; line-height: 18px;\">Shot xG - 0.02</span><br><span style=\"font-size: 15px; line-height: 18px;\">Game time - 1'<span style=\"font-size: 12px; line-height: 22px;\">  Period/Half: 1</span>",
          "<span style=\"font-size: 20px; line-height: 30px;\"><b>Kai Havertz</b></span><span style=\"font-size: 12px; line-height: 22px;\">  vs Everton</span><br><span style=\"font-size: 15px; line-height: 18px;\">Shot - Off Target</span><br><span style=\"font-size: 15px; line-height: 18px;\">Shot xG - 0.08</span><br><span style=\"font-size: 15px; line-height: 18px;\">Game time - 2'<span style=\"font-size: 12px; line-height: 22px;\">  Period/Half: 2</span>",
          "<span style=\"font-size: 20px; line-height: 30px;\"><b>Kai Havertz</b></span><span style=\"font-size: 12px; line-height: 22px;\">  vs Everton</span><br><span style=\"font-size: 15px; line-height: 18px;\">Shot - Off Target</span><br><span style=\"font-size: 15px; line-height: 18px;\">Shot xG - 0.25</span><br><span style=\"font-size: 15px; line-height: 18px;\">Game time - 42'<span style=\"font-size: 12px; line-height: 22px;\">  Period/Half: 2</span>",
          "<span style=\"font-size: 20px; line-height: 30px;\"><b>Gabriel Martinelli</b></span><span style=\"font-size: 12px; line-height: 22px;\">  vs Everton</span><br><span style=\"font-size: 15px; line-height: 18px;\">Shot - Off Target</span><br><span style=\"font-size: 15px; line-height: 18px;\">Shot xG - 0.12</span><br><span style=\"font-size: 15px; line-height: 18px;\">Game time - 52'<span style=\"font-size: 12px; line-height: 22px;\">  Period/Half: 2</span>",
          "<span style=\"font-size: 20px; line-height: 30px;\"><b>Emile Smith Rowe</b></span><span style=\"font-size: 12px; line-height: 22px;\">  vs Everton</span><br><span style=\"font-size: 15px; line-height: 18px;\">Shot - Off Target</span><br><span style=\"font-size: 15px; line-height: 18px;\">Shot xG - 0.03</span><br><span style=\"font-size: 15px; line-height: 18px;\">Game time - 29'<span style=\"font-size: 12px; line-height: 22px;\">  Period/Half: 2</span>",
          "<span style=\"font-size: 20px; line-height: 30px;\"><b>Takehiro Tomiyasu</b></span><span style=\"font-size: 12px; line-height: 22px;\">  vs Everton</span><br><span style=\"font-size: 15px; line-height: 18px;\">Shot - Off Target</span><br><span style=\"font-size: 15px; line-height: 18px;\">Shot xG - 0.24</span><br><span style=\"font-size: 15px; line-height: 18px;\">Game time - 6'<span style=\"font-size: 12px; line-height: 22px;\">  Period/Half: 1</span>",
          "<span style=\"font-size: 20px; line-height: 30px;\"><b>Gabriel Magalhães</b></span><span style=\"font-size: 12px; line-height: 22px;\">  vs Manchester Utd</span><br><span style=\"font-size: 15px; line-height: 18px;\">Shot - Off Target</span><br><span style=\"font-size: 15px; line-height: 18px;\">Shot xG - 0.17</span><br><span style=\"font-size: 15px; line-height: 18px;\">Game time - 9'<span style=\"font-size: 12px; line-height: 22px;\">  Period/Half: 1</span>",
          "<span style=\"font-size: 20px; line-height: 30px;\"><b>Ben White</b></span><span style=\"font-size: 12px; line-height: 22px;\">  vs Manchester Utd</span><br><span style=\"font-size: 15px; line-height: 18px;\">Shot - Off Target</span><br><span style=\"font-size: 15px; line-height: 18px;\">Shot xG - 0.03</span><br><span style=\"font-size: 15px; line-height: 18px;\">Game time - 28'<span style=\"font-size: 12px; line-height: 22px;\">  Period/Half: 1</span>",
          "<span style=\"font-size: 20px; line-height: 30px;\"><b>William Saliba</b></span><span style=\"font-size: 12px; line-height: 22px;\">  vs Manchester Utd</span><br><span style=\"font-size: 15px; line-height: 18px;\">Shot - Off Target</span><br><span style=\"font-size: 15px; line-height: 18px;\">Shot xG - 0.04</span><br><span style=\"font-size: 15px; line-height: 18px;\">Game time - 12'<span style=\"font-size: 12px; line-height: 22px;\">  Period/Half: 2</span>",
          "<span style=\"font-size: 20px; line-height: 30px;\"><b>Martin Ødegaard</b></span><span style=\"font-size: 12px; line-height: 22px;\">  vs Bournemouth</span><br><span style=\"font-size: 15px; line-height: 18px;\">Shot - Off Target</span><br><span style=\"font-size: 15px; line-height: 18px;\">Shot xG - 0.05</span><br><span style=\"font-size: 15px; line-height: 18px;\">Game time - 13'<span style=\"font-size: 12px; line-height: 22px;\">  Period/Half: 2</span>",
          "<span style=\"font-size: 20px; line-height: 30px;\"><b>Takehiro Tomiyasu</b></span><span style=\"font-size: 12px; line-height: 22px;\">  vs Bournemouth</span><br><span style=\"font-size: 15px; line-height: 18px;\">Shot - Off Target</span><br><span style=\"font-size: 15px; line-height: 18px;\">Shot xG - 0.16</span><br><span style=\"font-size: 15px; line-height: 18px;\">Game time - 20'<span style=\"font-size: 12px; line-height: 22px;\">  Period/Half: 1</span>",
          "<span style=\"font-size: 20px; line-height: 30px;\"><b>Thomas Partey</b></span><span style=\"font-size: 12px; line-height: 22px;\">  vs Bournemouth</span><br><span style=\"font-size: 15px; line-height: 18px;\">Shot - Off Target</span><br><span style=\"font-size: 15px; line-height: 18px;\">Shot xG - 0.06</span><br><span style=\"font-size: 15px; line-height: 18px;\">Game time - 23'<span style=\"font-size: 12px; line-height: 22px;\">  Period/Half: 1</span>",
          "<span style=\"font-size: 20px; line-height: 30px;\"><b>Martin Ødegaard</b></span><span style=\"font-size: 12px; line-height: 22px;\">  vs Bournemouth</span><br><span style=\"font-size: 15px; line-height: 18px;\">Shot - Off Target</span><br><span style=\"font-size: 15px; line-height: 18px;\">Shot xG - 0.46</span><br><span style=\"font-size: 15px; line-height: 18px;\">Game time - 32'<span style=\"font-size: 12px; line-height: 22px;\">  Period/Half: 2</span>",
          "<span style=\"font-size: 20px; line-height: 30px;\"><b>Gabriel Magalhães</b></span><span style=\"font-size: 12px; line-height: 22px;\">  vs Bournemouth</span><br><span style=\"font-size: 15px; line-height: 18px;\">Shot - Off Target</span><br><span style=\"font-size: 15px; line-height: 18px;\">Shot xG - 0.13</span><br><span style=\"font-size: 15px; line-height: 18px;\">Game time - 13'<span style=\"font-size: 12px; line-height: 22px;\">  Period/Half: 2</span>",
          "<span style=\"font-size: 20px; line-height: 30px;\"><b>Ben White</b></span><span style=\"font-size: 12px; line-height: 22px;\">  vs Bournemouth</span><br><span style=\"font-size: 15px; line-height: 18px;\">Shot - Off Target</span><br><span style=\"font-size: 15px; line-height: 18px;\">Shot xG - 0.07</span><br><span style=\"font-size: 15px; line-height: 18px;\">Game time - 13'<span style=\"font-size: 12px; line-height: 22px;\">  Period/Half: 2</span>",
          "<span style=\"font-size: 20px; line-height: 30px;\"><b>Leandro Trossard</b></span><span style=\"font-size: 12px; line-height: 22px;\">  vs Bournemouth</span><br><span style=\"font-size: 15px; line-height: 18px;\">Shot - Off Target</span><br><span style=\"font-size: 15px; line-height: 18px;\">Shot xG - 0.12</span><br><span style=\"font-size: 15px; line-height: 18px;\">Game time - 18'<span style=\"font-size: 12px; line-height: 22px;\">  Period/Half: 1</span>",
          "<span style=\"font-size: 20px; line-height: 30px;\"><b>Declan Rice</b></span><span style=\"font-size: 12px; line-height: 22px;\">  vs Bournemouth</span><br><span style=\"font-size: 15px; line-height: 18px;\">Shot - Off Target</span><br><span style=\"font-size: 15px; line-height: 18px;\">Shot xG - 0.15</span><br><span style=\"font-size: 15px; line-height: 18px;\">Game time - 38'<span style=\"font-size: 12px; line-height: 22px;\">  Period/Half: 1</span>",
          "<span style=\"font-size: 20px; line-height: 30px;\"><b>Takehiro Tomiyasu</b></span><span style=\"font-size: 12px; line-height: 22px;\">  vs Tottenham</span><br><span style=\"font-size: 15px; line-height: 18px;\">Shot - Off Target</span><br><span style=\"font-size: 15px; line-height: 18px;\">Shot xG - 0.03</span><br><span style=\"font-size: 15px; line-height: 18px;\">Game time - 3'<span style=\"font-size: 12px; line-height: 22px;\">  Period/Half: 2</span>",
          "<span style=\"font-size: 20px; line-height: 30px;\"><b>Bukayo Saka</b></span><span style=\"font-size: 12px; line-height: 22px;\">  vs Wolves</span><br><span style=\"font-size: 15px; line-height: 18px;\">Shot - Off Target</span><br><span style=\"font-size: 15px; line-height: 18px;\">Shot xG - 0.07</span><br><span style=\"font-size: 15px; line-height: 18px;\">Game time - 47'<span style=\"font-size: 12px; line-height: 22px;\">  Period/Half: 2</span>",
          "<span style=\"font-size: 20px; line-height: 30px;\"><b>Martin Ødegaard</b></span><span style=\"font-size: 12px; line-height: 22px;\">  vs Wolves</span><br><span style=\"font-size: 15px; line-height: 18px;\">Shot - Off Target</span><br><span style=\"font-size: 15px; line-height: 18px;\">Shot xG - 0.03</span><br><span style=\"font-size: 15px; line-height: 18px;\">Game time - 16'<span style=\"font-size: 12px; line-height: 22px;\">  Period/Half: 1</span>",
          "<span style=\"font-size: 20px; line-height: 30px;\"><b>Gabriel Jesus</b></span><span style=\"font-size: 12px; line-height: 22px;\">  vs Wolves</span><br><span style=\"font-size: 15px; line-height: 18px;\">Shot - Off Target</span><br><span style=\"font-size: 15px; line-height: 18px;\">Shot xG - 0.03</span><br><span style=\"font-size: 15px; line-height: 18px;\">Game time - 5'<span style=\"font-size: 12px; line-height: 22px;\">  Period/Half: 1</span>",
          "<span style=\"font-size: 20px; line-height: 30px;\"><b>Martin Ødegaard</b></span><span style=\"font-size: 12px; line-height: 22px;\">  vs Wolves</span><br><span style=\"font-size: 15px; line-height: 18px;\">Shot - Off Target</span><br><span style=\"font-size: 15px; line-height: 18px;\">Shot xG - 0.02</span><br><span style=\"font-size: 15px; line-height: 18px;\">Game time - 17'<span style=\"font-size: 12px; line-height: 22px;\">  Period/Half: 2</span>",
          "<span style=\"font-size: 20px; line-height: 30px;\"><b>Ben White</b></span><span style=\"font-size: 12px; line-height: 22px;\">  vs Wolves</span><br><span style=\"font-size: 15px; line-height: 18px;\">Shot - Off Target</span><br><span style=\"font-size: 15px; line-height: 18px;\">Shot xG - 0.04</span><br><span style=\"font-size: 15px; line-height: 18px;\">Game time - 11'<span style=\"font-size: 12px; line-height: 22px;\">  Period/Half: 2</span>",
          "<span style=\"font-size: 20px; line-height: 30px;\"><b>Declan Rice</b></span><span style=\"font-size: 12px; line-height: 22px;\">  vs Wolves</span><br><span style=\"font-size: 15px; line-height: 18px;\">Shot - Off Target</span><br><span style=\"font-size: 15px; line-height: 18px;\">Shot xG - 0.08</span><br><span style=\"font-size: 15px; line-height: 18px;\">Game time - 20'<span style=\"font-size: 12px; line-height: 22px;\">  Period/Half: 1</span>"
         ],
         "type": "scatter",
         "x": [
          34.385729999999995,
          34.085679999999996,
          39.246539999999996,
          46.02766999999999,
          28.744789999999995,
          29.704949999999997,
          33.30555,
          18.663109999999996,
          25.444239999999994,
          31.445239999999995,
          39.726620000000004,
          36.30605,
          37.8063,
          24.664109999999997,
          34.74579,
          34.385729999999995,
          25.8043,
          24.364060000000002,
          27.124520000000004,
          28.324719999999996,
          26.04433999999999,
          38.52642,
          30.065009999999997,
          22.443740000000002,
          39.78663,
          34.74579,
          29.104849999999995
         ],
         "y": [
          84.565,
          94.32999999999998,
          83.41000000000001,
          87.505,
          96.42999999999999,
          97.47999999999999,
          89.815,
          84.565,
          102.31,
          99.78999999999999,
          102.205,
          100.83999999999999,
          85.615,
          102.1,
          92.755,
          98.53,
          102.1,
          101.995,
          88.87,
          94.22500000000001,
          92.335,
          101.155,
          81.52,
          82.15,
          80.89,
          78.58,
          85.08999999999999
         ]
        },
        {
         "hoverinfo": "text",
         "marker": {
          "color": "red",
          "opacity": [
           0.6,
           0.6,
           0.6,
           0.6,
           0.6,
           0.6,
           0.6,
           0.6,
           0.6,
           0.6,
           0.6,
           0.6,
           0.6,
           0.6,
           0.6,
           0.6,
           0.6,
           0.6,
           0.6,
           0.6,
           0.6
          ],
          "size": [
           14.423076923076923,
           12.5,
           11.346153846153847,
           13.269230769230768,
           11.346153846153847,
           10.961538461538463,
           10.384615384615385,
           11.730769230769232,
           10.961538461538463,
           10.384615384615385,
           10.576923076923077,
           14.807692307692308,
           11.538461538461537,
           13.653846153846153,
           10.961538461538463,
           11.538461538461537,
           11.346153846153847,
           11.346153846153847,
           11.346153846153847,
           10.769230769230768,
           10.384615384615385
          ],
          "symbol": "circle"
         },
         "mode": "markers",
         "name": "Saved",
         "text": [
          "<span style=\"font-size: 20px; line-height: 30px;\"><b>Martin Ødegaard</b></span><span style=\"font-size: 12px; line-height: 22px;\">  vs Everton</span><br><span style=\"font-size: 15px; line-height: 18px;\">Shot - Saved</span><br><span style=\"font-size: 15px; line-height: 18px;\">Shot xG - 0.24</span><br><span style=\"font-size: 15px; line-height: 18px;\">Game time - 27'<span style=\"font-size: 12px; line-height: 22px;\">  Period/Half: 2</span>",
          "<span style=\"font-size: 20px; line-height: 30px;\"><b>Declan Rice</b></span><span style=\"font-size: 12px; line-height: 22px;\">  vs Everton</span><br><span style=\"font-size: 15px; line-height: 18px;\">Shot - Saved</span><br><span style=\"font-size: 15px; line-height: 18px;\">Shot xG - 0.14</span><br><span style=\"font-size: 15px; line-height: 18px;\">Game time - 12'<span style=\"font-size: 12px; line-height: 22px;\">  Period/Half: 1</span>",
          "<span style=\"font-size: 20px; line-height: 30px;\"><b>Gabriel Martinelli</b></span><span style=\"font-size: 12px; line-height: 22px;\">  vs Everton</span><br><span style=\"font-size: 15px; line-height: 18px;\">Shot - Saved</span><br><span style=\"font-size: 15px; line-height: 18px;\">Shot xG - 0.08</span><br><span style=\"font-size: 15px; line-height: 18px;\">Game time - 16'<span style=\"font-size: 12px; line-height: 22px;\">  Period/Half: 1</span>",
          "<span style=\"font-size: 20px; line-height: 30px;\"><b>Gabriel Martinelli</b></span><span style=\"font-size: 12px; line-height: 22px;\">  vs Manchester Utd</span><br><span style=\"font-size: 15px; line-height: 18px;\">Shot - Saved</span><br><span style=\"font-size: 15px; line-height: 18px;\">Shot xG - 0.18</span><br><span style=\"font-size: 15px; line-height: 18px;\">Game time - 34'<span style=\"font-size: 12px; line-height: 22px;\">  Period/Half: 2</span>",
          "<span style=\"font-size: 20px; line-height: 30px;\"><b>Martin Ødegaard</b></span><span style=\"font-size: 12px; line-height: 22px;\">  vs Manchester Utd</span><br><span style=\"font-size: 15px; line-height: 18px;\">Shot - Saved</span><br><span style=\"font-size: 15px; line-height: 18px;\">Shot xG - 0.08</span><br><span style=\"font-size: 15px; line-height: 18px;\">Game time - 20'<span style=\"font-size: 12px; line-height: 22px;\">  Period/Half: 2</span>",
          "<span style=\"font-size: 20px; line-height: 30px;\"><b>Bukayo Saka</b></span><span style=\"font-size: 12px; line-height: 22px;\">  vs Manchester Utd</span><br><span style=\"font-size: 15px; line-height: 18px;\">Shot - Saved</span><br><span style=\"font-size: 15px; line-height: 18px;\">Shot xG - 0.06</span><br><span style=\"font-size: 15px; line-height: 18px;\">Game time - 4'<span style=\"font-size: 12px; line-height: 22px;\">  Period/Half: 1</span>",
          "<span style=\"font-size: 20px; line-height: 30px;\"><b>Declan Rice</b></span><span style=\"font-size: 12px; line-height: 22px;\">  vs Manchester Utd</span><br><span style=\"font-size: 15px; line-height: 18px;\">Shot - Saved</span><br><span style=\"font-size: 15px; line-height: 18px;\">Shot xG - 0.03</span><br><span style=\"font-size: 15px; line-height: 18px;\">Game time - 38'<span style=\"font-size: 12px; line-height: 22px;\">  Period/Half: 2</span>",
          "<span style=\"font-size: 20px; line-height: 30px;\"><b>Kai Havertz</b></span><span style=\"font-size: 12px; line-height: 22px;\">  vs Bournemouth</span><br><span style=\"font-size: 15px; line-height: 18px;\">Shot - Saved</span><br><span style=\"font-size: 15px; line-height: 18px;\">Shot xG - 0.1</span><br><span style=\"font-size: 15px; line-height: 18px;\">Game time - 7'<span style=\"font-size: 12px; line-height: 22px;\">  Period/Half: 2</span>",
          "<span style=\"font-size: 20px; line-height: 30px;\"><b>William Saliba</b></span><span style=\"font-size: 12px; line-height: 22px;\">  vs Bournemouth</span><br><span style=\"font-size: 15px; line-height: 18px;\">Shot - Saved</span><br><span style=\"font-size: 15px; line-height: 18px;\">Shot xG - 0.06</span><br><span style=\"font-size: 15px; line-height: 18px;\">Game time - 18'<span style=\"font-size: 12px; line-height: 22px;\">  Period/Half: 1</span>",
          "<span style=\"font-size: 20px; line-height: 30px;\"><b>Bukayo Saka</b></span><span style=\"font-size: 12px; line-height: 22px;\">  vs Bournemouth</span><br><span style=\"font-size: 15px; line-height: 18px;\">Shot - Saved</span><br><span style=\"font-size: 15px; line-height: 18px;\">Shot xG - 0.03</span><br><span style=\"font-size: 15px; line-height: 18px;\">Game time - 20'<span style=\"font-size: 12px; line-height: 22px;\">  Period/Half: 1</span>",
          "<span style=\"font-size: 20px; line-height: 30px;\"><b>Kai Havertz</b></span><span style=\"font-size: 12px; line-height: 22px;\">  vs Bournemouth</span><br><span style=\"font-size: 15px; line-height: 18px;\">Shot - Saved</span><br><span style=\"font-size: 15px; line-height: 18px;\">Shot xG - 0.04</span><br><span style=\"font-size: 15px; line-height: 18px;\">Game time - 14'<span style=\"font-size: 12px; line-height: 22px;\">  Period/Half: 1</span>",
          "<span style=\"font-size: 20px; line-height: 30px;\"><b>Bukayo Saka</b></span><span style=\"font-size: 12px; line-height: 22px;\">  vs Bournemouth</span><br><span style=\"font-size: 15px; line-height: 18px;\">Shot - Saved</span><br><span style=\"font-size: 15px; line-height: 18px;\">Shot xG - 0.26</span><br><span style=\"font-size: 15px; line-height: 18px;\">Game time - 4'<span style=\"font-size: 12px; line-height: 22px;\">  Period/Half: 2</span>",
          "<span style=\"font-size: 20px; line-height: 30px;\"><b>Thomas Partey</b></span><span style=\"font-size: 12px; line-height: 22px;\">  vs Bournemouth</span><br><span style=\"font-size: 15px; line-height: 18px;\">Shot - Saved</span><br><span style=\"font-size: 15px; line-height: 18px;\">Shot xG - 0.09</span><br><span style=\"font-size: 15px; line-height: 18px;\">Game time - 27'<span style=\"font-size: 12px; line-height: 22px;\">  Period/Half: 1</span>",
          "<span style=\"font-size: 20px; line-height: 30px;\"><b>Bukayo Saka</b></span><span style=\"font-size: 12px; line-height: 22px;\">  vs Tottenham</span><br><span style=\"font-size: 15px; line-height: 18px;\">Shot - Saved</span><br><span style=\"font-size: 15px; line-height: 18px;\">Shot xG - 0.2</span><br><span style=\"font-size: 15px; line-height: 18px;\">Game time - 8'<span style=\"font-size: 12px; line-height: 22px;\">  Period/Half: 2</span>",
          "<span style=\"font-size: 20px; line-height: 30px;\"><b>Kai Havertz</b></span><span style=\"font-size: 12px; line-height: 22px;\">  vs Wolves</span><br><span style=\"font-size: 15px; line-height: 18px;\">Shot - Saved</span><br><span style=\"font-size: 15px; line-height: 18px;\">Shot xG - 0.06</span><br><span style=\"font-size: 15px; line-height: 18px;\">Game time - 10'<span style=\"font-size: 12px; line-height: 22px;\">  Period/Half: 2</span>",
          "<span style=\"font-size: 20px; line-height: 30px;\"><b>Gabriel Martinelli</b></span><span style=\"font-size: 12px; line-height: 22px;\">  vs Wolves</span><br><span style=\"font-size: 15px; line-height: 18px;\">Shot - Saved</span><br><span style=\"font-size: 15px; line-height: 18px;\">Shot xG - 0.09</span><br><span style=\"font-size: 15px; line-height: 18px;\">Game time - 49'<span style=\"font-size: 12px; line-height: 22px;\">  Period/Half: 2</span>",
          "<span style=\"font-size: 20px; line-height: 30px;\"><b>Bukayo Saka</b></span><span style=\"font-size: 12px; line-height: 22px;\">  vs Wolves</span><br><span style=\"font-size: 15px; line-height: 18px;\">Shot - Saved</span><br><span style=\"font-size: 15px; line-height: 18px;\">Shot xG - 0.08</span><br><span style=\"font-size: 15px; line-height: 18px;\">Game time - 10'<span style=\"font-size: 12px; line-height: 22px;\">  Period/Half: 1</span>",
          "<span style=\"font-size: 20px; line-height: 30px;\"><b>Gabriel Martinelli</b></span><span style=\"font-size: 12px; line-height: 22px;\">  vs Wolves</span><br><span style=\"font-size: 15px; line-height: 18px;\">Shot - Saved</span><br><span style=\"font-size: 15px; line-height: 18px;\">Shot xG - 0.08</span><br><span style=\"font-size: 15px; line-height: 18px;\">Game time - 52'<span style=\"font-size: 12px; line-height: 22px;\">  Period/Half: 2</span>",
          "<span style=\"font-size: 20px; line-height: 30px;\"><b>Kai Havertz</b></span><span style=\"font-size: 12px; line-height: 22px;\">  vs Wolves</span><br><span style=\"font-size: 15px; line-height: 18px;\">Shot - Saved</span><br><span style=\"font-size: 15px; line-height: 18px;\">Shot xG - 0.08</span><br><span style=\"font-size: 15px; line-height: 18px;\">Game time - 1'<span style=\"font-size: 12px; line-height: 22px;\">  Period/Half: 1</span>",
          "<span style=\"font-size: 20px; line-height: 30px;\"><b>Declan Rice</b></span><span style=\"font-size: 12px; line-height: 22px;\">  vs Wolves</span><br><span style=\"font-size: 15px; line-height: 18px;\">Shot - Saved</span><br><span style=\"font-size: 15px; line-height: 18px;\">Shot xG - 0.05</span><br><span style=\"font-size: 15px; line-height: 18px;\">Game time - 15'<span style=\"font-size: 12px; line-height: 22px;\">  Period/Half: 1</span>",
          "<span style=\"font-size: 20px; line-height: 30px;\"><b>Declan Rice</b></span><span style=\"font-size: 12px; line-height: 22px;\">  vs Wolves</span><br><span style=\"font-size: 15px; line-height: 18px;\">Shot - Saved</span><br><span style=\"font-size: 15px; line-height: 18px;\">Shot xG - 0.03</span><br><span style=\"font-size: 15px; line-height: 18px;\">Game time - 48'<span style=\"font-size: 12px; line-height: 22px;\">  Period/Half: 2</span>"
         ],
         "type": "scatter",
         "x": [
          27.72462,
          31.92532,
          38.766459999999995,
          27.84464,
          32.885479999999994,
          39.12652,
          23.103849999999998,
          24.184030000000003,
          39.60659999999999,
          42.067009999999996,
          18.303050000000002,
          30.185029999999994,
          31.265210000000003,
          34.085679999999996,
          29.16486,
          20.523420000000005,
          34.74579,
          27.244539999999997,
          33.96566,
          27.124520000000004,
          40.92682
         ],
         "y": [
          98.53,
          90.34,
          92.125,
          92.545,
          86.455,
          96.53500000000001,
          80.67999999999999,
          88.135,
          97.58500000000001,
          100.42,
          96.01,
          90.34,
          86.56,
          98.005,
          90.02499999999999,
          102.52000000000001,
          99.16000000000001,
          90.655,
          92.44,
          84.88,
          88.66000000000001
         ]
        },
        {
         "hoverinfo": "text",
         "marker": {
          "color": "purple",
          "opacity": [
           0.7,
           0.7
          ],
          "size": [
           12.307692307692308,
           13.461538461538463
          ],
          "symbol": "hexagon"
         },
         "mode": "markers",
         "name": "Woodwork",
         "text": [
          "<span style=\"font-size: 20px; line-height: 30px;\"><b>Emile Smith Rowe</b></span><span style=\"font-size: 12px; line-height: 22px;\">  vs Everton</span><br><span style=\"font-size: 15px; line-height: 18px;\">Shot - Woodwork</span><br><span style=\"font-size: 15px; line-height: 18px;\">Shot xG - 0.13</span><br><span style=\"font-size: 15px; line-height: 18px;\">Game time - 38'<span style=\"font-size: 12px; line-height: 22px;\">  Period/Half: 2</span>",
          "<span style=\"font-size: 20px; line-height: 30px;\"><b>Kai Havertz</b></span><span style=\"font-size: 12px; line-height: 22px;\">  vs Everton</span><br><span style=\"font-size: 15px; line-height: 18px;\">Shot - Woodwork</span><br><span style=\"font-size: 15px; line-height: 18px;\">Shot xG - 0.19</span><br><span style=\"font-size: 15px; line-height: 18px;\">Game time - 22'<span style=\"font-size: 12px; line-height: 22px;\">  Period/Half: 2</span>"
         ],
         "type": "scatter",
         "x": [
          25.084179999999993,
          27.124520000000004
         ],
         "y": [
          94.435,
          97.27000000000001
         ]
        },
        {
         "domain": {
          "x": [
           0.835,
           1
          ],
          "y": [
           0,
           1
          ]
         },
         "header": {
          "align": [
           "right",
           "left"
          ],
          "fill": {
           "color": "#2B2B2B"
          },
          "font": {
           "color": [
            "grey",
            "white"
           ],
           "size": [
            18,
            28
           ]
          },
          "line": {
           "color": "#2B2B2B"
          },
          "values": [
           [
            "",
            "<b>TOTAL xG</b>",
            "",
            "<b>GOALS</b>",
            "",
            "<b>ATTEMPTS</b>",
            "",
            "<b>W/ FEET</b>",
            "",
            "<b>W/ HEAD</b>",
            "",
            "<b>DIRECT FKs</b>"
           ],
           [
            "",
            "10.1",
            "",
            "10",
            "",
            "95",
            "",
            "78",
            "",
            "17",
            "",
            "1"
           ]
          ]
         },
         "type": "table"
        }
       ],
       "layout": {
        "font": {
         "color": "black",
         "family": "Calibri, sans-serif",
         "size": 12
        },
        "height": 700,
        "images": [
         {
          "layer": "below",
          "opacity": 1,
          "sizex": 60,
          "sizey": 95,
          "source": "https://i.imgur.com/L0GXGh5.png",
          "x": 0,
          "xref": "x",
          "y": 110,
          "yref": "y"
         }
        ],
        "legend": {
         "bgcolor": "#2B2B2B",
         "font": {
          "color": "white",
          "size": 25
         },
         "itemsizing": "constant",
         "orientation": "h",
         "x": 0.45,
         "xanchor": "center",
         "y": -0.03,
         "yanchor": "bottom"
        },
        "margin": {
         "b": 0,
         "l": 0,
         "r": 22,
         "t": 0
        },
        "paper_bgcolor": "#2B2B2B",
        "plot_bgcolor": "#2B2B2B",
        "template": {
         "data": {
          "candlestick": [
           {
            "decreasing": {
             "line": {
              "color": "#000033"
             }
            },
            "increasing": {
             "line": {
              "color": "#000032"
             }
            },
            "type": "candlestick"
           }
          ],
          "contour": [
           {
            "colorscale": [
             [
              0,
              "#000011"
             ],
             [
              0.1111111111111111,
              "#000012"
             ],
             [
              0.2222222222222222,
              "#000013"
             ],
             [
              0.3333333333333333,
              "#000014"
             ],
             [
              0.4444444444444444,
              "#000015"
             ],
             [
              0.5555555555555556,
              "#000016"
             ],
             [
              0.6666666666666666,
              "#000017"
             ],
             [
              0.7777777777777778,
              "#000018"
             ],
             [
              0.8888888888888888,
              "#000019"
             ],
             [
              1,
              "#000020"
             ]
            ],
            "type": "contour"
           }
          ],
          "contourcarpet": [
           {
            "colorscale": [
             [
              0,
              "#000011"
             ],
             [
              0.1111111111111111,
              "#000012"
             ],
             [
              0.2222222222222222,
              "#000013"
             ],
             [
              0.3333333333333333,
              "#000014"
             ],
             [
              0.4444444444444444,
              "#000015"
             ],
             [
              0.5555555555555556,
              "#000016"
             ],
             [
              0.6666666666666666,
              "#000017"
             ],
             [
              0.7777777777777778,
              "#000018"
             ],
             [
              0.8888888888888888,
              "#000019"
             ],
             [
              1,
              "#000020"
             ]
            ],
            "type": "contourcarpet"
           }
          ],
          "heatmap": [
           {
            "colorscale": [
             [
              0,
              "#000011"
             ],
             [
              0.1111111111111111,
              "#000012"
             ],
             [
              0.2222222222222222,
              "#000013"
             ],
             [
              0.3333333333333333,
              "#000014"
             ],
             [
              0.4444444444444444,
              "#000015"
             ],
             [
              0.5555555555555556,
              "#000016"
             ],
             [
              0.6666666666666666,
              "#000017"
             ],
             [
              0.7777777777777778,
              "#000018"
             ],
             [
              0.8888888888888888,
              "#000019"
             ],
             [
              1,
              "#000020"
             ]
            ],
            "type": "heatmap"
           }
          ],
          "histogram2d": [
           {
            "colorscale": [
             [
              0,
              "#000011"
             ],
             [
              0.1111111111111111,
              "#000012"
             ],
             [
              0.2222222222222222,
              "#000013"
             ],
             [
              0.3333333333333333,
              "#000014"
             ],
             [
              0.4444444444444444,
              "#000015"
             ],
             [
              0.5555555555555556,
              "#000016"
             ],
             [
              0.6666666666666666,
              "#000017"
             ],
             [
              0.7777777777777778,
              "#000018"
             ],
             [
              0.8888888888888888,
              "#000019"
             ],
             [
              1,
              "#000020"
             ]
            ],
            "type": "histogram2d"
           }
          ],
          "icicle": [
           {
            "textfont": {
             "color": "white"
            },
            "type": "icicle"
           }
          ],
          "sankey": [
           {
            "textfont": {
             "color": "#000036"
            },
            "type": "sankey"
           }
          ],
          "scatter": [
           {
            "marker": {
             "line": {
              "width": 0
             }
            },
            "type": "scatter"
           }
          ],
          "table": [
           {
            "cells": {
             "fill": {
              "color": "#000038"
             },
             "font": {
              "color": "#000037"
             },
             "line": {
              "color": "#000039"
             }
            },
            "header": {
             "fill": {
              "color": "#000040"
             },
             "font": {
              "color": "#000036"
             },
             "line": {
              "color": "#000039"
             }
            },
            "type": "table"
           }
          ],
          "waterfall": [
           {
            "connector": {
             "line": {
              "color": "#000036",
              "width": 2
             }
            },
            "decreasing": {
             "marker": {
              "color": "#000033"
             }
            },
            "increasing": {
             "marker": {
              "color": "#000032"
             }
            },
            "totals": {
             "marker": {
              "color": "#000034"
             }
            },
            "type": "waterfall"
           }
          ]
         },
         "layout": {
          "coloraxis": {
           "colorscale": [
            [
             0,
             "#000011"
            ],
            [
             0.1111111111111111,
             "#000012"
            ],
            [
             0.2222222222222222,
             "#000013"
            ],
            [
             0.3333333333333333,
             "#000014"
            ],
            [
             0.4444444444444444,
             "#000015"
            ],
            [
             0.5555555555555556,
             "#000016"
            ],
            [
             0.6666666666666666,
             "#000017"
            ],
            [
             0.7777777777777778,
             "#000018"
            ],
            [
             0.8888888888888888,
             "#000019"
            ],
            [
             1,
             "#000020"
            ]
           ]
          },
          "colorscale": {
           "diverging": [
            [
             0,
             "#000021"
            ],
            [
             0.1,
             "#000022"
            ],
            [
             0.2,
             "#000023"
            ],
            [
             0.3,
             "#000024"
            ],
            [
             0.4,
             "#000025"
            ],
            [
             0.5,
             "#000026"
            ],
            [
             0.6,
             "#000027"
            ],
            [
             0.7,
             "#000028"
            ],
            [
             0.8,
             "#000029"
            ],
            [
             0.9,
             "#000030"
            ],
            [
             1,
             "#000031"
            ]
           ],
           "sequential": [
            [
             0,
             "#000011"
            ],
            [
             0.1111111111111111,
             "#000012"
            ],
            [
             0.2222222222222222,
             "#000013"
            ],
            [
             0.3333333333333333,
             "#000014"
            ],
            [
             0.4444444444444444,
             "#000015"
            ],
            [
             0.5555555555555556,
             "#000016"
            ],
            [
             0.6666666666666666,
             "#000017"
            ],
            [
             0.7777777777777778,
             "#000018"
            ],
            [
             0.8888888888888888,
             "#000019"
            ],
            [
             1,
             "#000020"
            ]
           ],
           "sequentialminus": [
            [
             0,
             "#000011"
            ],
            [
             0.1111111111111111,
             "#000012"
            ],
            [
             0.2222222222222222,
             "#000013"
            ],
            [
             0.3333333333333333,
             "#000014"
            ],
            [
             0.4444444444444444,
             "#000015"
            ],
            [
             0.5555555555555556,
             "#000016"
            ],
            [
             0.6666666666666666,
             "#000017"
            ],
            [
             0.7777777777777778,
             "#000018"
            ],
            [
             0.8888888888888888,
             "#000019"
            ],
            [
             1,
             "#000020"
            ]
           ]
          },
          "colorway": [
           "#000001",
           "#000002",
           "#000003",
           "#000004",
           "#000005",
           "#000006",
           "#000007",
           "#000008",
           "#000009",
           "#000010"
          ]
         }
        },
        "title": {
         "font": {
          "color": "gold",
          "family": "Roboto",
          "size": 23
         },
         "text": "SHOT MAP",
         "x": 0.1,
         "xanchor": "center",
         "y": 0.97,
         "yanchor": "top"
        },
        "width": 1150,
        "xaxis": {
         "range": [
          0,
          68
         ],
         "showgrid": false,
         "visible": false,
         "zeroline": false
        },
        "yaxis": {
         "range": [
          52.5,
          110
         ],
         "showgrid": false,
         "visible": false,
         "zeroline": false
        }
       }
      }
     },
     "metadata": {},
     "output_type": "display_data"
    }
   ],
   "source": [
    "import plotly.graph_objects as go\n",
    "\n",
    "\n",
    "df_shots_last_5_matches['hover_text'] = (\n",
    "    '<span style=\"font-size: 20px; line-height: 30px;\"><b>' + df_shots_last_5_matches['PLAYER_FBREF_NAME'].astype(str) + '</b></span>' +\n",
    "    '<span style=\"font-size: 12px; line-height: 22px;\">  vs ' + df_shots_last_5_matches['OPPO_TEAM_NAME'].astype(str) + '</span>'\n",
    "    '<br><span style=\"font-size: 15px; line-height: 18px;\">Shot - ' + df_shots_last_5_matches['OUTCOME'].astype(str) + '</span>' +\n",
    "    '<br><span style=\"font-size: 15px; line-height: 18px;\">Shot xG - ' + df_shots_last_5_matches['XG'].astype(str) + '</span>' +\n",
    "    '<br><span style=\"font-size: 15px; line-height: 18px;\">Game time - ' + ((df_shots_last_5_matches['NEW_TIME_SECONDS']//60 + 1).astype(int)).astype(str) + \"'\"+ \n",
    "    '<span style=\"font-size: 12px; line-height: 22px;\">  Period/Half: ' + df_shots_last_5_matches['PERIOD_ID'].astype(str) + '</span>'\n",
    ")\n",
    "\n",
    "outcome_colors = {'Goal': 'forestgreen', 'Saved': 'red', 'Blocked': 'orange', 'Off Target': 'red', \n",
    "                  'Woodwork': 'purple', 'Saved off Target': 'red'}\n",
    "outcome_markers = {'Goal': 'o', 'Saved': 'o', 'Blocked': 'X', 'Off Target': 'X',  'Woodwork': 'h',\n",
    "                   'Saved off Target': 'X'}\n",
    "outcome_alpha = {'Goal': .8, 'Saved': 0.6, 'Blocked': 0.6, 'Off Target': 0.5,  'Woodwork': 0.7,\n",
    "                 'Saved off Target': 0.5}\n",
    "\n",
    "# Create a Plotly figure\n",
    "fig = go.Figure()\n",
    "\n",
    "# Add the pitch as a background image\n",
    "fig.add_layout_image(\n",
    "    dict(\n",
    "        source=\"https://i.imgur.com/L0GXGh5.png\",  # Path to your pitch background image\n",
    "        xref=\"x\",\n",
    "        yref=\"y\",\n",
    "        x=0.,\n",
    "        y=110,\n",
    "        sizex=60,\n",
    "        sizey=95,\n",
    "        # sizing=\"stretch\",\n",
    "        opacity=1.0,\n",
    "        layer=\"below\")\n",
    ")\n",
    "\n",
    "# Define marker symbols in Plotly's format\n",
    "plotly_symbols = {\n",
    "    'Goal': 'circle',\n",
    "    'Saved': 'circle',\n",
    "    'Blocked': 'x',\n",
    "    'Off Target': 'x',\n",
    "    'Woodwork': 'hexagon',\n",
    "    'Saved off Target': 'x'\n",
    "}\n",
    "\n",
    "# header_values = []  # No header values, since we're incorporating the title directly in the cell\n",
    "header_values = [\n",
    "    ['<span style=\"font-size: 10px; color: grey;\">EXPECTED GOALS</span>', \n",
    "     '<span style=\"font-size: 10px; color: grey;\">GOALS</span>',\n",
    "     '<span style=\"font-size: 10px; color: grey;\">ATTEMPTS</span>',\n",
    "     '<span style=\"font-size: 10px; color: grey;\">WITH FEET</span>', \n",
    "     '<span style=\"font-size: 10px; color: grey;\">WITH HEAD</span>',\n",
    "     '<span style=\"font-size: 10px; color: grey;\">DIRECT SET PIECES</span>',\n",
    "     # ... add other outcomes as needed\n",
    "    '<span style=\"font-size: 22px; color: white;\"><b>total_xg</b></span>',\n",
    "     '<span style=\"font-size: 22px; color: white;\"><b>Goals</b></span>',\n",
    "     '<span style=\"font-size: 22px; color: white;\"><b>Attempts</b></span>',\n",
    "     '<span style=\"font-size: 22px; color: white;\"><b>with_feet</b></span>',\n",
    "     '<span style=\"font-size: 22px; color: white;\"><b>with_head</b></span>',\n",
    "     '<span style=\"font-size: 22px; color: white;\"><b>direct_set_pieces</b></span>',\n",
    "    ]\n",
    "]\n",
    "\n",
    "# Add scatter plots for each outcome type\n",
    "for outcome, df_group in df_shots_last_5_matches.groupby('OUTCOME'):\n",
    "    fig.add_trace(go.Scatter(\n",
    "        x=(df_group['START_Y'] - 68)*-0.8825,  # Assuming START_Y is the horizontal axis in your pitch image\n",
    "        y=df_group['START_X']+0.25,  # Assuming START_X is the vertical axis in your pitch image\n",
    "        mode='markers',\n",
    "        marker=dict(\n",
    "            color=outcome_colors[outcome],\n",
    "            symbol=plotly_symbols[outcome],\n",
    "            size=df_group['xG_size']*5,  # Adjust size scaling factor as needed\n",
    "            opacity=df_group['OUTCOME'].map(outcome_alpha)\n",
    "        ),\n",
    "        name=outcome,\n",
    "        text=df_group['hover_text'],  # This will be displayed on hover\n",
    "        hoverinfo='text',\n",
    "        # hovertemplate='<b>%{text}</b>'  # Custom hover template for cleaner text display\n",
    "    ))\n",
    "\n",
    "# Set axes to match the background image\n",
    "fig.update_xaxes(showgrid=False, zeroline=False, visible=False, range=[0, 68])\n",
    "fig.update_yaxes(showgrid=False, zeroline=False, visible=False, range=[52.5, 110])\n",
    "\n",
    "# Remove the plot background color\n",
    "fig.update_layout(plot_bgcolor='rgba(0,0,0,0)',\n",
    "                    font=dict(\n",
    "                            family=\"Calibri, sans-serif\",  # Set the font to Calibri, with sans-serif as a fallback\n",
    "                            size=12,  # You can adjust the base size as needed\n",
    "                            color=\"black\"  # And also set a global font color if you wish\n",
    "                        ), width=1150,height=700)\n",
    "\n",
    "fig.add_trace(go.Table(\n",
    "    header=dict(\n",
    "        values=[\n",
    "            [\"\" ,\"<b>TOTAL xG</b>\", \"\", \"<b>GOALS</b>\", \"\", \"<b>ATTEMPTS</b>\", \"\", \"<b>W/ FEET</b>\", \"\", \"<b>W/ HEAD</b>\", \"\",\"<b>DIRECT FKs</b>\"],\n",
    "            [\"\", f\"{round(total_xg, 1)}\", \"\", f\"{Goals}\", \"\", f\"{Attempts}\", \"\", f\"{with_feet}\", \"\", f\"{with_head}\", \"\", f\"{direct_set_pieces}\"]\n",
    "        ],\n",
    "        line_color='#2B2B2B',\n",
    "        fill_color='#2B2B2B',\n",
    "        align=['right', 'left'],  # Align each column differently if needed\n",
    "        font=dict(color=['grey', 'white'], size=[18, 28])  # Specify different styles for each column\n",
    "    ),\n",
    "    domain=dict(x=[0.835, 1], y=[0, 1])\n",
    "))\n",
    "\n",
    "fig.update_layout(\n",
    "    paper_bgcolor=\"#2B2B2B\",\n",
    "    plot_bgcolor=\"#2B2B2B\",\n",
    "    margin=dict(l=0, r=22, t=0, b=0),\n",
    "    legend=dict(\n",
    "        orientation=\"h\",  # Set the legend orientation to horizontal\n",
    "        yanchor=\"bottom\",\n",
    "        y=-0.03,  # Negative value to move the legend below the plot\n",
    "        xanchor=\"center\",\n",
    "        x=0.45,\n",
    "        font=dict(  # Update the font size\n",
    "            size=25,  # Example size, adjust as needed\n",
    "            color=\"white\"  # Set the text color to white for better contrast on a dark background\n",
    "        ),\n",
    "        bgcolor=\"#2B2B2B\",  # Set the background color of the legend\n",
    "        itemsizing='constant'  # Use the same size for all legend markers\n",
    "    ),\n",
    "    title={\n",
    "            'text': 'SHOT MAP',\n",
    "            'y':0.97,  # Sets the y position of the title (1 is the top of the figure)\n",
    "            'x':0.1,  # Centers the title horizontally (0.5 is the center of the figure)\n",
    "            'xanchor': 'center',  # Ensures the title is centered at the x position\n",
    "            'yanchor': 'top',  # Ensures the title is at the top of the y position\n",
    "            'font': dict(\n",
    "                family=\"Roboto\",  # Specify the font family\n",
    "                size=23,                     # Specify the font size\n",
    "                color=\"gold\"                # Specify the font color\n",
    "            )\n",
    "        }\n",
    ")\n",
    "\n",
    "fig.show()"
   ]
  },
  {
   "cell_type": "code",
   "execution_count": null,
   "metadata": {},
   "outputs": [
    {
     "ename": "NameError",
     "evalue": "name 'df_last_5_matches_filt' is not defined",
     "output_type": "error",
     "traceback": [
      "\u001b[1;31m---------------------------------------------------------------------------\u001b[0m",
      "\u001b[1;31mNameError\u001b[0m                                 Traceback (most recent call last)",
      "Cell \u001b[1;32mIn[158], line 1\u001b[0m\n\u001b[1;32m----> 1\u001b[0m df_last_5_matches_filt \u001b[38;5;241m=\u001b[39m \u001b[43mdf_last_5_matches_filt\u001b[49m\u001b[38;5;241m.\u001b[39msort_values(by\u001b[38;5;241m=\u001b[39m\u001b[38;5;124m'\u001b[39m\u001b[38;5;124mGAMEWEEK\u001b[39m\u001b[38;5;124m'\u001b[39m)[\u001b[38;5;241m-\u001b[39m\u001b[38;5;241m5\u001b[39m:]\n",
      "\u001b[1;31mNameError\u001b[0m: name 'df_last_5_matches_filt' is not defined"
     ]
    }
   ],
   "source": [
    "df_last_5_matches_filt = df_last_5_matches_filt.sort_values(by='GAMEWEEK')[-5:]"
   ]
  },
  {
   "cell_type": "code",
   "execution_count": null,
   "metadata": {},
   "outputs": [],
   "source": []
  },
  {
   "cell_type": "code",
   "execution_count": null,
   "metadata": {},
   "outputs": [],
   "source": []
  },
  {
   "cell_type": "code",
   "execution_count": null,
   "metadata": {},
   "outputs": [],
   "source": []
  },
  {
   "cell_type": "code",
   "execution_count": null,
   "metadata": {},
   "outputs": [
    {
     "data": {
      "text/plain": [
       "BODY_PART\n",
       "Right Foot    67883\n",
       "Left Foot     44304\n",
       "Head          24200\n",
       "Other           581\n",
       "Name: count, dtype: int64"
      ]
     },
     "execution_count": 147,
     "metadata": {},
     "output_type": "execute_result"
    }
   ],
   "source": [
    "df_shots['BODY_PART'].value_counts()"
   ]
  },
  {
   "cell_type": "code",
   "execution_count": null,
   "metadata": {},
   "outputs": [
    {
     "data": {
      "text/plain": [
       "NOTES\n",
       "Volley                  16621\n",
       "Free kick                4456\n",
       "Deflected                3126\n",
       "Deflected, Volley         287\n",
       "Free kick, Deflected       95\n",
       "nan                         6\n",
       "Free kick, Volley           1\n",
       "Name: count, dtype: int64"
      ]
     },
     "execution_count": 148,
     "metadata": {},
     "output_type": "execute_result"
    }
   ],
   "source": [
    "df_shots['NOTES'].value_counts()"
   ]
  },
  {
   "cell_type": "code",
   "execution_count": null,
   "metadata": {},
   "outputs": [
    {
     "data": {
      "text/plain": [
       "OUTCOME\n",
       "Off Target          50859\n",
       "Blocked             36732\n",
       "Saved               31854\n",
       "Goal                14728\n",
       "Woodwork             2658\n",
       "Saved off Target      137\n",
       "Name: count, dtype: int64"
      ]
     },
     "execution_count": 149,
     "metadata": {},
     "output_type": "execute_result"
    }
   ],
   "source": [
    "df_shots['OUTCOME'].value_counts()"
   ]
  },
  {
   "cell_type": "code",
   "execution_count": null,
   "metadata": {},
   "outputs": [],
   "source": []
  },
  {
   "cell_type": "code",
   "execution_count": null,
   "metadata": {},
   "outputs": [],
   "source": []
  },
  {
   "cell_type": "code",
   "execution_count": null,
   "metadata": {},
   "outputs": [],
   "source": [
    "df_shots = fetch_data(cursor, 'SELECT * FROM SHOT_EVENTS')\n",
    "df_shots = df_shots.merge(df_events[['MATCH_ID', 'ACTION_ID', 'TEAM_FBREF_ID']], on=['MATCH_ID', 'ACTION_ID'])\n",
    "df_shots = df_shots.merge(team_names[['TEAM_NAME', 'TEAM_FBREF_ID']], on=\"TEAM_FBREF_ID\")\n",
    "\n",
    "inds1 = df_shots[df_shots['SCA_1_PLAYER_FBREF_EVENT'].isin(['Pass (Dead)'])].index\n",
    "inds2 = df_shots[df_shots['SCA_2_PLAYER_FBREF_EVENT'].isin(['Pass (Dead)'])].index\n",
    "\n",
    "inds_union = np.union1d(inds1, inds2)\n",
    "df_shots_set_piece = df_shots.loc[inds_union]\n",
    "\n",
    "df_shots_set_piece = df_events[['MATCH_ID','ACTION_ID']].merge(df_shots_set_piece, on=['MATCH_ID', 'ACTION_ID'])\n",
    "df_shots_set_piece.loc[:, 'OPPO_TEAM_ID'] = \"NaN\"\n",
    "df_shots_set_piece = specify_oppo_team_id_to_events(df_shots_set_piece, df_matches)\n",
    "df_shots_set_piece = df_shots_set_piece.merge(team_names_2, on=\"OPPO_TEAM_ID\")\n",
    "df_shots_set_piece = df_shots_set_piece.merge(df_matches[['MATCH_ID','COMPETITION','SEASON']], on='MATCH_ID', how='left')"
   ]
  },
  {
   "cell_type": "code",
   "execution_count": null,
   "metadata": {},
   "outputs": [],
   "source": [
    "shots_xg_conceded_from_set_pieces_grouped = df_shots_set_piece[['OPPO_TEAM_NAME','COMPETITION','SEASON', \n",
    "                                                                'XG']].groupby(['OPPO_TEAM_NAME','COMPETITION','SEASON']).sum()"
   ]
  },
  {
   "cell_type": "code",
   "execution_count": null,
   "metadata": {},
   "outputs": [],
   "source": [
    "shots_xg_from_set_pieces_grouped = df_shots_set_piece[['TEAM_NAME','COMPETITION','SEASON', \n",
    "                                                    'XG']].groupby(['TEAM_NAME','COMPETITION','SEASON']).sum()"
   ]
  },
  {
   "cell_type": "code",
   "execution_count": null,
   "metadata": {},
   "outputs": [],
   "source": [
    "shots_xg_conceded_from_set_pieces_grouped = team_name_matches_played.merge(shots_xg_conceded_from_set_pieces_grouped.reset_index().rename(\n",
    "    {'OPPO_TEAM_NAME':'TEAM_NAME'}, axis=1),on=['TEAM_NAME','COMPETITION','SEASON'])"
   ]
  },
  {
   "cell_type": "code",
   "execution_count": null,
   "metadata": {},
   "outputs": [],
   "source": [
    "shots_xg_from_set_pieces_grouped = team_name_matches_played.merge(shots_xg_from_set_pieces_grouped.reset_index(),\n",
    "                                                                  on=['TEAM_NAME','COMPETITION','SEASON'])"
   ]
  },
  {
   "cell_type": "code",
   "execution_count": null,
   "metadata": {},
   "outputs": [],
   "source": [
    "shots_xg_conceded_from_set_pieces_grouped['OPPOSITION XG FROM SET PIECE CROSSES PER GAME'] = shots_xg_conceded_from_set_pieces_grouped['XG'] / \\\n",
    "                                                                        shots_xg_conceded_from_set_pieces_grouped['MATCHES_PLAYED']"
   ]
  },
  {
   "cell_type": "code",
   "execution_count": null,
   "metadata": {},
   "outputs": [],
   "source": [
    "shots_xg_from_set_pieces_grouped['XG FROM SET PIECE CROSSES PER GAME'] = shots_xg_from_set_pieces_grouped['XG'] / \\\n",
    "                                                                        shots_xg_from_set_pieces_grouped['MATCHES_PLAYED']"
   ]
  },
  {
   "cell_type": "code",
   "execution_count": null,
   "metadata": {},
   "outputs": [],
   "source": [
    "# shots_xg_from_set_pieces_grouped\n",
    "# shots_xg_conceded_from_set_pieces_grouped"
   ]
  },
  {
   "cell_type": "code",
   "execution_count": null,
   "metadata": {},
   "outputs": [],
   "source": [
    "df_goals_set_piece = df_shots_set_piece[df_shots_set_piece['OUTCOME'] == 'Goal']"
   ]
  },
  {
   "cell_type": "code",
   "execution_count": null,
   "metadata": {},
   "outputs": [],
   "source": [
    "df_goals_set_piece_chart = df_goals_set_piece.groupby(['TEAM_NAME','COMPETITION','SEASON']).count()['MATCH_ID']"
   ]
  },
  {
   "cell_type": "code",
   "execution_count": null,
   "metadata": {},
   "outputs": [],
   "source": [
    "df_goals_set_piece_chart = df_goals_set_piece_chart.reset_index()\n",
    "df_goals_set_piece_chart = df_goals_set_piece_chart.rename({'MATCH_ID':'SET PIECE GOALS SCORED'}, axis= 1)"
   ]
  },
  {
   "cell_type": "code",
   "execution_count": null,
   "metadata": {},
   "outputs": [],
   "source": [
    "df_goals_set_piece_conc = df_goals_set_piece.groupby(['OPPO_TEAM_NAME','COMPETITION','SEASON']).count()['MATCH_ID']\n",
    "df_goals_set_piece_conc = df_goals_set_piece_conc.reset_index()\n",
    "df_goals_set_piece_conc = df_goals_set_piece_conc.rename({'MATCH_ID':'SET PIECE GOALS CONCEDED',\n",
    "                                                            'OPPO_TEAM_NAME':'TEAM_NAME'}, axis= 1)"
   ]
  },
  {
   "cell_type": "code",
   "execution_count": null,
   "metadata": {},
   "outputs": [],
   "source": [
    "df_goals_set_piece_chart = df_goals_set_piece_chart.merge(df_goals_set_piece_conc, on=['TEAM_NAME', 'COMPETITION', 'SEASON'], how='outer')"
   ]
  },
  {
   "cell_type": "code",
   "execution_count": null,
   "metadata": {},
   "outputs": [],
   "source": [
    "df_goals_set_piece_chart = df_goals_set_piece_chart.fillna(0)"
   ]
  },
  {
   "cell_type": "code",
   "execution_count": null,
   "metadata": {},
   "outputs": [],
   "source": [
    "df_goals_set_piece_chart = df_goals_set_piece_chart.merge(team_names[['TEAM_NAME', 'TEAM_LOGO_URL']], on='TEAM_NAME')\n",
    "df_goals_set_piece_chart = df_goals_set_piece_chart.merge(df_competitions, on=['COMPETITION', 'SEASON'])"
   ]
  },
  {
   "cell_type": "code",
   "execution_count": null,
   "metadata": {},
   "outputs": [],
   "source": [
    "create_table_query = \"\"\"\n",
    "CREATE TABLE IF NOT EXISTS GOALS_FROM_SET_PIECES (\n",
    "    SEASON INT,\n",
    "    COMPETITION_ACRONYM VARCHAR(255),\n",
    "    TEAM_NAME VARCHAR(255),\n",
    "    TEAM_LOGO_URL VARCHAR(255),\n",
    "    SET_PIECE_GOALS_SCORED FLOAT,\n",
    "    SET_PIECE_GOALS_CONCEDED FLOAT,\n",
    "    PRIMARY KEY (SEASON, COMPETITION_ACRONYM, TEAM_NAME)\n",
    ");\n",
    "\"\"\""
   ]
  },
  {
   "cell_type": "code",
   "execution_count": null,
   "metadata": {},
   "outputs": [
    {
     "data": {
      "text/plain": [
       "<snowflake.connector.cursor.SnowflakeCursor at 0x196ad0e9290>"
      ]
     },
     "execution_count": 169,
     "metadata": {},
     "output_type": "execute_result"
    }
   ],
   "source": [
    "cur.execute(create_table_query)"
   ]
  },
  {
   "cell_type": "code",
   "execution_count": null,
   "metadata": {},
   "outputs": [],
   "source": [
    "df_goals_set_piece_chart.columns = df_goals_set_piece_chart.columns.str.replace(\" \", \"_\")"
   ]
  },
  {
   "cell_type": "code",
   "execution_count": null,
   "metadata": {},
   "outputs": [],
   "source": [
    "df_goals_set_piece_chart = df_goals_set_piece_chart.drop('COMPETITION', axis=1)"
   ]
  },
  {
   "cell_type": "code",
   "execution_count": null,
   "metadata": {},
   "outputs": [
    {
     "name": "stdout",
     "output_type": "stream",
     "text": [
      "Upsert completed. 292 rows processed.\n"
     ]
    }
   ],
   "source": [
    "upsert_to_snowflake(\"GOALS_FROM_SET_PIECES\", df_goals_set_piece_chart, ['SEASON', 'COMPETITION_ACRONYM', 'TEAM_NAME'])"
   ]
  },
  {
   "cell_type": "code",
   "execution_count": null,
   "metadata": {},
   "outputs": [],
   "source": [
    "df_goals_set_piece_chart = fetch_data(cursor, 'SELECT * FROM GEGENSTATS.RADAR_CHARTS.GOALS_FROM_SET_PIECES')"
   ]
  },
  {
   "cell_type": "code",
   "execution_count": null,
   "metadata": {},
   "outputs": [],
   "source": [
    "df_goals_set_piece_chart.rename(columns={'SET_PIECE_GOALS_SCORED':'SET PIECE GOALS SCORED',\n",
    "                                'SET_PIECE_GOALS_CONCEDED':'SET PIECE GOALS CONCEDED'}, inplace=True)"
   ]
  },
  {
   "cell_type": "code",
   "execution_count": null,
   "metadata": {},
   "outputs": [],
   "source": [
    "filt_df_goals_set_piece_chart = df_goals_set_piece_chart[df_goals_set_piece_chart['SEASON'] == season_selected]\n",
    "filt_df_goals_set_piece_chart = filt_df_goals_set_piece_chart[filt_df_goals_set_piece_chart['COMPETITION_ACRONYM'] == league_selected]"
   ]
  },
  {
   "cell_type": "code",
   "execution_count": null,
   "metadata": {},
   "outputs": [
    {
     "data": {
      "application/vnd.plotly.v1+json": {
       "config": {
        "plotlyServerURL": "https://plotly.com"
       },
       "data": [
        {
         "hoverinfo": "text",
         "marker": {
          "opacity": 0
         },
         "mode": "markers",
         "text": "Arsenal",
         "type": "scatter",
         "x": [
          4
         ],
         "y": [
          16
         ]
        },
        {
         "hoverinfo": "text",
         "marker": {
          "opacity": 0
         },
         "mode": "markers",
         "text": "Aston Villa",
         "type": "scatter",
         "x": [
          9
         ],
         "y": [
          8
         ]
        },
        {
         "hoverinfo": "text",
         "marker": {
          "opacity": 0
         },
         "mode": "markers",
         "text": "Bournemouth",
         "type": "scatter",
         "x": [
          3
         ],
         "y": [
          3
         ]
        },
        {
         "hoverinfo": "text",
         "marker": {
          "opacity": 0
         },
         "mode": "markers",
         "text": "Brentford",
         "type": "scatter",
         "x": [
          5
         ],
         "y": [
          7
         ]
        },
        {
         "hoverinfo": "text",
         "marker": {
          "opacity": 0
         },
         "mode": "markers",
         "text": "Brighton",
         "type": "scatter",
         "x": [
          3
         ],
         "y": [
          5
         ]
        },
        {
         "hoverinfo": "text",
         "marker": {
          "opacity": 0
         },
         "mode": "markers",
         "text": "Burnley",
         "type": "scatter",
         "x": [
          7
         ],
         "y": [
          5
         ]
        },
        {
         "hoverinfo": "text",
         "marker": {
          "opacity": 0
         },
         "mode": "markers",
         "text": "Chelsea",
         "type": "scatter",
         "x": [
          7
         ],
         "y": [
          7
         ]
        },
        {
         "hoverinfo": "text",
         "marker": {
          "opacity": 0
         },
         "mode": "markers",
         "text": "Crystal Palace",
         "type": "scatter",
         "x": [
          7
         ],
         "y": [
          4
         ]
        },
        {
         "hoverinfo": "text",
         "marker": {
          "opacity": 0
         },
         "mode": "markers",
         "text": "Everton",
         "type": "scatter",
         "x": [
          3
         ],
         "y": [
          5
         ]
        },
        {
         "hoverinfo": "text",
         "marker": {
          "opacity": 0
         },
         "mode": "markers",
         "text": "Fulham",
         "type": "scatter",
         "x": [
          4
         ],
         "y": [
          6
         ]
        },
        {
         "hoverinfo": "text",
         "marker": {
          "opacity": 0
         },
         "mode": "markers",
         "text": "Liverpool",
         "type": "scatter",
         "x": [
          7
         ],
         "y": [
          8
         ]
        },
        {
         "hoverinfo": "text",
         "marker": {
          "opacity": 0
         },
         "mode": "markers",
         "text": "Luton Town",
         "type": "scatter",
         "x": [
          9
         ],
         "y": [
          7
         ]
        },
        {
         "hoverinfo": "text",
         "marker": {
          "opacity": 0
         },
         "mode": "markers",
         "text": "Manchester City",
         "type": "scatter",
         "x": [
          3
         ],
         "y": [
          5
         ]
        },
        {
         "hoverinfo": "text",
         "marker": {
          "opacity": 0
         },
         "mode": "markers",
         "text": "Manchester Utd",
         "type": "scatter",
         "x": [
          9
         ],
         "y": [
          4
         ]
        },
        {
         "hoverinfo": "text",
         "marker": {
          "opacity": 0
         },
         "mode": "markers",
         "text": "Newcastle Utd",
         "type": "scatter",
         "x": [
          6
         ],
         "y": [
          7
         ]
        },
        {
         "hoverinfo": "text",
         "marker": {
          "opacity": 0
         },
         "mode": "markers",
         "text": "Nott'ham Forest",
         "type": "scatter",
         "x": [
          10
         ],
         "y": [
          5
         ]
        },
        {
         "hoverinfo": "text",
         "marker": {
          "opacity": 0
         },
         "mode": "markers",
         "text": "Sheffield Utd",
         "type": "scatter",
         "x": [
          12
         ],
         "y": [
          2
         ]
        },
        {
         "hoverinfo": "text",
         "marker": {
          "opacity": 0
         },
         "mode": "markers",
         "text": "Tottenham",
         "type": "scatter",
         "x": [
          10
         ],
         "y": [
          7
         ]
        },
        {
         "hoverinfo": "text",
         "marker": {
          "opacity": 0
         },
         "mode": "markers",
         "text": "West Ham",
         "type": "scatter",
         "x": [
          5
         ],
         "y": [
          11
         ]
        },
        {
         "hoverinfo": "text",
         "marker": {
          "opacity": 0
         },
         "mode": "markers",
         "text": "Wolves",
         "type": "scatter",
         "x": [
          6
         ],
         "y": [
          7
         ]
        }
       ],
       "layout": {
        "annotations": [
         {
          "align": "left",
          "font": {
           "color": "orange",
           "family": "Roboto, sans-serif",
           "size": 15
          },
          "showarrow": false,
          "text": "Low no. of set piece goals<br>Low no. of set piece goals conceded",
          "x": 0,
          "xref": "paper",
          "y": 0,
          "yref": "paper"
         },
         {
          "align": "left",
          "font": {
           "color": "green",
           "family": "Roboto, sans-serif",
           "size": 15
          },
          "showarrow": false,
          "text": "High no. of set piece goals<br>Low no. of set piece goals conceded",
          "x": 0,
          "xref": "paper",
          "y": 1,
          "yref": "paper"
         },
         {
          "align": "right",
          "font": {
           "color": "orange",
           "family": "Roboto, sans-serif",
           "size": 15
          },
          "showarrow": false,
          "text": "High no. of set piece goals<br>High no. of set piece goals conceded",
          "x": 1,
          "xref": "paper",
          "y": 1,
          "yref": "paper"
         },
         {
          "align": "right",
          "font": {
           "color": "red",
           "family": "Roboto, sans-serif",
           "size": 15
          },
          "showarrow": false,
          "text": "Low no. of set piece goals<br>High no. of set piece goals conceded",
          "x": 1,
          "xref": "paper",
          "y": 0,
          "yref": "paper"
         }
        ],
        "font": {
         "color": "white",
         "family": "Roboto, sans-serif",
         "size": 25
        },
        "height": 625,
        "hoverlabel": {
         "bgcolor": "rgba(20, 20, 20, 0.8)",
         "font": {
          "family": "Roboto, sans-serif"
         }
        },
        "images": [
         {
          "layer": "above",
          "opacity": 0.35,
          "sizex": 0.9,
          "sizey": 0.9,
          "sizing": "contain",
          "source": "https://i.imgur.com/SURo5sj.png",
          "x": 4,
          "xanchor": "center",
          "xref": "x",
          "y": 16,
          "yanchor": "middle",
          "yref": "y"
         },
         {
          "layer": "above",
          "opacity": 0.35,
          "sizex": 0.9,
          "sizey": 0.9,
          "sizing": "contain",
          "source": "https://i.imgur.com/M4mwH1X.png",
          "x": 9,
          "xanchor": "center",
          "xref": "x",
          "y": 8,
          "yanchor": "middle",
          "yref": "y"
         },
         {
          "layer": "above",
          "opacity": 0.35,
          "sizex": 0.9,
          "sizey": 0.9,
          "sizing": "contain",
          "source": "https://i.imgur.com/0F6UIO4.png",
          "x": 3,
          "xanchor": "center",
          "xref": "x",
          "y": 3,
          "yanchor": "middle",
          "yref": "y"
         },
         {
          "layer": "above",
          "opacity": 0.35,
          "sizex": 0.9,
          "sizey": 0.9,
          "sizing": "contain",
          "source": "https://i.imgur.com/MOhGOQ4.png",
          "x": 5,
          "xanchor": "center",
          "xref": "x",
          "y": 7,
          "yanchor": "middle",
          "yref": "y"
         },
         {
          "layer": "above",
          "opacity": 0.35,
          "sizex": 0.9,
          "sizey": 0.9,
          "sizing": "contain",
          "source": "https://i.imgur.com/EMCwD3X.png",
          "x": 3,
          "xanchor": "center",
          "xref": "x",
          "y": 5,
          "yanchor": "middle",
          "yref": "y"
         },
         {
          "layer": "above",
          "opacity": 0.35,
          "sizex": 0.9,
          "sizey": 0.9,
          "sizing": "contain",
          "source": "https://i.imgur.com/6IDi9XJ.png",
          "x": 7,
          "xanchor": "center",
          "xref": "x",
          "y": 5,
          "yanchor": "middle",
          "yref": "y"
         },
         {
          "layer": "above",
          "opacity": 0.35,
          "sizex": 0.9,
          "sizey": 0.9,
          "sizing": "contain",
          "source": "https://i.imgur.com/6F7h3UR.png",
          "x": 7,
          "xanchor": "center",
          "xref": "x",
          "y": 7,
          "yanchor": "middle",
          "yref": "y"
         },
         {
          "layer": "above",
          "opacity": 0.35,
          "sizex": 0.9,
          "sizey": 0.9,
          "sizing": "contain",
          "source": "https://i.imgur.com/LPhzr0K.png",
          "x": 7,
          "xanchor": "center",
          "xref": "x",
          "y": 4,
          "yanchor": "middle",
          "yref": "y"
         },
         {
          "layer": "above",
          "opacity": 0.35,
          "sizex": 0.9,
          "sizey": 0.9,
          "sizing": "contain",
          "source": "https://i.imgur.com/Dgei0uj.png",
          "x": 3,
          "xanchor": "center",
          "xref": "x",
          "y": 5,
          "yanchor": "middle",
          "yref": "y"
         },
         {
          "layer": "above",
          "opacity": 0.35,
          "sizex": 0.9,
          "sizey": 0.9,
          "sizing": "contain",
          "source": "https://i.imgur.com/2zggSrF.png",
          "x": 4,
          "xanchor": "center",
          "xref": "x",
          "y": 6,
          "yanchor": "middle",
          "yref": "y"
         },
         {
          "layer": "above",
          "opacity": 0.35,
          "sizex": 0.9,
          "sizey": 0.9,
          "sizing": "contain",
          "source": "https://i.imgur.com/fs7VK9G.png",
          "x": 7,
          "xanchor": "center",
          "xref": "x",
          "y": 8,
          "yanchor": "middle",
          "yref": "y"
         },
         {
          "layer": "above",
          "opacity": 0.35,
          "sizex": 0.9,
          "sizey": 0.9,
          "sizing": "contain",
          "source": "https://i.imgur.com/vHHqKJX.png",
          "x": 9,
          "xanchor": "center",
          "xref": "x",
          "y": 7,
          "yanchor": "middle",
          "yref": "y"
         },
         {
          "layer": "above",
          "opacity": 0.35,
          "sizex": 0.9,
          "sizey": 0.9,
          "sizing": "contain",
          "source": "https://i.imgur.com/FF8z7uZ.png",
          "x": 3,
          "xanchor": "center",
          "xref": "x",
          "y": 5,
          "yanchor": "middle",
          "yref": "y"
         },
         {
          "layer": "above",
          "opacity": 0.35,
          "sizex": 0.9,
          "sizey": 0.9,
          "sizing": "contain",
          "source": "https://i.imgur.com/z47emBQ.png",
          "x": 9,
          "xanchor": "center",
          "xref": "x",
          "y": 4,
          "yanchor": "middle",
          "yref": "y"
         },
         {
          "layer": "above",
          "opacity": 0.35,
          "sizex": 0.9,
          "sizey": 0.9,
          "sizing": "contain",
          "source": "https://i.imgur.com/3kOLokZ.png",
          "x": 6,
          "xanchor": "center",
          "xref": "x",
          "y": 7,
          "yanchor": "middle",
          "yref": "y"
         },
         {
          "layer": "above",
          "opacity": 0.35,
          "sizex": 0.9,
          "sizey": 0.9,
          "sizing": "contain",
          "source": "https://i.imgur.com/z4Tl9Zu.png",
          "x": 10,
          "xanchor": "center",
          "xref": "x",
          "y": 5,
          "yanchor": "middle",
          "yref": "y"
         },
         {
          "layer": "above",
          "opacity": 0.35,
          "sizex": 0.9,
          "sizey": 0.9,
          "sizing": "contain",
          "source": "https://i.imgur.com/eeBetFN.png",
          "x": 12,
          "xanchor": "center",
          "xref": "x",
          "y": 2,
          "yanchor": "middle",
          "yref": "y"
         },
         {
          "layer": "above",
          "opacity": 0.35,
          "sizex": 0.9,
          "sizey": 0.9,
          "sizing": "contain",
          "source": "https://i.imgur.com/fJ7rUWW.png",
          "x": 10,
          "xanchor": "center",
          "xref": "x",
          "y": 7,
          "yanchor": "middle",
          "yref": "y"
         },
         {
          "layer": "above",
          "opacity": 0.35,
          "sizex": 0.9,
          "sizey": 0.9,
          "sizing": "contain",
          "source": "https://i.imgur.com/9BQHJRl.png",
          "x": 5,
          "xanchor": "center",
          "xref": "x",
          "y": 11,
          "yanchor": "middle",
          "yref": "y"
         },
         {
          "layer": "above",
          "opacity": 0.35,
          "sizex": 0.9,
          "sizey": 0.9,
          "sizing": "contain",
          "source": "https://i.imgur.com/6azSF88.png",
          "x": 6,
          "xanchor": "center",
          "xref": "x",
          "y": 7,
          "yanchor": "middle",
          "yref": "y"
         }
        ],
        "margin": {
         "b": 10,
         "l": 10,
         "r": 30,
         "t": 50
        },
        "paper_bgcolor": "rgb(70, 70, 70)",
        "plot_bgcolor": "rgb(70, 70, 70)",
        "shapes": [
         {
          "layer": "below",
          "line": {
           "color": "White",
           "width": 3
          },
          "type": "line",
          "x0": 6.45,
          "x1": 6.45,
          "y0": 0,
          "y1": 17
         },
         {
          "layer": "below",
          "line": {
           "color": "White",
           "width": 3
          },
          "type": "line",
          "x0": 0,
          "x1": 16,
          "y0": 6.45,
          "y1": 6.45
         }
        ],
        "showlegend": false,
        "template": {
         "data": {
          "candlestick": [
           {
            "decreasing": {
             "line": {
              "color": "#000033"
             }
            },
            "increasing": {
             "line": {
              "color": "#000032"
             }
            },
            "type": "candlestick"
           }
          ],
          "contour": [
           {
            "colorscale": [
             [
              0,
              "#000011"
             ],
             [
              0.1111111111111111,
              "#000012"
             ],
             [
              0.2222222222222222,
              "#000013"
             ],
             [
              0.3333333333333333,
              "#000014"
             ],
             [
              0.4444444444444444,
              "#000015"
             ],
             [
              0.5555555555555556,
              "#000016"
             ],
             [
              0.6666666666666666,
              "#000017"
             ],
             [
              0.7777777777777778,
              "#000018"
             ],
             [
              0.8888888888888888,
              "#000019"
             ],
             [
              1,
              "#000020"
             ]
            ],
            "type": "contour"
           }
          ],
          "contourcarpet": [
           {
            "colorscale": [
             [
              0,
              "#000011"
             ],
             [
              0.1111111111111111,
              "#000012"
             ],
             [
              0.2222222222222222,
              "#000013"
             ],
             [
              0.3333333333333333,
              "#000014"
             ],
             [
              0.4444444444444444,
              "#000015"
             ],
             [
              0.5555555555555556,
              "#000016"
             ],
             [
              0.6666666666666666,
              "#000017"
             ],
             [
              0.7777777777777778,
              "#000018"
             ],
             [
              0.8888888888888888,
              "#000019"
             ],
             [
              1,
              "#000020"
             ]
            ],
            "type": "contourcarpet"
           }
          ],
          "heatmap": [
           {
            "colorscale": [
             [
              0,
              "#000011"
             ],
             [
              0.1111111111111111,
              "#000012"
             ],
             [
              0.2222222222222222,
              "#000013"
             ],
             [
              0.3333333333333333,
              "#000014"
             ],
             [
              0.4444444444444444,
              "#000015"
             ],
             [
              0.5555555555555556,
              "#000016"
             ],
             [
              0.6666666666666666,
              "#000017"
             ],
             [
              0.7777777777777778,
              "#000018"
             ],
             [
              0.8888888888888888,
              "#000019"
             ],
             [
              1,
              "#000020"
             ]
            ],
            "type": "heatmap"
           }
          ],
          "histogram2d": [
           {
            "colorscale": [
             [
              0,
              "#000011"
             ],
             [
              0.1111111111111111,
              "#000012"
             ],
             [
              0.2222222222222222,
              "#000013"
             ],
             [
              0.3333333333333333,
              "#000014"
             ],
             [
              0.4444444444444444,
              "#000015"
             ],
             [
              0.5555555555555556,
              "#000016"
             ],
             [
              0.6666666666666666,
              "#000017"
             ],
             [
              0.7777777777777778,
              "#000018"
             ],
             [
              0.8888888888888888,
              "#000019"
             ],
             [
              1,
              "#000020"
             ]
            ],
            "type": "histogram2d"
           }
          ],
          "icicle": [
           {
            "textfont": {
             "color": "white"
            },
            "type": "icicle"
           }
          ],
          "sankey": [
           {
            "textfont": {
             "color": "#000036"
            },
            "type": "sankey"
           }
          ],
          "scatter": [
           {
            "marker": {
             "line": {
              "width": 0
             }
            },
            "type": "scatter"
           }
          ],
          "table": [
           {
            "cells": {
             "fill": {
              "color": "#000038"
             },
             "font": {
              "color": "#000037"
             },
             "line": {
              "color": "#000039"
             }
            },
            "header": {
             "fill": {
              "color": "#000040"
             },
             "font": {
              "color": "#000036"
             },
             "line": {
              "color": "#000039"
             }
            },
            "type": "table"
           }
          ],
          "waterfall": [
           {
            "connector": {
             "line": {
              "color": "#000036",
              "width": 2
             }
            },
            "decreasing": {
             "marker": {
              "color": "#000033"
             }
            },
            "increasing": {
             "marker": {
              "color": "#000032"
             }
            },
            "totals": {
             "marker": {
              "color": "#000034"
             }
            },
            "type": "waterfall"
           }
          ]
         },
         "layout": {
          "coloraxis": {
           "colorscale": [
            [
             0,
             "#000011"
            ],
            [
             0.1111111111111111,
             "#000012"
            ],
            [
             0.2222222222222222,
             "#000013"
            ],
            [
             0.3333333333333333,
             "#000014"
            ],
            [
             0.4444444444444444,
             "#000015"
            ],
            [
             0.5555555555555556,
             "#000016"
            ],
            [
             0.6666666666666666,
             "#000017"
            ],
            [
             0.7777777777777778,
             "#000018"
            ],
            [
             0.8888888888888888,
             "#000019"
            ],
            [
             1,
             "#000020"
            ]
           ]
          },
          "colorscale": {
           "diverging": [
            [
             0,
             "#000021"
            ],
            [
             0.1,
             "#000022"
            ],
            [
             0.2,
             "#000023"
            ],
            [
             0.3,
             "#000024"
            ],
            [
             0.4,
             "#000025"
            ],
            [
             0.5,
             "#000026"
            ],
            [
             0.6,
             "#000027"
            ],
            [
             0.7,
             "#000028"
            ],
            [
             0.8,
             "#000029"
            ],
            [
             0.9,
             "#000030"
            ],
            [
             1,
             "#000031"
            ]
           ],
           "sequential": [
            [
             0,
             "#000011"
            ],
            [
             0.1111111111111111,
             "#000012"
            ],
            [
             0.2222222222222222,
             "#000013"
            ],
            [
             0.3333333333333333,
             "#000014"
            ],
            [
             0.4444444444444444,
             "#000015"
            ],
            [
             0.5555555555555556,
             "#000016"
            ],
            [
             0.6666666666666666,
             "#000017"
            ],
            [
             0.7777777777777778,
             "#000018"
            ],
            [
             0.8888888888888888,
             "#000019"
            ],
            [
             1,
             "#000020"
            ]
           ],
           "sequentialminus": [
            [
             0,
             "#000011"
            ],
            [
             0.1111111111111111,
             "#000012"
            ],
            [
             0.2222222222222222,
             "#000013"
            ],
            [
             0.3333333333333333,
             "#000014"
            ],
            [
             0.4444444444444444,
             "#000015"
            ],
            [
             0.5555555555555556,
             "#000016"
            ],
            [
             0.6666666666666666,
             "#000017"
            ],
            [
             0.7777777777777778,
             "#000018"
            ],
            [
             0.8888888888888888,
             "#000019"
            ],
            [
             1,
             "#000020"
            ]
           ]
          },
          "colorway": [
           "#000001",
           "#000002",
           "#000003",
           "#000004",
           "#000005",
           "#000006",
           "#000007",
           "#000008",
           "#000009",
           "#000010"
          ]
         }
        },
        "title": {
         "font": {
          "color": "white",
          "family": "Roboto, sans-serif",
          "size": 23
         },
         "text": "GOALS FROM SET PIECES",
         "x": 0.5,
         "xanchor": "center",
         "y": 0.98,
         "yanchor": "top"
        },
        "width": 625,
        "xaxis": {
         "gridcolor": "rgba(0,0,0,0)",
         "linecolor": "white",
         "linewidth": 2,
         "range": [
          0,
          16
         ],
         "showline": true,
         "tickfont": {
          "color": "white",
          "size": 15
         },
         "title": {
          "font": {
           "size": 25
          },
          "text": "SET PIECE GOALS CONCEDED"
         }
        },
        "yaxis": {
         "gridcolor": "rgba(0,0,0,0)",
         "linecolor": "white",
         "linewidth": 2,
         "range": [
          0,
          17
         ],
         "showline": true,
         "tickfont": {
          "color": "white",
          "size": 15
         },
         "title": {
          "font": {
           "size": 25
          },
          "text": "SET PIECE GOALS SCORED"
         }
        }
       }
      }
     },
     "metadata": {},
     "output_type": "display_data"
    }
   ],
   "source": [
    "create_FM_team_scatter_chart(filt_df_goals_set_piece_chart, 'GOALS FROM SET PIECES', \"AC Milan\", \n",
    "                             'SET PIECE GOALS CONCEDED', 'SET PIECE GOALS SCORED', 0.9, 0, 16, 0, 17, \n",
    "                                                        \"Low no. of set piece goals<br>Low no. of set piece goals conceded\", \n",
    "                                                        \"Low no. of set piece goals<br>High no. of set piece goals conceded\",\n",
    "                                                        \"High no. of set piece goals<br>Low no. of set piece goals conceded\",\n",
    "                                                        \"High no. of set piece goals<br>High no. of set piece goals conceded\",\n",
    "                                                        \"orange\", \"red\", \"green\", \"orange\")\n"
   ]
  },
  {
   "cell_type": "code",
   "execution_count": null,
   "metadata": {},
   "outputs": [],
   "source": []
  },
  {
   "cell_type": "code",
   "execution_count": null,
   "metadata": {},
   "outputs": [],
   "source": []
  },
  {
   "cell_type": "code",
   "execution_count": null,
   "metadata": {},
   "outputs": [],
   "source": []
  },
  {
   "cell_type": "code",
   "execution_count": null,
   "metadata": {},
   "outputs": [],
   "source": []
  }
 ],
 "metadata": {
  "kernelspec": {
   "display_name": "footy",
   "language": "python",
   "name": "python3"
  },
  "language_info": {
   "codemirror_mode": {
    "name": "ipython",
    "version": 3
   },
   "file_extension": ".py",
   "mimetype": "text/x-python",
   "name": "python",
   "nbconvert_exporter": "python",
   "pygments_lexer": "ipython3",
   "version": "3.12.1"
  }
 },
 "nbformat": 4,
 "nbformat_minor": 2
}
