{
 "cells": [
  {
   "cell_type": "code",
   "execution_count": 1,
   "metadata": {},
   "outputs": [
    {
     "name": "stderr",
     "output_type": "stream",
     "text": [
      "d:\\Users\\ksbha\\miniconda3\\envs\\footy\\Lib\\site-packages\\snowflake\\connector\\options.py:103: UserWarning: You have an incompatible version of 'pyarrow' installed (14.0.2), please install a version that adheres to: 'pyarrow<10.1.0,>=10.0.1; extra == \"pandas\"'\n",
      "  warn_incompatible_dep(\n",
      "Failed to import ArrowResult. No Apache Arrow result set format can be used. ImportError: DLL load failed while importing arrow_iterator: The specified procedure could not be found.\n"
     ]
    }
   ],
   "source": [
    "import pandas as pd\n",
    "import numpy as np\n",
    "import plotly.graph_objects as go\n",
    "# from snowflake.connector.pandas_tools import write_pandas\n",
    "# from sqlalchemy import create_engine\n",
    "import snowflake.connector\n",
    "\n",
    "from mplsoccer import Pitch, VerticalPitch\n",
    "import matplotlib.pyplot as plt\n",
    "import matplotlib.patches as patches\n",
    "import math\n",
    "\n",
    "from snowflake.connector.pandas_tools import write_pandas"
   ]
  },
  {
   "cell_type": "code",
   "execution_count": 2,
   "metadata": {},
   "outputs": [],
   "source": [
    "import snowflake.connector"
   ]
  },
  {
   "cell_type": "code",
   "execution_count": 3,
   "metadata": {},
   "outputs": [],
   "source": [
    "## Set options to view all columns\n",
    "pd.set_option('display.max_columns', None)"
   ]
  },
  {
   "cell_type": "code",
   "execution_count": 32,
   "metadata": {},
   "outputs": [],
   "source": [
    "SNOWFLAKE_USER = 'kbharaj3'\n",
    "SNOWFLAKE_PASSWORD = 'Snowfl@key0014'\n",
    "SNOWFLAKE_ACCOUNT = 'qx25653.ca-central-1.aws'\n",
    "SNOWFLAKE_WAREHOUSE = 'FOOTY_STORE'\n",
    "SNOWFLAKE_DATABASE = 'GEGENSTATS'\n",
    "SNOWFLAKE_SCHEMA = 'TABLES'"
   ]
  },
  {
   "cell_type": "code",
   "execution_count": 33,
   "metadata": {},
   "outputs": [],
   "source": [
    "conn = snowflake.connector.connect(\n",
    "    user=SNOWFLAKE_USER,\n",
    "    password=SNOWFLAKE_PASSWORD,\n",
    "    account=SNOWFLAKE_ACCOUNT,\n",
    "    warehouse=SNOWFLAKE_WAREHOUSE,\n",
    "    database=SNOWFLAKE_DATABASE,\n",
    "    schema=SNOWFLAKE_SCHEMA\n",
    ")"
   ]
  },
  {
   "cell_type": "code",
   "execution_count": 27,
   "metadata": {},
   "outputs": [],
   "source": [
    "cursor = conn.cursor()"
   ]
  },
  {
   "cell_type": "code",
   "execution_count": null,
   "metadata": {},
   "outputs": [],
   "source": []
  },
  {
   "cell_type": "code",
   "execution_count": 7,
   "metadata": {},
   "outputs": [],
   "source": [
    "def fetch_data(cursor, query):\n",
    "    cursor.execute(query)\n",
    "    rows = cursor.fetchall()\n",
    "    column_names = [desc[0] for desc in cursor.description]\n",
    "    return pd.DataFrame(rows, columns=column_names)"
   ]
  },
  {
   "cell_type": "code",
   "execution_count": 8,
   "metadata": {},
   "outputs": [],
   "source": [
    "team_names = fetch_data(cursor, 'SELECT * FROM TEAMS')"
   ]
  },
  {
   "cell_type": "code",
   "execution_count": 9,
   "metadata": {},
   "outputs": [],
   "source": [
    "team_misc = fetch_data(cursor, 'SELECT * FROM TEAM_MISC_STATS')"
   ]
  },
  {
   "cell_type": "code",
   "execution_count": 10,
   "metadata": {},
   "outputs": [],
   "source": [
    "team_standard = fetch_data(cursor, 'SELECT * FROM TEAM_STANDARD_STATS')"
   ]
  },
  {
   "cell_type": "code",
   "execution_count": 11,
   "metadata": {},
   "outputs": [],
   "source": [
    "team_attacking = fetch_data(cursor, 'SELECT * FROM TEAM_ATTACKING_STATS')"
   ]
  },
  {
   "cell_type": "code",
   "execution_count": 12,
   "metadata": {},
   "outputs": [],
   "source": [
    "team_defending = fetch_data(cursor, 'SELECT * FROM TEAM_DEFENDING_STATS')"
   ]
  },
  {
   "cell_type": "code",
   "execution_count": 13,
   "metadata": {},
   "outputs": [],
   "source": [
    "df_competitions = fetch_data(cursor, 'SELECT COMPETITION, COMPETITION_ACRONYM, SEASON FROM COMPETITIONS')"
   ]
  },
  {
   "cell_type": "code",
   "execution_count": 14,
   "metadata": {},
   "outputs": [],
   "source": [
    "df_matches = fetch_data(cursor, 'SELECT * FROM MATCHES')"
   ]
  },
  {
   "cell_type": "code",
   "execution_count": 15,
   "metadata": {},
   "outputs": [],
   "source": [
    "df_shots = fetch_data(cursor, 'SELECT * FROM SHOT_EVENTS')"
   ]
  },
  {
   "cell_type": "code",
   "execution_count": 18,
   "metadata": {},
   "outputs": [
    {
     "data": {
      "text/plain": [
       "TEAM_FBREF_ID    0\n",
       "SEASON           0\n",
       "COMPETITION      0\n",
       "AERIALS_WON      0\n",
       "AERIALS_LOST     0\n",
       "dtype: int64"
      ]
     },
     "execution_count": 18,
     "metadata": {},
     "output_type": "execute_result"
    }
   ],
   "source": [
    "team_misc.isna().sum()"
   ]
  },
  {
   "cell_type": "code",
   "execution_count": 21,
   "metadata": {},
   "outputs": [],
   "source": [
    "data = {\n",
    "    \"COMPETITION\": [\n",
    "        \"FRA-Ligue 1\",\n",
    "        \"ITA-Serie A\",\n",
    "        \"GER-Bundesliga\",  \n",
    "        \"ESP-La Liga\", \n",
    "    ],\n",
    "    \"COMPETITION_NAME\": [\n",
    "        \"Ligue 1 Uber Eats\", \n",
    "        \"Serie A Tim\", \n",
    "        \"1. Bundesliga\", \n",
    "        \"LaLiga EA Sports\",\n",
    "    ],\n",
    "    \"COMPETITION_ACRONYM\": [\n",
    "        \"Ligue 1\", \n",
    "        \"Serie A\", \n",
    "        \"Bundesliga\", \n",
    "        \"LALIGA\",\n",
    "    ],\n",
    "    \"SEASON\": [\n",
    "        2324,\n",
    "        2324,\n",
    "        2324,\n",
    "        2324, \n",
    "    ]\n",
    "}\n",
    "\n",
    "df = pd.DataFrame(data)"
   ]
  },
  {
   "cell_type": "code",
   "execution_count": 34,
   "metadata": {},
   "outputs": [
    {
     "data": {
      "text/html": [
       "<div>\n",
       "<style scoped>\n",
       "    .dataframe tbody tr th:only-of-type {\n",
       "        vertical-align: middle;\n",
       "    }\n",
       "\n",
       "    .dataframe tbody tr th {\n",
       "        vertical-align: top;\n",
       "    }\n",
       "\n",
       "    .dataframe thead th {\n",
       "        text-align: right;\n",
       "    }\n",
       "</style>\n",
       "<table border=\"1\" class=\"dataframe\">\n",
       "  <thead>\n",
       "    <tr style=\"text-align: right;\">\n",
       "      <th></th>\n",
       "      <th>COMPETITION</th>\n",
       "      <th>COMPETITION_NAME</th>\n",
       "      <th>COMPETITION_ACRONYM</th>\n",
       "      <th>SEASON</th>\n",
       "    </tr>\n",
       "  </thead>\n",
       "  <tbody>\n",
       "    <tr>\n",
       "      <th>0</th>\n",
       "      <td>FRA-Ligue 1</td>\n",
       "      <td>Ligue 1 Uber Eats</td>\n",
       "      <td>Ligue 1</td>\n",
       "      <td>2324</td>\n",
       "    </tr>\n",
       "    <tr>\n",
       "      <th>1</th>\n",
       "      <td>ITA-Serie A</td>\n",
       "      <td>Serie A Tim</td>\n",
       "      <td>Serie A</td>\n",
       "      <td>2324</td>\n",
       "    </tr>\n",
       "    <tr>\n",
       "      <th>2</th>\n",
       "      <td>GER-Bundesliga</td>\n",
       "      <td>1. Bundesliga</td>\n",
       "      <td>Bundesliga</td>\n",
       "      <td>2324</td>\n",
       "    </tr>\n",
       "    <tr>\n",
       "      <th>3</th>\n",
       "      <td>ESP-La Liga</td>\n",
       "      <td>LaLiga EA Sports</td>\n",
       "      <td>LALIGA</td>\n",
       "      <td>2324</td>\n",
       "    </tr>\n",
       "  </tbody>\n",
       "</table>\n",
       "</div>"
      ],
      "text/plain": [
       "      COMPETITION   COMPETITION_NAME COMPETITION_ACRONYM  SEASON\n",
       "0     FRA-Ligue 1  Ligue 1 Uber Eats             Ligue 1    2324\n",
       "1     ITA-Serie A        Serie A Tim             Serie A    2324\n",
       "2  GER-Bundesliga      1. Bundesliga          Bundesliga    2324\n",
       "3     ESP-La Liga   LaLiga EA Sports              LALIGA    2324"
      ]
     },
     "execution_count": 34,
     "metadata": {},
     "output_type": "execute_result"
    }
   ],
   "source": [
    "df"
   ]
  },
  {
   "cell_type": "code",
   "execution_count": 35,
   "metadata": {},
   "outputs": [
    {
     "data": {
      "text/plain": [
       "<snowflake.connector.cursor.SnowflakeCursor at 0x20680cd6a50>"
      ]
     },
     "execution_count": 35,
     "metadata": {},
     "output_type": "execute_result"
    }
   ],
   "source": [
    "cur = conn.cursor()\n",
    "cur.execute(f\"USE WAREHOUSE {SNOWFLAKE_WAREHOUSE}\")"
   ]
  },
  {
   "cell_type": "code",
   "execution_count": 36,
   "metadata": {},
   "outputs": [
    {
     "name": "stdout",
     "output_type": "stream",
     "text": [
      "Upsert completed. 4 rows processed.\n"
     ]
    }
   ],
   "source": [
    "upsert_to_snowflake(\"COMPETITIONS\", df, ['COMPETITION', 'SEASON'])"
   ]
  },
  {
   "cell_type": "code",
   "execution_count": 17,
   "metadata": {},
   "outputs": [
    {
     "data": {
      "text/html": [
       "<div>\n",
       "<style scoped>\n",
       "    .dataframe tbody tr th:only-of-type {\n",
       "        vertical-align: middle;\n",
       "    }\n",
       "\n",
       "    .dataframe tbody tr th {\n",
       "        vertical-align: top;\n",
       "    }\n",
       "\n",
       "    .dataframe thead th {\n",
       "        text-align: right;\n",
       "    }\n",
       "</style>\n",
       "<table border=\"1\" class=\"dataframe\">\n",
       "  <thead>\n",
       "    <tr style=\"text-align: right;\">\n",
       "      <th></th>\n",
       "      <th>COMPETITION</th>\n",
       "      <th>COMPETITION_ACRONYM</th>\n",
       "      <th>SEASON</th>\n",
       "    </tr>\n",
       "  </thead>\n",
       "  <tbody>\n",
       "    <tr>\n",
       "      <th>0</th>\n",
       "      <td>FRA-Ligue 1</td>\n",
       "      <td>Ligue 1</td>\n",
       "      <td>2223</td>\n",
       "    </tr>\n",
       "    <tr>\n",
       "      <th>1</th>\n",
       "      <td>FRA-Ligue 1</td>\n",
       "      <td>Ligue 1</td>\n",
       "      <td>2122</td>\n",
       "    </tr>\n",
       "    <tr>\n",
       "      <th>2</th>\n",
       "      <td>ITA-Serie A</td>\n",
       "      <td>Serie A</td>\n",
       "      <td>2223</td>\n",
       "    </tr>\n",
       "    <tr>\n",
       "      <th>3</th>\n",
       "      <td>ITA-Serie A</td>\n",
       "      <td>Serie A</td>\n",
       "      <td>2122</td>\n",
       "    </tr>\n",
       "    <tr>\n",
       "      <th>4</th>\n",
       "      <td>GER-Bundesliga</td>\n",
       "      <td>Bundesliga</td>\n",
       "      <td>2223</td>\n",
       "    </tr>\n",
       "    <tr>\n",
       "      <th>5</th>\n",
       "      <td>GER-Bundesliga</td>\n",
       "      <td>Bundesliga</td>\n",
       "      <td>2122</td>\n",
       "    </tr>\n",
       "    <tr>\n",
       "      <th>6</th>\n",
       "      <td>ESP-La Liga</td>\n",
       "      <td>LALIGA</td>\n",
       "      <td>2223</td>\n",
       "    </tr>\n",
       "    <tr>\n",
       "      <th>7</th>\n",
       "      <td>ESP-La Liga</td>\n",
       "      <td>LALIGA</td>\n",
       "      <td>2122</td>\n",
       "    </tr>\n",
       "    <tr>\n",
       "      <th>8</th>\n",
       "      <td>ENG-Premier League</td>\n",
       "      <td>EPL</td>\n",
       "      <td>2122</td>\n",
       "    </tr>\n",
       "    <tr>\n",
       "      <th>9</th>\n",
       "      <td>ENG-Premier League</td>\n",
       "      <td>EPL</td>\n",
       "      <td>2324</td>\n",
       "    </tr>\n",
       "    <tr>\n",
       "      <th>10</th>\n",
       "      <td>ENG-Premier League</td>\n",
       "      <td>EPL</td>\n",
       "      <td>2223</td>\n",
       "    </tr>\n",
       "  </tbody>\n",
       "</table>\n",
       "</div>"
      ],
      "text/plain": [
       "           COMPETITION COMPETITION_ACRONYM  SEASON\n",
       "0          FRA-Ligue 1             Ligue 1    2223\n",
       "1          FRA-Ligue 1             Ligue 1    2122\n",
       "2          ITA-Serie A             Serie A    2223\n",
       "3          ITA-Serie A             Serie A    2122\n",
       "4       GER-Bundesliga          Bundesliga    2223\n",
       "5       GER-Bundesliga          Bundesliga    2122\n",
       "6          ESP-La Liga              LALIGA    2223\n",
       "7          ESP-La Liga              LALIGA    2122\n",
       "8   ENG-Premier League                 EPL    2122\n",
       "9   ENG-Premier League                 EPL    2324\n",
       "10  ENG-Premier League                 EPL    2223"
      ]
     },
     "execution_count": 17,
     "metadata": {},
     "output_type": "execute_result"
    }
   ],
   "source": [
    "df_competitions"
   ]
  },
  {
   "cell_type": "code",
   "execution_count": 16,
   "metadata": {},
   "outputs": [],
   "source": [
    "team_misc = team_misc.merge(df_competitions, on=['COMPETITION','SEASON'], how='left')\n",
    "\n",
    "team_misc = team_misc.merge(team_names, on='TEAM_FBREF_ID', how='left')\n",
    "\n",
    "team_misc = team_misc.merge(team_standard, on=['TEAM_FBREF_ID', 'SEASON', 'COMPETITION'], how='left')"
   ]
  },
  {
   "cell_type": "code",
   "execution_count": 17,
   "metadata": {},
   "outputs": [
    {
     "data": {
      "text/plain": [
       "TEAM_FBREF_ID        0\n",
       "SEASON               0\n",
       "COMPETITION          0\n",
       "GOALS_SCORED         0\n",
       "NPXG                 0\n",
       "XG                   0\n",
       "SHOTS                0\n",
       "SHOTS_ON_TARGET      0\n",
       "PASS_COMPLETED       0\n",
       "PASS_ATTEMPTED       0\n",
       "TAKEONS_ATTEMPTED    0\n",
       "TAKEONS_COMPLETED    0\n",
       "CROSSES_INTO_PA      0\n",
       "FOULS_AGAINST        0\n",
       "dtype: int64"
      ]
     },
     "execution_count": 17,
     "metadata": {},
     "output_type": "execute_result"
    }
   ],
   "source": [
    "team_attacking.isna().sum()"
   ]
  },
  {
   "cell_type": "code",
   "execution_count": 18,
   "metadata": {},
   "outputs": [],
   "source": [
    "team_misc['AERIAL DUELS WON RATIO (%)'] = team_misc['AERIALS_WON']*100/(team_misc['AERIALS_WON'] + \n",
    "                                                                team_misc['AERIALS_LOST'])\n",
    "team_misc['AERIAL DUELS ATTEMPTED PER GAME'] = (team_misc['AERIALS_WON'] + \n",
    "                                           team_misc['AERIALS_LOST'])/team_misc['MATCHES_PLAYED']"
   ]
  },
  {
   "cell_type": "code",
   "execution_count": 19,
   "metadata": {},
   "outputs": [],
   "source": [
    "x_min_aerial = (team_misc['AERIAL DUELS WON RATIO (%)'].min() // 5)*5\n",
    "x_max_aerial = (team_misc['AERIAL DUELS WON RATIO (%)'].max()//5)*5 + 5\n",
    "y_min_aerial = (team_misc['AERIAL DUELS ATTEMPTED PER GAME'].min()//5)*5\n",
    "y_max_aerial = (team_misc['AERIAL DUELS ATTEMPTED PER GAME'].max()//5)*5 + 5"
   ]
  },
  {
   "cell_type": "code",
   "execution_count": 20,
   "metadata": {},
   "outputs": [],
   "source": [
    "## Old limits: (45.0, 60.0, 20.0, 35.0)"
   ]
  },
  {
   "cell_type": "code",
   "execution_count": 21,
   "metadata": {},
   "outputs": [
    {
     "data": {
      "text/plain": [
       "(292, 17)"
      ]
     },
     "execution_count": 21,
     "metadata": {},
     "output_type": "execute_result"
    }
   ],
   "source": [
    "team_misc.shape"
   ]
  },
  {
   "cell_type": "code",
   "execution_count": 22,
   "metadata": {},
   "outputs": [],
   "source": [
    "team_goal_output = team_standard.merge(team_defending[['TEAM_FBREF_ID', 'SEASON', 'COMPETITION', 'XG_AGAINST']], \n",
    "                                       on=['TEAM_FBREF_ID', 'SEASON', 'COMPETITION'], how='inner')\n",
    "\n",
    "team_goal_output = team_goal_output.merge(df_competitions[['COMPETITION','COMPETITION_ACRONYM','SEASON']], \n",
    "                                      on=['COMPETITION','SEASON'], how='inner')\n",
    "\n",
    "team_goal_output = team_goal_output.merge(team_attacking[['TEAM_FBREF_ID', 'SEASON', 'COMPETITION','NPXG']], \n",
    "                                          on=['TEAM_FBREF_ID', 'SEASON', 'COMPETITION'], how='inner')"
   ]
  },
  {
   "cell_type": "code",
   "execution_count": 23,
   "metadata": {},
   "outputs": [],
   "source": [
    "team_goal_output['EXPECTED GOALS AGAINST PER GAME'] = team_goal_output['XG_AGAINST']/team_goal_output['MATCHES_PLAYED']\n",
    "team_goal_output['NON PENALTY EXPECTED GOALS PER GAME'] = team_goal_output['NPXG']/team_goal_output['MATCHES_PLAYED']"
   ]
  },
  {
   "cell_type": "code",
   "execution_count": 24,
   "metadata": {},
   "outputs": [],
   "source": [
    "team_goal_output = team_goal_output.merge(team_names, on='TEAM_FBREF_ID', how='left')"
   ]
  },
  {
   "cell_type": "code",
   "execution_count": 25,
   "metadata": {},
   "outputs": [],
   "source": [
    "team_defending['BLOCKS'] = team_defending['BLOCKED_SHOTS'] + team_defending['BLOCKED_PASSES']"
   ]
  },
  {
   "cell_type": "code",
   "execution_count": 26,
   "metadata": {},
   "outputs": [],
   "source": [
    "team_defending_chart = team_standard.merge(team_defending[['TEAM_FBREF_ID', 'SEASON', 'COMPETITION', 'BLOCKS', 'CLEARANCES',\n",
    "                                                           'GOALS_CONCEDED', 'SHOTS_FACED', 'TACKLES', 'TACKLES_WON']], \n",
    "                                       on=['TEAM_FBREF_ID', 'SEASON', 'COMPETITION'], how='left')\n",
    "\n",
    "team_defending_chart = team_defending_chart.merge(df_competitions[['COMPETITION','COMPETITION_ACRONYM','SEASON']], \n",
    "                                      on=['COMPETITION','SEASON'], how='left')\n",
    "\n",
    "team_defending_chart = team_defending_chart.merge(team_names, on='TEAM_FBREF_ID', how='left')"
   ]
  },
  {
   "cell_type": "code",
   "execution_count": 28,
   "metadata": {},
   "outputs": [],
   "source": [
    "team_defending_chart['BLOCKS PER GAME'] = team_defending_chart['BLOCKS']/team_defending_chart['MATCHES_PLAYED']\n",
    "team_defending_chart['CLEARANCES PER GAME'] = team_defending_chart['CLEARANCES']/team_defending_chart['MATCHES_PLAYED']\n",
    "team_defending_chart['SHOTS FACED PER GAME'] = team_defending_chart['SHOTS_FACED']/team_defending_chart['MATCHES_PLAYED']\n",
    "team_defending_chart['OPPOSITION CONVERSION RATE (%)'] = (team_defending_chart['GOALS_CONCEDED']/team_defending_chart['SHOTS_FACED'])*100\n",
    "team_defending_chart['CONCEDED PER GAME'] = team_defending_chart['GOALS_CONCEDED']/team_defending_chart['MATCHES_PLAYED']\n",
    "team_defending_chart['TACKLES ATTEMPTED PER GAME'] = team_defending_chart['TACKLES']/team_defending_chart['MATCHES_PLAYED']\n",
    "team_defending_chart['TACKLES WON RATIO (%)'] = (team_defending_chart['TACKLES_WON']/team_defending_chart['TACKLES'])*100"
   ]
  },
  {
   "cell_type": "code",
   "execution_count": 29,
   "metadata": {},
   "outputs": [],
   "source": [
    "SNOWFLAKE_SCHEMA = 'RADAR_CHARTS'"
   ]
  },
  {
   "cell_type": "code",
   "execution_count": 30,
   "metadata": {},
   "outputs": [],
   "source": [
    "conn = snowflake.connector.connect(\n",
    "    user=SNOWFLAKE_USER,\n",
    "    password=SNOWFLAKE_PASSWORD,\n",
    "    account=SNOWFLAKE_ACCOUNT,\n",
    "    warehouse=SNOWFLAKE_WAREHOUSE,\n",
    "    database=SNOWFLAKE_DATABASE,\n",
    "    schema=SNOWFLAKE_SCHEMA\n",
    "    )"
   ]
  },
  {
   "cell_type": "code",
   "execution_count": 31,
   "metadata": {},
   "outputs": [
    {
     "data": {
      "text/plain": [
       "<snowflake.connector.cursor.SnowflakeCursor at 0x20cc4aef550>"
      ]
     },
     "execution_count": 31,
     "metadata": {},
     "output_type": "execute_result"
    }
   ],
   "source": [
    "cur = conn.cursor()\n",
    "cur.execute(f\"USE WAREHOUSE {SNOWFLAKE_WAREHOUSE}\")"
   ]
  },
  {
   "cell_type": "code",
   "execution_count": 32,
   "metadata": {},
   "outputs": [
    {
     "data": {
      "text/plain": [
       "<snowflake.connector.cursor.SnowflakeCursor at 0x20cc4aef550>"
      ]
     },
     "execution_count": 32,
     "metadata": {},
     "output_type": "execute_result"
    }
   ],
   "source": [
    "create_schema_sql = f\"CREATE SCHEMA IF NOT EXISTS {SNOWFLAKE_SCHEMA}\"\n",
    "cur.execute(create_schema_sql)"
   ]
  },
  {
   "cell_type": "code",
   "execution_count": 33,
   "metadata": {},
   "outputs": [],
   "source": [
    "create_table_query = \"\"\"\n",
    "CREATE TABLE IF NOT EXISTS TEAM_GOAL_OUTPUT (\n",
    "    SEASON INT,\n",
    "    COMPETITION_ACRONYM VARCHAR(255),\n",
    "    TEAM_NAME VARCHAR(255),\n",
    "    TEAM_LOGO_URL VARCHAR(255),\n",
    "    EXPECTED_GOALS_AGAINST_PER_GAME FLOAT,\n",
    "    NON_PENALTY_EXPECTED_GOALS_PER_GAME FLOAT,\n",
    "    PRIMARY KEY (SEASON, COMPETITION_ACRONYM, TEAM_NAME)\n",
    ");\n",
    "\"\"\""
   ]
  },
  {
   "cell_type": "code",
   "execution_count": null,
   "metadata": {},
   "outputs": [],
   "source": [
    "cur.execute(create_table_query)"
   ]
  },
  {
   "cell_type": "code",
   "execution_count": null,
   "metadata": {},
   "outputs": [],
   "source": [
    "create_table_query = \"\"\"\n",
    "CREATE TABLE IF NOT EXISTS TEAM_DEFENDING_CHART (\n",
    "    SEASON INT,\n",
    "    COMPETITION_ACRONYM VARCHAR(255),\n",
    "    TEAM_NAME VARCHAR(255),\n",
    "    TEAM_LOGO_URL VARCHAR(255),\n",
    "    BLOCKS_PER_GAME FLOAT,\n",
    "    CLEARANCES_PER_GAME FLOAT,\n",
    "    SHOTS_FACED_PER_GAME FLOAT,\n",
    "    OPPOSITION_CONVERSION_RATE FLOAT,\n",
    "    CONCEDED_PER_GAME FLOAT,\n",
    "    TACKLES_ATTEMPTED_PER_GAME FLOAT,\n",
    "    TACKLES_WON_RATIO FLOAT,\n",
    "    PRIMARY KEY (SEASON, COMPETITION_ACRONYM, TEAM_NAME)\n",
    ");\n",
    "\"\"\""
   ]
  },
  {
   "cell_type": "code",
   "execution_count": null,
   "metadata": {},
   "outputs": [],
   "source": [
    "cur.execute(create_table_query)"
   ]
  },
  {
   "cell_type": "code",
   "execution_count": 25,
   "metadata": {},
   "outputs": [],
   "source": [
    "def upsert_to_snowflake(table_name, dataframe, primary_keys):\n",
    "    if isinstance(primary_keys, str):\n",
    "        primary_keys = [primary_keys]\n",
    "\n",
    "    temp_table_name = f\"{table_name}_TEMP\"\n",
    "    success, nchunks, nrows, _ = write_pandas(conn, dataframe, temp_table_name, auto_create_table=True)\n",
    "\n",
    "    on_condition = ' AND '.join([f\"{table_name}.{pk} = {temp_table_name}.{pk}\" for pk in primary_keys])\n",
    "\n",
    "    update_columns = [col for col in dataframe.columns if col not in primary_keys]\n",
    "    update_sql = ', '.join([f\"{table_name}.{col} = {temp_table_name}.{col}\" for col in update_columns])\n",
    "\n",
    "    merge_sql = f\"\"\"\n",
    "    MERGE INTO {table_name} USING {temp_table_name}\n",
    "    ON {on_condition}\n",
    "    \"\"\"\n",
    "\n",
    "    if update_columns:\n",
    "        merge_sql += f\"\"\"\n",
    "        WHEN MATCHED THEN\n",
    "            UPDATE SET\n",
    "                {update_sql}\n",
    "        \"\"\"\n",
    "\n",
    "    merge_sql += f\"\"\"\n",
    "    WHEN NOT MATCHED THEN\n",
    "        INSERT ({', '.join(dataframe.columns)})\n",
    "        VALUES ({', '.join([f\"{temp_table_name}.{col}\" for col in dataframe.columns])})\n",
    "    \"\"\"\n",
    "\n",
    "    cur.execute(merge_sql)\n",
    "    cur.execute(f\"DROP TABLE IF EXISTS {temp_table_name}\")\n",
    "\n",
    "    print(f\"Upsert completed. {nrows} rows processed.\")"
   ]
  },
  {
   "cell_type": "code",
   "execution_count": 35,
   "metadata": {},
   "outputs": [],
   "source": [
    "team_goal_output.rename(columns={'EXPECTED GOALS AGAINST PER GAME':'EXPECTED_GOALS_AGAINST_PER_GAME',\n",
    "                                 'NON PENALTY EXPECTED GOALS PER GAME':'NON_PENALTY_EXPECTED_GOALS_PER_GAME'}, inplace=True)"
   ]
  },
  {
   "cell_type": "code",
   "execution_count": 36,
   "metadata": {},
   "outputs": [
    {
     "data": {
      "text/html": [
       "<div>\n",
       "<style scoped>\n",
       "    .dataframe tbody tr th:only-of-type {\n",
       "        vertical-align: middle;\n",
       "    }\n",
       "\n",
       "    .dataframe tbody tr th {\n",
       "        vertical-align: top;\n",
       "    }\n",
       "\n",
       "    .dataframe thead th {\n",
       "        text-align: right;\n",
       "    }\n",
       "</style>\n",
       "<table border=\"1\" class=\"dataframe\">\n",
       "  <thead>\n",
       "    <tr style=\"text-align: right;\">\n",
       "      <th></th>\n",
       "      <th>TEAM_FBREF_ID</th>\n",
       "      <th>SEASON</th>\n",
       "      <th>COMPETITION</th>\n",
       "      <th>MATCHES_PLAYED</th>\n",
       "      <th>TEAM_WINS</th>\n",
       "      <th>TEAM_DRAWS</th>\n",
       "      <th>TEAM_LOSSES</th>\n",
       "      <th>TEAM_PTS</th>\n",
       "      <th>TEAM_XPTS</th>\n",
       "      <th>XG_AGAINST</th>\n",
       "      <th>COMPETITION_ACRONYM</th>\n",
       "      <th>NPXG</th>\n",
       "      <th>EXPECTED_GOALS_AGAINST_PER_GAME</th>\n",
       "      <th>NON_PENALTY_EXPECTED_GOALS_PER_GAME</th>\n",
       "      <th>TEAM_NAME</th>\n",
       "      <th>TEAM_LOGO_URL</th>\n",
       "      <th>TEAM_WS_ID</th>\n",
       "    </tr>\n",
       "  </thead>\n",
       "  <tbody>\n",
       "  </tbody>\n",
       "</table>\n",
       "</div>"
      ],
      "text/plain": [
       "Empty DataFrame\n",
       "Columns: [TEAM_FBREF_ID, SEASON, COMPETITION, MATCHES_PLAYED, TEAM_WINS, TEAM_DRAWS, TEAM_LOSSES, TEAM_PTS, TEAM_XPTS, XG_AGAINST, COMPETITION_ACRONYM, NPXG, EXPECTED_GOALS_AGAINST_PER_GAME, NON_PENALTY_EXPECTED_GOALS_PER_GAME, TEAM_NAME, TEAM_LOGO_URL, TEAM_WS_ID]\n",
       "Index: []"
      ]
     },
     "execution_count": 36,
     "metadata": {},
     "output_type": "execute_result"
    }
   ],
   "source": [
    "team_goal_output[team_goal_output['XG_AGAINST'].isna()]"
   ]
  },
  {
   "cell_type": "code",
   "execution_count": 34,
   "metadata": {},
   "outputs": [
    {
     "ename": "ProgrammingError",
     "evalue": "002003 (42S02): SQL compilation error:\nObject 'TEAM_GOAL_OUTPUT' does not exist or not authorized.",
     "output_type": "error",
     "traceback": [
      "\u001b[1;31m---------------------------------------------------------------------------\u001b[0m",
      "\u001b[1;31mProgrammingError\u001b[0m                          Traceback (most recent call last)",
      "Cell \u001b[1;32mIn[34], line 1\u001b[0m\n\u001b[1;32m----> 1\u001b[0m \u001b[43mupsert_to_snowflake\u001b[49m\u001b[43m(\u001b[49m\u001b[38;5;124;43m\"\u001b[39;49m\u001b[38;5;124;43mTEAM_GOAL_OUTPUT\u001b[39;49m\u001b[38;5;124;43m\"\u001b[39;49m\u001b[43m,\u001b[49m\u001b[43m \u001b[49m\u001b[43mteam_goal_output\u001b[49m\u001b[43m[\u001b[49m\u001b[43m[\u001b[49m\u001b[38;5;124;43m'\u001b[39;49m\u001b[38;5;124;43mSEASON\u001b[39;49m\u001b[38;5;124;43m'\u001b[39;49m\u001b[43m,\u001b[49m\u001b[43m \u001b[49m\u001b[38;5;124;43m'\u001b[39;49m\u001b[38;5;124;43mCOMPETITION_ACRONYM\u001b[39;49m\u001b[38;5;124;43m'\u001b[39;49m\u001b[43m,\u001b[49m\u001b[43m \u001b[49m\u001b[38;5;124;43m'\u001b[39;49m\u001b[38;5;124;43mTEAM_NAME\u001b[39;49m\u001b[38;5;124;43m'\u001b[39;49m\u001b[43m,\u001b[49m\u001b[43m \u001b[49m\u001b[38;5;124;43m'\u001b[39;49m\u001b[38;5;124;43mTEAM_LOGO_URL\u001b[39;49m\u001b[38;5;124;43m'\u001b[39;49m\u001b[43m,\u001b[49m\n\u001b[0;32m      2\u001b[0m \u001b[43m                    \u001b[49m\u001b[38;5;124;43m'\u001b[39;49m\u001b[38;5;124;43mEXPECTED_GOALS_AGAINST_PER_GAME\u001b[39;49m\u001b[38;5;124;43m'\u001b[39;49m\u001b[43m,\u001b[49m\u001b[43m \u001b[49m\u001b[38;5;124;43m'\u001b[39;49m\u001b[38;5;124;43mNON_PENALTY_EXPECTED_GOALS_PER_GAME\u001b[39;49m\u001b[38;5;124;43m'\u001b[39;49m\u001b[43m]\u001b[49m\u001b[43m]\u001b[49m\u001b[43m,\u001b[49m\n\u001b[0;32m      3\u001b[0m \u001b[43m                    \u001b[49m\u001b[43m[\u001b[49m\u001b[38;5;124;43m'\u001b[39;49m\u001b[38;5;124;43mSEASON\u001b[39;49m\u001b[38;5;124;43m'\u001b[39;49m\u001b[43m,\u001b[49m\u001b[43m \u001b[49m\u001b[38;5;124;43m'\u001b[39;49m\u001b[38;5;124;43mCOMPETITION_ACRONYM\u001b[39;49m\u001b[38;5;124;43m'\u001b[39;49m\u001b[43m,\u001b[49m\u001b[43m \u001b[49m\u001b[38;5;124;43m'\u001b[39;49m\u001b[38;5;124;43mTEAM_NAME\u001b[39;49m\u001b[38;5;124;43m'\u001b[39;49m\u001b[43m]\u001b[49m\u001b[43m)\u001b[49m\n",
      "Cell \u001b[1;32mIn[31], line 31\u001b[0m, in \u001b[0;36mupsert_to_snowflake\u001b[1;34m(table_name, dataframe, primary_keys)\u001b[0m\n\u001b[0;32m     19\u001b[0m     merge_sql \u001b[38;5;241m+\u001b[39m\u001b[38;5;241m=\u001b[39m \u001b[38;5;124mf\u001b[39m\u001b[38;5;124m\"\"\"\u001b[39m\n\u001b[0;32m     20\u001b[0m \u001b[38;5;124m    WHEN MATCHED THEN\u001b[39m\n\u001b[0;32m     21\u001b[0m \u001b[38;5;124m        UPDATE SET\u001b[39m\n\u001b[0;32m     22\u001b[0m \u001b[38;5;124m            \u001b[39m\u001b[38;5;132;01m{\u001b[39;00mupdate_sql\u001b[38;5;132;01m}\u001b[39;00m\n\u001b[0;32m     23\u001b[0m \u001b[38;5;124m    \u001b[39m\u001b[38;5;124m\"\"\"\u001b[39m\n\u001b[0;32m     25\u001b[0m merge_sql \u001b[38;5;241m+\u001b[39m\u001b[38;5;241m=\u001b[39m \u001b[38;5;124mf\u001b[39m\u001b[38;5;124m\"\"\"\u001b[39m\n\u001b[0;32m     26\u001b[0m \u001b[38;5;124mWHEN NOT MATCHED THEN\u001b[39m\n\u001b[0;32m     27\u001b[0m \u001b[38;5;124m    INSERT (\u001b[39m\u001b[38;5;132;01m{\u001b[39;00m\u001b[38;5;124m'\u001b[39m\u001b[38;5;124m, \u001b[39m\u001b[38;5;124m'\u001b[39m\u001b[38;5;241m.\u001b[39mjoin(dataframe\u001b[38;5;241m.\u001b[39mcolumns)\u001b[38;5;132;01m}\u001b[39;00m\u001b[38;5;124m)\u001b[39m\n\u001b[0;32m     28\u001b[0m \u001b[38;5;124m    VALUES (\u001b[39m\u001b[38;5;132;01m{\u001b[39;00m\u001b[38;5;124m'\u001b[39m\u001b[38;5;124m, \u001b[39m\u001b[38;5;124m'\u001b[39m\u001b[38;5;241m.\u001b[39mjoin([\u001b[38;5;124mf\u001b[39m\u001b[38;5;124m\"\u001b[39m\u001b[38;5;132;01m{\u001b[39;00mtemp_table_name\u001b[38;5;132;01m}\u001b[39;00m\u001b[38;5;124m.\u001b[39m\u001b[38;5;132;01m{\u001b[39;00mcol\u001b[38;5;132;01m}\u001b[39;00m\u001b[38;5;124m\"\u001b[39m\u001b[38;5;250m \u001b[39m\u001b[38;5;28;01mfor\u001b[39;00m\u001b[38;5;250m \u001b[39mcol\u001b[38;5;250m \u001b[39m\u001b[38;5;129;01min\u001b[39;00m\u001b[38;5;250m \u001b[39mdataframe\u001b[38;5;241m.\u001b[39mcolumns])\u001b[38;5;132;01m}\u001b[39;00m\u001b[38;5;124m)\u001b[39m\n\u001b[0;32m     29\u001b[0m \u001b[38;5;124m\u001b[39m\u001b[38;5;124m\"\"\"\u001b[39m\n\u001b[1;32m---> 31\u001b[0m \u001b[43mcur\u001b[49m\u001b[38;5;241;43m.\u001b[39;49m\u001b[43mexecute\u001b[49m\u001b[43m(\u001b[49m\u001b[43mmerge_sql\u001b[49m\u001b[43m)\u001b[49m\n\u001b[0;32m     32\u001b[0m cur\u001b[38;5;241m.\u001b[39mexecute(\u001b[38;5;124mf\u001b[39m\u001b[38;5;124m\"\u001b[39m\u001b[38;5;124mDROP TABLE IF EXISTS \u001b[39m\u001b[38;5;132;01m{\u001b[39;00mtemp_table_name\u001b[38;5;132;01m}\u001b[39;00m\u001b[38;5;124m\"\u001b[39m)\n\u001b[0;32m     34\u001b[0m \u001b[38;5;28mprint\u001b[39m(\u001b[38;5;124mf\u001b[39m\u001b[38;5;124m\"\u001b[39m\u001b[38;5;124mUpsert completed. \u001b[39m\u001b[38;5;132;01m{\u001b[39;00mnrows\u001b[38;5;132;01m}\u001b[39;00m\u001b[38;5;124m rows processed.\u001b[39m\u001b[38;5;124m\"\u001b[39m)\n",
      "File \u001b[1;32md:\\Users\\ksbha\\miniconda3\\envs\\footy\\Lib\\site-packages\\snowflake\\connector\\cursor.py:937\u001b[0m, in \u001b[0;36mSnowflakeCursor.execute\u001b[1;34m(self, command, params, _bind_stage, timeout, _exec_async, _no_retry, _do_reset, _put_callback, _put_azure_callback, _put_callback_output_stream, _get_callback, _get_azure_callback, _get_callback_output_stream, _show_progress_bar, _statement_params, _is_internal, _describe_only, _no_results, _is_put_get, _raise_put_get_error, _force_put_overwrite, _skip_upload_on_content_match, file_stream, num_statements)\u001b[0m\n\u001b[0;32m    933\u001b[0m     is_integrity_error \u001b[38;5;241m=\u001b[39m (\n\u001b[0;32m    934\u001b[0m         code \u001b[38;5;241m==\u001b[39m \u001b[38;5;124m\"\u001b[39m\u001b[38;5;124m100072\u001b[39m\u001b[38;5;124m\"\u001b[39m\n\u001b[0;32m    935\u001b[0m     )  \u001b[38;5;66;03m# NULL result in a non-nullable column\u001b[39;00m\n\u001b[0;32m    936\u001b[0m     error_class \u001b[38;5;241m=\u001b[39m IntegrityError \u001b[38;5;28;01mif\u001b[39;00m is_integrity_error \u001b[38;5;28;01melse\u001b[39;00m ProgrammingError\n\u001b[1;32m--> 937\u001b[0m     \u001b[43mError\u001b[49m\u001b[38;5;241;43m.\u001b[39;49m\u001b[43merrorhandler_wrapper\u001b[49m\u001b[43m(\u001b[49m\u001b[38;5;28;43mself\u001b[39;49m\u001b[38;5;241;43m.\u001b[39;49m\u001b[43mconnection\u001b[49m\u001b[43m,\u001b[49m\u001b[43m \u001b[49m\u001b[38;5;28;43mself\u001b[39;49m\u001b[43m,\u001b[49m\u001b[43m \u001b[49m\u001b[43merror_class\u001b[49m\u001b[43m,\u001b[49m\u001b[43m \u001b[49m\u001b[43merrvalue\u001b[49m\u001b[43m)\u001b[49m\n\u001b[0;32m    938\u001b[0m \u001b[38;5;28;01mreturn\u001b[39;00m \u001b[38;5;28mself\u001b[39m\n",
      "File \u001b[1;32md:\\Users\\ksbha\\miniconda3\\envs\\footy\\Lib\\site-packages\\snowflake\\connector\\errors.py:290\u001b[0m, in \u001b[0;36mError.errorhandler_wrapper\u001b[1;34m(connection, cursor, error_class, error_value)\u001b[0m\n\u001b[0;32m    267\u001b[0m \u001b[38;5;129m@staticmethod\u001b[39m\n\u001b[0;32m    268\u001b[0m \u001b[38;5;28;01mdef\u001b[39;00m \u001b[38;5;21merrorhandler_wrapper\u001b[39m(\n\u001b[0;32m    269\u001b[0m     connection: SnowflakeConnection \u001b[38;5;241m|\u001b[39m \u001b[38;5;28;01mNone\u001b[39;00m,\n\u001b[1;32m   (...)\u001b[0m\n\u001b[0;32m    272\u001b[0m     error_value: \u001b[38;5;28mdict\u001b[39m[\u001b[38;5;28mstr\u001b[39m, Any],\n\u001b[0;32m    273\u001b[0m ) \u001b[38;5;241m-\u001b[39m\u001b[38;5;241m>\u001b[39m \u001b[38;5;28;01mNone\u001b[39;00m:\n\u001b[0;32m    274\u001b[0m \u001b[38;5;250m    \u001b[39m\u001b[38;5;124;03m\"\"\"Error handler wrapper that calls the errorhandler method.\u001b[39;00m\n\u001b[0;32m    275\u001b[0m \n\u001b[0;32m    276\u001b[0m \u001b[38;5;124;03m    Args:\u001b[39;00m\n\u001b[1;32m   (...)\u001b[0m\n\u001b[0;32m    287\u001b[0m \u001b[38;5;124;03m        exception to the first handler in that order.\u001b[39;00m\n\u001b[0;32m    288\u001b[0m \u001b[38;5;124;03m    \"\"\"\u001b[39;00m\n\u001b[1;32m--> 290\u001b[0m     handed_over \u001b[38;5;241m=\u001b[39m \u001b[43mError\u001b[49m\u001b[38;5;241;43m.\u001b[39;49m\u001b[43mhand_to_other_handler\u001b[49m\u001b[43m(\u001b[49m\n\u001b[0;32m    291\u001b[0m \u001b[43m        \u001b[49m\u001b[43mconnection\u001b[49m\u001b[43m,\u001b[49m\n\u001b[0;32m    292\u001b[0m \u001b[43m        \u001b[49m\u001b[43mcursor\u001b[49m\u001b[43m,\u001b[49m\n\u001b[0;32m    293\u001b[0m \u001b[43m        \u001b[49m\u001b[43merror_class\u001b[49m\u001b[43m,\u001b[49m\n\u001b[0;32m    294\u001b[0m \u001b[43m        \u001b[49m\u001b[43merror_value\u001b[49m\u001b[43m,\u001b[49m\n\u001b[0;32m    295\u001b[0m \u001b[43m    \u001b[49m\u001b[43m)\u001b[49m\n\u001b[0;32m    296\u001b[0m     \u001b[38;5;28;01mif\u001b[39;00m \u001b[38;5;129;01mnot\u001b[39;00m handed_over:\n\u001b[0;32m    297\u001b[0m         \u001b[38;5;28;01mraise\u001b[39;00m Error\u001b[38;5;241m.\u001b[39merrorhandler_make_exception(\n\u001b[0;32m    298\u001b[0m             error_class,\n\u001b[0;32m    299\u001b[0m             error_value,\n\u001b[0;32m    300\u001b[0m         )\n",
      "File \u001b[1;32md:\\Users\\ksbha\\miniconda3\\envs\\footy\\Lib\\site-packages\\snowflake\\connector\\errors.py:345\u001b[0m, in \u001b[0;36mError.hand_to_other_handler\u001b[1;34m(connection, cursor, error_class, error_value)\u001b[0m\n\u001b[0;32m    343\u001b[0m \u001b[38;5;28;01mif\u001b[39;00m cursor \u001b[38;5;129;01mis\u001b[39;00m \u001b[38;5;129;01mnot\u001b[39;00m \u001b[38;5;28;01mNone\u001b[39;00m:\n\u001b[0;32m    344\u001b[0m     cursor\u001b[38;5;241m.\u001b[39mmessages\u001b[38;5;241m.\u001b[39mappend((error_class, error_value))\n\u001b[1;32m--> 345\u001b[0m     \u001b[43mcursor\u001b[49m\u001b[38;5;241;43m.\u001b[39;49m\u001b[43merrorhandler\u001b[49m\u001b[43m(\u001b[49m\u001b[43mconnection\u001b[49m\u001b[43m,\u001b[49m\u001b[43m \u001b[49m\u001b[43mcursor\u001b[49m\u001b[43m,\u001b[49m\u001b[43m \u001b[49m\u001b[43merror_class\u001b[49m\u001b[43m,\u001b[49m\u001b[43m \u001b[49m\u001b[43merror_value\u001b[49m\u001b[43m)\u001b[49m\n\u001b[0;32m    346\u001b[0m     \u001b[38;5;28;01mreturn\u001b[39;00m \u001b[38;5;28;01mTrue\u001b[39;00m\n\u001b[0;32m    347\u001b[0m \u001b[38;5;28;01melif\u001b[39;00m connection \u001b[38;5;129;01mis\u001b[39;00m \u001b[38;5;129;01mnot\u001b[39;00m \u001b[38;5;28;01mNone\u001b[39;00m:\n",
      "File \u001b[1;32md:\\Users\\ksbha\\miniconda3\\envs\\footy\\Lib\\site-packages\\snowflake\\connector\\errors.py:221\u001b[0m, in \u001b[0;36mError.default_errorhandler\u001b[1;34m(connection, cursor, error_class, error_value)\u001b[0m\n\u001b[0;32m    219\u001b[0m errno \u001b[38;5;241m=\u001b[39m error_value\u001b[38;5;241m.\u001b[39mget(\u001b[38;5;124m\"\u001b[39m\u001b[38;5;124merrno\u001b[39m\u001b[38;5;124m\"\u001b[39m)\n\u001b[0;32m    220\u001b[0m done_format_msg \u001b[38;5;241m=\u001b[39m error_value\u001b[38;5;241m.\u001b[39mget(\u001b[38;5;124m\"\u001b[39m\u001b[38;5;124mdone_format_msg\u001b[39m\u001b[38;5;124m\"\u001b[39m)\n\u001b[1;32m--> 221\u001b[0m \u001b[38;5;28;01mraise\u001b[39;00m error_class(\n\u001b[0;32m    222\u001b[0m     msg\u001b[38;5;241m=\u001b[39merror_value\u001b[38;5;241m.\u001b[39mget(\u001b[38;5;124m\"\u001b[39m\u001b[38;5;124mmsg\u001b[39m\u001b[38;5;124m\"\u001b[39m),\n\u001b[0;32m    223\u001b[0m     errno\u001b[38;5;241m=\u001b[39m\u001b[38;5;28;01mNone\u001b[39;00m \u001b[38;5;28;01mif\u001b[39;00m errno \u001b[38;5;129;01mis\u001b[39;00m \u001b[38;5;28;01mNone\u001b[39;00m \u001b[38;5;28;01melse\u001b[39;00m \u001b[38;5;28mint\u001b[39m(errno),\n\u001b[0;32m    224\u001b[0m     sqlstate\u001b[38;5;241m=\u001b[39merror_value\u001b[38;5;241m.\u001b[39mget(\u001b[38;5;124m\"\u001b[39m\u001b[38;5;124msqlstate\u001b[39m\u001b[38;5;124m\"\u001b[39m),\n\u001b[0;32m    225\u001b[0m     sfqid\u001b[38;5;241m=\u001b[39merror_value\u001b[38;5;241m.\u001b[39mget(\u001b[38;5;124m\"\u001b[39m\u001b[38;5;124msfqid\u001b[39m\u001b[38;5;124m\"\u001b[39m),\n\u001b[0;32m    226\u001b[0m     query\u001b[38;5;241m=\u001b[39merror_value\u001b[38;5;241m.\u001b[39mget(\u001b[38;5;124m\"\u001b[39m\u001b[38;5;124mquery\u001b[39m\u001b[38;5;124m\"\u001b[39m),\n\u001b[0;32m    227\u001b[0m     done_format_msg\u001b[38;5;241m=\u001b[39m(\n\u001b[0;32m    228\u001b[0m         \u001b[38;5;28;01mNone\u001b[39;00m \u001b[38;5;28;01mif\u001b[39;00m done_format_msg \u001b[38;5;129;01mis\u001b[39;00m \u001b[38;5;28;01mNone\u001b[39;00m \u001b[38;5;28;01melse\u001b[39;00m \u001b[38;5;28mbool\u001b[39m(done_format_msg)\n\u001b[0;32m    229\u001b[0m     ),\n\u001b[0;32m    230\u001b[0m     connection\u001b[38;5;241m=\u001b[39mconnection,\n\u001b[0;32m    231\u001b[0m     cursor\u001b[38;5;241m=\u001b[39mcursor,\n\u001b[0;32m    232\u001b[0m )\n",
      "\u001b[1;31mProgrammingError\u001b[0m: 002003 (42S02): SQL compilation error:\nObject 'TEAM_GOAL_OUTPUT' does not exist or not authorized."
     ]
    }
   ],
   "source": [
    "upsert_to_snowflake(\"TEAM_GOAL_OUTPUT\", team_goal_output[['SEASON', 'COMPETITION_ACRONYM', 'TEAM_NAME', 'TEAM_LOGO_URL',\n",
    "                    'EXPECTED_GOALS_AGAINST_PER_GAME', 'NON_PENALTY_EXPECTED_GOALS_PER_GAME']],\n",
    "                    ['SEASON', 'COMPETITION_ACRONYM', 'TEAM_NAME'])"
   ]
  },
  {
   "cell_type": "code",
   "execution_count": 37,
   "metadata": {},
   "outputs": [],
   "source": [
    "team_defending_chart.columns = team_defending_chart.columns.str.replace(\" \", \"_\")"
   ]
  },
  {
   "cell_type": "code",
   "execution_count": 38,
   "metadata": {},
   "outputs": [],
   "source": [
    "team_defending_chart.rename(columns={'TACKLES_WON_RATIO_(%)':'TACKLES_WON_RATIO',\n",
    "                                     'OPPOSITION_CONVERSION_RATE_(%)':'OPPOSITION_CONVERSION_RATE'}, inplace=True)"
   ]
  },
  {
   "cell_type": "code",
   "execution_count": 39,
   "metadata": {},
   "outputs": [
    {
     "data": {
      "text/plain": [
       "(292, 26)"
      ]
     },
     "execution_count": 39,
     "metadata": {},
     "output_type": "execute_result"
    }
   ],
   "source": [
    "team_defending_chart.shape"
   ]
  },
  {
   "cell_type": "code",
   "execution_count": null,
   "metadata": {},
   "outputs": [],
   "source": [
    "upsert_to_snowflake(\"TEAM_DEFENDING_CHART\", team_defending_chart[['SEASON', 'COMPETITION_ACRONYM', 'TEAM_NAME', 'TEAM_LOGO_URL',\n",
    "                    'BLOCKS_PER_GAME', 'CLEARANCES_PER_GAME', 'SHOTS_FACED_PER_GAME', 'OPPOSITION_CONVERSION_RATE',\n",
    "                    'CONCEDED_PER_GAME', 'TACKLES_ATTEMPTED_PER_GAME', 'TACKLES_WON_RATIO']],\n",
    "                    ['SEASON', 'COMPETITION_ACRONYM', 'TEAM_NAME'])"
   ]
  },
  {
   "cell_type": "code",
   "execution_count": 40,
   "metadata": {},
   "outputs": [
    {
     "data": {
      "text/plain": [
       "'RADAR_CHARTS'"
      ]
     },
     "execution_count": 40,
     "metadata": {},
     "output_type": "execute_result"
    }
   ],
   "source": [
    "SNOWFLAKE_SCHEMA"
   ]
  },
  {
   "cell_type": "code",
   "execution_count": 41,
   "metadata": {},
   "outputs": [],
   "source": [
    "cur = conn.cursor()"
   ]
  },
  {
   "cell_type": "code",
   "execution_count": 42,
   "metadata": {},
   "outputs": [],
   "source": [
    "team_defending_chart = fetch_data(cursor, 'SELECT * FROM GEGENSTATS.RADAR_CHARTS.TEAM_DEFENDING_CHART')"
   ]
  },
  {
   "cell_type": "code",
   "execution_count": 43,
   "metadata": {},
   "outputs": [],
   "source": [
    "team_goal_output = fetch_data(cursor, 'SELECT * FROM GEGENSTATS.RADAR_CHARTS.TEAM_GOAL_OUTPUT')"
   ]
  },
  {
   "cell_type": "code",
   "execution_count": 44,
   "metadata": {},
   "outputs": [],
   "source": [
    "team_defending_chart.rename(columns={'BLOCKS_PER_GAME':'BLOCKS PER GAME', 'CLEARANCES_PER_GAME':'CLEARANCES PER GAME',\n",
    "                                    'SHOTS_FACED_PER_GAME':'SHOTS FACED PER GAME', 'OPPOSITION_CONVERSION_RATE':'OPPOSITION CONVERSION RATE (%)',\n",
    "                                    'CONCEDED_PER_GAME':'CONCEDED PER GAME', 'TACKLES_ATTEMPTED_PER_GAME':'TACKLES ATTEMPTED PER GAME',\n",
    "                                    'TACKLES_WON_RATIO':'TACKLES WON RATIO (%)'}, inplace=True)"
   ]
  },
  {
   "cell_type": "code",
   "execution_count": 45,
   "metadata": {},
   "outputs": [],
   "source": [
    "team_goal_output.rename(columns={'EXPECTED_GOALS_AGAINST_PER_GAME':'EXPECTED GOALS AGAINST PER GAME',\n",
    "                                'NON_PENALTY_EXPECTED_GOALS_PER_GAME':'NON PENALTY EXPECTED GOALS PER GAME'}, inplace=True)"
   ]
  },
  {
   "cell_type": "code",
   "execution_count": null,
   "metadata": {},
   "outputs": [],
   "source": []
  },
  {
   "cell_type": "code",
   "execution_count": 46,
   "metadata": {},
   "outputs": [],
   "source": [
    "def create_FM_team_scatter_chart(df, chart_name, team_name, x_axis_label, y_axis_label, img_size, x_min, x_max, y_min, y_max, bottom_left_label, \n",
    "                                 bottom_right_label, top_left_label, top_right_label, bl_color, br_color, tl_color, tr_color):\n",
    "    fig = go.Figure()\n",
    "    x_axis_mean_val = df[x_axis_label].mean()\n",
    "    y_axis_mean_val = df[y_axis_label].mean()\n",
    "\n",
    "    # Add the scatter plot points\n",
    "    for index, row in df.iterrows():\n",
    "        fig.add_trace(go.Scatter(\n",
    "            x=[row[x_axis_label]],\n",
    "            y=[row[y_axis_label]],\n",
    "            mode='markers',\n",
    "            text=row[\"TEAM_NAME\"],\n",
    "            marker=dict(\n",
    "                opacity=0\n",
    "            ),\n",
    "            hoverinfo='text',\n",
    "        ))\n",
    "\n",
    "        # Add team logo as a layout_image\n",
    "        fig.add_layout_image(\n",
    "            dict(\n",
    "                source=row[\"TEAM_LOGO_URL\"],\n",
    "                x=row[x_axis_label],\n",
    "                y=row[y_axis_label],\n",
    "                xref=\"x\",\n",
    "                yref=\"y\",\n",
    "                xanchor=\"center\",\n",
    "                yanchor=\"middle\"\n",
    "            )\n",
    "        )\n",
    "\n",
    "\n",
    "    # Update axes and layout as necessary\n",
    "    # ...\n",
    "        \n",
    "    fig.update_xaxes(range=[x_min, x_max], title=x_axis_label)\n",
    "    fig.update_yaxes(range=[y_min, y_max], title=y_axis_label)\n",
    "\n",
    "    fig.add_shape(\n",
    "        type='line',\n",
    "        x0=x_axis_mean_val, y0=fig.layout.yaxis.range[0],  # start of the line\n",
    "        x1=x_axis_mean_val, y1=fig.layout.yaxis.range[1],  # end of the line\n",
    "        line=dict(color='White', width=3),\n",
    "        layer='below'\n",
    "    )\n",
    "\n",
    "    # Add a horizontal line at the mean aerials attempted per game\n",
    "    fig.add_shape(\n",
    "        type='line',\n",
    "        x0=fig.layout.xaxis.range[0], y0=y_axis_mean_val,  # start of the line\n",
    "        x1=fig.layout.xaxis.range[1], y1=y_axis_mean_val,  # end of the line\n",
    "        line=dict(color='White', width=3),\n",
    "        layer='below'\n",
    "    )\n",
    "\n",
    "    fig.update_layout(\n",
    "        width=625,\n",
    "        height=625,\n",
    "        showlegend=False,\n",
    "        paper_bgcolor='rgb(70, 70, 70)',\n",
    "        plot_bgcolor='rgb(70, 70, 70)',\n",
    "        font=dict(\n",
    "                family=\"Roboto, sans-serif\",  # Specify the font family\n",
    "                size=25,                     # Specify the font size\n",
    "                color=\"white\"                # Specify the font color\n",
    "            ),\n",
    "        hoverlabel=dict(\n",
    "                bgcolor=\"rgba(20, 20, 20, 0.8)\",\n",
    "                font_family=\"Roboto, sans-serif\"),\n",
    "        title={\n",
    "            'text': f'{chart_name}',\n",
    "            'y':0.98,  # Sets the y position of the title (1 is the top of the figure)\n",
    "            'x':0.5,  # Centers the title horizontally (0.5 is the center of the figure)\n",
    "            'xanchor': 'center',  # Ensures the title is centered at the x position\n",
    "            'yanchor': 'top',  # Ensures the title is at the top of the y position\n",
    "            'font': dict(\n",
    "                family=\"Roboto, sans-serif\",  # Specify the font family\n",
    "                size=23,                     # Specify the font size\n",
    "                color=\"white\"                # Specify the font color\n",
    "            )\n",
    "        },\n",
    "        margin=dict(l=10, r=30, t=50, b=10),\n",
    "        images= [dict(\n",
    "            source= row[\"TEAM_LOGO_URL\"],\n",
    "            xref=\"x\",\n",
    "            yref=\"y\",\n",
    "            x= row[x_axis_label],\n",
    "            y= row[y_axis_label],\n",
    "            sizex=img_size*1.8 if row['TEAM_NAME'] == team_name else img_size,  # The size of the image in x axis units\n",
    "            sizey=img_size*1.8 if row['TEAM_NAME'] == team_name else img_size,  # The size of the image in y axis units\n",
    "            sizing=\"contain\",\n",
    "            opacity=1 if row['TEAM_NAME'] == team_name else 0.35,\n",
    "            layer=\"above\") for index, row in df.iterrows()]\n",
    "    )\n",
    "\n",
    "    fig.update_xaxes(\n",
    "        title=dict(font=dict(size=25)),\n",
    "        showline=True,  # Show the axis line\n",
    "        linewidth=2,  # Width of the axis line\n",
    "        linecolor='white',  # Color of the axis line\n",
    "        gridcolor='rgba(0,0,0,0)',  # Set grid line color to transparent\n",
    "        tickfont=dict(color='white', size=15),  # Set the color of the axis ticks (numbers)\n",
    "    )\n",
    "\n",
    "    fig.update_yaxes(\n",
    "        title=dict(font=dict(size=25)),\n",
    "        showline=True,\n",
    "        linewidth=2,\n",
    "        linecolor='white',\n",
    "        gridcolor='rgba(0,0,0,0)',\n",
    "        tickfont=dict(color='white', size=15),\n",
    "    )\n",
    "\n",
    "    fig.add_annotation(text=bottom_left_label,\n",
    "                    xref=\"paper\", yref=\"paper\",\n",
    "                    x=0, y=0,  # Bottom left corner\n",
    "                    showarrow=False,\n",
    "                    font=dict(size=15, color=bl_color, family=\"Roboto, sans-serif\"),\n",
    "                    align=\"left\")\n",
    "\n",
    "    fig.add_annotation(text=top_left_label,\n",
    "                    xref=\"paper\", yref=\"paper\",\n",
    "                    x=0, y=1,  # Top left corner\n",
    "                    showarrow=False,\n",
    "                    font=dict(size=15, color=tl_color, family=\"Roboto, sans-serif\"),\n",
    "                    align=\"left\")\n",
    "\n",
    "    fig.add_annotation(text=top_right_label,\n",
    "                    xref=\"paper\", yref=\"paper\",\n",
    "                    x=1, y=1,  # Top right corner\n",
    "                    showarrow=False,\n",
    "                    font=dict(size=15, color=tr_color, family=\"Roboto, sans-serif\"),\n",
    "                    align=\"right\")\n",
    "\n",
    "    fig.add_annotation(text=bottom_right_label,\n",
    "                    xref=\"paper\", yref=\"paper\",\n",
    "                    x=1, y=0,  # Bottom right corner\n",
    "                    showarrow=False,\n",
    "                    font=dict(size=15, color=br_color, family=\"Roboto, sans-serif\"),\n",
    "                    align=\"right\")\n",
    "\n",
    "    return fig"
   ]
  },
  {
   "cell_type": "code",
   "execution_count": null,
   "metadata": {},
   "outputs": [],
   "source": []
  },
  {
   "cell_type": "code",
   "execution_count": 47,
   "metadata": {},
   "outputs": [],
   "source": [
    "league_selected = 'Serie A'\n",
    "season_selected = 2324"
   ]
  },
  {
   "cell_type": "code",
   "execution_count": 48,
   "metadata": {},
   "outputs": [],
   "source": [
    "filtered_team_misc = team_misc[team_misc['SEASON'] == season_selected]\n",
    "filtered_team_misc = filtered_team_misc[filtered_team_misc['COMPETITION_ACRONYM'] == league_selected]\n",
    "filtered_team_goal_output = team_goal_output[team_goal_output['SEASON'] == season_selected]\n",
    "filtered_team_goal_output = filtered_team_goal_output[filtered_team_goal_output['COMPETITION_ACRONYM'] == league_selected]\n",
    "filtered_team_defending_chart = team_defending_chart[team_defending_chart['SEASON'] == season_selected]\n",
    "filtered_team_defending_chart = filtered_team_defending_chart[filtered_team_defending_chart['COMPETITION_ACRONYM'] == league_selected]\n",
    "\n",
    "filtered_matches = df_matches[df_matches['SEASON'] == season_selected]"
   ]
  },
  {
   "cell_type": "code",
   "execution_count": null,
   "metadata": {},
   "outputs": [],
   "source": []
  },
  {
   "cell_type": "code",
   "execution_count": null,
   "metadata": {},
   "outputs": [],
   "source": []
  },
  {
   "cell_type": "code",
   "execution_count": 51,
   "metadata": {},
   "outputs": [
    {
     "data": {
      "application/vnd.plotly.v1+json": {
       "config": {
        "plotlyServerURL": "https://plotly.com"
       },
       "data": [],
       "layout": {
        "annotations": [
         {
          "align": "left",
          "font": {
           "color": "red",
           "family": "Roboto, sans-serif",
           "size": 15
          },
          "showarrow": false,
          "text": "Fewer Duels<br>Poor Dueling",
          "x": 0,
          "xref": "paper",
          "y": 0,
          "yref": "paper"
         },
         {
          "align": "left",
          "font": {
           "color": "orange",
           "family": "Roboto, sans-serif",
           "size": 15
          },
          "showarrow": false,
          "text": "Lots of Duels<br>Poor Dueling",
          "x": 0,
          "xref": "paper",
          "y": 1,
          "yref": "paper"
         },
         {
          "align": "right",
          "font": {
           "color": "green",
           "family": "Roboto, sans-serif",
           "size": 15
          },
          "showarrow": false,
          "text": "Lots of Duels<br>Strong Dueling",
          "x": 1,
          "xref": "paper",
          "y": 1,
          "yref": "paper"
         },
         {
          "align": "right",
          "font": {
           "color": "orange",
           "family": "Roboto, sans-serif",
           "size": 15
          },
          "showarrow": false,
          "text": "Fewer Duels<br>Strong Dueling",
          "x": 1,
          "xref": "paper",
          "y": 0,
          "yref": "paper"
         }
        ],
        "font": {
         "color": "white",
         "family": "Roboto, sans-serif",
         "size": 25
        },
        "height": 625,
        "hoverlabel": {
         "bgcolor": "rgba(20, 20, 20, 0.8)",
         "font": {
          "family": "Roboto, sans-serif"
         }
        },
        "margin": {
         "b": 10,
         "l": 10,
         "r": 30,
         "t": 50
        },
        "paper_bgcolor": "rgb(70, 70, 70)",
        "plot_bgcolor": "rgb(70, 70, 70)",
        "shapes": [
         {
          "layer": "below",
          "line": {
           "color": "White",
           "width": 3
          },
          "type": "line",
          "x0": null,
          "x1": null,
          "y0": 10,
          "y1": 50
         },
         {
          "layer": "below",
          "line": {
           "color": "White",
           "width": 3
          },
          "type": "line",
          "x0": 40,
          "x1": 60,
          "y0": null,
          "y1": null
         }
        ],
        "showlegend": false,
        "template": {
         "data": {
          "bar": [
           {
            "error_x": {
             "color": "#2a3f5f"
            },
            "error_y": {
             "color": "#2a3f5f"
            },
            "marker": {
             "line": {
              "color": "#E5ECF6",
              "width": 0.5
             },
             "pattern": {
              "fillmode": "overlay",
              "size": 10,
              "solidity": 0.2
             }
            },
            "type": "bar"
           }
          ],
          "barpolar": [
           {
            "marker": {
             "line": {
              "color": "#E5ECF6",
              "width": 0.5
             },
             "pattern": {
              "fillmode": "overlay",
              "size": 10,
              "solidity": 0.2
             }
            },
            "type": "barpolar"
           }
          ],
          "carpet": [
           {
            "aaxis": {
             "endlinecolor": "#2a3f5f",
             "gridcolor": "white",
             "linecolor": "white",
             "minorgridcolor": "white",
             "startlinecolor": "#2a3f5f"
            },
            "baxis": {
             "endlinecolor": "#2a3f5f",
             "gridcolor": "white",
             "linecolor": "white",
             "minorgridcolor": "white",
             "startlinecolor": "#2a3f5f"
            },
            "type": "carpet"
           }
          ],
          "choropleth": [
           {
            "colorbar": {
             "outlinewidth": 0,
             "ticks": ""
            },
            "type": "choropleth"
           }
          ],
          "contour": [
           {
            "colorbar": {
             "outlinewidth": 0,
             "ticks": ""
            },
            "colorscale": [
             [
              0,
              "#0d0887"
             ],
             [
              0.1111111111111111,
              "#46039f"
             ],
             [
              0.2222222222222222,
              "#7201a8"
             ],
             [
              0.3333333333333333,
              "#9c179e"
             ],
             [
              0.4444444444444444,
              "#bd3786"
             ],
             [
              0.5555555555555556,
              "#d8576b"
             ],
             [
              0.6666666666666666,
              "#ed7953"
             ],
             [
              0.7777777777777778,
              "#fb9f3a"
             ],
             [
              0.8888888888888888,
              "#fdca26"
             ],
             [
              1,
              "#f0f921"
             ]
            ],
            "type": "contour"
           }
          ],
          "contourcarpet": [
           {
            "colorbar": {
             "outlinewidth": 0,
             "ticks": ""
            },
            "type": "contourcarpet"
           }
          ],
          "heatmap": [
           {
            "colorbar": {
             "outlinewidth": 0,
             "ticks": ""
            },
            "colorscale": [
             [
              0,
              "#0d0887"
             ],
             [
              0.1111111111111111,
              "#46039f"
             ],
             [
              0.2222222222222222,
              "#7201a8"
             ],
             [
              0.3333333333333333,
              "#9c179e"
             ],
             [
              0.4444444444444444,
              "#bd3786"
             ],
             [
              0.5555555555555556,
              "#d8576b"
             ],
             [
              0.6666666666666666,
              "#ed7953"
             ],
             [
              0.7777777777777778,
              "#fb9f3a"
             ],
             [
              0.8888888888888888,
              "#fdca26"
             ],
             [
              1,
              "#f0f921"
             ]
            ],
            "type": "heatmap"
           }
          ],
          "heatmapgl": [
           {
            "colorbar": {
             "outlinewidth": 0,
             "ticks": ""
            },
            "colorscale": [
             [
              0,
              "#0d0887"
             ],
             [
              0.1111111111111111,
              "#46039f"
             ],
             [
              0.2222222222222222,
              "#7201a8"
             ],
             [
              0.3333333333333333,
              "#9c179e"
             ],
             [
              0.4444444444444444,
              "#bd3786"
             ],
             [
              0.5555555555555556,
              "#d8576b"
             ],
             [
              0.6666666666666666,
              "#ed7953"
             ],
             [
              0.7777777777777778,
              "#fb9f3a"
             ],
             [
              0.8888888888888888,
              "#fdca26"
             ],
             [
              1,
              "#f0f921"
             ]
            ],
            "type": "heatmapgl"
           }
          ],
          "histogram": [
           {
            "marker": {
             "pattern": {
              "fillmode": "overlay",
              "size": 10,
              "solidity": 0.2
             }
            },
            "type": "histogram"
           }
          ],
          "histogram2d": [
           {
            "colorbar": {
             "outlinewidth": 0,
             "ticks": ""
            },
            "colorscale": [
             [
              0,
              "#0d0887"
             ],
             [
              0.1111111111111111,
              "#46039f"
             ],
             [
              0.2222222222222222,
              "#7201a8"
             ],
             [
              0.3333333333333333,
              "#9c179e"
             ],
             [
              0.4444444444444444,
              "#bd3786"
             ],
             [
              0.5555555555555556,
              "#d8576b"
             ],
             [
              0.6666666666666666,
              "#ed7953"
             ],
             [
              0.7777777777777778,
              "#fb9f3a"
             ],
             [
              0.8888888888888888,
              "#fdca26"
             ],
             [
              1,
              "#f0f921"
             ]
            ],
            "type": "histogram2d"
           }
          ],
          "histogram2dcontour": [
           {
            "colorbar": {
             "outlinewidth": 0,
             "ticks": ""
            },
            "colorscale": [
             [
              0,
              "#0d0887"
             ],
             [
              0.1111111111111111,
              "#46039f"
             ],
             [
              0.2222222222222222,
              "#7201a8"
             ],
             [
              0.3333333333333333,
              "#9c179e"
             ],
             [
              0.4444444444444444,
              "#bd3786"
             ],
             [
              0.5555555555555556,
              "#d8576b"
             ],
             [
              0.6666666666666666,
              "#ed7953"
             ],
             [
              0.7777777777777778,
              "#fb9f3a"
             ],
             [
              0.8888888888888888,
              "#fdca26"
             ],
             [
              1,
              "#f0f921"
             ]
            ],
            "type": "histogram2dcontour"
           }
          ],
          "mesh3d": [
           {
            "colorbar": {
             "outlinewidth": 0,
             "ticks": ""
            },
            "type": "mesh3d"
           }
          ],
          "parcoords": [
           {
            "line": {
             "colorbar": {
              "outlinewidth": 0,
              "ticks": ""
             }
            },
            "type": "parcoords"
           }
          ],
          "pie": [
           {
            "automargin": true,
            "type": "pie"
           }
          ],
          "scatter": [
           {
            "fillpattern": {
             "fillmode": "overlay",
             "size": 10,
             "solidity": 0.2
            },
            "type": "scatter"
           }
          ],
          "scatter3d": [
           {
            "line": {
             "colorbar": {
              "outlinewidth": 0,
              "ticks": ""
             }
            },
            "marker": {
             "colorbar": {
              "outlinewidth": 0,
              "ticks": ""
             }
            },
            "type": "scatter3d"
           }
          ],
          "scattercarpet": [
           {
            "marker": {
             "colorbar": {
              "outlinewidth": 0,
              "ticks": ""
             }
            },
            "type": "scattercarpet"
           }
          ],
          "scattergeo": [
           {
            "marker": {
             "colorbar": {
              "outlinewidth": 0,
              "ticks": ""
             }
            },
            "type": "scattergeo"
           }
          ],
          "scattergl": [
           {
            "marker": {
             "colorbar": {
              "outlinewidth": 0,
              "ticks": ""
             }
            },
            "type": "scattergl"
           }
          ],
          "scattermapbox": [
           {
            "marker": {
             "colorbar": {
              "outlinewidth": 0,
              "ticks": ""
             }
            },
            "type": "scattermapbox"
           }
          ],
          "scatterpolar": [
           {
            "marker": {
             "colorbar": {
              "outlinewidth": 0,
              "ticks": ""
             }
            },
            "type": "scatterpolar"
           }
          ],
          "scatterpolargl": [
           {
            "marker": {
             "colorbar": {
              "outlinewidth": 0,
              "ticks": ""
             }
            },
            "type": "scatterpolargl"
           }
          ],
          "scatterternary": [
           {
            "marker": {
             "colorbar": {
              "outlinewidth": 0,
              "ticks": ""
             }
            },
            "type": "scatterternary"
           }
          ],
          "surface": [
           {
            "colorbar": {
             "outlinewidth": 0,
             "ticks": ""
            },
            "colorscale": [
             [
              0,
              "#0d0887"
             ],
             [
              0.1111111111111111,
              "#46039f"
             ],
             [
              0.2222222222222222,
              "#7201a8"
             ],
             [
              0.3333333333333333,
              "#9c179e"
             ],
             [
              0.4444444444444444,
              "#bd3786"
             ],
             [
              0.5555555555555556,
              "#d8576b"
             ],
             [
              0.6666666666666666,
              "#ed7953"
             ],
             [
              0.7777777777777778,
              "#fb9f3a"
             ],
             [
              0.8888888888888888,
              "#fdca26"
             ],
             [
              1,
              "#f0f921"
             ]
            ],
            "type": "surface"
           }
          ],
          "table": [
           {
            "cells": {
             "fill": {
              "color": "#EBF0F8"
             },
             "line": {
              "color": "white"
             }
            },
            "header": {
             "fill": {
              "color": "#C8D4E3"
             },
             "line": {
              "color": "white"
             }
            },
            "type": "table"
           }
          ]
         },
         "layout": {
          "annotationdefaults": {
           "arrowcolor": "#2a3f5f",
           "arrowhead": 0,
           "arrowwidth": 1
          },
          "autotypenumbers": "strict",
          "coloraxis": {
           "colorbar": {
            "outlinewidth": 0,
            "ticks": ""
           }
          },
          "colorscale": {
           "diverging": [
            [
             0,
             "#8e0152"
            ],
            [
             0.1,
             "#c51b7d"
            ],
            [
             0.2,
             "#de77ae"
            ],
            [
             0.3,
             "#f1b6da"
            ],
            [
             0.4,
             "#fde0ef"
            ],
            [
             0.5,
             "#f7f7f7"
            ],
            [
             0.6,
             "#e6f5d0"
            ],
            [
             0.7,
             "#b8e186"
            ],
            [
             0.8,
             "#7fbc41"
            ],
            [
             0.9,
             "#4d9221"
            ],
            [
             1,
             "#276419"
            ]
           ],
           "sequential": [
            [
             0,
             "#0d0887"
            ],
            [
             0.1111111111111111,
             "#46039f"
            ],
            [
             0.2222222222222222,
             "#7201a8"
            ],
            [
             0.3333333333333333,
             "#9c179e"
            ],
            [
             0.4444444444444444,
             "#bd3786"
            ],
            [
             0.5555555555555556,
             "#d8576b"
            ],
            [
             0.6666666666666666,
             "#ed7953"
            ],
            [
             0.7777777777777778,
             "#fb9f3a"
            ],
            [
             0.8888888888888888,
             "#fdca26"
            ],
            [
             1,
             "#f0f921"
            ]
           ],
           "sequentialminus": [
            [
             0,
             "#0d0887"
            ],
            [
             0.1111111111111111,
             "#46039f"
            ],
            [
             0.2222222222222222,
             "#7201a8"
            ],
            [
             0.3333333333333333,
             "#9c179e"
            ],
            [
             0.4444444444444444,
             "#bd3786"
            ],
            [
             0.5555555555555556,
             "#d8576b"
            ],
            [
             0.6666666666666666,
             "#ed7953"
            ],
            [
             0.7777777777777778,
             "#fb9f3a"
            ],
            [
             0.8888888888888888,
             "#fdca26"
            ],
            [
             1,
             "#f0f921"
            ]
           ]
          },
          "colorway": [
           "#636efa",
           "#EF553B",
           "#00cc96",
           "#ab63fa",
           "#FFA15A",
           "#19d3f3",
           "#FF6692",
           "#B6E880",
           "#FF97FF",
           "#FECB52"
          ],
          "font": {
           "color": "#2a3f5f"
          },
          "geo": {
           "bgcolor": "white",
           "lakecolor": "white",
           "landcolor": "#E5ECF6",
           "showlakes": true,
           "showland": true,
           "subunitcolor": "white"
          },
          "hoverlabel": {
           "align": "left"
          },
          "hovermode": "closest",
          "mapbox": {
           "style": "light"
          },
          "paper_bgcolor": "white",
          "plot_bgcolor": "#E5ECF6",
          "polar": {
           "angularaxis": {
            "gridcolor": "white",
            "linecolor": "white",
            "ticks": ""
           },
           "bgcolor": "#E5ECF6",
           "radialaxis": {
            "gridcolor": "white",
            "linecolor": "white",
            "ticks": ""
           }
          },
          "scene": {
           "xaxis": {
            "backgroundcolor": "#E5ECF6",
            "gridcolor": "white",
            "gridwidth": 2,
            "linecolor": "white",
            "showbackground": true,
            "ticks": "",
            "zerolinecolor": "white"
           },
           "yaxis": {
            "backgroundcolor": "#E5ECF6",
            "gridcolor": "white",
            "gridwidth": 2,
            "linecolor": "white",
            "showbackground": true,
            "ticks": "",
            "zerolinecolor": "white"
           },
           "zaxis": {
            "backgroundcolor": "#E5ECF6",
            "gridcolor": "white",
            "gridwidth": 2,
            "linecolor": "white",
            "showbackground": true,
            "ticks": "",
            "zerolinecolor": "white"
           }
          },
          "shapedefaults": {
           "line": {
            "color": "#2a3f5f"
           }
          },
          "ternary": {
           "aaxis": {
            "gridcolor": "white",
            "linecolor": "white",
            "ticks": ""
           },
           "baxis": {
            "gridcolor": "white",
            "linecolor": "white",
            "ticks": ""
           },
           "bgcolor": "#E5ECF6",
           "caxis": {
            "gridcolor": "white",
            "linecolor": "white",
            "ticks": ""
           }
          },
          "title": {
           "x": 0.05
          },
          "xaxis": {
           "automargin": true,
           "gridcolor": "white",
           "linecolor": "white",
           "ticks": "",
           "title": {
            "standoff": 15
           },
           "zerolinecolor": "white",
           "zerolinewidth": 2
          },
          "yaxis": {
           "automargin": true,
           "gridcolor": "white",
           "linecolor": "white",
           "ticks": "",
           "title": {
            "standoff": 15
           },
           "zerolinecolor": "white",
           "zerolinewidth": 2
          }
         }
        },
        "title": {
         "font": {
          "color": "white",
          "family": "Roboto, sans-serif",
          "size": 23
         },
         "text": "AERIAL",
         "x": 0.5,
         "xanchor": "center",
         "y": 0.98,
         "yanchor": "top"
        },
        "width": 625,
        "xaxis": {
         "gridcolor": "rgba(0,0,0,0)",
         "linecolor": "white",
         "linewidth": 2,
         "range": [
          40,
          60
         ],
         "showline": true,
         "tickfont": {
          "color": "white",
          "size": 15
         },
         "title": {
          "font": {
           "size": 25
          },
          "text": "AERIAL DUELS WON RATIO (%)"
         }
        },
        "yaxis": {
         "gridcolor": "rgba(0,0,0,0)",
         "linecolor": "white",
         "linewidth": 2,
         "range": [
          10,
          50
         ],
         "showline": true,
         "tickfont": {
          "color": "white",
          "size": 15
         },
         "title": {
          "font": {
           "size": 25
          },
          "text": "AERIAL DUELS ATTEMPTED PER GAME"
         }
        }
       }
      }
     },
     "metadata": {},
     "output_type": "display_data"
    }
   ],
   "source": [
    "create_FM_team_scatter_chart(filtered_team_misc, 'AERIAL', \"Arsenal\", 'AERIAL DUELS WON RATIO (%)', 'AERIAL DUELS ATTEMPTED PER GAME', \n",
    "                                                            1.45, x_min_aerial, x_max_aerial, y_min_aerial, y_max_aerial, \n",
    "                                                            \"Fewer Duels<br>Poor Dueling\", \"Fewer Duels<br>Strong Dueling\",\n",
    "                                                            \"Lots of Duels<br>Poor Dueling\", \"Lots of Duels<br>Strong Dueling\", \"red\", \n",
    "                                                            \"orange\", \"orange\", \"green\")"
   ]
  },
  {
   "cell_type": "code",
   "execution_count": null,
   "metadata": {},
   "outputs": [],
   "source": []
  },
  {
   "cell_type": "code",
   "execution_count": 44,
   "metadata": {},
   "outputs": [],
   "source": [
    "x_min_goal_output = 0.45\n",
    "x_max_goal_output = 2.60\n",
    "y_min_goal_output = 0.5\n",
    "y_max_goal_output = 3.0"
   ]
  },
  {
   "cell_type": "code",
   "execution_count": 45,
   "metadata": {},
   "outputs": [
    {
     "data": {
      "application/vnd.plotly.v1+json": {
       "config": {
        "plotlyServerURL": "https://plotly.com"
       },
       "data": [
        {
         "hoverinfo": "text",
         "marker": {
          "opacity": 0
         },
         "mode": "markers",
         "text": "Hellas Verona",
         "type": "scatter",
         "x": [
          1.508571429
         ],
         "y": [
          0.7667857143
         ]
        },
        {
         "hoverinfo": "text",
         "marker": {
          "opacity": 0
         },
         "mode": "markers",
         "text": "AC Milan",
         "type": "scatter",
         "x": [
          1.240357143
         ],
         "y": [
          1.5
         ]
        },
        {
         "hoverinfo": "text",
         "marker": {
          "opacity": 0
         },
         "mode": "markers",
         "text": "Fiorentina",
         "type": "scatter",
         "x": [
          1.405357143
         ],
         "y": [
          1.238928571
         ]
        },
        {
         "hoverinfo": "text",
         "marker": {
          "opacity": 0
         },
         "mode": "markers",
         "text": "Sassuolo",
         "type": "scatter",
         "x": [
          1.720357143
         ],
         "y": [
          1.021428571
         ]
        },
        {
         "hoverinfo": "text",
         "marker": {
          "opacity": 0
         },
         "mode": "markers",
         "text": "Lecce",
         "type": "scatter",
         "x": [
          1.842142857
         ],
         "y": [
          1.0225
         ]
        },
        {
         "hoverinfo": "text",
         "marker": {
          "opacity": 0
         },
         "mode": "markers",
         "text": "Genoa",
         "type": "scatter",
         "x": [
          1.275
         ],
         "y": [
          0.9028571429
         ]
        },
        {
         "hoverinfo": "text",
         "marker": {
          "opacity": 0
         },
         "mode": "markers",
         "text": "Inter",
         "type": "scatter",
         "x": [
          0.8132142857
         ],
         "y": [
          2.027142857
         ]
        },
        {
         "hoverinfo": "text",
         "marker": {
          "opacity": 0
         },
         "mode": "markers",
         "text": "Lazio",
         "type": "scatter",
         "x": [
          1.233928571
         ],
         "y": [
          1.193571429
         ]
        },
        {
         "hoverinfo": "text",
         "marker": {
          "opacity": 0
         },
         "mode": "markers",
         "text": "Torino",
         "type": "scatter",
         "x": [
          1.003928571
         ],
         "y": [
          1.089285714
         ]
        },
        {
         "hoverinfo": "text",
         "marker": {
          "opacity": 0
         },
         "mode": "markers",
         "text": "Monza",
         "type": "scatter",
         "x": [
          1.606785714
         ],
         "y": [
          1.144642857
         ]
        },
        {
         "hoverinfo": "text",
         "marker": {
          "opacity": 0
         },
         "mode": "markers",
         "text": "Atalanta",
         "type": "scatter",
         "x": [
          1.206428571
         ],
         "y": [
          1.651428571
         ]
        },
        {
         "hoverinfo": "text",
         "marker": {
          "opacity": 0
         },
         "mode": "markers",
         "text": "Udinese",
         "type": "scatter",
         "x": [
          1.426071429
         ],
         "y": [
          1.148571429
         ]
        },
        {
         "hoverinfo": "text",
         "marker": {
          "opacity": 0
         },
         "mode": "markers",
         "text": "Juventus",
         "type": "scatter",
         "x": [
          0.7753571429
         ],
         "y": [
          1.609642857
         ]
        },
        {
         "hoverinfo": "text",
         "marker": {
          "opacity": 0
         },
         "mode": "markers",
         "text": "Frosinone",
         "type": "scatter",
         "x": [
          1.743571429
         ],
         "y": [
          1.073571429
         ]
        },
        {
         "hoverinfo": "text",
         "marker": {
          "opacity": 0
         },
         "mode": "markers",
         "text": "Bologna",
         "type": "scatter",
         "x": [
          1.0875
         ],
         "y": [
          1.336428571
         ]
        },
        {
         "hoverinfo": "text",
         "marker": {
          "opacity": 0
         },
         "mode": "markers",
         "text": "Empoli",
         "type": "scatter",
         "x": [
          1.510357143
         ],
         "y": [
          0.9585714286
         ]
        },
        {
         "hoverinfo": "text",
         "marker": {
          "opacity": 0
         },
         "mode": "markers",
         "text": "Cagliari",
         "type": "scatter",
         "x": [
          1.705357143
         ],
         "y": [
          1.1325
         ]
        },
        {
         "hoverinfo": "text",
         "marker": {
          "opacity": 0
         },
         "mode": "markers",
         "text": "Napoli",
         "type": "scatter",
         "x": [
          1.061785714
         ],
         "y": [
          1.539285714
         ]
        },
        {
         "hoverinfo": "text",
         "marker": {
          "opacity": 0
         },
         "mode": "markers",
         "text": "Roma",
         "type": "scatter",
         "x": [
          1.089642857
         ],
         "y": [
          1.2825
         ]
        },
        {
         "hoverinfo": "text",
         "marker": {
          "opacity": 0
         },
         "mode": "markers",
         "text": "Salernitana",
         "type": "scatter",
         "x": [
          2.027857143
         ],
         "y": [
          0.7582142857
         ]
        }
       ],
       "layout": {
        "annotations": [
         {
          "align": "left",
          "font": {
           "color": "orange",
           "family": "Roboto, sans-serif",
           "size": 15
          },
          "showarrow": false,
          "text": "Low non-penalty expected goals<br>Strong Defending",
          "x": 0,
          "xref": "paper",
          "y": 0,
          "yref": "paper"
         },
         {
          "align": "left",
          "font": {
           "color": "green",
           "family": "Roboto, sans-serif",
           "size": 15
          },
          "showarrow": false,
          "text": "High non-penalty expected goals<br>Strong Defending",
          "x": 0,
          "xref": "paper",
          "y": 1,
          "yref": "paper"
         },
         {
          "align": "right",
          "font": {
           "color": "orange",
           "family": "Roboto, sans-serif",
           "size": 15
          },
          "showarrow": false,
          "text": "High non-penalty expected goals<br>Poor Defending",
          "x": 1,
          "xref": "paper",
          "y": 1,
          "yref": "paper"
         },
         {
          "align": "right",
          "font": {
           "color": "red",
           "family": "Roboto, sans-serif",
           "size": 15
          },
          "showarrow": false,
          "text": "Low non-penalty expected goals<br>Poor Defending",
          "x": 1,
          "xref": "paper",
          "y": 0,
          "yref": "paper"
         }
        ],
        "font": {
         "color": "white",
         "family": "Roboto, sans-serif",
         "size": 25
        },
        "height": 625,
        "hoverlabel": {
         "bgcolor": "rgba(20, 20, 20, 0.8)",
         "font": {
          "family": "Roboto, sans-serif"
         }
        },
        "images": [
         {
          "layer": "above",
          "opacity": 0.35,
          "sizex": 0.1,
          "sizey": 0.1,
          "sizing": "contain",
          "source": "https://i.imgur.com/vhAWZQO.png",
          "x": 1.508571429,
          "xanchor": "center",
          "xref": "x",
          "y": 0.7667857143,
          "yanchor": "middle",
          "yref": "y"
         },
         {
          "layer": "above",
          "opacity": 0.35,
          "sizex": 0.1,
          "sizey": 0.1,
          "sizing": "contain",
          "source": "https://i.imgur.com/1Ze94pt.png",
          "x": 1.240357143,
          "xanchor": "center",
          "xref": "x",
          "y": 1.5,
          "yanchor": "middle",
          "yref": "y"
         },
         {
          "layer": "above",
          "opacity": 0.35,
          "sizex": 0.1,
          "sizey": 0.1,
          "sizing": "contain",
          "source": "https://i.imgur.com/hOQC1jo.png",
          "x": 1.405357143,
          "xanchor": "center",
          "xref": "x",
          "y": 1.238928571,
          "yanchor": "middle",
          "yref": "y"
         },
         {
          "layer": "above",
          "opacity": 0.35,
          "sizex": 0.1,
          "sizey": 0.1,
          "sizing": "contain",
          "source": "https://i.imgur.com/px5mT39.png",
          "x": 1.720357143,
          "xanchor": "center",
          "xref": "x",
          "y": 1.021428571,
          "yanchor": "middle",
          "yref": "y"
         },
         {
          "layer": "above",
          "opacity": 0.35,
          "sizex": 0.1,
          "sizey": 0.1,
          "sizing": "contain",
          "source": "https://i.imgur.com/9A4flGu.png",
          "x": 1.842142857,
          "xanchor": "center",
          "xref": "x",
          "y": 1.0225,
          "yanchor": "middle",
          "yref": "y"
         },
         {
          "layer": "above",
          "opacity": 0.35,
          "sizex": 0.1,
          "sizey": 0.1,
          "sizing": "contain",
          "source": "https://i.imgur.com/KjtIy8U.png",
          "x": 1.275,
          "xanchor": "center",
          "xref": "x",
          "y": 0.9028571429,
          "yanchor": "middle",
          "yref": "y"
         },
         {
          "layer": "above",
          "opacity": 0.35,
          "sizex": 0.1,
          "sizey": 0.1,
          "sizing": "contain",
          "source": "https://i.imgur.com/JsJ06ke.png",
          "x": 0.8132142857,
          "xanchor": "center",
          "xref": "x",
          "y": 2.027142857,
          "yanchor": "middle",
          "yref": "y"
         },
         {
          "layer": "above",
          "opacity": 0.35,
          "sizex": 0.1,
          "sizey": 0.1,
          "sizing": "contain",
          "source": "https://i.imgur.com/SBsGYjm.png",
          "x": 1.233928571,
          "xanchor": "center",
          "xref": "x",
          "y": 1.193571429,
          "yanchor": "middle",
          "yref": "y"
         },
         {
          "layer": "above",
          "opacity": 0.35,
          "sizex": 0.1,
          "sizey": 0.1,
          "sizing": "contain",
          "source": "https://i.imgur.com/XWmpYeu.png",
          "x": 1.003928571,
          "xanchor": "center",
          "xref": "x",
          "y": 1.089285714,
          "yanchor": "middle",
          "yref": "y"
         },
         {
          "layer": "above",
          "opacity": 0.35,
          "sizex": 0.1,
          "sizey": 0.1,
          "sizing": "contain",
          "source": "https://i.imgur.com/7bHOIx9.png",
          "x": 1.606785714,
          "xanchor": "center",
          "xref": "x",
          "y": 1.144642857,
          "yanchor": "middle",
          "yref": "y"
         },
         {
          "layer": "above",
          "opacity": 0.35,
          "sizex": 0.1,
          "sizey": 0.1,
          "sizing": "contain",
          "source": "https://i.imgur.com/SDA0nMH.png",
          "x": 1.206428571,
          "xanchor": "center",
          "xref": "x",
          "y": 1.651428571,
          "yanchor": "middle",
          "yref": "y"
         },
         {
          "layer": "above",
          "opacity": 0.35,
          "sizex": 0.1,
          "sizey": 0.1,
          "sizing": "contain",
          "source": "https://i.imgur.com/Dp0KUmN.png",
          "x": 1.426071429,
          "xanchor": "center",
          "xref": "x",
          "y": 1.148571429,
          "yanchor": "middle",
          "yref": "y"
         },
         {
          "layer": "above",
          "opacity": 0.35,
          "sizex": 0.1,
          "sizey": 0.1,
          "sizing": "contain",
          "source": "https://i.imgur.com/60XAIJI.png",
          "x": 0.7753571429,
          "xanchor": "center",
          "xref": "x",
          "y": 1.609642857,
          "yanchor": "middle",
          "yref": "y"
         },
         {
          "layer": "above",
          "opacity": 0.35,
          "sizex": 0.1,
          "sizey": 0.1,
          "sizing": "contain",
          "source": "https://i.imgur.com/x8qGMuV.png",
          "x": 1.743571429,
          "xanchor": "center",
          "xref": "x",
          "y": 1.073571429,
          "yanchor": "middle",
          "yref": "y"
         },
         {
          "layer": "above",
          "opacity": 0.35,
          "sizex": 0.1,
          "sizey": 0.1,
          "sizing": "contain",
          "source": "https://i.imgur.com/rVqtfOA.png",
          "x": 1.0875,
          "xanchor": "center",
          "xref": "x",
          "y": 1.336428571,
          "yanchor": "middle",
          "yref": "y"
         },
         {
          "layer": "above",
          "opacity": 0.35,
          "sizex": 0.1,
          "sizey": 0.1,
          "sizing": "contain",
          "source": "https://i.imgur.com/52xSYdX.png",
          "x": 1.510357143,
          "xanchor": "center",
          "xref": "x",
          "y": 0.9585714286,
          "yanchor": "middle",
          "yref": "y"
         },
         {
          "layer": "above",
          "opacity": 0.35,
          "sizex": 0.1,
          "sizey": 0.1,
          "sizing": "contain",
          "source": "https://i.imgur.com/rbAC6zo.png",
          "x": 1.705357143,
          "xanchor": "center",
          "xref": "x",
          "y": 1.1325,
          "yanchor": "middle",
          "yref": "y"
         },
         {
          "layer": "above",
          "opacity": 0.35,
          "sizex": 0.1,
          "sizey": 0.1,
          "sizing": "contain",
          "source": "https://i.imgur.com/Ql7LKBZ.png",
          "x": 1.061785714,
          "xanchor": "center",
          "xref": "x",
          "y": 1.539285714,
          "yanchor": "middle",
          "yref": "y"
         },
         {
          "layer": "above",
          "opacity": 0.35,
          "sizex": 0.1,
          "sizey": 0.1,
          "sizing": "contain",
          "source": "https://i.imgur.com/nhMJAHW.png",
          "x": 1.089642857,
          "xanchor": "center",
          "xref": "x",
          "y": 1.2825,
          "yanchor": "middle",
          "yref": "y"
         },
         {
          "layer": "above",
          "opacity": 0.35,
          "sizex": 0.1,
          "sizey": 0.1,
          "sizing": "contain",
          "source": "https://i.imgur.com/sYubMBZ.png",
          "x": 2.027857143,
          "xanchor": "center",
          "xref": "x",
          "y": 0.7582142857,
          "yanchor": "middle",
          "yref": "y"
         }
        ],
        "margin": {
         "b": 10,
         "l": 10,
         "r": 30,
         "t": 50
        },
        "paper_bgcolor": "rgb(70, 70, 70)",
        "plot_bgcolor": "rgb(70, 70, 70)",
        "shapes": [
         {
          "layer": "below",
          "line": {
           "color": "White",
           "width": 3
          },
          "type": "line",
          "x0": 1.3641785714299997,
          "x1": 1.3641785714299997,
          "y0": 0.5,
          "y1": 3
         },
         {
          "layer": "below",
          "line": {
           "color": "White",
           "width": 3
          },
          "type": "line",
          "x0": 0.45,
          "x1": 2.6,
          "y0": 1.2198928570749998,
          "y1": 1.2198928570749998
         }
        ],
        "showlegend": false,
        "template": {
         "data": {
          "bar": [
           {
            "error_x": {
             "color": "#2a3f5f"
            },
            "error_y": {
             "color": "#2a3f5f"
            },
            "marker": {
             "line": {
              "color": "#E5ECF6",
              "width": 0.5
             },
             "pattern": {
              "fillmode": "overlay",
              "size": 10,
              "solidity": 0.2
             }
            },
            "type": "bar"
           }
          ],
          "barpolar": [
           {
            "marker": {
             "line": {
              "color": "#E5ECF6",
              "width": 0.5
             },
             "pattern": {
              "fillmode": "overlay",
              "size": 10,
              "solidity": 0.2
             }
            },
            "type": "barpolar"
           }
          ],
          "carpet": [
           {
            "aaxis": {
             "endlinecolor": "#2a3f5f",
             "gridcolor": "white",
             "linecolor": "white",
             "minorgridcolor": "white",
             "startlinecolor": "#2a3f5f"
            },
            "baxis": {
             "endlinecolor": "#2a3f5f",
             "gridcolor": "white",
             "linecolor": "white",
             "minorgridcolor": "white",
             "startlinecolor": "#2a3f5f"
            },
            "type": "carpet"
           }
          ],
          "choropleth": [
           {
            "colorbar": {
             "outlinewidth": 0,
             "ticks": ""
            },
            "type": "choropleth"
           }
          ],
          "contour": [
           {
            "colorbar": {
             "outlinewidth": 0,
             "ticks": ""
            },
            "colorscale": [
             [
              0,
              "#0d0887"
             ],
             [
              0.1111111111111111,
              "#46039f"
             ],
             [
              0.2222222222222222,
              "#7201a8"
             ],
             [
              0.3333333333333333,
              "#9c179e"
             ],
             [
              0.4444444444444444,
              "#bd3786"
             ],
             [
              0.5555555555555556,
              "#d8576b"
             ],
             [
              0.6666666666666666,
              "#ed7953"
             ],
             [
              0.7777777777777778,
              "#fb9f3a"
             ],
             [
              0.8888888888888888,
              "#fdca26"
             ],
             [
              1,
              "#f0f921"
             ]
            ],
            "type": "contour"
           }
          ],
          "contourcarpet": [
           {
            "colorbar": {
             "outlinewidth": 0,
             "ticks": ""
            },
            "type": "contourcarpet"
           }
          ],
          "heatmap": [
           {
            "colorbar": {
             "outlinewidth": 0,
             "ticks": ""
            },
            "colorscale": [
             [
              0,
              "#0d0887"
             ],
             [
              0.1111111111111111,
              "#46039f"
             ],
             [
              0.2222222222222222,
              "#7201a8"
             ],
             [
              0.3333333333333333,
              "#9c179e"
             ],
             [
              0.4444444444444444,
              "#bd3786"
             ],
             [
              0.5555555555555556,
              "#d8576b"
             ],
             [
              0.6666666666666666,
              "#ed7953"
             ],
             [
              0.7777777777777778,
              "#fb9f3a"
             ],
             [
              0.8888888888888888,
              "#fdca26"
             ],
             [
              1,
              "#f0f921"
             ]
            ],
            "type": "heatmap"
           }
          ],
          "heatmapgl": [
           {
            "colorbar": {
             "outlinewidth": 0,
             "ticks": ""
            },
            "colorscale": [
             [
              0,
              "#0d0887"
             ],
             [
              0.1111111111111111,
              "#46039f"
             ],
             [
              0.2222222222222222,
              "#7201a8"
             ],
             [
              0.3333333333333333,
              "#9c179e"
             ],
             [
              0.4444444444444444,
              "#bd3786"
             ],
             [
              0.5555555555555556,
              "#d8576b"
             ],
             [
              0.6666666666666666,
              "#ed7953"
             ],
             [
              0.7777777777777778,
              "#fb9f3a"
             ],
             [
              0.8888888888888888,
              "#fdca26"
             ],
             [
              1,
              "#f0f921"
             ]
            ],
            "type": "heatmapgl"
           }
          ],
          "histogram": [
           {
            "marker": {
             "pattern": {
              "fillmode": "overlay",
              "size": 10,
              "solidity": 0.2
             }
            },
            "type": "histogram"
           }
          ],
          "histogram2d": [
           {
            "colorbar": {
             "outlinewidth": 0,
             "ticks": ""
            },
            "colorscale": [
             [
              0,
              "#0d0887"
             ],
             [
              0.1111111111111111,
              "#46039f"
             ],
             [
              0.2222222222222222,
              "#7201a8"
             ],
             [
              0.3333333333333333,
              "#9c179e"
             ],
             [
              0.4444444444444444,
              "#bd3786"
             ],
             [
              0.5555555555555556,
              "#d8576b"
             ],
             [
              0.6666666666666666,
              "#ed7953"
             ],
             [
              0.7777777777777778,
              "#fb9f3a"
             ],
             [
              0.8888888888888888,
              "#fdca26"
             ],
             [
              1,
              "#f0f921"
             ]
            ],
            "type": "histogram2d"
           }
          ],
          "histogram2dcontour": [
           {
            "colorbar": {
             "outlinewidth": 0,
             "ticks": ""
            },
            "colorscale": [
             [
              0,
              "#0d0887"
             ],
             [
              0.1111111111111111,
              "#46039f"
             ],
             [
              0.2222222222222222,
              "#7201a8"
             ],
             [
              0.3333333333333333,
              "#9c179e"
             ],
             [
              0.4444444444444444,
              "#bd3786"
             ],
             [
              0.5555555555555556,
              "#d8576b"
             ],
             [
              0.6666666666666666,
              "#ed7953"
             ],
             [
              0.7777777777777778,
              "#fb9f3a"
             ],
             [
              0.8888888888888888,
              "#fdca26"
             ],
             [
              1,
              "#f0f921"
             ]
            ],
            "type": "histogram2dcontour"
           }
          ],
          "mesh3d": [
           {
            "colorbar": {
             "outlinewidth": 0,
             "ticks": ""
            },
            "type": "mesh3d"
           }
          ],
          "parcoords": [
           {
            "line": {
             "colorbar": {
              "outlinewidth": 0,
              "ticks": ""
             }
            },
            "type": "parcoords"
           }
          ],
          "pie": [
           {
            "automargin": true,
            "type": "pie"
           }
          ],
          "scatter": [
           {
            "fillpattern": {
             "fillmode": "overlay",
             "size": 10,
             "solidity": 0.2
            },
            "type": "scatter"
           }
          ],
          "scatter3d": [
           {
            "line": {
             "colorbar": {
              "outlinewidth": 0,
              "ticks": ""
             }
            },
            "marker": {
             "colorbar": {
              "outlinewidth": 0,
              "ticks": ""
             }
            },
            "type": "scatter3d"
           }
          ],
          "scattercarpet": [
           {
            "marker": {
             "colorbar": {
              "outlinewidth": 0,
              "ticks": ""
             }
            },
            "type": "scattercarpet"
           }
          ],
          "scattergeo": [
           {
            "marker": {
             "colorbar": {
              "outlinewidth": 0,
              "ticks": ""
             }
            },
            "type": "scattergeo"
           }
          ],
          "scattergl": [
           {
            "marker": {
             "colorbar": {
              "outlinewidth": 0,
              "ticks": ""
             }
            },
            "type": "scattergl"
           }
          ],
          "scattermapbox": [
           {
            "marker": {
             "colorbar": {
              "outlinewidth": 0,
              "ticks": ""
             }
            },
            "type": "scattermapbox"
           }
          ],
          "scatterpolar": [
           {
            "marker": {
             "colorbar": {
              "outlinewidth": 0,
              "ticks": ""
             }
            },
            "type": "scatterpolar"
           }
          ],
          "scatterpolargl": [
           {
            "marker": {
             "colorbar": {
              "outlinewidth": 0,
              "ticks": ""
             }
            },
            "type": "scatterpolargl"
           }
          ],
          "scatterternary": [
           {
            "marker": {
             "colorbar": {
              "outlinewidth": 0,
              "ticks": ""
             }
            },
            "type": "scatterternary"
           }
          ],
          "surface": [
           {
            "colorbar": {
             "outlinewidth": 0,
             "ticks": ""
            },
            "colorscale": [
             [
              0,
              "#0d0887"
             ],
             [
              0.1111111111111111,
              "#46039f"
             ],
             [
              0.2222222222222222,
              "#7201a8"
             ],
             [
              0.3333333333333333,
              "#9c179e"
             ],
             [
              0.4444444444444444,
              "#bd3786"
             ],
             [
              0.5555555555555556,
              "#d8576b"
             ],
             [
              0.6666666666666666,
              "#ed7953"
             ],
             [
              0.7777777777777778,
              "#fb9f3a"
             ],
             [
              0.8888888888888888,
              "#fdca26"
             ],
             [
              1,
              "#f0f921"
             ]
            ],
            "type": "surface"
           }
          ],
          "table": [
           {
            "cells": {
             "fill": {
              "color": "#EBF0F8"
             },
             "line": {
              "color": "white"
             }
            },
            "header": {
             "fill": {
              "color": "#C8D4E3"
             },
             "line": {
              "color": "white"
             }
            },
            "type": "table"
           }
          ]
         },
         "layout": {
          "annotationdefaults": {
           "arrowcolor": "#2a3f5f",
           "arrowhead": 0,
           "arrowwidth": 1
          },
          "autotypenumbers": "strict",
          "coloraxis": {
           "colorbar": {
            "outlinewidth": 0,
            "ticks": ""
           }
          },
          "colorscale": {
           "diverging": [
            [
             0,
             "#8e0152"
            ],
            [
             0.1,
             "#c51b7d"
            ],
            [
             0.2,
             "#de77ae"
            ],
            [
             0.3,
             "#f1b6da"
            ],
            [
             0.4,
             "#fde0ef"
            ],
            [
             0.5,
             "#f7f7f7"
            ],
            [
             0.6,
             "#e6f5d0"
            ],
            [
             0.7,
             "#b8e186"
            ],
            [
             0.8,
             "#7fbc41"
            ],
            [
             0.9,
             "#4d9221"
            ],
            [
             1,
             "#276419"
            ]
           ],
           "sequential": [
            [
             0,
             "#0d0887"
            ],
            [
             0.1111111111111111,
             "#46039f"
            ],
            [
             0.2222222222222222,
             "#7201a8"
            ],
            [
             0.3333333333333333,
             "#9c179e"
            ],
            [
             0.4444444444444444,
             "#bd3786"
            ],
            [
             0.5555555555555556,
             "#d8576b"
            ],
            [
             0.6666666666666666,
             "#ed7953"
            ],
            [
             0.7777777777777778,
             "#fb9f3a"
            ],
            [
             0.8888888888888888,
             "#fdca26"
            ],
            [
             1,
             "#f0f921"
            ]
           ],
           "sequentialminus": [
            [
             0,
             "#0d0887"
            ],
            [
             0.1111111111111111,
             "#46039f"
            ],
            [
             0.2222222222222222,
             "#7201a8"
            ],
            [
             0.3333333333333333,
             "#9c179e"
            ],
            [
             0.4444444444444444,
             "#bd3786"
            ],
            [
             0.5555555555555556,
             "#d8576b"
            ],
            [
             0.6666666666666666,
             "#ed7953"
            ],
            [
             0.7777777777777778,
             "#fb9f3a"
            ],
            [
             0.8888888888888888,
             "#fdca26"
            ],
            [
             1,
             "#f0f921"
            ]
           ]
          },
          "colorway": [
           "#636efa",
           "#EF553B",
           "#00cc96",
           "#ab63fa",
           "#FFA15A",
           "#19d3f3",
           "#FF6692",
           "#B6E880",
           "#FF97FF",
           "#FECB52"
          ],
          "font": {
           "color": "#2a3f5f"
          },
          "geo": {
           "bgcolor": "white",
           "lakecolor": "white",
           "landcolor": "#E5ECF6",
           "showlakes": true,
           "showland": true,
           "subunitcolor": "white"
          },
          "hoverlabel": {
           "align": "left"
          },
          "hovermode": "closest",
          "mapbox": {
           "style": "light"
          },
          "paper_bgcolor": "white",
          "plot_bgcolor": "#E5ECF6",
          "polar": {
           "angularaxis": {
            "gridcolor": "white",
            "linecolor": "white",
            "ticks": ""
           },
           "bgcolor": "#E5ECF6",
           "radialaxis": {
            "gridcolor": "white",
            "linecolor": "white",
            "ticks": ""
           }
          },
          "scene": {
           "xaxis": {
            "backgroundcolor": "#E5ECF6",
            "gridcolor": "white",
            "gridwidth": 2,
            "linecolor": "white",
            "showbackground": true,
            "ticks": "",
            "zerolinecolor": "white"
           },
           "yaxis": {
            "backgroundcolor": "#E5ECF6",
            "gridcolor": "white",
            "gridwidth": 2,
            "linecolor": "white",
            "showbackground": true,
            "ticks": "",
            "zerolinecolor": "white"
           },
           "zaxis": {
            "backgroundcolor": "#E5ECF6",
            "gridcolor": "white",
            "gridwidth": 2,
            "linecolor": "white",
            "showbackground": true,
            "ticks": "",
            "zerolinecolor": "white"
           }
          },
          "shapedefaults": {
           "line": {
            "color": "#2a3f5f"
           }
          },
          "ternary": {
           "aaxis": {
            "gridcolor": "white",
            "linecolor": "white",
            "ticks": ""
           },
           "baxis": {
            "gridcolor": "white",
            "linecolor": "white",
            "ticks": ""
           },
           "bgcolor": "#E5ECF6",
           "caxis": {
            "gridcolor": "white",
            "linecolor": "white",
            "ticks": ""
           }
          },
          "title": {
           "x": 0.05
          },
          "xaxis": {
           "automargin": true,
           "gridcolor": "white",
           "linecolor": "white",
           "ticks": "",
           "title": {
            "standoff": 15
           },
           "zerolinecolor": "white",
           "zerolinewidth": 2
          },
          "yaxis": {
           "automargin": true,
           "gridcolor": "white",
           "linecolor": "white",
           "ticks": "",
           "title": {
            "standoff": 15
           },
           "zerolinecolor": "white",
           "zerolinewidth": 2
          }
         }
        },
        "title": {
         "font": {
          "color": "white",
          "family": "Roboto, sans-serif",
          "size": 23
         },
         "text": "GOAL OUTPUT",
         "x": 0.5,
         "xanchor": "center",
         "y": 0.98,
         "yanchor": "top"
        },
        "width": 625,
        "xaxis": {
         "gridcolor": "rgba(0,0,0,0)",
         "linecolor": "white",
         "linewidth": 2,
         "range": [
          0.45,
          2.6
         ],
         "showline": true,
         "tickfont": {
          "color": "white",
          "size": 15
         },
         "title": {
          "font": {
           "size": 25
          },
          "text": "EXPECTED GOALS AGAINST PER GAME"
         }
        },
        "yaxis": {
         "gridcolor": "rgba(0,0,0,0)",
         "linecolor": "white",
         "linewidth": 2,
         "range": [
          0.5,
          3
         ],
         "showline": true,
         "tickfont": {
          "color": "white",
          "size": 15
         },
         "title": {
          "font": {
           "size": 25
          },
          "text": "NON PENALTY EXPECTED GOALS PER GAME"
         }
        }
       }
      }
     },
     "metadata": {},
     "output_type": "display_data"
    }
   ],
   "source": [
    "create_FM_team_scatter_chart(filtered_team_goal_output, 'GOAL OUTPUT', \"Arsenal\", 'EXPECTED GOALS AGAINST PER GAME', 'NON PENALTY EXPECTED GOALS PER GAME', \n",
    "                            0.1, x_min_goal_output, x_max_goal_output, y_min_goal_output, y_max_goal_output, \n",
    "                            \"Low non-penalty expected goals<br>Strong Defending\", \"Low non-penalty expected goals<br>Poor Defending\",\n",
    "                            \"High non-penalty expected goals<br>Strong Defending\", \"High non-penalty expected goals<br>Poor Defending\", \n",
    "                            \"orange\", \"red\", \"green\", \"orange\")"
   ]
  },
  {
   "cell_type": "code",
   "execution_count": 46,
   "metadata": {},
   "outputs": [
    {
     "data": {
      "application/vnd.plotly.v1+json": {
       "config": {
        "plotlyServerURL": "https://plotly.com"
       },
       "data": [
        {
         "hoverinfo": "text",
         "marker": {
          "opacity": 0
         },
         "mode": "markers",
         "text": "Hellas Verona",
         "type": "scatter",
         "x": [
          21.392857143
         ],
         "y": [
          10.571428571
         ]
        },
        {
         "hoverinfo": "text",
         "marker": {
          "opacity": 0
         },
         "mode": "markers",
         "text": "AC Milan",
         "type": "scatter",
         "x": [
          14.928571429
         ],
         "y": [
          10.214285714
         ]
        },
        {
         "hoverinfo": "text",
         "marker": {
          "opacity": 0
         },
         "mode": "markers",
         "text": "Fiorentina",
         "type": "scatter",
         "x": [
          13.714285714
         ],
         "y": [
          11.357142857
         ]
        },
        {
         "hoverinfo": "text",
         "marker": {
          "opacity": 0
         },
         "mode": "markers",
         "text": "Sassuolo",
         "type": "scatter",
         "x": [
          19.5
         ],
         "y": [
          11
         ]
        },
        {
         "hoverinfo": "text",
         "marker": {
          "opacity": 0
         },
         "mode": "markers",
         "text": "Lecce",
         "type": "scatter",
         "x": [
          19.464285714
         ],
         "y": [
          11.571428571
         ]
        },
        {
         "hoverinfo": "text",
         "marker": {
          "opacity": 0
         },
         "mode": "markers",
         "text": "Genoa",
         "type": "scatter",
         "x": [
          20.071428571
         ],
         "y": [
          12.214285714
         ]
        },
        {
         "hoverinfo": "text",
         "marker": {
          "opacity": 0
         },
         "mode": "markers",
         "text": "Inter",
         "type": "scatter",
         "x": [
          15.535714286
         ],
         "y": [
          9.428571429
         ]
        },
        {
         "hoverinfo": "text",
         "marker": {
          "opacity": 0
         },
         "mode": "markers",
         "text": "Lazio",
         "type": "scatter",
         "x": [
          17.321428571
         ],
         "y": [
          11.642857143
         ]
        },
        {
         "hoverinfo": "text",
         "marker": {
          "opacity": 0
         },
         "mode": "markers",
         "text": "Torino",
         "type": "scatter",
         "x": [
          15.821428571
         ],
         "y": [
          7.964285714
         ]
        },
        {
         "hoverinfo": "text",
         "marker": {
          "opacity": 0
         },
         "mode": "markers",
         "text": "Monza",
         "type": "scatter",
         "x": [
          16.642857143
         ],
         "y": [
          10.071428571
         ]
        },
        {
         "hoverinfo": "text",
         "marker": {
          "opacity": 0
         },
         "mode": "markers",
         "text": "Atalanta",
         "type": "scatter",
         "x": [
          16.107142857
         ],
         "y": [
          12.892857143
         ]
        },
        {
         "hoverinfo": "text",
         "marker": {
          "opacity": 0
         },
         "mode": "markers",
         "text": "Udinese",
         "type": "scatter",
         "x": [
          25.142857143
         ],
         "y": [
          10.785714286
         ]
        },
        {
         "hoverinfo": "text",
         "marker": {
          "opacity": 0
         },
         "mode": "markers",
         "text": "Juventus",
         "type": "scatter",
         "x": [
          19.535714286
         ],
         "y": [
          9.607142857
         ]
        },
        {
         "hoverinfo": "text",
         "marker": {
          "opacity": 0
         },
         "mode": "markers",
         "text": "Frosinone",
         "type": "scatter",
         "x": [
          21.25
         ],
         "y": [
          11.714285714
         ]
        },
        {
         "hoverinfo": "text",
         "marker": {
          "opacity": 0
         },
         "mode": "markers",
         "text": "Bologna",
         "type": "scatter",
         "x": [
          18.392857143
         ],
         "y": [
          11.178571429
         ]
        },
        {
         "hoverinfo": "text",
         "marker": {
          "opacity": 0
         },
         "mode": "markers",
         "text": "Empoli",
         "type": "scatter",
         "x": [
          22.25
         ],
         "y": [
          11.785714286
         ]
        },
        {
         "hoverinfo": "text",
         "marker": {
          "opacity": 0
         },
         "mode": "markers",
         "text": "Cagliari",
         "type": "scatter",
         "x": [
          20.928571429
         ],
         "y": [
          9.892857143
         ]
        },
        {
         "hoverinfo": "text",
         "marker": {
          "opacity": 0
         },
         "mode": "markers",
         "text": "Napoli",
         "type": "scatter",
         "x": [
          14.5
         ],
         "y": [
          8.785714286
         ]
        },
        {
         "hoverinfo": "text",
         "marker": {
          "opacity": 0
         },
         "mode": "markers",
         "text": "Roma",
         "type": "scatter",
         "x": [
          15.607142857
         ],
         "y": [
          9.357142857
         ]
        },
        {
         "hoverinfo": "text",
         "marker": {
          "opacity": 0
         },
         "mode": "markers",
         "text": "Salernitana",
         "type": "scatter",
         "x": [
          21.035714286
         ],
         "y": [
          10.142857143
         ]
        }
       ],
       "layout": {
        "annotations": [
         {
          "align": "left",
          "font": {
           "color": "red",
           "family": "Roboto, sans-serif",
           "size": 15
          },
          "showarrow": false,
          "text": "Fewer blocks<br>Fewer Clearances",
          "x": 0,
          "xref": "paper",
          "y": 0,
          "yref": "paper"
         },
         {
          "align": "left",
          "font": {
           "color": "orange",
           "family": "Roboto, sans-serif",
           "size": 15
          },
          "showarrow": false,
          "text": "Lots of blocks<br>Fewer Clearances",
          "x": 0,
          "xref": "paper",
          "y": 1,
          "yref": "paper"
         },
         {
          "align": "right",
          "font": {
           "color": "green",
           "family": "Roboto, sans-serif",
           "size": 15
          },
          "showarrow": false,
          "text": "Fewer blocks<br>Lots of Clearances",
          "x": 1,
          "xref": "paper",
          "y": 1,
          "yref": "paper"
         },
         {
          "align": "right",
          "font": {
           "color": "orange",
           "family": "Roboto, sans-serif",
           "size": 15
          },
          "showarrow": false,
          "text": "Fewer blocks<br>Lots of Clearances",
          "x": 1,
          "xref": "paper",
          "y": 0,
          "yref": "paper"
         }
        ],
        "font": {
         "color": "white",
         "family": "Roboto, sans-serif",
         "size": 25
        },
        "height": 625,
        "hoverlabel": {
         "bgcolor": "rgba(20, 20, 20, 0.8)",
         "font": {
          "family": "Roboto, sans-serif"
         }
        },
        "images": [
         {
          "layer": "above",
          "opacity": 0.35,
          "sizex": 1,
          "sizey": 1,
          "sizing": "contain",
          "source": "https://i.imgur.com/vhAWZQO.png",
          "x": 21.392857143,
          "xanchor": "center",
          "xref": "x",
          "y": 10.571428571,
          "yanchor": "middle",
          "yref": "y"
         },
         {
          "layer": "above",
          "opacity": 0.35,
          "sizex": 1,
          "sizey": 1,
          "sizing": "contain",
          "source": "https://i.imgur.com/1Ze94pt.png",
          "x": 14.928571429,
          "xanchor": "center",
          "xref": "x",
          "y": 10.214285714,
          "yanchor": "middle",
          "yref": "y"
         },
         {
          "layer": "above",
          "opacity": 0.35,
          "sizex": 1,
          "sizey": 1,
          "sizing": "contain",
          "source": "https://i.imgur.com/hOQC1jo.png",
          "x": 13.714285714,
          "xanchor": "center",
          "xref": "x",
          "y": 11.357142857,
          "yanchor": "middle",
          "yref": "y"
         },
         {
          "layer": "above",
          "opacity": 0.35,
          "sizex": 1,
          "sizey": 1,
          "sizing": "contain",
          "source": "https://i.imgur.com/px5mT39.png",
          "x": 19.5,
          "xanchor": "center",
          "xref": "x",
          "y": 11,
          "yanchor": "middle",
          "yref": "y"
         },
         {
          "layer": "above",
          "opacity": 0.35,
          "sizex": 1,
          "sizey": 1,
          "sizing": "contain",
          "source": "https://i.imgur.com/9A4flGu.png",
          "x": 19.464285714,
          "xanchor": "center",
          "xref": "x",
          "y": 11.571428571,
          "yanchor": "middle",
          "yref": "y"
         },
         {
          "layer": "above",
          "opacity": 0.35,
          "sizex": 1,
          "sizey": 1,
          "sizing": "contain",
          "source": "https://i.imgur.com/KjtIy8U.png",
          "x": 20.071428571,
          "xanchor": "center",
          "xref": "x",
          "y": 12.214285714,
          "yanchor": "middle",
          "yref": "y"
         },
         {
          "layer": "above",
          "opacity": 0.35,
          "sizex": 1,
          "sizey": 1,
          "sizing": "contain",
          "source": "https://i.imgur.com/JsJ06ke.png",
          "x": 15.535714286,
          "xanchor": "center",
          "xref": "x",
          "y": 9.428571429,
          "yanchor": "middle",
          "yref": "y"
         },
         {
          "layer": "above",
          "opacity": 0.35,
          "sizex": 1,
          "sizey": 1,
          "sizing": "contain",
          "source": "https://i.imgur.com/SBsGYjm.png",
          "x": 17.321428571,
          "xanchor": "center",
          "xref": "x",
          "y": 11.642857143,
          "yanchor": "middle",
          "yref": "y"
         },
         {
          "layer": "above",
          "opacity": 0.35,
          "sizex": 1,
          "sizey": 1,
          "sizing": "contain",
          "source": "https://i.imgur.com/XWmpYeu.png",
          "x": 15.821428571,
          "xanchor": "center",
          "xref": "x",
          "y": 7.964285714,
          "yanchor": "middle",
          "yref": "y"
         },
         {
          "layer": "above",
          "opacity": 0.35,
          "sizex": 1,
          "sizey": 1,
          "sizing": "contain",
          "source": "https://i.imgur.com/7bHOIx9.png",
          "x": 16.642857143,
          "xanchor": "center",
          "xref": "x",
          "y": 10.071428571,
          "yanchor": "middle",
          "yref": "y"
         },
         {
          "layer": "above",
          "opacity": 0.35,
          "sizex": 1,
          "sizey": 1,
          "sizing": "contain",
          "source": "https://i.imgur.com/SDA0nMH.png",
          "x": 16.107142857,
          "xanchor": "center",
          "xref": "x",
          "y": 12.892857143,
          "yanchor": "middle",
          "yref": "y"
         },
         {
          "layer": "above",
          "opacity": 0.35,
          "sizex": 1,
          "sizey": 1,
          "sizing": "contain",
          "source": "https://i.imgur.com/Dp0KUmN.png",
          "x": 25.142857143,
          "xanchor": "center",
          "xref": "x",
          "y": 10.785714286,
          "yanchor": "middle",
          "yref": "y"
         },
         {
          "layer": "above",
          "opacity": 0.35,
          "sizex": 1,
          "sizey": 1,
          "sizing": "contain",
          "source": "https://i.imgur.com/60XAIJI.png",
          "x": 19.535714286,
          "xanchor": "center",
          "xref": "x",
          "y": 9.607142857,
          "yanchor": "middle",
          "yref": "y"
         },
         {
          "layer": "above",
          "opacity": 0.35,
          "sizex": 1,
          "sizey": 1,
          "sizing": "contain",
          "source": "https://i.imgur.com/x8qGMuV.png",
          "x": 21.25,
          "xanchor": "center",
          "xref": "x",
          "y": 11.714285714,
          "yanchor": "middle",
          "yref": "y"
         },
         {
          "layer": "above",
          "opacity": 0.35,
          "sizex": 1,
          "sizey": 1,
          "sizing": "contain",
          "source": "https://i.imgur.com/rVqtfOA.png",
          "x": 18.392857143,
          "xanchor": "center",
          "xref": "x",
          "y": 11.178571429,
          "yanchor": "middle",
          "yref": "y"
         },
         {
          "layer": "above",
          "opacity": 0.35,
          "sizex": 1,
          "sizey": 1,
          "sizing": "contain",
          "source": "https://i.imgur.com/52xSYdX.png",
          "x": 22.25,
          "xanchor": "center",
          "xref": "x",
          "y": 11.785714286,
          "yanchor": "middle",
          "yref": "y"
         },
         {
          "layer": "above",
          "opacity": 0.35,
          "sizex": 1,
          "sizey": 1,
          "sizing": "contain",
          "source": "https://i.imgur.com/rbAC6zo.png",
          "x": 20.928571429,
          "xanchor": "center",
          "xref": "x",
          "y": 9.892857143,
          "yanchor": "middle",
          "yref": "y"
         },
         {
          "layer": "above",
          "opacity": 0.35,
          "sizex": 1,
          "sizey": 1,
          "sizing": "contain",
          "source": "https://i.imgur.com/Ql7LKBZ.png",
          "x": 14.5,
          "xanchor": "center",
          "xref": "x",
          "y": 8.785714286,
          "yanchor": "middle",
          "yref": "y"
         },
         {
          "layer": "above",
          "opacity": 0.35,
          "sizex": 1,
          "sizey": 1,
          "sizing": "contain",
          "source": "https://i.imgur.com/nhMJAHW.png",
          "x": 15.607142857,
          "xanchor": "center",
          "xref": "x",
          "y": 9.357142857,
          "yanchor": "middle",
          "yref": "y"
         },
         {
          "layer": "above",
          "opacity": 0.35,
          "sizex": 1,
          "sizey": 1,
          "sizing": "contain",
          "source": "https://i.imgur.com/sYubMBZ.png",
          "x": 21.035714286,
          "xanchor": "center",
          "xref": "x",
          "y": 10.142857143,
          "yanchor": "middle",
          "yref": "y"
         }
        ],
        "margin": {
         "b": 10,
         "l": 10,
         "r": 30,
         "t": 50
        },
        "paper_bgcolor": "rgb(70, 70, 70)",
        "plot_bgcolor": "rgb(70, 70, 70)",
        "shapes": [
         {
          "layer": "below",
          "line": {
           "color": "White",
           "width": 3
          },
          "type": "line",
          "x0": 18.45714285715,
          "x1": 18.45714285715,
          "y0": 6,
          "y1": 16
         },
         {
          "layer": "below",
          "line": {
           "color": "White",
           "width": 3
          },
          "type": "line",
          "x0": 9,
          "x1": 30,
          "y0": 10.608928571400003,
          "y1": 10.608928571400003
         }
        ],
        "showlegend": false,
        "template": {
         "data": {
          "bar": [
           {
            "error_x": {
             "color": "#2a3f5f"
            },
            "error_y": {
             "color": "#2a3f5f"
            },
            "marker": {
             "line": {
              "color": "#E5ECF6",
              "width": 0.5
             },
             "pattern": {
              "fillmode": "overlay",
              "size": 10,
              "solidity": 0.2
             }
            },
            "type": "bar"
           }
          ],
          "barpolar": [
           {
            "marker": {
             "line": {
              "color": "#E5ECF6",
              "width": 0.5
             },
             "pattern": {
              "fillmode": "overlay",
              "size": 10,
              "solidity": 0.2
             }
            },
            "type": "barpolar"
           }
          ],
          "carpet": [
           {
            "aaxis": {
             "endlinecolor": "#2a3f5f",
             "gridcolor": "white",
             "linecolor": "white",
             "minorgridcolor": "white",
             "startlinecolor": "#2a3f5f"
            },
            "baxis": {
             "endlinecolor": "#2a3f5f",
             "gridcolor": "white",
             "linecolor": "white",
             "minorgridcolor": "white",
             "startlinecolor": "#2a3f5f"
            },
            "type": "carpet"
           }
          ],
          "choropleth": [
           {
            "colorbar": {
             "outlinewidth": 0,
             "ticks": ""
            },
            "type": "choropleth"
           }
          ],
          "contour": [
           {
            "colorbar": {
             "outlinewidth": 0,
             "ticks": ""
            },
            "colorscale": [
             [
              0,
              "#0d0887"
             ],
             [
              0.1111111111111111,
              "#46039f"
             ],
             [
              0.2222222222222222,
              "#7201a8"
             ],
             [
              0.3333333333333333,
              "#9c179e"
             ],
             [
              0.4444444444444444,
              "#bd3786"
             ],
             [
              0.5555555555555556,
              "#d8576b"
             ],
             [
              0.6666666666666666,
              "#ed7953"
             ],
             [
              0.7777777777777778,
              "#fb9f3a"
             ],
             [
              0.8888888888888888,
              "#fdca26"
             ],
             [
              1,
              "#f0f921"
             ]
            ],
            "type": "contour"
           }
          ],
          "contourcarpet": [
           {
            "colorbar": {
             "outlinewidth": 0,
             "ticks": ""
            },
            "type": "contourcarpet"
           }
          ],
          "heatmap": [
           {
            "colorbar": {
             "outlinewidth": 0,
             "ticks": ""
            },
            "colorscale": [
             [
              0,
              "#0d0887"
             ],
             [
              0.1111111111111111,
              "#46039f"
             ],
             [
              0.2222222222222222,
              "#7201a8"
             ],
             [
              0.3333333333333333,
              "#9c179e"
             ],
             [
              0.4444444444444444,
              "#bd3786"
             ],
             [
              0.5555555555555556,
              "#d8576b"
             ],
             [
              0.6666666666666666,
              "#ed7953"
             ],
             [
              0.7777777777777778,
              "#fb9f3a"
             ],
             [
              0.8888888888888888,
              "#fdca26"
             ],
             [
              1,
              "#f0f921"
             ]
            ],
            "type": "heatmap"
           }
          ],
          "heatmapgl": [
           {
            "colorbar": {
             "outlinewidth": 0,
             "ticks": ""
            },
            "colorscale": [
             [
              0,
              "#0d0887"
             ],
             [
              0.1111111111111111,
              "#46039f"
             ],
             [
              0.2222222222222222,
              "#7201a8"
             ],
             [
              0.3333333333333333,
              "#9c179e"
             ],
             [
              0.4444444444444444,
              "#bd3786"
             ],
             [
              0.5555555555555556,
              "#d8576b"
             ],
             [
              0.6666666666666666,
              "#ed7953"
             ],
             [
              0.7777777777777778,
              "#fb9f3a"
             ],
             [
              0.8888888888888888,
              "#fdca26"
             ],
             [
              1,
              "#f0f921"
             ]
            ],
            "type": "heatmapgl"
           }
          ],
          "histogram": [
           {
            "marker": {
             "pattern": {
              "fillmode": "overlay",
              "size": 10,
              "solidity": 0.2
             }
            },
            "type": "histogram"
           }
          ],
          "histogram2d": [
           {
            "colorbar": {
             "outlinewidth": 0,
             "ticks": ""
            },
            "colorscale": [
             [
              0,
              "#0d0887"
             ],
             [
              0.1111111111111111,
              "#46039f"
             ],
             [
              0.2222222222222222,
              "#7201a8"
             ],
             [
              0.3333333333333333,
              "#9c179e"
             ],
             [
              0.4444444444444444,
              "#bd3786"
             ],
             [
              0.5555555555555556,
              "#d8576b"
             ],
             [
              0.6666666666666666,
              "#ed7953"
             ],
             [
              0.7777777777777778,
              "#fb9f3a"
             ],
             [
              0.8888888888888888,
              "#fdca26"
             ],
             [
              1,
              "#f0f921"
             ]
            ],
            "type": "histogram2d"
           }
          ],
          "histogram2dcontour": [
           {
            "colorbar": {
             "outlinewidth": 0,
             "ticks": ""
            },
            "colorscale": [
             [
              0,
              "#0d0887"
             ],
             [
              0.1111111111111111,
              "#46039f"
             ],
             [
              0.2222222222222222,
              "#7201a8"
             ],
             [
              0.3333333333333333,
              "#9c179e"
             ],
             [
              0.4444444444444444,
              "#bd3786"
             ],
             [
              0.5555555555555556,
              "#d8576b"
             ],
             [
              0.6666666666666666,
              "#ed7953"
             ],
             [
              0.7777777777777778,
              "#fb9f3a"
             ],
             [
              0.8888888888888888,
              "#fdca26"
             ],
             [
              1,
              "#f0f921"
             ]
            ],
            "type": "histogram2dcontour"
           }
          ],
          "mesh3d": [
           {
            "colorbar": {
             "outlinewidth": 0,
             "ticks": ""
            },
            "type": "mesh3d"
           }
          ],
          "parcoords": [
           {
            "line": {
             "colorbar": {
              "outlinewidth": 0,
              "ticks": ""
             }
            },
            "type": "parcoords"
           }
          ],
          "pie": [
           {
            "automargin": true,
            "type": "pie"
           }
          ],
          "scatter": [
           {
            "fillpattern": {
             "fillmode": "overlay",
             "size": 10,
             "solidity": 0.2
            },
            "type": "scatter"
           }
          ],
          "scatter3d": [
           {
            "line": {
             "colorbar": {
              "outlinewidth": 0,
              "ticks": ""
             }
            },
            "marker": {
             "colorbar": {
              "outlinewidth": 0,
              "ticks": ""
             }
            },
            "type": "scatter3d"
           }
          ],
          "scattercarpet": [
           {
            "marker": {
             "colorbar": {
              "outlinewidth": 0,
              "ticks": ""
             }
            },
            "type": "scattercarpet"
           }
          ],
          "scattergeo": [
           {
            "marker": {
             "colorbar": {
              "outlinewidth": 0,
              "ticks": ""
             }
            },
            "type": "scattergeo"
           }
          ],
          "scattergl": [
           {
            "marker": {
             "colorbar": {
              "outlinewidth": 0,
              "ticks": ""
             }
            },
            "type": "scattergl"
           }
          ],
          "scattermapbox": [
           {
            "marker": {
             "colorbar": {
              "outlinewidth": 0,
              "ticks": ""
             }
            },
            "type": "scattermapbox"
           }
          ],
          "scatterpolar": [
           {
            "marker": {
             "colorbar": {
              "outlinewidth": 0,
              "ticks": ""
             }
            },
            "type": "scatterpolar"
           }
          ],
          "scatterpolargl": [
           {
            "marker": {
             "colorbar": {
              "outlinewidth": 0,
              "ticks": ""
             }
            },
            "type": "scatterpolargl"
           }
          ],
          "scatterternary": [
           {
            "marker": {
             "colorbar": {
              "outlinewidth": 0,
              "ticks": ""
             }
            },
            "type": "scatterternary"
           }
          ],
          "surface": [
           {
            "colorbar": {
             "outlinewidth": 0,
             "ticks": ""
            },
            "colorscale": [
             [
              0,
              "#0d0887"
             ],
             [
              0.1111111111111111,
              "#46039f"
             ],
             [
              0.2222222222222222,
              "#7201a8"
             ],
             [
              0.3333333333333333,
              "#9c179e"
             ],
             [
              0.4444444444444444,
              "#bd3786"
             ],
             [
              0.5555555555555556,
              "#d8576b"
             ],
             [
              0.6666666666666666,
              "#ed7953"
             ],
             [
              0.7777777777777778,
              "#fb9f3a"
             ],
             [
              0.8888888888888888,
              "#fdca26"
             ],
             [
              1,
              "#f0f921"
             ]
            ],
            "type": "surface"
           }
          ],
          "table": [
           {
            "cells": {
             "fill": {
              "color": "#EBF0F8"
             },
             "line": {
              "color": "white"
             }
            },
            "header": {
             "fill": {
              "color": "#C8D4E3"
             },
             "line": {
              "color": "white"
             }
            },
            "type": "table"
           }
          ]
         },
         "layout": {
          "annotationdefaults": {
           "arrowcolor": "#2a3f5f",
           "arrowhead": 0,
           "arrowwidth": 1
          },
          "autotypenumbers": "strict",
          "coloraxis": {
           "colorbar": {
            "outlinewidth": 0,
            "ticks": ""
           }
          },
          "colorscale": {
           "diverging": [
            [
             0,
             "#8e0152"
            ],
            [
             0.1,
             "#c51b7d"
            ],
            [
             0.2,
             "#de77ae"
            ],
            [
             0.3,
             "#f1b6da"
            ],
            [
             0.4,
             "#fde0ef"
            ],
            [
             0.5,
             "#f7f7f7"
            ],
            [
             0.6,
             "#e6f5d0"
            ],
            [
             0.7,
             "#b8e186"
            ],
            [
             0.8,
             "#7fbc41"
            ],
            [
             0.9,
             "#4d9221"
            ],
            [
             1,
             "#276419"
            ]
           ],
           "sequential": [
            [
             0,
             "#0d0887"
            ],
            [
             0.1111111111111111,
             "#46039f"
            ],
            [
             0.2222222222222222,
             "#7201a8"
            ],
            [
             0.3333333333333333,
             "#9c179e"
            ],
            [
             0.4444444444444444,
             "#bd3786"
            ],
            [
             0.5555555555555556,
             "#d8576b"
            ],
            [
             0.6666666666666666,
             "#ed7953"
            ],
            [
             0.7777777777777778,
             "#fb9f3a"
            ],
            [
             0.8888888888888888,
             "#fdca26"
            ],
            [
             1,
             "#f0f921"
            ]
           ],
           "sequentialminus": [
            [
             0,
             "#0d0887"
            ],
            [
             0.1111111111111111,
             "#46039f"
            ],
            [
             0.2222222222222222,
             "#7201a8"
            ],
            [
             0.3333333333333333,
             "#9c179e"
            ],
            [
             0.4444444444444444,
             "#bd3786"
            ],
            [
             0.5555555555555556,
             "#d8576b"
            ],
            [
             0.6666666666666666,
             "#ed7953"
            ],
            [
             0.7777777777777778,
             "#fb9f3a"
            ],
            [
             0.8888888888888888,
             "#fdca26"
            ],
            [
             1,
             "#f0f921"
            ]
           ]
          },
          "colorway": [
           "#636efa",
           "#EF553B",
           "#00cc96",
           "#ab63fa",
           "#FFA15A",
           "#19d3f3",
           "#FF6692",
           "#B6E880",
           "#FF97FF",
           "#FECB52"
          ],
          "font": {
           "color": "#2a3f5f"
          },
          "geo": {
           "bgcolor": "white",
           "lakecolor": "white",
           "landcolor": "#E5ECF6",
           "showlakes": true,
           "showland": true,
           "subunitcolor": "white"
          },
          "hoverlabel": {
           "align": "left"
          },
          "hovermode": "closest",
          "mapbox": {
           "style": "light"
          },
          "paper_bgcolor": "white",
          "plot_bgcolor": "#E5ECF6",
          "polar": {
           "angularaxis": {
            "gridcolor": "white",
            "linecolor": "white",
            "ticks": ""
           },
           "bgcolor": "#E5ECF6",
           "radialaxis": {
            "gridcolor": "white",
            "linecolor": "white",
            "ticks": ""
           }
          },
          "scene": {
           "xaxis": {
            "backgroundcolor": "#E5ECF6",
            "gridcolor": "white",
            "gridwidth": 2,
            "linecolor": "white",
            "showbackground": true,
            "ticks": "",
            "zerolinecolor": "white"
           },
           "yaxis": {
            "backgroundcolor": "#E5ECF6",
            "gridcolor": "white",
            "gridwidth": 2,
            "linecolor": "white",
            "showbackground": true,
            "ticks": "",
            "zerolinecolor": "white"
           },
           "zaxis": {
            "backgroundcolor": "#E5ECF6",
            "gridcolor": "white",
            "gridwidth": 2,
            "linecolor": "white",
            "showbackground": true,
            "ticks": "",
            "zerolinecolor": "white"
           }
          },
          "shapedefaults": {
           "line": {
            "color": "#2a3f5f"
           }
          },
          "ternary": {
           "aaxis": {
            "gridcolor": "white",
            "linecolor": "white",
            "ticks": ""
           },
           "baxis": {
            "gridcolor": "white",
            "linecolor": "white",
            "ticks": ""
           },
           "bgcolor": "#E5ECF6",
           "caxis": {
            "gridcolor": "white",
            "linecolor": "white",
            "ticks": ""
           }
          },
          "title": {
           "x": 0.05
          },
          "xaxis": {
           "automargin": true,
           "gridcolor": "white",
           "linecolor": "white",
           "ticks": "",
           "title": {
            "standoff": 15
           },
           "zerolinecolor": "white",
           "zerolinewidth": 2
          },
          "yaxis": {
           "automargin": true,
           "gridcolor": "white",
           "linecolor": "white",
           "ticks": "",
           "title": {
            "standoff": 15
           },
           "zerolinecolor": "white",
           "zerolinewidth": 2
          }
         }
        },
        "title": {
         "font": {
          "color": "white",
          "family": "Roboto, sans-serif",
          "size": 23
         },
         "text": "DEFENDING",
         "x": 0.5,
         "xanchor": "center",
         "y": 0.98,
         "yanchor": "top"
        },
        "width": 625,
        "xaxis": {
         "gridcolor": "rgba(0,0,0,0)",
         "linecolor": "white",
         "linewidth": 2,
         "range": [
          9,
          30
         ],
         "showline": true,
         "tickfont": {
          "color": "white",
          "size": 15
         },
         "title": {
          "font": {
           "size": 25
          },
          "text": "CLEARANCES PER GAME"
         }
        },
        "yaxis": {
         "gridcolor": "rgba(0,0,0,0)",
         "linecolor": "white",
         "linewidth": 2,
         "range": [
          6,
          16
         ],
         "showline": true,
         "tickfont": {
          "color": "white",
          "size": 15
         },
         "title": {
          "font": {
           "size": 25
          },
          "text": "BLOCKS PER GAME"
         }
        }
       }
      }
     },
     "metadata": {},
     "output_type": "display_data"
    }
   ],
   "source": [
    "create_FM_team_scatter_chart(filtered_team_defending_chart, 'DEFENDING', \"Arsenal\", 'CLEARANCES PER GAME', 'BLOCKS PER GAME', \n",
    "                            1.0, 9, 30, 6, 16, \n",
    "                            \"Fewer blocks<br>Fewer Clearances\", \"Fewer blocks<br>Lots of Clearances\",\n",
    "                            \"Lots of blocks<br>Fewer Clearances\", \"Fewer blocks<br>Lots of Clearances\", \n",
    "                            \"red\", \"orange\", \"orange\", \"green\")"
   ]
  },
  {
   "cell_type": "code",
   "execution_count": 47,
   "metadata": {},
   "outputs": [
    {
     "data": {
      "application/vnd.plotly.v1+json": {
       "config": {
        "plotlyServerURL": "https://plotly.com"
       },
       "data": [
        {
         "hoverinfo": "text",
         "marker": {
          "opacity": 0
         },
         "mode": "markers",
         "text": "Hellas Verona",
         "type": "scatter",
         "x": [
          9.549071618
         ],
         "y": [
          13.464285714
         ]
        },
        {
         "hoverinfo": "text",
         "marker": {
          "opacity": 0
         },
         "mode": "markers",
         "text": "AC Milan",
         "type": "scatter",
         "x": [
          8.767123288
         ],
         "y": [
          13.035714286
         ]
        },
        {
         "hoverinfo": "text",
         "marker": {
          "opacity": 0
         },
         "mode": "markers",
         "text": "Fiorentina",
         "type": "scatter",
         "x": [
          11.55234657
         ],
         "y": [
          9.892857143
         ]
        },
        {
         "hoverinfo": "text",
         "marker": {
          "opacity": 0
         },
         "mode": "markers",
         "text": "Sassuolo",
         "type": "scatter",
         "x": [
          13.414634146
         ],
         "y": [
          14.642857143
         ]
        },
        {
         "hoverinfo": "text",
         "marker": {
          "opacity": 0
         },
         "mode": "markers",
         "text": "Lecce",
         "type": "scatter",
         "x": [
          11.873350923
         ],
         "y": [
          13.535714286
         ]
        },
        {
         "hoverinfo": "text",
         "marker": {
          "opacity": 0
         },
         "mode": "markers",
         "text": "Genoa",
         "type": "scatter",
         "x": [
          10.588235294
         ],
         "y": [
          12.142857143
         ]
        },
        {
         "hoverinfo": "text",
         "marker": {
          "opacity": 0
         },
         "mode": "markers",
         "text": "Inter",
         "type": "scatter",
         "x": [
          4.676258993
         ],
         "y": [
          9.928571429
         ]
        },
        {
         "hoverinfo": "text",
         "marker": {
          "opacity": 0
         },
         "mode": "markers",
         "text": "Lazio",
         "type": "scatter",
         "x": [
          8.563535912
         ],
         "y": [
          12.928571429
         ]
        },
        {
         "hoverinfo": "text",
         "marker": {
          "opacity": 0
         },
         "mode": "markers",
         "text": "Torino",
         "type": "scatter",
         "x": [
          8.580858086
         ],
         "y": [
          10.821428571
         ]
        },
        {
         "hoverinfo": "text",
         "marker": {
          "opacity": 0
         },
         "mode": "markers",
         "text": "Monza",
         "type": "scatter",
         "x": [
          8.823529412
         ],
         "y": [
          14.571428571
         ]
        },
        {
         "hoverinfo": "text",
         "marker": {
          "opacity": 0
         },
         "mode": "markers",
         "text": "Atalanta",
         "type": "scatter",
         "x": [
          9.785932722
         ],
         "y": [
          11.678571429
         ]
        },
        {
         "hoverinfo": "text",
         "marker": {
          "opacity": 0
         },
         "mode": "markers",
         "text": "Udinese",
         "type": "scatter",
         "x": [
          12.173913043
         ],
         "y": [
          12.321428571
         ]
        },
        {
         "hoverinfo": "text",
         "marker": {
          "opacity": 0
         },
         "mode": "markers",
         "text": "Juventus",
         "type": "scatter",
         "x": [
          7.142857143
         ],
         "y": [
          11.5
         ]
        },
        {
         "hoverinfo": "text",
         "marker": {
          "opacity": 0
         },
         "mode": "markers",
         "text": "Frosinone",
         "type": "scatter",
         "x": [
          13.801452785
         ],
         "y": [
          14.75
         ]
        },
        {
         "hoverinfo": "text",
         "marker": {
          "opacity": 0
         },
         "mode": "markers",
         "text": "Bologna",
         "type": "scatter",
         "x": [
          8.503401361
         ],
         "y": [
          10.5
         ]
        },
        {
         "hoverinfo": "text",
         "marker": {
          "opacity": 0
         },
         "mode": "markers",
         "text": "Empoli",
         "type": "scatter",
         "x": [
          10.513447433
         ],
         "y": [
          14.607142857
         ]
        },
        {
         "hoverinfo": "text",
         "marker": {
          "opacity": 0
         },
         "mode": "markers",
         "text": "Cagliari",
         "type": "scatter",
         "x": [
          13.351498638
         ],
         "y": [
          13.107142857
         ]
        },
        {
         "hoverinfo": "text",
         "marker": {
          "opacity": 0
         },
         "mode": "markers",
         "text": "Napoli",
         "type": "scatter",
         "x": [
          11.387900356
         ],
         "y": [
          10.035714286
         ]
        },
        {
         "hoverinfo": "text",
         "marker": {
          "opacity": 0
         },
         "mode": "markers",
         "text": "Roma",
         "type": "scatter",
         "x": [
          11.041009464
         ],
         "y": [
          11.321428571
         ]
        },
        {
         "hoverinfo": "text",
         "marker": {
          "opacity": 0
         },
         "mode": "markers",
         "text": "Salernitana",
         "type": "scatter",
         "x": [
          13.77672209
         ],
         "y": [
          15.035714286
         ]
        }
       ],
       "layout": {
        "annotations": [
         {
          "align": "left",
          "font": {
           "color": "green",
           "family": "Roboto, sans-serif",
           "size": 15
          },
          "showarrow": false,
          "text": "Quiet defence<br>Impenetrable defence",
          "x": 0,
          "xref": "paper",
          "y": 0,
          "yref": "paper"
         },
         {
          "align": "left",
          "font": {
           "color": "orange",
           "family": "Roboto, sans-serif",
           "size": 15
          },
          "showarrow": false,
          "text": "Busy defence<br>Impenetrable defence",
          "x": 0,
          "xref": "paper",
          "y": 1,
          "yref": "paper"
         },
         {
          "align": "right",
          "font": {
           "color": "red",
           "family": "Roboto, sans-serif",
           "size": 15
          },
          "showarrow": false,
          "text": "Busy defence<br>Leaky defence",
          "x": 1,
          "xref": "paper",
          "y": 1,
          "yref": "paper"
         },
         {
          "align": "right",
          "font": {
           "color": "orange",
           "family": "Roboto, sans-serif",
           "size": 15
          },
          "showarrow": false,
          "text": "Quiet defence<br>Leaky defence",
          "x": 1,
          "xref": "paper",
          "y": 0,
          "yref": "paper"
         }
        ],
        "font": {
         "color": "white",
         "family": "Roboto, sans-serif",
         "size": 25
        },
        "height": 625,
        "hoverlabel": {
         "bgcolor": "rgba(20, 20, 20, 0.8)",
         "font": {
          "family": "Roboto, sans-serif"
         }
        },
        "images": [
         {
          "layer": "above",
          "opacity": 0.35,
          "sizex": 0.7,
          "sizey": 0.7,
          "sizing": "contain",
          "source": "https://i.imgur.com/vhAWZQO.png",
          "x": 9.549071618,
          "xanchor": "center",
          "xref": "x",
          "y": 13.464285714,
          "yanchor": "middle",
          "yref": "y"
         },
         {
          "layer": "above",
          "opacity": 0.35,
          "sizex": 0.7,
          "sizey": 0.7,
          "sizing": "contain",
          "source": "https://i.imgur.com/1Ze94pt.png",
          "x": 8.767123288,
          "xanchor": "center",
          "xref": "x",
          "y": 13.035714286,
          "yanchor": "middle",
          "yref": "y"
         },
         {
          "layer": "above",
          "opacity": 0.35,
          "sizex": 0.7,
          "sizey": 0.7,
          "sizing": "contain",
          "source": "https://i.imgur.com/hOQC1jo.png",
          "x": 11.55234657,
          "xanchor": "center",
          "xref": "x",
          "y": 9.892857143,
          "yanchor": "middle",
          "yref": "y"
         },
         {
          "layer": "above",
          "opacity": 0.35,
          "sizex": 0.7,
          "sizey": 0.7,
          "sizing": "contain",
          "source": "https://i.imgur.com/px5mT39.png",
          "x": 13.414634146,
          "xanchor": "center",
          "xref": "x",
          "y": 14.642857143,
          "yanchor": "middle",
          "yref": "y"
         },
         {
          "layer": "above",
          "opacity": 0.35,
          "sizex": 0.7,
          "sizey": 0.7,
          "sizing": "contain",
          "source": "https://i.imgur.com/9A4flGu.png",
          "x": 11.873350923,
          "xanchor": "center",
          "xref": "x",
          "y": 13.535714286,
          "yanchor": "middle",
          "yref": "y"
         },
         {
          "layer": "above",
          "opacity": 0.35,
          "sizex": 0.7,
          "sizey": 0.7,
          "sizing": "contain",
          "source": "https://i.imgur.com/KjtIy8U.png",
          "x": 10.588235294,
          "xanchor": "center",
          "xref": "x",
          "y": 12.142857143,
          "yanchor": "middle",
          "yref": "y"
         },
         {
          "layer": "above",
          "opacity": 0.35,
          "sizex": 0.7,
          "sizey": 0.7,
          "sizing": "contain",
          "source": "https://i.imgur.com/JsJ06ke.png",
          "x": 4.676258993,
          "xanchor": "center",
          "xref": "x",
          "y": 9.928571429,
          "yanchor": "middle",
          "yref": "y"
         },
         {
          "layer": "above",
          "opacity": 0.35,
          "sizex": 0.7,
          "sizey": 0.7,
          "sizing": "contain",
          "source": "https://i.imgur.com/SBsGYjm.png",
          "x": 8.563535912,
          "xanchor": "center",
          "xref": "x",
          "y": 12.928571429,
          "yanchor": "middle",
          "yref": "y"
         },
         {
          "layer": "above",
          "opacity": 0.35,
          "sizex": 0.7,
          "sizey": 0.7,
          "sizing": "contain",
          "source": "https://i.imgur.com/XWmpYeu.png",
          "x": 8.580858086,
          "xanchor": "center",
          "xref": "x",
          "y": 10.821428571,
          "yanchor": "middle",
          "yref": "y"
         },
         {
          "layer": "above",
          "opacity": 0.35,
          "sizex": 0.7,
          "sizey": 0.7,
          "sizing": "contain",
          "source": "https://i.imgur.com/7bHOIx9.png",
          "x": 8.823529412,
          "xanchor": "center",
          "xref": "x",
          "y": 14.571428571,
          "yanchor": "middle",
          "yref": "y"
         },
         {
          "layer": "above",
          "opacity": 0.35,
          "sizex": 0.7,
          "sizey": 0.7,
          "sizing": "contain",
          "source": "https://i.imgur.com/SDA0nMH.png",
          "x": 9.785932722,
          "xanchor": "center",
          "xref": "x",
          "y": 11.678571429,
          "yanchor": "middle",
          "yref": "y"
         },
         {
          "layer": "above",
          "opacity": 0.35,
          "sizex": 0.7,
          "sizey": 0.7,
          "sizing": "contain",
          "source": "https://i.imgur.com/Dp0KUmN.png",
          "x": 12.173913043,
          "xanchor": "center",
          "xref": "x",
          "y": 12.321428571,
          "yanchor": "middle",
          "yref": "y"
         },
         {
          "layer": "above",
          "opacity": 0.35,
          "sizex": 0.7,
          "sizey": 0.7,
          "sizing": "contain",
          "source": "https://i.imgur.com/60XAIJI.png",
          "x": 7.142857143,
          "xanchor": "center",
          "xref": "x",
          "y": 11.5,
          "yanchor": "middle",
          "yref": "y"
         },
         {
          "layer": "above",
          "opacity": 0.35,
          "sizex": 0.7,
          "sizey": 0.7,
          "sizing": "contain",
          "source": "https://i.imgur.com/x8qGMuV.png",
          "x": 13.801452785,
          "xanchor": "center",
          "xref": "x",
          "y": 14.75,
          "yanchor": "middle",
          "yref": "y"
         },
         {
          "layer": "above",
          "opacity": 0.35,
          "sizex": 0.7,
          "sizey": 0.7,
          "sizing": "contain",
          "source": "https://i.imgur.com/rVqtfOA.png",
          "x": 8.503401361,
          "xanchor": "center",
          "xref": "x",
          "y": 10.5,
          "yanchor": "middle",
          "yref": "y"
         },
         {
          "layer": "above",
          "opacity": 0.35,
          "sizex": 0.7,
          "sizey": 0.7,
          "sizing": "contain",
          "source": "https://i.imgur.com/52xSYdX.png",
          "x": 10.513447433,
          "xanchor": "center",
          "xref": "x",
          "y": 14.607142857,
          "yanchor": "middle",
          "yref": "y"
         },
         {
          "layer": "above",
          "opacity": 0.35,
          "sizex": 0.7,
          "sizey": 0.7,
          "sizing": "contain",
          "source": "https://i.imgur.com/rbAC6zo.png",
          "x": 13.351498638,
          "xanchor": "center",
          "xref": "x",
          "y": 13.107142857,
          "yanchor": "middle",
          "yref": "y"
         },
         {
          "layer": "above",
          "opacity": 0.35,
          "sizex": 0.7,
          "sizey": 0.7,
          "sizing": "contain",
          "source": "https://i.imgur.com/Ql7LKBZ.png",
          "x": 11.387900356,
          "xanchor": "center",
          "xref": "x",
          "y": 10.035714286,
          "yanchor": "middle",
          "yref": "y"
         },
         {
          "layer": "above",
          "opacity": 0.35,
          "sizex": 0.7,
          "sizey": 0.7,
          "sizing": "contain",
          "source": "https://i.imgur.com/nhMJAHW.png",
          "x": 11.041009464,
          "xanchor": "center",
          "xref": "x",
          "y": 11.321428571,
          "yanchor": "middle",
          "yref": "y"
         },
         {
          "layer": "above",
          "opacity": 0.35,
          "sizex": 0.7,
          "sizey": 0.7,
          "sizing": "contain",
          "source": "https://i.imgur.com/sYubMBZ.png",
          "x": 13.77672209,
          "xanchor": "center",
          "xref": "x",
          "y": 15.035714286,
          "yanchor": "middle",
          "yref": "y"
         }
        ],
        "margin": {
         "b": 10,
         "l": 10,
         "r": 30,
         "t": 50
        },
        "paper_bgcolor": "rgb(70, 70, 70)",
        "plot_bgcolor": "rgb(70, 70, 70)",
        "shapes": [
         {
          "layer": "below",
          "line": {
           "color": "White",
           "width": 3
          },
          "type": "line",
          "x0": 10.39335396385,
          "x1": 10.39335396385,
          "y0": 5.5,
          "y1": 18.5
         },
         {
          "layer": "below",
          "line": {
           "color": "White",
           "width": 3
          },
          "type": "line",
          "x0": 4,
          "x1": 18.5,
          "y0": 12.4910714286,
          "y1": 12.4910714286
         }
        ],
        "showlegend": false,
        "template": {
         "data": {
          "bar": [
           {
            "error_x": {
             "color": "#2a3f5f"
            },
            "error_y": {
             "color": "#2a3f5f"
            },
            "marker": {
             "line": {
              "color": "#E5ECF6",
              "width": 0.5
             },
             "pattern": {
              "fillmode": "overlay",
              "size": 10,
              "solidity": 0.2
             }
            },
            "type": "bar"
           }
          ],
          "barpolar": [
           {
            "marker": {
             "line": {
              "color": "#E5ECF6",
              "width": 0.5
             },
             "pattern": {
              "fillmode": "overlay",
              "size": 10,
              "solidity": 0.2
             }
            },
            "type": "barpolar"
           }
          ],
          "carpet": [
           {
            "aaxis": {
             "endlinecolor": "#2a3f5f",
             "gridcolor": "white",
             "linecolor": "white",
             "minorgridcolor": "white",
             "startlinecolor": "#2a3f5f"
            },
            "baxis": {
             "endlinecolor": "#2a3f5f",
             "gridcolor": "white",
             "linecolor": "white",
             "minorgridcolor": "white",
             "startlinecolor": "#2a3f5f"
            },
            "type": "carpet"
           }
          ],
          "choropleth": [
           {
            "colorbar": {
             "outlinewidth": 0,
             "ticks": ""
            },
            "type": "choropleth"
           }
          ],
          "contour": [
           {
            "colorbar": {
             "outlinewidth": 0,
             "ticks": ""
            },
            "colorscale": [
             [
              0,
              "#0d0887"
             ],
             [
              0.1111111111111111,
              "#46039f"
             ],
             [
              0.2222222222222222,
              "#7201a8"
             ],
             [
              0.3333333333333333,
              "#9c179e"
             ],
             [
              0.4444444444444444,
              "#bd3786"
             ],
             [
              0.5555555555555556,
              "#d8576b"
             ],
             [
              0.6666666666666666,
              "#ed7953"
             ],
             [
              0.7777777777777778,
              "#fb9f3a"
             ],
             [
              0.8888888888888888,
              "#fdca26"
             ],
             [
              1,
              "#f0f921"
             ]
            ],
            "type": "contour"
           }
          ],
          "contourcarpet": [
           {
            "colorbar": {
             "outlinewidth": 0,
             "ticks": ""
            },
            "type": "contourcarpet"
           }
          ],
          "heatmap": [
           {
            "colorbar": {
             "outlinewidth": 0,
             "ticks": ""
            },
            "colorscale": [
             [
              0,
              "#0d0887"
             ],
             [
              0.1111111111111111,
              "#46039f"
             ],
             [
              0.2222222222222222,
              "#7201a8"
             ],
             [
              0.3333333333333333,
              "#9c179e"
             ],
             [
              0.4444444444444444,
              "#bd3786"
             ],
             [
              0.5555555555555556,
              "#d8576b"
             ],
             [
              0.6666666666666666,
              "#ed7953"
             ],
             [
              0.7777777777777778,
              "#fb9f3a"
             ],
             [
              0.8888888888888888,
              "#fdca26"
             ],
             [
              1,
              "#f0f921"
             ]
            ],
            "type": "heatmap"
           }
          ],
          "heatmapgl": [
           {
            "colorbar": {
             "outlinewidth": 0,
             "ticks": ""
            },
            "colorscale": [
             [
              0,
              "#0d0887"
             ],
             [
              0.1111111111111111,
              "#46039f"
             ],
             [
              0.2222222222222222,
              "#7201a8"
             ],
             [
              0.3333333333333333,
              "#9c179e"
             ],
             [
              0.4444444444444444,
              "#bd3786"
             ],
             [
              0.5555555555555556,
              "#d8576b"
             ],
             [
              0.6666666666666666,
              "#ed7953"
             ],
             [
              0.7777777777777778,
              "#fb9f3a"
             ],
             [
              0.8888888888888888,
              "#fdca26"
             ],
             [
              1,
              "#f0f921"
             ]
            ],
            "type": "heatmapgl"
           }
          ],
          "histogram": [
           {
            "marker": {
             "pattern": {
              "fillmode": "overlay",
              "size": 10,
              "solidity": 0.2
             }
            },
            "type": "histogram"
           }
          ],
          "histogram2d": [
           {
            "colorbar": {
             "outlinewidth": 0,
             "ticks": ""
            },
            "colorscale": [
             [
              0,
              "#0d0887"
             ],
             [
              0.1111111111111111,
              "#46039f"
             ],
             [
              0.2222222222222222,
              "#7201a8"
             ],
             [
              0.3333333333333333,
              "#9c179e"
             ],
             [
              0.4444444444444444,
              "#bd3786"
             ],
             [
              0.5555555555555556,
              "#d8576b"
             ],
             [
              0.6666666666666666,
              "#ed7953"
             ],
             [
              0.7777777777777778,
              "#fb9f3a"
             ],
             [
              0.8888888888888888,
              "#fdca26"
             ],
             [
              1,
              "#f0f921"
             ]
            ],
            "type": "histogram2d"
           }
          ],
          "histogram2dcontour": [
           {
            "colorbar": {
             "outlinewidth": 0,
             "ticks": ""
            },
            "colorscale": [
             [
              0,
              "#0d0887"
             ],
             [
              0.1111111111111111,
              "#46039f"
             ],
             [
              0.2222222222222222,
              "#7201a8"
             ],
             [
              0.3333333333333333,
              "#9c179e"
             ],
             [
              0.4444444444444444,
              "#bd3786"
             ],
             [
              0.5555555555555556,
              "#d8576b"
             ],
             [
              0.6666666666666666,
              "#ed7953"
             ],
             [
              0.7777777777777778,
              "#fb9f3a"
             ],
             [
              0.8888888888888888,
              "#fdca26"
             ],
             [
              1,
              "#f0f921"
             ]
            ],
            "type": "histogram2dcontour"
           }
          ],
          "mesh3d": [
           {
            "colorbar": {
             "outlinewidth": 0,
             "ticks": ""
            },
            "type": "mesh3d"
           }
          ],
          "parcoords": [
           {
            "line": {
             "colorbar": {
              "outlinewidth": 0,
              "ticks": ""
             }
            },
            "type": "parcoords"
           }
          ],
          "pie": [
           {
            "automargin": true,
            "type": "pie"
           }
          ],
          "scatter": [
           {
            "fillpattern": {
             "fillmode": "overlay",
             "size": 10,
             "solidity": 0.2
            },
            "type": "scatter"
           }
          ],
          "scatter3d": [
           {
            "line": {
             "colorbar": {
              "outlinewidth": 0,
              "ticks": ""
             }
            },
            "marker": {
             "colorbar": {
              "outlinewidth": 0,
              "ticks": ""
             }
            },
            "type": "scatter3d"
           }
          ],
          "scattercarpet": [
           {
            "marker": {
             "colorbar": {
              "outlinewidth": 0,
              "ticks": ""
             }
            },
            "type": "scattercarpet"
           }
          ],
          "scattergeo": [
           {
            "marker": {
             "colorbar": {
              "outlinewidth": 0,
              "ticks": ""
             }
            },
            "type": "scattergeo"
           }
          ],
          "scattergl": [
           {
            "marker": {
             "colorbar": {
              "outlinewidth": 0,
              "ticks": ""
             }
            },
            "type": "scattergl"
           }
          ],
          "scattermapbox": [
           {
            "marker": {
             "colorbar": {
              "outlinewidth": 0,
              "ticks": ""
             }
            },
            "type": "scattermapbox"
           }
          ],
          "scatterpolar": [
           {
            "marker": {
             "colorbar": {
              "outlinewidth": 0,
              "ticks": ""
             }
            },
            "type": "scatterpolar"
           }
          ],
          "scatterpolargl": [
           {
            "marker": {
             "colorbar": {
              "outlinewidth": 0,
              "ticks": ""
             }
            },
            "type": "scatterpolargl"
           }
          ],
          "scatterternary": [
           {
            "marker": {
             "colorbar": {
              "outlinewidth": 0,
              "ticks": ""
             }
            },
            "type": "scatterternary"
           }
          ],
          "surface": [
           {
            "colorbar": {
             "outlinewidth": 0,
             "ticks": ""
            },
            "colorscale": [
             [
              0,
              "#0d0887"
             ],
             [
              0.1111111111111111,
              "#46039f"
             ],
             [
              0.2222222222222222,
              "#7201a8"
             ],
             [
              0.3333333333333333,
              "#9c179e"
             ],
             [
              0.4444444444444444,
              "#bd3786"
             ],
             [
              0.5555555555555556,
              "#d8576b"
             ],
             [
              0.6666666666666666,
              "#ed7953"
             ],
             [
              0.7777777777777778,
              "#fb9f3a"
             ],
             [
              0.8888888888888888,
              "#fdca26"
             ],
             [
              1,
              "#f0f921"
             ]
            ],
            "type": "surface"
           }
          ],
          "table": [
           {
            "cells": {
             "fill": {
              "color": "#EBF0F8"
             },
             "line": {
              "color": "white"
             }
            },
            "header": {
             "fill": {
              "color": "#C8D4E3"
             },
             "line": {
              "color": "white"
             }
            },
            "type": "table"
           }
          ]
         },
         "layout": {
          "annotationdefaults": {
           "arrowcolor": "#2a3f5f",
           "arrowhead": 0,
           "arrowwidth": 1
          },
          "autotypenumbers": "strict",
          "coloraxis": {
           "colorbar": {
            "outlinewidth": 0,
            "ticks": ""
           }
          },
          "colorscale": {
           "diverging": [
            [
             0,
             "#8e0152"
            ],
            [
             0.1,
             "#c51b7d"
            ],
            [
             0.2,
             "#de77ae"
            ],
            [
             0.3,
             "#f1b6da"
            ],
            [
             0.4,
             "#fde0ef"
            ],
            [
             0.5,
             "#f7f7f7"
            ],
            [
             0.6,
             "#e6f5d0"
            ],
            [
             0.7,
             "#b8e186"
            ],
            [
             0.8,
             "#7fbc41"
            ],
            [
             0.9,
             "#4d9221"
            ],
            [
             1,
             "#276419"
            ]
           ],
           "sequential": [
            [
             0,
             "#0d0887"
            ],
            [
             0.1111111111111111,
             "#46039f"
            ],
            [
             0.2222222222222222,
             "#7201a8"
            ],
            [
             0.3333333333333333,
             "#9c179e"
            ],
            [
             0.4444444444444444,
             "#bd3786"
            ],
            [
             0.5555555555555556,
             "#d8576b"
            ],
            [
             0.6666666666666666,
             "#ed7953"
            ],
            [
             0.7777777777777778,
             "#fb9f3a"
            ],
            [
             0.8888888888888888,
             "#fdca26"
            ],
            [
             1,
             "#f0f921"
            ]
           ],
           "sequentialminus": [
            [
             0,
             "#0d0887"
            ],
            [
             0.1111111111111111,
             "#46039f"
            ],
            [
             0.2222222222222222,
             "#7201a8"
            ],
            [
             0.3333333333333333,
             "#9c179e"
            ],
            [
             0.4444444444444444,
             "#bd3786"
            ],
            [
             0.5555555555555556,
             "#d8576b"
            ],
            [
             0.6666666666666666,
             "#ed7953"
            ],
            [
             0.7777777777777778,
             "#fb9f3a"
            ],
            [
             0.8888888888888888,
             "#fdca26"
            ],
            [
             1,
             "#f0f921"
            ]
           ]
          },
          "colorway": [
           "#636efa",
           "#EF553B",
           "#00cc96",
           "#ab63fa",
           "#FFA15A",
           "#19d3f3",
           "#FF6692",
           "#B6E880",
           "#FF97FF",
           "#FECB52"
          ],
          "font": {
           "color": "#2a3f5f"
          },
          "geo": {
           "bgcolor": "white",
           "lakecolor": "white",
           "landcolor": "#E5ECF6",
           "showlakes": true,
           "showland": true,
           "subunitcolor": "white"
          },
          "hoverlabel": {
           "align": "left"
          },
          "hovermode": "closest",
          "mapbox": {
           "style": "light"
          },
          "paper_bgcolor": "white",
          "plot_bgcolor": "#E5ECF6",
          "polar": {
           "angularaxis": {
            "gridcolor": "white",
            "linecolor": "white",
            "ticks": ""
           },
           "bgcolor": "#E5ECF6",
           "radialaxis": {
            "gridcolor": "white",
            "linecolor": "white",
            "ticks": ""
           }
          },
          "scene": {
           "xaxis": {
            "backgroundcolor": "#E5ECF6",
            "gridcolor": "white",
            "gridwidth": 2,
            "linecolor": "white",
            "showbackground": true,
            "ticks": "",
            "zerolinecolor": "white"
           },
           "yaxis": {
            "backgroundcolor": "#E5ECF6",
            "gridcolor": "white",
            "gridwidth": 2,
            "linecolor": "white",
            "showbackground": true,
            "ticks": "",
            "zerolinecolor": "white"
           },
           "zaxis": {
            "backgroundcolor": "#E5ECF6",
            "gridcolor": "white",
            "gridwidth": 2,
            "linecolor": "white",
            "showbackground": true,
            "ticks": "",
            "zerolinecolor": "white"
           }
          },
          "shapedefaults": {
           "line": {
            "color": "#2a3f5f"
           }
          },
          "ternary": {
           "aaxis": {
            "gridcolor": "white",
            "linecolor": "white",
            "ticks": ""
           },
           "baxis": {
            "gridcolor": "white",
            "linecolor": "white",
            "ticks": ""
           },
           "bgcolor": "#E5ECF6",
           "caxis": {
            "gridcolor": "white",
            "linecolor": "white",
            "ticks": ""
           }
          },
          "title": {
           "x": 0.05
          },
          "xaxis": {
           "automargin": true,
           "gridcolor": "white",
           "linecolor": "white",
           "ticks": "",
           "title": {
            "standoff": 15
           },
           "zerolinecolor": "white",
           "zerolinewidth": 2
          },
          "yaxis": {
           "automargin": true,
           "gridcolor": "white",
           "linecolor": "white",
           "ticks": "",
           "title": {
            "standoff": 15
           },
           "zerolinecolor": "white",
           "zerolinewidth": 2
          }
         }
        },
        "title": {
         "font": {
          "color": "white",
          "family": "Roboto, sans-serif",
          "size": 23
         },
         "text": "DEFENSIVE EFFICIENCY",
         "x": 0.5,
         "xanchor": "center",
         "y": 0.98,
         "yanchor": "top"
        },
        "width": 625,
        "xaxis": {
         "gridcolor": "rgba(0,0,0,0)",
         "linecolor": "white",
         "linewidth": 2,
         "range": [
          4,
          18.5
         ],
         "showline": true,
         "tickfont": {
          "color": "white",
          "size": 15
         },
         "title": {
          "font": {
           "size": 25
          },
          "text": "OPPOSITION CONVERSION RATE (%)"
         }
        },
        "yaxis": {
         "gridcolor": "rgba(0,0,0,0)",
         "linecolor": "white",
         "linewidth": 2,
         "range": [
          5.5,
          18.5
         ],
         "showline": true,
         "tickfont": {
          "color": "white",
          "size": 15
         },
         "title": {
          "font": {
           "size": 25
          },
          "text": "SHOTS FACED PER GAME"
         }
        }
       }
      }
     },
     "metadata": {},
     "output_type": "display_data"
    }
   ],
   "source": [
    "create_FM_team_scatter_chart(filtered_team_defending_chart, 'DEFENSIVE EFFICIENCY', \"Arsenal\", 'OPPOSITION CONVERSION RATE (%)', \n",
    "                             'SHOTS FACED PER GAME', 0.7, 4.0, 18.5, 5.5, 18.5, \n",
    "                            # 0.85, 7, 30, 4, 18, \n",
    "                            \"Quiet defence<br>Impenetrable defence\", \"Quiet defence<br>Leaky defence\", \n",
    "                            \"Busy defence<br>Impenetrable defence\", \"Busy defence<br>Leaky defence\", \n",
    "                            \"green\", \"orange\", \"orange\", \"red\")"
   ]
  },
  {
   "cell_type": "code",
   "execution_count": 48,
   "metadata": {},
   "outputs": [
    {
     "data": {
      "application/vnd.plotly.v1+json": {
       "config": {
        "plotlyServerURL": "https://plotly.com"
       },
       "data": [
        {
         "hoverinfo": "text",
         "marker": {
          "opacity": 0
         },
         "mode": "markers",
         "text": "Hellas Verona",
         "type": "scatter",
         "x": [
          13.464285714
         ],
         "y": [
          1.285714286
         ]
        },
        {
         "hoverinfo": "text",
         "marker": {
          "opacity": 0
         },
         "mode": "markers",
         "text": "AC Milan",
         "type": "scatter",
         "x": [
          13.035714286
         ],
         "y": [
          1.142857143
         ]
        },
        {
         "hoverinfo": "text",
         "marker": {
          "opacity": 0
         },
         "mode": "markers",
         "text": "Fiorentina",
         "type": "scatter",
         "x": [
          9.892857143
         ],
         "y": [
          1.142857143
         ]
        },
        {
         "hoverinfo": "text",
         "marker": {
          "opacity": 0
         },
         "mode": "markers",
         "text": "Sassuolo",
         "type": "scatter",
         "x": [
          14.642857143
         ],
         "y": [
          1.964285714
         ]
        },
        {
         "hoverinfo": "text",
         "marker": {
          "opacity": 0
         },
         "mode": "markers",
         "text": "Lecce",
         "type": "scatter",
         "x": [
          13.535714286
         ],
         "y": [
          1.607142857
         ]
        },
        {
         "hoverinfo": "text",
         "marker": {
          "opacity": 0
         },
         "mode": "markers",
         "text": "Genoa",
         "type": "scatter",
         "x": [
          12.142857143
         ],
         "y": [
          1.285714286
         ]
        },
        {
         "hoverinfo": "text",
         "marker": {
          "opacity": 0
         },
         "mode": "markers",
         "text": "Inter",
         "type": "scatter",
         "x": [
          9.928571429
         ],
         "y": [
          0.4642857143
         ]
        },
        {
         "hoverinfo": "text",
         "marker": {
          "opacity": 0
         },
         "mode": "markers",
         "text": "Lazio",
         "type": "scatter",
         "x": [
          12.928571429
         ],
         "y": [
          1.107142857
         ]
        },
        {
         "hoverinfo": "text",
         "marker": {
          "opacity": 0
         },
         "mode": "markers",
         "text": "Torino",
         "type": "scatter",
         "x": [
          10.821428571
         ],
         "y": [
          0.9285714286
         ]
        },
        {
         "hoverinfo": "text",
         "marker": {
          "opacity": 0
         },
         "mode": "markers",
         "text": "Monza",
         "type": "scatter",
         "x": [
          14.571428571
         ],
         "y": [
          1.285714286
         ]
        },
        {
         "hoverinfo": "text",
         "marker": {
          "opacity": 0
         },
         "mode": "markers",
         "text": "Atalanta",
         "type": "scatter",
         "x": [
          11.678571429
         ],
         "y": [
          1.142857143
         ]
        },
        {
         "hoverinfo": "text",
         "marker": {
          "opacity": 0
         },
         "mode": "markers",
         "text": "Udinese",
         "type": "scatter",
         "x": [
          12.321428571
         ],
         "y": [
          1.5
         ]
        },
        {
         "hoverinfo": "text",
         "marker": {
          "opacity": 0
         },
         "mode": "markers",
         "text": "Juventus",
         "type": "scatter",
         "x": [
          11.5
         ],
         "y": [
          0.8214285714
         ]
        },
        {
         "hoverinfo": "text",
         "marker": {
          "opacity": 0
         },
         "mode": "markers",
         "text": "Frosinone",
         "type": "scatter",
         "x": [
          14.75
         ],
         "y": [
          2.035714286
         ]
        },
        {
         "hoverinfo": "text",
         "marker": {
          "opacity": 0
         },
         "mode": "markers",
         "text": "Bologna",
         "type": "scatter",
         "x": [
          10.5
         ],
         "y": [
          0.8928571429
         ]
        },
        {
         "hoverinfo": "text",
         "marker": {
          "opacity": 0
         },
         "mode": "markers",
         "text": "Empoli",
         "type": "scatter",
         "x": [
          14.607142857
         ],
         "y": [
          1.535714286
         ]
        },
        {
         "hoverinfo": "text",
         "marker": {
          "opacity": 0
         },
         "mode": "markers",
         "text": "Cagliari",
         "type": "scatter",
         "x": [
          13.107142857
         ],
         "y": [
          1.75
         ]
        },
        {
         "hoverinfo": "text",
         "marker": {
          "opacity": 0
         },
         "mode": "markers",
         "text": "Napoli",
         "type": "scatter",
         "x": [
          10.035714286
         ],
         "y": [
          1.142857143
         ]
        },
        {
         "hoverinfo": "text",
         "marker": {
          "opacity": 0
         },
         "mode": "markers",
         "text": "Roma",
         "type": "scatter",
         "x": [
          11.321428571
         ],
         "y": [
          1.25
         ]
        },
        {
         "hoverinfo": "text",
         "marker": {
          "opacity": 0
         },
         "mode": "markers",
         "text": "Salernitana",
         "type": "scatter",
         "x": [
          15.035714286
         ],
         "y": [
          2.071428571
         ]
        }
       ],
       "layout": {
        "annotations": [
         {
          "align": "left",
          "font": {
           "color": "green",
           "family": "Roboto, sans-serif",
           "size": 15
          },
          "showarrow": false,
          "text": "Impenetrable defence<br>Quiet defence",
          "x": 0,
          "xref": "paper",
          "y": 0,
          "yref": "paper"
         },
         {
          "align": "left",
          "font": {
           "color": "orange",
           "family": "Roboto, sans-serif",
           "size": 15
          },
          "showarrow": false,
          "text": "Leaky defence<br>Quiet defence",
          "x": 0,
          "xref": "paper",
          "y": 1,
          "yref": "paper"
         },
         {
          "align": "right",
          "font": {
           "color": "red",
           "family": "Roboto, sans-serif",
           "size": 15
          },
          "showarrow": false,
          "text": "Leaky defence<br>Busy defence",
          "x": 1,
          "xref": "paper",
          "y": 1,
          "yref": "paper"
         },
         {
          "align": "right",
          "font": {
           "color": "orange",
           "family": "Roboto, sans-serif",
           "size": 15
          },
          "showarrow": false,
          "text": "Impenetrable defence<br>Busy defence",
          "x": 1,
          "xref": "paper",
          "y": 0,
          "yref": "paper"
         }
        ],
        "font": {
         "color": "white",
         "family": "Roboto, sans-serif",
         "size": 25
        },
        "height": 625,
        "hoverlabel": {
         "bgcolor": "rgba(20, 20, 20, 0.8)",
         "font": {
          "family": "Roboto, sans-serif"
         }
        },
        "images": [
         {
          "layer": "above",
          "opacity": 0.35,
          "sizex": 0.55,
          "sizey": 0.55,
          "sizing": "contain",
          "source": "https://i.imgur.com/vhAWZQO.png",
          "x": 13.464285714,
          "xanchor": "center",
          "xref": "x",
          "y": 1.285714286,
          "yanchor": "middle",
          "yref": "y"
         },
         {
          "layer": "above",
          "opacity": 0.35,
          "sizex": 0.55,
          "sizey": 0.55,
          "sizing": "contain",
          "source": "https://i.imgur.com/1Ze94pt.png",
          "x": 13.035714286,
          "xanchor": "center",
          "xref": "x",
          "y": 1.142857143,
          "yanchor": "middle",
          "yref": "y"
         },
         {
          "layer": "above",
          "opacity": 0.35,
          "sizex": 0.55,
          "sizey": 0.55,
          "sizing": "contain",
          "source": "https://i.imgur.com/hOQC1jo.png",
          "x": 9.892857143,
          "xanchor": "center",
          "xref": "x",
          "y": 1.142857143,
          "yanchor": "middle",
          "yref": "y"
         },
         {
          "layer": "above",
          "opacity": 0.35,
          "sizex": 0.55,
          "sizey": 0.55,
          "sizing": "contain",
          "source": "https://i.imgur.com/px5mT39.png",
          "x": 14.642857143,
          "xanchor": "center",
          "xref": "x",
          "y": 1.964285714,
          "yanchor": "middle",
          "yref": "y"
         },
         {
          "layer": "above",
          "opacity": 0.35,
          "sizex": 0.55,
          "sizey": 0.55,
          "sizing": "contain",
          "source": "https://i.imgur.com/9A4flGu.png",
          "x": 13.535714286,
          "xanchor": "center",
          "xref": "x",
          "y": 1.607142857,
          "yanchor": "middle",
          "yref": "y"
         },
         {
          "layer": "above",
          "opacity": 0.35,
          "sizex": 0.55,
          "sizey": 0.55,
          "sizing": "contain",
          "source": "https://i.imgur.com/KjtIy8U.png",
          "x": 12.142857143,
          "xanchor": "center",
          "xref": "x",
          "y": 1.285714286,
          "yanchor": "middle",
          "yref": "y"
         },
         {
          "layer": "above",
          "opacity": 0.35,
          "sizex": 0.55,
          "sizey": 0.55,
          "sizing": "contain",
          "source": "https://i.imgur.com/JsJ06ke.png",
          "x": 9.928571429,
          "xanchor": "center",
          "xref": "x",
          "y": 0.4642857143,
          "yanchor": "middle",
          "yref": "y"
         },
         {
          "layer": "above",
          "opacity": 0.35,
          "sizex": 0.55,
          "sizey": 0.55,
          "sizing": "contain",
          "source": "https://i.imgur.com/SBsGYjm.png",
          "x": 12.928571429,
          "xanchor": "center",
          "xref": "x",
          "y": 1.107142857,
          "yanchor": "middle",
          "yref": "y"
         },
         {
          "layer": "above",
          "opacity": 0.35,
          "sizex": 0.55,
          "sizey": 0.55,
          "sizing": "contain",
          "source": "https://i.imgur.com/XWmpYeu.png",
          "x": 10.821428571,
          "xanchor": "center",
          "xref": "x",
          "y": 0.9285714286,
          "yanchor": "middle",
          "yref": "y"
         },
         {
          "layer": "above",
          "opacity": 0.35,
          "sizex": 0.55,
          "sizey": 0.55,
          "sizing": "contain",
          "source": "https://i.imgur.com/7bHOIx9.png",
          "x": 14.571428571,
          "xanchor": "center",
          "xref": "x",
          "y": 1.285714286,
          "yanchor": "middle",
          "yref": "y"
         },
         {
          "layer": "above",
          "opacity": 0.35,
          "sizex": 0.55,
          "sizey": 0.55,
          "sizing": "contain",
          "source": "https://i.imgur.com/SDA0nMH.png",
          "x": 11.678571429,
          "xanchor": "center",
          "xref": "x",
          "y": 1.142857143,
          "yanchor": "middle",
          "yref": "y"
         },
         {
          "layer": "above",
          "opacity": 0.35,
          "sizex": 0.55,
          "sizey": 0.55,
          "sizing": "contain",
          "source": "https://i.imgur.com/Dp0KUmN.png",
          "x": 12.321428571,
          "xanchor": "center",
          "xref": "x",
          "y": 1.5,
          "yanchor": "middle",
          "yref": "y"
         },
         {
          "layer": "above",
          "opacity": 0.35,
          "sizex": 0.55,
          "sizey": 0.55,
          "sizing": "contain",
          "source": "https://i.imgur.com/60XAIJI.png",
          "x": 11.5,
          "xanchor": "center",
          "xref": "x",
          "y": 0.8214285714,
          "yanchor": "middle",
          "yref": "y"
         },
         {
          "layer": "above",
          "opacity": 0.35,
          "sizex": 0.55,
          "sizey": 0.55,
          "sizing": "contain",
          "source": "https://i.imgur.com/x8qGMuV.png",
          "x": 14.75,
          "xanchor": "center",
          "xref": "x",
          "y": 2.035714286,
          "yanchor": "middle",
          "yref": "y"
         },
         {
          "layer": "above",
          "opacity": 0.35,
          "sizex": 0.55,
          "sizey": 0.55,
          "sizing": "contain",
          "source": "https://i.imgur.com/rVqtfOA.png",
          "x": 10.5,
          "xanchor": "center",
          "xref": "x",
          "y": 0.8928571429,
          "yanchor": "middle",
          "yref": "y"
         },
         {
          "layer": "above",
          "opacity": 0.35,
          "sizex": 0.55,
          "sizey": 0.55,
          "sizing": "contain",
          "source": "https://i.imgur.com/52xSYdX.png",
          "x": 14.607142857,
          "xanchor": "center",
          "xref": "x",
          "y": 1.535714286,
          "yanchor": "middle",
          "yref": "y"
         },
         {
          "layer": "above",
          "opacity": 0.35,
          "sizex": 0.55,
          "sizey": 0.55,
          "sizing": "contain",
          "source": "https://i.imgur.com/rbAC6zo.png",
          "x": 13.107142857,
          "xanchor": "center",
          "xref": "x",
          "y": 1.75,
          "yanchor": "middle",
          "yref": "y"
         },
         {
          "layer": "above",
          "opacity": 0.35,
          "sizex": 0.55,
          "sizey": 0.55,
          "sizing": "contain",
          "source": "https://i.imgur.com/Ql7LKBZ.png",
          "x": 10.035714286,
          "xanchor": "center",
          "xref": "x",
          "y": 1.142857143,
          "yanchor": "middle",
          "yref": "y"
         },
         {
          "layer": "above",
          "opacity": 0.35,
          "sizex": 0.55,
          "sizey": 0.55,
          "sizing": "contain",
          "source": "https://i.imgur.com/nhMJAHW.png",
          "x": 11.321428571,
          "xanchor": "center",
          "xref": "x",
          "y": 1.25,
          "yanchor": "middle",
          "yref": "y"
         },
         {
          "layer": "above",
          "opacity": 0.35,
          "sizex": 0.55,
          "sizey": 0.55,
          "sizing": "contain",
          "source": "https://i.imgur.com/sYubMBZ.png",
          "x": 15.035714286,
          "xanchor": "center",
          "xref": "x",
          "y": 2.071428571,
          "yanchor": "middle",
          "yref": "y"
         }
        ],
        "margin": {
         "b": 10,
         "l": 10,
         "r": 30,
         "t": 50
        },
        "paper_bgcolor": "rgb(70, 70, 70)",
        "plot_bgcolor": "rgb(70, 70, 70)",
        "shapes": [
         {
          "layer": "below",
          "line": {
           "color": "White",
           "width": 3
          },
          "type": "line",
          "x0": 12.4910714286,
          "x1": 12.4910714286,
          "y0": 0.4,
          "y1": 2.75
         },
         {
          "layer": "below",
          "line": {
           "color": "White",
           "width": 3
          },
          "type": "line",
          "x0": 5.5,
          "x1": 18.5,
          "y0": 1.31785714291,
          "y1": 1.31785714291
         }
        ],
        "showlegend": false,
        "template": {
         "data": {
          "bar": [
           {
            "error_x": {
             "color": "#2a3f5f"
            },
            "error_y": {
             "color": "#2a3f5f"
            },
            "marker": {
             "line": {
              "color": "#E5ECF6",
              "width": 0.5
             },
             "pattern": {
              "fillmode": "overlay",
              "size": 10,
              "solidity": 0.2
             }
            },
            "type": "bar"
           }
          ],
          "barpolar": [
           {
            "marker": {
             "line": {
              "color": "#E5ECF6",
              "width": 0.5
             },
             "pattern": {
              "fillmode": "overlay",
              "size": 10,
              "solidity": 0.2
             }
            },
            "type": "barpolar"
           }
          ],
          "carpet": [
           {
            "aaxis": {
             "endlinecolor": "#2a3f5f",
             "gridcolor": "white",
             "linecolor": "white",
             "minorgridcolor": "white",
             "startlinecolor": "#2a3f5f"
            },
            "baxis": {
             "endlinecolor": "#2a3f5f",
             "gridcolor": "white",
             "linecolor": "white",
             "minorgridcolor": "white",
             "startlinecolor": "#2a3f5f"
            },
            "type": "carpet"
           }
          ],
          "choropleth": [
           {
            "colorbar": {
             "outlinewidth": 0,
             "ticks": ""
            },
            "type": "choropleth"
           }
          ],
          "contour": [
           {
            "colorbar": {
             "outlinewidth": 0,
             "ticks": ""
            },
            "colorscale": [
             [
              0,
              "#0d0887"
             ],
             [
              0.1111111111111111,
              "#46039f"
             ],
             [
              0.2222222222222222,
              "#7201a8"
             ],
             [
              0.3333333333333333,
              "#9c179e"
             ],
             [
              0.4444444444444444,
              "#bd3786"
             ],
             [
              0.5555555555555556,
              "#d8576b"
             ],
             [
              0.6666666666666666,
              "#ed7953"
             ],
             [
              0.7777777777777778,
              "#fb9f3a"
             ],
             [
              0.8888888888888888,
              "#fdca26"
             ],
             [
              1,
              "#f0f921"
             ]
            ],
            "type": "contour"
           }
          ],
          "contourcarpet": [
           {
            "colorbar": {
             "outlinewidth": 0,
             "ticks": ""
            },
            "type": "contourcarpet"
           }
          ],
          "heatmap": [
           {
            "colorbar": {
             "outlinewidth": 0,
             "ticks": ""
            },
            "colorscale": [
             [
              0,
              "#0d0887"
             ],
             [
              0.1111111111111111,
              "#46039f"
             ],
             [
              0.2222222222222222,
              "#7201a8"
             ],
             [
              0.3333333333333333,
              "#9c179e"
             ],
             [
              0.4444444444444444,
              "#bd3786"
             ],
             [
              0.5555555555555556,
              "#d8576b"
             ],
             [
              0.6666666666666666,
              "#ed7953"
             ],
             [
              0.7777777777777778,
              "#fb9f3a"
             ],
             [
              0.8888888888888888,
              "#fdca26"
             ],
             [
              1,
              "#f0f921"
             ]
            ],
            "type": "heatmap"
           }
          ],
          "heatmapgl": [
           {
            "colorbar": {
             "outlinewidth": 0,
             "ticks": ""
            },
            "colorscale": [
             [
              0,
              "#0d0887"
             ],
             [
              0.1111111111111111,
              "#46039f"
             ],
             [
              0.2222222222222222,
              "#7201a8"
             ],
             [
              0.3333333333333333,
              "#9c179e"
             ],
             [
              0.4444444444444444,
              "#bd3786"
             ],
             [
              0.5555555555555556,
              "#d8576b"
             ],
             [
              0.6666666666666666,
              "#ed7953"
             ],
             [
              0.7777777777777778,
              "#fb9f3a"
             ],
             [
              0.8888888888888888,
              "#fdca26"
             ],
             [
              1,
              "#f0f921"
             ]
            ],
            "type": "heatmapgl"
           }
          ],
          "histogram": [
           {
            "marker": {
             "pattern": {
              "fillmode": "overlay",
              "size": 10,
              "solidity": 0.2
             }
            },
            "type": "histogram"
           }
          ],
          "histogram2d": [
           {
            "colorbar": {
             "outlinewidth": 0,
             "ticks": ""
            },
            "colorscale": [
             [
              0,
              "#0d0887"
             ],
             [
              0.1111111111111111,
              "#46039f"
             ],
             [
              0.2222222222222222,
              "#7201a8"
             ],
             [
              0.3333333333333333,
              "#9c179e"
             ],
             [
              0.4444444444444444,
              "#bd3786"
             ],
             [
              0.5555555555555556,
              "#d8576b"
             ],
             [
              0.6666666666666666,
              "#ed7953"
             ],
             [
              0.7777777777777778,
              "#fb9f3a"
             ],
             [
              0.8888888888888888,
              "#fdca26"
             ],
             [
              1,
              "#f0f921"
             ]
            ],
            "type": "histogram2d"
           }
          ],
          "histogram2dcontour": [
           {
            "colorbar": {
             "outlinewidth": 0,
             "ticks": ""
            },
            "colorscale": [
             [
              0,
              "#0d0887"
             ],
             [
              0.1111111111111111,
              "#46039f"
             ],
             [
              0.2222222222222222,
              "#7201a8"
             ],
             [
              0.3333333333333333,
              "#9c179e"
             ],
             [
              0.4444444444444444,
              "#bd3786"
             ],
             [
              0.5555555555555556,
              "#d8576b"
             ],
             [
              0.6666666666666666,
              "#ed7953"
             ],
             [
              0.7777777777777778,
              "#fb9f3a"
             ],
             [
              0.8888888888888888,
              "#fdca26"
             ],
             [
              1,
              "#f0f921"
             ]
            ],
            "type": "histogram2dcontour"
           }
          ],
          "mesh3d": [
           {
            "colorbar": {
             "outlinewidth": 0,
             "ticks": ""
            },
            "type": "mesh3d"
           }
          ],
          "parcoords": [
           {
            "line": {
             "colorbar": {
              "outlinewidth": 0,
              "ticks": ""
             }
            },
            "type": "parcoords"
           }
          ],
          "pie": [
           {
            "automargin": true,
            "type": "pie"
           }
          ],
          "scatter": [
           {
            "fillpattern": {
             "fillmode": "overlay",
             "size": 10,
             "solidity": 0.2
            },
            "type": "scatter"
           }
          ],
          "scatter3d": [
           {
            "line": {
             "colorbar": {
              "outlinewidth": 0,
              "ticks": ""
             }
            },
            "marker": {
             "colorbar": {
              "outlinewidth": 0,
              "ticks": ""
             }
            },
            "type": "scatter3d"
           }
          ],
          "scattercarpet": [
           {
            "marker": {
             "colorbar": {
              "outlinewidth": 0,
              "ticks": ""
             }
            },
            "type": "scattercarpet"
           }
          ],
          "scattergeo": [
           {
            "marker": {
             "colorbar": {
              "outlinewidth": 0,
              "ticks": ""
             }
            },
            "type": "scattergeo"
           }
          ],
          "scattergl": [
           {
            "marker": {
             "colorbar": {
              "outlinewidth": 0,
              "ticks": ""
             }
            },
            "type": "scattergl"
           }
          ],
          "scattermapbox": [
           {
            "marker": {
             "colorbar": {
              "outlinewidth": 0,
              "ticks": ""
             }
            },
            "type": "scattermapbox"
           }
          ],
          "scatterpolar": [
           {
            "marker": {
             "colorbar": {
              "outlinewidth": 0,
              "ticks": ""
             }
            },
            "type": "scatterpolar"
           }
          ],
          "scatterpolargl": [
           {
            "marker": {
             "colorbar": {
              "outlinewidth": 0,
              "ticks": ""
             }
            },
            "type": "scatterpolargl"
           }
          ],
          "scatterternary": [
           {
            "marker": {
             "colorbar": {
              "outlinewidth": 0,
              "ticks": ""
             }
            },
            "type": "scatterternary"
           }
          ],
          "surface": [
           {
            "colorbar": {
             "outlinewidth": 0,
             "ticks": ""
            },
            "colorscale": [
             [
              0,
              "#0d0887"
             ],
             [
              0.1111111111111111,
              "#46039f"
             ],
             [
              0.2222222222222222,
              "#7201a8"
             ],
             [
              0.3333333333333333,
              "#9c179e"
             ],
             [
              0.4444444444444444,
              "#bd3786"
             ],
             [
              0.5555555555555556,
              "#d8576b"
             ],
             [
              0.6666666666666666,
              "#ed7953"
             ],
             [
              0.7777777777777778,
              "#fb9f3a"
             ],
             [
              0.8888888888888888,
              "#fdca26"
             ],
             [
              1,
              "#f0f921"
             ]
            ],
            "type": "surface"
           }
          ],
          "table": [
           {
            "cells": {
             "fill": {
              "color": "#EBF0F8"
             },
             "line": {
              "color": "white"
             }
            },
            "header": {
             "fill": {
              "color": "#C8D4E3"
             },
             "line": {
              "color": "white"
             }
            },
            "type": "table"
           }
          ]
         },
         "layout": {
          "annotationdefaults": {
           "arrowcolor": "#2a3f5f",
           "arrowhead": 0,
           "arrowwidth": 1
          },
          "autotypenumbers": "strict",
          "coloraxis": {
           "colorbar": {
            "outlinewidth": 0,
            "ticks": ""
           }
          },
          "colorscale": {
           "diverging": [
            [
             0,
             "#8e0152"
            ],
            [
             0.1,
             "#c51b7d"
            ],
            [
             0.2,
             "#de77ae"
            ],
            [
             0.3,
             "#f1b6da"
            ],
            [
             0.4,
             "#fde0ef"
            ],
            [
             0.5,
             "#f7f7f7"
            ],
            [
             0.6,
             "#e6f5d0"
            ],
            [
             0.7,
             "#b8e186"
            ],
            [
             0.8,
             "#7fbc41"
            ],
            [
             0.9,
             "#4d9221"
            ],
            [
             1,
             "#276419"
            ]
           ],
           "sequential": [
            [
             0,
             "#0d0887"
            ],
            [
             0.1111111111111111,
             "#46039f"
            ],
            [
             0.2222222222222222,
             "#7201a8"
            ],
            [
             0.3333333333333333,
             "#9c179e"
            ],
            [
             0.4444444444444444,
             "#bd3786"
            ],
            [
             0.5555555555555556,
             "#d8576b"
            ],
            [
             0.6666666666666666,
             "#ed7953"
            ],
            [
             0.7777777777777778,
             "#fb9f3a"
            ],
            [
             0.8888888888888888,
             "#fdca26"
            ],
            [
             1,
             "#f0f921"
            ]
           ],
           "sequentialminus": [
            [
             0,
             "#0d0887"
            ],
            [
             0.1111111111111111,
             "#46039f"
            ],
            [
             0.2222222222222222,
             "#7201a8"
            ],
            [
             0.3333333333333333,
             "#9c179e"
            ],
            [
             0.4444444444444444,
             "#bd3786"
            ],
            [
             0.5555555555555556,
             "#d8576b"
            ],
            [
             0.6666666666666666,
             "#ed7953"
            ],
            [
             0.7777777777777778,
             "#fb9f3a"
            ],
            [
             0.8888888888888888,
             "#fdca26"
            ],
            [
             1,
             "#f0f921"
            ]
           ]
          },
          "colorway": [
           "#636efa",
           "#EF553B",
           "#00cc96",
           "#ab63fa",
           "#FFA15A",
           "#19d3f3",
           "#FF6692",
           "#B6E880",
           "#FF97FF",
           "#FECB52"
          ],
          "font": {
           "color": "#2a3f5f"
          },
          "geo": {
           "bgcolor": "white",
           "lakecolor": "white",
           "landcolor": "#E5ECF6",
           "showlakes": true,
           "showland": true,
           "subunitcolor": "white"
          },
          "hoverlabel": {
           "align": "left"
          },
          "hovermode": "closest",
          "mapbox": {
           "style": "light"
          },
          "paper_bgcolor": "white",
          "plot_bgcolor": "#E5ECF6",
          "polar": {
           "angularaxis": {
            "gridcolor": "white",
            "linecolor": "white",
            "ticks": ""
           },
           "bgcolor": "#E5ECF6",
           "radialaxis": {
            "gridcolor": "white",
            "linecolor": "white",
            "ticks": ""
           }
          },
          "scene": {
           "xaxis": {
            "backgroundcolor": "#E5ECF6",
            "gridcolor": "white",
            "gridwidth": 2,
            "linecolor": "white",
            "showbackground": true,
            "ticks": "",
            "zerolinecolor": "white"
           },
           "yaxis": {
            "backgroundcolor": "#E5ECF6",
            "gridcolor": "white",
            "gridwidth": 2,
            "linecolor": "white",
            "showbackground": true,
            "ticks": "",
            "zerolinecolor": "white"
           },
           "zaxis": {
            "backgroundcolor": "#E5ECF6",
            "gridcolor": "white",
            "gridwidth": 2,
            "linecolor": "white",
            "showbackground": true,
            "ticks": "",
            "zerolinecolor": "white"
           }
          },
          "shapedefaults": {
           "line": {
            "color": "#2a3f5f"
           }
          },
          "ternary": {
           "aaxis": {
            "gridcolor": "white",
            "linecolor": "white",
            "ticks": ""
           },
           "baxis": {
            "gridcolor": "white",
            "linecolor": "white",
            "ticks": ""
           },
           "bgcolor": "#E5ECF6",
           "caxis": {
            "gridcolor": "white",
            "linecolor": "white",
            "ticks": ""
           }
          },
          "title": {
           "x": 0.05
          },
          "xaxis": {
           "automargin": true,
           "gridcolor": "white",
           "linecolor": "white",
           "ticks": "",
           "title": {
            "standoff": 15
           },
           "zerolinecolor": "white",
           "zerolinewidth": 2
          },
          "yaxis": {
           "automargin": true,
           "gridcolor": "white",
           "linecolor": "white",
           "ticks": "",
           "title": {
            "standoff": 15
           },
           "zerolinecolor": "white",
           "zerolinewidth": 2
          }
         }
        },
        "title": {
         "font": {
          "color": "white",
          "family": "Roboto, sans-serif",
          "size": 23
         },
         "text": "GOALKEEPING",
         "x": 0.5,
         "xanchor": "center",
         "y": 0.98,
         "yanchor": "top"
        },
        "width": 625,
        "xaxis": {
         "gridcolor": "rgba(0,0,0,0)",
         "linecolor": "white",
         "linewidth": 2,
         "range": [
          5.5,
          18.5
         ],
         "showline": true,
         "tickfont": {
          "color": "white",
          "size": 15
         },
         "title": {
          "font": {
           "size": 25
          },
          "text": "SHOTS FACED PER GAME"
         }
        },
        "yaxis": {
         "gridcolor": "rgba(0,0,0,0)",
         "linecolor": "white",
         "linewidth": 2,
         "range": [
          0.4,
          2.75
         ],
         "showline": true,
         "tickfont": {
          "color": "white",
          "size": 15
         },
         "title": {
          "font": {
           "size": 25
          },
          "text": "CONCEDED PER GAME"
         }
        }
       }
      }
     },
     "metadata": {},
     "output_type": "display_data"
    }
   ],
   "source": [
    "create_FM_team_scatter_chart(filtered_team_defending_chart, 'GOALKEEPING', \"Arsenal\", 'SHOTS FACED PER GAME', \n",
    "                             'CONCEDED PER GAME', 0.55, 5.5, 18.5, 0.4, 2.75,\n",
    "                            \"Impenetrable defence<br>Quiet defence\", \"Impenetrable defence<br>Busy defence\", \n",
    "                            \"Leaky defence<br>Quiet defence\", \"Leaky defence<br>Busy defence\", \n",
    "                            \"green\", \"orange\", \"orange\", \"red\")"
   ]
  },
  {
   "cell_type": "code",
   "execution_count": 49,
   "metadata": {},
   "outputs": [
    {
     "data": {
      "application/vnd.plotly.v1+json": {
       "config": {
        "plotlyServerURL": "https://plotly.com"
       },
       "data": [
        {
         "hoverinfo": "text",
         "marker": {
          "opacity": 0
         },
         "mode": "markers",
         "text": "Hellas Verona",
         "type": "scatter",
         "x": [
          61.764705882
         ],
         "y": [
          15.785714286
         ]
        },
        {
         "hoverinfo": "text",
         "marker": {
          "opacity": 0
         },
         "mode": "markers",
         "text": "AC Milan",
         "type": "scatter",
         "x": [
          58.31381733
         ],
         "y": [
          15.25
         ]
        },
        {
         "hoverinfo": "text",
         "marker": {
          "opacity": 0
         },
         "mode": "markers",
         "text": "Fiorentina",
         "type": "scatter",
         "x": [
          56.787330317
         ],
         "y": [
          15.785714286
         ]
        },
        {
         "hoverinfo": "text",
         "marker": {
          "opacity": 0
         },
         "mode": "markers",
         "text": "Sassuolo",
         "type": "scatter",
         "x": [
          59.568733154
         ],
         "y": [
          13.25
         ]
        },
        {
         "hoverinfo": "text",
         "marker": {
          "opacity": 0
         },
         "mode": "markers",
         "text": "Lecce",
         "type": "scatter",
         "x": [
          61.283185841
         ],
         "y": [
          16.142857143
         ]
        },
        {
         "hoverinfo": "text",
         "marker": {
          "opacity": 0
         },
         "mode": "markers",
         "text": "Genoa",
         "type": "scatter",
         "x": [
          56.779661017
         ],
         "y": [
          16.857142857
         ]
        },
        {
         "hoverinfo": "text",
         "marker": {
          "opacity": 0
         },
         "mode": "markers",
         "text": "Inter",
         "type": "scatter",
         "x": [
          61.57635468
         ],
         "y": [
          14.5
         ]
        },
        {
         "hoverinfo": "text",
         "marker": {
          "opacity": 0
         },
         "mode": "markers",
         "text": "Lazio",
         "type": "scatter",
         "x": [
          60.047281324
         ],
         "y": [
          15.107142857
         ]
        },
        {
         "hoverinfo": "text",
         "marker": {
          "opacity": 0
         },
         "mode": "markers",
         "text": "Torino",
         "type": "scatter",
         "x": [
          63.049853372
         ],
         "y": [
          12.178571429
         ]
        },
        {
         "hoverinfo": "text",
         "marker": {
          "opacity": 0
         },
         "mode": "markers",
         "text": "Monza",
         "type": "scatter",
         "x": [
          57.762557078
         ],
         "y": [
          15.642857143
         ]
        },
        {
         "hoverinfo": "text",
         "marker": {
          "opacity": 0
         },
         "mode": "markers",
         "text": "Atalanta",
         "type": "scatter",
         "x": [
          61.111111111
         ],
         "y": [
          16.071428571
         ]
        },
        {
         "hoverinfo": "text",
         "marker": {
          "opacity": 0
         },
         "mode": "markers",
         "text": "Udinese",
         "type": "scatter",
         "x": [
          64.269141531
         ],
         "y": [
          15.392857143
         ]
        },
        {
         "hoverinfo": "text",
         "marker": {
          "opacity": 0
         },
         "mode": "markers",
         "text": "Juventus",
         "type": "scatter",
         "x": [
          64.018691589
         ],
         "y": [
          15.285714286
         ]
        },
        {
         "hoverinfo": "text",
         "marker": {
          "opacity": 0
         },
         "mode": "markers",
         "text": "Frosinone",
         "type": "scatter",
         "x": [
          59.277108434
         ],
         "y": [
          14.821428571
         ]
        },
        {
         "hoverinfo": "text",
         "marker": {
          "opacity": 0
         },
         "mode": "markers",
         "text": "Bologna",
         "type": "scatter",
         "x": [
          59.533898305
         ],
         "y": [
          16.857142857
         ]
        },
        {
         "hoverinfo": "text",
         "marker": {
          "opacity": 0
         },
         "mode": "markers",
         "text": "Empoli",
         "type": "scatter",
         "x": [
          60.698689956
         ],
         "y": [
          16.357142857
         ]
        },
        {
         "hoverinfo": "text",
         "marker": {
          "opacity": 0
         },
         "mode": "markers",
         "text": "Cagliari",
         "type": "scatter",
         "x": [
          60.459183673
         ],
         "y": [
          14
         ]
        },
        {
         "hoverinfo": "text",
         "marker": {
          "opacity": 0
         },
         "mode": "markers",
         "text": "Napoli",
         "type": "scatter",
         "x": [
          57.074340528
         ],
         "y": [
          14.892857143
         ]
        },
        {
         "hoverinfo": "text",
         "marker": {
          "opacity": 0
         },
         "mode": "markers",
         "text": "Roma",
         "type": "scatter",
         "x": [
          59.367396594
         ],
         "y": [
          14.678571429
         ]
        },
        {
         "hoverinfo": "text",
         "marker": {
          "opacity": 0
         },
         "mode": "markers",
         "text": "Salernitana",
         "type": "scatter",
         "x": [
          61.757105943
         ],
         "y": [
          13.821428571
         ]
        }
       ],
       "layout": {
        "annotations": [
         {
          "align": "left",
          "font": {
           "color": "red",
           "family": "Roboto, sans-serif",
           "size": 15
          },
          "showarrow": false,
          "text": "Fewer Duels<br>Poor Dueling",
          "x": 0,
          "xref": "paper",
          "y": 0,
          "yref": "paper"
         },
         {
          "align": "left",
          "font": {
           "color": "orange",
           "family": "Roboto, sans-serif",
           "size": 15
          },
          "showarrow": false,
          "text": "Lots of Duels<br>Poor Dueling",
          "x": 0,
          "xref": "paper",
          "y": 1,
          "yref": "paper"
         },
         {
          "align": "right",
          "font": {
           "color": "green",
           "family": "Roboto, sans-serif",
           "size": 15
          },
          "showarrow": false,
          "text": "Lots of Duels<br>Strong Dueling",
          "x": 1,
          "xref": "paper",
          "y": 1,
          "yref": "paper"
         },
         {
          "align": "right",
          "font": {
           "color": "orange",
           "family": "Roboto, sans-serif",
           "size": 15
          },
          "showarrow": false,
          "text": "Fewer Duels<br>Strong Dueling",
          "x": 1,
          "xref": "paper",
          "y": 0,
          "yref": "paper"
         }
        ],
        "font": {
         "color": "white",
         "family": "Roboto, sans-serif",
         "size": 25
        },
        "height": 625,
        "hoverlabel": {
         "bgcolor": "rgba(20, 20, 20, 0.8)",
         "font": {
          "family": "Roboto, sans-serif"
         }
        },
        "images": [
         {
          "layer": "above",
          "opacity": 0.35,
          "sizex": 0.7,
          "sizey": 0.7,
          "sizing": "contain",
          "source": "https://i.imgur.com/vhAWZQO.png",
          "x": 61.764705882,
          "xanchor": "center",
          "xref": "x",
          "y": 15.785714286,
          "yanchor": "middle",
          "yref": "y"
         },
         {
          "layer": "above",
          "opacity": 0.35,
          "sizex": 0.7,
          "sizey": 0.7,
          "sizing": "contain",
          "source": "https://i.imgur.com/1Ze94pt.png",
          "x": 58.31381733,
          "xanchor": "center",
          "xref": "x",
          "y": 15.25,
          "yanchor": "middle",
          "yref": "y"
         },
         {
          "layer": "above",
          "opacity": 0.35,
          "sizex": 0.7,
          "sizey": 0.7,
          "sizing": "contain",
          "source": "https://i.imgur.com/hOQC1jo.png",
          "x": 56.787330317,
          "xanchor": "center",
          "xref": "x",
          "y": 15.785714286,
          "yanchor": "middle",
          "yref": "y"
         },
         {
          "layer": "above",
          "opacity": 0.35,
          "sizex": 0.7,
          "sizey": 0.7,
          "sizing": "contain",
          "source": "https://i.imgur.com/px5mT39.png",
          "x": 59.568733154,
          "xanchor": "center",
          "xref": "x",
          "y": 13.25,
          "yanchor": "middle",
          "yref": "y"
         },
         {
          "layer": "above",
          "opacity": 0.35,
          "sizex": 0.7,
          "sizey": 0.7,
          "sizing": "contain",
          "source": "https://i.imgur.com/9A4flGu.png",
          "x": 61.283185841,
          "xanchor": "center",
          "xref": "x",
          "y": 16.142857143,
          "yanchor": "middle",
          "yref": "y"
         },
         {
          "layer": "above",
          "opacity": 0.35,
          "sizex": 0.7,
          "sizey": 0.7,
          "sizing": "contain",
          "source": "https://i.imgur.com/KjtIy8U.png",
          "x": 56.779661017,
          "xanchor": "center",
          "xref": "x",
          "y": 16.857142857,
          "yanchor": "middle",
          "yref": "y"
         },
         {
          "layer": "above",
          "opacity": 0.35,
          "sizex": 0.7,
          "sizey": 0.7,
          "sizing": "contain",
          "source": "https://i.imgur.com/JsJ06ke.png",
          "x": 61.57635468,
          "xanchor": "center",
          "xref": "x",
          "y": 14.5,
          "yanchor": "middle",
          "yref": "y"
         },
         {
          "layer": "above",
          "opacity": 0.35,
          "sizex": 0.7,
          "sizey": 0.7,
          "sizing": "contain",
          "source": "https://i.imgur.com/SBsGYjm.png",
          "x": 60.047281324,
          "xanchor": "center",
          "xref": "x",
          "y": 15.107142857,
          "yanchor": "middle",
          "yref": "y"
         },
         {
          "layer": "above",
          "opacity": 0.35,
          "sizex": 0.7,
          "sizey": 0.7,
          "sizing": "contain",
          "source": "https://i.imgur.com/XWmpYeu.png",
          "x": 63.049853372,
          "xanchor": "center",
          "xref": "x",
          "y": 12.178571429,
          "yanchor": "middle",
          "yref": "y"
         },
         {
          "layer": "above",
          "opacity": 0.35,
          "sizex": 0.7,
          "sizey": 0.7,
          "sizing": "contain",
          "source": "https://i.imgur.com/7bHOIx9.png",
          "x": 57.762557078,
          "xanchor": "center",
          "xref": "x",
          "y": 15.642857143,
          "yanchor": "middle",
          "yref": "y"
         },
         {
          "layer": "above",
          "opacity": 0.35,
          "sizex": 0.7,
          "sizey": 0.7,
          "sizing": "contain",
          "source": "https://i.imgur.com/SDA0nMH.png",
          "x": 61.111111111,
          "xanchor": "center",
          "xref": "x",
          "y": 16.071428571,
          "yanchor": "middle",
          "yref": "y"
         },
         {
          "layer": "above",
          "opacity": 0.35,
          "sizex": 0.7,
          "sizey": 0.7,
          "sizing": "contain",
          "source": "https://i.imgur.com/Dp0KUmN.png",
          "x": 64.269141531,
          "xanchor": "center",
          "xref": "x",
          "y": 15.392857143,
          "yanchor": "middle",
          "yref": "y"
         },
         {
          "layer": "above",
          "opacity": 0.35,
          "sizex": 0.7,
          "sizey": 0.7,
          "sizing": "contain",
          "source": "https://i.imgur.com/60XAIJI.png",
          "x": 64.018691589,
          "xanchor": "center",
          "xref": "x",
          "y": 15.285714286,
          "yanchor": "middle",
          "yref": "y"
         },
         {
          "layer": "above",
          "opacity": 0.35,
          "sizex": 0.7,
          "sizey": 0.7,
          "sizing": "contain",
          "source": "https://i.imgur.com/x8qGMuV.png",
          "x": 59.277108434,
          "xanchor": "center",
          "xref": "x",
          "y": 14.821428571,
          "yanchor": "middle",
          "yref": "y"
         },
         {
          "layer": "above",
          "opacity": 0.35,
          "sizex": 0.7,
          "sizey": 0.7,
          "sizing": "contain",
          "source": "https://i.imgur.com/rVqtfOA.png",
          "x": 59.533898305,
          "xanchor": "center",
          "xref": "x",
          "y": 16.857142857,
          "yanchor": "middle",
          "yref": "y"
         },
         {
          "layer": "above",
          "opacity": 0.35,
          "sizex": 0.7,
          "sizey": 0.7,
          "sizing": "contain",
          "source": "https://i.imgur.com/52xSYdX.png",
          "x": 60.698689956,
          "xanchor": "center",
          "xref": "x",
          "y": 16.357142857,
          "yanchor": "middle",
          "yref": "y"
         },
         {
          "layer": "above",
          "opacity": 0.35,
          "sizex": 0.7,
          "sizey": 0.7,
          "sizing": "contain",
          "source": "https://i.imgur.com/rbAC6zo.png",
          "x": 60.459183673,
          "xanchor": "center",
          "xref": "x",
          "y": 14,
          "yanchor": "middle",
          "yref": "y"
         },
         {
          "layer": "above",
          "opacity": 0.35,
          "sizex": 0.7,
          "sizey": 0.7,
          "sizing": "contain",
          "source": "https://i.imgur.com/Ql7LKBZ.png",
          "x": 57.074340528,
          "xanchor": "center",
          "xref": "x",
          "y": 14.892857143,
          "yanchor": "middle",
          "yref": "y"
         },
         {
          "layer": "above",
          "opacity": 0.35,
          "sizex": 0.7,
          "sizey": 0.7,
          "sizing": "contain",
          "source": "https://i.imgur.com/nhMJAHW.png",
          "x": 59.367396594,
          "xanchor": "center",
          "xref": "x",
          "y": 14.678571429,
          "yanchor": "middle",
          "yref": "y"
         },
         {
          "layer": "above",
          "opacity": 0.35,
          "sizex": 0.7,
          "sizey": 0.7,
          "sizing": "contain",
          "source": "https://i.imgur.com/sYubMBZ.png",
          "x": 61.757105943,
          "xanchor": "center",
          "xref": "x",
          "y": 13.821428571,
          "yanchor": "middle",
          "yref": "y"
         }
        ],
        "margin": {
         "b": 10,
         "l": 10,
         "r": 30,
         "t": 50
        },
        "paper_bgcolor": "rgb(70, 70, 70)",
        "plot_bgcolor": "rgb(70, 70, 70)",
        "shapes": [
         {
          "layer": "below",
          "line": {
           "color": "White",
           "width": 3
          },
          "type": "line",
          "x0": 60.22500738294999,
          "x1": 60.22500738294999,
          "y0": 11,
          "y1": 23
         },
         {
          "layer": "below",
          "line": {
           "color": "White",
           "width": 3
          },
          "type": "line",
          "x0": 52,
          "x1": 68,
          "y0": 15.133928571450003,
          "y1": 15.133928571450003
         }
        ],
        "showlegend": false,
        "template": {
         "data": {
          "bar": [
           {
            "error_x": {
             "color": "#2a3f5f"
            },
            "error_y": {
             "color": "#2a3f5f"
            },
            "marker": {
             "line": {
              "color": "#E5ECF6",
              "width": 0.5
             },
             "pattern": {
              "fillmode": "overlay",
              "size": 10,
              "solidity": 0.2
             }
            },
            "type": "bar"
           }
          ],
          "barpolar": [
           {
            "marker": {
             "line": {
              "color": "#E5ECF6",
              "width": 0.5
             },
             "pattern": {
              "fillmode": "overlay",
              "size": 10,
              "solidity": 0.2
             }
            },
            "type": "barpolar"
           }
          ],
          "carpet": [
           {
            "aaxis": {
             "endlinecolor": "#2a3f5f",
             "gridcolor": "white",
             "linecolor": "white",
             "minorgridcolor": "white",
             "startlinecolor": "#2a3f5f"
            },
            "baxis": {
             "endlinecolor": "#2a3f5f",
             "gridcolor": "white",
             "linecolor": "white",
             "minorgridcolor": "white",
             "startlinecolor": "#2a3f5f"
            },
            "type": "carpet"
           }
          ],
          "choropleth": [
           {
            "colorbar": {
             "outlinewidth": 0,
             "ticks": ""
            },
            "type": "choropleth"
           }
          ],
          "contour": [
           {
            "colorbar": {
             "outlinewidth": 0,
             "ticks": ""
            },
            "colorscale": [
             [
              0,
              "#0d0887"
             ],
             [
              0.1111111111111111,
              "#46039f"
             ],
             [
              0.2222222222222222,
              "#7201a8"
             ],
             [
              0.3333333333333333,
              "#9c179e"
             ],
             [
              0.4444444444444444,
              "#bd3786"
             ],
             [
              0.5555555555555556,
              "#d8576b"
             ],
             [
              0.6666666666666666,
              "#ed7953"
             ],
             [
              0.7777777777777778,
              "#fb9f3a"
             ],
             [
              0.8888888888888888,
              "#fdca26"
             ],
             [
              1,
              "#f0f921"
             ]
            ],
            "type": "contour"
           }
          ],
          "contourcarpet": [
           {
            "colorbar": {
             "outlinewidth": 0,
             "ticks": ""
            },
            "type": "contourcarpet"
           }
          ],
          "heatmap": [
           {
            "colorbar": {
             "outlinewidth": 0,
             "ticks": ""
            },
            "colorscale": [
             [
              0,
              "#0d0887"
             ],
             [
              0.1111111111111111,
              "#46039f"
             ],
             [
              0.2222222222222222,
              "#7201a8"
             ],
             [
              0.3333333333333333,
              "#9c179e"
             ],
             [
              0.4444444444444444,
              "#bd3786"
             ],
             [
              0.5555555555555556,
              "#d8576b"
             ],
             [
              0.6666666666666666,
              "#ed7953"
             ],
             [
              0.7777777777777778,
              "#fb9f3a"
             ],
             [
              0.8888888888888888,
              "#fdca26"
             ],
             [
              1,
              "#f0f921"
             ]
            ],
            "type": "heatmap"
           }
          ],
          "heatmapgl": [
           {
            "colorbar": {
             "outlinewidth": 0,
             "ticks": ""
            },
            "colorscale": [
             [
              0,
              "#0d0887"
             ],
             [
              0.1111111111111111,
              "#46039f"
             ],
             [
              0.2222222222222222,
              "#7201a8"
             ],
             [
              0.3333333333333333,
              "#9c179e"
             ],
             [
              0.4444444444444444,
              "#bd3786"
             ],
             [
              0.5555555555555556,
              "#d8576b"
             ],
             [
              0.6666666666666666,
              "#ed7953"
             ],
             [
              0.7777777777777778,
              "#fb9f3a"
             ],
             [
              0.8888888888888888,
              "#fdca26"
             ],
             [
              1,
              "#f0f921"
             ]
            ],
            "type": "heatmapgl"
           }
          ],
          "histogram": [
           {
            "marker": {
             "pattern": {
              "fillmode": "overlay",
              "size": 10,
              "solidity": 0.2
             }
            },
            "type": "histogram"
           }
          ],
          "histogram2d": [
           {
            "colorbar": {
             "outlinewidth": 0,
             "ticks": ""
            },
            "colorscale": [
             [
              0,
              "#0d0887"
             ],
             [
              0.1111111111111111,
              "#46039f"
             ],
             [
              0.2222222222222222,
              "#7201a8"
             ],
             [
              0.3333333333333333,
              "#9c179e"
             ],
             [
              0.4444444444444444,
              "#bd3786"
             ],
             [
              0.5555555555555556,
              "#d8576b"
             ],
             [
              0.6666666666666666,
              "#ed7953"
             ],
             [
              0.7777777777777778,
              "#fb9f3a"
             ],
             [
              0.8888888888888888,
              "#fdca26"
             ],
             [
              1,
              "#f0f921"
             ]
            ],
            "type": "histogram2d"
           }
          ],
          "histogram2dcontour": [
           {
            "colorbar": {
             "outlinewidth": 0,
             "ticks": ""
            },
            "colorscale": [
             [
              0,
              "#0d0887"
             ],
             [
              0.1111111111111111,
              "#46039f"
             ],
             [
              0.2222222222222222,
              "#7201a8"
             ],
             [
              0.3333333333333333,
              "#9c179e"
             ],
             [
              0.4444444444444444,
              "#bd3786"
             ],
             [
              0.5555555555555556,
              "#d8576b"
             ],
             [
              0.6666666666666666,
              "#ed7953"
             ],
             [
              0.7777777777777778,
              "#fb9f3a"
             ],
             [
              0.8888888888888888,
              "#fdca26"
             ],
             [
              1,
              "#f0f921"
             ]
            ],
            "type": "histogram2dcontour"
           }
          ],
          "mesh3d": [
           {
            "colorbar": {
             "outlinewidth": 0,
             "ticks": ""
            },
            "type": "mesh3d"
           }
          ],
          "parcoords": [
           {
            "line": {
             "colorbar": {
              "outlinewidth": 0,
              "ticks": ""
             }
            },
            "type": "parcoords"
           }
          ],
          "pie": [
           {
            "automargin": true,
            "type": "pie"
           }
          ],
          "scatter": [
           {
            "fillpattern": {
             "fillmode": "overlay",
             "size": 10,
             "solidity": 0.2
            },
            "type": "scatter"
           }
          ],
          "scatter3d": [
           {
            "line": {
             "colorbar": {
              "outlinewidth": 0,
              "ticks": ""
             }
            },
            "marker": {
             "colorbar": {
              "outlinewidth": 0,
              "ticks": ""
             }
            },
            "type": "scatter3d"
           }
          ],
          "scattercarpet": [
           {
            "marker": {
             "colorbar": {
              "outlinewidth": 0,
              "ticks": ""
             }
            },
            "type": "scattercarpet"
           }
          ],
          "scattergeo": [
           {
            "marker": {
             "colorbar": {
              "outlinewidth": 0,
              "ticks": ""
             }
            },
            "type": "scattergeo"
           }
          ],
          "scattergl": [
           {
            "marker": {
             "colorbar": {
              "outlinewidth": 0,
              "ticks": ""
             }
            },
            "type": "scattergl"
           }
          ],
          "scattermapbox": [
           {
            "marker": {
             "colorbar": {
              "outlinewidth": 0,
              "ticks": ""
             }
            },
            "type": "scattermapbox"
           }
          ],
          "scatterpolar": [
           {
            "marker": {
             "colorbar": {
              "outlinewidth": 0,
              "ticks": ""
             }
            },
            "type": "scatterpolar"
           }
          ],
          "scatterpolargl": [
           {
            "marker": {
             "colorbar": {
              "outlinewidth": 0,
              "ticks": ""
             }
            },
            "type": "scatterpolargl"
           }
          ],
          "scatterternary": [
           {
            "marker": {
             "colorbar": {
              "outlinewidth": 0,
              "ticks": ""
             }
            },
            "type": "scatterternary"
           }
          ],
          "surface": [
           {
            "colorbar": {
             "outlinewidth": 0,
             "ticks": ""
            },
            "colorscale": [
             [
              0,
              "#0d0887"
             ],
             [
              0.1111111111111111,
              "#46039f"
             ],
             [
              0.2222222222222222,
              "#7201a8"
             ],
             [
              0.3333333333333333,
              "#9c179e"
             ],
             [
              0.4444444444444444,
              "#bd3786"
             ],
             [
              0.5555555555555556,
              "#d8576b"
             ],
             [
              0.6666666666666666,
              "#ed7953"
             ],
             [
              0.7777777777777778,
              "#fb9f3a"
             ],
             [
              0.8888888888888888,
              "#fdca26"
             ],
             [
              1,
              "#f0f921"
             ]
            ],
            "type": "surface"
           }
          ],
          "table": [
           {
            "cells": {
             "fill": {
              "color": "#EBF0F8"
             },
             "line": {
              "color": "white"
             }
            },
            "header": {
             "fill": {
              "color": "#C8D4E3"
             },
             "line": {
              "color": "white"
             }
            },
            "type": "table"
           }
          ]
         },
         "layout": {
          "annotationdefaults": {
           "arrowcolor": "#2a3f5f",
           "arrowhead": 0,
           "arrowwidth": 1
          },
          "autotypenumbers": "strict",
          "coloraxis": {
           "colorbar": {
            "outlinewidth": 0,
            "ticks": ""
           }
          },
          "colorscale": {
           "diverging": [
            [
             0,
             "#8e0152"
            ],
            [
             0.1,
             "#c51b7d"
            ],
            [
             0.2,
             "#de77ae"
            ],
            [
             0.3,
             "#f1b6da"
            ],
            [
             0.4,
             "#fde0ef"
            ],
            [
             0.5,
             "#f7f7f7"
            ],
            [
             0.6,
             "#e6f5d0"
            ],
            [
             0.7,
             "#b8e186"
            ],
            [
             0.8,
             "#7fbc41"
            ],
            [
             0.9,
             "#4d9221"
            ],
            [
             1,
             "#276419"
            ]
           ],
           "sequential": [
            [
             0,
             "#0d0887"
            ],
            [
             0.1111111111111111,
             "#46039f"
            ],
            [
             0.2222222222222222,
             "#7201a8"
            ],
            [
             0.3333333333333333,
             "#9c179e"
            ],
            [
             0.4444444444444444,
             "#bd3786"
            ],
            [
             0.5555555555555556,
             "#d8576b"
            ],
            [
             0.6666666666666666,
             "#ed7953"
            ],
            [
             0.7777777777777778,
             "#fb9f3a"
            ],
            [
             0.8888888888888888,
             "#fdca26"
            ],
            [
             1,
             "#f0f921"
            ]
           ],
           "sequentialminus": [
            [
             0,
             "#0d0887"
            ],
            [
             0.1111111111111111,
             "#46039f"
            ],
            [
             0.2222222222222222,
             "#7201a8"
            ],
            [
             0.3333333333333333,
             "#9c179e"
            ],
            [
             0.4444444444444444,
             "#bd3786"
            ],
            [
             0.5555555555555556,
             "#d8576b"
            ],
            [
             0.6666666666666666,
             "#ed7953"
            ],
            [
             0.7777777777777778,
             "#fb9f3a"
            ],
            [
             0.8888888888888888,
             "#fdca26"
            ],
            [
             1,
             "#f0f921"
            ]
           ]
          },
          "colorway": [
           "#636efa",
           "#EF553B",
           "#00cc96",
           "#ab63fa",
           "#FFA15A",
           "#19d3f3",
           "#FF6692",
           "#B6E880",
           "#FF97FF",
           "#FECB52"
          ],
          "font": {
           "color": "#2a3f5f"
          },
          "geo": {
           "bgcolor": "white",
           "lakecolor": "white",
           "landcolor": "#E5ECF6",
           "showlakes": true,
           "showland": true,
           "subunitcolor": "white"
          },
          "hoverlabel": {
           "align": "left"
          },
          "hovermode": "closest",
          "mapbox": {
           "style": "light"
          },
          "paper_bgcolor": "white",
          "plot_bgcolor": "#E5ECF6",
          "polar": {
           "angularaxis": {
            "gridcolor": "white",
            "linecolor": "white",
            "ticks": ""
           },
           "bgcolor": "#E5ECF6",
           "radialaxis": {
            "gridcolor": "white",
            "linecolor": "white",
            "ticks": ""
           }
          },
          "scene": {
           "xaxis": {
            "backgroundcolor": "#E5ECF6",
            "gridcolor": "white",
            "gridwidth": 2,
            "linecolor": "white",
            "showbackground": true,
            "ticks": "",
            "zerolinecolor": "white"
           },
           "yaxis": {
            "backgroundcolor": "#E5ECF6",
            "gridcolor": "white",
            "gridwidth": 2,
            "linecolor": "white",
            "showbackground": true,
            "ticks": "",
            "zerolinecolor": "white"
           },
           "zaxis": {
            "backgroundcolor": "#E5ECF6",
            "gridcolor": "white",
            "gridwidth": 2,
            "linecolor": "white",
            "showbackground": true,
            "ticks": "",
            "zerolinecolor": "white"
           }
          },
          "shapedefaults": {
           "line": {
            "color": "#2a3f5f"
           }
          },
          "ternary": {
           "aaxis": {
            "gridcolor": "white",
            "linecolor": "white",
            "ticks": ""
           },
           "baxis": {
            "gridcolor": "white",
            "linecolor": "white",
            "ticks": ""
           },
           "bgcolor": "#E5ECF6",
           "caxis": {
            "gridcolor": "white",
            "linecolor": "white",
            "ticks": ""
           }
          },
          "title": {
           "x": 0.05
          },
          "xaxis": {
           "automargin": true,
           "gridcolor": "white",
           "linecolor": "white",
           "ticks": "",
           "title": {
            "standoff": 15
           },
           "zerolinecolor": "white",
           "zerolinewidth": 2
          },
          "yaxis": {
           "automargin": true,
           "gridcolor": "white",
           "linecolor": "white",
           "ticks": "",
           "title": {
            "standoff": 15
           },
           "zerolinecolor": "white",
           "zerolinewidth": 2
          }
         }
        },
        "title": {
         "font": {
          "color": "white",
          "family": "Roboto, sans-serif",
          "size": 23
         },
         "text": "TACKLING",
         "x": 0.5,
         "xanchor": "center",
         "y": 0.98,
         "yanchor": "top"
        },
        "width": 625,
        "xaxis": {
         "gridcolor": "rgba(0,0,0,0)",
         "linecolor": "white",
         "linewidth": 2,
         "range": [
          52,
          68
         ],
         "showline": true,
         "tickfont": {
          "color": "white",
          "size": 15
         },
         "title": {
          "font": {
           "size": 25
          },
          "text": "TACKLES WON RATIO (%)"
         }
        },
        "yaxis": {
         "gridcolor": "rgba(0,0,0,0)",
         "linecolor": "white",
         "linewidth": 2,
         "range": [
          11,
          23
         ],
         "showline": true,
         "tickfont": {
          "color": "white",
          "size": 15
         },
         "title": {
          "font": {
           "size": 25
          },
          "text": "TACKLES ATTEMPTED PER GAME"
         }
        }
       }
      }
     },
     "metadata": {},
     "output_type": "display_data"
    }
   ],
   "source": [
    "create_FM_team_scatter_chart(filtered_team_defending_chart, 'TACKLING', \"Arsenal\", 'TACKLES WON RATIO (%)', 'TACKLES ATTEMPTED PER GAME', \n",
    "                                                            0.7, 52, 68, 11, 23, \n",
    "                                                            \"Fewer Duels<br>Poor Dueling\", \"Fewer Duels<br>Strong Dueling\",\n",
    "                                                            \"Lots of Duels<br>Poor Dueling\", \"Lots of Duels<br>Strong Dueling\", \"red\", \n",
    "                                                            \"orange\", \"orange\", \"green\")\n"
   ]
  },
  {
   "cell_type": "markdown",
   "metadata": {},
   "source": [
    "### Time to incorporate event data for additional graphs"
   ]
  },
  {
   "cell_type": "code",
   "execution_count": 50,
   "metadata": {},
   "outputs": [],
   "source": [
    "df_player_match = fetch_data(cursor, 'SELECT PLAYER_WS_ID, MATCH_ID, PLAYER_FBREF_NAME, \\\n",
    "                             STARTING_POSITION_WS FROM PLAYER_MATCH')"
   ]
  },
  {
   "cell_type": "code",
   "execution_count": 51,
   "metadata": {},
   "outputs": [],
   "source": [
    "df_events = fetch_data(cursor, 'SELECT * FROM EVENTS_SPADL')"
   ]
  },
  {
   "cell_type": "code",
   "execution_count": 52,
   "metadata": {},
   "outputs": [],
   "source": [
    "# df_events = df_events[df_events['MATCH_ID'].isin(list(filtered_matches.MATCH_ID))]"
   ]
  },
  {
   "cell_type": "code",
   "execution_count": 53,
   "metadata": {},
   "outputs": [],
   "source": [
    "df_events = df_events.merge(df_matches[['MATCH_ID','COMPETITION','SEASON']], on='MATCH_ID', how='left')"
   ]
  },
  {
   "cell_type": "code",
   "execution_count": 54,
   "metadata": {},
   "outputs": [],
   "source": [
    "defensive_events = df_events[df_events['TYPE_NAME'].isin(['tackle', 'foul', 'interception','clearance'])]"
   ]
  },
  {
   "cell_type": "code",
   "execution_count": 55,
   "metadata": {},
   "outputs": [],
   "source": [
    "defensive_events = defensive_events.merge(team_names[['TEAM_NAME', 'TEAM_FBREF_ID']], on='TEAM_FBREF_ID')\n",
    "defensive_events = defensive_events.merge(df_player_match, on=['PLAYER_WS_ID', 'MATCH_ID'])"
   ]
  },
  {
   "cell_type": "code",
   "execution_count": 56,
   "metadata": {},
   "outputs": [],
   "source": [
    "interest_pos = ['DL', 'DC', 'DR']\n",
    "defender_defend_actions = defensive_events[defensive_events['STARTING_POSITION_WS'].isin(interest_pos)]"
   ]
  },
  {
   "cell_type": "code",
   "execution_count": 57,
   "metadata": {},
   "outputs": [],
   "source": [
    "grouped_def_action_team = defender_defend_actions[['TEAM_NAME','COMPETITION','SEASON',\n",
    "                                                   'START_X']].groupby(['TEAM_NAME','COMPETITION','SEASON']).mean()"
   ]
  },
  {
   "cell_type": "code",
   "execution_count": 58,
   "metadata": {},
   "outputs": [],
   "source": [
    "team_defending = team_defending.merge(team_names[['TEAM_NAME', 'TEAM_FBREF_ID', 'TEAM_LOGO_URL']], on='TEAM_FBREF_ID')"
   ]
  },
  {
   "cell_type": "code",
   "execution_count": 59,
   "metadata": {},
   "outputs": [],
   "source": [
    "grouped_OPPDA = team_defending[['TEAM_NAME','TEAM_LOGO_URL','COMPETITION','SEASON',\n",
    "                                'OPP_PPDA']].groupby(['COMPETITION','SEASON','TEAM_NAME','TEAM_LOGO_URL']).mean()"
   ]
  },
  {
   "cell_type": "code",
   "execution_count": 60,
   "metadata": {},
   "outputs": [],
   "source": [
    "grouped_def_action_team.rename({'START_X':'AVERAGE DEFENSIVE ACTION FROM DEFENDERS (YARDS)'}, axis=1,inplace=True)"
   ]
  },
  {
   "cell_type": "code",
   "execution_count": 61,
   "metadata": {},
   "outputs": [],
   "source": [
    "grouped_OPPDA = team_defending[['TEAM_NAME','TEAM_LOGO_URL','COMPETITION','SEASON','OPP_PPDA']].groupby(['TEAM_NAME',\n",
    "                                                        'COMPETITION','SEASON','TEAM_LOGO_URL']).mean()\n",
    "grouped_def_action_team.rename({'START_X':'AVERAGE DEFENSIVE ACTION FROM DEFENDERS (YARDS)'}, axis=1,inplace=True)\n",
    "grouped_OPPDA.rename({'OPP_PPDA':'OPPOSITION PASSES PER DEFENSIVE ACTION'}, axis=1,inplace=True)\n",
    "pressing_intensity_chart = pd.merge(grouped_def_action_team.reset_index(), grouped_OPPDA.reset_index(), on=['TEAM_NAME', \n",
    "                                                                            'COMPETITION','SEASON'])\n",
    "pressing_intensity_chart.reset_index(inplace=True, drop=True)"
   ]
  },
  {
   "cell_type": "code",
   "execution_count": 62,
   "metadata": {},
   "outputs": [],
   "source": [
    "pressing_intensity_chart = pressing_intensity_chart.merge(df_competitions, on=['COMPETITION','SEASON'])"
   ]
  },
  {
   "cell_type": "code",
   "execution_count": 63,
   "metadata": {},
   "outputs": [],
   "source": [
    "pressing_intensity_chart.drop(['COMPETITION'], axis=1, inplace=True)"
   ]
  },
  {
   "cell_type": "code",
   "execution_count": null,
   "metadata": {},
   "outputs": [],
   "source": [
    "create_table_query = \"\"\"\n",
    "CREATE TABLE IF NOT EXISTS PRESSING_INTENSITY_CHART (\n",
    "    SEASON INT,\n",
    "    COMPETITION_ACRONYM VARCHAR(255),\n",
    "    TEAM_NAME VARCHAR(255),\n",
    "    TEAM_LOGO_URL VARCHAR(255),\n",
    "    AVERAGE_DEFENSIVE_ACTION_FROM_DEFENDERS FLOAT,\n",
    "    OPPOSITION_PASSES_PER_DEFENSIVE_ACTION FLOAT,\n",
    "    PRIMARY KEY (SEASON, COMPETITION_ACRONYM, TEAM_NAME)\n",
    ");\n",
    "\"\"\""
   ]
  },
  {
   "cell_type": "code",
   "execution_count": null,
   "metadata": {},
   "outputs": [],
   "source": [
    "cur.execute(create_table_query)"
   ]
  },
  {
   "cell_type": "code",
   "execution_count": 64,
   "metadata": {},
   "outputs": [],
   "source": [
    "pressing_intensity_chart.columns = pressing_intensity_chart.columns.str.replace(\" \", \"_\")"
   ]
  },
  {
   "cell_type": "code",
   "execution_count": 65,
   "metadata": {},
   "outputs": [],
   "source": [
    "pressing_intensity_chart.rename(columns={'AVERAGE_DEFENSIVE_ACTION_FROM_DEFENDERS_(YARDS)':'AVERAGE_DEFENSIVE_ACTION_FROM_DEFENDERS'}, inplace=True)"
   ]
  },
  {
   "cell_type": "code",
   "execution_count": null,
   "metadata": {},
   "outputs": [],
   "source": [
    "upsert_to_snowflake(\"PRESSING_INTENSITY_CHART\", pressing_intensity_chart[['SEASON', 'COMPETITION_ACRONYM', 'TEAM_NAME', 'TEAM_LOGO_URL',\n",
    "                    'AVERAGE_DEFENSIVE_ACTION_FROM_DEFENDERS', 'OPPOSITION_PASSES_PER_DEFENSIVE_ACTION']],\n",
    "                    ['SEASON', 'COMPETITION_ACRONYM', 'TEAM_NAME'])"
   ]
  },
  {
   "cell_type": "code",
   "execution_count": 66,
   "metadata": {},
   "outputs": [],
   "source": [
    "pressing_intensity_chart = fetch_data(cursor, 'SELECT * FROM GEGENSTATS.RADAR_CHARTS.PRESSING_INTENSITY_CHART')"
   ]
  },
  {
   "cell_type": "code",
   "execution_count": 67,
   "metadata": {},
   "outputs": [],
   "source": [
    "pressing_intensity_chart.rename(columns={'AVERAGE_DEFENSIVE_ACTION_FROM_DEFENDERS':'AVERAGE DEFENSIVE ACTION FROM DEFENDERS (YARDS)',\n",
    "                                         'OPPOSITION_PASSES_PER_DEFENSIVE_ACTION':'OPPOSITION PASSES PER DEFENSIVE ACTION'}, inplace=True)"
   ]
  },
  {
   "cell_type": "code",
   "execution_count": 68,
   "metadata": {},
   "outputs": [],
   "source": [
    "filt_pressing_intensity_chart = pressing_intensity_chart[pressing_intensity_chart['SEASON'] == season_selected]\n",
    "filt_pressing_intensity_chart = filt_pressing_intensity_chart[filt_pressing_intensity_chart['COMPETITION_ACRONYM'] == league_selected]"
   ]
  },
  {
   "cell_type": "code",
   "execution_count": null,
   "metadata": {},
   "outputs": [],
   "source": []
  },
  {
   "cell_type": "code",
   "execution_count": 69,
   "metadata": {},
   "outputs": [
    {
     "data": {
      "application/vnd.plotly.v1+json": {
       "config": {
        "plotlyServerURL": "https://plotly.com"
       },
       "data": [
        {
         "hoverinfo": "text",
         "marker": {
          "opacity": 0
         },
         "mode": "markers",
         "text": "AC Milan",
         "type": "scatter",
         "x": [
          30.103839662
         ],
         "y": [
          15.01
         ]
        },
        {
         "hoverinfo": "text",
         "marker": {
          "opacity": 0
         },
         "mode": "markers",
         "text": "Atalanta",
         "type": "scatter",
         "x": [
          30.879811475
         ],
         "y": [
          13.41
         ]
        },
        {
         "hoverinfo": "text",
         "marker": {
          "opacity": 0
         },
         "mode": "markers",
         "text": "Bologna",
         "type": "scatter",
         "x": [
          29.33777248
         ],
         "y": [
          15.12
         ]
        },
        {
         "hoverinfo": "text",
         "marker": {
          "opacity": 0
         },
         "mode": "markers",
         "text": "Cagliari",
         "type": "scatter",
         "x": [
          24.58137609
         ],
         "y": [
          10.72
         ]
        },
        {
         "hoverinfo": "text",
         "marker": {
          "opacity": 0
         },
         "mode": "markers",
         "text": "Empoli",
         "type": "scatter",
         "x": [
          23.303121658
         ],
         "y": [
          9.9
         ]
        },
        {
         "hoverinfo": "text",
         "marker": {
          "opacity": 0
         },
         "mode": "markers",
         "text": "Fiorentina",
         "type": "scatter",
         "x": [
          32.958257477
         ],
         "y": [
          13.6
         ]
        },
        {
         "hoverinfo": "text",
         "marker": {
          "opacity": 0
         },
         "mode": "markers",
         "text": "Frosinone",
         "type": "scatter",
         "x": [
          24.366743119
         ],
         "y": [
          11.69
         ]
        },
        {
         "hoverinfo": "text",
         "marker": {
          "opacity": 0
         },
         "mode": "markers",
         "text": "Genoa",
         "type": "scatter",
         "x": [
          25.127008547
         ],
         "y": [
          11.68
         ]
        },
        {
         "hoverinfo": "text",
         "marker": {
          "opacity": 0
         },
         "mode": "markers",
         "text": "Hellas Verona",
         "type": "scatter",
         "x": [
          25.975883807
         ],
         "y": [
          9.6
         ]
        },
        {
         "hoverinfo": "text",
         "marker": {
          "opacity": 0
         },
         "mode": "markers",
         "text": "Inter",
         "type": "scatter",
         "x": [
          29.129058824
         ],
         "y": [
          17.95
         ]
        },
        {
         "hoverinfo": "text",
         "marker": {
          "opacity": 0
         },
         "mode": "markers",
         "text": "Juventus",
         "type": "scatter",
         "x": [
          28.405513595
         ],
         "y": [
          13.61
         ]
        },
        {
         "hoverinfo": "text",
         "marker": {
          "opacity": 0
         },
         "mode": "markers",
         "text": "Lazio",
         "type": "scatter",
         "x": [
          26.069166667
         ],
         "y": [
          14.8
         ]
        },
        {
         "hoverinfo": "text",
         "marker": {
          "opacity": 0
         },
         "mode": "markers",
         "text": "Lecce",
         "type": "scatter",
         "x": [
          26.229462435
         ],
         "y": [
          8.4
         ]
        },
        {
         "hoverinfo": "text",
         "marker": {
          "opacity": 0
         },
         "mode": "markers",
         "text": "Monza",
         "type": "scatter",
         "x": [
          26.976647727
         ],
         "y": [
          15.57
         ]
        },
        {
         "hoverinfo": "text",
         "marker": {
          "opacity": 0
         },
         "mode": "markers",
         "text": "Napoli",
         "type": "scatter",
         "x": [
          29.300209302
         ],
         "y": [
          17.98
         ]
        },
        {
         "hoverinfo": "text",
         "marker": {
          "opacity": 0
         },
         "mode": "markers",
         "text": "Roma",
         "type": "scatter",
         "x": [
          28.988212291
         ],
         "y": [
          15.54
         ]
        },
        {
         "hoverinfo": "text",
         "marker": {
          "opacity": 0
         },
         "mode": "markers",
         "text": "Salernitana",
         "type": "scatter",
         "x": [
          24.358957447
         ],
         "y": [
          8.73
         ]
        },
        {
         "hoverinfo": "text",
         "marker": {
          "opacity": 0
         },
         "mode": "markers",
         "text": "Sassuolo",
         "type": "scatter",
         "x": [
          27.597028302
         ],
         "y": [
          9.75
         ]
        },
        {
         "hoverinfo": "text",
         "marker": {
          "opacity": 0
         },
         "mode": "markers",
         "text": "Torino",
         "type": "scatter",
         "x": [
          31.905757098
         ],
         "y": [
          13.64
         ]
        },
        {
         "hoverinfo": "text",
         "marker": {
          "opacity": 0
         },
         "mode": "markers",
         "text": "Udinese",
         "type": "scatter",
         "x": [
          23.852794471
         ],
         "y": [
          7.47
         ]
        }
       ],
       "layout": {
        "annotations": [
         {
          "align": "left",
          "font": {
           "color": "red",
           "family": "Roboto, sans-serif",
           "size": 15
          },
          "showarrow": false,
          "text": "Low PPDA from Opposition<br>Defenders Defending Deeper",
          "x": 0,
          "xref": "paper",
          "y": 0,
          "yref": "paper"
         },
         {
          "align": "left",
          "font": {
           "color": "orange",
           "family": "Roboto, sans-serif",
           "size": 15
          },
          "showarrow": false,
          "text": "High PPDA from Opposition<br>Defenders Defending Deeper",
          "x": 0,
          "xref": "paper",
          "y": 1,
          "yref": "paper"
         },
         {
          "align": "right",
          "font": {
           "color": "green",
           "family": "Roboto, sans-serif",
           "size": 15
          },
          "showarrow": false,
          "text": "High PPDA from Opposition<br>Defenders Defending Higher",
          "x": 1,
          "xref": "paper",
          "y": 1,
          "yref": "paper"
         },
         {
          "align": "right",
          "font": {
           "color": "orange",
           "family": "Roboto, sans-serif",
           "size": 15
          },
          "showarrow": false,
          "text": "Low PPDA from Opposition<br>Defenders Defending Higher",
          "x": 1,
          "xref": "paper",
          "y": 0,
          "yref": "paper"
         }
        ],
        "font": {
         "color": "white",
         "family": "Roboto, sans-serif",
         "size": 25
        },
        "height": 625,
        "hoverlabel": {
         "bgcolor": "rgba(20, 20, 20, 0.8)",
         "font": {
          "family": "Roboto, sans-serif"
         }
        },
        "images": [
         {
          "layer": "above",
          "opacity": 1,
          "sizex": 1.08,
          "sizey": 1.08,
          "sizing": "contain",
          "source": "https://i.imgur.com/1Ze94pt.png",
          "x": 30.103839662,
          "xanchor": "center",
          "xref": "x",
          "y": 15.01,
          "yanchor": "middle",
          "yref": "y"
         },
         {
          "layer": "above",
          "opacity": 0.35,
          "sizex": 0.6,
          "sizey": 0.6,
          "sizing": "contain",
          "source": "https://i.imgur.com/SDA0nMH.png",
          "x": 30.879811475,
          "xanchor": "center",
          "xref": "x",
          "y": 13.41,
          "yanchor": "middle",
          "yref": "y"
         },
         {
          "layer": "above",
          "opacity": 0.35,
          "sizex": 0.6,
          "sizey": 0.6,
          "sizing": "contain",
          "source": "https://i.imgur.com/rVqtfOA.png",
          "x": 29.33777248,
          "xanchor": "center",
          "xref": "x",
          "y": 15.12,
          "yanchor": "middle",
          "yref": "y"
         },
         {
          "layer": "above",
          "opacity": 0.35,
          "sizex": 0.6,
          "sizey": 0.6,
          "sizing": "contain",
          "source": "https://i.imgur.com/rbAC6zo.png",
          "x": 24.58137609,
          "xanchor": "center",
          "xref": "x",
          "y": 10.72,
          "yanchor": "middle",
          "yref": "y"
         },
         {
          "layer": "above",
          "opacity": 0.35,
          "sizex": 0.6,
          "sizey": 0.6,
          "sizing": "contain",
          "source": "https://i.imgur.com/52xSYdX.png",
          "x": 23.303121658,
          "xanchor": "center",
          "xref": "x",
          "y": 9.9,
          "yanchor": "middle",
          "yref": "y"
         },
         {
          "layer": "above",
          "opacity": 0.35,
          "sizex": 0.6,
          "sizey": 0.6,
          "sizing": "contain",
          "source": "https://i.imgur.com/hOQC1jo.png",
          "x": 32.958257477,
          "xanchor": "center",
          "xref": "x",
          "y": 13.6,
          "yanchor": "middle",
          "yref": "y"
         },
         {
          "layer": "above",
          "opacity": 0.35,
          "sizex": 0.6,
          "sizey": 0.6,
          "sizing": "contain",
          "source": "https://i.imgur.com/x8qGMuV.png",
          "x": 24.366743119,
          "xanchor": "center",
          "xref": "x",
          "y": 11.69,
          "yanchor": "middle",
          "yref": "y"
         },
         {
          "layer": "above",
          "opacity": 0.35,
          "sizex": 0.6,
          "sizey": 0.6,
          "sizing": "contain",
          "source": "https://i.imgur.com/KjtIy8U.png",
          "x": 25.127008547,
          "xanchor": "center",
          "xref": "x",
          "y": 11.68,
          "yanchor": "middle",
          "yref": "y"
         },
         {
          "layer": "above",
          "opacity": 0.35,
          "sizex": 0.6,
          "sizey": 0.6,
          "sizing": "contain",
          "source": "https://i.imgur.com/vhAWZQO.png",
          "x": 25.975883807,
          "xanchor": "center",
          "xref": "x",
          "y": 9.6,
          "yanchor": "middle",
          "yref": "y"
         },
         {
          "layer": "above",
          "opacity": 0.35,
          "sizex": 0.6,
          "sizey": 0.6,
          "sizing": "contain",
          "source": "https://i.imgur.com/JsJ06ke.png",
          "x": 29.129058824,
          "xanchor": "center",
          "xref": "x",
          "y": 17.95,
          "yanchor": "middle",
          "yref": "y"
         },
         {
          "layer": "above",
          "opacity": 0.35,
          "sizex": 0.6,
          "sizey": 0.6,
          "sizing": "contain",
          "source": "https://i.imgur.com/60XAIJI.png",
          "x": 28.405513595,
          "xanchor": "center",
          "xref": "x",
          "y": 13.61,
          "yanchor": "middle",
          "yref": "y"
         },
         {
          "layer": "above",
          "opacity": 0.35,
          "sizex": 0.6,
          "sizey": 0.6,
          "sizing": "contain",
          "source": "https://i.imgur.com/SBsGYjm.png",
          "x": 26.069166667,
          "xanchor": "center",
          "xref": "x",
          "y": 14.8,
          "yanchor": "middle",
          "yref": "y"
         },
         {
          "layer": "above",
          "opacity": 0.35,
          "sizex": 0.6,
          "sizey": 0.6,
          "sizing": "contain",
          "source": "https://i.imgur.com/9A4flGu.png",
          "x": 26.229462435,
          "xanchor": "center",
          "xref": "x",
          "y": 8.4,
          "yanchor": "middle",
          "yref": "y"
         },
         {
          "layer": "above",
          "opacity": 0.35,
          "sizex": 0.6,
          "sizey": 0.6,
          "sizing": "contain",
          "source": "https://i.imgur.com/7bHOIx9.png",
          "x": 26.976647727,
          "xanchor": "center",
          "xref": "x",
          "y": 15.57,
          "yanchor": "middle",
          "yref": "y"
         },
         {
          "layer": "above",
          "opacity": 0.35,
          "sizex": 0.6,
          "sizey": 0.6,
          "sizing": "contain",
          "source": "https://i.imgur.com/Ql7LKBZ.png",
          "x": 29.300209302,
          "xanchor": "center",
          "xref": "x",
          "y": 17.98,
          "yanchor": "middle",
          "yref": "y"
         },
         {
          "layer": "above",
          "opacity": 0.35,
          "sizex": 0.6,
          "sizey": 0.6,
          "sizing": "contain",
          "source": "https://i.imgur.com/nhMJAHW.png",
          "x": 28.988212291,
          "xanchor": "center",
          "xref": "x",
          "y": 15.54,
          "yanchor": "middle",
          "yref": "y"
         },
         {
          "layer": "above",
          "opacity": 0.35,
          "sizex": 0.6,
          "sizey": 0.6,
          "sizing": "contain",
          "source": "https://i.imgur.com/sYubMBZ.png",
          "x": 24.358957447,
          "xanchor": "center",
          "xref": "x",
          "y": 8.73,
          "yanchor": "middle",
          "yref": "y"
         },
         {
          "layer": "above",
          "opacity": 0.35,
          "sizex": 0.6,
          "sizey": 0.6,
          "sizing": "contain",
          "source": "https://i.imgur.com/px5mT39.png",
          "x": 27.597028302,
          "xanchor": "center",
          "xref": "x",
          "y": 9.75,
          "yanchor": "middle",
          "yref": "y"
         },
         {
          "layer": "above",
          "opacity": 0.35,
          "sizex": 0.6,
          "sizey": 0.6,
          "sizing": "contain",
          "source": "https://i.imgur.com/XWmpYeu.png",
          "x": 31.905757098,
          "xanchor": "center",
          "xref": "x",
          "y": 13.64,
          "yanchor": "middle",
          "yref": "y"
         },
         {
          "layer": "above",
          "opacity": 0.35,
          "sizex": 0.6,
          "sizey": 0.6,
          "sizing": "contain",
          "source": "https://i.imgur.com/Dp0KUmN.png",
          "x": 23.852794471,
          "xanchor": "center",
          "xref": "x",
          "y": 7.47,
          "yanchor": "middle",
          "yref": "y"
         }
        ],
        "margin": {
         "b": 10,
         "l": 10,
         "r": 30,
         "t": 50
        },
        "paper_bgcolor": "rgb(70, 70, 70)",
        "plot_bgcolor": "rgb(70, 70, 70)",
        "shapes": [
         {
          "layer": "below",
          "line": {
           "color": "White",
           "width": 3
          },
          "type": "line",
          "x0": 27.472331123700002,
          "x1": 27.472331123700002,
          "y0": 6,
          "y1": 24
         },
         {
          "layer": "below",
          "line": {
           "color": "White",
           "width": 3
          },
          "type": "line",
          "x0": 20,
          "x1": 35,
          "y0": 12.708499999999999,
          "y1": 12.708499999999999
         }
        ],
        "showlegend": false,
        "template": {
         "data": {
          "bar": [
           {
            "error_x": {
             "color": "#2a3f5f"
            },
            "error_y": {
             "color": "#2a3f5f"
            },
            "marker": {
             "line": {
              "color": "#E5ECF6",
              "width": 0.5
             },
             "pattern": {
              "fillmode": "overlay",
              "size": 10,
              "solidity": 0.2
             }
            },
            "type": "bar"
           }
          ],
          "barpolar": [
           {
            "marker": {
             "line": {
              "color": "#E5ECF6",
              "width": 0.5
             },
             "pattern": {
              "fillmode": "overlay",
              "size": 10,
              "solidity": 0.2
             }
            },
            "type": "barpolar"
           }
          ],
          "carpet": [
           {
            "aaxis": {
             "endlinecolor": "#2a3f5f",
             "gridcolor": "white",
             "linecolor": "white",
             "minorgridcolor": "white",
             "startlinecolor": "#2a3f5f"
            },
            "baxis": {
             "endlinecolor": "#2a3f5f",
             "gridcolor": "white",
             "linecolor": "white",
             "minorgridcolor": "white",
             "startlinecolor": "#2a3f5f"
            },
            "type": "carpet"
           }
          ],
          "choropleth": [
           {
            "colorbar": {
             "outlinewidth": 0,
             "ticks": ""
            },
            "type": "choropleth"
           }
          ],
          "contour": [
           {
            "colorbar": {
             "outlinewidth": 0,
             "ticks": ""
            },
            "colorscale": [
             [
              0,
              "#0d0887"
             ],
             [
              0.1111111111111111,
              "#46039f"
             ],
             [
              0.2222222222222222,
              "#7201a8"
             ],
             [
              0.3333333333333333,
              "#9c179e"
             ],
             [
              0.4444444444444444,
              "#bd3786"
             ],
             [
              0.5555555555555556,
              "#d8576b"
             ],
             [
              0.6666666666666666,
              "#ed7953"
             ],
             [
              0.7777777777777778,
              "#fb9f3a"
             ],
             [
              0.8888888888888888,
              "#fdca26"
             ],
             [
              1,
              "#f0f921"
             ]
            ],
            "type": "contour"
           }
          ],
          "contourcarpet": [
           {
            "colorbar": {
             "outlinewidth": 0,
             "ticks": ""
            },
            "type": "contourcarpet"
           }
          ],
          "heatmap": [
           {
            "colorbar": {
             "outlinewidth": 0,
             "ticks": ""
            },
            "colorscale": [
             [
              0,
              "#0d0887"
             ],
             [
              0.1111111111111111,
              "#46039f"
             ],
             [
              0.2222222222222222,
              "#7201a8"
             ],
             [
              0.3333333333333333,
              "#9c179e"
             ],
             [
              0.4444444444444444,
              "#bd3786"
             ],
             [
              0.5555555555555556,
              "#d8576b"
             ],
             [
              0.6666666666666666,
              "#ed7953"
             ],
             [
              0.7777777777777778,
              "#fb9f3a"
             ],
             [
              0.8888888888888888,
              "#fdca26"
             ],
             [
              1,
              "#f0f921"
             ]
            ],
            "type": "heatmap"
           }
          ],
          "heatmapgl": [
           {
            "colorbar": {
             "outlinewidth": 0,
             "ticks": ""
            },
            "colorscale": [
             [
              0,
              "#0d0887"
             ],
             [
              0.1111111111111111,
              "#46039f"
             ],
             [
              0.2222222222222222,
              "#7201a8"
             ],
             [
              0.3333333333333333,
              "#9c179e"
             ],
             [
              0.4444444444444444,
              "#bd3786"
             ],
             [
              0.5555555555555556,
              "#d8576b"
             ],
             [
              0.6666666666666666,
              "#ed7953"
             ],
             [
              0.7777777777777778,
              "#fb9f3a"
             ],
             [
              0.8888888888888888,
              "#fdca26"
             ],
             [
              1,
              "#f0f921"
             ]
            ],
            "type": "heatmapgl"
           }
          ],
          "histogram": [
           {
            "marker": {
             "pattern": {
              "fillmode": "overlay",
              "size": 10,
              "solidity": 0.2
             }
            },
            "type": "histogram"
           }
          ],
          "histogram2d": [
           {
            "colorbar": {
             "outlinewidth": 0,
             "ticks": ""
            },
            "colorscale": [
             [
              0,
              "#0d0887"
             ],
             [
              0.1111111111111111,
              "#46039f"
             ],
             [
              0.2222222222222222,
              "#7201a8"
             ],
             [
              0.3333333333333333,
              "#9c179e"
             ],
             [
              0.4444444444444444,
              "#bd3786"
             ],
             [
              0.5555555555555556,
              "#d8576b"
             ],
             [
              0.6666666666666666,
              "#ed7953"
             ],
             [
              0.7777777777777778,
              "#fb9f3a"
             ],
             [
              0.8888888888888888,
              "#fdca26"
             ],
             [
              1,
              "#f0f921"
             ]
            ],
            "type": "histogram2d"
           }
          ],
          "histogram2dcontour": [
           {
            "colorbar": {
             "outlinewidth": 0,
             "ticks": ""
            },
            "colorscale": [
             [
              0,
              "#0d0887"
             ],
             [
              0.1111111111111111,
              "#46039f"
             ],
             [
              0.2222222222222222,
              "#7201a8"
             ],
             [
              0.3333333333333333,
              "#9c179e"
             ],
             [
              0.4444444444444444,
              "#bd3786"
             ],
             [
              0.5555555555555556,
              "#d8576b"
             ],
             [
              0.6666666666666666,
              "#ed7953"
             ],
             [
              0.7777777777777778,
              "#fb9f3a"
             ],
             [
              0.8888888888888888,
              "#fdca26"
             ],
             [
              1,
              "#f0f921"
             ]
            ],
            "type": "histogram2dcontour"
           }
          ],
          "mesh3d": [
           {
            "colorbar": {
             "outlinewidth": 0,
             "ticks": ""
            },
            "type": "mesh3d"
           }
          ],
          "parcoords": [
           {
            "line": {
             "colorbar": {
              "outlinewidth": 0,
              "ticks": ""
             }
            },
            "type": "parcoords"
           }
          ],
          "pie": [
           {
            "automargin": true,
            "type": "pie"
           }
          ],
          "scatter": [
           {
            "fillpattern": {
             "fillmode": "overlay",
             "size": 10,
             "solidity": 0.2
            },
            "type": "scatter"
           }
          ],
          "scatter3d": [
           {
            "line": {
             "colorbar": {
              "outlinewidth": 0,
              "ticks": ""
             }
            },
            "marker": {
             "colorbar": {
              "outlinewidth": 0,
              "ticks": ""
             }
            },
            "type": "scatter3d"
           }
          ],
          "scattercarpet": [
           {
            "marker": {
             "colorbar": {
              "outlinewidth": 0,
              "ticks": ""
             }
            },
            "type": "scattercarpet"
           }
          ],
          "scattergeo": [
           {
            "marker": {
             "colorbar": {
              "outlinewidth": 0,
              "ticks": ""
             }
            },
            "type": "scattergeo"
           }
          ],
          "scattergl": [
           {
            "marker": {
             "colorbar": {
              "outlinewidth": 0,
              "ticks": ""
             }
            },
            "type": "scattergl"
           }
          ],
          "scattermapbox": [
           {
            "marker": {
             "colorbar": {
              "outlinewidth": 0,
              "ticks": ""
             }
            },
            "type": "scattermapbox"
           }
          ],
          "scatterpolar": [
           {
            "marker": {
             "colorbar": {
              "outlinewidth": 0,
              "ticks": ""
             }
            },
            "type": "scatterpolar"
           }
          ],
          "scatterpolargl": [
           {
            "marker": {
             "colorbar": {
              "outlinewidth": 0,
              "ticks": ""
             }
            },
            "type": "scatterpolargl"
           }
          ],
          "scatterternary": [
           {
            "marker": {
             "colorbar": {
              "outlinewidth": 0,
              "ticks": ""
             }
            },
            "type": "scatterternary"
           }
          ],
          "surface": [
           {
            "colorbar": {
             "outlinewidth": 0,
             "ticks": ""
            },
            "colorscale": [
             [
              0,
              "#0d0887"
             ],
             [
              0.1111111111111111,
              "#46039f"
             ],
             [
              0.2222222222222222,
              "#7201a8"
             ],
             [
              0.3333333333333333,
              "#9c179e"
             ],
             [
              0.4444444444444444,
              "#bd3786"
             ],
             [
              0.5555555555555556,
              "#d8576b"
             ],
             [
              0.6666666666666666,
              "#ed7953"
             ],
             [
              0.7777777777777778,
              "#fb9f3a"
             ],
             [
              0.8888888888888888,
              "#fdca26"
             ],
             [
              1,
              "#f0f921"
             ]
            ],
            "type": "surface"
           }
          ],
          "table": [
           {
            "cells": {
             "fill": {
              "color": "#EBF0F8"
             },
             "line": {
              "color": "white"
             }
            },
            "header": {
             "fill": {
              "color": "#C8D4E3"
             },
             "line": {
              "color": "white"
             }
            },
            "type": "table"
           }
          ]
         },
         "layout": {
          "annotationdefaults": {
           "arrowcolor": "#2a3f5f",
           "arrowhead": 0,
           "arrowwidth": 1
          },
          "autotypenumbers": "strict",
          "coloraxis": {
           "colorbar": {
            "outlinewidth": 0,
            "ticks": ""
           }
          },
          "colorscale": {
           "diverging": [
            [
             0,
             "#8e0152"
            ],
            [
             0.1,
             "#c51b7d"
            ],
            [
             0.2,
             "#de77ae"
            ],
            [
             0.3,
             "#f1b6da"
            ],
            [
             0.4,
             "#fde0ef"
            ],
            [
             0.5,
             "#f7f7f7"
            ],
            [
             0.6,
             "#e6f5d0"
            ],
            [
             0.7,
             "#b8e186"
            ],
            [
             0.8,
             "#7fbc41"
            ],
            [
             0.9,
             "#4d9221"
            ],
            [
             1,
             "#276419"
            ]
           ],
           "sequential": [
            [
             0,
             "#0d0887"
            ],
            [
             0.1111111111111111,
             "#46039f"
            ],
            [
             0.2222222222222222,
             "#7201a8"
            ],
            [
             0.3333333333333333,
             "#9c179e"
            ],
            [
             0.4444444444444444,
             "#bd3786"
            ],
            [
             0.5555555555555556,
             "#d8576b"
            ],
            [
             0.6666666666666666,
             "#ed7953"
            ],
            [
             0.7777777777777778,
             "#fb9f3a"
            ],
            [
             0.8888888888888888,
             "#fdca26"
            ],
            [
             1,
             "#f0f921"
            ]
           ],
           "sequentialminus": [
            [
             0,
             "#0d0887"
            ],
            [
             0.1111111111111111,
             "#46039f"
            ],
            [
             0.2222222222222222,
             "#7201a8"
            ],
            [
             0.3333333333333333,
             "#9c179e"
            ],
            [
             0.4444444444444444,
             "#bd3786"
            ],
            [
             0.5555555555555556,
             "#d8576b"
            ],
            [
             0.6666666666666666,
             "#ed7953"
            ],
            [
             0.7777777777777778,
             "#fb9f3a"
            ],
            [
             0.8888888888888888,
             "#fdca26"
            ],
            [
             1,
             "#f0f921"
            ]
           ]
          },
          "colorway": [
           "#636efa",
           "#EF553B",
           "#00cc96",
           "#ab63fa",
           "#FFA15A",
           "#19d3f3",
           "#FF6692",
           "#B6E880",
           "#FF97FF",
           "#FECB52"
          ],
          "font": {
           "color": "#2a3f5f"
          },
          "geo": {
           "bgcolor": "white",
           "lakecolor": "white",
           "landcolor": "#E5ECF6",
           "showlakes": true,
           "showland": true,
           "subunitcolor": "white"
          },
          "hoverlabel": {
           "align": "left"
          },
          "hovermode": "closest",
          "mapbox": {
           "style": "light"
          },
          "paper_bgcolor": "white",
          "plot_bgcolor": "#E5ECF6",
          "polar": {
           "angularaxis": {
            "gridcolor": "white",
            "linecolor": "white",
            "ticks": ""
           },
           "bgcolor": "#E5ECF6",
           "radialaxis": {
            "gridcolor": "white",
            "linecolor": "white",
            "ticks": ""
           }
          },
          "scene": {
           "xaxis": {
            "backgroundcolor": "#E5ECF6",
            "gridcolor": "white",
            "gridwidth": 2,
            "linecolor": "white",
            "showbackground": true,
            "ticks": "",
            "zerolinecolor": "white"
           },
           "yaxis": {
            "backgroundcolor": "#E5ECF6",
            "gridcolor": "white",
            "gridwidth": 2,
            "linecolor": "white",
            "showbackground": true,
            "ticks": "",
            "zerolinecolor": "white"
           },
           "zaxis": {
            "backgroundcolor": "#E5ECF6",
            "gridcolor": "white",
            "gridwidth": 2,
            "linecolor": "white",
            "showbackground": true,
            "ticks": "",
            "zerolinecolor": "white"
           }
          },
          "shapedefaults": {
           "line": {
            "color": "#2a3f5f"
           }
          },
          "ternary": {
           "aaxis": {
            "gridcolor": "white",
            "linecolor": "white",
            "ticks": ""
           },
           "baxis": {
            "gridcolor": "white",
            "linecolor": "white",
            "ticks": ""
           },
           "bgcolor": "#E5ECF6",
           "caxis": {
            "gridcolor": "white",
            "linecolor": "white",
            "ticks": ""
           }
          },
          "title": {
           "x": 0.05
          },
          "xaxis": {
           "automargin": true,
           "gridcolor": "white",
           "linecolor": "white",
           "ticks": "",
           "title": {
            "standoff": 15
           },
           "zerolinecolor": "white",
           "zerolinewidth": 2
          },
          "yaxis": {
           "automargin": true,
           "gridcolor": "white",
           "linecolor": "white",
           "ticks": "",
           "title": {
            "standoff": 15
           },
           "zerolinecolor": "white",
           "zerolinewidth": 2
          }
         }
        },
        "title": {
         "font": {
          "color": "white",
          "family": "Roboto, sans-serif",
          "size": 23
         },
         "text": "PRESSING INTENSITY",
         "x": 0.5,
         "xanchor": "center",
         "y": 0.98,
         "yanchor": "top"
        },
        "width": 625,
        "xaxis": {
         "gridcolor": "rgba(0,0,0,0)",
         "linecolor": "white",
         "linewidth": 2,
         "range": [
          20,
          35
         ],
         "showline": true,
         "tickfont": {
          "color": "white",
          "size": 15
         },
         "title": {
          "font": {
           "size": 25
          },
          "text": "AVERAGE DEFENSIVE ACTION FROM DEFENDERS (YARDS)"
         }
        },
        "yaxis": {
         "gridcolor": "rgba(0,0,0,0)",
         "linecolor": "white",
         "linewidth": 2,
         "range": [
          6,
          24
         ],
         "showline": true,
         "tickfont": {
          "color": "white",
          "size": 15
         },
         "title": {
          "font": {
           "size": 25
          },
          "text": "OPPOSITION PASSES PER DEFENSIVE ACTION"
         }
        }
       }
      }
     },
     "metadata": {},
     "output_type": "display_data"
    }
   ],
   "source": [
    "create_FM_team_scatter_chart(filt_pressing_intensity_chart, 'PRESSING INTENSITY', \"AC Milan\", 'AVERAGE DEFENSIVE ACTION FROM DEFENDERS (YARDS)', \n",
    "                                                        'OPPOSITION PASSES PER DEFENSIVE ACTION', 0.6, 20, 35, 6, 24, \n",
    "                                                        \"Low PPDA from Opposition<br>Defenders Defending Deeper\", \n",
    "                                                        \"Low PPDA from Opposition<br>Defenders Defending Higher\",\n",
    "                                                        \"High PPDA from Opposition<br>Defenders Defending Deeper\", \n",
    "                                                        \"High PPDA from Opposition<br>Defenders Defending Higher\", \"red\", \"orange\", \"orange\", \"green\")\n"
   ]
  },
  {
   "cell_type": "markdown",
   "metadata": {},
   "source": [
    "### Now to look at set_piece crosses"
   ]
  },
  {
   "cell_type": "code",
   "execution_count": 70,
   "metadata": {},
   "outputs": [],
   "source": [
    "set_piece_cross_events = df_events[df_events['TYPE_NAME'].isin(['freekick_crossed', 'corner_crossed'])]"
   ]
  },
  {
   "cell_type": "code",
   "execution_count": 71,
   "metadata": {},
   "outputs": [
    {
     "name": "stderr",
     "output_type": "stream",
     "text": [
      "C:\\Users\\ksbha\\AppData\\Local\\Temp\\ipykernel_440392\\2166643350.py:1: SettingWithCopyWarning:\n",
      "\n",
      "\n",
      "A value is trying to be set on a copy of a slice from a DataFrame.\n",
      "Try using .loc[row_indexer,col_indexer] = value instead\n",
      "\n",
      "See the caveats in the documentation: https://pandas.pydata.org/pandas-docs/stable/user_guide/indexing.html#returning-a-view-versus-a-copy\n",
      "\n"
     ]
    }
   ],
   "source": [
    "set_piece_cross_events.loc[:, 'OPPO_TEAM_ID'] = \"NaN\""
   ]
  },
  {
   "cell_type": "code",
   "execution_count": 72,
   "metadata": {},
   "outputs": [],
   "source": [
    "# Functio to help us populate the 'OPPO_TEAM_ID' column\n",
    "def swap_team_id(row, home_id, away_id):\n",
    "    if row['TEAM_FBREF_ID'] == home_id:\n",
    "        return away_id\n",
    "    elif row['TEAM_FBREF_ID'] == away_id:\n",
    "        return home_id\n",
    "    else:\n",
    "        return \"PROBLEM\""
   ]
  },
  {
   "cell_type": "code",
   "execution_count": 73,
   "metadata": {},
   "outputs": [],
   "source": [
    "def specify_oppo_team_id_to_events(df_events, filtered_matches):\n",
    "    for ind, row in filtered_matches.iterrows():\n",
    "        home_team_id = row['HOME_TEAM_ID']\n",
    "        away_team_id = row['AWAY_TEAM_ID']\n",
    "\n",
    "        inds_to_replace = df_events[df_events['MATCH_ID'] == row['MATCH_ID']].index\n",
    "        df_events.loc[inds_to_replace, 'OPPO_TEAM_ID'] = df_events.loc[inds_to_replace].apply(swap_team_id, \n",
    "                                                                                             axis=1, args=(home_team_id, away_team_id))\n",
    "    return df_events"
   ]
  },
  {
   "cell_type": "code",
   "execution_count": 74,
   "metadata": {},
   "outputs": [],
   "source": [
    "set_piece_cross_events = specify_oppo_team_id_to_events(set_piece_cross_events, df_matches)"
   ]
  },
  {
   "cell_type": "code",
   "execution_count": 75,
   "metadata": {},
   "outputs": [],
   "source": [
    "team_names_2 = team_names[['TEAM_NAME', 'TEAM_FBREF_ID']].copy()\n",
    "team_names_2.rename({'TEAM_FBREF_ID':'OPPO_TEAM_ID', 'TEAM_NAME':'OPPO_TEAM_NAME'}, axis=1, inplace=True)"
   ]
  },
  {
   "cell_type": "code",
   "execution_count": 76,
   "metadata": {},
   "outputs": [],
   "source": [
    "set_piece_cross_events = set_piece_cross_events.merge(team_names_2, on=\"OPPO_TEAM_ID\")"
   ]
  },
  {
   "cell_type": "code",
   "execution_count": 77,
   "metadata": {},
   "outputs": [],
   "source": [
    "set_piece_cross_events_grouped = set_piece_cross_events[['OPPO_TEAM_NAME','COMPETITION','SEASON','MATCH_ID']].groupby([\n",
    "    'OPPO_TEAM_NAME','COMPETITION','SEASON']).count()"
   ]
  },
  {
   "cell_type": "code",
   "execution_count": 78,
   "metadata": {},
   "outputs": [],
   "source": [
    "team_name_matches_played = team_misc[['TEAM_NAME', 'COMPETITION','SEASON','MATCHES_PLAYED']].copy()"
   ]
  },
  {
   "cell_type": "code",
   "execution_count": 79,
   "metadata": {},
   "outputs": [],
   "source": [
    "set_piece_cross_events_grouped.rename({'MATCH_ID':'OPPOSITION CROSSES FROM SET PIECE'}, axis=1, inplace=True)"
   ]
  },
  {
   "cell_type": "code",
   "execution_count": 80,
   "metadata": {},
   "outputs": [],
   "source": [
    "set_piece_cross_events_grouped = team_name_matches_played.merge(set_piece_cross_events_grouped.reset_index().rename(\n",
    "    {'OPPO_TEAM_NAME':'TEAM_NAME'}, axis=1),on=['TEAM_NAME','COMPETITION','SEASON'])"
   ]
  },
  {
   "cell_type": "code",
   "execution_count": 81,
   "metadata": {},
   "outputs": [],
   "source": [
    "set_piece_cross_events_grouped['OPPOSITION CROSSES FROM SET PIECE PER GAME'] = set_piece_cross_events_grouped['OPPOSITION CROSSES FROM SET PIECE'] / \\\n",
    "                                                                        set_piece_cross_events_grouped['MATCHES_PLAYED']"
   ]
  },
  {
   "cell_type": "code",
   "execution_count": 82,
   "metadata": {},
   "outputs": [],
   "source": [
    "inds1 = df_shots[df_shots['SCA_1_PLAYER_FBREF_EVENT'].isin(['Pass (Dead)'])].index\n",
    "inds2 = df_shots[df_shots['SCA_2_PLAYER_FBREF_EVENT'].isin(['Pass (Dead)'])].index"
   ]
  },
  {
   "cell_type": "code",
   "execution_count": 83,
   "metadata": {},
   "outputs": [],
   "source": [
    "inds_union = np.union1d(inds1, inds2)"
   ]
  },
  {
   "cell_type": "code",
   "execution_count": 84,
   "metadata": {},
   "outputs": [],
   "source": [
    "df_shots_set_piece = df_shots.loc[inds_union]"
   ]
  },
  {
   "cell_type": "code",
   "execution_count": 85,
   "metadata": {},
   "outputs": [],
   "source": [
    "df_shots_set_piece = df_events[['MATCH_ID','ACTION_ID','TEAM_FBREF_ID']].merge(df_shots_set_piece, on=['MATCH_ID', 'ACTION_ID'])"
   ]
  },
  {
   "cell_type": "code",
   "execution_count": 86,
   "metadata": {},
   "outputs": [],
   "source": [
    "df_shots_set_piece.loc[:, 'OPPO_TEAM_ID'] = \"NaN\""
   ]
  },
  {
   "cell_type": "code",
   "execution_count": 87,
   "metadata": {},
   "outputs": [],
   "source": [
    "df_shots_set_piece = specify_oppo_team_id_to_events(df_shots_set_piece, df_matches)"
   ]
  },
  {
   "cell_type": "code",
   "execution_count": 88,
   "metadata": {},
   "outputs": [],
   "source": [
    "df_shots_set_piece = df_shots_set_piece.merge(team_names_2, on=\"OPPO_TEAM_ID\")"
   ]
  },
  {
   "cell_type": "code",
   "execution_count": 89,
   "metadata": {},
   "outputs": [],
   "source": [
    "df_shots_set_piece = df_shots_set_piece.merge(df_matches[['MATCH_ID','COMPETITION','SEASON']], on='MATCH_ID', how='left')"
   ]
  },
  {
   "cell_type": "code",
   "execution_count": 90,
   "metadata": {},
   "outputs": [],
   "source": [
    "shots_xg_conceded_from_set_pieces_grouped = df_shots_set_piece[['OPPO_TEAM_NAME','COMPETITION','SEASON', \n",
    "                                                                'XG']].groupby(['OPPO_TEAM_NAME','COMPETITION','SEASON']).sum()"
   ]
  },
  {
   "cell_type": "code",
   "execution_count": 91,
   "metadata": {},
   "outputs": [],
   "source": [
    "shots_xg_conceded_from_set_pieces_grouped = team_name_matches_played.merge(shots_xg_conceded_from_set_pieces_grouped.reset_index().rename(\n",
    "    {'OPPO_TEAM_NAME':'TEAM_NAME'}, axis=1),on=['TEAM_NAME','COMPETITION','SEASON'])"
   ]
  },
  {
   "cell_type": "code",
   "execution_count": 92,
   "metadata": {},
   "outputs": [],
   "source": [
    "shots_xg_conceded_from_set_pieces_grouped['OPPOSITION XG FROM SET PIECE CROSSES PER GAME'] = shots_xg_conceded_from_set_pieces_grouped['XG'] / \\\n",
    "                                                                        shots_xg_conceded_from_set_pieces_grouped['MATCHES_PLAYED']"
   ]
  },
  {
   "cell_type": "code",
   "execution_count": 93,
   "metadata": {},
   "outputs": [],
   "source": [
    "set_piece_efficiency_chart = set_piece_cross_events_grouped.drop('MATCHES_PLAYED', \n",
    "                                    axis=1).merge(shots_xg_conceded_from_set_pieces_grouped.drop('MATCHES_PLAYED', axis=1), \n",
    "                                                                    on=['TEAM_NAME','COMPETITION','SEASON'] )"
   ]
  },
  {
   "cell_type": "code",
   "execution_count": 94,
   "metadata": {},
   "outputs": [],
   "source": [
    "set_piece_efficiency_chart = set_piece_efficiency_chart.merge(team_names[['TEAM_NAME', 'TEAM_LOGO_URL']], on='TEAM_NAME')"
   ]
  },
  {
   "cell_type": "code",
   "execution_count": 95,
   "metadata": {},
   "outputs": [],
   "source": [
    "set_piece_efficiency_chart = set_piece_efficiency_chart.merge(df_competitions, on=['COMPETITION','SEASON'])"
   ]
  },
  {
   "cell_type": "code",
   "execution_count": null,
   "metadata": {},
   "outputs": [],
   "source": [
    "set_piece_efficiency_chart.drop(['COMPETITION'], axis=1, inplace=True)"
   ]
  },
  {
   "cell_type": "code",
   "execution_count": null,
   "metadata": {},
   "outputs": [],
   "source": [
    "create_table_query = \"\"\"\n",
    "CREATE TABLE IF NOT EXISTS SET_PIECE_EFFICIENCY_CHART (\n",
    "    SEASON INT,\n",
    "    COMPETITION_ACRONYM VARCHAR(255),\n",
    "    TEAM_NAME VARCHAR(255),\n",
    "    TEAM_LOGO_URL VARCHAR(255),\n",
    "    OPPOSITION_XG_FROM_SET_PIECE_CROSSES_PER_GAME FLOAT,\n",
    "    OPPOSITION_CROSSES_FROM_SET_PIECE_PER_GAME FLOAT,\n",
    "    PRIMARY KEY (SEASON, COMPETITION_ACRONYM, TEAM_NAME)\n",
    ");\n",
    "\"\"\""
   ]
  },
  {
   "cell_type": "code",
   "execution_count": null,
   "metadata": {},
   "outputs": [],
   "source": [
    "cur.execute(create_table_query)"
   ]
  },
  {
   "cell_type": "code",
   "execution_count": null,
   "metadata": {},
   "outputs": [],
   "source": [
    "set_piece_efficiency_chart.columns = set_piece_efficiency_chart.columns.str.replace(\" \", \"_\")"
   ]
  },
  {
   "cell_type": "code",
   "execution_count": null,
   "metadata": {},
   "outputs": [],
   "source": [
    "set_piece_efficiency_chart.drop(['OPPOSITION_CROSSES_FROM_SET_PIECE', 'XG'], axis=1, inplace=True)"
   ]
  },
  {
   "cell_type": "code",
   "execution_count": null,
   "metadata": {},
   "outputs": [],
   "source": [
    "upsert_to_snowflake(\"SET_PIECE_EFFICIENCY_CHART\", set_piece_efficiency_chart,\n",
    "                    ['SEASON', 'COMPETITION_ACRONYM', 'TEAM_NAME'])"
   ]
  },
  {
   "cell_type": "code",
   "execution_count": 96,
   "metadata": {},
   "outputs": [],
   "source": [
    "set_piece_efficiency_chart = fetch_data(cursor, 'SELECT * FROM GEGENSTATS.RADAR_CHARTS.SET_PIECE_EFFICIENCY_CHART')"
   ]
  },
  {
   "cell_type": "code",
   "execution_count": 97,
   "metadata": {},
   "outputs": [],
   "source": [
    "set_piece_efficiency_chart.rename(columns={'OPPOSITION_XG_FROM_SET_PIECE_CROSSES_PER_GAME':'OPPOSITION XG FROM SET PIECE CROSSES PER GAME',\n",
    "                                            'OPPOSITION_CROSSES_FROM_SET_PIECE_PER_GAME':'OPPOSITION CROSSES FROM SET PIECE PER GAME'}, inplace=True)"
   ]
  },
  {
   "cell_type": "code",
   "execution_count": 98,
   "metadata": {},
   "outputs": [],
   "source": [
    "filt_set_piece_efficiency_chart = set_piece_efficiency_chart[set_piece_efficiency_chart['SEASON'] == season_selected]\n",
    "filt_set_piece_efficiency_chart = filt_set_piece_efficiency_chart[filt_set_piece_efficiency_chart['COMPETITION_ACRONYM'] == league_selected]"
   ]
  },
  {
   "cell_type": "code",
   "execution_count": 99,
   "metadata": {},
   "outputs": [
    {
     "data": {
      "application/vnd.plotly.v1+json": {
       "config": {
        "plotlyServerURL": "https://plotly.com"
       },
       "data": [
        {
         "hoverinfo": "text",
         "marker": {
          "opacity": 0
         },
         "mode": "markers",
         "text": "Hellas Verona",
         "type": "scatter",
         "x": [
          10.571428571
         ],
         "y": [
          0.1875
         ]
        },
        {
         "hoverinfo": "text",
         "marker": {
          "opacity": 0
         },
         "mode": "markers",
         "text": "AC Milan",
         "type": "scatter",
         "x": [
          7.142857143
         ],
         "y": [
          0.1528571429
         ]
        },
        {
         "hoverinfo": "text",
         "marker": {
          "opacity": 0
         },
         "mode": "markers",
         "text": "Fiorentina",
         "type": "scatter",
         "x": [
          8.25
         ],
         "y": [
          0.09821428571
         ]
        },
        {
         "hoverinfo": "text",
         "marker": {
          "opacity": 0
         },
         "mode": "markers",
         "text": "Sassuolo",
         "type": "scatter",
         "x": [
          7.75
         ],
         "y": [
          0.2089285714
         ]
        },
        {
         "hoverinfo": "text",
         "marker": {
          "opacity": 0
         },
         "mode": "markers",
         "text": "Lecce",
         "type": "scatter",
         "x": [
          9.107142857
         ],
         "y": [
          0.1871428571
         ]
        },
        {
         "hoverinfo": "text",
         "marker": {
          "opacity": 0
         },
         "mode": "markers",
         "text": "Genoa",
         "type": "scatter",
         "x": [
          7.392857143
         ],
         "y": [
          0.1182142857
         ]
        },
        {
         "hoverinfo": "text",
         "marker": {
          "opacity": 0
         },
         "mode": "markers",
         "text": "Inter",
         "type": "scatter",
         "x": [
          7.071428571
         ],
         "y": [
          0.08642857143
         ]
        },
        {
         "hoverinfo": "text",
         "marker": {
          "opacity": 0
         },
         "mode": "markers",
         "text": "Lazio",
         "type": "scatter",
         "x": [
          7.535714286
         ],
         "y": [
          0.1939285714
         ]
        },
        {
         "hoverinfo": "text",
         "marker": {
          "opacity": 0
         },
         "mode": "markers",
         "text": "Torino",
         "type": "scatter",
         "x": [
          7.964285714
         ],
         "y": [
          0.1396428571
         ]
        },
        {
         "hoverinfo": "text",
         "marker": {
          "opacity": 0
         },
         "mode": "markers",
         "text": "Monza",
         "type": "scatter",
         "x": [
          7.571428571
         ],
         "y": [
          0.1914285714
         ]
        },
        {
         "hoverinfo": "text",
         "marker": {
          "opacity": 0
         },
         "mode": "markers",
         "text": "Atalanta",
         "type": "scatter",
         "x": [
          8.678571429
         ],
         "y": [
          0.1521428571
         ]
        },
        {
         "hoverinfo": "text",
         "marker": {
          "opacity": 0
         },
         "mode": "markers",
         "text": "Udinese",
         "type": "scatter",
         "x": [
          9.285714286
         ],
         "y": [
          0.1467857143
         ]
        },
        {
         "hoverinfo": "text",
         "marker": {
          "opacity": 0
         },
         "mode": "markers",
         "text": "Juventus",
         "type": "scatter",
         "x": [
          7.75
         ],
         "y": [
          0.11
         ]
        },
        {
         "hoverinfo": "text",
         "marker": {
          "opacity": 0
         },
         "mode": "markers",
         "text": "Frosinone",
         "type": "scatter",
         "x": [
          8
         ],
         "y": [
          0.1307142857
         ]
        },
        {
         "hoverinfo": "text",
         "marker": {
          "opacity": 0
         },
         "mode": "markers",
         "text": "Bologna",
         "type": "scatter",
         "x": [
          7.964285714
         ],
         "y": [
          0.1153571429
         ]
        },
        {
         "hoverinfo": "text",
         "marker": {
          "opacity": 0
         },
         "mode": "markers",
         "text": "Empoli",
         "type": "scatter",
         "x": [
          9.821428571
         ],
         "y": [
          0.1782142857
         ]
        },
        {
         "hoverinfo": "text",
         "marker": {
          "opacity": 0
         },
         "mode": "markers",
         "text": "Cagliari",
         "type": "scatter",
         "x": [
          9.535714286
         ],
         "y": [
          0.2642857143
         ]
        },
        {
         "hoverinfo": "text",
         "marker": {
          "opacity": 0
         },
         "mode": "markers",
         "text": "Napoli",
         "type": "scatter",
         "x": [
          7.857142857
         ],
         "y": [
          0.1614285714
         ]
        },
        {
         "hoverinfo": "text",
         "marker": {
          "opacity": 0
         },
         "mode": "markers",
         "text": "Roma",
         "type": "scatter",
         "x": [
          8.214285714
         ],
         "y": [
          0.1267857143
         ]
        },
        {
         "hoverinfo": "text",
         "marker": {
          "opacity": 0
         },
         "mode": "markers",
         "text": "Salernitana",
         "type": "scatter",
         "x": [
          9.964285714
         ],
         "y": [
          0.2321428571
         ]
        }
       ],
       "layout": {
        "annotations": [
         {
          "align": "left",
          "font": {
           "color": "green",
           "family": "Roboto, sans-serif",
           "size": 15
          },
          "showarrow": false,
          "text": "Low xG conceded from crosses<br>Fewer crosses conceded",
          "x": 0,
          "xref": "paper",
          "y": 0,
          "yref": "paper"
         },
         {
          "align": "left",
          "font": {
           "color": "orange",
           "family": "Roboto, sans-serif",
           "size": 15
          },
          "showarrow": false,
          "text": "High xG conceded from crosses<br>Fewer crosses conceded",
          "x": 0,
          "xref": "paper",
          "y": 1,
          "yref": "paper"
         },
         {
          "align": "right",
          "font": {
           "color": "red",
           "family": "Roboto, sans-serif",
           "size": 15
          },
          "showarrow": false,
          "text": "High xG conceded from crosses<br>Many crosses conceded",
          "x": 1,
          "xref": "paper",
          "y": 1,
          "yref": "paper"
         },
         {
          "align": "right",
          "font": {
           "color": "orange",
           "family": "Roboto, sans-serif",
           "size": 15
          },
          "showarrow": false,
          "text": "Low xG conceded from crosses<br>Many crosses conceded",
          "x": 1,
          "xref": "paper",
          "y": 0,
          "yref": "paper"
         }
        ],
        "font": {
         "color": "white",
         "family": "Roboto, sans-serif",
         "size": 25
        },
        "height": 625,
        "hoverlabel": {
         "bgcolor": "rgba(20, 20, 20, 0.8)",
         "font": {
          "family": "Roboto, sans-serif"
         }
        },
        "images": [
         {
          "layer": "above",
          "opacity": 0.35,
          "sizex": 0.4,
          "sizey": 0.4,
          "sizing": "contain",
          "source": "https://i.imgur.com/vhAWZQO.png",
          "x": 10.571428571,
          "xanchor": "center",
          "xref": "x",
          "y": 0.1875,
          "yanchor": "middle",
          "yref": "y"
         },
         {
          "layer": "above",
          "opacity": 1,
          "sizex": 0.7200000000000001,
          "sizey": 0.7200000000000001,
          "sizing": "contain",
          "source": "https://i.imgur.com/1Ze94pt.png",
          "x": 7.142857143,
          "xanchor": "center",
          "xref": "x",
          "y": 0.1528571429,
          "yanchor": "middle",
          "yref": "y"
         },
         {
          "layer": "above",
          "opacity": 0.35,
          "sizex": 0.4,
          "sizey": 0.4,
          "sizing": "contain",
          "source": "https://i.imgur.com/hOQC1jo.png",
          "x": 8.25,
          "xanchor": "center",
          "xref": "x",
          "y": 0.09821428571,
          "yanchor": "middle",
          "yref": "y"
         },
         {
          "layer": "above",
          "opacity": 0.35,
          "sizex": 0.4,
          "sizey": 0.4,
          "sizing": "contain",
          "source": "https://i.imgur.com/px5mT39.png",
          "x": 7.75,
          "xanchor": "center",
          "xref": "x",
          "y": 0.2089285714,
          "yanchor": "middle",
          "yref": "y"
         },
         {
          "layer": "above",
          "opacity": 0.35,
          "sizex": 0.4,
          "sizey": 0.4,
          "sizing": "contain",
          "source": "https://i.imgur.com/9A4flGu.png",
          "x": 9.107142857,
          "xanchor": "center",
          "xref": "x",
          "y": 0.1871428571,
          "yanchor": "middle",
          "yref": "y"
         },
         {
          "layer": "above",
          "opacity": 0.35,
          "sizex": 0.4,
          "sizey": 0.4,
          "sizing": "contain",
          "source": "https://i.imgur.com/KjtIy8U.png",
          "x": 7.392857143,
          "xanchor": "center",
          "xref": "x",
          "y": 0.1182142857,
          "yanchor": "middle",
          "yref": "y"
         },
         {
          "layer": "above",
          "opacity": 0.35,
          "sizex": 0.4,
          "sizey": 0.4,
          "sizing": "contain",
          "source": "https://i.imgur.com/JsJ06ke.png",
          "x": 7.071428571,
          "xanchor": "center",
          "xref": "x",
          "y": 0.08642857143,
          "yanchor": "middle",
          "yref": "y"
         },
         {
          "layer": "above",
          "opacity": 0.35,
          "sizex": 0.4,
          "sizey": 0.4,
          "sizing": "contain",
          "source": "https://i.imgur.com/SBsGYjm.png",
          "x": 7.535714286,
          "xanchor": "center",
          "xref": "x",
          "y": 0.1939285714,
          "yanchor": "middle",
          "yref": "y"
         },
         {
          "layer": "above",
          "opacity": 0.35,
          "sizex": 0.4,
          "sizey": 0.4,
          "sizing": "contain",
          "source": "https://i.imgur.com/XWmpYeu.png",
          "x": 7.964285714,
          "xanchor": "center",
          "xref": "x",
          "y": 0.1396428571,
          "yanchor": "middle",
          "yref": "y"
         },
         {
          "layer": "above",
          "opacity": 0.35,
          "sizex": 0.4,
          "sizey": 0.4,
          "sizing": "contain",
          "source": "https://i.imgur.com/7bHOIx9.png",
          "x": 7.571428571,
          "xanchor": "center",
          "xref": "x",
          "y": 0.1914285714,
          "yanchor": "middle",
          "yref": "y"
         },
         {
          "layer": "above",
          "opacity": 0.35,
          "sizex": 0.4,
          "sizey": 0.4,
          "sizing": "contain",
          "source": "https://i.imgur.com/SDA0nMH.png",
          "x": 8.678571429,
          "xanchor": "center",
          "xref": "x",
          "y": 0.1521428571,
          "yanchor": "middle",
          "yref": "y"
         },
         {
          "layer": "above",
          "opacity": 0.35,
          "sizex": 0.4,
          "sizey": 0.4,
          "sizing": "contain",
          "source": "https://i.imgur.com/Dp0KUmN.png",
          "x": 9.285714286,
          "xanchor": "center",
          "xref": "x",
          "y": 0.1467857143,
          "yanchor": "middle",
          "yref": "y"
         },
         {
          "layer": "above",
          "opacity": 0.35,
          "sizex": 0.4,
          "sizey": 0.4,
          "sizing": "contain",
          "source": "https://i.imgur.com/60XAIJI.png",
          "x": 7.75,
          "xanchor": "center",
          "xref": "x",
          "y": 0.11,
          "yanchor": "middle",
          "yref": "y"
         },
         {
          "layer": "above",
          "opacity": 0.35,
          "sizex": 0.4,
          "sizey": 0.4,
          "sizing": "contain",
          "source": "https://i.imgur.com/x8qGMuV.png",
          "x": 8,
          "xanchor": "center",
          "xref": "x",
          "y": 0.1307142857,
          "yanchor": "middle",
          "yref": "y"
         },
         {
          "layer": "above",
          "opacity": 0.35,
          "sizex": 0.4,
          "sizey": 0.4,
          "sizing": "contain",
          "source": "https://i.imgur.com/rVqtfOA.png",
          "x": 7.964285714,
          "xanchor": "center",
          "xref": "x",
          "y": 0.1153571429,
          "yanchor": "middle",
          "yref": "y"
         },
         {
          "layer": "above",
          "opacity": 0.35,
          "sizex": 0.4,
          "sizey": 0.4,
          "sizing": "contain",
          "source": "https://i.imgur.com/52xSYdX.png",
          "x": 9.821428571,
          "xanchor": "center",
          "xref": "x",
          "y": 0.1782142857,
          "yanchor": "middle",
          "yref": "y"
         },
         {
          "layer": "above",
          "opacity": 0.35,
          "sizex": 0.4,
          "sizey": 0.4,
          "sizing": "contain",
          "source": "https://i.imgur.com/rbAC6zo.png",
          "x": 9.535714286,
          "xanchor": "center",
          "xref": "x",
          "y": 0.2642857143,
          "yanchor": "middle",
          "yref": "y"
         },
         {
          "layer": "above",
          "opacity": 0.35,
          "sizex": 0.4,
          "sizey": 0.4,
          "sizing": "contain",
          "source": "https://i.imgur.com/Ql7LKBZ.png",
          "x": 7.857142857,
          "xanchor": "center",
          "xref": "x",
          "y": 0.1614285714,
          "yanchor": "middle",
          "yref": "y"
         },
         {
          "layer": "above",
          "opacity": 0.35,
          "sizex": 0.4,
          "sizey": 0.4,
          "sizing": "contain",
          "source": "https://i.imgur.com/nhMJAHW.png",
          "x": 8.214285714,
          "xanchor": "center",
          "xref": "x",
          "y": 0.1267857143,
          "yanchor": "middle",
          "yref": "y"
         },
         {
          "layer": "above",
          "opacity": 0.35,
          "sizex": 0.4,
          "sizey": 0.4,
          "sizing": "contain",
          "source": "https://i.imgur.com/sYubMBZ.png",
          "x": 9.964285714,
          "xanchor": "center",
          "xref": "x",
          "y": 0.2321428571,
          "yanchor": "middle",
          "yref": "y"
         }
        ],
        "margin": {
         "b": 10,
         "l": 10,
         "r": 30,
         "t": 50
        },
        "paper_bgcolor": "rgb(70, 70, 70)",
        "plot_bgcolor": "rgb(70, 70, 70)",
        "shapes": [
         {
          "layer": "below",
          "line": {
           "color": "White",
           "width": 3
          },
          "type": "line",
          "x0": 8.37142857135,
          "x1": 8.37142857135,
          "y0": 0.05,
          "y1": 0.32
         },
         {
          "layer": "below",
          "line": {
           "color": "White",
           "width": 3
          },
          "type": "line",
          "x0": 2,
          "x1": 14,
          "y0": 0.159107142847,
          "y1": 0.159107142847
         }
        ],
        "showlegend": false,
        "template": {
         "data": {
          "bar": [
           {
            "error_x": {
             "color": "#2a3f5f"
            },
            "error_y": {
             "color": "#2a3f5f"
            },
            "marker": {
             "line": {
              "color": "#E5ECF6",
              "width": 0.5
             },
             "pattern": {
              "fillmode": "overlay",
              "size": 10,
              "solidity": 0.2
             }
            },
            "type": "bar"
           }
          ],
          "barpolar": [
           {
            "marker": {
             "line": {
              "color": "#E5ECF6",
              "width": 0.5
             },
             "pattern": {
              "fillmode": "overlay",
              "size": 10,
              "solidity": 0.2
             }
            },
            "type": "barpolar"
           }
          ],
          "carpet": [
           {
            "aaxis": {
             "endlinecolor": "#2a3f5f",
             "gridcolor": "white",
             "linecolor": "white",
             "minorgridcolor": "white",
             "startlinecolor": "#2a3f5f"
            },
            "baxis": {
             "endlinecolor": "#2a3f5f",
             "gridcolor": "white",
             "linecolor": "white",
             "minorgridcolor": "white",
             "startlinecolor": "#2a3f5f"
            },
            "type": "carpet"
           }
          ],
          "choropleth": [
           {
            "colorbar": {
             "outlinewidth": 0,
             "ticks": ""
            },
            "type": "choropleth"
           }
          ],
          "contour": [
           {
            "colorbar": {
             "outlinewidth": 0,
             "ticks": ""
            },
            "colorscale": [
             [
              0,
              "#0d0887"
             ],
             [
              0.1111111111111111,
              "#46039f"
             ],
             [
              0.2222222222222222,
              "#7201a8"
             ],
             [
              0.3333333333333333,
              "#9c179e"
             ],
             [
              0.4444444444444444,
              "#bd3786"
             ],
             [
              0.5555555555555556,
              "#d8576b"
             ],
             [
              0.6666666666666666,
              "#ed7953"
             ],
             [
              0.7777777777777778,
              "#fb9f3a"
             ],
             [
              0.8888888888888888,
              "#fdca26"
             ],
             [
              1,
              "#f0f921"
             ]
            ],
            "type": "contour"
           }
          ],
          "contourcarpet": [
           {
            "colorbar": {
             "outlinewidth": 0,
             "ticks": ""
            },
            "type": "contourcarpet"
           }
          ],
          "heatmap": [
           {
            "colorbar": {
             "outlinewidth": 0,
             "ticks": ""
            },
            "colorscale": [
             [
              0,
              "#0d0887"
             ],
             [
              0.1111111111111111,
              "#46039f"
             ],
             [
              0.2222222222222222,
              "#7201a8"
             ],
             [
              0.3333333333333333,
              "#9c179e"
             ],
             [
              0.4444444444444444,
              "#bd3786"
             ],
             [
              0.5555555555555556,
              "#d8576b"
             ],
             [
              0.6666666666666666,
              "#ed7953"
             ],
             [
              0.7777777777777778,
              "#fb9f3a"
             ],
             [
              0.8888888888888888,
              "#fdca26"
             ],
             [
              1,
              "#f0f921"
             ]
            ],
            "type": "heatmap"
           }
          ],
          "heatmapgl": [
           {
            "colorbar": {
             "outlinewidth": 0,
             "ticks": ""
            },
            "colorscale": [
             [
              0,
              "#0d0887"
             ],
             [
              0.1111111111111111,
              "#46039f"
             ],
             [
              0.2222222222222222,
              "#7201a8"
             ],
             [
              0.3333333333333333,
              "#9c179e"
             ],
             [
              0.4444444444444444,
              "#bd3786"
             ],
             [
              0.5555555555555556,
              "#d8576b"
             ],
             [
              0.6666666666666666,
              "#ed7953"
             ],
             [
              0.7777777777777778,
              "#fb9f3a"
             ],
             [
              0.8888888888888888,
              "#fdca26"
             ],
             [
              1,
              "#f0f921"
             ]
            ],
            "type": "heatmapgl"
           }
          ],
          "histogram": [
           {
            "marker": {
             "pattern": {
              "fillmode": "overlay",
              "size": 10,
              "solidity": 0.2
             }
            },
            "type": "histogram"
           }
          ],
          "histogram2d": [
           {
            "colorbar": {
             "outlinewidth": 0,
             "ticks": ""
            },
            "colorscale": [
             [
              0,
              "#0d0887"
             ],
             [
              0.1111111111111111,
              "#46039f"
             ],
             [
              0.2222222222222222,
              "#7201a8"
             ],
             [
              0.3333333333333333,
              "#9c179e"
             ],
             [
              0.4444444444444444,
              "#bd3786"
             ],
             [
              0.5555555555555556,
              "#d8576b"
             ],
             [
              0.6666666666666666,
              "#ed7953"
             ],
             [
              0.7777777777777778,
              "#fb9f3a"
             ],
             [
              0.8888888888888888,
              "#fdca26"
             ],
             [
              1,
              "#f0f921"
             ]
            ],
            "type": "histogram2d"
           }
          ],
          "histogram2dcontour": [
           {
            "colorbar": {
             "outlinewidth": 0,
             "ticks": ""
            },
            "colorscale": [
             [
              0,
              "#0d0887"
             ],
             [
              0.1111111111111111,
              "#46039f"
             ],
             [
              0.2222222222222222,
              "#7201a8"
             ],
             [
              0.3333333333333333,
              "#9c179e"
             ],
             [
              0.4444444444444444,
              "#bd3786"
             ],
             [
              0.5555555555555556,
              "#d8576b"
             ],
             [
              0.6666666666666666,
              "#ed7953"
             ],
             [
              0.7777777777777778,
              "#fb9f3a"
             ],
             [
              0.8888888888888888,
              "#fdca26"
             ],
             [
              1,
              "#f0f921"
             ]
            ],
            "type": "histogram2dcontour"
           }
          ],
          "mesh3d": [
           {
            "colorbar": {
             "outlinewidth": 0,
             "ticks": ""
            },
            "type": "mesh3d"
           }
          ],
          "parcoords": [
           {
            "line": {
             "colorbar": {
              "outlinewidth": 0,
              "ticks": ""
             }
            },
            "type": "parcoords"
           }
          ],
          "pie": [
           {
            "automargin": true,
            "type": "pie"
           }
          ],
          "scatter": [
           {
            "fillpattern": {
             "fillmode": "overlay",
             "size": 10,
             "solidity": 0.2
            },
            "type": "scatter"
           }
          ],
          "scatter3d": [
           {
            "line": {
             "colorbar": {
              "outlinewidth": 0,
              "ticks": ""
             }
            },
            "marker": {
             "colorbar": {
              "outlinewidth": 0,
              "ticks": ""
             }
            },
            "type": "scatter3d"
           }
          ],
          "scattercarpet": [
           {
            "marker": {
             "colorbar": {
              "outlinewidth": 0,
              "ticks": ""
             }
            },
            "type": "scattercarpet"
           }
          ],
          "scattergeo": [
           {
            "marker": {
             "colorbar": {
              "outlinewidth": 0,
              "ticks": ""
             }
            },
            "type": "scattergeo"
           }
          ],
          "scattergl": [
           {
            "marker": {
             "colorbar": {
              "outlinewidth": 0,
              "ticks": ""
             }
            },
            "type": "scattergl"
           }
          ],
          "scattermapbox": [
           {
            "marker": {
             "colorbar": {
              "outlinewidth": 0,
              "ticks": ""
             }
            },
            "type": "scattermapbox"
           }
          ],
          "scatterpolar": [
           {
            "marker": {
             "colorbar": {
              "outlinewidth": 0,
              "ticks": ""
             }
            },
            "type": "scatterpolar"
           }
          ],
          "scatterpolargl": [
           {
            "marker": {
             "colorbar": {
              "outlinewidth": 0,
              "ticks": ""
             }
            },
            "type": "scatterpolargl"
           }
          ],
          "scatterternary": [
           {
            "marker": {
             "colorbar": {
              "outlinewidth": 0,
              "ticks": ""
             }
            },
            "type": "scatterternary"
           }
          ],
          "surface": [
           {
            "colorbar": {
             "outlinewidth": 0,
             "ticks": ""
            },
            "colorscale": [
             [
              0,
              "#0d0887"
             ],
             [
              0.1111111111111111,
              "#46039f"
             ],
             [
              0.2222222222222222,
              "#7201a8"
             ],
             [
              0.3333333333333333,
              "#9c179e"
             ],
             [
              0.4444444444444444,
              "#bd3786"
             ],
             [
              0.5555555555555556,
              "#d8576b"
             ],
             [
              0.6666666666666666,
              "#ed7953"
             ],
             [
              0.7777777777777778,
              "#fb9f3a"
             ],
             [
              0.8888888888888888,
              "#fdca26"
             ],
             [
              1,
              "#f0f921"
             ]
            ],
            "type": "surface"
           }
          ],
          "table": [
           {
            "cells": {
             "fill": {
              "color": "#EBF0F8"
             },
             "line": {
              "color": "white"
             }
            },
            "header": {
             "fill": {
              "color": "#C8D4E3"
             },
             "line": {
              "color": "white"
             }
            },
            "type": "table"
           }
          ]
         },
         "layout": {
          "annotationdefaults": {
           "arrowcolor": "#2a3f5f",
           "arrowhead": 0,
           "arrowwidth": 1
          },
          "autotypenumbers": "strict",
          "coloraxis": {
           "colorbar": {
            "outlinewidth": 0,
            "ticks": ""
           }
          },
          "colorscale": {
           "diverging": [
            [
             0,
             "#8e0152"
            ],
            [
             0.1,
             "#c51b7d"
            ],
            [
             0.2,
             "#de77ae"
            ],
            [
             0.3,
             "#f1b6da"
            ],
            [
             0.4,
             "#fde0ef"
            ],
            [
             0.5,
             "#f7f7f7"
            ],
            [
             0.6,
             "#e6f5d0"
            ],
            [
             0.7,
             "#b8e186"
            ],
            [
             0.8,
             "#7fbc41"
            ],
            [
             0.9,
             "#4d9221"
            ],
            [
             1,
             "#276419"
            ]
           ],
           "sequential": [
            [
             0,
             "#0d0887"
            ],
            [
             0.1111111111111111,
             "#46039f"
            ],
            [
             0.2222222222222222,
             "#7201a8"
            ],
            [
             0.3333333333333333,
             "#9c179e"
            ],
            [
             0.4444444444444444,
             "#bd3786"
            ],
            [
             0.5555555555555556,
             "#d8576b"
            ],
            [
             0.6666666666666666,
             "#ed7953"
            ],
            [
             0.7777777777777778,
             "#fb9f3a"
            ],
            [
             0.8888888888888888,
             "#fdca26"
            ],
            [
             1,
             "#f0f921"
            ]
           ],
           "sequentialminus": [
            [
             0,
             "#0d0887"
            ],
            [
             0.1111111111111111,
             "#46039f"
            ],
            [
             0.2222222222222222,
             "#7201a8"
            ],
            [
             0.3333333333333333,
             "#9c179e"
            ],
            [
             0.4444444444444444,
             "#bd3786"
            ],
            [
             0.5555555555555556,
             "#d8576b"
            ],
            [
             0.6666666666666666,
             "#ed7953"
            ],
            [
             0.7777777777777778,
             "#fb9f3a"
            ],
            [
             0.8888888888888888,
             "#fdca26"
            ],
            [
             1,
             "#f0f921"
            ]
           ]
          },
          "colorway": [
           "#636efa",
           "#EF553B",
           "#00cc96",
           "#ab63fa",
           "#FFA15A",
           "#19d3f3",
           "#FF6692",
           "#B6E880",
           "#FF97FF",
           "#FECB52"
          ],
          "font": {
           "color": "#2a3f5f"
          },
          "geo": {
           "bgcolor": "white",
           "lakecolor": "white",
           "landcolor": "#E5ECF6",
           "showlakes": true,
           "showland": true,
           "subunitcolor": "white"
          },
          "hoverlabel": {
           "align": "left"
          },
          "hovermode": "closest",
          "mapbox": {
           "style": "light"
          },
          "paper_bgcolor": "white",
          "plot_bgcolor": "#E5ECF6",
          "polar": {
           "angularaxis": {
            "gridcolor": "white",
            "linecolor": "white",
            "ticks": ""
           },
           "bgcolor": "#E5ECF6",
           "radialaxis": {
            "gridcolor": "white",
            "linecolor": "white",
            "ticks": ""
           }
          },
          "scene": {
           "xaxis": {
            "backgroundcolor": "#E5ECF6",
            "gridcolor": "white",
            "gridwidth": 2,
            "linecolor": "white",
            "showbackground": true,
            "ticks": "",
            "zerolinecolor": "white"
           },
           "yaxis": {
            "backgroundcolor": "#E5ECF6",
            "gridcolor": "white",
            "gridwidth": 2,
            "linecolor": "white",
            "showbackground": true,
            "ticks": "",
            "zerolinecolor": "white"
           },
           "zaxis": {
            "backgroundcolor": "#E5ECF6",
            "gridcolor": "white",
            "gridwidth": 2,
            "linecolor": "white",
            "showbackground": true,
            "ticks": "",
            "zerolinecolor": "white"
           }
          },
          "shapedefaults": {
           "line": {
            "color": "#2a3f5f"
           }
          },
          "ternary": {
           "aaxis": {
            "gridcolor": "white",
            "linecolor": "white",
            "ticks": ""
           },
           "baxis": {
            "gridcolor": "white",
            "linecolor": "white",
            "ticks": ""
           },
           "bgcolor": "#E5ECF6",
           "caxis": {
            "gridcolor": "white",
            "linecolor": "white",
            "ticks": ""
           }
          },
          "title": {
           "x": 0.05
          },
          "xaxis": {
           "automargin": true,
           "gridcolor": "white",
           "linecolor": "white",
           "ticks": "",
           "title": {
            "standoff": 15
           },
           "zerolinecolor": "white",
           "zerolinewidth": 2
          },
          "yaxis": {
           "automargin": true,
           "gridcolor": "white",
           "linecolor": "white",
           "ticks": "",
           "title": {
            "standoff": 15
           },
           "zerolinecolor": "white",
           "zerolinewidth": 2
          }
         }
        },
        "title": {
         "font": {
          "color": "white",
          "family": "Roboto, sans-serif",
          "size": 23
         },
         "text": "SET PIECE DEFENSIVE EFFICIENCY",
         "x": 0.5,
         "xanchor": "center",
         "y": 0.98,
         "yanchor": "top"
        },
        "width": 625,
        "xaxis": {
         "gridcolor": "rgba(0,0,0,0)",
         "linecolor": "white",
         "linewidth": 2,
         "range": [
          2,
          14
         ],
         "showline": true,
         "tickfont": {
          "color": "white",
          "size": 15
         },
         "title": {
          "font": {
           "size": 25
          },
          "text": "OPPOSITION CROSSES FROM SET PIECE PER GAME"
         }
        },
        "yaxis": {
         "gridcolor": "rgba(0,0,0,0)",
         "linecolor": "white",
         "linewidth": 2,
         "range": [
          0.05,
          0.32
         ],
         "showline": true,
         "tickfont": {
          "color": "white",
          "size": 15
         },
         "title": {
          "font": {
           "size": 25
          },
          "text": "OPPOSITION XG FROM SET PIECE CROSSES PER GAME"
         }
        }
       }
      }
     },
     "metadata": {},
     "output_type": "display_data"
    }
   ],
   "source": [
    "create_FM_team_scatter_chart(filt_set_piece_efficiency_chart, 'SET PIECE DEFENSIVE EFFICIENCY', \"AC Milan\", 'OPPOSITION CROSSES FROM SET PIECE PER GAME',\n",
    "                             'OPPOSITION XG FROM SET PIECE CROSSES PER GAME', 0.4, 2, 14, 0.05, 0.32, \n",
    "                                                        \"Low xG conceded from crosses<br>Fewer crosses conceded\", \n",
    "                                                        \"Low xG conceded from crosses<br>Many crosses conceded\",\n",
    "                                                        \"High xG conceded from crosses<br>Fewer crosses conceded\", \n",
    "                                                        \"High xG conceded from crosses<br>Many crosses conceded\", \n",
    "                                                        \"green\", \"orange\", \"orange\", \"red\")\n"
   ]
  },
  {
   "cell_type": "markdown",
   "metadata": {},
   "source": [
    "## Plots for the defensive actions per zone"
   ]
  },
  {
   "cell_type": "code",
   "execution_count": 100,
   "metadata": {},
   "outputs": [],
   "source": [
    "# Define the section boundaries\n",
    "section_boundaries = [0, 17.5, 35, 52.5, 70, 87.5, 105]\n",
    "\n",
    "# Split the \"START_X\" values into sections\n",
    "defensive_events['Def_Action_Section'] = pd.cut(defensive_events['START_X'], bins=section_boundaries)\n"
   ]
  },
  {
   "cell_type": "code",
   "execution_count": 101,
   "metadata": {},
   "outputs": [
    {
     "data": {
      "text/plain": [
       "MATCH_ID                0\n",
       "ORIGINAL_EVENT_ID       0\n",
       "PERIOD_ID               0\n",
       "TIME_SECONDS            0\n",
       "NEW_TIME_SECONDS        0\n",
       "TEAM_FBREF_ID           0\n",
       "PLAYER_WS_ID            0\n",
       "START_X                 0\n",
       "END_X                   0\n",
       "START_Y                 0\n",
       "END_Y                   0\n",
       "RESULT_ID               0\n",
       "ACTION_ID               0\n",
       "TYPE_NAME               0\n",
       "BODYPART_NAME           0\n",
       "COMPETITION             0\n",
       "SEASON                  0\n",
       "TEAM_NAME               0\n",
       "PLAYER_FBREF_NAME       0\n",
       "STARTING_POSITION_WS    0\n",
       "Def_Action_Section      1\n",
       "dtype: int64"
      ]
     },
     "execution_count": 101,
     "metadata": {},
     "output_type": "execute_result"
    }
   ],
   "source": [
    "defensive_events.isna().sum()"
   ]
  },
  {
   "cell_type": "code",
   "execution_count": 102,
   "metadata": {},
   "outputs": [
    {
     "name": "stderr",
     "output_type": "stream",
     "text": [
      "C:\\Users\\ksbha\\AppData\\Local\\Temp\\ipykernel_440392\\114425783.py:1: FutureWarning:\n",
      "\n",
      "The default of observed=False is deprecated and will be changed to True in a future version of pandas. Pass observed=False to retain current behavior or observed=True to adopt the future default and silence this warning.\n",
      "\n"
     ]
    }
   ],
   "source": [
    "section_counts = defensive_events.groupby(['COMPETITION', 'SEASON', 'TEAM_NAME', 'Def_Action_Section'])['Def_Action_Section'].count()\n",
    "section_counts_percentage = (section_counts / section_counts.groupby(['COMPETITION', 'SEASON', 'TEAM_NAME']).transform('sum')) * 100"
   ]
  },
  {
   "cell_type": "code",
   "execution_count": 103,
   "metadata": {},
   "outputs": [],
   "source": [
    "section_counts_percentage = pd.DataFrame(section_counts_percentage).rename({'Def_Action_Section':'COUNT'}, axis=1).reset_index()"
   ]
  },
  {
   "cell_type": "code",
   "execution_count": 104,
   "metadata": {},
   "outputs": [],
   "source": [
    "section_counts_percentage = section_counts_percentage.dropna(subset=['COUNT'])"
   ]
  },
  {
   "cell_type": "code",
   "execution_count": 105,
   "metadata": {},
   "outputs": [],
   "source": [
    "section_counts_percentage = section_counts_percentage.pivot(index=['COMPETITION', 'SEASON', \n",
    "                                                                   'TEAM_NAME'], columns='Def_Action_Section', values='COUNT')"
   ]
  },
  {
   "cell_type": "code",
   "execution_count": 106,
   "metadata": {},
   "outputs": [],
   "source": [
    "section_counts_percentage.columns = section_counts_percentage.columns.astype(str)\n",
    "section_counts_percentage.rename(columns={'(0.0, 17.5]': 'SECTION_1', '(17.5, 35.0]': 'SECTION_2', '(35.0, 52.5]': 'SECTION_3', \n",
    "                                          '(52.5, 70.0]': 'SECTION_4', '(70.0, 87.5]': 'SECTION_5', '(87.5, 105.0]': 'SECTION_6'}, \n",
    "                                 inplace=True)\n"
   ]
  },
  {
   "cell_type": "code",
   "execution_count": 107,
   "metadata": {},
   "outputs": [],
   "source": [
    "section_counts_percentage.dropna(inplace=True)"
   ]
  },
  {
   "cell_type": "code",
   "execution_count": 108,
   "metadata": {},
   "outputs": [],
   "source": [
    "section_counts_percentage.reset_index(inplace=True)"
   ]
  },
  {
   "cell_type": "code",
   "execution_count": 109,
   "metadata": {},
   "outputs": [],
   "source": [
    "section_counts_percentage = section_counts_percentage.merge(df_competitions, on=['COMPETITION','SEASON'])"
   ]
  },
  {
   "cell_type": "code",
   "execution_count": 110,
   "metadata": {},
   "outputs": [],
   "source": [
    "section_counts_percentage.drop(['COMPETITION'], axis=1, inplace=True)"
   ]
  },
  {
   "cell_type": "code",
   "execution_count": null,
   "metadata": {},
   "outputs": [],
   "source": [
    "create_table_query = \"\"\"\n",
    "CREATE TABLE IF NOT EXISTS TEAM_DEFENSIVE_ACTIONS (\n",
    "    SEASON INT,\n",
    "    COMPETITION_ACRONYM VARCHAR(255),\n",
    "    TEAM_NAME VARCHAR(255),\n",
    "    SECTION_1 FLOAT,\n",
    "    SECTION_2 FLOAT,\n",
    "    SECTION_3 FLOAT,\n",
    "    SECTION_4 FLOAT,\n",
    "    SECTION_5 FLOAT,\n",
    "    SECTION_6 FLOAT,\n",
    "    PRIMARY KEY (SEASON, COMPETITION_ACRONYM, TEAM_NAME)\n",
    ");\n",
    "\"\"\""
   ]
  },
  {
   "cell_type": "code",
   "execution_count": null,
   "metadata": {},
   "outputs": [],
   "source": [
    "cur.execute(create_table_query)"
   ]
  },
  {
   "cell_type": "code",
   "execution_count": null,
   "metadata": {},
   "outputs": [],
   "source": [
    "# section_counts_percentage.rename(columns={'Section_1': 'SECTION_1', 'Section_2': 'SECTION_2', 'Section_3': 'SECTION_3',\n",
    "#                                             'Section_4': 'SECTION_4', 'Section_5': 'SECTION_5', 'Section_6': 'SECTION_6'}, inplace=True)"
   ]
  },
  {
   "cell_type": "code",
   "execution_count": null,
   "metadata": {},
   "outputs": [],
   "source": [
    "upsert_to_snowflake(\"TEAM_DEFENSIVE_ACTIONS\", section_counts_percentage,\n",
    "                    ['SEASON', 'COMPETITION_ACRONYM', 'TEAM_NAME'])"
   ]
  },
  {
   "cell_type": "code",
   "execution_count": 111,
   "metadata": {},
   "outputs": [],
   "source": [
    "section_counts_percentage = fetch_data(cursor, 'SELECT * FROM  GEGENSTATS.RADAR_CHARTS.TEAM_DEFENSIVE_ACTIONS')"
   ]
  },
  {
   "cell_type": "code",
   "execution_count": 112,
   "metadata": {},
   "outputs": [
    {
     "data": {
      "text/plain": [
       "'Serie A'"
      ]
     },
     "execution_count": 112,
     "metadata": {},
     "output_type": "execute_result"
    }
   ],
   "source": [
    "league_selected"
   ]
  },
  {
   "cell_type": "code",
   "execution_count": 113,
   "metadata": {},
   "outputs": [],
   "source": [
    "section_counts_percentage_filt = section_counts_percentage[section_counts_percentage['SEASON'] == season_selected]\n",
    "section_counts_percentage_filt = section_counts_percentage_filt[section_counts_percentage_filt['COMPETITION_ACRONYM'] == league_selected]\n",
    "section_counts_percentage_filt = section_counts_percentage_filt[section_counts_percentage_filt['TEAM_NAME'] == 'AC Milan']"
   ]
  },
  {
   "cell_type": "code",
   "execution_count": 114,
   "metadata": {},
   "outputs": [
    {
     "data": {
      "text/plain": [
       "array([33.26822917, 19.98697917, 16.73177083, 17.05729167,  9.44010417,\n",
       "        3.515625  ])"
      ]
     },
     "execution_count": 114,
     "metadata": {},
     "output_type": "execute_result"
    }
   ],
   "source": [
    "(section_counts_percentage_filt[['SECTION_1', 'SECTION_2', 'SECTION_3', 'SECTION_4', 'SECTION_5', 'SECTION_6']].iloc[0].values)"
   ]
  },
  {
   "cell_type": "code",
   "execution_count": null,
   "metadata": {},
   "outputs": [],
   "source": []
  },
  {
   "cell_type": "code",
   "execution_count": 115,
   "metadata": {},
   "outputs": [],
   "source": [
    "def plot_defensive_actions(section_counts_percentage_filt):\n",
    "\n",
    "    sections = [\"(0.0, 17.5]\", \"(17.5, 35.0]\", \"(35.0, 52.5]\", \"(52.5, 70.0]\", \"(70.0, 87.5]\", \"(87.5, 105.0]\"]\n",
    "    percentages = (section_counts_percentage_filt[['SECTION_1', 'SECTION_2', 'SECTION_3', 'SECTION_4', 'SECTION_5', 'SECTION_6']].iloc[0].values)\n",
    "\n",
    "    max_val = math.ceil(max(percentages) / 5) * 5\n",
    "\n",
    "    def get_green_color(percentage):\n",
    "        green_intensity = int((percentage / max_val) * 255)\n",
    "        return f'#00{green_intensity:02x}00'\n",
    "\n",
    "    pitch = Pitch(pitch_color='#2B2B2B', line_color='white', goal_type='box', pitch_type='uefa', linewidth=1)\n",
    "    fig, ax = pitch.draw(figsize=(12, 8))\n",
    "\n",
    "    fig.patch.set_facecolor('#2B2B2B')\n",
    "\n",
    "    gap_width = 0.3\n",
    "\n",
    "    for i, percentage in enumerate(percentages):\n",
    "        start_pos = float(sections[i].split(', ')[0][1:])\n",
    "        end_pos = float(sections[i].split(', ')[1][:-1])\n",
    "\n",
    "        if i != 0:  # not the first bar\n",
    "            start_pos += gap_width\n",
    "\n",
    "        section_width = end_pos - start_pos\n",
    "        if i != len(percentages) - 1:  # not the last bar\n",
    "            section_width -= gap_width\n",
    "\n",
    "        color = get_green_color(percentage)\n",
    "\n",
    "        rect = patches.Rectangle((start_pos, 0), section_width, 68,\n",
    "                                 linewidth=1, edgecolor='black', facecolor=color, alpha=0.6, zorder=2)\n",
    "        ax.add_patch(rect)\n",
    "\n",
    "        ax.text(start_pos + section_width / 2, 8, str(percentage.__round__()) + '%', fontproperties='Roboto',\n",
    "                va='center', ha='center', color='white', fontsize=16, zorder=3)\n",
    "\n",
    "    scale_height = 3  # Reduced height of the scale rectangles by half\n",
    "    scale_y_position = -10  # Position of the scale rectangles (negative to be below the pitch)\n",
    "    scale_length = 105 / 2.5  # Half the pitch length for scale\n",
    "    scale_start = (105 - scale_length) / 2.25  # Centering the scale\n",
    "\n",
    "    for i in range(0, max_val + 1, 5):\n",
    "        start_pos = scale_start + (i / max_val) * scale_length\n",
    "        section_width = scale_length / (max_val / 5)\n",
    "\n",
    "        color = get_green_color(i)\n",
    "\n",
    "        rect = patches.Rectangle((start_pos, scale_y_position), section_width, scale_height,\n",
    "                                 linewidth=1, edgecolor='black', facecolor=color, alpha=0.6, zorder=2)\n",
    "        ax.add_patch(rect)\n",
    "\n",
    "        if i == 0 or i == ((max_val)):\n",
    "            ax.text(start_pos + (section_width / 2), scale_y_position - (0.5*scale_height),\n",
    "                    f'{i}%',\n",
    "                    color='white',\n",
    "                    fontsize=10,\n",
    "                    ha='center', va='top',\n",
    "                    zorder=3)\n",
    "\n",
    "    ax.set_ylim(bottom=-10)\n",
    "\n",
    "    plt.title('DEFENSIVE ACTIONS', color='gold', fontsize=20, fontname='Roboto', loc='left')\n",
    "\n",
    "    return fig\n",
    "\n"
   ]
  },
  {
   "cell_type": "code",
   "execution_count": 116,
   "metadata": {},
   "outputs": [
    {
     "data": {
      "image/png": "[encoded data removed]",
      "text/plain": [
       "<Figure size 1200x800 with 1 Axes>"
      ]
     },
     "execution_count": 116,
     "metadata": {},
     "output_type": "execute_result"
    },
    {
     "data": {
      "image/png": "[encoded data removed]",
      "text/plain": [
       "<Figure size 1200x800 with 1 Axes>"
      ]
     },
     "metadata": {},
     "output_type": "display_data"
    }
   ],
   "source": [
    "plot_defensive_actions(section_counts_percentage_filt)"
   ]
  },
  {
   "cell_type": "markdown",
   "metadata": {},
   "source": [
    "# Finally, set-piece data"
   ]
  },
  {
   "cell_type": "code",
   "execution_count": 117,
   "metadata": {},
   "outputs": [],
   "source": [
    "set_piece_box_deliveries = set_piece_cross_events.copy()"
   ]
  },
  {
   "cell_type": "code",
   "execution_count": 118,
   "metadata": {},
   "outputs": [],
   "source": [
    "set_piece_box_deliveries.reset_index(drop=True, inplace=True)"
   ]
  },
  {
   "cell_type": "code",
   "execution_count": 119,
   "metadata": {},
   "outputs": [],
   "source": [
    "## Only interested in crosses that end up in the box\n",
    "set_piece_box_deliveries = set_piece_box_deliveries[set_piece_box_deliveries['END_X'] >= 88.5]\n",
    "set_piece_box_deliveries = set_piece_box_deliveries[set_piece_box_deliveries['END_Y'] <= 54.16]\n",
    "set_piece_box_deliveries = set_piece_box_deliveries[set_piece_box_deliveries['END_Y'] >= 13.84]"
   ]
  },
  {
   "cell_type": "code",
   "execution_count": 120,
   "metadata": {},
   "outputs": [],
   "source": [
    "## Now, we want to cateogrize each cross as a \"near post\", \"central\", or \"far post\" cross\n",
    "\"\"\" \n",
    "If START_Y < 30.34, then:\n",
    "    - Near post is where END_Y is < 30.34\n",
    "    - Central is where END_Y is between 30.34 and 37.66\n",
    "    - Far post is where END_Y is > 37.66\n",
    "\n",
    "If START_Y > 37.66, then:\n",
    "    - Near post is where END_Y is > 37.66\n",
    "    - Central is where END_Y is between 30.34 and 37.66\n",
    "    - Far post is where END_Y is < 30.34\n",
    "\"\"\"\n",
    "\n",
    "def classify_cross(row):\n",
    "    if row['START_Y'] < 34.00:\n",
    "        if row['END_Y'] < 30.34:\n",
    "            return 'Near post'\n",
    "        elif row['END_Y'] > 37.66:\n",
    "            return 'Far post'\n",
    "        elif row['END_Y'] >= 30.34 and row['END_Y'] <= 37.66:\n",
    "            return 'Central'\n",
    "    elif row['START_Y'] >= 34.0:\n",
    "        if row['END_Y'] > 37.66:\n",
    "            return 'Near post'\n",
    "        elif row['END_Y'] < 30.34:\n",
    "            return 'Far post'\n",
    "        elif row['END_Y'] >= 30.34 and row['END_Y'] <= 37.66:\n",
    "            return 'Central'\n",
    "    else:\n",
    "        return 'Not Classified'"
   ]
  },
  {
   "cell_type": "code",
   "execution_count": 121,
   "metadata": {},
   "outputs": [],
   "source": [
    "set_piece_box_deliveries['Cross_end_location'] = \"NaN\"\n",
    "set_piece_box_deliveries['Cross_end_location'] = set_piece_box_deliveries.apply(classify_cross, axis=1)"
   ]
  },
  {
   "cell_type": "code",
   "execution_count": 122,
   "metadata": {},
   "outputs": [
    {
     "data": {
      "text/plain": [
       "Cross_end_location\n",
       "Central      25567\n",
       "Near post    17493\n",
       "Far post     12257\n",
       "Name: count, dtype: int64"
      ]
     },
     "execution_count": 122,
     "metadata": {},
     "output_type": "execute_result"
    }
   ],
   "source": [
    "set_piece_box_deliveries['Cross_end_location'].value_counts()"
   ]
  },
  {
   "cell_type": "code",
   "execution_count": 123,
   "metadata": {},
   "outputs": [],
   "source": [
    "filter_1st_contacts = set_piece_box_deliveries[['MATCH_ID', 'ACTION_ID']].copy()\n",
    "filter_1st_contacts['ACTION_ID'] += 1"
   ]
  },
  {
   "cell_type": "code",
   "execution_count": 124,
   "metadata": {},
   "outputs": [],
   "source": [
    "set_piece_cross_1st_contacts = df_events.merge(filter_1st_contacts, on=['MATCH_ID', 'ACTION_ID'],how='right')"
   ]
  },
  {
   "cell_type": "code",
   "execution_count": 125,
   "metadata": {},
   "outputs": [],
   "source": [
    "match_ids_to_remove = set_piece_cross_1st_contacts[set_piece_cross_1st_contacts['TEAM_FBREF_ID'].isna()]['MATCH_ID'].values \n",
    "action_ids_to_remove = set_piece_cross_1st_contacts[set_piece_cross_1st_contacts['TEAM_FBREF_ID'].isna()]['ACTION_ID'].values"
   ]
  },
  {
   "cell_type": "code",
   "execution_count": 126,
   "metadata": {},
   "outputs": [],
   "source": [
    "## Remove missing rows!\n",
    "for i in range(len(match_ids_to_remove)):\n",
    "    set_piece_cross_1st_contacts = set_piece_cross_1st_contacts[(set_piece_cross_1st_contacts['MATCH_ID'] != match_ids_to_remove[i]) |\n",
    "                            (set_piece_cross_1st_contacts['ACTION_ID'] != action_ids_to_remove[i])]\n",
    "    \n",
    "    set_piece_box_deliveries = set_piece_box_deliveries[(set_piece_box_deliveries['MATCH_ID'] != match_ids_to_remove[i]) |\n",
    "                            (set_piece_box_deliveries['ACTION_ID'] != action_ids_to_remove[i]-1)]"
   ]
  },
  {
   "cell_type": "code",
   "execution_count": 127,
   "metadata": {},
   "outputs": [],
   "source": [
    "set_piece_cross_1st_contacts = specify_oppo_team_id_to_events(set_piece_cross_1st_contacts, df_matches)"
   ]
  },
  {
   "cell_type": "code",
   "execution_count": 128,
   "metadata": {},
   "outputs": [],
   "source": [
    "set_piece_box_deliveries = specify_oppo_team_id_to_events(set_piece_box_deliveries, df_matches)"
   ]
  },
  {
   "cell_type": "code",
   "execution_count": 129,
   "metadata": {},
   "outputs": [],
   "source": [
    "set_piece_cross_1st_contacts = set_piece_cross_1st_contacts.merge(team_names[['TEAM_NAME', 'TEAM_FBREF_ID']], on=\"TEAM_FBREF_ID\")\n",
    "set_piece_cross_1st_contacts = set_piece_cross_1st_contacts.merge(team_names_2, on=\"OPPO_TEAM_ID\")"
   ]
  },
  {
   "cell_type": "code",
   "execution_count": 130,
   "metadata": {},
   "outputs": [],
   "source": [
    "set_piece_box_deliveries = set_piece_box_deliveries.merge(team_names[['TEAM_NAME', 'TEAM_FBREF_ID']], on=\"TEAM_FBREF_ID\")\n",
    "# set_piece_box_deliveries = set_piece_box_deliveries.merge(team_names_2, on=\"OPPO_TEAM_ID\")"
   ]
  },
  {
   "cell_type": "code",
   "execution_count": 131,
   "metadata": {},
   "outputs": [],
   "source": [
    "set_piece_cross_1st_contacts.sort_values(by=['MATCH_ID', 'ACTION_ID'], inplace=True)\n",
    "set_piece_cross_1st_contacts.reset_index(drop=True, inplace=True)"
   ]
  },
  {
   "cell_type": "code",
   "execution_count": 132,
   "metadata": {},
   "outputs": [],
   "source": [
    "set_piece_box_deliveries.sort_values(by=['MATCH_ID', 'ACTION_ID'], inplace=True)\n",
    "set_piece_box_deliveries.reset_index(drop=True, inplace=True)"
   ]
  },
  {
   "cell_type": "code",
   "execution_count": 133,
   "metadata": {},
   "outputs": [],
   "source": [
    "set_piece_cross_1st_contacts['Cross_end_location'] = set_piece_box_deliveries['Cross_end_location']"
   ]
  },
  {
   "cell_type": "code",
   "execution_count": 134,
   "metadata": {},
   "outputs": [],
   "source": [
    "set_piece_same_1st_contacts = set_piece_cross_1st_contacts[set_piece_box_deliveries['TEAM_FBREF_ID'] == set_piece_cross_1st_contacts['TEAM_FBREF_ID']]\n",
    "set_piece_other_1st_contacts = set_piece_cross_1st_contacts[set_piece_box_deliveries['TEAM_FBREF_ID'] != set_piece_cross_1st_contacts['TEAM_FBREF_ID']]"
   ]
  },
  {
   "cell_type": "code",
   "execution_count": 135,
   "metadata": {},
   "outputs": [],
   "source": [
    "def_team_lost_1st_contact = set_piece_same_1st_contacts.groupby(['COMPETITION', 'SEASON', 'OPPO_TEAM_NAME', \n",
    "                                                                 'Cross_end_location'])['Cross_end_location'].count()"
   ]
  },
  {
   "cell_type": "code",
   "execution_count": 136,
   "metadata": {},
   "outputs": [],
   "source": [
    "def_team_won_1st_contact = set_piece_other_1st_contacts.groupby(['COMPETITION', 'SEASON', 'TEAM_NAME', \n",
    "                                                                 'Cross_end_location'])['Cross_end_location'].count()"
   ]
  },
  {
   "cell_type": "code",
   "execution_count": 149,
   "metadata": {},
   "outputs": [
    {
     "data": {
      "text/plain": [
       "(876,)"
      ]
     },
     "execution_count": 149,
     "metadata": {},
     "output_type": "execute_result"
    }
   ],
   "source": [
    "def_team_won_1st_contact.shape"
   ]
  },
  {
   "cell_type": "code",
   "execution_count": 150,
   "metadata": {},
   "outputs": [
    {
     "data": {
      "text/plain": [
       "(876,)"
      ]
     },
     "execution_count": 150,
     "metadata": {},
     "output_type": "execute_result"
    }
   ],
   "source": [
    "def_team_lost_1st_contact.shape"
   ]
  },
  {
   "cell_type": "code",
   "execution_count": 137,
   "metadata": {},
   "outputs": [],
   "source": [
    "# def_team_lost_1st_contact = set_piece_same_1st_contacts[set_piece_same_1st_contacts['OPPO_TEAM_NAME'] == 'Arsenal']\n",
    "# def_team_won_1st_contact = set_piece_other_1st_contacts[set_piece_other_1st_contacts['TEAM_NAME'] == 'Arsenal']"
   ]
  },
  {
   "cell_type": "code",
   "execution_count": 138,
   "metadata": {},
   "outputs": [],
   "source": [
    "def_set_piece_final = (def_team_won_1st_contact/(def_team_lost_1st_contact+def_team_won_1st_contact))*100"
   ]
  },
  {
   "cell_type": "code",
   "execution_count": 139,
   "metadata": {},
   "outputs": [],
   "source": [
    "# def_set_piece_final = def_team_won_1st_contact.value_counts('Cross_end_location')/ \\\n",
    "# (def_team_won_1st_contact.value_counts('Cross_end_location')+def_team_lost_1st_contact.value_counts('Cross_end_location'))"
   ]
  },
  {
   "cell_type": "code",
   "execution_count": 140,
   "metadata": {},
   "outputs": [],
   "source": [
    "def_set_piece_final = pd.DataFrame(def_set_piece_final).rename({'Cross_end_location':'PERC_1ST_CONTACT'}, axis=1).reset_index()"
   ]
  },
  {
   "cell_type": "code",
   "execution_count": 141,
   "metadata": {},
   "outputs": [],
   "source": [
    "def_set_piece_final.rename(columns={'Cross_end_location':'CROSS_END_LOCATION'}, inplace=True)"
   ]
  },
  {
   "cell_type": "code",
   "execution_count": 142,
   "metadata": {},
   "outputs": [],
   "source": [
    "def_set_piece_final = def_set_piece_final.merge(df_competitions, on=['COMPETITION','SEASON'])"
   ]
  },
  {
   "cell_type": "code",
   "execution_count": 143,
   "metadata": {},
   "outputs": [],
   "source": [
    "def_set_piece_final.drop(['COMPETITION'], axis=1, inplace=True)"
   ]
  },
  {
   "cell_type": "code",
   "execution_count": null,
   "metadata": {},
   "outputs": [],
   "source": [
    "create_table_query = \"\"\"\n",
    "CREATE TABLE IF NOT EXISTS TEAM_DEF_SET_PIECE_FIRST_CONTACTS (\n",
    "    SEASON INT,\n",
    "    COMPETITION_ACRONYM VARCHAR(255),\n",
    "    TEAM_NAME VARCHAR(255),\n",
    "    PERC_1ST_CONTACT FLOAT,\n",
    "    CROSS_END_LOCATION VARCHAR(255),\n",
    "    PRIMARY KEY (SEASON, COMPETITION_ACRONYM, TEAM_NAME, CROSS_END_LOCATION)\n",
    ");\n",
    "\"\"\""
   ]
  },
  {
   "cell_type": "code",
   "execution_count": null,
   "metadata": {},
   "outputs": [],
   "source": [
    "cur.execute(create_table_query)"
   ]
  },
  {
   "cell_type": "code",
   "execution_count": null,
   "metadata": {},
   "outputs": [],
   "source": []
  },
  {
   "cell_type": "code",
   "execution_count": null,
   "metadata": {},
   "outputs": [],
   "source": [
    "upsert_to_snowflake(\"TEAM_DEF_SET_PIECE_FIRST_CONTACTS\", def_set_piece_final, ['SEASON', 'COMPETITION_ACRONYM', 'TEAM_NAME',\n",
    "                                                                            'CROSS_END_LOCATION'])"
   ]
  },
  {
   "cell_type": "code",
   "execution_count": 144,
   "metadata": {},
   "outputs": [],
   "source": [
    "def_set_piece_final = fetch_data(cursor, 'SELECT * FROM  GEGENSTATS.RADAR_CHARTS.TEAM_DEF_SET_PIECE_FIRST_CONTACTS')"
   ]
  },
  {
   "cell_type": "code",
   "execution_count": 145,
   "metadata": {},
   "outputs": [
    {
     "data": {
      "text/html": [
       "<div>\n",
       "<style scoped>\n",
       "    .dataframe tbody tr th:only-of-type {\n",
       "        vertical-align: middle;\n",
       "    }\n",
       "\n",
       "    .dataframe tbody tr th {\n",
       "        vertical-align: top;\n",
       "    }\n",
       "\n",
       "    .dataframe thead th {\n",
       "        text-align: right;\n",
       "    }\n",
       "</style>\n",
       "<table border=\"1\" class=\"dataframe\">\n",
       "  <thead>\n",
       "    <tr style=\"text-align: right;\">\n",
       "      <th></th>\n",
       "      <th>SEASON</th>\n",
       "      <th>COMPETITION_ACRONYM</th>\n",
       "      <th>TEAM_NAME</th>\n",
       "      <th>PERC_1ST_CONTACT</th>\n",
       "      <th>CROSS_END_LOCATION</th>\n",
       "    </tr>\n",
       "  </thead>\n",
       "  <tbody>\n",
       "    <tr>\n",
       "      <th>0</th>\n",
       "      <td>2122</td>\n",
       "      <td>EPL</td>\n",
       "      <td>Arsenal</td>\n",
       "      <td>80.000000</td>\n",
       "      <td>Central</td>\n",
       "    </tr>\n",
       "    <tr>\n",
       "      <th>1</th>\n",
       "      <td>2122</td>\n",
       "      <td>EPL</td>\n",
       "      <td>Arsenal</td>\n",
       "      <td>53.846154</td>\n",
       "      <td>Far post</td>\n",
       "    </tr>\n",
       "    <tr>\n",
       "      <th>2</th>\n",
       "      <td>2122</td>\n",
       "      <td>EPL</td>\n",
       "      <td>Arsenal</td>\n",
       "      <td>67.796610</td>\n",
       "      <td>Near post</td>\n",
       "    </tr>\n",
       "    <tr>\n",
       "      <th>3</th>\n",
       "      <td>2122</td>\n",
       "      <td>EPL</td>\n",
       "      <td>Aston Villa</td>\n",
       "      <td>73.504274</td>\n",
       "      <td>Central</td>\n",
       "    </tr>\n",
       "    <tr>\n",
       "      <th>4</th>\n",
       "      <td>2122</td>\n",
       "      <td>EPL</td>\n",
       "      <td>Aston Villa</td>\n",
       "      <td>40.000000</td>\n",
       "      <td>Far post</td>\n",
       "    </tr>\n",
       "    <tr>\n",
       "      <th>...</th>\n",
       "      <td>...</td>\n",
       "      <td>...</td>\n",
       "      <td>...</td>\n",
       "      <td>...</td>\n",
       "      <td>...</td>\n",
       "    </tr>\n",
       "    <tr>\n",
       "      <th>871</th>\n",
       "      <td>2324</td>\n",
       "      <td>Serie A</td>\n",
       "      <td>Torino</td>\n",
       "      <td>57.142857</td>\n",
       "      <td>Far post</td>\n",
       "    </tr>\n",
       "    <tr>\n",
       "      <th>872</th>\n",
       "      <td>2324</td>\n",
       "      <td>Serie A</td>\n",
       "      <td>Torino</td>\n",
       "      <td>73.809524</td>\n",
       "      <td>Near post</td>\n",
       "    </tr>\n",
       "    <tr>\n",
       "      <th>873</th>\n",
       "      <td>2324</td>\n",
       "      <td>Serie A</td>\n",
       "      <td>Udinese</td>\n",
       "      <td>70.270270</td>\n",
       "      <td>Central</td>\n",
       "    </tr>\n",
       "    <tr>\n",
       "      <th>874</th>\n",
       "      <td>2324</td>\n",
       "      <td>Serie A</td>\n",
       "      <td>Udinese</td>\n",
       "      <td>63.888889</td>\n",
       "      <td>Far post</td>\n",
       "    </tr>\n",
       "    <tr>\n",
       "      <th>875</th>\n",
       "      <td>2324</td>\n",
       "      <td>Serie A</td>\n",
       "      <td>Udinese</td>\n",
       "      <td>73.239437</td>\n",
       "      <td>Near post</td>\n",
       "    </tr>\n",
       "  </tbody>\n",
       "</table>\n",
       "<p>876 rows × 5 columns</p>\n",
       "</div>"
      ],
      "text/plain": [
       "     SEASON COMPETITION_ACRONYM    TEAM_NAME  PERC_1ST_CONTACT  \\\n",
       "0      2122                 EPL      Arsenal         80.000000   \n",
       "1      2122                 EPL      Arsenal         53.846154   \n",
       "2      2122                 EPL      Arsenal         67.796610   \n",
       "3      2122                 EPL  Aston Villa         73.504274   \n",
       "4      2122                 EPL  Aston Villa         40.000000   \n",
       "..      ...                 ...          ...               ...   \n",
       "871    2324             Serie A       Torino         57.142857   \n",
       "872    2324             Serie A       Torino         73.809524   \n",
       "873    2324             Serie A      Udinese         70.270270   \n",
       "874    2324             Serie A      Udinese         63.888889   \n",
       "875    2324             Serie A      Udinese         73.239437   \n",
       "\n",
       "    CROSS_END_LOCATION  \n",
       "0              Central  \n",
       "1             Far post  \n",
       "2            Near post  \n",
       "3              Central  \n",
       "4             Far post  \n",
       "..                 ...  \n",
       "871           Far post  \n",
       "872          Near post  \n",
       "873            Central  \n",
       "874           Far post  \n",
       "875          Near post  \n",
       "\n",
       "[876 rows x 5 columns]"
      ]
     },
     "execution_count": 145,
     "metadata": {},
     "output_type": "execute_result"
    }
   ],
   "source": [
    "def_set_piece_final"
   ]
  },
  {
   "cell_type": "code",
   "execution_count": null,
   "metadata": {},
   "outputs": [],
   "source": [
    "def_set_piece_final_filt = def_set_piece_final[def_set_piece_final['SEASON'] == season_selected]\n",
    "def_set_piece_final_filt = def_set_piece_final_filt[def_set_piece_final_filt['COMPETITION_ACRONYM'] == league_selected]\n",
    "def_set_piece_final_filt = def_set_piece_final_filt[def_set_piece_final_filt['TEAM_NAME'] == 'AC Milan']"
   ]
  },
  {
   "cell_type": "code",
   "execution_count": null,
   "metadata": {},
   "outputs": [],
   "source": [
    "def_set_piece_chart = def_set_piece_final_filt[['CROSS_END_LOCATION', 'PERC_1ST_CONTACT']].set_index('CROSS_END_LOCATION')"
   ]
  },
  {
   "cell_type": "code",
   "execution_count": null,
   "metadata": {},
   "outputs": [],
   "source": [
    "def_set_piece_chart.loc['Near post'].values[0]"
   ]
  },
  {
   "cell_type": "code",
   "execution_count": null,
   "metadata": {},
   "outputs": [],
   "source": [
    "set_piece_same_1st_contacts.groupby(['COMPETITION', 'SEASON', 'OPPO_TEAM_NAME', \n",
    "                                                                 'Cross_end_location'])['Cross_end_location'].count()"
   ]
  },
  {
   "cell_type": "code",
   "execution_count": null,
   "metadata": {},
   "outputs": [],
   "source": []
  },
  {
   "cell_type": "code",
   "execution_count": null,
   "metadata": {},
   "outputs": [],
   "source": [
    "def_set_piece_final.sort_values(by=['PERC_1ST_CONTACT'], ascending=False).head(40)"
   ]
  },
  {
   "cell_type": "code",
   "execution_count": null,
   "metadata": {},
   "outputs": [],
   "source": []
  },
  {
   "cell_type": "code",
   "execution_count": null,
   "metadata": {},
   "outputs": [],
   "source": []
  },
  {
   "cell_type": "code",
   "execution_count": null,
   "metadata": {},
   "outputs": [],
   "source": [
    "def create_set_piece_first_contacts_plot(def_set_piece_chart):\n",
    "    pitch = VerticalPitch(pitch_color='#2B2B2B', line_color='white', goal_type='box', pitch_type='uefa', linewidth=1, half=True)\n",
    "    fig, ax = pitch.draw(figsize=(8, 12))\n",
    "\n",
    "    # Define the coordinates for the rectangles\n",
    "    rect_coords = [\n",
    "        [(13.84, 105), (13.84, 88.5), (30.09, 88.5), (30.09, 105)],  # Rect1\n",
    "        [(30.59, 105), (30.59, 88.5), (37.41, 88.5), (37.41, 105)],  # Rect2\n",
    "        [(37.91, 105), (37.91, 88.5), (54.16, 88.5), (54.16, 105)]  # Rect3\n",
    "    ]\n",
    "\n",
    "    # Example percentages for each rectangle (use your actual values here)\n",
    "    percentages = [def_set_piece_chart.loc['Near post'].values[0], def_set_piece_chart.loc['Central'].values[0], \n",
    "                   def_set_piece_chart.loc['Far post'].values[0]]\n",
    "\n",
    "    # Function to calculate green color based on percentage\n",
    "    def get_green_color(percentage, max_percentage=100):  # Assuming 100 is the max percentage\n",
    "        green_intensity = int((percentage / max_percentage) * 255)\n",
    "        return f'#00{green_intensity:02x}00'\n",
    "\n",
    "    # Create the rectangular patches\n",
    "    for i, coords in enumerate(rect_coords):\n",
    "        polygon = patches.Polygon(coords, closed=True, color=\"#00b200\", zorder=2,  alpha=0.75)\n",
    "        ax.add_patch(polygon)\n",
    "\n",
    "        # Add text label in the center of each rectangle\n",
    "        rect_center_x = (coords[0][0] + coords[2][0]) / 2 \n",
    "        rect_center_y = (coords[0][1] + coords[2][1]) / 2\n",
    "        ax.text(rect_center_x, rect_center_y, f'{int(percentages[i])}%',fontproperties='Roboto',\n",
    "                va='center', ha='center', color='white', fontsize=18, zorder=3)\n",
    "\n",
    "    # Set figure and axis background color\n",
    "    fig.patch.set_facecolor('#2B2B2B')\n",
    "    ax.patch.set_facecolor('#2B2B2B')\n",
    "\n",
    "    arrow_start = (0, 107)  # Adjust these values as needed for your plot\n",
    "    arrow_end = (18.84, 107)    # Adjust these values as needed for your plot\n",
    "\n",
    "    # Draw the arrow\n",
    "    ax.add_patch(patches.FancyArrow(\n",
    "        arrow_start[0], arrow_start[1],  # x, y start point\n",
    "        arrow_end[0] - arrow_start[0], arrow_end[1] - arrow_start[1],  # dx, dy length\n",
    "        width=0.3,  # Width of the full arrow tail\n",
    "        length_includes_head=False,  # The head is included in the calculation of the arrow's length\n",
    "        head_width=1,  # Width of the arrow head\n",
    "        head_length=1.5,  # Length of the arrow head\n",
    "        color='lightgrey'  # Light grey color\n",
    "    ))\n",
    "\n",
    "    plt.title('SET PIECE FIRST CONTACTS - OWN BOX', color='gold', fontsize=20, fontname='Roboto', loc='left')\n",
    "\n",
    "    return fig\n",
    "\n",
    "\n",
    "# pitch = VerticalPitch(pitch_color='#2B2B2B', line_color='white', goal_type='box', pitch_type='uefa', linewidth=1, half=True)\n",
    "# fig, ax = pitch.draw(figsize=(8, 12))\n",
    "\n",
    "# # Define the coordinates for the rectangles\n",
    "# rect_coords = [\n",
    "#     [(13.84, 105), (13.84, 88.5), (30.09, 88.5), (30.09, 105)],  # Rect1\n",
    "#     [(30.59, 105), (30.59, 88.5), (37.41, 88.5), (37.41, 105)],  # Rect2\n",
    "#     [(37.91, 105), (37.91, 88.5), (54.16, 88.5), (54.16, 105)]  # Rect3\n",
    "# ]\n",
    "\n",
    "# # Example percentages for each rectangle (use your actual values here)\n",
    "# percentages = [def_set_piece_chart.loc['Near post'].values[0], def_set_piece_chart.loc['Central'].values[0], \n",
    "#                def_set_piece_chart.loc['Far post'].values[0]]\n",
    "\n",
    "# # Function to calculate green color based on percentage\n",
    "# def get_green_color(percentage, max_percentage=100):  # Assuming 100 is the max percentage\n",
    "#     green_intensity = int((percentage / max_percentage) * 255)\n",
    "#     print(f'#00{green_intensity:02x}00')\n",
    "#     return f'#00{green_intensity:02x}00'\n",
    "\n",
    "# # Create the rectangular patches\n",
    "# for i, coords in enumerate(rect_coords):\n",
    "#     polygon = patches.Polygon(coords, closed=True, color=\"#00b200\", zorder=2,  alpha=0.75)\n",
    "#     ax.add_patch(polygon)\n",
    "    \n",
    "#     # Add text label in the center of each rectangle\n",
    "#     rect_center_x = (coords[0][0] + coords[2][0]) / 2 \n",
    "#     rect_center_y = (coords[0][1] + coords[2][1]) / 2\n",
    "#     ax.text(rect_center_x, rect_center_y, f'{int(percentages[i])}%',fontproperties='Roboto',\n",
    "#             va='center', ha='center', color='white', fontsize=18, zorder=3)\n",
    "\n",
    "# # Set figure and axis background color\n",
    "# fig.patch.set_facecolor('#2B2B2B')\n",
    "# ax.patch.set_facecolor('#2B2B2B')\n",
    "\n",
    "# arrow_start = (0, 107)  # Adjust these values as needed for your plot\n",
    "# arrow_end = (18.84, 107)    # Adjust these values as needed for your plot\n",
    "\n",
    "# # Draw the arrow\n",
    "# ax.add_patch(patches.FancyArrow(\n",
    "#     arrow_start[0], arrow_start[1],  # x, y start point\n",
    "#     arrow_end[0] - arrow_start[0], arrow_end[1] - arrow_start[1],  # dx, dy length\n",
    "#     width=0.3,  # Width of the full arrow tail\n",
    "#     length_includes_head=False,  # The head is included in the calculation of the arrow's length\n",
    "#     head_width=1,  # Width of the arrow head\n",
    "#     head_length=1.5,  # Length of the arrow head\n",
    "#     color='lightgrey'  # Light grey color\n",
    "# ))\n",
    "\n",
    "# plt.title('SET PIECE FIRST CONTACTS - OWN BOX', color='gold', fontsize=20, fontname='Roboto', loc='left')\n",
    "\n",
    "# plt.show()"
   ]
  },
  {
   "cell_type": "code",
   "execution_count": null,
   "metadata": {},
   "outputs": [],
   "source": []
  },
  {
   "cell_type": "code",
   "execution_count": null,
   "metadata": {},
   "outputs": [],
   "source": [
    "create_set_piece_first_contacts_plot(def_set_piece_chart)"
   ]
  },
  {
   "cell_type": "markdown",
   "metadata": {},
   "source": [
    "\"Creating\" charts"
   ]
  },
  {
   "cell_type": "code",
   "execution_count": null,
   "metadata": {},
   "outputs": [],
   "source": [
    "df_shots_set_piece = df_shots_set_piece.merge(team_names[['TEAM_NAME', 'TEAM_FBREF_ID']], on=\"TEAM_FBREF_ID\")"
   ]
  },
  {
   "cell_type": "code",
   "execution_count": null,
   "metadata": {},
   "outputs": [],
   "source": [
    "shots_xg_from_set_pieces_grouped = df_shots_set_piece[['TEAM_NAME','COMPETITION','SEASON', \n",
    "                                                    'XG']].groupby(['TEAM_NAME','COMPETITION','SEASON']).sum()"
   ]
  },
  {
   "cell_type": "code",
   "execution_count": null,
   "metadata": {},
   "outputs": [],
   "source": [
    "shots_xg_from_set_pieces_grouped = team_name_matches_played.merge(shots_xg_from_set_pieces_grouped.reset_index(),\n",
    "                                                                  on=['TEAM_NAME','COMPETITION','SEASON'])"
   ]
  },
  {
   "cell_type": "code",
   "execution_count": null,
   "metadata": {},
   "outputs": [],
   "source": [
    "shots_xg_from_set_pieces_grouped['XG FROM SET PIECE CROSSES PER GAME'] = shots_xg_from_set_pieces_grouped['XG'] / \\\n",
    "                                                                        shots_xg_from_set_pieces_grouped['MATCHES_PLAYED']"
   ]
  },
  {
   "cell_type": "code",
   "execution_count": null,
   "metadata": {},
   "outputs": [],
   "source": [
    "set_piece_cross_events = set_piece_cross_events.merge(team_names[['TEAM_NAME', 'TEAM_FBREF_ID']], on=\"TEAM_FBREF_ID\")"
   ]
  },
  {
   "cell_type": "code",
   "execution_count": null,
   "metadata": {},
   "outputs": [],
   "source": [
    "own_set_piece_cross_events_grouped = set_piece_cross_events[['TEAM_NAME','COMPETITION','SEASON','MATCH_ID']].groupby([\n",
    "    'TEAM_NAME','COMPETITION','SEASON']).count()"
   ]
  },
  {
   "cell_type": "code",
   "execution_count": null,
   "metadata": {},
   "outputs": [],
   "source": [
    "own_set_piece_cross_events_grouped.rename({'MATCH_ID':'CROSSES FROM SET PIECES'}, axis=1, inplace=True)"
   ]
  },
  {
   "cell_type": "code",
   "execution_count": null,
   "metadata": {},
   "outputs": [],
   "source": [
    "own_set_piece_cross_events_grouped = team_name_matches_played.merge(own_set_piece_cross_events_grouped.reset_index(),\n",
    "                                                                    on=['TEAM_NAME','COMPETITION','SEASON'])"
   ]
  },
  {
   "cell_type": "code",
   "execution_count": null,
   "metadata": {},
   "outputs": [],
   "source": [
    "own_set_piece_cross_events_grouped['CROSSES FROM SET PIECES PER GAME'] = own_set_piece_cross_events_grouped['CROSSES FROM SET PIECES'] / \\\n",
    "                                                                        own_set_piece_cross_events_grouped['MATCHES_PLAYED']"
   ]
  },
  {
   "cell_type": "code",
   "execution_count": null,
   "metadata": {},
   "outputs": [],
   "source": [
    "own_set_piece_cross_events_grouped.head()"
   ]
  },
  {
   "cell_type": "code",
   "execution_count": null,
   "metadata": {},
   "outputs": [],
   "source": [
    "shots_xg_from_set_pieces_grouped.head()"
   ]
  },
  {
   "cell_type": "code",
   "execution_count": null,
   "metadata": {},
   "outputs": [],
   "source": [
    "own_set_piece_efficiency_chart = own_set_piece_cross_events_grouped.drop('MATCHES_PLAYED', \n",
    "                                                                axis=1).merge(shots_xg_from_set_pieces_grouped.drop('MATCHES_PLAYED', \n",
    "                                                                        axis=1), on=['TEAM_NAME','COMPETITION','SEASON'] )"
   ]
  },
  {
   "cell_type": "code",
   "execution_count": null,
   "metadata": {},
   "outputs": [],
   "source": [
    "own_set_piece_efficiency_chart = own_set_piece_efficiency_chart.merge(team_names[['TEAM_NAME', 'TEAM_LOGO_URL']], on='TEAM_NAME')"
   ]
  },
  {
   "cell_type": "code",
   "execution_count": null,
   "metadata": {},
   "outputs": [],
   "source": [
    "own_set_piece_efficiency_chart = own_set_piece_efficiency_chart.merge(df_competitions, on=['COMPETITION','SEASON'])"
   ]
  },
  {
   "cell_type": "code",
   "execution_count": null,
   "metadata": {},
   "outputs": [],
   "source": [
    "own_set_piece_efficiency_chart.drop(['COMPETITION'], axis=1, inplace=True)"
   ]
  },
  {
   "cell_type": "code",
   "execution_count": null,
   "metadata": {},
   "outputs": [],
   "source": [
    "own_set_piece_efficiency_chart = own_set_piece_efficiency_chart.drop(['CROSSES FROM SET PIECES', 'XG'], axis=1)"
   ]
  },
  {
   "cell_type": "code",
   "execution_count": null,
   "metadata": {},
   "outputs": [],
   "source": [
    "own_set_piece_efficiency_chart.columns = own_set_piece_efficiency_chart.columns.str.replace(\" \", \"_\")"
   ]
  },
  {
   "cell_type": "code",
   "execution_count": null,
   "metadata": {},
   "outputs": [],
   "source": [
    "own_set_piece_efficiency_chart.head()"
   ]
  },
  {
   "cell_type": "code",
   "execution_count": null,
   "metadata": {},
   "outputs": [],
   "source": [
    "create_table_query = \"\"\"\n",
    "CREATE TABLE IF NOT EXISTS OWN_SET_PIECE_EFFICIENCY_CHART (\n",
    "    SEASON INT,\n",
    "    COMPETITION_ACRONYM VARCHAR(255),\n",
    "    TEAM_NAME VARCHAR(255),\n",
    "    TEAM_LOGO_URL VARCHAR(255),\n",
    "    XG_FROM_SET_PIECE_CROSSES_PER_GAME FLOAT,\n",
    "    CROSSES_FROM_SET_PIECES_PER_GAME FLOAT,\n",
    "    PRIMARY KEY (SEASON, COMPETITION_ACRONYM, TEAM_NAME)\n",
    ");\n",
    "\"\"\""
   ]
  },
  {
   "cell_type": "code",
   "execution_count": null,
   "metadata": {},
   "outputs": [],
   "source": [
    "cur.execute(create_table_query)"
   ]
  },
  {
   "cell_type": "code",
   "execution_count": null,
   "metadata": {},
   "outputs": [],
   "source": [
    "upsert_to_snowflake(\"OWN_SET_PIECE_EFFICIENCY_CHART\", own_set_piece_efficiency_chart,\n",
    "                    ['SEASON', 'COMPETITION_ACRONYM', 'TEAM_NAME'])"
   ]
  },
  {
   "cell_type": "code",
   "execution_count": null,
   "metadata": {},
   "outputs": [],
   "source": [
    "own_set_piece_efficiency_chart = fetch_data(cursor, 'SELECT * FROM GEGENSTATS.RADAR_CHARTS.OWN_SET_PIECE_EFFICIENCY_CHART')"
   ]
  },
  {
   "cell_type": "code",
   "execution_count": null,
   "metadata": {},
   "outputs": [],
   "source": [
    "own_set_piece_efficiency_chart.rename(columns={'XG_FROM_SET_PIECE_CROSSES_PER_GAME':'XG FROM SET PIECES CROSSES PER GAME',\n",
    "                                            'CROSSES_FROM_SET_PIECES_PER_GAME':'CROSSES FROM SET PIECES PER GAME'}, inplace=True)"
   ]
  },
  {
   "cell_type": "code",
   "execution_count": null,
   "metadata": {},
   "outputs": [],
   "source": [
    "filt_own_set_piece_efficiency_chart = own_set_piece_efficiency_chart[own_set_piece_efficiency_chart['SEASON'] == season_selected]\n",
    "filt_own_set_piece_efficiency_chart = filt_own_set_piece_efficiency_chart[filt_own_set_piece_efficiency_chart['COMPETITION_ACRONYM'] == league_selected]"
   ]
  },
  {
   "cell_type": "code",
   "execution_count": null,
   "metadata": {},
   "outputs": [],
   "source": [
    "own_set_piece_efficiency_chart.head()"
   ]
  },
  {
   "cell_type": "code",
   "execution_count": null,
   "metadata": {},
   "outputs": [],
   "source": []
  },
  {
   "cell_type": "code",
   "execution_count": null,
   "metadata": {},
   "outputs": [],
   "source": [
    "create_FM_team_scatter_chart(filt_own_set_piece_efficiency_chart, 'SET PIECE ATTACKING EFFICIENCY', \"AC Milan\", \n",
    "                             'CROSSES FROM SET PIECES PER GAME', 'XG FROM SET PIECES CROSSES PER GAME', 0.46, 3, 15, 0.05, 0.34, \n",
    "                                                        \"Low xG per game<br>Fewer crosses per game\", \n",
    "                                                        \"Low xG conceded from crosses<br>Many crosses conceded\",\n",
    "                                                        \"High xG per game<br>Fewer crosses per game\", \n",
    "                                                        \"Low xG per game<br>Many crosses conceded\",\n",
    "                                                        \"red\", \"orange\", \"orange\", \"green\")\n"
   ]
  },
  {
   "cell_type": "code",
   "execution_count": null,
   "metadata": {},
   "outputs": [],
   "source": []
  },
  {
   "cell_type": "code",
   "execution_count": null,
   "metadata": {},
   "outputs": [],
   "source": []
  },
  {
   "cell_type": "code",
   "execution_count": null,
   "metadata": {},
   "outputs": [],
   "source": [
    "team_attacking.head()"
   ]
  },
  {
   "cell_type": "code",
   "execution_count": null,
   "metadata": {},
   "outputs": [],
   "source": [
    "attacking_efficiency = team_attacking[['TEAM_FBREF_ID','SEASON','COMPETITION','GOALS_SCORED','SHOTS']]"
   ]
  },
  {
   "cell_type": "code",
   "execution_count": null,
   "metadata": {},
   "outputs": [],
   "source": [
    "attacking_efficiency = attacking_efficiency.merge(team_names, on='TEAM_FBREF_ID', how='left')"
   ]
  },
  {
   "cell_type": "code",
   "execution_count": null,
   "metadata": {},
   "outputs": [],
   "source": [
    "attacking_efficiency = attacking_efficiency.merge(team_misc[['TEAM_FBREF_ID', 'SEASON', 'COMPETITION','MATCHES_PLAYED']], \n",
    "                            on=['TEAM_FBREF_ID', 'SEASON', 'COMPETITION'])"
   ]
  },
  {
   "cell_type": "code",
   "execution_count": null,
   "metadata": {},
   "outputs": [],
   "source": [
    "attacking_efficiency['CONVERSION_RATE'] = (attacking_efficiency['GOALS_SCORED'] / attacking_efficiency['SHOTS']) * 100"
   ]
  },
  {
   "cell_type": "code",
   "execution_count": null,
   "metadata": {},
   "outputs": [],
   "source": [
    "attacking_efficiency['SHOTS_PER_GAME'] = (attacking_efficiency['SHOTS'] / attacking_efficiency['MATCHES_PLAYED'])"
   ]
  },
  {
   "cell_type": "code",
   "execution_count": null,
   "metadata": {},
   "outputs": [],
   "source": [
    "df_cross_events = df_events[df_events['TYPE_NAME'].isin(['cross', 'freekick_crossed', 'corner_crossed'])]"
   ]
  },
  {
   "cell_type": "code",
   "execution_count": null,
   "metadata": {},
   "outputs": [],
   "source": [
    "df_cross_events.shape"
   ]
  },
  {
   "cell_type": "code",
   "execution_count": null,
   "metadata": {},
   "outputs": [],
   "source": [
    "df_cross_events = df_cross_events.merge(team_names[['TEAM_NAME', 'TEAM_FBREF_ID']], on='TEAM_FBREF_ID')"
   ]
  },
  {
   "cell_type": "code",
   "execution_count": null,
   "metadata": {},
   "outputs": [],
   "source": [
    "crosses_attempted = df_cross_events.groupby(['COMPETITION', 'SEASON', 'TEAM_NAME'])['MATCH_ID'].count()"
   ]
  },
  {
   "cell_type": "code",
   "execution_count": null,
   "metadata": {},
   "outputs": [],
   "source": [
    "df_success_cross_events = df_cross_events[df_cross_events['RESULT_ID'] == 1]"
   ]
  },
  {
   "cell_type": "code",
   "execution_count": null,
   "metadata": {},
   "outputs": [],
   "source": [
    "successful_crosses = df_success_cross_events.groupby(['COMPETITION', 'SEASON', 'TEAM_NAME'])['MATCH_ID'].count()"
   ]
  },
  {
   "cell_type": "code",
   "execution_count": null,
   "metadata": {},
   "outputs": [],
   "source": [
    "team_name_matches_played"
   ]
  },
  {
   "cell_type": "code",
   "execution_count": null,
   "metadata": {},
   "outputs": [],
   "source": [
    "crosses_attempted = pd.DataFrame(crosses_attempted)\n",
    "crosses_attempted = crosses_attempted.rename({'MATCH_ID':'CROSSES ATTEMPTED'}, axis=1)\n",
    "crosses_attempted.reset_index(inplace=True)"
   ]
  },
  {
   "cell_type": "code",
   "execution_count": null,
   "metadata": {},
   "outputs": [],
   "source": [
    "successful_crosses = pd.DataFrame(successful_crosses)\n",
    "successful_crosses = successful_crosses.rename({'MATCH_ID':'SUCCESSFUL CROSSES'}, axis=1)\n",
    "successful_crosses.reset_index(inplace=True)"
   ]
  },
  {
   "cell_type": "code",
   "execution_count": null,
   "metadata": {},
   "outputs": [],
   "source": [
    "crossing_chart = crosses_attempted.merge(team_name_matches_played, on=['TEAM_NAME','COMPETITION','SEASON'])\n",
    "crossing_chart = crossing_chart.merge(successful_crosses, on=['TEAM_NAME','COMPETITION','SEASON'])"
   ]
  },
  {
   "cell_type": "code",
   "execution_count": null,
   "metadata": {},
   "outputs": [],
   "source": [
    "crossing_chart['CROSSES ATTEMPTED PER GAME'] = crossing_chart['CROSSES ATTEMPTED']/crossing_chart['MATCHES_PLAYED']\n",
    "crossing_chart['CROSS COMPLETION (%)'] = crossing_chart['SUCCESSFUL CROSSES']/crossing_chart['CROSSES ATTEMPTED']"
   ]
  },
  {
   "cell_type": "code",
   "execution_count": null,
   "metadata": {},
   "outputs": [],
   "source": [
    "crossing_chart = crossing_chart.merge(team_names[['TEAM_NAME', 'TEAM_LOGO_URL']], on='TEAM_NAME')"
   ]
  },
  {
   "cell_type": "code",
   "execution_count": null,
   "metadata": {},
   "outputs": [],
   "source": [
    "crossing_chart = crossing_chart.merge(df_competitions, on=['COMPETITION','SEASON'])"
   ]
  },
  {
   "cell_type": "code",
   "execution_count": null,
   "metadata": {},
   "outputs": [],
   "source": [
    "crossing_chart.drop(['COMPETITION'], axis=1, inplace=True)"
   ]
  },
  {
   "cell_type": "code",
   "execution_count": null,
   "metadata": {},
   "outputs": [],
   "source": [
    "create_table_query = \"\"\"\n",
    "CREATE TABLE IF NOT EXISTS CROSSING_CHART (\n",
    "    SEASON INT,\n",
    "    COMPETITION_ACRONYM VARCHAR(255),\n",
    "    TEAM_NAME VARCHAR(255),\n",
    "    TEAM_LOGO_URL VARCHAR(255),\n",
    "    CROSSES_ATTEMPTED_PER_GAME FLOAT,\n",
    "    CROSS_COMPLETION FLOAT,\n",
    "    PRIMARY KEY (SEASON, COMPETITION_ACRONYM, TEAM_NAME)\n",
    ");\n",
    "\"\"\""
   ]
  },
  {
   "cell_type": "code",
   "execution_count": null,
   "metadata": {},
   "outputs": [],
   "source": [
    "cur.execute(create_table_query)"
   ]
  },
  {
   "cell_type": "code",
   "execution_count": null,
   "metadata": {},
   "outputs": [],
   "source": [
    "crossing_chart.columns = crossing_chart.columns.str.replace(\" \", \"_\")"
   ]
  },
  {
   "cell_type": "code",
   "execution_count": null,
   "metadata": {},
   "outputs": [],
   "source": [
    "crossing_chart = crossing_chart.drop(['CROSSES_ATTEMPTED', 'MATCHES_PLAYED', 'SUCCESSFUL_CROSSES'], axis=1)"
   ]
  },
  {
   "cell_type": "code",
   "execution_count": null,
   "metadata": {},
   "outputs": [],
   "source": [
    "crossing_chart = crossing_chart.rename({\"CROSS_COMPLETION_(%)\":\"CROSS_COMPLETION\"}, axis=1)"
   ]
  },
  {
   "cell_type": "code",
   "execution_count": null,
   "metadata": {},
   "outputs": [],
   "source": [
    "crossing_chart[\"CROSS_COMPLETION\"] = crossing_chart[\"CROSS_COMPLETION\"] * 100"
   ]
  },
  {
   "cell_type": "code",
   "execution_count": null,
   "metadata": {},
   "outputs": [],
   "source": [
    "upsert_to_snowflake(\"CROSSING_CHART\", crossing_chart, ['SEASON', 'COMPETITION_ACRONYM', 'TEAM_NAME'])"
   ]
  },
  {
   "cell_type": "code",
   "execution_count": null,
   "metadata": {},
   "outputs": [],
   "source": [
    "crossing_chart = fetch_data(cursor, 'SELECT * FROM GEGENSTATS.RADAR_CHARTS.CROSSING_CHART')"
   ]
  },
  {
   "cell_type": "code",
   "execution_count": null,
   "metadata": {},
   "outputs": [],
   "source": [
    "crossing_chart.rename(columns={'CROSS_COMPLETION':'CROSS COMPLETION (%)',\n",
    "                                'CROSSES_ATTEMPTED_PER_GAME':'CROSSES ATTEMPTED PER GAME'}, inplace=True)"
   ]
  },
  {
   "cell_type": "code",
   "execution_count": null,
   "metadata": {},
   "outputs": [],
   "source": [
    "crossing_chart.head()"
   ]
  },
  {
   "cell_type": "code",
   "execution_count": null,
   "metadata": {},
   "outputs": [],
   "source": [
    "filt_crossing_chart = crossing_chart[crossing_chart['SEASON'] == season_selected]\n",
    "filt_crossing_chart = filt_crossing_chart[filt_crossing_chart['COMPETITION_ACRONYM'] == league_selected]"
   ]
  },
  {
   "cell_type": "code",
   "execution_count": null,
   "metadata": {},
   "outputs": [],
   "source": [
    "create_FM_team_scatter_chart(filt_crossing_chart, 'CROSSING', \"AC Milan\", \n",
    "                             'CROSS COMPLETION (%)', 'CROSSES ATTEMPTED PER GAME', 0.95, 17, 38, 11, 32, \n",
    "                                                        \"Fewer crosses<br>Inaccurate crossing\", \n",
    "                                                        \"Fewer crosses<br>Accurate crossing\",\n",
    "                                                        \"Lots of crosses<br>Inaccurate crossing\", \n",
    "                                                        \"Lots of crosses<br>Accurate crossing\",\n",
    "                                                        \"red\", \"orange\", \"orange\", \"green\")\n"
   ]
  },
  {
   "cell_type": "code",
   "execution_count": null,
   "metadata": {},
   "outputs": [],
   "source": [
    "team_defending_chart = team_defending_chart.merge(team_defending[['XG_AGAINST','TEAM_FBREF_ID','SEASON','COMPETITION']], on=['TEAM_FBREF_ID','SEASON','COMPETITION'])"
   ]
  },
  {
   "cell_type": "code",
   "execution_count": null,
   "metadata": {},
   "outputs": [],
   "source": [
    "team_defending_chart['XG Conceded Per Shot']= team_defending_chart['XG_AGAINST']/team_defending_chart['SHOTS_FACED']"
   ]
  },
  {
   "cell_type": "code",
   "execution_count": null,
   "metadata": {},
   "outputs": [],
   "source": [
    "team_defending_chart.sort_values(by='XG Conceded Per Shot')"
   ]
  },
  {
   "cell_type": "code",
   "execution_count": null,
   "metadata": {},
   "outputs": [],
   "source": [
    "create_FM_team_scatter_chart(team_defending_chart, 'AERIAL', \"Arsenal\", 'SHOTS FACED PER GAME', 'XG Conceded Per Shot', \n",
    "                                                            0.35, 8, 19, 0.07, 0.15, \n",
    "                                                            \"Fewer Duels<br>Poor Dueling\", \"Fewer Duels<br>Strong Dueling\",\n",
    "                                                            \"Lots of Duels<br>Poor Dueling\", \"Lots of Duels<br>Strong Dueling\", \"red\", \n",
    "                                                            \"orange\", \"orange\", \"green\")"
   ]
  },
  {
   "cell_type": "code",
   "execution_count": null,
   "metadata": {},
   "outputs": [],
   "source": []
  },
  {
   "cell_type": "code",
   "execution_count": null,
   "metadata": {},
   "outputs": [],
   "source": []
  },
  {
   "cell_type": "code",
   "execution_count": null,
   "metadata": {},
   "outputs": [],
   "source": []
  }
 ],
 "metadata": {
  "kernelspec": {
   "display_name": "footy",
   "language": "python",
   "name": "python3"
  },
  "language_info": {
   "codemirror_mode": {
    "name": "ipython",
    "version": 3
   },
   "file_extension": ".py",
   "mimetype": "text/x-python",
   "name": "python",
   "nbconvert_exporter": "python",
   "pygments_lexer": "ipython3",
   "version": "3.11.5"
  }
 },
 "nbformat": 4,
 "nbformat_minor": 2
}
