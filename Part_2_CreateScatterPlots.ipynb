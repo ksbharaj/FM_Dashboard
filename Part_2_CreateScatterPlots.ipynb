{
 "cells": [
  {
   "cell_type": "code",
   "execution_count": 1,
   "metadata": {},
   "outputs": [
    {
     "name": "stderr",
     "output_type": "stream",
     "text": [
      "d:\\Users\\ksbha\\miniconda3\\envs\\footy\\Lib\\site-packages\\snowflake\\connector\\options.py:103: UserWarning: You have an incompatible version of 'pyarrow' installed (14.0.2), please install a version that adheres to: 'pyarrow<10.1.0,>=10.0.1; extra == \"pandas\"'\n",
      "  warn_incompatible_dep(\n",
      "Failed to import ArrowResult. No Apache Arrow result set format can be used. ImportError: DLL load failed while importing arrow_iterator: The specified procedure could not be found.\n"
     ]
    }
   ],
   "source": [
    "import pandas as pd\n",
    "import numpy as np\n",
    "import plotly.graph_objects as go\n",
    "# from snowflake.connector.pandas_tools import write_pandas\n",
    "# from sqlalchemy import create_engine\n",
    "import snowflake.connector\n",
    "\n",
    "from mplsoccer import Pitch, VerticalPitch\n",
    "import matplotlib.pyplot as plt\n",
    "import matplotlib.patches as patches\n",
    "import math\n",
    "\n",
    "from snowflake.connector.pandas_tools import write_pandas"
   ]
  },
  {
   "cell_type": "code",
   "execution_count": 2,
   "metadata": {},
   "outputs": [],
   "source": [
    "import snowflake.connector"
   ]
  },
  {
   "cell_type": "code",
   "execution_count": 3,
   "metadata": {},
   "outputs": [],
   "source": [
    "## Set options to view all columns\n",
    "pd.set_option('display.max_columns', None)"
   ]
  },
  {
   "cell_type": "code",
   "execution_count": 4,
   "metadata": {},
   "outputs": [],
   "source": [
    "SNOWFLAKE_USER = 'kbharaj3'\n",
    "SNOWFLAKE_PASSWORD = 'Snowfl@key0014'\n",
    "SNOWFLAKE_ACCOUNT = 'qx25653.ca-central-1.aws'\n",
    "SNOWFLAKE_WAREHOUSE = 'FOOTY_STORE'\n",
    "SNOWFLAKE_DATABASE = 'GEGENSTATS'\n",
    "SNOWFLAKE_SCHEMA = 'TABLES'"
   ]
  },
  {
   "cell_type": "code",
   "execution_count": 5,
   "metadata": {},
   "outputs": [],
   "source": [
    "conn = snowflake.connector.connect(\n",
    "    user=SNOWFLAKE_USER,\n",
    "    password=SNOWFLAKE_PASSWORD,\n",
    "    account=SNOWFLAKE_ACCOUNT,\n",
    "    warehouse=SNOWFLAKE_WAREHOUSE,\n",
    "    database=SNOWFLAKE_DATABASE,\n",
    "    schema=SNOWFLAKE_SCHEMA\n",
    ")"
   ]
  },
  {
   "cell_type": "code",
   "execution_count": 6,
   "metadata": {},
   "outputs": [],
   "source": [
    "cursor = conn.cursor()"
   ]
  },
  {
   "cell_type": "code",
   "execution_count": 7,
   "metadata": {},
   "outputs": [],
   "source": [
    "def fetch_data(cursor, query):\n",
    "    cursor.execute(query)\n",
    "    rows = cursor.fetchall()\n",
    "    column_names = [desc[0] for desc in cursor.description]\n",
    "    return pd.DataFrame(rows, columns=column_names)"
   ]
  },
  {
   "cell_type": "code",
   "execution_count": 8,
   "metadata": {},
   "outputs": [],
   "source": [
    "team_names = fetch_data(cursor, 'SELECT * FROM TEAMS')"
   ]
  },
  {
   "cell_type": "code",
   "execution_count": 9,
   "metadata": {},
   "outputs": [],
   "source": [
    "team_misc = fetch_data(cursor, 'SELECT * FROM TEAM_MISC_STATS')"
   ]
  },
  {
   "cell_type": "code",
   "execution_count": 10,
   "metadata": {},
   "outputs": [],
   "source": [
    "team_standard = fetch_data(cursor, 'SELECT * FROM TEAM_STANDARD_STATS')"
   ]
  },
  {
   "cell_type": "code",
   "execution_count": 11,
   "metadata": {},
   "outputs": [],
   "source": [
    "team_attacking = fetch_data(cursor, 'SELECT * FROM TEAM_ATTACKING_STATS')"
   ]
  },
  {
   "cell_type": "code",
   "execution_count": 12,
   "metadata": {},
   "outputs": [],
   "source": [
    "team_defending = fetch_data(cursor, 'SELECT * FROM TEAM_DEFENDING_STATS')"
   ]
  },
  {
   "cell_type": "code",
   "execution_count": 13,
   "metadata": {},
   "outputs": [],
   "source": [
    "df_competitions = fetch_data(cursor, 'SELECT COMPETITION, COMPETITION_ACRONYM, SEASON FROM COMPETITIONS')"
   ]
  },
  {
   "cell_type": "code",
   "execution_count": 14,
   "metadata": {},
   "outputs": [],
   "source": [
    "df_matches = fetch_data(cursor, 'SELECT * FROM MATCHES')"
   ]
  },
  {
   "cell_type": "code",
   "execution_count": 15,
   "metadata": {},
   "outputs": [],
   "source": [
    "df_shots = fetch_data(cursor, 'SELECT * FROM SHOT_EVENTS')"
   ]
  },
  {
   "cell_type": "code",
   "execution_count": 16,
   "metadata": {},
   "outputs": [],
   "source": [
    "team_misc = team_misc.merge(df_competitions, on=['COMPETITION','SEASON'], how='left')\n",
    "\n",
    "team_misc = team_misc.merge(team_names, on='TEAM_FBREF_ID', how='left')\n",
    "\n",
    "team_misc = team_misc.merge(team_standard, on=['TEAM_FBREF_ID', 'SEASON', 'COMPETITION'], how='left')"
   ]
  },
  {
   "cell_type": "code",
   "execution_count": 17,
   "metadata": {},
   "outputs": [
    {
     "data": {
      "text/html": [
       "<div>\n",
       "<style scoped>\n",
       "    .dataframe tbody tr th:only-of-type {\n",
       "        vertical-align: middle;\n",
       "    }\n",
       "\n",
       "    .dataframe tbody tr th {\n",
       "        vertical-align: top;\n",
       "    }\n",
       "\n",
       "    .dataframe thead th {\n",
       "        text-align: right;\n",
       "    }\n",
       "</style>\n",
       "<table border=\"1\" class=\"dataframe\">\n",
       "  <thead>\n",
       "    <tr style=\"text-align: right;\">\n",
       "      <th></th>\n",
       "      <th>COMPETITION</th>\n",
       "      <th>COMPETITION_ACRONYM</th>\n",
       "      <th>SEASON</th>\n",
       "    </tr>\n",
       "  </thead>\n",
       "  <tbody>\n",
       "    <tr>\n",
       "      <th>0</th>\n",
       "      <td>ENG-Premier League</td>\n",
       "      <td>EPL</td>\n",
       "      <td>2122</td>\n",
       "    </tr>\n",
       "    <tr>\n",
       "      <th>1</th>\n",
       "      <td>ENG-Premier League</td>\n",
       "      <td>EPL</td>\n",
       "      <td>2324</td>\n",
       "    </tr>\n",
       "    <tr>\n",
       "      <th>2</th>\n",
       "      <td>ENG-Premier League</td>\n",
       "      <td>EPL</td>\n",
       "      <td>2223</td>\n",
       "    </tr>\n",
       "  </tbody>\n",
       "</table>\n",
       "</div>"
      ],
      "text/plain": [
       "          COMPETITION COMPETITION_ACRONYM  SEASON\n",
       "0  ENG-Premier League                 EPL    2122\n",
       "1  ENG-Premier League                 EPL    2324\n",
       "2  ENG-Premier League                 EPL    2223"
      ]
     },
     "execution_count": 17,
     "metadata": {},
     "output_type": "execute_result"
    }
   ],
   "source": [
    "df_competitions.head()"
   ]
  },
  {
   "cell_type": "code",
   "execution_count": 18,
   "metadata": {},
   "outputs": [],
   "source": [
    "team_misc['AERIAL DUELS WON RATIO (%)'] = team_misc['AERIALS_WON']*100/(team_misc['AERIALS_WON'] + \n",
    "                                                                team_misc['AERIALS_LOST'])\n",
    "team_misc['AERIAL DUELS ATTEMPTED PER GAME'] = (team_misc['AERIALS_WON'] + \n",
    "                                           team_misc['AERIALS_LOST'])/team_misc['MATCHES_PLAYED']"
   ]
  },
  {
   "cell_type": "code",
   "execution_count": 19,
   "metadata": {},
   "outputs": [],
   "source": [
    "x_min_aerial = (team_misc['AERIAL DUELS WON RATIO (%)'].min() // 5)*5\n",
    "x_max_aerial = (team_misc['AERIAL DUELS WON RATIO (%)'].max()//5)*5 + 5\n",
    "y_min_aerial = (team_misc['AERIAL DUELS ATTEMPTED PER GAME'].min()//5)*5\n",
    "y_max_aerial = (team_misc['AERIAL DUELS ATTEMPTED PER GAME'].max()//5)*5 + 5"
   ]
  },
  {
   "cell_type": "code",
   "execution_count": 20,
   "metadata": {},
   "outputs": [],
   "source": [
    "## Old limits: (45.0, 60.0, 20.0, 35.0)"
   ]
  },
  {
   "cell_type": "code",
   "execution_count": 21,
   "metadata": {},
   "outputs": [],
   "source": [
    "team_goal_output = team_standard.merge(team_defending[['TEAM_FBREF_ID', 'SEASON', 'COMPETITION', 'XG_AGAINST']], \n",
    "                                       on=['TEAM_FBREF_ID', 'SEASON', 'COMPETITION'], how='left')\n",
    "\n",
    "team_goal_output = team_goal_output.merge(df_competitions[['COMPETITION','COMPETITION_ACRONYM','SEASON']], \n",
    "                                      on=['COMPETITION','SEASON'], how='left')\n",
    "\n",
    "team_goal_output = team_goal_output.merge(team_attacking[['TEAM_FBREF_ID', 'SEASON', 'COMPETITION','NPXG']], \n",
    "                                          on=['TEAM_FBREF_ID', 'SEASON', 'COMPETITION'], how='left')"
   ]
  },
  {
   "cell_type": "code",
   "execution_count": 22,
   "metadata": {},
   "outputs": [],
   "source": [
    "team_goal_output['EXPECTED GOALS AGAINST PER GAME'] = team_goal_output['XG_AGAINST']/team_goal_output['MATCHES_PLAYED']\n",
    "team_goal_output['NON PENALTY EXPECTED GOALS PER GAME'] = team_goal_output['NPXG']/team_goal_output['MATCHES_PLAYED']"
   ]
  },
  {
   "cell_type": "code",
   "execution_count": 23,
   "metadata": {},
   "outputs": [],
   "source": [
    "team_goal_output = team_goal_output.merge(team_names, on='TEAM_FBREF_ID', how='left')"
   ]
  },
  {
   "cell_type": "code",
   "execution_count": 24,
   "metadata": {},
   "outputs": [],
   "source": [
    "x_min_goal_output = 0.45\n",
    "x_max_goal_output = 2.60\n",
    "y_min_goal_output = 0.5\n",
    "y_max_goal_output = 2.40"
   ]
  },
  {
   "cell_type": "code",
   "execution_count": 25,
   "metadata": {},
   "outputs": [],
   "source": [
    "team_defending['BLOCKS'] = team_defending['BLOCKED_SHOTS'] + team_defending['BLOCKED_PASSES']"
   ]
  },
  {
   "cell_type": "code",
   "execution_count": 26,
   "metadata": {},
   "outputs": [],
   "source": [
    "team_defending_chart = team_standard.merge(team_defending[['TEAM_FBREF_ID', 'SEASON', 'COMPETITION', 'BLOCKS', 'CLEARANCES',\n",
    "                                                           'GOALS_CONCEDED', 'SHOTS_FACED', 'TACKLES', 'TACKLES_WON']], \n",
    "                                       on=['TEAM_FBREF_ID', 'SEASON', 'COMPETITION'], how='left')\n",
    "\n",
    "team_defending_chart = team_defending_chart.merge(df_competitions[['COMPETITION','COMPETITION_ACRONYM','SEASON']], \n",
    "                                      on=['COMPETITION','SEASON'], how='left')\n",
    "\n",
    "team_defending_chart = team_defending_chart.merge(team_names, on='TEAM_FBREF_ID', how='left')"
   ]
  },
  {
   "cell_type": "code",
   "execution_count": 27,
   "metadata": {},
   "outputs": [],
   "source": [
    "team_defending_chart['BLOCKS PER GAME'] = team_defending_chart['BLOCKS']/team_defending_chart['MATCHES_PLAYED']\n",
    "team_defending_chart['CLEARANCES PER GAME'] = team_defending_chart['CLEARANCES']/team_defending_chart['MATCHES_PLAYED']\n",
    "team_defending_chart['SHOTS FACED PER GAME'] = team_defending_chart['SHOTS_FACED']/team_defending_chart['MATCHES_PLAYED']\n",
    "team_defending_chart['OPPOSITION CONVERSION RATE (%)'] = (team_defending_chart['GOALS_CONCEDED']/team_defending_chart['SHOTS_FACED'])*100\n",
    "team_defending_chart['CONCEDED PER GAME'] = team_defending_chart['GOALS_CONCEDED']/team_defending_chart['MATCHES_PLAYED']\n",
    "team_defending_chart['TACKLES ATTEMPTED PER GAME'] = team_defending_chart['TACKLES']/team_defending_chart['MATCHES_PLAYED']\n",
    "team_defending_chart['TACKLES WON RATIO (%)'] = (team_defending_chart['TACKLES_WON']/team_defending_chart['TACKLES'])*100"
   ]
  },
  {
   "cell_type": "code",
   "execution_count": null,
   "metadata": {},
   "outputs": [],
   "source": []
  },
  {
   "cell_type": "code",
   "execution_count": 28,
   "metadata": {},
   "outputs": [],
   "source": [
    "SNOWFLAKE_SCHEMA = 'RADAR_CHARTS'"
   ]
  },
  {
   "cell_type": "code",
   "execution_count": 29,
   "metadata": {},
   "outputs": [],
   "source": [
    "conn = snowflake.connector.connect(\n",
    "    user=SNOWFLAKE_USER,\n",
    "    password=SNOWFLAKE_PASSWORD,\n",
    "    account=SNOWFLAKE_ACCOUNT,\n",
    "    warehouse=SNOWFLAKE_WAREHOUSE,\n",
    "    database=SNOWFLAKE_DATABASE,\n",
    "    schema=SNOWFLAKE_SCHEMA\n",
    "    )"
   ]
  },
  {
   "cell_type": "code",
   "execution_count": 30,
   "metadata": {},
   "outputs": [
    {
     "data": {
      "text/plain": [
       "<snowflake.connector.cursor.SnowflakeCursor at 0x21cce600f10>"
      ]
     },
     "execution_count": 30,
     "metadata": {},
     "output_type": "execute_result"
    }
   ],
   "source": [
    "cur = conn.cursor()\n",
    "cur.execute(f\"USE WAREHOUSE {SNOWFLAKE_WAREHOUSE}\")"
   ]
  },
  {
   "cell_type": "code",
   "execution_count": 31,
   "metadata": {},
   "outputs": [
    {
     "data": {
      "text/plain": [
       "<snowflake.connector.cursor.SnowflakeCursor at 0x21cce600f10>"
      ]
     },
     "execution_count": 31,
     "metadata": {},
     "output_type": "execute_result"
    }
   ],
   "source": [
    "create_schema_sql = f\"CREATE SCHEMA IF NOT EXISTS {SNOWFLAKE_SCHEMA}\"\n",
    "cur.execute(create_schema_sql)"
   ]
  },
  {
   "cell_type": "code",
   "execution_count": 32,
   "metadata": {},
   "outputs": [],
   "source": [
    "create_table_query = \"\"\"\n",
    "CREATE TABLE IF NOT EXISTS TEAM_GOAL_OUTPUT (\n",
    "    SEASON INT,\n",
    "    COMPETITION_ACRONYM VARCHAR(255),\n",
    "    TEAM_NAME VARCHAR(255),\n",
    "    TEAM_LOGO_URL VARCHAR(255),\n",
    "    EXPECTED_GOALS_AGAINST_PER_GAME FLOAT,\n",
    "    NON_PENALTY_EXPECTED_GOALS_PER_GAME FLOAT,\n",
    "    PRIMARY KEY (SEASON, COMPETITION_ACRONYM, TEAM_NAME)\n",
    ");\n",
    "\"\"\""
   ]
  },
  {
   "cell_type": "code",
   "execution_count": 33,
   "metadata": {},
   "outputs": [
    {
     "data": {
      "text/plain": [
       "<snowflake.connector.cursor.SnowflakeCursor at 0x21cce600f10>"
      ]
     },
     "execution_count": 33,
     "metadata": {},
     "output_type": "execute_result"
    }
   ],
   "source": [
    "cur.execute(create_table_query)"
   ]
  },
  {
   "cell_type": "code",
   "execution_count": 34,
   "metadata": {},
   "outputs": [],
   "source": [
    "create_table_query = \"\"\"\n",
    "CREATE TABLE IF NOT EXISTS TEAM_DEFENDING_CHART (\n",
    "    SEASON INT,\n",
    "    COMPETITION_ACRONYM VARCHAR(255),\n",
    "    TEAM_NAME VARCHAR(255),\n",
    "    TEAM_LOGO_URL VARCHAR(255),\n",
    "    BLOCKS_PER_GAME FLOAT,\n",
    "    CLEARANCES_PER_GAME FLOAT,\n",
    "    SHOTS_FACED_PER_GAME FLOAT,\n",
    "    OPPOSITION_CONVERSION_RATE FLOAT,\n",
    "    CONCEDED_PER_GAME FLOAT,\n",
    "    TACKLES_ATTEMPTED_PER_GAME FLOAT,\n",
    "    TACKLES_WON_RATIO FLOAT,\n",
    "    PRIMARY KEY (SEASON, COMPETITION_ACRONYM, TEAM_NAME)\n",
    ");\n",
    "\"\"\""
   ]
  },
  {
   "cell_type": "code",
   "execution_count": 74,
   "metadata": {},
   "outputs": [
    {
     "data": {
      "text/plain": [
       "<snowflake.connector.cursor.SnowflakeCursor at 0x2cd32cec450>"
      ]
     },
     "execution_count": 74,
     "metadata": {},
     "output_type": "execute_result"
    }
   ],
   "source": [
    "cur.execute(create_table_query)"
   ]
  },
  {
   "cell_type": "code",
   "execution_count": 37,
   "metadata": {},
   "outputs": [],
   "source": [
    "def upsert_to_snowflake(table_name, dataframe, primary_keys):\n",
    "    if isinstance(primary_keys, str):\n",
    "        primary_keys = [primary_keys]\n",
    "\n",
    "    temp_table_name = f\"{table_name}_TEMP\"\n",
    "    success, nchunks, nrows, _ = write_pandas(conn, dataframe, temp_table_name, auto_create_table=True)\n",
    "\n",
    "    on_condition = ' AND '.join([f\"{table_name}.{pk} = {temp_table_name}.{pk}\" for pk in primary_keys])\n",
    "\n",
    "    update_columns = [col for col in dataframe.columns if col not in primary_keys]\n",
    "    update_sql = ', '.join([f\"{table_name}.{col} = {temp_table_name}.{col}\" for col in update_columns])\n",
    "\n",
    "    merge_sql = f\"\"\"\n",
    "    MERGE INTO {table_name} USING {temp_table_name}\n",
    "    ON {on_condition}\n",
    "    \"\"\"\n",
    "\n",
    "    if update_columns:\n",
    "        merge_sql += f\"\"\"\n",
    "        WHEN MATCHED THEN\n",
    "            UPDATE SET\n",
    "                {update_sql}\n",
    "        \"\"\"\n",
    "\n",
    "    merge_sql += f\"\"\"\n",
    "    WHEN NOT MATCHED THEN\n",
    "        INSERT ({', '.join(dataframe.columns)})\n",
    "        VALUES ({', '.join([f\"{temp_table_name}.{col}\" for col in dataframe.columns])})\n",
    "    \"\"\"\n",
    "\n",
    "    cur.execute(merge_sql)\n",
    "    cur.execute(f\"DROP TABLE IF EXISTS {temp_table_name}\")\n",
    "\n",
    "    print(f\"Upsert completed. {nrows} rows processed.\")"
   ]
  },
  {
   "cell_type": "code",
   "execution_count": 35,
   "metadata": {},
   "outputs": [],
   "source": [
    "team_goal_output.rename(columns={'EXPECTED GOALS AGAINST PER GAME':'EXPECTED_GOALS_AGAINST_PER_GAME',\n",
    "                                 'NON PENALTY EXPECTED GOALS PER GAME':'NON_PENALTY_EXPECTED_GOALS_PER_GAME'}, inplace=True)"
   ]
  },
  {
   "cell_type": "code",
   "execution_count": 38,
   "metadata": {},
   "outputs": [
    {
     "name": "stdout",
     "output_type": "stream",
     "text": [
      "Upsert completed. 60 rows processed.\n"
     ]
    }
   ],
   "source": [
    "upsert_to_snowflake(\"TEAM_GOAL_OUTPUT\", team_goal_output[['SEASON', 'COMPETITION_ACRONYM', 'TEAM_NAME', 'TEAM_LOGO_URL',\n",
    "                    'EXPECTED_GOALS_AGAINST_PER_GAME', 'NON_PENALTY_EXPECTED_GOALS_PER_GAME']],\n",
    "                    ['SEASON', 'COMPETITION_ACRONYM', 'TEAM_NAME'])"
   ]
  },
  {
   "cell_type": "code",
   "execution_count": 39,
   "metadata": {},
   "outputs": [],
   "source": [
    "team_defending_chart.columns = team_defending_chart.columns.str.replace(\" \", \"_\")"
   ]
  },
  {
   "cell_type": "code",
   "execution_count": 40,
   "metadata": {},
   "outputs": [],
   "source": [
    "team_defending_chart.rename(columns={'TACKLES_WON_RATIO_(%)':'TACKLES_WON_RATIO',\n",
    "                                     'OPPOSITION_CONVERSION_RATE_(%)':'OPPOSITION_CONVERSION_RATE'}, inplace=True)"
   ]
  },
  {
   "cell_type": "code",
   "execution_count": 41,
   "metadata": {},
   "outputs": [
    {
     "name": "stdout",
     "output_type": "stream",
     "text": [
      "Upsert completed. 60 rows processed.\n"
     ]
    }
   ],
   "source": [
    "upsert_to_snowflake(\"TEAM_DEFENDING_CHART\", team_defending_chart[['SEASON', 'COMPETITION_ACRONYM', 'TEAM_NAME', 'TEAM_LOGO_URL',\n",
    "                    'BLOCKS_PER_GAME', 'CLEARANCES_PER_GAME', 'SHOTS_FACED_PER_GAME', 'OPPOSITION_CONVERSION_RATE',\n",
    "                    'CONCEDED_PER_GAME', 'TACKLES_ATTEMPTED_PER_GAME', 'TACKLES_WON_RATIO']],\n",
    "                    ['SEASON', 'COMPETITION_ACRONYM', 'TEAM_NAME'])"
   ]
  },
  {
   "cell_type": "code",
   "execution_count": 42,
   "metadata": {},
   "outputs": [
    {
     "data": {
      "text/plain": [
       "'RADAR_CHARTS'"
      ]
     },
     "execution_count": 42,
     "metadata": {},
     "output_type": "execute_result"
    }
   ],
   "source": [
    "SNOWFLAKE_SCHEMA"
   ]
  },
  {
   "cell_type": "code",
   "execution_count": 43,
   "metadata": {},
   "outputs": [],
   "source": [
    "cur = conn.cursor()"
   ]
  },
  {
   "cell_type": "code",
   "execution_count": 44,
   "metadata": {},
   "outputs": [],
   "source": [
    "team_defending_chart = fetch_data(cursor, 'SELECT * FROM GEGENSTATS.RADAR_CHARTS.TEAM_DEFENDING_CHART')"
   ]
  },
  {
   "cell_type": "code",
   "execution_count": 45,
   "metadata": {},
   "outputs": [],
   "source": [
    "team_goal_output = fetch_data(cursor, 'SELECT * FROM GEGENSTATS.RADAR_CHARTS.TEAM_GOAL_OUTPUT')"
   ]
  },
  {
   "cell_type": "code",
   "execution_count": 46,
   "metadata": {},
   "outputs": [],
   "source": [
    "team_defending_chart.rename(columns={'BLOCKS_PER_GAME':'BLOCKS PER GAME', 'CLEARANCES_PER_GAME':'CLEARANCES PER GAME',\n",
    "                                    'SHOTS_FACED_PER_GAME':'SHOTS FACED PER GAME', 'OPPOSITION_CONVERSION_RATE':'OPPOSITION CONVERSION RATE (%)',\n",
    "                                    'CONCEDED_PER_GAME':'CONCEDED PER GAME', 'TACKLES_ATTEMPTED_PER_GAME':'TACKLES ATTEMPTED PER GAME',\n",
    "                                    'TACKLES_WON_RATIO':'TACKLES WON RATIO (%)'}, inplace=True)"
   ]
  },
  {
   "cell_type": "code",
   "execution_count": 47,
   "metadata": {},
   "outputs": [],
   "source": [
    "team_goal_output.rename(columns={'EXPECTED_GOALS_AGAINST_PER_GAME':'EXPECTED GOALS AGAINST PER GAME',\n",
    "                                'NON_PENALTY_EXPECTED_GOALS_PER_GAME':'NON PENALTY EXPECTED GOALS PER GAME'}, inplace=True)"
   ]
  },
  {
   "cell_type": "code",
   "execution_count": null,
   "metadata": {},
   "outputs": [],
   "source": []
  },
  {
   "cell_type": "code",
   "execution_count": 48,
   "metadata": {},
   "outputs": [],
   "source": [
    "def create_FM_team_scatter_chart(df, chart_name, team_name, x_axis_label, y_axis_label, img_size, x_min, x_max, y_min, y_max, bottom_left_label, \n",
    "                                 bottom_right_label, top_left_label, top_right_label, bl_color, br_color, tl_color, tr_color):\n",
    "    fig = go.Figure()\n",
    "    x_axis_mean_val = df[x_axis_label].mean()\n",
    "    y_axis_mean_val = df[y_axis_label].mean()\n",
    "\n",
    "    # Add the scatter plot points\n",
    "    for index, row in df.iterrows():\n",
    "        fig.add_trace(go.Scatter(\n",
    "            x=[row[x_axis_label]],\n",
    "            y=[row[y_axis_label]],\n",
    "            mode='markers',\n",
    "            text=row[\"TEAM_NAME\"],\n",
    "            marker=dict(\n",
    "                opacity=0\n",
    "            ),\n",
    "            hoverinfo='text',\n",
    "        ))\n",
    "\n",
    "        # Add team logo as a layout_image\n",
    "        fig.add_layout_image(\n",
    "            dict(\n",
    "                source=row[\"TEAM_LOGO_URL\"],\n",
    "                x=row[x_axis_label],\n",
    "                y=row[y_axis_label],\n",
    "                xref=\"x\",\n",
    "                yref=\"y\",\n",
    "                xanchor=\"center\",\n",
    "                yanchor=\"middle\"\n",
    "            )\n",
    "        )\n",
    "\n",
    "\n",
    "    # Update axes and layout as necessary\n",
    "    # ...\n",
    "        \n",
    "    fig.update_xaxes(range=[x_min, x_max], title=x_axis_label)\n",
    "    fig.update_yaxes(range=[y_min, y_max], title=y_axis_label)\n",
    "\n",
    "    fig.add_shape(\n",
    "        type='line',\n",
    "        x0=x_axis_mean_val, y0=fig.layout.yaxis.range[0],  # start of the line\n",
    "        x1=x_axis_mean_val, y1=fig.layout.yaxis.range[1],  # end of the line\n",
    "        line=dict(color='White', width=3),\n",
    "        layer='below'\n",
    "    )\n",
    "\n",
    "    # Add a horizontal line at the mean aerials attempted per game\n",
    "    fig.add_shape(\n",
    "        type='line',\n",
    "        x0=fig.layout.xaxis.range[0], y0=y_axis_mean_val,  # start of the line\n",
    "        x1=fig.layout.xaxis.range[1], y1=y_axis_mean_val,  # end of the line\n",
    "        line=dict(color='White', width=3),\n",
    "        layer='below'\n",
    "    )\n",
    "\n",
    "    fig.update_layout(\n",
    "        width=625,\n",
    "        height=625,\n",
    "        showlegend=False,\n",
    "        paper_bgcolor='rgb(70, 70, 70)',\n",
    "        plot_bgcolor='rgb(70, 70, 70)',\n",
    "        font=dict(\n",
    "                family=\"Roboto, sans-serif\",  # Specify the font family\n",
    "                size=25,                     # Specify the font size\n",
    "                color=\"white\"                # Specify the font color\n",
    "            ),\n",
    "        hoverlabel=dict(\n",
    "                bgcolor=\"rgba(20, 20, 20, 0.8)\",\n",
    "                font_family=\"Roboto, sans-serif\"),\n",
    "        title={\n",
    "            'text': f'{chart_name}',\n",
    "            'y':0.98,  # Sets the y position of the title (1 is the top of the figure)\n",
    "            'x':0.5,  # Centers the title horizontally (0.5 is the center of the figure)\n",
    "            'xanchor': 'center',  # Ensures the title is centered at the x position\n",
    "            'yanchor': 'top',  # Ensures the title is at the top of the y position\n",
    "            'font': dict(\n",
    "                family=\"Roboto, sans-serif\",  # Specify the font family\n",
    "                size=23,                     # Specify the font size\n",
    "                color=\"white\"                # Specify the font color\n",
    "            )\n",
    "        },\n",
    "        margin=dict(l=10, r=30, t=50, b=10),\n",
    "        images= [dict(\n",
    "            source= row[\"TEAM_LOGO_URL\"],\n",
    "            xref=\"x\",\n",
    "            yref=\"y\",\n",
    "            x= row[x_axis_label],\n",
    "            y= row[y_axis_label],\n",
    "            sizex=img_size*1.8 if row['TEAM_NAME'] == team_name else img_size,  # The size of the image in x axis units\n",
    "            sizey=img_size*1.8 if row['TEAM_NAME'] == team_name else img_size,  # The size of the image in y axis units\n",
    "            sizing=\"contain\",\n",
    "            opacity=1 if row['TEAM_NAME'] == team_name else 0.35,\n",
    "            layer=\"above\") for index, row in df.iterrows()]\n",
    "    )\n",
    "\n",
    "    fig.update_xaxes(\n",
    "        title=dict(font=dict(size=25)),\n",
    "        showline=True,  # Show the axis line\n",
    "        linewidth=2,  # Width of the axis line\n",
    "        linecolor='white',  # Color of the axis line\n",
    "        gridcolor='rgba(0,0,0,0)',  # Set grid line color to transparent\n",
    "        tickfont=dict(color='white', size=15),  # Set the color of the axis ticks (numbers)\n",
    "    )\n",
    "\n",
    "    fig.update_yaxes(\n",
    "        title=dict(font=dict(size=25)),\n",
    "        showline=True,\n",
    "        linewidth=2,\n",
    "        linecolor='white',\n",
    "        gridcolor='rgba(0,0,0,0)',\n",
    "        tickfont=dict(color='white', size=15),\n",
    "    )\n",
    "\n",
    "    fig.add_annotation(text=bottom_left_label,\n",
    "                    xref=\"paper\", yref=\"paper\",\n",
    "                    x=0, y=0,  # Bottom left corner\n",
    "                    showarrow=False,\n",
    "                    font=dict(size=15, color=bl_color, family=\"Roboto, sans-serif\"),\n",
    "                    align=\"left\")\n",
    "\n",
    "    fig.add_annotation(text=top_left_label,\n",
    "                    xref=\"paper\", yref=\"paper\",\n",
    "                    x=0, y=1,  # Top left corner\n",
    "                    showarrow=False,\n",
    "                    font=dict(size=15, color=tl_color, family=\"Roboto, sans-serif\"),\n",
    "                    align=\"left\")\n",
    "\n",
    "    fig.add_annotation(text=top_right_label,\n",
    "                    xref=\"paper\", yref=\"paper\",\n",
    "                    x=1, y=1,  # Top right corner\n",
    "                    showarrow=False,\n",
    "                    font=dict(size=15, color=tr_color, family=\"Roboto, sans-serif\"),\n",
    "                    align=\"right\")\n",
    "\n",
    "    fig.add_annotation(text=bottom_right_label,\n",
    "                    xref=\"paper\", yref=\"paper\",\n",
    "                    x=1, y=0,  # Bottom right corner\n",
    "                    showarrow=False,\n",
    "                    font=dict(size=15, color=br_color, family=\"Roboto, sans-serif\"),\n",
    "                    align=\"right\")\n",
    "\n",
    "    return fig"
   ]
  },
  {
   "cell_type": "code",
   "execution_count": 49,
   "metadata": {},
   "outputs": [],
   "source": [
    "league_selected = 'EPL'\n",
    "season_selected = 2324"
   ]
  },
  {
   "cell_type": "code",
   "execution_count": null,
   "metadata": {},
   "outputs": [],
   "source": []
  },
  {
   "cell_type": "code",
   "execution_count": 50,
   "metadata": {},
   "outputs": [],
   "source": [
    "filtered_team_misc = team_misc[team_misc['SEASON'] == season_selected]\n",
    "filtered_team_misc = filtered_team_misc[filtered_team_misc['COMPETITION_ACRONYM'] == league_selected]\n",
    "filtered_team_goal_output = team_goal_output[team_goal_output['SEASON'] == season_selected]\n",
    "filtered_team_goal_output = filtered_team_goal_output[filtered_team_goal_output['COMPETITION_ACRONYM'] == league_selected]\n",
    "filtered_team_defending_chart = team_defending_chart[team_defending_chart['SEASON'] == season_selected]\n",
    "filtered_team_defending_chart = filtered_team_defending_chart[filtered_team_defending_chart['COMPETITION_ACRONYM'] == league_selected]\n",
    "\n",
    "filtered_matches = df_matches[df_matches['SEASON'] == season_selected]"
   ]
  },
  {
   "cell_type": "code",
   "execution_count": 51,
   "metadata": {},
   "outputs": [
    {
     "data": {
      "application/vnd.plotly.v1+json": {
       "config": {
        "plotlyServerURL": "https://plotly.com"
       },
       "data": [
        {
         "hoverinfo": "text",
         "marker": {
          "opacity": 0
         },
         "mode": "markers",
         "text": "Arsenal",
         "type": "scatter",
         "x": [
          49.62630792227205
         ],
         "y": [
          26.76
         ]
        },
        {
         "hoverinfo": "text",
         "marker": {
          "opacity": 0
         },
         "mode": "markers",
         "text": "Aston Villa",
         "type": "scatter",
         "x": [
          47.16599190283401
         ],
         "y": [
          19.76
         ]
        },
        {
         "hoverinfo": "text",
         "marker": {
          "opacity": 0
         },
         "mode": "markers",
         "text": "Bournemouth",
         "type": "scatter",
         "x": [
          44.85006518904824
         ],
         "y": [
          31.958333333333332
         ]
        },
        {
         "hoverinfo": "text",
         "marker": {
          "opacity": 0
         },
         "mode": "markers",
         "text": "Brentford",
         "type": "scatter",
         "x": [
          50.260416666666664
         ],
         "y": [
          32
         ]
        },
        {
         "hoverinfo": "text",
         "marker": {
          "opacity": 0
         },
         "mode": "markers",
         "text": "Brighton",
         "type": "scatter",
         "x": [
          54.47316103379722
         ],
         "y": [
          20.12
         ]
        },
        {
         "hoverinfo": "text",
         "marker": {
          "opacity": 0
         },
         "mode": "markers",
         "text": "Burnley",
         "type": "scatter",
         "x": [
          43.66028708133971
         ],
         "y": [
          33.44
         ]
        },
        {
         "hoverinfo": "text",
         "marker": {
          "opacity": 0
         },
         "mode": "markers",
         "text": "Chelsea",
         "type": "scatter",
         "x": [
          55.243445692883896
         ],
         "y": [
          21.36
         ]
        },
        {
         "hoverinfo": "text",
         "marker": {
          "opacity": 0
         },
         "mode": "markers",
         "text": "Crystal Palace",
         "type": "scatter",
         "x": [
          48.010973936899866
         ],
         "y": [
          29.16
         ]
        },
        {
         "hoverinfo": "text",
         "marker": {
          "opacity": 0
         },
         "mode": "markers",
         "text": "Everton",
         "type": "scatter",
         "x": [
          55.04807692307692
         ],
         "y": [
          33.28
         ]
        },
        {
         "hoverinfo": "text",
         "marker": {
          "opacity": 0
         },
         "mode": "markers",
         "text": "Fulham",
         "type": "scatter",
         "x": [
          50.229007633587784
         ],
         "y": [
          26.2
         ]
        },
        {
         "hoverinfo": "text",
         "marker": {
          "opacity": 0
         },
         "mode": "markers",
         "text": "Liverpool",
         "type": "scatter",
         "x": [
          57.12230215827338
         ],
         "y": [
          27.8
         ]
        },
        {
         "hoverinfo": "text",
         "marker": {
          "opacity": 0
         },
         "mode": "markers",
         "text": "Luton Town",
         "type": "scatter",
         "x": [
          50.602409638554214
         ],
         "y": [
          34.583333333333336
         ]
        },
        {
         "hoverinfo": "text",
         "marker": {
          "opacity": 0
         },
         "mode": "markers",
         "text": "Manchester City",
         "type": "scatter",
         "x": [
          53.18066157760814
         ],
         "y": [
          16.375
         ]
        },
        {
         "hoverinfo": "text",
         "marker": {
          "opacity": 0
         },
         "mode": "markers",
         "text": "Manchester Utd",
         "type": "scatter",
         "x": [
          49.40577249575552
         ],
         "y": [
          23.56
         ]
        },
        {
         "hoverinfo": "text",
         "marker": {
          "opacity": 0
         },
         "mode": "markers",
         "text": "Newcastle Utd",
         "type": "scatter",
         "x": [
          52.857142857142854
         ],
         "y": [
          22.4
         ]
        },
        {
         "hoverinfo": "text",
         "marker": {
          "opacity": 0
         },
         "mode": "markers",
         "text": "Nott'ham Forest",
         "type": "scatter",
         "x": [
          51.805728518057286
         ],
         "y": [
          32.12
         ]
        },
        {
         "hoverinfo": "text",
         "marker": {
          "opacity": 0
         },
         "mode": "markers",
         "text": "Sheffield Utd",
         "type": "scatter",
         "x": [
          45.15011547344111
         ],
         "y": [
          34.64
         ]
        },
        {
         "hoverinfo": "text",
         "marker": {
          "opacity": 0
         },
         "mode": "markers",
         "text": "Tottenham",
         "type": "scatter",
         "x": [
          46.6933867735471
         ],
         "y": [
          19.96
         ]
        },
        {
         "hoverinfo": "text",
         "marker": {
          "opacity": 0
         },
         "mode": "markers",
         "text": "West Ham",
         "type": "scatter",
         "x": [
          48.253557567917206
         ],
         "y": [
          30.92
         ]
        },
        {
         "hoverinfo": "text",
         "marker": {
          "opacity": 0
         },
         "mode": "markers",
         "text": "Wolves",
         "type": "scatter",
         "x": [
          51.016949152542374
         ],
         "y": [
          23.6
         ]
        }
       ],
       "layout": {
        "annotations": [
         {
          "align": "left",
          "font": {
           "color": "red",
           "family": "Roboto, sans-serif",
           "size": 15
          },
          "showarrow": false,
          "text": "Fewer Duels<br>Poor Dueling",
          "x": 0,
          "xref": "paper",
          "y": 0,
          "yref": "paper"
         },
         {
          "align": "left",
          "font": {
           "color": "orange",
           "family": "Roboto, sans-serif",
           "size": 15
          },
          "showarrow": false,
          "text": "Lots of Duels<br>Poor Dueling",
          "x": 0,
          "xref": "paper",
          "y": 1,
          "yref": "paper"
         },
         {
          "align": "right",
          "font": {
           "color": "green",
           "family": "Roboto, sans-serif",
           "size": 15
          },
          "showarrow": false,
          "text": "Lots of Duels<br>Strong Dueling",
          "x": 1,
          "xref": "paper",
          "y": 1,
          "yref": "paper"
         },
         {
          "align": "right",
          "font": {
           "color": "orange",
           "family": "Roboto, sans-serif",
           "size": 15
          },
          "showarrow": false,
          "text": "Fewer Duels<br>Strong Dueling",
          "x": 1,
          "xref": "paper",
          "y": 0,
          "yref": "paper"
         }
        ],
        "font": {
         "color": "white",
         "family": "Roboto, sans-serif",
         "size": 25
        },
        "height": 625,
        "hoverlabel": {
         "bgcolor": "rgba(20, 20, 20, 0.8)",
         "font": {
          "family": "Roboto, sans-serif"
         }
        },
        "images": [
         {
          "layer": "above",
          "opacity": 1,
          "sizex": 2.61,
          "sizey": 2.61,
          "sizing": "contain",
          "source": "https://i.imgur.com/SURo5sj.png",
          "x": 49.62630792227205,
          "xanchor": "center",
          "xref": "x",
          "y": 26.76,
          "yanchor": "middle",
          "yref": "y"
         },
         {
          "layer": "above",
          "opacity": 0.35,
          "sizex": 1.45,
          "sizey": 1.45,
          "sizing": "contain",
          "source": "https://i.imgur.com/M4mwH1X.png",
          "x": 47.16599190283401,
          "xanchor": "center",
          "xref": "x",
          "y": 19.76,
          "yanchor": "middle",
          "yref": "y"
         },
         {
          "layer": "above",
          "opacity": 0.35,
          "sizex": 1.45,
          "sizey": 1.45,
          "sizing": "contain",
          "source": "https://i.imgur.com/0F6UIO4.png",
          "x": 44.85006518904824,
          "xanchor": "center",
          "xref": "x",
          "y": 31.958333333333332,
          "yanchor": "middle",
          "yref": "y"
         },
         {
          "layer": "above",
          "opacity": 0.35,
          "sizex": 1.45,
          "sizey": 1.45,
          "sizing": "contain",
          "source": "https://i.imgur.com/MOhGOQ4.png",
          "x": 50.260416666666664,
          "xanchor": "center",
          "xref": "x",
          "y": 32,
          "yanchor": "middle",
          "yref": "y"
         },
         {
          "layer": "above",
          "opacity": 0.35,
          "sizex": 1.45,
          "sizey": 1.45,
          "sizing": "contain",
          "source": "https://i.imgur.com/EMCwD3X.png",
          "x": 54.47316103379722,
          "xanchor": "center",
          "xref": "x",
          "y": 20.12,
          "yanchor": "middle",
          "yref": "y"
         },
         {
          "layer": "above",
          "opacity": 0.35,
          "sizex": 1.45,
          "sizey": 1.45,
          "sizing": "contain",
          "source": "https://i.imgur.com/6IDi9XJ.png",
          "x": 43.66028708133971,
          "xanchor": "center",
          "xref": "x",
          "y": 33.44,
          "yanchor": "middle",
          "yref": "y"
         },
         {
          "layer": "above",
          "opacity": 0.35,
          "sizex": 1.45,
          "sizey": 1.45,
          "sizing": "contain",
          "source": "https://i.imgur.com/6F7h3UR.png",
          "x": 55.243445692883896,
          "xanchor": "center",
          "xref": "x",
          "y": 21.36,
          "yanchor": "middle",
          "yref": "y"
         },
         {
          "layer": "above",
          "opacity": 0.35,
          "sizex": 1.45,
          "sizey": 1.45,
          "sizing": "contain",
          "source": "https://i.imgur.com/LPhzr0K.png",
          "x": 48.010973936899866,
          "xanchor": "center",
          "xref": "x",
          "y": 29.16,
          "yanchor": "middle",
          "yref": "y"
         },
         {
          "layer": "above",
          "opacity": 0.35,
          "sizex": 1.45,
          "sizey": 1.45,
          "sizing": "contain",
          "source": "https://i.imgur.com/Dgei0uj.png",
          "x": 55.04807692307692,
          "xanchor": "center",
          "xref": "x",
          "y": 33.28,
          "yanchor": "middle",
          "yref": "y"
         },
         {
          "layer": "above",
          "opacity": 0.35,
          "sizex": 1.45,
          "sizey": 1.45,
          "sizing": "contain",
          "source": "https://i.imgur.com/2zggSrF.png",
          "x": 50.229007633587784,
          "xanchor": "center",
          "xref": "x",
          "y": 26.2,
          "yanchor": "middle",
          "yref": "y"
         },
         {
          "layer": "above",
          "opacity": 0.35,
          "sizex": 1.45,
          "sizey": 1.45,
          "sizing": "contain",
          "source": "https://i.imgur.com/fs7VK9G.png",
          "x": 57.12230215827338,
          "xanchor": "center",
          "xref": "x",
          "y": 27.8,
          "yanchor": "middle",
          "yref": "y"
         },
         {
          "layer": "above",
          "opacity": 0.35,
          "sizex": 1.45,
          "sizey": 1.45,
          "sizing": "contain",
          "source": "https://i.imgur.com/vHHqKJX.png",
          "x": 50.602409638554214,
          "xanchor": "center",
          "xref": "x",
          "y": 34.583333333333336,
          "yanchor": "middle",
          "yref": "y"
         },
         {
          "layer": "above",
          "opacity": 0.35,
          "sizex": 1.45,
          "sizey": 1.45,
          "sizing": "contain",
          "source": "https://i.imgur.com/FF8z7uZ.png",
          "x": 53.18066157760814,
          "xanchor": "center",
          "xref": "x",
          "y": 16.375,
          "yanchor": "middle",
          "yref": "y"
         },
         {
          "layer": "above",
          "opacity": 0.35,
          "sizex": 1.45,
          "sizey": 1.45,
          "sizing": "contain",
          "source": "https://i.imgur.com/z47emBQ.png",
          "x": 49.40577249575552,
          "xanchor": "center",
          "xref": "x",
          "y": 23.56,
          "yanchor": "middle",
          "yref": "y"
         },
         {
          "layer": "above",
          "opacity": 0.35,
          "sizex": 1.45,
          "sizey": 1.45,
          "sizing": "contain",
          "source": "https://i.imgur.com/3kOLokZ.png",
          "x": 52.857142857142854,
          "xanchor": "center",
          "xref": "x",
          "y": 22.4,
          "yanchor": "middle",
          "yref": "y"
         },
         {
          "layer": "above",
          "opacity": 0.35,
          "sizex": 1.45,
          "sizey": 1.45,
          "sizing": "contain",
          "source": "https://i.imgur.com/z4Tl9Zu.png",
          "x": 51.805728518057286,
          "xanchor": "center",
          "xref": "x",
          "y": 32.12,
          "yanchor": "middle",
          "yref": "y"
         },
         {
          "layer": "above",
          "opacity": 0.35,
          "sizex": 1.45,
          "sizey": 1.45,
          "sizing": "contain",
          "source": "https://i.imgur.com/eeBetFN.png",
          "x": 45.15011547344111,
          "xanchor": "center",
          "xref": "x",
          "y": 34.64,
          "yanchor": "middle",
          "yref": "y"
         },
         {
          "layer": "above",
          "opacity": 0.35,
          "sizex": 1.45,
          "sizey": 1.45,
          "sizing": "contain",
          "source": "https://i.imgur.com/fJ7rUWW.png",
          "x": 46.6933867735471,
          "xanchor": "center",
          "xref": "x",
          "y": 19.96,
          "yanchor": "middle",
          "yref": "y"
         },
         {
          "layer": "above",
          "opacity": 0.35,
          "sizex": 1.45,
          "sizey": 1.45,
          "sizing": "contain",
          "source": "https://i.imgur.com/9BQHJRl.png",
          "x": 48.253557567917206,
          "xanchor": "center",
          "xref": "x",
          "y": 30.92,
          "yanchor": "middle",
          "yref": "y"
         },
         {
          "layer": "above",
          "opacity": 0.35,
          "sizex": 1.45,
          "sizey": 1.45,
          "sizing": "contain",
          "source": "https://i.imgur.com/6azSF88.png",
          "x": 51.016949152542374,
          "xanchor": "center",
          "xref": "x",
          "y": 23.6,
          "yanchor": "middle",
          "yref": "y"
         }
        ],
        "margin": {
         "b": 10,
         "l": 10,
         "r": 30,
         "t": 50
        },
        "paper_bgcolor": "rgb(70, 70, 70)",
        "plot_bgcolor": "rgb(70, 70, 70)",
        "shapes": [
         {
          "layer": "below",
          "line": {
           "color": "White",
           "width": 3
          },
          "type": "line",
          "x0": 50.232788009762274,
          "x1": 50.232788009762274,
          "y0": 15,
          "y1": 45
         },
         {
          "layer": "below",
          "line": {
           "color": "White",
           "width": 3
          },
          "type": "line",
          "x0": 40,
          "x1": 60,
          "y0": 26.999833333333335,
          "y1": 26.999833333333335
         }
        ],
        "showlegend": false,
        "template": {
         "data": {
          "bar": [
           {
            "error_x": {
             "color": "#2a3f5f"
            },
            "error_y": {
             "color": "#2a3f5f"
            },
            "marker": {
             "line": {
              "color": "#E5ECF6",
              "width": 0.5
             },
             "pattern": {
              "fillmode": "overlay",
              "size": 10,
              "solidity": 0.2
             }
            },
            "type": "bar"
           }
          ],
          "barpolar": [
           {
            "marker": {
             "line": {
              "color": "#E5ECF6",
              "width": 0.5
             },
             "pattern": {
              "fillmode": "overlay",
              "size": 10,
              "solidity": 0.2
             }
            },
            "type": "barpolar"
           }
          ],
          "carpet": [
           {
            "aaxis": {
             "endlinecolor": "#2a3f5f",
             "gridcolor": "white",
             "linecolor": "white",
             "minorgridcolor": "white",
             "startlinecolor": "#2a3f5f"
            },
            "baxis": {
             "endlinecolor": "#2a3f5f",
             "gridcolor": "white",
             "linecolor": "white",
             "minorgridcolor": "white",
             "startlinecolor": "#2a3f5f"
            },
            "type": "carpet"
           }
          ],
          "choropleth": [
           {
            "colorbar": {
             "outlinewidth": 0,
             "ticks": ""
            },
            "type": "choropleth"
           }
          ],
          "contour": [
           {
            "colorbar": {
             "outlinewidth": 0,
             "ticks": ""
            },
            "colorscale": [
             [
              0,
              "#0d0887"
             ],
             [
              0.1111111111111111,
              "#46039f"
             ],
             [
              0.2222222222222222,
              "#7201a8"
             ],
             [
              0.3333333333333333,
              "#9c179e"
             ],
             [
              0.4444444444444444,
              "#bd3786"
             ],
             [
              0.5555555555555556,
              "#d8576b"
             ],
             [
              0.6666666666666666,
              "#ed7953"
             ],
             [
              0.7777777777777778,
              "#fb9f3a"
             ],
             [
              0.8888888888888888,
              "#fdca26"
             ],
             [
              1,
              "#f0f921"
             ]
            ],
            "type": "contour"
           }
          ],
          "contourcarpet": [
           {
            "colorbar": {
             "outlinewidth": 0,
             "ticks": ""
            },
            "type": "contourcarpet"
           }
          ],
          "heatmap": [
           {
            "colorbar": {
             "outlinewidth": 0,
             "ticks": ""
            },
            "colorscale": [
             [
              0,
              "#0d0887"
             ],
             [
              0.1111111111111111,
              "#46039f"
             ],
             [
              0.2222222222222222,
              "#7201a8"
             ],
             [
              0.3333333333333333,
              "#9c179e"
             ],
             [
              0.4444444444444444,
              "#bd3786"
             ],
             [
              0.5555555555555556,
              "#d8576b"
             ],
             [
              0.6666666666666666,
              "#ed7953"
             ],
             [
              0.7777777777777778,
              "#fb9f3a"
             ],
             [
              0.8888888888888888,
              "#fdca26"
             ],
             [
              1,
              "#f0f921"
             ]
            ],
            "type": "heatmap"
           }
          ],
          "heatmapgl": [
           {
            "colorbar": {
             "outlinewidth": 0,
             "ticks": ""
            },
            "colorscale": [
             [
              0,
              "#0d0887"
             ],
             [
              0.1111111111111111,
              "#46039f"
             ],
             [
              0.2222222222222222,
              "#7201a8"
             ],
             [
              0.3333333333333333,
              "#9c179e"
             ],
             [
              0.4444444444444444,
              "#bd3786"
             ],
             [
              0.5555555555555556,
              "#d8576b"
             ],
             [
              0.6666666666666666,
              "#ed7953"
             ],
             [
              0.7777777777777778,
              "#fb9f3a"
             ],
             [
              0.8888888888888888,
              "#fdca26"
             ],
             [
              1,
              "#f0f921"
             ]
            ],
            "type": "heatmapgl"
           }
          ],
          "histogram": [
           {
            "marker": {
             "pattern": {
              "fillmode": "overlay",
              "size": 10,
              "solidity": 0.2
             }
            },
            "type": "histogram"
           }
          ],
          "histogram2d": [
           {
            "colorbar": {
             "outlinewidth": 0,
             "ticks": ""
            },
            "colorscale": [
             [
              0,
              "#0d0887"
             ],
             [
              0.1111111111111111,
              "#46039f"
             ],
             [
              0.2222222222222222,
              "#7201a8"
             ],
             [
              0.3333333333333333,
              "#9c179e"
             ],
             [
              0.4444444444444444,
              "#bd3786"
             ],
             [
              0.5555555555555556,
              "#d8576b"
             ],
             [
              0.6666666666666666,
              "#ed7953"
             ],
             [
              0.7777777777777778,
              "#fb9f3a"
             ],
             [
              0.8888888888888888,
              "#fdca26"
             ],
             [
              1,
              "#f0f921"
             ]
            ],
            "type": "histogram2d"
           }
          ],
          "histogram2dcontour": [
           {
            "colorbar": {
             "outlinewidth": 0,
             "ticks": ""
            },
            "colorscale": [
             [
              0,
              "#0d0887"
             ],
             [
              0.1111111111111111,
              "#46039f"
             ],
             [
              0.2222222222222222,
              "#7201a8"
             ],
             [
              0.3333333333333333,
              "#9c179e"
             ],
             [
              0.4444444444444444,
              "#bd3786"
             ],
             [
              0.5555555555555556,
              "#d8576b"
             ],
             [
              0.6666666666666666,
              "#ed7953"
             ],
             [
              0.7777777777777778,
              "#fb9f3a"
             ],
             [
              0.8888888888888888,
              "#fdca26"
             ],
             [
              1,
              "#f0f921"
             ]
            ],
            "type": "histogram2dcontour"
           }
          ],
          "mesh3d": [
           {
            "colorbar": {
             "outlinewidth": 0,
             "ticks": ""
            },
            "type": "mesh3d"
           }
          ],
          "parcoords": [
           {
            "line": {
             "colorbar": {
              "outlinewidth": 0,
              "ticks": ""
             }
            },
            "type": "parcoords"
           }
          ],
          "pie": [
           {
            "automargin": true,
            "type": "pie"
           }
          ],
          "scatter": [
           {
            "fillpattern": {
             "fillmode": "overlay",
             "size": 10,
             "solidity": 0.2
            },
            "type": "scatter"
           }
          ],
          "scatter3d": [
           {
            "line": {
             "colorbar": {
              "outlinewidth": 0,
              "ticks": ""
             }
            },
            "marker": {
             "colorbar": {
              "outlinewidth": 0,
              "ticks": ""
             }
            },
            "type": "scatter3d"
           }
          ],
          "scattercarpet": [
           {
            "marker": {
             "colorbar": {
              "outlinewidth": 0,
              "ticks": ""
             }
            },
            "type": "scattercarpet"
           }
          ],
          "scattergeo": [
           {
            "marker": {
             "colorbar": {
              "outlinewidth": 0,
              "ticks": ""
             }
            },
            "type": "scattergeo"
           }
          ],
          "scattergl": [
           {
            "marker": {
             "colorbar": {
              "outlinewidth": 0,
              "ticks": ""
             }
            },
            "type": "scattergl"
           }
          ],
          "scattermapbox": [
           {
            "marker": {
             "colorbar": {
              "outlinewidth": 0,
              "ticks": ""
             }
            },
            "type": "scattermapbox"
           }
          ],
          "scatterpolar": [
           {
            "marker": {
             "colorbar": {
              "outlinewidth": 0,
              "ticks": ""
             }
            },
            "type": "scatterpolar"
           }
          ],
          "scatterpolargl": [
           {
            "marker": {
             "colorbar": {
              "outlinewidth": 0,
              "ticks": ""
             }
            },
            "type": "scatterpolargl"
           }
          ],
          "scatterternary": [
           {
            "marker": {
             "colorbar": {
              "outlinewidth": 0,
              "ticks": ""
             }
            },
            "type": "scatterternary"
           }
          ],
          "surface": [
           {
            "colorbar": {
             "outlinewidth": 0,
             "ticks": ""
            },
            "colorscale": [
             [
              0,
              "#0d0887"
             ],
             [
              0.1111111111111111,
              "#46039f"
             ],
             [
              0.2222222222222222,
              "#7201a8"
             ],
             [
              0.3333333333333333,
              "#9c179e"
             ],
             [
              0.4444444444444444,
              "#bd3786"
             ],
             [
              0.5555555555555556,
              "#d8576b"
             ],
             [
              0.6666666666666666,
              "#ed7953"
             ],
             [
              0.7777777777777778,
              "#fb9f3a"
             ],
             [
              0.8888888888888888,
              "#fdca26"
             ],
             [
              1,
              "#f0f921"
             ]
            ],
            "type": "surface"
           }
          ],
          "table": [
           {
            "cells": {
             "fill": {
              "color": "#EBF0F8"
             },
             "line": {
              "color": "white"
             }
            },
            "header": {
             "fill": {
              "color": "#C8D4E3"
             },
             "line": {
              "color": "white"
             }
            },
            "type": "table"
           }
          ]
         },
         "layout": {
          "annotationdefaults": {
           "arrowcolor": "#2a3f5f",
           "arrowhead": 0,
           "arrowwidth": 1
          },
          "autotypenumbers": "strict",
          "coloraxis": {
           "colorbar": {
            "outlinewidth": 0,
            "ticks": ""
           }
          },
          "colorscale": {
           "diverging": [
            [
             0,
             "#8e0152"
            ],
            [
             0.1,
             "#c51b7d"
            ],
            [
             0.2,
             "#de77ae"
            ],
            [
             0.3,
             "#f1b6da"
            ],
            [
             0.4,
             "#fde0ef"
            ],
            [
             0.5,
             "#f7f7f7"
            ],
            [
             0.6,
             "#e6f5d0"
            ],
            [
             0.7,
             "#b8e186"
            ],
            [
             0.8,
             "#7fbc41"
            ],
            [
             0.9,
             "#4d9221"
            ],
            [
             1,
             "#276419"
            ]
           ],
           "sequential": [
            [
             0,
             "#0d0887"
            ],
            [
             0.1111111111111111,
             "#46039f"
            ],
            [
             0.2222222222222222,
             "#7201a8"
            ],
            [
             0.3333333333333333,
             "#9c179e"
            ],
            [
             0.4444444444444444,
             "#bd3786"
            ],
            [
             0.5555555555555556,
             "#d8576b"
            ],
            [
             0.6666666666666666,
             "#ed7953"
            ],
            [
             0.7777777777777778,
             "#fb9f3a"
            ],
            [
             0.8888888888888888,
             "#fdca26"
            ],
            [
             1,
             "#f0f921"
            ]
           ],
           "sequentialminus": [
            [
             0,
             "#0d0887"
            ],
            [
             0.1111111111111111,
             "#46039f"
            ],
            [
             0.2222222222222222,
             "#7201a8"
            ],
            [
             0.3333333333333333,
             "#9c179e"
            ],
            [
             0.4444444444444444,
             "#bd3786"
            ],
            [
             0.5555555555555556,
             "#d8576b"
            ],
            [
             0.6666666666666666,
             "#ed7953"
            ],
            [
             0.7777777777777778,
             "#fb9f3a"
            ],
            [
             0.8888888888888888,
             "#fdca26"
            ],
            [
             1,
             "#f0f921"
            ]
           ]
          },
          "colorway": [
           "#636efa",
           "#EF553B",
           "#00cc96",
           "#ab63fa",
           "#FFA15A",
           "#19d3f3",
           "#FF6692",
           "#B6E880",
           "#FF97FF",
           "#FECB52"
          ],
          "font": {
           "color": "#2a3f5f"
          },
          "geo": {
           "bgcolor": "white",
           "lakecolor": "white",
           "landcolor": "#E5ECF6",
           "showlakes": true,
           "showland": true,
           "subunitcolor": "white"
          },
          "hoverlabel": {
           "align": "left"
          },
          "hovermode": "closest",
          "mapbox": {
           "style": "light"
          },
          "paper_bgcolor": "white",
          "plot_bgcolor": "#E5ECF6",
          "polar": {
           "angularaxis": {
            "gridcolor": "white",
            "linecolor": "white",
            "ticks": ""
           },
           "bgcolor": "#E5ECF6",
           "radialaxis": {
            "gridcolor": "white",
            "linecolor": "white",
            "ticks": ""
           }
          },
          "scene": {
           "xaxis": {
            "backgroundcolor": "#E5ECF6",
            "gridcolor": "white",
            "gridwidth": 2,
            "linecolor": "white",
            "showbackground": true,
            "ticks": "",
            "zerolinecolor": "white"
           },
           "yaxis": {
            "backgroundcolor": "#E5ECF6",
            "gridcolor": "white",
            "gridwidth": 2,
            "linecolor": "white",
            "showbackground": true,
            "ticks": "",
            "zerolinecolor": "white"
           },
           "zaxis": {
            "backgroundcolor": "#E5ECF6",
            "gridcolor": "white",
            "gridwidth": 2,
            "linecolor": "white",
            "showbackground": true,
            "ticks": "",
            "zerolinecolor": "white"
           }
          },
          "shapedefaults": {
           "line": {
            "color": "#2a3f5f"
           }
          },
          "ternary": {
           "aaxis": {
            "gridcolor": "white",
            "linecolor": "white",
            "ticks": ""
           },
           "baxis": {
            "gridcolor": "white",
            "linecolor": "white",
            "ticks": ""
           },
           "bgcolor": "#E5ECF6",
           "caxis": {
            "gridcolor": "white",
            "linecolor": "white",
            "ticks": ""
           }
          },
          "title": {
           "x": 0.05
          },
          "xaxis": {
           "automargin": true,
           "gridcolor": "white",
           "linecolor": "white",
           "ticks": "",
           "title": {
            "standoff": 15
           },
           "zerolinecolor": "white",
           "zerolinewidth": 2
          },
          "yaxis": {
           "automargin": true,
           "gridcolor": "white",
           "linecolor": "white",
           "ticks": "",
           "title": {
            "standoff": 15
           },
           "zerolinecolor": "white",
           "zerolinewidth": 2
          }
         }
        },
        "title": {
         "font": {
          "color": "white",
          "family": "Roboto, sans-serif",
          "size": 23
         },
         "text": "AERIAL",
         "x": 0.5,
         "xanchor": "center",
         "y": 0.98,
         "yanchor": "top"
        },
        "width": 625,
        "xaxis": {
         "gridcolor": "rgba(0,0,0,0)",
         "linecolor": "white",
         "linewidth": 2,
         "range": [
          40,
          60
         ],
         "showline": true,
         "tickfont": {
          "color": "white",
          "size": 15
         },
         "title": {
          "font": {
           "size": 25
          },
          "text": "AERIAL DUELS WON RATIO (%)"
         }
        },
        "yaxis": {
         "gridcolor": "rgba(0,0,0,0)",
         "linecolor": "white",
         "linewidth": 2,
         "range": [
          15,
          45
         ],
         "showline": true,
         "tickfont": {
          "color": "white",
          "size": 15
         },
         "title": {
          "font": {
           "size": 25
          },
          "text": "AERIAL DUELS ATTEMPTED PER GAME"
         }
        }
       }
      }
     },
     "metadata": {},
     "output_type": "display_data"
    }
   ],
   "source": [
    "create_FM_team_scatter_chart(filtered_team_misc, 'AERIAL', \"Arsenal\", 'AERIAL DUELS WON RATIO (%)', 'AERIAL DUELS ATTEMPTED PER GAME', \n",
    "                                                            1.45, x_min_aerial, x_max_aerial, y_min_aerial, y_max_aerial, \n",
    "                                                            \"Fewer Duels<br>Poor Dueling\", \"Fewer Duels<br>Strong Dueling\",\n",
    "                                                            \"Lots of Duels<br>Poor Dueling\", \"Lots of Duels<br>Strong Dueling\", \"red\", \n",
    "                                                            \"orange\", \"orange\", \"green\")"
   ]
  },
  {
   "cell_type": "code",
   "execution_count": 52,
   "metadata": {},
   "outputs": [
    {
     "data": {
      "application/vnd.plotly.v1+json": {
       "config": {
        "plotlyServerURL": "https://plotly.com"
       },
       "data": [
        {
         "hoverinfo": "text",
         "marker": {
          "opacity": 0
         },
         "mode": "markers",
         "text": "Arsenal",
         "type": "scatter",
         "x": [
          0.868
         ],
         "y": [
          1.9376
         ]
        },
        {
         "hoverinfo": "text",
         "marker": {
          "opacity": 0
         },
         "mode": "markers",
         "text": "Aston Villa",
         "type": "scatter",
         "x": [
          1.5028
         ],
         "y": [
          1.8192
         ]
        },
        {
         "hoverinfo": "text",
         "marker": {
          "opacity": 0
         },
         "mode": "markers",
         "text": "Bournemouth",
         "type": "scatter",
         "x": [
          1.73125
         ],
         "y": [
          1.57
         ]
        },
        {
         "hoverinfo": "text",
         "marker": {
          "opacity": 0
         },
         "mode": "markers",
         "text": "Brentford",
         "type": "scatter",
         "x": [
          1.54625
         ],
         "y": [
          1.684583333
         ]
        },
        {
         "hoverinfo": "text",
         "marker": {
          "opacity": 0
         },
         "mode": "markers",
         "text": "Brighton",
         "type": "scatter",
         "x": [
          1.5792
         ],
         "y": [
          1.6804
         ]
        },
        {
         "hoverinfo": "text",
         "marker": {
          "opacity": 0
         },
         "mode": "markers",
         "text": "Burnley",
         "type": "scatter",
         "x": [
          1.9136
         ],
         "y": [
          0.974
         ]
        },
        {
         "hoverinfo": "text",
         "marker": {
          "opacity": 0
         },
         "mode": "markers",
         "text": "Chelsea",
         "type": "scatter",
         "x": [
          1.6368
         ],
         "y": [
          1.754
         ]
        },
        {
         "hoverinfo": "text",
         "marker": {
          "opacity": 0
         },
         "mode": "markers",
         "text": "Crystal Palace",
         "type": "scatter",
         "x": [
          1.6552
         ],
         "y": [
          1.1196
         ]
        },
        {
         "hoverinfo": "text",
         "marker": {
          "opacity": 0
         },
         "mode": "markers",
         "text": "Everton",
         "type": "scatter",
         "x": [
          1.4848
         ],
         "y": [
          1.7488
         ]
        },
        {
         "hoverinfo": "text",
         "marker": {
          "opacity": 0
         },
         "mode": "markers",
         "text": "Fulham",
         "type": "scatter",
         "x": [
          1.8352
         ],
         "y": [
          1.2748
         ]
        },
        {
         "hoverinfo": "text",
         "marker": {
          "opacity": 0
         },
         "mode": "markers",
         "text": "Liverpool",
         "type": "scatter",
         "x": [
          1.274
         ],
         "y": [
          2.1068
         ]
        },
        {
         "hoverinfo": "text",
         "marker": {
          "opacity": 0
         },
         "mode": "markers",
         "text": "Luton Town",
         "type": "scatter",
         "x": [
          2.400833333
         ],
         "y": [
          1.285
         ]
        },
        {
         "hoverinfo": "text",
         "marker": {
          "opacity": 0
         },
         "mode": "markers",
         "text": "Manchester City",
         "type": "scatter",
         "x": [
          1.005
         ],
         "y": [
          2.0775
         ]
        },
        {
         "hoverinfo": "text",
         "marker": {
          "opacity": 0
         },
         "mode": "markers",
         "text": "Manchester Utd",
         "type": "scatter",
         "x": [
          1.782
         ],
         "y": [
          1.526
         ]
        },
        {
         "hoverinfo": "text",
         "marker": {
          "opacity": 0
         },
         "mode": "markers",
         "text": "Newcastle Utd",
         "type": "scatter",
         "x": [
          1.7456
         ],
         "y": [
          1.9856
         ]
        },
        {
         "hoverinfo": "text",
         "marker": {
          "opacity": 0
         },
         "mode": "markers",
         "text": "Nott'ham Forest",
         "type": "scatter",
         "x": [
          1.5056
         ],
         "y": [
          1.1884
         ]
        },
        {
         "hoverinfo": "text",
         "marker": {
          "opacity": 0
         },
         "mode": "markers",
         "text": "Sheffield Utd",
         "type": "scatter",
         "x": [
          2.2812
         ],
         "y": [
          0.8696
         ]
        },
        {
         "hoverinfo": "text",
         "marker": {
          "opacity": 0
         },
         "mode": "markers",
         "text": "Tottenham",
         "type": "scatter",
         "x": [
          1.8284
         ],
         "y": [
          1.8488
         ]
        },
        {
         "hoverinfo": "text",
         "marker": {
          "opacity": 0
         },
         "mode": "markers",
         "text": "West Ham",
         "type": "scatter",
         "x": [
          1.9148
         ],
         "y": [
          1.2796
         ]
        },
        {
         "hoverinfo": "text",
         "marker": {
          "opacity": 0
         },
         "mode": "markers",
         "text": "Wolves",
         "type": "scatter",
         "x": [
          1.8476
         ],
         "y": [
          1.4004
         ]
        }
       ],
       "layout": {
        "annotations": [
         {
          "align": "left",
          "font": {
           "color": "orange",
           "family": "Roboto, sans-serif",
           "size": 15
          },
          "showarrow": false,
          "text": "Low non-penalty expected goals<br>Strong Defending",
          "x": 0,
          "xref": "paper",
          "y": 0,
          "yref": "paper"
         },
         {
          "align": "left",
          "font": {
           "color": "green",
           "family": "Roboto, sans-serif",
           "size": 15
          },
          "showarrow": false,
          "text": "High non-penalty expected goals<br>Strong Defending",
          "x": 0,
          "xref": "paper",
          "y": 1,
          "yref": "paper"
         },
         {
          "align": "right",
          "font": {
           "color": "orange",
           "family": "Roboto, sans-serif",
           "size": 15
          },
          "showarrow": false,
          "text": "High non-penalty expected goals<br>Poor Defending",
          "x": 1,
          "xref": "paper",
          "y": 1,
          "yref": "paper"
         },
         {
          "align": "right",
          "font": {
           "color": "red",
           "family": "Roboto, sans-serif",
           "size": 15
          },
          "showarrow": false,
          "text": "Low non-penalty expected goals<br>Poor Defending",
          "x": 1,
          "xref": "paper",
          "y": 0,
          "yref": "paper"
         }
        ],
        "font": {
         "color": "white",
         "family": "Roboto, sans-serif",
         "size": 25
        },
        "height": 625,
        "hoverlabel": {
         "bgcolor": "rgba(20, 20, 20, 0.8)",
         "font": {
          "family": "Roboto, sans-serif"
         }
        },
        "images": [
         {
          "layer": "above",
          "opacity": 1,
          "sizex": 0.18000000000000002,
          "sizey": 0.18000000000000002,
          "sizing": "contain",
          "source": "https://i.imgur.com/SURo5sj.png",
          "x": 0.868,
          "xanchor": "center",
          "xref": "x",
          "y": 1.9376,
          "yanchor": "middle",
          "yref": "y"
         },
         {
          "layer": "above",
          "opacity": 0.35,
          "sizex": 0.1,
          "sizey": 0.1,
          "sizing": "contain",
          "source": "https://i.imgur.com/M4mwH1X.png",
          "x": 1.5028,
          "xanchor": "center",
          "xref": "x",
          "y": 1.8192,
          "yanchor": "middle",
          "yref": "y"
         },
         {
          "layer": "above",
          "opacity": 0.35,
          "sizex": 0.1,
          "sizey": 0.1,
          "sizing": "contain",
          "source": "https://i.imgur.com/0F6UIO4.png",
          "x": 1.73125,
          "xanchor": "center",
          "xref": "x",
          "y": 1.57,
          "yanchor": "middle",
          "yref": "y"
         },
         {
          "layer": "above",
          "opacity": 0.35,
          "sizex": 0.1,
          "sizey": 0.1,
          "sizing": "contain",
          "source": "https://i.imgur.com/MOhGOQ4.png",
          "x": 1.54625,
          "xanchor": "center",
          "xref": "x",
          "y": 1.684583333,
          "yanchor": "middle",
          "yref": "y"
         },
         {
          "layer": "above",
          "opacity": 0.35,
          "sizex": 0.1,
          "sizey": 0.1,
          "sizing": "contain",
          "source": "https://i.imgur.com/EMCwD3X.png",
          "x": 1.5792,
          "xanchor": "center",
          "xref": "x",
          "y": 1.6804,
          "yanchor": "middle",
          "yref": "y"
         },
         {
          "layer": "above",
          "opacity": 0.35,
          "sizex": 0.1,
          "sizey": 0.1,
          "sizing": "contain",
          "source": "https://i.imgur.com/6IDi9XJ.png",
          "x": 1.9136,
          "xanchor": "center",
          "xref": "x",
          "y": 0.974,
          "yanchor": "middle",
          "yref": "y"
         },
         {
          "layer": "above",
          "opacity": 0.35,
          "sizex": 0.1,
          "sizey": 0.1,
          "sizing": "contain",
          "source": "https://i.imgur.com/6F7h3UR.png",
          "x": 1.6368,
          "xanchor": "center",
          "xref": "x",
          "y": 1.754,
          "yanchor": "middle",
          "yref": "y"
         },
         {
          "layer": "above",
          "opacity": 0.35,
          "sizex": 0.1,
          "sizey": 0.1,
          "sizing": "contain",
          "source": "https://i.imgur.com/LPhzr0K.png",
          "x": 1.6552,
          "xanchor": "center",
          "xref": "x",
          "y": 1.1196,
          "yanchor": "middle",
          "yref": "y"
         },
         {
          "layer": "above",
          "opacity": 0.35,
          "sizex": 0.1,
          "sizey": 0.1,
          "sizing": "contain",
          "source": "https://i.imgur.com/Dgei0uj.png",
          "x": 1.4848,
          "xanchor": "center",
          "xref": "x",
          "y": 1.7488,
          "yanchor": "middle",
          "yref": "y"
         },
         {
          "layer": "above",
          "opacity": 0.35,
          "sizex": 0.1,
          "sizey": 0.1,
          "sizing": "contain",
          "source": "https://i.imgur.com/2zggSrF.png",
          "x": 1.8352,
          "xanchor": "center",
          "xref": "x",
          "y": 1.2748,
          "yanchor": "middle",
          "yref": "y"
         },
         {
          "layer": "above",
          "opacity": 0.35,
          "sizex": 0.1,
          "sizey": 0.1,
          "sizing": "contain",
          "source": "https://i.imgur.com/fs7VK9G.png",
          "x": 1.274,
          "xanchor": "center",
          "xref": "x",
          "y": 2.1068,
          "yanchor": "middle",
          "yref": "y"
         },
         {
          "layer": "above",
          "opacity": 0.35,
          "sizex": 0.1,
          "sizey": 0.1,
          "sizing": "contain",
          "source": "https://i.imgur.com/vHHqKJX.png",
          "x": 2.400833333,
          "xanchor": "center",
          "xref": "x",
          "y": 1.285,
          "yanchor": "middle",
          "yref": "y"
         },
         {
          "layer": "above",
          "opacity": 0.35,
          "sizex": 0.1,
          "sizey": 0.1,
          "sizing": "contain",
          "source": "https://i.imgur.com/FF8z7uZ.png",
          "x": 1.005,
          "xanchor": "center",
          "xref": "x",
          "y": 2.0775,
          "yanchor": "middle",
          "yref": "y"
         },
         {
          "layer": "above",
          "opacity": 0.35,
          "sizex": 0.1,
          "sizey": 0.1,
          "sizing": "contain",
          "source": "https://i.imgur.com/z47emBQ.png",
          "x": 1.782,
          "xanchor": "center",
          "xref": "x",
          "y": 1.526,
          "yanchor": "middle",
          "yref": "y"
         },
         {
          "layer": "above",
          "opacity": 0.35,
          "sizex": 0.1,
          "sizey": 0.1,
          "sizing": "contain",
          "source": "https://i.imgur.com/3kOLokZ.png",
          "x": 1.7456,
          "xanchor": "center",
          "xref": "x",
          "y": 1.9856,
          "yanchor": "middle",
          "yref": "y"
         },
         {
          "layer": "above",
          "opacity": 0.35,
          "sizex": 0.1,
          "sizey": 0.1,
          "sizing": "contain",
          "source": "https://i.imgur.com/z4Tl9Zu.png",
          "x": 1.5056,
          "xanchor": "center",
          "xref": "x",
          "y": 1.1884,
          "yanchor": "middle",
          "yref": "y"
         },
         {
          "layer": "above",
          "opacity": 0.35,
          "sizex": 0.1,
          "sizey": 0.1,
          "sizing": "contain",
          "source": "https://i.imgur.com/eeBetFN.png",
          "x": 2.2812,
          "xanchor": "center",
          "xref": "x",
          "y": 0.8696,
          "yanchor": "middle",
          "yref": "y"
         },
         {
          "layer": "above",
          "opacity": 0.35,
          "sizex": 0.1,
          "sizey": 0.1,
          "sizing": "contain",
          "source": "https://i.imgur.com/fJ7rUWW.png",
          "x": 1.8284,
          "xanchor": "center",
          "xref": "x",
          "y": 1.8488,
          "yanchor": "middle",
          "yref": "y"
         },
         {
          "layer": "above",
          "opacity": 0.35,
          "sizex": 0.1,
          "sizey": 0.1,
          "sizing": "contain",
          "source": "https://i.imgur.com/9BQHJRl.png",
          "x": 1.9148,
          "xanchor": "center",
          "xref": "x",
          "y": 1.2796,
          "yanchor": "middle",
          "yref": "y"
         },
         {
          "layer": "above",
          "opacity": 0.35,
          "sizex": 0.1,
          "sizey": 0.1,
          "sizing": "contain",
          "source": "https://i.imgur.com/6azSF88.png",
          "x": 1.8476,
          "xanchor": "center",
          "xref": "x",
          "y": 1.4004,
          "yanchor": "middle",
          "yref": "y"
         }
        ],
        "margin": {
         "b": 10,
         "l": 10,
         "r": 30,
         "t": 50
        },
        "paper_bgcolor": "rgb(70, 70, 70)",
        "plot_bgcolor": "rgb(70, 70, 70)",
        "shapes": [
         {
          "layer": "below",
          "line": {
           "color": "White",
           "width": 3
          },
          "type": "line",
          "x0": 1.66690666665,
          "x1": 1.66690666665,
          "y0": 0.5,
          "y1": 2.4
         },
         {
          "layer": "below",
          "line": {
           "color": "White",
           "width": 3
          },
          "type": "line",
          "x0": 0.45,
          "x1": 2.6,
          "y0": 1.5565341666499999,
          "y1": 1.5565341666499999
         }
        ],
        "showlegend": false,
        "template": {
         "data": {
          "bar": [
           {
            "error_x": {
             "color": "#2a3f5f"
            },
            "error_y": {
             "color": "#2a3f5f"
            },
            "marker": {
             "line": {
              "color": "#E5ECF6",
              "width": 0.5
             },
             "pattern": {
              "fillmode": "overlay",
              "size": 10,
              "solidity": 0.2
             }
            },
            "type": "bar"
           }
          ],
          "barpolar": [
           {
            "marker": {
             "line": {
              "color": "#E5ECF6",
              "width": 0.5
             },
             "pattern": {
              "fillmode": "overlay",
              "size": 10,
              "solidity": 0.2
             }
            },
            "type": "barpolar"
           }
          ],
          "carpet": [
           {
            "aaxis": {
             "endlinecolor": "#2a3f5f",
             "gridcolor": "white",
             "linecolor": "white",
             "minorgridcolor": "white",
             "startlinecolor": "#2a3f5f"
            },
            "baxis": {
             "endlinecolor": "#2a3f5f",
             "gridcolor": "white",
             "linecolor": "white",
             "minorgridcolor": "white",
             "startlinecolor": "#2a3f5f"
            },
            "type": "carpet"
           }
          ],
          "choropleth": [
           {
            "colorbar": {
             "outlinewidth": 0,
             "ticks": ""
            },
            "type": "choropleth"
           }
          ],
          "contour": [
           {
            "colorbar": {
             "outlinewidth": 0,
             "ticks": ""
            },
            "colorscale": [
             [
              0,
              "#0d0887"
             ],
             [
              0.1111111111111111,
              "#46039f"
             ],
             [
              0.2222222222222222,
              "#7201a8"
             ],
             [
              0.3333333333333333,
              "#9c179e"
             ],
             [
              0.4444444444444444,
              "#bd3786"
             ],
             [
              0.5555555555555556,
              "#d8576b"
             ],
             [
              0.6666666666666666,
              "#ed7953"
             ],
             [
              0.7777777777777778,
              "#fb9f3a"
             ],
             [
              0.8888888888888888,
              "#fdca26"
             ],
             [
              1,
              "#f0f921"
             ]
            ],
            "type": "contour"
           }
          ],
          "contourcarpet": [
           {
            "colorbar": {
             "outlinewidth": 0,
             "ticks": ""
            },
            "type": "contourcarpet"
           }
          ],
          "heatmap": [
           {
            "colorbar": {
             "outlinewidth": 0,
             "ticks": ""
            },
            "colorscale": [
             [
              0,
              "#0d0887"
             ],
             [
              0.1111111111111111,
              "#46039f"
             ],
             [
              0.2222222222222222,
              "#7201a8"
             ],
             [
              0.3333333333333333,
              "#9c179e"
             ],
             [
              0.4444444444444444,
              "#bd3786"
             ],
             [
              0.5555555555555556,
              "#d8576b"
             ],
             [
              0.6666666666666666,
              "#ed7953"
             ],
             [
              0.7777777777777778,
              "#fb9f3a"
             ],
             [
              0.8888888888888888,
              "#fdca26"
             ],
             [
              1,
              "#f0f921"
             ]
            ],
            "type": "heatmap"
           }
          ],
          "heatmapgl": [
           {
            "colorbar": {
             "outlinewidth": 0,
             "ticks": ""
            },
            "colorscale": [
             [
              0,
              "#0d0887"
             ],
             [
              0.1111111111111111,
              "#46039f"
             ],
             [
              0.2222222222222222,
              "#7201a8"
             ],
             [
              0.3333333333333333,
              "#9c179e"
             ],
             [
              0.4444444444444444,
              "#bd3786"
             ],
             [
              0.5555555555555556,
              "#d8576b"
             ],
             [
              0.6666666666666666,
              "#ed7953"
             ],
             [
              0.7777777777777778,
              "#fb9f3a"
             ],
             [
              0.8888888888888888,
              "#fdca26"
             ],
             [
              1,
              "#f0f921"
             ]
            ],
            "type": "heatmapgl"
           }
          ],
          "histogram": [
           {
            "marker": {
             "pattern": {
              "fillmode": "overlay",
              "size": 10,
              "solidity": 0.2
             }
            },
            "type": "histogram"
           }
          ],
          "histogram2d": [
           {
            "colorbar": {
             "outlinewidth": 0,
             "ticks": ""
            },
            "colorscale": [
             [
              0,
              "#0d0887"
             ],
             [
              0.1111111111111111,
              "#46039f"
             ],
             [
              0.2222222222222222,
              "#7201a8"
             ],
             [
              0.3333333333333333,
              "#9c179e"
             ],
             [
              0.4444444444444444,
              "#bd3786"
             ],
             [
              0.5555555555555556,
              "#d8576b"
             ],
             [
              0.6666666666666666,
              "#ed7953"
             ],
             [
              0.7777777777777778,
              "#fb9f3a"
             ],
             [
              0.8888888888888888,
              "#fdca26"
             ],
             [
              1,
              "#f0f921"
             ]
            ],
            "type": "histogram2d"
           }
          ],
          "histogram2dcontour": [
           {
            "colorbar": {
             "outlinewidth": 0,
             "ticks": ""
            },
            "colorscale": [
             [
              0,
              "#0d0887"
             ],
             [
              0.1111111111111111,
              "#46039f"
             ],
             [
              0.2222222222222222,
              "#7201a8"
             ],
             [
              0.3333333333333333,
              "#9c179e"
             ],
             [
              0.4444444444444444,
              "#bd3786"
             ],
             [
              0.5555555555555556,
              "#d8576b"
             ],
             [
              0.6666666666666666,
              "#ed7953"
             ],
             [
              0.7777777777777778,
              "#fb9f3a"
             ],
             [
              0.8888888888888888,
              "#fdca26"
             ],
             [
              1,
              "#f0f921"
             ]
            ],
            "type": "histogram2dcontour"
           }
          ],
          "mesh3d": [
           {
            "colorbar": {
             "outlinewidth": 0,
             "ticks": ""
            },
            "type": "mesh3d"
           }
          ],
          "parcoords": [
           {
            "line": {
             "colorbar": {
              "outlinewidth": 0,
              "ticks": ""
             }
            },
            "type": "parcoords"
           }
          ],
          "pie": [
           {
            "automargin": true,
            "type": "pie"
           }
          ],
          "scatter": [
           {
            "fillpattern": {
             "fillmode": "overlay",
             "size": 10,
             "solidity": 0.2
            },
            "type": "scatter"
           }
          ],
          "scatter3d": [
           {
            "line": {
             "colorbar": {
              "outlinewidth": 0,
              "ticks": ""
             }
            },
            "marker": {
             "colorbar": {
              "outlinewidth": 0,
              "ticks": ""
             }
            },
            "type": "scatter3d"
           }
          ],
          "scattercarpet": [
           {
            "marker": {
             "colorbar": {
              "outlinewidth": 0,
              "ticks": ""
             }
            },
            "type": "scattercarpet"
           }
          ],
          "scattergeo": [
           {
            "marker": {
             "colorbar": {
              "outlinewidth": 0,
              "ticks": ""
             }
            },
            "type": "scattergeo"
           }
          ],
          "scattergl": [
           {
            "marker": {
             "colorbar": {
              "outlinewidth": 0,
              "ticks": ""
             }
            },
            "type": "scattergl"
           }
          ],
          "scattermapbox": [
           {
            "marker": {
             "colorbar": {
              "outlinewidth": 0,
              "ticks": ""
             }
            },
            "type": "scattermapbox"
           }
          ],
          "scatterpolar": [
           {
            "marker": {
             "colorbar": {
              "outlinewidth": 0,
              "ticks": ""
             }
            },
            "type": "scatterpolar"
           }
          ],
          "scatterpolargl": [
           {
            "marker": {
             "colorbar": {
              "outlinewidth": 0,
              "ticks": ""
             }
            },
            "type": "scatterpolargl"
           }
          ],
          "scatterternary": [
           {
            "marker": {
             "colorbar": {
              "outlinewidth": 0,
              "ticks": ""
             }
            },
            "type": "scatterternary"
           }
          ],
          "surface": [
           {
            "colorbar": {
             "outlinewidth": 0,
             "ticks": ""
            },
            "colorscale": [
             [
              0,
              "#0d0887"
             ],
             [
              0.1111111111111111,
              "#46039f"
             ],
             [
              0.2222222222222222,
              "#7201a8"
             ],
             [
              0.3333333333333333,
              "#9c179e"
             ],
             [
              0.4444444444444444,
              "#bd3786"
             ],
             [
              0.5555555555555556,
              "#d8576b"
             ],
             [
              0.6666666666666666,
              "#ed7953"
             ],
             [
              0.7777777777777778,
              "#fb9f3a"
             ],
             [
              0.8888888888888888,
              "#fdca26"
             ],
             [
              1,
              "#f0f921"
             ]
            ],
            "type": "surface"
           }
          ],
          "table": [
           {
            "cells": {
             "fill": {
              "color": "#EBF0F8"
             },
             "line": {
              "color": "white"
             }
            },
            "header": {
             "fill": {
              "color": "#C8D4E3"
             },
             "line": {
              "color": "white"
             }
            },
            "type": "table"
           }
          ]
         },
         "layout": {
          "annotationdefaults": {
           "arrowcolor": "#2a3f5f",
           "arrowhead": 0,
           "arrowwidth": 1
          },
          "autotypenumbers": "strict",
          "coloraxis": {
           "colorbar": {
            "outlinewidth": 0,
            "ticks": ""
           }
          },
          "colorscale": {
           "diverging": [
            [
             0,
             "#8e0152"
            ],
            [
             0.1,
             "#c51b7d"
            ],
            [
             0.2,
             "#de77ae"
            ],
            [
             0.3,
             "#f1b6da"
            ],
            [
             0.4,
             "#fde0ef"
            ],
            [
             0.5,
             "#f7f7f7"
            ],
            [
             0.6,
             "#e6f5d0"
            ],
            [
             0.7,
             "#b8e186"
            ],
            [
             0.8,
             "#7fbc41"
            ],
            [
             0.9,
             "#4d9221"
            ],
            [
             1,
             "#276419"
            ]
           ],
           "sequential": [
            [
             0,
             "#0d0887"
            ],
            [
             0.1111111111111111,
             "#46039f"
            ],
            [
             0.2222222222222222,
             "#7201a8"
            ],
            [
             0.3333333333333333,
             "#9c179e"
            ],
            [
             0.4444444444444444,
             "#bd3786"
            ],
            [
             0.5555555555555556,
             "#d8576b"
            ],
            [
             0.6666666666666666,
             "#ed7953"
            ],
            [
             0.7777777777777778,
             "#fb9f3a"
            ],
            [
             0.8888888888888888,
             "#fdca26"
            ],
            [
             1,
             "#f0f921"
            ]
           ],
           "sequentialminus": [
            [
             0,
             "#0d0887"
            ],
            [
             0.1111111111111111,
             "#46039f"
            ],
            [
             0.2222222222222222,
             "#7201a8"
            ],
            [
             0.3333333333333333,
             "#9c179e"
            ],
            [
             0.4444444444444444,
             "#bd3786"
            ],
            [
             0.5555555555555556,
             "#d8576b"
            ],
            [
             0.6666666666666666,
             "#ed7953"
            ],
            [
             0.7777777777777778,
             "#fb9f3a"
            ],
            [
             0.8888888888888888,
             "#fdca26"
            ],
            [
             1,
             "#f0f921"
            ]
           ]
          },
          "colorway": [
           "#636efa",
           "#EF553B",
           "#00cc96",
           "#ab63fa",
           "#FFA15A",
           "#19d3f3",
           "#FF6692",
           "#B6E880",
           "#FF97FF",
           "#FECB52"
          ],
          "font": {
           "color": "#2a3f5f"
          },
          "geo": {
           "bgcolor": "white",
           "lakecolor": "white",
           "landcolor": "#E5ECF6",
           "showlakes": true,
           "showland": true,
           "subunitcolor": "white"
          },
          "hoverlabel": {
           "align": "left"
          },
          "hovermode": "closest",
          "mapbox": {
           "style": "light"
          },
          "paper_bgcolor": "white",
          "plot_bgcolor": "#E5ECF6",
          "polar": {
           "angularaxis": {
            "gridcolor": "white",
            "linecolor": "white",
            "ticks": ""
           },
           "bgcolor": "#E5ECF6",
           "radialaxis": {
            "gridcolor": "white",
            "linecolor": "white",
            "ticks": ""
           }
          },
          "scene": {
           "xaxis": {
            "backgroundcolor": "#E5ECF6",
            "gridcolor": "white",
            "gridwidth": 2,
            "linecolor": "white",
            "showbackground": true,
            "ticks": "",
            "zerolinecolor": "white"
           },
           "yaxis": {
            "backgroundcolor": "#E5ECF6",
            "gridcolor": "white",
            "gridwidth": 2,
            "linecolor": "white",
            "showbackground": true,
            "ticks": "",
            "zerolinecolor": "white"
           },
           "zaxis": {
            "backgroundcolor": "#E5ECF6",
            "gridcolor": "white",
            "gridwidth": 2,
            "linecolor": "white",
            "showbackground": true,
            "ticks": "",
            "zerolinecolor": "white"
           }
          },
          "shapedefaults": {
           "line": {
            "color": "#2a3f5f"
           }
          },
          "ternary": {
           "aaxis": {
            "gridcolor": "white",
            "linecolor": "white",
            "ticks": ""
           },
           "baxis": {
            "gridcolor": "white",
            "linecolor": "white",
            "ticks": ""
           },
           "bgcolor": "#E5ECF6",
           "caxis": {
            "gridcolor": "white",
            "linecolor": "white",
            "ticks": ""
           }
          },
          "title": {
           "x": 0.05
          },
          "xaxis": {
           "automargin": true,
           "gridcolor": "white",
           "linecolor": "white",
           "ticks": "",
           "title": {
            "standoff": 15
           },
           "zerolinecolor": "white",
           "zerolinewidth": 2
          },
          "yaxis": {
           "automargin": true,
           "gridcolor": "white",
           "linecolor": "white",
           "ticks": "",
           "title": {
            "standoff": 15
           },
           "zerolinecolor": "white",
           "zerolinewidth": 2
          }
         }
        },
        "title": {
         "font": {
          "color": "white",
          "family": "Roboto, sans-serif",
          "size": 23
         },
         "text": "GOAL OUTPUT",
         "x": 0.5,
         "xanchor": "center",
         "y": 0.98,
         "yanchor": "top"
        },
        "width": 625,
        "xaxis": {
         "gridcolor": "rgba(0,0,0,0)",
         "linecolor": "white",
         "linewidth": 2,
         "range": [
          0.45,
          2.6
         ],
         "showline": true,
         "tickfont": {
          "color": "white",
          "size": 15
         },
         "title": {
          "font": {
           "size": 25
          },
          "text": "EXPECTED GOALS AGAINST PER GAME"
         }
        },
        "yaxis": {
         "gridcolor": "rgba(0,0,0,0)",
         "linecolor": "white",
         "linewidth": 2,
         "range": [
          0.5,
          2.4
         ],
         "showline": true,
         "tickfont": {
          "color": "white",
          "size": 15
         },
         "title": {
          "font": {
           "size": 25
          },
          "text": "NON PENALTY EXPECTED GOALS PER GAME"
         }
        }
       }
      }
     },
     "metadata": {},
     "output_type": "display_data"
    }
   ],
   "source": [
    "create_FM_team_scatter_chart(filtered_team_goal_output, 'GOAL OUTPUT', \"Arsenal\", 'EXPECTED GOALS AGAINST PER GAME', 'NON PENALTY EXPECTED GOALS PER GAME', \n",
    "                            0.1, x_min_goal_output, x_max_goal_output, y_min_goal_output, y_max_goal_output, \n",
    "                            \"Low non-penalty expected goals<br>Strong Defending\", \"Low non-penalty expected goals<br>Poor Defending\",\n",
    "                            \"High non-penalty expected goals<br>Strong Defending\", \"High non-penalty expected goals<br>Poor Defending\", \n",
    "                            \"orange\", \"red\", \"green\", \"orange\")"
   ]
  },
  {
   "cell_type": "code",
   "execution_count": 53,
   "metadata": {},
   "outputs": [
    {
     "data": {
      "application/vnd.plotly.v1+json": {
       "config": {
        "plotlyServerURL": "https://plotly.com"
       },
       "data": [
        {
         "hoverinfo": "text",
         "marker": {
          "opacity": 0
         },
         "mode": "markers",
         "text": "Arsenal",
         "type": "scatter",
         "x": [
          13
         ],
         "y": [
          11.44
         ]
        },
        {
         "hoverinfo": "text",
         "marker": {
          "opacity": 0
         },
         "mode": "markers",
         "text": "Aston Villa",
         "type": "scatter",
         "x": [
          15.44
         ],
         "y": [
          10.08
         ]
        },
        {
         "hoverinfo": "text",
         "marker": {
          "opacity": 0
         },
         "mode": "markers",
         "text": "Bournemouth",
         "type": "scatter",
         "x": [
          20.5
         ],
         "y": [
          12.916666667
         ]
        },
        {
         "hoverinfo": "text",
         "marker": {
          "opacity": 0
         },
         "mode": "markers",
         "text": "Brentford",
         "type": "scatter",
         "x": [
          24.25
         ],
         "y": [
          11.541666667
         ]
        },
        {
         "hoverinfo": "text",
         "marker": {
          "opacity": 0
         },
         "mode": "markers",
         "text": "Brighton",
         "type": "scatter",
         "x": [
          15.64
         ],
         "y": [
          11.36
         ]
        },
        {
         "hoverinfo": "text",
         "marker": {
          "opacity": 0
         },
         "mode": "markers",
         "text": "Burnley",
         "type": "scatter",
         "x": [
          22.16
         ],
         "y": [
          12.76
         ]
        },
        {
         "hoverinfo": "text",
         "marker": {
          "opacity": 0
         },
         "mode": "markers",
         "text": "Chelsea",
         "type": "scatter",
         "x": [
          20.36
         ],
         "y": [
          12.16
         ]
        },
        {
         "hoverinfo": "text",
         "marker": {
          "opacity": 0
         },
         "mode": "markers",
         "text": "Crystal Palace",
         "type": "scatter",
         "x": [
          24.48
         ],
         "y": [
          11.6
         ]
        },
        {
         "hoverinfo": "text",
         "marker": {
          "opacity": 0
         },
         "mode": "markers",
         "text": "Everton",
         "type": "scatter",
         "x": [
          22.36
         ],
         "y": [
          12.52
         ]
        },
        {
         "hoverinfo": "text",
         "marker": {
          "opacity": 0
         },
         "mode": "markers",
         "text": "Fulham",
         "type": "scatter",
         "x": [
          19.72
         ],
         "y": [
          11.52
         ]
        },
        {
         "hoverinfo": "text",
         "marker": {
          "opacity": 0
         },
         "mode": "markers",
         "text": "Liverpool",
         "type": "scatter",
         "x": [
          16.72
         ],
         "y": [
          12.32
         ]
        },
        {
         "hoverinfo": "text",
         "marker": {
          "opacity": 0
         },
         "mode": "markers",
         "text": "Luton Town",
         "type": "scatter",
         "x": [
          24.375
         ],
         "y": [
          13
         ]
        },
        {
         "hoverinfo": "text",
         "marker": {
          "opacity": 0
         },
         "mode": "markers",
         "text": "Manchester City",
         "type": "scatter",
         "x": [
          12.958333333
         ],
         "y": [
          8.958333333
         ]
        },
        {
         "hoverinfo": "text",
         "marker": {
          "opacity": 0
         },
         "mode": "markers",
         "text": "Manchester Utd",
         "type": "scatter",
         "x": [
          23
         ],
         "y": [
          13.4
         ]
        },
        {
         "hoverinfo": "text",
         "marker": {
          "opacity": 0
         },
         "mode": "markers",
         "text": "Newcastle Utd",
         "type": "scatter",
         "x": [
          17.84
         ],
         "y": [
          12.8
         ]
        },
        {
         "hoverinfo": "text",
         "marker": {
          "opacity": 0
         },
         "mode": "markers",
         "text": "Nott'ham Forest",
         "type": "scatter",
         "x": [
          27.92
         ],
         "y": [
          12.88
         ]
        },
        {
         "hoverinfo": "text",
         "marker": {
          "opacity": 0
         },
         "mode": "markers",
         "text": "Sheffield Utd",
         "type": "scatter",
         "x": [
          28.36
         ],
         "y": [
          13.84
         ]
        },
        {
         "hoverinfo": "text",
         "marker": {
          "opacity": 0
         },
         "mode": "markers",
         "text": "Tottenham",
         "type": "scatter",
         "x": [
          20.84
         ],
         "y": [
          11.92
         ]
        },
        {
         "hoverinfo": "text",
         "marker": {
          "opacity": 0
         },
         "mode": "markers",
         "text": "West Ham",
         "type": "scatter",
         "x": [
          24.28
         ],
         "y": [
          12.88
         ]
        },
        {
         "hoverinfo": "text",
         "marker": {
          "opacity": 0
         },
         "mode": "markers",
         "text": "Wolves",
         "type": "scatter",
         "x": [
          22.6
         ],
         "y": [
          13.4
         ]
        }
       ],
       "layout": {
        "annotations": [
         {
          "align": "left",
          "font": {
           "color": "red",
           "family": "Roboto, sans-serif",
           "size": 15
          },
          "showarrow": false,
          "text": "Fewer blocks<br>Fewer Clearances",
          "x": 0,
          "xref": "paper",
          "y": 0,
          "yref": "paper"
         },
         {
          "align": "left",
          "font": {
           "color": "orange",
           "family": "Roboto, sans-serif",
           "size": 15
          },
          "showarrow": false,
          "text": "Lots of blocks<br>Fewer Clearances",
          "x": 0,
          "xref": "paper",
          "y": 1,
          "yref": "paper"
         },
         {
          "align": "right",
          "font": {
           "color": "green",
           "family": "Roboto, sans-serif",
           "size": 15
          },
          "showarrow": false,
          "text": "Fewer blocks<br>Lots of Clearances",
          "x": 1,
          "xref": "paper",
          "y": 1,
          "yref": "paper"
         },
         {
          "align": "right",
          "font": {
           "color": "orange",
           "family": "Roboto, sans-serif",
           "size": 15
          },
          "showarrow": false,
          "text": "Fewer blocks<br>Lots of Clearances",
          "x": 1,
          "xref": "paper",
          "y": 0,
          "yref": "paper"
         }
        ],
        "font": {
         "color": "white",
         "family": "Roboto, sans-serif",
         "size": 25
        },
        "height": 625,
        "hoverlabel": {
         "bgcolor": "rgba(20, 20, 20, 0.8)",
         "font": {
          "family": "Roboto, sans-serif"
         }
        },
        "images": [
         {
          "layer": "above",
          "opacity": 1,
          "sizex": 1.1700000000000002,
          "sizey": 1.1700000000000002,
          "sizing": "contain",
          "source": "https://i.imgur.com/SURo5sj.png",
          "x": 13,
          "xanchor": "center",
          "xref": "x",
          "y": 11.44,
          "yanchor": "middle",
          "yref": "y"
         },
         {
          "layer": "above",
          "opacity": 0.35,
          "sizex": 0.65,
          "sizey": 0.65,
          "sizing": "contain",
          "source": "https://i.imgur.com/M4mwH1X.png",
          "x": 15.44,
          "xanchor": "center",
          "xref": "x",
          "y": 10.08,
          "yanchor": "middle",
          "yref": "y"
         },
         {
          "layer": "above",
          "opacity": 0.35,
          "sizex": 0.65,
          "sizey": 0.65,
          "sizing": "contain",
          "source": "https://i.imgur.com/0F6UIO4.png",
          "x": 20.5,
          "xanchor": "center",
          "xref": "x",
          "y": 12.916666667,
          "yanchor": "middle",
          "yref": "y"
         },
         {
          "layer": "above",
          "opacity": 0.35,
          "sizex": 0.65,
          "sizey": 0.65,
          "sizing": "contain",
          "source": "https://i.imgur.com/MOhGOQ4.png",
          "x": 24.25,
          "xanchor": "center",
          "xref": "x",
          "y": 11.541666667,
          "yanchor": "middle",
          "yref": "y"
         },
         {
          "layer": "above",
          "opacity": 0.35,
          "sizex": 0.65,
          "sizey": 0.65,
          "sizing": "contain",
          "source": "https://i.imgur.com/EMCwD3X.png",
          "x": 15.64,
          "xanchor": "center",
          "xref": "x",
          "y": 11.36,
          "yanchor": "middle",
          "yref": "y"
         },
         {
          "layer": "above",
          "opacity": 0.35,
          "sizex": 0.65,
          "sizey": 0.65,
          "sizing": "contain",
          "source": "https://i.imgur.com/6IDi9XJ.png",
          "x": 22.16,
          "xanchor": "center",
          "xref": "x",
          "y": 12.76,
          "yanchor": "middle",
          "yref": "y"
         },
         {
          "layer": "above",
          "opacity": 0.35,
          "sizex": 0.65,
          "sizey": 0.65,
          "sizing": "contain",
          "source": "https://i.imgur.com/6F7h3UR.png",
          "x": 20.36,
          "xanchor": "center",
          "xref": "x",
          "y": 12.16,
          "yanchor": "middle",
          "yref": "y"
         },
         {
          "layer": "above",
          "opacity": 0.35,
          "sizex": 0.65,
          "sizey": 0.65,
          "sizing": "contain",
          "source": "https://i.imgur.com/LPhzr0K.png",
          "x": 24.48,
          "xanchor": "center",
          "xref": "x",
          "y": 11.6,
          "yanchor": "middle",
          "yref": "y"
         },
         {
          "layer": "above",
          "opacity": 0.35,
          "sizex": 0.65,
          "sizey": 0.65,
          "sizing": "contain",
          "source": "https://i.imgur.com/Dgei0uj.png",
          "x": 22.36,
          "xanchor": "center",
          "xref": "x",
          "y": 12.52,
          "yanchor": "middle",
          "yref": "y"
         },
         {
          "layer": "above",
          "opacity": 0.35,
          "sizex": 0.65,
          "sizey": 0.65,
          "sizing": "contain",
          "source": "https://i.imgur.com/2zggSrF.png",
          "x": 19.72,
          "xanchor": "center",
          "xref": "x",
          "y": 11.52,
          "yanchor": "middle",
          "yref": "y"
         },
         {
          "layer": "above",
          "opacity": 0.35,
          "sizex": 0.65,
          "sizey": 0.65,
          "sizing": "contain",
          "source": "https://i.imgur.com/fs7VK9G.png",
          "x": 16.72,
          "xanchor": "center",
          "xref": "x",
          "y": 12.32,
          "yanchor": "middle",
          "yref": "y"
         },
         {
          "layer": "above",
          "opacity": 0.35,
          "sizex": 0.65,
          "sizey": 0.65,
          "sizing": "contain",
          "source": "https://i.imgur.com/vHHqKJX.png",
          "x": 24.375,
          "xanchor": "center",
          "xref": "x",
          "y": 13,
          "yanchor": "middle",
          "yref": "y"
         },
         {
          "layer": "above",
          "opacity": 0.35,
          "sizex": 0.65,
          "sizey": 0.65,
          "sizing": "contain",
          "source": "https://i.imgur.com/FF8z7uZ.png",
          "x": 12.958333333,
          "xanchor": "center",
          "xref": "x",
          "y": 8.958333333,
          "yanchor": "middle",
          "yref": "y"
         },
         {
          "layer": "above",
          "opacity": 0.35,
          "sizex": 0.65,
          "sizey": 0.65,
          "sizing": "contain",
          "source": "https://i.imgur.com/z47emBQ.png",
          "x": 23,
          "xanchor": "center",
          "xref": "x",
          "y": 13.4,
          "yanchor": "middle",
          "yref": "y"
         },
         {
          "layer": "above",
          "opacity": 0.35,
          "sizex": 0.65,
          "sizey": 0.65,
          "sizing": "contain",
          "source": "https://i.imgur.com/3kOLokZ.png",
          "x": 17.84,
          "xanchor": "center",
          "xref": "x",
          "y": 12.8,
          "yanchor": "middle",
          "yref": "y"
         },
         {
          "layer": "above",
          "opacity": 0.35,
          "sizex": 0.65,
          "sizey": 0.65,
          "sizing": "contain",
          "source": "https://i.imgur.com/z4Tl9Zu.png",
          "x": 27.92,
          "xanchor": "center",
          "xref": "x",
          "y": 12.88,
          "yanchor": "middle",
          "yref": "y"
         },
         {
          "layer": "above",
          "opacity": 0.35,
          "sizex": 0.65,
          "sizey": 0.65,
          "sizing": "contain",
          "source": "https://i.imgur.com/eeBetFN.png",
          "x": 28.36,
          "xanchor": "center",
          "xref": "x",
          "y": 13.84,
          "yanchor": "middle",
          "yref": "y"
         },
         {
          "layer": "above",
          "opacity": 0.35,
          "sizex": 0.65,
          "sizey": 0.65,
          "sizing": "contain",
          "source": "https://i.imgur.com/fJ7rUWW.png",
          "x": 20.84,
          "xanchor": "center",
          "xref": "x",
          "y": 11.92,
          "yanchor": "middle",
          "yref": "y"
         },
         {
          "layer": "above",
          "opacity": 0.35,
          "sizex": 0.65,
          "sizey": 0.65,
          "sizing": "contain",
          "source": "https://i.imgur.com/9BQHJRl.png",
          "x": 24.28,
          "xanchor": "center",
          "xref": "x",
          "y": 12.88,
          "yanchor": "middle",
          "yref": "y"
         },
         {
          "layer": "above",
          "opacity": 0.35,
          "sizex": 0.65,
          "sizey": 0.65,
          "sizing": "contain",
          "source": "https://i.imgur.com/6azSF88.png",
          "x": 22.6,
          "xanchor": "center",
          "xref": "x",
          "y": 13.4,
          "yanchor": "middle",
          "yref": "y"
         }
        ],
        "margin": {
         "b": 10,
         "l": 10,
         "r": 30,
         "t": 50
        },
        "paper_bgcolor": "rgb(70, 70, 70)",
        "plot_bgcolor": "rgb(70, 70, 70)",
        "shapes": [
         {
          "layer": "below",
          "line": {
           "color": "White",
           "width": 3
          },
          "type": "line",
          "x0": 20.840166666650003,
          "x1": 20.840166666650003,
          "y0": 7.5,
          "y1": 13.5
         },
         {
          "layer": "below",
          "line": {
           "color": "White",
           "width": 3
          },
          "type": "line",
          "x0": 10,
          "x1": 26,
          "y0": 12.16483333335,
          "y1": 12.16483333335
         }
        ],
        "showlegend": false,
        "template": {
         "data": {
          "bar": [
           {
            "error_x": {
             "color": "#2a3f5f"
            },
            "error_y": {
             "color": "#2a3f5f"
            },
            "marker": {
             "line": {
              "color": "#E5ECF6",
              "width": 0.5
             },
             "pattern": {
              "fillmode": "overlay",
              "size": 10,
              "solidity": 0.2
             }
            },
            "type": "bar"
           }
          ],
          "barpolar": [
           {
            "marker": {
             "line": {
              "color": "#E5ECF6",
              "width": 0.5
             },
             "pattern": {
              "fillmode": "overlay",
              "size": 10,
              "solidity": 0.2
             }
            },
            "type": "barpolar"
           }
          ],
          "carpet": [
           {
            "aaxis": {
             "endlinecolor": "#2a3f5f",
             "gridcolor": "white",
             "linecolor": "white",
             "minorgridcolor": "white",
             "startlinecolor": "#2a3f5f"
            },
            "baxis": {
             "endlinecolor": "#2a3f5f",
             "gridcolor": "white",
             "linecolor": "white",
             "minorgridcolor": "white",
             "startlinecolor": "#2a3f5f"
            },
            "type": "carpet"
           }
          ],
          "choropleth": [
           {
            "colorbar": {
             "outlinewidth": 0,
             "ticks": ""
            },
            "type": "choropleth"
           }
          ],
          "contour": [
           {
            "colorbar": {
             "outlinewidth": 0,
             "ticks": ""
            },
            "colorscale": [
             [
              0,
              "#0d0887"
             ],
             [
              0.1111111111111111,
              "#46039f"
             ],
             [
              0.2222222222222222,
              "#7201a8"
             ],
             [
              0.3333333333333333,
              "#9c179e"
             ],
             [
              0.4444444444444444,
              "#bd3786"
             ],
             [
              0.5555555555555556,
              "#d8576b"
             ],
             [
              0.6666666666666666,
              "#ed7953"
             ],
             [
              0.7777777777777778,
              "#fb9f3a"
             ],
             [
              0.8888888888888888,
              "#fdca26"
             ],
             [
              1,
              "#f0f921"
             ]
            ],
            "type": "contour"
           }
          ],
          "contourcarpet": [
           {
            "colorbar": {
             "outlinewidth": 0,
             "ticks": ""
            },
            "type": "contourcarpet"
           }
          ],
          "heatmap": [
           {
            "colorbar": {
             "outlinewidth": 0,
             "ticks": ""
            },
            "colorscale": [
             [
              0,
              "#0d0887"
             ],
             [
              0.1111111111111111,
              "#46039f"
             ],
             [
              0.2222222222222222,
              "#7201a8"
             ],
             [
              0.3333333333333333,
              "#9c179e"
             ],
             [
              0.4444444444444444,
              "#bd3786"
             ],
             [
              0.5555555555555556,
              "#d8576b"
             ],
             [
              0.6666666666666666,
              "#ed7953"
             ],
             [
              0.7777777777777778,
              "#fb9f3a"
             ],
             [
              0.8888888888888888,
              "#fdca26"
             ],
             [
              1,
              "#f0f921"
             ]
            ],
            "type": "heatmap"
           }
          ],
          "heatmapgl": [
           {
            "colorbar": {
             "outlinewidth": 0,
             "ticks": ""
            },
            "colorscale": [
             [
              0,
              "#0d0887"
             ],
             [
              0.1111111111111111,
              "#46039f"
             ],
             [
              0.2222222222222222,
              "#7201a8"
             ],
             [
              0.3333333333333333,
              "#9c179e"
             ],
             [
              0.4444444444444444,
              "#bd3786"
             ],
             [
              0.5555555555555556,
              "#d8576b"
             ],
             [
              0.6666666666666666,
              "#ed7953"
             ],
             [
              0.7777777777777778,
              "#fb9f3a"
             ],
             [
              0.8888888888888888,
              "#fdca26"
             ],
             [
              1,
              "#f0f921"
             ]
            ],
            "type": "heatmapgl"
           }
          ],
          "histogram": [
           {
            "marker": {
             "pattern": {
              "fillmode": "overlay",
              "size": 10,
              "solidity": 0.2
             }
            },
            "type": "histogram"
           }
          ],
          "histogram2d": [
           {
            "colorbar": {
             "outlinewidth": 0,
             "ticks": ""
            },
            "colorscale": [
             [
              0,
              "#0d0887"
             ],
             [
              0.1111111111111111,
              "#46039f"
             ],
             [
              0.2222222222222222,
              "#7201a8"
             ],
             [
              0.3333333333333333,
              "#9c179e"
             ],
             [
              0.4444444444444444,
              "#bd3786"
             ],
             [
              0.5555555555555556,
              "#d8576b"
             ],
             [
              0.6666666666666666,
              "#ed7953"
             ],
             [
              0.7777777777777778,
              "#fb9f3a"
             ],
             [
              0.8888888888888888,
              "#fdca26"
             ],
             [
              1,
              "#f0f921"
             ]
            ],
            "type": "histogram2d"
           }
          ],
          "histogram2dcontour": [
           {
            "colorbar": {
             "outlinewidth": 0,
             "ticks": ""
            },
            "colorscale": [
             [
              0,
              "#0d0887"
             ],
             [
              0.1111111111111111,
              "#46039f"
             ],
             [
              0.2222222222222222,
              "#7201a8"
             ],
             [
              0.3333333333333333,
              "#9c179e"
             ],
             [
              0.4444444444444444,
              "#bd3786"
             ],
             [
              0.5555555555555556,
              "#d8576b"
             ],
             [
              0.6666666666666666,
              "#ed7953"
             ],
             [
              0.7777777777777778,
              "#fb9f3a"
             ],
             [
              0.8888888888888888,
              "#fdca26"
             ],
             [
              1,
              "#f0f921"
             ]
            ],
            "type": "histogram2dcontour"
           }
          ],
          "mesh3d": [
           {
            "colorbar": {
             "outlinewidth": 0,
             "ticks": ""
            },
            "type": "mesh3d"
           }
          ],
          "parcoords": [
           {
            "line": {
             "colorbar": {
              "outlinewidth": 0,
              "ticks": ""
             }
            },
            "type": "parcoords"
           }
          ],
          "pie": [
           {
            "automargin": true,
            "type": "pie"
           }
          ],
          "scatter": [
           {
            "fillpattern": {
             "fillmode": "overlay",
             "size": 10,
             "solidity": 0.2
            },
            "type": "scatter"
           }
          ],
          "scatter3d": [
           {
            "line": {
             "colorbar": {
              "outlinewidth": 0,
              "ticks": ""
             }
            },
            "marker": {
             "colorbar": {
              "outlinewidth": 0,
              "ticks": ""
             }
            },
            "type": "scatter3d"
           }
          ],
          "scattercarpet": [
           {
            "marker": {
             "colorbar": {
              "outlinewidth": 0,
              "ticks": ""
             }
            },
            "type": "scattercarpet"
           }
          ],
          "scattergeo": [
           {
            "marker": {
             "colorbar": {
              "outlinewidth": 0,
              "ticks": ""
             }
            },
            "type": "scattergeo"
           }
          ],
          "scattergl": [
           {
            "marker": {
             "colorbar": {
              "outlinewidth": 0,
              "ticks": ""
             }
            },
            "type": "scattergl"
           }
          ],
          "scattermapbox": [
           {
            "marker": {
             "colorbar": {
              "outlinewidth": 0,
              "ticks": ""
             }
            },
            "type": "scattermapbox"
           }
          ],
          "scatterpolar": [
           {
            "marker": {
             "colorbar": {
              "outlinewidth": 0,
              "ticks": ""
             }
            },
            "type": "scatterpolar"
           }
          ],
          "scatterpolargl": [
           {
            "marker": {
             "colorbar": {
              "outlinewidth": 0,
              "ticks": ""
             }
            },
            "type": "scatterpolargl"
           }
          ],
          "scatterternary": [
           {
            "marker": {
             "colorbar": {
              "outlinewidth": 0,
              "ticks": ""
             }
            },
            "type": "scatterternary"
           }
          ],
          "surface": [
           {
            "colorbar": {
             "outlinewidth": 0,
             "ticks": ""
            },
            "colorscale": [
             [
              0,
              "#0d0887"
             ],
             [
              0.1111111111111111,
              "#46039f"
             ],
             [
              0.2222222222222222,
              "#7201a8"
             ],
             [
              0.3333333333333333,
              "#9c179e"
             ],
             [
              0.4444444444444444,
              "#bd3786"
             ],
             [
              0.5555555555555556,
              "#d8576b"
             ],
             [
              0.6666666666666666,
              "#ed7953"
             ],
             [
              0.7777777777777778,
              "#fb9f3a"
             ],
             [
              0.8888888888888888,
              "#fdca26"
             ],
             [
              1,
              "#f0f921"
             ]
            ],
            "type": "surface"
           }
          ],
          "table": [
           {
            "cells": {
             "fill": {
              "color": "#EBF0F8"
             },
             "line": {
              "color": "white"
             }
            },
            "header": {
             "fill": {
              "color": "#C8D4E3"
             },
             "line": {
              "color": "white"
             }
            },
            "type": "table"
           }
          ]
         },
         "layout": {
          "annotationdefaults": {
           "arrowcolor": "#2a3f5f",
           "arrowhead": 0,
           "arrowwidth": 1
          },
          "autotypenumbers": "strict",
          "coloraxis": {
           "colorbar": {
            "outlinewidth": 0,
            "ticks": ""
           }
          },
          "colorscale": {
           "diverging": [
            [
             0,
             "#8e0152"
            ],
            [
             0.1,
             "#c51b7d"
            ],
            [
             0.2,
             "#de77ae"
            ],
            [
             0.3,
             "#f1b6da"
            ],
            [
             0.4,
             "#fde0ef"
            ],
            [
             0.5,
             "#f7f7f7"
            ],
            [
             0.6,
             "#e6f5d0"
            ],
            [
             0.7,
             "#b8e186"
            ],
            [
             0.8,
             "#7fbc41"
            ],
            [
             0.9,
             "#4d9221"
            ],
            [
             1,
             "#276419"
            ]
           ],
           "sequential": [
            [
             0,
             "#0d0887"
            ],
            [
             0.1111111111111111,
             "#46039f"
            ],
            [
             0.2222222222222222,
             "#7201a8"
            ],
            [
             0.3333333333333333,
             "#9c179e"
            ],
            [
             0.4444444444444444,
             "#bd3786"
            ],
            [
             0.5555555555555556,
             "#d8576b"
            ],
            [
             0.6666666666666666,
             "#ed7953"
            ],
            [
             0.7777777777777778,
             "#fb9f3a"
            ],
            [
             0.8888888888888888,
             "#fdca26"
            ],
            [
             1,
             "#f0f921"
            ]
           ],
           "sequentialminus": [
            [
             0,
             "#0d0887"
            ],
            [
             0.1111111111111111,
             "#46039f"
            ],
            [
             0.2222222222222222,
             "#7201a8"
            ],
            [
             0.3333333333333333,
             "#9c179e"
            ],
            [
             0.4444444444444444,
             "#bd3786"
            ],
            [
             0.5555555555555556,
             "#d8576b"
            ],
            [
             0.6666666666666666,
             "#ed7953"
            ],
            [
             0.7777777777777778,
             "#fb9f3a"
            ],
            [
             0.8888888888888888,
             "#fdca26"
            ],
            [
             1,
             "#f0f921"
            ]
           ]
          },
          "colorway": [
           "#636efa",
           "#EF553B",
           "#00cc96",
           "#ab63fa",
           "#FFA15A",
           "#19d3f3",
           "#FF6692",
           "#B6E880",
           "#FF97FF",
           "#FECB52"
          ],
          "font": {
           "color": "#2a3f5f"
          },
          "geo": {
           "bgcolor": "white",
           "lakecolor": "white",
           "landcolor": "#E5ECF6",
           "showlakes": true,
           "showland": true,
           "subunitcolor": "white"
          },
          "hoverlabel": {
           "align": "left"
          },
          "hovermode": "closest",
          "mapbox": {
           "style": "light"
          },
          "paper_bgcolor": "white",
          "plot_bgcolor": "#E5ECF6",
          "polar": {
           "angularaxis": {
            "gridcolor": "white",
            "linecolor": "white",
            "ticks": ""
           },
           "bgcolor": "#E5ECF6",
           "radialaxis": {
            "gridcolor": "white",
            "linecolor": "white",
            "ticks": ""
           }
          },
          "scene": {
           "xaxis": {
            "backgroundcolor": "#E5ECF6",
            "gridcolor": "white",
            "gridwidth": 2,
            "linecolor": "white",
            "showbackground": true,
            "ticks": "",
            "zerolinecolor": "white"
           },
           "yaxis": {
            "backgroundcolor": "#E5ECF6",
            "gridcolor": "white",
            "gridwidth": 2,
            "linecolor": "white",
            "showbackground": true,
            "ticks": "",
            "zerolinecolor": "white"
           },
           "zaxis": {
            "backgroundcolor": "#E5ECF6",
            "gridcolor": "white",
            "gridwidth": 2,
            "linecolor": "white",
            "showbackground": true,
            "ticks": "",
            "zerolinecolor": "white"
           }
          },
          "shapedefaults": {
           "line": {
            "color": "#2a3f5f"
           }
          },
          "ternary": {
           "aaxis": {
            "gridcolor": "white",
            "linecolor": "white",
            "ticks": ""
           },
           "baxis": {
            "gridcolor": "white",
            "linecolor": "white",
            "ticks": ""
           },
           "bgcolor": "#E5ECF6",
           "caxis": {
            "gridcolor": "white",
            "linecolor": "white",
            "ticks": ""
           }
          },
          "title": {
           "x": 0.05
          },
          "xaxis": {
           "automargin": true,
           "gridcolor": "white",
           "linecolor": "white",
           "ticks": "",
           "title": {
            "standoff": 15
           },
           "zerolinecolor": "white",
           "zerolinewidth": 2
          },
          "yaxis": {
           "automargin": true,
           "gridcolor": "white",
           "linecolor": "white",
           "ticks": "",
           "title": {
            "standoff": 15
           },
           "zerolinecolor": "white",
           "zerolinewidth": 2
          }
         }
        },
        "title": {
         "font": {
          "color": "white",
          "family": "Roboto, sans-serif",
          "size": 23
         },
         "text": "DEFENDING",
         "x": 0.5,
         "xanchor": "center",
         "y": 0.98,
         "yanchor": "top"
        },
        "width": 625,
        "xaxis": {
         "gridcolor": "rgba(0,0,0,0)",
         "linecolor": "white",
         "linewidth": 2,
         "range": [
          10,
          26
         ],
         "showline": true,
         "tickfont": {
          "color": "white",
          "size": 15
         },
         "title": {
          "font": {
           "size": 25
          },
          "text": "CLEARANCES PER GAME"
         }
        },
        "yaxis": {
         "gridcolor": "rgba(0,0,0,0)",
         "linecolor": "white",
         "linewidth": 2,
         "range": [
          7.5,
          13.5
         ],
         "showline": true,
         "tickfont": {
          "color": "white",
          "size": 15
         },
         "title": {
          "font": {
           "size": 25
          },
          "text": "BLOCKS PER GAME"
         }
        }
       }
      }
     },
     "metadata": {},
     "output_type": "display_data"
    }
   ],
   "source": [
    "create_FM_team_scatter_chart(filtered_team_defending_chart, 'DEFENDING', \"Arsenal\", 'CLEARANCES PER GAME', 'BLOCKS PER GAME', \n",
    "                            0.65, 10, 26, 7.5, 13.5, \n",
    "                            \"Fewer blocks<br>Fewer Clearances\", \"Fewer blocks<br>Lots of Clearances\",\n",
    "                            \"Lots of blocks<br>Fewer Clearances\", \"Fewer blocks<br>Lots of Clearances\", \n",
    "                            \"red\", \"orange\", \"orange\", \"green\")"
   ]
  },
  {
   "cell_type": "code",
   "execution_count": 54,
   "metadata": {},
   "outputs": [
    {
     "data": {
      "application/vnd.plotly.v1+json": {
       "config": {
        "plotlyServerURL": "https://plotly.com"
       },
       "data": [
        {
         "hoverinfo": "text",
         "marker": {
          "opacity": 0
         },
         "mode": "markers",
         "text": "Arsenal",
         "type": "scatter",
         "x": [
          10.280373832
         ],
         "y": [
          8.56
         ]
        },
        {
         "hoverinfo": "text",
         "marker": {
          "opacity": 0
         },
         "mode": "markers",
         "text": "Aston Villa",
         "type": "scatter",
         "x": [
          12.406015038
         ],
         "y": [
          10.64
         ]
        },
        {
         "hoverinfo": "text",
         "marker": {
          "opacity": 0
         },
         "mode": "markers",
         "text": "Bournemouth",
         "type": "scatter",
         "x": [
          13.48973607
         ],
         "y": [
          14.208333333
         ]
        },
        {
         "hoverinfo": "text",
         "marker": {
          "opacity": 0
         },
         "mode": "markers",
         "text": "Brentford",
         "type": "scatter",
         "x": [
          12.797619048
         ],
         "y": [
          14
         ]
        },
        {
         "hoverinfo": "text",
         "marker": {
          "opacity": 0
         },
         "mode": "markers",
         "text": "Brighton",
         "type": "scatter",
         "x": [
          13.513513514
         ],
         "y": [
          11.84
         ]
        },
        {
         "hoverinfo": "text",
         "marker": {
          "opacity": 0
         },
         "mode": "markers",
         "text": "Burnley",
         "type": "scatter",
         "x": [
          14.435695538
         ],
         "y": [
          15.24
         ]
        },
        {
         "hoverinfo": "text",
         "marker": {
          "opacity": 0
         },
         "mode": "markers",
         "text": "Chelsea",
         "type": "scatter",
         "x": [
          11.849710983
         ],
         "y": [
          13.84
         ]
        },
        {
         "hoverinfo": "text",
         "marker": {
          "opacity": 0
         },
         "mode": "markers",
         "text": "Crystal Palace",
         "type": "scatter",
         "x": [
          13.664596273
         ],
         "y": [
          12.88
         ]
        },
        {
         "hoverinfo": "text",
         "marker": {
          "opacity": 0
         },
         "mode": "markers",
         "text": "Everton",
         "type": "scatter",
         "x": [
          9.821428571
         ],
         "y": [
          13.44
         ]
        },
        {
         "hoverinfo": "text",
         "marker": {
          "opacity": 0
         },
         "mode": "markers",
         "text": "Fulham",
         "type": "scatter",
         "x": [
          11.988304094
         ],
         "y": [
          13.68
         ]
        },
        {
         "hoverinfo": "text",
         "marker": {
          "opacity": 0
         },
         "mode": "markers",
         "text": "Liverpool",
         "type": "scatter",
         "x": [
          8.602150538
         ],
         "y": [
          11.16
         ]
        },
        {
         "hoverinfo": "text",
         "marker": {
          "opacity": 0
         },
         "mode": "markers",
         "text": "Luton Town",
         "type": "scatter",
         "x": [
          11.838790932
         ],
         "y": [
          16.541666667
         ]
        },
        {
         "hoverinfo": "text",
         "marker": {
          "opacity": 0
         },
         "mode": "markers",
         "text": "Manchester City",
         "type": "scatter",
         "x": [
          13.756613757
         ],
         "y": [
          7.875
         ]
        },
        {
         "hoverinfo": "text",
         "marker": {
          "opacity": 0
         },
         "mode": "markers",
         "text": "Manchester Utd",
         "type": "scatter",
         "x": [
          8.564231738
         ],
         "y": [
          15.88
         ]
        },
        {
         "hoverinfo": "text",
         "marker": {
          "opacity": 0
         },
         "mode": "markers",
         "text": "Newcastle Utd",
         "type": "scatter",
         "x": [
          11.747851003
         ],
         "y": [
          13.96
         ]
        },
        {
         "hoverinfo": "text",
         "marker": {
          "opacity": 0
         },
         "mode": "markers",
         "text": "Nott'ham Forest",
         "type": "scatter",
         "x": [
          13.538461538
         ],
         "y": [
          13
         ]
        },
        {
         "hoverinfo": "text",
         "marker": {
          "opacity": 0
         },
         "mode": "markers",
         "text": "Sheffield Utd",
         "type": "scatter",
         "x": [
          15.11627907
         ],
         "y": [
          17.2
         ]
        },
        {
         "hoverinfo": "text",
         "marker": {
          "opacity": 0
         },
         "mode": "markers",
         "text": "Tottenham",
         "type": "scatter",
         "x": [
          11.550151976
         ],
         "y": [
          13.16
         ]
        },
        {
         "hoverinfo": "text",
         "marker": {
          "opacity": 0
         },
         "mode": "markers",
         "text": "West Ham",
         "type": "scatter",
         "x": [
          10.628019324
         ],
         "y": [
          16.56
         ]
        },
        {
         "hoverinfo": "text",
         "marker": {
          "opacity": 0
         },
         "mode": "markers",
         "text": "Wolves",
         "type": "scatter",
         "x": [
          11.560693642
         ],
         "y": [
          13.84
         ]
        }
       ],
       "layout": {
        "annotations": [
         {
          "align": "left",
          "font": {
           "color": "green",
           "family": "Roboto, sans-serif",
           "size": 15
          },
          "showarrow": false,
          "text": "Quiet defence<br>Impenetrable defence",
          "x": 0,
          "xref": "paper",
          "y": 0,
          "yref": "paper"
         },
         {
          "align": "left",
          "font": {
           "color": "orange",
           "family": "Roboto, sans-serif",
           "size": 15
          },
          "showarrow": false,
          "text": "Busy defence<br>Impenetrable defence",
          "x": 0,
          "xref": "paper",
          "y": 1,
          "yref": "paper"
         },
         {
          "align": "right",
          "font": {
           "color": "red",
           "family": "Roboto, sans-serif",
           "size": 15
          },
          "showarrow": false,
          "text": "Busy defence<br>Leaky defence",
          "x": 1,
          "xref": "paper",
          "y": 1,
          "yref": "paper"
         },
         {
          "align": "right",
          "font": {
           "color": "orange",
           "family": "Roboto, sans-serif",
           "size": 15
          },
          "showarrow": false,
          "text": "Quiet defence<br>Leaky defence",
          "x": 1,
          "xref": "paper",
          "y": 0,
          "yref": "paper"
         }
        ],
        "font": {
         "color": "white",
         "family": "Roboto, sans-serif",
         "size": 25
        },
        "height": 625,
        "hoverlabel": {
         "bgcolor": "rgba(20, 20, 20, 0.8)",
         "font": {
          "family": "Roboto, sans-serif"
         }
        },
        "images": [
         {
          "layer": "above",
          "opacity": 1,
          "sizex": 1.1700000000000002,
          "sizey": 1.1700000000000002,
          "sizing": "contain",
          "source": "https://i.imgur.com/SURo5sj.png",
          "x": 10.280373832,
          "xanchor": "center",
          "xref": "x",
          "y": 8.56,
          "yanchor": "middle",
          "yref": "y"
         },
         {
          "layer": "above",
          "opacity": 0.35,
          "sizex": 0.65,
          "sizey": 0.65,
          "sizing": "contain",
          "source": "https://i.imgur.com/M4mwH1X.png",
          "x": 12.406015038,
          "xanchor": "center",
          "xref": "x",
          "y": 10.64,
          "yanchor": "middle",
          "yref": "y"
         },
         {
          "layer": "above",
          "opacity": 0.35,
          "sizex": 0.65,
          "sizey": 0.65,
          "sizing": "contain",
          "source": "https://i.imgur.com/0F6UIO4.png",
          "x": 13.48973607,
          "xanchor": "center",
          "xref": "x",
          "y": 14.208333333,
          "yanchor": "middle",
          "yref": "y"
         },
         {
          "layer": "above",
          "opacity": 0.35,
          "sizex": 0.65,
          "sizey": 0.65,
          "sizing": "contain",
          "source": "https://i.imgur.com/MOhGOQ4.png",
          "x": 12.797619048,
          "xanchor": "center",
          "xref": "x",
          "y": 14,
          "yanchor": "middle",
          "yref": "y"
         },
         {
          "layer": "above",
          "opacity": 0.35,
          "sizex": 0.65,
          "sizey": 0.65,
          "sizing": "contain",
          "source": "https://i.imgur.com/EMCwD3X.png",
          "x": 13.513513514,
          "xanchor": "center",
          "xref": "x",
          "y": 11.84,
          "yanchor": "middle",
          "yref": "y"
         },
         {
          "layer": "above",
          "opacity": 0.35,
          "sizex": 0.65,
          "sizey": 0.65,
          "sizing": "contain",
          "source": "https://i.imgur.com/6IDi9XJ.png",
          "x": 14.435695538,
          "xanchor": "center",
          "xref": "x",
          "y": 15.24,
          "yanchor": "middle",
          "yref": "y"
         },
         {
          "layer": "above",
          "opacity": 0.35,
          "sizex": 0.65,
          "sizey": 0.65,
          "sizing": "contain",
          "source": "https://i.imgur.com/6F7h3UR.png",
          "x": 11.849710983,
          "xanchor": "center",
          "xref": "x",
          "y": 13.84,
          "yanchor": "middle",
          "yref": "y"
         },
         {
          "layer": "above",
          "opacity": 0.35,
          "sizex": 0.65,
          "sizey": 0.65,
          "sizing": "contain",
          "source": "https://i.imgur.com/LPhzr0K.png",
          "x": 13.664596273,
          "xanchor": "center",
          "xref": "x",
          "y": 12.88,
          "yanchor": "middle",
          "yref": "y"
         },
         {
          "layer": "above",
          "opacity": 0.35,
          "sizex": 0.65,
          "sizey": 0.65,
          "sizing": "contain",
          "source": "https://i.imgur.com/Dgei0uj.png",
          "x": 9.821428571,
          "xanchor": "center",
          "xref": "x",
          "y": 13.44,
          "yanchor": "middle",
          "yref": "y"
         },
         {
          "layer": "above",
          "opacity": 0.35,
          "sizex": 0.65,
          "sizey": 0.65,
          "sizing": "contain",
          "source": "https://i.imgur.com/2zggSrF.png",
          "x": 11.988304094,
          "xanchor": "center",
          "xref": "x",
          "y": 13.68,
          "yanchor": "middle",
          "yref": "y"
         },
         {
          "layer": "above",
          "opacity": 0.35,
          "sizex": 0.65,
          "sizey": 0.65,
          "sizing": "contain",
          "source": "https://i.imgur.com/fs7VK9G.png",
          "x": 8.602150538,
          "xanchor": "center",
          "xref": "x",
          "y": 11.16,
          "yanchor": "middle",
          "yref": "y"
         },
         {
          "layer": "above",
          "opacity": 0.35,
          "sizex": 0.65,
          "sizey": 0.65,
          "sizing": "contain",
          "source": "https://i.imgur.com/vHHqKJX.png",
          "x": 11.838790932,
          "xanchor": "center",
          "xref": "x",
          "y": 16.541666667,
          "yanchor": "middle",
          "yref": "y"
         },
         {
          "layer": "above",
          "opacity": 0.35,
          "sizex": 0.65,
          "sizey": 0.65,
          "sizing": "contain",
          "source": "https://i.imgur.com/FF8z7uZ.png",
          "x": 13.756613757,
          "xanchor": "center",
          "xref": "x",
          "y": 7.875,
          "yanchor": "middle",
          "yref": "y"
         },
         {
          "layer": "above",
          "opacity": 0.35,
          "sizex": 0.65,
          "sizey": 0.65,
          "sizing": "contain",
          "source": "https://i.imgur.com/z47emBQ.png",
          "x": 8.564231738,
          "xanchor": "center",
          "xref": "x",
          "y": 15.88,
          "yanchor": "middle",
          "yref": "y"
         },
         {
          "layer": "above",
          "opacity": 0.35,
          "sizex": 0.65,
          "sizey": 0.65,
          "sizing": "contain",
          "source": "https://i.imgur.com/3kOLokZ.png",
          "x": 11.747851003,
          "xanchor": "center",
          "xref": "x",
          "y": 13.96,
          "yanchor": "middle",
          "yref": "y"
         },
         {
          "layer": "above",
          "opacity": 0.35,
          "sizex": 0.65,
          "sizey": 0.65,
          "sizing": "contain",
          "source": "https://i.imgur.com/z4Tl9Zu.png",
          "x": 13.538461538,
          "xanchor": "center",
          "xref": "x",
          "y": 13,
          "yanchor": "middle",
          "yref": "y"
         },
         {
          "layer": "above",
          "opacity": 0.35,
          "sizex": 0.65,
          "sizey": 0.65,
          "sizing": "contain",
          "source": "https://i.imgur.com/eeBetFN.png",
          "x": 15.11627907,
          "xanchor": "center",
          "xref": "x",
          "y": 17.2,
          "yanchor": "middle",
          "yref": "y"
         },
         {
          "layer": "above",
          "opacity": 0.35,
          "sizex": 0.65,
          "sizey": 0.65,
          "sizing": "contain",
          "source": "https://i.imgur.com/fJ7rUWW.png",
          "x": 11.550151976,
          "xanchor": "center",
          "xref": "x",
          "y": 13.16,
          "yanchor": "middle",
          "yref": "y"
         },
         {
          "layer": "above",
          "opacity": 0.35,
          "sizex": 0.65,
          "sizey": 0.65,
          "sizing": "contain",
          "source": "https://i.imgur.com/9BQHJRl.png",
          "x": 10.628019324,
          "xanchor": "center",
          "xref": "x",
          "y": 16.56,
          "yanchor": "middle",
          "yref": "y"
         },
         {
          "layer": "above",
          "opacity": 0.35,
          "sizex": 0.65,
          "sizey": 0.65,
          "sizing": "contain",
          "source": "https://i.imgur.com/6azSF88.png",
          "x": 11.560693642,
          "xanchor": "center",
          "xref": "x",
          "y": 13.84,
          "yanchor": "middle",
          "yref": "y"
         }
        ],
        "margin": {
         "b": 10,
         "l": 10,
         "r": 30,
         "t": 50
        },
        "paper_bgcolor": "rgb(70, 70, 70)",
        "plot_bgcolor": "rgb(70, 70, 70)",
        "shapes": [
         {
          "layer": "below",
          "line": {
           "color": "White",
           "width": 3
          },
          "type": "line",
          "x0": 12.057511823949998,
          "x1": 12.057511823949998,
          "y0": 5.5,
          "y1": 17
         },
         {
          "layer": "below",
          "line": {
           "color": "White",
           "width": 3
          },
          "type": "line",
          "x0": 7.5,
          "x1": 18,
          "y0": 13.37525,
          "y1": 13.37525
         }
        ],
        "showlegend": false,
        "template": {
         "data": {
          "bar": [
           {
            "error_x": {
             "color": "#2a3f5f"
            },
            "error_y": {
             "color": "#2a3f5f"
            },
            "marker": {
             "line": {
              "color": "#E5ECF6",
              "width": 0.5
             },
             "pattern": {
              "fillmode": "overlay",
              "size": 10,
              "solidity": 0.2
             }
            },
            "type": "bar"
           }
          ],
          "barpolar": [
           {
            "marker": {
             "line": {
              "color": "#E5ECF6",
              "width": 0.5
             },
             "pattern": {
              "fillmode": "overlay",
              "size": 10,
              "solidity": 0.2
             }
            },
            "type": "barpolar"
           }
          ],
          "carpet": [
           {
            "aaxis": {
             "endlinecolor": "#2a3f5f",
             "gridcolor": "white",
             "linecolor": "white",
             "minorgridcolor": "white",
             "startlinecolor": "#2a3f5f"
            },
            "baxis": {
             "endlinecolor": "#2a3f5f",
             "gridcolor": "white",
             "linecolor": "white",
             "minorgridcolor": "white",
             "startlinecolor": "#2a3f5f"
            },
            "type": "carpet"
           }
          ],
          "choropleth": [
           {
            "colorbar": {
             "outlinewidth": 0,
             "ticks": ""
            },
            "type": "choropleth"
           }
          ],
          "contour": [
           {
            "colorbar": {
             "outlinewidth": 0,
             "ticks": ""
            },
            "colorscale": [
             [
              0,
              "#0d0887"
             ],
             [
              0.1111111111111111,
              "#46039f"
             ],
             [
              0.2222222222222222,
              "#7201a8"
             ],
             [
              0.3333333333333333,
              "#9c179e"
             ],
             [
              0.4444444444444444,
              "#bd3786"
             ],
             [
              0.5555555555555556,
              "#d8576b"
             ],
             [
              0.6666666666666666,
              "#ed7953"
             ],
             [
              0.7777777777777778,
              "#fb9f3a"
             ],
             [
              0.8888888888888888,
              "#fdca26"
             ],
             [
              1,
              "#f0f921"
             ]
            ],
            "type": "contour"
           }
          ],
          "contourcarpet": [
           {
            "colorbar": {
             "outlinewidth": 0,
             "ticks": ""
            },
            "type": "contourcarpet"
           }
          ],
          "heatmap": [
           {
            "colorbar": {
             "outlinewidth": 0,
             "ticks": ""
            },
            "colorscale": [
             [
              0,
              "#0d0887"
             ],
             [
              0.1111111111111111,
              "#46039f"
             ],
             [
              0.2222222222222222,
              "#7201a8"
             ],
             [
              0.3333333333333333,
              "#9c179e"
             ],
             [
              0.4444444444444444,
              "#bd3786"
             ],
             [
              0.5555555555555556,
              "#d8576b"
             ],
             [
              0.6666666666666666,
              "#ed7953"
             ],
             [
              0.7777777777777778,
              "#fb9f3a"
             ],
             [
              0.8888888888888888,
              "#fdca26"
             ],
             [
              1,
              "#f0f921"
             ]
            ],
            "type": "heatmap"
           }
          ],
          "heatmapgl": [
           {
            "colorbar": {
             "outlinewidth": 0,
             "ticks": ""
            },
            "colorscale": [
             [
              0,
              "#0d0887"
             ],
             [
              0.1111111111111111,
              "#46039f"
             ],
             [
              0.2222222222222222,
              "#7201a8"
             ],
             [
              0.3333333333333333,
              "#9c179e"
             ],
             [
              0.4444444444444444,
              "#bd3786"
             ],
             [
              0.5555555555555556,
              "#d8576b"
             ],
             [
              0.6666666666666666,
              "#ed7953"
             ],
             [
              0.7777777777777778,
              "#fb9f3a"
             ],
             [
              0.8888888888888888,
              "#fdca26"
             ],
             [
              1,
              "#f0f921"
             ]
            ],
            "type": "heatmapgl"
           }
          ],
          "histogram": [
           {
            "marker": {
             "pattern": {
              "fillmode": "overlay",
              "size": 10,
              "solidity": 0.2
             }
            },
            "type": "histogram"
           }
          ],
          "histogram2d": [
           {
            "colorbar": {
             "outlinewidth": 0,
             "ticks": ""
            },
            "colorscale": [
             [
              0,
              "#0d0887"
             ],
             [
              0.1111111111111111,
              "#46039f"
             ],
             [
              0.2222222222222222,
              "#7201a8"
             ],
             [
              0.3333333333333333,
              "#9c179e"
             ],
             [
              0.4444444444444444,
              "#bd3786"
             ],
             [
              0.5555555555555556,
              "#d8576b"
             ],
             [
              0.6666666666666666,
              "#ed7953"
             ],
             [
              0.7777777777777778,
              "#fb9f3a"
             ],
             [
              0.8888888888888888,
              "#fdca26"
             ],
             [
              1,
              "#f0f921"
             ]
            ],
            "type": "histogram2d"
           }
          ],
          "histogram2dcontour": [
           {
            "colorbar": {
             "outlinewidth": 0,
             "ticks": ""
            },
            "colorscale": [
             [
              0,
              "#0d0887"
             ],
             [
              0.1111111111111111,
              "#46039f"
             ],
             [
              0.2222222222222222,
              "#7201a8"
             ],
             [
              0.3333333333333333,
              "#9c179e"
             ],
             [
              0.4444444444444444,
              "#bd3786"
             ],
             [
              0.5555555555555556,
              "#d8576b"
             ],
             [
              0.6666666666666666,
              "#ed7953"
             ],
             [
              0.7777777777777778,
              "#fb9f3a"
             ],
             [
              0.8888888888888888,
              "#fdca26"
             ],
             [
              1,
              "#f0f921"
             ]
            ],
            "type": "histogram2dcontour"
           }
          ],
          "mesh3d": [
           {
            "colorbar": {
             "outlinewidth": 0,
             "ticks": ""
            },
            "type": "mesh3d"
           }
          ],
          "parcoords": [
           {
            "line": {
             "colorbar": {
              "outlinewidth": 0,
              "ticks": ""
             }
            },
            "type": "parcoords"
           }
          ],
          "pie": [
           {
            "automargin": true,
            "type": "pie"
           }
          ],
          "scatter": [
           {
            "fillpattern": {
             "fillmode": "overlay",
             "size": 10,
             "solidity": 0.2
            },
            "type": "scatter"
           }
          ],
          "scatter3d": [
           {
            "line": {
             "colorbar": {
              "outlinewidth": 0,
              "ticks": ""
             }
            },
            "marker": {
             "colorbar": {
              "outlinewidth": 0,
              "ticks": ""
             }
            },
            "type": "scatter3d"
           }
          ],
          "scattercarpet": [
           {
            "marker": {
             "colorbar": {
              "outlinewidth": 0,
              "ticks": ""
             }
            },
            "type": "scattercarpet"
           }
          ],
          "scattergeo": [
           {
            "marker": {
             "colorbar": {
              "outlinewidth": 0,
              "ticks": ""
             }
            },
            "type": "scattergeo"
           }
          ],
          "scattergl": [
           {
            "marker": {
             "colorbar": {
              "outlinewidth": 0,
              "ticks": ""
             }
            },
            "type": "scattergl"
           }
          ],
          "scattermapbox": [
           {
            "marker": {
             "colorbar": {
              "outlinewidth": 0,
              "ticks": ""
             }
            },
            "type": "scattermapbox"
           }
          ],
          "scatterpolar": [
           {
            "marker": {
             "colorbar": {
              "outlinewidth": 0,
              "ticks": ""
             }
            },
            "type": "scatterpolar"
           }
          ],
          "scatterpolargl": [
           {
            "marker": {
             "colorbar": {
              "outlinewidth": 0,
              "ticks": ""
             }
            },
            "type": "scatterpolargl"
           }
          ],
          "scatterternary": [
           {
            "marker": {
             "colorbar": {
              "outlinewidth": 0,
              "ticks": ""
             }
            },
            "type": "scatterternary"
           }
          ],
          "surface": [
           {
            "colorbar": {
             "outlinewidth": 0,
             "ticks": ""
            },
            "colorscale": [
             [
              0,
              "#0d0887"
             ],
             [
              0.1111111111111111,
              "#46039f"
             ],
             [
              0.2222222222222222,
              "#7201a8"
             ],
             [
              0.3333333333333333,
              "#9c179e"
             ],
             [
              0.4444444444444444,
              "#bd3786"
             ],
             [
              0.5555555555555556,
              "#d8576b"
             ],
             [
              0.6666666666666666,
              "#ed7953"
             ],
             [
              0.7777777777777778,
              "#fb9f3a"
             ],
             [
              0.8888888888888888,
              "#fdca26"
             ],
             [
              1,
              "#f0f921"
             ]
            ],
            "type": "surface"
           }
          ],
          "table": [
           {
            "cells": {
             "fill": {
              "color": "#EBF0F8"
             },
             "line": {
              "color": "white"
             }
            },
            "header": {
             "fill": {
              "color": "#C8D4E3"
             },
             "line": {
              "color": "white"
             }
            },
            "type": "table"
           }
          ]
         },
         "layout": {
          "annotationdefaults": {
           "arrowcolor": "#2a3f5f",
           "arrowhead": 0,
           "arrowwidth": 1
          },
          "autotypenumbers": "strict",
          "coloraxis": {
           "colorbar": {
            "outlinewidth": 0,
            "ticks": ""
           }
          },
          "colorscale": {
           "diverging": [
            [
             0,
             "#8e0152"
            ],
            [
             0.1,
             "#c51b7d"
            ],
            [
             0.2,
             "#de77ae"
            ],
            [
             0.3,
             "#f1b6da"
            ],
            [
             0.4,
             "#fde0ef"
            ],
            [
             0.5,
             "#f7f7f7"
            ],
            [
             0.6,
             "#e6f5d0"
            ],
            [
             0.7,
             "#b8e186"
            ],
            [
             0.8,
             "#7fbc41"
            ],
            [
             0.9,
             "#4d9221"
            ],
            [
             1,
             "#276419"
            ]
           ],
           "sequential": [
            [
             0,
             "#0d0887"
            ],
            [
             0.1111111111111111,
             "#46039f"
            ],
            [
             0.2222222222222222,
             "#7201a8"
            ],
            [
             0.3333333333333333,
             "#9c179e"
            ],
            [
             0.4444444444444444,
             "#bd3786"
            ],
            [
             0.5555555555555556,
             "#d8576b"
            ],
            [
             0.6666666666666666,
             "#ed7953"
            ],
            [
             0.7777777777777778,
             "#fb9f3a"
            ],
            [
             0.8888888888888888,
             "#fdca26"
            ],
            [
             1,
             "#f0f921"
            ]
           ],
           "sequentialminus": [
            [
             0,
             "#0d0887"
            ],
            [
             0.1111111111111111,
             "#46039f"
            ],
            [
             0.2222222222222222,
             "#7201a8"
            ],
            [
             0.3333333333333333,
             "#9c179e"
            ],
            [
             0.4444444444444444,
             "#bd3786"
            ],
            [
             0.5555555555555556,
             "#d8576b"
            ],
            [
             0.6666666666666666,
             "#ed7953"
            ],
            [
             0.7777777777777778,
             "#fb9f3a"
            ],
            [
             0.8888888888888888,
             "#fdca26"
            ],
            [
             1,
             "#f0f921"
            ]
           ]
          },
          "colorway": [
           "#636efa",
           "#EF553B",
           "#00cc96",
           "#ab63fa",
           "#FFA15A",
           "#19d3f3",
           "#FF6692",
           "#B6E880",
           "#FF97FF",
           "#FECB52"
          ],
          "font": {
           "color": "#2a3f5f"
          },
          "geo": {
           "bgcolor": "white",
           "lakecolor": "white",
           "landcolor": "#E5ECF6",
           "showlakes": true,
           "showland": true,
           "subunitcolor": "white"
          },
          "hoverlabel": {
           "align": "left"
          },
          "hovermode": "closest",
          "mapbox": {
           "style": "light"
          },
          "paper_bgcolor": "white",
          "plot_bgcolor": "#E5ECF6",
          "polar": {
           "angularaxis": {
            "gridcolor": "white",
            "linecolor": "white",
            "ticks": ""
           },
           "bgcolor": "#E5ECF6",
           "radialaxis": {
            "gridcolor": "white",
            "linecolor": "white",
            "ticks": ""
           }
          },
          "scene": {
           "xaxis": {
            "backgroundcolor": "#E5ECF6",
            "gridcolor": "white",
            "gridwidth": 2,
            "linecolor": "white",
            "showbackground": true,
            "ticks": "",
            "zerolinecolor": "white"
           },
           "yaxis": {
            "backgroundcolor": "#E5ECF6",
            "gridcolor": "white",
            "gridwidth": 2,
            "linecolor": "white",
            "showbackground": true,
            "ticks": "",
            "zerolinecolor": "white"
           },
           "zaxis": {
            "backgroundcolor": "#E5ECF6",
            "gridcolor": "white",
            "gridwidth": 2,
            "linecolor": "white",
            "showbackground": true,
            "ticks": "",
            "zerolinecolor": "white"
           }
          },
          "shapedefaults": {
           "line": {
            "color": "#2a3f5f"
           }
          },
          "ternary": {
           "aaxis": {
            "gridcolor": "white",
            "linecolor": "white",
            "ticks": ""
           },
           "baxis": {
            "gridcolor": "white",
            "linecolor": "white",
            "ticks": ""
           },
           "bgcolor": "#E5ECF6",
           "caxis": {
            "gridcolor": "white",
            "linecolor": "white",
            "ticks": ""
           }
          },
          "title": {
           "x": 0.05
          },
          "xaxis": {
           "automargin": true,
           "gridcolor": "white",
           "linecolor": "white",
           "ticks": "",
           "title": {
            "standoff": 15
           },
           "zerolinecolor": "white",
           "zerolinewidth": 2
          },
          "yaxis": {
           "automargin": true,
           "gridcolor": "white",
           "linecolor": "white",
           "ticks": "",
           "title": {
            "standoff": 15
           },
           "zerolinecolor": "white",
           "zerolinewidth": 2
          }
         }
        },
        "title": {
         "font": {
          "color": "white",
          "family": "Roboto, sans-serif",
          "size": 23
         },
         "text": "DEFENSIVE EFFICIENCY",
         "x": 0.5,
         "xanchor": "center",
         "y": 0.98,
         "yanchor": "top"
        },
        "width": 625,
        "xaxis": {
         "gridcolor": "rgba(0,0,0,0)",
         "linecolor": "white",
         "linewidth": 2,
         "range": [
          7.5,
          18
         ],
         "showline": true,
         "tickfont": {
          "color": "white",
          "size": 15
         },
         "title": {
          "font": {
           "size": 25
          },
          "text": "OPPOSITION CONVERSION RATE (%)"
         }
        },
        "yaxis": {
         "gridcolor": "rgba(0,0,0,0)",
         "linecolor": "white",
         "linewidth": 2,
         "range": [
          5.5,
          17
         ],
         "showline": true,
         "tickfont": {
          "color": "white",
          "size": 15
         },
         "title": {
          "font": {
           "size": 25
          },
          "text": "SHOTS FACED PER GAME"
         }
        }
       }
      }
     },
     "metadata": {},
     "output_type": "display_data"
    }
   ],
   "source": [
    "create_FM_team_scatter_chart(filtered_team_defending_chart, 'DEFENSIVE EFFICIENCY', \"Arsenal\", 'OPPOSITION CONVERSION RATE (%)', \n",
    "                             'SHOTS FACED PER GAME', 0.65, 7.5, 18, 5.5, 17, \n",
    "                            # 0.85, 7, 30, 4, 18, \n",
    "                            \"Quiet defence<br>Impenetrable defence\", \"Quiet defence<br>Leaky defence\", \n",
    "                            \"Busy defence<br>Impenetrable defence\", \"Busy defence<br>Leaky defence\", \n",
    "                            \"green\", \"orange\", \"orange\", \"red\")"
   ]
  },
  {
   "cell_type": "code",
   "execution_count": 55,
   "metadata": {},
   "outputs": [
    {
     "data": {
      "application/vnd.plotly.v1+json": {
       "config": {
        "plotlyServerURL": "https://plotly.com"
       },
       "data": [
        {
         "hoverinfo": "text",
         "marker": {
          "opacity": 0
         },
         "mode": "markers",
         "text": "Arsenal",
         "type": "scatter",
         "x": [
          8.56
         ],
         "y": [
          0.88
         ]
        },
        {
         "hoverinfo": "text",
         "marker": {
          "opacity": 0
         },
         "mode": "markers",
         "text": "Aston Villa",
         "type": "scatter",
         "x": [
          10.64
         ],
         "y": [
          1.32
         ]
        },
        {
         "hoverinfo": "text",
         "marker": {
          "opacity": 0
         },
         "mode": "markers",
         "text": "Bournemouth",
         "type": "scatter",
         "x": [
          14.208333333
         ],
         "y": [
          1.916666667
         ]
        },
        {
         "hoverinfo": "text",
         "marker": {
          "opacity": 0
         },
         "mode": "markers",
         "text": "Brentford",
         "type": "scatter",
         "x": [
          14
         ],
         "y": [
          1.791666667
         ]
        },
        {
         "hoverinfo": "text",
         "marker": {
          "opacity": 0
         },
         "mode": "markers",
         "text": "Brighton",
         "type": "scatter",
         "x": [
          11.84
         ],
         "y": [
          1.6
         ]
        },
        {
         "hoverinfo": "text",
         "marker": {
          "opacity": 0
         },
         "mode": "markers",
         "text": "Burnley",
         "type": "scatter",
         "x": [
          15.24
         ],
         "y": [
          2.2
         ]
        },
        {
         "hoverinfo": "text",
         "marker": {
          "opacity": 0
         },
         "mode": "markers",
         "text": "Chelsea",
         "type": "scatter",
         "x": [
          13.84
         ],
         "y": [
          1.64
         ]
        },
        {
         "hoverinfo": "text",
         "marker": {
          "opacity": 0
         },
         "mode": "markers",
         "text": "Crystal Palace",
         "type": "scatter",
         "x": [
          12.88
         ],
         "y": [
          1.76
         ]
        },
        {
         "hoverinfo": "text",
         "marker": {
          "opacity": 0
         },
         "mode": "markers",
         "text": "Everton",
         "type": "scatter",
         "x": [
          13.44
         ],
         "y": [
          1.32
         ]
        },
        {
         "hoverinfo": "text",
         "marker": {
          "opacity": 0
         },
         "mode": "markers",
         "text": "Fulham",
         "type": "scatter",
         "x": [
          13.68
         ],
         "y": [
          1.64
         ]
        },
        {
         "hoverinfo": "text",
         "marker": {
          "opacity": 0
         },
         "mode": "markers",
         "text": "Liverpool",
         "type": "scatter",
         "x": [
          11.16
         ],
         "y": [
          0.96
         ]
        },
        {
         "hoverinfo": "text",
         "marker": {
          "opacity": 0
         },
         "mode": "markers",
         "text": "Luton Town",
         "type": "scatter",
         "x": [
          16.541666667
         ],
         "y": [
          1.958333333
         ]
        },
        {
         "hoverinfo": "text",
         "marker": {
          "opacity": 0
         },
         "mode": "markers",
         "text": "Manchester City",
         "type": "scatter",
         "x": [
          7.875
         ],
         "y": [
          1.083333333
         ]
        },
        {
         "hoverinfo": "text",
         "marker": {
          "opacity": 0
         },
         "mode": "markers",
         "text": "Manchester Utd",
         "type": "scatter",
         "x": [
          15.88
         ],
         "y": [
          1.36
         ]
        },
        {
         "hoverinfo": "text",
         "marker": {
          "opacity": 0
         },
         "mode": "markers",
         "text": "Newcastle Utd",
         "type": "scatter",
         "x": [
          13.96
         ],
         "y": [
          1.64
         ]
        },
        {
         "hoverinfo": "text",
         "marker": {
          "opacity": 0
         },
         "mode": "markers",
         "text": "Nott'ham Forest",
         "type": "scatter",
         "x": [
          13
         ],
         "y": [
          1.76
         ]
        },
        {
         "hoverinfo": "text",
         "marker": {
          "opacity": 0
         },
         "mode": "markers",
         "text": "Sheffield Utd",
         "type": "scatter",
         "x": [
          17.2
         ],
         "y": [
          2.6
         ]
        },
        {
         "hoverinfo": "text",
         "marker": {
          "opacity": 0
         },
         "mode": "markers",
         "text": "Tottenham",
         "type": "scatter",
         "x": [
          13.16
         ],
         "y": [
          1.52
         ]
        },
        {
         "hoverinfo": "text",
         "marker": {
          "opacity": 0
         },
         "mode": "markers",
         "text": "West Ham",
         "type": "scatter",
         "x": [
          16.56
         ],
         "y": [
          1.76
         ]
        },
        {
         "hoverinfo": "text",
         "marker": {
          "opacity": 0
         },
         "mode": "markers",
         "text": "Wolves",
         "type": "scatter",
         "x": [
          13.84
         ],
         "y": [
          1.6
         ]
        }
       ],
       "layout": {
        "annotations": [
         {
          "align": "left",
          "font": {
           "color": "green",
           "family": "Roboto, sans-serif",
           "size": 15
          },
          "showarrow": false,
          "text": "Impenetrable defence<br>Quiet defence",
          "x": 0,
          "xref": "paper",
          "y": 0,
          "yref": "paper"
         },
         {
          "align": "left",
          "font": {
           "color": "orange",
           "family": "Roboto, sans-serif",
           "size": 15
          },
          "showarrow": false,
          "text": "Leaky defence<br>Quiet defence",
          "x": 0,
          "xref": "paper",
          "y": 1,
          "yref": "paper"
         },
         {
          "align": "right",
          "font": {
           "color": "red",
           "family": "Roboto, sans-serif",
           "size": 15
          },
          "showarrow": false,
          "text": "Leaky defence<br>Busy defence",
          "x": 1,
          "xref": "paper",
          "y": 1,
          "yref": "paper"
         },
         {
          "align": "right",
          "font": {
           "color": "orange",
           "family": "Roboto, sans-serif",
           "size": 15
          },
          "showarrow": false,
          "text": "Impenetrable defence<br>Busy defence",
          "x": 1,
          "xref": "paper",
          "y": 0,
          "yref": "paper"
         }
        ],
        "font": {
         "color": "white",
         "family": "Roboto, sans-serif",
         "size": 25
        },
        "height": 625,
        "hoverlabel": {
         "bgcolor": "rgba(20, 20, 20, 0.8)",
         "font": {
          "family": "Roboto, sans-serif"
         }
        },
        "images": [
         {
          "layer": "above",
          "opacity": 1,
          "sizex": 0.81,
          "sizey": 0.81,
          "sizing": "contain",
          "source": "https://i.imgur.com/SURo5sj.png",
          "x": 8.56,
          "xanchor": "center",
          "xref": "x",
          "y": 0.88,
          "yanchor": "middle",
          "yref": "y"
         },
         {
          "layer": "above",
          "opacity": 0.35,
          "sizex": 0.45,
          "sizey": 0.45,
          "sizing": "contain",
          "source": "https://i.imgur.com/M4mwH1X.png",
          "x": 10.64,
          "xanchor": "center",
          "xref": "x",
          "y": 1.32,
          "yanchor": "middle",
          "yref": "y"
         },
         {
          "layer": "above",
          "opacity": 0.35,
          "sizex": 0.45,
          "sizey": 0.45,
          "sizing": "contain",
          "source": "https://i.imgur.com/0F6UIO4.png",
          "x": 14.208333333,
          "xanchor": "center",
          "xref": "x",
          "y": 1.916666667,
          "yanchor": "middle",
          "yref": "y"
         },
         {
          "layer": "above",
          "opacity": 0.35,
          "sizex": 0.45,
          "sizey": 0.45,
          "sizing": "contain",
          "source": "https://i.imgur.com/MOhGOQ4.png",
          "x": 14,
          "xanchor": "center",
          "xref": "x",
          "y": 1.791666667,
          "yanchor": "middle",
          "yref": "y"
         },
         {
          "layer": "above",
          "opacity": 0.35,
          "sizex": 0.45,
          "sizey": 0.45,
          "sizing": "contain",
          "source": "https://i.imgur.com/EMCwD3X.png",
          "x": 11.84,
          "xanchor": "center",
          "xref": "x",
          "y": 1.6,
          "yanchor": "middle",
          "yref": "y"
         },
         {
          "layer": "above",
          "opacity": 0.35,
          "sizex": 0.45,
          "sizey": 0.45,
          "sizing": "contain",
          "source": "https://i.imgur.com/6IDi9XJ.png",
          "x": 15.24,
          "xanchor": "center",
          "xref": "x",
          "y": 2.2,
          "yanchor": "middle",
          "yref": "y"
         },
         {
          "layer": "above",
          "opacity": 0.35,
          "sizex": 0.45,
          "sizey": 0.45,
          "sizing": "contain",
          "source": "https://i.imgur.com/6F7h3UR.png",
          "x": 13.84,
          "xanchor": "center",
          "xref": "x",
          "y": 1.64,
          "yanchor": "middle",
          "yref": "y"
         },
         {
          "layer": "above",
          "opacity": 0.35,
          "sizex": 0.45,
          "sizey": 0.45,
          "sizing": "contain",
          "source": "https://i.imgur.com/LPhzr0K.png",
          "x": 12.88,
          "xanchor": "center",
          "xref": "x",
          "y": 1.76,
          "yanchor": "middle",
          "yref": "y"
         },
         {
          "layer": "above",
          "opacity": 0.35,
          "sizex": 0.45,
          "sizey": 0.45,
          "sizing": "contain",
          "source": "https://i.imgur.com/Dgei0uj.png",
          "x": 13.44,
          "xanchor": "center",
          "xref": "x",
          "y": 1.32,
          "yanchor": "middle",
          "yref": "y"
         },
         {
          "layer": "above",
          "opacity": 0.35,
          "sizex": 0.45,
          "sizey": 0.45,
          "sizing": "contain",
          "source": "https://i.imgur.com/2zggSrF.png",
          "x": 13.68,
          "xanchor": "center",
          "xref": "x",
          "y": 1.64,
          "yanchor": "middle",
          "yref": "y"
         },
         {
          "layer": "above",
          "opacity": 0.35,
          "sizex": 0.45,
          "sizey": 0.45,
          "sizing": "contain",
          "source": "https://i.imgur.com/fs7VK9G.png",
          "x": 11.16,
          "xanchor": "center",
          "xref": "x",
          "y": 0.96,
          "yanchor": "middle",
          "yref": "y"
         },
         {
          "layer": "above",
          "opacity": 0.35,
          "sizex": 0.45,
          "sizey": 0.45,
          "sizing": "contain",
          "source": "https://i.imgur.com/vHHqKJX.png",
          "x": 16.541666667,
          "xanchor": "center",
          "xref": "x",
          "y": 1.958333333,
          "yanchor": "middle",
          "yref": "y"
         },
         {
          "layer": "above",
          "opacity": 0.35,
          "sizex": 0.45,
          "sizey": 0.45,
          "sizing": "contain",
          "source": "https://i.imgur.com/FF8z7uZ.png",
          "x": 7.875,
          "xanchor": "center",
          "xref": "x",
          "y": 1.083333333,
          "yanchor": "middle",
          "yref": "y"
         },
         {
          "layer": "above",
          "opacity": 0.35,
          "sizex": 0.45,
          "sizey": 0.45,
          "sizing": "contain",
          "source": "https://i.imgur.com/z47emBQ.png",
          "x": 15.88,
          "xanchor": "center",
          "xref": "x",
          "y": 1.36,
          "yanchor": "middle",
          "yref": "y"
         },
         {
          "layer": "above",
          "opacity": 0.35,
          "sizex": 0.45,
          "sizey": 0.45,
          "sizing": "contain",
          "source": "https://i.imgur.com/3kOLokZ.png",
          "x": 13.96,
          "xanchor": "center",
          "xref": "x",
          "y": 1.64,
          "yanchor": "middle",
          "yref": "y"
         },
         {
          "layer": "above",
          "opacity": 0.35,
          "sizex": 0.45,
          "sizey": 0.45,
          "sizing": "contain",
          "source": "https://i.imgur.com/z4Tl9Zu.png",
          "x": 13,
          "xanchor": "center",
          "xref": "x",
          "y": 1.76,
          "yanchor": "middle",
          "yref": "y"
         },
         {
          "layer": "above",
          "opacity": 0.35,
          "sizex": 0.45,
          "sizey": 0.45,
          "sizing": "contain",
          "source": "https://i.imgur.com/eeBetFN.png",
          "x": 17.2,
          "xanchor": "center",
          "xref": "x",
          "y": 2.6,
          "yanchor": "middle",
          "yref": "y"
         },
         {
          "layer": "above",
          "opacity": 0.35,
          "sizex": 0.45,
          "sizey": 0.45,
          "sizing": "contain",
          "source": "https://i.imgur.com/fJ7rUWW.png",
          "x": 13.16,
          "xanchor": "center",
          "xref": "x",
          "y": 1.52,
          "yanchor": "middle",
          "yref": "y"
         },
         {
          "layer": "above",
          "opacity": 0.35,
          "sizex": 0.45,
          "sizey": 0.45,
          "sizing": "contain",
          "source": "https://i.imgur.com/9BQHJRl.png",
          "x": 16.56,
          "xanchor": "center",
          "xref": "x",
          "y": 1.76,
          "yanchor": "middle",
          "yref": "y"
         },
         {
          "layer": "above",
          "opacity": 0.35,
          "sizex": 0.45,
          "sizey": 0.45,
          "sizing": "contain",
          "source": "https://i.imgur.com/6azSF88.png",
          "x": 13.84,
          "xanchor": "center",
          "xref": "x",
          "y": 1.6,
          "yanchor": "middle",
          "yref": "y"
         }
        ],
        "margin": {
         "b": 10,
         "l": 10,
         "r": 30,
         "t": 50
        },
        "paper_bgcolor": "rgb(70, 70, 70)",
        "plot_bgcolor": "rgb(70, 70, 70)",
        "shapes": [
         {
          "layer": "below",
          "line": {
           "color": "White",
           "width": 3
          },
          "type": "line",
          "x0": 13.37525,
          "x1": 13.37525,
          "y0": 0.5,
          "y1": 2.75
         },
         {
          "layer": "below",
          "line": {
           "color": "White",
           "width": 3
          },
          "type": "line",
          "x0": 6,
          "x1": 17,
          "y0": 1.6155000000000002,
          "y1": 1.6155000000000002
         }
        ],
        "showlegend": false,
        "template": {
         "data": {
          "bar": [
           {
            "error_x": {
             "color": "#2a3f5f"
            },
            "error_y": {
             "color": "#2a3f5f"
            },
            "marker": {
             "line": {
              "color": "#E5ECF6",
              "width": 0.5
             },
             "pattern": {
              "fillmode": "overlay",
              "size": 10,
              "solidity": 0.2
             }
            },
            "type": "bar"
           }
          ],
          "barpolar": [
           {
            "marker": {
             "line": {
              "color": "#E5ECF6",
              "width": 0.5
             },
             "pattern": {
              "fillmode": "overlay",
              "size": 10,
              "solidity": 0.2
             }
            },
            "type": "barpolar"
           }
          ],
          "carpet": [
           {
            "aaxis": {
             "endlinecolor": "#2a3f5f",
             "gridcolor": "white",
             "linecolor": "white",
             "minorgridcolor": "white",
             "startlinecolor": "#2a3f5f"
            },
            "baxis": {
             "endlinecolor": "#2a3f5f",
             "gridcolor": "white",
             "linecolor": "white",
             "minorgridcolor": "white",
             "startlinecolor": "#2a3f5f"
            },
            "type": "carpet"
           }
          ],
          "choropleth": [
           {
            "colorbar": {
             "outlinewidth": 0,
             "ticks": ""
            },
            "type": "choropleth"
           }
          ],
          "contour": [
           {
            "colorbar": {
             "outlinewidth": 0,
             "ticks": ""
            },
            "colorscale": [
             [
              0,
              "#0d0887"
             ],
             [
              0.1111111111111111,
              "#46039f"
             ],
             [
              0.2222222222222222,
              "#7201a8"
             ],
             [
              0.3333333333333333,
              "#9c179e"
             ],
             [
              0.4444444444444444,
              "#bd3786"
             ],
             [
              0.5555555555555556,
              "#d8576b"
             ],
             [
              0.6666666666666666,
              "#ed7953"
             ],
             [
              0.7777777777777778,
              "#fb9f3a"
             ],
             [
              0.8888888888888888,
              "#fdca26"
             ],
             [
              1,
              "#f0f921"
             ]
            ],
            "type": "contour"
           }
          ],
          "contourcarpet": [
           {
            "colorbar": {
             "outlinewidth": 0,
             "ticks": ""
            },
            "type": "contourcarpet"
           }
          ],
          "heatmap": [
           {
            "colorbar": {
             "outlinewidth": 0,
             "ticks": ""
            },
            "colorscale": [
             [
              0,
              "#0d0887"
             ],
             [
              0.1111111111111111,
              "#46039f"
             ],
             [
              0.2222222222222222,
              "#7201a8"
             ],
             [
              0.3333333333333333,
              "#9c179e"
             ],
             [
              0.4444444444444444,
              "#bd3786"
             ],
             [
              0.5555555555555556,
              "#d8576b"
             ],
             [
              0.6666666666666666,
              "#ed7953"
             ],
             [
              0.7777777777777778,
              "#fb9f3a"
             ],
             [
              0.8888888888888888,
              "#fdca26"
             ],
             [
              1,
              "#f0f921"
             ]
            ],
            "type": "heatmap"
           }
          ],
          "heatmapgl": [
           {
            "colorbar": {
             "outlinewidth": 0,
             "ticks": ""
            },
            "colorscale": [
             [
              0,
              "#0d0887"
             ],
             [
              0.1111111111111111,
              "#46039f"
             ],
             [
              0.2222222222222222,
              "#7201a8"
             ],
             [
              0.3333333333333333,
              "#9c179e"
             ],
             [
              0.4444444444444444,
              "#bd3786"
             ],
             [
              0.5555555555555556,
              "#d8576b"
             ],
             [
              0.6666666666666666,
              "#ed7953"
             ],
             [
              0.7777777777777778,
              "#fb9f3a"
             ],
             [
              0.8888888888888888,
              "#fdca26"
             ],
             [
              1,
              "#f0f921"
             ]
            ],
            "type": "heatmapgl"
           }
          ],
          "histogram": [
           {
            "marker": {
             "pattern": {
              "fillmode": "overlay",
              "size": 10,
              "solidity": 0.2
             }
            },
            "type": "histogram"
           }
          ],
          "histogram2d": [
           {
            "colorbar": {
             "outlinewidth": 0,
             "ticks": ""
            },
            "colorscale": [
             [
              0,
              "#0d0887"
             ],
             [
              0.1111111111111111,
              "#46039f"
             ],
             [
              0.2222222222222222,
              "#7201a8"
             ],
             [
              0.3333333333333333,
              "#9c179e"
             ],
             [
              0.4444444444444444,
              "#bd3786"
             ],
             [
              0.5555555555555556,
              "#d8576b"
             ],
             [
              0.6666666666666666,
              "#ed7953"
             ],
             [
              0.7777777777777778,
              "#fb9f3a"
             ],
             [
              0.8888888888888888,
              "#fdca26"
             ],
             [
              1,
              "#f0f921"
             ]
            ],
            "type": "histogram2d"
           }
          ],
          "histogram2dcontour": [
           {
            "colorbar": {
             "outlinewidth": 0,
             "ticks": ""
            },
            "colorscale": [
             [
              0,
              "#0d0887"
             ],
             [
              0.1111111111111111,
              "#46039f"
             ],
             [
              0.2222222222222222,
              "#7201a8"
             ],
             [
              0.3333333333333333,
              "#9c179e"
             ],
             [
              0.4444444444444444,
              "#bd3786"
             ],
             [
              0.5555555555555556,
              "#d8576b"
             ],
             [
              0.6666666666666666,
              "#ed7953"
             ],
             [
              0.7777777777777778,
              "#fb9f3a"
             ],
             [
              0.8888888888888888,
              "#fdca26"
             ],
             [
              1,
              "#f0f921"
             ]
            ],
            "type": "histogram2dcontour"
           }
          ],
          "mesh3d": [
           {
            "colorbar": {
             "outlinewidth": 0,
             "ticks": ""
            },
            "type": "mesh3d"
           }
          ],
          "parcoords": [
           {
            "line": {
             "colorbar": {
              "outlinewidth": 0,
              "ticks": ""
             }
            },
            "type": "parcoords"
           }
          ],
          "pie": [
           {
            "automargin": true,
            "type": "pie"
           }
          ],
          "scatter": [
           {
            "fillpattern": {
             "fillmode": "overlay",
             "size": 10,
             "solidity": 0.2
            },
            "type": "scatter"
           }
          ],
          "scatter3d": [
           {
            "line": {
             "colorbar": {
              "outlinewidth": 0,
              "ticks": ""
             }
            },
            "marker": {
             "colorbar": {
              "outlinewidth": 0,
              "ticks": ""
             }
            },
            "type": "scatter3d"
           }
          ],
          "scattercarpet": [
           {
            "marker": {
             "colorbar": {
              "outlinewidth": 0,
              "ticks": ""
             }
            },
            "type": "scattercarpet"
           }
          ],
          "scattergeo": [
           {
            "marker": {
             "colorbar": {
              "outlinewidth": 0,
              "ticks": ""
             }
            },
            "type": "scattergeo"
           }
          ],
          "scattergl": [
           {
            "marker": {
             "colorbar": {
              "outlinewidth": 0,
              "ticks": ""
             }
            },
            "type": "scattergl"
           }
          ],
          "scattermapbox": [
           {
            "marker": {
             "colorbar": {
              "outlinewidth": 0,
              "ticks": ""
             }
            },
            "type": "scattermapbox"
           }
          ],
          "scatterpolar": [
           {
            "marker": {
             "colorbar": {
              "outlinewidth": 0,
              "ticks": ""
             }
            },
            "type": "scatterpolar"
           }
          ],
          "scatterpolargl": [
           {
            "marker": {
             "colorbar": {
              "outlinewidth": 0,
              "ticks": ""
             }
            },
            "type": "scatterpolargl"
           }
          ],
          "scatterternary": [
           {
            "marker": {
             "colorbar": {
              "outlinewidth": 0,
              "ticks": ""
             }
            },
            "type": "scatterternary"
           }
          ],
          "surface": [
           {
            "colorbar": {
             "outlinewidth": 0,
             "ticks": ""
            },
            "colorscale": [
             [
              0,
              "#0d0887"
             ],
             [
              0.1111111111111111,
              "#46039f"
             ],
             [
              0.2222222222222222,
              "#7201a8"
             ],
             [
              0.3333333333333333,
              "#9c179e"
             ],
             [
              0.4444444444444444,
              "#bd3786"
             ],
             [
              0.5555555555555556,
              "#d8576b"
             ],
             [
              0.6666666666666666,
              "#ed7953"
             ],
             [
              0.7777777777777778,
              "#fb9f3a"
             ],
             [
              0.8888888888888888,
              "#fdca26"
             ],
             [
              1,
              "#f0f921"
             ]
            ],
            "type": "surface"
           }
          ],
          "table": [
           {
            "cells": {
             "fill": {
              "color": "#EBF0F8"
             },
             "line": {
              "color": "white"
             }
            },
            "header": {
             "fill": {
              "color": "#C8D4E3"
             },
             "line": {
              "color": "white"
             }
            },
            "type": "table"
           }
          ]
         },
         "layout": {
          "annotationdefaults": {
           "arrowcolor": "#2a3f5f",
           "arrowhead": 0,
           "arrowwidth": 1
          },
          "autotypenumbers": "strict",
          "coloraxis": {
           "colorbar": {
            "outlinewidth": 0,
            "ticks": ""
           }
          },
          "colorscale": {
           "diverging": [
            [
             0,
             "#8e0152"
            ],
            [
             0.1,
             "#c51b7d"
            ],
            [
             0.2,
             "#de77ae"
            ],
            [
             0.3,
             "#f1b6da"
            ],
            [
             0.4,
             "#fde0ef"
            ],
            [
             0.5,
             "#f7f7f7"
            ],
            [
             0.6,
             "#e6f5d0"
            ],
            [
             0.7,
             "#b8e186"
            ],
            [
             0.8,
             "#7fbc41"
            ],
            [
             0.9,
             "#4d9221"
            ],
            [
             1,
             "#276419"
            ]
           ],
           "sequential": [
            [
             0,
             "#0d0887"
            ],
            [
             0.1111111111111111,
             "#46039f"
            ],
            [
             0.2222222222222222,
             "#7201a8"
            ],
            [
             0.3333333333333333,
             "#9c179e"
            ],
            [
             0.4444444444444444,
             "#bd3786"
            ],
            [
             0.5555555555555556,
             "#d8576b"
            ],
            [
             0.6666666666666666,
             "#ed7953"
            ],
            [
             0.7777777777777778,
             "#fb9f3a"
            ],
            [
             0.8888888888888888,
             "#fdca26"
            ],
            [
             1,
             "#f0f921"
            ]
           ],
           "sequentialminus": [
            [
             0,
             "#0d0887"
            ],
            [
             0.1111111111111111,
             "#46039f"
            ],
            [
             0.2222222222222222,
             "#7201a8"
            ],
            [
             0.3333333333333333,
             "#9c179e"
            ],
            [
             0.4444444444444444,
             "#bd3786"
            ],
            [
             0.5555555555555556,
             "#d8576b"
            ],
            [
             0.6666666666666666,
             "#ed7953"
            ],
            [
             0.7777777777777778,
             "#fb9f3a"
            ],
            [
             0.8888888888888888,
             "#fdca26"
            ],
            [
             1,
             "#f0f921"
            ]
           ]
          },
          "colorway": [
           "#636efa",
           "#EF553B",
           "#00cc96",
           "#ab63fa",
           "#FFA15A",
           "#19d3f3",
           "#FF6692",
           "#B6E880",
           "#FF97FF",
           "#FECB52"
          ],
          "font": {
           "color": "#2a3f5f"
          },
          "geo": {
           "bgcolor": "white",
           "lakecolor": "white",
           "landcolor": "#E5ECF6",
           "showlakes": true,
           "showland": true,
           "subunitcolor": "white"
          },
          "hoverlabel": {
           "align": "left"
          },
          "hovermode": "closest",
          "mapbox": {
           "style": "light"
          },
          "paper_bgcolor": "white",
          "plot_bgcolor": "#E5ECF6",
          "polar": {
           "angularaxis": {
            "gridcolor": "white",
            "linecolor": "white",
            "ticks": ""
           },
           "bgcolor": "#E5ECF6",
           "radialaxis": {
            "gridcolor": "white",
            "linecolor": "white",
            "ticks": ""
           }
          },
          "scene": {
           "xaxis": {
            "backgroundcolor": "#E5ECF6",
            "gridcolor": "white",
            "gridwidth": 2,
            "linecolor": "white",
            "showbackground": true,
            "ticks": "",
            "zerolinecolor": "white"
           },
           "yaxis": {
            "backgroundcolor": "#E5ECF6",
            "gridcolor": "white",
            "gridwidth": 2,
            "linecolor": "white",
            "showbackground": true,
            "ticks": "",
            "zerolinecolor": "white"
           },
           "zaxis": {
            "backgroundcolor": "#E5ECF6",
            "gridcolor": "white",
            "gridwidth": 2,
            "linecolor": "white",
            "showbackground": true,
            "ticks": "",
            "zerolinecolor": "white"
           }
          },
          "shapedefaults": {
           "line": {
            "color": "#2a3f5f"
           }
          },
          "ternary": {
           "aaxis": {
            "gridcolor": "white",
            "linecolor": "white",
            "ticks": ""
           },
           "baxis": {
            "gridcolor": "white",
            "linecolor": "white",
            "ticks": ""
           },
           "bgcolor": "#E5ECF6",
           "caxis": {
            "gridcolor": "white",
            "linecolor": "white",
            "ticks": ""
           }
          },
          "title": {
           "x": 0.05
          },
          "xaxis": {
           "automargin": true,
           "gridcolor": "white",
           "linecolor": "white",
           "ticks": "",
           "title": {
            "standoff": 15
           },
           "zerolinecolor": "white",
           "zerolinewidth": 2
          },
          "yaxis": {
           "automargin": true,
           "gridcolor": "white",
           "linecolor": "white",
           "ticks": "",
           "title": {
            "standoff": 15
           },
           "zerolinecolor": "white",
           "zerolinewidth": 2
          }
         }
        },
        "title": {
         "font": {
          "color": "white",
          "family": "Roboto, sans-serif",
          "size": 23
         },
         "text": "GOALKEEPING",
         "x": 0.5,
         "xanchor": "center",
         "y": 0.98,
         "yanchor": "top"
        },
        "width": 625,
        "xaxis": {
         "gridcolor": "rgba(0,0,0,0)",
         "linecolor": "white",
         "linewidth": 2,
         "range": [
          6,
          17
         ],
         "showline": true,
         "tickfont": {
          "color": "white",
          "size": 15
         },
         "title": {
          "font": {
           "size": 25
          },
          "text": "SHOTS FACED PER GAME"
         }
        },
        "yaxis": {
         "gridcolor": "rgba(0,0,0,0)",
         "linecolor": "white",
         "linewidth": 2,
         "range": [
          0.5,
          2.75
         ],
         "showline": true,
         "tickfont": {
          "color": "white",
          "size": 15
         },
         "title": {
          "font": {
           "size": 25
          },
          "text": "CONCEDED PER GAME"
         }
        }
       }
      }
     },
     "metadata": {},
     "output_type": "display_data"
    }
   ],
   "source": [
    "create_FM_team_scatter_chart(filtered_team_defending_chart, 'GOALKEEPING', \"Arsenal\", 'SHOTS FACED PER GAME', \n",
    "                             'CONCEDED PER GAME', 0.45, 6, 17, 0.5, 2.75,\n",
    "                            \"Impenetrable defence<br>Quiet defence\", \"Impenetrable defence<br>Busy defence\", \n",
    "                            \"Leaky defence<br>Quiet defence\", \"Leaky defence<br>Busy defence\", \n",
    "                            \"green\", \"orange\", \"orange\", \"red\")"
   ]
  },
  {
   "cell_type": "code",
   "execution_count": 58,
   "metadata": {},
   "outputs": [
    {
     "data": {
      "application/vnd.plotly.v1+json": {
       "config": {
        "plotlyServerURL": "https://plotly.com"
       },
       "data": [
        {
         "hoverinfo": "text",
         "marker": {
          "opacity": 0
         },
         "mode": "markers",
         "text": "Arsenal",
         "type": "scatter",
         "x": [
          55.96107056
         ],
         "y": [
          16.44
         ]
        },
        {
         "hoverinfo": "text",
         "marker": {
          "opacity": 0
         },
         "mode": "markers",
         "text": "Aston Villa",
         "type": "scatter",
         "x": [
          59.166666667
         ],
         "y": [
          14.4
         ]
        },
        {
         "hoverinfo": "text",
         "marker": {
          "opacity": 0
         },
         "mode": "markers",
         "text": "Bournemouth",
         "type": "scatter",
         "x": [
          57.96460177
         ],
         "y": [
          18.833333333
         ]
        },
        {
         "hoverinfo": "text",
         "marker": {
          "opacity": 0
         },
         "mode": "markers",
         "text": "Brentford",
         "type": "scatter",
         "x": [
          60.235294118
         ],
         "y": [
          17.708333333
         ]
        },
        {
         "hoverinfo": "text",
         "marker": {
          "opacity": 0
         },
         "mode": "markers",
         "text": "Brighton",
         "type": "scatter",
         "x": [
          58.968058968
         ],
         "y": [
          16.28
         ]
        },
        {
         "hoverinfo": "text",
         "marker": {
          "opacity": 0
         },
         "mode": "markers",
         "text": "Burnley",
         "type": "scatter",
         "x": [
          57.389162562
         ],
         "y": [
          16.24
         ]
        },
        {
         "hoverinfo": "text",
         "marker": {
          "opacity": 0
         },
         "mode": "markers",
         "text": "Chelsea",
         "type": "scatter",
         "x": [
          57.013574661
         ],
         "y": [
          17.68
         ]
        },
        {
         "hoverinfo": "text",
         "marker": {
          "opacity": 0
         },
         "mode": "markers",
         "text": "Crystal Palace",
         "type": "scatter",
         "x": [
          57.51503006
         ],
         "y": [
          19.96
         ]
        },
        {
         "hoverinfo": "text",
         "marker": {
          "opacity": 0
         },
         "mode": "markers",
         "text": "Everton",
         "type": "scatter",
         "x": [
          59.368836292
         ],
         "y": [
          20.28
         ]
        },
        {
         "hoverinfo": "text",
         "marker": {
          "opacity": 0
         },
         "mode": "markers",
         "text": "Fulham",
         "type": "scatter",
         "x": [
          57.242990654
         ],
         "y": [
          17.12
         ]
        },
        {
         "hoverinfo": "text",
         "marker": {
          "opacity": 0
         },
         "mode": "markers",
         "text": "Liverpool",
         "type": "scatter",
         "x": [
          62.352941176
         ],
         "y": [
          17
         ]
        },
        {
         "hoverinfo": "text",
         "marker": {
          "opacity": 0
         },
         "mode": "markers",
         "text": "Luton Town",
         "type": "scatter",
         "x": [
          56.398104265
         ],
         "y": [
          17.583333333
         ]
        },
        {
         "hoverinfo": "text",
         "marker": {
          "opacity": 0
         },
         "mode": "markers",
         "text": "Manchester City",
         "type": "scatter",
         "x": [
          57.632398754
         ],
         "y": [
          13.375
         ]
        },
        {
         "hoverinfo": "text",
         "marker": {
          "opacity": 0
         },
         "mode": "markers",
         "text": "Manchester Utd",
         "type": "scatter",
         "x": [
          60
         ],
         "y": [
          17.6
         ]
        },
        {
         "hoverinfo": "text",
         "marker": {
          "opacity": 0
         },
         "mode": "markers",
         "text": "Newcastle Utd",
         "type": "scatter",
         "x": [
          60.277136259
         ],
         "y": [
          17.32
         ]
        },
        {
         "hoverinfo": "text",
         "marker": {
          "opacity": 0
         },
         "mode": "markers",
         "text": "Nott'ham Forest",
         "type": "scatter",
         "x": [
          57.142857143
         ],
         "y": [
          19.88
         ]
        },
        {
         "hoverinfo": "text",
         "marker": {
          "opacity": 0
         },
         "mode": "markers",
         "text": "Sheffield Utd",
         "type": "scatter",
         "x": [
          56.713426854
         ],
         "y": [
          19.96
         ]
        },
        {
         "hoverinfo": "text",
         "marker": {
          "opacity": 0
         },
         "mode": "markers",
         "text": "Tottenham",
         "type": "scatter",
         "x": [
          61.067193676
         ],
         "y": [
          20.24
         ]
        },
        {
         "hoverinfo": "text",
         "marker": {
          "opacity": 0
         },
         "mode": "markers",
         "text": "West Ham",
         "type": "scatter",
         "x": [
          64.508928571
         ],
         "y": [
          17.92
         ]
        },
        {
         "hoverinfo": "text",
         "marker": {
          "opacity": 0
         },
         "mode": "markers",
         "text": "Wolves",
         "type": "scatter",
         "x": [
          58.835758836
         ],
         "y": [
          19.24
         ]
        }
       ],
       "layout": {
        "annotations": [
         {
          "align": "left",
          "font": {
           "color": "red",
           "family": "Roboto, sans-serif",
           "size": 15
          },
          "showarrow": false,
          "text": "Fewer Duels<br>Poor Dueling",
          "x": 0,
          "xref": "paper",
          "y": 0,
          "yref": "paper"
         },
         {
          "align": "left",
          "font": {
           "color": "orange",
           "family": "Roboto, sans-serif",
           "size": 15
          },
          "showarrow": false,
          "text": "Lots of Duels<br>Poor Dueling",
          "x": 0,
          "xref": "paper",
          "y": 1,
          "yref": "paper"
         },
         {
          "align": "right",
          "font": {
           "color": "green",
           "family": "Roboto, sans-serif",
           "size": 15
          },
          "showarrow": false,
          "text": "Lots of Duels<br>Strong Dueling",
          "x": 1,
          "xref": "paper",
          "y": 1,
          "yref": "paper"
         },
         {
          "align": "right",
          "font": {
           "color": "orange",
           "family": "Roboto, sans-serif",
           "size": 15
          },
          "showarrow": false,
          "text": "Fewer Duels<br>Strong Dueling",
          "x": 1,
          "xref": "paper",
          "y": 0,
          "yref": "paper"
         }
        ],
        "font": {
         "color": "white",
         "family": "Roboto, sans-serif",
         "size": 25
        },
        "height": 625,
        "hoverlabel": {
         "bgcolor": "rgba(20, 20, 20, 0.8)",
         "font": {
          "family": "Roboto, sans-serif"
         }
        },
        "images": [
         {
          "layer": "above",
          "opacity": 1,
          "sizex": 1.08,
          "sizey": 1.08,
          "sizing": "contain",
          "source": "https://i.imgur.com/SURo5sj.png",
          "x": 55.96107056,
          "xanchor": "center",
          "xref": "x",
          "y": 16.44,
          "yanchor": "middle",
          "yref": "y"
         },
         {
          "layer": "above",
          "opacity": 0.35,
          "sizex": 0.6,
          "sizey": 0.6,
          "sizing": "contain",
          "source": "https://i.imgur.com/M4mwH1X.png",
          "x": 59.166666667,
          "xanchor": "center",
          "xref": "x",
          "y": 14.4,
          "yanchor": "middle",
          "yref": "y"
         },
         {
          "layer": "above",
          "opacity": 0.35,
          "sizex": 0.6,
          "sizey": 0.6,
          "sizing": "contain",
          "source": "https://i.imgur.com/0F6UIO4.png",
          "x": 57.96460177,
          "xanchor": "center",
          "xref": "x",
          "y": 18.833333333,
          "yanchor": "middle",
          "yref": "y"
         },
         {
          "layer": "above",
          "opacity": 0.35,
          "sizex": 0.6,
          "sizey": 0.6,
          "sizing": "contain",
          "source": "https://i.imgur.com/MOhGOQ4.png",
          "x": 60.235294118,
          "xanchor": "center",
          "xref": "x",
          "y": 17.708333333,
          "yanchor": "middle",
          "yref": "y"
         },
         {
          "layer": "above",
          "opacity": 0.35,
          "sizex": 0.6,
          "sizey": 0.6,
          "sizing": "contain",
          "source": "https://i.imgur.com/EMCwD3X.png",
          "x": 58.968058968,
          "xanchor": "center",
          "xref": "x",
          "y": 16.28,
          "yanchor": "middle",
          "yref": "y"
         },
         {
          "layer": "above",
          "opacity": 0.35,
          "sizex": 0.6,
          "sizey": 0.6,
          "sizing": "contain",
          "source": "https://i.imgur.com/6IDi9XJ.png",
          "x": 57.389162562,
          "xanchor": "center",
          "xref": "x",
          "y": 16.24,
          "yanchor": "middle",
          "yref": "y"
         },
         {
          "layer": "above",
          "opacity": 0.35,
          "sizex": 0.6,
          "sizey": 0.6,
          "sizing": "contain",
          "source": "https://i.imgur.com/6F7h3UR.png",
          "x": 57.013574661,
          "xanchor": "center",
          "xref": "x",
          "y": 17.68,
          "yanchor": "middle",
          "yref": "y"
         },
         {
          "layer": "above",
          "opacity": 0.35,
          "sizex": 0.6,
          "sizey": 0.6,
          "sizing": "contain",
          "source": "https://i.imgur.com/LPhzr0K.png",
          "x": 57.51503006,
          "xanchor": "center",
          "xref": "x",
          "y": 19.96,
          "yanchor": "middle",
          "yref": "y"
         },
         {
          "layer": "above",
          "opacity": 0.35,
          "sizex": 0.6,
          "sizey": 0.6,
          "sizing": "contain",
          "source": "https://i.imgur.com/Dgei0uj.png",
          "x": 59.368836292,
          "xanchor": "center",
          "xref": "x",
          "y": 20.28,
          "yanchor": "middle",
          "yref": "y"
         },
         {
          "layer": "above",
          "opacity": 0.35,
          "sizex": 0.6,
          "sizey": 0.6,
          "sizing": "contain",
          "source": "https://i.imgur.com/2zggSrF.png",
          "x": 57.242990654,
          "xanchor": "center",
          "xref": "x",
          "y": 17.12,
          "yanchor": "middle",
          "yref": "y"
         },
         {
          "layer": "above",
          "opacity": 0.35,
          "sizex": 0.6,
          "sizey": 0.6,
          "sizing": "contain",
          "source": "https://i.imgur.com/fs7VK9G.png",
          "x": 62.352941176,
          "xanchor": "center",
          "xref": "x",
          "y": 17,
          "yanchor": "middle",
          "yref": "y"
         },
         {
          "layer": "above",
          "opacity": 0.35,
          "sizex": 0.6,
          "sizey": 0.6,
          "sizing": "contain",
          "source": "https://i.imgur.com/vHHqKJX.png",
          "x": 56.398104265,
          "xanchor": "center",
          "xref": "x",
          "y": 17.583333333,
          "yanchor": "middle",
          "yref": "y"
         },
         {
          "layer": "above",
          "opacity": 0.35,
          "sizex": 0.6,
          "sizey": 0.6,
          "sizing": "contain",
          "source": "https://i.imgur.com/FF8z7uZ.png",
          "x": 57.632398754,
          "xanchor": "center",
          "xref": "x",
          "y": 13.375,
          "yanchor": "middle",
          "yref": "y"
         },
         {
          "layer": "above",
          "opacity": 0.35,
          "sizex": 0.6,
          "sizey": 0.6,
          "sizing": "contain",
          "source": "https://i.imgur.com/z47emBQ.png",
          "x": 60,
          "xanchor": "center",
          "xref": "x",
          "y": 17.6,
          "yanchor": "middle",
          "yref": "y"
         },
         {
          "layer": "above",
          "opacity": 0.35,
          "sizex": 0.6,
          "sizey": 0.6,
          "sizing": "contain",
          "source": "https://i.imgur.com/3kOLokZ.png",
          "x": 60.277136259,
          "xanchor": "center",
          "xref": "x",
          "y": 17.32,
          "yanchor": "middle",
          "yref": "y"
         },
         {
          "layer": "above",
          "opacity": 0.35,
          "sizex": 0.6,
          "sizey": 0.6,
          "sizing": "contain",
          "source": "https://i.imgur.com/z4Tl9Zu.png",
          "x": 57.142857143,
          "xanchor": "center",
          "xref": "x",
          "y": 19.88,
          "yanchor": "middle",
          "yref": "y"
         },
         {
          "layer": "above",
          "opacity": 0.35,
          "sizex": 0.6,
          "sizey": 0.6,
          "sizing": "contain",
          "source": "https://i.imgur.com/eeBetFN.png",
          "x": 56.713426854,
          "xanchor": "center",
          "xref": "x",
          "y": 19.96,
          "yanchor": "middle",
          "yref": "y"
         },
         {
          "layer": "above",
          "opacity": 0.35,
          "sizex": 0.6,
          "sizey": 0.6,
          "sizing": "contain",
          "source": "https://i.imgur.com/fJ7rUWW.png",
          "x": 61.067193676,
          "xanchor": "center",
          "xref": "x",
          "y": 20.24,
          "yanchor": "middle",
          "yref": "y"
         },
         {
          "layer": "above",
          "opacity": 0.35,
          "sizex": 0.6,
          "sizey": 0.6,
          "sizing": "contain",
          "source": "https://i.imgur.com/9BQHJRl.png",
          "x": 64.508928571,
          "xanchor": "center",
          "xref": "x",
          "y": 17.92,
          "yanchor": "middle",
          "yref": "y"
         },
         {
          "layer": "above",
          "opacity": 0.35,
          "sizex": 0.6,
          "sizey": 0.6,
          "sizing": "contain",
          "source": "https://i.imgur.com/6azSF88.png",
          "x": 58.835758836,
          "xanchor": "center",
          "xref": "x",
          "y": 19.24,
          "yanchor": "middle",
          "yref": "y"
         }
        ],
        "margin": {
         "b": 10,
         "l": 10,
         "r": 30,
         "t": 50
        },
        "paper_bgcolor": "rgb(70, 70, 70)",
        "plot_bgcolor": "rgb(70, 70, 70)",
        "shapes": [
         {
          "layer": "below",
          "line": {
           "color": "White",
           "width": 3
          },
          "type": "line",
          "x0": 58.7877015923,
          "x1": 58.7877015923,
          "y0": 11,
          "y1": 21
         },
         {
          "layer": "below",
          "line": {
           "color": "White",
           "width": 3
          },
          "type": "line",
          "x0": 53,
          "x1": 68,
          "y0": 17.752999999950003,
          "y1": 17.752999999950003
         }
        ],
        "showlegend": false,
        "template": {
         "data": {
          "bar": [
           {
            "error_x": {
             "color": "#2a3f5f"
            },
            "error_y": {
             "color": "#2a3f5f"
            },
            "marker": {
             "line": {
              "color": "#E5ECF6",
              "width": 0.5
             },
             "pattern": {
              "fillmode": "overlay",
              "size": 10,
              "solidity": 0.2
             }
            },
            "type": "bar"
           }
          ],
          "barpolar": [
           {
            "marker": {
             "line": {
              "color": "#E5ECF6",
              "width": 0.5
             },
             "pattern": {
              "fillmode": "overlay",
              "size": 10,
              "solidity": 0.2
             }
            },
            "type": "barpolar"
           }
          ],
          "carpet": [
           {
            "aaxis": {
             "endlinecolor": "#2a3f5f",
             "gridcolor": "white",
             "linecolor": "white",
             "minorgridcolor": "white",
             "startlinecolor": "#2a3f5f"
            },
            "baxis": {
             "endlinecolor": "#2a3f5f",
             "gridcolor": "white",
             "linecolor": "white",
             "minorgridcolor": "white",
             "startlinecolor": "#2a3f5f"
            },
            "type": "carpet"
           }
          ],
          "choropleth": [
           {
            "colorbar": {
             "outlinewidth": 0,
             "ticks": ""
            },
            "type": "choropleth"
           }
          ],
          "contour": [
           {
            "colorbar": {
             "outlinewidth": 0,
             "ticks": ""
            },
            "colorscale": [
             [
              0,
              "#0d0887"
             ],
             [
              0.1111111111111111,
              "#46039f"
             ],
             [
              0.2222222222222222,
              "#7201a8"
             ],
             [
              0.3333333333333333,
              "#9c179e"
             ],
             [
              0.4444444444444444,
              "#bd3786"
             ],
             [
              0.5555555555555556,
              "#d8576b"
             ],
             [
              0.6666666666666666,
              "#ed7953"
             ],
             [
              0.7777777777777778,
              "#fb9f3a"
             ],
             [
              0.8888888888888888,
              "#fdca26"
             ],
             [
              1,
              "#f0f921"
             ]
            ],
            "type": "contour"
           }
          ],
          "contourcarpet": [
           {
            "colorbar": {
             "outlinewidth": 0,
             "ticks": ""
            },
            "type": "contourcarpet"
           }
          ],
          "heatmap": [
           {
            "colorbar": {
             "outlinewidth": 0,
             "ticks": ""
            },
            "colorscale": [
             [
              0,
              "#0d0887"
             ],
             [
              0.1111111111111111,
              "#46039f"
             ],
             [
              0.2222222222222222,
              "#7201a8"
             ],
             [
              0.3333333333333333,
              "#9c179e"
             ],
             [
              0.4444444444444444,
              "#bd3786"
             ],
             [
              0.5555555555555556,
              "#d8576b"
             ],
             [
              0.6666666666666666,
              "#ed7953"
             ],
             [
              0.7777777777777778,
              "#fb9f3a"
             ],
             [
              0.8888888888888888,
              "#fdca26"
             ],
             [
              1,
              "#f0f921"
             ]
            ],
            "type": "heatmap"
           }
          ],
          "heatmapgl": [
           {
            "colorbar": {
             "outlinewidth": 0,
             "ticks": ""
            },
            "colorscale": [
             [
              0,
              "#0d0887"
             ],
             [
              0.1111111111111111,
              "#46039f"
             ],
             [
              0.2222222222222222,
              "#7201a8"
             ],
             [
              0.3333333333333333,
              "#9c179e"
             ],
             [
              0.4444444444444444,
              "#bd3786"
             ],
             [
              0.5555555555555556,
              "#d8576b"
             ],
             [
              0.6666666666666666,
              "#ed7953"
             ],
             [
              0.7777777777777778,
              "#fb9f3a"
             ],
             [
              0.8888888888888888,
              "#fdca26"
             ],
             [
              1,
              "#f0f921"
             ]
            ],
            "type": "heatmapgl"
           }
          ],
          "histogram": [
           {
            "marker": {
             "pattern": {
              "fillmode": "overlay",
              "size": 10,
              "solidity": 0.2
             }
            },
            "type": "histogram"
           }
          ],
          "histogram2d": [
           {
            "colorbar": {
             "outlinewidth": 0,
             "ticks": ""
            },
            "colorscale": [
             [
              0,
              "#0d0887"
             ],
             [
              0.1111111111111111,
              "#46039f"
             ],
             [
              0.2222222222222222,
              "#7201a8"
             ],
             [
              0.3333333333333333,
              "#9c179e"
             ],
             [
              0.4444444444444444,
              "#bd3786"
             ],
             [
              0.5555555555555556,
              "#d8576b"
             ],
             [
              0.6666666666666666,
              "#ed7953"
             ],
             [
              0.7777777777777778,
              "#fb9f3a"
             ],
             [
              0.8888888888888888,
              "#fdca26"
             ],
             [
              1,
              "#f0f921"
             ]
            ],
            "type": "histogram2d"
           }
          ],
          "histogram2dcontour": [
           {
            "colorbar": {
             "outlinewidth": 0,
             "ticks": ""
            },
            "colorscale": [
             [
              0,
              "#0d0887"
             ],
             [
              0.1111111111111111,
              "#46039f"
             ],
             [
              0.2222222222222222,
              "#7201a8"
             ],
             [
              0.3333333333333333,
              "#9c179e"
             ],
             [
              0.4444444444444444,
              "#bd3786"
             ],
             [
              0.5555555555555556,
              "#d8576b"
             ],
             [
              0.6666666666666666,
              "#ed7953"
             ],
             [
              0.7777777777777778,
              "#fb9f3a"
             ],
             [
              0.8888888888888888,
              "#fdca26"
             ],
             [
              1,
              "#f0f921"
             ]
            ],
            "type": "histogram2dcontour"
           }
          ],
          "mesh3d": [
           {
            "colorbar": {
             "outlinewidth": 0,
             "ticks": ""
            },
            "type": "mesh3d"
           }
          ],
          "parcoords": [
           {
            "line": {
             "colorbar": {
              "outlinewidth": 0,
              "ticks": ""
             }
            },
            "type": "parcoords"
           }
          ],
          "pie": [
           {
            "automargin": true,
            "type": "pie"
           }
          ],
          "scatter": [
           {
            "fillpattern": {
             "fillmode": "overlay",
             "size": 10,
             "solidity": 0.2
            },
            "type": "scatter"
           }
          ],
          "scatter3d": [
           {
            "line": {
             "colorbar": {
              "outlinewidth": 0,
              "ticks": ""
             }
            },
            "marker": {
             "colorbar": {
              "outlinewidth": 0,
              "ticks": ""
             }
            },
            "type": "scatter3d"
           }
          ],
          "scattercarpet": [
           {
            "marker": {
             "colorbar": {
              "outlinewidth": 0,
              "ticks": ""
             }
            },
            "type": "scattercarpet"
           }
          ],
          "scattergeo": [
           {
            "marker": {
             "colorbar": {
              "outlinewidth": 0,
              "ticks": ""
             }
            },
            "type": "scattergeo"
           }
          ],
          "scattergl": [
           {
            "marker": {
             "colorbar": {
              "outlinewidth": 0,
              "ticks": ""
             }
            },
            "type": "scattergl"
           }
          ],
          "scattermapbox": [
           {
            "marker": {
             "colorbar": {
              "outlinewidth": 0,
              "ticks": ""
             }
            },
            "type": "scattermapbox"
           }
          ],
          "scatterpolar": [
           {
            "marker": {
             "colorbar": {
              "outlinewidth": 0,
              "ticks": ""
             }
            },
            "type": "scatterpolar"
           }
          ],
          "scatterpolargl": [
           {
            "marker": {
             "colorbar": {
              "outlinewidth": 0,
              "ticks": ""
             }
            },
            "type": "scatterpolargl"
           }
          ],
          "scatterternary": [
           {
            "marker": {
             "colorbar": {
              "outlinewidth": 0,
              "ticks": ""
             }
            },
            "type": "scatterternary"
           }
          ],
          "surface": [
           {
            "colorbar": {
             "outlinewidth": 0,
             "ticks": ""
            },
            "colorscale": [
             [
              0,
              "#0d0887"
             ],
             [
              0.1111111111111111,
              "#46039f"
             ],
             [
              0.2222222222222222,
              "#7201a8"
             ],
             [
              0.3333333333333333,
              "#9c179e"
             ],
             [
              0.4444444444444444,
              "#bd3786"
             ],
             [
              0.5555555555555556,
              "#d8576b"
             ],
             [
              0.6666666666666666,
              "#ed7953"
             ],
             [
              0.7777777777777778,
              "#fb9f3a"
             ],
             [
              0.8888888888888888,
              "#fdca26"
             ],
             [
              1,
              "#f0f921"
             ]
            ],
            "type": "surface"
           }
          ],
          "table": [
           {
            "cells": {
             "fill": {
              "color": "#EBF0F8"
             },
             "line": {
              "color": "white"
             }
            },
            "header": {
             "fill": {
              "color": "#C8D4E3"
             },
             "line": {
              "color": "white"
             }
            },
            "type": "table"
           }
          ]
         },
         "layout": {
          "annotationdefaults": {
           "arrowcolor": "#2a3f5f",
           "arrowhead": 0,
           "arrowwidth": 1
          },
          "autotypenumbers": "strict",
          "coloraxis": {
           "colorbar": {
            "outlinewidth": 0,
            "ticks": ""
           }
          },
          "colorscale": {
           "diverging": [
            [
             0,
             "#8e0152"
            ],
            [
             0.1,
             "#c51b7d"
            ],
            [
             0.2,
             "#de77ae"
            ],
            [
             0.3,
             "#f1b6da"
            ],
            [
             0.4,
             "#fde0ef"
            ],
            [
             0.5,
             "#f7f7f7"
            ],
            [
             0.6,
             "#e6f5d0"
            ],
            [
             0.7,
             "#b8e186"
            ],
            [
             0.8,
             "#7fbc41"
            ],
            [
             0.9,
             "#4d9221"
            ],
            [
             1,
             "#276419"
            ]
           ],
           "sequential": [
            [
             0,
             "#0d0887"
            ],
            [
             0.1111111111111111,
             "#46039f"
            ],
            [
             0.2222222222222222,
             "#7201a8"
            ],
            [
             0.3333333333333333,
             "#9c179e"
            ],
            [
             0.4444444444444444,
             "#bd3786"
            ],
            [
             0.5555555555555556,
             "#d8576b"
            ],
            [
             0.6666666666666666,
             "#ed7953"
            ],
            [
             0.7777777777777778,
             "#fb9f3a"
            ],
            [
             0.8888888888888888,
             "#fdca26"
            ],
            [
             1,
             "#f0f921"
            ]
           ],
           "sequentialminus": [
            [
             0,
             "#0d0887"
            ],
            [
             0.1111111111111111,
             "#46039f"
            ],
            [
             0.2222222222222222,
             "#7201a8"
            ],
            [
             0.3333333333333333,
             "#9c179e"
            ],
            [
             0.4444444444444444,
             "#bd3786"
            ],
            [
             0.5555555555555556,
             "#d8576b"
            ],
            [
             0.6666666666666666,
             "#ed7953"
            ],
            [
             0.7777777777777778,
             "#fb9f3a"
            ],
            [
             0.8888888888888888,
             "#fdca26"
            ],
            [
             1,
             "#f0f921"
            ]
           ]
          },
          "colorway": [
           "#636efa",
           "#EF553B",
           "#00cc96",
           "#ab63fa",
           "#FFA15A",
           "#19d3f3",
           "#FF6692",
           "#B6E880",
           "#FF97FF",
           "#FECB52"
          ],
          "font": {
           "color": "#2a3f5f"
          },
          "geo": {
           "bgcolor": "white",
           "lakecolor": "white",
           "landcolor": "#E5ECF6",
           "showlakes": true,
           "showland": true,
           "subunitcolor": "white"
          },
          "hoverlabel": {
           "align": "left"
          },
          "hovermode": "closest",
          "mapbox": {
           "style": "light"
          },
          "paper_bgcolor": "white",
          "plot_bgcolor": "#E5ECF6",
          "polar": {
           "angularaxis": {
            "gridcolor": "white",
            "linecolor": "white",
            "ticks": ""
           },
           "bgcolor": "#E5ECF6",
           "radialaxis": {
            "gridcolor": "white",
            "linecolor": "white",
            "ticks": ""
           }
          },
          "scene": {
           "xaxis": {
            "backgroundcolor": "#E5ECF6",
            "gridcolor": "white",
            "gridwidth": 2,
            "linecolor": "white",
            "showbackground": true,
            "ticks": "",
            "zerolinecolor": "white"
           },
           "yaxis": {
            "backgroundcolor": "#E5ECF6",
            "gridcolor": "white",
            "gridwidth": 2,
            "linecolor": "white",
            "showbackground": true,
            "ticks": "",
            "zerolinecolor": "white"
           },
           "zaxis": {
            "backgroundcolor": "#E5ECF6",
            "gridcolor": "white",
            "gridwidth": 2,
            "linecolor": "white",
            "showbackground": true,
            "ticks": "",
            "zerolinecolor": "white"
           }
          },
          "shapedefaults": {
           "line": {
            "color": "#2a3f5f"
           }
          },
          "ternary": {
           "aaxis": {
            "gridcolor": "white",
            "linecolor": "white",
            "ticks": ""
           },
           "baxis": {
            "gridcolor": "white",
            "linecolor": "white",
            "ticks": ""
           },
           "bgcolor": "#E5ECF6",
           "caxis": {
            "gridcolor": "white",
            "linecolor": "white",
            "ticks": ""
           }
          },
          "title": {
           "x": 0.05
          },
          "xaxis": {
           "automargin": true,
           "gridcolor": "white",
           "linecolor": "white",
           "ticks": "",
           "title": {
            "standoff": 15
           },
           "zerolinecolor": "white",
           "zerolinewidth": 2
          },
          "yaxis": {
           "automargin": true,
           "gridcolor": "white",
           "linecolor": "white",
           "ticks": "",
           "title": {
            "standoff": 15
           },
           "zerolinecolor": "white",
           "zerolinewidth": 2
          }
         }
        },
        "title": {
         "font": {
          "color": "white",
          "family": "Roboto, sans-serif",
          "size": 23
         },
         "text": "TACKLING",
         "x": 0.5,
         "xanchor": "center",
         "y": 0.98,
         "yanchor": "top"
        },
        "width": 625,
        "xaxis": {
         "gridcolor": "rgba(0,0,0,0)",
         "linecolor": "white",
         "linewidth": 2,
         "range": [
          53,
          68
         ],
         "showline": true,
         "tickfont": {
          "color": "white",
          "size": 15
         },
         "title": {
          "font": {
           "size": 25
          },
          "text": "TACKLES WON RATIO (%)"
         }
        },
        "yaxis": {
         "gridcolor": "rgba(0,0,0,0)",
         "linecolor": "white",
         "linewidth": 2,
         "range": [
          11,
          21
         ],
         "showline": true,
         "tickfont": {
          "color": "white",
          "size": 15
         },
         "title": {
          "font": {
           "size": 25
          },
          "text": "TACKLES ATTEMPTED PER GAME"
         }
        }
       }
      }
     },
     "metadata": {},
     "output_type": "display_data"
    }
   ],
   "source": [
    "create_FM_team_scatter_chart(filtered_team_defending_chart, 'TACKLING', \"Arsenal\", 'TACKLES WON RATIO (%)', 'TACKLES ATTEMPTED PER GAME', \n",
    "                                                            0.6, 53, 68, 11, 21, \n",
    "                                                            \"Fewer Duels<br>Poor Dueling\", \"Fewer Duels<br>Strong Dueling\",\n",
    "                                                            \"Lots of Duels<br>Poor Dueling\", \"Lots of Duels<br>Strong Dueling\", \"red\", \n",
    "                                                            \"orange\", \"orange\", \"green\")\n"
   ]
  },
  {
   "cell_type": "markdown",
   "metadata": {},
   "source": [
    "### Time to incorporate event data for additional graphs"
   ]
  },
  {
   "cell_type": "code",
   "execution_count": 59,
   "metadata": {},
   "outputs": [],
   "source": [
    "df_player_match = fetch_data(cursor, 'SELECT PLAYER_WS_ID, MATCH_ID, PLAYER_FBREF_NAME, \\\n",
    "                             STARTING_POSITION_WS FROM PLAYER_MATCH')"
   ]
  },
  {
   "cell_type": "code",
   "execution_count": 60,
   "metadata": {},
   "outputs": [],
   "source": [
    "df_events = fetch_data(cursor, 'SELECT * FROM EVENTS_SPADL')"
   ]
  },
  {
   "cell_type": "code",
   "execution_count": 61,
   "metadata": {},
   "outputs": [],
   "source": [
    "# df_events = df_events[df_events['MATCH_ID'].isin(list(filtered_matches.MATCH_ID))]"
   ]
  },
  {
   "cell_type": "code",
   "execution_count": 62,
   "metadata": {},
   "outputs": [],
   "source": [
    "df_events = df_events.merge(df_matches[['MATCH_ID','COMPETITION','SEASON']], on='MATCH_ID', how='left')"
   ]
  },
  {
   "cell_type": "code",
   "execution_count": 63,
   "metadata": {},
   "outputs": [],
   "source": [
    "defensive_events = df_events[df_events['TYPE_NAME'].isin(['tackle', 'foul', 'interception','clearance'])]"
   ]
  },
  {
   "cell_type": "code",
   "execution_count": 64,
   "metadata": {},
   "outputs": [],
   "source": [
    "defensive_events = defensive_events.merge(team_names[['TEAM_NAME', 'TEAM_FBREF_ID']], on='TEAM_FBREF_ID')\n",
    "defensive_events = defensive_events.merge(df_player_match, on=['PLAYER_WS_ID', 'MATCH_ID'])"
   ]
  },
  {
   "cell_type": "code",
   "execution_count": 65,
   "metadata": {},
   "outputs": [],
   "source": [
    "interest_pos = ['DL', 'DC', 'DR']\n",
    "defender_defend_actions = defensive_events[defensive_events['STARTING_POSITION_WS'].isin(interest_pos)]"
   ]
  },
  {
   "cell_type": "code",
   "execution_count": 66,
   "metadata": {},
   "outputs": [],
   "source": [
    "grouped_def_action_team = defender_defend_actions[['TEAM_NAME','COMPETITION','SEASON',\n",
    "                                                   'START_X']].groupby(['TEAM_NAME','COMPETITION','SEASON']).mean()"
   ]
  },
  {
   "cell_type": "code",
   "execution_count": 67,
   "metadata": {},
   "outputs": [],
   "source": [
    "team_defending = team_defending.merge(team_names[['TEAM_NAME', 'TEAM_FBREF_ID', 'TEAM_LOGO_URL']], on='TEAM_FBREF_ID')"
   ]
  },
  {
   "cell_type": "code",
   "execution_count": 68,
   "metadata": {},
   "outputs": [],
   "source": [
    "grouped_OPPDA = team_defending[['TEAM_NAME','TEAM_LOGO_URL','COMPETITION','SEASON',\n",
    "                                'OPP_PPDA']].groupby(['COMPETITION','SEASON','TEAM_NAME','TEAM_LOGO_URL']).mean()"
   ]
  },
  {
   "cell_type": "code",
   "execution_count": 69,
   "metadata": {},
   "outputs": [],
   "source": [
    "grouped_def_action_team.rename({'START_X':'AVERAGE DEFENSIVE ACTION FROM DEFENDERS (YARDS)'}, axis=1,inplace=True)"
   ]
  },
  {
   "cell_type": "code",
   "execution_count": 70,
   "metadata": {},
   "outputs": [],
   "source": [
    "grouped_OPPDA = team_defending[['TEAM_NAME','TEAM_LOGO_URL','COMPETITION','SEASON','OPP_PPDA']].groupby(['TEAM_NAME',\n",
    "                                                        'COMPETITION','SEASON','TEAM_LOGO_URL']).mean()\n",
    "grouped_def_action_team.rename({'START_X':'AVERAGE DEFENSIVE ACTION FROM DEFENDERS (YARDS)'}, axis=1,inplace=True)\n",
    "grouped_OPPDA.rename({'OPP_PPDA':'OPPOSITION PASSES PER DEFENSIVE ACTION'}, axis=1,inplace=True)\n",
    "pressing_intensity_chart = pd.merge(grouped_def_action_team.reset_index(), grouped_OPPDA.reset_index(), on=['TEAM_NAME', \n",
    "                                                                            'COMPETITION','SEASON'])\n",
    "pressing_intensity_chart.reset_index(inplace=True, drop=True)"
   ]
  },
  {
   "cell_type": "code",
   "execution_count": 71,
   "metadata": {},
   "outputs": [],
   "source": [
    "pressing_intensity_chart = pressing_intensity_chart.merge(df_competitions, on=['COMPETITION','SEASON'])"
   ]
  },
  {
   "cell_type": "code",
   "execution_count": 72,
   "metadata": {},
   "outputs": [],
   "source": [
    "pressing_intensity_chart.drop(['COMPETITION'], axis=1, inplace=True)"
   ]
  },
  {
   "cell_type": "code",
   "execution_count": 70,
   "metadata": {},
   "outputs": [],
   "source": [
    "create_table_query = \"\"\"\n",
    "CREATE TABLE IF NOT EXISTS PRESSING_INTENSITY_CHART (\n",
    "    SEASON INT,\n",
    "    COMPETITION_ACRONYM VARCHAR(255),\n",
    "    TEAM_NAME VARCHAR(255),\n",
    "    TEAM_LOGO_URL VARCHAR(255),\n",
    "    AVERAGE_DEFENSIVE_ACTION_FROM_DEFENDERS FLOAT,\n",
    "    OPPOSITION_PASSES_PER_DEFENSIVE_ACTION FLOAT,\n",
    "    PRIMARY KEY (SEASON, COMPETITION_ACRONYM, TEAM_NAME)\n",
    ");\n",
    "\"\"\""
   ]
  },
  {
   "cell_type": "code",
   "execution_count": 71,
   "metadata": {},
   "outputs": [
    {
     "data": {
      "text/plain": [
       "<snowflake.connector.cursor.SnowflakeCursor at 0x1e5b5550b10>"
      ]
     },
     "execution_count": 71,
     "metadata": {},
     "output_type": "execute_result"
    }
   ],
   "source": [
    "cur.execute(create_table_query)"
   ]
  },
  {
   "cell_type": "code",
   "execution_count": 73,
   "metadata": {},
   "outputs": [],
   "source": [
    "pressing_intensity_chart.columns = pressing_intensity_chart.columns.str.replace(\" \", \"_\")"
   ]
  },
  {
   "cell_type": "code",
   "execution_count": 74,
   "metadata": {},
   "outputs": [],
   "source": [
    "pressing_intensity_chart.rename(columns={'AVERAGE_DEFENSIVE_ACTION_FROM_DEFENDERS_(YARDS)':'AVERAGE_DEFENSIVE_ACTION_FROM_DEFENDERS'}, inplace=True)"
   ]
  },
  {
   "cell_type": "code",
   "execution_count": 75,
   "metadata": {},
   "outputs": [
    {
     "name": "stdout",
     "output_type": "stream",
     "text": [
      "Upsert completed. 60 rows processed.\n"
     ]
    }
   ],
   "source": [
    "upsert_to_snowflake(\"PRESSING_INTENSITY_CHART\", pressing_intensity_chart[['SEASON', 'COMPETITION_ACRONYM', 'TEAM_NAME', 'TEAM_LOGO_URL',\n",
    "                    'AVERAGE_DEFENSIVE_ACTION_FROM_DEFENDERS', 'OPPOSITION_PASSES_PER_DEFENSIVE_ACTION']],\n",
    "                    ['SEASON', 'COMPETITION_ACRONYM', 'TEAM_NAME'])"
   ]
  },
  {
   "cell_type": "code",
   "execution_count": 76,
   "metadata": {},
   "outputs": [],
   "source": [
    "pressing_intensity_chart = fetch_data(cursor, 'SELECT * FROM GEGENSTATS.RADAR_CHARTS.PRESSING_INTENSITY_CHART')"
   ]
  },
  {
   "cell_type": "code",
   "execution_count": 77,
   "metadata": {},
   "outputs": [],
   "source": [
    "pressing_intensity_chart.rename(columns={'AVERAGE_DEFENSIVE_ACTION_FROM_DEFENDERS':'AVERAGE DEFENSIVE ACTION FROM DEFENDERS (YARDS)',\n",
    "                                         'OPPOSITION_PASSES_PER_DEFENSIVE_ACTION':'OPPOSITION PASSES PER DEFENSIVE ACTION'}, inplace=True)"
   ]
  },
  {
   "cell_type": "code",
   "execution_count": 78,
   "metadata": {},
   "outputs": [],
   "source": [
    "filt_pressing_intensity_chart = pressing_intensity_chart[pressing_intensity_chart['SEASON'] == season_selected]\n",
    "filt_pressing_intensity_chart = filt_pressing_intensity_chart[filt_pressing_intensity_chart['COMPETITION_ACRONYM'] == league_selected]"
   ]
  },
  {
   "cell_type": "code",
   "execution_count": null,
   "metadata": {},
   "outputs": [],
   "source": []
  },
  {
   "cell_type": "code",
   "execution_count": 79,
   "metadata": {},
   "outputs": [
    {
     "data": {
      "application/vnd.plotly.v1+json": {
       "config": {
        "plotlyServerURL": "https://plotly.com"
       },
       "data": [
        {
         "hoverinfo": "text",
         "marker": {
          "opacity": 0
         },
         "mode": "markers",
         "text": "Arsenal",
         "type": "scatter",
         "x": [
          31.562243243
         ],
         "y": [
          17.36
         ]
        },
        {
         "hoverinfo": "text",
         "marker": {
          "opacity": 0
         },
         "mode": "markers",
         "text": "Aston Villa",
         "type": "scatter",
         "x": [
          26.9609375
         ],
         "y": [
          10.85
         ]
        },
        {
         "hoverinfo": "text",
         "marker": {
          "opacity": 0
         },
         "mode": "markers",
         "text": "Bournemouth",
         "type": "scatter",
         "x": [
          28.284641407
         ],
         "y": [
          8.29
         ]
        },
        {
         "hoverinfo": "text",
         "marker": {
          "opacity": 0
         },
         "mode": "markers",
         "text": "Brentford",
         "type": "scatter",
         "x": [
          23.638450413
         ],
         "y": [
          10.49
         ]
        },
        {
         "hoverinfo": "text",
         "marker": {
          "opacity": 0
         },
         "mode": "markers",
         "text": "Brighton",
         "type": "scatter",
         "x": [
          30.134461538
         ],
         "y": [
          17.82
         ]
        },
        {
         "hoverinfo": "text",
         "marker": {
          "opacity": 0
         },
         "mode": "markers",
         "text": "Burnley",
         "type": "scatter",
         "x": [
          25.501009056
         ],
         "y": [
          12.22
         ]
        },
        {
         "hoverinfo": "text",
         "marker": {
          "opacity": 0
         },
         "mode": "markers",
         "text": "Chelsea",
         "type": "scatter",
         "x": [
          25.172602459
         ],
         "y": [
          13.95
         ]
        },
        {
         "hoverinfo": "text",
         "marker": {
          "opacity": 0
         },
         "mode": "markers",
         "text": "Crystal Palace",
         "type": "scatter",
         "x": [
          23.897227157
         ],
         "y": [
          8.4
         ]
        },
        {
         "hoverinfo": "text",
         "marker": {
          "opacity": 0
         },
         "mode": "markers",
         "text": "Everton",
         "type": "scatter",
         "x": [
          25.717325581
         ],
         "y": [
          10
         ]
        },
        {
         "hoverinfo": "text",
         "marker": {
          "opacity": 0
         },
         "mode": "markers",
         "text": "Fulham",
         "type": "scatter",
         "x": [
          26.813012972
         ],
         "y": [
          13
         ]
        },
        {
         "hoverinfo": "text",
         "marker": {
          "opacity": 0
         },
         "mode": "markers",
         "text": "Liverpool",
         "type": "scatter",
         "x": [
          28.986959654
         ],
         "y": [
          15.82
         ]
        },
        {
         "hoverinfo": "text",
         "marker": {
          "opacity": 0
         },
         "mode": "markers",
         "text": "Luton Town",
         "type": "scatter",
         "x": [
          26.422751397
         ],
         "y": [
          7.8
         ]
        },
        {
         "hoverinfo": "text",
         "marker": {
          "opacity": 0
         },
         "mode": "markers",
         "text": "Manchester City",
         "type": "scatter",
         "x": [
          32.291128049
         ],
         "y": [
          21.17
         ]
        },
        {
         "hoverinfo": "text",
         "marker": {
          "opacity": 0
         },
         "mode": "markers",
         "text": "Manchester Utd",
         "type": "scatter",
         "x": [
          25.413545455
         ],
         "y": [
          13.4
         ]
        },
        {
         "hoverinfo": "text",
         "marker": {
          "opacity": 0
         },
         "mode": "markers",
         "text": "Newcastle Utd",
         "type": "scatter",
         "x": [
          26.725074932
         ],
         "y": [
          11.46
         ]
        },
        {
         "hoverinfo": "text",
         "marker": {
          "opacity": 0
         },
         "mode": "markers",
         "text": "Nott'ham Forest",
         "type": "scatter",
         "x": [
          22.258997613
         ],
         "y": [
          9.69
         ]
        },
        {
         "hoverinfo": "text",
         "marker": {
          "opacity": 0
         },
         "mode": "markers",
         "text": "Sheffield Utd",
         "type": "scatter",
         "x": [
          23.759240506
         ],
         "y": [
          8.54
         ]
        },
        {
         "hoverinfo": "text",
         "marker": {
          "opacity": 0
         },
         "mode": "markers",
         "text": "Tottenham",
         "type": "scatter",
         "x": [
          29.095598592
         ],
         "y": [
          11.17
         ]
        },
        {
         "hoverinfo": "text",
         "marker": {
          "opacity": 0
         },
         "mode": "markers",
         "text": "West Ham",
         "type": "scatter",
         "x": [
          24.101660377
         ],
         "y": [
          9.68
         ]
        },
        {
         "hoverinfo": "text",
         "marker": {
          "opacity": 0
         },
         "mode": "markers",
         "text": "Wolves",
         "type": "scatter",
         "x": [
          24.719292035
         ],
         "y": [
          9.69
         ]
        }
       ],
       "layout": {
        "annotations": [
         {
          "align": "left",
          "font": {
           "color": "red",
           "family": "Roboto, sans-serif",
           "size": 15
          },
          "showarrow": false,
          "text": "Low PPDA from Opposition<br>Defenders Defending Deeper",
          "x": 0,
          "xref": "paper",
          "y": 0,
          "yref": "paper"
         },
         {
          "align": "left",
          "font": {
           "color": "orange",
           "family": "Roboto, sans-serif",
           "size": 15
          },
          "showarrow": false,
          "text": "High PPDA from Opposition<br>Defenders Defending Deeper",
          "x": 0,
          "xref": "paper",
          "y": 1,
          "yref": "paper"
         },
         {
          "align": "right",
          "font": {
           "color": "green",
           "family": "Roboto, sans-serif",
           "size": 15
          },
          "showarrow": false,
          "text": "High PPDA from Opposition<br>Defenders Defending Higher",
          "x": 1,
          "xref": "paper",
          "y": 1,
          "yref": "paper"
         },
         {
          "align": "right",
          "font": {
           "color": "orange",
           "family": "Roboto, sans-serif",
           "size": 15
          },
          "showarrow": false,
          "text": "Low PPDA from Opposition<br>Defenders Defending Higher",
          "x": 1,
          "xref": "paper",
          "y": 0,
          "yref": "paper"
         }
        ],
        "font": {
         "color": "white",
         "family": "Roboto, sans-serif",
         "size": 25
        },
        "height": 625,
        "hoverlabel": {
         "bgcolor": "rgba(20, 20, 20, 0.8)",
         "font": {
          "family": "Roboto, sans-serif"
         }
        },
        "images": [
         {
          "layer": "above",
          "opacity": 1,
          "sizex": 1.08,
          "sizey": 1.08,
          "sizing": "contain",
          "source": "https://i.imgur.com/SURo5sj.png",
          "x": 31.562243243,
          "xanchor": "center",
          "xref": "x",
          "y": 17.36,
          "yanchor": "middle",
          "yref": "y"
         },
         {
          "layer": "above",
          "opacity": 0.35,
          "sizex": 0.6,
          "sizey": 0.6,
          "sizing": "contain",
          "source": "https://i.imgur.com/M4mwH1X.png",
          "x": 26.9609375,
          "xanchor": "center",
          "xref": "x",
          "y": 10.85,
          "yanchor": "middle",
          "yref": "y"
         },
         {
          "layer": "above",
          "opacity": 0.35,
          "sizex": 0.6,
          "sizey": 0.6,
          "sizing": "contain",
          "source": "https://i.imgur.com/0F6UIO4.png",
          "x": 28.284641407,
          "xanchor": "center",
          "xref": "x",
          "y": 8.29,
          "yanchor": "middle",
          "yref": "y"
         },
         {
          "layer": "above",
          "opacity": 0.35,
          "sizex": 0.6,
          "sizey": 0.6,
          "sizing": "contain",
          "source": "https://i.imgur.com/MOhGOQ4.png",
          "x": 23.638450413,
          "xanchor": "center",
          "xref": "x",
          "y": 10.49,
          "yanchor": "middle",
          "yref": "y"
         },
         {
          "layer": "above",
          "opacity": 0.35,
          "sizex": 0.6,
          "sizey": 0.6,
          "sizing": "contain",
          "source": "https://i.imgur.com/EMCwD3X.png",
          "x": 30.134461538,
          "xanchor": "center",
          "xref": "x",
          "y": 17.82,
          "yanchor": "middle",
          "yref": "y"
         },
         {
          "layer": "above",
          "opacity": 0.35,
          "sizex": 0.6,
          "sizey": 0.6,
          "sizing": "contain",
          "source": "https://i.imgur.com/6IDi9XJ.png",
          "x": 25.501009056,
          "xanchor": "center",
          "xref": "x",
          "y": 12.22,
          "yanchor": "middle",
          "yref": "y"
         },
         {
          "layer": "above",
          "opacity": 0.35,
          "sizex": 0.6,
          "sizey": 0.6,
          "sizing": "contain",
          "source": "https://i.imgur.com/6F7h3UR.png",
          "x": 25.172602459,
          "xanchor": "center",
          "xref": "x",
          "y": 13.95,
          "yanchor": "middle",
          "yref": "y"
         },
         {
          "layer": "above",
          "opacity": 0.35,
          "sizex": 0.6,
          "sizey": 0.6,
          "sizing": "contain",
          "source": "https://i.imgur.com/LPhzr0K.png",
          "x": 23.897227157,
          "xanchor": "center",
          "xref": "x",
          "y": 8.4,
          "yanchor": "middle",
          "yref": "y"
         },
         {
          "layer": "above",
          "opacity": 0.35,
          "sizex": 0.6,
          "sizey": 0.6,
          "sizing": "contain",
          "source": "https://i.imgur.com/Dgei0uj.png",
          "x": 25.717325581,
          "xanchor": "center",
          "xref": "x",
          "y": 10,
          "yanchor": "middle",
          "yref": "y"
         },
         {
          "layer": "above",
          "opacity": 0.35,
          "sizex": 0.6,
          "sizey": 0.6,
          "sizing": "contain",
          "source": "https://i.imgur.com/2zggSrF.png",
          "x": 26.813012972,
          "xanchor": "center",
          "xref": "x",
          "y": 13,
          "yanchor": "middle",
          "yref": "y"
         },
         {
          "layer": "above",
          "opacity": 0.35,
          "sizex": 0.6,
          "sizey": 0.6,
          "sizing": "contain",
          "source": "https://i.imgur.com/fs7VK9G.png",
          "x": 28.986959654,
          "xanchor": "center",
          "xref": "x",
          "y": 15.82,
          "yanchor": "middle",
          "yref": "y"
         },
         {
          "layer": "above",
          "opacity": 0.35,
          "sizex": 0.6,
          "sizey": 0.6,
          "sizing": "contain",
          "source": "https://i.imgur.com/vHHqKJX.png",
          "x": 26.422751397,
          "xanchor": "center",
          "xref": "x",
          "y": 7.8,
          "yanchor": "middle",
          "yref": "y"
         },
         {
          "layer": "above",
          "opacity": 0.35,
          "sizex": 0.6,
          "sizey": 0.6,
          "sizing": "contain",
          "source": "https://i.imgur.com/FF8z7uZ.png",
          "x": 32.291128049,
          "xanchor": "center",
          "xref": "x",
          "y": 21.17,
          "yanchor": "middle",
          "yref": "y"
         },
         {
          "layer": "above",
          "opacity": 0.35,
          "sizex": 0.6,
          "sizey": 0.6,
          "sizing": "contain",
          "source": "https://i.imgur.com/z47emBQ.png",
          "x": 25.413545455,
          "xanchor": "center",
          "xref": "x",
          "y": 13.4,
          "yanchor": "middle",
          "yref": "y"
         },
         {
          "layer": "above",
          "opacity": 0.35,
          "sizex": 0.6,
          "sizey": 0.6,
          "sizing": "contain",
          "source": "https://i.imgur.com/3kOLokZ.png",
          "x": 26.725074932,
          "xanchor": "center",
          "xref": "x",
          "y": 11.46,
          "yanchor": "middle",
          "yref": "y"
         },
         {
          "layer": "above",
          "opacity": 0.35,
          "sizex": 0.6,
          "sizey": 0.6,
          "sizing": "contain",
          "source": "https://i.imgur.com/z4Tl9Zu.png",
          "x": 22.258997613,
          "xanchor": "center",
          "xref": "x",
          "y": 9.69,
          "yanchor": "middle",
          "yref": "y"
         },
         {
          "layer": "above",
          "opacity": 0.35,
          "sizex": 0.6,
          "sizey": 0.6,
          "sizing": "contain",
          "source": "https://i.imgur.com/eeBetFN.png",
          "x": 23.759240506,
          "xanchor": "center",
          "xref": "x",
          "y": 8.54,
          "yanchor": "middle",
          "yref": "y"
         },
         {
          "layer": "above",
          "opacity": 0.35,
          "sizex": 0.6,
          "sizey": 0.6,
          "sizing": "contain",
          "source": "https://i.imgur.com/fJ7rUWW.png",
          "x": 29.095598592,
          "xanchor": "center",
          "xref": "x",
          "y": 11.17,
          "yanchor": "middle",
          "yref": "y"
         },
         {
          "layer": "above",
          "opacity": 0.35,
          "sizex": 0.6,
          "sizey": 0.6,
          "sizing": "contain",
          "source": "https://i.imgur.com/9BQHJRl.png",
          "x": 24.101660377,
          "xanchor": "center",
          "xref": "x",
          "y": 9.68,
          "yanchor": "middle",
          "yref": "y"
         },
         {
          "layer": "above",
          "opacity": 0.35,
          "sizex": 0.6,
          "sizey": 0.6,
          "sizing": "contain",
          "source": "https://i.imgur.com/6azSF88.png",
          "x": 24.719292035,
          "xanchor": "center",
          "xref": "x",
          "y": 9.69,
          "yanchor": "middle",
          "yref": "y"
         }
        ],
        "margin": {
         "b": 10,
         "l": 10,
         "r": 30,
         "t": 50
        },
        "paper_bgcolor": "rgb(70, 70, 70)",
        "plot_bgcolor": "rgb(70, 70, 70)",
        "shapes": [
         {
          "layer": "below",
          "line": {
           "color": "White",
           "width": 3
          },
          "type": "line",
          "x0": 26.572807996799998,
          "x1": 26.572807996799998,
          "y0": 6,
          "y1": 24
         },
         {
          "layer": "below",
          "line": {
           "color": "White",
           "width": 3
          },
          "type": "line",
          "x0": 20,
          "x1": 35,
          "y0": 12.04,
          "y1": 12.04
         }
        ],
        "showlegend": false,
        "template": {
         "data": {
          "bar": [
           {
            "error_x": {
             "color": "#2a3f5f"
            },
            "error_y": {
             "color": "#2a3f5f"
            },
            "marker": {
             "line": {
              "color": "#E5ECF6",
              "width": 0.5
             },
             "pattern": {
              "fillmode": "overlay",
              "size": 10,
              "solidity": 0.2
             }
            },
            "type": "bar"
           }
          ],
          "barpolar": [
           {
            "marker": {
             "line": {
              "color": "#E5ECF6",
              "width": 0.5
             },
             "pattern": {
              "fillmode": "overlay",
              "size": 10,
              "solidity": 0.2
             }
            },
            "type": "barpolar"
           }
          ],
          "carpet": [
           {
            "aaxis": {
             "endlinecolor": "#2a3f5f",
             "gridcolor": "white",
             "linecolor": "white",
             "minorgridcolor": "white",
             "startlinecolor": "#2a3f5f"
            },
            "baxis": {
             "endlinecolor": "#2a3f5f",
             "gridcolor": "white",
             "linecolor": "white",
             "minorgridcolor": "white",
             "startlinecolor": "#2a3f5f"
            },
            "type": "carpet"
           }
          ],
          "choropleth": [
           {
            "colorbar": {
             "outlinewidth": 0,
             "ticks": ""
            },
            "type": "choropleth"
           }
          ],
          "contour": [
           {
            "colorbar": {
             "outlinewidth": 0,
             "ticks": ""
            },
            "colorscale": [
             [
              0,
              "#0d0887"
             ],
             [
              0.1111111111111111,
              "#46039f"
             ],
             [
              0.2222222222222222,
              "#7201a8"
             ],
             [
              0.3333333333333333,
              "#9c179e"
             ],
             [
              0.4444444444444444,
              "#bd3786"
             ],
             [
              0.5555555555555556,
              "#d8576b"
             ],
             [
              0.6666666666666666,
              "#ed7953"
             ],
             [
              0.7777777777777778,
              "#fb9f3a"
             ],
             [
              0.8888888888888888,
              "#fdca26"
             ],
             [
              1,
              "#f0f921"
             ]
            ],
            "type": "contour"
           }
          ],
          "contourcarpet": [
           {
            "colorbar": {
             "outlinewidth": 0,
             "ticks": ""
            },
            "type": "contourcarpet"
           }
          ],
          "heatmap": [
           {
            "colorbar": {
             "outlinewidth": 0,
             "ticks": ""
            },
            "colorscale": [
             [
              0,
              "#0d0887"
             ],
             [
              0.1111111111111111,
              "#46039f"
             ],
             [
              0.2222222222222222,
              "#7201a8"
             ],
             [
              0.3333333333333333,
              "#9c179e"
             ],
             [
              0.4444444444444444,
              "#bd3786"
             ],
             [
              0.5555555555555556,
              "#d8576b"
             ],
             [
              0.6666666666666666,
              "#ed7953"
             ],
             [
              0.7777777777777778,
              "#fb9f3a"
             ],
             [
              0.8888888888888888,
              "#fdca26"
             ],
             [
              1,
              "#f0f921"
             ]
            ],
            "type": "heatmap"
           }
          ],
          "heatmapgl": [
           {
            "colorbar": {
             "outlinewidth": 0,
             "ticks": ""
            },
            "colorscale": [
             [
              0,
              "#0d0887"
             ],
             [
              0.1111111111111111,
              "#46039f"
             ],
             [
              0.2222222222222222,
              "#7201a8"
             ],
             [
              0.3333333333333333,
              "#9c179e"
             ],
             [
              0.4444444444444444,
              "#bd3786"
             ],
             [
              0.5555555555555556,
              "#d8576b"
             ],
             [
              0.6666666666666666,
              "#ed7953"
             ],
             [
              0.7777777777777778,
              "#fb9f3a"
             ],
             [
              0.8888888888888888,
              "#fdca26"
             ],
             [
              1,
              "#f0f921"
             ]
            ],
            "type": "heatmapgl"
           }
          ],
          "histogram": [
           {
            "marker": {
             "pattern": {
              "fillmode": "overlay",
              "size": 10,
              "solidity": 0.2
             }
            },
            "type": "histogram"
           }
          ],
          "histogram2d": [
           {
            "colorbar": {
             "outlinewidth": 0,
             "ticks": ""
            },
            "colorscale": [
             [
              0,
              "#0d0887"
             ],
             [
              0.1111111111111111,
              "#46039f"
             ],
             [
              0.2222222222222222,
              "#7201a8"
             ],
             [
              0.3333333333333333,
              "#9c179e"
             ],
             [
              0.4444444444444444,
              "#bd3786"
             ],
             [
              0.5555555555555556,
              "#d8576b"
             ],
             [
              0.6666666666666666,
              "#ed7953"
             ],
             [
              0.7777777777777778,
              "#fb9f3a"
             ],
             [
              0.8888888888888888,
              "#fdca26"
             ],
             [
              1,
              "#f0f921"
             ]
            ],
            "type": "histogram2d"
           }
          ],
          "histogram2dcontour": [
           {
            "colorbar": {
             "outlinewidth": 0,
             "ticks": ""
            },
            "colorscale": [
             [
              0,
              "#0d0887"
             ],
             [
              0.1111111111111111,
              "#46039f"
             ],
             [
              0.2222222222222222,
              "#7201a8"
             ],
             [
              0.3333333333333333,
              "#9c179e"
             ],
             [
              0.4444444444444444,
              "#bd3786"
             ],
             [
              0.5555555555555556,
              "#d8576b"
             ],
             [
              0.6666666666666666,
              "#ed7953"
             ],
             [
              0.7777777777777778,
              "#fb9f3a"
             ],
             [
              0.8888888888888888,
              "#fdca26"
             ],
             [
              1,
              "#f0f921"
             ]
            ],
            "type": "histogram2dcontour"
           }
          ],
          "mesh3d": [
           {
            "colorbar": {
             "outlinewidth": 0,
             "ticks": ""
            },
            "type": "mesh3d"
           }
          ],
          "parcoords": [
           {
            "line": {
             "colorbar": {
              "outlinewidth": 0,
              "ticks": ""
             }
            },
            "type": "parcoords"
           }
          ],
          "pie": [
           {
            "automargin": true,
            "type": "pie"
           }
          ],
          "scatter": [
           {
            "fillpattern": {
             "fillmode": "overlay",
             "size": 10,
             "solidity": 0.2
            },
            "type": "scatter"
           }
          ],
          "scatter3d": [
           {
            "line": {
             "colorbar": {
              "outlinewidth": 0,
              "ticks": ""
             }
            },
            "marker": {
             "colorbar": {
              "outlinewidth": 0,
              "ticks": ""
             }
            },
            "type": "scatter3d"
           }
          ],
          "scattercarpet": [
           {
            "marker": {
             "colorbar": {
              "outlinewidth": 0,
              "ticks": ""
             }
            },
            "type": "scattercarpet"
           }
          ],
          "scattergeo": [
           {
            "marker": {
             "colorbar": {
              "outlinewidth": 0,
              "ticks": ""
             }
            },
            "type": "scattergeo"
           }
          ],
          "scattergl": [
           {
            "marker": {
             "colorbar": {
              "outlinewidth": 0,
              "ticks": ""
             }
            },
            "type": "scattergl"
           }
          ],
          "scattermapbox": [
           {
            "marker": {
             "colorbar": {
              "outlinewidth": 0,
              "ticks": ""
             }
            },
            "type": "scattermapbox"
           }
          ],
          "scatterpolar": [
           {
            "marker": {
             "colorbar": {
              "outlinewidth": 0,
              "ticks": ""
             }
            },
            "type": "scatterpolar"
           }
          ],
          "scatterpolargl": [
           {
            "marker": {
             "colorbar": {
              "outlinewidth": 0,
              "ticks": ""
             }
            },
            "type": "scatterpolargl"
           }
          ],
          "scatterternary": [
           {
            "marker": {
             "colorbar": {
              "outlinewidth": 0,
              "ticks": ""
             }
            },
            "type": "scatterternary"
           }
          ],
          "surface": [
           {
            "colorbar": {
             "outlinewidth": 0,
             "ticks": ""
            },
            "colorscale": [
             [
              0,
              "#0d0887"
             ],
             [
              0.1111111111111111,
              "#46039f"
             ],
             [
              0.2222222222222222,
              "#7201a8"
             ],
             [
              0.3333333333333333,
              "#9c179e"
             ],
             [
              0.4444444444444444,
              "#bd3786"
             ],
             [
              0.5555555555555556,
              "#d8576b"
             ],
             [
              0.6666666666666666,
              "#ed7953"
             ],
             [
              0.7777777777777778,
              "#fb9f3a"
             ],
             [
              0.8888888888888888,
              "#fdca26"
             ],
             [
              1,
              "#f0f921"
             ]
            ],
            "type": "surface"
           }
          ],
          "table": [
           {
            "cells": {
             "fill": {
              "color": "#EBF0F8"
             },
             "line": {
              "color": "white"
             }
            },
            "header": {
             "fill": {
              "color": "#C8D4E3"
             },
             "line": {
              "color": "white"
             }
            },
            "type": "table"
           }
          ]
         },
         "layout": {
          "annotationdefaults": {
           "arrowcolor": "#2a3f5f",
           "arrowhead": 0,
           "arrowwidth": 1
          },
          "autotypenumbers": "strict",
          "coloraxis": {
           "colorbar": {
            "outlinewidth": 0,
            "ticks": ""
           }
          },
          "colorscale": {
           "diverging": [
            [
             0,
             "#8e0152"
            ],
            [
             0.1,
             "#c51b7d"
            ],
            [
             0.2,
             "#de77ae"
            ],
            [
             0.3,
             "#f1b6da"
            ],
            [
             0.4,
             "#fde0ef"
            ],
            [
             0.5,
             "#f7f7f7"
            ],
            [
             0.6,
             "#e6f5d0"
            ],
            [
             0.7,
             "#b8e186"
            ],
            [
             0.8,
             "#7fbc41"
            ],
            [
             0.9,
             "#4d9221"
            ],
            [
             1,
             "#276419"
            ]
           ],
           "sequential": [
            [
             0,
             "#0d0887"
            ],
            [
             0.1111111111111111,
             "#46039f"
            ],
            [
             0.2222222222222222,
             "#7201a8"
            ],
            [
             0.3333333333333333,
             "#9c179e"
            ],
            [
             0.4444444444444444,
             "#bd3786"
            ],
            [
             0.5555555555555556,
             "#d8576b"
            ],
            [
             0.6666666666666666,
             "#ed7953"
            ],
            [
             0.7777777777777778,
             "#fb9f3a"
            ],
            [
             0.8888888888888888,
             "#fdca26"
            ],
            [
             1,
             "#f0f921"
            ]
           ],
           "sequentialminus": [
            [
             0,
             "#0d0887"
            ],
            [
             0.1111111111111111,
             "#46039f"
            ],
            [
             0.2222222222222222,
             "#7201a8"
            ],
            [
             0.3333333333333333,
             "#9c179e"
            ],
            [
             0.4444444444444444,
             "#bd3786"
            ],
            [
             0.5555555555555556,
             "#d8576b"
            ],
            [
             0.6666666666666666,
             "#ed7953"
            ],
            [
             0.7777777777777778,
             "#fb9f3a"
            ],
            [
             0.8888888888888888,
             "#fdca26"
            ],
            [
             1,
             "#f0f921"
            ]
           ]
          },
          "colorway": [
           "#636efa",
           "#EF553B",
           "#00cc96",
           "#ab63fa",
           "#FFA15A",
           "#19d3f3",
           "#FF6692",
           "#B6E880",
           "#FF97FF",
           "#FECB52"
          ],
          "font": {
           "color": "#2a3f5f"
          },
          "geo": {
           "bgcolor": "white",
           "lakecolor": "white",
           "landcolor": "#E5ECF6",
           "showlakes": true,
           "showland": true,
           "subunitcolor": "white"
          },
          "hoverlabel": {
           "align": "left"
          },
          "hovermode": "closest",
          "mapbox": {
           "style": "light"
          },
          "paper_bgcolor": "white",
          "plot_bgcolor": "#E5ECF6",
          "polar": {
           "angularaxis": {
            "gridcolor": "white",
            "linecolor": "white",
            "ticks": ""
           },
           "bgcolor": "#E5ECF6",
           "radialaxis": {
            "gridcolor": "white",
            "linecolor": "white",
            "ticks": ""
           }
          },
          "scene": {
           "xaxis": {
            "backgroundcolor": "#E5ECF6",
            "gridcolor": "white",
            "gridwidth": 2,
            "linecolor": "white",
            "showbackground": true,
            "ticks": "",
            "zerolinecolor": "white"
           },
           "yaxis": {
            "backgroundcolor": "#E5ECF6",
            "gridcolor": "white",
            "gridwidth": 2,
            "linecolor": "white",
            "showbackground": true,
            "ticks": "",
            "zerolinecolor": "white"
           },
           "zaxis": {
            "backgroundcolor": "#E5ECF6",
            "gridcolor": "white",
            "gridwidth": 2,
            "linecolor": "white",
            "showbackground": true,
            "ticks": "",
            "zerolinecolor": "white"
           }
          },
          "shapedefaults": {
           "line": {
            "color": "#2a3f5f"
           }
          },
          "ternary": {
           "aaxis": {
            "gridcolor": "white",
            "linecolor": "white",
            "ticks": ""
           },
           "baxis": {
            "gridcolor": "white",
            "linecolor": "white",
            "ticks": ""
           },
           "bgcolor": "#E5ECF6",
           "caxis": {
            "gridcolor": "white",
            "linecolor": "white",
            "ticks": ""
           }
          },
          "title": {
           "x": 0.05
          },
          "xaxis": {
           "automargin": true,
           "gridcolor": "white",
           "linecolor": "white",
           "ticks": "",
           "title": {
            "standoff": 15
           },
           "zerolinecolor": "white",
           "zerolinewidth": 2
          },
          "yaxis": {
           "automargin": true,
           "gridcolor": "white",
           "linecolor": "white",
           "ticks": "",
           "title": {
            "standoff": 15
           },
           "zerolinecolor": "white",
           "zerolinewidth": 2
          }
         }
        },
        "title": {
         "font": {
          "color": "white",
          "family": "Roboto, sans-serif",
          "size": 23
         },
         "text": "PRESSING INTENSITY",
         "x": 0.5,
         "xanchor": "center",
         "y": 0.98,
         "yanchor": "top"
        },
        "width": 625,
        "xaxis": {
         "gridcolor": "rgba(0,0,0,0)",
         "linecolor": "white",
         "linewidth": 2,
         "range": [
          20,
          35
         ],
         "showline": true,
         "tickfont": {
          "color": "white",
          "size": 15
         },
         "title": {
          "font": {
           "size": 25
          },
          "text": "AVERAGE DEFENSIVE ACTION FROM DEFENDERS (YARDS)"
         }
        },
        "yaxis": {
         "gridcolor": "rgba(0,0,0,0)",
         "linecolor": "white",
         "linewidth": 2,
         "range": [
          6,
          24
         ],
         "showline": true,
         "tickfont": {
          "color": "white",
          "size": 15
         },
         "title": {
          "font": {
           "size": 25
          },
          "text": "OPPOSITION PASSES PER DEFENSIVE ACTION"
         }
        }
       }
      }
     },
     "metadata": {},
     "output_type": "display_data"
    }
   ],
   "source": [
    "create_FM_team_scatter_chart(filt_pressing_intensity_chart, 'PRESSING INTENSITY', \"Arsenal\", 'AVERAGE DEFENSIVE ACTION FROM DEFENDERS (YARDS)', \n",
    "                                                        'OPPOSITION PASSES PER DEFENSIVE ACTION', 0.6, 20, 35, 6, 24, \n",
    "                                                        \"Low PPDA from Opposition<br>Defenders Defending Deeper\", \n",
    "                                                        \"Low PPDA from Opposition<br>Defenders Defending Higher\",\n",
    "                                                        \"High PPDA from Opposition<br>Defenders Defending Deeper\", \n",
    "                                                        \"High PPDA from Opposition<br>Defenders Defending Higher\", \"red\", \"orange\", \"orange\", \"green\")\n"
   ]
  },
  {
   "cell_type": "markdown",
   "metadata": {},
   "source": [
    "### Now to look at set_piece crosses"
   ]
  },
  {
   "cell_type": "code",
   "execution_count": 80,
   "metadata": {},
   "outputs": [],
   "source": [
    "set_piece_cross_events = df_events[df_events['TYPE_NAME'].isin(['freekick_crossed', 'corner_crossed'])]"
   ]
  },
  {
   "cell_type": "code",
   "execution_count": 81,
   "metadata": {},
   "outputs": [
    {
     "name": "stderr",
     "output_type": "stream",
     "text": [
      "C:\\Users\\ksbha\\AppData\\Local\\Temp\\ipykernel_7620\\2166643350.py:1: SettingWithCopyWarning:\n",
      "\n",
      "\n",
      "A value is trying to be set on a copy of a slice from a DataFrame.\n",
      "Try using .loc[row_indexer,col_indexer] = value instead\n",
      "\n",
      "See the caveats in the documentation: https://pandas.pydata.org/pandas-docs/stable/user_guide/indexing.html#returning-a-view-versus-a-copy\n",
      "\n"
     ]
    }
   ],
   "source": [
    "set_piece_cross_events.loc[:, 'OPPO_TEAM_ID'] = \"NaN\""
   ]
  },
  {
   "cell_type": "code",
   "execution_count": 82,
   "metadata": {},
   "outputs": [],
   "source": [
    "# Functio to help us populate the 'OPPO_TEAM_ID' column\n",
    "def swap_team_id(row, home_id, away_id):\n",
    "    if row['TEAM_FBREF_ID'] == home_id:\n",
    "        return away_id\n",
    "    elif row['TEAM_FBREF_ID'] == away_id:\n",
    "        return home_id\n",
    "    else:\n",
    "        return \"PROBLEM\""
   ]
  },
  {
   "cell_type": "code",
   "execution_count": 83,
   "metadata": {},
   "outputs": [],
   "source": [
    "def specify_oppo_team_id_to_events(df_events, filtered_matches):\n",
    "    for ind, row in filtered_matches.iterrows():\n",
    "        home_team_id = row['HOME_TEAM_ID']\n",
    "        away_team_id = row['AWAY_TEAM_ID']\n",
    "\n",
    "        inds_to_replace = df_events[df_events['MATCH_ID'] == row['MATCH_ID']].index\n",
    "        df_events.loc[inds_to_replace, 'OPPO_TEAM_ID'] = df_events.loc[inds_to_replace].apply(swap_team_id, \n",
    "                                                                                             axis=1, args=(home_team_id, away_team_id))\n",
    "    return df_events"
   ]
  },
  {
   "cell_type": "code",
   "execution_count": 84,
   "metadata": {},
   "outputs": [],
   "source": [
    "set_piece_cross_events = specify_oppo_team_id_to_events(set_piece_cross_events, df_matches)"
   ]
  },
  {
   "cell_type": "code",
   "execution_count": 85,
   "metadata": {},
   "outputs": [],
   "source": [
    "team_names_2 = team_names[['TEAM_NAME', 'TEAM_FBREF_ID']].copy()\n",
    "team_names_2.rename({'TEAM_FBREF_ID':'OPPO_TEAM_ID', 'TEAM_NAME':'OPPO_TEAM_NAME'}, axis=1, inplace=True)"
   ]
  },
  {
   "cell_type": "code",
   "execution_count": 86,
   "metadata": {},
   "outputs": [],
   "source": [
    "set_piece_cross_events = set_piece_cross_events.merge(team_names_2, on=\"OPPO_TEAM_ID\")"
   ]
  },
  {
   "cell_type": "code",
   "execution_count": 87,
   "metadata": {},
   "outputs": [],
   "source": [
    "set_piece_cross_events_grouped = set_piece_cross_events[['OPPO_TEAM_NAME','COMPETITION','SEASON','MATCH_ID']].groupby([\n",
    "    'OPPO_TEAM_NAME','COMPETITION','SEASON']).count()"
   ]
  },
  {
   "cell_type": "code",
   "execution_count": 88,
   "metadata": {},
   "outputs": [],
   "source": [
    "team_name_matches_played = team_misc[['TEAM_NAME', 'COMPETITION','SEASON','MATCHES_PLAYED']].copy()"
   ]
  },
  {
   "cell_type": "code",
   "execution_count": 89,
   "metadata": {},
   "outputs": [],
   "source": [
    "set_piece_cross_events_grouped.rename({'MATCH_ID':'OPPOSITION CROSSES FROM SET PIECE'}, axis=1, inplace=True)"
   ]
  },
  {
   "cell_type": "code",
   "execution_count": 90,
   "metadata": {},
   "outputs": [],
   "source": [
    "set_piece_cross_events_grouped = team_name_matches_played.merge(set_piece_cross_events_grouped.reset_index().rename(\n",
    "    {'OPPO_TEAM_NAME':'TEAM_NAME'}, axis=1),on=['TEAM_NAME','COMPETITION','SEASON'])"
   ]
  },
  {
   "cell_type": "code",
   "execution_count": 91,
   "metadata": {},
   "outputs": [],
   "source": [
    "set_piece_cross_events_grouped['OPPOSITION CROSSES FROM SET PIECE PER GAME'] = set_piece_cross_events_grouped['OPPOSITION CROSSES FROM SET PIECE'] / \\\n",
    "                                                                        set_piece_cross_events_grouped['MATCHES_PLAYED']"
   ]
  },
  {
   "cell_type": "code",
   "execution_count": 92,
   "metadata": {},
   "outputs": [],
   "source": [
    "inds1 = df_shots[df_shots['SCA_1_PLAYER_FBREF_EVENT'].isin(['Pass (Dead)'])].index\n",
    "inds2 = df_shots[df_shots['SCA_2_PLAYER_FBREF_EVENT'].isin(['Pass (Dead)'])].index"
   ]
  },
  {
   "cell_type": "code",
   "execution_count": 93,
   "metadata": {},
   "outputs": [],
   "source": [
    "inds_union = np.union1d(inds1, inds2)"
   ]
  },
  {
   "cell_type": "code",
   "execution_count": 94,
   "metadata": {},
   "outputs": [],
   "source": [
    "df_shots_set_piece = df_shots.loc[inds_union]"
   ]
  },
  {
   "cell_type": "code",
   "execution_count": 95,
   "metadata": {},
   "outputs": [],
   "source": [
    "df_shots_set_piece = df_events[['MATCH_ID','ACTION_ID','TEAM_FBREF_ID']].merge(df_shots_set_piece, on=['MATCH_ID', 'ACTION_ID'])"
   ]
  },
  {
   "cell_type": "code",
   "execution_count": 96,
   "metadata": {},
   "outputs": [],
   "source": [
    "df_shots_set_piece.loc[:, 'OPPO_TEAM_ID'] = \"NaN\""
   ]
  },
  {
   "cell_type": "code",
   "execution_count": 97,
   "metadata": {},
   "outputs": [],
   "source": [
    "df_shots_set_piece = specify_oppo_team_id_to_events(df_shots_set_piece, df_matches)"
   ]
  },
  {
   "cell_type": "code",
   "execution_count": 98,
   "metadata": {},
   "outputs": [],
   "source": [
    "df_shots_set_piece = df_shots_set_piece.merge(team_names_2, on=\"OPPO_TEAM_ID\")"
   ]
  },
  {
   "cell_type": "code",
   "execution_count": 99,
   "metadata": {},
   "outputs": [],
   "source": [
    "df_shots_set_piece = df_shots_set_piece.merge(df_matches[['MATCH_ID','COMPETITION','SEASON']], on='MATCH_ID', how='left')"
   ]
  },
  {
   "cell_type": "code",
   "execution_count": 100,
   "metadata": {},
   "outputs": [],
   "source": [
    "shots_xg_conceded_from_set_pieces_grouped = df_shots_set_piece[['OPPO_TEAM_NAME','COMPETITION','SEASON', \n",
    "                                                                'XG']].groupby(['OPPO_TEAM_NAME','COMPETITION','SEASON']).sum()"
   ]
  },
  {
   "cell_type": "code",
   "execution_count": 101,
   "metadata": {},
   "outputs": [],
   "source": [
    "shots_xg_conceded_from_set_pieces_grouped = team_name_matches_played.merge(shots_xg_conceded_from_set_pieces_grouped.reset_index().rename(\n",
    "    {'OPPO_TEAM_NAME':'TEAM_NAME'}, axis=1),on=['TEAM_NAME','COMPETITION','SEASON'])"
   ]
  },
  {
   "cell_type": "code",
   "execution_count": 102,
   "metadata": {},
   "outputs": [],
   "source": [
    "shots_xg_conceded_from_set_pieces_grouped['OPPOSITION XG FROM SET PIECE CROSSES PER GAME'] = shots_xg_conceded_from_set_pieces_grouped['XG'] / \\\n",
    "                                                                        shots_xg_conceded_from_set_pieces_grouped['MATCHES_PLAYED']"
   ]
  },
  {
   "cell_type": "code",
   "execution_count": 103,
   "metadata": {},
   "outputs": [],
   "source": [
    "set_piece_efficiency_chart = set_piece_cross_events_grouped.drop('MATCHES_PLAYED', \n",
    "                                    axis=1).merge(shots_xg_conceded_from_set_pieces_grouped.drop('MATCHES_PLAYED', axis=1), \n",
    "                                                                    on=['TEAM_NAME','COMPETITION','SEASON'] )"
   ]
  },
  {
   "cell_type": "code",
   "execution_count": 104,
   "metadata": {},
   "outputs": [],
   "source": [
    "set_piece_efficiency_chart = set_piece_efficiency_chart.merge(team_names[['TEAM_NAME', 'TEAM_LOGO_URL']], on='TEAM_NAME')"
   ]
  },
  {
   "cell_type": "code",
   "execution_count": 105,
   "metadata": {},
   "outputs": [],
   "source": [
    "set_piece_efficiency_chart = set_piece_efficiency_chart.merge(df_competitions, on=['COMPETITION','SEASON'])"
   ]
  },
  {
   "cell_type": "code",
   "execution_count": 106,
   "metadata": {},
   "outputs": [],
   "source": [
    "set_piece_efficiency_chart.drop(['COMPETITION'], axis=1, inplace=True)"
   ]
  },
  {
   "cell_type": "code",
   "execution_count": 757,
   "metadata": {},
   "outputs": [],
   "source": [
    "create_table_query = \"\"\"\n",
    "CREATE TABLE IF NOT EXISTS SET_PIECE_EFFICIENCY_CHART (\n",
    "    SEASON INT,\n",
    "    COMPETITION_ACRONYM VARCHAR(255),\n",
    "    TEAM_NAME VARCHAR(255),\n",
    "    TEAM_LOGO_URL VARCHAR(255),\n",
    "    OPPOSITION_XG_FROM_SET_PIECE_CROSSES_PER_GAME FLOAT,\n",
    "    OPPOSITION_CROSSES_FROM_SET_PIECE_PER_GAME FLOAT,\n",
    "    PRIMARY KEY (SEASON, COMPETITION_ACRONYM, TEAM_NAME)\n",
    ");\n",
    "\"\"\""
   ]
  },
  {
   "cell_type": "code",
   "execution_count": 758,
   "metadata": {},
   "outputs": [
    {
     "data": {
      "text/plain": [
       "<snowflake.connector.cursor.SnowflakeCursor at 0x21b969af090>"
      ]
     },
     "execution_count": 758,
     "metadata": {},
     "output_type": "execute_result"
    }
   ],
   "source": [
    "cur.execute(create_table_query)"
   ]
  },
  {
   "cell_type": "code",
   "execution_count": 107,
   "metadata": {},
   "outputs": [],
   "source": [
    "set_piece_efficiency_chart.columns = set_piece_efficiency_chart.columns.str.replace(\" \", \"_\")"
   ]
  },
  {
   "cell_type": "code",
   "execution_count": 108,
   "metadata": {},
   "outputs": [],
   "source": [
    "set_piece_efficiency_chart.drop(['OPPOSITION_CROSSES_FROM_SET_PIECE', 'XG'], axis=1, inplace=True)"
   ]
  },
  {
   "cell_type": "code",
   "execution_count": 109,
   "metadata": {},
   "outputs": [
    {
     "name": "stdout",
     "output_type": "stream",
     "text": [
      "Upsert completed. 60 rows processed.\n"
     ]
    }
   ],
   "source": [
    "upsert_to_snowflake(\"SET_PIECE_EFFICIENCY_CHART\", set_piece_efficiency_chart,\n",
    "                    ['SEASON', 'COMPETITION_ACRONYM', 'TEAM_NAME'])"
   ]
  },
  {
   "cell_type": "code",
   "execution_count": 110,
   "metadata": {},
   "outputs": [],
   "source": [
    "set_piece_efficiency_chart = fetch_data(cursor, 'SELECT * FROM GEGENSTATS.RADAR_CHARTS.SET_PIECE_EFFICIENCY_CHART')"
   ]
  },
  {
   "cell_type": "code",
   "execution_count": 111,
   "metadata": {},
   "outputs": [],
   "source": [
    "set_piece_efficiency_chart.rename(columns={'OPPOSITION_XG_FROM_SET_PIECE_CROSSES_PER_GAME':'OPPOSITION XG FROM SET PIECE CROSSES PER GAME',\n",
    "                                            'OPPOSITION_CROSSES_FROM_SET_PIECE_PER_GAME':'OPPOSITION CROSSES FROM SET PIECE PER GAME'}, inplace=True)"
   ]
  },
  {
   "cell_type": "code",
   "execution_count": 112,
   "metadata": {},
   "outputs": [],
   "source": [
    "filt_set_piece_efficiency_chart = set_piece_efficiency_chart[set_piece_efficiency_chart['SEASON'] == season_selected]\n",
    "filt_set_piece_efficiency_chart = filt_set_piece_efficiency_chart[filt_set_piece_efficiency_chart['COMPETITION_ACRONYM'] == league_selected]"
   ]
  },
  {
   "cell_type": "code",
   "execution_count": 113,
   "metadata": {},
   "outputs": [
    {
     "data": {
      "application/vnd.plotly.v1+json": {
       "config": {
        "plotlyServerURL": "https://plotly.com"
       },
       "data": [
        {
         "hoverinfo": "text",
         "marker": {
          "opacity": 0
         },
         "mode": "markers",
         "text": "Arsenal",
         "type": "scatter",
         "x": [
          3.64
         ],
         "y": [
          0.0828
         ]
        },
        {
         "hoverinfo": "text",
         "marker": {
          "opacity": 0
         },
         "mode": "markers",
         "text": "Aston Villa",
         "type": "scatter",
         "x": [
          5.16
         ],
         "y": [
          0.2528
         ]
        },
        {
         "hoverinfo": "text",
         "marker": {
          "opacity": 0
         },
         "mode": "markers",
         "text": "Bournemouth",
         "type": "scatter",
         "x": [
          5.541666667
         ],
         "y": [
          0.1695833333
         ]
        },
        {
         "hoverinfo": "text",
         "marker": {
          "opacity": 0
         },
         "mode": "markers",
         "text": "Brentford",
         "type": "scatter",
         "x": [
          6.375
         ],
         "y": [
          0.13875
         ]
        },
        {
         "hoverinfo": "text",
         "marker": {
          "opacity": 0
         },
         "mode": "markers",
         "text": "Brighton",
         "type": "scatter",
         "x": [
          4.84
         ],
         "y": [
          0.136
         ]
        },
        {
         "hoverinfo": "text",
         "marker": {
          "opacity": 0
         },
         "mode": "markers",
         "text": "Chelsea",
         "type": "scatter",
         "x": [
          5.72
         ],
         "y": [
          0.1764
         ]
        },
        {
         "hoverinfo": "text",
         "marker": {
          "opacity": 0
         },
         "mode": "markers",
         "text": "Crystal Palace",
         "type": "scatter",
         "x": [
          5.36
         ],
         "y": [
          0.2372
         ]
        },
        {
         "hoverinfo": "text",
         "marker": {
          "opacity": 0
         },
         "mode": "markers",
         "text": "Everton",
         "type": "scatter",
         "x": [
          5.44
         ],
         "y": [
          0.124
         ]
        },
        {
         "hoverinfo": "text",
         "marker": {
          "opacity": 0
         },
         "mode": "markers",
         "text": "Fulham",
         "type": "scatter",
         "x": [
          5.28
         ],
         "y": [
          0.1524
         ]
        },
        {
         "hoverinfo": "text",
         "marker": {
          "opacity": 0
         },
         "mode": "markers",
         "text": "Liverpool",
         "type": "scatter",
         "x": [
          5.32
         ],
         "y": [
          0.1756
         ]
        },
        {
         "hoverinfo": "text",
         "marker": {
          "opacity": 0
         },
         "mode": "markers",
         "text": "Manchester City",
         "type": "scatter",
         "x": [
          3.916666667
         ],
         "y": [
          0.12875
         ]
        },
        {
         "hoverinfo": "text",
         "marker": {
          "opacity": 0
         },
         "mode": "markers",
         "text": "Manchester Utd",
         "type": "scatter",
         "x": [
          7.12
         ],
         "y": [
          0.2328
         ]
        },
        {
         "hoverinfo": "text",
         "marker": {
          "opacity": 0
         },
         "mode": "markers",
         "text": "Newcastle Utd",
         "type": "scatter",
         "x": [
          5.08
         ],
         "y": [
          0.1724
         ]
        },
        {
         "hoverinfo": "text",
         "marker": {
          "opacity": 0
         },
         "mode": "markers",
         "text": "Nott'ham Forest",
         "type": "scatter",
         "x": [
          6.6
         ],
         "y": [
          0.246
         ]
        },
        {
         "hoverinfo": "text",
         "marker": {
          "opacity": 0
         },
         "mode": "markers",
         "text": "Tottenham",
         "type": "scatter",
         "x": [
          7.56
         ],
         "y": [
          0.2376
         ]
        },
        {
         "hoverinfo": "text",
         "marker": {
          "opacity": 0
         },
         "mode": "markers",
         "text": "West Ham",
         "type": "scatter",
         "x": [
          6.16
         ],
         "y": [
          0.2088
         ]
        },
        {
         "hoverinfo": "text",
         "marker": {
          "opacity": 0
         },
         "mode": "markers",
         "text": "Wolves",
         "type": "scatter",
         "x": [
          6.04
         ],
         "y": [
          0.2216
         ]
        },
        {
         "hoverinfo": "text",
         "marker": {
          "opacity": 0
         },
         "mode": "markers",
         "text": "Burnley",
         "type": "scatter",
         "x": [
          6.36
         ],
         "y": [
          0.248
         ]
        },
        {
         "hoverinfo": "text",
         "marker": {
          "opacity": 0
         },
         "mode": "markers",
         "text": "Luton Town",
         "type": "scatter",
         "x": [
          5.458333333
         ],
         "y": [
          0.1554166667
         ]
        },
        {
         "hoverinfo": "text",
         "marker": {
          "opacity": 0
         },
         "mode": "markers",
         "text": "Sheffield Utd",
         "type": "scatter",
         "x": [
          7.24
         ],
         "y": [
          0.2348
         ]
        }
       ],
       "layout": {
        "annotations": [
         {
          "align": "left",
          "font": {
           "color": "green",
           "family": "Roboto, sans-serif",
           "size": 15
          },
          "showarrow": false,
          "text": "Low xG conceded from crosses<br>Fewer crosses conceded",
          "x": 0,
          "xref": "paper",
          "y": 0,
          "yref": "paper"
         },
         {
          "align": "left",
          "font": {
           "color": "orange",
           "family": "Roboto, sans-serif",
           "size": 15
          },
          "showarrow": false,
          "text": "High xG conceded from crosses<br>Fewer crosses conceded",
          "x": 0,
          "xref": "paper",
          "y": 1,
          "yref": "paper"
         },
         {
          "align": "right",
          "font": {
           "color": "red",
           "family": "Roboto, sans-serif",
           "size": 15
          },
          "showarrow": false,
          "text": "High xG conceded from crosses<br>Many crosses conceded",
          "x": 1,
          "xref": "paper",
          "y": 1,
          "yref": "paper"
         },
         {
          "align": "right",
          "font": {
           "color": "orange",
           "family": "Roboto, sans-serif",
           "size": 15
          },
          "showarrow": false,
          "text": "Low xG conceded from crosses<br>Many crosses conceded",
          "x": 1,
          "xref": "paper",
          "y": 0,
          "yref": "paper"
         }
        ],
        "font": {
         "color": "white",
         "family": "Roboto, sans-serif",
         "size": 25
        },
        "height": 625,
        "hoverlabel": {
         "bgcolor": "rgba(20, 20, 20, 0.8)",
         "font": {
          "family": "Roboto, sans-serif"
         }
        },
        "images": [
         {
          "layer": "above",
          "opacity": 1,
          "sizex": 0.54,
          "sizey": 0.54,
          "sizing": "contain",
          "source": "https://i.imgur.com/SURo5sj.png",
          "x": 3.64,
          "xanchor": "center",
          "xref": "x",
          "y": 0.0828,
          "yanchor": "middle",
          "yref": "y"
         },
         {
          "layer": "above",
          "opacity": 0.35,
          "sizex": 0.3,
          "sizey": 0.3,
          "sizing": "contain",
          "source": "https://i.imgur.com/M4mwH1X.png",
          "x": 5.16,
          "xanchor": "center",
          "xref": "x",
          "y": 0.2528,
          "yanchor": "middle",
          "yref": "y"
         },
         {
          "layer": "above",
          "opacity": 0.35,
          "sizex": 0.3,
          "sizey": 0.3,
          "sizing": "contain",
          "source": "https://i.imgur.com/0F6UIO4.png",
          "x": 5.541666667,
          "xanchor": "center",
          "xref": "x",
          "y": 0.1695833333,
          "yanchor": "middle",
          "yref": "y"
         },
         {
          "layer": "above",
          "opacity": 0.35,
          "sizex": 0.3,
          "sizey": 0.3,
          "sizing": "contain",
          "source": "https://i.imgur.com/MOhGOQ4.png",
          "x": 6.375,
          "xanchor": "center",
          "xref": "x",
          "y": 0.13875,
          "yanchor": "middle",
          "yref": "y"
         },
         {
          "layer": "above",
          "opacity": 0.35,
          "sizex": 0.3,
          "sizey": 0.3,
          "sizing": "contain",
          "source": "https://i.imgur.com/EMCwD3X.png",
          "x": 4.84,
          "xanchor": "center",
          "xref": "x",
          "y": 0.136,
          "yanchor": "middle",
          "yref": "y"
         },
         {
          "layer": "above",
          "opacity": 0.35,
          "sizex": 0.3,
          "sizey": 0.3,
          "sizing": "contain",
          "source": "https://i.imgur.com/6F7h3UR.png",
          "x": 5.72,
          "xanchor": "center",
          "xref": "x",
          "y": 0.1764,
          "yanchor": "middle",
          "yref": "y"
         },
         {
          "layer": "above",
          "opacity": 0.35,
          "sizex": 0.3,
          "sizey": 0.3,
          "sizing": "contain",
          "source": "https://i.imgur.com/LPhzr0K.png",
          "x": 5.36,
          "xanchor": "center",
          "xref": "x",
          "y": 0.2372,
          "yanchor": "middle",
          "yref": "y"
         },
         {
          "layer": "above",
          "opacity": 0.35,
          "sizex": 0.3,
          "sizey": 0.3,
          "sizing": "contain",
          "source": "https://i.imgur.com/Dgei0uj.png",
          "x": 5.44,
          "xanchor": "center",
          "xref": "x",
          "y": 0.124,
          "yanchor": "middle",
          "yref": "y"
         },
         {
          "layer": "above",
          "opacity": 0.35,
          "sizex": 0.3,
          "sizey": 0.3,
          "sizing": "contain",
          "source": "https://i.imgur.com/2zggSrF.png",
          "x": 5.28,
          "xanchor": "center",
          "xref": "x",
          "y": 0.1524,
          "yanchor": "middle",
          "yref": "y"
         },
         {
          "layer": "above",
          "opacity": 0.35,
          "sizex": 0.3,
          "sizey": 0.3,
          "sizing": "contain",
          "source": "https://i.imgur.com/fs7VK9G.png",
          "x": 5.32,
          "xanchor": "center",
          "xref": "x",
          "y": 0.1756,
          "yanchor": "middle",
          "yref": "y"
         },
         {
          "layer": "above",
          "opacity": 0.35,
          "sizex": 0.3,
          "sizey": 0.3,
          "sizing": "contain",
          "source": "https://i.imgur.com/FF8z7uZ.png",
          "x": 3.916666667,
          "xanchor": "center",
          "xref": "x",
          "y": 0.12875,
          "yanchor": "middle",
          "yref": "y"
         },
         {
          "layer": "above",
          "opacity": 0.35,
          "sizex": 0.3,
          "sizey": 0.3,
          "sizing": "contain",
          "source": "https://i.imgur.com/z47emBQ.png",
          "x": 7.12,
          "xanchor": "center",
          "xref": "x",
          "y": 0.2328,
          "yanchor": "middle",
          "yref": "y"
         },
         {
          "layer": "above",
          "opacity": 0.35,
          "sizex": 0.3,
          "sizey": 0.3,
          "sizing": "contain",
          "source": "https://i.imgur.com/3kOLokZ.png",
          "x": 5.08,
          "xanchor": "center",
          "xref": "x",
          "y": 0.1724,
          "yanchor": "middle",
          "yref": "y"
         },
         {
          "layer": "above",
          "opacity": 0.35,
          "sizex": 0.3,
          "sizey": 0.3,
          "sizing": "contain",
          "source": "https://i.imgur.com/z4Tl9Zu.png",
          "x": 6.6,
          "xanchor": "center",
          "xref": "x",
          "y": 0.246,
          "yanchor": "middle",
          "yref": "y"
         },
         {
          "layer": "above",
          "opacity": 0.35,
          "sizex": 0.3,
          "sizey": 0.3,
          "sizing": "contain",
          "source": "https://i.imgur.com/fJ7rUWW.png",
          "x": 7.56,
          "xanchor": "center",
          "xref": "x",
          "y": 0.2376,
          "yanchor": "middle",
          "yref": "y"
         },
         {
          "layer": "above",
          "opacity": 0.35,
          "sizex": 0.3,
          "sizey": 0.3,
          "sizing": "contain",
          "source": "https://i.imgur.com/9BQHJRl.png",
          "x": 6.16,
          "xanchor": "center",
          "xref": "x",
          "y": 0.2088,
          "yanchor": "middle",
          "yref": "y"
         },
         {
          "layer": "above",
          "opacity": 0.35,
          "sizex": 0.3,
          "sizey": 0.3,
          "sizing": "contain",
          "source": "https://i.imgur.com/6azSF88.png",
          "x": 6.04,
          "xanchor": "center",
          "xref": "x",
          "y": 0.2216,
          "yanchor": "middle",
          "yref": "y"
         },
         {
          "layer": "above",
          "opacity": 0.35,
          "sizex": 0.3,
          "sizey": 0.3,
          "sizing": "contain",
          "source": "https://i.imgur.com/6IDi9XJ.png",
          "x": 6.36,
          "xanchor": "center",
          "xref": "x",
          "y": 0.248,
          "yanchor": "middle",
          "yref": "y"
         },
         {
          "layer": "above",
          "opacity": 0.35,
          "sizex": 0.3,
          "sizey": 0.3,
          "sizing": "contain",
          "source": "https://i.imgur.com/vHHqKJX.png",
          "x": 5.458333333,
          "xanchor": "center",
          "xref": "x",
          "y": 0.1554166667,
          "yanchor": "middle",
          "yref": "y"
         },
         {
          "layer": "above",
          "opacity": 0.35,
          "sizex": 0.3,
          "sizey": 0.3,
          "sizing": "contain",
          "source": "https://i.imgur.com/eeBetFN.png",
          "x": 7.24,
          "xanchor": "center",
          "xref": "x",
          "y": 0.2348,
          "yanchor": "middle",
          "yref": "y"
         }
        ],
        "margin": {
         "b": 10,
         "l": 10,
         "r": 30,
         "t": 50
        },
        "paper_bgcolor": "rgb(70, 70, 70)",
        "plot_bgcolor": "rgb(70, 70, 70)",
        "shapes": [
         {
          "layer": "below",
          "line": {
           "color": "White",
           "width": 3
          },
          "type": "line",
          "x0": 5.71058333335,
          "x1": 5.71058333335,
          "y0": 0.05,
          "y1": 0.3
         },
         {
          "layer": "below",
          "line": {
           "color": "White",
           "width": 3
          },
          "type": "line",
          "x0": 2,
          "x1": 8,
          "y0": 0.186585,
          "y1": 0.186585
         }
        ],
        "showlegend": false,
        "template": {
         "data": {
          "bar": [
           {
            "error_x": {
             "color": "#2a3f5f"
            },
            "error_y": {
             "color": "#2a3f5f"
            },
            "marker": {
             "line": {
              "color": "#E5ECF6",
              "width": 0.5
             },
             "pattern": {
              "fillmode": "overlay",
              "size": 10,
              "solidity": 0.2
             }
            },
            "type": "bar"
           }
          ],
          "barpolar": [
           {
            "marker": {
             "line": {
              "color": "#E5ECF6",
              "width": 0.5
             },
             "pattern": {
              "fillmode": "overlay",
              "size": 10,
              "solidity": 0.2
             }
            },
            "type": "barpolar"
           }
          ],
          "carpet": [
           {
            "aaxis": {
             "endlinecolor": "#2a3f5f",
             "gridcolor": "white",
             "linecolor": "white",
             "minorgridcolor": "white",
             "startlinecolor": "#2a3f5f"
            },
            "baxis": {
             "endlinecolor": "#2a3f5f",
             "gridcolor": "white",
             "linecolor": "white",
             "minorgridcolor": "white",
             "startlinecolor": "#2a3f5f"
            },
            "type": "carpet"
           }
          ],
          "choropleth": [
           {
            "colorbar": {
             "outlinewidth": 0,
             "ticks": ""
            },
            "type": "choropleth"
           }
          ],
          "contour": [
           {
            "colorbar": {
             "outlinewidth": 0,
             "ticks": ""
            },
            "colorscale": [
             [
              0,
              "#0d0887"
             ],
             [
              0.1111111111111111,
              "#46039f"
             ],
             [
              0.2222222222222222,
              "#7201a8"
             ],
             [
              0.3333333333333333,
              "#9c179e"
             ],
             [
              0.4444444444444444,
              "#bd3786"
             ],
             [
              0.5555555555555556,
              "#d8576b"
             ],
             [
              0.6666666666666666,
              "#ed7953"
             ],
             [
              0.7777777777777778,
              "#fb9f3a"
             ],
             [
              0.8888888888888888,
              "#fdca26"
             ],
             [
              1,
              "#f0f921"
             ]
            ],
            "type": "contour"
           }
          ],
          "contourcarpet": [
           {
            "colorbar": {
             "outlinewidth": 0,
             "ticks": ""
            },
            "type": "contourcarpet"
           }
          ],
          "heatmap": [
           {
            "colorbar": {
             "outlinewidth": 0,
             "ticks": ""
            },
            "colorscale": [
             [
              0,
              "#0d0887"
             ],
             [
              0.1111111111111111,
              "#46039f"
             ],
             [
              0.2222222222222222,
              "#7201a8"
             ],
             [
              0.3333333333333333,
              "#9c179e"
             ],
             [
              0.4444444444444444,
              "#bd3786"
             ],
             [
              0.5555555555555556,
              "#d8576b"
             ],
             [
              0.6666666666666666,
              "#ed7953"
             ],
             [
              0.7777777777777778,
              "#fb9f3a"
             ],
             [
              0.8888888888888888,
              "#fdca26"
             ],
             [
              1,
              "#f0f921"
             ]
            ],
            "type": "heatmap"
           }
          ],
          "heatmapgl": [
           {
            "colorbar": {
             "outlinewidth": 0,
             "ticks": ""
            },
            "colorscale": [
             [
              0,
              "#0d0887"
             ],
             [
              0.1111111111111111,
              "#46039f"
             ],
             [
              0.2222222222222222,
              "#7201a8"
             ],
             [
              0.3333333333333333,
              "#9c179e"
             ],
             [
              0.4444444444444444,
              "#bd3786"
             ],
             [
              0.5555555555555556,
              "#d8576b"
             ],
             [
              0.6666666666666666,
              "#ed7953"
             ],
             [
              0.7777777777777778,
              "#fb9f3a"
             ],
             [
              0.8888888888888888,
              "#fdca26"
             ],
             [
              1,
              "#f0f921"
             ]
            ],
            "type": "heatmapgl"
           }
          ],
          "histogram": [
           {
            "marker": {
             "pattern": {
              "fillmode": "overlay",
              "size": 10,
              "solidity": 0.2
             }
            },
            "type": "histogram"
           }
          ],
          "histogram2d": [
           {
            "colorbar": {
             "outlinewidth": 0,
             "ticks": ""
            },
            "colorscale": [
             [
              0,
              "#0d0887"
             ],
             [
              0.1111111111111111,
              "#46039f"
             ],
             [
              0.2222222222222222,
              "#7201a8"
             ],
             [
              0.3333333333333333,
              "#9c179e"
             ],
             [
              0.4444444444444444,
              "#bd3786"
             ],
             [
              0.5555555555555556,
              "#d8576b"
             ],
             [
              0.6666666666666666,
              "#ed7953"
             ],
             [
              0.7777777777777778,
              "#fb9f3a"
             ],
             [
              0.8888888888888888,
              "#fdca26"
             ],
             [
              1,
              "#f0f921"
             ]
            ],
            "type": "histogram2d"
           }
          ],
          "histogram2dcontour": [
           {
            "colorbar": {
             "outlinewidth": 0,
             "ticks": ""
            },
            "colorscale": [
             [
              0,
              "#0d0887"
             ],
             [
              0.1111111111111111,
              "#46039f"
             ],
             [
              0.2222222222222222,
              "#7201a8"
             ],
             [
              0.3333333333333333,
              "#9c179e"
             ],
             [
              0.4444444444444444,
              "#bd3786"
             ],
             [
              0.5555555555555556,
              "#d8576b"
             ],
             [
              0.6666666666666666,
              "#ed7953"
             ],
             [
              0.7777777777777778,
              "#fb9f3a"
             ],
             [
              0.8888888888888888,
              "#fdca26"
             ],
             [
              1,
              "#f0f921"
             ]
            ],
            "type": "histogram2dcontour"
           }
          ],
          "mesh3d": [
           {
            "colorbar": {
             "outlinewidth": 0,
             "ticks": ""
            },
            "type": "mesh3d"
           }
          ],
          "parcoords": [
           {
            "line": {
             "colorbar": {
              "outlinewidth": 0,
              "ticks": ""
             }
            },
            "type": "parcoords"
           }
          ],
          "pie": [
           {
            "automargin": true,
            "type": "pie"
           }
          ],
          "scatter": [
           {
            "fillpattern": {
             "fillmode": "overlay",
             "size": 10,
             "solidity": 0.2
            },
            "type": "scatter"
           }
          ],
          "scatter3d": [
           {
            "line": {
             "colorbar": {
              "outlinewidth": 0,
              "ticks": ""
             }
            },
            "marker": {
             "colorbar": {
              "outlinewidth": 0,
              "ticks": ""
             }
            },
            "type": "scatter3d"
           }
          ],
          "scattercarpet": [
           {
            "marker": {
             "colorbar": {
              "outlinewidth": 0,
              "ticks": ""
             }
            },
            "type": "scattercarpet"
           }
          ],
          "scattergeo": [
           {
            "marker": {
             "colorbar": {
              "outlinewidth": 0,
              "ticks": ""
             }
            },
            "type": "scattergeo"
           }
          ],
          "scattergl": [
           {
            "marker": {
             "colorbar": {
              "outlinewidth": 0,
              "ticks": ""
             }
            },
            "type": "scattergl"
           }
          ],
          "scattermapbox": [
           {
            "marker": {
             "colorbar": {
              "outlinewidth": 0,
              "ticks": ""
             }
            },
            "type": "scattermapbox"
           }
          ],
          "scatterpolar": [
           {
            "marker": {
             "colorbar": {
              "outlinewidth": 0,
              "ticks": ""
             }
            },
            "type": "scatterpolar"
           }
          ],
          "scatterpolargl": [
           {
            "marker": {
             "colorbar": {
              "outlinewidth": 0,
              "ticks": ""
             }
            },
            "type": "scatterpolargl"
           }
          ],
          "scatterternary": [
           {
            "marker": {
             "colorbar": {
              "outlinewidth": 0,
              "ticks": ""
             }
            },
            "type": "scatterternary"
           }
          ],
          "surface": [
           {
            "colorbar": {
             "outlinewidth": 0,
             "ticks": ""
            },
            "colorscale": [
             [
              0,
              "#0d0887"
             ],
             [
              0.1111111111111111,
              "#46039f"
             ],
             [
              0.2222222222222222,
              "#7201a8"
             ],
             [
              0.3333333333333333,
              "#9c179e"
             ],
             [
              0.4444444444444444,
              "#bd3786"
             ],
             [
              0.5555555555555556,
              "#d8576b"
             ],
             [
              0.6666666666666666,
              "#ed7953"
             ],
             [
              0.7777777777777778,
              "#fb9f3a"
             ],
             [
              0.8888888888888888,
              "#fdca26"
             ],
             [
              1,
              "#f0f921"
             ]
            ],
            "type": "surface"
           }
          ],
          "table": [
           {
            "cells": {
             "fill": {
              "color": "#EBF0F8"
             },
             "line": {
              "color": "white"
             }
            },
            "header": {
             "fill": {
              "color": "#C8D4E3"
             },
             "line": {
              "color": "white"
             }
            },
            "type": "table"
           }
          ]
         },
         "layout": {
          "annotationdefaults": {
           "arrowcolor": "#2a3f5f",
           "arrowhead": 0,
           "arrowwidth": 1
          },
          "autotypenumbers": "strict",
          "coloraxis": {
           "colorbar": {
            "outlinewidth": 0,
            "ticks": ""
           }
          },
          "colorscale": {
           "diverging": [
            [
             0,
             "#8e0152"
            ],
            [
             0.1,
             "#c51b7d"
            ],
            [
             0.2,
             "#de77ae"
            ],
            [
             0.3,
             "#f1b6da"
            ],
            [
             0.4,
             "#fde0ef"
            ],
            [
             0.5,
             "#f7f7f7"
            ],
            [
             0.6,
             "#e6f5d0"
            ],
            [
             0.7,
             "#b8e186"
            ],
            [
             0.8,
             "#7fbc41"
            ],
            [
             0.9,
             "#4d9221"
            ],
            [
             1,
             "#276419"
            ]
           ],
           "sequential": [
            [
             0,
             "#0d0887"
            ],
            [
             0.1111111111111111,
             "#46039f"
            ],
            [
             0.2222222222222222,
             "#7201a8"
            ],
            [
             0.3333333333333333,
             "#9c179e"
            ],
            [
             0.4444444444444444,
             "#bd3786"
            ],
            [
             0.5555555555555556,
             "#d8576b"
            ],
            [
             0.6666666666666666,
             "#ed7953"
            ],
            [
             0.7777777777777778,
             "#fb9f3a"
            ],
            [
             0.8888888888888888,
             "#fdca26"
            ],
            [
             1,
             "#f0f921"
            ]
           ],
           "sequentialminus": [
            [
             0,
             "#0d0887"
            ],
            [
             0.1111111111111111,
             "#46039f"
            ],
            [
             0.2222222222222222,
             "#7201a8"
            ],
            [
             0.3333333333333333,
             "#9c179e"
            ],
            [
             0.4444444444444444,
             "#bd3786"
            ],
            [
             0.5555555555555556,
             "#d8576b"
            ],
            [
             0.6666666666666666,
             "#ed7953"
            ],
            [
             0.7777777777777778,
             "#fb9f3a"
            ],
            [
             0.8888888888888888,
             "#fdca26"
            ],
            [
             1,
             "#f0f921"
            ]
           ]
          },
          "colorway": [
           "#636efa",
           "#EF553B",
           "#00cc96",
           "#ab63fa",
           "#FFA15A",
           "#19d3f3",
           "#FF6692",
           "#B6E880",
           "#FF97FF",
           "#FECB52"
          ],
          "font": {
           "color": "#2a3f5f"
          },
          "geo": {
           "bgcolor": "white",
           "lakecolor": "white",
           "landcolor": "#E5ECF6",
           "showlakes": true,
           "showland": true,
           "subunitcolor": "white"
          },
          "hoverlabel": {
           "align": "left"
          },
          "hovermode": "closest",
          "mapbox": {
           "style": "light"
          },
          "paper_bgcolor": "white",
          "plot_bgcolor": "#E5ECF6",
          "polar": {
           "angularaxis": {
            "gridcolor": "white",
            "linecolor": "white",
            "ticks": ""
           },
           "bgcolor": "#E5ECF6",
           "radialaxis": {
            "gridcolor": "white",
            "linecolor": "white",
            "ticks": ""
           }
          },
          "scene": {
           "xaxis": {
            "backgroundcolor": "#E5ECF6",
            "gridcolor": "white",
            "gridwidth": 2,
            "linecolor": "white",
            "showbackground": true,
            "ticks": "",
            "zerolinecolor": "white"
           },
           "yaxis": {
            "backgroundcolor": "#E5ECF6",
            "gridcolor": "white",
            "gridwidth": 2,
            "linecolor": "white",
            "showbackground": true,
            "ticks": "",
            "zerolinecolor": "white"
           },
           "zaxis": {
            "backgroundcolor": "#E5ECF6",
            "gridcolor": "white",
            "gridwidth": 2,
            "linecolor": "white",
            "showbackground": true,
            "ticks": "",
            "zerolinecolor": "white"
           }
          },
          "shapedefaults": {
           "line": {
            "color": "#2a3f5f"
           }
          },
          "ternary": {
           "aaxis": {
            "gridcolor": "white",
            "linecolor": "white",
            "ticks": ""
           },
           "baxis": {
            "gridcolor": "white",
            "linecolor": "white",
            "ticks": ""
           },
           "bgcolor": "#E5ECF6",
           "caxis": {
            "gridcolor": "white",
            "linecolor": "white",
            "ticks": ""
           }
          },
          "title": {
           "x": 0.05
          },
          "xaxis": {
           "automargin": true,
           "gridcolor": "white",
           "linecolor": "white",
           "ticks": "",
           "title": {
            "standoff": 15
           },
           "zerolinecolor": "white",
           "zerolinewidth": 2
          },
          "yaxis": {
           "automargin": true,
           "gridcolor": "white",
           "linecolor": "white",
           "ticks": "",
           "title": {
            "standoff": 15
           },
           "zerolinecolor": "white",
           "zerolinewidth": 2
          }
         }
        },
        "title": {
         "font": {
          "color": "white",
          "family": "Roboto, sans-serif",
          "size": 23
         },
         "text": "SET PIECE DEFENSIVE EFFICIENCY",
         "x": 0.5,
         "xanchor": "center",
         "y": 0.98,
         "yanchor": "top"
        },
        "width": 625,
        "xaxis": {
         "gridcolor": "rgba(0,0,0,0)",
         "linecolor": "white",
         "linewidth": 2,
         "range": [
          2,
          8
         ],
         "showline": true,
         "tickfont": {
          "color": "white",
          "size": 15
         },
         "title": {
          "font": {
           "size": 25
          },
          "text": "OPPOSITION CROSSES FROM SET PIECE PER GAME"
         }
        },
        "yaxis": {
         "gridcolor": "rgba(0,0,0,0)",
         "linecolor": "white",
         "linewidth": 2,
         "range": [
          0.05,
          0.3
         ],
         "showline": true,
         "tickfont": {
          "color": "white",
          "size": 15
         },
         "title": {
          "font": {
           "size": 25
          },
          "text": "OPPOSITION XG FROM SET PIECE CROSSES PER GAME"
         }
        }
       }
      }
     },
     "metadata": {},
     "output_type": "display_data"
    }
   ],
   "source": [
    "create_FM_team_scatter_chart(filt_set_piece_efficiency_chart, 'SET PIECE DEFENSIVE EFFICIENCY', \"Arsenal\", 'OPPOSITION CROSSES FROM SET PIECE PER GAME',\n",
    "                             'OPPOSITION XG FROM SET PIECE CROSSES PER GAME', 0.3, 2, 8, 0.05, 0.3, \n",
    "                                                        \"Low xG conceded from crosses<br>Fewer crosses conceded\", \n",
    "                                                        \"Low xG conceded from crosses<br>Many crosses conceded\",\n",
    "                                                        \"High xG conceded from crosses<br>Fewer crosses conceded\", \n",
    "                                                        \"High xG conceded from crosses<br>Many crosses conceded\", \n",
    "                                                        \"green\", \"orange\", \"orange\", \"red\")\n"
   ]
  },
  {
   "cell_type": "markdown",
   "metadata": {},
   "source": [
    "## Plots for the defnesive actions per zone"
   ]
  },
  {
   "cell_type": "code",
   "execution_count": 242,
   "metadata": {},
   "outputs": [],
   "source": [
    "# Define the section boundaries\n",
    "section_boundaries = [0, 17.5, 35, 52.5, 70, 87.5, 105]\n",
    "\n",
    "# Split the \"START_X\" values into sections\n",
    "defensive_events['Def_Action_Section'] = pd.cut(defensive_events['START_X'], bins=section_boundaries)\n"
   ]
  },
  {
   "cell_type": "code",
   "execution_count": 243,
   "metadata": {},
   "outputs": [
    {
     "data": {
      "text/html": [
       "<div>\n",
       "<style scoped>\n",
       "    .dataframe tbody tr th:only-of-type {\n",
       "        vertical-align: middle;\n",
       "    }\n",
       "\n",
       "    .dataframe tbody tr th {\n",
       "        vertical-align: top;\n",
       "    }\n",
       "\n",
       "    .dataframe thead th {\n",
       "        text-align: right;\n",
       "    }\n",
       "</style>\n",
       "<table border=\"1\" class=\"dataframe\">\n",
       "  <thead>\n",
       "    <tr style=\"text-align: right;\">\n",
       "      <th></th>\n",
       "      <th>MATCH_ID</th>\n",
       "      <th>ORIGINAL_EVENT_ID</th>\n",
       "      <th>PERIOD_ID</th>\n",
       "      <th>TIME_SECONDS</th>\n",
       "      <th>NEW_TIME_SECONDS</th>\n",
       "      <th>TEAM_FBREF_ID</th>\n",
       "      <th>PLAYER_WS_ID</th>\n",
       "      <th>START_X</th>\n",
       "      <th>END_X</th>\n",
       "      <th>START_Y</th>\n",
       "      <th>END_Y</th>\n",
       "      <th>RESULT_ID</th>\n",
       "      <th>ACTION_ID</th>\n",
       "      <th>TYPE_NAME</th>\n",
       "      <th>BODYPART_NAME</th>\n",
       "      <th>COMPETITION</th>\n",
       "      <th>SEASON</th>\n",
       "      <th>TEAM_NAME</th>\n",
       "      <th>PLAYER_FBREF_NAME</th>\n",
       "      <th>STARTING_POSITION_WS</th>\n",
       "      <th>Def_Action_Section</th>\n",
       "    </tr>\n",
       "  </thead>\n",
       "  <tbody>\n",
       "    <tr>\n",
       "      <th>0</th>\n",
       "      <td>ac6abad1</td>\n",
       "      <td>2.478729e+09</td>\n",
       "      <td>1</td>\n",
       "      <td>213.0</td>\n",
       "      <td>213.0</td>\n",
       "      <td>cff3d9bb</td>\n",
       "      <td>375621</td>\n",
       "      <td>13.335</td>\n",
       "      <td>9.975</td>\n",
       "      <td>58.752</td>\n",
       "      <td>68.000</td>\n",
       "      <td>1</td>\n",
       "      <td>72</td>\n",
       "      <td>clearance</td>\n",
       "      <td>foot</td>\n",
       "      <td>ENG-Premier League</td>\n",
       "      <td>2223</td>\n",
       "      <td>Chelsea</td>\n",
       "      <td>Conor Gallagher</td>\n",
       "      <td>AMC</td>\n",
       "      <td>(0.0, 17.5]</td>\n",
       "    </tr>\n",
       "    <tr>\n",
       "      <th>1</th>\n",
       "      <td>ac6abad1</td>\n",
       "      <td>2.478744e+09</td>\n",
       "      <td>1</td>\n",
       "      <td>580.0</td>\n",
       "      <td>580.0</td>\n",
       "      <td>cff3d9bb</td>\n",
       "      <td>343346</td>\n",
       "      <td>57.015</td>\n",
       "      <td>57.015</td>\n",
       "      <td>43.384</td>\n",
       "      <td>43.384</td>\n",
       "      <td>0</td>\n",
       "      <td>156</td>\n",
       "      <td>foul</td>\n",
       "      <td>foot</td>\n",
       "      <td>ENG-Premier League</td>\n",
       "      <td>2223</td>\n",
       "      <td>Chelsea</td>\n",
       "      <td>Mason Mount</td>\n",
       "      <td>AMC</td>\n",
       "      <td>(52.5, 70.0]</td>\n",
       "    </tr>\n",
       "    <tr>\n",
       "      <th>2</th>\n",
       "      <td>ac6abad1</td>\n",
       "      <td>2.478745e+09</td>\n",
       "      <td>1</td>\n",
       "      <td>608.0</td>\n",
       "      <td>608.0</td>\n",
       "      <td>cff3d9bb</td>\n",
       "      <td>93894</td>\n",
       "      <td>29.715</td>\n",
       "      <td>29.715</td>\n",
       "      <td>57.392</td>\n",
       "      <td>57.392</td>\n",
       "      <td>0</td>\n",
       "      <td>158</td>\n",
       "      <td>foul</td>\n",
       "      <td>foot</td>\n",
       "      <td>ENG-Premier League</td>\n",
       "      <td>2223</td>\n",
       "      <td>Chelsea</td>\n",
       "      <td>Mateo Kovačić</td>\n",
       "      <td>MC</td>\n",
       "      <td>(17.5, 35.0]</td>\n",
       "    </tr>\n",
       "    <tr>\n",
       "      <th>3</th>\n",
       "      <td>ac6abad1</td>\n",
       "      <td>2.478748e+09</td>\n",
       "      <td>1</td>\n",
       "      <td>674.0</td>\n",
       "      <td>674.0</td>\n",
       "      <td>cff3d9bb</td>\n",
       "      <td>93894</td>\n",
       "      <td>15.435</td>\n",
       "      <td>34.335</td>\n",
       "      <td>41.208</td>\n",
       "      <td>34.000</td>\n",
       "      <td>1</td>\n",
       "      <td>160</td>\n",
       "      <td>clearance</td>\n",
       "      <td>head</td>\n",
       "      <td>ENG-Premier League</td>\n",
       "      <td>2223</td>\n",
       "      <td>Chelsea</td>\n",
       "      <td>Mateo Kovačić</td>\n",
       "      <td>MC</td>\n",
       "      <td>(0.0, 17.5]</td>\n",
       "    </tr>\n",
       "    <tr>\n",
       "      <th>4</th>\n",
       "      <td>ac6abad1</td>\n",
       "      <td>2.478748e+09</td>\n",
       "      <td>1</td>\n",
       "      <td>681.0</td>\n",
       "      <td>681.0</td>\n",
       "      <td>cff3d9bb</td>\n",
       "      <td>113880</td>\n",
       "      <td>4.620</td>\n",
       "      <td>1.890</td>\n",
       "      <td>36.652</td>\n",
       "      <td>58.072</td>\n",
       "      <td>1</td>\n",
       "      <td>163</td>\n",
       "      <td>clearance</td>\n",
       "      <td>other</td>\n",
       "      <td>ENG-Premier League</td>\n",
       "      <td>2223</td>\n",
       "      <td>Chelsea</td>\n",
       "      <td>Kepa Arrizabalaga</td>\n",
       "      <td>GK</td>\n",
       "      <td>(0.0, 17.5]</td>\n",
       "    </tr>\n",
       "  </tbody>\n",
       "</table>\n",
       "</div>"
      ],
      "text/plain": [
       "   MATCH_ID  ORIGINAL_EVENT_ID  PERIOD_ID  TIME_SECONDS  NEW_TIME_SECONDS  \\\n",
       "0  ac6abad1       2.478729e+09          1         213.0             213.0   \n",
       "1  ac6abad1       2.478744e+09          1         580.0             580.0   \n",
       "2  ac6abad1       2.478745e+09          1         608.0             608.0   \n",
       "3  ac6abad1       2.478748e+09          1         674.0             674.0   \n",
       "4  ac6abad1       2.478748e+09          1         681.0             681.0   \n",
       "\n",
       "  TEAM_FBREF_ID  PLAYER_WS_ID  START_X   END_X  START_Y   END_Y  RESULT_ID  \\\n",
       "0      cff3d9bb        375621   13.335   9.975   58.752  68.000          1   \n",
       "1      cff3d9bb        343346   57.015  57.015   43.384  43.384          0   \n",
       "2      cff3d9bb         93894   29.715  29.715   57.392  57.392          0   \n",
       "3      cff3d9bb         93894   15.435  34.335   41.208  34.000          1   \n",
       "4      cff3d9bb        113880    4.620   1.890   36.652  58.072          1   \n",
       "\n",
       "   ACTION_ID  TYPE_NAME BODYPART_NAME         COMPETITION  SEASON TEAM_NAME  \\\n",
       "0         72  clearance          foot  ENG-Premier League    2223   Chelsea   \n",
       "1        156       foul          foot  ENG-Premier League    2223   Chelsea   \n",
       "2        158       foul          foot  ENG-Premier League    2223   Chelsea   \n",
       "3        160  clearance          head  ENG-Premier League    2223   Chelsea   \n",
       "4        163  clearance         other  ENG-Premier League    2223   Chelsea   \n",
       "\n",
       "   PLAYER_FBREF_NAME STARTING_POSITION_WS Def_Action_Section  \n",
       "0    Conor Gallagher                  AMC        (0.0, 17.5]  \n",
       "1        Mason Mount                  AMC       (52.5, 70.0]  \n",
       "2      Mateo Kovačić                   MC       (17.5, 35.0]  \n",
       "3      Mateo Kovačić                   MC        (0.0, 17.5]  \n",
       "4  Kepa Arrizabalaga                   GK        (0.0, 17.5]  "
      ]
     },
     "execution_count": 243,
     "metadata": {},
     "output_type": "execute_result"
    }
   ],
   "source": [
    "defensive_events.head()"
   ]
  },
  {
   "cell_type": "code",
   "execution_count": 244,
   "metadata": {},
   "outputs": [
    {
     "name": "stderr",
     "output_type": "stream",
     "text": [
      "C:\\Users\\ksbha\\AppData\\Local\\Temp\\ipykernel_7620\\2231408557.py:1: FutureWarning:\n",
      "\n",
      "The default of observed=False is deprecated and will be changed to True in a future version of pandas. Pass observed=False to retain current behavior or observed=True to adopt the future default and silence this warning.\n",
      "\n"
     ]
    }
   ],
   "source": [
    "section_counts = defensive_events.groupby(['COMPETITION', 'SEASON', 'TEAM_NAME', 'Def_Action_Section'])['Def_Action_Section'].count()\n",
    "section_counts_percentage = (section_counts / section_counts.groupby(['COMPETITION', 'SEASON', 'TEAM_NAME']).transform('sum')) * 100\n"
   ]
  },
  {
   "cell_type": "code",
   "execution_count": 256,
   "metadata": {},
   "outputs": [],
   "source": [
    "section_counts_percentage = pd.DataFrame(section_counts_percentage).rename({'Def_Action_Section':'COUNT'}, axis=1).reset_index()"
   ]
  },
  {
   "cell_type": "code",
   "execution_count": 257,
   "metadata": {},
   "outputs": [],
   "source": [
    "section_counts_percentage = section_counts_percentage.pivot(index=['COMPETITION', 'SEASON', \n",
    "                                                                   'TEAM_NAME'], columns='Def_Action_Section', values='COUNT')"
   ]
  },
  {
   "cell_type": "code",
   "execution_count": 259,
   "metadata": {},
   "outputs": [],
   "source": [
    "section_counts_percentage.columns = section_counts_percentage.columns.astype(str)\n",
    "section_counts_percentage.rename(columns={'(0.0, 17.5]': 'SECTION_1', '(17.5, 35.0]': 'SECTION_2', '(35.0, 52.5]': 'SECTION_3', \n",
    "                                          '(52.5, 70.0]': 'SECTION_4', '(70.0, 87.5]': 'SECTION_5', '(87.5, 105.0]': 'SECTION_6'}, \n",
    "                                 inplace=True)\n"
   ]
  },
  {
   "cell_type": "code",
   "execution_count": 267,
   "metadata": {},
   "outputs": [],
   "source": [
    "section_counts_percentage.dropna(inplace=True)"
   ]
  },
  {
   "cell_type": "code",
   "execution_count": 268,
   "metadata": {},
   "outputs": [],
   "source": [
    "section_counts_percentage.reset_index(inplace=True)"
   ]
  },
  {
   "cell_type": "code",
   "execution_count": 270,
   "metadata": {},
   "outputs": [],
   "source": [
    "section_counts_percentage = section_counts_percentage.merge(df_competitions, on=['COMPETITION','SEASON'])"
   ]
  },
  {
   "cell_type": "code",
   "execution_count": 271,
   "metadata": {},
   "outputs": [],
   "source": [
    "section_counts_percentage.drop(['COMPETITION'], axis=1, inplace=True)"
   ]
  },
  {
   "cell_type": "code",
   "execution_count": 123,
   "metadata": {},
   "outputs": [],
   "source": [
    "create_table_query = \"\"\"\n",
    "CREATE TABLE IF NOT EXISTS TEAM_DEFENSIVE_ACTIONS (\n",
    "    SEASON INT,\n",
    "    COMPETITION_ACRONYM VARCHAR(255),\n",
    "    TEAM_NAME VARCHAR(255),\n",
    "    SECTION_1 FLOAT,\n",
    "    SECTION_2 FLOAT,\n",
    "    SECTION_3 FLOAT,\n",
    "    SECTION_4 FLOAT,\n",
    "    SECTION_5 FLOAT,\n",
    "    SECTION_6 FLOAT,\n",
    "    PRIMARY KEY (SEASON, COMPETITION_ACRONYM, TEAM_NAME)\n",
    ");\n",
    "\"\"\""
   ]
  },
  {
   "cell_type": "code",
   "execution_count": 124,
   "metadata": {},
   "outputs": [
    {
     "data": {
      "text/plain": [
       "<snowflake.connector.cursor.SnowflakeCursor at 0x1da0e8dab10>"
      ]
     },
     "execution_count": 124,
     "metadata": {},
     "output_type": "execute_result"
    }
   ],
   "source": [
    "cur.execute(create_table_query)"
   ]
  },
  {
   "cell_type": "code",
   "execution_count": 125,
   "metadata": {},
   "outputs": [],
   "source": [
    "# section_counts_percentage.rename(columns={'Section_1': 'SECTION_1', 'Section_2': 'SECTION_2', 'Section_3': 'SECTION_3',\n",
    "#                                             'Section_4': 'SECTION_4', 'Section_5': 'SECTION_5', 'Section_6': 'SECTION_6'}, inplace=True)"
   ]
  },
  {
   "cell_type": "code",
   "execution_count": 272,
   "metadata": {},
   "outputs": [
    {
     "name": "stdout",
     "output_type": "stream",
     "text": [
      "Upsert completed. 60 rows processed.\n"
     ]
    }
   ],
   "source": [
    "upsert_to_snowflake(\"TEAM_DEFENSIVE_ACTIONS\", section_counts_percentage,\n",
    "                    ['SEASON', 'COMPETITION_ACRONYM', 'TEAM_NAME'])"
   ]
  },
  {
   "cell_type": "code",
   "execution_count": 273,
   "metadata": {},
   "outputs": [],
   "source": [
    "section_counts_percentage = fetch_data(cursor, 'SELECT * FROM  GEGENSTATS.RADAR_CHARTS.TEAM_DEFENSIVE_ACTIONS')"
   ]
  },
  {
   "cell_type": "code",
   "execution_count": 274,
   "metadata": {},
   "outputs": [],
   "source": [
    "section_counts_percentage_filt = section_counts_percentage[section_counts_percentage['SEASON'] == season_selected]\n",
    "section_counts_percentage_filt = section_counts_percentage_filt[section_counts_percentage_filt['COMPETITION_ACRONYM'] == league_selected]\n",
    "section_counts_percentage_filt = section_counts_percentage_filt[section_counts_percentage_filt['TEAM_NAME'] == 'Arsenal']"
   ]
  },
  {
   "cell_type": "code",
   "execution_count": 277,
   "metadata": {},
   "outputs": [
    {
     "data": {
      "text/plain": [
       "array([28.31149927, 17.90393013, 12.66375546, 19.06841339, 14.55604076,\n",
       "        7.49636099])"
      ]
     },
     "execution_count": 277,
     "metadata": {},
     "output_type": "execute_result"
    }
   ],
   "source": [
    "(section_counts_percentage_filt[['SECTION_1', 'SECTION_2', 'SECTION_3', 'SECTION_4', 'SECTION_5', 'SECTION_6']].iloc[0].values)"
   ]
  },
  {
   "cell_type": "code",
   "execution_count": 282,
   "metadata": {},
   "outputs": [],
   "source": [
    "percentage = 28.746"
   ]
  },
  {
   "cell_type": "code",
   "execution_count": 286,
   "metadata": {},
   "outputs": [
    {
     "data": {
      "text/plain": [
       "29"
      ]
     },
     "execution_count": 286,
     "metadata": {},
     "output_type": "execute_result"
    }
   ],
   "source": []
  },
  {
   "cell_type": "code",
   "execution_count": null,
   "metadata": {},
   "outputs": [],
   "source": []
  },
  {
   "cell_type": "code",
   "execution_count": 287,
   "metadata": {},
   "outputs": [],
   "source": [
    "def plot_defensive_actions(section_counts_percentage_filt):\n",
    "\n",
    "    sections = [\"(0.0, 17.5]\", \"(17.5, 35.0]\", \"(35.0, 52.5]\", \"(52.5, 70.0]\", \"(70.0, 87.5]\", \"(87.5, 105.0]\"]\n",
    "    percentages = (section_counts_percentage_filt[['SECTION_1', 'SECTION_2', 'SECTION_3', 'SECTION_4', 'SECTION_5', 'SECTION_6']].iloc[0].values)\n",
    "\n",
    "    max_val = math.ceil(max(percentages) / 5) * 5\n",
    "\n",
    "    def get_green_color(percentage):\n",
    "        green_intensity = int((percentage / max_val) * 255)\n",
    "        return f'#00{green_intensity:02x}00'\n",
    "\n",
    "    pitch = Pitch(pitch_color='#2B2B2B', line_color='white', goal_type='box', pitch_type='uefa', linewidth=1)\n",
    "    fig, ax = pitch.draw(figsize=(12, 8))\n",
    "\n",
    "    fig.patch.set_facecolor('#2B2B2B')\n",
    "\n",
    "    gap_width = 0.3\n",
    "\n",
    "    for i, percentage in enumerate(percentages):\n",
    "        start_pos = float(sections[i].split(', ')[0][1:])\n",
    "        end_pos = float(sections[i].split(', ')[1][:-1])\n",
    "\n",
    "        if i != 0:  # not the first bar\n",
    "            start_pos += gap_width\n",
    "\n",
    "        section_width = end_pos - start_pos\n",
    "        if i != len(percentages) - 1:  # not the last bar\n",
    "            section_width -= gap_width\n",
    "\n",
    "        color = get_green_color(percentage)\n",
    "\n",
    "        rect = patches.Rectangle((start_pos, 0), section_width, 68,\n",
    "                                 linewidth=1, edgecolor='black', facecolor=color, alpha=0.6, zorder=2)\n",
    "        ax.add_patch(rect)\n",
    "\n",
    "        ax.text(start_pos + section_width / 2, 8, str(percentage.__round__()) + '%', fontproperties='Roboto',\n",
    "                va='center', ha='center', color='white', fontsize=16, zorder=3)\n",
    "\n",
    "    scale_height = 3  # Reduced height of the scale rectangles by half\n",
    "    scale_y_position = -10  # Position of the scale rectangles (negative to be below the pitch)\n",
    "    scale_length = 105 / 2.5  # Half the pitch length for scale\n",
    "    scale_start = (105 - scale_length) / 2.25  # Centering the scale\n",
    "\n",
    "    for i in range(0, max_val + 1, 5):\n",
    "        start_pos = scale_start + (i / max_val) * scale_length\n",
    "        section_width = scale_length / (max_val / 5)\n",
    "\n",
    "        color = get_green_color(i)\n",
    "\n",
    "        rect = patches.Rectangle((start_pos, scale_y_position), section_width, scale_height,\n",
    "                                 linewidth=1, edgecolor='black', facecolor=color, alpha=0.6, zorder=2)\n",
    "        ax.add_patch(rect)\n",
    "\n",
    "        if i == 0 or i == ((max_val)):\n",
    "            ax.text(start_pos + (section_width / 2), scale_y_position - (0.5*scale_height),\n",
    "                    f'{i}%',\n",
    "                    color='white',\n",
    "                    fontsize=10,\n",
    "                    ha='center', va='top',\n",
    "                    zorder=3)\n",
    "\n",
    "    ax.set_ylim(bottom=-10)\n",
    "\n",
    "    plt.title('DEFENSIVE ACTIONS', color='gold', fontsize=20, fontname='Roboto', loc='left')\n",
    "\n",
    "    return fig\n",
    "\n"
   ]
  },
  {
   "cell_type": "code",
   "execution_count": 288,
   "metadata": {},
   "outputs": [
    {
     "data": {
      "image/png": "[encoded data removed]",
      "text/plain": [
       "<Figure size 1200x800 with 1 Axes>"
      ]
     },
     "execution_count": 288,
     "metadata": {},
     "output_type": "execute_result"
    },
    {
     "data": {
      "image/png": "[encoded data removed]",
      "text/plain": [
       "<Figure size 1200x800 with 1 Axes>"
      ]
     },
     "metadata": {},
     "output_type": "display_data"
    }
   ],
   "source": [
    "plot_defensive_actions(section_counts_percentage_filt)"
   ]
  },
  {
   "cell_type": "markdown",
   "metadata": {},
   "source": [
    "# Finally, set-piece data"
   ]
  },
  {
   "cell_type": "code",
   "execution_count": 292,
   "metadata": {},
   "outputs": [],
   "source": [
    "set_piece_box_deliveries = set_piece_cross_events.copy()"
   ]
  },
  {
   "cell_type": "code",
   "execution_count": 293,
   "metadata": {},
   "outputs": [],
   "source": [
    "set_piece_box_deliveries.reset_index(drop=True, inplace=True)"
   ]
  },
  {
   "cell_type": "code",
   "execution_count": 294,
   "metadata": {},
   "outputs": [],
   "source": [
    "## Only interested in crosses that end up in the box\n",
    "set_piece_box_deliveries = set_piece_box_deliveries[set_piece_box_deliveries['END_X'] >= 88.5]\n",
    "set_piece_box_deliveries = set_piece_box_deliveries[set_piece_box_deliveries['END_Y'] <= 54.16]\n",
    "set_piece_box_deliveries = set_piece_box_deliveries[set_piece_box_deliveries['END_Y'] >= 13.84]"
   ]
  },
  {
   "cell_type": "code",
   "execution_count": 295,
   "metadata": {},
   "outputs": [],
   "source": [
    "## Now, we want to cateogrize each cross as a \"near post\", \"central\", or \"far post\" cross\n",
    "\"\"\" \n",
    "If START_Y < 30.34, then:\n",
    "    - Near post is where END_Y is < 30.34\n",
    "    - Central is where END_Y is between 30.34 and 37.66\n",
    "    - Far post is where END_Y is > 37.66\n",
    "\n",
    "If START_Y > 37.66, then:\n",
    "    - Near post is where END_Y is > 37.66\n",
    "    - Central is where END_Y is between 30.34 and 37.66\n",
    "    - Far post is where END_Y is < 30.34\n",
    "\"\"\"\n",
    "\n",
    "def classify_cross(row):\n",
    "    if row['START_Y'] < 32.00:\n",
    "        if row['END_Y'] < 30.34:\n",
    "            return 'Near post'\n",
    "        elif row['END_Y'] > 37.66:\n",
    "            return 'Far post'\n",
    "        elif row['END_Y'] >= 30.34 and row['END_Y'] <= 37.66:\n",
    "            return 'Central'\n",
    "    elif row['START_Y'] > 36.0:\n",
    "        if row['END_Y'] > 37.66:\n",
    "            return 'Near post'\n",
    "        elif row['END_Y'] < 30.34:\n",
    "            return 'Far post'\n",
    "        elif row['END_Y'] >= 30.34 and row['END_Y'] <= 37.66:\n",
    "            return 'Central'\n",
    "    else:\n",
    "        return 'Not Classified'"
   ]
  },
  {
   "cell_type": "code",
   "execution_count": 296,
   "metadata": {},
   "outputs": [],
   "source": [
    "set_piece_box_deliveries['Cross_end_location'] = \"NaN\"\n",
    "set_piece_box_deliveries['Cross_end_location'] = set_piece_box_deliveries.apply(classify_cross, axis=1)"
   ]
  },
  {
   "cell_type": "code",
   "execution_count": 298,
   "metadata": {},
   "outputs": [
    {
     "data": {
      "text/plain": [
       "Cross_end_location\n",
       "Central      5545\n",
       "Near post    3290\n",
       "Far post     2084\n",
       "Name: count, dtype: int64"
      ]
     },
     "execution_count": 298,
     "metadata": {},
     "output_type": "execute_result"
    }
   ],
   "source": [
    "set_piece_box_deliveries['Cross_end_location'].value_counts()"
   ]
  },
  {
   "cell_type": "code",
   "execution_count": 299,
   "metadata": {},
   "outputs": [],
   "source": [
    "filter_1st_contacts = set_piece_box_deliveries[['MATCH_ID', 'ACTION_ID']].copy()\n",
    "filter_1st_contacts['ACTION_ID'] += 1"
   ]
  },
  {
   "cell_type": "code",
   "execution_count": 300,
   "metadata": {},
   "outputs": [],
   "source": [
    "set_piece_cross_1st_contacts = df_events.merge(filter_1st_contacts, on=['MATCH_ID', 'ACTION_ID'],how='right')"
   ]
  },
  {
   "cell_type": "code",
   "execution_count": 301,
   "metadata": {},
   "outputs": [],
   "source": [
    "match_ids_to_remove = set_piece_cross_1st_contacts[set_piece_cross_1st_contacts['TEAM_FBREF_ID'].isna()]['MATCH_ID'].values \n",
    "action_ids_to_remove = set_piece_cross_1st_contacts[set_piece_cross_1st_contacts['TEAM_FBREF_ID'].isna()]['ACTION_ID'].values"
   ]
  },
  {
   "cell_type": "code",
   "execution_count": 302,
   "metadata": {},
   "outputs": [],
   "source": [
    "## Remove missing rows!\n",
    "for i in range(len(match_ids_to_remove)):\n",
    "    set_piece_cross_1st_contacts = set_piece_cross_1st_contacts[(set_piece_cross_1st_contacts['MATCH_ID'] != match_ids_to_remove[i]) |\n",
    "                            (set_piece_cross_1st_contacts['ACTION_ID'] != action_ids_to_remove[i])]\n",
    "    \n",
    "    set_piece_box_deliveries = set_piece_box_deliveries[(set_piece_box_deliveries['MATCH_ID'] != match_ids_to_remove[i]) |\n",
    "                            (set_piece_box_deliveries['ACTION_ID'] != action_ids_to_remove[i]-1)]"
   ]
  },
  {
   "cell_type": "code",
   "execution_count": 303,
   "metadata": {},
   "outputs": [],
   "source": [
    "set_piece_cross_1st_contacts = specify_oppo_team_id_to_events(set_piece_cross_1st_contacts, df_matches)"
   ]
  },
  {
   "cell_type": "code",
   "execution_count": 304,
   "metadata": {},
   "outputs": [],
   "source": [
    "set_piece_box_deliveries = specify_oppo_team_id_to_events(set_piece_box_deliveries, df_matches)"
   ]
  },
  {
   "cell_type": "code",
   "execution_count": 305,
   "metadata": {},
   "outputs": [],
   "source": [
    "set_piece_cross_1st_contacts = set_piece_cross_1st_contacts.merge(team_names[['TEAM_NAME', 'TEAM_FBREF_ID']], on=\"TEAM_FBREF_ID\")\n",
    "set_piece_cross_1st_contacts = set_piece_cross_1st_contacts.merge(team_names_2, on=\"OPPO_TEAM_ID\")"
   ]
  },
  {
   "cell_type": "code",
   "execution_count": 306,
   "metadata": {},
   "outputs": [],
   "source": [
    "set_piece_box_deliveries = set_piece_box_deliveries.merge(team_names[['TEAM_NAME', 'TEAM_FBREF_ID']], on=\"TEAM_FBREF_ID\")\n",
    "# set_piece_box_deliveries = set_piece_box_deliveries.merge(team_names_2, on=\"OPPO_TEAM_ID\")"
   ]
  },
  {
   "cell_type": "code",
   "execution_count": 307,
   "metadata": {},
   "outputs": [],
   "source": [
    "set_piece_cross_1st_contacts.sort_values(by=['MATCH_ID', 'ACTION_ID'], inplace=True)\n",
    "set_piece_cross_1st_contacts.reset_index(drop=True, inplace=True)"
   ]
  },
  {
   "cell_type": "code",
   "execution_count": 308,
   "metadata": {},
   "outputs": [],
   "source": [
    "set_piece_box_deliveries.sort_values(by=['MATCH_ID', 'ACTION_ID'], inplace=True)\n",
    "set_piece_box_deliveries.reset_index(drop=True, inplace=True)"
   ]
  },
  {
   "cell_type": "code",
   "execution_count": 309,
   "metadata": {},
   "outputs": [],
   "source": [
    "set_piece_cross_1st_contacts['Cross_end_location'] = set_piece_box_deliveries['Cross_end_location']"
   ]
  },
  {
   "cell_type": "code",
   "execution_count": 310,
   "metadata": {},
   "outputs": [],
   "source": [
    "set_piece_same_1st_contacts = set_piece_cross_1st_contacts[set_piece_box_deliveries.TEAM_FBREF_ID == set_piece_cross_1st_contacts.TEAM_FBREF_ID]\n",
    "set_piece_other_1st_contacts = set_piece_cross_1st_contacts[set_piece_box_deliveries.TEAM_FBREF_ID != set_piece_cross_1st_contacts.TEAM_FBREF_ID]"
   ]
  },
  {
   "cell_type": "code",
   "execution_count": 311,
   "metadata": {},
   "outputs": [],
   "source": [
    "def_team_lost_1st_contact = set_piece_same_1st_contacts.groupby(['COMPETITION', 'SEASON', 'OPPO_TEAM_NAME', \n",
    "                                                                 'Cross_end_location'])['Cross_end_location'].count()"
   ]
  },
  {
   "cell_type": "code",
   "execution_count": 312,
   "metadata": {},
   "outputs": [],
   "source": [
    "def_team_won_1st_contact = set_piece_other_1st_contacts.groupby(['COMPETITION', 'SEASON', 'TEAM_NAME', \n",
    "                                                                 'Cross_end_location'])['Cross_end_location'].count()"
   ]
  },
  {
   "cell_type": "code",
   "execution_count": null,
   "metadata": {},
   "outputs": [],
   "source": []
  },
  {
   "cell_type": "code",
   "execution_count": 211,
   "metadata": {},
   "outputs": [],
   "source": [
    "# def_team_lost_1st_contact = set_piece_same_1st_contacts[set_piece_same_1st_contacts['OPPO_TEAM_NAME'] == 'Arsenal']\n",
    "# def_team_won_1st_contact = set_piece_other_1st_contacts[set_piece_other_1st_contacts['TEAM_NAME'] == 'Arsenal']"
   ]
  },
  {
   "cell_type": "code",
   "execution_count": 314,
   "metadata": {},
   "outputs": [],
   "source": [
    "def_set_piece_final = (def_team_won_1st_contact/(def_team_lost_1st_contact+def_team_won_1st_contact))*100"
   ]
  },
  {
   "cell_type": "code",
   "execution_count": 213,
   "metadata": {},
   "outputs": [],
   "source": [
    "# def_set_piece_final = def_team_won_1st_contact.value_counts('Cross_end_location')/ \\\n",
    "# (def_team_won_1st_contact.value_counts('Cross_end_location')+def_team_lost_1st_contact.value_counts('Cross_end_location'))"
   ]
  },
  {
   "cell_type": "code",
   "execution_count": 316,
   "metadata": {},
   "outputs": [],
   "source": [
    "def_set_piece_final = pd.DataFrame(def_set_piece_final).rename({'Cross_end_location':'PERC_1ST_CONTACT'}, axis=1).reset_index()"
   ]
  },
  {
   "cell_type": "code",
   "execution_count": 318,
   "metadata": {},
   "outputs": [],
   "source": [
    "def_set_piece_final.rename(columns={'Cross_end_location':'CROSS_END_LOCATION'}, inplace=True)"
   ]
  },
  {
   "cell_type": "code",
   "execution_count": 320,
   "metadata": {},
   "outputs": [],
   "source": [
    "def_set_piece_final = def_set_piece_final.merge(df_competitions, on=['COMPETITION','SEASON'])"
   ]
  },
  {
   "cell_type": "code",
   "execution_count": 322,
   "metadata": {},
   "outputs": [],
   "source": [
    "def_set_piece_final.drop(['COMPETITION'], axis=1, inplace=True)"
   ]
  },
  {
   "cell_type": "code",
   "execution_count": 167,
   "metadata": {},
   "outputs": [],
   "source": [
    "create_table_query = \"\"\"\n",
    "CREATE TABLE IF NOT EXISTS TEAM_DEF_SET_PIECE_FIRST_CONTACTS (\n",
    "    SEASON INT,\n",
    "    COMPETITION_ACRONYM VARCHAR(255),\n",
    "    TEAM_NAME VARCHAR(255),\n",
    "    PERC_1ST_CONTACT FLOAT,\n",
    "    CROSS_END_LOCATION VARCHAR(255),\n",
    "    PRIMARY KEY (SEASON, COMPETITION_ACRONYM, TEAM_NAME, CROSS_END_LOCATION)\n",
    ");\n",
    "\"\"\""
   ]
  },
  {
   "cell_type": "code",
   "execution_count": 168,
   "metadata": {},
   "outputs": [
    {
     "data": {
      "text/plain": [
       "<snowflake.connector.cursor.SnowflakeCursor at 0x1da0e8dab10>"
      ]
     },
     "execution_count": 168,
     "metadata": {},
     "output_type": "execute_result"
    }
   ],
   "source": [
    "cur.execute(create_table_query)"
   ]
  },
  {
   "cell_type": "code",
   "execution_count": null,
   "metadata": {},
   "outputs": [],
   "source": []
  },
  {
   "cell_type": "code",
   "execution_count": 325,
   "metadata": {},
   "outputs": [
    {
     "name": "stdout",
     "output_type": "stream",
     "text": [
      "Upsert completed. 180 rows processed.\n"
     ]
    }
   ],
   "source": [
    "upsert_to_snowflake(\"TEAM_DEF_SET_PIECE_FIRST_CONTACTS\", def_set_piece_final, ['SEASON', 'COMPETITION_ACRONYM', 'TEAM_NAME',\n",
    "                                                                            'CROSS_END_LOCATION'])"
   ]
  },
  {
   "cell_type": "code",
   "execution_count": 326,
   "metadata": {},
   "outputs": [],
   "source": [
    "def_set_piece_final = fetch_data(cursor, 'SELECT * FROM  GEGENSTATS.RADAR_CHARTS.TEAM_DEF_SET_PIECE_FIRST_CONTACTS')"
   ]
  },
  {
   "cell_type": "code",
   "execution_count": 327,
   "metadata": {},
   "outputs": [
    {
     "data": {
      "text/html": [
       "<div>\n",
       "<style scoped>\n",
       "    .dataframe tbody tr th:only-of-type {\n",
       "        vertical-align: middle;\n",
       "    }\n",
       "\n",
       "    .dataframe tbody tr th {\n",
       "        vertical-align: top;\n",
       "    }\n",
       "\n",
       "    .dataframe thead th {\n",
       "        text-align: right;\n",
       "    }\n",
       "</style>\n",
       "<table border=\"1\" class=\"dataframe\">\n",
       "  <thead>\n",
       "    <tr style=\"text-align: right;\">\n",
       "      <th></th>\n",
       "      <th>SEASON</th>\n",
       "      <th>COMPETITION_ACRONYM</th>\n",
       "      <th>TEAM_NAME</th>\n",
       "      <th>PERC_1ST_CONTACT</th>\n",
       "      <th>CROSS_END_LOCATION</th>\n",
       "    </tr>\n",
       "  </thead>\n",
       "  <tbody>\n",
       "    <tr>\n",
       "      <th>0</th>\n",
       "      <td>2122</td>\n",
       "      <td>EPL</td>\n",
       "      <td>Arsenal</td>\n",
       "      <td>80.000000</td>\n",
       "      <td>Central</td>\n",
       "    </tr>\n",
       "    <tr>\n",
       "      <th>1</th>\n",
       "      <td>2122</td>\n",
       "      <td>EPL</td>\n",
       "      <td>Arsenal</td>\n",
       "      <td>53.846154</td>\n",
       "      <td>Far post</td>\n",
       "    </tr>\n",
       "    <tr>\n",
       "      <th>2</th>\n",
       "      <td>2122</td>\n",
       "      <td>EPL</td>\n",
       "      <td>Arsenal</td>\n",
       "      <td>67.796610</td>\n",
       "      <td>Near post</td>\n",
       "    </tr>\n",
       "    <tr>\n",
       "      <th>3</th>\n",
       "      <td>2122</td>\n",
       "      <td>EPL</td>\n",
       "      <td>Aston Villa</td>\n",
       "      <td>73.504274</td>\n",
       "      <td>Central</td>\n",
       "    </tr>\n",
       "    <tr>\n",
       "      <th>4</th>\n",
       "      <td>2122</td>\n",
       "      <td>EPL</td>\n",
       "      <td>Aston Villa</td>\n",
       "      <td>40.000000</td>\n",
       "      <td>Far post</td>\n",
       "    </tr>\n",
       "    <tr>\n",
       "      <th>...</th>\n",
       "      <td>...</td>\n",
       "      <td>...</td>\n",
       "      <td>...</td>\n",
       "      <td>...</td>\n",
       "      <td>...</td>\n",
       "    </tr>\n",
       "    <tr>\n",
       "      <th>175</th>\n",
       "      <td>2324</td>\n",
       "      <td>EPL</td>\n",
       "      <td>West Ham</td>\n",
       "      <td>38.709677</td>\n",
       "      <td>Far post</td>\n",
       "    </tr>\n",
       "    <tr>\n",
       "      <th>176</th>\n",
       "      <td>2324</td>\n",
       "      <td>EPL</td>\n",
       "      <td>West Ham</td>\n",
       "      <td>74.285714</td>\n",
       "      <td>Near post</td>\n",
       "    </tr>\n",
       "    <tr>\n",
       "      <th>177</th>\n",
       "      <td>2324</td>\n",
       "      <td>EPL</td>\n",
       "      <td>Wolves</td>\n",
       "      <td>79.746835</td>\n",
       "      <td>Central</td>\n",
       "    </tr>\n",
       "    <tr>\n",
       "      <th>178</th>\n",
       "      <td>2324</td>\n",
       "      <td>EPL</td>\n",
       "      <td>Wolves</td>\n",
       "      <td>80.000000</td>\n",
       "      <td>Far post</td>\n",
       "    </tr>\n",
       "    <tr>\n",
       "      <th>179</th>\n",
       "      <td>2324</td>\n",
       "      <td>EPL</td>\n",
       "      <td>Wolves</td>\n",
       "      <td>70.588235</td>\n",
       "      <td>Near post</td>\n",
       "    </tr>\n",
       "  </tbody>\n",
       "</table>\n",
       "<p>180 rows × 5 columns</p>\n",
       "</div>"
      ],
      "text/plain": [
       "     SEASON COMPETITION_ACRONYM    TEAM_NAME  PERC_1ST_CONTACT  \\\n",
       "0      2122                 EPL      Arsenal         80.000000   \n",
       "1      2122                 EPL      Arsenal         53.846154   \n",
       "2      2122                 EPL      Arsenal         67.796610   \n",
       "3      2122                 EPL  Aston Villa         73.504274   \n",
       "4      2122                 EPL  Aston Villa         40.000000   \n",
       "..      ...                 ...          ...               ...   \n",
       "175    2324                 EPL     West Ham         38.709677   \n",
       "176    2324                 EPL     West Ham         74.285714   \n",
       "177    2324                 EPL       Wolves         79.746835   \n",
       "178    2324                 EPL       Wolves         80.000000   \n",
       "179    2324                 EPL       Wolves         70.588235   \n",
       "\n",
       "    CROSS_END_LOCATION  \n",
       "0              Central  \n",
       "1             Far post  \n",
       "2            Near post  \n",
       "3              Central  \n",
       "4             Far post  \n",
       "..                 ...  \n",
       "175           Far post  \n",
       "176          Near post  \n",
       "177            Central  \n",
       "178           Far post  \n",
       "179          Near post  \n",
       "\n",
       "[180 rows x 5 columns]"
      ]
     },
     "execution_count": 327,
     "metadata": {},
     "output_type": "execute_result"
    }
   ],
   "source": [
    "def_set_piece_final"
   ]
  },
  {
   "cell_type": "code",
   "execution_count": 328,
   "metadata": {},
   "outputs": [],
   "source": [
    "def_set_piece_final_filt = def_set_piece_final[def_set_piece_final['SEASON'] == season_selected]\n",
    "def_set_piece_final_filt = def_set_piece_final_filt[def_set_piece_final_filt['COMPETITION_ACRONYM'] == league_selected]\n",
    "def_set_piece_final_filt = def_set_piece_final_filt[def_set_piece_final_filt['TEAM_NAME'] == 'Arsenal']"
   ]
  },
  {
   "cell_type": "code",
   "execution_count": 329,
   "metadata": {},
   "outputs": [],
   "source": [
    "def_set_piece_chart = def_set_piece_final_filt[['CROSS_END_LOCATION', 'PERC_1ST_CONTACT']].set_index('CROSS_END_LOCATION')"
   ]
  },
  {
   "cell_type": "code",
   "execution_count": 330,
   "metadata": {},
   "outputs": [
    {
     "data": {
      "text/plain": [
       "71.428571429"
      ]
     },
     "execution_count": 330,
     "metadata": {},
     "output_type": "execute_result"
    }
   ],
   "source": [
    "def_set_piece_chart.loc['Near post'].values[0]"
   ]
  },
  {
   "cell_type": "code",
   "execution_count": 331,
   "metadata": {},
   "outputs": [
    {
     "data": {
      "text/plain": [
       "COMPETITION         SEASON  OPPO_TEAM_NAME  Cross_end_location\n",
       "ENG-Premier League  2122.0  Arsenal         Central               17\n",
       "                                            Far post              12\n",
       "                                            Near post             19\n",
       "                            Aston Villa     Central               31\n",
       "                                            Far post              21\n",
       "                                                                  ..\n",
       "                    2324.0  West Ham        Far post              19\n",
       "                                            Near post              9\n",
       "                            Wolves          Central               16\n",
       "                                            Far post               3\n",
       "                                            Near post             15\n",
       "Name: Cross_end_location, Length: 180, dtype: int64"
      ]
     },
     "execution_count": 331,
     "metadata": {},
     "output_type": "execute_result"
    }
   ],
   "source": [
    "set_piece_same_1st_contacts.groupby(['COMPETITION', 'SEASON', 'OPPO_TEAM_NAME', \n",
    "                                                                 'Cross_end_location'])['Cross_end_location'].count()"
   ]
  },
  {
   "cell_type": "code",
   "execution_count": null,
   "metadata": {},
   "outputs": [],
   "source": []
  },
  {
   "cell_type": "code",
   "execution_count": 332,
   "metadata": {},
   "outputs": [
    {
     "data": {
      "text/html": [
       "<div>\n",
       "<style scoped>\n",
       "    .dataframe tbody tr th:only-of-type {\n",
       "        vertical-align: middle;\n",
       "    }\n",
       "\n",
       "    .dataframe tbody tr th {\n",
       "        vertical-align: top;\n",
       "    }\n",
       "\n",
       "    .dataframe thead th {\n",
       "        text-align: right;\n",
       "    }\n",
       "</style>\n",
       "<table border=\"1\" class=\"dataframe\">\n",
       "  <thead>\n",
       "    <tr style=\"text-align: right;\">\n",
       "      <th></th>\n",
       "      <th>SEASON</th>\n",
       "      <th>COMPETITION_ACRONYM</th>\n",
       "      <th>TEAM_NAME</th>\n",
       "      <th>PERC_1ST_CONTACT</th>\n",
       "      <th>CROSS_END_LOCATION</th>\n",
       "    </tr>\n",
       "  </thead>\n",
       "  <tbody>\n",
       "    <tr>\n",
       "      <th>11</th>\n",
       "      <td>2122</td>\n",
       "      <td>EPL</td>\n",
       "      <td>Brighton</td>\n",
       "      <td>90.789474</td>\n",
       "      <td>Near post</td>\n",
       "    </tr>\n",
       "    <tr>\n",
       "      <th>17</th>\n",
       "      <td>2122</td>\n",
       "      <td>EPL</td>\n",
       "      <td>Chelsea</td>\n",
       "      <td>88.461538</td>\n",
       "      <td>Near post</td>\n",
       "    </tr>\n",
       "    <tr>\n",
       "      <th>50</th>\n",
       "      <td>2122</td>\n",
       "      <td>EPL</td>\n",
       "      <td>Tottenham</td>\n",
       "      <td>84.375000</td>\n",
       "      <td>Near post</td>\n",
       "    </tr>\n",
       "    <tr>\n",
       "      <th>53</th>\n",
       "      <td>2122</td>\n",
       "      <td>EPL</td>\n",
       "      <td>Watford</td>\n",
       "      <td>83.823529</td>\n",
       "      <td>Near post</td>\n",
       "    </tr>\n",
       "    <tr>\n",
       "      <th>132</th>\n",
       "      <td>2324</td>\n",
       "      <td>EPL</td>\n",
       "      <td>Brighton</td>\n",
       "      <td>83.673469</td>\n",
       "      <td>Central</td>\n",
       "    </tr>\n",
       "    <tr>\n",
       "      <th>71</th>\n",
       "      <td>2223</td>\n",
       "      <td>EPL</td>\n",
       "      <td>Brentford</td>\n",
       "      <td>83.673469</td>\n",
       "      <td>Near post</td>\n",
       "    </tr>\n",
       "    <tr>\n",
       "      <th>153</th>\n",
       "      <td>2324</td>\n",
       "      <td>EPL</td>\n",
       "      <td>Luton Town</td>\n",
       "      <td>81.818182</td>\n",
       "      <td>Central</td>\n",
       "    </tr>\n",
       "    <tr>\n",
       "      <th>30</th>\n",
       "      <td>2122</td>\n",
       "      <td>EPL</td>\n",
       "      <td>Liverpool</td>\n",
       "      <td>81.818182</td>\n",
       "      <td>Central</td>\n",
       "    </tr>\n",
       "    <tr>\n",
       "      <th>77</th>\n",
       "      <td>2223</td>\n",
       "      <td>EPL</td>\n",
       "      <td>Chelsea</td>\n",
       "      <td>81.690141</td>\n",
       "      <td>Near post</td>\n",
       "    </tr>\n",
       "    <tr>\n",
       "      <th>8</th>\n",
       "      <td>2122</td>\n",
       "      <td>EPL</td>\n",
       "      <td>Brentford</td>\n",
       "      <td>81.481481</td>\n",
       "      <td>Near post</td>\n",
       "    </tr>\n",
       "    <tr>\n",
       "      <th>9</th>\n",
       "      <td>2122</td>\n",
       "      <td>EPL</td>\n",
       "      <td>Brighton</td>\n",
       "      <td>80.898876</td>\n",
       "      <td>Central</td>\n",
       "    </tr>\n",
       "    <tr>\n",
       "      <th>126</th>\n",
       "      <td>2324</td>\n",
       "      <td>EPL</td>\n",
       "      <td>Bournemouth</td>\n",
       "      <td>80.882353</td>\n",
       "      <td>Central</td>\n",
       "    </tr>\n",
       "    <tr>\n",
       "      <th>84</th>\n",
       "      <td>2223</td>\n",
       "      <td>EPL</td>\n",
       "      <td>Fulham</td>\n",
       "      <td>80.869565</td>\n",
       "      <td>Central</td>\n",
       "    </tr>\n",
       "    <tr>\n",
       "      <th>57</th>\n",
       "      <td>2122</td>\n",
       "      <td>EPL</td>\n",
       "      <td>Wolves</td>\n",
       "      <td>80.869565</td>\n",
       "      <td>Central</td>\n",
       "    </tr>\n",
       "    <tr>\n",
       "      <th>131</th>\n",
       "      <td>2324</td>\n",
       "      <td>EPL</td>\n",
       "      <td>Brentford</td>\n",
       "      <td>80.851064</td>\n",
       "      <td>Near post</td>\n",
       "    </tr>\n",
       "    <tr>\n",
       "      <th>56</th>\n",
       "      <td>2122</td>\n",
       "      <td>EPL</td>\n",
       "      <td>West Ham</td>\n",
       "      <td>80.701754</td>\n",
       "      <td>Near post</td>\n",
       "    </tr>\n",
       "    <tr>\n",
       "      <th>54</th>\n",
       "      <td>2122</td>\n",
       "      <td>EPL</td>\n",
       "      <td>West Ham</td>\n",
       "      <td>80.468750</td>\n",
       "      <td>Central</td>\n",
       "    </tr>\n",
       "    <tr>\n",
       "      <th>92</th>\n",
       "      <td>2223</td>\n",
       "      <td>EPL</td>\n",
       "      <td>Leicester City</td>\n",
       "      <td>80.459770</td>\n",
       "      <td>Near post</td>\n",
       "    </tr>\n",
       "    <tr>\n",
       "      <th>113</th>\n",
       "      <td>2223</td>\n",
       "      <td>EPL</td>\n",
       "      <td>Tottenham</td>\n",
       "      <td>80.434783</td>\n",
       "      <td>Near post</td>\n",
       "    </tr>\n",
       "    <tr>\n",
       "      <th>0</th>\n",
       "      <td>2122</td>\n",
       "      <td>EPL</td>\n",
       "      <td>Arsenal</td>\n",
       "      <td>80.000000</td>\n",
       "      <td>Central</td>\n",
       "    </tr>\n",
       "    <tr>\n",
       "      <th>178</th>\n",
       "      <td>2324</td>\n",
       "      <td>EPL</td>\n",
       "      <td>Wolves</td>\n",
       "      <td>80.000000</td>\n",
       "      <td>Far post</td>\n",
       "    </tr>\n",
       "    <tr>\n",
       "      <th>165</th>\n",
       "      <td>2324</td>\n",
       "      <td>EPL</td>\n",
       "      <td>Nott'ham Forest</td>\n",
       "      <td>79.761905</td>\n",
       "      <td>Central</td>\n",
       "    </tr>\n",
       "    <tr>\n",
       "      <th>177</th>\n",
       "      <td>2324</td>\n",
       "      <td>EPL</td>\n",
       "      <td>Wolves</td>\n",
       "      <td>79.746835</td>\n",
       "      <td>Central</td>\n",
       "    </tr>\n",
       "    <tr>\n",
       "      <th>15</th>\n",
       "      <td>2122</td>\n",
       "      <td>EPL</td>\n",
       "      <td>Chelsea</td>\n",
       "      <td>79.487179</td>\n",
       "      <td>Central</td>\n",
       "    </tr>\n",
       "    <tr>\n",
       "      <th>35</th>\n",
       "      <td>2122</td>\n",
       "      <td>EPL</td>\n",
       "      <td>Manchester City</td>\n",
       "      <td>79.411765</td>\n",
       "      <td>Near post</td>\n",
       "    </tr>\n",
       "    <tr>\n",
       "      <th>42</th>\n",
       "      <td>2122</td>\n",
       "      <td>EPL</td>\n",
       "      <td>Norwich City</td>\n",
       "      <td>79.200000</td>\n",
       "      <td>Central</td>\n",
       "    </tr>\n",
       "    <tr>\n",
       "      <th>134</th>\n",
       "      <td>2324</td>\n",
       "      <td>EPL</td>\n",
       "      <td>Brighton</td>\n",
       "      <td>78.378378</td>\n",
       "      <td>Near post</td>\n",
       "    </tr>\n",
       "    <tr>\n",
       "      <th>5</th>\n",
       "      <td>2122</td>\n",
       "      <td>EPL</td>\n",
       "      <td>Aston Villa</td>\n",
       "      <td>77.941176</td>\n",
       "      <td>Near post</td>\n",
       "    </tr>\n",
       "    <tr>\n",
       "      <th>102</th>\n",
       "      <td>2223</td>\n",
       "      <td>EPL</td>\n",
       "      <td>Newcastle Utd</td>\n",
       "      <td>77.528090</td>\n",
       "      <td>Central</td>\n",
       "    </tr>\n",
       "    <tr>\n",
       "      <th>38</th>\n",
       "      <td>2122</td>\n",
       "      <td>EPL</td>\n",
       "      <td>Manchester Utd</td>\n",
       "      <td>77.500000</td>\n",
       "      <td>Near post</td>\n",
       "    </tr>\n",
       "    <tr>\n",
       "      <th>125</th>\n",
       "      <td>2324</td>\n",
       "      <td>EPL</td>\n",
       "      <td>Aston Villa</td>\n",
       "      <td>77.419355</td>\n",
       "      <td>Near post</td>\n",
       "    </tr>\n",
       "    <tr>\n",
       "      <th>120</th>\n",
       "      <td>2324</td>\n",
       "      <td>EPL</td>\n",
       "      <td>Arsenal</td>\n",
       "      <td>77.272727</td>\n",
       "      <td>Central</td>\n",
       "    </tr>\n",
       "    <tr>\n",
       "      <th>47</th>\n",
       "      <td>2122</td>\n",
       "      <td>EPL</td>\n",
       "      <td>Southampton</td>\n",
       "      <td>77.192982</td>\n",
       "      <td>Near post</td>\n",
       "    </tr>\n",
       "    <tr>\n",
       "      <th>119</th>\n",
       "      <td>2223</td>\n",
       "      <td>EPL</td>\n",
       "      <td>Wolves</td>\n",
       "      <td>77.142857</td>\n",
       "      <td>Near post</td>\n",
       "    </tr>\n",
       "    <tr>\n",
       "      <th>26</th>\n",
       "      <td>2122</td>\n",
       "      <td>EPL</td>\n",
       "      <td>Leeds United</td>\n",
       "      <td>76.923077</td>\n",
       "      <td>Near post</td>\n",
       "    </tr>\n",
       "    <tr>\n",
       "      <th>147</th>\n",
       "      <td>2324</td>\n",
       "      <td>EPL</td>\n",
       "      <td>Fulham</td>\n",
       "      <td>76.562500</td>\n",
       "      <td>Central</td>\n",
       "    </tr>\n",
       "    <tr>\n",
       "      <th>60</th>\n",
       "      <td>2223</td>\n",
       "      <td>EPL</td>\n",
       "      <td>Arsenal</td>\n",
       "      <td>76.470588</td>\n",
       "      <td>Central</td>\n",
       "    </tr>\n",
       "    <tr>\n",
       "      <th>117</th>\n",
       "      <td>2223</td>\n",
       "      <td>EPL</td>\n",
       "      <td>Wolves</td>\n",
       "      <td>76.146789</td>\n",
       "      <td>Central</td>\n",
       "    </tr>\n",
       "    <tr>\n",
       "      <th>162</th>\n",
       "      <td>2324</td>\n",
       "      <td>EPL</td>\n",
       "      <td>Newcastle Utd</td>\n",
       "      <td>76.119403</td>\n",
       "      <td>Central</td>\n",
       "    </tr>\n",
       "    <tr>\n",
       "      <th>66</th>\n",
       "      <td>2223</td>\n",
       "      <td>EPL</td>\n",
       "      <td>Bournemouth</td>\n",
       "      <td>75.757576</td>\n",
       "      <td>Central</td>\n",
       "    </tr>\n",
       "  </tbody>\n",
       "</table>\n",
       "</div>"
      ],
      "text/plain": [
       "     SEASON COMPETITION_ACRONYM        TEAM_NAME  PERC_1ST_CONTACT  \\\n",
       "11     2122                 EPL         Brighton         90.789474   \n",
       "17     2122                 EPL          Chelsea         88.461538   \n",
       "50     2122                 EPL        Tottenham         84.375000   \n",
       "53     2122                 EPL          Watford         83.823529   \n",
       "132    2324                 EPL         Brighton         83.673469   \n",
       "71     2223                 EPL        Brentford         83.673469   \n",
       "153    2324                 EPL       Luton Town         81.818182   \n",
       "30     2122                 EPL        Liverpool         81.818182   \n",
       "77     2223                 EPL          Chelsea         81.690141   \n",
       "8      2122                 EPL        Brentford         81.481481   \n",
       "9      2122                 EPL         Brighton         80.898876   \n",
       "126    2324                 EPL      Bournemouth         80.882353   \n",
       "84     2223                 EPL           Fulham         80.869565   \n",
       "57     2122                 EPL           Wolves         80.869565   \n",
       "131    2324                 EPL        Brentford         80.851064   \n",
       "56     2122                 EPL         West Ham         80.701754   \n",
       "54     2122                 EPL         West Ham         80.468750   \n",
       "92     2223                 EPL   Leicester City         80.459770   \n",
       "113    2223                 EPL        Tottenham         80.434783   \n",
       "0      2122                 EPL          Arsenal         80.000000   \n",
       "178    2324                 EPL           Wolves         80.000000   \n",
       "165    2324                 EPL  Nott'ham Forest         79.761905   \n",
       "177    2324                 EPL           Wolves         79.746835   \n",
       "15     2122                 EPL          Chelsea         79.487179   \n",
       "35     2122                 EPL  Manchester City         79.411765   \n",
       "42     2122                 EPL     Norwich City         79.200000   \n",
       "134    2324                 EPL         Brighton         78.378378   \n",
       "5      2122                 EPL      Aston Villa         77.941176   \n",
       "102    2223                 EPL    Newcastle Utd         77.528090   \n",
       "38     2122                 EPL   Manchester Utd         77.500000   \n",
       "125    2324                 EPL      Aston Villa         77.419355   \n",
       "120    2324                 EPL          Arsenal         77.272727   \n",
       "47     2122                 EPL      Southampton         77.192982   \n",
       "119    2223                 EPL           Wolves         77.142857   \n",
       "26     2122                 EPL     Leeds United         76.923077   \n",
       "147    2324                 EPL           Fulham         76.562500   \n",
       "60     2223                 EPL          Arsenal         76.470588   \n",
       "117    2223                 EPL           Wolves         76.146789   \n",
       "162    2324                 EPL    Newcastle Utd         76.119403   \n",
       "66     2223                 EPL      Bournemouth         75.757576   \n",
       "\n",
       "    CROSS_END_LOCATION  \n",
       "11           Near post  \n",
       "17           Near post  \n",
       "50           Near post  \n",
       "53           Near post  \n",
       "132            Central  \n",
       "71           Near post  \n",
       "153            Central  \n",
       "30             Central  \n",
       "77           Near post  \n",
       "8            Near post  \n",
       "9              Central  \n",
       "126            Central  \n",
       "84             Central  \n",
       "57             Central  \n",
       "131          Near post  \n",
       "56           Near post  \n",
       "54             Central  \n",
       "92           Near post  \n",
       "113          Near post  \n",
       "0              Central  \n",
       "178           Far post  \n",
       "165            Central  \n",
       "177            Central  \n",
       "15             Central  \n",
       "35           Near post  \n",
       "42             Central  \n",
       "134          Near post  \n",
       "5            Near post  \n",
       "102            Central  \n",
       "38           Near post  \n",
       "125          Near post  \n",
       "120            Central  \n",
       "47           Near post  \n",
       "119          Near post  \n",
       "26           Near post  \n",
       "147            Central  \n",
       "60             Central  \n",
       "117            Central  \n",
       "162            Central  \n",
       "66             Central  "
      ]
     },
     "execution_count": 332,
     "metadata": {},
     "output_type": "execute_result"
    }
   ],
   "source": [
    "def_set_piece_final.sort_values(by=['PERC_1ST_CONTACT'], ascending=False).head(40)"
   ]
  },
  {
   "cell_type": "code",
   "execution_count": null,
   "metadata": {},
   "outputs": [],
   "source": []
  },
  {
   "cell_type": "code",
   "execution_count": null,
   "metadata": {},
   "outputs": [],
   "source": []
  },
  {
   "cell_type": "code",
   "execution_count": 333,
   "metadata": {},
   "outputs": [],
   "source": [
    "def create_set_piece_first_contacts_plot(def_set_piece_chart):\n",
    "    pitch = VerticalPitch(pitch_color='#2B2B2B', line_color='white', goal_type='box', pitch_type='uefa', linewidth=1, half=True)\n",
    "    fig, ax = pitch.draw(figsize=(8, 12))\n",
    "\n",
    "    # Define the coordinates for the rectangles\n",
    "    rect_coords = [\n",
    "        [(13.84, 105), (13.84, 88.5), (30.09, 88.5), (30.09, 105)],  # Rect1\n",
    "        [(30.59, 105), (30.59, 88.5), (37.41, 88.5), (37.41, 105)],  # Rect2\n",
    "        [(37.91, 105), (37.91, 88.5), (54.16, 88.5), (54.16, 105)]  # Rect3\n",
    "    ]\n",
    "\n",
    "    # Example percentages for each rectangle (use your actual values here)\n",
    "    percentages = [def_set_piece_chart.loc['Near post'].values[0], def_set_piece_chart.loc['Central'].values[0], \n",
    "                   def_set_piece_chart.loc['Far post'].values[0]]\n",
    "\n",
    "    # Function to calculate green color based on percentage\n",
    "    def get_green_color(percentage, max_percentage=100):  # Assuming 100 is the max percentage\n",
    "        green_intensity = int((percentage / max_percentage) * 255)\n",
    "        return f'#00{green_intensity:02x}00'\n",
    "\n",
    "    # Create the rectangular patches\n",
    "    for i, coords in enumerate(rect_coords):\n",
    "        polygon = patches.Polygon(coords, closed=True, color=\"#00b200\", zorder=2,  alpha=0.75)\n",
    "        ax.add_patch(polygon)\n",
    "\n",
    "        # Add text label in the center of each rectangle\n",
    "        rect_center_x = (coords[0][0] + coords[2][0]) / 2 \n",
    "        rect_center_y = (coords[0][1] + coords[2][1]) / 2\n",
    "        ax.text(rect_center_x, rect_center_y, f'{int(percentages[i])}%',fontproperties='Roboto',\n",
    "                va='center', ha='center', color='white', fontsize=18, zorder=3)\n",
    "\n",
    "    # Set figure and axis background color\n",
    "    fig.patch.set_facecolor('#2B2B2B')\n",
    "    ax.patch.set_facecolor('#2B2B2B')\n",
    "\n",
    "    arrow_start = (0, 107)  # Adjust these values as needed for your plot\n",
    "    arrow_end = (18.84, 107)    # Adjust these values as needed for your plot\n",
    "\n",
    "    # Draw the arrow\n",
    "    ax.add_patch(patches.FancyArrow(\n",
    "        arrow_start[0], arrow_start[1],  # x, y start point\n",
    "        arrow_end[0] - arrow_start[0], arrow_end[1] - arrow_start[1],  # dx, dy length\n",
    "        width=0.3,  # Width of the full arrow tail\n",
    "        length_includes_head=False,  # The head is included in the calculation of the arrow's length\n",
    "        head_width=1,  # Width of the arrow head\n",
    "        head_length=1.5,  # Length of the arrow head\n",
    "        color='lightgrey'  # Light grey color\n",
    "    ))\n",
    "\n",
    "    plt.title('SET PIECE FIRST CONTACTS - OWN BOX', color='gold', fontsize=20, fontname='Roboto', loc='left')\n",
    "\n",
    "    return fig\n",
    "\n",
    "\n",
    "# pitch = VerticalPitch(pitch_color='#2B2B2B', line_color='white', goal_type='box', pitch_type='uefa', linewidth=1, half=True)\n",
    "# fig, ax = pitch.draw(figsize=(8, 12))\n",
    "\n",
    "# # Define the coordinates for the rectangles\n",
    "# rect_coords = [\n",
    "#     [(13.84, 105), (13.84, 88.5), (30.09, 88.5), (30.09, 105)],  # Rect1\n",
    "#     [(30.59, 105), (30.59, 88.5), (37.41, 88.5), (37.41, 105)],  # Rect2\n",
    "#     [(37.91, 105), (37.91, 88.5), (54.16, 88.5), (54.16, 105)]  # Rect3\n",
    "# ]\n",
    "\n",
    "# # Example percentages for each rectangle (use your actual values here)\n",
    "# percentages = [def_set_piece_chart.loc['Near post'].values[0], def_set_piece_chart.loc['Central'].values[0], \n",
    "#                def_set_piece_chart.loc['Far post'].values[0]]\n",
    "\n",
    "# # Function to calculate green color based on percentage\n",
    "# def get_green_color(percentage, max_percentage=100):  # Assuming 100 is the max percentage\n",
    "#     green_intensity = int((percentage / max_percentage) * 255)\n",
    "#     print(f'#00{green_intensity:02x}00')\n",
    "#     return f'#00{green_intensity:02x}00'\n",
    "\n",
    "# # Create the rectangular patches\n",
    "# for i, coords in enumerate(rect_coords):\n",
    "#     polygon = patches.Polygon(coords, closed=True, color=\"#00b200\", zorder=2,  alpha=0.75)\n",
    "#     ax.add_patch(polygon)\n",
    "    \n",
    "#     # Add text label in the center of each rectangle\n",
    "#     rect_center_x = (coords[0][0] + coords[2][0]) / 2 \n",
    "#     rect_center_y = (coords[0][1] + coords[2][1]) / 2\n",
    "#     ax.text(rect_center_x, rect_center_y, f'{int(percentages[i])}%',fontproperties='Roboto',\n",
    "#             va='center', ha='center', color='white', fontsize=18, zorder=3)\n",
    "\n",
    "# # Set figure and axis background color\n",
    "# fig.patch.set_facecolor('#2B2B2B')\n",
    "# ax.patch.set_facecolor('#2B2B2B')\n",
    "\n",
    "# arrow_start = (0, 107)  # Adjust these values as needed for your plot\n",
    "# arrow_end = (18.84, 107)    # Adjust these values as needed for your plot\n",
    "\n",
    "# # Draw the arrow\n",
    "# ax.add_patch(patches.FancyArrow(\n",
    "#     arrow_start[0], arrow_start[1],  # x, y start point\n",
    "#     arrow_end[0] - arrow_start[0], arrow_end[1] - arrow_start[1],  # dx, dy length\n",
    "#     width=0.3,  # Width of the full arrow tail\n",
    "#     length_includes_head=False,  # The head is included in the calculation of the arrow's length\n",
    "#     head_width=1,  # Width of the arrow head\n",
    "#     head_length=1.5,  # Length of the arrow head\n",
    "#     color='lightgrey'  # Light grey color\n",
    "# ))\n",
    "\n",
    "# plt.title('SET PIECE FIRST CONTACTS - OWN BOX', color='gold', fontsize=20, fontname='Roboto', loc='left')\n",
    "\n",
    "# plt.show()"
   ]
  },
  {
   "cell_type": "code",
   "execution_count": null,
   "metadata": {},
   "outputs": [],
   "source": []
  },
  {
   "cell_type": "code",
   "execution_count": 334,
   "metadata": {},
   "outputs": [
    {
     "data": {
      "image/png": "[encoded data removed]",
      "text/plain": [
       "<Figure size 800x1200 with 1 Axes>"
      ]
     },
     "execution_count": 334,
     "metadata": {},
     "output_type": "execute_result"
    },
    {
     "data": {
      "image/png": "[encoded data removed]",
      "text/plain": [
       "<Figure size 800x1200 with 1 Axes>"
      ]
     },
     "metadata": {},
     "output_type": "display_data"
    }
   ],
   "source": [
    "create_set_piece_first_contacts_plot(def_set_piece_chart)"
   ]
  },
  {
   "cell_type": "code",
   "execution_count": 335,
   "metadata": {},
   "outputs": [
    {
     "data": {
      "text/html": [
       "<div>\n",
       "<style scoped>\n",
       "    .dataframe tbody tr th:only-of-type {\n",
       "        vertical-align: middle;\n",
       "    }\n",
       "\n",
       "    .dataframe tbody tr th {\n",
       "        vertical-align: top;\n",
       "    }\n",
       "\n",
       "    .dataframe thead th {\n",
       "        text-align: right;\n",
       "    }\n",
       "</style>\n",
       "<table border=\"1\" class=\"dataframe\">\n",
       "  <thead>\n",
       "    <tr style=\"text-align: right;\">\n",
       "      <th></th>\n",
       "      <th>TEAM_FBREF_ID</th>\n",
       "      <th>SEASON</th>\n",
       "      <th>COMPETITION</th>\n",
       "      <th>GOALS_SCORED</th>\n",
       "      <th>NPXG</th>\n",
       "      <th>XG</th>\n",
       "      <th>SHOTS</th>\n",
       "      <th>SHOTS_ON_TARGET</th>\n",
       "      <th>PASS_COMPLETED</th>\n",
       "      <th>PASS_ATTEMPTED</th>\n",
       "      <th>TAKEONS_ATTEMPTED</th>\n",
       "      <th>TAKEONS_COMPLETED</th>\n",
       "      <th>CROSSES_INTO_PA</th>\n",
       "      <th>FOULS_AGAINST</th>\n",
       "    </tr>\n",
       "  </thead>\n",
       "  <tbody>\n",
       "    <tr>\n",
       "      <th>0</th>\n",
       "      <td>18bb7c10</td>\n",
       "      <td>2122</td>\n",
       "      <td>ENG-Premier League</td>\n",
       "      <td>61</td>\n",
       "      <td>57.19</td>\n",
       "      <td>63.39</td>\n",
       "      <td>581</td>\n",
       "      <td>186</td>\n",
       "      <td>16176</td>\n",
       "      <td>19843</td>\n",
       "      <td>590</td>\n",
       "      <td>319</td>\n",
       "      <td>74</td>\n",
       "      <td>357</td>\n",
       "    </tr>\n",
       "    <tr>\n",
       "      <th>1</th>\n",
       "      <td>8602292d</td>\n",
       "      <td>2122</td>\n",
       "      <td>ENG-Premier League</td>\n",
       "      <td>52</td>\n",
       "      <td>40.85</td>\n",
       "      <td>43.13</td>\n",
       "      <td>461</td>\n",
       "      <td>159</td>\n",
       "      <td>12748</td>\n",
       "      <td>16499</td>\n",
       "      <td>587</td>\n",
       "      <td>333</td>\n",
       "      <td>70</td>\n",
       "      <td>504</td>\n",
       "    </tr>\n",
       "    <tr>\n",
       "      <th>2</th>\n",
       "      <td>cd051869</td>\n",
       "      <td>2122</td>\n",
       "      <td>ENG-Premier League</td>\n",
       "      <td>48</td>\n",
       "      <td>48.32</td>\n",
       "      <td>52.89</td>\n",
       "      <td>436</td>\n",
       "      <td>141</td>\n",
       "      <td>11676</td>\n",
       "      <td>16272</td>\n",
       "      <td>476</td>\n",
       "      <td>262</td>\n",
       "      <td>81</td>\n",
       "      <td>363</td>\n",
       "    </tr>\n",
       "    <tr>\n",
       "      <th>3</th>\n",
       "      <td>d07537b9</td>\n",
       "      <td>2122</td>\n",
       "      <td>ENG-Premier League</td>\n",
       "      <td>42</td>\n",
       "      <td>44.24</td>\n",
       "      <td>49.57</td>\n",
       "      <td>482</td>\n",
       "      <td>141</td>\n",
       "      <td>16410</td>\n",
       "      <td>20588</td>\n",
       "      <td>559</td>\n",
       "      <td>317</td>\n",
       "      <td>72</td>\n",
       "      <td>355</td>\n",
       "    </tr>\n",
       "    <tr>\n",
       "      <th>4</th>\n",
       "      <td>943e8050</td>\n",
       "      <td>2122</td>\n",
       "      <td>ENG-Premier League</td>\n",
       "      <td>34</td>\n",
       "      <td>39.58</td>\n",
       "      <td>41.11</td>\n",
       "      <td>405</td>\n",
       "      <td>119</td>\n",
       "      <td>9454</td>\n",
       "      <td>14107</td>\n",
       "      <td>479</td>\n",
       "      <td>258</td>\n",
       "      <td>84</td>\n",
       "      <td>332</td>\n",
       "    </tr>\n",
       "  </tbody>\n",
       "</table>\n",
       "</div>"
      ],
      "text/plain": [
       "  TEAM_FBREF_ID  SEASON         COMPETITION  GOALS_SCORED   NPXG     XG  \\\n",
       "0      18bb7c10    2122  ENG-Premier League            61  57.19  63.39   \n",
       "1      8602292d    2122  ENG-Premier League            52  40.85  43.13   \n",
       "2      cd051869    2122  ENG-Premier League            48  48.32  52.89   \n",
       "3      d07537b9    2122  ENG-Premier League            42  44.24  49.57   \n",
       "4      943e8050    2122  ENG-Premier League            34  39.58  41.11   \n",
       "\n",
       "   SHOTS  SHOTS_ON_TARGET  PASS_COMPLETED  PASS_ATTEMPTED  TAKEONS_ATTEMPTED  \\\n",
       "0    581              186           16176           19843                590   \n",
       "1    461              159           12748           16499                587   \n",
       "2    436              141           11676           16272                476   \n",
       "3    482              141           16410           20588                559   \n",
       "4    405              119            9454           14107                479   \n",
       "\n",
       "   TAKEONS_COMPLETED  CROSSES_INTO_PA  FOULS_AGAINST  \n",
       "0                319               74            357  \n",
       "1                333               70            504  \n",
       "2                262               81            363  \n",
       "3                317               72            355  \n",
       "4                258               84            332  "
      ]
     },
     "execution_count": 335,
     "metadata": {},
     "output_type": "execute_result"
    }
   ],
   "source": [
    "team_attacking.head()"
   ]
  },
  {
   "cell_type": "code",
   "execution_count": 336,
   "metadata": {},
   "outputs": [],
   "source": [
    "attacking_efficiency = team_attacking[['TEAM_FBREF_ID','SEASON','COMPETITION','GOALS_SCORED','SHOTS']]"
   ]
  },
  {
   "cell_type": "code",
   "execution_count": 337,
   "metadata": {},
   "outputs": [],
   "source": [
    "attacking_efficiency = attacking_efficiency.merge(team_names, on='TEAM_FBREF_ID', how='left')"
   ]
  },
  {
   "cell_type": "code",
   "execution_count": 338,
   "metadata": {},
   "outputs": [],
   "source": [
    "attacking_efficiency = attacking_efficiency.merge(team_misc[['TEAM_FBREF_ID', 'SEASON', 'COMPETITION','MATCHES_PLAYED']], \n",
    "                            on=['TEAM_FBREF_ID', 'SEASON', 'COMPETITION'])"
   ]
  },
  {
   "cell_type": "code",
   "execution_count": 339,
   "metadata": {},
   "outputs": [],
   "source": [
    "attacking_efficiency['CONVERSION_RATE'] = (attacking_efficiency['GOALS_SCORED'] / attacking_efficiency['SHOTS']) * 100"
   ]
  },
  {
   "cell_type": "code",
   "execution_count": 340,
   "metadata": {},
   "outputs": [],
   "source": [
    "attacking_efficiency['SHOTS_PER_GAME'] = (attacking_efficiency['SHOTS'] / attacking_efficiency['MATCHES_PLAYED'])"
   ]
  },
  {
   "cell_type": "code",
   "execution_count": 341,
   "metadata": {},
   "outputs": [
    {
     "data": {
      "text/html": [
       "<div>\n",
       "<style scoped>\n",
       "    .dataframe tbody tr th:only-of-type {\n",
       "        vertical-align: middle;\n",
       "    }\n",
       "\n",
       "    .dataframe tbody tr th {\n",
       "        vertical-align: top;\n",
       "    }\n",
       "\n",
       "    .dataframe thead th {\n",
       "        text-align: right;\n",
       "    }\n",
       "</style>\n",
       "<table border=\"1\" class=\"dataframe\">\n",
       "  <thead>\n",
       "    <tr style=\"text-align: right;\">\n",
       "      <th></th>\n",
       "      <th>TEAM_FBREF_ID</th>\n",
       "      <th>SEASON</th>\n",
       "      <th>COMPETITION</th>\n",
       "      <th>GOALS_SCORED</th>\n",
       "      <th>SHOTS</th>\n",
       "      <th>TEAM_NAME</th>\n",
       "      <th>TEAM_LOGO_URL</th>\n",
       "      <th>TEAM_WS_ID</th>\n",
       "      <th>MATCHES_PLAYED</th>\n",
       "      <th>CONVERSION_RATE</th>\n",
       "      <th>SHOTS_PER_GAME</th>\n",
       "    </tr>\n",
       "  </thead>\n",
       "  <tbody>\n",
       "    <tr>\n",
       "      <th>0</th>\n",
       "      <td>18bb7c10</td>\n",
       "      <td>2122</td>\n",
       "      <td>ENG-Premier League</td>\n",
       "      <td>61</td>\n",
       "      <td>581</td>\n",
       "      <td>Arsenal</td>\n",
       "      <td>https://i.imgur.com/SURo5sj.png</td>\n",
       "      <td>13</td>\n",
       "      <td>38</td>\n",
       "      <td>10.499139</td>\n",
       "      <td>15.289474</td>\n",
       "    </tr>\n",
       "    <tr>\n",
       "      <th>1</th>\n",
       "      <td>8602292d</td>\n",
       "      <td>2122</td>\n",
       "      <td>ENG-Premier League</td>\n",
       "      <td>52</td>\n",
       "      <td>461</td>\n",
       "      <td>Aston Villa</td>\n",
       "      <td>https://i.imgur.com/M4mwH1X.png</td>\n",
       "      <td>24</td>\n",
       "      <td>38</td>\n",
       "      <td>11.279826</td>\n",
       "      <td>12.131579</td>\n",
       "    </tr>\n",
       "    <tr>\n",
       "      <th>2</th>\n",
       "      <td>cd051869</td>\n",
       "      <td>2122</td>\n",
       "      <td>ENG-Premier League</td>\n",
       "      <td>48</td>\n",
       "      <td>436</td>\n",
       "      <td>Brentford</td>\n",
       "      <td>https://i.imgur.com/MOhGOQ4.png</td>\n",
       "      <td>189</td>\n",
       "      <td>38</td>\n",
       "      <td>11.009174</td>\n",
       "      <td>11.473684</td>\n",
       "    </tr>\n",
       "    <tr>\n",
       "      <th>3</th>\n",
       "      <td>d07537b9</td>\n",
       "      <td>2122</td>\n",
       "      <td>ENG-Premier League</td>\n",
       "      <td>42</td>\n",
       "      <td>482</td>\n",
       "      <td>Brighton</td>\n",
       "      <td>https://i.imgur.com/EMCwD3X.png</td>\n",
       "      <td>211</td>\n",
       "      <td>38</td>\n",
       "      <td>8.713693</td>\n",
       "      <td>12.684211</td>\n",
       "    </tr>\n",
       "    <tr>\n",
       "      <th>4</th>\n",
       "      <td>943e8050</td>\n",
       "      <td>2122</td>\n",
       "      <td>ENG-Premier League</td>\n",
       "      <td>34</td>\n",
       "      <td>405</td>\n",
       "      <td>Burnley</td>\n",
       "      <td>https://i.imgur.com/6IDi9XJ.png</td>\n",
       "      <td>184</td>\n",
       "      <td>38</td>\n",
       "      <td>8.395062</td>\n",
       "      <td>10.657895</td>\n",
       "    </tr>\n",
       "    <tr>\n",
       "      <th>5</th>\n",
       "      <td>cff3d9bb</td>\n",
       "      <td>2122</td>\n",
       "      <td>ENG-Premier League</td>\n",
       "      <td>76</td>\n",
       "      <td>583</td>\n",
       "      <td>Chelsea</td>\n",
       "      <td>https://i.imgur.com/6F7h3UR.png</td>\n",
       "      <td>15</td>\n",
       "      <td>38</td>\n",
       "      <td>13.036021</td>\n",
       "      <td>15.342105</td>\n",
       "    </tr>\n",
       "    <tr>\n",
       "      <th>6</th>\n",
       "      <td>47c64c55</td>\n",
       "      <td>2122</td>\n",
       "      <td>ENG-Premier League</td>\n",
       "      <td>50</td>\n",
       "      <td>404</td>\n",
       "      <td>Crystal Palace</td>\n",
       "      <td>https://i.imgur.com/LPhzr0K.png</td>\n",
       "      <td>162</td>\n",
       "      <td>38</td>\n",
       "      <td>12.376238</td>\n",
       "      <td>10.631579</td>\n",
       "    </tr>\n",
       "    <tr>\n",
       "      <th>7</th>\n",
       "      <td>d3fd31cc</td>\n",
       "      <td>2122</td>\n",
       "      <td>ENG-Premier League</td>\n",
       "      <td>43</td>\n",
       "      <td>430</td>\n",
       "      <td>Everton</td>\n",
       "      <td>https://i.imgur.com/Dgei0uj.png</td>\n",
       "      <td>31</td>\n",
       "      <td>38</td>\n",
       "      <td>10.000000</td>\n",
       "      <td>11.315789</td>\n",
       "    </tr>\n",
       "    <tr>\n",
       "      <th>8</th>\n",
       "      <td>5bfb9659</td>\n",
       "      <td>2122</td>\n",
       "      <td>ENG-Premier League</td>\n",
       "      <td>42</td>\n",
       "      <td>480</td>\n",
       "      <td>Leeds United</td>\n",
       "      <td>https://i.imgur.com/2tipH85.png</td>\n",
       "      <td>19</td>\n",
       "      <td>38</td>\n",
       "      <td>8.750000</td>\n",
       "      <td>12.631579</td>\n",
       "    </tr>\n",
       "    <tr>\n",
       "      <th>9</th>\n",
       "      <td>a2d435b3</td>\n",
       "      <td>2122</td>\n",
       "      <td>ENG-Premier League</td>\n",
       "      <td>62</td>\n",
       "      <td>433</td>\n",
       "      <td>Leicester City</td>\n",
       "      <td>https://i.imgur.com/ldOUO84.png</td>\n",
       "      <td>14</td>\n",
       "      <td>38</td>\n",
       "      <td>14.318707</td>\n",
       "      <td>11.394737</td>\n",
       "    </tr>\n",
       "    <tr>\n",
       "      <th>10</th>\n",
       "      <td>822bd0ba</td>\n",
       "      <td>2122</td>\n",
       "      <td>ENG-Premier League</td>\n",
       "      <td>94</td>\n",
       "      <td>721</td>\n",
       "      <td>Liverpool</td>\n",
       "      <td>https://i.imgur.com/fs7VK9G.png</td>\n",
       "      <td>26</td>\n",
       "      <td>38</td>\n",
       "      <td>13.037448</td>\n",
       "      <td>18.973684</td>\n",
       "    </tr>\n",
       "    <tr>\n",
       "      <th>11</th>\n",
       "      <td>b8fd03ef</td>\n",
       "      <td>2122</td>\n",
       "      <td>ENG-Premier League</td>\n",
       "      <td>99</td>\n",
       "      <td>704</td>\n",
       "      <td>Manchester City</td>\n",
       "      <td>https://i.imgur.com/FF8z7uZ.png</td>\n",
       "      <td>167</td>\n",
       "      <td>38</td>\n",
       "      <td>14.062500</td>\n",
       "      <td>18.526316</td>\n",
       "    </tr>\n",
       "    <tr>\n",
       "      <th>12</th>\n",
       "      <td>19538871</td>\n",
       "      <td>2122</td>\n",
       "      <td>ENG-Premier League</td>\n",
       "      <td>57</td>\n",
       "      <td>503</td>\n",
       "      <td>Manchester Utd</td>\n",
       "      <td>https://i.imgur.com/z47emBQ.png</td>\n",
       "      <td>32</td>\n",
       "      <td>38</td>\n",
       "      <td>11.332008</td>\n",
       "      <td>13.236842</td>\n",
       "    </tr>\n",
       "    <tr>\n",
       "      <th>13</th>\n",
       "      <td>b2b47a98</td>\n",
       "      <td>2122</td>\n",
       "      <td>ENG-Premier League</td>\n",
       "      <td>44</td>\n",
       "      <td>446</td>\n",
       "      <td>Newcastle Utd</td>\n",
       "      <td>https://i.imgur.com/3kOLokZ.png</td>\n",
       "      <td>23</td>\n",
       "      <td>38</td>\n",
       "      <td>9.865471</td>\n",
       "      <td>11.736842</td>\n",
       "    </tr>\n",
       "    <tr>\n",
       "      <th>14</th>\n",
       "      <td>1c781004</td>\n",
       "      <td>2122</td>\n",
       "      <td>ENG-Premier League</td>\n",
       "      <td>23</td>\n",
       "      <td>370</td>\n",
       "      <td>Norwich City</td>\n",
       "      <td>https://i.imgur.com/WLIU9hF.png</td>\n",
       "      <td>168</td>\n",
       "      <td>38</td>\n",
       "      <td>6.216216</td>\n",
       "      <td>9.736842</td>\n",
       "    </tr>\n",
       "    <tr>\n",
       "      <th>15</th>\n",
       "      <td>33c895d4</td>\n",
       "      <td>2122</td>\n",
       "      <td>ENG-Premier League</td>\n",
       "      <td>43</td>\n",
       "      <td>478</td>\n",
       "      <td>Southampton</td>\n",
       "      <td>https://i.imgur.com/35GrgJC.png</td>\n",
       "      <td>18</td>\n",
       "      <td>38</td>\n",
       "      <td>8.995816</td>\n",
       "      <td>12.578947</td>\n",
       "    </tr>\n",
       "    <tr>\n",
       "      <th>16</th>\n",
       "      <td>361ca564</td>\n",
       "      <td>2122</td>\n",
       "      <td>ENG-Premier League</td>\n",
       "      <td>69</td>\n",
       "      <td>486</td>\n",
       "      <td>Tottenham</td>\n",
       "      <td>https://i.imgur.com/fJ7rUWW.png</td>\n",
       "      <td>30</td>\n",
       "      <td>38</td>\n",
       "      <td>14.197531</td>\n",
       "      <td>12.789474</td>\n",
       "    </tr>\n",
       "    <tr>\n",
       "      <th>17</th>\n",
       "      <td>2abfe087</td>\n",
       "      <td>2122</td>\n",
       "      <td>ENG-Premier League</td>\n",
       "      <td>34</td>\n",
       "      <td>397</td>\n",
       "      <td>Watford</td>\n",
       "      <td>https://i.imgur.com/vlOBKzl.png</td>\n",
       "      <td>27</td>\n",
       "      <td>38</td>\n",
       "      <td>8.564232</td>\n",
       "      <td>10.447368</td>\n",
       "    </tr>\n",
       "    <tr>\n",
       "      <th>18</th>\n",
       "      <td>7c21e445</td>\n",
       "      <td>2122</td>\n",
       "      <td>ENG-Premier League</td>\n",
       "      <td>60</td>\n",
       "      <td>443</td>\n",
       "      <td>West Ham</td>\n",
       "      <td>https://i.imgur.com/9BQHJRl.png</td>\n",
       "      <td>29</td>\n",
       "      <td>38</td>\n",
       "      <td>13.544018</td>\n",
       "      <td>11.657895</td>\n",
       "    </tr>\n",
       "    <tr>\n",
       "      <th>19</th>\n",
       "      <td>8cec06e1</td>\n",
       "      <td>2122</td>\n",
       "      <td>ENG-Premier League</td>\n",
       "      <td>38</td>\n",
       "      <td>401</td>\n",
       "      <td>Wolves</td>\n",
       "      <td>https://i.imgur.com/6azSF88.png</td>\n",
       "      <td>161</td>\n",
       "      <td>38</td>\n",
       "      <td>9.476309</td>\n",
       "      <td>10.552632</td>\n",
       "    </tr>\n",
       "    <tr>\n",
       "      <th>20</th>\n",
       "      <td>18bb7c10</td>\n",
       "      <td>2324</td>\n",
       "      <td>ENG-Premier League</td>\n",
       "      <td>58</td>\n",
       "      <td>413</td>\n",
       "      <td>Arsenal</td>\n",
       "      <td>https://i.imgur.com/SURo5sj.png</td>\n",
       "      <td>13</td>\n",
       "      <td>25</td>\n",
       "      <td>14.043584</td>\n",
       "      <td>16.520000</td>\n",
       "    </tr>\n",
       "    <tr>\n",
       "      <th>21</th>\n",
       "      <td>8602292d</td>\n",
       "      <td>2324</td>\n",
       "      <td>ENG-Premier League</td>\n",
       "      <td>52</td>\n",
       "      <td>366</td>\n",
       "      <td>Aston Villa</td>\n",
       "      <td>https://i.imgur.com/M4mwH1X.png</td>\n",
       "      <td>24</td>\n",
       "      <td>25</td>\n",
       "      <td>14.207650</td>\n",
       "      <td>14.640000</td>\n",
       "    </tr>\n",
       "    <tr>\n",
       "      <th>22</th>\n",
       "      <td>4ba7cbea</td>\n",
       "      <td>2324</td>\n",
       "      <td>ENG-Premier League</td>\n",
       "      <td>33</td>\n",
       "      <td>320</td>\n",
       "      <td>Bournemouth</td>\n",
       "      <td>https://i.imgur.com/0F6UIO4.png</td>\n",
       "      <td>183</td>\n",
       "      <td>24</td>\n",
       "      <td>10.312500</td>\n",
       "      <td>13.333333</td>\n",
       "    </tr>\n",
       "    <tr>\n",
       "      <th>23</th>\n",
       "      <td>cd051869</td>\n",
       "      <td>2324</td>\n",
       "      <td>ENG-Premier League</td>\n",
       "      <td>35</td>\n",
       "      <td>306</td>\n",
       "      <td>Brentford</td>\n",
       "      <td>https://i.imgur.com/MOhGOQ4.png</td>\n",
       "      <td>189</td>\n",
       "      <td>24</td>\n",
       "      <td>11.437908</td>\n",
       "      <td>12.750000</td>\n",
       "    </tr>\n",
       "    <tr>\n",
       "      <th>24</th>\n",
       "      <td>d07537b9</td>\n",
       "      <td>2324</td>\n",
       "      <td>ENG-Premier League</td>\n",
       "      <td>48</td>\n",
       "      <td>366</td>\n",
       "      <td>Brighton</td>\n",
       "      <td>https://i.imgur.com/EMCwD3X.png</td>\n",
       "      <td>211</td>\n",
       "      <td>25</td>\n",
       "      <td>13.114754</td>\n",
       "      <td>14.640000</td>\n",
       "    </tr>\n",
       "    <tr>\n",
       "      <th>25</th>\n",
       "      <td>943e8050</td>\n",
       "      <td>2324</td>\n",
       "      <td>ENG-Premier League</td>\n",
       "      <td>25</td>\n",
       "      <td>258</td>\n",
       "      <td>Burnley</td>\n",
       "      <td>https://i.imgur.com/6IDi9XJ.png</td>\n",
       "      <td>184</td>\n",
       "      <td>25</td>\n",
       "      <td>9.689922</td>\n",
       "      <td>10.320000</td>\n",
       "    </tr>\n",
       "    <tr>\n",
       "      <th>26</th>\n",
       "      <td>cff3d9bb</td>\n",
       "      <td>2324</td>\n",
       "      <td>ENG-Premier League</td>\n",
       "      <td>42</td>\n",
       "      <td>320</td>\n",
       "      <td>Chelsea</td>\n",
       "      <td>https://i.imgur.com/6F7h3UR.png</td>\n",
       "      <td>15</td>\n",
       "      <td>25</td>\n",
       "      <td>13.125000</td>\n",
       "      <td>12.800000</td>\n",
       "    </tr>\n",
       "    <tr>\n",
       "      <th>27</th>\n",
       "      <td>47c64c55</td>\n",
       "      <td>2324</td>\n",
       "      <td>ENG-Premier League</td>\n",
       "      <td>28</td>\n",
       "      <td>287</td>\n",
       "      <td>Crystal Palace</td>\n",
       "      <td>https://i.imgur.com/LPhzr0K.png</td>\n",
       "      <td>162</td>\n",
       "      <td>25</td>\n",
       "      <td>9.756098</td>\n",
       "      <td>11.480000</td>\n",
       "    </tr>\n",
       "    <tr>\n",
       "      <th>28</th>\n",
       "      <td>d3fd31cc</td>\n",
       "      <td>2324</td>\n",
       "      <td>ENG-Premier League</td>\n",
       "      <td>27</td>\n",
       "      <td>346</td>\n",
       "      <td>Everton</td>\n",
       "      <td>https://i.imgur.com/Dgei0uj.png</td>\n",
       "      <td>31</td>\n",
       "      <td>25</td>\n",
       "      <td>7.803468</td>\n",
       "      <td>13.840000</td>\n",
       "    </tr>\n",
       "    <tr>\n",
       "      <th>29</th>\n",
       "      <td>fd962109</td>\n",
       "      <td>2324</td>\n",
       "      <td>ENG-Premier League</td>\n",
       "      <td>34</td>\n",
       "      <td>304</td>\n",
       "      <td>Fulham</td>\n",
       "      <td>https://i.imgur.com/2zggSrF.png</td>\n",
       "      <td>170</td>\n",
       "      <td>25</td>\n",
       "      <td>11.184211</td>\n",
       "      <td>12.160000</td>\n",
       "    </tr>\n",
       "    <tr>\n",
       "      <th>30</th>\n",
       "      <td>822bd0ba</td>\n",
       "      <td>2324</td>\n",
       "      <td>ENG-Premier League</td>\n",
       "      <td>59</td>\n",
       "      <td>465</td>\n",
       "      <td>Liverpool</td>\n",
       "      <td>https://i.imgur.com/fs7VK9G.png</td>\n",
       "      <td>26</td>\n",
       "      <td>25</td>\n",
       "      <td>12.688172</td>\n",
       "      <td>18.600000</td>\n",
       "    </tr>\n",
       "    <tr>\n",
       "      <th>31</th>\n",
       "      <td>e297cd13</td>\n",
       "      <td>2324</td>\n",
       "      <td>ENG-Premier League</td>\n",
       "      <td>34</td>\n",
       "      <td>289</td>\n",
       "      <td>Luton Town</td>\n",
       "      <td>https://i.imgur.com/vHHqKJX.png</td>\n",
       "      <td>95</td>\n",
       "      <td>24</td>\n",
       "      <td>11.764706</td>\n",
       "      <td>12.041667</td>\n",
       "    </tr>\n",
       "    <tr>\n",
       "      <th>32</th>\n",
       "      <td>b8fd03ef</td>\n",
       "      <td>2324</td>\n",
       "      <td>ENG-Premier League</td>\n",
       "      <td>57</td>\n",
       "      <td>422</td>\n",
       "      <td>Manchester City</td>\n",
       "      <td>https://i.imgur.com/FF8z7uZ.png</td>\n",
       "      <td>167</td>\n",
       "      <td>24</td>\n",
       "      <td>13.507109</td>\n",
       "      <td>17.583333</td>\n",
       "    </tr>\n",
       "    <tr>\n",
       "      <th>33</th>\n",
       "      <td>19538871</td>\n",
       "      <td>2324</td>\n",
       "      <td>ENG-Premier League</td>\n",
       "      <td>35</td>\n",
       "      <td>360</td>\n",
       "      <td>Manchester Utd</td>\n",
       "      <td>https://i.imgur.com/z47emBQ.png</td>\n",
       "      <td>32</td>\n",
       "      <td>25</td>\n",
       "      <td>9.722222</td>\n",
       "      <td>14.400000</td>\n",
       "    </tr>\n",
       "    <tr>\n",
       "      <th>34</th>\n",
       "      <td>b2b47a98</td>\n",
       "      <td>2324</td>\n",
       "      <td>ENG-Premier League</td>\n",
       "      <td>53</td>\n",
       "      <td>345</td>\n",
       "      <td>Newcastle Utd</td>\n",
       "      <td>https://i.imgur.com/3kOLokZ.png</td>\n",
       "      <td>23</td>\n",
       "      <td>25</td>\n",
       "      <td>15.362319</td>\n",
       "      <td>13.800000</td>\n",
       "    </tr>\n",
       "    <tr>\n",
       "      <th>35</th>\n",
       "      <td>e4a775cb</td>\n",
       "      <td>2324</td>\n",
       "      <td>ENG-Premier League</td>\n",
       "      <td>32</td>\n",
       "      <td>279</td>\n",
       "      <td>Nott'ham Forest</td>\n",
       "      <td>https://i.imgur.com/z4Tl9Zu.png</td>\n",
       "      <td>174</td>\n",
       "      <td>25</td>\n",
       "      <td>11.469534</td>\n",
       "      <td>11.160000</td>\n",
       "    </tr>\n",
       "    <tr>\n",
       "      <th>36</th>\n",
       "      <td>1df6b87e</td>\n",
       "      <td>2324</td>\n",
       "      <td>ENG-Premier League</td>\n",
       "      <td>22</td>\n",
       "      <td>221</td>\n",
       "      <td>Sheffield Utd</td>\n",
       "      <td>https://i.imgur.com/eeBetFN.png</td>\n",
       "      <td>163</td>\n",
       "      <td>25</td>\n",
       "      <td>9.954751</td>\n",
       "      <td>8.840000</td>\n",
       "    </tr>\n",
       "    <tr>\n",
       "      <th>37</th>\n",
       "      <td>361ca564</td>\n",
       "      <td>2324</td>\n",
       "      <td>ENG-Premier League</td>\n",
       "      <td>52</td>\n",
       "      <td>394</td>\n",
       "      <td>Tottenham</td>\n",
       "      <td>https://i.imgur.com/fJ7rUWW.png</td>\n",
       "      <td>30</td>\n",
       "      <td>25</td>\n",
       "      <td>13.197970</td>\n",
       "      <td>15.760000</td>\n",
       "    </tr>\n",
       "    <tr>\n",
       "      <th>38</th>\n",
       "      <td>7c21e445</td>\n",
       "      <td>2324</td>\n",
       "      <td>ENG-Premier League</td>\n",
       "      <td>36</td>\n",
       "      <td>280</td>\n",
       "      <td>West Ham</td>\n",
       "      <td>https://i.imgur.com/9BQHJRl.png</td>\n",
       "      <td>29</td>\n",
       "      <td>25</td>\n",
       "      <td>12.857143</td>\n",
       "      <td>11.200000</td>\n",
       "    </tr>\n",
       "    <tr>\n",
       "      <th>39</th>\n",
       "      <td>8cec06e1</td>\n",
       "      <td>2324</td>\n",
       "      <td>ENG-Premier League</td>\n",
       "      <td>39</td>\n",
       "      <td>294</td>\n",
       "      <td>Wolves</td>\n",
       "      <td>https://i.imgur.com/6azSF88.png</td>\n",
       "      <td>161</td>\n",
       "      <td>25</td>\n",
       "      <td>13.265306</td>\n",
       "      <td>11.760000</td>\n",
       "    </tr>\n",
       "    <tr>\n",
       "      <th>40</th>\n",
       "      <td>18bb7c10</td>\n",
       "      <td>2223</td>\n",
       "      <td>ENG-Premier League</td>\n",
       "      <td>88</td>\n",
       "      <td>589</td>\n",
       "      <td>Arsenal</td>\n",
       "      <td>https://i.imgur.com/SURo5sj.png</td>\n",
       "      <td>13</td>\n",
       "      <td>38</td>\n",
       "      <td>14.940577</td>\n",
       "      <td>15.500000</td>\n",
       "    </tr>\n",
       "    <tr>\n",
       "      <th>41</th>\n",
       "      <td>8602292d</td>\n",
       "      <td>2223</td>\n",
       "      <td>ENG-Premier League</td>\n",
       "      <td>51</td>\n",
       "      <td>427</td>\n",
       "      <td>Aston Villa</td>\n",
       "      <td>https://i.imgur.com/M4mwH1X.png</td>\n",
       "      <td>24</td>\n",
       "      <td>38</td>\n",
       "      <td>11.943794</td>\n",
       "      <td>11.236842</td>\n",
       "    </tr>\n",
       "    <tr>\n",
       "      <th>42</th>\n",
       "      <td>4ba7cbea</td>\n",
       "      <td>2223</td>\n",
       "      <td>ENG-Premier League</td>\n",
       "      <td>37</td>\n",
       "      <td>358</td>\n",
       "      <td>Bournemouth</td>\n",
       "      <td>https://i.imgur.com/0F6UIO4.png</td>\n",
       "      <td>183</td>\n",
       "      <td>38</td>\n",
       "      <td>10.335196</td>\n",
       "      <td>9.421053</td>\n",
       "    </tr>\n",
       "    <tr>\n",
       "      <th>43</th>\n",
       "      <td>cd051869</td>\n",
       "      <td>2223</td>\n",
       "      <td>ENG-Premier League</td>\n",
       "      <td>58</td>\n",
       "      <td>400</td>\n",
       "      <td>Brentford</td>\n",
       "      <td>https://i.imgur.com/MOhGOQ4.png</td>\n",
       "      <td>189</td>\n",
       "      <td>38</td>\n",
       "      <td>14.500000</td>\n",
       "      <td>10.526316</td>\n",
       "    </tr>\n",
       "    <tr>\n",
       "      <th>44</th>\n",
       "      <td>d07537b9</td>\n",
       "      <td>2223</td>\n",
       "      <td>ENG-Premier League</td>\n",
       "      <td>72</td>\n",
       "      <td>607</td>\n",
       "      <td>Brighton</td>\n",
       "      <td>https://i.imgur.com/EMCwD3X.png</td>\n",
       "      <td>211</td>\n",
       "      <td>38</td>\n",
       "      <td>11.861614</td>\n",
       "      <td>15.973684</td>\n",
       "    </tr>\n",
       "    <tr>\n",
       "      <th>45</th>\n",
       "      <td>cff3d9bb</td>\n",
       "      <td>2223</td>\n",
       "      <td>ENG-Premier League</td>\n",
       "      <td>38</td>\n",
       "      <td>481</td>\n",
       "      <td>Chelsea</td>\n",
       "      <td>https://i.imgur.com/6F7h3UR.png</td>\n",
       "      <td>15</td>\n",
       "      <td>38</td>\n",
       "      <td>7.900208</td>\n",
       "      <td>12.657895</td>\n",
       "    </tr>\n",
       "    <tr>\n",
       "      <th>46</th>\n",
       "      <td>47c64c55</td>\n",
       "      <td>2223</td>\n",
       "      <td>ENG-Premier League</td>\n",
       "      <td>40</td>\n",
       "      <td>423</td>\n",
       "      <td>Crystal Palace</td>\n",
       "      <td>https://i.imgur.com/LPhzr0K.png</td>\n",
       "      <td>162</td>\n",
       "      <td>38</td>\n",
       "      <td>9.456265</td>\n",
       "      <td>11.131579</td>\n",
       "    </tr>\n",
       "    <tr>\n",
       "      <th>47</th>\n",
       "      <td>d3fd31cc</td>\n",
       "      <td>2223</td>\n",
       "      <td>ENG-Premier League</td>\n",
       "      <td>34</td>\n",
       "      <td>426</td>\n",
       "      <td>Everton</td>\n",
       "      <td>https://i.imgur.com/Dgei0uj.png</td>\n",
       "      <td>31</td>\n",
       "      <td>38</td>\n",
       "      <td>7.981221</td>\n",
       "      <td>11.210526</td>\n",
       "    </tr>\n",
       "    <tr>\n",
       "      <th>48</th>\n",
       "      <td>fd962109</td>\n",
       "      <td>2223</td>\n",
       "      <td>ENG-Premier League</td>\n",
       "      <td>55</td>\n",
       "      <td>420</td>\n",
       "      <td>Fulham</td>\n",
       "      <td>https://i.imgur.com/2zggSrF.png</td>\n",
       "      <td>170</td>\n",
       "      <td>38</td>\n",
       "      <td>13.095238</td>\n",
       "      <td>11.052632</td>\n",
       "    </tr>\n",
       "    <tr>\n",
       "      <th>49</th>\n",
       "      <td>5bfb9659</td>\n",
       "      <td>2223</td>\n",
       "      <td>ENG-Premier League</td>\n",
       "      <td>48</td>\n",
       "      <td>459</td>\n",
       "      <td>Leeds United</td>\n",
       "      <td>https://i.imgur.com/2tipH85.png</td>\n",
       "      <td>19</td>\n",
       "      <td>38</td>\n",
       "      <td>10.457516</td>\n",
       "      <td>12.078947</td>\n",
       "    </tr>\n",
       "    <tr>\n",
       "      <th>50</th>\n",
       "      <td>a2d435b3</td>\n",
       "      <td>2223</td>\n",
       "      <td>ENG-Premier League</td>\n",
       "      <td>51</td>\n",
       "      <td>412</td>\n",
       "      <td>Leicester City</td>\n",
       "      <td>https://i.imgur.com/ldOUO84.png</td>\n",
       "      <td>14</td>\n",
       "      <td>38</td>\n",
       "      <td>12.378641</td>\n",
       "      <td>10.842105</td>\n",
       "    </tr>\n",
       "    <tr>\n",
       "      <th>51</th>\n",
       "      <td>822bd0ba</td>\n",
       "      <td>2223</td>\n",
       "      <td>ENG-Premier League</td>\n",
       "      <td>75</td>\n",
       "      <td>601</td>\n",
       "      <td>Liverpool</td>\n",
       "      <td>https://i.imgur.com/fs7VK9G.png</td>\n",
       "      <td>26</td>\n",
       "      <td>38</td>\n",
       "      <td>12.479201</td>\n",
       "      <td>15.815789</td>\n",
       "    </tr>\n",
       "    <tr>\n",
       "      <th>52</th>\n",
       "      <td>b8fd03ef</td>\n",
       "      <td>2223</td>\n",
       "      <td>ENG-Premier League</td>\n",
       "      <td>94</td>\n",
       "      <td>590</td>\n",
       "      <td>Manchester City</td>\n",
       "      <td>https://i.imgur.com/FF8z7uZ.png</td>\n",
       "      <td>167</td>\n",
       "      <td>38</td>\n",
       "      <td>15.932203</td>\n",
       "      <td>15.526316</td>\n",
       "    </tr>\n",
       "    <tr>\n",
       "      <th>53</th>\n",
       "      <td>19538871</td>\n",
       "      <td>2223</td>\n",
       "      <td>ENG-Premier League</td>\n",
       "      <td>58</td>\n",
       "      <td>590</td>\n",
       "      <td>Manchester Utd</td>\n",
       "      <td>https://i.imgur.com/z47emBQ.png</td>\n",
       "      <td>32</td>\n",
       "      <td>38</td>\n",
       "      <td>9.830508</td>\n",
       "      <td>15.526316</td>\n",
       "    </tr>\n",
       "    <tr>\n",
       "      <th>54</th>\n",
       "      <td>b2b47a98</td>\n",
       "      <td>2223</td>\n",
       "      <td>ENG-Premier League</td>\n",
       "      <td>68</td>\n",
       "      <td>565</td>\n",
       "      <td>Newcastle Utd</td>\n",
       "      <td>https://i.imgur.com/3kOLokZ.png</td>\n",
       "      <td>23</td>\n",
       "      <td>38</td>\n",
       "      <td>12.035398</td>\n",
       "      <td>14.868421</td>\n",
       "    </tr>\n",
       "    <tr>\n",
       "      <th>55</th>\n",
       "      <td>e4a775cb</td>\n",
       "      <td>2223</td>\n",
       "      <td>ENG-Premier League</td>\n",
       "      <td>38</td>\n",
       "      <td>362</td>\n",
       "      <td>Nott'ham Forest</td>\n",
       "      <td>https://i.imgur.com/z4Tl9Zu.png</td>\n",
       "      <td>174</td>\n",
       "      <td>38</td>\n",
       "      <td>10.497238</td>\n",
       "      <td>9.526316</td>\n",
       "    </tr>\n",
       "    <tr>\n",
       "      <th>56</th>\n",
       "      <td>33c895d4</td>\n",
       "      <td>2223</td>\n",
       "      <td>ENG-Premier League</td>\n",
       "      <td>36</td>\n",
       "      <td>413</td>\n",
       "      <td>Southampton</td>\n",
       "      <td>https://i.imgur.com/35GrgJC.png</td>\n",
       "      <td>18</td>\n",
       "      <td>38</td>\n",
       "      <td>8.716707</td>\n",
       "      <td>10.868421</td>\n",
       "    </tr>\n",
       "    <tr>\n",
       "      <th>57</th>\n",
       "      <td>361ca564</td>\n",
       "      <td>2223</td>\n",
       "      <td>ENG-Premier League</td>\n",
       "      <td>70</td>\n",
       "      <td>512</td>\n",
       "      <td>Tottenham</td>\n",
       "      <td>https://i.imgur.com/fJ7rUWW.png</td>\n",
       "      <td>30</td>\n",
       "      <td>38</td>\n",
       "      <td>13.671875</td>\n",
       "      <td>13.473684</td>\n",
       "    </tr>\n",
       "    <tr>\n",
       "      <th>58</th>\n",
       "      <td>7c21e445</td>\n",
       "      <td>2223</td>\n",
       "      <td>ENG-Premier League</td>\n",
       "      <td>42</td>\n",
       "      <td>466</td>\n",
       "      <td>West Ham</td>\n",
       "      <td>https://i.imgur.com/9BQHJRl.png</td>\n",
       "      <td>29</td>\n",
       "      <td>38</td>\n",
       "      <td>9.012876</td>\n",
       "      <td>12.263158</td>\n",
       "    </tr>\n",
       "    <tr>\n",
       "      <th>59</th>\n",
       "      <td>8cec06e1</td>\n",
       "      <td>2223</td>\n",
       "      <td>ENG-Premier League</td>\n",
       "      <td>31</td>\n",
       "      <td>409</td>\n",
       "      <td>Wolves</td>\n",
       "      <td>https://i.imgur.com/6azSF88.png</td>\n",
       "      <td>161</td>\n",
       "      <td>38</td>\n",
       "      <td>7.579462</td>\n",
       "      <td>10.763158</td>\n",
       "    </tr>\n",
       "  </tbody>\n",
       "</table>\n",
       "</div>"
      ],
      "text/plain": [
       "   TEAM_FBREF_ID  SEASON         COMPETITION  GOALS_SCORED  SHOTS  \\\n",
       "0       18bb7c10    2122  ENG-Premier League            61    581   \n",
       "1       8602292d    2122  ENG-Premier League            52    461   \n",
       "2       cd051869    2122  ENG-Premier League            48    436   \n",
       "3       d07537b9    2122  ENG-Premier League            42    482   \n",
       "4       943e8050    2122  ENG-Premier League            34    405   \n",
       "5       cff3d9bb    2122  ENG-Premier League            76    583   \n",
       "6       47c64c55    2122  ENG-Premier League            50    404   \n",
       "7       d3fd31cc    2122  ENG-Premier League            43    430   \n",
       "8       5bfb9659    2122  ENG-Premier League            42    480   \n",
       "9       a2d435b3    2122  ENG-Premier League            62    433   \n",
       "10      822bd0ba    2122  ENG-Premier League            94    721   \n",
       "11      b8fd03ef    2122  ENG-Premier League            99    704   \n",
       "12      19538871    2122  ENG-Premier League            57    503   \n",
       "13      b2b47a98    2122  ENG-Premier League            44    446   \n",
       "14      1c781004    2122  ENG-Premier League            23    370   \n",
       "15      33c895d4    2122  ENG-Premier League            43    478   \n",
       "16      361ca564    2122  ENG-Premier League            69    486   \n",
       "17      2abfe087    2122  ENG-Premier League            34    397   \n",
       "18      7c21e445    2122  ENG-Premier League            60    443   \n",
       "19      8cec06e1    2122  ENG-Premier League            38    401   \n",
       "20      18bb7c10    2324  ENG-Premier League            58    413   \n",
       "21      8602292d    2324  ENG-Premier League            52    366   \n",
       "22      4ba7cbea    2324  ENG-Premier League            33    320   \n",
       "23      cd051869    2324  ENG-Premier League            35    306   \n",
       "24      d07537b9    2324  ENG-Premier League            48    366   \n",
       "25      943e8050    2324  ENG-Premier League            25    258   \n",
       "26      cff3d9bb    2324  ENG-Premier League            42    320   \n",
       "27      47c64c55    2324  ENG-Premier League            28    287   \n",
       "28      d3fd31cc    2324  ENG-Premier League            27    346   \n",
       "29      fd962109    2324  ENG-Premier League            34    304   \n",
       "30      822bd0ba    2324  ENG-Premier League            59    465   \n",
       "31      e297cd13    2324  ENG-Premier League            34    289   \n",
       "32      b8fd03ef    2324  ENG-Premier League            57    422   \n",
       "33      19538871    2324  ENG-Premier League            35    360   \n",
       "34      b2b47a98    2324  ENG-Premier League            53    345   \n",
       "35      e4a775cb    2324  ENG-Premier League            32    279   \n",
       "36      1df6b87e    2324  ENG-Premier League            22    221   \n",
       "37      361ca564    2324  ENG-Premier League            52    394   \n",
       "38      7c21e445    2324  ENG-Premier League            36    280   \n",
       "39      8cec06e1    2324  ENG-Premier League            39    294   \n",
       "40      18bb7c10    2223  ENG-Premier League            88    589   \n",
       "41      8602292d    2223  ENG-Premier League            51    427   \n",
       "42      4ba7cbea    2223  ENG-Premier League            37    358   \n",
       "43      cd051869    2223  ENG-Premier League            58    400   \n",
       "44      d07537b9    2223  ENG-Premier League            72    607   \n",
       "45      cff3d9bb    2223  ENG-Premier League            38    481   \n",
       "46      47c64c55    2223  ENG-Premier League            40    423   \n",
       "47      d3fd31cc    2223  ENG-Premier League            34    426   \n",
       "48      fd962109    2223  ENG-Premier League            55    420   \n",
       "49      5bfb9659    2223  ENG-Premier League            48    459   \n",
       "50      a2d435b3    2223  ENG-Premier League            51    412   \n",
       "51      822bd0ba    2223  ENG-Premier League            75    601   \n",
       "52      b8fd03ef    2223  ENG-Premier League            94    590   \n",
       "53      19538871    2223  ENG-Premier League            58    590   \n",
       "54      b2b47a98    2223  ENG-Premier League            68    565   \n",
       "55      e4a775cb    2223  ENG-Premier League            38    362   \n",
       "56      33c895d4    2223  ENG-Premier League            36    413   \n",
       "57      361ca564    2223  ENG-Premier League            70    512   \n",
       "58      7c21e445    2223  ENG-Premier League            42    466   \n",
       "59      8cec06e1    2223  ENG-Premier League            31    409   \n",
       "\n",
       "          TEAM_NAME                    TEAM_LOGO_URL  TEAM_WS_ID  \\\n",
       "0           Arsenal  https://i.imgur.com/SURo5sj.png          13   \n",
       "1       Aston Villa  https://i.imgur.com/M4mwH1X.png          24   \n",
       "2         Brentford  https://i.imgur.com/MOhGOQ4.png         189   \n",
       "3          Brighton  https://i.imgur.com/EMCwD3X.png         211   \n",
       "4           Burnley  https://i.imgur.com/6IDi9XJ.png         184   \n",
       "5           Chelsea  https://i.imgur.com/6F7h3UR.png          15   \n",
       "6    Crystal Palace  https://i.imgur.com/LPhzr0K.png         162   \n",
       "7           Everton  https://i.imgur.com/Dgei0uj.png          31   \n",
       "8      Leeds United  https://i.imgur.com/2tipH85.png          19   \n",
       "9    Leicester City  https://i.imgur.com/ldOUO84.png          14   \n",
       "10        Liverpool  https://i.imgur.com/fs7VK9G.png          26   \n",
       "11  Manchester City  https://i.imgur.com/FF8z7uZ.png         167   \n",
       "12   Manchester Utd  https://i.imgur.com/z47emBQ.png          32   \n",
       "13    Newcastle Utd  https://i.imgur.com/3kOLokZ.png          23   \n",
       "14     Norwich City  https://i.imgur.com/WLIU9hF.png         168   \n",
       "15      Southampton  https://i.imgur.com/35GrgJC.png          18   \n",
       "16        Tottenham  https://i.imgur.com/fJ7rUWW.png          30   \n",
       "17          Watford  https://i.imgur.com/vlOBKzl.png          27   \n",
       "18         West Ham  https://i.imgur.com/9BQHJRl.png          29   \n",
       "19           Wolves  https://i.imgur.com/6azSF88.png         161   \n",
       "20          Arsenal  https://i.imgur.com/SURo5sj.png          13   \n",
       "21      Aston Villa  https://i.imgur.com/M4mwH1X.png          24   \n",
       "22      Bournemouth  https://i.imgur.com/0F6UIO4.png         183   \n",
       "23        Brentford  https://i.imgur.com/MOhGOQ4.png         189   \n",
       "24         Brighton  https://i.imgur.com/EMCwD3X.png         211   \n",
       "25          Burnley  https://i.imgur.com/6IDi9XJ.png         184   \n",
       "26          Chelsea  https://i.imgur.com/6F7h3UR.png          15   \n",
       "27   Crystal Palace  https://i.imgur.com/LPhzr0K.png         162   \n",
       "28          Everton  https://i.imgur.com/Dgei0uj.png          31   \n",
       "29           Fulham  https://i.imgur.com/2zggSrF.png         170   \n",
       "30        Liverpool  https://i.imgur.com/fs7VK9G.png          26   \n",
       "31       Luton Town  https://i.imgur.com/vHHqKJX.png          95   \n",
       "32  Manchester City  https://i.imgur.com/FF8z7uZ.png         167   \n",
       "33   Manchester Utd  https://i.imgur.com/z47emBQ.png          32   \n",
       "34    Newcastle Utd  https://i.imgur.com/3kOLokZ.png          23   \n",
       "35  Nott'ham Forest  https://i.imgur.com/z4Tl9Zu.png         174   \n",
       "36    Sheffield Utd  https://i.imgur.com/eeBetFN.png         163   \n",
       "37        Tottenham  https://i.imgur.com/fJ7rUWW.png          30   \n",
       "38         West Ham  https://i.imgur.com/9BQHJRl.png          29   \n",
       "39           Wolves  https://i.imgur.com/6azSF88.png         161   \n",
       "40          Arsenal  https://i.imgur.com/SURo5sj.png          13   \n",
       "41      Aston Villa  https://i.imgur.com/M4mwH1X.png          24   \n",
       "42      Bournemouth  https://i.imgur.com/0F6UIO4.png         183   \n",
       "43        Brentford  https://i.imgur.com/MOhGOQ4.png         189   \n",
       "44         Brighton  https://i.imgur.com/EMCwD3X.png         211   \n",
       "45          Chelsea  https://i.imgur.com/6F7h3UR.png          15   \n",
       "46   Crystal Palace  https://i.imgur.com/LPhzr0K.png         162   \n",
       "47          Everton  https://i.imgur.com/Dgei0uj.png          31   \n",
       "48           Fulham  https://i.imgur.com/2zggSrF.png         170   \n",
       "49     Leeds United  https://i.imgur.com/2tipH85.png          19   \n",
       "50   Leicester City  https://i.imgur.com/ldOUO84.png          14   \n",
       "51        Liverpool  https://i.imgur.com/fs7VK9G.png          26   \n",
       "52  Manchester City  https://i.imgur.com/FF8z7uZ.png         167   \n",
       "53   Manchester Utd  https://i.imgur.com/z47emBQ.png          32   \n",
       "54    Newcastle Utd  https://i.imgur.com/3kOLokZ.png          23   \n",
       "55  Nott'ham Forest  https://i.imgur.com/z4Tl9Zu.png         174   \n",
       "56      Southampton  https://i.imgur.com/35GrgJC.png          18   \n",
       "57        Tottenham  https://i.imgur.com/fJ7rUWW.png          30   \n",
       "58         West Ham  https://i.imgur.com/9BQHJRl.png          29   \n",
       "59           Wolves  https://i.imgur.com/6azSF88.png         161   \n",
       "\n",
       "    MATCHES_PLAYED  CONVERSION_RATE  SHOTS_PER_GAME  \n",
       "0               38        10.499139       15.289474  \n",
       "1               38        11.279826       12.131579  \n",
       "2               38        11.009174       11.473684  \n",
       "3               38         8.713693       12.684211  \n",
       "4               38         8.395062       10.657895  \n",
       "5               38        13.036021       15.342105  \n",
       "6               38        12.376238       10.631579  \n",
       "7               38        10.000000       11.315789  \n",
       "8               38         8.750000       12.631579  \n",
       "9               38        14.318707       11.394737  \n",
       "10              38        13.037448       18.973684  \n",
       "11              38        14.062500       18.526316  \n",
       "12              38        11.332008       13.236842  \n",
       "13              38         9.865471       11.736842  \n",
       "14              38         6.216216        9.736842  \n",
       "15              38         8.995816       12.578947  \n",
       "16              38        14.197531       12.789474  \n",
       "17              38         8.564232       10.447368  \n",
       "18              38        13.544018       11.657895  \n",
       "19              38         9.476309       10.552632  \n",
       "20              25        14.043584       16.520000  \n",
       "21              25        14.207650       14.640000  \n",
       "22              24        10.312500       13.333333  \n",
       "23              24        11.437908       12.750000  \n",
       "24              25        13.114754       14.640000  \n",
       "25              25         9.689922       10.320000  \n",
       "26              25        13.125000       12.800000  \n",
       "27              25         9.756098       11.480000  \n",
       "28              25         7.803468       13.840000  \n",
       "29              25        11.184211       12.160000  \n",
       "30              25        12.688172       18.600000  \n",
       "31              24        11.764706       12.041667  \n",
       "32              24        13.507109       17.583333  \n",
       "33              25         9.722222       14.400000  \n",
       "34              25        15.362319       13.800000  \n",
       "35              25        11.469534       11.160000  \n",
       "36              25         9.954751        8.840000  \n",
       "37              25        13.197970       15.760000  \n",
       "38              25        12.857143       11.200000  \n",
       "39              25        13.265306       11.760000  \n",
       "40              38        14.940577       15.500000  \n",
       "41              38        11.943794       11.236842  \n",
       "42              38        10.335196        9.421053  \n",
       "43              38        14.500000       10.526316  \n",
       "44              38        11.861614       15.973684  \n",
       "45              38         7.900208       12.657895  \n",
       "46              38         9.456265       11.131579  \n",
       "47              38         7.981221       11.210526  \n",
       "48              38        13.095238       11.052632  \n",
       "49              38        10.457516       12.078947  \n",
       "50              38        12.378641       10.842105  \n",
       "51              38        12.479201       15.815789  \n",
       "52              38        15.932203       15.526316  \n",
       "53              38         9.830508       15.526316  \n",
       "54              38        12.035398       14.868421  \n",
       "55              38        10.497238        9.526316  \n",
       "56              38         8.716707       10.868421  \n",
       "57              38        13.671875       13.473684  \n",
       "58              38         9.012876       12.263158  \n",
       "59              38         7.579462       10.763158  "
      ]
     },
     "execution_count": 341,
     "metadata": {},
     "output_type": "execute_result"
    }
   ],
   "source": [
    "attacking_efficiency"
   ]
  },
  {
   "cell_type": "code",
   "execution_count": null,
   "metadata": {},
   "outputs": [],
   "source": []
  },
  {
   "cell_type": "code",
   "execution_count": null,
   "metadata": {},
   "outputs": [],
   "source": []
  }
 ],
 "metadata": {
  "kernelspec": {
   "display_name": "footy",
   "language": "python",
   "name": "python3"
  },
  "language_info": {
   "codemirror_mode": {
    "name": "ipython",
    "version": 3
   },
   "file_extension": ".py",
   "mimetype": "text/x-python",
   "name": "python",
   "nbconvert_exporter": "python",
   "pygments_lexer": "ipython3",
   "version": "3.11.5"
  }
 },
 "nbformat": 4,
 "nbformat_minor": 2
}
