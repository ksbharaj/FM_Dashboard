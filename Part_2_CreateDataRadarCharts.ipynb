{
 "cells": [
  {
   "cell_type": "code",
   "execution_count": 265,
   "metadata": {},
   "outputs": [],
   "source": [
    "import pandas as pd\n",
    "import numpy as np\n",
    "from sklearn.preprocessing import MinMaxScaler\n",
    "from snowflake.connector.pandas_tools import write_pandas\n",
    "from sqlalchemy import create_engine\n",
    "import snowflake.connector"
   ]
  },
  {
   "cell_type": "code",
   "execution_count": 2,
   "metadata": {},
   "outputs": [],
   "source": [
    "import snowflake.connector"
   ]
  },
  {
   "cell_type": "code",
   "execution_count": 5,
   "metadata": {},
   "outputs": [],
   "source": [
    "## Set options to view all columns\n",
    "pd.set_option('display.max_columns', None)"
   ]
  },
  {
   "cell_type": "code",
   "execution_count": 7,
   "metadata": {},
   "outputs": [],
   "source": [
    "SNOWFLAKE_USER = 'kbharaj3'\n",
    "SNOWFLAKE_PASSWORD = 'Snowfl@key0014'\n",
    "SNOWFLAKE_ACCOUNT = 'qx25653.ca-central-1.aws'\n",
    "SNOWFLAKE_WAREHOUSE = 'FOOTY_STORE'\n",
    "SNOWFLAKE_DATABASE = 'GEGENSTATS'\n",
    "SNOWFLAKE_SCHEMA = 'FBREF_TEAMSTATS'"
   ]
  },
  {
   "cell_type": "code",
   "execution_count": 26,
   "metadata": {},
   "outputs": [],
   "source": [
    "conn = snowflake.connector.connect(\n",
    "    user=SNOWFLAKE_USER,\n",
    "    password=SNOWFLAKE_PASSWORD,\n",
    "    account=SNOWFLAKE_ACCOUNT,\n",
    "    warehouse=SNOWFLAKE_WAREHOUSE,\n",
    "    database=SNOWFLAKE_DATABASE,\n",
    "    schema=SNOWFLAKE_SCHEMA\n",
    ")"
   ]
  },
  {
   "cell_type": "code",
   "execution_count": 27,
   "metadata": {},
   "outputs": [],
   "source": [
    "cursor = conn.cursor()"
   ]
  },
  {
   "cell_type": "code",
   "execution_count": 220,
   "metadata": {},
   "outputs": [],
   "source": [
    "cursor.execute('SELECT * FROM TEAMS')\n",
    "team_rows = cursor.fetchall()\n",
    "column_names = [desc[0] for desc in cursor.description]\n",
    "team_names = pd.DataFrame(team_rows, columns=column_names)"
   ]
  },
  {
   "cell_type": "code",
   "execution_count": 221,
   "metadata": {},
   "outputs": [],
   "source": [
    "cursor.execute('SELECT * FROM TEAM_STANDARD_STATS')\n",
    "standard_rows = cursor.fetchall()\n",
    "column_names = [desc[0] for desc in cursor.description]\n",
    "team_standard = pd.DataFrame(standard_rows, columns=column_names)"
   ]
  },
  {
   "cell_type": "code",
   "execution_count": 222,
   "metadata": {},
   "outputs": [],
   "source": [
    "cursor.execute('SELECT * FROM TEAM_ATTACKING_STATS')\n",
    "attacking_rows = cursor.fetchall()\n",
    "column_names = [desc[0] for desc in cursor.description]\n",
    "team_attacking = pd.DataFrame(attacking_rows, columns=column_names)"
   ]
  },
  {
   "cell_type": "code",
   "execution_count": 223,
   "metadata": {},
   "outputs": [],
   "source": [
    "cursor.execute('SELECT * FROM TEAM_DEFENDING_STATS')\n",
    "defending_rows = cursor.fetchall()\n",
    "column_names = [desc[0] for desc in cursor.description]\n",
    "team_defending = pd.DataFrame(defending_rows, columns=column_names)"
   ]
  },
  {
   "cell_type": "code",
   "execution_count": 224,
   "metadata": {},
   "outputs": [],
   "source": [
    "team_standard = team_standard.merge(team_names, on='TEAM_FBREF_ID', how='left')\n",
    "team_defending = team_defending.merge(team_names, on='TEAM_FBREF_ID', how='left')\n",
    "team_attacking = team_attacking.merge(team_names, on='TEAM_FBREF_ID', how='left')"
   ]
  },
  {
   "cell_type": "code",
   "execution_count": 225,
   "metadata": {},
   "outputs": [],
   "source": [
    "team_attacking = team_attacking.merge(team_standard, on=['TEAM_FBREF_ID','SEASON','TEAM_NAME'], how='left')\n",
    "team_defending = team_defending.merge(team_standard, on=['TEAM_FBREF_ID','SEASON','TEAM_NAME'], how='left')"
   ]
  },
  {
   "cell_type": "code",
   "execution_count": 229,
   "metadata": {},
   "outputs": [
    {
     "data": {
      "text/html": [
       "<div>\n",
       "<style scoped>\n",
       "    .dataframe tbody tr th:only-of-type {\n",
       "        vertical-align: middle;\n",
       "    }\n",
       "\n",
       "    .dataframe tbody tr th {\n",
       "        vertical-align: top;\n",
       "    }\n",
       "\n",
       "    .dataframe thead th {\n",
       "        text-align: right;\n",
       "    }\n",
       "</style>\n",
       "<table border=\"1\" class=\"dataframe\">\n",
       "  <thead>\n",
       "    <tr style=\"text-align: right;\">\n",
       "      <th></th>\n",
       "      <th>TEAM_FBREF_ID</th>\n",
       "      <th>SEASON</th>\n",
       "      <th>GOALS_SCORED</th>\n",
       "      <th>NPXG</th>\n",
       "      <th>SHOTS</th>\n",
       "      <th>SHOTS_ON_TARGET</th>\n",
       "      <th>PASS_COMPLETED</th>\n",
       "      <th>PASS_ATTEMPTED</th>\n",
       "      <th>TAKEONS_ATTEMPTED</th>\n",
       "      <th>TAKEONS_COMPLETED</th>\n",
       "      <th>CROSSES_INTO_PA</th>\n",
       "      <th>FOULS_AGAINST</th>\n",
       "      <th>TEAM_NAME</th>\n",
       "      <th>MATCHES_PLAYED</th>\n",
       "      <th>Goals/Game</th>\n",
       "      <th>Pass Completion (%)</th>\n",
       "      <th>Fouls Against/Game</th>\n",
       "      <th>NPxG/Game</th>\n",
       "      <th>Shots/Game</th>\n",
       "      <th>Shots On Target (%)</th>\n",
       "      <th>Take_ons Attempted/Game</th>\n",
       "      <th>Crosses into Pen Area</th>\n",
       "    </tr>\n",
       "  </thead>\n",
       "  <tbody>\n",
       "    <tr>\n",
       "      <th>0</th>\n",
       "      <td>18bb7c10</td>\n",
       "      <td>2223</td>\n",
       "      <td>88</td>\n",
       "      <td>69.16</td>\n",
       "      <td>589</td>\n",
       "      <td>194</td>\n",
       "      <td>18281</td>\n",
       "      <td>21969</td>\n",
       "      <td>751</td>\n",
       "      <td>351</td>\n",
       "      <td>62</td>\n",
       "      <td>435</td>\n",
       "      <td>Arsenal</td>\n",
       "      <td>38</td>\n",
       "      <td>2.315789</td>\n",
       "      <td>0.832127</td>\n",
       "      <td>11.447368</td>\n",
       "      <td>1.82</td>\n",
       "      <td>15.500000</td>\n",
       "      <td>0.329372</td>\n",
       "      <td>19.763158</td>\n",
       "      <td>62</td>\n",
       "    </tr>\n",
       "    <tr>\n",
       "      <th>1</th>\n",
       "      <td>8602292d</td>\n",
       "      <td>2223</td>\n",
       "      <td>51</td>\n",
       "      <td>47.12</td>\n",
       "      <td>427</td>\n",
       "      <td>145</td>\n",
       "      <td>13782</td>\n",
       "      <td>17396</td>\n",
       "      <td>681</td>\n",
       "      <td>292</td>\n",
       "      <td>80</td>\n",
       "      <td>498</td>\n",
       "      <td>Aston Villa</td>\n",
       "      <td>38</td>\n",
       "      <td>1.342105</td>\n",
       "      <td>0.792251</td>\n",
       "      <td>13.105263</td>\n",
       "      <td>1.24</td>\n",
       "      <td>11.236842</td>\n",
       "      <td>0.339578</td>\n",
       "      <td>17.921053</td>\n",
       "      <td>80</td>\n",
       "    </tr>\n",
       "    <tr>\n",
       "      <th>2</th>\n",
       "      <td>4ba7cbea</td>\n",
       "      <td>2223</td>\n",
       "      <td>37</td>\n",
       "      <td>38.76</td>\n",
       "      <td>358</td>\n",
       "      <td>126</td>\n",
       "      <td>11715</td>\n",
       "      <td>15381</td>\n",
       "      <td>735</td>\n",
       "      <td>321</td>\n",
       "      <td>75</td>\n",
       "      <td>365</td>\n",
       "      <td>Bournemouth</td>\n",
       "      <td>38</td>\n",
       "      <td>0.973684</td>\n",
       "      <td>0.761654</td>\n",
       "      <td>9.605263</td>\n",
       "      <td>1.02</td>\n",
       "      <td>9.421053</td>\n",
       "      <td>0.351955</td>\n",
       "      <td>19.342105</td>\n",
       "      <td>75</td>\n",
       "    </tr>\n",
       "    <tr>\n",
       "      <th>3</th>\n",
       "      <td>cd051869</td>\n",
       "      <td>2223</td>\n",
       "      <td>58</td>\n",
       "      <td>50.54</td>\n",
       "      <td>400</td>\n",
       "      <td>147</td>\n",
       "      <td>11317</td>\n",
       "      <td>15551</td>\n",
       "      <td>597</td>\n",
       "      <td>264</td>\n",
       "      <td>87</td>\n",
       "      <td>399</td>\n",
       "      <td>Brentford</td>\n",
       "      <td>38</td>\n",
       "      <td>1.526316</td>\n",
       "      <td>0.727735</td>\n",
       "      <td>10.500000</td>\n",
       "      <td>1.33</td>\n",
       "      <td>10.526316</td>\n",
       "      <td>0.367500</td>\n",
       "      <td>15.710526</td>\n",
       "      <td>87</td>\n",
       "    </tr>\n",
       "    <tr>\n",
       "      <th>4</th>\n",
       "      <td>d07537b9</td>\n",
       "      <td>2223</td>\n",
       "      <td>72</td>\n",
       "      <td>68.78</td>\n",
       "      <td>607</td>\n",
       "      <td>219</td>\n",
       "      <td>19210</td>\n",
       "      <td>22888</td>\n",
       "      <td>724</td>\n",
       "      <td>343</td>\n",
       "      <td>78</td>\n",
       "      <td>407</td>\n",
       "      <td>Brighton</td>\n",
       "      <td>38</td>\n",
       "      <td>1.894737</td>\n",
       "      <td>0.839304</td>\n",
       "      <td>10.710526</td>\n",
       "      <td>1.81</td>\n",
       "      <td>15.973684</td>\n",
       "      <td>0.360791</td>\n",
       "      <td>19.052632</td>\n",
       "      <td>78</td>\n",
       "    </tr>\n",
       "    <tr>\n",
       "      <th>5</th>\n",
       "      <td>cff3d9bb</td>\n",
       "      <td>2223</td>\n",
       "      <td>38</td>\n",
       "      <td>47.12</td>\n",
       "      <td>481</td>\n",
       "      <td>151</td>\n",
       "      <td>19147</td>\n",
       "      <td>22836</td>\n",
       "      <td>833</td>\n",
       "      <td>375</td>\n",
       "      <td>68</td>\n",
       "      <td>462</td>\n",
       "      <td>Chelsea</td>\n",
       "      <td>38</td>\n",
       "      <td>1.000000</td>\n",
       "      <td>0.838457</td>\n",
       "      <td>12.157895</td>\n",
       "      <td>1.24</td>\n",
       "      <td>12.657895</td>\n",
       "      <td>0.313929</td>\n",
       "      <td>21.921053</td>\n",
       "      <td>68</td>\n",
       "    </tr>\n",
       "    <tr>\n",
       "      <th>6</th>\n",
       "      <td>47c64c55</td>\n",
       "      <td>2223</td>\n",
       "      <td>40</td>\n",
       "      <td>36.86</td>\n",
       "      <td>423</td>\n",
       "      <td>133</td>\n",
       "      <td>13395</td>\n",
       "      <td>17308</td>\n",
       "      <td>784</td>\n",
       "      <td>367</td>\n",
       "      <td>51</td>\n",
       "      <td>479</td>\n",
       "      <td>Crystal Palace</td>\n",
       "      <td>38</td>\n",
       "      <td>1.052632</td>\n",
       "      <td>0.773920</td>\n",
       "      <td>12.605263</td>\n",
       "      <td>0.97</td>\n",
       "      <td>11.131579</td>\n",
       "      <td>0.314421</td>\n",
       "      <td>20.631579</td>\n",
       "      <td>51</td>\n",
       "    </tr>\n",
       "    <tr>\n",
       "      <th>7</th>\n",
       "      <td>d3fd31cc</td>\n",
       "      <td>2223</td>\n",
       "      <td>34</td>\n",
       "      <td>42.94</td>\n",
       "      <td>426</td>\n",
       "      <td>143</td>\n",
       "      <td>11790</td>\n",
       "      <td>15783</td>\n",
       "      <td>669</td>\n",
       "      <td>305</td>\n",
       "      <td>67</td>\n",
       "      <td>382</td>\n",
       "      <td>Everton</td>\n",
       "      <td>38</td>\n",
       "      <td>0.894737</td>\n",
       "      <td>0.747006</td>\n",
       "      <td>10.052632</td>\n",
       "      <td>1.13</td>\n",
       "      <td>11.210526</td>\n",
       "      <td>0.335681</td>\n",
       "      <td>17.605263</td>\n",
       "      <td>67</td>\n",
       "    </tr>\n",
       "    <tr>\n",
       "      <th>8</th>\n",
       "      <td>fd962109</td>\n",
       "      <td>2223</td>\n",
       "      <td>55</td>\n",
       "      <td>39.14</td>\n",
       "      <td>420</td>\n",
       "      <td>137</td>\n",
       "      <td>13974</td>\n",
       "      <td>18014</td>\n",
       "      <td>592</td>\n",
       "      <td>269</td>\n",
       "      <td>97</td>\n",
       "      <td>405</td>\n",
       "      <td>Fulham</td>\n",
       "      <td>38</td>\n",
       "      <td>1.447368</td>\n",
       "      <td>0.775730</td>\n",
       "      <td>10.657895</td>\n",
       "      <td>1.03</td>\n",
       "      <td>11.052632</td>\n",
       "      <td>0.326190</td>\n",
       "      <td>15.578947</td>\n",
       "      <td>97</td>\n",
       "    </tr>\n",
       "    <tr>\n",
       "      <th>9</th>\n",
       "      <td>5bfb9659</td>\n",
       "      <td>2223</td>\n",
       "      <td>48</td>\n",
       "      <td>44.84</td>\n",
       "      <td>459</td>\n",
       "      <td>141</td>\n",
       "      <td>12437</td>\n",
       "      <td>16924</td>\n",
       "      <td>688</td>\n",
       "      <td>268</td>\n",
       "      <td>70</td>\n",
       "      <td>405</td>\n",
       "      <td>Leeds United</td>\n",
       "      <td>38</td>\n",
       "      <td>1.263158</td>\n",
       "      <td>0.734874</td>\n",
       "      <td>10.657895</td>\n",
       "      <td>1.18</td>\n",
       "      <td>12.078947</td>\n",
       "      <td>0.307190</td>\n",
       "      <td>18.105263</td>\n",
       "      <td>70</td>\n",
       "    </tr>\n",
       "    <tr>\n",
       "      <th>10</th>\n",
       "      <td>a2d435b3</td>\n",
       "      <td>2223</td>\n",
       "      <td>51</td>\n",
       "      <td>45.60</td>\n",
       "      <td>412</td>\n",
       "      <td>142</td>\n",
       "      <td>14887</td>\n",
       "      <td>18871</td>\n",
       "      <td>620</td>\n",
       "      <td>291</td>\n",
       "      <td>52</td>\n",
       "      <td>397</td>\n",
       "      <td>Leicester City</td>\n",
       "      <td>38</td>\n",
       "      <td>1.342105</td>\n",
       "      <td>0.788882</td>\n",
       "      <td>10.447368</td>\n",
       "      <td>1.20</td>\n",
       "      <td>10.842105</td>\n",
       "      <td>0.344660</td>\n",
       "      <td>16.315789</td>\n",
       "      <td>52</td>\n",
       "    </tr>\n",
       "    <tr>\n",
       "      <th>11</th>\n",
       "      <td>822bd0ba</td>\n",
       "      <td>2223</td>\n",
       "      <td>75</td>\n",
       "      <td>69.54</td>\n",
       "      <td>601</td>\n",
       "      <td>203</td>\n",
       "      <td>20043</td>\n",
       "      <td>24361</td>\n",
       "      <td>691</td>\n",
       "      <td>320</td>\n",
       "      <td>85</td>\n",
       "      <td>321</td>\n",
       "      <td>Liverpool</td>\n",
       "      <td>38</td>\n",
       "      <td>1.973684</td>\n",
       "      <td>0.822749</td>\n",
       "      <td>8.447368</td>\n",
       "      <td>1.83</td>\n",
       "      <td>15.815789</td>\n",
       "      <td>0.337770</td>\n",
       "      <td>18.184211</td>\n",
       "      <td>85</td>\n",
       "    </tr>\n",
       "    <tr>\n",
       "      <th>12</th>\n",
       "      <td>b8fd03ef</td>\n",
       "      <td>2223</td>\n",
       "      <td>94</td>\n",
       "      <td>71.06</td>\n",
       "      <td>590</td>\n",
       "      <td>205</td>\n",
       "      <td>23263</td>\n",
       "      <td>26642</td>\n",
       "      <td>702</td>\n",
       "      <td>334</td>\n",
       "      <td>75</td>\n",
       "      <td>384</td>\n",
       "      <td>Manchester City</td>\n",
       "      <td>38</td>\n",
       "      <td>2.473684</td>\n",
       "      <td>0.873170</td>\n",
       "      <td>10.105263</td>\n",
       "      <td>1.87</td>\n",
       "      <td>15.526316</td>\n",
       "      <td>0.347458</td>\n",
       "      <td>18.473684</td>\n",
       "      <td>75</td>\n",
       "    </tr>\n",
       "    <tr>\n",
       "      <th>13</th>\n",
       "      <td>19538871</td>\n",
       "      <td>2223</td>\n",
       "      <td>58</td>\n",
       "      <td>65.36</td>\n",
       "      <td>590</td>\n",
       "      <td>206</td>\n",
       "      <td>16603</td>\n",
       "      <td>20525</td>\n",
       "      <td>730</td>\n",
       "      <td>317</td>\n",
       "      <td>57</td>\n",
       "      <td>297</td>\n",
       "      <td>Manchester Utd</td>\n",
       "      <td>38</td>\n",
       "      <td>1.526316</td>\n",
       "      <td>0.808916</td>\n",
       "      <td>7.815789</td>\n",
       "      <td>1.72</td>\n",
       "      <td>15.526316</td>\n",
       "      <td>0.349153</td>\n",
       "      <td>19.210526</td>\n",
       "      <td>57</td>\n",
       "    </tr>\n",
       "    <tr>\n",
       "      <th>14</th>\n",
       "      <td>b2b47a98</td>\n",
       "      <td>2223</td>\n",
       "      <td>68</td>\n",
       "      <td>67.26</td>\n",
       "      <td>565</td>\n",
       "      <td>184</td>\n",
       "      <td>13925</td>\n",
       "      <td>17837</td>\n",
       "      <td>783</td>\n",
       "      <td>349</td>\n",
       "      <td>64</td>\n",
       "      <td>399</td>\n",
       "      <td>Newcastle Utd</td>\n",
       "      <td>38</td>\n",
       "      <td>1.789474</td>\n",
       "      <td>0.780681</td>\n",
       "      <td>10.500000</td>\n",
       "      <td>1.77</td>\n",
       "      <td>14.868421</td>\n",
       "      <td>0.325664</td>\n",
       "      <td>20.605263</td>\n",
       "      <td>64</td>\n",
       "    </tr>\n",
       "    <tr>\n",
       "      <th>15</th>\n",
       "      <td>e4a775cb</td>\n",
       "      <td>2223</td>\n",
       "      <td>38</td>\n",
       "      <td>34.58</td>\n",
       "      <td>362</td>\n",
       "      <td>111</td>\n",
       "      <td>9543</td>\n",
       "      <td>13606</td>\n",
       "      <td>569</td>\n",
       "      <td>254</td>\n",
       "      <td>50</td>\n",
       "      <td>390</td>\n",
       "      <td>Nott'ham Forest</td>\n",
       "      <td>38</td>\n",
       "      <td>1.000000</td>\n",
       "      <td>0.701382</td>\n",
       "      <td>10.263158</td>\n",
       "      <td>0.91</td>\n",
       "      <td>9.526316</td>\n",
       "      <td>0.306630</td>\n",
       "      <td>14.973684</td>\n",
       "      <td>50</td>\n",
       "    </tr>\n",
       "    <tr>\n",
       "      <th>16</th>\n",
       "      <td>33c895d4</td>\n",
       "      <td>2223</td>\n",
       "      <td>36</td>\n",
       "      <td>34.58</td>\n",
       "      <td>413</td>\n",
       "      <td>132</td>\n",
       "      <td>12319</td>\n",
       "      <td>16391</td>\n",
       "      <td>756</td>\n",
       "      <td>358</td>\n",
       "      <td>71</td>\n",
       "      <td>378</td>\n",
       "      <td>Southampton</td>\n",
       "      <td>38</td>\n",
       "      <td>0.947368</td>\n",
       "      <td>0.751571</td>\n",
       "      <td>9.947368</td>\n",
       "      <td>0.91</td>\n",
       "      <td>10.868421</td>\n",
       "      <td>0.319613</td>\n",
       "      <td>19.894737</td>\n",
       "      <td>71</td>\n",
       "    </tr>\n",
       "    <tr>\n",
       "      <th>17</th>\n",
       "      <td>361ca564</td>\n",
       "      <td>2223</td>\n",
       "      <td>70</td>\n",
       "      <td>52.44</td>\n",
       "      <td>512</td>\n",
       "      <td>186</td>\n",
       "      <td>15972</td>\n",
       "      <td>19672</td>\n",
       "      <td>663</td>\n",
       "      <td>303</td>\n",
       "      <td>104</td>\n",
       "      <td>353</td>\n",
       "      <td>Tottenham</td>\n",
       "      <td>38</td>\n",
       "      <td>1.842105</td>\n",
       "      <td>0.811915</td>\n",
       "      <td>9.289474</td>\n",
       "      <td>1.38</td>\n",
       "      <td>13.473684</td>\n",
       "      <td>0.363281</td>\n",
       "      <td>17.447368</td>\n",
       "      <td>104</td>\n",
       "    </tr>\n",
       "    <tr>\n",
       "      <th>18</th>\n",
       "      <td>7c21e445</td>\n",
       "      <td>2223</td>\n",
       "      <td>42</td>\n",
       "      <td>43.70</td>\n",
       "      <td>466</td>\n",
       "      <td>133</td>\n",
       "      <td>12369</td>\n",
       "      <td>16357</td>\n",
       "      <td>607</td>\n",
       "      <td>242</td>\n",
       "      <td>80</td>\n",
       "      <td>316</td>\n",
       "      <td>West Ham</td>\n",
       "      <td>38</td>\n",
       "      <td>1.105263</td>\n",
       "      <td>0.756190</td>\n",
       "      <td>8.315789</td>\n",
       "      <td>1.15</td>\n",
       "      <td>12.263158</td>\n",
       "      <td>0.285408</td>\n",
       "      <td>15.973684</td>\n",
       "      <td>80</td>\n",
       "    </tr>\n",
       "    <tr>\n",
       "      <th>19</th>\n",
       "      <td>8cec06e1</td>\n",
       "      <td>2223</td>\n",
       "      <td>31</td>\n",
       "      <td>34.58</td>\n",
       "      <td>409</td>\n",
       "      <td>119</td>\n",
       "      <td>14554</td>\n",
       "      <td>18294</td>\n",
       "      <td>772</td>\n",
       "      <td>375</td>\n",
       "      <td>71</td>\n",
       "      <td>389</td>\n",
       "      <td>Wolves</td>\n",
       "      <td>38</td>\n",
       "      <td>0.815789</td>\n",
       "      <td>0.795561</td>\n",
       "      <td>10.236842</td>\n",
       "      <td>0.91</td>\n",
       "      <td>10.763158</td>\n",
       "      <td>0.290954</td>\n",
       "      <td>20.315789</td>\n",
       "      <td>71</td>\n",
       "    </tr>\n",
       "  </tbody>\n",
       "</table>\n",
       "</div>"
      ],
      "text/plain": [
       "   TEAM_FBREF_ID  SEASON  GOALS_SCORED   NPXG  SHOTS  SHOTS_ON_TARGET  \\\n",
       "0       18bb7c10    2223            88  69.16    589              194   \n",
       "1       8602292d    2223            51  47.12    427              145   \n",
       "2       4ba7cbea    2223            37  38.76    358              126   \n",
       "3       cd051869    2223            58  50.54    400              147   \n",
       "4       d07537b9    2223            72  68.78    607              219   \n",
       "5       cff3d9bb    2223            38  47.12    481              151   \n",
       "6       47c64c55    2223            40  36.86    423              133   \n",
       "7       d3fd31cc    2223            34  42.94    426              143   \n",
       "8       fd962109    2223            55  39.14    420              137   \n",
       "9       5bfb9659    2223            48  44.84    459              141   \n",
       "10      a2d435b3    2223            51  45.60    412              142   \n",
       "11      822bd0ba    2223            75  69.54    601              203   \n",
       "12      b8fd03ef    2223            94  71.06    590              205   \n",
       "13      19538871    2223            58  65.36    590              206   \n",
       "14      b2b47a98    2223            68  67.26    565              184   \n",
       "15      e4a775cb    2223            38  34.58    362              111   \n",
       "16      33c895d4    2223            36  34.58    413              132   \n",
       "17      361ca564    2223            70  52.44    512              186   \n",
       "18      7c21e445    2223            42  43.70    466              133   \n",
       "19      8cec06e1    2223            31  34.58    409              119   \n",
       "\n",
       "    PASS_COMPLETED  PASS_ATTEMPTED  TAKEONS_ATTEMPTED  TAKEONS_COMPLETED  \\\n",
       "0            18281           21969                751                351   \n",
       "1            13782           17396                681                292   \n",
       "2            11715           15381                735                321   \n",
       "3            11317           15551                597                264   \n",
       "4            19210           22888                724                343   \n",
       "5            19147           22836                833                375   \n",
       "6            13395           17308                784                367   \n",
       "7            11790           15783                669                305   \n",
       "8            13974           18014                592                269   \n",
       "9            12437           16924                688                268   \n",
       "10           14887           18871                620                291   \n",
       "11           20043           24361                691                320   \n",
       "12           23263           26642                702                334   \n",
       "13           16603           20525                730                317   \n",
       "14           13925           17837                783                349   \n",
       "15            9543           13606                569                254   \n",
       "16           12319           16391                756                358   \n",
       "17           15972           19672                663                303   \n",
       "18           12369           16357                607                242   \n",
       "19           14554           18294                772                375   \n",
       "\n",
       "    CROSSES_INTO_PA  FOULS_AGAINST        TEAM_NAME  MATCHES_PLAYED  \\\n",
       "0                62            435          Arsenal              38   \n",
       "1                80            498      Aston Villa              38   \n",
       "2                75            365      Bournemouth              38   \n",
       "3                87            399        Brentford              38   \n",
       "4                78            407         Brighton              38   \n",
       "5                68            462          Chelsea              38   \n",
       "6                51            479   Crystal Palace              38   \n",
       "7                67            382          Everton              38   \n",
       "8                97            405           Fulham              38   \n",
       "9                70            405     Leeds United              38   \n",
       "10               52            397   Leicester City              38   \n",
       "11               85            321        Liverpool              38   \n",
       "12               75            384  Manchester City              38   \n",
       "13               57            297   Manchester Utd              38   \n",
       "14               64            399    Newcastle Utd              38   \n",
       "15               50            390  Nott'ham Forest              38   \n",
       "16               71            378      Southampton              38   \n",
       "17              104            353        Tottenham              38   \n",
       "18               80            316         West Ham              38   \n",
       "19               71            389           Wolves              38   \n",
       "\n",
       "    Goals/Game  Pass Completion (%)  Fouls Against/Game  NPxG/Game  \\\n",
       "0     2.315789             0.832127           11.447368       1.82   \n",
       "1     1.342105             0.792251           13.105263       1.24   \n",
       "2     0.973684             0.761654            9.605263       1.02   \n",
       "3     1.526316             0.727735           10.500000       1.33   \n",
       "4     1.894737             0.839304           10.710526       1.81   \n",
       "5     1.000000             0.838457           12.157895       1.24   \n",
       "6     1.052632             0.773920           12.605263       0.97   \n",
       "7     0.894737             0.747006           10.052632       1.13   \n",
       "8     1.447368             0.775730           10.657895       1.03   \n",
       "9     1.263158             0.734874           10.657895       1.18   \n",
       "10    1.342105             0.788882           10.447368       1.20   \n",
       "11    1.973684             0.822749            8.447368       1.83   \n",
       "12    2.473684             0.873170           10.105263       1.87   \n",
       "13    1.526316             0.808916            7.815789       1.72   \n",
       "14    1.789474             0.780681           10.500000       1.77   \n",
       "15    1.000000             0.701382           10.263158       0.91   \n",
       "16    0.947368             0.751571            9.947368       0.91   \n",
       "17    1.842105             0.811915            9.289474       1.38   \n",
       "18    1.105263             0.756190            8.315789       1.15   \n",
       "19    0.815789             0.795561           10.236842       0.91   \n",
       "\n",
       "    Shots/Game  Shots On Target (%)  Take_ons Attempted/Game  \\\n",
       "0    15.500000             0.329372                19.763158   \n",
       "1    11.236842             0.339578                17.921053   \n",
       "2     9.421053             0.351955                19.342105   \n",
       "3    10.526316             0.367500                15.710526   \n",
       "4    15.973684             0.360791                19.052632   \n",
       "5    12.657895             0.313929                21.921053   \n",
       "6    11.131579             0.314421                20.631579   \n",
       "7    11.210526             0.335681                17.605263   \n",
       "8    11.052632             0.326190                15.578947   \n",
       "9    12.078947             0.307190                18.105263   \n",
       "10   10.842105             0.344660                16.315789   \n",
       "11   15.815789             0.337770                18.184211   \n",
       "12   15.526316             0.347458                18.473684   \n",
       "13   15.526316             0.349153                19.210526   \n",
       "14   14.868421             0.325664                20.605263   \n",
       "15    9.526316             0.306630                14.973684   \n",
       "16   10.868421             0.319613                19.894737   \n",
       "17   13.473684             0.363281                17.447368   \n",
       "18   12.263158             0.285408                15.973684   \n",
       "19   10.763158             0.290954                20.315789   \n",
       "\n",
       "    Crosses into Pen Area  \n",
       "0                      62  \n",
       "1                      80  \n",
       "2                      75  \n",
       "3                      87  \n",
       "4                      78  \n",
       "5                      68  \n",
       "6                      51  \n",
       "7                      67  \n",
       "8                      97  \n",
       "9                      70  \n",
       "10                     52  \n",
       "11                     85  \n",
       "12                     75  \n",
       "13                     57  \n",
       "14                     64  \n",
       "15                     50  \n",
       "16                     71  \n",
       "17                    104  \n",
       "18                     80  \n",
       "19                     71  "
      ]
     },
     "execution_count": 229,
     "metadata": {},
     "output_type": "execute_result"
    }
   ],
   "source": [
    "team_attacking"
   ]
  },
  {
   "cell_type": "code",
   "execution_count": 227,
   "metadata": {},
   "outputs": [],
   "source": [
    "team_attacking['Goals/Game'] = team_attacking['GOALS_SCORED']/team_attacking['MATCHES_PLAYED']\n",
    "team_attacking['Pass Completion (%)'] = team_attacking['PASS_COMPLETED']/team_attacking['PASS_ATTEMPTED']\n",
    "team_attacking['Fouls Against/Game'] = team_attacking['FOULS_AGAINST']/team_attacking['MATCHES_PLAYED']\n",
    "team_attacking['NPxG/Game'] = team_attacking['NPXG']/team_attacking['MATCHES_PLAYED']\n",
    "team_attacking['Shots/Game'] = team_attacking['SHOTS']/team_attacking['MATCHES_PLAYED']\n",
    "team_attacking['Shots On Target (%)'] = team_attacking['SHOTS_ON_TARGET']/team_attacking['SHOTS']\n",
    "team_attacking['Take_ons Attempted/Game'] = team_attacking['TAKEONS_ATTEMPTED']/team_attacking['MATCHES_PLAYED']\n",
    "team_attacking['Crosses into Pen Area'] = team_attacking['CROSSES_INTO_PA']"
   ]
  },
  {
   "cell_type": "code",
   "execution_count": 228,
   "metadata": {},
   "outputs": [],
   "source": [
    "team_defending['Clearances/Game'] = team_defending['CLEARANCES']/team_defending['MATCHES_PLAYED']\n",
    "team_defending['Fouls Made/Game'] = team_defending['FOULS_MADE']/team_defending['MATCHES_PLAYED']\n",
    "team_defending['Conceded/Game'] = team_defending['GOALS_CONCEDED']/team_defending['MATCHES_PLAYED']\n",
    "team_defending['xG Against/Game'] = team_defending['XG_AGAINST']/team_defending['MATCHES_PLAYED']\n",
    "team_defending['Tackles Attempted/Game'] = team_defending['TACKLES']/team_defending['MATCHES_PLAYED']\n",
    "team_defending['Tackles Won (%)'] = team_defending['TACKLES_WON']/team_defending['TACKLES']\n",
    "team_defending['Interceptions/Game'] = team_defending['INTERCEPTIONS']/team_defending['MATCHES_PLAYED']\n",
    "team_defending['Blocked Shots/Game'] = team_defending['BLOCKED_SHOTS']/team_defending['MATCHES_PLAYED']"
   ]
  },
  {
   "cell_type": "code",
   "execution_count": 230,
   "metadata": {},
   "outputs": [],
   "source": [
    "team_attacking= team_attacking[['SEASON', 'TEAM_NAME', 'Goals/Game', 'Pass Completion (%)', 'Fouls Against/Game', 'NPxG/Game', \n",
    "                                'Shots/Game', 'Shots On Target (%)', 'Take_ons Attempted/Game', 'Crosses into Pen Area']]\n"
   ]
  },
  {
   "cell_type": "code",
   "execution_count": 231,
   "metadata": {},
   "outputs": [],
   "source": [
    "team_defending= team_defending[['SEASON', 'TEAM_NAME', 'Clearances/Game', 'Fouls Made/Game', 'Conceded/Game', 'xG Against/Game',\n",
    "                                'Tackles Attempted/Game', 'Tackles Won (%)', 'Interceptions/Game', 'Blocked Shots/Game']]"
   ]
  },
  {
   "cell_type": "code",
   "execution_count": 232,
   "metadata": {},
   "outputs": [],
   "source": [
    "team_attacking_average = team_attacking.drop(columns=['TEAM_NAME']).groupby('SEASON').mean().reset_index()\n",
    "team_attacking_average['TEAM_NAME'] = 'Average_2223'\n",
    "team_attacking = pd.concat([team_attacking, team_attacking_average], ignore_index=True)"
   ]
  },
  {
   "cell_type": "code",
   "execution_count": 233,
   "metadata": {},
   "outputs": [],
   "source": [
    "team_defending_average = team_defending.drop(columns=['TEAM_NAME']).groupby('SEASON').mean().reset_index()\n",
    "team_defending_average['TEAM_NAME'] = 'Average_2223'\n",
    "team_defending = pd.concat([team_defending, team_defending_average], ignore_index=True)"
   ]
  },
  {
   "cell_type": "code",
   "execution_count": 237,
   "metadata": {},
   "outputs": [],
   "source": [
    "scaler = MinMaxScaler()\n",
    "team_defending_scaled = (team_defending.drop(['TEAM_NAME','SEASON'], axis=1))\n",
    "team_defending_scaled_1 = team_defending_scaled.drop(['Fouls Made/Game', 'Conceded/Game', 'xG Against/Game'], axis=1)\n",
    "team_defending_scaled_2 = team_defending_scaled[['Fouls Made/Game', 'Conceded/Game', 'xG Against/Game']]\n",
    "team_defending_scaled_1 = pd.DataFrame(scaler.fit_transform(team_defending_scaled_1), columns=team_defending_scaled_1.columns)\n",
    "team_defending_scaled_1 = pd.DataFrame(scaler.fit_transform(team_defending_scaled_1), columns=team_defending_scaled_1.columns)\n",
    "scaler = MinMaxScaler()\n",
    "team_defending_scaled_2 = pd.DataFrame(scaler.fit_transform(team_defending_scaled_2), columns=team_defending_scaled_2.columns)\n",
    "team_defending_scaled_2 = pd.DataFrame(scaler.fit_transform(1-team_defending_scaled_2), columns=team_defending_scaled_2.columns)\n",
    "team_defending_scaled_2 = pd.DataFrame(scaler.inverse_transform(team_defending_scaled_2), columns=team_defending_scaled_2.columns)\n",
    "team_defending_scaled = pd.concat([team_defending_scaled_1, team_defending_scaled_2], axis=1)\n",
    "team_defending_scaled = pd.concat([team_defending[['TEAM_NAME','SEASON']], team_defending_scaled], axis=1)"
   ]
  },
  {
   "cell_type": "code",
   "execution_count": 239,
   "metadata": {},
   "outputs": [],
   "source": [
    "scaler = MinMaxScaler()\n",
    "team_attacking_scaled = (team_attacking.drop(['TEAM_NAME','SEASON'], axis=1))\n",
    "team_attacking_scaled = pd.DataFrame(scaler.fit_transform(team_attacking_scaled), \n",
    "                                     columns=team_attacking_scaled.columns)\n",
    "team_attacking_scaled = pd.concat([team_attacking[['TEAM_NAME','SEASON']], team_attacking_scaled], axis=1)"
   ]
  },
  {
   "cell_type": "code",
   "execution_count": 240,
   "metadata": {},
   "outputs": [],
   "source": [
    "team_attacking_radar_1 = team_attacking_scaled.melt(id_vars=[\"SEASON\", \"TEAM_NAME\"]).sort_values(by=['TEAM_NAME']).rename(columns={'value':'norm_value'})\n",
    "team_attacking_radar_2 = team_attacking.melt(id_vars=[\"SEASON\", \"TEAM_NAME\"]).sort_values(by=['TEAM_NAME'])"
   ]
  },
  {
   "cell_type": "code",
   "execution_count": 241,
   "metadata": {},
   "outputs": [],
   "source": [
    "team_defending_radar_1 = team_defending_scaled.melt(id_vars=[\"SEASON\", \"TEAM_NAME\"]).sort_values(by=['TEAM_NAME']).rename(columns={'value':'norm_value'})\n",
    "team_defending_radar_2 = team_defending.melt(id_vars=[\"SEASON\", \"TEAM_NAME\"]).sort_values(by=['TEAM_NAME'])"
   ]
  },
  {
   "cell_type": "code",
   "execution_count": 242,
   "metadata": {},
   "outputs": [],
   "source": [
    "team_defending_radar = team_defending_radar_1.merge(team_defending_radar_2, on=['SEASON','TEAM_NAME','variable'], how='left')\n",
    "team_attacking_radar = team_attacking_radar_1.merge(team_attacking_radar_2, on=['SEASON','TEAM_NAME','variable'], how='left')"
   ]
  },
  {
   "cell_type": "code",
   "execution_count": 243,
   "metadata": {},
   "outputs": [],
   "source": [
    "team_standard_radar_1 = team_attacking_scaled[['TEAM_NAME','SEASON','Pass Completion (%)','Goals/Game','NPxG/Game',\n",
    "                                               'Shots/Game','Shots On Target (%)']]\n",
    "team_standard_radar_2 = team_attacking[['TEAM_NAME','SEASON','Pass Completion (%)','Goals/Game','NPxG/Game',\n",
    "                                               'Shots/Game','Shots On Target (%)']]\n",
    "team_standard_radar_3 = team_defending_scaled[['TEAM_NAME','SEASON','Tackles Won (%)', 'Conceded/Game', 'xG Against/Game']]\n",
    "team_standard_radar_4 = team_defending[['TEAM_NAME','SEASON','Tackles Won (%)', 'Conceded/Game', 'xG Against/Game']]"
   ]
  },
  {
   "cell_type": "code",
   "execution_count": 244,
   "metadata": {},
   "outputs": [],
   "source": [
    "team_standard_radar_5 = team_standard_radar_1.merge(team_standard_radar_3, on=['TEAM_NAME','SEASON'], how='left')\n",
    "team_standard_radar_6 = team_standard_radar_2.merge(team_standard_radar_4, on=['TEAM_NAME','SEASON'], how='left')"
   ]
  },
  {
   "cell_type": "code",
   "execution_count": 245,
   "metadata": {},
   "outputs": [],
   "source": [
    "team_standard_radar_5 = team_standard_radar_5.melt(id_vars=[\"SEASON\", \"TEAM_NAME\"]).sort_values(by=['TEAM_NAME']).rename(columns={'value':'norm_value'})"
   ]
  },
  {
   "cell_type": "code",
   "execution_count": 246,
   "metadata": {},
   "outputs": [],
   "source": [
    "team_standard_radar_6 = team_standard_radar_6.melt(id_vars=[\"SEASON\", \n",
    "                                                            \"TEAM_NAME\"]).sort_values(by=['TEAM_NAME'])"
   ]
  },
  {
   "cell_type": "code",
   "execution_count": 247,
   "metadata": {},
   "outputs": [],
   "source": [
    "team_standard_radar = team_standard_radar_5.merge(team_standard_radar_6, on=['SEASON','TEAM_NAME','variable'], how='left')"
   ]
  },
  {
   "cell_type": "code",
   "execution_count": 255,
   "metadata": {},
   "outputs": [],
   "source": [
    "team_defending_radar.rename(columns={'variable':'VARIABLE','norm_value':\"NORM_VALUE\",\n",
    "                                     'value':'VALUE'}, inplace=True)"
   ]
  },
  {
   "cell_type": "code",
   "execution_count": 256,
   "metadata": {},
   "outputs": [],
   "source": [
    "team_attacking_radar.rename(columns={'variable':'VARIABLE','norm_value':\"NORM_VALUE\",\n",
    "                                     'value':'VALUE'}, inplace=True)"
   ]
  },
  {
   "cell_type": "code",
   "execution_count": 257,
   "metadata": {},
   "outputs": [],
   "source": [
    "team_standard_radar.rename(columns={'variable':'VARIABLE','norm_value':\"NORM_VALUE\",\n",
    "                                     'value':'VALUE'}, inplace=True)"
   ]
  },
  {
   "cell_type": "markdown",
   "metadata": {},
   "source": [
    "Upload to Snowflake now"
   ]
  },
  {
   "cell_type": "code",
   "execution_count": 249,
   "metadata": {},
   "outputs": [],
   "source": [
    "SNOWFLAKE_USER = 'kbharaj3'\n",
    "SNOWFLAKE_PASSWORD = 'Snowfl@key0014'\n",
    "SNOWFLAKE_ACCOUNT = 'qx25653.ca-central-1.aws'\n",
    "SNOWFLAKE_WAREHOUSE = 'FOOTY_STORE'\n",
    "SNOWFLAKE_DATABASE = 'GEGENSTATS'\n",
    "SNOWFLAKE_SCHEMA = 'RADAR_CHARTS'"
   ]
  },
  {
   "cell_type": "code",
   "execution_count": 250,
   "metadata": {},
   "outputs": [],
   "source": [
    "conn = snowflake.connector.connect(\n",
    "    user=SNOWFLAKE_USER,\n",
    "    password=SNOWFLAKE_PASSWORD,\n",
    "    account=SNOWFLAKE_ACCOUNT,\n",
    "    warehouse=SNOWFLAKE_WAREHOUSE,\n",
    "    database=SNOWFLAKE_DATABASE,\n",
    "    schema=SNOWFLAKE_SCHEMA\n",
    "    )"
   ]
  },
  {
   "cell_type": "code",
   "execution_count": 251,
   "metadata": {},
   "outputs": [
    {
     "data": {
      "text/plain": [
       "<snowflake.connector.cursor.SnowflakeCursor at 0x25742dc7050>"
      ]
     },
     "execution_count": 251,
     "metadata": {},
     "output_type": "execute_result"
    }
   ],
   "source": [
    "cur = conn.cursor()\n",
    "cur.execute(f\"USE WAREHOUSE {SNOWFLAKE_WAREHOUSE}\")"
   ]
  },
  {
   "cell_type": "code",
   "execution_count": 258,
   "metadata": {},
   "outputs": [
    {
     "data": {
      "text/plain": [
       "<snowflake.connector.cursor.SnowflakeCursor at 0x25742dc7050>"
      ]
     },
     "execution_count": 258,
     "metadata": {},
     "output_type": "execute_result"
    }
   ],
   "source": [
    "create_schema_sql = f\"CREATE SCHEMA IF NOT EXISTS {SNOWFLAKE_SCHEMA}\"\n",
    "cur.execute(create_schema_sql)"
   ]
  },
  {
   "cell_type": "code",
   "execution_count": 262,
   "metadata": {},
   "outputs": [],
   "source": [
    "create_table_query = \"\"\"\n",
    "CREATE TABLE IF NOT EXISTS STANDARD_RADAR (\n",
    "    SEASON INT,\n",
    "    TEAM_NAME VARCHAR(255),\n",
    "    VARIABLE VARCHAR(255),\n",
    "    NORM_VALUE FLOAT,\n",
    "    VALUE FLOAT,\n",
    "    PRIMARY KEY (SEASON, TEAM_NAME, VARIABLE)\n",
    ");\n",
    "\"\"\""
   ]
  },
  {
   "cell_type": "code",
   "execution_count": 263,
   "metadata": {},
   "outputs": [
    {
     "data": {
      "text/plain": [
       "<snowflake.connector.cursor.SnowflakeCursor at 0x25742dc7050>"
      ]
     },
     "execution_count": 263,
     "metadata": {},
     "output_type": "execute_result"
    }
   ],
   "source": [
    "cur.execute(create_table_query)"
   ]
  },
  {
   "cell_type": "code",
   "execution_count": 266,
   "metadata": {},
   "outputs": [],
   "source": [
    "def insert_to_snowflake_DB(primary_keys, table_name, dataframe):\n",
    "    cur.execute(f\"SELECT {', '.join(primary_keys)} FROM {table_name}\")\n",
    "    existing_ids = cur.fetchall()\n",
    "    existing_ids = [id for id in existing_ids]\n",
    "    dataframe.set_index(primary_keys, inplace=True)\n",
    "    new_rows = dataframe[~dataframe.index.isin(existing_ids)]\n",
    "    new_rows.reset_index(inplace=True)\n",
    "    if not new_rows.empty:\n",
    "        success, nchunks, nrows, _ = write_pandas(conn, new_rows, table_name)\n",
    "        print(f\"Inserted {nrows} new rows\")\n",
    "    else:\n",
    "        print(\"No new rows to insert\")"
   ]
  },
  {
   "cell_type": "code",
   "execution_count": 267,
   "metadata": {},
   "outputs": [
    {
     "name": "stdout",
     "output_type": "stream",
     "text": [
      "Inserted 168 new rows\n"
     ]
    }
   ],
   "source": [
    "insert_to_snowflake_DB(['SEASON', 'TEAM_NAME', 'VARIABLE'], 'STANDARD_RADAR', team_standard_radar)"
   ]
  },
  {
   "cell_type": "code",
   "execution_count": 269,
   "metadata": {},
   "outputs": [],
   "source": [
    "create_table_query = \"\"\"\n",
    "CREATE TABLE IF NOT EXISTS ATTACKING_RADAR (\n",
    "    SEASON INT,\n",
    "    TEAM_NAME VARCHAR(255),\n",
    "    VARIABLE VARCHAR(255),\n",
    "    NORM_VALUE FLOAT,\n",
    "    VALUE FLOAT,\n",
    "    PRIMARY KEY (SEASON, TEAM_NAME, VARIABLE)\n",
    ");\n",
    "\"\"\""
   ]
  },
  {
   "cell_type": "code",
   "execution_count": 270,
   "metadata": {},
   "outputs": [
    {
     "data": {
      "text/plain": [
       "<snowflake.connector.cursor.SnowflakeCursor at 0x25742dc7050>"
      ]
     },
     "execution_count": 270,
     "metadata": {},
     "output_type": "execute_result"
    }
   ],
   "source": [
    "cur.execute(create_table_query)"
   ]
  },
  {
   "cell_type": "code",
   "execution_count": 271,
   "metadata": {},
   "outputs": [
    {
     "name": "stdout",
     "output_type": "stream",
     "text": [
      "Inserted 168 new rows\n"
     ]
    }
   ],
   "source": [
    "insert_to_snowflake_DB(['SEASON', 'TEAM_NAME', 'VARIABLE'], 'ATTACKING_RADAR', team_attacking_radar)"
   ]
  },
  {
   "cell_type": "code",
   "execution_count": 273,
   "metadata": {},
   "outputs": [],
   "source": [
    "create_table_query = \"\"\"\n",
    "CREATE TABLE IF NOT EXISTS DEFENDING_RADAR (\n",
    "    SEASON INT,\n",
    "    TEAM_NAME VARCHAR(255),\n",
    "    VARIABLE VARCHAR(255),\n",
    "    NORM_VALUE FLOAT,\n",
    "    VALUE FLOAT,\n",
    "    PRIMARY KEY (SEASON, TEAM_NAME, VARIABLE)\n",
    ");\n",
    "\"\"\""
   ]
  },
  {
   "cell_type": "code",
   "execution_count": 274,
   "metadata": {},
   "outputs": [
    {
     "data": {
      "text/plain": [
       "<snowflake.connector.cursor.SnowflakeCursor at 0x25742dc7050>"
      ]
     },
     "execution_count": 274,
     "metadata": {},
     "output_type": "execute_result"
    }
   ],
   "source": [
    "cur.execute(create_table_query)"
   ]
  },
  {
   "cell_type": "code",
   "execution_count": 275,
   "metadata": {},
   "outputs": [
    {
     "name": "stdout",
     "output_type": "stream",
     "text": [
      "Inserted 168 new rows\n"
     ]
    }
   ],
   "source": [
    "insert_to_snowflake_DB(['SEASON', 'TEAM_NAME', 'VARIABLE'], 'DEFENDING_RADAR', team_defending_radar)"
   ]
  },
  {
   "cell_type": "code",
   "execution_count": null,
   "metadata": {},
   "outputs": [],
   "source": []
  },
  {
   "cell_type": "code",
   "execution_count": null,
   "metadata": {},
   "outputs": [],
   "source": []
  },
  {
   "cell_type": "code",
   "execution_count": null,
   "metadata": {},
   "outputs": [],
   "source": []
  }
 ],
 "metadata": {
  "kernelspec": {
   "display_name": "footy",
   "language": "python",
   "name": "python3"
  },
  "language_info": {
   "codemirror_mode": {
    "name": "ipython",
    "version": 3
   },
   "file_extension": ".py",
   "mimetype": "text/x-python",
   "name": "python",
   "nbconvert_exporter": "python",
   "pygments_lexer": "ipython3",
   "version": "3.11.5"
  }
 },
 "nbformat": 4,
 "nbformat_minor": 2
}
