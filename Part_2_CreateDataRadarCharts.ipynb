{
 "cells": [
  {
   "cell_type": "code",
   "execution_count": 59,
   "metadata": {},
   "outputs": [],
   "source": [
    "import pandas as pd\n",
    "import numpy as np\n",
    "from sklearn.preprocessing import MinMaxScaler\n",
    "from snowflake.connector.pandas_tools import write_pandas\n",
    "from sqlalchemy import create_engine\n",
    "import snowflake.connector"
   ]
  },
  {
   "cell_type": "code",
   "execution_count": 60,
   "metadata": {},
   "outputs": [],
   "source": [
    "import snowflake.connector"
   ]
  },
  {
   "cell_type": "code",
   "execution_count": 61,
   "metadata": {},
   "outputs": [],
   "source": [
    "## Set options to view all columns\n",
    "pd.set_option('display.max_columns', None)"
   ]
  },
  {
   "cell_type": "code",
   "execution_count": 62,
   "metadata": {},
   "outputs": [],
   "source": [
    "SNOWFLAKE_USER = 'kbharaj3'\n",
    "SNOWFLAKE_PASSWORD = 'Snowfl@key0014'\n",
    "SNOWFLAKE_ACCOUNT = 'qx25653.ca-central-1.aws'\n",
    "SNOWFLAKE_WAREHOUSE = 'FOOTY_STORE'\n",
    "SNOWFLAKE_DATABASE = 'GEGENSTATS'\n",
    "SNOWFLAKE_SCHEMA = 'TABLES'"
   ]
  },
  {
   "cell_type": "code",
   "execution_count": 63,
   "metadata": {},
   "outputs": [],
   "source": [
    "conn = snowflake.connector.connect(\n",
    "    user=SNOWFLAKE_USER,\n",
    "    password=SNOWFLAKE_PASSWORD,\n",
    "    account=SNOWFLAKE_ACCOUNT,\n",
    "    warehouse=SNOWFLAKE_WAREHOUSE,\n",
    "    database=SNOWFLAKE_DATABASE,\n",
    "    schema=SNOWFLAKE_SCHEMA\n",
    ")"
   ]
  },
  {
   "cell_type": "code",
   "execution_count": 64,
   "metadata": {},
   "outputs": [],
   "source": [
    "cursor = conn.cursor()"
   ]
  },
  {
   "cell_type": "code",
   "execution_count": 171,
   "metadata": {},
   "outputs": [],
   "source": [
    "cursor.execute('SELECT * FROM TEAMS')\n",
    "team_rows = cursor.fetchall()\n",
    "column_names = [desc[0] for desc in cursor.description]\n",
    "team_names = pd.DataFrame(team_rows, columns=column_names)"
   ]
  },
  {
   "cell_type": "code",
   "execution_count": 172,
   "metadata": {},
   "outputs": [],
   "source": [
    "cursor.execute('SELECT * FROM TEAM_STANDARD_STATS')\n",
    "standard_rows = cursor.fetchall()\n",
    "column_names = [desc[0] for desc in cursor.description]\n",
    "team_standard = pd.DataFrame(standard_rows, columns=column_names)"
   ]
  },
  {
   "cell_type": "code",
   "execution_count": 173,
   "metadata": {},
   "outputs": [],
   "source": [
    "cursor.execute('SELECT * FROM TEAM_ATTACKING_STATS')\n",
    "attacking_rows = cursor.fetchall()\n",
    "column_names = [desc[0] for desc in cursor.description]\n",
    "team_attacking = pd.DataFrame(attacking_rows, columns=column_names)"
   ]
  },
  {
   "cell_type": "code",
   "execution_count": 174,
   "metadata": {},
   "outputs": [],
   "source": [
    "cursor.execute('SELECT * FROM TEAM_DEFENDING_STATS')\n",
    "defending_rows = cursor.fetchall()\n",
    "column_names = [desc[0] for desc in cursor.description]\n",
    "team_defending = pd.DataFrame(defending_rows, columns=column_names)"
   ]
  },
  {
   "cell_type": "code",
   "execution_count": 175,
   "metadata": {},
   "outputs": [],
   "source": [
    "cursor.execute('SELECT * FROM COMPETITIONS')\n",
    "competition_rows = cursor.fetchall()\n",
    "column_names = [desc[0] for desc in cursor.description]\n",
    "df_competitions = pd.DataFrame(competition_rows, columns=column_names)"
   ]
  },
  {
   "cell_type": "code",
   "execution_count": 176,
   "metadata": {},
   "outputs": [],
   "source": [
    "team_names.drop(['TEAM_LOGO_URL'], axis=1, inplace=True)"
   ]
  },
  {
   "cell_type": "code",
   "execution_count": 177,
   "metadata": {},
   "outputs": [],
   "source": [
    "team_standard = team_standard.merge(team_names, on='TEAM_FBREF_ID', how='left')\n",
    "team_defending = team_defending.merge(team_names, on='TEAM_FBREF_ID', how='left')\n",
    "team_attacking = team_attacking.merge(team_names, on='TEAM_FBREF_ID', how='left')"
   ]
  },
  {
   "cell_type": "code",
   "execution_count": 178,
   "metadata": {},
   "outputs": [],
   "source": [
    "team_attacking = team_attacking.merge(team_standard, on=['TEAM_FBREF_ID','SEASON','TEAM_NAME','COMPETITION'], how='left')\n",
    "team_defending = team_defending.merge(team_standard, on=['TEAM_FBREF_ID','SEASON','TEAM_NAME', 'COMPETITION'], how='left')"
   ]
  },
  {
   "cell_type": "code",
   "execution_count": 179,
   "metadata": {},
   "outputs": [],
   "source": [
    "team_attacking = team_attacking.merge(df_competitions[['COMPETITION','COMPETITION_ACRONYM','SEASON']], \n",
    "                                      on=['COMPETITION','SEASON'], how='left')\n",
    "team_defending = team_defending.merge(df_competitions[['COMPETITION','COMPETITION_ACRONYM','SEASON']], \n",
    "                                      on=['COMPETITION','SEASON'], how='left')"
   ]
  },
  {
   "cell_type": "code",
   "execution_count": 180,
   "metadata": {},
   "outputs": [],
   "source": [
    "team_attacking['Goals/Game'] = team_attacking['GOALS_SCORED']/team_attacking['MATCHES_PLAYED']\n",
    "team_attacking['Pass Completion (%)'] = team_attacking['PASS_COMPLETED']*100/team_attacking['PASS_ATTEMPTED']\n",
    "team_attacking['Fouls Against/Game'] = team_attacking['FOULS_AGAINST']/team_attacking['MATCHES_PLAYED']\n",
    "team_attacking['NPxG/Game'] = team_attacking['NPXG']/team_attacking['MATCHES_PLAYED']\n",
    "team_attacking['Shots/Game'] = team_attacking['SHOTS']/team_attacking['MATCHES_PLAYED']\n",
    "team_attacking['Shots On Target (%)'] = team_attacking['SHOTS_ON_TARGET']*100/team_attacking['SHOTS']\n",
    "team_attacking['Take_ons Attempted/Game'] = team_attacking['TAKEONS_ATTEMPTED']/team_attacking['MATCHES_PLAYED']\n",
    "team_attacking['Crosses into Pen Area'] = team_attacking['CROSSES_INTO_PA']"
   ]
  },
  {
   "cell_type": "code",
   "execution_count": 181,
   "metadata": {},
   "outputs": [],
   "source": [
    "team_defending['Clearances/Game'] = team_defending['CLEARANCES']/team_defending['MATCHES_PLAYED']\n",
    "team_defending['Fouls Made/Game'] = team_defending['FOULS_MADE']/team_defending['MATCHES_PLAYED']\n",
    "team_defending['Conceded/Game'] = team_defending['GOALS_CONCEDED']/team_defending['MATCHES_PLAYED']\n",
    "team_defending['xG Against/Game'] = team_defending['XG_AGAINST']/team_defending['MATCHES_PLAYED']\n",
    "team_defending['Tackles Attempted/Game'] = team_defending['TACKLES']/team_defending['MATCHES_PLAYED']\n",
    "team_defending['Tackles Won (%)'] = team_defending['TACKLES_WON']*100/team_defending['TACKLES']\n",
    "team_defending['Interceptions/Game'] = team_defending['INTERCEPTIONS']/team_defending['MATCHES_PLAYED']\n",
    "team_defending['Blocked Shots/Game'] = team_defending['BLOCKED_SHOTS']/team_defending['MATCHES_PLAYED']"
   ]
  },
  {
   "cell_type": "code",
   "execution_count": 182,
   "metadata": {},
   "outputs": [],
   "source": [
    "team_attacking= team_attacking[['SEASON', 'TEAM_NAME','COMPETITION_ACRONYM' ,'Goals/Game', 'Pass Completion (%)', 'Fouls Against/Game', 'NPxG/Game', \n",
    "                                'Shots/Game', 'Shots On Target (%)', 'Take_ons Attempted/Game', 'Crosses into Pen Area']]\n"
   ]
  },
  {
   "cell_type": "code",
   "execution_count": 183,
   "metadata": {},
   "outputs": [],
   "source": [
    "team_defending= team_defending[['SEASON', 'TEAM_NAME','COMPETITION_ACRONYM' ,'Clearances/Game', 'Fouls Made/Game', 'Conceded/Game', 'xG Against/Game',\n",
    "                                'Tackles Attempted/Game', 'Tackles Won (%)', 'Interceptions/Game', 'Blocked Shots/Game']]"
   ]
  },
  {
   "cell_type": "code",
   "execution_count": 184,
   "metadata": {},
   "outputs": [],
   "source": [
    "team_attacking_average = team_attacking.drop(columns=['TEAM_NAME']).groupby(['SEASON', 'COMPETITION_ACRONYM']).mean().reset_index()\n",
    "team_attacking_average['TEAM_NAME'] = team_attacking_average['COMPETITION_ACRONYM'] +'_'+ team_attacking_average['SEASON'].astype(str) + '_Average'\n",
    "team_attacking = pd.concat([team_attacking, team_attacking_average], ignore_index=True)"
   ]
  },
  {
   "cell_type": "code",
   "execution_count": 185,
   "metadata": {},
   "outputs": [],
   "source": [
    "team_defending_average = team_defending.drop(columns=['TEAM_NAME']).groupby(['SEASON', 'COMPETITION_ACRONYM']).mean().reset_index()\n",
    "team_defending_average['TEAM_NAME'] = team_defending_average['COMPETITION_ACRONYM'] +'_'+ team_defending_average['SEASON'].astype(str) + '_Average'\n",
    "team_defending = pd.concat([team_defending, team_defending_average], ignore_index=True)"
   ]
  },
  {
   "cell_type": "code",
   "execution_count": 186,
   "metadata": {},
   "outputs": [],
   "source": [
    "scaler = MinMaxScaler()\n",
    "team_defending_scaled = (team_defending.drop(['TEAM_NAME','SEASON','COMPETITION_ACRONYM'], axis=1))\n",
    "team_defending_scaled_1 = team_defending_scaled.drop(['Fouls Made/Game', 'Conceded/Game', 'xG Against/Game'], axis=1)\n",
    "team_defending_scaled_2 = team_defending_scaled[['Fouls Made/Game', 'Conceded/Game', 'xG Against/Game']]\n",
    "team_defending_scaled_1 = pd.DataFrame(scaler.fit_transform(team_defending_scaled_1), columns=team_defending_scaled_1.columns)"
   ]
  },
  {
   "cell_type": "code",
   "execution_count": 187,
   "metadata": {},
   "outputs": [],
   "source": [
    "scaler = MinMaxScaler()\n",
    "team_defending_scaled_2 = pd.DataFrame(scaler.fit_transform(team_defending_scaled_2), columns=team_defending_scaled_2.columns)\n",
    "team_defending_scaled_2 = pd.DataFrame(scaler.fit_transform(1-team_defending_scaled_2), columns=team_defending_scaled_2.columns)\n",
    "team_defending_scaled_2 = pd.DataFrame(scaler.inverse_transform(team_defending_scaled_2), columns=team_defending_scaled_2.columns)\n",
    "team_defending_scaled = pd.concat([team_defending_scaled_1, team_defending_scaled_2], axis=1)"
   ]
  },
  {
   "cell_type": "code",
   "execution_count": 188,
   "metadata": {},
   "outputs": [],
   "source": [
    "team_defending_scaled = pd.concat([team_defending[['TEAM_NAME','SEASON','COMPETITION_ACRONYM']], team_defending_scaled], axis=1)"
   ]
  },
  {
   "cell_type": "code",
   "execution_count": 189,
   "metadata": {},
   "outputs": [],
   "source": [
    "# scaler = MinMaxScaler()\n",
    "# team_defending_scaled = (team_defending.drop(['TEAM_NAME','SEASON'], axis=1))\n",
    "# team_defending_scaled_1 = team_defending_scaled.drop(['Fouls Made/Game', 'Conceded/Game', 'xG Against/Game'], axis=1)\n",
    "# team_defending_scaled_2 = team_defending_scaled[['Fouls Made/Game', 'Conceded/Game', 'xG Against/Game']]\n",
    "# team_defending_scaled_1 = pd.DataFrame(scaler.fit_transform(team_defending_scaled_1), columns=team_defending_scaled_1.columns)\n",
    "# scaler = MinMaxScaler()\n",
    "# team_defending_scaled_2 = pd.DataFrame(scaler.fit_transform(team_defending_scaled_2), columns=team_defending_scaled_2.columns)\n",
    "# team_defending_scaled_2 = pd.DataFrame(scaler.fit_transform(1-team_defending_scaled_2), columns=team_defending_scaled_2.columns)\n",
    "# team_defending_scaled_2 = pd.DataFrame(scaler.inverse_transform(team_defending_scaled_2), columns=team_defending_scaled_2.columns)\n",
    "# team_defending_scaled = pd.concat([team_defending_scaled_1, team_defending_scaled_2], axis=1)\n",
    "# team_defending_scaled = pd.concat([team_defending[['TEAM_NAME','SEASON']], team_defending_scaled], axis=1)"
   ]
  },
  {
   "cell_type": "code",
   "execution_count": 190,
   "metadata": {},
   "outputs": [],
   "source": [
    "scaler = MinMaxScaler()\n",
    "team_attacking_scaled = (team_attacking.drop(['TEAM_NAME','SEASON','COMPETITION_ACRONYM'], axis=1))\n",
    "team_attacking_scaled = pd.DataFrame(scaler.fit_transform(team_attacking_scaled), columns=team_attacking_scaled.columns)\n",
    "team_attacking_scaled = pd.concat([team_attacking[['TEAM_NAME','SEASON','COMPETITION_ACRONYM']], team_attacking_scaled], axis=1)"
   ]
  },
  {
   "cell_type": "code",
   "execution_count": 193,
   "metadata": {},
   "outputs": [],
   "source": [
    "team_attacking_radar_1 = team_attacking_scaled.melt(id_vars=[\"SEASON\", \"TEAM_NAME\",\"COMPETITION_ACRONYM\"]).sort_values(\n",
    "                        by=[\"COMPETITION_ACRONYM\",\"SEASON\",\"TEAM_NAME\"]).rename(columns={'value':'norm_value'})\n",
    "team_attacking_radar_2 = team_attacking.melt(id_vars=[\"SEASON\", \"TEAM_NAME\",\"COMPETITION_ACRONYM\"]).sort_values(\n",
    "                        by=[\"COMPETITION_ACRONYM\",\"SEASON\",\"TEAM_NAME\"])"
   ]
  },
  {
   "cell_type": "code",
   "execution_count": 194,
   "metadata": {},
   "outputs": [],
   "source": [
    "team_defending_radar_1 = team_defending_scaled.melt(id_vars=[\"SEASON\", \"TEAM_NAME\",\"COMPETITION_ACRONYM\"]).sort_values(\n",
    "                        by=[\"COMPETITION_ACRONYM\",\"SEASON\",\"TEAM_NAME\"]).rename(columns={'value':'norm_value'})\n",
    "team_defending_radar_2 = team_defending.melt(id_vars=[\"SEASON\", \"TEAM_NAME\",\"COMPETITION_ACRONYM\"]).sort_values(\n",
    "                        by=[\"COMPETITION_ACRONYM\",\"SEASON\",\"TEAM_NAME\"])"
   ]
  },
  {
   "cell_type": "code",
   "execution_count": 196,
   "metadata": {},
   "outputs": [],
   "source": [
    "team_defending_radar = team_defending_radar_1.merge(team_defending_radar_2, on=['SEASON','TEAM_NAME','COMPETITION_ACRONYM','variable'], how='left')\n",
    "team_attacking_radar = team_attacking_radar_1.merge(team_attacking_radar_2, on=['SEASON','TEAM_NAME','COMPETITION_ACRONYM','variable'], how='left')"
   ]
  },
  {
   "cell_type": "code",
   "execution_count": 199,
   "metadata": {},
   "outputs": [],
   "source": [
    "team_standard_radar_1 = team_attacking_scaled[['TEAM_NAME','SEASON','COMPETITION_ACRONYM','Pass Completion (%)','Goals/Game',\n",
    "                                               'NPxG/Game','Shots/Game','Shots On Target (%)']]\n",
    "team_standard_radar_2 = team_attacking[['TEAM_NAME','SEASON','COMPETITION_ACRONYM','Pass Completion (%)','Goals/Game','NPxG/Game',\n",
    "                                               'Shots/Game','Shots On Target (%)']]\n",
    "team_standard_radar_3 = team_defending_scaled[['TEAM_NAME','SEASON','COMPETITION_ACRONYM','Tackles Won (%)', 'Conceded/Game', \n",
    "                                               'xG Against/Game']]\n",
    "team_standard_radar_4 = team_defending[['TEAM_NAME','SEASON','COMPETITION_ACRONYM','Tackles Won (%)', 'Conceded/Game', \n",
    "                                        'xG Against/Game']]"
   ]
  },
  {
   "cell_type": "code",
   "execution_count": 200,
   "metadata": {},
   "outputs": [],
   "source": [
    "team_standard_radar_5 = team_standard_radar_1.merge(team_standard_radar_3, on=['TEAM_NAME','SEASON','COMPETITION_ACRONYM'], how='left')\n",
    "team_standard_radar_6 = team_standard_radar_2.merge(team_standard_radar_4, on=['TEAM_NAME','SEASON','COMPETITION_ACRONYM'], how='left')"
   ]
  },
  {
   "cell_type": "code",
   "execution_count": 202,
   "metadata": {},
   "outputs": [],
   "source": [
    "team_standard_radar_5 = team_standard_radar_5.melt(id_vars=[\"SEASON\", \"TEAM_NAME\", \"COMPETITION_ACRONYM\"]).sort_values(\n",
    "    by=[\"COMPETITION_ACRONYM\",\"SEASON\",\"TEAM_NAME\"]).rename(columns={'value':'norm_value'})"
   ]
  },
  {
   "cell_type": "code",
   "execution_count": 203,
   "metadata": {},
   "outputs": [],
   "source": [
    "team_standard_radar_6 = team_standard_radar_6.melt(id_vars=[\"SEASON\", \"TEAM_NAME\", \"COMPETITION_ACRONYM\"]).sort_values(\n",
    "    by=[\"COMPETITION_ACRONYM\",\"SEASON\",\"TEAM_NAME\"])"
   ]
  },
  {
   "cell_type": "code",
   "execution_count": 207,
   "metadata": {},
   "outputs": [],
   "source": [
    "team_standard_radar = team_standard_radar_5.merge(team_standard_radar_6, on=['SEASON','TEAM_NAME','COMPETITION_ACRONYM','variable'], how='left')"
   ]
  },
  {
   "cell_type": "code",
   "execution_count": 211,
   "metadata": {},
   "outputs": [],
   "source": [
    "team_defending_radar.rename(columns={'variable':'VARIABLE','norm_value':\"NORM_VALUE\",\n",
    "                                     'value':'VALUE'}, inplace=True)"
   ]
  },
  {
   "cell_type": "code",
   "execution_count": 212,
   "metadata": {},
   "outputs": [],
   "source": [
    "team_attacking_radar.rename(columns={'variable':'VARIABLE','norm_value':\"NORM_VALUE\",\n",
    "                                     'value':'VALUE'}, inplace=True)"
   ]
  },
  {
   "cell_type": "code",
   "execution_count": 213,
   "metadata": {},
   "outputs": [],
   "source": [
    "team_standard_radar.rename(columns={'variable':'VARIABLE','norm_value':\"NORM_VALUE\",\n",
    "                                     'value':'VALUE'}, inplace=True)"
   ]
  },
  {
   "cell_type": "markdown",
   "metadata": {},
   "source": [
    "Upload to Snowflake now"
   ]
  },
  {
   "cell_type": "code",
   "execution_count": 214,
   "metadata": {},
   "outputs": [],
   "source": [
    "SNOWFLAKE_USER = 'kbharaj3'\n",
    "SNOWFLAKE_PASSWORD = 'Snowfl@key0014'\n",
    "SNOWFLAKE_ACCOUNT = 'qx25653.ca-central-1.aws'\n",
    "SNOWFLAKE_WAREHOUSE = 'FOOTY_STORE'\n",
    "SNOWFLAKE_DATABASE = 'GEGENSTATS'\n",
    "SNOWFLAKE_SCHEMA = 'RADAR_CHARTS'"
   ]
  },
  {
   "cell_type": "code",
   "execution_count": 215,
   "metadata": {},
   "outputs": [],
   "source": [
    "conn = snowflake.connector.connect(\n",
    "    user=SNOWFLAKE_USER,\n",
    "    password=SNOWFLAKE_PASSWORD,\n",
    "    account=SNOWFLAKE_ACCOUNT,\n",
    "    warehouse=SNOWFLAKE_WAREHOUSE,\n",
    "    database=SNOWFLAKE_DATABASE,\n",
    "    schema=SNOWFLAKE_SCHEMA\n",
    "    )"
   ]
  },
  {
   "cell_type": "code",
   "execution_count": 216,
   "metadata": {},
   "outputs": [
    {
     "data": {
      "text/plain": [
       "<snowflake.connector.cursor.SnowflakeCursor at 0x242dceb2390>"
      ]
     },
     "execution_count": 216,
     "metadata": {},
     "output_type": "execute_result"
    }
   ],
   "source": [
    "cur = conn.cursor()\n",
    "cur.execute(f\"USE WAREHOUSE {SNOWFLAKE_WAREHOUSE}\")"
   ]
  },
  {
   "cell_type": "code",
   "execution_count": 217,
   "metadata": {},
   "outputs": [
    {
     "data": {
      "text/plain": [
       "<snowflake.connector.cursor.SnowflakeCursor at 0x242dceb2390>"
      ]
     },
     "execution_count": 217,
     "metadata": {},
     "output_type": "execute_result"
    }
   ],
   "source": [
    "create_schema_sql = f\"CREATE SCHEMA IF NOT EXISTS {SNOWFLAKE_SCHEMA}\"\n",
    "cur.execute(create_schema_sql)"
   ]
  },
  {
   "cell_type": "code",
   "execution_count": 219,
   "metadata": {},
   "outputs": [],
   "source": [
    "create_table_query = \"\"\"\n",
    "CREATE TABLE IF NOT EXISTS STANDARD_RADAR (\n",
    "    SEASON INT,\n",
    "    TEAM_NAME VARCHAR(255),\n",
    "    COMPETITION_ACRONYM VARCHAR(255),\n",
    "    VARIABLE VARCHAR(255),\n",
    "    NORM_VALUE FLOAT,\n",
    "    VALUE FLOAT,\n",
    "    PRIMARY KEY (SEASON, COMPETITION_ACRONYM, TEAM_NAME, VARIABLE)\n",
    ");\n",
    "\"\"\""
   ]
  },
  {
   "cell_type": "code",
   "execution_count": 220,
   "metadata": {},
   "outputs": [
    {
     "data": {
      "text/plain": [
       "<snowflake.connector.cursor.SnowflakeCursor at 0x242dceb2390>"
      ]
     },
     "execution_count": 220,
     "metadata": {},
     "output_type": "execute_result"
    }
   ],
   "source": [
    "cur.execute(create_table_query)"
   ]
  },
  {
   "cell_type": "code",
   "execution_count": 221,
   "metadata": {},
   "outputs": [],
   "source": [
    "def insert_to_snowflake_DB(primary_keys, table_name, dataframe, replace=False):\n",
    "    if replace:\n",
    "        cur.execute(f\"TRUNCATE TABLE {table_name}\")\n",
    "        success, nchunks, nrows, _ = write_pandas(conn, dataframe, table_name)\n",
    "    else:\n",
    "        cur.execute(f\"SELECT {', '.join(primary_keys)} FROM {table_name}\")\n",
    "        existing_ids = cur.fetchall()\n",
    "        existing_ids = [id for id in existing_ids]\n",
    "        dataframe.set_index(primary_keys, inplace=True)\n",
    "        new_rows = dataframe[~dataframe.index.isin(existing_ids)]\n",
    "        new_rows.reset_index(inplace=True)\n",
    "        dataframe.reset_index(inplace=True)\n",
    "        if not new_rows.empty:\n",
    "            success, nchunks, nrows, _ = write_pandas(conn, new_rows, table_name)\n",
    "            print(f\"Inserted {nrows} new rows\")\n",
    "        else:\n",
    "            print(\"No new rows to insert\")"
   ]
  },
  {
   "cell_type": "code",
   "execution_count": 222,
   "metadata": {},
   "outputs": [],
   "source": [
    "insert_to_snowflake_DB(['SEASON','COMPETITION_ACRONYM','TEAM_NAME','VARIABLE'], 'STANDARD_RADAR', team_standard_radar, \n",
    "                       replace=True)"
   ]
  },
  {
   "cell_type": "code",
   "execution_count": 223,
   "metadata": {},
   "outputs": [],
   "source": [
    "create_table_query = \"\"\"\n",
    "CREATE TABLE IF NOT EXISTS ATTACKING_RADAR (\n",
    "    SEASON INT,\n",
    "    TEAM_NAME VARCHAR(255),\n",
    "    COMPETITION_ACRONYM VARCHAR(255),\n",
    "    VARIABLE VARCHAR(255),\n",
    "    NORM_VALUE FLOAT,\n",
    "    VALUE FLOAT,\n",
    "    PRIMARY KEY (SEASON, COMPETITION_ACRONYM, TEAM_NAME, VARIABLE)\n",
    ");\n",
    "\"\"\""
   ]
  },
  {
   "cell_type": "code",
   "execution_count": 224,
   "metadata": {},
   "outputs": [
    {
     "data": {
      "text/plain": [
       "<snowflake.connector.cursor.SnowflakeCursor at 0x242dceb2390>"
      ]
     },
     "execution_count": 224,
     "metadata": {},
     "output_type": "execute_result"
    }
   ],
   "source": [
    "cur.execute(create_table_query)"
   ]
  },
  {
   "cell_type": "code",
   "execution_count": 225,
   "metadata": {},
   "outputs": [],
   "source": [
    "insert_to_snowflake_DB(['SEASON','COMPETITION_ACRONYM','TEAM_NAME','VARIABLE'], 'ATTACKING_RADAR', team_attacking_radar, \n",
    "                       replace=True)"
   ]
  },
  {
   "cell_type": "code",
   "execution_count": 226,
   "metadata": {},
   "outputs": [],
   "source": [
    "create_table_query = \"\"\"\n",
    "CREATE TABLE IF NOT EXISTS DEFENDING_RADAR (\n",
    "    SEASON INT,\n",
    "    TEAM_NAME VARCHAR(255),\n",
    "    COMPETITION_ACRONYM VARCHAR(255),\n",
    "    VARIABLE VARCHAR(255),\n",
    "    NORM_VALUE FLOAT,\n",
    "    VALUE FLOAT,\n",
    "    PRIMARY KEY (SEASON, TEAM_NAME, VARIABLE)\n",
    ");\n",
    "\"\"\""
   ]
  },
  {
   "cell_type": "code",
   "execution_count": 227,
   "metadata": {},
   "outputs": [
    {
     "data": {
      "text/plain": [
       "<snowflake.connector.cursor.SnowflakeCursor at 0x242dceb2390>"
      ]
     },
     "execution_count": 227,
     "metadata": {},
     "output_type": "execute_result"
    }
   ],
   "source": [
    "cur.execute(create_table_query)"
   ]
  },
  {
   "cell_type": "code",
   "execution_count": 228,
   "metadata": {},
   "outputs": [],
   "source": [
    "insert_to_snowflake_DB(['SEASON','COMPETITION_ACRONYM','TEAM_NAME', 'VARIABLE'], 'DEFENDING_RADAR', team_defending_radar, \n",
    "                       replace=True)"
   ]
  },
  {
   "cell_type": "code",
   "execution_count": null,
   "metadata": {},
   "outputs": [],
   "source": []
  },
  {
   "cell_type": "code",
   "execution_count": null,
   "metadata": {},
   "outputs": [],
   "source": []
  },
  {
   "cell_type": "code",
   "execution_count": null,
   "metadata": {},
   "outputs": [],
   "source": []
  }
 ],
 "metadata": {
  "kernelspec": {
   "display_name": "footy",
   "language": "python",
   "name": "python3"
  },
  "language_info": {
   "codemirror_mode": {
    "name": "ipython",
    "version": 3
   },
   "file_extension": ".py",
   "mimetype": "text/x-python",
   "name": "python",
   "nbconvert_exporter": "python",
   "pygments_lexer": "ipython3",
   "version": "3.11.5"
  }
 },
 "nbformat": 4,
 "nbformat_minor": 2
}
