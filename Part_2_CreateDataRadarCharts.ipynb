{
 "cells": [
  {
   "cell_type": "code",
   "execution_count": 1,
   "metadata": {},
   "outputs": [
    {
     "name": "stderr",
     "output_type": "stream",
     "text": [
      "d:\\Users\\ksbha\\miniconda3\\envs\\footy\\Lib\\site-packages\\snowflake\\connector\\options.py:103: UserWarning: You have an incompatible version of 'pyarrow' installed (14.0.2), please install a version that adheres to: 'pyarrow<10.1.0,>=10.0.1; extra == \"pandas\"'\n",
      "  warn_incompatible_dep(\n",
      "Failed to import ArrowResult. No Apache Arrow result set format can be used. ImportError: DLL load failed while importing arrow_iterator: The specified procedure could not be found.\n"
     ]
    }
   ],
   "source": [
    "import pandas as pd\n",
    "import numpy as np\n",
    "from sklearn.preprocessing import MinMaxScaler\n",
    "from snowflake.connector.pandas_tools import write_pandas\n",
    "from sqlalchemy import create_engine\n",
    "import snowflake.connector"
   ]
  },
  {
   "cell_type": "code",
   "execution_count": 2,
   "metadata": {},
   "outputs": [],
   "source": [
    "import snowflake.connector"
   ]
  },
  {
   "cell_type": "code",
   "execution_count": 3,
   "metadata": {},
   "outputs": [],
   "source": [
    "## Set options to view all columns\n",
    "pd.set_option('display.max_columns', None)"
   ]
  },
  {
   "cell_type": "code",
   "execution_count": 4,
   "metadata": {},
   "outputs": [],
   "source": [
    "SNOWFLAKE_USER = 'kbharaj3'\n",
    "SNOWFLAKE_PASSWORD = 'Snowfl@key0014'\n",
    "SNOWFLAKE_ACCOUNT = 'qx25653.ca-central-1.aws'\n",
    "SNOWFLAKE_WAREHOUSE = 'FOOTY_STORE'\n",
    "SNOWFLAKE_DATABASE = 'GEGENSTATS'\n",
    "SNOWFLAKE_SCHEMA = 'TABLES'"
   ]
  },
  {
   "cell_type": "code",
   "execution_count": 5,
   "metadata": {},
   "outputs": [],
   "source": [
    "conn = snowflake.connector.connect(\n",
    "    user=SNOWFLAKE_USER,\n",
    "    password=SNOWFLAKE_PASSWORD,\n",
    "    account=SNOWFLAKE_ACCOUNT,\n",
    "    warehouse=SNOWFLAKE_WAREHOUSE,\n",
    "    database=SNOWFLAKE_DATABASE,\n",
    "    schema=SNOWFLAKE_SCHEMA\n",
    ")"
   ]
  },
  {
   "cell_type": "code",
   "execution_count": 6,
   "metadata": {},
   "outputs": [],
   "source": [
    "cursor = conn.cursor()"
   ]
  },
  {
   "cell_type": "code",
   "execution_count": 7,
   "metadata": {},
   "outputs": [],
   "source": [
    "cursor.execute('SELECT * FROM TEAMS')\n",
    "team_rows = cursor.fetchall()\n",
    "column_names = [desc[0] for desc in cursor.description]\n",
    "team_names = pd.DataFrame(team_rows, columns=column_names)"
   ]
  },
  {
   "cell_type": "code",
   "execution_count": 8,
   "metadata": {},
   "outputs": [],
   "source": [
    "cursor.execute('SELECT * FROM TEAM_STANDARD_STATS')\n",
    "standard_rows = cursor.fetchall()\n",
    "column_names = [desc[0] for desc in cursor.description]\n",
    "team_standard = pd.DataFrame(standard_rows, columns=column_names)"
   ]
  },
  {
   "cell_type": "code",
   "execution_count": 9,
   "metadata": {},
   "outputs": [],
   "source": [
    "cursor.execute('SELECT * FROM TEAM_ATTACKING_STATS')\n",
    "attacking_rows = cursor.fetchall()\n",
    "column_names = [desc[0] for desc in cursor.description]\n",
    "team_attacking = pd.DataFrame(attacking_rows, columns=column_names)"
   ]
  },
  {
   "cell_type": "code",
   "execution_count": 10,
   "metadata": {},
   "outputs": [],
   "source": [
    "cursor.execute('SELECT * FROM TEAM_DEFENDING_STATS')\n",
    "defending_rows = cursor.fetchall()\n",
    "column_names = [desc[0] for desc in cursor.description]\n",
    "team_defending = pd.DataFrame(defending_rows, columns=column_names)"
   ]
  },
  {
   "cell_type": "code",
   "execution_count": 11,
   "metadata": {},
   "outputs": [],
   "source": [
    "cursor.execute('SELECT * FROM COMPETITIONS')\n",
    "competition_rows = cursor.fetchall()\n",
    "column_names = [desc[0] for desc in cursor.description]\n",
    "df_competitions = pd.DataFrame(competition_rows, columns=column_names)"
   ]
  },
  {
   "cell_type": "code",
   "execution_count": 12,
   "metadata": {},
   "outputs": [],
   "source": [
    "team_names.drop(['TEAM_LOGO_URL'], axis=1, inplace=True)"
   ]
  },
  {
   "cell_type": "code",
   "execution_count": 13,
   "metadata": {},
   "outputs": [],
   "source": [
    "team_standard = team_standard.merge(team_names, on='TEAM_FBREF_ID', how='left')\n",
    "team_defending = team_defending.merge(team_names, on='TEAM_FBREF_ID', how='left')\n",
    "team_attacking = team_attacking.merge(team_names, on='TEAM_FBREF_ID', how='left')"
   ]
  },
  {
   "cell_type": "code",
   "execution_count": 14,
   "metadata": {},
   "outputs": [
    {
     "data": {
      "text/html": [
       "<div>\n",
       "<style scoped>\n",
       "    .dataframe tbody tr th:only-of-type {\n",
       "        vertical-align: middle;\n",
       "    }\n",
       "\n",
       "    .dataframe tbody tr th {\n",
       "        vertical-align: top;\n",
       "    }\n",
       "\n",
       "    .dataframe thead th {\n",
       "        text-align: right;\n",
       "    }\n",
       "</style>\n",
       "<table border=\"1\" class=\"dataframe\">\n",
       "  <thead>\n",
       "    <tr style=\"text-align: right;\">\n",
       "      <th></th>\n",
       "      <th>TEAM_FBREF_ID</th>\n",
       "      <th>SEASON</th>\n",
       "      <th>COMPETITION</th>\n",
       "      <th>GOALS_CONCEDED</th>\n",
       "      <th>XG_AGAINST</th>\n",
       "      <th>NPXG_AGAINST</th>\n",
       "      <th>TACKLES</th>\n",
       "      <th>TACKLES_WON</th>\n",
       "      <th>FOULS_MADE</th>\n",
       "      <th>INTERCEPTIONS</th>\n",
       "      <th>BLOCKED_SHOTS</th>\n",
       "      <th>BLOCKED_PASSES</th>\n",
       "      <th>CLEARANCES</th>\n",
       "      <th>PPDA</th>\n",
       "      <th>OPP_PPDA</th>\n",
       "      <th>FINAL_3RD_PASSES_AGAINST</th>\n",
       "      <th>POSS_WON</th>\n",
       "      <th>CLEAN_SHEETS</th>\n",
       "      <th>SHOTS_FACED</th>\n",
       "      <th>TEAM_NAME</th>\n",
       "      <th>TEAM_WS_ID</th>\n",
       "    </tr>\n",
       "  </thead>\n",
       "  <tbody>\n",
       "  </tbody>\n",
       "</table>\n",
       "</div>"
      ],
      "text/plain": [
       "Empty DataFrame\n",
       "Columns: [TEAM_FBREF_ID, SEASON, COMPETITION, GOALS_CONCEDED, XG_AGAINST, NPXG_AGAINST, TACKLES, TACKLES_WON, FOULS_MADE, INTERCEPTIONS, BLOCKED_SHOTS, BLOCKED_PASSES, CLEARANCES, PPDA, OPP_PPDA, FINAL_3RD_PASSES_AGAINST, POSS_WON, CLEAN_SHEETS, SHOTS_FACED, TEAM_NAME, TEAM_WS_ID]\n",
       "Index: []"
      ]
     },
     "execution_count": 14,
     "metadata": {},
     "output_type": "execute_result"
    }
   ],
   "source": [
    "team_defending[team_defending['GOALS_CONCEDED'].isna()]"
   ]
  },
  {
   "cell_type": "code",
   "execution_count": 15,
   "metadata": {},
   "outputs": [
    {
     "data": {
      "text/html": [
       "<div>\n",
       "<style scoped>\n",
       "    .dataframe tbody tr th:only-of-type {\n",
       "        vertical-align: middle;\n",
       "    }\n",
       "\n",
       "    .dataframe tbody tr th {\n",
       "        vertical-align: top;\n",
       "    }\n",
       "\n",
       "    .dataframe thead th {\n",
       "        text-align: right;\n",
       "    }\n",
       "</style>\n",
       "<table border=\"1\" class=\"dataframe\">\n",
       "  <thead>\n",
       "    <tr style=\"text-align: right;\">\n",
       "      <th></th>\n",
       "      <th>TEAM_FBREF_ID</th>\n",
       "      <th>SEASON</th>\n",
       "      <th>COMPETITION</th>\n",
       "      <th>GOALS_CONCEDED</th>\n",
       "      <th>XG_AGAINST</th>\n",
       "      <th>NPXG_AGAINST</th>\n",
       "      <th>TACKLES</th>\n",
       "      <th>TACKLES_WON</th>\n",
       "      <th>FOULS_MADE</th>\n",
       "      <th>INTERCEPTIONS</th>\n",
       "      <th>BLOCKED_SHOTS</th>\n",
       "      <th>BLOCKED_PASSES</th>\n",
       "      <th>CLEARANCES</th>\n",
       "      <th>PPDA</th>\n",
       "      <th>OPP_PPDA</th>\n",
       "      <th>FINAL_3RD_PASSES_AGAINST</th>\n",
       "      <th>POSS_WON</th>\n",
       "      <th>CLEAN_SHEETS</th>\n",
       "      <th>SHOTS_FACED</th>\n",
       "      <th>TEAM_NAME</th>\n",
       "      <th>TEAM_WS_ID</th>\n",
       "    </tr>\n",
       "  </thead>\n",
       "  <tbody>\n",
       "  </tbody>\n",
       "</table>\n",
       "</div>"
      ],
      "text/plain": [
       "Empty DataFrame\n",
       "Columns: [TEAM_FBREF_ID, SEASON, COMPETITION, GOALS_CONCEDED, XG_AGAINST, NPXG_AGAINST, TACKLES, TACKLES_WON, FOULS_MADE, INTERCEPTIONS, BLOCKED_SHOTS, BLOCKED_PASSES, CLEARANCES, PPDA, OPP_PPDA, FINAL_3RD_PASSES_AGAINST, POSS_WON, CLEAN_SHEETS, SHOTS_FACED, TEAM_NAME, TEAM_WS_ID]\n",
       "Index: []"
      ]
     },
     "execution_count": 15,
     "metadata": {},
     "output_type": "execute_result"
    }
   ],
   "source": [
    "team_defending[team_defending['OPP_PPDA'].isna()]"
   ]
  },
  {
   "cell_type": "code",
   "execution_count": 16,
   "metadata": {},
   "outputs": [
    {
     "data": {
      "text/html": [
       "<div>\n",
       "<style scoped>\n",
       "    .dataframe tbody tr th:only-of-type {\n",
       "        vertical-align: middle;\n",
       "    }\n",
       "\n",
       "    .dataframe tbody tr th {\n",
       "        vertical-align: top;\n",
       "    }\n",
       "\n",
       "    .dataframe thead th {\n",
       "        text-align: right;\n",
       "    }\n",
       "</style>\n",
       "<table border=\"1\" class=\"dataframe\">\n",
       "  <thead>\n",
       "    <tr style=\"text-align: right;\">\n",
       "      <th></th>\n",
       "      <th>TEAM_FBREF_ID</th>\n",
       "      <th>SEASON</th>\n",
       "      <th>COMPETITION</th>\n",
       "      <th>GOALS_SCORED</th>\n",
       "      <th>NPXG</th>\n",
       "      <th>XG</th>\n",
       "      <th>SHOTS</th>\n",
       "      <th>SHOTS_ON_TARGET</th>\n",
       "      <th>PASS_COMPLETED</th>\n",
       "      <th>PASS_ATTEMPTED</th>\n",
       "      <th>TAKEONS_ATTEMPTED</th>\n",
       "      <th>TAKEONS_COMPLETED</th>\n",
       "      <th>CROSSES_INTO_PA</th>\n",
       "      <th>FOULS_AGAINST</th>\n",
       "      <th>TEAM_NAME</th>\n",
       "      <th>TEAM_WS_ID</th>\n",
       "    </tr>\n",
       "  </thead>\n",
       "  <tbody>\n",
       "  </tbody>\n",
       "</table>\n",
       "</div>"
      ],
      "text/plain": [
       "Empty DataFrame\n",
       "Columns: [TEAM_FBREF_ID, SEASON, COMPETITION, GOALS_SCORED, NPXG, XG, SHOTS, SHOTS_ON_TARGET, PASS_COMPLETED, PASS_ATTEMPTED, TAKEONS_ATTEMPTED, TAKEONS_COMPLETED, CROSSES_INTO_PA, FOULS_AGAINST, TEAM_NAME, TEAM_WS_ID]\n",
       "Index: []"
      ]
     },
     "execution_count": 16,
     "metadata": {},
     "output_type": "execute_result"
    }
   ],
   "source": [
    "team_attacking[team_attacking['GOALS_SCORED'].isna()]"
   ]
  },
  {
   "cell_type": "code",
   "execution_count": null,
   "metadata": {},
   "outputs": [],
   "source": []
  },
  {
   "cell_type": "code",
   "execution_count": null,
   "metadata": {},
   "outputs": [],
   "source": []
  },
  {
   "cell_type": "code",
   "execution_count": 17,
   "metadata": {},
   "outputs": [],
   "source": [
    "team_attacking = team_attacking.merge(team_standard, on=['TEAM_FBREF_ID','SEASON','TEAM_NAME','COMPETITION'], how='left')\n",
    "team_defending = team_defending.merge(team_standard, on=['TEAM_FBREF_ID','SEASON','TEAM_NAME', 'COMPETITION'], how='left')"
   ]
  },
  {
   "cell_type": "code",
   "execution_count": 18,
   "metadata": {},
   "outputs": [],
   "source": [
    "team_attacking = team_attacking.merge(df_competitions[['COMPETITION','COMPETITION_ACRONYM','SEASON']], \n",
    "                                      on=['COMPETITION','SEASON'], how='left')\n",
    "team_defending = team_defending.merge(df_competitions[['COMPETITION','COMPETITION_ACRONYM','SEASON']], \n",
    "                                      on=['COMPETITION','SEASON'], how='left')"
   ]
  },
  {
   "cell_type": "code",
   "execution_count": 19,
   "metadata": {},
   "outputs": [],
   "source": [
    "team_attacking['Goals/Game'] = team_attacking['GOALS_SCORED']/team_attacking['MATCHES_PLAYED']\n",
    "team_attacking['Pass Completion (%)'] = team_attacking['PASS_COMPLETED']*100/team_attacking['PASS_ATTEMPTED']\n",
    "team_attacking['Fouls Against/Game'] = team_attacking['FOULS_AGAINST']/team_attacking['MATCHES_PLAYED']\n",
    "team_attacking['NPxG/Game'] = team_attacking['NPXG']/team_attacking['MATCHES_PLAYED']\n",
    "team_attacking['Shots/Game'] = team_attacking['SHOTS']/team_attacking['MATCHES_PLAYED']\n",
    "team_attacking['Shots On Target (%)'] = team_attacking['SHOTS_ON_TARGET']*100/team_attacking['SHOTS']\n",
    "team_attacking['Take_ons Attempted/Game'] = team_attacking['TAKEONS_ATTEMPTED']/team_attacking['MATCHES_PLAYED']\n",
    "team_attacking['Crosses into Pen Area'] = team_attacking['CROSSES_INTO_PA']"
   ]
  },
  {
   "cell_type": "code",
   "execution_count": 20,
   "metadata": {},
   "outputs": [],
   "source": [
    "# team_defending['Clearances/Game'] = team_defending['CLEARANCES']/team_defending['MATCHES_PLAYED']\n",
    "team_defending['Fouls Made/Game'] = team_defending['FOULS_MADE']/team_defending['MATCHES_PLAYED']\n",
    "team_defending['Conceded/Game'] = team_defending['GOALS_CONCEDED']/team_defending['MATCHES_PLAYED']\n",
    "team_defending['xG Against/Game'] = team_defending['XG_AGAINST']/team_defending['MATCHES_PLAYED']\n",
    "# team_defending['Tackles Attempted/Game'] = team_defending['TACKLES']/team_defending['MATCHES_PLAYED']\n",
    "team_defending['Tackles Won (%)'] = team_defending['TACKLES_WON']*100/team_defending['TACKLES']\n",
    "# team_defending['Interceptions/Game'] = team_defending['INTERCEPTIONS']/team_defending['MATCHES_PLAYED']\n",
    "# team_defending['Blocked Shots/Game'] = team_defending['BLOCKED_SHOTS']/team_defending['MATCHES_PLAYED']\n",
    "team_defending['Possession Won'] = team_defending['POSS_WON']\n",
    "team_defending['Opposition PPDA'] = team_defending['OPP_PPDA']\n",
    "team_defending['Final 3rd Passes Against/Game'] = team_defending['FINAL_3RD_PASSES_AGAINST']/team_defending['MATCHES_PLAYED']\n",
    "team_defending['Clean Sheets'] = team_defending['CLEAN_SHEETS']"
   ]
  },
  {
   "cell_type": "code",
   "execution_count": 21,
   "metadata": {},
   "outputs": [],
   "source": [
    "team_attacking= team_attacking[['SEASON', 'TEAM_NAME','COMPETITION_ACRONYM' ,'Goals/Game', 'Pass Completion (%)', 'Fouls Against/Game', 'NPxG/Game', \n",
    "                                'Shots/Game', 'Shots On Target (%)', 'Take_ons Attempted/Game', 'Crosses into Pen Area']]\n"
   ]
  },
  {
   "cell_type": "code",
   "execution_count": 22,
   "metadata": {},
   "outputs": [],
   "source": [
    "# team_defending= team_defending[['SEASON', 'TEAM_NAME','COMPETITION_ACRONYM' ,'Clearances/Game', 'Fouls Made/Game', 'Conceded/Game', 'xG Against/Game',\n",
    "#                                 'Tackles Attempted/Game', 'Tackles Won (%)', 'Interceptions/Game', 'Blocked Shots/Game','Possession Won', \n",
    "#                                 'Opposition PPDA', 'Final 3rd Passes Against/Game', 'Clean Sheets']]\n",
    "\n",
    "team_defending= team_defending[['SEASON', 'TEAM_NAME','COMPETITION_ACRONYM','MATCHES_PLAYED' ,'Fouls Made/Game', 'Conceded/Game', \n",
    "                                'xG Against/Game', 'Tackles Won (%)', 'Possession Won', \n",
    "                                'Opposition PPDA', 'Final 3rd Passes Against/Game', 'Clean Sheets']]"
   ]
  },
  {
   "cell_type": "code",
   "execution_count": 23,
   "metadata": {},
   "outputs": [],
   "source": [
    "team_attacking_average = team_attacking.drop(columns=['TEAM_NAME']).groupby(['SEASON', 'COMPETITION_ACRONYM']).mean().reset_index()\n",
    "team_attacking_average['TEAM_NAME'] = team_attacking_average['COMPETITION_ACRONYM'] +'_'+ team_attacking_average['SEASON'].astype(str) + '_Average'\n",
    "team_attacking = pd.concat([team_attacking, team_attacking_average], ignore_index=True)"
   ]
  },
  {
   "cell_type": "code",
   "execution_count": 24,
   "metadata": {},
   "outputs": [],
   "source": [
    "team_defending_average = team_defending.drop(columns=['TEAM_NAME']).groupby(['SEASON', 'COMPETITION_ACRONYM']).mean().reset_index()\n",
    "team_defending_average['TEAM_NAME'] = team_defending_average['COMPETITION_ACRONYM'] +'_'+ team_defending_average['SEASON'].astype(str) + '_Average'\n",
    "team_defending = pd.concat([team_defending, team_defending_average], ignore_index=True)"
   ]
  },
  {
   "cell_type": "code",
   "execution_count": 25,
   "metadata": {},
   "outputs": [],
   "source": [
    "scaler = MinMaxScaler()\n",
    "team_defending_scaled = (team_defending.drop(['TEAM_NAME','SEASON','COMPETITION_ACRONYM','MATCHES_PLAYED'], axis=1))\n",
    "team_defending_scaled_1 = team_defending_scaled.drop(['Fouls Made/Game', 'Conceded/Game', 'xG Against/Game', \n",
    "                                                      'Final 3rd Passes Against/Game','Opposition PPDA'], axis=1)\n",
    "team_defending_scaled_2 = team_defending_scaled[['Fouls Made/Game', 'Conceded/Game', 'xG Against/Game', \n",
    "                                                 'Final 3rd Passes Against/Game','Opposition PPDA']]\n",
    "team_defending_scaled_1['Possession Won'] = team_defending_scaled_1['Possession Won']/team_defending['MATCHES_PLAYED']\n",
    "team_defending_scaled_1['Clean Sheets'] = team_defending_scaled_1['Clean Sheets']/team_defending['MATCHES_PLAYED']\n",
    "team_defending_scaled_1 = pd.DataFrame(scaler.fit_transform(team_defending_scaled_1), columns=team_defending_scaled_1.columns)"
   ]
  },
  {
   "cell_type": "code",
   "execution_count": 26,
   "metadata": {},
   "outputs": [],
   "source": [
    "scaler = MinMaxScaler()\n",
    "team_defending_scaled_2 = pd.DataFrame(scaler.fit_transform(team_defending_scaled_2), columns=team_defending_scaled_2.columns)\n",
    "team_defending_scaled_2 = pd.DataFrame(scaler.fit_transform(1-team_defending_scaled_2), columns=team_defending_scaled_2.columns)\n",
    "team_defending_scaled_2 = pd.DataFrame(scaler.inverse_transform(team_defending_scaled_2), columns=team_defending_scaled_2.columns)\n",
    "team_defending_scaled = pd.concat([team_defending_scaled_1, team_defending_scaled_2], axis=1)"
   ]
  },
  {
   "cell_type": "code",
   "execution_count": 27,
   "metadata": {},
   "outputs": [],
   "source": [
    "team_defending_scaled = pd.concat([team_defending[['TEAM_NAME','SEASON','COMPETITION_ACRONYM']], team_defending_scaled], axis=1)"
   ]
  },
  {
   "cell_type": "code",
   "execution_count": 28,
   "metadata": {},
   "outputs": [],
   "source": [
    "# scaler = MinMaxScaler()\n",
    "# team_defending_scaled = (team_defending.drop(['TEAM_NAME','SEASON'], axis=1))\n",
    "# team_defending_scaled_1 = team_defending_scaled.drop(['Fouls Made/Game', 'Conceded/Game', 'xG Against/Game'], axis=1)\n",
    "# team_defending_scaled_2 = team_defending_scaled[['Fouls Made/Game', 'Conceded/Game', 'xG Against/Game']]\n",
    "# team_defending_scaled_1 = pd.DataFrame(scaler.fit_transform(team_defending_scaled_1), columns=team_defending_scaled_1.columns)\n",
    "# scaler = MinMaxScaler()\n",
    "# team_defending_scaled_2 = pd.DataFrame(scaler.fit_transform(team_defending_scaled_2), columns=team_defending_scaled_2.columns)\n",
    "# team_defending_scaled_2 = pd.DataFrame(scaler.fit_transform(1-team_defending_scaled_2), columns=team_defending_scaled_2.columns)\n",
    "# team_defending_scaled_2 = pd.DataFrame(scaler.inverse_transform(team_defending_scaled_2), columns=team_defending_scaled_2.columns)\n",
    "# team_defending_scaled = pd.concat([team_defending_scaled_1, team_defending_scaled_2], axis=1)\n",
    "# team_defending_scaled = pd.concat([team_defending[['TEAM_NAME','SEASON']], team_defending_scaled], axis=1)"
   ]
  },
  {
   "cell_type": "code",
   "execution_count": 29,
   "metadata": {},
   "outputs": [],
   "source": [
    "scaler = MinMaxScaler()\n",
    "team_attacking_scaled = (team_attacking.drop(['TEAM_NAME','SEASON','COMPETITION_ACRONYM'], axis=1))\n",
    "team_attacking_scaled = pd.DataFrame(scaler.fit_transform(team_attacking_scaled), columns=team_attacking_scaled.columns)\n",
    "team_attacking_scaled = pd.concat([team_attacking[['TEAM_NAME','SEASON','COMPETITION_ACRONYM']], team_attacking_scaled], axis=1)"
   ]
  },
  {
   "cell_type": "code",
   "execution_count": 30,
   "metadata": {},
   "outputs": [],
   "source": [
    "team_attacking_radar_1 = team_attacking_scaled.melt(id_vars=[\"SEASON\", \"TEAM_NAME\",\"COMPETITION_ACRONYM\"]).sort_values(\n",
    "                        by=[\"COMPETITION_ACRONYM\",\"SEASON\",\"TEAM_NAME\"]).rename(columns={'value':'norm_value'})\n",
    "team_attacking_radar_2 = team_attacking.melt(id_vars=[\"SEASON\", \"TEAM_NAME\",\"COMPETITION_ACRONYM\"]).sort_values(\n",
    "                        by=[\"COMPETITION_ACRONYM\",\"SEASON\",\"TEAM_NAME\"])"
   ]
  },
  {
   "cell_type": "code",
   "execution_count": 31,
   "metadata": {},
   "outputs": [],
   "source": [
    "team_defending_radar_1 = team_defending_scaled.melt(id_vars=[\"SEASON\", \"TEAM_NAME\",\"COMPETITION_ACRONYM\"]).sort_values(\n",
    "                        by=[\"COMPETITION_ACRONYM\",\"SEASON\",\"TEAM_NAME\"]).rename(columns={'value':'norm_value'})\n",
    "team_defending_radar_2 = team_defending.melt(id_vars=[\"SEASON\", \"TEAM_NAME\",\"COMPETITION_ACRONYM\"]).sort_values(\n",
    "                        by=[\"COMPETITION_ACRONYM\",\"SEASON\",\"TEAM_NAME\"])"
   ]
  },
  {
   "cell_type": "code",
   "execution_count": 32,
   "metadata": {},
   "outputs": [],
   "source": [
    "team_defending_radar = team_defending_radar_1.merge(team_defending_radar_2, on=['SEASON','TEAM_NAME','COMPETITION_ACRONYM','variable'], how='left')\n",
    "team_attacking_radar = team_attacking_radar_1.merge(team_attacking_radar_2, on=['SEASON','TEAM_NAME','COMPETITION_ACRONYM','variable'], how='left')"
   ]
  },
  {
   "cell_type": "code",
   "execution_count": 33,
   "metadata": {},
   "outputs": [],
   "source": [
    "team_standard_radar_1 = team_attacking_scaled[['TEAM_NAME','SEASON','COMPETITION_ACRONYM','Pass Completion (%)','Goals/Game',\n",
    "                                               'NPxG/Game','Shots/Game','Shots On Target (%)']]\n",
    "team_standard_radar_2 = team_attacking[['TEAM_NAME','SEASON','COMPETITION_ACRONYM','Pass Completion (%)','Goals/Game','NPxG/Game',\n",
    "                                               'Shots/Game','Shots On Target (%)']]\n",
    "team_standard_radar_3 = team_defending_scaled[['TEAM_NAME','SEASON','COMPETITION_ACRONYM','Tackles Won (%)', 'Conceded/Game', \n",
    "                                               'xG Against/Game']]\n",
    "team_standard_radar_4 = team_defending[['TEAM_NAME','SEASON','COMPETITION_ACRONYM','Tackles Won (%)', 'Conceded/Game', \n",
    "                                        'xG Against/Game']]"
   ]
  },
  {
   "cell_type": "code",
   "execution_count": 34,
   "metadata": {},
   "outputs": [],
   "source": [
    "team_standard_radar_5 = team_standard_radar_1.merge(team_standard_radar_3, on=['TEAM_NAME','SEASON','COMPETITION_ACRONYM'], how='left')\n",
    "team_standard_radar_6 = team_standard_radar_2.merge(team_standard_radar_4, on=['TEAM_NAME','SEASON','COMPETITION_ACRONYM'], how='left')"
   ]
  },
  {
   "cell_type": "code",
   "execution_count": 35,
   "metadata": {},
   "outputs": [],
   "source": [
    "team_standard_radar_5 = team_standard_radar_5.melt(id_vars=[\"SEASON\", \"TEAM_NAME\", \"COMPETITION_ACRONYM\"]).sort_values(\n",
    "    by=[\"COMPETITION_ACRONYM\",\"SEASON\",\"TEAM_NAME\"]).rename(columns={'value':'norm_value'})"
   ]
  },
  {
   "cell_type": "code",
   "execution_count": 36,
   "metadata": {},
   "outputs": [],
   "source": [
    "team_standard_radar_6 = team_standard_radar_6.melt(id_vars=[\"SEASON\", \"TEAM_NAME\", \"COMPETITION_ACRONYM\"]).sort_values(\n",
    "    by=[\"COMPETITION_ACRONYM\",\"SEASON\",\"TEAM_NAME\"])"
   ]
  },
  {
   "cell_type": "code",
   "execution_count": 37,
   "metadata": {},
   "outputs": [],
   "source": [
    "team_standard_radar = team_standard_radar_5.merge(team_standard_radar_6, on=['SEASON','TEAM_NAME','COMPETITION_ACRONYM','variable'], how='left')"
   ]
  },
  {
   "cell_type": "code",
   "execution_count": 38,
   "metadata": {},
   "outputs": [],
   "source": [
    "team_defending_radar.rename(columns={'variable':'VARIABLE','norm_value':\"NORM_VALUE\",\n",
    "                                     'value':'VALUE'}, inplace=True)"
   ]
  },
  {
   "cell_type": "code",
   "execution_count": 39,
   "metadata": {},
   "outputs": [],
   "source": [
    "team_attacking_radar.rename(columns={'variable':'VARIABLE','norm_value':\"NORM_VALUE\",\n",
    "                                     'value':'VALUE'}, inplace=True)"
   ]
  },
  {
   "cell_type": "code",
   "execution_count": 40,
   "metadata": {},
   "outputs": [],
   "source": [
    "team_standard_radar.rename(columns={'variable':'VARIABLE','norm_value':\"NORM_VALUE\",\n",
    "                                     'value':'VALUE'}, inplace=True)"
   ]
  },
  {
   "cell_type": "markdown",
   "metadata": {},
   "source": [
    "Upload to Snowflake now"
   ]
  },
  {
   "cell_type": "code",
   "execution_count": 41,
   "metadata": {},
   "outputs": [],
   "source": [
    "SNOWFLAKE_USER = 'kbharaj3'\n",
    "SNOWFLAKE_PASSWORD = 'Snowfl@key0014'\n",
    "SNOWFLAKE_ACCOUNT = 'qx25653.ca-central-1.aws'\n",
    "SNOWFLAKE_WAREHOUSE = 'FOOTY_STORE'\n",
    "SNOWFLAKE_DATABASE = 'GEGENSTATS'\n",
    "SNOWFLAKE_SCHEMA = 'RADAR_CHARTS'"
   ]
  },
  {
   "cell_type": "code",
   "execution_count": 42,
   "metadata": {},
   "outputs": [],
   "source": [
    "conn = snowflake.connector.connect(\n",
    "    user=SNOWFLAKE_USER,\n",
    "    password=SNOWFLAKE_PASSWORD,\n",
    "    account=SNOWFLAKE_ACCOUNT,\n",
    "    warehouse=SNOWFLAKE_WAREHOUSE,\n",
    "    database=SNOWFLAKE_DATABASE,\n",
    "    schema=SNOWFLAKE_SCHEMA\n",
    "    )"
   ]
  },
  {
   "cell_type": "code",
   "execution_count": 43,
   "metadata": {},
   "outputs": [
    {
     "data": {
      "text/plain": [
       "<snowflake.connector.cursor.SnowflakeCursor at 0x12890807a50>"
      ]
     },
     "execution_count": 43,
     "metadata": {},
     "output_type": "execute_result"
    }
   ],
   "source": [
    "cur = conn.cursor()\n",
    "cur.execute(f\"USE WAREHOUSE {SNOWFLAKE_WAREHOUSE}\")"
   ]
  },
  {
   "cell_type": "code",
   "execution_count": 44,
   "metadata": {},
   "outputs": [
    {
     "data": {
      "text/plain": [
       "<snowflake.connector.cursor.SnowflakeCursor at 0x12890807a50>"
      ]
     },
     "execution_count": 44,
     "metadata": {},
     "output_type": "execute_result"
    }
   ],
   "source": [
    "create_schema_sql = f\"CREATE SCHEMA IF NOT EXISTS {SNOWFLAKE_SCHEMA}\"\n",
    "cur.execute(create_schema_sql)"
   ]
  },
  {
   "cell_type": "code",
   "execution_count": 45,
   "metadata": {},
   "outputs": [],
   "source": [
    "create_table_query = \"\"\"\n",
    "CREATE TABLE IF NOT EXISTS STANDARD_RADAR (\n",
    "    SEASON INT,\n",
    "    TEAM_NAME VARCHAR(255),\n",
    "    COMPETITION_ACRONYM VARCHAR(255),\n",
    "    VARIABLE VARCHAR(255),\n",
    "    NORM_VALUE FLOAT,\n",
    "    VALUE FLOAT,\n",
    "    PRIMARY KEY (SEASON, COMPETITION_ACRONYM, TEAM_NAME, VARIABLE)\n",
    ");\n",
    "\"\"\""
   ]
  },
  {
   "cell_type": "code",
   "execution_count": 49,
   "metadata": {},
   "outputs": [
    {
     "data": {
      "text/plain": [
       "<snowflake.connector.cursor.SnowflakeCursor at 0x1a0982fb610>"
      ]
     },
     "execution_count": 49,
     "metadata": {},
     "output_type": "execute_result"
    }
   ],
   "source": [
    "cur.execute(create_table_query)"
   ]
  },
  {
   "cell_type": "code",
   "execution_count": 46,
   "metadata": {},
   "outputs": [],
   "source": [
    "def insert_to_snowflake_DB(primary_keys, table_name, dataframe, replace=False):\n",
    "    if replace:\n",
    "        cur.execute(f\"TRUNCATE TABLE {table_name}\")\n",
    "        success, nchunks, nrows, _ = write_pandas(conn, dataframe, table_name)\n",
    "    else:\n",
    "        cur.execute(f\"SELECT {', '.join(primary_keys)} FROM {table_name}\")\n",
    "        existing_ids = cur.fetchall()\n",
    "        existing_ids = [id for id in existing_ids]\n",
    "        dataframe.set_index(primary_keys, inplace=True)\n",
    "        new_rows = dataframe[~dataframe.index.isin(existing_ids)]\n",
    "        new_rows.reset_index(inplace=True)\n",
    "        dataframe.reset_index(inplace=True)\n",
    "        if not new_rows.empty:\n",
    "            success, nchunks, nrows, _ = write_pandas(conn, new_rows, table_name)\n",
    "            print(f\"Inserted {nrows} new rows\")\n",
    "        else:\n",
    "            print(\"No new rows to insert\")"
   ]
  },
  {
   "cell_type": "code",
   "execution_count": 47,
   "metadata": {},
   "outputs": [],
   "source": [
    "insert_to_snowflake_DB(['SEASON','COMPETITION_ACRONYM','TEAM_NAME','VARIABLE'], 'STANDARD_RADAR', team_standard_radar, \n",
    "                       replace=True)"
   ]
  },
  {
   "cell_type": "code",
   "execution_count": 51,
   "metadata": {},
   "outputs": [],
   "source": [
    "create_table_query = \"\"\"\n",
    "CREATE TABLE IF NOT EXISTS ATTACKING_RADAR (\n",
    "    SEASON INT,\n",
    "    TEAM_NAME VARCHAR(255),\n",
    "    COMPETITION_ACRONYM VARCHAR(255),\n",
    "    VARIABLE VARCHAR(255),\n",
    "    NORM_VALUE FLOAT,\n",
    "    VALUE FLOAT,\n",
    "    PRIMARY KEY (SEASON, COMPETITION_ACRONYM, TEAM_NAME, VARIABLE)\n",
    ");\n",
    "\"\"\""
   ]
  },
  {
   "cell_type": "code",
   "execution_count": null,
   "metadata": {},
   "outputs": [],
   "source": [
    "cur.execute(create_table_query)"
   ]
  },
  {
   "cell_type": "code",
   "execution_count": 48,
   "metadata": {},
   "outputs": [],
   "source": [
    "insert_to_snowflake_DB(['SEASON','COMPETITION_ACRONYM','TEAM_NAME','VARIABLE'], 'ATTACKING_RADAR', team_attacking_radar, \n",
    "                       replace=True)"
   ]
  },
  {
   "cell_type": "code",
   "execution_count": null,
   "metadata": {},
   "outputs": [],
   "source": [
    "create_table_query = \"\"\"\n",
    "CREATE TABLE IF NOT EXISTS DEFENDING_RADAR (\n",
    "    SEASON INT,\n",
    "    TEAM_NAME VARCHAR(255),\n",
    "    COMPETITION_ACRONYM VARCHAR(255),\n",
    "    VARIABLE VARCHAR(255),\n",
    "    NORM_VALUE FLOAT,\n",
    "    VALUE FLOAT,\n",
    "    PRIMARY KEY (SEASON, TEAM_NAME, VARIABLE)\n",
    ");\n",
    "\"\"\""
   ]
  },
  {
   "cell_type": "code",
   "execution_count": null,
   "metadata": {},
   "outputs": [],
   "source": [
    "cur.execute(create_table_query)"
   ]
  },
  {
   "cell_type": "code",
   "execution_count": 49,
   "metadata": {},
   "outputs": [],
   "source": [
    "insert_to_snowflake_DB(['SEASON','COMPETITION_ACRONYM','TEAM_NAME', 'VARIABLE'], 'DEFENDING_RADAR', team_defending_radar, \n",
    "                       replace=True)"
   ]
  },
  {
   "cell_type": "code",
   "execution_count": 50,
   "metadata": {},
   "outputs": [
    {
     "data": {
      "text/html": [
       "<div>\n",
       "<style scoped>\n",
       "    .dataframe tbody tr th:only-of-type {\n",
       "        vertical-align: middle;\n",
       "    }\n",
       "\n",
       "    .dataframe tbody tr th {\n",
       "        vertical-align: top;\n",
       "    }\n",
       "\n",
       "    .dataframe thead th {\n",
       "        text-align: right;\n",
       "    }\n",
       "</style>\n",
       "<table border=\"1\" class=\"dataframe\">\n",
       "  <thead>\n",
       "    <tr style=\"text-align: right;\">\n",
       "      <th></th>\n",
       "      <th>SEASON</th>\n",
       "      <th>TEAM_NAME</th>\n",
       "      <th>COMPETITION_ACRONYM</th>\n",
       "      <th>VARIABLE</th>\n",
       "      <th>NORM_VALUE</th>\n",
       "      <th>VALUE</th>\n",
       "    </tr>\n",
       "  </thead>\n",
       "  <tbody>\n",
       "    <tr>\n",
       "      <th>314</th>\n",
       "      <td>2324</td>\n",
       "      <td>Bayern Munich</td>\n",
       "      <td>Bundesliga</td>\n",
       "      <td>NPxG/Game</td>\n",
       "      <td>1.000000</td>\n",
       "      <td>2.943846</td>\n",
       "    </tr>\n",
       "    <tr>\n",
       "      <th>18</th>\n",
       "      <td>2122</td>\n",
       "      <td>Bayern Munich</td>\n",
       "      <td>Bundesliga</td>\n",
       "      <td>NPxG/Game</td>\n",
       "      <td>0.949366</td>\n",
       "      <td>2.827059</td>\n",
       "    </tr>\n",
       "    <tr>\n",
       "      <th>162</th>\n",
       "      <td>2223</td>\n",
       "      <td>Bayern Munich</td>\n",
       "      <td>Bundesliga</td>\n",
       "      <td>NPxG/Game</td>\n",
       "      <td>0.758981</td>\n",
       "      <td>2.387941</td>\n",
       "    </tr>\n",
       "    <tr>\n",
       "      <th>546</th>\n",
       "      <td>2122</td>\n",
       "      <td>Liverpool</td>\n",
       "      <td>EPL</td>\n",
       "      <td>NPxG/Game</td>\n",
       "      <td>0.714350</td>\n",
       "      <td>2.285000</td>\n",
       "    </tr>\n",
       "    <tr>\n",
       "      <th>554</th>\n",
       "      <td>2122</td>\n",
       "      <td>Manchester City</td>\n",
       "      <td>EPL</td>\n",
       "      <td>NPxG/Game</td>\n",
       "      <td>0.708531</td>\n",
       "      <td>2.271579</td>\n",
       "    </tr>\n",
       "    <tr>\n",
       "      <th>...</th>\n",
       "      <td>...</td>\n",
       "      <td>...</td>\n",
       "      <td>...</td>\n",
       "      <td>...</td>\n",
       "      <td>...</td>\n",
       "      <td>...</td>\n",
       "    </tr>\n",
       "    <tr>\n",
       "      <th>578</th>\n",
       "      <td>2122</td>\n",
       "      <td>Norwich City</td>\n",
       "      <td>EPL</td>\n",
       "      <td>NPxG/Game</td>\n",
       "      <td>0.057162</td>\n",
       "      <td>0.769211</td>\n",
       "    </tr>\n",
       "    <tr>\n",
       "      <th>2354</th>\n",
       "      <td>2324</td>\n",
       "      <td>Hellas Verona</td>\n",
       "      <td>Serie A</td>\n",
       "      <td>NPxG/Game</td>\n",
       "      <td>0.053168</td>\n",
       "      <td>0.760000</td>\n",
       "    </tr>\n",
       "    <tr>\n",
       "      <th>2</th>\n",
       "      <td>2122</td>\n",
       "      <td>Arminia</td>\n",
       "      <td>Bundesliga</td>\n",
       "      <td>NPxG/Game</td>\n",
       "      <td>0.051511</td>\n",
       "      <td>0.756176</td>\n",
       "    </tr>\n",
       "    <tr>\n",
       "      <th>1034</th>\n",
       "      <td>2122</td>\n",
       "      <td>Getafe</td>\n",
       "      <td>LALIGA</td>\n",
       "      <td>NPxG/Game</td>\n",
       "      <td>0.039819</td>\n",
       "      <td>0.729211</td>\n",
       "    </tr>\n",
       "    <tr>\n",
       "      <th>1634</th>\n",
       "      <td>2223</td>\n",
       "      <td>Ajaccio</td>\n",
       "      <td>Ligue 1</td>\n",
       "      <td>NPxG/Game</td>\n",
       "      <td>0.000000</td>\n",
       "      <td>0.637368</td>\n",
       "    </tr>\n",
       "  </tbody>\n",
       "</table>\n",
       "<p>307 rows × 6 columns</p>\n",
       "</div>"
      ],
      "text/plain": [
       "      SEASON        TEAM_NAME COMPETITION_ACRONYM   VARIABLE  NORM_VALUE  \\\n",
       "314     2324    Bayern Munich          Bundesliga  NPxG/Game    1.000000   \n",
       "18      2122    Bayern Munich          Bundesliga  NPxG/Game    0.949366   \n",
       "162     2223    Bayern Munich          Bundesliga  NPxG/Game    0.758981   \n",
       "546     2122        Liverpool                 EPL  NPxG/Game    0.714350   \n",
       "554     2122  Manchester City                 EPL  NPxG/Game    0.708531   \n",
       "...      ...              ...                 ...        ...         ...   \n",
       "578     2122     Norwich City                 EPL  NPxG/Game    0.057162   \n",
       "2354    2324    Hellas Verona             Serie A  NPxG/Game    0.053168   \n",
       "2       2122          Arminia          Bundesliga  NPxG/Game    0.051511   \n",
       "1034    2122           Getafe              LALIGA  NPxG/Game    0.039819   \n",
       "1634    2223          Ajaccio             Ligue 1  NPxG/Game    0.000000   \n",
       "\n",
       "         VALUE  \n",
       "314   2.943846  \n",
       "18    2.827059  \n",
       "162   2.387941  \n",
       "546   2.285000  \n",
       "554   2.271579  \n",
       "...        ...  \n",
       "578   0.769211  \n",
       "2354  0.760000  \n",
       "2     0.756176  \n",
       "1034  0.729211  \n",
       "1634  0.637368  \n",
       "\n",
       "[307 rows x 6 columns]"
      ]
     },
     "execution_count": 50,
     "metadata": {},
     "output_type": "execute_result"
    }
   ],
   "source": [
    "team_standard_radar[team_standard_radar['VARIABLE'] == \"NPxG/Game\"].sort_values(by='NORM_VALUE', ascending=False)"
   ]
  },
  {
   "cell_type": "code",
   "execution_count": 51,
   "metadata": {},
   "outputs": [
    {
     "data": {
      "text/plain": [
       "(2456, 6)"
      ]
     },
     "execution_count": 51,
     "metadata": {},
     "output_type": "execute_result"
    }
   ],
   "source": [
    "team_defending_radar.shape"
   ]
  },
  {
   "cell_type": "code",
   "execution_count": 52,
   "metadata": {},
   "outputs": [
    {
     "data": {
      "text/plain": [
       "(2456, 6)"
      ]
     },
     "execution_count": 52,
     "metadata": {},
     "output_type": "execute_result"
    }
   ],
   "source": [
    "team_standard_radar.shape"
   ]
  },
  {
   "cell_type": "code",
   "execution_count": 53,
   "metadata": {},
   "outputs": [
    {
     "data": {
      "text/plain": [
       "(2456, 6)"
      ]
     },
     "execution_count": 53,
     "metadata": {},
     "output_type": "execute_result"
    }
   ],
   "source": [
    "team_attacking_radar.shape"
   ]
  },
  {
   "cell_type": "code",
   "execution_count": null,
   "metadata": {},
   "outputs": [],
   "source": []
  }
 ],
 "metadata": {
  "kernelspec": {
   "display_name": "footy",
   "language": "python",
   "name": "python3"
  },
  "language_info": {
   "codemirror_mode": {
    "name": "ipython",
    "version": 3
   },
   "file_extension": ".py",
   "mimetype": "text/x-python",
   "name": "python",
   "nbconvert_exporter": "python",
   "pygments_lexer": "ipython3",
   "version": "3.11.5"
  }
 },
 "nbformat": 4,
 "nbformat_minor": 2
}
