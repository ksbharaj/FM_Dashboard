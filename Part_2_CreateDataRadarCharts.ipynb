{
 "cells": [
  {
   "cell_type": "code",
   "execution_count": 70,
   "metadata": {},
   "outputs": [],
   "source": [
    "import pandas as pd\n",
    "import numpy as np\n",
    "from sklearn.preprocessing import MinMaxScaler\n",
    "from snowflake.connector.pandas_tools import write_pandas\n",
    "from sqlalchemy import create_engine\n",
    "import snowflake.connector"
   ]
  },
  {
   "cell_type": "code",
   "execution_count": 71,
   "metadata": {},
   "outputs": [],
   "source": [
    "import snowflake.connector"
   ]
  },
  {
   "cell_type": "code",
   "execution_count": 72,
   "metadata": {},
   "outputs": [],
   "source": [
    "## Set options to view all columns\n",
    "pd.set_option('display.max_columns', None)"
   ]
  },
  {
   "cell_type": "code",
   "execution_count": 73,
   "metadata": {},
   "outputs": [],
   "source": [
    "SNOWFLAKE_USER = 'kbharaj3'\n",
    "SNOWFLAKE_PASSWORD = 'Snowfl@key0014'\n",
    "SNOWFLAKE_ACCOUNT = 'qx25653.ca-central-1.aws'\n",
    "SNOWFLAKE_WAREHOUSE = 'FOOTY_STORE'\n",
    "SNOWFLAKE_DATABASE = 'GEGENSTATS'\n",
    "SNOWFLAKE_SCHEMA = 'TABLES'"
   ]
  },
  {
   "cell_type": "code",
   "execution_count": 74,
   "metadata": {},
   "outputs": [],
   "source": [
    "conn = snowflake.connector.connect(\n",
    "    user=SNOWFLAKE_USER,\n",
    "    password=SNOWFLAKE_PASSWORD,\n",
    "    account=SNOWFLAKE_ACCOUNT,\n",
    "    warehouse=SNOWFLAKE_WAREHOUSE,\n",
    "    database=SNOWFLAKE_DATABASE,\n",
    "    schema=SNOWFLAKE_SCHEMA\n",
    ")"
   ]
  },
  {
   "cell_type": "code",
   "execution_count": 75,
   "metadata": {},
   "outputs": [],
   "source": [
    "cursor = conn.cursor()"
   ]
  },
  {
   "cell_type": "code",
   "execution_count": 99,
   "metadata": {},
   "outputs": [],
   "source": [
    "cursor.execute('SELECT * FROM TEAMS')\n",
    "team_rows = cursor.fetchall()\n",
    "column_names = [desc[0] for desc in cursor.description]\n",
    "team_names = pd.DataFrame(team_rows, columns=column_names)"
   ]
  },
  {
   "cell_type": "code",
   "execution_count": 100,
   "metadata": {},
   "outputs": [],
   "source": [
    "cursor.execute('SELECT * FROM TEAM_STANDARD_STATS')\n",
    "standard_rows = cursor.fetchall()\n",
    "column_names = [desc[0] for desc in cursor.description]\n",
    "team_standard = pd.DataFrame(standard_rows, columns=column_names)"
   ]
  },
  {
   "cell_type": "code",
   "execution_count": 101,
   "metadata": {},
   "outputs": [],
   "source": [
    "cursor.execute('SELECT * FROM TEAM_ATTACKING_STATS')\n",
    "attacking_rows = cursor.fetchall()\n",
    "column_names = [desc[0] for desc in cursor.description]\n",
    "team_attacking = pd.DataFrame(attacking_rows, columns=column_names)"
   ]
  },
  {
   "cell_type": "code",
   "execution_count": 102,
   "metadata": {},
   "outputs": [],
   "source": [
    "cursor.execute('SELECT * FROM TEAM_DEFENDING_STATS')\n",
    "defending_rows = cursor.fetchall()\n",
    "column_names = [desc[0] for desc in cursor.description]\n",
    "team_defending = pd.DataFrame(defending_rows, columns=column_names)"
   ]
  },
  {
   "cell_type": "code",
   "execution_count": 103,
   "metadata": {},
   "outputs": [],
   "source": [
    "cursor.execute('SELECT * FROM COMPETITIONS')\n",
    "competition_rows = cursor.fetchall()\n",
    "column_names = [desc[0] for desc in cursor.description]\n",
    "df_competitions = pd.DataFrame(competition_rows, columns=column_names)"
   ]
  },
  {
   "cell_type": "code",
   "execution_count": 104,
   "metadata": {},
   "outputs": [],
   "source": [
    "team_names.drop(['TEAM_LOGO_URL'], axis=1, inplace=True)"
   ]
  },
  {
   "cell_type": "code",
   "execution_count": 105,
   "metadata": {},
   "outputs": [],
   "source": [
    "team_standard = team_standard.merge(team_names, on='TEAM_FBREF_ID', how='left')\n",
    "team_defending = team_defending.merge(team_names, on='TEAM_FBREF_ID', how='left')\n",
    "team_attacking = team_attacking.merge(team_names, on='TEAM_FBREF_ID', how='left')"
   ]
  },
  {
   "cell_type": "code",
   "execution_count": 106,
   "metadata": {},
   "outputs": [],
   "source": [
    "team_attacking = team_attacking.merge(team_standard, on=['TEAM_FBREF_ID','SEASON','TEAM_NAME','COMPETITION'], how='left')\n",
    "team_defending = team_defending.merge(team_standard, on=['TEAM_FBREF_ID','SEASON','TEAM_NAME', 'COMPETITION'], how='left')"
   ]
  },
  {
   "cell_type": "code",
   "execution_count": 107,
   "metadata": {},
   "outputs": [],
   "source": [
    "team_attacking = team_attacking.merge(df_competitions[['COMPETITION','COMPETITION_ACRONYM','SEASON']], \n",
    "                                      on=['COMPETITION','SEASON'], how='left')\n",
    "team_defending = team_defending.merge(df_competitions[['COMPETITION','COMPETITION_ACRONYM','SEASON']], \n",
    "                                      on=['COMPETITION','SEASON'], how='left')"
   ]
  },
  {
   "cell_type": "code",
   "execution_count": 108,
   "metadata": {},
   "outputs": [],
   "source": [
    "team_attacking['Goals/Game'] = team_attacking['GOALS_SCORED']/team_attacking['MATCHES_PLAYED']\n",
    "team_attacking['Pass Completion (%)'] = team_attacking['PASS_COMPLETED']*100/team_attacking['PASS_ATTEMPTED']\n",
    "team_attacking['Fouls Against/Game'] = team_attacking['FOULS_AGAINST']/team_attacking['MATCHES_PLAYED']\n",
    "team_attacking['NPxG/Game'] = team_attacking['NPXG']/team_attacking['MATCHES_PLAYED']\n",
    "team_attacking['Shots/Game'] = team_attacking['SHOTS']/team_attacking['MATCHES_PLAYED']\n",
    "team_attacking['Shots On Target (%)'] = team_attacking['SHOTS_ON_TARGET']*100/team_attacking['SHOTS']\n",
    "team_attacking['Take_ons Attempted/Game'] = team_attacking['TAKEONS_ATTEMPTED']/team_attacking['MATCHES_PLAYED']\n",
    "team_attacking['Crosses into Pen Area'] = team_attacking['CROSSES_INTO_PA']"
   ]
  },
  {
   "cell_type": "code",
   "execution_count": 109,
   "metadata": {},
   "outputs": [],
   "source": [
    "# team_defending['Clearances/Game'] = team_defending['CLEARANCES']/team_defending['MATCHES_PLAYED']\n",
    "team_defending['Fouls Made/Game'] = team_defending['FOULS_MADE']/team_defending['MATCHES_PLAYED']\n",
    "team_defending['Conceded/Game'] = team_defending['GOALS_CONCEDED']/team_defending['MATCHES_PLAYED']\n",
    "team_defending['xG Against/Game'] = team_defending['XG_AGAINST']/team_defending['MATCHES_PLAYED']\n",
    "# team_defending['Tackles Attempted/Game'] = team_defending['TACKLES']/team_defending['MATCHES_PLAYED']\n",
    "team_defending['Tackles Won (%)'] = team_defending['TACKLES_WON']*100/team_defending['TACKLES']\n",
    "# team_defending['Interceptions/Game'] = team_defending['INTERCEPTIONS']/team_defending['MATCHES_PLAYED']\n",
    "# team_defending['Blocked Shots/Game'] = team_defending['BLOCKED_SHOTS']/team_defending['MATCHES_PLAYED']\n",
    "team_defending['Possession Won'] = team_defending['POSS_WON']\n",
    "team_defending['Opposition PPDA'] = team_defending['OPP_PPDA']\n",
    "team_defending['Final 3rd Passes Against/Game'] = team_defending['FINAL_3RD_PASSES_AGAINST']/team_defending['MATCHES_PLAYED']\n",
    "team_defending['Clean Sheets'] = team_defending['CLEAN_SHEETS']"
   ]
  },
  {
   "cell_type": "code",
   "execution_count": 110,
   "metadata": {},
   "outputs": [],
   "source": [
    "team_attacking= team_attacking[['SEASON', 'TEAM_NAME','COMPETITION_ACRONYM' ,'Goals/Game', 'Pass Completion (%)', 'Fouls Against/Game', 'NPxG/Game', \n",
    "                                'Shots/Game', 'Shots On Target (%)', 'Take_ons Attempted/Game', 'Crosses into Pen Area']]\n"
   ]
  },
  {
   "cell_type": "code",
   "execution_count": 111,
   "metadata": {},
   "outputs": [],
   "source": [
    "# team_defending= team_defending[['SEASON', 'TEAM_NAME','COMPETITION_ACRONYM' ,'Clearances/Game', 'Fouls Made/Game', 'Conceded/Game', 'xG Against/Game',\n",
    "#                                 'Tackles Attempted/Game', 'Tackles Won (%)', 'Interceptions/Game', 'Blocked Shots/Game','Possession Won', \n",
    "#                                 'Opposition PPDA', 'Final 3rd Passes Against/Game', 'Clean Sheets']]\n",
    "\n",
    "team_defending= team_defending[['SEASON', 'TEAM_NAME','COMPETITION_ACRONYM','MATCHES_PLAYED' ,'Fouls Made/Game', 'Conceded/Game', \n",
    "                                'xG Against/Game', 'Tackles Won (%)', 'Possession Won', \n",
    "                                'Opposition PPDA', 'Final 3rd Passes Against/Game', 'Clean Sheets']]"
   ]
  },
  {
   "cell_type": "code",
   "execution_count": 112,
   "metadata": {},
   "outputs": [],
   "source": [
    "team_attacking_average = team_attacking.drop(columns=['TEAM_NAME']).groupby(['SEASON', 'COMPETITION_ACRONYM']).mean().reset_index()\n",
    "team_attacking_average['TEAM_NAME'] = team_attacking_average['COMPETITION_ACRONYM'] +'_'+ team_attacking_average['SEASON'].astype(str) + '_Average'\n",
    "team_attacking = pd.concat([team_attacking, team_attacking_average], ignore_index=True)"
   ]
  },
  {
   "cell_type": "code",
   "execution_count": 113,
   "metadata": {},
   "outputs": [],
   "source": [
    "team_defending_average = team_defending.drop(columns=['TEAM_NAME']).groupby(['SEASON', 'COMPETITION_ACRONYM']).mean().reset_index()\n",
    "team_defending_average['TEAM_NAME'] = team_defending_average['COMPETITION_ACRONYM'] +'_'+ team_defending_average['SEASON'].astype(str) + '_Average'\n",
    "team_defending = pd.concat([team_defending, team_defending_average], ignore_index=True)"
   ]
  },
  {
   "cell_type": "code",
   "execution_count": 116,
   "metadata": {},
   "outputs": [],
   "source": [
    "scaler = MinMaxScaler()\n",
    "team_defending_scaled = (team_defending.drop(['TEAM_NAME','SEASON','COMPETITION_ACRONYM','MATCHES_PLAYED'], axis=1))\n",
    "team_defending_scaled_1 = team_defending_scaled.drop(['Fouls Made/Game', 'Conceded/Game', 'xG Against/Game', \n",
    "                                                      'Final 3rd Passes Against/Game','Opposition PPDA'], axis=1)\n",
    "team_defending_scaled_2 = team_defending_scaled[['Fouls Made/Game', 'Conceded/Game', 'xG Against/Game', \n",
    "                                                 'Final 3rd Passes Against/Game','Opposition PPDA']]"
   ]
  },
  {
   "cell_type": "code",
   "execution_count": 119,
   "metadata": {},
   "outputs": [
    {
     "data": {
      "text/plain": [
       "0     38.0\n",
       "1     38.0\n",
       "2     38.0\n",
       "3     38.0\n",
       "4     38.0\n",
       "      ... \n",
       "58    20.0\n",
       "59    20.0\n",
       "60    38.0\n",
       "61    38.0\n",
       "62    20.3\n",
       "Name: MATCHES_PLAYED, Length: 63, dtype: float64"
      ]
     },
     "execution_count": 119,
     "metadata": {},
     "output_type": "execute_result"
    }
   ],
   "source": [
    "team_defending['MATCHES_PLAYED']"
   ]
  },
  {
   "cell_type": "code",
   "execution_count": 123,
   "metadata": {},
   "outputs": [],
   "source": [
    "team_defending_scaled_1['Possession Won'] = team_defending_scaled_1['Possession Won']/team_defending['MATCHES_PLAYED']\n",
    "team_defending_scaled_1['Clean Sheets'] = team_defending_scaled_1['Clean Sheets']/team_defending['MATCHES_PLAYED']"
   ]
  },
  {
   "cell_type": "code",
   "execution_count": 124,
   "metadata": {},
   "outputs": [
    {
     "data": {
      "text/html": [
       "<div>\n",
       "<style scoped>\n",
       "    .dataframe tbody tr th:only-of-type {\n",
       "        vertical-align: middle;\n",
       "    }\n",
       "\n",
       "    .dataframe tbody tr th {\n",
       "        vertical-align: top;\n",
       "    }\n",
       "\n",
       "    .dataframe thead th {\n",
       "        text-align: right;\n",
       "    }\n",
       "</style>\n",
       "<table border=\"1\" class=\"dataframe\">\n",
       "  <thead>\n",
       "    <tr style=\"text-align: right;\">\n",
       "      <th></th>\n",
       "      <th>Tackles Won (%)</th>\n",
       "      <th>Possession Won</th>\n",
       "      <th>Clean Sheets</th>\n",
       "    </tr>\n",
       "  </thead>\n",
       "  <tbody>\n",
       "    <tr>\n",
       "      <th>0</th>\n",
       "      <td>57.592593</td>\n",
       "      <td>87.289474</td>\n",
       "      <td>0.342105</td>\n",
       "    </tr>\n",
       "    <tr>\n",
       "      <th>1</th>\n",
       "      <td>60.252366</td>\n",
       "      <td>93.736842</td>\n",
       "      <td>0.289474</td>\n",
       "    </tr>\n",
       "    <tr>\n",
       "      <th>2</th>\n",
       "      <td>56.342669</td>\n",
       "      <td>102.526316</td>\n",
       "      <td>0.236842</td>\n",
       "    </tr>\n",
       "    <tr>\n",
       "      <th>3</th>\n",
       "      <td>60.329341</td>\n",
       "      <td>104.315789</td>\n",
       "      <td>0.289474</td>\n",
       "    </tr>\n",
       "    <tr>\n",
       "      <th>4</th>\n",
       "      <td>54.915254</td>\n",
       "      <td>107.815789</td>\n",
       "      <td>0.236842</td>\n",
       "    </tr>\n",
       "    <tr>\n",
       "      <th>...</th>\n",
       "      <td>...</td>\n",
       "      <td>...</td>\n",
       "      <td>...</td>\n",
       "    </tr>\n",
       "    <tr>\n",
       "      <th>58</th>\n",
       "      <td>66.123779</td>\n",
       "      <td>90.100000</td>\n",
       "      <td>0.250000</td>\n",
       "    </tr>\n",
       "    <tr>\n",
       "      <th>59</th>\n",
       "      <td>59.411765</td>\n",
       "      <td>88.450000</td>\n",
       "      <td>0.150000</td>\n",
       "    </tr>\n",
       "    <tr>\n",
       "      <th>60</th>\n",
       "      <td>57.581447</td>\n",
       "      <td>99.453947</td>\n",
       "      <td>0.278947</td>\n",
       "    </tr>\n",
       "    <tr>\n",
       "      <th>61</th>\n",
       "      <td>58.335138</td>\n",
       "      <td>97.877632</td>\n",
       "      <td>0.272368</td>\n",
       "    </tr>\n",
       "    <tr>\n",
       "      <th>62</th>\n",
       "      <td>58.790002</td>\n",
       "      <td>82.825123</td>\n",
       "      <td>0.216749</td>\n",
       "    </tr>\n",
       "  </tbody>\n",
       "</table>\n",
       "<p>63 rows × 3 columns</p>\n",
       "</div>"
      ],
      "text/plain": [
       "    Tackles Won (%)  Possession Won  Clean Sheets\n",
       "0         57.592593       87.289474      0.342105\n",
       "1         60.252366       93.736842      0.289474\n",
       "2         56.342669      102.526316      0.236842\n",
       "3         60.329341      104.315789      0.289474\n",
       "4         54.915254      107.815789      0.236842\n",
       "..              ...             ...           ...\n",
       "58        66.123779       90.100000      0.250000\n",
       "59        59.411765       88.450000      0.150000\n",
       "60        57.581447       99.453947      0.278947\n",
       "61        58.335138       97.877632      0.272368\n",
       "62        58.790002       82.825123      0.216749\n",
       "\n",
       "[63 rows x 3 columns]"
      ]
     },
     "execution_count": 124,
     "metadata": {},
     "output_type": "execute_result"
    }
   ],
   "source": [
    "team_defending_scaled_1"
   ]
  },
  {
   "cell_type": "code",
   "execution_count": 44,
   "metadata": {},
   "outputs": [],
   "source": [
    "scaler = MinMaxScaler()\n",
    "team_defending_scaled = (team_defending.drop(['TEAM_NAME','SEASON','COMPETITION_ACRONYM'], axis=1))\n",
    "team_defending_scaled_1 = team_defending_scaled.drop(['Fouls Made/Game', 'Conceded/Game', 'xG Against/Game', \n",
    "                                                      'Final 3rd Passes Against/Game','Opposition PPDA'], axis=1)\n",
    "team_defending_scaled_2 = team_defending_scaled[['Fouls Made/Game', 'Conceded/Game', 'xG Against/Game', \n",
    "                                                 'Final 3rd Passes Against/Game','Opposition PPDA']]\n",
    "team_defending_scaled_1['Possession Won'] = team_defending_scaled_1['Possession Won']/team_defending['MATCHES_PLAYED']\n",
    "team_defending_scaled_1['Clean Sheets'] = team_defending_scaled_1['Clean Sheets']/team_defending['MATCHES_PLAYED']\n",
    "team_defending_scaled_1 = pd.DataFrame(scaler.fit_transform(team_defending_scaled_1), columns=team_defending_scaled_1.columns)"
   ]
  },
  {
   "cell_type": "code",
   "execution_count": 45,
   "metadata": {},
   "outputs": [],
   "source": [
    "scaler = MinMaxScaler()\n",
    "team_defending_scaled_2 = pd.DataFrame(scaler.fit_transform(team_defending_scaled_2), columns=team_defending_scaled_2.columns)\n",
    "team_defending_scaled_2 = pd.DataFrame(scaler.fit_transform(1-team_defending_scaled_2), columns=team_defending_scaled_2.columns)\n",
    "team_defending_scaled_2 = pd.DataFrame(scaler.inverse_transform(team_defending_scaled_2), columns=team_defending_scaled_2.columns)\n",
    "team_defending_scaled = pd.concat([team_defending_scaled_1, team_defending_scaled_2], axis=1)"
   ]
  },
  {
   "cell_type": "code",
   "execution_count": 46,
   "metadata": {},
   "outputs": [],
   "source": [
    "team_defending_scaled = pd.concat([team_defending[['TEAM_NAME','SEASON','COMPETITION_ACRONYM']], team_defending_scaled], axis=1)"
   ]
  },
  {
   "cell_type": "code",
   "execution_count": 47,
   "metadata": {},
   "outputs": [],
   "source": [
    "# scaler = MinMaxScaler()\n",
    "# team_defending_scaled = (team_defending.drop(['TEAM_NAME','SEASON'], axis=1))\n",
    "# team_defending_scaled_1 = team_defending_scaled.drop(['Fouls Made/Game', 'Conceded/Game', 'xG Against/Game'], axis=1)\n",
    "# team_defending_scaled_2 = team_defending_scaled[['Fouls Made/Game', 'Conceded/Game', 'xG Against/Game']]\n",
    "# team_defending_scaled_1 = pd.DataFrame(scaler.fit_transform(team_defending_scaled_1), columns=team_defending_scaled_1.columns)\n",
    "# scaler = MinMaxScaler()\n",
    "# team_defending_scaled_2 = pd.DataFrame(scaler.fit_transform(team_defending_scaled_2), columns=team_defending_scaled_2.columns)\n",
    "# team_defending_scaled_2 = pd.DataFrame(scaler.fit_transform(1-team_defending_scaled_2), columns=team_defending_scaled_2.columns)\n",
    "# team_defending_scaled_2 = pd.DataFrame(scaler.inverse_transform(team_defending_scaled_2), columns=team_defending_scaled_2.columns)\n",
    "# team_defending_scaled = pd.concat([team_defending_scaled_1, team_defending_scaled_2], axis=1)\n",
    "# team_defending_scaled = pd.concat([team_defending[['TEAM_NAME','SEASON']], team_defending_scaled], axis=1)"
   ]
  },
  {
   "cell_type": "code",
   "execution_count": 48,
   "metadata": {},
   "outputs": [],
   "source": [
    "scaler = MinMaxScaler()\n",
    "team_attacking_scaled = (team_attacking.drop(['TEAM_NAME','SEASON','COMPETITION_ACRONYM'], axis=1))\n",
    "team_attacking_scaled = pd.DataFrame(scaler.fit_transform(team_attacking_scaled), columns=team_attacking_scaled.columns)\n",
    "team_attacking_scaled = pd.concat([team_attacking[['TEAM_NAME','SEASON','COMPETITION_ACRONYM']], team_attacking_scaled], axis=1)"
   ]
  },
  {
   "cell_type": "code",
   "execution_count": 49,
   "metadata": {},
   "outputs": [],
   "source": [
    "team_attacking_radar_1 = team_attacking_scaled.melt(id_vars=[\"SEASON\", \"TEAM_NAME\",\"COMPETITION_ACRONYM\"]).sort_values(\n",
    "                        by=[\"COMPETITION_ACRONYM\",\"SEASON\",\"TEAM_NAME\"]).rename(columns={'value':'norm_value'})\n",
    "team_attacking_radar_2 = team_attacking.melt(id_vars=[\"SEASON\", \"TEAM_NAME\",\"COMPETITION_ACRONYM\"]).sort_values(\n",
    "                        by=[\"COMPETITION_ACRONYM\",\"SEASON\",\"TEAM_NAME\"])"
   ]
  },
  {
   "cell_type": "code",
   "execution_count": 50,
   "metadata": {},
   "outputs": [],
   "source": [
    "team_defending_radar_1 = team_defending_scaled.melt(id_vars=[\"SEASON\", \"TEAM_NAME\",\"COMPETITION_ACRONYM\"]).sort_values(\n",
    "                        by=[\"COMPETITION_ACRONYM\",\"SEASON\",\"TEAM_NAME\"]).rename(columns={'value':'norm_value'})\n",
    "team_defending_radar_2 = team_defending.melt(id_vars=[\"SEASON\", \"TEAM_NAME\",\"COMPETITION_ACRONYM\"]).sort_values(\n",
    "                        by=[\"COMPETITION_ACRONYM\",\"SEASON\",\"TEAM_NAME\"])"
   ]
  },
  {
   "cell_type": "code",
   "execution_count": 51,
   "metadata": {},
   "outputs": [],
   "source": [
    "team_defending_radar = team_defending_radar_1.merge(team_defending_radar_2, on=['SEASON','TEAM_NAME','COMPETITION_ACRONYM','variable'], how='left')\n",
    "team_attacking_radar = team_attacking_radar_1.merge(team_attacking_radar_2, on=['SEASON','TEAM_NAME','COMPETITION_ACRONYM','variable'], how='left')"
   ]
  },
  {
   "cell_type": "code",
   "execution_count": 52,
   "metadata": {},
   "outputs": [],
   "source": [
    "team_standard_radar_1 = team_attacking_scaled[['TEAM_NAME','SEASON','COMPETITION_ACRONYM','Pass Completion (%)','Goals/Game',\n",
    "                                               'NPxG/Game','Shots/Game','Shots On Target (%)']]\n",
    "team_standard_radar_2 = team_attacking[['TEAM_NAME','SEASON','COMPETITION_ACRONYM','Pass Completion (%)','Goals/Game','NPxG/Game',\n",
    "                                               'Shots/Game','Shots On Target (%)']]\n",
    "team_standard_radar_3 = team_defending_scaled[['TEAM_NAME','SEASON','COMPETITION_ACRONYM','Tackles Won (%)', 'Conceded/Game', \n",
    "                                               'xG Against/Game']]\n",
    "team_standard_radar_4 = team_defending[['TEAM_NAME','SEASON','COMPETITION_ACRONYM','Tackles Won (%)', 'Conceded/Game', \n",
    "                                        'xG Against/Game']]"
   ]
  },
  {
   "cell_type": "code",
   "execution_count": 53,
   "metadata": {},
   "outputs": [],
   "source": [
    "team_standard_radar_5 = team_standard_radar_1.merge(team_standard_radar_3, on=['TEAM_NAME','SEASON','COMPETITION_ACRONYM'], how='left')\n",
    "team_standard_radar_6 = team_standard_radar_2.merge(team_standard_radar_4, on=['TEAM_NAME','SEASON','COMPETITION_ACRONYM'], how='left')"
   ]
  },
  {
   "cell_type": "code",
   "execution_count": 54,
   "metadata": {},
   "outputs": [],
   "source": [
    "team_standard_radar_5 = team_standard_radar_5.melt(id_vars=[\"SEASON\", \"TEAM_NAME\", \"COMPETITION_ACRONYM\"]).sort_values(\n",
    "    by=[\"COMPETITION_ACRONYM\",\"SEASON\",\"TEAM_NAME\"]).rename(columns={'value':'norm_value'})"
   ]
  },
  {
   "cell_type": "code",
   "execution_count": 55,
   "metadata": {},
   "outputs": [],
   "source": [
    "team_standard_radar_6 = team_standard_radar_6.melt(id_vars=[\"SEASON\", \"TEAM_NAME\", \"COMPETITION_ACRONYM\"]).sort_values(\n",
    "    by=[\"COMPETITION_ACRONYM\",\"SEASON\",\"TEAM_NAME\"])"
   ]
  },
  {
   "cell_type": "code",
   "execution_count": 56,
   "metadata": {},
   "outputs": [],
   "source": [
    "team_standard_radar = team_standard_radar_5.merge(team_standard_radar_6, on=['SEASON','TEAM_NAME','COMPETITION_ACRONYM','variable'], how='left')"
   ]
  },
  {
   "cell_type": "code",
   "execution_count": 57,
   "metadata": {},
   "outputs": [],
   "source": [
    "team_defending_radar.rename(columns={'variable':'VARIABLE','norm_value':\"NORM_VALUE\",\n",
    "                                     'value':'VALUE'}, inplace=True)"
   ]
  },
  {
   "cell_type": "code",
   "execution_count": 58,
   "metadata": {},
   "outputs": [],
   "source": [
    "team_attacking_radar.rename(columns={'variable':'VARIABLE','norm_value':\"NORM_VALUE\",\n",
    "                                     'value':'VALUE'}, inplace=True)"
   ]
  },
  {
   "cell_type": "code",
   "execution_count": 59,
   "metadata": {},
   "outputs": [],
   "source": [
    "team_standard_radar.rename(columns={'variable':'VARIABLE','norm_value':\"NORM_VALUE\",\n",
    "                                     'value':'VALUE'}, inplace=True)"
   ]
  },
  {
   "cell_type": "markdown",
   "metadata": {},
   "source": [
    "Upload to Snowflake now"
   ]
  },
  {
   "cell_type": "code",
   "execution_count": 60,
   "metadata": {},
   "outputs": [],
   "source": [
    "SNOWFLAKE_USER = 'kbharaj3'\n",
    "SNOWFLAKE_PASSWORD = 'Snowfl@key0014'\n",
    "SNOWFLAKE_ACCOUNT = 'qx25653.ca-central-1.aws'\n",
    "SNOWFLAKE_WAREHOUSE = 'FOOTY_STORE'\n",
    "SNOWFLAKE_DATABASE = 'GEGENSTATS'\n",
    "SNOWFLAKE_SCHEMA = 'RADAR_CHARTS'"
   ]
  },
  {
   "cell_type": "code",
   "execution_count": 61,
   "metadata": {},
   "outputs": [],
   "source": [
    "conn = snowflake.connector.connect(\n",
    "    user=SNOWFLAKE_USER,\n",
    "    password=SNOWFLAKE_PASSWORD,\n",
    "    account=SNOWFLAKE_ACCOUNT,\n",
    "    warehouse=SNOWFLAKE_WAREHOUSE,\n",
    "    database=SNOWFLAKE_DATABASE,\n",
    "    schema=SNOWFLAKE_SCHEMA\n",
    "    )"
   ]
  },
  {
   "cell_type": "code",
   "execution_count": 62,
   "metadata": {},
   "outputs": [
    {
     "data": {
      "text/plain": [
       "<snowflake.connector.cursor.SnowflakeCursor at 0x205d88baf50>"
      ]
     },
     "execution_count": 62,
     "metadata": {},
     "output_type": "execute_result"
    }
   ],
   "source": [
    "cur = conn.cursor()\n",
    "cur.execute(f\"USE WAREHOUSE {SNOWFLAKE_WAREHOUSE}\")"
   ]
  },
  {
   "cell_type": "code",
   "execution_count": 63,
   "metadata": {},
   "outputs": [
    {
     "data": {
      "text/plain": [
       "<snowflake.connector.cursor.SnowflakeCursor at 0x205d88baf50>"
      ]
     },
     "execution_count": 63,
     "metadata": {},
     "output_type": "execute_result"
    }
   ],
   "source": [
    "create_schema_sql = f\"CREATE SCHEMA IF NOT EXISTS {SNOWFLAKE_SCHEMA}\"\n",
    "cur.execute(create_schema_sql)"
   ]
  },
  {
   "cell_type": "code",
   "execution_count": 219,
   "metadata": {},
   "outputs": [],
   "source": [
    "create_table_query = \"\"\"\n",
    "CREATE TABLE IF NOT EXISTS STANDARD_RADAR (\n",
    "    SEASON INT,\n",
    "    TEAM_NAME VARCHAR(255),\n",
    "    COMPETITION_ACRONYM VARCHAR(255),\n",
    "    VARIABLE VARCHAR(255),\n",
    "    NORM_VALUE FLOAT,\n",
    "    VALUE FLOAT,\n",
    "    PRIMARY KEY (SEASON, COMPETITION_ACRONYM, TEAM_NAME, VARIABLE)\n",
    ");\n",
    "\"\"\""
   ]
  },
  {
   "cell_type": "code",
   "execution_count": 220,
   "metadata": {},
   "outputs": [
    {
     "data": {
      "text/plain": [
       "<snowflake.connector.cursor.SnowflakeCursor at 0x242dceb2390>"
      ]
     },
     "execution_count": 220,
     "metadata": {},
     "output_type": "execute_result"
    }
   ],
   "source": [
    "cur.execute(create_table_query)"
   ]
  },
  {
   "cell_type": "code",
   "execution_count": 64,
   "metadata": {},
   "outputs": [],
   "source": [
    "def insert_to_snowflake_DB(primary_keys, table_name, dataframe, replace=False):\n",
    "    if replace:\n",
    "        cur.execute(f\"TRUNCATE TABLE {table_name}\")\n",
    "        success, nchunks, nrows, _ = write_pandas(conn, dataframe, table_name)\n",
    "    else:\n",
    "        cur.execute(f\"SELECT {', '.join(primary_keys)} FROM {table_name}\")\n",
    "        existing_ids = cur.fetchall()\n",
    "        existing_ids = [id for id in existing_ids]\n",
    "        dataframe.set_index(primary_keys, inplace=True)\n",
    "        new_rows = dataframe[~dataframe.index.isin(existing_ids)]\n",
    "        new_rows.reset_index(inplace=True)\n",
    "        dataframe.reset_index(inplace=True)\n",
    "        if not new_rows.empty:\n",
    "            success, nchunks, nrows, _ = write_pandas(conn, new_rows, table_name)\n",
    "            print(f\"Inserted {nrows} new rows\")\n",
    "        else:\n",
    "            print(\"No new rows to insert\")"
   ]
  },
  {
   "cell_type": "code",
   "execution_count": 50,
   "metadata": {},
   "outputs": [],
   "source": [
    "insert_to_snowflake_DB(['SEASON','COMPETITION_ACRONYM','TEAM_NAME','VARIABLE'], 'STANDARD_RADAR', team_standard_radar, \n",
    "                       replace=True)"
   ]
  },
  {
   "cell_type": "code",
   "execution_count": 223,
   "metadata": {},
   "outputs": [],
   "source": [
    "create_table_query = \"\"\"\n",
    "CREATE TABLE IF NOT EXISTS ATTACKING_RADAR (\n",
    "    SEASON INT,\n",
    "    TEAM_NAME VARCHAR(255),\n",
    "    COMPETITION_ACRONYM VARCHAR(255),\n",
    "    VARIABLE VARCHAR(255),\n",
    "    NORM_VALUE FLOAT,\n",
    "    VALUE FLOAT,\n",
    "    PRIMARY KEY (SEASON, COMPETITION_ACRONYM, TEAM_NAME, VARIABLE)\n",
    ");\n",
    "\"\"\""
   ]
  },
  {
   "cell_type": "code",
   "execution_count": 51,
   "metadata": {},
   "outputs": [
    {
     "ename": "NameError",
     "evalue": "name 'create_table_query' is not defined",
     "output_type": "error",
     "traceback": [
      "\u001b[1;31m---------------------------------------------------------------------------\u001b[0m",
      "\u001b[1;31mNameError\u001b[0m                                 Traceback (most recent call last)",
      "Cell \u001b[1;32mIn[51], line 1\u001b[0m\n\u001b[1;32m----> 1\u001b[0m cur\u001b[38;5;241m.\u001b[39mexecute(\u001b[43mcreate_table_query\u001b[49m)\n",
      "\u001b[1;31mNameError\u001b[0m: name 'create_table_query' is not defined"
     ]
    }
   ],
   "source": [
    "cur.execute(create_table_query)"
   ]
  },
  {
   "cell_type": "code",
   "execution_count": 52,
   "metadata": {},
   "outputs": [],
   "source": [
    "insert_to_snowflake_DB(['SEASON','COMPETITION_ACRONYM','TEAM_NAME','VARIABLE'], 'ATTACKING_RADAR', team_attacking_radar, \n",
    "                       replace=True)"
   ]
  },
  {
   "cell_type": "code",
   "execution_count": 226,
   "metadata": {},
   "outputs": [],
   "source": [
    "create_table_query = \"\"\"\n",
    "CREATE TABLE IF NOT EXISTS DEFENDING_RADAR (\n",
    "    SEASON INT,\n",
    "    TEAM_NAME VARCHAR(255),\n",
    "    COMPETITION_ACRONYM VARCHAR(255),\n",
    "    VARIABLE VARCHAR(255),\n",
    "    NORM_VALUE FLOAT,\n",
    "    VALUE FLOAT,\n",
    "    PRIMARY KEY (SEASON, TEAM_NAME, VARIABLE)\n",
    ");\n",
    "\"\"\""
   ]
  },
  {
   "cell_type": "code",
   "execution_count": 227,
   "metadata": {},
   "outputs": [
    {
     "data": {
      "text/plain": [
       "<snowflake.connector.cursor.SnowflakeCursor at 0x242dceb2390>"
      ]
     },
     "execution_count": 227,
     "metadata": {},
     "output_type": "execute_result"
    }
   ],
   "source": [
    "cur.execute(create_table_query)"
   ]
  },
  {
   "cell_type": "code",
   "execution_count": 67,
   "metadata": {},
   "outputs": [],
   "source": [
    "insert_to_snowflake_DB(['SEASON','COMPETITION_ACRONYM','TEAM_NAME', 'VARIABLE'], 'DEFENDING_RADAR', team_defending_radar, \n",
    "                       replace=True)"
   ]
  },
  {
   "cell_type": "code",
   "execution_count": 66,
   "metadata": {},
   "outputs": [
    {
     "data": {
      "text/html": [
       "<div>\n",
       "<style scoped>\n",
       "    .dataframe tbody tr th:only-of-type {\n",
       "        vertical-align: middle;\n",
       "    }\n",
       "\n",
       "    .dataframe tbody tr th {\n",
       "        vertical-align: top;\n",
       "    }\n",
       "\n",
       "    .dataframe thead th {\n",
       "        text-align: right;\n",
       "    }\n",
       "</style>\n",
       "<table border=\"1\" class=\"dataframe\">\n",
       "  <thead>\n",
       "    <tr style=\"text-align: right;\">\n",
       "      <th></th>\n",
       "      <th>SEASON</th>\n",
       "      <th>TEAM_NAME</th>\n",
       "      <th>COMPETITION_ACRONYM</th>\n",
       "      <th>VARIABLE</th>\n",
       "      <th>NORM_VALUE</th>\n",
       "      <th>VALUE</th>\n",
       "    </tr>\n",
       "  </thead>\n",
       "  <tbody>\n",
       "    <tr>\n",
       "      <th>0</th>\n",
       "      <td>2122</td>\n",
       "      <td>Arsenal</td>\n",
       "      <td>EPL</td>\n",
       "      <td>Tackles Won (%)</td>\n",
       "      <td>0.329692</td>\n",
       "      <td>57.592593</td>\n",
       "    </tr>\n",
       "    <tr>\n",
       "      <th>1</th>\n",
       "      <td>2122</td>\n",
       "      <td>Arsenal</td>\n",
       "      <td>EPL</td>\n",
       "      <td>Possession Won</td>\n",
       "      <td>0.691905</td>\n",
       "      <td>3317.000000</td>\n",
       "    </tr>\n",
       "    <tr>\n",
       "      <th>2</th>\n",
       "      <td>2122</td>\n",
       "      <td>Arsenal</td>\n",
       "      <td>EPL</td>\n",
       "      <td>Clean Sheets</td>\n",
       "      <td>0.600000</td>\n",
       "      <td>13.000000</td>\n",
       "    </tr>\n",
       "    <tr>\n",
       "      <th>3</th>\n",
       "      <td>2122</td>\n",
       "      <td>Arsenal</td>\n",
       "      <td>EPL</td>\n",
       "      <td>Fouls Made/Game</td>\n",
       "      <td>0.637646</td>\n",
       "      <td>9.605263</td>\n",
       "    </tr>\n",
       "    <tr>\n",
       "      <th>4</th>\n",
       "      <td>2122</td>\n",
       "      <td>Arsenal</td>\n",
       "      <td>EPL</td>\n",
       "      <td>Conceded/Game</td>\n",
       "      <td>0.672131</td>\n",
       "      <td>1.263158</td>\n",
       "    </tr>\n",
       "    <tr>\n",
       "      <th>5</th>\n",
       "      <td>2122</td>\n",
       "      <td>Arsenal</td>\n",
       "      <td>EPL</td>\n",
       "      <td>xG Against/Game</td>\n",
       "      <td>0.655285</td>\n",
       "      <td>1.273421</td>\n",
       "    </tr>\n",
       "    <tr>\n",
       "      <th>6</th>\n",
       "      <td>2122</td>\n",
       "      <td>Arsenal</td>\n",
       "      <td>EPL</td>\n",
       "      <td>Final 3rd Passes Against/Game</td>\n",
       "      <td>0.598878</td>\n",
       "      <td>26.210526</td>\n",
       "    </tr>\n",
       "    <tr>\n",
       "      <th>7</th>\n",
       "      <td>2122</td>\n",
       "      <td>Arsenal</td>\n",
       "      <td>EPL</td>\n",
       "      <td>Opposition PPDA</td>\n",
       "      <td>0.583496</td>\n",
       "      <td>13.940000</td>\n",
       "    </tr>\n",
       "    <tr>\n",
       "      <th>8</th>\n",
       "      <td>2122</td>\n",
       "      <td>Aston Villa</td>\n",
       "      <td>EPL</td>\n",
       "      <td>Tackles Won (%)</td>\n",
       "      <td>0.538674</td>\n",
       "      <td>60.252366</td>\n",
       "    </tr>\n",
       "    <tr>\n",
       "      <th>9</th>\n",
       "      <td>2122</td>\n",
       "      <td>Aston Villa</td>\n",
       "      <td>EPL</td>\n",
       "      <td>Possession Won</td>\n",
       "      <td>0.777390</td>\n",
       "      <td>3562.000000</td>\n",
       "    </tr>\n",
       "    <tr>\n",
       "      <th>10</th>\n",
       "      <td>2122</td>\n",
       "      <td>Aston Villa</td>\n",
       "      <td>EPL</td>\n",
       "      <td>Clean Sheets</td>\n",
       "      <td>0.500000</td>\n",
       "      <td>11.000000</td>\n",
       "    </tr>\n",
       "    <tr>\n",
       "      <th>11</th>\n",
       "      <td>2122</td>\n",
       "      <td>Aston Villa</td>\n",
       "      <td>EPL</td>\n",
       "      <td>Fouls Made/Game</td>\n",
       "      <td>0.416922</td>\n",
       "      <td>10.552632</td>\n",
       "    </tr>\n",
       "    <tr>\n",
       "      <th>12</th>\n",
       "      <td>2122</td>\n",
       "      <td>Aston Villa</td>\n",
       "      <td>EPL</td>\n",
       "      <td>Conceded/Game</td>\n",
       "      <td>0.582712</td>\n",
       "      <td>1.421053</td>\n",
       "    </tr>\n",
       "    <tr>\n",
       "      <th>13</th>\n",
       "      <td>2122</td>\n",
       "      <td>Aston Villa</td>\n",
       "      <td>EPL</td>\n",
       "      <td>xG Against/Game</td>\n",
       "      <td>0.585242</td>\n",
       "      <td>1.397368</td>\n",
       "    </tr>\n",
       "    <tr>\n",
       "      <th>14</th>\n",
       "      <td>2122</td>\n",
       "      <td>Aston Villa</td>\n",
       "      <td>EPL</td>\n",
       "      <td>Final 3rd Passes Against/Game</td>\n",
       "      <td>0.504063</td>\n",
       "      <td>28.789474</td>\n",
       "    </tr>\n",
       "    <tr>\n",
       "      <th>15</th>\n",
       "      <td>2122</td>\n",
       "      <td>Aston Villa</td>\n",
       "      <td>EPL</td>\n",
       "      <td>Opposition PPDA</td>\n",
       "      <td>0.909032</td>\n",
       "      <td>8.930000</td>\n",
       "    </tr>\n",
       "    <tr>\n",
       "      <th>16</th>\n",
       "      <td>2122</td>\n",
       "      <td>Brentford</td>\n",
       "      <td>EPL</td>\n",
       "      <td>Tackles Won (%)</td>\n",
       "      <td>0.231483</td>\n",
       "      <td>56.342669</td>\n",
       "    </tr>\n",
       "    <tr>\n",
       "      <th>17</th>\n",
       "      <td>2122</td>\n",
       "      <td>Brentford</td>\n",
       "      <td>EPL</td>\n",
       "      <td>Possession Won</td>\n",
       "      <td>0.893929</td>\n",
       "      <td>3896.000000</td>\n",
       "    </tr>\n",
       "    <tr>\n",
       "      <th>18</th>\n",
       "      <td>2122</td>\n",
       "      <td>Brentford</td>\n",
       "      <td>EPL</td>\n",
       "      <td>Clean Sheets</td>\n",
       "      <td>0.400000</td>\n",
       "      <td>9.000000</td>\n",
       "    </tr>\n",
       "    <tr>\n",
       "      <th>19</th>\n",
       "      <td>2122</td>\n",
       "      <td>Brentford</td>\n",
       "      <td>EPL</td>\n",
       "      <td>Fouls Made/Game</td>\n",
       "      <td>0.600858</td>\n",
       "      <td>9.763158</td>\n",
       "    </tr>\n",
       "    <tr>\n",
       "      <th>20</th>\n",
       "      <td>2122</td>\n",
       "      <td>Brentford</td>\n",
       "      <td>EPL</td>\n",
       "      <td>Conceded/Game</td>\n",
       "      <td>0.552906</td>\n",
       "      <td>1.473684</td>\n",
       "    </tr>\n",
       "    <tr>\n",
       "      <th>21</th>\n",
       "      <td>2122</td>\n",
       "      <td>Brentford</td>\n",
       "      <td>EPL</td>\n",
       "      <td>xG Against/Game</td>\n",
       "      <td>0.638778</td>\n",
       "      <td>1.302632</td>\n",
       "    </tr>\n",
       "    <tr>\n",
       "      <th>22</th>\n",
       "      <td>2122</td>\n",
       "      <td>Brentford</td>\n",
       "      <td>EPL</td>\n",
       "      <td>Final 3rd Passes Against/Game</td>\n",
       "      <td>0.274768</td>\n",
       "      <td>35.026316</td>\n",
       "    </tr>\n",
       "    <tr>\n",
       "      <th>23</th>\n",
       "      <td>2122</td>\n",
       "      <td>Brentford</td>\n",
       "      <td>EPL</td>\n",
       "      <td>Opposition PPDA</td>\n",
       "      <td>0.826511</td>\n",
       "      <td>10.200000</td>\n",
       "    </tr>\n",
       "    <tr>\n",
       "      <th>24</th>\n",
       "      <td>2122</td>\n",
       "      <td>Brighton</td>\n",
       "      <td>EPL</td>\n",
       "      <td>Tackles Won (%)</td>\n",
       "      <td>0.544722</td>\n",
       "      <td>60.329341</td>\n",
       "    </tr>\n",
       "    <tr>\n",
       "      <th>25</th>\n",
       "      <td>2122</td>\n",
       "      <td>Brighton</td>\n",
       "      <td>EPL</td>\n",
       "      <td>Possession Won</td>\n",
       "      <td>0.917655</td>\n",
       "      <td>3964.000000</td>\n",
       "    </tr>\n",
       "    <tr>\n",
       "      <th>26</th>\n",
       "      <td>2122</td>\n",
       "      <td>Brighton</td>\n",
       "      <td>EPL</td>\n",
       "      <td>Clean Sheets</td>\n",
       "      <td>0.500000</td>\n",
       "      <td>11.000000</td>\n",
       "    </tr>\n",
       "    <tr>\n",
       "      <th>27</th>\n",
       "      <td>2122</td>\n",
       "      <td>Brighton</td>\n",
       "      <td>EPL</td>\n",
       "      <td>Fouls Made/Game</td>\n",
       "      <td>0.465972</td>\n",
       "      <td>10.342105</td>\n",
       "    </tr>\n",
       "    <tr>\n",
       "      <th>28</th>\n",
       "      <td>2122</td>\n",
       "      <td>Brighton</td>\n",
       "      <td>EPL</td>\n",
       "      <td>Conceded/Game</td>\n",
       "      <td>0.731744</td>\n",
       "      <td>1.157895</td>\n",
       "    </tr>\n",
       "    <tr>\n",
       "      <th>29</th>\n",
       "      <td>2122</td>\n",
       "      <td>Brighton</td>\n",
       "      <td>EPL</td>\n",
       "      <td>xG Against/Game</td>\n",
       "      <td>0.672833</td>\n",
       "      <td>1.242368</td>\n",
       "    </tr>\n",
       "    <tr>\n",
       "      <th>30</th>\n",
       "      <td>2122</td>\n",
       "      <td>Brighton</td>\n",
       "      <td>EPL</td>\n",
       "      <td>Final 3rd Passes Against/Game</td>\n",
       "      <td>0.598878</td>\n",
       "      <td>26.210526</td>\n",
       "    </tr>\n",
       "    <tr>\n",
       "      <th>31</th>\n",
       "      <td>2122</td>\n",
       "      <td>Brighton</td>\n",
       "      <td>EPL</td>\n",
       "      <td>Opposition PPDA</td>\n",
       "      <td>0.615984</td>\n",
       "      <td>13.440000</td>\n",
       "    </tr>\n",
       "    <tr>\n",
       "      <th>32</th>\n",
       "      <td>2122</td>\n",
       "      <td>Burnley</td>\n",
       "      <td>EPL</td>\n",
       "      <td>Tackles Won (%)</td>\n",
       "      <td>0.119329</td>\n",
       "      <td>54.915254</td>\n",
       "    </tr>\n",
       "    <tr>\n",
       "      <th>33</th>\n",
       "      <td>2122</td>\n",
       "      <td>Burnley</td>\n",
       "      <td>EPL</td>\n",
       "      <td>Possession Won</td>\n",
       "      <td>0.964061</td>\n",
       "      <td>4097.000000</td>\n",
       "    </tr>\n",
       "    <tr>\n",
       "      <th>34</th>\n",
       "      <td>2122</td>\n",
       "      <td>Burnley</td>\n",
       "      <td>EPL</td>\n",
       "      <td>Clean Sheets</td>\n",
       "      <td>0.400000</td>\n",
       "      <td>9.000000</td>\n",
       "    </tr>\n",
       "    <tr>\n",
       "      <th>35</th>\n",
       "      <td>2122</td>\n",
       "      <td>Burnley</td>\n",
       "      <td>EPL</td>\n",
       "      <td>Fouls Made/Game</td>\n",
       "      <td>0.459841</td>\n",
       "      <td>10.368421</td>\n",
       "    </tr>\n",
       "    <tr>\n",
       "      <th>36</th>\n",
       "      <td>2122</td>\n",
       "      <td>Burnley</td>\n",
       "      <td>EPL</td>\n",
       "      <td>Conceded/Game</td>\n",
       "      <td>0.597615</td>\n",
       "      <td>1.394737</td>\n",
       "    </tr>\n",
       "    <tr>\n",
       "      <th>37</th>\n",
       "      <td>2122</td>\n",
       "      <td>Burnley</td>\n",
       "      <td>EPL</td>\n",
       "      <td>xG Against/Game</td>\n",
       "      <td>0.479359</td>\n",
       "      <td>1.584737</td>\n",
       "    </tr>\n",
       "    <tr>\n",
       "      <th>38</th>\n",
       "      <td>2122</td>\n",
       "      <td>Burnley</td>\n",
       "      <td>EPL</td>\n",
       "      <td>Final 3rd Passes Against/Game</td>\n",
       "      <td>0.381192</td>\n",
       "      <td>32.131579</td>\n",
       "    </tr>\n",
       "    <tr>\n",
       "      <th>39</th>\n",
       "      <td>2122</td>\n",
       "      <td>Burnley</td>\n",
       "      <td>EPL</td>\n",
       "      <td>Opposition PPDA</td>\n",
       "      <td>0.871995</td>\n",
       "      <td>9.500000</td>\n",
       "    </tr>\n",
       "    <tr>\n",
       "      <th>40</th>\n",
       "      <td>2122</td>\n",
       "      <td>Chelsea</td>\n",
       "      <td>EPL</td>\n",
       "      <td>Tackles Won (%)</td>\n",
       "      <td>0.207596</td>\n",
       "      <td>56.038647</td>\n",
       "    </tr>\n",
       "    <tr>\n",
       "      <th>41</th>\n",
       "      <td>2122</td>\n",
       "      <td>Chelsea</td>\n",
       "      <td>EPL</td>\n",
       "      <td>Possession Won</td>\n",
       "      <td>0.834264</td>\n",
       "      <td>3725.000000</td>\n",
       "    </tr>\n",
       "    <tr>\n",
       "      <th>42</th>\n",
       "      <td>2122</td>\n",
       "      <td>Chelsea</td>\n",
       "      <td>EPL</td>\n",
       "      <td>Clean Sheets</td>\n",
       "      <td>0.750000</td>\n",
       "      <td>16.000000</td>\n",
       "    </tr>\n",
       "    <tr>\n",
       "      <th>43</th>\n",
       "      <td>2122</td>\n",
       "      <td>Chelsea</td>\n",
       "      <td>EPL</td>\n",
       "      <td>Fouls Made/Game</td>\n",
       "      <td>0.367872</td>\n",
       "      <td>10.763158</td>\n",
       "    </tr>\n",
       "    <tr>\n",
       "      <th>44</th>\n",
       "      <td>2122</td>\n",
       "      <td>Chelsea</td>\n",
       "      <td>EPL</td>\n",
       "      <td>Conceded/Game</td>\n",
       "      <td>0.895678</td>\n",
       "      <td>0.868421</td>\n",
       "    </tr>\n",
       "    <tr>\n",
       "      <th>45</th>\n",
       "      <td>2122</td>\n",
       "      <td>Chelsea</td>\n",
       "      <td>EPL</td>\n",
       "      <td>xG Against/Game</td>\n",
       "      <td>0.852626</td>\n",
       "      <td>0.924211</td>\n",
       "    </tr>\n",
       "    <tr>\n",
       "      <th>46</th>\n",
       "      <td>2122</td>\n",
       "      <td>Chelsea</td>\n",
       "      <td>EPL</td>\n",
       "      <td>Final 3rd Passes Against/Game</td>\n",
       "      <td>0.759481</td>\n",
       "      <td>21.842105</td>\n",
       "    </tr>\n",
       "    <tr>\n",
       "      <th>47</th>\n",
       "      <td>2122</td>\n",
       "      <td>Chelsea</td>\n",
       "      <td>EPL</td>\n",
       "      <td>Opposition PPDA</td>\n",
       "      <td>0.426251</td>\n",
       "      <td>16.360000</td>\n",
       "    </tr>\n",
       "    <tr>\n",
       "      <th>48</th>\n",
       "      <td>2122</td>\n",
       "      <td>Crystal Palace</td>\n",
       "      <td>EPL</td>\n",
       "      <td>Tackles Won (%)</td>\n",
       "      <td>0.417701</td>\n",
       "      <td>58.712716</td>\n",
       "    </tr>\n",
       "    <tr>\n",
       "      <th>49</th>\n",
       "      <td>2122</td>\n",
       "      <td>Crystal Palace</td>\n",
       "      <td>EPL</td>\n",
       "      <td>Possession Won</td>\n",
       "      <td>0.885555</td>\n",
       "      <td>3872.000000</td>\n",
       "    </tr>\n",
       "  </tbody>\n",
       "</table>\n",
       "</div>"
      ],
      "text/plain": [
       "    SEASON       TEAM_NAME COMPETITION_ACRONYM                       VARIABLE  \\\n",
       "0     2122         Arsenal                 EPL                Tackles Won (%)   \n",
       "1     2122         Arsenal                 EPL                 Possession Won   \n",
       "2     2122         Arsenal                 EPL                   Clean Sheets   \n",
       "3     2122         Arsenal                 EPL                Fouls Made/Game   \n",
       "4     2122         Arsenal                 EPL                  Conceded/Game   \n",
       "5     2122         Arsenal                 EPL                xG Against/Game   \n",
       "6     2122         Arsenal                 EPL  Final 3rd Passes Against/Game   \n",
       "7     2122         Arsenal                 EPL                Opposition PPDA   \n",
       "8     2122     Aston Villa                 EPL                Tackles Won (%)   \n",
       "9     2122     Aston Villa                 EPL                 Possession Won   \n",
       "10    2122     Aston Villa                 EPL                   Clean Sheets   \n",
       "11    2122     Aston Villa                 EPL                Fouls Made/Game   \n",
       "12    2122     Aston Villa                 EPL                  Conceded/Game   \n",
       "13    2122     Aston Villa                 EPL                xG Against/Game   \n",
       "14    2122     Aston Villa                 EPL  Final 3rd Passes Against/Game   \n",
       "15    2122     Aston Villa                 EPL                Opposition PPDA   \n",
       "16    2122       Brentford                 EPL                Tackles Won (%)   \n",
       "17    2122       Brentford                 EPL                 Possession Won   \n",
       "18    2122       Brentford                 EPL                   Clean Sheets   \n",
       "19    2122       Brentford                 EPL                Fouls Made/Game   \n",
       "20    2122       Brentford                 EPL                  Conceded/Game   \n",
       "21    2122       Brentford                 EPL                xG Against/Game   \n",
       "22    2122       Brentford                 EPL  Final 3rd Passes Against/Game   \n",
       "23    2122       Brentford                 EPL                Opposition PPDA   \n",
       "24    2122        Brighton                 EPL                Tackles Won (%)   \n",
       "25    2122        Brighton                 EPL                 Possession Won   \n",
       "26    2122        Brighton                 EPL                   Clean Sheets   \n",
       "27    2122        Brighton                 EPL                Fouls Made/Game   \n",
       "28    2122        Brighton                 EPL                  Conceded/Game   \n",
       "29    2122        Brighton                 EPL                xG Against/Game   \n",
       "30    2122        Brighton                 EPL  Final 3rd Passes Against/Game   \n",
       "31    2122        Brighton                 EPL                Opposition PPDA   \n",
       "32    2122         Burnley                 EPL                Tackles Won (%)   \n",
       "33    2122         Burnley                 EPL                 Possession Won   \n",
       "34    2122         Burnley                 EPL                   Clean Sheets   \n",
       "35    2122         Burnley                 EPL                Fouls Made/Game   \n",
       "36    2122         Burnley                 EPL                  Conceded/Game   \n",
       "37    2122         Burnley                 EPL                xG Against/Game   \n",
       "38    2122         Burnley                 EPL  Final 3rd Passes Against/Game   \n",
       "39    2122         Burnley                 EPL                Opposition PPDA   \n",
       "40    2122         Chelsea                 EPL                Tackles Won (%)   \n",
       "41    2122         Chelsea                 EPL                 Possession Won   \n",
       "42    2122         Chelsea                 EPL                   Clean Sheets   \n",
       "43    2122         Chelsea                 EPL                Fouls Made/Game   \n",
       "44    2122         Chelsea                 EPL                  Conceded/Game   \n",
       "45    2122         Chelsea                 EPL                xG Against/Game   \n",
       "46    2122         Chelsea                 EPL  Final 3rd Passes Against/Game   \n",
       "47    2122         Chelsea                 EPL                Opposition PPDA   \n",
       "48    2122  Crystal Palace                 EPL                Tackles Won (%)   \n",
       "49    2122  Crystal Palace                 EPL                 Possession Won   \n",
       "\n",
       "    NORM_VALUE        VALUE  \n",
       "0     0.329692    57.592593  \n",
       "1     0.691905  3317.000000  \n",
       "2     0.600000    13.000000  \n",
       "3     0.637646     9.605263  \n",
       "4     0.672131     1.263158  \n",
       "5     0.655285     1.273421  \n",
       "6     0.598878    26.210526  \n",
       "7     0.583496    13.940000  \n",
       "8     0.538674    60.252366  \n",
       "9     0.777390  3562.000000  \n",
       "10    0.500000    11.000000  \n",
       "11    0.416922    10.552632  \n",
       "12    0.582712     1.421053  \n",
       "13    0.585242     1.397368  \n",
       "14    0.504063    28.789474  \n",
       "15    0.909032     8.930000  \n",
       "16    0.231483    56.342669  \n",
       "17    0.893929  3896.000000  \n",
       "18    0.400000     9.000000  \n",
       "19    0.600858     9.763158  \n",
       "20    0.552906     1.473684  \n",
       "21    0.638778     1.302632  \n",
       "22    0.274768    35.026316  \n",
       "23    0.826511    10.200000  \n",
       "24    0.544722    60.329341  \n",
       "25    0.917655  3964.000000  \n",
       "26    0.500000    11.000000  \n",
       "27    0.465972    10.342105  \n",
       "28    0.731744     1.157895  \n",
       "29    0.672833     1.242368  \n",
       "30    0.598878    26.210526  \n",
       "31    0.615984    13.440000  \n",
       "32    0.119329    54.915254  \n",
       "33    0.964061  4097.000000  \n",
       "34    0.400000     9.000000  \n",
       "35    0.459841    10.368421  \n",
       "36    0.597615     1.394737  \n",
       "37    0.479359     1.584737  \n",
       "38    0.381192    32.131579  \n",
       "39    0.871995     9.500000  \n",
       "40    0.207596    56.038647  \n",
       "41    0.834264  3725.000000  \n",
       "42    0.750000    16.000000  \n",
       "43    0.367872    10.763158  \n",
       "44    0.895678     0.868421  \n",
       "45    0.852626     0.924211  \n",
       "46    0.759481    21.842105  \n",
       "47    0.426251    16.360000  \n",
       "48    0.417701    58.712716  \n",
       "49    0.885555  3872.000000  "
      ]
     },
     "execution_count": 66,
     "metadata": {},
     "output_type": "execute_result"
    }
   ],
   "source": [
    "team_defending_radar.head(50)"
   ]
  },
  {
   "cell_type": "code",
   "execution_count": null,
   "metadata": {},
   "outputs": [],
   "source": []
  },
  {
   "cell_type": "code",
   "execution_count": null,
   "metadata": {},
   "outputs": [],
   "source": []
  }
 ],
 "metadata": {
  "kernelspec": {
   "display_name": "footy",
   "language": "python",
   "name": "python3"
  },
  "language_info": {
   "codemirror_mode": {
    "name": "ipython",
    "version": 3
   },
   "file_extension": ".py",
   "mimetype": "text/x-python",
   "name": "python",
   "nbconvert_exporter": "python",
   "pygments_lexer": "ipython3",
   "version": "3.11.5"
  }
 },
 "nbformat": 4,
 "nbformat_minor": 2
}
