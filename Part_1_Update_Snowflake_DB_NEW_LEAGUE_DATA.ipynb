{
 "cells": [
  {
   "cell_type": "code",
   "execution_count": null,
   "metadata": {},
   "outputs": [],
   "source": [
    "# Import all the libraries required\n",
    "\n",
    "import soccerdata as sd\n",
    "import pandas as pd\n",
    "from tqdm import tqdm\n",
    "import ScraperFC as sfc\n",
    "import traceback\n",
    "\n",
    "import warnings\n",
    "import numpy as np\n",
    "import socceraction.spadl as spadl\n",
    "\n",
    "# from pyspark.sql import SparkSession\n",
    "# from pyspark.sql.types import StructType, StructField, StringType\n",
    "# import pyspark.pandas as ps"
   ]
  },
  {
   "cell_type": "code",
   "execution_count": null,
   "metadata": {},
   "outputs": [],
   "source": [
    "import datetime"
   ]
  },
  {
   "cell_type": "code",
   "execution_count": null,
   "metadata": {},
   "outputs": [],
   "source": [
    "## Create a connection to Snowflake\n",
    "from sqlalchemy import create_engine\n",
    "import snowflake.connector"
   ]
  },
  {
   "cell_type": "code",
   "execution_count": null,
   "metadata": {},
   "outputs": [],
   "source": [
    "import snowflake.connector\n",
    "from snowflake.connector.pandas_tools import write_pandas"
   ]
  },
  {
   "cell_type": "code",
   "execution_count": null,
   "metadata": {},
   "outputs": [],
   "source": [
    "pd.set_option('display.max_columns', None)"
   ]
  },
  {
   "cell_type": "code",
   "execution_count": null,
   "metadata": {},
   "outputs": [],
   "source": [
    "# spark = SparkSession.builder \\\n",
    "#     .master(\"local\") \\\n",
    "#     .appName(\"Gegenstats\") \\\n",
    "#     .getOrCreate()"
   ]
  },
  {
   "cell_type": "code",
   "execution_count": null,
   "metadata": {},
   "outputs": [],
   "source": [
    "scraper = sfc.Understat()\n",
    "def scrape_league_data(years):\n",
    "    output_df = pd.DataFrame(columns=['№', 'Team', 'M', 'W', 'D', 'L', 'G', 'GA', 'PTS', 'xG', 'NPxG', 'xGA',\n",
    "       'NPxGA', 'NPxGD', 'PPDA', 'OPPDA', 'DC', 'ODC', 'xPTS', 'season','league'])\n",
    "    for league_year in league_years:\n",
    "        try:\n",
    "            ooper = scraper.scrape_league_table(year=league_year[1], league=league_year[0])\n",
    "            season_val = league_year[1]\n",
    "            ooper['season'] = int(str(int(str(season_val)[2:])-1)+str(season_val)[2:])\n",
    "            if league_year[0] == 'EPL':\n",
    "                ooper['league'] = 'ENG-Premier League'\n",
    "            elif league_year[0] == 'La Liga':\n",
    "                ooper['league'] = 'ESP-La Liga'\n",
    "            elif league_year[0] == 'Bundesliga':\n",
    "                ooper['league'] = 'GER-Bundesliga'\n",
    "            elif league_year[0] == 'Serie A':\n",
    "                ooper['league'] = 'ITA-Serie A'\n",
    "            elif league_year[0] == 'Ligue 1':\n",
    "                ooper['league'] = 'FRA-Ligue 1'\n",
    "            output_df = pd.concat([output_df, ooper])\n",
    "            \n",
    "        except Exception as e:\n",
    "            print(f\"An error occurred for the year {league_years}: {e}\")\n",
    "            traceback.print_exc()\n",
    "    scraper.close()\n",
    "    return output_df\n",
    "\n",
    "# league_years = [('La Liga', 2024), ('EPL', 2024), ('Bundesliga', 2024), ('Serie A', 2024), ('Ligue 1', 2024)]   # Replace with your list of years\n",
    "league_years = [('EPL', 2024), ('La Liga', 2024), ('Bundesliga', 2024), ('Serie A', 2024), ('Ligue 1', 2024)] \n",
    "out = scrape_league_data(league_years)"
   ]
  },
  {
   "cell_type": "code",
   "execution_count": null,
   "metadata": {},
   "outputs": [],
   "source": [
    "understat_table = out[['league','Team','season', 'W', 'D', 'L','G','GA', 'xG', 'xGA','NPxG','NPxGA','PPDA',\n",
    "                       'OPPDA','PTS','xPTS']]"
   ]
  },
  {
   "cell_type": "code",
   "execution_count": null,
   "metadata": {},
   "outputs": [],
   "source": [
    "understat_table.loc[understat_table['Team'] == 'Arminia Bielefeld', 'Team'] = 'Arminia'\n",
    "understat_table.loc[understat_table['Team'] == 'Borussia Dortmund', 'Team'] = 'Dortmund'\n",
    "understat_table.loc[understat_table['Team'] == 'Eintracht Frankfurt', 'Team'] = 'Eint Frankfurt'\n",
    "understat_table.loc[understat_table['Team'] == 'Greuther Fuerth', 'Team'] = 'Greuther Fürth'\n",
    "understat_table.loc[understat_table['Team'] == 'Hertha Berlin', 'Team'] = 'Hertha BSC'\n",
    "understat_table.loc[understat_table['Team'] == 'FC Cologne', 'Team'] = 'Köln'\n",
    "understat_table.loc[understat_table['Team'] == 'Bayer Leverkusen', 'Team'] = 'Leverkusen'\n",
    "understat_table.loc[understat_table['Team'] == 'Borussia M.Gladbach', 'Team'] = \"M'Gladbach\"\n",
    "understat_table.loc[understat_table['Team'] == 'RasenBallsport Leipzig', 'Team'] = 'RB Leipzig'\n",
    "understat_table.loc[understat_table['Team'] == 'VfB Stuttgart', 'Team'] = 'Stuttgart'\n",
    "understat_table.loc[understat_table['Team'] == 'Darmstadt', 'Team'] = 'Darmstadt 98'\n",
    "understat_table.loc[understat_table['Team'] == 'FC Heidenheim', 'Team'] = 'Heidenheim'"
   ]
  },
  {
   "cell_type": "code",
   "execution_count": null,
   "metadata": {},
   "outputs": [],
   "source": [
    "understat_table.loc[understat_table['Team'] == 'Alaves', 'Team'] = 'Alavés'\n",
    "understat_table.loc[understat_table['Team'] == 'Atletico Madrid', 'Team'] = 'Atlético Madrid'\n",
    "understat_table.loc[understat_table['Team'] == 'Cadiz', 'Team'] = 'Cádiz'\n",
    "understat_table.loc[understat_table['Team'] == 'Real Betis', 'Team'] = 'Betis'\n",
    "understat_table.loc[understat_table['Team'] == 'Real Valladolid', 'Team'] = \"Valladolid\"\n",
    "understat_table.loc[understat_table['Team'] == 'Almeria', 'Team'] = 'Almería'\n",
    "\n",
    "understat_table.loc[understat_table['Team'] == 'Verona', 'Team'] = 'Hellas Verona'\n",
    "understat_table.loc[understat_table['Team'] == 'Milan', 'Team'] = 'AC Milan'\n",
    "\n",
    "\n",
    "understat_table.loc[understat_table['Team'] == 'Paris Saint Germain', 'Team'] = \"Paris S-G\"\n",
    "understat_table.loc[understat_table['Team'] == 'Saint-Etienne', 'Team'] = \"Saint-Étienne\"\n",
    "\n",
    "understat_table.loc[understat_table['Team'] == 'Manchester United', 'Team'] = 'Manchester Utd'\n",
    "understat_table.loc[understat_table['Team'] == 'Newcastle United', 'Team'] = 'Newcastle Utd'\n",
    "understat_table.loc[understat_table['Team'] == 'Tottenham Hotspur', 'Team'] = 'Tottenham'\n",
    "understat_table.loc[understat_table['Team'] == 'Wolverhampton Wanderers', 'Team'] = 'Wolves'\n",
    "understat_table.loc[understat_table['Team'] == 'Nottingham Forest', 'Team'] = \"Nott'ham Forest\"\n",
    "understat_table.loc[understat_table['Team'] == 'Leicester', 'Team'] = 'Leicester City'\n",
    "understat_table.loc[understat_table['Team'] == 'Leeds', 'Team'] = 'Leeds United'\n",
    "understat_table.loc[understat_table['Team'] == 'Sheffield United', 'Team'] = \"Sheffield Utd\"\n",
    "understat_table.loc[understat_table['Team'] == 'Luton', 'Team'] = 'Luton Town'\n",
    "understat_table.loc[understat_table['Team'] == 'Norwich', 'Team'] = 'Norwich City'"
   ]
  },
  {
   "cell_type": "code",
   "execution_count": null,
   "metadata": {},
   "outputs": [],
   "source": [
    "understat_table.sort_values(by=['league','season','Team'], ascending=True, inplace=True)\n",
    "understat_table.reset_index(drop=True, inplace=True)"
   ]
  },
  {
   "cell_type": "code",
   "execution_count": null,
   "metadata": {},
   "outputs": [],
   "source": [
    "understat_table.rename(columns={'Team':'TEAM_NAME', 'W':'TEAM_WINS', 'D':'TEAM_DRAWS', 'league':'COMPETITION',\n",
    "                                'L': 'TEAM_LOSSES', 'xPTS':'TEAM_XPTS', 'PTS':'TEAM_PTS', 'season':'SEASON',\n",
    "                                'NPxGA':'NPXG_AGAINST', 'xGA':'XG_AGAINST'}, inplace=True)"
   ]
  },
  {
   "cell_type": "code",
   "execution_count": null,
   "metadata": {},
   "outputs": [],
   "source": [
    "understat_table.set_index(['COMPETITION', 'SEASON', 'TEAM_NAME'], inplace=True)"
   ]
  },
  {
   "cell_type": "markdown",
   "metadata": {},
   "source": [
    "Get the match data from Snowflake so that we only scrape for matches we don't have yet "
   ]
  },
  {
   "cell_type": "code",
   "execution_count": null,
   "metadata": {},
   "outputs": [],
   "source": [
    "fbref = sd.FBref(leagues=['ENG-Premier League', 'GER-Bundesliga', \"ESP-La Liga\",\n",
    "                          'ITA-Serie A', 'FRA-Ligue 1'], seasons=[\"2324\"], no_cache=True)\n",
    "# fbref = sd.FBref(leagues=[\"FRA-Ligue 1\"], seasons=[\"2324\"], no_cache=True)\n",
    "fbref_team_standard = fbref.read_team_season_stats(stat_type='standard')\n",
    "# fbref_team_standard_oppo = fbref.read_team_season_stats(stat_type='standard', opponent_stats=True)\n",
    "fbref_team_shooting = fbref.read_team_season_stats(stat_type='shooting')\n",
    "fbref_team_shooting_oppo = fbref.read_team_season_stats(stat_type='shooting', opponent_stats=True)\n",
    "fbref_team_passing = fbref.read_team_season_stats(stat_type='passing')\n",
    "fbref_team_passing_oppo = fbref.read_team_season_stats(stat_type='passing', opponent_stats=True)\n",
    "fbref_team_defense = fbref.read_team_season_stats(stat_type='defense')\n",
    "fbref_team_possession = fbref.read_team_season_stats(stat_type='possession')\n",
    "fbref_team_misc = fbref.read_team_season_stats(stat_type='misc')\n",
    "fbref_keeper = fbref.read_team_season_stats(stat_type='keeper')\n",
    "fbref_schedule = fbref.read_schedule()\n",
    "# fbref_lineups = fbref.read_lineup()"
   ]
  },
  {
   "cell_type": "code",
   "execution_count": null,
   "metadata": {},
   "outputs": [],
   "source": [
    "fbref_schedule.loc[fbref_schedule['home_team'] == 'Milan', 'home_team'] = 'AC Milan'\n",
    "fbref_schedule.loc[fbref_schedule['away_team'] == 'Milan', 'away_team'] = 'AC Milan'"
   ]
  },
  {
   "cell_type": "code",
   "execution_count": null,
   "metadata": {},
   "outputs": [],
   "source": [
    "# Convert the date column to datetime format\n",
    "fbref_schedule['date'] = pd.to_datetime(fbref_schedule['date'])\n",
    "# fbref_schedule = fbref_schedule[fbref_schedule['date'] < datetime.datetime(2023, 12, 20)]\n",
    "\n",
    "fbref_schedule = fbref_schedule[fbref_schedule['date'] < datetime.datetime.now().strftime('%Y-%m-%d')]"
   ]
  },
  {
   "cell_type": "code",
   "execution_count": null,
   "metadata": {},
   "outputs": [],
   "source": [
    "SNOWFLAKE_USER = 'kbharaj3'\n",
    "SNOWFLAKE_PASSWORD = 'Snowfl@key0014'\n",
    "SNOWFLAKE_ACCOUNT = 'qx25653.ca-central-1.aws'\n",
    "SNOWFLAKE_WAREHOUSE = 'FOOTY_STORE'\n",
    "SNOWFLAKE_DATABASE = 'GEGENSTATS'\n",
    "SNOWFLAKE_SCHEMA = 'TABLES'"
   ]
  },
  {
   "cell_type": "code",
   "execution_count": null,
   "metadata": {},
   "outputs": [],
   "source": [
    "conn = snowflake.connector.connect(\n",
    "    user=SNOWFLAKE_USER,\n",
    "    password=SNOWFLAKE_PASSWORD,\n",
    "    account=SNOWFLAKE_ACCOUNT,\n",
    "    warehouse=SNOWFLAKE_WAREHOUSE,\n",
    "    database=SNOWFLAKE_DATABASE,\n",
    "    schema=SNOWFLAKE_SCHEMA\n",
    ")"
   ]
  },
  {
   "cell_type": "code",
   "execution_count": null,
   "metadata": {},
   "outputs": [],
   "source": [
    "cursor = conn.cursor()"
   ]
  },
  {
   "cell_type": "code",
   "execution_count": null,
   "metadata": {},
   "outputs": [],
   "source": [
    "def fetch_data(cursor, query):\n",
    "    cursor.execute(query)\n",
    "    rows = cursor.fetchall()\n",
    "    column_names = [desc[0] for desc in cursor.description]\n",
    "    return pd.DataFrame(rows, columns=column_names)"
   ]
  },
  {
   "cell_type": "code",
   "execution_count": null,
   "metadata": {},
   "outputs": [],
   "source": [
    "df_matches = fetch_data(cursor, 'SELECT * FROM MATCHES')"
   ]
  },
  {
   "cell_type": "code",
   "execution_count": null,
   "metadata": {},
   "outputs": [],
   "source": [
    "df_matches.shape"
   ]
  },
  {
   "cell_type": "code",
   "execution_count": null,
   "metadata": {},
   "outputs": [],
   "source": [
    "# df_matches = df_matches[df_matches['SEASON'] == 2324]"
   ]
  },
  {
   "cell_type": "code",
   "execution_count": null,
   "metadata": {},
   "outputs": [],
   "source": [
    "matches_to_scarpe = set(fbref_schedule['game_id']) - set(df_matches['MATCH_ID'])\n",
    "matches_to_scarpe = list(matches_to_scarpe)"
   ]
  },
  {
   "cell_type": "code",
   "execution_count": null,
   "metadata": {},
   "outputs": [],
   "source": [
    "len(matches_to_scarpe)"
   ]
  },
  {
   "cell_type": "code",
   "execution_count": null,
   "metadata": {},
   "outputs": [],
   "source": [
    "# matches_to_scarpe = list(fbref_schedule['game_id'])"
   ]
  },
  {
   "cell_type": "code",
   "execution_count": null,
   "metadata": {},
   "outputs": [],
   "source": [
    "# ## Create empty dataframe with \n",
    "# pd.DataFrame(columns=['jersey_number', 'player', 'team', 'is_starter', 'position', 'minutes_played'], index=['league', 'season',\n",
    "#                                                                                                               'game'])"
   ]
  },
  {
   "cell_type": "code",
   "execution_count": null,
   "metadata": {},
   "outputs": [],
   "source": [
    "failed_match_ids = []"
   ]
  },
  {
   "cell_type": "code",
   "execution_count": null,
   "metadata": {},
   "outputs": [],
   "source": [
    "for i, val in tqdm(enumerate(matches_to_scarpe)):\n",
    "    if i == 0:\n",
    "        fbref_lineups = fbref.read_lineup(match_id=val)\n",
    "    else:\n",
    "        try:\n",
    "            fbref_lineups = pd.concat([fbref_lineups, fbref.read_lineup(match_id=val)])\n",
    "        except:\n",
    "            failed_match_ids.append(val)"
   ]
  },
  {
   "cell_type": "code",
   "execution_count": null,
   "metadata": {},
   "outputs": [],
   "source": [
    "fbref_lineups.to_csv('fbref_lineups_hold.csv')\n",
    "# fbref_lineups = pd.read_csv('fbref_lineups_hold.csv')"
   ]
  },
  {
   "cell_type": "code",
   "execution_count": null,
   "metadata": {},
   "outputs": [],
   "source": [
    "# fbref_lineups.set_index(['league', 'season', 'game'], inplace=True)"
   ]
  },
  {
   "cell_type": "code",
   "execution_count": null,
   "metadata": {},
   "outputs": [],
   "source": [
    "failed_match_ids"
   ]
  },
  {
   "cell_type": "code",
   "execution_count": null,
   "metadata": {},
   "outputs": [],
   "source": [
    "fbref_lineups.loc[fbref_lineups['team'] == 'Brighton & Hove Albion', 'team'] = 'Brighton'\n",
    "fbref_lineups.loc[fbref_lineups['team'] == 'Manchester United', 'team'] = 'Manchester Utd'\n",
    "fbref_lineups.loc[fbref_lineups['team'] == 'Newcastle United', 'team'] = 'Newcastle Utd'\n",
    "fbref_lineups.loc[fbref_lineups['team'] == 'Nottingham Forest', 'team'] = \"Nott'ham Forest\"\n",
    "fbref_lineups.loc[fbref_lineups['team'] == 'Sheffield United', 'team'] = \"Sheffield Utd\"\n",
    "fbref_lineups.loc[fbref_lineups['team'] == 'Tottenham Hotspur', 'team'] = 'Tottenham'\n",
    "fbref_lineups.loc[fbref_lineups['team'] == 'West Ham United', 'team'] = 'West Ham'\n",
    "fbref_lineups.loc[fbref_lineups['team'] == 'Wolverhampton Wanderers', 'team'] = 'Wolves'"
   ]
  },
  {
   "cell_type": "code",
   "execution_count": null,
   "metadata": {},
   "outputs": [],
   "source": [
    "fbref_lineups.replace({\"Jarrell Quansah\": \"Jarell Quansah\"}, inplace=True)\n",
    "fbref_lineups.replace({\"Omotayo Adaramola\": \"Tayo Adaramola\"}, inplace=True)\n",
    "fbref_lineups.replace({\"Cristóbal Montiel\": \"Luis Montiel\"}, inplace=True)"
   ]
  },
  {
   "cell_type": "code",
   "execution_count": null,
   "metadata": {},
   "outputs": [],
   "source": [
    "# fbref_lineups.reset_index(inplace=True)\n",
    "# fbref_lineups.loc[fbref_lineups['team'] == 'Real Betis', 'team'] = 'Betis'\n",
    "# fbref_lineups.set_index(['league', 'season', 'game'], inplace=True)"
   ]
  },
  {
   "cell_type": "code",
   "execution_count": null,
   "metadata": {},
   "outputs": [],
   "source": [
    "fbref_team_standard = fbref_team_standard.rename_axis(index={'team': 'TEAM_NAME', 'season': 'SEASON', 'league': 'COMPETITION'})\n",
    "# fbref_team_standard_oppo = fbref_team_standard_oppo.rename_axis(index={'team': 'TEAM_NAME', 'season': 'SEASON', 'league': 'COMPETITION'})\n",
    "fbref_team_shooting = fbref_team_shooting.rename_axis(index={'team': 'TEAM_NAME', 'season': 'SEASON', 'league': 'COMPETITION'})\n",
    "fbref_team_shooting_oppo = fbref_team_shooting_oppo.rename_axis(index={'team': 'TEAM_NAME', 'season': 'SEASON', 'league': 'COMPETITION'})\n",
    "fbref_team_passing = fbref_team_passing.rename_axis(index={'team': 'TEAM_NAME', 'season': 'SEASON', 'league': 'COMPETITION'})\n",
    "fbref_team_passing_oppo = fbref_team_passing_oppo.rename_axis(index={'team': 'TEAM_NAME', 'season': 'SEASON', 'league': 'COMPETITION'})\n",
    "fbref_team_defense = fbref_team_defense.rename_axis(index={'team': 'TEAM_NAME', 'season': 'SEASON', 'league': 'COMPETITION'})\n",
    "fbref_team_possession = fbref_team_possession.rename_axis(index={'team': 'TEAM_NAME', 'season': 'SEASON', 'league': 'COMPETITION'})\n",
    "fbref_team_misc = fbref_team_misc.rename_axis(index={'team': 'TEAM_NAME', 'season': 'SEASON', 'league': 'COMPETITION'})\n",
    "fbref_keeper = fbref_keeper.rename_axis(index={'team': 'TEAM_NAME', 'season': 'SEASON', 'league': 'COMPETITION'})\n",
    "fbref_schedule = fbref_schedule.rename_axis(index={'season': 'SEASON', 'league': 'COMPETITION'})\n",
    "fbref_lineups = fbref_lineups.rename_axis(index={'season': 'SEASON', 'league': 'COMPETITION'})\n",
    "fbref_lineups.rename({'team': 'TEAM_NAME'}, axis=1, inplace=True)\n",
    "# fbref_lineups.rename({'season': 'SEASON'}, axis=1, inplace=True)"
   ]
  },
  {
   "cell_type": "code",
   "execution_count": null,
   "metadata": {},
   "outputs": [],
   "source": [
    "## Get rid of incomplete games (Thank God Tom Lockyear is good <3)\n",
    "fbref_schedule = fbref_schedule.dropna(subset=['home_xg'])\n",
    "\n",
    "## Get rid of 'vs ' in the TEAM_NAME column\n",
    "fbref_team_passing_oppo.reset_index(inplace=True)\n",
    "fbref_team_shooting_oppo.reset_index(inplace=True)"
   ]
  },
  {
   "cell_type": "code",
   "execution_count": null,
   "metadata": {},
   "outputs": [],
   "source": [
    "fbref_schedule = fbref_schedule.dropna(subset=['week'])"
   ]
  },
  {
   "cell_type": "code",
   "execution_count": null,
   "metadata": {},
   "outputs": [],
   "source": [
    "fbref_team_passing_oppo['TEAM_NAME'] = fbref_team_passing_oppo['TEAM_NAME'].str.replace('vs ', '')\n",
    "fbref_team_shooting_oppo['TEAM_NAME'] = fbref_team_shooting_oppo['TEAM_NAME'].str.replace('vs ', '')\n",
    "\n",
    "fbref_team_passing_oppo.set_index(['COMPETITION', 'SEASON', 'TEAM_NAME'], inplace=True)\n",
    "fbref_team_shooting_oppo.set_index(['COMPETITION', 'SEASON', 'TEAM_NAME'], inplace=True)"
   ]
  },
  {
   "cell_type": "code",
   "execution_count": null,
   "metadata": {},
   "outputs": [],
   "source": [
    "def make_season_integer(df):\n",
    "    indexes = df.index.names\n",
    "    df = df.reset_index()\n",
    "    df['SEASON'] = df['SEASON'].astype(int)\n",
    "    df = df.set_index(indexes)\n",
    "    return df\n",
    "\n",
    "fbref_team_standard = make_season_integer(fbref_team_standard)\n",
    "# fbref_team_standard_oppo = make_season_integer(fbref_team_standard_oppo)\n",
    "fbref_team_shooting = make_season_integer(fbref_team_shooting)\n",
    "fbref_team_shooting_oppo = make_season_integer(fbref_team_shooting_oppo)\n",
    "fbref_team_passing = make_season_integer(fbref_team_passing)\n",
    "fbref_team_passing_oppo = make_season_integer(fbref_team_passing_oppo)\n",
    "fbref_team_defense = make_season_integer(fbref_team_defense)\n",
    "fbref_team_possession = make_season_integer(fbref_team_possession)\n",
    "fbref_team_misc = make_season_integer(fbref_team_misc)\n",
    "fbref_schedule = make_season_integer(fbref_schedule)\n",
    "fbref_keeper = make_season_integer(fbref_keeper)\n",
    "fbref_lineups = make_season_integer(fbref_lineups)"
   ]
  },
  {
   "cell_type": "code",
   "execution_count": null,
   "metadata": {},
   "outputs": [],
   "source": [
    "def name_corrector(df):\n",
    "    indexes = df.index.names\n",
    "    df = df.reset_index()\n",
    "    # df['SEASON'] = df['SEASON'].astype(int)\n",
    "    df.loc[df['TEAM_NAME'] == 'Milan', 'TEAM_NAME'] = 'AC Milan'\n",
    "    df = df.set_index(indexes)\n",
    "    return df\n",
    "\n",
    "fbref_team_standard = name_corrector(fbref_team_standard)\n",
    "# fbref_team_standard_oppo = name_corrector(fbref_team_standard_oppo)\n",
    "fbref_team_shooting = name_corrector(fbref_team_shooting)\n",
    "fbref_team_shooting_oppo = name_corrector(fbref_team_shooting_oppo)\n",
    "fbref_team_passing = name_corrector(fbref_team_passing)\n",
    "fbref_team_passing_oppo = name_corrector(fbref_team_passing_oppo)\n",
    "fbref_team_defense = name_corrector(fbref_team_defense)\n",
    "fbref_team_possession = name_corrector(fbref_team_possession)\n",
    "fbref_team_misc = name_corrector(fbref_team_misc)\n",
    "# fbref_schedule = name_corrector(fbref_schedule)\n",
    "fbref_keeper = name_corrector(fbref_keeper)"
   ]
  },
  {
   "cell_type": "code",
   "execution_count": null,
   "metadata": {},
   "outputs": [],
   "source": [
    "team_matches_played = fbref_team_standard['Playing Time'].MP\n",
    "team_goals_scored = understat_table.G\n",
    "team_npxG_90 = fbref_team_standard['Per 90 Minutes'].npxG\n",
    "team_goals_conceded = understat_table.GA\n",
    "# team_xG_against_90 = fbref_team_standard_oppo['Per 90 Minutes'].xG\n",
    "team_shots = fbref_team_shooting['Standard'].Sh\n",
    "team_shotsOT = fbref_team_shooting['Standard'].SoT\n",
    "team_pass_completed = fbref_team_passing[\"Total\"].Cmp\n",
    "team_pass_attempted = fbref_team_passing[\"Total\"].Att\n",
    "team_tackles = fbref_team_defense.Tackles.Tkl\n",
    "team_tackles_won = fbref_team_defense.Tackles.TklW\n",
    "team_takeons_attempted = fbref_team_possession['Take-Ons'].Att\n",
    "team_takeons_completed = fbref_team_possession['Take-Ons'].Succ\n",
    "team_crossesintoPA = fbref_team_passing['CrsPA']\n",
    "team_fouls_against = fbref_team_misc['Performance']['Fld']\n",
    "team_fouls_made = fbref_team_misc['Performance']['Fls']\n",
    "team_interceptions = fbref_team_defense['Int']\n",
    "team_blocks_shots = fbref_team_defense['Blocks'].Sh\n",
    "team_blocks_pass = fbref_team_defense['Blocks'].Pass\n",
    "team_clearances = fbref_team_defense.Clr\n",
    "team_aerials_won = fbref_team_misc['Aerial Duels'].Won\n",
    "team_aerials_lost = fbref_team_misc['Aerial Duels'].Lost\n",
    "team_shots_faced = fbref_team_shooting_oppo['Standard'].Sh"
   ]
  },
  {
   "cell_type": "code",
   "execution_count": null,
   "metadata": {},
   "outputs": [],
   "source": [
    "team_recoveries= fbref_team_misc['Performance']['Recov']"
   ]
  },
  {
   "cell_type": "code",
   "execution_count": null,
   "metadata": {},
   "outputs": [],
   "source": [
    "teams_poss_won = team_interceptions + team_tackles_won + team_recoveries + team_blocks_shots + \\\n",
    "    team_blocks_pass + team_aerials_won\n",
    "team_OPPDA = understat_table['OPPDA']\n",
    "team_final_3rd_passes_against =  fbref_team_passing_oppo['1/3']\n",
    "team_cleansheets = fbref_keeper['Performance']['CS']"
   ]
  },
  {
   "cell_type": "code",
   "execution_count": null,
   "metadata": {},
   "outputs": [],
   "source": [
    "team_names = fbref_team_standard.reset_index()[['TEAM_NAME','url']]\n",
    "team_names['TEAM_FBREF_ID'] = team_names['url'].apply(lambda x: x.split('/')[3])      ## Extracting team_id from URL\n",
    "team_names.drop(columns=['url'], inplace=True)\n",
    "team_names.columns = team_names.columns.droplevel(1)"
   ]
  },
  {
   "cell_type": "code",
   "execution_count": null,
   "metadata": {},
   "outputs": [],
   "source": [
    "team_names['TEAM_FBREF_ID'] = team_names['TEAM_FBREF_ID'].astype('string')"
   ]
  },
  {
   "cell_type": "code",
   "execution_count": null,
   "metadata": {},
   "outputs": [],
   "source": [
    "team_names.drop_duplicates(inplace=True)"
   ]
  },
  {
   "cell_type": "markdown",
   "metadata": {},
   "source": [
    "## WhoScored Data"
   ]
  },
  {
   "cell_type": "code",
   "execution_count": null,
   "metadata": {},
   "outputs": [],
   "source": [
    "ws = sd.WhoScored(leagues=['ENG-Premier League', 'GER-Bundesliga', \"ESP-La Liga\",\n",
    "                          'ITA-Serie A', 'FRA-Ligue 1'], seasons=[\"2324\"])\n",
    "# ws = sd.WhoScored(leagues=['FRA-Ligue 1'], seasons=[\"2324\"])"
   ]
  },
  {
   "cell_type": "code",
   "execution_count": null,
   "metadata": {},
   "outputs": [],
   "source": [
    "ws_schedule = ws.read_schedule()"
   ]
  },
  {
   "cell_type": "code",
   "execution_count": null,
   "metadata": {},
   "outputs": [],
   "source": [
    "# ws_schedule = pd.read_csv('ws_schedule.csv')"
   ]
  },
  {
   "cell_type": "code",
   "execution_count": null,
   "metadata": {},
   "outputs": [],
   "source": [
    "ws_schedule.to_csv('ws_schedule.csv')"
   ]
  },
  {
   "cell_type": "code",
   "execution_count": null,
   "metadata": {},
   "outputs": [],
   "source": [
    "ws_schedule = ws_schedule[ws_schedule['date'] < datetime.datetime.now().strftime('%Y-%m-%d')]"
   ]
  },
  {
   "cell_type": "code",
   "execution_count": null,
   "metadata": {},
   "outputs": [],
   "source": [
    "fbref_schedule = fbref_schedule.dropna(subset=['home_xg'])"
   ]
  },
  {
   "cell_type": "code",
   "execution_count": null,
   "metadata": {},
   "outputs": [],
   "source": [
    "ws_schedule = ws_schedule.reset_index().rename({'league':\"COMPETITION\", \"season\":\"SEASON\"}, axis=1)\n",
    "ws_schedule.set_index(['COMPETITION', 'SEASON', 'game'], inplace=True)"
   ]
  },
  {
   "cell_type": "code",
   "execution_count": null,
   "metadata": {},
   "outputs": [],
   "source": [
    "ws_schedule.loc[ws_schedule['home_team'] == 'Manchester United', 'home_team'] = 'Manchester Utd'\n",
    "ws_schedule.loc[ws_schedule['away_team'] == 'Manchester United', 'away_team'] = 'Manchester Utd'\n",
    "ws_schedule.loc[ws_schedule['home_team'] == 'Newcastle United', 'home_team'] = 'Newcastle Utd'\n",
    "ws_schedule.loc[ws_schedule['away_team'] == 'Newcastle United', 'away_team'] = 'Newcastle Utd'\n",
    "ws_schedule.loc[ws_schedule['home_team'] == 'Newcastle', 'home_team'] = 'Newcastle Utd'\n",
    "ws_schedule.loc[ws_schedule['away_team'] == 'Newcastle', 'away_team'] = 'Newcastle Utd'\n",
    "ws_schedule.loc[ws_schedule['home_team'] == 'Tottenham Hotspur', 'home_team'] = 'Tottenham'\n",
    "ws_schedule.loc[ws_schedule['away_team'] == 'Tottenham Hotspur', 'away_team'] = 'Tottenham'\n",
    "ws_schedule.loc[ws_schedule['home_team'] == 'Wolverhampton Wanderers', 'home_team'] = 'Wolves'\n",
    "ws_schedule.loc[ws_schedule['away_team'] == 'Wolverhampton Wanderers', 'away_team'] = 'Wolves'\n",
    "ws_schedule.loc[ws_schedule['home_team'] == 'Wolverhampton', 'home_team'] = 'Wolves'\n",
    "ws_schedule.loc[ws_schedule['away_team'] == 'Wolverhampton', 'away_team'] = 'Wolves'\n",
    "ws_schedule.loc[ws_schedule['home_team'] == 'Nottingham Forest', 'home_team'] = \"Nott'ham Forest\"\n",
    "ws_schedule.loc[ws_schedule['away_team'] == 'Nottingham Forest', 'away_team'] = \"Nott'ham Forest\"\n",
    "ws_schedule.loc[ws_schedule['home_team'] == 'Leicester', 'home_team'] = \"Leicester City\"\n",
    "ws_schedule.loc[ws_schedule['away_team'] == 'Leicester', 'away_team'] = \"Leicester City\"\n",
    "ws_schedule.loc[ws_schedule['home_team'] == 'Leeds', 'home_team'] = \"Leeds United\"\n",
    "ws_schedule.loc[ws_schedule['away_team'] == 'Leeds', 'away_team'] = \"Leeds United\"\n",
    "ws_schedule.loc[ws_schedule['home_team'] == 'Sheffield United', 'home_team'] = \"Sheffield Utd\"\n",
    "ws_schedule.loc[ws_schedule['away_team'] == 'Sheffield United', 'away_team'] = \"Sheffield Utd\"\n",
    "ws_schedule.loc[ws_schedule['home_team'] == 'Luton', 'home_team'] = \"Luton Town\"\n",
    "ws_schedule.loc[ws_schedule['away_team'] == 'Luton', 'away_team'] = \"Luton Town\"\n",
    "ws_schedule.loc[ws_schedule['home_team'] == 'Norwich', 'home_team'] = \"Norwich City\"\n",
    "ws_schedule.loc[ws_schedule['away_team'] == 'Norwich', 'away_team'] = \"Norwich City\"\n",
    "\n",
    "ws_schedule.loc[ws_schedule['home_team'] == 'Atletico Madrid', 'home_team'] = 'Atlético Madrid'\n",
    "ws_schedule.loc[ws_schedule['away_team'] == 'Atletico Madrid', 'away_team'] = 'Atlético Madrid'\n",
    "ws_schedule.loc[ws_schedule['home_team'] == 'Cadiz', 'home_team'] = 'Cádiz'\n",
    "ws_schedule.loc[ws_schedule['away_team'] == 'Cadiz', 'away_team'] = 'Cádiz'\n",
    "ws_schedule.loc[ws_schedule['home_team'] == 'Deportivo Alaves', 'home_team'] = 'Alavés'\n",
    "ws_schedule.loc[ws_schedule['away_team'] == 'Deportivo Alaves', 'away_team'] = 'Alavés'\n",
    "ws_schedule.loc[ws_schedule['home_team'] == 'Real Betis', 'home_team'] = 'Betis'\n",
    "ws_schedule.loc[ws_schedule['away_team'] == 'Real Betis', 'away_team'] = 'Betis'\n",
    "ws_schedule.loc[ws_schedule['home_team'] == 'Deportivo Alaves', 'home_team'] = 'Alavés'\n",
    "ws_schedule.loc[ws_schedule['away_team'] == 'Deportivo Alaves', 'away_team'] = 'Alavés'\n",
    "ws_schedule.loc[ws_schedule['home_team'] == 'Real Valladolid', 'home_team'] = 'Valladolid'\n",
    "ws_schedule.loc[ws_schedule['away_team'] == 'Real Valladolid', 'away_team'] = 'Valladolid'\n",
    "ws_schedule.loc[ws_schedule['home_team'] == 'Almeria', 'home_team'] = 'Almería'\n",
    "ws_schedule.loc[ws_schedule['away_team'] == 'Almeria', 'away_team'] = 'Almería'\n",
    "\n",
    "ws_schedule.loc[ws_schedule['home_team'] == 'Arminia Bielefeld', 'home_team'] = 'Arminia'\n",
    "ws_schedule.loc[ws_schedule['away_team'] == 'Arminia Bielefeld', 'away_team'] = 'Arminia'\n",
    "ws_schedule.loc[ws_schedule['home_team'] == 'Bayer Leverkusen', 'home_team'] = 'Leverkusen'\n",
    "ws_schedule.loc[ws_schedule['away_team'] == 'Bayer Leverkusen', 'away_team'] = 'Leverkusen'\n",
    "ws_schedule.loc[ws_schedule['home_team'] == 'Borussia Dortmund', 'home_team'] = 'Dortmund'\n",
    "ws_schedule.loc[ws_schedule['away_team'] == 'Borussia Dortmund', 'away_team'] = 'Dortmund'\n",
    "ws_schedule.loc[ws_schedule['home_team'] == 'Borussia M.Gladbach', 'home_team'] = \"M'Gladbach\"\n",
    "ws_schedule.loc[ws_schedule['away_team'] == 'Borussia M.Gladbach', 'away_team'] = \"M'Gladbach\"\n",
    "ws_schedule.loc[ws_schedule['home_team'] == 'Eintracht Frankfurt', 'home_team'] = \"Eint Frankfurt\"\n",
    "ws_schedule.loc[ws_schedule['away_team'] == 'Eintracht Frankfurt', 'away_team'] = \"Eint Frankfurt\"\n",
    "ws_schedule.loc[ws_schedule['home_team'] == 'Greuther Fuerth', 'home_team'] = \"Greuther Fürth\"\n",
    "ws_schedule.loc[ws_schedule['away_team'] == 'Greuther Fuerth', 'away_team'] = \"Greuther Fürth\"\n",
    "ws_schedule.loc[ws_schedule['home_team'] == 'FC Koln', 'home_team'] = \"Köln\"\n",
    "ws_schedule.loc[ws_schedule['away_team'] == 'FC Koln', 'away_team'] = \"Köln\"\n",
    "ws_schedule.loc[ws_schedule['home_team'] == 'Hertha Berlin', 'home_team'] = \"Hertha BSC\"\n",
    "ws_schedule.loc[ws_schedule['away_team'] == 'Hertha Berlin', 'away_team'] = \"Hertha BSC\"\n",
    "ws_schedule.loc[ws_schedule['home_team'] == 'VfB Stuttgart', 'home_team'] = \"Stuttgart\"\n",
    "ws_schedule.loc[ws_schedule['away_team'] == 'VfB Stuttgart', 'away_team'] = \"Stuttgart\"\n",
    "ws_schedule.loc[ws_schedule['home_team'] == 'Darmstadt', 'home_team'] = \"Darmstadt 98\"\n",
    "ws_schedule.loc[ws_schedule['away_team'] == 'Darmstadt', 'away_team'] = \"Darmstadt 98\"\n",
    "ws_schedule.loc[ws_schedule['home_team'] == 'FC Heidenheim', 'home_team'] = \"Heidenheim\"\n",
    "ws_schedule.loc[ws_schedule['away_team'] == 'FC Heidenheim', 'away_team'] = \"Heidenheim\"\n",
    "\n",
    "ws_schedule.loc[ws_schedule['home_team'] == 'Verona', 'home_team'] = \"Hellas Verona\"\n",
    "ws_schedule.loc[ws_schedule['away_team'] == 'Verona', 'away_team'] = \"Hellas Verona\"\n",
    "\n",
    "ws_schedule.loc[ws_schedule['home_team'] == 'Paris Saint-Germain', 'home_team'] = \"Paris S-G\"\n",
    "ws_schedule.loc[ws_schedule['away_team'] == 'Paris Saint-Germain', 'away_team'] = \"Paris S-G\"\n",
    "ws_schedule.loc[ws_schedule['home_team'] == 'AC Ajaccio', 'home_team'] = \"Ajaccio\"\n",
    "ws_schedule.loc[ws_schedule['away_team'] == 'AC Ajaccio', 'away_team'] = \"Ajaccio\"\n",
    "ws_schedule.loc[ws_schedule['home_team'] == 'Saint-Etienne', 'home_team'] = \"Saint-Étienne\"\n",
    "ws_schedule.loc[ws_schedule['away_team'] == 'Saint-Etienne', 'away_team'] = \"Saint-Étienne\""
   ]
  },
  {
   "cell_type": "code",
   "execution_count": null,
   "metadata": {},
   "outputs": [],
   "source": [
    "fbref_lineups.loc[fbref_lineups['TEAM_NAME'] == 'Bayer Leverkusen', 'TEAM_NAME'] = 'Leverkusen'\n",
    "fbref_lineups.loc[fbref_lineups['TEAM_NAME'] == 'Eintracht Frankfurt', 'TEAM_NAME'] = 'Eint Frankfurt'\n",
    "fbref_lineups.loc[fbref_lineups['TEAM_NAME'] == 'Mönchengladbach', 'TEAM_NAME'] = \"M'Gladbach\"\n",
    "fbref_lineups.loc[fbref_lineups['TEAM_NAME'] == 'Milan', 'TEAM_NAME'] = \"AC Milan\"\n",
    "fbref_lineups.loc[fbref_lineups['TEAM_NAME'] == 'Internazionale', 'TEAM_NAME'] = \"Inter\"\n",
    "fbref_lineups.loc[fbref_lineups['TEAM_NAME'] == 'Paris Saint-Germain', 'TEAM_NAME'] = \"Paris S-G\"\n",
    "fbref_lineups.loc[fbref_lineups['TEAM_NAME'] == 'Real Betis', 'TEAM_NAME'] = \"Betis\""
   ]
  },
  {
   "cell_type": "code",
   "execution_count": null,
   "metadata": {},
   "outputs": [],
   "source": [
    "ws_schedule.reset_index(inplace=True)\n",
    "fbref_schedule.reset_index(inplace=True)"
   ]
  },
  {
   "cell_type": "code",
   "execution_count": null,
   "metadata": {},
   "outputs": [],
   "source": [
    "ws_schedule = ws_schedule.rename({'game_id':\"ws_game_id\"}, axis=1)"
   ]
  },
  {
   "cell_type": "code",
   "execution_count": null,
   "metadata": {},
   "outputs": [],
   "source": [
    "ws_schedule['SEASON'] = ws_schedule['SEASON'].astype('int64')"
   ]
  },
  {
   "cell_type": "code",
   "execution_count": null,
   "metadata": {},
   "outputs": [],
   "source": [
    "sorted(fbref_schedule['home_team'].unique())==sorted(ws_schedule['home_team'].unique())"
   ]
  },
  {
   "cell_type": "code",
   "execution_count": null,
   "metadata": {},
   "outputs": [],
   "source": [
    "fbref_schedule = pd.merge(fbref_schedule, ws_schedule[[\"COMPETITION\", \"SEASON\", \"home_team\", \"away_team\",\"ws_game_id\"]], \n",
    "          on=[\"COMPETITION\", \"SEASON\", \"home_team\", \"away_team\"], how='inner')"
   ]
  },
  {
   "cell_type": "code",
   "execution_count": null,
   "metadata": {},
   "outputs": [],
   "source": [
    "loader = ws.read_events(output_fmt='loader')"
   ]
  },
  {
   "cell_type": "code",
   "execution_count": null,
   "metadata": {},
   "outputs": [],
   "source": [
    "game_ids = fbref_schedule[fbref_schedule['game_id'].isin(matches_to_scarpe)]['ws_game_id'].unique()"
   ]
  },
  {
   "cell_type": "code",
   "execution_count": null,
   "metadata": {},
   "outputs": [],
   "source": [
    "ws_players = pd.DataFrame(columns=['game_id', 'team_id', 'player_id', 'player_name', \n",
    "                                   'is_starter','minutes_played', 'jersey_number', 'starting_position'])"
   ]
  },
  {
   "cell_type": "code",
   "execution_count": null,
   "metadata": {},
   "outputs": [],
   "source": [
    "ws_teams=pd.DataFrame(columns=['team_id', 'team_name'])"
   ]
  },
  {
   "cell_type": "code",
   "execution_count": null,
   "metadata": {},
   "outputs": [],
   "source": [
    "games_no_players = []"
   ]
  },
  {
   "cell_type": "code",
   "execution_count": null,
   "metadata": {},
   "outputs": [],
   "source": [
    "# game_ids = fbref_schedule['ws_game_id'].unique()\n",
    "# matches_to_scarpe = fbref_schedule['game_id'].unique()"
   ]
  },
  {
   "cell_type": "code",
   "execution_count": null,
   "metadata": {},
   "outputs": [],
   "source": [
    "game_ids"
   ]
  },
  {
   "cell_type": "code",
   "execution_count": null,
   "metadata": {},
   "outputs": [],
   "source": [
    "for game in tqdm(game_ids):\n",
    "    try:\n",
    "        ws_teams = pd.concat([ws_teams, loader.teams(game_id=game)])\n",
    "        ws_players = pd.concat([ws_players, loader.players(game_id=game)])\n",
    "    except:\n",
    "        games_no_players.append(game)"
   ]
  },
  {
   "cell_type": "code",
   "execution_count": null,
   "metadata": {},
   "outputs": [],
   "source": [
    "ws_teams.drop_duplicates(inplace=True)"
   ]
  },
  {
   "cell_type": "code",
   "execution_count": null,
   "metadata": {},
   "outputs": [],
   "source": [
    "ws_teams.reset_index(drop=True, inplace=True)"
   ]
  },
  {
   "cell_type": "code",
   "execution_count": null,
   "metadata": {},
   "outputs": [],
   "source": [
    "sorted(ws_schedule['home_team'].unique()) == sorted(ws_teams['team_name'])"
   ]
  },
  {
   "cell_type": "code",
   "execution_count": null,
   "metadata": {},
   "outputs": [],
   "source": [
    "len(sorted(ws_schedule['home_team'].unique()))"
   ]
  },
  {
   "cell_type": "code",
   "execution_count": null,
   "metadata": {},
   "outputs": [],
   "source": [
    "len(sorted(ws_teams['team_name']))"
   ]
  },
  {
   "cell_type": "code",
   "execution_count": null,
   "metadata": {},
   "outputs": [],
   "source": [
    "ws_teams.loc[ws_teams['team_name'] == 'Arminia Bielefeld', 'team_name'] = 'Arminia'\n",
    "ws_teams.loc[ws_teams['team_name'] == 'Bayern', 'team_name'] = 'Bayern Munich'\n",
    "ws_teams.loc[ws_teams['team_name'] == 'Borussia Dortmund', 'team_name'] = 'Dortmund'\n",
    "ws_teams.loc[ws_teams['team_name'] == 'Borussia M.Gladbach', 'team_name'] = \"M'Gladbach\"\n",
    "ws_teams.loc[ws_teams['team_name'] == 'Eintracht Frankfurt', 'team_name'] = \"Eint Frankfurt\"\n",
    "ws_teams.loc[ws_teams['team_name'] == 'FC Koln', 'team_name'] = 'Köln'\n",
    "ws_teams.loc[ws_teams['team_name'] == 'Mainz', 'team_name'] = \"Mainz 05\"\n",
    "ws_teams.loc[ws_teams['team_name'] == 'RBL', 'team_name'] = \"RB Leipzig\"\n",
    "ws_teams.loc[ws_teams['team_name'] == 'Greuther Fuerth', 'team_name'] = \"Greuther Fürth\"\n",
    "ws_teams.loc[ws_teams['team_name'] == 'Hertha Berlin', 'team_name'] = \"Hertha BSC\"\n",
    "ws_teams.loc[ws_teams['team_name'] == 'Schalke', 'team_name'] = 'Schalke 04'\n",
    "ws_teams.loc[ws_teams['team_name'] == 'Darmstadt', 'team_name'] = \"Darmstadt 98\"\n",
    "ws_teams.loc[ws_teams['team_name'] == 'FC Heidenheim', 'team_name'] = 'Heidenheim'\n",
    "\n",
    "ws_teams.loc[ws_teams['team_name'] == 'Luton', 'team_name'] = 'Luton Town'\n",
    "ws_teams.loc[ws_teams['team_name'] == 'Nottingham Forest', 'team_name'] = \"Nott'ham Forest\"\n",
    "ws_teams.loc[ws_teams['team_name'] == 'Sheff Utd', 'team_name'] = \"Sheffield Utd\"\n",
    "ws_teams.loc[ws_teams['team_name'] == 'Man Utd', 'team_name'] = \"Manchester Utd\"\n",
    "ws_teams.loc[ws_teams['team_name'] == 'Man City', 'team_name'] = \"Manchester City\"\n",
    "ws_teams.loc[ws_teams['team_name'] == 'Newcastle', 'team_name'] = \"Newcastle Utd\"\n",
    "\n",
    "ws_teams.loc[ws_teams['team_name'] == 'Atletico', 'team_name'] = 'Atlético Madrid'\n",
    "ws_teams.loc[ws_teams['team_name'] == 'Cadiz', 'team_name'] = 'Cádiz'\n",
    "ws_teams.loc[ws_teams['team_name'] == 'Deportivo Alaves', 'team_name'] = 'Alavés'\n",
    "ws_teams.loc[ws_teams['team_name'] == 'Real Betis', 'team_name'] = 'Betis'\n",
    "ws_teams.loc[ws_teams['team_name'] == 'Almeria', 'team_name'] = 'Almería'\n",
    "ws_teams.loc[ws_teams['team_name'] == 'Real Valladolid', 'team_name'] = 'Valladolid'\n",
    "\n",
    "ws_teams.loc[ws_teams['team_name'] == 'Verona', 'team_name'] = 'Hellas Verona'\n",
    "\n",
    "ws_teams.loc[ws_teams['team_name'] == 'PSG', 'team_name'] = 'Paris S-G'\n",
    "ws_teams.loc[ws_teams['team_name'] == 'Saint-Etienne', 'team_name'] = 'Saint-Étienne'\n",
    "ws_teams.loc[ws_teams['team_name'] == 'AC Ajaccio', 'team_name'] = \"Ajaccio\""
   ]
  },
  {
   "cell_type": "code",
   "execution_count": null,
   "metadata": {},
   "outputs": [],
   "source": [
    "# WhoScored decide to name Willy Boly with two different names. Idiots\n",
    "ws_players.replace({\"Willy-Arnaud Boly\": \"Willy Boly\"}, inplace=True)\n",
    "ws_players.replace({\"Kepa\": \"Kepa Arrizabalaga\"}, inplace=True)\n",
    "ws_players.replace({\"Yehor Yarmolyuk\": \"Yehor Yarmoliuk\"}, inplace=True)\n",
    "ws_players.replace({\"Vitalii Mykolenko\": \"Vitaliy Mykolenko\"}, inplace=True)\n",
    "ws_players.replace({\"Dan Bentley\": \"Daniel Bentley\"}, inplace=True)\n",
    "ws_players.replace({\"Toti\": \"Toti Gomes\"}, inplace=True)\n",
    "ws_players.replace({\"Joe Hodge\": \"Joseph Hodge\"}, inplace=True)\n",
    "ws_players.replace({\"Jonny Otto\": \"Jonny\"}, inplace=True)\n",
    "ws_players.replace({\"Álvaro Carreras\": \"Álvaro Fernández\"}, inplace=True)\n",
    "ws_players.replace({\"Alisson Becker\": \"Alisson\"}, inplace=True)\n",
    "ws_players.replace({\"Andy Robertson\": \"Andrew Robertson\"}, inplace=True)\n",
    "ws_players.replace({\"Konstantinos Tsimikas\": \"Kostas Tsimikas\"}, inplace=True)\n",
    "ws_players.replace({\"Alphonse Aréola\": \"Alphonse Areola\"}, inplace=True)\n",
    "ws_players.replace({\"Pape Sarr\": \"Pape Matar Sarr\"}, inplace=True)\n",
    "ws_players.replace({\"Yago Alonso\": \"Yago Santiago\"}, inplace=True)"
   ]
  },
  {
   "cell_type": "markdown",
   "metadata": {},
   "source": [
    "## Snowflake Data Upload"
   ]
  },
  {
   "cell_type": "code",
   "execution_count": null,
   "metadata": {},
   "outputs": [],
   "source": [
    "SNOWFLAKE_USER = 'kbharaj3'\n",
    "SNOWFLAKE_PASSWORD = 'Snowfl@key0014'\n",
    "SNOWFLAKE_ACCOUNT = 'qx25653.ca-central-1.aws'\n",
    "SNOWFLAKE_WAREHOUSE = 'FOOTY_STORE'\n",
    "SNOWFLAKE_DATABASE = 'GEGENSTATS'\n",
    "SNOWFLAKE_SCHEMA = 'TABLES'"
   ]
  },
  {
   "cell_type": "code",
   "execution_count": null,
   "metadata": {},
   "outputs": [],
   "source": [
    "conn = snowflake.connector.connect(\n",
    "    user=SNOWFLAKE_USER,\n",
    "    password=SNOWFLAKE_PASSWORD,\n",
    "    account=SNOWFLAKE_ACCOUNT,\n",
    "    warehouse=SNOWFLAKE_WAREHOUSE,\n",
    "    database=SNOWFLAKE_DATABASE,\n",
    "    schema=SNOWFLAKE_SCHEMA\n",
    "    )"
   ]
  },
  {
   "cell_type": "code",
   "execution_count": null,
   "metadata": {},
   "outputs": [],
   "source": [
    "cur = conn.cursor()\n",
    "cur.execute(f\"USE WAREHOUSE {SNOWFLAKE_WAREHOUSE}\")"
   ]
  },
  {
   "cell_type": "code",
   "execution_count": null,
   "metadata": {},
   "outputs": [],
   "source": [
    "create_schema_sql = f\"CREATE SCHEMA IF NOT EXISTS {SNOWFLAKE_SCHEMA}\"\n",
    "cur.execute(create_schema_sql)"
   ]
  },
  {
   "cell_type": "code",
   "execution_count": null,
   "metadata": {},
   "outputs": [],
   "source": [
    "print(\"The Snowflake warehouse being used is:\", SNOWFLAKE_WAREHOUSE)"
   ]
  },
  {
   "cell_type": "code",
   "execution_count": null,
   "metadata": {},
   "outputs": [],
   "source": [
    "cur.execute('SELECT * FROM TEAMS')\n",
    "team_rows = cur.fetchall()\n",
    "column_names = [desc[0] for desc in cur.description]\n",
    "curr_team_names = pd.DataFrame(team_rows, columns=column_names)"
   ]
  },
  {
   "cell_type": "code",
   "execution_count": null,
   "metadata": {},
   "outputs": [],
   "source": [
    "## Below (if not blank) are the teams you need to create LOGOS for\n",
    "team_names_not_in_curr = team_names[~team_names['TEAM_NAME'].isin(curr_team_names['TEAM_NAME'])]\n",
    "team_names_not_in_curr"
   ]
  },
  {
   "cell_type": "code",
   "execution_count": null,
   "metadata": {},
   "outputs": [],
   "source": [
    "def upsert_to_snowflake(table_name, dataframe, primary_keys):\n",
    "    if isinstance(primary_keys, str):\n",
    "        primary_keys = [primary_keys]\n",
    "\n",
    "    temp_table_name = f\"{table_name}_TEMP\"\n",
    "    success, nchunks, nrows, _ = write_pandas(conn, dataframe, temp_table_name, auto_create_table=True)\n",
    "\n",
    "    on_condition = ' AND '.join([f\"{table_name}.{pk} = {temp_table_name}.{pk}\" for pk in primary_keys])\n",
    "\n",
    "    update_columns = [col for col in dataframe.columns if col not in primary_keys]\n",
    "    update_sql = ', '.join([f\"{table_name}.{col} = {temp_table_name}.{col}\" for col in update_columns])\n",
    "\n",
    "    merge_sql = f\"\"\"\n",
    "    MERGE INTO {table_name} USING {temp_table_name}\n",
    "    ON {on_condition}\n",
    "    \"\"\"\n",
    "\n",
    "    if update_columns:\n",
    "        merge_sql += f\"\"\"\n",
    "        WHEN MATCHED THEN\n",
    "            UPDATE SET\n",
    "                {update_sql}\n",
    "        \"\"\"\n",
    "\n",
    "    merge_sql += f\"\"\"\n",
    "    WHEN NOT MATCHED THEN\n",
    "        INSERT ({', '.join(dataframe.columns)})\n",
    "        VALUES ({', '.join([f\"{temp_table_name}.{col}\" for col in dataframe.columns])})\n",
    "    \"\"\"\n",
    "\n",
    "    cur.execute(merge_sql)\n",
    "    cur.execute(f\"DROP TABLE IF EXISTS {temp_table_name}\")\n",
    "\n",
    "    print(f\"Upsert completed. {nrows} rows processed.\")"
   ]
  },
  {
   "cell_type": "code",
   "execution_count": null,
   "metadata": {},
   "outputs": [],
   "source": [
    "ws_teams.rename({'team_name':'TEAM_NAME', 'team_id':'TEAM_WS_ID'}, axis=1, inplace=True)"
   ]
  },
  {
   "cell_type": "code",
   "execution_count": null,
   "metadata": {},
   "outputs": [],
   "source": [
    "team_logos = \\\n",
    "[[\"Angers\", \"https://i.imgur.com/dyRj0Cc.png\"], [\"Bordeaux\", \"https://i.imgur.com/2NxcpPo.png\"],\n",
    " [\"Brest\", \"https://i.imgur.com/klKUp8n.png\"], [\"Clermont Foot\", \"https://i.imgur.com/7RHafik.png\"],\n",
    " [\"Lens\", \"https://i.imgur.com/9hfNDts.png\"], [\"Lille\", \"https://i.imgur.com/G3MyVe5.png\"],\n",
    " [\"Lorient\", \"https://i.imgur.com/9k1Kgp6.png\"], [\"Lyon\", \"https://i.imgur.com/F0cNDBC.png\"],\n",
    " [\"Marseille\", \"https://i.imgur.com/jbim9vo.png\"], [\"Metz\", \"https://i.imgur.com/UvYK5II.png\"],\n",
    " [\"Monaco\", \"https://i.imgur.com/HNfIv5Y.png\"], [\"Montpellier\", \"https://i.imgur.com/lwG9vvR.png\"],\n",
    " [\"Nantes\", \"https://i.imgur.com/rxlejD4.png\"], [\"Nice\", \"https://i.imgur.com/bIsadPH.png\"],\n",
    " [\"Paris S-G\", \"https://i.imgur.com/kuN3QSp.png\"], [\"Reims\", \"https://i.imgur.com/xULypbI.png\"],\n",
    " [\"Rennes\", \"https://i.imgur.com/TZq2Hvr.png\"], [\"Saint-Étienne\", \"https://i.imgur.com/iIex5w7.png\"],\n",
    " [\"Strasbourg\", \"https://i.imgur.com/RKf7LuY.png\"], [\"Troyes\", \"https://i.imgur.com/6VTNoyL.png\"],\n",
    " [\"Ajaccio\", \"https://i.imgur.com/FSm4pRb.png\"], [\"Auxerre\", \"https://i.imgur.com/mwlqKAg.png\"],\n",
    " [\"Toulouse\", \"https://i.imgur.com/dvkjqJ2.png\"], [\"Le Havre\", \"https://i.imgur.com/YHGxNQP.png\"]\n",
    " ]"
   ]
  },
  {
   "cell_type": "code",
   "execution_count": null,
   "metadata": {},
   "outputs": [],
   "source": [
    "# team_logos = \\\n",
    "# [[\"Atalanta\", \"https://i.imgur.com/SDA0nMH.png\"], [\"Bologna\", \"https://i.imgur.com/rVqtfOA.png\"],\n",
    "#  [\"Cagliari\", \"https://i.imgur.com/rbAC6zo.png\"], [\"Empoli\", \"https://i.imgur.com/52xSYdX.png\"],\n",
    "#  [\"Fiorentina\", \"https://i.imgur.com/hOQC1jo.png\"], [\"Genoa\", \"https://i.imgur.com/KjtIy8U.png\"],\n",
    "#  [\"Hellas Verona\", \"https://i.imgur.com/vhAWZQO.png\"], [\"Inter\", \"https://i.imgur.com/JsJ06ke.png\"],\n",
    "#  [\"Juventus\", \"https://i.imgur.com/60XAIJI.png\"], [\"Lazio\", \"https://i.imgur.com/SBsGYjm.png\"],\n",
    "#  [\"AC Milan\", \"https://i.imgur.com/1Ze94pt.png\"], [\"Napoli\", \"https://i.imgur.com/Ql7LKBZ.png\"],\n",
    "#  [\"Roma\", \"https://i.imgur.com/nhMJAHW.png\"], [\"Salernitana\", \"https://i.imgur.com/sYubMBZ.png\"],\n",
    "#  [\"Sampdoria\", \"https://i.imgur.com/MTOvCDt.png\"], [\"Sassuolo\", \"https://i.imgur.com/px5mT39.png\"],\n",
    "#  [\"Spezia\", \"https://i.imgur.com/gYVirSf.png\"], [\"Torino\", \"https://i.imgur.com/XWmpYeu.png\"],\n",
    "#  [\"Udinese\", \"https://i.imgur.com/Dp0KUmN.png\"], [\"Venezia\", \"https://i.imgur.com/VjHBE7d.png\"],\n",
    "#  [\"Cremonese\", \"https://i.imgur.com/r6hDldN.png\"], [\"Lecce\", \"https://i.imgur.com/9A4flGu.png\"], \n",
    "#  [\"Monza\", \"https://i.imgur.com/7bHOIx9.png\"], [\"Frosinone\", \"https://i.imgur.com/x8qGMuV.png\"]\n",
    "#  ]"
   ]
  },
  {
   "cell_type": "code",
   "execution_count": null,
   "metadata": {},
   "outputs": [],
   "source": [
    "# team_logos = \\\n",
    "# [[\"Arminia\", \"https://i.imgur.com/PKcXmoo.png\"], [\"Augsburg\", \"https://i.imgur.com/c9rRqYo.png\"],\n",
    "#  [\"Bayern Munich\", \"https://i.imgur.com/rO1xVQh.png\"], [\"Bochum\", \"https://i.imgur.com/3LmZ5gX.png\"],\n",
    "#  [\"Dortmund\", \"https://i.imgur.com/DyWKX0s.png\"], [\"Eint Frankfurt\", \"https://i.imgur.com/Fz4xh6m.png\"],\n",
    "#  [\"Freiburg\", \"https://i.imgur.com/1JUxe7u.png\"], [\"Greuther Fürth\", \"https://i.imgur.com/ttJEUIb.png\"],\n",
    "#  [\"Hertha BSC\", \"https://i.imgur.com/KAgTHoB.png\"], [\"Hoffenheim\", \"https://i.imgur.com/dooGO0m.png\"],\n",
    "#  [\"Köln\", \"https://i.imgur.com/Gpz6jl7.png\"], [\"Leverkusen\", \"https://i.imgur.com/q3lV6o8.png\"],\n",
    "#  [\"M'Gladbach\", \"https://i.imgur.com/K6aoRqW.png\"], [\"Mainz 05\", \"https://i.imgur.com/iOoxKkB.png\"],\n",
    "#  [\"RB Leipzig\", \"https://i.imgur.com/CXfyKw4.png\"], [\"Stuttgart\", \"https://i.imgur.com/eQB0wsT.png\"],\n",
    "#  [\"Union Berlin\", \"https://i.imgur.com/e5pjmHx.png\"], [\"Wolfsburg\", \"https://i.imgur.com/o2PP4ux.png\"],\n",
    "#  [\"Schalke 04\", \"https://i.imgur.com/FfsE1Kk.png\"], [\"Werder Bremen\", \"https://i.imgur.com/XrAnCXM.png\"],\n",
    "#  [\"Darmstadt 98\", \"https://i.imgur.com/CZbwcFI.png\"], [\"Heidenheim\", \"https://i.imgur.com/ks2nifY.png\"]\n",
    "#  ]"
   ]
  },
  {
   "cell_type": "code",
   "execution_count": null,
   "metadata": {},
   "outputs": [],
   "source": [
    "# team_logos = \\\n",
    "# [[\"Barcelona\", \"https://i.imgur.com/1ZRO0Be.png\"], [\"Villarreal\", \"https://i.imgur.com/yQJvRBY.png\"],\n",
    "#  [\"Valencia\", \"https://i.imgur.com/Erg2x2b.png\"], [\"Sevilla\", \"https://i.imgur.com/z3WXql2.png\"],\n",
    "#  [\"Real Sociedad\", \"https://i.imgur.com/KdMxrGX.png\"], [\"Real Madrid\", \"https://i.imgur.com/pPD5ZAg.png\"],\n",
    "#  [\"Rayo Vallecano\", \"https://i.imgur.com/cQ5Mv8I.png\"], [\"Osasuna\", \"https://i.imgur.com/6kAlaCy.png\"],\n",
    "#  [\"Mallorca\", \"https://i.imgur.com/Qvdlcxy.png\"], [\"Levante\", \"https://i.imgur.com/8fZG4VA.png\"],\n",
    "#  [\"Granada\", \"https://i.imgur.com/ce69kNa.png\"], [\"Getafe\", \"https://i.imgur.com/C4eV2p0.png\"],\n",
    "#  [\"Espanyol\", \"https://i.imgur.com/RHTK1eL.png\"], [\"Elche\", \"https://i.imgur.com/S9bDHtO.png\"],\n",
    "#  [\"Cádiz\", \"https://i.imgur.com/DztjVQE.png\"], [\"Celta Vigo\", \"https://i.imgur.com/kTsF0rV.png\"],\n",
    "#  [\"Betis\", \"https://i.imgur.com/zyGTmAb.png\"], [\"Atlético Madrid\", \"https://i.imgur.com/x4c0wbO.png\"],\n",
    "#  [\"Athletic Club\", \"https://i.imgur.com/qI6Uchm.png\"], [\"Alavés\", \"https://i.imgur.com/o4rSfuL.png\"],\n",
    "#  [\"Almería\", \"https://i.imgur.com/kFyJaGO.png\"], [\"Girona\", \"https://i.imgur.com/0CwKO1D.png\"],\n",
    "#  [\"Valladolid\", \"https://i.imgur.com/HCShRZI.png\"], [\"Las Palmas\", \"https://i.imgur.com/KAHlAuF.png\"]\n",
    "#  ]"
   ]
  },
  {
   "cell_type": "code",
   "execution_count": null,
   "metadata": {},
   "outputs": [],
   "source": [
    "# team_names = team_names.merge(pd.DataFrame(team_logos, columns=[\"TEAM_NAME\", \"TEAM_LOGO_URL\"]), on=\"TEAM_NAME\")"
   ]
  },
  {
   "cell_type": "code",
   "execution_count": null,
   "metadata": {},
   "outputs": [],
   "source": [
    "# ws_teams.rename({'team_name':'TEAM_NAME', 'team_id':'TEAM_WS_ID'}, axis=1, inplace=True)"
   ]
  },
  {
   "cell_type": "code",
   "execution_count": null,
   "metadata": {},
   "outputs": [],
   "source": [
    "# team_names = team_names.merge(ws_teams, on=\"TEAM_NAME\")"
   ]
  },
  {
   "cell_type": "code",
   "execution_count": null,
   "metadata": {},
   "outputs": [],
   "source": [
    "upsert_to_snowflake(\"TEAMS\", team_names, ['TEAM_FBREF_ID'])"
   ]
  },
  {
   "cell_type": "code",
   "execution_count": null,
   "metadata": {},
   "outputs": [],
   "source": [
    "team_names = fetch_data(cur, 'SELECT * FROM TEAMS')"
   ]
  },
  {
   "cell_type": "code",
   "execution_count": null,
   "metadata": {},
   "outputs": [],
   "source": [
    "team_names.drop(columns=['TEAM_LOGO_URL'], inplace=True)"
   ]
  },
  {
   "cell_type": "code",
   "execution_count": null,
   "metadata": {},
   "outputs": [],
   "source": [
    "team_standard_stats = understat_table.copy()"
   ]
  },
  {
   "cell_type": "code",
   "execution_count": null,
   "metadata": {},
   "outputs": [],
   "source": [
    "# team_standard_stats.reset_index(inplace=True)\n",
    "# team_standard_stats.loc[team_standard_stats['TEAM_NAME'] == 'Luton', 'TEAM_NAME'] = 'Luton Town'\n",
    "# team_standard_stats.set_index(['COMPETITION', 'SEASON', 'TEAM_NAME'], inplace=True)"
   ]
  },
  {
   "cell_type": "code",
   "execution_count": null,
   "metadata": {},
   "outputs": [],
   "source": [
    "team_standard_stats['MATCHES_PLAYED'] = team_matches_played"
   ]
  },
  {
   "cell_type": "code",
   "execution_count": null,
   "metadata": {},
   "outputs": [],
   "source": [
    "team_standard_stats.reset_index(inplace=True)"
   ]
  },
  {
   "cell_type": "code",
   "execution_count": null,
   "metadata": {},
   "outputs": [],
   "source": [
    "team_standard_stats = team_standard_stats.merge(team_names, on='TEAM_NAME', how='left')"
   ]
  },
  {
   "cell_type": "code",
   "execution_count": null,
   "metadata": {},
   "outputs": [],
   "source": [
    "team_standard_stats = team_standard_stats[['TEAM_FBREF_ID','SEASON','COMPETITION','MATCHES_PLAYED','TEAM_WINS', \n",
    "                                           'TEAM_DRAWS', 'TEAM_LOSSES', 'TEAM_PTS', 'TEAM_XPTS']]"
   ]
  },
  {
   "cell_type": "code",
   "execution_count": null,
   "metadata": {},
   "outputs": [],
   "source": [
    "upsert_to_snowflake(\"TEAM_STANDARD_STATS\", team_standard_stats, ['TEAM_FBREF_ID', 'COMPETITION','SEASON'])"
   ]
  },
  {
   "cell_type": "code",
   "execution_count": null,
   "metadata": {},
   "outputs": [],
   "source": [
    "team_attacking_stats = understat_table.copy()"
   ]
  },
  {
   "cell_type": "code",
   "execution_count": null,
   "metadata": {},
   "outputs": [],
   "source": [
    "team_attacking_stats = team_attacking_stats.reset_index().merge(team_names, on='TEAM_NAME', how='left')"
   ]
  },
  {
   "cell_type": "code",
   "execution_count": null,
   "metadata": {},
   "outputs": [],
   "source": [
    "team_attacking_stats = team_attacking_stats[['TEAM_NAME','TEAM_FBREF_ID','COMPETITION','SEASON','NPxG','xG']]"
   ]
  },
  {
   "cell_type": "code",
   "execution_count": null,
   "metadata": {},
   "outputs": [],
   "source": [
    "team_attacking_stats.rename(columns={'NPxG': 'NPXG', 'xG':'XG'}, inplace=True)"
   ]
  },
  {
   "cell_type": "code",
   "execution_count": null,
   "metadata": {},
   "outputs": [],
   "source": [
    "team_attacking_stats.set_index(['COMPETITION', 'SEASON', 'TEAM_NAME'], inplace=True)"
   ]
  },
  {
   "cell_type": "code",
   "execution_count": null,
   "metadata": {},
   "outputs": [],
   "source": [
    "team_attacking_stats['GOALS_SCORED'] = team_goals_scored\n",
    "team_attacking_stats['SHOTS'] = team_shots\n",
    "team_attacking_stats['SHOTS_ON_TARGET'] = team_shotsOT\n",
    "team_attacking_stats['PASS_COMPLETED'] = team_pass_completed\n",
    "team_attacking_stats['PASS_ATTEMPTED'] = team_pass_attempted\n",
    "team_attacking_stats['TAKEONS_ATTEMPTED'] = team_takeons_attempted\n",
    "team_attacking_stats['TAKEONS_COMPLETED'] = team_takeons_completed\n",
    "team_attacking_stats['CROSSES_INTO_PA'] = team_crossesintoPA\n",
    "team_attacking_stats['FOULS_AGAINST'] = team_fouls_against"
   ]
  },
  {
   "cell_type": "code",
   "execution_count": null,
   "metadata": {},
   "outputs": [],
   "source": [
    "team_attacking_stats.reset_index(inplace=True)\n",
    "team_attacking_stats.drop(columns=['TEAM_NAME'], inplace=True)"
   ]
  },
  {
   "cell_type": "code",
   "execution_count": null,
   "metadata": {},
   "outputs": [],
   "source": [
    "upsert_to_snowflake(\"TEAM_ATTACKING_STATS\", team_attacking_stats, ['TEAM_FBREF_ID', 'COMPETITION','SEASON'])"
   ]
  },
  {
   "cell_type": "code",
   "execution_count": null,
   "metadata": {},
   "outputs": [],
   "source": [
    "team_defending_stats = understat_table.copy()"
   ]
  },
  {
   "cell_type": "code",
   "execution_count": null,
   "metadata": {},
   "outputs": [],
   "source": [
    "team_defending_stats = team_defending_stats.reset_index().merge(team_names, on='TEAM_NAME', how='left')"
   ]
  },
  {
   "cell_type": "code",
   "execution_count": null,
   "metadata": {},
   "outputs": [],
   "source": [
    "team_defending_stats = team_defending_stats[['TEAM_NAME','TEAM_FBREF_ID','COMPETITION','SEASON']]"
   ]
  },
  {
   "cell_type": "code",
   "execution_count": null,
   "metadata": {},
   "outputs": [],
   "source": [
    "team_defending_stats.set_index(['COMPETITION', 'SEASON', 'TEAM_NAME'], inplace=True)"
   ]
  },
  {
   "cell_type": "code",
   "execution_count": null,
   "metadata": {},
   "outputs": [],
   "source": [
    "team_defending_stats['GOALS_CONCEDED'] = team_goals_conceded\n",
    "team_defending_stats['XG_AGAINST'] = understat_table['XG_AGAINST']\n",
    "team_defending_stats['NPXG_AGAINST'] = understat_table['NPXG_AGAINST']\n",
    "team_defending_stats['TACKLES'] = team_tackles\n",
    "team_defending_stats['TACKLES_WON'] = team_tackles_won\n",
    "team_defending_stats['FOULS_MADE'] = team_fouls_made\n",
    "team_defending_stats['INTERCEPTIONS'] = team_interceptions\n",
    "team_defending_stats['BLOCKED_SHOTS'] = team_blocks_shots\n",
    "team_defending_stats['BLOCKED_PASSES'] = team_blocks_pass\n",
    "team_defending_stats['CLEARANCES'] = team_clearances\n",
    "team_defending_stats['PPDA'] = understat_table['PPDA']\n",
    "team_defending_stats['OPP_PPDA'] = team_OPPDA\n",
    "team_defending_stats['POSS_WON'] = teams_poss_won\n",
    "team_defending_stats['FINAL_3RD_PASSES_AGAINST'] = team_final_3rd_passes_against\n",
    "team_defending_stats['CLEAN_SHEETS'] = team_cleansheets\n",
    "team_defending_stats['SHOTS_FACED'] = team_shots_faced"
   ]
  },
  {
   "cell_type": "code",
   "execution_count": null,
   "metadata": {},
   "outputs": [],
   "source": [
    "team_defending_stats.reset_index(inplace=True)\n",
    "team_defending_stats.drop(columns=['TEAM_NAME'], inplace=True)"
   ]
  },
  {
   "cell_type": "code",
   "execution_count": null,
   "metadata": {},
   "outputs": [],
   "source": [
    "# sql_command = \"\"\"\n",
    "# ALTER TABLE GEGENSTATS.TABLES.TEAM_DEFENDING_STATS \n",
    "# ADD COLUMN SHOTS_FACED NUMBER(38,0);\n",
    "# \"\"\"\n",
    "\n",
    "# cur.execute(sql_command)"
   ]
  },
  {
   "cell_type": "code",
   "execution_count": null,
   "metadata": {},
   "outputs": [],
   "source": [
    "# team_shots_faced = team_shots_faced.reset_index()"
   ]
  },
  {
   "cell_type": "code",
   "execution_count": null,
   "metadata": {},
   "outputs": [],
   "source": [
    "# for index, row in team_shots_faced.iterrows():\n",
    "#     sql_command = \"\"\"\n",
    "#     UPDATE GEGENSTATS.TABLES.TEAM_DEFENDING_STATS\n",
    "#     SET SHOTS_FACED = %s\n",
    "#     WHERE TEAM_FBREF_ID = (SELECT TEAM_FBREF_ID FROM GEGENSTATS.TABLES.TEAMS WHERE TEAM_NAME = %s) \n",
    "#       AND COMPETITION = %s\n",
    "#       AND SEASON = %s\n",
    "#     \"\"\"\n",
    "\n",
    "#     values = (row['Sh'], row['TEAM_NAME'], row['COMPETITION'], row['SEASON'])\n",
    "\n",
    "#     cur.execute(sql_command, values)"
   ]
  },
  {
   "cell_type": "code",
   "execution_count": null,
   "metadata": {},
   "outputs": [],
   "source": [
    "upsert_to_snowflake(\"TEAM_DEFENDING_STATS\", team_defending_stats, ['TEAM_FBREF_ID', 'COMPETITION','SEASON'])"
   ]
  },
  {
   "cell_type": "code",
   "execution_count": null,
   "metadata": {},
   "outputs": [],
   "source": [
    "team_misc_stats = understat_table.copy()"
   ]
  },
  {
   "cell_type": "code",
   "execution_count": null,
   "metadata": {},
   "outputs": [],
   "source": [
    "team_misc_stats = team_misc_stats.reset_index().merge(team_names, on='TEAM_NAME', how='left')"
   ]
  },
  {
   "cell_type": "code",
   "execution_count": null,
   "metadata": {},
   "outputs": [],
   "source": [
    "team_misc_stats = team_misc_stats[['TEAM_NAME','TEAM_FBREF_ID','COMPETITION','SEASON']]"
   ]
  },
  {
   "cell_type": "code",
   "execution_count": null,
   "metadata": {},
   "outputs": [],
   "source": [
    "team_misc_stats.set_index(['COMPETITION', 'SEASON', 'TEAM_NAME'], inplace=True)"
   ]
  },
  {
   "cell_type": "code",
   "execution_count": null,
   "metadata": {},
   "outputs": [],
   "source": [
    "team_misc_stats['AERIALS_WON'] = team_aerials_won\n",
    "team_misc_stats['AERIALS_LOST'] = team_aerials_lost"
   ]
  },
  {
   "cell_type": "code",
   "execution_count": null,
   "metadata": {},
   "outputs": [],
   "source": [
    "team_misc_stats.reset_index(inplace=True)\n",
    "team_misc_stats.drop(columns=['TEAM_NAME'], inplace=True)"
   ]
  },
  {
   "cell_type": "code",
   "execution_count": null,
   "metadata": {},
   "outputs": [],
   "source": [
    "upsert_to_snowflake(\"TEAM_MISC_STATS\", team_misc_stats, ['TEAM_FBREF_ID', 'COMPETITION','SEASON'])"
   ]
  },
  {
   "cell_type": "markdown",
   "metadata": {},
   "source": [
    "## Competition, Season and Match Data"
   ]
  },
  {
   "cell_type": "code",
   "execution_count": null,
   "metadata": {},
   "outputs": [],
   "source": [
    "df_competitions = fbref_schedule.reset_index()[['COMPETITION', 'SEASON']].drop_duplicates().copy()"
   ]
  },
  {
   "cell_type": "code",
   "execution_count": null,
   "metadata": {},
   "outputs": [],
   "source": [
    "df_competitions['COMPETITION_NAME'] = ''\n",
    "df_competitions['COMPETITION_ACRONYM'] = ''"
   ]
  },
  {
   "cell_type": "code",
   "execution_count": null,
   "metadata": {},
   "outputs": [],
   "source": [
    "df_competitions.loc[df_competitions['COMPETITION'] == 'ENG-Premier League', 'COMPETITION_NAME'] = 'English Premier League'\n",
    "df_competitions.loc[df_competitions['COMPETITION'] == 'ENG-Premier League', 'COMPETITION_ACRONYM'] = 'EPL'"
   ]
  },
  {
   "cell_type": "code",
   "execution_count": null,
   "metadata": {},
   "outputs": [],
   "source": [
    "df_competitions"
   ]
  },
  {
   "cell_type": "code",
   "execution_count": null,
   "metadata": {},
   "outputs": [],
   "source": [
    "# upsert_to_snowflake(\"COMPETITIONS\", df_competitions, ['COMPETITION','SEASON'])"
   ]
  },
  {
   "cell_type": "code",
   "execution_count": null,
   "metadata": {},
   "outputs": [],
   "source": []
  },
  {
   "cell_type": "code",
   "execution_count": null,
   "metadata": {},
   "outputs": [],
   "source": [
    "df_seasons = df_competitions[['SEASON']].drop_duplicates().copy()"
   ]
  },
  {
   "cell_type": "code",
   "execution_count": null,
   "metadata": {},
   "outputs": [],
   "source": [
    "df_seasons['SEASON_NAME'] = ''\n",
    "df_seasons['START_YEAR'] = 0\n",
    "df_seasons['END_YEAR'] = 0"
   ]
  },
  {
   "cell_type": "code",
   "execution_count": null,
   "metadata": {},
   "outputs": [],
   "source": [
    "# df_seasons.loc[df_seasons['SEASON'] == 2122, 'SEASON_NAME'] = '2021-2022'\n",
    "# df_seasons.loc[df_seasons['SEASON'] == 2122, 'START_YEAR'] = 2021\n",
    "# df_seasons.loc[df_seasons['SEASON'] == 2122, 'END_YEAR'] = 2022\n",
    "df_seasons.loc[df_seasons['SEASON'] == 2324, 'SEASON_NAME'] = '2023-2024'\n",
    "df_seasons.loc[df_seasons['SEASON'] == 2324, 'START_YEAR'] = 2023\n",
    "df_seasons.loc[df_seasons['SEASON'] == 2324, 'END_YEAR'] = 2024"
   ]
  },
  {
   "cell_type": "code",
   "execution_count": null,
   "metadata": {},
   "outputs": [],
   "source": [
    "df_seasons"
   ]
  },
  {
   "cell_type": "code",
   "execution_count": null,
   "metadata": {},
   "outputs": [],
   "source": [
    "upsert_to_snowflake(\"SEASONS\", df_seasons, ['SEASON'])"
   ]
  },
  {
   "cell_type": "code",
   "execution_count": null,
   "metadata": {},
   "outputs": [],
   "source": [
    "df_stadiums = fbref_schedule.reset_index()[['home_team', 'SEASON',\n",
    "            'venue']].drop_duplicates().rename(columns={'home_team': 'TEAM_NAME', 'venue': 'STADIUM'})"
   ]
  },
  {
   "cell_type": "code",
   "execution_count": null,
   "metadata": {},
   "outputs": [],
   "source": [
    "df_stadiums = df_stadiums.merge(team_names, on='TEAM_NAME')[['STADIUM','SEASON','TEAM_FBREF_ID']]"
   ]
  },
  {
   "cell_type": "code",
   "execution_count": null,
   "metadata": {},
   "outputs": [],
   "source": [
    "upsert_to_snowflake(\"STADIUMS\", df_stadiums, ['TEAM_FBREF_ID','STADIUM', 'SEASON'])"
   ]
  },
  {
   "cell_type": "code",
   "execution_count": null,
   "metadata": {},
   "outputs": [],
   "source": [
    "df_matches = fbref_schedule.reset_index()[['game_id', 'date', 'time', 'home_team', 'away_team', 'COMPETITION', 'SEASON', 'venue',\n",
    "                                           'week', 'day', 'score', 'home_xg', 'away_xg', 'attendance', 'referee', 'ws_game_id']]"
   ]
  },
  {
   "cell_type": "code",
   "execution_count": null,
   "metadata": {},
   "outputs": [],
   "source": [
    "df_matches.shape"
   ]
  },
  {
   "cell_type": "code",
   "execution_count": null,
   "metadata": {},
   "outputs": [],
   "source": [
    "df_matches = df_matches.merge(team_names[['TEAM_FBREF_ID','TEAM_NAME']].rename(columns={'TEAM_FBREF_ID': 'home_team_id', \n",
    "                                                         'TEAM_NAME': 'home_team'}), on='home_team', how='left')"
   ]
  },
  {
   "cell_type": "code",
   "execution_count": null,
   "metadata": {},
   "outputs": [],
   "source": [
    "df_matches = df_matches.merge(team_names[['TEAM_FBREF_ID','TEAM_NAME']].rename(columns={'TEAM_FBREF_ID': 'away_team_id', \n",
    "                                                         'TEAM_NAME': 'away_team'}), on='away_team', how='left')"
   ]
  },
  {
   "cell_type": "code",
   "execution_count": null,
   "metadata": {},
   "outputs": [],
   "source": [
    "# Combine df_matches date and time to a dt.datatime configuration\n",
    "df_matches['date'] = df_matches['date'].astype(str)\n",
    "df_matches['time'] = df_matches['time'].astype(str)\n",
    "df_matches['date_time'] = df_matches['date'] + ' ' + df_matches['time']\n",
    "df_matches['date_time'] = pd.to_datetime(df_matches['date_time'])"
   ]
  },
  {
   "cell_type": "code",
   "execution_count": null,
   "metadata": {},
   "outputs": [],
   "source": [
    "# Split score in df_matches by \"-\" to home_team_score and away_team_score \n",
    "df_matches[['home_team_score', 'away_team_score']] = df_matches['score'].str.split('–', expand=True)"
   ]
  },
  {
   "cell_type": "code",
   "execution_count": null,
   "metadata": {},
   "outputs": [],
   "source": [
    "df_matches.rename(columns={'game_id': 'MATCH_ID', 'date_time': 'DATE_TIME', 'home_team_id': 'HOME_TEAM_ID', 'away_team_id': 'AWAY_TEAM_ID',\n",
    "                           'venue': 'STADIUM', 'week': 'GAMEWEEK', 'day': 'DAY','home_team_score': 'HOME_TEAM_SCORE', \n",
    "                           'away_team_score':'AWAY_TEAM_SCORE', 'home_xg':'HOME_TEAM_XG','away_xg':'AWAY_TEAM_XG',\n",
    "                           'attendance':'ATTENDANCE', 'referee': 'REFEREE', 'ws_game_id':'WS_MATCH_ID'}, inplace=True)"
   ]
  },
  {
   "cell_type": "code",
   "execution_count": null,
   "metadata": {},
   "outputs": [],
   "source": [
    "df_matches.drop(columns=['date', 'time', 'home_team', 'away_team', 'score'], inplace=True)"
   ]
  },
  {
   "cell_type": "code",
   "execution_count": null,
   "metadata": {},
   "outputs": [],
   "source": [
    "df_matches['DATE_TIME'] = df_matches['DATE_TIME'].astype('string')"
   ]
  },
  {
   "cell_type": "code",
   "execution_count": null,
   "metadata": {},
   "outputs": [],
   "source": [
    "upsert_to_snowflake(\"MATCHES\", df_matches, ['MATCH_ID'])"
   ]
  },
  {
   "cell_type": "markdown",
   "metadata": {},
   "source": [
    "### Time to deal with event data"
   ]
  },
  {
   "cell_type": "code",
   "execution_count": null,
   "metadata": {},
   "outputs": [],
   "source": [
    "game_ids = [1746344]"
   ]
  },
  {
   "cell_type": "code",
   "execution_count": null,
   "metadata": {},
   "outputs": [],
   "source": [
    "ws_event_spadl = ws.read_events(output_fmt='spadl', match_id=game_ids)"
   ]
  },
  {
   "cell_type": "code",
   "execution_count": null,
   "metadata": {},
   "outputs": [],
   "source": [
    "# for i, val in enumerate(game_ids):\n",
    "#     if i == 0:\n",
    "#         ws_event_spadl = ws.read_events(output_fmt='spadl', match_id=[val])\n",
    "#     else:\n",
    "#         try:\n",
    "#             ws_event_spadl = pd.concat([ws_event_spadl, ws.read_events(output_fmt='spadl', match_id=[val])])\n",
    "#         except:\n",
    "#             print(i, val)"
   ]
  },
  {
   "cell_type": "code",
   "execution_count": null,
   "metadata": {},
   "outputs": [],
   "source": [
    "len(ws_event_spadl['game_id'].unique())"
   ]
  },
  {
   "cell_type": "code",
   "execution_count": null,
   "metadata": {},
   "outputs": [],
   "source": [
    "ws_event_spadl.to_csv('ws_event_spadl_hold.csv')\n",
    "# ws_event_spadl = pd.read_csv('ws_event_spadl_hold.csv', index_col=0)"
   ]
  },
  {
   "cell_type": "code",
   "execution_count": null,
   "metadata": {},
   "outputs": [],
   "source": [
    "sorted(ws_teams['TEAM_NAME']) == sorted(ws_event_spadl['team'].unique())"
   ]
  },
  {
   "cell_type": "code",
   "execution_count": null,
   "metadata": {},
   "outputs": [],
   "source": [
    "ws_event_spadl.loc[ws_event_spadl['team'] == 'Atletico', 'team'] = 'Atlético Madrid'\n",
    "ws_event_spadl.loc[ws_event_spadl['team'] == 'Deportivo Alaves', 'team'] = 'Alavés'\n",
    "ws_event_spadl.loc[ws_event_spadl['team'] == 'Cadiz', 'team'] = 'Cádiz'\n",
    "ws_event_spadl.loc[ws_event_spadl['team'] == 'Real Betis', 'team'] = 'Betis'\n",
    "ws_event_spadl.loc[ws_event_spadl['team'] == 'Real Valladolid', 'team'] = 'Valladolid'\n",
    "ws_event_spadl.loc[ws_event_spadl['team'] == 'Almeria', 'team'] = 'Almería'\n",
    "\n",
    "ws_event_spadl.loc[ws_event_spadl['team'] == 'Arminia Bielefeld', 'team'] = 'Arminia'\n",
    "ws_event_spadl.loc[ws_event_spadl['team'] == 'Bayern', 'team'] = 'Bayern Munich'\n",
    "ws_event_spadl.loc[ws_event_spadl['team'] == 'Borussia Dortmund', 'team'] = 'Dortmund'\n",
    "ws_event_spadl.loc[ws_event_spadl['team'] == 'Borussia M.Gladbach', 'team'] = \"M'Gladbach\"\n",
    "ws_event_spadl.loc[ws_event_spadl['team'] == 'Eintracht Frankfurt', 'team'] = \"Eint Frankfurt\"\n",
    "ws_event_spadl.loc[ws_event_spadl['team'] == 'FC Koln', 'team'] = 'Köln'\n",
    "ws_event_spadl.loc[ws_event_spadl['team'] == 'Mainz', 'team'] = \"Mainz 05\"\n",
    "ws_event_spadl.loc[ws_event_spadl['team'] == 'RBL', 'team'] = \"RB Leipzig\"\n",
    "ws_event_spadl.loc[ws_event_spadl['team'] == 'Greuther Fuerth', 'team'] = \"Greuther Fürth\"\n",
    "ws_event_spadl.loc[ws_event_spadl['team'] == 'Hertha Berlin', 'team'] = \"Hertha BSC\"\n",
    "ws_event_spadl.loc[ws_event_spadl['team'] == 'Schalke', 'team'] = 'Schalke 04'\n",
    "ws_event_spadl.loc[ws_event_spadl['team'] == 'Darmstadt', 'team'] = 'Darmstadt 98'\n",
    "ws_event_spadl.loc[ws_event_spadl['team'] == 'FC Heidenheim', 'team'] = 'Heidenheim'\n",
    "\n",
    "ws_event_spadl.loc[ws_event_spadl['team'] == 'Verona', 'team'] = 'Hellas Verona'\n",
    "\n",
    "ws_event_spadl.loc[ws_event_spadl['team'] == 'PSG', 'team'] = \"Paris S-G\"\n",
    "ws_event_spadl.loc[ws_event_spadl['team'] == 'Saint-Etienne', 'team'] = \"Saint-Étienne\"\n",
    "ws_event_spadl.loc[ws_event_spadl['team'] == 'AC Ajaccio', 'team'] = \"Ajaccio\"\n",
    "\n",
    "ws_event_spadl.loc[ws_event_spadl['team'] == 'Manchester United', 'team'] = 'Manchester Utd'\n",
    "ws_event_spadl.loc[ws_event_spadl['team'] == 'Newcastle United', 'team'] = 'Newcastle Utd'\n",
    "ws_event_spadl.loc[ws_event_spadl['team'] == 'Newcastle', 'team'] = 'Newcastle Utd'\n",
    "ws_event_spadl.loc[ws_event_spadl['team'] == 'Tottenham Hotspur', 'team'] = 'Tottenham'\n",
    "ws_event_spadl.loc[ws_event_spadl['team'] == 'Wolverhampton Wanderers', 'team'] = 'Wolves'\n",
    "ws_event_spadl.loc[ws_event_spadl['team'] == 'Wolverhampton', 'team'] = 'Wolves'\n",
    "ws_event_spadl.loc[ws_event_spadl['team'] == 'Nottingham Forest', 'team'] = \"Nott'ham Forest\"\n",
    "ws_event_spadl.loc[ws_event_spadl['team'] == 'Leicester', 'team'] = \"Leicester City\"\n",
    "ws_event_spadl.loc[ws_event_spadl['team'] == 'Leeds', 'team'] = \"Leeds United\"\n",
    "ws_event_spadl.loc[ws_event_spadl['team'] == 'Sheffield United', 'team'] = \"Sheffield Utd\"\n",
    "ws_event_spadl.loc[ws_event_spadl['team'] == 'Sheff Utd', 'team'] = \"Sheffield Utd\"\n",
    "ws_event_spadl.loc[ws_event_spadl['team'] == 'Luton', 'team'] = \"Luton Town\"\n",
    "ws_event_spadl.loc[ws_event_spadl['team'] == 'Norwich', 'team'] = \"Norwich City\"\n",
    "ws_event_spadl.loc[ws_event_spadl['team'] == 'Man City', 'team'] = \"Manchester City\"\n",
    "ws_event_spadl.loc[ws_event_spadl['team'] == 'Man Utd', 'team'] = \"Manchester Utd\""
   ]
  },
  {
   "cell_type": "code",
   "execution_count": null,
   "metadata": {},
   "outputs": [],
   "source": [
    "curr_team_names = fetch_data(cur, 'SELECT * FROM TEAMS')"
   ]
  },
  {
   "cell_type": "code",
   "execution_count": null,
   "metadata": {},
   "outputs": [],
   "source": [
    "ws_event_spadl.shape"
   ]
  },
  {
   "cell_type": "code",
   "execution_count": null,
   "metadata": {},
   "outputs": [],
   "source": [
    "ws_event_spadl = ws_event_spadl.merge(spadl.actiontypes_df(), how=\"left\").merge(spadl.bodyparts_df(), how=\"left\")"
   ]
  },
  {
   "cell_type": "code",
   "execution_count": null,
   "metadata": {},
   "outputs": [],
   "source": [
    "ws_event_spadl.rename({'game_id':'WS_MATCH_ID', 'original_event_id':'ORIGINAL_EVENT_ID','period_id':'PERIOD_ID',\n",
    "                       'time_seconds':'TIME_SECONDS', 'team_id':'TEAM_WS_ID', 'player_id':'PLAYER_WS_ID', 'start_x':'START_X',\n",
    "                        'end_x':'END_X', 'start_y':'START_Y', 'end_y':'END_Y','type_name':'TYPE_NAME',\n",
    "                        'bodypart_name':'BODYPART_NAME','result_id':'RESULT_ID', 'action_id':'ACTION_ID'}, axis=1, inplace=True)"
   ]
  },
  {
   "cell_type": "code",
   "execution_count": null,
   "metadata": {},
   "outputs": [],
   "source": [
    "ws_event_spadl = ws_event_spadl.merge(df_matches[['MATCH_ID', 'WS_MATCH_ID']], on='WS_MATCH_ID')"
   ]
  },
  {
   "cell_type": "code",
   "execution_count": null,
   "metadata": {},
   "outputs": [],
   "source": [
    "ws_event_spadl = ws_event_spadl.merge(curr_team_names[['TEAM_FBREF_ID','TEAM_WS_ID']], on='TEAM_WS_ID')"
   ]
  },
  {
   "cell_type": "code",
   "execution_count": null,
   "metadata": {},
   "outputs": [],
   "source": [
    "ws_event_spadl.rename({'TEAM_FBREF_ID':'team_id','START_X':'start_x','START_Y':'start_y','END_X':'end_x','END_Y':'end_y'}, axis=1,\n",
    "                      inplace=True)"
   ]
  },
  {
   "cell_type": "code",
   "execution_count": null,
   "metadata": {},
   "outputs": [],
   "source": [
    "df_matches_left =df_matches[df_matches['MATCH_ID'].isin(ws_event_spadl['MATCH_ID'].unique())]"
   ]
  },
  {
   "cell_type": "code",
   "execution_count": null,
   "metadata": {},
   "outputs": [],
   "source": [
    "# df_matches_left = df_matches[df_matches['MATCH_ID'].isin(matches_to_scarpe)]"
   ]
  },
  {
   "cell_type": "code",
   "execution_count": null,
   "metadata": {},
   "outputs": [],
   "source": [
    "for index, row in df_matches_left.iterrows():\n",
    "    inds_to_replace = ws_event_spadl[ws_event_spadl['MATCH_ID'] == row['MATCH_ID']].index\n",
    "    ws_event_spadl.loc[inds_to_replace] = spadl.play_left_to_right(ws_event_spadl.loc[inds_to_replace], row['HOME_TEAM_ID'])"
   ]
  },
  {
   "cell_type": "code",
   "execution_count": null,
   "metadata": {},
   "outputs": [],
   "source": [
    "ws_event_spadl['NEW_TIME_SECONDS'] = ws_event_spadl['TIME_SECONDS']"
   ]
  },
  {
   "cell_type": "code",
   "execution_count": null,
   "metadata": {},
   "outputs": [],
   "source": [
    "ws_event_spadl_period1 = ws_event_spadl[ws_event_spadl['PERIOD_ID'] == 1]\n",
    "ws_event_spadl_period2 = ws_event_spadl[ws_event_spadl['PERIOD_ID'] == 2]"
   ]
  },
  {
   "cell_type": "code",
   "execution_count": null,
   "metadata": {},
   "outputs": [],
   "source": [
    "start_time_2nd_half = ws_event_spadl_period2.groupby(['MATCH_ID', 'PERIOD_ID'])['NEW_TIME_SECONDS'].min().reset_index()"
   ]
  },
  {
   "cell_type": "code",
   "execution_count": null,
   "metadata": {},
   "outputs": [],
   "source": [
    "for index, row in tqdm(start_time_2nd_half.iterrows()):\n",
    "    time_to_remove = row['NEW_TIME_SECONDS']\n",
    "    ws_event_spadl.loc[(ws_event_spadl['MATCH_ID'] == row['MATCH_ID']) & (ws_event_spadl['PERIOD_ID'] == 2), 'NEW_TIME_SECONDS'] -= time_to_remove"
   ]
  },
  {
   "cell_type": "code",
   "execution_count": null,
   "metadata": {},
   "outputs": [],
   "source": [
    "ws_event_spadl.rename({'start_x':'START_X','end_x':'END_X','start_y':'START_Y','end_y':'END_Y',\n",
    "                       'team_id':'TEAM_FBREF_ID'}, axis=1, inplace=True)"
   ]
  },
  {
   "cell_type": "code",
   "execution_count": null,
   "metadata": {},
   "outputs": [],
   "source": [
    "ws_event_spadl.shape"
   ]
  },
  {
   "cell_type": "code",
   "execution_count": null,
   "metadata": {},
   "outputs": [],
   "source": [
    "events_drop_inds = ws_event_spadl[ws_event_spadl[['WS_MATCH_ID', 'PLAYER_WS_ID','ACTION_ID']].duplicated()].index"
   ]
  },
  {
   "cell_type": "code",
   "execution_count": null,
   "metadata": {},
   "outputs": [],
   "source": [
    "len(events_drop_inds)"
   ]
  },
  {
   "cell_type": "code",
   "execution_count": null,
   "metadata": {},
   "outputs": [],
   "source": [
    "ws_event_spadl = ws_event_spadl.drop(events_drop_inds)"
   ]
  },
  {
   "cell_type": "code",
   "execution_count": null,
   "metadata": {},
   "outputs": [],
   "source": [
    "upsert_to_snowflake(\"EVENTS_SPADL\", \n",
    "                    ws_event_spadl.drop(['type_id', 'player', 'team', 'WS_MATCH_ID', 'TEAM_WS_ID','bodypart_id'],axis=1), \n",
    "                    ['MATCH_ID','ACTION_ID'])"
   ]
  },
  {
   "cell_type": "code",
   "execution_count": null,
   "metadata": {},
   "outputs": [],
   "source": [
    "# cur.execute('SELECT * FROM EVENTS_SPADL')\n",
    "# events_rows = cur.fetchall()\n",
    "# column_names = [desc[0] for desc in cur.description]\n",
    "# ws_event_spadl = pd.DataFrame(events_rows, columns=column_names)"
   ]
  },
  {
   "cell_type": "markdown",
   "metadata": {},
   "source": [
    "### Update the \"Players\" table in Snowflake"
   ]
  },
  {
   "cell_type": "code",
   "execution_count": null,
   "metadata": {},
   "outputs": [],
   "source": [
    "## Sort out \"Players\" \"Table\n",
    "ws_players.rename({'team_id':'TEAM_WS_ID', 'game_id':'WS_MATCH_ID'}, axis=1, inplace=True)"
   ]
  },
  {
   "cell_type": "code",
   "execution_count": null,
   "metadata": {},
   "outputs": [],
   "source": [
    "ws_players = ws_players.merge(curr_team_names, on=\"TEAM_WS_ID\", how=\"left\")"
   ]
  },
  {
   "cell_type": "code",
   "execution_count": null,
   "metadata": {},
   "outputs": [],
   "source": [
    "ws_players = ws_players.sort_values(by=[\"WS_MATCH_ID\",\"TEAM_NAME\",\"jersey_number\"])"
   ]
  },
  {
   "cell_type": "code",
   "execution_count": null,
   "metadata": {},
   "outputs": [],
   "source": [
    "fbref_lineups.shape"
   ]
  },
  {
   "cell_type": "code",
   "execution_count": null,
   "metadata": {},
   "outputs": [],
   "source": [
    "fbref_lineups = fbref_lineups.reset_index().merge(fbref_schedule.reset_index()[['game', 'game_id',\n",
    "                                                                                'ws_game_id']], how='inner', on='game')"
   ]
  },
  {
   "cell_type": "code",
   "execution_count": null,
   "metadata": {},
   "outputs": [],
   "source": [
    "fbref_lineups = fbref_lineups.rename({'ws_game_id':'WS_MATCH_ID'}, axis=1)"
   ]
  },
  {
   "cell_type": "code",
   "execution_count": null,
   "metadata": {},
   "outputs": [],
   "source": [
    "fbref_lineups.shape"
   ]
  },
  {
   "cell_type": "code",
   "execution_count": null,
   "metadata": {},
   "outputs": [],
   "source": [
    "fbref_lineups = fbref_lineups.merge(curr_team_names[['TEAM_NAME','TEAM_FBREF_ID','TEAM_WS_ID']], on='TEAM_NAME')"
   ]
  },
  {
   "cell_type": "code",
   "execution_count": null,
   "metadata": {},
   "outputs": [],
   "source": [
    "ws_players.rename({'player_id':'WS_player_id', 'player_name':'WS_player_name','minutes_played':'WS_minutes_played',\n",
    "                   'starting_position':'WS_starting_position', 'is_starter':'WS_is_starter'}, axis=1, inplace=True)"
   ]
  },
  {
   "cell_type": "code",
   "execution_count": null,
   "metadata": {},
   "outputs": [],
   "source": [
    "fbref_lineups.rename({'minutes_played':'FBREF_minutes_played', 'game_id':'MATCH_ID','position':'FBREF_position',\n",
    "                      'is_starter':'FBREF_is_starter'}, axis=1, inplace=True)"
   ]
  },
  {
   "cell_type": "code",
   "execution_count": null,
   "metadata": {},
   "outputs": [],
   "source": [
    "fbref_lineups = fbref_lineups.merge(ws_players, on=[\"TEAM_FBREF_ID\", \"TEAM_NAME\", \"WS_MATCH_ID\",\n",
    "                                                    \"TEAM_WS_ID\", \"jersey_number\"], how=\"left\")"
   ]
  },
  {
   "cell_type": "code",
   "execution_count": null,
   "metadata": {},
   "outputs": [],
   "source": [
    "df_players = fbref_lineups[['WS_player_id', 'player', 'WS_player_name']].drop_duplicates()"
   ]
  },
  {
   "cell_type": "code",
   "execution_count": null,
   "metadata": {},
   "outputs": [],
   "source": [
    "df_players = df_players.dropna(subset=['WS_player_id'])"
   ]
  },
  {
   "cell_type": "code",
   "execution_count": null,
   "metadata": {},
   "outputs": [],
   "source": [
    "df_players.rename({'WS_player_id':'PLAYER_WS_ID', 'player':'PLAYER_FBREF_NAME', 'WS_player_name':'PLAYER_WS_NAME'}, \n",
    "                  axis=1, inplace=True)"
   ]
  },
  {
   "cell_type": "code",
   "execution_count": null,
   "metadata": {},
   "outputs": [],
   "source": [
    "df_players[df_players['PLAYER_WS_ID'].duplicated()]"
   ]
  },
  {
   "cell_type": "code",
   "execution_count": null,
   "metadata": {},
   "outputs": [],
   "source": [
    "df_players = df_players.replace('Ronald Araujo', 'Ronald Araújo')\n",
    "df_players = df_players.replace('Íñigo Martínez', 'Iñigo Martínez')"
   ]
  },
  {
   "cell_type": "code",
   "execution_count": null,
   "metadata": {},
   "outputs": [],
   "source": [
    "df_players = df_players.replace('Lucas Michel', 'Lucas Michal')\n",
    "df_players = df_players.replace('Théo Ramousse', 'Théo Borne')\n",
    "df_players = df_players.replace('Joel Mugisha', 'Joel Mvuka')"
   ]
  },
  {
   "cell_type": "code",
   "execution_count": null,
   "metadata": {},
   "outputs": [],
   "source": [
    "df_players = df_players[(df_players['PLAYER_FBREF_NAME'] != 'Destiny Egharevba') | (df_players['PLAYER_WS_ID'] != 428502)]"
   ]
  },
  {
   "cell_type": "code",
   "execution_count": null,
   "metadata": {},
   "outputs": [],
   "source": [
    "df_players = df_players[(df_players['PLAYER_FBREF_NAME'] != 'Sacha Delaye') | (df_players['PLAYER_WS_NAME'] != 'Enzo Tchato')]"
   ]
  },
  {
   "cell_type": "code",
   "execution_count": null,
   "metadata": {},
   "outputs": [],
   "source": [
    "df_players = df_players.replace('Malcolm Barcola', 'Bradley Barcola')"
   ]
  },
  {
   "cell_type": "code",
   "execution_count": null,
   "metadata": {},
   "outputs": [],
   "source": [
    "df_players = df_players[['PLAYER_WS_ID', 'PLAYER_FBREF_NAME', 'PLAYER_WS_NAME']].drop_duplicates()"
   ]
  },
  {
   "cell_type": "code",
   "execution_count": null,
   "metadata": {},
   "outputs": [],
   "source": []
  },
  {
   "cell_type": "code",
   "execution_count": null,
   "metadata": {},
   "outputs": [],
   "source": [
    "# df_players[df_players['PLAYER_WS_ID']==426915]"
   ]
  },
  {
   "cell_type": "code",
   "execution_count": null,
   "metadata": {},
   "outputs": [],
   "source": [
    "## Find all instances of \"Min-Jae Kim\" in df_players\n",
    "\n",
    "# df_players[df_players['PLAYER_FBREF_NAME'].str.contains('Luca Ravanelli')]\n",
    "\n",
    "# # Replace it with \"Kim Min-Jae\"\n",
    "\n",
    "# df_players.loc[df_players['PLAYER_WS_ID'] == 426915, 'PLAYER_FBREF_NAME'] = 'Felix Afena-Gyan'"
   ]
  },
  {
   "cell_type": "code",
   "execution_count": null,
   "metadata": {},
   "outputs": [],
   "source": [
    "upsert_to_snowflake(\"PLAYERS\", df_players, ['PLAYER_WS_ID'])"
   ]
  },
  {
   "cell_type": "markdown",
   "metadata": {},
   "source": [
    "Player-match combos now"
   ]
  },
  {
   "cell_type": "code",
   "execution_count": null,
   "metadata": {},
   "outputs": [],
   "source": [
    "df_player_match = fbref_lineups[['WS_player_id', 'player','MATCH_ID', 'TEAM_FBREF_ID', 'WS_starting_position', \n",
    "                                 'FBREF_position','jersey_number','FBREF_minutes_played','FBREF_is_starter','WS_is_starter',\n",
    "                                 'WS_minutes_played']]"
   ]
  },
  {
   "cell_type": "code",
   "execution_count": null,
   "metadata": {},
   "outputs": [],
   "source": [
    "df_player_match = df_player_match.rename({'WS_player_id':'PLAYER_WS_ID', 'player':'PLAYER_FBREF_NAME', 'WS_starting_position':'STARTING_POSITION_WS',\n",
    "                        'FBREF_position':'POSITION_FBREF', 'jersey_number':'JERSEY_NUMBER', 'FBREF_minutes_played':'MINUTES_PLAYED_FBREF',\n",
    "                        'FBREF_is_starter':'IS_STARTER_FBREF','WS_is_starter':'IS_STARTER_WS','WS_minutes_played':'MINUTES_PLAYED_WS'}, axis=1)"
   ]
  },
  {
   "cell_type": "code",
   "execution_count": null,
   "metadata": {},
   "outputs": [],
   "source": [
    "inds_to_drop = df_player_match[df_player_match[['PLAYER_WS_ID', 'MATCH_ID']].duplicated()].index"
   ]
  },
  {
   "cell_type": "code",
   "execution_count": null,
   "metadata": {},
   "outputs": [],
   "source": [
    "inds_to_drop"
   ]
  },
  {
   "cell_type": "code",
   "execution_count": null,
   "metadata": {},
   "outputs": [],
   "source": [
    "df_player_match = df_player_match.drop(inds_to_drop)"
   ]
  },
  {
   "cell_type": "code",
   "execution_count": null,
   "metadata": {},
   "outputs": [],
   "source": [
    "df_player_match = df_player_match.dropna(subset=['PLAYER_WS_ID'])"
   ]
  },
  {
   "cell_type": "code",
   "execution_count": null,
   "metadata": {},
   "outputs": [],
   "source": [
    "df_player_match = df_player_match[~((df_player_match['MATCH_ID'] == 'd6d3de2f') & \n",
    "                                    (df_player_match['PLAYER_WS_ID'] == 502424))]"
   ]
  },
  {
   "cell_type": "code",
   "execution_count": null,
   "metadata": {},
   "outputs": [],
   "source": [
    "df_player_match = df_player_match[~((df_player_match['MATCH_ID'] == '1a0a12f3') & \n",
    "                                    (df_player_match['PLAYER_WS_ID'] == 135328))]"
   ]
  },
  {
   "cell_type": "code",
   "execution_count": null,
   "metadata": {},
   "outputs": [],
   "source": [
    "upsert_to_snowflake(\"PLAYER_MATCH\", df_player_match, ['PLAYER_WS_ID', 'MATCH_ID'])"
   ]
  },
  {
   "cell_type": "markdown",
   "metadata": {},
   "source": [
    "### Add Shot Event Data"
   ]
  },
  {
   "cell_type": "code",
   "execution_count": null,
   "metadata": {},
   "outputs": [],
   "source": [
    "no_shot_match = []"
   ]
  },
  {
   "cell_type": "code",
   "execution_count": null,
   "metadata": {},
   "outputs": [],
   "source": [
    "matches_to_scarpe1 = df_matches[df_matches['MATCH_ID'].isin(ws_event_spadl['MATCH_ID'].unique())]['MATCH_ID']"
   ]
  },
  {
   "cell_type": "code",
   "execution_count": null,
   "metadata": {},
   "outputs": [],
   "source": [
    "len(matches_to_scarpe1)"
   ]
  },
  {
   "cell_type": "code",
   "execution_count": null,
   "metadata": {},
   "outputs": [],
   "source": [
    "for i, val in tqdm(enumerate(matches_to_scarpe1)):\n",
    "    if i == 0:\n",
    "        fbref_shot_events = fbref.read_shot_events(match_id=val)\n",
    "    else:\n",
    "        try:\n",
    "            fbref_shot_events = pd.concat([fbref_shot_events, fbref.read_shot_events(match_id=val)])\n",
    "        except:\n",
    "            no_shot_match.append(val)"
   ]
  },
  {
   "cell_type": "code",
   "execution_count": null,
   "metadata": {},
   "outputs": [],
   "source": [
    "no_shot_match"
   ]
  },
  {
   "cell_type": "code",
   "execution_count": null,
   "metadata": {},
   "outputs": [],
   "source": [
    "fbref_shot_events = fbref_shot_events.rename_axis(index={'season': 'SEASON', 'league': 'COMPETITION'})"
   ]
  },
  {
   "cell_type": "code",
   "execution_count": null,
   "metadata": {},
   "outputs": [],
   "source": [
    "fbref_shot_events = make_season_integer(fbref_shot_events)"
   ]
  },
  {
   "cell_type": "code",
   "execution_count": null,
   "metadata": {},
   "outputs": [],
   "source": [
    "ws_event_spadl['TIME_SECONDS'] = ws_event_spadl['TIME_SECONDS'].astype(int)\n",
    "ws_event_spadl['PLAYER_WS_ID'] = ws_event_spadl['PLAYER_WS_ID'].astype(int)"
   ]
  },
  {
   "cell_type": "code",
   "execution_count": null,
   "metadata": {},
   "outputs": [],
   "source": [
    "fbref_shot_events.shape"
   ]
  },
  {
   "cell_type": "code",
   "execution_count": null,
   "metadata": {},
   "outputs": [],
   "source": [
    "ws_shots = ws_event_spadl[(ws_event_spadl['TYPE_NAME'] == 'shot') | (ws_event_spadl['TYPE_NAME'] == 'shot_freekick') | \\\n",
    "               (ws_event_spadl['TYPE_NAME'] == 'shot_penalty')]"
   ]
  },
  {
   "cell_type": "code",
   "execution_count": null,
   "metadata": {},
   "outputs": [],
   "source": [
    "ws_shots.shape"
   ]
  },
  {
   "cell_type": "code",
   "execution_count": null,
   "metadata": {},
   "outputs": [],
   "source": [
    "fbref_shot_events.reset_index(inplace=True)"
   ]
  },
  {
   "cell_type": "code",
   "execution_count": null,
   "metadata": {},
   "outputs": [],
   "source": [
    "fbref_shot_events.columns = fbref_shot_events.columns.get_level_values(0) + fbref_shot_events.columns.get_level_values(1)"
   ]
  },
  {
   "cell_type": "code",
   "execution_count": null,
   "metadata": {},
   "outputs": [],
   "source": [
    "fbref_shot_events.to_csv('fbref_shot_events.csv')\n",
    "# fbref_shot_events = pd.read_csv('fbref_shot_events.csv', index_col=0)"
   ]
  },
  {
   "cell_type": "code",
   "execution_count": null,
   "metadata": {},
   "outputs": [],
   "source": [
    "fbref_shot_events = fbref_shot_events.merge(fbref_schedule[['COMPETITION','SEASON','game','game_id','ws_game_id']], \n",
    "                        on=['COMPETITION','SEASON','game'])"
   ]
  },
  {
   "cell_type": "code",
   "execution_count": null,
   "metadata": {},
   "outputs": [],
   "source": [
    "fbref_shot_events.rename({'player':'PLAYER_FBREF_NAME', 'game_id':'MATCH_ID'}, axis=1, inplace=True)"
   ]
  },
  {
   "cell_type": "code",
   "execution_count": null,
   "metadata": {},
   "outputs": [],
   "source": [
    "fbref_shot_events['PLAYER_FBREF_NAME'] = fbref_shot_events['PLAYER_FBREF_NAME'].str.replace(' \\(pen\\)', '', regex=True)"
   ]
  },
  {
   "cell_type": "code",
   "execution_count": null,
   "metadata": {},
   "outputs": [],
   "source": [
    "fbref_shot_events.loc[fbref_shot_events['PLAYER_FBREF_NAME'] == 'Loum Ndiaye', 'PLAYER_FBREF_NAME'] = \"Mamadou N'Diaye\""
   ]
  },
  {
   "cell_type": "code",
   "execution_count": null,
   "metadata": {},
   "outputs": [],
   "source": [
    "len(df_player_match['MATCH_ID'].unique())"
   ]
  },
  {
   "cell_type": "code",
   "execution_count": null,
   "metadata": {},
   "outputs": [],
   "source": [
    "df_player_match = df_player_match[~((df_player_match['MATCH_ID'] == 'd6d3de2f') & \n",
    "                                    (df_player_match['PLAYER_WS_ID'] == 502424))]\n",
    "df_player_match = df_player_match[~((df_player_match['MATCH_ID'] == '1a0a12f3') & \n",
    "                                    (df_player_match['PLAYER_WS_ID'] == 135328))]"
   ]
  },
  {
   "cell_type": "code",
   "execution_count": null,
   "metadata": {},
   "outputs": [],
   "source": [
    "fbref_shot_events = fbref_shot_events.merge(df_player_match[['PLAYER_WS_ID', 'PLAYER_FBREF_NAME', 'MATCH_ID']], \n",
    "                        on=['PLAYER_FBREF_NAME', 'MATCH_ID'], how=\"inner\")"
   ]
  },
  {
   "cell_type": "code",
   "execution_count": null,
   "metadata": {},
   "outputs": [],
   "source": [
    "fbref_shot_events = fbref_shot_events[(fbref_shot_events['MATCH_ID'] != '7e4bbae4') | \n",
    "                  (fbref_shot_events['PLAYER_FBREF_NAME'] != 'Borja Iglesias')]"
   ]
  },
  {
   "cell_type": "code",
   "execution_count": null,
   "metadata": {},
   "outputs": [],
   "source": [
    "fbref_shot_events = fbref_shot_events[(fbref_shot_events['MATCH_ID'] != '7e4bbae4') | \n",
    "                  (fbref_shot_events['PLAYER_FBREF_NAME'] != 'Roberto González')]"
   ]
  },
  {
   "cell_type": "code",
   "execution_count": null,
   "metadata": {},
   "outputs": [],
   "source": [
    "fbref_shot_events = fbref_shot_events[(fbref_shot_events['MATCH_ID'] != '82b8a000') |  (fbref_shot_events['minute'] != '81')]"
   ]
  },
  {
   "cell_type": "code",
   "execution_count": null,
   "metadata": {},
   "outputs": [],
   "source": [
    "fbref_shot_events = fbref_shot_events[(fbref_shot_events['MATCH_ID'] != '9bd36df7') |  \n",
    "                                      (fbref_shot_events['PLAYER_FBREF_NAME'] != 'Saîf-Eddine Khaoui') |\n",
    "                                      (fbref_shot_events['minute'] != '38')]"
   ]
  },
  {
   "cell_type": "code",
   "execution_count": null,
   "metadata": {},
   "outputs": [],
   "source": [
    "fbref_shot_events = fbref_shot_events[(fbref_shot_events['MATCH_ID'] != 'f7d8a40e') |  \n",
    "                                      (fbref_shot_events['PLAYER_FBREF_NAME'] != 'Matteo Prati') |\n",
    "                                      (fbref_shot_events['minute'] != '77')]"
   ]
  },
  {
   "cell_type": "code",
   "execution_count": null,
   "metadata": {},
   "outputs": [],
   "source": [
    "# fbref_shot_events = fbref_shot_events.merge(df_players, on='PLAYER_FBREF_NAME', how=\"left\")"
   ]
  },
  {
   "cell_type": "code",
   "execution_count": null,
   "metadata": {},
   "outputs": [],
   "source": [
    "# ws_shots = ws_event_spadl[(ws_event_spadl['TYPE_NAME'] == 'shot') | (ws_event_spadl['TYPE_NAME'] == 'shot_freekick') | \\\n",
    "#                (ws_event_spadl['TYPE_NAME'] == 'shot_penalty')]"
   ]
  },
  {
   "cell_type": "code",
   "execution_count": null,
   "metadata": {},
   "outputs": [],
   "source": [
    "ws_shots['ORIGINAL_EVENT_ID'] = ws_shots['ORIGINAL_EVENT_ID'].astype(float)"
   ]
  },
  {
   "cell_type": "code",
   "execution_count": null,
   "metadata": {},
   "outputs": [],
   "source": [
    "ws_shots = ws_shots.drop_duplicates()"
   ]
  },
  {
   "cell_type": "code",
   "execution_count": null,
   "metadata": {},
   "outputs": [],
   "source": [
    "ws_shots = ws_shots[(ws_shots['MATCH_ID'] != '7e4bbae4')| \n",
    "        (ws_shots['player'] != 'Rober')]"
   ]
  },
  {
   "cell_type": "code",
   "execution_count": null,
   "metadata": {},
   "outputs": [],
   "source": [
    "ws_shots = ws_shots[(ws_shots['MATCH_ID'] != '7e4bbae4')| \n",
    "        (ws_shots['player'] != 'Borja Iglesias')]"
   ]
  },
  {
   "cell_type": "code",
   "execution_count": null,
   "metadata": {},
   "outputs": [],
   "source": [
    "ws_shots = ws_shots[(ws_shots['MATCH_ID'] != '47134469')| \n",
    "        (ws_shots['player'] != 'Ángel Alarcón')]"
   ]
  },
  {
   "cell_type": "code",
   "execution_count": null,
   "metadata": {},
   "outputs": [],
   "source": [
    "ws_shots = ws_shots[(ws_shots['MATCH_ID'] != 'c34bbc21')]"
   ]
  },
  {
   "cell_type": "code",
   "execution_count": null,
   "metadata": {},
   "outputs": [],
   "source": [
    "# ws_dropped_shots = ws_shots[ws_shots['PLAYER_WS_ID'] == 444304]\n",
    "# ws_shots = ws_shots[ws_shots['PLAYER_WS_ID'] != 444304]"
   ]
  },
  {
   "cell_type": "code",
   "execution_count": null,
   "metadata": {},
   "outputs": [],
   "source": [
    "## Bamba from Lorient's shots to be dropped\n",
    "ws_dropped_shots = ws_shots[ws_shots['PLAYER_WS_ID'] == 515493]\n",
    "ws_shots = ws_shots[ws_shots['PLAYER_WS_ID'] != 515493]"
   ]
  },
  {
   "cell_type": "code",
   "execution_count": null,
   "metadata": {},
   "outputs": [],
   "source": [
    "ws_shots = ws_shots[ws_shots['PLAYER_WS_ID'] != 509340]\n",
    "ws_shots = ws_shots[ws_shots['PLAYER_WS_ID'] != 511120]\n",
    "ws_shots = ws_shots[ws_shots['PLAYER_WS_ID'] != 492362]"
   ]
  },
  {
   "cell_type": "code",
   "execution_count": null,
   "metadata": {},
   "outputs": [],
   "source": [
    "fbref_shot_events.shape"
   ]
  },
  {
   "cell_type": "code",
   "execution_count": null,
   "metadata": {},
   "outputs": [],
   "source": [
    "ws_shots.shape"
   ]
  },
  {
   "cell_type": "code",
   "execution_count": null,
   "metadata": {},
   "outputs": [],
   "source": [
    "## Rogue Joel Veltman shot should be dropped\n",
    "ws_shots = ws_shots.drop(ws_shots[(ws_shots['PLAYER_WS_ID'] == 110290) & \n",
    "                                  (ws_shots['MATCH_ID'] == '36be5cee')].index)"
   ]
  },
  {
   "cell_type": "code",
   "execution_count": null,
   "metadata": {},
   "outputs": [],
   "source": [
    "## Rogue Negredo shot to drop\n",
    "ws_shots = ws_shots[(ws_shots['MATCH_ID'] != 'c409c152') | (ws_shots['PLAYER_WS_ID'] != 23757) | (ws_shots['ACTION_ID'] != 149)]"
   ]
  },
  {
   "cell_type": "code",
   "execution_count": null,
   "metadata": {},
   "outputs": [],
   "source": [
    "ws_shots = ws_shots[(ws_shots['MATCH_ID'] != '84765ee6') | (ws_shots['ACTION_ID'] != 117)]"
   ]
  },
  {
   "cell_type": "code",
   "execution_count": null,
   "metadata": {},
   "outputs": [],
   "source": [
    "ws_shots = ws_shots[(ws_shots['MATCH_ID'] != 'b63b2da7') | (ws_shots['WS_MATCH_ID'] != 1727122)]"
   ]
  },
  {
   "cell_type": "code",
   "execution_count": null,
   "metadata": {},
   "outputs": [],
   "source": [
    "## Rogue Negredo shot to drop\n",
    "ws_shots = ws_shots[(ws_shots['MATCH_ID'] != 'de22618d') | (ws_shots['PLAYER_WS_ID'] != 286828) | (ws_shots['ACTION_ID'] != 1716)]"
   ]
  },
  {
   "cell_type": "code",
   "execution_count": null,
   "metadata": {},
   "outputs": [],
   "source": [
    "## Rogue Rodrigo Riquelme shot to drop\n",
    "ws_shots = ws_shots[(ws_shots['MATCH_ID'] != 'bccce279') | (ws_shots['PLAYER_WS_ID'] != 382631) | (ws_shots['ACTION_ID'] != 958)]"
   ]
  },
  {
   "cell_type": "code",
   "execution_count": null,
   "metadata": {},
   "outputs": [],
   "source": [
    "## Rogue Rodrigo Riquelme shot to drop\n",
    "ws_shots = ws_shots[(ws_shots['MATCH_ID'] != '55996670') | (ws_shots['PLAYER_WS_ID'] != 403649) | (ws_shots['ACTION_ID'] != 1229)]"
   ]
  },
  {
   "cell_type": "code",
   "execution_count": null,
   "metadata": {},
   "outputs": [],
   "source": [
    "relevant_inds = fbref_shot_events.drop(['ws_game_id', 'PLAYER_WS_ID'], axis=1).drop_duplicates().index\n",
    "relevant_inds"
   ]
  },
  {
   "cell_type": "code",
   "execution_count": null,
   "metadata": {},
   "outputs": [],
   "source": [
    "fbref_shot_events = fbref_shot_events.loc[list(relevant_inds)]"
   ]
  },
  {
   "cell_type": "code",
   "execution_count": null,
   "metadata": {},
   "outputs": [],
   "source": [
    "# Get the indices of the last 5 rows where MATCH_ID == '4c975b7e'\n",
    "indices = fbref_shot_events[fbref_shot_events['MATCH_ID'] == '4c975b7e'].index[-5:]\n",
    "fbref_shot_events = fbref_shot_events.drop(indices)"
   ]
  },
  {
   "cell_type": "code",
   "execution_count": null,
   "metadata": {},
   "outputs": [],
   "source": [
    "ws_shots.shape"
   ]
  },
  {
   "cell_type": "code",
   "execution_count": null,
   "metadata": {},
   "outputs": [],
   "source": [
    "for game in ws_shots['MATCH_ID'].unique():\n",
    "    if len(ws_shots.loc[ws_shots.MATCH_ID == game]) != len(fbref_shot_events.loc[fbref_shot_events.MATCH_ID == game]):\n",
    "        print(game)"
   ]
  },
  {
   "cell_type": "code",
   "execution_count": null,
   "metadata": {},
   "outputs": [],
   "source": []
  },
  {
   "cell_type": "code",
   "execution_count": null,
   "metadata": {},
   "outputs": [],
   "source": [
    "# fbref_shot_events[['new_minute', 'added_minute']] = fbref_shot_events['minute'].apply(\n",
    "#     lambda x: pd.Series(str(x).split('+') if '+' in str(x) else [x, 0])\n",
    "# )"
   ]
  },
  {
   "cell_type": "code",
   "execution_count": null,
   "metadata": {},
   "outputs": [],
   "source": [
    "# fbref_shot_events['new_minute'] = fbref_shot_events['new_minute'].astype(int)\n",
    "# fbref_shot_events['added_minute'] = fbref_shot_events['added_minute'].astype(int)"
   ]
  },
  {
   "cell_type": "code",
   "execution_count": null,
   "metadata": {},
   "outputs": [],
   "source": [
    "# fbref_shot_events = fbref_shot_events.sort_values(by=['MATCH_ID', 'new_minute', 'added_minute', 'PLAYER_WS_ID']).reset_index(drop=True)"
   ]
  },
  {
   "cell_type": "code",
   "execution_count": null,
   "metadata": {},
   "outputs": [],
   "source": [
    "ws_shots = ws_shots.sort_values(by=['MATCH_ID', 'PERIOD_ID','ACTION_ID']).reset_index(drop=True)"
   ]
  },
  {
   "cell_type": "code",
   "execution_count": null,
   "metadata": {},
   "outputs": [],
   "source": [
    "ws_shots['xG'] = np.nan\n",
    "ws_shots['PSxG'] = np.nan\n",
    "ws_shots['outcome'] = np.nan\n",
    "ws_shots['distance'] = np.nan\n",
    "ws_shots['body_part'] = np.nan\n",
    "ws_shots['notes'] = np.nan\n",
    "ws_shots['SCA 1player'] = np.nan\n",
    "ws_shots['SCA 1event'] = np.nan\n",
    "ws_shots['SCA 2player'] = np.nan\n",
    "ws_shots['SCA 2event'] = np.nan\n",
    "ws_shots['FBREF_PLAYER_WS_ID'] = np.nan\n",
    "ws_shots['PLAYER_WS_NAME'] = np.nan"
   ]
  },
  {
   "cell_type": "code",
   "execution_count": null,
   "metadata": {},
   "outputs": [],
   "source": [
    "fbref_shot_events.rename({'PLAYER_WS_ID':'FBREF_PLAYER_WS_ID'}, axis=1, inplace=True)"
   ]
  },
  {
   "cell_type": "code",
   "execution_count": null,
   "metadata": {},
   "outputs": [],
   "source": [
    "fbref_shot_events = fbref_shot_events.merge(df_players.rename({'PLAYER_WS_ID':'FBREF_PLAYER_WS_ID'}, axis=1), \n",
    "                        on=['FBREF_PLAYER_WS_ID', 'PLAYER_FBREF_NAME'], how=\"left\")"
   ]
  },
  {
   "cell_type": "code",
   "execution_count": null,
   "metadata": {},
   "outputs": [],
   "source": [
    "cols_of_interest = ['xG', 'PSxG', 'outcome', 'distance', 'body_part', 'notes', 'SCA 1player', 'SCA 1event', \n",
    "                    'SCA 2player', 'SCA 2event', 'FBREF_PLAYER_WS_ID', 'PLAYER_WS_NAME']\n",
    "for game in ws_shots['MATCH_ID'].unique():\n",
    "    df_hold = fbref_shot_events[fbref_shot_events['MATCH_ID'] == game]\n",
    "    ind_list = ws_shots[ws_shots['MATCH_ID'] == game].index\n",
    "    ws_shots.loc[ind_list, cols_of_interest] = np.array(df_hold[cols_of_interest])"
   ]
  },
  {
   "cell_type": "code",
   "execution_count": null,
   "metadata": {},
   "outputs": [],
   "source": [
    "ws_shots['FBREF_PLAYER_WS_ID'] = ws_shots['FBREF_PLAYER_WS_ID'].astype(int)"
   ]
  },
  {
   "cell_type": "code",
   "execution_count": null,
   "metadata": {},
   "outputs": [],
   "source": [
    "mismatched_inds = ws_shots[ws_shots['PLAYER_WS_ID'] != ws_shots['FBREF_PLAYER_WS_ID']].index"
   ]
  },
  {
   "cell_type": "code",
   "execution_count": null,
   "metadata": {},
   "outputs": [],
   "source": [
    "mismatched_inds"
   ]
  },
  {
   "cell_type": "code",
   "execution_count": null,
   "metadata": {},
   "outputs": [],
   "source": [
    "# ONLY for the indecies with mismatched_inds, cahnge \"FBREF_PLAYER_WS_ID\" to teh value in \"PLAYER_WS_ID\" if \"player\" column's value is equal to \"PLAYER_WS_NAME\" column's value\n",
    "mask = ws_shots.loc[mismatched_inds, 'player'] == ws_shots.loc[mismatched_inds, 'PLAYER_WS_NAME']\n",
    "ws_shots.loc[mismatched_inds[mask], 'FBREF_PLAYER_WS_ID'] = ws_shots.loc[mismatched_inds[mask], 'PLAYER_WS_ID']"
   ]
  },
  {
   "cell_type": "code",
   "execution_count": null,
   "metadata": {},
   "outputs": [],
   "source": [
    "mismatched_inds = ws_shots[ws_shots['PLAYER_WS_ID'] != ws_shots['FBREF_PLAYER_WS_ID']].index"
   ]
  },
  {
   "cell_type": "code",
   "execution_count": null,
   "metadata": {},
   "outputs": [],
   "source": [
    "mask = (ws_shots.loc[mismatched_inds, 'player'] == 'Vítinha')\n",
    "ws_shots.loc[mismatched_inds[mask], 'FBREF_PLAYER_WS_ID'] = ws_shots.loc[mismatched_inds[mask], 'PLAYER_WS_ID']"
   ]
  },
  {
   "cell_type": "code",
   "execution_count": null,
   "metadata": {},
   "outputs": [],
   "source": [
    "for i in range(len(mismatched_inds) // 2):\n",
    "    val1 = ws_shots.loc[mismatched_inds, cols_of_interest].iloc[2*i]\n",
    "    val2 = ws_shots.loc[mismatched_inds, cols_of_interest].iloc[(2*i)+1]\n",
    "\n",
    "    ws_shots.loc[val1.name, cols_of_interest] = np.array(val2)\n",
    "    ws_shots.loc[val2.name, cols_of_interest] = np.array(val1)"
   ]
  },
  {
   "cell_type": "code",
   "execution_count": null,
   "metadata": {},
   "outputs": [],
   "source": [
    "#### Remove this part later becasue it's just for Yarmolyuik\n",
    "\n",
    "df_shots = ws_shots[['MATCH_ID','ACTION_ID','xG', 'PSxG', 'outcome', 'distance', \n",
    "          'body_part', 'notes', 'SCA 1player', 'SCA 1event', 'SCA 2player', 'SCA 2event']]\n",
    "\n",
    "# ws_dropped_shots[[cols_of_interest]] = np.nan\n",
    "\n",
    "# rows_to_add = [\n",
    "#     [0.04,np.nan,'Blocked',16,'Right Foot',np.nan,np.nan,np.nan,np.nan,np.nan,444304,'Yehor Yarmoliuk'],\n",
    "# [0.03,0.12,'Saved',27,'Right Foot',np.nan,np.nan,np.nan,np.nan,np.nan,444304,'Yehor Yarmoliuk'],\n",
    "# [0.05,np.nan,'Off Target',21,'Right Foot',np.nan,np.nan,np.nan,np.nan,np.nan,444304,'Yehor Yarmoliuk'],\n",
    "# [0.49,0.25,'Saved',11,'Right Foot',np.nan,np.nan,np.nan,np.nan,np.nan,444304,'Yehor Yarmoliuk'],\n",
    "# [0.09,np.nan,'Off Target',8,'Right Foot',np.nan,np.nan,np.nan,np.nan,np.nan,444304,'Yehor Yarmoliuk'],\n",
    "# [0.02,0.02,'Saved',19,'Right Foot',np.nan,np.nan,np.nan,np.nan,np.nan,444304,'Yehor Yarmoliuk']\n",
    "# ]\n",
    "\n",
    "# ws_dropped_shots[cols_of_interest] = np.array(rows_to_add)"
   ]
  },
  {
   "cell_type": "code",
   "execution_count": null,
   "metadata": {},
   "outputs": [],
   "source": [
    "# df_shots = pd.concat([df_shots, ws_dropped_shots[['MATCH_ID','ACTION_ID','xG', 'PSxG', 'outcome', 'distance', \n",
    "#           'body_part', 'notes', 'SCA 1player', 'SCA 1event', 'SCA 2player', 'SCA 2event']]]).sort_index()"
   ]
  },
  {
   "cell_type": "code",
   "execution_count": null,
   "metadata": {},
   "outputs": [],
   "source": [
    "# df_shots.replace({\"Jarrell Quansah\": \"Jarell Quansah\"}, inplace=True)\n",
    "# df_shots.replace({\"Omotayo Adaramola\": \"Tayo Adaramola\"}, inplace=True)"
   ]
  },
  {
   "cell_type": "code",
   "execution_count": null,
   "metadata": {},
   "outputs": [],
   "source": [
    "df_shots.rename({'xG':'XG', 'PSxG':'PSXG', 'outcome':'OUTCOME', 'distance':'DISTANCE', 'body_part':'BODY_PART',\n",
    "                 'notes':'NOTES', 'SCA 1player':'SCA_1_PLAYER_FBREF_NAME', 'SCA 1event':'SCA_1_PLAYER_FBREF_EVENT',\n",
    "                 'SCA 2player':'SCA_2_PLAYER_FBREF_NAME', 'SCA 2event':'SCA_2_PLAYER_FBREF_EVENT'}, axis=1, inplace=True)"
   ]
  },
  {
   "cell_type": "code",
   "execution_count": null,
   "metadata": {},
   "outputs": [],
   "source": [
    "# df_players.rename({'PLAYER_FBREF_NAME':'SCA_1_PLAYER_FBREF_NAME'}, axis=1, inplace=True)\n",
    "# df_players.rename({'PLAYER_WS_ID':'SCA_1_PLAYER_FBREF_ID'}, axis=1, inplace=True)"
   ]
  },
  {
   "cell_type": "code",
   "execution_count": null,
   "metadata": {},
   "outputs": [],
   "source": [
    "df_player_match.rename({'PLAYER_FBREF_NAME':'SCA_1_PLAYER_FBREF_NAME'}, axis=1, inplace=True)\n",
    "df_player_match.rename({'PLAYER_WS_ID':'SCA_1_PLAYER_FBREF_ID'}, axis=1, inplace=True)"
   ]
  },
  {
   "cell_type": "code",
   "execution_count": null,
   "metadata": {},
   "outputs": [],
   "source": [
    "df_shots.loc[df_shots['SCA_1_PLAYER_FBREF_NAME'] == 'Loum Ndiaye', 'SCA_1_PLAYER_FBREF_NAME'] = \"Mamadou N'Diaye\""
   ]
  },
  {
   "cell_type": "code",
   "execution_count": null,
   "metadata": {},
   "outputs": [],
   "source": [
    "df_shots.shape"
   ]
  },
  {
   "cell_type": "code",
   "execution_count": null,
   "metadata": {},
   "outputs": [],
   "source": [
    "df_shots = df_shots.merge(df_player_match[['SCA_1_PLAYER_FBREF_ID','SCA_1_PLAYER_FBREF_NAME','MATCH_ID']], \n",
    "                          on=['SCA_1_PLAYER_FBREF_NAME','MATCH_ID'], how='left')"
   ]
  },
  {
   "cell_type": "code",
   "execution_count": null,
   "metadata": {},
   "outputs": [],
   "source": [
    "relevant_inds = df_shots[['SCA_1_PLAYER_FBREF_NAME', 'MATCH_ID', 'ACTION_ID']].drop_duplicates().index"
   ]
  },
  {
   "cell_type": "code",
   "execution_count": null,
   "metadata": {},
   "outputs": [],
   "source": [
    "df_shots = df_shots.loc[relevant_inds]"
   ]
  },
  {
   "cell_type": "code",
   "execution_count": null,
   "metadata": {},
   "outputs": [],
   "source": [
    "# df_shots = df_shots.merge(df_players[['SCA_1_PLAYER_FBREF_ID','SCA_1_PLAYER_FBREF_NAME']], on='SCA_1_PLAYER_FBREF_NAME', how='left')"
   ]
  },
  {
   "cell_type": "code",
   "execution_count": null,
   "metadata": {},
   "outputs": [],
   "source": [
    "# df_players.rename({'SCA_1_PLAYER_FBREF_NAME':'SCA_2_PLAYER_FBREF_NAME'}, axis=1, inplace=True)\n",
    "# df_players.rename({'SCA_1_PLAYER_FBREF_ID':'SCA_2_PLAYER_FBREF_ID'}, axis=1, inplace=True)\n",
    "\n",
    "df_player_match.rename({'SCA_1_PLAYER_FBREF_NAME':'SCA_2_PLAYER_FBREF_NAME'}, axis=1, inplace=True)\n",
    "df_player_match.rename({'SCA_1_PLAYER_FBREF_ID':'SCA_2_PLAYER_FBREF_ID'}, axis=1, inplace=True)"
   ]
  },
  {
   "cell_type": "code",
   "execution_count": null,
   "metadata": {},
   "outputs": [],
   "source": [
    "# df_shots = df_shots.merge(df_players[['SCA_2_PLAYER_FBREF_ID','SCA_2_PLAYER_FBREF_NAME']], on='SCA_2_PLAYER_FBREF_NAME', how='left')\n",
    "df_shots = df_shots.merge(df_player_match[['SCA_2_PLAYER_FBREF_ID','SCA_2_PLAYER_FBREF_NAME','MATCH_ID']], \n",
    "                          on=['SCA_2_PLAYER_FBREF_NAME','MATCH_ID'], how='left')"
   ]
  },
  {
   "cell_type": "code",
   "execution_count": null,
   "metadata": {},
   "outputs": [],
   "source": [
    "relevant_inds = df_shots[['SCA_2_PLAYER_FBREF_NAME', 'MATCH_ID', 'ACTION_ID']].drop_duplicates().index"
   ]
  },
  {
   "cell_type": "code",
   "execution_count": null,
   "metadata": {},
   "outputs": [],
   "source": [
    "df_shots = df_shots.loc[relevant_inds]"
   ]
  },
  {
   "cell_type": "code",
   "execution_count": null,
   "metadata": {},
   "outputs": [],
   "source": [
    "inds_to_drop = (df_shots[df_shots[['MATCH_ID', 'ACTION_ID']].duplicated()].index)"
   ]
  },
  {
   "cell_type": "code",
   "execution_count": null,
   "metadata": {},
   "outputs": [],
   "source": [
    "inds_to_drop"
   ]
  },
  {
   "cell_type": "code",
   "execution_count": null,
   "metadata": {},
   "outputs": [],
   "source": [
    "df_shots = df_shots.drop(inds_to_drop)"
   ]
  },
  {
   "cell_type": "code",
   "execution_count": null,
   "metadata": {},
   "outputs": [],
   "source": [
    "df_shots = df_shots.drop(['SCA_1_PLAYER_FBREF_NAME', 'SCA_2_PLAYER_FBREF_NAME'], axis=1)"
   ]
  },
  {
   "cell_type": "code",
   "execution_count": null,
   "metadata": {},
   "outputs": [],
   "source": [
    "df_shots.rename({'SCA_1_PLAYER_FBREF_ID':'SCA_1_PLAYER_WS_ID', 'SCA_2_PLAYER_FBREF_ID':'SCA_2_PLAYER_WS_ID'}, \n",
    "                axis=1, inplace=True)"
   ]
  },
  {
   "cell_type": "code",
   "execution_count": null,
   "metadata": {},
   "outputs": [],
   "source": [
    "df_shots.replace({pd.NA: np.nan}, inplace=True)"
   ]
  },
  {
   "cell_type": "code",
   "execution_count": null,
   "metadata": {},
   "outputs": [],
   "source": [
    "df_shots['XG'] = df_shots['XG'].astype(float)\n",
    "df_shots['PSXG'] = df_shots['PSXG'].astype(float)\n",
    "df_shots['DISTANCE'] = df_shots['DISTANCE'].astype(int)"
   ]
  },
  {
   "cell_type": "code",
   "execution_count": null,
   "metadata": {},
   "outputs": [],
   "source": [
    "df_shots.shape"
   ]
  },
  {
   "cell_type": "code",
   "execution_count": null,
   "metadata": {},
   "outputs": [],
   "source": [
    "upsert_to_snowflake(\"SHOT_EVENTS\", df_shots, ['MATCH_ID', 'ACTION_ID'])"
   ]
  },
  {
   "cell_type": "code",
   "execution_count": null,
   "metadata": {},
   "outputs": [],
   "source": [
    "## DF SHOTS NEEDS SOME CLEANING UP"
   ]
  },
  {
   "cell_type": "code",
   "execution_count": null,
   "metadata": {},
   "outputs": [],
   "source": []
  },
  {
   "cell_type": "code",
   "execution_count": null,
   "metadata": {},
   "outputs": [],
   "source": []
  },
  {
   "cell_type": "code",
   "execution_count": null,
   "metadata": {},
   "outputs": [],
   "source": []
  }
 ],
 "metadata": {
  "kernelspec": {
   "display_name": "footy",
   "language": "python",
   "name": "python3"
  },
  "language_info": {
   "codemirror_mode": {
    "name": "ipython",
    "version": 3
   },
   "file_extension": ".py",
   "mimetype": "text/x-python",
   "name": "python",
   "nbconvert_exporter": "python",
   "pygments_lexer": "ipython3",
   "version": "3.11.5"
  }
 },
 "nbformat": 4,
 "nbformat_minor": 2
}
