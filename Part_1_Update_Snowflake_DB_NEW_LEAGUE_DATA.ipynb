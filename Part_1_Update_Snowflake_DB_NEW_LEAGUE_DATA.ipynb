{
 "cells": [
  {
   "cell_type": "code",
   "execution_count": 1,
   "metadata": {},
   "outputs": [],
   "source": [
    "## NOTE: Please add the Roma game next time you scrape: ws_game_id: 1746369 and fbref_id: bca64d25\n",
    "## NOTE: Please add the Lorient game next time you scrape: ws_game_id: 1741084 and fbref_id: aed44d7a\n",
    "## Match \"72c0709d\" is in FBref, but not whoscored\n",
    "## Match \"10f0c822\" is in FBref, but not whoscored"
   ]
  },
  {
   "cell_type": "code",
   "execution_count": 2,
   "metadata": {},
   "outputs": [
    {
     "data": {
      "text/html": [
       "<pre style=\"white-space:pre;overflow-x:auto;line-height:normal;font-family:Menlo,'DejaVu Sans Mono',consolas,'Courier New',monospace\"><span style=\"color: #7fbfbf; text-decoration-color: #7fbfbf\">[06/16/24 16:56:27] </span><span style=\"color: #000080; text-decoration-color: #000080\">INFO    </span> No custom team name replacements found. You can configure these in       <a href=\"file://d:\\Users\\ksbha\\miniconda3\\envs\\srcftbl\\Lib\\site-packages\\soccerdata\\_config.py\" target=\"_blank\"><span style=\"color: #7f7f7f; text-decoration-color: #7f7f7f\">_config.py</span></a><span style=\"color: #7f7f7f; text-decoration-color: #7f7f7f\">:</span><a href=\"file://d:\\Users\\ksbha\\miniconda3\\envs\\srcftbl\\Lib\\site-packages\\soccerdata\\_config.py#90\" target=\"_blank\"><span style=\"color: #7f7f7f; text-decoration-color: #7f7f7f\">90</span></a>\n",
       "<span style=\"color: #7fbfbf; text-decoration-color: #7fbfbf\">                    </span>         C:\\Users\\ksbha\\soccerdata\\config\\teamname_replacements.json.             <span style=\"color: #7f7f7f; text-decoration-color: #7f7f7f\">             </span>\n",
       "</pre>\n"
      ],
      "text/plain": [
       "\u001b[2;36m[06/16/24 16:56:27]\u001b[0m\u001b[2;36m \u001b[0m\u001b[34mINFO    \u001b[0m No custom team name replacements found. You can configure these in       \u001b]8;id=445073;file://d:\\Users\\ksbha\\miniconda3\\envs\\srcftbl\\Lib\\site-packages\\soccerdata\\_config.py\u001b\\\u001b[2m_config.py\u001b[0m\u001b]8;;\u001b\\\u001b[2m:\u001b[0m\u001b]8;id=287871;file://d:\\Users\\ksbha\\miniconda3\\envs\\srcftbl\\Lib\\site-packages\\soccerdata\\_config.py#90\u001b\\\u001b[2m90\u001b[0m\u001b]8;;\u001b\\\n",
       "\u001b[2;36m                    \u001b[0m         C:\\Users\\ksbha\\soccerdata\\config\\teamname_replacements.json.             \u001b[2m             \u001b[0m\n"
      ]
     },
     "metadata": {},
     "output_type": "display_data"
    },
    {
     "data": {
      "text/html": [
       "<pre style=\"white-space:pre;overflow-x:auto;line-height:normal;font-family:Menlo,'DejaVu Sans Mono',consolas,'Courier New',monospace\"><span style=\"color: #7fbfbf; text-decoration-color: #7fbfbf\">                    </span><span style=\"color: #000080; text-decoration-color: #000080\">INFO    </span> No custom league dict found. You can configure additional leagues in    <a href=\"file://d:\\Users\\ksbha\\miniconda3\\envs\\srcftbl\\Lib\\site-packages\\soccerdata\\_config.py\" target=\"_blank\"><span style=\"color: #7f7f7f; text-decoration-color: #7f7f7f\">_config.py</span></a><span style=\"color: #7f7f7f; text-decoration-color: #7f7f7f\">:</span><a href=\"file://d:\\Users\\ksbha\\miniconda3\\envs\\srcftbl\\Lib\\site-packages\\soccerdata\\_config.py#196\" target=\"_blank\"><span style=\"color: #7f7f7f; text-decoration-color: #7f7f7f\">196</span></a>\n",
       "<span style=\"color: #7fbfbf; text-decoration-color: #7fbfbf\">                    </span>         C:\\Users\\ksbha\\soccerdata\\config\\league_dict.json.                      <span style=\"color: #7f7f7f; text-decoration-color: #7f7f7f\">              </span>\n",
       "</pre>\n"
      ],
      "text/plain": [
       "\u001b[2;36m                   \u001b[0m\u001b[2;36m \u001b[0m\u001b[34mINFO    \u001b[0m No custom league dict found. You can configure additional leagues in    \u001b]8;id=245032;file://d:\\Users\\ksbha\\miniconda3\\envs\\srcftbl\\Lib\\site-packages\\soccerdata\\_config.py\u001b\\\u001b[2m_config.py\u001b[0m\u001b]8;;\u001b\\\u001b[2m:\u001b[0m\u001b]8;id=160398;file://d:\\Users\\ksbha\\miniconda3\\envs\\srcftbl\\Lib\\site-packages\\soccerdata\\_config.py#196\u001b\\\u001b[2m196\u001b[0m\u001b]8;;\u001b\\\n",
       "\u001b[2;36m                    \u001b[0m         C:\\Users\\ksbha\\soccerdata\\config\\league_dict.json.                      \u001b[2m              \u001b[0m\n"
      ]
     },
     "metadata": {},
     "output_type": "display_data"
    },
    {
     "name": "stderr",
     "output_type": "stream",
     "text": [
      "d:\\Users\\ksbha\\miniconda3\\envs\\srcftbl\\Lib\\site-packages\\tqdm\\auto.py:21: TqdmWarning: IProgress not found. Please update jupyter and ipywidgets. See https://ipywidgets.readthedocs.io/en/stable/user_install.html\n",
      "  from .autonotebook import tqdm as notebook_tqdm\n"
     ]
    }
   ],
   "source": [
    "import soccerdata as sd\n",
    "import pandas as pd\n",
    "from tqdm import tqdm\n",
    "import ScraperFC as sfc\n",
    "import traceback\n",
    "\n",
    "import warnings\n",
    "import numpy as np\n",
    "import socceraction.spadl as spadl"
   ]
  },
  {
   "cell_type": "code",
   "execution_count": 3,
   "metadata": {},
   "outputs": [],
   "source": [
    "import datetime"
   ]
  },
  {
   "cell_type": "code",
   "execution_count": 4,
   "metadata": {},
   "outputs": [],
   "source": [
    "## Create a connection to Snowflake\n",
    "from sqlalchemy import create_engine\n",
    "import snowflake.connector"
   ]
  },
  {
   "cell_type": "code",
   "execution_count": 5,
   "metadata": {},
   "outputs": [],
   "source": [
    "import snowflake.connector\n",
    "from snowflake.connector.pandas_tools import write_pandas"
   ]
  },
  {
   "cell_type": "code",
   "execution_count": 6,
   "metadata": {},
   "outputs": [],
   "source": [
    "pd.set_option('display.max_columns', None)"
   ]
  },
  {
   "cell_type": "code",
   "execution_count": 7,
   "metadata": {},
   "outputs": [],
   "source": [
    "# spark = SparkSession.builder \\\n",
    "#     .master(\"local\") \\\n",
    "#     .appName(\"Gegenstats\") \\\n",
    "#     .getOrCreate()"
   ]
  },
  {
   "cell_type": "code",
   "execution_count": 7,
   "metadata": {},
   "outputs": [
    {
     "name": "stderr",
     "output_type": "stream",
     "text": [
      "d:\\Users\\ksbha\\miniconda3\\envs\\srcftbl\\Lib\\site-packages\\ScraperFC\\Understat.py:361: FutureWarning: Passing literal html to 'read_html' is deprecated and will be removed in a future version. To read from a literal string, wrap it in a 'StringIO' object.\n",
      "  columns = pd.read_html(table)[0].columns\n",
      "d:\\Users\\ksbha\\miniconda3\\envs\\srcftbl\\Lib\\site-packages\\ScraperFC\\Understat.py:366: FutureWarning: Passing literal html to 'read_html' is deprecated and will be removed in a future version. To read from a literal string, wrap it in a 'StringIO' object.\n",
      "  df = pd.read_html(table)[0]\n",
      "C:\\Users\\ksbha\\AppData\\Local\\Temp\\ipykernel_32648\\2348357125.py:20: FutureWarning: The behavior of DataFrame concatenation with empty or all-NA entries is deprecated. In a future version, this will no longer exclude empty or all-NA columns when determining the result dtypes. To retain the old behavior, exclude the relevant entries before the concat operation.\n",
      "  output_df = pd.concat([output_df, ooper])\n",
      "d:\\Users\\ksbha\\miniconda3\\envs\\srcftbl\\Lib\\site-packages\\ScraperFC\\Understat.py:361: FutureWarning: Passing literal html to 'read_html' is deprecated and will be removed in a future version. To read from a literal string, wrap it in a 'StringIO' object.\n",
      "  columns = pd.read_html(table)[0].columns\n",
      "d:\\Users\\ksbha\\miniconda3\\envs\\srcftbl\\Lib\\site-packages\\ScraperFC\\Understat.py:366: FutureWarning: Passing literal html to 'read_html' is deprecated and will be removed in a future version. To read from a literal string, wrap it in a 'StringIO' object.\n",
      "  df = pd.read_html(table)[0]\n",
      "d:\\Users\\ksbha\\miniconda3\\envs\\srcftbl\\Lib\\site-packages\\ScraperFC\\Understat.py:361: FutureWarning: Passing literal html to 'read_html' is deprecated and will be removed in a future version. To read from a literal string, wrap it in a 'StringIO' object.\n",
      "  columns = pd.read_html(table)[0].columns\n",
      "d:\\Users\\ksbha\\miniconda3\\envs\\srcftbl\\Lib\\site-packages\\ScraperFC\\Understat.py:366: FutureWarning: Passing literal html to 'read_html' is deprecated and will be removed in a future version. To read from a literal string, wrap it in a 'StringIO' object.\n",
      "  df = pd.read_html(table)[0]\n",
      "d:\\Users\\ksbha\\miniconda3\\envs\\srcftbl\\Lib\\site-packages\\ScraperFC\\Understat.py:361: FutureWarning: Passing literal html to 'read_html' is deprecated and will be removed in a future version. To read from a literal string, wrap it in a 'StringIO' object.\n",
      "  columns = pd.read_html(table)[0].columns\n",
      "d:\\Users\\ksbha\\miniconda3\\envs\\srcftbl\\Lib\\site-packages\\ScraperFC\\Understat.py:366: FutureWarning: Passing literal html to 'read_html' is deprecated and will be removed in a future version. To read from a literal string, wrap it in a 'StringIO' object.\n",
      "  df = pd.read_html(table)[0]\n",
      "d:\\Users\\ksbha\\miniconda3\\envs\\srcftbl\\Lib\\site-packages\\ScraperFC\\Understat.py:361: FutureWarning: Passing literal html to 'read_html' is deprecated and will be removed in a future version. To read from a literal string, wrap it in a 'StringIO' object.\n",
      "  columns = pd.read_html(table)[0].columns\n",
      "d:\\Users\\ksbha\\miniconda3\\envs\\srcftbl\\Lib\\site-packages\\ScraperFC\\Understat.py:366: FutureWarning: Passing literal html to 'read_html' is deprecated and will be removed in a future version. To read from a literal string, wrap it in a 'StringIO' object.\n",
      "  df = pd.read_html(table)[0]\n"
     ]
    }
   ],
   "source": [
    "scraper = sfc.Understat()\n",
    "def scrape_league_data(league_years):\n",
    "    output_df = pd.DataFrame(columns=['№', 'Team', 'M', 'W', 'D', 'L', 'G', 'GA', 'PTS', 'xG', 'NPxG', 'xGA',\n",
    "       'NPxGA', 'NPxGD', 'PPDA', 'OPPDA', 'DC', 'ODC', 'xPTS', 'season','league'])\n",
    "    for league_year in league_years:\n",
    "        try:\n",
    "            ooper = scraper.scrape_league_table(year=league_year[1], league=league_year[0])\n",
    "            season_val = league_year[1]\n",
    "            ooper['season'] = int(str(int(str(season_val)[2:])-1)+str(season_val)[2:])\n",
    "            if league_year[0] == 'EPL':\n",
    "                ooper['league'] = 'ENG-Premier League'\n",
    "            elif league_year[0] == 'La Liga':\n",
    "                ooper['league'] = 'ESP-La Liga'\n",
    "            elif league_year[0] == 'Bundesliga':\n",
    "                ooper['league'] = 'GER-Bundesliga'\n",
    "            elif league_year[0] == 'Serie A':\n",
    "                ooper['league'] = 'ITA-Serie A'\n",
    "            elif league_year[0] == 'Ligue 1':\n",
    "                ooper['league'] = 'FRA-Ligue 1'\n",
    "            output_df = pd.concat([output_df, ooper])\n",
    "            \n",
    "        except Exception as e:\n",
    "            print(f\"An error occurred for the year {league_years}: {e}\")\n",
    "            traceback.print_exc()\n",
    "    scraper.close()\n",
    "    return output_df\n",
    "\n",
    "league_years = [('EPL', 2024), ('La Liga', 2024), ('Bundesliga', 2024), ('Serie A', 2024), ('Ligue 1', 2024)] \n",
    "out = scrape_league_data(league_years)"
   ]
  },
  {
   "cell_type": "code",
   "execution_count": 8,
   "metadata": {},
   "outputs": [],
   "source": [
    "understat_table = out[['league','Team','season', 'W', 'D', 'L','G','GA', 'xG', 'xGA','NPxG','NPxGA','PPDA',\n",
    "                       'OPPDA','PTS','xPTS']]"
   ]
  },
  {
   "cell_type": "code",
   "execution_count": 9,
   "metadata": {},
   "outputs": [],
   "source": [
    "understat_table.loc[understat_table['Team'] == 'Arminia Bielefeld', 'Team'] = 'Arminia'\n",
    "understat_table.loc[understat_table['Team'] == 'Borussia Dortmund', 'Team'] = 'Dortmund'\n",
    "understat_table.loc[understat_table['Team'] == 'Eintracht Frankfurt', 'Team'] = 'Eint Frankfurt'\n",
    "understat_table.loc[understat_table['Team'] == 'Greuther Fuerth', 'Team'] = 'Greuther Fürth'\n",
    "understat_table.loc[understat_table['Team'] == 'Hertha Berlin', 'Team'] = 'Hertha BSC'\n",
    "understat_table.loc[understat_table['Team'] == 'FC Cologne', 'Team'] = 'Köln'\n",
    "understat_table.loc[understat_table['Team'] == 'Bayer Leverkusen', 'Team'] = 'Leverkusen'\n",
    "understat_table.loc[understat_table['Team'] == 'Borussia M.Gladbach', 'Team'] = \"M'Gladbach\"\n",
    "understat_table.loc[understat_table['Team'] == 'RasenBallsport Leipzig', 'Team'] = 'RB Leipzig'\n",
    "understat_table.loc[understat_table['Team'] == 'VfB Stuttgart', 'Team'] = 'Stuttgart'\n",
    "understat_table.loc[understat_table['Team'] == 'Darmstadt', 'Team'] = 'Darmstadt 98'\n",
    "understat_table.loc[understat_table['Team'] == 'FC Heidenheim', 'Team'] = 'Heidenheim'"
   ]
  },
  {
   "cell_type": "code",
   "execution_count": 10,
   "metadata": {},
   "outputs": [],
   "source": [
    "understat_table.loc[understat_table['Team'] == 'Alaves', 'Team'] = 'Alavés'\n",
    "understat_table.loc[understat_table['Team'] == 'Atletico Madrid', 'Team'] = 'Atlético Madrid'\n",
    "understat_table.loc[understat_table['Team'] == 'Cadiz', 'Team'] = 'Cádiz'\n",
    "understat_table.loc[understat_table['Team'] == 'Real Betis', 'Team'] = 'Betis'\n",
    "understat_table.loc[understat_table['Team'] == 'Real Valladolid', 'Team'] = \"Valladolid\"\n",
    "understat_table.loc[understat_table['Team'] == 'Almeria', 'Team'] = 'Almería'\n",
    "\n",
    "understat_table.loc[understat_table['Team'] == 'Verona', 'Team'] = 'Hellas Verona'\n",
    "understat_table.loc[understat_table['Team'] == 'Milan', 'Team'] = 'AC Milan'\n",
    "\n",
    "\n",
    "understat_table.loc[understat_table['Team'] == 'Paris Saint Germain', 'Team'] = \"Paris S-G\"\n",
    "understat_table.loc[understat_table['Team'] == 'Saint-Etienne', 'Team'] = \"Saint-Étienne\"\n",
    "\n",
    "understat_table.loc[understat_table['Team'] == 'Manchester United', 'Team'] = 'Manchester Utd'\n",
    "understat_table.loc[understat_table['Team'] == 'Newcastle United', 'Team'] = 'Newcastle Utd'\n",
    "understat_table.loc[understat_table['Team'] == 'Tottenham Hotspur', 'Team'] = 'Tottenham'\n",
    "understat_table.loc[understat_table['Team'] == 'Wolverhampton Wanderers', 'Team'] = 'Wolves'\n",
    "understat_table.loc[understat_table['Team'] == 'Nottingham Forest', 'Team'] = \"Nott'ham Forest\"\n",
    "understat_table.loc[understat_table['Team'] == 'Leicester', 'Team'] = 'Leicester City'\n",
    "understat_table.loc[understat_table['Team'] == 'Leeds', 'Team'] = 'Leeds United'\n",
    "understat_table.loc[understat_table['Team'] == 'Sheffield United', 'Team'] = \"Sheffield Utd\"\n",
    "understat_table.loc[understat_table['Team'] == 'Luton', 'Team'] = 'Luton Town'\n",
    "understat_table.loc[understat_table['Team'] == 'Norwich', 'Team'] = 'Norwich City'"
   ]
  },
  {
   "cell_type": "code",
   "execution_count": 11,
   "metadata": {},
   "outputs": [
    {
     "name": "stderr",
     "output_type": "stream",
     "text": [
      "C:\\Users\\ksbha\\AppData\\Local\\Temp\\ipykernel_32648\\614021855.py:1: SettingWithCopyWarning: \n",
      "A value is trying to be set on a copy of a slice from a DataFrame\n",
      "\n",
      "See the caveats in the documentation: https://pandas.pydata.org/pandas-docs/stable/user_guide/indexing.html#returning-a-view-versus-a-copy\n",
      "  understat_table.sort_values(by=['league','season','Team'], ascending=True, inplace=True)\n"
     ]
    }
   ],
   "source": [
    "understat_table.sort_values(by=['league','season','Team'], ascending=True, inplace=True)\n",
    "understat_table.reset_index(drop=True, inplace=True)"
   ]
  },
  {
   "cell_type": "code",
   "execution_count": 12,
   "metadata": {},
   "outputs": [
    {
     "name": "stderr",
     "output_type": "stream",
     "text": [
      "C:\\Users\\ksbha\\AppData\\Local\\Temp\\ipykernel_32648\\2521636844.py:1: SettingWithCopyWarning: \n",
      "A value is trying to be set on a copy of a slice from a DataFrame\n",
      "\n",
      "See the caveats in the documentation: https://pandas.pydata.org/pandas-docs/stable/user_guide/indexing.html#returning-a-view-versus-a-copy\n",
      "  understat_table.rename(columns={'Team':'TEAM_NAME', 'W':'TEAM_WINS', 'D':'TEAM_DRAWS', 'league':'COMPETITION',\n"
     ]
    }
   ],
   "source": [
    "understat_table.rename(columns={'Team':'TEAM_NAME', 'W':'TEAM_WINS', 'D':'TEAM_DRAWS', 'league':'COMPETITION',\n",
    "                                'L': 'TEAM_LOSSES', 'xPTS':'TEAM_XPTS', 'PTS':'TEAM_PTS', 'season':'SEASON',\n",
    "                                'NPxGA':'NPXG_AGAINST', 'xGA':'XG_AGAINST'}, inplace=True)"
   ]
  },
  {
   "cell_type": "code",
   "execution_count": 13,
   "metadata": {},
   "outputs": [],
   "source": [
    "understat_table.set_index(['COMPETITION', 'SEASON', 'TEAM_NAME'], inplace=True)"
   ]
  },
  {
   "cell_type": "markdown",
   "metadata": {},
   "source": [
    "Get the match data from Snowflake so that we only scrape for matches we don't have yet "
   ]
  },
  {
   "cell_type": "code",
   "execution_count": 14,
   "metadata": {},
   "outputs": [],
   "source": [
    "proxy = {\n",
    "    'http': 'http://185.192.69.46:3128',\n",
    "    'https': 'http://185.192.69.46:1080',\n",
    "}"
   ]
  },
  {
   "cell_type": "code",
   "execution_count": 10,
   "metadata": {},
   "outputs": [
    {
     "data": {
      "text/html": [
       "<pre style=\"white-space:pre;overflow-x:auto;line-height:normal;font-family:Menlo,'DejaVu Sans Mono',consolas,'Courier New',monospace\"><span style=\"color: #7fbfbf; text-decoration-color: #7fbfbf\">[06/16/24 16:57:04] </span><span style=\"color: #000080; text-decoration-color: #000080\">INFO    </span> Saving cached data to C:\\Users\\ksbha\\soccerdata\\data\\FBref              <a href=\"file://d:\\Users\\ksbha\\miniconda3\\envs\\srcftbl\\Lib\\site-packages\\soccerdata\\_common.py\" target=\"_blank\"><span style=\"color: #7f7f7f; text-decoration-color: #7f7f7f\">_common.py</span></a><span style=\"color: #7f7f7f; text-decoration-color: #7f7f7f\">:</span><a href=\"file://d:\\Users\\ksbha\\miniconda3\\envs\\srcftbl\\Lib\\site-packages\\soccerdata\\_common.py#263\" target=\"_blank\"><span style=\"color: #7f7f7f; text-decoration-color: #7f7f7f\">263</span></a>\n",
       "</pre>\n"
      ],
      "text/plain": [
       "\u001b[2;36m[06/16/24 16:57:04]\u001b[0m\u001b[2;36m \u001b[0m\u001b[34mINFO    \u001b[0m Saving cached data to C:\\Users\\ksbha\\soccerdata\\data\\FBref              \u001b]8;id=398174;file://d:\\Users\\ksbha\\miniconda3\\envs\\srcftbl\\Lib\\site-packages\\soccerdata\\_common.py\u001b\\\u001b[2m_common.py\u001b[0m\u001b]8;;\u001b\\\u001b[2m:\u001b[0m\u001b]8;id=366144;file://d:\\Users\\ksbha\\miniconda3\\envs\\srcftbl\\Lib\\site-packages\\soccerdata\\_common.py#263\u001b\\\u001b[2m263\u001b[0m\u001b]8;;\u001b\\\n"
      ]
     },
     "metadata": {},
     "output_type": "display_data"
    },
    {
     "name": "stderr",
     "output_type": "stream",
     "text": [
      "d:\\Users\\ksbha\\miniconda3\\envs\\srcftbl\\Lib\\site-packages\\soccerdata\\fbref.py:92: UserWarning: You are trying to scrape data for all of the Big 5 European leagues. This can be done more efficiently by setting leagues='Big 5 European Leagues Combined'.\n",
      "  warnings.warn(\n"
     ]
    },
    {
     "data": {
      "text/html": [
       "<pre style=\"white-space:pre;overflow-x:auto;line-height:normal;font-family:Menlo,'DejaVu Sans Mono',consolas,'Courier New',monospace\"><span style=\"color: #7fbfbf; text-decoration-color: #7fbfbf\">[06/16/24 16:58:15] </span><span style=\"color: #800000; text-decoration-color: #800000; font-weight: bold\">ERROR   </span> Error while scraping <span style=\"color: #0000ff; text-decoration-color: #0000ff; text-decoration: underline\">https://fbref.com/en/comps/13/Ligue-1-Stats.</span>       <a href=\"file://d:\\Users\\ksbha\\miniconda3\\envs\\srcftbl\\Lib\\site-packages\\soccerdata\\_common.py\" target=\"_blank\"><span style=\"color: #7f7f7f; text-decoration-color: #7f7f7f\">_common.py</span></a><span style=\"color: #7f7f7f; text-decoration-color: #7f7f7f\">:</span><a href=\"file://d:\\Users\\ksbha\\miniconda3\\envs\\srcftbl\\Lib\\site-packages\\soccerdata\\_common.py#545\" target=\"_blank\"><span style=\"color: #7f7f7f; text-decoration-color: #7f7f7f\">545</span></a>\n",
       "<span style=\"color: #7fbfbf; text-decoration-color: #7fbfbf\">                    </span>         Retrying<span style=\"color: #808000; text-decoration-color: #808000\">...</span> <span style=\"font-weight: bold\">(</span>attempt <span style=\"color: #008080; text-decoration-color: #008080; font-weight: bold\">1</span> of <span style=\"color: #008080; text-decoration-color: #008080; font-weight: bold\">5</span><span style=\"font-weight: bold\">)</span>.                                           <span style=\"color: #7f7f7f; text-decoration-color: #7f7f7f\">              </span>\n",
       "<span style=\"color: #7fbfbf; text-decoration-color: #7fbfbf\">                    </span>         Traceback <span style=\"font-weight: bold\">(</span>most recent call last<span style=\"font-weight: bold\">)</span>:                                      <span style=\"color: #7f7f7f; text-decoration-color: #7f7f7f\">              </span>\n",
       "<span style=\"color: #7fbfbf; text-decoration-color: #7fbfbf\">                    </span>           File                                                                  <span style=\"color: #7f7f7f; text-decoration-color: #7f7f7f\">              </span>\n",
       "<span style=\"color: #7fbfbf; text-decoration-color: #7fbfbf\">                    </span>         <span style=\"color: #008000; text-decoration-color: #008000\">\"d:\\Users\\ksbha\\miniconda3\\envs\\srcftbl\\Lib\\site-packages\\soccerdata\\_c</span> <span style=\"color: #7f7f7f; text-decoration-color: #7f7f7f\">              </span>\n",
       "<span style=\"color: #7fbfbf; text-decoration-color: #7fbfbf\">                    </span>         <span style=\"color: #008000; text-decoration-color: #008000\">ommon.py\"</span>, line <span style=\"color: #008080; text-decoration-color: #008080; font-weight: bold\">525</span>, in _download_and_save                              <span style=\"color: #7f7f7f; text-decoration-color: #7f7f7f\">              </span>\n",
       "<span style=\"color: #7fbfbf; text-decoration-color: #7fbfbf\">                    </span>             <span style=\"color: #800080; text-decoration-color: #800080; font-weight: bold\">response.raise_for_status</span><span style=\"font-weight: bold\">()</span>                                         <span style=\"color: #7f7f7f; text-decoration-color: #7f7f7f\">              </span>\n",
       "<span style=\"color: #7fbfbf; text-decoration-color: #7fbfbf\">                    </span>           File                                                                  <span style=\"color: #7f7f7f; text-decoration-color: #7f7f7f\">              </span>\n",
       "<span style=\"color: #7fbfbf; text-decoration-color: #7fbfbf\">                    </span>         <span style=\"color: #008000; text-decoration-color: #008000\">\"d:\\Users\\ksbha\\miniconda3\\envs\\srcftbl\\Lib\\site-packages\\requests\\mode</span> <span style=\"color: #7f7f7f; text-decoration-color: #7f7f7f\">              </span>\n",
       "<span style=\"color: #7fbfbf; text-decoration-color: #7fbfbf\">                    </span>         <span style=\"color: #008000; text-decoration-color: #008000\">ls.py\"</span>, line <span style=\"color: #008080; text-decoration-color: #008080; font-weight: bold\">1021</span>, in raise_for_status                                  <span style=\"color: #7f7f7f; text-decoration-color: #7f7f7f\">              </span>\n",
       "<span style=\"color: #7fbfbf; text-decoration-color: #7fbfbf\">                    </span>             raise <span style=\"color: #800080; text-decoration-color: #800080; font-weight: bold\">HTTPError</span><span style=\"font-weight: bold\">(</span>http_error_msg, <span style=\"color: #808000; text-decoration-color: #808000\">response</span>=<span style=\"color: #800080; text-decoration-color: #800080\">self</span><span style=\"font-weight: bold\">)</span>                      <span style=\"color: #7f7f7f; text-decoration-color: #7f7f7f\">              </span>\n",
       "<span style=\"color: #7fbfbf; text-decoration-color: #7fbfbf\">                    </span>         requests.exceptions.HTTPError: <span style=\"color: #008080; text-decoration-color: #008080; font-weight: bold\">429</span> Client Error: Too Many Requests for  <span style=\"color: #7f7f7f; text-decoration-color: #7f7f7f\">              </span>\n",
       "<span style=\"color: #7fbfbf; text-decoration-color: #7fbfbf\">                    </span>         url: <span style=\"color: #0000ff; text-decoration-color: #0000ff; text-decoration: underline\">https://fbref.com/en/comps/13/Ligue-1-Stats</span>                        <span style=\"color: #7f7f7f; text-decoration-color: #7f7f7f\">              </span>\n",
       "</pre>\n"
      ],
      "text/plain": [
       "\u001b[2;36m[06/16/24 16:58:15]\u001b[0m\u001b[2;36m \u001b[0m\u001b[1;31mERROR   \u001b[0m Error while scraping \u001b[4;94mhttps://fbref.com/en/comps/13/Ligue-1-Stats.\u001b[0m       \u001b]8;id=44997;file://d:\\Users\\ksbha\\miniconda3\\envs\\srcftbl\\Lib\\site-packages\\soccerdata\\_common.py\u001b\\\u001b[2m_common.py\u001b[0m\u001b]8;;\u001b\\\u001b[2m:\u001b[0m\u001b]8;id=998951;file://d:\\Users\\ksbha\\miniconda3\\envs\\srcftbl\\Lib\\site-packages\\soccerdata\\_common.py#545\u001b\\\u001b[2m545\u001b[0m\u001b]8;;\u001b\\\n",
       "\u001b[2;36m                    \u001b[0m         Retrying\u001b[33m...\u001b[0m \u001b[1m(\u001b[0mattempt \u001b[1;36m1\u001b[0m of \u001b[1;36m5\u001b[0m\u001b[1m)\u001b[0m.                                           \u001b[2m              \u001b[0m\n",
       "\u001b[2;36m                    \u001b[0m         Traceback \u001b[1m(\u001b[0mmost recent call last\u001b[1m)\u001b[0m:                                      \u001b[2m              \u001b[0m\n",
       "\u001b[2;36m                    \u001b[0m           File                                                                  \u001b[2m              \u001b[0m\n",
       "\u001b[2;36m                    \u001b[0m         \u001b[32m\"d:\\Users\\ksbha\\miniconda3\\envs\\srcftbl\\Lib\\site-packages\\soccerdata\\_c\u001b[0m \u001b[2m              \u001b[0m\n",
       "\u001b[2;36m                    \u001b[0m         \u001b[32mommon.py\"\u001b[0m, line \u001b[1;36m525\u001b[0m, in _download_and_save                              \u001b[2m              \u001b[0m\n",
       "\u001b[2;36m                    \u001b[0m             \u001b[1;35mresponse.raise_for_status\u001b[0m\u001b[1m(\u001b[0m\u001b[1m)\u001b[0m                                         \u001b[2m              \u001b[0m\n",
       "\u001b[2;36m                    \u001b[0m           File                                                                  \u001b[2m              \u001b[0m\n",
       "\u001b[2;36m                    \u001b[0m         \u001b[32m\"d:\\Users\\ksbha\\miniconda3\\envs\\srcftbl\\Lib\\site-packages\\requests\\mode\u001b[0m \u001b[2m              \u001b[0m\n",
       "\u001b[2;36m                    \u001b[0m         \u001b[32mls.py\"\u001b[0m, line \u001b[1;36m1021\u001b[0m, in raise_for_status                                  \u001b[2m              \u001b[0m\n",
       "\u001b[2;36m                    \u001b[0m             raise \u001b[1;35mHTTPError\u001b[0m\u001b[1m(\u001b[0mhttp_error_msg, \u001b[33mresponse\u001b[0m=\u001b[35mself\u001b[0m\u001b[1m)\u001b[0m                      \u001b[2m              \u001b[0m\n",
       "\u001b[2;36m                    \u001b[0m         requests.exceptions.HTTPError: \u001b[1;36m429\u001b[0m Client Error: Too Many Requests for  \u001b[2m              \u001b[0m\n",
       "\u001b[2;36m                    \u001b[0m         url: \u001b[4;94mhttps://fbref.com/en/comps/13/Ligue-1-Stats\u001b[0m                        \u001b[2m              \u001b[0m\n"
      ]
     },
     "metadata": {},
     "output_type": "display_data"
    },
    {
     "data": {
      "text/html": [
       "<pre style=\"white-space:pre;overflow-x:auto;line-height:normal;font-family:Menlo,'DejaVu Sans Mono',consolas,'Courier New',monospace\"><span style=\"color: #7fbfbf; text-decoration-color: #7fbfbf\">[06/16/24 16:58:19] </span><span style=\"color: #800000; text-decoration-color: #800000; font-weight: bold\">ERROR   </span> Error while scraping <span style=\"color: #0000ff; text-decoration-color: #0000ff; text-decoration: underline\">https://fbref.com/en/comps/13/Ligue-1-Stats.</span>       <a href=\"file://d:\\Users\\ksbha\\miniconda3\\envs\\srcftbl\\Lib\\site-packages\\soccerdata\\_common.py\" target=\"_blank\"><span style=\"color: #7f7f7f; text-decoration-color: #7f7f7f\">_common.py</span></a><span style=\"color: #7f7f7f; text-decoration-color: #7f7f7f\">:</span><a href=\"file://d:\\Users\\ksbha\\miniconda3\\envs\\srcftbl\\Lib\\site-packages\\soccerdata\\_common.py#545\" target=\"_blank\"><span style=\"color: #7f7f7f; text-decoration-color: #7f7f7f\">545</span></a>\n",
       "<span style=\"color: #7fbfbf; text-decoration-color: #7fbfbf\">                    </span>         Retrying<span style=\"color: #808000; text-decoration-color: #808000\">...</span> <span style=\"font-weight: bold\">(</span>attempt <span style=\"color: #008080; text-decoration-color: #008080; font-weight: bold\">2</span> of <span style=\"color: #008080; text-decoration-color: #008080; font-weight: bold\">5</span><span style=\"font-weight: bold\">)</span>.                                           <span style=\"color: #7f7f7f; text-decoration-color: #7f7f7f\">              </span>\n",
       "<span style=\"color: #7fbfbf; text-decoration-color: #7fbfbf\">                    </span>         Traceback <span style=\"font-weight: bold\">(</span>most recent call last<span style=\"font-weight: bold\">)</span>:                                      <span style=\"color: #7f7f7f; text-decoration-color: #7f7f7f\">              </span>\n",
       "<span style=\"color: #7fbfbf; text-decoration-color: #7fbfbf\">                    </span>           File                                                                  <span style=\"color: #7f7f7f; text-decoration-color: #7f7f7f\">              </span>\n",
       "<span style=\"color: #7fbfbf; text-decoration-color: #7fbfbf\">                    </span>         <span style=\"color: #008000; text-decoration-color: #008000\">\"d:\\Users\\ksbha\\miniconda3\\envs\\srcftbl\\Lib\\site-packages\\soccerdata\\_c</span> <span style=\"color: #7f7f7f; text-decoration-color: #7f7f7f\">              </span>\n",
       "<span style=\"color: #7fbfbf; text-decoration-color: #7fbfbf\">                    </span>         <span style=\"color: #008000; text-decoration-color: #008000\">ommon.py\"</span>, line <span style=\"color: #008080; text-decoration-color: #008080; font-weight: bold\">525</span>, in _download_and_save                              <span style=\"color: #7f7f7f; text-decoration-color: #7f7f7f\">              </span>\n",
       "<span style=\"color: #7fbfbf; text-decoration-color: #7fbfbf\">                    </span>             <span style=\"color: #800080; text-decoration-color: #800080; font-weight: bold\">response.raise_for_status</span><span style=\"font-weight: bold\">()</span>                                         <span style=\"color: #7f7f7f; text-decoration-color: #7f7f7f\">              </span>\n",
       "<span style=\"color: #7fbfbf; text-decoration-color: #7fbfbf\">                    </span>           File                                                                  <span style=\"color: #7f7f7f; text-decoration-color: #7f7f7f\">              </span>\n",
       "<span style=\"color: #7fbfbf; text-decoration-color: #7fbfbf\">                    </span>         <span style=\"color: #008000; text-decoration-color: #008000\">\"d:\\Users\\ksbha\\miniconda3\\envs\\srcftbl\\Lib\\site-packages\\requests\\mode</span> <span style=\"color: #7f7f7f; text-decoration-color: #7f7f7f\">              </span>\n",
       "<span style=\"color: #7fbfbf; text-decoration-color: #7fbfbf\">                    </span>         <span style=\"color: #008000; text-decoration-color: #008000\">ls.py\"</span>, line <span style=\"color: #008080; text-decoration-color: #008080; font-weight: bold\">1021</span>, in raise_for_status                                  <span style=\"color: #7f7f7f; text-decoration-color: #7f7f7f\">              </span>\n",
       "<span style=\"color: #7fbfbf; text-decoration-color: #7fbfbf\">                    </span>             raise <span style=\"color: #800080; text-decoration-color: #800080; font-weight: bold\">HTTPError</span><span style=\"font-weight: bold\">(</span>http_error_msg, <span style=\"color: #808000; text-decoration-color: #808000\">response</span>=<span style=\"color: #800080; text-decoration-color: #800080\">self</span><span style=\"font-weight: bold\">)</span>                      <span style=\"color: #7f7f7f; text-decoration-color: #7f7f7f\">              </span>\n",
       "<span style=\"color: #7fbfbf; text-decoration-color: #7fbfbf\">                    </span>         requests.exceptions.HTTPError: <span style=\"color: #008080; text-decoration-color: #008080; font-weight: bold\">429</span> Client Error: Too Many Requests for  <span style=\"color: #7f7f7f; text-decoration-color: #7f7f7f\">              </span>\n",
       "<span style=\"color: #7fbfbf; text-decoration-color: #7fbfbf\">                    </span>         url: <span style=\"color: #0000ff; text-decoration-color: #0000ff; text-decoration: underline\">https://fbref.com/en/comps/13/Ligue-1-Stats</span>                        <span style=\"color: #7f7f7f; text-decoration-color: #7f7f7f\">              </span>\n",
       "</pre>\n"
      ],
      "text/plain": [
       "\u001b[2;36m[06/16/24 16:58:19]\u001b[0m\u001b[2;36m \u001b[0m\u001b[1;31mERROR   \u001b[0m Error while scraping \u001b[4;94mhttps://fbref.com/en/comps/13/Ligue-1-Stats.\u001b[0m       \u001b]8;id=101177;file://d:\\Users\\ksbha\\miniconda3\\envs\\srcftbl\\Lib\\site-packages\\soccerdata\\_common.py\u001b\\\u001b[2m_common.py\u001b[0m\u001b]8;;\u001b\\\u001b[2m:\u001b[0m\u001b]8;id=902532;file://d:\\Users\\ksbha\\miniconda3\\envs\\srcftbl\\Lib\\site-packages\\soccerdata\\_common.py#545\u001b\\\u001b[2m545\u001b[0m\u001b]8;;\u001b\\\n",
       "\u001b[2;36m                    \u001b[0m         Retrying\u001b[33m...\u001b[0m \u001b[1m(\u001b[0mattempt \u001b[1;36m2\u001b[0m of \u001b[1;36m5\u001b[0m\u001b[1m)\u001b[0m.                                           \u001b[2m              \u001b[0m\n",
       "\u001b[2;36m                    \u001b[0m         Traceback \u001b[1m(\u001b[0mmost recent call last\u001b[1m)\u001b[0m:                                      \u001b[2m              \u001b[0m\n",
       "\u001b[2;36m                    \u001b[0m           File                                                                  \u001b[2m              \u001b[0m\n",
       "\u001b[2;36m                    \u001b[0m         \u001b[32m\"d:\\Users\\ksbha\\miniconda3\\envs\\srcftbl\\Lib\\site-packages\\soccerdata\\_c\u001b[0m \u001b[2m              \u001b[0m\n",
       "\u001b[2;36m                    \u001b[0m         \u001b[32mommon.py\"\u001b[0m, line \u001b[1;36m525\u001b[0m, in _download_and_save                              \u001b[2m              \u001b[0m\n",
       "\u001b[2;36m                    \u001b[0m             \u001b[1;35mresponse.raise_for_status\u001b[0m\u001b[1m(\u001b[0m\u001b[1m)\u001b[0m                                         \u001b[2m              \u001b[0m\n",
       "\u001b[2;36m                    \u001b[0m           File                                                                  \u001b[2m              \u001b[0m\n",
       "\u001b[2;36m                    \u001b[0m         \u001b[32m\"d:\\Users\\ksbha\\miniconda3\\envs\\srcftbl\\Lib\\site-packages\\requests\\mode\u001b[0m \u001b[2m              \u001b[0m\n",
       "\u001b[2;36m                    \u001b[0m         \u001b[32mls.py\"\u001b[0m, line \u001b[1;36m1021\u001b[0m, in raise_for_status                                  \u001b[2m              \u001b[0m\n",
       "\u001b[2;36m                    \u001b[0m             raise \u001b[1;35mHTTPError\u001b[0m\u001b[1m(\u001b[0mhttp_error_msg, \u001b[33mresponse\u001b[0m=\u001b[35mself\u001b[0m\u001b[1m)\u001b[0m                      \u001b[2m              \u001b[0m\n",
       "\u001b[2;36m                    \u001b[0m         requests.exceptions.HTTPError: \u001b[1;36m429\u001b[0m Client Error: Too Many Requests for  \u001b[2m              \u001b[0m\n",
       "\u001b[2;36m                    \u001b[0m         url: \u001b[4;94mhttps://fbref.com/en/comps/13/Ligue-1-Stats\u001b[0m                        \u001b[2m              \u001b[0m\n"
      ]
     },
     "metadata": {},
     "output_type": "display_data"
    },
    {
     "data": {
      "text/html": [
       "<pre style=\"white-space:pre;overflow-x:auto;line-height:normal;font-family:Menlo,'DejaVu Sans Mono',consolas,'Courier New',monospace\"><span style=\"color: #7fbfbf; text-decoration-color: #7fbfbf\">[06/16/24 16:58:22] </span><span style=\"color: #800000; text-decoration-color: #800000; font-weight: bold\">ERROR   </span> Error while scraping <span style=\"color: #0000ff; text-decoration-color: #0000ff; text-decoration: underline\">https://fbref.com/en/comps/13/Ligue-1-Stats.</span>       <a href=\"file://d:\\Users\\ksbha\\miniconda3\\envs\\srcftbl\\Lib\\site-packages\\soccerdata\\_common.py\" target=\"_blank\"><span style=\"color: #7f7f7f; text-decoration-color: #7f7f7f\">_common.py</span></a><span style=\"color: #7f7f7f; text-decoration-color: #7f7f7f\">:</span><a href=\"file://d:\\Users\\ksbha\\miniconda3\\envs\\srcftbl\\Lib\\site-packages\\soccerdata\\_common.py#545\" target=\"_blank\"><span style=\"color: #7f7f7f; text-decoration-color: #7f7f7f\">545</span></a>\n",
       "<span style=\"color: #7fbfbf; text-decoration-color: #7fbfbf\">                    </span>         Retrying<span style=\"color: #808000; text-decoration-color: #808000\">...</span> <span style=\"font-weight: bold\">(</span>attempt <span style=\"color: #008080; text-decoration-color: #008080; font-weight: bold\">3</span> of <span style=\"color: #008080; text-decoration-color: #008080; font-weight: bold\">5</span><span style=\"font-weight: bold\">)</span>.                                           <span style=\"color: #7f7f7f; text-decoration-color: #7f7f7f\">              </span>\n",
       "<span style=\"color: #7fbfbf; text-decoration-color: #7fbfbf\">                    </span>         Traceback <span style=\"font-weight: bold\">(</span>most recent call last<span style=\"font-weight: bold\">)</span>:                                      <span style=\"color: #7f7f7f; text-decoration-color: #7f7f7f\">              </span>\n",
       "<span style=\"color: #7fbfbf; text-decoration-color: #7fbfbf\">                    </span>           File                                                                  <span style=\"color: #7f7f7f; text-decoration-color: #7f7f7f\">              </span>\n",
       "<span style=\"color: #7fbfbf; text-decoration-color: #7fbfbf\">                    </span>         <span style=\"color: #008000; text-decoration-color: #008000\">\"d:\\Users\\ksbha\\miniconda3\\envs\\srcftbl\\Lib\\site-packages\\soccerdata\\_c</span> <span style=\"color: #7f7f7f; text-decoration-color: #7f7f7f\">              </span>\n",
       "<span style=\"color: #7fbfbf; text-decoration-color: #7fbfbf\">                    </span>         <span style=\"color: #008000; text-decoration-color: #008000\">ommon.py\"</span>, line <span style=\"color: #008080; text-decoration-color: #008080; font-weight: bold\">525</span>, in _download_and_save                              <span style=\"color: #7f7f7f; text-decoration-color: #7f7f7f\">              </span>\n",
       "<span style=\"color: #7fbfbf; text-decoration-color: #7fbfbf\">                    </span>             <span style=\"color: #800080; text-decoration-color: #800080; font-weight: bold\">response.raise_for_status</span><span style=\"font-weight: bold\">()</span>                                         <span style=\"color: #7f7f7f; text-decoration-color: #7f7f7f\">              </span>\n",
       "<span style=\"color: #7fbfbf; text-decoration-color: #7fbfbf\">                    </span>           File                                                                  <span style=\"color: #7f7f7f; text-decoration-color: #7f7f7f\">              </span>\n",
       "<span style=\"color: #7fbfbf; text-decoration-color: #7fbfbf\">                    </span>         <span style=\"color: #008000; text-decoration-color: #008000\">\"d:\\Users\\ksbha\\miniconda3\\envs\\srcftbl\\Lib\\site-packages\\requests\\mode</span> <span style=\"color: #7f7f7f; text-decoration-color: #7f7f7f\">              </span>\n",
       "<span style=\"color: #7fbfbf; text-decoration-color: #7fbfbf\">                    </span>         <span style=\"color: #008000; text-decoration-color: #008000\">ls.py\"</span>, line <span style=\"color: #008080; text-decoration-color: #008080; font-weight: bold\">1021</span>, in raise_for_status                                  <span style=\"color: #7f7f7f; text-decoration-color: #7f7f7f\">              </span>\n",
       "<span style=\"color: #7fbfbf; text-decoration-color: #7fbfbf\">                    </span>             raise <span style=\"color: #800080; text-decoration-color: #800080; font-weight: bold\">HTTPError</span><span style=\"font-weight: bold\">(</span>http_error_msg, <span style=\"color: #808000; text-decoration-color: #808000\">response</span>=<span style=\"color: #800080; text-decoration-color: #800080\">self</span><span style=\"font-weight: bold\">)</span>                      <span style=\"color: #7f7f7f; text-decoration-color: #7f7f7f\">              </span>\n",
       "<span style=\"color: #7fbfbf; text-decoration-color: #7fbfbf\">                    </span>         requests.exceptions.HTTPError: <span style=\"color: #008080; text-decoration-color: #008080; font-weight: bold\">429</span> Client Error: Too Many Requests for  <span style=\"color: #7f7f7f; text-decoration-color: #7f7f7f\">              </span>\n",
       "<span style=\"color: #7fbfbf; text-decoration-color: #7fbfbf\">                    </span>         url: <span style=\"color: #0000ff; text-decoration-color: #0000ff; text-decoration: underline\">https://fbref.com/en/comps/13/Ligue-1-Stats</span>                        <span style=\"color: #7f7f7f; text-decoration-color: #7f7f7f\">              </span>\n",
       "</pre>\n"
      ],
      "text/plain": [
       "\u001b[2;36m[06/16/24 16:58:22]\u001b[0m\u001b[2;36m \u001b[0m\u001b[1;31mERROR   \u001b[0m Error while scraping \u001b[4;94mhttps://fbref.com/en/comps/13/Ligue-1-Stats.\u001b[0m       \u001b]8;id=352985;file://d:\\Users\\ksbha\\miniconda3\\envs\\srcftbl\\Lib\\site-packages\\soccerdata\\_common.py\u001b\\\u001b[2m_common.py\u001b[0m\u001b]8;;\u001b\\\u001b[2m:\u001b[0m\u001b]8;id=375611;file://d:\\Users\\ksbha\\miniconda3\\envs\\srcftbl\\Lib\\site-packages\\soccerdata\\_common.py#545\u001b\\\u001b[2m545\u001b[0m\u001b]8;;\u001b\\\n",
       "\u001b[2;36m                    \u001b[0m         Retrying\u001b[33m...\u001b[0m \u001b[1m(\u001b[0mattempt \u001b[1;36m3\u001b[0m of \u001b[1;36m5\u001b[0m\u001b[1m)\u001b[0m.                                           \u001b[2m              \u001b[0m\n",
       "\u001b[2;36m                    \u001b[0m         Traceback \u001b[1m(\u001b[0mmost recent call last\u001b[1m)\u001b[0m:                                      \u001b[2m              \u001b[0m\n",
       "\u001b[2;36m                    \u001b[0m           File                                                                  \u001b[2m              \u001b[0m\n",
       "\u001b[2;36m                    \u001b[0m         \u001b[32m\"d:\\Users\\ksbha\\miniconda3\\envs\\srcftbl\\Lib\\site-packages\\soccerdata\\_c\u001b[0m \u001b[2m              \u001b[0m\n",
       "\u001b[2;36m                    \u001b[0m         \u001b[32mommon.py\"\u001b[0m, line \u001b[1;36m525\u001b[0m, in _download_and_save                              \u001b[2m              \u001b[0m\n",
       "\u001b[2;36m                    \u001b[0m             \u001b[1;35mresponse.raise_for_status\u001b[0m\u001b[1m(\u001b[0m\u001b[1m)\u001b[0m                                         \u001b[2m              \u001b[0m\n",
       "\u001b[2;36m                    \u001b[0m           File                                                                  \u001b[2m              \u001b[0m\n",
       "\u001b[2;36m                    \u001b[0m         \u001b[32m\"d:\\Users\\ksbha\\miniconda3\\envs\\srcftbl\\Lib\\site-packages\\requests\\mode\u001b[0m \u001b[2m              \u001b[0m\n",
       "\u001b[2;36m                    \u001b[0m         \u001b[32mls.py\"\u001b[0m, line \u001b[1;36m1021\u001b[0m, in raise_for_status                                  \u001b[2m              \u001b[0m\n",
       "\u001b[2;36m                    \u001b[0m             raise \u001b[1;35mHTTPError\u001b[0m\u001b[1m(\u001b[0mhttp_error_msg, \u001b[33mresponse\u001b[0m=\u001b[35mself\u001b[0m\u001b[1m)\u001b[0m                      \u001b[2m              \u001b[0m\n",
       "\u001b[2;36m                    \u001b[0m         requests.exceptions.HTTPError: \u001b[1;36m429\u001b[0m Client Error: Too Many Requests for  \u001b[2m              \u001b[0m\n",
       "\u001b[2;36m                    \u001b[0m         url: \u001b[4;94mhttps://fbref.com/en/comps/13/Ligue-1-Stats\u001b[0m                        \u001b[2m              \u001b[0m\n"
      ]
     },
     "metadata": {},
     "output_type": "display_data"
    },
    {
     "data": {
      "text/html": [
       "<pre style=\"white-space:pre;overflow-x:auto;line-height:normal;font-family:Menlo,'DejaVu Sans Mono',consolas,'Courier New',monospace\"><span style=\"color: #7fbfbf; text-decoration-color: #7fbfbf\">[06/16/24 16:58:26] </span><span style=\"color: #800000; text-decoration-color: #800000; font-weight: bold\">ERROR   </span> Error while scraping <span style=\"color: #0000ff; text-decoration-color: #0000ff; text-decoration: underline\">https://fbref.com/en/comps/13/Ligue-1-Stats.</span>       <a href=\"file://d:\\Users\\ksbha\\miniconda3\\envs\\srcftbl\\Lib\\site-packages\\soccerdata\\_common.py\" target=\"_blank\"><span style=\"color: #7f7f7f; text-decoration-color: #7f7f7f\">_common.py</span></a><span style=\"color: #7f7f7f; text-decoration-color: #7f7f7f\">:</span><a href=\"file://d:\\Users\\ksbha\\miniconda3\\envs\\srcftbl\\Lib\\site-packages\\soccerdata\\_common.py#545\" target=\"_blank\"><span style=\"color: #7f7f7f; text-decoration-color: #7f7f7f\">545</span></a>\n",
       "<span style=\"color: #7fbfbf; text-decoration-color: #7fbfbf\">                    </span>         Retrying<span style=\"color: #808000; text-decoration-color: #808000\">...</span> <span style=\"font-weight: bold\">(</span>attempt <span style=\"color: #008080; text-decoration-color: #008080; font-weight: bold\">4</span> of <span style=\"color: #008080; text-decoration-color: #008080; font-weight: bold\">5</span><span style=\"font-weight: bold\">)</span>.                                           <span style=\"color: #7f7f7f; text-decoration-color: #7f7f7f\">              </span>\n",
       "<span style=\"color: #7fbfbf; text-decoration-color: #7fbfbf\">                    </span>         Traceback <span style=\"font-weight: bold\">(</span>most recent call last<span style=\"font-weight: bold\">)</span>:                                      <span style=\"color: #7f7f7f; text-decoration-color: #7f7f7f\">              </span>\n",
       "<span style=\"color: #7fbfbf; text-decoration-color: #7fbfbf\">                    </span>           File                                                                  <span style=\"color: #7f7f7f; text-decoration-color: #7f7f7f\">              </span>\n",
       "<span style=\"color: #7fbfbf; text-decoration-color: #7fbfbf\">                    </span>         <span style=\"color: #008000; text-decoration-color: #008000\">\"d:\\Users\\ksbha\\miniconda3\\envs\\srcftbl\\Lib\\site-packages\\soccerdata\\_c</span> <span style=\"color: #7f7f7f; text-decoration-color: #7f7f7f\">              </span>\n",
       "<span style=\"color: #7fbfbf; text-decoration-color: #7fbfbf\">                    </span>         <span style=\"color: #008000; text-decoration-color: #008000\">ommon.py\"</span>, line <span style=\"color: #008080; text-decoration-color: #008080; font-weight: bold\">525</span>, in _download_and_save                              <span style=\"color: #7f7f7f; text-decoration-color: #7f7f7f\">              </span>\n",
       "<span style=\"color: #7fbfbf; text-decoration-color: #7fbfbf\">                    </span>             <span style=\"color: #800080; text-decoration-color: #800080; font-weight: bold\">response.raise_for_status</span><span style=\"font-weight: bold\">()</span>                                         <span style=\"color: #7f7f7f; text-decoration-color: #7f7f7f\">              </span>\n",
       "<span style=\"color: #7fbfbf; text-decoration-color: #7fbfbf\">                    </span>           File                                                                  <span style=\"color: #7f7f7f; text-decoration-color: #7f7f7f\">              </span>\n",
       "<span style=\"color: #7fbfbf; text-decoration-color: #7fbfbf\">                    </span>         <span style=\"color: #008000; text-decoration-color: #008000\">\"d:\\Users\\ksbha\\miniconda3\\envs\\srcftbl\\Lib\\site-packages\\requests\\mode</span> <span style=\"color: #7f7f7f; text-decoration-color: #7f7f7f\">              </span>\n",
       "<span style=\"color: #7fbfbf; text-decoration-color: #7fbfbf\">                    </span>         <span style=\"color: #008000; text-decoration-color: #008000\">ls.py\"</span>, line <span style=\"color: #008080; text-decoration-color: #008080; font-weight: bold\">1021</span>, in raise_for_status                                  <span style=\"color: #7f7f7f; text-decoration-color: #7f7f7f\">              </span>\n",
       "<span style=\"color: #7fbfbf; text-decoration-color: #7fbfbf\">                    </span>             raise <span style=\"color: #800080; text-decoration-color: #800080; font-weight: bold\">HTTPError</span><span style=\"font-weight: bold\">(</span>http_error_msg, <span style=\"color: #808000; text-decoration-color: #808000\">response</span>=<span style=\"color: #800080; text-decoration-color: #800080\">self</span><span style=\"font-weight: bold\">)</span>                      <span style=\"color: #7f7f7f; text-decoration-color: #7f7f7f\">              </span>\n",
       "<span style=\"color: #7fbfbf; text-decoration-color: #7fbfbf\">                    </span>         requests.exceptions.HTTPError: <span style=\"color: #008080; text-decoration-color: #008080; font-weight: bold\">429</span> Client Error: Too Many Requests for  <span style=\"color: #7f7f7f; text-decoration-color: #7f7f7f\">              </span>\n",
       "<span style=\"color: #7fbfbf; text-decoration-color: #7fbfbf\">                    </span>         url: <span style=\"color: #0000ff; text-decoration-color: #0000ff; text-decoration: underline\">https://fbref.com/en/comps/13/Ligue-1-Stats</span>                        <span style=\"color: #7f7f7f; text-decoration-color: #7f7f7f\">              </span>\n",
       "</pre>\n"
      ],
      "text/plain": [
       "\u001b[2;36m[06/16/24 16:58:26]\u001b[0m\u001b[2;36m \u001b[0m\u001b[1;31mERROR   \u001b[0m Error while scraping \u001b[4;94mhttps://fbref.com/en/comps/13/Ligue-1-Stats.\u001b[0m       \u001b]8;id=551659;file://d:\\Users\\ksbha\\miniconda3\\envs\\srcftbl\\Lib\\site-packages\\soccerdata\\_common.py\u001b\\\u001b[2m_common.py\u001b[0m\u001b]8;;\u001b\\\u001b[2m:\u001b[0m\u001b]8;id=86690;file://d:\\Users\\ksbha\\miniconda3\\envs\\srcftbl\\Lib\\site-packages\\soccerdata\\_common.py#545\u001b\\\u001b[2m545\u001b[0m\u001b]8;;\u001b\\\n",
       "\u001b[2;36m                    \u001b[0m         Retrying\u001b[33m...\u001b[0m \u001b[1m(\u001b[0mattempt \u001b[1;36m4\u001b[0m of \u001b[1;36m5\u001b[0m\u001b[1m)\u001b[0m.                                           \u001b[2m              \u001b[0m\n",
       "\u001b[2;36m                    \u001b[0m         Traceback \u001b[1m(\u001b[0mmost recent call last\u001b[1m)\u001b[0m:                                      \u001b[2m              \u001b[0m\n",
       "\u001b[2;36m                    \u001b[0m           File                                                                  \u001b[2m              \u001b[0m\n",
       "\u001b[2;36m                    \u001b[0m         \u001b[32m\"d:\\Users\\ksbha\\miniconda3\\envs\\srcftbl\\Lib\\site-packages\\soccerdata\\_c\u001b[0m \u001b[2m              \u001b[0m\n",
       "\u001b[2;36m                    \u001b[0m         \u001b[32mommon.py\"\u001b[0m, line \u001b[1;36m525\u001b[0m, in _download_and_save                              \u001b[2m              \u001b[0m\n",
       "\u001b[2;36m                    \u001b[0m             \u001b[1;35mresponse.raise_for_status\u001b[0m\u001b[1m(\u001b[0m\u001b[1m)\u001b[0m                                         \u001b[2m              \u001b[0m\n",
       "\u001b[2;36m                    \u001b[0m           File                                                                  \u001b[2m              \u001b[0m\n",
       "\u001b[2;36m                    \u001b[0m         \u001b[32m\"d:\\Users\\ksbha\\miniconda3\\envs\\srcftbl\\Lib\\site-packages\\requests\\mode\u001b[0m \u001b[2m              \u001b[0m\n",
       "\u001b[2;36m                    \u001b[0m         \u001b[32mls.py\"\u001b[0m, line \u001b[1;36m1021\u001b[0m, in raise_for_status                                  \u001b[2m              \u001b[0m\n",
       "\u001b[2;36m                    \u001b[0m             raise \u001b[1;35mHTTPError\u001b[0m\u001b[1m(\u001b[0mhttp_error_msg, \u001b[33mresponse\u001b[0m=\u001b[35mself\u001b[0m\u001b[1m)\u001b[0m                      \u001b[2m              \u001b[0m\n",
       "\u001b[2;36m                    \u001b[0m         requests.exceptions.HTTPError: \u001b[1;36m429\u001b[0m Client Error: Too Many Requests for  \u001b[2m              \u001b[0m\n",
       "\u001b[2;36m                    \u001b[0m         url: \u001b[4;94mhttps://fbref.com/en/comps/13/Ligue-1-Stats\u001b[0m                        \u001b[2m              \u001b[0m\n"
      ]
     },
     "metadata": {},
     "output_type": "display_data"
    },
    {
     "data": {
      "text/html": [
       "<pre style=\"white-space:pre;overflow-x:auto;line-height:normal;font-family:Menlo,'DejaVu Sans Mono',consolas,'Courier New',monospace\"><span style=\"color: #7fbfbf; text-decoration-color: #7fbfbf\">[06/16/24 16:58:29] </span><span style=\"color: #800000; text-decoration-color: #800000; font-weight: bold\">ERROR   </span> Error while scraping <span style=\"color: #0000ff; text-decoration-color: #0000ff; text-decoration: underline\">https://fbref.com/en/comps/13/Ligue-1-Stats.</span>       <a href=\"file://d:\\Users\\ksbha\\miniconda3\\envs\\srcftbl\\Lib\\site-packages\\soccerdata\\_common.py\" target=\"_blank\"><span style=\"color: #7f7f7f; text-decoration-color: #7f7f7f\">_common.py</span></a><span style=\"color: #7f7f7f; text-decoration-color: #7f7f7f\">:</span><a href=\"file://d:\\Users\\ksbha\\miniconda3\\envs\\srcftbl\\Lib\\site-packages\\soccerdata\\_common.py#545\" target=\"_blank\"><span style=\"color: #7f7f7f; text-decoration-color: #7f7f7f\">545</span></a>\n",
       "<span style=\"color: #7fbfbf; text-decoration-color: #7fbfbf\">                    </span>         Retrying<span style=\"color: #808000; text-decoration-color: #808000\">...</span> <span style=\"font-weight: bold\">(</span>attempt <span style=\"color: #008080; text-decoration-color: #008080; font-weight: bold\">5</span> of <span style=\"color: #008080; text-decoration-color: #008080; font-weight: bold\">5</span><span style=\"font-weight: bold\">)</span>.                                           <span style=\"color: #7f7f7f; text-decoration-color: #7f7f7f\">              </span>\n",
       "<span style=\"color: #7fbfbf; text-decoration-color: #7fbfbf\">                    </span>         Traceback <span style=\"font-weight: bold\">(</span>most recent call last<span style=\"font-weight: bold\">)</span>:                                      <span style=\"color: #7f7f7f; text-decoration-color: #7f7f7f\">              </span>\n",
       "<span style=\"color: #7fbfbf; text-decoration-color: #7fbfbf\">                    </span>           File                                                                  <span style=\"color: #7f7f7f; text-decoration-color: #7f7f7f\">              </span>\n",
       "<span style=\"color: #7fbfbf; text-decoration-color: #7fbfbf\">                    </span>         <span style=\"color: #008000; text-decoration-color: #008000\">\"d:\\Users\\ksbha\\miniconda3\\envs\\srcftbl\\Lib\\site-packages\\soccerdata\\_c</span> <span style=\"color: #7f7f7f; text-decoration-color: #7f7f7f\">              </span>\n",
       "<span style=\"color: #7fbfbf; text-decoration-color: #7fbfbf\">                    </span>         <span style=\"color: #008000; text-decoration-color: #008000\">ommon.py\"</span>, line <span style=\"color: #008080; text-decoration-color: #008080; font-weight: bold\">525</span>, in _download_and_save                              <span style=\"color: #7f7f7f; text-decoration-color: #7f7f7f\">              </span>\n",
       "<span style=\"color: #7fbfbf; text-decoration-color: #7fbfbf\">                    </span>             <span style=\"color: #800080; text-decoration-color: #800080; font-weight: bold\">response.raise_for_status</span><span style=\"font-weight: bold\">()</span>                                         <span style=\"color: #7f7f7f; text-decoration-color: #7f7f7f\">              </span>\n",
       "<span style=\"color: #7fbfbf; text-decoration-color: #7fbfbf\">                    </span>           File                                                                  <span style=\"color: #7f7f7f; text-decoration-color: #7f7f7f\">              </span>\n",
       "<span style=\"color: #7fbfbf; text-decoration-color: #7fbfbf\">                    </span>         <span style=\"color: #008000; text-decoration-color: #008000\">\"d:\\Users\\ksbha\\miniconda3\\envs\\srcftbl\\Lib\\site-packages\\requests\\mode</span> <span style=\"color: #7f7f7f; text-decoration-color: #7f7f7f\">              </span>\n",
       "<span style=\"color: #7fbfbf; text-decoration-color: #7fbfbf\">                    </span>         <span style=\"color: #008000; text-decoration-color: #008000\">ls.py\"</span>, line <span style=\"color: #008080; text-decoration-color: #008080; font-weight: bold\">1021</span>, in raise_for_status                                  <span style=\"color: #7f7f7f; text-decoration-color: #7f7f7f\">              </span>\n",
       "<span style=\"color: #7fbfbf; text-decoration-color: #7fbfbf\">                    </span>             raise <span style=\"color: #800080; text-decoration-color: #800080; font-weight: bold\">HTTPError</span><span style=\"font-weight: bold\">(</span>http_error_msg, <span style=\"color: #808000; text-decoration-color: #808000\">response</span>=<span style=\"color: #800080; text-decoration-color: #800080\">self</span><span style=\"font-weight: bold\">)</span>                      <span style=\"color: #7f7f7f; text-decoration-color: #7f7f7f\">              </span>\n",
       "<span style=\"color: #7fbfbf; text-decoration-color: #7fbfbf\">                    </span>         requests.exceptions.HTTPError: <span style=\"color: #008080; text-decoration-color: #008080; font-weight: bold\">429</span> Client Error: Too Many Requests for  <span style=\"color: #7f7f7f; text-decoration-color: #7f7f7f\">              </span>\n",
       "<span style=\"color: #7fbfbf; text-decoration-color: #7fbfbf\">                    </span>         url: <span style=\"color: #0000ff; text-decoration-color: #0000ff; text-decoration: underline\">https://fbref.com/en/comps/13/Ligue-1-Stats</span>                        <span style=\"color: #7f7f7f; text-decoration-color: #7f7f7f\">              </span>\n",
       "</pre>\n"
      ],
      "text/plain": [
       "\u001b[2;36m[06/16/24 16:58:29]\u001b[0m\u001b[2;36m \u001b[0m\u001b[1;31mERROR   \u001b[0m Error while scraping \u001b[4;94mhttps://fbref.com/en/comps/13/Ligue-1-Stats.\u001b[0m       \u001b]8;id=339526;file://d:\\Users\\ksbha\\miniconda3\\envs\\srcftbl\\Lib\\site-packages\\soccerdata\\_common.py\u001b\\\u001b[2m_common.py\u001b[0m\u001b]8;;\u001b\\\u001b[2m:\u001b[0m\u001b]8;id=107651;file://d:\\Users\\ksbha\\miniconda3\\envs\\srcftbl\\Lib\\site-packages\\soccerdata\\_common.py#545\u001b\\\u001b[2m545\u001b[0m\u001b]8;;\u001b\\\n",
       "\u001b[2;36m                    \u001b[0m         Retrying\u001b[33m...\u001b[0m \u001b[1m(\u001b[0mattempt \u001b[1;36m5\u001b[0m of \u001b[1;36m5\u001b[0m\u001b[1m)\u001b[0m.                                           \u001b[2m              \u001b[0m\n",
       "\u001b[2;36m                    \u001b[0m         Traceback \u001b[1m(\u001b[0mmost recent call last\u001b[1m)\u001b[0m:                                      \u001b[2m              \u001b[0m\n",
       "\u001b[2;36m                    \u001b[0m           File                                                                  \u001b[2m              \u001b[0m\n",
       "\u001b[2;36m                    \u001b[0m         \u001b[32m\"d:\\Users\\ksbha\\miniconda3\\envs\\srcftbl\\Lib\\site-packages\\soccerdata\\_c\u001b[0m \u001b[2m              \u001b[0m\n",
       "\u001b[2;36m                    \u001b[0m         \u001b[32mommon.py\"\u001b[0m, line \u001b[1;36m525\u001b[0m, in _download_and_save                              \u001b[2m              \u001b[0m\n",
       "\u001b[2;36m                    \u001b[0m             \u001b[1;35mresponse.raise_for_status\u001b[0m\u001b[1m(\u001b[0m\u001b[1m)\u001b[0m                                         \u001b[2m              \u001b[0m\n",
       "\u001b[2;36m                    \u001b[0m           File                                                                  \u001b[2m              \u001b[0m\n",
       "\u001b[2;36m                    \u001b[0m         \u001b[32m\"d:\\Users\\ksbha\\miniconda3\\envs\\srcftbl\\Lib\\site-packages\\requests\\mode\u001b[0m \u001b[2m              \u001b[0m\n",
       "\u001b[2;36m                    \u001b[0m         \u001b[32mls.py\"\u001b[0m, line \u001b[1;36m1021\u001b[0m, in raise_for_status                                  \u001b[2m              \u001b[0m\n",
       "\u001b[2;36m                    \u001b[0m             raise \u001b[1;35mHTTPError\u001b[0m\u001b[1m(\u001b[0mhttp_error_msg, \u001b[33mresponse\u001b[0m=\u001b[35mself\u001b[0m\u001b[1m)\u001b[0m                      \u001b[2m              \u001b[0m\n",
       "\u001b[2;36m                    \u001b[0m         requests.exceptions.HTTPError: \u001b[1;36m429\u001b[0m Client Error: Too Many Requests for  \u001b[2m              \u001b[0m\n",
       "\u001b[2;36m                    \u001b[0m         url: \u001b[4;94mhttps://fbref.com/en/comps/13/Ligue-1-Stats\u001b[0m                        \u001b[2m              \u001b[0m\n"
      ]
     },
     "metadata": {},
     "output_type": "display_data"
    },
    {
     "ename": "ConnectionError",
     "evalue": "Could not download https://fbref.com/en/comps/13/Ligue-1-Stats.",
     "output_type": "error",
     "traceback": [
      "\u001b[1;31m---------------------------------------------------------------------------\u001b[0m",
      "\u001b[1;31mConnectionError\u001b[0m                           Traceback (most recent call last)",
      "Cell \u001b[1;32mIn[10], line 5\u001b[0m\n\u001b[0;32m      3\u001b[0m \u001b[38;5;66;03m# fbref = sd.FBref(leagues=[\"FRA-Ligue 1\"], seasons=[\"2324\"], no_cache=True)\u001b[39;00m\n\u001b[0;32m      4\u001b[0m fbref_team_standard \u001b[38;5;241m=\u001b[39m fbref\u001b[38;5;241m.\u001b[39mread_team_season_stats(stat_type\u001b[38;5;241m=\u001b[39m\u001b[38;5;124m'\u001b[39m\u001b[38;5;124mstandard\u001b[39m\u001b[38;5;124m'\u001b[39m)\n\u001b[1;32m----> 5\u001b[0m fbref_team_standard_oppo \u001b[38;5;241m=\u001b[39m \u001b[43mfbref\u001b[49m\u001b[38;5;241;43m.\u001b[39;49m\u001b[43mread_team_season_stats\u001b[49m\u001b[43m(\u001b[49m\u001b[43mstat_type\u001b[49m\u001b[38;5;241;43m=\u001b[39;49m\u001b[38;5;124;43m'\u001b[39;49m\u001b[38;5;124;43mstandard\u001b[39;49m\u001b[38;5;124;43m'\u001b[39;49m\u001b[43m,\u001b[49m\u001b[43m \u001b[49m\u001b[43mopponent_stats\u001b[49m\u001b[38;5;241;43m=\u001b[39;49m\u001b[38;5;28;43;01mTrue\u001b[39;49;00m\u001b[43m)\u001b[49m\n\u001b[0;32m      6\u001b[0m fbref_team_shooting \u001b[38;5;241m=\u001b[39m fbref\u001b[38;5;241m.\u001b[39mread_team_season_stats(stat_type\u001b[38;5;241m=\u001b[39m\u001b[38;5;124m'\u001b[39m\u001b[38;5;124mshooting\u001b[39m\u001b[38;5;124m'\u001b[39m)\n\u001b[0;32m      7\u001b[0m fbref_team_shooting_oppo \u001b[38;5;241m=\u001b[39m fbref\u001b[38;5;241m.\u001b[39mread_team_season_stats(stat_type\u001b[38;5;241m=\u001b[39m\u001b[38;5;124m'\u001b[39m\u001b[38;5;124mshooting\u001b[39m\u001b[38;5;124m'\u001b[39m, opponent_stats\u001b[38;5;241m=\u001b[39m\u001b[38;5;28;01mTrue\u001b[39;00m)\n",
      "File \u001b[1;32md:\\Users\\ksbha\\miniconda3\\envs\\srcftbl\\Lib\\site-packages\\soccerdata\\fbref.py:315\u001b[0m, in \u001b[0;36mFBref.read_team_season_stats\u001b[1;34m(self, stat_type, opponent_stats)\u001b[0m\n\u001b[0;32m    308\u001b[0m filepath \u001b[38;5;241m=\u001b[39m \u001b[38;5;28mself\u001b[39m\u001b[38;5;241m.\u001b[39mdata_dir \u001b[38;5;241m/\u001b[39m filemask\u001b[38;5;241m.\u001b[39mformat(lkey, skey, stat_type \u001b[38;5;28;01mif\u001b[39;00m big_five \u001b[38;5;28;01melse\u001b[39;00m page)\n\u001b[0;32m    309\u001b[0m url \u001b[38;5;241m=\u001b[39m (\n\u001b[0;32m    310\u001b[0m     FBREF_API\n\u001b[0;32m    311\u001b[0m     \u001b[38;5;241m+\u001b[39m \u001b[38;5;124m\"\u001b[39m\u001b[38;5;124m/\u001b[39m\u001b[38;5;124m\"\u001b[39m\u001b[38;5;241m.\u001b[39mjoin(season\u001b[38;5;241m.\u001b[39murl\u001b[38;5;241m.\u001b[39msplit(\u001b[38;5;124m\"\u001b[39m\u001b[38;5;124m/\u001b[39m\u001b[38;5;124m\"\u001b[39m)[:\u001b[38;5;241m-\u001b[39m\u001b[38;5;241m1\u001b[39m])\n\u001b[0;32m    312\u001b[0m     \u001b[38;5;241m+\u001b[39m (\u001b[38;5;124mf\u001b[39m\u001b[38;5;124m\"\u001b[39m\u001b[38;5;124m/\u001b[39m\u001b[38;5;132;01m{\u001b[39;00mpage\u001b[38;5;132;01m}\u001b[39;00m\u001b[38;5;124m/squads/\u001b[39m\u001b[38;5;124m\"\u001b[39m \u001b[38;5;28;01mif\u001b[39;00m big_five \u001b[38;5;28;01melse\u001b[39;00m \u001b[38;5;124mf\u001b[39m\u001b[38;5;124m\"\u001b[39m\u001b[38;5;124m/\u001b[39m\u001b[38;5;132;01m{\u001b[39;00mpage\u001b[38;5;132;01m}\u001b[39;00m\u001b[38;5;124m/\u001b[39m\u001b[38;5;124m\"\u001b[39m \u001b[38;5;28;01mif\u001b[39;00m tournament \u001b[38;5;28;01melse\u001b[39;00m \u001b[38;5;124m\"\u001b[39m\u001b[38;5;124m/\u001b[39m\u001b[38;5;124m\"\u001b[39m)\n\u001b[0;32m    313\u001b[0m     \u001b[38;5;241m+\u001b[39m season\u001b[38;5;241m.\u001b[39murl\u001b[38;5;241m.\u001b[39msplit(\u001b[38;5;124m\"\u001b[39m\u001b[38;5;124m/\u001b[39m\u001b[38;5;124m\"\u001b[39m)[\u001b[38;5;241m-\u001b[39m\u001b[38;5;241m1\u001b[39m]\n\u001b[0;32m    314\u001b[0m )\n\u001b[1;32m--> 315\u001b[0m reader \u001b[38;5;241m=\u001b[39m \u001b[38;5;28;43mself\u001b[39;49m\u001b[38;5;241;43m.\u001b[39;49m\u001b[43mget\u001b[49m\u001b[43m(\u001b[49m\u001b[43murl\u001b[49m\u001b[43m,\u001b[49m\u001b[43m \u001b[49m\u001b[43mfilepath\u001b[49m\u001b[43m)\u001b[49m\n\u001b[0;32m    317\u001b[0m \u001b[38;5;66;03m# parse HTML and select table\u001b[39;00m\n\u001b[0;32m    318\u001b[0m tree \u001b[38;5;241m=\u001b[39m html\u001b[38;5;241m.\u001b[39mparse(reader)\n",
      "File \u001b[1;32md:\\Users\\ksbha\\miniconda3\\envs\\srcftbl\\Lib\\site-packages\\soccerdata\\_common.py:306\u001b[0m, in \u001b[0;36mBaseReader.get\u001b[1;34m(self, url, filepath, max_age, no_cache, var)\u001b[0m\n\u001b[0;32m    304\u001b[0m \u001b[38;5;28;01mif\u001b[39;00m no_cache \u001b[38;5;129;01mor\u001b[39;00m \u001b[38;5;28mself\u001b[39m\u001b[38;5;241m.\u001b[39mno_cache \u001b[38;5;129;01mor\u001b[39;00m \u001b[38;5;129;01mnot\u001b[39;00m is_cached:\n\u001b[0;32m    305\u001b[0m     logger\u001b[38;5;241m.\u001b[39mdebug(\u001b[38;5;124m\"\u001b[39m\u001b[38;5;124mScraping \u001b[39m\u001b[38;5;132;01m%s\u001b[39;00m\u001b[38;5;124m\"\u001b[39m, url)\n\u001b[1;32m--> 306\u001b[0m     \u001b[38;5;28;01mreturn\u001b[39;00m \u001b[38;5;28;43mself\u001b[39;49m\u001b[38;5;241;43m.\u001b[39;49m\u001b[43m_download_and_save\u001b[49m\u001b[43m(\u001b[49m\u001b[43murl\u001b[49m\u001b[43m,\u001b[49m\u001b[43m \u001b[49m\u001b[43mfilepath\u001b[49m\u001b[43m,\u001b[49m\u001b[43m \u001b[49m\u001b[43mvar\u001b[49m\u001b[43m)\u001b[49m\n\u001b[0;32m    307\u001b[0m logger\u001b[38;5;241m.\u001b[39mdebug(\u001b[38;5;124m\"\u001b[39m\u001b[38;5;124mRetrieving \u001b[39m\u001b[38;5;132;01m%s\u001b[39;00m\u001b[38;5;124m from cache\u001b[39m\u001b[38;5;124m\"\u001b[39m, url)\n\u001b[0;32m    308\u001b[0m \u001b[38;5;28;01mif\u001b[39;00m filepath \u001b[38;5;129;01mis\u001b[39;00m \u001b[38;5;28;01mNone\u001b[39;00m:\n",
      "File \u001b[1;32md:\\Users\\ksbha\\miniconda3\\envs\\srcftbl\\Lib\\site-packages\\soccerdata\\_common.py:553\u001b[0m, in \u001b[0;36mBaseRequestsReader._download_and_save\u001b[1;34m(self, url, filepath, var)\u001b[0m\n\u001b[0;32m    550\u001b[0m         \u001b[38;5;28mself\u001b[39m\u001b[38;5;241m.\u001b[39m_session \u001b[38;5;241m=\u001b[39m \u001b[38;5;28mself\u001b[39m\u001b[38;5;241m.\u001b[39m_init_session()\n\u001b[0;32m    551\u001b[0m         \u001b[38;5;28;01mcontinue\u001b[39;00m\n\u001b[1;32m--> 553\u001b[0m \u001b[38;5;28;01mraise\u001b[39;00m \u001b[38;5;167;01mConnectionError\u001b[39;00m(\u001b[38;5;124mf\u001b[39m\u001b[38;5;124m\"\u001b[39m\u001b[38;5;124mCould not download \u001b[39m\u001b[38;5;132;01m{\u001b[39;00murl\u001b[38;5;132;01m}\u001b[39;00m\u001b[38;5;124m.\u001b[39m\u001b[38;5;124m\"\u001b[39m)\n",
      "\u001b[1;31mConnectionError\u001b[0m: Could not download https://fbref.com/en/comps/13/Ligue-1-Stats."
     ]
    }
   ],
   "source": [
    "fbref = sd.FBref(leagues=['ENG-Premier League', 'GER-Bundesliga', \"ESP-La Liga\",\n",
    "                          'ITA-Serie A', 'FRA-Ligue 1'], seasons=[\"2324\"], no_cache=True)\n",
    "# fbref = sd.FBref(leagues=[\"FRA-Ligue 1\"], seasons=[\"2324\"], no_cache=True)\n",
    "fbref_team_standard = fbref.read_team_season_stats(stat_type='standard')\n",
    "fbref_team_standard_oppo = fbref.read_team_season_stats(stat_type='standard', opponent_stats=True)\n",
    "fbref_team_shooting = fbref.read_team_season_stats(stat_type='shooting')\n",
    "fbref_team_shooting_oppo = fbref.read_team_season_stats(stat_type='shooting', opponent_stats=True)\n",
    "fbref_team_passing = fbref.read_team_season_stats(stat_type='passing')\n",
    "fbref_team_passing_oppo = fbref.read_team_season_stats(stat_type='passing', opponent_stats=True)\n",
    "fbref_team_defense = fbref.read_team_season_stats(stat_type='defense')\n",
    "fbref_team_possession = fbref.read_team_season_stats(stat_type='possession')\n",
    "fbref_team_misc = fbref.read_team_season_stats(stat_type='misc')\n",
    "fbref_keeper = fbref.read_team_season_stats(stat_type='keeper')\n",
    "fbref_schedule = fbref.read_schedule()\n",
    "# fbref_lineups = fbref.read_lineup()"
   ]
  },
  {
   "cell_type": "code",
   "execution_count": 12,
   "metadata": {},
   "outputs": [
    {
     "data": {
      "text/html": [
       "<pre style=\"white-space:pre;overflow-x:auto;line-height:normal;font-family:Menlo,'DejaVu Sans Mono',consolas,'Courier New',monospace\"><span style=\"color: #7fbfbf; text-decoration-color: #7fbfbf\">[06/16/24 16:59:17] </span><span style=\"color: #000080; text-decoration-color: #000080\">INFO    </span> Saving cached data to C:\\Users\\ksbha\\soccerdata\\data\\FBref              <a href=\"file://d:\\Users\\ksbha\\miniconda3\\envs\\srcftbl\\Lib\\site-packages\\soccerdata\\_common.py\" target=\"_blank\"><span style=\"color: #7f7f7f; text-decoration-color: #7f7f7f\">_common.py</span></a><span style=\"color: #7f7f7f; text-decoration-color: #7f7f7f\">:</span><a href=\"file://d:\\Users\\ksbha\\miniconda3\\envs\\srcftbl\\Lib\\site-packages\\soccerdata\\_common.py#263\" target=\"_blank\"><span style=\"color: #7f7f7f; text-decoration-color: #7f7f7f\">263</span></a>\n",
       "</pre>\n"
      ],
      "text/plain": [
       "\u001b[2;36m[06/16/24 16:59:17]\u001b[0m\u001b[2;36m \u001b[0m\u001b[34mINFO    \u001b[0m Saving cached data to C:\\Users\\ksbha\\soccerdata\\data\\FBref              \u001b]8;id=941273;file://d:\\Users\\ksbha\\miniconda3\\envs\\srcftbl\\Lib\\site-packages\\soccerdata\\_common.py\u001b\\\u001b[2m_common.py\u001b[0m\u001b]8;;\u001b\\\u001b[2m:\u001b[0m\u001b]8;id=591217;file://d:\\Users\\ksbha\\miniconda3\\envs\\srcftbl\\Lib\\site-packages\\soccerdata\\_common.py#263\u001b\\\u001b[2m263\u001b[0m\u001b]8;;\u001b\\\n"
      ]
     },
     "metadata": {},
     "output_type": "display_data"
    },
    {
     "name": "stderr",
     "output_type": "stream",
     "text": [
      "d:\\Users\\ksbha\\miniconda3\\envs\\srcftbl\\Lib\\site-packages\\soccerdata\\fbref.py:92: UserWarning: You are trying to scrape data for all of the Big 5 European leagues. This can be done more efficiently by setting leagues='Big 5 European Leagues Combined'.\n",
      "  warnings.warn(\n",
      "d:\\Users\\ksbha\\miniconda3\\envs\\srcftbl\\Lib\\site-packages\\soccerdata\\fbref.py:701: FutureWarning: The behavior of DataFrame concatenation with empty or all-NA entries is deprecated. In a future version, this will no longer exclude empty or all-NA columns when determining the result dtypes. To retain the old behavior, exclude the relevant entries before the concat operation.\n",
      "  pd.concat(schedule)\n",
      "d:\\Users\\ksbha\\miniconda3\\envs\\srcftbl\\Lib\\site-packages\\soccerdata\\fbref.py:701: FutureWarning: The behavior of DataFrame concatenation with empty or all-NA entries is deprecated. In a future version, this will no longer exclude empty or all-NA columns when determining the result dtypes. To retain the old behavior, exclude the relevant entries before the concat operation.\n",
      "  pd.concat(schedule)\n"
     ]
    },
    {
     "data": {
      "text/html": [
       "<pre style=\"white-space:pre;overflow-x:auto;line-height:normal;font-family:Menlo,'DejaVu Sans Mono',consolas,'Courier New',monospace\"><span style=\"color: #7fbfbf; text-decoration-color: #7fbfbf\">[06/16/24 16:59:26] </span><span style=\"color: #000080; text-decoration-color: #000080\">INFO    </span> <span style=\"font-weight: bold\">[</span><span style=\"color: #008080; text-decoration-color: #008080; font-weight: bold\">1</span>/<span style=\"color: #008080; text-decoration-color: #008080; font-weight: bold\">1755</span><span style=\"font-weight: bold\">]</span> Retrieving game with <span style=\"color: #808000; text-decoration-color: #808000\">id</span>=<span style=\"color: #800080; text-decoration-color: #800080\">3a6836b4</span>                                 <a href=\"file://d:\\Users\\ksbha\\miniconda3\\envs\\srcftbl\\Lib\\site-packages\\soccerdata\\fbref.py\" target=\"_blank\"><span style=\"color: #7f7f7f; text-decoration-color: #7f7f7f\">fbref.py</span></a><span style=\"color: #7f7f7f; text-decoration-color: #7f7f7f\">:</span><a href=\"file://d:\\Users\\ksbha\\miniconda3\\envs\\srcftbl\\Lib\\site-packages\\soccerdata\\fbref.py#905\" target=\"_blank\"><span style=\"color: #7f7f7f; text-decoration-color: #7f7f7f\">905</span></a>\n",
       "</pre>\n"
      ],
      "text/plain": [
       "\u001b[2;36m[06/16/24 16:59:26]\u001b[0m\u001b[2;36m \u001b[0m\u001b[34mINFO    \u001b[0m \u001b[1m[\u001b[0m\u001b[1;36m1\u001b[0m/\u001b[1;36m1755\u001b[0m\u001b[1m]\u001b[0m Retrieving game with \u001b[33mid\u001b[0m=\u001b[35m3a6836b4\u001b[0m                                 \u001b]8;id=392885;file://d:\\Users\\ksbha\\miniconda3\\envs\\srcftbl\\Lib\\site-packages\\soccerdata\\fbref.py\u001b\\\u001b[2mfbref.py\u001b[0m\u001b]8;;\u001b\\\u001b[2m:\u001b[0m\u001b]8;id=379952;file://d:\\Users\\ksbha\\miniconda3\\envs\\srcftbl\\Lib\\site-packages\\soccerdata\\fbref.py#905\u001b\\\u001b[2m905\u001b[0m\u001b]8;;\u001b\\\n"
      ]
     },
     "metadata": {},
     "output_type": "display_data"
    },
    {
     "data": {
      "text/html": [
       "<pre style=\"white-space:pre;overflow-x:auto;line-height:normal;font-family:Menlo,'DejaVu Sans Mono',consolas,'Courier New',monospace\"><span style=\"color: #7fbfbf; text-decoration-color: #7fbfbf\">[06/16/24 16:59:30] </span><span style=\"color: #800000; text-decoration-color: #800000; font-weight: bold\">ERROR   </span> Error while scraping <span style=\"color: #0000ff; text-decoration-color: #0000ff; text-decoration: underline\">https://fbref.com/en/matches/3a6836b4.</span> Retrying<span style=\"color: #808000; text-decoration-color: #808000\">...</span> <a href=\"file://d:\\Users\\ksbha\\miniconda3\\envs\\srcftbl\\Lib\\site-packages\\soccerdata\\_common.py\" target=\"_blank\"><span style=\"color: #7f7f7f; text-decoration-color: #7f7f7f\">_common.py</span></a><span style=\"color: #7f7f7f; text-decoration-color: #7f7f7f\">:</span><a href=\"file://d:\\Users\\ksbha\\miniconda3\\envs\\srcftbl\\Lib\\site-packages\\soccerdata\\_common.py#545\" target=\"_blank\"><span style=\"color: #7f7f7f; text-decoration-color: #7f7f7f\">545</span></a>\n",
       "<span style=\"color: #7fbfbf; text-decoration-color: #7fbfbf\">                    </span>         <span style=\"font-weight: bold\">(</span>attempt <span style=\"color: #008080; text-decoration-color: #008080; font-weight: bold\">1</span> of <span style=\"color: #008080; text-decoration-color: #008080; font-weight: bold\">5</span><span style=\"font-weight: bold\">)</span>.                                                       <span style=\"color: #7f7f7f; text-decoration-color: #7f7f7f\">              </span>\n",
       "<span style=\"color: #7fbfbf; text-decoration-color: #7fbfbf\">                    </span>         Traceback <span style=\"font-weight: bold\">(</span>most recent call last<span style=\"font-weight: bold\">)</span>:                                      <span style=\"color: #7f7f7f; text-decoration-color: #7f7f7f\">              </span>\n",
       "<span style=\"color: #7fbfbf; text-decoration-color: #7fbfbf\">                    </span>           File                                                                  <span style=\"color: #7f7f7f; text-decoration-color: #7f7f7f\">              </span>\n",
       "<span style=\"color: #7fbfbf; text-decoration-color: #7fbfbf\">                    </span>         <span style=\"color: #008000; text-decoration-color: #008000\">\"d:\\Users\\ksbha\\miniconda3\\envs\\srcftbl\\Lib\\site-packages\\soccerdata\\_c</span> <span style=\"color: #7f7f7f; text-decoration-color: #7f7f7f\">              </span>\n",
       "<span style=\"color: #7fbfbf; text-decoration-color: #7fbfbf\">                    </span>         <span style=\"color: #008000; text-decoration-color: #008000\">ommon.py\"</span>, line <span style=\"color: #008080; text-decoration-color: #008080; font-weight: bold\">525</span>, in _download_and_save                              <span style=\"color: #7f7f7f; text-decoration-color: #7f7f7f\">              </span>\n",
       "<span style=\"color: #7fbfbf; text-decoration-color: #7fbfbf\">                    </span>             <span style=\"color: #800080; text-decoration-color: #800080; font-weight: bold\">response.raise_for_status</span><span style=\"font-weight: bold\">()</span>                                         <span style=\"color: #7f7f7f; text-decoration-color: #7f7f7f\">              </span>\n",
       "<span style=\"color: #7fbfbf; text-decoration-color: #7fbfbf\">                    </span>           File                                                                  <span style=\"color: #7f7f7f; text-decoration-color: #7f7f7f\">              </span>\n",
       "<span style=\"color: #7fbfbf; text-decoration-color: #7fbfbf\">                    </span>         <span style=\"color: #008000; text-decoration-color: #008000\">\"d:\\Users\\ksbha\\miniconda3\\envs\\srcftbl\\Lib\\site-packages\\requests\\mode</span> <span style=\"color: #7f7f7f; text-decoration-color: #7f7f7f\">              </span>\n",
       "<span style=\"color: #7fbfbf; text-decoration-color: #7fbfbf\">                    </span>         <span style=\"color: #008000; text-decoration-color: #008000\">ls.py\"</span>, line <span style=\"color: #008080; text-decoration-color: #008080; font-weight: bold\">1021</span>, in raise_for_status                                  <span style=\"color: #7f7f7f; text-decoration-color: #7f7f7f\">              </span>\n",
       "<span style=\"color: #7fbfbf; text-decoration-color: #7fbfbf\">                    </span>             raise <span style=\"color: #800080; text-decoration-color: #800080; font-weight: bold\">HTTPError</span><span style=\"font-weight: bold\">(</span>http_error_msg, <span style=\"color: #808000; text-decoration-color: #808000\">response</span>=<span style=\"color: #800080; text-decoration-color: #800080\">self</span><span style=\"font-weight: bold\">)</span>                      <span style=\"color: #7f7f7f; text-decoration-color: #7f7f7f\">              </span>\n",
       "<span style=\"color: #7fbfbf; text-decoration-color: #7fbfbf\">                    </span>         requests.exceptions.HTTPError: <span style=\"color: #008080; text-decoration-color: #008080; font-weight: bold\">429</span> Client Error: Too Many Requests for  <span style=\"color: #7f7f7f; text-decoration-color: #7f7f7f\">              </span>\n",
       "<span style=\"color: #7fbfbf; text-decoration-color: #7fbfbf\">                    </span>         url: <span style=\"color: #0000ff; text-decoration-color: #0000ff; text-decoration: underline\">https://fbref.com/en/matches/3a6836b4</span>                              <span style=\"color: #7f7f7f; text-decoration-color: #7f7f7f\">              </span>\n",
       "</pre>\n"
      ],
      "text/plain": [
       "\u001b[2;36m[06/16/24 16:59:30]\u001b[0m\u001b[2;36m \u001b[0m\u001b[1;31mERROR   \u001b[0m Error while scraping \u001b[4;94mhttps://fbref.com/en/matches/3a6836b4.\u001b[0m Retrying\u001b[33m...\u001b[0m \u001b]8;id=605124;file://d:\\Users\\ksbha\\miniconda3\\envs\\srcftbl\\Lib\\site-packages\\soccerdata\\_common.py\u001b\\\u001b[2m_common.py\u001b[0m\u001b]8;;\u001b\\\u001b[2m:\u001b[0m\u001b]8;id=529856;file://d:\\Users\\ksbha\\miniconda3\\envs\\srcftbl\\Lib\\site-packages\\soccerdata\\_common.py#545\u001b\\\u001b[2m545\u001b[0m\u001b]8;;\u001b\\\n",
       "\u001b[2;36m                    \u001b[0m         \u001b[1m(\u001b[0mattempt \u001b[1;36m1\u001b[0m of \u001b[1;36m5\u001b[0m\u001b[1m)\u001b[0m.                                                       \u001b[2m              \u001b[0m\n",
       "\u001b[2;36m                    \u001b[0m         Traceback \u001b[1m(\u001b[0mmost recent call last\u001b[1m)\u001b[0m:                                      \u001b[2m              \u001b[0m\n",
       "\u001b[2;36m                    \u001b[0m           File                                                                  \u001b[2m              \u001b[0m\n",
       "\u001b[2;36m                    \u001b[0m         \u001b[32m\"d:\\Users\\ksbha\\miniconda3\\envs\\srcftbl\\Lib\\site-packages\\soccerdata\\_c\u001b[0m \u001b[2m              \u001b[0m\n",
       "\u001b[2;36m                    \u001b[0m         \u001b[32mommon.py\"\u001b[0m, line \u001b[1;36m525\u001b[0m, in _download_and_save                              \u001b[2m              \u001b[0m\n",
       "\u001b[2;36m                    \u001b[0m             \u001b[1;35mresponse.raise_for_status\u001b[0m\u001b[1m(\u001b[0m\u001b[1m)\u001b[0m                                         \u001b[2m              \u001b[0m\n",
       "\u001b[2;36m                    \u001b[0m           File                                                                  \u001b[2m              \u001b[0m\n",
       "\u001b[2;36m                    \u001b[0m         \u001b[32m\"d:\\Users\\ksbha\\miniconda3\\envs\\srcftbl\\Lib\\site-packages\\requests\\mode\u001b[0m \u001b[2m              \u001b[0m\n",
       "\u001b[2;36m                    \u001b[0m         \u001b[32mls.py\"\u001b[0m, line \u001b[1;36m1021\u001b[0m, in raise_for_status                                  \u001b[2m              \u001b[0m\n",
       "\u001b[2;36m                    \u001b[0m             raise \u001b[1;35mHTTPError\u001b[0m\u001b[1m(\u001b[0mhttp_error_msg, \u001b[33mresponse\u001b[0m=\u001b[35mself\u001b[0m\u001b[1m)\u001b[0m                      \u001b[2m              \u001b[0m\n",
       "\u001b[2;36m                    \u001b[0m         requests.exceptions.HTTPError: \u001b[1;36m429\u001b[0m Client Error: Too Many Requests for  \u001b[2m              \u001b[0m\n",
       "\u001b[2;36m                    \u001b[0m         url: \u001b[4;94mhttps://fbref.com/en/matches/3a6836b4\u001b[0m                              \u001b[2m              \u001b[0m\n"
      ]
     },
     "metadata": {},
     "output_type": "display_data"
    },
    {
     "data": {
      "text/html": [
       "<pre style=\"white-space:pre;overflow-x:auto;line-height:normal;font-family:Menlo,'DejaVu Sans Mono',consolas,'Courier New',monospace\"><span style=\"color: #7fbfbf; text-decoration-color: #7fbfbf\">[06/16/24 16:59:33] </span><span style=\"color: #800000; text-decoration-color: #800000; font-weight: bold\">ERROR   </span> Error while scraping <span style=\"color: #0000ff; text-decoration-color: #0000ff; text-decoration: underline\">https://fbref.com/en/matches/3a6836b4.</span> Retrying<span style=\"color: #808000; text-decoration-color: #808000\">...</span> <a href=\"file://d:\\Users\\ksbha\\miniconda3\\envs\\srcftbl\\Lib\\site-packages\\soccerdata\\_common.py\" target=\"_blank\"><span style=\"color: #7f7f7f; text-decoration-color: #7f7f7f\">_common.py</span></a><span style=\"color: #7f7f7f; text-decoration-color: #7f7f7f\">:</span><a href=\"file://d:\\Users\\ksbha\\miniconda3\\envs\\srcftbl\\Lib\\site-packages\\soccerdata\\_common.py#545\" target=\"_blank\"><span style=\"color: #7f7f7f; text-decoration-color: #7f7f7f\">545</span></a>\n",
       "<span style=\"color: #7fbfbf; text-decoration-color: #7fbfbf\">                    </span>         <span style=\"font-weight: bold\">(</span>attempt <span style=\"color: #008080; text-decoration-color: #008080; font-weight: bold\">2</span> of <span style=\"color: #008080; text-decoration-color: #008080; font-weight: bold\">5</span><span style=\"font-weight: bold\">)</span>.                                                       <span style=\"color: #7f7f7f; text-decoration-color: #7f7f7f\">              </span>\n",
       "<span style=\"color: #7fbfbf; text-decoration-color: #7fbfbf\">                    </span>         Traceback <span style=\"font-weight: bold\">(</span>most recent call last<span style=\"font-weight: bold\">)</span>:                                      <span style=\"color: #7f7f7f; text-decoration-color: #7f7f7f\">              </span>\n",
       "<span style=\"color: #7fbfbf; text-decoration-color: #7fbfbf\">                    </span>           File                                                                  <span style=\"color: #7f7f7f; text-decoration-color: #7f7f7f\">              </span>\n",
       "<span style=\"color: #7fbfbf; text-decoration-color: #7fbfbf\">                    </span>         <span style=\"color: #008000; text-decoration-color: #008000\">\"d:\\Users\\ksbha\\miniconda3\\envs\\srcftbl\\Lib\\site-packages\\soccerdata\\_c</span> <span style=\"color: #7f7f7f; text-decoration-color: #7f7f7f\">              </span>\n",
       "<span style=\"color: #7fbfbf; text-decoration-color: #7fbfbf\">                    </span>         <span style=\"color: #008000; text-decoration-color: #008000\">ommon.py\"</span>, line <span style=\"color: #008080; text-decoration-color: #008080; font-weight: bold\">525</span>, in _download_and_save                              <span style=\"color: #7f7f7f; text-decoration-color: #7f7f7f\">              </span>\n",
       "<span style=\"color: #7fbfbf; text-decoration-color: #7fbfbf\">                    </span>             <span style=\"color: #800080; text-decoration-color: #800080; font-weight: bold\">response.raise_for_status</span><span style=\"font-weight: bold\">()</span>                                         <span style=\"color: #7f7f7f; text-decoration-color: #7f7f7f\">              </span>\n",
       "<span style=\"color: #7fbfbf; text-decoration-color: #7fbfbf\">                    </span>           File                                                                  <span style=\"color: #7f7f7f; text-decoration-color: #7f7f7f\">              </span>\n",
       "<span style=\"color: #7fbfbf; text-decoration-color: #7fbfbf\">                    </span>         <span style=\"color: #008000; text-decoration-color: #008000\">\"d:\\Users\\ksbha\\miniconda3\\envs\\srcftbl\\Lib\\site-packages\\requests\\mode</span> <span style=\"color: #7f7f7f; text-decoration-color: #7f7f7f\">              </span>\n",
       "<span style=\"color: #7fbfbf; text-decoration-color: #7fbfbf\">                    </span>         <span style=\"color: #008000; text-decoration-color: #008000\">ls.py\"</span>, line <span style=\"color: #008080; text-decoration-color: #008080; font-weight: bold\">1021</span>, in raise_for_status                                  <span style=\"color: #7f7f7f; text-decoration-color: #7f7f7f\">              </span>\n",
       "<span style=\"color: #7fbfbf; text-decoration-color: #7fbfbf\">                    </span>             raise <span style=\"color: #800080; text-decoration-color: #800080; font-weight: bold\">HTTPError</span><span style=\"font-weight: bold\">(</span>http_error_msg, <span style=\"color: #808000; text-decoration-color: #808000\">response</span>=<span style=\"color: #800080; text-decoration-color: #800080\">self</span><span style=\"font-weight: bold\">)</span>                      <span style=\"color: #7f7f7f; text-decoration-color: #7f7f7f\">              </span>\n",
       "<span style=\"color: #7fbfbf; text-decoration-color: #7fbfbf\">                    </span>         requests.exceptions.HTTPError: <span style=\"color: #008080; text-decoration-color: #008080; font-weight: bold\">429</span> Client Error: Too Many Requests for  <span style=\"color: #7f7f7f; text-decoration-color: #7f7f7f\">              </span>\n",
       "<span style=\"color: #7fbfbf; text-decoration-color: #7fbfbf\">                    </span>         url: <span style=\"color: #0000ff; text-decoration-color: #0000ff; text-decoration: underline\">https://fbref.com/en/matches/3a6836b4</span>                              <span style=\"color: #7f7f7f; text-decoration-color: #7f7f7f\">              </span>\n",
       "</pre>\n"
      ],
      "text/plain": [
       "\u001b[2;36m[06/16/24 16:59:33]\u001b[0m\u001b[2;36m \u001b[0m\u001b[1;31mERROR   \u001b[0m Error while scraping \u001b[4;94mhttps://fbref.com/en/matches/3a6836b4.\u001b[0m Retrying\u001b[33m...\u001b[0m \u001b]8;id=408085;file://d:\\Users\\ksbha\\miniconda3\\envs\\srcftbl\\Lib\\site-packages\\soccerdata\\_common.py\u001b\\\u001b[2m_common.py\u001b[0m\u001b]8;;\u001b\\\u001b[2m:\u001b[0m\u001b]8;id=11304;file://d:\\Users\\ksbha\\miniconda3\\envs\\srcftbl\\Lib\\site-packages\\soccerdata\\_common.py#545\u001b\\\u001b[2m545\u001b[0m\u001b]8;;\u001b\\\n",
       "\u001b[2;36m                    \u001b[0m         \u001b[1m(\u001b[0mattempt \u001b[1;36m2\u001b[0m of \u001b[1;36m5\u001b[0m\u001b[1m)\u001b[0m.                                                       \u001b[2m              \u001b[0m\n",
       "\u001b[2;36m                    \u001b[0m         Traceback \u001b[1m(\u001b[0mmost recent call last\u001b[1m)\u001b[0m:                                      \u001b[2m              \u001b[0m\n",
       "\u001b[2;36m                    \u001b[0m           File                                                                  \u001b[2m              \u001b[0m\n",
       "\u001b[2;36m                    \u001b[0m         \u001b[32m\"d:\\Users\\ksbha\\miniconda3\\envs\\srcftbl\\Lib\\site-packages\\soccerdata\\_c\u001b[0m \u001b[2m              \u001b[0m\n",
       "\u001b[2;36m                    \u001b[0m         \u001b[32mommon.py\"\u001b[0m, line \u001b[1;36m525\u001b[0m, in _download_and_save                              \u001b[2m              \u001b[0m\n",
       "\u001b[2;36m                    \u001b[0m             \u001b[1;35mresponse.raise_for_status\u001b[0m\u001b[1m(\u001b[0m\u001b[1m)\u001b[0m                                         \u001b[2m              \u001b[0m\n",
       "\u001b[2;36m                    \u001b[0m           File                                                                  \u001b[2m              \u001b[0m\n",
       "\u001b[2;36m                    \u001b[0m         \u001b[32m\"d:\\Users\\ksbha\\miniconda3\\envs\\srcftbl\\Lib\\site-packages\\requests\\mode\u001b[0m \u001b[2m              \u001b[0m\n",
       "\u001b[2;36m                    \u001b[0m         \u001b[32mls.py\"\u001b[0m, line \u001b[1;36m1021\u001b[0m, in raise_for_status                                  \u001b[2m              \u001b[0m\n",
       "\u001b[2;36m                    \u001b[0m             raise \u001b[1;35mHTTPError\u001b[0m\u001b[1m(\u001b[0mhttp_error_msg, \u001b[33mresponse\u001b[0m=\u001b[35mself\u001b[0m\u001b[1m)\u001b[0m                      \u001b[2m              \u001b[0m\n",
       "\u001b[2;36m                    \u001b[0m         requests.exceptions.HTTPError: \u001b[1;36m429\u001b[0m Client Error: Too Many Requests for  \u001b[2m              \u001b[0m\n",
       "\u001b[2;36m                    \u001b[0m         url: \u001b[4;94mhttps://fbref.com/en/matches/3a6836b4\u001b[0m                              \u001b[2m              \u001b[0m\n"
      ]
     },
     "metadata": {},
     "output_type": "display_data"
    },
    {
     "data": {
      "text/html": [
       "<pre style=\"white-space:pre;overflow-x:auto;line-height:normal;font-family:Menlo,'DejaVu Sans Mono',consolas,'Courier New',monospace\"><span style=\"color: #7fbfbf; text-decoration-color: #7fbfbf\">[06/16/24 16:59:37] </span><span style=\"color: #800000; text-decoration-color: #800000; font-weight: bold\">ERROR   </span> Error while scraping <span style=\"color: #0000ff; text-decoration-color: #0000ff; text-decoration: underline\">https://fbref.com/en/matches/3a6836b4.</span> Retrying<span style=\"color: #808000; text-decoration-color: #808000\">...</span> <a href=\"file://d:\\Users\\ksbha\\miniconda3\\envs\\srcftbl\\Lib\\site-packages\\soccerdata\\_common.py\" target=\"_blank\"><span style=\"color: #7f7f7f; text-decoration-color: #7f7f7f\">_common.py</span></a><span style=\"color: #7f7f7f; text-decoration-color: #7f7f7f\">:</span><a href=\"file://d:\\Users\\ksbha\\miniconda3\\envs\\srcftbl\\Lib\\site-packages\\soccerdata\\_common.py#545\" target=\"_blank\"><span style=\"color: #7f7f7f; text-decoration-color: #7f7f7f\">545</span></a>\n",
       "<span style=\"color: #7fbfbf; text-decoration-color: #7fbfbf\">                    </span>         <span style=\"font-weight: bold\">(</span>attempt <span style=\"color: #008080; text-decoration-color: #008080; font-weight: bold\">3</span> of <span style=\"color: #008080; text-decoration-color: #008080; font-weight: bold\">5</span><span style=\"font-weight: bold\">)</span>.                                                       <span style=\"color: #7f7f7f; text-decoration-color: #7f7f7f\">              </span>\n",
       "<span style=\"color: #7fbfbf; text-decoration-color: #7fbfbf\">                    </span>         Traceback <span style=\"font-weight: bold\">(</span>most recent call last<span style=\"font-weight: bold\">)</span>:                                      <span style=\"color: #7f7f7f; text-decoration-color: #7f7f7f\">              </span>\n",
       "<span style=\"color: #7fbfbf; text-decoration-color: #7fbfbf\">                    </span>           File                                                                  <span style=\"color: #7f7f7f; text-decoration-color: #7f7f7f\">              </span>\n",
       "<span style=\"color: #7fbfbf; text-decoration-color: #7fbfbf\">                    </span>         <span style=\"color: #008000; text-decoration-color: #008000\">\"d:\\Users\\ksbha\\miniconda3\\envs\\srcftbl\\Lib\\site-packages\\soccerdata\\_c</span> <span style=\"color: #7f7f7f; text-decoration-color: #7f7f7f\">              </span>\n",
       "<span style=\"color: #7fbfbf; text-decoration-color: #7fbfbf\">                    </span>         <span style=\"color: #008000; text-decoration-color: #008000\">ommon.py\"</span>, line <span style=\"color: #008080; text-decoration-color: #008080; font-weight: bold\">525</span>, in _download_and_save                              <span style=\"color: #7f7f7f; text-decoration-color: #7f7f7f\">              </span>\n",
       "<span style=\"color: #7fbfbf; text-decoration-color: #7fbfbf\">                    </span>             <span style=\"color: #800080; text-decoration-color: #800080; font-weight: bold\">response.raise_for_status</span><span style=\"font-weight: bold\">()</span>                                         <span style=\"color: #7f7f7f; text-decoration-color: #7f7f7f\">              </span>\n",
       "<span style=\"color: #7fbfbf; text-decoration-color: #7fbfbf\">                    </span>           File                                                                  <span style=\"color: #7f7f7f; text-decoration-color: #7f7f7f\">              </span>\n",
       "<span style=\"color: #7fbfbf; text-decoration-color: #7fbfbf\">                    </span>         <span style=\"color: #008000; text-decoration-color: #008000\">\"d:\\Users\\ksbha\\miniconda3\\envs\\srcftbl\\Lib\\site-packages\\requests\\mode</span> <span style=\"color: #7f7f7f; text-decoration-color: #7f7f7f\">              </span>\n",
       "<span style=\"color: #7fbfbf; text-decoration-color: #7fbfbf\">                    </span>         <span style=\"color: #008000; text-decoration-color: #008000\">ls.py\"</span>, line <span style=\"color: #008080; text-decoration-color: #008080; font-weight: bold\">1021</span>, in raise_for_status                                  <span style=\"color: #7f7f7f; text-decoration-color: #7f7f7f\">              </span>\n",
       "<span style=\"color: #7fbfbf; text-decoration-color: #7fbfbf\">                    </span>             raise <span style=\"color: #800080; text-decoration-color: #800080; font-weight: bold\">HTTPError</span><span style=\"font-weight: bold\">(</span>http_error_msg, <span style=\"color: #808000; text-decoration-color: #808000\">response</span>=<span style=\"color: #800080; text-decoration-color: #800080\">self</span><span style=\"font-weight: bold\">)</span>                      <span style=\"color: #7f7f7f; text-decoration-color: #7f7f7f\">              </span>\n",
       "<span style=\"color: #7fbfbf; text-decoration-color: #7fbfbf\">                    </span>         requests.exceptions.HTTPError: <span style=\"color: #008080; text-decoration-color: #008080; font-weight: bold\">429</span> Client Error: Too Many Requests for  <span style=\"color: #7f7f7f; text-decoration-color: #7f7f7f\">              </span>\n",
       "<span style=\"color: #7fbfbf; text-decoration-color: #7fbfbf\">                    </span>         url: <span style=\"color: #0000ff; text-decoration-color: #0000ff; text-decoration: underline\">https://fbref.com/en/matches/3a6836b4</span>                              <span style=\"color: #7f7f7f; text-decoration-color: #7f7f7f\">              </span>\n",
       "</pre>\n"
      ],
      "text/plain": [
       "\u001b[2;36m[06/16/24 16:59:37]\u001b[0m\u001b[2;36m \u001b[0m\u001b[1;31mERROR   \u001b[0m Error while scraping \u001b[4;94mhttps://fbref.com/en/matches/3a6836b4.\u001b[0m Retrying\u001b[33m...\u001b[0m \u001b]8;id=669656;file://d:\\Users\\ksbha\\miniconda3\\envs\\srcftbl\\Lib\\site-packages\\soccerdata\\_common.py\u001b\\\u001b[2m_common.py\u001b[0m\u001b]8;;\u001b\\\u001b[2m:\u001b[0m\u001b]8;id=834363;file://d:\\Users\\ksbha\\miniconda3\\envs\\srcftbl\\Lib\\site-packages\\soccerdata\\_common.py#545\u001b\\\u001b[2m545\u001b[0m\u001b]8;;\u001b\\\n",
       "\u001b[2;36m                    \u001b[0m         \u001b[1m(\u001b[0mattempt \u001b[1;36m3\u001b[0m of \u001b[1;36m5\u001b[0m\u001b[1m)\u001b[0m.                                                       \u001b[2m              \u001b[0m\n",
       "\u001b[2;36m                    \u001b[0m         Traceback \u001b[1m(\u001b[0mmost recent call last\u001b[1m)\u001b[0m:                                      \u001b[2m              \u001b[0m\n",
       "\u001b[2;36m                    \u001b[0m           File                                                                  \u001b[2m              \u001b[0m\n",
       "\u001b[2;36m                    \u001b[0m         \u001b[32m\"d:\\Users\\ksbha\\miniconda3\\envs\\srcftbl\\Lib\\site-packages\\soccerdata\\_c\u001b[0m \u001b[2m              \u001b[0m\n",
       "\u001b[2;36m                    \u001b[0m         \u001b[32mommon.py\"\u001b[0m, line \u001b[1;36m525\u001b[0m, in _download_and_save                              \u001b[2m              \u001b[0m\n",
       "\u001b[2;36m                    \u001b[0m             \u001b[1;35mresponse.raise_for_status\u001b[0m\u001b[1m(\u001b[0m\u001b[1m)\u001b[0m                                         \u001b[2m              \u001b[0m\n",
       "\u001b[2;36m                    \u001b[0m           File                                                                  \u001b[2m              \u001b[0m\n",
       "\u001b[2;36m                    \u001b[0m         \u001b[32m\"d:\\Users\\ksbha\\miniconda3\\envs\\srcftbl\\Lib\\site-packages\\requests\\mode\u001b[0m \u001b[2m              \u001b[0m\n",
       "\u001b[2;36m                    \u001b[0m         \u001b[32mls.py\"\u001b[0m, line \u001b[1;36m1021\u001b[0m, in raise_for_status                                  \u001b[2m              \u001b[0m\n",
       "\u001b[2;36m                    \u001b[0m             raise \u001b[1;35mHTTPError\u001b[0m\u001b[1m(\u001b[0mhttp_error_msg, \u001b[33mresponse\u001b[0m=\u001b[35mself\u001b[0m\u001b[1m)\u001b[0m                      \u001b[2m              \u001b[0m\n",
       "\u001b[2;36m                    \u001b[0m         requests.exceptions.HTTPError: \u001b[1;36m429\u001b[0m Client Error: Too Many Requests for  \u001b[2m              \u001b[0m\n",
       "\u001b[2;36m                    \u001b[0m         url: \u001b[4;94mhttps://fbref.com/en/matches/3a6836b4\u001b[0m                              \u001b[2m              \u001b[0m\n"
      ]
     },
     "metadata": {},
     "output_type": "display_data"
    },
    {
     "data": {
      "text/html": [
       "<pre style=\"white-space:pre;overflow-x:auto;line-height:normal;font-family:Menlo,'DejaVu Sans Mono',consolas,'Courier New',monospace\"><span style=\"color: #7fbfbf; text-decoration-color: #7fbfbf\">[06/16/24 16:59:40] </span><span style=\"color: #800000; text-decoration-color: #800000; font-weight: bold\">ERROR   </span> Error while scraping <span style=\"color: #0000ff; text-decoration-color: #0000ff; text-decoration: underline\">https://fbref.com/en/matches/3a6836b4.</span> Retrying<span style=\"color: #808000; text-decoration-color: #808000\">...</span> <a href=\"file://d:\\Users\\ksbha\\miniconda3\\envs\\srcftbl\\Lib\\site-packages\\soccerdata\\_common.py\" target=\"_blank\"><span style=\"color: #7f7f7f; text-decoration-color: #7f7f7f\">_common.py</span></a><span style=\"color: #7f7f7f; text-decoration-color: #7f7f7f\">:</span><a href=\"file://d:\\Users\\ksbha\\miniconda3\\envs\\srcftbl\\Lib\\site-packages\\soccerdata\\_common.py#545\" target=\"_blank\"><span style=\"color: #7f7f7f; text-decoration-color: #7f7f7f\">545</span></a>\n",
       "<span style=\"color: #7fbfbf; text-decoration-color: #7fbfbf\">                    </span>         <span style=\"font-weight: bold\">(</span>attempt <span style=\"color: #008080; text-decoration-color: #008080; font-weight: bold\">4</span> of <span style=\"color: #008080; text-decoration-color: #008080; font-weight: bold\">5</span><span style=\"font-weight: bold\">)</span>.                                                       <span style=\"color: #7f7f7f; text-decoration-color: #7f7f7f\">              </span>\n",
       "<span style=\"color: #7fbfbf; text-decoration-color: #7fbfbf\">                    </span>         Traceback <span style=\"font-weight: bold\">(</span>most recent call last<span style=\"font-weight: bold\">)</span>:                                      <span style=\"color: #7f7f7f; text-decoration-color: #7f7f7f\">              </span>\n",
       "<span style=\"color: #7fbfbf; text-decoration-color: #7fbfbf\">                    </span>           File                                                                  <span style=\"color: #7f7f7f; text-decoration-color: #7f7f7f\">              </span>\n",
       "<span style=\"color: #7fbfbf; text-decoration-color: #7fbfbf\">                    </span>         <span style=\"color: #008000; text-decoration-color: #008000\">\"d:\\Users\\ksbha\\miniconda3\\envs\\srcftbl\\Lib\\site-packages\\soccerdata\\_c</span> <span style=\"color: #7f7f7f; text-decoration-color: #7f7f7f\">              </span>\n",
       "<span style=\"color: #7fbfbf; text-decoration-color: #7fbfbf\">                    </span>         <span style=\"color: #008000; text-decoration-color: #008000\">ommon.py\"</span>, line <span style=\"color: #008080; text-decoration-color: #008080; font-weight: bold\">525</span>, in _download_and_save                              <span style=\"color: #7f7f7f; text-decoration-color: #7f7f7f\">              </span>\n",
       "<span style=\"color: #7fbfbf; text-decoration-color: #7fbfbf\">                    </span>             <span style=\"color: #800080; text-decoration-color: #800080; font-weight: bold\">response.raise_for_status</span><span style=\"font-weight: bold\">()</span>                                         <span style=\"color: #7f7f7f; text-decoration-color: #7f7f7f\">              </span>\n",
       "<span style=\"color: #7fbfbf; text-decoration-color: #7fbfbf\">                    </span>           File                                                                  <span style=\"color: #7f7f7f; text-decoration-color: #7f7f7f\">              </span>\n",
       "<span style=\"color: #7fbfbf; text-decoration-color: #7fbfbf\">                    </span>         <span style=\"color: #008000; text-decoration-color: #008000\">\"d:\\Users\\ksbha\\miniconda3\\envs\\srcftbl\\Lib\\site-packages\\requests\\mode</span> <span style=\"color: #7f7f7f; text-decoration-color: #7f7f7f\">              </span>\n",
       "<span style=\"color: #7fbfbf; text-decoration-color: #7fbfbf\">                    </span>         <span style=\"color: #008000; text-decoration-color: #008000\">ls.py\"</span>, line <span style=\"color: #008080; text-decoration-color: #008080; font-weight: bold\">1021</span>, in raise_for_status                                  <span style=\"color: #7f7f7f; text-decoration-color: #7f7f7f\">              </span>\n",
       "<span style=\"color: #7fbfbf; text-decoration-color: #7fbfbf\">                    </span>             raise <span style=\"color: #800080; text-decoration-color: #800080; font-weight: bold\">HTTPError</span><span style=\"font-weight: bold\">(</span>http_error_msg, <span style=\"color: #808000; text-decoration-color: #808000\">response</span>=<span style=\"color: #800080; text-decoration-color: #800080\">self</span><span style=\"font-weight: bold\">)</span>                      <span style=\"color: #7f7f7f; text-decoration-color: #7f7f7f\">              </span>\n",
       "<span style=\"color: #7fbfbf; text-decoration-color: #7fbfbf\">                    </span>         requests.exceptions.HTTPError: <span style=\"color: #008080; text-decoration-color: #008080; font-weight: bold\">429</span> Client Error: Too Many Requests for  <span style=\"color: #7f7f7f; text-decoration-color: #7f7f7f\">              </span>\n",
       "<span style=\"color: #7fbfbf; text-decoration-color: #7fbfbf\">                    </span>         url: <span style=\"color: #0000ff; text-decoration-color: #0000ff; text-decoration: underline\">https://fbref.com/en/matches/3a6836b4</span>                              <span style=\"color: #7f7f7f; text-decoration-color: #7f7f7f\">              </span>\n",
       "</pre>\n"
      ],
      "text/plain": [
       "\u001b[2;36m[06/16/24 16:59:40]\u001b[0m\u001b[2;36m \u001b[0m\u001b[1;31mERROR   \u001b[0m Error while scraping \u001b[4;94mhttps://fbref.com/en/matches/3a6836b4.\u001b[0m Retrying\u001b[33m...\u001b[0m \u001b]8;id=118689;file://d:\\Users\\ksbha\\miniconda3\\envs\\srcftbl\\Lib\\site-packages\\soccerdata\\_common.py\u001b\\\u001b[2m_common.py\u001b[0m\u001b]8;;\u001b\\\u001b[2m:\u001b[0m\u001b]8;id=155178;file://d:\\Users\\ksbha\\miniconda3\\envs\\srcftbl\\Lib\\site-packages\\soccerdata\\_common.py#545\u001b\\\u001b[2m545\u001b[0m\u001b]8;;\u001b\\\n",
       "\u001b[2;36m                    \u001b[0m         \u001b[1m(\u001b[0mattempt \u001b[1;36m4\u001b[0m of \u001b[1;36m5\u001b[0m\u001b[1m)\u001b[0m.                                                       \u001b[2m              \u001b[0m\n",
       "\u001b[2;36m                    \u001b[0m         Traceback \u001b[1m(\u001b[0mmost recent call last\u001b[1m)\u001b[0m:                                      \u001b[2m              \u001b[0m\n",
       "\u001b[2;36m                    \u001b[0m           File                                                                  \u001b[2m              \u001b[0m\n",
       "\u001b[2;36m                    \u001b[0m         \u001b[32m\"d:\\Users\\ksbha\\miniconda3\\envs\\srcftbl\\Lib\\site-packages\\soccerdata\\_c\u001b[0m \u001b[2m              \u001b[0m\n",
       "\u001b[2;36m                    \u001b[0m         \u001b[32mommon.py\"\u001b[0m, line \u001b[1;36m525\u001b[0m, in _download_and_save                              \u001b[2m              \u001b[0m\n",
       "\u001b[2;36m                    \u001b[0m             \u001b[1;35mresponse.raise_for_status\u001b[0m\u001b[1m(\u001b[0m\u001b[1m)\u001b[0m                                         \u001b[2m              \u001b[0m\n",
       "\u001b[2;36m                    \u001b[0m           File                                                                  \u001b[2m              \u001b[0m\n",
       "\u001b[2;36m                    \u001b[0m         \u001b[32m\"d:\\Users\\ksbha\\miniconda3\\envs\\srcftbl\\Lib\\site-packages\\requests\\mode\u001b[0m \u001b[2m              \u001b[0m\n",
       "\u001b[2;36m                    \u001b[0m         \u001b[32mls.py\"\u001b[0m, line \u001b[1;36m1021\u001b[0m, in raise_for_status                                  \u001b[2m              \u001b[0m\n",
       "\u001b[2;36m                    \u001b[0m             raise \u001b[1;35mHTTPError\u001b[0m\u001b[1m(\u001b[0mhttp_error_msg, \u001b[33mresponse\u001b[0m=\u001b[35mself\u001b[0m\u001b[1m)\u001b[0m                      \u001b[2m              \u001b[0m\n",
       "\u001b[2;36m                    \u001b[0m         requests.exceptions.HTTPError: \u001b[1;36m429\u001b[0m Client Error: Too Many Requests for  \u001b[2m              \u001b[0m\n",
       "\u001b[2;36m                    \u001b[0m         url: \u001b[4;94mhttps://fbref.com/en/matches/3a6836b4\u001b[0m                              \u001b[2m              \u001b[0m\n"
      ]
     },
     "metadata": {},
     "output_type": "display_data"
    },
    {
     "data": {
      "text/html": [
       "<pre style=\"white-space:pre;overflow-x:auto;line-height:normal;font-family:Menlo,'DejaVu Sans Mono',consolas,'Courier New',monospace\"><span style=\"color: #7fbfbf; text-decoration-color: #7fbfbf\">[06/16/24 16:59:43] </span><span style=\"color: #800000; text-decoration-color: #800000; font-weight: bold\">ERROR   </span> Error while scraping <span style=\"color: #0000ff; text-decoration-color: #0000ff; text-decoration: underline\">https://fbref.com/en/matches/3a6836b4.</span> Retrying<span style=\"color: #808000; text-decoration-color: #808000\">...</span> <a href=\"file://d:\\Users\\ksbha\\miniconda3\\envs\\srcftbl\\Lib\\site-packages\\soccerdata\\_common.py\" target=\"_blank\"><span style=\"color: #7f7f7f; text-decoration-color: #7f7f7f\">_common.py</span></a><span style=\"color: #7f7f7f; text-decoration-color: #7f7f7f\">:</span><a href=\"file://d:\\Users\\ksbha\\miniconda3\\envs\\srcftbl\\Lib\\site-packages\\soccerdata\\_common.py#545\" target=\"_blank\"><span style=\"color: #7f7f7f; text-decoration-color: #7f7f7f\">545</span></a>\n",
       "<span style=\"color: #7fbfbf; text-decoration-color: #7fbfbf\">                    </span>         <span style=\"font-weight: bold\">(</span>attempt <span style=\"color: #008080; text-decoration-color: #008080; font-weight: bold\">5</span> of <span style=\"color: #008080; text-decoration-color: #008080; font-weight: bold\">5</span><span style=\"font-weight: bold\">)</span>.                                                       <span style=\"color: #7f7f7f; text-decoration-color: #7f7f7f\">              </span>\n",
       "<span style=\"color: #7fbfbf; text-decoration-color: #7fbfbf\">                    </span>         Traceback <span style=\"font-weight: bold\">(</span>most recent call last<span style=\"font-weight: bold\">)</span>:                                      <span style=\"color: #7f7f7f; text-decoration-color: #7f7f7f\">              </span>\n",
       "<span style=\"color: #7fbfbf; text-decoration-color: #7fbfbf\">                    </span>           File                                                                  <span style=\"color: #7f7f7f; text-decoration-color: #7f7f7f\">              </span>\n",
       "<span style=\"color: #7fbfbf; text-decoration-color: #7fbfbf\">                    </span>         <span style=\"color: #008000; text-decoration-color: #008000\">\"d:\\Users\\ksbha\\miniconda3\\envs\\srcftbl\\Lib\\site-packages\\soccerdata\\_c</span> <span style=\"color: #7f7f7f; text-decoration-color: #7f7f7f\">              </span>\n",
       "<span style=\"color: #7fbfbf; text-decoration-color: #7fbfbf\">                    </span>         <span style=\"color: #008000; text-decoration-color: #008000\">ommon.py\"</span>, line <span style=\"color: #008080; text-decoration-color: #008080; font-weight: bold\">525</span>, in _download_and_save                              <span style=\"color: #7f7f7f; text-decoration-color: #7f7f7f\">              </span>\n",
       "<span style=\"color: #7fbfbf; text-decoration-color: #7fbfbf\">                    </span>             <span style=\"color: #800080; text-decoration-color: #800080; font-weight: bold\">response.raise_for_status</span><span style=\"font-weight: bold\">()</span>                                         <span style=\"color: #7f7f7f; text-decoration-color: #7f7f7f\">              </span>\n",
       "<span style=\"color: #7fbfbf; text-decoration-color: #7fbfbf\">                    </span>           File                                                                  <span style=\"color: #7f7f7f; text-decoration-color: #7f7f7f\">              </span>\n",
       "<span style=\"color: #7fbfbf; text-decoration-color: #7fbfbf\">                    </span>         <span style=\"color: #008000; text-decoration-color: #008000\">\"d:\\Users\\ksbha\\miniconda3\\envs\\srcftbl\\Lib\\site-packages\\requests\\mode</span> <span style=\"color: #7f7f7f; text-decoration-color: #7f7f7f\">              </span>\n",
       "<span style=\"color: #7fbfbf; text-decoration-color: #7fbfbf\">                    </span>         <span style=\"color: #008000; text-decoration-color: #008000\">ls.py\"</span>, line <span style=\"color: #008080; text-decoration-color: #008080; font-weight: bold\">1021</span>, in raise_for_status                                  <span style=\"color: #7f7f7f; text-decoration-color: #7f7f7f\">              </span>\n",
       "<span style=\"color: #7fbfbf; text-decoration-color: #7fbfbf\">                    </span>             raise <span style=\"color: #800080; text-decoration-color: #800080; font-weight: bold\">HTTPError</span><span style=\"font-weight: bold\">(</span>http_error_msg, <span style=\"color: #808000; text-decoration-color: #808000\">response</span>=<span style=\"color: #800080; text-decoration-color: #800080\">self</span><span style=\"font-weight: bold\">)</span>                      <span style=\"color: #7f7f7f; text-decoration-color: #7f7f7f\">              </span>\n",
       "<span style=\"color: #7fbfbf; text-decoration-color: #7fbfbf\">                    </span>         requests.exceptions.HTTPError: <span style=\"color: #008080; text-decoration-color: #008080; font-weight: bold\">429</span> Client Error: Too Many Requests for  <span style=\"color: #7f7f7f; text-decoration-color: #7f7f7f\">              </span>\n",
       "<span style=\"color: #7fbfbf; text-decoration-color: #7fbfbf\">                    </span>         url: <span style=\"color: #0000ff; text-decoration-color: #0000ff; text-decoration: underline\">https://fbref.com/en/matches/3a6836b4</span>                              <span style=\"color: #7f7f7f; text-decoration-color: #7f7f7f\">              </span>\n",
       "</pre>\n"
      ],
      "text/plain": [
       "\u001b[2;36m[06/16/24 16:59:43]\u001b[0m\u001b[2;36m \u001b[0m\u001b[1;31mERROR   \u001b[0m Error while scraping \u001b[4;94mhttps://fbref.com/en/matches/3a6836b4.\u001b[0m Retrying\u001b[33m...\u001b[0m \u001b]8;id=97464;file://d:\\Users\\ksbha\\miniconda3\\envs\\srcftbl\\Lib\\site-packages\\soccerdata\\_common.py\u001b\\\u001b[2m_common.py\u001b[0m\u001b]8;;\u001b\\\u001b[2m:\u001b[0m\u001b]8;id=990706;file://d:\\Users\\ksbha\\miniconda3\\envs\\srcftbl\\Lib\\site-packages\\soccerdata\\_common.py#545\u001b\\\u001b[2m545\u001b[0m\u001b]8;;\u001b\\\n",
       "\u001b[2;36m                    \u001b[0m         \u001b[1m(\u001b[0mattempt \u001b[1;36m5\u001b[0m of \u001b[1;36m5\u001b[0m\u001b[1m)\u001b[0m.                                                       \u001b[2m              \u001b[0m\n",
       "\u001b[2;36m                    \u001b[0m         Traceback \u001b[1m(\u001b[0mmost recent call last\u001b[1m)\u001b[0m:                                      \u001b[2m              \u001b[0m\n",
       "\u001b[2;36m                    \u001b[0m           File                                                                  \u001b[2m              \u001b[0m\n",
       "\u001b[2;36m                    \u001b[0m         \u001b[32m\"d:\\Users\\ksbha\\miniconda3\\envs\\srcftbl\\Lib\\site-packages\\soccerdata\\_c\u001b[0m \u001b[2m              \u001b[0m\n",
       "\u001b[2;36m                    \u001b[0m         \u001b[32mommon.py\"\u001b[0m, line \u001b[1;36m525\u001b[0m, in _download_and_save                              \u001b[2m              \u001b[0m\n",
       "\u001b[2;36m                    \u001b[0m             \u001b[1;35mresponse.raise_for_status\u001b[0m\u001b[1m(\u001b[0m\u001b[1m)\u001b[0m                                         \u001b[2m              \u001b[0m\n",
       "\u001b[2;36m                    \u001b[0m           File                                                                  \u001b[2m              \u001b[0m\n",
       "\u001b[2;36m                    \u001b[0m         \u001b[32m\"d:\\Users\\ksbha\\miniconda3\\envs\\srcftbl\\Lib\\site-packages\\requests\\mode\u001b[0m \u001b[2m              \u001b[0m\n",
       "\u001b[2;36m                    \u001b[0m         \u001b[32mls.py\"\u001b[0m, line \u001b[1;36m1021\u001b[0m, in raise_for_status                                  \u001b[2m              \u001b[0m\n",
       "\u001b[2;36m                    \u001b[0m             raise \u001b[1;35mHTTPError\u001b[0m\u001b[1m(\u001b[0mhttp_error_msg, \u001b[33mresponse\u001b[0m=\u001b[35mself\u001b[0m\u001b[1m)\u001b[0m                      \u001b[2m              \u001b[0m\n",
       "\u001b[2;36m                    \u001b[0m         requests.exceptions.HTTPError: \u001b[1;36m429\u001b[0m Client Error: Too Many Requests for  \u001b[2m              \u001b[0m\n",
       "\u001b[2;36m                    \u001b[0m         url: \u001b[4;94mhttps://fbref.com/en/matches/3a6836b4\u001b[0m                              \u001b[2m              \u001b[0m\n"
      ]
     },
     "metadata": {},
     "output_type": "display_data"
    },
    {
     "ename": "ConnectionError",
     "evalue": "Could not download https://fbref.com/en/matches/3a6836b4.",
     "output_type": "error",
     "traceback": [
      "\u001b[1;31m---------------------------------------------------------------------------\u001b[0m",
      "\u001b[1;31mConnectionError\u001b[0m                           Traceback (most recent call last)",
      "Cell \u001b[1;32mIn[12], line 15\u001b[0m\n\u001b[0;32m     13\u001b[0m fbref_keeper \u001b[38;5;241m=\u001b[39m fbref\u001b[38;5;241m.\u001b[39mread_team_season_stats(stat_type\u001b[38;5;241m=\u001b[39m\u001b[38;5;124m'\u001b[39m\u001b[38;5;124mkeeper\u001b[39m\u001b[38;5;124m'\u001b[39m)\n\u001b[0;32m     14\u001b[0m fbref_schedule \u001b[38;5;241m=\u001b[39m fbref\u001b[38;5;241m.\u001b[39mread_schedule()\n\u001b[1;32m---> 15\u001b[0m fbref_lineups \u001b[38;5;241m=\u001b[39m \u001b[43mfbref\u001b[49m\u001b[38;5;241;43m.\u001b[39;49m\u001b[43mread_lineup\u001b[49m\u001b[43m(\u001b[49m\u001b[43m)\u001b[49m\n",
      "File \u001b[1;32md:\\Users\\ksbha\\miniconda3\\envs\\srcftbl\\Lib\\site-packages\\soccerdata\\fbref.py:912\u001b[0m, in \u001b[0;36mFBref.read_lineup\u001b[1;34m(self, match_id, force_cache)\u001b[0m\n\u001b[0;32m    905\u001b[0m logger\u001b[38;5;241m.\u001b[39minfo(\n\u001b[0;32m    906\u001b[0m     \u001b[38;5;124m\"\u001b[39m\u001b[38;5;124m[\u001b[39m\u001b[38;5;132;01m%s\u001b[39;00m\u001b[38;5;124m/\u001b[39m\u001b[38;5;132;01m%s\u001b[39;00m\u001b[38;5;124m] Retrieving game with id=\u001b[39m\u001b[38;5;132;01m%s\u001b[39;00m\u001b[38;5;124m\"\u001b[39m,\n\u001b[0;32m    907\u001b[0m     i \u001b[38;5;241m+\u001b[39m \u001b[38;5;241m1\u001b[39m,\n\u001b[0;32m    908\u001b[0m     \u001b[38;5;28mlen\u001b[39m(iterator),\n\u001b[0;32m    909\u001b[0m     game[\u001b[38;5;124m\"\u001b[39m\u001b[38;5;124mgame_id\u001b[39m\u001b[38;5;124m\"\u001b[39m],\n\u001b[0;32m    910\u001b[0m )\n\u001b[0;32m    911\u001b[0m filepath \u001b[38;5;241m=\u001b[39m \u001b[38;5;28mself\u001b[39m\u001b[38;5;241m.\u001b[39mdata_dir \u001b[38;5;241m/\u001b[39m filemask\u001b[38;5;241m.\u001b[39mformat(game[\u001b[38;5;124m\"\u001b[39m\u001b[38;5;124mgame_id\u001b[39m\u001b[38;5;124m\"\u001b[39m])\n\u001b[1;32m--> 912\u001b[0m reader \u001b[38;5;241m=\u001b[39m \u001b[38;5;28;43mself\u001b[39;49m\u001b[38;5;241;43m.\u001b[39;49m\u001b[43mget\u001b[49m\u001b[43m(\u001b[49m\u001b[43murl\u001b[49m\u001b[43m,\u001b[49m\u001b[43m \u001b[49m\u001b[43mfilepath\u001b[49m\u001b[43m)\u001b[49m\n\u001b[0;32m    913\u001b[0m tree \u001b[38;5;241m=\u001b[39m html\u001b[38;5;241m.\u001b[39mparse(reader)\n\u001b[0;32m    914\u001b[0m teams \u001b[38;5;241m=\u001b[39m \u001b[38;5;28mself\u001b[39m\u001b[38;5;241m.\u001b[39m_parse_teams(tree)\n",
      "File \u001b[1;32md:\\Users\\ksbha\\miniconda3\\envs\\srcftbl\\Lib\\site-packages\\soccerdata\\_common.py:306\u001b[0m, in \u001b[0;36mBaseReader.get\u001b[1;34m(self, url, filepath, max_age, no_cache, var)\u001b[0m\n\u001b[0;32m    304\u001b[0m \u001b[38;5;28;01mif\u001b[39;00m no_cache \u001b[38;5;129;01mor\u001b[39;00m \u001b[38;5;28mself\u001b[39m\u001b[38;5;241m.\u001b[39mno_cache \u001b[38;5;129;01mor\u001b[39;00m \u001b[38;5;129;01mnot\u001b[39;00m is_cached:\n\u001b[0;32m    305\u001b[0m     logger\u001b[38;5;241m.\u001b[39mdebug(\u001b[38;5;124m\"\u001b[39m\u001b[38;5;124mScraping \u001b[39m\u001b[38;5;132;01m%s\u001b[39;00m\u001b[38;5;124m\"\u001b[39m, url)\n\u001b[1;32m--> 306\u001b[0m     \u001b[38;5;28;01mreturn\u001b[39;00m \u001b[38;5;28;43mself\u001b[39;49m\u001b[38;5;241;43m.\u001b[39;49m\u001b[43m_download_and_save\u001b[49m\u001b[43m(\u001b[49m\u001b[43murl\u001b[49m\u001b[43m,\u001b[49m\u001b[43m \u001b[49m\u001b[43mfilepath\u001b[49m\u001b[43m,\u001b[49m\u001b[43m \u001b[49m\u001b[43mvar\u001b[49m\u001b[43m)\u001b[49m\n\u001b[0;32m    307\u001b[0m logger\u001b[38;5;241m.\u001b[39mdebug(\u001b[38;5;124m\"\u001b[39m\u001b[38;5;124mRetrieving \u001b[39m\u001b[38;5;132;01m%s\u001b[39;00m\u001b[38;5;124m from cache\u001b[39m\u001b[38;5;124m\"\u001b[39m, url)\n\u001b[0;32m    308\u001b[0m \u001b[38;5;28;01mif\u001b[39;00m filepath \u001b[38;5;129;01mis\u001b[39;00m \u001b[38;5;28;01mNone\u001b[39;00m:\n",
      "File \u001b[1;32md:\\Users\\ksbha\\miniconda3\\envs\\srcftbl\\Lib\\site-packages\\soccerdata\\_common.py:553\u001b[0m, in \u001b[0;36mBaseRequestsReader._download_and_save\u001b[1;34m(self, url, filepath, var)\u001b[0m\n\u001b[0;32m    550\u001b[0m         \u001b[38;5;28mself\u001b[39m\u001b[38;5;241m.\u001b[39m_session \u001b[38;5;241m=\u001b[39m \u001b[38;5;28mself\u001b[39m\u001b[38;5;241m.\u001b[39m_init_session()\n\u001b[0;32m    551\u001b[0m         \u001b[38;5;28;01mcontinue\u001b[39;00m\n\u001b[1;32m--> 553\u001b[0m \u001b[38;5;28;01mraise\u001b[39;00m \u001b[38;5;167;01mConnectionError\u001b[39;00m(\u001b[38;5;124mf\u001b[39m\u001b[38;5;124m\"\u001b[39m\u001b[38;5;124mCould not download \u001b[39m\u001b[38;5;132;01m{\u001b[39;00murl\u001b[38;5;132;01m}\u001b[39;00m\u001b[38;5;124m.\u001b[39m\u001b[38;5;124m\"\u001b[39m)\n",
      "\u001b[1;31mConnectionError\u001b[0m: Could not download https://fbref.com/en/matches/3a6836b4."
     ]
    }
   ],
   "source": [
    "fbref = sd.FBref(leagues=['ENG-Premier League', 'GER-Bundesliga', \"ESP-La Liga\",\n",
    "                          'ITA-Serie A', 'FRA-Ligue 1'], seasons=[\"2324\"], no_cache=False)\n",
    "# fbref = sd.FBref(leagues=[\"FRA-Ligue 1\"], seasons=[\"2324\"], no_cache=True)\n",
    "fbref_team_standard = fbref.read_team_season_stats(stat_type='standard')\n",
    "fbref_team_standard_oppo = fbref.read_team_season_stats(stat_type='standard', opponent_stats=True)\n",
    "fbref_team_shooting = fbref.read_team_season_stats(stat_type='shooting')\n",
    "fbref_team_shooting_oppo = fbref.read_team_season_stats(stat_type='shooting', opponent_stats=True)\n",
    "fbref_team_passing = fbref.read_team_season_stats(stat_type='passing')\n",
    "fbref_team_passing_oppo = fbref.read_team_season_stats(stat_type='passing', opponent_stats=True)\n",
    "fbref_team_defense = fbref.read_team_season_stats(stat_type='defense')\n",
    "fbref_team_possession = fbref.read_team_season_stats(stat_type='possession')\n",
    "fbref_team_misc = fbref.read_team_season_stats(stat_type='misc')\n",
    "fbref_keeper = fbref.read_team_season_stats(stat_type='keeper')\n",
    "fbref_schedule = fbref.read_schedule()\n",
    "fbref_lineups = fbref.read_lineup()"
   ]
  },
  {
   "cell_type": "code",
   "execution_count": 9,
   "metadata": {},
   "outputs": [],
   "source": [
    "fbref_schedule.loc[fbref_schedule['home_team'] == 'Milan', 'home_team'] = 'AC Milan'\n",
    "fbref_schedule.loc[fbref_schedule['away_team'] == 'Milan', 'away_team'] = 'AC Milan'"
   ]
  },
  {
   "cell_type": "code",
   "execution_count": 23,
   "metadata": {},
   "outputs": [
    {
     "data": {
      "text/html": [
       "<div>\n",
       "<style scoped>\n",
       "    .dataframe tbody tr th:only-of-type {\n",
       "        vertical-align: middle;\n",
       "    }\n",
       "\n",
       "    .dataframe tbody tr th {\n",
       "        vertical-align: top;\n",
       "    }\n",
       "\n",
       "    .dataframe thead th {\n",
       "        text-align: right;\n",
       "    }\n",
       "</style>\n",
       "<table border=\"1\" class=\"dataframe\">\n",
       "  <thead>\n",
       "    <tr style=\"text-align: right;\">\n",
       "      <th></th>\n",
       "      <th></th>\n",
       "      <th></th>\n",
       "      <th>week</th>\n",
       "      <th>day</th>\n",
       "      <th>date</th>\n",
       "      <th>time</th>\n",
       "      <th>home_team</th>\n",
       "      <th>home_xg</th>\n",
       "      <th>score</th>\n",
       "      <th>away_xg</th>\n",
       "      <th>away_team</th>\n",
       "      <th>attendance</th>\n",
       "      <th>venue</th>\n",
       "      <th>referee</th>\n",
       "      <th>match_report</th>\n",
       "      <th>notes</th>\n",
       "      <th>round</th>\n",
       "      <th>game_id</th>\n",
       "    </tr>\n",
       "    <tr>\n",
       "      <th>league</th>\n",
       "      <th>season</th>\n",
       "      <th>game</th>\n",
       "      <th></th>\n",
       "      <th></th>\n",
       "      <th></th>\n",
       "      <th></th>\n",
       "      <th></th>\n",
       "      <th></th>\n",
       "      <th></th>\n",
       "      <th></th>\n",
       "      <th></th>\n",
       "      <th></th>\n",
       "      <th></th>\n",
       "      <th></th>\n",
       "      <th></th>\n",
       "      <th></th>\n",
       "      <th></th>\n",
       "      <th></th>\n",
       "    </tr>\n",
       "  </thead>\n",
       "  <tbody>\n",
       "    <tr>\n",
       "      <th rowspan=\"19\" valign=\"top\">ITA-Serie A</th>\n",
       "      <th rowspan=\"19\" valign=\"top\">2324</th>\n",
       "      <th>2023-09-02 Atalanta-Monza</th>\n",
       "      <td>3</td>\n",
       "      <td>Sat</td>\n",
       "      <td>2023-09-02</td>\n",
       "      <td>20:45</td>\n",
       "      <td>Atalanta</td>\n",
       "      <td>1.3</td>\n",
       "      <td>3–0</td>\n",
       "      <td>0.4</td>\n",
       "      <td>Monza</td>\n",
       "      <td>14985</td>\n",
       "      <td>Gewiss Stadium</td>\n",
       "      <td>Matteo Marcenaro</td>\n",
       "      <td>/en/matches/6e72c38b/Atalanta-Monza-September-...</td>\n",
       "      <td>&lt;NA&gt;</td>\n",
       "      <td>&lt;NA&gt;</td>\n",
       "      <td>6e72c38b</td>\n",
       "    </tr>\n",
       "    <tr>\n",
       "      <th>2023-09-24 Atalanta-Cagliari</th>\n",
       "      <td>5</td>\n",
       "      <td>Sun</td>\n",
       "      <td>2023-09-24</td>\n",
       "      <td>15:00</td>\n",
       "      <td>Atalanta</td>\n",
       "      <td>1.7</td>\n",
       "      <td>2–0</td>\n",
       "      <td>0.8</td>\n",
       "      <td>Cagliari</td>\n",
       "      <td>14739</td>\n",
       "      <td>Gewiss Stadium</td>\n",
       "      <td>Ermanno Feliciani</td>\n",
       "      <td>/en/matches/915c6bb6/Atalanta-Cagliari-Septemb...</td>\n",
       "      <td>&lt;NA&gt;</td>\n",
       "      <td>&lt;NA&gt;</td>\n",
       "      <td>915c6bb6</td>\n",
       "    </tr>\n",
       "    <tr>\n",
       "      <th>2023-10-01 Atalanta-Juventus</th>\n",
       "      <td>7</td>\n",
       "      <td>Sun</td>\n",
       "      <td>2023-10-01</td>\n",
       "      <td>18:00</td>\n",
       "      <td>Atalanta</td>\n",
       "      <td>1.2</td>\n",
       "      <td>0–0</td>\n",
       "      <td>0.2</td>\n",
       "      <td>Juventus</td>\n",
       "      <td>14811</td>\n",
       "      <td>Gewiss Stadium</td>\n",
       "      <td>Daniele Chiffi</td>\n",
       "      <td>/en/matches/13a50e02/Atalanta-Juventus-October...</td>\n",
       "      <td>&lt;NA&gt;</td>\n",
       "      <td>&lt;NA&gt;</td>\n",
       "      <td>13a50e02</td>\n",
       "    </tr>\n",
       "    <tr>\n",
       "      <th>2023-10-22 Atalanta-Genoa</th>\n",
       "      <td>9</td>\n",
       "      <td>Sun</td>\n",
       "      <td>2023-10-22</td>\n",
       "      <td>18:00</td>\n",
       "      <td>Atalanta</td>\n",
       "      <td>1.2</td>\n",
       "      <td>2–0</td>\n",
       "      <td>1.0</td>\n",
       "      <td>Genoa</td>\n",
       "      <td>14848</td>\n",
       "      <td>Gewiss Stadium</td>\n",
       "      <td>Livio Marinelli</td>\n",
       "      <td>/en/matches/045aca2a/Atalanta-Genoa-October-22...</td>\n",
       "      <td>&lt;NA&gt;</td>\n",
       "      <td>&lt;NA&gt;</td>\n",
       "      <td>045aca2a</td>\n",
       "    </tr>\n",
       "    <tr>\n",
       "      <th>2023-11-04 Atalanta-Inter</th>\n",
       "      <td>11</td>\n",
       "      <td>Sat</td>\n",
       "      <td>2023-11-04</td>\n",
       "      <td>18:00</td>\n",
       "      <td>Atalanta</td>\n",
       "      <td>1.0</td>\n",
       "      <td>1–2</td>\n",
       "      <td>1.3</td>\n",
       "      <td>Inter</td>\n",
       "      <td>14945</td>\n",
       "      <td>Gewiss Stadium</td>\n",
       "      <td>Simone Sozza</td>\n",
       "      <td>/en/matches/c8fcbfaf/Atalanta-Internazionale-N...</td>\n",
       "      <td>&lt;NA&gt;</td>\n",
       "      <td>&lt;NA&gt;</td>\n",
       "      <td>c8fcbfaf</td>\n",
       "    </tr>\n",
       "    <tr>\n",
       "      <th>2023-11-25 Atalanta-Napoli</th>\n",
       "      <td>13</td>\n",
       "      <td>Sat</td>\n",
       "      <td>2023-11-25</td>\n",
       "      <td>18:00</td>\n",
       "      <td>Atalanta</td>\n",
       "      <td>1.0</td>\n",
       "      <td>1–2</td>\n",
       "      <td>2.0</td>\n",
       "      <td>Napoli</td>\n",
       "      <td>14743</td>\n",
       "      <td>Gewiss Stadium</td>\n",
       "      <td>Maurizio Mariani</td>\n",
       "      <td>/en/matches/67af3925/Atalanta-Napoli-November-...</td>\n",
       "      <td>&lt;NA&gt;</td>\n",
       "      <td>&lt;NA&gt;</td>\n",
       "      <td>67af3925</td>\n",
       "    </tr>\n",
       "    <tr>\n",
       "      <th>2023-12-09 Atalanta-Milan</th>\n",
       "      <td>15</td>\n",
       "      <td>Sat</td>\n",
       "      <td>2023-12-09</td>\n",
       "      <td>18:00</td>\n",
       "      <td>Atalanta</td>\n",
       "      <td>3.3</td>\n",
       "      <td>3–2</td>\n",
       "      <td>1.5</td>\n",
       "      <td>AC Milan</td>\n",
       "      <td>14907</td>\n",
       "      <td>Gewiss Stadium</td>\n",
       "      <td>Federico La Penna</td>\n",
       "      <td>/en/matches/0c234040/Atalanta-Milan-December-9...</td>\n",
       "      <td>&lt;NA&gt;</td>\n",
       "      <td>&lt;NA&gt;</td>\n",
       "      <td>0c234040</td>\n",
       "    </tr>\n",
       "    <tr>\n",
       "      <th>2023-12-18 Atalanta-Salernitana</th>\n",
       "      <td>16</td>\n",
       "      <td>Mon</td>\n",
       "      <td>2023-12-18</td>\n",
       "      <td>20:45</td>\n",
       "      <td>Atalanta</td>\n",
       "      <td>1.9</td>\n",
       "      <td>4–1</td>\n",
       "      <td>1.3</td>\n",
       "      <td>Salernitana</td>\n",
       "      <td>14264</td>\n",
       "      <td>Gewiss Stadium</td>\n",
       "      <td>Ermanno Feliciani</td>\n",
       "      <td>/en/matches/09971293/Atalanta-Salernitana-Dece...</td>\n",
       "      <td>&lt;NA&gt;</td>\n",
       "      <td>&lt;NA&gt;</td>\n",
       "      <td>09971293</td>\n",
       "    </tr>\n",
       "    <tr>\n",
       "      <th>2023-12-30 Atalanta-Lecce</th>\n",
       "      <td>18</td>\n",
       "      <td>Sat</td>\n",
       "      <td>2023-12-30</td>\n",
       "      <td>12:30</td>\n",
       "      <td>Atalanta</td>\n",
       "      <td>1.1</td>\n",
       "      <td>1–0</td>\n",
       "      <td>1.2</td>\n",
       "      <td>Lecce</td>\n",
       "      <td>14864</td>\n",
       "      <td>Gewiss Stadium</td>\n",
       "      <td>Gianluca Manganiello</td>\n",
       "      <td>/en/matches/65cf973f/Atalanta-Lecce-December-3...</td>\n",
       "      <td>&lt;NA&gt;</td>\n",
       "      <td>&lt;NA&gt;</td>\n",
       "      <td>65cf973f</td>\n",
       "    </tr>\n",
       "    <tr>\n",
       "      <th>2024-01-15 Atalanta-Frosinone</th>\n",
       "      <td>20</td>\n",
       "      <td>Mon</td>\n",
       "      <td>2024-01-15</td>\n",
       "      <td>20:45</td>\n",
       "      <td>Atalanta</td>\n",
       "      <td>3.7</td>\n",
       "      <td>5–0</td>\n",
       "      <td>0.4</td>\n",
       "      <td>Frosinone</td>\n",
       "      <td>14195</td>\n",
       "      <td>Gewiss Stadium</td>\n",
       "      <td>Alessandro Prontera</td>\n",
       "      <td>/en/matches/fb9c9cdb/Atalanta-Frosinone-Januar...</td>\n",
       "      <td>&lt;NA&gt;</td>\n",
       "      <td>&lt;NA&gt;</td>\n",
       "      <td>fb9c9cdb</td>\n",
       "    </tr>\n",
       "    <tr>\n",
       "      <th>2024-01-27 Atalanta-Udinese</th>\n",
       "      <td>22</td>\n",
       "      <td>Sat</td>\n",
       "      <td>2024-01-27</td>\n",
       "      <td>15:00</td>\n",
       "      <td>Atalanta</td>\n",
       "      <td>1.1</td>\n",
       "      <td>2–0</td>\n",
       "      <td>0.6</td>\n",
       "      <td>Udinese</td>\n",
       "      <td>14716</td>\n",
       "      <td>Gewiss Stadium</td>\n",
       "      <td>Marco Piccinini</td>\n",
       "      <td>/en/matches/8d8d45e1/Atalanta-Udinese-January-...</td>\n",
       "      <td>&lt;NA&gt;</td>\n",
       "      <td>&lt;NA&gt;</td>\n",
       "      <td>8d8d45e1</td>\n",
       "    </tr>\n",
       "    <tr>\n",
       "      <th>2024-02-04 Atalanta-Lazio</th>\n",
       "      <td>23</td>\n",
       "      <td>Sun</td>\n",
       "      <td>2024-02-04</td>\n",
       "      <td>18:00</td>\n",
       "      <td>Atalanta</td>\n",
       "      <td>2.3</td>\n",
       "      <td>3–1</td>\n",
       "      <td>1.2</td>\n",
       "      <td>Lazio</td>\n",
       "      <td>14492</td>\n",
       "      <td>Gewiss Stadium</td>\n",
       "      <td>Marco Guida</td>\n",
       "      <td>/en/matches/839bed1a/Atalanta-Lazio-February-4...</td>\n",
       "      <td>&lt;NA&gt;</td>\n",
       "      <td>&lt;NA&gt;</td>\n",
       "      <td>839bed1a</td>\n",
       "    </tr>\n",
       "    <tr>\n",
       "      <th>2024-02-17 Atalanta-Sassuolo</th>\n",
       "      <td>25</td>\n",
       "      <td>Sat</td>\n",
       "      <td>2024-02-17</td>\n",
       "      <td>20:45</td>\n",
       "      <td>Atalanta</td>\n",
       "      <td>4.2</td>\n",
       "      <td>3–0</td>\n",
       "      <td>1.6</td>\n",
       "      <td>Sassuolo</td>\n",
       "      <td>14474</td>\n",
       "      <td>Gewiss Stadium</td>\n",
       "      <td>Alessandro Prontera</td>\n",
       "      <td>/en/matches/1e203a3e/Atalanta-Sassuolo-Februar...</td>\n",
       "      <td>&lt;NA&gt;</td>\n",
       "      <td>&lt;NA&gt;</td>\n",
       "      <td>1e203a3e</td>\n",
       "    </tr>\n",
       "    <tr>\n",
       "      <th>2024-03-03 Atalanta-Bologna</th>\n",
       "      <td>27</td>\n",
       "      <td>Sun</td>\n",
       "      <td>2024-03-03</td>\n",
       "      <td>18:00</td>\n",
       "      <td>Atalanta</td>\n",
       "      <td>1.4</td>\n",
       "      <td>1–2</td>\n",
       "      <td>1.3</td>\n",
       "      <td>Bologna</td>\n",
       "      <td>14931</td>\n",
       "      <td>Gewiss Stadium</td>\n",
       "      <td>Federico La Penna</td>\n",
       "      <td>/en/matches/27aab55a/Atalanta-Bologna-March-3-...</td>\n",
       "      <td>&lt;NA&gt;</td>\n",
       "      <td>&lt;NA&gt;</td>\n",
       "      <td>27aab55a</td>\n",
       "    </tr>\n",
       "    <tr>\n",
       "      <th>2024-04-15 Atalanta-Hellas Verona</th>\n",
       "      <td>32</td>\n",
       "      <td>Mon</td>\n",
       "      <td>2024-04-15</td>\n",
       "      <td>20:45</td>\n",
       "      <td>Atalanta</td>\n",
       "      <td>1.5</td>\n",
       "      <td>2–2</td>\n",
       "      <td>1.5</td>\n",
       "      <td>Hellas Verona</td>\n",
       "      <td>14666</td>\n",
       "      <td>Gewiss Stadium</td>\n",
       "      <td>Juan Sacchi</td>\n",
       "      <td>/en/matches/6a69ffd2/Atalanta-Hellas-Verona-Ap...</td>\n",
       "      <td>&lt;NA&gt;</td>\n",
       "      <td>&lt;NA&gt;</td>\n",
       "      <td>6a69ffd2</td>\n",
       "    </tr>\n",
       "    <tr>\n",
       "      <th>2024-04-28 Atalanta-Empoli</th>\n",
       "      <td>34</td>\n",
       "      <td>Sun</td>\n",
       "      <td>2024-04-28</td>\n",
       "      <td>18:00</td>\n",
       "      <td>Atalanta</td>\n",
       "      <td>1.9</td>\n",
       "      <td>2–0</td>\n",
       "      <td>0.4</td>\n",
       "      <td>Empoli</td>\n",
       "      <td>14614</td>\n",
       "      <td>Gewiss Stadium</td>\n",
       "      <td>Michael Fabbri</td>\n",
       "      <td>/en/matches/526fed3e/Atalanta-Empoli-April-28-...</td>\n",
       "      <td>&lt;NA&gt;</td>\n",
       "      <td>&lt;NA&gt;</td>\n",
       "      <td>526fed3e</td>\n",
       "    </tr>\n",
       "    <tr>\n",
       "      <th>2024-05-12 Atalanta-Roma</th>\n",
       "      <td>36</td>\n",
       "      <td>Sun</td>\n",
       "      <td>2024-05-12</td>\n",
       "      <td>20:45</td>\n",
       "      <td>Atalanta</td>\n",
       "      <td>2.7</td>\n",
       "      <td>2–1</td>\n",
       "      <td>1.2</td>\n",
       "      <td>Roma</td>\n",
       "      <td>14895</td>\n",
       "      <td>Gewiss Stadium</td>\n",
       "      <td>Marco Guida</td>\n",
       "      <td>/en/matches/9eba4ff1/Atalanta-Roma-May-12-2024...</td>\n",
       "      <td>&lt;NA&gt;</td>\n",
       "      <td>&lt;NA&gt;</td>\n",
       "      <td>9eba4ff1</td>\n",
       "    </tr>\n",
       "    <tr>\n",
       "      <th>2024-05-26 Atalanta-Torino</th>\n",
       "      <td>38</td>\n",
       "      <td>Sun</td>\n",
       "      <td>2024-05-26</td>\n",
       "      <td>18:00</td>\n",
       "      <td>Atalanta</td>\n",
       "      <td>2.6</td>\n",
       "      <td>3–0</td>\n",
       "      <td>1.1</td>\n",
       "      <td>Torino</td>\n",
       "      <td>14839</td>\n",
       "      <td>Gewiss Stadium</td>\n",
       "      <td>Simone Sozza</td>\n",
       "      <td>/en/matches/a2652733/Atalanta-Torino-May-26-20...</td>\n",
       "      <td>&lt;NA&gt;</td>\n",
       "      <td>&lt;NA&gt;</td>\n",
       "      <td>a2652733</td>\n",
       "    </tr>\n",
       "    <tr>\n",
       "      <th>2024-06-02 Atalanta-Fiorentina</th>\n",
       "      <td>29</td>\n",
       "      <td>Sun</td>\n",
       "      <td>2024-06-02</td>\n",
       "      <td>18:00</td>\n",
       "      <td>Atalanta</td>\n",
       "      <td>&lt;NA&gt;</td>\n",
       "      <td>&lt;NA&gt;</td>\n",
       "      <td>&lt;NA&gt;</td>\n",
       "      <td>Fiorentina</td>\n",
       "      <td>&lt;NA&gt;</td>\n",
       "      <td>Gewiss Stadium</td>\n",
       "      <td>&lt;NA&gt;</td>\n",
       "      <td>None</td>\n",
       "      <td>&lt;NA&gt;</td>\n",
       "      <td>&lt;NA&gt;</td>\n",
       "      <td>NaN</td>\n",
       "    </tr>\n",
       "  </tbody>\n",
       "</table>\n",
       "</div>"
      ],
      "text/plain": [
       "                                                      week  day       date  \\\n",
       "league      season game                                                      \n",
       "ITA-Serie A 2324   2023-09-02 Atalanta-Monza             3  Sat 2023-09-02   \n",
       "                   2023-09-24 Atalanta-Cagliari          5  Sun 2023-09-24   \n",
       "                   2023-10-01 Atalanta-Juventus          7  Sun 2023-10-01   \n",
       "                   2023-10-22 Atalanta-Genoa             9  Sun 2023-10-22   \n",
       "                   2023-11-04 Atalanta-Inter            11  Sat 2023-11-04   \n",
       "                   2023-11-25 Atalanta-Napoli           13  Sat 2023-11-25   \n",
       "                   2023-12-09 Atalanta-Milan            15  Sat 2023-12-09   \n",
       "                   2023-12-18 Atalanta-Salernitana      16  Mon 2023-12-18   \n",
       "                   2023-12-30 Atalanta-Lecce            18  Sat 2023-12-30   \n",
       "                   2024-01-15 Atalanta-Frosinone        20  Mon 2024-01-15   \n",
       "                   2024-01-27 Atalanta-Udinese          22  Sat 2024-01-27   \n",
       "                   2024-02-04 Atalanta-Lazio            23  Sun 2024-02-04   \n",
       "                   2024-02-17 Atalanta-Sassuolo         25  Sat 2024-02-17   \n",
       "                   2024-03-03 Atalanta-Bologna          27  Sun 2024-03-03   \n",
       "                   2024-04-15 Atalanta-Hellas Verona    32  Mon 2024-04-15   \n",
       "                   2024-04-28 Atalanta-Empoli           34  Sun 2024-04-28   \n",
       "                   2024-05-12 Atalanta-Roma             36  Sun 2024-05-12   \n",
       "                   2024-05-26 Atalanta-Torino           38  Sun 2024-05-26   \n",
       "                   2024-06-02 Atalanta-Fiorentina       29  Sun 2024-06-02   \n",
       "\n",
       "                                                       time home_team  \\\n",
       "league      season game                                                 \n",
       "ITA-Serie A 2324   2023-09-02 Atalanta-Monza          20:45  Atalanta   \n",
       "                   2023-09-24 Atalanta-Cagliari       15:00  Atalanta   \n",
       "                   2023-10-01 Atalanta-Juventus       18:00  Atalanta   \n",
       "                   2023-10-22 Atalanta-Genoa          18:00  Atalanta   \n",
       "                   2023-11-04 Atalanta-Inter          18:00  Atalanta   \n",
       "                   2023-11-25 Atalanta-Napoli         18:00  Atalanta   \n",
       "                   2023-12-09 Atalanta-Milan          18:00  Atalanta   \n",
       "                   2023-12-18 Atalanta-Salernitana    20:45  Atalanta   \n",
       "                   2023-12-30 Atalanta-Lecce          12:30  Atalanta   \n",
       "                   2024-01-15 Atalanta-Frosinone      20:45  Atalanta   \n",
       "                   2024-01-27 Atalanta-Udinese        15:00  Atalanta   \n",
       "                   2024-02-04 Atalanta-Lazio          18:00  Atalanta   \n",
       "                   2024-02-17 Atalanta-Sassuolo       20:45  Atalanta   \n",
       "                   2024-03-03 Atalanta-Bologna        18:00  Atalanta   \n",
       "                   2024-04-15 Atalanta-Hellas Verona  20:45  Atalanta   \n",
       "                   2024-04-28 Atalanta-Empoli         18:00  Atalanta   \n",
       "                   2024-05-12 Atalanta-Roma           20:45  Atalanta   \n",
       "                   2024-05-26 Atalanta-Torino         18:00  Atalanta   \n",
       "                   2024-06-02 Atalanta-Fiorentina     18:00  Atalanta   \n",
       "\n",
       "                                                      home_xg score  away_xg  \\\n",
       "league      season game                                                        \n",
       "ITA-Serie A 2324   2023-09-02 Atalanta-Monza              1.3   3–0      0.4   \n",
       "                   2023-09-24 Atalanta-Cagliari           1.7   2–0      0.8   \n",
       "                   2023-10-01 Atalanta-Juventus           1.2   0–0      0.2   \n",
       "                   2023-10-22 Atalanta-Genoa              1.2   2–0      1.0   \n",
       "                   2023-11-04 Atalanta-Inter              1.0   1–2      1.3   \n",
       "                   2023-11-25 Atalanta-Napoli             1.0   1–2      2.0   \n",
       "                   2023-12-09 Atalanta-Milan              3.3   3–2      1.5   \n",
       "                   2023-12-18 Atalanta-Salernitana        1.9   4–1      1.3   \n",
       "                   2023-12-30 Atalanta-Lecce              1.1   1–0      1.2   \n",
       "                   2024-01-15 Atalanta-Frosinone          3.7   5–0      0.4   \n",
       "                   2024-01-27 Atalanta-Udinese            1.1   2–0      0.6   \n",
       "                   2024-02-04 Atalanta-Lazio              2.3   3–1      1.2   \n",
       "                   2024-02-17 Atalanta-Sassuolo           4.2   3–0      1.6   \n",
       "                   2024-03-03 Atalanta-Bologna            1.4   1–2      1.3   \n",
       "                   2024-04-15 Atalanta-Hellas Verona      1.5   2–2      1.5   \n",
       "                   2024-04-28 Atalanta-Empoli             1.9   2–0      0.4   \n",
       "                   2024-05-12 Atalanta-Roma               2.7   2–1      1.2   \n",
       "                   2024-05-26 Atalanta-Torino             2.6   3–0      1.1   \n",
       "                   2024-06-02 Atalanta-Fiorentina        <NA>  <NA>     <NA>   \n",
       "\n",
       "                                                          away_team  \\\n",
       "league      season game                                               \n",
       "ITA-Serie A 2324   2023-09-02 Atalanta-Monza                  Monza   \n",
       "                   2023-09-24 Atalanta-Cagliari            Cagliari   \n",
       "                   2023-10-01 Atalanta-Juventus            Juventus   \n",
       "                   2023-10-22 Atalanta-Genoa                  Genoa   \n",
       "                   2023-11-04 Atalanta-Inter                  Inter   \n",
       "                   2023-11-25 Atalanta-Napoli                Napoli   \n",
       "                   2023-12-09 Atalanta-Milan               AC Milan   \n",
       "                   2023-12-18 Atalanta-Salernitana      Salernitana   \n",
       "                   2023-12-30 Atalanta-Lecce                  Lecce   \n",
       "                   2024-01-15 Atalanta-Frosinone          Frosinone   \n",
       "                   2024-01-27 Atalanta-Udinese              Udinese   \n",
       "                   2024-02-04 Atalanta-Lazio                  Lazio   \n",
       "                   2024-02-17 Atalanta-Sassuolo            Sassuolo   \n",
       "                   2024-03-03 Atalanta-Bologna              Bologna   \n",
       "                   2024-04-15 Atalanta-Hellas Verona  Hellas Verona   \n",
       "                   2024-04-28 Atalanta-Empoli                Empoli   \n",
       "                   2024-05-12 Atalanta-Roma                    Roma   \n",
       "                   2024-05-26 Atalanta-Torino                Torino   \n",
       "                   2024-06-02 Atalanta-Fiorentina        Fiorentina   \n",
       "\n",
       "                                                      attendance  \\\n",
       "league      season game                                            \n",
       "ITA-Serie A 2324   2023-09-02 Atalanta-Monza               14985   \n",
       "                   2023-09-24 Atalanta-Cagliari            14739   \n",
       "                   2023-10-01 Atalanta-Juventus            14811   \n",
       "                   2023-10-22 Atalanta-Genoa               14848   \n",
       "                   2023-11-04 Atalanta-Inter               14945   \n",
       "                   2023-11-25 Atalanta-Napoli              14743   \n",
       "                   2023-12-09 Atalanta-Milan               14907   \n",
       "                   2023-12-18 Atalanta-Salernitana         14264   \n",
       "                   2023-12-30 Atalanta-Lecce               14864   \n",
       "                   2024-01-15 Atalanta-Frosinone           14195   \n",
       "                   2024-01-27 Atalanta-Udinese             14716   \n",
       "                   2024-02-04 Atalanta-Lazio               14492   \n",
       "                   2024-02-17 Atalanta-Sassuolo            14474   \n",
       "                   2024-03-03 Atalanta-Bologna             14931   \n",
       "                   2024-04-15 Atalanta-Hellas Verona       14666   \n",
       "                   2024-04-28 Atalanta-Empoli              14614   \n",
       "                   2024-05-12 Atalanta-Roma                14895   \n",
       "                   2024-05-26 Atalanta-Torino              14839   \n",
       "                   2024-06-02 Atalanta-Fiorentina           <NA>   \n",
       "\n",
       "                                                               venue  \\\n",
       "league      season game                                                \n",
       "ITA-Serie A 2324   2023-09-02 Atalanta-Monza          Gewiss Stadium   \n",
       "                   2023-09-24 Atalanta-Cagliari       Gewiss Stadium   \n",
       "                   2023-10-01 Atalanta-Juventus       Gewiss Stadium   \n",
       "                   2023-10-22 Atalanta-Genoa          Gewiss Stadium   \n",
       "                   2023-11-04 Atalanta-Inter          Gewiss Stadium   \n",
       "                   2023-11-25 Atalanta-Napoli         Gewiss Stadium   \n",
       "                   2023-12-09 Atalanta-Milan          Gewiss Stadium   \n",
       "                   2023-12-18 Atalanta-Salernitana    Gewiss Stadium   \n",
       "                   2023-12-30 Atalanta-Lecce          Gewiss Stadium   \n",
       "                   2024-01-15 Atalanta-Frosinone      Gewiss Stadium   \n",
       "                   2024-01-27 Atalanta-Udinese        Gewiss Stadium   \n",
       "                   2024-02-04 Atalanta-Lazio          Gewiss Stadium   \n",
       "                   2024-02-17 Atalanta-Sassuolo       Gewiss Stadium   \n",
       "                   2024-03-03 Atalanta-Bologna        Gewiss Stadium   \n",
       "                   2024-04-15 Atalanta-Hellas Verona  Gewiss Stadium   \n",
       "                   2024-04-28 Atalanta-Empoli         Gewiss Stadium   \n",
       "                   2024-05-12 Atalanta-Roma           Gewiss Stadium   \n",
       "                   2024-05-26 Atalanta-Torino         Gewiss Stadium   \n",
       "                   2024-06-02 Atalanta-Fiorentina     Gewiss Stadium   \n",
       "\n",
       "                                                                   referee  \\\n",
       "league      season game                                                      \n",
       "ITA-Serie A 2324   2023-09-02 Atalanta-Monza              Matteo Marcenaro   \n",
       "                   2023-09-24 Atalanta-Cagliari          Ermanno Feliciani   \n",
       "                   2023-10-01 Atalanta-Juventus             Daniele Chiffi   \n",
       "                   2023-10-22 Atalanta-Genoa               Livio Marinelli   \n",
       "                   2023-11-04 Atalanta-Inter                  Simone Sozza   \n",
       "                   2023-11-25 Atalanta-Napoli             Maurizio Mariani   \n",
       "                   2023-12-09 Atalanta-Milan             Federico La Penna   \n",
       "                   2023-12-18 Atalanta-Salernitana       Ermanno Feliciani   \n",
       "                   2023-12-30 Atalanta-Lecce          Gianluca Manganiello   \n",
       "                   2024-01-15 Atalanta-Frosinone       Alessandro Prontera   \n",
       "                   2024-01-27 Atalanta-Udinese             Marco Piccinini   \n",
       "                   2024-02-04 Atalanta-Lazio                   Marco Guida   \n",
       "                   2024-02-17 Atalanta-Sassuolo        Alessandro Prontera   \n",
       "                   2024-03-03 Atalanta-Bologna           Federico La Penna   \n",
       "                   2024-04-15 Atalanta-Hellas Verona           Juan Sacchi   \n",
       "                   2024-04-28 Atalanta-Empoli               Michael Fabbri   \n",
       "                   2024-05-12 Atalanta-Roma                    Marco Guida   \n",
       "                   2024-05-26 Atalanta-Torino                 Simone Sozza   \n",
       "                   2024-06-02 Atalanta-Fiorentina                     <NA>   \n",
       "\n",
       "                                                                                           match_report  \\\n",
       "league      season game                                                                                   \n",
       "ITA-Serie A 2324   2023-09-02 Atalanta-Monza          /en/matches/6e72c38b/Atalanta-Monza-September-...   \n",
       "                   2023-09-24 Atalanta-Cagliari       /en/matches/915c6bb6/Atalanta-Cagliari-Septemb...   \n",
       "                   2023-10-01 Atalanta-Juventus       /en/matches/13a50e02/Atalanta-Juventus-October...   \n",
       "                   2023-10-22 Atalanta-Genoa          /en/matches/045aca2a/Atalanta-Genoa-October-22...   \n",
       "                   2023-11-04 Atalanta-Inter          /en/matches/c8fcbfaf/Atalanta-Internazionale-N...   \n",
       "                   2023-11-25 Atalanta-Napoli         /en/matches/67af3925/Atalanta-Napoli-November-...   \n",
       "                   2023-12-09 Atalanta-Milan          /en/matches/0c234040/Atalanta-Milan-December-9...   \n",
       "                   2023-12-18 Atalanta-Salernitana    /en/matches/09971293/Atalanta-Salernitana-Dece...   \n",
       "                   2023-12-30 Atalanta-Lecce          /en/matches/65cf973f/Atalanta-Lecce-December-3...   \n",
       "                   2024-01-15 Atalanta-Frosinone      /en/matches/fb9c9cdb/Atalanta-Frosinone-Januar...   \n",
       "                   2024-01-27 Atalanta-Udinese        /en/matches/8d8d45e1/Atalanta-Udinese-January-...   \n",
       "                   2024-02-04 Atalanta-Lazio          /en/matches/839bed1a/Atalanta-Lazio-February-4...   \n",
       "                   2024-02-17 Atalanta-Sassuolo       /en/matches/1e203a3e/Atalanta-Sassuolo-Februar...   \n",
       "                   2024-03-03 Atalanta-Bologna        /en/matches/27aab55a/Atalanta-Bologna-March-3-...   \n",
       "                   2024-04-15 Atalanta-Hellas Verona  /en/matches/6a69ffd2/Atalanta-Hellas-Verona-Ap...   \n",
       "                   2024-04-28 Atalanta-Empoli         /en/matches/526fed3e/Atalanta-Empoli-April-28-...   \n",
       "                   2024-05-12 Atalanta-Roma           /en/matches/9eba4ff1/Atalanta-Roma-May-12-2024...   \n",
       "                   2024-05-26 Atalanta-Torino         /en/matches/a2652733/Atalanta-Torino-May-26-20...   \n",
       "                   2024-06-02 Atalanta-Fiorentina                                                  None   \n",
       "\n",
       "                                                     notes round   game_id  \n",
       "league      season game                                                     \n",
       "ITA-Serie A 2324   2023-09-02 Atalanta-Monza          <NA>  <NA>  6e72c38b  \n",
       "                   2023-09-24 Atalanta-Cagliari       <NA>  <NA>  915c6bb6  \n",
       "                   2023-10-01 Atalanta-Juventus       <NA>  <NA>  13a50e02  \n",
       "                   2023-10-22 Atalanta-Genoa          <NA>  <NA>  045aca2a  \n",
       "                   2023-11-04 Atalanta-Inter          <NA>  <NA>  c8fcbfaf  \n",
       "                   2023-11-25 Atalanta-Napoli         <NA>  <NA>  67af3925  \n",
       "                   2023-12-09 Atalanta-Milan          <NA>  <NA>  0c234040  \n",
       "                   2023-12-18 Atalanta-Salernitana    <NA>  <NA>  09971293  \n",
       "                   2023-12-30 Atalanta-Lecce          <NA>  <NA>  65cf973f  \n",
       "                   2024-01-15 Atalanta-Frosinone      <NA>  <NA>  fb9c9cdb  \n",
       "                   2024-01-27 Atalanta-Udinese        <NA>  <NA>  8d8d45e1  \n",
       "                   2024-02-04 Atalanta-Lazio          <NA>  <NA>  839bed1a  \n",
       "                   2024-02-17 Atalanta-Sassuolo       <NA>  <NA>  1e203a3e  \n",
       "                   2024-03-03 Atalanta-Bologna        <NA>  <NA>  27aab55a  \n",
       "                   2024-04-15 Atalanta-Hellas Verona  <NA>  <NA>  6a69ffd2  \n",
       "                   2024-04-28 Atalanta-Empoli         <NA>  <NA>  526fed3e  \n",
       "                   2024-05-12 Atalanta-Roma           <NA>  <NA>  9eba4ff1  \n",
       "                   2024-05-26 Atalanta-Torino         <NA>  <NA>  a2652733  \n",
       "                   2024-06-02 Atalanta-Fiorentina     <NA>  <NA>       NaN  "
      ]
     },
     "execution_count": 23,
     "metadata": {},
     "output_type": "execute_result"
    }
   ],
   "source": [
    "fbref_schedule[fbref_schedule['home_team'] == 'Atalanta']"
   ]
  },
  {
   "cell_type": "code",
   "execution_count": null,
   "metadata": {},
   "outputs": [],
   "source": []
  },
  {
   "cell_type": "code",
   "execution_count": null,
   "metadata": {},
   "outputs": [],
   "source": []
  },
  {
   "cell_type": "code",
   "execution_count": 19,
   "metadata": {},
   "outputs": [],
   "source": [
    "# Convert the date column to datetime format\n",
    "fbref_schedule['date'] = pd.to_datetime(fbref_schedule['date'])\n",
    "# fbref_schedule = fbref_schedule[fbref_schedule['date'] < datetime.datetime(2023, 12, 20)]\n",
    "\n",
    "fbref_schedule = fbref_schedule[fbref_schedule['date'] < datetime.datetime.now().strftime('%Y-%m-%d')]"
   ]
  },
  {
   "cell_type": "code",
   "execution_count": null,
   "metadata": {},
   "outputs": [],
   "source": [
    "SNOWFLAKE_USER = 'karan14'\n",
    "SNOWFLAKE_PASSWORD = 'Snowfl@key0014'\n",
    "SNOWFLAKE_ACCOUNT = 'lv65293.ca-central-1.aws'\n",
    "SNOWFLAKE_WAREHOUSE = 'COMPUTE_WH'\n",
    "SNOWFLAKE_DATABASE = 'GEGENSTATS'\n",
    "SNOWFLAKE_SCHEMA = 'TABLES'"
   ]
  },
  {
   "cell_type": "code",
   "execution_count": null,
   "metadata": {},
   "outputs": [],
   "source": [
    "conn = snowflake.connector.connect(\n",
    "    user=SNOWFLAKE_USER,\n",
    "    password=SNOWFLAKE_PASSWORD,\n",
    "    account=SNOWFLAKE_ACCOUNT,\n",
    "    warehouse=SNOWFLAKE_WAREHOUSE,\n",
    "    database=SNOWFLAKE_DATABASE,\n",
    "    schema=SNOWFLAKE_SCHEMA\n",
    ")"
   ]
  },
  {
   "cell_type": "code",
   "execution_count": null,
   "metadata": {},
   "outputs": [],
   "source": [
    "cursor = conn.cursor()"
   ]
  },
  {
   "cell_type": "code",
   "execution_count": null,
   "metadata": {},
   "outputs": [],
   "source": [
    "def fetch_data(cursor, query):\n",
    "    cursor.execute(query)\n",
    "    rows = cursor.fetchall()\n",
    "    column_names = [desc[0] for desc in cursor.description]\n",
    "    return pd.DataFrame(rows, columns=column_names)"
   ]
  },
  {
   "cell_type": "code",
   "execution_count": null,
   "metadata": {},
   "outputs": [],
   "source": [
    "df_matches = fetch_data(cursor, 'SELECT * FROM MATCHES')"
   ]
  },
  {
   "cell_type": "code",
   "execution_count": null,
   "metadata": {},
   "outputs": [],
   "source": [
    "df_matches.shape"
   ]
  },
  {
   "cell_type": "code",
   "execution_count": null,
   "metadata": {},
   "outputs": [],
   "source": [
    "# df_matches = df_matches[df_matches['SEASON'] == 2324]"
   ]
  },
  {
   "cell_type": "code",
   "execution_count": null,
   "metadata": {},
   "outputs": [],
   "source": [
    "matches_to_scarpe = set(fbref_schedule['game_id']) - set(df_matches['MATCH_ID'])\n",
    "matches_to_scarpe = list(matches_to_scarpe)"
   ]
  },
  {
   "cell_type": "code",
   "execution_count": null,
   "metadata": {},
   "outputs": [],
   "source": [
    "len(matches_to_scarpe)"
   ]
  },
  {
   "cell_type": "code",
   "execution_count": null,
   "metadata": {},
   "outputs": [],
   "source": [
    "## NOTE: Please add the Roma game next time you scrape: ws_game_id: 1746369 and fbref_id: bca64d25\n",
    "## NOTE: Please add the Lorient game next time you scrape: ws_game_id: 1741084 and fbref_id: aed44d7a\n",
    "## Match \"72c0709d\" is in FBref, but not whoscored\n",
    "## Match \"10f0c822\" is in FBref, but not whoscored"
   ]
  },
  {
   "cell_type": "code",
   "execution_count": null,
   "metadata": {},
   "outputs": [],
   "source": [
    "matches_to_scarpe.append('bca64d25')\n",
    "matches_to_scarpe.append('aed44d7a')\n",
    "matches_to_scarpe.append('72c0709d')\n",
    "matches_to_scarpe.append('10f0c822')"
   ]
  },
  {
   "cell_type": "code",
   "execution_count": null,
   "metadata": {},
   "outputs": [],
   "source": [
    "# matches_to_scarpe = list(fbref_schedule['game_id'])"
   ]
  },
  {
   "cell_type": "code",
   "execution_count": null,
   "metadata": {},
   "outputs": [],
   "source": [
    "# ## Create empty dataframe with \n",
    "# pd.DataFrame(columns=['jersey_number', 'player', 'team', 'is_starter', 'position', 'minutes_played'], index=['league', 'season',\n",
    "#                                                                                                               'game'])"
   ]
  },
  {
   "cell_type": "code",
   "execution_count": null,
   "metadata": {},
   "outputs": [],
   "source": [
    "failed_match_ids = []"
   ]
  },
  {
   "cell_type": "code",
   "execution_count": null,
   "metadata": {},
   "outputs": [],
   "source": [
    "for i, val in tqdm(enumerate(matches_to_scarpe[1:])):\n",
    "    if i == 0:\n",
    "        fbref_lineups = fbref.read_lineup(match_id=val)\n",
    "    else:\n",
    "        try:\n",
    "            fbref_lineups = pd.concat([fbref_lineups, fbref.read_lineup(match_id=val)])\n",
    "        except:\n",
    "            failed_match_ids.append(val)"
   ]
  },
  {
   "cell_type": "code",
   "execution_count": null,
   "metadata": {},
   "outputs": [],
   "source": [
    "fbref_lineups.to_csv('fbref_lineups_hold.csv')\n",
    "# fbref_lineups = pd.read_csv('fbref_lineups_hold.csv')"
   ]
  },
  {
   "cell_type": "code",
   "execution_count": null,
   "metadata": {},
   "outputs": [],
   "source": [
    "fbref_lineups"
   ]
  },
  {
   "cell_type": "code",
   "execution_count": null,
   "metadata": {},
   "outputs": [],
   "source": [
    "# fbref_lineups.set_index(['league', 'season', 'game'], inplace=True)"
   ]
  },
  {
   "cell_type": "code",
   "execution_count": null,
   "metadata": {},
   "outputs": [],
   "source": [
    "failed_match_ids"
   ]
  },
  {
   "cell_type": "code",
   "execution_count": null,
   "metadata": {},
   "outputs": [],
   "source": []
  },
  {
   "cell_type": "code",
   "execution_count": null,
   "metadata": {},
   "outputs": [],
   "source": [
    "fbref_lineups.loc[fbref_lineups['team'] == 'Brighton & Hove Albion', 'team'] = 'Brighton'\n",
    "fbref_lineups.loc[fbref_lineups['team'] == 'Manchester United', 'team'] = 'Manchester Utd'\n",
    "fbref_lineups.loc[fbref_lineups['team'] == 'Newcastle United', 'team'] = 'Newcastle Utd'\n",
    "fbref_lineups.loc[fbref_lineups['team'] == 'Nottingham Forest', 'team'] = \"Nott'ham Forest\"\n",
    "fbref_lineups.loc[fbref_lineups['team'] == 'Sheffield United', 'team'] = \"Sheffield Utd\"\n",
    "fbref_lineups.loc[fbref_lineups['team'] == 'Tottenham Hotspur', 'team'] = 'Tottenham'\n",
    "fbref_lineups.loc[fbref_lineups['team'] == 'West Ham United', 'team'] = 'West Ham'\n",
    "fbref_lineups.loc[fbref_lineups['team'] == 'Wolverhampton Wanderers', 'team'] = 'Wolves'"
   ]
  },
  {
   "cell_type": "code",
   "execution_count": null,
   "metadata": {},
   "outputs": [],
   "source": [
    "fbref_lineups.replace({\"Jarrell Quansah\": \"Jarell Quansah\"}, inplace=True)\n",
    "fbref_lineups.replace({\"Omotayo Adaramola\": \"Tayo Adaramola\"}, inplace=True)\n",
    "fbref_lineups.replace({\"Cristóbal Montiel\": \"Luis Montiel\"}, inplace=True)"
   ]
  },
  {
   "cell_type": "code",
   "execution_count": null,
   "metadata": {},
   "outputs": [],
   "source": [
    "# fbref_lineups.reset_index(inplace=True)\n",
    "# fbref_lineups.loc[fbref_lineups['team'] == 'Real Betis', 'team'] = 'Betis'\n",
    "# fbref_lineups.set_index(['league', 'season', 'game'], inplace=True)"
   ]
  },
  {
   "cell_type": "code",
   "execution_count": null,
   "metadata": {},
   "outputs": [],
   "source": [
    "fbref_team_standard = fbref_team_standard.rename_axis(index={'team': 'TEAM_NAME', 'season': 'SEASON', 'league': 'COMPETITION'})\n",
    "# fbref_team_standard_oppo = fbref_team_standard_oppo.rename_axis(index={'team': 'TEAM_NAME', 'season': 'SEASON', 'league': 'COMPETITION'})\n",
    "fbref_team_shooting = fbref_team_shooting.rename_axis(index={'team': 'TEAM_NAME', 'season': 'SEASON', 'league': 'COMPETITION'})\n",
    "fbref_team_shooting_oppo = fbref_team_shooting_oppo.rename_axis(index={'team': 'TEAM_NAME', 'season': 'SEASON', 'league': 'COMPETITION'})\n",
    "fbref_team_passing = fbref_team_passing.rename_axis(index={'team': 'TEAM_NAME', 'season': 'SEASON', 'league': 'COMPETITION'})\n",
    "fbref_team_passing_oppo = fbref_team_passing_oppo.rename_axis(index={'team': 'TEAM_NAME', 'season': 'SEASON', 'league': 'COMPETITION'})\n",
    "fbref_team_defense = fbref_team_defense.rename_axis(index={'team': 'TEAM_NAME', 'season': 'SEASON', 'league': 'COMPETITION'})\n",
    "fbref_team_possession = fbref_team_possession.rename_axis(index={'team': 'TEAM_NAME', 'season': 'SEASON', 'league': 'COMPETITION'})\n",
    "fbref_team_misc = fbref_team_misc.rename_axis(index={'team': 'TEAM_NAME', 'season': 'SEASON', 'league': 'COMPETITION'})\n",
    "fbref_keeper = fbref_keeper.rename_axis(index={'team': 'TEAM_NAME', 'season': 'SEASON', 'league': 'COMPETITION'})\n",
    "fbref_schedule = fbref_schedule.rename_axis(index={'season': 'SEASON', 'league': 'COMPETITION'})\n",
    "fbref_lineups = fbref_lineups.rename_axis(index={'season': 'SEASON', 'league': 'COMPETITION'})\n",
    "fbref_lineups.rename({'team': 'TEAM_NAME'}, axis=1, inplace=True)\n",
    "# fbref_lineups.rename({'season': 'SEASON'}, axis=1, inplace=True)"
   ]
  },
  {
   "cell_type": "code",
   "execution_count": null,
   "metadata": {},
   "outputs": [],
   "source": [
    "fbref_team_standard"
   ]
  },
  {
   "cell_type": "code",
   "execution_count": null,
   "metadata": {},
   "outputs": [],
   "source": [
    "## Get rid of incomplete games (Thank God Tom Lockyear is good <3)\n",
    "fbref_schedule = fbref_schedule.dropna(subset=['home_xg'])\n",
    "\n",
    "## Get rid of 'vs ' in the TEAM_NAME column\n",
    "fbref_team_passing_oppo.reset_index(inplace=True)\n",
    "fbref_team_shooting_oppo.reset_index(inplace=True)"
   ]
  },
  {
   "cell_type": "code",
   "execution_count": null,
   "metadata": {},
   "outputs": [],
   "source": [
    "fbref_schedule = fbref_schedule.dropna(subset=['week'])"
   ]
  },
  {
   "cell_type": "code",
   "execution_count": null,
   "metadata": {},
   "outputs": [],
   "source": [
    "fbref_team_passing_oppo['TEAM_NAME'] = fbref_team_passing_oppo['TEAM_NAME'].str.replace('vs ', '')\n",
    "fbref_team_shooting_oppo['TEAM_NAME'] = fbref_team_shooting_oppo['TEAM_NAME'].str.replace('vs ', '')\n",
    "\n",
    "fbref_team_passing_oppo.set_index(['COMPETITION', 'SEASON', 'TEAM_NAME'], inplace=True)\n",
    "fbref_team_shooting_oppo.set_index(['COMPETITION', 'SEASON', 'TEAM_NAME'], inplace=True)"
   ]
  },
  {
   "cell_type": "code",
   "execution_count": null,
   "metadata": {},
   "outputs": [],
   "source": [
    "def make_season_integer(df):\n",
    "    indexes = df.index.names\n",
    "    df = df.reset_index()\n",
    "    df['SEASON'] = df['SEASON'].astype(int)\n",
    "    df = df.set_index(indexes)\n",
    "    return df\n",
    "\n",
    "fbref_team_standard = make_season_integer(fbref_team_standard)\n",
    "# fbref_team_standard_oppo = make_season_integer(fbref_team_standard_oppo)\n",
    "fbref_team_shooting = make_season_integer(fbref_team_shooting)\n",
    "fbref_team_shooting_oppo = make_season_integer(fbref_team_shooting_oppo)\n",
    "fbref_team_passing = make_season_integer(fbref_team_passing)\n",
    "fbref_team_passing_oppo = make_season_integer(fbref_team_passing_oppo)\n",
    "fbref_team_defense = make_season_integer(fbref_team_defense)\n",
    "fbref_team_possession = make_season_integer(fbref_team_possession)\n",
    "fbref_team_misc = make_season_integer(fbref_team_misc)\n",
    "fbref_schedule = make_season_integer(fbref_schedule)\n",
    "fbref_keeper = make_season_integer(fbref_keeper)\n",
    "fbref_lineups = make_season_integer(fbref_lineups)"
   ]
  },
  {
   "cell_type": "code",
   "execution_count": null,
   "metadata": {},
   "outputs": [],
   "source": [
    "def name_corrector(df):\n",
    "    indexes = df.index.names\n",
    "    df = df.reset_index()\n",
    "    # df['SEASON'] = df['SEASON'].astype(int)\n",
    "    df.loc[df['TEAM_NAME'] == 'Milan', 'TEAM_NAME'] = 'AC Milan'\n",
    "    df = df.set_index(indexes)\n",
    "    return df\n",
    "\n",
    "fbref_team_standard = name_corrector(fbref_team_standard)\n",
    "# fbref_team_standard_oppo = name_corrector(fbref_team_standard_oppo)\n",
    "fbref_team_shooting = name_corrector(fbref_team_shooting)\n",
    "fbref_team_shooting_oppo = name_corrector(fbref_team_shooting_oppo)\n",
    "fbref_team_passing = name_corrector(fbref_team_passing)\n",
    "fbref_team_passing_oppo = name_corrector(fbref_team_passing_oppo)\n",
    "fbref_team_defense = name_corrector(fbref_team_defense)\n",
    "fbref_team_possession = name_corrector(fbref_team_possession)\n",
    "fbref_team_misc = name_corrector(fbref_team_misc)\n",
    "# fbref_schedule = name_corrector(fbref_schedule)\n",
    "fbref_keeper = name_corrector(fbref_keeper)"
   ]
  },
  {
   "cell_type": "code",
   "execution_count": null,
   "metadata": {},
   "outputs": [],
   "source": [
    "team_matches_played = fbref_team_standard['Playing Time'].MP\n",
    "team_goals_scored = understat_table.G\n",
    "team_npxG_90 = fbref_team_standard['Per 90 Minutes'].npxG\n",
    "team_goals_conceded = understat_table.GA\n",
    "# team_xG_against_90 = fbref_team_standard_oppo['Per 90 Minutes'].xG\n",
    "team_shots = fbref_team_shooting['Standard'].Sh\n",
    "team_shotsOT = fbref_team_shooting['Standard'].SoT\n",
    "team_pass_completed = fbref_team_passing[\"Total\"].Cmp\n",
    "team_pass_attempted = fbref_team_passing[\"Total\"].Att\n",
    "team_tackles = fbref_team_defense.Tackles.Tkl\n",
    "team_tackles_won = fbref_team_defense.Tackles.TklW\n",
    "team_takeons_attempted = fbref_team_possession['Take-Ons'].Att\n",
    "team_takeons_completed = fbref_team_possession['Take-Ons'].Succ\n",
    "team_crossesintoPA = fbref_team_passing['CrsPA']\n",
    "team_fouls_against = fbref_team_misc['Performance']['Fld']\n",
    "team_fouls_made = fbref_team_misc['Performance']['Fls']\n",
    "team_interceptions = fbref_team_defense['Int']\n",
    "team_blocks_shots = fbref_team_defense['Blocks'].Sh\n",
    "team_blocks_pass = fbref_team_defense['Blocks'].Pass\n",
    "team_clearances = fbref_team_defense.Clr\n",
    "team_aerials_won = fbref_team_misc['Aerial Duels'].Won\n",
    "team_aerials_lost = fbref_team_misc['Aerial Duels'].Lost\n",
    "team_shots_faced = fbref_team_shooting_oppo['Standard'].Sh"
   ]
  },
  {
   "cell_type": "code",
   "execution_count": null,
   "metadata": {},
   "outputs": [],
   "source": [
    "team_recoveries= fbref_team_misc['Performance']['Recov']"
   ]
  },
  {
   "cell_type": "code",
   "execution_count": null,
   "metadata": {},
   "outputs": [],
   "source": [
    "teams_poss_won = team_interceptions + team_tackles_won + team_recoveries + team_blocks_shots + \\\n",
    "    team_blocks_pass + team_aerials_won\n",
    "team_OPPDA = understat_table['OPPDA']\n",
    "team_final_3rd_passes_against =  fbref_team_passing_oppo['1/3']\n",
    "team_cleansheets = fbref_keeper['Performance']['CS']"
   ]
  },
  {
   "cell_type": "code",
   "execution_count": null,
   "metadata": {},
   "outputs": [],
   "source": [
    "team_names = fbref_team_standard.reset_index()[['TEAM_NAME','url']]\n",
    "team_names['TEAM_FBREF_ID'] = team_names['url'].apply(lambda x: x.split('/')[3])      ## Extracting team_id from URL\n",
    "team_names.drop(columns=['url'], inplace=True)\n",
    "team_names.columns = team_names.columns.droplevel(1)"
   ]
  },
  {
   "cell_type": "code",
   "execution_count": null,
   "metadata": {},
   "outputs": [],
   "source": [
    "team_names['TEAM_FBREF_ID'] = team_names['TEAM_FBREF_ID'].astype('string')"
   ]
  },
  {
   "cell_type": "code",
   "execution_count": null,
   "metadata": {},
   "outputs": [],
   "source": [
    "team_names.drop_duplicates(inplace=True)"
   ]
  },
  {
   "cell_type": "markdown",
   "metadata": {},
   "source": [
    "## WhoScored Data"
   ]
  },
  {
   "cell_type": "code",
   "execution_count": 11,
   "metadata": {},
   "outputs": [
    {
     "data": {
      "text/html": [
       "<pre style=\"white-space:pre;overflow-x:auto;line-height:normal;font-family:Menlo,'DejaVu Sans Mono',consolas,'Courier New',monospace\"><span style=\"color: #7fbfbf; text-decoration-color: #7fbfbf\">[06/05/24 11:30:45] </span><span style=\"color: #000080; text-decoration-color: #000080\">INFO    </span> Saving cached data to C:\\Users\\ksbha\\soccerdata\\data\\WhoScored           <a href=\"file://d:\\Users\\ksbha\\miniconda3\\envs\\footy\\Lib\\site-packages\\soccerdata\\_common.py\" target=\"_blank\"><span style=\"color: #7f7f7f; text-decoration-color: #7f7f7f\">_common.py</span></a><span style=\"color: #7f7f7f; text-decoration-color: #7f7f7f\">:</span><a href=\"file://d:\\Users\\ksbha\\miniconda3\\envs\\footy\\Lib\\site-packages\\soccerdata\\_common.py#92\" target=\"_blank\"><span style=\"color: #7f7f7f; text-decoration-color: #7f7f7f\">92</span></a>\n",
       "</pre>\n"
      ],
      "text/plain": [
       "\u001b[2;36m[06/05/24 11:30:45]\u001b[0m\u001b[2;36m \u001b[0m\u001b[34mINFO    \u001b[0m Saving cached data to C:\\Users\\ksbha\\soccerdata\\data\\WhoScored           \u001b]8;id=712876;file://d:\\Users\\ksbha\\miniconda3\\envs\\footy\\Lib\\site-packages\\soccerdata\\_common.py\u001b\\\u001b[2m_common.py\u001b[0m\u001b]8;;\u001b\\\u001b[2m:\u001b[0m\u001b]8;id=605541;file://d:\\Users\\ksbha\\miniconda3\\envs\\footy\\Lib\\site-packages\\soccerdata\\_common.py#92\u001b\\\u001b[2m92\u001b[0m\u001b]8;;\u001b\\\n"
      ]
     },
     "metadata": {},
     "output_type": "display_data"
    }
   ],
   "source": [
    "# ws = sd.WhoScored(leagues=['ENG-Premier League', 'GER-Bundesliga', \"ESP-La Liga\", 'ITA-Serie A', 'FRA-Ligue 1'], \n",
    "#                   seasons=[\"2324\"])\n",
    "ws = sd.WhoScored(leagues=['ITA-Serie A'], seasons=[\"2324\"])"
   ]
  },
  {
   "cell_type": "code",
   "execution_count": null,
   "metadata": {},
   "outputs": [],
   "source": [
    "ws_schedule = ws.read_schedule()"
   ]
  },
  {
   "cell_type": "code",
   "execution_count": null,
   "metadata": {},
   "outputs": [],
   "source": [
    "ws_schedule = pd.read_csv('ws_schedule.csv')"
   ]
  },
  {
   "cell_type": "code",
   "execution_count": null,
   "metadata": {},
   "outputs": [],
   "source": [
    "# ws_schedule.to_csv('ws_schedule.csv')"
   ]
  },
  {
   "cell_type": "code",
   "execution_count": null,
   "metadata": {},
   "outputs": [],
   "source": [
    "ws_schedule = ws_schedule[ws_schedule['date'] < datetime.datetime.now().strftime('%Y-%m-%d')]"
   ]
  },
  {
   "cell_type": "code",
   "execution_count": null,
   "metadata": {},
   "outputs": [],
   "source": [
    "fbref_schedule = fbref_schedule.dropna(subset=['home_xg'])"
   ]
  },
  {
   "cell_type": "code",
   "execution_count": null,
   "metadata": {},
   "outputs": [],
   "source": [
    "ws_schedule = ws_schedule.reset_index().rename({'league':\"COMPETITION\", \"season\":\"SEASON\"}, axis=1)\n",
    "ws_schedule.set_index(['COMPETITION', 'SEASON', 'game'], inplace=True)"
   ]
  },
  {
   "cell_type": "code",
   "execution_count": null,
   "metadata": {},
   "outputs": [],
   "source": [
    "ws_schedule.loc[ws_schedule['home_team'] == 'Manchester United', 'home_team'] = 'Manchester Utd'\n",
    "ws_schedule.loc[ws_schedule['away_team'] == 'Manchester United', 'away_team'] = 'Manchester Utd'\n",
    "ws_schedule.loc[ws_schedule['home_team'] == 'Newcastle United', 'home_team'] = 'Newcastle Utd'\n",
    "ws_schedule.loc[ws_schedule['away_team'] == 'Newcastle United', 'away_team'] = 'Newcastle Utd'\n",
    "ws_schedule.loc[ws_schedule['home_team'] == 'Newcastle', 'home_team'] = 'Newcastle Utd'\n",
    "ws_schedule.loc[ws_schedule['away_team'] == 'Newcastle', 'away_team'] = 'Newcastle Utd'\n",
    "ws_schedule.loc[ws_schedule['home_team'] == 'Tottenham Hotspur', 'home_team'] = 'Tottenham'\n",
    "ws_schedule.loc[ws_schedule['away_team'] == 'Tottenham Hotspur', 'away_team'] = 'Tottenham'\n",
    "ws_schedule.loc[ws_schedule['home_team'] == 'Wolverhampton Wanderers', 'home_team'] = 'Wolves'\n",
    "ws_schedule.loc[ws_schedule['away_team'] == 'Wolverhampton Wanderers', 'away_team'] = 'Wolves'\n",
    "ws_schedule.loc[ws_schedule['home_team'] == 'Wolverhampton', 'home_team'] = 'Wolves'\n",
    "ws_schedule.loc[ws_schedule['away_team'] == 'Wolverhampton', 'away_team'] = 'Wolves'\n",
    "ws_schedule.loc[ws_schedule['home_team'] == 'Nottingham Forest', 'home_team'] = \"Nott'ham Forest\"\n",
    "ws_schedule.loc[ws_schedule['away_team'] == 'Nottingham Forest', 'away_team'] = \"Nott'ham Forest\"\n",
    "ws_schedule.loc[ws_schedule['home_team'] == 'Leicester', 'home_team'] = \"Leicester City\"\n",
    "ws_schedule.loc[ws_schedule['away_team'] == 'Leicester', 'away_team'] = \"Leicester City\"\n",
    "ws_schedule.loc[ws_schedule['home_team'] == 'Leeds', 'home_team'] = \"Leeds United\"\n",
    "ws_schedule.loc[ws_schedule['away_team'] == 'Leeds', 'away_team'] = \"Leeds United\"\n",
    "ws_schedule.loc[ws_schedule['home_team'] == 'Sheffield United', 'home_team'] = \"Sheffield Utd\"\n",
    "ws_schedule.loc[ws_schedule['away_team'] == 'Sheffield United', 'away_team'] = \"Sheffield Utd\"\n",
    "ws_schedule.loc[ws_schedule['home_team'] == 'Luton', 'home_team'] = \"Luton Town\"\n",
    "ws_schedule.loc[ws_schedule['away_team'] == 'Luton', 'away_team'] = \"Luton Town\"\n",
    "ws_schedule.loc[ws_schedule['home_team'] == 'Norwich', 'home_team'] = \"Norwich City\"\n",
    "ws_schedule.loc[ws_schedule['away_team'] == 'Norwich', 'away_team'] = \"Norwich City\"\n",
    "\n",
    "ws_schedule.loc[ws_schedule['home_team'] == 'Atletico Madrid', 'home_team'] = 'Atlético Madrid'\n",
    "ws_schedule.loc[ws_schedule['away_team'] == 'Atletico Madrid', 'away_team'] = 'Atlético Madrid'\n",
    "ws_schedule.loc[ws_schedule['home_team'] == 'Cadiz', 'home_team'] = 'Cádiz'\n",
    "ws_schedule.loc[ws_schedule['away_team'] == 'Cadiz', 'away_team'] = 'Cádiz'\n",
    "ws_schedule.loc[ws_schedule['home_team'] == 'Deportivo Alaves', 'home_team'] = 'Alavés'\n",
    "ws_schedule.loc[ws_schedule['away_team'] == 'Deportivo Alaves', 'away_team'] = 'Alavés'\n",
    "ws_schedule.loc[ws_schedule['home_team'] == 'Real Betis', 'home_team'] = 'Betis'\n",
    "ws_schedule.loc[ws_schedule['away_team'] == 'Real Betis', 'away_team'] = 'Betis'\n",
    "ws_schedule.loc[ws_schedule['home_team'] == 'Deportivo Alaves', 'home_team'] = 'Alavés'\n",
    "ws_schedule.loc[ws_schedule['away_team'] == 'Deportivo Alaves', 'away_team'] = 'Alavés'\n",
    "ws_schedule.loc[ws_schedule['home_team'] == 'Real Valladolid', 'home_team'] = 'Valladolid'\n",
    "ws_schedule.loc[ws_schedule['away_team'] == 'Real Valladolid', 'away_team'] = 'Valladolid'\n",
    "ws_schedule.loc[ws_schedule['home_team'] == 'Almeria', 'home_team'] = 'Almería'\n",
    "ws_schedule.loc[ws_schedule['away_team'] == 'Almeria', 'away_team'] = 'Almería'\n",
    "\n",
    "ws_schedule.loc[ws_schedule['home_team'] == 'Arminia Bielefeld', 'home_team'] = 'Arminia'\n",
    "ws_schedule.loc[ws_schedule['away_team'] == 'Arminia Bielefeld', 'away_team'] = 'Arminia'\n",
    "ws_schedule.loc[ws_schedule['home_team'] == 'Bayer Leverkusen', 'home_team'] = 'Leverkusen'\n",
    "ws_schedule.loc[ws_schedule['away_team'] == 'Bayer Leverkusen', 'away_team'] = 'Leverkusen'\n",
    "ws_schedule.loc[ws_schedule['home_team'] == 'Borussia Dortmund', 'home_team'] = 'Dortmund'\n",
    "ws_schedule.loc[ws_schedule['away_team'] == 'Borussia Dortmund', 'away_team'] = 'Dortmund'\n",
    "ws_schedule.loc[ws_schedule['home_team'] == 'Borussia M.Gladbach', 'home_team'] = \"M'Gladbach\"\n",
    "ws_schedule.loc[ws_schedule['away_team'] == 'Borussia M.Gladbach', 'away_team'] = \"M'Gladbach\"\n",
    "ws_schedule.loc[ws_schedule['home_team'] == 'Eintracht Frankfurt', 'home_team'] = \"Eint Frankfurt\"\n",
    "ws_schedule.loc[ws_schedule['away_team'] == 'Eintracht Frankfurt', 'away_team'] = \"Eint Frankfurt\"\n",
    "ws_schedule.loc[ws_schedule['home_team'] == 'Greuther Fuerth', 'home_team'] = \"Greuther Fürth\"\n",
    "ws_schedule.loc[ws_schedule['away_team'] == 'Greuther Fuerth', 'away_team'] = \"Greuther Fürth\"\n",
    "ws_schedule.loc[ws_schedule['home_team'] == 'FC Koln', 'home_team'] = \"Köln\"\n",
    "ws_schedule.loc[ws_schedule['away_team'] == 'FC Koln', 'away_team'] = \"Köln\"\n",
    "ws_schedule.loc[ws_schedule['home_team'] == 'Hertha Berlin', 'home_team'] = \"Hertha BSC\"\n",
    "ws_schedule.loc[ws_schedule['away_team'] == 'Hertha Berlin', 'away_team'] = \"Hertha BSC\"\n",
    "ws_schedule.loc[ws_schedule['home_team'] == 'VfB Stuttgart', 'home_team'] = \"Stuttgart\"\n",
    "ws_schedule.loc[ws_schedule['away_team'] == 'VfB Stuttgart', 'away_team'] = \"Stuttgart\"\n",
    "ws_schedule.loc[ws_schedule['home_team'] == 'Darmstadt', 'home_team'] = \"Darmstadt 98\"\n",
    "ws_schedule.loc[ws_schedule['away_team'] == 'Darmstadt', 'away_team'] = \"Darmstadt 98\"\n",
    "ws_schedule.loc[ws_schedule['home_team'] == 'FC Heidenheim', 'home_team'] = \"Heidenheim\"\n",
    "ws_schedule.loc[ws_schedule['away_team'] == 'FC Heidenheim', 'away_team'] = \"Heidenheim\"\n",
    "\n",
    "ws_schedule.loc[ws_schedule['home_team'] == 'Verona', 'home_team'] = \"Hellas Verona\"\n",
    "ws_schedule.loc[ws_schedule['away_team'] == 'Verona', 'away_team'] = \"Hellas Verona\"\n",
    "\n",
    "ws_schedule.loc[ws_schedule['home_team'] == 'Paris Saint-Germain', 'home_team'] = \"Paris S-G\"\n",
    "ws_schedule.loc[ws_schedule['away_team'] == 'Paris Saint-Germain', 'away_team'] = \"Paris S-G\"\n",
    "ws_schedule.loc[ws_schedule['home_team'] == 'AC Ajaccio', 'home_team'] = \"Ajaccio\"\n",
    "ws_schedule.loc[ws_schedule['away_team'] == 'AC Ajaccio', 'away_team'] = \"Ajaccio\"\n",
    "ws_schedule.loc[ws_schedule['home_team'] == 'Saint-Etienne', 'home_team'] = \"Saint-Étienne\"\n",
    "ws_schedule.loc[ws_schedule['away_team'] == 'Saint-Etienne', 'away_team'] = \"Saint-Étienne\""
   ]
  },
  {
   "cell_type": "code",
   "execution_count": null,
   "metadata": {},
   "outputs": [],
   "source": [
    "fbref_lineups.loc[fbref_lineups['TEAM_NAME'] == 'Bayer Leverkusen', 'TEAM_NAME'] = 'Leverkusen'\n",
    "fbref_lineups.loc[fbref_lineups['TEAM_NAME'] == 'Eintracht Frankfurt', 'TEAM_NAME'] = 'Eint Frankfurt'\n",
    "fbref_lineups.loc[fbref_lineups['TEAM_NAME'] == 'Mönchengladbach', 'TEAM_NAME'] = \"M'Gladbach\"\n",
    "fbref_lineups.loc[fbref_lineups['TEAM_NAME'] == 'Milan', 'TEAM_NAME'] = \"AC Milan\"\n",
    "fbref_lineups.loc[fbref_lineups['TEAM_NAME'] == 'Internazionale', 'TEAM_NAME'] = \"Inter\"\n",
    "fbref_lineups.loc[fbref_lineups['TEAM_NAME'] == 'Paris Saint-Germain', 'TEAM_NAME'] = \"Paris S-G\"\n",
    "fbref_lineups.loc[fbref_lineups['TEAM_NAME'] == 'Real Betis', 'TEAM_NAME'] = \"Betis\""
   ]
  },
  {
   "cell_type": "code",
   "execution_count": null,
   "metadata": {},
   "outputs": [],
   "source": [
    "ws_schedule.reset_index(inplace=True)\n",
    "fbref_schedule.reset_index(inplace=True)"
   ]
  },
  {
   "cell_type": "code",
   "execution_count": null,
   "metadata": {},
   "outputs": [],
   "source": [
    "ws_schedule = ws_schedule.rename({'game_id':\"ws_game_id\"}, axis=1)"
   ]
  },
  {
   "cell_type": "code",
   "execution_count": null,
   "metadata": {},
   "outputs": [],
   "source": [
    "ws_schedule['SEASON'] = ws_schedule['SEASON'].astype('int64')"
   ]
  },
  {
   "cell_type": "code",
   "execution_count": null,
   "metadata": {},
   "outputs": [],
   "source": [
    "sorted(fbref_schedule['home_team'].unique())==sorted(ws_schedule['home_team'].unique())"
   ]
  },
  {
   "cell_type": "code",
   "execution_count": null,
   "metadata": {},
   "outputs": [],
   "source": [
    "fbref_schedule = pd.merge(fbref_schedule, ws_schedule[[\"COMPETITION\", \"SEASON\", \"home_team\", \"away_team\",\"ws_game_id\"]], \n",
    "          on=[\"COMPETITION\", \"SEASON\", \"home_team\", \"away_team\"], how='inner')"
   ]
  },
  {
   "cell_type": "code",
   "execution_count": null,
   "metadata": {},
   "outputs": [],
   "source": [
    "loader = ws.read_events(output_fmt='loader')"
   ]
  },
  {
   "cell_type": "code",
   "execution_count": null,
   "metadata": {},
   "outputs": [],
   "source": [
    "matches_to_scarpe"
   ]
  },
  {
   "cell_type": "code",
   "execution_count": null,
   "metadata": {},
   "outputs": [],
   "source": [
    "game_ids = fbref_schedule[fbref_schedule['game_id'].isin(matches_to_scarpe)]['ws_game_id'].unique()"
   ]
  },
  {
   "cell_type": "code",
   "execution_count": null,
   "metadata": {},
   "outputs": [],
   "source": [
    "ws_players = pd.DataFrame(columns=['game_id', 'team_id', 'player_id', 'player_name', \n",
    "                                   'is_starter','minutes_played', 'jersey_number', 'starting_position'])"
   ]
  },
  {
   "cell_type": "code",
   "execution_count": null,
   "metadata": {},
   "outputs": [],
   "source": [
    "ws_teams=pd.DataFrame(columns=['team_id', 'team_name'])"
   ]
  },
  {
   "cell_type": "code",
   "execution_count": null,
   "metadata": {},
   "outputs": [],
   "source": [
    "games_no_players = []"
   ]
  },
  {
   "cell_type": "code",
   "execution_count": null,
   "metadata": {},
   "outputs": [],
   "source": [
    "# game_ids = fbref_schedule['ws_game_id'].unique()\n",
    "# matches_to_scarpe = fbref_schedule['game_id'].unique()"
   ]
  },
  {
   "cell_type": "code",
   "execution_count": null,
   "metadata": {},
   "outputs": [],
   "source": [
    "for game in tqdm(game_ids):\n",
    "    try:\n",
    "        ws_teams = pd.concat([ws_teams, loader.teams(game_id=game)])\n",
    "        ws_players = pd.concat([ws_players, loader.players(game_id=game)])\n",
    "    except:\n",
    "        games_no_players.append(game)"
   ]
  },
  {
   "cell_type": "code",
   "execution_count": null,
   "metadata": {},
   "outputs": [],
   "source": [
    "ws_teams.drop_duplicates(inplace=True)"
   ]
  },
  {
   "cell_type": "code",
   "execution_count": null,
   "metadata": {},
   "outputs": [],
   "source": [
    "ws_teams.reset_index(drop=True, inplace=True)"
   ]
  },
  {
   "cell_type": "code",
   "execution_count": null,
   "metadata": {},
   "outputs": [],
   "source": [
    "sorted(ws_schedule['home_team'].unique()) == sorted(ws_teams['team_name'])"
   ]
  },
  {
   "cell_type": "code",
   "execution_count": null,
   "metadata": {},
   "outputs": [],
   "source": [
    "len(sorted(ws_schedule['home_team'].unique()))"
   ]
  },
  {
   "cell_type": "code",
   "execution_count": null,
   "metadata": {},
   "outputs": [],
   "source": [
    "len(sorted(ws_teams['team_name']))"
   ]
  },
  {
   "cell_type": "code",
   "execution_count": null,
   "metadata": {},
   "outputs": [],
   "source": [
    "ws_teams.loc[ws_teams['team_name'] == 'Arminia Bielefeld', 'team_name'] = 'Arminia'\n",
    "ws_teams.loc[ws_teams['team_name'] == 'Bayern', 'team_name'] = 'Bayern Munich'\n",
    "ws_teams.loc[ws_teams['team_name'] == 'Borussia Dortmund', 'team_name'] = 'Dortmund'\n",
    "ws_teams.loc[ws_teams['team_name'] == 'Borussia M.Gladbach', 'team_name'] = \"M'Gladbach\"\n",
    "ws_teams.loc[ws_teams['team_name'] == 'Eintracht Frankfurt', 'team_name'] = \"Eint Frankfurt\"\n",
    "ws_teams.loc[ws_teams['team_name'] == 'FC Koln', 'team_name'] = 'Köln'\n",
    "ws_teams.loc[ws_teams['team_name'] == 'Mainz', 'team_name'] = \"Mainz 05\"\n",
    "ws_teams.loc[ws_teams['team_name'] == 'RBL', 'team_name'] = \"RB Leipzig\"\n",
    "ws_teams.loc[ws_teams['team_name'] == 'Greuther Fuerth', 'team_name'] = \"Greuther Fürth\"\n",
    "ws_teams.loc[ws_teams['team_name'] == 'Hertha Berlin', 'team_name'] = \"Hertha BSC\"\n",
    "ws_teams.loc[ws_teams['team_name'] == 'Schalke', 'team_name'] = 'Schalke 04'\n",
    "ws_teams.loc[ws_teams['team_name'] == 'Darmstadt', 'team_name'] = \"Darmstadt 98\"\n",
    "ws_teams.loc[ws_teams['team_name'] == 'FC Heidenheim', 'team_name'] = 'Heidenheim'\n",
    "\n",
    "ws_teams.loc[ws_teams['team_name'] == 'Luton', 'team_name'] = 'Luton Town'\n",
    "ws_teams.loc[ws_teams['team_name'] == 'Nottingham Forest', 'team_name'] = \"Nott'ham Forest\"\n",
    "ws_teams.loc[ws_teams['team_name'] == 'Sheff Utd', 'team_name'] = \"Sheffield Utd\"\n",
    "ws_teams.loc[ws_teams['team_name'] == 'Man Utd', 'team_name'] = \"Manchester Utd\"\n",
    "ws_teams.loc[ws_teams['team_name'] == 'Man City', 'team_name'] = \"Manchester City\"\n",
    "ws_teams.loc[ws_teams['team_name'] == 'Newcastle', 'team_name'] = \"Newcastle Utd\"\n",
    "\n",
    "ws_teams.loc[ws_teams['team_name'] == 'Atletico', 'team_name'] = 'Atlético Madrid'\n",
    "ws_teams.loc[ws_teams['team_name'] == 'Cadiz', 'team_name'] = 'Cádiz'\n",
    "ws_teams.loc[ws_teams['team_name'] == 'Deportivo Alaves', 'team_name'] = 'Alavés'\n",
    "ws_teams.loc[ws_teams['team_name'] == 'Real Betis', 'team_name'] = 'Betis'\n",
    "ws_teams.loc[ws_teams['team_name'] == 'Almeria', 'team_name'] = 'Almería'\n",
    "ws_teams.loc[ws_teams['team_name'] == 'Real Valladolid', 'team_name'] = 'Valladolid'\n",
    "\n",
    "ws_teams.loc[ws_teams['team_name'] == 'Verona', 'team_name'] = 'Hellas Verona'\n",
    "\n",
    "ws_teams.loc[ws_teams['team_name'] == 'PSG', 'team_name'] = 'Paris S-G'\n",
    "ws_teams.loc[ws_teams['team_name'] == 'Saint-Etienne', 'team_name'] = 'Saint-Étienne'\n",
    "ws_teams.loc[ws_teams['team_name'] == 'AC Ajaccio', 'team_name'] = \"Ajaccio\""
   ]
  },
  {
   "cell_type": "code",
   "execution_count": null,
   "metadata": {},
   "outputs": [],
   "source": [
    "# WhoScored decide to name Willy Boly with two different names. Idiots\n",
    "ws_players.replace({\"Willy-Arnaud Boly\": \"Willy Boly\"}, inplace=True)\n",
    "ws_players.replace({\"Kepa\": \"Kepa Arrizabalaga\"}, inplace=True)\n",
    "ws_players.replace({\"Yehor Yarmolyuk\": \"Yehor Yarmoliuk\"}, inplace=True)\n",
    "ws_players.replace({\"Vitalii Mykolenko\": \"Vitaliy Mykolenko\"}, inplace=True)\n",
    "ws_players.replace({\"Dan Bentley\": \"Daniel Bentley\"}, inplace=True)\n",
    "ws_players.replace({\"Toti\": \"Toti Gomes\"}, inplace=True)\n",
    "ws_players.replace({\"Joe Hodge\": \"Joseph Hodge\"}, inplace=True)\n",
    "ws_players.replace({\"Jonny Otto\": \"Jonny\"}, inplace=True)\n",
    "ws_players.replace({\"Álvaro Carreras\": \"Álvaro Fernández\"}, inplace=True)\n",
    "ws_players.replace({\"Alisson Becker\": \"Alisson\"}, inplace=True)\n",
    "ws_players.replace({\"Andy Robertson\": \"Andrew Robertson\"}, inplace=True)\n",
    "ws_players.replace({\"Konstantinos Tsimikas\": \"Kostas Tsimikas\"}, inplace=True)\n",
    "ws_players.replace({\"Alphonse Aréola\": \"Alphonse Areola\"}, inplace=True)\n",
    "ws_players.replace({\"Pape Sarr\": \"Pape Matar Sarr\"}, inplace=True)\n",
    "ws_players.replace({\"Yago Alonso\": \"Yago Santiago\"}, inplace=True)"
   ]
  },
  {
   "cell_type": "markdown",
   "metadata": {},
   "source": [
    "## Snowflake Data Upload"
   ]
  },
  {
   "cell_type": "code",
   "execution_count": null,
   "metadata": {},
   "outputs": [],
   "source": [
    "SNOWFLAKE_USER = 'karan14'\n",
    "SNOWFLAKE_PASSWORD = 'Snowfl@key0014'\n",
    "SNOWFLAKE_ACCOUNT = 'lv65293.ca-central-1.aws'\n",
    "SNOWFLAKE_WAREHOUSE = 'COMPUTE_WH'\n",
    "SNOWFLAKE_DATABASE = 'GEGENSTATS'\n",
    "SNOWFLAKE_SCHEMA = 'TABLES'"
   ]
  },
  {
   "cell_type": "code",
   "execution_count": null,
   "metadata": {},
   "outputs": [],
   "source": [
    "conn = snowflake.connector.connect(\n",
    "    user=SNOWFLAKE_USER,\n",
    "    password=SNOWFLAKE_PASSWORD,\n",
    "    account=SNOWFLAKE_ACCOUNT,\n",
    "    warehouse=SNOWFLAKE_WAREHOUSE,\n",
    "    database=SNOWFLAKE_DATABASE,\n",
    "    schema=SNOWFLAKE_SCHEMA\n",
    "    )"
   ]
  },
  {
   "cell_type": "code",
   "execution_count": null,
   "metadata": {},
   "outputs": [],
   "source": [
    "cur = conn.cursor()\n",
    "cur.execute(f\"USE WAREHOUSE {SNOWFLAKE_WAREHOUSE}\")"
   ]
  },
  {
   "cell_type": "code",
   "execution_count": null,
   "metadata": {},
   "outputs": [],
   "source": [
    "create_schema_sql = f\"CREATE SCHEMA IF NOT EXISTS {SNOWFLAKE_SCHEMA}\"\n",
    "cur.execute(create_schema_sql)"
   ]
  },
  {
   "cell_type": "code",
   "execution_count": null,
   "metadata": {},
   "outputs": [],
   "source": [
    "print(\"The Snowflake warehouse being used is:\", SNOWFLAKE_WAREHOUSE)"
   ]
  },
  {
   "cell_type": "code",
   "execution_count": null,
   "metadata": {},
   "outputs": [],
   "source": [
    "cur.execute('SELECT * FROM TEAMS')\n",
    "team_rows = cur.fetchall()\n",
    "column_names = [desc[0] for desc in cur.description]\n",
    "curr_team_names = pd.DataFrame(team_rows, columns=column_names)"
   ]
  },
  {
   "cell_type": "code",
   "execution_count": null,
   "metadata": {},
   "outputs": [],
   "source": [
    "## Below (if not blank) are the teams you need to create LOGOS for\n",
    "team_names_not_in_curr = team_names[~team_names['TEAM_NAME'].isin(curr_team_names['TEAM_NAME'])]\n",
    "team_names_not_in_curr"
   ]
  },
  {
   "cell_type": "code",
   "execution_count": null,
   "metadata": {},
   "outputs": [],
   "source": [
    "team_names"
   ]
  },
  {
   "cell_type": "code",
   "execution_count": null,
   "metadata": {},
   "outputs": [],
   "source": [
    "def upsert_to_snowflake(table_name, dataframe, primary_keys):\n",
    "    if isinstance(primary_keys, str):\n",
    "        primary_keys = [primary_keys]\n",
    "\n",
    "    temp_table_name = f\"{table_name}_TEMP\"\n",
    "    success, nchunks, nrows, _ = write_pandas(conn, dataframe, temp_table_name, auto_create_table=True)\n",
    "\n",
    "    on_condition = ' AND '.join([f\"{table_name}.{pk} = {temp_table_name}.{pk}\" for pk in primary_keys])\n",
    "\n",
    "    update_columns = [col for col in dataframe.columns if col not in primary_keys]\n",
    "    update_sql = ', '.join([f\"{table_name}.{col} = {temp_table_name}.{col}\" for col in update_columns])\n",
    "\n",
    "    merge_sql = f\"\"\"\n",
    "    MERGE INTO {table_name} USING {temp_table_name}\n",
    "    ON {on_condition}\n",
    "    \"\"\"\n",
    "\n",
    "    if update_columns:\n",
    "        merge_sql += f\"\"\"\n",
    "        WHEN MATCHED THEN\n",
    "            UPDATE SET\n",
    "                {update_sql}\n",
    "        \"\"\"\n",
    "\n",
    "    merge_sql += f\"\"\"\n",
    "    WHEN NOT MATCHED THEN\n",
    "        INSERT ({', '.join(dataframe.columns)})\n",
    "        VALUES ({', '.join([f\"{temp_table_name}.{col}\" for col in dataframe.columns])})\n",
    "    \"\"\"\n",
    "\n",
    "    cur.execute(merge_sql)\n",
    "    cur.execute(f\"DROP TABLE IF EXISTS {temp_table_name}\")\n",
    "\n",
    "    print(f\"Upsert completed. {nrows} rows processed.\")"
   ]
  },
  {
   "cell_type": "code",
   "execution_count": null,
   "metadata": {},
   "outputs": [],
   "source": [
    "ws_teams.rename({'team_name':'TEAM_NAME', 'team_id':'TEAM_WS_ID'}, axis=1, inplace=True)"
   ]
  },
  {
   "cell_type": "code",
   "execution_count": null,
   "metadata": {},
   "outputs": [],
   "source": [
    "team_logos = \\\n",
    "[[\"Angers\", \"https://i.imgur.com/dyRj0Cc.png\"], [\"Bordeaux\", \"https://i.imgur.com/2NxcpPo.png\"],\n",
    " [\"Brest\", \"https://i.imgur.com/klKUp8n.png\"], [\"Clermont Foot\", \"https://i.imgur.com/7RHafik.png\"],\n",
    " [\"Lens\", \"https://i.imgur.com/9hfNDts.png\"], [\"Lille\", \"https://i.imgur.com/G3MyVe5.png\"],\n",
    " [\"Lorient\", \"https://i.imgur.com/9k1Kgp6.png\"], [\"Lyon\", \"https://i.imgur.com/F0cNDBC.png\"],\n",
    " [\"Marseille\", \"https://i.imgur.com/jbim9vo.png\"], [\"Metz\", \"https://i.imgur.com/UvYK5II.png\"],\n",
    " [\"Monaco\", \"https://i.imgur.com/HNfIv5Y.png\"], [\"Montpellier\", \"https://i.imgur.com/lwG9vvR.png\"],\n",
    " [\"Nantes\", \"https://i.imgur.com/rxlejD4.png\"], [\"Nice\", \"https://i.imgur.com/bIsadPH.png\"],\n",
    " [\"Paris S-G\", \"https://i.imgur.com/kuN3QSp.png\"], [\"Reims\", \"https://i.imgur.com/xULypbI.png\"],\n",
    " [\"Rennes\", \"https://i.imgur.com/TZq2Hvr.png\"], [\"Saint-Étienne\", \"https://i.imgur.com/iIex5w7.png\"],\n",
    " [\"Strasbourg\", \"https://i.imgur.com/RKf7LuY.png\"], [\"Troyes\", \"https://i.imgur.com/6VTNoyL.png\"],\n",
    " [\"Ajaccio\", \"https://i.imgur.com/FSm4pRb.png\"], [\"Auxerre\", \"https://i.imgur.com/mwlqKAg.png\"],\n",
    " [\"Toulouse\", \"https://i.imgur.com/dvkjqJ2.png\"], [\"Le Havre\", \"https://i.imgur.com/YHGxNQP.png\"]\n",
    " ]"
   ]
  },
  {
   "cell_type": "code",
   "execution_count": null,
   "metadata": {},
   "outputs": [],
   "source": [
    "# team_logos = \\\n",
    "# [[\"Atalanta\", \"https://i.imgur.com/SDA0nMH.png\"], [\"Bologna\", \"https://i.imgur.com/rVqtfOA.png\"],\n",
    "#  [\"Cagliari\", \"https://i.imgur.com/rbAC6zo.png\"], [\"Empoli\", \"https://i.imgur.com/52xSYdX.png\"],\n",
    "#  [\"Fiorentina\", \"https://i.imgur.com/hOQC1jo.png\"], [\"Genoa\", \"https://i.imgur.com/KjtIy8U.png\"],\n",
    "#  [\"Hellas Verona\", \"https://i.imgur.com/vhAWZQO.png\"], [\"Inter\", \"https://i.imgur.com/JsJ06ke.png\"],\n",
    "#  [\"Juventus\", \"https://i.imgur.com/60XAIJI.png\"], [\"Lazio\", \"https://i.imgur.com/SBsGYjm.png\"],\n",
    "#  [\"AC Milan\", \"https://i.imgur.com/1Ze94pt.png\"], [\"Napoli\", \"https://i.imgur.com/Ql7LKBZ.png\"],\n",
    "#  [\"Roma\", \"https://i.imgur.com/nhMJAHW.png\"], [\"Salernitana\", \"https://i.imgur.com/sYubMBZ.png\"],\n",
    "#  [\"Sampdoria\", \"https://i.imgur.com/MTOvCDt.png\"], [\"Sassuolo\", \"https://i.imgur.com/px5mT39.png\"],\n",
    "#  [\"Spezia\", \"https://i.imgur.com/gYVirSf.png\"], [\"Torino\", \"https://i.imgur.com/XWmpYeu.png\"],\n",
    "#  [\"Udinese\", \"https://i.imgur.com/Dp0KUmN.png\"], [\"Venezia\", \"https://i.imgur.com/VjHBE7d.png\"],\n",
    "#  [\"Cremonese\", \"https://i.imgur.com/r6hDldN.png\"], [\"Lecce\", \"https://i.imgur.com/9A4flGu.png\"], \n",
    "#  [\"Monza\", \"https://i.imgur.com/7bHOIx9.png\"], [\"Frosinone\", \"https://i.imgur.com/x8qGMuV.png\"]\n",
    "#  ]"
   ]
  },
  {
   "cell_type": "code",
   "execution_count": null,
   "metadata": {},
   "outputs": [],
   "source": [
    "# team_logos = \\\n",
    "# [[\"Arminia\", \"https://i.imgur.com/PKcXmoo.png\"], [\"Augsburg\", \"https://i.imgur.com/c9rRqYo.png\"],\n",
    "#  [\"Bayern Munich\", \"https://i.imgur.com/rO1xVQh.png\"], [\"Bochum\", \"https://i.imgur.com/3LmZ5gX.png\"],\n",
    "#  [\"Dortmund\", \"https://i.imgur.com/DyWKX0s.png\"], [\"Eint Frankfurt\", \"https://i.imgur.com/Fz4xh6m.png\"],\n",
    "#  [\"Freiburg\", \"https://i.imgur.com/1JUxe7u.png\"], [\"Greuther Fürth\", \"https://i.imgur.com/ttJEUIb.png\"],\n",
    "#  [\"Hertha BSC\", \"https://i.imgur.com/KAgTHoB.png\"], [\"Hoffenheim\", \"https://i.imgur.com/dooGO0m.png\"],\n",
    "#  [\"Köln\", \"https://i.imgur.com/Gpz6jl7.png\"], [\"Leverkusen\", \"https://i.imgur.com/q3lV6o8.png\"],\n",
    "#  [\"M'Gladbach\", \"https://i.imgur.com/K6aoRqW.png\"], [\"Mainz 05\", \"https://i.imgur.com/iOoxKkB.png\"],\n",
    "#  [\"RB Leipzig\", \"https://i.imgur.com/CXfyKw4.png\"], [\"Stuttgart\", \"https://i.imgur.com/eQB0wsT.png\"],\n",
    "#  [\"Union Berlin\", \"https://i.imgur.com/e5pjmHx.png\"], [\"Wolfsburg\", \"https://i.imgur.com/o2PP4ux.png\"],\n",
    "#  [\"Schalke 04\", \"https://i.imgur.com/FfsE1Kk.png\"], [\"Werder Bremen\", \"https://i.imgur.com/XrAnCXM.png\"],\n",
    "#  [\"Darmstadt 98\", \"https://i.imgur.com/CZbwcFI.png\"], [\"Heidenheim\", \"https://i.imgur.com/ks2nifY.png\"]\n",
    "#  ]"
   ]
  },
  {
   "cell_type": "code",
   "execution_count": null,
   "metadata": {},
   "outputs": [],
   "source": [
    "# team_logos = \\\n",
    "# [[\"Barcelona\", \"https://i.imgur.com/1ZRO0Be.png\"], [\"Villarreal\", \"https://i.imgur.com/yQJvRBY.png\"],\n",
    "#  [\"Valencia\", \"https://i.imgur.com/Erg2x2b.png\"], [\"Sevilla\", \"https://i.imgur.com/z3WXql2.png\"],\n",
    "#  [\"Real Sociedad\", \"https://i.imgur.com/KdMxrGX.png\"], [\"Real Madrid\", \"https://i.imgur.com/pPD5ZAg.png\"],\n",
    "#  [\"Rayo Vallecano\", \"https://i.imgur.com/cQ5Mv8I.png\"], [\"Osasuna\", \"https://i.imgur.com/6kAlaCy.png\"],\n",
    "#  [\"Mallorca\", \"https://i.imgur.com/Qvdlcxy.png\"], [\"Levante\", \"https://i.imgur.com/8fZG4VA.png\"],\n",
    "#  [\"Granada\", \"https://i.imgur.com/ce69kNa.png\"], [\"Getafe\", \"https://i.imgur.com/C4eV2p0.png\"],\n",
    "#  [\"Espanyol\", \"https://i.imgur.com/RHTK1eL.png\"], [\"Elche\", \"https://i.imgur.com/S9bDHtO.png\"],\n",
    "#  [\"Cádiz\", \"https://i.imgur.com/DztjVQE.png\"], [\"Celta Vigo\", \"https://i.imgur.com/kTsF0rV.png\"],\n",
    "#  [\"Betis\", \"https://i.imgur.com/zyGTmAb.png\"], [\"Atlético Madrid\", \"https://i.imgur.com/x4c0wbO.png\"],\n",
    "#  [\"Athletic Club\", \"https://i.imgur.com/qI6Uchm.png\"], [\"Alavés\", \"https://i.imgur.com/o4rSfuL.png\"],\n",
    "#  [\"Almería\", \"https://i.imgur.com/kFyJaGO.png\"], [\"Girona\", \"https://i.imgur.com/0CwKO1D.png\"],\n",
    "#  [\"Valladolid\", \"https://i.imgur.com/HCShRZI.png\"], [\"Las Palmas\", \"https://i.imgur.com/KAHlAuF.png\"]\n",
    "#  ]"
   ]
  },
  {
   "cell_type": "code",
   "execution_count": null,
   "metadata": {},
   "outputs": [],
   "source": [
    "# team_names = team_names.merge(pd.DataFrame(team_logos, columns=[\"TEAM_NAME\", \"TEAM_LOGO_URL\"]), on=\"TEAM_NAME\")"
   ]
  },
  {
   "cell_type": "code",
   "execution_count": null,
   "metadata": {},
   "outputs": [],
   "source": [
    "# ws_teams.rename({'team_name':'TEAM_NAME', 'team_id':'TEAM_WS_ID'}, axis=1, inplace=True)"
   ]
  },
  {
   "cell_type": "code",
   "execution_count": null,
   "metadata": {},
   "outputs": [],
   "source": [
    "# team_names = team_names.merge(ws_teams, on=\"TEAM_NAME\")"
   ]
  },
  {
   "cell_type": "code",
   "execution_count": null,
   "metadata": {},
   "outputs": [],
   "source": []
  },
  {
   "cell_type": "code",
   "execution_count": null,
   "metadata": {},
   "outputs": [],
   "source": [
    "upsert_to_snowflake(\"TEAMS\", team_names, ['TEAM_FBREF_ID'])"
   ]
  },
  {
   "cell_type": "code",
   "execution_count": null,
   "metadata": {},
   "outputs": [],
   "source": [
    "team_names = fetch_data(cur, 'SELECT * FROM TEAMS')"
   ]
  },
  {
   "cell_type": "code",
   "execution_count": null,
   "metadata": {},
   "outputs": [],
   "source": [
    "team_names.drop(columns=['TEAM_LOGO_URL'], inplace=True)"
   ]
  },
  {
   "cell_type": "code",
   "execution_count": null,
   "metadata": {},
   "outputs": [],
   "source": [
    "team_standard_stats = understat_table.copy()"
   ]
  },
  {
   "cell_type": "code",
   "execution_count": null,
   "metadata": {},
   "outputs": [],
   "source": [
    "# team_standard_stats.reset_index(inplace=True)\n",
    "# team_standard_stats.loc[team_standard_stats['TEAM_NAME'] == 'Luton', 'TEAM_NAME'] = 'Luton Town'\n",
    "# team_standard_stats.set_index(['COMPETITION', 'SEASON', 'TEAM_NAME'], inplace=True)"
   ]
  },
  {
   "cell_type": "code",
   "execution_count": null,
   "metadata": {},
   "outputs": [],
   "source": [
    "team_standard_stats['MATCHES_PLAYED'] = team_matches_played"
   ]
  },
  {
   "cell_type": "code",
   "execution_count": null,
   "metadata": {},
   "outputs": [],
   "source": [
    "team_standard_stats.reset_index(inplace=True)"
   ]
  },
  {
   "cell_type": "code",
   "execution_count": null,
   "metadata": {},
   "outputs": [],
   "source": [
    "team_standard_stats = team_standard_stats.merge(team_names, on='TEAM_NAME', how='left')"
   ]
  },
  {
   "cell_type": "code",
   "execution_count": null,
   "metadata": {},
   "outputs": [],
   "source": [
    "team_standard_stats = team_standard_stats[['TEAM_FBREF_ID','SEASON','COMPETITION','MATCHES_PLAYED','TEAM_WINS', \n",
    "                                           'TEAM_DRAWS', 'TEAM_LOSSES', 'TEAM_PTS', 'TEAM_XPTS']]"
   ]
  },
  {
   "cell_type": "code",
   "execution_count": null,
   "metadata": {},
   "outputs": [],
   "source": [
    "upsert_to_snowflake(\"TEAM_STANDARD_STATS\", team_standard_stats, ['TEAM_FBREF_ID', 'COMPETITION','SEASON'])"
   ]
  },
  {
   "cell_type": "code",
   "execution_count": null,
   "metadata": {},
   "outputs": [],
   "source": [
    "team_attacking_stats = understat_table.copy()"
   ]
  },
  {
   "cell_type": "code",
   "execution_count": null,
   "metadata": {},
   "outputs": [],
   "source": [
    "team_attacking_stats = team_attacking_stats.reset_index().merge(team_names, on='TEAM_NAME', how='left')"
   ]
  },
  {
   "cell_type": "code",
   "execution_count": null,
   "metadata": {},
   "outputs": [],
   "source": [
    "team_attacking_stats = team_attacking_stats[['TEAM_NAME','TEAM_FBREF_ID','COMPETITION','SEASON','NPxG','xG']]"
   ]
  },
  {
   "cell_type": "code",
   "execution_count": null,
   "metadata": {},
   "outputs": [],
   "source": [
    "team_attacking_stats.rename(columns={'NPxG': 'NPXG', 'xG':'XG'}, inplace=True)"
   ]
  },
  {
   "cell_type": "code",
   "execution_count": null,
   "metadata": {},
   "outputs": [],
   "source": [
    "team_attacking_stats.set_index(['COMPETITION', 'SEASON', 'TEAM_NAME'], inplace=True)"
   ]
  },
  {
   "cell_type": "code",
   "execution_count": null,
   "metadata": {},
   "outputs": [],
   "source": [
    "team_attacking_stats['GOALS_SCORED'] = team_goals_scored\n",
    "team_attacking_stats['SHOTS'] = team_shots\n",
    "team_attacking_stats['SHOTS_ON_TARGET'] = team_shotsOT\n",
    "team_attacking_stats['PASS_COMPLETED'] = team_pass_completed\n",
    "team_attacking_stats['PASS_ATTEMPTED'] = team_pass_attempted\n",
    "team_attacking_stats['TAKEONS_ATTEMPTED'] = team_takeons_attempted\n",
    "team_attacking_stats['TAKEONS_COMPLETED'] = team_takeons_completed\n",
    "team_attacking_stats['CROSSES_INTO_PA'] = team_crossesintoPA\n",
    "team_attacking_stats['FOULS_AGAINST'] = team_fouls_against"
   ]
  },
  {
   "cell_type": "code",
   "execution_count": null,
   "metadata": {},
   "outputs": [],
   "source": [
    "team_attacking_stats.reset_index(inplace=True)\n",
    "team_attacking_stats.drop(columns=['TEAM_NAME'], inplace=True)"
   ]
  },
  {
   "cell_type": "code",
   "execution_count": null,
   "metadata": {},
   "outputs": [],
   "source": [
    "upsert_to_snowflake(\"TEAM_ATTACKING_STATS\", team_attacking_stats, ['TEAM_FBREF_ID', 'COMPETITION','SEASON'])"
   ]
  },
  {
   "cell_type": "code",
   "execution_count": null,
   "metadata": {},
   "outputs": [],
   "source": [
    "team_defending_stats = understat_table.copy()"
   ]
  },
  {
   "cell_type": "code",
   "execution_count": null,
   "metadata": {},
   "outputs": [],
   "source": [
    "team_defending_stats = team_defending_stats.reset_index().merge(team_names, on='TEAM_NAME', how='left')"
   ]
  },
  {
   "cell_type": "code",
   "execution_count": null,
   "metadata": {},
   "outputs": [],
   "source": [
    "team_defending_stats = team_defending_stats[['TEAM_NAME','TEAM_FBREF_ID','COMPETITION','SEASON']]"
   ]
  },
  {
   "cell_type": "code",
   "execution_count": null,
   "metadata": {},
   "outputs": [],
   "source": [
    "team_defending_stats.set_index(['COMPETITION', 'SEASON', 'TEAM_NAME'], inplace=True)"
   ]
  },
  {
   "cell_type": "code",
   "execution_count": null,
   "metadata": {},
   "outputs": [],
   "source": [
    "team_defending_stats['GOALS_CONCEDED'] = team_goals_conceded\n",
    "team_defending_stats['XG_AGAINST'] = understat_table['XG_AGAINST']\n",
    "team_defending_stats['NPXG_AGAINST'] = understat_table['NPXG_AGAINST']\n",
    "team_defending_stats['TACKLES'] = team_tackles\n",
    "team_defending_stats['TACKLES_WON'] = team_tackles_won\n",
    "team_defending_stats['FOULS_MADE'] = team_fouls_made\n",
    "team_defending_stats['INTERCEPTIONS'] = team_interceptions\n",
    "team_defending_stats['BLOCKED_SHOTS'] = team_blocks_shots\n",
    "team_defending_stats['BLOCKED_PASSES'] = team_blocks_pass\n",
    "team_defending_stats['CLEARANCES'] = team_clearances\n",
    "team_defending_stats['PPDA'] = understat_table['PPDA']\n",
    "team_defending_stats['OPP_PPDA'] = team_OPPDA\n",
    "team_defending_stats['POSS_WON'] = teams_poss_won\n",
    "team_defending_stats['FINAL_3RD_PASSES_AGAINST'] = team_final_3rd_passes_against\n",
    "team_defending_stats['CLEAN_SHEETS'] = team_cleansheets\n",
    "team_defending_stats['SHOTS_FACED'] = team_shots_faced"
   ]
  },
  {
   "cell_type": "code",
   "execution_count": null,
   "metadata": {},
   "outputs": [],
   "source": [
    "team_defending_stats.reset_index(inplace=True)\n",
    "team_defending_stats.drop(columns=['TEAM_NAME'], inplace=True)"
   ]
  },
  {
   "cell_type": "code",
   "execution_count": null,
   "metadata": {},
   "outputs": [],
   "source": [
    "# sql_command = \"\"\"\n",
    "# ALTER TABLE GEGENSTATS.TABLES.TEAM_DEFENDING_STATS \n",
    "# ADD COLUMN SHOTS_FACED NUMBER(38,0);\n",
    "# \"\"\"\n",
    "\n",
    "# cur.execute(sql_command)"
   ]
  },
  {
   "cell_type": "code",
   "execution_count": null,
   "metadata": {},
   "outputs": [],
   "source": [
    "# team_shots_faced = team_shots_faced.reset_index()"
   ]
  },
  {
   "cell_type": "code",
   "execution_count": null,
   "metadata": {},
   "outputs": [],
   "source": [
    "# for index, row in team_shots_faced.iterrows():\n",
    "#     sql_command = \"\"\"\n",
    "#     UPDATE GEGENSTATS.TABLES.TEAM_DEFENDING_STATS\n",
    "#     SET SHOTS_FACED = %s\n",
    "#     WHERE TEAM_FBREF_ID = (SELECT TEAM_FBREF_ID FROM GEGENSTATS.TABLES.TEAMS WHERE TEAM_NAME = %s) \n",
    "#       AND COMPETITION = %s\n",
    "#       AND SEASON = %s\n",
    "#     \"\"\"\n",
    "\n",
    "#     values = (row['Sh'], row['TEAM_NAME'], row['COMPETITION'], row['SEASON'])\n",
    "\n",
    "#     cur.execute(sql_command, values)"
   ]
  },
  {
   "cell_type": "code",
   "execution_count": null,
   "metadata": {},
   "outputs": [],
   "source": [
    "upsert_to_snowflake(\"TEAM_DEFENDING_STATS\", team_defending_stats, ['TEAM_FBREF_ID', 'COMPETITION','SEASON'])"
   ]
  },
  {
   "cell_type": "code",
   "execution_count": null,
   "metadata": {},
   "outputs": [],
   "source": [
    "team_misc_stats = understat_table.copy()"
   ]
  },
  {
   "cell_type": "code",
   "execution_count": null,
   "metadata": {},
   "outputs": [],
   "source": [
    "team_misc_stats = team_misc_stats.reset_index().merge(team_names, on='TEAM_NAME', how='left')"
   ]
  },
  {
   "cell_type": "code",
   "execution_count": null,
   "metadata": {},
   "outputs": [],
   "source": [
    "team_misc_stats = team_misc_stats[['TEAM_NAME','TEAM_FBREF_ID','COMPETITION','SEASON']]"
   ]
  },
  {
   "cell_type": "code",
   "execution_count": null,
   "metadata": {},
   "outputs": [],
   "source": [
    "team_misc_stats.set_index(['COMPETITION', 'SEASON', 'TEAM_NAME'], inplace=True)"
   ]
  },
  {
   "cell_type": "code",
   "execution_count": null,
   "metadata": {},
   "outputs": [],
   "source": [
    "team_misc_stats['AERIALS_WON'] = team_aerials_won\n",
    "team_misc_stats['AERIALS_LOST'] = team_aerials_lost"
   ]
  },
  {
   "cell_type": "code",
   "execution_count": null,
   "metadata": {},
   "outputs": [],
   "source": [
    "team_misc_stats.reset_index(inplace=True)\n",
    "team_misc_stats.drop(columns=['TEAM_NAME'], inplace=True)"
   ]
  },
  {
   "cell_type": "code",
   "execution_count": null,
   "metadata": {},
   "outputs": [],
   "source": [
    "upsert_to_snowflake(\"TEAM_MISC_STATS\", team_misc_stats, ['TEAM_FBREF_ID', 'COMPETITION','SEASON'])"
   ]
  },
  {
   "cell_type": "markdown",
   "metadata": {},
   "source": [
    "## Competition, Season and Match Data"
   ]
  },
  {
   "cell_type": "code",
   "execution_count": null,
   "metadata": {},
   "outputs": [],
   "source": [
    "df_competitions = fbref_schedule.reset_index()[['COMPETITION', 'SEASON']].drop_duplicates().copy()"
   ]
  },
  {
   "cell_type": "code",
   "execution_count": null,
   "metadata": {},
   "outputs": [],
   "source": [
    "df_competitions['COMPETITION_NAME'] = ''\n",
    "df_competitions['COMPETITION_ACRONYM'] = ''"
   ]
  },
  {
   "cell_type": "code",
   "execution_count": null,
   "metadata": {},
   "outputs": [],
   "source": [
    "df_competitions.loc[df_competitions['COMPETITION'] == 'ENG-Premier League', 'COMPETITION_NAME'] = 'English Premier League'\n",
    "df_competitions.loc[df_competitions['COMPETITION'] == 'ENG-Premier League', 'COMPETITION_ACRONYM'] = 'EPL'"
   ]
  },
  {
   "cell_type": "code",
   "execution_count": null,
   "metadata": {},
   "outputs": [],
   "source": [
    "df_competitions"
   ]
  },
  {
   "cell_type": "code",
   "execution_count": null,
   "metadata": {},
   "outputs": [],
   "source": [
    "# upsert_to_snowflake(\"COMPETITIONS\", df_competitions, ['COMPETITION','SEASON'])"
   ]
  },
  {
   "cell_type": "code",
   "execution_count": null,
   "metadata": {},
   "outputs": [],
   "source": []
  },
  {
   "cell_type": "code",
   "execution_count": null,
   "metadata": {},
   "outputs": [],
   "source": [
    "df_seasons = df_competitions[['SEASON']].drop_duplicates().copy()"
   ]
  },
  {
   "cell_type": "code",
   "execution_count": null,
   "metadata": {},
   "outputs": [],
   "source": [
    "df_seasons['SEASON_NAME'] = ''\n",
    "df_seasons['START_YEAR'] = 0\n",
    "df_seasons['END_YEAR'] = 0"
   ]
  },
  {
   "cell_type": "code",
   "execution_count": null,
   "metadata": {},
   "outputs": [],
   "source": [
    "# df_seasons.loc[df_seasons['SEASON'] == 2122, 'SEASON_NAME'] = '2021-2022'\n",
    "# df_seasons.loc[df_seasons['SEASON'] == 2122, 'START_YEAR'] = 2021\n",
    "# df_seasons.loc[df_seasons['SEASON'] == 2122, 'END_YEAR'] = 2022\n",
    "df_seasons.loc[df_seasons['SEASON'] == 2324, 'SEASON_NAME'] = '2023-2024'\n",
    "df_seasons.loc[df_seasons['SEASON'] == 2324, 'START_YEAR'] = 2023\n",
    "df_seasons.loc[df_seasons['SEASON'] == 2324, 'END_YEAR'] = 2024"
   ]
  },
  {
   "cell_type": "code",
   "execution_count": null,
   "metadata": {},
   "outputs": [],
   "source": [
    "df_seasons"
   ]
  },
  {
   "cell_type": "code",
   "execution_count": null,
   "metadata": {},
   "outputs": [],
   "source": [
    "upsert_to_snowflake(\"SEASONS\", df_seasons, ['SEASON'])"
   ]
  },
  {
   "cell_type": "code",
   "execution_count": null,
   "metadata": {},
   "outputs": [],
   "source": [
    "df_stadiums = fbref_schedule.reset_index()[['home_team', 'SEASON',\n",
    "            'venue']].drop_duplicates().rename(columns={'home_team': 'TEAM_NAME', 'venue': 'STADIUM'})"
   ]
  },
  {
   "cell_type": "code",
   "execution_count": null,
   "metadata": {},
   "outputs": [],
   "source": [
    "df_stadiums = df_stadiums.merge(team_names, on='TEAM_NAME')[['STADIUM','SEASON','TEAM_FBREF_ID']]"
   ]
  },
  {
   "cell_type": "code",
   "execution_count": null,
   "metadata": {},
   "outputs": [],
   "source": [
    "upsert_to_snowflake(\"STADIUMS\", df_stadiums, ['TEAM_FBREF_ID','STADIUM', 'SEASON'])"
   ]
  },
  {
   "cell_type": "code",
   "execution_count": null,
   "metadata": {},
   "outputs": [],
   "source": [
    "df_matches = fbref_schedule.reset_index()[['game_id', 'date', 'time', 'home_team', 'away_team', 'COMPETITION', 'SEASON', 'venue',\n",
    "                                           'week', 'day', 'score', 'home_xg', 'away_xg', 'attendance', 'referee', 'ws_game_id']]"
   ]
  },
  {
   "cell_type": "code",
   "execution_count": null,
   "metadata": {},
   "outputs": [],
   "source": [
    "df_matches.shape"
   ]
  },
  {
   "cell_type": "code",
   "execution_count": null,
   "metadata": {},
   "outputs": [],
   "source": [
    "df_matches = df_matches.merge(team_names[['TEAM_FBREF_ID','TEAM_NAME']].rename(columns={'TEAM_FBREF_ID': 'home_team_id', \n",
    "                                                         'TEAM_NAME': 'home_team'}), on='home_team', how='left')"
   ]
  },
  {
   "cell_type": "code",
   "execution_count": null,
   "metadata": {},
   "outputs": [],
   "source": [
    "df_matches = df_matches.merge(team_names[['TEAM_FBREF_ID','TEAM_NAME']].rename(columns={'TEAM_FBREF_ID': 'away_team_id', \n",
    "                                                         'TEAM_NAME': 'away_team'}), on='away_team', how='left')"
   ]
  },
  {
   "cell_type": "code",
   "execution_count": null,
   "metadata": {},
   "outputs": [],
   "source": [
    "# Combine df_matches date and time to a dt.datatime configuration\n",
    "df_matches['date'] = df_matches['date'].astype(str)\n",
    "df_matches['time'] = df_matches['time'].astype(str)\n",
    "df_matches['date_time'] = df_matches['date'] + ' ' + df_matches['time']\n",
    "df_matches['date_time'] = pd.to_datetime(df_matches['date_time'])"
   ]
  },
  {
   "cell_type": "code",
   "execution_count": null,
   "metadata": {},
   "outputs": [],
   "source": [
    "# Split score in df_matches by \"-\" to home_team_score and away_team_score \n",
    "df_matches[['home_team_score', 'away_team_score']] = df_matches['score'].str.split('–', expand=True)"
   ]
  },
  {
   "cell_type": "code",
   "execution_count": null,
   "metadata": {},
   "outputs": [],
   "source": [
    "df_matches.rename(columns={'game_id': 'MATCH_ID', 'date_time': 'DATE_TIME', 'home_team_id': 'HOME_TEAM_ID', 'away_team_id': 'AWAY_TEAM_ID',\n",
    "                           'venue': 'STADIUM', 'week': 'GAMEWEEK', 'day': 'DAY','home_team_score': 'HOME_TEAM_SCORE', \n",
    "                           'away_team_score':'AWAY_TEAM_SCORE', 'home_xg':'HOME_TEAM_XG','away_xg':'AWAY_TEAM_XG',\n",
    "                           'attendance':'ATTENDANCE', 'referee': 'REFEREE', 'ws_game_id':'WS_MATCH_ID'}, inplace=True)"
   ]
  },
  {
   "cell_type": "code",
   "execution_count": null,
   "metadata": {},
   "outputs": [],
   "source": [
    "df_matches.drop(columns=['date', 'time', 'home_team', 'away_team', 'score'], inplace=True)"
   ]
  },
  {
   "cell_type": "code",
   "execution_count": null,
   "metadata": {},
   "outputs": [],
   "source": [
    "df_matches['DATE_TIME'] = df_matches['DATE_TIME'].astype('string')"
   ]
  },
  {
   "cell_type": "code",
   "execution_count": null,
   "metadata": {},
   "outputs": [],
   "source": [
    "upsert_to_snowflake(\"MATCHES\", df_matches, ['MATCH_ID'])"
   ]
  },
  {
   "cell_type": "markdown",
   "metadata": {},
   "source": [
    "### Time to deal with event data"
   ]
  },
  {
   "cell_type": "code",
   "execution_count": null,
   "metadata": {},
   "outputs": [],
   "source": [
    "# ws_event_spadl = ws.read_events(output_fmt='spadl', match_id=1729409)"
   ]
  },
  {
   "cell_type": "code",
   "execution_count": 12,
   "metadata": {},
   "outputs": [
    {
     "data": {
      "text/html": [
       "<pre style=\"white-space:pre;overflow-x:auto;line-height:normal;font-family:Menlo,'DejaVu Sans Mono',consolas,'Courier New',monospace\"><span style=\"color: #7fbfbf; text-decoration-color: #7fbfbf\">[06/05/24 11:31:23] </span><span style=\"color: #000080; text-decoration-color: #000080\">INFO    </span> Retrieving calendar for ITA-Serie A <span style=\"color: #008080; text-decoration-color: #008080; font-weight: bold\">2324</span>                              <a href=\"file://d:\\Users\\ksbha\\miniconda3\\envs\\footy\\Lib\\site-packages\\soccerdata\\whoscored.py\" target=\"_blank\"><span style=\"color: #7f7f7f; text-decoration-color: #7f7f7f\">whoscored.py</span></a><span style=\"color: #7f7f7f; text-decoration-color: #7f7f7f\">:</span><a href=\"file://d:\\Users\\ksbha\\miniconda3\\envs\\footy\\Lib\\site-packages\\soccerdata\\whoscored.py#431\" target=\"_blank\"><span style=\"color: #7f7f7f; text-decoration-color: #7f7f7f\">431</span></a>\n",
       "</pre>\n"
      ],
      "text/plain": [
       "\u001b[2;36m[06/05/24 11:31:23]\u001b[0m\u001b[2;36m \u001b[0m\u001b[34mINFO    \u001b[0m Retrieving calendar for ITA-Serie A \u001b[1;36m2324\u001b[0m                              \u001b]8;id=405259;file://d:\\Users\\ksbha\\miniconda3\\envs\\footy\\Lib\\site-packages\\soccerdata\\whoscored.py\u001b\\\u001b[2mwhoscored.py\u001b[0m\u001b]8;;\u001b\\\u001b[2m:\u001b[0m\u001b]8;id=36060;file://d:\\Users\\ksbha\\miniconda3\\envs\\footy\\Lib\\site-packages\\soccerdata\\whoscored.py#431\u001b\\\u001b[2m431\u001b[0m\u001b]8;;\u001b\\\n"
      ]
     },
     "metadata": {},
     "output_type": "display_data"
    },
    {
     "data": {
      "text/html": [
       "<pre style=\"white-space:pre;overflow-x:auto;line-height:normal;font-family:Menlo,'DejaVu Sans Mono',consolas,'Courier New',monospace\"><span style=\"color: #7fbfbf; text-decoration-color: #7fbfbf\">                    </span><span style=\"color: #000080; text-decoration-color: #000080\">INFO    </span> <span style=\"font-weight: bold\">[</span><span style=\"color: #008080; text-decoration-color: #008080; font-weight: bold\">1</span>/<span style=\"color: #008080; text-decoration-color: #008080; font-weight: bold\">11</span><span style=\"font-weight: bold\">]</span> Retrieving fixtures for ITA-Serie A <span style=\"color: #008080; text-decoration-color: #008080; font-weight: bold\">2324</span>                       <a href=\"file://d:\\Users\\ksbha\\miniconda3\\envs\\footy\\Lib\\site-packages\\soccerdata\\whoscored.py\" target=\"_blank\"><span style=\"color: #7f7f7f; text-decoration-color: #7f7f7f\">whoscored.py</span></a><span style=\"color: #7f7f7f; text-decoration-color: #7f7f7f\">:</span><a href=\"file://d:\\Users\\ksbha\\miniconda3\\envs\\footy\\Lib\\site-packages\\soccerdata\\whoscored.py#460\" target=\"_blank\"><span style=\"color: #7f7f7f; text-decoration-color: #7f7f7f\">460</span></a>\n",
       "</pre>\n"
      ],
      "text/plain": [
       "\u001b[2;36m                   \u001b[0m\u001b[2;36m \u001b[0m\u001b[34mINFO    \u001b[0m \u001b[1m[\u001b[0m\u001b[1;36m1\u001b[0m/\u001b[1;36m11\u001b[0m\u001b[1m]\u001b[0m Retrieving fixtures for ITA-Serie A \u001b[1;36m2324\u001b[0m                       \u001b]8;id=136495;file://d:\\Users\\ksbha\\miniconda3\\envs\\footy\\Lib\\site-packages\\soccerdata\\whoscored.py\u001b\\\u001b[2mwhoscored.py\u001b[0m\u001b]8;;\u001b\\\u001b[2m:\u001b[0m\u001b]8;id=250880;file://d:\\Users\\ksbha\\miniconda3\\envs\\footy\\Lib\\site-packages\\soccerdata\\whoscored.py#460\u001b\\\u001b[2m460\u001b[0m\u001b]8;;\u001b\\\n"
      ]
     },
     "metadata": {},
     "output_type": "display_data"
    },
    {
     "data": {
      "text/html": [
       "<pre style=\"white-space:pre;overflow-x:auto;line-height:normal;font-family:Menlo,'DejaVu Sans Mono',consolas,'Courier New',monospace\"><span style=\"color: #7fbfbf; text-decoration-color: #7fbfbf\">                    </span><span style=\"color: #000080; text-decoration-color: #000080\">INFO    </span> <span style=\"font-weight: bold\">[</span><span style=\"color: #008080; text-decoration-color: #008080; font-weight: bold\">2</span>/<span style=\"color: #008080; text-decoration-color: #008080; font-weight: bold\">11</span><span style=\"font-weight: bold\">]</span> Retrieving fixtures for ITA-Serie A <span style=\"color: #008080; text-decoration-color: #008080; font-weight: bold\">2324</span>                       <a href=\"file://d:\\Users\\ksbha\\miniconda3\\envs\\footy\\Lib\\site-packages\\soccerdata\\whoscored.py\" target=\"_blank\"><span style=\"color: #7f7f7f; text-decoration-color: #7f7f7f\">whoscored.py</span></a><span style=\"color: #7f7f7f; text-decoration-color: #7f7f7f\">:</span><a href=\"file://d:\\Users\\ksbha\\miniconda3\\envs\\footy\\Lib\\site-packages\\soccerdata\\whoscored.py#460\" target=\"_blank\"><span style=\"color: #7f7f7f; text-decoration-color: #7f7f7f\">460</span></a>\n",
       "</pre>\n"
      ],
      "text/plain": [
       "\u001b[2;36m                   \u001b[0m\u001b[2;36m \u001b[0m\u001b[34mINFO    \u001b[0m \u001b[1m[\u001b[0m\u001b[1;36m2\u001b[0m/\u001b[1;36m11\u001b[0m\u001b[1m]\u001b[0m Retrieving fixtures for ITA-Serie A \u001b[1;36m2324\u001b[0m                       \u001b]8;id=677157;file://d:\\Users\\ksbha\\miniconda3\\envs\\footy\\Lib\\site-packages\\soccerdata\\whoscored.py\u001b\\\u001b[2mwhoscored.py\u001b[0m\u001b]8;;\u001b\\\u001b[2m:\u001b[0m\u001b]8;id=361705;file://d:\\Users\\ksbha\\miniconda3\\envs\\footy\\Lib\\site-packages\\soccerdata\\whoscored.py#460\u001b\\\u001b[2m460\u001b[0m\u001b]8;;\u001b\\\n"
      ]
     },
     "metadata": {},
     "output_type": "display_data"
    },
    {
     "data": {
      "text/html": [
       "<pre style=\"white-space:pre;overflow-x:auto;line-height:normal;font-family:Menlo,'DejaVu Sans Mono',consolas,'Courier New',monospace\"><span style=\"color: #7fbfbf; text-decoration-color: #7fbfbf\">                    </span><span style=\"color: #000080; text-decoration-color: #000080\">INFO    </span> <span style=\"font-weight: bold\">[</span><span style=\"color: #008080; text-decoration-color: #008080; font-weight: bold\">3</span>/<span style=\"color: #008080; text-decoration-color: #008080; font-weight: bold\">11</span><span style=\"font-weight: bold\">]</span> Retrieving fixtures for ITA-Serie A <span style=\"color: #008080; text-decoration-color: #008080; font-weight: bold\">2324</span>                       <a href=\"file://d:\\Users\\ksbha\\miniconda3\\envs\\footy\\Lib\\site-packages\\soccerdata\\whoscored.py\" target=\"_blank\"><span style=\"color: #7f7f7f; text-decoration-color: #7f7f7f\">whoscored.py</span></a><span style=\"color: #7f7f7f; text-decoration-color: #7f7f7f\">:</span><a href=\"file://d:\\Users\\ksbha\\miniconda3\\envs\\footy\\Lib\\site-packages\\soccerdata\\whoscored.py#460\" target=\"_blank\"><span style=\"color: #7f7f7f; text-decoration-color: #7f7f7f\">460</span></a>\n",
       "</pre>\n"
      ],
      "text/plain": [
       "\u001b[2;36m                   \u001b[0m\u001b[2;36m \u001b[0m\u001b[34mINFO    \u001b[0m \u001b[1m[\u001b[0m\u001b[1;36m3\u001b[0m/\u001b[1;36m11\u001b[0m\u001b[1m]\u001b[0m Retrieving fixtures for ITA-Serie A \u001b[1;36m2324\u001b[0m                       \u001b]8;id=949338;file://d:\\Users\\ksbha\\miniconda3\\envs\\footy\\Lib\\site-packages\\soccerdata\\whoscored.py\u001b\\\u001b[2mwhoscored.py\u001b[0m\u001b]8;;\u001b\\\u001b[2m:\u001b[0m\u001b]8;id=629270;file://d:\\Users\\ksbha\\miniconda3\\envs\\footy\\Lib\\site-packages\\soccerdata\\whoscored.py#460\u001b\\\u001b[2m460\u001b[0m\u001b]8;;\u001b\\\n"
      ]
     },
     "metadata": {},
     "output_type": "display_data"
    },
    {
     "data": {
      "text/html": [
       "<pre style=\"white-space:pre;overflow-x:auto;line-height:normal;font-family:Menlo,'DejaVu Sans Mono',consolas,'Courier New',monospace\"><span style=\"color: #7fbfbf; text-decoration-color: #7fbfbf\">                    </span><span style=\"color: #000080; text-decoration-color: #000080\">INFO    </span> <span style=\"font-weight: bold\">[</span><span style=\"color: #008080; text-decoration-color: #008080; font-weight: bold\">4</span>/<span style=\"color: #008080; text-decoration-color: #008080; font-weight: bold\">11</span><span style=\"font-weight: bold\">]</span> Retrieving fixtures for ITA-Serie A <span style=\"color: #008080; text-decoration-color: #008080; font-weight: bold\">2324</span>                       <a href=\"file://d:\\Users\\ksbha\\miniconda3\\envs\\footy\\Lib\\site-packages\\soccerdata\\whoscored.py\" target=\"_blank\"><span style=\"color: #7f7f7f; text-decoration-color: #7f7f7f\">whoscored.py</span></a><span style=\"color: #7f7f7f; text-decoration-color: #7f7f7f\">:</span><a href=\"file://d:\\Users\\ksbha\\miniconda3\\envs\\footy\\Lib\\site-packages\\soccerdata\\whoscored.py#460\" target=\"_blank\"><span style=\"color: #7f7f7f; text-decoration-color: #7f7f7f\">460</span></a>\n",
       "</pre>\n"
      ],
      "text/plain": [
       "\u001b[2;36m                   \u001b[0m\u001b[2;36m \u001b[0m\u001b[34mINFO    \u001b[0m \u001b[1m[\u001b[0m\u001b[1;36m4\u001b[0m/\u001b[1;36m11\u001b[0m\u001b[1m]\u001b[0m Retrieving fixtures for ITA-Serie A \u001b[1;36m2324\u001b[0m                       \u001b]8;id=385313;file://d:\\Users\\ksbha\\miniconda3\\envs\\footy\\Lib\\site-packages\\soccerdata\\whoscored.py\u001b\\\u001b[2mwhoscored.py\u001b[0m\u001b]8;;\u001b\\\u001b[2m:\u001b[0m\u001b]8;id=487645;file://d:\\Users\\ksbha\\miniconda3\\envs\\footy\\Lib\\site-packages\\soccerdata\\whoscored.py#460\u001b\\\u001b[2m460\u001b[0m\u001b]8;;\u001b\\\n"
      ]
     },
     "metadata": {},
     "output_type": "display_data"
    },
    {
     "data": {
      "text/html": [
       "<pre style=\"white-space:pre;overflow-x:auto;line-height:normal;font-family:Menlo,'DejaVu Sans Mono',consolas,'Courier New',monospace\"><span style=\"color: #7fbfbf; text-decoration-color: #7fbfbf\">                    </span><span style=\"color: #000080; text-decoration-color: #000080\">INFO    </span> <span style=\"font-weight: bold\">[</span><span style=\"color: #008080; text-decoration-color: #008080; font-weight: bold\">5</span>/<span style=\"color: #008080; text-decoration-color: #008080; font-weight: bold\">11</span><span style=\"font-weight: bold\">]</span> Retrieving fixtures for ITA-Serie A <span style=\"color: #008080; text-decoration-color: #008080; font-weight: bold\">2324</span>                       <a href=\"file://d:\\Users\\ksbha\\miniconda3\\envs\\footy\\Lib\\site-packages\\soccerdata\\whoscored.py\" target=\"_blank\"><span style=\"color: #7f7f7f; text-decoration-color: #7f7f7f\">whoscored.py</span></a><span style=\"color: #7f7f7f; text-decoration-color: #7f7f7f\">:</span><a href=\"file://d:\\Users\\ksbha\\miniconda3\\envs\\footy\\Lib\\site-packages\\soccerdata\\whoscored.py#460\" target=\"_blank\"><span style=\"color: #7f7f7f; text-decoration-color: #7f7f7f\">460</span></a>\n",
       "</pre>\n"
      ],
      "text/plain": [
       "\u001b[2;36m                   \u001b[0m\u001b[2;36m \u001b[0m\u001b[34mINFO    \u001b[0m \u001b[1m[\u001b[0m\u001b[1;36m5\u001b[0m/\u001b[1;36m11\u001b[0m\u001b[1m]\u001b[0m Retrieving fixtures for ITA-Serie A \u001b[1;36m2324\u001b[0m                       \u001b]8;id=240800;file://d:\\Users\\ksbha\\miniconda3\\envs\\footy\\Lib\\site-packages\\soccerdata\\whoscored.py\u001b\\\u001b[2mwhoscored.py\u001b[0m\u001b]8;;\u001b\\\u001b[2m:\u001b[0m\u001b]8;id=121309;file://d:\\Users\\ksbha\\miniconda3\\envs\\footy\\Lib\\site-packages\\soccerdata\\whoscored.py#460\u001b\\\u001b[2m460\u001b[0m\u001b]8;;\u001b\\\n"
      ]
     },
     "metadata": {},
     "output_type": "display_data"
    },
    {
     "data": {
      "text/html": [
       "<pre style=\"white-space:pre;overflow-x:auto;line-height:normal;font-family:Menlo,'DejaVu Sans Mono',consolas,'Courier New',monospace\"><span style=\"color: #7fbfbf; text-decoration-color: #7fbfbf\">                    </span><span style=\"color: #000080; text-decoration-color: #000080\">INFO    </span> <span style=\"font-weight: bold\">[</span><span style=\"color: #008080; text-decoration-color: #008080; font-weight: bold\">6</span>/<span style=\"color: #008080; text-decoration-color: #008080; font-weight: bold\">11</span><span style=\"font-weight: bold\">]</span> Retrieving fixtures for ITA-Serie A <span style=\"color: #008080; text-decoration-color: #008080; font-weight: bold\">2324</span>                       <a href=\"file://d:\\Users\\ksbha\\miniconda3\\envs\\footy\\Lib\\site-packages\\soccerdata\\whoscored.py\" target=\"_blank\"><span style=\"color: #7f7f7f; text-decoration-color: #7f7f7f\">whoscored.py</span></a><span style=\"color: #7f7f7f; text-decoration-color: #7f7f7f\">:</span><a href=\"file://d:\\Users\\ksbha\\miniconda3\\envs\\footy\\Lib\\site-packages\\soccerdata\\whoscored.py#460\" target=\"_blank\"><span style=\"color: #7f7f7f; text-decoration-color: #7f7f7f\">460</span></a>\n",
       "</pre>\n"
      ],
      "text/plain": [
       "\u001b[2;36m                   \u001b[0m\u001b[2;36m \u001b[0m\u001b[34mINFO    \u001b[0m \u001b[1m[\u001b[0m\u001b[1;36m6\u001b[0m/\u001b[1;36m11\u001b[0m\u001b[1m]\u001b[0m Retrieving fixtures for ITA-Serie A \u001b[1;36m2324\u001b[0m                       \u001b]8;id=984752;file://d:\\Users\\ksbha\\miniconda3\\envs\\footy\\Lib\\site-packages\\soccerdata\\whoscored.py\u001b\\\u001b[2mwhoscored.py\u001b[0m\u001b]8;;\u001b\\\u001b[2m:\u001b[0m\u001b]8;id=460981;file://d:\\Users\\ksbha\\miniconda3\\envs\\footy\\Lib\\site-packages\\soccerdata\\whoscored.py#460\u001b\\\u001b[2m460\u001b[0m\u001b]8;;\u001b\\\n"
      ]
     },
     "metadata": {},
     "output_type": "display_data"
    },
    {
     "data": {
      "text/html": [
       "<pre style=\"white-space:pre;overflow-x:auto;line-height:normal;font-family:Menlo,'DejaVu Sans Mono',consolas,'Courier New',monospace\"><span style=\"color: #7fbfbf; text-decoration-color: #7fbfbf\">                    </span><span style=\"color: #000080; text-decoration-color: #000080\">INFO    </span> <span style=\"font-weight: bold\">[</span><span style=\"color: #008080; text-decoration-color: #008080; font-weight: bold\">7</span>/<span style=\"color: #008080; text-decoration-color: #008080; font-weight: bold\">11</span><span style=\"font-weight: bold\">]</span> Retrieving fixtures for ITA-Serie A <span style=\"color: #008080; text-decoration-color: #008080; font-weight: bold\">2324</span>                       <a href=\"file://d:\\Users\\ksbha\\miniconda3\\envs\\footy\\Lib\\site-packages\\soccerdata\\whoscored.py\" target=\"_blank\"><span style=\"color: #7f7f7f; text-decoration-color: #7f7f7f\">whoscored.py</span></a><span style=\"color: #7f7f7f; text-decoration-color: #7f7f7f\">:</span><a href=\"file://d:\\Users\\ksbha\\miniconda3\\envs\\footy\\Lib\\site-packages\\soccerdata\\whoscored.py#460\" target=\"_blank\"><span style=\"color: #7f7f7f; text-decoration-color: #7f7f7f\">460</span></a>\n",
       "</pre>\n"
      ],
      "text/plain": [
       "\u001b[2;36m                   \u001b[0m\u001b[2;36m \u001b[0m\u001b[34mINFO    \u001b[0m \u001b[1m[\u001b[0m\u001b[1;36m7\u001b[0m/\u001b[1;36m11\u001b[0m\u001b[1m]\u001b[0m Retrieving fixtures for ITA-Serie A \u001b[1;36m2324\u001b[0m                       \u001b]8;id=279924;file://d:\\Users\\ksbha\\miniconda3\\envs\\footy\\Lib\\site-packages\\soccerdata\\whoscored.py\u001b\\\u001b[2mwhoscored.py\u001b[0m\u001b]8;;\u001b\\\u001b[2m:\u001b[0m\u001b]8;id=576233;file://d:\\Users\\ksbha\\miniconda3\\envs\\footy\\Lib\\site-packages\\soccerdata\\whoscored.py#460\u001b\\\u001b[2m460\u001b[0m\u001b]8;;\u001b\\\n"
      ]
     },
     "metadata": {},
     "output_type": "display_data"
    },
    {
     "data": {
      "text/html": [
       "<pre style=\"white-space:pre;overflow-x:auto;line-height:normal;font-family:Menlo,'DejaVu Sans Mono',consolas,'Courier New',monospace\"><span style=\"color: #7fbfbf; text-decoration-color: #7fbfbf\">                    </span><span style=\"color: #000080; text-decoration-color: #000080\">INFO    </span> <span style=\"font-weight: bold\">[</span><span style=\"color: #008080; text-decoration-color: #008080; font-weight: bold\">8</span>/<span style=\"color: #008080; text-decoration-color: #008080; font-weight: bold\">11</span><span style=\"font-weight: bold\">]</span> Retrieving fixtures for ITA-Serie A <span style=\"color: #008080; text-decoration-color: #008080; font-weight: bold\">2324</span>                       <a href=\"file://d:\\Users\\ksbha\\miniconda3\\envs\\footy\\Lib\\site-packages\\soccerdata\\whoscored.py\" target=\"_blank\"><span style=\"color: #7f7f7f; text-decoration-color: #7f7f7f\">whoscored.py</span></a><span style=\"color: #7f7f7f; text-decoration-color: #7f7f7f\">:</span><a href=\"file://d:\\Users\\ksbha\\miniconda3\\envs\\footy\\Lib\\site-packages\\soccerdata\\whoscored.py#460\" target=\"_blank\"><span style=\"color: #7f7f7f; text-decoration-color: #7f7f7f\">460</span></a>\n",
       "</pre>\n"
      ],
      "text/plain": [
       "\u001b[2;36m                   \u001b[0m\u001b[2;36m \u001b[0m\u001b[34mINFO    \u001b[0m \u001b[1m[\u001b[0m\u001b[1;36m8\u001b[0m/\u001b[1;36m11\u001b[0m\u001b[1m]\u001b[0m Retrieving fixtures for ITA-Serie A \u001b[1;36m2324\u001b[0m                       \u001b]8;id=959294;file://d:\\Users\\ksbha\\miniconda3\\envs\\footy\\Lib\\site-packages\\soccerdata\\whoscored.py\u001b\\\u001b[2mwhoscored.py\u001b[0m\u001b]8;;\u001b\\\u001b[2m:\u001b[0m\u001b]8;id=683499;file://d:\\Users\\ksbha\\miniconda3\\envs\\footy\\Lib\\site-packages\\soccerdata\\whoscored.py#460\u001b\\\u001b[2m460\u001b[0m\u001b]8;;\u001b\\\n"
      ]
     },
     "metadata": {},
     "output_type": "display_data"
    },
    {
     "data": {
      "text/html": [
       "<pre style=\"white-space:pre;overflow-x:auto;line-height:normal;font-family:Menlo,'DejaVu Sans Mono',consolas,'Courier New',monospace\"><span style=\"color: #7fbfbf; text-decoration-color: #7fbfbf\">                    </span><span style=\"color: #000080; text-decoration-color: #000080\">INFO    </span> <span style=\"font-weight: bold\">[</span><span style=\"color: #008080; text-decoration-color: #008080; font-weight: bold\">9</span>/<span style=\"color: #008080; text-decoration-color: #008080; font-weight: bold\">11</span><span style=\"font-weight: bold\">]</span> Retrieving fixtures for ITA-Serie A <span style=\"color: #008080; text-decoration-color: #008080; font-weight: bold\">2324</span>                       <a href=\"file://d:\\Users\\ksbha\\miniconda3\\envs\\footy\\Lib\\site-packages\\soccerdata\\whoscored.py\" target=\"_blank\"><span style=\"color: #7f7f7f; text-decoration-color: #7f7f7f\">whoscored.py</span></a><span style=\"color: #7f7f7f; text-decoration-color: #7f7f7f\">:</span><a href=\"file://d:\\Users\\ksbha\\miniconda3\\envs\\footy\\Lib\\site-packages\\soccerdata\\whoscored.py#460\" target=\"_blank\"><span style=\"color: #7f7f7f; text-decoration-color: #7f7f7f\">460</span></a>\n",
       "</pre>\n"
      ],
      "text/plain": [
       "\u001b[2;36m                   \u001b[0m\u001b[2;36m \u001b[0m\u001b[34mINFO    \u001b[0m \u001b[1m[\u001b[0m\u001b[1;36m9\u001b[0m/\u001b[1;36m11\u001b[0m\u001b[1m]\u001b[0m Retrieving fixtures for ITA-Serie A \u001b[1;36m2324\u001b[0m                       \u001b]8;id=84569;file://d:\\Users\\ksbha\\miniconda3\\envs\\footy\\Lib\\site-packages\\soccerdata\\whoscored.py\u001b\\\u001b[2mwhoscored.py\u001b[0m\u001b]8;;\u001b\\\u001b[2m:\u001b[0m\u001b]8;id=737539;file://d:\\Users\\ksbha\\miniconda3\\envs\\footy\\Lib\\site-packages\\soccerdata\\whoscored.py#460\u001b\\\u001b[2m460\u001b[0m\u001b]8;;\u001b\\\n"
      ]
     },
     "metadata": {},
     "output_type": "display_data"
    },
    {
     "data": {
      "text/html": [
       "<pre style=\"white-space:pre;overflow-x:auto;line-height:normal;font-family:Menlo,'DejaVu Sans Mono',consolas,'Courier New',monospace\"><span style=\"color: #7fbfbf; text-decoration-color: #7fbfbf\">                    </span><span style=\"color: #000080; text-decoration-color: #000080\">INFO    </span> <span style=\"font-weight: bold\">[</span><span style=\"color: #008080; text-decoration-color: #008080; font-weight: bold\">10</span>/<span style=\"color: #008080; text-decoration-color: #008080; font-weight: bold\">11</span><span style=\"font-weight: bold\">]</span> Retrieving fixtures for ITA-Serie A <span style=\"color: #008080; text-decoration-color: #008080; font-weight: bold\">2324</span>                      <a href=\"file://d:\\Users\\ksbha\\miniconda3\\envs\\footy\\Lib\\site-packages\\soccerdata\\whoscored.py\" target=\"_blank\"><span style=\"color: #7f7f7f; text-decoration-color: #7f7f7f\">whoscored.py</span></a><span style=\"color: #7f7f7f; text-decoration-color: #7f7f7f\">:</span><a href=\"file://d:\\Users\\ksbha\\miniconda3\\envs\\footy\\Lib\\site-packages\\soccerdata\\whoscored.py#460\" target=\"_blank\"><span style=\"color: #7f7f7f; text-decoration-color: #7f7f7f\">460</span></a>\n",
       "</pre>\n"
      ],
      "text/plain": [
       "\u001b[2;36m                   \u001b[0m\u001b[2;36m \u001b[0m\u001b[34mINFO    \u001b[0m \u001b[1m[\u001b[0m\u001b[1;36m10\u001b[0m/\u001b[1;36m11\u001b[0m\u001b[1m]\u001b[0m Retrieving fixtures for ITA-Serie A \u001b[1;36m2324\u001b[0m                      \u001b]8;id=51515;file://d:\\Users\\ksbha\\miniconda3\\envs\\footy\\Lib\\site-packages\\soccerdata\\whoscored.py\u001b\\\u001b[2mwhoscored.py\u001b[0m\u001b]8;;\u001b\\\u001b[2m:\u001b[0m\u001b]8;id=423341;file://d:\\Users\\ksbha\\miniconda3\\envs\\footy\\Lib\\site-packages\\soccerdata\\whoscored.py#460\u001b\\\u001b[2m460\u001b[0m\u001b]8;;\u001b\\\n"
      ]
     },
     "metadata": {},
     "output_type": "display_data"
    },
    {
     "data": {
      "text/html": [
       "<pre style=\"white-space:pre;overflow-x:auto;line-height:normal;font-family:Menlo,'DejaVu Sans Mono',consolas,'Courier New',monospace\"><span style=\"color: #7fbfbf; text-decoration-color: #7fbfbf\">                    </span><span style=\"color: #000080; text-decoration-color: #000080\">INFO    </span> <span style=\"font-weight: bold\">[</span><span style=\"color: #008080; text-decoration-color: #008080; font-weight: bold\">11</span>/<span style=\"color: #008080; text-decoration-color: #008080; font-weight: bold\">11</span><span style=\"font-weight: bold\">]</span> Retrieving fixtures for ITA-Serie A <span style=\"color: #008080; text-decoration-color: #008080; font-weight: bold\">2324</span>                      <a href=\"file://d:\\Users\\ksbha\\miniconda3\\envs\\footy\\Lib\\site-packages\\soccerdata\\whoscored.py\" target=\"_blank\"><span style=\"color: #7f7f7f; text-decoration-color: #7f7f7f\">whoscored.py</span></a><span style=\"color: #7f7f7f; text-decoration-color: #7f7f7f\">:</span><a href=\"file://d:\\Users\\ksbha\\miniconda3\\envs\\footy\\Lib\\site-packages\\soccerdata\\whoscored.py#460\" target=\"_blank\"><span style=\"color: #7f7f7f; text-decoration-color: #7f7f7f\">460</span></a>\n",
       "</pre>\n"
      ],
      "text/plain": [
       "\u001b[2;36m                   \u001b[0m\u001b[2;36m \u001b[0m\u001b[34mINFO    \u001b[0m \u001b[1m[\u001b[0m\u001b[1;36m11\u001b[0m/\u001b[1;36m11\u001b[0m\u001b[1m]\u001b[0m Retrieving fixtures for ITA-Serie A \u001b[1;36m2324\u001b[0m                      \u001b]8;id=933327;file://d:\\Users\\ksbha\\miniconda3\\envs\\footy\\Lib\\site-packages\\soccerdata\\whoscored.py\u001b\\\u001b[2mwhoscored.py\u001b[0m\u001b]8;;\u001b\\\u001b[2m:\u001b[0m\u001b]8;id=704090;file://d:\\Users\\ksbha\\miniconda3\\envs\\footy\\Lib\\site-packages\\soccerdata\\whoscored.py#460\u001b\\\u001b[2m460\u001b[0m\u001b]8;;\u001b\\\n"
      ]
     },
     "metadata": {},
     "output_type": "display_data"
    },
    {
     "name": "stderr",
     "output_type": "stream",
     "text": [
      "d:\\Users\\ksbha\\miniconda3\\envs\\footy\\Lib\\site-packages\\soccerdata\\whoscored.py:484: FutureWarning: The behavior of DataFrame concatenation with empty or all-NA entries is deprecated. In a future version, this will no longer exclude empty or all-NA columns when determining the result dtypes. To retain the old behavior, exclude the relevant entries before the concat operation.\n",
      "  pd.concat(all_schedules)\n"
     ]
    },
    {
     "data": {
      "text/html": [
       "<pre style=\"white-space:pre;overflow-x:auto;line-height:normal;font-family:Menlo,'DejaVu Sans Mono',consolas,'Courier New',monospace\"><span style=\"color: #7fbfbf; text-decoration-color: #7fbfbf\">                    </span><span style=\"color: #000080; text-decoration-color: #000080\">INFO    </span> <span style=\"font-weight: bold\">[</span><span style=\"color: #008080; text-decoration-color: #008080; font-weight: bold\">1</span>/<span style=\"color: #008080; text-decoration-color: #008080; font-weight: bold\">1</span><span style=\"font-weight: bold\">]</span> Retrieving game with <span style=\"color: #808000; text-decoration-color: #808000\">id</span>=<span style=\"color: #008080; text-decoration-color: #008080; font-weight: bold\">1746314</span>                                 <a href=\"file://d:\\Users\\ksbha\\miniconda3\\envs\\footy\\Lib\\site-packages\\soccerdata\\whoscored.py\" target=\"_blank\"><span style=\"color: #7f7f7f; text-decoration-color: #7f7f7f\">whoscored.py</span></a><span style=\"color: #7f7f7f; text-decoration-color: #7f7f7f\">:</span><a href=\"file://d:\\Users\\ksbha\\miniconda3\\envs\\footy\\Lib\\site-packages\\soccerdata\\whoscored.py#754\" target=\"_blank\"><span style=\"color: #7f7f7f; text-decoration-color: #7f7f7f\">754</span></a>\n",
       "</pre>\n"
      ],
      "text/plain": [
       "\u001b[2;36m                   \u001b[0m\u001b[2;36m \u001b[0m\u001b[34mINFO    \u001b[0m \u001b[1m[\u001b[0m\u001b[1;36m1\u001b[0m/\u001b[1;36m1\u001b[0m\u001b[1m]\u001b[0m Retrieving game with \u001b[33mid\u001b[0m=\u001b[1;36m1746314\u001b[0m                                 \u001b]8;id=628351;file://d:\\Users\\ksbha\\miniconda3\\envs\\footy\\Lib\\site-packages\\soccerdata\\whoscored.py\u001b\\\u001b[2mwhoscored.py\u001b[0m\u001b]8;;\u001b\\\u001b[2m:\u001b[0m\u001b]8;id=413882;file://d:\\Users\\ksbha\\miniconda3\\envs\\footy\\Lib\\site-packages\\soccerdata\\whoscored.py#754\u001b\\\u001b[2m754\u001b[0m\u001b]8;;\u001b\\\n"
      ]
     },
     "metadata": {},
     "output_type": "display_data"
    }
   ],
   "source": [
    "ws_event = ws.read_events(match_id=1746314)"
   ]
  },
  {
   "cell_type": "code",
   "execution_count": 12,
   "metadata": {},
   "outputs": [
    {
     "data": {
      "text/plain": [
       "array(['FormationSet', 'Start', 'Pass', 'MissedShots', 'Aerial',\n",
       "       'Challenge', 'TakeOn', 'BallRecovery', 'BlockedPass', 'SavedShot',\n",
       "       'Save', 'Foul', 'Clearance', 'CornerAwarded', 'Interception',\n",
       "       'OffsidePass', 'OffsideProvoked', 'BallTouch', 'Dispossessed',\n",
       "       'Tackle', 'Error', 'KeeperPickup', 'Punch', 'OffsideGiven',\n",
       "       'ShotOnPost', 'Card', 'Goal', 'ShieldBallOpp', 'End',\n",
       "       'KeeperSweeper', 'SubstitutionOff', 'SubstitutionOn',\n",
       "       'FormationChange'], dtype=object)"
      ]
     },
     "execution_count": 12,
     "metadata": {},
     "output_type": "execute_result"
    }
   ],
   "source": [
    "ws_event['type'].unique()"
   ]
  },
  {
   "cell_type": "code",
   "execution_count": 15,
   "metadata": {},
   "outputs": [
    {
     "data": {
      "text/html": [
       "<div>\n",
       "<style scoped>\n",
       "    .dataframe tbody tr th:only-of-type {\n",
       "        vertical-align: middle;\n",
       "    }\n",
       "\n",
       "    .dataframe tbody tr th {\n",
       "        vertical-align: top;\n",
       "    }\n",
       "\n",
       "    .dataframe thead th {\n",
       "        text-align: right;\n",
       "    }\n",
       "</style>\n",
       "<table border=\"1\" class=\"dataframe\">\n",
       "  <thead>\n",
       "    <tr style=\"text-align: right;\">\n",
       "      <th></th>\n",
       "      <th></th>\n",
       "      <th></th>\n",
       "      <th></th>\n",
       "      <th>game_id</th>\n",
       "      <th>period</th>\n",
       "      <th>minute</th>\n",
       "      <th>second</th>\n",
       "      <th>expanded_minute</th>\n",
       "      <th>type</th>\n",
       "      <th>outcome_type</th>\n",
       "      <th>team_id</th>\n",
       "      <th>team</th>\n",
       "      <th>player_id</th>\n",
       "      <th>player</th>\n",
       "      <th>x</th>\n",
       "      <th>y</th>\n",
       "      <th>end_x</th>\n",
       "      <th>end_y</th>\n",
       "      <th>goal_mouth_y</th>\n",
       "      <th>goal_mouth_z</th>\n",
       "      <th>blocked_x</th>\n",
       "      <th>blocked_y</th>\n",
       "      <th>qualifiers</th>\n",
       "      <th>is_touch</th>\n",
       "      <th>is_shot</th>\n",
       "      <th>is_goal</th>\n",
       "      <th>card_type</th>\n",
       "      <th>related_event_id</th>\n",
       "      <th>related_player_id</th>\n",
       "    </tr>\n",
       "    <tr>\n",
       "      <th>league</th>\n",
       "      <th>season</th>\n",
       "      <th>game</th>\n",
       "      <th>id</th>\n",
       "      <th></th>\n",
       "      <th></th>\n",
       "      <th></th>\n",
       "      <th></th>\n",
       "      <th></th>\n",
       "      <th></th>\n",
       "      <th></th>\n",
       "      <th></th>\n",
       "      <th></th>\n",
       "      <th></th>\n",
       "      <th></th>\n",
       "      <th></th>\n",
       "      <th></th>\n",
       "      <th></th>\n",
       "      <th></th>\n",
       "      <th></th>\n",
       "      <th></th>\n",
       "      <th></th>\n",
       "      <th></th>\n",
       "      <th></th>\n",
       "      <th></th>\n",
       "      <th></th>\n",
       "      <th></th>\n",
       "      <th></th>\n",
       "      <th></th>\n",
       "      <th></th>\n",
       "    </tr>\n",
       "  </thead>\n",
       "  <tbody>\n",
       "    <tr>\n",
       "      <th rowspan=\"6\" valign=\"top\">ENG-Premier League</th>\n",
       "      <th rowspan=\"6\" valign=\"top\">2324</th>\n",
       "      <th rowspan=\"6\" valign=\"top\">2024-05-19 Arsenal-Everton</th>\n",
       "      <th>2689703585</th>\n",
       "      <td>1729408</td>\n",
       "      <td>SecondHalf</td>\n",
       "      <td>58</td>\n",
       "      <td>56.0</td>\n",
       "      <td>66</td>\n",
       "      <td>SubstitutionOn</td>\n",
       "      <td>Successful</td>\n",
       "      <td>13</td>\n",
       "      <td>Arsenal</td>\n",
       "      <td>273257.0</td>\n",
       "      <td>Oleksandr Zinchenko</td>\n",
       "      <td>0.0</td>\n",
       "      <td>0.0</td>\n",
       "      <td>NaN</td>\n",
       "      <td>NaN</td>\n",
       "      <td>NaN</td>\n",
       "      <td>NaN</td>\n",
       "      <td>NaN</td>\n",
       "      <td>NaN</td>\n",
       "      <td>[{'type': {'displayName': 'FormationSlot', 'va...</td>\n",
       "      <td>False</td>\n",
       "      <td>NaN</td>\n",
       "      <td>NaN</td>\n",
       "      <td>NaN</td>\n",
       "      <td>631.0</td>\n",
       "      <td>334087.0</td>\n",
       "    </tr>\n",
       "    <tr>\n",
       "      <th>2689712021</th>\n",
       "      <td>1729408</td>\n",
       "      <td>SecondHalf</td>\n",
       "      <td>68</td>\n",
       "      <td>25.0</td>\n",
       "      <td>76</td>\n",
       "      <td>SubstitutionOn</td>\n",
       "      <td>Successful</td>\n",
       "      <td>13</td>\n",
       "      <td>Arsenal</td>\n",
       "      <td>388650.0</td>\n",
       "      <td>Jurriën Timber</td>\n",
       "      <td>0.0</td>\n",
       "      <td>0.0</td>\n",
       "      <td>NaN</td>\n",
       "      <td>NaN</td>\n",
       "      <td>NaN</td>\n",
       "      <td>NaN</td>\n",
       "      <td>NaN</td>\n",
       "      <td>NaN</td>\n",
       "      <td>[{'type': {'displayName': 'FormationSlot', 'va...</td>\n",
       "      <td>False</td>\n",
       "      <td>NaN</td>\n",
       "      <td>NaN</td>\n",
       "      <td>NaN</td>\n",
       "      <td>723.0</td>\n",
       "      <td>322036.0</td>\n",
       "    </tr>\n",
       "    <tr>\n",
       "      <th>2689712173</th>\n",
       "      <td>1729408</td>\n",
       "      <td>SecondHalf</td>\n",
       "      <td>68</td>\n",
       "      <td>33.0</td>\n",
       "      <td>76</td>\n",
       "      <td>SubstitutionOn</td>\n",
       "      <td>Successful</td>\n",
       "      <td>13</td>\n",
       "      <td>Arsenal</td>\n",
       "      <td>363686.0</td>\n",
       "      <td>Emile Smith Rowe</td>\n",
       "      <td>0.0</td>\n",
       "      <td>0.0</td>\n",
       "      <td>NaN</td>\n",
       "      <td>NaN</td>\n",
       "      <td>NaN</td>\n",
       "      <td>NaN</td>\n",
       "      <td>NaN</td>\n",
       "      <td>NaN</td>\n",
       "      <td>[{'type': {'displayName': 'PlayerPosition', 'v...</td>\n",
       "      <td>False</td>\n",
       "      <td>NaN</td>\n",
       "      <td>NaN</td>\n",
       "      <td>NaN</td>\n",
       "      <td>725.0</td>\n",
       "      <td>238940.0</td>\n",
       "    </tr>\n",
       "    <tr>\n",
       "      <th>2689716907</th>\n",
       "      <td>1729408</td>\n",
       "      <td>SecondHalf</td>\n",
       "      <td>74</td>\n",
       "      <td>2.0</td>\n",
       "      <td>82</td>\n",
       "      <td>SubstitutionOn</td>\n",
       "      <td>Successful</td>\n",
       "      <td>31</td>\n",
       "      <td>Everton</td>\n",
       "      <td>447229.0</td>\n",
       "      <td>Youssef Chermiti</td>\n",
       "      <td>0.0</td>\n",
       "      <td>0.0</td>\n",
       "      <td>NaN</td>\n",
       "      <td>NaN</td>\n",
       "      <td>NaN</td>\n",
       "      <td>NaN</td>\n",
       "      <td>NaN</td>\n",
       "      <td>NaN</td>\n",
       "      <td>[{'type': {'displayName': 'RelatedEventId', 'v...</td>\n",
       "      <td>False</td>\n",
       "      <td>NaN</td>\n",
       "      <td>NaN</td>\n",
       "      <td>NaN</td>\n",
       "      <td>545.0</td>\n",
       "      <td>141469.0</td>\n",
       "    </tr>\n",
       "    <tr>\n",
       "      <th>2689720865</th>\n",
       "      <td>1729408</td>\n",
       "      <td>SecondHalf</td>\n",
       "      <td>77</td>\n",
       "      <td>40.0</td>\n",
       "      <td>85</td>\n",
       "      <td>SubstitutionOn</td>\n",
       "      <td>Successful</td>\n",
       "      <td>13</td>\n",
       "      <td>Arsenal</td>\n",
       "      <td>279379.0</td>\n",
       "      <td>Gabriel Jesus</td>\n",
       "      <td>0.0</td>\n",
       "      <td>0.0</td>\n",
       "      <td>NaN</td>\n",
       "      <td>NaN</td>\n",
       "      <td>NaN</td>\n",
       "      <td>NaN</td>\n",
       "      <td>NaN</td>\n",
       "      <td>NaN</td>\n",
       "      <td>[{'type': {'displayName': 'JerseyNumber', 'val...</td>\n",
       "      <td>False</td>\n",
       "      <td>NaN</td>\n",
       "      <td>NaN</td>\n",
       "      <td>NaN</td>\n",
       "      <td>837.0</td>\n",
       "      <td>113994.0</td>\n",
       "    </tr>\n",
       "    <tr>\n",
       "      <th>2689732985</th>\n",
       "      <td>1729408</td>\n",
       "      <td>SecondHalf</td>\n",
       "      <td>91</td>\n",
       "      <td>39.0</td>\n",
       "      <td>99</td>\n",
       "      <td>SubstitutionOn</td>\n",
       "      <td>Successful</td>\n",
       "      <td>31</td>\n",
       "      <td>Everton</td>\n",
       "      <td>380546.0</td>\n",
       "      <td>Beto</td>\n",
       "      <td>0.0</td>\n",
       "      <td>0.0</td>\n",
       "      <td>NaN</td>\n",
       "      <td>NaN</td>\n",
       "      <td>NaN</td>\n",
       "      <td>NaN</td>\n",
       "      <td>NaN</td>\n",
       "      <td>NaN</td>\n",
       "      <td>[{'type': {'displayName': 'RelatedEventId', 'v...</td>\n",
       "      <td>False</td>\n",
       "      <td>NaN</td>\n",
       "      <td>NaN</td>\n",
       "      <td>NaN</td>\n",
       "      <td>646.0</td>\n",
       "      <td>116317.0</td>\n",
       "    </tr>\n",
       "  </tbody>\n",
       "</table>\n",
       "</div>"
      ],
      "text/plain": [
       "                                                                 game_id  \\\n",
       "league             season game                       id                    \n",
       "ENG-Premier League 2324   2024-05-19 Arsenal-Everton 2689703585  1729408   \n",
       "                                                     2689712021  1729408   \n",
       "                                                     2689712173  1729408   \n",
       "                                                     2689716907  1729408   \n",
       "                                                     2689720865  1729408   \n",
       "                                                     2689732985  1729408   \n",
       "\n",
       "                                                                     period  \\\n",
       "league             season game                       id                       \n",
       "ENG-Premier League 2324   2024-05-19 Arsenal-Everton 2689703585  SecondHalf   \n",
       "                                                     2689712021  SecondHalf   \n",
       "                                                     2689712173  SecondHalf   \n",
       "                                                     2689716907  SecondHalf   \n",
       "                                                     2689720865  SecondHalf   \n",
       "                                                     2689732985  SecondHalf   \n",
       "\n",
       "                                                                 minute  \\\n",
       "league             season game                       id                   \n",
       "ENG-Premier League 2324   2024-05-19 Arsenal-Everton 2689703585      58   \n",
       "                                                     2689712021      68   \n",
       "                                                     2689712173      68   \n",
       "                                                     2689716907      74   \n",
       "                                                     2689720865      77   \n",
       "                                                     2689732985      91   \n",
       "\n",
       "                                                                 second  \\\n",
       "league             season game                       id                   \n",
       "ENG-Premier League 2324   2024-05-19 Arsenal-Everton 2689703585    56.0   \n",
       "                                                     2689712021    25.0   \n",
       "                                                     2689712173    33.0   \n",
       "                                                     2689716907     2.0   \n",
       "                                                     2689720865    40.0   \n",
       "                                                     2689732985    39.0   \n",
       "\n",
       "                                                                 expanded_minute  \\\n",
       "league             season game                       id                            \n",
       "ENG-Premier League 2324   2024-05-19 Arsenal-Everton 2689703585               66   \n",
       "                                                     2689712021               76   \n",
       "                                                     2689712173               76   \n",
       "                                                     2689716907               82   \n",
       "                                                     2689720865               85   \n",
       "                                                     2689732985               99   \n",
       "\n",
       "                                                                           type  \\\n",
       "league             season game                       id                           \n",
       "ENG-Premier League 2324   2024-05-19 Arsenal-Everton 2689703585  SubstitutionOn   \n",
       "                                                     2689712021  SubstitutionOn   \n",
       "                                                     2689712173  SubstitutionOn   \n",
       "                                                     2689716907  SubstitutionOn   \n",
       "                                                     2689720865  SubstitutionOn   \n",
       "                                                     2689732985  SubstitutionOn   \n",
       "\n",
       "                                                                outcome_type  \\\n",
       "league             season game                       id                        \n",
       "ENG-Premier League 2324   2024-05-19 Arsenal-Everton 2689703585   Successful   \n",
       "                                                     2689712021   Successful   \n",
       "                                                     2689712173   Successful   \n",
       "                                                     2689716907   Successful   \n",
       "                                                     2689720865   Successful   \n",
       "                                                     2689732985   Successful   \n",
       "\n",
       "                                                                 team_id  \\\n",
       "league             season game                       id                    \n",
       "ENG-Premier League 2324   2024-05-19 Arsenal-Everton 2689703585       13   \n",
       "                                                     2689712021       13   \n",
       "                                                     2689712173       13   \n",
       "                                                     2689716907       31   \n",
       "                                                     2689720865       13   \n",
       "                                                     2689732985       31   \n",
       "\n",
       "                                                                    team  \\\n",
       "league             season game                       id                    \n",
       "ENG-Premier League 2324   2024-05-19 Arsenal-Everton 2689703585  Arsenal   \n",
       "                                                     2689712021  Arsenal   \n",
       "                                                     2689712173  Arsenal   \n",
       "                                                     2689716907  Everton   \n",
       "                                                     2689720865  Arsenal   \n",
       "                                                     2689732985  Everton   \n",
       "\n",
       "                                                                 player_id  \\\n",
       "league             season game                       id                      \n",
       "ENG-Premier League 2324   2024-05-19 Arsenal-Everton 2689703585   273257.0   \n",
       "                                                     2689712021   388650.0   \n",
       "                                                     2689712173   363686.0   \n",
       "                                                     2689716907   447229.0   \n",
       "                                                     2689720865   279379.0   \n",
       "                                                     2689732985   380546.0   \n",
       "\n",
       "                                                                              player  \\\n",
       "league             season game                       id                                \n",
       "ENG-Premier League 2324   2024-05-19 Arsenal-Everton 2689703585  Oleksandr Zinchenko   \n",
       "                                                     2689712021       Jurriën Timber   \n",
       "                                                     2689712173     Emile Smith Rowe   \n",
       "                                                     2689716907     Youssef Chermiti   \n",
       "                                                     2689720865        Gabriel Jesus   \n",
       "                                                     2689732985                 Beto   \n",
       "\n",
       "                                                                   x    y  \\\n",
       "league             season game                       id                     \n",
       "ENG-Premier League 2324   2024-05-19 Arsenal-Everton 2689703585  0.0  0.0   \n",
       "                                                     2689712021  0.0  0.0   \n",
       "                                                     2689712173  0.0  0.0   \n",
       "                                                     2689716907  0.0  0.0   \n",
       "                                                     2689720865  0.0  0.0   \n",
       "                                                     2689732985  0.0  0.0   \n",
       "\n",
       "                                                                 end_x  end_y  \\\n",
       "league             season game                       id                         \n",
       "ENG-Premier League 2324   2024-05-19 Arsenal-Everton 2689703585    NaN    NaN   \n",
       "                                                     2689712021    NaN    NaN   \n",
       "                                                     2689712173    NaN    NaN   \n",
       "                                                     2689716907    NaN    NaN   \n",
       "                                                     2689720865    NaN    NaN   \n",
       "                                                     2689732985    NaN    NaN   \n",
       "\n",
       "                                                                 goal_mouth_y  \\\n",
       "league             season game                       id                         \n",
       "ENG-Premier League 2324   2024-05-19 Arsenal-Everton 2689703585           NaN   \n",
       "                                                     2689712021           NaN   \n",
       "                                                     2689712173           NaN   \n",
       "                                                     2689716907           NaN   \n",
       "                                                     2689720865           NaN   \n",
       "                                                     2689732985           NaN   \n",
       "\n",
       "                                                                 goal_mouth_z  \\\n",
       "league             season game                       id                         \n",
       "ENG-Premier League 2324   2024-05-19 Arsenal-Everton 2689703585           NaN   \n",
       "                                                     2689712021           NaN   \n",
       "                                                     2689712173           NaN   \n",
       "                                                     2689716907           NaN   \n",
       "                                                     2689720865           NaN   \n",
       "                                                     2689732985           NaN   \n",
       "\n",
       "                                                                 blocked_x  \\\n",
       "league             season game                       id                      \n",
       "ENG-Premier League 2324   2024-05-19 Arsenal-Everton 2689703585        NaN   \n",
       "                                                     2689712021        NaN   \n",
       "                                                     2689712173        NaN   \n",
       "                                                     2689716907        NaN   \n",
       "                                                     2689720865        NaN   \n",
       "                                                     2689732985        NaN   \n",
       "\n",
       "                                                                 blocked_y  \\\n",
       "league             season game                       id                      \n",
       "ENG-Premier League 2324   2024-05-19 Arsenal-Everton 2689703585        NaN   \n",
       "                                                     2689712021        NaN   \n",
       "                                                     2689712173        NaN   \n",
       "                                                     2689716907        NaN   \n",
       "                                                     2689720865        NaN   \n",
       "                                                     2689732985        NaN   \n",
       "\n",
       "                                                                                                        qualifiers  \\\n",
       "league             season game                       id                                                              \n",
       "ENG-Premier League 2324   2024-05-19 Arsenal-Everton 2689703585  [{'type': {'displayName': 'FormationSlot', 'va...   \n",
       "                                                     2689712021  [{'type': {'displayName': 'FormationSlot', 'va...   \n",
       "                                                     2689712173  [{'type': {'displayName': 'PlayerPosition', 'v...   \n",
       "                                                     2689716907  [{'type': {'displayName': 'RelatedEventId', 'v...   \n",
       "                                                     2689720865  [{'type': {'displayName': 'JerseyNumber', 'val...   \n",
       "                                                     2689732985  [{'type': {'displayName': 'RelatedEventId', 'v...   \n",
       "\n",
       "                                                                 is_touch  \\\n",
       "league             season game                       id                     \n",
       "ENG-Premier League 2324   2024-05-19 Arsenal-Everton 2689703585     False   \n",
       "                                                     2689712021     False   \n",
       "                                                     2689712173     False   \n",
       "                                                     2689716907     False   \n",
       "                                                     2689720865     False   \n",
       "                                                     2689732985     False   \n",
       "\n",
       "                                                                is_shot  \\\n",
       "league             season game                       id                   \n",
       "ENG-Premier League 2324   2024-05-19 Arsenal-Everton 2689703585     NaN   \n",
       "                                                     2689712021     NaN   \n",
       "                                                     2689712173     NaN   \n",
       "                                                     2689716907     NaN   \n",
       "                                                     2689720865     NaN   \n",
       "                                                     2689732985     NaN   \n",
       "\n",
       "                                                                is_goal  \\\n",
       "league             season game                       id                   \n",
       "ENG-Premier League 2324   2024-05-19 Arsenal-Everton 2689703585     NaN   \n",
       "                                                     2689712021     NaN   \n",
       "                                                     2689712173     NaN   \n",
       "                                                     2689716907     NaN   \n",
       "                                                     2689720865     NaN   \n",
       "                                                     2689732985     NaN   \n",
       "\n",
       "                                                                card_type  \\\n",
       "league             season game                       id                     \n",
       "ENG-Premier League 2324   2024-05-19 Arsenal-Everton 2689703585       NaN   \n",
       "                                                     2689712021       NaN   \n",
       "                                                     2689712173       NaN   \n",
       "                                                     2689716907       NaN   \n",
       "                                                     2689720865       NaN   \n",
       "                                                     2689732985       NaN   \n",
       "\n",
       "                                                                 related_event_id  \\\n",
       "league             season game                       id                             \n",
       "ENG-Premier League 2324   2024-05-19 Arsenal-Everton 2689703585             631.0   \n",
       "                                                     2689712021             723.0   \n",
       "                                                     2689712173             725.0   \n",
       "                                                     2689716907             545.0   \n",
       "                                                     2689720865             837.0   \n",
       "                                                     2689732985             646.0   \n",
       "\n",
       "                                                                 related_player_id  \n",
       "league             season game                       id                             \n",
       "ENG-Premier League 2324   2024-05-19 Arsenal-Everton 2689703585           334087.0  \n",
       "                                                     2689712021           322036.0  \n",
       "                                                     2689712173           238940.0  \n",
       "                                                     2689716907           141469.0  \n",
       "                                                     2689720865           113994.0  \n",
       "                                                     2689732985           116317.0  "
      ]
     },
     "execution_count": 15,
     "metadata": {},
     "output_type": "execute_result"
    }
   ],
   "source": [
    "ws_event[ws_event['type'] == 'SubstitutionOn']"
   ]
  },
  {
   "cell_type": "code",
   "execution_count": 14,
   "metadata": {},
   "outputs": [
    {
     "data": {
      "text/html": [
       "<div>\n",
       "<style scoped>\n",
       "    .dataframe tbody tr th:only-of-type {\n",
       "        vertical-align: middle;\n",
       "    }\n",
       "\n",
       "    .dataframe tbody tr th {\n",
       "        vertical-align: top;\n",
       "    }\n",
       "\n",
       "    .dataframe thead th {\n",
       "        text-align: right;\n",
       "    }\n",
       "</style>\n",
       "<table border=\"1\" class=\"dataframe\">\n",
       "  <thead>\n",
       "    <tr style=\"text-align: right;\">\n",
       "      <th></th>\n",
       "      <th></th>\n",
       "      <th></th>\n",
       "      <th></th>\n",
       "      <th>game_id</th>\n",
       "      <th>period</th>\n",
       "      <th>minute</th>\n",
       "      <th>second</th>\n",
       "      <th>expanded_minute</th>\n",
       "      <th>type</th>\n",
       "      <th>outcome_type</th>\n",
       "      <th>team_id</th>\n",
       "      <th>team</th>\n",
       "      <th>player_id</th>\n",
       "      <th>player</th>\n",
       "      <th>x</th>\n",
       "      <th>y</th>\n",
       "      <th>end_x</th>\n",
       "      <th>end_y</th>\n",
       "      <th>goal_mouth_y</th>\n",
       "      <th>goal_mouth_z</th>\n",
       "      <th>blocked_x</th>\n",
       "      <th>blocked_y</th>\n",
       "      <th>qualifiers</th>\n",
       "      <th>is_touch</th>\n",
       "      <th>is_shot</th>\n",
       "      <th>is_goal</th>\n",
       "      <th>card_type</th>\n",
       "      <th>related_event_id</th>\n",
       "      <th>related_player_id</th>\n",
       "    </tr>\n",
       "    <tr>\n",
       "      <th>league</th>\n",
       "      <th>season</th>\n",
       "      <th>game</th>\n",
       "      <th>id</th>\n",
       "      <th></th>\n",
       "      <th></th>\n",
       "      <th></th>\n",
       "      <th></th>\n",
       "      <th></th>\n",
       "      <th></th>\n",
       "      <th></th>\n",
       "      <th></th>\n",
       "      <th></th>\n",
       "      <th></th>\n",
       "      <th></th>\n",
       "      <th></th>\n",
       "      <th></th>\n",
       "      <th></th>\n",
       "      <th></th>\n",
       "      <th></th>\n",
       "      <th></th>\n",
       "      <th></th>\n",
       "      <th></th>\n",
       "      <th></th>\n",
       "      <th></th>\n",
       "      <th></th>\n",
       "      <th></th>\n",
       "      <th></th>\n",
       "      <th></th>\n",
       "      <th></th>\n",
       "    </tr>\n",
       "  </thead>\n",
       "  <tbody>\n",
       "    <tr>\n",
       "      <th rowspan=\"6\" valign=\"top\">ENG-Premier League</th>\n",
       "      <th rowspan=\"6\" valign=\"top\">2324</th>\n",
       "      <th rowspan=\"6\" valign=\"top\">2024-05-19 Arsenal-Everton</th>\n",
       "      <th>2689703579</th>\n",
       "      <td>1729408</td>\n",
       "      <td>SecondHalf</td>\n",
       "      <td>58</td>\n",
       "      <td>56.0</td>\n",
       "      <td>66</td>\n",
       "      <td>SubstitutionOff</td>\n",
       "      <td>Successful</td>\n",
       "      <td>13</td>\n",
       "      <td>Arsenal</td>\n",
       "      <td>334087.0</td>\n",
       "      <td>Gabriel Magalhães</td>\n",
       "      <td>0.0</td>\n",
       "      <td>0.0</td>\n",
       "      <td>NaN</td>\n",
       "      <td>NaN</td>\n",
       "      <td>NaN</td>\n",
       "      <td>NaN</td>\n",
       "      <td>NaN</td>\n",
       "      <td>NaN</td>\n",
       "      <td>[{'type': {'displayName': 'RelatedEventId', 'v...</td>\n",
       "      <td>False</td>\n",
       "      <td>NaN</td>\n",
       "      <td>NaN</td>\n",
       "      <td>NaN</td>\n",
       "      <td>632.0</td>\n",
       "      <td>273257.0</td>\n",
       "    </tr>\n",
       "    <tr>\n",
       "      <th>2689712017</th>\n",
       "      <td>1729408</td>\n",
       "      <td>SecondHalf</td>\n",
       "      <td>68</td>\n",
       "      <td>25.0</td>\n",
       "      <td>76</td>\n",
       "      <td>SubstitutionOff</td>\n",
       "      <td>Successful</td>\n",
       "      <td>13</td>\n",
       "      <td>Arsenal</td>\n",
       "      <td>322036.0</td>\n",
       "      <td>Ben White</td>\n",
       "      <td>0.0</td>\n",
       "      <td>0.0</td>\n",
       "      <td>NaN</td>\n",
       "      <td>NaN</td>\n",
       "      <td>NaN</td>\n",
       "      <td>NaN</td>\n",
       "      <td>NaN</td>\n",
       "      <td>NaN</td>\n",
       "      <td>[{'type': {'displayName': 'RelatedEventId', 'v...</td>\n",
       "      <td>False</td>\n",
       "      <td>NaN</td>\n",
       "      <td>NaN</td>\n",
       "      <td>NaN</td>\n",
       "      <td>724.0</td>\n",
       "      <td>388650.0</td>\n",
       "    </tr>\n",
       "    <tr>\n",
       "      <th>2689712167</th>\n",
       "      <td>1729408</td>\n",
       "      <td>SecondHalf</td>\n",
       "      <td>68</td>\n",
       "      <td>33.0</td>\n",
       "      <td>76</td>\n",
       "      <td>SubstitutionOff</td>\n",
       "      <td>Successful</td>\n",
       "      <td>13</td>\n",
       "      <td>Arsenal</td>\n",
       "      <td>238940.0</td>\n",
       "      <td>Thomas Partey</td>\n",
       "      <td>0.0</td>\n",
       "      <td>0.0</td>\n",
       "      <td>NaN</td>\n",
       "      <td>NaN</td>\n",
       "      <td>NaN</td>\n",
       "      <td>NaN</td>\n",
       "      <td>NaN</td>\n",
       "      <td>NaN</td>\n",
       "      <td>[{'type': {'displayName': 'RelatedEventId', 'v...</td>\n",
       "      <td>False</td>\n",
       "      <td>NaN</td>\n",
       "      <td>NaN</td>\n",
       "      <td>NaN</td>\n",
       "      <td>726.0</td>\n",
       "      <td>363686.0</td>\n",
       "    </tr>\n",
       "    <tr>\n",
       "      <th>2689716903</th>\n",
       "      <td>1729408</td>\n",
       "      <td>SecondHalf</td>\n",
       "      <td>74</td>\n",
       "      <td>2.0</td>\n",
       "      <td>82</td>\n",
       "      <td>SubstitutionOff</td>\n",
       "      <td>Successful</td>\n",
       "      <td>31</td>\n",
       "      <td>Everton</td>\n",
       "      <td>141469.0</td>\n",
       "      <td>Dominic Calvert-Lewin</td>\n",
       "      <td>0.0</td>\n",
       "      <td>0.0</td>\n",
       "      <td>NaN</td>\n",
       "      <td>NaN</td>\n",
       "      <td>NaN</td>\n",
       "      <td>NaN</td>\n",
       "      <td>NaN</td>\n",
       "      <td>NaN</td>\n",
       "      <td>[{'type': {'displayName': 'JerseyNumber', 'val...</td>\n",
       "      <td>False</td>\n",
       "      <td>NaN</td>\n",
       "      <td>NaN</td>\n",
       "      <td>NaN</td>\n",
       "      <td>546.0</td>\n",
       "      <td>447229.0</td>\n",
       "    </tr>\n",
       "    <tr>\n",
       "      <th>2689720851</th>\n",
       "      <td>1729408</td>\n",
       "      <td>SecondHalf</td>\n",
       "      <td>77</td>\n",
       "      <td>40.0</td>\n",
       "      <td>85</td>\n",
       "      <td>SubstitutionOff</td>\n",
       "      <td>Successful</td>\n",
       "      <td>13</td>\n",
       "      <td>Arsenal</td>\n",
       "      <td>113994.0</td>\n",
       "      <td>Leandro Trossard</td>\n",
       "      <td>0.0</td>\n",
       "      <td>0.0</td>\n",
       "      <td>NaN</td>\n",
       "      <td>NaN</td>\n",
       "      <td>NaN</td>\n",
       "      <td>NaN</td>\n",
       "      <td>NaN</td>\n",
       "      <td>NaN</td>\n",
       "      <td>[{'type': {'displayName': 'RelatedEventId', 'v...</td>\n",
       "      <td>False</td>\n",
       "      <td>NaN</td>\n",
       "      <td>NaN</td>\n",
       "      <td>NaN</td>\n",
       "      <td>838.0</td>\n",
       "      <td>279379.0</td>\n",
       "    </tr>\n",
       "    <tr>\n",
       "      <th>2689732981</th>\n",
       "      <td>1729408</td>\n",
       "      <td>SecondHalf</td>\n",
       "      <td>91</td>\n",
       "      <td>39.0</td>\n",
       "      <td>99</td>\n",
       "      <td>SubstitutionOff</td>\n",
       "      <td>Successful</td>\n",
       "      <td>31</td>\n",
       "      <td>Everton</td>\n",
       "      <td>116317.0</td>\n",
       "      <td>Abdoulaye Doucouré</td>\n",
       "      <td>0.0</td>\n",
       "      <td>0.0</td>\n",
       "      <td>NaN</td>\n",
       "      <td>NaN</td>\n",
       "      <td>NaN</td>\n",
       "      <td>NaN</td>\n",
       "      <td>NaN</td>\n",
       "      <td>NaN</td>\n",
       "      <td>[{'type': {'displayName': 'RelatedEventId', 'v...</td>\n",
       "      <td>False</td>\n",
       "      <td>NaN</td>\n",
       "      <td>NaN</td>\n",
       "      <td>NaN</td>\n",
       "      <td>647.0</td>\n",
       "      <td>380546.0</td>\n",
       "    </tr>\n",
       "  </tbody>\n",
       "</table>\n",
       "</div>"
      ],
      "text/plain": [
       "                                                                 game_id  \\\n",
       "league             season game                       id                    \n",
       "ENG-Premier League 2324   2024-05-19 Arsenal-Everton 2689703579  1729408   \n",
       "                                                     2689712017  1729408   \n",
       "                                                     2689712167  1729408   \n",
       "                                                     2689716903  1729408   \n",
       "                                                     2689720851  1729408   \n",
       "                                                     2689732981  1729408   \n",
       "\n",
       "                                                                     period  \\\n",
       "league             season game                       id                       \n",
       "ENG-Premier League 2324   2024-05-19 Arsenal-Everton 2689703579  SecondHalf   \n",
       "                                                     2689712017  SecondHalf   \n",
       "                                                     2689712167  SecondHalf   \n",
       "                                                     2689716903  SecondHalf   \n",
       "                                                     2689720851  SecondHalf   \n",
       "                                                     2689732981  SecondHalf   \n",
       "\n",
       "                                                                 minute  \\\n",
       "league             season game                       id                   \n",
       "ENG-Premier League 2324   2024-05-19 Arsenal-Everton 2689703579      58   \n",
       "                                                     2689712017      68   \n",
       "                                                     2689712167      68   \n",
       "                                                     2689716903      74   \n",
       "                                                     2689720851      77   \n",
       "                                                     2689732981      91   \n",
       "\n",
       "                                                                 second  \\\n",
       "league             season game                       id                   \n",
       "ENG-Premier League 2324   2024-05-19 Arsenal-Everton 2689703579    56.0   \n",
       "                                                     2689712017    25.0   \n",
       "                                                     2689712167    33.0   \n",
       "                                                     2689716903     2.0   \n",
       "                                                     2689720851    40.0   \n",
       "                                                     2689732981    39.0   \n",
       "\n",
       "                                                                 expanded_minute  \\\n",
       "league             season game                       id                            \n",
       "ENG-Premier League 2324   2024-05-19 Arsenal-Everton 2689703579               66   \n",
       "                                                     2689712017               76   \n",
       "                                                     2689712167               76   \n",
       "                                                     2689716903               82   \n",
       "                                                     2689720851               85   \n",
       "                                                     2689732981               99   \n",
       "\n",
       "                                                                            type  \\\n",
       "league             season game                       id                            \n",
       "ENG-Premier League 2324   2024-05-19 Arsenal-Everton 2689703579  SubstitutionOff   \n",
       "                                                     2689712017  SubstitutionOff   \n",
       "                                                     2689712167  SubstitutionOff   \n",
       "                                                     2689716903  SubstitutionOff   \n",
       "                                                     2689720851  SubstitutionOff   \n",
       "                                                     2689732981  SubstitutionOff   \n",
       "\n",
       "                                                                outcome_type  \\\n",
       "league             season game                       id                        \n",
       "ENG-Premier League 2324   2024-05-19 Arsenal-Everton 2689703579   Successful   \n",
       "                                                     2689712017   Successful   \n",
       "                                                     2689712167   Successful   \n",
       "                                                     2689716903   Successful   \n",
       "                                                     2689720851   Successful   \n",
       "                                                     2689732981   Successful   \n",
       "\n",
       "                                                                 team_id  \\\n",
       "league             season game                       id                    \n",
       "ENG-Premier League 2324   2024-05-19 Arsenal-Everton 2689703579       13   \n",
       "                                                     2689712017       13   \n",
       "                                                     2689712167       13   \n",
       "                                                     2689716903       31   \n",
       "                                                     2689720851       13   \n",
       "                                                     2689732981       31   \n",
       "\n",
       "                                                                    team  \\\n",
       "league             season game                       id                    \n",
       "ENG-Premier League 2324   2024-05-19 Arsenal-Everton 2689703579  Arsenal   \n",
       "                                                     2689712017  Arsenal   \n",
       "                                                     2689712167  Arsenal   \n",
       "                                                     2689716903  Everton   \n",
       "                                                     2689720851  Arsenal   \n",
       "                                                     2689732981  Everton   \n",
       "\n",
       "                                                                 player_id  \\\n",
       "league             season game                       id                      \n",
       "ENG-Premier League 2324   2024-05-19 Arsenal-Everton 2689703579   334087.0   \n",
       "                                                     2689712017   322036.0   \n",
       "                                                     2689712167   238940.0   \n",
       "                                                     2689716903   141469.0   \n",
       "                                                     2689720851   113994.0   \n",
       "                                                     2689732981   116317.0   \n",
       "\n",
       "                                                                                player  \\\n",
       "league             season game                       id                                  \n",
       "ENG-Premier League 2324   2024-05-19 Arsenal-Everton 2689703579      Gabriel Magalhães   \n",
       "                                                     2689712017              Ben White   \n",
       "                                                     2689712167          Thomas Partey   \n",
       "                                                     2689716903  Dominic Calvert-Lewin   \n",
       "                                                     2689720851       Leandro Trossard   \n",
       "                                                     2689732981     Abdoulaye Doucouré   \n",
       "\n",
       "                                                                   x    y  \\\n",
       "league             season game                       id                     \n",
       "ENG-Premier League 2324   2024-05-19 Arsenal-Everton 2689703579  0.0  0.0   \n",
       "                                                     2689712017  0.0  0.0   \n",
       "                                                     2689712167  0.0  0.0   \n",
       "                                                     2689716903  0.0  0.0   \n",
       "                                                     2689720851  0.0  0.0   \n",
       "                                                     2689732981  0.0  0.0   \n",
       "\n",
       "                                                                 end_x  end_y  \\\n",
       "league             season game                       id                         \n",
       "ENG-Premier League 2324   2024-05-19 Arsenal-Everton 2689703579    NaN    NaN   \n",
       "                                                     2689712017    NaN    NaN   \n",
       "                                                     2689712167    NaN    NaN   \n",
       "                                                     2689716903    NaN    NaN   \n",
       "                                                     2689720851    NaN    NaN   \n",
       "                                                     2689732981    NaN    NaN   \n",
       "\n",
       "                                                                 goal_mouth_y  \\\n",
       "league             season game                       id                         \n",
       "ENG-Premier League 2324   2024-05-19 Arsenal-Everton 2689703579           NaN   \n",
       "                                                     2689712017           NaN   \n",
       "                                                     2689712167           NaN   \n",
       "                                                     2689716903           NaN   \n",
       "                                                     2689720851           NaN   \n",
       "                                                     2689732981           NaN   \n",
       "\n",
       "                                                                 goal_mouth_z  \\\n",
       "league             season game                       id                         \n",
       "ENG-Premier League 2324   2024-05-19 Arsenal-Everton 2689703579           NaN   \n",
       "                                                     2689712017           NaN   \n",
       "                                                     2689712167           NaN   \n",
       "                                                     2689716903           NaN   \n",
       "                                                     2689720851           NaN   \n",
       "                                                     2689732981           NaN   \n",
       "\n",
       "                                                                 blocked_x  \\\n",
       "league             season game                       id                      \n",
       "ENG-Premier League 2324   2024-05-19 Arsenal-Everton 2689703579        NaN   \n",
       "                                                     2689712017        NaN   \n",
       "                                                     2689712167        NaN   \n",
       "                                                     2689716903        NaN   \n",
       "                                                     2689720851        NaN   \n",
       "                                                     2689732981        NaN   \n",
       "\n",
       "                                                                 blocked_y  \\\n",
       "league             season game                       id                      \n",
       "ENG-Premier League 2324   2024-05-19 Arsenal-Everton 2689703579        NaN   \n",
       "                                                     2689712017        NaN   \n",
       "                                                     2689712167        NaN   \n",
       "                                                     2689716903        NaN   \n",
       "                                                     2689720851        NaN   \n",
       "                                                     2689732981        NaN   \n",
       "\n",
       "                                                                                                        qualifiers  \\\n",
       "league             season game                       id                                                              \n",
       "ENG-Premier League 2324   2024-05-19 Arsenal-Everton 2689703579  [{'type': {'displayName': 'RelatedEventId', 'v...   \n",
       "                                                     2689712017  [{'type': {'displayName': 'RelatedEventId', 'v...   \n",
       "                                                     2689712167  [{'type': {'displayName': 'RelatedEventId', 'v...   \n",
       "                                                     2689716903  [{'type': {'displayName': 'JerseyNumber', 'val...   \n",
       "                                                     2689720851  [{'type': {'displayName': 'RelatedEventId', 'v...   \n",
       "                                                     2689732981  [{'type': {'displayName': 'RelatedEventId', 'v...   \n",
       "\n",
       "                                                                 is_touch  \\\n",
       "league             season game                       id                     \n",
       "ENG-Premier League 2324   2024-05-19 Arsenal-Everton 2689703579     False   \n",
       "                                                     2689712017     False   \n",
       "                                                     2689712167     False   \n",
       "                                                     2689716903     False   \n",
       "                                                     2689720851     False   \n",
       "                                                     2689732981     False   \n",
       "\n",
       "                                                                is_shot  \\\n",
       "league             season game                       id                   \n",
       "ENG-Premier League 2324   2024-05-19 Arsenal-Everton 2689703579     NaN   \n",
       "                                                     2689712017     NaN   \n",
       "                                                     2689712167     NaN   \n",
       "                                                     2689716903     NaN   \n",
       "                                                     2689720851     NaN   \n",
       "                                                     2689732981     NaN   \n",
       "\n",
       "                                                                is_goal  \\\n",
       "league             season game                       id                   \n",
       "ENG-Premier League 2324   2024-05-19 Arsenal-Everton 2689703579     NaN   \n",
       "                                                     2689712017     NaN   \n",
       "                                                     2689712167     NaN   \n",
       "                                                     2689716903     NaN   \n",
       "                                                     2689720851     NaN   \n",
       "                                                     2689732981     NaN   \n",
       "\n",
       "                                                                card_type  \\\n",
       "league             season game                       id                     \n",
       "ENG-Premier League 2324   2024-05-19 Arsenal-Everton 2689703579       NaN   \n",
       "                                                     2689712017       NaN   \n",
       "                                                     2689712167       NaN   \n",
       "                                                     2689716903       NaN   \n",
       "                                                     2689720851       NaN   \n",
       "                                                     2689732981       NaN   \n",
       "\n",
       "                                                                 related_event_id  \\\n",
       "league             season game                       id                             \n",
       "ENG-Premier League 2324   2024-05-19 Arsenal-Everton 2689703579             632.0   \n",
       "                                                     2689712017             724.0   \n",
       "                                                     2689712167             726.0   \n",
       "                                                     2689716903             546.0   \n",
       "                                                     2689720851             838.0   \n",
       "                                                     2689732981             647.0   \n",
       "\n",
       "                                                                 related_player_id  \n",
       "league             season game                       id                             \n",
       "ENG-Premier League 2324   2024-05-19 Arsenal-Everton 2689703579           273257.0  \n",
       "                                                     2689712017           388650.0  \n",
       "                                                     2689712167           363686.0  \n",
       "                                                     2689716903           447229.0  \n",
       "                                                     2689720851           279379.0  \n",
       "                                                     2689732981           380546.0  "
      ]
     },
     "execution_count": 14,
     "metadata": {},
     "output_type": "execute_result"
    }
   ],
   "source": [
    "ws_event[ws_event['type'] == 'SubstitutionOff']"
   ]
  },
  {
   "cell_type": "code",
   "execution_count": 11,
   "metadata": {},
   "outputs": [
    {
     "data": {
      "text/html": [
       "<div>\n",
       "<style scoped>\n",
       "    .dataframe tbody tr th:only-of-type {\n",
       "        vertical-align: middle;\n",
       "    }\n",
       "\n",
       "    .dataframe tbody tr th {\n",
       "        vertical-align: top;\n",
       "    }\n",
       "\n",
       "    .dataframe thead th {\n",
       "        text-align: right;\n",
       "    }\n",
       "</style>\n",
       "<table border=\"1\" class=\"dataframe\">\n",
       "  <thead>\n",
       "    <tr style=\"text-align: right;\">\n",
       "      <th></th>\n",
       "      <th></th>\n",
       "      <th></th>\n",
       "      <th></th>\n",
       "      <th>game_id</th>\n",
       "      <th>period</th>\n",
       "      <th>minute</th>\n",
       "      <th>second</th>\n",
       "      <th>expanded_minute</th>\n",
       "      <th>type</th>\n",
       "      <th>outcome_type</th>\n",
       "      <th>team_id</th>\n",
       "      <th>team</th>\n",
       "      <th>player_id</th>\n",
       "      <th>player</th>\n",
       "      <th>x</th>\n",
       "      <th>y</th>\n",
       "      <th>end_x</th>\n",
       "      <th>end_y</th>\n",
       "      <th>goal_mouth_y</th>\n",
       "      <th>goal_mouth_z</th>\n",
       "      <th>blocked_x</th>\n",
       "      <th>blocked_y</th>\n",
       "      <th>qualifiers</th>\n",
       "      <th>is_touch</th>\n",
       "      <th>is_shot</th>\n",
       "      <th>is_goal</th>\n",
       "      <th>card_type</th>\n",
       "      <th>related_event_id</th>\n",
       "      <th>related_player_id</th>\n",
       "    </tr>\n",
       "    <tr>\n",
       "      <th>league</th>\n",
       "      <th>season</th>\n",
       "      <th>game</th>\n",
       "      <th>id</th>\n",
       "      <th></th>\n",
       "      <th></th>\n",
       "      <th></th>\n",
       "      <th></th>\n",
       "      <th></th>\n",
       "      <th></th>\n",
       "      <th></th>\n",
       "      <th></th>\n",
       "      <th></th>\n",
       "      <th></th>\n",
       "      <th></th>\n",
       "      <th></th>\n",
       "      <th></th>\n",
       "      <th></th>\n",
       "      <th></th>\n",
       "      <th></th>\n",
       "      <th></th>\n",
       "      <th></th>\n",
       "      <th></th>\n",
       "      <th></th>\n",
       "      <th></th>\n",
       "      <th></th>\n",
       "      <th></th>\n",
       "      <th></th>\n",
       "      <th></th>\n",
       "      <th></th>\n",
       "    </tr>\n",
       "  </thead>\n",
       "  <tbody>\n",
       "    <tr>\n",
       "      <th rowspan=\"7\" valign=\"top\">ENG-Premier League</th>\n",
       "      <th rowspan=\"7\" valign=\"top\">2324</th>\n",
       "      <th rowspan=\"7\" valign=\"top\">2024-05-19 Arsenal-Everton</th>\n",
       "      <th>2689669235</th>\n",
       "      <td>1729408</td>\n",
       "      <td>FirstHalf</td>\n",
       "      <td>38</td>\n",
       "      <td>9.0</td>\n",
       "      <td>38</td>\n",
       "      <td>Card</td>\n",
       "      <td>Successful</td>\n",
       "      <td>13</td>\n",
       "      <td>Arsenal</td>\n",
       "      <td>238940.0</td>\n",
       "      <td>Thomas Partey</td>\n",
       "      <td>0.0</td>\n",
       "      <td>0.0</td>\n",
       "      <td>NaN</td>\n",
       "      <td>NaN</td>\n",
       "      <td>NaN</td>\n",
       "      <td>NaN</td>\n",
       "      <td>NaN</td>\n",
       "      <td>NaN</td>\n",
       "      <td>[{'type': {'displayName': 'RelatedEventId', 'v...</td>\n",
       "      <td>False</td>\n",
       "      <td>NaN</td>\n",
       "      <td>NaN</td>\n",
       "      <td>Yellow</td>\n",
       "      <td>365.0</td>\n",
       "      <td>238940.0</td>\n",
       "    </tr>\n",
       "    <tr>\n",
       "      <th>2689694017</th>\n",
       "      <td>1729408</td>\n",
       "      <td>SecondHalf</td>\n",
       "      <td>49</td>\n",
       "      <td>25.0</td>\n",
       "      <td>57</td>\n",
       "      <td>Card</td>\n",
       "      <td>Successful</td>\n",
       "      <td>31</td>\n",
       "      <td>Everton</td>\n",
       "      <td>131464.0</td>\n",
       "      <td>James Tarkowski</td>\n",
       "      <td>0.0</td>\n",
       "      <td>0.0</td>\n",
       "      <td>NaN</td>\n",
       "      <td>NaN</td>\n",
       "      <td>NaN</td>\n",
       "      <td>NaN</td>\n",
       "      <td>NaN</td>\n",
       "      <td>NaN</td>\n",
       "      <td>[{'type': {'displayName': 'Foul', 'value': 13}...</td>\n",
       "      <td>False</td>\n",
       "      <td>NaN</td>\n",
       "      <td>NaN</td>\n",
       "      <td>Yellow</td>\n",
       "      <td>368.0</td>\n",
       "      <td>131464.0</td>\n",
       "    </tr>\n",
       "    <tr>\n",
       "      <th>2689698335</th>\n",
       "      <td>1729408</td>\n",
       "      <td>SecondHalf</td>\n",
       "      <td>53</td>\n",
       "      <td>43.0</td>\n",
       "      <td>61</td>\n",
       "      <td>Card</td>\n",
       "      <td>Successful</td>\n",
       "      <td>31</td>\n",
       "      <td>Everton</td>\n",
       "      <td>116317.0</td>\n",
       "      <td>Abdoulaye Doucouré</td>\n",
       "      <td>0.0</td>\n",
       "      <td>0.0</td>\n",
       "      <td>NaN</td>\n",
       "      <td>NaN</td>\n",
       "      <td>NaN</td>\n",
       "      <td>NaN</td>\n",
       "      <td>NaN</td>\n",
       "      <td>NaN</td>\n",
       "      <td>[{'type': {'displayName': 'Yellow', 'value': 3...</td>\n",
       "      <td>False</td>\n",
       "      <td>NaN</td>\n",
       "      <td>NaN</td>\n",
       "      <td>Yellow</td>\n",
       "      <td>NaN</td>\n",
       "      <td>NaN</td>\n",
       "    </tr>\n",
       "    <tr>\n",
       "      <th>2689711685</th>\n",
       "      <td>1729408</td>\n",
       "      <td>SecondHalf</td>\n",
       "      <td>67</td>\n",
       "      <td>58.0</td>\n",
       "      <td>75</td>\n",
       "      <td>Card</td>\n",
       "      <td>Successful</td>\n",
       "      <td>13</td>\n",
       "      <td>Arsenal</td>\n",
       "      <td>332325.0</td>\n",
       "      <td>Declan Rice</td>\n",
       "      <td>0.0</td>\n",
       "      <td>0.0</td>\n",
       "      <td>NaN</td>\n",
       "      <td>NaN</td>\n",
       "      <td>NaN</td>\n",
       "      <td>NaN</td>\n",
       "      <td>NaN</td>\n",
       "      <td>NaN</td>\n",
       "      <td>[{'type': {'displayName': 'Foul', 'value': 13}...</td>\n",
       "      <td>False</td>\n",
       "      <td>NaN</td>\n",
       "      <td>NaN</td>\n",
       "      <td>Yellow</td>\n",
       "      <td>721.0</td>\n",
       "      <td>332325.0</td>\n",
       "    </tr>\n",
       "    <tr>\n",
       "      <th>2689715385</th>\n",
       "      <td>1729408</td>\n",
       "      <td>SecondHalf</td>\n",
       "      <td>72</td>\n",
       "      <td>9.0</td>\n",
       "      <td>80</td>\n",
       "      <td>Card</td>\n",
       "      <td>Successful</td>\n",
       "      <td>13</td>\n",
       "      <td>Arsenal</td>\n",
       "      <td>388650.0</td>\n",
       "      <td>Jurriën Timber</td>\n",
       "      <td>0.0</td>\n",
       "      <td>0.0</td>\n",
       "      <td>NaN</td>\n",
       "      <td>NaN</td>\n",
       "      <td>NaN</td>\n",
       "      <td>NaN</td>\n",
       "      <td>NaN</td>\n",
       "      <td>NaN</td>\n",
       "      <td>[{'type': {'displayName': 'Foul', 'value': 13}...</td>\n",
       "      <td>False</td>\n",
       "      <td>NaN</td>\n",
       "      <td>NaN</td>\n",
       "      <td>Yellow</td>\n",
       "      <td>779.0</td>\n",
       "      <td>388650.0</td>\n",
       "    </tr>\n",
       "    <tr>\n",
       "      <th>2689726611</th>\n",
       "      <td>1729408</td>\n",
       "      <td>SecondHalf</td>\n",
       "      <td>82</td>\n",
       "      <td>56.0</td>\n",
       "      <td>90</td>\n",
       "      <td>Card</td>\n",
       "      <td>Successful</td>\n",
       "      <td>13</td>\n",
       "      <td>Arsenal</td>\n",
       "      <td>326413.0</td>\n",
       "      <td>Kai Havertz</td>\n",
       "      <td>0.0</td>\n",
       "      <td>0.0</td>\n",
       "      <td>NaN</td>\n",
       "      <td>NaN</td>\n",
       "      <td>NaN</td>\n",
       "      <td>NaN</td>\n",
       "      <td>NaN</td>\n",
       "      <td>NaN</td>\n",
       "      <td>[{'type': {'displayName': 'Yellow', 'value': 3...</td>\n",
       "      <td>False</td>\n",
       "      <td>NaN</td>\n",
       "      <td>NaN</td>\n",
       "      <td>Yellow</td>\n",
       "      <td>NaN</td>\n",
       "      <td>NaN</td>\n",
       "    </tr>\n",
       "    <tr>\n",
       "      <th>2689731611</th>\n",
       "      <td>1729408</td>\n",
       "      <td>SecondHalf</td>\n",
       "      <td>82</td>\n",
       "      <td>56.0</td>\n",
       "      <td>90</td>\n",
       "      <td>Card</td>\n",
       "      <td>Successful</td>\n",
       "      <td>31</td>\n",
       "      <td>Everton</td>\n",
       "      <td>110189.0</td>\n",
       "      <td>Jordan Pickford</td>\n",
       "      <td>0.0</td>\n",
       "      <td>0.0</td>\n",
       "      <td>NaN</td>\n",
       "      <td>NaN</td>\n",
       "      <td>NaN</td>\n",
       "      <td>NaN</td>\n",
       "      <td>NaN</td>\n",
       "      <td>NaN</td>\n",
       "      <td>[{'type': {'displayName': 'Yellow', 'value': 3...</td>\n",
       "      <td>False</td>\n",
       "      <td>NaN</td>\n",
       "      <td>NaN</td>\n",
       "      <td>Yellow</td>\n",
       "      <td>NaN</td>\n",
       "      <td>NaN</td>\n",
       "    </tr>\n",
       "  </tbody>\n",
       "</table>\n",
       "</div>"
      ],
      "text/plain": [
       "                                                                 game_id  \\\n",
       "league             season game                       id                    \n",
       "ENG-Premier League 2324   2024-05-19 Arsenal-Everton 2689669235  1729408   \n",
       "                                                     2689694017  1729408   \n",
       "                                                     2689698335  1729408   \n",
       "                                                     2689711685  1729408   \n",
       "                                                     2689715385  1729408   \n",
       "                                                     2689726611  1729408   \n",
       "                                                     2689731611  1729408   \n",
       "\n",
       "                                                                     period  \\\n",
       "league             season game                       id                       \n",
       "ENG-Premier League 2324   2024-05-19 Arsenal-Everton 2689669235   FirstHalf   \n",
       "                                                     2689694017  SecondHalf   \n",
       "                                                     2689698335  SecondHalf   \n",
       "                                                     2689711685  SecondHalf   \n",
       "                                                     2689715385  SecondHalf   \n",
       "                                                     2689726611  SecondHalf   \n",
       "                                                     2689731611  SecondHalf   \n",
       "\n",
       "                                                                 minute  \\\n",
       "league             season game                       id                   \n",
       "ENG-Premier League 2324   2024-05-19 Arsenal-Everton 2689669235      38   \n",
       "                                                     2689694017      49   \n",
       "                                                     2689698335      53   \n",
       "                                                     2689711685      67   \n",
       "                                                     2689715385      72   \n",
       "                                                     2689726611      82   \n",
       "                                                     2689731611      82   \n",
       "\n",
       "                                                                 second  \\\n",
       "league             season game                       id                   \n",
       "ENG-Premier League 2324   2024-05-19 Arsenal-Everton 2689669235     9.0   \n",
       "                                                     2689694017    25.0   \n",
       "                                                     2689698335    43.0   \n",
       "                                                     2689711685    58.0   \n",
       "                                                     2689715385     9.0   \n",
       "                                                     2689726611    56.0   \n",
       "                                                     2689731611    56.0   \n",
       "\n",
       "                                                                 expanded_minute  \\\n",
       "league             season game                       id                            \n",
       "ENG-Premier League 2324   2024-05-19 Arsenal-Everton 2689669235               38   \n",
       "                                                     2689694017               57   \n",
       "                                                     2689698335               61   \n",
       "                                                     2689711685               75   \n",
       "                                                     2689715385               80   \n",
       "                                                     2689726611               90   \n",
       "                                                     2689731611               90   \n",
       "\n",
       "                                                                 type  \\\n",
       "league             season game                       id                 \n",
       "ENG-Premier League 2324   2024-05-19 Arsenal-Everton 2689669235  Card   \n",
       "                                                     2689694017  Card   \n",
       "                                                     2689698335  Card   \n",
       "                                                     2689711685  Card   \n",
       "                                                     2689715385  Card   \n",
       "                                                     2689726611  Card   \n",
       "                                                     2689731611  Card   \n",
       "\n",
       "                                                                outcome_type  \\\n",
       "league             season game                       id                        \n",
       "ENG-Premier League 2324   2024-05-19 Arsenal-Everton 2689669235   Successful   \n",
       "                                                     2689694017   Successful   \n",
       "                                                     2689698335   Successful   \n",
       "                                                     2689711685   Successful   \n",
       "                                                     2689715385   Successful   \n",
       "                                                     2689726611   Successful   \n",
       "                                                     2689731611   Successful   \n",
       "\n",
       "                                                                 team_id  \\\n",
       "league             season game                       id                    \n",
       "ENG-Premier League 2324   2024-05-19 Arsenal-Everton 2689669235       13   \n",
       "                                                     2689694017       31   \n",
       "                                                     2689698335       31   \n",
       "                                                     2689711685       13   \n",
       "                                                     2689715385       13   \n",
       "                                                     2689726611       13   \n",
       "                                                     2689731611       31   \n",
       "\n",
       "                                                                    team  \\\n",
       "league             season game                       id                    \n",
       "ENG-Premier League 2324   2024-05-19 Arsenal-Everton 2689669235  Arsenal   \n",
       "                                                     2689694017  Everton   \n",
       "                                                     2689698335  Everton   \n",
       "                                                     2689711685  Arsenal   \n",
       "                                                     2689715385  Arsenal   \n",
       "                                                     2689726611  Arsenal   \n",
       "                                                     2689731611  Everton   \n",
       "\n",
       "                                                                 player_id  \\\n",
       "league             season game                       id                      \n",
       "ENG-Premier League 2324   2024-05-19 Arsenal-Everton 2689669235   238940.0   \n",
       "                                                     2689694017   131464.0   \n",
       "                                                     2689698335   116317.0   \n",
       "                                                     2689711685   332325.0   \n",
       "                                                     2689715385   388650.0   \n",
       "                                                     2689726611   326413.0   \n",
       "                                                     2689731611   110189.0   \n",
       "\n",
       "                                                                             player  \\\n",
       "league             season game                       id                               \n",
       "ENG-Premier League 2324   2024-05-19 Arsenal-Everton 2689669235       Thomas Partey   \n",
       "                                                     2689694017     James Tarkowski   \n",
       "                                                     2689698335  Abdoulaye Doucouré   \n",
       "                                                     2689711685         Declan Rice   \n",
       "                                                     2689715385      Jurriën Timber   \n",
       "                                                     2689726611         Kai Havertz   \n",
       "                                                     2689731611     Jordan Pickford   \n",
       "\n",
       "                                                                   x    y  \\\n",
       "league             season game                       id                     \n",
       "ENG-Premier League 2324   2024-05-19 Arsenal-Everton 2689669235  0.0  0.0   \n",
       "                                                     2689694017  0.0  0.0   \n",
       "                                                     2689698335  0.0  0.0   \n",
       "                                                     2689711685  0.0  0.0   \n",
       "                                                     2689715385  0.0  0.0   \n",
       "                                                     2689726611  0.0  0.0   \n",
       "                                                     2689731611  0.0  0.0   \n",
       "\n",
       "                                                                 end_x  end_y  \\\n",
       "league             season game                       id                         \n",
       "ENG-Premier League 2324   2024-05-19 Arsenal-Everton 2689669235    NaN    NaN   \n",
       "                                                     2689694017    NaN    NaN   \n",
       "                                                     2689698335    NaN    NaN   \n",
       "                                                     2689711685    NaN    NaN   \n",
       "                                                     2689715385    NaN    NaN   \n",
       "                                                     2689726611    NaN    NaN   \n",
       "                                                     2689731611    NaN    NaN   \n",
       "\n",
       "                                                                 goal_mouth_y  \\\n",
       "league             season game                       id                         \n",
       "ENG-Premier League 2324   2024-05-19 Arsenal-Everton 2689669235           NaN   \n",
       "                                                     2689694017           NaN   \n",
       "                                                     2689698335           NaN   \n",
       "                                                     2689711685           NaN   \n",
       "                                                     2689715385           NaN   \n",
       "                                                     2689726611           NaN   \n",
       "                                                     2689731611           NaN   \n",
       "\n",
       "                                                                 goal_mouth_z  \\\n",
       "league             season game                       id                         \n",
       "ENG-Premier League 2324   2024-05-19 Arsenal-Everton 2689669235           NaN   \n",
       "                                                     2689694017           NaN   \n",
       "                                                     2689698335           NaN   \n",
       "                                                     2689711685           NaN   \n",
       "                                                     2689715385           NaN   \n",
       "                                                     2689726611           NaN   \n",
       "                                                     2689731611           NaN   \n",
       "\n",
       "                                                                 blocked_x  \\\n",
       "league             season game                       id                      \n",
       "ENG-Premier League 2324   2024-05-19 Arsenal-Everton 2689669235        NaN   \n",
       "                                                     2689694017        NaN   \n",
       "                                                     2689698335        NaN   \n",
       "                                                     2689711685        NaN   \n",
       "                                                     2689715385        NaN   \n",
       "                                                     2689726611        NaN   \n",
       "                                                     2689731611        NaN   \n",
       "\n",
       "                                                                 blocked_y  \\\n",
       "league             season game                       id                      \n",
       "ENG-Premier League 2324   2024-05-19 Arsenal-Everton 2689669235        NaN   \n",
       "                                                     2689694017        NaN   \n",
       "                                                     2689698335        NaN   \n",
       "                                                     2689711685        NaN   \n",
       "                                                     2689715385        NaN   \n",
       "                                                     2689726611        NaN   \n",
       "                                                     2689731611        NaN   \n",
       "\n",
       "                                                                                                        qualifiers  \\\n",
       "league             season game                       id                                                              \n",
       "ENG-Premier League 2324   2024-05-19 Arsenal-Everton 2689669235  [{'type': {'displayName': 'RelatedEventId', 'v...   \n",
       "                                                     2689694017  [{'type': {'displayName': 'Foul', 'value': 13}...   \n",
       "                                                     2689698335  [{'type': {'displayName': 'Yellow', 'value': 3...   \n",
       "                                                     2689711685  [{'type': {'displayName': 'Foul', 'value': 13}...   \n",
       "                                                     2689715385  [{'type': {'displayName': 'Foul', 'value': 13}...   \n",
       "                                                     2689726611  [{'type': {'displayName': 'Yellow', 'value': 3...   \n",
       "                                                     2689731611  [{'type': {'displayName': 'Yellow', 'value': 3...   \n",
       "\n",
       "                                                                 is_touch  \\\n",
       "league             season game                       id                     \n",
       "ENG-Premier League 2324   2024-05-19 Arsenal-Everton 2689669235     False   \n",
       "                                                     2689694017     False   \n",
       "                                                     2689698335     False   \n",
       "                                                     2689711685     False   \n",
       "                                                     2689715385     False   \n",
       "                                                     2689726611     False   \n",
       "                                                     2689731611     False   \n",
       "\n",
       "                                                                is_shot  \\\n",
       "league             season game                       id                   \n",
       "ENG-Premier League 2324   2024-05-19 Arsenal-Everton 2689669235     NaN   \n",
       "                                                     2689694017     NaN   \n",
       "                                                     2689698335     NaN   \n",
       "                                                     2689711685     NaN   \n",
       "                                                     2689715385     NaN   \n",
       "                                                     2689726611     NaN   \n",
       "                                                     2689731611     NaN   \n",
       "\n",
       "                                                                is_goal  \\\n",
       "league             season game                       id                   \n",
       "ENG-Premier League 2324   2024-05-19 Arsenal-Everton 2689669235     NaN   \n",
       "                                                     2689694017     NaN   \n",
       "                                                     2689698335     NaN   \n",
       "                                                     2689711685     NaN   \n",
       "                                                     2689715385     NaN   \n",
       "                                                     2689726611     NaN   \n",
       "                                                     2689731611     NaN   \n",
       "\n",
       "                                                                card_type  \\\n",
       "league             season game                       id                     \n",
       "ENG-Premier League 2324   2024-05-19 Arsenal-Everton 2689669235    Yellow   \n",
       "                                                     2689694017    Yellow   \n",
       "                                                     2689698335    Yellow   \n",
       "                                                     2689711685    Yellow   \n",
       "                                                     2689715385    Yellow   \n",
       "                                                     2689726611    Yellow   \n",
       "                                                     2689731611    Yellow   \n",
       "\n",
       "                                                                 related_event_id  \\\n",
       "league             season game                       id                             \n",
       "ENG-Premier League 2324   2024-05-19 Arsenal-Everton 2689669235             365.0   \n",
       "                                                     2689694017             368.0   \n",
       "                                                     2689698335               NaN   \n",
       "                                                     2689711685             721.0   \n",
       "                                                     2689715385             779.0   \n",
       "                                                     2689726611               NaN   \n",
       "                                                     2689731611               NaN   \n",
       "\n",
       "                                                                 related_player_id  \n",
       "league             season game                       id                             \n",
       "ENG-Premier League 2324   2024-05-19 Arsenal-Everton 2689669235           238940.0  \n",
       "                                                     2689694017           131464.0  \n",
       "                                                     2689698335                NaN  \n",
       "                                                     2689711685           332325.0  \n",
       "                                                     2689715385           388650.0  \n",
       "                                                     2689726611                NaN  \n",
       "                                                     2689731611                NaN  "
      ]
     },
     "execution_count": 11,
     "metadata": {},
     "output_type": "execute_result"
    }
   ],
   "source": [
    "ws_event[ws_event['card_type'].notna()]"
   ]
  },
  {
   "cell_type": "code",
   "execution_count": null,
   "metadata": {},
   "outputs": [],
   "source": [
    "ws_event_spadl = ws.read_events(output_fmt='spadl', match_id=game_ids)"
   ]
  },
  {
   "cell_type": "code",
   "execution_count": null,
   "metadata": {},
   "outputs": [],
   "source": [
    "# for i, val in enumerate(game_ids):\n",
    "#     if i == 0:\n",
    "#         ws_event_spadl = ws.read_events(output_fmt='spadl', match_id=[val])\n",
    "#     else:\n",
    "#         try:\n",
    "#             ws_event_spadl = pd.concat([ws_event_spadl, ws.read_events(output_fmt='spadl', match_id=[val])])\n",
    "#         except:\n",
    "#             print(i, val)"
   ]
  },
  {
   "cell_type": "code",
   "execution_count": null,
   "metadata": {},
   "outputs": [],
   "source": [
    "len(ws_event_spadl['game_id'].unique())"
   ]
  },
  {
   "cell_type": "code",
   "execution_count": null,
   "metadata": {},
   "outputs": [],
   "source": [
    "game_ids"
   ]
  },
  {
   "cell_type": "code",
   "execution_count": null,
   "metadata": {},
   "outputs": [],
   "source": [
    "ws_event_spadl.to_csv('ws_event_spadl_hold.csv')\n",
    "# ws_event_spadl = pd.read_csv('ws_event_spadl_hold.csv', index_col=0)"
   ]
  },
  {
   "cell_type": "code",
   "execution_count": null,
   "metadata": {},
   "outputs": [],
   "source": [
    "ws_event_spadl.loc[ws_event_spadl['team'] == 'Atletico', 'team'] = 'Atlético Madrid'\n",
    "ws_event_spadl.loc[ws_event_spadl['team'] == 'Deportivo Alaves', 'team'] = 'Alavés'\n",
    "ws_event_spadl.loc[ws_event_spadl['team'] == 'Cadiz', 'team'] = 'Cádiz'\n",
    "ws_event_spadl.loc[ws_event_spadl['team'] == 'Real Betis', 'team'] = 'Betis'\n",
    "ws_event_spadl.loc[ws_event_spadl['team'] == 'Real Valladolid', 'team'] = 'Valladolid'\n",
    "ws_event_spadl.loc[ws_event_spadl['team'] == 'Almeria', 'team'] = 'Almería'\n",
    "\n",
    "ws_event_spadl.loc[ws_event_spadl['team'] == 'Arminia Bielefeld', 'team'] = 'Arminia'\n",
    "ws_event_spadl.loc[ws_event_spadl['team'] == 'Bayern', 'team'] = 'Bayern Munich'\n",
    "ws_event_spadl.loc[ws_event_spadl['team'] == 'Borussia Dortmund', 'team'] = 'Dortmund'\n",
    "ws_event_spadl.loc[ws_event_spadl['team'] == 'Borussia M.Gladbach', 'team'] = \"M'Gladbach\"\n",
    "ws_event_spadl.loc[ws_event_spadl['team'] == 'Eintracht Frankfurt', 'team'] = \"Eint Frankfurt\"\n",
    "ws_event_spadl.loc[ws_event_spadl['team'] == 'FC Koln', 'team'] = 'Köln'\n",
    "ws_event_spadl.loc[ws_event_spadl['team'] == 'Mainz', 'team'] = \"Mainz 05\"\n",
    "ws_event_spadl.loc[ws_event_spadl['team'] == 'RBL', 'team'] = \"RB Leipzig\"\n",
    "ws_event_spadl.loc[ws_event_spadl['team'] == 'Greuther Fuerth', 'team'] = \"Greuther Fürth\"\n",
    "ws_event_spadl.loc[ws_event_spadl['team'] == 'Hertha Berlin', 'team'] = \"Hertha BSC\"\n",
    "ws_event_spadl.loc[ws_event_spadl['team'] == 'Schalke', 'team'] = 'Schalke 04'\n",
    "ws_event_spadl.loc[ws_event_spadl['team'] == 'Darmstadt', 'team'] = 'Darmstadt 98'\n",
    "ws_event_spadl.loc[ws_event_spadl['team'] == 'FC Heidenheim', 'team'] = 'Heidenheim'\n",
    "\n",
    "ws_event_spadl.loc[ws_event_spadl['team'] == 'Verona', 'team'] = 'Hellas Verona'\n",
    "\n",
    "ws_event_spadl.loc[ws_event_spadl['team'] == 'PSG', 'team'] = \"Paris S-G\"\n",
    "ws_event_spadl.loc[ws_event_spadl['team'] == 'Saint-Etienne', 'team'] = \"Saint-Étienne\"\n",
    "ws_event_spadl.loc[ws_event_spadl['team'] == 'AC Ajaccio', 'team'] = \"Ajaccio\"\n",
    "\n",
    "ws_event_spadl.loc[ws_event_spadl['team'] == 'Manchester United', 'team'] = 'Manchester Utd'\n",
    "ws_event_spadl.loc[ws_event_spadl['team'] == 'Newcastle United', 'team'] = 'Newcastle Utd'\n",
    "ws_event_spadl.loc[ws_event_spadl['team'] == 'Newcastle', 'team'] = 'Newcastle Utd'\n",
    "ws_event_spadl.loc[ws_event_spadl['team'] == 'Tottenham Hotspur', 'team'] = 'Tottenham'\n",
    "ws_event_spadl.loc[ws_event_spadl['team'] == 'Wolverhampton Wanderers', 'team'] = 'Wolves'\n",
    "ws_event_spadl.loc[ws_event_spadl['team'] == 'Wolverhampton', 'team'] = 'Wolves'\n",
    "ws_event_spadl.loc[ws_event_spadl['team'] == 'Nottingham Forest', 'team'] = \"Nott'ham Forest\"\n",
    "ws_event_spadl.loc[ws_event_spadl['team'] == 'Leicester', 'team'] = \"Leicester City\"\n",
    "ws_event_spadl.loc[ws_event_spadl['team'] == 'Leeds', 'team'] = \"Leeds United\"\n",
    "ws_event_spadl.loc[ws_event_spadl['team'] == 'Sheffield United', 'team'] = \"Sheffield Utd\"\n",
    "ws_event_spadl.loc[ws_event_spadl['team'] == 'Sheff Utd', 'team'] = \"Sheffield Utd\"\n",
    "ws_event_spadl.loc[ws_event_spadl['team'] == 'Luton', 'team'] = \"Luton Town\"\n",
    "ws_event_spadl.loc[ws_event_spadl['team'] == 'Norwich', 'team'] = \"Norwich City\"\n",
    "ws_event_spadl.loc[ws_event_spadl['team'] == 'Man City', 'team'] = \"Manchester City\"\n",
    "ws_event_spadl.loc[ws_event_spadl['team'] == 'Man Utd', 'team'] = \"Manchester Utd\""
   ]
  },
  {
   "cell_type": "code",
   "execution_count": null,
   "metadata": {},
   "outputs": [],
   "source": [
    "ws_event_spadl.shape"
   ]
  },
  {
   "cell_type": "code",
   "execution_count": null,
   "metadata": {},
   "outputs": [],
   "source": [
    "ws_event_spadl = ws_event_spadl.merge(spadl.actiontypes_df(), how=\"left\").merge(spadl.bodyparts_df(), how=\"left\")"
   ]
  },
  {
   "cell_type": "code",
   "execution_count": null,
   "metadata": {},
   "outputs": [],
   "source": [
    "ws_event_spadl.rename({'game_id':'WS_MATCH_ID', 'original_event_id':'ORIGINAL_EVENT_ID','period_id':'PERIOD_ID',\n",
    "                       'time_seconds':'TIME_SECONDS', 'team_id':'TEAM_WS_ID', 'player_id':'PLAYER_WS_ID', 'start_x':'START_X',\n",
    "                        'end_x':'END_X', 'start_y':'START_Y', 'end_y':'END_Y','type_name':'TYPE_NAME',\n",
    "                        'bodypart_name':'BODYPART_NAME','result_id':'RESULT_ID', 'action_id':'ACTION_ID'}, axis=1, inplace=True)"
   ]
  },
  {
   "cell_type": "code",
   "execution_count": null,
   "metadata": {},
   "outputs": [],
   "source": [
    "ws_event_spadl = ws_event_spadl.merge(df_matches[['MATCH_ID', 'WS_MATCH_ID']], on='WS_MATCH_ID')"
   ]
  },
  {
   "cell_type": "code",
   "execution_count": null,
   "metadata": {},
   "outputs": [],
   "source": [
    "ws_event_spadl = ws_event_spadl.merge(curr_team_names[['TEAM_FBREF_ID','TEAM_WS_ID']], on='TEAM_WS_ID')"
   ]
  },
  {
   "cell_type": "code",
   "execution_count": null,
   "metadata": {},
   "outputs": [],
   "source": [
    "ws_event_spadl.rename({'TEAM_FBREF_ID':'team_id','START_X':'start_x','START_Y':'start_y','END_X':'end_x','END_Y':'end_y'}, axis=1,\n",
    "                      inplace=True)"
   ]
  },
  {
   "cell_type": "code",
   "execution_count": null,
   "metadata": {},
   "outputs": [],
   "source": [
    "df_matches_left =df_matches[df_matches['MATCH_ID'].isin(ws_event_spadl['MATCH_ID'].unique())]"
   ]
  },
  {
   "cell_type": "code",
   "execution_count": null,
   "metadata": {},
   "outputs": [],
   "source": [
    "# df_matches_left = df_matches[df_matches['MATCH_ID'].isin(matches_to_scarpe)]"
   ]
  },
  {
   "cell_type": "code",
   "execution_count": null,
   "metadata": {},
   "outputs": [],
   "source": [
    "for index, row in df_matches_left.iterrows():\n",
    "    inds_to_replace = ws_event_spadl[ws_event_spadl['MATCH_ID'] == row['MATCH_ID']].index\n",
    "    ws_event_spadl.loc[inds_to_replace] = spadl.play_left_to_right(ws_event_spadl.loc[inds_to_replace], row['HOME_TEAM_ID'])"
   ]
  },
  {
   "cell_type": "code",
   "execution_count": null,
   "metadata": {},
   "outputs": [],
   "source": [
    "ws_event_spadl['NEW_TIME_SECONDS'] = ws_event_spadl['TIME_SECONDS']"
   ]
  },
  {
   "cell_type": "code",
   "execution_count": null,
   "metadata": {},
   "outputs": [],
   "source": [
    "ws_event_spadl_period1 = ws_event_spadl[ws_event_spadl['PERIOD_ID'] == 1]\n",
    "ws_event_spadl_period2 = ws_event_spadl[ws_event_spadl['PERIOD_ID'] == 2]"
   ]
  },
  {
   "cell_type": "code",
   "execution_count": null,
   "metadata": {},
   "outputs": [],
   "source": [
    "start_time_2nd_half = ws_event_spadl_period2.groupby(['MATCH_ID', 'PERIOD_ID'])['NEW_TIME_SECONDS'].min().reset_index()"
   ]
  },
  {
   "cell_type": "code",
   "execution_count": null,
   "metadata": {},
   "outputs": [],
   "source": [
    "for index, row in tqdm(start_time_2nd_half.iterrows()):\n",
    "    time_to_remove = row['NEW_TIME_SECONDS']\n",
    "    ws_event_spadl.loc[(ws_event_spadl['MATCH_ID'] == row['MATCH_ID']) & (ws_event_spadl['PERIOD_ID'] == 2), 'NEW_TIME_SECONDS'] -= time_to_remove"
   ]
  },
  {
   "cell_type": "code",
   "execution_count": null,
   "metadata": {},
   "outputs": [],
   "source": [
    "ws_event_spadl.rename({'start_x':'START_X','end_x':'END_X','start_y':'START_Y','end_y':'END_Y',\n",
    "                       'team_id':'TEAM_FBREF_ID'}, axis=1, inplace=True)"
   ]
  },
  {
   "cell_type": "code",
   "execution_count": null,
   "metadata": {},
   "outputs": [],
   "source": [
    "ws_event_spadl.shape"
   ]
  },
  {
   "cell_type": "code",
   "execution_count": null,
   "metadata": {},
   "outputs": [],
   "source": [
    "events_drop_inds = ws_event_spadl[ws_event_spadl[['WS_MATCH_ID', 'PLAYER_WS_ID','ACTION_ID']].duplicated()].index"
   ]
  },
  {
   "cell_type": "code",
   "execution_count": null,
   "metadata": {},
   "outputs": [],
   "source": [
    "len(events_drop_inds)"
   ]
  },
  {
   "cell_type": "code",
   "execution_count": null,
   "metadata": {},
   "outputs": [],
   "source": [
    "ws_event_spadl = ws_event_spadl.drop(events_drop_inds)"
   ]
  },
  {
   "cell_type": "code",
   "execution_count": null,
   "metadata": {},
   "outputs": [],
   "source": [
    "upsert_to_snowflake(\"EVENTS_SPADL\", \n",
    "                    ws_event_spadl.drop(['type_id', 'player', 'team', 'WS_MATCH_ID', 'TEAM_WS_ID','bodypart_id'],axis=1), \n",
    "                    ['MATCH_ID','ACTION_ID'])"
   ]
  },
  {
   "cell_type": "code",
   "execution_count": null,
   "metadata": {},
   "outputs": [],
   "source": [
    "# cur.execute('SELECT * FROM EVENTS_SPADL')\n",
    "# events_rows = cur.fetchall()\n",
    "# column_names = [desc[0] for desc in cur.description]\n",
    "# ws_event_spadl = pd.DataFrame(events_rows, columns=column_names)"
   ]
  },
  {
   "cell_type": "markdown",
   "metadata": {},
   "source": [
    "### Update the \"Players\" table in Snowflake"
   ]
  },
  {
   "cell_type": "code",
   "execution_count": null,
   "metadata": {},
   "outputs": [],
   "source": [
    "## Sort out \"Players\" \"Table\n",
    "ws_players.rename({'team_id':'TEAM_WS_ID', 'game_id':'WS_MATCH_ID'}, axis=1, inplace=True)"
   ]
  },
  {
   "cell_type": "code",
   "execution_count": null,
   "metadata": {},
   "outputs": [],
   "source": [
    "ws_players = ws_players.merge(curr_team_names, on=\"TEAM_WS_ID\", how=\"left\")"
   ]
  },
  {
   "cell_type": "code",
   "execution_count": null,
   "metadata": {},
   "outputs": [],
   "source": [
    "ws_players = ws_players.sort_values(by=[\"WS_MATCH_ID\",\"TEAM_NAME\",\"jersey_number\"])"
   ]
  },
  {
   "cell_type": "code",
   "execution_count": null,
   "metadata": {},
   "outputs": [],
   "source": [
    "fbref_lineups.shape"
   ]
  },
  {
   "cell_type": "code",
   "execution_count": null,
   "metadata": {},
   "outputs": [],
   "source": [
    "fbref_lineups = fbref_lineups.reset_index().merge(fbref_schedule.reset_index()[['game', 'game_id',\n",
    "                                                                                'ws_game_id']], how='inner', on='game')"
   ]
  },
  {
   "cell_type": "code",
   "execution_count": null,
   "metadata": {},
   "outputs": [],
   "source": [
    "fbref_lineups = fbref_lineups.rename({'ws_game_id':'WS_MATCH_ID'}, axis=1)"
   ]
  },
  {
   "cell_type": "code",
   "execution_count": null,
   "metadata": {},
   "outputs": [],
   "source": [
    "fbref_lineups.shape"
   ]
  },
  {
   "cell_type": "code",
   "execution_count": null,
   "metadata": {},
   "outputs": [],
   "source": [
    "fbref_lineups = fbref_lineups.merge(curr_team_names[['TEAM_NAME','TEAM_FBREF_ID','TEAM_WS_ID']], on='TEAM_NAME')"
   ]
  },
  {
   "cell_type": "code",
   "execution_count": null,
   "metadata": {},
   "outputs": [],
   "source": [
    "ws_players.rename({'player_id':'WS_player_id', 'player_name':'WS_player_name','minutes_played':'WS_minutes_played',\n",
    "                   'starting_position':'WS_starting_position', 'is_starter':'WS_is_starter'}, axis=1, inplace=True)"
   ]
  },
  {
   "cell_type": "code",
   "execution_count": null,
   "metadata": {},
   "outputs": [],
   "source": [
    "fbref_lineups.rename({'minutes_played':'FBREF_minutes_played', 'game_id':'MATCH_ID','position':'FBREF_position',\n",
    "                      'is_starter':'FBREF_is_starter'}, axis=1, inplace=True)"
   ]
  },
  {
   "cell_type": "code",
   "execution_count": null,
   "metadata": {},
   "outputs": [],
   "source": [
    "fbref_lineups = fbref_lineups.merge(ws_players, on=[\"TEAM_FBREF_ID\", \"TEAM_NAME\", \"WS_MATCH_ID\",\n",
    "                                                    \"TEAM_WS_ID\", \"jersey_number\"], how=\"left\")"
   ]
  },
  {
   "cell_type": "code",
   "execution_count": null,
   "metadata": {},
   "outputs": [],
   "source": [
    "df_players = fbref_lineups[['WS_player_id', 'player', 'WS_player_name']].drop_duplicates()"
   ]
  },
  {
   "cell_type": "code",
   "execution_count": null,
   "metadata": {},
   "outputs": [],
   "source": [
    "df_players = df_players.dropna(subset=['WS_player_id'])"
   ]
  },
  {
   "cell_type": "code",
   "execution_count": null,
   "metadata": {},
   "outputs": [],
   "source": [
    "df_players.rename({'WS_player_id':'PLAYER_WS_ID', 'player':'PLAYER_FBREF_NAME', 'WS_player_name':'PLAYER_WS_NAME'}, \n",
    "                  axis=1, inplace=True)"
   ]
  },
  {
   "cell_type": "code",
   "execution_count": null,
   "metadata": {},
   "outputs": [],
   "source": [
    "df_players[df_players['PLAYER_WS_ID'].duplicated()]"
   ]
  },
  {
   "cell_type": "code",
   "execution_count": null,
   "metadata": {},
   "outputs": [],
   "source": [
    "df_players = df_players.replace('Lucas Martínez', 'Lucas Martínez Quarta')"
   ]
  },
  {
   "cell_type": "code",
   "execution_count": null,
   "metadata": {},
   "outputs": [],
   "source": [
    "df_players = df_players.replace('Ronald Araujo', 'Ronald Araújo')\n",
    "df_players = df_players.replace('Íñigo Martínez', 'Iñigo Martínez')"
   ]
  },
  {
   "cell_type": "code",
   "execution_count": null,
   "metadata": {},
   "outputs": [],
   "source": [
    "df_players = df_players.replace('Lucas Michel', 'Lucas Michal')\n",
    "df_players = df_players.replace('Théo Ramousse', 'Théo Borne')\n",
    "df_players = df_players.replace('Joel Mugisha', 'Joel Mvuka')"
   ]
  },
  {
   "cell_type": "code",
   "execution_count": null,
   "metadata": {},
   "outputs": [],
   "source": [
    "df_players = df_players[(df_players['PLAYER_FBREF_NAME'] != 'Destiny Egharevba') | (df_players['PLAYER_WS_ID'] != 428502)]"
   ]
  },
  {
   "cell_type": "code",
   "execution_count": null,
   "metadata": {},
   "outputs": [],
   "source": [
    "df_players = df_players[(df_players['PLAYER_FBREF_NAME'] != 'Sacha Delaye') | (df_players['PLAYER_WS_NAME'] != 'Enzo Tchato')]"
   ]
  },
  {
   "cell_type": "code",
   "execution_count": null,
   "metadata": {},
   "outputs": [],
   "source": [
    "df_players = df_players.replace('Malcolm Barcola', 'Bradley Barcola')"
   ]
  },
  {
   "cell_type": "code",
   "execution_count": null,
   "metadata": {},
   "outputs": [],
   "source": [
    "df_players = df_players[['PLAYER_WS_ID', 'PLAYER_FBREF_NAME', 'PLAYER_WS_NAME']].drop_duplicates()"
   ]
  },
  {
   "cell_type": "code",
   "execution_count": null,
   "metadata": {},
   "outputs": [],
   "source": []
  },
  {
   "cell_type": "code",
   "execution_count": null,
   "metadata": {},
   "outputs": [],
   "source": [
    "# df_players[df_players['PLAYER_WS_ID']==426915]"
   ]
  },
  {
   "cell_type": "code",
   "execution_count": null,
   "metadata": {},
   "outputs": [],
   "source": [
    "## Find all instances of \"Min-Jae Kim\" in df_players\n",
    "\n",
    "# df_players[df_players['PLAYER_FBREF_NAME'].str.contains('Luca Ravanelli')]\n",
    "\n",
    "# # Replace it with \"Kim Min-Jae\"\n",
    "\n",
    "# df_players.loc[df_players['PLAYER_WS_ID'] == 426915, 'PLAYER_FBREF_NAME'] = 'Felix Afena-Gyan'"
   ]
  },
  {
   "cell_type": "code",
   "execution_count": null,
   "metadata": {},
   "outputs": [],
   "source": [
    "upsert_to_snowflake(\"PLAYERS\", df_players, ['PLAYER_WS_ID'])"
   ]
  },
  {
   "cell_type": "markdown",
   "metadata": {},
   "source": [
    "Player-match combos now"
   ]
  },
  {
   "cell_type": "code",
   "execution_count": null,
   "metadata": {},
   "outputs": [],
   "source": [
    "df_player_match = fbref_lineups[['WS_player_id', 'player','MATCH_ID', 'TEAM_FBREF_ID', 'WS_starting_position', \n",
    "                                 'FBREF_position','jersey_number','FBREF_minutes_played','FBREF_is_starter','WS_is_starter',\n",
    "                                 'WS_minutes_played']]"
   ]
  },
  {
   "cell_type": "code",
   "execution_count": null,
   "metadata": {},
   "outputs": [],
   "source": [
    "df_player_match = df_player_match.rename({'WS_player_id':'PLAYER_WS_ID', 'player':'PLAYER_FBREF_NAME', 'WS_starting_position':'STARTING_POSITION_WS',\n",
    "                        'FBREF_position':'POSITION_FBREF', 'jersey_number':'JERSEY_NUMBER', 'FBREF_minutes_played':'MINUTES_PLAYED_FBREF',\n",
    "                        'FBREF_is_starter':'IS_STARTER_FBREF','WS_is_starter':'IS_STARTER_WS','WS_minutes_played':'MINUTES_PLAYED_WS'}, axis=1)"
   ]
  },
  {
   "cell_type": "code",
   "execution_count": null,
   "metadata": {},
   "outputs": [],
   "source": [
    "inds_to_drop = df_player_match[df_player_match[['PLAYER_WS_ID', 'MATCH_ID']].duplicated()].index"
   ]
  },
  {
   "cell_type": "code",
   "execution_count": null,
   "metadata": {},
   "outputs": [],
   "source": [
    "inds_to_drop"
   ]
  },
  {
   "cell_type": "code",
   "execution_count": null,
   "metadata": {},
   "outputs": [],
   "source": [
    "df_player_match = df_player_match.drop(inds_to_drop)"
   ]
  },
  {
   "cell_type": "code",
   "execution_count": null,
   "metadata": {},
   "outputs": [],
   "source": [
    "df_player_match = df_player_match.dropna(subset=['PLAYER_WS_ID'])"
   ]
  },
  {
   "cell_type": "code",
   "execution_count": null,
   "metadata": {},
   "outputs": [],
   "source": [
    "df_player_match = df_player_match[~((df_player_match['MATCH_ID'] == 'd6d3de2f') & \n",
    "                                    (df_player_match['PLAYER_WS_ID'] == 502424))]"
   ]
  },
  {
   "cell_type": "code",
   "execution_count": null,
   "metadata": {},
   "outputs": [],
   "source": [
    "df_player_match = df_player_match[~((df_player_match['MATCH_ID'] == '1a0a12f3') & \n",
    "                                    (df_player_match['PLAYER_WS_ID'] == 135328))]"
   ]
  },
  {
   "cell_type": "code",
   "execution_count": null,
   "metadata": {},
   "outputs": [],
   "source": [
    "upsert_to_snowflake(\"PLAYER_MATCH\", df_player_match, ['PLAYER_WS_ID', 'MATCH_ID'])"
   ]
  },
  {
   "cell_type": "markdown",
   "metadata": {},
   "source": [
    "### Add Shot Event Data"
   ]
  },
  {
   "cell_type": "code",
   "execution_count": null,
   "metadata": {},
   "outputs": [],
   "source": [
    "no_shot_match = []"
   ]
  },
  {
   "cell_type": "code",
   "execution_count": null,
   "metadata": {},
   "outputs": [],
   "source": [
    "matches_to_scarpe1 = df_matches[df_matches['MATCH_ID'].isin(ws_event_spadl['MATCH_ID'].unique())]['MATCH_ID']"
   ]
  },
  {
   "cell_type": "code",
   "execution_count": null,
   "metadata": {},
   "outputs": [],
   "source": [
    "len(matches_to_scarpe1)"
   ]
  },
  {
   "cell_type": "code",
   "execution_count": null,
   "metadata": {},
   "outputs": [],
   "source": [
    "for i, val in tqdm(enumerate(matches_to_scarpe1)):\n",
    "    if i == 0:\n",
    "        fbref_shot_events = fbref.read_shot_events(match_id=val)\n",
    "    else:\n",
    "        try:\n",
    "            fbref_shot_events = pd.concat([fbref_shot_events, fbref.read_shot_events(match_id=val)])\n",
    "        except:\n",
    "            no_shot_match.append(val)"
   ]
  },
  {
   "cell_type": "code",
   "execution_count": null,
   "metadata": {},
   "outputs": [],
   "source": [
    "for i, val in tqdm(enumerate(no_shot_match)):\n",
    "    # if i == 0:\n",
    "    #     fbref_shot_events = fbref.read_shot_events(match_id=val)\n",
    "    # else:\n",
    "        try:\n",
    "            fbref_shot_events = pd.concat([fbref_shot_events, fbref.read_shot_events(match_id=val)])\n",
    "        except:\n",
    "            no_shot_match.append(val)"
   ]
  },
  {
   "cell_type": "code",
   "execution_count": null,
   "metadata": {},
   "outputs": [],
   "source": [
    "fbref_shot_events = fbref_shot_events.rename_axis(index={'season': 'SEASON', 'league': 'COMPETITION'})"
   ]
  },
  {
   "cell_type": "code",
   "execution_count": null,
   "metadata": {},
   "outputs": [],
   "source": [
    "len(fbref_shot_events)"
   ]
  },
  {
   "cell_type": "code",
   "execution_count": null,
   "metadata": {},
   "outputs": [],
   "source": [
    "fbref_shot_events = make_season_integer(fbref_shot_events)"
   ]
  },
  {
   "cell_type": "code",
   "execution_count": null,
   "metadata": {},
   "outputs": [],
   "source": [
    "ws_event_spadl['TIME_SECONDS'] = ws_event_spadl['TIME_SECONDS'].astype(int)\n",
    "ws_event_spadl['PLAYER_WS_ID'] = ws_event_spadl['PLAYER_WS_ID'].astype(int)"
   ]
  },
  {
   "cell_type": "code",
   "execution_count": null,
   "metadata": {},
   "outputs": [],
   "source": [
    "fbref_shot_events.shape"
   ]
  },
  {
   "cell_type": "code",
   "execution_count": null,
   "metadata": {},
   "outputs": [],
   "source": [
    "ws_shots = ws_event_spadl[(ws_event_spadl['TYPE_NAME'] == 'shot') | (ws_event_spadl['TYPE_NAME'] == 'shot_freekick') | \\\n",
    "               (ws_event_spadl['TYPE_NAME'] == 'shot_penalty')]"
   ]
  },
  {
   "cell_type": "code",
   "execution_count": null,
   "metadata": {},
   "outputs": [],
   "source": [
    "ws_shots.shape"
   ]
  },
  {
   "cell_type": "code",
   "execution_count": null,
   "metadata": {},
   "outputs": [],
   "source": [
    "fbref_shot_events.reset_index(inplace=True)"
   ]
  },
  {
   "cell_type": "code",
   "execution_count": null,
   "metadata": {},
   "outputs": [],
   "source": [
    "fbref_shot_events.columns = fbref_shot_events.columns.get_level_values(0) + fbref_shot_events.columns.get_level_values(1)"
   ]
  },
  {
   "cell_type": "code",
   "execution_count": null,
   "metadata": {},
   "outputs": [],
   "source": [
    "fbref_shot_events.to_csv('fbref_shot_events.csv')\n",
    "# fbref_shot_events = pd.read_csv('fbref_shot_events.csv', index_col=0)"
   ]
  },
  {
   "cell_type": "code",
   "execution_count": null,
   "metadata": {},
   "outputs": [],
   "source": [
    "fbref_shot_events = fbref_shot_events.merge(fbref_schedule[['COMPETITION','SEASON','game','game_id','ws_game_id']], \n",
    "                        on=['COMPETITION','SEASON','game'])"
   ]
  },
  {
   "cell_type": "code",
   "execution_count": null,
   "metadata": {},
   "outputs": [],
   "source": [
    "fbref_shot_events.rename({'player':'PLAYER_FBREF_NAME', 'game_id':'MATCH_ID'}, axis=1, inplace=True)"
   ]
  },
  {
   "cell_type": "code",
   "execution_count": null,
   "metadata": {},
   "outputs": [],
   "source": [
    "fbref_shot_events['PLAYER_FBREF_NAME'] = fbref_shot_events['PLAYER_FBREF_NAME'].str.replace(' \\(pen\\)', '', regex=True)"
   ]
  },
  {
   "cell_type": "code",
   "execution_count": null,
   "metadata": {},
   "outputs": [],
   "source": [
    "fbref_shot_events.loc[fbref_shot_events['PLAYER_FBREF_NAME'] == 'Loum Ndiaye', 'PLAYER_FBREF_NAME'] = \"Mamadou N'Diaye\""
   ]
  },
  {
   "cell_type": "code",
   "execution_count": null,
   "metadata": {},
   "outputs": [],
   "source": [
    "len(df_player_match['MATCH_ID'].unique())"
   ]
  },
  {
   "cell_type": "code",
   "execution_count": null,
   "metadata": {},
   "outputs": [],
   "source": [
    "df_player_match = df_player_match[~((df_player_match['MATCH_ID'] == 'd6d3de2f') & \n",
    "                                    (df_player_match['PLAYER_WS_ID'] == 502424))]\n",
    "df_player_match = df_player_match[~((df_player_match['MATCH_ID'] == '1a0a12f3') & \n",
    "                                    (df_player_match['PLAYER_WS_ID'] == 135328))]"
   ]
  },
  {
   "cell_type": "code",
   "execution_count": null,
   "metadata": {},
   "outputs": [],
   "source": [
    "fbref_shot_events = fbref_shot_events.merge(df_player_match[['PLAYER_WS_ID', 'PLAYER_FBREF_NAME', 'MATCH_ID']], \n",
    "                        on=['PLAYER_FBREF_NAME', 'MATCH_ID'], how=\"inner\")"
   ]
  },
  {
   "cell_type": "code",
   "execution_count": null,
   "metadata": {},
   "outputs": [],
   "source": [
    "fbref_shot_events = fbref_shot_events[(fbref_shot_events['MATCH_ID'] != '7e4bbae4') | \n",
    "                  (fbref_shot_events['PLAYER_FBREF_NAME'] != 'Borja Iglesias')]"
   ]
  },
  {
   "cell_type": "code",
   "execution_count": null,
   "metadata": {},
   "outputs": [],
   "source": [
    "fbref_shot_events = fbref_shot_events[(fbref_shot_events['MATCH_ID'] != '7e4bbae4') | \n",
    "                  (fbref_shot_events['PLAYER_FBREF_NAME'] != 'Roberto González')]"
   ]
  },
  {
   "cell_type": "code",
   "execution_count": null,
   "metadata": {},
   "outputs": [],
   "source": [
    "fbref_shot_events = fbref_shot_events[(fbref_shot_events['MATCH_ID'] != '82b8a000') |  (fbref_shot_events['minute'] != '81')]"
   ]
  },
  {
   "cell_type": "code",
   "execution_count": null,
   "metadata": {},
   "outputs": [],
   "source": [
    "fbref_shot_events = fbref_shot_events[(fbref_shot_events['MATCH_ID'] != '9bd36df7') |  \n",
    "                                      (fbref_shot_events['PLAYER_FBREF_NAME'] != 'Saîf-Eddine Khaoui') |\n",
    "                                      (fbref_shot_events['minute'] != '38')]"
   ]
  },
  {
   "cell_type": "code",
   "execution_count": null,
   "metadata": {},
   "outputs": [],
   "source": [
    "fbref_shot_events = fbref_shot_events[(fbref_shot_events['MATCH_ID'] != 'f7d8a40e') |  \n",
    "                                      (fbref_shot_events['PLAYER_FBREF_NAME'] != 'Matteo Prati') |\n",
    "                                      (fbref_shot_events['minute'] != '77')]"
   ]
  },
  {
   "cell_type": "code",
   "execution_count": null,
   "metadata": {},
   "outputs": [],
   "source": [
    "# fbref_shot_events = fbref_shot_events.merge(df_players, on='PLAYER_FBREF_NAME', how=\"left\")"
   ]
  },
  {
   "cell_type": "code",
   "execution_count": null,
   "metadata": {},
   "outputs": [],
   "source": [
    "# ws_shots = ws_event_spadl[(ws_event_spadl['TYPE_NAME'] == 'shot') | (ws_event_spadl['TYPE_NAME'] == 'shot_freekick') | \\\n",
    "#                (ws_event_spadl['TYPE_NAME'] == 'shot_penalty')]"
   ]
  },
  {
   "cell_type": "code",
   "execution_count": null,
   "metadata": {},
   "outputs": [],
   "source": [
    "ws_shots['ORIGINAL_EVENT_ID'] = ws_shots['ORIGINAL_EVENT_ID'].astype(float)"
   ]
  },
  {
   "cell_type": "code",
   "execution_count": null,
   "metadata": {},
   "outputs": [],
   "source": [
    "ws_shots = ws_shots.drop_duplicates()"
   ]
  },
  {
   "cell_type": "code",
   "execution_count": null,
   "metadata": {},
   "outputs": [],
   "source": [
    "ws_shots = ws_shots[(ws_shots['MATCH_ID'] != '7e4bbae4')| \n",
    "        (ws_shots['player'] != 'Rober')]"
   ]
  },
  {
   "cell_type": "code",
   "execution_count": null,
   "metadata": {},
   "outputs": [],
   "source": [
    "ws_shots = ws_shots[(ws_shots['MATCH_ID'] != '7e4bbae4')| \n",
    "        (ws_shots['player'] != 'Borja Iglesias')]"
   ]
  },
  {
   "cell_type": "code",
   "execution_count": null,
   "metadata": {},
   "outputs": [],
   "source": [
    "ws_shots = ws_shots[(ws_shots['MATCH_ID'] != '47134469')| \n",
    "        (ws_shots['player'] != 'Ángel Alarcón')]"
   ]
  },
  {
   "cell_type": "code",
   "execution_count": null,
   "metadata": {},
   "outputs": [],
   "source": [
    "ws_shots = ws_shots[(ws_shots['MATCH_ID'] != 'c34bbc21')]"
   ]
  },
  {
   "cell_type": "code",
   "execution_count": null,
   "metadata": {},
   "outputs": [],
   "source": [
    "# ws_dropped_shots = ws_shots[ws_shots['PLAYER_WS_ID'] == 444304]\n",
    "# ws_shots = ws_shots[ws_shots['PLAYER_WS_ID'] != 444304]"
   ]
  },
  {
   "cell_type": "code",
   "execution_count": null,
   "metadata": {},
   "outputs": [],
   "source": [
    "## Bamba from Lorient's shots to be dropped\n",
    "# ws_dropped_shots = ws_shots[ws_shots['PLAYER_WS_ID'] == 515493]\n",
    "# ws_shots = ws_shots[ws_shots['PLAYER_WS_ID'] != 515493]"
   ]
  },
  {
   "cell_type": "code",
   "execution_count": null,
   "metadata": {},
   "outputs": [],
   "source": [
    "ws_shots = ws_shots[ws_shots['PLAYER_WS_ID'] != 509340]\n",
    "ws_shots = ws_shots[ws_shots['PLAYER_WS_ID'] != 511120]\n",
    "ws_shots = ws_shots[ws_shots['PLAYER_WS_ID'] != 492362]"
   ]
  },
  {
   "cell_type": "code",
   "execution_count": null,
   "metadata": {},
   "outputs": [],
   "source": [
    "fbref_shot_events.shape"
   ]
  },
  {
   "cell_type": "code",
   "execution_count": null,
   "metadata": {},
   "outputs": [],
   "source": [
    "ws_shots.shape"
   ]
  },
  {
   "cell_type": "code",
   "execution_count": null,
   "metadata": {},
   "outputs": [],
   "source": [
    "## Rogue Joel Veltman shot should be dropped\n",
    "ws_shots = ws_shots.drop(ws_shots[(ws_shots['PLAYER_WS_ID'] == 110290) & \n",
    "                                  (ws_shots['MATCH_ID'] == '36be5cee')].index)"
   ]
  },
  {
   "cell_type": "code",
   "execution_count": null,
   "metadata": {},
   "outputs": [],
   "source": [
    "## Rogue Negredo shot to drop\n",
    "ws_shots = ws_shots[(ws_shots['MATCH_ID'] != 'c409c152') | (ws_shots['PLAYER_WS_ID'] != 23757) | (ws_shots['ACTION_ID'] != 149)]"
   ]
  },
  {
   "cell_type": "code",
   "execution_count": null,
   "metadata": {},
   "outputs": [],
   "source": [
    "ws_shots = ws_shots[(ws_shots['MATCH_ID'] != '84765ee6') | (ws_shots['ACTION_ID'] != 117)]"
   ]
  },
  {
   "cell_type": "code",
   "execution_count": null,
   "metadata": {},
   "outputs": [],
   "source": [
    "ws_shots = ws_shots[(ws_shots['MATCH_ID'] != 'b63b2da7') | (ws_shots['WS_MATCH_ID'] != 1727122)]"
   ]
  },
  {
   "cell_type": "code",
   "execution_count": null,
   "metadata": {},
   "outputs": [],
   "source": [
    "## Rogue Negredo shot to drop\n",
    "ws_shots = ws_shots[(ws_shots['MATCH_ID'] != 'de22618d') | (ws_shots['PLAYER_WS_ID'] != 286828) | (ws_shots['ACTION_ID'] != 1716)]"
   ]
  },
  {
   "cell_type": "code",
   "execution_count": null,
   "metadata": {},
   "outputs": [],
   "source": [
    "## Rogue Rodrigo Riquelme shot to drop\n",
    "ws_shots = ws_shots[(ws_shots['MATCH_ID'] != 'bccce279') | (ws_shots['PLAYER_WS_ID'] != 382631) | (ws_shots['ACTION_ID'] != 958)]"
   ]
  },
  {
   "cell_type": "code",
   "execution_count": null,
   "metadata": {},
   "outputs": [],
   "source": [
    "## Rogue Rodrigo Riquelme shot to drop\n",
    "ws_shots = ws_shots[(ws_shots['MATCH_ID'] != '55996670') | (ws_shots['PLAYER_WS_ID'] != 403649) | (ws_shots['ACTION_ID'] != 1229)]"
   ]
  },
  {
   "cell_type": "code",
   "execution_count": null,
   "metadata": {},
   "outputs": [],
   "source": [
    "## Rogue O'maheny shots to drop\n",
    "ws_shots = ws_shots[(ws_shots['PLAYER_WS_ID'] != 509424)]\n",
    "\n",
    "## Gasirowski shots to drop\n",
    "ws_shots = ws_shots[(ws_shots['PLAYER_WS_ID'] != 504417)]\n",
    "\n",
    "## BOuchenna shots to drop\n",
    "ws_shots = ws_shots[(ws_shots['PLAYER_WS_ID'] != 497017)]\n",
    "\n",
    "## Senaya shot to drop\n",
    "ws_shots = ws_shots[(ws_shots['PLAYER_WS_ID'] != 404952) | (ws_shots['MATCH_ID'] != \"2301c78f\")]"
   ]
  },
  {
   "cell_type": "code",
   "execution_count": null,
   "metadata": {},
   "outputs": [],
   "source": [
    "## Drop an ANgel GOmes shot\n",
    "fbref_shot_events = fbref_shot_events[(fbref_shot_events['MATCH_ID'] != '8f8532aa') | \n",
    "                                      (fbref_shot_events['PLAYER_WS_ID'] != 338497) | \n",
    "                                      (fbref_shot_events['minute'] != \"25\")]"
   ]
  },
  {
   "cell_type": "code",
   "execution_count": null,
   "metadata": {},
   "outputs": [],
   "source": [
    "relevant_inds = fbref_shot_events.drop(['ws_game_id', 'PLAYER_WS_ID'], axis=1).drop_duplicates().index\n",
    "relevant_inds"
   ]
  },
  {
   "cell_type": "code",
   "execution_count": null,
   "metadata": {},
   "outputs": [],
   "source": [
    "fbref_shot_events = fbref_shot_events.loc[list(relevant_inds)]"
   ]
  },
  {
   "cell_type": "code",
   "execution_count": null,
   "metadata": {},
   "outputs": [],
   "source": [
    "# Get the indices of the last 5 rows where MATCH_ID == '4c975b7e'\n",
    "indices = fbref_shot_events[fbref_shot_events['MATCH_ID'] == '4c975b7e'].index[-5:]\n",
    "fbref_shot_events = fbref_shot_events.drop(indices)"
   ]
  },
  {
   "cell_type": "code",
   "execution_count": null,
   "metadata": {},
   "outputs": [],
   "source": [
    "fbref_shot_events.shape"
   ]
  },
  {
   "cell_type": "code",
   "execution_count": null,
   "metadata": {},
   "outputs": [],
   "source": [
    "ws_shots.shape"
   ]
  },
  {
   "cell_type": "code",
   "execution_count": null,
   "metadata": {},
   "outputs": [],
   "source": [
    "for game in fbref_shot_events['MATCH_ID'].unique():\n",
    "    if len(ws_shots.loc[ws_shots.MATCH_ID == game]) != len(fbref_shot_events.loc[fbref_shot_events.MATCH_ID == game]):\n",
    "        print(game)"
   ]
  },
  {
   "cell_type": "code",
   "execution_count": null,
   "metadata": {},
   "outputs": [],
   "source": [
    "# ws_shots.loc[ws_shots.MATCH_ID == '2301c78f']"
   ]
  },
  {
   "cell_type": "code",
   "execution_count": null,
   "metadata": {},
   "outputs": [],
   "source": [
    "# fbref_shot_events.loc[fbref_shot_events.MATCH_ID == '2301c78f']"
   ]
  },
  {
   "cell_type": "code",
   "execution_count": null,
   "metadata": {},
   "outputs": [],
   "source": [
    "# fbref_shot_events[['new_minute', 'added_minute']] = fbref_shot_events['minute'].apply(\n",
    "#     lambda x: pd.Series(str(x).split('+') if '+' in str(x) else [x, 0])\n",
    "# )"
   ]
  },
  {
   "cell_type": "code",
   "execution_count": null,
   "metadata": {},
   "outputs": [],
   "source": [
    "# fbref_shot_events['new_minute'] = fbref_shot_events['new_minute'].astype(int)\n",
    "# fbref_shot_events['added_minute'] = fbref_shot_events['added_minute'].astype(int)"
   ]
  },
  {
   "cell_type": "code",
   "execution_count": null,
   "metadata": {},
   "outputs": [],
   "source": [
    "# fbref_shot_events = fbref_shot_events.sort_values(by=['MATCH_ID', 'new_minute', 'added_minute', 'PLAYER_WS_ID']).reset_index(drop=True)"
   ]
  },
  {
   "cell_type": "code",
   "execution_count": null,
   "metadata": {},
   "outputs": [],
   "source": [
    "ws_shots = ws_shots.sort_values(by=['MATCH_ID', 'PERIOD_ID','ACTION_ID']).reset_index(drop=True)"
   ]
  },
  {
   "cell_type": "code",
   "execution_count": null,
   "metadata": {},
   "outputs": [],
   "source": [
    "ws_shots['xG'] = np.nan\n",
    "ws_shots['PSxG'] = np.nan\n",
    "ws_shots['outcome'] = np.nan\n",
    "ws_shots['distance'] = np.nan\n",
    "ws_shots['body_part'] = np.nan\n",
    "ws_shots['notes'] = np.nan\n",
    "ws_shots['SCA 1player'] = np.nan\n",
    "ws_shots['SCA 1event'] = np.nan\n",
    "ws_shots['SCA 2player'] = np.nan\n",
    "ws_shots['SCA 2event'] = np.nan\n",
    "ws_shots['FBREF_PLAYER_WS_ID'] = np.nan\n",
    "ws_shots['PLAYER_WS_NAME'] = np.nan"
   ]
  },
  {
   "cell_type": "code",
   "execution_count": null,
   "metadata": {},
   "outputs": [],
   "source": [
    "fbref_shot_events.rename({'PLAYER_WS_ID':'FBREF_PLAYER_WS_ID'}, axis=1, inplace=True)"
   ]
  },
  {
   "cell_type": "code",
   "execution_count": null,
   "metadata": {},
   "outputs": [],
   "source": [
    "fbref_shot_events = fbref_shot_events.merge(df_players.rename({'PLAYER_WS_ID':'FBREF_PLAYER_WS_ID'}, axis=1), \n",
    "                        on=['FBREF_PLAYER_WS_ID', 'PLAYER_FBREF_NAME'], how=\"left\")"
   ]
  },
  {
   "cell_type": "code",
   "execution_count": null,
   "metadata": {},
   "outputs": [],
   "source": [
    "cols_of_interest = ['xG', 'PSxG', 'outcome', 'distance', 'body_part', 'notes', 'SCA 1player', 'SCA 1event', \n",
    "                    'SCA 2player', 'SCA 2event', 'FBREF_PLAYER_WS_ID', 'PLAYER_WS_NAME']\n",
    "for game in ws_shots['MATCH_ID'].unique():\n",
    "    df_hold = fbref_shot_events[fbref_shot_events['MATCH_ID'] == game]\n",
    "    ind_list = ws_shots[ws_shots['MATCH_ID'] == game].index\n",
    "    ws_shots.loc[ind_list, cols_of_interest] = np.array(df_hold[cols_of_interest])"
   ]
  },
  {
   "cell_type": "code",
   "execution_count": null,
   "metadata": {},
   "outputs": [],
   "source": [
    "ws_shots['FBREF_PLAYER_WS_ID'] = ws_shots['FBREF_PLAYER_WS_ID'].astype(int)"
   ]
  },
  {
   "cell_type": "code",
   "execution_count": null,
   "metadata": {},
   "outputs": [],
   "source": [
    "mismatched_inds = ws_shots[ws_shots['PLAYER_WS_ID'] != ws_shots['FBREF_PLAYER_WS_ID']].index"
   ]
  },
  {
   "cell_type": "code",
   "execution_count": null,
   "metadata": {},
   "outputs": [],
   "source": [
    "mismatched_inds"
   ]
  },
  {
   "cell_type": "code",
   "execution_count": null,
   "metadata": {},
   "outputs": [],
   "source": [
    "# ONLY for the indecies with mismatched_inds, cahnge \"FBREF_PLAYER_WS_ID\" to teh value in \"PLAYER_WS_ID\" if \"player\" column's value is equal to \"PLAYER_WS_NAME\" column's value\n",
    "mask = ws_shots.loc[mismatched_inds, 'player'] == ws_shots.loc[mismatched_inds, 'PLAYER_WS_NAME']\n",
    "ws_shots.loc[mismatched_inds[mask], 'FBREF_PLAYER_WS_ID'] = ws_shots.loc[mismatched_inds[mask], 'PLAYER_WS_ID']"
   ]
  },
  {
   "cell_type": "code",
   "execution_count": null,
   "metadata": {},
   "outputs": [],
   "source": [
    "mismatched_inds = ws_shots[ws_shots['PLAYER_WS_ID'] != ws_shots['FBREF_PLAYER_WS_ID']].index"
   ]
  },
  {
   "cell_type": "code",
   "execution_count": null,
   "metadata": {},
   "outputs": [],
   "source": [
    "mask = (ws_shots.loc[mismatched_inds, 'player'] == 'Vítinha')\n",
    "ws_shots.loc[mismatched_inds[mask], 'FBREF_PLAYER_WS_ID'] = ws_shots.loc[mismatched_inds[mask], 'PLAYER_WS_ID']"
   ]
  },
  {
   "cell_type": "code",
   "execution_count": null,
   "metadata": {},
   "outputs": [],
   "source": [
    "for i in range(len(mismatched_inds) // 2):\n",
    "    val1 = ws_shots.loc[mismatched_inds, cols_of_interest].iloc[2*i]\n",
    "    val2 = ws_shots.loc[mismatched_inds, cols_of_interest].iloc[(2*i)+1]\n",
    "\n",
    "    ws_shots.loc[val1.name, cols_of_interest] = np.array(val2)\n",
    "    ws_shots.loc[val2.name, cols_of_interest] = np.array(val1)"
   ]
  },
  {
   "cell_type": "code",
   "execution_count": null,
   "metadata": {},
   "outputs": [],
   "source": [
    "#### Remove this part later becasue it's just for Yarmolyuik\n",
    "\n",
    "df_shots = ws_shots[['MATCH_ID','ACTION_ID','xG', 'PSxG', 'outcome', 'distance', \n",
    "          'body_part', 'notes', 'SCA 1player', 'SCA 1event', 'SCA 2player', 'SCA 2event']]\n",
    "\n",
    "# ws_dropped_shots[[cols_of_interest]] = np.nan\n",
    "\n",
    "# rows_to_add = [\n",
    "#     [0.04,np.nan,'Blocked',16,'Right Foot',np.nan,np.nan,np.nan,np.nan,np.nan,444304,'Yehor Yarmoliuk'],\n",
    "# [0.03,0.12,'Saved',27,'Right Foot',np.nan,np.nan,np.nan,np.nan,np.nan,444304,'Yehor Yarmoliuk'],\n",
    "# [0.05,np.nan,'Off Target',21,'Right Foot',np.nan,np.nan,np.nan,np.nan,np.nan,444304,'Yehor Yarmoliuk'],\n",
    "# [0.49,0.25,'Saved',11,'Right Foot',np.nan,np.nan,np.nan,np.nan,np.nan,444304,'Yehor Yarmoliuk'],\n",
    "# [0.09,np.nan,'Off Target',8,'Right Foot',np.nan,np.nan,np.nan,np.nan,np.nan,444304,'Yehor Yarmoliuk'],\n",
    "# [0.02,0.02,'Saved',19,'Right Foot',np.nan,np.nan,np.nan,np.nan,np.nan,444304,'Yehor Yarmoliuk']\n",
    "# ]\n",
    "\n",
    "# ws_dropped_shots[cols_of_interest] = np.array(rows_to_add)"
   ]
  },
  {
   "cell_type": "code",
   "execution_count": null,
   "metadata": {},
   "outputs": [],
   "source": [
    "# df_shots = pd.concat([df_shots, ws_dropped_shots[['MATCH_ID','ACTION_ID','xG', 'PSxG', 'outcome', 'distance', \n",
    "#           'body_part', 'notes', 'SCA 1player', 'SCA 1event', 'SCA 2player', 'SCA 2event']]]).sort_index()"
   ]
  },
  {
   "cell_type": "code",
   "execution_count": null,
   "metadata": {},
   "outputs": [],
   "source": [
    "# df_shots.replace({\"Jarrell Quansah\": \"Jarell Quansah\"}, inplace=True)\n",
    "# df_shots.replace({\"Omotayo Adaramola\": \"Tayo Adaramola\"}, inplace=True)"
   ]
  },
  {
   "cell_type": "code",
   "execution_count": null,
   "metadata": {},
   "outputs": [],
   "source": [
    "df_shots.rename({'xG':'XG', 'PSxG':'PSXG', 'outcome':'OUTCOME', 'distance':'DISTANCE', 'body_part':'BODY_PART',\n",
    "                 'notes':'NOTES', 'SCA 1player':'SCA_1_PLAYER_FBREF_NAME', 'SCA 1event':'SCA_1_PLAYER_FBREF_EVENT',\n",
    "                 'SCA 2player':'SCA_2_PLAYER_FBREF_NAME', 'SCA 2event':'SCA_2_PLAYER_FBREF_EVENT'}, axis=1, inplace=True)"
   ]
  },
  {
   "cell_type": "code",
   "execution_count": null,
   "metadata": {},
   "outputs": [],
   "source": [
    "# df_players.rename({'PLAYER_FBREF_NAME':'SCA_1_PLAYER_FBREF_NAME'}, axis=1, inplace=True)\n",
    "# df_players.rename({'PLAYER_WS_ID':'SCA_1_PLAYER_FBREF_ID'}, axis=1, inplace=True)"
   ]
  },
  {
   "cell_type": "code",
   "execution_count": null,
   "metadata": {},
   "outputs": [],
   "source": [
    "df_player_match.rename({'PLAYER_FBREF_NAME':'SCA_1_PLAYER_FBREF_NAME'}, axis=1, inplace=True)\n",
    "df_player_match.rename({'PLAYER_WS_ID':'SCA_1_PLAYER_FBREF_ID'}, axis=1, inplace=True)"
   ]
  },
  {
   "cell_type": "code",
   "execution_count": null,
   "metadata": {},
   "outputs": [],
   "source": [
    "df_shots.loc[df_shots['SCA_1_PLAYER_FBREF_NAME'] == 'Loum Ndiaye', 'SCA_1_PLAYER_FBREF_NAME'] = \"Mamadou N'Diaye\""
   ]
  },
  {
   "cell_type": "code",
   "execution_count": null,
   "metadata": {},
   "outputs": [],
   "source": [
    "df_shots.shape"
   ]
  },
  {
   "cell_type": "code",
   "execution_count": null,
   "metadata": {},
   "outputs": [],
   "source": [
    "df_shots = df_shots.merge(df_player_match[['SCA_1_PLAYER_FBREF_ID','SCA_1_PLAYER_FBREF_NAME','MATCH_ID']], \n",
    "                          on=['SCA_1_PLAYER_FBREF_NAME','MATCH_ID'], how='left')"
   ]
  },
  {
   "cell_type": "code",
   "execution_count": null,
   "metadata": {},
   "outputs": [],
   "source": [
    "relevant_inds = df_shots[['SCA_1_PLAYER_FBREF_NAME', 'MATCH_ID', 'ACTION_ID']].drop_duplicates().index"
   ]
  },
  {
   "cell_type": "code",
   "execution_count": null,
   "metadata": {},
   "outputs": [],
   "source": [
    "df_shots = df_shots.loc[relevant_inds]"
   ]
  },
  {
   "cell_type": "code",
   "execution_count": null,
   "metadata": {},
   "outputs": [],
   "source": [
    "# df_shots = df_shots.merge(df_players[['SCA_1_PLAYER_FBREF_ID','SCA_1_PLAYER_FBREF_NAME']], on='SCA_1_PLAYER_FBREF_NAME', how='left')"
   ]
  },
  {
   "cell_type": "code",
   "execution_count": null,
   "metadata": {},
   "outputs": [],
   "source": [
    "# df_players.rename({'SCA_1_PLAYER_FBREF_NAME':'SCA_2_PLAYER_FBREF_NAME'}, axis=1, inplace=True)\n",
    "# df_players.rename({'SCA_1_PLAYER_FBREF_ID':'SCA_2_PLAYER_FBREF_ID'}, axis=1, inplace=True)\n",
    "\n",
    "df_player_match.rename({'SCA_1_PLAYER_FBREF_NAME':'SCA_2_PLAYER_FBREF_NAME'}, axis=1, inplace=True)\n",
    "df_player_match.rename({'SCA_1_PLAYER_FBREF_ID':'SCA_2_PLAYER_FBREF_ID'}, axis=1, inplace=True)"
   ]
  },
  {
   "cell_type": "code",
   "execution_count": null,
   "metadata": {},
   "outputs": [],
   "source": [
    "# df_shots = df_shots.merge(df_players[['SCA_2_PLAYER_FBREF_ID','SCA_2_PLAYER_FBREF_NAME']], on='SCA_2_PLAYER_FBREF_NAME', how='left')\n",
    "df_shots = df_shots.merge(df_player_match[['SCA_2_PLAYER_FBREF_ID','SCA_2_PLAYER_FBREF_NAME','MATCH_ID']], \n",
    "                          on=['SCA_2_PLAYER_FBREF_NAME','MATCH_ID'], how='left')"
   ]
  },
  {
   "cell_type": "code",
   "execution_count": null,
   "metadata": {},
   "outputs": [],
   "source": [
    "relevant_inds = df_shots[['SCA_2_PLAYER_FBREF_NAME', 'MATCH_ID', 'ACTION_ID']].drop_duplicates().index"
   ]
  },
  {
   "cell_type": "code",
   "execution_count": null,
   "metadata": {},
   "outputs": [],
   "source": [
    "df_shots = df_shots.loc[relevant_inds]"
   ]
  },
  {
   "cell_type": "code",
   "execution_count": null,
   "metadata": {},
   "outputs": [],
   "source": [
    "inds_to_drop = (df_shots[df_shots[['MATCH_ID', 'ACTION_ID']].duplicated()].index)"
   ]
  },
  {
   "cell_type": "code",
   "execution_count": null,
   "metadata": {},
   "outputs": [],
   "source": [
    "inds_to_drop"
   ]
  },
  {
   "cell_type": "code",
   "execution_count": null,
   "metadata": {},
   "outputs": [],
   "source": [
    "df_shots = df_shots.drop(inds_to_drop)"
   ]
  },
  {
   "cell_type": "code",
   "execution_count": null,
   "metadata": {},
   "outputs": [],
   "source": [
    "df_shots = df_shots.drop(['SCA_1_PLAYER_FBREF_NAME', 'SCA_2_PLAYER_FBREF_NAME'], axis=1)"
   ]
  },
  {
   "cell_type": "code",
   "execution_count": null,
   "metadata": {},
   "outputs": [],
   "source": [
    "df_shots.rename({'SCA_1_PLAYER_FBREF_ID':'SCA_1_PLAYER_WS_ID', 'SCA_2_PLAYER_FBREF_ID':'SCA_2_PLAYER_WS_ID'}, \n",
    "                axis=1, inplace=True)"
   ]
  },
  {
   "cell_type": "code",
   "execution_count": null,
   "metadata": {},
   "outputs": [],
   "source": [
    "df_shots.replace({pd.NA: np.nan}, inplace=True)"
   ]
  },
  {
   "cell_type": "code",
   "execution_count": null,
   "metadata": {},
   "outputs": [],
   "source": [
    "df_shots['XG'] = df_shots['XG'].astype(float)\n",
    "df_shots['PSXG'] = df_shots['PSXG'].astype(float)\n",
    "df_shots['DISTANCE'] = df_shots['DISTANCE'].astype(int)"
   ]
  },
  {
   "cell_type": "code",
   "execution_count": null,
   "metadata": {},
   "outputs": [],
   "source": [
    "df_shots.shape"
   ]
  },
  {
   "cell_type": "code",
   "execution_count": null,
   "metadata": {},
   "outputs": [],
   "source": [
    "upsert_to_snowflake(\"SHOT_EVENTS\", df_shots, ['MATCH_ID', 'ACTION_ID'])"
   ]
  },
  {
   "cell_type": "code",
   "execution_count": null,
   "metadata": {},
   "outputs": [],
   "source": []
  },
  {
   "cell_type": "code",
   "execution_count": null,
   "metadata": {},
   "outputs": [],
   "source": [
    "## DF SHOTS NEEDS SOME CLEANING UP"
   ]
  },
  {
   "cell_type": "code",
   "execution_count": null,
   "metadata": {},
   "outputs": [],
   "source": []
  },
  {
   "cell_type": "code",
   "execution_count": null,
   "metadata": {},
   "outputs": [],
   "source": []
  },
  {
   "cell_type": "code",
   "execution_count": null,
   "metadata": {},
   "outputs": [],
   "source": []
  }
 ],
 "metadata": {
  "kernelspec": {
   "display_name": "footy",
   "language": "python",
   "name": "python3"
  },
  "language_info": {
   "codemirror_mode": {
    "name": "ipython",
    "version": 3
   },
   "file_extension": ".py",
   "mimetype": "text/x-python",
   "name": "python",
   "nbconvert_exporter": "python",
   "pygments_lexer": "ipython3",
   "version": "3.12.1"
  }
 },
 "nbformat": 4,
 "nbformat_minor": 2
}
