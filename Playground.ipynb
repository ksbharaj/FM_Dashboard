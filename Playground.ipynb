{
 "cells": [
  {
   "cell_type": "code",
   "execution_count": 1,
   "metadata": {},
   "outputs": [
    {
     "name": "stderr",
     "output_type": "stream",
     "text": [
      "d:\\Users\\ksbha\\miniconda3\\envs\\footy\\Lib\\site-packages\\snowflake\\connector\\options.py:103: UserWarning: You have an incompatible version of 'pyarrow' installed (14.0.2), please install a version that adheres to: 'pyarrow<10.1.0,>=10.0.1; extra == \"pandas\"'\n",
      "  warn_incompatible_dep(\n",
      "Failed to import ArrowResult. No Apache Arrow result set format can be used. ImportError: DLL load failed while importing arrow_iterator: The specified procedure could not be found.\n"
     ]
    }
   ],
   "source": [
    "import pandas as pd\n",
    "import numpy as np\n",
    "import plotly.graph_objects as go\n",
    "from snowflake.connector.pandas_tools import write_pandas\n",
    "from sqlalchemy import create_engine\n",
    "import snowflake.connector"
   ]
  },
  {
   "cell_type": "code",
   "execution_count": 2,
   "metadata": {},
   "outputs": [],
   "source": [
    "import snowflake.connector"
   ]
  },
  {
   "cell_type": "code",
   "execution_count": 3,
   "metadata": {},
   "outputs": [],
   "source": [
    "## Set options to view all columns\n",
    "pd.set_option('display.max_columns', None)"
   ]
  },
  {
   "cell_type": "code",
   "execution_count": 4,
   "metadata": {},
   "outputs": [],
   "source": [
    "SNOWFLAKE_USER = 'kbharaj3'\n",
    "SNOWFLAKE_PASSWORD = 'Snowfl@key0014'\n",
    "SNOWFLAKE_ACCOUNT = 'qx25653.ca-central-1.aws'\n",
    "SNOWFLAKE_WAREHOUSE = 'FOOTY_STORE'\n",
    "SNOWFLAKE_DATABASE = 'GEGENSTATS'\n",
    "SNOWFLAKE_SCHEMA = 'TABLES'"
   ]
  },
  {
   "cell_type": "code",
   "execution_count": 5,
   "metadata": {},
   "outputs": [],
   "source": [
    "conn = snowflake.connector.connect(\n",
    "    user=SNOWFLAKE_USER,\n",
    "    password=SNOWFLAKE_PASSWORD,\n",
    "    account=SNOWFLAKE_ACCOUNT,\n",
    "    warehouse=SNOWFLAKE_WAREHOUSE,\n",
    "    database=SNOWFLAKE_DATABASE,\n",
    "    schema=SNOWFLAKE_SCHEMA\n",
    ")"
   ]
  },
  {
   "cell_type": "code",
   "execution_count": 6,
   "metadata": {},
   "outputs": [],
   "source": [
    "cursor = conn.cursor()"
   ]
  },
  {
   "cell_type": "code",
   "execution_count": 7,
   "metadata": {},
   "outputs": [],
   "source": [
    "def fetch_data(cursor, query):\n",
    "    cursor.execute(query)\n",
    "    rows = cursor.fetchall()\n",
    "    column_names = [desc[0] for desc in cursor.description]\n",
    "    return pd.DataFrame(rows, columns=column_names)"
   ]
  },
  {
   "cell_type": "code",
   "execution_count": 8,
   "metadata": {},
   "outputs": [],
   "source": [
    "team_names = fetch_data(cursor, 'SELECT * FROM TEAMS')"
   ]
  },
  {
   "cell_type": "code",
   "execution_count": 9,
   "metadata": {},
   "outputs": [],
   "source": [
    "team_defending = fetch_data(cursor, 'SELECT * FROM TEAM_DEFENDING_STATS')"
   ]
  },
  {
   "cell_type": "code",
   "execution_count": 10,
   "metadata": {},
   "outputs": [],
   "source": [
    "df_matches = fetch_data(cursor, 'SELECT * FROM MATCHES')"
   ]
  },
  {
   "cell_type": "code",
   "execution_count": 18,
   "metadata": {},
   "outputs": [],
   "source": [
    "df_player_match = fetch_data(cursor, 'SELECT PLAYER_WS_ID, MATCH_ID, PLAYER_FBREF_NAME, TEAM_FBREF_ID, \\\n",
    "                             STARTING_POSITION_WS FROM PLAYER_MATCH')"
   ]
  },
  {
   "cell_type": "code",
   "execution_count": 12,
   "metadata": {},
   "outputs": [],
   "source": [
    "df_events = fetch_data(cursor, 'SELECT * FROM EVENTS_SPADL')"
   ]
  },
  {
   "cell_type": "code",
   "execution_count": 13,
   "metadata": {},
   "outputs": [],
   "source": [
    "filtered_matches = df_matches[df_matches['SEASON'] == 2223]"
   ]
  },
  {
   "cell_type": "code",
   "execution_count": 14,
   "metadata": {},
   "outputs": [],
   "source": [
    "df_events = df_events.merge(filtered_matches[['MATCH_ID']], on='MATCH_ID')"
   ]
  },
  {
   "cell_type": "code",
   "execution_count": 15,
   "metadata": {},
   "outputs": [],
   "source": [
    "defensive_events = df_events[df_events['TYPE_NAME'].isin(['tackle', 'foul', 'interception','clearance'])]"
   ]
  },
  {
   "cell_type": "code",
   "execution_count": 16,
   "metadata": {},
   "outputs": [],
   "source": [
    "defensive_events = defensive_events[defensive_events['MATCH_ID'].isin(list(filtered_matches.MATCH_ID))]"
   ]
  },
  {
   "cell_type": "code",
   "execution_count": 17,
   "metadata": {},
   "outputs": [],
   "source": [
    "# df_player_match = df_player_match[['PLAYER_WS_ID', 'MATCH_ID', 'PLAYER_FBREF_NAME', 'TEAM_FBREF_ID','STARTING_POSITION_WS']]"
   ]
  },
  {
   "cell_type": "code",
   "execution_count": 19,
   "metadata": {},
   "outputs": [],
   "source": [
    "defensive_events = defensive_events.merge(team_names[['TEAM_NAME', 'TEAM_FBREF_ID']], on='TEAM_FBREF_ID')"
   ]
  },
  {
   "cell_type": "code",
   "execution_count": 20,
   "metadata": {},
   "outputs": [],
   "source": [
    "defensive_events = defensive_events.merge(df_player_match, on=['PLAYER_WS_ID', 'MATCH_ID'])"
   ]
  },
  {
   "cell_type": "code",
   "execution_count": 21,
   "metadata": {},
   "outputs": [],
   "source": [
    "interest_pos = ['DL', 'DC', 'DR']"
   ]
  },
  {
   "cell_type": "code",
   "execution_count": 22,
   "metadata": {},
   "outputs": [],
   "source": [
    "defender_defend_actions = defensive_events[defensive_events['STARTING_POSITION_WS'].isin(interest_pos)]"
   ]
  },
  {
   "cell_type": "code",
   "execution_count": 23,
   "metadata": {},
   "outputs": [],
   "source": [
    "# defender_defend_actions = defender_defend_actions[defender_defend_actions['START_X'] < 70]"
   ]
  },
  {
   "cell_type": "code",
   "execution_count": 24,
   "metadata": {},
   "outputs": [],
   "source": [
    "grouped_def = defender_defend_actions[['TEAM_NAME','START_X']].groupby(['TEAM_NAME']).mean()"
   ]
  },
  {
   "cell_type": "code",
   "execution_count": 24,
   "metadata": {},
   "outputs": [],
   "source": [
    "team_defending = team_defending.merge(team_names[['TEAM_NAME', 'TEAM_FBREF_ID']], on='TEAM_FBREF_ID')"
   ]
  },
  {
   "cell_type": "code",
   "execution_count": 25,
   "metadata": {},
   "outputs": [],
   "source": [
    "grouped_OPPDA = team_defending[['TEAM_NAME','OPP_PPDA']].groupby(['TEAM_NAME']).mean()"
   ]
  },
  {
   "cell_type": "code",
   "execution_count": 26,
   "metadata": {},
   "outputs": [],
   "source": [
    "grouped_def.rename({'START_X':'AVERAGE DEFNSIVE ACTION FROM DEFENDERS (YARDS)'}, axis=1,inplace=True)"
   ]
  },
  {
   "cell_type": "code",
   "execution_count": 27,
   "metadata": {},
   "outputs": [],
   "source": [
    "merged_df = pd.merge(grouped_def, grouped_OPPDA, on='TEAM_NAME')"
   ]
  },
  {
   "cell_type": "code",
   "execution_count": 28,
   "metadata": {},
   "outputs": [],
   "source": [
    "import matplotlib.pyplot as plt"
   ]
  },
  {
   "cell_type": "code",
   "execution_count": 29,
   "metadata": {},
   "outputs": [],
   "source": [
    "merged_df.reset_index(inplace=True)"
   ]
  },
  {
   "cell_type": "code",
   "execution_count": 30,
   "metadata": {},
   "outputs": [
    {
     "data": {
      "image/png": "[encoded data removed]",
      "text/plain": [
       "<Figure size 1000x600 with 1 Axes>"
      ]
     },
     "metadata": {},
     "output_type": "display_data"
    }
   ],
   "source": [
    "plt.figure(figsize=(10, 6))\n",
    "plt.scatter(merged_df['OPP_PPDA'], merged_df['AVERAGE DEFNSIVE ACTION FROM DEFENDERS (YARDS)'])\n",
    "\n",
    "# Label each point\n",
    "for i, team in enumerate(merged_df['TEAM_NAME']):\n",
    "    plt.text(merged_df['OPP_PPDA'][i], merged_df['AVERAGE DEFNSIVE ACTION FROM DEFENDERS (YARDS)'][i], team)\n",
    "\n",
    "plt.xlabel('OPP_PPDA')\n",
    "plt.ylabel('Average Defensive Action (Yards)')\n",
    "plt.title('Comparison of Average Defensive Action and OPP_PPDA')\n",
    "plt.show()"
   ]
  },
  {
   "cell_type": "code",
   "execution_count": null,
   "metadata": {},
   "outputs": [],
   "source": []
  },
  {
   "cell_type": "code",
   "execution_count": 31,
   "metadata": {},
   "outputs": [],
   "source": [
    "set_piece_cross_events = df_events[df_events['TYPE_NAME'].isin(['freekick_crossed', 'corner_crossed'])]"
   ]
  },
  {
   "cell_type": "code",
   "execution_count": 32,
   "metadata": {},
   "outputs": [
    {
     "name": "stderr",
     "output_type": "stream",
     "text": [
      "C:\\Users\\ksbha\\AppData\\Local\\Temp\\ipykernel_8552\\2992158283.py:1: SettingWithCopyWarning: \n",
      "A value is trying to be set on a copy of a slice from a DataFrame.\n",
      "Try using .loc[row_indexer,col_indexer] = value instead\n",
      "\n",
      "See the caveats in the documentation: https://pandas.pydata.org/pandas-docs/stable/user_guide/indexing.html#returning-a-view-versus-a-copy\n",
      "  set_piece_cross_events['OPPO_TEAM_ID'] = \"NaN\"\n"
     ]
    }
   ],
   "source": [
    "set_piece_cross_events['OPPO_TEAM_ID'] = \"NaN\""
   ]
  },
  {
   "cell_type": "code",
   "execution_count": 33,
   "metadata": {},
   "outputs": [
    {
     "data": {
      "text/html": [
       "<div>\n",
       "<style scoped>\n",
       "    .dataframe tbody tr th:only-of-type {\n",
       "        vertical-align: middle;\n",
       "    }\n",
       "\n",
       "    .dataframe tbody tr th {\n",
       "        vertical-align: top;\n",
       "    }\n",
       "\n",
       "    .dataframe thead th {\n",
       "        text-align: right;\n",
       "    }\n",
       "</style>\n",
       "<table border=\"1\" class=\"dataframe\">\n",
       "  <thead>\n",
       "    <tr style=\"text-align: right;\">\n",
       "      <th></th>\n",
       "      <th>MATCH_ID</th>\n",
       "      <th>ORIGINAL_EVENT_ID</th>\n",
       "      <th>PERIOD_ID</th>\n",
       "      <th>TIME_SECONDS</th>\n",
       "      <th>TEAM_FBREF_ID</th>\n",
       "      <th>PLAYER_WS_ID</th>\n",
       "      <th>START_X</th>\n",
       "      <th>END_X</th>\n",
       "      <th>START_Y</th>\n",
       "      <th>END_Y</th>\n",
       "      <th>RESULT_ID</th>\n",
       "      <th>ACTION_ID</th>\n",
       "      <th>TYPE_NAME</th>\n",
       "      <th>BODYPART_NAME</th>\n",
       "      <th>OPPO_TEAM_ID</th>\n",
       "    </tr>\n",
       "  </thead>\n",
       "  <tbody>\n",
       "    <tr>\n",
       "      <th>152</th>\n",
       "      <td>b513d9fe</td>\n",
       "      <td>2.449382e+09</td>\n",
       "      <td>1</td>\n",
       "      <td>740.0</td>\n",
       "      <td>b8fd03ef</td>\n",
       "      <td>331254</td>\n",
       "      <td>72.870</td>\n",
       "      <td>90.930</td>\n",
       "      <td>63.512</td>\n",
       "      <td>39.780</td>\n",
       "      <td>0</td>\n",
       "      <td>201</td>\n",
       "      <td>freekick_crossed</td>\n",
       "      <td>foot_left</td>\n",
       "      <td>NaN</td>\n",
       "    </tr>\n",
       "    <tr>\n",
       "      <th>307</th>\n",
       "      <td>b513d9fe</td>\n",
       "      <td>2.449396e+09</td>\n",
       "      <td>1</td>\n",
       "      <td>2048.0</td>\n",
       "      <td>b8fd03ef</td>\n",
       "      <td>73084</td>\n",
       "      <td>90.195</td>\n",
       "      <td>100.590</td>\n",
       "      <td>56.916</td>\n",
       "      <td>32.504</td>\n",
       "      <td>0</td>\n",
       "      <td>502</td>\n",
       "      <td>freekick_crossed</td>\n",
       "      <td>foot_right</td>\n",
       "      <td>NaN</td>\n",
       "    </tr>\n",
       "    <tr>\n",
       "      <th>472</th>\n",
       "      <td>b513d9fe</td>\n",
       "      <td>2.449408e+09</td>\n",
       "      <td>1</td>\n",
       "      <td>2929.0</td>\n",
       "      <td>b8fd03ef</td>\n",
       "      <td>73084</td>\n",
       "      <td>91.770</td>\n",
       "      <td>97.020</td>\n",
       "      <td>5.984</td>\n",
       "      <td>37.740</td>\n",
       "      <td>1</td>\n",
       "      <td>740</td>\n",
       "      <td>freekick_crossed</td>\n",
       "      <td>foot_right</td>\n",
       "      <td>NaN</td>\n",
       "    </tr>\n",
       "    <tr>\n",
       "      <th>546</th>\n",
       "      <td>b513d9fe</td>\n",
       "      <td>2.449427e+09</td>\n",
       "      <td>2</td>\n",
       "      <td>920.0</td>\n",
       "      <td>b8fd03ef</td>\n",
       "      <td>73084</td>\n",
       "      <td>104.685</td>\n",
       "      <td>96.705</td>\n",
       "      <td>0.272</td>\n",
       "      <td>28.084</td>\n",
       "      <td>1</td>\n",
       "      <td>843</td>\n",
       "      <td>corner_crossed</td>\n",
       "      <td>foot_right</td>\n",
       "      <td>NaN</td>\n",
       "    </tr>\n",
       "    <tr>\n",
       "      <th>588</th>\n",
       "      <td>b513d9fe</td>\n",
       "      <td>2.449430e+09</td>\n",
       "      <td>2</td>\n",
       "      <td>1174.0</td>\n",
       "      <td>b8fd03ef</td>\n",
       "      <td>331254</td>\n",
       "      <td>104.475</td>\n",
       "      <td>96.390</td>\n",
       "      <td>67.660</td>\n",
       "      <td>36.312</td>\n",
       "      <td>1</td>\n",
       "      <td>918</td>\n",
       "      <td>corner_crossed</td>\n",
       "      <td>foot_left</td>\n",
       "      <td>NaN</td>\n",
       "    </tr>\n",
       "    <tr>\n",
       "      <th>...</th>\n",
       "      <td>...</td>\n",
       "      <td>...</td>\n",
       "      <td>...</td>\n",
       "      <td>...</td>\n",
       "      <td>...</td>\n",
       "      <td>...</td>\n",
       "      <td>...</td>\n",
       "      <td>...</td>\n",
       "      <td>...</td>\n",
       "      <td>...</td>\n",
       "      <td>...</td>\n",
       "      <td>...</td>\n",
       "      <td>...</td>\n",
       "      <td>...</td>\n",
       "      <td>...</td>\n",
       "    </tr>\n",
       "    <tr>\n",
       "      <th>567685</th>\n",
       "      <td>a107c037</td>\n",
       "      <td>2.448561e+09</td>\n",
       "      <td>2</td>\n",
       "      <td>1864.0</td>\n",
       "      <td>cd051869</td>\n",
       "      <td>353377</td>\n",
       "      <td>104.475</td>\n",
       "      <td>96.915</td>\n",
       "      <td>0.340</td>\n",
       "      <td>25.228</td>\n",
       "      <td>1</td>\n",
       "      <td>962</td>\n",
       "      <td>corner_crossed</td>\n",
       "      <td>foot_left</td>\n",
       "      <td>NaN</td>\n",
       "    </tr>\n",
       "    <tr>\n",
       "      <th>568571</th>\n",
       "      <td>3dce3a24</td>\n",
       "      <td>2.516658e+09</td>\n",
       "      <td>2</td>\n",
       "      <td>3013.0</td>\n",
       "      <td>fd962109</td>\n",
       "      <td>243254</td>\n",
       "      <td>104.475</td>\n",
       "      <td>101.955</td>\n",
       "      <td>67.660</td>\n",
       "      <td>34.068</td>\n",
       "      <td>0</td>\n",
       "      <td>1199</td>\n",
       "      <td>corner_crossed</td>\n",
       "      <td>foot_right</td>\n",
       "      <td>NaN</td>\n",
       "    </tr>\n",
       "    <tr>\n",
       "      <th>568685</th>\n",
       "      <td>3dce3a24</td>\n",
       "      <td>2.516598e+09</td>\n",
       "      <td>1</td>\n",
       "      <td>328.0</td>\n",
       "      <td>cd051869</td>\n",
       "      <td>339674</td>\n",
       "      <td>104.475</td>\n",
       "      <td>93.870</td>\n",
       "      <td>0.340</td>\n",
       "      <td>38.556</td>\n",
       "      <td>0</td>\n",
       "      <td>75</td>\n",
       "      <td>corner_crossed</td>\n",
       "      <td>foot_right</td>\n",
       "      <td>NaN</td>\n",
       "    </tr>\n",
       "    <tr>\n",
       "      <th>568852</th>\n",
       "      <td>3dce3a24</td>\n",
       "      <td>2.516627e+09</td>\n",
       "      <td>1</td>\n",
       "      <td>2609.0</td>\n",
       "      <td>cd051869</td>\n",
       "      <td>353377</td>\n",
       "      <td>104.475</td>\n",
       "      <td>96.705</td>\n",
       "      <td>0.340</td>\n",
       "      <td>31.688</td>\n",
       "      <td>1</td>\n",
       "      <td>604</td>\n",
       "      <td>corner_crossed</td>\n",
       "      <td>foot_left</td>\n",
       "      <td>NaN</td>\n",
       "    </tr>\n",
       "    <tr>\n",
       "      <th>569063</th>\n",
       "      <td>3dce3a24</td>\n",
       "      <td>2.516656e+09</td>\n",
       "      <td>2</td>\n",
       "      <td>2582.0</td>\n",
       "      <td>cd051869</td>\n",
       "      <td>353377</td>\n",
       "      <td>76.545</td>\n",
       "      <td>91.245</td>\n",
       "      <td>61.812</td>\n",
       "      <td>41.820</td>\n",
       "      <td>1</td>\n",
       "      <td>1114</td>\n",
       "      <td>freekick_crossed</td>\n",
       "      <td>foot_left</td>\n",
       "      <td>NaN</td>\n",
       "    </tr>\n",
       "  </tbody>\n",
       "</table>\n",
       "<p>4133 rows × 15 columns</p>\n",
       "</div>"
      ],
      "text/plain": [
       "        MATCH_ID  ORIGINAL_EVENT_ID  PERIOD_ID  TIME_SECONDS TEAM_FBREF_ID  \\\n",
       "152     b513d9fe       2.449382e+09          1         740.0      b8fd03ef   \n",
       "307     b513d9fe       2.449396e+09          1        2048.0      b8fd03ef   \n",
       "472     b513d9fe       2.449408e+09          1        2929.0      b8fd03ef   \n",
       "546     b513d9fe       2.449427e+09          2         920.0      b8fd03ef   \n",
       "588     b513d9fe       2.449430e+09          2        1174.0      b8fd03ef   \n",
       "...          ...                ...        ...           ...           ...   \n",
       "567685  a107c037       2.448561e+09          2        1864.0      cd051869   \n",
       "568571  3dce3a24       2.516658e+09          2        3013.0      fd962109   \n",
       "568685  3dce3a24       2.516598e+09          1         328.0      cd051869   \n",
       "568852  3dce3a24       2.516627e+09          1        2609.0      cd051869   \n",
       "569063  3dce3a24       2.516656e+09          2        2582.0      cd051869   \n",
       "\n",
       "        PLAYER_WS_ID  START_X    END_X  START_Y   END_Y  RESULT_ID  ACTION_ID  \\\n",
       "152           331254   72.870   90.930   63.512  39.780          0        201   \n",
       "307            73084   90.195  100.590   56.916  32.504          0        502   \n",
       "472            73084   91.770   97.020    5.984  37.740          1        740   \n",
       "546            73084  104.685   96.705    0.272  28.084          1        843   \n",
       "588           331254  104.475   96.390   67.660  36.312          1        918   \n",
       "...              ...      ...      ...      ...     ...        ...        ...   \n",
       "567685        353377  104.475   96.915    0.340  25.228          1        962   \n",
       "568571        243254  104.475  101.955   67.660  34.068          0       1199   \n",
       "568685        339674  104.475   93.870    0.340  38.556          0         75   \n",
       "568852        353377  104.475   96.705    0.340  31.688          1        604   \n",
       "569063        353377   76.545   91.245   61.812  41.820          1       1114   \n",
       "\n",
       "               TYPE_NAME BODYPART_NAME OPPO_TEAM_ID  \n",
       "152     freekick_crossed     foot_left          NaN  \n",
       "307     freekick_crossed    foot_right          NaN  \n",
       "472     freekick_crossed    foot_right          NaN  \n",
       "546       corner_crossed    foot_right          NaN  \n",
       "588       corner_crossed     foot_left          NaN  \n",
       "...                  ...           ...          ...  \n",
       "567685    corner_crossed     foot_left          NaN  \n",
       "568571    corner_crossed    foot_right          NaN  \n",
       "568685    corner_crossed    foot_right          NaN  \n",
       "568852    corner_crossed     foot_left          NaN  \n",
       "569063  freekick_crossed     foot_left          NaN  \n",
       "\n",
       "[4133 rows x 15 columns]"
      ]
     },
     "execution_count": 33,
     "metadata": {},
     "output_type": "execute_result"
    }
   ],
   "source": [
    "set_piece_cross_events"
   ]
  },
  {
   "cell_type": "code",
   "execution_count": 34,
   "metadata": {},
   "outputs": [],
   "source": [
    "def swap_team_id(row, home_id, away_id):\n",
    "    if row['TEAM_FBREF_ID'] == home_id:\n",
    "        return away_id\n",
    "    elif row['TEAM_FBREF_ID'] == away_id:\n",
    "        return home_id\n",
    "    else:\n",
    "        return \"PROBLEM\""
   ]
  },
  {
   "cell_type": "code",
   "execution_count": 35,
   "metadata": {},
   "outputs": [],
   "source": [
    "for index, row in filtered_matches.iterrows():\n",
    "    home_team_id = row['HOME_TEAM_ID']\n",
    "    away_team_id = row['AWAY_TEAM_ID']\n",
    "    \n",
    "    inds_to_replace = set_piece_cross_events[set_piece_cross_events['MATCH_ID'] == row['MATCH_ID']].index\n",
    "    set_piece_cross_events.loc[inds_to_replace, 'OPPO_TEAM_ID'] = set_piece_cross_events.loc[inds_to_replace].apply(swap_team_id, axis=1, args=(home_team_id, away_team_id))"
   ]
  },
  {
   "cell_type": "code",
   "execution_count": 36,
   "metadata": {},
   "outputs": [],
   "source": [
    "team_names_2 = team_names[['TEAM_NAME', 'TEAM_FBREF_ID']].copy()"
   ]
  },
  {
   "cell_type": "code",
   "execution_count": 37,
   "metadata": {},
   "outputs": [],
   "source": [
    "team_names_2.rename({'TEAM_FBREF_ID':'OPPO_TEAM_ID'}, axis=1, inplace=True)"
   ]
  },
  {
   "cell_type": "code",
   "execution_count": 38,
   "metadata": {},
   "outputs": [],
   "source": [
    "set_piece_cross_events = set_piece_cross_events.merge(team_names_2, on=\"OPPO_TEAM_ID\")"
   ]
  },
  {
   "cell_type": "code",
   "execution_count": 39,
   "metadata": {},
   "outputs": [],
   "source": [
    "set_piece_cross_events_grouped = set_piece_cross_events[['TEAM_NAME', 'MATCH_ID']].groupby(['TEAM_NAME']).count()"
   ]
  },
  {
   "cell_type": "code",
   "execution_count": 40,
   "metadata": {},
   "outputs": [],
   "source": [
    "team_standard = fetch_data(cursor, 'SELECT * FROM TEAM_STANDARD_STATS')"
   ]
  },
  {
   "cell_type": "code",
   "execution_count": 41,
   "metadata": {},
   "outputs": [],
   "source": [
    "team_standard = team_standard[team_standard['SEASON'] == 2223]"
   ]
  },
  {
   "cell_type": "code",
   "execution_count": 42,
   "metadata": {},
   "outputs": [],
   "source": [
    "team_standard = team_standard[['TEAM_FBREF_ID', 'MATCHES_PLAYED']].merge(team_names[['TEAM_NAME','TEAM_FBREF_ID']], on='TEAM_FBREF_ID')"
   ]
  },
  {
   "cell_type": "code",
   "execution_count": 43,
   "metadata": {},
   "outputs": [],
   "source": [
    "set_piece_cross_events_grouped.rename({'MATCH_ID':'OPPO CROSSES FROM SET PIECES'}, axis=1, inplace=True)"
   ]
  },
  {
   "cell_type": "code",
   "execution_count": 44,
   "metadata": {},
   "outputs": [],
   "source": [
    "set_piece_cross_events_grouped = set_piece_cross_events_grouped.merge(team_standard[['TEAM_NAME', 'MATCHES_PLAYED']], on='TEAM_NAME')"
   ]
  },
  {
   "cell_type": "code",
   "execution_count": 45,
   "metadata": {},
   "outputs": [],
   "source": [
    "set_piece_cross_events_grouped['OPPO CROSSES FROM SET PIECES PER GAME'] = set_piece_cross_events_grouped['OPPO CROSSES FROM SET PIECES'] / \\\n",
    "                                                                        set_piece_cross_events_grouped['MATCHES_PLAYED']"
   ]
  },
  {
   "cell_type": "code",
   "execution_count": 46,
   "metadata": {},
   "outputs": [
    {
     "data": {
      "text/html": [
       "<div>\n",
       "<style scoped>\n",
       "    .dataframe tbody tr th:only-of-type {\n",
       "        vertical-align: middle;\n",
       "    }\n",
       "\n",
       "    .dataframe tbody tr th {\n",
       "        vertical-align: top;\n",
       "    }\n",
       "\n",
       "    .dataframe thead th {\n",
       "        text-align: right;\n",
       "    }\n",
       "</style>\n",
       "<table border=\"1\" class=\"dataframe\">\n",
       "  <thead>\n",
       "    <tr style=\"text-align: right;\">\n",
       "      <th></th>\n",
       "      <th>TEAM_NAME</th>\n",
       "      <th>OPPO CROSSES FROM SET PIECES</th>\n",
       "      <th>MATCHES_PLAYED</th>\n",
       "      <th>OPPO CROSSES FROM SET PIECES PER GAME</th>\n",
       "    </tr>\n",
       "  </thead>\n",
       "  <tbody>\n",
       "    <tr>\n",
       "      <th>0</th>\n",
       "      <td>Arsenal</td>\n",
       "      <td>175</td>\n",
       "      <td>38</td>\n",
       "      <td>4.605263</td>\n",
       "    </tr>\n",
       "    <tr>\n",
       "      <th>1</th>\n",
       "      <td>Aston Villa</td>\n",
       "      <td>235</td>\n",
       "      <td>38</td>\n",
       "      <td>6.184211</td>\n",
       "    </tr>\n",
       "    <tr>\n",
       "      <th>2</th>\n",
       "      <td>Bournemouth</td>\n",
       "      <td>265</td>\n",
       "      <td>38</td>\n",
       "      <td>6.973684</td>\n",
       "    </tr>\n",
       "    <tr>\n",
       "      <th>3</th>\n",
       "      <td>Brentford</td>\n",
       "      <td>214</td>\n",
       "      <td>38</td>\n",
       "      <td>5.631579</td>\n",
       "    </tr>\n",
       "    <tr>\n",
       "      <th>4</th>\n",
       "      <td>Brighton</td>\n",
       "      <td>158</td>\n",
       "      <td>38</td>\n",
       "      <td>4.157895</td>\n",
       "    </tr>\n",
       "    <tr>\n",
       "      <th>5</th>\n",
       "      <td>Chelsea</td>\n",
       "      <td>197</td>\n",
       "      <td>38</td>\n",
       "      <td>5.184211</td>\n",
       "    </tr>\n",
       "    <tr>\n",
       "      <th>6</th>\n",
       "      <td>Crystal Palace</td>\n",
       "      <td>205</td>\n",
       "      <td>38</td>\n",
       "      <td>5.394737</td>\n",
       "    </tr>\n",
       "    <tr>\n",
       "      <th>7</th>\n",
       "      <td>Everton</td>\n",
       "      <td>209</td>\n",
       "      <td>38</td>\n",
       "      <td>5.500000</td>\n",
       "    </tr>\n",
       "    <tr>\n",
       "      <th>8</th>\n",
       "      <td>Fulham</td>\n",
       "      <td>210</td>\n",
       "      <td>38</td>\n",
       "      <td>5.526316</td>\n",
       "    </tr>\n",
       "    <tr>\n",
       "      <th>9</th>\n",
       "      <td>Leeds United</td>\n",
       "      <td>220</td>\n",
       "      <td>38</td>\n",
       "      <td>5.789474</td>\n",
       "    </tr>\n",
       "    <tr>\n",
       "      <th>10</th>\n",
       "      <td>Leicester City</td>\n",
       "      <td>245</td>\n",
       "      <td>38</td>\n",
       "      <td>6.447368</td>\n",
       "    </tr>\n",
       "    <tr>\n",
       "      <th>11</th>\n",
       "      <td>Liverpool</td>\n",
       "      <td>166</td>\n",
       "      <td>38</td>\n",
       "      <td>4.368421</td>\n",
       "    </tr>\n",
       "    <tr>\n",
       "      <th>12</th>\n",
       "      <td>Manchester City</td>\n",
       "      <td>110</td>\n",
       "      <td>38</td>\n",
       "      <td>2.894737</td>\n",
       "    </tr>\n",
       "    <tr>\n",
       "      <th>13</th>\n",
       "      <td>Manchester Utd</td>\n",
       "      <td>224</td>\n",
       "      <td>38</td>\n",
       "      <td>5.894737</td>\n",
       "    </tr>\n",
       "    <tr>\n",
       "      <th>14</th>\n",
       "      <td>Newcastle Utd</td>\n",
       "      <td>174</td>\n",
       "      <td>38</td>\n",
       "      <td>4.578947</td>\n",
       "    </tr>\n",
       "    <tr>\n",
       "      <th>15</th>\n",
       "      <td>Nott'ham Forest</td>\n",
       "      <td>273</td>\n",
       "      <td>38</td>\n",
       "      <td>7.184211</td>\n",
       "    </tr>\n",
       "    <tr>\n",
       "      <th>16</th>\n",
       "      <td>Southampton</td>\n",
       "      <td>206</td>\n",
       "      <td>38</td>\n",
       "      <td>5.421053</td>\n",
       "    </tr>\n",
       "    <tr>\n",
       "      <th>17</th>\n",
       "      <td>Tottenham</td>\n",
       "      <td>205</td>\n",
       "      <td>38</td>\n",
       "      <td>5.394737</td>\n",
       "    </tr>\n",
       "    <tr>\n",
       "      <th>18</th>\n",
       "      <td>West Ham</td>\n",
       "      <td>209</td>\n",
       "      <td>38</td>\n",
       "      <td>5.500000</td>\n",
       "    </tr>\n",
       "    <tr>\n",
       "      <th>19</th>\n",
       "      <td>Wolves</td>\n",
       "      <td>233</td>\n",
       "      <td>38</td>\n",
       "      <td>6.131579</td>\n",
       "    </tr>\n",
       "  </tbody>\n",
       "</table>\n",
       "</div>"
      ],
      "text/plain": [
       "          TEAM_NAME  OPPO CROSSES FROM SET PIECES  MATCHES_PLAYED  \\\n",
       "0           Arsenal                           175              38   \n",
       "1       Aston Villa                           235              38   \n",
       "2       Bournemouth                           265              38   \n",
       "3         Brentford                           214              38   \n",
       "4          Brighton                           158              38   \n",
       "5           Chelsea                           197              38   \n",
       "6    Crystal Palace                           205              38   \n",
       "7           Everton                           209              38   \n",
       "8            Fulham                           210              38   \n",
       "9      Leeds United                           220              38   \n",
       "10   Leicester City                           245              38   \n",
       "11        Liverpool                           166              38   \n",
       "12  Manchester City                           110              38   \n",
       "13   Manchester Utd                           224              38   \n",
       "14    Newcastle Utd                           174              38   \n",
       "15  Nott'ham Forest                           273              38   \n",
       "16      Southampton                           206              38   \n",
       "17        Tottenham                           205              38   \n",
       "18         West Ham                           209              38   \n",
       "19           Wolves                           233              38   \n",
       "\n",
       "    OPPO CROSSES FROM SET PIECES PER GAME  \n",
       "0                                4.605263  \n",
       "1                                6.184211  \n",
       "2                                6.973684  \n",
       "3                                5.631579  \n",
       "4                                4.157895  \n",
       "5                                5.184211  \n",
       "6                                5.394737  \n",
       "7                                5.500000  \n",
       "8                                5.526316  \n",
       "9                                5.789474  \n",
       "10                               6.447368  \n",
       "11                               4.368421  \n",
       "12                               2.894737  \n",
       "13                               5.894737  \n",
       "14                               4.578947  \n",
       "15                               7.184211  \n",
       "16                               5.421053  \n",
       "17                               5.394737  \n",
       "18                               5.500000  \n",
       "19                               6.131579  "
      ]
     },
     "execution_count": 46,
     "metadata": {},
     "output_type": "execute_result"
    }
   ],
   "source": [
    "set_piece_cross_events_grouped"
   ]
  },
  {
   "cell_type": "markdown",
   "metadata": {},
   "source": [
    "Now let's get the Y-axis for shots"
   ]
  },
  {
   "cell_type": "code",
   "execution_count": 47,
   "metadata": {},
   "outputs": [],
   "source": [
    "df_shots = fetch_data(cursor, 'SELECT * FROM SHOT_EVENTS')"
   ]
  },
  {
   "cell_type": "code",
   "execution_count": 48,
   "metadata": {},
   "outputs": [
    {
     "data": {
      "text/plain": [
       "SCA_1_PLAYER_FBREF_EVENT\n",
       "Pass (Live)     16302\n",
       "Pass (Dead)      2770\n",
       "Shot             1813\n",
       "Take-On          1344\n",
       "Fouled           1303\n",
       "Tackle            176\n",
       "Interception       65\n",
       "nan                 6\n",
       "Name: count, dtype: int64"
      ]
     },
     "execution_count": 48,
     "metadata": {},
     "output_type": "execute_result"
    }
   ],
   "source": [
    "df_shots['SCA_1_PLAYER_FBREF_EVENT'].value_counts()"
   ]
  },
  {
   "cell_type": "code",
   "execution_count": 49,
   "metadata": {},
   "outputs": [
    {
     "data": {
      "text/plain": [
       "SCA_2_PLAYER_FBREF_EVENT\n",
       "Pass (Live)     15271\n",
       "Take-On          1149\n",
       "Shot             1066\n",
       "Pass (Dead)       935\n",
       "Fouled            882\n",
       "Tackle            265\n",
       "Interception      203\n",
       "nan                 6\n",
       "Name: count, dtype: int64"
      ]
     },
     "execution_count": 49,
     "metadata": {},
     "output_type": "execute_result"
    }
   ],
   "source": [
    "df_shots['SCA_2_PLAYER_FBREF_EVENT'].value_counts()"
   ]
  },
  {
   "cell_type": "code",
   "execution_count": 50,
   "metadata": {},
   "outputs": [],
   "source": [
    "inds1 = df_shots[df_shots['SCA_1_PLAYER_FBREF_EVENT'].isin(['Pass (Dead)'])].index"
   ]
  },
  {
   "cell_type": "code",
   "execution_count": 51,
   "metadata": {},
   "outputs": [],
   "source": [
    "inds2 = df_shots[df_shots['SCA_2_PLAYER_FBREF_EVENT'].isin(['Pass (Dead)'])].index"
   ]
  },
  {
   "cell_type": "code",
   "execution_count": 52,
   "metadata": {},
   "outputs": [],
   "source": [
    "## Below, all come from a dead-ball situation\n",
    "inds_union = np.union1d(inds1, inds2)"
   ]
  },
  {
   "cell_type": "code",
   "execution_count": 53,
   "metadata": {},
   "outputs": [],
   "source": [
    "df_shots_set_piece = df_shots.loc[inds_union]"
   ]
  },
  {
   "cell_type": "code",
   "execution_count": 54,
   "metadata": {},
   "outputs": [],
   "source": [
    "df_shots_set_piece = df_events[['MATCH_ID','ACTION_ID','TEAM_FBREF_ID']].merge(df_shots_set_piece, on=['MATCH_ID', 'ACTION_ID'])"
   ]
  },
  {
   "cell_type": "code",
   "execution_count": 55,
   "metadata": {},
   "outputs": [
    {
     "data": {
      "text/html": [
       "<div>\n",
       "<style scoped>\n",
       "    .dataframe tbody tr th:only-of-type {\n",
       "        vertical-align: middle;\n",
       "    }\n",
       "\n",
       "    .dataframe tbody tr th {\n",
       "        vertical-align: top;\n",
       "    }\n",
       "\n",
       "    .dataframe thead th {\n",
       "        text-align: right;\n",
       "    }\n",
       "</style>\n",
       "<table border=\"1\" class=\"dataframe\">\n",
       "  <thead>\n",
       "    <tr style=\"text-align: right;\">\n",
       "      <th></th>\n",
       "      <th>MATCH_ID</th>\n",
       "      <th>ACTION_ID</th>\n",
       "      <th>TEAM_FBREF_ID_x</th>\n",
       "      <th>TEAM_FBREF_ID_y</th>\n",
       "      <th>XG</th>\n",
       "      <th>PSXG</th>\n",
       "      <th>OUTCOME</th>\n",
       "      <th>DISTANCE</th>\n",
       "      <th>BODY_PART</th>\n",
       "      <th>NOTES</th>\n",
       "      <th>SCA_1_PLAYER_WS_ID</th>\n",
       "      <th>SCA_1_PLAYER_FBREF_EVENT</th>\n",
       "      <th>SCA_2_PLAYER_WS_ID</th>\n",
       "      <th>SCA_2_PLAYER_FBREF_EVENT</th>\n",
       "    </tr>\n",
       "  </thead>\n",
       "  <tbody>\n",
       "    <tr>\n",
       "      <th>0</th>\n",
       "      <td>b513d9fe</td>\n",
       "      <td>741</td>\n",
       "      <td>b8fd03ef</td>\n",
       "      <td>b8fd03ef</td>\n",
       "      <td>0.17</td>\n",
       "      <td>NaN</td>\n",
       "      <td>Off Target</td>\n",
       "      <td>9</td>\n",
       "      <td>Head</td>\n",
       "      <td>None</td>\n",
       "      <td>73084.0</td>\n",
       "      <td>Pass (Dead)</td>\n",
       "      <td>136741.0</td>\n",
       "      <td>Fouled</td>\n",
       "    </tr>\n",
       "    <tr>\n",
       "      <th>1</th>\n",
       "      <td>b513d9fe</td>\n",
       "      <td>919</td>\n",
       "      <td>b8fd03ef</td>\n",
       "      <td>b8fd03ef</td>\n",
       "      <td>0.11</td>\n",
       "      <td>0.03</td>\n",
       "      <td>Saved</td>\n",
       "      <td>9</td>\n",
       "      <td>Head</td>\n",
       "      <td>None</td>\n",
       "      <td>331254.0</td>\n",
       "      <td>Pass (Dead)</td>\n",
       "      <td>128967.0</td>\n",
       "      <td>Pass (Live)</td>\n",
       "    </tr>\n",
       "    <tr>\n",
       "      <th>2</th>\n",
       "      <td>b513d9fe</td>\n",
       "      <td>429</td>\n",
       "      <td>b2b47a98</td>\n",
       "      <td>b2b47a98</td>\n",
       "      <td>0.47</td>\n",
       "      <td>0.23</td>\n",
       "      <td>Saved</td>\n",
       "      <td>6</td>\n",
       "      <td>Left Foot</td>\n",
       "      <td>Volley</td>\n",
       "      <td>379732.0</td>\n",
       "      <td>Pass (Live)</td>\n",
       "      <td>83078.0</td>\n",
       "      <td>Pass (Dead)</td>\n",
       "    </tr>\n",
       "    <tr>\n",
       "      <th>3</th>\n",
       "      <td>b513d9fe</td>\n",
       "      <td>1228</td>\n",
       "      <td>b2b47a98</td>\n",
       "      <td>b2b47a98</td>\n",
       "      <td>0.03</td>\n",
       "      <td>NaN</td>\n",
       "      <td>Off Target</td>\n",
       "      <td>13</td>\n",
       "      <td>Left Foot</td>\n",
       "      <td>Volley</td>\n",
       "      <td>82277.0</td>\n",
       "      <td>Pass (Live)</td>\n",
       "      <td>83078.0</td>\n",
       "      <td>Pass (Dead)</td>\n",
       "    </tr>\n",
       "    <tr>\n",
       "      <th>4</th>\n",
       "      <td>18fcd595</td>\n",
       "      <td>70</td>\n",
       "      <td>b8fd03ef</td>\n",
       "      <td>b8fd03ef</td>\n",
       "      <td>0.07</td>\n",
       "      <td>0.16</td>\n",
       "      <td>Goal</td>\n",
       "      <td>6</td>\n",
       "      <td>Head</td>\n",
       "      <td>None</td>\n",
       "      <td>104749.0</td>\n",
       "      <td>Pass (Dead)</td>\n",
       "      <td>313171.0</td>\n",
       "      <td>Pass (Live)</td>\n",
       "    </tr>\n",
       "    <tr>\n",
       "      <th>...</th>\n",
       "      <td>...</td>\n",
       "      <td>...</td>\n",
       "      <td>...</td>\n",
       "      <td>...</td>\n",
       "      <td>...</td>\n",
       "      <td>...</td>\n",
       "      <td>...</td>\n",
       "      <td>...</td>\n",
       "      <td>...</td>\n",
       "      <td>...</td>\n",
       "      <td>...</td>\n",
       "      <td>...</td>\n",
       "      <td>...</td>\n",
       "      <td>...</td>\n",
       "    </tr>\n",
       "    <tr>\n",
       "      <th>1438</th>\n",
       "      <td>a107c037</td>\n",
       "      <td>908</td>\n",
       "      <td>cd051869</td>\n",
       "      <td>cd051869</td>\n",
       "      <td>0.17</td>\n",
       "      <td>NaN</td>\n",
       "      <td>Off Target</td>\n",
       "      <td>4</td>\n",
       "      <td>Head</td>\n",
       "      <td>None</td>\n",
       "      <td>353377.0</td>\n",
       "      <td>Pass (Dead)</td>\n",
       "      <td>353377.0</td>\n",
       "      <td>Pass (Live)</td>\n",
       "    </tr>\n",
       "    <tr>\n",
       "      <th>1439</th>\n",
       "      <td>a107c037</td>\n",
       "      <td>963</td>\n",
       "      <td>cd051869</td>\n",
       "      <td>cd051869</td>\n",
       "      <td>0.01</td>\n",
       "      <td>NaN</td>\n",
       "      <td>Off Target</td>\n",
       "      <td>10</td>\n",
       "      <td>Head</td>\n",
       "      <td>None</td>\n",
       "      <td>353377.0</td>\n",
       "      <td>Pass (Dead)</td>\n",
       "      <td>94935.0</td>\n",
       "      <td>Pass (Live)</td>\n",
       "    </tr>\n",
       "    <tr>\n",
       "      <th>1440</th>\n",
       "      <td>3dce3a24</td>\n",
       "      <td>39</td>\n",
       "      <td>cd051869</td>\n",
       "      <td>cd051869</td>\n",
       "      <td>0.38</td>\n",
       "      <td>NaN</td>\n",
       "      <td>Off Target</td>\n",
       "      <td>4</td>\n",
       "      <td>Right Foot</td>\n",
       "      <td>None</td>\n",
       "      <td>229562.0</td>\n",
       "      <td>Pass (Live)</td>\n",
       "      <td>339674.0</td>\n",
       "      <td>Pass (Dead)</td>\n",
       "    </tr>\n",
       "    <tr>\n",
       "      <th>1441</th>\n",
       "      <td>3dce3a24</td>\n",
       "      <td>605</td>\n",
       "      <td>cd051869</td>\n",
       "      <td>cd051869</td>\n",
       "      <td>0.10</td>\n",
       "      <td>NaN</td>\n",
       "      <td>Off Target</td>\n",
       "      <td>9</td>\n",
       "      <td>Head</td>\n",
       "      <td>None</td>\n",
       "      <td>353377.0</td>\n",
       "      <td>Pass (Dead)</td>\n",
       "      <td>339674.0</td>\n",
       "      <td>Pass (Dead)</td>\n",
       "    </tr>\n",
       "    <tr>\n",
       "      <th>1442</th>\n",
       "      <td>3dce3a24</td>\n",
       "      <td>1115</td>\n",
       "      <td>cd051869</td>\n",
       "      <td>cd051869</td>\n",
       "      <td>0.04</td>\n",
       "      <td>NaN</td>\n",
       "      <td>Blocked</td>\n",
       "      <td>14</td>\n",
       "      <td>Left Foot</td>\n",
       "      <td>Volley</td>\n",
       "      <td>353377.0</td>\n",
       "      <td>Pass (Dead)</td>\n",
       "      <td>229562.0</td>\n",
       "      <td>Fouled</td>\n",
       "    </tr>\n",
       "  </tbody>\n",
       "</table>\n",
       "<p>1443 rows × 14 columns</p>\n",
       "</div>"
      ],
      "text/plain": [
       "      MATCH_ID  ACTION_ID TEAM_FBREF_ID_x TEAM_FBREF_ID_y    XG  PSXG  \\\n",
       "0     b513d9fe        741        b8fd03ef        b8fd03ef  0.17   NaN   \n",
       "1     b513d9fe        919        b8fd03ef        b8fd03ef  0.11  0.03   \n",
       "2     b513d9fe        429        b2b47a98        b2b47a98  0.47  0.23   \n",
       "3     b513d9fe       1228        b2b47a98        b2b47a98  0.03   NaN   \n",
       "4     18fcd595         70        b8fd03ef        b8fd03ef  0.07  0.16   \n",
       "...        ...        ...             ...             ...   ...   ...   \n",
       "1438  a107c037        908        cd051869        cd051869  0.17   NaN   \n",
       "1439  a107c037        963        cd051869        cd051869  0.01   NaN   \n",
       "1440  3dce3a24         39        cd051869        cd051869  0.38   NaN   \n",
       "1441  3dce3a24        605        cd051869        cd051869  0.10   NaN   \n",
       "1442  3dce3a24       1115        cd051869        cd051869  0.04   NaN   \n",
       "\n",
       "         OUTCOME  DISTANCE   BODY_PART   NOTES  SCA_1_PLAYER_WS_ID  \\\n",
       "0     Off Target         9        Head    None             73084.0   \n",
       "1          Saved         9        Head    None            331254.0   \n",
       "2          Saved         6   Left Foot  Volley            379732.0   \n",
       "3     Off Target        13   Left Foot  Volley             82277.0   \n",
       "4           Goal         6        Head    None            104749.0   \n",
       "...          ...       ...         ...     ...                 ...   \n",
       "1438  Off Target         4        Head    None            353377.0   \n",
       "1439  Off Target        10        Head    None            353377.0   \n",
       "1440  Off Target         4  Right Foot    None            229562.0   \n",
       "1441  Off Target         9        Head    None            353377.0   \n",
       "1442     Blocked        14   Left Foot  Volley            353377.0   \n",
       "\n",
       "     SCA_1_PLAYER_FBREF_EVENT  SCA_2_PLAYER_WS_ID SCA_2_PLAYER_FBREF_EVENT  \n",
       "0                 Pass (Dead)            136741.0                   Fouled  \n",
       "1                 Pass (Dead)            128967.0              Pass (Live)  \n",
       "2                 Pass (Live)             83078.0              Pass (Dead)  \n",
       "3                 Pass (Live)             83078.0              Pass (Dead)  \n",
       "4                 Pass (Dead)            313171.0              Pass (Live)  \n",
       "...                       ...                 ...                      ...  \n",
       "1438              Pass (Dead)            353377.0              Pass (Live)  \n",
       "1439              Pass (Dead)             94935.0              Pass (Live)  \n",
       "1440              Pass (Live)            339674.0              Pass (Dead)  \n",
       "1441              Pass (Dead)            339674.0              Pass (Dead)  \n",
       "1442              Pass (Dead)            229562.0                   Fouled  \n",
       "\n",
       "[1443 rows x 14 columns]"
      ]
     },
     "execution_count": 55,
     "metadata": {},
     "output_type": "execute_result"
    }
   ],
   "source": [
    "df_events[['MATCH_ID','ACTION_ID','TEAM_FBREF_ID']].merge(df_shots_set_piece, on=['MATCH_ID', 'ACTION_ID'], how='inner')"
   ]
  },
  {
   "cell_type": "code",
   "execution_count": null,
   "metadata": {},
   "outputs": [],
   "source": []
  },
  {
   "cell_type": "code",
   "execution_count": null,
   "metadata": {},
   "outputs": [],
   "source": []
  },
  {
   "cell_type": "code",
   "execution_count": 56,
   "metadata": {},
   "outputs": [],
   "source": [
    "df_shots_set_piece['OPPO_TEAM_ID'] = \"NaN\""
   ]
  },
  {
   "cell_type": "code",
   "execution_count": 57,
   "metadata": {},
   "outputs": [],
   "source": [
    "for index, row in filtered_matches.iterrows():\n",
    "    home_team_id = row['HOME_TEAM_ID']\n",
    "    away_team_id = row['AWAY_TEAM_ID']\n",
    "    \n",
    "    inds_to_replace = df_shots_set_piece[df_shots_set_piece['MATCH_ID'] == row['MATCH_ID']].index\n",
    "    df_shots_set_piece.loc[inds_to_replace, 'OPPO_TEAM_ID'] = df_shots_set_piece.loc[inds_to_replace].apply(swap_team_id, axis=1, args=(home_team_id, away_team_id))"
   ]
  },
  {
   "cell_type": "code",
   "execution_count": 58,
   "metadata": {},
   "outputs": [],
   "source": [
    "df_shots_set_piece = df_shots_set_piece.merge(team_names_2, on=\"OPPO_TEAM_ID\")"
   ]
  },
  {
   "cell_type": "code",
   "execution_count": 59,
   "metadata": {},
   "outputs": [],
   "source": [
    "df_shots_set_piece_xG_group = df_shots_set_piece[['TEAM_NAME', 'XG']].groupby(['TEAM_NAME']).sum()"
   ]
  },
  {
   "cell_type": "code",
   "execution_count": 60,
   "metadata": {},
   "outputs": [],
   "source": [
    "df_shots_set_piece_xG_group = df_shots_set_piece_xG_group.merge(team_standard[['TEAM_NAME', 'MATCHES_PLAYED']], on='TEAM_NAME')"
   ]
  },
  {
   "cell_type": "code",
   "execution_count": 61,
   "metadata": {},
   "outputs": [],
   "source": [
    "df_shots_set_piece_xG_group['OPPO XG FROM SET PIECES PER GAME'] = df_shots_set_piece_xG_group['XG'] / \\\n",
    "                                                                        df_shots_set_piece_xG_group['MATCHES_PLAYED']"
   ]
  },
  {
   "cell_type": "code",
   "execution_count": 62,
   "metadata": {},
   "outputs": [],
   "source": [
    "df_merged_2 = set_piece_cross_events_grouped[['TEAM_NAME', 'OPPO CROSSES FROM SET PIECES PER GAME']].merge(\n",
    "    df_shots_set_piece_xG_group[['TEAM_NAME', 'OPPO XG FROM SET PIECES PER GAME']], on='TEAM_NAME'\n",
    ")"
   ]
  },
  {
   "cell_type": "code",
   "execution_count": 63,
   "metadata": {},
   "outputs": [
    {
     "data": {
      "text/html": [
       "<div>\n",
       "<style scoped>\n",
       "    .dataframe tbody tr th:only-of-type {\n",
       "        vertical-align: middle;\n",
       "    }\n",
       "\n",
       "    .dataframe tbody tr th {\n",
       "        vertical-align: top;\n",
       "    }\n",
       "\n",
       "    .dataframe thead th {\n",
       "        text-align: right;\n",
       "    }\n",
       "</style>\n",
       "<table border=\"1\" class=\"dataframe\">\n",
       "  <thead>\n",
       "    <tr style=\"text-align: right;\">\n",
       "      <th></th>\n",
       "      <th>TEAM_NAME</th>\n",
       "      <th>OPPO CROSSES FROM SET PIECES PER GAME</th>\n",
       "      <th>OPPO XG FROM SET PIECES PER GAME</th>\n",
       "    </tr>\n",
       "  </thead>\n",
       "  <tbody>\n",
       "    <tr>\n",
       "      <th>0</th>\n",
       "      <td>Arsenal</td>\n",
       "      <td>4.605263</td>\n",
       "      <td>0.169737</td>\n",
       "    </tr>\n",
       "    <tr>\n",
       "      <th>1</th>\n",
       "      <td>Aston Villa</td>\n",
       "      <td>6.184211</td>\n",
       "      <td>0.191579</td>\n",
       "    </tr>\n",
       "    <tr>\n",
       "      <th>2</th>\n",
       "      <td>Bournemouth</td>\n",
       "      <td>6.973684</td>\n",
       "      <td>0.268158</td>\n",
       "    </tr>\n",
       "    <tr>\n",
       "      <th>3</th>\n",
       "      <td>Brentford</td>\n",
       "      <td>5.631579</td>\n",
       "      <td>0.127632</td>\n",
       "    </tr>\n",
       "    <tr>\n",
       "      <th>4</th>\n",
       "      <td>Brighton</td>\n",
       "      <td>4.157895</td>\n",
       "      <td>0.144474</td>\n",
       "    </tr>\n",
       "  </tbody>\n",
       "</table>\n",
       "</div>"
      ],
      "text/plain": [
       "     TEAM_NAME  OPPO CROSSES FROM SET PIECES PER GAME  \\\n",
       "0      Arsenal                               4.605263   \n",
       "1  Aston Villa                               6.184211   \n",
       "2  Bournemouth                               6.973684   \n",
       "3    Brentford                               5.631579   \n",
       "4     Brighton                               4.157895   \n",
       "\n",
       "   OPPO XG FROM SET PIECES PER GAME  \n",
       "0                          0.169737  \n",
       "1                          0.191579  \n",
       "2                          0.268158  \n",
       "3                          0.127632  \n",
       "4                          0.144474  "
      ]
     },
     "execution_count": 63,
     "metadata": {},
     "output_type": "execute_result"
    }
   ],
   "source": [
    "df_merged_2.head()"
   ]
  },
  {
   "cell_type": "code",
   "execution_count": 64,
   "metadata": {},
   "outputs": [
    {
     "data": {
      "image/png": "[encoded data removed]",
      "text/plain": [
       "<Figure size 1000x600 with 1 Axes>"
      ]
     },
     "metadata": {},
     "output_type": "display_data"
    }
   ],
   "source": [
    "plt.figure(figsize=(10, 6))\n",
    "plt.scatter(df_merged_2['OPPO CROSSES FROM SET PIECES PER GAME'], df_merged_2['OPPO XG FROM SET PIECES PER GAME'])\n",
    "\n",
    "# Label each point\n",
    "for i, team in enumerate(df_merged_2['TEAM_NAME']):\n",
    "    plt.text(df_merged_2['OPPO CROSSES FROM SET PIECES PER GAME'][i], df_merged_2['OPPO XG FROM SET PIECES PER GAME'][i], team)\n",
    "\n",
    "plt.xlabel('OPPO CROSSES FROM SET PIECES PER GAME')\n",
    "plt.ylabel('OPPO XG FROM SET PIECES PER GAME')\n",
    "plt.show()"
   ]
  },
  {
   "cell_type": "markdown",
   "metadata": {},
   "source": [
    "## Now we make the plots for Defensive actions at various zones"
   ]
  },
  {
   "cell_type": "code",
   "execution_count": 66,
   "metadata": {},
   "outputs": [],
   "source": [
    "import pandas as pd\n",
    "\n",
    "\n",
    "# Define the section boundaries\n",
    "section_boundaries = [0, 17.5, 35, 52.5, 70, 87.5, 105]\n",
    "\n",
    "# Split the \"START_X\" values into sections\n",
    "defensive_events['Def_Action_Section'] = pd.cut(defensive_events['START_X'], bins=section_boundaries)\n",
    "\n",
    "# Count the number of rows in each section\n",
    "# section_counts = defensive_events['Def_Action_Section'].value_counts().sort_index()\n",
    "\n",
    "# section_counts\n"
   ]
  },
  {
   "cell_type": "code",
   "execution_count": 67,
   "metadata": {},
   "outputs": [],
   "source": [
    "defensive_events = defensive_events[defensive_events['TEAM_NAME'] == 'Arsenal']"
   ]
  },
  {
   "cell_type": "code",
   "execution_count": 217,
   "metadata": {},
   "outputs": [
    {
     "data": {
      "text/plain": [
       "Def_Action_Section\n",
       "(0.0, 17.5]      704\n",
       "(17.5, 35.0]     353\n",
       "(35.0, 52.5]     286\n",
       "(52.5, 70.0]     322\n",
       "(70.0, 87.5]     263\n",
       "(87.5, 105.0]    125\n",
       "Name: count, dtype: int64"
      ]
     },
     "execution_count": 217,
     "metadata": {},
     "output_type": "execute_result"
    }
   ],
   "source": [
    "section_counts = defensive_events['Def_Action_Section'].value_counts().sort_index()\n",
    "section_counts"
   ]
  },
  {
   "cell_type": "code",
   "execution_count": 218,
   "metadata": {},
   "outputs": [
    {
     "data": {
      "text/plain": [
       "Def_Action_Section\n",
       "(0.0, 17.5]      34.291281\n",
       "(17.5, 35.0]     17.194350\n",
       "(35.0, 52.5]     13.930833\n",
       "(52.5, 70.0]     15.684364\n",
       "(70.0, 87.5]     12.810521\n",
       "(87.5, 105.0]     6.088651\n",
       "Name: count, dtype: float64"
      ]
     },
     "execution_count": 218,
     "metadata": {},
     "output_type": "execute_result"
    }
   ],
   "source": [
    "section_counts_percentage = (section_counts / section_counts.sum()) * 100\n",
    "section_counts_percentage"
   ]
  },
  {
   "cell_type": "code",
   "execution_count": 425,
   "metadata": {},
   "outputs": [
    {
     "data": {
      "text/plain": [
       "array([34.29128105, 17.19434973, 13.93083293, 15.68436434, 12.81052119,\n",
       "        6.08865075])"
      ]
     },
     "execution_count": 425,
     "metadata": {},
     "output_type": "execute_result"
    }
   ],
   "source": []
  },
  {
   "cell_type": "code",
   "execution_count": null,
   "metadata": {},
   "outputs": [],
   "source": []
  },
  {
   "cell_type": "code",
   "execution_count": 446,
   "metadata": {},
   "outputs": [
    {
     "name": "stdout",
     "output_type": "stream",
     "text": [
      "#00f900\n",
      "#007d00\n",
      "#006500\n",
      "#007200\n",
      "#005d00\n",
      "#002c00\n"
     ]
    },
    {
     "data": {
      "image/png": "[encoded data removed]",
      "text/plain": [
       "<Figure size 1200x800 with 1 Axes>"
      ]
     },
     "metadata": {},
     "output_type": "display_data"
    }
   ],
   "source": [
    "from mplsoccer import Pitch\n",
    "import matplotlib.pyplot as plt\n",
    "import matplotlib.patches as patches\n",
    "import math\n",
    "\n",
    "# Define the data for plotting\n",
    "sections = [\"(0.0, 17.5]\", \"(17.5, 35.0]\", \"(35.0, 52.5]\", \"(52.5, 70.0]\", \"(70.0, 87.5]\", \"(87.5, 105.0]\"]\n",
    "percentages = section_counts_percentage.values\n",
    "\n",
    "# Determine the max value from percentages rounded up to the nearest multiple of 5\n",
    "max_val = math.ceil(max(percentages) / 5) * 5\n",
    "\n",
    "# Function to calculate green color based on percentage\n",
    "def get_green_color(percentage):\n",
    "    green_intensity = int((percentage / max_val) * 255)\n",
    "    return f'#00{green_intensity:02x}00'\n",
    "\n",
    "# Define pitch\n",
    "pitch = Pitch(pitch_color='#2B2B2B', line_color='white', goal_type='box', pitch_type='uefa', linewidth=1)\n",
    "fig, ax = pitch.draw(figsize=(12, 8))\n",
    "\n",
    "# Set figure and axis background color\n",
    "fig.patch.set_facecolor('#2B2B2B')\n",
    "\n",
    "gap_width = 0.5  # Width of the gap between rectangles, adjust as needed\n",
    "\n",
    "# Add the percentage rectangles to the pitch\n",
    "for i, percentage in enumerate(percentages):\n",
    "    # Calculate start position for each section\n",
    "    start_pos = float(sections[i].split(', ')[0][1:])\n",
    "    end_pos = float(sections[i].split(', ')[1][:-1])\n",
    "\n",
    "    # Adjust the start_pos to include the gap_width except for the first bar\n",
    "    if i != 0:  # not the first bar\n",
    "        start_pos += gap_width\n",
    "\n",
    "    # Adjust the section width to account for the gap except for the last bar\n",
    "    section_width = end_pos - start_pos\n",
    "    if i != len(percentages) - 1:  # not the last bar\n",
    "        section_width -= gap_width\n",
    "\n",
    "    # Get the green color based on the percentage\n",
    "    color = get_green_color(percentage)\n",
    "    print(color)\n",
    "\n",
    "    # Create a rectangle patch for each segment\n",
    "    rect = patches.Rectangle((start_pos, 0), section_width, 68,\n",
    "                             linewidth=1, edgecolor='black', facecolor=color, alpha=0.6, zorder=2)\n",
    "    ax.add_patch(rect)\n",
    "\n",
    "    # Add text label in the center of each rectangle\n",
    "    ax.text(start_pos + section_width / 2, 8, str(int(percentage)) + '%', fontproperties='Roboto',\n",
    "            va='center', ha='center', color='white', fontsize=16, zorder=3)\n",
    "\n",
    "# Add the scale rectangles and text labels at the bottom of the pitch\n",
    "scale_height = 3  # Reduced height of the scale rectangles by half\n",
    "scale_y_position = -10  # Position of the scale rectangles (negative to be below the pitch)\n",
    "scale_length = 105 / 2.5  # Half the pitch length for scale\n",
    "scale_start = (105 - scale_length) / 2.25  # Centering the scale\n",
    "\n",
    "# Create the scale based on the reduced scale length\n",
    "for i in range(0, max_val + 1, 5):\n",
    "    # Calculate the start position and width for each scale section\n",
    "    start_pos = scale_start + (i / max_val) * scale_length\n",
    "    section_width = scale_length / (max_val / 5)\n",
    "\n",
    "    # Get the green color based on the scale value\n",
    "    color = get_green_color(i)\n",
    "\n",
    "    # Create a rectangle patch for each scale segment\n",
    "    rect = patches.Rectangle((start_pos, scale_y_position), section_width, scale_height,\n",
    "                             linewidth=1, edgecolor='black', facecolor=color, alpha=0.6, zorder=2)\n",
    "    ax.add_patch(rect)\n",
    "\n",
    "    if i == 0 or i == ((max_val)):\n",
    "    # Add the text label for the scale value\n",
    "        ax.text(start_pos + (section_width / 2), scale_y_position - (0.5*scale_height),\n",
    "                f'{i}%',  # Text label for the scale percentage\n",
    "                color='white',\n",
    "                fontsize=10,\n",
    "                ha='center', va='top',  # Center horizontally, align to the top vertically\n",
    "                zorder=3)\n",
    "\n",
    "# Adjust the limits of the axis to accommodate the scale\n",
    "ax.set_ylim(bottom=-10)  # Increase the bottom limit to make space for the scale\n",
    "\n",
    "# Show the plot\n",
    "plt.show()"
   ]
  },
  {
   "cell_type": "code",
   "execution_count": 386,
   "metadata": {},
   "outputs": [
    {
     "data": {
      "text/plain": [
       "30"
      ]
     },
     "execution_count": 386,
     "metadata": {},
     "output_type": "execute_result"
    }
   ],
   "source": [
    "max_val"
   ]
  },
  {
   "cell_type": "code",
   "execution_count": null,
   "metadata": {},
   "outputs": [],
   "source": []
  },
  {
   "cell_type": "code",
   "execution_count": 70,
   "metadata": {},
   "outputs": [],
   "source": [
    "## ---------------------------------------------------------------- ##"
   ]
  },
  {
   "cell_type": "code",
   "execution_count": null,
   "metadata": {},
   "outputs": [],
   "source": [
    "df_events['TYPE_NAME']"
   ]
  },
  {
   "cell_type": "code",
   "execution_count": 196,
   "metadata": {},
   "outputs": [],
   "source": [
    "set_piece_cross_events2 = df_events[df_events['TYPE_NAME'].isin(['freekick_crossed', 'corner_crossed'])]"
   ]
  },
  {
   "cell_type": "code",
   "execution_count": 197,
   "metadata": {},
   "outputs": [],
   "source": [
    "set_piece_cross_events2.reset_index(drop=True, inplace=True)"
   ]
  },
  {
   "cell_type": "code",
   "execution_count": 198,
   "metadata": {},
   "outputs": [],
   "source": [
    "## Only interested in crosses that end up in the box\n",
    "set_piece_cross_events2 = set_piece_cross_events2[set_piece_cross_events2['END_X'] >= 88.5]\n",
    "set_piece_cross_events2 = set_piece_cross_events2[set_piece_cross_events2['END_Y'] <= 54.16]\n",
    "set_piece_cross_events2 = set_piece_cross_events2[set_piece_cross_events2['END_Y'] >= 13.84]"
   ]
  },
  {
   "cell_type": "code",
   "execution_count": 199,
   "metadata": {},
   "outputs": [],
   "source": [
    "## Now, we want to cateogrize each cross as a \"near post\", \"central\", or \"far post\" cross\n",
    "\"\"\" \n",
    "If START_Y < 30.34, then:\n",
    "    - Near post is where END_Y is < 30.34\n",
    "    - Central is where END_Y is between 30.34 and 37.66\n",
    "    - Far post is where END_Y is > 37.66\n",
    "\n",
    "If START_Y > 37.66, then:\n",
    "    - Near post is where END_Y is > 37.66\n",
    "    - Central is where END_Y is between 30.34 and 37.66\n",
    "    - Far post is where END_Y is < 30.34\n",
    "\"\"\"\n",
    "\n",
    "def classify_cross(row):\n",
    "    if row['START_Y'] < 30.34:\n",
    "        if row['END_Y'] < 30.34:\n",
    "            return 'Near post'\n",
    "        elif row['END_Y'] > 37.66:\n",
    "            return 'Far post'\n",
    "        elif row['END_Y'] >= 30.34 and row['END_Y'] <= 37.66:\n",
    "            return 'Central'\n",
    "    elif row['START_Y'] > 37.66:\n",
    "        if row['END_Y'] > 37.66:\n",
    "            return 'Near post'\n",
    "        elif row['END_Y'] < 30.34:\n",
    "            return 'Far post'\n",
    "        elif row['END_Y'] >= 30.34 and row['END_Y'] <= 37.66:\n",
    "            return 'Central'\n",
    "    else:\n",
    "        return 'Not Classified' "
   ]
  },
  {
   "cell_type": "code",
   "execution_count": 200,
   "metadata": {},
   "outputs": [],
   "source": [
    "set_piece_cross_events2['Cross_end_location'] = \"NaN\"\n",
    "set_piece_cross_events2['Cross_end_location'] = set_piece_cross_events2.apply(classify_cross, axis=1)"
   ]
  },
  {
   "cell_type": "code",
   "execution_count": 201,
   "metadata": {},
   "outputs": [],
   "source": [
    "filter_help = set_piece_cross_events2[['MATCH_ID', 'ACTION_ID']].copy()\n",
    "filter_help['ACTION_ID'] += 1"
   ]
  },
  {
   "cell_type": "code",
   "execution_count": 202,
   "metadata": {},
   "outputs": [],
   "source": [
    "set_piece_cross_1st_contacts = df_events.merge(filter_help, on=['MATCH_ID', 'ACTION_ID'], how='inner')"
   ]
  },
  {
   "cell_type": "code",
   "execution_count": 203,
   "metadata": {},
   "outputs": [],
   "source": [
    "for index, row in filtered_matches.iterrows():\n",
    "    home_team_id = row['HOME_TEAM_ID']\n",
    "    away_team_id = row['AWAY_TEAM_ID']\n",
    "    \n",
    "    inds_to_replace = set_piece_cross_1st_contacts[set_piece_cross_1st_contacts['MATCH_ID'] == row['MATCH_ID']].index\n",
    "    set_piece_cross_1st_contacts.loc[inds_to_replace, 'OPPO_TEAM_ID'] = set_piece_cross_1st_contacts.loc[inds_to_replace].apply(swap_team_id, axis=1, args=(home_team_id, away_team_id))"
   ]
  },
  {
   "cell_type": "code",
   "execution_count": 204,
   "metadata": {},
   "outputs": [],
   "source": [
    "for index, row in filtered_matches.iterrows():\n",
    "    home_team_id = row['HOME_TEAM_ID']\n",
    "    away_team_id = row['AWAY_TEAM_ID']\n",
    "    \n",
    "    inds_to_replace = set_piece_cross_events2[set_piece_cross_events2['MATCH_ID'] == row['MATCH_ID']].index\n",
    "    set_piece_cross_events2.loc[inds_to_replace, 'OPPO_TEAM_ID'] = set_piece_cross_events2.loc[inds_to_replace].apply(swap_team_id, axis=1, args=(home_team_id, away_team_id))"
   ]
  },
  {
   "cell_type": "code",
   "execution_count": 205,
   "metadata": {},
   "outputs": [],
   "source": [
    "set_piece_cross_1st_contacts = set_piece_cross_1st_contacts.merge(team_names_2.rename({'TEAM_NAME':'OPPO_TEAM_NAME'}, axis=1),\n",
    "                                                                  on=\"OPPO_TEAM_ID\")\n",
    "set_piece_cross_events2 = set_piece_cross_events2.merge(team_names_2.rename({'TEAM_NAME':'OPPO_TEAM_NAME'}, axis=1),\n",
    "                                                                  on=\"OPPO_TEAM_ID\")"
   ]
  },
  {
   "cell_type": "code",
   "execution_count": 206,
   "metadata": {},
   "outputs": [],
   "source": [
    "set_piece_cross_1st_contacts = set_piece_cross_1st_contacts.merge(team_names[['TEAM_NAME', 'TEAM_FBREF_ID']], on=\"TEAM_FBREF_ID\")\n",
    "set_piece_cross_events2 = set_piece_cross_events2.merge(team_names[['TEAM_NAME', 'TEAM_FBREF_ID']], on=\"TEAM_FBREF_ID\")"
   ]
  },
  {
   "cell_type": "code",
   "execution_count": 207,
   "metadata": {},
   "outputs": [],
   "source": [
    "set_piece_cross_1st_contacts.sort_values(by=['MATCH_ID', 'ACTION_ID'], inplace=True)\n",
    "set_piece_cross_1st_contacts.reset_index(drop=True, inplace=True)"
   ]
  },
  {
   "cell_type": "code",
   "execution_count": 208,
   "metadata": {},
   "outputs": [],
   "source": [
    "set_piece_cross_events2.sort_values(by=['MATCH_ID', 'ACTION_ID'], inplace=True)\n",
    "set_piece_cross_events2.reset_index(drop=True, inplace=True)"
   ]
  },
  {
   "cell_type": "code",
   "execution_count": 209,
   "metadata": {},
   "outputs": [
    {
     "data": {
      "text/plain": [
       "(3992, 17)"
      ]
     },
     "execution_count": 209,
     "metadata": {},
     "output_type": "execute_result"
    }
   ],
   "source": [
    "set_piece_cross_1st_contacts.shape"
   ]
  },
  {
   "cell_type": "code",
   "execution_count": 210,
   "metadata": {},
   "outputs": [
    {
     "data": {
      "text/plain": [
       "(3992, 18)"
      ]
     },
     "execution_count": 210,
     "metadata": {},
     "output_type": "execute_result"
    }
   ],
   "source": [
    "set_piece_cross_events2.shape"
   ]
  },
  {
   "cell_type": "code",
   "execution_count": 211,
   "metadata": {},
   "outputs": [],
   "source": [
    "set_piece_cross_1st_contacts['Cross_end_location'] = set_piece_cross_events2['Cross_end_location']"
   ]
  },
  {
   "cell_type": "code",
   "execution_count": null,
   "metadata": {},
   "outputs": [],
   "source": []
  },
  {
   "cell_type": "code",
   "execution_count": 212,
   "metadata": {},
   "outputs": [],
   "source": [
    "set_piece_same_1st_contacts = set_piece_cross_1st_contacts[set_piece_cross_events2.TEAM_FBREF_ID == set_piece_cross_1st_contacts.TEAM_FBREF_ID]\n",
    "set_piece_other_1st_contacts = set_piece_cross_1st_contacts[set_piece_cross_events2.TEAM_FBREF_ID != set_piece_cross_1st_contacts.TEAM_FBREF_ID]"
   ]
  },
  {
   "cell_type": "code",
   "execution_count": null,
   "metadata": {},
   "outputs": [],
   "source": []
  },
  {
   "cell_type": "code",
   "execution_count": null,
   "metadata": {},
   "outputs": [],
   "source": []
  },
  {
   "cell_type": "code",
   "execution_count": 213,
   "metadata": {},
   "outputs": [],
   "source": [
    "## Those that Arsenal have lost the 1st contact\n",
    "def_team_lost_1st_contact = set_piece_same_1st_contacts[set_piece_same_1st_contacts['OPPO_TEAM_NAME'] == 'Brentford']"
   ]
  },
  {
   "cell_type": "code",
   "execution_count": 214,
   "metadata": {},
   "outputs": [],
   "source": [
    "## Those that Arsenal have won the 1st contact\n",
    "def_team_won_1st_contact = set_piece_other_1st_contacts[set_piece_other_1st_contacts['TEAM_NAME'] == 'Brentford']"
   ]
  },
  {
   "cell_type": "code",
   "execution_count": 215,
   "metadata": {},
   "outputs": [
    {
     "data": {
      "text/plain": [
       "Cross_end_location\n",
       "Central      30\n",
       "Far post     20\n",
       "Near post     8\n",
       "Name: count, dtype: int64"
      ]
     },
     "execution_count": 215,
     "metadata": {},
     "output_type": "execute_result"
    }
   ],
   "source": [
    "def_team_lost_1st_contact.value_counts('Cross_end_location')"
   ]
  },
  {
   "cell_type": "code",
   "execution_count": 501,
   "metadata": {},
   "outputs": [],
   "source": [
    "def_set_piece_final = def_team_won_1st_contact.value_counts('Cross_end_location')/(def_team_won_1st_contact.value_counts('Cross_end_location')+def_team_lost_1st_contact.value_counts('Cross_end_location'))"
   ]
  },
  {
   "cell_type": "code",
   "execution_count": 508,
   "metadata": {},
   "outputs": [],
   "source": [
    "def_set_piece_final = def_set_piece_final * 100"
   ]
  },
  {
   "cell_type": "code",
   "execution_count": 510,
   "metadata": {},
   "outputs": [
    {
     "data": {
      "text/plain": [
       "Cross_end_location\n",
       "Central      74.137931\n",
       "Far post     50.000000\n",
       "Near post    83.673469\n",
       "Name: count, dtype: float64"
      ]
     },
     "execution_count": 510,
     "metadata": {},
     "output_type": "execute_result"
    }
   ],
   "source": [
    "def_set_piece_final"
   ]
  },
  {
   "cell_type": "code",
   "execution_count": null,
   "metadata": {},
   "outputs": [],
   "source": []
  },
  {
   "cell_type": "code",
   "execution_count": null,
   "metadata": {},
   "outputs": [],
   "source": []
  },
  {
   "cell_type": "code",
   "execution_count": 438,
   "metadata": {},
   "outputs": [],
   "source": [
    "from mplsoccer import VerticalPitch"
   ]
  },
  {
   "cell_type": "code",
   "execution_count": 518,
   "metadata": {},
   "outputs": [
    {
     "data": {
      "image/png": "[encoded data removed]",
      "text/plain": [
       "<Figure size 800x1200 with 1 Axes>"
      ]
     },
     "metadata": {},
     "output_type": "display_data"
    }
   ],
   "source": [
    "from mplsoccer import VerticalPitch\n",
    "import matplotlib.pyplot as plt\n",
    "import matplotlib.patches as patches\n",
    "\n",
    "\n",
    "\n",
    "\n",
    "# Initialize a vertical pitch\n",
    "pitch = VerticalPitch(pitch_color='#2B2B2B', line_color='white', goal_type='box', pitch_type='uefa', linewidth=1, half=True)\n",
    "fig, ax = pitch.draw(figsize=(8, 12))\n",
    "\n",
    "# Define the coordinates for the rectangles\n",
    "rect_coords = [\n",
    "    [(13.84, 105), (13.84, 88.5), (30.09, 88.5), (30.09, 105)],  # Rect1\n",
    "    [(30.59, 105), (30.59, 88.5), (37.41, 88.5), (37.41, 105)],  # Rect2\n",
    "    [(37.91, 105), (37.91, 88.5), (54.16, 88.5), (54.16, 105)]  # Rect3\n",
    "]\n",
    "\n",
    "# Example percentages for each rectangle (use your actual values here)\n",
    "percentages = [def_set_piece_final['Near post'], def_set_piece_final['Central'], def_set_piece_final['Far post']]\n",
    "\n",
    "# Function to calculate green color based on percentage\n",
    "def get_green_color(percentage, max_percentage=100):  # Assuming 100 is the max percentage\n",
    "    green_intensity = int((percentage / max_percentage) * 255)\n",
    "    print(f'#00{green_intensity:02x}00')\n",
    "    return f'#00{green_intensity:02x}00'\n",
    "\n",
    "# Create the rectangular patches\n",
    "for i, coords in enumerate(rect_coords):\n",
    "    polygon = patches.Polygon(coords, closed=True, color=\"#00b200\", zorder=2,  alpha=0.75)\n",
    "    ax.add_patch(polygon)\n",
    "    \n",
    "    # Add text label in the center of each rectangle\n",
    "    rect_center_x = (coords[0][0] + coords[2][0]) / 2 \n",
    "    rect_center_y = (coords[0][1] + coords[2][1]) / 2\n",
    "    ax.text(rect_center_x, rect_center_y, f'{int(percentages[i])}%',fontproperties='Roboto',\n",
    "            va='center', ha='center', color='white', fontsize=18, zorder=3)\n",
    "\n",
    "# Set figure and axis background color\n",
    "fig.patch.set_facecolor('#2B2B2B')\n",
    "ax.patch.set_facecolor('#2B2B2B')\n",
    "\n",
    "arrow_start = (0, 107)  # Adjust these values as needed for your plot\n",
    "arrow_end = (18.84, 107)    # Adjust these values as needed for your plot\n",
    "\n",
    "# Draw the arrow\n",
    "ax.add_patch(patches.FancyArrow(\n",
    "    arrow_start[0], arrow_start[1],  # x, y start point\n",
    "    arrow_end[0] - arrow_start[0], arrow_end[1] - arrow_start[1],  # dx, dy length\n",
    "    width=0.3,  # Width of the full arrow tail\n",
    "    length_includes_head=False,  # The head is included in the calculation of the arrow's length\n",
    "    head_width=1,  # Width of the arrow head\n",
    "    head_length=1.5,  # Length of the arrow head\n",
    "    color='lightgrey'  # Light grey color\n",
    "))\n",
    "\n",
    "# Show the plot\n",
    "plt.show()\n"
   ]
  },
  {
   "cell_type": "code",
   "execution_count": null,
   "metadata": {},
   "outputs": [],
   "source": []
  },
  {
   "cell_type": "code",
   "execution_count": null,
   "metadata": {},
   "outputs": [],
   "source": []
  }
 ],
 "metadata": {
  "kernelspec": {
   "display_name": "footy",
   "language": "python",
   "name": "python3"
  },
  "language_info": {
   "codemirror_mode": {
    "name": "ipython",
    "version": 3
   },
   "file_extension": ".py",
   "mimetype": "text/x-python",
   "name": "python",
   "nbconvert_exporter": "python",
   "pygments_lexer": "ipython3",
   "version": "3.11.5"
  }
 },
 "nbformat": 4,
 "nbformat_minor": 2
}
